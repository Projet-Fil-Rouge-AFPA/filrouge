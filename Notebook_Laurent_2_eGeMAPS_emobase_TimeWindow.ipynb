{
 "metadata": {
  "language_info": {
   "codemirror_mode": {
    "name": "ipython",
    "version": 3
   },
   "file_extension": ".py",
   "mimetype": "text/x-python",
   "name": "python",
   "nbconvert_exporter": "python",
   "pygments_lexer": "ipython3",
   "version": "3.8.5"
  },
  "orig_nbformat": 2,
  "kernelspec": {
   "name": "python3",
   "display_name": "Python 3.8.5 64-bit ('base': conda)"
  },
  "metadata": {
   "interpreter": {
    "hash": "148f6ed9de8dadedbbd96ef8a7e818f87aaafab3c59f5306aa9910b4f09c5b3f"
   }
  },
  "interpreter": {
   "hash": "148f6ed9de8dadedbbd96ef8a7e818f87aaafab3c59f5306aa9910b4f09c5b3f"
  }
 },
 "nbformat": 4,
 "nbformat_minor": 2,
 "cells": [
  {
   "cell_type": "code",
   "execution_count": 1,
   "metadata": {},
   "outputs": [],
   "source": [
    "import numpy as np \n",
    "import pandas as pd \n",
    "import matplotlib.pyplot as plt \n",
    "import pathlib"
   ]
  },
  {
   "source": [
    "## Loading data"
   ],
   "cell_type": "markdown",
   "metadata": {}
  },
  {
   "cell_type": "code",
   "execution_count": 5,
   "metadata": {},
   "outputs": [],
   "source": [
    "directory_path = '../../04_-_Dev/videos'\n",
    "features = 'emobase_eGeMAPS'"
   ]
  },
  {
   "cell_type": "code",
   "execution_count": 6,
   "metadata": {},
   "outputs": [],
   "source": [
    "df_total = pd.read_pickle(directory_path + '/audio_' + features + '_data.p')"
   ]
  },
  {
   "cell_type": "code",
   "execution_count": 7,
   "metadata": {},
   "outputs": [
    {
     "output_type": "execute_result",
     "data": {
      "text/plain": [
       "(2573581, 96)"
      ]
     },
     "metadata": {},
     "execution_count": 7
    }
   ],
   "source": [
    "df_total.shape"
   ]
  },
  {
   "cell_type": "code",
   "execution_count": 8,
   "metadata": {},
   "outputs": [
    {
     "output_type": "execute_result",
     "data": {
      "text/plain": [
       "30"
      ]
     },
     "metadata": {},
     "execution_count": 8
    }
   ],
   "source": [
    "df_total.video_name.nunique()"
   ]
  },
  {
   "cell_type": "code",
   "execution_count": 9,
   "metadata": {},
   "outputs": [
    {
     "output_type": "execute_result",
     "data": {
      "text/plain": [
       "Empty DataFrame\n",
       "Columns: [frameIndex, frameTime, pcm_intensity_sma, pcm_loudness_sma, mfcc_sma[1], mfcc_sma[2], mfcc_sma[3], mfcc_sma[4], mfcc_sma[5], mfcc_sma[6], mfcc_sma[7], mfcc_sma[8], mfcc_sma[9], mfcc_sma[10], mfcc_sma[11], mfcc_sma[12], lspFreq_sma[0], lspFreq_sma[1], lspFreq_sma[2], lspFreq_sma[3], lspFreq_sma[4], lspFreq_sma[5], lspFreq_sma[6], lspFreq_sma[7], pcm_zcr_sma, voiceProb_sma, F0_sma, F0env_sma, pcm_intensity_sma_de, pcm_loudness_sma_de, mfcc_sma_de[1], mfcc_sma_de[2], mfcc_sma_de[3], mfcc_sma_de[4], mfcc_sma_de[5], mfcc_sma_de[6], mfcc_sma_de[7], mfcc_sma_de[8], mfcc_sma_de[9], mfcc_sma_de[10], mfcc_sma_de[11], mfcc_sma_de[12], lspFreq_sma_de[0], lspFreq_sma_de[1], lspFreq_sma_de[2], lspFreq_sma_de[3], lspFreq_sma_de[4], lspFreq_sma_de[5], lspFreq_sma_de[6], lspFreq_sma_de[7], pcm_zcr_sma_de, voiceProb_sma_de, F0_sma_de, F0env_sma_de, alphaRatio_sma3, hammarbergIndex_sma3, slope0-500_sma3, slope500-1500_sma3, spectralFlux_sma3, F0semitoneFrom27.5Hz_sma3nz, jitterLocal_sma3nz, shimmerLocaldB_sma3nz, HNRdBACF_sma3nz, logRelF0-H1-H2_sma3nz, logRelF0-H1-A3_sma3nz, F1frequency_sma3nz, F1bandwidth_sma3nz, F1amplitudeLogRelF0_sma3nz, F2frequency_sma3nz, F2amplitudeLogRelF0_sma3nz, F3frequency_sma3nz, F3amplitudeLogRelF0_sma3nz, alphaRatio_sma3_de, hammarbergIndex_sma3_de, slope0-500_sma3_de, slope500-1500_sma3_de, spectralFlux_sma3_de, F0semitoneFrom27.5Hz_sma3nz_de, jitterLocal_sma3nz_de, shimmerLocaldB_sma3nz_de, HNRdBACF_sma3nz_de, logRelF0-H1-H2_sma3nz_de, logRelF0-H1-A3_sma3nz_de, F1frequency_sma3nz_de, F1bandwidth_sma3nz_de, F1amplitudeLogRelF0_sma3nz_de, F2frequency_sma3nz_de, F2amplitudeLogRelF0_sma3nz_de, F3frequency_sma3nz_de, F3amplitudeLogRelF0_sma3nz_de, video_name, stress_global, type_candidat, sexe, stress, diapo]\n",
       "Index: []\n",
       "\n",
       "[0 rows x 96 columns]"
      ],
      "text/html": "<div>\n<style scoped>\n    .dataframe tbody tr th:only-of-type {\n        vertical-align: middle;\n    }\n\n    .dataframe tbody tr th {\n        vertical-align: top;\n    }\n\n    .dataframe thead th {\n        text-align: right;\n    }\n</style>\n<table border=\"1\" class=\"dataframe\">\n  <thead>\n    <tr style=\"text-align: right;\">\n      <th></th>\n      <th>frameIndex</th>\n      <th>frameTime</th>\n      <th>pcm_intensity_sma</th>\n      <th>pcm_loudness_sma</th>\n      <th>mfcc_sma[1]</th>\n      <th>mfcc_sma[2]</th>\n      <th>mfcc_sma[3]</th>\n      <th>mfcc_sma[4]</th>\n      <th>mfcc_sma[5]</th>\n      <th>mfcc_sma[6]</th>\n      <th>...</th>\n      <th>F2frequency_sma3nz_de</th>\n      <th>F2amplitudeLogRelF0_sma3nz_de</th>\n      <th>F3frequency_sma3nz_de</th>\n      <th>F3amplitudeLogRelF0_sma3nz_de</th>\n      <th>video_name</th>\n      <th>stress_global</th>\n      <th>type_candidat</th>\n      <th>sexe</th>\n      <th>stress</th>\n      <th>diapo</th>\n    </tr>\n  </thead>\n  <tbody>\n  </tbody>\n</table>\n<p>0 rows × 96 columns</p>\n</div>"
     },
     "metadata": {},
     "execution_count": 9
    }
   ],
   "source": [
    "df_total[df_total.isna().any(axis=1)]"
   ]
  },
  {
   "source": [
    "## Data processing"
   ],
   "cell_type": "markdown",
   "metadata": {}
  },
  {
   "cell_type": "code",
   "execution_count": 11,
   "metadata": {},
   "outputs": [],
   "source": [
    "time_window = 5\n",
    "df_total['frameTimeWindow'] = df_total.frameTime.apply(lambda x : np.floor(x / time_window) * time_window).astype(int)"
   ]
  },
  {
   "cell_type": "code",
   "execution_count": 12,
   "metadata": {},
   "outputs": [],
   "source": [
    "from scipy.stats import kurtosis, skew\n",
    "\n",
    "def percentil25(x): \n",
    "    return np.percentile(x, q=25)\n",
    "\n",
    "def percentil75(x): \n",
    "    return np.percentile(x, q=75)"
   ]
  },
  {
   "cell_type": "code",
   "execution_count": 13,
   "metadata": {},
   "outputs": [],
   "source": [
    "# 5 seconds windows\n",
    "X = df_total.iloc[:,2:].groupby(['video_name','diapo','frameTimeWindow']).agg({'mean','min','max', 'median', 'std', percentil25, percentil75, kurtosis, skew}).iloc[:,:-18]"
   ]
  },
  {
   "cell_type": "code",
   "execution_count": 14,
   "metadata": {},
   "outputs": [],
   "source": [
    "y = df_total.iloc[:,3:].groupby(['video_name','diapo','frameTimeWindow']).agg({'stress':'min'}).iloc[:,-1]"
   ]
  },
  {
   "cell_type": "code",
   "execution_count": 15,
   "metadata": {},
   "outputs": [],
   "source": [
    "X.to_pickle(directory_path + '/audio_' + features + '_tw5_data_X.p')\n",
    "y.to_pickle(directory_path + '/audio_' + features + '_tw5_data_y.p')"
   ]
  },
  {
   "cell_type": "code",
   "execution_count": 16,
   "metadata": {},
   "outputs": [],
   "source": [
    "from scipy.stats import kurtosis, skew\n",
    "X_audio = df_total.loc[df_total['diapo'].isin([8, 9, 10, 11, 17]),:].iloc[:,2:].groupby(['video_name','diapo','frameTimeWindow']).agg({'mean','min','max', 'median', 'std', percentil25, percentil75, kurtosis, skew}).iloc[:,:-18]\n",
    "y_audio = df_total.loc[df_total['diapo'].isin([8, 9, 10, 11, 17]),:].iloc[:,2:].groupby(['video_name','diapo','frameTimeWindow']).agg({'stress':'mean'}).iloc[:,-1]"
   ]
  },
  {
   "cell_type": "code",
   "execution_count": 17,
   "metadata": {},
   "outputs": [],
   "source": [
    "X_audio.to_pickle(directory_path + '/audio_' + features + '_tw5_data_X_audio_questions_only.p')\n",
    "y_audio.to_pickle(directory_path + '/audio_' + features + '_tw5_data_y_audio_questions_only.p')"
   ]
  },
  {
   "source": [
    "## Modèles"
   ],
   "cell_type": "markdown",
   "metadata": {}
  },
  {
   "cell_type": "code",
   "execution_count": 18,
   "metadata": {},
   "outputs": [],
   "source": [
    "X = pd.read_pickle(directory_path + '/audio_' + features + '_tw5_data_X.p')\n",
    "y = pd.read_pickle(directory_path + '/audio_' + features + '_tw5_data_y.p')\n",
    "\n",
    "X_audio = pd.read_pickle(directory_path + '/audio_' + features + '_tw5_data_X_audio_questions_only.p')\n",
    "y_audio = pd.read_pickle(directory_path + '/audio_' + features + '_tw5_data_y_audio_questions_only.p')"
   ]
  },
  {
   "cell_type": "code",
   "execution_count": 19,
   "metadata": {},
   "outputs": [],
   "source": [
    "X = X.fillna(0)\n",
    "X_audio = X_audio.fillna(0)"
   ]
  },
  {
   "source": [
    "## Stress par diapos\n",
    "### All diapos"
   ],
   "cell_type": "markdown",
   "metadata": {}
  },
  {
   "cell_type": "code",
   "execution_count": 21,
   "metadata": {},
   "outputs": [
    {
     "output_type": "stream",
     "name": "stdout",
     "text": [
      "Fitting 30 folds for each of 50 candidates, totalling 1500 fits\n",
      "[Parallel(n_jobs=1)]: Using backend SequentialBackend with 1 concurrent workers.\n",
      "[Parallel(n_jobs=1)]: Done 1500 out of 1500 | elapsed: 118.0min finished\n",
      "Best results 0.4410820121016199\n",
      "Best params {'class_weight': None, 'max_depth': 25, 'n_estimators': 100}\n",
      "accuracy (mean, std) 0.44753414895219035 0.20909936801440648\n",
      "f1 (mean, std) 0.4410820121016199 0.21421490442691712\n",
      "balanced accuracy (mean, std) 0.4359010719510516 0.18146746822295337\n",
      "precision (mean, std) 0.5851920904882791 0.23676273007526016\n",
      "recall (mean, std) 0.44753414895219035 0.20909936801440648\n"
     ]
    }
   ],
   "source": [
    "parameters = {'n_estimators': [100, 150, 200, 250, 300], 'max_depth':[10, 15, 20, 25, 30], 'class_weight':[None,'balanced']}\n",
    "\n",
    "from sklearn.model_selection import LeaveOneGroupOut\n",
    "from sklearn.ensemble import RandomForestClassifier, RandomForestRegressor\n",
    "from sklearn.model_selection import cross_val_predict, GridSearchCV\n",
    "from sklearn.metrics import accuracy_score, f1_score\n",
    "import warnings\n",
    "warnings.filterwarnings(\"ignore\")\n",
    "\n",
    "groups = X.reset_index()['video_name']\n",
    "loo = LeaveOneGroupOut()\n",
    "cv_loo = loo.split(X, y, groups)\n",
    "X_no_name = X\n",
    "y_no_name = y\n",
    "\n",
    "model = RandomForestClassifier(random_state = 42, n_jobs=-1)\n",
    "\n",
    "clf = GridSearchCV(estimator=model, \n",
    "                    param_grid=parameters, \n",
    "                    scoring={'accuracy_score' : 'accuracy', 'f1_score' : 'f1_weighted' , \n",
    "                             'balanced_accuracy_score' : 'balanced_accuracy', \n",
    "                             'precision' : 'precision_weighted', 'recall' : 'recall_weighted'}, \n",
    "                    refit= 'f1_score' ,#'accuracy_score',\n",
    "                    cv=cv_loo, verbose=1)\n",
    "clf.fit(X_no_name, y_no_name)\n",
    "print('Best results', clf.best_score_)\n",
    "print('Best params', clf.best_params_)\n",
    "print('accuracy (mean, std)', clf.cv_results_['mean_test_accuracy_score'][clf.best_index_], clf.cv_results_['std_test_accuracy_score'][clf.best_index_])\n",
    "print('f1 (mean, std)', clf.cv_results_['mean_test_f1_score'][clf.best_index_], clf.cv_results_['std_test_f1_score'][clf.best_index_])\n",
    "print('balanced accuracy (mean, std)', clf.cv_results_['mean_test_balanced_accuracy_score'][clf.best_index_], clf.cv_results_['std_test_balanced_accuracy_score'][clf.best_index_])\n",
    "print('precision (mean, std)', clf.cv_results_['mean_test_precision'][clf.best_index_], clf.cv_results_['std_test_precision'][clf.best_index_])\n",
    "print('recall (mean, std)', clf.cv_results_['mean_test_recall'][clf.best_index_], clf.cv_results_['std_test_recall'][clf.best_index_])"
   ]
  },
  {
   "cell_type": "code",
   "execution_count": 22,
   "metadata": {},
   "outputs": [],
   "source": [
    "# Getting predictions with a leave one interview out\n",
    "from sklearn.model_selection import LeaveOneGroupOut\n",
    "from sklearn.ensemble import RandomForestClassifier, RandomForestRegressor\n",
    "groups = X.reset_index()['video_name']\n",
    "loo = LeaveOneGroupOut()\n",
    "cv_loo = loo.split(X, y, groups)\n",
    "\n",
    "#model = RandomForestClassifier(random_state = 42, n_jobs=-1, max_depth= 10, n_estimators= 50)\n",
    "model = clf.best_estimator_\n",
    "\n",
    "ytest_predict = np.zeros(len(y))\n",
    "for train_index, test_index in loo.split(X, y, groups):\n",
    "    #print(train_index, test_index)\n",
    "    Xtrain, Xtest = X.iloc[train_index], X.iloc[test_index]\n",
    "    ytrain, ytest = y.iloc[train_index], y.iloc[test_index]\n",
    "\n",
    "    model.fit(Xtrain, ytrain)\n",
    "    ytest_predict_temp = model.predict(Xtest)\n",
    "    #print(ytest_predict_temp.shape)\n",
    "    #print(test_index.shape)\n",
    "    ytest_predict[test_index] = ytest_predict_temp\n",
    "y_predict = ytest_predict\n",
    "\n",
    "df_ypredict = pd.concat([X.reset_index()[['video_name','diapo','frameTimeWindow']],pd.DataFrame(y_predict, columns=['ypredict'])],axis=1)\n",
    "df_ypredict.columns = ['video_name','diapo','frameTimeWindow','ypredict']\n",
    "df_ypredict.to_csv('ypredict_' + features + '_tw5_2.csv')"
   ]
  },
  {
   "cell_type": "code",
   "execution_count": 23,
   "metadata": {},
   "outputs": [
    {
     "output_type": "execute_result",
     "data": {
      "text/plain": [
       "array([[ 652, 1269,  143,    0],\n",
       "       [ 810, 1704,   76,    0],\n",
       "       [ 324,  317,   12,    0],\n",
       "       [   7,   13,    0,    0]])"
      ]
     },
     "metadata": {},
     "execution_count": 23
    }
   ],
   "source": [
    "from sklearn.metrics import confusion_matrix\n",
    "confusion_matrix(y, y_predict)"
   ]
  },
  {
   "cell_type": "code",
   "execution_count": 24,
   "metadata": {},
   "outputs": [],
   "source": [
    "df_ypredict = pd.read_csv('ypredict_' + features + '_tw5_2.csv')\n",
    "df_ypredict = df_ypredict.iloc[:,1:]\n",
    "df_ypredict.columns = ['video_name','diapo','frameTimeWindow','ypredict']\n",
    "df_ypredict['ypredict'] = df_ypredict['ypredict'].astype(int)\n"
   ]
  },
  {
   "cell_type": "code",
   "execution_count": 25,
   "metadata": {},
   "outputs": [
    {
     "output_type": "execute_result",
     "data": {
      "text/plain": [
       "ypredict                                0         1         2\n",
       "video_name                diapo                              \n",
       "Test_pour_AFPA            1      0.147059  0.088235  0.764706\n",
       "                          8      0.200000  0.700000  0.100000\n",
       "                          9      0.150000  0.700000  0.150000\n",
       "                          10     0.000000  0.666667  0.333333\n",
       "                          11     0.150000  0.550000  0.300000\n",
       "...                                   ...       ...       ...\n",
       "WIN_20210417_14_53_12_Pro 10     0.428571  0.571429  0.000000\n",
       "                          11     0.400000  0.600000  0.000000\n",
       "                          12     0.121212  0.878788  0.000000\n",
       "                          17     0.571429  0.428571  0.000000\n",
       "                          18     0.347826  0.652174  0.000000\n",
       "\n",
       "[240 rows x 3 columns]"
      ],
      "text/html": "<div>\n<style scoped>\n    .dataframe tbody tr th:only-of-type {\n        vertical-align: middle;\n    }\n\n    .dataframe tbody tr th {\n        vertical-align: top;\n    }\n\n    .dataframe thead th {\n        text-align: right;\n    }\n</style>\n<table border=\"1\" class=\"dataframe\">\n  <thead>\n    <tr style=\"text-align: right;\">\n      <th></th>\n      <th>ypredict</th>\n      <th>0</th>\n      <th>1</th>\n      <th>2</th>\n    </tr>\n    <tr>\n      <th>video_name</th>\n      <th>diapo</th>\n      <th></th>\n      <th></th>\n      <th></th>\n    </tr>\n  </thead>\n  <tbody>\n    <tr>\n      <th rowspan=\"5\" valign=\"top\">Test_pour_AFPA</th>\n      <th>1</th>\n      <td>0.147059</td>\n      <td>0.088235</td>\n      <td>0.764706</td>\n    </tr>\n    <tr>\n      <th>8</th>\n      <td>0.200000</td>\n      <td>0.700000</td>\n      <td>0.100000</td>\n    </tr>\n    <tr>\n      <th>9</th>\n      <td>0.150000</td>\n      <td>0.700000</td>\n      <td>0.150000</td>\n    </tr>\n    <tr>\n      <th>10</th>\n      <td>0.000000</td>\n      <td>0.666667</td>\n      <td>0.333333</td>\n    </tr>\n    <tr>\n      <th>11</th>\n      <td>0.150000</td>\n      <td>0.550000</td>\n      <td>0.300000</td>\n    </tr>\n    <tr>\n      <th>...</th>\n      <th>...</th>\n      <td>...</td>\n      <td>...</td>\n      <td>...</td>\n    </tr>\n    <tr>\n      <th rowspan=\"5\" valign=\"top\">WIN_20210417_14_53_12_Pro</th>\n      <th>10</th>\n      <td>0.428571</td>\n      <td>0.571429</td>\n      <td>0.000000</td>\n    </tr>\n    <tr>\n      <th>11</th>\n      <td>0.400000</td>\n      <td>0.600000</td>\n      <td>0.000000</td>\n    </tr>\n    <tr>\n      <th>12</th>\n      <td>0.121212</td>\n      <td>0.878788</td>\n      <td>0.000000</td>\n    </tr>\n    <tr>\n      <th>17</th>\n      <td>0.571429</td>\n      <td>0.428571</td>\n      <td>0.000000</td>\n    </tr>\n    <tr>\n      <th>18</th>\n      <td>0.347826</td>\n      <td>0.652174</td>\n      <td>0.000000</td>\n    </tr>\n  </tbody>\n</table>\n<p>240 rows × 3 columns</p>\n</div>"
     },
     "metadata": {},
     "execution_count": 25
    }
   ],
   "source": [
    "X = df_ypredict.pivot_table(values='frameTimeWindow', columns='ypredict', index=['video_name','diapo'], aggfunc='count', fill_value=0)\n",
    "X_sum = X.sum(axis=1).values.copy()\n",
    "for col_number in range(len(X.columns)):\n",
    "    X.iloc[:,col_number] = X.iloc[:,col_number] / X_sum\n",
    "X\n",
    " "
   ]
  },
  {
   "cell_type": "code",
   "execution_count": 26,
   "metadata": {},
   "outputs": [],
   "source": [
    "# Autre méthode\n",
    "X = df_ypredict.groupby(['video_name','diapo']).agg({'ypredict':['mean','min','max', 'median', 'std', percentil25, percentil75, kurtosis, skew]})"
   ]
  },
  {
   "cell_type": "code",
   "execution_count": 27,
   "metadata": {},
   "outputs": [
    {
     "output_type": "execute_result",
     "data": {
      "text/plain": [
       "                                 ypredict                           \\\n",
       "                                     mean min max median       std   \n",
       "video_name                diapo                                      \n",
       "Test_pour_AFPA            1      1.617647   0   2    2.0  0.739152   \n",
       "                          8      0.900000   0   2    1.0  0.567646   \n",
       "                          9      1.000000   0   2    1.0  0.561951   \n",
       "                          10     1.333333   1   2    1.0  0.487950   \n",
       "                          11     1.150000   0   2    1.0  0.670820   \n",
       "...                                   ...  ..  ..    ...       ...   \n",
       "WIN_20210417_14_53_12_Pro 10     0.571429   0   1    1.0  0.513553   \n",
       "                          11     0.600000   0   1    1.0  0.502625   \n",
       "                          12     0.878788   0   1    1.0  0.331434   \n",
       "                          17     0.428571   0   1    0.0  0.534522   \n",
       "                          18     0.652174   0   1    1.0  0.486985   \n",
       "\n",
       "                                                                             \n",
       "                                percentil25 percentil75  kurtosis      skew  \n",
       "video_name                diapo                                              \n",
       "Test_pour_AFPA            1             2.0         2.0  0.684926 -1.555231  \n",
       "                          8             1.0         1.0  0.302021 -0.076839  \n",
       "                          9             1.0         1.0  0.333333  0.000000  \n",
       "                          10            1.0         2.0 -1.500000  0.707107  \n",
       "                          11            1.0         2.0 -0.706063 -0.163677  \n",
       "...                                     ...         ...       ...       ...  \n",
       "WIN_20210417_14_53_12_Pro 10            0.0         1.0 -1.916667 -0.288675  \n",
       "                          11            0.0         1.0 -1.833333 -0.408248  \n",
       "                          12            1.0         1.0  3.387931 -2.321192  \n",
       "                          17            0.0         1.0 -1.916667  0.288675  \n",
       "                          18            0.0         1.0 -1.591667 -0.639010  \n",
       "\n",
       "[240 rows x 9 columns]"
      ],
      "text/html": "<div>\n<style scoped>\n    .dataframe tbody tr th:only-of-type {\n        vertical-align: middle;\n    }\n\n    .dataframe tbody tr th {\n        vertical-align: top;\n    }\n\n    .dataframe thead tr th {\n        text-align: left;\n    }\n\n    .dataframe thead tr:last-of-type th {\n        text-align: right;\n    }\n</style>\n<table border=\"1\" class=\"dataframe\">\n  <thead>\n    <tr>\n      <th></th>\n      <th></th>\n      <th colspan=\"9\" halign=\"left\">ypredict</th>\n    </tr>\n    <tr>\n      <th></th>\n      <th></th>\n      <th>mean</th>\n      <th>min</th>\n      <th>max</th>\n      <th>median</th>\n      <th>std</th>\n      <th>percentil25</th>\n      <th>percentil75</th>\n      <th>kurtosis</th>\n      <th>skew</th>\n    </tr>\n    <tr>\n      <th>video_name</th>\n      <th>diapo</th>\n      <th></th>\n      <th></th>\n      <th></th>\n      <th></th>\n      <th></th>\n      <th></th>\n      <th></th>\n      <th></th>\n      <th></th>\n    </tr>\n  </thead>\n  <tbody>\n    <tr>\n      <th rowspan=\"5\" valign=\"top\">Test_pour_AFPA</th>\n      <th>1</th>\n      <td>1.617647</td>\n      <td>0</td>\n      <td>2</td>\n      <td>2.0</td>\n      <td>0.739152</td>\n      <td>2.0</td>\n      <td>2.0</td>\n      <td>0.684926</td>\n      <td>-1.555231</td>\n    </tr>\n    <tr>\n      <th>8</th>\n      <td>0.900000</td>\n      <td>0</td>\n      <td>2</td>\n      <td>1.0</td>\n      <td>0.567646</td>\n      <td>1.0</td>\n      <td>1.0</td>\n      <td>0.302021</td>\n      <td>-0.076839</td>\n    </tr>\n    <tr>\n      <th>9</th>\n      <td>1.000000</td>\n      <td>0</td>\n      <td>2</td>\n      <td>1.0</td>\n      <td>0.561951</td>\n      <td>1.0</td>\n      <td>1.0</td>\n      <td>0.333333</td>\n      <td>0.000000</td>\n    </tr>\n    <tr>\n      <th>10</th>\n      <td>1.333333</td>\n      <td>1</td>\n      <td>2</td>\n      <td>1.0</td>\n      <td>0.487950</td>\n      <td>1.0</td>\n      <td>2.0</td>\n      <td>-1.500000</td>\n      <td>0.707107</td>\n    </tr>\n    <tr>\n      <th>11</th>\n      <td>1.150000</td>\n      <td>0</td>\n      <td>2</td>\n      <td>1.0</td>\n      <td>0.670820</td>\n      <td>1.0</td>\n      <td>2.0</td>\n      <td>-0.706063</td>\n      <td>-0.163677</td>\n    </tr>\n    <tr>\n      <th>...</th>\n      <th>...</th>\n      <td>...</td>\n      <td>...</td>\n      <td>...</td>\n      <td>...</td>\n      <td>...</td>\n      <td>...</td>\n      <td>...</td>\n      <td>...</td>\n      <td>...</td>\n    </tr>\n    <tr>\n      <th rowspan=\"5\" valign=\"top\">WIN_20210417_14_53_12_Pro</th>\n      <th>10</th>\n      <td>0.571429</td>\n      <td>0</td>\n      <td>1</td>\n      <td>1.0</td>\n      <td>0.513553</td>\n      <td>0.0</td>\n      <td>1.0</td>\n      <td>-1.916667</td>\n      <td>-0.288675</td>\n    </tr>\n    <tr>\n      <th>11</th>\n      <td>0.600000</td>\n      <td>0</td>\n      <td>1</td>\n      <td>1.0</td>\n      <td>0.502625</td>\n      <td>0.0</td>\n      <td>1.0</td>\n      <td>-1.833333</td>\n      <td>-0.408248</td>\n    </tr>\n    <tr>\n      <th>12</th>\n      <td>0.878788</td>\n      <td>0</td>\n      <td>1</td>\n      <td>1.0</td>\n      <td>0.331434</td>\n      <td>1.0</td>\n      <td>1.0</td>\n      <td>3.387931</td>\n      <td>-2.321192</td>\n    </tr>\n    <tr>\n      <th>17</th>\n      <td>0.428571</td>\n      <td>0</td>\n      <td>1</td>\n      <td>0.0</td>\n      <td>0.534522</td>\n      <td>0.0</td>\n      <td>1.0</td>\n      <td>-1.916667</td>\n      <td>0.288675</td>\n    </tr>\n    <tr>\n      <th>18</th>\n      <td>0.652174</td>\n      <td>0</td>\n      <td>1</td>\n      <td>1.0</td>\n      <td>0.486985</td>\n      <td>0.0</td>\n      <td>1.0</td>\n      <td>-1.591667</td>\n      <td>-0.639010</td>\n    </tr>\n  </tbody>\n</table>\n<p>240 rows × 9 columns</p>\n</div>"
     },
     "metadata": {},
     "execution_count": 27
    }
   ],
   "source": [
    "X"
   ]
  },
  {
   "cell_type": "code",
   "execution_count": 28,
   "metadata": {},
   "outputs": [
    {
     "output_type": "execute_result",
     "data": {
      "text/plain": [
       "                    video_name  diapo  stress\n",
       "0               Test_pour_AFPA      1     1.0\n",
       "1               Test_pour_AFPA      8     1.0\n",
       "2               Test_pour_AFPA      9     0.0\n",
       "3               Test_pour_AFPA     10     0.0\n",
       "4               Test_pour_AFPA     11     0.0\n",
       "..                         ...    ...     ...\n",
       "235  WIN_20210417_14_53_12_Pro     10     0.0\n",
       "236  WIN_20210417_14_53_12_Pro     11     0.0\n",
       "237  WIN_20210417_14_53_12_Pro     12     0.0\n",
       "238  WIN_20210417_14_53_12_Pro     17     1.0\n",
       "239  WIN_20210417_14_53_12_Pro     18     1.0\n",
       "\n",
       "[240 rows x 3 columns]"
      ],
      "text/html": "<div>\n<style scoped>\n    .dataframe tbody tr th:only-of-type {\n        vertical-align: middle;\n    }\n\n    .dataframe tbody tr th {\n        vertical-align: top;\n    }\n\n    .dataframe thead th {\n        text-align: right;\n    }\n</style>\n<table border=\"1\" class=\"dataframe\">\n  <thead>\n    <tr style=\"text-align: right;\">\n      <th></th>\n      <th>video_name</th>\n      <th>diapo</th>\n      <th>stress</th>\n    </tr>\n  </thead>\n  <tbody>\n    <tr>\n      <th>0</th>\n      <td>Test_pour_AFPA</td>\n      <td>1</td>\n      <td>1.0</td>\n    </tr>\n    <tr>\n      <th>1</th>\n      <td>Test_pour_AFPA</td>\n      <td>8</td>\n      <td>1.0</td>\n    </tr>\n    <tr>\n      <th>2</th>\n      <td>Test_pour_AFPA</td>\n      <td>9</td>\n      <td>0.0</td>\n    </tr>\n    <tr>\n      <th>3</th>\n      <td>Test_pour_AFPA</td>\n      <td>10</td>\n      <td>0.0</td>\n    </tr>\n    <tr>\n      <th>4</th>\n      <td>Test_pour_AFPA</td>\n      <td>11</td>\n      <td>0.0</td>\n    </tr>\n    <tr>\n      <th>...</th>\n      <td>...</td>\n      <td>...</td>\n      <td>...</td>\n    </tr>\n    <tr>\n      <th>235</th>\n      <td>WIN_20210417_14_53_12_Pro</td>\n      <td>10</td>\n      <td>0.0</td>\n    </tr>\n    <tr>\n      <th>236</th>\n      <td>WIN_20210417_14_53_12_Pro</td>\n      <td>11</td>\n      <td>0.0</td>\n    </tr>\n    <tr>\n      <th>237</th>\n      <td>WIN_20210417_14_53_12_Pro</td>\n      <td>12</td>\n      <td>0.0</td>\n    </tr>\n    <tr>\n      <th>238</th>\n      <td>WIN_20210417_14_53_12_Pro</td>\n      <td>17</td>\n      <td>1.0</td>\n    </tr>\n    <tr>\n      <th>239</th>\n      <td>WIN_20210417_14_53_12_Pro</td>\n      <td>18</td>\n      <td>1.0</td>\n    </tr>\n  </tbody>\n</table>\n<p>240 rows × 3 columns</p>\n</div>"
     },
     "metadata": {},
     "execution_count": 28
    }
   ],
   "source": [
    "df_annotations_stress = pd.read_csv('annotations.csv')\n",
    "df_annotations_stress = df_annotations_stress.drop(df_annotations_stress.columns[-1],axis=1).set_index('video_name').stack()\n",
    "df_annotations_stress = pd.DataFrame(df_annotations_stress).reset_index()\n",
    "df_annotations_stress.columns = ['video_name','diapo','stress']\n",
    "#df_annotations_stress = df_annotations_stress.set_index(['video_name','diapo'])\n",
    "df_annotations_stress['diapo'] = df_annotations_stress['diapo'].astype(int)\n",
    "df_annotations_stress"
   ]
  },
  {
   "cell_type": "code",
   "execution_count": 29,
   "metadata": {},
   "outputs": [],
   "source": [
    "Xy = X.merge(df_annotations_stress, how='inner', on=['video_name','diapo'])\n",
    "X = Xy.iloc[:,:-1].set_index(['video_name','diapo'])\n",
    "y = Xy.iloc[:,-1]"
   ]
  },
  {
   "cell_type": "code",
   "execution_count": 30,
   "metadata": {},
   "outputs": [
    {
     "output_type": "execute_result",
     "data": {
      "text/plain": [
       "                                 (ypredict, mean)  (ypredict, min)  \\\n",
       "video_name                diapo                                      \n",
       "Test_pour_AFPA            1              1.617647                0   \n",
       "                          8              0.900000                0   \n",
       "                          9              1.000000                0   \n",
       "                          10             1.333333                1   \n",
       "                          11             1.150000                0   \n",
       "...                                           ...              ...   \n",
       "WIN_20210417_14_53_12_Pro 10             0.571429                0   \n",
       "                          11             0.600000                0   \n",
       "                          12             0.878788                0   \n",
       "                          17             0.428571                0   \n",
       "                          18             0.652174                0   \n",
       "\n",
       "                                 (ypredict, max)  (ypredict, median)  \\\n",
       "video_name                diapo                                        \n",
       "Test_pour_AFPA            1                    2                 2.0   \n",
       "                          8                    2                 1.0   \n",
       "                          9                    2                 1.0   \n",
       "                          10                   2                 1.0   \n",
       "                          11                   2                 1.0   \n",
       "...                                          ...                 ...   \n",
       "WIN_20210417_14_53_12_Pro 10                   1                 1.0   \n",
       "                          11                   1                 1.0   \n",
       "                          12                   1                 1.0   \n",
       "                          17                   1                 0.0   \n",
       "                          18                   1                 1.0   \n",
       "\n",
       "                                 (ypredict, std)  (ypredict, percentil25)  \\\n",
       "video_name                diapo                                             \n",
       "Test_pour_AFPA            1             0.739152                      2.0   \n",
       "                          8             0.567646                      1.0   \n",
       "                          9             0.561951                      1.0   \n",
       "                          10            0.487950                      1.0   \n",
       "                          11            0.670820                      1.0   \n",
       "...                                          ...                      ...   \n",
       "WIN_20210417_14_53_12_Pro 10            0.513553                      0.0   \n",
       "                          11            0.502625                      0.0   \n",
       "                          12            0.331434                      1.0   \n",
       "                          17            0.534522                      0.0   \n",
       "                          18            0.486985                      0.0   \n",
       "\n",
       "                                 (ypredict, percentil75)  \\\n",
       "video_name                diapo                            \n",
       "Test_pour_AFPA            1                          2.0   \n",
       "                          8                          1.0   \n",
       "                          9                          1.0   \n",
       "                          10                         2.0   \n",
       "                          11                         2.0   \n",
       "...                                                  ...   \n",
       "WIN_20210417_14_53_12_Pro 10                         1.0   \n",
       "                          11                         1.0   \n",
       "                          12                         1.0   \n",
       "                          17                         1.0   \n",
       "                          18                         1.0   \n",
       "\n",
       "                                 (ypredict, kurtosis)  (ypredict, skew)  \n",
       "video_name                diapo                                          \n",
       "Test_pour_AFPA            1                  0.684926         -1.555231  \n",
       "                          8                  0.302021         -0.076839  \n",
       "                          9                  0.333333          0.000000  \n",
       "                          10                -1.500000          0.707107  \n",
       "                          11                -0.706063         -0.163677  \n",
       "...                                               ...               ...  \n",
       "WIN_20210417_14_53_12_Pro 10                -1.916667         -0.288675  \n",
       "                          11                -1.833333         -0.408248  \n",
       "                          12                 3.387931         -2.321192  \n",
       "                          17                -1.916667          0.288675  \n",
       "                          18                -1.591667         -0.639010  \n",
       "\n",
       "[240 rows x 9 columns]"
      ],
      "text/html": "<div>\n<style scoped>\n    .dataframe tbody tr th:only-of-type {\n        vertical-align: middle;\n    }\n\n    .dataframe tbody tr th {\n        vertical-align: top;\n    }\n\n    .dataframe thead th {\n        text-align: right;\n    }\n</style>\n<table border=\"1\" class=\"dataframe\">\n  <thead>\n    <tr style=\"text-align: right;\">\n      <th></th>\n      <th></th>\n      <th>(ypredict, mean)</th>\n      <th>(ypredict, min)</th>\n      <th>(ypredict, max)</th>\n      <th>(ypredict, median)</th>\n      <th>(ypredict, std)</th>\n      <th>(ypredict, percentil25)</th>\n      <th>(ypredict, percentil75)</th>\n      <th>(ypredict, kurtosis)</th>\n      <th>(ypredict, skew)</th>\n    </tr>\n    <tr>\n      <th>video_name</th>\n      <th>diapo</th>\n      <th></th>\n      <th></th>\n      <th></th>\n      <th></th>\n      <th></th>\n      <th></th>\n      <th></th>\n      <th></th>\n      <th></th>\n    </tr>\n  </thead>\n  <tbody>\n    <tr>\n      <th rowspan=\"5\" valign=\"top\">Test_pour_AFPA</th>\n      <th>1</th>\n      <td>1.617647</td>\n      <td>0</td>\n      <td>2</td>\n      <td>2.0</td>\n      <td>0.739152</td>\n      <td>2.0</td>\n      <td>2.0</td>\n      <td>0.684926</td>\n      <td>-1.555231</td>\n    </tr>\n    <tr>\n      <th>8</th>\n      <td>0.900000</td>\n      <td>0</td>\n      <td>2</td>\n      <td>1.0</td>\n      <td>0.567646</td>\n      <td>1.0</td>\n      <td>1.0</td>\n      <td>0.302021</td>\n      <td>-0.076839</td>\n    </tr>\n    <tr>\n      <th>9</th>\n      <td>1.000000</td>\n      <td>0</td>\n      <td>2</td>\n      <td>1.0</td>\n      <td>0.561951</td>\n      <td>1.0</td>\n      <td>1.0</td>\n      <td>0.333333</td>\n      <td>0.000000</td>\n    </tr>\n    <tr>\n      <th>10</th>\n      <td>1.333333</td>\n      <td>1</td>\n      <td>2</td>\n      <td>1.0</td>\n      <td>0.487950</td>\n      <td>1.0</td>\n      <td>2.0</td>\n      <td>-1.500000</td>\n      <td>0.707107</td>\n    </tr>\n    <tr>\n      <th>11</th>\n      <td>1.150000</td>\n      <td>0</td>\n      <td>2</td>\n      <td>1.0</td>\n      <td>0.670820</td>\n      <td>1.0</td>\n      <td>2.0</td>\n      <td>-0.706063</td>\n      <td>-0.163677</td>\n    </tr>\n    <tr>\n      <th>...</th>\n      <th>...</th>\n      <td>...</td>\n      <td>...</td>\n      <td>...</td>\n      <td>...</td>\n      <td>...</td>\n      <td>...</td>\n      <td>...</td>\n      <td>...</td>\n      <td>...</td>\n    </tr>\n    <tr>\n      <th rowspan=\"5\" valign=\"top\">WIN_20210417_14_53_12_Pro</th>\n      <th>10</th>\n      <td>0.571429</td>\n      <td>0</td>\n      <td>1</td>\n      <td>1.0</td>\n      <td>0.513553</td>\n      <td>0.0</td>\n      <td>1.0</td>\n      <td>-1.916667</td>\n      <td>-0.288675</td>\n    </tr>\n    <tr>\n      <th>11</th>\n      <td>0.600000</td>\n      <td>0</td>\n      <td>1</td>\n      <td>1.0</td>\n      <td>0.502625</td>\n      <td>0.0</td>\n      <td>1.0</td>\n      <td>-1.833333</td>\n      <td>-0.408248</td>\n    </tr>\n    <tr>\n      <th>12</th>\n      <td>0.878788</td>\n      <td>0</td>\n      <td>1</td>\n      <td>1.0</td>\n      <td>0.331434</td>\n      <td>1.0</td>\n      <td>1.0</td>\n      <td>3.387931</td>\n      <td>-2.321192</td>\n    </tr>\n    <tr>\n      <th>17</th>\n      <td>0.428571</td>\n      <td>0</td>\n      <td>1</td>\n      <td>0.0</td>\n      <td>0.534522</td>\n      <td>0.0</td>\n      <td>1.0</td>\n      <td>-1.916667</td>\n      <td>0.288675</td>\n    </tr>\n    <tr>\n      <th>18</th>\n      <td>0.652174</td>\n      <td>0</td>\n      <td>1</td>\n      <td>1.0</td>\n      <td>0.486985</td>\n      <td>0.0</td>\n      <td>1.0</td>\n      <td>-1.591667</td>\n      <td>-0.639010</td>\n    </tr>\n  </tbody>\n</table>\n<p>240 rows × 9 columns</p>\n</div>"
     },
     "metadata": {},
     "execution_count": 30
    }
   ],
   "source": [
    "X"
   ]
  },
  {
   "cell_type": "code",
   "execution_count": 34,
   "metadata": {},
   "outputs": [
    {
     "output_type": "stream",
     "name": "stdout",
     "text": [
      "Fitting 30 folds for each of 44 candidates, totalling 1320 fits\n",
      "[Parallel(n_jobs=1)]: Using backend SequentialBackend with 1 concurrent workers.\n",
      "Best results 0.46468374218374214\n",
      "Best params {'n_neighbors': 7, 'p': 1, 'weights': 'uniform'}\n",
      "accuracy (mean, std) 0.4583333333333333 0.18633899812498245\n",
      "f1 (mean, std) 0.46468374218374214 0.2081739450618909\n",
      "balanced accuracy (mean, std) 0.4529100529100529 0.1997839739228038\n",
      "precision (mean, std) 0.564484126984127 0.26785592298370076\n",
      "recall (mean, std) 0.4583333333333333 0.18633899812498245\n",
      "[Parallel(n_jobs=1)]: Done 1320 out of 1320 | elapsed:   18.2s finished\n"
     ]
    }
   ],
   "source": [
    "parameters = {'C': [0.01, 0.05, 0.1, 0.5, 1, 2, 10, 20], 'class_weight' : [None, 'balanced']}\n",
    "from sklearn.model_selection import LeaveOneGroupOut\n",
    "from sklearn.linear_model import LogisticRegression\n",
    "from sklearn.model_selection import cross_val_predict, GridSearchCV\n",
    "from sklearn.metrics import accuracy_score, f1_score\n",
    "import warnings\n",
    "warnings.filterwarnings(\"ignore\")\n",
    "\n",
    "groups = X.reset_index()['video_name']\n",
    "loo = LeaveOneGroupOut()\n",
    "cv_loo = loo.split(X, y, groups)\n",
    "X_no_name = X\n",
    "y_no_name = y\n",
    "\n",
    "\n",
    "#model = LogisticRegression(multi_class='multinomial', fit_intercept=True, random_state=42)\n",
    "\n",
    "from sklearn.neighbors import KNeighborsClassifier\n",
    "model = KNeighborsClassifier(n_jobs=-1)\n",
    "parameters = {'n_neighbors': [4, 5, 6, 7, 8, 9, 10, 11, 12,  15, 20], 'weights' : ['uniform', 'distance'], 'p': [1, 2]}\n",
    "\n",
    "#from sklearn.ensemble import RandomForestClassifier, RandomForestRegressor\n",
    "#model = RandomForestClassifier(random_state = 42, n_jobs=-1)\n",
    "#parameters = {'n_estimators': [100, 150, 200], 'max_depth':[10, 15, 20], 'class_weight':[None,'balanced']}\n",
    "\n",
    "clf = GridSearchCV(estimator=model, \n",
    "                    param_grid=parameters, \n",
    "                    scoring={'accuracy_score' : 'accuracy', 'f1_score' : 'f1_weighted' , \n",
    "                             'balanced_accuracy_score' : 'balanced_accuracy', \n",
    "                             'precision' : 'precision_weighted', 'recall' : 'recall_weighted'}, \n",
    "                    refit='f1_score',#'accuracy_score',\n",
    "                    cv=cv_loo, verbose=1)\n",
    "clf.fit(X_no_name, y_no_name)\n",
    "print('Best results', clf.best_score_)\n",
    "print('Best params', clf.best_params_)\n",
    "print('accuracy (mean, std)', clf.cv_results_['mean_test_accuracy_score'][clf.best_index_], clf.cv_results_['std_test_accuracy_score'][clf.best_index_])\n",
    "print('f1 (mean, std)', clf.cv_results_['mean_test_f1_score'][clf.best_index_], clf.cv_results_['std_test_f1_score'][clf.best_index_])\n",
    "print('balanced accuracy (mean, std)', clf.cv_results_['mean_test_balanced_accuracy_score'][clf.best_index_], clf.cv_results_['std_test_balanced_accuracy_score'][clf.best_index_])\n",
    "print('precision (mean, std)', clf.cv_results_['mean_test_precision'][clf.best_index_], clf.cv_results_['std_test_precision'][clf.best_index_])\n",
    "print('recall (mean, std)', clf.cv_results_['mean_test_recall'][clf.best_index_], clf.cv_results_['std_test_recall'][clf.best_index_])"
   ]
  },
  {
   "cell_type": "code",
   "execution_count": 35,
   "metadata": {},
   "outputs": [],
   "source": [
    "# Getting predictions with a leave one interview out\n",
    "from sklearn.model_selection import LeaveOneGroupOut\n",
    "from sklearn.linear_model import LogisticRegression\n",
    "groups = X.reset_index()['video_name']\n",
    "loo = LeaveOneGroupOut()\n",
    "cv_loo = loo.split(X, y, groups)\n",
    "\n",
    "model = clf.best_estimator_\n",
    "\n",
    "ytest_predict = np.zeros(len(y))\n",
    "for train_index, test_index in loo.split(X, y, groups):\n",
    "    #print(train_index, test_index)\n",
    "    Xtrain, Xtest = X.iloc[train_index], X.iloc[test_index]\n",
    "    ytrain, ytest = y.iloc[train_index], y.iloc[test_index]\n",
    "\n",
    "    model.fit(Xtrain, ytrain)\n",
    "    ytest_predict_temp = model.predict(Xtest)\n",
    "    #print(ytest_predict_temp.shape)\n",
    "    #print(test_index.shape)\n",
    "    ytest_predict[test_index] = ytest_predict_temp\n",
    "y_predict = ytest_predict\n",
    "\n",
    "df_ypredict = pd.concat([X.reset_index()[['video_name','diapo']],pd.DataFrame(y_predict, columns=['ypredict'])],axis=1)\n",
    "df_ypredict.columns = ['video_name','diapo','ypredict']\n",
    "df_ypredict.to_csv('ypredict_' + features + '_tw5_diapo_2.csv')"
   ]
  },
  {
   "cell_type": "code",
   "execution_count": 36,
   "metadata": {},
   "outputs": [
    {
     "output_type": "execute_result",
     "data": {
      "text/plain": [
       "array([[56, 45,  0,  0],\n",
       "       [58, 53,  2,  0],\n",
       "       [15,  9,  1,  0],\n",
       "       [ 1,  0,  0,  0]])"
      ]
     },
     "metadata": {},
     "execution_count": 36
    }
   ],
   "source": [
    "from sklearn.metrics import confusion_matrix\n",
    "confusion_matrix(y, y_predict)"
   ]
  },
  {
   "cell_type": "code",
   "execution_count": 33,
   "metadata": {},
   "outputs": [],
   "source": [
    "#print(X_no_name.columns[np.argsort(clf.best_estimator_.feature_importances_)[:-20:-1]])"
   ]
  },
  {
   "cell_type": "code",
   "execution_count": null,
   "metadata": {},
   "outputs": [],
   "source": []
  },
  {
   "source": [
    "## Stress global"
   ],
   "cell_type": "markdown",
   "metadata": {}
  },
  {
   "source": [
    "### En utilisant le stress prédit des diapos"
   ],
   "cell_type": "markdown",
   "metadata": {}
  },
  {
   "cell_type": "code",
   "execution_count": 37,
   "metadata": {},
   "outputs": [],
   "source": [
    "df_ypredict = pd.read_csv('ypredict_' + features + '_tw5_diapo_2.csv')\n",
    "df_ypredict = df_ypredict.iloc[:,1:]\n",
    "df_ypredict.columns = ['video_name','diapo','ypredict']\n",
    "ypredict_stress_diapo = df_ypredict.pivot_table(values='ypredict', columns='diapo',index='video_name',aggfunc='mean')\n"
   ]
  },
  {
   "cell_type": "code",
   "execution_count": 38,
   "metadata": {},
   "outputs": [
    {
     "output_type": "execute_result",
     "data": {
      "text/plain": [
       "diapo                             1    8    9    10   11   12   17   18\n",
       "video_name                                                             \n",
       "Test_pour_AFPA                   0.0  1.0  0.0  0.0  0.0  0.0  0.0  0.0\n",
       "Video_1                          0.0  0.0  0.0  1.0  0.0  0.0  1.0  0.0\n",
       "WIN_20210323_19_17_40_Pro        1.0  0.0  1.0  0.0  1.0  1.0  0.0  1.0\n",
       "WIN_20210329_10_16_02_Pro        0.0  1.0  0.0  1.0  0.0  1.0  0.0  0.0\n",
       "WIN_20210330_13_10_29_Pro        0.0  0.0  0.0  0.0  0.0  1.0  0.0  0.0\n",
       "WIN_20210331_21_22_52_Pro        0.0  1.0  1.0  0.0  1.0  1.0  0.0  1.0\n",
       "WIN_20210402_14_27_50_Pro        1.0  0.0  0.0  0.0  0.0  1.0  0.0  2.0\n",
       "WIN_20210402_19_04_53_Pro        1.0  1.0  1.0  0.0  0.0  1.0  2.0  2.0\n",
       "WIN_20210403_18_49_15_Pro        0.0  1.0  1.0  0.0  0.0  1.0  0.0  1.0\n",
       "WIN_20210404_10_58_27_Pro        0.0  0.0  0.0  1.0  1.0  0.0  1.0  0.0\n",
       "WIN_20210404_21_41_12_Pro        1.0  1.0  0.0  1.0  1.0  1.0  1.0  1.0\n",
       "WIN_20210405_15_09_16_Pro        0.0  0.0  0.0  0.0  1.0  1.0  0.0  1.0\n",
       "WIN_20210406_15_06_15_Pro        1.0  1.0  0.0  1.0  0.0  1.0  1.0  1.0\n",
       "WIN_20210406_18_35_52_Pro        1.0  0.0  0.0  0.0  1.0  1.0  1.0  1.0\n",
       "WIN_20210406_18_49_10_Pro        0.0  0.0  1.0  0.0  1.0  0.0  1.0  0.0\n",
       "WIN_20210406_21_05_52_Pro        1.0  1.0  0.0  1.0  0.0  1.0  1.0  0.0\n",
       "WIN_20210407_09_04_05_Pro        1.0  1.0  1.0  1.0  0.0  0.0  1.0  1.0\n",
       "WIN_20210407_14_54_56_Pro_edit2  1.0  0.0  0.0  1.0  1.0  1.0  1.0  1.0\n",
       "WIN_20210408_11_48_58_Pro        0.0  1.0  1.0  1.0  1.0  1.0  0.0  0.0\n",
       "WIN_20210408_14_00_44_Pro        1.0  1.0  1.0  0.0  1.0  0.0  0.0  1.0\n",
       "WIN_20210408_14_02_19_Pro        1.0  0.0  1.0  0.0  0.0  0.0  0.0  0.0\n",
       "WIN_20210408_14_11_32_Pro        0.0  0.0  0.0  0.0  0.0  0.0  0.0  0.0\n",
       "WIN_20210408_15_20_51_Pro        0.0  0.0  0.0  0.0  0.0  1.0  0.0  1.0\n",
       "WIN_20210408_16_04_32_Pro        0.0  1.0  0.0  1.0  1.0  1.0  0.0  1.0\n",
       "WIN_20210409_10_26_11_Pro        0.0  0.0  1.0  0.0  0.0  0.0  0.0  1.0\n",
       "WIN_20210413_15_38_01_Pro        0.0  1.0  1.0  0.0  1.0  0.0  1.0  1.0\n",
       "WIN_20210414_06_24_52_Pro        1.0  0.0  0.0  0.0  0.0  0.0  1.0  0.0\n",
       "WIN_20210415_15_41_24_Pro        0.0  0.0  1.0  1.0  1.0  1.0  1.0  0.0\n",
       "WIN_20210416_08_06_54_Pro        0.0  0.0  0.0  0.0  0.0  0.0  0.0  0.0\n",
       "WIN_20210417_14_53_12_Pro        0.0  0.0  0.0  1.0  0.0  1.0  0.0  1.0"
      ],
      "text/html": "<div>\n<style scoped>\n    .dataframe tbody tr th:only-of-type {\n        vertical-align: middle;\n    }\n\n    .dataframe tbody tr th {\n        vertical-align: top;\n    }\n\n    .dataframe thead th {\n        text-align: right;\n    }\n</style>\n<table border=\"1\" class=\"dataframe\">\n  <thead>\n    <tr style=\"text-align: right;\">\n      <th>diapo</th>\n      <th>1</th>\n      <th>8</th>\n      <th>9</th>\n      <th>10</th>\n      <th>11</th>\n      <th>12</th>\n      <th>17</th>\n      <th>18</th>\n    </tr>\n    <tr>\n      <th>video_name</th>\n      <th></th>\n      <th></th>\n      <th></th>\n      <th></th>\n      <th></th>\n      <th></th>\n      <th></th>\n      <th></th>\n    </tr>\n  </thead>\n  <tbody>\n    <tr>\n      <th>Test_pour_AFPA</th>\n      <td>0.0</td>\n      <td>1.0</td>\n      <td>0.0</td>\n      <td>0.0</td>\n      <td>0.0</td>\n      <td>0.0</td>\n      <td>0.0</td>\n      <td>0.0</td>\n    </tr>\n    <tr>\n      <th>Video_1</th>\n      <td>0.0</td>\n      <td>0.0</td>\n      <td>0.0</td>\n      <td>1.0</td>\n      <td>0.0</td>\n      <td>0.0</td>\n      <td>1.0</td>\n      <td>0.0</td>\n    </tr>\n    <tr>\n      <th>WIN_20210323_19_17_40_Pro</th>\n      <td>1.0</td>\n      <td>0.0</td>\n      <td>1.0</td>\n      <td>0.0</td>\n      <td>1.0</td>\n      <td>1.0</td>\n      <td>0.0</td>\n      <td>1.0</td>\n    </tr>\n    <tr>\n      <th>WIN_20210329_10_16_02_Pro</th>\n      <td>0.0</td>\n      <td>1.0</td>\n      <td>0.0</td>\n      <td>1.0</td>\n      <td>0.0</td>\n      <td>1.0</td>\n      <td>0.0</td>\n      <td>0.0</td>\n    </tr>\n    <tr>\n      <th>WIN_20210330_13_10_29_Pro</th>\n      <td>0.0</td>\n      <td>0.0</td>\n      <td>0.0</td>\n      <td>0.0</td>\n      <td>0.0</td>\n      <td>1.0</td>\n      <td>0.0</td>\n      <td>0.0</td>\n    </tr>\n    <tr>\n      <th>WIN_20210331_21_22_52_Pro</th>\n      <td>0.0</td>\n      <td>1.0</td>\n      <td>1.0</td>\n      <td>0.0</td>\n      <td>1.0</td>\n      <td>1.0</td>\n      <td>0.0</td>\n      <td>1.0</td>\n    </tr>\n    <tr>\n      <th>WIN_20210402_14_27_50_Pro</th>\n      <td>1.0</td>\n      <td>0.0</td>\n      <td>0.0</td>\n      <td>0.0</td>\n      <td>0.0</td>\n      <td>1.0</td>\n      <td>0.0</td>\n      <td>2.0</td>\n    </tr>\n    <tr>\n      <th>WIN_20210402_19_04_53_Pro</th>\n      <td>1.0</td>\n      <td>1.0</td>\n      <td>1.0</td>\n      <td>0.0</td>\n      <td>0.0</td>\n      <td>1.0</td>\n      <td>2.0</td>\n      <td>2.0</td>\n    </tr>\n    <tr>\n      <th>WIN_20210403_18_49_15_Pro</th>\n      <td>0.0</td>\n      <td>1.0</td>\n      <td>1.0</td>\n      <td>0.0</td>\n      <td>0.0</td>\n      <td>1.0</td>\n      <td>0.0</td>\n      <td>1.0</td>\n    </tr>\n    <tr>\n      <th>WIN_20210404_10_58_27_Pro</th>\n      <td>0.0</td>\n      <td>0.0</td>\n      <td>0.0</td>\n      <td>1.0</td>\n      <td>1.0</td>\n      <td>0.0</td>\n      <td>1.0</td>\n      <td>0.0</td>\n    </tr>\n    <tr>\n      <th>WIN_20210404_21_41_12_Pro</th>\n      <td>1.0</td>\n      <td>1.0</td>\n      <td>0.0</td>\n      <td>1.0</td>\n      <td>1.0</td>\n      <td>1.0</td>\n      <td>1.0</td>\n      <td>1.0</td>\n    </tr>\n    <tr>\n      <th>WIN_20210405_15_09_16_Pro</th>\n      <td>0.0</td>\n      <td>0.0</td>\n      <td>0.0</td>\n      <td>0.0</td>\n      <td>1.0</td>\n      <td>1.0</td>\n      <td>0.0</td>\n      <td>1.0</td>\n    </tr>\n    <tr>\n      <th>WIN_20210406_15_06_15_Pro</th>\n      <td>1.0</td>\n      <td>1.0</td>\n      <td>0.0</td>\n      <td>1.0</td>\n      <td>0.0</td>\n      <td>1.0</td>\n      <td>1.0</td>\n      <td>1.0</td>\n    </tr>\n    <tr>\n      <th>WIN_20210406_18_35_52_Pro</th>\n      <td>1.0</td>\n      <td>0.0</td>\n      <td>0.0</td>\n      <td>0.0</td>\n      <td>1.0</td>\n      <td>1.0</td>\n      <td>1.0</td>\n      <td>1.0</td>\n    </tr>\n    <tr>\n      <th>WIN_20210406_18_49_10_Pro</th>\n      <td>0.0</td>\n      <td>0.0</td>\n      <td>1.0</td>\n      <td>0.0</td>\n      <td>1.0</td>\n      <td>0.0</td>\n      <td>1.0</td>\n      <td>0.0</td>\n    </tr>\n    <tr>\n      <th>WIN_20210406_21_05_52_Pro</th>\n      <td>1.0</td>\n      <td>1.0</td>\n      <td>0.0</td>\n      <td>1.0</td>\n      <td>0.0</td>\n      <td>1.0</td>\n      <td>1.0</td>\n      <td>0.0</td>\n    </tr>\n    <tr>\n      <th>WIN_20210407_09_04_05_Pro</th>\n      <td>1.0</td>\n      <td>1.0</td>\n      <td>1.0</td>\n      <td>1.0</td>\n      <td>0.0</td>\n      <td>0.0</td>\n      <td>1.0</td>\n      <td>1.0</td>\n    </tr>\n    <tr>\n      <th>WIN_20210407_14_54_56_Pro_edit2</th>\n      <td>1.0</td>\n      <td>0.0</td>\n      <td>0.0</td>\n      <td>1.0</td>\n      <td>1.0</td>\n      <td>1.0</td>\n      <td>1.0</td>\n      <td>1.0</td>\n    </tr>\n    <tr>\n      <th>WIN_20210408_11_48_58_Pro</th>\n      <td>0.0</td>\n      <td>1.0</td>\n      <td>1.0</td>\n      <td>1.0</td>\n      <td>1.0</td>\n      <td>1.0</td>\n      <td>0.0</td>\n      <td>0.0</td>\n    </tr>\n    <tr>\n      <th>WIN_20210408_14_00_44_Pro</th>\n      <td>1.0</td>\n      <td>1.0</td>\n      <td>1.0</td>\n      <td>0.0</td>\n      <td>1.0</td>\n      <td>0.0</td>\n      <td>0.0</td>\n      <td>1.0</td>\n    </tr>\n    <tr>\n      <th>WIN_20210408_14_02_19_Pro</th>\n      <td>1.0</td>\n      <td>0.0</td>\n      <td>1.0</td>\n      <td>0.0</td>\n      <td>0.0</td>\n      <td>0.0</td>\n      <td>0.0</td>\n      <td>0.0</td>\n    </tr>\n    <tr>\n      <th>WIN_20210408_14_11_32_Pro</th>\n      <td>0.0</td>\n      <td>0.0</td>\n      <td>0.0</td>\n      <td>0.0</td>\n      <td>0.0</td>\n      <td>0.0</td>\n      <td>0.0</td>\n      <td>0.0</td>\n    </tr>\n    <tr>\n      <th>WIN_20210408_15_20_51_Pro</th>\n      <td>0.0</td>\n      <td>0.0</td>\n      <td>0.0</td>\n      <td>0.0</td>\n      <td>0.0</td>\n      <td>1.0</td>\n      <td>0.0</td>\n      <td>1.0</td>\n    </tr>\n    <tr>\n      <th>WIN_20210408_16_04_32_Pro</th>\n      <td>0.0</td>\n      <td>1.0</td>\n      <td>0.0</td>\n      <td>1.0</td>\n      <td>1.0</td>\n      <td>1.0</td>\n      <td>0.0</td>\n      <td>1.0</td>\n    </tr>\n    <tr>\n      <th>WIN_20210409_10_26_11_Pro</th>\n      <td>0.0</td>\n      <td>0.0</td>\n      <td>1.0</td>\n      <td>0.0</td>\n      <td>0.0</td>\n      <td>0.0</td>\n      <td>0.0</td>\n      <td>1.0</td>\n    </tr>\n    <tr>\n      <th>WIN_20210413_15_38_01_Pro</th>\n      <td>0.0</td>\n      <td>1.0</td>\n      <td>1.0</td>\n      <td>0.0</td>\n      <td>1.0</td>\n      <td>0.0</td>\n      <td>1.0</td>\n      <td>1.0</td>\n    </tr>\n    <tr>\n      <th>WIN_20210414_06_24_52_Pro</th>\n      <td>1.0</td>\n      <td>0.0</td>\n      <td>0.0</td>\n      <td>0.0</td>\n      <td>0.0</td>\n      <td>0.0</td>\n      <td>1.0</td>\n      <td>0.0</td>\n    </tr>\n    <tr>\n      <th>WIN_20210415_15_41_24_Pro</th>\n      <td>0.0</td>\n      <td>0.0</td>\n      <td>1.0</td>\n      <td>1.0</td>\n      <td>1.0</td>\n      <td>1.0</td>\n      <td>1.0</td>\n      <td>0.0</td>\n    </tr>\n    <tr>\n      <th>WIN_20210416_08_06_54_Pro</th>\n      <td>0.0</td>\n      <td>0.0</td>\n      <td>0.0</td>\n      <td>0.0</td>\n      <td>0.0</td>\n      <td>0.0</td>\n      <td>0.0</td>\n      <td>0.0</td>\n    </tr>\n    <tr>\n      <th>WIN_20210417_14_53_12_Pro</th>\n      <td>0.0</td>\n      <td>0.0</td>\n      <td>0.0</td>\n      <td>1.0</td>\n      <td>0.0</td>\n      <td>1.0</td>\n      <td>0.0</td>\n      <td>1.0</td>\n    </tr>\n  </tbody>\n</table>\n</div>"
     },
     "metadata": {},
     "execution_count": 38
    }
   ],
   "source": [
    "ypredict_stress_diapo # un peu nul - le modèle prédit 1 partout"
   ]
  },
  {
   "cell_type": "code",
   "execution_count": 39,
   "metadata": {},
   "outputs": [
    {
     "output_type": "execute_result",
     "data": {
      "text/plain": [
       "                                   1    8    9   10   11   12   17   18  \\\n",
       "video_name                                                                \n",
       "Test_pour_AFPA                   1.0  1.0  0.0  0.0  0.0  1.0  0.0  1.0   \n",
       "Video_1                          0.0  0.0  0.0  0.0  1.0  1.0  1.0  1.0   \n",
       "WIN_20210323_19_17_40_Pro        1.0  0.0  1.0  1.0  1.0  1.0  1.0  1.0   \n",
       "WIN_20210329_10_16_02_Pro        0.0  0.0  1.0  1.0  0.0  1.0  0.0  0.0   \n",
       "WIN_20210330_13_10_29_Pro        0.0  0.0  0.0  0.0  1.0  0.0  0.0  0.0   \n",
       "WIN_20210331_21_22_52_Pro        0.0  0.0  1.0  1.0  1.0  1.0  0.0  0.0   \n",
       "WIN_20210402_14_27_50_Pro        1.0  1.0  1.0  2.0  1.0  1.0  1.0  1.0   \n",
       "WIN_20210402_19_04_53_Pro        2.0  1.0  1.0  1.0  1.0  2.0  1.0  2.0   \n",
       "WIN_20210403_18_49_15_Pro        1.0  1.0  1.0  1.0  1.0  2.0  2.0  1.0   \n",
       "WIN_20210404_10_58_27_Pro        0.0  1.0  1.0  1.0  1.0  1.0  1.0  1.0   \n",
       "WIN_20210404_21_41_12_Pro        0.0  0.0  1.0  0.0  0.0  1.0  0.0  1.0   \n",
       "WIN_20210405_15_09_16_Pro        0.0  1.0  1.0  1.0  1.0  0.0  0.0  1.0   \n",
       "WIN_20210406_15_06_15_Pro        1.0  1.0  1.0  1.0  1.0  2.0  1.0  2.0   \n",
       "WIN_20210406_18_35_52_Pro        0.0  0.0  1.0  0.0  0.0  1.0  0.0  1.0   \n",
       "WIN_20210406_18_49_10_Pro        1.0  0.0  1.0  1.0  1.0  1.0  1.0  1.0   \n",
       "WIN_20210406_21_05_52_Pro        1.0  2.0  2.0  1.0  2.0  1.0  1.0  1.0   \n",
       "WIN_20210407_09_04_05_Pro        0.0  0.0  2.0  1.0  3.0  1.0  0.0  2.0   \n",
       "WIN_20210407_14_54_56_Pro_edit2  0.0  0.0  0.0  0.0  0.0  1.0  0.0  1.0   \n",
       "WIN_20210408_11_48_58_Pro        0.0  1.0  1.0  1.0  1.0  1.0  1.0  2.0   \n",
       "WIN_20210408_14_00_44_Pro        0.0  0.0  0.0  0.0  0.0  1.0  0.0  0.0   \n",
       "WIN_20210408_14_02_19_Pro        0.0  1.0  0.0  0.0  0.0  0.0  0.0  1.0   \n",
       "WIN_20210408_14_11_32_Pro        0.0  2.0  2.0  2.0  2.0  1.0  0.0  1.0   \n",
       "WIN_20210408_15_20_51_Pro        0.0  0.0  0.0  0.0  0.0  0.0  0.0  0.0   \n",
       "WIN_20210408_16_04_32_Pro        0.0  0.0  1.0  0.0  0.0  0.0  0.0  0.0   \n",
       "WIN_20210409_10_26_11_Pro        1.0  1.0  0.0  1.0  0.0  0.0  1.0  1.0   \n",
       "WIN_20210413_15_38_01_Pro        1.0  0.0  0.0  0.0  0.0  1.0  1.0  1.0   \n",
       "WIN_20210414_06_24_52_Pro        2.0  2.0  2.0  2.0  2.0  1.0  1.0  2.0   \n",
       "WIN_20210415_15_41_24_Pro        1.0  0.0  0.0  1.0  0.0  0.0  0.0  0.0   \n",
       "WIN_20210416_08_06_54_Pro        1.0  2.0  1.0  1.0  1.0  0.0  0.0  1.0   \n",
       "WIN_20210417_14_53_12_Pro        0.0  0.0  0.0  0.0  0.0  0.0  1.0  1.0   \n",
       "\n",
       "                                 stress_global  \n",
       "video_name                                      \n",
       "Test_pour_AFPA                             1.0  \n",
       "Video_1                                    0.0  \n",
       "WIN_20210323_19_17_40_Pro                  1.0  \n",
       "WIN_20210329_10_16_02_Pro                  1.0  \n",
       "WIN_20210330_13_10_29_Pro                  0.0  \n",
       "WIN_20210331_21_22_52_Pro                  1.0  \n",
       "WIN_20210402_14_27_50_Pro                  1.0  \n",
       "WIN_20210402_19_04_53_Pro                  2.0  \n",
       "WIN_20210403_18_49_15_Pro                  2.0  \n",
       "WIN_20210404_10_58_27_Pro                  1.0  \n",
       "WIN_20210404_21_41_12_Pro                  0.0  \n",
       "WIN_20210405_15_09_16_Pro                  1.0  \n",
       "WIN_20210406_15_06_15_Pro                  2.0  \n",
       "WIN_20210406_18_35_52_Pro                  0.0  \n",
       "WIN_20210406_18_49_10_Pro                  1.0  \n",
       "WIN_20210406_21_05_52_Pro                  2.0  \n",
       "WIN_20210407_09_04_05_Pro                  2.0  \n",
       "WIN_20210407_14_54_56_Pro_edit2            0.0  \n",
       "WIN_20210408_11_48_58_Pro                  2.0  \n",
       "WIN_20210408_14_00_44_Pro                  0.0  \n",
       "WIN_20210408_14_02_19_Pro                  0.0  \n",
       "WIN_20210408_14_11_32_Pro                  2.0  \n",
       "WIN_20210408_15_20_51_Pro                  0.0  \n",
       "WIN_20210408_16_04_32_Pro                  0.0  \n",
       "WIN_20210409_10_26_11_Pro                  0.0  \n",
       "WIN_20210413_15_38_01_Pro                  1.0  \n",
       "WIN_20210414_06_24_52_Pro                  2.0  \n",
       "WIN_20210415_15_41_24_Pro                  0.0  \n",
       "WIN_20210416_08_06_54_Pro                  1.0  \n",
       "WIN_20210417_14_53_12_Pro                  0.0  "
      ],
      "text/html": "<div>\n<style scoped>\n    .dataframe tbody tr th:only-of-type {\n        vertical-align: middle;\n    }\n\n    .dataframe tbody tr th {\n        vertical-align: top;\n    }\n\n    .dataframe thead th {\n        text-align: right;\n    }\n</style>\n<table border=\"1\" class=\"dataframe\">\n  <thead>\n    <tr style=\"text-align: right;\">\n      <th></th>\n      <th>1</th>\n      <th>8</th>\n      <th>9</th>\n      <th>10</th>\n      <th>11</th>\n      <th>12</th>\n      <th>17</th>\n      <th>18</th>\n      <th>stress_global</th>\n    </tr>\n    <tr>\n      <th>video_name</th>\n      <th></th>\n      <th></th>\n      <th></th>\n      <th></th>\n      <th></th>\n      <th></th>\n      <th></th>\n      <th></th>\n      <th></th>\n    </tr>\n  </thead>\n  <tbody>\n    <tr>\n      <th>Test_pour_AFPA</th>\n      <td>1.0</td>\n      <td>1.0</td>\n      <td>0.0</td>\n      <td>0.0</td>\n      <td>0.0</td>\n      <td>1.0</td>\n      <td>0.0</td>\n      <td>1.0</td>\n      <td>1.0</td>\n    </tr>\n    <tr>\n      <th>Video_1</th>\n      <td>0.0</td>\n      <td>0.0</td>\n      <td>0.0</td>\n      <td>0.0</td>\n      <td>1.0</td>\n      <td>1.0</td>\n      <td>1.0</td>\n      <td>1.0</td>\n      <td>0.0</td>\n    </tr>\n    <tr>\n      <th>WIN_20210323_19_17_40_Pro</th>\n      <td>1.0</td>\n      <td>0.0</td>\n      <td>1.0</td>\n      <td>1.0</td>\n      <td>1.0</td>\n      <td>1.0</td>\n      <td>1.0</td>\n      <td>1.0</td>\n      <td>1.0</td>\n    </tr>\n    <tr>\n      <th>WIN_20210329_10_16_02_Pro</th>\n      <td>0.0</td>\n      <td>0.0</td>\n      <td>1.0</td>\n      <td>1.0</td>\n      <td>0.0</td>\n      <td>1.0</td>\n      <td>0.0</td>\n      <td>0.0</td>\n      <td>1.0</td>\n    </tr>\n    <tr>\n      <th>WIN_20210330_13_10_29_Pro</th>\n      <td>0.0</td>\n      <td>0.0</td>\n      <td>0.0</td>\n      <td>0.0</td>\n      <td>1.0</td>\n      <td>0.0</td>\n      <td>0.0</td>\n      <td>0.0</td>\n      <td>0.0</td>\n    </tr>\n    <tr>\n      <th>WIN_20210331_21_22_52_Pro</th>\n      <td>0.0</td>\n      <td>0.0</td>\n      <td>1.0</td>\n      <td>1.0</td>\n      <td>1.0</td>\n      <td>1.0</td>\n      <td>0.0</td>\n      <td>0.0</td>\n      <td>1.0</td>\n    </tr>\n    <tr>\n      <th>WIN_20210402_14_27_50_Pro</th>\n      <td>1.0</td>\n      <td>1.0</td>\n      <td>1.0</td>\n      <td>2.0</td>\n      <td>1.0</td>\n      <td>1.0</td>\n      <td>1.0</td>\n      <td>1.0</td>\n      <td>1.0</td>\n    </tr>\n    <tr>\n      <th>WIN_20210402_19_04_53_Pro</th>\n      <td>2.0</td>\n      <td>1.0</td>\n      <td>1.0</td>\n      <td>1.0</td>\n      <td>1.0</td>\n      <td>2.0</td>\n      <td>1.0</td>\n      <td>2.0</td>\n      <td>2.0</td>\n    </tr>\n    <tr>\n      <th>WIN_20210403_18_49_15_Pro</th>\n      <td>1.0</td>\n      <td>1.0</td>\n      <td>1.0</td>\n      <td>1.0</td>\n      <td>1.0</td>\n      <td>2.0</td>\n      <td>2.0</td>\n      <td>1.0</td>\n      <td>2.0</td>\n    </tr>\n    <tr>\n      <th>WIN_20210404_10_58_27_Pro</th>\n      <td>0.0</td>\n      <td>1.0</td>\n      <td>1.0</td>\n      <td>1.0</td>\n      <td>1.0</td>\n      <td>1.0</td>\n      <td>1.0</td>\n      <td>1.0</td>\n      <td>1.0</td>\n    </tr>\n    <tr>\n      <th>WIN_20210404_21_41_12_Pro</th>\n      <td>0.0</td>\n      <td>0.0</td>\n      <td>1.0</td>\n      <td>0.0</td>\n      <td>0.0</td>\n      <td>1.0</td>\n      <td>0.0</td>\n      <td>1.0</td>\n      <td>0.0</td>\n    </tr>\n    <tr>\n      <th>WIN_20210405_15_09_16_Pro</th>\n      <td>0.0</td>\n      <td>1.0</td>\n      <td>1.0</td>\n      <td>1.0</td>\n      <td>1.0</td>\n      <td>0.0</td>\n      <td>0.0</td>\n      <td>1.0</td>\n      <td>1.0</td>\n    </tr>\n    <tr>\n      <th>WIN_20210406_15_06_15_Pro</th>\n      <td>1.0</td>\n      <td>1.0</td>\n      <td>1.0</td>\n      <td>1.0</td>\n      <td>1.0</td>\n      <td>2.0</td>\n      <td>1.0</td>\n      <td>2.0</td>\n      <td>2.0</td>\n    </tr>\n    <tr>\n      <th>WIN_20210406_18_35_52_Pro</th>\n      <td>0.0</td>\n      <td>0.0</td>\n      <td>1.0</td>\n      <td>0.0</td>\n      <td>0.0</td>\n      <td>1.0</td>\n      <td>0.0</td>\n      <td>1.0</td>\n      <td>0.0</td>\n    </tr>\n    <tr>\n      <th>WIN_20210406_18_49_10_Pro</th>\n      <td>1.0</td>\n      <td>0.0</td>\n      <td>1.0</td>\n      <td>1.0</td>\n      <td>1.0</td>\n      <td>1.0</td>\n      <td>1.0</td>\n      <td>1.0</td>\n      <td>1.0</td>\n    </tr>\n    <tr>\n      <th>WIN_20210406_21_05_52_Pro</th>\n      <td>1.0</td>\n      <td>2.0</td>\n      <td>2.0</td>\n      <td>1.0</td>\n      <td>2.0</td>\n      <td>1.0</td>\n      <td>1.0</td>\n      <td>1.0</td>\n      <td>2.0</td>\n    </tr>\n    <tr>\n      <th>WIN_20210407_09_04_05_Pro</th>\n      <td>0.0</td>\n      <td>0.0</td>\n      <td>2.0</td>\n      <td>1.0</td>\n      <td>3.0</td>\n      <td>1.0</td>\n      <td>0.0</td>\n      <td>2.0</td>\n      <td>2.0</td>\n    </tr>\n    <tr>\n      <th>WIN_20210407_14_54_56_Pro_edit2</th>\n      <td>0.0</td>\n      <td>0.0</td>\n      <td>0.0</td>\n      <td>0.0</td>\n      <td>0.0</td>\n      <td>1.0</td>\n      <td>0.0</td>\n      <td>1.0</td>\n      <td>0.0</td>\n    </tr>\n    <tr>\n      <th>WIN_20210408_11_48_58_Pro</th>\n      <td>0.0</td>\n      <td>1.0</td>\n      <td>1.0</td>\n      <td>1.0</td>\n      <td>1.0</td>\n      <td>1.0</td>\n      <td>1.0</td>\n      <td>2.0</td>\n      <td>2.0</td>\n    </tr>\n    <tr>\n      <th>WIN_20210408_14_00_44_Pro</th>\n      <td>0.0</td>\n      <td>0.0</td>\n      <td>0.0</td>\n      <td>0.0</td>\n      <td>0.0</td>\n      <td>1.0</td>\n      <td>0.0</td>\n      <td>0.0</td>\n      <td>0.0</td>\n    </tr>\n    <tr>\n      <th>WIN_20210408_14_02_19_Pro</th>\n      <td>0.0</td>\n      <td>1.0</td>\n      <td>0.0</td>\n      <td>0.0</td>\n      <td>0.0</td>\n      <td>0.0</td>\n      <td>0.0</td>\n      <td>1.0</td>\n      <td>0.0</td>\n    </tr>\n    <tr>\n      <th>WIN_20210408_14_11_32_Pro</th>\n      <td>0.0</td>\n      <td>2.0</td>\n      <td>2.0</td>\n      <td>2.0</td>\n      <td>2.0</td>\n      <td>1.0</td>\n      <td>0.0</td>\n      <td>1.0</td>\n      <td>2.0</td>\n    </tr>\n    <tr>\n      <th>WIN_20210408_15_20_51_Pro</th>\n      <td>0.0</td>\n      <td>0.0</td>\n      <td>0.0</td>\n      <td>0.0</td>\n      <td>0.0</td>\n      <td>0.0</td>\n      <td>0.0</td>\n      <td>0.0</td>\n      <td>0.0</td>\n    </tr>\n    <tr>\n      <th>WIN_20210408_16_04_32_Pro</th>\n      <td>0.0</td>\n      <td>0.0</td>\n      <td>1.0</td>\n      <td>0.0</td>\n      <td>0.0</td>\n      <td>0.0</td>\n      <td>0.0</td>\n      <td>0.0</td>\n      <td>0.0</td>\n    </tr>\n    <tr>\n      <th>WIN_20210409_10_26_11_Pro</th>\n      <td>1.0</td>\n      <td>1.0</td>\n      <td>0.0</td>\n      <td>1.0</td>\n      <td>0.0</td>\n      <td>0.0</td>\n      <td>1.0</td>\n      <td>1.0</td>\n      <td>0.0</td>\n    </tr>\n    <tr>\n      <th>WIN_20210413_15_38_01_Pro</th>\n      <td>1.0</td>\n      <td>0.0</td>\n      <td>0.0</td>\n      <td>0.0</td>\n      <td>0.0</td>\n      <td>1.0</td>\n      <td>1.0</td>\n      <td>1.0</td>\n      <td>1.0</td>\n    </tr>\n    <tr>\n      <th>WIN_20210414_06_24_52_Pro</th>\n      <td>2.0</td>\n      <td>2.0</td>\n      <td>2.0</td>\n      <td>2.0</td>\n      <td>2.0</td>\n      <td>1.0</td>\n      <td>1.0</td>\n      <td>2.0</td>\n      <td>2.0</td>\n    </tr>\n    <tr>\n      <th>WIN_20210415_15_41_24_Pro</th>\n      <td>1.0</td>\n      <td>0.0</td>\n      <td>0.0</td>\n      <td>1.0</td>\n      <td>0.0</td>\n      <td>0.0</td>\n      <td>0.0</td>\n      <td>0.0</td>\n      <td>0.0</td>\n    </tr>\n    <tr>\n      <th>WIN_20210416_08_06_54_Pro</th>\n      <td>1.0</td>\n      <td>2.0</td>\n      <td>1.0</td>\n      <td>1.0</td>\n      <td>1.0</td>\n      <td>0.0</td>\n      <td>0.0</td>\n      <td>1.0</td>\n      <td>1.0</td>\n    </tr>\n    <tr>\n      <th>WIN_20210417_14_53_12_Pro</th>\n      <td>0.0</td>\n      <td>0.0</td>\n      <td>0.0</td>\n      <td>0.0</td>\n      <td>0.0</td>\n      <td>0.0</td>\n      <td>1.0</td>\n      <td>1.0</td>\n      <td>0.0</td>\n    </tr>\n  </tbody>\n</table>\n</div>"
     },
     "metadata": {},
     "execution_count": 39
    }
   ],
   "source": [
    "df_annotations_stress = pd.read_csv('annotations.csv')\n",
    "#df_annotations_stress = df_annotations_stress.drop(df_annotations_stress.columns[-1],axis=1).set_index('video_name').stack()\n",
    "#df_annotations_stress = pd.DataFrame(df_annotations_stress).reset_index()\n",
    "#df_annotations_stress.columns = ['video_name','diapo','stress']\n",
    "df_annotations_stress = df_annotations_stress.set_index(['video_name'])\n",
    "#df_annotations_stress['diapo'] = df_annotations_stress['diapo'].astype(int)\n",
    "df_annotations_stress"
   ]
  },
  {
   "cell_type": "code",
   "execution_count": 40,
   "metadata": {},
   "outputs": [
    {
     "output_type": "stream",
     "name": "stdout",
     "text": [
      "Fitting 5 folds for each of 12 candidates, totalling 60 fits\n",
      "[Parallel(n_jobs=1)]: Using backend SequentialBackend with 1 concurrent workers.\n",
      "Best results 0.7651587301587301\n",
      "Best params {'C': 0.1, 'class_weight': None}\n",
      "accuracy (mean, std) 0.8 0.0666666666666667\n",
      "f1 (mean, std) 0.7651587301587301 0.11176124986563704\n",
      "balanced accuracy (mean, std) 0.8 0.0666666666666667\n",
      "precision (mean, std) 0.8016666666666665 0.16758635142870432\n",
      "recall (mean, std) 0.8 0.0666666666666667\n",
      "[Parallel(n_jobs=1)]: Done  60 out of  60 | elapsed:    0.7s finished\n"
     ]
    }
   ],
   "source": [
    "# En utilisant les annotations dees stress des diapos comme X\n",
    "from sklearn.linear_model import LogisticRegression\n",
    "from sklearn.model_selection import cross_val_score, GridSearchCV\n",
    "from sklearn.metrics import accuracy_score, f1_score\n",
    "import warnings\n",
    "warnings.filterwarnings(\"ignore\")\n",
    "\n",
    "parameters = {'C': [0.01, 0.05, 0.1, 0.5, 1, 2], 'class_weight' : [None, 'balanced']}\n",
    "\n",
    "X = df_annotations_stress.iloc[:,:-1]\n",
    "#X = ypredict_stress_diapo\n",
    "y = df_annotations_stress.iloc[:,-1]\n",
    "\n",
    "model = LogisticRegression(multi_class='multinomial', fit_intercept=True, random_state=42)\n",
    "clf = GridSearchCV(estimator=model, \n",
    "                    param_grid=parameters, \n",
    "                    scoring={'accuracy_score' : 'accuracy', 'f1_score' : 'f1_weighted' , \n",
    "                             'balanced_accuracy_score' : 'balanced_accuracy', \n",
    "                             'precision' : 'precision_weighted', 'recall' : 'recall_weighted'}, \n",
    "                    refit='f1_score',\n",
    "                    cv=5, verbose=1)\n",
    "clf.fit(X, y)\n",
    "print('Best results', clf.best_score_)\n",
    "print('Best params', clf.best_params_)\n",
    "print('accuracy (mean, std)', clf.cv_results_['mean_test_accuracy_score'][clf.best_index_], clf.cv_results_['std_test_accuracy_score'][clf.best_index_])\n",
    "print('f1 (mean, std)', clf.cv_results_['mean_test_f1_score'][clf.best_index_], clf.cv_results_['std_test_f1_score'][clf.best_index_])\n",
    "print('balanced accuracy (mean, std)', clf.cv_results_['mean_test_balanced_accuracy_score'][clf.best_index_], clf.cv_results_['std_test_balanced_accuracy_score'][clf.best_index_])\n",
    "print('precision (mean, std)', clf.cv_results_['mean_test_precision'][clf.best_index_], clf.cv_results_['std_test_precision'][clf.best_index_])\n",
    "print('recall (mean, std)', clf.cv_results_['mean_test_recall'][clf.best_index_], clf.cv_results_['std_test_recall'][clf.best_index_])\n",
    "# Prediction\n",
    "#clf.best_estimator_.fit(X,y)\n",
    "#ypredict_stress_global = clf.best_estimator_.predict(ypredict_stress_diapo)"
   ]
  },
  {
   "cell_type": "code",
   "execution_count": 45,
   "metadata": {},
   "outputs": [
    {
     "output_type": "execute_result",
     "data": {
      "text/plain": [
       "array([0., 0., 0., 0., 0., 0., 0., 2., 0., 0., 1., 0., 1., 0., 0., 1., 1.,\n",
       "       1., 1., 0., 0., 0., 0., 0., 0., 0., 0., 1., 0., 0.])"
      ]
     },
     "metadata": {},
     "execution_count": 45
    }
   ],
   "source": [
    "clf.best_estimator_.fit(X,y)\n",
    "ypredict_stress_global = clf.best_estimator_.predict(ypredict_stress_diapo)\n",
    "ypredict_stress_global"
   ]
  },
  {
   "cell_type": "code",
   "execution_count": 46,
   "metadata": {},
   "outputs": [
    {
     "output_type": "stream",
     "name": "stdout",
     "text": [
      "Accuracy 0.3333333333333333\nF1 0.2710239651416122\n"
     ]
    }
   ],
   "source": [
    "from sklearn.metrics import accuracy_score, f1_score\n",
    "print('Accuracy',accuracy_score(y.values,ypredict_stress_global))\n",
    "print('F1',f1_score(y.values,ypredict_stress_global, average='weighted'))"
   ]
  },
  {
   "source": [
    "#### Autre méthode"
   ],
   "cell_type": "markdown",
   "metadata": {}
  },
  {
   "cell_type": "code",
   "execution_count": 51,
   "metadata": {},
   "outputs": [
    {
     "output_type": "stream",
     "name": "stdout",
     "text": [
      "Fitting 30 folds for each of 56 candidates, totalling 1680 fits\n",
      "[Parallel(n_jobs=1)]: Using backend SequentialBackend with 1 concurrent workers.\n",
      "Best results 0.4666666666666667\n",
      "Best params {'class_weight': None, 'max_depth': 3, 'n_estimators': 100}\n",
      "accuracy (mean, std) 0.4666666666666667 0.49888765156985887\n",
      "f1 (mean, std) 0.4666666666666667 0.49888765156985887\n",
      "balanced accuracy (mean, std) 0.4666666666666667 0.49888765156985887\n",
      "precision (mean, std) 0.4666666666666667 0.49888765156985887\n",
      "recall (mean, std) 0.4666666666666667 0.49888765156985887\n",
      "[Parallel(n_jobs=1)]: Done 1680 out of 1680 | elapsed:  3.3min finished\n"
     ]
    }
   ],
   "source": [
    "# En utilisant les prédictions des stress des diapos comme X (et non les annotations)\n",
    "from sklearn.model_selection import LeaveOneGroupOut\n",
    "from sklearn.linear_model import LogisticRegression\n",
    "from sklearn.model_selection import cross_val_score, GridSearchCV\n",
    "from sklearn.metrics import accuracy_score, f1_score\n",
    "import warnings\n",
    "warnings.filterwarnings(\"ignore\")\n",
    "\n",
    "#X = df_annotations_stress.iloc[:,:-1]\n",
    "X = ypredict_stress_diapo\n",
    "y = df_annotations_stress.iloc[:,-1]\n",
    "\n",
    "groups = X.reset_index()['video_name']\n",
    "loo = LeaveOneGroupOut()\n",
    "cv_loo = loo.split(X, y, groups)\n",
    "\n",
    "parameters = {'C': [0.01, 0.05, 0.1, 0.5, 1, 2], 'class_weight' : [None, 'balanced']}\n",
    "\n",
    "model = LogisticRegression(multi_class='multinomial', fit_intercept=True, random_state=42)\n",
    "\n",
    "from sklearn.neighbors import KNeighborsClassifier\n",
    "model = KNeighborsClassifier(n_jobs=-1)\n",
    "parameters = {'n_neighbors': [4, 5, 6, 7, 8, 9, 10, 11, 12,  15, 20], 'weights' : ['uniform', 'distance'], 'p': [1, 2]}\n",
    "\n",
    "from sklearn.ensemble import RandomForestClassifier, RandomForestRegressor\n",
    "model = RandomForestClassifier(random_state = 42, n_jobs=-1)\n",
    "parameters = {'n_estimators': [50, 100, 150, 200], 'max_depth':[3, 4, 5, 6, 10, 15, 20], 'class_weight':[None,'balanced']}\n",
    "\n",
    "clf = GridSearchCV(estimator=model, \n",
    "                    param_grid=parameters, \n",
    "                    scoring={'accuracy_score' : 'accuracy', 'f1_score' : 'f1_weighted' , \n",
    "                             'balanced_accuracy_score' : 'balanced_accuracy', \n",
    "                             'precision' : 'precision_weighted', 'recall' : 'recall_weighted'}, \n",
    "                    refit='f1_score',\n",
    "                    cv=cv_loo, verbose=1)\n",
    "clf.fit(X, y)\n",
    "print('Best results', clf.best_score_)\n",
    "print('Best params', clf.best_params_)\n",
    "print('accuracy (mean, std)', clf.cv_results_['mean_test_accuracy_score'][clf.best_index_], clf.cv_results_['std_test_accuracy_score'][clf.best_index_])\n",
    "print('f1 (mean, std)', clf.cv_results_['mean_test_f1_score'][clf.best_index_], clf.cv_results_['std_test_f1_score'][clf.best_index_])\n",
    "print('balanced accuracy (mean, std)', clf.cv_results_['mean_test_balanced_accuracy_score'][clf.best_index_], clf.cv_results_['std_test_balanced_accuracy_score'][clf.best_index_])\n",
    "print('precision (mean, std)', clf.cv_results_['mean_test_precision'][clf.best_index_], clf.cv_results_['std_test_precision'][clf.best_index_])\n",
    "print('recall (mean, std)', clf.cv_results_['mean_test_recall'][clf.best_index_], clf.cv_results_['std_test_recall'][clf.best_index_])\n",
    "\n"
   ]
  },
  {
   "cell_type": "code",
   "execution_count": 52,
   "metadata": {},
   "outputs": [],
   "source": [
    "# Getting predictions with a leave one interview out\n",
    "from sklearn.model_selection import LeaveOneGroupOut\n",
    "from sklearn.linear_model import LogisticRegression\n",
    "groups = X.reset_index()['video_name']\n",
    "loo = LeaveOneGroupOut()\n",
    "cv_loo = loo.split(X, y, groups)\n",
    "\n",
    "model = clf.best_estimator_\n",
    "\n",
    "ytest_predict = np.zeros(len(y))\n",
    "for train_index, test_index in loo.split(X, y, groups):\n",
    "    #print(train_index, test_index)\n",
    "    Xtrain, Xtest = X.iloc[train_index], X.iloc[test_index]\n",
    "    ytrain, ytest = y.iloc[train_index], y.iloc[test_index]\n",
    "\n",
    "    model.fit(Xtrain, ytrain)\n",
    "    ytest_predict_temp = model.predict(Xtest)\n",
    "    #print(ytest_predict_temp.shape)\n",
    "    #print(test_index.shape)\n",
    "    ytest_predict[test_index] = ytest_predict_temp\n",
    "y_predict = ytest_predict\n",
    "\n",
    "df_ypredict = pd.concat([X.reset_index()[['video_name']],pd.DataFrame(y_predict, columns=['ypredict'])],axis=1)\n",
    "df_ypredict.columns = ['video_name','ypredict']\n",
    "df_ypredict.to_csv('ypredict_' + features + '_tw5_diapo_2bis.csv')"
   ]
  },
  {
   "source": [
    "### En utilisant le stress prédit des time windows 5s"
   ],
   "cell_type": "markdown",
   "metadata": {}
  },
  {
   "cell_type": "code",
   "execution_count": 53,
   "metadata": {},
   "outputs": [
    {
     "output_type": "execute_result",
     "data": {
      "text/plain": [
       "ypredict                                0         1         2\n",
       "video_name                                                   \n",
       "Test_pour_AFPA                   0.174603  0.417989  0.407407\n",
       "Video_1                          0.344371  0.655629  0.000000\n",
       "WIN_20210323_19_17_40_Pro        0.369048  0.630952  0.000000\n",
       "WIN_20210329_10_16_02_Pro        0.095238  0.904762  0.000000\n",
       "WIN_20210330_13_10_29_Pro        0.006623  0.986755  0.006623\n",
       "WIN_20210331_21_22_52_Pro        0.288235  0.711765  0.000000\n",
       "WIN_20210402_14_27_50_Pro        0.016129  0.962366  0.021505\n",
       "WIN_20210402_19_04_53_Pro        0.931429  0.062857  0.005714\n",
       "WIN_20210403_18_49_15_Pro        0.281768  0.718232  0.000000\n",
       "WIN_20210404_10_58_27_Pro        0.650000  0.255000  0.095000\n",
       "WIN_20210404_21_41_12_Pro        0.275862  0.724138  0.000000\n",
       "WIN_20210405_15_09_16_Pro        0.522581  0.477419  0.000000\n",
       "WIN_20210406_15_06_15_Pro        0.200000  0.800000  0.000000\n",
       "WIN_20210406_18_35_52_Pro        0.487342  0.512658  0.000000\n",
       "WIN_20210406_18_49_10_Pro        0.280702  0.719298  0.000000\n",
       "WIN_20210406_21_05_52_Pro        0.383784  0.616216  0.000000\n",
       "WIN_20210407_09_04_05_Pro        0.544503  0.455497  0.000000\n",
       "WIN_20210407_14_54_56_Pro_edit2  0.364780  0.635220  0.000000\n",
       "WIN_20210408_11_48_58_Pro        0.120000  0.777778  0.102222\n",
       "WIN_20210408_14_00_44_Pro        0.213483  0.786517  0.000000\n",
       "WIN_20210408_14_02_19_Pro        0.500000  0.494118  0.005882\n",
       "WIN_20210408_14_11_32_Pro        0.000000  1.000000  0.000000\n",
       "WIN_20210408_15_20_51_Pro        0.235294  0.250000  0.514706\n",
       "WIN_20210408_16_04_32_Pro        0.158824  0.841176  0.000000\n",
       "WIN_20210409_10_26_11_Pro        0.543353  0.456647  0.000000\n",
       "WIN_20210413_15_38_01_Pro        0.225434  0.774566  0.000000\n",
       "WIN_20210414_06_24_52_Pro        0.989637  0.010363  0.000000\n",
       "WIN_20210415_15_41_24_Pro        0.428571  0.571429  0.000000\n",
       "WIN_20210416_08_06_54_Pro        0.006135  0.993865  0.000000\n",
       "WIN_20210417_14_53_12_Pro        0.366412  0.633588  0.000000"
      ],
      "text/html": "<div>\n<style scoped>\n    .dataframe tbody tr th:only-of-type {\n        vertical-align: middle;\n    }\n\n    .dataframe tbody tr th {\n        vertical-align: top;\n    }\n\n    .dataframe thead th {\n        text-align: right;\n    }\n</style>\n<table border=\"1\" class=\"dataframe\">\n  <thead>\n    <tr style=\"text-align: right;\">\n      <th>ypredict</th>\n      <th>0</th>\n      <th>1</th>\n      <th>2</th>\n    </tr>\n    <tr>\n      <th>video_name</th>\n      <th></th>\n      <th></th>\n      <th></th>\n    </tr>\n  </thead>\n  <tbody>\n    <tr>\n      <th>Test_pour_AFPA</th>\n      <td>0.174603</td>\n      <td>0.417989</td>\n      <td>0.407407</td>\n    </tr>\n    <tr>\n      <th>Video_1</th>\n      <td>0.344371</td>\n      <td>0.655629</td>\n      <td>0.000000</td>\n    </tr>\n    <tr>\n      <th>WIN_20210323_19_17_40_Pro</th>\n      <td>0.369048</td>\n      <td>0.630952</td>\n      <td>0.000000</td>\n    </tr>\n    <tr>\n      <th>WIN_20210329_10_16_02_Pro</th>\n      <td>0.095238</td>\n      <td>0.904762</td>\n      <td>0.000000</td>\n    </tr>\n    <tr>\n      <th>WIN_20210330_13_10_29_Pro</th>\n      <td>0.006623</td>\n      <td>0.986755</td>\n      <td>0.006623</td>\n    </tr>\n    <tr>\n      <th>WIN_20210331_21_22_52_Pro</th>\n      <td>0.288235</td>\n      <td>0.711765</td>\n      <td>0.000000</td>\n    </tr>\n    <tr>\n      <th>WIN_20210402_14_27_50_Pro</th>\n      <td>0.016129</td>\n      <td>0.962366</td>\n      <td>0.021505</td>\n    </tr>\n    <tr>\n      <th>WIN_20210402_19_04_53_Pro</th>\n      <td>0.931429</td>\n      <td>0.062857</td>\n      <td>0.005714</td>\n    </tr>\n    <tr>\n      <th>WIN_20210403_18_49_15_Pro</th>\n      <td>0.281768</td>\n      <td>0.718232</td>\n      <td>0.000000</td>\n    </tr>\n    <tr>\n      <th>WIN_20210404_10_58_27_Pro</th>\n      <td>0.650000</td>\n      <td>0.255000</td>\n      <td>0.095000</td>\n    </tr>\n    <tr>\n      <th>WIN_20210404_21_41_12_Pro</th>\n      <td>0.275862</td>\n      <td>0.724138</td>\n      <td>0.000000</td>\n    </tr>\n    <tr>\n      <th>WIN_20210405_15_09_16_Pro</th>\n      <td>0.522581</td>\n      <td>0.477419</td>\n      <td>0.000000</td>\n    </tr>\n    <tr>\n      <th>WIN_20210406_15_06_15_Pro</th>\n      <td>0.200000</td>\n      <td>0.800000</td>\n      <td>0.000000</td>\n    </tr>\n    <tr>\n      <th>WIN_20210406_18_35_52_Pro</th>\n      <td>0.487342</td>\n      <td>0.512658</td>\n      <td>0.000000</td>\n    </tr>\n    <tr>\n      <th>WIN_20210406_18_49_10_Pro</th>\n      <td>0.280702</td>\n      <td>0.719298</td>\n      <td>0.000000</td>\n    </tr>\n    <tr>\n      <th>WIN_20210406_21_05_52_Pro</th>\n      <td>0.383784</td>\n      <td>0.616216</td>\n      <td>0.000000</td>\n    </tr>\n    <tr>\n      <th>WIN_20210407_09_04_05_Pro</th>\n      <td>0.544503</td>\n      <td>0.455497</td>\n      <td>0.000000</td>\n    </tr>\n    <tr>\n      <th>WIN_20210407_14_54_56_Pro_edit2</th>\n      <td>0.364780</td>\n      <td>0.635220</td>\n      <td>0.000000</td>\n    </tr>\n    <tr>\n      <th>WIN_20210408_11_48_58_Pro</th>\n      <td>0.120000</td>\n      <td>0.777778</td>\n      <td>0.102222</td>\n    </tr>\n    <tr>\n      <th>WIN_20210408_14_00_44_Pro</th>\n      <td>0.213483</td>\n      <td>0.786517</td>\n      <td>0.000000</td>\n    </tr>\n    <tr>\n      <th>WIN_20210408_14_02_19_Pro</th>\n      <td>0.500000</td>\n      <td>0.494118</td>\n      <td>0.005882</td>\n    </tr>\n    <tr>\n      <th>WIN_20210408_14_11_32_Pro</th>\n      <td>0.000000</td>\n      <td>1.000000</td>\n      <td>0.000000</td>\n    </tr>\n    <tr>\n      <th>WIN_20210408_15_20_51_Pro</th>\n      <td>0.235294</td>\n      <td>0.250000</td>\n      <td>0.514706</td>\n    </tr>\n    <tr>\n      <th>WIN_20210408_16_04_32_Pro</th>\n      <td>0.158824</td>\n      <td>0.841176</td>\n      <td>0.000000</td>\n    </tr>\n    <tr>\n      <th>WIN_20210409_10_26_11_Pro</th>\n      <td>0.543353</td>\n      <td>0.456647</td>\n      <td>0.000000</td>\n    </tr>\n    <tr>\n      <th>WIN_20210413_15_38_01_Pro</th>\n      <td>0.225434</td>\n      <td>0.774566</td>\n      <td>0.000000</td>\n    </tr>\n    <tr>\n      <th>WIN_20210414_06_24_52_Pro</th>\n      <td>0.989637</td>\n      <td>0.010363</td>\n      <td>0.000000</td>\n    </tr>\n    <tr>\n      <th>WIN_20210415_15_41_24_Pro</th>\n      <td>0.428571</td>\n      <td>0.571429</td>\n      <td>0.000000</td>\n    </tr>\n    <tr>\n      <th>WIN_20210416_08_06_54_Pro</th>\n      <td>0.006135</td>\n      <td>0.993865</td>\n      <td>0.000000</td>\n    </tr>\n    <tr>\n      <th>WIN_20210417_14_53_12_Pro</th>\n      <td>0.366412</td>\n      <td>0.633588</td>\n      <td>0.000000</td>\n    </tr>\n  </tbody>\n</table>\n</div>"
     },
     "metadata": {},
     "execution_count": 53
    }
   ],
   "source": [
    "df_ypredict = pd.read_csv('ypredict_' + features + '_tw5_2.csv')\n",
    "df_ypredict = df_ypredict.iloc[:,1:]\n",
    "df_ypredict.columns = ['video_name','diapo','frameTimeWindow','ypredict']\n",
    "df_ypredict['ypredict'] = df_ypredict['ypredict'].astype(int)\n",
    "df_ypredict = df_ypredict.pivot_table(values='frameTimeWindow', columns='ypredict', index='video_name', aggfunc='count', fill_value=0)\n",
    "df_ypredict_sum = df_ypredict.sum(axis=1).values.copy()\n",
    "for col_number in range(len(df_ypredict.columns)):\n",
    "    df_ypredict.iloc[:,col_number] = df_ypredict.iloc[:,col_number] / df_ypredict_sum\n",
    "#df_ypredict = df_ypredict.reset_index()\n",
    "df_ypredict\n"
   ]
  },
  {
   "cell_type": "code",
   "execution_count": 73,
   "metadata": {},
   "outputs": [],
   "source": [
    "#df_ypredict[['video_name','diapo','ypredict']].groupby(['video_name','diapo']).agg({'mean','min','max', 'median', 'std', #percentil25, percentil75, kurtosis, skew})"
   ]
  },
  {
   "cell_type": "code",
   "execution_count": 54,
   "metadata": {},
   "outputs": [],
   "source": [
    "df_annotations_stress = pd.read_csv('annotations.csv')\n",
    "df_annotations_stress = df_annotations_stress[['video_name','stress_global']]"
   ]
  },
  {
   "cell_type": "code",
   "execution_count": 55,
   "metadata": {},
   "outputs": [],
   "source": [
    "Xy = df_ypredict.merge(df_annotations_stress, on='video_name')\n",
    "X = Xy.iloc[:,:-1].set_index('video_name')\n",
    "y = Xy.iloc[:,-1]"
   ]
  },
  {
   "cell_type": "code",
   "execution_count": 56,
   "metadata": {},
   "outputs": [
    {
     "output_type": "execute_result",
     "data": {
      "text/plain": [
       "                         video_name         0         1         2  \\\n",
       "0                    Test_pour_AFPA  0.174603  0.417989  0.407407   \n",
       "1                           Video_1  0.344371  0.655629  0.000000   \n",
       "2         WIN_20210323_19_17_40_Pro  0.369048  0.630952  0.000000   \n",
       "3         WIN_20210329_10_16_02_Pro  0.095238  0.904762  0.000000   \n",
       "4         WIN_20210330_13_10_29_Pro  0.006623  0.986755  0.006623   \n",
       "5         WIN_20210331_21_22_52_Pro  0.288235  0.711765  0.000000   \n",
       "6         WIN_20210402_14_27_50_Pro  0.016129  0.962366  0.021505   \n",
       "7         WIN_20210402_19_04_53_Pro  0.931429  0.062857  0.005714   \n",
       "8         WIN_20210403_18_49_15_Pro  0.281768  0.718232  0.000000   \n",
       "9         WIN_20210404_10_58_27_Pro  0.650000  0.255000  0.095000   \n",
       "10        WIN_20210404_21_41_12_Pro  0.275862  0.724138  0.000000   \n",
       "11        WIN_20210405_15_09_16_Pro  0.522581  0.477419  0.000000   \n",
       "12        WIN_20210406_15_06_15_Pro  0.200000  0.800000  0.000000   \n",
       "13        WIN_20210406_18_35_52_Pro  0.487342  0.512658  0.000000   \n",
       "14        WIN_20210406_18_49_10_Pro  0.280702  0.719298  0.000000   \n",
       "15        WIN_20210406_21_05_52_Pro  0.383784  0.616216  0.000000   \n",
       "16        WIN_20210407_09_04_05_Pro  0.544503  0.455497  0.000000   \n",
       "17  WIN_20210407_14_54_56_Pro_edit2  0.364780  0.635220  0.000000   \n",
       "18        WIN_20210408_11_48_58_Pro  0.120000  0.777778  0.102222   \n",
       "19        WIN_20210408_14_00_44_Pro  0.213483  0.786517  0.000000   \n",
       "20        WIN_20210408_14_02_19_Pro  0.500000  0.494118  0.005882   \n",
       "21        WIN_20210408_14_11_32_Pro  0.000000  1.000000  0.000000   \n",
       "22        WIN_20210408_15_20_51_Pro  0.235294  0.250000  0.514706   \n",
       "23        WIN_20210408_16_04_32_Pro  0.158824  0.841176  0.000000   \n",
       "24        WIN_20210409_10_26_11_Pro  0.543353  0.456647  0.000000   \n",
       "25        WIN_20210413_15_38_01_Pro  0.225434  0.774566  0.000000   \n",
       "26        WIN_20210414_06_24_52_Pro  0.989637  0.010363  0.000000   \n",
       "27        WIN_20210415_15_41_24_Pro  0.428571  0.571429  0.000000   \n",
       "28        WIN_20210416_08_06_54_Pro  0.006135  0.993865  0.000000   \n",
       "29        WIN_20210417_14_53_12_Pro  0.366412  0.633588  0.000000   \n",
       "\n",
       "    stress_global  \n",
       "0             1.0  \n",
       "1             0.0  \n",
       "2             1.0  \n",
       "3             1.0  \n",
       "4             0.0  \n",
       "5             1.0  \n",
       "6             1.0  \n",
       "7             2.0  \n",
       "8             2.0  \n",
       "9             1.0  \n",
       "10            0.0  \n",
       "11            1.0  \n",
       "12            2.0  \n",
       "13            0.0  \n",
       "14            1.0  \n",
       "15            2.0  \n",
       "16            2.0  \n",
       "17            0.0  \n",
       "18            2.0  \n",
       "19            0.0  \n",
       "20            0.0  \n",
       "21            2.0  \n",
       "22            0.0  \n",
       "23            0.0  \n",
       "24            0.0  \n",
       "25            1.0  \n",
       "26            2.0  \n",
       "27            0.0  \n",
       "28            1.0  \n",
       "29            0.0  "
      ],
      "text/html": "<div>\n<style scoped>\n    .dataframe tbody tr th:only-of-type {\n        vertical-align: middle;\n    }\n\n    .dataframe tbody tr th {\n        vertical-align: top;\n    }\n\n    .dataframe thead th {\n        text-align: right;\n    }\n</style>\n<table border=\"1\" class=\"dataframe\">\n  <thead>\n    <tr style=\"text-align: right;\">\n      <th></th>\n      <th>video_name</th>\n      <th>0</th>\n      <th>1</th>\n      <th>2</th>\n      <th>stress_global</th>\n    </tr>\n  </thead>\n  <tbody>\n    <tr>\n      <th>0</th>\n      <td>Test_pour_AFPA</td>\n      <td>0.174603</td>\n      <td>0.417989</td>\n      <td>0.407407</td>\n      <td>1.0</td>\n    </tr>\n    <tr>\n      <th>1</th>\n      <td>Video_1</td>\n      <td>0.344371</td>\n      <td>0.655629</td>\n      <td>0.000000</td>\n      <td>0.0</td>\n    </tr>\n    <tr>\n      <th>2</th>\n      <td>WIN_20210323_19_17_40_Pro</td>\n      <td>0.369048</td>\n      <td>0.630952</td>\n      <td>0.000000</td>\n      <td>1.0</td>\n    </tr>\n    <tr>\n      <th>3</th>\n      <td>WIN_20210329_10_16_02_Pro</td>\n      <td>0.095238</td>\n      <td>0.904762</td>\n      <td>0.000000</td>\n      <td>1.0</td>\n    </tr>\n    <tr>\n      <th>4</th>\n      <td>WIN_20210330_13_10_29_Pro</td>\n      <td>0.006623</td>\n      <td>0.986755</td>\n      <td>0.006623</td>\n      <td>0.0</td>\n    </tr>\n    <tr>\n      <th>5</th>\n      <td>WIN_20210331_21_22_52_Pro</td>\n      <td>0.288235</td>\n      <td>0.711765</td>\n      <td>0.000000</td>\n      <td>1.0</td>\n    </tr>\n    <tr>\n      <th>6</th>\n      <td>WIN_20210402_14_27_50_Pro</td>\n      <td>0.016129</td>\n      <td>0.962366</td>\n      <td>0.021505</td>\n      <td>1.0</td>\n    </tr>\n    <tr>\n      <th>7</th>\n      <td>WIN_20210402_19_04_53_Pro</td>\n      <td>0.931429</td>\n      <td>0.062857</td>\n      <td>0.005714</td>\n      <td>2.0</td>\n    </tr>\n    <tr>\n      <th>8</th>\n      <td>WIN_20210403_18_49_15_Pro</td>\n      <td>0.281768</td>\n      <td>0.718232</td>\n      <td>0.000000</td>\n      <td>2.0</td>\n    </tr>\n    <tr>\n      <th>9</th>\n      <td>WIN_20210404_10_58_27_Pro</td>\n      <td>0.650000</td>\n      <td>0.255000</td>\n      <td>0.095000</td>\n      <td>1.0</td>\n    </tr>\n    <tr>\n      <th>10</th>\n      <td>WIN_20210404_21_41_12_Pro</td>\n      <td>0.275862</td>\n      <td>0.724138</td>\n      <td>0.000000</td>\n      <td>0.0</td>\n    </tr>\n    <tr>\n      <th>11</th>\n      <td>WIN_20210405_15_09_16_Pro</td>\n      <td>0.522581</td>\n      <td>0.477419</td>\n      <td>0.000000</td>\n      <td>1.0</td>\n    </tr>\n    <tr>\n      <th>12</th>\n      <td>WIN_20210406_15_06_15_Pro</td>\n      <td>0.200000</td>\n      <td>0.800000</td>\n      <td>0.000000</td>\n      <td>2.0</td>\n    </tr>\n    <tr>\n      <th>13</th>\n      <td>WIN_20210406_18_35_52_Pro</td>\n      <td>0.487342</td>\n      <td>0.512658</td>\n      <td>0.000000</td>\n      <td>0.0</td>\n    </tr>\n    <tr>\n      <th>14</th>\n      <td>WIN_20210406_18_49_10_Pro</td>\n      <td>0.280702</td>\n      <td>0.719298</td>\n      <td>0.000000</td>\n      <td>1.0</td>\n    </tr>\n    <tr>\n      <th>15</th>\n      <td>WIN_20210406_21_05_52_Pro</td>\n      <td>0.383784</td>\n      <td>0.616216</td>\n      <td>0.000000</td>\n      <td>2.0</td>\n    </tr>\n    <tr>\n      <th>16</th>\n      <td>WIN_20210407_09_04_05_Pro</td>\n      <td>0.544503</td>\n      <td>0.455497</td>\n      <td>0.000000</td>\n      <td>2.0</td>\n    </tr>\n    <tr>\n      <th>17</th>\n      <td>WIN_20210407_14_54_56_Pro_edit2</td>\n      <td>0.364780</td>\n      <td>0.635220</td>\n      <td>0.000000</td>\n      <td>0.0</td>\n    </tr>\n    <tr>\n      <th>18</th>\n      <td>WIN_20210408_11_48_58_Pro</td>\n      <td>0.120000</td>\n      <td>0.777778</td>\n      <td>0.102222</td>\n      <td>2.0</td>\n    </tr>\n    <tr>\n      <th>19</th>\n      <td>WIN_20210408_14_00_44_Pro</td>\n      <td>0.213483</td>\n      <td>0.786517</td>\n      <td>0.000000</td>\n      <td>0.0</td>\n    </tr>\n    <tr>\n      <th>20</th>\n      <td>WIN_20210408_14_02_19_Pro</td>\n      <td>0.500000</td>\n      <td>0.494118</td>\n      <td>0.005882</td>\n      <td>0.0</td>\n    </tr>\n    <tr>\n      <th>21</th>\n      <td>WIN_20210408_14_11_32_Pro</td>\n      <td>0.000000</td>\n      <td>1.000000</td>\n      <td>0.000000</td>\n      <td>2.0</td>\n    </tr>\n    <tr>\n      <th>22</th>\n      <td>WIN_20210408_15_20_51_Pro</td>\n      <td>0.235294</td>\n      <td>0.250000</td>\n      <td>0.514706</td>\n      <td>0.0</td>\n    </tr>\n    <tr>\n      <th>23</th>\n      <td>WIN_20210408_16_04_32_Pro</td>\n      <td>0.158824</td>\n      <td>0.841176</td>\n      <td>0.000000</td>\n      <td>0.0</td>\n    </tr>\n    <tr>\n      <th>24</th>\n      <td>WIN_20210409_10_26_11_Pro</td>\n      <td>0.543353</td>\n      <td>0.456647</td>\n      <td>0.000000</td>\n      <td>0.0</td>\n    </tr>\n    <tr>\n      <th>25</th>\n      <td>WIN_20210413_15_38_01_Pro</td>\n      <td>0.225434</td>\n      <td>0.774566</td>\n      <td>0.000000</td>\n      <td>1.0</td>\n    </tr>\n    <tr>\n      <th>26</th>\n      <td>WIN_20210414_06_24_52_Pro</td>\n      <td>0.989637</td>\n      <td>0.010363</td>\n      <td>0.000000</td>\n      <td>2.0</td>\n    </tr>\n    <tr>\n      <th>27</th>\n      <td>WIN_20210415_15_41_24_Pro</td>\n      <td>0.428571</td>\n      <td>0.571429</td>\n      <td>0.000000</td>\n      <td>0.0</td>\n    </tr>\n    <tr>\n      <th>28</th>\n      <td>WIN_20210416_08_06_54_Pro</td>\n      <td>0.006135</td>\n      <td>0.993865</td>\n      <td>0.000000</td>\n      <td>1.0</td>\n    </tr>\n    <tr>\n      <th>29</th>\n      <td>WIN_20210417_14_53_12_Pro</td>\n      <td>0.366412</td>\n      <td>0.633588</td>\n      <td>0.000000</td>\n      <td>0.0</td>\n    </tr>\n  </tbody>\n</table>\n</div>"
     },
     "metadata": {},
     "execution_count": 56
    }
   ],
   "source": [
    "Xy"
   ]
  },
  {
   "cell_type": "code",
   "execution_count": 60,
   "metadata": {},
   "outputs": [
    {
     "output_type": "stream",
     "name": "stdout",
     "text": [
      "Fitting 5 folds for each of 44 candidates, totalling 220 fits\n",
      "[Parallel(n_jobs=1)]: Using backend SequentialBackend with 1 concurrent workers.\n",
      "Best results 0.35174603174603175\n",
      "Best params {'n_neighbors': 4, 'p': 2, 'weights': 'uniform'}\n",
      "accuracy (mean, std) 0.4333333333333333 0.08164965809277261\n",
      "f1 (mean, std) 0.35174603174603175 0.05540205551332949\n",
      "balanced accuracy (mean, std) 0.42222222222222217 0.07535922203472521\n",
      "precision (mean, std) 0.34777777777777774 0.10373280015096716\n",
      "recall (mean, std) 0.4333333333333333 0.08164965809277261\n",
      "[Parallel(n_jobs=1)]: Done 220 out of 220 | elapsed:    2.6s finished\n"
     ]
    }
   ],
   "source": [
    "parameters = {'C': [0.01, 0.05, 0.1, 0.5, 1, 2, 10, 20], 'class_weight' : [None, 'balanced']}\n",
    "from sklearn.model_selection import LeaveOneGroupOut\n",
    "from sklearn.linear_model import LogisticRegression\n",
    "from sklearn.model_selection import cross_val_predict, GridSearchCV\n",
    "from sklearn.metrics import accuracy_score, f1_score\n",
    "import warnings\n",
    "warnings.filterwarnings(\"ignore\")\n",
    "\n",
    "groups = X.reset_index()['video_name']\n",
    "loo = LeaveOneGroupOut()\n",
    "cv_loo = loo.split(X, y, groups)\n",
    "X_no_name = X\n",
    "y_no_name = y\n",
    "\n",
    "#model = LogisticRegression(multi_class='multinomial', fit_intercept=True, random_state=42)\n",
    "\n",
    "from sklearn.neighbors import KNeighborsClassifier\n",
    "model = KNeighborsClassifier(n_jobs=-1)\n",
    "parameters = {'n_neighbors': [4, 5, 6, 7, 8, 9, 10, 11, 12,  15, 20], 'weights' : ['uniform', 'distance'], 'p': [1, 2]}\n",
    "\n",
    "#from sklearn.ensemble import RandomForestClassifier, RandomForestRegressor\n",
    "#model = RandomForestClassifier(random_state = 42, n_jobs=-1)\n",
    "#parameters = {'n_estimators': [50, 100, 150, 200], 'max_depth':[3, 4, 5, 6, 10, 15, 20], 'class_weight':[None,'balanced']}\n",
    "\n",
    "clf = GridSearchCV(estimator=model, \n",
    "                    param_grid=parameters, \n",
    "                    scoring={'accuracy_score' : 'accuracy', 'f1_score' : 'f1_weighted', \n",
    "                             'balanced_accuracy_score' : 'balanced_accuracy', \n",
    "                             'precision' : 'precision_weighted', 'recall' : 'recall_weighted' }, \n",
    "                    refit='f1_score',\n",
    "                    cv=5, verbose=1)\n",
    "clf.fit(X_no_name, y_no_name)\n",
    "print('Best results', clf.best_score_)\n",
    "print('Best params', clf.best_params_)\n",
    "print('accuracy (mean, std)', clf.cv_results_['mean_test_accuracy_score'][clf.best_index_], clf.cv_results_['std_test_accuracy_score'][clf.best_index_])\n",
    "print('f1 (mean, std)', clf.cv_results_['mean_test_f1_score'][clf.best_index_], clf.cv_results_['std_test_f1_score'][clf.best_index_])\n",
    "print('balanced accuracy (mean, std)', clf.cv_results_['mean_test_balanced_accuracy_score'][clf.best_index_], clf.cv_results_['std_test_balanced_accuracy_score'][clf.best_index_])\n",
    "print('precision (mean, std)', clf.cv_results_['mean_test_precision'][clf.best_index_], clf.cv_results_['std_test_precision'][clf.best_index_])\n",
    "print('recall (mean, std)', clf.cv_results_['mean_test_recall'][clf.best_index_], clf.cv_results_['std_test_recall'][clf.best_index_])\n"
   ]
  },
  {
   "cell_type": "code",
   "execution_count": 61,
   "metadata": {},
   "outputs": [],
   "source": [
    "from sklearn.model_selection import cross_val_predict\n",
    "ypredict_stress_global = cross_val_predict(clf.best_estimator_,X_no_name,y_no_name,cv=5)"
   ]
  },
  {
   "cell_type": "code",
   "execution_count": 62,
   "metadata": {},
   "outputs": [
    {
     "output_type": "execute_result",
     "data": {
      "text/plain": [
       "array([0., 0., 0., 0., 1., 0., 1., 2., 0., 0., 1., 0., 0., 0., 1., 0., 0.,\n",
       "       0., 1., 0., 0., 0., 0., 1., 0., 0., 2., 0., 0., 0.])"
      ]
     },
     "metadata": {},
     "execution_count": 62
    }
   ],
   "source": [
    "ypredict_stress_global"
   ]
  },
  {
   "cell_type": "code",
   "execution_count": 64,
   "metadata": {},
   "outputs": [
    {
     "output_type": "stream",
     "name": "stdout",
     "text": [
      "Accuracy 0.43333333333333335\nF1 0.40176470588235297\n"
     ]
    }
   ],
   "source": [
    "from sklearn.metrics import accuracy_score, f1_score\n",
    "print('Accuracy',accuracy_score(y_no_name.values,ypredict_stress_global))\n",
    "print('F1',f1_score(y_no_name,ypredict_stress_global, average='weighted'))"
   ]
  },
  {
   "cell_type": "code",
   "execution_count": 65,
   "metadata": {},
   "outputs": [
    {
     "output_type": "execute_result",
     "data": {
      "text/plain": [
       "    stress_global  stress_global_predict\n",
       "0             1.0                    0.0\n",
       "1             0.0                    0.0\n",
       "2             1.0                    0.0\n",
       "3             1.0                    0.0\n",
       "4             0.0                    1.0\n",
       "5             1.0                    0.0\n",
       "6             1.0                    1.0\n",
       "7             2.0                    2.0\n",
       "8             2.0                    0.0\n",
       "9             1.0                    0.0\n",
       "10            0.0                    1.0\n",
       "11            1.0                    0.0\n",
       "12            2.0                    0.0\n",
       "13            0.0                    0.0\n",
       "14            1.0                    1.0\n",
       "15            2.0                    0.0\n",
       "16            2.0                    0.0\n",
       "17            0.0                    0.0\n",
       "18            2.0                    1.0\n",
       "19            0.0                    0.0\n",
       "20            0.0                    0.0\n",
       "21            2.0                    0.0\n",
       "22            0.0                    0.0\n",
       "23            0.0                    1.0\n",
       "24            0.0                    0.0\n",
       "25            1.0                    0.0\n",
       "26            2.0                    2.0\n",
       "27            0.0                    0.0\n",
       "28            1.0                    0.0\n",
       "29            0.0                    0.0"
      ],
      "text/html": "<div>\n<style scoped>\n    .dataframe tbody tr th:only-of-type {\n        vertical-align: middle;\n    }\n\n    .dataframe tbody tr th {\n        vertical-align: top;\n    }\n\n    .dataframe thead th {\n        text-align: right;\n    }\n</style>\n<table border=\"1\" class=\"dataframe\">\n  <thead>\n    <tr style=\"text-align: right;\">\n      <th></th>\n      <th>stress_global</th>\n      <th>stress_global_predict</th>\n    </tr>\n  </thead>\n  <tbody>\n    <tr>\n      <th>0</th>\n      <td>1.0</td>\n      <td>0.0</td>\n    </tr>\n    <tr>\n      <th>1</th>\n      <td>0.0</td>\n      <td>0.0</td>\n    </tr>\n    <tr>\n      <th>2</th>\n      <td>1.0</td>\n      <td>0.0</td>\n    </tr>\n    <tr>\n      <th>3</th>\n      <td>1.0</td>\n      <td>0.0</td>\n    </tr>\n    <tr>\n      <th>4</th>\n      <td>0.0</td>\n      <td>1.0</td>\n    </tr>\n    <tr>\n      <th>5</th>\n      <td>1.0</td>\n      <td>0.0</td>\n    </tr>\n    <tr>\n      <th>6</th>\n      <td>1.0</td>\n      <td>1.0</td>\n    </tr>\n    <tr>\n      <th>7</th>\n      <td>2.0</td>\n      <td>2.0</td>\n    </tr>\n    <tr>\n      <th>8</th>\n      <td>2.0</td>\n      <td>0.0</td>\n    </tr>\n    <tr>\n      <th>9</th>\n      <td>1.0</td>\n      <td>0.0</td>\n    </tr>\n    <tr>\n      <th>10</th>\n      <td>0.0</td>\n      <td>1.0</td>\n    </tr>\n    <tr>\n      <th>11</th>\n      <td>1.0</td>\n      <td>0.0</td>\n    </tr>\n    <tr>\n      <th>12</th>\n      <td>2.0</td>\n      <td>0.0</td>\n    </tr>\n    <tr>\n      <th>13</th>\n      <td>0.0</td>\n      <td>0.0</td>\n    </tr>\n    <tr>\n      <th>14</th>\n      <td>1.0</td>\n      <td>1.0</td>\n    </tr>\n    <tr>\n      <th>15</th>\n      <td>2.0</td>\n      <td>0.0</td>\n    </tr>\n    <tr>\n      <th>16</th>\n      <td>2.0</td>\n      <td>0.0</td>\n    </tr>\n    <tr>\n      <th>17</th>\n      <td>0.0</td>\n      <td>0.0</td>\n    </tr>\n    <tr>\n      <th>18</th>\n      <td>2.0</td>\n      <td>1.0</td>\n    </tr>\n    <tr>\n      <th>19</th>\n      <td>0.0</td>\n      <td>0.0</td>\n    </tr>\n    <tr>\n      <th>20</th>\n      <td>0.0</td>\n      <td>0.0</td>\n    </tr>\n    <tr>\n      <th>21</th>\n      <td>2.0</td>\n      <td>0.0</td>\n    </tr>\n    <tr>\n      <th>22</th>\n      <td>0.0</td>\n      <td>0.0</td>\n    </tr>\n    <tr>\n      <th>23</th>\n      <td>0.0</td>\n      <td>1.0</td>\n    </tr>\n    <tr>\n      <th>24</th>\n      <td>0.0</td>\n      <td>0.0</td>\n    </tr>\n    <tr>\n      <th>25</th>\n      <td>1.0</td>\n      <td>0.0</td>\n    </tr>\n    <tr>\n      <th>26</th>\n      <td>2.0</td>\n      <td>2.0</td>\n    </tr>\n    <tr>\n      <th>27</th>\n      <td>0.0</td>\n      <td>0.0</td>\n    </tr>\n    <tr>\n      <th>28</th>\n      <td>1.0</td>\n      <td>0.0</td>\n    </tr>\n    <tr>\n      <th>29</th>\n      <td>0.0</td>\n      <td>0.0</td>\n    </tr>\n  </tbody>\n</table>\n</div>"
     },
     "metadata": {},
     "execution_count": 65
    }
   ],
   "source": [
    "pd.concat([y_no_name, pd.DataFrame(ypredict_stress_global, columns=['stress_global_predict'])],axis=1)"
   ]
  },
  {
   "cell_type": "code",
   "execution_count": null,
   "metadata": {},
   "outputs": [],
   "source": []
  },
  {
   "source": [
    "### Autre approche "
   ],
   "cell_type": "markdown",
   "metadata": {}
  },
  {
   "cell_type": "code",
   "execution_count": 66,
   "metadata": {},
   "outputs": [
    {
     "output_type": "execute_result",
     "data": {
      "text/plain": [
       "                                   ypredict                             \\\n",
       "                                percentil75  min       std percentil25   \n",
       "video_name                                                               \n",
       "Test_pour_AFPA                          2.0  0.0  0.728437         1.0   \n",
       "Video_1                                 1.0  0.0  0.476744         0.0   \n",
       "WIN_20210323_19_17_40_Pro               1.0  0.0  0.483989         0.0   \n",
       "WIN_20210329_10_16_02_Pro               1.0  0.0  0.294547         1.0   \n",
       "WIN_20210330_13_10_29_Pro               1.0  0.0  0.115470         1.0   \n",
       "WIN_20210331_21_22_52_Pro               1.0  0.0  0.454279         0.0   \n",
       "WIN_20210402_14_27_50_Pro               1.0  0.0  0.194445         1.0   \n",
       "WIN_20210402_19_04_53_Pro               0.0  0.0  0.284001         0.0   \n",
       "WIN_20210403_18_49_15_Pro               1.0  0.0  0.451109         0.0   \n",
       "WIN_20210404_10_58_27_Pro               1.0  0.0  0.662700         0.0   \n",
       "WIN_20210404_21_41_12_Pro               1.0  0.0  0.447914         0.0   \n",
       "WIN_20210405_15_09_16_Pro               1.0  0.0  0.501109         0.0   \n",
       "WIN_20210406_15_06_15_Pro               1.0  0.0  0.400979         1.0   \n",
       "WIN_20210406_18_35_52_Pro               1.0  0.0  0.501429         0.0   \n",
       "WIN_20210406_18_49_10_Pro               1.0  0.0  0.450662         0.0   \n",
       "WIN_20210406_21_05_52_Pro               1.0  0.0  0.487626         0.0   \n",
       "WIN_20210407_09_04_05_Pro               1.0  0.0  0.499324         0.0   \n",
       "WIN_20210407_14_54_56_Pro_edit2         1.0  0.0  0.482889         0.0   \n",
       "WIN_20210408_11_48_58_Pro               1.0  0.0  0.472120         1.0   \n",
       "WIN_20210408_14_00_44_Pro               1.0  0.0  0.410922         1.0   \n",
       "WIN_20210408_14_02_19_Pro               1.0  0.0  0.513107         0.0   \n",
       "WIN_20210408_14_11_32_Pro               1.0  1.0  0.000000         1.0   \n",
       "WIN_20210408_15_20_51_Pro               2.0  0.0  0.821729         1.0   \n",
       "WIN_20210408_16_04_32_Pro               1.0  0.0  0.366591         1.0   \n",
       "WIN_20210409_10_26_11_Pro               1.0  0.0  0.499563         0.0   \n",
       "WIN_20210413_15_38_01_Pro               1.0  0.0  0.419080         1.0   \n",
       "WIN_20210414_06_24_52_Pro               0.0  0.0  0.101532         0.0   \n",
       "WIN_20210415_15_41_24_Pro               1.0  0.0  0.496016         0.0   \n",
       "WIN_20210416_08_06_54_Pro               1.0  0.0  0.078326         1.0   \n",
       "WIN_20210417_14_53_12_Pro               1.0  0.0  0.483674         0.0   \n",
       "\n",
       "                                                                              \n",
       "                                     mean       skew  max    kurtosis median  \n",
       "video_name                                                                    \n",
       "Test_pour_AFPA                   1.232804  -0.387119  2.0   -1.041292    1.0  \n",
       "Video_1                          0.655629  -0.655056  1.0   -1.570901    1.0  \n",
       "WIN_20210323_19_17_40_Pro        0.630952  -0.542755  1.0   -1.705417    1.0  \n",
       "WIN_20210329_10_16_02_Pro        0.904762  -2.757764  1.0    5.605263    1.0  \n",
       "WIN_20210330_13_10_29_Pro        1.000000   0.000000  2.0   72.500000    1.0  \n",
       "WIN_20210331_21_22_52_Pro        0.711765  -0.935065  1.0   -1.125654    1.0  \n",
       "WIN_20210402_14_27_50_Pro        1.005376   0.654047  2.0   23.535147    1.0  \n",
       "WIN_20210402_19_04_53_Pro        0.074286   3.975646  2.0   16.400354    0.0  \n",
       "WIN_20210403_18_49_15_Pro        0.718232  -0.970220  1.0   -1.058673    1.0  \n",
       "WIN_20210404_10_58_27_Pro        0.445000   1.189224  2.0    0.169115    0.0  \n",
       "WIN_20210404_21_41_12_Pro        0.724138  -1.002972  1.0   -0.994048    1.0  \n",
       "WIN_20210405_15_09_16_Pro        0.477419   0.090415  1.0   -1.991825    0.0  \n",
       "WIN_20210406_15_06_15_Pro        0.800000  -1.500000  1.0    0.250000    1.0  \n",
       "WIN_20210406_18_35_52_Pro        0.512658  -0.050649  1.0   -1.997435    1.0  \n",
       "WIN_20210406_18_49_10_Pro        0.719298  -0.976086  1.0   -1.047256    1.0  \n",
       "WIN_20210406_21_05_52_Pro        0.616216  -0.477955  1.0   -1.771559    1.0  \n",
       "WIN_20210407_09_04_05_Pro        0.455497   0.178720  1.0   -1.968059    0.0  \n",
       "WIN_20210407_14_54_56_Pro_edit2  0.635220  -0.561816  1.0   -1.684363    1.0  \n",
       "WIN_20210408_11_48_58_Pro        0.982222  -0.056797  2.0    1.495706    1.0  \n",
       "WIN_20210408_14_00_44_Pro        0.786517  -1.398442  1.0   -0.044361    1.0  \n",
       "WIN_20210408_14_02_19_Pro        0.505882   0.108280  2.0   -1.664048    0.5  \n",
       "WIN_20210408_14_11_32_Pro        1.000000   0.000000  1.0   -3.000000    1.0  \n",
       "WIN_20210408_15_20_51_Pro        1.279412  -0.554907  2.0   -1.292869    2.0  \n",
       "WIN_20210408_16_04_32_Pro        0.841176  -1.866844  1.0    1.485107    1.0  \n",
       "WIN_20210409_10_26_11_Pro        0.456647   0.174066  1.0   -1.969701    0.0  \n",
       "WIN_20210413_15_38_01_Pro        0.774566  -1.314132  1.0   -0.273058    1.0  \n",
       "WIN_20210414_06_24_52_Pro        0.010363   9.670081  1.0   91.510471    0.0  \n",
       "WIN_20210415_15_41_24_Pro        0.571429  -0.288675  1.0   -1.916667    1.0  \n",
       "WIN_20210416_08_06_54_Pro        0.993865 -12.649355  1.0  158.006173    1.0  \n",
       "WIN_20210417_14_53_12_Pro        0.633588  -0.554509  1.0   -1.692520    1.0  "
      ],
      "text/html": "<div>\n<style scoped>\n    .dataframe tbody tr th:only-of-type {\n        vertical-align: middle;\n    }\n\n    .dataframe tbody tr th {\n        vertical-align: top;\n    }\n\n    .dataframe thead tr th {\n        text-align: left;\n    }\n\n    .dataframe thead tr:last-of-type th {\n        text-align: right;\n    }\n</style>\n<table border=\"1\" class=\"dataframe\">\n  <thead>\n    <tr>\n      <th></th>\n      <th colspan=\"9\" halign=\"left\">ypredict</th>\n    </tr>\n    <tr>\n      <th></th>\n      <th>percentil75</th>\n      <th>min</th>\n      <th>std</th>\n      <th>percentil25</th>\n      <th>mean</th>\n      <th>skew</th>\n      <th>max</th>\n      <th>kurtosis</th>\n      <th>median</th>\n    </tr>\n    <tr>\n      <th>video_name</th>\n      <th></th>\n      <th></th>\n      <th></th>\n      <th></th>\n      <th></th>\n      <th></th>\n      <th></th>\n      <th></th>\n      <th></th>\n    </tr>\n  </thead>\n  <tbody>\n    <tr>\n      <th>Test_pour_AFPA</th>\n      <td>2.0</td>\n      <td>0.0</td>\n      <td>0.728437</td>\n      <td>1.0</td>\n      <td>1.232804</td>\n      <td>-0.387119</td>\n      <td>2.0</td>\n      <td>-1.041292</td>\n      <td>1.0</td>\n    </tr>\n    <tr>\n      <th>Video_1</th>\n      <td>1.0</td>\n      <td>0.0</td>\n      <td>0.476744</td>\n      <td>0.0</td>\n      <td>0.655629</td>\n      <td>-0.655056</td>\n      <td>1.0</td>\n      <td>-1.570901</td>\n      <td>1.0</td>\n    </tr>\n    <tr>\n      <th>WIN_20210323_19_17_40_Pro</th>\n      <td>1.0</td>\n      <td>0.0</td>\n      <td>0.483989</td>\n      <td>0.0</td>\n      <td>0.630952</td>\n      <td>-0.542755</td>\n      <td>1.0</td>\n      <td>-1.705417</td>\n      <td>1.0</td>\n    </tr>\n    <tr>\n      <th>WIN_20210329_10_16_02_Pro</th>\n      <td>1.0</td>\n      <td>0.0</td>\n      <td>0.294547</td>\n      <td>1.0</td>\n      <td>0.904762</td>\n      <td>-2.757764</td>\n      <td>1.0</td>\n      <td>5.605263</td>\n      <td>1.0</td>\n    </tr>\n    <tr>\n      <th>WIN_20210330_13_10_29_Pro</th>\n      <td>1.0</td>\n      <td>0.0</td>\n      <td>0.115470</td>\n      <td>1.0</td>\n      <td>1.000000</td>\n      <td>0.000000</td>\n      <td>2.0</td>\n      <td>72.500000</td>\n      <td>1.0</td>\n    </tr>\n    <tr>\n      <th>WIN_20210331_21_22_52_Pro</th>\n      <td>1.0</td>\n      <td>0.0</td>\n      <td>0.454279</td>\n      <td>0.0</td>\n      <td>0.711765</td>\n      <td>-0.935065</td>\n      <td>1.0</td>\n      <td>-1.125654</td>\n      <td>1.0</td>\n    </tr>\n    <tr>\n      <th>WIN_20210402_14_27_50_Pro</th>\n      <td>1.0</td>\n      <td>0.0</td>\n      <td>0.194445</td>\n      <td>1.0</td>\n      <td>1.005376</td>\n      <td>0.654047</td>\n      <td>2.0</td>\n      <td>23.535147</td>\n      <td>1.0</td>\n    </tr>\n    <tr>\n      <th>WIN_20210402_19_04_53_Pro</th>\n      <td>0.0</td>\n      <td>0.0</td>\n      <td>0.284001</td>\n      <td>0.0</td>\n      <td>0.074286</td>\n      <td>3.975646</td>\n      <td>2.0</td>\n      <td>16.400354</td>\n      <td>0.0</td>\n    </tr>\n    <tr>\n      <th>WIN_20210403_18_49_15_Pro</th>\n      <td>1.0</td>\n      <td>0.0</td>\n      <td>0.451109</td>\n      <td>0.0</td>\n      <td>0.718232</td>\n      <td>-0.970220</td>\n      <td>1.0</td>\n      <td>-1.058673</td>\n      <td>1.0</td>\n    </tr>\n    <tr>\n      <th>WIN_20210404_10_58_27_Pro</th>\n      <td>1.0</td>\n      <td>0.0</td>\n      <td>0.662700</td>\n      <td>0.0</td>\n      <td>0.445000</td>\n      <td>1.189224</td>\n      <td>2.0</td>\n      <td>0.169115</td>\n      <td>0.0</td>\n    </tr>\n    <tr>\n      <th>WIN_20210404_21_41_12_Pro</th>\n      <td>1.0</td>\n      <td>0.0</td>\n      <td>0.447914</td>\n      <td>0.0</td>\n      <td>0.724138</td>\n      <td>-1.002972</td>\n      <td>1.0</td>\n      <td>-0.994048</td>\n      <td>1.0</td>\n    </tr>\n    <tr>\n      <th>WIN_20210405_15_09_16_Pro</th>\n      <td>1.0</td>\n      <td>0.0</td>\n      <td>0.501109</td>\n      <td>0.0</td>\n      <td>0.477419</td>\n      <td>0.090415</td>\n      <td>1.0</td>\n      <td>-1.991825</td>\n      <td>0.0</td>\n    </tr>\n    <tr>\n      <th>WIN_20210406_15_06_15_Pro</th>\n      <td>1.0</td>\n      <td>0.0</td>\n      <td>0.400979</td>\n      <td>1.0</td>\n      <td>0.800000</td>\n      <td>-1.500000</td>\n      <td>1.0</td>\n      <td>0.250000</td>\n      <td>1.0</td>\n    </tr>\n    <tr>\n      <th>WIN_20210406_18_35_52_Pro</th>\n      <td>1.0</td>\n      <td>0.0</td>\n      <td>0.501429</td>\n      <td>0.0</td>\n      <td>0.512658</td>\n      <td>-0.050649</td>\n      <td>1.0</td>\n      <td>-1.997435</td>\n      <td>1.0</td>\n    </tr>\n    <tr>\n      <th>WIN_20210406_18_49_10_Pro</th>\n      <td>1.0</td>\n      <td>0.0</td>\n      <td>0.450662</td>\n      <td>0.0</td>\n      <td>0.719298</td>\n      <td>-0.976086</td>\n      <td>1.0</td>\n      <td>-1.047256</td>\n      <td>1.0</td>\n    </tr>\n    <tr>\n      <th>WIN_20210406_21_05_52_Pro</th>\n      <td>1.0</td>\n      <td>0.0</td>\n      <td>0.487626</td>\n      <td>0.0</td>\n      <td>0.616216</td>\n      <td>-0.477955</td>\n      <td>1.0</td>\n      <td>-1.771559</td>\n      <td>1.0</td>\n    </tr>\n    <tr>\n      <th>WIN_20210407_09_04_05_Pro</th>\n      <td>1.0</td>\n      <td>0.0</td>\n      <td>0.499324</td>\n      <td>0.0</td>\n      <td>0.455497</td>\n      <td>0.178720</td>\n      <td>1.0</td>\n      <td>-1.968059</td>\n      <td>0.0</td>\n    </tr>\n    <tr>\n      <th>WIN_20210407_14_54_56_Pro_edit2</th>\n      <td>1.0</td>\n      <td>0.0</td>\n      <td>0.482889</td>\n      <td>0.0</td>\n      <td>0.635220</td>\n      <td>-0.561816</td>\n      <td>1.0</td>\n      <td>-1.684363</td>\n      <td>1.0</td>\n    </tr>\n    <tr>\n      <th>WIN_20210408_11_48_58_Pro</th>\n      <td>1.0</td>\n      <td>0.0</td>\n      <td>0.472120</td>\n      <td>1.0</td>\n      <td>0.982222</td>\n      <td>-0.056797</td>\n      <td>2.0</td>\n      <td>1.495706</td>\n      <td>1.0</td>\n    </tr>\n    <tr>\n      <th>WIN_20210408_14_00_44_Pro</th>\n      <td>1.0</td>\n      <td>0.0</td>\n      <td>0.410922</td>\n      <td>1.0</td>\n      <td>0.786517</td>\n      <td>-1.398442</td>\n      <td>1.0</td>\n      <td>-0.044361</td>\n      <td>1.0</td>\n    </tr>\n    <tr>\n      <th>WIN_20210408_14_02_19_Pro</th>\n      <td>1.0</td>\n      <td>0.0</td>\n      <td>0.513107</td>\n      <td>0.0</td>\n      <td>0.505882</td>\n      <td>0.108280</td>\n      <td>2.0</td>\n      <td>-1.664048</td>\n      <td>0.5</td>\n    </tr>\n    <tr>\n      <th>WIN_20210408_14_11_32_Pro</th>\n      <td>1.0</td>\n      <td>1.0</td>\n      <td>0.000000</td>\n      <td>1.0</td>\n      <td>1.000000</td>\n      <td>0.000000</td>\n      <td>1.0</td>\n      <td>-3.000000</td>\n      <td>1.0</td>\n    </tr>\n    <tr>\n      <th>WIN_20210408_15_20_51_Pro</th>\n      <td>2.0</td>\n      <td>0.0</td>\n      <td>0.821729</td>\n      <td>1.0</td>\n      <td>1.279412</td>\n      <td>-0.554907</td>\n      <td>2.0</td>\n      <td>-1.292869</td>\n      <td>2.0</td>\n    </tr>\n    <tr>\n      <th>WIN_20210408_16_04_32_Pro</th>\n      <td>1.0</td>\n      <td>0.0</td>\n      <td>0.366591</td>\n      <td>1.0</td>\n      <td>0.841176</td>\n      <td>-1.866844</td>\n      <td>1.0</td>\n      <td>1.485107</td>\n      <td>1.0</td>\n    </tr>\n    <tr>\n      <th>WIN_20210409_10_26_11_Pro</th>\n      <td>1.0</td>\n      <td>0.0</td>\n      <td>0.499563</td>\n      <td>0.0</td>\n      <td>0.456647</td>\n      <td>0.174066</td>\n      <td>1.0</td>\n      <td>-1.969701</td>\n      <td>0.0</td>\n    </tr>\n    <tr>\n      <th>WIN_20210413_15_38_01_Pro</th>\n      <td>1.0</td>\n      <td>0.0</td>\n      <td>0.419080</td>\n      <td>1.0</td>\n      <td>0.774566</td>\n      <td>-1.314132</td>\n      <td>1.0</td>\n      <td>-0.273058</td>\n      <td>1.0</td>\n    </tr>\n    <tr>\n      <th>WIN_20210414_06_24_52_Pro</th>\n      <td>0.0</td>\n      <td>0.0</td>\n      <td>0.101532</td>\n      <td>0.0</td>\n      <td>0.010363</td>\n      <td>9.670081</td>\n      <td>1.0</td>\n      <td>91.510471</td>\n      <td>0.0</td>\n    </tr>\n    <tr>\n      <th>WIN_20210415_15_41_24_Pro</th>\n      <td>1.0</td>\n      <td>0.0</td>\n      <td>0.496016</td>\n      <td>0.0</td>\n      <td>0.571429</td>\n      <td>-0.288675</td>\n      <td>1.0</td>\n      <td>-1.916667</td>\n      <td>1.0</td>\n    </tr>\n    <tr>\n      <th>WIN_20210416_08_06_54_Pro</th>\n      <td>1.0</td>\n      <td>0.0</td>\n      <td>0.078326</td>\n      <td>1.0</td>\n      <td>0.993865</td>\n      <td>-12.649355</td>\n      <td>1.0</td>\n      <td>158.006173</td>\n      <td>1.0</td>\n    </tr>\n    <tr>\n      <th>WIN_20210417_14_53_12_Pro</th>\n      <td>1.0</td>\n      <td>0.0</td>\n      <td>0.483674</td>\n      <td>0.0</td>\n      <td>0.633588</td>\n      <td>-0.554509</td>\n      <td>1.0</td>\n      <td>-1.692520</td>\n      <td>1.0</td>\n    </tr>\n  </tbody>\n</table>\n</div>"
     },
     "metadata": {},
     "execution_count": 66
    }
   ],
   "source": [
    "df_ypredict = pd.read_csv('ypredict_' + features + '_tw5_2.csv')\n",
    "df_ypredict = df_ypredict.iloc[:,1:]\n",
    "df_ypredict.columns = ['video_name','diapo','frameTimeWindow','ypredict']\n",
    "#df_ypredict = df_ypredict[['video_name','diapo','ypredict']].groupby(['video_name','diapo']).agg({'mean','min','max', 'median', 'std', percentil25, percentil75, kurtosis, skew})\n",
    "df_ypredict = df_ypredict[['video_name','ypredict']].groupby(['video_name']).agg({'mean','min','max', 'median', 'std', percentil25, percentil75, kurtosis, skew})\n",
    "df_ypredict\n"
   ]
  },
  {
   "cell_type": "code",
   "execution_count": 67,
   "metadata": {},
   "outputs": [],
   "source": [
    "df_annotations_stress = pd.read_csv('annotations.csv')\n",
    "df_annotations_stress = df_annotations_stress[['video_name','stress_global']]"
   ]
  },
  {
   "cell_type": "code",
   "execution_count": 68,
   "metadata": {},
   "outputs": [
    {
     "output_type": "execute_result",
     "data": {
      "text/plain": [
       "                         video_name  (ypredict, percentil75)  (ypredict, min)  \\\n",
       "0                    Test_pour_AFPA                      2.0              0.0   \n",
       "1                           Video_1                      1.0              0.0   \n",
       "2         WIN_20210323_19_17_40_Pro                      1.0              0.0   \n",
       "3         WIN_20210329_10_16_02_Pro                      1.0              0.0   \n",
       "4         WIN_20210330_13_10_29_Pro                      1.0              0.0   \n",
       "5         WIN_20210331_21_22_52_Pro                      1.0              0.0   \n",
       "6         WIN_20210402_14_27_50_Pro                      1.0              0.0   \n",
       "7         WIN_20210402_19_04_53_Pro                      0.0              0.0   \n",
       "8         WIN_20210403_18_49_15_Pro                      1.0              0.0   \n",
       "9         WIN_20210404_10_58_27_Pro                      1.0              0.0   \n",
       "10        WIN_20210404_21_41_12_Pro                      1.0              0.0   \n",
       "11        WIN_20210405_15_09_16_Pro                      1.0              0.0   \n",
       "12        WIN_20210406_15_06_15_Pro                      1.0              0.0   \n",
       "13        WIN_20210406_18_35_52_Pro                      1.0              0.0   \n",
       "14        WIN_20210406_18_49_10_Pro                      1.0              0.0   \n",
       "15        WIN_20210406_21_05_52_Pro                      1.0              0.0   \n",
       "16        WIN_20210407_09_04_05_Pro                      1.0              0.0   \n",
       "17  WIN_20210407_14_54_56_Pro_edit2                      1.0              0.0   \n",
       "18        WIN_20210408_11_48_58_Pro                      1.0              0.0   \n",
       "19        WIN_20210408_14_00_44_Pro                      1.0              0.0   \n",
       "20        WIN_20210408_14_02_19_Pro                      1.0              0.0   \n",
       "21        WIN_20210408_14_11_32_Pro                      1.0              1.0   \n",
       "22        WIN_20210408_15_20_51_Pro                      2.0              0.0   \n",
       "23        WIN_20210408_16_04_32_Pro                      1.0              0.0   \n",
       "24        WIN_20210409_10_26_11_Pro                      1.0              0.0   \n",
       "25        WIN_20210413_15_38_01_Pro                      1.0              0.0   \n",
       "26        WIN_20210414_06_24_52_Pro                      0.0              0.0   \n",
       "27        WIN_20210415_15_41_24_Pro                      1.0              0.0   \n",
       "28        WIN_20210416_08_06_54_Pro                      1.0              0.0   \n",
       "29        WIN_20210417_14_53_12_Pro                      1.0              0.0   \n",
       "\n",
       "    (ypredict, std)  (ypredict, percentil25)  (ypredict, mean)  \\\n",
       "0          0.728437                      1.0          1.232804   \n",
       "1          0.476744                      0.0          0.655629   \n",
       "2          0.483989                      0.0          0.630952   \n",
       "3          0.294547                      1.0          0.904762   \n",
       "4          0.115470                      1.0          1.000000   \n",
       "5          0.454279                      0.0          0.711765   \n",
       "6          0.194445                      1.0          1.005376   \n",
       "7          0.284001                      0.0          0.074286   \n",
       "8          0.451109                      0.0          0.718232   \n",
       "9          0.662700                      0.0          0.445000   \n",
       "10         0.447914                      0.0          0.724138   \n",
       "11         0.501109                      0.0          0.477419   \n",
       "12         0.400979                      1.0          0.800000   \n",
       "13         0.501429                      0.0          0.512658   \n",
       "14         0.450662                      0.0          0.719298   \n",
       "15         0.487626                      0.0          0.616216   \n",
       "16         0.499324                      0.0          0.455497   \n",
       "17         0.482889                      0.0          0.635220   \n",
       "18         0.472120                      1.0          0.982222   \n",
       "19         0.410922                      1.0          0.786517   \n",
       "20         0.513107                      0.0          0.505882   \n",
       "21         0.000000                      1.0          1.000000   \n",
       "22         0.821729                      1.0          1.279412   \n",
       "23         0.366591                      1.0          0.841176   \n",
       "24         0.499563                      0.0          0.456647   \n",
       "25         0.419080                      1.0          0.774566   \n",
       "26         0.101532                      0.0          0.010363   \n",
       "27         0.496016                      0.0          0.571429   \n",
       "28         0.078326                      1.0          0.993865   \n",
       "29         0.483674                      0.0          0.633588   \n",
       "\n",
       "    (ypredict, skew)  (ypredict, max)  (ypredict, kurtosis)  \\\n",
       "0          -0.387119              2.0             -1.041292   \n",
       "1          -0.655056              1.0             -1.570901   \n",
       "2          -0.542755              1.0             -1.705417   \n",
       "3          -2.757764              1.0              5.605263   \n",
       "4           0.000000              2.0             72.500000   \n",
       "5          -0.935065              1.0             -1.125654   \n",
       "6           0.654047              2.0             23.535147   \n",
       "7           3.975646              2.0             16.400354   \n",
       "8          -0.970220              1.0             -1.058673   \n",
       "9           1.189224              2.0              0.169115   \n",
       "10         -1.002972              1.0             -0.994048   \n",
       "11          0.090415              1.0             -1.991825   \n",
       "12         -1.500000              1.0              0.250000   \n",
       "13         -0.050649              1.0             -1.997435   \n",
       "14         -0.976086              1.0             -1.047256   \n",
       "15         -0.477955              1.0             -1.771559   \n",
       "16          0.178720              1.0             -1.968059   \n",
       "17         -0.561816              1.0             -1.684363   \n",
       "18         -0.056797              2.0              1.495706   \n",
       "19         -1.398442              1.0             -0.044361   \n",
       "20          0.108280              2.0             -1.664048   \n",
       "21          0.000000              1.0             -3.000000   \n",
       "22         -0.554907              2.0             -1.292869   \n",
       "23         -1.866844              1.0              1.485107   \n",
       "24          0.174066              1.0             -1.969701   \n",
       "25         -1.314132              1.0             -0.273058   \n",
       "26          9.670081              1.0             91.510471   \n",
       "27         -0.288675              1.0             -1.916667   \n",
       "28        -12.649355              1.0            158.006173   \n",
       "29         -0.554509              1.0             -1.692520   \n",
       "\n",
       "    (ypredict, median)  stress_global  \n",
       "0                  1.0            1.0  \n",
       "1                  1.0            0.0  \n",
       "2                  1.0            1.0  \n",
       "3                  1.0            1.0  \n",
       "4                  1.0            0.0  \n",
       "5                  1.0            1.0  \n",
       "6                  1.0            1.0  \n",
       "7                  0.0            2.0  \n",
       "8                  1.0            2.0  \n",
       "9                  0.0            1.0  \n",
       "10                 1.0            0.0  \n",
       "11                 0.0            1.0  \n",
       "12                 1.0            2.0  \n",
       "13                 1.0            0.0  \n",
       "14                 1.0            1.0  \n",
       "15                 1.0            2.0  \n",
       "16                 0.0            2.0  \n",
       "17                 1.0            0.0  \n",
       "18                 1.0            2.0  \n",
       "19                 1.0            0.0  \n",
       "20                 0.5            0.0  \n",
       "21                 1.0            2.0  \n",
       "22                 2.0            0.0  \n",
       "23                 1.0            0.0  \n",
       "24                 0.0            0.0  \n",
       "25                 1.0            1.0  \n",
       "26                 0.0            2.0  \n",
       "27                 1.0            0.0  \n",
       "28                 1.0            1.0  \n",
       "29                 1.0            0.0  "
      ],
      "text/html": "<div>\n<style scoped>\n    .dataframe tbody tr th:only-of-type {\n        vertical-align: middle;\n    }\n\n    .dataframe tbody tr th {\n        vertical-align: top;\n    }\n\n    .dataframe thead th {\n        text-align: right;\n    }\n</style>\n<table border=\"1\" class=\"dataframe\">\n  <thead>\n    <tr style=\"text-align: right;\">\n      <th></th>\n      <th>video_name</th>\n      <th>(ypredict, percentil75)</th>\n      <th>(ypredict, min)</th>\n      <th>(ypredict, std)</th>\n      <th>(ypredict, percentil25)</th>\n      <th>(ypredict, mean)</th>\n      <th>(ypredict, skew)</th>\n      <th>(ypredict, max)</th>\n      <th>(ypredict, kurtosis)</th>\n      <th>(ypredict, median)</th>\n      <th>stress_global</th>\n    </tr>\n  </thead>\n  <tbody>\n    <tr>\n      <th>0</th>\n      <td>Test_pour_AFPA</td>\n      <td>2.0</td>\n      <td>0.0</td>\n      <td>0.728437</td>\n      <td>1.0</td>\n      <td>1.232804</td>\n      <td>-0.387119</td>\n      <td>2.0</td>\n      <td>-1.041292</td>\n      <td>1.0</td>\n      <td>1.0</td>\n    </tr>\n    <tr>\n      <th>1</th>\n      <td>Video_1</td>\n      <td>1.0</td>\n      <td>0.0</td>\n      <td>0.476744</td>\n      <td>0.0</td>\n      <td>0.655629</td>\n      <td>-0.655056</td>\n      <td>1.0</td>\n      <td>-1.570901</td>\n      <td>1.0</td>\n      <td>0.0</td>\n    </tr>\n    <tr>\n      <th>2</th>\n      <td>WIN_20210323_19_17_40_Pro</td>\n      <td>1.0</td>\n      <td>0.0</td>\n      <td>0.483989</td>\n      <td>0.0</td>\n      <td>0.630952</td>\n      <td>-0.542755</td>\n      <td>1.0</td>\n      <td>-1.705417</td>\n      <td>1.0</td>\n      <td>1.0</td>\n    </tr>\n    <tr>\n      <th>3</th>\n      <td>WIN_20210329_10_16_02_Pro</td>\n      <td>1.0</td>\n      <td>0.0</td>\n      <td>0.294547</td>\n      <td>1.0</td>\n      <td>0.904762</td>\n      <td>-2.757764</td>\n      <td>1.0</td>\n      <td>5.605263</td>\n      <td>1.0</td>\n      <td>1.0</td>\n    </tr>\n    <tr>\n      <th>4</th>\n      <td>WIN_20210330_13_10_29_Pro</td>\n      <td>1.0</td>\n      <td>0.0</td>\n      <td>0.115470</td>\n      <td>1.0</td>\n      <td>1.000000</td>\n      <td>0.000000</td>\n      <td>2.0</td>\n      <td>72.500000</td>\n      <td>1.0</td>\n      <td>0.0</td>\n    </tr>\n    <tr>\n      <th>5</th>\n      <td>WIN_20210331_21_22_52_Pro</td>\n      <td>1.0</td>\n      <td>0.0</td>\n      <td>0.454279</td>\n      <td>0.0</td>\n      <td>0.711765</td>\n      <td>-0.935065</td>\n      <td>1.0</td>\n      <td>-1.125654</td>\n      <td>1.0</td>\n      <td>1.0</td>\n    </tr>\n    <tr>\n      <th>6</th>\n      <td>WIN_20210402_14_27_50_Pro</td>\n      <td>1.0</td>\n      <td>0.0</td>\n      <td>0.194445</td>\n      <td>1.0</td>\n      <td>1.005376</td>\n      <td>0.654047</td>\n      <td>2.0</td>\n      <td>23.535147</td>\n      <td>1.0</td>\n      <td>1.0</td>\n    </tr>\n    <tr>\n      <th>7</th>\n      <td>WIN_20210402_19_04_53_Pro</td>\n      <td>0.0</td>\n      <td>0.0</td>\n      <td>0.284001</td>\n      <td>0.0</td>\n      <td>0.074286</td>\n      <td>3.975646</td>\n      <td>2.0</td>\n      <td>16.400354</td>\n      <td>0.0</td>\n      <td>2.0</td>\n    </tr>\n    <tr>\n      <th>8</th>\n      <td>WIN_20210403_18_49_15_Pro</td>\n      <td>1.0</td>\n      <td>0.0</td>\n      <td>0.451109</td>\n      <td>0.0</td>\n      <td>0.718232</td>\n      <td>-0.970220</td>\n      <td>1.0</td>\n      <td>-1.058673</td>\n      <td>1.0</td>\n      <td>2.0</td>\n    </tr>\n    <tr>\n      <th>9</th>\n      <td>WIN_20210404_10_58_27_Pro</td>\n      <td>1.0</td>\n      <td>0.0</td>\n      <td>0.662700</td>\n      <td>0.0</td>\n      <td>0.445000</td>\n      <td>1.189224</td>\n      <td>2.0</td>\n      <td>0.169115</td>\n      <td>0.0</td>\n      <td>1.0</td>\n    </tr>\n    <tr>\n      <th>10</th>\n      <td>WIN_20210404_21_41_12_Pro</td>\n      <td>1.0</td>\n      <td>0.0</td>\n      <td>0.447914</td>\n      <td>0.0</td>\n      <td>0.724138</td>\n      <td>-1.002972</td>\n      <td>1.0</td>\n      <td>-0.994048</td>\n      <td>1.0</td>\n      <td>0.0</td>\n    </tr>\n    <tr>\n      <th>11</th>\n      <td>WIN_20210405_15_09_16_Pro</td>\n      <td>1.0</td>\n      <td>0.0</td>\n      <td>0.501109</td>\n      <td>0.0</td>\n      <td>0.477419</td>\n      <td>0.090415</td>\n      <td>1.0</td>\n      <td>-1.991825</td>\n      <td>0.0</td>\n      <td>1.0</td>\n    </tr>\n    <tr>\n      <th>12</th>\n      <td>WIN_20210406_15_06_15_Pro</td>\n      <td>1.0</td>\n      <td>0.0</td>\n      <td>0.400979</td>\n      <td>1.0</td>\n      <td>0.800000</td>\n      <td>-1.500000</td>\n      <td>1.0</td>\n      <td>0.250000</td>\n      <td>1.0</td>\n      <td>2.0</td>\n    </tr>\n    <tr>\n      <th>13</th>\n      <td>WIN_20210406_18_35_52_Pro</td>\n      <td>1.0</td>\n      <td>0.0</td>\n      <td>0.501429</td>\n      <td>0.0</td>\n      <td>0.512658</td>\n      <td>-0.050649</td>\n      <td>1.0</td>\n      <td>-1.997435</td>\n      <td>1.0</td>\n      <td>0.0</td>\n    </tr>\n    <tr>\n      <th>14</th>\n      <td>WIN_20210406_18_49_10_Pro</td>\n      <td>1.0</td>\n      <td>0.0</td>\n      <td>0.450662</td>\n      <td>0.0</td>\n      <td>0.719298</td>\n      <td>-0.976086</td>\n      <td>1.0</td>\n      <td>-1.047256</td>\n      <td>1.0</td>\n      <td>1.0</td>\n    </tr>\n    <tr>\n      <th>15</th>\n      <td>WIN_20210406_21_05_52_Pro</td>\n      <td>1.0</td>\n      <td>0.0</td>\n      <td>0.487626</td>\n      <td>0.0</td>\n      <td>0.616216</td>\n      <td>-0.477955</td>\n      <td>1.0</td>\n      <td>-1.771559</td>\n      <td>1.0</td>\n      <td>2.0</td>\n    </tr>\n    <tr>\n      <th>16</th>\n      <td>WIN_20210407_09_04_05_Pro</td>\n      <td>1.0</td>\n      <td>0.0</td>\n      <td>0.499324</td>\n      <td>0.0</td>\n      <td>0.455497</td>\n      <td>0.178720</td>\n      <td>1.0</td>\n      <td>-1.968059</td>\n      <td>0.0</td>\n      <td>2.0</td>\n    </tr>\n    <tr>\n      <th>17</th>\n      <td>WIN_20210407_14_54_56_Pro_edit2</td>\n      <td>1.0</td>\n      <td>0.0</td>\n      <td>0.482889</td>\n      <td>0.0</td>\n      <td>0.635220</td>\n      <td>-0.561816</td>\n      <td>1.0</td>\n      <td>-1.684363</td>\n      <td>1.0</td>\n      <td>0.0</td>\n    </tr>\n    <tr>\n      <th>18</th>\n      <td>WIN_20210408_11_48_58_Pro</td>\n      <td>1.0</td>\n      <td>0.0</td>\n      <td>0.472120</td>\n      <td>1.0</td>\n      <td>0.982222</td>\n      <td>-0.056797</td>\n      <td>2.0</td>\n      <td>1.495706</td>\n      <td>1.0</td>\n      <td>2.0</td>\n    </tr>\n    <tr>\n      <th>19</th>\n      <td>WIN_20210408_14_00_44_Pro</td>\n      <td>1.0</td>\n      <td>0.0</td>\n      <td>0.410922</td>\n      <td>1.0</td>\n      <td>0.786517</td>\n      <td>-1.398442</td>\n      <td>1.0</td>\n      <td>-0.044361</td>\n      <td>1.0</td>\n      <td>0.0</td>\n    </tr>\n    <tr>\n      <th>20</th>\n      <td>WIN_20210408_14_02_19_Pro</td>\n      <td>1.0</td>\n      <td>0.0</td>\n      <td>0.513107</td>\n      <td>0.0</td>\n      <td>0.505882</td>\n      <td>0.108280</td>\n      <td>2.0</td>\n      <td>-1.664048</td>\n      <td>0.5</td>\n      <td>0.0</td>\n    </tr>\n    <tr>\n      <th>21</th>\n      <td>WIN_20210408_14_11_32_Pro</td>\n      <td>1.0</td>\n      <td>1.0</td>\n      <td>0.000000</td>\n      <td>1.0</td>\n      <td>1.000000</td>\n      <td>0.000000</td>\n      <td>1.0</td>\n      <td>-3.000000</td>\n      <td>1.0</td>\n      <td>2.0</td>\n    </tr>\n    <tr>\n      <th>22</th>\n      <td>WIN_20210408_15_20_51_Pro</td>\n      <td>2.0</td>\n      <td>0.0</td>\n      <td>0.821729</td>\n      <td>1.0</td>\n      <td>1.279412</td>\n      <td>-0.554907</td>\n      <td>2.0</td>\n      <td>-1.292869</td>\n      <td>2.0</td>\n      <td>0.0</td>\n    </tr>\n    <tr>\n      <th>23</th>\n      <td>WIN_20210408_16_04_32_Pro</td>\n      <td>1.0</td>\n      <td>0.0</td>\n      <td>0.366591</td>\n      <td>1.0</td>\n      <td>0.841176</td>\n      <td>-1.866844</td>\n      <td>1.0</td>\n      <td>1.485107</td>\n      <td>1.0</td>\n      <td>0.0</td>\n    </tr>\n    <tr>\n      <th>24</th>\n      <td>WIN_20210409_10_26_11_Pro</td>\n      <td>1.0</td>\n      <td>0.0</td>\n      <td>0.499563</td>\n      <td>0.0</td>\n      <td>0.456647</td>\n      <td>0.174066</td>\n      <td>1.0</td>\n      <td>-1.969701</td>\n      <td>0.0</td>\n      <td>0.0</td>\n    </tr>\n    <tr>\n      <th>25</th>\n      <td>WIN_20210413_15_38_01_Pro</td>\n      <td>1.0</td>\n      <td>0.0</td>\n      <td>0.419080</td>\n      <td>1.0</td>\n      <td>0.774566</td>\n      <td>-1.314132</td>\n      <td>1.0</td>\n      <td>-0.273058</td>\n      <td>1.0</td>\n      <td>1.0</td>\n    </tr>\n    <tr>\n      <th>26</th>\n      <td>WIN_20210414_06_24_52_Pro</td>\n      <td>0.0</td>\n      <td>0.0</td>\n      <td>0.101532</td>\n      <td>0.0</td>\n      <td>0.010363</td>\n      <td>9.670081</td>\n      <td>1.0</td>\n      <td>91.510471</td>\n      <td>0.0</td>\n      <td>2.0</td>\n    </tr>\n    <tr>\n      <th>27</th>\n      <td>WIN_20210415_15_41_24_Pro</td>\n      <td>1.0</td>\n      <td>0.0</td>\n      <td>0.496016</td>\n      <td>0.0</td>\n      <td>0.571429</td>\n      <td>-0.288675</td>\n      <td>1.0</td>\n      <td>-1.916667</td>\n      <td>1.0</td>\n      <td>0.0</td>\n    </tr>\n    <tr>\n      <th>28</th>\n      <td>WIN_20210416_08_06_54_Pro</td>\n      <td>1.0</td>\n      <td>0.0</td>\n      <td>0.078326</td>\n      <td>1.0</td>\n      <td>0.993865</td>\n      <td>-12.649355</td>\n      <td>1.0</td>\n      <td>158.006173</td>\n      <td>1.0</td>\n      <td>1.0</td>\n    </tr>\n    <tr>\n      <th>29</th>\n      <td>WIN_20210417_14_53_12_Pro</td>\n      <td>1.0</td>\n      <td>0.0</td>\n      <td>0.483674</td>\n      <td>0.0</td>\n      <td>0.633588</td>\n      <td>-0.554509</td>\n      <td>1.0</td>\n      <td>-1.692520</td>\n      <td>1.0</td>\n      <td>0.0</td>\n    </tr>\n  </tbody>\n</table>\n</div>"
     },
     "metadata": {},
     "execution_count": 68
    }
   ],
   "source": [
    "Xy = df_ypredict.merge(df_annotations_stress, on='video_name')\n",
    "X = Xy.iloc[:,:-1].set_index('video_name')\n",
    "y = Xy.iloc[:,-1]\n",
    "Xy"
   ]
  },
  {
   "cell_type": "code",
   "execution_count": 73,
   "metadata": {},
   "outputs": [
    {
     "output_type": "stream",
     "name": "stdout",
     "text": [
      "Fitting 5 folds for each of 16 candidates, totalling 80 fits\n",
      "[Parallel(n_jobs=1)]: Using backend SequentialBackend with 1 concurrent workers.\n",
      "Best results 0.3699206349206349\n",
      "Best params {'C': 0.5, 'class_weight': None}\n",
      "accuracy (mean, std) 0.4333333333333333 0.2260776661041756\n",
      "f1 (mean, std) 0.3699206349206349 0.20778929721787115\n",
      "balanced accuracy (mean, std) 0.4111111111111111 0.20667861375264746\n",
      "precision (mean, std) 0.3488888888888889 0.21697698575120591\n",
      "recall (mean, std) 0.4333333333333333 0.2260776661041756\n",
      "[Parallel(n_jobs=1)]: Done  80 out of  80 | elapsed:    2.0s finished\n"
     ]
    }
   ],
   "source": [
    "parameters = {'C': [0.01, 0.05, 0.1, 0.5, 1, 2, 10, 20], 'class_weight' : [None, 'balanced']}\n",
    "from sklearn.model_selection import LeaveOneGroupOut\n",
    "from sklearn.linear_model import LogisticRegression\n",
    "from sklearn.model_selection import cross_val_predict, GridSearchCV\n",
    "from sklearn.metrics import accuracy_score, f1_score\n",
    "import warnings\n",
    "warnings.filterwarnings(\"ignore\")\n",
    "\n",
    "groups = X.reset_index()['video_name']\n",
    "loo = LeaveOneGroupOut()\n",
    "cv_loo = loo.split(X, y, groups)\n",
    "X_no_name = X\n",
    "y_no_name = y\n",
    "\n",
    "model = LogisticRegression(multi_class='multinomial', fit_intercept=True, random_state=42)\n",
    "\n",
    "#from sklearn.neighbors import KNeighborsClassifier\n",
    "#model = KNeighborsClassifier(n_jobs=-1)\n",
    "#parameters = {'n_neighbors': [4, 5, 6, 7, 8, 9, 10, 11, 12,  15, 20], 'weights' : ['uniform', 'distance'], 'p': [1, 2]}\n",
    "\n",
    "#from sklearn.ensemble import RandomForestClassifier, RandomForestRegressor\n",
    "#model = RandomForestClassifier(random_state = 42, n_jobs=-1)\n",
    "#parameters = {'n_estimators': [50, 100, 200], 'max_depth':[3,4, 5,6, 10, 15, 20], 'class_weight':[None,'balanced']}\n",
    "\n",
    "clf = GridSearchCV(estimator=model, \n",
    "                    param_grid=parameters, \n",
    "                    scoring={'accuracy_score' : 'accuracy', 'f1_score' : 'f1_weighted' , \n",
    "                             'balanced_accuracy_score' : 'balanced_accuracy', \n",
    "                             'precision' : 'precision_weighted', 'recall' : 'recall_weighted'}, \n",
    "                    refit='f1_score',\n",
    "                    cv=5, verbose=1)\n",
    "clf.fit(X_no_name, y_no_name)\n",
    "print('Best results', clf.best_score_)\n",
    "print('Best params', clf.best_params_)\n",
    "print('accuracy (mean, std)', clf.cv_results_['mean_test_accuracy_score'][clf.best_index_], clf.cv_results_['std_test_accuracy_score'][clf.best_index_])\n",
    "print('f1 (mean, std)', clf.cv_results_['mean_test_f1_score'][clf.best_index_], clf.cv_results_['std_test_f1_score'][clf.best_index_])\n",
    "print('balanced accuracy (mean, std)', clf.cv_results_['mean_test_balanced_accuracy_score'][clf.best_index_], clf.cv_results_['std_test_balanced_accuracy_score'][clf.best_index_])\n",
    "print('precision (mean, std)', clf.cv_results_['mean_test_precision'][clf.best_index_], clf.cv_results_['std_test_precision'][clf.best_index_])\n",
    "print('recall (mean, std)', clf.cv_results_['mean_test_recall'][clf.best_index_], clf.cv_results_['std_test_recall'][clf.best_index_])"
   ]
  },
  {
   "cell_type": "code",
   "execution_count": 74,
   "metadata": {},
   "outputs": [],
   "source": [
    "from sklearn.model_selection import cross_val_predict\n",
    "ypredict_stress_global = cross_val_predict(clf.best_estimator_,X_no_name,y_no_name,cv=5)"
   ]
  },
  {
   "cell_type": "code",
   "execution_count": null,
   "metadata": {},
   "outputs": [],
   "source": []
  }
 ]
}