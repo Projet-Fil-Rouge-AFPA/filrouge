{
 "cells": [
  {
   "cell_type": "code",
   "execution_count": 1,
   "metadata": {},
   "outputs": [],
   "source": [
    "import os\n",
    "import subprocess\n",
    "import pandas as pd\n",
    "import platform\n",
    "import pathlib\n",
    "import numpy as np\n",
    "from annotations import *\n",
    "from extract_video_features import *\n",
    "from extract_audio_features import *\n",
    "import cv2\n",
    "import seaborn as sns\n",
    "from scipy.stats import kurtosis, skew\n",
    "from sklearn.metrics import f1_score\n",
    "import importlib\n",
    "from tqdm import tqdm\n",
    "import ordinal_classification as o_c\n",
    "from sklearn.metrics import confusion_matrix\n",
    "from sklearn.model_selection import GridSearchCV\n",
    "from util import runGridSearchClassifiers\n",
    "from sklearn.model_selection import cross_val_predict"
   ]
  },
  {
   "cell_type": "code",
   "execution_count": 2,
   "metadata": {},
   "outputs": [],
   "source": [
    "#get current directory\n",
    "cwd = os.getcwd()"
   ]
  },
  {
   "cell_type": "code",
   "execution_count": 3,
   "metadata": {},
   "outputs": [
    {
     "output_type": "execute_result",
     "data": {
      "text/plain": [
       "'/Users/valentinadiproietto/filrouge'"
      ]
     },
     "metadata": {},
     "execution_count": 3
    }
   ],
   "source": [
    "cwd"
   ]
  },
  {
   "cell_type": "code",
   "execution_count": 4,
   "metadata": {},
   "outputs": [],
   "source": [
    "OpenFace_folder = '/Users/valentinadiproietto/OpenFace'\n",
    "filename_annotations = 'https://docs.google.com/spreadsheets/d/1Rqu1sJiD-ogc4a6R491JTiaYacptOTqh6DKqhwTa8NA/gviz/tq?tqx=out:csv&sheet=Template'"
   ]
  },
  {
   "cell_type": "code",
   "execution_count": 5,
   "metadata": {},
   "outputs": [],
   "source": [
    "Video_folder = '/Users/valentinadiproietto/Desktop/video_stress'"
   ]
  },
  {
   "cell_type": "code",
   "execution_count": 6,
   "metadata": {},
   "outputs": [],
   "source": [
    "video_paths, video_names = get_videos(Video_folder)"
   ]
  },
  {
   "cell_type": "code",
   "execution_count": 7,
   "metadata": {},
   "outputs": [
    {
     "output_type": "execute_result",
     "data": {
      "text/plain": [
       "['WIN_20210331_21_22_52_Pro',\n",
       " 'WIN_20210329_14_13_45_Pro',\n",
       " 'WIN_20210406_18_49_10_Pro',\n",
       " 'WIN_20210408_14_11_32_Pro',\n",
       " 'WIN_20210408_15_20_51_Pro',\n",
       " 'WIN_20210404_10_58_27_Pro',\n",
       " 'WIN_20210414_06_24_52_Pro',\n",
       " 'WIN_20210406_15_06_15_Pro',\n",
       " 'WIN_20210417_14_53_12_Pro',\n",
       " 'WIN_20210413_15_38_01_Pro',\n",
       " 'WIN_20210408_11_48_58_Pro',\n",
       " 'WIN_20210408_16_04_32_Pro',\n",
       " 'WIN_20210329_10_16_02_Pro',\n",
       " 'WIN_20210323_19_17_40_Pro',\n",
       " 'WIN_20210409_10_26_11_Pro',\n",
       " 'Test_pour_AFPA',\n",
       " 'WIN_20210405_15_09_16_Pro',\n",
       " 'WIN_20210407_14_54_56_Pro_edit2',\n",
       " 'WIN_20210406_21_05_52_Pro',\n",
       " 'WIN_20210403_18_49_15_Pro',\n",
       " 'WIN_20210408_14_02_19_Pro',\n",
       " 'WIN_20210415_15_41_24_Pro',\n",
       " 'WIN_20210406_18_35_52_Pro',\n",
       " 'WIN_20210402_14_27_50_Pro',\n",
       " 'WIN_20210407_09_04_05_Pro',\n",
       " 'WIN_20210402_19_04_53_Pro',\n",
       " 'WIN_20210416_08_06_54_Pro',\n",
       " 'Video_1',\n",
       " 'WIN_20210408_14_00_44_Pro',\n",
       " 'WIN_20210404_21_41_12_Pro',\n",
       " 'WIN_20210330_13_10_29_Pro']"
      ]
     },
     "metadata": {},
     "execution_count": 7
    }
   ],
   "source": [
    "video_names"
   ]
  },
  {
   "cell_type": "code",
   "execution_count": 8,
   "metadata": {},
   "outputs": [],
   "source": [
    "list_dataframes = []\n",
    "for i in video_names: \n",
    "    list_dataframes.append(create_dataframe_video('/Users/valentinadiproietto/OpenFace/processed/', i))\n"
   ]
  },
  {
   "cell_type": "code",
   "execution_count": 9,
   "metadata": {},
   "outputs": [],
   "source": [
    "video_names.remove('WIN_20210329_14_13_45_Pro')\n",
    "video_names.remove('WIN_20210402_14_27_50_Pro')\n"
   ]
  },
  {
   "cell_type": "code",
   "execution_count": 10,
   "metadata": {},
   "outputs": [
    {
     "output_type": "execute_result",
     "data": {
      "text/plain": [
       "29"
      ]
     },
     "metadata": {},
     "execution_count": 10
    }
   ],
   "source": [
    "len(video_names)"
   ]
  },
  {
   "cell_type": "code",
   "execution_count": 11,
   "metadata": {},
   "outputs": [
    {
     "output_type": "stream",
     "name": "stderr",
     "text": [
      "100%|██████████| 29/29 [02:39<00:00,  5.50s/it]\n"
     ]
    }
   ],
   "source": [
    "list_df_max = []\n",
    "for v_name in tqdm(video_names):\n",
    "    df_annoted = get_df_video_with_annotations('/Users/valentinadiproietto/OpenFace/processed/', v_name, filename_annotations, \"max\")\n",
    "    list_df_max.append(eliminate_features(df_annoted))\n",
    "\n",
    "\n",
    "    "
   ]
  },
  {
   "source": [
    "## RECUPERO LE PREDIZIONI SULLE TIME WINDOW"
   ],
   "cell_type": "markdown",
   "metadata": {}
  },
  {
   "cell_type": "code",
   "execution_count": 2,
   "metadata": {},
   "outputs": [
    {
     "output_type": "error",
     "ename": "NameError",
     "evalue": "name 'predict5s' is not defined",
     "traceback": [
      "\u001b[0;31m---------------------------------------------------------------------------\u001b[0m",
      "\u001b[0;31mNameError\u001b[0m                                 Traceback (most recent call last)",
      "\u001b[0;32m<ipython-input-2-752576ead654>\u001b[0m in \u001b[0;36m<module>\u001b[0;34m\u001b[0m\n\u001b[0;32m----> 1\u001b[0;31m \u001b[0mpredict5s\u001b[0m\u001b[0;34m.\u001b[0m\u001b[0mto_csv\u001b[0m\u001b[0;34m(\u001b[0m\u001b[0;34m'all_features_tw5.csv'\u001b[0m\u001b[0;34m)\u001b[0m\u001b[0;34m\u001b[0m\u001b[0;34m\u001b[0m\u001b[0m\n\u001b[0m",
      "\u001b[0;31mNameError\u001b[0m: name 'predict5s' is not defined"
     ]
    }
   ],
   "source": [
    "predict5s.to_csv('all_features_tw5.csv')"
   ]
  },
  {
   "cell_type": "code",
   "execution_count": 4,
   "metadata": {},
   "outputs": [],
   "source": [
    "predict5s = pd.read_csv(\"all_features_tw5.csv\")"
   ]
  },
  {
   "cell_type": "code",
   "execution_count": 5,
   "metadata": {},
   "outputs": [
    {
     "output_type": "execute_result",
     "data": {
      "text/plain": [
       "                     video_name  diapo  frameTimeWindow  ypredict\n",
       "0                Test_pour_AFPA      9               44       0.0\n",
       "1                Test_pour_AFPA      9               45       0.0\n",
       "2                Test_pour_AFPA      9               46       0.0\n",
       "3                Test_pour_AFPA      9               47       0.0\n",
       "4                Test_pour_AFPA      9               48       0.0\n",
       "...                         ...    ...              ...       ...\n",
       "5136  WIN_20210417_14_53_12_Pro     18              120       1.0\n",
       "5137  WIN_20210417_14_53_12_Pro     18              121       1.0\n",
       "5138  WIN_20210417_14_53_12_Pro     18              122       1.0\n",
       "5139  WIN_20210417_14_53_12_Pro     18              123       1.0\n",
       "5140  WIN_20210417_14_53_12_Pro     18              124       1.0\n",
       "\n",
       "[5141 rows x 4 columns]"
      ],
      "text/html": "<div>\n<style scoped>\n    .dataframe tbody tr th:only-of-type {\n        vertical-align: middle;\n    }\n\n    .dataframe tbody tr th {\n        vertical-align: top;\n    }\n\n    .dataframe thead th {\n        text-align: right;\n    }\n</style>\n<table border=\"1\" class=\"dataframe\">\n  <thead>\n    <tr style=\"text-align: right;\">\n      <th></th>\n      <th>video_name</th>\n      <th>diapo</th>\n      <th>frameTimeWindow</th>\n      <th>ypredict</th>\n    </tr>\n  </thead>\n  <tbody>\n    <tr>\n      <th>0</th>\n      <td>Test_pour_AFPA</td>\n      <td>9</td>\n      <td>44</td>\n      <td>0.0</td>\n    </tr>\n    <tr>\n      <th>1</th>\n      <td>Test_pour_AFPA</td>\n      <td>9</td>\n      <td>45</td>\n      <td>0.0</td>\n    </tr>\n    <tr>\n      <th>2</th>\n      <td>Test_pour_AFPA</td>\n      <td>9</td>\n      <td>46</td>\n      <td>0.0</td>\n    </tr>\n    <tr>\n      <th>3</th>\n      <td>Test_pour_AFPA</td>\n      <td>9</td>\n      <td>47</td>\n      <td>0.0</td>\n    </tr>\n    <tr>\n      <th>4</th>\n      <td>Test_pour_AFPA</td>\n      <td>9</td>\n      <td>48</td>\n      <td>0.0</td>\n    </tr>\n    <tr>\n      <th>...</th>\n      <td>...</td>\n      <td>...</td>\n      <td>...</td>\n      <td>...</td>\n    </tr>\n    <tr>\n      <th>5136</th>\n      <td>WIN_20210417_14_53_12_Pro</td>\n      <td>18</td>\n      <td>120</td>\n      <td>1.0</td>\n    </tr>\n    <tr>\n      <th>5137</th>\n      <td>WIN_20210417_14_53_12_Pro</td>\n      <td>18</td>\n      <td>121</td>\n      <td>1.0</td>\n    </tr>\n    <tr>\n      <th>5138</th>\n      <td>WIN_20210417_14_53_12_Pro</td>\n      <td>18</td>\n      <td>122</td>\n      <td>1.0</td>\n    </tr>\n    <tr>\n      <th>5139</th>\n      <td>WIN_20210417_14_53_12_Pro</td>\n      <td>18</td>\n      <td>123</td>\n      <td>1.0</td>\n    </tr>\n    <tr>\n      <th>5140</th>\n      <td>WIN_20210417_14_53_12_Pro</td>\n      <td>18</td>\n      <td>124</td>\n      <td>1.0</td>\n    </tr>\n  </tbody>\n</table>\n<p>5141 rows × 4 columns</p>\n</div>"
     },
     "metadata": {},
     "execution_count": 5
    }
   ],
   "source": [
    "predict5s = pd.read_csv('all_features_tw5.csv').drop(\"Unnamed: 0\", axis =1)\n",
    "predict5s"
   ]
  },
  {
   "source": [
    "## PIVOT TABLE WITH COUNT OF PREDICTION 5SEC, TO PREDICT STRESS Global"
   ],
   "cell_type": "markdown",
   "metadata": {}
  },
  {
   "cell_type": "code",
   "execution_count": 6,
   "metadata": {},
   "outputs": [
    {
     "output_type": "execute_result",
     "data": {
      "text/plain": [
       "ypredict                              0.0       1.0       2.0\n",
       "video_name                                                   \n",
       "Test_pour_AFPA                   0.338624  0.656085  0.005291\n",
       "Video_1                          0.556291  0.443709  0.000000\n",
       "WIN_20210323_19_17_40_Pro        0.059524  0.940476  0.000000\n",
       "WIN_20210329_10_16_02_Pro        0.095238  0.904762  0.000000\n",
       "WIN_20210330_13_10_29_Pro        0.357616  0.629139  0.013245\n",
       "WIN_20210331_21_22_52_Pro        0.047059  0.800000  0.152941\n",
       "WIN_20210402_19_04_53_Pro        0.497143  0.474286  0.028571\n",
       "WIN_20210403_18_49_15_Pro        0.198895  0.790055  0.011050\n",
       "WIN_20210404_10_58_27_Pro        0.570000  0.430000  0.000000\n",
       "WIN_20210404_21_41_12_Pro        0.465517  0.534483  0.000000\n",
       "WIN_20210405_15_09_16_Pro        0.219355  0.780645  0.000000\n",
       "WIN_20210406_15_06_15_Pro        0.268293  0.731707  0.000000\n",
       "WIN_20210406_18_35_52_Pro        0.158228  0.841772  0.000000\n",
       "WIN_20210406_18_49_10_Pro        0.380117  0.614035  0.005848\n",
       "WIN_20210406_21_05_52_Pro        0.010811  0.918919  0.070270\n",
       "WIN_20210407_09_04_05_Pro        0.963351  0.026178  0.010471\n",
       "WIN_20210407_14_54_56_Pro_edit2  0.490566  0.509434  0.000000\n",
       "WIN_20210408_11_48_58_Pro        0.222222  0.737778  0.040000\n",
       "WIN_20210408_14_00_44_Pro        0.410112  0.589888  0.000000\n",
       "WIN_20210408_14_02_19_Pro        0.035294  0.964706  0.000000\n",
       "WIN_20210408_14_11_32_Pro        0.615385  0.384615  0.000000\n",
       "WIN_20210408_15_20_51_Pro        0.151961  0.382353  0.465686\n",
       "WIN_20210408_16_04_32_Pro        0.211765  0.758824  0.029412\n",
       "WIN_20210409_10_26_11_Pro        0.231214  0.768786  0.000000\n",
       "WIN_20210413_15_38_01_Pro        0.277457  0.722543  0.000000\n",
       "WIN_20210414_06_24_52_Pro        0.176166  0.803109  0.020725\n",
       "WIN_20210415_15_41_24_Pro        0.350230  0.649770  0.000000\n",
       "WIN_20210416_08_06_54_Pro        0.128834  0.809816  0.061350\n",
       "WIN_20210417_14_53_12_Pro        0.694656  0.305344  0.000000"
      ],
      "text/html": "<div>\n<style scoped>\n    .dataframe tbody tr th:only-of-type {\n        vertical-align: middle;\n    }\n\n    .dataframe tbody tr th {\n        vertical-align: top;\n    }\n\n    .dataframe thead th {\n        text-align: right;\n    }\n</style>\n<table border=\"1\" class=\"dataframe\">\n  <thead>\n    <tr style=\"text-align: right;\">\n      <th>ypredict</th>\n      <th>0.0</th>\n      <th>1.0</th>\n      <th>2.0</th>\n    </tr>\n    <tr>\n      <th>video_name</th>\n      <th></th>\n      <th></th>\n      <th></th>\n    </tr>\n  </thead>\n  <tbody>\n    <tr>\n      <th>Test_pour_AFPA</th>\n      <td>0.338624</td>\n      <td>0.656085</td>\n      <td>0.005291</td>\n    </tr>\n    <tr>\n      <th>Video_1</th>\n      <td>0.556291</td>\n      <td>0.443709</td>\n      <td>0.000000</td>\n    </tr>\n    <tr>\n      <th>WIN_20210323_19_17_40_Pro</th>\n      <td>0.059524</td>\n      <td>0.940476</td>\n      <td>0.000000</td>\n    </tr>\n    <tr>\n      <th>WIN_20210329_10_16_02_Pro</th>\n      <td>0.095238</td>\n      <td>0.904762</td>\n      <td>0.000000</td>\n    </tr>\n    <tr>\n      <th>WIN_20210330_13_10_29_Pro</th>\n      <td>0.357616</td>\n      <td>0.629139</td>\n      <td>0.013245</td>\n    </tr>\n    <tr>\n      <th>WIN_20210331_21_22_52_Pro</th>\n      <td>0.047059</td>\n      <td>0.800000</td>\n      <td>0.152941</td>\n    </tr>\n    <tr>\n      <th>WIN_20210402_19_04_53_Pro</th>\n      <td>0.497143</td>\n      <td>0.474286</td>\n      <td>0.028571</td>\n    </tr>\n    <tr>\n      <th>WIN_20210403_18_49_15_Pro</th>\n      <td>0.198895</td>\n      <td>0.790055</td>\n      <td>0.011050</td>\n    </tr>\n    <tr>\n      <th>WIN_20210404_10_58_27_Pro</th>\n      <td>0.570000</td>\n      <td>0.430000</td>\n      <td>0.000000</td>\n    </tr>\n    <tr>\n      <th>WIN_20210404_21_41_12_Pro</th>\n      <td>0.465517</td>\n      <td>0.534483</td>\n      <td>0.000000</td>\n    </tr>\n    <tr>\n      <th>WIN_20210405_15_09_16_Pro</th>\n      <td>0.219355</td>\n      <td>0.780645</td>\n      <td>0.000000</td>\n    </tr>\n    <tr>\n      <th>WIN_20210406_15_06_15_Pro</th>\n      <td>0.268293</td>\n      <td>0.731707</td>\n      <td>0.000000</td>\n    </tr>\n    <tr>\n      <th>WIN_20210406_18_35_52_Pro</th>\n      <td>0.158228</td>\n      <td>0.841772</td>\n      <td>0.000000</td>\n    </tr>\n    <tr>\n      <th>WIN_20210406_18_49_10_Pro</th>\n      <td>0.380117</td>\n      <td>0.614035</td>\n      <td>0.005848</td>\n    </tr>\n    <tr>\n      <th>WIN_20210406_21_05_52_Pro</th>\n      <td>0.010811</td>\n      <td>0.918919</td>\n      <td>0.070270</td>\n    </tr>\n    <tr>\n      <th>WIN_20210407_09_04_05_Pro</th>\n      <td>0.963351</td>\n      <td>0.026178</td>\n      <td>0.010471</td>\n    </tr>\n    <tr>\n      <th>WIN_20210407_14_54_56_Pro_edit2</th>\n      <td>0.490566</td>\n      <td>0.509434</td>\n      <td>0.000000</td>\n    </tr>\n    <tr>\n      <th>WIN_20210408_11_48_58_Pro</th>\n      <td>0.222222</td>\n      <td>0.737778</td>\n      <td>0.040000</td>\n    </tr>\n    <tr>\n      <th>WIN_20210408_14_00_44_Pro</th>\n      <td>0.410112</td>\n      <td>0.589888</td>\n      <td>0.000000</td>\n    </tr>\n    <tr>\n      <th>WIN_20210408_14_02_19_Pro</th>\n      <td>0.035294</td>\n      <td>0.964706</td>\n      <td>0.000000</td>\n    </tr>\n    <tr>\n      <th>WIN_20210408_14_11_32_Pro</th>\n      <td>0.615385</td>\n      <td>0.384615</td>\n      <td>0.000000</td>\n    </tr>\n    <tr>\n      <th>WIN_20210408_15_20_51_Pro</th>\n      <td>0.151961</td>\n      <td>0.382353</td>\n      <td>0.465686</td>\n    </tr>\n    <tr>\n      <th>WIN_20210408_16_04_32_Pro</th>\n      <td>0.211765</td>\n      <td>0.758824</td>\n      <td>0.029412</td>\n    </tr>\n    <tr>\n      <th>WIN_20210409_10_26_11_Pro</th>\n      <td>0.231214</td>\n      <td>0.768786</td>\n      <td>0.000000</td>\n    </tr>\n    <tr>\n      <th>WIN_20210413_15_38_01_Pro</th>\n      <td>0.277457</td>\n      <td>0.722543</td>\n      <td>0.000000</td>\n    </tr>\n    <tr>\n      <th>WIN_20210414_06_24_52_Pro</th>\n      <td>0.176166</td>\n      <td>0.803109</td>\n      <td>0.020725</td>\n    </tr>\n    <tr>\n      <th>WIN_20210415_15_41_24_Pro</th>\n      <td>0.350230</td>\n      <td>0.649770</td>\n      <td>0.000000</td>\n    </tr>\n    <tr>\n      <th>WIN_20210416_08_06_54_Pro</th>\n      <td>0.128834</td>\n      <td>0.809816</td>\n      <td>0.061350</td>\n    </tr>\n    <tr>\n      <th>WIN_20210417_14_53_12_Pro</th>\n      <td>0.694656</td>\n      <td>0.305344</td>\n      <td>0.000000</td>\n    </tr>\n  </tbody>\n</table>\n</div>"
     },
     "metadata": {},
     "execution_count": 6
    }
   ],
   "source": [
    "X = predict5s.pivot_table(values='frameTimeWindow', columns='ypredict', index=['video_name'], aggfunc='count', fill_value=0)\n",
    "X_sum = X.sum(axis=1).values.copy()\n",
    "for col_number in range(len(X.columns)):\n",
    "    X.iloc[:,col_number] = X.iloc[:,col_number] / X_sum\n",
    "X"
   ]
  },
  {
   "cell_type": "code",
   "execution_count": 7,
   "metadata": {},
   "outputs": [
    {
     "output_type": "execute_result",
     "data": {
      "text/plain": [
       "                         video_name  stress_global\n",
       "0                    Test_pour_AFPA            1.0\n",
       "1                           Video_1            0.0\n",
       "2         WIN_20210323_19_17_40_Pro            1.0\n",
       "3         WIN_20210329_10_16_02_Pro            1.0\n",
       "4         WIN_20210330_13_10_29_Pro            0.0\n",
       "5         WIN_20210331_21_22_52_Pro            1.0\n",
       "6         WIN_20210402_14_27_50_Pro            1.0\n",
       "7         WIN_20210402_19_04_53_Pro            2.0\n",
       "8         WIN_20210403_18_49_15_Pro            2.0\n",
       "9         WIN_20210404_10_58_27_Pro            1.0\n",
       "10        WIN_20210404_21_41_12_Pro            0.0\n",
       "11        WIN_20210405_15_09_16_Pro            1.0\n",
       "12        WIN_20210406_15_06_15_Pro            2.0\n",
       "13        WIN_20210406_18_35_52_Pro            0.0\n",
       "14        WIN_20210406_18_49_10_Pro            1.0\n",
       "15        WIN_20210406_21_05_52_Pro            2.0\n",
       "16        WIN_20210407_09_04_05_Pro            2.0\n",
       "17  WIN_20210407_14_54_56_Pro_edit2            0.0\n",
       "18        WIN_20210408_11_48_58_Pro            2.0\n",
       "19        WIN_20210408_14_00_44_Pro            0.0\n",
       "20        WIN_20210408_14_02_19_Pro            0.0\n",
       "21        WIN_20210408_14_11_32_Pro            2.0\n",
       "22        WIN_20210408_15_20_51_Pro            0.0\n",
       "23        WIN_20210408_16_04_32_Pro            0.0\n",
       "24        WIN_20210409_10_26_11_Pro            0.0\n",
       "25        WIN_20210413_15_38_01_Pro            1.0\n",
       "26        WIN_20210414_06_24_52_Pro            2.0\n",
       "27        WIN_20210415_15_41_24_Pro            0.0\n",
       "28        WIN_20210416_08_06_54_Pro            1.0\n",
       "29        WIN_20210417_14_53_12_Pro            0.0"
      ],
      "text/html": "<div>\n<style scoped>\n    .dataframe tbody tr th:only-of-type {\n        vertical-align: middle;\n    }\n\n    .dataframe tbody tr th {\n        vertical-align: top;\n    }\n\n    .dataframe thead th {\n        text-align: right;\n    }\n</style>\n<table border=\"1\" class=\"dataframe\">\n  <thead>\n    <tr style=\"text-align: right;\">\n      <th></th>\n      <th>video_name</th>\n      <th>stress_global</th>\n    </tr>\n  </thead>\n  <tbody>\n    <tr>\n      <th>0</th>\n      <td>Test_pour_AFPA</td>\n      <td>1.0</td>\n    </tr>\n    <tr>\n      <th>1</th>\n      <td>Video_1</td>\n      <td>0.0</td>\n    </tr>\n    <tr>\n      <th>2</th>\n      <td>WIN_20210323_19_17_40_Pro</td>\n      <td>1.0</td>\n    </tr>\n    <tr>\n      <th>3</th>\n      <td>WIN_20210329_10_16_02_Pro</td>\n      <td>1.0</td>\n    </tr>\n    <tr>\n      <th>4</th>\n      <td>WIN_20210330_13_10_29_Pro</td>\n      <td>0.0</td>\n    </tr>\n    <tr>\n      <th>5</th>\n      <td>WIN_20210331_21_22_52_Pro</td>\n      <td>1.0</td>\n    </tr>\n    <tr>\n      <th>6</th>\n      <td>WIN_20210402_14_27_50_Pro</td>\n      <td>1.0</td>\n    </tr>\n    <tr>\n      <th>7</th>\n      <td>WIN_20210402_19_04_53_Pro</td>\n      <td>2.0</td>\n    </tr>\n    <tr>\n      <th>8</th>\n      <td>WIN_20210403_18_49_15_Pro</td>\n      <td>2.0</td>\n    </tr>\n    <tr>\n      <th>9</th>\n      <td>WIN_20210404_10_58_27_Pro</td>\n      <td>1.0</td>\n    </tr>\n    <tr>\n      <th>10</th>\n      <td>WIN_20210404_21_41_12_Pro</td>\n      <td>0.0</td>\n    </tr>\n    <tr>\n      <th>11</th>\n      <td>WIN_20210405_15_09_16_Pro</td>\n      <td>1.0</td>\n    </tr>\n    <tr>\n      <th>12</th>\n      <td>WIN_20210406_15_06_15_Pro</td>\n      <td>2.0</td>\n    </tr>\n    <tr>\n      <th>13</th>\n      <td>WIN_20210406_18_35_52_Pro</td>\n      <td>0.0</td>\n    </tr>\n    <tr>\n      <th>14</th>\n      <td>WIN_20210406_18_49_10_Pro</td>\n      <td>1.0</td>\n    </tr>\n    <tr>\n      <th>15</th>\n      <td>WIN_20210406_21_05_52_Pro</td>\n      <td>2.0</td>\n    </tr>\n    <tr>\n      <th>16</th>\n      <td>WIN_20210407_09_04_05_Pro</td>\n      <td>2.0</td>\n    </tr>\n    <tr>\n      <th>17</th>\n      <td>WIN_20210407_14_54_56_Pro_edit2</td>\n      <td>0.0</td>\n    </tr>\n    <tr>\n      <th>18</th>\n      <td>WIN_20210408_11_48_58_Pro</td>\n      <td>2.0</td>\n    </tr>\n    <tr>\n      <th>19</th>\n      <td>WIN_20210408_14_00_44_Pro</td>\n      <td>0.0</td>\n    </tr>\n    <tr>\n      <th>20</th>\n      <td>WIN_20210408_14_02_19_Pro</td>\n      <td>0.0</td>\n    </tr>\n    <tr>\n      <th>21</th>\n      <td>WIN_20210408_14_11_32_Pro</td>\n      <td>2.0</td>\n    </tr>\n    <tr>\n      <th>22</th>\n      <td>WIN_20210408_15_20_51_Pro</td>\n      <td>0.0</td>\n    </tr>\n    <tr>\n      <th>23</th>\n      <td>WIN_20210408_16_04_32_Pro</td>\n      <td>0.0</td>\n    </tr>\n    <tr>\n      <th>24</th>\n      <td>WIN_20210409_10_26_11_Pro</td>\n      <td>0.0</td>\n    </tr>\n    <tr>\n      <th>25</th>\n      <td>WIN_20210413_15_38_01_Pro</td>\n      <td>1.0</td>\n    </tr>\n    <tr>\n      <th>26</th>\n      <td>WIN_20210414_06_24_52_Pro</td>\n      <td>2.0</td>\n    </tr>\n    <tr>\n      <th>27</th>\n      <td>WIN_20210415_15_41_24_Pro</td>\n      <td>0.0</td>\n    </tr>\n    <tr>\n      <th>28</th>\n      <td>WIN_20210416_08_06_54_Pro</td>\n      <td>1.0</td>\n    </tr>\n    <tr>\n      <th>29</th>\n      <td>WIN_20210417_14_53_12_Pro</td>\n      <td>0.0</td>\n    </tr>\n  </tbody>\n</table>\n</div>"
     },
     "metadata": {},
     "execution_count": 7
    }
   ],
   "source": [
    "#recuperalo stress globale vero \n",
    "df_annotations_stress = pd.read_csv('annotations.csv')\n",
    "df_annotations_stress = df_annotations_stress.drop(['1', '8', '9', '10', '11', '12', '17', '18'], axis =1)\n",
    "df_annotations_stress"
   ]
  },
  {
   "cell_type": "code",
   "execution_count": 8,
   "metadata": {},
   "outputs": [
    {
     "output_type": "execute_result",
     "data": {
      "text/plain": [
       "                         video_name       0.0       1.0       2.0  \\\n",
       "0                    Test_pour_AFPA  0.338624  0.656085  0.005291   \n",
       "1                           Video_1  0.556291  0.443709  0.000000   \n",
       "2         WIN_20210323_19_17_40_Pro  0.059524  0.940476  0.000000   \n",
       "3         WIN_20210329_10_16_02_Pro  0.095238  0.904762  0.000000   \n",
       "4         WIN_20210330_13_10_29_Pro  0.357616  0.629139  0.013245   \n",
       "5         WIN_20210331_21_22_52_Pro  0.047059  0.800000  0.152941   \n",
       "6         WIN_20210402_19_04_53_Pro  0.497143  0.474286  0.028571   \n",
       "7         WIN_20210403_18_49_15_Pro  0.198895  0.790055  0.011050   \n",
       "8         WIN_20210404_10_58_27_Pro  0.570000  0.430000  0.000000   \n",
       "9         WIN_20210404_21_41_12_Pro  0.465517  0.534483  0.000000   \n",
       "10        WIN_20210405_15_09_16_Pro  0.219355  0.780645  0.000000   \n",
       "11        WIN_20210406_15_06_15_Pro  0.268293  0.731707  0.000000   \n",
       "12        WIN_20210406_18_35_52_Pro  0.158228  0.841772  0.000000   \n",
       "13        WIN_20210406_18_49_10_Pro  0.380117  0.614035  0.005848   \n",
       "14        WIN_20210406_21_05_52_Pro  0.010811  0.918919  0.070270   \n",
       "15        WIN_20210407_09_04_05_Pro  0.963351  0.026178  0.010471   \n",
       "16  WIN_20210407_14_54_56_Pro_edit2  0.490566  0.509434  0.000000   \n",
       "17        WIN_20210408_11_48_58_Pro  0.222222  0.737778  0.040000   \n",
       "18        WIN_20210408_14_00_44_Pro  0.410112  0.589888  0.000000   \n",
       "19        WIN_20210408_14_02_19_Pro  0.035294  0.964706  0.000000   \n",
       "20        WIN_20210408_14_11_32_Pro  0.615385  0.384615  0.000000   \n",
       "21        WIN_20210408_15_20_51_Pro  0.151961  0.382353  0.465686   \n",
       "22        WIN_20210408_16_04_32_Pro  0.211765  0.758824  0.029412   \n",
       "23        WIN_20210409_10_26_11_Pro  0.231214  0.768786  0.000000   \n",
       "24        WIN_20210413_15_38_01_Pro  0.277457  0.722543  0.000000   \n",
       "25        WIN_20210414_06_24_52_Pro  0.176166  0.803109  0.020725   \n",
       "26        WIN_20210415_15_41_24_Pro  0.350230  0.649770  0.000000   \n",
       "27        WIN_20210416_08_06_54_Pro  0.128834  0.809816  0.061350   \n",
       "28        WIN_20210417_14_53_12_Pro  0.694656  0.305344  0.000000   \n",
       "\n",
       "    stress_global  \n",
       "0             1.0  \n",
       "1             0.0  \n",
       "2             1.0  \n",
       "3             1.0  \n",
       "4             0.0  \n",
       "5             1.0  \n",
       "6             2.0  \n",
       "7             2.0  \n",
       "8             1.0  \n",
       "9             0.0  \n",
       "10            1.0  \n",
       "11            2.0  \n",
       "12            0.0  \n",
       "13            1.0  \n",
       "14            2.0  \n",
       "15            2.0  \n",
       "16            0.0  \n",
       "17            2.0  \n",
       "18            0.0  \n",
       "19            0.0  \n",
       "20            2.0  \n",
       "21            0.0  \n",
       "22            0.0  \n",
       "23            0.0  \n",
       "24            1.0  \n",
       "25            2.0  \n",
       "26            0.0  \n",
       "27            1.0  \n",
       "28            0.0  "
      ],
      "text/html": "<div>\n<style scoped>\n    .dataframe tbody tr th:only-of-type {\n        vertical-align: middle;\n    }\n\n    .dataframe tbody tr th {\n        vertical-align: top;\n    }\n\n    .dataframe thead th {\n        text-align: right;\n    }\n</style>\n<table border=\"1\" class=\"dataframe\">\n  <thead>\n    <tr style=\"text-align: right;\">\n      <th></th>\n      <th>video_name</th>\n      <th>0.0</th>\n      <th>1.0</th>\n      <th>2.0</th>\n      <th>stress_global</th>\n    </tr>\n  </thead>\n  <tbody>\n    <tr>\n      <th>0</th>\n      <td>Test_pour_AFPA</td>\n      <td>0.338624</td>\n      <td>0.656085</td>\n      <td>0.005291</td>\n      <td>1.0</td>\n    </tr>\n    <tr>\n      <th>1</th>\n      <td>Video_1</td>\n      <td>0.556291</td>\n      <td>0.443709</td>\n      <td>0.000000</td>\n      <td>0.0</td>\n    </tr>\n    <tr>\n      <th>2</th>\n      <td>WIN_20210323_19_17_40_Pro</td>\n      <td>0.059524</td>\n      <td>0.940476</td>\n      <td>0.000000</td>\n      <td>1.0</td>\n    </tr>\n    <tr>\n      <th>3</th>\n      <td>WIN_20210329_10_16_02_Pro</td>\n      <td>0.095238</td>\n      <td>0.904762</td>\n      <td>0.000000</td>\n      <td>1.0</td>\n    </tr>\n    <tr>\n      <th>4</th>\n      <td>WIN_20210330_13_10_29_Pro</td>\n      <td>0.357616</td>\n      <td>0.629139</td>\n      <td>0.013245</td>\n      <td>0.0</td>\n    </tr>\n    <tr>\n      <th>5</th>\n      <td>WIN_20210331_21_22_52_Pro</td>\n      <td>0.047059</td>\n      <td>0.800000</td>\n      <td>0.152941</td>\n      <td>1.0</td>\n    </tr>\n    <tr>\n      <th>6</th>\n      <td>WIN_20210402_19_04_53_Pro</td>\n      <td>0.497143</td>\n      <td>0.474286</td>\n      <td>0.028571</td>\n      <td>2.0</td>\n    </tr>\n    <tr>\n      <th>7</th>\n      <td>WIN_20210403_18_49_15_Pro</td>\n      <td>0.198895</td>\n      <td>0.790055</td>\n      <td>0.011050</td>\n      <td>2.0</td>\n    </tr>\n    <tr>\n      <th>8</th>\n      <td>WIN_20210404_10_58_27_Pro</td>\n      <td>0.570000</td>\n      <td>0.430000</td>\n      <td>0.000000</td>\n      <td>1.0</td>\n    </tr>\n    <tr>\n      <th>9</th>\n      <td>WIN_20210404_21_41_12_Pro</td>\n      <td>0.465517</td>\n      <td>0.534483</td>\n      <td>0.000000</td>\n      <td>0.0</td>\n    </tr>\n    <tr>\n      <th>10</th>\n      <td>WIN_20210405_15_09_16_Pro</td>\n      <td>0.219355</td>\n      <td>0.780645</td>\n      <td>0.000000</td>\n      <td>1.0</td>\n    </tr>\n    <tr>\n      <th>11</th>\n      <td>WIN_20210406_15_06_15_Pro</td>\n      <td>0.268293</td>\n      <td>0.731707</td>\n      <td>0.000000</td>\n      <td>2.0</td>\n    </tr>\n    <tr>\n      <th>12</th>\n      <td>WIN_20210406_18_35_52_Pro</td>\n      <td>0.158228</td>\n      <td>0.841772</td>\n      <td>0.000000</td>\n      <td>0.0</td>\n    </tr>\n    <tr>\n      <th>13</th>\n      <td>WIN_20210406_18_49_10_Pro</td>\n      <td>0.380117</td>\n      <td>0.614035</td>\n      <td>0.005848</td>\n      <td>1.0</td>\n    </tr>\n    <tr>\n      <th>14</th>\n      <td>WIN_20210406_21_05_52_Pro</td>\n      <td>0.010811</td>\n      <td>0.918919</td>\n      <td>0.070270</td>\n      <td>2.0</td>\n    </tr>\n    <tr>\n      <th>15</th>\n      <td>WIN_20210407_09_04_05_Pro</td>\n      <td>0.963351</td>\n      <td>0.026178</td>\n      <td>0.010471</td>\n      <td>2.0</td>\n    </tr>\n    <tr>\n      <th>16</th>\n      <td>WIN_20210407_14_54_56_Pro_edit2</td>\n      <td>0.490566</td>\n      <td>0.509434</td>\n      <td>0.000000</td>\n      <td>0.0</td>\n    </tr>\n    <tr>\n      <th>17</th>\n      <td>WIN_20210408_11_48_58_Pro</td>\n      <td>0.222222</td>\n      <td>0.737778</td>\n      <td>0.040000</td>\n      <td>2.0</td>\n    </tr>\n    <tr>\n      <th>18</th>\n      <td>WIN_20210408_14_00_44_Pro</td>\n      <td>0.410112</td>\n      <td>0.589888</td>\n      <td>0.000000</td>\n      <td>0.0</td>\n    </tr>\n    <tr>\n      <th>19</th>\n      <td>WIN_20210408_14_02_19_Pro</td>\n      <td>0.035294</td>\n      <td>0.964706</td>\n      <td>0.000000</td>\n      <td>0.0</td>\n    </tr>\n    <tr>\n      <th>20</th>\n      <td>WIN_20210408_14_11_32_Pro</td>\n      <td>0.615385</td>\n      <td>0.384615</td>\n      <td>0.000000</td>\n      <td>2.0</td>\n    </tr>\n    <tr>\n      <th>21</th>\n      <td>WIN_20210408_15_20_51_Pro</td>\n      <td>0.151961</td>\n      <td>0.382353</td>\n      <td>0.465686</td>\n      <td>0.0</td>\n    </tr>\n    <tr>\n      <th>22</th>\n      <td>WIN_20210408_16_04_32_Pro</td>\n      <td>0.211765</td>\n      <td>0.758824</td>\n      <td>0.029412</td>\n      <td>0.0</td>\n    </tr>\n    <tr>\n      <th>23</th>\n      <td>WIN_20210409_10_26_11_Pro</td>\n      <td>0.231214</td>\n      <td>0.768786</td>\n      <td>0.000000</td>\n      <td>0.0</td>\n    </tr>\n    <tr>\n      <th>24</th>\n      <td>WIN_20210413_15_38_01_Pro</td>\n      <td>0.277457</td>\n      <td>0.722543</td>\n      <td>0.000000</td>\n      <td>1.0</td>\n    </tr>\n    <tr>\n      <th>25</th>\n      <td>WIN_20210414_06_24_52_Pro</td>\n      <td>0.176166</td>\n      <td>0.803109</td>\n      <td>0.020725</td>\n      <td>2.0</td>\n    </tr>\n    <tr>\n      <th>26</th>\n      <td>WIN_20210415_15_41_24_Pro</td>\n      <td>0.350230</td>\n      <td>0.649770</td>\n      <td>0.000000</td>\n      <td>0.0</td>\n    </tr>\n    <tr>\n      <th>27</th>\n      <td>WIN_20210416_08_06_54_Pro</td>\n      <td>0.128834</td>\n      <td>0.809816</td>\n      <td>0.061350</td>\n      <td>1.0</td>\n    </tr>\n    <tr>\n      <th>28</th>\n      <td>WIN_20210417_14_53_12_Pro</td>\n      <td>0.694656</td>\n      <td>0.305344</td>\n      <td>0.000000</td>\n      <td>0.0</td>\n    </tr>\n  </tbody>\n</table>\n</div>"
     },
     "metadata": {},
     "execution_count": 8
    }
   ],
   "source": [
    "Xy = X.merge(df_annotations_stress, how='inner', on=['video_name'])\n",
    "X = Xy.iloc[:,:-1].set_index(['video_name'])\n",
    "y = Xy.iloc[:,-1]\n",
    "Xy"
   ]
  },
  {
   "cell_type": "code",
   "execution_count": 9,
   "metadata": {},
   "outputs": [
    {
     "output_type": "execute_result",
     "data": {
      "text/plain": [
       "                                      0.0       1.0       2.0\n",
       "video_name                                                   \n",
       "Test_pour_AFPA                   0.338624  0.656085  0.005291\n",
       "Video_1                          0.556291  0.443709  0.000000\n",
       "WIN_20210323_19_17_40_Pro        0.059524  0.940476  0.000000\n",
       "WIN_20210329_10_16_02_Pro        0.095238  0.904762  0.000000\n",
       "WIN_20210330_13_10_29_Pro        0.357616  0.629139  0.013245\n",
       "WIN_20210331_21_22_52_Pro        0.047059  0.800000  0.152941\n",
       "WIN_20210402_19_04_53_Pro        0.497143  0.474286  0.028571\n",
       "WIN_20210403_18_49_15_Pro        0.198895  0.790055  0.011050\n",
       "WIN_20210404_10_58_27_Pro        0.570000  0.430000  0.000000\n",
       "WIN_20210404_21_41_12_Pro        0.465517  0.534483  0.000000\n",
       "WIN_20210405_15_09_16_Pro        0.219355  0.780645  0.000000\n",
       "WIN_20210406_15_06_15_Pro        0.268293  0.731707  0.000000\n",
       "WIN_20210406_18_35_52_Pro        0.158228  0.841772  0.000000\n",
       "WIN_20210406_18_49_10_Pro        0.380117  0.614035  0.005848\n",
       "WIN_20210406_21_05_52_Pro        0.010811  0.918919  0.070270\n",
       "WIN_20210407_09_04_05_Pro        0.963351  0.026178  0.010471\n",
       "WIN_20210407_14_54_56_Pro_edit2  0.490566  0.509434  0.000000\n",
       "WIN_20210408_11_48_58_Pro        0.222222  0.737778  0.040000\n",
       "WIN_20210408_14_00_44_Pro        0.410112  0.589888  0.000000\n",
       "WIN_20210408_14_02_19_Pro        0.035294  0.964706  0.000000\n",
       "WIN_20210408_14_11_32_Pro        0.615385  0.384615  0.000000\n",
       "WIN_20210408_15_20_51_Pro        0.151961  0.382353  0.465686\n",
       "WIN_20210408_16_04_32_Pro        0.211765  0.758824  0.029412\n",
       "WIN_20210409_10_26_11_Pro        0.231214  0.768786  0.000000\n",
       "WIN_20210413_15_38_01_Pro        0.277457  0.722543  0.000000\n",
       "WIN_20210414_06_24_52_Pro        0.176166  0.803109  0.020725\n",
       "WIN_20210415_15_41_24_Pro        0.350230  0.649770  0.000000\n",
       "WIN_20210416_08_06_54_Pro        0.128834  0.809816  0.061350\n",
       "WIN_20210417_14_53_12_Pro        0.694656  0.305344  0.000000"
      ],
      "text/html": "<div>\n<style scoped>\n    .dataframe tbody tr th:only-of-type {\n        vertical-align: middle;\n    }\n\n    .dataframe tbody tr th {\n        vertical-align: top;\n    }\n\n    .dataframe thead th {\n        text-align: right;\n    }\n</style>\n<table border=\"1\" class=\"dataframe\">\n  <thead>\n    <tr style=\"text-align: right;\">\n      <th></th>\n      <th>0.0</th>\n      <th>1.0</th>\n      <th>2.0</th>\n    </tr>\n    <tr>\n      <th>video_name</th>\n      <th></th>\n      <th></th>\n      <th></th>\n    </tr>\n  </thead>\n  <tbody>\n    <tr>\n      <th>Test_pour_AFPA</th>\n      <td>0.338624</td>\n      <td>0.656085</td>\n      <td>0.005291</td>\n    </tr>\n    <tr>\n      <th>Video_1</th>\n      <td>0.556291</td>\n      <td>0.443709</td>\n      <td>0.000000</td>\n    </tr>\n    <tr>\n      <th>WIN_20210323_19_17_40_Pro</th>\n      <td>0.059524</td>\n      <td>0.940476</td>\n      <td>0.000000</td>\n    </tr>\n    <tr>\n      <th>WIN_20210329_10_16_02_Pro</th>\n      <td>0.095238</td>\n      <td>0.904762</td>\n      <td>0.000000</td>\n    </tr>\n    <tr>\n      <th>WIN_20210330_13_10_29_Pro</th>\n      <td>0.357616</td>\n      <td>0.629139</td>\n      <td>0.013245</td>\n    </tr>\n    <tr>\n      <th>WIN_20210331_21_22_52_Pro</th>\n      <td>0.047059</td>\n      <td>0.800000</td>\n      <td>0.152941</td>\n    </tr>\n    <tr>\n      <th>WIN_20210402_19_04_53_Pro</th>\n      <td>0.497143</td>\n      <td>0.474286</td>\n      <td>0.028571</td>\n    </tr>\n    <tr>\n      <th>WIN_20210403_18_49_15_Pro</th>\n      <td>0.198895</td>\n      <td>0.790055</td>\n      <td>0.011050</td>\n    </tr>\n    <tr>\n      <th>WIN_20210404_10_58_27_Pro</th>\n      <td>0.570000</td>\n      <td>0.430000</td>\n      <td>0.000000</td>\n    </tr>\n    <tr>\n      <th>WIN_20210404_21_41_12_Pro</th>\n      <td>0.465517</td>\n      <td>0.534483</td>\n      <td>0.000000</td>\n    </tr>\n    <tr>\n      <th>WIN_20210405_15_09_16_Pro</th>\n      <td>0.219355</td>\n      <td>0.780645</td>\n      <td>0.000000</td>\n    </tr>\n    <tr>\n      <th>WIN_20210406_15_06_15_Pro</th>\n      <td>0.268293</td>\n      <td>0.731707</td>\n      <td>0.000000</td>\n    </tr>\n    <tr>\n      <th>WIN_20210406_18_35_52_Pro</th>\n      <td>0.158228</td>\n      <td>0.841772</td>\n      <td>0.000000</td>\n    </tr>\n    <tr>\n      <th>WIN_20210406_18_49_10_Pro</th>\n      <td>0.380117</td>\n      <td>0.614035</td>\n      <td>0.005848</td>\n    </tr>\n    <tr>\n      <th>WIN_20210406_21_05_52_Pro</th>\n      <td>0.010811</td>\n      <td>0.918919</td>\n      <td>0.070270</td>\n    </tr>\n    <tr>\n      <th>WIN_20210407_09_04_05_Pro</th>\n      <td>0.963351</td>\n      <td>0.026178</td>\n      <td>0.010471</td>\n    </tr>\n    <tr>\n      <th>WIN_20210407_14_54_56_Pro_edit2</th>\n      <td>0.490566</td>\n      <td>0.509434</td>\n      <td>0.000000</td>\n    </tr>\n    <tr>\n      <th>WIN_20210408_11_48_58_Pro</th>\n      <td>0.222222</td>\n      <td>0.737778</td>\n      <td>0.040000</td>\n    </tr>\n    <tr>\n      <th>WIN_20210408_14_00_44_Pro</th>\n      <td>0.410112</td>\n      <td>0.589888</td>\n      <td>0.000000</td>\n    </tr>\n    <tr>\n      <th>WIN_20210408_14_02_19_Pro</th>\n      <td>0.035294</td>\n      <td>0.964706</td>\n      <td>0.000000</td>\n    </tr>\n    <tr>\n      <th>WIN_20210408_14_11_32_Pro</th>\n      <td>0.615385</td>\n      <td>0.384615</td>\n      <td>0.000000</td>\n    </tr>\n    <tr>\n      <th>WIN_20210408_15_20_51_Pro</th>\n      <td>0.151961</td>\n      <td>0.382353</td>\n      <td>0.465686</td>\n    </tr>\n    <tr>\n      <th>WIN_20210408_16_04_32_Pro</th>\n      <td>0.211765</td>\n      <td>0.758824</td>\n      <td>0.029412</td>\n    </tr>\n    <tr>\n      <th>WIN_20210409_10_26_11_Pro</th>\n      <td>0.231214</td>\n      <td>0.768786</td>\n      <td>0.000000</td>\n    </tr>\n    <tr>\n      <th>WIN_20210413_15_38_01_Pro</th>\n      <td>0.277457</td>\n      <td>0.722543</td>\n      <td>0.000000</td>\n    </tr>\n    <tr>\n      <th>WIN_20210414_06_24_52_Pro</th>\n      <td>0.176166</td>\n      <td>0.803109</td>\n      <td>0.020725</td>\n    </tr>\n    <tr>\n      <th>WIN_20210415_15_41_24_Pro</th>\n      <td>0.350230</td>\n      <td>0.649770</td>\n      <td>0.000000</td>\n    </tr>\n    <tr>\n      <th>WIN_20210416_08_06_54_Pro</th>\n      <td>0.128834</td>\n      <td>0.809816</td>\n      <td>0.061350</td>\n    </tr>\n    <tr>\n      <th>WIN_20210417_14_53_12_Pro</th>\n      <td>0.694656</td>\n      <td>0.305344</td>\n      <td>0.000000</td>\n    </tr>\n  </tbody>\n</table>\n</div>"
     },
     "metadata": {},
     "execution_count": 9
    }
   ],
   "source": [
    "X"
   ]
  },
  {
   "cell_type": "code",
   "execution_count": 11,
   "metadata": {},
   "outputs": [],
   "source": [
    "from sklearn.linear_model import LogisticRegression\n",
    "from sklearn.neighbors import KNeighborsClassifier\n",
    "from sklearn.ensemble import RandomForestClassifier\n",
    "from sklearn.model_selection import LeaveOneGroupOut\n",
    "from sklearn.decomposition import PCA\n",
    "from sklearn.pipeline import Pipeline\n",
    "\n",
    "pca = PCA()\n",
    "pipe = Pipeline(steps=[('pca', pca), ('logistic', LogisticRegression(multi_class='multinomial', fit_intercept=True, random_state=42))])\n",
    "\n",
    "models_list = [\n",
    "                LogisticRegression(multi_class='multinomial', fit_intercept=True, random_state=42),\n",
    "                Pipeline(steps=[('pca', pca), ('logistic', LogisticRegression(multi_class='multinomial', fit_intercept=True))]),\n",
    "                KNeighborsClassifier(),\n",
    "                Pipeline(steps=[('pca', pca), ('knn', KNeighborsClassifier())]),\n",
    "                RandomForestClassifier(random_state = 42, n_jobs=-1)\n",
    "                ]\n",
    "\n",
    "parameters_list = [\n",
    "                    {'C': [0.01, 0.05, 0.1, 0.5, 1, 2, 3, 4 , 5, 10], 'class_weight' : [None, 'balanced']},\n",
    "                    {'pca__n_components': [1, 2, 3, 4],\n",
    "                        'logistic__C': [0.01, 0.05, 0.1, 0.5, 1, 2, 3, 4 , 5, 10], 'logistic__class_weight' : [None, 'balanced']},\n",
    "                    {'n_neighbors': [4, 5, 6, 7, 8, 9, 10, 11, 12,  15, 20], 'weights' : ['uniform', 'distance'], 'p': [1, 2]},\n",
    "                    {'pca__n_components': [1, 2, 3, 4],\n",
    "                        'knn__n_neighbors': [4, 5, 6, 7, 8, 9, 10, 11, 12,  15, 20], 'knn__weights' : ['uniform', 'distance'],                              'knn__p': [1, 2]},\n",
    "                    {'n_estimators': [50, 100, 150, 200], 'max_depth':[3, 4, 5, 6, 10, 15, 20], 'class_weight':[None,'balanced']}\n",
    "                    ]\n",
    "\n"
   ]
  },
  {
   "cell_type": "code",
   "execution_count": 13,
   "metadata": {},
   "outputs": [
    {
     "output_type": "stream",
     "name": "stdout",
     "text": [
      "Fitting 5 folds for each of 20 candidates, totalling 100 fits\n",
      "Best estimator LogisticRegression(C=4, multi_class='multinomial', random_state=42)\n",
      "Best results 0.3686507936507937\n",
      "Best params {'C': 4, 'class_weight': None}\n",
      "accuracy (mean, std) 0.4466666666666666 0.12578641509408806\n",
      "f1 (mean, std) 0.3686507936507937 0.1458534971482874\n",
      "balanced accuracy (mean, std) 0.42222222222222217 0.07535922203472521\n",
      "precision (mean, std) 0.41999999999999993 0.22048207564111044\n",
      "recall (mean, std) 0.4466666666666666 0.12578641509408806\n",
      "\n",
      "Fitting 5 folds for each of 80 candidates, totalling 400 fits\n",
      "Best estimator Pipeline(steps=[('pca', PCA(n_components=1)),\n",
      "                ('logistic',\n",
      "                 LogisticRegression(C=10, multi_class='multinomial'))])\n",
      "Best results 0.39722222222222225\n",
      "Best params {'logistic__C': 10, 'logistic__class_weight': None, 'pca__n_components': 1}\n",
      "accuracy (mean, std) 0.48 0.154344492037203\n",
      "f1 (mean, std) 0.39722222222222225 0.16448573055300436\n",
      "balanced accuracy (mean, std) 0.45555555555555555 0.12372809695177826\n",
      "precision (mean, std) 0.42666666666666675 0.22228887889188778\n",
      "recall (mean, std) 0.48 0.154344492037203\n",
      "\n",
      "Fitting 5 folds for each of 44 candidates, totalling 220 fits\n",
      "Best estimator KNeighborsClassifier(n_neighbors=7, p=1)\n",
      "Best results 0.37544444444444447\n",
      "Best params {'n_neighbors': 7, 'p': 1, 'weights': 'uniform'}\n",
      "accuracy (mean, std) 0.42666666666666675 0.2388863048955856\n",
      "f1 (mean, std) 0.37544444444444447 0.2425421943691092\n",
      "balanced accuracy (mean, std) 0.4111111111111111 0.26897152082022674\n",
      "precision (mean, std) 0.3622222222222222 0.28114404725805947\n",
      "recall (mean, std) 0.42666666666666675 0.2388863048955856\n",
      "\n",
      "Fitting 5 folds for each of 176 candidates, totalling 880 fits\n",
      "Best estimator Pipeline(steps=[('pca', PCA(n_components=1)),\n",
      "                ('knn', KNeighborsClassifier(n_neighbors=7, p=1))])\n",
      "Best results 0.4421111111111111\n",
      "Best params {'knn__n_neighbors': 7, 'knn__p': 1, 'knn__weights': 'uniform', 'pca__n_components': 1}\n",
      "accuracy (mean, std) 0.49333333333333335 0.2264705033528404\n",
      "f1 (mean, std) 0.4421111111111111 0.23960265461543923\n",
      "balanced accuracy (mean, std) 0.47777777777777775 0.2398559238324767\n",
      "precision (mean, std) 0.4455555555555556 0.28441840158557574\n",
      "recall (mean, std) 0.49333333333333335 0.2264705033528404\n",
      "\n",
      "Fitting 5 folds for each of 56 candidates, totalling 280 fits\n",
      "Best estimator RandomForestClassifier(max_depth=3, n_estimators=50, n_jobs=-1, random_state=42)\n",
      "Best results 0.24380952380952384\n",
      "Best params {'class_weight': None, 'max_depth': 3, 'n_estimators': 50}\n",
      "accuracy (mean, std) 0.2733333333333333 0.12892719737209143\n",
      "f1 (mean, std) 0.24380952380952384 0.15621692897687817\n",
      "balanced accuracy (mean, std) 0.27777777777777773 0.09296222517045283\n",
      "precision (mean, std) 0.2633333333333333 0.20314198646923456\n",
      "recall (mean, std) 0.2733333333333333 0.12892719737209143\n",
      "\n",
      "f1_score (weighted) 0.46737846332166816\n",
      "accuracy 0.4827586206896552\n"
     ]
    }
   ],
   "source": [
    "best_result_tw5_glob, y_predict_tw5_glob, y_proba, result_list_tw5_glob = runGridSearchClassifiers(X, y, 5, models_list, parameters_list,output_predict=True, n_jobs=-1, verbose=True)"
   ]
  },
  {
   "cell_type": "code",
   "execution_count": 14,
   "metadata": {},
   "outputs": [
    {
     "output_type": "execute_result",
     "data": {
      "text/plain": [
       "{'best_estimator': Pipeline(steps=[('pca', PCA(n_components=1)),\n",
       "                 ('knn', KNeighborsClassifier(n_neighbors=7, p=1))]),\n",
       " 'best_score': 0.4421111111111111,\n",
       " 'best_params': {'knn__n_neighbors': 7,\n",
       "  'knn__p': 1,\n",
       "  'knn__weights': 'uniform',\n",
       "  'pca__n_components': 1},\n",
       " 'mean_test_f1_score': 0.4421111111111111,\n",
       " 'std_test_f1_score': 0.23960265461543923,\n",
       " 'mean_test_accuracy_score': 0.49333333333333335,\n",
       " 'std_test_accuracy_score': 0.2264705033528404,\n",
       " 'mean_test_balanced_accuracy_score': 0.47777777777777775,\n",
       " 'std_test_balanced_accuracy_score': 0.2398559238324767,\n",
       " 'mean_test_precision': 0.4455555555555556,\n",
       " 'std_test_precision': 0.28441840158557574,\n",
       " 'mean_test_recall': 0.49333333333333335,\n",
       " 'std_test_recall': 0.2264705033528404}"
      ]
     },
     "metadata": {},
     "execution_count": 14
    }
   ],
   "source": [
    "best_result_tw5_glob"
   ]
  },
  {
   "cell_type": "code",
   "execution_count": 15,
   "metadata": {},
   "outputs": [
    {
     "output_type": "execute_result",
     "data": {
      "text/plain": [
       "array([0., 0., 1., 1., 0., 1., 0., 1., 0., 0., 2., 0., 1., 0., 1., 0., 0.,\n",
       "       2., 0., 1., 0., 0., 2., 2., 0., 2., 0., 1., 0.])"
      ]
     },
     "metadata": {},
     "execution_count": 15
    }
   ],
   "source": [
    "y_predict_tw5_glob\n"
   ]
  },
  {
   "source": [
    "## ORA SEMPRE PARTENDO DALLE PEDIZIONI DI  5 SECONDI FACCIO NEL AGGIUNGENDO MINMAX sulle predizioni e predico su global"
   ],
   "cell_type": "markdown",
   "metadata": {}
  },
  {
   "cell_type": "code",
   "execution_count": 16,
   "metadata": {},
   "outputs": [
    {
     "output_type": "execute_result",
     "data": {
      "text/plain": [
       "1.0    3342\n",
       "0.0    1624\n",
       "2.0     175\n",
       "Name: ypredict, dtype: int64"
      ]
     },
     "metadata": {},
     "execution_count": 16
    }
   ],
   "source": [
    "predict5s['ypredict'].value_counts()"
   ]
  },
  {
   "cell_type": "code",
   "execution_count": 17,
   "metadata": {},
   "outputs": [
    {
     "output_type": "execute_result",
     "data": {
      "text/plain": [
       "                     video_name  frameTimeWindow  ypredict\n",
       "0                Test_pour_AFPA               44       0.0\n",
       "1                Test_pour_AFPA               45       0.0\n",
       "2                Test_pour_AFPA               46       0.0\n",
       "3                Test_pour_AFPA               47       0.0\n",
       "4                Test_pour_AFPA               48       0.0\n",
       "...                         ...              ...       ...\n",
       "5136  WIN_20210417_14_53_12_Pro              120       1.0\n",
       "5137  WIN_20210417_14_53_12_Pro              121       1.0\n",
       "5138  WIN_20210417_14_53_12_Pro              122       1.0\n",
       "5139  WIN_20210417_14_53_12_Pro              123       1.0\n",
       "5140  WIN_20210417_14_53_12_Pro              124       1.0\n",
       "\n",
       "[5141 rows x 3 columns]"
      ],
      "text/html": "<div>\n<style scoped>\n    .dataframe tbody tr th:only-of-type {\n        vertical-align: middle;\n    }\n\n    .dataframe tbody tr th {\n        vertical-align: top;\n    }\n\n    .dataframe thead th {\n        text-align: right;\n    }\n</style>\n<table border=\"1\" class=\"dataframe\">\n  <thead>\n    <tr style=\"text-align: right;\">\n      <th></th>\n      <th>video_name</th>\n      <th>frameTimeWindow</th>\n      <th>ypredict</th>\n    </tr>\n  </thead>\n  <tbody>\n    <tr>\n      <th>0</th>\n      <td>Test_pour_AFPA</td>\n      <td>44</td>\n      <td>0.0</td>\n    </tr>\n    <tr>\n      <th>1</th>\n      <td>Test_pour_AFPA</td>\n      <td>45</td>\n      <td>0.0</td>\n    </tr>\n    <tr>\n      <th>2</th>\n      <td>Test_pour_AFPA</td>\n      <td>46</td>\n      <td>0.0</td>\n    </tr>\n    <tr>\n      <th>3</th>\n      <td>Test_pour_AFPA</td>\n      <td>47</td>\n      <td>0.0</td>\n    </tr>\n    <tr>\n      <th>4</th>\n      <td>Test_pour_AFPA</td>\n      <td>48</td>\n      <td>0.0</td>\n    </tr>\n    <tr>\n      <th>...</th>\n      <td>...</td>\n      <td>...</td>\n      <td>...</td>\n    </tr>\n    <tr>\n      <th>5136</th>\n      <td>WIN_20210417_14_53_12_Pro</td>\n      <td>120</td>\n      <td>1.0</td>\n    </tr>\n    <tr>\n      <th>5137</th>\n      <td>WIN_20210417_14_53_12_Pro</td>\n      <td>121</td>\n      <td>1.0</td>\n    </tr>\n    <tr>\n      <th>5138</th>\n      <td>WIN_20210417_14_53_12_Pro</td>\n      <td>122</td>\n      <td>1.0</td>\n    </tr>\n    <tr>\n      <th>5139</th>\n      <td>WIN_20210417_14_53_12_Pro</td>\n      <td>123</td>\n      <td>1.0</td>\n    </tr>\n    <tr>\n      <th>5140</th>\n      <td>WIN_20210417_14_53_12_Pro</td>\n      <td>124</td>\n      <td>1.0</td>\n    </tr>\n  </tbody>\n</table>\n<p>5141 rows × 3 columns</p>\n</div>"
     },
     "metadata": {},
     "execution_count": 17
    }
   ],
   "source": [
    "predict5s_global = predict5s.drop(\"diapo\", axis = 1)\n",
    "predict5s_global"
   ]
  },
  {
   "cell_type": "code",
   "execution_count": 18,
   "metadata": {},
   "outputs": [],
   "source": [
    "from scipy.stats import kurtosis, skew\n",
    "\n",
    "def percentil25(x): \n",
    "    return np.percentile(x, q=25)\n",
    "\n",
    "def percentil75(x): \n",
    "    return np.percentile(x, q=75)"
   ]
  },
  {
   "cell_type": "code",
   "execution_count": 19,
   "metadata": {},
   "outputs": [],
   "source": [
    "\n",
    "X_glob_minmax = predict5s_global.groupby(['video_name']).agg({'ypredict':['mean','min','max', 'median', 'std', percentil25, percentil75, kurtosis, skew]})"
   ]
  },
  {
   "cell_type": "code",
   "execution_count": 20,
   "metadata": {},
   "outputs": [
    {
     "output_type": "execute_result",
     "data": {
      "text/plain": [
       "                                 ypredict                             \\\n",
       "                                     mean  min  max median       std   \n",
       "video_name                                                             \n",
       "Test_pour_AFPA                   0.666667  0.0  2.0    1.0  0.483779   \n",
       "Video_1                          0.443709  0.0  1.0    0.0  0.498474   \n",
       "WIN_20210323_19_17_40_Pro        0.940476  0.0  1.0    1.0  0.237310   \n",
       "WIN_20210329_10_16_02_Pro        0.904762  0.0  1.0    1.0  0.294547   \n",
       "WIN_20210330_13_10_29_Pro        0.655629  0.0  2.0    1.0  0.503936   \n",
       "WIN_20210331_21_22_52_Pro        1.105882  0.0  2.0    1.0  0.435782   \n",
       "WIN_20210402_19_04_53_Pro        0.531429  0.0  2.0    1.0  0.554901   \n",
       "WIN_20210403_18_49_15_Pro        0.812155  0.0  2.0    1.0  0.419081   \n",
       "WIN_20210404_10_58_27_Pro        0.430000  0.0  1.0    0.0  0.496318   \n",
       "WIN_20210404_21_41_12_Pro        0.534483  0.0  1.0    1.0  0.499888   \n",
       "WIN_20210405_15_09_16_Pro        0.780645  0.0  1.0    1.0  0.415151   \n",
       "WIN_20210406_15_06_15_Pro        0.731707  0.0  1.0    1.0  0.444155   \n",
       "WIN_20210406_18_35_52_Pro        0.841772  0.0  1.0    1.0  0.366115   \n",
       "WIN_20210406_18_49_10_Pro        0.625731  0.0  2.0    1.0  0.497327   \n",
       "WIN_20210406_21_05_52_Pro        1.059459  0.0  2.0    1.0  0.279226   \n",
       "WIN_20210407_09_04_05_Pro        0.047120  0.0  2.0    0.0  0.257272   \n",
       "WIN_20210407_14_54_56_Pro_edit2  0.509434  0.0  1.0    1.0  0.501490   \n",
       "WIN_20210408_11_48_58_Pro        0.817778  0.0  2.0    1.0  0.479625   \n",
       "WIN_20210408_14_00_44_Pro        0.589888  0.0  1.0    1.0  0.493241   \n",
       "WIN_20210408_14_02_19_Pro        0.964706  0.0  1.0    1.0  0.185067   \n",
       "WIN_20210408_14_11_32_Pro        0.384615  0.0  1.0    0.0  0.488071   \n",
       "WIN_20210408_15_20_51_Pro        1.313725  0.0  2.0    1.0  0.722344   \n",
       "WIN_20210408_16_04_32_Pro        0.817647  0.0  2.0    1.0  0.457334   \n",
       "WIN_20210409_10_26_11_Pro        0.768786  0.0  1.0    1.0  0.422833   \n",
       "WIN_20210413_15_38_01_Pro        0.722543  0.0  1.0    1.0  0.449043   \n",
       "WIN_20210414_06_24_52_Pro        0.844560  0.0  2.0    1.0  0.416688   \n",
       "WIN_20210415_15_41_24_Pro        0.649770  0.0  1.0    1.0  0.478145   \n",
       "WIN_20210416_08_06_54_Pro        0.932515  0.0  2.0    1.0  0.432176   \n",
       "WIN_20210417_14_53_12_Pro        0.305344  0.0  1.0    0.0  0.462321   \n",
       "\n",
       "                                                                              \n",
       "                                percentil25 percentil75   kurtosis      skew  \n",
       "video_name                                                                    \n",
       "Test_pour_AFPA                          0.0         1.0  -1.307851 -0.565240  \n",
       "Video_1                                 0.0         1.0  -1.948650  0.226606  \n",
       "WIN_20210323_19_17_40_Pro               1.0         1.0  11.863291 -3.723344  \n",
       "WIN_20210329_10_16_02_Pro               1.0         1.0   5.605263 -2.757764  \n",
       "WIN_20210330_13_10_29_Pro               0.0         1.0  -1.142844 -0.338646  \n",
       "WIN_20210331_21_22_52_Pro               1.0         1.0   1.720146  0.545262  \n",
       "WIN_20210402_19_04_53_Pro               0.0         1.0  -0.915190  0.381786  \n",
       "WIN_20210403_18_49_15_Pro               1.0         1.0   0.589966 -1.134212  \n",
       "WIN_20210404_10_58_27_Pro               0.0         1.0  -1.920033  0.282785  \n",
       "WIN_20210404_21_41_12_Pro               0.0         1.0  -1.980884 -0.138260  \n",
       "WIN_20210405_15_09_16_Pro               1.0         1.0  -0.160185 -1.356398  \n",
       "WIN_20210406_15_06_15_Pro               0.0         1.0  -0.906061 -1.045916  \n",
       "WIN_20210406_18_35_52_Pro               1.0         1.0   1.507970 -1.872958  \n",
       "WIN_20210406_18_49_10_Pro               0.0         1.0  -1.491908 -0.375286  \n",
       "WIN_20210406_21_05_52_Pro               1.0         1.0   8.411619  2.103198  \n",
       "WIN_20210407_09_04_05_Pro               0.0         0.0  37.109970  5.950587  \n",
       "WIN_20210407_14_54_56_Pro_edit2         0.0         1.0  -1.998575 -0.037743  \n",
       "WIN_20210408_11_48_58_Pro               1.0         1.0   0.400208 -0.465113  \n",
       "WIN_20210408_14_00_44_Pro               0.0         1.0  -1.866406 -0.365505  \n",
       "WIN_20210408_14_02_19_Pro               1.0         1.0  23.369919 -5.036856  \n",
       "WIN_20210408_14_11_32_Pro               0.0         1.0  -1.775000  0.474342  \n",
       "WIN_20210408_15_20_51_Pro               1.0         2.0  -0.924140 -0.550154  \n",
       "WIN_20210408_16_04_32_Pro               1.0         1.0   0.538262 -0.659659  \n",
       "WIN_20210409_10_26_11_Pro               1.0         1.0  -0.374248 -1.275050  \n",
       "WIN_20210413_15_38_01_Pro               0.0         1.0  -1.011833 -0.994066  \n",
       "WIN_20210414_06_24_52_Pro               1.0         1.0   1.257896 -0.990941  \n",
       "WIN_20210415_15_41_24_Pro               0.0         1.0  -1.605730 -0.627909  \n",
       "WIN_20210416_08_06_54_Pro               1.0         1.0   2.139579 -0.370048  \n",
       "WIN_20210417_14_53_12_Pro               0.0         1.0  -1.285440  0.845317  "
      ],
      "text/html": "<div>\n<style scoped>\n    .dataframe tbody tr th:only-of-type {\n        vertical-align: middle;\n    }\n\n    .dataframe tbody tr th {\n        vertical-align: top;\n    }\n\n    .dataframe thead tr th {\n        text-align: left;\n    }\n\n    .dataframe thead tr:last-of-type th {\n        text-align: right;\n    }\n</style>\n<table border=\"1\" class=\"dataframe\">\n  <thead>\n    <tr>\n      <th></th>\n      <th colspan=\"9\" halign=\"left\">ypredict</th>\n    </tr>\n    <tr>\n      <th></th>\n      <th>mean</th>\n      <th>min</th>\n      <th>max</th>\n      <th>median</th>\n      <th>std</th>\n      <th>percentil25</th>\n      <th>percentil75</th>\n      <th>kurtosis</th>\n      <th>skew</th>\n    </tr>\n    <tr>\n      <th>video_name</th>\n      <th></th>\n      <th></th>\n      <th></th>\n      <th></th>\n      <th></th>\n      <th></th>\n      <th></th>\n      <th></th>\n      <th></th>\n    </tr>\n  </thead>\n  <tbody>\n    <tr>\n      <th>Test_pour_AFPA</th>\n      <td>0.666667</td>\n      <td>0.0</td>\n      <td>2.0</td>\n      <td>1.0</td>\n      <td>0.483779</td>\n      <td>0.0</td>\n      <td>1.0</td>\n      <td>-1.307851</td>\n      <td>-0.565240</td>\n    </tr>\n    <tr>\n      <th>Video_1</th>\n      <td>0.443709</td>\n      <td>0.0</td>\n      <td>1.0</td>\n      <td>0.0</td>\n      <td>0.498474</td>\n      <td>0.0</td>\n      <td>1.0</td>\n      <td>-1.948650</td>\n      <td>0.226606</td>\n    </tr>\n    <tr>\n      <th>WIN_20210323_19_17_40_Pro</th>\n      <td>0.940476</td>\n      <td>0.0</td>\n      <td>1.0</td>\n      <td>1.0</td>\n      <td>0.237310</td>\n      <td>1.0</td>\n      <td>1.0</td>\n      <td>11.863291</td>\n      <td>-3.723344</td>\n    </tr>\n    <tr>\n      <th>WIN_20210329_10_16_02_Pro</th>\n      <td>0.904762</td>\n      <td>0.0</td>\n      <td>1.0</td>\n      <td>1.0</td>\n      <td>0.294547</td>\n      <td>1.0</td>\n      <td>1.0</td>\n      <td>5.605263</td>\n      <td>-2.757764</td>\n    </tr>\n    <tr>\n      <th>WIN_20210330_13_10_29_Pro</th>\n      <td>0.655629</td>\n      <td>0.0</td>\n      <td>2.0</td>\n      <td>1.0</td>\n      <td>0.503936</td>\n      <td>0.0</td>\n      <td>1.0</td>\n      <td>-1.142844</td>\n      <td>-0.338646</td>\n    </tr>\n    <tr>\n      <th>WIN_20210331_21_22_52_Pro</th>\n      <td>1.105882</td>\n      <td>0.0</td>\n      <td>2.0</td>\n      <td>1.0</td>\n      <td>0.435782</td>\n      <td>1.0</td>\n      <td>1.0</td>\n      <td>1.720146</td>\n      <td>0.545262</td>\n    </tr>\n    <tr>\n      <th>WIN_20210402_19_04_53_Pro</th>\n      <td>0.531429</td>\n      <td>0.0</td>\n      <td>2.0</td>\n      <td>1.0</td>\n      <td>0.554901</td>\n      <td>0.0</td>\n      <td>1.0</td>\n      <td>-0.915190</td>\n      <td>0.381786</td>\n    </tr>\n    <tr>\n      <th>WIN_20210403_18_49_15_Pro</th>\n      <td>0.812155</td>\n      <td>0.0</td>\n      <td>2.0</td>\n      <td>1.0</td>\n      <td>0.419081</td>\n      <td>1.0</td>\n      <td>1.0</td>\n      <td>0.589966</td>\n      <td>-1.134212</td>\n    </tr>\n    <tr>\n      <th>WIN_20210404_10_58_27_Pro</th>\n      <td>0.430000</td>\n      <td>0.0</td>\n      <td>1.0</td>\n      <td>0.0</td>\n      <td>0.496318</td>\n      <td>0.0</td>\n      <td>1.0</td>\n      <td>-1.920033</td>\n      <td>0.282785</td>\n    </tr>\n    <tr>\n      <th>WIN_20210404_21_41_12_Pro</th>\n      <td>0.534483</td>\n      <td>0.0</td>\n      <td>1.0</td>\n      <td>1.0</td>\n      <td>0.499888</td>\n      <td>0.0</td>\n      <td>1.0</td>\n      <td>-1.980884</td>\n      <td>-0.138260</td>\n    </tr>\n    <tr>\n      <th>WIN_20210405_15_09_16_Pro</th>\n      <td>0.780645</td>\n      <td>0.0</td>\n      <td>1.0</td>\n      <td>1.0</td>\n      <td>0.415151</td>\n      <td>1.0</td>\n      <td>1.0</td>\n      <td>-0.160185</td>\n      <td>-1.356398</td>\n    </tr>\n    <tr>\n      <th>WIN_20210406_15_06_15_Pro</th>\n      <td>0.731707</td>\n      <td>0.0</td>\n      <td>1.0</td>\n      <td>1.0</td>\n      <td>0.444155</td>\n      <td>0.0</td>\n      <td>1.0</td>\n      <td>-0.906061</td>\n      <td>-1.045916</td>\n    </tr>\n    <tr>\n      <th>WIN_20210406_18_35_52_Pro</th>\n      <td>0.841772</td>\n      <td>0.0</td>\n      <td>1.0</td>\n      <td>1.0</td>\n      <td>0.366115</td>\n      <td>1.0</td>\n      <td>1.0</td>\n      <td>1.507970</td>\n      <td>-1.872958</td>\n    </tr>\n    <tr>\n      <th>WIN_20210406_18_49_10_Pro</th>\n      <td>0.625731</td>\n      <td>0.0</td>\n      <td>2.0</td>\n      <td>1.0</td>\n      <td>0.497327</td>\n      <td>0.0</td>\n      <td>1.0</td>\n      <td>-1.491908</td>\n      <td>-0.375286</td>\n    </tr>\n    <tr>\n      <th>WIN_20210406_21_05_52_Pro</th>\n      <td>1.059459</td>\n      <td>0.0</td>\n      <td>2.0</td>\n      <td>1.0</td>\n      <td>0.279226</td>\n      <td>1.0</td>\n      <td>1.0</td>\n      <td>8.411619</td>\n      <td>2.103198</td>\n    </tr>\n    <tr>\n      <th>WIN_20210407_09_04_05_Pro</th>\n      <td>0.047120</td>\n      <td>0.0</td>\n      <td>2.0</td>\n      <td>0.0</td>\n      <td>0.257272</td>\n      <td>0.0</td>\n      <td>0.0</td>\n      <td>37.109970</td>\n      <td>5.950587</td>\n    </tr>\n    <tr>\n      <th>WIN_20210407_14_54_56_Pro_edit2</th>\n      <td>0.509434</td>\n      <td>0.0</td>\n      <td>1.0</td>\n      <td>1.0</td>\n      <td>0.501490</td>\n      <td>0.0</td>\n      <td>1.0</td>\n      <td>-1.998575</td>\n      <td>-0.037743</td>\n    </tr>\n    <tr>\n      <th>WIN_20210408_11_48_58_Pro</th>\n      <td>0.817778</td>\n      <td>0.0</td>\n      <td>2.0</td>\n      <td>1.0</td>\n      <td>0.479625</td>\n      <td>1.0</td>\n      <td>1.0</td>\n      <td>0.400208</td>\n      <td>-0.465113</td>\n    </tr>\n    <tr>\n      <th>WIN_20210408_14_00_44_Pro</th>\n      <td>0.589888</td>\n      <td>0.0</td>\n      <td>1.0</td>\n      <td>1.0</td>\n      <td>0.493241</td>\n      <td>0.0</td>\n      <td>1.0</td>\n      <td>-1.866406</td>\n      <td>-0.365505</td>\n    </tr>\n    <tr>\n      <th>WIN_20210408_14_02_19_Pro</th>\n      <td>0.964706</td>\n      <td>0.0</td>\n      <td>1.0</td>\n      <td>1.0</td>\n      <td>0.185067</td>\n      <td>1.0</td>\n      <td>1.0</td>\n      <td>23.369919</td>\n      <td>-5.036856</td>\n    </tr>\n    <tr>\n      <th>WIN_20210408_14_11_32_Pro</th>\n      <td>0.384615</td>\n      <td>0.0</td>\n      <td>1.0</td>\n      <td>0.0</td>\n      <td>0.488071</td>\n      <td>0.0</td>\n      <td>1.0</td>\n      <td>-1.775000</td>\n      <td>0.474342</td>\n    </tr>\n    <tr>\n      <th>WIN_20210408_15_20_51_Pro</th>\n      <td>1.313725</td>\n      <td>0.0</td>\n      <td>2.0</td>\n      <td>1.0</td>\n      <td>0.722344</td>\n      <td>1.0</td>\n      <td>2.0</td>\n      <td>-0.924140</td>\n      <td>-0.550154</td>\n    </tr>\n    <tr>\n      <th>WIN_20210408_16_04_32_Pro</th>\n      <td>0.817647</td>\n      <td>0.0</td>\n      <td>2.0</td>\n      <td>1.0</td>\n      <td>0.457334</td>\n      <td>1.0</td>\n      <td>1.0</td>\n      <td>0.538262</td>\n      <td>-0.659659</td>\n    </tr>\n    <tr>\n      <th>WIN_20210409_10_26_11_Pro</th>\n      <td>0.768786</td>\n      <td>0.0</td>\n      <td>1.0</td>\n      <td>1.0</td>\n      <td>0.422833</td>\n      <td>1.0</td>\n      <td>1.0</td>\n      <td>-0.374248</td>\n      <td>-1.275050</td>\n    </tr>\n    <tr>\n      <th>WIN_20210413_15_38_01_Pro</th>\n      <td>0.722543</td>\n      <td>0.0</td>\n      <td>1.0</td>\n      <td>1.0</td>\n      <td>0.449043</td>\n      <td>0.0</td>\n      <td>1.0</td>\n      <td>-1.011833</td>\n      <td>-0.994066</td>\n    </tr>\n    <tr>\n      <th>WIN_20210414_06_24_52_Pro</th>\n      <td>0.844560</td>\n      <td>0.0</td>\n      <td>2.0</td>\n      <td>1.0</td>\n      <td>0.416688</td>\n      <td>1.0</td>\n      <td>1.0</td>\n      <td>1.257896</td>\n      <td>-0.990941</td>\n    </tr>\n    <tr>\n      <th>WIN_20210415_15_41_24_Pro</th>\n      <td>0.649770</td>\n      <td>0.0</td>\n      <td>1.0</td>\n      <td>1.0</td>\n      <td>0.478145</td>\n      <td>0.0</td>\n      <td>1.0</td>\n      <td>-1.605730</td>\n      <td>-0.627909</td>\n    </tr>\n    <tr>\n      <th>WIN_20210416_08_06_54_Pro</th>\n      <td>0.932515</td>\n      <td>0.0</td>\n      <td>2.0</td>\n      <td>1.0</td>\n      <td>0.432176</td>\n      <td>1.0</td>\n      <td>1.0</td>\n      <td>2.139579</td>\n      <td>-0.370048</td>\n    </tr>\n    <tr>\n      <th>WIN_20210417_14_53_12_Pro</th>\n      <td>0.305344</td>\n      <td>0.0</td>\n      <td>1.0</td>\n      <td>0.0</td>\n      <td>0.462321</td>\n      <td>0.0</td>\n      <td>1.0</td>\n      <td>-1.285440</td>\n      <td>0.845317</td>\n    </tr>\n  </tbody>\n</table>\n</div>"
     },
     "metadata": {},
     "execution_count": 20
    }
   ],
   "source": [
    "X_glob_minmax"
   ]
  },
  {
   "cell_type": "code",
   "execution_count": 21,
   "metadata": {},
   "outputs": [
    {
     "output_type": "execute_result",
     "data": {
      "text/plain": [
       "                         video_name  stress_global\n",
       "0                    Test_pour_AFPA            1.0\n",
       "1                           Video_1            0.0\n",
       "2         WIN_20210323_19_17_40_Pro            1.0\n",
       "3         WIN_20210329_10_16_02_Pro            1.0\n",
       "4         WIN_20210330_13_10_29_Pro            0.0\n",
       "5         WIN_20210331_21_22_52_Pro            1.0\n",
       "6         WIN_20210402_14_27_50_Pro            1.0\n",
       "7         WIN_20210402_19_04_53_Pro            2.0\n",
       "8         WIN_20210403_18_49_15_Pro            2.0\n",
       "9         WIN_20210404_10_58_27_Pro            1.0\n",
       "10        WIN_20210404_21_41_12_Pro            0.0\n",
       "11        WIN_20210405_15_09_16_Pro            1.0\n",
       "12        WIN_20210406_15_06_15_Pro            2.0\n",
       "13        WIN_20210406_18_35_52_Pro            0.0\n",
       "14        WIN_20210406_18_49_10_Pro            1.0\n",
       "15        WIN_20210406_21_05_52_Pro            2.0\n",
       "16        WIN_20210407_09_04_05_Pro            2.0\n",
       "17  WIN_20210407_14_54_56_Pro_edit2            0.0\n",
       "18        WIN_20210408_11_48_58_Pro            2.0\n",
       "19        WIN_20210408_14_00_44_Pro            0.0\n",
       "20        WIN_20210408_14_02_19_Pro            0.0\n",
       "21        WIN_20210408_14_11_32_Pro            2.0\n",
       "22        WIN_20210408_15_20_51_Pro            0.0\n",
       "23        WIN_20210408_16_04_32_Pro            0.0\n",
       "24        WIN_20210409_10_26_11_Pro            0.0\n",
       "25        WIN_20210413_15_38_01_Pro            1.0\n",
       "26        WIN_20210414_06_24_52_Pro            2.0\n",
       "27        WIN_20210415_15_41_24_Pro            0.0\n",
       "28        WIN_20210416_08_06_54_Pro            1.0\n",
       "29        WIN_20210417_14_53_12_Pro            0.0"
      ],
      "text/html": "<div>\n<style scoped>\n    .dataframe tbody tr th:only-of-type {\n        vertical-align: middle;\n    }\n\n    .dataframe tbody tr th {\n        vertical-align: top;\n    }\n\n    .dataframe thead th {\n        text-align: right;\n    }\n</style>\n<table border=\"1\" class=\"dataframe\">\n  <thead>\n    <tr style=\"text-align: right;\">\n      <th></th>\n      <th>video_name</th>\n      <th>stress_global</th>\n    </tr>\n  </thead>\n  <tbody>\n    <tr>\n      <th>0</th>\n      <td>Test_pour_AFPA</td>\n      <td>1.0</td>\n    </tr>\n    <tr>\n      <th>1</th>\n      <td>Video_1</td>\n      <td>0.0</td>\n    </tr>\n    <tr>\n      <th>2</th>\n      <td>WIN_20210323_19_17_40_Pro</td>\n      <td>1.0</td>\n    </tr>\n    <tr>\n      <th>3</th>\n      <td>WIN_20210329_10_16_02_Pro</td>\n      <td>1.0</td>\n    </tr>\n    <tr>\n      <th>4</th>\n      <td>WIN_20210330_13_10_29_Pro</td>\n      <td>0.0</td>\n    </tr>\n    <tr>\n      <th>5</th>\n      <td>WIN_20210331_21_22_52_Pro</td>\n      <td>1.0</td>\n    </tr>\n    <tr>\n      <th>6</th>\n      <td>WIN_20210402_14_27_50_Pro</td>\n      <td>1.0</td>\n    </tr>\n    <tr>\n      <th>7</th>\n      <td>WIN_20210402_19_04_53_Pro</td>\n      <td>2.0</td>\n    </tr>\n    <tr>\n      <th>8</th>\n      <td>WIN_20210403_18_49_15_Pro</td>\n      <td>2.0</td>\n    </tr>\n    <tr>\n      <th>9</th>\n      <td>WIN_20210404_10_58_27_Pro</td>\n      <td>1.0</td>\n    </tr>\n    <tr>\n      <th>10</th>\n      <td>WIN_20210404_21_41_12_Pro</td>\n      <td>0.0</td>\n    </tr>\n    <tr>\n      <th>11</th>\n      <td>WIN_20210405_15_09_16_Pro</td>\n      <td>1.0</td>\n    </tr>\n    <tr>\n      <th>12</th>\n      <td>WIN_20210406_15_06_15_Pro</td>\n      <td>2.0</td>\n    </tr>\n    <tr>\n      <th>13</th>\n      <td>WIN_20210406_18_35_52_Pro</td>\n      <td>0.0</td>\n    </tr>\n    <tr>\n      <th>14</th>\n      <td>WIN_20210406_18_49_10_Pro</td>\n      <td>1.0</td>\n    </tr>\n    <tr>\n      <th>15</th>\n      <td>WIN_20210406_21_05_52_Pro</td>\n      <td>2.0</td>\n    </tr>\n    <tr>\n      <th>16</th>\n      <td>WIN_20210407_09_04_05_Pro</td>\n      <td>2.0</td>\n    </tr>\n    <tr>\n      <th>17</th>\n      <td>WIN_20210407_14_54_56_Pro_edit2</td>\n      <td>0.0</td>\n    </tr>\n    <tr>\n      <th>18</th>\n      <td>WIN_20210408_11_48_58_Pro</td>\n      <td>2.0</td>\n    </tr>\n    <tr>\n      <th>19</th>\n      <td>WIN_20210408_14_00_44_Pro</td>\n      <td>0.0</td>\n    </tr>\n    <tr>\n      <th>20</th>\n      <td>WIN_20210408_14_02_19_Pro</td>\n      <td>0.0</td>\n    </tr>\n    <tr>\n      <th>21</th>\n      <td>WIN_20210408_14_11_32_Pro</td>\n      <td>2.0</td>\n    </tr>\n    <tr>\n      <th>22</th>\n      <td>WIN_20210408_15_20_51_Pro</td>\n      <td>0.0</td>\n    </tr>\n    <tr>\n      <th>23</th>\n      <td>WIN_20210408_16_04_32_Pro</td>\n      <td>0.0</td>\n    </tr>\n    <tr>\n      <th>24</th>\n      <td>WIN_20210409_10_26_11_Pro</td>\n      <td>0.0</td>\n    </tr>\n    <tr>\n      <th>25</th>\n      <td>WIN_20210413_15_38_01_Pro</td>\n      <td>1.0</td>\n    </tr>\n    <tr>\n      <th>26</th>\n      <td>WIN_20210414_06_24_52_Pro</td>\n      <td>2.0</td>\n    </tr>\n    <tr>\n      <th>27</th>\n      <td>WIN_20210415_15_41_24_Pro</td>\n      <td>0.0</td>\n    </tr>\n    <tr>\n      <th>28</th>\n      <td>WIN_20210416_08_06_54_Pro</td>\n      <td>1.0</td>\n    </tr>\n    <tr>\n      <th>29</th>\n      <td>WIN_20210417_14_53_12_Pro</td>\n      <td>0.0</td>\n    </tr>\n  </tbody>\n</table>\n</div>"
     },
     "metadata": {},
     "execution_count": 21
    }
   ],
   "source": [
    "#questo e' lo stress vero per diapositiva\n",
    "#recuperalo stress globale vero \n",
    "df_annotations_stress = pd.read_csv('annotations.csv')\n",
    "df_annotations_stress = df_annotations_stress.drop(['1', '8', '9', '10', '11', '12', '17', '18'], axis =1)\n",
    "df_annotations_stress"
   ]
  },
  {
   "cell_type": "code",
   "execution_count": 22,
   "metadata": {},
   "outputs": [
    {
     "output_type": "execute_result",
     "data": {
      "text/plain": [
       "                         video_name  (ypredict, mean)  (ypredict, min)  \\\n",
       "0                    Test_pour_AFPA          0.666667              0.0   \n",
       "1                           Video_1          0.443709              0.0   \n",
       "2         WIN_20210323_19_17_40_Pro          0.940476              0.0   \n",
       "3         WIN_20210329_10_16_02_Pro          0.904762              0.0   \n",
       "4         WIN_20210330_13_10_29_Pro          0.655629              0.0   \n",
       "5         WIN_20210331_21_22_52_Pro          1.105882              0.0   \n",
       "6         WIN_20210402_19_04_53_Pro          0.531429              0.0   \n",
       "7         WIN_20210403_18_49_15_Pro          0.812155              0.0   \n",
       "8         WIN_20210404_10_58_27_Pro          0.430000              0.0   \n",
       "9         WIN_20210404_21_41_12_Pro          0.534483              0.0   \n",
       "10        WIN_20210405_15_09_16_Pro          0.780645              0.0   \n",
       "11        WIN_20210406_15_06_15_Pro          0.731707              0.0   \n",
       "12        WIN_20210406_18_35_52_Pro          0.841772              0.0   \n",
       "13        WIN_20210406_18_49_10_Pro          0.625731              0.0   \n",
       "14        WIN_20210406_21_05_52_Pro          1.059459              0.0   \n",
       "15        WIN_20210407_09_04_05_Pro          0.047120              0.0   \n",
       "16  WIN_20210407_14_54_56_Pro_edit2          0.509434              0.0   \n",
       "17        WIN_20210408_11_48_58_Pro          0.817778              0.0   \n",
       "18        WIN_20210408_14_00_44_Pro          0.589888              0.0   \n",
       "19        WIN_20210408_14_02_19_Pro          0.964706              0.0   \n",
       "20        WIN_20210408_14_11_32_Pro          0.384615              0.0   \n",
       "21        WIN_20210408_15_20_51_Pro          1.313725              0.0   \n",
       "22        WIN_20210408_16_04_32_Pro          0.817647              0.0   \n",
       "23        WIN_20210409_10_26_11_Pro          0.768786              0.0   \n",
       "24        WIN_20210413_15_38_01_Pro          0.722543              0.0   \n",
       "25        WIN_20210414_06_24_52_Pro          0.844560              0.0   \n",
       "26        WIN_20210415_15_41_24_Pro          0.649770              0.0   \n",
       "27        WIN_20210416_08_06_54_Pro          0.932515              0.0   \n",
       "28        WIN_20210417_14_53_12_Pro          0.305344              0.0   \n",
       "\n",
       "    (ypredict, max)  (ypredict, median)  (ypredict, std)  \\\n",
       "0               2.0                 1.0         0.483779   \n",
       "1               1.0                 0.0         0.498474   \n",
       "2               1.0                 1.0         0.237310   \n",
       "3               1.0                 1.0         0.294547   \n",
       "4               2.0                 1.0         0.503936   \n",
       "5               2.0                 1.0         0.435782   \n",
       "6               2.0                 1.0         0.554901   \n",
       "7               2.0                 1.0         0.419081   \n",
       "8               1.0                 0.0         0.496318   \n",
       "9               1.0                 1.0         0.499888   \n",
       "10              1.0                 1.0         0.415151   \n",
       "11              1.0                 1.0         0.444155   \n",
       "12              1.0                 1.0         0.366115   \n",
       "13              2.0                 1.0         0.497327   \n",
       "14              2.0                 1.0         0.279226   \n",
       "15              2.0                 0.0         0.257272   \n",
       "16              1.0                 1.0         0.501490   \n",
       "17              2.0                 1.0         0.479625   \n",
       "18              1.0                 1.0         0.493241   \n",
       "19              1.0                 1.0         0.185067   \n",
       "20              1.0                 0.0         0.488071   \n",
       "21              2.0                 1.0         0.722344   \n",
       "22              2.0                 1.0         0.457334   \n",
       "23              1.0                 1.0         0.422833   \n",
       "24              1.0                 1.0         0.449043   \n",
       "25              2.0                 1.0         0.416688   \n",
       "26              1.0                 1.0         0.478145   \n",
       "27              2.0                 1.0         0.432176   \n",
       "28              1.0                 0.0         0.462321   \n",
       "\n",
       "    (ypredict, percentil25)  (ypredict, percentil75)  (ypredict, kurtosis)  \\\n",
       "0                       0.0                      1.0             -1.307851   \n",
       "1                       0.0                      1.0             -1.948650   \n",
       "2                       1.0                      1.0             11.863291   \n",
       "3                       1.0                      1.0              5.605263   \n",
       "4                       0.0                      1.0             -1.142844   \n",
       "5                       1.0                      1.0              1.720146   \n",
       "6                       0.0                      1.0             -0.915190   \n",
       "7                       1.0                      1.0              0.589966   \n",
       "8                       0.0                      1.0             -1.920033   \n",
       "9                       0.0                      1.0             -1.980884   \n",
       "10                      1.0                      1.0             -0.160185   \n",
       "11                      0.0                      1.0             -0.906061   \n",
       "12                      1.0                      1.0              1.507970   \n",
       "13                      0.0                      1.0             -1.491908   \n",
       "14                      1.0                      1.0              8.411619   \n",
       "15                      0.0                      0.0             37.109970   \n",
       "16                      0.0                      1.0             -1.998575   \n",
       "17                      1.0                      1.0              0.400208   \n",
       "18                      0.0                      1.0             -1.866406   \n",
       "19                      1.0                      1.0             23.369919   \n",
       "20                      0.0                      1.0             -1.775000   \n",
       "21                      1.0                      2.0             -0.924140   \n",
       "22                      1.0                      1.0              0.538262   \n",
       "23                      1.0                      1.0             -0.374248   \n",
       "24                      0.0                      1.0             -1.011833   \n",
       "25                      1.0                      1.0              1.257896   \n",
       "26                      0.0                      1.0             -1.605730   \n",
       "27                      1.0                      1.0              2.139579   \n",
       "28                      0.0                      1.0             -1.285440   \n",
       "\n",
       "    (ypredict, skew)  stress_global  \n",
       "0          -0.565240            1.0  \n",
       "1           0.226606            0.0  \n",
       "2          -3.723344            1.0  \n",
       "3          -2.757764            1.0  \n",
       "4          -0.338646            0.0  \n",
       "5           0.545262            1.0  \n",
       "6           0.381786            2.0  \n",
       "7          -1.134212            2.0  \n",
       "8           0.282785            1.0  \n",
       "9          -0.138260            0.0  \n",
       "10         -1.356398            1.0  \n",
       "11         -1.045916            2.0  \n",
       "12         -1.872958            0.0  \n",
       "13         -0.375286            1.0  \n",
       "14          2.103198            2.0  \n",
       "15          5.950587            2.0  \n",
       "16         -0.037743            0.0  \n",
       "17         -0.465113            2.0  \n",
       "18         -0.365505            0.0  \n",
       "19         -5.036856            0.0  \n",
       "20          0.474342            2.0  \n",
       "21         -0.550154            0.0  \n",
       "22         -0.659659            0.0  \n",
       "23         -1.275050            0.0  \n",
       "24         -0.994066            1.0  \n",
       "25         -0.990941            2.0  \n",
       "26         -0.627909            0.0  \n",
       "27         -0.370048            1.0  \n",
       "28          0.845317            0.0  "
      ],
      "text/html": "<div>\n<style scoped>\n    .dataframe tbody tr th:only-of-type {\n        vertical-align: middle;\n    }\n\n    .dataframe tbody tr th {\n        vertical-align: top;\n    }\n\n    .dataframe thead th {\n        text-align: right;\n    }\n</style>\n<table border=\"1\" class=\"dataframe\">\n  <thead>\n    <tr style=\"text-align: right;\">\n      <th></th>\n      <th>video_name</th>\n      <th>(ypredict, mean)</th>\n      <th>(ypredict, min)</th>\n      <th>(ypredict, max)</th>\n      <th>(ypredict, median)</th>\n      <th>(ypredict, std)</th>\n      <th>(ypredict, percentil25)</th>\n      <th>(ypredict, percentil75)</th>\n      <th>(ypredict, kurtosis)</th>\n      <th>(ypredict, skew)</th>\n      <th>stress_global</th>\n    </tr>\n  </thead>\n  <tbody>\n    <tr>\n      <th>0</th>\n      <td>Test_pour_AFPA</td>\n      <td>0.666667</td>\n      <td>0.0</td>\n      <td>2.0</td>\n      <td>1.0</td>\n      <td>0.483779</td>\n      <td>0.0</td>\n      <td>1.0</td>\n      <td>-1.307851</td>\n      <td>-0.565240</td>\n      <td>1.0</td>\n    </tr>\n    <tr>\n      <th>1</th>\n      <td>Video_1</td>\n      <td>0.443709</td>\n      <td>0.0</td>\n      <td>1.0</td>\n      <td>0.0</td>\n      <td>0.498474</td>\n      <td>0.0</td>\n      <td>1.0</td>\n      <td>-1.948650</td>\n      <td>0.226606</td>\n      <td>0.0</td>\n    </tr>\n    <tr>\n      <th>2</th>\n      <td>WIN_20210323_19_17_40_Pro</td>\n      <td>0.940476</td>\n      <td>0.0</td>\n      <td>1.0</td>\n      <td>1.0</td>\n      <td>0.237310</td>\n      <td>1.0</td>\n      <td>1.0</td>\n      <td>11.863291</td>\n      <td>-3.723344</td>\n      <td>1.0</td>\n    </tr>\n    <tr>\n      <th>3</th>\n      <td>WIN_20210329_10_16_02_Pro</td>\n      <td>0.904762</td>\n      <td>0.0</td>\n      <td>1.0</td>\n      <td>1.0</td>\n      <td>0.294547</td>\n      <td>1.0</td>\n      <td>1.0</td>\n      <td>5.605263</td>\n      <td>-2.757764</td>\n      <td>1.0</td>\n    </tr>\n    <tr>\n      <th>4</th>\n      <td>WIN_20210330_13_10_29_Pro</td>\n      <td>0.655629</td>\n      <td>0.0</td>\n      <td>2.0</td>\n      <td>1.0</td>\n      <td>0.503936</td>\n      <td>0.0</td>\n      <td>1.0</td>\n      <td>-1.142844</td>\n      <td>-0.338646</td>\n      <td>0.0</td>\n    </tr>\n    <tr>\n      <th>5</th>\n      <td>WIN_20210331_21_22_52_Pro</td>\n      <td>1.105882</td>\n      <td>0.0</td>\n      <td>2.0</td>\n      <td>1.0</td>\n      <td>0.435782</td>\n      <td>1.0</td>\n      <td>1.0</td>\n      <td>1.720146</td>\n      <td>0.545262</td>\n      <td>1.0</td>\n    </tr>\n    <tr>\n      <th>6</th>\n      <td>WIN_20210402_19_04_53_Pro</td>\n      <td>0.531429</td>\n      <td>0.0</td>\n      <td>2.0</td>\n      <td>1.0</td>\n      <td>0.554901</td>\n      <td>0.0</td>\n      <td>1.0</td>\n      <td>-0.915190</td>\n      <td>0.381786</td>\n      <td>2.0</td>\n    </tr>\n    <tr>\n      <th>7</th>\n      <td>WIN_20210403_18_49_15_Pro</td>\n      <td>0.812155</td>\n      <td>0.0</td>\n      <td>2.0</td>\n      <td>1.0</td>\n      <td>0.419081</td>\n      <td>1.0</td>\n      <td>1.0</td>\n      <td>0.589966</td>\n      <td>-1.134212</td>\n      <td>2.0</td>\n    </tr>\n    <tr>\n      <th>8</th>\n      <td>WIN_20210404_10_58_27_Pro</td>\n      <td>0.430000</td>\n      <td>0.0</td>\n      <td>1.0</td>\n      <td>0.0</td>\n      <td>0.496318</td>\n      <td>0.0</td>\n      <td>1.0</td>\n      <td>-1.920033</td>\n      <td>0.282785</td>\n      <td>1.0</td>\n    </tr>\n    <tr>\n      <th>9</th>\n      <td>WIN_20210404_21_41_12_Pro</td>\n      <td>0.534483</td>\n      <td>0.0</td>\n      <td>1.0</td>\n      <td>1.0</td>\n      <td>0.499888</td>\n      <td>0.0</td>\n      <td>1.0</td>\n      <td>-1.980884</td>\n      <td>-0.138260</td>\n      <td>0.0</td>\n    </tr>\n    <tr>\n      <th>10</th>\n      <td>WIN_20210405_15_09_16_Pro</td>\n      <td>0.780645</td>\n      <td>0.0</td>\n      <td>1.0</td>\n      <td>1.0</td>\n      <td>0.415151</td>\n      <td>1.0</td>\n      <td>1.0</td>\n      <td>-0.160185</td>\n      <td>-1.356398</td>\n      <td>1.0</td>\n    </tr>\n    <tr>\n      <th>11</th>\n      <td>WIN_20210406_15_06_15_Pro</td>\n      <td>0.731707</td>\n      <td>0.0</td>\n      <td>1.0</td>\n      <td>1.0</td>\n      <td>0.444155</td>\n      <td>0.0</td>\n      <td>1.0</td>\n      <td>-0.906061</td>\n      <td>-1.045916</td>\n      <td>2.0</td>\n    </tr>\n    <tr>\n      <th>12</th>\n      <td>WIN_20210406_18_35_52_Pro</td>\n      <td>0.841772</td>\n      <td>0.0</td>\n      <td>1.0</td>\n      <td>1.0</td>\n      <td>0.366115</td>\n      <td>1.0</td>\n      <td>1.0</td>\n      <td>1.507970</td>\n      <td>-1.872958</td>\n      <td>0.0</td>\n    </tr>\n    <tr>\n      <th>13</th>\n      <td>WIN_20210406_18_49_10_Pro</td>\n      <td>0.625731</td>\n      <td>0.0</td>\n      <td>2.0</td>\n      <td>1.0</td>\n      <td>0.497327</td>\n      <td>0.0</td>\n      <td>1.0</td>\n      <td>-1.491908</td>\n      <td>-0.375286</td>\n      <td>1.0</td>\n    </tr>\n    <tr>\n      <th>14</th>\n      <td>WIN_20210406_21_05_52_Pro</td>\n      <td>1.059459</td>\n      <td>0.0</td>\n      <td>2.0</td>\n      <td>1.0</td>\n      <td>0.279226</td>\n      <td>1.0</td>\n      <td>1.0</td>\n      <td>8.411619</td>\n      <td>2.103198</td>\n      <td>2.0</td>\n    </tr>\n    <tr>\n      <th>15</th>\n      <td>WIN_20210407_09_04_05_Pro</td>\n      <td>0.047120</td>\n      <td>0.0</td>\n      <td>2.0</td>\n      <td>0.0</td>\n      <td>0.257272</td>\n      <td>0.0</td>\n      <td>0.0</td>\n      <td>37.109970</td>\n      <td>5.950587</td>\n      <td>2.0</td>\n    </tr>\n    <tr>\n      <th>16</th>\n      <td>WIN_20210407_14_54_56_Pro_edit2</td>\n      <td>0.509434</td>\n      <td>0.0</td>\n      <td>1.0</td>\n      <td>1.0</td>\n      <td>0.501490</td>\n      <td>0.0</td>\n      <td>1.0</td>\n      <td>-1.998575</td>\n      <td>-0.037743</td>\n      <td>0.0</td>\n    </tr>\n    <tr>\n      <th>17</th>\n      <td>WIN_20210408_11_48_58_Pro</td>\n      <td>0.817778</td>\n      <td>0.0</td>\n      <td>2.0</td>\n      <td>1.0</td>\n      <td>0.479625</td>\n      <td>1.0</td>\n      <td>1.0</td>\n      <td>0.400208</td>\n      <td>-0.465113</td>\n      <td>2.0</td>\n    </tr>\n    <tr>\n      <th>18</th>\n      <td>WIN_20210408_14_00_44_Pro</td>\n      <td>0.589888</td>\n      <td>0.0</td>\n      <td>1.0</td>\n      <td>1.0</td>\n      <td>0.493241</td>\n      <td>0.0</td>\n      <td>1.0</td>\n      <td>-1.866406</td>\n      <td>-0.365505</td>\n      <td>0.0</td>\n    </tr>\n    <tr>\n      <th>19</th>\n      <td>WIN_20210408_14_02_19_Pro</td>\n      <td>0.964706</td>\n      <td>0.0</td>\n      <td>1.0</td>\n      <td>1.0</td>\n      <td>0.185067</td>\n      <td>1.0</td>\n      <td>1.0</td>\n      <td>23.369919</td>\n      <td>-5.036856</td>\n      <td>0.0</td>\n    </tr>\n    <tr>\n      <th>20</th>\n      <td>WIN_20210408_14_11_32_Pro</td>\n      <td>0.384615</td>\n      <td>0.0</td>\n      <td>1.0</td>\n      <td>0.0</td>\n      <td>0.488071</td>\n      <td>0.0</td>\n      <td>1.0</td>\n      <td>-1.775000</td>\n      <td>0.474342</td>\n      <td>2.0</td>\n    </tr>\n    <tr>\n      <th>21</th>\n      <td>WIN_20210408_15_20_51_Pro</td>\n      <td>1.313725</td>\n      <td>0.0</td>\n      <td>2.0</td>\n      <td>1.0</td>\n      <td>0.722344</td>\n      <td>1.0</td>\n      <td>2.0</td>\n      <td>-0.924140</td>\n      <td>-0.550154</td>\n      <td>0.0</td>\n    </tr>\n    <tr>\n      <th>22</th>\n      <td>WIN_20210408_16_04_32_Pro</td>\n      <td>0.817647</td>\n      <td>0.0</td>\n      <td>2.0</td>\n      <td>1.0</td>\n      <td>0.457334</td>\n      <td>1.0</td>\n      <td>1.0</td>\n      <td>0.538262</td>\n      <td>-0.659659</td>\n      <td>0.0</td>\n    </tr>\n    <tr>\n      <th>23</th>\n      <td>WIN_20210409_10_26_11_Pro</td>\n      <td>0.768786</td>\n      <td>0.0</td>\n      <td>1.0</td>\n      <td>1.0</td>\n      <td>0.422833</td>\n      <td>1.0</td>\n      <td>1.0</td>\n      <td>-0.374248</td>\n      <td>-1.275050</td>\n      <td>0.0</td>\n    </tr>\n    <tr>\n      <th>24</th>\n      <td>WIN_20210413_15_38_01_Pro</td>\n      <td>0.722543</td>\n      <td>0.0</td>\n      <td>1.0</td>\n      <td>1.0</td>\n      <td>0.449043</td>\n      <td>0.0</td>\n      <td>1.0</td>\n      <td>-1.011833</td>\n      <td>-0.994066</td>\n      <td>1.0</td>\n    </tr>\n    <tr>\n      <th>25</th>\n      <td>WIN_20210414_06_24_52_Pro</td>\n      <td>0.844560</td>\n      <td>0.0</td>\n      <td>2.0</td>\n      <td>1.0</td>\n      <td>0.416688</td>\n      <td>1.0</td>\n      <td>1.0</td>\n      <td>1.257896</td>\n      <td>-0.990941</td>\n      <td>2.0</td>\n    </tr>\n    <tr>\n      <th>26</th>\n      <td>WIN_20210415_15_41_24_Pro</td>\n      <td>0.649770</td>\n      <td>0.0</td>\n      <td>1.0</td>\n      <td>1.0</td>\n      <td>0.478145</td>\n      <td>0.0</td>\n      <td>1.0</td>\n      <td>-1.605730</td>\n      <td>-0.627909</td>\n      <td>0.0</td>\n    </tr>\n    <tr>\n      <th>27</th>\n      <td>WIN_20210416_08_06_54_Pro</td>\n      <td>0.932515</td>\n      <td>0.0</td>\n      <td>2.0</td>\n      <td>1.0</td>\n      <td>0.432176</td>\n      <td>1.0</td>\n      <td>1.0</td>\n      <td>2.139579</td>\n      <td>-0.370048</td>\n      <td>1.0</td>\n    </tr>\n    <tr>\n      <th>28</th>\n      <td>WIN_20210417_14_53_12_Pro</td>\n      <td>0.305344</td>\n      <td>0.0</td>\n      <td>1.0</td>\n      <td>0.0</td>\n      <td>0.462321</td>\n      <td>0.0</td>\n      <td>1.0</td>\n      <td>-1.285440</td>\n      <td>0.845317</td>\n      <td>0.0</td>\n    </tr>\n  </tbody>\n</table>\n</div>"
     },
     "metadata": {},
     "execution_count": 22
    }
   ],
   "source": [
    "X_glob_minmaxy = X_glob_minmax.merge(df_annotations_stress, how='inner', on=['video_name'])\n",
    "X_glob_minmax = X_glob_minmaxy.iloc[:,:-1].set_index(['video_name'])\n",
    "y_glob_minmax = X_glob_minmaxy.iloc[:,-1]\n",
    "X_glob_minmaxy"
   ]
  },
  {
   "cell_type": "code",
   "execution_count": 40,
   "metadata": {},
   "outputs": [],
   "source": [
    "from sklearn.linear_model import LogisticRegression\n",
    "from sklearn.neighbors import KNeighborsClassifier\n",
    "from sklearn.ensemble import RandomForestClassifier\n",
    "from sklearn.model_selection import LeaveOneGroupOut\n",
    "from sklearn.decomposition import PCA\n",
    "from sklearn.pipeline import Pipeline\n",
    "\n",
    "pca = PCA()\n",
    "pipe = Pipeline(steps=[('pca', pca), ('logistic', LogisticRegression(multi_class='multinomial', fit_intercept=True, random_state=42))])\n",
    "\n",
    "models_list = [\n",
    "                LogisticRegression(multi_class='multinomial', fit_intercept=True, random_state=42),\n",
    "                Pipeline(steps=[('pca', pca), ('logistic', LogisticRegression(multi_class='multinomial', fit_intercept=True))]),\n",
    "                KNeighborsClassifier(),\n",
    "                Pipeline(steps=[('pca', pca), ('knn', KNeighborsClassifier())]),\n",
    "                RandomForestClassifier(random_state = 42, n_jobs=-1)\n",
    "                ]\n",
    "\n",
    "parameters_list = [\n",
    "                    {'C': [0.01, 0.05, 0.1, 0.5, 1, 2, 3, 4 , 5, 10], 'class_weight' : [None, 'balanced']},\n",
    "                    {'pca__n_components': [1, 2, 3, 4],\n",
    "                        'logistic__C': [0.01, 0.05, 0.1, 0.5, 1, 2, 3, 4 , 5, 10], 'logistic__class_weight' : [None, 'balanced']},\n",
    "                    {'n_neighbors': [4, 5, 6, 7, 8, 9, 10, 11, 12,  15, 20], 'weights' : ['uniform', 'distance'], 'p': [1, 2]},\n",
    "                    {'pca__n_components': [1, 2, 3, 4],\n",
    "                        'knn__n_neighbors': [4, 5, 6, 7, 8, 9, 10, 11, 12,  15, 20], 'knn__weights' : ['uniform', 'distance'],                              'knn__p': [1, 2]},\n",
    "                    {'n_estimators': [50, 100, 150, 200], 'max_depth':[3, 4, 5, 6, 10, 15, 20], 'class_weight':[None,'balanced']}\n",
    "                    ]\n",
    "\n"
   ]
  },
  {
   "cell_type": "code",
   "execution_count": 24,
   "metadata": {},
   "outputs": [
    {
     "output_type": "stream",
     "name": "stdout",
     "text": [
      "Fitting 5 folds for each of 20 candidates, totalling 100 fits\n",
      "Best estimator LogisticRegression(C=5, multi_class='multinomial', random_state=42)\n",
      "Best results 0.2866666666666667\n",
      "Best params {'C': 5, 'class_weight': None}\n",
      "accuracy (mean, std) 0.2733333333333333 0.22350739485653612\n",
      "f1 (mean, std) 0.2866666666666667 0.22469732728470287\n",
      "balanced accuracy (mean, std) 0.2666666666666667 0.25190631219454745\n",
      "precision (mean, std) 0.37555555555555553 0.2839883496132357\n",
      "recall (mean, std) 0.2733333333333333 0.22350739485653612\n",
      "\n",
      "Fitting 5 folds for each of 80 candidates, totalling 400 fits\n",
      "Best estimator Pipeline(steps=[('pca', PCA(n_components=3)),\n",
      "                ('logistic',\n",
      "                 LogisticRegression(C=1, class_weight='balanced',\n",
      "                                    multi_class='multinomial'))])\n",
      "Best results 0.2977777777777778\n",
      "Best params {'logistic__C': 1, 'logistic__class_weight': 'balanced', 'pca__n_components': 3}\n",
      "accuracy (mean, std) 0.3 0.22110831935702666\n",
      "f1 (mean, std) 0.2977777777777778 0.22644869693967995\n",
      "balanced accuracy (mean, std) 0.3111111111111111 0.2398559238324767\n",
      "precision (mean, std) 0.3277777777777778 0.24113927126900783\n",
      "recall (mean, std) 0.3 0.22110831935702666\n",
      "\n",
      "Fitting 5 folds for each of 44 candidates, totalling 220 fits\n",
      "Best estimator KNeighborsClassifier(n_neighbors=12, weights='distance')\n",
      "Best results 0.4337777777777777\n",
      "Best params {'n_neighbors': 12, 'p': 2, 'weights': 'distance'}\n",
      "accuracy (mean, std) 0.49333333333333335 0.2264705033528404\n",
      "f1 (mean, std) 0.4337777777777777 0.23336677009102225\n",
      "balanced accuracy (mean, std) 0.5 0.2533723166886973\n",
      "precision (mean, std) 0.4188888888888889 0.2703815319867579\n",
      "recall (mean, std) 0.49333333333333335 0.2264705033528404\n",
      "\n",
      "Fitting 5 folds for each of 176 candidates, totalling 880 fits\n",
      "Best estimator Pipeline(steps=[('pca', PCA(n_components=3)),\n",
      "                ('knn',\n",
      "                 KNeighborsClassifier(n_neighbors=12, weights='distance'))])\n",
      "Best results 0.4693333333333333\n",
      "Best params {'knn__n_neighbors': 12, 'knn__p': 2, 'knn__weights': 'distance', 'pca__n_components': 3}\n",
      "accuracy (mean, std) 0.5266666666666666 0.23701851779508237\n",
      "f1 (mean, std) 0.4693333333333333 0.2422707392796561\n",
      "balanced accuracy (mean, std) 0.5222222222222221 0.2523959264800122\n",
      "precision (mean, std) 0.4466666666666666 0.27580633749511474\n",
      "recall (mean, std) 0.5266666666666666 0.23701851779508237\n",
      "\n",
      "Fitting 5 folds for each of 56 candidates, totalling 280 fits\n",
      "Best estimator RandomForestClassifier(max_depth=5, n_jobs=-1, random_state=42)\n",
      "Best results 0.29253968253968254\n",
      "Best params {'class_weight': None, 'max_depth': 5, 'n_estimators': 100}\n",
      "accuracy (mean, std) 0.3466666666666667 0.1514375558880073\n",
      "f1 (mean, std) 0.29253968253968254 0.16052289211015489\n",
      "balanced accuracy (mean, std) 0.38888888888888895 0.19563129846287786\n",
      "precision (mean, std) 0.3266666666666667 0.24227318526055724\n",
      "recall (mean, std) 0.3466666666666667 0.1514375558880073\n",
      "\n",
      "f1_score (weighted) 0.5017683465959327\n",
      "accuracy 0.5172413793103449\n"
     ]
    }
   ],
   "source": [
    "best_result_tw5_glob_minmax, y_predict_tw5_glob_minmax, y_proba, result_list_tw5_glob_minmax = runGridSearchClassifiers(X_glob_minmax, y_glob_minmax, 5, models_list, parameters_list,output_predict=True, n_jobs=-1, verbose=True)"
   ]
  },
  {
   "cell_type": "code",
   "execution_count": 25,
   "metadata": {},
   "outputs": [
    {
     "output_type": "execute_result",
     "data": {
      "text/plain": [
       "{'best_estimator': Pipeline(steps=[('pca', PCA(n_components=3)),\n",
       "                 ('knn',\n",
       "                  KNeighborsClassifier(n_neighbors=12, weights='distance'))]),\n",
       " 'best_score': 0.4693333333333333,\n",
       " 'best_params': {'knn__n_neighbors': 12,\n",
       "  'knn__p': 2,\n",
       "  'knn__weights': 'distance',\n",
       "  'pca__n_components': 3},\n",
       " 'mean_test_f1_score': 0.4693333333333333,\n",
       " 'std_test_f1_score': 0.2422707392796561,\n",
       " 'mean_test_accuracy_score': 0.5266666666666666,\n",
       " 'std_test_accuracy_score': 0.23701851779508237,\n",
       " 'mean_test_balanced_accuracy_score': 0.5222222222222221,\n",
       " 'std_test_balanced_accuracy_score': 0.2523959264800122,\n",
       " 'mean_test_precision': 0.4466666666666666,\n",
       " 'std_test_precision': 0.27580633749511474,\n",
       " 'mean_test_recall': 0.5266666666666666,\n",
       " 'std_test_recall': 0.23701851779508237}"
      ]
     },
     "metadata": {},
     "execution_count": 25
    }
   ],
   "source": [
    "best_result_tw5_glob_minmax"
   ]
  },
  {
   "cell_type": "code",
   "execution_count": 43,
   "metadata": {},
   "outputs": [
    {
     "output_type": "execute_result",
     "data": {
      "text/plain": [
       "array([0., 0., 2., 2., 0., 1., 0., 0., 0., 0., 0., 0., 0., 0., 2., 1., 0.,\n",
       "       0., 0., 2., 0., 0., 0., 0., 0., 0., 0., 1., 0.])"
      ]
     },
     "metadata": {},
     "execution_count": 43
    }
   ],
   "source": [
    "y_predict_tw5_glob_minmax"
   ]
  },
  {
   "cell_type": "code",
   "execution_count": null,
   "metadata": {},
   "outputs": [],
   "source": []
  },
  {
   "cell_type": "code",
   "execution_count": null,
   "metadata": {},
   "outputs": [],
   "source": []
  }
 ],
 "metadata": {
  "kernelspec": {
   "name": "python3",
   "display_name": "Python 3.7.6 64-bit ('base': conda)"
  },
  "language_info": {
   "codemirror_mode": {
    "name": "ipython",
    "version": 3
   },
   "file_extension": ".py",
   "mimetype": "text/x-python",
   "name": "python",
   "nbconvert_exporter": "python",
   "pygments_lexer": "ipython3",
   "version": "3.7.6"
  },
  "interpreter": {
   "hash": "dd1cf4766d5d9df855e04619ca954236457012a0dce4d3d89890d807f4ecf8a5"
  }
 },
 "nbformat": 4,
 "nbformat_minor": 4
}