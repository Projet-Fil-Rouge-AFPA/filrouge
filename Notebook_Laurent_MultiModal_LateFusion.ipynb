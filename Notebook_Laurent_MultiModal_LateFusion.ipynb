{
 "metadata": {
  "language_info": {
   "codemirror_mode": {
    "name": "ipython",
    "version": 3
   },
   "file_extension": ".py",
   "mimetype": "text/x-python",
   "name": "python",
   "nbconvert_exporter": "python",
   "pygments_lexer": "ipython3",
   "version": "3.8.5"
  },
  "orig_nbformat": 4,
  "kernelspec": {
   "name": "python3",
   "display_name": "Python 3.8.5 64-bit ('base': conda)"
  },
  "interpreter": {
   "hash": "148f6ed9de8dadedbbd96ef8a7e818f87aaafab3c59f5306aa9910b4f09c5b3f"
  }
 },
 "nbformat": 4,
 "nbformat_minor": 2,
 "cells": [
  {
   "cell_type": "code",
   "execution_count": 1,
   "metadata": {},
   "outputs": [],
   "source": [
    "import numpy as np \n",
    "import pandas as pd \n",
    "import matplotlib.pyplot as plt \n",
    "import pathlib\n",
    "from util import runGridSearchClassifiers"
   ]
  },
  {
   "source": [
    "## Data loading"
   ],
   "cell_type": "markdown",
   "metadata": {}
  },
  {
   "cell_type": "code",
   "execution_count": 11,
   "metadata": {},
   "outputs": [
    {
     "output_type": "execute_result",
     "data": {
      "text/plain": [
       "                    video_name  diapo  video_diapo_stress_prediction\n",
       "0               Test_pour_AFPA      1                              0\n",
       "1               Test_pour_AFPA      8                              1\n",
       "2               Test_pour_AFPA      9                              1\n",
       "3               Test_pour_AFPA     10                              0\n",
       "4               Test_pour_AFPA     11                              1\n",
       "..                         ...    ...                            ...\n",
       "227  WIN_20210417_14_53_12_Pro     10                              0\n",
       "228  WIN_20210417_14_53_12_Pro     11                              0\n",
       "229  WIN_20210417_14_53_12_Pro     12                              0\n",
       "230  WIN_20210417_14_53_12_Pro     17                              0\n",
       "231  WIN_20210417_14_53_12_Pro     18                              1\n",
       "\n",
       "[232 rows x 3 columns]"
      ],
      "text/html": "<div>\n<style scoped>\n    .dataframe tbody tr th:only-of-type {\n        vertical-align: middle;\n    }\n\n    .dataframe tbody tr th {\n        vertical-align: top;\n    }\n\n    .dataframe thead th {\n        text-align: right;\n    }\n</style>\n<table border=\"1\" class=\"dataframe\">\n  <thead>\n    <tr style=\"text-align: right;\">\n      <th></th>\n      <th>video_name</th>\n      <th>diapo</th>\n      <th>video_diapo_stress_prediction</th>\n    </tr>\n  </thead>\n  <tbody>\n    <tr>\n      <th>0</th>\n      <td>Test_pour_AFPA</td>\n      <td>1</td>\n      <td>0</td>\n    </tr>\n    <tr>\n      <th>1</th>\n      <td>Test_pour_AFPA</td>\n      <td>8</td>\n      <td>1</td>\n    </tr>\n    <tr>\n      <th>2</th>\n      <td>Test_pour_AFPA</td>\n      <td>9</td>\n      <td>1</td>\n    </tr>\n    <tr>\n      <th>3</th>\n      <td>Test_pour_AFPA</td>\n      <td>10</td>\n      <td>0</td>\n    </tr>\n    <tr>\n      <th>4</th>\n      <td>Test_pour_AFPA</td>\n      <td>11</td>\n      <td>1</td>\n    </tr>\n    <tr>\n      <th>...</th>\n      <td>...</td>\n      <td>...</td>\n      <td>...</td>\n    </tr>\n    <tr>\n      <th>227</th>\n      <td>WIN_20210417_14_53_12_Pro</td>\n      <td>10</td>\n      <td>0</td>\n    </tr>\n    <tr>\n      <th>228</th>\n      <td>WIN_20210417_14_53_12_Pro</td>\n      <td>11</td>\n      <td>0</td>\n    </tr>\n    <tr>\n      <th>229</th>\n      <td>WIN_20210417_14_53_12_Pro</td>\n      <td>12</td>\n      <td>0</td>\n    </tr>\n    <tr>\n      <th>230</th>\n      <td>WIN_20210417_14_53_12_Pro</td>\n      <td>17</td>\n      <td>0</td>\n    </tr>\n    <tr>\n      <th>231</th>\n      <td>WIN_20210417_14_53_12_Pro</td>\n      <td>18</td>\n      <td>1</td>\n    </tr>\n  </tbody>\n</table>\n<p>232 rows × 3 columns</p>\n</div>"
     },
     "metadata": {},
     "execution_count": 11
    }
   ],
   "source": [
    "## Vidéo\n",
    "df_video_best_diapo_prediction = pd.read_csv('video_best_diapo_prediction.csv')\n",
    "df_video_best_diapo_prediction = df_video_best_diapo_prediction.iloc[:,1:]\n",
    "df_video_best_diapo_prediction['ypredict'] = df_video_best_diapo_prediction['ypredict'].astype(int)\n",
    "df_video_best_diapo_prediction.columns = ['video_name', 'diapo','video_diapo_stress_prediction']\n",
    "df_video_best_diapo_prediction"
   ]
  },
  {
   "cell_type": "code",
   "execution_count": 10,
   "metadata": {},
   "outputs": [
    {
     "output_type": "execute_result",
     "data": {
      "text/plain": [
       "                         video_name  video_global_stress_prediction\n",
       "0                    Test_pour_AFPA                               1\n",
       "1                           Video_1                               1\n",
       "2         WIN_20210323_19_17_40_Pro                               1\n",
       "3         WIN_20210329_10_16_02_Pro                               0\n",
       "4         WIN_20210330_13_10_29_Pro                               0\n",
       "5         WIN_20210331_21_22_52_Pro                               1\n",
       "6         WIN_20210402_19_04_53_Pro                               2\n",
       "7         WIN_20210403_18_49_15_Pro                               1\n",
       "8         WIN_20210404_10_58_27_Pro                               1\n",
       "9         WIN_20210404_21_41_12_Pro                               1\n",
       "10        WIN_20210405_15_09_16_Pro                               1\n",
       "11        WIN_20210406_15_06_15_Pro                               2\n",
       "12        WIN_20210406_18_35_52_Pro                               1\n",
       "13        WIN_20210406_18_49_10_Pro                               1\n",
       "14        WIN_20210406_21_05_52_Pro                               0\n",
       "15        WIN_20210407_09_04_05_Pro                               2\n",
       "16  WIN_20210407_14_54_56_Pro_edit2                               0\n",
       "17        WIN_20210408_11_48_58_Pro                               0\n",
       "18        WIN_20210408_14_00_44_Pro                               0\n",
       "19        WIN_20210408_14_02_19_Pro                               0\n",
       "20        WIN_20210408_14_11_32_Pro                               0\n",
       "21        WIN_20210408_15_20_51_Pro                               0\n",
       "22        WIN_20210408_16_04_32_Pro                               0\n",
       "23        WIN_20210409_10_26_11_Pro                               0\n",
       "24        WIN_20210413_15_38_01_Pro                               0\n",
       "25        WIN_20210414_06_24_52_Pro                               0\n",
       "26        WIN_20210415_15_41_24_Pro                               2\n",
       "27        WIN_20210416_08_06_54_Pro                               1\n",
       "28        WIN_20210417_14_53_12_Pro                               0"
      ],
      "text/html": "<div>\n<style scoped>\n    .dataframe tbody tr th:only-of-type {\n        vertical-align: middle;\n    }\n\n    .dataframe tbody tr th {\n        vertical-align: top;\n    }\n\n    .dataframe thead th {\n        text-align: right;\n    }\n</style>\n<table border=\"1\" class=\"dataframe\">\n  <thead>\n    <tr style=\"text-align: right;\">\n      <th></th>\n      <th>video_name</th>\n      <th>video_global_stress_prediction</th>\n    </tr>\n  </thead>\n  <tbody>\n    <tr>\n      <th>0</th>\n      <td>Test_pour_AFPA</td>\n      <td>1</td>\n    </tr>\n    <tr>\n      <th>1</th>\n      <td>Video_1</td>\n      <td>1</td>\n    </tr>\n    <tr>\n      <th>2</th>\n      <td>WIN_20210323_19_17_40_Pro</td>\n      <td>1</td>\n    </tr>\n    <tr>\n      <th>3</th>\n      <td>WIN_20210329_10_16_02_Pro</td>\n      <td>0</td>\n    </tr>\n    <tr>\n      <th>4</th>\n      <td>WIN_20210330_13_10_29_Pro</td>\n      <td>0</td>\n    </tr>\n    <tr>\n      <th>5</th>\n      <td>WIN_20210331_21_22_52_Pro</td>\n      <td>1</td>\n    </tr>\n    <tr>\n      <th>6</th>\n      <td>WIN_20210402_19_04_53_Pro</td>\n      <td>2</td>\n    </tr>\n    <tr>\n      <th>7</th>\n      <td>WIN_20210403_18_49_15_Pro</td>\n      <td>1</td>\n    </tr>\n    <tr>\n      <th>8</th>\n      <td>WIN_20210404_10_58_27_Pro</td>\n      <td>1</td>\n    </tr>\n    <tr>\n      <th>9</th>\n      <td>WIN_20210404_21_41_12_Pro</td>\n      <td>1</td>\n    </tr>\n    <tr>\n      <th>10</th>\n      <td>WIN_20210405_15_09_16_Pro</td>\n      <td>1</td>\n    </tr>\n    <tr>\n      <th>11</th>\n      <td>WIN_20210406_15_06_15_Pro</td>\n      <td>2</td>\n    </tr>\n    <tr>\n      <th>12</th>\n      <td>WIN_20210406_18_35_52_Pro</td>\n      <td>1</td>\n    </tr>\n    <tr>\n      <th>13</th>\n      <td>WIN_20210406_18_49_10_Pro</td>\n      <td>1</td>\n    </tr>\n    <tr>\n      <th>14</th>\n      <td>WIN_20210406_21_05_52_Pro</td>\n      <td>0</td>\n    </tr>\n    <tr>\n      <th>15</th>\n      <td>WIN_20210407_09_04_05_Pro</td>\n      <td>2</td>\n    </tr>\n    <tr>\n      <th>16</th>\n      <td>WIN_20210407_14_54_56_Pro_edit2</td>\n      <td>0</td>\n    </tr>\n    <tr>\n      <th>17</th>\n      <td>WIN_20210408_11_48_58_Pro</td>\n      <td>0</td>\n    </tr>\n    <tr>\n      <th>18</th>\n      <td>WIN_20210408_14_00_44_Pro</td>\n      <td>0</td>\n    </tr>\n    <tr>\n      <th>19</th>\n      <td>WIN_20210408_14_02_19_Pro</td>\n      <td>0</td>\n    </tr>\n    <tr>\n      <th>20</th>\n      <td>WIN_20210408_14_11_32_Pro</td>\n      <td>0</td>\n    </tr>\n    <tr>\n      <th>21</th>\n      <td>WIN_20210408_15_20_51_Pro</td>\n      <td>0</td>\n    </tr>\n    <tr>\n      <th>22</th>\n      <td>WIN_20210408_16_04_32_Pro</td>\n      <td>0</td>\n    </tr>\n    <tr>\n      <th>23</th>\n      <td>WIN_20210409_10_26_11_Pro</td>\n      <td>0</td>\n    </tr>\n    <tr>\n      <th>24</th>\n      <td>WIN_20210413_15_38_01_Pro</td>\n      <td>0</td>\n    </tr>\n    <tr>\n      <th>25</th>\n      <td>WIN_20210414_06_24_52_Pro</td>\n      <td>0</td>\n    </tr>\n    <tr>\n      <th>26</th>\n      <td>WIN_20210415_15_41_24_Pro</td>\n      <td>2</td>\n    </tr>\n    <tr>\n      <th>27</th>\n      <td>WIN_20210416_08_06_54_Pro</td>\n      <td>1</td>\n    </tr>\n    <tr>\n      <th>28</th>\n      <td>WIN_20210417_14_53_12_Pro</td>\n      <td>0</td>\n    </tr>\n  </tbody>\n</table>\n</div>"
     },
     "metadata": {},
     "execution_count": 10
    }
   ],
   "source": [
    "df_video_best_global_prediction = pd.read_csv('video_best_global_prediction.csv')\n",
    "df_video_best_global_prediction = df_video_best_global_prediction.iloc[:,1:]\n",
    "df_video_best_global_prediction['y_predict_tw5_diapo_minmax_global'] = df_video_best_global_prediction['y_predict_tw5_diapo_minmax_global'].astype(int)\n",
    "df_video_best_global_prediction.columns = ['video_name', 'video_global_stress_prediction']\n",
    "df_video_best_global_prediction"
   ]
  },
  {
   "cell_type": "code",
   "execution_count": 12,
   "metadata": {},
   "outputs": [
    {
     "output_type": "execute_result",
     "data": {
      "text/plain": [
       "                    video_name  diapo  audio_diapo_stress_prediction\n",
       "0               Test_pour_AFPA      1                              0\n",
       "1               Test_pour_AFPA      8                              0\n",
       "2               Test_pour_AFPA      9                              0\n",
       "3               Test_pour_AFPA     10                              0\n",
       "4               Test_pour_AFPA     11                              0\n",
       "..                         ...    ...                            ...\n",
       "235  WIN_20210417_14_53_12_Pro     10                              0\n",
       "236  WIN_20210417_14_53_12_Pro     11                              0\n",
       "237  WIN_20210417_14_53_12_Pro     12                              0\n",
       "238  WIN_20210417_14_53_12_Pro     17                              0\n",
       "239  WIN_20210417_14_53_12_Pro     18                              1\n",
       "\n",
       "[240 rows x 3 columns]"
      ],
      "text/html": "<div>\n<style scoped>\n    .dataframe tbody tr th:only-of-type {\n        vertical-align: middle;\n    }\n\n    .dataframe tbody tr th {\n        vertical-align: top;\n    }\n\n    .dataframe thead th {\n        text-align: right;\n    }\n</style>\n<table border=\"1\" class=\"dataframe\">\n  <thead>\n    <tr style=\"text-align: right;\">\n      <th></th>\n      <th>video_name</th>\n      <th>diapo</th>\n      <th>audio_diapo_stress_prediction</th>\n    </tr>\n  </thead>\n  <tbody>\n    <tr>\n      <th>0</th>\n      <td>Test_pour_AFPA</td>\n      <td>1</td>\n      <td>0</td>\n    </tr>\n    <tr>\n      <th>1</th>\n      <td>Test_pour_AFPA</td>\n      <td>8</td>\n      <td>0</td>\n    </tr>\n    <tr>\n      <th>2</th>\n      <td>Test_pour_AFPA</td>\n      <td>9</td>\n      <td>0</td>\n    </tr>\n    <tr>\n      <th>3</th>\n      <td>Test_pour_AFPA</td>\n      <td>10</td>\n      <td>0</td>\n    </tr>\n    <tr>\n      <th>4</th>\n      <td>Test_pour_AFPA</td>\n      <td>11</td>\n      <td>0</td>\n    </tr>\n    <tr>\n      <th>...</th>\n      <td>...</td>\n      <td>...</td>\n      <td>...</td>\n    </tr>\n    <tr>\n      <th>235</th>\n      <td>WIN_20210417_14_53_12_Pro</td>\n      <td>10</td>\n      <td>0</td>\n    </tr>\n    <tr>\n      <th>236</th>\n      <td>WIN_20210417_14_53_12_Pro</td>\n      <td>11</td>\n      <td>0</td>\n    </tr>\n    <tr>\n      <th>237</th>\n      <td>WIN_20210417_14_53_12_Pro</td>\n      <td>12</td>\n      <td>0</td>\n    </tr>\n    <tr>\n      <th>238</th>\n      <td>WIN_20210417_14_53_12_Pro</td>\n      <td>17</td>\n      <td>0</td>\n    </tr>\n    <tr>\n      <th>239</th>\n      <td>WIN_20210417_14_53_12_Pro</td>\n      <td>18</td>\n      <td>1</td>\n    </tr>\n  </tbody>\n</table>\n<p>240 rows × 3 columns</p>\n</div>"
     },
     "metadata": {},
     "execution_count": 12
    }
   ],
   "source": [
    "## Audio\n",
    "df_audio_best_diapo_prediction = pd.read_csv('audio_best_diapo_predictions_all.csv')\n",
    "df_audio_best_diapo_prediction = df_audio_best_diapo_prediction.iloc[:,1:]\n",
    "df_audio_best_diapo_prediction['ypredict'] = df_audio_best_diapo_prediction['ypredict'].astype(int)\n",
    "df_audio_best_diapo_prediction.columns = ['video_name', 'diapo','audio_diapo_stress_prediction']\n",
    "df_audio_best_diapo_prediction\n"
   ]
  },
  {
   "cell_type": "code",
   "execution_count": 13,
   "metadata": {},
   "outputs": [
    {
     "output_type": "execute_result",
     "data": {
      "text/plain": [
       "                         video_name  audio_global_stress_prediction\n",
       "0                    Test_pour_AFPA                               2\n",
       "1                           Video_1                               0\n",
       "2         WIN_20210323_19_17_40_Pro                               2\n",
       "3         WIN_20210329_10_16_02_Pro                               0\n",
       "4         WIN_20210330_13_10_29_Pro                               0\n",
       "5         WIN_20210331_21_22_52_Pro                               1\n",
       "6         WIN_20210402_14_27_50_Pro                               1\n",
       "7         WIN_20210402_19_04_53_Pro                               1\n",
       "8         WIN_20210403_18_49_15_Pro                               0\n",
       "9         WIN_20210404_10_58_27_Pro                               1\n",
       "10        WIN_20210404_21_41_12_Pro                               1\n",
       "11        WIN_20210405_15_09_16_Pro                               1\n",
       "12        WIN_20210406_15_06_15_Pro                               2\n",
       "13        WIN_20210406_18_35_52_Pro                               0\n",
       "14        WIN_20210406_18_49_10_Pro                               0\n",
       "15        WIN_20210406_21_05_52_Pro                               2\n",
       "16        WIN_20210407_09_04_05_Pro                               2\n",
       "17  WIN_20210407_14_54_56_Pro_edit2                               1\n",
       "18        WIN_20210408_11_48_58_Pro                               1\n",
       "19        WIN_20210408_14_00_44_Pro                               0\n",
       "20        WIN_20210408_14_02_19_Pro                               0\n",
       "21        WIN_20210408_14_11_32_Pro                               1\n",
       "22        WIN_20210408_15_20_51_Pro                               0\n",
       "23        WIN_20210408_16_04_32_Pro                               1\n",
       "24        WIN_20210409_10_26_11_Pro                               1\n",
       "25        WIN_20210413_15_38_01_Pro                               0\n",
       "26        WIN_20210414_06_24_52_Pro                               2\n",
       "27        WIN_20210415_15_41_24_Pro                               0\n",
       "28        WIN_20210416_08_06_54_Pro                               2\n",
       "29        WIN_20210417_14_53_12_Pro                               0"
      ],
      "text/html": "<div>\n<style scoped>\n    .dataframe tbody tr th:only-of-type {\n        vertical-align: middle;\n    }\n\n    .dataframe tbody tr th {\n        vertical-align: top;\n    }\n\n    .dataframe thead th {\n        text-align: right;\n    }\n</style>\n<table border=\"1\" class=\"dataframe\">\n  <thead>\n    <tr style=\"text-align: right;\">\n      <th></th>\n      <th>video_name</th>\n      <th>audio_global_stress_prediction</th>\n    </tr>\n  </thead>\n  <tbody>\n    <tr>\n      <th>0</th>\n      <td>Test_pour_AFPA</td>\n      <td>2</td>\n    </tr>\n    <tr>\n      <th>1</th>\n      <td>Video_1</td>\n      <td>0</td>\n    </tr>\n    <tr>\n      <th>2</th>\n      <td>WIN_20210323_19_17_40_Pro</td>\n      <td>2</td>\n    </tr>\n    <tr>\n      <th>3</th>\n      <td>WIN_20210329_10_16_02_Pro</td>\n      <td>0</td>\n    </tr>\n    <tr>\n      <th>4</th>\n      <td>WIN_20210330_13_10_29_Pro</td>\n      <td>0</td>\n    </tr>\n    <tr>\n      <th>5</th>\n      <td>WIN_20210331_21_22_52_Pro</td>\n      <td>1</td>\n    </tr>\n    <tr>\n      <th>6</th>\n      <td>WIN_20210402_14_27_50_Pro</td>\n      <td>1</td>\n    </tr>\n    <tr>\n      <th>7</th>\n      <td>WIN_20210402_19_04_53_Pro</td>\n      <td>1</td>\n    </tr>\n    <tr>\n      <th>8</th>\n      <td>WIN_20210403_18_49_15_Pro</td>\n      <td>0</td>\n    </tr>\n    <tr>\n      <th>9</th>\n      <td>WIN_20210404_10_58_27_Pro</td>\n      <td>1</td>\n    </tr>\n    <tr>\n      <th>10</th>\n      <td>WIN_20210404_21_41_12_Pro</td>\n      <td>1</td>\n    </tr>\n    <tr>\n      <th>11</th>\n      <td>WIN_20210405_15_09_16_Pro</td>\n      <td>1</td>\n    </tr>\n    <tr>\n      <th>12</th>\n      <td>WIN_20210406_15_06_15_Pro</td>\n      <td>2</td>\n    </tr>\n    <tr>\n      <th>13</th>\n      <td>WIN_20210406_18_35_52_Pro</td>\n      <td>0</td>\n    </tr>\n    <tr>\n      <th>14</th>\n      <td>WIN_20210406_18_49_10_Pro</td>\n      <td>0</td>\n    </tr>\n    <tr>\n      <th>15</th>\n      <td>WIN_20210406_21_05_52_Pro</td>\n      <td>2</td>\n    </tr>\n    <tr>\n      <th>16</th>\n      <td>WIN_20210407_09_04_05_Pro</td>\n      <td>2</td>\n    </tr>\n    <tr>\n      <th>17</th>\n      <td>WIN_20210407_14_54_56_Pro_edit2</td>\n      <td>1</td>\n    </tr>\n    <tr>\n      <th>18</th>\n      <td>WIN_20210408_11_48_58_Pro</td>\n      <td>1</td>\n    </tr>\n    <tr>\n      <th>19</th>\n      <td>WIN_20210408_14_00_44_Pro</td>\n      <td>0</td>\n    </tr>\n    <tr>\n      <th>20</th>\n      <td>WIN_20210408_14_02_19_Pro</td>\n      <td>0</td>\n    </tr>\n    <tr>\n      <th>21</th>\n      <td>WIN_20210408_14_11_32_Pro</td>\n      <td>1</td>\n    </tr>\n    <tr>\n      <th>22</th>\n      <td>WIN_20210408_15_20_51_Pro</td>\n      <td>0</td>\n    </tr>\n    <tr>\n      <th>23</th>\n      <td>WIN_20210408_16_04_32_Pro</td>\n      <td>1</td>\n    </tr>\n    <tr>\n      <th>24</th>\n      <td>WIN_20210409_10_26_11_Pro</td>\n      <td>1</td>\n    </tr>\n    <tr>\n      <th>25</th>\n      <td>WIN_20210413_15_38_01_Pro</td>\n      <td>0</td>\n    </tr>\n    <tr>\n      <th>26</th>\n      <td>WIN_20210414_06_24_52_Pro</td>\n      <td>2</td>\n    </tr>\n    <tr>\n      <th>27</th>\n      <td>WIN_20210415_15_41_24_Pro</td>\n      <td>0</td>\n    </tr>\n    <tr>\n      <th>28</th>\n      <td>WIN_20210416_08_06_54_Pro</td>\n      <td>2</td>\n    </tr>\n    <tr>\n      <th>29</th>\n      <td>WIN_20210417_14_53_12_Pro</td>\n      <td>0</td>\n    </tr>\n  </tbody>\n</table>\n</div>"
     },
     "metadata": {},
     "execution_count": 13
    }
   ],
   "source": [
    "df_audio_best_global_prediction = pd.read_csv('audio_best_global_predictions.csv')\n",
    "df_audio_best_global_prediction = df_audio_best_global_prediction.iloc[:,1:]\n",
    "df_audio_best_global_prediction['ypredict'] = df_audio_best_global_prediction['ypredict'].astype(int)\n",
    "df_audio_best_global_prediction.columns = ['video_name', 'audio_global_stress_prediction']\n",
    "df_audio_best_global_prediction"
   ]
  },
  {
   "cell_type": "code",
   "execution_count": 14,
   "metadata": {},
   "outputs": [],
   "source": [
    "## Text"
   ]
  },
  {
   "cell_type": "code",
   "execution_count": null,
   "metadata": {},
   "outputs": [],
   "source": []
  },
  {
   "cell_type": "code",
   "execution_count": 22,
   "metadata": {},
   "outputs": [
    {
     "output_type": "execute_result",
     "data": {
      "text/plain": [
       "                                 stress_global\n",
       "video_name                                    \n",
       "Test_pour_AFPA                               1\n",
       "Video_1                                      0\n",
       "WIN_20210323_19_17_40_Pro                    1\n",
       "WIN_20210329_10_16_02_Pro                    1\n",
       "WIN_20210330_13_10_29_Pro                    0\n",
       "WIN_20210331_21_22_52_Pro                    1\n",
       "WIN_20210402_14_27_50_Pro                    1\n",
       "WIN_20210402_19_04_53_Pro                    2\n",
       "WIN_20210403_18_49_15_Pro                    2\n",
       "WIN_20210404_10_58_27_Pro                    1\n",
       "WIN_20210404_21_41_12_Pro                    0\n",
       "WIN_20210405_15_09_16_Pro                    1\n",
       "WIN_20210406_15_06_15_Pro                    2\n",
       "WIN_20210406_18_35_52_Pro                    0\n",
       "WIN_20210406_18_49_10_Pro                    1\n",
       "WIN_20210406_21_05_52_Pro                    2\n",
       "WIN_20210407_09_04_05_Pro                    2\n",
       "WIN_20210407_14_54_56_Pro_edit2              0\n",
       "WIN_20210408_11_48_58_Pro                    2\n",
       "WIN_20210408_14_00_44_Pro                    0\n",
       "WIN_20210408_14_02_19_Pro                    0\n",
       "WIN_20210408_14_11_32_Pro                    2\n",
       "WIN_20210408_15_20_51_Pro                    0\n",
       "WIN_20210408_16_04_32_Pro                    0\n",
       "WIN_20210409_10_26_11_Pro                    0\n",
       "WIN_20210413_15_38_01_Pro                    1\n",
       "WIN_20210414_06_24_52_Pro                    2\n",
       "WIN_20210415_15_41_24_Pro                    0\n",
       "WIN_20210416_08_06_54_Pro                    1\n",
       "WIN_20210417_14_53_12_Pro                    0"
      ],
      "text/html": "<div>\n<style scoped>\n    .dataframe tbody tr th:only-of-type {\n        vertical-align: middle;\n    }\n\n    .dataframe tbody tr th {\n        vertical-align: top;\n    }\n\n    .dataframe thead th {\n        text-align: right;\n    }\n</style>\n<table border=\"1\" class=\"dataframe\">\n  <thead>\n    <tr style=\"text-align: right;\">\n      <th></th>\n      <th>stress_global</th>\n    </tr>\n    <tr>\n      <th>video_name</th>\n      <th></th>\n    </tr>\n  </thead>\n  <tbody>\n    <tr>\n      <th>Test_pour_AFPA</th>\n      <td>1</td>\n    </tr>\n    <tr>\n      <th>Video_1</th>\n      <td>0</td>\n    </tr>\n    <tr>\n      <th>WIN_20210323_19_17_40_Pro</th>\n      <td>1</td>\n    </tr>\n    <tr>\n      <th>WIN_20210329_10_16_02_Pro</th>\n      <td>1</td>\n    </tr>\n    <tr>\n      <th>WIN_20210330_13_10_29_Pro</th>\n      <td>0</td>\n    </tr>\n    <tr>\n      <th>WIN_20210331_21_22_52_Pro</th>\n      <td>1</td>\n    </tr>\n    <tr>\n      <th>WIN_20210402_14_27_50_Pro</th>\n      <td>1</td>\n    </tr>\n    <tr>\n      <th>WIN_20210402_19_04_53_Pro</th>\n      <td>2</td>\n    </tr>\n    <tr>\n      <th>WIN_20210403_18_49_15_Pro</th>\n      <td>2</td>\n    </tr>\n    <tr>\n      <th>WIN_20210404_10_58_27_Pro</th>\n      <td>1</td>\n    </tr>\n    <tr>\n      <th>WIN_20210404_21_41_12_Pro</th>\n      <td>0</td>\n    </tr>\n    <tr>\n      <th>WIN_20210405_15_09_16_Pro</th>\n      <td>1</td>\n    </tr>\n    <tr>\n      <th>WIN_20210406_15_06_15_Pro</th>\n      <td>2</td>\n    </tr>\n    <tr>\n      <th>WIN_20210406_18_35_52_Pro</th>\n      <td>0</td>\n    </tr>\n    <tr>\n      <th>WIN_20210406_18_49_10_Pro</th>\n      <td>1</td>\n    </tr>\n    <tr>\n      <th>WIN_20210406_21_05_52_Pro</th>\n      <td>2</td>\n    </tr>\n    <tr>\n      <th>WIN_20210407_09_04_05_Pro</th>\n      <td>2</td>\n    </tr>\n    <tr>\n      <th>WIN_20210407_14_54_56_Pro_edit2</th>\n      <td>0</td>\n    </tr>\n    <tr>\n      <th>WIN_20210408_11_48_58_Pro</th>\n      <td>2</td>\n    </tr>\n    <tr>\n      <th>WIN_20210408_14_00_44_Pro</th>\n      <td>0</td>\n    </tr>\n    <tr>\n      <th>WIN_20210408_14_02_19_Pro</th>\n      <td>0</td>\n    </tr>\n    <tr>\n      <th>WIN_20210408_14_11_32_Pro</th>\n      <td>2</td>\n    </tr>\n    <tr>\n      <th>WIN_20210408_15_20_51_Pro</th>\n      <td>0</td>\n    </tr>\n    <tr>\n      <th>WIN_20210408_16_04_32_Pro</th>\n      <td>0</td>\n    </tr>\n    <tr>\n      <th>WIN_20210409_10_26_11_Pro</th>\n      <td>0</td>\n    </tr>\n    <tr>\n      <th>WIN_20210413_15_38_01_Pro</th>\n      <td>1</td>\n    </tr>\n    <tr>\n      <th>WIN_20210414_06_24_52_Pro</th>\n      <td>2</td>\n    </tr>\n    <tr>\n      <th>WIN_20210415_15_41_24_Pro</th>\n      <td>0</td>\n    </tr>\n    <tr>\n      <th>WIN_20210416_08_06_54_Pro</th>\n      <td>1</td>\n    </tr>\n    <tr>\n      <th>WIN_20210417_14_53_12_Pro</th>\n      <td>0</td>\n    </tr>\n  </tbody>\n</table>\n</div>"
     },
     "metadata": {},
     "execution_count": 22
    }
   ],
   "source": [
    "## Anotations\n",
    "df_annotations_stress = pd.read_csv('annotations.csv')\n",
    "df_annotations_stress_global = df_annotations_stress[['video_name','stress_global']].set_index('video_name')\n",
    "df_annotations_stress_global.stress_global = df_annotations_stress_global.stress_global.astype(int)\n",
    "df_annotations_stress_global "
   ]
  },
  {
   "cell_type": "code",
   "execution_count": 50,
   "metadata": {},
   "outputs": [
    {
     "output_type": "execute_result",
     "data": {
      "text/plain": [
       "                    video_name  diapo  stress\n",
       "0               Test_pour_AFPA      1       1\n",
       "1               Test_pour_AFPA      8       1\n",
       "2               Test_pour_AFPA      9       0\n",
       "3               Test_pour_AFPA     10       0\n",
       "4               Test_pour_AFPA     11       0\n",
       "..                         ...    ...     ...\n",
       "235  WIN_20210417_14_53_12_Pro     10       0\n",
       "236  WIN_20210417_14_53_12_Pro     11       0\n",
       "237  WIN_20210417_14_53_12_Pro     12       0\n",
       "238  WIN_20210417_14_53_12_Pro     17       1\n",
       "239  WIN_20210417_14_53_12_Pro     18       1\n",
       "\n",
       "[240 rows x 3 columns]"
      ],
      "text/html": "<div>\n<style scoped>\n    .dataframe tbody tr th:only-of-type {\n        vertical-align: middle;\n    }\n\n    .dataframe tbody tr th {\n        vertical-align: top;\n    }\n\n    .dataframe thead th {\n        text-align: right;\n    }\n</style>\n<table border=\"1\" class=\"dataframe\">\n  <thead>\n    <tr style=\"text-align: right;\">\n      <th></th>\n      <th>video_name</th>\n      <th>diapo</th>\n      <th>stress</th>\n    </tr>\n  </thead>\n  <tbody>\n    <tr>\n      <th>0</th>\n      <td>Test_pour_AFPA</td>\n      <td>1</td>\n      <td>1</td>\n    </tr>\n    <tr>\n      <th>1</th>\n      <td>Test_pour_AFPA</td>\n      <td>8</td>\n      <td>1</td>\n    </tr>\n    <tr>\n      <th>2</th>\n      <td>Test_pour_AFPA</td>\n      <td>9</td>\n      <td>0</td>\n    </tr>\n    <tr>\n      <th>3</th>\n      <td>Test_pour_AFPA</td>\n      <td>10</td>\n      <td>0</td>\n    </tr>\n    <tr>\n      <th>4</th>\n      <td>Test_pour_AFPA</td>\n      <td>11</td>\n      <td>0</td>\n    </tr>\n    <tr>\n      <th>...</th>\n      <td>...</td>\n      <td>...</td>\n      <td>...</td>\n    </tr>\n    <tr>\n      <th>235</th>\n      <td>WIN_20210417_14_53_12_Pro</td>\n      <td>10</td>\n      <td>0</td>\n    </tr>\n    <tr>\n      <th>236</th>\n      <td>WIN_20210417_14_53_12_Pro</td>\n      <td>11</td>\n      <td>0</td>\n    </tr>\n    <tr>\n      <th>237</th>\n      <td>WIN_20210417_14_53_12_Pro</td>\n      <td>12</td>\n      <td>0</td>\n    </tr>\n    <tr>\n      <th>238</th>\n      <td>WIN_20210417_14_53_12_Pro</td>\n      <td>17</td>\n      <td>1</td>\n    </tr>\n    <tr>\n      <th>239</th>\n      <td>WIN_20210417_14_53_12_Pro</td>\n      <td>18</td>\n      <td>1</td>\n    </tr>\n  </tbody>\n</table>\n<p>240 rows × 3 columns</p>\n</div>"
     },
     "metadata": {},
     "execution_count": 50
    }
   ],
   "source": [
    "df_annotations_stress_diapo = df_annotations_stress.iloc[:,:-1].set_index('video_name').stack()\n",
    "df_annotations_stress_diapo = pd.DataFrame(df_annotations_stress_diapo).reset_index()\n",
    "df_annotations_stress_diapo.columns = ['video_name','diapo','stress']\n",
    "df_annotations_stress_diapo.stress = df_annotations_stress_diapo.stress.astype(int)\n",
    "df_annotations_stress_diapo.diapo = df_annotations_stress_diapo.diapo.astype(int)\n",
    "#df_annotations_stress_diapo = df_annotations_stress_diapo.set_index(['video_name','diapo'])\n",
    "df_annotations_stress_diapo"
   ]
  },
  {
   "source": [
    "## Data preprocessing stress diapo"
   ],
   "cell_type": "markdown",
   "metadata": {}
  },
  {
   "cell_type": "code",
   "execution_count": 51,
   "metadata": {},
   "outputs": [
    {
     "output_type": "execute_result",
     "data": {
      "text/plain": [
       "                    video_name  diapo  video_diapo_stress_prediction  \\\n",
       "0               Test_pour_AFPA      1                              0   \n",
       "1               Test_pour_AFPA      8                              1   \n",
       "2               Test_pour_AFPA      9                              1   \n",
       "3               Test_pour_AFPA     10                              0   \n",
       "4               Test_pour_AFPA     11                              1   \n",
       "..                         ...    ...                            ...   \n",
       "227  WIN_20210417_14_53_12_Pro     10                              0   \n",
       "228  WIN_20210417_14_53_12_Pro     11                              0   \n",
       "229  WIN_20210417_14_53_12_Pro     12                              0   \n",
       "230  WIN_20210417_14_53_12_Pro     17                              0   \n",
       "231  WIN_20210417_14_53_12_Pro     18                              1   \n",
       "\n",
       "     audio_diapo_stress_prediction  \n",
       "0                                0  \n",
       "1                                0  \n",
       "2                                0  \n",
       "3                                0  \n",
       "4                                0  \n",
       "..                             ...  \n",
       "227                              0  \n",
       "228                              0  \n",
       "229                              0  \n",
       "230                              0  \n",
       "231                              1  \n",
       "\n",
       "[232 rows x 4 columns]"
      ],
      "text/html": "<div>\n<style scoped>\n    .dataframe tbody tr th:only-of-type {\n        vertical-align: middle;\n    }\n\n    .dataframe tbody tr th {\n        vertical-align: top;\n    }\n\n    .dataframe thead th {\n        text-align: right;\n    }\n</style>\n<table border=\"1\" class=\"dataframe\">\n  <thead>\n    <tr style=\"text-align: right;\">\n      <th></th>\n      <th>video_name</th>\n      <th>diapo</th>\n      <th>video_diapo_stress_prediction</th>\n      <th>audio_diapo_stress_prediction</th>\n    </tr>\n  </thead>\n  <tbody>\n    <tr>\n      <th>0</th>\n      <td>Test_pour_AFPA</td>\n      <td>1</td>\n      <td>0</td>\n      <td>0</td>\n    </tr>\n    <tr>\n      <th>1</th>\n      <td>Test_pour_AFPA</td>\n      <td>8</td>\n      <td>1</td>\n      <td>0</td>\n    </tr>\n    <tr>\n      <th>2</th>\n      <td>Test_pour_AFPA</td>\n      <td>9</td>\n      <td>1</td>\n      <td>0</td>\n    </tr>\n    <tr>\n      <th>3</th>\n      <td>Test_pour_AFPA</td>\n      <td>10</td>\n      <td>0</td>\n      <td>0</td>\n    </tr>\n    <tr>\n      <th>4</th>\n      <td>Test_pour_AFPA</td>\n      <td>11</td>\n      <td>1</td>\n      <td>0</td>\n    </tr>\n    <tr>\n      <th>...</th>\n      <td>...</td>\n      <td>...</td>\n      <td>...</td>\n      <td>...</td>\n    </tr>\n    <tr>\n      <th>227</th>\n      <td>WIN_20210417_14_53_12_Pro</td>\n      <td>10</td>\n      <td>0</td>\n      <td>0</td>\n    </tr>\n    <tr>\n      <th>228</th>\n      <td>WIN_20210417_14_53_12_Pro</td>\n      <td>11</td>\n      <td>0</td>\n      <td>0</td>\n    </tr>\n    <tr>\n      <th>229</th>\n      <td>WIN_20210417_14_53_12_Pro</td>\n      <td>12</td>\n      <td>0</td>\n      <td>0</td>\n    </tr>\n    <tr>\n      <th>230</th>\n      <td>WIN_20210417_14_53_12_Pro</td>\n      <td>17</td>\n      <td>0</td>\n      <td>0</td>\n    </tr>\n    <tr>\n      <th>231</th>\n      <td>WIN_20210417_14_53_12_Pro</td>\n      <td>18</td>\n      <td>1</td>\n      <td>1</td>\n    </tr>\n  </tbody>\n</table>\n<p>232 rows × 4 columns</p>\n</div>"
     },
     "metadata": {},
     "execution_count": 51
    }
   ],
   "source": [
    "## we remove 2 interviews from the audio predictions\n",
    "df_best_diapo_prediction = df_video_best_diapo_prediction.merge(df_audio_best_diapo_prediction, \n",
    "                                how='inner', on=['video_name','diapo']) \n",
    "#df_best_diapo_prediction = df_best_diapo_prediction.set_index(['video_name','diapo'])\n",
    "df_best_diapo_prediction"
   ]
  },
  {
   "cell_type": "code",
   "execution_count": 56,
   "metadata": {},
   "outputs": [],
   "source": [
    "df_best_diapo_prediction = df_best_diapo_prediction.merge(df_annotations_stress_diapo, on=['video_name','diapo'])\n",
    "X = df_best_diapo_prediction.iloc[:,:-1].set_index(['video_name','diapo'])\n",
    "y = df_best_diapo_prediction.iloc[:,-1]"
   ]
  },
  {
   "source": [
    "## Modèle stress diapo"
   ],
   "cell_type": "markdown",
   "metadata": {}
  },
  {
   "cell_type": "code",
   "execution_count": 65,
   "metadata": {},
   "outputs": [],
   "source": [
    "from sklearn.linear_model import LogisticRegression\n",
    "from sklearn.neighbors import KNeighborsClassifier\n",
    "from sklearn.ensemble import RandomForestClassifier\n",
    "from sklearn.model_selection import LeaveOneGroupOut\n",
    "from sklearn.decomposition import PCA\n",
    "from sklearn.pipeline import Pipeline\n",
    "\n",
    "pca = PCA()\n",
    "\n",
    "models_list = [\n",
    "                LogisticRegression(multi_class='multinomial', fit_intercept=True, random_state=42),\n",
    "                Pipeline(steps=[('pca', pca), ('logistic', LogisticRegression(multi_class='multinomial', fit_intercept=True))]),\n",
    "                KNeighborsClassifier(),\n",
    "                Pipeline(steps=[('pca', pca), ('knn', KNeighborsClassifier())]),\n",
    "                RandomForestClassifier(random_state = 42, n_jobs=-1)\n",
    "                ]\n",
    "\n",
    "parameters_list = [\n",
    "                    {'C': [0.01, 0.05, 0.1, 0.5, 1, 2, 3, 4 , 5, 10], 'class_weight' : [None, 'balanced']},\n",
    "                    {'pca__n_components': [1, 2, 3, 4],\n",
    "                        'logistic__C': [0.01, 0.05, 0.1, 0.5, 1, 2, 3, 4 , 5, 10], 'logistic__class_weight' : [None, 'balanced']},\n",
    "                    {'n_neighbors': [4, 5, 6, 7, 8, 9, 10, 11, 12,  15, 20], 'weights' : ['uniform', 'distance'], 'p': [1, 2]},\n",
    "                    {'pca__n_components': [1, 2, 3, 4],\n",
    "                        'knn__n_neighbors': [4, 5, 6, 7, 8, 9, 10, 11, 12,  15, 20], 'knn__weights' : ['uniform', 'distance'],                              'knn__p': [1, 2]},\n",
    "                    {'n_estimators': [50, 100, 150, 200], 'max_depth':[3, 4, 5, 6, 10, 15, 20], 'class_weight':[None,'balanced']}\n",
    "                    ]\n",
    "\n",
    "groups = X.reset_index()['video_name']\n",
    "loo = LeaveOneGroupOut()\n",
    "cv_loo = loo.split(X, y, groups)"
   ]
  },
  {
   "cell_type": "code",
   "execution_count": 66,
   "metadata": {},
   "outputs": [
    {
     "output_type": "stream",
     "name": "stdout",
     "text": [
      "Fitting 29 folds for each of 20 candidates, totalling 580 fits\n",
      "[Parallel(n_jobs=-1)]: Using backend LokyBackend with 8 concurrent workers.\n",
      "[Parallel(n_jobs=-1)]: Done  56 tasks      | elapsed:    0.4s\n",
      "[Parallel(n_jobs=-1)]: Done 580 out of 580 | elapsed:    2.5s finished\n",
      "[Parallel(n_jobs=-1)]: Using backend LokyBackend with 8 concurrent workers.\n",
      "Best estimator LogisticRegression(C=0.5, multi_class='multinomial', random_state=42)\n",
      "Best results 0.5054062795442105\n",
      "Best params {'C': 0.5, 'class_weight': None}\n",
      "accuracy (mean, std) 0.5043103448275862 0.23091543510308402\n",
      "f1 (mean, std) 0.5054062795442105 0.24466779754279294\n",
      "balanced accuracy (mean, std) 0.4986316365626711 0.25300917846687226\n",
      "precision (mean, std) 0.5911586617405583 0.2785275769586312\n",
      "recall (mean, std) 0.5043103448275862 0.23091543510308402\n",
      "\n",
      "Fitting 29 folds for each of 80 candidates, totalling 2320 fits\n",
      "[Parallel(n_jobs=-1)]: Done  58 tasks      | elapsed:    0.3s\n",
      "[Parallel(n_jobs=-1)]: Done 2320 out of 2320 | elapsed:    5.8s finished\n",
      "[Parallel(n_jobs=-1)]: Using backend LokyBackend with 8 concurrent workers.\n",
      "Best estimator Pipeline(steps=[('pca', PCA(n_components=2)),\n",
      "                ('logistic',\n",
      "                 LogisticRegression(C=0.5, multi_class='multinomial'))])\n",
      "Best results 0.5054062795442105\n",
      "Best params {'logistic__C': 0.5, 'logistic__class_weight': None, 'pca__n_components': 2}\n",
      "accuracy (mean, std) 0.5043103448275862 0.23091543510308402\n",
      "f1 (mean, std) 0.5054062795442105 0.24466779754279294\n",
      "balanced accuracy (mean, std) 0.4986316365626711 0.25300917846687226\n",
      "precision (mean, std) 0.5911586617405583 0.2785275769586312\n",
      "recall (mean, std) 0.5043103448275862 0.23091543510308402\n",
      "\n",
      "Fitting 29 folds for each of 44 candidates, totalling 1276 fits\n",
      "[Parallel(n_jobs=-1)]: Done  56 tasks      | elapsed:    0.3s\n",
      "[Parallel(n_jobs=-1)]: Done 1276 out of 1276 | elapsed:    3.0s finished\n",
      "[Parallel(n_jobs=-1)]: Using backend LokyBackend with 8 concurrent workers.\n",
      "Best estimator KNeighborsClassifier(p=1)\n",
      "Best results 0.5382645132645132\n",
      "Best params {'n_neighbors': 5, 'p': 1, 'weights': 'uniform'}\n",
      "accuracy (mean, std) 0.5474137931034483 0.21125087508349735\n",
      "f1 (mean, std) 0.5382645132645132 0.23565979787979296\n",
      "balanced accuracy (mean, std) 0.5413108921729612 0.2284980655055505\n",
      "precision (mean, std) 0.6116379310344828 0.2750671781599046\n",
      "recall (mean, std) 0.5474137931034483 0.21125087508349735\n",
      "\n",
      "Fitting 29 folds for each of 176 candidates, totalling 5104 fits\n",
      "[Parallel(n_jobs=-1)]: Done  56 tasks      | elapsed:    0.2s\n",
      "[Parallel(n_jobs=-1)]: Done 3824 tasks      | elapsed:    6.9s\n",
      "[Parallel(n_jobs=-1)]: Done 5104 out of 5104 | elapsed:    9.1s finished\n",
      "[Parallel(n_jobs=-1)]: Using backend LokyBackend with 8 concurrent workers.\n",
      "Best estimator Pipeline(steps=[('pca', PCA(n_components=1)),\n",
      "                ('knn',\n",
      "                 KNeighborsClassifier(n_neighbors=7, p=1, weights='distance'))])\n",
      "Best results 0.518883965651207\n",
      "Best params {'knn__n_neighbors': 7, 'knn__p': 1, 'knn__weights': 'distance', 'pca__n_components': 1}\n",
      "accuracy (mean, std) 0.5172413793103449 0.2195315789352904\n",
      "f1 (mean, std) 0.518883965651207 0.23251386403963697\n",
      "balanced accuracy (mean, std) 0.49503284072249587 0.2229539135972051\n",
      "precision (mean, std) 0.6164306239737274 0.26993812128983274\n",
      "recall (mean, std) 0.5172413793103449 0.2195315789352904\n",
      "\n",
      "Fitting 29 folds for each of 56 candidates, totalling 1624 fits\n",
      "[Parallel(n_jobs=-1)]: Done  34 tasks      | elapsed:    1.3s\n",
      "[Parallel(n_jobs=-1)]: Done 184 tasks      | elapsed:   10.3s\n",
      "[Parallel(n_jobs=-1)]: Done 434 tasks      | elapsed:   25.4s\n",
      "[Parallel(n_jobs=-1)]: Done 784 tasks      | elapsed:   46.4s\n",
      "[Parallel(n_jobs=-1)]: Done 1234 tasks      | elapsed:  1.2min\n",
      "[Parallel(n_jobs=-1)]: Done 1624 out of 1624 | elapsed:  1.6min finished\n",
      "Best estimator RandomForestClassifier(max_depth=3, n_jobs=-1, random_state=42)\n",
      "Best results 0.5490619772947358\n",
      "Best params {'class_weight': None, 'max_depth': 3, 'n_estimators': 100}\n",
      "accuracy (mean, std) 0.5474137931034483 0.21125087508349735\n",
      "f1 (mean, std) 0.5490619772947358 0.230673304227034\n",
      "balanced accuracy (mean, std) 0.5339354132457581 0.2358335063804671\n",
      "precision (mean, std) 0.6213310755336617 0.2501510066772464\n",
      "recall (mean, std) 0.5474137931034483 0.21125087508349735\n",
      "\n"
     ]
    }
   ],
   "source": [
    "best_result, y_predict, result_list = runGridSearchClassifiers(X, y, cv_loo, models_list, parameters_list, \n",
    "                                                                output_predict=True, n_jobs=-1, verbose=True)"
   ]
  },
  {
   "cell_type": "code",
   "execution_count": 67,
   "metadata": {},
   "outputs": [
    {
     "output_type": "execute_result",
     "data": {
      "text/plain": [
       "{'best_estimator': RandomForestClassifier(max_depth=3, n_jobs=-1, random_state=42),\n",
       " 'best_score': 0.5490619772947358,\n",
       " 'best_params': {'class_weight': None, 'max_depth': 3, 'n_estimators': 100},\n",
       " 'mean_test_f1_score': 0.5490619772947358,\n",
       " 'std_test_f1_score': 0.230673304227034,\n",
       " 'mean_test_accuracy_score': 0.5474137931034483,\n",
       " 'std_test_accuracy_score': 0.21125087508349735,\n",
       " 'mean_test_balanced_accuracy_score': 0.5339354132457581,\n",
       " 'std_test_balanced_accuracy_score': 0.2358335063804671,\n",
       " 'mean_test_precision': 0.6213310755336617,\n",
       " 'std_test_precision': 0.2501510066772464,\n",
       " 'mean_test_recall': 0.5474137931034483,\n",
       " 'std_test_recall': 0.21125087508349735}"
      ]
     },
     "metadata": {},
     "execution_count": 67
    }
   ],
   "source": [
    "best_result"
   ]
  },
  {
   "source": [
    "## Stress global"
   ],
   "cell_type": "markdown",
   "metadata": {}
  },
  {
   "cell_type": "code",
   "execution_count": 81,
   "metadata": {},
   "outputs": [],
   "source": [
    "df_best_global_prediction = df_video_best_global_prediction.merge(df_audio_best_global_prediction, \n",
    "                                how='inner', on=['video_name']) \n",
    "#df_best_diapo_prediction = df_best_diapo_prediction.set_index(['video_name','diapo'])\n",
    "df_best_global_prediction = df_best_global_prediction.merge(df_annotations_stress_global, on=['video_name'])\n",
    "X = df_best_global_prediction.iloc[:,:-1].set_index(['video_name'])\n",
    "y = df_best_global_prediction.iloc[:,-1]\n",
    "#df_best_global_prediction"
   ]
  },
  {
   "cell_type": "code",
   "execution_count": 82,
   "metadata": {},
   "outputs": [
    {
     "output_type": "execute_result",
     "data": {
      "text/plain": [
       "                                 video_global_stress_prediction  \\\n",
       "video_name                                                        \n",
       "Test_pour_AFPA                                                1   \n",
       "Video_1                                                       1   \n",
       "WIN_20210323_19_17_40_Pro                                     1   \n",
       "WIN_20210329_10_16_02_Pro                                     0   \n",
       "WIN_20210330_13_10_29_Pro                                     0   \n",
       "WIN_20210331_21_22_52_Pro                                     1   \n",
       "WIN_20210402_19_04_53_Pro                                     2   \n",
       "WIN_20210403_18_49_15_Pro                                     1   \n",
       "WIN_20210404_10_58_27_Pro                                     1   \n",
       "WIN_20210404_21_41_12_Pro                                     1   \n",
       "WIN_20210405_15_09_16_Pro                                     1   \n",
       "WIN_20210406_15_06_15_Pro                                     2   \n",
       "WIN_20210406_18_35_52_Pro                                     1   \n",
       "WIN_20210406_18_49_10_Pro                                     1   \n",
       "WIN_20210406_21_05_52_Pro                                     0   \n",
       "WIN_20210407_09_04_05_Pro                                     2   \n",
       "WIN_20210407_14_54_56_Pro_edit2                               0   \n",
       "WIN_20210408_11_48_58_Pro                                     0   \n",
       "WIN_20210408_14_00_44_Pro                                     0   \n",
       "WIN_20210408_14_02_19_Pro                                     0   \n",
       "WIN_20210408_14_11_32_Pro                                     0   \n",
       "WIN_20210408_15_20_51_Pro                                     0   \n",
       "WIN_20210408_16_04_32_Pro                                     0   \n",
       "WIN_20210409_10_26_11_Pro                                     0   \n",
       "WIN_20210413_15_38_01_Pro                                     0   \n",
       "WIN_20210414_06_24_52_Pro                                     0   \n",
       "WIN_20210415_15_41_24_Pro                                     2   \n",
       "WIN_20210416_08_06_54_Pro                                     1   \n",
       "WIN_20210417_14_53_12_Pro                                     0   \n",
       "\n",
       "                                 audio_global_stress_prediction  \n",
       "video_name                                                       \n",
       "Test_pour_AFPA                                                2  \n",
       "Video_1                                                       0  \n",
       "WIN_20210323_19_17_40_Pro                                     2  \n",
       "WIN_20210329_10_16_02_Pro                                     0  \n",
       "WIN_20210330_13_10_29_Pro                                     0  \n",
       "WIN_20210331_21_22_52_Pro                                     1  \n",
       "WIN_20210402_19_04_53_Pro                                     1  \n",
       "WIN_20210403_18_49_15_Pro                                     0  \n",
       "WIN_20210404_10_58_27_Pro                                     1  \n",
       "WIN_20210404_21_41_12_Pro                                     1  \n",
       "WIN_20210405_15_09_16_Pro                                     1  \n",
       "WIN_20210406_15_06_15_Pro                                     2  \n",
       "WIN_20210406_18_35_52_Pro                                     0  \n",
       "WIN_20210406_18_49_10_Pro                                     0  \n",
       "WIN_20210406_21_05_52_Pro                                     2  \n",
       "WIN_20210407_09_04_05_Pro                                     2  \n",
       "WIN_20210407_14_54_56_Pro_edit2                               1  \n",
       "WIN_20210408_11_48_58_Pro                                     1  \n",
       "WIN_20210408_14_00_44_Pro                                     0  \n",
       "WIN_20210408_14_02_19_Pro                                     0  \n",
       "WIN_20210408_14_11_32_Pro                                     1  \n",
       "WIN_20210408_15_20_51_Pro                                     0  \n",
       "WIN_20210408_16_04_32_Pro                                     1  \n",
       "WIN_20210409_10_26_11_Pro                                     1  \n",
       "WIN_20210413_15_38_01_Pro                                     0  \n",
       "WIN_20210414_06_24_52_Pro                                     2  \n",
       "WIN_20210415_15_41_24_Pro                                     0  \n",
       "WIN_20210416_08_06_54_Pro                                     2  \n",
       "WIN_20210417_14_53_12_Pro                                     0  "
      ],
      "text/html": "<div>\n<style scoped>\n    .dataframe tbody tr th:only-of-type {\n        vertical-align: middle;\n    }\n\n    .dataframe tbody tr th {\n        vertical-align: top;\n    }\n\n    .dataframe thead th {\n        text-align: right;\n    }\n</style>\n<table border=\"1\" class=\"dataframe\">\n  <thead>\n    <tr style=\"text-align: right;\">\n      <th></th>\n      <th>video_global_stress_prediction</th>\n      <th>audio_global_stress_prediction</th>\n    </tr>\n    <tr>\n      <th>video_name</th>\n      <th></th>\n      <th></th>\n    </tr>\n  </thead>\n  <tbody>\n    <tr>\n      <th>Test_pour_AFPA</th>\n      <td>1</td>\n      <td>2</td>\n    </tr>\n    <tr>\n      <th>Video_1</th>\n      <td>1</td>\n      <td>0</td>\n    </tr>\n    <tr>\n      <th>WIN_20210323_19_17_40_Pro</th>\n      <td>1</td>\n      <td>2</td>\n    </tr>\n    <tr>\n      <th>WIN_20210329_10_16_02_Pro</th>\n      <td>0</td>\n      <td>0</td>\n    </tr>\n    <tr>\n      <th>WIN_20210330_13_10_29_Pro</th>\n      <td>0</td>\n      <td>0</td>\n    </tr>\n    <tr>\n      <th>WIN_20210331_21_22_52_Pro</th>\n      <td>1</td>\n      <td>1</td>\n    </tr>\n    <tr>\n      <th>WIN_20210402_19_04_53_Pro</th>\n      <td>2</td>\n      <td>1</td>\n    </tr>\n    <tr>\n      <th>WIN_20210403_18_49_15_Pro</th>\n      <td>1</td>\n      <td>0</td>\n    </tr>\n    <tr>\n      <th>WIN_20210404_10_58_27_Pro</th>\n      <td>1</td>\n      <td>1</td>\n    </tr>\n    <tr>\n      <th>WIN_20210404_21_41_12_Pro</th>\n      <td>1</td>\n      <td>1</td>\n    </tr>\n    <tr>\n      <th>WIN_20210405_15_09_16_Pro</th>\n      <td>1</td>\n      <td>1</td>\n    </tr>\n    <tr>\n      <th>WIN_20210406_15_06_15_Pro</th>\n      <td>2</td>\n      <td>2</td>\n    </tr>\n    <tr>\n      <th>WIN_20210406_18_35_52_Pro</th>\n      <td>1</td>\n      <td>0</td>\n    </tr>\n    <tr>\n      <th>WIN_20210406_18_49_10_Pro</th>\n      <td>1</td>\n      <td>0</td>\n    </tr>\n    <tr>\n      <th>WIN_20210406_21_05_52_Pro</th>\n      <td>0</td>\n      <td>2</td>\n    </tr>\n    <tr>\n      <th>WIN_20210407_09_04_05_Pro</th>\n      <td>2</td>\n      <td>2</td>\n    </tr>\n    <tr>\n      <th>WIN_20210407_14_54_56_Pro_edit2</th>\n      <td>0</td>\n      <td>1</td>\n    </tr>\n    <tr>\n      <th>WIN_20210408_11_48_58_Pro</th>\n      <td>0</td>\n      <td>1</td>\n    </tr>\n    <tr>\n      <th>WIN_20210408_14_00_44_Pro</th>\n      <td>0</td>\n      <td>0</td>\n    </tr>\n    <tr>\n      <th>WIN_20210408_14_02_19_Pro</th>\n      <td>0</td>\n      <td>0</td>\n    </tr>\n    <tr>\n      <th>WIN_20210408_14_11_32_Pro</th>\n      <td>0</td>\n      <td>1</td>\n    </tr>\n    <tr>\n      <th>WIN_20210408_15_20_51_Pro</th>\n      <td>0</td>\n      <td>0</td>\n    </tr>\n    <tr>\n      <th>WIN_20210408_16_04_32_Pro</th>\n      <td>0</td>\n      <td>1</td>\n    </tr>\n    <tr>\n      <th>WIN_20210409_10_26_11_Pro</th>\n      <td>0</td>\n      <td>1</td>\n    </tr>\n    <tr>\n      <th>WIN_20210413_15_38_01_Pro</th>\n      <td>0</td>\n      <td>0</td>\n    </tr>\n    <tr>\n      <th>WIN_20210414_06_24_52_Pro</th>\n      <td>0</td>\n      <td>2</td>\n    </tr>\n    <tr>\n      <th>WIN_20210415_15_41_24_Pro</th>\n      <td>2</td>\n      <td>0</td>\n    </tr>\n    <tr>\n      <th>WIN_20210416_08_06_54_Pro</th>\n      <td>1</td>\n      <td>2</td>\n    </tr>\n    <tr>\n      <th>WIN_20210417_14_53_12_Pro</th>\n      <td>0</td>\n      <td>0</td>\n    </tr>\n  </tbody>\n</table>\n</div>"
     },
     "metadata": {},
     "execution_count": 82
    }
   ],
   "source": [
    "X"
   ]
  },
  {
   "cell_type": "code",
   "execution_count": 83,
   "metadata": {},
   "outputs": [],
   "source": [
    "from sklearn.linear_model import LogisticRegression\n",
    "from sklearn.neighbors import KNeighborsClassifier\n",
    "from sklearn.ensemble import RandomForestClassifier\n",
    "from sklearn.model_selection import LeaveOneGroupOut\n",
    "from sklearn.decomposition import PCA\n",
    "from sklearn.pipeline import Pipeline\n",
    "\n",
    "pca = PCA()\n",
    "\n",
    "models_list = [\n",
    "                LogisticRegression(multi_class='multinomial', fit_intercept=True, random_state=42),\n",
    "                Pipeline(steps=[('pca', pca), ('logistic', LogisticRegression(multi_class='multinomial', fit_intercept=True))]),\n",
    "                KNeighborsClassifier(),\n",
    "                Pipeline(steps=[('pca', pca), ('knn', KNeighborsClassifier())]),\n",
    "                RandomForestClassifier(random_state = 42, n_jobs=-1)\n",
    "                ]\n",
    "\n",
    "parameters_list = [\n",
    "                    {'C': [0.01, 0.05, 0.1, 0.5, 1, 2, 3, 4 , 5, 10], 'class_weight' : [None, 'balanced']},\n",
    "                    {'pca__n_components': [1, 2, 3, 4],\n",
    "                        'logistic__C': [0.01, 0.05, 0.1, 0.5, 1, 2, 3, 4 , 5, 10], 'logistic__class_weight' : [None, 'balanced']},\n",
    "                    {'n_neighbors': [4, 5, 6, 7, 8, 9, 10, 11, 12,  15, 20], 'weights' : ['uniform', 'distance'], 'p': [1, 2]},\n",
    "                    {'pca__n_components': [1, 2, 3, 4],\n",
    "                        'knn__n_neighbors': [4, 5, 6, 7, 8, 9, 10, 11, 12,  15, 20], 'knn__weights' : ['uniform', 'distance'],                              'knn__p': [1, 2]},\n",
    "                    {'n_estimators': [50, 100, 150, 200], 'max_depth':[3, 4, 5, 6, 10, 15, 20], 'class_weight':[None,'balanced']}\n",
    "                    ]\n",
    "\n",
    "groups = X.reset_index()['video_name']\n",
    "loo = LeaveOneGroupOut()\n",
    "cv_loo = loo.split(X, y, groups)"
   ]
  },
  {
   "cell_type": "code",
   "execution_count": 84,
   "metadata": {},
   "outputs": [
    {
     "output_type": "stream",
     "name": "stdout",
     "text": [
      "Fitting 5 folds for each of 20 candidates, totalling 100 fits\n",
      "[Parallel(n_jobs=-1)]: Using backend LokyBackend with 8 concurrent workers.\n",
      "[Parallel(n_jobs=-1)]: Done  56 tasks      | elapsed:    0.3s\n",
      "[Parallel(n_jobs=-1)]: Done  85 out of 100 | elapsed:    0.4s remaining:    0.1s\n",
      "[Parallel(n_jobs=-1)]: Done 100 out of 100 | elapsed:    0.5s finished\n",
      "[Parallel(n_jobs=-1)]: Using backend LokyBackend with 8 concurrent workers.\n",
      "Best estimator LogisticRegression(C=0.01, class_weight='balanced', multi_class='multinomial',\n",
      "                   random_state=42)\n",
      "Best results 0.49377777777777776\n",
      "Best params {'C': 0.01, 'class_weight': 'balanced'}\n",
      "accuracy (mean, std) 0.5533333333333333 0.12578641509408806\n",
      "f1 (mean, std) 0.49377777777777776 0.17648642097941547\n",
      "balanced accuracy (mean, std) 0.5555555555555556 0.12171612389003691\n",
      "precision (mean, std) 0.5372222222222222 0.24378446258433056\n",
      "recall (mean, std) 0.5533333333333333 0.12578641509408806\n",
      "\n",
      "Fitting 5 folds for each of 80 candidates, totalling 400 fits\n",
      "[Parallel(n_jobs=-1)]: Done  56 tasks      | elapsed:    0.3s\n",
      "[Parallel(n_jobs=-1)]: Done 400 out of 400 | elapsed:    0.9s finished\n",
      "[Parallel(n_jobs=-1)]: Using backend LokyBackend with 8 concurrent workers.\n",
      "Best estimator Pipeline(steps=[('pca', PCA(n_components=1)),\n",
      "                ('logistic',\n",
      "                 LogisticRegression(C=1, multi_class='multinomial'))])\n",
      "Best results 0.5204444444444445\n",
      "Best params {'logistic__C': 1, 'logistic__class_weight': None, 'pca__n_components': 1}\n",
      "accuracy (mean, std) 0.5466666666666666 0.18208667044996887\n",
      "f1 (mean, std) 0.5204444444444445 0.22006239294828062\n",
      "balanced accuracy (mean, std) 0.5222222222222223 0.22110831935702666\n",
      "precision (mean, std) 0.595 0.2757503791564724\n",
      "recall (mean, std) 0.5466666666666666 0.18208667044996887\n",
      "\n",
      "Fitting 5 folds for each of 44 candidates, totalling 220 fits\n",
      "[Parallel(n_jobs=-1)]: Done  56 tasks      | elapsed:    0.2s\n",
      "[Parallel(n_jobs=-1)]: Done 220 out of 220 | elapsed:    0.6s finished\n",
      "[Parallel(n_jobs=-1)]: Using backend LokyBackend with 8 concurrent workers.\n",
      "Best estimator KNeighborsClassifier(n_neighbors=4, p=1, weights='distance')\n",
      "Best results 0.6022222222222221\n",
      "Best params {'n_neighbors': 4, 'p': 1, 'weights': 'distance'}\n",
      "accuracy (mean, std) 0.6666666666666667 0.21081851067789195\n",
      "f1 (mean, std) 0.6022222222222221 0.2663331247391757\n",
      "balanced accuracy (mean, std) 0.6444444444444445 0.2154524381073924\n",
      "precision (mean, std) 0.6222222222222222 0.3051006715054662\n",
      "recall (mean, std) 0.6666666666666667 0.21081851067789195\n",
      "\n",
      "Fitting 5 folds for each of 176 candidates, totalling 880 fits\n",
      "[Parallel(n_jobs=-1)]: Done  56 tasks      | elapsed:    0.2s\n",
      "[Parallel(n_jobs=-1)]: Done 880 out of 880 | elapsed:    1.6s finished\n",
      "[Parallel(n_jobs=-1)]: Using backend LokyBackend with 8 concurrent workers.\n",
      "Best estimator Pipeline(steps=[('pca', PCA(n_components=1)),\n",
      "                ('knn',\n",
      "                 KNeighborsClassifier(n_neighbors=4, p=1, weights='distance'))])\n",
      "Best results 0.6071111111111109\n",
      "Best params {'knn__n_neighbors': 4, 'knn__p': 1, 'knn__weights': 'distance', 'pca__n_components': 1}\n",
      "accuracy (mean, std) 0.6599999999999999 0.17688665548562135\n",
      "f1 (mean, std) 0.6071111111111109 0.24244597209010516\n",
      "balanced accuracy (mean, std) 0.6888888888888889 0.2036700308869262\n",
      "precision (mean, std) 0.6466666666666667 0.3052948382655772\n",
      "recall (mean, std) 0.6599999999999999 0.17688665548562135\n",
      "\n",
      "Fitting 5 folds for each of 56 candidates, totalling 280 fits\n",
      "[Parallel(n_jobs=-1)]: Done  52 tasks      | elapsed:    3.4s\n",
      "[Parallel(n_jobs=-1)]: Done 240 tasks      | elapsed:   14.8s\n",
      "Best estimator RandomForestClassifier(max_depth=4, n_estimators=50, n_jobs=-1, random_state=42)\n",
      "Best results 0.5458730158730158\n",
      "Best params {'class_weight': None, 'max_depth': 4, 'n_estimators': 50}\n",
      "accuracy (mean, std) 0.5866666666666667 0.22370615647416692\n",
      "f1 (mean, std) 0.5458730158730158 0.2700467938137396\n",
      "balanced accuracy (mean, std) 0.611111111111111 0.24343224778007383\n",
      "precision (mean, std) 0.6444444444444445 0.3038030551135\n",
      "recall (mean, std) 0.5866666666666667 0.22370615647416692\n",
      "\n",
      "[Parallel(n_jobs=-1)]: Done 280 out of 280 | elapsed:   17.2s finished\n"
     ]
    }
   ],
   "source": [
    "best_result, y_predict, result_list = runGridSearchClassifiers(X, y, 5, models_list, parameters_list, \n",
    "                                                                output_predict=True, n_jobs=-1, verbose=True)"
   ]
  },
  {
   "cell_type": "code",
   "execution_count": 85,
   "metadata": {},
   "outputs": [
    {
     "output_type": "execute_result",
     "data": {
      "text/plain": [
       "{'best_estimator': Pipeline(steps=[('pca', PCA(n_components=1)),\n",
       "                 ('knn',\n",
       "                  KNeighborsClassifier(n_neighbors=4, p=1, weights='distance'))]),\n",
       " 'best_score': 0.6071111111111109,\n",
       " 'best_params': {'knn__n_neighbors': 4,\n",
       "  'knn__p': 1,\n",
       "  'knn__weights': 'distance',\n",
       "  'pca__n_components': 1},\n",
       " 'mean_test_f1_score': 0.6071111111111109,\n",
       " 'std_test_f1_score': 0.24244597209010516,\n",
       " 'mean_test_accuracy_score': 0.6599999999999999,\n",
       " 'std_test_accuracy_score': 0.17688665548562135,\n",
       " 'mean_test_balanced_accuracy_score': 0.6888888888888889,\n",
       " 'std_test_balanced_accuracy_score': 0.2036700308869262,\n",
       " 'mean_test_precision': 0.6466666666666667,\n",
       " 'std_test_precision': 0.3052948382655772,\n",
       " 'mean_test_recall': 0.6599999999999999,\n",
       " 'std_test_recall': 0.17688665548562135}"
      ]
     },
     "metadata": {},
     "execution_count": 85
    }
   ],
   "source": [
    "best_result"
   ]
  },
  {
   "cell_type": "code",
   "execution_count": null,
   "metadata": {},
   "outputs": [],
   "source": []
  }
 ]
}