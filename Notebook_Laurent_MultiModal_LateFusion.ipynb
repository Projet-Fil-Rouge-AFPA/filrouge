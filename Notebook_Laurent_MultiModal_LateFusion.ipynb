{
 "metadata": {
  "language_info": {
   "codemirror_mode": {
    "name": "ipython",
    "version": 3
   },
   "file_extension": ".py",
   "mimetype": "text/x-python",
   "name": "python",
   "nbconvert_exporter": "python",
   "pygments_lexer": "ipython3",
   "version": "3.8.5"
  },
  "orig_nbformat": 4,
  "kernelspec": {
   "name": "python3",
   "display_name": "Python 3.8.5 64-bit ('base': conda)"
  },
  "interpreter": {
   "hash": "148f6ed9de8dadedbbd96ef8a7e818f87aaafab3c59f5306aa9910b4f09c5b3f"
  }
 },
 "nbformat": 4,
 "nbformat_minor": 2,
 "cells": [
  {
   "cell_type": "code",
   "execution_count": 1,
   "metadata": {},
   "outputs": [],
   "source": [
    "import numpy as np \n",
    "import pandas as pd \n",
    "import matplotlib.pyplot as plt \n",
    "import pathlib\n",
    "from util import runGridSearchClassifiers"
   ]
  },
  {
   "source": [
    "## Data loading"
   ],
   "cell_type": "markdown",
   "metadata": {}
  },
  {
   "cell_type": "code",
   "execution_count": 2,
   "metadata": {},
   "outputs": [],
   "source": [
    "## Vidéo\n",
    "df_video_best_diapo_prediction = pd.read_csv('video_best_diapo.csv')\n",
    "df_video_best_diapo_prediction = df_video_best_diapo_prediction.iloc[:,1:]\n",
    "df_video_best_diapo_prediction['ypredict'] = df_video_best_diapo_prediction['ypredict'].astype(int)\n",
    "df_video_best_diapo_prediction.columns = ['video_name', 'diapo','video_diapo_stress_prediction']\n",
    "#df_video_best_diapo_prediction"
   ]
  },
  {
   "cell_type": "code",
   "execution_count": 3,
   "metadata": {},
   "outputs": [],
   "source": [
    "df_video_best_global_prediction = pd.read_csv('video_best_global.csv')\n",
    "df_video_best_global_prediction = df_video_best_global_prediction.iloc[:,1:]\n",
    "df_video_best_global_prediction['y_predict_tw5_diapo_minmax_global'] = df_video_best_global_prediction['y_predict_tw5_diapo_minmax_global'].astype(int)\n",
    "df_video_best_global_prediction.columns = ['video_name', 'video_global_stress_prediction']\n",
    "#df_video_best_global_prediction"
   ]
  },
  {
   "cell_type": "code",
   "execution_count": 47,
   "metadata": {},
   "outputs": [],
   "source": [
    "## Audio\n",
    "# All\n",
    "df_audio_best_diapo_prediction = pd.read_csv('audio_best_diapo.csv')\n",
    "# Audio only\n",
    "#df_audio_best_diapo_prediction = pd.read_csv('audio_only_best_diapo.csv')\n",
    "df_audio_best_diapo_prediction = df_audio_best_diapo_prediction.iloc[:,1:]\n",
    "df_audio_best_diapo_prediction['ypredict'] = df_audio_best_diapo_prediction['ypredict'].astype(int)\n",
    "df_audio_best_diapo_prediction.columns = ['video_name', 'diapo','audio_diapo_stress_prediction']\n",
    "#df_audio_best_diapo_prediction\n",
    "\n",
    "# Audio only\n",
    "df_audio_only_best_diapo_prediction = pd.read_csv('audio_only_best_diapo.csv')\n",
    "df_audio_only_best_diapo_prediction = df_audio_only_best_diapo_prediction.iloc[:,1:]\n",
    "df_audio_only_best_diapo_prediction['ypredict'] = df_audio_only_best_diapo_prediction['ypredict'].astype(int)\n",
    "df_audio_only_best_diapo_prediction.columns = ['video_name', 'diapo','audio_diapo_stress_prediction']\n",
    "#df_audio_only_best_diapo_prediction\n"
   ]
  },
  {
   "cell_type": "code",
   "execution_count": 48,
   "metadata": {},
   "outputs": [],
   "source": [
    "# All\n",
    "df_audio_best_global_prediction = pd.read_csv('audio_best_global.csv')\n",
    "# Audio only\n",
    "#df_audio_best_global_prediction = pd.read_csv('audio_only_best_global.csv')\n",
    "df_audio_best_global_prediction = df_audio_best_global_prediction.iloc[:,1:]\n",
    "df_audio_best_global_prediction['ypredict'] = df_audio_best_global_prediction['ypredict'].astype(int)\n",
    "df_audio_best_global_prediction.columns = ['video_name', 'audio_global_stress_prediction']\n",
    "\n",
    "# Audio only\n",
    "df_audio_only_best_global_prediction = pd.read_csv('audio_only_best_global.csv')\n",
    "df_audio_only_best_global_prediction = df_audio_only_best_global_prediction.iloc[:,1:]\n",
    "df_audio_only_best_global_prediction['ypredict'] = df_audio_only_best_global_prediction['ypredict'].astype(int)\n",
    "df_audio_only_best_global_prediction.columns = ['video_name', 'audio_global_stress_prediction']"
   ]
  },
  {
   "cell_type": "code",
   "execution_count": 30,
   "metadata": {},
   "outputs": [],
   "source": [
    "## Text\n",
    "df_text_best_diapo_prediction = pd.read_csv('text_best_diapo.csv')\n",
    "df_text_best_diapo_prediction = df_text_best_diapo_prediction.iloc[:,1:]\n",
    "df_text_best_diapo_prediction['ypredict'] = df_text_best_diapo_prediction['ypredict'].astype(int)\n",
    "df_text_best_diapo_prediction.columns = ['video_name', 'diapo','text_diapo_stress_prediction']\n",
    "#df_text_best_diapo_prediction"
   ]
  },
  {
   "cell_type": "code",
   "execution_count": 31,
   "metadata": {},
   "outputs": [],
   "source": [
    "df_text_best_global_prediction = pd.read_csv('text_best_global.csv')\n",
    "df_text_best_global_prediction = df_text_best_global_prediction.iloc[:,1:]\n",
    "df_text_best_global_prediction['ypredict'] = df_text_best_global_prediction['ypredict'].astype(int)\n",
    "df_text_best_global_prediction.columns = ['video_name', 'text_global_stress_prediction']\n",
    "#df_text_best_global_prediction"
   ]
  },
  {
   "cell_type": "code",
   "execution_count": 8,
   "metadata": {},
   "outputs": [
    {
     "output_type": "execute_result",
     "data": {
      "text/plain": [
       "                                 stress_global\n",
       "video_name                                    \n",
       "Test_pour_AFPA                               1\n",
       "Video_1                                      0\n",
       "WIN_20210323_19_17_40_Pro                    1\n",
       "WIN_20210329_10_16_02_Pro                    1\n",
       "WIN_20210330_13_10_29_Pro                    0\n",
       "WIN_20210331_21_22_52_Pro                    1\n",
       "WIN_20210402_14_27_50_Pro                    1\n",
       "WIN_20210402_19_04_53_Pro                    2\n",
       "WIN_20210403_18_49_15_Pro                    2\n",
       "WIN_20210404_10_58_27_Pro                    1\n",
       "WIN_20210404_21_41_12_Pro                    0\n",
       "WIN_20210405_15_09_16_Pro                    1\n",
       "WIN_20210406_15_06_15_Pro                    2\n",
       "WIN_20210406_18_35_52_Pro                    0\n",
       "WIN_20210406_18_49_10_Pro                    1\n",
       "WIN_20210406_21_05_52_Pro                    2\n",
       "WIN_20210407_09_04_05_Pro                    2\n",
       "WIN_20210407_14_54_56_Pro_edit2              0\n",
       "WIN_20210408_11_48_58_Pro                    2\n",
       "WIN_20210408_14_00_44_Pro                    0\n",
       "WIN_20210408_14_02_19_Pro                    0\n",
       "WIN_20210408_14_11_32_Pro                    2\n",
       "WIN_20210408_15_20_51_Pro                    0\n",
       "WIN_20210408_16_04_32_Pro                    0\n",
       "WIN_20210409_10_26_11_Pro                    0\n",
       "WIN_20210413_15_38_01_Pro                    1\n",
       "WIN_20210414_06_24_52_Pro                    2\n",
       "WIN_20210415_15_41_24_Pro                    0\n",
       "WIN_20210416_08_06_54_Pro                    1\n",
       "WIN_20210417_14_53_12_Pro                    0"
      ],
      "text/html": "<div>\n<style scoped>\n    .dataframe tbody tr th:only-of-type {\n        vertical-align: middle;\n    }\n\n    .dataframe tbody tr th {\n        vertical-align: top;\n    }\n\n    .dataframe thead th {\n        text-align: right;\n    }\n</style>\n<table border=\"1\" class=\"dataframe\">\n  <thead>\n    <tr style=\"text-align: right;\">\n      <th></th>\n      <th>stress_global</th>\n    </tr>\n    <tr>\n      <th>video_name</th>\n      <th></th>\n    </tr>\n  </thead>\n  <tbody>\n    <tr>\n      <th>Test_pour_AFPA</th>\n      <td>1</td>\n    </tr>\n    <tr>\n      <th>Video_1</th>\n      <td>0</td>\n    </tr>\n    <tr>\n      <th>WIN_20210323_19_17_40_Pro</th>\n      <td>1</td>\n    </tr>\n    <tr>\n      <th>WIN_20210329_10_16_02_Pro</th>\n      <td>1</td>\n    </tr>\n    <tr>\n      <th>WIN_20210330_13_10_29_Pro</th>\n      <td>0</td>\n    </tr>\n    <tr>\n      <th>WIN_20210331_21_22_52_Pro</th>\n      <td>1</td>\n    </tr>\n    <tr>\n      <th>WIN_20210402_14_27_50_Pro</th>\n      <td>1</td>\n    </tr>\n    <tr>\n      <th>WIN_20210402_19_04_53_Pro</th>\n      <td>2</td>\n    </tr>\n    <tr>\n      <th>WIN_20210403_18_49_15_Pro</th>\n      <td>2</td>\n    </tr>\n    <tr>\n      <th>WIN_20210404_10_58_27_Pro</th>\n      <td>1</td>\n    </tr>\n    <tr>\n      <th>WIN_20210404_21_41_12_Pro</th>\n      <td>0</td>\n    </tr>\n    <tr>\n      <th>WIN_20210405_15_09_16_Pro</th>\n      <td>1</td>\n    </tr>\n    <tr>\n      <th>WIN_20210406_15_06_15_Pro</th>\n      <td>2</td>\n    </tr>\n    <tr>\n      <th>WIN_20210406_18_35_52_Pro</th>\n      <td>0</td>\n    </tr>\n    <tr>\n      <th>WIN_20210406_18_49_10_Pro</th>\n      <td>1</td>\n    </tr>\n    <tr>\n      <th>WIN_20210406_21_05_52_Pro</th>\n      <td>2</td>\n    </tr>\n    <tr>\n      <th>WIN_20210407_09_04_05_Pro</th>\n      <td>2</td>\n    </tr>\n    <tr>\n      <th>WIN_20210407_14_54_56_Pro_edit2</th>\n      <td>0</td>\n    </tr>\n    <tr>\n      <th>WIN_20210408_11_48_58_Pro</th>\n      <td>2</td>\n    </tr>\n    <tr>\n      <th>WIN_20210408_14_00_44_Pro</th>\n      <td>0</td>\n    </tr>\n    <tr>\n      <th>WIN_20210408_14_02_19_Pro</th>\n      <td>0</td>\n    </tr>\n    <tr>\n      <th>WIN_20210408_14_11_32_Pro</th>\n      <td>2</td>\n    </tr>\n    <tr>\n      <th>WIN_20210408_15_20_51_Pro</th>\n      <td>0</td>\n    </tr>\n    <tr>\n      <th>WIN_20210408_16_04_32_Pro</th>\n      <td>0</td>\n    </tr>\n    <tr>\n      <th>WIN_20210409_10_26_11_Pro</th>\n      <td>0</td>\n    </tr>\n    <tr>\n      <th>WIN_20210413_15_38_01_Pro</th>\n      <td>1</td>\n    </tr>\n    <tr>\n      <th>WIN_20210414_06_24_52_Pro</th>\n      <td>2</td>\n    </tr>\n    <tr>\n      <th>WIN_20210415_15_41_24_Pro</th>\n      <td>0</td>\n    </tr>\n    <tr>\n      <th>WIN_20210416_08_06_54_Pro</th>\n      <td>1</td>\n    </tr>\n    <tr>\n      <th>WIN_20210417_14_53_12_Pro</th>\n      <td>0</td>\n    </tr>\n  </tbody>\n</table>\n</div>"
     },
     "metadata": {},
     "execution_count": 8
    }
   ],
   "source": [
    "## Anotations\n",
    "df_annotations_stress = pd.read_csv('annotations.csv')\n",
    "df_annotations_stress_global = df_annotations_stress[['video_name','stress_global']].set_index('video_name')\n",
    "df_annotations_stress_global.stress_global = df_annotations_stress_global.stress_global.astype(int)\n",
    "df_annotations_stress_global "
   ]
  },
  {
   "cell_type": "code",
   "execution_count": 9,
   "metadata": {},
   "outputs": [
    {
     "output_type": "execute_result",
     "data": {
      "text/plain": [
       "                    video_name  diapo  stress\n",
       "0               Test_pour_AFPA      1       1\n",
       "1               Test_pour_AFPA      8       1\n",
       "2               Test_pour_AFPA      9       0\n",
       "3               Test_pour_AFPA     10       0\n",
       "4               Test_pour_AFPA     11       0\n",
       "..                         ...    ...     ...\n",
       "235  WIN_20210417_14_53_12_Pro     10       0\n",
       "236  WIN_20210417_14_53_12_Pro     11       0\n",
       "237  WIN_20210417_14_53_12_Pro     12       0\n",
       "238  WIN_20210417_14_53_12_Pro     17       1\n",
       "239  WIN_20210417_14_53_12_Pro     18       1\n",
       "\n",
       "[240 rows x 3 columns]"
      ],
      "text/html": "<div>\n<style scoped>\n    .dataframe tbody tr th:only-of-type {\n        vertical-align: middle;\n    }\n\n    .dataframe tbody tr th {\n        vertical-align: top;\n    }\n\n    .dataframe thead th {\n        text-align: right;\n    }\n</style>\n<table border=\"1\" class=\"dataframe\">\n  <thead>\n    <tr style=\"text-align: right;\">\n      <th></th>\n      <th>video_name</th>\n      <th>diapo</th>\n      <th>stress</th>\n    </tr>\n  </thead>\n  <tbody>\n    <tr>\n      <th>0</th>\n      <td>Test_pour_AFPA</td>\n      <td>1</td>\n      <td>1</td>\n    </tr>\n    <tr>\n      <th>1</th>\n      <td>Test_pour_AFPA</td>\n      <td>8</td>\n      <td>1</td>\n    </tr>\n    <tr>\n      <th>2</th>\n      <td>Test_pour_AFPA</td>\n      <td>9</td>\n      <td>0</td>\n    </tr>\n    <tr>\n      <th>3</th>\n      <td>Test_pour_AFPA</td>\n      <td>10</td>\n      <td>0</td>\n    </tr>\n    <tr>\n      <th>4</th>\n      <td>Test_pour_AFPA</td>\n      <td>11</td>\n      <td>0</td>\n    </tr>\n    <tr>\n      <th>...</th>\n      <td>...</td>\n      <td>...</td>\n      <td>...</td>\n    </tr>\n    <tr>\n      <th>235</th>\n      <td>WIN_20210417_14_53_12_Pro</td>\n      <td>10</td>\n      <td>0</td>\n    </tr>\n    <tr>\n      <th>236</th>\n      <td>WIN_20210417_14_53_12_Pro</td>\n      <td>11</td>\n      <td>0</td>\n    </tr>\n    <tr>\n      <th>237</th>\n      <td>WIN_20210417_14_53_12_Pro</td>\n      <td>12</td>\n      <td>0</td>\n    </tr>\n    <tr>\n      <th>238</th>\n      <td>WIN_20210417_14_53_12_Pro</td>\n      <td>17</td>\n      <td>1</td>\n    </tr>\n    <tr>\n      <th>239</th>\n      <td>WIN_20210417_14_53_12_Pro</td>\n      <td>18</td>\n      <td>1</td>\n    </tr>\n  </tbody>\n</table>\n<p>240 rows × 3 columns</p>\n</div>"
     },
     "metadata": {},
     "execution_count": 9
    }
   ],
   "source": [
    "df_annotations_stress_diapo = df_annotations_stress.iloc[:,:-1].set_index('video_name').stack()\n",
    "df_annotations_stress_diapo = pd.DataFrame(df_annotations_stress_diapo).reset_index()\n",
    "df_annotations_stress_diapo.columns = ['video_name','diapo','stress']\n",
    "df_annotations_stress_diapo.stress = df_annotations_stress_diapo.stress.astype(int)\n",
    "df_annotations_stress_diapo.diapo = df_annotations_stress_diapo.diapo.astype(int)\n",
    "#df_annotations_stress_diapo = df_annotations_stress_diapo.set_index(['video_name','diapo'])\n",
    "df_annotations_stress_diapo"
   ]
  },
  {
   "cell_type": "code",
   "execution_count": 17,
   "metadata": {},
   "outputs": [],
   "source": [
    "from sklearn.linear_model import LogisticRegression\n",
    "from sklearn.neighbors import KNeighborsClassifier\n",
    "from sklearn.ensemble import RandomForestClassifier\n",
    "from sklearn.model_selection import LeaveOneGroupOut\n",
    "from sklearn.decomposition import PCA\n",
    "from sklearn.pipeline import Pipeline\n",
    "\n",
    "pca = PCA()\n",
    "\n",
    "models_list = [\n",
    "                LogisticRegression(multi_class='multinomial', fit_intercept=True, random_state=42),\n",
    "                Pipeline(steps=[('pca', pca), ('logistic', LogisticRegression(multi_class='multinomial', fit_intercept=True))]),\n",
    "                KNeighborsClassifier(),\n",
    "                Pipeline(steps=[('pca', pca), ('knn', KNeighborsClassifier())]),\n",
    "                RandomForestClassifier(random_state = 42, n_jobs=-1)\n",
    "                ]\n",
    "\n",
    "parameters_list = [\n",
    "                    {'C': [0.01, 0.05, 0.1, 0.5, 1, 2, 3, 4 , 5, 10], 'class_weight' : [None, 'balanced']},\n",
    "                    {'pca__n_components': [1, 2, 3, 4],\n",
    "                        'logistic__C': [0.01, 0.05, 0.1, 0.5, 1, 2, 3, 4 , 5, 10], 'logistic__class_weight' : [None, 'balanced']},\n",
    "                    {'n_neighbors': [4, 5, 6, 7, 8, 9, 10, 11, 12,  15, 20], 'weights' : ['uniform', 'distance'], 'p': [1, 2]},\n",
    "                    {'pca__n_components': [1, 2, 3, 4],\n",
    "                        'knn__n_neighbors': [4, 5, 6, 7, 8, 9, 10, 11, 12,  15, 20], 'knn__weights' : ['uniform', 'distance'],                              'knn__p': [1, 2]},\n",
    "                    {'n_estimators': [50, 100, 150, 200], 'max_depth':[3, 4, 5, 6, 10, 15, 20], 'class_weight':[None,'balanced']}\n",
    "                    ]"
   ]
  },
  {
   "source": [
    "## Data preprocessing stress diapo"
   ],
   "cell_type": "markdown",
   "metadata": {}
  },
  {
   "source": [
    "### Vidéo et audio"
   ],
   "cell_type": "markdown",
   "metadata": {}
  },
  {
   "cell_type": "code",
   "execution_count": 10,
   "metadata": {},
   "outputs": [
    {
     "output_type": "execute_result",
     "data": {
      "text/plain": [
       "                    video_name  diapo  video_diapo_stress_prediction  \\\n",
       "0               Test_pour_AFPA      1                              0   \n",
       "1               Test_pour_AFPA      8                              1   \n",
       "2               Test_pour_AFPA      9                              1   \n",
       "3               Test_pour_AFPA     10                              0   \n",
       "4               Test_pour_AFPA     11                              1   \n",
       "..                         ...    ...                            ...   \n",
       "227  WIN_20210417_14_53_12_Pro     10                              0   \n",
       "228  WIN_20210417_14_53_12_Pro     11                              0   \n",
       "229  WIN_20210417_14_53_12_Pro     12                              0   \n",
       "230  WIN_20210417_14_53_12_Pro     17                              0   \n",
       "231  WIN_20210417_14_53_12_Pro     18                              1   \n",
       "\n",
       "     audio_diapo_stress_prediction  \n",
       "0                                0  \n",
       "1                                0  \n",
       "2                                0  \n",
       "3                                0  \n",
       "4                                0  \n",
       "..                             ...  \n",
       "227                              0  \n",
       "228                              0  \n",
       "229                              0  \n",
       "230                              0  \n",
       "231                              1  \n",
       "\n",
       "[232 rows x 4 columns]"
      ],
      "text/html": "<div>\n<style scoped>\n    .dataframe tbody tr th:only-of-type {\n        vertical-align: middle;\n    }\n\n    .dataframe tbody tr th {\n        vertical-align: top;\n    }\n\n    .dataframe thead th {\n        text-align: right;\n    }\n</style>\n<table border=\"1\" class=\"dataframe\">\n  <thead>\n    <tr style=\"text-align: right;\">\n      <th></th>\n      <th>video_name</th>\n      <th>diapo</th>\n      <th>video_diapo_stress_prediction</th>\n      <th>audio_diapo_stress_prediction</th>\n    </tr>\n  </thead>\n  <tbody>\n    <tr>\n      <th>0</th>\n      <td>Test_pour_AFPA</td>\n      <td>1</td>\n      <td>0</td>\n      <td>0</td>\n    </tr>\n    <tr>\n      <th>1</th>\n      <td>Test_pour_AFPA</td>\n      <td>8</td>\n      <td>1</td>\n      <td>0</td>\n    </tr>\n    <tr>\n      <th>2</th>\n      <td>Test_pour_AFPA</td>\n      <td>9</td>\n      <td>1</td>\n      <td>0</td>\n    </tr>\n    <tr>\n      <th>3</th>\n      <td>Test_pour_AFPA</td>\n      <td>10</td>\n      <td>0</td>\n      <td>0</td>\n    </tr>\n    <tr>\n      <th>4</th>\n      <td>Test_pour_AFPA</td>\n      <td>11</td>\n      <td>1</td>\n      <td>0</td>\n    </tr>\n    <tr>\n      <th>...</th>\n      <td>...</td>\n      <td>...</td>\n      <td>...</td>\n      <td>...</td>\n    </tr>\n    <tr>\n      <th>227</th>\n      <td>WIN_20210417_14_53_12_Pro</td>\n      <td>10</td>\n      <td>0</td>\n      <td>0</td>\n    </tr>\n    <tr>\n      <th>228</th>\n      <td>WIN_20210417_14_53_12_Pro</td>\n      <td>11</td>\n      <td>0</td>\n      <td>0</td>\n    </tr>\n    <tr>\n      <th>229</th>\n      <td>WIN_20210417_14_53_12_Pro</td>\n      <td>12</td>\n      <td>0</td>\n      <td>0</td>\n    </tr>\n    <tr>\n      <th>230</th>\n      <td>WIN_20210417_14_53_12_Pro</td>\n      <td>17</td>\n      <td>0</td>\n      <td>0</td>\n    </tr>\n    <tr>\n      <th>231</th>\n      <td>WIN_20210417_14_53_12_Pro</td>\n      <td>18</td>\n      <td>1</td>\n      <td>1</td>\n    </tr>\n  </tbody>\n</table>\n<p>232 rows × 4 columns</p>\n</div>"
     },
     "metadata": {},
     "execution_count": 10
    }
   ],
   "source": [
    "## we remove 2 interviews from the audio predictions\n",
    "df_best_diapo_prediction = df_video_best_diapo_prediction.merge(df_audio_best_diapo_prediction, \n",
    "                                how='inner', on=['video_name','diapo']) \n",
    "# Audio only\n",
    "#df_best_diapo_prediction = df_video_best_diapo_prediction.merge(df_audio_best_diapo_prediction, \n",
    "#                                how='left', on=['video_name','diapo']) \n",
    "#df_best_diapo_prediction = df_best_diapo_prediction.set_index(['video_name','diapo'])\n",
    "df_best_diapo_prediction"
   ]
  },
  {
   "cell_type": "code",
   "execution_count": 11,
   "metadata": {},
   "outputs": [],
   "source": [
    "df_best_diapo_prediction = df_best_diapo_prediction.merge(df_annotations_stress_diapo, on=['video_name','diapo'])\n",
    "X = df_best_diapo_prediction.iloc[:,:-1].set_index(['video_name','diapo'])\n",
    "y = df_best_diapo_prediction.iloc[:,-1]"
   ]
  },
  {
   "cell_type": "code",
   "execution_count": 12,
   "metadata": {},
   "outputs": [],
   "source": [
    "groups = X.reset_index()['video_name']\n",
    "loo = LeaveOneGroupOut()\n",
    "cv_loo = loo.split(X, y, groups)"
   ]
  },
  {
   "cell_type": "code",
   "execution_count": 13,
   "metadata": {},
   "outputs": [
    {
     "output_type": "stream",
     "name": "stdout",
     "text": [
      "Fitting 5 folds for each of 20 candidates, totalling 100 fits\n",
      "[Parallel(n_jobs=-1)]: Using backend LokyBackend with 8 concurrent workers.\n",
      "[Parallel(n_jobs=-1)]: Done  34 tasks      | elapsed:    2.1s\n",
      "[Parallel(n_jobs=-1)]: Done  85 out of 100 | elapsed:    2.4s remaining:    0.4s\n",
      "[Parallel(n_jobs=-1)]: Done 100 out of 100 | elapsed:    2.4s finished\n",
      "[Parallel(n_jobs=-1)]: Using backend LokyBackend with 8 concurrent workers.\n",
      "Best estimator LogisticRegression(C=0.1, multi_class='multinomial', random_state=42)\n",
      "Best results 0.46680215807197084\n",
      "Best params {'C': 0.1, 'class_weight': None}\n",
      "accuracy (mean, std) 0.5001850138760406 0.09955379883801681\n",
      "f1 (mean, std) 0.46680215807197084 0.09616123426150391\n",
      "balanced accuracy (mean, std) 0.3521789321789322 0.06077296813653434\n",
      "precision (mean, std) 0.4499169533366561 0.09407364272479181\n",
      "recall (mean, std) 0.5001850138760406 0.09955379883801681\n",
      "\n",
      "Fitting 5 folds for each of 80 candidates, totalling 400 fits\n",
      "[Parallel(n_jobs=-1)]: Done  56 tasks      | elapsed:    0.4s\n",
      "[Parallel(n_jobs=-1)]: Done 400 out of 400 | elapsed:    1.2s finished\n",
      "[Parallel(n_jobs=-1)]: Using backend LokyBackend with 8 concurrent workers.\n",
      "Best estimator Pipeline(steps=[('pca', PCA(n_components=2)),\n",
      "                ('logistic',\n",
      "                 LogisticRegression(C=0.1, multi_class='multinomial'))])\n",
      "Best results 0.46680215807197084\n",
      "Best params {'logistic__C': 0.1, 'logistic__class_weight': None, 'pca__n_components': 2}\n",
      "accuracy (mean, std) 0.5001850138760406 0.09955379883801681\n",
      "f1 (mean, std) 0.46680215807197084 0.09616123426150391\n",
      "balanced accuracy (mean, std) 0.3521789321789322 0.06077296813653434\n",
      "precision (mean, std) 0.4499169533366561 0.09407364272479181\n",
      "recall (mean, std) 0.5001850138760406 0.09955379883801681\n",
      "\n",
      "Fitting 5 folds for each of 44 candidates, totalling 220 fits\n",
      "[Parallel(n_jobs=-1)]: Done  56 tasks      | elapsed:    0.3s\n",
      "[Parallel(n_jobs=-1)]: Done 220 out of 220 | elapsed:    0.7s finished\n",
      "[Parallel(n_jobs=-1)]: Using backend LokyBackend with 8 concurrent workers.\n",
      "Best estimator KNeighborsClassifier(n_neighbors=10, p=1, weights='distance')\n",
      "Best results 0.4763590368242827\n",
      "Best params {'n_neighbors': 10, 'p': 1, 'weights': 'distance'}\n",
      "accuracy (mean, std) 0.4962072155411656 0.08338226663235969\n",
      "f1 (mean, std) 0.4763590368242827 0.08122477279963294\n",
      "balanced accuracy (mean, std) 0.4042424242424243 0.11185927532068159\n",
      "precision (mean, std) 0.5178953970099737 0.06621595717471579\n",
      "recall (mean, std) 0.4962072155411656 0.08338226663235969\n",
      "\n",
      "Fitting 5 folds for each of 176 candidates, totalling 880 fits\n",
      "[Parallel(n_jobs=-1)]: Done  56 tasks      | elapsed:    0.3s\n",
      "[Parallel(n_jobs=-1)]: Done 880 out of 880 | elapsed:    1.9s finished\n",
      "[Parallel(n_jobs=-1)]: Using backend LokyBackend with 8 concurrent workers.\n",
      "Best estimator Pipeline(steps=[('pca', PCA(n_components=2)),\n",
      "                ('knn',\n",
      "                 KNeighborsClassifier(n_neighbors=20, p=1,\n",
      "                                      weights='distance'))])\n",
      "Best results 0.5262059319605026\n",
      "Best params {'knn__n_neighbors': 20, 'knn__p': 1, 'knn__weights': 'distance', 'pca__n_components': 2}\n",
      "accuracy (mean, std) 0.5470860314523589 0.05887643296052362\n",
      "f1 (mean, std) 0.5262059319605026 0.06991960642620056\n",
      "balanced accuracy (mean, std) 0.4387445887445887 0.10245935188142702\n",
      "precision (mean, std) 0.5523732309135843 0.0663304206045799\n",
      "recall (mean, std) 0.5470860314523589 0.05887643296052362\n",
      "\n",
      "Fitting 5 folds for each of 56 candidates, totalling 280 fits\n",
      "[Parallel(n_jobs=-1)]: Done  34 tasks      | elapsed:    2.4s\n",
      "[Parallel(n_jobs=-1)]: Done 184 tasks      | elapsed:   11.9s\n",
      "Best estimator RandomForestClassifier(max_depth=3, n_estimators=50, n_jobs=-1, random_state=42)\n",
      "Best results 0.5175546463896981\n",
      "Best params {'class_weight': None, 'max_depth': 3, 'n_estimators': 50}\n",
      "accuracy (mean, std) 0.5430157261794635 0.050808967275985106\n",
      "f1 (mean, std) 0.5175546463896981 0.06022244823656584\n",
      "balanced accuracy (mean, std) 0.4381818181818182 0.0954312986300355\n",
      "precision (mean, std) 0.555278547151463 0.04656191564379601\n",
      "recall (mean, std) 0.5430157261794635 0.050808967275985106\n",
      "\n",
      "f1_score (weighted) 0.5362228638090707\n",
      "accuracy 0.5474137931034483\n",
      "[Parallel(n_jobs=-1)]: Done 280 out of 280 | elapsed:   17.7s finished\n"
     ]
    }
   ],
   "source": [
    "best_result, y_predict, y_predict_proba, result_list = runGridSearchClassifiers(X, y, 5, models_list, parameters_list,                                                      output_predict=True, n_jobs=-1, verbose=True)"
   ]
  },
  {
   "cell_type": "code",
   "execution_count": 14,
   "metadata": {},
   "outputs": [
    {
     "output_type": "execute_result",
     "data": {
      "text/plain": [
       "{'best_estimator': Pipeline(steps=[('pca', PCA(n_components=2)),\n",
       "                 ('knn',\n",
       "                  KNeighborsClassifier(n_neighbors=20, p=1,\n",
       "                                       weights='distance'))]),\n",
       " 'best_score': 0.5262059319605026,\n",
       " 'best_params': {'knn__n_neighbors': 20,\n",
       "  'knn__p': 1,\n",
       "  'knn__weights': 'distance',\n",
       "  'pca__n_components': 2},\n",
       " 'mean_test_f1_score': 0.5262059319605026,\n",
       " 'std_test_f1_score': 0.06991960642620056,\n",
       " 'mean_test_accuracy_score': 0.5470860314523589,\n",
       " 'std_test_accuracy_score': 0.05887643296052362,\n",
       " 'mean_test_balanced_accuracy_score': 0.4387445887445887,\n",
       " 'std_test_balanced_accuracy_score': 0.10245935188142702,\n",
       " 'mean_test_precision': 0.5523732309135843,\n",
       " 'std_test_precision': 0.0663304206045799,\n",
       " 'mean_test_recall': 0.5470860314523589,\n",
       " 'std_test_recall': 0.05887643296052362}"
      ]
     },
     "metadata": {},
     "execution_count": 14
    }
   ],
   "source": [
    "best_result"
   ]
  },
  {
   "source": [
    "### Vidéo, audio et texte"
   ],
   "cell_type": "markdown",
   "metadata": {}
  },
  {
   "cell_type": "code",
   "execution_count": 15,
   "metadata": {},
   "outputs": [
    {
     "output_type": "execute_result",
     "data": {
      "text/plain": [
       "                    video_name  diapo  video_diapo_stress_prediction  \\\n",
       "0               Test_pour_AFPA      1                              0   \n",
       "1               Test_pour_AFPA      8                              1   \n",
       "2               Test_pour_AFPA      9                              1   \n",
       "3               Test_pour_AFPA     10                              0   \n",
       "4               Test_pour_AFPA     11                              1   \n",
       "..                         ...    ...                            ...   \n",
       "227  WIN_20210417_14_53_12_Pro     10                              0   \n",
       "228  WIN_20210417_14_53_12_Pro     11                              0   \n",
       "229  WIN_20210417_14_53_12_Pro     12                              0   \n",
       "230  WIN_20210417_14_53_12_Pro     17                              0   \n",
       "231  WIN_20210417_14_53_12_Pro     18                              1   \n",
       "\n",
       "     audio_diapo_stress_prediction  \n",
       "0                                0  \n",
       "1                                0  \n",
       "2                                0  \n",
       "3                                0  \n",
       "4                                0  \n",
       "..                             ...  \n",
       "227                              0  \n",
       "228                              0  \n",
       "229                              0  \n",
       "230                              0  \n",
       "231                              1  \n",
       "\n",
       "[232 rows x 4 columns]"
      ],
      "text/html": "<div>\n<style scoped>\n    .dataframe tbody tr th:only-of-type {\n        vertical-align: middle;\n    }\n\n    .dataframe tbody tr th {\n        vertical-align: top;\n    }\n\n    .dataframe thead th {\n        text-align: right;\n    }\n</style>\n<table border=\"1\" class=\"dataframe\">\n  <thead>\n    <tr style=\"text-align: right;\">\n      <th></th>\n      <th>video_name</th>\n      <th>diapo</th>\n      <th>video_diapo_stress_prediction</th>\n      <th>audio_diapo_stress_prediction</th>\n    </tr>\n  </thead>\n  <tbody>\n    <tr>\n      <th>0</th>\n      <td>Test_pour_AFPA</td>\n      <td>1</td>\n      <td>0</td>\n      <td>0</td>\n    </tr>\n    <tr>\n      <th>1</th>\n      <td>Test_pour_AFPA</td>\n      <td>8</td>\n      <td>1</td>\n      <td>0</td>\n    </tr>\n    <tr>\n      <th>2</th>\n      <td>Test_pour_AFPA</td>\n      <td>9</td>\n      <td>1</td>\n      <td>0</td>\n    </tr>\n    <tr>\n      <th>3</th>\n      <td>Test_pour_AFPA</td>\n      <td>10</td>\n      <td>0</td>\n      <td>0</td>\n    </tr>\n    <tr>\n      <th>4</th>\n      <td>Test_pour_AFPA</td>\n      <td>11</td>\n      <td>1</td>\n      <td>0</td>\n    </tr>\n    <tr>\n      <th>...</th>\n      <td>...</td>\n      <td>...</td>\n      <td>...</td>\n      <td>...</td>\n    </tr>\n    <tr>\n      <th>227</th>\n      <td>WIN_20210417_14_53_12_Pro</td>\n      <td>10</td>\n      <td>0</td>\n      <td>0</td>\n    </tr>\n    <tr>\n      <th>228</th>\n      <td>WIN_20210417_14_53_12_Pro</td>\n      <td>11</td>\n      <td>0</td>\n      <td>0</td>\n    </tr>\n    <tr>\n      <th>229</th>\n      <td>WIN_20210417_14_53_12_Pro</td>\n      <td>12</td>\n      <td>0</td>\n      <td>0</td>\n    </tr>\n    <tr>\n      <th>230</th>\n      <td>WIN_20210417_14_53_12_Pro</td>\n      <td>17</td>\n      <td>0</td>\n      <td>0</td>\n    </tr>\n    <tr>\n      <th>231</th>\n      <td>WIN_20210417_14_53_12_Pro</td>\n      <td>18</td>\n      <td>1</td>\n      <td>1</td>\n    </tr>\n  </tbody>\n</table>\n<p>232 rows × 4 columns</p>\n</div>"
     },
     "metadata": {},
     "execution_count": 15
    }
   ],
   "source": [
    "## we remove 2 interviews from the audio predictions\n",
    "df_best_diapo_prediction = df_video_best_diapo_prediction.merge(df_audio_best_diapo_prediction, \n",
    "                                how='inner', on=['video_name','diapo']) \n",
    "#df_best_diapo_prediction"
   ]
  },
  {
   "cell_type": "code",
   "execution_count": 16,
   "metadata": {},
   "outputs": [
    {
     "output_type": "execute_result",
     "data": {
      "text/plain": [
       "                    video_name  diapo  video_diapo_stress_prediction  \\\n",
       "0               Test_pour_AFPA      1                              0   \n",
       "1               Test_pour_AFPA      8                              1   \n",
       "2               Test_pour_AFPA      9                              1   \n",
       "3               Test_pour_AFPA     10                              0   \n",
       "4               Test_pour_AFPA     11                              1   \n",
       "..                         ...    ...                            ...   \n",
       "227  WIN_20210417_14_53_12_Pro     10                              0   \n",
       "228  WIN_20210417_14_53_12_Pro     11                              0   \n",
       "229  WIN_20210417_14_53_12_Pro     12                              0   \n",
       "230  WIN_20210417_14_53_12_Pro     17                              0   \n",
       "231  WIN_20210417_14_53_12_Pro     18                              1   \n",
       "\n",
       "     audio_diapo_stress_prediction  text_diapo_stress_prediction  \n",
       "0                                0                             0  \n",
       "1                                0                             1  \n",
       "2                                0                             1  \n",
       "3                                0                             0  \n",
       "4                                0                             0  \n",
       "..                             ...                           ...  \n",
       "227                              0                             0  \n",
       "228                              0                             0  \n",
       "229                              0                             0  \n",
       "230                              0                             0  \n",
       "231                              1                             1  \n",
       "\n",
       "[232 rows x 5 columns]"
      ],
      "text/html": "<div>\n<style scoped>\n    .dataframe tbody tr th:only-of-type {\n        vertical-align: middle;\n    }\n\n    .dataframe tbody tr th {\n        vertical-align: top;\n    }\n\n    .dataframe thead th {\n        text-align: right;\n    }\n</style>\n<table border=\"1\" class=\"dataframe\">\n  <thead>\n    <tr style=\"text-align: right;\">\n      <th></th>\n      <th>video_name</th>\n      <th>diapo</th>\n      <th>video_diapo_stress_prediction</th>\n      <th>audio_diapo_stress_prediction</th>\n      <th>text_diapo_stress_prediction</th>\n    </tr>\n  </thead>\n  <tbody>\n    <tr>\n      <th>0</th>\n      <td>Test_pour_AFPA</td>\n      <td>1</td>\n      <td>0</td>\n      <td>0</td>\n      <td>0</td>\n    </tr>\n    <tr>\n      <th>1</th>\n      <td>Test_pour_AFPA</td>\n      <td>8</td>\n      <td>1</td>\n      <td>0</td>\n      <td>1</td>\n    </tr>\n    <tr>\n      <th>2</th>\n      <td>Test_pour_AFPA</td>\n      <td>9</td>\n      <td>1</td>\n      <td>0</td>\n      <td>1</td>\n    </tr>\n    <tr>\n      <th>3</th>\n      <td>Test_pour_AFPA</td>\n      <td>10</td>\n      <td>0</td>\n      <td>0</td>\n      <td>0</td>\n    </tr>\n    <tr>\n      <th>4</th>\n      <td>Test_pour_AFPA</td>\n      <td>11</td>\n      <td>1</td>\n      <td>0</td>\n      <td>0</td>\n    </tr>\n    <tr>\n      <th>...</th>\n      <td>...</td>\n      <td>...</td>\n      <td>...</td>\n      <td>...</td>\n      <td>...</td>\n    </tr>\n    <tr>\n      <th>227</th>\n      <td>WIN_20210417_14_53_12_Pro</td>\n      <td>10</td>\n      <td>0</td>\n      <td>0</td>\n      <td>0</td>\n    </tr>\n    <tr>\n      <th>228</th>\n      <td>WIN_20210417_14_53_12_Pro</td>\n      <td>11</td>\n      <td>0</td>\n      <td>0</td>\n      <td>0</td>\n    </tr>\n    <tr>\n      <th>229</th>\n      <td>WIN_20210417_14_53_12_Pro</td>\n      <td>12</td>\n      <td>0</td>\n      <td>0</td>\n      <td>0</td>\n    </tr>\n    <tr>\n      <th>230</th>\n      <td>WIN_20210417_14_53_12_Pro</td>\n      <td>17</td>\n      <td>0</td>\n      <td>0</td>\n      <td>0</td>\n    </tr>\n    <tr>\n      <th>231</th>\n      <td>WIN_20210417_14_53_12_Pro</td>\n      <td>18</td>\n      <td>1</td>\n      <td>1</td>\n      <td>1</td>\n    </tr>\n  </tbody>\n</table>\n<p>232 rows × 5 columns</p>\n</div>"
     },
     "metadata": {},
     "execution_count": 16
    }
   ],
   "source": [
    "def fillNaWithMax(row):\n",
    "    if pd.isna(row.text_diapo_stress_prediction):\n",
    "        return row.max_stress_predict\n",
    "    else:\n",
    "        return row.text_diapo_stress_prediction\n",
    "\n",
    "# text\n",
    "df_best_diapo_prediction = df_best_diapo_prediction.merge(df_text_best_diapo_prediction, \n",
    "                                how='left', on=['video_name','diapo']) \n",
    "df_best_diapo_prediction['max_stress_predict'] = df_best_diapo_prediction[['video_diapo_stress_prediction',             'audio_diapo_stress_prediction']].max(axis=1)\n",
    "df_best_diapo_prediction['text_diapo_stress_prediction'] = df_best_diapo_prediction.apply(lambda row: fillNaWithMax(row), axis=1)\n",
    "df_best_diapo_prediction['text_diapo_stress_prediction'] = df_best_diapo_prediction['text_diapo_stress_prediction'].astype(int)\n",
    "df_best_diapo_prediction = df_best_diapo_prediction.drop('max_stress_predict',axis=1)\n",
    "df_best_diapo_prediction"
   ]
  },
  {
   "cell_type": "code",
   "execution_count": 18,
   "metadata": {},
   "outputs": [
    {
     "output_type": "stream",
     "name": "stdout",
     "text": [
      "Fitting 5 folds for each of 20 candidates, totalling 100 fits\n",
      "[Parallel(n_jobs=-1)]: Using backend LokyBackend with 8 concurrent workers.\n",
      "[Parallel(n_jobs=-1)]: Done  56 tasks      | elapsed:    0.3s\n",
      "[Parallel(n_jobs=-1)]: Done 100 out of 100 | elapsed:    0.5s finished\n",
      "[Parallel(n_jobs=-1)]: Using backend LokyBackend with 8 concurrent workers.\n",
      "Best estimator LogisticRegression(C=0.1, multi_class='multinomial', random_state=42)\n",
      "Best results 0.46680215807197084\n",
      "Best params {'C': 0.1, 'class_weight': None}\n",
      "accuracy (mean, std) 0.5001850138760406 0.09955379883801681\n",
      "f1 (mean, std) 0.46680215807197084 0.09616123426150391\n",
      "balanced accuracy (mean, std) 0.3521789321789322 0.06077296813653434\n",
      "precision (mean, std) 0.4499169533366561 0.09407364272479181\n",
      "recall (mean, std) 0.5001850138760406 0.09955379883801681\n",
      "\n",
      "Fitting 5 folds for each of 80 candidates, totalling 400 fits\n",
      "[Parallel(n_jobs=-1)]: Done  56 tasks      | elapsed:    0.4s\n",
      "[Parallel(n_jobs=-1)]: Done 400 out of 400 | elapsed:    1.2s finished\n",
      "[Parallel(n_jobs=-1)]: Using backend LokyBackend with 8 concurrent workers.\n",
      "Best estimator Pipeline(steps=[('pca', PCA(n_components=2)),\n",
      "                ('logistic',\n",
      "                 LogisticRegression(C=0.1, multi_class='multinomial'))])\n",
      "Best results 0.46680215807197084\n",
      "Best params {'logistic__C': 0.1, 'logistic__class_weight': None, 'pca__n_components': 2}\n",
      "accuracy (mean, std) 0.5001850138760406 0.09955379883801681\n",
      "f1 (mean, std) 0.46680215807197084 0.09616123426150391\n",
      "balanced accuracy (mean, std) 0.3521789321789322 0.06077296813653434\n",
      "precision (mean, std) 0.4499169533366561 0.09407364272479181\n",
      "recall (mean, std) 0.5001850138760406 0.09955379883801681\n",
      "\n",
      "Fitting 5 folds for each of 44 candidates, totalling 220 fits\n",
      "[Parallel(n_jobs=-1)]: Done  56 tasks      | elapsed:    0.3s\n",
      "[Parallel(n_jobs=-1)]: Done 205 out of 220 | elapsed:    0.7s remaining:    0.1s\n",
      "[Parallel(n_jobs=-1)]: Done 220 out of 220 | elapsed:    0.7s finished\n",
      "[Parallel(n_jobs=-1)]: Using backend LokyBackend with 8 concurrent workers.\n",
      "Best estimator KNeighborsClassifier(n_neighbors=10, p=1, weights='distance')\n",
      "Best results 0.4763590368242827\n",
      "Best params {'n_neighbors': 10, 'p': 1, 'weights': 'distance'}\n",
      "accuracy (mean, std) 0.4962072155411656 0.08338226663235969\n",
      "f1 (mean, std) 0.4763590368242827 0.08122477279963294\n",
      "balanced accuracy (mean, std) 0.4042424242424243 0.11185927532068159\n",
      "precision (mean, std) 0.5178953970099737 0.06621595717471579\n",
      "recall (mean, std) 0.4962072155411656 0.08338226663235969\n",
      "\n",
      "Fitting 5 folds for each of 176 candidates, totalling 880 fits\n",
      "[Parallel(n_jobs=-1)]: Done  56 tasks      | elapsed:    0.3s\n",
      "[Parallel(n_jobs=-1)]: Done 848 tasks      | elapsed:    1.9s\n",
      "[Parallel(n_jobs=-1)]: Done 880 out of 880 | elapsed:    1.9s finished\n",
      "[Parallel(n_jobs=-1)]: Using backend LokyBackend with 8 concurrent workers.\n",
      "Best estimator Pipeline(steps=[('pca', PCA(n_components=2)),\n",
      "                ('knn',\n",
      "                 KNeighborsClassifier(n_neighbors=20, p=1,\n",
      "                                      weights='distance'))])\n",
      "Best results 0.5262059319605026\n",
      "Best params {'knn__n_neighbors': 20, 'knn__p': 1, 'knn__weights': 'distance', 'pca__n_components': 2}\n",
      "accuracy (mean, std) 0.5470860314523589 0.05887643296052362\n",
      "f1 (mean, std) 0.5262059319605026 0.06991960642620056\n",
      "balanced accuracy (mean, std) 0.4387445887445887 0.10245935188142702\n",
      "precision (mean, std) 0.5523732309135843 0.0663304206045799\n",
      "recall (mean, std) 0.5470860314523589 0.05887643296052362\n",
      "\n",
      "Fitting 5 folds for each of 56 candidates, totalling 280 fits\n",
      "[Parallel(n_jobs=-1)]: Done  34 tasks      | elapsed:    2.4s\n",
      "[Parallel(n_jobs=-1)]: Done 184 tasks      | elapsed:   11.9s\n",
      "Best estimator RandomForestClassifier(max_depth=3, n_estimators=50, n_jobs=-1, random_state=42)\n",
      "Best results 0.5175546463896981\n",
      "Best params {'class_weight': None, 'max_depth': 3, 'n_estimators': 50}\n",
      "accuracy (mean, std) 0.5430157261794635 0.050808967275985106\n",
      "f1 (mean, std) 0.5175546463896981 0.06022244823656584\n",
      "balanced accuracy (mean, std) 0.4381818181818182 0.0954312986300355\n",
      "precision (mean, std) 0.555278547151463 0.04656191564379601\n",
      "recall (mean, std) 0.5430157261794635 0.050808967275985106\n",
      "\n",
      "f1_score (weighted) 0.5362228638090707\n",
      "accuracy 0.5474137931034483\n",
      "[Parallel(n_jobs=-1)]: Done 280 out of 280 | elapsed:   18.0s finished\n"
     ]
    }
   ],
   "source": [
    "groups = X.reset_index()['video_name']\n",
    "loo = LeaveOneGroupOut()\n",
    "cv_loo = loo.split(X, y, groups)\n",
    "\n",
    "best_result, y_predict, y_predict_proba, result_list = runGridSearchClassifiers(X, y, 5, models_list, parameters_list,                                                      output_predict=True, n_jobs=-1, verbose=True)"
   ]
  },
  {
   "cell_type": "code",
   "execution_count": 19,
   "metadata": {},
   "outputs": [
    {
     "output_type": "execute_result",
     "data": {
      "text/plain": [
       "{'best_estimator': Pipeline(steps=[('pca', PCA(n_components=2)),\n",
       "                 ('knn',\n",
       "                  KNeighborsClassifier(n_neighbors=20, p=1,\n",
       "                                       weights='distance'))]),\n",
       " 'best_score': 0.5262059319605026,\n",
       " 'best_params': {'knn__n_neighbors': 20,\n",
       "  'knn__p': 1,\n",
       "  'knn__weights': 'distance',\n",
       "  'pca__n_components': 2},\n",
       " 'mean_test_f1_score': 0.5262059319605026,\n",
       " 'std_test_f1_score': 0.06991960642620056,\n",
       " 'mean_test_accuracy_score': 0.5470860314523589,\n",
       " 'std_test_accuracy_score': 0.05887643296052362,\n",
       " 'mean_test_balanced_accuracy_score': 0.4387445887445887,\n",
       " 'std_test_balanced_accuracy_score': 0.10245935188142702,\n",
       " 'mean_test_precision': 0.5523732309135843,\n",
       " 'std_test_precision': 0.0663304206045799,\n",
       " 'mean_test_recall': 0.5470860314523589,\n",
       " 'std_test_recall': 0.05887643296052362}"
      ]
     },
     "metadata": {},
     "execution_count": 19
    }
   ],
   "source": [
    "best_result"
   ]
  },
  {
   "source": [
    "#### Autre preprocessing"
   ],
   "cell_type": "markdown",
   "metadata": {}
  },
  {
   "cell_type": "code",
   "execution_count": 41,
   "metadata": {},
   "outputs": [],
   "source": [
    "df_best_diapo_prediction = df_video_best_diapo_prediction.merge(df_audio_best_diapo_prediction, \n",
    "                                how='inner', on=['video_name','diapo']) \n",
    "df_best_diapo_prediction = df_best_diapo_prediction.merge(df_text_best_diapo_prediction, \n",
    "                                how='left', on=['video_name','diapo']) "
   ]
  },
  {
   "cell_type": "code",
   "execution_count": 42,
   "metadata": {},
   "outputs": [
    {
     "output_type": "execute_result",
     "data": {
      "text/plain": [
       "                    video_name  diapo         0         1    2    3\n",
       "0               Test_pour_AFPA      1  1.000000  0.000000  0.0  0.0\n",
       "1               Test_pour_AFPA      8  0.333333  0.666667  0.0  0.0\n",
       "2               Test_pour_AFPA      9  0.333333  0.666667  0.0  0.0\n",
       "3               Test_pour_AFPA     10  1.000000  0.000000  0.0  0.0\n",
       "4               Test_pour_AFPA     11  0.666667  0.333333  0.0  0.0\n",
       "..                         ...    ...       ...       ...  ...  ...\n",
       "227  WIN_20210417_14_53_12_Pro     10  1.000000  0.000000  0.0  0.0\n",
       "228  WIN_20210417_14_53_12_Pro     11  1.000000  0.000000  0.0  0.0\n",
       "229  WIN_20210417_14_53_12_Pro     12  1.000000  0.000000  0.0  0.0\n",
       "230  WIN_20210417_14_53_12_Pro     17  1.000000  0.000000  0.0  0.0\n",
       "231  WIN_20210417_14_53_12_Pro     18  0.000000  1.000000  0.0  0.0\n",
       "\n",
       "[232 rows x 6 columns]"
      ],
      "text/html": "<div>\n<style scoped>\n    .dataframe tbody tr th:only-of-type {\n        vertical-align: middle;\n    }\n\n    .dataframe tbody tr th {\n        vertical-align: top;\n    }\n\n    .dataframe thead th {\n        text-align: right;\n    }\n</style>\n<table border=\"1\" class=\"dataframe\">\n  <thead>\n    <tr style=\"text-align: right;\">\n      <th></th>\n      <th>video_name</th>\n      <th>diapo</th>\n      <th>0</th>\n      <th>1</th>\n      <th>2</th>\n      <th>3</th>\n    </tr>\n  </thead>\n  <tbody>\n    <tr>\n      <th>0</th>\n      <td>Test_pour_AFPA</td>\n      <td>1</td>\n      <td>1.000000</td>\n      <td>0.000000</td>\n      <td>0.0</td>\n      <td>0.0</td>\n    </tr>\n    <tr>\n      <th>1</th>\n      <td>Test_pour_AFPA</td>\n      <td>8</td>\n      <td>0.333333</td>\n      <td>0.666667</td>\n      <td>0.0</td>\n      <td>0.0</td>\n    </tr>\n    <tr>\n      <th>2</th>\n      <td>Test_pour_AFPA</td>\n      <td>9</td>\n      <td>0.333333</td>\n      <td>0.666667</td>\n      <td>0.0</td>\n      <td>0.0</td>\n    </tr>\n    <tr>\n      <th>3</th>\n      <td>Test_pour_AFPA</td>\n      <td>10</td>\n      <td>1.000000</td>\n      <td>0.000000</td>\n      <td>0.0</td>\n      <td>0.0</td>\n    </tr>\n    <tr>\n      <th>4</th>\n      <td>Test_pour_AFPA</td>\n      <td>11</td>\n      <td>0.666667</td>\n      <td>0.333333</td>\n      <td>0.0</td>\n      <td>0.0</td>\n    </tr>\n    <tr>\n      <th>...</th>\n      <td>...</td>\n      <td>...</td>\n      <td>...</td>\n      <td>...</td>\n      <td>...</td>\n      <td>...</td>\n    </tr>\n    <tr>\n      <th>227</th>\n      <td>WIN_20210417_14_53_12_Pro</td>\n      <td>10</td>\n      <td>1.000000</td>\n      <td>0.000000</td>\n      <td>0.0</td>\n      <td>0.0</td>\n    </tr>\n    <tr>\n      <th>228</th>\n      <td>WIN_20210417_14_53_12_Pro</td>\n      <td>11</td>\n      <td>1.000000</td>\n      <td>0.000000</td>\n      <td>0.0</td>\n      <td>0.0</td>\n    </tr>\n    <tr>\n      <th>229</th>\n      <td>WIN_20210417_14_53_12_Pro</td>\n      <td>12</td>\n      <td>1.000000</td>\n      <td>0.000000</td>\n      <td>0.0</td>\n      <td>0.0</td>\n    </tr>\n    <tr>\n      <th>230</th>\n      <td>WIN_20210417_14_53_12_Pro</td>\n      <td>17</td>\n      <td>1.000000</td>\n      <td>0.000000</td>\n      <td>0.0</td>\n      <td>0.0</td>\n    </tr>\n    <tr>\n      <th>231</th>\n      <td>WIN_20210417_14_53_12_Pro</td>\n      <td>18</td>\n      <td>0.000000</td>\n      <td>1.000000</td>\n      <td>0.0</td>\n      <td>0.0</td>\n    </tr>\n  </tbody>\n</table>\n<p>232 rows × 6 columns</p>\n</div>"
     },
     "metadata": {},
     "execution_count": 42
    }
   ],
   "source": [
    "def countStress(row):\n",
    "    counter = {'0':0, '1':0, '2':0, '3':0}\n",
    "    nb_stress = 0\n",
    "    if not pd.isna(row.video_diapo_stress_prediction):\n",
    "        counter[str(row.video_diapo_stress_prediction)] += 1\n",
    "        nb_stress += 1\n",
    "    if not pd.isna(row.audio_diapo_stress_prediction):\n",
    "        counter[str(row.audio_diapo_stress_prediction)] += 1\n",
    "        nb_stress += 1\n",
    "    if not pd.isna(row.text_diapo_stress_prediction):\n",
    "        counter[str(int(row.text_diapo_stress_prediction))] += 1\n",
    "        nb_stress += 1\n",
    "    \n",
    "    results = [0, 0, 0, 0]\n",
    "    for stress, count in counter.items():\n",
    "        results[int(stress)] = count/nb_stress\n",
    "\n",
    "    return results\n",
    "      \n",
    "\n",
    "df_best_diapo_prediction[['0','1','2','3']] = df_best_diapo_prediction.apply(lambda row : countStress(row),axis=1, result_type='expand')\n",
    "df_best_diapo_prediction = df_best_diapo_prediction.drop(['video_diapo_stress_prediction','audio_diapo_stress_prediction','text_diapo_stress_prediction'],axis=1)\n",
    "df_best_diapo_prediction"
   ]
  },
  {
   "cell_type": "code",
   "execution_count": 43,
   "metadata": {},
   "outputs": [],
   "source": [
    "df_best_diapo_prediction = df_best_diapo_prediction.merge(df_annotations_stress_diapo, on=['video_name','diapo'])\n",
    "X = df_best_diapo_prediction.iloc[:,:-1].set_index(['video_name','diapo'])\n",
    "y = df_best_diapo_prediction.iloc[:,-1]"
   ]
  },
  {
   "cell_type": "code",
   "execution_count": 44,
   "metadata": {},
   "outputs": [
    {
     "output_type": "stream",
     "name": "stdout",
     "text": [
      "Fitting 5 folds for each of 20 candidates, totalling 100 fits\n",
      "[Parallel(n_jobs=-1)]: Using backend LokyBackend with 8 concurrent workers.\n",
      "[Parallel(n_jobs=-1)]: Done  34 tasks      | elapsed:    2.3s\n",
      "[Parallel(n_jobs=-1)]: Done 100 out of 100 | elapsed:    2.8s finished\n",
      "[Parallel(n_jobs=-1)]: Using backend LokyBackend with 8 concurrent workers.\n",
      "Best estimator LogisticRegression(C=2, multi_class='multinomial', random_state=42)\n",
      "Best results 0.545497051854358\n",
      "Best params {'C': 2, 'class_weight': None}\n",
      "accuracy (mean, std) 0.5604995374653099 0.048524628748651266\n",
      "f1 (mean, std) 0.545497051854358 0.051754781655823305\n",
      "balanced accuracy (mean, std) 0.44604617604617597 0.09597526589283155\n",
      "precision (mean, std) 0.5702968671754383 0.054642416786790445\n",
      "recall (mean, std) 0.5604995374653099 0.048524628748651266\n",
      "\n",
      "Fitting 5 folds for each of 80 candidates, totalling 400 fits\n",
      "[Parallel(n_jobs=-1)]: Done  56 tasks      | elapsed:    0.4s\n",
      "[Parallel(n_jobs=-1)]: Done 400 out of 400 | elapsed:    1.8s finished\n",
      "[Parallel(n_jobs=-1)]: Using backend LokyBackend with 8 concurrent workers.\n",
      "Best estimator Pipeline(steps=[('pca', PCA(n_components=2)),\n",
      "                ('logistic',\n",
      "                 LogisticRegression(C=2, multi_class='multinomial'))])\n",
      "Best results 0.545497051854358\n",
      "Best params {'logistic__C': 2, 'logistic__class_weight': None, 'pca__n_components': 2}\n",
      "accuracy (mean, std) 0.5604995374653099 0.048524628748651266\n",
      "f1 (mean, std) 0.545497051854358 0.051754781655823305\n",
      "balanced accuracy (mean, std) 0.44604617604617597 0.09597526589283155\n",
      "precision (mean, std) 0.5702968671754383 0.054642416786790445\n",
      "recall (mean, std) 0.5604995374653099 0.048524628748651266\n",
      "\n",
      "Fitting 5 folds for each of 44 candidates, totalling 220 fits\n",
      "[Parallel(n_jobs=-1)]: Done  56 tasks      | elapsed:    0.3s\n",
      "[Parallel(n_jobs=-1)]: Done 220 out of 220 | elapsed:    0.7s finished\n",
      "[Parallel(n_jobs=-1)]: Using backend LokyBackend with 8 concurrent workers.\n",
      "Best estimator KNeighborsClassifier(n_neighbors=20)\n",
      "Best results 0.5302631822018914\n",
      "Best params {'n_neighbors': 20, 'p': 2, 'weights': 'uniform'}\n",
      "accuracy (mean, std) 0.5690101757631822 0.061736444154498145\n",
      "f1 (mean, std) 0.5302631822018914 0.06573710561825741\n",
      "balanced accuracy (mean, std) 0.4435930735930736 0.08637678632553755\n",
      "precision (mean, std) 0.5628395383375837 0.07590977002836162\n",
      "recall (mean, std) 0.5690101757631822 0.061736444154498145\n",
      "\n",
      "Fitting 5 folds for each of 176 candidates, totalling 880 fits\n",
      "[Parallel(n_jobs=-1)]: Done  56 tasks      | elapsed:    0.3s\n",
      "[Parallel(n_jobs=-1)]: Done 880 out of 880 | elapsed:    2.7s finished\n",
      "[Parallel(n_jobs=-1)]: Using backend LokyBackend with 8 concurrent workers.\n",
      "Best estimator Pipeline(steps=[('pca', PCA(n_components=3)),\n",
      "                ('knn',\n",
      "                 KNeighborsClassifier(n_neighbors=20, weights='distance'))])\n",
      "Best results 0.5376255971712534\n",
      "Best params {'knn__n_neighbors': 20, 'knn__p': 2, 'knn__weights': 'distance', 'pca__n_components': 3}\n",
      "accuracy (mean, std) 0.5562442183163737 0.06306883960724954\n",
      "f1 (mean, std) 0.5376255971712534 0.07415210656049843\n",
      "balanced accuracy (mean, std) 0.4354978354978355 0.10980381024895461\n",
      "precision (mean, std) 0.5510571525611142 0.0860427414226407\n",
      "recall (mean, std) 0.5562442183163737 0.06306883960724954\n",
      "\n",
      "Fitting 5 folds for each of 56 candidates, totalling 280 fits\n",
      "[Parallel(n_jobs=-1)]: Done  34 tasks      | elapsed:    2.4s\n",
      "[Parallel(n_jobs=-1)]: Done 184 tasks      | elapsed:   13.1s\n",
      "[Parallel(n_jobs=-1)]: Done 280 out of 280 | elapsed:   19.0s finished\n",
      "Best estimator RandomForestClassifier(max_depth=3, n_jobs=-1, random_state=42)\n",
      "Best results 0.5263513750988655\n",
      "Best params {'class_weight': None, 'max_depth': 3, 'n_estimators': 100}\n",
      "accuracy (mean, std) 0.5518963922294172 0.05149770759136271\n",
      "f1 (mean, std) 0.5263513750988655 0.06673715278094361\n",
      "balanced accuracy (mean, std) 0.4337518037518038 0.0968906153001718\n",
      "precision (mean, std) 0.5442036722324308 0.06663540632649892\n",
      "recall (mean, std) 0.5518963922294172 0.05149770759136271\n",
      "\n",
      "f1_score (weighted) 0.5482046034746331\n",
      "accuracy 0.5603448275862069\n"
     ]
    }
   ],
   "source": [
    "groups = X.reset_index()['video_name']\n",
    "loo = LeaveOneGroupOut()\n",
    "cv_loo = loo.split(X, y, groups)\n",
    "\n",
    "best_result, y_predict, y_predict_proba, result_list = runGridSearchClassifiers(X, y, 5, models_list, parameters_list,                                                      output_predict=True, n_jobs=-1, verbose=True)"
   ]
  },
  {
   "cell_type": "code",
   "execution_count": 45,
   "metadata": {},
   "outputs": [
    {
     "output_type": "execute_result",
     "data": {
      "text/plain": [
       "{'best_estimator': LogisticRegression(C=2, multi_class='multinomial', random_state=42),\n",
       " 'best_score': 0.545497051854358,\n",
       " 'best_params': {'C': 2, 'class_weight': None},\n",
       " 'mean_test_f1_score': 0.545497051854358,\n",
       " 'std_test_f1_score': 0.051754781655823305,\n",
       " 'mean_test_accuracy_score': 0.5604995374653099,\n",
       " 'std_test_accuracy_score': 0.048524628748651266,\n",
       " 'mean_test_balanced_accuracy_score': 0.44604617604617597,\n",
       " 'std_test_balanced_accuracy_score': 0.09597526589283155,\n",
       " 'mean_test_precision': 0.5702968671754383,\n",
       " 'std_test_precision': 0.054642416786790445,\n",
       " 'mean_test_recall': 0.5604995374653099,\n",
       " 'std_test_recall': 0.048524628748651266}"
      ]
     },
     "metadata": {},
     "execution_count": 45
    }
   ],
   "source": [
    "best_result"
   ]
  },
  {
   "source": [
    "## Vidéo + audio only"
   ],
   "cell_type": "markdown",
   "metadata": {}
  },
  {
   "cell_type": "code",
   "execution_count": 49,
   "metadata": {},
   "outputs": [
    {
     "output_type": "execute_result",
     "data": {
      "text/plain": [
       "                    video_name  diapo  video_diapo_stress_prediction  \\\n",
       "0               Test_pour_AFPA      1                              0   \n",
       "1               Test_pour_AFPA      8                              1   \n",
       "2               Test_pour_AFPA      9                              1   \n",
       "3               Test_pour_AFPA     10                              0   \n",
       "4               Test_pour_AFPA     11                              1   \n",
       "..                         ...    ...                            ...   \n",
       "227  WIN_20210417_14_53_12_Pro     10                              0   \n",
       "228  WIN_20210417_14_53_12_Pro     11                              0   \n",
       "229  WIN_20210417_14_53_12_Pro     12                              0   \n",
       "230  WIN_20210417_14_53_12_Pro     17                              0   \n",
       "231  WIN_20210417_14_53_12_Pro     18                              1   \n",
       "\n",
       "     audio_diapo_stress_prediction  \n",
       "0                              NaN  \n",
       "1                              1.0  \n",
       "2                              1.0  \n",
       "3                              0.0  \n",
       "4                              1.0  \n",
       "..                             ...  \n",
       "227                            0.0  \n",
       "228                            0.0  \n",
       "229                            NaN  \n",
       "230                            1.0  \n",
       "231                            NaN  \n",
       "\n",
       "[232 rows x 4 columns]"
      ],
      "text/html": "<div>\n<style scoped>\n    .dataframe tbody tr th:only-of-type {\n        vertical-align: middle;\n    }\n\n    .dataframe tbody tr th {\n        vertical-align: top;\n    }\n\n    .dataframe thead th {\n        text-align: right;\n    }\n</style>\n<table border=\"1\" class=\"dataframe\">\n  <thead>\n    <tr style=\"text-align: right;\">\n      <th></th>\n      <th>video_name</th>\n      <th>diapo</th>\n      <th>video_diapo_stress_prediction</th>\n      <th>audio_diapo_stress_prediction</th>\n    </tr>\n  </thead>\n  <tbody>\n    <tr>\n      <th>0</th>\n      <td>Test_pour_AFPA</td>\n      <td>1</td>\n      <td>0</td>\n      <td>NaN</td>\n    </tr>\n    <tr>\n      <th>1</th>\n      <td>Test_pour_AFPA</td>\n      <td>8</td>\n      <td>1</td>\n      <td>1.0</td>\n    </tr>\n    <tr>\n      <th>2</th>\n      <td>Test_pour_AFPA</td>\n      <td>9</td>\n      <td>1</td>\n      <td>1.0</td>\n    </tr>\n    <tr>\n      <th>3</th>\n      <td>Test_pour_AFPA</td>\n      <td>10</td>\n      <td>0</td>\n      <td>0.0</td>\n    </tr>\n    <tr>\n      <th>4</th>\n      <td>Test_pour_AFPA</td>\n      <td>11</td>\n      <td>1</td>\n      <td>1.0</td>\n    </tr>\n    <tr>\n      <th>...</th>\n      <td>...</td>\n      <td>...</td>\n      <td>...</td>\n      <td>...</td>\n    </tr>\n    <tr>\n      <th>227</th>\n      <td>WIN_20210417_14_53_12_Pro</td>\n      <td>10</td>\n      <td>0</td>\n      <td>0.0</td>\n    </tr>\n    <tr>\n      <th>228</th>\n      <td>WIN_20210417_14_53_12_Pro</td>\n      <td>11</td>\n      <td>0</td>\n      <td>0.0</td>\n    </tr>\n    <tr>\n      <th>229</th>\n      <td>WIN_20210417_14_53_12_Pro</td>\n      <td>12</td>\n      <td>0</td>\n      <td>NaN</td>\n    </tr>\n    <tr>\n      <th>230</th>\n      <td>WIN_20210417_14_53_12_Pro</td>\n      <td>17</td>\n      <td>0</td>\n      <td>1.0</td>\n    </tr>\n    <tr>\n      <th>231</th>\n      <td>WIN_20210417_14_53_12_Pro</td>\n      <td>18</td>\n      <td>1</td>\n      <td>NaN</td>\n    </tr>\n  </tbody>\n</table>\n<p>232 rows × 4 columns</p>\n</div>"
     },
     "metadata": {},
     "execution_count": 49
    }
   ],
   "source": [
    "df_best_diapo_prediction = df_video_best_diapo_prediction.merge(df_audio_only_best_diapo_prediction, \n",
    "                                how='left', on=['video_name','diapo']) \n",
    "df_best_diapo_prediction"
   ]
  },
  {
   "cell_type": "code",
   "execution_count": 51,
   "metadata": {},
   "outputs": [
    {
     "output_type": "execute_result",
     "data": {
      "text/plain": [
       "                    video_name  diapo  video_diapo_stress_prediction  \\\n",
       "0               Test_pour_AFPA      1                              0   \n",
       "1               Test_pour_AFPA      8                              1   \n",
       "2               Test_pour_AFPA      9                              1   \n",
       "3               Test_pour_AFPA     10                              0   \n",
       "4               Test_pour_AFPA     11                              1   \n",
       "..                         ...    ...                            ...   \n",
       "227  WIN_20210417_14_53_12_Pro     10                              0   \n",
       "228  WIN_20210417_14_53_12_Pro     11                              0   \n",
       "229  WIN_20210417_14_53_12_Pro     12                              0   \n",
       "230  WIN_20210417_14_53_12_Pro     17                              0   \n",
       "231  WIN_20210417_14_53_12_Pro     18                              1   \n",
       "\n",
       "     audio_diapo_stress_prediction  \n",
       "0                                0  \n",
       "1                                1  \n",
       "2                                1  \n",
       "3                                0  \n",
       "4                                1  \n",
       "..                             ...  \n",
       "227                              0  \n",
       "228                              0  \n",
       "229                              0  \n",
       "230                              1  \n",
       "231                              1  \n",
       "\n",
       "[232 rows x 4 columns]"
      ],
      "text/html": "<div>\n<style scoped>\n    .dataframe tbody tr th:only-of-type {\n        vertical-align: middle;\n    }\n\n    .dataframe tbody tr th {\n        vertical-align: top;\n    }\n\n    .dataframe thead th {\n        text-align: right;\n    }\n</style>\n<table border=\"1\" class=\"dataframe\">\n  <thead>\n    <tr style=\"text-align: right;\">\n      <th></th>\n      <th>video_name</th>\n      <th>diapo</th>\n      <th>video_diapo_stress_prediction</th>\n      <th>audio_diapo_stress_prediction</th>\n    </tr>\n  </thead>\n  <tbody>\n    <tr>\n      <th>0</th>\n      <td>Test_pour_AFPA</td>\n      <td>1</td>\n      <td>0</td>\n      <td>0</td>\n    </tr>\n    <tr>\n      <th>1</th>\n      <td>Test_pour_AFPA</td>\n      <td>8</td>\n      <td>1</td>\n      <td>1</td>\n    </tr>\n    <tr>\n      <th>2</th>\n      <td>Test_pour_AFPA</td>\n      <td>9</td>\n      <td>1</td>\n      <td>1</td>\n    </tr>\n    <tr>\n      <th>3</th>\n      <td>Test_pour_AFPA</td>\n      <td>10</td>\n      <td>0</td>\n      <td>0</td>\n    </tr>\n    <tr>\n      <th>4</th>\n      <td>Test_pour_AFPA</td>\n      <td>11</td>\n      <td>1</td>\n      <td>1</td>\n    </tr>\n    <tr>\n      <th>...</th>\n      <td>...</td>\n      <td>...</td>\n      <td>...</td>\n      <td>...</td>\n    </tr>\n    <tr>\n      <th>227</th>\n      <td>WIN_20210417_14_53_12_Pro</td>\n      <td>10</td>\n      <td>0</td>\n      <td>0</td>\n    </tr>\n    <tr>\n      <th>228</th>\n      <td>WIN_20210417_14_53_12_Pro</td>\n      <td>11</td>\n      <td>0</td>\n      <td>0</td>\n    </tr>\n    <tr>\n      <th>229</th>\n      <td>WIN_20210417_14_53_12_Pro</td>\n      <td>12</td>\n      <td>0</td>\n      <td>0</td>\n    </tr>\n    <tr>\n      <th>230</th>\n      <td>WIN_20210417_14_53_12_Pro</td>\n      <td>17</td>\n      <td>0</td>\n      <td>1</td>\n    </tr>\n    <tr>\n      <th>231</th>\n      <td>WIN_20210417_14_53_12_Pro</td>\n      <td>18</td>\n      <td>1</td>\n      <td>1</td>\n    </tr>\n  </tbody>\n</table>\n<p>232 rows × 4 columns</p>\n</div>"
     },
     "metadata": {},
     "execution_count": 51
    }
   ],
   "source": [
    "def fillNaWithMaxAudio(row):\n",
    "    if pd.isna(row.audio_diapo_stress_prediction):\n",
    "        return row.video_diapo_stress_prediction\n",
    "    else:\n",
    "        return row.audio_diapo_stress_prediction\n",
    "\n",
    "df_best_diapo_prediction['audio_diapo_stress_prediction'] = df_best_diapo_prediction.apply(lambda row: fillNaWithMaxAudio(row), axis=1)\n",
    "df_best_diapo_prediction['audio_diapo_stress_prediction'] = df_best_diapo_prediction['audio_diapo_stress_prediction'].astype(int)\n",
    "df_best_diapo_prediction"
   ]
  },
  {
   "cell_type": "code",
   "execution_count": 52,
   "metadata": {},
   "outputs": [],
   "source": [
    "df_best_diapo_prediction = df_best_diapo_prediction.merge(df_annotations_stress_diapo, on=['video_name','diapo'])\n",
    "X = df_best_diapo_prediction.iloc[:,:-1].set_index(['video_name','diapo'])\n",
    "y = df_best_diapo_prediction.iloc[:,-1]"
   ]
  },
  {
   "cell_type": "code",
   "execution_count": 53,
   "metadata": {},
   "outputs": [
    {
     "output_type": "stream",
     "name": "stdout",
     "text": [
      "Fitting 5 folds for each of 20 candidates, totalling 100 fits\n",
      "[Parallel(n_jobs=-1)]: Using backend LokyBackend with 8 concurrent workers.\n",
      "[Parallel(n_jobs=-1)]: Done  34 tasks      | elapsed:    2.2s\n",
      "[Parallel(n_jobs=-1)]: Done  85 out of 100 | elapsed:    2.5s remaining:    0.4s\n",
      "[Parallel(n_jobs=-1)]: Done 100 out of 100 | elapsed:    2.6s finished\n",
      "[Parallel(n_jobs=-1)]: Using backend LokyBackend with 8 concurrent workers.\n",
      "Best estimator LogisticRegression(C=0.01, multi_class='multinomial', random_state=42)\n",
      "Best results 0.512692735901698\n",
      "Best params {'C': 0.01, 'class_weight': None}\n",
      "accuracy (mean, std) 0.5469010175763183 0.06869884362651227\n",
      "f1 (mean, std) 0.512692735901698 0.06383832053593287\n",
      "balanced accuracy (mean, std) 0.3832756132756133 0.039289709831705995\n",
      "precision (mean, std) 0.4915714460788466 0.06382330836387479\n",
      "recall (mean, std) 0.5469010175763183 0.06869884362651227\n",
      "\n",
      "Fitting 5 folds for each of 80 candidates, totalling 400 fits\n",
      "[Parallel(n_jobs=-1)]: Done  56 tasks      | elapsed:    0.4s\n",
      "[Parallel(n_jobs=-1)]: Done 400 out of 400 | elapsed:    1.3s finished\n",
      "[Parallel(n_jobs=-1)]: Using backend LokyBackend with 8 concurrent workers.\n",
      "Best estimator Pipeline(steps=[('pca', PCA(n_components=1)),\n",
      "                ('logistic',\n",
      "                 LogisticRegression(C=0.01, multi_class='multinomial'))])\n",
      "Best results 0.512692735901698\n",
      "Best params {'logistic__C': 0.01, 'logistic__class_weight': None, 'pca__n_components': 1}\n",
      "accuracy (mean, std) 0.5469010175763183 0.06869884362651227\n",
      "f1 (mean, std) 0.512692735901698 0.06383832053593287\n",
      "balanced accuracy (mean, std) 0.3832756132756133 0.039289709831705995\n",
      "precision (mean, std) 0.4915714460788466 0.06382330836387479\n",
      "recall (mean, std) 0.5469010175763183 0.06869884362651227\n",
      "\n",
      "Fitting 5 folds for each of 44 candidates, totalling 220 fits\n",
      "[Parallel(n_jobs=-1)]: Done  56 tasks      | elapsed:    0.3s\n",
      "[Parallel(n_jobs=-1)]: Done 220 out of 220 | elapsed:    0.7s finished\n",
      "[Parallel(n_jobs=-1)]: Using backend LokyBackend with 8 concurrent workers.\n",
      "Best estimator KNeighborsClassifier(n_neighbors=20, p=1)\n",
      "Best results 0.44998843164890506\n",
      "Best params {'n_neighbors': 20, 'p': 1, 'weights': 'uniform'}\n",
      "accuracy (mean, std) 0.4912118408880666 0.09619609627624617\n",
      "f1 (mean, std) 0.44998843164890506 0.09719756380961234\n",
      "balanced accuracy (mean, std) 0.35223665223665224 0.08667089994413514\n",
      "precision (mean, std) 0.44000491704977857 0.08945248455812031\n",
      "recall (mean, std) 0.4912118408880666 0.09619609627624617\n",
      "\n",
      "Fitting 5 folds for each of 176 candidates, totalling 880 fits\n",
      "[Parallel(n_jobs=-1)]: Done  56 tasks      | elapsed:    0.3s\n",
      "[Parallel(n_jobs=-1)]: Done 880 out of 880 | elapsed:    2.2s finished\n",
      "[Parallel(n_jobs=-1)]: Using backend LokyBackend with 8 concurrent workers.\n",
      "Best estimator Pipeline(steps=[('pca', PCA(n_components=2)),\n",
      "                ('knn', KNeighborsClassifier(n_neighbors=11, p=1))])\n",
      "Best results 0.5033388127665539\n",
      "Best params {'knn__n_neighbors': 11, 'knn__p': 1, 'knn__weights': 'uniform', 'pca__n_components': 2}\n",
      "accuracy (mean, std) 0.5425531914893617 0.060751074749360055\n",
      "f1 (mean, std) 0.5033388127665539 0.061926952907690784\n",
      "balanced accuracy (mean, std) 0.3815295815295816 0.02803945261758903\n",
      "precision (mean, std) 0.4929539478045977 0.05282007899336006\n",
      "recall (mean, std) 0.5425531914893617 0.060751074749360055\n",
      "\n",
      "Fitting 5 folds for each of 56 candidates, totalling 280 fits\n",
      "[Parallel(n_jobs=-1)]: Done  34 tasks      | elapsed:    2.7s\n",
      "[Parallel(n_jobs=-1)]: Done 184 tasks      | elapsed:   12.3s\n",
      "Best estimator RandomForestClassifier(max_depth=4, n_estimators=50, n_jobs=-1, random_state=42)\n",
      "Best results 0.4889242382799167\n",
      "Best params {'class_weight': None, 'max_depth': 4, 'n_estimators': 50}\n",
      "accuracy (mean, std) 0.5209065679925995 0.09730322828394818\n",
      "f1 (mean, std) 0.4889242382799167 0.09138281967598186\n",
      "balanced accuracy (mean, std) 0.3661327561327562 0.0673883466043824\n",
      "precision (mean, std) 0.4673876924801994 0.09027283549326517\n",
      "recall (mean, std) 0.5209065679925995 0.09730322828394818\n",
      "\n",
      "f1_score (weighted) 0.5143145327533406\n",
      "accuracy 0.5474137931034483\n",
      "[Parallel(n_jobs=-1)]: Done 280 out of 280 | elapsed:   18.6s finished\n"
     ]
    }
   ],
   "source": [
    "groups = X.reset_index()['video_name']\n",
    "loo = LeaveOneGroupOut()\n",
    "cv_loo = loo.split(X, y, groups)\n",
    "\n",
    "best_result, y_predict, y_predict_proba, result_list = runGridSearchClassifiers(X, y, 5, models_list, parameters_list, \n",
    "                                                                output_predict=True, n_jobs=-1, verbose=True)"
   ]
  },
  {
   "cell_type": "code",
   "execution_count": 54,
   "metadata": {},
   "outputs": [
    {
     "output_type": "execute_result",
     "data": {
      "text/plain": [
       "{'best_estimator': LogisticRegression(C=0.01, multi_class='multinomial', random_state=42),\n",
       " 'best_score': 0.512692735901698,\n",
       " 'best_params': {'C': 0.01, 'class_weight': None},\n",
       " 'mean_test_f1_score': 0.512692735901698,\n",
       " 'std_test_f1_score': 0.06383832053593287,\n",
       " 'mean_test_accuracy_score': 0.5469010175763183,\n",
       " 'std_test_accuracy_score': 0.06869884362651227,\n",
       " 'mean_test_balanced_accuracy_score': 0.3832756132756133,\n",
       " 'std_test_balanced_accuracy_score': 0.039289709831705995,\n",
       " 'mean_test_precision': 0.4915714460788466,\n",
       " 'std_test_precision': 0.06382330836387479,\n",
       " 'mean_test_recall': 0.5469010175763183,\n",
       " 'std_test_recall': 0.06869884362651227}"
      ]
     },
     "metadata": {},
     "execution_count": 54
    }
   ],
   "source": [
    "best_result"
   ]
  },
  {
   "source": [
    "## Stress global"
   ],
   "cell_type": "markdown",
   "metadata": {}
  },
  {
   "source": [
    "### Vidéo + audio"
   ],
   "cell_type": "markdown",
   "metadata": {}
  },
  {
   "cell_type": "code",
   "execution_count": 56,
   "metadata": {},
   "outputs": [],
   "source": [
    "df_best_global_prediction = df_video_best_global_prediction.merge(df_audio_best_global_prediction, \n",
    "                                how='inner', on=['video_name']) \n",
    "#df_best_global_prediction = df_best_global_prediction.merge(df_text_best_global_prediction, on=['video_name'])\n",
    "#df_best_diapo_prediction = df_best_diapo_prediction.set_index(['video_name','diapo'])\n",
    "df_best_global_prediction = df_best_global_prediction.merge(df_annotations_stress_global, on=['video_name'])\n",
    "X = df_best_global_prediction.iloc[:,:-1].set_index(['video_name'])\n",
    "y = df_best_global_prediction.iloc[:,-1]\n",
    "#df_best_global_prediction"
   ]
  },
  {
   "cell_type": "code",
   "execution_count": 58,
   "metadata": {},
   "outputs": [
    {
     "output_type": "stream",
     "name": "stdout",
     "text": [
      "Fitting 5 folds for each of 20 candidates, totalling 100 fits\n",
      "[Parallel(n_jobs=-1)]: Using backend LokyBackend with 8 concurrent workers.\n",
      "[Parallel(n_jobs=-1)]: Done  56 tasks      | elapsed:    0.3s\n",
      "[Parallel(n_jobs=-1)]: Done  85 out of 100 | elapsed:    0.5s remaining:    0.1s\n",
      "[Parallel(n_jobs=-1)]: Done 100 out of 100 | elapsed:    0.5s finished\n",
      "[Parallel(n_jobs=-1)]: Using backend LokyBackend with 8 concurrent workers.\n",
      "Best estimator LogisticRegression(C=0.5, class_weight='balanced', multi_class='multinomial',\n",
      "                   random_state=42)\n",
      "Best results 0.654888888888889\n",
      "Best params {'C': 0.5, 'class_weight': 'balanced'}\n",
      "accuracy (mean, std) 0.6933333333333334 0.21746008573733455\n",
      "f1 (mean, std) 0.654888888888889 0.23902435435601252\n",
      "balanced accuracy (mean, std) 0.7333333333333333 0.22879178091082222\n",
      "precision (mean, std) 0.6855555555555555 0.2770122785530198\n",
      "recall (mean, std) 0.6933333333333334 0.21746008573733455\n",
      "\n",
      "Fitting 5 folds for each of 80 candidates, totalling 400 fits\n",
      "[Parallel(n_jobs=-1)]: Done  58 tasks      | elapsed:    0.3s\n",
      "[Parallel(n_jobs=-1)]: Done 400 out of 400 | elapsed:    1.1s finished\n",
      "[Parallel(n_jobs=-1)]: Using backend LokyBackend with 8 concurrent workers.\n",
      "Best estimator Pipeline(steps=[('pca', PCA(n_components=2)),\n",
      "                ('logistic',\n",
      "                 LogisticRegression(C=0.5, class_weight='balanced',\n",
      "                                    multi_class='multinomial'))])\n",
      "Best results 0.654888888888889\n",
      "Best params {'logistic__C': 0.5, 'logistic__class_weight': 'balanced', 'pca__n_components': 2}\n",
      "accuracy (mean, std) 0.6933333333333334 0.21746008573733455\n",
      "f1 (mean, std) 0.654888888888889 0.23902435435601252\n",
      "balanced accuracy (mean, std) 0.7333333333333333 0.22879178091082222\n",
      "precision (mean, std) 0.6855555555555555 0.2770122785530198\n",
      "recall (mean, std) 0.6933333333333334 0.21746008573733455\n",
      "\n",
      "Fitting 5 folds for each of 44 candidates, totalling 220 fits\n",
      "[Parallel(n_jobs=-1)]: Done  56 tasks      | elapsed:    0.3s\n",
      "[Parallel(n_jobs=-1)]: Done 220 out of 220 | elapsed:    0.6s finished\n",
      "[Parallel(n_jobs=-1)]: Using backend LokyBackend with 8 concurrent workers.\n",
      "Best estimator KNeighborsClassifier(n_neighbors=8, p=1, weights='distance')\n",
      "Best results 0.7166666666666666\n",
      "Best params {'n_neighbors': 8, 'p': 1, 'weights': 'distance'}\n",
      "accuracy (mean, std) 0.76 0.13063945294843618\n",
      "f1 (mean, std) 0.7166666666666666 0.15291408061190023\n",
      "balanced accuracy (mean, std) 0.7555555555555554 0.12957670877434002\n",
      "precision (mean, std) 0.7677777777777777 0.16489427963634798\n",
      "recall (mean, std) 0.76 0.13063945294843618\n",
      "\n",
      "Fitting 5 folds for each of 176 candidates, totalling 880 fits\n",
      "[Parallel(n_jobs=-1)]: Done  56 tasks      | elapsed:    0.3s\n",
      "[Parallel(n_jobs=-1)]: Done 880 out of 880 | elapsed:    1.8s finished\n",
      "[Parallel(n_jobs=-1)]: Using backend LokyBackend with 8 concurrent workers.\n",
      "Best estimator Pipeline(steps=[('pca', PCA(n_components=2)),\n",
      "                ('knn',\n",
      "                 KNeighborsClassifier(n_neighbors=8, p=1, weights='distance'))])\n",
      "Best results 0.77\n",
      "Best params {'knn__n_neighbors': 8, 'knn__p': 1, 'knn__weights': 'distance', 'pca__n_components': 2}\n",
      "accuracy (mean, std) 0.7933333333333333 0.1236482466066094\n",
      "f1 (mean, std) 0.77 0.13257189989577473\n",
      "balanced accuracy (mean, std) 0.7888888888888889 0.12372809695177829\n",
      "precision (mean, std) 0.8455555555555556 0.09865765724632496\n",
      "recall (mean, std) 0.7933333333333333 0.1236482466066094\n",
      "\n",
      "Fitting 5 folds for each of 56 candidates, totalling 280 fits\n",
      "[Parallel(n_jobs=-1)]: Done  52 tasks      | elapsed:    4.3s\n",
      "[Parallel(n_jobs=-1)]: Done 216 tasks      | elapsed:   16.2s\n",
      "[Parallel(n_jobs=-1)]: Done 280 out of 280 | elapsed:   20.7s finished\n",
      "Best estimator RandomForestClassifier(class_weight='balanced', max_depth=4, n_estimators=150,\n",
      "                       n_jobs=-1, random_state=42)\n",
      "Best results 0.77\n",
      "Best params {'class_weight': 'balanced', 'max_depth': 4, 'n_estimators': 150}\n",
      "accuracy (mean, std) 0.7933333333333333 0.1236482466066094\n",
      "f1 (mean, std) 0.77 0.13257189989577473\n",
      "balanced accuracy (mean, std) 0.7888888888888889 0.12372809695177829\n",
      "precision (mean, std) 0.8455555555555556 0.09865765724632496\n",
      "recall (mean, std) 0.7933333333333333 0.1236482466066094\n",
      "\n",
      "f1_score (weighted) 0.7894218304381645\n",
      "accuracy 0.7931034482758621\n"
     ]
    }
   ],
   "source": [
    "best_result, y_predict, y_predict_proba, result_list = runGridSearchClassifiers(X, y, 5, models_list, parameters_list,                                           output_predict=True, n_jobs=-1, verbose=True)"
   ]
  },
  {
   "cell_type": "code",
   "execution_count": 59,
   "metadata": {},
   "outputs": [
    {
     "output_type": "execute_result",
     "data": {
      "text/plain": [
       "{'best_estimator': Pipeline(steps=[('pca', PCA(n_components=2)),\n",
       "                 ('knn',\n",
       "                  KNeighborsClassifier(n_neighbors=8, p=1, weights='distance'))]),\n",
       " 'best_score': 0.77,\n",
       " 'best_params': {'knn__n_neighbors': 8,\n",
       "  'knn__p': 1,\n",
       "  'knn__weights': 'distance',\n",
       "  'pca__n_components': 2},\n",
       " 'mean_test_f1_score': 0.77,\n",
       " 'std_test_f1_score': 0.13257189989577473,\n",
       " 'mean_test_accuracy_score': 0.7933333333333333,\n",
       " 'std_test_accuracy_score': 0.1236482466066094,\n",
       " 'mean_test_balanced_accuracy_score': 0.7888888888888889,\n",
       " 'std_test_balanced_accuracy_score': 0.12372809695177829,\n",
       " 'mean_test_precision': 0.8455555555555556,\n",
       " 'std_test_precision': 0.09865765724632496,\n",
       " 'mean_test_recall': 0.7933333333333333,\n",
       " 'std_test_recall': 0.1236482466066094}"
      ]
     },
     "metadata": {},
     "execution_count": 59
    }
   ],
   "source": [
    "best_result"
   ]
  },
  {
   "cell_type": "code",
   "execution_count": 111,
   "metadata": {},
   "outputs": [],
   "source": [
    "font = {'family' : 'normal',\n",
    "    'weight' : 'bold',\n",
    "    'size'   : 22}\n",
    "plt.rc('font', **font)"
   ]
  },
  {
   "cell_type": "code",
   "execution_count": 112,
   "metadata": {},
   "outputs": [
    {
     "output_type": "display_data",
     "data": {
      "text/plain": "<Figure size 432x288 with 2 Axes>",
      "image/svg+xml": "<?xml version=\"1.0\" encoding=\"utf-8\" standalone=\"no\"?>\n<!DOCTYPE svg PUBLIC \"-//W3C//DTD SVG 1.1//EN\"\n  \"http://www.w3.org/Graphics/SVG/1.1/DTD/svg11.dtd\">\n<!-- Created with matplotlib (https://matplotlib.org/) -->\n<svg height=\"288.92375pt\" version=\"1.1\" viewBox=\"0 0 329.35825 288.92375\" width=\"329.35825pt\" xmlns=\"http://www.w3.org/2000/svg\" xmlns:xlink=\"http://www.w3.org/1999/xlink\">\n <defs>\n  <style type=\"text/css\">\n*{stroke-linecap:butt;stroke-linejoin:round;}\n  </style>\n </defs>\n <g id=\"figure_1\">\n  <g id=\"patch_1\">\n   <path d=\"M 0 288.92375 \nL 329.35825 288.92375 \nL 329.35825 0 \nL 0 0 \nz\n\" style=\"fill:none;\"/>\n  </g>\n  <g id=\"axes_1\">\n   <g id=\"patch_2\">\n    <path d=\"M 54.799063 228.14 \nL 272.239062 228.14 \nL 272.239062 10.7 \nL 54.799063 10.7 \nz\n\" style=\"fill:#ffffff;\"/>\n   </g>\n   <g clip-path=\"url(#p62d72f4799)\">\n    <image height=\"218\" id=\"image0f23b210f5\" transform=\"scale(1 -1)translate(0 -218)\" width=\"218\" x=\"54.799063\" xlink:href=\"data:image/png;base64,\niVBORw0KGgoAAAANSUhEUgAAANoAAADaCAYAAADAHVzbAAAABHNCSVQICAgIfAhkiAAAAsVJREFUeJzt1aFNQ2EARlEeihqSZztBJXtVMgbbIPEdAdKQsEBFmyCwjwmw9/8TzpngMzff8nX52e74037djZ4wvefXj9ETpnc/egD8B0KDgNAgIDQICA0CQoOA0CAgNAgIDQJCg4DQICA0CAgNAkKDgNAgIDQICA0CQoOA0CAgNAgIDQJCg4DQICA0CAgNAkKDgNAgIDQICA0CQoOA0CAgNAgIDQJCg4DQICA0CAgNAkKDgNAgIDQICA0CQoOA0CAgNAgIDQJCg4DQICA0CAgNAkKDgNAgIDQICA0CQoOA0CAgNAgIDQJCg4DQICA0CAgNAkKDgNAgIDQICA0CQoOA0CAgNAgIDQJCg4DQICA0CCynz+s2esTMzrfv0ROmd1gfR0+YnkeDgNAgIDQICA0CQoOA0CAgNAgIDQJCg4DQICA0CAgNAkKDgNAgIDQICA0CQoOA0CAgNAgIDQJCg4DQICA0CAgNAkKDgNAgIDQICA0CQoOA0CAgNAgIDQJCg4DQICA0CAgNAkKDgNAgIDQICA0CQoOA0CAgNAgIDQJCg4DQICA0CAgNAkKDgNAgIDQICA0CQoOA0CAgNAgIDQJCg4DQICA0CAgNAkKDgNAgIDQICA0CQoOA0CAgNAgIDQJCg4DQICA0CCwPT8dt9IiZvb+9jJ4wvf26Gz1heh4NAkKDgNAgIDQICA0CQoOA0CAgNAgIDQJCg4DQICA0CAgNAkKDgNAgIDQICA0CQoOA0CAgNAgIDQJCg4DQICA0CAgNAkKDgNAgIDQICA0CQoOA0CAgNAgIDQJCg4DQICA0CAgNAkKDgNAgIDQICA0CQoOA0CAgNAgIDQJCg4DQICA0CAgNAkKDgNAgIDQICA0CQoOA0CAgNAgIDQJCg4DQICA0CAgNAkKDgNAgIDQICA0CQoOA0CAgNAgIDQJCg4DQICA0CPwCwHoSGSA5Bl8AAAAASUVORK5CYII=\" y=\"-10.14\"/>\n   </g>\n   <g id=\"matplotlib.axis_1\">\n    <g id=\"xtick_1\">\n     <g id=\"line2d_1\">\n      <defs>\n       <path d=\"M 0 0 \nL 0 3.5 \n\" id=\"md4b3b0f314\" style=\"stroke:#000000;stroke-width:0.8;\"/>\n      </defs>\n      <g>\n       <use style=\"stroke:#000000;stroke-width:0.8;\" x=\"91.039062\" xlink:href=\"#md4b3b0f314\" y=\"228.14\"/>\n      </g>\n     </g>\n     <g id=\"text_1\">\n      <!-- 0 -->\n      <defs>\n       <path d=\"M 46 36.53125 \nQ 46 50.203125 43.4375 55.78125 \nQ 40.875 61.375 34.8125 61.375 \nQ 28.765625 61.375 26.171875 55.78125 \nQ 23.578125 50.203125 23.578125 36.53125 \nQ 23.578125 22.703125 26.171875 17.03125 \nQ 28.765625 11.375 34.8125 11.375 \nQ 40.828125 11.375 43.40625 17.03125 \nQ 46 22.703125 46 36.53125 \nz\nM 64.796875 36.375 \nQ 64.796875 18.265625 56.984375 8.421875 \nQ 49.171875 -1.421875 34.8125 -1.421875 \nQ 20.40625 -1.421875 12.59375 8.421875 \nQ 4.78125 18.265625 4.78125 36.375 \nQ 4.78125 54.546875 12.59375 64.375 \nQ 20.40625 74.21875 34.8125 74.21875 \nQ 49.171875 74.21875 56.984375 64.375 \nQ 64.796875 54.546875 64.796875 36.375 \nz\n\" id=\"DejaVuSans-Bold-48\"/>\n      </defs>\n      <g transform=\"translate(83.385469 251.856563)scale(0.22 -0.22)\">\n       <use xlink:href=\"#DejaVuSans-Bold-48\"/>\n      </g>\n     </g>\n    </g>\n    <g id=\"xtick_2\">\n     <g id=\"line2d_2\">\n      <g>\n       <use style=\"stroke:#000000;stroke-width:0.8;\" x=\"163.519062\" xlink:href=\"#md4b3b0f314\" y=\"228.14\"/>\n      </g>\n     </g>\n     <g id=\"text_2\">\n      <!-- 1 -->\n      <defs>\n       <path d=\"M 11.71875 12.984375 \nL 28.328125 12.984375 \nL 28.328125 60.109375 \nL 11.28125 56.59375 \nL 11.28125 69.390625 \nL 28.21875 72.90625 \nL 46.09375 72.90625 \nL 46.09375 12.984375 \nL 62.703125 12.984375 \nL 62.703125 0 \nL 11.71875 0 \nz\n\" id=\"DejaVuSans-Bold-49\"/>\n      </defs>\n      <g transform=\"translate(155.865469 251.856563)scale(0.22 -0.22)\">\n       <use xlink:href=\"#DejaVuSans-Bold-49\"/>\n      </g>\n     </g>\n    </g>\n    <g id=\"xtick_3\">\n     <g id=\"line2d_3\">\n      <g>\n       <use style=\"stroke:#000000;stroke-width:0.8;\" x=\"235.999062\" xlink:href=\"#md4b3b0f314\" y=\"228.14\"/>\n      </g>\n     </g>\n     <g id=\"text_3\">\n      <!-- 2 -->\n      <defs>\n       <path d=\"M 28.8125 13.8125 \nL 60.890625 13.8125 \nL 60.890625 0 \nL 7.90625 0 \nL 7.90625 13.8125 \nL 34.515625 37.3125 \nQ 38.09375 40.53125 39.796875 43.609375 \nQ 41.5 46.6875 41.5 50 \nQ 41.5 55.125 38.0625 58.25 \nQ 34.625 61.375 28.90625 61.375 \nQ 24.515625 61.375 19.28125 59.5 \nQ 14.0625 57.625 8.109375 53.90625 \nL 8.109375 69.921875 \nQ 14.453125 72.015625 20.65625 73.109375 \nQ 26.859375 74.21875 32.8125 74.21875 \nQ 45.90625 74.21875 53.15625 68.453125 \nQ 60.40625 62.703125 60.40625 52.390625 \nQ 60.40625 46.4375 57.328125 41.28125 \nQ 54.25 36.140625 44.390625 27.484375 \nz\n\" id=\"DejaVuSans-Bold-50\"/>\n      </defs>\n      <g transform=\"translate(228.345469 251.856563)scale(0.22 -0.22)\">\n       <use xlink:href=\"#DejaVuSans-Bold-50\"/>\n      </g>\n     </g>\n    </g>\n    <g id=\"text_4\">\n     <!-- Predicted label -->\n     <defs>\n      <path d=\"M 19.671875 64.796875 \nL 19.671875 37.40625 \nL 32.078125 37.40625 \nQ 38.96875 37.40625 42.71875 40.96875 \nQ 46.484375 44.53125 46.484375 51.125 \nQ 46.484375 57.671875 42.71875 61.234375 \nQ 38.96875 64.796875 32.078125 64.796875 \nz\nM 9.8125 72.90625 \nL 32.078125 72.90625 \nQ 44.34375 72.90625 50.609375 67.359375 \nQ 56.890625 61.8125 56.890625 51.125 \nQ 56.890625 40.328125 50.609375 34.8125 \nQ 44.34375 29.296875 32.078125 29.296875 \nL 19.671875 29.296875 \nL 19.671875 0 \nL 9.8125 0 \nz\n\" id=\"DejaVuSans-80\"/>\n      <path d=\"M 41.109375 46.296875 \nQ 39.59375 47.171875 37.8125 47.578125 \nQ 36.03125 48 33.890625 48 \nQ 26.265625 48 22.1875 43.046875 \nQ 18.109375 38.09375 18.109375 28.8125 \nL 18.109375 0 \nL 9.078125 0 \nL 9.078125 54.6875 \nL 18.109375 54.6875 \nL 18.109375 46.1875 \nQ 20.953125 51.171875 25.484375 53.578125 \nQ 30.03125 56 36.53125 56 \nQ 37.453125 56 38.578125 55.875 \nQ 39.703125 55.765625 41.0625 55.515625 \nz\n\" id=\"DejaVuSans-114\"/>\n      <path d=\"M 56.203125 29.59375 \nL 56.203125 25.203125 \nL 14.890625 25.203125 \nQ 15.484375 15.921875 20.484375 11.0625 \nQ 25.484375 6.203125 34.421875 6.203125 \nQ 39.59375 6.203125 44.453125 7.46875 \nQ 49.3125 8.734375 54.109375 11.28125 \nL 54.109375 2.78125 \nQ 49.265625 0.734375 44.1875 -0.34375 \nQ 39.109375 -1.421875 33.890625 -1.421875 \nQ 20.796875 -1.421875 13.15625 6.1875 \nQ 5.515625 13.8125 5.515625 26.8125 \nQ 5.515625 40.234375 12.765625 48.109375 \nQ 20.015625 56 32.328125 56 \nQ 43.359375 56 49.78125 48.890625 \nQ 56.203125 41.796875 56.203125 29.59375 \nz\nM 47.21875 32.234375 \nQ 47.125 39.59375 43.09375 43.984375 \nQ 39.0625 48.390625 32.421875 48.390625 \nQ 24.90625 48.390625 20.390625 44.140625 \nQ 15.875 39.890625 15.1875 32.171875 \nz\n\" id=\"DejaVuSans-101\"/>\n      <path d=\"M 45.40625 46.390625 \nL 45.40625 75.984375 \nL 54.390625 75.984375 \nL 54.390625 0 \nL 45.40625 0 \nL 45.40625 8.203125 \nQ 42.578125 3.328125 38.25 0.953125 \nQ 33.9375 -1.421875 27.875 -1.421875 \nQ 17.96875 -1.421875 11.734375 6.484375 \nQ 5.515625 14.40625 5.515625 27.296875 \nQ 5.515625 40.1875 11.734375 48.09375 \nQ 17.96875 56 27.875 56 \nQ 33.9375 56 38.25 53.625 \nQ 42.578125 51.265625 45.40625 46.390625 \nz\nM 14.796875 27.296875 \nQ 14.796875 17.390625 18.875 11.75 \nQ 22.953125 6.109375 30.078125 6.109375 \nQ 37.203125 6.109375 41.296875 11.75 \nQ 45.40625 17.390625 45.40625 27.296875 \nQ 45.40625 37.203125 41.296875 42.84375 \nQ 37.203125 48.484375 30.078125 48.484375 \nQ 22.953125 48.484375 18.875 42.84375 \nQ 14.796875 37.203125 14.796875 27.296875 \nz\n\" id=\"DejaVuSans-100\"/>\n      <path d=\"M 9.421875 54.6875 \nL 18.40625 54.6875 \nL 18.40625 0 \nL 9.421875 0 \nz\nM 9.421875 75.984375 \nL 18.40625 75.984375 \nL 18.40625 64.59375 \nL 9.421875 64.59375 \nz\n\" id=\"DejaVuSans-105\"/>\n      <path d=\"M 48.78125 52.59375 \nL 48.78125 44.1875 \nQ 44.96875 46.296875 41.140625 47.34375 \nQ 37.3125 48.390625 33.40625 48.390625 \nQ 24.65625 48.390625 19.8125 42.84375 \nQ 14.984375 37.3125 14.984375 27.296875 \nQ 14.984375 17.28125 19.8125 11.734375 \nQ 24.65625 6.203125 33.40625 6.203125 \nQ 37.3125 6.203125 41.140625 7.25 \nQ 44.96875 8.296875 48.78125 10.40625 \nL 48.78125 2.09375 \nQ 45.015625 0.34375 40.984375 -0.53125 \nQ 36.96875 -1.421875 32.421875 -1.421875 \nQ 20.0625 -1.421875 12.78125 6.34375 \nQ 5.515625 14.109375 5.515625 27.296875 \nQ 5.515625 40.671875 12.859375 48.328125 \nQ 20.21875 56 33.015625 56 \nQ 37.15625 56 41.109375 55.140625 \nQ 45.0625 54.296875 48.78125 52.59375 \nz\n\" id=\"DejaVuSans-99\"/>\n      <path d=\"M 18.3125 70.21875 \nL 18.3125 54.6875 \nL 36.8125 54.6875 \nL 36.8125 47.703125 \nL 18.3125 47.703125 \nL 18.3125 18.015625 \nQ 18.3125 11.328125 20.140625 9.421875 \nQ 21.96875 7.515625 27.59375 7.515625 \nL 36.8125 7.515625 \nL 36.8125 0 \nL 27.59375 0 \nQ 17.1875 0 13.234375 3.875 \nQ 9.28125 7.765625 9.28125 18.015625 \nL 9.28125 47.703125 \nL 2.6875 47.703125 \nL 2.6875 54.6875 \nL 9.28125 54.6875 \nL 9.28125 70.21875 \nz\n\" id=\"DejaVuSans-116\"/>\n      <path id=\"DejaVuSans-32\"/>\n      <path d=\"M 9.421875 75.984375 \nL 18.40625 75.984375 \nL 18.40625 0 \nL 9.421875 0 \nz\n\" id=\"DejaVuSans-108\"/>\n      <path d=\"M 34.28125 27.484375 \nQ 23.390625 27.484375 19.1875 25 \nQ 14.984375 22.515625 14.984375 16.5 \nQ 14.984375 11.71875 18.140625 8.90625 \nQ 21.296875 6.109375 26.703125 6.109375 \nQ 34.1875 6.109375 38.703125 11.40625 \nQ 43.21875 16.703125 43.21875 25.484375 \nL 43.21875 27.484375 \nz\nM 52.203125 31.203125 \nL 52.203125 0 \nL 43.21875 0 \nL 43.21875 8.296875 \nQ 40.140625 3.328125 35.546875 0.953125 \nQ 30.953125 -1.421875 24.3125 -1.421875 \nQ 15.921875 -1.421875 10.953125 3.296875 \nQ 6 8.015625 6 15.921875 \nQ 6 25.140625 12.171875 29.828125 \nQ 18.359375 34.515625 30.609375 34.515625 \nL 43.21875 34.515625 \nL 43.21875 35.40625 \nQ 43.21875 41.609375 39.140625 45 \nQ 35.0625 48.390625 27.6875 48.390625 \nQ 23 48.390625 18.546875 47.265625 \nQ 14.109375 46.140625 10.015625 43.890625 \nL 10.015625 52.203125 \nQ 14.9375 54.109375 19.578125 55.046875 \nQ 24.21875 56 28.609375 56 \nQ 40.484375 56 46.34375 49.84375 \nQ 52.203125 43.703125 52.203125 31.203125 \nz\n\" id=\"DejaVuSans-97\"/>\n      <path d=\"M 48.6875 27.296875 \nQ 48.6875 37.203125 44.609375 42.84375 \nQ 40.53125 48.484375 33.40625 48.484375 \nQ 26.265625 48.484375 22.1875 42.84375 \nQ 18.109375 37.203125 18.109375 27.296875 \nQ 18.109375 17.390625 22.1875 11.75 \nQ 26.265625 6.109375 33.40625 6.109375 \nQ 40.53125 6.109375 44.609375 11.75 \nQ 48.6875 17.390625 48.6875 27.296875 \nz\nM 18.109375 46.390625 \nQ 20.953125 51.265625 25.265625 53.625 \nQ 29.59375 56 35.59375 56 \nQ 45.5625 56 51.78125 48.09375 \nQ 58.015625 40.1875 58.015625 27.296875 \nQ 58.015625 14.40625 51.78125 6.484375 \nQ 45.5625 -1.421875 35.59375 -1.421875 \nQ 29.59375 -1.421875 25.265625 0.953125 \nQ 20.953125 3.328125 18.109375 8.203125 \nL 18.109375 0 \nL 9.078125 0 \nL 9.078125 75.984375 \nL 18.109375 75.984375 \nz\n\" id=\"DejaVuSans-98\"/>\n     </defs>\n     <g transform=\"translate(81.349063 277.148438)scale(0.22 -0.22)\">\n      <use xlink:href=\"#DejaVuSans-80\"/>\n      <use x=\"60.287109\" xlink:href=\"#DejaVuSans-114\"/>\n      <use x=\"101.369141\" xlink:href=\"#DejaVuSans-101\"/>\n      <use x=\"162.892578\" xlink:href=\"#DejaVuSans-100\"/>\n      <use x=\"226.369141\" xlink:href=\"#DejaVuSans-105\"/>\n      <use x=\"254.152344\" xlink:href=\"#DejaVuSans-99\"/>\n      <use x=\"309.132812\" xlink:href=\"#DejaVuSans-116\"/>\n      <use x=\"348.341797\" xlink:href=\"#DejaVuSans-101\"/>\n      <use x=\"409.865234\" xlink:href=\"#DejaVuSans-100\"/>\n      <use x=\"473.341797\" xlink:href=\"#DejaVuSans-32\"/>\n      <use x=\"505.128906\" xlink:href=\"#DejaVuSans-108\"/>\n      <use x=\"532.912109\" xlink:href=\"#DejaVuSans-97\"/>\n      <use x=\"594.191406\" xlink:href=\"#DejaVuSans-98\"/>\n      <use x=\"657.667969\" xlink:href=\"#DejaVuSans-101\"/>\n      <use x=\"719.191406\" xlink:href=\"#DejaVuSans-108\"/>\n     </g>\n    </g>\n   </g>\n   <g id=\"matplotlib.axis_2\">\n    <g id=\"ytick_1\">\n     <g id=\"line2d_4\">\n      <defs>\n       <path d=\"M 0 0 \nL -3.5 0 \n\" id=\"m0896f5a846\" style=\"stroke:#000000;stroke-width:0.8;\"/>\n      </defs>\n      <g>\n       <use style=\"stroke:#000000;stroke-width:0.8;\" x=\"54.799063\" xlink:href=\"#m0896f5a846\" y=\"46.94\"/>\n      </g>\n     </g>\n     <g id=\"text_5\">\n      <!-- 0 -->\n      <g transform=\"translate(32.491875 55.298281)scale(0.22 -0.22)\">\n       <use xlink:href=\"#DejaVuSans-Bold-48\"/>\n      </g>\n     </g>\n    </g>\n    <g id=\"ytick_2\">\n     <g id=\"line2d_5\">\n      <g>\n       <use style=\"stroke:#000000;stroke-width:0.8;\" x=\"54.799063\" xlink:href=\"#m0896f5a846\" y=\"119.42\"/>\n      </g>\n     </g>\n     <g id=\"text_6\">\n      <!-- 1 -->\n      <g transform=\"translate(32.491875 127.778281)scale(0.22 -0.22)\">\n       <use xlink:href=\"#DejaVuSans-Bold-49\"/>\n      </g>\n     </g>\n    </g>\n    <g id=\"ytick_3\">\n     <g id=\"line2d_6\">\n      <g>\n       <use style=\"stroke:#000000;stroke-width:0.8;\" x=\"54.799063\" xlink:href=\"#m0896f5a846\" y=\"191.9\"/>\n      </g>\n     </g>\n     <g id=\"text_7\">\n      <!-- 2 -->\n      <g transform=\"translate(32.491875 200.258281)scale(0.22 -0.22)\">\n       <use xlink:href=\"#DejaVuSans-Bold-50\"/>\n      </g>\n     </g>\n    </g>\n    <g id=\"text_8\">\n     <!-- True label -->\n     <defs>\n      <path d=\"M -0.296875 72.90625 \nL 61.375 72.90625 \nL 61.375 64.59375 \nL 35.5 64.59375 \nL 35.5 0 \nL 25.59375 0 \nL 25.59375 64.59375 \nL -0.296875 64.59375 \nz\n\" id=\"DejaVuSans-84\"/>\n      <path d=\"M 8.5 21.578125 \nL 8.5 54.6875 \nL 17.484375 54.6875 \nL 17.484375 21.921875 \nQ 17.484375 14.15625 20.5 10.265625 \nQ 23.53125 6.390625 29.59375 6.390625 \nQ 36.859375 6.390625 41.078125 11.03125 \nQ 45.3125 15.671875 45.3125 23.6875 \nL 45.3125 54.6875 \nL 54.296875 54.6875 \nL 54.296875 0 \nL 45.3125 0 \nL 45.3125 8.40625 \nQ 42.046875 3.421875 37.71875 1 \nQ 33.40625 -1.421875 27.6875 -1.421875 \nQ 18.265625 -1.421875 13.375 4.4375 \nQ 8.5 10.296875 8.5 21.578125 \nz\nM 31.109375 56 \nz\n\" id=\"DejaVuSans-117\"/>\n     </defs>\n     <g transform=\"translate(23.916563 174.476719)rotate(-90)scale(0.22 -0.22)\">\n      <use xlink:href=\"#DejaVuSans-84\"/>\n      <use x=\"60.865234\" xlink:href=\"#DejaVuSans-114\"/>\n      <use x=\"101.978516\" xlink:href=\"#DejaVuSans-117\"/>\n      <use x=\"165.357422\" xlink:href=\"#DejaVuSans-101\"/>\n      <use x=\"226.880859\" xlink:href=\"#DejaVuSans-32\"/>\n      <use x=\"258.667969\" xlink:href=\"#DejaVuSans-108\"/>\n      <use x=\"286.451172\" xlink:href=\"#DejaVuSans-97\"/>\n      <use x=\"347.730469\" xlink:href=\"#DejaVuSans-98\"/>\n      <use x=\"411.207031\" xlink:href=\"#DejaVuSans-101\"/>\n      <use x=\"472.730469\" xlink:href=\"#DejaVuSans-108\"/>\n     </g>\n    </g>\n   </g>\n   <g id=\"patch_3\">\n    <path d=\"M 54.799063 228.14 \nL 54.799063 10.7 \n\" style=\"fill:none;stroke:#000000;stroke-linecap:square;stroke-linejoin:miter;stroke-width:0.8;\"/>\n   </g>\n   <g id=\"patch_4\">\n    <path d=\"M 272.239062 228.14 \nL 272.239062 10.7 \n\" style=\"fill:none;stroke:#000000;stroke-linecap:square;stroke-linejoin:miter;stroke-width:0.8;\"/>\n   </g>\n   <g id=\"patch_5\">\n    <path d=\"M 54.799063 228.14 \nL 272.239062 228.14 \n\" style=\"fill:none;stroke:#000000;stroke-linecap:square;stroke-linejoin:miter;stroke-width:0.8;\"/>\n   </g>\n   <g id=\"patch_6\">\n    <path d=\"M 54.799063 10.7 \nL 272.239062 10.7 \n\" style=\"fill:none;stroke:#000000;stroke-linecap:square;stroke-linejoin:miter;stroke-width:0.8;\"/>\n   </g>\n   <g id=\"text_9\">\n    <!-- 9 -->\n    <defs>\n     <path d=\"M 10.015625 1.609375 \nL 10.015625 15.09375 \nQ 14.5 12.984375 18.59375 11.9375 \nQ 22.703125 10.890625 26.703125 10.890625 \nQ 35.109375 10.890625 39.796875 15.546875 \nQ 44.484375 20.21875 45.3125 29.390625 \nQ 42 26.953125 38.234375 25.734375 \nQ 34.46875 24.515625 30.078125 24.515625 \nQ 18.890625 24.515625 12.03125 31.03125 \nQ 5.171875 37.546875 5.171875 48.1875 \nQ 5.171875 59.96875 12.8125 67.046875 \nQ 20.453125 74.125 33.296875 74.125 \nQ 47.5625 74.125 55.375 64.5 \nQ 63.1875 54.890625 63.1875 37.3125 \nQ 63.1875 19.234375 54.046875 8.90625 \nQ 44.921875 -1.421875 29 -1.421875 \nQ 23.875 -1.421875 19.1875 -0.65625 \nQ 14.5 0.09375 10.015625 1.609375 \nz\nM 33.203125 36.71875 \nQ 38.140625 36.71875 40.625 39.90625 \nQ 43.109375 43.109375 43.109375 49.515625 \nQ 43.109375 55.859375 40.625 59.078125 \nQ 38.140625 62.3125 33.203125 62.3125 \nQ 28.265625 62.3125 25.78125 59.078125 \nQ 23.296875 55.859375 23.296875 49.515625 \nQ 23.296875 43.109375 25.78125 39.90625 \nQ 28.265625 36.71875 33.203125 36.71875 \nz\n\" id=\"DejaVuSans-Bold-57\"/>\n    </defs>\n    <g style=\"fill:#f7fbff;\" transform=\"translate(83.385469 53.010625)scale(0.22 -0.22)\">\n     <use xlink:href=\"#DejaVuSans-Bold-57\"/>\n    </g>\n   </g>\n   <g id=\"text_10\">\n    <!-- 2 -->\n    <g style=\"fill:#08306b;\" transform=\"translate(155.865469 53.010625)scale(0.22 -0.22)\">\n     <use xlink:href=\"#DejaVuSans-Bold-50\"/>\n    </g>\n   </g>\n   <g id=\"text_11\">\n    <!-- 1 -->\n    <g style=\"fill:#08306b;\" transform=\"translate(228.345469 53.010625)scale(0.22 -0.22)\">\n     <use xlink:href=\"#DejaVuSans-Bold-49\"/>\n    </g>\n   </g>\n   <g id=\"text_12\">\n    <!-- 3 -->\n    <defs>\n     <path d=\"M 46.578125 39.3125 \nQ 53.953125 37.40625 57.78125 32.6875 \nQ 61.625 27.984375 61.625 20.703125 \nQ 61.625 9.859375 53.3125 4.21875 \nQ 45.015625 -1.421875 29.109375 -1.421875 \nQ 23.484375 -1.421875 17.84375 -0.515625 \nQ 12.203125 0.390625 6.6875 2.203125 \nL 6.6875 16.703125 \nQ 11.96875 14.0625 17.15625 12.71875 \nQ 22.359375 11.375 27.390625 11.375 \nQ 34.859375 11.375 38.84375 13.953125 \nQ 42.828125 16.546875 42.828125 21.390625 \nQ 42.828125 26.375 38.75 28.9375 \nQ 34.671875 31.5 26.703125 31.5 \nL 19.1875 31.5 \nL 19.1875 43.609375 \nL 27.09375 43.609375 \nQ 34.1875 43.609375 37.640625 45.828125 \nQ 41.109375 48.046875 41.109375 52.59375 \nQ 41.109375 56.78125 37.734375 59.078125 \nQ 34.375 61.375 28.21875 61.375 \nQ 23.6875 61.375 19.046875 60.34375 \nQ 14.40625 59.328125 9.8125 57.328125 \nL 9.8125 71.09375 \nQ 15.375 72.65625 20.84375 73.4375 \nQ 26.3125 74.21875 31.59375 74.21875 \nQ 45.796875 74.21875 52.84375 69.546875 \nQ 59.90625 64.890625 59.90625 55.515625 \nQ 59.90625 49.125 56.53125 45.046875 \nQ 53.171875 40.96875 46.578125 39.3125 \nz\n\" id=\"DejaVuSans-Bold-51\"/>\n    </defs>\n    <g style=\"fill:#08306b;\" transform=\"translate(83.385469 125.490625)scale(0.22 -0.22)\">\n     <use xlink:href=\"#DejaVuSans-Bold-51\"/>\n    </g>\n   </g>\n   <g id=\"text_13\">\n    <!-- 4 -->\n    <defs>\n     <path d=\"M 36.8125 57.421875 \nL 16.21875 26.90625 \nL 36.8125 26.90625 \nz\nM 33.6875 72.90625 \nL 54.59375 72.90625 \nL 54.59375 26.90625 \nL 64.984375 26.90625 \nL 64.984375 13.28125 \nL 54.59375 13.28125 \nL 54.59375 0 \nL 36.8125 0 \nL 36.8125 13.28125 \nL 4.5 13.28125 \nL 4.5 29.390625 \nz\n\" id=\"DejaVuSans-Bold-52\"/>\n    </defs>\n    <g style=\"fill:#08306b;\" transform=\"translate(155.865469 125.490625)scale(0.22 -0.22)\">\n     <use xlink:href=\"#DejaVuSans-Bold-52\"/>\n    </g>\n   </g>\n   <g id=\"text_14\">\n    <!-- 3 -->\n    <g style=\"fill:#08306b;\" transform=\"translate(228.345469 125.490625)scale(0.22 -0.22)\">\n     <use xlink:href=\"#DejaVuSans-Bold-51\"/>\n    </g>\n   </g>\n   <g id=\"text_15\">\n    <!-- 2 -->\n    <g style=\"fill:#08306b;\" transform=\"translate(83.385469 197.970625)scale(0.22 -0.22)\">\n     <use xlink:href=\"#DejaVuSans-Bold-50\"/>\n    </g>\n   </g>\n   <g id=\"text_16\">\n    <!-- 1 -->\n    <g style=\"fill:#08306b;\" transform=\"translate(155.865469 197.970625)scale(0.22 -0.22)\">\n     <use xlink:href=\"#DejaVuSans-Bold-49\"/>\n    </g>\n   </g>\n   <g id=\"text_17\">\n    <!-- 5 -->\n    <defs>\n     <path d=\"M 10.59375 72.90625 \nL 57.328125 72.90625 \nL 57.328125 59.078125 \nL 25.59375 59.078125 \nL 25.59375 47.796875 \nQ 27.734375 48.390625 29.90625 48.703125 \nQ 32.078125 49.03125 34.421875 49.03125 \nQ 47.75 49.03125 55.171875 42.359375 \nQ 62.59375 35.6875 62.59375 23.78125 \nQ 62.59375 11.96875 54.515625 5.265625 \nQ 46.4375 -1.421875 32.078125 -1.421875 \nQ 25.875 -1.421875 19.796875 -0.21875 \nQ 13.71875 0.984375 7.71875 3.421875 \nL 7.71875 18.21875 \nQ 13.671875 14.796875 19.015625 13.078125 \nQ 24.359375 11.375 29.109375 11.375 \nQ 35.9375 11.375 39.859375 14.71875 \nQ 43.796875 18.0625 43.796875 23.78125 \nQ 43.796875 29.546875 39.859375 32.859375 \nQ 35.9375 36.1875 29.109375 36.1875 \nQ 25.046875 36.1875 20.453125 35.125 \nQ 15.875 34.078125 10.59375 31.890625 \nz\n\" id=\"DejaVuSans-Bold-53\"/>\n    </defs>\n    <g style=\"fill:#f7fbff;\" transform=\"translate(228.345469 197.970625)scale(0.22 -0.22)\">\n     <use xlink:href=\"#DejaVuSans-Bold-53\"/>\n    </g>\n   </g>\n  </g>\n  <g id=\"axes_2\">\n   <g id=\"patch_7\">\n    <path clip-path=\"url(#pd50338789f)\" d=\"M 288.979063 228.14 \nL 288.979063 227.290625 \nL 288.979063 11.549375 \nL 288.979063 10.7 \nL 299.851063 10.7 \nL 299.851063 11.549375 \nL 299.851063 227.290625 \nL 299.851063 228.14 \nz\n\" style=\"fill:#ffffff;stroke:#ffffff;stroke-linejoin:miter;stroke-width:0.01;\"/>\n   </g>\n   <image height=\"217\" id=\"image85572ba041\" transform=\"scale(1 -1)translate(0 -217)\" width=\"11\" x=\"289\" xlink:href=\"data:image/png;base64,\niVBORw0KGgoAAAANSUhEUgAAAAsAAADZCAYAAAD2WsoCAAAABHNCSVQICAgIfAhkiAAAARJJREFUaIHtmcEKwzAMQz3I/3/uDgMnu+6YN3hD6dqzEbIsq6Z9PF9r1eYzVm3X1gC1NUBtjblP2aQBWEDpGHIIjf1aOBQ0bo9GiHQLqXGb/1saKbmhmf9E6e7k/w2NFOmubv4+sMEpIkfQ8HZwamp4NLwTgplf3BQyFA854yQ21QDFDeQwc0NbqwbamVGgvY4RMooCcYIZNJj594FjjAS3GyCHhLk3bo+G904JadCLL4QMzx6LhugNz/ziGa+datolE+INJt2BURCjhkXjDxqMoNEdQSMEec79+wt+kBS9QYrFrLOKPZ3RuEM43974LGY/bbVxn+iNmg2KWYMoRTVk1mAG5xQ1PBqedAeqcflxW8hv+cnhE6ZhcOwAAAAASUVORK5CYII=\" y=\"-10\"/>\n   <g id=\"matplotlib.axis_3\"/>\n   <g id=\"matplotlib.axis_4\">\n    <g id=\"ytick_4\">\n     <g id=\"line2d_7\">\n      <defs>\n       <path d=\"M 0 0 \nL 3.5 0 \n\" id=\"mdd69012bcd\" style=\"stroke:#000000;stroke-width:0.8;\"/>\n      </defs>\n      <g>\n       <use style=\"stroke:#000000;stroke-width:0.8;\" x=\"299.851063\" xlink:href=\"#mdd69012bcd\" y=\"200.96\"/>\n      </g>\n     </g>\n     <g id=\"text_18\">\n      <!-- 2 -->\n      <g transform=\"translate(306.851063 209.318281)scale(0.22 -0.22)\">\n       <use xlink:href=\"#DejaVuSans-Bold-50\"/>\n      </g>\n     </g>\n    </g>\n    <g id=\"ytick_5\">\n     <g id=\"line2d_8\">\n      <g>\n       <use style=\"stroke:#000000;stroke-width:0.8;\" x=\"299.851063\" xlink:href=\"#mdd69012bcd\" y=\"146.6\"/>\n      </g>\n     </g>\n     <g id=\"text_19\">\n      <!-- 4 -->\n      <g transform=\"translate(306.851063 154.958281)scale(0.22 -0.22)\">\n       <use xlink:href=\"#DejaVuSans-Bold-52\"/>\n      </g>\n     </g>\n    </g>\n    <g id=\"ytick_6\">\n     <g id=\"line2d_9\">\n      <g>\n       <use style=\"stroke:#000000;stroke-width:0.8;\" x=\"299.851063\" xlink:href=\"#mdd69012bcd\" y=\"92.24\"/>\n      </g>\n     </g>\n     <g id=\"text_20\">\n      <!-- 6 -->\n      <defs>\n       <path d=\"M 36.1875 35.984375 \nQ 31.25 35.984375 28.78125 32.78125 \nQ 26.3125 29.59375 26.3125 23.1875 \nQ 26.3125 16.796875 28.78125 13.59375 \nQ 31.25 10.40625 36.1875 10.40625 \nQ 41.15625 10.40625 43.625 13.59375 \nQ 46.09375 16.796875 46.09375 23.1875 \nQ 46.09375 29.59375 43.625 32.78125 \nQ 41.15625 35.984375 36.1875 35.984375 \nz\nM 59.421875 71 \nL 59.421875 57.515625 \nQ 54.78125 59.71875 50.671875 60.765625 \nQ 46.578125 61.8125 42.671875 61.8125 \nQ 34.28125 61.8125 29.59375 57.140625 \nQ 24.90625 52.484375 24.125 43.3125 \nQ 27.34375 45.703125 31.09375 46.890625 \nQ 34.859375 48.09375 39.3125 48.09375 \nQ 50.484375 48.09375 57.34375 41.546875 \nQ 64.203125 35.015625 64.203125 24.421875 \nQ 64.203125 12.703125 56.53125 5.640625 \nQ 48.875 -1.421875 35.984375 -1.421875 \nQ 21.78125 -1.421875 13.984375 8.171875 \nQ 6.203125 17.78125 6.203125 35.40625 \nQ 6.203125 53.46875 15.3125 63.796875 \nQ 24.421875 74.125 40.28125 74.125 \nQ 45.3125 74.125 50.046875 73.34375 \nQ 54.78125 72.5625 59.421875 71 \nz\n\" id=\"DejaVuSans-Bold-54\"/>\n      </defs>\n      <g transform=\"translate(306.851063 100.598281)scale(0.22 -0.22)\">\n       <use xlink:href=\"#DejaVuSans-Bold-54\"/>\n      </g>\n     </g>\n    </g>\n    <g id=\"ytick_7\">\n     <g id=\"line2d_10\">\n      <g>\n       <use style=\"stroke:#000000;stroke-width:0.8;\" x=\"299.851063\" xlink:href=\"#mdd69012bcd\" y=\"37.88\"/>\n      </g>\n     </g>\n     <g id=\"text_21\">\n      <!-- 8 -->\n      <defs>\n       <path d=\"M 34.8125 32.625 \nQ 29.546875 32.625 26.703125 29.734375 \nQ 23.875 26.859375 23.875 21.484375 \nQ 23.875 16.109375 26.703125 13.25 \nQ 29.546875 10.40625 34.8125 10.40625 \nQ 40.046875 10.40625 42.828125 13.25 \nQ 45.609375 16.109375 45.609375 21.484375 \nQ 45.609375 26.90625 42.828125 29.765625 \nQ 40.046875 32.625 34.8125 32.625 \nz\nM 21.09375 38.8125 \nQ 14.453125 40.828125 11.078125 44.96875 \nQ 7.71875 49.125 7.71875 55.328125 \nQ 7.71875 64.546875 14.59375 69.375 \nQ 21.484375 74.21875 34.8125 74.21875 \nQ 48.046875 74.21875 54.921875 69.40625 \nQ 61.8125 64.59375 61.8125 55.328125 \nQ 61.8125 49.125 58.421875 44.96875 \nQ 55.03125 40.828125 48.390625 38.8125 \nQ 55.8125 36.765625 59.59375 32.15625 \nQ 63.375 27.546875 63.375 20.515625 \nQ 63.375 9.671875 56.171875 4.125 \nQ 48.96875 -1.421875 34.8125 -1.421875 \nQ 20.609375 -1.421875 13.359375 4.125 \nQ 6.109375 9.671875 6.109375 20.515625 \nQ 6.109375 27.546875 9.890625 32.15625 \nQ 13.671875 36.765625 21.09375 38.8125 \nz\nM 25.484375 53.421875 \nQ 25.484375 49.078125 27.90625 46.734375 \nQ 30.328125 44.390625 34.8125 44.390625 \nQ 39.203125 44.390625 41.59375 46.734375 \nQ 44 49.078125 44 53.421875 \nQ 44 57.765625 41.59375 60.078125 \nQ 39.203125 62.40625 34.8125 62.40625 \nQ 30.328125 62.40625 27.90625 60.0625 \nQ 25.484375 57.71875 25.484375 53.421875 \nz\n\" id=\"DejaVuSans-Bold-56\"/>\n      </defs>\n      <g transform=\"translate(306.851063 46.238281)scale(0.22 -0.22)\">\n       <use xlink:href=\"#DejaVuSans-Bold-56\"/>\n      </g>\n     </g>\n    </g>\n   </g>\n   <g id=\"patch_8\">\n    <path d=\"M 288.979063 228.14 \nL 288.979063 227.290625 \nL 288.979063 11.549375 \nL 288.979063 10.7 \nL 299.851063 10.7 \nL 299.851063 11.549375 \nL 299.851063 227.290625 \nL 299.851063 228.14 \nz\n\" style=\"fill:none;stroke:#000000;stroke-linejoin:miter;stroke-width:0.8;\"/>\n   </g>\n  </g>\n </g>\n <defs>\n  <clipPath id=\"p62d72f4799\">\n   <rect height=\"217.44\" width=\"217.44\" x=\"54.799063\" y=\"10.7\"/>\n  </clipPath>\n  <clipPath id=\"pd50338789f\">\n   <rect height=\"217.44\" width=\"10.872\" x=\"288.979063\" y=\"10.7\"/>\n  </clipPath>\n </defs>\n</svg>\n",
      "image/png": "[encoded data removed]"
     },
     "metadata": {
      "needs_background": "light"
     }
    }
   ],
   "source": [
    "from sklearn.metrics import confusion_matrix, ConfusionMatrixDisplay\n",
    "cm = confusion_matrix(y,y_predict)\n",
    "disp = ConfusionMatrixDisplay(confusion_matrix=cm,\n",
    "                              display_labels=[0,1,2])\n",
    "disp = disp.plot(include_values=[0,1,2], cmap=plt.cm.Blues)"
   ]
  },
  {
   "source": [
    "### Vidéo + audio + texte"
   ],
   "cell_type": "markdown",
   "metadata": {}
  },
  {
   "cell_type": "code",
   "execution_count": 68,
   "metadata": {},
   "outputs": [],
   "source": [
    "df_best_global_prediction = df_video_best_global_prediction.merge(df_audio_best_global_prediction, \n",
    "                                how='inner', on=['video_name']) \n",
    "df_best_global_prediction = df_best_global_prediction.merge(df_text_best_global_prediction, on=['video_name'])\n",
    "df_best_global_prediction = df_best_global_prediction.merge(df_annotations_stress_global, on=['video_name'])\n",
    "X = df_best_global_prediction.iloc[:,:-1].set_index(['video_name'])\n",
    "y = df_best_global_prediction.iloc[:,-1]\n",
    "#df_best_global_prediction"
   ]
  },
  {
   "cell_type": "code",
   "execution_count": 69,
   "metadata": {},
   "outputs": [
    {
     "output_type": "stream",
     "name": "stdout",
     "text": [
      "Fitting 5 folds for each of 20 candidates, totalling 100 fits\n",
      "[Parallel(n_jobs=-1)]: Using backend LokyBackend with 8 concurrent workers.\n",
      "[Parallel(n_jobs=-1)]: Done  34 tasks      | elapsed:    2.2s\n",
      "[Parallel(n_jobs=-1)]: Done 100 out of 100 | elapsed:    2.5s finished\n",
      "[Parallel(n_jobs=-1)]: Using backend LokyBackend with 8 concurrent workers.\n",
      "Best estimator LogisticRegression(C=1, multi_class='multinomial', random_state=42)\n",
      "Best results 0.6693333333333333\n",
      "Best params {'C': 1, 'class_weight': None}\n",
      "accuracy (mean, std) 0.6933333333333334 0.053333333333333365\n",
      "f1 (mean, std) 0.6693333333333333 0.08254471291142533\n",
      "balanced accuracy (mean, std) 0.7222222222222221 0.08606629658238704\n",
      "precision (mean, std) 0.7188888888888889 0.12783090682906362\n",
      "recall (mean, std) 0.6933333333333334 0.053333333333333365\n",
      "\n",
      "Fitting 5 folds for each of 80 candidates, totalling 400 fits\n",
      "[Parallel(n_jobs=-1)]: Done  58 tasks      | elapsed:    0.4s\n",
      "[Parallel(n_jobs=-1)]: Done 400 out of 400 | elapsed:    1.3s finished\n",
      "[Parallel(n_jobs=-1)]: Using backend LokyBackend with 8 concurrent workers.\n",
      "Best estimator Pipeline(steps=[('pca', PCA(n_components=3)),\n",
      "                ('logistic',\n",
      "                 LogisticRegression(C=1, multi_class='multinomial'))])\n",
      "Best results 0.6693333333333333\n",
      "Best params {'logistic__C': 1, 'logistic__class_weight': None, 'pca__n_components': 3}\n",
      "accuracy (mean, std) 0.6933333333333334 0.053333333333333365\n",
      "f1 (mean, std) 0.6693333333333333 0.08254471291142533\n",
      "balanced accuracy (mean, std) 0.7222222222222221 0.08606629658238704\n",
      "precision (mean, std) 0.7188888888888889 0.12783090682906362\n",
      "recall (mean, std) 0.6933333333333334 0.053333333333333365\n",
      "\n",
      "Fitting 5 folds for each of 44 candidates, totalling 220 fits\n",
      "[Parallel(n_jobs=-1)]: Done  56 tasks      | elapsed:    0.2s\n",
      "[Parallel(n_jobs=-1)]: Done 205 out of 220 | elapsed:    0.6s remaining:    0.0s\n",
      "[Parallel(n_jobs=-1)]: Done 220 out of 220 | elapsed:    0.6s finished\n",
      "[Parallel(n_jobs=-1)]: Using backend LokyBackend with 8 concurrent workers.\n",
      "Best estimator KNeighborsClassifier(n_neighbors=9, p=1, weights='distance')\n",
      "Best results 0.6866666666666668\n",
      "Best params {'n_neighbors': 9, 'p': 1, 'weights': 'distance'}\n",
      "accuracy (mean, std) 0.7266666666666668 0.12892719737209146\n",
      "f1 (mean, std) 0.6866666666666668 0.1622983078800908\n",
      "balanced accuracy (mean, std) 0.711111111111111 0.13788526273323173\n",
      "precision (mean, std) 0.7066666666666667 0.20301432169877773\n",
      "recall (mean, std) 0.7266666666666668 0.12892719737209146\n",
      "\n",
      "Fitting 5 folds for each of 176 candidates, totalling 880 fits\n",
      "[Parallel(n_jobs=-1)]: Done  56 tasks      | elapsed:    0.2s\n",
      "[Parallel(n_jobs=-1)]: Done 880 out of 880 | elapsed:    2.0s finished\n",
      "[Parallel(n_jobs=-1)]: Using backend LokyBackend with 8 concurrent workers.\n",
      "Best estimator Pipeline(steps=[('pca', PCA(n_components=2)),\n",
      "                ('knn',\n",
      "                 KNeighborsClassifier(n_neighbors=11, weights='distance'))])\n",
      "Best results 0.7233333333333334\n",
      "Best params {'knn__n_neighbors': 11, 'knn__p': 2, 'knn__weights': 'distance', 'pca__n_components': 2}\n",
      "accuracy (mean, std) 0.76 0.16786237749352229\n",
      "f1 (mean, std) 0.7233333333333334 0.18955438321898777\n",
      "balanced accuracy (mean, std) 0.7555555555555555 0.16703662642636563\n",
      "precision (mean, std) 0.7566666666666666 0.20859317129549357\n",
      "recall (mean, std) 0.76 0.16786237749352229\n",
      "\n",
      "Fitting 5 folds for each of 56 candidates, totalling 280 fits\n",
      "[Parallel(n_jobs=-1)]: Done  34 tasks      | elapsed:    2.5s\n",
      "[Parallel(n_jobs=-1)]: Done 184 tasks      | elapsed:   12.6s\n",
      "Best estimator RandomForestClassifier(max_depth=4, n_jobs=-1, random_state=42)\n",
      "Best results 0.7077777777777778\n",
      "Best params {'class_weight': None, 'max_depth': 4, 'n_estimators': 100}\n",
      "accuracy (mean, std) 0.76 0.07717224601860154\n",
      "f1 (mean, std) 0.7077777777777778 0.11285301267195222\n",
      "balanced accuracy (mean, std) 0.7555555555555555 0.07535922203472524\n",
      "precision (mean, std) 0.7455555555555555 0.16579028847639543\n",
      "recall (mean, std) 0.76 0.07717224601860154\n",
      "\n",
      "f1_score (weighted) 0.7574107683000604\n",
      "accuracy 0.7586206896551724\n",
      "[Parallel(n_jobs=-1)]: Done 280 out of 280 | elapsed:   18.7s finished\n"
     ]
    }
   ],
   "source": [
    "best_result, y_predict, y_predict_proba, result_list = runGridSearchClassifiers(X, y, 5, models_list, parameters_list,                                           output_predict=True, n_jobs=-1, verbose=True)"
   ]
  },
  {
   "cell_type": "code",
   "execution_count": 70,
   "metadata": {},
   "outputs": [
    {
     "output_type": "execute_result",
     "data": {
      "text/plain": [
       "{'best_estimator': Pipeline(steps=[('pca', PCA(n_components=2)),\n",
       "                 ('knn',\n",
       "                  KNeighborsClassifier(n_neighbors=11, weights='distance'))]),\n",
       " 'best_score': 0.7233333333333334,\n",
       " 'best_params': {'knn__n_neighbors': 11,\n",
       "  'knn__p': 2,\n",
       "  'knn__weights': 'distance',\n",
       "  'pca__n_components': 2},\n",
       " 'mean_test_f1_score': 0.7233333333333334,\n",
       " 'std_test_f1_score': 0.18955438321898777,\n",
       " 'mean_test_accuracy_score': 0.76,\n",
       " 'std_test_accuracy_score': 0.16786237749352229,\n",
       " 'mean_test_balanced_accuracy_score': 0.7555555555555555,\n",
       " 'std_test_balanced_accuracy_score': 0.16703662642636563,\n",
       " 'mean_test_precision': 0.7566666666666666,\n",
       " 'std_test_precision': 0.20859317129549357,\n",
       " 'mean_test_recall': 0.76,\n",
       " 'std_test_recall': 0.16786237749352229}"
      ]
     },
     "metadata": {},
     "execution_count": 70
    }
   ],
   "source": [
    "best_result"
   ]
  },
  {
   "source": [
    "### Vidéo + texte"
   ],
   "cell_type": "markdown",
   "metadata": {}
  },
  {
   "cell_type": "code",
   "execution_count": 72,
   "metadata": {},
   "outputs": [],
   "source": [
    "df_best_global_prediction = df_video_best_global_prediction.merge(df_text_best_global_prediction, \n",
    "                                how='inner', on=['video_name']) \n",
    "df_best_global_prediction = df_best_global_prediction.merge(df_annotations_stress_global, on=['video_name'])\n",
    "X = df_best_global_prediction.iloc[:,:-1].set_index(['video_name'])\n",
    "y = df_best_global_prediction.iloc[:,-1]\n",
    "#df_best_global_prediction"
   ]
  },
  {
   "cell_type": "code",
   "execution_count": 73,
   "metadata": {},
   "outputs": [
    {
     "output_type": "stream",
     "name": "stdout",
     "text": [
      "Fitting 5 folds for each of 20 candidates, totalling 100 fits\n",
      "[Parallel(n_jobs=-1)]: Using backend LokyBackend with 8 concurrent workers.\n",
      "[Parallel(n_jobs=-1)]: Done  56 tasks      | elapsed:    0.3s\n",
      "[Parallel(n_jobs=-1)]: Done  85 out of 100 | elapsed:    0.4s remaining:    0.1s\n",
      "[Parallel(n_jobs=-1)]: Done 100 out of 100 | elapsed:    0.4s finished\n",
      "[Parallel(n_jobs=-1)]: Using backend LokyBackend with 8 concurrent workers.\n",
      "Best estimator LogisticRegression(C=0.5, class_weight='balanced', multi_class='multinomial',\n",
      "                   random_state=42)\n",
      "Best results 0.5452063492063493\n",
      "Best params {'C': 0.5, 'class_weight': 'balanced'}\n",
      "accuracy (mean, std) 0.5599999999999999 0.12000000000000002\n",
      "f1 (mean, std) 0.5452063492063493 0.14300205701107188\n",
      "balanced accuracy (mean, std) 0.5555555555555556 0.17213259316477408\n",
      "precision (mean, std) 0.5844444444444444 0.17855386156978373\n",
      "recall (mean, std) 0.5599999999999999 0.12000000000000002\n",
      "\n",
      "Fitting 5 folds for each of 80 candidates, totalling 400 fits\n",
      "[Parallel(n_jobs=-1)]: Done  56 tasks      | elapsed:    0.3s\n",
      "[Parallel(n_jobs=-1)]: Done 400 out of 400 | elapsed:    1.1s finished\n",
      "[Parallel(n_jobs=-1)]: Using backend LokyBackend with 8 concurrent workers.\n",
      "Best estimator Pipeline(steps=[('pca', PCA(n_components=2)),\n",
      "                ('logistic',\n",
      "                 LogisticRegression(C=0.5, class_weight='balanced',\n",
      "                                    multi_class='multinomial'))])\n",
      "Best results 0.5452063492063493\n",
      "Best params {'logistic__C': 0.5, 'logistic__class_weight': 'balanced', 'pca__n_components': 2}\n",
      "accuracy (mean, std) 0.5599999999999999 0.12000000000000002\n",
      "f1 (mean, std) 0.5452063492063493 0.14300205701107188\n",
      "balanced accuracy (mean, std) 0.5555555555555556 0.17213259316477408\n",
      "precision (mean, std) 0.5844444444444444 0.17855386156978373\n",
      "recall (mean, std) 0.5599999999999999 0.12000000000000002\n",
      "\n",
      "Fitting 5 folds for each of 44 candidates, totalling 220 fits\n",
      "[Parallel(n_jobs=-1)]: Done  56 tasks      | elapsed:    0.3s\n",
      "[Parallel(n_jobs=-1)]: Done 220 out of 220 | elapsed:    0.7s finished\n",
      "[Parallel(n_jobs=-1)]: Using backend LokyBackend with 8 concurrent workers.\n",
      "Best estimator KNeighborsClassifier(n_neighbors=6, p=1)\n",
      "Best results 0.618095238095238\n",
      "Best params {'n_neighbors': 6, 'p': 1, 'weights': 'uniform'}\n",
      "accuracy (mean, std) 0.6933333333333334 0.11813363431112903\n",
      "f1 (mean, std) 0.618095238095238 0.14806588797103146\n",
      "balanced accuracy (mean, std) 0.6777777777777777 0.12372809695177826\n",
      "precision (mean, std) 0.611111111111111 0.16162752485305049\n",
      "recall (mean, std) 0.6933333333333334 0.11813363431112903\n",
      "\n",
      "Fitting 5 folds for each of 176 candidates, totalling 880 fits\n",
      "[Parallel(n_jobs=-1)]: Done  56 tasks      | elapsed:    0.3s\n",
      "[Parallel(n_jobs=-1)]: Done 880 out of 880 | elapsed:    1.8s finished\n",
      "[Parallel(n_jobs=-1)]: Using backend LokyBackend with 8 concurrent workers.\n",
      "Best estimator Pipeline(steps=[('pca', PCA(n_components=1)),\n",
      "                ('knn',\n",
      "                 KNeighborsClassifier(n_neighbors=6, p=1, weights='distance'))])\n",
      "Best results 0.622984126984127\n",
      "Best params {'knn__n_neighbors': 6, 'knn__p': 1, 'knn__weights': 'distance', 'pca__n_components': 1}\n",
      "accuracy (mean, std) 0.6533333333333334 0.1514375558880073\n",
      "f1 (mean, std) 0.622984126984127 0.17575293591356403\n",
      "balanced accuracy (mean, std) 0.6555555555555556 0.1699673171197595\n",
      "precision (mean, std) 0.6711111111111112 0.19393265981574603\n",
      "recall (mean, std) 0.6533333333333334 0.1514375558880073\n",
      "\n",
      "Fitting 5 folds for each of 56 candidates, totalling 280 fits\n",
      "[Parallel(n_jobs=-1)]: Done  34 tasks      | elapsed:    2.6s\n",
      "[Parallel(n_jobs=-1)]: Done 184 tasks      | elapsed:   14.1s\n",
      "[Parallel(n_jobs=-1)]: Done 280 out of 280 | elapsed:   20.5s finished\n",
      "Best estimator RandomForestClassifier(max_depth=4, n_jobs=-1, random_state=42)\n",
      "Best results 0.6296507936507936\n",
      "Best params {'class_weight': None, 'max_depth': 4, 'n_estimators': 100}\n",
      "accuracy (mean, std) 0.6533333333333334 0.1514375558880073\n",
      "f1 (mean, std) 0.6296507936507936 0.1746245989741807\n",
      "balanced accuracy (mean, std) 0.6555555555555556 0.1699673171197595\n",
      "precision (mean, std) 0.6777777777777778 0.1942379856303303\n",
      "recall (mean, std) 0.6533333333333334 0.1514375558880073\n",
      "\n",
      "f1_score (weighted) 0.6267020335985853\n",
      "accuracy 0.6551724137931034\n"
     ]
    }
   ],
   "source": [
    "best_result, y_predict, y_predict_proba, result_list = runGridSearchClassifiers(X, y, 5, models_list, parameters_list,                                           output_predict=True, n_jobs=-1, verbose=True)"
   ]
  },
  {
   "cell_type": "code",
   "execution_count": 74,
   "metadata": {},
   "outputs": [
    {
     "output_type": "execute_result",
     "data": {
      "text/plain": [
       "{'best_estimator': RandomForestClassifier(max_depth=4, n_jobs=-1, random_state=42),\n",
       " 'best_score': 0.6296507936507936,\n",
       " 'best_params': {'class_weight': None, 'max_depth': 4, 'n_estimators': 100},\n",
       " 'mean_test_f1_score': 0.6296507936507936,\n",
       " 'std_test_f1_score': 0.1746245989741807,\n",
       " 'mean_test_accuracy_score': 0.6533333333333334,\n",
       " 'std_test_accuracy_score': 0.1514375558880073,\n",
       " 'mean_test_balanced_accuracy_score': 0.6555555555555556,\n",
       " 'std_test_balanced_accuracy_score': 0.1699673171197595,\n",
       " 'mean_test_precision': 0.6777777777777778,\n",
       " 'std_test_precision': 0.1942379856303303,\n",
       " 'mean_test_recall': 0.6533333333333334,\n",
       " 'std_test_recall': 0.1514375558880073}"
      ]
     },
     "metadata": {},
     "execution_count": 74
    }
   ],
   "source": [
    "best_result"
   ]
  },
  {
   "source": [
    "### Vidéo + audio only"
   ],
   "cell_type": "markdown",
   "metadata": {}
  },
  {
   "cell_type": "code",
   "execution_count": 76,
   "metadata": {},
   "outputs": [],
   "source": [
    "df_best_global_prediction = df_video_best_global_prediction.merge(df_audio_only_best_global_prediction, \n",
    "                                how='inner', on=['video_name']) \n",
    "df_best_global_prediction = df_best_global_prediction.merge(df_annotations_stress_global, on=['video_name'])\n",
    "X = df_best_global_prediction.iloc[:,:-1].set_index(['video_name'])\n",
    "y = df_best_global_prediction.iloc[:,-1]\n",
    "#df_best_global_prediction"
   ]
  },
  {
   "cell_type": "code",
   "execution_count": 77,
   "metadata": {},
   "outputs": [
    {
     "output_type": "stream",
     "name": "stdout",
     "text": [
      "f1_score (weighted) 0.6577939100625125\naccuracy 0.6551724137931034\n"
     ]
    }
   ],
   "source": [
    "best_result, y_predict, y_predict_proba, result_list = runGridSearchClassifiers(X, y, 5, models_list, parameters_list,                                           output_predict=True, n_jobs=-1, verbose=False)"
   ]
  },
  {
   "cell_type": "code",
   "execution_count": 79,
   "metadata": {},
   "outputs": [
    {
     "output_type": "execute_result",
     "data": {
      "text/plain": [
       "{'best_estimator': RandomForestClassifier(class_weight='balanced', max_depth=4, n_estimators=200,\n",
       "                        n_jobs=-1, random_state=42),\n",
       " 'best_score': 0.6315555555555556,\n",
       " 'best_params': {'class_weight': 'balanced',\n",
       "  'max_depth': 4,\n",
       "  'n_estimators': 200},\n",
       " 'mean_test_f1_score': 0.6315555555555556,\n",
       " 'std_test_f1_score': 0.21580237873264208,\n",
       " 'mean_test_accuracy_score': 0.6533333333333334,\n",
       " 'std_test_accuracy_score': 0.184511366707974,\n",
       " 'mean_test_balanced_accuracy_score': 0.6777777777777778,\n",
       " 'std_test_balanced_accuracy_score': 0.13788526273323176,\n",
       " 'mean_test_precision': 0.6705555555555556,\n",
       " 'std_test_precision': 0.24894592600417076,\n",
       " 'mean_test_recall': 0.6533333333333334,\n",
       " 'std_test_recall': 0.184511366707974}"
      ]
     },
     "metadata": {},
     "execution_count": 79
    }
   ],
   "source": [
    "best_result"
   ]
  },
  {
   "source": [
    "### Vidéo + audio only + texte"
   ],
   "cell_type": "markdown",
   "metadata": {}
  },
  {
   "cell_type": "code",
   "execution_count": 81,
   "metadata": {},
   "outputs": [],
   "source": [
    "df_best_global_prediction = df_video_best_global_prediction.merge(df_audio_only_best_global_prediction, \n",
    "                                how='inner', on=['video_name']) \n",
    "df_best_global_prediction = df_best_global_prediction.merge(df_text_best_global_prediction, on=['video_name'])\n",
    "df_best_global_prediction = df_best_global_prediction.merge(df_annotations_stress_global, on=['video_name'])\n",
    "X = df_best_global_prediction.iloc[:,:-1].set_index(['video_name'])\n",
    "y = df_best_global_prediction.iloc[:,-1]\n",
    "#df_best_global_prediction"
   ]
  },
  {
   "cell_type": "code",
   "execution_count": 82,
   "metadata": {},
   "outputs": [
    {
     "output_type": "stream",
     "name": "stdout",
     "text": [
      "f1_score (weighted) 0.5782019704433498\naccuracy 0.5862068965517241\n"
     ]
    }
   ],
   "source": [
    "best_result, y_predict, y_predict_proba, result_list = runGridSearchClassifiers(X, y, 5, models_list, parameters_list,                                           output_predict=True, n_jobs=-1, verbose=False)"
   ]
  },
  {
   "cell_type": "code",
   "execution_count": 83,
   "metadata": {},
   "outputs": [
    {
     "output_type": "execute_result",
     "data": {
      "text/plain": [
       "{'best_estimator': Pipeline(steps=[('pca', PCA(n_components=2)),\n",
       "                 ('knn',\n",
       "                  KNeighborsClassifier(n_neighbors=6, p=1, weights='distance'))]),\n",
       " 'best_score': 0.5377777777777778,\n",
       " 'best_params': {'knn__n_neighbors': 6,\n",
       "  'knn__p': 1,\n",
       "  'knn__weights': 'distance',\n",
       "  'pca__n_components': 2},\n",
       " 'mean_test_f1_score': 0.5377777777777778,\n",
       " 'std_test_f1_score': 0.22950295191624792,\n",
       " 'mean_test_accuracy_score': 0.5933333333333334,\n",
       " 'std_test_accuracy_score': 0.19252705437591539,\n",
       " 'mean_test_balanced_accuracy_score': 0.5888888888888888,\n",
       " 'std_test_balanced_accuracy_score': 0.16703662642636563,\n",
       " 'mean_test_precision': 0.5733333333333333,\n",
       " 'std_test_precision': 0.2713114014250228,\n",
       " 'mean_test_recall': 0.5933333333333334,\n",
       " 'std_test_recall': 0.19252705437591539}"
      ]
     },
     "metadata": {},
     "execution_count": 83
    }
   ],
   "source": [
    "best_result"
   ]
  },
  {
   "source": [
    "## Timeframe 5s"
   ],
   "cell_type": "markdown",
   "metadata": {}
  },
  {
   "cell_type": "code",
   "execution_count": 84,
   "metadata": {},
   "outputs": [
    {
     "output_type": "execute_result",
     "data": {
      "text/plain": [
       "                     video_name  diapo  frameTimeWindow  \\\n",
       "0                Test_pour_AFPA      9              220   \n",
       "1                Test_pour_AFPA      9              225   \n",
       "2                Test_pour_AFPA      9              230   \n",
       "3                Test_pour_AFPA      9              235   \n",
       "4                Test_pour_AFPA      9              240   \n",
       "...                         ...    ...              ...   \n",
       "5136  WIN_20210417_14_53_12_Pro     18              600   \n",
       "5137  WIN_20210417_14_53_12_Pro     18              605   \n",
       "5138  WIN_20210417_14_53_12_Pro     18              610   \n",
       "5139  WIN_20210417_14_53_12_Pro     18              615   \n",
       "5140  WIN_20210417_14_53_12_Pro     18              620   \n",
       "\n",
       "      video_diapo_stress_prediction  \n",
       "0                                 0  \n",
       "1                                 0  \n",
       "2                                 0  \n",
       "3                                 0  \n",
       "4                                 0  \n",
       "...                             ...  \n",
       "5136                              1  \n",
       "5137                              1  \n",
       "5138                              1  \n",
       "5139                              1  \n",
       "5140                              1  \n",
       "\n",
       "[5141 rows x 4 columns]"
      ],
      "text/html": "<div>\n<style scoped>\n    .dataframe tbody tr th:only-of-type {\n        vertical-align: middle;\n    }\n\n    .dataframe tbody tr th {\n        vertical-align: top;\n    }\n\n    .dataframe thead th {\n        text-align: right;\n    }\n</style>\n<table border=\"1\" class=\"dataframe\">\n  <thead>\n    <tr style=\"text-align: right;\">\n      <th></th>\n      <th>video_name</th>\n      <th>diapo</th>\n      <th>frameTimeWindow</th>\n      <th>video_diapo_stress_prediction</th>\n    </tr>\n  </thead>\n  <tbody>\n    <tr>\n      <th>0</th>\n      <td>Test_pour_AFPA</td>\n      <td>9</td>\n      <td>220</td>\n      <td>0</td>\n    </tr>\n    <tr>\n      <th>1</th>\n      <td>Test_pour_AFPA</td>\n      <td>9</td>\n      <td>225</td>\n      <td>0</td>\n    </tr>\n    <tr>\n      <th>2</th>\n      <td>Test_pour_AFPA</td>\n      <td>9</td>\n      <td>230</td>\n      <td>0</td>\n    </tr>\n    <tr>\n      <th>3</th>\n      <td>Test_pour_AFPA</td>\n      <td>9</td>\n      <td>235</td>\n      <td>0</td>\n    </tr>\n    <tr>\n      <th>4</th>\n      <td>Test_pour_AFPA</td>\n      <td>9</td>\n      <td>240</td>\n      <td>0</td>\n    </tr>\n    <tr>\n      <th>...</th>\n      <td>...</td>\n      <td>...</td>\n      <td>...</td>\n      <td>...</td>\n    </tr>\n    <tr>\n      <th>5136</th>\n      <td>WIN_20210417_14_53_12_Pro</td>\n      <td>18</td>\n      <td>600</td>\n      <td>1</td>\n    </tr>\n    <tr>\n      <th>5137</th>\n      <td>WIN_20210417_14_53_12_Pro</td>\n      <td>18</td>\n      <td>605</td>\n      <td>1</td>\n    </tr>\n    <tr>\n      <th>5138</th>\n      <td>WIN_20210417_14_53_12_Pro</td>\n      <td>18</td>\n      <td>610</td>\n      <td>1</td>\n    </tr>\n    <tr>\n      <th>5139</th>\n      <td>WIN_20210417_14_53_12_Pro</td>\n      <td>18</td>\n      <td>615</td>\n      <td>1</td>\n    </tr>\n    <tr>\n      <th>5140</th>\n      <td>WIN_20210417_14_53_12_Pro</td>\n      <td>18</td>\n      <td>620</td>\n      <td>1</td>\n    </tr>\n  </tbody>\n</table>\n<p>5141 rows × 4 columns</p>\n</div>"
     },
     "metadata": {},
     "execution_count": 84
    }
   ],
   "source": [
    "df_video_best_5s_prediction = pd.read_csv('video_best_5sec.csv')\n",
    "df_video_best_5s_prediction = df_video_best_5s_prediction.iloc[:,1:]\n",
    "df_video_best_5s_prediction['ypredict'] = df_video_best_5s_prediction['ypredict'].astype(int)\n",
    "df_video_best_5s_prediction['frameTimeWindow'] = df_video_best_5s_prediction['frameTimeWindow'] * 5\n",
    "df_video_best_5s_prediction.columns = ['video_name', 'diapo','frameTimeWindow', 'video_diapo_stress_prediction']\n",
    "df_video_best_5s_prediction"
   ]
  },
  {
   "cell_type": "code",
   "execution_count": 85,
   "metadata": {},
   "outputs": [
    {
     "output_type": "execute_result",
     "data": {
      "text/plain": [
       "                     video_name  diapo  frameTimeWindow  \\\n",
       "0                Test_pour_AFPA      1                0   \n",
       "1                Test_pour_AFPA      1                5   \n",
       "2                Test_pour_AFPA      1               10   \n",
       "3                Test_pour_AFPA      1               15   \n",
       "4                Test_pour_AFPA      1               20   \n",
       "...                         ...    ...              ...   \n",
       "5322  WIN_20210417_14_53_12_Pro     18              600   \n",
       "5323  WIN_20210417_14_53_12_Pro     18              605   \n",
       "5324  WIN_20210417_14_53_12_Pro     18              610   \n",
       "5325  WIN_20210417_14_53_12_Pro     18              615   \n",
       "5326  WIN_20210417_14_53_12_Pro     18              620   \n",
       "\n",
       "      audio_diapo_stress_prediction  \n",
       "0                                 1  \n",
       "1                                 1  \n",
       "2                                 1  \n",
       "3                                 1  \n",
       "4                                 1  \n",
       "...                             ...  \n",
       "5322                              1  \n",
       "5323                              1  \n",
       "5324                              1  \n",
       "5325                              1  \n",
       "5326                              1  \n",
       "\n",
       "[5327 rows x 4 columns]"
      ],
      "text/html": "<div>\n<style scoped>\n    .dataframe tbody tr th:only-of-type {\n        vertical-align: middle;\n    }\n\n    .dataframe tbody tr th {\n        vertical-align: top;\n    }\n\n    .dataframe thead th {\n        text-align: right;\n    }\n</style>\n<table border=\"1\" class=\"dataframe\">\n  <thead>\n    <tr style=\"text-align: right;\">\n      <th></th>\n      <th>video_name</th>\n      <th>diapo</th>\n      <th>frameTimeWindow</th>\n      <th>audio_diapo_stress_prediction</th>\n    </tr>\n  </thead>\n  <tbody>\n    <tr>\n      <th>0</th>\n      <td>Test_pour_AFPA</td>\n      <td>1</td>\n      <td>0</td>\n      <td>1</td>\n    </tr>\n    <tr>\n      <th>1</th>\n      <td>Test_pour_AFPA</td>\n      <td>1</td>\n      <td>5</td>\n      <td>1</td>\n    </tr>\n    <tr>\n      <th>2</th>\n      <td>Test_pour_AFPA</td>\n      <td>1</td>\n      <td>10</td>\n      <td>1</td>\n    </tr>\n    <tr>\n      <th>3</th>\n      <td>Test_pour_AFPA</td>\n      <td>1</td>\n      <td>15</td>\n      <td>1</td>\n    </tr>\n    <tr>\n      <th>4</th>\n      <td>Test_pour_AFPA</td>\n      <td>1</td>\n      <td>20</td>\n      <td>1</td>\n    </tr>\n    <tr>\n      <th>...</th>\n      <td>...</td>\n      <td>...</td>\n      <td>...</td>\n      <td>...</td>\n    </tr>\n    <tr>\n      <th>5322</th>\n      <td>WIN_20210417_14_53_12_Pro</td>\n      <td>18</td>\n      <td>600</td>\n      <td>1</td>\n    </tr>\n    <tr>\n      <th>5323</th>\n      <td>WIN_20210417_14_53_12_Pro</td>\n      <td>18</td>\n      <td>605</td>\n      <td>1</td>\n    </tr>\n    <tr>\n      <th>5324</th>\n      <td>WIN_20210417_14_53_12_Pro</td>\n      <td>18</td>\n      <td>610</td>\n      <td>1</td>\n    </tr>\n    <tr>\n      <th>5325</th>\n      <td>WIN_20210417_14_53_12_Pro</td>\n      <td>18</td>\n      <td>615</td>\n      <td>1</td>\n    </tr>\n    <tr>\n      <th>5326</th>\n      <td>WIN_20210417_14_53_12_Pro</td>\n      <td>18</td>\n      <td>620</td>\n      <td>1</td>\n    </tr>\n  </tbody>\n</table>\n<p>5327 rows × 4 columns</p>\n</div>"
     },
     "metadata": {},
     "execution_count": 85
    }
   ],
   "source": [
    "df_audio_best_5s_prediction = pd.read_csv('audio_best_5sec.csv')\n",
    "df_audio_best_5s_prediction = df_audio_best_5s_prediction.iloc[:,1:]\n",
    "df_audio_best_5s_prediction['ypredict'] = df_audio_best_5s_prediction['ypredict'].astype(int)\n",
    "df_audio_best_5s_prediction.columns = ['video_name', 'diapo','frameTimeWindow','audio_diapo_stress_prediction']\n",
    "df_audio_best_5s_prediction"
   ]
  },
  {
   "source": [
    "### Stacking vertically"
   ],
   "cell_type": "markdown",
   "metadata": {}
  },
  {
   "cell_type": "code",
   "execution_count": 86,
   "metadata": {},
   "outputs": [
    {
     "output_type": "execute_result",
     "data": {
      "text/plain": [
       "                     video_name  diapo  frameTimeWindow  \\\n",
       "0                Test_pour_AFPA      9              220   \n",
       "1                Test_pour_AFPA      9              225   \n",
       "2                Test_pour_AFPA      9              230   \n",
       "3                Test_pour_AFPA      9              235   \n",
       "4                Test_pour_AFPA      9              240   \n",
       "...                         ...    ...              ...   \n",
       "5136  WIN_20210417_14_53_12_Pro     18              600   \n",
       "5137  WIN_20210417_14_53_12_Pro     18              605   \n",
       "5138  WIN_20210417_14_53_12_Pro     18              610   \n",
       "5139  WIN_20210417_14_53_12_Pro     18              615   \n",
       "5140  WIN_20210417_14_53_12_Pro     18              620   \n",
       "\n",
       "      video_diapo_stress_prediction  audio_diapo_stress_prediction  \n",
       "0                                 0                              1  \n",
       "1                                 0                              1  \n",
       "2                                 0                              1  \n",
       "3                                 0                              1  \n",
       "4                                 0                              0  \n",
       "...                             ...                            ...  \n",
       "5136                              1                              1  \n",
       "5137                              1                              1  \n",
       "5138                              1                              1  \n",
       "5139                              1                              1  \n",
       "5140                              1                              1  \n",
       "\n",
       "[5141 rows x 5 columns]"
      ],
      "text/html": "<div>\n<style scoped>\n    .dataframe tbody tr th:only-of-type {\n        vertical-align: middle;\n    }\n\n    .dataframe tbody tr th {\n        vertical-align: top;\n    }\n\n    .dataframe thead th {\n        text-align: right;\n    }\n</style>\n<table border=\"1\" class=\"dataframe\">\n  <thead>\n    <tr style=\"text-align: right;\">\n      <th></th>\n      <th>video_name</th>\n      <th>diapo</th>\n      <th>frameTimeWindow</th>\n      <th>video_diapo_stress_prediction</th>\n      <th>audio_diapo_stress_prediction</th>\n    </tr>\n  </thead>\n  <tbody>\n    <tr>\n      <th>0</th>\n      <td>Test_pour_AFPA</td>\n      <td>9</td>\n      <td>220</td>\n      <td>0</td>\n      <td>1</td>\n    </tr>\n    <tr>\n      <th>1</th>\n      <td>Test_pour_AFPA</td>\n      <td>9</td>\n      <td>225</td>\n      <td>0</td>\n      <td>1</td>\n    </tr>\n    <tr>\n      <th>2</th>\n      <td>Test_pour_AFPA</td>\n      <td>9</td>\n      <td>230</td>\n      <td>0</td>\n      <td>1</td>\n    </tr>\n    <tr>\n      <th>3</th>\n      <td>Test_pour_AFPA</td>\n      <td>9</td>\n      <td>235</td>\n      <td>0</td>\n      <td>1</td>\n    </tr>\n    <tr>\n      <th>4</th>\n      <td>Test_pour_AFPA</td>\n      <td>9</td>\n      <td>240</td>\n      <td>0</td>\n      <td>0</td>\n    </tr>\n    <tr>\n      <th>...</th>\n      <td>...</td>\n      <td>...</td>\n      <td>...</td>\n      <td>...</td>\n      <td>...</td>\n    </tr>\n    <tr>\n      <th>5136</th>\n      <td>WIN_20210417_14_53_12_Pro</td>\n      <td>18</td>\n      <td>600</td>\n      <td>1</td>\n      <td>1</td>\n    </tr>\n    <tr>\n      <th>5137</th>\n      <td>WIN_20210417_14_53_12_Pro</td>\n      <td>18</td>\n      <td>605</td>\n      <td>1</td>\n      <td>1</td>\n    </tr>\n    <tr>\n      <th>5138</th>\n      <td>WIN_20210417_14_53_12_Pro</td>\n      <td>18</td>\n      <td>610</td>\n      <td>1</td>\n      <td>1</td>\n    </tr>\n    <tr>\n      <th>5139</th>\n      <td>WIN_20210417_14_53_12_Pro</td>\n      <td>18</td>\n      <td>615</td>\n      <td>1</td>\n      <td>1</td>\n    </tr>\n    <tr>\n      <th>5140</th>\n      <td>WIN_20210417_14_53_12_Pro</td>\n      <td>18</td>\n      <td>620</td>\n      <td>1</td>\n      <td>1</td>\n    </tr>\n  </tbody>\n</table>\n<p>5141 rows × 5 columns</p>\n</div>"
     },
     "metadata": {},
     "execution_count": 86
    }
   ],
   "source": [
    "df_5s = df_video_best_5s_prediction.merge(df_audio_best_5s_prediction, how='inner', on=['video_name','diapo','frameTimeWindow'])\n",
    "df_5s"
   ]
  },
  {
   "cell_type": "code",
   "execution_count": 87,
   "metadata": {},
   "outputs": [],
   "source": [
    "from scipy.stats import kurtosis, skew\n",
    "\n",
    "def percentil25(x): \n",
    "    return np.percentile(x, q=25)\n",
    "\n",
    "def percentil75(x): \n",
    "    return np.percentile(x, q=75)"
   ]
  },
  {
   "cell_type": "code",
   "execution_count": 88,
   "metadata": {},
   "outputs": [],
   "source": [
    "df_5s = df_5s.groupby(['video_name']).agg({\n",
    "    'audio_diapo_stress_prediction': ['mean','min','max', 'median', 'std', percentil25, percentil75, kurtosis, skew],\n",
    "    'video_diapo_stress_prediction': ['mean','min','max', 'median', 'std', percentil25, percentil75, kurtosis, skew]})"
   ]
  },
  {
   "cell_type": "code",
   "execution_count": 89,
   "metadata": {},
   "outputs": [],
   "source": [
    "df_5s = df_5s.merge(df_annotations_stress_global, on=['video_name'])\n",
    "X = df_5s.iloc[:,:-1]\n",
    "y = df_5s.iloc[:,-1]"
   ]
  },
  {
   "cell_type": "code",
   "execution_count": 114,
   "metadata": {},
   "outputs": [],
   "source": [
    "groups = X.reset_index()['video_name']\n",
    "loo = LeaveOneGroupOut()\n",
    "cv_loo = loo.split(X, y, groups)"
   ]
  },
  {
   "cell_type": "code",
   "execution_count": 92,
   "metadata": {},
   "outputs": [
    {
     "output_type": "stream",
     "name": "stdout",
     "text": [
      "Fitting 5 folds for each of 20 candidates, totalling 100 fits\n",
      "[Parallel(n_jobs=-1)]: Using backend LokyBackend with 8 concurrent workers.\n",
      "[Parallel(n_jobs=-1)]: Done  53 tasks      | elapsed:    0.8s\n",
      "[Parallel(n_jobs=-1)]: Done 100 out of 100 | elapsed:    1.2s finished\n",
      "[Parallel(n_jobs=-1)]: Using backend LokyBackend with 8 concurrent workers.\n",
      "Best estimator LogisticRegression(C=2, multi_class='multinomial', random_state=42)\n",
      "Best results 0.4501587301587301\n",
      "Best params {'C': 2, 'class_weight': None}\n",
      "accuracy (mean, std) 0.48 0.18690461025168248\n",
      "f1 (mean, std) 0.4501587301587301 0.18120728356507085\n",
      "balanced accuracy (mean, std) 0.45555555555555555 0.16254154264808657\n",
      "precision (mean, std) 0.4927777777777777 0.22558292116423098\n",
      "recall (mean, std) 0.48 0.18690461025168248\n",
      "\n",
      "Fitting 5 folds for each of 80 candidates, totalling 400 fits\n",
      "[Parallel(n_jobs=-1)]: Done  56 tasks      | elapsed:    0.5s\n",
      "[Parallel(n_jobs=-1)]: Done 400 out of 400 | elapsed:    2.5s finished\n",
      "[Parallel(n_jobs=-1)]: Using backend LokyBackend with 8 concurrent workers.\n",
      "Best estimator Pipeline(steps=[('pca', PCA(n_components=1)),\n",
      "                ('logistic',\n",
      "                 LogisticRegression(C=0.01, multi_class='multinomial'))])\n",
      "Best results 0.41261904761904755\n",
      "Best params {'logistic__C': 0.01, 'logistic__class_weight': None, 'pca__n_components': 1}\n",
      "accuracy (mean, std) 0.52 0.039999999999999994\n",
      "f1 (mean, std) 0.41261904761904755 0.023717281636472028\n",
      "balanced accuracy (mean, std) 0.4333333333333333 0.08164965809277261\n",
      "precision (mean, std) 0.4119999999999999 0.06958927120373272\n",
      "recall (mean, std) 0.52 0.039999999999999994\n",
      "\n",
      "Fitting 5 folds for each of 44 candidates, totalling 220 fits\n",
      "[Parallel(n_jobs=-1)]: Done  52 tasks      | elapsed:    0.4s\n",
      "[Parallel(n_jobs=-1)]: Done 220 out of 220 | elapsed:    0.9s finished\n",
      "[Parallel(n_jobs=-1)]: Using backend LokyBackend with 8 concurrent workers.\n",
      "Best estimator KNeighborsClassifier(n_neighbors=9, weights='distance')\n",
      "Best results 0.39904761904761904\n",
      "Best params {'n_neighbors': 9, 'p': 2, 'weights': 'distance'}\n",
      "accuracy (mean, std) 0.4533333333333333 0.23532483459630385\n",
      "f1 (mean, std) 0.39904761904761904 0.2266622204001243\n",
      "balanced accuracy (mean, std) 0.45555555555555555 0.2519063121945474\n",
      "precision (mean, std) 0.42055555555555557 0.2930764868775621\n",
      "recall (mean, std) 0.4533333333333333 0.23532483459630385\n",
      "\n",
      "Fitting 5 folds for each of 176 candidates, totalling 880 fits\n",
      "[Parallel(n_jobs=-1)]: Done  56 tasks      | elapsed:    0.3s\n",
      "[Parallel(n_jobs=-1)]: Done 880 out of 880 | elapsed:    2.6s finished\n",
      "[Parallel(n_jobs=-1)]: Using backend LokyBackend with 8 concurrent workers.\n",
      "Best estimator Pipeline(steps=[('pca', PCA(n_components=1)),\n",
      "                ('knn',\n",
      "                 KNeighborsClassifier(n_neighbors=4, p=1, weights='distance'))])\n",
      "Best results 0.4394444444444444\n",
      "Best params {'knn__n_neighbors': 4, 'knn__p': 1, 'knn__weights': 'distance', 'pca__n_components': 1}\n",
      "accuracy (mean, std) 0.48 0.1127435635019184\n",
      "f1 (mean, std) 0.4394444444444444 0.1276617830997105\n",
      "balanced accuracy (mean, std) 0.45555555555555555 0.12372809695177826\n",
      "precision (mean, std) 0.47777777777777775 0.20354876262319085\n",
      "recall (mean, std) 0.48 0.1127435635019184\n",
      "\n",
      "Fitting 5 folds for each of 56 candidates, totalling 280 fits\n",
      "[Parallel(n_jobs=-1)]: Done  52 tasks      | elapsed:    3.5s\n",
      "[Parallel(n_jobs=-1)]: Done 224 tasks      | elapsed:   13.9s\n",
      "[Parallel(n_jobs=-1)]: Done 280 out of 280 | elapsed:   17.6s finished\n",
      "Best estimator RandomForestClassifier(class_weight='balanced', max_depth=6, n_estimators=150,\n",
      "                       n_jobs=-1, random_state=42)\n",
      "Best results 0.4412698412698412\n",
      "Best params {'class_weight': 'balanced', 'max_depth': 6, 'n_estimators': 150}\n",
      "accuracy (mean, std) 0.5066666666666667 0.2264705033528404\n",
      "f1 (mean, std) 0.4412698412698412 0.23818411039772608\n",
      "balanced accuracy (mean, std) 0.5 0.21081851067789198\n",
      "precision (mean, std) 0.41722222222222227 0.2719408977183312\n",
      "recall (mean, std) 0.5066666666666667 0.2264705033528404\n",
      "\n",
      "f1_score (weighted) 0.48105781695618355\n",
      "accuracy 0.4827586206896552\n"
     ]
    }
   ],
   "source": [
    "best_result, y_predict, y_predict_proba, result_list = runGridSearchClassifiers(X, y, 5, models_list, parameters_list, output_predict=True, n_jobs=-1, verbose=True)"
   ]
  },
  {
   "cell_type": "code",
   "execution_count": 93,
   "metadata": {},
   "outputs": [
    {
     "output_type": "execute_result",
     "data": {
      "text/plain": [
       "{'best_estimator': LogisticRegression(C=2, multi_class='multinomial', random_state=42),\n",
       " 'best_score': 0.4501587301587301,\n",
       " 'best_params': {'C': 2, 'class_weight': None},\n",
       " 'mean_test_f1_score': 0.4501587301587301,\n",
       " 'std_test_f1_score': 0.18120728356507085,\n",
       " 'mean_test_accuracy_score': 0.48,\n",
       " 'std_test_accuracy_score': 0.18690461025168248,\n",
       " 'mean_test_balanced_accuracy_score': 0.45555555555555555,\n",
       " 'std_test_balanced_accuracy_score': 0.16254154264808657,\n",
       " 'mean_test_precision': 0.4927777777777777,\n",
       " 'std_test_precision': 0.22558292116423098,\n",
       " 'mean_test_recall': 0.48,\n",
       " 'std_test_recall': 0.18690461025168248}"
      ]
     },
     "metadata": {},
     "execution_count": 93
    }
   ],
   "source": [
    "best_result"
   ]
  },
  {
   "source": [
    "### Stacking horizontally"
   ],
   "cell_type": "markdown",
   "metadata": {}
  },
  {
   "cell_type": "code",
   "execution_count": 104,
   "metadata": {},
   "outputs": [],
   "source": [
    "df_video_best_5s_prediction_2 = df_video_best_5s_prediction.copy()\n",
    "df_audio_best_5s_prediction_2 = df_audio_best_5s_prediction.copy()\n",
    "df_video_best_5s_prediction_2.columns = ['video_name',\t'diapo',\t'frameTimeWindow',\t'ypredict']\n",
    "df_audio_best_5s_prediction_2.columns = ['video_name',\t'diapo',\t'frameTimeWindow',\t'ypredict']\n",
    "df_5s = pd.concat([df_video_best_5s_prediction_2,df_audio_best_5s_prediction_2], axis=0)\n",
    "df_5s = df_5s.groupby(['video_name']).agg({\n",
    "    'ypredict': ['mean','min','max', 'median', 'std', percentil25, percentil75, kurtosis, skew]})"
   ]
  },
  {
   "cell_type": "code",
   "execution_count": 105,
   "metadata": {},
   "outputs": [
    {
     "output_type": "execute_result",
     "data": {
      "text/plain": [
       "                                 ypredict                           \\\n",
       "                                     mean min max median       std   \n",
       "video_name                                                           \n",
       "Test_pour_AFPA                   0.777778   0   2      1  0.422614   \n",
       "Video_1                          0.543046   0   1      1  0.498970   \n",
       "WIN_20210323_19_17_40_Pro        0.949405   0   1      1  0.219497   \n",
       "WIN_20210329_10_16_02_Pro        0.952381   0   1      1  0.213322   \n",
       "WIN_20210330_13_10_29_Pro        0.566225   0   2      1  0.509627   \n",
       "WIN_20210331_21_22_52_Pro        0.902941   0   2      1  0.491212   \n",
       "WIN_20210402_14_27_50_Pro        1.000000   1   1      1  0.000000   \n",
       "WIN_20210402_19_04_53_Pro        0.685714   0   2      1  0.494753   \n",
       "WIN_20210403_18_49_15_Pro        0.895028   0   2      1  0.324490   \n",
       "WIN_20210404_10_58_27_Pro        0.645000   0   1      1  0.479113   \n",
       "WIN_20210404_21_41_12_Pro        0.717672   0   1      1  0.450618   \n",
       "WIN_20210405_15_09_16_Pro        0.754839   0   1      1  0.430878   \n",
       "WIN_20210406_15_06_15_Pro        0.865854   0   1      1  0.341226   \n",
       "WIN_20210406_18_35_52_Pro        0.724684   0   1      1  0.447382   \n",
       "WIN_20210406_18_49_10_Pro        0.716374   0   2      1  0.457868   \n",
       "WIN_20210406_21_05_52_Pro        1.010811   0   2      1  0.243933   \n",
       "WIN_20210407_09_04_05_Pro        0.267016   0   2      0  0.454676   \n",
       "WIN_20210407_14_54_56_Pro_edit2  0.644654   0   1      1  0.479372   \n",
       "WIN_20210408_11_48_58_Pro        0.908889   0   2      1  0.350832   \n",
       "WIN_20210408_14_00_44_Pro        0.424157   0   1      0  0.494910   \n",
       "WIN_20210408_14_02_19_Pro        0.911765   0   1      1  0.284055   \n",
       "WIN_20210408_14_11_32_Pro        0.689103   0   1      1  0.463604   \n",
       "WIN_20210408_15_20_51_Pro        0.708333   0   2      0  0.820936   \n",
       "WIN_20210408_16_04_32_Pro        0.635294   0   2      1  0.511740   \n",
       "WIN_20210409_10_26_11_Pro        0.719653   0   1      1  0.449819   \n",
       "WIN_20210413_15_38_01_Pro        0.699422   0   1      1  0.459173   \n",
       "WIN_20210414_06_24_52_Pro        0.922280   0   2      1  0.304377   \n",
       "WIN_20210415_15_41_24_Pro        0.755760   0   1      1  0.430131   \n",
       "WIN_20210416_08_06_54_Pro        0.966258   0   2      1  0.306990   \n",
       "WIN_20210417_14_53_12_Pro        0.530534   0   1      1  0.500022   \n",
       "\n",
       "                                                                              \n",
       "                                percentil25 percentil75   kurtosis      skew  \n",
       "video_name                                                                    \n",
       "Test_pour_AFPA                            1           1  -0.161161 -1.230294  \n",
       "Video_1                                   0           1  -1.970131 -0.172827  \n",
       "WIN_20210323_19_17_40_Pro                 1           1  14.817997 -4.100975  \n",
       "WIN_20210329_10_16_02_Pro                 1           1  16.050000 -4.248529  \n",
       "WIN_20210330_13_10_29_Pro                 0           1  -1.614595 -0.116137  \n",
       "WIN_20210331_21_22_52_Pro                 1           1   0.907886 -0.221127  \n",
       "WIN_20210402_14_27_50_Pro                 1           1  -3.000000  0.000000  \n",
       "WIN_20210402_19_04_53_Pro                 0           1  -0.957551 -0.440409  \n",
       "WIN_20210403_18_49_15_Pro                 1           1   4.187980 -2.079290  \n",
       "WIN_20210404_10_58_27_Pro                 0           1  -1.632711 -0.606044  \n",
       "WIN_20210404_21_41_12_Pro                 0           1  -1.064622 -0.967149  \n",
       "WIN_20210405_15_09_16_Pro                 1           1  -0.596266 -1.184793  \n",
       "WIN_20210406_15_06_15_Pro                 1           1   2.609475 -2.146969  \n",
       "WIN_20210406_18_35_52_Pro                 0           1  -0.987903 -1.006030  \n",
       "WIN_20210406_18_49_10_Pro                 0           1  -0.985890 -0.867976  \n",
       "WIN_20210406_21_05_52_Pro                 1           1  13.763569  0.614616  \n",
       "WIN_20210407_09_04_05_Pro                 0           1  -0.059154  1.219996  \n",
       "WIN_20210407_14_54_56_Pro_edit2           0           1  -1.634621 -0.604466  \n",
       "WIN_20210408_11_48_58_Pro                 1           1   3.910749 -1.319462  \n",
       "WIN_20210408_14_00_44_Pro                 0           1  -1.905799  0.306922  \n",
       "WIN_20210408_14_02_19_Pro                 1           1   6.430108 -2.903465  \n",
       "WIN_20210408_14_11_32_Pro                 0           1  -1.332342 -0.817103  \n",
       "WIN_20210408_15_20_51_Pro                 0           1  -1.269932  0.583053  \n",
       "WIN_20210408_16_04_32_Pro                 0           1  -1.188080 -0.228703  \n",
       "WIN_20210409_10_26_11_Pro                 0           1  -1.043431 -0.978043  \n",
       "WIN_20210413_15_38_01_Pro                 0           1  -1.243325 -0.869871  \n",
       "WIN_20210414_06_24_52_Pro                 1           1   6.104688 -1.983141  \n",
       "WIN_20210415_15_41_24_Pro                 1           1  -0.582490 -1.190592  \n",
       "WIN_20210416_08_06_54_Pro                 1           1   7.329773 -0.840089  \n",
       "WIN_20210417_14_53_12_Pro                 0           1  -1.985027 -0.122366  "
      ],
      "text/html": "<div>\n<style scoped>\n    .dataframe tbody tr th:only-of-type {\n        vertical-align: middle;\n    }\n\n    .dataframe tbody tr th {\n        vertical-align: top;\n    }\n\n    .dataframe thead tr th {\n        text-align: left;\n    }\n\n    .dataframe thead tr:last-of-type th {\n        text-align: right;\n    }\n</style>\n<table border=\"1\" class=\"dataframe\">\n  <thead>\n    <tr>\n      <th></th>\n      <th colspan=\"9\" halign=\"left\">ypredict</th>\n    </tr>\n    <tr>\n      <th></th>\n      <th>mean</th>\n      <th>min</th>\n      <th>max</th>\n      <th>median</th>\n      <th>std</th>\n      <th>percentil25</th>\n      <th>percentil75</th>\n      <th>kurtosis</th>\n      <th>skew</th>\n    </tr>\n    <tr>\n      <th>video_name</th>\n      <th></th>\n      <th></th>\n      <th></th>\n      <th></th>\n      <th></th>\n      <th></th>\n      <th></th>\n      <th></th>\n      <th></th>\n    </tr>\n  </thead>\n  <tbody>\n    <tr>\n      <th>Test_pour_AFPA</th>\n      <td>0.777778</td>\n      <td>0</td>\n      <td>2</td>\n      <td>1</td>\n      <td>0.422614</td>\n      <td>1</td>\n      <td>1</td>\n      <td>-0.161161</td>\n      <td>-1.230294</td>\n    </tr>\n    <tr>\n      <th>Video_1</th>\n      <td>0.543046</td>\n      <td>0</td>\n      <td>1</td>\n      <td>1</td>\n      <td>0.498970</td>\n      <td>0</td>\n      <td>1</td>\n      <td>-1.970131</td>\n      <td>-0.172827</td>\n    </tr>\n    <tr>\n      <th>WIN_20210323_19_17_40_Pro</th>\n      <td>0.949405</td>\n      <td>0</td>\n      <td>1</td>\n      <td>1</td>\n      <td>0.219497</td>\n      <td>1</td>\n      <td>1</td>\n      <td>14.817997</td>\n      <td>-4.100975</td>\n    </tr>\n    <tr>\n      <th>WIN_20210329_10_16_02_Pro</th>\n      <td>0.952381</td>\n      <td>0</td>\n      <td>1</td>\n      <td>1</td>\n      <td>0.213322</td>\n      <td>1</td>\n      <td>1</td>\n      <td>16.050000</td>\n      <td>-4.248529</td>\n    </tr>\n    <tr>\n      <th>WIN_20210330_13_10_29_Pro</th>\n      <td>0.566225</td>\n      <td>0</td>\n      <td>2</td>\n      <td>1</td>\n      <td>0.509627</td>\n      <td>0</td>\n      <td>1</td>\n      <td>-1.614595</td>\n      <td>-0.116137</td>\n    </tr>\n    <tr>\n      <th>WIN_20210331_21_22_52_Pro</th>\n      <td>0.902941</td>\n      <td>0</td>\n      <td>2</td>\n      <td>1</td>\n      <td>0.491212</td>\n      <td>1</td>\n      <td>1</td>\n      <td>0.907886</td>\n      <td>-0.221127</td>\n    </tr>\n    <tr>\n      <th>WIN_20210402_14_27_50_Pro</th>\n      <td>1.000000</td>\n      <td>1</td>\n      <td>1</td>\n      <td>1</td>\n      <td>0.000000</td>\n      <td>1</td>\n      <td>1</td>\n      <td>-3.000000</td>\n      <td>0.000000</td>\n    </tr>\n    <tr>\n      <th>WIN_20210402_19_04_53_Pro</th>\n      <td>0.685714</td>\n      <td>0</td>\n      <td>2</td>\n      <td>1</td>\n      <td>0.494753</td>\n      <td>0</td>\n      <td>1</td>\n      <td>-0.957551</td>\n      <td>-0.440409</td>\n    </tr>\n    <tr>\n      <th>WIN_20210403_18_49_15_Pro</th>\n      <td>0.895028</td>\n      <td>0</td>\n      <td>2</td>\n      <td>1</td>\n      <td>0.324490</td>\n      <td>1</td>\n      <td>1</td>\n      <td>4.187980</td>\n      <td>-2.079290</td>\n    </tr>\n    <tr>\n      <th>WIN_20210404_10_58_27_Pro</th>\n      <td>0.645000</td>\n      <td>0</td>\n      <td>1</td>\n      <td>1</td>\n      <td>0.479113</td>\n      <td>0</td>\n      <td>1</td>\n      <td>-1.632711</td>\n      <td>-0.606044</td>\n    </tr>\n    <tr>\n      <th>WIN_20210404_21_41_12_Pro</th>\n      <td>0.717672</td>\n      <td>0</td>\n      <td>1</td>\n      <td>1</td>\n      <td>0.450618</td>\n      <td>0</td>\n      <td>1</td>\n      <td>-1.064622</td>\n      <td>-0.967149</td>\n    </tr>\n    <tr>\n      <th>WIN_20210405_15_09_16_Pro</th>\n      <td>0.754839</td>\n      <td>0</td>\n      <td>1</td>\n      <td>1</td>\n      <td>0.430878</td>\n      <td>1</td>\n      <td>1</td>\n      <td>-0.596266</td>\n      <td>-1.184793</td>\n    </tr>\n    <tr>\n      <th>WIN_20210406_15_06_15_Pro</th>\n      <td>0.865854</td>\n      <td>0</td>\n      <td>1</td>\n      <td>1</td>\n      <td>0.341226</td>\n      <td>1</td>\n      <td>1</td>\n      <td>2.609475</td>\n      <td>-2.146969</td>\n    </tr>\n    <tr>\n      <th>WIN_20210406_18_35_52_Pro</th>\n      <td>0.724684</td>\n      <td>0</td>\n      <td>1</td>\n      <td>1</td>\n      <td>0.447382</td>\n      <td>0</td>\n      <td>1</td>\n      <td>-0.987903</td>\n      <td>-1.006030</td>\n    </tr>\n    <tr>\n      <th>WIN_20210406_18_49_10_Pro</th>\n      <td>0.716374</td>\n      <td>0</td>\n      <td>2</td>\n      <td>1</td>\n      <td>0.457868</td>\n      <td>0</td>\n      <td>1</td>\n      <td>-0.985890</td>\n      <td>-0.867976</td>\n    </tr>\n    <tr>\n      <th>WIN_20210406_21_05_52_Pro</th>\n      <td>1.010811</td>\n      <td>0</td>\n      <td>2</td>\n      <td>1</td>\n      <td>0.243933</td>\n      <td>1</td>\n      <td>1</td>\n      <td>13.763569</td>\n      <td>0.614616</td>\n    </tr>\n    <tr>\n      <th>WIN_20210407_09_04_05_Pro</th>\n      <td>0.267016</td>\n      <td>0</td>\n      <td>2</td>\n      <td>0</td>\n      <td>0.454676</td>\n      <td>0</td>\n      <td>1</td>\n      <td>-0.059154</td>\n      <td>1.219996</td>\n    </tr>\n    <tr>\n      <th>WIN_20210407_14_54_56_Pro_edit2</th>\n      <td>0.644654</td>\n      <td>0</td>\n      <td>1</td>\n      <td>1</td>\n      <td>0.479372</td>\n      <td>0</td>\n      <td>1</td>\n      <td>-1.634621</td>\n      <td>-0.604466</td>\n    </tr>\n    <tr>\n      <th>WIN_20210408_11_48_58_Pro</th>\n      <td>0.908889</td>\n      <td>0</td>\n      <td>2</td>\n      <td>1</td>\n      <td>0.350832</td>\n      <td>1</td>\n      <td>1</td>\n      <td>3.910749</td>\n      <td>-1.319462</td>\n    </tr>\n    <tr>\n      <th>WIN_20210408_14_00_44_Pro</th>\n      <td>0.424157</td>\n      <td>0</td>\n      <td>1</td>\n      <td>0</td>\n      <td>0.494910</td>\n      <td>0</td>\n      <td>1</td>\n      <td>-1.905799</td>\n      <td>0.306922</td>\n    </tr>\n    <tr>\n      <th>WIN_20210408_14_02_19_Pro</th>\n      <td>0.911765</td>\n      <td>0</td>\n      <td>1</td>\n      <td>1</td>\n      <td>0.284055</td>\n      <td>1</td>\n      <td>1</td>\n      <td>6.430108</td>\n      <td>-2.903465</td>\n    </tr>\n    <tr>\n      <th>WIN_20210408_14_11_32_Pro</th>\n      <td>0.689103</td>\n      <td>0</td>\n      <td>1</td>\n      <td>1</td>\n      <td>0.463604</td>\n      <td>0</td>\n      <td>1</td>\n      <td>-1.332342</td>\n      <td>-0.817103</td>\n    </tr>\n    <tr>\n      <th>WIN_20210408_15_20_51_Pro</th>\n      <td>0.708333</td>\n      <td>0</td>\n      <td>2</td>\n      <td>0</td>\n      <td>0.820936</td>\n      <td>0</td>\n      <td>1</td>\n      <td>-1.269932</td>\n      <td>0.583053</td>\n    </tr>\n    <tr>\n      <th>WIN_20210408_16_04_32_Pro</th>\n      <td>0.635294</td>\n      <td>0</td>\n      <td>2</td>\n      <td>1</td>\n      <td>0.511740</td>\n      <td>0</td>\n      <td>1</td>\n      <td>-1.188080</td>\n      <td>-0.228703</td>\n    </tr>\n    <tr>\n      <th>WIN_20210409_10_26_11_Pro</th>\n      <td>0.719653</td>\n      <td>0</td>\n      <td>1</td>\n      <td>1</td>\n      <td>0.449819</td>\n      <td>0</td>\n      <td>1</td>\n      <td>-1.043431</td>\n      <td>-0.978043</td>\n    </tr>\n    <tr>\n      <th>WIN_20210413_15_38_01_Pro</th>\n      <td>0.699422</td>\n      <td>0</td>\n      <td>1</td>\n      <td>1</td>\n      <td>0.459173</td>\n      <td>0</td>\n      <td>1</td>\n      <td>-1.243325</td>\n      <td>-0.869871</td>\n    </tr>\n    <tr>\n      <th>WIN_20210414_06_24_52_Pro</th>\n      <td>0.922280</td>\n      <td>0</td>\n      <td>2</td>\n      <td>1</td>\n      <td>0.304377</td>\n      <td>1</td>\n      <td>1</td>\n      <td>6.104688</td>\n      <td>-1.983141</td>\n    </tr>\n    <tr>\n      <th>WIN_20210415_15_41_24_Pro</th>\n      <td>0.755760</td>\n      <td>0</td>\n      <td>1</td>\n      <td>1</td>\n      <td>0.430131</td>\n      <td>1</td>\n      <td>1</td>\n      <td>-0.582490</td>\n      <td>-1.190592</td>\n    </tr>\n    <tr>\n      <th>WIN_20210416_08_06_54_Pro</th>\n      <td>0.966258</td>\n      <td>0</td>\n      <td>2</td>\n      <td>1</td>\n      <td>0.306990</td>\n      <td>1</td>\n      <td>1</td>\n      <td>7.329773</td>\n      <td>-0.840089</td>\n    </tr>\n    <tr>\n      <th>WIN_20210417_14_53_12_Pro</th>\n      <td>0.530534</td>\n      <td>0</td>\n      <td>1</td>\n      <td>1</td>\n      <td>0.500022</td>\n      <td>0</td>\n      <td>1</td>\n      <td>-1.985027</td>\n      <td>-0.122366</td>\n    </tr>\n  </tbody>\n</table>\n</div>"
     },
     "metadata": {},
     "execution_count": 105
    }
   ],
   "source": [
    "df_5s"
   ]
  },
  {
   "cell_type": "code",
   "execution_count": 106,
   "metadata": {},
   "outputs": [],
   "source": [
    "df_5s = df_5s.merge(df_annotations_stress_global, on=['video_name'])\n",
    "X = df_5s.iloc[:,:-1]\n",
    "y = df_5s.iloc[:,-1]"
   ]
  },
  {
   "cell_type": "code",
   "execution_count": 109,
   "metadata": {},
   "outputs": [
    {
     "output_type": "stream",
     "name": "stdout",
     "text": [
      "Fitting 5 folds for each of 20 candidates, totalling 100 fits\n",
      "[Parallel(n_jobs=-1)]: Using backend LokyBackend with 8 concurrent workers.\n",
      "[Parallel(n_jobs=-1)]: Done  34 tasks      | elapsed:    2.1s\n",
      "[Parallel(n_jobs=-1)]: Done  85 out of 100 | elapsed:    2.6s remaining:    0.5s\n",
      "[Parallel(n_jobs=-1)]: Done 100 out of 100 | elapsed:    2.7s finished\n",
      "[Parallel(n_jobs=-1)]: Using backend LokyBackend with 8 concurrent workers.\n",
      "Best estimator LogisticRegression(C=0.5, class_weight='balanced', multi_class='multinomial',\n",
      "                   random_state=42)\n",
      "Best results 0.47714285714285704\n",
      "Best params {'C': 0.5, 'class_weight': 'balanced'}\n",
      "accuracy (mean, std) 0.5 0.14907119849998596\n",
      "f1 (mean, std) 0.47714285714285704 0.1525713096723869\n",
      "balanced accuracy (mean, std) 0.4333333333333333 0.08164965809277261\n",
      "precision (mean, std) 0.5127777777777778 0.15744487571492727\n",
      "recall (mean, std) 0.5 0.14907119849998596\n",
      "\n",
      "Fitting 5 folds for each of 80 candidates, totalling 400 fits\n",
      "[Parallel(n_jobs=-1)]: Done  56 tasks      | elapsed:    0.4s\n",
      "[Parallel(n_jobs=-1)]: Done 400 out of 400 | elapsed:    1.9s finished\n",
      "[Parallel(n_jobs=-1)]: Using backend LokyBackend with 8 concurrent workers.\n",
      "Best estimator Pipeline(steps=[('pca', PCA(n_components=3)),\n",
      "                ('logistic',\n",
      "                 LogisticRegression(C=3, class_weight='balanced',\n",
      "                                    multi_class='multinomial'))])\n",
      "Best results 0.5622222222222222\n",
      "Best params {'logistic__C': 3, 'logistic__class_weight': 'balanced', 'pca__n_components': 3}\n",
      "accuracy (mean, std) 0.5666666666666667 0.20000000000000004\n",
      "f1 (mean, std) 0.5622222222222222 0.20228326307067157\n",
      "balanced accuracy (mean, std) 0.5333333333333334 0.19436506316151\n",
      "precision (mean, std) 0.6055555555555555 0.22249982660556428\n",
      "recall (mean, std) 0.5666666666666667 0.20000000000000004\n",
      "\n",
      "Fitting 5 folds for each of 44 candidates, totalling 220 fits\n",
      "[Parallel(n_jobs=-1)]: Done  56 tasks      | elapsed:    0.2s\n",
      "[Parallel(n_jobs=-1)]: Done 220 out of 220 | elapsed:    0.6s finished\n",
      "[Parallel(n_jobs=-1)]: Using backend LokyBackend with 8 concurrent workers.\n",
      "Best estimator KNeighborsClassifier()\n",
      "Best results 0.5393650793650793\n",
      "Best params {'n_neighbors': 5, 'p': 2, 'weights': 'uniform'}\n",
      "accuracy (mean, std) 0.6 0.2905932629027116\n",
      "f1 (mean, std) 0.5393650793650793 0.3050435206797423\n",
      "balanced accuracy (mean, std) 0.5666666666666667 0.27080128015453203\n",
      "precision (mean, std) 0.523888888888889 0.3068135718986932\n",
      "recall (mean, std) 0.6 0.2905932629027116\n",
      "\n",
      "Fitting 5 folds for each of 176 candidates, totalling 880 fits\n",
      "[Parallel(n_jobs=-1)]: Done  56 tasks      | elapsed:    0.4s\n",
      "[Parallel(n_jobs=-1)]: Done 880 out of 880 | elapsed:    2.8s finished\n",
      "[Parallel(n_jobs=-1)]: Using backend LokyBackend with 8 concurrent workers.\n",
      "Best estimator Pipeline(steps=[('pca', PCA(n_components=3)), ('knn', KNeighborsClassifier())])\n",
      "Best results 0.5393650793650793\n",
      "Best params {'knn__n_neighbors': 5, 'knn__p': 2, 'knn__weights': 'uniform', 'pca__n_components': 3}\n",
      "accuracy (mean, std) 0.6 0.2905932629027116\n",
      "f1 (mean, std) 0.5393650793650793 0.3050435206797423\n",
      "balanced accuracy (mean, std) 0.5666666666666667 0.27080128015453203\n",
      "precision (mean, std) 0.523888888888889 0.3068135718986932\n",
      "recall (mean, std) 0.6 0.2905932629027116\n",
      "\n",
      "Fitting 5 folds for each of 56 candidates, totalling 280 fits\n",
      "[Parallel(n_jobs=-1)]: Done  34 tasks      | elapsed:    2.5s\n",
      "[Parallel(n_jobs=-1)]: Done 184 tasks      | elapsed:   12.0s\n",
      "[Parallel(n_jobs=-1)]: Done 280 out of 280 | elapsed:   18.2s finished\n",
      "Best estimator RandomForestClassifier(class_weight='balanced', max_depth=10, n_estimators=50,\n",
      "                       n_jobs=-1, random_state=42)\n",
      "Best results 0.5901587301587302\n",
      "Best params {'class_weight': 'balanced', 'max_depth': 10, 'n_estimators': 50}\n",
      "accuracy (mean, std) 0.6 0.16996731711975951\n",
      "f1 (mean, std) 0.5901587301587302 0.17749807929436084\n",
      "balanced accuracy (mean, std) 0.5777777777777778 0.1777777777777778\n",
      "precision (mean, std) 0.625 0.21372648957412607\n",
      "recall (mean, std) 0.6 0.16996731711975951\n",
      "\n",
      "f1_score (weighted) 0.5906485671191554\n",
      "accuracy 0.6\n"
     ]
    }
   ],
   "source": [
    "best_result, y_predict, y_predict_proba, result_list = runGridSearchClassifiers(X, y, 5, models_list, parameters_list, output_predict=True, n_jobs=-1, verbose=True)"
   ]
  },
  {
   "cell_type": "code",
   "execution_count": 110,
   "metadata": {},
   "outputs": [
    {
     "output_type": "execute_result",
     "data": {
      "text/plain": [
       "{'best_estimator': RandomForestClassifier(class_weight='balanced', max_depth=10, n_estimators=50,\n",
       "                        n_jobs=-1, random_state=42),\n",
       " 'best_score': 0.5901587301587302,\n",
       " 'best_params': {'class_weight': 'balanced',\n",
       "  'max_depth': 10,\n",
       "  'n_estimators': 50},\n",
       " 'mean_test_f1_score': 0.5901587301587302,\n",
       " 'std_test_f1_score': 0.17749807929436084,\n",
       " 'mean_test_accuracy_score': 0.6,\n",
       " 'std_test_accuracy_score': 0.16996731711975951,\n",
       " 'mean_test_balanced_accuracy_score': 0.5777777777777778,\n",
       " 'std_test_balanced_accuracy_score': 0.1777777777777778,\n",
       " 'mean_test_precision': 0.625,\n",
       " 'std_test_precision': 0.21372648957412607,\n",
       " 'mean_test_recall': 0.6,\n",
       " 'std_test_recall': 0.16996731711975951}"
      ]
     },
     "metadata": {},
     "execution_count": 110
    }
   ],
   "source": [
    "best_result"
   ]
  },
  {
   "cell_type": "code",
   "execution_count": null,
   "metadata": {},
   "outputs": [],
   "source": []
  }
 ]
}