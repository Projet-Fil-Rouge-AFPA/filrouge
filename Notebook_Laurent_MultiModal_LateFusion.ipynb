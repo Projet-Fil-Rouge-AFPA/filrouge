{
 "metadata": {
  "language_info": {
   "codemirror_mode": {
    "name": "ipython",
    "version": 3
   },
   "file_extension": ".py",
   "mimetype": "text/x-python",
   "name": "python",
   "nbconvert_exporter": "python",
   "pygments_lexer": "ipython3",
   "version": "3.8.5"
  },
  "orig_nbformat": 4,
  "kernelspec": {
   "name": "python3",
   "display_name": "Python 3.8.5 64-bit ('base': conda)"
  },
  "interpreter": {
   "hash": "148f6ed9de8dadedbbd96ef8a7e818f87aaafab3c59f5306aa9910b4f09c5b3f"
  }
 },
 "nbformat": 4,
 "nbformat_minor": 2,
 "cells": [
  {
   "cell_type": "code",
   "execution_count": 1,
   "metadata": {},
   "outputs": [],
   "source": [
    "import numpy as np \n",
    "import pandas as pd \n",
    "import matplotlib.pyplot as plt \n",
    "import pathlib\n",
    "from util import runGridSearchClassifiers"
   ]
  },
  {
   "source": [
    "## Data loading"
   ],
   "cell_type": "markdown",
   "metadata": {}
  },
  {
   "cell_type": "code",
   "execution_count": 2,
   "metadata": {},
   "outputs": [],
   "source": [
    "## Vidéo\n",
    "df_video_best_diapo_prediction = pd.read_csv('video_best_diapo.csv')\n",
    "df_video_best_diapo_prediction = df_video_best_diapo_prediction.iloc[:,1:]\n",
    "df_video_best_diapo_prediction['ypredict'] = df_video_best_diapo_prediction['ypredict'].astype(int)\n",
    "df_video_best_diapo_prediction.columns = ['video_name', 'diapo','video_diapo_stress_prediction']\n",
    "#df_video_best_diapo_prediction"
   ]
  },
  {
   "cell_type": "code",
   "execution_count": 3,
   "metadata": {},
   "outputs": [],
   "source": [
    "df_video_best_global_prediction = pd.read_csv('video_best_global.csv')\n",
    "df_video_best_global_prediction = df_video_best_global_prediction.iloc[:,1:]\n",
    "df_video_best_global_prediction['y_predict_tw5_diapo_minmax_global'] = df_video_best_global_prediction['y_predict_tw5_diapo_minmax_global'].astype(int)\n",
    "df_video_best_global_prediction.columns = ['video_name', 'video_global_stress_prediction']\n",
    "#df_video_best_global_prediction"
   ]
  },
  {
   "cell_type": "code",
   "execution_count": 4,
   "metadata": {},
   "outputs": [
    {
     "output_type": "execute_result",
     "data": {
      "text/plain": [
       "                    video_name  diapo  audio_diapo_stress_prediction\n",
       "0               Test_pour_AFPA      1                              0\n",
       "1               Test_pour_AFPA      8                              0\n",
       "2               Test_pour_AFPA      9                              0\n",
       "3               Test_pour_AFPA     10                              0\n",
       "4               Test_pour_AFPA     11                              0\n",
       "..                         ...    ...                            ...\n",
       "235  WIN_20210417_14_53_12_Pro     10                              0\n",
       "236  WIN_20210417_14_53_12_Pro     11                              0\n",
       "237  WIN_20210417_14_53_12_Pro     12                              0\n",
       "238  WIN_20210417_14_53_12_Pro     17                              0\n",
       "239  WIN_20210417_14_53_12_Pro     18                              1\n",
       "\n",
       "[240 rows x 3 columns]"
      ],
      "text/html": "<div>\n<style scoped>\n    .dataframe tbody tr th:only-of-type {\n        vertical-align: middle;\n    }\n\n    .dataframe tbody tr th {\n        vertical-align: top;\n    }\n\n    .dataframe thead th {\n        text-align: right;\n    }\n</style>\n<table border=\"1\" class=\"dataframe\">\n  <thead>\n    <tr style=\"text-align: right;\">\n      <th></th>\n      <th>video_name</th>\n      <th>diapo</th>\n      <th>audio_diapo_stress_prediction</th>\n    </tr>\n  </thead>\n  <tbody>\n    <tr>\n      <th>0</th>\n      <td>Test_pour_AFPA</td>\n      <td>1</td>\n      <td>0</td>\n    </tr>\n    <tr>\n      <th>1</th>\n      <td>Test_pour_AFPA</td>\n      <td>8</td>\n      <td>0</td>\n    </tr>\n    <tr>\n      <th>2</th>\n      <td>Test_pour_AFPA</td>\n      <td>9</td>\n      <td>0</td>\n    </tr>\n    <tr>\n      <th>3</th>\n      <td>Test_pour_AFPA</td>\n      <td>10</td>\n      <td>0</td>\n    </tr>\n    <tr>\n      <th>4</th>\n      <td>Test_pour_AFPA</td>\n      <td>11</td>\n      <td>0</td>\n    </tr>\n    <tr>\n      <th>...</th>\n      <td>...</td>\n      <td>...</td>\n      <td>...</td>\n    </tr>\n    <tr>\n      <th>235</th>\n      <td>WIN_20210417_14_53_12_Pro</td>\n      <td>10</td>\n      <td>0</td>\n    </tr>\n    <tr>\n      <th>236</th>\n      <td>WIN_20210417_14_53_12_Pro</td>\n      <td>11</td>\n      <td>0</td>\n    </tr>\n    <tr>\n      <th>237</th>\n      <td>WIN_20210417_14_53_12_Pro</td>\n      <td>12</td>\n      <td>0</td>\n    </tr>\n    <tr>\n      <th>238</th>\n      <td>WIN_20210417_14_53_12_Pro</td>\n      <td>17</td>\n      <td>0</td>\n    </tr>\n    <tr>\n      <th>239</th>\n      <td>WIN_20210417_14_53_12_Pro</td>\n      <td>18</td>\n      <td>1</td>\n    </tr>\n  </tbody>\n</table>\n<p>240 rows × 3 columns</p>\n</div>"
     },
     "metadata": {},
     "execution_count": 4
    }
   ],
   "source": [
    "## Audio\n",
    "# All\n",
    "df_audio_best_diapo_prediction = pd.read_csv('audio_best_diapo.csv')\n",
    "# Audio only\n",
    "#df_audio_best_diapo_prediction = pd.read_csv('audio_only_best_diapo.csv')\n",
    "df_audio_best_diapo_prediction = df_audio_best_diapo_prediction.iloc[:,1:]\n",
    "df_audio_best_diapo_prediction['ypredict'] = df_audio_best_diapo_prediction['ypredict'].astype(int)\n",
    "df_audio_best_diapo_prediction.columns = ['video_name', 'diapo','audio_diapo_stress_prediction']\n",
    "df_audio_best_diapo_prediction\n"
   ]
  },
  {
   "cell_type": "code",
   "execution_count": 5,
   "metadata": {},
   "outputs": [],
   "source": [
    "# All\n",
    "df_audio_best_global_prediction = pd.read_csv('audio_best_global.csv')\n",
    "# Audio only\n",
    "#df_audio_best_global_prediction = pd.read_csv('audio_only_best_global.csv')\n",
    "df_audio_best_global_prediction = df_audio_best_global_prediction.iloc[:,1:]\n",
    "df_audio_best_global_prediction['ypredict'] = df_audio_best_global_prediction['ypredict'].astype(int)\n",
    "df_audio_best_global_prediction.columns = ['video_name', 'audio_global_stress_prediction']\n",
    "#df_audio_best_global_prediction"
   ]
  },
  {
   "cell_type": "code",
   "execution_count": 6,
   "metadata": {},
   "outputs": [],
   "source": [
    "## Text\n",
    "df_text_best_diapo_prediction = pd.read_csv('text_best_diapo.csv')\n",
    "df_text_best_diapo_prediction = df_text_best_diapo_prediction.iloc[:,1:]\n",
    "df_text_best_diapo_prediction['ypredict'] = df_text_best_diapo_prediction['ypredict'].astype(int)\n",
    "df_text_best_diapo_prediction.columns = ['video_name', 'diapo','text_diapo_stress_prediction']\n",
    "#df_text_best_diapo_prediction"
   ]
  },
  {
   "cell_type": "code",
   "execution_count": 7,
   "metadata": {},
   "outputs": [],
   "source": [
    "df_text_best_global_prediction = pd.read_csv('text_best_global.csv')\n",
    "df_text_best_global_prediction = df_text_best_global_prediction.iloc[:,1:]\n",
    "df_text_best_global_prediction['ypredict'] = df_text_best_global_prediction['ypredict'].astype(int)\n",
    "df_text_best_global_prediction.columns = ['video_name', 'text_global_stress_prediction']\n",
    "#df_text_best_global_prediction"
   ]
  },
  {
   "cell_type": "code",
   "execution_count": 8,
   "metadata": {},
   "outputs": [
    {
     "output_type": "execute_result",
     "data": {
      "text/plain": [
       "                                 stress_global\n",
       "video_name                                    \n",
       "Test_pour_AFPA                               1\n",
       "Video_1                                      0\n",
       "WIN_20210323_19_17_40_Pro                    1\n",
       "WIN_20210329_10_16_02_Pro                    1\n",
       "WIN_20210330_13_10_29_Pro                    0\n",
       "WIN_20210331_21_22_52_Pro                    1\n",
       "WIN_20210402_14_27_50_Pro                    1\n",
       "WIN_20210402_19_04_53_Pro                    2\n",
       "WIN_20210403_18_49_15_Pro                    2\n",
       "WIN_20210404_10_58_27_Pro                    1\n",
       "WIN_20210404_21_41_12_Pro                    0\n",
       "WIN_20210405_15_09_16_Pro                    1\n",
       "WIN_20210406_15_06_15_Pro                    2\n",
       "WIN_20210406_18_35_52_Pro                    0\n",
       "WIN_20210406_18_49_10_Pro                    1\n",
       "WIN_20210406_21_05_52_Pro                    2\n",
       "WIN_20210407_09_04_05_Pro                    2\n",
       "WIN_20210407_14_54_56_Pro_edit2              0\n",
       "WIN_20210408_11_48_58_Pro                    2\n",
       "WIN_20210408_14_00_44_Pro                    0\n",
       "WIN_20210408_14_02_19_Pro                    0\n",
       "WIN_20210408_14_11_32_Pro                    2\n",
       "WIN_20210408_15_20_51_Pro                    0\n",
       "WIN_20210408_16_04_32_Pro                    0\n",
       "WIN_20210409_10_26_11_Pro                    0\n",
       "WIN_20210413_15_38_01_Pro                    1\n",
       "WIN_20210414_06_24_52_Pro                    2\n",
       "WIN_20210415_15_41_24_Pro                    0\n",
       "WIN_20210416_08_06_54_Pro                    1\n",
       "WIN_20210417_14_53_12_Pro                    0"
      ],
      "text/html": "<div>\n<style scoped>\n    .dataframe tbody tr th:only-of-type {\n        vertical-align: middle;\n    }\n\n    .dataframe tbody tr th {\n        vertical-align: top;\n    }\n\n    .dataframe thead th {\n        text-align: right;\n    }\n</style>\n<table border=\"1\" class=\"dataframe\">\n  <thead>\n    <tr style=\"text-align: right;\">\n      <th></th>\n      <th>stress_global</th>\n    </tr>\n    <tr>\n      <th>video_name</th>\n      <th></th>\n    </tr>\n  </thead>\n  <tbody>\n    <tr>\n      <th>Test_pour_AFPA</th>\n      <td>1</td>\n    </tr>\n    <tr>\n      <th>Video_1</th>\n      <td>0</td>\n    </tr>\n    <tr>\n      <th>WIN_20210323_19_17_40_Pro</th>\n      <td>1</td>\n    </tr>\n    <tr>\n      <th>WIN_20210329_10_16_02_Pro</th>\n      <td>1</td>\n    </tr>\n    <tr>\n      <th>WIN_20210330_13_10_29_Pro</th>\n      <td>0</td>\n    </tr>\n    <tr>\n      <th>WIN_20210331_21_22_52_Pro</th>\n      <td>1</td>\n    </tr>\n    <tr>\n      <th>WIN_20210402_14_27_50_Pro</th>\n      <td>1</td>\n    </tr>\n    <tr>\n      <th>WIN_20210402_19_04_53_Pro</th>\n      <td>2</td>\n    </tr>\n    <tr>\n      <th>WIN_20210403_18_49_15_Pro</th>\n      <td>2</td>\n    </tr>\n    <tr>\n      <th>WIN_20210404_10_58_27_Pro</th>\n      <td>1</td>\n    </tr>\n    <tr>\n      <th>WIN_20210404_21_41_12_Pro</th>\n      <td>0</td>\n    </tr>\n    <tr>\n      <th>WIN_20210405_15_09_16_Pro</th>\n      <td>1</td>\n    </tr>\n    <tr>\n      <th>WIN_20210406_15_06_15_Pro</th>\n      <td>2</td>\n    </tr>\n    <tr>\n      <th>WIN_20210406_18_35_52_Pro</th>\n      <td>0</td>\n    </tr>\n    <tr>\n      <th>WIN_20210406_18_49_10_Pro</th>\n      <td>1</td>\n    </tr>\n    <tr>\n      <th>WIN_20210406_21_05_52_Pro</th>\n      <td>2</td>\n    </tr>\n    <tr>\n      <th>WIN_20210407_09_04_05_Pro</th>\n      <td>2</td>\n    </tr>\n    <tr>\n      <th>WIN_20210407_14_54_56_Pro_edit2</th>\n      <td>0</td>\n    </tr>\n    <tr>\n      <th>WIN_20210408_11_48_58_Pro</th>\n      <td>2</td>\n    </tr>\n    <tr>\n      <th>WIN_20210408_14_00_44_Pro</th>\n      <td>0</td>\n    </tr>\n    <tr>\n      <th>WIN_20210408_14_02_19_Pro</th>\n      <td>0</td>\n    </tr>\n    <tr>\n      <th>WIN_20210408_14_11_32_Pro</th>\n      <td>2</td>\n    </tr>\n    <tr>\n      <th>WIN_20210408_15_20_51_Pro</th>\n      <td>0</td>\n    </tr>\n    <tr>\n      <th>WIN_20210408_16_04_32_Pro</th>\n      <td>0</td>\n    </tr>\n    <tr>\n      <th>WIN_20210409_10_26_11_Pro</th>\n      <td>0</td>\n    </tr>\n    <tr>\n      <th>WIN_20210413_15_38_01_Pro</th>\n      <td>1</td>\n    </tr>\n    <tr>\n      <th>WIN_20210414_06_24_52_Pro</th>\n      <td>2</td>\n    </tr>\n    <tr>\n      <th>WIN_20210415_15_41_24_Pro</th>\n      <td>0</td>\n    </tr>\n    <tr>\n      <th>WIN_20210416_08_06_54_Pro</th>\n      <td>1</td>\n    </tr>\n    <tr>\n      <th>WIN_20210417_14_53_12_Pro</th>\n      <td>0</td>\n    </tr>\n  </tbody>\n</table>\n</div>"
     },
     "metadata": {},
     "execution_count": 8
    }
   ],
   "source": [
    "## Anotations\n",
    "df_annotations_stress = pd.read_csv('annotations.csv')\n",
    "df_annotations_stress_global = df_annotations_stress[['video_name','stress_global']].set_index('video_name')\n",
    "df_annotations_stress_global.stress_global = df_annotations_stress_global.stress_global.astype(int)\n",
    "df_annotations_stress_global "
   ]
  },
  {
   "cell_type": "code",
   "execution_count": 9,
   "metadata": {},
   "outputs": [
    {
     "output_type": "execute_result",
     "data": {
      "text/plain": [
       "                    video_name  diapo  stress\n",
       "0               Test_pour_AFPA      1       1\n",
       "1               Test_pour_AFPA      8       1\n",
       "2               Test_pour_AFPA      9       0\n",
       "3               Test_pour_AFPA     10       0\n",
       "4               Test_pour_AFPA     11       0\n",
       "..                         ...    ...     ...\n",
       "235  WIN_20210417_14_53_12_Pro     10       0\n",
       "236  WIN_20210417_14_53_12_Pro     11       0\n",
       "237  WIN_20210417_14_53_12_Pro     12       0\n",
       "238  WIN_20210417_14_53_12_Pro     17       1\n",
       "239  WIN_20210417_14_53_12_Pro     18       1\n",
       "\n",
       "[240 rows x 3 columns]"
      ],
      "text/html": "<div>\n<style scoped>\n    .dataframe tbody tr th:only-of-type {\n        vertical-align: middle;\n    }\n\n    .dataframe tbody tr th {\n        vertical-align: top;\n    }\n\n    .dataframe thead th {\n        text-align: right;\n    }\n</style>\n<table border=\"1\" class=\"dataframe\">\n  <thead>\n    <tr style=\"text-align: right;\">\n      <th></th>\n      <th>video_name</th>\n      <th>diapo</th>\n      <th>stress</th>\n    </tr>\n  </thead>\n  <tbody>\n    <tr>\n      <th>0</th>\n      <td>Test_pour_AFPA</td>\n      <td>1</td>\n      <td>1</td>\n    </tr>\n    <tr>\n      <th>1</th>\n      <td>Test_pour_AFPA</td>\n      <td>8</td>\n      <td>1</td>\n    </tr>\n    <tr>\n      <th>2</th>\n      <td>Test_pour_AFPA</td>\n      <td>9</td>\n      <td>0</td>\n    </tr>\n    <tr>\n      <th>3</th>\n      <td>Test_pour_AFPA</td>\n      <td>10</td>\n      <td>0</td>\n    </tr>\n    <tr>\n      <th>4</th>\n      <td>Test_pour_AFPA</td>\n      <td>11</td>\n      <td>0</td>\n    </tr>\n    <tr>\n      <th>...</th>\n      <td>...</td>\n      <td>...</td>\n      <td>...</td>\n    </tr>\n    <tr>\n      <th>235</th>\n      <td>WIN_20210417_14_53_12_Pro</td>\n      <td>10</td>\n      <td>0</td>\n    </tr>\n    <tr>\n      <th>236</th>\n      <td>WIN_20210417_14_53_12_Pro</td>\n      <td>11</td>\n      <td>0</td>\n    </tr>\n    <tr>\n      <th>237</th>\n      <td>WIN_20210417_14_53_12_Pro</td>\n      <td>12</td>\n      <td>0</td>\n    </tr>\n    <tr>\n      <th>238</th>\n      <td>WIN_20210417_14_53_12_Pro</td>\n      <td>17</td>\n      <td>1</td>\n    </tr>\n    <tr>\n      <th>239</th>\n      <td>WIN_20210417_14_53_12_Pro</td>\n      <td>18</td>\n      <td>1</td>\n    </tr>\n  </tbody>\n</table>\n<p>240 rows × 3 columns</p>\n</div>"
     },
     "metadata": {},
     "execution_count": 9
    }
   ],
   "source": [
    "df_annotations_stress_diapo = df_annotations_stress.iloc[:,:-1].set_index('video_name').stack()\n",
    "df_annotations_stress_diapo = pd.DataFrame(df_annotations_stress_diapo).reset_index()\n",
    "df_annotations_stress_diapo.columns = ['video_name','diapo','stress']\n",
    "df_annotations_stress_diapo.stress = df_annotations_stress_diapo.stress.astype(int)\n",
    "df_annotations_stress_diapo.diapo = df_annotations_stress_diapo.diapo.astype(int)\n",
    "#df_annotations_stress_diapo = df_annotations_stress_diapo.set_index(['video_name','diapo'])\n",
    "df_annotations_stress_diapo"
   ]
  },
  {
   "source": [
    "## Data preprocessing stress diapo"
   ],
   "cell_type": "markdown",
   "metadata": {}
  },
  {
   "cell_type": "code",
   "execution_count": 126,
   "metadata": {},
   "outputs": [
    {
     "output_type": "execute_result",
     "data": {
      "text/plain": [
       "                    video_name  diapo  video_diapo_stress_prediction  \\\n",
       "0               Test_pour_AFPA      1                              0   \n",
       "1               Test_pour_AFPA      8                              1   \n",
       "2               Test_pour_AFPA      9                              1   \n",
       "3               Test_pour_AFPA     10                              0   \n",
       "4               Test_pour_AFPA     11                              1   \n",
       "..                         ...    ...                            ...   \n",
       "227  WIN_20210417_14_53_12_Pro     10                              0   \n",
       "228  WIN_20210417_14_53_12_Pro     11                              0   \n",
       "229  WIN_20210417_14_53_12_Pro     12                              0   \n",
       "230  WIN_20210417_14_53_12_Pro     17                              0   \n",
       "231  WIN_20210417_14_53_12_Pro     18                              1   \n",
       "\n",
       "     audio_diapo_stress_prediction  \n",
       "0                                0  \n",
       "1                                0  \n",
       "2                                0  \n",
       "3                                0  \n",
       "4                                0  \n",
       "..                             ...  \n",
       "227                              0  \n",
       "228                              0  \n",
       "229                              0  \n",
       "230                              0  \n",
       "231                              1  \n",
       "\n",
       "[232 rows x 4 columns]"
      ],
      "text/html": "<div>\n<style scoped>\n    .dataframe tbody tr th:only-of-type {\n        vertical-align: middle;\n    }\n\n    .dataframe tbody tr th {\n        vertical-align: top;\n    }\n\n    .dataframe thead th {\n        text-align: right;\n    }\n</style>\n<table border=\"1\" class=\"dataframe\">\n  <thead>\n    <tr style=\"text-align: right;\">\n      <th></th>\n      <th>video_name</th>\n      <th>diapo</th>\n      <th>video_diapo_stress_prediction</th>\n      <th>audio_diapo_stress_prediction</th>\n    </tr>\n  </thead>\n  <tbody>\n    <tr>\n      <th>0</th>\n      <td>Test_pour_AFPA</td>\n      <td>1</td>\n      <td>0</td>\n      <td>0</td>\n    </tr>\n    <tr>\n      <th>1</th>\n      <td>Test_pour_AFPA</td>\n      <td>8</td>\n      <td>1</td>\n      <td>0</td>\n    </tr>\n    <tr>\n      <th>2</th>\n      <td>Test_pour_AFPA</td>\n      <td>9</td>\n      <td>1</td>\n      <td>0</td>\n    </tr>\n    <tr>\n      <th>3</th>\n      <td>Test_pour_AFPA</td>\n      <td>10</td>\n      <td>0</td>\n      <td>0</td>\n    </tr>\n    <tr>\n      <th>4</th>\n      <td>Test_pour_AFPA</td>\n      <td>11</td>\n      <td>1</td>\n      <td>0</td>\n    </tr>\n    <tr>\n      <th>...</th>\n      <td>...</td>\n      <td>...</td>\n      <td>...</td>\n      <td>...</td>\n    </tr>\n    <tr>\n      <th>227</th>\n      <td>WIN_20210417_14_53_12_Pro</td>\n      <td>10</td>\n      <td>0</td>\n      <td>0</td>\n    </tr>\n    <tr>\n      <th>228</th>\n      <td>WIN_20210417_14_53_12_Pro</td>\n      <td>11</td>\n      <td>0</td>\n      <td>0</td>\n    </tr>\n    <tr>\n      <th>229</th>\n      <td>WIN_20210417_14_53_12_Pro</td>\n      <td>12</td>\n      <td>0</td>\n      <td>0</td>\n    </tr>\n    <tr>\n      <th>230</th>\n      <td>WIN_20210417_14_53_12_Pro</td>\n      <td>17</td>\n      <td>0</td>\n      <td>0</td>\n    </tr>\n    <tr>\n      <th>231</th>\n      <td>WIN_20210417_14_53_12_Pro</td>\n      <td>18</td>\n      <td>1</td>\n      <td>1</td>\n    </tr>\n  </tbody>\n</table>\n<p>232 rows × 4 columns</p>\n</div>"
     },
     "metadata": {},
     "execution_count": 126
    }
   ],
   "source": [
    "## we remove 2 interviews from the audio predictions\n",
    "df_best_diapo_prediction = df_video_best_diapo_prediction.merge(df_audio_best_diapo_prediction, \n",
    "                                how='inner', on=['video_name','diapo']) \n",
    "# Audio only\n",
    "#df_best_diapo_prediction = df_video_best_diapo_prediction.merge(df_audio_best_diapo_prediction, \n",
    "#                                how='left', on=['video_name','diapo']) \n",
    "#df_best_diapo_prediction = df_best_diapo_prediction.set_index(['video_name','diapo'])\n",
    "df_best_diapo_prediction"
   ]
  },
  {
   "cell_type": "code",
   "execution_count": 14,
   "metadata": {},
   "outputs": [],
   "source": [
    "def fillNaWithMaxAudio(row):\n",
    "    if pd.isna(row.audio_diapo_stress_prediction):\n",
    "        return row.video_diapo_stress_prediction\n",
    "    else:\n",
    "        return row.audio_diapo_stress_prediction\n"
   ]
  },
  {
   "cell_type": "code",
   "execution_count": 15,
   "metadata": {},
   "outputs": [
    {
     "output_type": "execute_result",
     "data": {
      "text/plain": [
       "                    video_name  diapo  video_diapo_stress_prediction  \\\n",
       "0               Test_pour_AFPA      1                              0   \n",
       "1               Test_pour_AFPA      8                              1   \n",
       "2               Test_pour_AFPA      9                              1   \n",
       "3               Test_pour_AFPA     10                              0   \n",
       "4               Test_pour_AFPA     11                              1   \n",
       "..                         ...    ...                            ...   \n",
       "227  WIN_20210417_14_53_12_Pro     10                              0   \n",
       "228  WIN_20210417_14_53_12_Pro     11                              0   \n",
       "229  WIN_20210417_14_53_12_Pro     12                              0   \n",
       "230  WIN_20210417_14_53_12_Pro     17                              0   \n",
       "231  WIN_20210417_14_53_12_Pro     18                              1   \n",
       "\n",
       "     audio_diapo_stress_prediction  \n",
       "0                                0  \n",
       "1                                1  \n",
       "2                                1  \n",
       "3                                0  \n",
       "4                                1  \n",
       "..                             ...  \n",
       "227                              0  \n",
       "228                              0  \n",
       "229                              0  \n",
       "230                              1  \n",
       "231                              1  \n",
       "\n",
       "[232 rows x 4 columns]"
      ],
      "text/html": "<div>\n<style scoped>\n    .dataframe tbody tr th:only-of-type {\n        vertical-align: middle;\n    }\n\n    .dataframe tbody tr th {\n        vertical-align: top;\n    }\n\n    .dataframe thead th {\n        text-align: right;\n    }\n</style>\n<table border=\"1\" class=\"dataframe\">\n  <thead>\n    <tr style=\"text-align: right;\">\n      <th></th>\n      <th>video_name</th>\n      <th>diapo</th>\n      <th>video_diapo_stress_prediction</th>\n      <th>audio_diapo_stress_prediction</th>\n    </tr>\n  </thead>\n  <tbody>\n    <tr>\n      <th>0</th>\n      <td>Test_pour_AFPA</td>\n      <td>1</td>\n      <td>0</td>\n      <td>0</td>\n    </tr>\n    <tr>\n      <th>1</th>\n      <td>Test_pour_AFPA</td>\n      <td>8</td>\n      <td>1</td>\n      <td>1</td>\n    </tr>\n    <tr>\n      <th>2</th>\n      <td>Test_pour_AFPA</td>\n      <td>9</td>\n      <td>1</td>\n      <td>1</td>\n    </tr>\n    <tr>\n      <th>3</th>\n      <td>Test_pour_AFPA</td>\n      <td>10</td>\n      <td>0</td>\n      <td>0</td>\n    </tr>\n    <tr>\n      <th>4</th>\n      <td>Test_pour_AFPA</td>\n      <td>11</td>\n      <td>1</td>\n      <td>1</td>\n    </tr>\n    <tr>\n      <th>...</th>\n      <td>...</td>\n      <td>...</td>\n      <td>...</td>\n      <td>...</td>\n    </tr>\n    <tr>\n      <th>227</th>\n      <td>WIN_20210417_14_53_12_Pro</td>\n      <td>10</td>\n      <td>0</td>\n      <td>0</td>\n    </tr>\n    <tr>\n      <th>228</th>\n      <td>WIN_20210417_14_53_12_Pro</td>\n      <td>11</td>\n      <td>0</td>\n      <td>0</td>\n    </tr>\n    <tr>\n      <th>229</th>\n      <td>WIN_20210417_14_53_12_Pro</td>\n      <td>12</td>\n      <td>0</td>\n      <td>0</td>\n    </tr>\n    <tr>\n      <th>230</th>\n      <td>WIN_20210417_14_53_12_Pro</td>\n      <td>17</td>\n      <td>0</td>\n      <td>1</td>\n    </tr>\n    <tr>\n      <th>231</th>\n      <td>WIN_20210417_14_53_12_Pro</td>\n      <td>18</td>\n      <td>1</td>\n      <td>1</td>\n    </tr>\n  </tbody>\n</table>\n<p>232 rows × 4 columns</p>\n</div>"
     },
     "metadata": {},
     "execution_count": 15
    }
   ],
   "source": [
    "# audio\n",
    "#df_best_diapo_prediction = df_best_diapo_prediction.merge(df_text_best_diapo_prediction, \n",
    "#                                how='left', on=['video_name','diapo']) \n",
    "df_best_diapo_prediction['audio_diapo_stress_prediction'] = df_best_diapo_prediction.apply(lambda row: fillNaWithMaxAudio(row), axis=1)\n",
    "df_best_diapo_prediction['audio_diapo_stress_prediction'] = df_best_diapo_prediction['audio_diapo_stress_prediction'].astype(int)\n",
    "df_best_diapo_prediction"
   ]
  },
  {
   "cell_type": "code",
   "execution_count": 8,
   "metadata": {},
   "outputs": [],
   "source": [
    "def fillNaWithMax(row):\n",
    "    if pd.isna(row.text_diapo_stress_prediction):\n",
    "        return row.max_stress_predict\n",
    "    else:\n",
    "        return row.text_diapo_stress_prediction\n"
   ]
  },
  {
   "cell_type": "code",
   "execution_count": 80,
   "metadata": {},
   "outputs": [
    {
     "output_type": "execute_result",
     "data": {
      "text/plain": [
       "                    video_name  diapo  video_diapo_stress_prediction  \\\n",
       "0               Test_pour_AFPA      1                              0   \n",
       "1               Test_pour_AFPA      8                              1   \n",
       "2               Test_pour_AFPA      9                              1   \n",
       "3               Test_pour_AFPA     10                              0   \n",
       "4               Test_pour_AFPA     11                              1   \n",
       "..                         ...    ...                            ...   \n",
       "227  WIN_20210417_14_53_12_Pro     10                              0   \n",
       "228  WIN_20210417_14_53_12_Pro     11                              0   \n",
       "229  WIN_20210417_14_53_12_Pro     12                              0   \n",
       "230  WIN_20210417_14_53_12_Pro     17                              0   \n",
       "231  WIN_20210417_14_53_12_Pro     18                              1   \n",
       "\n",
       "     audio_diapo_stress_prediction  text_diapo_stress_prediction  \n",
       "0                                0                             0  \n",
       "1                                0                             1  \n",
       "2                                0                             1  \n",
       "3                                0                             0  \n",
       "4                                0                             0  \n",
       "..                             ...                           ...  \n",
       "227                              0                             0  \n",
       "228                              0                             0  \n",
       "229                              0                             0  \n",
       "230                              0                             0  \n",
       "231                              1                             1  \n",
       "\n",
       "[232 rows x 5 columns]"
      ],
      "text/html": "<div>\n<style scoped>\n    .dataframe tbody tr th:only-of-type {\n        vertical-align: middle;\n    }\n\n    .dataframe tbody tr th {\n        vertical-align: top;\n    }\n\n    .dataframe thead th {\n        text-align: right;\n    }\n</style>\n<table border=\"1\" class=\"dataframe\">\n  <thead>\n    <tr style=\"text-align: right;\">\n      <th></th>\n      <th>video_name</th>\n      <th>diapo</th>\n      <th>video_diapo_stress_prediction</th>\n      <th>audio_diapo_stress_prediction</th>\n      <th>text_diapo_stress_prediction</th>\n    </tr>\n  </thead>\n  <tbody>\n    <tr>\n      <th>0</th>\n      <td>Test_pour_AFPA</td>\n      <td>1</td>\n      <td>0</td>\n      <td>0</td>\n      <td>0</td>\n    </tr>\n    <tr>\n      <th>1</th>\n      <td>Test_pour_AFPA</td>\n      <td>8</td>\n      <td>1</td>\n      <td>0</td>\n      <td>1</td>\n    </tr>\n    <tr>\n      <th>2</th>\n      <td>Test_pour_AFPA</td>\n      <td>9</td>\n      <td>1</td>\n      <td>0</td>\n      <td>1</td>\n    </tr>\n    <tr>\n      <th>3</th>\n      <td>Test_pour_AFPA</td>\n      <td>10</td>\n      <td>0</td>\n      <td>0</td>\n      <td>0</td>\n    </tr>\n    <tr>\n      <th>4</th>\n      <td>Test_pour_AFPA</td>\n      <td>11</td>\n      <td>1</td>\n      <td>0</td>\n      <td>0</td>\n    </tr>\n    <tr>\n      <th>...</th>\n      <td>...</td>\n      <td>...</td>\n      <td>...</td>\n      <td>...</td>\n      <td>...</td>\n    </tr>\n    <tr>\n      <th>227</th>\n      <td>WIN_20210417_14_53_12_Pro</td>\n      <td>10</td>\n      <td>0</td>\n      <td>0</td>\n      <td>0</td>\n    </tr>\n    <tr>\n      <th>228</th>\n      <td>WIN_20210417_14_53_12_Pro</td>\n      <td>11</td>\n      <td>0</td>\n      <td>0</td>\n      <td>0</td>\n    </tr>\n    <tr>\n      <th>229</th>\n      <td>WIN_20210417_14_53_12_Pro</td>\n      <td>12</td>\n      <td>0</td>\n      <td>0</td>\n      <td>0</td>\n    </tr>\n    <tr>\n      <th>230</th>\n      <td>WIN_20210417_14_53_12_Pro</td>\n      <td>17</td>\n      <td>0</td>\n      <td>0</td>\n      <td>0</td>\n    </tr>\n    <tr>\n      <th>231</th>\n      <td>WIN_20210417_14_53_12_Pro</td>\n      <td>18</td>\n      <td>1</td>\n      <td>1</td>\n      <td>1</td>\n    </tr>\n  </tbody>\n</table>\n<p>232 rows × 5 columns</p>\n</div>"
     },
     "metadata": {},
     "execution_count": 80
    }
   ],
   "source": [
    "# text\n",
    "df_best_diapo_prediction = df_best_diapo_prediction.merge(df_text_best_diapo_prediction, \n",
    "                                how='left', on=['video_name','diapo']) \n",
    "df_best_diapo_prediction['max_stress_predict'] = df_best_diapo_prediction[['video_diapo_stress_prediction',             'audio_diapo_stress_prediction']].max(axis=1)\n",
    "df_best_diapo_prediction['text_diapo_stress_prediction'] = df_best_diapo_prediction.apply(lambda row: fillNaWithMax(row), axis=1)\n",
    "df_best_diapo_prediction['text_diapo_stress_prediction'] = df_best_diapo_prediction['text_diapo_stress_prediction'].astype(int)\n",
    "df_best_diapo_prediction = df_best_diapo_prediction.drop('max_stress_predict',axis=1)\n",
    "df_best_diapo_prediction"
   ]
  },
  {
   "cell_type": "code",
   "execution_count": 12,
   "metadata": {},
   "outputs": [
    {
     "output_type": "execute_result",
     "data": {
      "text/plain": [
       "                    video_name  diapo  video_diapo_stress_prediction  \\\n",
       "0               Test_pour_AFPA      1                              0   \n",
       "1               Test_pour_AFPA      8                              1   \n",
       "2               Test_pour_AFPA      9                              1   \n",
       "3               Test_pour_AFPA     10                              0   \n",
       "4               Test_pour_AFPA     11                              1   \n",
       "..                         ...    ...                            ...   \n",
       "227  WIN_20210417_14_53_12_Pro     10                              0   \n",
       "228  WIN_20210417_14_53_12_Pro     11                              0   \n",
       "229  WIN_20210417_14_53_12_Pro     12                              0   \n",
       "230  WIN_20210417_14_53_12_Pro     17                              0   \n",
       "231  WIN_20210417_14_53_12_Pro     18                              1   \n",
       "\n",
       "     audio_diapo_stress_prediction  text_diapo_stress_prediction  \n",
       "0                                0                           NaN  \n",
       "1                                0                           1.0  \n",
       "2                                0                           1.0  \n",
       "3                                0                           0.0  \n",
       "4                                0                           0.0  \n",
       "..                             ...                           ...  \n",
       "227                              0                           0.0  \n",
       "228                              0                           0.0  \n",
       "229                              0                           NaN  \n",
       "230                              0                           NaN  \n",
       "231                              1                           NaN  \n",
       "\n",
       "[232 rows x 5 columns]"
      ],
      "text/html": "<div>\n<style scoped>\n    .dataframe tbody tr th:only-of-type {\n        vertical-align: middle;\n    }\n\n    .dataframe tbody tr th {\n        vertical-align: top;\n    }\n\n    .dataframe thead th {\n        text-align: right;\n    }\n</style>\n<table border=\"1\" class=\"dataframe\">\n  <thead>\n    <tr style=\"text-align: right;\">\n      <th></th>\n      <th>video_name</th>\n      <th>diapo</th>\n      <th>video_diapo_stress_prediction</th>\n      <th>audio_diapo_stress_prediction</th>\n      <th>text_diapo_stress_prediction</th>\n    </tr>\n  </thead>\n  <tbody>\n    <tr>\n      <th>0</th>\n      <td>Test_pour_AFPA</td>\n      <td>1</td>\n      <td>0</td>\n      <td>0</td>\n      <td>NaN</td>\n    </tr>\n    <tr>\n      <th>1</th>\n      <td>Test_pour_AFPA</td>\n      <td>8</td>\n      <td>1</td>\n      <td>0</td>\n      <td>1.0</td>\n    </tr>\n    <tr>\n      <th>2</th>\n      <td>Test_pour_AFPA</td>\n      <td>9</td>\n      <td>1</td>\n      <td>0</td>\n      <td>1.0</td>\n    </tr>\n    <tr>\n      <th>3</th>\n      <td>Test_pour_AFPA</td>\n      <td>10</td>\n      <td>0</td>\n      <td>0</td>\n      <td>0.0</td>\n    </tr>\n    <tr>\n      <th>4</th>\n      <td>Test_pour_AFPA</td>\n      <td>11</td>\n      <td>1</td>\n      <td>0</td>\n      <td>0.0</td>\n    </tr>\n    <tr>\n      <th>...</th>\n      <td>...</td>\n      <td>...</td>\n      <td>...</td>\n      <td>...</td>\n      <td>...</td>\n    </tr>\n    <tr>\n      <th>227</th>\n      <td>WIN_20210417_14_53_12_Pro</td>\n      <td>10</td>\n      <td>0</td>\n      <td>0</td>\n      <td>0.0</td>\n    </tr>\n    <tr>\n      <th>228</th>\n      <td>WIN_20210417_14_53_12_Pro</td>\n      <td>11</td>\n      <td>0</td>\n      <td>0</td>\n      <td>0.0</td>\n    </tr>\n    <tr>\n      <th>229</th>\n      <td>WIN_20210417_14_53_12_Pro</td>\n      <td>12</td>\n      <td>0</td>\n      <td>0</td>\n      <td>NaN</td>\n    </tr>\n    <tr>\n      <th>230</th>\n      <td>WIN_20210417_14_53_12_Pro</td>\n      <td>17</td>\n      <td>0</td>\n      <td>0</td>\n      <td>NaN</td>\n    </tr>\n    <tr>\n      <th>231</th>\n      <td>WIN_20210417_14_53_12_Pro</td>\n      <td>18</td>\n      <td>1</td>\n      <td>1</td>\n      <td>NaN</td>\n    </tr>\n  </tbody>\n</table>\n<p>232 rows × 5 columns</p>\n</div>"
     },
     "metadata": {},
     "execution_count": 12
    }
   ],
   "source": [
    "## Autre méthode texte\n",
    "df_best_diapo_prediction = df_best_diapo_prediction.merge(df_text_best_diapo_prediction, \n",
    "                                how='left', on=['video_name','diapo']) \n",
    "df_best_diapo_prediction"
   ]
  },
  {
   "cell_type": "code",
   "execution_count": 29,
   "metadata": {},
   "outputs": [],
   "source": [
    "df_best_diapo_prediction['moyenne'] = df_best_diapo_prediction[['video_diapo_stress_prediction','audio_diapo_stress_prediction','text_diapo_stress_prediction']].mean(axis=1)\n",
    "df_best_diapo_prediction['ecart_type'] = df_best_diapo_prediction[['video_diapo_stress_prediction','audio_diapo_stress_prediction','text_diapo_stress_prediction']].std(axis=1)\n",
    "df_best_diapo_prediction = df_best_diapo_prediction.drop(['video_diapo_stress_prediction','audio_diapo_stress_prediction','text_diapo_stress_prediction'], axis=1)"
   ]
  },
  {
   "cell_type": "code",
   "execution_count": 30,
   "metadata": {},
   "outputs": [
    {
     "output_type": "execute_result",
     "data": {
      "text/plain": [
       "                    video_name  diapo   moyenne  ecart_type\n",
       "0               Test_pour_AFPA      1  0.000000     0.00000\n",
       "1               Test_pour_AFPA      8  0.666667     0.57735\n",
       "2               Test_pour_AFPA      9  0.666667     0.57735\n",
       "3               Test_pour_AFPA     10  0.000000     0.00000\n",
       "4               Test_pour_AFPA     11  0.333333     0.57735\n",
       "..                         ...    ...       ...         ...\n",
       "227  WIN_20210417_14_53_12_Pro     10  0.000000     0.00000\n",
       "228  WIN_20210417_14_53_12_Pro     11  0.000000     0.00000\n",
       "229  WIN_20210417_14_53_12_Pro     12  0.000000     0.00000\n",
       "230  WIN_20210417_14_53_12_Pro     17  0.000000     0.00000\n",
       "231  WIN_20210417_14_53_12_Pro     18  1.000000     0.00000\n",
       "\n",
       "[232 rows x 4 columns]"
      ],
      "text/html": "<div>\n<style scoped>\n    .dataframe tbody tr th:only-of-type {\n        vertical-align: middle;\n    }\n\n    .dataframe tbody tr th {\n        vertical-align: top;\n    }\n\n    .dataframe thead th {\n        text-align: right;\n    }\n</style>\n<table border=\"1\" class=\"dataframe\">\n  <thead>\n    <tr style=\"text-align: right;\">\n      <th></th>\n      <th>video_name</th>\n      <th>diapo</th>\n      <th>moyenne</th>\n      <th>ecart_type</th>\n    </tr>\n  </thead>\n  <tbody>\n    <tr>\n      <th>0</th>\n      <td>Test_pour_AFPA</td>\n      <td>1</td>\n      <td>0.000000</td>\n      <td>0.00000</td>\n    </tr>\n    <tr>\n      <th>1</th>\n      <td>Test_pour_AFPA</td>\n      <td>8</td>\n      <td>0.666667</td>\n      <td>0.57735</td>\n    </tr>\n    <tr>\n      <th>2</th>\n      <td>Test_pour_AFPA</td>\n      <td>9</td>\n      <td>0.666667</td>\n      <td>0.57735</td>\n    </tr>\n    <tr>\n      <th>3</th>\n      <td>Test_pour_AFPA</td>\n      <td>10</td>\n      <td>0.000000</td>\n      <td>0.00000</td>\n    </tr>\n    <tr>\n      <th>4</th>\n      <td>Test_pour_AFPA</td>\n      <td>11</td>\n      <td>0.333333</td>\n      <td>0.57735</td>\n    </tr>\n    <tr>\n      <th>...</th>\n      <td>...</td>\n      <td>...</td>\n      <td>...</td>\n      <td>...</td>\n    </tr>\n    <tr>\n      <th>227</th>\n      <td>WIN_20210417_14_53_12_Pro</td>\n      <td>10</td>\n      <td>0.000000</td>\n      <td>0.00000</td>\n    </tr>\n    <tr>\n      <th>228</th>\n      <td>WIN_20210417_14_53_12_Pro</td>\n      <td>11</td>\n      <td>0.000000</td>\n      <td>0.00000</td>\n    </tr>\n    <tr>\n      <th>229</th>\n      <td>WIN_20210417_14_53_12_Pro</td>\n      <td>12</td>\n      <td>0.000000</td>\n      <td>0.00000</td>\n    </tr>\n    <tr>\n      <th>230</th>\n      <td>WIN_20210417_14_53_12_Pro</td>\n      <td>17</td>\n      <td>0.000000</td>\n      <td>0.00000</td>\n    </tr>\n    <tr>\n      <th>231</th>\n      <td>WIN_20210417_14_53_12_Pro</td>\n      <td>18</td>\n      <td>1.000000</td>\n      <td>0.00000</td>\n    </tr>\n  </tbody>\n</table>\n<p>232 rows × 4 columns</p>\n</div>"
     },
     "metadata": {},
     "execution_count": 30
    }
   ],
   "source": [
    "df_best_diapo_prediction"
   ]
  },
  {
   "cell_type": "code",
   "execution_count": 127,
   "metadata": {},
   "outputs": [],
   "source": [
    "df_best_diapo_prediction = df_best_diapo_prediction.merge(df_annotations_stress_diapo, on=['video_name','diapo'])\n",
    "X = df_best_diapo_prediction.iloc[:,:-1].set_index(['video_name','diapo'])\n",
    "y = df_best_diapo_prediction.iloc[:,-1]"
   ]
  },
  {
   "source": [
    "## Modèle stress diapo"
   ],
   "cell_type": "markdown",
   "metadata": {}
  },
  {
   "cell_type": "code",
   "execution_count": 10,
   "metadata": {},
   "outputs": [
    {
     "output_type": "error",
     "ename": "NameError",
     "evalue": "name 'X' is not defined",
     "traceback": [
      "\u001b[0;31m---------------------------------------------------------------------------\u001b[0m",
      "\u001b[0;31mNameError\u001b[0m                                 Traceback (most recent call last)",
      "\u001b[0;32m<ipython-input-10-d0ed6cc5d462>\u001b[0m in \u001b[0;36m<module>\u001b[0;34m\u001b[0m\n\u001b[1;32m     26\u001b[0m                     ]\n\u001b[1;32m     27\u001b[0m \u001b[0;34m\u001b[0m\u001b[0m\n\u001b[0;32m---> 28\u001b[0;31m \u001b[0mgroups\u001b[0m \u001b[0;34m=\u001b[0m \u001b[0mX\u001b[0m\u001b[0;34m.\u001b[0m\u001b[0mreset_index\u001b[0m\u001b[0;34m(\u001b[0m\u001b[0;34m)\u001b[0m\u001b[0;34m[\u001b[0m\u001b[0;34m'video_name'\u001b[0m\u001b[0;34m]\u001b[0m\u001b[0;34m\u001b[0m\u001b[0;34m\u001b[0m\u001b[0m\n\u001b[0m\u001b[1;32m     29\u001b[0m \u001b[0mloo\u001b[0m \u001b[0;34m=\u001b[0m \u001b[0mLeaveOneGroupOut\u001b[0m\u001b[0;34m(\u001b[0m\u001b[0;34m)\u001b[0m\u001b[0;34m\u001b[0m\u001b[0;34m\u001b[0m\u001b[0m\n\u001b[1;32m     30\u001b[0m \u001b[0mcv_loo\u001b[0m \u001b[0;34m=\u001b[0m \u001b[0mloo\u001b[0m\u001b[0;34m.\u001b[0m\u001b[0msplit\u001b[0m\u001b[0;34m(\u001b[0m\u001b[0mX\u001b[0m\u001b[0;34m,\u001b[0m \u001b[0my\u001b[0m\u001b[0;34m,\u001b[0m \u001b[0mgroups\u001b[0m\u001b[0;34m)\u001b[0m\u001b[0;34m\u001b[0m\u001b[0;34m\u001b[0m\u001b[0m\n",
      "\u001b[0;31mNameError\u001b[0m: name 'X' is not defined"
     ]
    }
   ],
   "source": [
    "from sklearn.linear_model import LogisticRegression\n",
    "from sklearn.neighbors import KNeighborsClassifier\n",
    "from sklearn.ensemble import RandomForestClassifier\n",
    "from sklearn.model_selection import LeaveOneGroupOut\n",
    "from sklearn.decomposition import PCA\n",
    "from sklearn.pipeline import Pipeline\n",
    "\n",
    "pca = PCA()\n",
    "\n",
    "models_list = [\n",
    "                LogisticRegression(multi_class='multinomial', fit_intercept=True, random_state=42),\n",
    "                Pipeline(steps=[('pca', pca), ('logistic', LogisticRegression(multi_class='multinomial', fit_intercept=True))]),\n",
    "                KNeighborsClassifier(),\n",
    "                Pipeline(steps=[('pca', pca), ('knn', KNeighborsClassifier())]),\n",
    "                RandomForestClassifier(random_state = 42, n_jobs=-1)\n",
    "                ]\n",
    "\n",
    "parameters_list = [\n",
    "                    {'C': [0.01, 0.05, 0.1, 0.5, 1, 2, 3, 4 , 5, 10], 'class_weight' : [None, 'balanced']},\n",
    "                    {'pca__n_components': [1, 2, 3, 4],\n",
    "                        'logistic__C': [0.01, 0.05, 0.1, 0.5, 1, 2, 3, 4 , 5, 10], 'logistic__class_weight' : [None, 'balanced']},\n",
    "                    {'n_neighbors': [4, 5, 6, 7, 8, 9, 10, 11, 12,  15, 20], 'weights' : ['uniform', 'distance'], 'p': [1, 2]},\n",
    "                    {'pca__n_components': [1, 2, 3, 4],\n",
    "                        'knn__n_neighbors': [4, 5, 6, 7, 8, 9, 10, 11, 12,  15, 20], 'knn__weights' : ['uniform', 'distance'],                              'knn__p': [1, 2]},\n",
    "                    {'n_estimators': [50, 100, 150, 200], 'max_depth':[3, 4, 5, 6, 10, 15, 20], 'class_weight':[None,'balanced']}\n",
    "                    ]\n",
    "\n",
    "groups = X.reset_index()['video_name']\n",
    "loo = LeaveOneGroupOut()\n",
    "cv_loo = loo.split(X, y, groups)"
   ]
  },
  {
   "cell_type": "code",
   "execution_count": 11,
   "metadata": {},
   "outputs": [
    {
     "output_type": "error",
     "ename": "NameError",
     "evalue": "name 'X' is not defined",
     "traceback": [
      "\u001b[0;31m---------------------------------------------------------------------------\u001b[0m",
      "\u001b[0;31mNameError\u001b[0m                                 Traceback (most recent call last)",
      "\u001b[0;32m<ipython-input-11-782e8bf67d6b>\u001b[0m in \u001b[0;36m<module>\u001b[0;34m\u001b[0m\n\u001b[0;32m----> 1\u001b[0;31m best_result, y_predict, y_predict_proba, result_list = runGridSearchClassifiers(X, y, 5, models_list, parameters_list, \n\u001b[0m\u001b[1;32m      2\u001b[0m                                                                 output_predict=True, n_jobs=-1, verbose=True)\n",
      "\u001b[0;31mNameError\u001b[0m: name 'X' is not defined"
     ]
    }
   ],
   "source": [
    "best_result, y_predict, y_predict_proba, result_list = runGridSearchClassifiers(X, y, 5, models_list, parameters_list, \n",
    "                                                                output_predict=True, n_jobs=-1, verbose=True)"
   ]
  },
  {
   "cell_type": "code",
   "execution_count": 130,
   "metadata": {},
   "outputs": [
    {
     "output_type": "execute_result",
     "data": {
      "text/plain": [
       "{'best_estimator': Pipeline(steps=[('pca', PCA(n_components=2)),\n",
       "                 ('knn',\n",
       "                  KNeighborsClassifier(n_neighbors=20, p=1,\n",
       "                                       weights='distance'))]),\n",
       " 'best_score': 0.5262059319605026,\n",
       " 'best_params': {'knn__n_neighbors': 20,\n",
       "  'knn__p': 1,\n",
       "  'knn__weights': 'distance',\n",
       "  'pca__n_components': 2},\n",
       " 'mean_test_f1_score': 0.5262059319605026,\n",
       " 'std_test_f1_score': 0.06991960642620056,\n",
       " 'mean_test_accuracy_score': 0.5470860314523589,\n",
       " 'std_test_accuracy_score': 0.05887643296052362,\n",
       " 'mean_test_balanced_accuracy_score': 0.4387445887445887,\n",
       " 'std_test_balanced_accuracy_score': 0.10245935188142702,\n",
       " 'mean_test_precision': 0.5523732309135843,\n",
       " 'std_test_precision': 0.0663304206045799,\n",
       " 'mean_test_recall': 0.5470860314523589,\n",
       " 'std_test_recall': 0.05887643296052362}"
      ]
     },
     "metadata": {},
     "execution_count": 130
    }
   ],
   "source": [
    "best_result"
   ]
  },
  {
   "source": [
    "## Stress global"
   ],
   "cell_type": "markdown",
   "metadata": {}
  },
  {
   "cell_type": "code",
   "execution_count": 12,
   "metadata": {},
   "outputs": [],
   "source": [
    "df_best_global_prediction = df_video_best_global_prediction.merge(df_audio_best_global_prediction, \n",
    "                                how='inner', on=['video_name']) \n",
    "#df_best_global_prediction = df_best_global_prediction.merge(df_text_best_global_prediction, on=['video_name'])\n",
    "#df_best_diapo_prediction = df_best_diapo_prediction.set_index(['video_name','diapo'])\n",
    "df_best_global_prediction = df_best_global_prediction.merge(df_annotations_stress_global, on=['video_name'])\n",
    "X = df_best_global_prediction.iloc[:,:-1].set_index(['video_name'])\n",
    "y = df_best_global_prediction.iloc[:,-1]\n",
    "#df_best_global_prediction"
   ]
  },
  {
   "cell_type": "code",
   "execution_count": 13,
   "metadata": {},
   "outputs": [
    {
     "output_type": "execute_result",
     "data": {
      "text/plain": [
       "                                 video_global_stress_prediction  \\\n",
       "video_name                                                        \n",
       "Test_pour_AFPA                                                1   \n",
       "Video_1                                                       1   \n",
       "WIN_20210323_19_17_40_Pro                                     1   \n",
       "WIN_20210329_10_16_02_Pro                                     1   \n",
       "WIN_20210330_13_10_29_Pro                                     0   \n",
       "WIN_20210331_21_22_52_Pro                                     1   \n",
       "WIN_20210402_19_04_53_Pro                                     2   \n",
       "WIN_20210403_18_49_15_Pro                                     1   \n",
       "WIN_20210404_10_58_27_Pro                                     1   \n",
       "WIN_20210404_21_41_12_Pro                                     0   \n",
       "WIN_20210405_15_09_16_Pro                                     1   \n",
       "WIN_20210406_15_06_15_Pro                                     2   \n",
       "WIN_20210406_18_35_52_Pro                                     0   \n",
       "WIN_20210406_18_49_10_Pro                                     1   \n",
       "WIN_20210406_21_05_52_Pro                                     0   \n",
       "WIN_20210407_09_04_05_Pro                                     0   \n",
       "WIN_20210407_14_54_56_Pro_edit2                               0   \n",
       "WIN_20210408_11_48_58_Pro                                     0   \n",
       "WIN_20210408_14_00_44_Pro                                     2   \n",
       "WIN_20210408_14_02_19_Pro                                     0   \n",
       "WIN_20210408_14_11_32_Pro                                     2   \n",
       "WIN_20210408_15_20_51_Pro                                     0   \n",
       "WIN_20210408_16_04_32_Pro                                     0   \n",
       "WIN_20210409_10_26_11_Pro                                     0   \n",
       "WIN_20210413_15_38_01_Pro                                     0   \n",
       "WIN_20210414_06_24_52_Pro                                     1   \n",
       "WIN_20210415_15_41_24_Pro                                     2   \n",
       "WIN_20210416_08_06_54_Pro                                     1   \n",
       "WIN_20210417_14_53_12_Pro                                     0   \n",
       "\n",
       "                                 audio_global_stress_prediction  \n",
       "video_name                                                       \n",
       "Test_pour_AFPA                                                0  \n",
       "Video_1                                                       0  \n",
       "WIN_20210323_19_17_40_Pro                                     0  \n",
       "WIN_20210329_10_16_02_Pro                                     0  \n",
       "WIN_20210330_13_10_29_Pro                                     2  \n",
       "WIN_20210331_21_22_52_Pro                                     0  \n",
       "WIN_20210402_19_04_53_Pro                                     2  \n",
       "WIN_20210403_18_49_15_Pro                                     2  \n",
       "WIN_20210404_10_58_27_Pro                                     1  \n",
       "WIN_20210404_21_41_12_Pro                                     0  \n",
       "WIN_20210405_15_09_16_Pro                                     1  \n",
       "WIN_20210406_15_06_15_Pro                                     2  \n",
       "WIN_20210406_18_35_52_Pro                                     1  \n",
       "WIN_20210406_18_49_10_Pro                                     1  \n",
       "WIN_20210406_21_05_52_Pro                                     0  \n",
       "WIN_20210407_09_04_05_Pro                                     2  \n",
       "WIN_20210407_14_54_56_Pro_edit2                               0  \n",
       "WIN_20210408_11_48_58_Pro                                     2  \n",
       "WIN_20210408_14_00_44_Pro                                     0  \n",
       "WIN_20210408_14_02_19_Pro                                     0  \n",
       "WIN_20210408_14_11_32_Pro                                     1  \n",
       "WIN_20210408_15_20_51_Pro                                     0  \n",
       "WIN_20210408_16_04_32_Pro                                     0  \n",
       "WIN_20210409_10_26_11_Pro                                     1  \n",
       "WIN_20210413_15_38_01_Pro                                     0  \n",
       "WIN_20210414_06_24_52_Pro                                     1  \n",
       "WIN_20210415_15_41_24_Pro                                     0  \n",
       "WIN_20210416_08_06_54_Pro                                     0  \n",
       "WIN_20210417_14_53_12_Pro                                     0  "
      ],
      "text/html": "<div>\n<style scoped>\n    .dataframe tbody tr th:only-of-type {\n        vertical-align: middle;\n    }\n\n    .dataframe tbody tr th {\n        vertical-align: top;\n    }\n\n    .dataframe thead th {\n        text-align: right;\n    }\n</style>\n<table border=\"1\" class=\"dataframe\">\n  <thead>\n    <tr style=\"text-align: right;\">\n      <th></th>\n      <th>video_global_stress_prediction</th>\n      <th>audio_global_stress_prediction</th>\n    </tr>\n    <tr>\n      <th>video_name</th>\n      <th></th>\n      <th></th>\n    </tr>\n  </thead>\n  <tbody>\n    <tr>\n      <th>Test_pour_AFPA</th>\n      <td>1</td>\n      <td>0</td>\n    </tr>\n    <tr>\n      <th>Video_1</th>\n      <td>1</td>\n      <td>0</td>\n    </tr>\n    <tr>\n      <th>WIN_20210323_19_17_40_Pro</th>\n      <td>1</td>\n      <td>0</td>\n    </tr>\n    <tr>\n      <th>WIN_20210329_10_16_02_Pro</th>\n      <td>1</td>\n      <td>0</td>\n    </tr>\n    <tr>\n      <th>WIN_20210330_13_10_29_Pro</th>\n      <td>0</td>\n      <td>2</td>\n    </tr>\n    <tr>\n      <th>WIN_20210331_21_22_52_Pro</th>\n      <td>1</td>\n      <td>0</td>\n    </tr>\n    <tr>\n      <th>WIN_20210402_19_04_53_Pro</th>\n      <td>2</td>\n      <td>2</td>\n    </tr>\n    <tr>\n      <th>WIN_20210403_18_49_15_Pro</th>\n      <td>1</td>\n      <td>2</td>\n    </tr>\n    <tr>\n      <th>WIN_20210404_10_58_27_Pro</th>\n      <td>1</td>\n      <td>1</td>\n    </tr>\n    <tr>\n      <th>WIN_20210404_21_41_12_Pro</th>\n      <td>0</td>\n      <td>0</td>\n    </tr>\n    <tr>\n      <th>WIN_20210405_15_09_16_Pro</th>\n      <td>1</td>\n      <td>1</td>\n    </tr>\n    <tr>\n      <th>WIN_20210406_15_06_15_Pro</th>\n      <td>2</td>\n      <td>2</td>\n    </tr>\n    <tr>\n      <th>WIN_20210406_18_35_52_Pro</th>\n      <td>0</td>\n      <td>1</td>\n    </tr>\n    <tr>\n      <th>WIN_20210406_18_49_10_Pro</th>\n      <td>1</td>\n      <td>1</td>\n    </tr>\n    <tr>\n      <th>WIN_20210406_21_05_52_Pro</th>\n      <td>0</td>\n      <td>0</td>\n    </tr>\n    <tr>\n      <th>WIN_20210407_09_04_05_Pro</th>\n      <td>0</td>\n      <td>2</td>\n    </tr>\n    <tr>\n      <th>WIN_20210407_14_54_56_Pro_edit2</th>\n      <td>0</td>\n      <td>0</td>\n    </tr>\n    <tr>\n      <th>WIN_20210408_11_48_58_Pro</th>\n      <td>0</td>\n      <td>2</td>\n    </tr>\n    <tr>\n      <th>WIN_20210408_14_00_44_Pro</th>\n      <td>2</td>\n      <td>0</td>\n    </tr>\n    <tr>\n      <th>WIN_20210408_14_02_19_Pro</th>\n      <td>0</td>\n      <td>0</td>\n    </tr>\n    <tr>\n      <th>WIN_20210408_14_11_32_Pro</th>\n      <td>2</td>\n      <td>1</td>\n    </tr>\n    <tr>\n      <th>WIN_20210408_15_20_51_Pro</th>\n      <td>0</td>\n      <td>0</td>\n    </tr>\n    <tr>\n      <th>WIN_20210408_16_04_32_Pro</th>\n      <td>0</td>\n      <td>0</td>\n    </tr>\n    <tr>\n      <th>WIN_20210409_10_26_11_Pro</th>\n      <td>0</td>\n      <td>1</td>\n    </tr>\n    <tr>\n      <th>WIN_20210413_15_38_01_Pro</th>\n      <td>0</td>\n      <td>0</td>\n    </tr>\n    <tr>\n      <th>WIN_20210414_06_24_52_Pro</th>\n      <td>1</td>\n      <td>1</td>\n    </tr>\n    <tr>\n      <th>WIN_20210415_15_41_24_Pro</th>\n      <td>2</td>\n      <td>0</td>\n    </tr>\n    <tr>\n      <th>WIN_20210416_08_06_54_Pro</th>\n      <td>1</td>\n      <td>0</td>\n    </tr>\n    <tr>\n      <th>WIN_20210417_14_53_12_Pro</th>\n      <td>0</td>\n      <td>0</td>\n    </tr>\n  </tbody>\n</table>\n</div>"
     },
     "metadata": {},
     "execution_count": 13
    }
   ],
   "source": [
    "X"
   ]
  },
  {
   "cell_type": "code",
   "execution_count": 14,
   "metadata": {},
   "outputs": [],
   "source": [
    "from sklearn.linear_model import LogisticRegression\n",
    "from sklearn.neighbors import KNeighborsClassifier\n",
    "from sklearn.ensemble import RandomForestClassifier\n",
    "from sklearn.model_selection import LeaveOneGroupOut\n",
    "from sklearn.decomposition import PCA\n",
    "from sklearn.pipeline import Pipeline\n",
    "\n",
    "pca = PCA()\n",
    "\n",
    "models_list = [\n",
    "                LogisticRegression(multi_class='multinomial', fit_intercept=True, random_state=42),\n",
    "                Pipeline(steps=[('pca', pca), ('logistic', LogisticRegression(multi_class='multinomial', fit_intercept=True))]),\n",
    "                KNeighborsClassifier(),\n",
    "                Pipeline(steps=[('pca', pca), ('knn', KNeighborsClassifier())]),\n",
    "                RandomForestClassifier(random_state = 42, n_jobs=-1)\n",
    "                ]\n",
    "\n",
    "parameters_list = [\n",
    "                    {'C': [0.01, 0.05, 0.1, 0.5, 1, 2, 3, 4 , 5, 10], 'class_weight' : [None, 'balanced']},\n",
    "                    {'pca__n_components': [1, 2, 3, 4],\n",
    "                        'logistic__C': [0.01, 0.05, 0.1, 0.5, 1, 2, 3, 4 , 5, 10], 'logistic__class_weight' : [None, 'balanced']},\n",
    "                    {'n_neighbors': [4, 5, 6, 7, 8, 9, 10, 11, 12,  15, 20], 'weights' : ['uniform', 'distance'], 'p': [1, 2]},\n",
    "                    {'pca__n_components': [1, 2, 3, 4],\n",
    "                        'knn__n_neighbors': [4, 5, 6, 7, 8, 9, 10, 11, 12,  15, 20], 'knn__weights' : ['uniform', 'distance'],                              'knn__p': [1, 2]},\n",
    "                    {'n_estimators': [50, 100, 150, 200], 'max_depth':[3, 4, 5, 6, 10, 15, 20], 'class_weight':[None,'balanced']}\n",
    "                    ]\n",
    "\n",
    "groups = X.reset_index()['video_name']\n",
    "loo = LeaveOneGroupOut()\n",
    "cv_loo = loo.split(X, y, groups)"
   ]
  },
  {
   "cell_type": "code",
   "execution_count": 174,
   "metadata": {},
   "outputs": [],
   "source": []
  },
  {
   "cell_type": "code",
   "execution_count": 15,
   "metadata": {},
   "outputs": [
    {
     "output_type": "stream",
     "name": "stdout",
     "text": [
      "Fitting 29 folds for each of 20 candidates, totalling 580 fits\n",
      "[Parallel(n_jobs=-1)]: Using backend LokyBackend with 8 concurrent workers.\n",
      "[Parallel(n_jobs=-1)]: Done  34 tasks      | elapsed:    2.5s\n",
      "[Parallel(n_jobs=-1)]: Done 557 tasks      | elapsed:    4.8s\n",
      "[Parallel(n_jobs=-1)]: Done 580 out of 580 | elapsed:    4.9s finished\n",
      "[Parallel(n_jobs=-1)]: Using backend LokyBackend with 8 concurrent workers.\n",
      "Best estimator LogisticRegression(C=0.01, class_weight='balanced', multi_class='multinomial',\n",
      "                   random_state=42)\n",
      "Best results 0.6896551724137931\n",
      "Best params {'C': 0.01, 'class_weight': 'balanced'}\n",
      "accuracy (mean, std) 0.6896551724137931 0.46263475396547377\n",
      "f1 (mean, std) 0.6896551724137931 0.46263475396547377\n",
      "balanced accuracy (mean, std) 0.6896551724137931 0.46263475396547377\n",
      "precision (mean, std) 0.6896551724137931 0.46263475396547377\n",
      "recall (mean, std) 0.6896551724137931 0.46263475396547377\n",
      "\n",
      "Fitting 29 folds for each of 80 candidates, totalling 2320 fits\n",
      "[Parallel(n_jobs=-1)]: Done  58 tasks      | elapsed:    0.4s\n",
      "[Parallel(n_jobs=-1)]: Done 2160 tasks      | elapsed:    5.9s\n",
      "[Parallel(n_jobs=-1)]: Done 2320 out of 2320 | elapsed:    6.2s finished\n",
      "[Parallel(n_jobs=-1)]: Using backend LokyBackend with 8 concurrent workers.\n",
      "Best estimator Pipeline(steps=[('pca', PCA(n_components=2)),\n",
      "                ('logistic',\n",
      "                 LogisticRegression(C=0.01, class_weight='balanced',\n",
      "                                    multi_class='multinomial'))])\n",
      "Best results 0.6896551724137931\n",
      "Best params {'logistic__C': 0.01, 'logistic__class_weight': 'balanced', 'pca__n_components': 2}\n",
      "accuracy (mean, std) 0.6896551724137931 0.46263475396547377\n",
      "f1 (mean, std) 0.6896551724137931 0.46263475396547377\n",
      "balanced accuracy (mean, std) 0.6896551724137931 0.46263475396547377\n",
      "precision (mean, std) 0.6896551724137931 0.46263475396547377\n",
      "recall (mean, std) 0.6896551724137931 0.46263475396547377\n",
      "\n",
      "Fitting 29 folds for each of 44 candidates, totalling 1276 fits\n",
      "[Parallel(n_jobs=-1)]: Done  56 tasks      | elapsed:    0.3s\n",
      "[Parallel(n_jobs=-1)]: Done 1200 tasks      | elapsed:    3.3s\n",
      "[Parallel(n_jobs=-1)]: Done 1276 out of 1276 | elapsed:    3.5s finished\n",
      "[Parallel(n_jobs=-1)]: Using backend LokyBackend with 8 concurrent workers.\n",
      "Best estimator KNeighborsClassifier(n_neighbors=8, p=1, weights='distance')\n",
      "Best results 0.7241379310344828\n",
      "Best params {'n_neighbors': 8, 'p': 1, 'weights': 'distance'}\n",
      "accuracy (mean, std) 0.7241379310344828 0.44694763437295587\n",
      "f1 (mean, std) 0.7241379310344828 0.44694763437295587\n",
      "balanced accuracy (mean, std) 0.7241379310344828 0.44694763437295587\n",
      "precision (mean, std) 0.7241379310344828 0.44694763437295587\n",
      "recall (mean, std) 0.7241379310344828 0.44694763437295587\n",
      "\n",
      "Fitting 29 folds for each of 176 candidates, totalling 5104 fits\n",
      "[Parallel(n_jobs=-1)]: Done  56 tasks      | elapsed:    0.3s\n",
      "[Parallel(n_jobs=-1)]: Done 2160 tasks      | elapsed:    4.7s\n",
      "[Parallel(n_jobs=-1)]: Done 5104 out of 5104 | elapsed:   11.0s finished\n",
      "[Parallel(n_jobs=-1)]: Using backend LokyBackend with 8 concurrent workers.\n",
      "Best estimator Pipeline(steps=[('pca', PCA(n_components=1)),\n",
      "                ('knn',\n",
      "                 KNeighborsClassifier(n_neighbors=7, p=1, weights='distance'))])\n",
      "Best results 0.7931034482758621\n",
      "Best params {'knn__n_neighbors': 7, 'knn__p': 1, 'knn__weights': 'distance', 'pca__n_components': 1}\n",
      "accuracy (mean, std) 0.7931034482758621 0.40508069394726653\n",
      "f1 (mean, std) 0.7931034482758621 0.40508069394726653\n",
      "balanced accuracy (mean, std) 0.7931034482758621 0.40508069394726653\n",
      "precision (mean, std) 0.7931034482758621 0.40508069394726653\n",
      "recall (mean, std) 0.7931034482758621 0.40508069394726653\n",
      "\n",
      "Fitting 29 folds for each of 56 candidates, totalling 1624 fits\n",
      "[Parallel(n_jobs=-1)]: Done  34 tasks      | elapsed:    1.5s\n",
      "[Parallel(n_jobs=-1)]: Done 184 tasks      | elapsed:   12.4s\n",
      "[Parallel(n_jobs=-1)]: Done 434 tasks      | elapsed:   32.6s\n",
      "[Parallel(n_jobs=-1)]: Done 784 tasks      | elapsed:  1.0min\n",
      "[Parallel(n_jobs=-1)]: Done 1234 tasks      | elapsed:  1.7min\n",
      "[Parallel(n_jobs=-1)]: Done 1624 out of 1624 | elapsed:  2.2min finished\n",
      "Best estimator RandomForestClassifier(class_weight='balanced', max_depth=3, n_estimators=50,\n",
      "                       n_jobs=-1, random_state=42)\n",
      "Best results 0.7931034482758621\n",
      "Best params {'class_weight': 'balanced', 'max_depth': 3, 'n_estimators': 50}\n",
      "accuracy (mean, std) 0.7931034482758621 0.40508069394726653\n",
      "f1 (mean, std) 0.7931034482758621 0.40508069394726653\n",
      "balanced accuracy (mean, std) 0.7931034482758621 0.40508069394726653\n",
      "precision (mean, std) 0.7931034482758621 0.40508069394726653\n",
      "recall (mean, std) 0.7931034482758621 0.40508069394726653\n",
      "\n",
      "f1_score (weighted) 0.7894218304381645\n",
      "accuracy 0.7931034482758621\n"
     ]
    }
   ],
   "source": [
    "best_result, y_predict, y_predict_proba, result_list = runGridSearchClassifiers(X, y, cv_loo, models_list, parameters_list, \n",
    "                                                                output_predict=True, n_jobs=-1, verbose=True)"
   ]
  },
  {
   "cell_type": "code",
   "execution_count": 16,
   "metadata": {},
   "outputs": [
    {
     "output_type": "execute_result",
     "data": {
      "text/plain": [
       "{'best_estimator': Pipeline(steps=[('pca', PCA(n_components=1)),\n",
       "                 ('knn',\n",
       "                  KNeighborsClassifier(n_neighbors=7, p=1, weights='distance'))]),\n",
       " 'best_score': 0.7931034482758621,\n",
       " 'best_params': {'knn__n_neighbors': 7,\n",
       "  'knn__p': 1,\n",
       "  'knn__weights': 'distance',\n",
       "  'pca__n_components': 1},\n",
       " 'mean_test_f1_score': 0.7931034482758621,\n",
       " 'std_test_f1_score': 0.40508069394726653,\n",
       " 'mean_test_accuracy_score': 0.7931034482758621,\n",
       " 'std_test_accuracy_score': 0.40508069394726653,\n",
       " 'mean_test_balanced_accuracy_score': 0.7931034482758621,\n",
       " 'std_test_balanced_accuracy_score': 0.40508069394726653,\n",
       " 'mean_test_precision': 0.7931034482758621,\n",
       " 'std_test_precision': 0.40508069394726653,\n",
       " 'mean_test_recall': 0.7931034482758621,\n",
       " 'std_test_recall': 0.40508069394726653}"
      ]
     },
     "metadata": {},
     "execution_count": 16
    }
   ],
   "source": [
    "best_result"
   ]
  },
  {
   "cell_type": "code",
   "execution_count": 17,
   "metadata": {},
   "outputs": [
    {
     "output_type": "execute_result",
     "data": {
      "text/plain": [
       "                                 video_global_stress_prediction  \\\n",
       "video_name                                                        \n",
       "Test_pour_AFPA                                                1   \n",
       "Video_1                                                       1   \n",
       "WIN_20210323_19_17_40_Pro                                     1   \n",
       "WIN_20210329_10_16_02_Pro                                     1   \n",
       "WIN_20210330_13_10_29_Pro                                     0   \n",
       "WIN_20210331_21_22_52_Pro                                     1   \n",
       "WIN_20210402_19_04_53_Pro                                     2   \n",
       "WIN_20210403_18_49_15_Pro                                     1   \n",
       "WIN_20210404_10_58_27_Pro                                     1   \n",
       "WIN_20210404_21_41_12_Pro                                     0   \n",
       "WIN_20210405_15_09_16_Pro                                     1   \n",
       "WIN_20210406_15_06_15_Pro                                     2   \n",
       "WIN_20210406_18_35_52_Pro                                     0   \n",
       "WIN_20210406_18_49_10_Pro                                     1   \n",
       "WIN_20210406_21_05_52_Pro                                     0   \n",
       "WIN_20210407_09_04_05_Pro                                     0   \n",
       "WIN_20210407_14_54_56_Pro_edit2                               0   \n",
       "WIN_20210408_11_48_58_Pro                                     0   \n",
       "WIN_20210408_14_00_44_Pro                                     2   \n",
       "WIN_20210408_14_02_19_Pro                                     0   \n",
       "WIN_20210408_14_11_32_Pro                                     2   \n",
       "WIN_20210408_15_20_51_Pro                                     0   \n",
       "WIN_20210408_16_04_32_Pro                                     0   \n",
       "WIN_20210409_10_26_11_Pro                                     0   \n",
       "WIN_20210413_15_38_01_Pro                                     0   \n",
       "WIN_20210414_06_24_52_Pro                                     1   \n",
       "WIN_20210415_15_41_24_Pro                                     2   \n",
       "WIN_20210416_08_06_54_Pro                                     1   \n",
       "WIN_20210417_14_53_12_Pro                                     0   \n",
       "\n",
       "                                 audio_global_stress_prediction  \n",
       "video_name                                                       \n",
       "Test_pour_AFPA                                                0  \n",
       "Video_1                                                       0  \n",
       "WIN_20210323_19_17_40_Pro                                     0  \n",
       "WIN_20210329_10_16_02_Pro                                     0  \n",
       "WIN_20210330_13_10_29_Pro                                     2  \n",
       "WIN_20210331_21_22_52_Pro                                     0  \n",
       "WIN_20210402_19_04_53_Pro                                     2  \n",
       "WIN_20210403_18_49_15_Pro                                     2  \n",
       "WIN_20210404_10_58_27_Pro                                     1  \n",
       "WIN_20210404_21_41_12_Pro                                     0  \n",
       "WIN_20210405_15_09_16_Pro                                     1  \n",
       "WIN_20210406_15_06_15_Pro                                     2  \n",
       "WIN_20210406_18_35_52_Pro                                     1  \n",
       "WIN_20210406_18_49_10_Pro                                     1  \n",
       "WIN_20210406_21_05_52_Pro                                     0  \n",
       "WIN_20210407_09_04_05_Pro                                     2  \n",
       "WIN_20210407_14_54_56_Pro_edit2                               0  \n",
       "WIN_20210408_11_48_58_Pro                                     2  \n",
       "WIN_20210408_14_00_44_Pro                                     0  \n",
       "WIN_20210408_14_02_19_Pro                                     0  \n",
       "WIN_20210408_14_11_32_Pro                                     1  \n",
       "WIN_20210408_15_20_51_Pro                                     0  \n",
       "WIN_20210408_16_04_32_Pro                                     0  \n",
       "WIN_20210409_10_26_11_Pro                                     1  \n",
       "WIN_20210413_15_38_01_Pro                                     0  \n",
       "WIN_20210414_06_24_52_Pro                                     1  \n",
       "WIN_20210415_15_41_24_Pro                                     0  \n",
       "WIN_20210416_08_06_54_Pro                                     0  \n",
       "WIN_20210417_14_53_12_Pro                                     0  "
      ],
      "text/html": "<div>\n<style scoped>\n    .dataframe tbody tr th:only-of-type {\n        vertical-align: middle;\n    }\n\n    .dataframe tbody tr th {\n        vertical-align: top;\n    }\n\n    .dataframe thead th {\n        text-align: right;\n    }\n</style>\n<table border=\"1\" class=\"dataframe\">\n  <thead>\n    <tr style=\"text-align: right;\">\n      <th></th>\n      <th>video_global_stress_prediction</th>\n      <th>audio_global_stress_prediction</th>\n    </tr>\n    <tr>\n      <th>video_name</th>\n      <th></th>\n      <th></th>\n    </tr>\n  </thead>\n  <tbody>\n    <tr>\n      <th>Test_pour_AFPA</th>\n      <td>1</td>\n      <td>0</td>\n    </tr>\n    <tr>\n      <th>Video_1</th>\n      <td>1</td>\n      <td>0</td>\n    </tr>\n    <tr>\n      <th>WIN_20210323_19_17_40_Pro</th>\n      <td>1</td>\n      <td>0</td>\n    </tr>\n    <tr>\n      <th>WIN_20210329_10_16_02_Pro</th>\n      <td>1</td>\n      <td>0</td>\n    </tr>\n    <tr>\n      <th>WIN_20210330_13_10_29_Pro</th>\n      <td>0</td>\n      <td>2</td>\n    </tr>\n    <tr>\n      <th>WIN_20210331_21_22_52_Pro</th>\n      <td>1</td>\n      <td>0</td>\n    </tr>\n    <tr>\n      <th>WIN_20210402_19_04_53_Pro</th>\n      <td>2</td>\n      <td>2</td>\n    </tr>\n    <tr>\n      <th>WIN_20210403_18_49_15_Pro</th>\n      <td>1</td>\n      <td>2</td>\n    </tr>\n    <tr>\n      <th>WIN_20210404_10_58_27_Pro</th>\n      <td>1</td>\n      <td>1</td>\n    </tr>\n    <tr>\n      <th>WIN_20210404_21_41_12_Pro</th>\n      <td>0</td>\n      <td>0</td>\n    </tr>\n    <tr>\n      <th>WIN_20210405_15_09_16_Pro</th>\n      <td>1</td>\n      <td>1</td>\n    </tr>\n    <tr>\n      <th>WIN_20210406_15_06_15_Pro</th>\n      <td>2</td>\n      <td>2</td>\n    </tr>\n    <tr>\n      <th>WIN_20210406_18_35_52_Pro</th>\n      <td>0</td>\n      <td>1</td>\n    </tr>\n    <tr>\n      <th>WIN_20210406_18_49_10_Pro</th>\n      <td>1</td>\n      <td>1</td>\n    </tr>\n    <tr>\n      <th>WIN_20210406_21_05_52_Pro</th>\n      <td>0</td>\n      <td>0</td>\n    </tr>\n    <tr>\n      <th>WIN_20210407_09_04_05_Pro</th>\n      <td>0</td>\n      <td>2</td>\n    </tr>\n    <tr>\n      <th>WIN_20210407_14_54_56_Pro_edit2</th>\n      <td>0</td>\n      <td>0</td>\n    </tr>\n    <tr>\n      <th>WIN_20210408_11_48_58_Pro</th>\n      <td>0</td>\n      <td>2</td>\n    </tr>\n    <tr>\n      <th>WIN_20210408_14_00_44_Pro</th>\n      <td>2</td>\n      <td>0</td>\n    </tr>\n    <tr>\n      <th>WIN_20210408_14_02_19_Pro</th>\n      <td>0</td>\n      <td>0</td>\n    </tr>\n    <tr>\n      <th>WIN_20210408_14_11_32_Pro</th>\n      <td>2</td>\n      <td>1</td>\n    </tr>\n    <tr>\n      <th>WIN_20210408_15_20_51_Pro</th>\n      <td>0</td>\n      <td>0</td>\n    </tr>\n    <tr>\n      <th>WIN_20210408_16_04_32_Pro</th>\n      <td>0</td>\n      <td>0</td>\n    </tr>\n    <tr>\n      <th>WIN_20210409_10_26_11_Pro</th>\n      <td>0</td>\n      <td>1</td>\n    </tr>\n    <tr>\n      <th>WIN_20210413_15_38_01_Pro</th>\n      <td>0</td>\n      <td>0</td>\n    </tr>\n    <tr>\n      <th>WIN_20210414_06_24_52_Pro</th>\n      <td>1</td>\n      <td>1</td>\n    </tr>\n    <tr>\n      <th>WIN_20210415_15_41_24_Pro</th>\n      <td>2</td>\n      <td>0</td>\n    </tr>\n    <tr>\n      <th>WIN_20210416_08_06_54_Pro</th>\n      <td>1</td>\n      <td>0</td>\n    </tr>\n    <tr>\n      <th>WIN_20210417_14_53_12_Pro</th>\n      <td>0</td>\n      <td>0</td>\n    </tr>\n  </tbody>\n</table>\n</div>"
     },
     "metadata": {},
     "execution_count": 17
    }
   ],
   "source": [
    "X"
   ]
  },
  {
   "cell_type": "code",
   "execution_count": null,
   "metadata": {},
   "outputs": [],
   "source": [
    "#y = pd.concat([df_best_global_prediction[['video_name']],y],axis=1)"
   ]
  },
  {
   "cell_type": "code",
   "execution_count": 27,
   "metadata": {},
   "outputs": [],
   "source": [
    "pipe = Pipeline(steps=[('pca', PCA(n_components=1)), ('knn', KNeighborsClassifier(n_neighbors=7, p=1, weights='distance'))])\n",
    "\n",
    "groups = X.reset_index()['video_name']\n",
    "loo = LeaveOneGroupOut()\n",
    "cv_loo = loo.split(X, y, groups)\n",
    "\n",
    "from sklearn.model_selection import KFold\n",
    "\n",
    "\n",
    "results = np.zeros(len(y))\n",
    "for train_index, test_index in cv_loo:\n",
    "#for train_index, test_index in KFold(5).split(X):\n",
    "    Xtrain, Xtest = X.iloc[train_index,:], X.iloc[test_index,:]\n",
    "    ytrain, ytest = y.iloc[train_index], y.iloc[test_index]\n",
    "\n",
    "    pipe = Pipeline(steps=[('pca', PCA(n_components=1)), ('knn', KNeighborsClassifier(n_neighbors=7, p=1, weights='distance'))])\n",
    "    pipe.fit(Xtrain, ytrain)\n",
    "    ytest_predict = pipe.predict(Xtest)\n",
    "    \n",
    "    #print(f1_score(ytest,ytest_predict,average='weighted'))\n",
    "    #results.append([test_index, ytest_predict])\n",
    "    results[test_index] = ytest_predict\n",
    "\n",
    "    "
   ]
  },
  {
   "cell_type": "code",
   "execution_count": 33,
   "metadata": {},
   "outputs": [
    {
     "output_type": "execute_result",
     "data": {
      "text/plain": [
       "array([[10,  1,  1],\n",
       "       [ 1,  8,  0],\n",
       "       [ 2,  1,  5]])"
      ]
     },
     "metadata": {},
     "execution_count": 33
    }
   ],
   "source": [
    "from sklearn.metrics import confusion_matrix, plot_confusion_matrix\n",
    "confusion_matrix(y,results)\n",
    "#plot_confusion_matrix(confusion_matrix,X,y)\n",
    "#pd.concat(results)"
   ]
  },
  {
   "cell_type": "code",
   "execution_count": 22,
   "metadata": {},
   "outputs": [
    {
     "output_type": "execute_result",
     "data": {
      "text/plain": [
       "0.7894218304381645"
      ]
     },
     "metadata": {},
     "execution_count": 22
    }
   ],
   "source": [
    "from sklearn.metrics import f1_score\n",
    "f1_score(y,results,average='weighted')"
   ]
  },
  {
   "cell_type": "code",
   "execution_count": 40,
   "metadata": {},
   "outputs": [
    {
     "output_type": "execute_result",
     "data": {
      "text/plain": [
       "array([[0.42873273, 0.90343137]])"
      ]
     },
     "metadata": {},
     "execution_count": 40
    }
   ],
   "source": [
    "pipe['pca'].components_"
   ]
  },
  {
   "cell_type": "code",
   "execution_count": 24,
   "metadata": {},
   "outputs": [
    {
     "output_type": "execute_result",
     "data": {
      "text/plain": [
       "0.8268602540834846"
      ]
     },
     "metadata": {},
     "execution_count": 24
    }
   ],
   "source": [
    "\n",
    "f1_score(y,pipe.predict(X),average='weighted')"
   ]
  },
  {
   "source": [],
   "cell_type": "markdown",
   "metadata": {}
  },
  {
   "cell_type": "code",
   "execution_count": 175,
   "metadata": {},
   "outputs": [
    {
     "output_type": "error",
     "ename": "AttributeError",
     "evalue": "'DataFrame' object has no attribute 'video_name'",
     "traceback": [
      "\u001b[0;31m---------------------------------------------------------------------------\u001b[0m",
      "\u001b[0;31mAttributeError\u001b[0m                            Traceback (most recent call last)",
      "\u001b[0;32m<ipython-input-175-95dc99ddf6ef>\u001b[0m in \u001b[0;36m<module>\u001b[0;34m\u001b[0m\n\u001b[1;32m      3\u001b[0m \u001b[0;34m\u001b[0m\u001b[0m\n\u001b[1;32m      4\u001b[0m \u001b[0mresults\u001b[0m \u001b[0;34m=\u001b[0m \u001b[0;34m[\u001b[0m\u001b[0;34m]\u001b[0m\u001b[0;34m\u001b[0m\u001b[0;34m\u001b[0m\u001b[0m\n\u001b[0;32m----> 5\u001b[0;31m \u001b[0;32mfor\u001b[0m \u001b[0mvid\u001b[0m \u001b[0;32min\u001b[0m \u001b[0mX\u001b[0m\u001b[0;34m.\u001b[0m\u001b[0mvideo_name\u001b[0m\u001b[0;34m.\u001b[0m\u001b[0munique\u001b[0m\u001b[0;34m(\u001b[0m\u001b[0;34m)\u001b[0m\u001b[0;34m.\u001b[0m\u001b[0mtolist\u001b[0m\u001b[0;34m(\u001b[0m\u001b[0;34m)\u001b[0m\u001b[0;34m:\u001b[0m\u001b[0;34m\u001b[0m\u001b[0;34m\u001b[0m\u001b[0m\n\u001b[0m\u001b[1;32m      6\u001b[0m     \u001b[0mtesting\u001b[0m \u001b[0;34m=\u001b[0m \u001b[0mX\u001b[0m\u001b[0;34m.\u001b[0m\u001b[0mloc\u001b[0m\u001b[0;34m[\u001b[0m\u001b[0mX\u001b[0m\u001b[0;34m[\u001b[0m\u001b[0;34m'video_name'\u001b[0m\u001b[0;34m]\u001b[0m \u001b[0;34m==\u001b[0m \u001b[0mvid\u001b[0m\u001b[0;34m]\u001b[0m\u001b[0;34m\u001b[0m\u001b[0;34m\u001b[0m\u001b[0m\n\u001b[1;32m      7\u001b[0m     \u001b[0mtraining\u001b[0m \u001b[0;34m=\u001b[0m \u001b[0mX\u001b[0m\u001b[0;34m.\u001b[0m\u001b[0mloc\u001b[0m\u001b[0;34m[\u001b[0m\u001b[0mX\u001b[0m\u001b[0;34m[\u001b[0m\u001b[0;34m'video_name'\u001b[0m\u001b[0;34m]\u001b[0m \u001b[0;34m!=\u001b[0m \u001b[0mvid\u001b[0m\u001b[0;34m]\u001b[0m\u001b[0;34m\u001b[0m\u001b[0;34m\u001b[0m\u001b[0m\n",
      "\u001b[0;32m~/anaconda3/lib/python3.8/site-packages/pandas/core/generic.py\u001b[0m in \u001b[0;36m__getattr__\u001b[0;34m(self, name)\u001b[0m\n\u001b[1;32m   5463\u001b[0m             \u001b[0;32mif\u001b[0m \u001b[0mself\u001b[0m\u001b[0;34m.\u001b[0m\u001b[0m_info_axis\u001b[0m\u001b[0;34m.\u001b[0m\u001b[0m_can_hold_identifiers_and_holds_name\u001b[0m\u001b[0;34m(\u001b[0m\u001b[0mname\u001b[0m\u001b[0;34m)\u001b[0m\u001b[0;34m:\u001b[0m\u001b[0;34m\u001b[0m\u001b[0;34m\u001b[0m\u001b[0m\n\u001b[1;32m   5464\u001b[0m                 \u001b[0;32mreturn\u001b[0m \u001b[0mself\u001b[0m\u001b[0;34m[\u001b[0m\u001b[0mname\u001b[0m\u001b[0;34m]\u001b[0m\u001b[0;34m\u001b[0m\u001b[0;34m\u001b[0m\u001b[0m\n\u001b[0;32m-> 5465\u001b[0;31m             \u001b[0;32mreturn\u001b[0m \u001b[0mobject\u001b[0m\u001b[0;34m.\u001b[0m\u001b[0m__getattribute__\u001b[0m\u001b[0;34m(\u001b[0m\u001b[0mself\u001b[0m\u001b[0;34m,\u001b[0m \u001b[0mname\u001b[0m\u001b[0;34m)\u001b[0m\u001b[0;34m\u001b[0m\u001b[0;34m\u001b[0m\u001b[0m\n\u001b[0m\u001b[1;32m   5466\u001b[0m \u001b[0;34m\u001b[0m\u001b[0m\n\u001b[1;32m   5467\u001b[0m     \u001b[0;32mdef\u001b[0m \u001b[0m__setattr__\u001b[0m\u001b[0;34m(\u001b[0m\u001b[0mself\u001b[0m\u001b[0;34m,\u001b[0m \u001b[0mname\u001b[0m\u001b[0;34m:\u001b[0m \u001b[0mstr\u001b[0m\u001b[0;34m,\u001b[0m \u001b[0mvalue\u001b[0m\u001b[0;34m)\u001b[0m \u001b[0;34m->\u001b[0m \u001b[0;32mNone\u001b[0m\u001b[0;34m:\u001b[0m\u001b[0;34m\u001b[0m\u001b[0;34m\u001b[0m\u001b[0m\n",
      "\u001b[0;31mAttributeError\u001b[0m: 'DataFrame' object has no attribute 'video_name'"
     ]
    }
   ],
   "source": [
    "\n",
    "\n",
    "X = X.reset_index(drop=True)\n",
    "y = y.reset_index(drop=True)\n",
    "\n",
    "results = []\n",
    "for vid in X.video_name.unique().tolist():\n",
    "    testing = X.loc[X['video_name'] == vid]\n",
    "    training = X.loc[X['video_name'] != vid]\n",
    "    training = training.set_index('video_name')\n",
    "    testing = testing.set_index('video_name')\n",
    "\n",
    "    ytesting = y.loc[y['video_name'] == vid]\n",
    "    ytraining = y.loc[y['video_name'] != vid]\n",
    "    ytraining = y.set_index('video_name')\n",
    "    ytesting = y.set_index('video_name')\n",
    "\n",
    "    pipe = Pipeline(steps=[('pca', PCA(n_components=1)), ('knn', KNeighborsClassifier(n_neighbors=7, p=1,       weights='distance'))])\n",
    "    pipe.fit(training, ytrain)\n",
    "    ytest_predict = pipe.predict(Xtest).squeeze()\n",
    "\n",
    "    results.append([vid, ytest_predict])\n",
    "\n"
   ]
  },
  {
   "cell_type": "code",
   "execution_count": 171,
   "metadata": {},
   "outputs": [
    {
     "output_type": "execute_result",
     "data": {
      "text/plain": [
       "    level_0  index                       video_name  \\\n",
       "0         0      0                   Test_pour_AFPA   \n",
       "1         1      1                          Video_1   \n",
       "2         2      2        WIN_20210323_19_17_40_Pro   \n",
       "3         3      3        WIN_20210329_10_16_02_Pro   \n",
       "4         4      4        WIN_20210330_13_10_29_Pro   \n",
       "5         5      5        WIN_20210331_21_22_52_Pro   \n",
       "6         6      6        WIN_20210402_19_04_53_Pro   \n",
       "7         7      7        WIN_20210403_18_49_15_Pro   \n",
       "8         8      8        WIN_20210404_10_58_27_Pro   \n",
       "9         9      9        WIN_20210404_21_41_12_Pro   \n",
       "10       10     10        WIN_20210405_15_09_16_Pro   \n",
       "11       11     11        WIN_20210406_15_06_15_Pro   \n",
       "12       12     12        WIN_20210406_18_35_52_Pro   \n",
       "13       13     13        WIN_20210406_18_49_10_Pro   \n",
       "14       14     14        WIN_20210406_21_05_52_Pro   \n",
       "15       15     15        WIN_20210407_09_04_05_Pro   \n",
       "16       16     16  WIN_20210407_14_54_56_Pro_edit2   \n",
       "17       17     17        WIN_20210408_11_48_58_Pro   \n",
       "18       18     18        WIN_20210408_14_00_44_Pro   \n",
       "19       19     19        WIN_20210408_14_02_19_Pro   \n",
       "20       20     20        WIN_20210408_14_11_32_Pro   \n",
       "21       21     21        WIN_20210408_15_20_51_Pro   \n",
       "22       22     22        WIN_20210408_16_04_32_Pro   \n",
       "23       23     23        WIN_20210409_10_26_11_Pro   \n",
       "24       24     24        WIN_20210413_15_38_01_Pro   \n",
       "25       25     25        WIN_20210414_06_24_52_Pro   \n",
       "26       26     26        WIN_20210415_15_41_24_Pro   \n",
       "27       27     27        WIN_20210416_08_06_54_Pro   \n",
       "28       28     28        WIN_20210417_14_53_12_Pro   \n",
       "\n",
       "    video_global_stress_prediction  audio_global_stress_prediction  \n",
       "0                                1                               0  \n",
       "1                                1                               0  \n",
       "2                                1                               0  \n",
       "3                                1                               0  \n",
       "4                                0                               2  \n",
       "5                                1                               0  \n",
       "6                                2                               2  \n",
       "7                                1                               2  \n",
       "8                                1                               1  \n",
       "9                                0                               0  \n",
       "10                               1                               1  \n",
       "11                               2                               2  \n",
       "12                               0                               1  \n",
       "13                               1                               1  \n",
       "14                               0                               0  \n",
       "15                               0                               2  \n",
       "16                               0                               0  \n",
       "17                               0                               2  \n",
       "18                               2                               0  \n",
       "19                               0                               0  \n",
       "20                               2                               1  \n",
       "21                               0                               0  \n",
       "22                               0                               0  \n",
       "23                               0                               1  \n",
       "24                               0                               0  \n",
       "25                               1                               1  \n",
       "26                               2                               0  \n",
       "27                               1                               0  \n",
       "28                               0                               0  "
      ],
      "text/html": "<div>\n<style scoped>\n    .dataframe tbody tr th:only-of-type {\n        vertical-align: middle;\n    }\n\n    .dataframe tbody tr th {\n        vertical-align: top;\n    }\n\n    .dataframe thead th {\n        text-align: right;\n    }\n</style>\n<table border=\"1\" class=\"dataframe\">\n  <thead>\n    <tr style=\"text-align: right;\">\n      <th></th>\n      <th>level_0</th>\n      <th>index</th>\n      <th>video_name</th>\n      <th>video_global_stress_prediction</th>\n      <th>audio_global_stress_prediction</th>\n    </tr>\n  </thead>\n  <tbody>\n    <tr>\n      <th>0</th>\n      <td>0</td>\n      <td>0</td>\n      <td>Test_pour_AFPA</td>\n      <td>1</td>\n      <td>0</td>\n    </tr>\n    <tr>\n      <th>1</th>\n      <td>1</td>\n      <td>1</td>\n      <td>Video_1</td>\n      <td>1</td>\n      <td>0</td>\n    </tr>\n    <tr>\n      <th>2</th>\n      <td>2</td>\n      <td>2</td>\n      <td>WIN_20210323_19_17_40_Pro</td>\n      <td>1</td>\n      <td>0</td>\n    </tr>\n    <tr>\n      <th>3</th>\n      <td>3</td>\n      <td>3</td>\n      <td>WIN_20210329_10_16_02_Pro</td>\n      <td>1</td>\n      <td>0</td>\n    </tr>\n    <tr>\n      <th>4</th>\n      <td>4</td>\n      <td>4</td>\n      <td>WIN_20210330_13_10_29_Pro</td>\n      <td>0</td>\n      <td>2</td>\n    </tr>\n    <tr>\n      <th>5</th>\n      <td>5</td>\n      <td>5</td>\n      <td>WIN_20210331_21_22_52_Pro</td>\n      <td>1</td>\n      <td>0</td>\n    </tr>\n    <tr>\n      <th>6</th>\n      <td>6</td>\n      <td>6</td>\n      <td>WIN_20210402_19_04_53_Pro</td>\n      <td>2</td>\n      <td>2</td>\n    </tr>\n    <tr>\n      <th>7</th>\n      <td>7</td>\n      <td>7</td>\n      <td>WIN_20210403_18_49_15_Pro</td>\n      <td>1</td>\n      <td>2</td>\n    </tr>\n    <tr>\n      <th>8</th>\n      <td>8</td>\n      <td>8</td>\n      <td>WIN_20210404_10_58_27_Pro</td>\n      <td>1</td>\n      <td>1</td>\n    </tr>\n    <tr>\n      <th>9</th>\n      <td>9</td>\n      <td>9</td>\n      <td>WIN_20210404_21_41_12_Pro</td>\n      <td>0</td>\n      <td>0</td>\n    </tr>\n    <tr>\n      <th>10</th>\n      <td>10</td>\n      <td>10</td>\n      <td>WIN_20210405_15_09_16_Pro</td>\n      <td>1</td>\n      <td>1</td>\n    </tr>\n    <tr>\n      <th>11</th>\n      <td>11</td>\n      <td>11</td>\n      <td>WIN_20210406_15_06_15_Pro</td>\n      <td>2</td>\n      <td>2</td>\n    </tr>\n    <tr>\n      <th>12</th>\n      <td>12</td>\n      <td>12</td>\n      <td>WIN_20210406_18_35_52_Pro</td>\n      <td>0</td>\n      <td>1</td>\n    </tr>\n    <tr>\n      <th>13</th>\n      <td>13</td>\n      <td>13</td>\n      <td>WIN_20210406_18_49_10_Pro</td>\n      <td>1</td>\n      <td>1</td>\n    </tr>\n    <tr>\n      <th>14</th>\n      <td>14</td>\n      <td>14</td>\n      <td>WIN_20210406_21_05_52_Pro</td>\n      <td>0</td>\n      <td>0</td>\n    </tr>\n    <tr>\n      <th>15</th>\n      <td>15</td>\n      <td>15</td>\n      <td>WIN_20210407_09_04_05_Pro</td>\n      <td>0</td>\n      <td>2</td>\n    </tr>\n    <tr>\n      <th>16</th>\n      <td>16</td>\n      <td>16</td>\n      <td>WIN_20210407_14_54_56_Pro_edit2</td>\n      <td>0</td>\n      <td>0</td>\n    </tr>\n    <tr>\n      <th>17</th>\n      <td>17</td>\n      <td>17</td>\n      <td>WIN_20210408_11_48_58_Pro</td>\n      <td>0</td>\n      <td>2</td>\n    </tr>\n    <tr>\n      <th>18</th>\n      <td>18</td>\n      <td>18</td>\n      <td>WIN_20210408_14_00_44_Pro</td>\n      <td>2</td>\n      <td>0</td>\n    </tr>\n    <tr>\n      <th>19</th>\n      <td>19</td>\n      <td>19</td>\n      <td>WIN_20210408_14_02_19_Pro</td>\n      <td>0</td>\n      <td>0</td>\n    </tr>\n    <tr>\n      <th>20</th>\n      <td>20</td>\n      <td>20</td>\n      <td>WIN_20210408_14_11_32_Pro</td>\n      <td>2</td>\n      <td>1</td>\n    </tr>\n    <tr>\n      <th>21</th>\n      <td>21</td>\n      <td>21</td>\n      <td>WIN_20210408_15_20_51_Pro</td>\n      <td>0</td>\n      <td>0</td>\n    </tr>\n    <tr>\n      <th>22</th>\n      <td>22</td>\n      <td>22</td>\n      <td>WIN_20210408_16_04_32_Pro</td>\n      <td>0</td>\n      <td>0</td>\n    </tr>\n    <tr>\n      <th>23</th>\n      <td>23</td>\n      <td>23</td>\n      <td>WIN_20210409_10_26_11_Pro</td>\n      <td>0</td>\n      <td>1</td>\n    </tr>\n    <tr>\n      <th>24</th>\n      <td>24</td>\n      <td>24</td>\n      <td>WIN_20210413_15_38_01_Pro</td>\n      <td>0</td>\n      <td>0</td>\n    </tr>\n    <tr>\n      <th>25</th>\n      <td>25</td>\n      <td>25</td>\n      <td>WIN_20210414_06_24_52_Pro</td>\n      <td>1</td>\n      <td>1</td>\n    </tr>\n    <tr>\n      <th>26</th>\n      <td>26</td>\n      <td>26</td>\n      <td>WIN_20210415_15_41_24_Pro</td>\n      <td>2</td>\n      <td>0</td>\n    </tr>\n    <tr>\n      <th>27</th>\n      <td>27</td>\n      <td>27</td>\n      <td>WIN_20210416_08_06_54_Pro</td>\n      <td>1</td>\n      <td>0</td>\n    </tr>\n    <tr>\n      <th>28</th>\n      <td>28</td>\n      <td>28</td>\n      <td>WIN_20210417_14_53_12_Pro</td>\n      <td>0</td>\n      <td>0</td>\n    </tr>\n  </tbody>\n</table>\n</div>"
     },
     "metadata": {},
     "execution_count": 171
    }
   ],
   "source": [
    "X"
   ]
  },
  {
   "cell_type": "code",
   "execution_count": 143,
   "metadata": {},
   "outputs": [
    {
     "output_type": "execute_result",
     "data": {
      "text/plain": [
       "0.8268602540834846"
      ]
     },
     "metadata": {},
     "execution_count": 143
    }
   ],
   "source": [
    "from sklearn.metrics import f1_score\n",
    "f1_score(y,best_result['best_estimator'].predict(X),average='weighted')"
   ]
  },
  {
   "cell_type": "code",
   "execution_count": 150,
   "metadata": {},
   "outputs": [
    {
     "output_type": "execute_result",
     "data": {
      "text/plain": [
       "Pipeline(steps=[('pca', PCA(n_components=1)),\n",
       "                ('knn',\n",
       "                 KNeighborsClassifier(n_neighbors=7, p=1, weights='distance'))])"
      ]
     },
     "metadata": {},
     "execution_count": 150
    }
   ],
   "source": [
    "best_result['best_estimator']"
   ]
  },
  {
   "source": [
    "## Timeframe 5s"
   ],
   "cell_type": "markdown",
   "metadata": {}
  },
  {
   "cell_type": "code",
   "execution_count": 106,
   "metadata": {},
   "outputs": [
    {
     "output_type": "execute_result",
     "data": {
      "text/plain": [
       "                     video_name  diapo  frameTimeWindow  \\\n",
       "0                Test_pour_AFPA      9              220   \n",
       "1                Test_pour_AFPA      9              225   \n",
       "2                Test_pour_AFPA      9              230   \n",
       "3                Test_pour_AFPA      9              235   \n",
       "4                Test_pour_AFPA      9              240   \n",
       "...                         ...    ...              ...   \n",
       "5136  WIN_20210417_14_53_12_Pro     18              600   \n",
       "5137  WIN_20210417_14_53_12_Pro     18              605   \n",
       "5138  WIN_20210417_14_53_12_Pro     18              610   \n",
       "5139  WIN_20210417_14_53_12_Pro     18              615   \n",
       "5140  WIN_20210417_14_53_12_Pro     18              620   \n",
       "\n",
       "      video_diapo_stress_prediction  \n",
       "0                                 0  \n",
       "1                                 0  \n",
       "2                                 0  \n",
       "3                                 0  \n",
       "4                                 0  \n",
       "...                             ...  \n",
       "5136                              1  \n",
       "5137                              1  \n",
       "5138                              1  \n",
       "5139                              1  \n",
       "5140                              1  \n",
       "\n",
       "[5141 rows x 4 columns]"
      ],
      "text/html": "<div>\n<style scoped>\n    .dataframe tbody tr th:only-of-type {\n        vertical-align: middle;\n    }\n\n    .dataframe tbody tr th {\n        vertical-align: top;\n    }\n\n    .dataframe thead th {\n        text-align: right;\n    }\n</style>\n<table border=\"1\" class=\"dataframe\">\n  <thead>\n    <tr style=\"text-align: right;\">\n      <th></th>\n      <th>video_name</th>\n      <th>diapo</th>\n      <th>frameTimeWindow</th>\n      <th>video_diapo_stress_prediction</th>\n    </tr>\n  </thead>\n  <tbody>\n    <tr>\n      <th>0</th>\n      <td>Test_pour_AFPA</td>\n      <td>9</td>\n      <td>220</td>\n      <td>0</td>\n    </tr>\n    <tr>\n      <th>1</th>\n      <td>Test_pour_AFPA</td>\n      <td>9</td>\n      <td>225</td>\n      <td>0</td>\n    </tr>\n    <tr>\n      <th>2</th>\n      <td>Test_pour_AFPA</td>\n      <td>9</td>\n      <td>230</td>\n      <td>0</td>\n    </tr>\n    <tr>\n      <th>3</th>\n      <td>Test_pour_AFPA</td>\n      <td>9</td>\n      <td>235</td>\n      <td>0</td>\n    </tr>\n    <tr>\n      <th>4</th>\n      <td>Test_pour_AFPA</td>\n      <td>9</td>\n      <td>240</td>\n      <td>0</td>\n    </tr>\n    <tr>\n      <th>...</th>\n      <td>...</td>\n      <td>...</td>\n      <td>...</td>\n      <td>...</td>\n    </tr>\n    <tr>\n      <th>5136</th>\n      <td>WIN_20210417_14_53_12_Pro</td>\n      <td>18</td>\n      <td>600</td>\n      <td>1</td>\n    </tr>\n    <tr>\n      <th>5137</th>\n      <td>WIN_20210417_14_53_12_Pro</td>\n      <td>18</td>\n      <td>605</td>\n      <td>1</td>\n    </tr>\n    <tr>\n      <th>5138</th>\n      <td>WIN_20210417_14_53_12_Pro</td>\n      <td>18</td>\n      <td>610</td>\n      <td>1</td>\n    </tr>\n    <tr>\n      <th>5139</th>\n      <td>WIN_20210417_14_53_12_Pro</td>\n      <td>18</td>\n      <td>615</td>\n      <td>1</td>\n    </tr>\n    <tr>\n      <th>5140</th>\n      <td>WIN_20210417_14_53_12_Pro</td>\n      <td>18</td>\n      <td>620</td>\n      <td>1</td>\n    </tr>\n  </tbody>\n</table>\n<p>5141 rows × 4 columns</p>\n</div>"
     },
     "metadata": {},
     "execution_count": 106
    }
   ],
   "source": [
    "df_video_best_5s_prediction = pd.read_csv('video_best_5sec.csv')\n",
    "df_video_best_5s_prediction = df_video_best_5s_prediction.iloc[:,1:]\n",
    "df_video_best_5s_prediction['ypredict'] = df_video_best_5s_prediction['ypredict'].astype(int)\n",
    "df_video_best_5s_prediction['frameTimeWindow'] = df_video_best_5s_prediction['frameTimeWindow'] * 5\n",
    "df_video_best_5s_prediction.columns = ['video_name', 'diapo','frameTimeWindow', 'video_diapo_stress_prediction']\n",
    "df_video_best_5s_prediction"
   ]
  },
  {
   "cell_type": "code",
   "execution_count": 107,
   "metadata": {},
   "outputs": [
    {
     "output_type": "execute_result",
     "data": {
      "text/plain": [
       "                     video_name  diapo  frameTimeWindow  \\\n",
       "0                Test_pour_AFPA      1                0   \n",
       "1                Test_pour_AFPA      1                5   \n",
       "2                Test_pour_AFPA      1               10   \n",
       "3                Test_pour_AFPA      1               15   \n",
       "4                Test_pour_AFPA      1               20   \n",
       "...                         ...    ...              ...   \n",
       "5322  WIN_20210417_14_53_12_Pro     18              600   \n",
       "5323  WIN_20210417_14_53_12_Pro     18              605   \n",
       "5324  WIN_20210417_14_53_12_Pro     18              610   \n",
       "5325  WIN_20210417_14_53_12_Pro     18              615   \n",
       "5326  WIN_20210417_14_53_12_Pro     18              620   \n",
       "\n",
       "      audio_diapo_stress_prediction  \n",
       "0                                 1  \n",
       "1                                 1  \n",
       "2                                 1  \n",
       "3                                 1  \n",
       "4                                 1  \n",
       "...                             ...  \n",
       "5322                              1  \n",
       "5323                              1  \n",
       "5324                              1  \n",
       "5325                              1  \n",
       "5326                              1  \n",
       "\n",
       "[5327 rows x 4 columns]"
      ],
      "text/html": "<div>\n<style scoped>\n    .dataframe tbody tr th:only-of-type {\n        vertical-align: middle;\n    }\n\n    .dataframe tbody tr th {\n        vertical-align: top;\n    }\n\n    .dataframe thead th {\n        text-align: right;\n    }\n</style>\n<table border=\"1\" class=\"dataframe\">\n  <thead>\n    <tr style=\"text-align: right;\">\n      <th></th>\n      <th>video_name</th>\n      <th>diapo</th>\n      <th>frameTimeWindow</th>\n      <th>audio_diapo_stress_prediction</th>\n    </tr>\n  </thead>\n  <tbody>\n    <tr>\n      <th>0</th>\n      <td>Test_pour_AFPA</td>\n      <td>1</td>\n      <td>0</td>\n      <td>1</td>\n    </tr>\n    <tr>\n      <th>1</th>\n      <td>Test_pour_AFPA</td>\n      <td>1</td>\n      <td>5</td>\n      <td>1</td>\n    </tr>\n    <tr>\n      <th>2</th>\n      <td>Test_pour_AFPA</td>\n      <td>1</td>\n      <td>10</td>\n      <td>1</td>\n    </tr>\n    <tr>\n      <th>3</th>\n      <td>Test_pour_AFPA</td>\n      <td>1</td>\n      <td>15</td>\n      <td>1</td>\n    </tr>\n    <tr>\n      <th>4</th>\n      <td>Test_pour_AFPA</td>\n      <td>1</td>\n      <td>20</td>\n      <td>1</td>\n    </tr>\n    <tr>\n      <th>...</th>\n      <td>...</td>\n      <td>...</td>\n      <td>...</td>\n      <td>...</td>\n    </tr>\n    <tr>\n      <th>5322</th>\n      <td>WIN_20210417_14_53_12_Pro</td>\n      <td>18</td>\n      <td>600</td>\n      <td>1</td>\n    </tr>\n    <tr>\n      <th>5323</th>\n      <td>WIN_20210417_14_53_12_Pro</td>\n      <td>18</td>\n      <td>605</td>\n      <td>1</td>\n    </tr>\n    <tr>\n      <th>5324</th>\n      <td>WIN_20210417_14_53_12_Pro</td>\n      <td>18</td>\n      <td>610</td>\n      <td>1</td>\n    </tr>\n    <tr>\n      <th>5325</th>\n      <td>WIN_20210417_14_53_12_Pro</td>\n      <td>18</td>\n      <td>615</td>\n      <td>1</td>\n    </tr>\n    <tr>\n      <th>5326</th>\n      <td>WIN_20210417_14_53_12_Pro</td>\n      <td>18</td>\n      <td>620</td>\n      <td>1</td>\n    </tr>\n  </tbody>\n</table>\n<p>5327 rows × 4 columns</p>\n</div>"
     },
     "metadata": {},
     "execution_count": 107
    }
   ],
   "source": [
    "df_audio_best_5s_prediction = pd.read_csv('audio_best_5sec.csv')\n",
    "df_audio_best_5s_prediction = df_audio_best_5s_prediction.iloc[:,1:]\n",
    "df_audio_best_5s_prediction['ypredict'] = df_audio_best_5s_prediction['ypredict'].astype(int)\n",
    "df_audio_best_5s_prediction.columns = ['video_name', 'diapo','frameTimeWindow','audio_diapo_stress_prediction']\n",
    "df_audio_best_5s_prediction"
   ]
  },
  {
   "cell_type": "code",
   "execution_count": 108,
   "metadata": {},
   "outputs": [
    {
     "output_type": "execute_result",
     "data": {
      "text/plain": [
       "                     video_name  diapo  frameTimeWindow  \\\n",
       "0                Test_pour_AFPA      9              220   \n",
       "1                Test_pour_AFPA      9              225   \n",
       "2                Test_pour_AFPA      9              230   \n",
       "3                Test_pour_AFPA      9              235   \n",
       "4                Test_pour_AFPA      9              240   \n",
       "...                         ...    ...              ...   \n",
       "5136  WIN_20210417_14_53_12_Pro     18              600   \n",
       "5137  WIN_20210417_14_53_12_Pro     18              605   \n",
       "5138  WIN_20210417_14_53_12_Pro     18              610   \n",
       "5139  WIN_20210417_14_53_12_Pro     18              615   \n",
       "5140  WIN_20210417_14_53_12_Pro     18              620   \n",
       "\n",
       "      video_diapo_stress_prediction  audio_diapo_stress_prediction  \n",
       "0                                 0                              1  \n",
       "1                                 0                              1  \n",
       "2                                 0                              1  \n",
       "3                                 0                              1  \n",
       "4                                 0                              0  \n",
       "...                             ...                            ...  \n",
       "5136                              1                              1  \n",
       "5137                              1                              1  \n",
       "5138                              1                              1  \n",
       "5139                              1                              1  \n",
       "5140                              1                              1  \n",
       "\n",
       "[5141 rows x 5 columns]"
      ],
      "text/html": "<div>\n<style scoped>\n    .dataframe tbody tr th:only-of-type {\n        vertical-align: middle;\n    }\n\n    .dataframe tbody tr th {\n        vertical-align: top;\n    }\n\n    .dataframe thead th {\n        text-align: right;\n    }\n</style>\n<table border=\"1\" class=\"dataframe\">\n  <thead>\n    <tr style=\"text-align: right;\">\n      <th></th>\n      <th>video_name</th>\n      <th>diapo</th>\n      <th>frameTimeWindow</th>\n      <th>video_diapo_stress_prediction</th>\n      <th>audio_diapo_stress_prediction</th>\n    </tr>\n  </thead>\n  <tbody>\n    <tr>\n      <th>0</th>\n      <td>Test_pour_AFPA</td>\n      <td>9</td>\n      <td>220</td>\n      <td>0</td>\n      <td>1</td>\n    </tr>\n    <tr>\n      <th>1</th>\n      <td>Test_pour_AFPA</td>\n      <td>9</td>\n      <td>225</td>\n      <td>0</td>\n      <td>1</td>\n    </tr>\n    <tr>\n      <th>2</th>\n      <td>Test_pour_AFPA</td>\n      <td>9</td>\n      <td>230</td>\n      <td>0</td>\n      <td>1</td>\n    </tr>\n    <tr>\n      <th>3</th>\n      <td>Test_pour_AFPA</td>\n      <td>9</td>\n      <td>235</td>\n      <td>0</td>\n      <td>1</td>\n    </tr>\n    <tr>\n      <th>4</th>\n      <td>Test_pour_AFPA</td>\n      <td>9</td>\n      <td>240</td>\n      <td>0</td>\n      <td>0</td>\n    </tr>\n    <tr>\n      <th>...</th>\n      <td>...</td>\n      <td>...</td>\n      <td>...</td>\n      <td>...</td>\n      <td>...</td>\n    </tr>\n    <tr>\n      <th>5136</th>\n      <td>WIN_20210417_14_53_12_Pro</td>\n      <td>18</td>\n      <td>600</td>\n      <td>1</td>\n      <td>1</td>\n    </tr>\n    <tr>\n      <th>5137</th>\n      <td>WIN_20210417_14_53_12_Pro</td>\n      <td>18</td>\n      <td>605</td>\n      <td>1</td>\n      <td>1</td>\n    </tr>\n    <tr>\n      <th>5138</th>\n      <td>WIN_20210417_14_53_12_Pro</td>\n      <td>18</td>\n      <td>610</td>\n      <td>1</td>\n      <td>1</td>\n    </tr>\n    <tr>\n      <th>5139</th>\n      <td>WIN_20210417_14_53_12_Pro</td>\n      <td>18</td>\n      <td>615</td>\n      <td>1</td>\n      <td>1</td>\n    </tr>\n    <tr>\n      <th>5140</th>\n      <td>WIN_20210417_14_53_12_Pro</td>\n      <td>18</td>\n      <td>620</td>\n      <td>1</td>\n      <td>1</td>\n    </tr>\n  </tbody>\n</table>\n<p>5141 rows × 5 columns</p>\n</div>"
     },
     "metadata": {},
     "execution_count": 108
    }
   ],
   "source": [
    "df_5s = df_video_best_5s_prediction.merge(df_audio_best_5s_prediction, how='inner', on=['video_name','diapo','frameTimeWindow'])\n",
    "df_5s"
   ]
  },
  {
   "cell_type": "code",
   "execution_count": 109,
   "metadata": {},
   "outputs": [],
   "source": [
    "from scipy.stats import kurtosis, skew\n",
    "\n",
    "def percentil25(x): \n",
    "    return np.percentile(x, q=25)\n",
    "\n",
    "def percentil75(x): \n",
    "    return np.percentile(x, q=75)"
   ]
  },
  {
   "cell_type": "code",
   "execution_count": 110,
   "metadata": {},
   "outputs": [],
   "source": [
    "df_5s = df_5s.groupby(['video_name']).agg({\n",
    "    'audio_diapo_stress_prediction': ['mean','min','max', 'median', 'std', percentil25, percentil75, kurtosis, skew],\n",
    "    'video_diapo_stress_prediction': ['mean','min','max', 'median', 'std', percentil25, percentil75, kurtosis, skew]})"
   ]
  },
  {
   "cell_type": "code",
   "execution_count": 111,
   "metadata": {},
   "outputs": [],
   "source": [
    "df_5s = df_5s.merge(df_annotations_stress_global, on=['video_name'])\n",
    "X = df_5s.iloc[:,:-1]\n",
    "y = df_5s.iloc[:,-1]"
   ]
  },
  {
   "cell_type": "code",
   "execution_count": 112,
   "metadata": {},
   "outputs": [
    {
     "output_type": "execute_result",
     "data": {
      "text/plain": [
       "                       0.625731   \n",
       "WIN_20210406_21_05_52_Pro                                     1.059459   \n",
       "WIN_20210407_09_04_05_Pro                                     0.047120   \n",
       "WIN_20210407_14_54_56_Pro_edit2                               0.509434   \n",
       "WIN_20210408_11_48_58_Pro                                     0.817778   \n",
       "WIN_20210408_14_00_44_Pro                                     0.589888   \n",
       "WIN_20210408_14_02_19_Pro                                     0.964706   \n",
       "WIN_20210408_14_11_32_Pro                                     0.384615   \n",
       "WIN_20210408_15_20_51_Pro                                     1.313725   \n",
       "WIN_20210408_16_04_32_Pro                                     0.817647   \n",
       "WIN_20210409_10_26_11_Pro                                     0.768786   \n",
       "WIN_20210413_15_38_01_Pro                                     0.722543   \n",
       "WIN_20210414_06_24_52_Pro                                     0.844560   \n",
       "WIN_20210415_15_41_24_Pro                                     0.649770   \n",
       "WIN_20210416_08_06_54_Pro                                     0.932515   \n",
       "WIN_20210417_14_53_12_Pro                                     0.305344   \n",
       "\n",
       "                                 (video_diapo_stress_prediction, min)  \\\n",
       "video_name                                                              \n",
       "Test_pour_AFPA                                                      0   \n",
       "Video_1                                                             0   \n",
       "WIN_20210323_19_17_40_Pro                                           0   \n",
       "WIN_20210329_10_16_02_Pro                                           0   \n",
       "WIN_20210330_13_10_29_Pro                                           0   \n",
       "WIN_20210331_21_22_52_Pro                                           0   \n",
       "WIN_20210402_19_04_53_Pro                                           0   \n",
       "WIN_20210403_18_49_15_Pro                                           0   \n",
       "WIN_20210404_10_58_27_Pro                                           0   \n",
       "WIN_20210404_21_41_12_Pro                                           0   \n",
       "WIN_20210405_15_09_16_Pro                                           0   \n",
       "WIN_20210406_15_06_15_Pro                                           0   \n",
       "WIN_20210406_18_35_52_Pro                                           0   \n",
       "WIN_20210406_18_49_10_Pro                                           0   \n",
       "WIN_20210406_21_05_52_Pro                                           0   \n",
       "WIN_20210407_09_04_05_Pro                                           0   \n",
       "WIN_20210407_14_54_56_Pro_edit2                                     0   \n",
       "WIN_20210408_11_48_58_Pro                                           0   \n",
       "WIN_20210408_14_00_44_Pro                                           0   \n",
       "WIN_20210408_14_02_19_Pro                                           0   \n",
       "WIN_20210408_14_11_32_Pro                                           0   \n",
       "WIN_20210408_15_20_51_Pro                                           0   \n",
       "WIN_20210408_16_04_32_Pro                                           0   \n",
       "WIN_20210409_10_26_11_Pro                                           0   \n",
       "WIN_20210413_15_38_01_Pro                                           0   \n",
       "WIN_20210414_06_24_52_Pro                                           0   \n",
       "WIN_20210415_15_41_24_Pro                                           0   \n",
       "WIN_20210416_08_06_54_Pro                                           0   \n",
       "WIN_20210417_14_53_12_Pro                                           0   \n",
       "\n",
       "                                 (video_diapo_stress_prediction, max)  \\\n",
       "video_name                                                              \n",
       "Test_pour_AFPA                                                      2   \n",
       "Video_1                                                             1   \n",
       "WIN_20210323_19_17_40_Pro                                           1   \n",
       "WIN_20210329_10_16_02_Pro                                           1   \n",
       "WIN_20210330_13_10_29_Pro                                           2   \n",
       "WIN_20210331_21_22_52_Pro                                           2   \n",
       "WIN_20210402_19_04_53_Pro                                           2   \n",
       "WIN_20210403_18_49_15_Pro                                           2   \n",
       "WIN_20210404_10_58_27_Pro                                           1   \n",
       "WIN_20210404_21_41_12_Pro                                           1   \n",
       "WIN_20210405_15_09_16_Pro                                           1   \n",
       "WIN_20210406_15_06_15_Pro                                           1   \n",
       "WIN_20210406_18_35_52_Pro                                           1   \n",
       "WIN_20210406_18_49_10_Pro                                           2   \n",
       "WIN_20210406_21_05_52_Pro                                           2   \n",
       "WIN_20210407_09_04_05_Pro                                           2   \n",
       "WIN_20210407_14_54_56_Pro_edit2                                     1   \n",
       "WIN_20210408_11_48_58_Pro                                           2   \n",
       "WIN_20210408_14_00_44_Pro                                           1   \n",
       "WIN_20210408_14_02_19_Pro                                           1   \n",
       "WIN_20210408_14_11_32_Pro                                           1   \n",
       "WIN_20210408_15_20_51_Pro                                           2   \n",
       "WIN_20210408_16_04_32_Pro                                           2   \n",
       "WIN_20210409_10_26_11_Pro                                           1   \n",
       "WIN_20210413_15_38_01_Pro                                           1   \n",
       "WIN_20210414_06_24_52_Pro                                           2   \n",
       "WIN_20210415_15_41_24_Pro                                           1   \n",
       "WIN_20210416_08_06_54_Pro                                           2   \n",
       "WIN_20210417_14_53_12_Pro                                           1   \n",
       "\n",
       "                                 (video_diapo_stress_prediction, median)  \\\n",
       "video_name                                                                 \n",
       "Test_pour_AFPA                                                         1   \n",
       "Video_1                                                                0   \n",
       "WIN_20210323_19_17_40_Pro                                              1   \n",
       "WIN_20210329_10_16_02_Pro                                              1   \n",
       "WIN_20210330_13_10_29_Pro                                              1   \n",
       "WIN_20210331_21_22_52_Pro                                              1   \n",
       "WIN_20210402_19_04_53_Pro                                              1   \n",
       "WIN_20210403_18_49_15_Pro                                              1   \n",
       "WIN_20210404_10_58_27_Pro                                              0   \n",
       "WIN_20210404_21_41_12_Pro                                              1   \n",
       "WIN_20210405_15_09_16_Pro                                              1   \n",
       "WIN_20210406_15_06_15_Pro                                              1   \n",
       "WIN_20210406_18_35_52_Pro                                              1   \n",
       "WIN_20210406_18_49_10_Pro                                              1   \n",
       "WIN_20210406_21_05_52_Pro                                              1   \n",
       "WIN_20210407_09_04_05_Pro                                              0   \n",
       "WIN_20210407_14_54_56_Pro_edit2                                        1   \n",
       "WIN_20210408_11_48_58_Pro                                              1   \n",
       "WIN_20210408_14_00_44_Pro                                              1   \n",
       "WIN_20210408_14_02_19_Pro                                              1   \n",
       "WIN_20210408_14_11_32_Pro                                              0   \n",
       "WIN_20210408_15_20_51_Pro                                              1   \n",
       "WIN_20210408_16_04_32_Pro                                              1   \n",
       "WIN_20210409_10_26_11_Pro                                              1   \n",
       "WIN_20210413_15_38_01_Pro                                              1   \n",
       "WIN_20210414_06_24_52_Pro                                              1   \n",
       "WIN_20210415_15_41_24_Pro                                              1   \n",
       "WIN_20210416_08_06_54_Pro                                              1   \n",
       "WIN_20210417_14_53_12_Pro                                              0   \n",
       "\n",
       "                                 (video_diapo_stress_prediction, std)  \\\n",
       "video_name                                                              \n",
       "Test_pour_AFPA                                               0.483779   \n",
       "Video_1                                                      0.498474   \n",
       "WIN_20210323_19_17_40_Pro                                    0.237310   \n",
       "WIN_20210329_10_16_02_Pro                                    0.294547   \n",
       "WIN_20210330_13_10_29_Pro                                    0.503936   \n",
       "WIN_20210331_21_22_52_Pro                                    0.435782   \n",
       "WIN_20210402_19_04_53_Pro                                    0.554901   \n",
       "WIN_20210403_18_49_15_Pro                                    0.419081   \n",
       "WIN_20210404_10_58_27_Pro                                    0.496318   \n",
       "WIN_20210404_21_41_12_Pro                                    0.499888   \n",
       "WIN_20210405_15_09_16_Pro                                    0.415151   \n",
       "WIN_20210406_15_06_15_Pro                                    0.444155   \n",
       "WIN_20210406_18_35_52_Pro                                    0.366115   \n",
       "WIN_20210406_18_49_10_Pro                                    0.497327   \n",
       "WIN_20210406_21_05_52_Pro                                    0.279226   \n",
       "WIN_20210407_09_04_05_Pro                                    0.257272   \n",
       "WIN_20210407_14_54_56_Pro_edit2                              0.501490   \n",
       "WIN_20210408_11_48_58_Pro                                    0.479625   \n",
       "WIN_20210408_14_00_44_Pro                                    0.493241   \n",
       "WIN_20210408_14_02_19_Pro                                    0.185067   \n",
       "WIN_20210408_14_11_32_Pro                                    0.488071   \n",
       "WIN_20210408_15_20_51_Pro                                    0.722344   \n",
       "WIN_20210408_16_04_32_Pro                                    0.457334   \n",
       "WIN_20210409_10_26_11_Pro                                    0.422833   \n",
       "WIN_20210413_15_38_01_Pro                                    0.449043   \n",
       "WIN_20210414_06_24_52_Pro                                    0.416688   \n",
       "WIN_20210415_15_41_24_Pro                                    0.478145   \n",
       "WIN_20210416_08_06_54_Pro                                    0.432176   \n",
       "WIN_20210417_14_53_12_Pro                                    0.462321   \n",
       "\n",
       "                                 (video_diapo_stress_prediction, percentil25)  \\\n",
       "video_name                                                                      \n",
       "Test_pour_AFPA                                                              0   \n",
       "Video_1                                                                     0   \n",
       "WIN_20210323_19_17_40_Pro                                                   1   \n",
       "WIN_20210329_10_16_02_Pro                                                   1   \n",
       "WIN_20210330_13_10_29_Pro                                                   0   \n",
       "WIN_20210331_21_22_52_Pro                                                   1   \n",
       "WIN_20210402_19_04_53_Pro                                                   0   \n",
       "WIN_20210403_18_49_15_Pro                                                   1   \n",
       "WIN_20210404_10_58_27_Pro                                                   0   \n",
       "WIN_20210404_21_41_12_Pro                                                   0   \n",
       "WIN_20210405_15_09_16_Pro                                                   1   \n",
       "WIN_20210406_15_06_15_Pro                                                   0   \n",
       "WIN_20210406_18_35_52_Pro                                                   1   \n",
       "WIN_20210406_18_49_10_Pro                                                   0   \n",
       "WIN_20210406_21_05_52_Pro                                                   1   \n",
       "WIN_20210407_09_04_05_Pro                                                   0   \n",
       "WIN_20210407_14_54_56_Pro_edit2                                             0   \n",
       "WIN_20210408_11_48_58_Pro                                                   1   \n",
       "WIN_20210408_14_00_44_Pro                                                   0   \n",
       "WIN_20210408_14_02_19_Pro                                                   1   \n",
       "WIN_20210408_14_11_32_Pro                                                   0   \n",
       "WIN_20210408_15_20_51_Pro                                                   1   \n",
       "WIN_20210408_16_04_32_Pro                                                   1   \n",
       "WIN_20210409_10_26_11_Pro                                                   1   \n",
       "WIN_20210413_15_38_01_Pro                                                   0   \n",
       "WIN_20210414_06_24_52_Pro                                                   1   \n",
       "WIN_20210415_15_41_24_Pro                                                   0   \n",
       "WIN_20210416_08_06_54_Pro                                                   1   \n",
       "WIN_20210417_14_53_12_Pro                                                   0   \n",
       "\n",
       "                                 (video_diapo_stress_prediction, percentil75)  \\\n",
       "video_name                                                                      \n",
       "Test_pour_AFPA                                                              1   \n",
       "Video_1                                                                     1   \n",
       "WIN_20210323_19_17_40_Pro                                                   1   \n",
       "WIN_20210329_10_16_02_Pro                                                   1   \n",
       "WIN_20210330_13_10_29_Pro                                                   1   \n",
       "WIN_20210331_21_22_52_Pro                                                   1   \n",
       "WIN_20210402_19_04_53_Pro                                                   1   \n",
       "WIN_20210403_18_49_15_Pro                                                   1   \n",
       "WIN_20210404_10_58_27_Pro                                                   1   \n",
       "WIN_20210404_21_41_12_Pro                                                   1   \n",
       "WIN_20210405_15_09_16_Pro                                                   1   \n",
       "WIN_20210406_15_06_15_Pro                                                   1   \n",
       "WIN_20210406_18_35_52_Pro                                                   1   \n",
       "WIN_20210406_18_49_10_Pro                                                   1   \n",
       "WIN_20210406_21_05_52_Pro                                                   1   \n",
       "WIN_20210407_09_04_05_Pro                                                   0   \n",
       "WIN_20210407_14_54_56_Pro_edit2                                             1   \n",
       "WIN_20210408_11_48_58_Pro                                                   1   \n",
       "WIN_20210408_14_00_44_Pro                                                   1   \n",
       "WIN_20210408_14_02_19_Pro                                                   1   \n",
       "WIN_20210408_14_11_32_Pro                                                   1   \n",
       "WIN_20210408_15_20_51_Pro                                                   2   \n",
       "WIN_20210408_16_04_32_Pro                                                   1   \n",
       "WIN_20210409_10_26_11_Pro                                                   1   \n",
       "WIN_20210413_15_38_01_Pro                                                   1   \n",
       "WIN_20210414_06_24_52_Pro                                                   1   \n",
       "WIN_20210415_15_41_24_Pro                                                   1   \n",
       "WIN_20210416_08_06_54_Pro                                                   1   \n",
       "WIN_20210417_14_53_12_Pro                                                   1   \n",
       "\n",
       "                                 (video_diapo_stress_prediction, kurtosis)  \\\n",
       "video_name                                                                   \n",
       "Test_pour_AFPA                                                   -1.307851   \n",
       "Video_1                                                          -1.948650   \n",
       "WIN_20210323_19_17_40_Pro                                        11.863291   \n",
       "WIN_20210329_10_16_02_Pro                                         5.605263   \n",
       "WIN_20210330_13_10_29_Pro                                        -1.142844   \n",
       "WIN_20210331_21_22_52_Pro                                         1.720146   \n",
       "WIN_20210402_19_04_53_Pro                                        -0.915190   \n",
       "WIN_20210403_18_49_15_Pro                                         0.589966   \n",
       "WIN_20210404_10_58_27_Pro                                        -1.920033   \n",
       "WIN_20210404_21_41_12_Pro                                        -1.980884   \n",
       "WIN_20210405_15_09_16_Pro                                        -0.160185   \n",
       "WIN_20210406_15_06_15_Pro                                        -0.906061   \n",
       "WIN_20210406_18_35_52_Pro                                         1.507970   \n",
       "WIN_20210406_18_49_10_Pro                                        -1.491908   \n",
       "WIN_20210406_21_05_52_Pro                                         8.411619   \n",
       "WIN_20210407_09_04_05_Pro                                        37.109970   \n",
       "WIN_20210407_14_54_56_Pro_edit2                                  -1.998575   \n",
       "WIN_20210408_11_48_58_Pro                                         0.400208   \n",
       "WIN_20210408_14_00_44_Pro                                        -1.866406   \n",
       "WIN_20210408_14_02_19_Pro                                        23.369919   \n",
       "WIN_20210408_14_11_32_Pro                                        -1.775000   \n",
       "WIN_20210408_15_20_51_Pro                                        -0.924140   \n",
       "WIN_20210408_16_04_32_Pro                                         0.538262   \n",
       "WIN_20210409_10_26_11_Pro                                        -0.374248   \n",
       "WIN_20210413_15_38_01_Pro                                        -1.011833   \n",
       "WIN_20210414_06_24_52_Pro                                         1.257896   \n",
       "WIN_20210415_15_41_24_Pro                                        -1.605730   \n",
       "WIN_20210416_08_06_54_Pro                                         2.139579   \n",
       "WIN_20210417_14_53_12_Pro                                        -1.285440   \n",
       "\n",
       "                                 (video_diapo_stress_prediction, skew)  \n",
       "video_name                                                              \n",
       "Test_pour_AFPA                                               -0.565240  \n",
       "Video_1                                                       0.226606  \n",
       "WIN_20210323_19_17_40_Pro                                    -3.723344  \n",
       "WIN_20210329_10_16_02_Pro                                    -2.757764  \n",
       "WIN_20210330_13_10_29_Pro                                    -0.338646  \n",
       "WIN_20210331_21_22_52_Pro                                     0.545262  \n",
       "WIN_20210402_19_04_53_Pro                                     0.381786  \n",
       "WIN_20210403_18_49_15_Pro                                    -1.134212  \n",
       "WIN_20210404_10_58_27_Pro                                     0.282785  \n",
       "WIN_20210404_21_41_12_Pro                                    -0.138260  \n",
       "WIN_20210405_15_09_16_Pro                                    -1.356398  \n",
       "WIN_20210406_15_06_15_Pro                                    -1.045916  \n",
       "WIN_20210406_18_35_52_Pro                                    -1.872958  \n",
       "WIN_20210406_18_49_10_Pro                                    -0.375286  \n",
       "WIN_20210406_21_05_52_Pro                                     2.103198  \n",
       "WIN_20210407_09_04_05_Pro                                     5.950587  \n",
       "WIN_20210407_14_54_56_Pro_edit2                              -0.037743  \n",
       "WIN_20210408_11_48_58_Pro                                    -0.465113  \n",
       "WIN_20210408_14_00_44_Pro                                    -0.365505  \n",
       "WIN_20210408_14_02_19_Pro                                    -5.036856  \n",
       "WIN_20210408_14_11_32_Pro                                     0.474342  \n",
       "WIN_20210408_15_20_51_Pro                                    -0.550154  \n",
       "WIN_20210408_16_04_32_Pro                                    -0.659659  \n",
       "WIN_20210409_10_26_11_Pro                                    -1.275050  \n",
       "WIN_20210413_15_38_01_Pro                                    -0.994066  \n",
       "WIN_20210414_06_24_52_Pro                                    -0.990941  \n",
       "WIN_20210415_15_41_24_Pro                                    -0.627909  \n",
       "WIN_20210416_08_06_54_Pro                                    -0.370048  \n",
       "WIN_20210417_14_53_12_Pro                                     0.845317  "
      ],
      "text/html": "<div>\n<style scoped>\n    .dataframe tbody tr th:only-of-type {\n        vertical-align: middle;\n    }\n\n    .dataframe tbody tr th {\n        vertical-align: top;\n    }\n\n    .dataframe thead th {\n        text-align: right;\n    }\n</style>\n<table border=\"1\" class=\"dataframe\">\n  <thead>\n    <tr style=\"text-align: right;\">\n      <th></th>\n      <th>(audio_diapo_stress_prediction, mean)</th>\n      <th>(audio_diapo_stress_prediction, min)</th>\n      <th>(audio_diapo_stress_prediction, max)</th>\n      <th>(audio_diapo_stress_prediction, median)</th>\n      <th>(audio_diapo_stress_prediction, std)</th>\n      <th>(audio_diapo_stress_prediction, percentil25)</th>\n      <th>(audio_diapo_stress_prediction, percentil75)</th>\n      <th>(audio_diapo_stress_prediction, kurtosis)</th>\n      <th>(audio_diapo_stress_prediction, skew)</th>\n      <th>(video_diapo_stress_prediction, mean)</th>\n      <th>(video_diapo_stress_prediction, min)</th>\n      <th>(video_diapo_stress_prediction, max)</th>\n      <th>(video_diapo_stress_prediction, median)</th>\n      <th>(video_diapo_stress_prediction, std)</th>\n      <th>(video_diapo_stress_prediction, percentil25)</th>\n      <th>(video_diapo_stress_prediction, percentil75)</th>\n      <th>(video_diapo_stress_prediction, kurtosis)</th>\n      <th>(video_diapo_stress_prediction, skew)</th>\n    </tr>\n    <tr>\n      <th>video_name</th>\n      <th></th>\n      <th></th>\n      <th></th>\n      <th></th>\n      <th></th>\n      <th></th>\n      <th></th>\n      <th></th>\n      <th></th>\n      <th></th>\n      <th></th>\n      <th></th>\n      <th></th>\n      <th></th>\n      <th></th>\n      <th></th>\n      <th></th>\n      <th></th>\n    </tr>\n  </thead>\n  <tbody>\n    <tr>\n      <th>Test_pour_AFPA</th>\n      <td>0.888889</td>\n      <td>0</td>\n      <td>1</td>\n      <td>1</td>\n      <td>0.315104</td>\n      <td>1</td>\n      <td>1</td>\n      <td>4.125000</td>\n      <td>-2.474874</td>\n      <td>0.666667</td>\n      <td>0</td>\n      <td>2</td>\n      <td>1</td>\n      <td>0.483779</td>\n      <td>0</td>\n      <td>1</td>\n      <td>-1.307851</td>\n      <td>-0.565240</td>\n    </tr>\n    <tr>\n      <th>Video_1</th>\n      <td>0.642384</td>\n      <td>0</td>\n      <td>1</td>\n      <td>1</td>\n      <td>0.480893</td>\n      <td>0</td>\n      <td>1</td>\n      <td>-1.647003</td>\n      <td>-0.594136</td>\n      <td>0.443709</td>\n      <td>0</td>\n      <td>1</td>\n      <td>0</td>\n      <td>0.498474</td>\n      <td>0</td>\n      <td>1</td>\n      <td>-1.948650</td>\n      <td>0.226606</td>\n    </tr>\n    <tr>\n      <th>WIN_20210323_19_17_40_Pro</th>\n      <td>0.958333</td>\n      <td>0</td>\n      <td>1</td>\n      <td>1</td>\n      <td>0.200424</td>\n      <td>1</td>\n      <td>1</td>\n      <td>19.043478</td>\n      <td>-4.587317</td>\n      <td>0.940476</td>\n      <td>0</td>\n      <td>1</td>\n      <td>1</td>\n      <td>0.237310</td>\n      <td>1</td>\n      <td>1</td>\n      <td>11.863291</td>\n      <td>-3.723344</td>\n    </tr>\n    <tr>\n      <th>WIN_20210329_10_16_02_Pro</th>\n      <td>1.000000</td>\n      <td>1</td>\n      <td>1</td>\n      <td>1</td>\n      <td>0.000000</td>\n      <td>1</td>\n      <td>1</td>\n      <td>-3.000000</td>\n      <td>0.000000</td>\n      <td>0.904762</td>\n      <td>0</td>\n      <td>1</td>\n      <td>1</td>\n      <td>0.294547</td>\n      <td>1</td>\n      <td>1</td>\n      <td>5.605263</td>\n      <td>-2.757764</td>\n    </tr>\n    <tr>\n      <th>WIN_20210330_13_10_29_Pro</th>\n      <td>0.476821</td>\n      <td>0</td>\n      <td>1</td>\n      <td>0</td>\n      <td>0.501125</td>\n      <td>0</td>\n      <td>1</td>\n      <td>-1.991385</td>\n      <td>0.092815</td>\n      <td>0.655629</td>\n      <td>0</td>\n      <td>2</td>\n      <td>1</td>\n      <td>0.503936</td>\n      <td>0</td>\n      <td>1</td>\n      <td>-1.142844</td>\n      <td>-0.338646</td>\n    </tr>\n    <tr>\n      <th>WIN_20210331_21_22_52_Pro</th>\n      <td>0.700000</td>\n      <td>0</td>\n      <td>1</td>\n      <td>1</td>\n      <td>0.459611</td>\n      <td>0</td>\n      <td>1</td>\n      <td>-1.238095</td>\n      <td>-0.872872</td>\n      <td>1.105882</td>\n      <td>0</td>\n      <td>2</td>\n      <td>1</td>\n      <td>0.435782</td>\n      <td>1</td>\n      <td>1</td>\n      <td>1.720146</td>\n      <td>0.545262</td>\n    </tr>\n    <tr>\n      <th>WIN_20210402_19_04_53_Pro</th>\n      <td>0.840000</td>\n      <td>0</td>\n      <td>1</td>\n      <td>1</td>\n      <td>0.367658</td>\n      <td>1</td>\n      <td>1</td>\n      <td>1.440476</td>\n      <td>-1.854852</td>\n      <td>0.531429</td>\n      <td>0</td>\n      <td>2</td>\n      <td>1</td>\n      <td>0.554901</td>\n      <td>0</td>\n      <td>1</td>\n      <td>-0.915190</td>\n      <td>0.381786</td>\n    </tr>\n    <tr>\n      <th>WIN_20210403_18_49_15_Pro</th>\n      <td>0.977901</td>\n      <td>0</td>\n      <td>1</td>\n      <td>1</td>\n      <td>0.147415</td>\n      <td>1</td>\n      <td>1</td>\n      <td>40.272599</td>\n      <td>-6.501738</td>\n      <td>0.812155</td>\n      <td>0</td>\n      <td>2</td>\n      <td>1</td>\n      <td>0.419081</td>\n      <td>1</td>\n      <td>1</td>\n      <td>0.589966</td>\n      <td>-1.134212</td>\n    </tr>\n    <tr>\n      <th>WIN_20210404_10_58_27_Pro</th>\n      <td>0.860000</td>\n      <td>0</td>\n      <td>1</td>\n      <td>1</td>\n      <td>0.347858</td>\n      <td>1</td>\n      <td>1</td>\n      <td>2.305648</td>\n      <td>-2.075006</td>\n      <td>0.430000</td>\n      <td>0</td>\n      <td>1</td>\n      <td>0</td>\n      <td>0.496318</td>\n      <td>0</td>\n      <td>1</td>\n      <td>-1.920033</td>\n      <td>0.282785</td>\n    </tr>\n    <tr>\n      <th>WIN_20210404_21_41_12_Pro</th>\n      <td>0.900862</td>\n      <td>0</td>\n      <td>1</td>\n      <td>1</td>\n      <td>0.299493</td>\n      <td>1</td>\n      <td>1</td>\n      <td>5.197004</td>\n      <td>-2.682723</td>\n      <td>0.534483</td>\n      <td>0</td>\n      <td>1</td>\n      <td>1</td>\n      <td>0.499888</td>\n      <td>0</td>\n      <td>1</td>\n      <td>-1.980884</td>\n      <td>-0.138260</td>\n    </tr>\n    <tr>\n      <th>WIN_20210405_15_09_16_Pro</th>\n      <td>0.729032</td>\n      <td>0</td>\n      <td>1</td>\n      <td>1</td>\n      <td>0.445900</td>\n      <td>0</td>\n      <td>1</td>\n      <td>-0.937842</td>\n      <td>-1.030610</td>\n      <td>0.780645</td>\n      <td>0</td>\n      <td>1</td>\n      <td>1</td>\n      <td>0.415151</td>\n      <td>1</td>\n      <td>1</td>\n      <td>-0.160185</td>\n      <td>-1.356398</td>\n    </tr>\n    <tr>\n      <th>WIN_20210406_15_06_15_Pro</th>\n      <td>1.000000</td>\n      <td>1</td>\n      <td>1</td>\n      <td>1</td>\n      <td>0.000000</td>\n      <td>1</td>\n      <td>1</td>\n      <td>-3.000000</td>\n      <td>0.000000</td>\n      <td>0.731707</td>\n      <td>0</td>\n      <td>1</td>\n      <td>1</td>\n      <td>0.444155</td>\n      <td>0</td>\n      <td>1</td>\n      <td>-0.906061</td>\n      <td>-1.045916</td>\n    </tr>\n    <tr>\n      <th>WIN_20210406_18_35_52_Pro</th>\n      <td>0.607595</td>\n      <td>0</td>\n      <td>1</td>\n      <td>1</td>\n      <td>0.489839</td>\n      <td>0</td>\n      <td>1</td>\n      <td>-1.805780</td>\n      <td>-0.440704</td>\n      <td>0.841772</td>\n      <td>0</td>\n      <td>1</td>\n      <td>1</td>\n      <td>0.366115</td>\n      <td>1</td>\n      <td>1</td>\n      <td>1.507970</td>\n      <td>-1.872958</td>\n    </tr>\n    <tr>\n      <th>WIN_20210406_18_49_10_Pro</th>\n      <td>0.807018</td>\n      <td>0</td>\n      <td>1</td>\n      <td>1</td>\n      <td>0.395798</td>\n      <td>1</td>\n      <td>1</td>\n      <td>0.420949</td>\n      <td>-1.555940</td>\n      <td>0.625731</td>\n      <td>0</td>\n      <td>2</td>\n      <td>1</td>\n      <td>0.497327</td>\n      <td>0</td>\n      <td>1</td>\n      <td>-1.491908</td>\n      <td>-0.375286</td>\n    </tr>\n    <tr>\n      <th>WIN_20210406_21_05_52_Pro</th>\n      <td>0.962162</td>\n      <td>0</td>\n      <td>1</td>\n      <td>1</td>\n      <td>0.191322</td>\n      <td>1</td>\n      <td>1</td>\n      <td>21.467897</td>\n      <td>-4.844368</td>\n      <td>1.059459</td>\n      <td>0</td>\n      <td>2</td>\n      <td>1</td>\n      <td>0.279226</td>\n      <td>1</td>\n      <td>1</td>\n      <td>8.411619</td>\n      <td>2.103198</td>\n    </tr>\n    <tr>\n      <th>WIN_20210407_09_04_05_Pro</th>\n      <td>0.486911</td>\n      <td>0</td>\n      <td>1</td>\n      <td>0</td>\n      <td>0.501142</td>\n      <td>0</td>\n      <td>1</td>\n      <td>-1.997257</td>\n      <td>0.052374</td>\n      <td>0.047120</td>\n      <td>0</td>\n      <td>2</td>\n      <td>0</td>\n      <td>0.257272</td>\n      <td>0</td>\n      <td>0</td>\n      <td>37.109970</td>\n      <td>5.950587</td>\n    </tr>\n    <tr>\n      <th>WIN_20210407_14_54_56_Pro_edit2</th>\n      <td>0.779874</td>\n      <td>0</td>\n      <td>1</td>\n      <td>1</td>\n      <td>0.415640</td>\n      <td>1</td>\n      <td>1</td>\n      <td>-0.174885</td>\n      <td>-1.350968</td>\n      <td>0.509434</td>\n      <td>0</td>\n      <td>1</td>\n      <td>1</td>\n      <td>0.501490</td>\n      <td>0</td>\n      <td>1</td>\n      <td>-1.998575</td>\n      <td>-0.037743</td>\n    </tr>\n    <tr>\n      <th>WIN_20210408_11_48_58_Pro</th>\n      <td>1.000000</td>\n      <td>1</td>\n      <td>1</td>\n      <td>1</td>\n      <td>0.000000</td>\n      <td>1</td>\n      <td>1</td>\n      <td>-3.000000</td>\n      <td>0.000000</td>\n      <td>0.817778</td>\n      <td>0</td>\n      <td>2</td>\n      <td>1</td>\n      <td>0.479625</td>\n      <td>1</td>\n      <td>1</td>\n      <td>0.400208</td>\n      <td>-0.465113</td>\n    </tr>\n    <tr>\n      <th>WIN_20210408_14_00_44_Pro</th>\n      <td>0.258427</td>\n      <td>0</td>\n      <td>1</td>\n      <td>0</td>\n      <td>0.439005</td>\n      <td>0</td>\n      <td>1</td>\n      <td>-0.781950</td>\n      <td>1.103653</td>\n      <td>0.589888</td>\n      <td>0</td>\n      <td>1</td>\n      <td>1</td>\n      <td>0.493241</td>\n      <td>0</td>\n      <td>1</td>\n      <td>-1.866406</td>\n      <td>-0.365505</td>\n    </tr>\n    <tr>\n      <th>WIN_20210408_14_02_19_Pro</th>\n      <td>0.858824</td>\n      <td>0</td>\n      <td>1</td>\n      <td>1</td>\n      <td>0.349232</td>\n      <td>1</td>\n      <td>1</td>\n      <td>2.247717</td>\n      <td>-2.060999</td>\n      <td>0.964706</td>\n      <td>0</td>\n      <td>1</td>\n      <td>1</td>\n      <td>0.185067</td>\n      <td>1</td>\n      <td>1</td>\n      <td>23.369919</td>\n      <td>-5.036856</td>\n    </tr>\n    <tr>\n      <th>WIN_20210408_14_11_32_Pro</th>\n      <td>0.993590</td>\n      <td>0</td>\n      <td>1</td>\n      <td>1</td>\n      <td>0.080064</td>\n      <td>1</td>\n      <td>1</td>\n      <td>151.006452</td>\n      <td>-12.369578</td>\n      <td>0.384615</td>\n      <td>0</td>\n      <td>1</td>\n      <td>0</td>\n      <td>0.488071</td>\n      <td>0</td>\n      <td>1</td>\n      <td>-1.775000</td>\n      <td>0.474342</td>\n    </tr>\n    <tr>\n      <th>WIN_20210408_15_20_51_Pro</th>\n      <td>0.102941</td>\n      <td>0</td>\n      <td>1</td>\n      <td>0</td>\n      <td>0.304630</td>\n      <td>0</td>\n      <td>0</td>\n      <td>4.829040</td>\n      <td>2.613243</td>\n      <td>1.313725</td>\n      <td>0</td>\n      <td>2</td>\n      <td>1</td>\n      <td>0.722344</td>\n      <td>1</td>\n      <td>2</td>\n      <td>-0.924140</td>\n      <td>-0.550154</td>\n    </tr>\n    <tr>\n      <th>WIN_20210408_16_04_32_Pro</th>\n      <td>0.452941</td>\n      <td>0</td>\n      <td>1</td>\n      <td>0</td>\n      <td>0.499251</td>\n      <td>0</td>\n      <td>1</td>\n      <td>-1.964251</td>\n      <td>0.189075</td>\n      <td>0.817647</td>\n      <td>0</td>\n      <td>2</td>\n      <td>1</td>\n      <td>0.457334</td>\n      <td>1</td>\n      <td>1</td>\n      <td>0.538262</td>\n      <td>-0.659659</td>\n    </tr>\n    <tr>\n      <th>WIN_20210409_10_26_11_Pro</th>\n      <td>0.670520</td>\n      <td>0</td>\n      <td>1</td>\n      <td>1</td>\n      <td>0.471389</td>\n      <td>0</td>\n      <td>1</td>\n      <td>-1.473533</td>\n      <td>-0.725580</td>\n      <td>0.768786</td>\n      <td>0</td>\n      <td>1</td>\n      <td>1</td>\n      <td>0.422833</td>\n      <td>1</td>\n      <td>1</td>\n      <td>-0.374248</td>\n      <td>-1.275050</td>\n    </tr>\n    <tr>\n      <th>WIN_20210413_15_38_01_Pro</th>\n      <td>0.676301</td>\n      <td>0</td>\n      <td>1</td>\n      <td>1</td>\n      <td>0.469245</td>\n      <td>0</td>\n      <td>1</td>\n      <td>-1.432082</td>\n      <td>-0.753603</td>\n      <td>0.722543</td>\n      <td>0</td>\n      <td>1</td>\n      <td>1</td>\n      <td>0.449043</td>\n      <td>0</td>\n      <td>1</td>\n      <td>-1.011833</td>\n      <td>-0.994066</td>\n    </tr>\n    <tr>\n      <th>WIN_20210414_06_24_52_Pro</th>\n      <td>1.000000</td>\n      <td>1</td>\n      <td>1</td>\n      <td>1</td>\n      <td>0.000000</td>\n      <td>1</td>\n      <td>1</td>\n      <td>-3.000000</td>\n      <td>0.000000</td>\n      <td>0.844560</td>\n      <td>0</td>\n      <td>2</td>\n      <td>1</td>\n      <td>0.416688</td>\n      <td>1</td>\n      <td>1</td>\n      <td>1.257896</td>\n      <td>-0.990941</td>\n    </tr>\n    <tr>\n      <th>WIN_20210415_15_41_24_Pro</th>\n      <td>0.861751</td>\n      <td>0</td>\n      <td>1</td>\n      <td>1</td>\n      <td>0.345959</td>\n      <td>1</td>\n      <td>1</td>\n      <td>2.393761</td>\n      <td>-2.096130</td>\n      <td>0.649770</td>\n      <td>0</td>\n      <td>1</td>\n      <td>1</td>\n      <td>0.478145</td>\n      <td>0</td>\n      <td>1</td>\n      <td>-1.605730</td>\n      <td>-0.627909</td>\n    </tr>\n    <tr>\n      <th>WIN_20210416_08_06_54_Pro</th>\n      <td>1.000000</td>\n      <td>1</td>\n      <td>1</td>\n      <td>1</td>\n      <td>0.000000</td>\n      <td>1</td>\n      <td>1</td>\n      <td>-3.000000</td>\n      <td>0.000000</td>\n      <td>0.932515</td>\n      <td>0</td>\n      <td>2</td>\n      <td>1</td>\n      <td>0.432176</td>\n      <td>1</td>\n      <td>1</td>\n      <td>2.139579</td>\n      <td>-0.370048</td>\n    </tr>\n    <tr>\n      <th>WIN_20210417_14_53_12_Pro</th>\n      <td>0.755725</td>\n      <td>0</td>\n      <td>1</td>\n      <td>1</td>\n      <td>0.431306</td>\n      <td>1</td>\n      <td>1</td>\n      <td>-0.583018</td>\n      <td>-1.190371</td>\n      <td>0.305344</td>\n      <td>0</td>\n      <td>1</td>\n      <td>0</td>\n      <td>0.462321</td>\n      <td>0</td>\n      <td>1</td>\n      <td>-1.285440</td>\n      <td>0.845317</td>\n    </tr>\n  </tbody>\n</table>\n</div>"
     },
     "metadata": {},
     "execution_count": 112
    }
   ],
   "source": [
    "X"
   ]
  },
  {
   "cell_type": "code",
   "execution_count": 113,
   "metadata": {},
   "outputs": [
    {
     "output_type": "execute_result",
     "data": {
      "text/plain": [
       "video_name\n",
       "Test_pour_AFPA                     1\n",
       "Video_1                            0\n",
       "WIN_20210323_19_17_40_Pro          1\n",
       "WIN_20210329_10_16_02_Pro          1\n",
       "WIN_20210330_13_10_29_Pro          0\n",
       "WIN_20210331_21_22_52_Pro          1\n",
       "WIN_20210402_19_04_53_Pro          2\n",
       "WIN_20210403_18_49_15_Pro          2\n",
       "WIN_20210404_10_58_27_Pro          1\n",
       "WIN_20210404_21_41_12_Pro          0\n",
       "WIN_20210405_15_09_16_Pro          1\n",
       "WIN_20210406_15_06_15_Pro          2\n",
       "WIN_20210406_18_35_52_Pro          0\n",
       "WIN_20210406_18_49_10_Pro          1\n",
       "WIN_20210406_21_05_52_Pro          2\n",
       "WIN_20210407_09_04_05_Pro          2\n",
       "WIN_20210407_14_54_56_Pro_edit2    0\n",
       "WIN_20210408_11_48_58_Pro          2\n",
       "WIN_20210408_14_00_44_Pro          0\n",
       "WIN_20210408_14_02_19_Pro          0\n",
       "WIN_20210408_14_11_32_Pro          2\n",
       "WIN_20210408_15_20_51_Pro          0\n",
       "WIN_20210408_16_04_32_Pro          0\n",
       "WIN_20210409_10_26_11_Pro          0\n",
       "WIN_20210413_15_38_01_Pro          1\n",
       "WIN_20210414_06_24_52_Pro          2\n",
       "WIN_20210415_15_41_24_Pro          0\n",
       "WIN_20210416_08_06_54_Pro          1\n",
       "WIN_20210417_14_53_12_Pro          0\n",
       "Name: stress_global, dtype: int64"
      ]
     },
     "metadata": {},
     "execution_count": 113
    }
   ],
   "source": [
    "y"
   ]
  },
  {
   "cell_type": "code",
   "execution_count": 114,
   "metadata": {},
   "outputs": [],
   "source": [
    "from sklearn.linear_model import LogisticRegression\n",
    "from sklearn.neighbors import KNeighborsClassifier\n",
    "from sklearn.ensemble import RandomForestClassifier\n",
    "from sklearn.model_selection import LeaveOneGroupOut\n",
    "from sklearn.decomposition import PCA\n",
    "from sklearn.pipeline import Pipeline\n",
    "\n",
    "pca = PCA()\n",
    "\n",
    "models_list = [\n",
    "                LogisticRegression(multi_class='multinomial', fit_intercept=True, random_state=42),\n",
    "                Pipeline(steps=[('pca', pca), ('logistic', LogisticRegression(multi_class='multinomial', fit_intercept=True))]),\n",
    "                KNeighborsClassifier(),\n",
    "                Pipeline(steps=[('pca', pca), ('knn', KNeighborsClassifier())]),\n",
    "                RandomForestClassifier(random_state = 42, n_jobs=-1)\n",
    "                ]\n",
    "\n",
    "parameters_list = [\n",
    "                    {'C': [0.01, 0.05, 0.1, 0.5, 1, 2, 3, 4 , 5, 10], 'class_weight' : [None, 'balanced']},\n",
    "                    {'pca__n_components': [1, 2, 3, 4],\n",
    "                        'logistic__C': [0.01, 0.05, 0.1, 0.5, 1, 2, 3, 4 , 5, 10], 'logistic__class_weight' : [None, 'balanced']},\n",
    "                    {'n_neighbors': [4, 5, 6, 7, 8, 9, 10, 11, 12,  15, 20], 'weights' : ['uniform', 'distance'], 'p': [1, 2]},\n",
    "                    {'pca__n_components': [1, 2, 3, 4],\n",
    "                        'knn__n_neighbors': [4, 5, 6, 7, 8, 9, 10, 11, 12,  15, 20], 'knn__weights' : ['uniform', 'distance'],                              'knn__p': [1, 2]},\n",
    "                    {'n_estimators': [50, 100, 150, 200], 'max_depth':[3, 4, 5, 6, 10, 15, 20], 'class_weight':[None,'balanced']}\n",
    "                    ]\n",
    "\n",
    "groups = X.reset_index()['video_name']\n",
    "loo = LeaveOneGroupOut()\n",
    "cv_loo = loo.split(X, y, groups)"
   ]
  },
  {
   "cell_type": "code",
   "execution_count": 115,
   "metadata": {},
   "outputs": [
    {
     "output_type": "stream",
     "name": "stdout",
     "text": [
      "Fitting 5 folds for each of 20 candidates, totalling 100 fits\n",
      "[Parallel(n_jobs=-1)]: Using backend LokyBackend with 8 concurrent workers.\n",
      "[Parallel(n_jobs=-1)]: Done  34 tasks      | elapsed:    2.1s\n",
      "[Parallel(n_jobs=-1)]: Done  85 out of 100 | elapsed:    2.7s remaining:    0.5s\n",
      "[Parallel(n_jobs=-1)]: Done 100 out of 100 | elapsed:    2.8s finished\n",
      "[Parallel(n_jobs=-1)]: Using backend LokyBackend with 8 concurrent workers.\n",
      "Best estimator LogisticRegression(C=2, multi_class='multinomial', random_state=42)\n",
      "Best results 0.4501587301587301\n",
      "Best params {'C': 2, 'class_weight': None}\n",
      "accuracy (mean, std) 0.48 0.18690461025168248\n",
      "f1 (mean, std) 0.4501587301587301 0.18120728356507085\n",
      "balanced accuracy (mean, std) 0.45555555555555555 0.16254154264808657\n",
      "precision (mean, std) 0.4927777777777777 0.22558292116423098\n",
      "recall (mean, std) 0.48 0.18690461025168248\n",
      "\n",
      "Fitting 5 folds for each of 80 candidates, totalling 400 fits\n",
      "[Parallel(n_jobs=-1)]: Done  56 tasks      | elapsed:    0.5s\n",
      "[Parallel(n_jobs=-1)]: Done 385 out of 400 | elapsed:    2.1s remaining:    0.1s\n",
      "[Parallel(n_jobs=-1)]: Done 400 out of 400 | elapsed:    2.1s finished\n",
      "[Parallel(n_jobs=-1)]: Using backend LokyBackend with 8 concurrent workers.\n",
      "Best estimator Pipeline(steps=[('pca', PCA(n_components=1)),\n",
      "                ('logistic',\n",
      "                 LogisticRegression(C=0.01, multi_class='multinomial'))])\n",
      "Best results 0.41261904761904755\n",
      "Best params {'logistic__C': 0.01, 'logistic__class_weight': None, 'pca__n_components': 1}\n",
      "accuracy (mean, std) 0.52 0.039999999999999994\n",
      "f1 (mean, std) 0.41261904761904755 0.023717281636472028\n",
      "balanced accuracy (mean, std) 0.4333333333333333 0.08164965809277261\n",
      "precision (mean, std) 0.4119999999999999 0.06958927120373272\n",
      "recall (mean, std) 0.52 0.039999999999999994\n",
      "\n",
      "Fitting 5 folds for each of 44 candidates, totalling 220 fits\n",
      "[Parallel(n_jobs=-1)]: Done  56 tasks      | elapsed:    0.2s\n",
      "[Parallel(n_jobs=-1)]: Done 220 out of 220 | elapsed:    0.6s finished\n",
      "[Parallel(n_jobs=-1)]: Using backend LokyBackend with 8 concurrent workers.\n",
      "Best estimator KNeighborsClassifier(n_neighbors=9, weights='distance')\n",
      "Best results 0.39904761904761904\n",
      "Best params {'n_neighbors': 9, 'p': 2, 'weights': 'distance'}\n",
      "accuracy (mean, std) 0.4533333333333333 0.23532483459630385\n",
      "f1 (mean, std) 0.39904761904761904 0.2266622204001243\n",
      "balanced accuracy (mean, std) 0.45555555555555555 0.2519063121945474\n",
      "precision (mean, std) 0.42055555555555557 0.2930764868775621\n",
      "recall (mean, std) 0.4533333333333333 0.23532483459630385\n",
      "\n",
      "Fitting 5 folds for each of 176 candidates, totalling 880 fits\n",
      "[Parallel(n_jobs=-1)]: Done  56 tasks      | elapsed:    0.3s\n",
      "[Parallel(n_jobs=-1)]: Done 880 out of 880 | elapsed:    2.3s finished\n",
      "[Parallel(n_jobs=-1)]: Using backend LokyBackend with 8 concurrent workers.\n",
      "Best estimator Pipeline(steps=[('pca', PCA(n_components=1)),\n",
      "                ('knn',\n",
      "                 KNeighborsClassifier(n_neighbors=4, p=1, weights='distance'))])\n",
      "Best results 0.4394444444444444\n",
      "Best params {'knn__n_neighbors': 4, 'knn__p': 1, 'knn__weights': 'distance', 'pca__n_components': 1}\n",
      "accuracy (mean, std) 0.48 0.1127435635019184\n",
      "f1 (mean, std) 0.4394444444444444 0.1276617830997105\n",
      "balanced accuracy (mean, std) 0.45555555555555555 0.12372809695177826\n",
      "precision (mean, std) 0.47777777777777775 0.20354876262319085\n",
      "recall (mean, std) 0.48 0.1127435635019184\n",
      "\n",
      "Fitting 5 folds for each of 56 candidates, totalling 280 fits\n",
      "[Parallel(n_jobs=-1)]: Done  34 tasks      | elapsed:    2.1s\n",
      "[Parallel(n_jobs=-1)]: Done 184 tasks      | elapsed:   10.9s\n",
      "[Parallel(n_jobs=-1)]: Done 280 out of 280 | elapsed:   16.6s finished\n",
      "Best estimator RandomForestClassifier(class_weight='balanced', max_depth=6, n_estimators=150,\n",
      "                       n_jobs=-1, random_state=42)\n",
      "Best results 0.4412698412698412\n",
      "Best params {'class_weight': 'balanced', 'max_depth': 6, 'n_estimators': 150}\n",
      "accuracy (mean, std) 0.5066666666666667 0.2264705033528404\n",
      "f1 (mean, std) 0.4412698412698412 0.23818411039772608\n",
      "balanced accuracy (mean, std) 0.5 0.21081851067789198\n",
      "precision (mean, std) 0.41722222222222227 0.2719408977183312\n",
      "recall (mean, std) 0.5066666666666667 0.2264705033528404\n",
      "\n",
      "f1_score (weighted) 0.48105781695618355\n",
      "accuracy 0.4827586206896552\n"
     ]
    }
   ],
   "source": [
    "best_result, y_predict, y_predict_proba, result_list = runGridSearchClassifiers(X, y, 5, models_list, parameters_list, \n",
    "                                                                output_predict=True, n_jobs=-1, verbose=True)"
   ]
  },
  {
   "cell_type": "code",
   "execution_count": 116,
   "metadata": {},
   "outputs": [
    {
     "output_type": "execute_result",
     "data": {
      "text/plain": [
       "{'best_estimator': LogisticRegression(C=2, multi_class='multinomial', random_state=42),\n",
       " 'best_score': 0.4501587301587301,\n",
       " 'best_params': {'C': 2, 'class_weight': None},\n",
       " 'mean_test_f1_score': 0.4501587301587301,\n",
       " 'std_test_f1_score': 0.18120728356507085,\n",
       " 'mean_test_accuracy_score': 0.48,\n",
       " 'std_test_accuracy_score': 0.18690461025168248,\n",
       " 'mean_test_balanced_accuracy_score': 0.45555555555555555,\n",
       " 'std_test_balanced_accuracy_score': 0.16254154264808657,\n",
       " 'mean_test_precision': 0.4927777777777777,\n",
       " 'std_test_precision': 0.22558292116423098,\n",
       " 'mean_test_recall': 0.48,\n",
       " 'std_test_recall': 0.18690461025168248}"
      ]
     },
     "metadata": {},
     "execution_count": 116
    }
   ],
   "source": [
    "best_result"
   ]
  },
  {
   "cell_type": "code",
   "execution_count": null,
   "metadata": {},
   "outputs": [],
   "source": []
  }
 ]
}