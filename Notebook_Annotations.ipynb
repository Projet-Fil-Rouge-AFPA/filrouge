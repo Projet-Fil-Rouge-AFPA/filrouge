{
 "metadata": {
  "language_info": {
   "codemirror_mode": {
    "name": "ipython",
    "version": 3
   },
   "file_extension": ".py",
   "mimetype": "text/x-python",
   "name": "python",
   "nbconvert_exporter": "python",
   "pygments_lexer": "ipython3",
   "version": "3.8.5"
  },
  "orig_nbformat": 2,
  "kernelspec": {
   "name": "python385jvsc74a57bd0148f6ed9de8dadedbbd96ef8a7e818f87aaafab3c59f5306aa9910b4f09c5b3f",
   "display_name": "Python 3.8.5 64-bit ('base': conda)"
  },
  "metadata": {
   "interpreter": {
    "hash": "148f6ed9de8dadedbbd96ef8a7e818f87aaafab3c59f5306aa9910b4f09c5b3f"
   }
  }
 },
 "nbformat": 4,
 "nbformat_minor": 2,
 "cells": [
  {
   "cell_type": "code",
   "execution_count": 25,
   "metadata": {},
   "outputs": [],
   "source": [
    "import numpy as np\n",
    "import pandas as pd \n",
    "import matplotlib.pyplot as plt \n",
    "import moviepy.editor as mp\n",
    "import pathlib\n",
    "import subprocess\n",
    "import time\n",
    "from annotations import add_video_annotations\n"
   ]
  },
  {
   "cell_type": "code",
   "execution_count": 106,
   "metadata": {},
   "outputs": [],
   "source": [
    "filename_annotations = 'https://docs.google.com/spreadsheets/d/1Rqu1sJiD-ogc4a6R491JTiaYacptOTqh6DKqhwTa8NA/gviz/tq?tqx=out:csv&sheet=Template'\n",
    "\n",
    "df_annotations = pd.read_csv(filename_annotations, header=None).drop([0, 1, 2])\n",
    "df_annotations = df_annotations.drop([2,3,4,19,20,21,22,23,24,25,26],axis=1)\n",
    "#df_annotations = df_annotations.drop([0,1,2,3,4,19,20,21,22,23,24,25,26],axis=1)\n",
    "df_annotations = df_annotations.dropna()\n",
    "df_annotations[[5,6,7,8,9,10,11,12,13,14,15,16,17,18]] = df_annotations[[5,6,7,8,9,10,11,12,13,14,15,16,17,18]].astype(int)"
   ]
  },
  {
   "cell_type": "code",
   "execution_count": 107,
   "metadata": {},
   "outputs": [
    {
     "output_type": "execute_result",
     "data": {
      "text/plain": [
       "           0                                1   5   6   7   8   9   10  11  \\\n",
       "3     Laurent                          Video_1   0   0   0   0   1   1   0   \n",
       "4   Valentina                          Video_1   0   0   0   0   1   0   1   \n",
       "5        Aude        WIN_20210323_19_17_40_Pro   1   0   1   1   1   1   1   \n",
       "6   Alexandre        WIN_20210323_19_17_40_Pro   0   0   1   1   0   1   1   \n",
       "7        Aude        WIN_20210329_10_16_02_Pro   0   0   1   1   0   1   1   \n",
       "8   Alexandre        WIN_20210329_10_16_02_Pro   0   0   1   0   0   1   1   \n",
       "11       Aude        WIN_20210331_21_22_52_Pro   0   0   0   1   1   0   0   \n",
       "12  Valentina        WIN_20210331_21_22_52_Pro   0   0   1   1   0   0   1   \n",
       "13       Aude        WIN_20210330_13_10_29_Pro   0   0   0   0   1   0   1   \n",
       "14    Vincent        WIN_20210330_13_10_29_Pro   0   0   0   0   1   0   0   \n",
       "15       Aude        WIN_20210402_14_27_50_Pro   1   1   1   2   1   1   1   \n",
       "16    Vincent        WIN_20210402_14_27_50_Pro   1   1   1   1   1   1   1   \n",
       "17       Aude        WIN_20210402_19_04_53_Pro   1   1   1   1   0   2   2   \n",
       "18  Alexandre        WIN_20210402_19_04_53_Pro   2   1   1   1   1   1   2   \n",
       "19       Aude        WIN_20210404_21_41_12_Pro   0   0   0   0   0   1   1   \n",
       "20  Valentina        WIN_20210404_21_41_12_Pro   0   0   1   0   0   0   1   \n",
       "21  Valentina        WIN_20210405_15_09_16_Pro   0   1   1   0   0   0   1   \n",
       "22  Alexandre        WIN_20210405_15_09_16_Pro   0   1   1   1   1   0   1   \n",
       "23    Laurent        WIN_20210406_18_35_52_Pro   0   0   0   0   0   1   1   \n",
       "24  Alexandre        WIN_20210406_18_35_52_Pro   0   0   1   0   0   1   0   \n",
       "25    Laurent        WIN_20210406_21_05_52_Pro   1   2   2   1   1   2   1   \n",
       "26    Vincent        WIN_20210406_21_05_52_Pro   1   1   2   1   2   1   1   \n",
       "27  Alexandre  WIN_20210407_14_54_56_Pro_edit2   0   0   0   0   0   1   0   \n",
       "28  Valentina  WIN_20210407_14_54_56_Pro_edit2   0   0   0   0   0   1   1   \n",
       "29    Vincent        WIN_20210408_11_48_58_Pro   0   0   0   1   0   0   0   \n",
       "30  Valentina        WIN_20210408_11_48_58_Pro   0   1   1   1   1   1   0   \n",
       "31  Valentina        WIN_20210408_14_11_32_Pro   0   2   2   2   2   1   1   \n",
       "32    Vincent        WIN_20210408_14_11_32_Pro   0   2   2   2   2   0   0   \n",
       "33    Laurent        WIN_20210408_14_00_44_Pro   0   0   0   0   0   0   0   \n",
       "34  Valentina        WIN_20210408_14_00_44_Pro   0   0   0   0   0   1   1   \n",
       "35  Alexandre        WIN_20210408_16_04_32_Pro   0   0   0   0   0   0   0   \n",
       "36  Valentina        WIN_20210408_16_04_32_Pro   0   0   1   0   0   0   0   \n",
       "37    Vincent        WIN_20210409_10_26_11_Pro   0   0   0   1   0   0   1   \n",
       "38    Laurent        WIN_20210409_10_26_11_Pro   1   1   0   0   0   0   1   \n",
       "39    Vincent        WIN_20210408_15_20_51_Pro   0   0   0   0   0   0   0   \n",
       "40    Laurent        WIN_20210408_15_20_51_Pro   0   0   0   0   0   0   1   \n",
       "41    Vincent                   Test_pour_AFPA   1   1   0   0   0   1   1   \n",
       "42    Laurent                   Test_pour_AFPA   0   0   0   0   0   1   0   \n",
       "43    Vincent        WIN_20210408_14_02_19_Pro   0   1   0   0   0   0   1   \n",
       "44    Laurent        WIN_20210408_14_02_19_Pro   0   0   0   0   0   0   1   \n",
       "45    Vincent        WIN_20210407_09_04_05_Pro   0   0   2   1   3   0   2   \n",
       "46  Alexandre        WIN_20210407_09_04_05_Pro   0   0   1   1   2   0   1   \n",
       "47  Valentina        WIN_20210413_15_38_01_Pro   1   0   0   0   0   1   1   \n",
       "48    Laurent        WIN_20210413_15_38_01_Pro   0   0   0   0   0   1   1   \n",
       "49    Laurent        WIN_20210414_06_24_52_Pro   1   2   2   2   1   0   0   \n",
       "50  Alexandre        WIN_20210414_06_24_52_Pro   2   2   1   2   2   1   1   \n",
       "51    Laurent        WIN_20210406_15_06_15_Pro   1   1   0   0   0   2   1   \n",
       "52  Valentina        WIN_20210406_15_06_15_Pro   1   1   1   1   1   2   1   \n",
       "53  Valentina        WIN_20210416_08_06_54_Pro   1   1   1   1   1   0   1   \n",
       "54    Laurent        WIN_20210416_08_06_54_Pro   1   2   1   1   1   0   1   \n",
       "55    Vincent        WIN_20210404_10_58_27_Pro   0   1   0   0   1   0   0   \n",
       "56  Alexandre        WIN_20210404_10_58_27_Pro   0   1   1   1   1   1   1   \n",
       "57    Laurent        WIN_20210415_15_41_24_Pro   0   0   0   1   0   0   0   \n",
       "58  Alexandre        WIN_20210415_15_41_24_Pro   1   0   0   0   0   0   0   \n",
       "59  Valentina        WIN_20210406_18_49_10_Pro   0   0   1   0   1   1   1   \n",
       "60  Alexandre        WIN_20210406_18_49_10_Pro   1   0   1   1   1   1   2   \n",
       "61    Laurent        WIN_20210417_14_53_12_Pro   0   0   0   0   0   0   1   \n",
       "62  Alexandre        WIN_20210417_14_53_12_Pro   0   0   0   0   0   0   1   \n",
       "63    Vincent        WIN_20210403_18_49_15_Pro   1   1   1   1   1   2   1   \n",
       "64    Laurent        WIN_20210403_18_49_15_Pro   0   1   1   1   1   2   2   \n",
       "\n",
       "    12  13  14  15  16  17  18  \n",
       "3    0   0   1   0   1   1   0  \n",
       "4    0   0   0   1   0   0   0  \n",
       "5    0   1   1   1   1   1   1  \n",
       "6    0   1   1   0   0   0   0  \n",
       "7    0   1   0   0   0   0   1  \n",
       "8    0   0   0   0   0   0   0  \n",
       "11   1   0   1   1   0   0   1  \n",
       "12   1   0   1   1   0   0   0  \n",
       "13   0   0   0   0   0   0   0  \n",
       "14   0   0   0   0   0   0   0  \n",
       "15   1   1   1   1   1   1   1  \n",
       "16   1   1   1   1   1   1   1  \n",
       "17   1   2   1   1   3   1   2  \n",
       "18   1   2   1   1   2   1   1  \n",
       "19   0   0   1   1   0   0   0  \n",
       "20   0   1   1   1   1   0   0  \n",
       "21   0   0   0   1   0   0   0  \n",
       "22   0   1   0   1   1   0   1  \n",
       "23   1   0   1   0   0   0   0  \n",
       "24   0   1   1   0   1   0   0  \n",
       "25   1   0   1   1   2   0   2  \n",
       "26   1   0   1   2   2   1   2  \n",
       "27   0   0   1   0   0   0   0  \n",
       "28   0   0   0   1   1   0   0  \n",
       "29   1   2   1   1   2   1   2  \n",
       "30   1   1   1   1   2   1   1  \n",
       "31   2   1   1   1   1   0   1  \n",
       "32   2   1   1   1   0   0   2  \n",
       "33   0   0   0   0   0   0   0  \n",
       "34   1   0   0   0   1   0   0  \n",
       "35   0   0   0   0   0   0   0  \n",
       "36   0   0   0   0   0   0   0  \n",
       "37   0   1   0   0   0   1   0  \n",
       "38   0   1   0   1   1   1   0  \n",
       "39   0   0   0   0   0   0   0  \n",
       "40   0   0   0   0   0   0   0  \n",
       "41   1   1   0   0   1   0   1  \n",
       "42   0   0   0   1   1   0   0  \n",
       "43   0   0   1   1   0   0   0  \n",
       "44   0   0   1   1   1   0   0  \n",
       "45   0   1   3   2   0   0   2  \n",
       "46   0   1   2   2   0   0   2  \n",
       "47   0   1   1   2   1   0   1  \n",
       "48   0   1   0   1   1   1   0  \n",
       "49   0   0   2   2   2   1   2  \n",
       "50   0   1   3   2   2   1   2  \n",
       "51   2   0   2   2   2   1   2  \n",
       "52   1   1   1   2   2   1   1  \n",
       "53   0   1   1   0   1   0   1  \n",
       "54   0   1   0   0   2   0   1  \n",
       "55   0   1   2   0   0   0   1  \n",
       "56   0   1   2   0   0   1   1  \n",
       "57   0   0   0   1   1   0   0  \n",
       "58   0   0   0   1   0   0   0  \n",
       "59   0   1   0   0   2   1   0  \n",
       "60   1   1   0   1   2   0   1  \n",
       "61   0   1   0   0   1   0   0  \n",
       "62   0   2   0   0   0   1   0  \n",
       "63   1   0   1   1   1   2   2  \n",
       "64   2   0   1   0   2   1   2  "
      ],
      "text/html": "<div>\n<style scoped>\n    .dataframe tbody tr th:only-of-type {\n        vertical-align: middle;\n    }\n\n    .dataframe tbody tr th {\n        vertical-align: top;\n    }\n\n    .dataframe thead th {\n        text-align: right;\n    }\n</style>\n<table border=\"1\" class=\"dataframe\">\n  <thead>\n    <tr style=\"text-align: right;\">\n      <th></th>\n      <th>0</th>\n      <th>1</th>\n      <th>5</th>\n      <th>6</th>\n      <th>7</th>\n      <th>8</th>\n      <th>9</th>\n      <th>10</th>\n      <th>11</th>\n      <th>12</th>\n      <th>13</th>\n      <th>14</th>\n      <th>15</th>\n      <th>16</th>\n      <th>17</th>\n      <th>18</th>\n    </tr>\n  </thead>\n  <tbody>\n    <tr>\n      <th>3</th>\n      <td>Laurent</td>\n      <td>Video_1</td>\n      <td>0</td>\n      <td>0</td>\n      <td>0</td>\n      <td>0</td>\n      <td>1</td>\n      <td>1</td>\n      <td>0</td>\n      <td>0</td>\n      <td>0</td>\n      <td>1</td>\n      <td>0</td>\n      <td>1</td>\n      <td>1</td>\n      <td>0</td>\n    </tr>\n    <tr>\n      <th>4</th>\n      <td>Valentina</td>\n      <td>Video_1</td>\n      <td>0</td>\n      <td>0</td>\n      <td>0</td>\n      <td>0</td>\n      <td>1</td>\n      <td>0</td>\n      <td>1</td>\n      <td>0</td>\n      <td>0</td>\n      <td>0</td>\n      <td>1</td>\n      <td>0</td>\n      <td>0</td>\n      <td>0</td>\n    </tr>\n    <tr>\n      <th>5</th>\n      <td>Aude</td>\n      <td>WIN_20210323_19_17_40_Pro</td>\n      <td>1</td>\n      <td>0</td>\n      <td>1</td>\n      <td>1</td>\n      <td>1</td>\n      <td>1</td>\n      <td>1</td>\n      <td>0</td>\n      <td>1</td>\n      <td>1</td>\n      <td>1</td>\n      <td>1</td>\n      <td>1</td>\n      <td>1</td>\n    </tr>\n    <tr>\n      <th>6</th>\n      <td>Alexandre</td>\n      <td>WIN_20210323_19_17_40_Pro</td>\n      <td>0</td>\n      <td>0</td>\n      <td>1</td>\n      <td>1</td>\n      <td>0</td>\n      <td>1</td>\n      <td>1</td>\n      <td>0</td>\n      <td>1</td>\n      <td>1</td>\n      <td>0</td>\n      <td>0</td>\n      <td>0</td>\n      <td>0</td>\n    </tr>\n    <tr>\n      <th>7</th>\n      <td>Aude</td>\n      <td>WIN_20210329_10_16_02_Pro</td>\n      <td>0</td>\n      <td>0</td>\n      <td>1</td>\n      <td>1</td>\n      <td>0</td>\n      <td>1</td>\n      <td>1</td>\n      <td>0</td>\n      <td>1</td>\n      <td>0</td>\n      <td>0</td>\n      <td>0</td>\n      <td>0</td>\n      <td>1</td>\n    </tr>\n    <tr>\n      <th>8</th>\n      <td>Alexandre</td>\n      <td>WIN_20210329_10_16_02_Pro</td>\n      <td>0</td>\n      <td>0</td>\n      <td>1</td>\n      <td>0</td>\n      <td>0</td>\n      <td>1</td>\n      <td>1</td>\n      <td>0</td>\n      <td>0</td>\n      <td>0</td>\n      <td>0</td>\n      <td>0</td>\n      <td>0</td>\n      <td>0</td>\n    </tr>\n    <tr>\n      <th>11</th>\n      <td>Aude</td>\n      <td>WIN_20210331_21_22_52_Pro</td>\n      <td>0</td>\n      <td>0</td>\n      <td>0</td>\n      <td>1</td>\n      <td>1</td>\n      <td>0</td>\n      <td>0</td>\n      <td>1</td>\n      <td>0</td>\n      <td>1</td>\n      <td>1</td>\n      <td>0</td>\n      <td>0</td>\n      <td>1</td>\n    </tr>\n    <tr>\n      <th>12</th>\n      <td>Valentina</td>\n      <td>WIN_20210331_21_22_52_Pro</td>\n      <td>0</td>\n      <td>0</td>\n      <td>1</td>\n      <td>1</td>\n      <td>0</td>\n      <td>0</td>\n      <td>1</td>\n      <td>1</td>\n      <td>0</td>\n      <td>1</td>\n      <td>1</td>\n      <td>0</td>\n      <td>0</td>\n      <td>0</td>\n    </tr>\n    <tr>\n      <th>13</th>\n      <td>Aude</td>\n      <td>WIN_20210330_13_10_29_Pro</td>\n      <td>0</td>\n      <td>0</td>\n      <td>0</td>\n      <td>0</td>\n      <td>1</td>\n      <td>0</td>\n      <td>1</td>\n      <td>0</td>\n      <td>0</td>\n      <td>0</td>\n      <td>0</td>\n      <td>0</td>\n      <td>0</td>\n      <td>0</td>\n    </tr>\n    <tr>\n      <th>14</th>\n      <td>Vincent</td>\n      <td>WIN_20210330_13_10_29_Pro</td>\n      <td>0</td>\n      <td>0</td>\n      <td>0</td>\n      <td>0</td>\n      <td>1</td>\n      <td>0</td>\n      <td>0</td>\n      <td>0</td>\n      <td>0</td>\n      <td>0</td>\n      <td>0</td>\n      <td>0</td>\n      <td>0</td>\n      <td>0</td>\n    </tr>\n    <tr>\n      <th>15</th>\n      <td>Aude</td>\n      <td>WIN_20210402_14_27_50_Pro</td>\n      <td>1</td>\n      <td>1</td>\n      <td>1</td>\n      <td>2</td>\n      <td>1</td>\n      <td>1</td>\n      <td>1</td>\n      <td>1</td>\n      <td>1</td>\n      <td>1</td>\n      <td>1</td>\n      <td>1</td>\n      <td>1</td>\n      <td>1</td>\n    </tr>\n    <tr>\n      <th>16</th>\n      <td>Vincent</td>\n      <td>WIN_20210402_14_27_50_Pro</td>\n      <td>1</td>\n      <td>1</td>\n      <td>1</td>\n      <td>1</td>\n      <td>1</td>\n      <td>1</td>\n      <td>1</td>\n      <td>1</td>\n      <td>1</td>\n      <td>1</td>\n      <td>1</td>\n      <td>1</td>\n      <td>1</td>\n      <td>1</td>\n    </tr>\n    <tr>\n      <th>17</th>\n      <td>Aude</td>\n      <td>WIN_20210402_19_04_53_Pro</td>\n      <td>1</td>\n      <td>1</td>\n      <td>1</td>\n      <td>1</td>\n      <td>0</td>\n      <td>2</td>\n      <td>2</td>\n      <td>1</td>\n      <td>2</td>\n      <td>1</td>\n      <td>1</td>\n      <td>3</td>\n      <td>1</td>\n      <td>2</td>\n    </tr>\n    <tr>\n      <th>18</th>\n      <td>Alexandre</td>\n      <td>WIN_20210402_19_04_53_Pro</td>\n      <td>2</td>\n      <td>1</td>\n      <td>1</td>\n      <td>1</td>\n      <td>1</td>\n      <td>1</td>\n      <td>2</td>\n      <td>1</td>\n      <td>2</td>\n      <td>1</td>\n      <td>1</td>\n      <td>2</td>\n      <td>1</td>\n      <td>1</td>\n    </tr>\n    <tr>\n      <th>19</th>\n      <td>Aude</td>\n      <td>WIN_20210404_21_41_12_Pro</td>\n      <td>0</td>\n      <td>0</td>\n      <td>0</td>\n      <td>0</td>\n      <td>0</td>\n      <td>1</td>\n      <td>1</td>\n      <td>0</td>\n      <td>0</td>\n      <td>1</td>\n      <td>1</td>\n      <td>0</td>\n      <td>0</td>\n      <td>0</td>\n    </tr>\n    <tr>\n      <th>20</th>\n      <td>Valentina</td>\n      <td>WIN_20210404_21_41_12_Pro</td>\n      <td>0</td>\n      <td>0</td>\n      <td>1</td>\n      <td>0</td>\n      <td>0</td>\n      <td>0</td>\n      <td>1</td>\n      <td>0</td>\n      <td>1</td>\n      <td>1</td>\n      <td>1</td>\n      <td>1</td>\n      <td>0</td>\n      <td>0</td>\n    </tr>\n    <tr>\n      <th>21</th>\n      <td>Valentina</td>\n      <td>WIN_20210405_15_09_16_Pro</td>\n      <td>0</td>\n      <td>1</td>\n      <td>1</td>\n      <td>0</td>\n      <td>0</td>\n      <td>0</td>\n      <td>1</td>\n      <td>0</td>\n      <td>0</td>\n      <td>0</td>\n      <td>1</td>\n      <td>0</td>\n      <td>0</td>\n      <td>0</td>\n    </tr>\n    <tr>\n      <th>22</th>\n      <td>Alexandre</td>\n      <td>WIN_20210405_15_09_16_Pro</td>\n      <td>0</td>\n      <td>1</td>\n      <td>1</td>\n      <td>1</td>\n      <td>1</td>\n      <td>0</td>\n      <td>1</td>\n      <td>0</td>\n      <td>1</td>\n      <td>0</td>\n      <td>1</td>\n      <td>1</td>\n      <td>0</td>\n      <td>1</td>\n    </tr>\n    <tr>\n      <th>23</th>\n      <td>Laurent</td>\n      <td>WIN_20210406_18_35_52_Pro</td>\n      <td>0</td>\n      <td>0</td>\n      <td>0</td>\n      <td>0</td>\n      <td>0</td>\n      <td>1</td>\n      <td>1</td>\n      <td>1</td>\n      <td>0</td>\n      <td>1</td>\n      <td>0</td>\n      <td>0</td>\n      <td>0</td>\n      <td>0</td>\n    </tr>\n    <tr>\n      <th>24</th>\n      <td>Alexandre</td>\n      <td>WIN_20210406_18_35_52_Pro</td>\n      <td>0</td>\n      <td>0</td>\n      <td>1</td>\n      <td>0</td>\n      <td>0</td>\n      <td>1</td>\n      <td>0</td>\n      <td>0</td>\n      <td>1</td>\n      <td>1</td>\n      <td>0</td>\n      <td>1</td>\n      <td>0</td>\n      <td>0</td>\n    </tr>\n    <tr>\n      <th>25</th>\n      <td>Laurent</td>\n      <td>WIN_20210406_21_05_52_Pro</td>\n      <td>1</td>\n      <td>2</td>\n      <td>2</td>\n      <td>1</td>\n      <td>1</td>\n      <td>2</td>\n      <td>1</td>\n      <td>1</td>\n      <td>0</td>\n      <td>1</td>\n      <td>1</td>\n      <td>2</td>\n      <td>0</td>\n      <td>2</td>\n    </tr>\n    <tr>\n      <th>26</th>\n      <td>Vincent</td>\n      <td>WIN_20210406_21_05_52_Pro</td>\n      <td>1</td>\n      <td>1</td>\n      <td>2</td>\n      <td>1</td>\n      <td>2</td>\n      <td>1</td>\n      <td>1</td>\n      <td>1</td>\n      <td>0</td>\n      <td>1</td>\n      <td>2</td>\n      <td>2</td>\n      <td>1</td>\n      <td>2</td>\n    </tr>\n    <tr>\n      <th>27</th>\n      <td>Alexandre</td>\n      <td>WIN_20210407_14_54_56_Pro_edit2</td>\n      <td>0</td>\n      <td>0</td>\n      <td>0</td>\n      <td>0</td>\n      <td>0</td>\n      <td>1</td>\n      <td>0</td>\n      <td>0</td>\n      <td>0</td>\n      <td>1</td>\n      <td>0</td>\n      <td>0</td>\n      <td>0</td>\n      <td>0</td>\n    </tr>\n    <tr>\n      <th>28</th>\n      <td>Valentina</td>\n      <td>WIN_20210407_14_54_56_Pro_edit2</td>\n      <td>0</td>\n      <td>0</td>\n      <td>0</td>\n      <td>0</td>\n      <td>0</td>\n      <td>1</td>\n      <td>1</td>\n      <td>0</td>\n      <td>0</td>\n      <td>0</td>\n      <td>1</td>\n      <td>1</td>\n      <td>0</td>\n      <td>0</td>\n    </tr>\n    <tr>\n      <th>29</th>\n      <td>Vincent</td>\n      <td>WIN_20210408_11_48_58_Pro</td>\n      <td>0</td>\n      <td>0</td>\n      <td>0</td>\n      <td>1</td>\n      <td>0</td>\n      <td>0</td>\n      <td>0</td>\n      <td>1</td>\n      <td>2</td>\n      <td>1</td>\n      <td>1</td>\n      <td>2</td>\n      <td>1</td>\n      <td>2</td>\n    </tr>\n    <tr>\n      <th>30</th>\n      <td>Valentina</td>\n      <td>WIN_20210408_11_48_58_Pro</td>\n      <td>0</td>\n      <td>1</td>\n      <td>1</td>\n      <td>1</td>\n      <td>1</td>\n      <td>1</td>\n      <td>0</td>\n      <td>1</td>\n      <td>1</td>\n      <td>1</td>\n      <td>1</td>\n      <td>2</td>\n      <td>1</td>\n      <td>1</td>\n    </tr>\n    <tr>\n      <th>31</th>\n      <td>Valentina</td>\n      <td>WIN_20210408_14_11_32_Pro</td>\n      <td>0</td>\n      <td>2</td>\n      <td>2</td>\n      <td>2</td>\n      <td>2</td>\n      <td>1</td>\n      <td>1</td>\n      <td>2</td>\n      <td>1</td>\n      <td>1</td>\n      <td>1</td>\n      <td>1</td>\n      <td>0</td>\n      <td>1</td>\n    </tr>\n    <tr>\n      <th>32</th>\n      <td>Vincent</td>\n      <td>WIN_20210408_14_11_32_Pro</td>\n      <td>0</td>\n      <td>2</td>\n      <td>2</td>\n      <td>2</td>\n      <td>2</td>\n      <td>0</td>\n      <td>0</td>\n      <td>2</td>\n      <td>1</td>\n      <td>1</td>\n      <td>1</td>\n      <td>0</td>\n      <td>0</td>\n      <td>2</td>\n    </tr>\n    <tr>\n      <th>33</th>\n      <td>Laurent</td>\n      <td>WIN_20210408_14_00_44_Pro</td>\n      <td>0</td>\n      <td>0</td>\n      <td>0</td>\n      <td>0</td>\n      <td>0</td>\n      <td>0</td>\n      <td>0</td>\n      <td>0</td>\n      <td>0</td>\n      <td>0</td>\n      <td>0</td>\n      <td>0</td>\n      <td>0</td>\n      <td>0</td>\n    </tr>\n    <tr>\n      <th>34</th>\n      <td>Valentina</td>\n      <td>WIN_20210408_14_00_44_Pro</td>\n      <td>0</td>\n      <td>0</td>\n      <td>0</td>\n      <td>0</td>\n      <td>0</td>\n      <td>1</td>\n      <td>1</td>\n      <td>1</td>\n      <td>0</td>\n      <td>0</td>\n      <td>0</td>\n      <td>1</td>\n      <td>0</td>\n      <td>0</td>\n    </tr>\n    <tr>\n      <th>35</th>\n      <td>Alexandre</td>\n      <td>WIN_20210408_16_04_32_Pro</td>\n      <td>0</td>\n      <td>0</td>\n      <td>0</td>\n      <td>0</td>\n      <td>0</td>\n      <td>0</td>\n      <td>0</td>\n      <td>0</td>\n      <td>0</td>\n      <td>0</td>\n      <td>0</td>\n      <td>0</td>\n      <td>0</td>\n      <td>0</td>\n    </tr>\n    <tr>\n      <th>36</th>\n      <td>Valentina</td>\n      <td>WIN_20210408_16_04_32_Pro</td>\n      <td>0</td>\n      <td>0</td>\n      <td>1</td>\n      <td>0</td>\n      <td>0</td>\n      <td>0</td>\n      <td>0</td>\n      <td>0</td>\n      <td>0</td>\n      <td>0</td>\n      <td>0</td>\n      <td>0</td>\n      <td>0</td>\n      <td>0</td>\n    </tr>\n    <tr>\n      <th>37</th>\n      <td>Vincent</td>\n      <td>WIN_20210409_10_26_11_Pro</td>\n      <td>0</td>\n      <td>0</td>\n      <td>0</td>\n      <td>1</td>\n      <td>0</td>\n      <td>0</td>\n      <td>1</td>\n      <td>0</td>\n      <td>1</td>\n      <td>0</td>\n      <td>0</td>\n      <td>0</td>\n      <td>1</td>\n      <td>0</td>\n    </tr>\n    <tr>\n      <th>38</th>\n      <td>Laurent</td>\n      <td>WIN_20210409_10_26_11_Pro</td>\n      <td>1</td>\n      <td>1</td>\n      <td>0</td>\n      <td>0</td>\n      <td>0</td>\n      <td>0</td>\n      <td>1</td>\n      <td>0</td>\n      <td>1</td>\n      <td>0</td>\n      <td>1</td>\n      <td>1</td>\n      <td>1</td>\n      <td>0</td>\n    </tr>\n    <tr>\n      <th>39</th>\n      <td>Vincent</td>\n      <td>WIN_20210408_15_20_51_Pro</td>\n      <td>0</td>\n      <td>0</td>\n      <td>0</td>\n      <td>0</td>\n      <td>0</td>\n      <td>0</td>\n      <td>0</td>\n      <td>0</td>\n      <td>0</td>\n      <td>0</td>\n      <td>0</td>\n      <td>0</td>\n      <td>0</td>\n      <td>0</td>\n    </tr>\n    <tr>\n      <th>40</th>\n      <td>Laurent</td>\n      <td>WIN_20210408_15_20_51_Pro</td>\n      <td>0</td>\n      <td>0</td>\n      <td>0</td>\n      <td>0</td>\n      <td>0</td>\n      <td>0</td>\n      <td>1</td>\n      <td>0</td>\n      <td>0</td>\n      <td>0</td>\n      <td>0</td>\n      <td>0</td>\n      <td>0</td>\n      <td>0</td>\n    </tr>\n    <tr>\n      <th>41</th>\n      <td>Vincent</td>\n      <td>Test_pour_AFPA</td>\n      <td>1</td>\n      <td>1</td>\n      <td>0</td>\n      <td>0</td>\n      <td>0</td>\n      <td>1</td>\n      <td>1</td>\n      <td>1</td>\n      <td>1</td>\n      <td>0</td>\n      <td>0</td>\n      <td>1</td>\n      <td>0</td>\n      <td>1</td>\n    </tr>\n    <tr>\n      <th>42</th>\n      <td>Laurent</td>\n      <td>Test_pour_AFPA</td>\n      <td>0</td>\n      <td>0</td>\n      <td>0</td>\n      <td>0</td>\n      <td>0</td>\n      <td>1</td>\n      <td>0</td>\n      <td>0</td>\n      <td>0</td>\n      <td>0</td>\n      <td>1</td>\n      <td>1</td>\n      <td>0</td>\n      <td>0</td>\n    </tr>\n    <tr>\n      <th>43</th>\n      <td>Vincent</td>\n      <td>WIN_20210408_14_02_19_Pro</td>\n      <td>0</td>\n      <td>1</td>\n      <td>0</td>\n      <td>0</td>\n      <td>0</td>\n      <td>0</td>\n      <td>1</td>\n      <td>0</td>\n      <td>0</td>\n      <td>1</td>\n      <td>1</td>\n      <td>0</td>\n      <td>0</td>\n      <td>0</td>\n    </tr>\n    <tr>\n      <th>44</th>\n      <td>Laurent</td>\n      <td>WIN_20210408_14_02_19_Pro</td>\n      <td>0</td>\n      <td>0</td>\n      <td>0</td>\n      <td>0</td>\n      <td>0</td>\n      <td>0</td>\n      <td>1</td>\n      <td>0</td>\n      <td>0</td>\n      <td>1</td>\n      <td>1</td>\n      <td>1</td>\n      <td>0</td>\n      <td>0</td>\n    </tr>\n    <tr>\n      <th>45</th>\n      <td>Vincent</td>\n      <td>WIN_20210407_09_04_05_Pro</td>\n      <td>0</td>\n      <td>0</td>\n      <td>2</td>\n      <td>1</td>\n      <td>3</td>\n      <td>0</td>\n      <td>2</td>\n      <td>0</td>\n      <td>1</td>\n      <td>3</td>\n      <td>2</td>\n      <td>0</td>\n      <td>0</td>\n      <td>2</td>\n    </tr>\n    <tr>\n      <th>46</th>\n      <td>Alexandre</td>\n      <td>WIN_20210407_09_04_05_Pro</td>\n      <td>0</td>\n      <td>0</td>\n      <td>1</td>\n      <td>1</td>\n      <td>2</td>\n      <td>0</td>\n      <td>1</td>\n      <td>0</td>\n      <td>1</td>\n      <td>2</td>\n      <td>2</td>\n      <td>0</td>\n      <td>0</td>\n      <td>2</td>\n    </tr>\n    <tr>\n      <th>47</th>\n      <td>Valentina</td>\n      <td>WIN_20210413_15_38_01_Pro</td>\n      <td>1</td>\n      <td>0</td>\n      <td>0</td>\n      <td>0</td>\n      <td>0</td>\n      <td>1</td>\n      <td>1</td>\n      <td>0</td>\n      <td>1</td>\n      <td>1</td>\n      <td>2</td>\n      <td>1</td>\n      <td>0</td>\n      <td>1</td>\n    </tr>\n    <tr>\n      <th>48</th>\n      <td>Laurent</td>\n      <td>WIN_20210413_15_38_01_Pro</td>\n      <td>0</td>\n      <td>0</td>\n      <td>0</td>\n      <td>0</td>\n      <td>0</td>\n      <td>1</td>\n      <td>1</td>\n      <td>0</td>\n      <td>1</td>\n      <td>0</td>\n      <td>1</td>\n      <td>1</td>\n      <td>1</td>\n      <td>0</td>\n    </tr>\n    <tr>\n      <th>49</th>\n      <td>Laurent</td>\n      <td>WIN_20210414_06_24_52_Pro</td>\n      <td>1</td>\n      <td>2</td>\n      <td>2</td>\n      <td>2</td>\n      <td>1</td>\n      <td>0</td>\n      <td>0</td>\n      <td>0</td>\n      <td>0</td>\n      <td>2</td>\n      <td>2</td>\n      <td>2</td>\n      <td>1</td>\n      <td>2</td>\n    </tr>\n    <tr>\n      <th>50</th>\n      <td>Alexandre</td>\n      <td>WIN_20210414_06_24_52_Pro</td>\n      <td>2</td>\n      <td>2</td>\n      <td>1</td>\n      <td>2</td>\n      <td>2</td>\n      <td>1</td>\n      <td>1</td>\n      <td>0</td>\n      <td>1</td>\n      <td>3</td>\n      <td>2</td>\n      <td>2</td>\n      <td>1</td>\n      <td>2</td>\n    </tr>\n    <tr>\n      <th>51</th>\n      <td>Laurent</td>\n      <td>WIN_20210406_15_06_15_Pro</td>\n      <td>1</td>\n      <td>1</td>\n      <td>0</td>\n      <td>0</td>\n      <td>0</td>\n      <td>2</td>\n      <td>1</td>\n      <td>2</td>\n      <td>0</td>\n      <td>2</td>\n      <td>2</td>\n      <td>2</td>\n      <td>1</td>\n      <td>2</td>\n    </tr>\n    <tr>\n      <th>52</th>\n      <td>Valentina</td>\n      <td>WIN_20210406_15_06_15_Pro</td>\n      <td>1</td>\n      <td>1</td>\n      <td>1</td>\n      <td>1</td>\n      <td>1</td>\n      <td>2</td>\n      <td>1</td>\n      <td>1</td>\n      <td>1</td>\n      <td>1</td>\n      <td>2</td>\n      <td>2</td>\n      <td>1</td>\n      <td>1</td>\n    </tr>\n    <tr>\n      <th>53</th>\n      <td>Valentina</td>\n      <td>WIN_20210416_08_06_54_Pro</td>\n      <td>1</td>\n      <td>1</td>\n      <td>1</td>\n      <td>1</td>\n      <td>1</td>\n      <td>0</td>\n      <td>1</td>\n      <td>0</td>\n      <td>1</td>\n      <td>1</td>\n      <td>0</td>\n      <td>1</td>\n      <td>0</td>\n      <td>1</td>\n    </tr>\n    <tr>\n      <th>54</th>\n      <td>Laurent</td>\n      <td>WIN_20210416_08_06_54_Pro</td>\n      <td>1</td>\n      <td>2</td>\n      <td>1</td>\n      <td>1</td>\n      <td>1</td>\n      <td>0</td>\n      <td>1</td>\n      <td>0</td>\n      <td>1</td>\n      <td>0</td>\n      <td>0</td>\n      <td>2</td>\n      <td>0</td>\n      <td>1</td>\n    </tr>\n    <tr>\n      <th>55</th>\n      <td>Vincent</td>\n      <td>WIN_20210404_10_58_27_Pro</td>\n      <td>0</td>\n      <td>1</td>\n      <td>0</td>\n      <td>0</td>\n      <td>1</td>\n      <td>0</td>\n      <td>0</td>\n      <td>0</td>\n      <td>1</td>\n      <td>2</td>\n      <td>0</td>\n      <td>0</td>\n      <td>0</td>\n      <td>1</td>\n    </tr>\n    <tr>\n      <th>56</th>\n      <td>Alexandre</td>\n      <td>WIN_20210404_10_58_27_Pro</td>\n      <td>0</td>\n      <td>1</td>\n      <td>1</td>\n      <td>1</td>\n      <td>1</td>\n      <td>1</td>\n      <td>1</td>\n      <td>0</td>\n      <td>1</td>\n      <td>2</td>\n      <td>0</td>\n      <td>0</td>\n      <td>1</td>\n      <td>1</td>\n    </tr>\n    <tr>\n      <th>57</th>\n      <td>Laurent</td>\n      <td>WIN_20210415_15_41_24_Pro</td>\n      <td>0</td>\n      <td>0</td>\n      <td>0</td>\n      <td>1</td>\n      <td>0</td>\n      <td>0</td>\n      <td>0</td>\n      <td>0</td>\n      <td>0</td>\n      <td>0</td>\n      <td>1</td>\n      <td>1</td>\n      <td>0</td>\n      <td>0</td>\n    </tr>\n    <tr>\n      <th>58</th>\n      <td>Alexandre</td>\n      <td>WIN_20210415_15_41_24_Pro</td>\n      <td>1</td>\n      <td>0</td>\n      <td>0</td>\n      <td>0</td>\n      <td>0</td>\n      <td>0</td>\n      <td>0</td>\n      <td>0</td>\n      <td>0</td>\n      <td>0</td>\n      <td>1</td>\n      <td>0</td>\n      <td>0</td>\n      <td>0</td>\n    </tr>\n    <tr>\n      <th>59</th>\n      <td>Valentina</td>\n      <td>WIN_20210406_18_49_10_Pro</td>\n      <td>0</td>\n      <td>0</td>\n      <td>1</td>\n      <td>0</td>\n      <td>1</td>\n      <td>1</td>\n      <td>1</td>\n      <td>0</td>\n      <td>1</td>\n      <td>0</td>\n      <td>0</td>\n      <td>2</td>\n      <td>1</td>\n      <td>0</td>\n    </tr>\n    <tr>\n      <th>60</th>\n      <td>Alexandre</td>\n      <td>WIN_20210406_18_49_10_Pro</td>\n      <td>1</td>\n      <td>0</td>\n      <td>1</td>\n      <td>1</td>\n      <td>1</td>\n      <td>1</td>\n      <td>2</td>\n      <td>1</td>\n      <td>1</td>\n      <td>0</td>\n      <td>1</td>\n      <td>2</td>\n      <td>0</td>\n      <td>1</td>\n    </tr>\n    <tr>\n      <th>61</th>\n      <td>Laurent</td>\n      <td>WIN_20210417_14_53_12_Pro</td>\n      <td>0</td>\n      <td>0</td>\n      <td>0</td>\n      <td>0</td>\n      <td>0</td>\n      <td>0</td>\n      <td>1</td>\n      <td>0</td>\n      <td>1</td>\n      <td>0</td>\n      <td>0</td>\n      <td>1</td>\n      <td>0</td>\n      <td>0</td>\n    </tr>\n    <tr>\n      <th>62</th>\n      <td>Alexandre</td>\n      <td>WIN_20210417_14_53_12_Pro</td>\n      <td>0</td>\n      <td>0</td>\n      <td>0</td>\n      <td>0</td>\n      <td>0</td>\n      <td>0</td>\n      <td>1</td>\n      <td>0</td>\n      <td>2</td>\n      <td>0</td>\n      <td>0</td>\n      <td>0</td>\n      <td>1</td>\n      <td>0</td>\n    </tr>\n    <tr>\n      <th>63</th>\n      <td>Vincent</td>\n      <td>WIN_20210403_18_49_15_Pro</td>\n      <td>1</td>\n      <td>1</td>\n      <td>1</td>\n      <td>1</td>\n      <td>1</td>\n      <td>2</td>\n      <td>1</td>\n      <td>1</td>\n      <td>0</td>\n      <td>1</td>\n      <td>1</td>\n      <td>1</td>\n      <td>2</td>\n      <td>2</td>\n    </tr>\n    <tr>\n      <th>64</th>\n      <td>Laurent</td>\n      <td>WIN_20210403_18_49_15_Pro</td>\n      <td>0</td>\n      <td>1</td>\n      <td>1</td>\n      <td>1</td>\n      <td>1</td>\n      <td>2</td>\n      <td>2</td>\n      <td>2</td>\n      <td>0</td>\n      <td>1</td>\n      <td>0</td>\n      <td>2</td>\n      <td>1</td>\n      <td>2</td>\n    </tr>\n  </tbody>\n</table>\n</div>"
     },
     "metadata": {},
     "execution_count": 107
    }
   ],
   "source": [
    "df_annotations"
   ]
  },
  {
   "cell_type": "code",
   "execution_count": 108,
   "metadata": {},
   "outputs": [],
   "source": [
    "dict_couple_annotateurs = {}\n",
    "for video in df_annotations[1].unique():\n",
    "    df_temp = df_annotations.loc[df_annotations[1] == video,[0, 5, 6, 7, 8, 9,10, 11, 12, 13, 14, 15, 16, 17, 18]].sort_values(0).to_numpy()\n",
    "    #print(df_temp)\n",
    "    couple_annotateurs = ' vs '.join(df_temp[:,0])\n",
    "    #print(' vs '.join(df_temp[:,0]))\n",
    "    #print(df_temp[:,1:])\n",
    "    #dict_couple_annotateurs[couple_annotateurs] = df_temp[:,1:]\n",
    "    dict_couple_annotateurs[couple_annotateurs] = np.concatenate([dict_couple_annotateurs.get(couple_annotateurs,[[],[]]), df_temp[:,1:]],axis=1)"
   ]
  },
  {
   "cell_type": "code",
   "execution_count": 109,
   "metadata": {},
   "outputs": [
    {
     "output_type": "execute_result",
     "data": {
      "text/plain": [
       "{'Laurent vs Valentina': array([[0, 0, 0, 0, 1, 1, 0, 0, 0, 1, 0, 1, 1, 0, 0, 0, 0, 0, 0, 0, 0, 0,\n",
       "         0, 0, 0, 0, 0, 0, 0, 0, 0, 0, 0, 1, 1, 0, 1, 0, 1, 1, 1, 0, 1, 1,\n",
       "         0, 0, 0, 2, 1, 2, 0, 2, 2, 2, 1, 2, 1, 2, 1, 1, 1, 0, 1, 0, 1, 0,\n",
       "         0, 2, 0, 1],\n",
       "        [0, 0, 0, 0, 1, 0, 1, 0, 0, 0, 1, 0, 0, 0, 0, 0, 0, 0, 0, 1, 1, 1,\n",
       "         0, 0, 0, 1, 0, 0, 1, 0, 0, 0, 0, 1, 1, 0, 1, 1, 2, 1, 0, 1, 1, 1,\n",
       "         1, 1, 1, 2, 1, 1, 1, 1, 2, 2, 1, 1, 1, 1, 1, 1, 1, 0, 1, 0, 1, 1,\n",
       "         0, 1, 0, 1]], dtype=object),\n",
       " 'Alexandre vs Aude': array([[0, 0, 1, 1, 0, 1, 1, 0, 1, 1, 0, 0, 0, 0, 0, 0, 1, 0, 0, 1, 1, 0,\n",
       "         0, 0, 0, 0, 0, 0, 2, 1, 1, 1, 1, 1, 2, 1, 2, 1, 1, 2, 1, 1],\n",
       "        [1, 0, 1, 1, 1, 1, 1, 0, 1, 1, 1, 1, 1, 1, 0, 0, 1, 1, 0, 1, 1, 0,\n",
       "         1, 0, 0, 0, 0, 1, 1, 1, 1, 1, 0, 2, 2, 1, 2, 1, 1, 3, 1, 2]],\n",
       "       dtype=object),\n",
       " 'Aude vs Valentina': array([[0, 0, 0, 1, 1, 0, 0, 1, 0, 1, 1, 0, 0, 1, 0, 0, 0, 0, 0, 1, 1, 0,\n",
       "         0, 1, 1, 0, 0, 0],\n",
       "        [0, 0, 1, 1, 0, 0, 1, 1, 0, 1, 1, 0, 0, 0, 0, 0, 1, 0, 0, 0, 1, 0,\n",
       "         1, 1, 1, 1, 0, 0]], dtype=object),\n",
       " 'Aude vs Vincent': array([[0, 0, 0, 0, 1, 0, 1, 0, 0, 0, 0, 0, 0, 0, 1, 1, 1, 2, 1, 1, 1, 1,\n",
       "         1, 1, 1, 1, 1, 1],\n",
       "        [0, 0, 0, 0, 1, 0, 0, 0, 0, 0, 0, 0, 0, 0, 1, 1, 1, 1, 1, 1, 1, 1,\n",
       "         1, 1, 1, 1, 1, 1]], dtype=object),\n",
       " 'Alexandre vs Valentina': array([[0, 1, 1, 1, 1, 0, 1, 0, 1, 0, 1, 1, 0, 1, 0, 0, 0, 0, 0, 1, 0, 0,\n",
       "         0, 1, 0, 0, 0, 0, 0, 0, 0, 0, 0, 0, 0, 0, 0, 0, 0, 0, 0, 0, 1, 0,\n",
       "         1, 1, 1, 1, 2, 1, 1, 0, 1, 2, 0, 1],\n",
       "        [0, 1, 1, 0, 0, 0, 1, 0, 0, 0, 1, 0, 0, 0, 0, 0, 0, 0, 0, 1, 1, 0,\n",
       "         0, 0, 1, 1, 0, 0, 0, 0, 1, 0, 0, 0, 0, 0, 0, 0, 0, 0, 0, 0, 0, 0,\n",
       "         1, 0, 1, 1, 1, 0, 1, 0, 0, 2, 1, 0]], dtype=object),\n",
       " 'Alexandre vs Laurent': array([[0, 0, 1, 0, 0, 1, 0, 0, 1, 1, 0, 1, 0, 0, 2, 2, 1, 2, 2, 1, 1, 0,\n",
       "         1, 3, 2, 2, 1, 2, 1, 0, 0, 0, 0, 0, 0, 0, 0, 0, 1, 0, 0, 0, 0, 0,\n",
       "         0, 0, 0, 0, 1, 0, 2, 0, 0, 0, 1, 0],\n",
       "        [0, 0, 0, 0, 0, 1, 1, 1, 0, 1, 0, 0, 0, 0, 1, 2, 2, 2, 1, 0, 0, 0,\n",
       "         0, 2, 2, 2, 1, 2, 0, 0, 0, 1, 0, 0, 0, 0, 0, 0, 1, 1, 0, 0, 0, 0,\n",
       "         0, 0, 0, 0, 1, 0, 1, 0, 0, 1, 0, 0]], dtype=object),\n",
       " 'Laurent vs Vincent': array([[1, 2, 2, 1, 1, 2, 1, 1, 0, 1, 1, 2, 0, 2, 1, 1, 0, 0, 0, 0, 1, 0,\n",
       "         1, 0, 1, 1, 1, 0, 0, 0, 0, 0, 0, 0, 1, 0, 0, 0, 0, 0, 0, 0, 0, 0,\n",
       "         0, 0, 0, 1, 0, 0, 0, 0, 1, 1, 0, 0, 0, 0, 0, 0, 0, 0, 1, 0, 0, 1,\n",
       "         1, 1, 0, 0, 0, 1, 1, 1, 1, 2, 2, 2, 0, 1, 0, 2, 1, 2],\n",
       "        [1, 1, 2, 1, 2, 1, 1, 1, 0, 1, 2, 2, 1, 2, 0, 0, 0, 1, 0, 0, 1, 0,\n",
       "         1, 0, 0, 0, 1, 0, 0, 0, 0, 0, 0, 0, 0, 0, 0, 0, 0, 0, 0, 0, 1, 1,\n",
       "         0, 0, 0, 1, 1, 1, 1, 0, 0, 1, 0, 1, 0, 1, 0, 0, 0, 0, 1, 0, 0, 1,\n",
       "         1, 0, 0, 0, 1, 1, 1, 1, 1, 2, 1, 1, 0, 1, 1, 1, 2, 2]],\n",
       "       dtype=object),\n",
       " 'Valentina vs Vincent': array([[0, 1, 1, 1, 1, 1, 0, 1, 1, 1, 1, 2, 1, 1, 0, 2, 2, 2, 2, 1, 1, 2,\n",
       "         1, 1, 1, 1, 0, 1],\n",
       "        [0, 0, 0, 1, 0, 0, 0, 1, 2, 1, 1, 2, 1, 2, 0, 2, 2, 2, 2, 0, 0, 2,\n",
       "         1, 1, 1, 0, 0, 2]], dtype=object),\n",
       " 'Alexandre vs Vincent': array([[0, 0, 1, 1, 2, 0, 1, 0, 1, 2, 2, 0, 0, 2, 0, 1, 1, 1, 1, 1, 1, 0,\n",
       "         1, 2, 0, 0, 1, 1],\n",
       "        [0, 0, 2, 1, 3, 0, 2, 0, 1, 3, 2, 0, 0, 2, 0, 1, 0, 0, 1, 0, 0, 0,\n",
       "         1, 2, 0, 0, 0, 1]], dtype=object)}"
      ]
     },
     "metadata": {},
     "execution_count": 109
    }
   ],
   "source": [
    "dict_couple_annotateurs"
   ]
  },
  {
   "cell_type": "code",
   "execution_count": 120,
   "metadata": {},
   "outputs": [],
   "source": [
    "itemscores = dict_couple_annotateurs['Alexandre vs Vincent']\n",
    "itemvars = itemscores.var(axis=0, ddof=1)\n",
    "tscores = itemscores.sum(axis=1)\n",
    "nitems = len(itemvars)"
   ]
  },
  {
   "cell_type": "code",
   "execution_count": 122,
   "metadata": {},
   "outputs": [
    {
     "output_type": "execute_result",
     "data": {
      "text/plain": [
       "array([0.0, 0.0, 0.5, 0.0, 0.5, 0.0, 0.5, 0.0, 0.0, 0.5, 0.0, 0.0, 0.0,\n",
       "       0.0, 0.0, 0.0, 0.5, 0.5, 0.0, 0.5, 0.5, 0.0, 0.0, 0.0, 0.0, 0.0,\n",
       "       0.5, 0.0], dtype=object)"
      ]
     },
     "metadata": {},
     "execution_count": 122
    }
   ],
   "source": [
    "itemvars"
   ]
  },
  {
   "cell_type": "code",
   "execution_count": 121,
   "metadata": {},
   "outputs": [
    {
     "output_type": "execute_result",
     "data": {
      "text/plain": [
       "-8.296296296296296"
      ]
     },
     "metadata": {},
     "execution_count": 121
    }
   ],
   "source": [
    "(nitems / (nitems-1)) * (1 - (itemvars.sum() / tscores.var(ddof=1)))"
   ]
  },
  {
   "cell_type": "code",
   "execution_count": 124,
   "metadata": {},
   "outputs": [],
   "source": [
    "def CronbachAlpha(itemscores):\n",
    "    # cols are items, rows are observations\n",
    "    itemscores = np.asarray(itemscores)\n",
    "    itemvars = itemscores.var(axis=0, ddof=1)\n",
    "    tscores = itemscores.sum(axis=1)\n",
    "    nitems = len(itemvars)\n",
    "    return (nitems / (nitems-1)) * (1 - (itemvars.sum() / tscores.var(ddof=1)))"
   ]
  },
  {
   "cell_type": "code",
   "execution_count": 146,
   "metadata": {},
   "outputs": [
    {
     "output_type": "stream",
     "name": "stdout",
     "text": [
      "Laurent vs Valentina 0.0\nAlexandre vs Aude 0.8809756097560976\nAude vs Valentina -1.037037037037037\nAude vs Vincent 0.5185185185185185\nAlexandre vs Valentina 0.6649350649350649\nAlexandre vs Laurent 0.509090909090909\nLaurent vs Vincent -5.566265060240964\nValentina vs Vincent 0.38888888888888884\nAlexandre vs Vincent -8.296296296296296\n"
     ]
    }
   ],
   "source": [
    "for couple, annotations in dict_couple_annotateurs.items():\n",
    "    print(couple,CronbachAlpha(annotations))\n",
    "    "
   ]
  },
  {
   "cell_type": "code",
   "execution_count": null,
   "metadata": {},
   "outputs": [],
   "source": []
  }
 ]
}