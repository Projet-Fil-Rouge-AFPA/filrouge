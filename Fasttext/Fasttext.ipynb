{
  "nbformat": 4,
  "nbformat_minor": 0,
  "metadata": {
    "colab": {
      "name": "Fasttext.ipynb",
      "provenance": [],
      "collapsed_sections": []
    },
    "kernelspec": {
      "name": "python3",
      "display_name": "Python 3"
    },
    "language_info": {
      "name": "python"
    },
    "accelerator": "TPU"
  },
  "cells": [
    {
      "cell_type": "code",
      "metadata": {
        "id": "xfIYSuqzHBZK"
      },
      "source": [
        "import os\n",
        "import spacy"
      ],
      "execution_count": 2,
      "outputs": []
    },
    {
      "cell_type": "code",
      "metadata": {
        "colab": {
          "base_uri": "https://localhost:8080/"
        },
        "id": "ORaz-M1oAr8C",
        "outputId": "b24f41a1-036d-4b1f-81bd-0aec03179dae"
      },
      "source": [
        "from google.colab import drive\n",
        "drive.mount('/content/gdrive')"
      ],
      "execution_count": 3,
      "outputs": [
        {
          "output_type": "stream",
          "text": [
            "Drive already mounted at /content/gdrive; to attempt to forcibly remount, call drive.mount(\"/content/gdrive\", force_remount=True).\n"
          ],
          "name": "stdout"
        }
      ]
    },
    {
      "cell_type": "code",
      "metadata": {
        "colab": {
          "base_uri": "https://localhost:8080/"
        },
        "id": "tXCIFK19eGBF",
        "outputId": "7262ad20-24c3-4ff1-8ff6-ef1ff1641799"
      },
      "source": [
        "!pip install fasttext"
      ],
      "execution_count": 4,
      "outputs": [
        {
          "output_type": "stream",
          "text": [
            "Requirement already satisfied: fasttext in /usr/local/lib/python3.7/dist-packages (0.9.2)\n",
            "Requirement already satisfied: setuptools>=0.7.0 in /usr/local/lib/python3.7/dist-packages (from fasttext) (56.1.0)\n",
            "Requirement already satisfied: numpy in /usr/local/lib/python3.7/dist-packages (from fasttext) (1.19.5)\n",
            "Requirement already satisfied: pybind11>=2.2 in /usr/local/lib/python3.7/dist-packages (from fasttext) (2.6.2)\n"
          ],
          "name": "stdout"
        }
      ]
    },
    {
      "cell_type": "code",
      "metadata": {
        "colab": {
          "base_uri": "https://localhost:8080/"
        },
        "id": "_kbQgxWEdwFh",
        "outputId": "94feb137-75bf-4e5d-8f4a-ca1de3ee45ae"
      },
      "source": [
        "import fasttext.util\n",
        "fasttext.util.download_model('fr', if_exists='ignore')\n",
        "ft = fasttext.load_model('cc.fr.300.bin')\n",
        "\n"
      ],
      "execution_count": 4,
      "outputs": [
        {
          "output_type": "stream",
          "text": [
            "Warning : `load_model` does not return WordVectorModel or SupervisedModel any more, but a `FastText` object which is very similar.\n"
          ],
          "name": "stderr"
        }
      ]
    },
    {
      "cell_type": "code",
      "metadata": {
        "id": "n-zOjtecOKaB"
      },
      "source": [
        "#fasttext.util.reduce_model(ft, 100)"
      ],
      "execution_count": null,
      "outputs": []
    },
    {
      "cell_type": "code",
      "metadata": {
        "colab": {
          "base_uri": "https://localhost:8080/",
          "height": 164
        },
        "id": "Wd3AUszfrMYm",
        "outputId": "18fca84d-a70f-47e4-9d01-b9f92bcf7104"
      },
      "source": [
        "ft.get_dimension()"
      ],
      "execution_count": 1,
      "outputs": [
        {
          "output_type": "error",
          "ename": "NameError",
          "evalue": "ignored",
          "traceback": [
            "\u001b[0;31m---------------------------------------------------------------------------\u001b[0m",
            "\u001b[0;31mNameError\u001b[0m                                 Traceback (most recent call last)",
            "\u001b[0;32m<ipython-input-1-630b3a8875be>\u001b[0m in \u001b[0;36m<module>\u001b[0;34m()\u001b[0m\n\u001b[0;32m----> 1\u001b[0;31m \u001b[0mft\u001b[0m\u001b[0;34m.\u001b[0m\u001b[0mget_dimension\u001b[0m\u001b[0;34m(\u001b[0m\u001b[0;34m)\u001b[0m\u001b[0;34m\u001b[0m\u001b[0;34m\u001b[0m\u001b[0m\n\u001b[0m",
            "\u001b[0;31mNameError\u001b[0m: name 'ft' is not defined"
          ]
        }
      ]
    },
    {
      "cell_type": "code",
      "metadata": {
        "id": "wKZtzwZ7CdnK"
      },
      "source": [
        "text_files = os.listdir('/content/gdrive/MyDrive/Texts_test_man')"
      ],
      "execution_count": 43,
      "outputs": []
    },
    {
      "cell_type": "code",
      "metadata": {
        "id": "kFPQMuYlFsmD"
      },
      "source": [
        "transcripts = []"
      ],
      "execution_count": 44,
      "outputs": []
    },
    {
      "cell_type": "code",
      "metadata": {
        "id": "lmPnSzzqGxHE"
      },
      "source": [
        "os.chdir('/content/gdrive/MyDrive/Texts_test_man')"
      ],
      "execution_count": 45,
      "outputs": []
    },
    {
      "cell_type": "code",
      "metadata": {
        "id": "cqnoxzHyFDK6"
      },
      "source": [
        "for i in range(len(text_files)):\n",
        "\n",
        "  with open(text_files[i],'r') as file:\n",
        "      transcript = file.read()\n",
        "      transcripts.append(transcript)"
      ],
      "execution_count": 46,
      "outputs": []
    },
    {
      "cell_type": "code",
      "metadata": {
        "id": "YyeUUlSuHO_x"
      },
      "source": [
        "#Creating word_embedding matrix\n",
        "rows_doc_nb = len(transcripts)\n",
        "columns_nb = 100\n",
        "\n",
        "matrix_doc = np.ones((rows_doc_nb,columns_nb))\n",
        "\n",
        "for (i,transcript) in enumerate(transcripts):\n",
        "    \n",
        "    rows_trans_nb = len(transcript.split())\n",
        "    matrix_trans = np.ones((rows_trans_nb,columns_nb))\n",
        "\n",
        "    for (j,word) in enumerate(transcript.split()):\n",
        "        matrix_trans[j,] = ft.get_word_vector(word)\n",
        "    \n",
        "    vect_average = matrix_trans.mean(axis=0)\n",
        "    matrix_doc[i,] = vect_average"
      ],
      "execution_count": 54,
      "outputs": []
    },
    {
      "cell_type": "code",
      "metadata": {
        "colab": {
          "base_uri": "https://localhost:8080/"
        },
        "id": "wFmtWy5jIjs7",
        "outputId": "1a20ce69-3e28-4b68-f168-750b7d874ae8"
      },
      "source": [
        "matrix_doc"
      ],
      "execution_count": 57,
      "outputs": [
        {
          "output_type": "execute_result",
          "data": {
            "text/plain": [
              "array([[ 0.03046061, -0.01430796,  0.01022603, ...,  0.04364755,\n",
              "         0.01832061,  0.03828117],\n",
              "       [ 0.03014765, -0.00153729,  0.01834348, ...,  0.07497113,\n",
              "         0.00525151,  0.03643571],\n",
              "       [ 0.02594149, -0.00114352,  0.02230933, ...,  0.04572469,\n",
              "         0.01589959,  0.04269595],\n",
              "       ...,\n",
              "       [ 0.02025872, -0.00743811, -0.00195985, ...,  0.05893995,\n",
              "         0.01893056,  0.03036661],\n",
              "       [ 0.01685413, -0.00538928,  0.01281224, ...,  0.08482244,\n",
              "         0.00944139,  0.02224531],\n",
              "       [ 0.02138045,  0.01162654,  0.01517276, ...,  0.05871478,\n",
              "         0.0046972 ,  0.03653608]])"
            ]
          },
          "metadata": {
            "tags": []
          },
          "execution_count": 57
        }
      ]
    },
    {
      "cell_type": "code",
      "metadata": {
        "id": "d2dvImJqIoCf"
      },
      "source": [
        "np.save('/content/gdrive/MyDrive/Matrix_doc.csv',matrix_doc)"
      ],
      "execution_count": 58,
      "outputs": []
    }
  ]
}