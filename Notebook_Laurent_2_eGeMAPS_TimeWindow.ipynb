{
 "metadata": {
  "language_info": {
   "codemirror_mode": {
    "name": "ipython",
    "version": 3
   },
   "file_extension": ".py",
   "mimetype": "text/x-python",
   "name": "python",
   "nbconvert_exporter": "python",
   "pygments_lexer": "ipython3",
   "version": "3.8.5"
  },
  "orig_nbformat": 2,
  "kernelspec": {
   "name": "python3",
   "display_name": "Python 3.8.5 64-bit ('base': conda)"
  },
  "metadata": {
   "interpreter": {
    "hash": "148f6ed9de8dadedbbd96ef8a7e818f87aaafab3c59f5306aa9910b4f09c5b3f"
   }
  },
  "interpreter": {
   "hash": "148f6ed9de8dadedbbd96ef8a7e818f87aaafab3c59f5306aa9910b4f09c5b3f"
  }
 },
 "nbformat": 4,
 "nbformat_minor": 2,
 "cells": [
  {
   "cell_type": "code",
   "execution_count": 1,
   "metadata": {},
   "outputs": [],
   "source": [
    "import numpy as np \n",
    "import pandas as pd \n",
    "import matplotlib.pyplot as plt \n",
    "import pathlib"
   ]
  },
  {
   "source": [
    "## Loading data"
   ],
   "cell_type": "markdown",
   "metadata": {}
  },
  {
   "cell_type": "code",
   "execution_count": 2,
   "metadata": {},
   "outputs": [],
   "source": [
    "directory_path = '../../04_-_Dev/videos'\n",
    "features = 'eGeMAPS'"
   ]
  },
  {
   "cell_type": "code",
   "execution_count": 3,
   "metadata": {},
   "outputs": [],
   "source": [
    "df_total = pd.read_pickle(directory_path + '/audio_' + features + '_data.p')"
   ]
  },
  {
   "cell_type": "code",
   "execution_count": 4,
   "metadata": {},
   "outputs": [
    {
     "output_type": "execute_result",
     "data": {
      "text/plain": [
       "(2573581, 77)"
      ]
     },
     "metadata": {},
     "execution_count": 4
    }
   ],
   "source": [
    "df_total.shape"
   ]
  },
  {
   "cell_type": "code",
   "execution_count": 5,
   "metadata": {},
   "outputs": [
    {
     "output_type": "execute_result",
     "data": {
      "text/plain": [
       "30"
      ]
     },
     "metadata": {},
     "execution_count": 5
    }
   ],
   "source": [
    "df_total.video_name.nunique()"
   ]
  },
  {
   "cell_type": "code",
   "execution_count": 6,
   "metadata": {},
   "outputs": [
    {
     "output_type": "execute_result",
     "data": {
      "text/plain": [
       "Empty DataFrame\n",
       "Columns: [frameIndex, frameTime, Loudness_sma3, alphaRatio_sma3, hammarbergIndex_sma3, slope0-500_sma3, slope500-1500_sma3, spectralFlux_sma3, mfcc1_sma3, mfcc2_sma3, mfcc3_sma3, mfcc4_sma3, F0semitoneFrom27.5Hz_sma3nz, jitterLocal_sma3nz, shimmerLocaldB_sma3nz, HNRdBACF_sma3nz, logRelF0-H1-H2_sma3nz, logRelF0-H1-A3_sma3nz, F1frequency_sma3nz, F1bandwidth_sma3nz, F1amplitudeLogRelF0_sma3nz, F2frequency_sma3nz, F2amplitudeLogRelF0_sma3nz, F3frequency_sma3nz, F3amplitudeLogRelF0_sma3nz, Loudness_sma3_de, Loudness_sma3_de_de, alphaRatio_sma3_de, alphaRatio_sma3_de_de, hammarbergIndex_sma3_de, hammarbergIndex_sma3_de_de, slope0-500_sma3_de, slope0-500_sma3_de_de, slope500-1500_sma3_de, slope500-1500_sma3_de_de, spectralFlux_sma3_de, spectralFlux_sma3_de_de, mfcc1_sma3_de, mfcc1_sma3_de_de, mfcc2_sma3_de, mfcc2_sma3_de_de, mfcc3_sma3_de, mfcc3_sma3_de_de, mfcc4_sma3_de, mfcc4_sma3_de_de, F0semitoneFrom27.5Hz_sma3nz_de, F0semitoneFrom27.5Hz_sma3nz_de_de, jitterLocal_sma3nz_de, jitterLocal_sma3nz_de_de, shimmerLocaldB_sma3nz_de, shimmerLocaldB_sma3nz_de_de, HNRdBACF_sma3nz_de, HNRdBACF_sma3nz_de_de, logRelF0-H1-H2_sma3nz_de, logRelF0-H1-H2_sma3nz_de_de, logRelF0-H1-A3_sma3nz_de, logRelF0-H1-A3_sma3nz_de_de, F1frequency_sma3nz_de, F1frequency_sma3nz_de_de, F1bandwidth_sma3nz_de, F1bandwidth_sma3nz_de_de, F1amplitudeLogRelF0_sma3nz_de, F1amplitudeLogRelF0_sma3nz_de_de, F2frequency_sma3nz_de, F2frequency_sma3nz_de_de, F2amplitudeLogRelF0_sma3nz_de, F2amplitudeLogRelF0_sma3nz_de_de, F3frequency_sma3nz_de, F3frequency_sma3nz_de_de, F3amplitudeLogRelF0_sma3nz_de, F3amplitudeLogRelF0_sma3nz_de_de, video_name, stress_global, type_candidat, sexe, stress, diapo]\n",
       "Index: []\n",
       "\n",
       "[0 rows x 77 columns]"
      ],
      "text/html": "<div>\n<style scoped>\n    .dataframe tbody tr th:only-of-type {\n        vertical-align: middle;\n    }\n\n    .dataframe tbody tr th {\n        vertical-align: top;\n    }\n\n    .dataframe thead th {\n        text-align: right;\n    }\n</style>\n<table border=\"1\" class=\"dataframe\">\n  <thead>\n    <tr style=\"text-align: right;\">\n      <th></th>\n      <th>frameIndex</th>\n      <th>frameTime</th>\n      <th>Loudness_sma3</th>\n      <th>alphaRatio_sma3</th>\n      <th>hammarbergIndex_sma3</th>\n      <th>slope0-500_sma3</th>\n      <th>slope500-1500_sma3</th>\n      <th>spectralFlux_sma3</th>\n      <th>mfcc1_sma3</th>\n      <th>mfcc2_sma3</th>\n      <th>...</th>\n      <th>F3frequency_sma3nz_de</th>\n      <th>F3frequency_sma3nz_de_de</th>\n      <th>F3amplitudeLogRelF0_sma3nz_de</th>\n      <th>F3amplitudeLogRelF0_sma3nz_de_de</th>\n      <th>video_name</th>\n      <th>stress_global</th>\n      <th>type_candidat</th>\n      <th>sexe</th>\n      <th>stress</th>\n      <th>diapo</th>\n    </tr>\n  </thead>\n  <tbody>\n  </tbody>\n</table>\n<p>0 rows × 77 columns</p>\n</div>"
     },
     "metadata": {},
     "execution_count": 6
    }
   ],
   "source": [
    "df_total[df_total.isna().any(axis=1)]"
   ]
  },
  {
   "source": [
    "## Data processing"
   ],
   "cell_type": "markdown",
   "metadata": {}
  },
  {
   "cell_type": "code",
   "execution_count": 7,
   "metadata": {},
   "outputs": [],
   "source": [
    "time_window = 5\n",
    "df_total['frameTimeWindow'] = df_total.frameTime.apply(lambda x : np.floor(x / time_window) * time_window).astype(int)"
   ]
  },
  {
   "cell_type": "code",
   "execution_count": 8,
   "metadata": {},
   "outputs": [],
   "source": [
    "from scipy.stats import kurtosis, skew\n",
    "\n",
    "def percentil25(x): \n",
    "    return np.percentile(x, q=25)\n",
    "\n",
    "def percentil75(x): \n",
    "    return np.percentile(x, q=75)"
   ]
  },
  {
   "cell_type": "code",
   "execution_count": 9,
   "metadata": {},
   "outputs": [],
   "source": [
    "# 5 seconds windows\n",
    "X = df_total.iloc[:,2:].groupby(['video_name','diapo','frameTimeWindow']).agg({'mean','min','max', 'median', 'std', percentil25, percentil75, kurtosis, skew}).iloc[:,:-18]"
   ]
  },
  {
   "cell_type": "code",
   "execution_count": 10,
   "metadata": {},
   "outputs": [],
   "source": [
    "y = df_total.iloc[:,3:].groupby(['video_name','diapo','frameTimeWindow']).agg({'stress':'min'}).iloc[:,-1]"
   ]
  },
  {
   "cell_type": "code",
   "execution_count": 11,
   "metadata": {},
   "outputs": [],
   "source": [
    "X.to_pickle(directory_path + '/audio_' + features + '_tw5_data_X.p')\n",
    "y.to_pickle(directory_path + '/audio_' + features + '_tw5_data_y.p')"
   ]
  },
  {
   "cell_type": "code",
   "execution_count": 12,
   "metadata": {},
   "outputs": [],
   "source": [
    "from scipy.stats import kurtosis, skew\n",
    "X_audio = df_total.loc[df_total['diapo'].isin([8, 9, 10, 11, 17]),:].iloc[:,2:].groupby(['video_name','diapo','frameTimeWindow']).agg({'mean','min','max', 'median', 'std', percentil25, percentil75, kurtosis, skew}).iloc[:,:-18]\n",
    "y_audio = df_total.loc[df_total['diapo'].isin([8, 9, 10, 11, 17]),:].iloc[:,2:].groupby(['video_name','diapo','frameTimeWindow']).agg({'stress':'mean'}).iloc[:,-1]"
   ]
  },
  {
   "cell_type": "code",
   "execution_count": 13,
   "metadata": {},
   "outputs": [],
   "source": [
    "X_audio.to_pickle(directory_path + '/audio_' + features + '_tw5_data_X_audio_questions_only.p')\n",
    "y_audio.to_pickle(directory_path + '/audio_' + features + '_tw5_data_y_audio_questions_only.p')"
   ]
  },
  {
   "source": [
    "## Modèles"
   ],
   "cell_type": "markdown",
   "metadata": {}
  },
  {
   "cell_type": "code",
   "execution_count": 14,
   "metadata": {},
   "outputs": [],
   "source": [
    "X = pd.read_pickle(directory_path + '/audio_' + features + '_tw5_data_X.p')\n",
    "y = pd.read_pickle(directory_path + '/audio_' + features + '_tw5_data_y.p')\n",
    "\n",
    "X_audio = pd.read_pickle(directory_path + '/audio_' + features + '_tw5_data_X_audio_questions_only.p')\n",
    "y_audio = pd.read_pickle(directory_path + '/audio_' + features + '_tw5_data_y_audio_questions_only.p')"
   ]
  },
  {
   "cell_type": "code",
   "execution_count": 15,
   "metadata": {},
   "outputs": [],
   "source": [
    "X = X.fillna(0)\n",
    "X_audio = X_audio.fillna(0)"
   ]
  },
  {
   "source": [
    "## Stress par diapos\n",
    "### All diapos"
   ],
   "cell_type": "markdown",
   "metadata": {}
  },
  {
   "cell_type": "code",
   "execution_count": 17,
   "metadata": {},
   "outputs": [
    {
     "output_type": "stream",
     "name": "stdout",
     "text": [
      "Fitting 30 folds for each of 50 candidates, totalling 1500 fits\n",
      "[Parallel(n_jobs=1)]: Using backend SequentialBackend with 1 concurrent workers.\n",
      "[Parallel(n_jobs=1)]: Done 1500 out of 1500 | elapsed: 104.5min finished\n",
      "Best results 0.45449414449983017\n",
      "Best params {'class_weight': 'balanced', 'max_depth': 10, 'n_estimators': 150}\n",
      "accuracy (mean, std) 0.44510016364811356 0.18494293958689356\n",
      "f1 (mean, std) 0.45449414449983017 0.18411403803477927\n"
     ]
    }
   ],
   "source": [
    "parameters = {'n_estimators': [100, 150, 200, 250, 300], 'max_depth':[10, 15, 20, 25, 30], 'class_weight':[None,'balanced']}\n",
    "\n",
    "from sklearn.model_selection import LeaveOneGroupOut\n",
    "from sklearn.ensemble import RandomForestClassifier, RandomForestRegressor\n",
    "from sklearn.model_selection import cross_val_predict, GridSearchCV\n",
    "from sklearn.metrics import accuracy_score, f1_score\n",
    "import warnings\n",
    "warnings.filterwarnings(\"ignore\")\n",
    "\n",
    "groups = X.reset_index()['video_name']\n",
    "loo = LeaveOneGroupOut()\n",
    "cv_loo = loo.split(X, y, groups)\n",
    "X_no_name = X\n",
    "y_no_name = y\n",
    "\n",
    "model = RandomForestClassifier(random_state = 42, n_jobs=-1)\n",
    "\n",
    "clf = GridSearchCV(estimator=model, \n",
    "                    param_grid=parameters, \n",
    "                    scoring={'accuracy_score' : 'accuracy', 'f1_score' : 'f1_weighted' }, \n",
    "                    refit= 'f1_score' ,#'accuracy_score',\n",
    "                    cv=cv_loo, verbose=1)\n",
    "clf.fit(X_no_name, y_no_name)\n",
    "print('Best results', clf.best_score_)\n",
    "print('Best params', clf.best_params_)\n",
    "print('accuracy (mean, std)', clf.cv_results_['mean_test_accuracy_score'][clf.best_index_], clf.cv_results_['std_test_accuracy_score'][clf.best_index_])\n",
    "print('f1 (mean, std)', clf.cv_results_['mean_test_f1_score'][clf.best_index_], clf.cv_results_['std_test_f1_score'][clf.best_index_])"
   ]
  },
  {
   "cell_type": "code",
   "execution_count": 18,
   "metadata": {},
   "outputs": [],
   "source": [
    "# Getting predictions with a leave one interview out\n",
    "from sklearn.model_selection import LeaveOneGroupOut\n",
    "from sklearn.ensemble import RandomForestClassifier, RandomForestRegressor\n",
    "groups = X.reset_index()['video_name']\n",
    "loo = LeaveOneGroupOut()\n",
    "cv_loo = loo.split(X, y, groups)\n",
    "\n",
    "#model = RandomForestClassifier(random_state = 42, n_jobs=-1, max_depth= 10, n_estimators= 50)\n",
    "model = clf.best_estimator_\n",
    "\n",
    "ytest_predict = np.zeros(len(y))\n",
    "for train_index, test_index in loo.split(X, y, groups):\n",
    "    #print(train_index, test_index)\n",
    "    Xtrain, Xtest = X.iloc[train_index], X.iloc[test_index]\n",
    "    ytrain, ytest = y.iloc[train_index], y.iloc[test_index]\n",
    "\n",
    "    model.fit(Xtrain, ytrain)\n",
    "    ytest_predict_temp = model.predict(Xtest)\n",
    "    #print(ytest_predict_temp.shape)\n",
    "    #print(test_index.shape)\n",
    "    ytest_predict[test_index] = ytest_predict_temp\n",
    "y_predict = ytest_predict\n",
    "\n",
    "df_ypredict = pd.concat([X.reset_index()[['video_name','diapo','frameTimeWindow']],pd.DataFrame(y_predict, columns=['ypredict'])],axis=1)\n",
    "df_ypredict.columns = ['video_name','diapo','frameTimeWindow','ypredict']\n",
    "df_ypredict.to_csv('ypredict_' + features + '_tw5_2.csv')"
   ]
  },
  {
   "cell_type": "code",
   "execution_count": 19,
   "metadata": {},
   "outputs": [
    {
     "output_type": "execute_result",
     "data": {
      "text/plain": [
       "array([[ 941,  920,  203,    0],\n",
       "       [ 918, 1329,  343,    0],\n",
       "       [ 206,  371,   76,    0],\n",
       "       [  16,    4,    0,    0]])"
      ]
     },
     "metadata": {},
     "execution_count": 19
    }
   ],
   "source": [
    "from sklearn.metrics import confusion_matrix\n",
    "confusion_matrix(y, y_predict)"
   ]
  },
  {
   "cell_type": "code",
   "execution_count": 20,
   "metadata": {},
   "outputs": [],
   "source": [
    "df_ypredict = pd.read_csv('ypredict_' + features + '_tw5_2.csv')\n",
    "df_ypredict = df_ypredict.iloc[:,1:]\n",
    "df_ypredict.columns = ['video_name','diapo','frameTimeWindow','ypredict']\n",
    "df_ypredict['ypredict'] = df_ypredict['ypredict'].astype(int)\n"
   ]
  },
  {
   "cell_type": "code",
   "execution_count": 21,
   "metadata": {},
   "outputs": [
    {
     "output_type": "execute_result",
     "data": {
      "text/plain": [
       "ypredict                                0         1         2\n",
       "video_name                diapo                              \n",
       "Test_pour_AFPA            1      0.000000  0.000000  1.000000\n",
       "                          8      0.200000  0.400000  0.400000\n",
       "                          9      0.300000  0.150000  0.550000\n",
       "                          10     0.066667  0.266667  0.666667\n",
       "                          11     0.200000  0.250000  0.550000\n",
       "...                                   ...       ...       ...\n",
       "WIN_20210417_14_53_12_Pro 10     0.571429  0.428571  0.000000\n",
       "                          11     0.750000  0.250000  0.000000\n",
       "                          12     0.181818  0.818182  0.000000\n",
       "                          17     0.857143  0.142857  0.000000\n",
       "                          18     0.347826  0.652174  0.000000\n",
       "\n",
       "[240 rows x 3 columns]"
      ],
      "text/html": "<div>\n<style scoped>\n    .dataframe tbody tr th:only-of-type {\n        vertical-align: middle;\n    }\n\n    .dataframe tbody tr th {\n        vertical-align: top;\n    }\n\n    .dataframe thead th {\n        text-align: right;\n    }\n</style>\n<table border=\"1\" class=\"dataframe\">\n  <thead>\n    <tr style=\"text-align: right;\">\n      <th></th>\n      <th>ypredict</th>\n      <th>0</th>\n      <th>1</th>\n      <th>2</th>\n    </tr>\n    <tr>\n      <th>video_name</th>\n      <th>diapo</th>\n      <th></th>\n      <th></th>\n      <th></th>\n    </tr>\n  </thead>\n  <tbody>\n    <tr>\n      <th rowspan=\"5\" valign=\"top\">Test_pour_AFPA</th>\n      <th>1</th>\n      <td>0.000000</td>\n      <td>0.000000</td>\n      <td>1.000000</td>\n    </tr>\n    <tr>\n      <th>8</th>\n      <td>0.200000</td>\n      <td>0.400000</td>\n      <td>0.400000</td>\n    </tr>\n    <tr>\n      <th>9</th>\n      <td>0.300000</td>\n      <td>0.150000</td>\n      <td>0.550000</td>\n    </tr>\n    <tr>\n      <th>10</th>\n      <td>0.066667</td>\n      <td>0.266667</td>\n      <td>0.666667</td>\n    </tr>\n    <tr>\n      <th>11</th>\n      <td>0.200000</td>\n      <td>0.250000</td>\n      <td>0.550000</td>\n    </tr>\n    <tr>\n      <th>...</th>\n      <th>...</th>\n      <td>...</td>\n      <td>...</td>\n      <td>...</td>\n    </tr>\n    <tr>\n      <th rowspan=\"5\" valign=\"top\">WIN_20210417_14_53_12_Pro</th>\n      <th>10</th>\n      <td>0.571429</td>\n      <td>0.428571</td>\n      <td>0.000000</td>\n    </tr>\n    <tr>\n      <th>11</th>\n      <td>0.750000</td>\n      <td>0.250000</td>\n      <td>0.000000</td>\n    </tr>\n    <tr>\n      <th>12</th>\n      <td>0.181818</td>\n      <td>0.818182</td>\n      <td>0.000000</td>\n    </tr>\n    <tr>\n      <th>17</th>\n      <td>0.857143</td>\n      <td>0.142857</td>\n      <td>0.000000</td>\n    </tr>\n    <tr>\n      <th>18</th>\n      <td>0.347826</td>\n      <td>0.652174</td>\n      <td>0.000000</td>\n    </tr>\n  </tbody>\n</table>\n<p>240 rows × 3 columns</p>\n</div>"
     },
     "metadata": {},
     "execution_count": 21
    }
   ],
   "source": [
    "X = df_ypredict.pivot_table(values='frameTimeWindow', columns='ypredict', index=['video_name','diapo'], aggfunc='count', fill_value=0)\n",
    "X_sum = X.sum(axis=1).values.copy()\n",
    "for col_number in range(len(X.columns)):\n",
    "    X.iloc[:,col_number] = X.iloc[:,col_number] / X_sum\n",
    "X\n",
    " "
   ]
  },
  {
   "cell_type": "code",
   "execution_count": 22,
   "metadata": {},
   "outputs": [],
   "source": [
    "# Autre méthode\n",
    "X = df_ypredict.groupby(['video_name','diapo']).agg({'ypredict':['mean','min','max', 'median', 'std', percentil25, percentil75, kurtosis, skew]})"
   ]
  },
  {
   "cell_type": "code",
   "execution_count": 23,
   "metadata": {},
   "outputs": [
    {
     "output_type": "execute_result",
     "data": {
      "text/plain": [
       "                                 ypredict                           \\\n",
       "                                     mean min max median       std   \n",
       "video_name                diapo                                      \n",
       "Test_pour_AFPA            1      2.000000   2   2    2.0  0.000000   \n",
       "                          8      1.200000   0   2    1.0  0.788811   \n",
       "                          9      1.250000   0   2    2.0  0.910465   \n",
       "                          10     1.600000   0   2    2.0  0.632456   \n",
       "                          11     1.350000   0   2    2.0  0.812728   \n",
       "...                                   ...  ..  ..    ...       ...   \n",
       "WIN_20210417_14_53_12_Pro 10     0.428571   0   1    0.0  0.513553   \n",
       "                          11     0.250000   0   1    0.0  0.444262   \n",
       "                          12     0.818182   0   1    1.0  0.391675   \n",
       "                          17     0.142857   0   1    0.0  0.377964   \n",
       "                          18     0.652174   0   1    1.0  0.486985   \n",
       "\n",
       "                                                                             \n",
       "                                percentil25 percentil75  kurtosis      skew  \n",
       "video_name                diapo                                              \n",
       "Test_pour_AFPA            1             2.0        2.00 -3.000000  0.000000  \n",
       "                          8             1.0        2.00 -1.153061 -0.343622  \n",
       "                          9             0.0        2.00 -1.537415 -0.509776  \n",
       "                          10            1.0        2.00  0.505102 -1.262546  \n",
       "                          11            1.0        2.00 -1.054047 -0.707642  \n",
       "...                                     ...         ...       ...       ...  \n",
       "WIN_20210417_14_53_12_Pro 10            0.0        1.00 -1.916667  0.288675  \n",
       "                          11            0.0        0.25 -0.666667  1.154701  \n",
       "                          12            1.0        1.00  0.722222 -1.649916  \n",
       "                          17            0.0        0.00  2.166667  2.041241  \n",
       "                          18            0.0        1.00 -1.591667 -0.639010  \n",
       "\n",
       "[240 rows x 9 columns]"
      ],
      "text/html": "<div>\n<style scoped>\n    .dataframe tbody tr th:only-of-type {\n        vertical-align: middle;\n    }\n\n    .dataframe tbody tr th {\n        vertical-align: top;\n    }\n\n    .dataframe thead tr th {\n        text-align: left;\n    }\n\n    .dataframe thead tr:last-of-type th {\n        text-align: right;\n    }\n</style>\n<table border=\"1\" class=\"dataframe\">\n  <thead>\n    <tr>\n      <th></th>\n      <th></th>\n      <th colspan=\"9\" halign=\"left\">ypredict</th>\n    </tr>\n    <tr>\n      <th></th>\n      <th></th>\n      <th>mean</th>\n      <th>min</th>\n      <th>max</th>\n      <th>median</th>\n      <th>std</th>\n      <th>percentil25</th>\n      <th>percentil75</th>\n      <th>kurtosis</th>\n      <th>skew</th>\n    </tr>\n    <tr>\n      <th>video_name</th>\n      <th>diapo</th>\n      <th></th>\n      <th></th>\n      <th></th>\n      <th></th>\n      <th></th>\n      <th></th>\n      <th></th>\n      <th></th>\n      <th></th>\n    </tr>\n  </thead>\n  <tbody>\n    <tr>\n      <th rowspan=\"5\" valign=\"top\">Test_pour_AFPA</th>\n      <th>1</th>\n      <td>2.000000</td>\n      <td>2</td>\n      <td>2</td>\n      <td>2.0</td>\n      <td>0.000000</td>\n      <td>2.0</td>\n      <td>2.00</td>\n      <td>-3.000000</td>\n      <td>0.000000</td>\n    </tr>\n    <tr>\n      <th>8</th>\n      <td>1.200000</td>\n      <td>0</td>\n      <td>2</td>\n      <td>1.0</td>\n      <td>0.788811</td>\n      <td>1.0</td>\n      <td>2.00</td>\n      <td>-1.153061</td>\n      <td>-0.343622</td>\n    </tr>\n    <tr>\n      <th>9</th>\n      <td>1.250000</td>\n      <td>0</td>\n      <td>2</td>\n      <td>2.0</td>\n      <td>0.910465</td>\n      <td>0.0</td>\n      <td>2.00</td>\n      <td>-1.537415</td>\n      <td>-0.509776</td>\n    </tr>\n    <tr>\n      <th>10</th>\n      <td>1.600000</td>\n      <td>0</td>\n      <td>2</td>\n      <td>2.0</td>\n      <td>0.632456</td>\n      <td>1.0</td>\n      <td>2.00</td>\n      <td>0.505102</td>\n      <td>-1.262546</td>\n    </tr>\n    <tr>\n      <th>11</th>\n      <td>1.350000</td>\n      <td>0</td>\n      <td>2</td>\n      <td>2.0</td>\n      <td>0.812728</td>\n      <td>1.0</td>\n      <td>2.00</td>\n      <td>-1.054047</td>\n      <td>-0.707642</td>\n    </tr>\n    <tr>\n      <th>...</th>\n      <th>...</th>\n      <td>...</td>\n      <td>...</td>\n      <td>...</td>\n      <td>...</td>\n      <td>...</td>\n      <td>...</td>\n      <td>...</td>\n      <td>...</td>\n      <td>...</td>\n    </tr>\n    <tr>\n      <th rowspan=\"5\" valign=\"top\">WIN_20210417_14_53_12_Pro</th>\n      <th>10</th>\n      <td>0.428571</td>\n      <td>0</td>\n      <td>1</td>\n      <td>0.0</td>\n      <td>0.513553</td>\n      <td>0.0</td>\n      <td>1.00</td>\n      <td>-1.916667</td>\n      <td>0.288675</td>\n    </tr>\n    <tr>\n      <th>11</th>\n      <td>0.250000</td>\n      <td>0</td>\n      <td>1</td>\n      <td>0.0</td>\n      <td>0.444262</td>\n      <td>0.0</td>\n      <td>0.25</td>\n      <td>-0.666667</td>\n      <td>1.154701</td>\n    </tr>\n    <tr>\n      <th>12</th>\n      <td>0.818182</td>\n      <td>0</td>\n      <td>1</td>\n      <td>1.0</td>\n      <td>0.391675</td>\n      <td>1.0</td>\n      <td>1.00</td>\n      <td>0.722222</td>\n      <td>-1.649916</td>\n    </tr>\n    <tr>\n      <th>17</th>\n      <td>0.142857</td>\n      <td>0</td>\n      <td>1</td>\n      <td>0.0</td>\n      <td>0.377964</td>\n      <td>0.0</td>\n      <td>0.00</td>\n      <td>2.166667</td>\n      <td>2.041241</td>\n    </tr>\n    <tr>\n      <th>18</th>\n      <td>0.652174</td>\n      <td>0</td>\n      <td>1</td>\n      <td>1.0</td>\n      <td>0.486985</td>\n      <td>0.0</td>\n      <td>1.00</td>\n      <td>-1.591667</td>\n      <td>-0.639010</td>\n    </tr>\n  </tbody>\n</table>\n<p>240 rows × 9 columns</p>\n</div>"
     },
     "metadata": {},
     "execution_count": 23
    }
   ],
   "source": [
    "X"
   ]
  },
  {
   "cell_type": "code",
   "execution_count": 24,
   "metadata": {},
   "outputs": [
    {
     "output_type": "execute_result",
     "data": {
      "text/plain": [
       "                    video_name  diapo  stress\n",
       "0               Test_pour_AFPA      1     1.0\n",
       "1               Test_pour_AFPA      8     1.0\n",
       "2               Test_pour_AFPA      9     0.0\n",
       "3               Test_pour_AFPA     10     0.0\n",
       "4               Test_pour_AFPA     11     0.0\n",
       "..                         ...    ...     ...\n",
       "235  WIN_20210417_14_53_12_Pro     10     0.0\n",
       "236  WIN_20210417_14_53_12_Pro     11     0.0\n",
       "237  WIN_20210417_14_53_12_Pro     12     0.0\n",
       "238  WIN_20210417_14_53_12_Pro     17     1.0\n",
       "239  WIN_20210417_14_53_12_Pro     18     1.0\n",
       "\n",
       "[240 rows x 3 columns]"
      ],
      "text/html": "<div>\n<style scoped>\n    .dataframe tbody tr th:only-of-type {\n        vertical-align: middle;\n    }\n\n    .dataframe tbody tr th {\n        vertical-align: top;\n    }\n\n    .dataframe thead th {\n        text-align: right;\n    }\n</style>\n<table border=\"1\" class=\"dataframe\">\n  <thead>\n    <tr style=\"text-align: right;\">\n      <th></th>\n      <th>video_name</th>\n      <th>diapo</th>\n      <th>stress</th>\n    </tr>\n  </thead>\n  <tbody>\n    <tr>\n      <th>0</th>\n      <td>Test_pour_AFPA</td>\n      <td>1</td>\n      <td>1.0</td>\n    </tr>\n    <tr>\n      <th>1</th>\n      <td>Test_pour_AFPA</td>\n      <td>8</td>\n      <td>1.0</td>\n    </tr>\n    <tr>\n      <th>2</th>\n      <td>Test_pour_AFPA</td>\n      <td>9</td>\n      <td>0.0</td>\n    </tr>\n    <tr>\n      <th>3</th>\n      <td>Test_pour_AFPA</td>\n      <td>10</td>\n      <td>0.0</td>\n    </tr>\n    <tr>\n      <th>4</th>\n      <td>Test_pour_AFPA</td>\n      <td>11</td>\n      <td>0.0</td>\n    </tr>\n    <tr>\n      <th>...</th>\n      <td>...</td>\n      <td>...</td>\n      <td>...</td>\n    </tr>\n    <tr>\n      <th>235</th>\n      <td>WIN_20210417_14_53_12_Pro</td>\n      <td>10</td>\n      <td>0.0</td>\n    </tr>\n    <tr>\n      <th>236</th>\n      <td>WIN_20210417_14_53_12_Pro</td>\n      <td>11</td>\n      <td>0.0</td>\n    </tr>\n    <tr>\n      <th>237</th>\n      <td>WIN_20210417_14_53_12_Pro</td>\n      <td>12</td>\n      <td>0.0</td>\n    </tr>\n    <tr>\n      <th>238</th>\n      <td>WIN_20210417_14_53_12_Pro</td>\n      <td>17</td>\n      <td>1.0</td>\n    </tr>\n    <tr>\n      <th>239</th>\n      <td>WIN_20210417_14_53_12_Pro</td>\n      <td>18</td>\n      <td>1.0</td>\n    </tr>\n  </tbody>\n</table>\n<p>240 rows × 3 columns</p>\n</div>"
     },
     "metadata": {},
     "execution_count": 24
    }
   ],
   "source": [
    "df_annotations_stress = pd.read_csv('annotations.csv')\n",
    "df_annotations_stress = df_annotations_stress.drop(df_annotations_stress.columns[-1],axis=1).set_index('video_name').stack()\n",
    "df_annotations_stress = pd.DataFrame(df_annotations_stress).reset_index()\n",
    "df_annotations_stress.columns = ['video_name','diapo','stress']\n",
    "#df_annotations_stress = df_annotations_stress.set_index(['video_name','diapo'])\n",
    "df_annotations_stress['diapo'] = df_annotations_stress['diapo'].astype(int)\n",
    "df_annotations_stress"
   ]
  },
  {
   "cell_type": "code",
   "execution_count": 25,
   "metadata": {},
   "outputs": [],
   "source": [
    "Xy = X.merge(df_annotations_stress, how='inner', on=['video_name','diapo'])\n",
    "X = Xy.iloc[:,:-1].set_index(['video_name','diapo'])\n",
    "y = Xy.iloc[:,-1]"
   ]
  },
  {
   "cell_type": "code",
   "execution_count": 26,
   "metadata": {},
   "outputs": [
    {
     "output_type": "execute_result",
     "data": {
      "text/plain": [
       "                                 (ypredict, mean)  (ypredict, min)  \\\n",
       "video_name                diapo                                      \n",
       "Test_pour_AFPA            1              2.000000                2   \n",
       "                          8              1.200000                0   \n",
       "                          9              1.250000                0   \n",
       "                          10             1.600000                0   \n",
       "                          11             1.350000                0   \n",
       "...                                           ...              ...   \n",
       "WIN_20210417_14_53_12_Pro 10             0.428571                0   \n",
       "                          11             0.250000                0   \n",
       "                          12             0.818182                0   \n",
       "                          17             0.142857                0   \n",
       "                          18             0.652174                0   \n",
       "\n",
       "                                 (ypredict, max)  (ypredict, median)  \\\n",
       "video_name                diapo                                        \n",
       "Test_pour_AFPA            1                    2                 2.0   \n",
       "                          8                    2                 1.0   \n",
       "                          9                    2                 2.0   \n",
       "                          10                   2                 2.0   \n",
       "                          11                   2                 2.0   \n",
       "...                                          ...                 ...   \n",
       "WIN_20210417_14_53_12_Pro 10                   1                 0.0   \n",
       "                          11                   1                 0.0   \n",
       "                          12                   1                 1.0   \n",
       "                          17                   1                 0.0   \n",
       "                          18                   1                 1.0   \n",
       "\n",
       "                                 (ypredict, std)  (ypredict, percentil25)  \\\n",
       "video_name                diapo                                             \n",
       "Test_pour_AFPA            1             0.000000                      2.0   \n",
       "                          8             0.788811                      1.0   \n",
       "                          9             0.910465                      0.0   \n",
       "                          10            0.632456                      1.0   \n",
       "                          11            0.812728                      1.0   \n",
       "...                                          ...                      ...   \n",
       "WIN_20210417_14_53_12_Pro 10            0.513553                      0.0   \n",
       "                          11            0.444262                      0.0   \n",
       "                          12            0.391675                      1.0   \n",
       "                          17            0.377964                      0.0   \n",
       "                          18            0.486985                      0.0   \n",
       "\n",
       "                                 (ypredict, percentil75)  \\\n",
       "video_name                diapo                            \n",
       "Test_pour_AFPA            1                         2.00   \n",
       "                          8                         2.00   \n",
       "                          9                         2.00   \n",
       "                          10                        2.00   \n",
       "                          11                        2.00   \n",
       "...                                                  ...   \n",
       "WIN_20210417_14_53_12_Pro 10                        1.00   \n",
       "                          11                        0.25   \n",
       "                          12                        1.00   \n",
       "                          17                        0.00   \n",
       "                          18                        1.00   \n",
       "\n",
       "                                 (ypredict, kurtosis)  (ypredict, skew)  \n",
       "video_name                diapo                                          \n",
       "Test_pour_AFPA            1                 -3.000000          0.000000  \n",
       "                          8                 -1.153061         -0.343622  \n",
       "                          9                 -1.537415         -0.509776  \n",
       "                          10                 0.505102         -1.262546  \n",
       "                          11                -1.054047         -0.707642  \n",
       "...                                               ...               ...  \n",
       "WIN_20210417_14_53_12_Pro 10                -1.916667          0.288675  \n",
       "                          11                -0.666667          1.154701  \n",
       "                          12                 0.722222         -1.649916  \n",
       "                          17                 2.166667          2.041241  \n",
       "                          18                -1.591667         -0.639010  \n",
       "\n",
       "[240 rows x 9 columns]"
      ],
      "text/html": "<div>\n<style scoped>\n    .dataframe tbody tr th:only-of-type {\n        vertical-align: middle;\n    }\n\n    .dataframe tbody tr th {\n        vertical-align: top;\n    }\n\n    .dataframe thead th {\n        text-align: right;\n    }\n</style>\n<table border=\"1\" class=\"dataframe\">\n  <thead>\n    <tr style=\"text-align: right;\">\n      <th></th>\n      <th></th>\n      <th>(ypredict, mean)</th>\n      <th>(ypredict, min)</th>\n      <th>(ypredict, max)</th>\n      <th>(ypredict, median)</th>\n      <th>(ypredict, std)</th>\n      <th>(ypredict, percentil25)</th>\n      <th>(ypredict, percentil75)</th>\n      <th>(ypredict, kurtosis)</th>\n      <th>(ypredict, skew)</th>\n    </tr>\n    <tr>\n      <th>video_name</th>\n      <th>diapo</th>\n      <th></th>\n      <th></th>\n      <th></th>\n      <th></th>\n      <th></th>\n      <th></th>\n      <th></th>\n      <th></th>\n      <th></th>\n    </tr>\n  </thead>\n  <tbody>\n    <tr>\n      <th rowspan=\"5\" valign=\"top\">Test_pour_AFPA</th>\n      <th>1</th>\n      <td>2.000000</td>\n      <td>2</td>\n      <td>2</td>\n      <td>2.0</td>\n      <td>0.000000</td>\n      <td>2.0</td>\n      <td>2.00</td>\n      <td>-3.000000</td>\n      <td>0.000000</td>\n    </tr>\n    <tr>\n      <th>8</th>\n      <td>1.200000</td>\n      <td>0</td>\n      <td>2</td>\n      <td>1.0</td>\n      <td>0.788811</td>\n      <td>1.0</td>\n      <td>2.00</td>\n      <td>-1.153061</td>\n      <td>-0.343622</td>\n    </tr>\n    <tr>\n      <th>9</th>\n      <td>1.250000</td>\n      <td>0</td>\n      <td>2</td>\n      <td>2.0</td>\n      <td>0.910465</td>\n      <td>0.0</td>\n      <td>2.00</td>\n      <td>-1.537415</td>\n      <td>-0.509776</td>\n    </tr>\n    <tr>\n      <th>10</th>\n      <td>1.600000</td>\n      <td>0</td>\n      <td>2</td>\n      <td>2.0</td>\n      <td>0.632456</td>\n      <td>1.0</td>\n      <td>2.00</td>\n      <td>0.505102</td>\n      <td>-1.262546</td>\n    </tr>\n    <tr>\n      <th>11</th>\n      <td>1.350000</td>\n      <td>0</td>\n      <td>2</td>\n      <td>2.0</td>\n      <td>0.812728</td>\n      <td>1.0</td>\n      <td>2.00</td>\n      <td>-1.054047</td>\n      <td>-0.707642</td>\n    </tr>\n    <tr>\n      <th>...</th>\n      <th>...</th>\n      <td>...</td>\n      <td>...</td>\n      <td>...</td>\n      <td>...</td>\n      <td>...</td>\n      <td>...</td>\n      <td>...</td>\n      <td>...</td>\n      <td>...</td>\n    </tr>\n    <tr>\n      <th rowspan=\"5\" valign=\"top\">WIN_20210417_14_53_12_Pro</th>\n      <th>10</th>\n      <td>0.428571</td>\n      <td>0</td>\n      <td>1</td>\n      <td>0.0</td>\n      <td>0.513553</td>\n      <td>0.0</td>\n      <td>1.00</td>\n      <td>-1.916667</td>\n      <td>0.288675</td>\n    </tr>\n    <tr>\n      <th>11</th>\n      <td>0.250000</td>\n      <td>0</td>\n      <td>1</td>\n      <td>0.0</td>\n      <td>0.444262</td>\n      <td>0.0</td>\n      <td>0.25</td>\n      <td>-0.666667</td>\n      <td>1.154701</td>\n    </tr>\n    <tr>\n      <th>12</th>\n      <td>0.818182</td>\n      <td>0</td>\n      <td>1</td>\n      <td>1.0</td>\n      <td>0.391675</td>\n      <td>1.0</td>\n      <td>1.00</td>\n      <td>0.722222</td>\n      <td>-1.649916</td>\n    </tr>\n    <tr>\n      <th>17</th>\n      <td>0.142857</td>\n      <td>0</td>\n      <td>1</td>\n      <td>0.0</td>\n      <td>0.377964</td>\n      <td>0.0</td>\n      <td>0.00</td>\n      <td>2.166667</td>\n      <td>2.041241</td>\n    </tr>\n    <tr>\n      <th>18</th>\n      <td>0.652174</td>\n      <td>0</td>\n      <td>1</td>\n      <td>1.0</td>\n      <td>0.486985</td>\n      <td>0.0</td>\n      <td>1.00</td>\n      <td>-1.591667</td>\n      <td>-0.639010</td>\n    </tr>\n  </tbody>\n</table>\n<p>240 rows × 9 columns</p>\n</div>"
     },
     "metadata": {},
     "execution_count": 26
    }
   ],
   "source": [
    "X"
   ]
  },
  {
   "cell_type": "code",
   "execution_count": 30,
   "metadata": {},
   "outputs": [
    {
     "output_type": "stream",
     "name": "stdout",
     "text": [
      "Fitting 30 folds for each of 16 candidates, totalling 480 fits\n",
      "[Parallel(n_jobs=1)]: Using backend SequentialBackend with 1 concurrent workers.\n",
      "Best results 0.4806971731971731\n",
      "Best params {'C': 0.1, 'class_weight': None}\n",
      "accuracy (mean, std) 0.5208333333333334 0.2261160591869189\n",
      "f1 (mean, std) 0.4806971731971731 0.2522482688304581\n",
      "[Parallel(n_jobs=1)]: Done 480 out of 480 | elapsed:   13.6s finished\n"
     ]
    }
   ],
   "source": [
    "parameters = {'C': [0.01, 0.05, 0.1, 0.5, 1, 2, 10, 20], 'class_weight' : [None, 'balanced']}\n",
    "from sklearn.model_selection import LeaveOneGroupOut\n",
    "from sklearn.linear_model import LogisticRegression\n",
    "from sklearn.model_selection import cross_val_predict, GridSearchCV\n",
    "from sklearn.metrics import accuracy_score, f1_score\n",
    "import warnings\n",
    "warnings.filterwarnings(\"ignore\")\n",
    "\n",
    "groups = X.reset_index()['video_name']\n",
    "loo = LeaveOneGroupOut()\n",
    "cv_loo = loo.split(X, y, groups)\n",
    "X_no_name = X\n",
    "y_no_name = y\n",
    "\n",
    "\n",
    "model = LogisticRegression(multi_class='multinomial', fit_intercept=True, random_state=42)\n",
    "\n",
    "#from sklearn.neighbors import KNeighborsClassifier\n",
    "#model = KNeighborsClassifier(n_jobs=-1)\n",
    "#parameters = {'n_neighbors': [4, 5, 6, 7, 8, 9, 10, 11, 12,  15, 20], 'weights' : ['uniform', 'distance'], 'p': [1, 2]}\n",
    "\n",
    "#from sklearn.ensemble import RandomForestClassifier, RandomForestRegressor\n",
    "#model = RandomForestClassifier(random_state = 42, n_jobs=-1)\n",
    "#parameters = {'n_estimators': [100, 150, 200], 'max_depth':[10, 15, 20], 'class_weight':[None,'balanced']}\n",
    "\n",
    "clf = GridSearchCV(estimator=model, \n",
    "                    param_grid=parameters, \n",
    "                    scoring={'accuracy_score' : 'accuracy', 'f1_score' : 'f1_weighted' }, \n",
    "                    refit='f1_score',#'accuracy_score',\n",
    "                    cv=cv_loo, verbose=1)\n",
    "clf.fit(X_no_name, y_no_name)\n",
    "print('Best results', clf.best_score_)\n",
    "print('Best params', clf.best_params_)\n",
    "print('accuracy (mean, std)', clf.cv_results_['mean_test_accuracy_score'][clf.best_index_], clf.cv_results_['std_test_accuracy_score'][clf.best_index_])\n",
    "print('f1 (mean, std)', clf.cv_results_['mean_test_f1_score'][clf.best_index_], clf.cv_results_['std_test_f1_score'][clf.best_index_])"
   ]
  },
  {
   "cell_type": "code",
   "execution_count": 31,
   "metadata": {},
   "outputs": [],
   "source": [
    "# Getting predictions with a leave one interview out\n",
    "from sklearn.model_selection import LeaveOneGroupOut\n",
    "from sklearn.linear_model import LogisticRegression\n",
    "groups = X.reset_index()['video_name']\n",
    "loo = LeaveOneGroupOut()\n",
    "cv_loo = loo.split(X, y, groups)\n",
    "\n",
    "model = clf.best_estimator_\n",
    "\n",
    "ytest_predict = np.zeros(len(y))\n",
    "for train_index, test_index in loo.split(X, y, groups):\n",
    "    #print(train_index, test_index)\n",
    "    Xtrain, Xtest = X.iloc[train_index], X.iloc[test_index]\n",
    "    ytrain, ytest = y.iloc[train_index], y.iloc[test_index]\n",
    "\n",
    "    model.fit(Xtrain, ytrain)\n",
    "    ytest_predict_temp = model.predict(Xtest)\n",
    "    #print(ytest_predict_temp.shape)\n",
    "    #print(test_index.shape)\n",
    "    ytest_predict[test_index] = ytest_predict_temp\n",
    "y_predict = ytest_predict\n",
    "\n",
    "df_ypredict = pd.concat([X.reset_index()[['video_name','diapo']],pd.DataFrame(y_predict, columns=['ypredict'])],axis=1)\n",
    "df_ypredict.columns = ['video_name','diapo','ypredict']\n",
    "df_ypredict.to_csv('ypredict_' + features + '_tw5_diapo_2.csv')"
   ]
  },
  {
   "cell_type": "code",
   "execution_count": 32,
   "metadata": {},
   "outputs": [
    {
     "output_type": "execute_result",
     "data": {
      "text/plain": [
       "array([[38, 63,  0,  0],\n",
       "       [26, 87,  0,  0],\n",
       "       [ 7, 18,  0,  0],\n",
       "       [ 1,  0,  0,  0]])"
      ]
     },
     "metadata": {},
     "execution_count": 32
    }
   ],
   "source": [
    "from sklearn.metrics import confusion_matrix\n",
    "confusion_matrix(y, y_predict)"
   ]
  },
  {
   "cell_type": "code",
   "execution_count": 33,
   "metadata": {},
   "outputs": [],
   "source": [
    "#print(X_no_name.columns[np.argsort(clf.best_estimator_.feature_importances_)[:-20:-1]])"
   ]
  },
  {
   "cell_type": "code",
   "execution_count": null,
   "metadata": {},
   "outputs": [],
   "source": []
  },
  {
   "source": [
    "## Stress global"
   ],
   "cell_type": "markdown",
   "metadata": {}
  },
  {
   "source": [
    "### En utilisant le stress prédit des diapos"
   ],
   "cell_type": "markdown",
   "metadata": {}
  },
  {
   "cell_type": "code",
   "execution_count": 34,
   "metadata": {},
   "outputs": [],
   "source": [
    "df_ypredict = pd.read_csv('ypredict_' + features + '_tw5_diapo_2.csv')\n",
    "df_ypredict = df_ypredict.iloc[:,1:]\n",
    "df_ypredict.columns = ['video_name','diapo','ypredict']\n",
    "ypredict_stress_diapo = df_ypredict.pivot_table(values='ypredict', columns='diapo',index='video_name',aggfunc='mean')\n"
   ]
  },
  {
   "cell_type": "code",
   "execution_count": 35,
   "metadata": {},
   "outputs": [
    {
     "output_type": "execute_result",
     "data": {
      "text/plain": [
       "diapo                             1    8    9    10   11   12   17   18\n",
       "video_name                                                             \n",
       "Test_pour_AFPA                   1.0  1.0  1.0  1.0  1.0  1.0  1.0  1.0\n",
       "Video_1                          0.0  0.0  0.0  0.0  0.0  0.0  1.0  1.0\n",
       "WIN_20210323_19_17_40_Pro        0.0  0.0  1.0  0.0  1.0  1.0  1.0  1.0\n",
       "WIN_20210329_10_16_02_Pro        1.0  0.0  1.0  1.0  1.0  1.0  1.0  1.0\n",
       "WIN_20210330_13_10_29_Pro        1.0  1.0  1.0  0.0  1.0  1.0  1.0  1.0\n",
       "WIN_20210331_21_22_52_Pro        1.0  0.0  0.0  1.0  0.0  1.0  0.0  1.0\n",
       "WIN_20210402_14_27_50_Pro        1.0  1.0  1.0  1.0  0.0  1.0  0.0  1.0\n",
       "WIN_20210402_19_04_53_Pro        1.0  0.0  1.0  1.0  1.0  1.0  0.0  1.0\n",
       "WIN_20210403_18_49_15_Pro        1.0  1.0  1.0  1.0  1.0  1.0  0.0  1.0\n",
       "WIN_20210404_10_58_27_Pro        1.0  1.0  0.0  0.0  0.0  1.0  1.0  1.0\n",
       "WIN_20210404_21_41_12_Pro        1.0  1.0  1.0  1.0  1.0  1.0  1.0  1.0\n",
       "WIN_20210405_15_09_16_Pro        0.0  1.0  0.0  0.0  0.0  1.0  0.0  1.0\n",
       "WIN_20210406_15_06_15_Pro        1.0  1.0  0.0  1.0  1.0  1.0  1.0  1.0\n",
       "WIN_20210406_18_35_52_Pro        1.0  0.0  0.0  0.0  0.0  1.0  0.0  1.0\n",
       "WIN_20210406_18_49_10_Pro        1.0  1.0  1.0  1.0  0.0  1.0  1.0  1.0\n",
       "WIN_20210406_21_05_52_Pro        1.0  0.0  1.0  1.0  1.0  1.0  1.0  1.0\n",
       "WIN_20210407_09_04_05_Pro        0.0  0.0  0.0  1.0  0.0  0.0  0.0  0.0\n",
       "WIN_20210407_14_54_56_Pro_edit2  1.0  1.0  1.0  1.0  0.0  1.0  1.0  1.0\n",
       "WIN_20210408_11_48_58_Pro        1.0  1.0  1.0  1.0  1.0  1.0  1.0  1.0\n",
       "WIN_20210408_14_00_44_Pro        0.0  0.0  0.0  0.0  0.0  1.0  0.0  0.0\n",
       "WIN_20210408_14_02_19_Pro        1.0  1.0  1.0  1.0  1.0  1.0  1.0  1.0\n",
       "WIN_20210408_14_11_32_Pro        1.0  1.0  0.0  0.0  0.0  1.0  1.0  0.0\n",
       "WIN_20210408_15_20_51_Pro        1.0  1.0  1.0  1.0  1.0  1.0  1.0  1.0\n",
       "WIN_20210408_16_04_32_Pro        1.0  1.0  1.0  1.0  1.0  1.0  1.0  1.0\n",
       "WIN_20210409_10_26_11_Pro        1.0  0.0  0.0  1.0  0.0  1.0  1.0  0.0\n",
       "WIN_20210413_15_38_01_Pro        0.0  0.0  0.0  1.0  1.0  1.0  1.0  1.0\n",
       "WIN_20210414_06_24_52_Pro        1.0  1.0  1.0  1.0  1.0  1.0  1.0  1.0\n",
       "WIN_20210415_15_41_24_Pro        1.0  0.0  0.0  0.0  0.0  1.0  0.0  1.0\n",
       "WIN_20210416_08_06_54_Pro        1.0  1.0  1.0  1.0  1.0  1.0  0.0  1.0\n",
       "WIN_20210417_14_53_12_Pro        0.0  0.0  1.0  1.0  0.0  1.0  0.0  1.0"
      ],
      "text/html": "<div>\n<style scoped>\n    .dataframe tbody tr th:only-of-type {\n        vertical-align: middle;\n    }\n\n    .dataframe tbody tr th {\n        vertical-align: top;\n    }\n\n    .dataframe thead th {\n        text-align: right;\n    }\n</style>\n<table border=\"1\" class=\"dataframe\">\n  <thead>\n    <tr style=\"text-align: right;\">\n      <th>diapo</th>\n      <th>1</th>\n      <th>8</th>\n      <th>9</th>\n      <th>10</th>\n      <th>11</th>\n      <th>12</th>\n      <th>17</th>\n      <th>18</th>\n    </tr>\n    <tr>\n      <th>video_name</th>\n      <th></th>\n      <th></th>\n      <th></th>\n      <th></th>\n      <th></th>\n      <th></th>\n      <th></th>\n      <th></th>\n    </tr>\n  </thead>\n  <tbody>\n    <tr>\n      <th>Test_pour_AFPA</th>\n      <td>1.0</td>\n      <td>1.0</td>\n      <td>1.0</td>\n      <td>1.0</td>\n      <td>1.0</td>\n      <td>1.0</td>\n      <td>1.0</td>\n      <td>1.0</td>\n    </tr>\n    <tr>\n      <th>Video_1</th>\n      <td>0.0</td>\n      <td>0.0</td>\n      <td>0.0</td>\n      <td>0.0</td>\n      <td>0.0</td>\n      <td>0.0</td>\n      <td>1.0</td>\n      <td>1.0</td>\n    </tr>\n    <tr>\n      <th>WIN_20210323_19_17_40_Pro</th>\n      <td>0.0</td>\n      <td>0.0</td>\n      <td>1.0</td>\n      <td>0.0</td>\n      <td>1.0</td>\n      <td>1.0</td>\n      <td>1.0</td>\n      <td>1.0</td>\n    </tr>\n    <tr>\n      <th>WIN_20210329_10_16_02_Pro</th>\n      <td>1.0</td>\n      <td>0.0</td>\n      <td>1.0</td>\n      <td>1.0</td>\n      <td>1.0</td>\n      <td>1.0</td>\n      <td>1.0</td>\n      <td>1.0</td>\n    </tr>\n    <tr>\n      <th>WIN_20210330_13_10_29_Pro</th>\n      <td>1.0</td>\n      <td>1.0</td>\n      <td>1.0</td>\n      <td>0.0</td>\n      <td>1.0</td>\n      <td>1.0</td>\n      <td>1.0</td>\n      <td>1.0</td>\n    </tr>\n    <tr>\n      <th>WIN_20210331_21_22_52_Pro</th>\n      <td>1.0</td>\n      <td>0.0</td>\n      <td>0.0</td>\n      <td>1.0</td>\n      <td>0.0</td>\n      <td>1.0</td>\n      <td>0.0</td>\n      <td>1.0</td>\n    </tr>\n    <tr>\n      <th>WIN_20210402_14_27_50_Pro</th>\n      <td>1.0</td>\n      <td>1.0</td>\n      <td>1.0</td>\n      <td>1.0</td>\n      <td>0.0</td>\n      <td>1.0</td>\n      <td>0.0</td>\n      <td>1.0</td>\n    </tr>\n    <tr>\n      <th>WIN_20210402_19_04_53_Pro</th>\n      <td>1.0</td>\n      <td>0.0</td>\n      <td>1.0</td>\n      <td>1.0</td>\n      <td>1.0</td>\n      <td>1.0</td>\n      <td>0.0</td>\n      <td>1.0</td>\n    </tr>\n    <tr>\n      <th>WIN_20210403_18_49_15_Pro</th>\n      <td>1.0</td>\n      <td>1.0</td>\n      <td>1.0</td>\n      <td>1.0</td>\n      <td>1.0</td>\n      <td>1.0</td>\n      <td>0.0</td>\n      <td>1.0</td>\n    </tr>\n    <tr>\n      <th>WIN_20210404_10_58_27_Pro</th>\n      <td>1.0</td>\n      <td>1.0</td>\n      <td>0.0</td>\n      <td>0.0</td>\n      <td>0.0</td>\n      <td>1.0</td>\n      <td>1.0</td>\n      <td>1.0</td>\n    </tr>\n    <tr>\n      <th>WIN_20210404_21_41_12_Pro</th>\n      <td>1.0</td>\n      <td>1.0</td>\n      <td>1.0</td>\n      <td>1.0</td>\n      <td>1.0</td>\n      <td>1.0</td>\n      <td>1.0</td>\n      <td>1.0</td>\n    </tr>\n    <tr>\n      <th>WIN_20210405_15_09_16_Pro</th>\n      <td>0.0</td>\n      <td>1.0</td>\n      <td>0.0</td>\n      <td>0.0</td>\n      <td>0.0</td>\n      <td>1.0</td>\n      <td>0.0</td>\n      <td>1.0</td>\n    </tr>\n    <tr>\n      <th>WIN_20210406_15_06_15_Pro</th>\n      <td>1.0</td>\n      <td>1.0</td>\n      <td>0.0</td>\n      <td>1.0</td>\n      <td>1.0</td>\n      <td>1.0</td>\n      <td>1.0</td>\n      <td>1.0</td>\n    </tr>\n    <tr>\n      <th>WIN_20210406_18_35_52_Pro</th>\n      <td>1.0</td>\n      <td>0.0</td>\n      <td>0.0</td>\n      <td>0.0</td>\n      <td>0.0</td>\n      <td>1.0</td>\n      <td>0.0</td>\n      <td>1.0</td>\n    </tr>\n    <tr>\n      <th>WIN_20210406_18_49_10_Pro</th>\n      <td>1.0</td>\n      <td>1.0</td>\n      <td>1.0</td>\n      <td>1.0</td>\n      <td>0.0</td>\n      <td>1.0</td>\n      <td>1.0</td>\n      <td>1.0</td>\n    </tr>\n    <tr>\n      <th>WIN_20210406_21_05_52_Pro</th>\n      <td>1.0</td>\n      <td>0.0</td>\n      <td>1.0</td>\n      <td>1.0</td>\n      <td>1.0</td>\n      <td>1.0</td>\n      <td>1.0</td>\n      <td>1.0</td>\n    </tr>\n    <tr>\n      <th>WIN_20210407_09_04_05_Pro</th>\n      <td>0.0</td>\n      <td>0.0</td>\n      <td>0.0</td>\n      <td>1.0</td>\n      <td>0.0</td>\n      <td>0.0</td>\n      <td>0.0</td>\n      <td>0.0</td>\n    </tr>\n    <tr>\n      <th>WIN_20210407_14_54_56_Pro_edit2</th>\n      <td>1.0</td>\n      <td>1.0</td>\n      <td>1.0</td>\n      <td>1.0</td>\n      <td>0.0</td>\n      <td>1.0</td>\n      <td>1.0</td>\n      <td>1.0</td>\n    </tr>\n    <tr>\n      <th>WIN_20210408_11_48_58_Pro</th>\n      <td>1.0</td>\n      <td>1.0</td>\n      <td>1.0</td>\n      <td>1.0</td>\n      <td>1.0</td>\n      <td>1.0</td>\n      <td>1.0</td>\n      <td>1.0</td>\n    </tr>\n    <tr>\n      <th>WIN_20210408_14_00_44_Pro</th>\n      <td>0.0</td>\n      <td>0.0</td>\n      <td>0.0</td>\n      <td>0.0</td>\n      <td>0.0</td>\n      <td>1.0</td>\n      <td>0.0</td>\n      <td>0.0</td>\n    </tr>\n    <tr>\n      <th>WIN_20210408_14_02_19_Pro</th>\n      <td>1.0</td>\n      <td>1.0</td>\n      <td>1.0</td>\n      <td>1.0</td>\n      <td>1.0</td>\n      <td>1.0</td>\n      <td>1.0</td>\n      <td>1.0</td>\n    </tr>\n    <tr>\n      <th>WIN_20210408_14_11_32_Pro</th>\n      <td>1.0</td>\n      <td>1.0</td>\n      <td>0.0</td>\n      <td>0.0</td>\n      <td>0.0</td>\n      <td>1.0</td>\n      <td>1.0</td>\n      <td>0.0</td>\n    </tr>\n    <tr>\n      <th>WIN_20210408_15_20_51_Pro</th>\n      <td>1.0</td>\n      <td>1.0</td>\n      <td>1.0</td>\n      <td>1.0</td>\n      <td>1.0</td>\n      <td>1.0</td>\n      <td>1.0</td>\n      <td>1.0</td>\n    </tr>\n    <tr>\n      <th>WIN_20210408_16_04_32_Pro</th>\n      <td>1.0</td>\n      <td>1.0</td>\n      <td>1.0</td>\n      <td>1.0</td>\n      <td>1.0</td>\n      <td>1.0</td>\n      <td>1.0</td>\n      <td>1.0</td>\n    </tr>\n    <tr>\n      <th>WIN_20210409_10_26_11_Pro</th>\n      <td>1.0</td>\n      <td>0.0</td>\n      <td>0.0</td>\n      <td>1.0</td>\n      <td>0.0</td>\n      <td>1.0</td>\n      <td>1.0</td>\n      <td>0.0</td>\n    </tr>\n    <tr>\n      <th>WIN_20210413_15_38_01_Pro</th>\n      <td>0.0</td>\n      <td>0.0</td>\n      <td>0.0</td>\n      <td>1.0</td>\n      <td>1.0</td>\n      <td>1.0</td>\n      <td>1.0</td>\n      <td>1.0</td>\n    </tr>\n    <tr>\n      <th>WIN_20210414_06_24_52_Pro</th>\n      <td>1.0</td>\n      <td>1.0</td>\n      <td>1.0</td>\n      <td>1.0</td>\n      <td>1.0</td>\n      <td>1.0</td>\n      <td>1.0</td>\n      <td>1.0</td>\n    </tr>\n    <tr>\n      <th>WIN_20210415_15_41_24_Pro</th>\n      <td>1.0</td>\n      <td>0.0</td>\n      <td>0.0</td>\n      <td>0.0</td>\n      <td>0.0</td>\n      <td>1.0</td>\n      <td>0.0</td>\n      <td>1.0</td>\n    </tr>\n    <tr>\n      <th>WIN_20210416_08_06_54_Pro</th>\n      <td>1.0</td>\n      <td>1.0</td>\n      <td>1.0</td>\n      <td>1.0</td>\n      <td>1.0</td>\n      <td>1.0</td>\n      <td>0.0</td>\n      <td>1.0</td>\n    </tr>\n    <tr>\n      <th>WIN_20210417_14_53_12_Pro</th>\n      <td>0.0</td>\n      <td>0.0</td>\n      <td>1.0</td>\n      <td>1.0</td>\n      <td>0.0</td>\n      <td>1.0</td>\n      <td>0.0</td>\n      <td>1.0</td>\n    </tr>\n  </tbody>\n</table>\n</div>"
     },
     "metadata": {},
     "execution_count": 35
    }
   ],
   "source": [
    "ypredict_stress_diapo # un peu nul - le modèle prédit 1 partout"
   ]
  },
  {
   "cell_type": "code",
   "execution_count": 36,
   "metadata": {},
   "outputs": [
    {
     "output_type": "execute_result",
     "data": {
      "text/plain": [
       "                                   1    8    9   10   11   12   17   18  \\\n",
       "video_name                                                                \n",
       "Test_pour_AFPA                   1.0  1.0  0.0  0.0  0.0  1.0  0.0  1.0   \n",
       "Video_1                          0.0  0.0  0.0  0.0  1.0  1.0  1.0  1.0   \n",
       "WIN_20210323_19_17_40_Pro        1.0  0.0  1.0  1.0  1.0  1.0  1.0  1.0   \n",
       "WIN_20210329_10_16_02_Pro        0.0  0.0  1.0  1.0  0.0  1.0  0.0  0.0   \n",
       "WIN_20210330_13_10_29_Pro        0.0  0.0  0.0  0.0  1.0  0.0  0.0  0.0   \n",
       "WIN_20210331_21_22_52_Pro        0.0  0.0  1.0  1.0  1.0  1.0  0.0  0.0   \n",
       "WIN_20210402_14_27_50_Pro        1.0  1.0  1.0  2.0  1.0  1.0  1.0  1.0   \n",
       "WIN_20210402_19_04_53_Pro        2.0  1.0  1.0  1.0  1.0  2.0  1.0  2.0   \n",
       "WIN_20210403_18_49_15_Pro        1.0  1.0  1.0  1.0  1.0  2.0  2.0  1.0   \n",
       "WIN_20210404_10_58_27_Pro        0.0  1.0  1.0  1.0  1.0  1.0  1.0  1.0   \n",
       "WIN_20210404_21_41_12_Pro        0.0  0.0  1.0  0.0  0.0  1.0  0.0  1.0   \n",
       "WIN_20210405_15_09_16_Pro        0.0  1.0  1.0  1.0  1.0  0.0  0.0  1.0   \n",
       "WIN_20210406_15_06_15_Pro        1.0  1.0  1.0  1.0  1.0  2.0  1.0  2.0   \n",
       "WIN_20210406_18_35_52_Pro        0.0  0.0  1.0  0.0  0.0  1.0  0.0  1.0   \n",
       "WIN_20210406_18_49_10_Pro        1.0  0.0  1.0  1.0  1.0  1.0  1.0  1.0   \n",
       "WIN_20210406_21_05_52_Pro        1.0  2.0  2.0  1.0  2.0  1.0  1.0  1.0   \n",
       "WIN_20210407_09_04_05_Pro        0.0  0.0  2.0  1.0  3.0  1.0  0.0  2.0   \n",
       "WIN_20210407_14_54_56_Pro_edit2  0.0  0.0  0.0  0.0  0.0  1.0  0.0  1.0   \n",
       "WIN_20210408_11_48_58_Pro        0.0  1.0  1.0  1.0  1.0  1.0  1.0  2.0   \n",
       "WIN_20210408_14_00_44_Pro        0.0  0.0  0.0  0.0  0.0  1.0  0.0  0.0   \n",
       "WIN_20210408_14_02_19_Pro        0.0  1.0  0.0  0.0  0.0  0.0  0.0  1.0   \n",
       "WIN_20210408_14_11_32_Pro        0.0  2.0  2.0  2.0  2.0  1.0  0.0  1.0   \n",
       "WIN_20210408_15_20_51_Pro        0.0  0.0  0.0  0.0  0.0  0.0  0.0  0.0   \n",
       "WIN_20210408_16_04_32_Pro        0.0  0.0  1.0  0.0  0.0  0.0  0.0  0.0   \n",
       "WIN_20210409_10_26_11_Pro        1.0  1.0  0.0  1.0  0.0  0.0  1.0  1.0   \n",
       "WIN_20210413_15_38_01_Pro        1.0  0.0  0.0  0.0  0.0  1.0  1.0  1.0   \n",
       "WIN_20210414_06_24_52_Pro        2.0  2.0  2.0  2.0  2.0  1.0  1.0  2.0   \n",
       "WIN_20210415_15_41_24_Pro        1.0  0.0  0.0  1.0  0.0  0.0  0.0  0.0   \n",
       "WIN_20210416_08_06_54_Pro        1.0  2.0  1.0  1.0  1.0  0.0  0.0  1.0   \n",
       "WIN_20210417_14_53_12_Pro        0.0  0.0  0.0  0.0  0.0  0.0  1.0  1.0   \n",
       "\n",
       "                                 stress_global  \n",
       "video_name                                      \n",
       "Test_pour_AFPA                             1.0  \n",
       "Video_1                                    0.0  \n",
       "WIN_20210323_19_17_40_Pro                  1.0  \n",
       "WIN_20210329_10_16_02_Pro                  1.0  \n",
       "WIN_20210330_13_10_29_Pro                  0.0  \n",
       "WIN_20210331_21_22_52_Pro                  1.0  \n",
       "WIN_20210402_14_27_50_Pro                  1.0  \n",
       "WIN_20210402_19_04_53_Pro                  2.0  \n",
       "WIN_20210403_18_49_15_Pro                  2.0  \n",
       "WIN_20210404_10_58_27_Pro                  1.0  \n",
       "WIN_20210404_21_41_12_Pro                  0.0  \n",
       "WIN_20210405_15_09_16_Pro                  1.0  \n",
       "WIN_20210406_15_06_15_Pro                  2.0  \n",
       "WIN_20210406_18_35_52_Pro                  0.0  \n",
       "WIN_20210406_18_49_10_Pro                  1.0  \n",
       "WIN_20210406_21_05_52_Pro                  2.0  \n",
       "WIN_20210407_09_04_05_Pro                  2.0  \n",
       "WIN_20210407_14_54_56_Pro_edit2            0.0  \n",
       "WIN_20210408_11_48_58_Pro                  2.0  \n",
       "WIN_20210408_14_00_44_Pro                  0.0  \n",
       "WIN_20210408_14_02_19_Pro                  0.0  \n",
       "WIN_20210408_14_11_32_Pro                  2.0  \n",
       "WIN_20210408_15_20_51_Pro                  0.0  \n",
       "WIN_20210408_16_04_32_Pro                  0.0  \n",
       "WIN_20210409_10_26_11_Pro                  0.0  \n",
       "WIN_20210413_15_38_01_Pro                  1.0  \n",
       "WIN_20210414_06_24_52_Pro                  2.0  \n",
       "WIN_20210415_15_41_24_Pro                  0.0  \n",
       "WIN_20210416_08_06_54_Pro                  1.0  \n",
       "WIN_20210417_14_53_12_Pro                  0.0  "
      ],
      "text/html": "<div>\n<style scoped>\n    .dataframe tbody tr th:only-of-type {\n        vertical-align: middle;\n    }\n\n    .dataframe tbody tr th {\n        vertical-align: top;\n    }\n\n    .dataframe thead th {\n        text-align: right;\n    }\n</style>\n<table border=\"1\" class=\"dataframe\">\n  <thead>\n    <tr style=\"text-align: right;\">\n      <th></th>\n      <th>1</th>\n      <th>8</th>\n      <th>9</th>\n      <th>10</th>\n      <th>11</th>\n      <th>12</th>\n      <th>17</th>\n      <th>18</th>\n      <th>stress_global</th>\n    </tr>\n    <tr>\n      <th>video_name</th>\n      <th></th>\n      <th></th>\n      <th></th>\n      <th></th>\n      <th></th>\n      <th></th>\n      <th></th>\n      <th></th>\n      <th></th>\n    </tr>\n  </thead>\n  <tbody>\n    <tr>\n      <th>Test_pour_AFPA</th>\n      <td>1.0</td>\n      <td>1.0</td>\n      <td>0.0</td>\n      <td>0.0</td>\n      <td>0.0</td>\n      <td>1.0</td>\n      <td>0.0</td>\n      <td>1.0</td>\n      <td>1.0</td>\n    </tr>\n    <tr>\n      <th>Video_1</th>\n      <td>0.0</td>\n      <td>0.0</td>\n      <td>0.0</td>\n      <td>0.0</td>\n      <td>1.0</td>\n      <td>1.0</td>\n      <td>1.0</td>\n      <td>1.0</td>\n      <td>0.0</td>\n    </tr>\n    <tr>\n      <th>WIN_20210323_19_17_40_Pro</th>\n      <td>1.0</td>\n      <td>0.0</td>\n      <td>1.0</td>\n      <td>1.0</td>\n      <td>1.0</td>\n      <td>1.0</td>\n      <td>1.0</td>\n      <td>1.0</td>\n      <td>1.0</td>\n    </tr>\n    <tr>\n      <th>WIN_20210329_10_16_02_Pro</th>\n      <td>0.0</td>\n      <td>0.0</td>\n      <td>1.0</td>\n      <td>1.0</td>\n      <td>0.0</td>\n      <td>1.0</td>\n      <td>0.0</td>\n      <td>0.0</td>\n      <td>1.0</td>\n    </tr>\n    <tr>\n      <th>WIN_20210330_13_10_29_Pro</th>\n      <td>0.0</td>\n      <td>0.0</td>\n      <td>0.0</td>\n      <td>0.0</td>\n      <td>1.0</td>\n      <td>0.0</td>\n      <td>0.0</td>\n      <td>0.0</td>\n      <td>0.0</td>\n    </tr>\n    <tr>\n      <th>WIN_20210331_21_22_52_Pro</th>\n      <td>0.0</td>\n      <td>0.0</td>\n      <td>1.0</td>\n      <td>1.0</td>\n      <td>1.0</td>\n      <td>1.0</td>\n      <td>0.0</td>\n      <td>0.0</td>\n      <td>1.0</td>\n    </tr>\n    <tr>\n      <th>WIN_20210402_14_27_50_Pro</th>\n      <td>1.0</td>\n      <td>1.0</td>\n      <td>1.0</td>\n      <td>2.0</td>\n      <td>1.0</td>\n      <td>1.0</td>\n      <td>1.0</td>\n      <td>1.0</td>\n      <td>1.0</td>\n    </tr>\n    <tr>\n      <th>WIN_20210402_19_04_53_Pro</th>\n      <td>2.0</td>\n      <td>1.0</td>\n      <td>1.0</td>\n      <td>1.0</td>\n      <td>1.0</td>\n      <td>2.0</td>\n      <td>1.0</td>\n      <td>2.0</td>\n      <td>2.0</td>\n    </tr>\n    <tr>\n      <th>WIN_20210403_18_49_15_Pro</th>\n      <td>1.0</td>\n      <td>1.0</td>\n      <td>1.0</td>\n      <td>1.0</td>\n      <td>1.0</td>\n      <td>2.0</td>\n      <td>2.0</td>\n      <td>1.0</td>\n      <td>2.0</td>\n    </tr>\n    <tr>\n      <th>WIN_20210404_10_58_27_Pro</th>\n      <td>0.0</td>\n      <td>1.0</td>\n      <td>1.0</td>\n      <td>1.0</td>\n      <td>1.0</td>\n      <td>1.0</td>\n      <td>1.0</td>\n      <td>1.0</td>\n      <td>1.0</td>\n    </tr>\n    <tr>\n      <th>WIN_20210404_21_41_12_Pro</th>\n      <td>0.0</td>\n      <td>0.0</td>\n      <td>1.0</td>\n      <td>0.0</td>\n      <td>0.0</td>\n      <td>1.0</td>\n      <td>0.0</td>\n      <td>1.0</td>\n      <td>0.0</td>\n    </tr>\n    <tr>\n      <th>WIN_20210405_15_09_16_Pro</th>\n      <td>0.0</td>\n      <td>1.0</td>\n      <td>1.0</td>\n      <td>1.0</td>\n      <td>1.0</td>\n      <td>0.0</td>\n      <td>0.0</td>\n      <td>1.0</td>\n      <td>1.0</td>\n    </tr>\n    <tr>\n      <th>WIN_20210406_15_06_15_Pro</th>\n      <td>1.0</td>\n      <td>1.0</td>\n      <td>1.0</td>\n      <td>1.0</td>\n      <td>1.0</td>\n      <td>2.0</td>\n      <td>1.0</td>\n      <td>2.0</td>\n      <td>2.0</td>\n    </tr>\n    <tr>\n      <th>WIN_20210406_18_35_52_Pro</th>\n      <td>0.0</td>\n      <td>0.0</td>\n      <td>1.0</td>\n      <td>0.0</td>\n      <td>0.0</td>\n      <td>1.0</td>\n      <td>0.0</td>\n      <td>1.0</td>\n      <td>0.0</td>\n    </tr>\n    <tr>\n      <th>WIN_20210406_18_49_10_Pro</th>\n      <td>1.0</td>\n      <td>0.0</td>\n      <td>1.0</td>\n      <td>1.0</td>\n      <td>1.0</td>\n      <td>1.0</td>\n      <td>1.0</td>\n      <td>1.0</td>\n      <td>1.0</td>\n    </tr>\n    <tr>\n      <th>WIN_20210406_21_05_52_Pro</th>\n      <td>1.0</td>\n      <td>2.0</td>\n      <td>2.0</td>\n      <td>1.0</td>\n      <td>2.0</td>\n      <td>1.0</td>\n      <td>1.0</td>\n      <td>1.0</td>\n      <td>2.0</td>\n    </tr>\n    <tr>\n      <th>WIN_20210407_09_04_05_Pro</th>\n      <td>0.0</td>\n      <td>0.0</td>\n      <td>2.0</td>\n      <td>1.0</td>\n      <td>3.0</td>\n      <td>1.0</td>\n      <td>0.0</td>\n      <td>2.0</td>\n      <td>2.0</td>\n    </tr>\n    <tr>\n      <th>WIN_20210407_14_54_56_Pro_edit2</th>\n      <td>0.0</td>\n      <td>0.0</td>\n      <td>0.0</td>\n      <td>0.0</td>\n      <td>0.0</td>\n      <td>1.0</td>\n      <td>0.0</td>\n      <td>1.0</td>\n      <td>0.0</td>\n    </tr>\n    <tr>\n      <th>WIN_20210408_11_48_58_Pro</th>\n      <td>0.0</td>\n      <td>1.0</td>\n      <td>1.0</td>\n      <td>1.0</td>\n      <td>1.0</td>\n      <td>1.0</td>\n      <td>1.0</td>\n      <td>2.0</td>\n      <td>2.0</td>\n    </tr>\n    <tr>\n      <th>WIN_20210408_14_00_44_Pro</th>\n      <td>0.0</td>\n      <td>0.0</td>\n      <td>0.0</td>\n      <td>0.0</td>\n      <td>0.0</td>\n      <td>1.0</td>\n      <td>0.0</td>\n      <td>0.0</td>\n      <td>0.0</td>\n    </tr>\n    <tr>\n      <th>WIN_20210408_14_02_19_Pro</th>\n      <td>0.0</td>\n      <td>1.0</td>\n      <td>0.0</td>\n      <td>0.0</td>\n      <td>0.0</td>\n      <td>0.0</td>\n      <td>0.0</td>\n      <td>1.0</td>\n      <td>0.0</td>\n    </tr>\n    <tr>\n      <th>WIN_20210408_14_11_32_Pro</th>\n      <td>0.0</td>\n      <td>2.0</td>\n      <td>2.0</td>\n      <td>2.0</td>\n      <td>2.0</td>\n      <td>1.0</td>\n      <td>0.0</td>\n      <td>1.0</td>\n      <td>2.0</td>\n    </tr>\n    <tr>\n      <th>WIN_20210408_15_20_51_Pro</th>\n      <td>0.0</td>\n      <td>0.0</td>\n      <td>0.0</td>\n      <td>0.0</td>\n      <td>0.0</td>\n      <td>0.0</td>\n      <td>0.0</td>\n      <td>0.0</td>\n      <td>0.0</td>\n    </tr>\n    <tr>\n      <th>WIN_20210408_16_04_32_Pro</th>\n      <td>0.0</td>\n      <td>0.0</td>\n      <td>1.0</td>\n      <td>0.0</td>\n      <td>0.0</td>\n      <td>0.0</td>\n      <td>0.0</td>\n      <td>0.0</td>\n      <td>0.0</td>\n    </tr>\n    <tr>\n      <th>WIN_20210409_10_26_11_Pro</th>\n      <td>1.0</td>\n      <td>1.0</td>\n      <td>0.0</td>\n      <td>1.0</td>\n      <td>0.0</td>\n      <td>0.0</td>\n      <td>1.0</td>\n      <td>1.0</td>\n      <td>0.0</td>\n    </tr>\n    <tr>\n      <th>WIN_20210413_15_38_01_Pro</th>\n      <td>1.0</td>\n      <td>0.0</td>\n      <td>0.0</td>\n      <td>0.0</td>\n      <td>0.0</td>\n      <td>1.0</td>\n      <td>1.0</td>\n      <td>1.0</td>\n      <td>1.0</td>\n    </tr>\n    <tr>\n      <th>WIN_20210414_06_24_52_Pro</th>\n      <td>2.0</td>\n      <td>2.0</td>\n      <td>2.0</td>\n      <td>2.0</td>\n      <td>2.0</td>\n      <td>1.0</td>\n      <td>1.0</td>\n      <td>2.0</td>\n      <td>2.0</td>\n    </tr>\n    <tr>\n      <th>WIN_20210415_15_41_24_Pro</th>\n      <td>1.0</td>\n      <td>0.0</td>\n      <td>0.0</td>\n      <td>1.0</td>\n      <td>0.0</td>\n      <td>0.0</td>\n      <td>0.0</td>\n      <td>0.0</td>\n      <td>0.0</td>\n    </tr>\n    <tr>\n      <th>WIN_20210416_08_06_54_Pro</th>\n      <td>1.0</td>\n      <td>2.0</td>\n      <td>1.0</td>\n      <td>1.0</td>\n      <td>1.0</td>\n      <td>0.0</td>\n      <td>0.0</td>\n      <td>1.0</td>\n      <td>1.0</td>\n    </tr>\n    <tr>\n      <th>WIN_20210417_14_53_12_Pro</th>\n      <td>0.0</td>\n      <td>0.0</td>\n      <td>0.0</td>\n      <td>0.0</td>\n      <td>0.0</td>\n      <td>0.0</td>\n      <td>1.0</td>\n      <td>1.0</td>\n      <td>0.0</td>\n    </tr>\n  </tbody>\n</table>\n</div>"
     },
     "metadata": {},
     "execution_count": 36
    }
   ],
   "source": [
    "df_annotations_stress = pd.read_csv('annotations.csv')\n",
    "#df_annotations_stress = df_annotations_stress.drop(df_annotations_stress.columns[-1],axis=1).set_index('video_name').stack()\n",
    "#df_annotations_stress = pd.DataFrame(df_annotations_stress).reset_index()\n",
    "#df_annotations_stress.columns = ['video_name','diapo','stress']\n",
    "df_annotations_stress = df_annotations_stress.set_index(['video_name'])\n",
    "#df_annotations_stress['diapo'] = df_annotations_stress['diapo'].astype(int)\n",
    "df_annotations_stress"
   ]
  },
  {
   "cell_type": "code",
   "execution_count": 37,
   "metadata": {},
   "outputs": [
    {
     "output_type": "stream",
     "name": "stdout",
     "text": [
      "Fitting 5 folds for each of 12 candidates, totalling 60 fits\n",
      "[Parallel(n_jobs=1)]: Using backend SequentialBackend with 1 concurrent workers.\n",
      "Best results 0.7651587301587301\n",
      "Best params {'C': 0.1, 'class_weight': None}\n",
      "[Parallel(n_jobs=1)]: Done  60 out of  60 | elapsed:    0.6s finished\n"
     ]
    }
   ],
   "source": [
    "# En utilisant les annotations dees stress des diapos comme X\n",
    "from sklearn.linear_model import LogisticRegression\n",
    "from sklearn.model_selection import cross_val_score, GridSearchCV\n",
    "from sklearn.metrics import accuracy_score, f1_score\n",
    "import warnings\n",
    "warnings.filterwarnings(\"ignore\")\n",
    "\n",
    "parameters = {'C': [0.01, 0.05, 0.1, 0.5, 1, 2], 'class_weight' : [None, 'balanced']}\n",
    "\n",
    "X = df_annotations_stress.iloc[:,:-1]\n",
    "#X = ypredict_stress_diapo\n",
    "y = df_annotations_stress.iloc[:,-1]\n",
    "\n",
    "model = LogisticRegression(multi_class='multinomial', fit_intercept=True, random_state=42)\n",
    "clf = GridSearchCV(estimator=model, \n",
    "                    param_grid=parameters, \n",
    "                    scoring={'accuracy_score' : 'accuracy', 'f1_score' : 'f1_weighted' }, \n",
    "                    refit='f1_score',\n",
    "                    cv=5, verbose=1)\n",
    "clf.fit(X, y)\n",
    "print('Best results', clf.best_score_)\n",
    "print('Best params', clf.best_params_)\n",
    "\n",
    "# Prediction\n",
    "#clf.best_estimator_.fit(X,y)\n",
    "#ypredict_stress_global = clf.best_estimator_.predict(ypredict_stress_diapo)"
   ]
  },
  {
   "cell_type": "code",
   "execution_count": 58,
   "metadata": {},
   "outputs": [],
   "source": [
    "from sklearn.model_selection import cross_val_predict\n",
    "ypredict_stress_global = cross_val_predict(clf.best_estimator_,X,y,cv=5)"
   ]
  },
  {
   "cell_type": "code",
   "execution_count": 59,
   "metadata": {},
   "outputs": [
    {
     "output_type": "execute_result",
     "data": {
      "text/plain": [
       "array([0., 0., 0., 0., 0., 0., 2., 0., 0., 2., 0., 0., 0., 0., 0., 1., 0.,\n",
       "       0., 0., 0., 0., 0., 2., 0., 0., 0., 0., 0., 0., 2.])"
      ]
     },
     "metadata": {},
     "execution_count": 59
    }
   ],
   "source": [
    "ypredict_stress_global"
   ]
  },
  {
   "cell_type": "code",
   "execution_count": 60,
   "metadata": {},
   "outputs": [],
   "source": [
    "df_ypredict_stress_global = pd.concat([ypredict_stress_diapo.reset_index(), pd.DataFrame(ypredict_stress_global,columns=['predicted_stress_global'])], axis=1) \n",
    "df_ypredict_stress_global = df_ypredict_stress_global.set_index('video_name').sort_index()\n",
    "df_ypredict_stress_global = df_ypredict_stress_global.iloc[:,-1]"
   ]
  },
  {
   "cell_type": "code",
   "execution_count": 63,
   "metadata": {},
   "outputs": [
    {
     "output_type": "stream",
     "name": "stdout",
     "text": [
      "Accuracy 0.3333333333333333\nF1 0.21621621621621623\n"
     ]
    }
   ],
   "source": [
    "from sklearn.metrics import accuracy_score, f1_score\n",
    "print('Accuracy',accuracy_score(y.values,ypredict_stress_global))\n",
    "print('F1',f1_score(y.values,ypredict_stress_global, average='weighted'))"
   ]
  },
  {
   "cell_type": "code",
   "execution_count": 66,
   "metadata": {},
   "outputs": [
    {
     "output_type": "execute_result",
     "data": {
      "text/plain": [
       "    stress_global  stress_global_predict\n",
       "0             1.0                    0.0\n",
       "1             0.0                    0.0\n",
       "2             1.0                    0.0\n",
       "3             1.0                    0.0\n",
       "4             0.0                    0.0\n",
       "5             1.0                    0.0\n",
       "6             1.0                    2.0\n",
       "7             2.0                    0.0\n",
       "8             2.0                    0.0\n",
       "9             1.0                    2.0\n",
       "10            0.0                    0.0\n",
       "11            1.0                    0.0\n",
       "12            2.0                    0.0\n",
       "13            0.0                    0.0\n",
       "14            1.0                    0.0\n",
       "15            2.0                    1.0\n",
       "16            2.0                    0.0\n",
       "17            0.0                    0.0\n",
       "18            2.0                    0.0\n",
       "19            0.0                    0.0\n",
       "20            0.0                    0.0\n",
       "21            2.0                    0.0\n",
       "22            0.0                    2.0\n",
       "23            0.0                    0.0\n",
       "24            0.0                    0.0\n",
       "25            1.0                    0.0\n",
       "26            2.0                    0.0\n",
       "27            0.0                    0.0\n",
       "28            1.0                    0.0\n",
       "29            0.0                    2.0"
      ],
      "text/html": "<div>\n<style scoped>\n    .dataframe tbody tr th:only-of-type {\n        vertical-align: middle;\n    }\n\n    .dataframe tbody tr th {\n        vertical-align: top;\n    }\n\n    .dataframe thead th {\n        text-align: right;\n    }\n</style>\n<table border=\"1\" class=\"dataframe\">\n  <thead>\n    <tr style=\"text-align: right;\">\n      <th></th>\n      <th>stress_global</th>\n      <th>stress_global_predict</th>\n    </tr>\n  </thead>\n  <tbody>\n    <tr>\n      <th>0</th>\n      <td>1.0</td>\n      <td>0.0</td>\n    </tr>\n    <tr>\n      <th>1</th>\n      <td>0.0</td>\n      <td>0.0</td>\n    </tr>\n    <tr>\n      <th>2</th>\n      <td>1.0</td>\n      <td>0.0</td>\n    </tr>\n    <tr>\n      <th>3</th>\n      <td>1.0</td>\n      <td>0.0</td>\n    </tr>\n    <tr>\n      <th>4</th>\n      <td>0.0</td>\n      <td>0.0</td>\n    </tr>\n    <tr>\n      <th>5</th>\n      <td>1.0</td>\n      <td>0.0</td>\n    </tr>\n    <tr>\n      <th>6</th>\n      <td>1.0</td>\n      <td>2.0</td>\n    </tr>\n    <tr>\n      <th>7</th>\n      <td>2.0</td>\n      <td>0.0</td>\n    </tr>\n    <tr>\n      <th>8</th>\n      <td>2.0</td>\n      <td>0.0</td>\n    </tr>\n    <tr>\n      <th>9</th>\n      <td>1.0</td>\n      <td>2.0</td>\n    </tr>\n    <tr>\n      <th>10</th>\n      <td>0.0</td>\n      <td>0.0</td>\n    </tr>\n    <tr>\n      <th>11</th>\n      <td>1.0</td>\n      <td>0.0</td>\n    </tr>\n    <tr>\n      <th>12</th>\n      <td>2.0</td>\n      <td>0.0</td>\n    </tr>\n    <tr>\n      <th>13</th>\n      <td>0.0</td>\n      <td>0.0</td>\n    </tr>\n    <tr>\n      <th>14</th>\n      <td>1.0</td>\n      <td>0.0</td>\n    </tr>\n    <tr>\n      <th>15</th>\n      <td>2.0</td>\n      <td>1.0</td>\n    </tr>\n    <tr>\n      <th>16</th>\n      <td>2.0</td>\n      <td>0.0</td>\n    </tr>\n    <tr>\n      <th>17</th>\n      <td>0.0</td>\n      <td>0.0</td>\n    </tr>\n    <tr>\n      <th>18</th>\n      <td>2.0</td>\n      <td>0.0</td>\n    </tr>\n    <tr>\n      <th>19</th>\n      <td>0.0</td>\n      <td>0.0</td>\n    </tr>\n    <tr>\n      <th>20</th>\n      <td>0.0</td>\n      <td>0.0</td>\n    </tr>\n    <tr>\n      <th>21</th>\n      <td>2.0</td>\n      <td>0.0</td>\n    </tr>\n    <tr>\n      <th>22</th>\n      <td>0.0</td>\n      <td>2.0</td>\n    </tr>\n    <tr>\n      <th>23</th>\n      <td>0.0</td>\n      <td>0.0</td>\n    </tr>\n    <tr>\n      <th>24</th>\n      <td>0.0</td>\n      <td>0.0</td>\n    </tr>\n    <tr>\n      <th>25</th>\n      <td>1.0</td>\n      <td>0.0</td>\n    </tr>\n    <tr>\n      <th>26</th>\n      <td>2.0</td>\n      <td>0.0</td>\n    </tr>\n    <tr>\n      <th>27</th>\n      <td>0.0</td>\n      <td>0.0</td>\n    </tr>\n    <tr>\n      <th>28</th>\n      <td>1.0</td>\n      <td>0.0</td>\n    </tr>\n    <tr>\n      <th>29</th>\n      <td>0.0</td>\n      <td>2.0</td>\n    </tr>\n  </tbody>\n</table>\n</div>"
     },
     "metadata": {},
     "execution_count": 66
    }
   ],
   "source": [
    "pd.concat([y, pd.DataFrame(ypredict_stress_global,columns=['stress_global_predict'])],axis=1)"
   ]
  },
  {
   "source": [
    "#### Autre méthode"
   ],
   "cell_type": "markdown",
   "metadata": {}
  },
  {
   "cell_type": "code",
   "execution_count": 70,
   "metadata": {},
   "outputs": [
    {
     "output_type": "stream",
     "name": "stdout",
     "text": [
      "Fitting 30 folds for each of 12 candidates, totalling 360 fits\n",
      "[Parallel(n_jobs=1)]: Using backend SequentialBackend with 1 concurrent workers.\n",
      "Best results 0.4\n",
      "Best params {'C': 0.01, 'class_weight': None}\n",
      "accuracy (mean, std) 0.4 0.4898979485566357\n",
      "f1 (mean, std) 0.4 0.4898979485566357\n",
      "[Parallel(n_jobs=1)]: Done 360 out of 360 | elapsed:    4.0s finished\n"
     ]
    }
   ],
   "source": [
    "# En utilisant les prédictions des stress des diapos comme X (et non les annotations)\n",
    "from sklearn.model_selection import LeaveOneGroupOut\n",
    "from sklearn.linear_model import LogisticRegression\n",
    "from sklearn.model_selection import cross_val_score, GridSearchCV\n",
    "from sklearn.metrics import accuracy_score, f1_score\n",
    "import warnings\n",
    "warnings.filterwarnings(\"ignore\")\n",
    "\n",
    "#X = df_annotations_stress.iloc[:,:-1]\n",
    "X = ypredict_stress_diapo\n",
    "y = df_annotations_stress.iloc[:,-1]\n",
    "\n",
    "groups = X.reset_index()['video_name']\n",
    "loo = LeaveOneGroupOut()\n",
    "cv_loo = loo.split(X, y, groups)\n",
    "\n",
    "parameters = {'C': [0.01, 0.05, 0.1, 0.5, 1, 2], 'class_weight' : [None, 'balanced']}\n",
    "\n",
    "model = LogisticRegression(multi_class='multinomial', fit_intercept=True, random_state=42)\n",
    "\n",
    "#from sklearn.neighbors import KNeighborsClassifier\n",
    "#model = KNeighborsClassifier(n_jobs=-1)\n",
    "#parameters = {'n_neighbors': [4, 5, 6, 7, 8, 9, 10, 11, 12,  15, 20], 'weights' : ['uniform', 'distance'], 'p': [1, 2]}\n",
    "\n",
    "#from sklearn.ensemble import RandomForestClassifier, RandomForestRegressor\n",
    "#model = RandomForestClassifier(random_state = 42, n_jobs=-1)\n",
    "#parameters = {'n_estimators': [50, 100, 150, 200], 'max_depth':[3, 4, 5, 6, 10, 15, 20], 'class_weight':[None,'balanced']}\n",
    "\n",
    "clf = GridSearchCV(estimator=model, \n",
    "                    param_grid=parameters, \n",
    "                    scoring={'accuracy_score' : 'accuracy', 'f1_score' : 'f1_weighted' }, \n",
    "                    refit='f1_score',\n",
    "                    cv=cv_loo, verbose=1)\n",
    "clf.fit(X, y)\n",
    "print('Best results', clf.best_score_)\n",
    "print('Best params', clf.best_params_)\n",
    "print('accuracy (mean, std)', clf.cv_results_['mean_test_accuracy_score'][clf.best_index_], clf.cv_results_['std_test_accuracy_score'][clf.best_index_])\n",
    "print('f1 (mean, std)', clf.cv_results_['mean_test_f1_score'][clf.best_index_], clf.cv_results_['std_test_f1_score'][clf.best_index_])\n",
    "\n"
   ]
  },
  {
   "cell_type": "code",
   "execution_count": 71,
   "metadata": {},
   "outputs": [],
   "source": [
    "# Getting predictions with a leave one interview out\n",
    "from sklearn.model_selection import LeaveOneGroupOut\n",
    "from sklearn.linear_model import LogisticRegression\n",
    "groups = X.reset_index()['video_name']\n",
    "loo = LeaveOneGroupOut()\n",
    "cv_loo = loo.split(X, y, groups)\n",
    "\n",
    "model = clf.best_estimator_\n",
    "\n",
    "ytest_predict = np.zeros(len(y))\n",
    "for train_index, test_index in loo.split(X, y, groups):\n",
    "    #print(train_index, test_index)\n",
    "    Xtrain, Xtest = X.iloc[train_index], X.iloc[test_index]\n",
    "    ytrain, ytest = y.iloc[train_index], y.iloc[test_index]\n",
    "\n",
    "    model.fit(Xtrain, ytrain)\n",
    "    ytest_predict_temp = model.predict(Xtest)\n",
    "    #print(ytest_predict_temp.shape)\n",
    "    #print(test_index.shape)\n",
    "    ytest_predict[test_index] = ytest_predict_temp\n",
    "y_predict = ytest_predict\n",
    "\n",
    "df_ypredict = pd.concat([X.reset_index()[['video_name']],pd.DataFrame(y_predict, columns=['ypredict'])],axis=1)\n",
    "df_ypredict.columns = ['video_name','ypredict']\n",
    "df_ypredict.to_csv('ypredict_' + features + '_tw5_diapo_2bis.csv')"
   ]
  },
  {
   "source": [
    "### En utilisant le stress prédit des time windows 5s"
   ],
   "cell_type": "markdown",
   "metadata": {}
  },
  {
   "cell_type": "code",
   "execution_count": 72,
   "metadata": {},
   "outputs": [
    {
     "output_type": "execute_result",
     "data": {
      "text/plain": [
       "ypredict                                0         1         2\n",
       "video_name                                                   \n",
       "Test_pour_AFPA                   0.079365  0.116402  0.804233\n",
       "Video_1                          0.788079  0.211921  0.000000\n",
       "WIN_20210323_19_17_40_Pro        0.505952  0.488095  0.005952\n",
       "WIN_20210329_10_16_02_Pro        0.006803  0.986395  0.006803\n",
       "WIN_20210330_13_10_29_Pro        0.231788  0.708609  0.059603\n",
       "WIN_20210331_21_22_52_Pro        0.529412  0.441176  0.029412\n",
       "WIN_20210402_14_27_50_Pro        0.032258  0.446237  0.521505\n",
       "WIN_20210402_19_04_53_Pro        0.502857  0.462857  0.034286\n",
       "WIN_20210403_18_49_15_Pro        0.441989  0.558011  0.000000\n",
       "WIN_20210404_10_58_27_Pro        0.385000  0.055000  0.560000\n",
       "WIN_20210404_21_41_12_Pro        0.418103  0.581897  0.000000\n",
       "WIN_20210405_15_09_16_Pro        0.658065  0.335484  0.006452\n",
       "WIN_20210406_15_06_15_Pro        0.239024  0.760976  0.000000\n",
       "WIN_20210406_18_35_52_Pro        0.626582  0.373418  0.000000\n",
       "WIN_20210406_18_49_10_Pro        0.380117  0.619883  0.000000\n",
       "WIN_20210406_21_05_52_Pro        0.421622  0.578378  0.000000\n",
       "WIN_20210407_09_04_05_Pro        0.890052  0.099476  0.010471\n",
       "WIN_20210407_14_54_56_Pro_edit2  0.616352  0.383648  0.000000\n",
       "WIN_20210408_11_48_58_Pro        0.040000  0.560000  0.400000\n",
       "WIN_20210408_14_00_44_Pro        0.910112  0.089888  0.000000\n",
       "WIN_20210408_14_02_19_Pro        0.400000  0.600000  0.000000\n",
       "WIN_20210408_14_11_32_Pro        0.032051  0.846154  0.121795\n",
       "WIN_20210408_15_20_51_Pro        0.186275  0.357843  0.455882\n",
       "WIN_20210408_16_04_32_Pro        0.264706  0.735294  0.000000\n",
       "WIN_20210409_10_26_11_Pro        0.312139  0.687861  0.000000\n",
       "WIN_20210413_15_38_01_Pro        0.323699  0.676301  0.000000\n",
       "WIN_20210414_06_24_52_Pro        0.243523  0.580311  0.176166\n",
       "WIN_20210415_15_41_24_Pro        0.686636  0.313364  0.000000\n",
       "WIN_20210416_08_06_54_Pro        0.171779  0.828221  0.000000\n",
       "WIN_20210417_14_53_12_Pro        0.503817  0.496183  0.000000"
      ],
      "text/html": "<div>\n<style scoped>\n    .dataframe tbody tr th:only-of-type {\n        vertical-align: middle;\n    }\n\n    .dataframe tbody tr th {\n        vertical-align: top;\n    }\n\n    .dataframe thead th {\n        text-align: right;\n    }\n</style>\n<table border=\"1\" class=\"dataframe\">\n  <thead>\n    <tr style=\"text-align: right;\">\n      <th>ypredict</th>\n      <th>0</th>\n      <th>1</th>\n      <th>2</th>\n    </tr>\n    <tr>\n      <th>video_name</th>\n      <th></th>\n      <th></th>\n      <th></th>\n    </tr>\n  </thead>\n  <tbody>\n    <tr>\n      <th>Test_pour_AFPA</th>\n      <td>0.079365</td>\n      <td>0.116402</td>\n      <td>0.804233</td>\n    </tr>\n    <tr>\n      <th>Video_1</th>\n      <td>0.788079</td>\n      <td>0.211921</td>\n      <td>0.000000</td>\n    </tr>\n    <tr>\n      <th>WIN_20210323_19_17_40_Pro</th>\n      <td>0.505952</td>\n      <td>0.488095</td>\n      <td>0.005952</td>\n    </tr>\n    <tr>\n      <th>WIN_20210329_10_16_02_Pro</th>\n      <td>0.006803</td>\n      <td>0.986395</td>\n      <td>0.006803</td>\n    </tr>\n    <tr>\n      <th>WIN_20210330_13_10_29_Pro</th>\n      <td>0.231788</td>\n      <td>0.708609</td>\n      <td>0.059603</td>\n    </tr>\n    <tr>\n      <th>WIN_20210331_21_22_52_Pro</th>\n      <td>0.529412</td>\n      <td>0.441176</td>\n      <td>0.029412</td>\n    </tr>\n    <tr>\n      <th>WIN_20210402_14_27_50_Pro</th>\n      <td>0.032258</td>\n      <td>0.446237</td>\n      <td>0.521505</td>\n    </tr>\n    <tr>\n      <th>WIN_20210402_19_04_53_Pro</th>\n      <td>0.502857</td>\n      <td>0.462857</td>\n      <td>0.034286</td>\n    </tr>\n    <tr>\n      <th>WIN_20210403_18_49_15_Pro</th>\n      <td>0.441989</td>\n      <td>0.558011</td>\n      <td>0.000000</td>\n    </tr>\n    <tr>\n      <th>WIN_20210404_10_58_27_Pro</th>\n      <td>0.385000</td>\n      <td>0.055000</td>\n      <td>0.560000</td>\n    </tr>\n    <tr>\n      <th>WIN_20210404_21_41_12_Pro</th>\n      <td>0.418103</td>\n      <td>0.581897</td>\n      <td>0.000000</td>\n    </tr>\n    <tr>\n      <th>WIN_20210405_15_09_16_Pro</th>\n      <td>0.658065</td>\n      <td>0.335484</td>\n      <td>0.006452</td>\n    </tr>\n    <tr>\n      <th>WIN_20210406_15_06_15_Pro</th>\n      <td>0.239024</td>\n      <td>0.760976</td>\n      <td>0.000000</td>\n    </tr>\n    <tr>\n      <th>WIN_20210406_18_35_52_Pro</th>\n      <td>0.626582</td>\n      <td>0.373418</td>\n      <td>0.000000</td>\n    </tr>\n    <tr>\n      <th>WIN_20210406_18_49_10_Pro</th>\n      <td>0.380117</td>\n      <td>0.619883</td>\n      <td>0.000000</td>\n    </tr>\n    <tr>\n      <th>WIN_20210406_21_05_52_Pro</th>\n      <td>0.421622</td>\n      <td>0.578378</td>\n      <td>0.000000</td>\n    </tr>\n    <tr>\n      <th>WIN_20210407_09_04_05_Pro</th>\n      <td>0.890052</td>\n      <td>0.099476</td>\n      <td>0.010471</td>\n    </tr>\n    <tr>\n      <th>WIN_20210407_14_54_56_Pro_edit2</th>\n      <td>0.616352</td>\n      <td>0.383648</td>\n      <td>0.000000</td>\n    </tr>\n    <tr>\n      <th>WIN_20210408_11_48_58_Pro</th>\n      <td>0.040000</td>\n      <td>0.560000</td>\n      <td>0.400000</td>\n    </tr>\n    <tr>\n      <th>WIN_20210408_14_00_44_Pro</th>\n      <td>0.910112</td>\n      <td>0.089888</td>\n      <td>0.000000</td>\n    </tr>\n    <tr>\n      <th>WIN_20210408_14_02_19_Pro</th>\n      <td>0.400000</td>\n      <td>0.600000</td>\n      <td>0.000000</td>\n    </tr>\n    <tr>\n      <th>WIN_20210408_14_11_32_Pro</th>\n      <td>0.032051</td>\n      <td>0.846154</td>\n      <td>0.121795</td>\n    </tr>\n    <tr>\n      <th>WIN_20210408_15_20_51_Pro</th>\n      <td>0.186275</td>\n      <td>0.357843</td>\n      <td>0.455882</td>\n    </tr>\n    <tr>\n      <th>WIN_20210408_16_04_32_Pro</th>\n      <td>0.264706</td>\n      <td>0.735294</td>\n      <td>0.000000</td>\n    </tr>\n    <tr>\n      <th>WIN_20210409_10_26_11_Pro</th>\n      <td>0.312139</td>\n      <td>0.687861</td>\n      <td>0.000000</td>\n    </tr>\n    <tr>\n      <th>WIN_20210413_15_38_01_Pro</th>\n      <td>0.323699</td>\n      <td>0.676301</td>\n      <td>0.000000</td>\n    </tr>\n    <tr>\n      <th>WIN_20210414_06_24_52_Pro</th>\n      <td>0.243523</td>\n      <td>0.580311</td>\n      <td>0.176166</td>\n    </tr>\n    <tr>\n      <th>WIN_20210415_15_41_24_Pro</th>\n      <td>0.686636</td>\n      <td>0.313364</td>\n      <td>0.000000</td>\n    </tr>\n    <tr>\n      <th>WIN_20210416_08_06_54_Pro</th>\n      <td>0.171779</td>\n      <td>0.828221</td>\n      <td>0.000000</td>\n    </tr>\n    <tr>\n      <th>WIN_20210417_14_53_12_Pro</th>\n      <td>0.503817</td>\n      <td>0.496183</td>\n      <td>0.000000</td>\n    </tr>\n  </tbody>\n</table>\n</div>"
     },
     "metadata": {},
     "execution_count": 72
    }
   ],
   "source": [
    "df_ypredict = pd.read_csv('ypredict_' + features + '_tw5_2.csv')\n",
    "df_ypredict = df_ypredict.iloc[:,1:]\n",
    "df_ypredict.columns = ['video_name','diapo','frameTimeWindow','ypredict']\n",
    "df_ypredict['ypredict'] = df_ypredict['ypredict'].astype(int)\n",
    "df_ypredict = df_ypredict.pivot_table(values='frameTimeWindow', columns='ypredict', index='video_name', aggfunc='count', fill_value=0)\n",
    "df_ypredict_sum = df_ypredict.sum(axis=1).values.copy()\n",
    "for col_number in range(len(df_ypredict.columns)):\n",
    "    df_ypredict.iloc[:,col_number] = df_ypredict.iloc[:,col_number] / df_ypredict_sum\n",
    "#df_ypredict = df_ypredict.reset_index()\n",
    "df_ypredict\n"
   ]
  },
  {
   "cell_type": "code",
   "execution_count": 73,
   "metadata": {},
   "outputs": [],
   "source": [
    "#df_ypredict[['video_name','diapo','ypredict']].groupby(['video_name','diapo']).agg({'mean','min','max', 'median', 'std', #percentil25, percentil75, kurtosis, skew})"
   ]
  },
  {
   "cell_type": "code",
   "execution_count": 74,
   "metadata": {},
   "outputs": [],
   "source": [
    "df_annotations_stress = pd.read_csv('annotations.csv')\n",
    "df_annotations_stress = df_annotations_stress[['video_name','stress_global']]"
   ]
  },
  {
   "cell_type": "code",
   "execution_count": 75,
   "metadata": {},
   "outputs": [],
   "source": [
    "Xy = df_ypredict.merge(df_annotations_stress, on='video_name')\n",
    "X = Xy.iloc[:,:-1].set_index('video_name')\n",
    "y = Xy.iloc[:,-1]"
   ]
  },
  {
   "cell_type": "code",
   "execution_count": 76,
   "metadata": {},
   "outputs": [
    {
     "output_type": "execute_result",
     "data": {
      "text/plain": [
       "                         video_name         0         1         2  \\\n",
       "0                    Test_pour_AFPA  0.079365  0.116402  0.804233   \n",
       "1                           Video_1  0.788079  0.211921  0.000000   \n",
       "2         WIN_20210323_19_17_40_Pro  0.505952  0.488095  0.005952   \n",
       "3         WIN_20210329_10_16_02_Pro  0.006803  0.986395  0.006803   \n",
       "4         WIN_20210330_13_10_29_Pro  0.231788  0.708609  0.059603   \n",
       "5         WIN_20210331_21_22_52_Pro  0.529412  0.441176  0.029412   \n",
       "6         WIN_20210402_14_27_50_Pro  0.032258  0.446237  0.521505   \n",
       "7         WIN_20210402_19_04_53_Pro  0.502857  0.462857  0.034286   \n",
       "8         WIN_20210403_18_49_15_Pro  0.441989  0.558011  0.000000   \n",
       "9         WIN_20210404_10_58_27_Pro  0.385000  0.055000  0.560000   \n",
       "10        WIN_20210404_21_41_12_Pro  0.418103  0.581897  0.000000   \n",
       "11        WIN_20210405_15_09_16_Pro  0.658065  0.335484  0.006452   \n",
       "12        WIN_20210406_15_06_15_Pro  0.239024  0.760976  0.000000   \n",
       "13        WIN_20210406_18_35_52_Pro  0.626582  0.373418  0.000000   \n",
       "14        WIN_20210406_18_49_10_Pro  0.380117  0.619883  0.000000   \n",
       "15        WIN_20210406_21_05_52_Pro  0.421622  0.578378  0.000000   \n",
       "16        WIN_20210407_09_04_05_Pro  0.890052  0.099476  0.010471   \n",
       "17  WIN_20210407_14_54_56_Pro_edit2  0.616352  0.383648  0.000000   \n",
       "18        WIN_20210408_11_48_58_Pro  0.040000  0.560000  0.400000   \n",
       "19        WIN_20210408_14_00_44_Pro  0.910112  0.089888  0.000000   \n",
       "20        WIN_20210408_14_02_19_Pro  0.400000  0.600000  0.000000   \n",
       "21        WIN_20210408_14_11_32_Pro  0.032051  0.846154  0.121795   \n",
       "22        WIN_20210408_15_20_51_Pro  0.186275  0.357843  0.455882   \n",
       "23        WIN_20210408_16_04_32_Pro  0.264706  0.735294  0.000000   \n",
       "24        WIN_20210409_10_26_11_Pro  0.312139  0.687861  0.000000   \n",
       "25        WIN_20210413_15_38_01_Pro  0.323699  0.676301  0.000000   \n",
       "26        WIN_20210414_06_24_52_Pro  0.243523  0.580311  0.176166   \n",
       "27        WIN_20210415_15_41_24_Pro  0.686636  0.313364  0.000000   \n",
       "28        WIN_20210416_08_06_54_Pro  0.171779  0.828221  0.000000   \n",
       "29        WIN_20210417_14_53_12_Pro  0.503817  0.496183  0.000000   \n",
       "\n",
       "    stress_global  \n",
       "0             1.0  \n",
       "1             0.0  \n",
       "2             1.0  \n",
       "3             1.0  \n",
       "4             0.0  \n",
       "5             1.0  \n",
       "6             1.0  \n",
       "7             2.0  \n",
       "8             2.0  \n",
       "9             1.0  \n",
       "10            0.0  \n",
       "11            1.0  \n",
       "12            2.0  \n",
       "13            0.0  \n",
       "14            1.0  \n",
       "15            2.0  \n",
       "16            2.0  \n",
       "17            0.0  \n",
       "18            2.0  \n",
       "19            0.0  \n",
       "20            0.0  \n",
       "21            2.0  \n",
       "22            0.0  \n",
       "23            0.0  \n",
       "24            0.0  \n",
       "25            1.0  \n",
       "26            2.0  \n",
       "27            0.0  \n",
       "28            1.0  \n",
       "29            0.0  "
      ],
      "text/html": "<div>\n<style scoped>\n    .dataframe tbody tr th:only-of-type {\n        vertical-align: middle;\n    }\n\n    .dataframe tbody tr th {\n        vertical-align: top;\n    }\n\n    .dataframe thead th {\n        text-align: right;\n    }\n</style>\n<table border=\"1\" class=\"dataframe\">\n  <thead>\n    <tr style=\"text-align: right;\">\n      <th></th>\n      <th>video_name</th>\n      <th>0</th>\n      <th>1</th>\n      <th>2</th>\n      <th>stress_global</th>\n    </tr>\n  </thead>\n  <tbody>\n    <tr>\n      <th>0</th>\n      <td>Test_pour_AFPA</td>\n      <td>0.079365</td>\n      <td>0.116402</td>\n      <td>0.804233</td>\n      <td>1.0</td>\n    </tr>\n    <tr>\n      <th>1</th>\n      <td>Video_1</td>\n      <td>0.788079</td>\n      <td>0.211921</td>\n      <td>0.000000</td>\n      <td>0.0</td>\n    </tr>\n    <tr>\n      <th>2</th>\n      <td>WIN_20210323_19_17_40_Pro</td>\n      <td>0.505952</td>\n      <td>0.488095</td>\n      <td>0.005952</td>\n      <td>1.0</td>\n    </tr>\n    <tr>\n      <th>3</th>\n      <td>WIN_20210329_10_16_02_Pro</td>\n      <td>0.006803</td>\n      <td>0.986395</td>\n      <td>0.006803</td>\n      <td>1.0</td>\n    </tr>\n    <tr>\n      <th>4</th>\n      <td>WIN_20210330_13_10_29_Pro</td>\n      <td>0.231788</td>\n      <td>0.708609</td>\n      <td>0.059603</td>\n      <td>0.0</td>\n    </tr>\n    <tr>\n      <th>5</th>\n      <td>WIN_20210331_21_22_52_Pro</td>\n      <td>0.529412</td>\n      <td>0.441176</td>\n      <td>0.029412</td>\n      <td>1.0</td>\n    </tr>\n    <tr>\n      <th>6</th>\n      <td>WIN_20210402_14_27_50_Pro</td>\n      <td>0.032258</td>\n      <td>0.446237</td>\n      <td>0.521505</td>\n      <td>1.0</td>\n    </tr>\n    <tr>\n      <th>7</th>\n      <td>WIN_20210402_19_04_53_Pro</td>\n      <td>0.502857</td>\n      <td>0.462857</td>\n      <td>0.034286</td>\n      <td>2.0</td>\n    </tr>\n    <tr>\n      <th>8</th>\n      <td>WIN_20210403_18_49_15_Pro</td>\n      <td>0.441989</td>\n      <td>0.558011</td>\n      <td>0.000000</td>\n      <td>2.0</td>\n    </tr>\n    <tr>\n      <th>9</th>\n      <td>WIN_20210404_10_58_27_Pro</td>\n      <td>0.385000</td>\n      <td>0.055000</td>\n      <td>0.560000</td>\n      <td>1.0</td>\n    </tr>\n    <tr>\n      <th>10</th>\n      <td>WIN_20210404_21_41_12_Pro</td>\n      <td>0.418103</td>\n      <td>0.581897</td>\n      <td>0.000000</td>\n      <td>0.0</td>\n    </tr>\n    <tr>\n      <th>11</th>\n      <td>WIN_20210405_15_09_16_Pro</td>\n      <td>0.658065</td>\n      <td>0.335484</td>\n      <td>0.006452</td>\n      <td>1.0</td>\n    </tr>\n    <tr>\n      <th>12</th>\n      <td>WIN_20210406_15_06_15_Pro</td>\n      <td>0.239024</td>\n      <td>0.760976</td>\n      <td>0.000000</td>\n      <td>2.0</td>\n    </tr>\n    <tr>\n      <th>13</th>\n      <td>WIN_20210406_18_35_52_Pro</td>\n      <td>0.626582</td>\n      <td>0.373418</td>\n      <td>0.000000</td>\n      <td>0.0</td>\n    </tr>\n    <tr>\n      <th>14</th>\n      <td>WIN_20210406_18_49_10_Pro</td>\n      <td>0.380117</td>\n      <td>0.619883</td>\n      <td>0.000000</td>\n      <td>1.0</td>\n    </tr>\n    <tr>\n      <th>15</th>\n      <td>WIN_20210406_21_05_52_Pro</td>\n      <td>0.421622</td>\n      <td>0.578378</td>\n      <td>0.000000</td>\n      <td>2.0</td>\n    </tr>\n    <tr>\n      <th>16</th>\n      <td>WIN_20210407_09_04_05_Pro</td>\n      <td>0.890052</td>\n      <td>0.099476</td>\n      <td>0.010471</td>\n      <td>2.0</td>\n    </tr>\n    <tr>\n      <th>17</th>\n      <td>WIN_20210407_14_54_56_Pro_edit2</td>\n      <td>0.616352</td>\n      <td>0.383648</td>\n      <td>0.000000</td>\n      <td>0.0</td>\n    </tr>\n    <tr>\n      <th>18</th>\n      <td>WIN_20210408_11_48_58_Pro</td>\n      <td>0.040000</td>\n      <td>0.560000</td>\n      <td>0.400000</td>\n      <td>2.0</td>\n    </tr>\n    <tr>\n      <th>19</th>\n      <td>WIN_20210408_14_00_44_Pro</td>\n      <td>0.910112</td>\n      <td>0.089888</td>\n      <td>0.000000</td>\n      <td>0.0</td>\n    </tr>\n    <tr>\n      <th>20</th>\n      <td>WIN_20210408_14_02_19_Pro</td>\n      <td>0.400000</td>\n      <td>0.600000</td>\n      <td>0.000000</td>\n      <td>0.0</td>\n    </tr>\n    <tr>\n      <th>21</th>\n      <td>WIN_20210408_14_11_32_Pro</td>\n      <td>0.032051</td>\n      <td>0.846154</td>\n      <td>0.121795</td>\n      <td>2.0</td>\n    </tr>\n    <tr>\n      <th>22</th>\n      <td>WIN_20210408_15_20_51_Pro</td>\n      <td>0.186275</td>\n      <td>0.357843</td>\n      <td>0.455882</td>\n      <td>0.0</td>\n    </tr>\n    <tr>\n      <th>23</th>\n      <td>WIN_20210408_16_04_32_Pro</td>\n      <td>0.264706</td>\n      <td>0.735294</td>\n      <td>0.000000</td>\n      <td>0.0</td>\n    </tr>\n    <tr>\n      <th>24</th>\n      <td>WIN_20210409_10_26_11_Pro</td>\n      <td>0.312139</td>\n      <td>0.687861</td>\n      <td>0.000000</td>\n      <td>0.0</td>\n    </tr>\n    <tr>\n      <th>25</th>\n      <td>WIN_20210413_15_38_01_Pro</td>\n      <td>0.323699</td>\n      <td>0.676301</td>\n      <td>0.000000</td>\n      <td>1.0</td>\n    </tr>\n    <tr>\n      <th>26</th>\n      <td>WIN_20210414_06_24_52_Pro</td>\n      <td>0.243523</td>\n      <td>0.580311</td>\n      <td>0.176166</td>\n      <td>2.0</td>\n    </tr>\n    <tr>\n      <th>27</th>\n      <td>WIN_20210415_15_41_24_Pro</td>\n      <td>0.686636</td>\n      <td>0.313364</td>\n      <td>0.000000</td>\n      <td>0.0</td>\n    </tr>\n    <tr>\n      <th>28</th>\n      <td>WIN_20210416_08_06_54_Pro</td>\n      <td>0.171779</td>\n      <td>0.828221</td>\n      <td>0.000000</td>\n      <td>1.0</td>\n    </tr>\n    <tr>\n      <th>29</th>\n      <td>WIN_20210417_14_53_12_Pro</td>\n      <td>0.503817</td>\n      <td>0.496183</td>\n      <td>0.000000</td>\n      <td>0.0</td>\n    </tr>\n  </tbody>\n</table>\n</div>"
     },
     "metadata": {},
     "execution_count": 76
    }
   ],
   "source": [
    "Xy"
   ]
  },
  {
   "cell_type": "code",
   "execution_count": 79,
   "metadata": {},
   "outputs": [
    {
     "output_type": "stream",
     "name": "stdout",
     "text": [
      "Fitting 5 folds for each of 56 candidates, totalling 280 fits\n",
      "[Parallel(n_jobs=1)]: Using backend SequentialBackend with 1 concurrent workers.\n",
      "Best results 0.3944444444444445\n",
      "Best params {'class_weight': None, 'max_depth': 6, 'n_estimators': 50}\n",
      "accuracy (mean, std) 0.4 0.27080128015453203\n",
      "f1 (mean, std) 0.3944444444444445 0.27603900243298507\n",
      "[Parallel(n_jobs=1)]: Done 280 out of 280 | elapsed:   34.1s finished\n"
     ]
    }
   ],
   "source": [
    "parameters = {'C': [0.01, 0.05, 0.1, 0.5, 1, 2, 10, 20], 'class_weight' : [None, 'balanced']}\n",
    "from sklearn.model_selection import LeaveOneGroupOut\n",
    "from sklearn.linear_model import LogisticRegression\n",
    "from sklearn.model_selection import cross_val_predict, GridSearchCV\n",
    "from sklearn.metrics import accuracy_score, f1_score\n",
    "import warnings\n",
    "warnings.filterwarnings(\"ignore\")\n",
    "\n",
    "groups = X.reset_index()['video_name']\n",
    "loo = LeaveOneGroupOut()\n",
    "cv_loo = loo.split(X, y, groups)\n",
    "X_no_name = X\n",
    "y_no_name = y\n",
    "\n",
    "model = LogisticRegression(multi_class='multinomial', fit_intercept=True, random_state=42)\n",
    "\n",
    "from sklearn.neighbors import KNeighborsClassifier\n",
    "model = KNeighborsClassifier(n_jobs=-1)\n",
    "parameters = {'n_neighbors': [4, 5, 6, 7, 8, 9, 10, 11, 12,  15, 20], 'weights' : ['uniform', 'distance'], 'p': [1, 2]}\n",
    "\n",
    "from sklearn.ensemble import RandomForestClassifier, RandomForestRegressor\n",
    "model = RandomForestClassifier(random_state = 42, n_jobs=-1)\n",
    "parameters = {'n_estimators': [50, 100, 150, 200], 'max_depth':[3, 4, 5, 6, 10, 15, 20], 'class_weight':[None,'balanced']}\n",
    "\n",
    "clf = GridSearchCV(estimator=model, \n",
    "                    param_grid=parameters, \n",
    "                    scoring={'accuracy_score' : 'accuracy', 'f1_score' : 'f1_weighted' }, \n",
    "                    refit='f1_score',\n",
    "                    cv=5, verbose=1)\n",
    "clf.fit(X_no_name, y_no_name)\n",
    "print('Best results', clf.best_score_)\n",
    "print('Best params', clf.best_params_)\n",
    "print('accuracy (mean, std)', clf.cv_results_['mean_test_accuracy_score'][clf.best_index_], clf.cv_results_['std_test_accuracy_score'][clf.best_index_])\n",
    "print('f1 (mean, std)', clf.cv_results_['mean_test_f1_score'][clf.best_index_], clf.cv_results_['std_test_f1_score'][clf.best_index_])"
   ]
  },
  {
   "cell_type": "code",
   "execution_count": 80,
   "metadata": {},
   "outputs": [],
   "source": [
    "from sklearn.model_selection import cross_val_predict\n",
    "ypredict_stress_global = cross_val_predict(clf.best_estimator_,X_no_name,y_no_name,cv=5)"
   ]
  },
  {
   "cell_type": "code",
   "execution_count": 81,
   "metadata": {},
   "outputs": [
    {
     "output_type": "execute_result",
     "data": {
      "text/plain": [
       "array([1., 0., 1., 2., 2., 1., 2., 1., 2., 1., 2., 0., 0., 0., 0., 0., 0.,\n",
       "       0., 1., 0., 0., 0., 2., 2., 1., 0., 2., 0., 2., 2.])"
      ]
     },
     "metadata": {},
     "execution_count": 81
    }
   ],
   "source": [
    "ypredict_stress_global"
   ]
  },
  {
   "cell_type": "code",
   "execution_count": 82,
   "metadata": {},
   "outputs": [
    {
     "output_type": "stream",
     "name": "stdout",
     "text": [
      "Accuracy 0.4\nF1 0.4081220043572985\n"
     ]
    }
   ],
   "source": [
    "from sklearn.metrics import accuracy_score, f1_score\n",
    "print('Accuracy',accuracy_score(y_no_name.values,ypredict_stress_global))\n",
    "print('F1',f1_score(y_no_name,ypredict_stress_global, average='weighted'))"
   ]
  },
  {
   "cell_type": "code",
   "execution_count": 84,
   "metadata": {},
   "outputs": [
    {
     "output_type": "execute_result",
     "data": {
      "text/plain": [
       "    stress_global  stress_global_predict\n",
       "0             1.0                    1.0\n",
       "1             0.0                    0.0\n",
       "2             1.0                    1.0\n",
       "3             1.0                    2.0\n",
       "4             0.0                    2.0\n",
       "5             1.0                    1.0\n",
       "6             1.0                    2.0\n",
       "7             2.0                    1.0\n",
       "8             2.0                    2.0\n",
       "9             1.0                    1.0\n",
       "10            0.0                    2.0\n",
       "11            1.0                    0.0\n",
       "12            2.0                    0.0\n",
       "13            0.0                    0.0\n",
       "14            1.0                    0.0\n",
       "15            2.0                    0.0\n",
       "16            2.0                    0.0\n",
       "17            0.0                    0.0\n",
       "18            2.0                    1.0\n",
       "19            0.0                    0.0\n",
       "20            0.0                    0.0\n",
       "21            2.0                    0.0\n",
       "22            0.0                    2.0\n",
       "23            0.0                    2.0\n",
       "24            0.0                    1.0\n",
       "25            1.0                    0.0\n",
       "26            2.0                    2.0\n",
       "27            0.0                    0.0\n",
       "28            1.0                    2.0\n",
       "29            0.0                    2.0"
      ],
      "text/html": "<div>\n<style scoped>\n    .dataframe tbody tr th:only-of-type {\n        vertical-align: middle;\n    }\n\n    .dataframe tbody tr th {\n        vertical-align: top;\n    }\n\n    .dataframe thead th {\n        text-align: right;\n    }\n</style>\n<table border=\"1\" class=\"dataframe\">\n  <thead>\n    <tr style=\"text-align: right;\">\n      <th></th>\n      <th>stress_global</th>\n      <th>stress_global_predict</th>\n    </tr>\n  </thead>\n  <tbody>\n    <tr>\n      <th>0</th>\n      <td>1.0</td>\n      <td>1.0</td>\n    </tr>\n    <tr>\n      <th>1</th>\n      <td>0.0</td>\n      <td>0.0</td>\n    </tr>\n    <tr>\n      <th>2</th>\n      <td>1.0</td>\n      <td>1.0</td>\n    </tr>\n    <tr>\n      <th>3</th>\n      <td>1.0</td>\n      <td>2.0</td>\n    </tr>\n    <tr>\n      <th>4</th>\n      <td>0.0</td>\n      <td>2.0</td>\n    </tr>\n    <tr>\n      <th>5</th>\n      <td>1.0</td>\n      <td>1.0</td>\n    </tr>\n    <tr>\n      <th>6</th>\n      <td>1.0</td>\n      <td>2.0</td>\n    </tr>\n    <tr>\n      <th>7</th>\n      <td>2.0</td>\n      <td>1.0</td>\n    </tr>\n    <tr>\n      <th>8</th>\n      <td>2.0</td>\n      <td>2.0</td>\n    </tr>\n    <tr>\n      <th>9</th>\n      <td>1.0</td>\n      <td>1.0</td>\n    </tr>\n    <tr>\n      <th>10</th>\n      <td>0.0</td>\n      <td>2.0</td>\n    </tr>\n    <tr>\n      <th>11</th>\n      <td>1.0</td>\n      <td>0.0</td>\n    </tr>\n    <tr>\n      <th>12</th>\n      <td>2.0</td>\n      <td>0.0</td>\n    </tr>\n    <tr>\n      <th>13</th>\n      <td>0.0</td>\n      <td>0.0</td>\n    </tr>\n    <tr>\n      <th>14</th>\n      <td>1.0</td>\n      <td>0.0</td>\n    </tr>\n    <tr>\n      <th>15</th>\n      <td>2.0</td>\n      <td>0.0</td>\n    </tr>\n    <tr>\n      <th>16</th>\n      <td>2.0</td>\n      <td>0.0</td>\n    </tr>\n    <tr>\n      <th>17</th>\n      <td>0.0</td>\n      <td>0.0</td>\n    </tr>\n    <tr>\n      <th>18</th>\n      <td>2.0</td>\n      <td>1.0</td>\n    </tr>\n    <tr>\n      <th>19</th>\n      <td>0.0</td>\n      <td>0.0</td>\n    </tr>\n    <tr>\n      <th>20</th>\n      <td>0.0</td>\n      <td>0.0</td>\n    </tr>\n    <tr>\n      <th>21</th>\n      <td>2.0</td>\n      <td>0.0</td>\n    </tr>\n    <tr>\n      <th>22</th>\n      <td>0.0</td>\n      <td>2.0</td>\n    </tr>\n    <tr>\n      <th>23</th>\n      <td>0.0</td>\n      <td>2.0</td>\n    </tr>\n    <tr>\n      <th>24</th>\n      <td>0.0</td>\n      <td>1.0</td>\n    </tr>\n    <tr>\n      <th>25</th>\n      <td>1.0</td>\n      <td>0.0</td>\n    </tr>\n    <tr>\n      <th>26</th>\n      <td>2.0</td>\n      <td>2.0</td>\n    </tr>\n    <tr>\n      <th>27</th>\n      <td>0.0</td>\n      <td>0.0</td>\n    </tr>\n    <tr>\n      <th>28</th>\n      <td>1.0</td>\n      <td>2.0</td>\n    </tr>\n    <tr>\n      <th>29</th>\n      <td>0.0</td>\n      <td>2.0</td>\n    </tr>\n  </tbody>\n</table>\n</div>"
     },
     "metadata": {},
     "execution_count": 84
    }
   ],
   "source": [
    "pd.concat([y_no_name, pd.DataFrame(ypredict_stress_global, columns=['stress_global_predict'])],axis=1)"
   ]
  },
  {
   "cell_type": "code",
   "execution_count": null,
   "metadata": {},
   "outputs": [],
   "source": []
  },
  {
   "source": [
    "### Autre approche "
   ],
   "cell_type": "markdown",
   "metadata": {}
  },
  {
   "cell_type": "code",
   "execution_count": 85,
   "metadata": {},
   "outputs": [
    {
     "output_type": "execute_result",
     "data": {
      "text/plain": [
       "                                   ypredict                                  \\\n",
       "                                percentil75       std percentil25      skew   \n",
       "video_name                                                                    \n",
       "Test_pour_AFPA                          2.0  0.600058         2.0 -2.028772   \n",
       "Video_1                                 0.0  0.410029         0.0  1.409843   \n",
       "WIN_20210323_19_17_40_Pro               1.0  0.513296         0.0  0.133228   \n",
       "WIN_20210329_10_16_02_Pro               1.0  0.117041         1.0  0.000000   \n",
       "WIN_20210330_13_10_29_Pro               1.0  0.513311         1.0 -0.238038   \n",
       "WIN_20210331_21_22_52_Pro               1.0  0.557361         0.0  0.514135   \n",
       "WIN_20210402_14_27_50_Pro               2.0  0.562228         1.0 -0.506664   \n",
       "WIN_20210402_19_04_53_Pro               1.0  0.565163         0.0  0.451128   \n",
       "WIN_20210403_18_49_15_Pro               1.0  0.498001         0.0 -0.233622   \n",
       "WIN_20210404_10_58_27_Pro               2.0  0.958629         0.0 -0.355013   \n",
       "WIN_20210404_21_41_12_Pro               1.0  0.494314         0.0 -0.332071   \n",
       "WIN_20210405_15_09_16_Pro               1.0  0.491401         0.0  0.800414   \n",
       "WIN_20210406_15_06_15_Pro               1.0  0.427532         1.0 -1.223837   \n",
       "WIN_20210406_18_35_52_Pro               1.0  0.485250         0.0  0.523379   \n",
       "WIN_20210406_18_49_10_Pro               1.0  0.486841         0.0 -0.493940   \n",
       "WIN_20210406_21_05_52_Pro               1.0  0.495159         0.0 -0.317438   \n",
       "WIN_20210407_09_04_05_Pro               0.0  0.357111         0.0  3.002591   \n",
       "WIN_20210407_14_54_56_Pro_edit2         1.0  0.487810         0.0  0.478546   \n",
       "WIN_20210408_11_48_58_Pro               2.0  0.558378         1.0 -0.126568   \n",
       "WIN_20210408_14_00_44_Pro               0.0  0.286828         0.0  2.867711   \n",
       "WIN_20210408_14_02_19_Pro               1.0  0.491345         0.0 -0.408248   \n",
       "WIN_20210408_14_11_32_Pro               1.0  0.383057         1.0  0.894042   \n",
       "WIN_20210408_15_20_51_Pro               2.0  0.756488         1.0 -0.490040   \n",
       "WIN_20210408_16_04_32_Pro               1.0  0.442480         0.0 -1.066667   \n",
       "WIN_20210409_10_26_11_Pro               1.0  0.464711         0.0 -0.810855   \n",
       "WIN_20210413_15_38_01_Pro               1.0  0.469245         0.0 -0.753603   \n",
       "WIN_20210414_06_24_52_Pro               1.0  0.645999         1.0  0.062951   \n",
       "WIN_20210415_15_41_24_Pro               1.0  0.464934         0.0  0.804706   \n",
       "WIN_20210416_08_06_54_Pro               1.0  0.378351         1.0 -1.740355   \n",
       "WIN_20210417_14_53_12_Pro               1.0  0.501905         0.0  0.015268   \n",
       "\n",
       "                                                                       \n",
       "                                 max      mean   kurtosis median  min  \n",
       "video_name                                                             \n",
       "Test_pour_AFPA                   2.0  1.724868   2.762736    2.0  0.0  \n",
       "Video_1                          1.0  0.211921  -0.012342    0.0  0.0  \n",
       "WIN_20210323_19_17_40_Pro        2.0  0.500000  -1.654959    0.0  0.0  \n",
       "WIN_20210329_10_16_02_Pro        2.0  1.000000  70.500000    1.0  0.0  \n",
       "WIN_20210330_13_10_29_Pro        2.0  0.827815   0.240391    1.0  0.0  \n",
       "WIN_20210331_21_22_52_Pro        2.0  0.500000  -0.802721    0.0  0.0  \n",
       "WIN_20210402_14_27_50_Pro        2.0  1.489247  -0.777080    2.0  0.0  \n",
       "WIN_20210402_19_04_53_Pro        2.0  0.531429  -0.799954    0.0  0.0  \n",
       "WIN_20210403_18_49_15_Pro        1.0  0.558011  -1.945421    1.0  0.0  \n",
       "WIN_20210404_10_58_27_Pro        2.0  1.175000  -1.811922    2.0  0.0  \n",
       "WIN_20210404_21_41_12_Pro        1.0  0.581897  -1.889729    1.0  0.0  \n",
       "WIN_20210405_15_09_16_Pro        2.0  0.348387  -0.946778    0.0  0.0  \n",
       "WIN_20210406_15_06_15_Pro        1.0  0.760976  -0.502224    1.0  0.0  \n",
       "WIN_20210406_18_35_52_Pro        1.0  0.373418  -1.726074    0.0  0.0  \n",
       "WIN_20210406_18_49_10_Pro        1.0  0.619883  -1.756023    1.0  0.0  \n",
       "WIN_20210406_21_05_52_Pro        1.0  0.578378  -1.899233    1.0  0.0  \n",
       "WIN_20210407_09_04_05_Pro        2.0  0.120419   8.831957    0.0  0.0  \n",
       "WIN_20210407_14_54_56_Pro_edit2  1.0  0.383648  -1.770994    0.0  0.0  \n",
       "WIN_20210408_11_48_58_Pro        2.0  1.360000  -0.785578    1.0  0.0  \n",
       "WIN_20210408_14_00_44_Pro        1.0  0.089888   6.223765    0.0  0.0  \n",
       "WIN_20210408_14_02_19_Pro        1.0  0.600000  -1.833333    1.0  0.0  \n",
       "WIN_20210408_14_11_32_Pro        2.0  1.089744   3.062950    1.0  0.0  \n",
       "WIN_20210408_15_20_51_Pro        2.0  1.269608  -1.101673    1.0  0.0  \n",
       "WIN_20210408_16_04_32_Pro        1.0  0.735294  -0.862222    1.0  0.0  \n",
       "WIN_20210409_10_26_11_Pro        1.0  0.687861  -1.342515    1.0  0.0  \n",
       "WIN_20210413_15_38_01_Pro        1.0  0.676301  -1.432082    1.0  0.0  \n",
       "WIN_20210414_06_24_52_Pro        2.0  0.932642  -0.604287    1.0  0.0  \n",
       "WIN_20210415_15_41_24_Pro        1.0  0.313364  -1.352448    0.0  0.0  \n",
       "WIN_20210416_08_06_54_Pro        1.0  0.828221   1.028836    1.0  0.0  \n",
       "WIN_20210417_14_53_12_Pro        1.0  0.496183  -1.999767    0.0  0.0  "
      ],
      "text/html": "<div>\n<style scoped>\n    .dataframe tbody tr th:only-of-type {\n        vertical-align: middle;\n    }\n\n    .dataframe tbody tr th {\n        vertical-align: top;\n    }\n\n    .dataframe thead tr th {\n        text-align: left;\n    }\n\n    .dataframe thead tr:last-of-type th {\n        text-align: right;\n    }\n</style>\n<table border=\"1\" class=\"dataframe\">\n  <thead>\n    <tr>\n      <th></th>\n      <th colspan=\"9\" halign=\"left\">ypredict</th>\n    </tr>\n    <tr>\n      <th></th>\n      <th>percentil75</th>\n      <th>std</th>\n      <th>percentil25</th>\n      <th>skew</th>\n      <th>max</th>\n      <th>mean</th>\n      <th>kurtosis</th>\n      <th>median</th>\n      <th>min</th>\n    </tr>\n    <tr>\n      <th>video_name</th>\n      <th></th>\n      <th></th>\n      <th></th>\n      <th></th>\n      <th></th>\n      <th></th>\n      <th></th>\n      <th></th>\n      <th></th>\n    </tr>\n  </thead>\n  <tbody>\n    <tr>\n      <th>Test_pour_AFPA</th>\n      <td>2.0</td>\n      <td>0.600058</td>\n      <td>2.0</td>\n      <td>-2.028772</td>\n      <td>2.0</td>\n      <td>1.724868</td>\n      <td>2.762736</td>\n      <td>2.0</td>\n      <td>0.0</td>\n    </tr>\n    <tr>\n      <th>Video_1</th>\n      <td>0.0</td>\n      <td>0.410029</td>\n      <td>0.0</td>\n      <td>1.409843</td>\n      <td>1.0</td>\n      <td>0.211921</td>\n      <td>-0.012342</td>\n      <td>0.0</td>\n      <td>0.0</td>\n    </tr>\n    <tr>\n      <th>WIN_20210323_19_17_40_Pro</th>\n      <td>1.0</td>\n      <td>0.513296</td>\n      <td>0.0</td>\n      <td>0.133228</td>\n      <td>2.0</td>\n      <td>0.500000</td>\n      <td>-1.654959</td>\n      <td>0.0</td>\n      <td>0.0</td>\n    </tr>\n    <tr>\n      <th>WIN_20210329_10_16_02_Pro</th>\n      <td>1.0</td>\n      <td>0.117041</td>\n      <td>1.0</td>\n      <td>0.000000</td>\n      <td>2.0</td>\n      <td>1.000000</td>\n      <td>70.500000</td>\n      <td>1.0</td>\n      <td>0.0</td>\n    </tr>\n    <tr>\n      <th>WIN_20210330_13_10_29_Pro</th>\n      <td>1.0</td>\n      <td>0.513311</td>\n      <td>1.0</td>\n      <td>-0.238038</td>\n      <td>2.0</td>\n      <td>0.827815</td>\n      <td>0.240391</td>\n      <td>1.0</td>\n      <td>0.0</td>\n    </tr>\n    <tr>\n      <th>WIN_20210331_21_22_52_Pro</th>\n      <td>1.0</td>\n      <td>0.557361</td>\n      <td>0.0</td>\n      <td>0.514135</td>\n      <td>2.0</td>\n      <td>0.500000</td>\n      <td>-0.802721</td>\n      <td>0.0</td>\n      <td>0.0</td>\n    </tr>\n    <tr>\n      <th>WIN_20210402_14_27_50_Pro</th>\n      <td>2.0</td>\n      <td>0.562228</td>\n      <td>1.0</td>\n      <td>-0.506664</td>\n      <td>2.0</td>\n      <td>1.489247</td>\n      <td>-0.777080</td>\n      <td>2.0</td>\n      <td>0.0</td>\n    </tr>\n    <tr>\n      <th>WIN_20210402_19_04_53_Pro</th>\n      <td>1.0</td>\n      <td>0.565163</td>\n      <td>0.0</td>\n      <td>0.451128</td>\n      <td>2.0</td>\n      <td>0.531429</td>\n      <td>-0.799954</td>\n      <td>0.0</td>\n      <td>0.0</td>\n    </tr>\n    <tr>\n      <th>WIN_20210403_18_49_15_Pro</th>\n      <td>1.0</td>\n      <td>0.498001</td>\n      <td>0.0</td>\n      <td>-0.233622</td>\n      <td>1.0</td>\n      <td>0.558011</td>\n      <td>-1.945421</td>\n      <td>1.0</td>\n      <td>0.0</td>\n    </tr>\n    <tr>\n      <th>WIN_20210404_10_58_27_Pro</th>\n      <td>2.0</td>\n      <td>0.958629</td>\n      <td>0.0</td>\n      <td>-0.355013</td>\n      <td>2.0</td>\n      <td>1.175000</td>\n      <td>-1.811922</td>\n      <td>2.0</td>\n      <td>0.0</td>\n    </tr>\n    <tr>\n      <th>WIN_20210404_21_41_12_Pro</th>\n      <td>1.0</td>\n      <td>0.494314</td>\n      <td>0.0</td>\n      <td>-0.332071</td>\n      <td>1.0</td>\n      <td>0.581897</td>\n      <td>-1.889729</td>\n      <td>1.0</td>\n      <td>0.0</td>\n    </tr>\n    <tr>\n      <th>WIN_20210405_15_09_16_Pro</th>\n      <td>1.0</td>\n      <td>0.491401</td>\n      <td>0.0</td>\n      <td>0.800414</td>\n      <td>2.0</td>\n      <td>0.348387</td>\n      <td>-0.946778</td>\n      <td>0.0</td>\n      <td>0.0</td>\n    </tr>\n    <tr>\n      <th>WIN_20210406_15_06_15_Pro</th>\n      <td>1.0</td>\n      <td>0.427532</td>\n      <td>1.0</td>\n      <td>-1.223837</td>\n      <td>1.0</td>\n      <td>0.760976</td>\n      <td>-0.502224</td>\n      <td>1.0</td>\n      <td>0.0</td>\n    </tr>\n    <tr>\n      <th>WIN_20210406_18_35_52_Pro</th>\n      <td>1.0</td>\n      <td>0.485250</td>\n      <td>0.0</td>\n      <td>0.523379</td>\n      <td>1.0</td>\n      <td>0.373418</td>\n      <td>-1.726074</td>\n      <td>0.0</td>\n      <td>0.0</td>\n    </tr>\n    <tr>\n      <th>WIN_20210406_18_49_10_Pro</th>\n      <td>1.0</td>\n      <td>0.486841</td>\n      <td>0.0</td>\n      <td>-0.493940</td>\n      <td>1.0</td>\n      <td>0.619883</td>\n      <td>-1.756023</td>\n      <td>1.0</td>\n      <td>0.0</td>\n    </tr>\n    <tr>\n      <th>WIN_20210406_21_05_52_Pro</th>\n      <td>1.0</td>\n      <td>0.495159</td>\n      <td>0.0</td>\n      <td>-0.317438</td>\n      <td>1.0</td>\n      <td>0.578378</td>\n      <td>-1.899233</td>\n      <td>1.0</td>\n      <td>0.0</td>\n    </tr>\n    <tr>\n      <th>WIN_20210407_09_04_05_Pro</th>\n      <td>0.0</td>\n      <td>0.357111</td>\n      <td>0.0</td>\n      <td>3.002591</td>\n      <td>2.0</td>\n      <td>0.120419</td>\n      <td>8.831957</td>\n      <td>0.0</td>\n      <td>0.0</td>\n    </tr>\n    <tr>\n      <th>WIN_20210407_14_54_56_Pro_edit2</th>\n      <td>1.0</td>\n      <td>0.487810</td>\n      <td>0.0</td>\n      <td>0.478546</td>\n      <td>1.0</td>\n      <td>0.383648</td>\n      <td>-1.770994</td>\n      <td>0.0</td>\n      <td>0.0</td>\n    </tr>\n    <tr>\n      <th>WIN_20210408_11_48_58_Pro</th>\n      <td>2.0</td>\n      <td>0.558378</td>\n      <td>1.0</td>\n      <td>-0.126568</td>\n      <td>2.0</td>\n      <td>1.360000</td>\n      <td>-0.785578</td>\n      <td>1.0</td>\n      <td>0.0</td>\n    </tr>\n    <tr>\n      <th>WIN_20210408_14_00_44_Pro</th>\n      <td>0.0</td>\n      <td>0.286828</td>\n      <td>0.0</td>\n      <td>2.867711</td>\n      <td>1.0</td>\n      <td>0.089888</td>\n      <td>6.223765</td>\n      <td>0.0</td>\n      <td>0.0</td>\n    </tr>\n    <tr>\n      <th>WIN_20210408_14_02_19_Pro</th>\n      <td>1.0</td>\n      <td>0.491345</td>\n      <td>0.0</td>\n      <td>-0.408248</td>\n      <td>1.0</td>\n      <td>0.600000</td>\n      <td>-1.833333</td>\n      <td>1.0</td>\n      <td>0.0</td>\n    </tr>\n    <tr>\n      <th>WIN_20210408_14_11_32_Pro</th>\n      <td>1.0</td>\n      <td>0.383057</td>\n      <td>1.0</td>\n      <td>0.894042</td>\n      <td>2.0</td>\n      <td>1.089744</td>\n      <td>3.062950</td>\n      <td>1.0</td>\n      <td>0.0</td>\n    </tr>\n    <tr>\n      <th>WIN_20210408_15_20_51_Pro</th>\n      <td>2.0</td>\n      <td>0.756488</td>\n      <td>1.0</td>\n      <td>-0.490040</td>\n      <td>2.0</td>\n      <td>1.269608</td>\n      <td>-1.101673</td>\n      <td>1.0</td>\n      <td>0.0</td>\n    </tr>\n    <tr>\n      <th>WIN_20210408_16_04_32_Pro</th>\n      <td>1.0</td>\n      <td>0.442480</td>\n      <td>0.0</td>\n      <td>-1.066667</td>\n      <td>1.0</td>\n      <td>0.735294</td>\n      <td>-0.862222</td>\n      <td>1.0</td>\n      <td>0.0</td>\n    </tr>\n    <tr>\n      <th>WIN_20210409_10_26_11_Pro</th>\n      <td>1.0</td>\n      <td>0.464711</td>\n      <td>0.0</td>\n      <td>-0.810855</td>\n      <td>1.0</td>\n      <td>0.687861</td>\n      <td>-1.342515</td>\n      <td>1.0</td>\n      <td>0.0</td>\n    </tr>\n    <tr>\n      <th>WIN_20210413_15_38_01_Pro</th>\n      <td>1.0</td>\n      <td>0.469245</td>\n      <td>0.0</td>\n      <td>-0.753603</td>\n      <td>1.0</td>\n      <td>0.676301</td>\n      <td>-1.432082</td>\n      <td>1.0</td>\n      <td>0.0</td>\n    </tr>\n    <tr>\n      <th>WIN_20210414_06_24_52_Pro</th>\n      <td>1.0</td>\n      <td>0.645999</td>\n      <td>1.0</td>\n      <td>0.062951</td>\n      <td>2.0</td>\n      <td>0.932642</td>\n      <td>-0.604287</td>\n      <td>1.0</td>\n      <td>0.0</td>\n    </tr>\n    <tr>\n      <th>WIN_20210415_15_41_24_Pro</th>\n      <td>1.0</td>\n      <td>0.464934</td>\n      <td>0.0</td>\n      <td>0.804706</td>\n      <td>1.0</td>\n      <td>0.313364</td>\n      <td>-1.352448</td>\n      <td>0.0</td>\n      <td>0.0</td>\n    </tr>\n    <tr>\n      <th>WIN_20210416_08_06_54_Pro</th>\n      <td>1.0</td>\n      <td>0.378351</td>\n      <td>1.0</td>\n      <td>-1.740355</td>\n      <td>1.0</td>\n      <td>0.828221</td>\n      <td>1.028836</td>\n      <td>1.0</td>\n      <td>0.0</td>\n    </tr>\n    <tr>\n      <th>WIN_20210417_14_53_12_Pro</th>\n      <td>1.0</td>\n      <td>0.501905</td>\n      <td>0.0</td>\n      <td>0.015268</td>\n      <td>1.0</td>\n      <td>0.496183</td>\n      <td>-1.999767</td>\n      <td>0.0</td>\n      <td>0.0</td>\n    </tr>\n  </tbody>\n</table>\n</div>"
     },
     "metadata": {},
     "execution_count": 85
    }
   ],
   "source": [
    "df_ypredict = pd.read_csv('ypredict_' + features + '_tw5_2.csv')\n",
    "df_ypredict = df_ypredict.iloc[:,1:]\n",
    "df_ypredict.columns = ['video_name','diapo','frameTimeWindow','ypredict']\n",
    "#df_ypredict = df_ypredict[['video_name','diapo','ypredict']].groupby(['video_name','diapo']).agg({'mean','min','max', 'median', 'std', percentil25, percentil75, kurtosis, skew})\n",
    "df_ypredict = df_ypredict[['video_name','ypredict']].groupby(['video_name']).agg({'mean','min','max', 'median', 'std', percentil25, percentil75, kurtosis, skew})\n",
    "df_ypredict\n"
   ]
  },
  {
   "cell_type": "code",
   "execution_count": 86,
   "metadata": {},
   "outputs": [],
   "source": [
    "df_annotations_stress = pd.read_csv('annotations.csv')\n",
    "df_annotations_stress = df_annotations_stress[['video_name','stress_global']]"
   ]
  },
  {
   "cell_type": "code",
   "execution_count": 87,
   "metadata": {},
   "outputs": [
    {
     "output_type": "execute_result",
     "data": {
      "text/plain": [
       "                         video_name  (ypredict, percentil75)  (ypredict, std)  \\\n",
       "0                    Test_pour_AFPA                      2.0         0.600058   \n",
       "1                           Video_1                      0.0         0.410029   \n",
       "2         WIN_20210323_19_17_40_Pro                      1.0         0.513296   \n",
       "3         WIN_20210329_10_16_02_Pro                      1.0         0.117041   \n",
       "4         WIN_20210330_13_10_29_Pro                      1.0         0.513311   \n",
       "5         WIN_20210331_21_22_52_Pro                      1.0         0.557361   \n",
       "6         WIN_20210402_14_27_50_Pro                      2.0         0.562228   \n",
       "7         WIN_20210402_19_04_53_Pro                      1.0         0.565163   \n",
       "8         WIN_20210403_18_49_15_Pro                      1.0         0.498001   \n",
       "9         WIN_20210404_10_58_27_Pro                      2.0         0.958629   \n",
       "10        WIN_20210404_21_41_12_Pro                      1.0         0.494314   \n",
       "11        WIN_20210405_15_09_16_Pro                      1.0         0.491401   \n",
       "12        WIN_20210406_15_06_15_Pro                      1.0         0.427532   \n",
       "13        WIN_20210406_18_35_52_Pro                      1.0         0.485250   \n",
       "14        WIN_20210406_18_49_10_Pro                      1.0         0.486841   \n",
       "15        WIN_20210406_21_05_52_Pro                      1.0         0.495159   \n",
       "16        WIN_20210407_09_04_05_Pro                      0.0         0.357111   \n",
       "17  WIN_20210407_14_54_56_Pro_edit2                      1.0         0.487810   \n",
       "18        WIN_20210408_11_48_58_Pro                      2.0         0.558378   \n",
       "19        WIN_20210408_14_00_44_Pro                      0.0         0.286828   \n",
       "20        WIN_20210408_14_02_19_Pro                      1.0         0.491345   \n",
       "21        WIN_20210408_14_11_32_Pro                      1.0         0.383057   \n",
       "22        WIN_20210408_15_20_51_Pro                      2.0         0.756488   \n",
       "23        WIN_20210408_16_04_32_Pro                      1.0         0.442480   \n",
       "24        WIN_20210409_10_26_11_Pro                      1.0         0.464711   \n",
       "25        WIN_20210413_15_38_01_Pro                      1.0         0.469245   \n",
       "26        WIN_20210414_06_24_52_Pro                      1.0         0.645999   \n",
       "27        WIN_20210415_15_41_24_Pro                      1.0         0.464934   \n",
       "28        WIN_20210416_08_06_54_Pro                      1.0         0.378351   \n",
       "29        WIN_20210417_14_53_12_Pro                      1.0         0.501905   \n",
       "\n",
       "    (ypredict, percentil25)  (ypredict, skew)  (ypredict, max)  \\\n",
       "0                       2.0         -2.028772              2.0   \n",
       "1                       0.0          1.409843              1.0   \n",
       "2                       0.0          0.133228              2.0   \n",
       "3                       1.0          0.000000              2.0   \n",
       "4                       1.0         -0.238038              2.0   \n",
       "5                       0.0          0.514135              2.0   \n",
       "6                       1.0         -0.506664              2.0   \n",
       "7                       0.0          0.451128              2.0   \n",
       "8                       0.0         -0.233622              1.0   \n",
       "9                       0.0         -0.355013              2.0   \n",
       "10                      0.0         -0.332071              1.0   \n",
       "11                      0.0          0.800414              2.0   \n",
       "12                      1.0         -1.223837              1.0   \n",
       "13                      0.0          0.523379              1.0   \n",
       "14                      0.0         -0.493940              1.0   \n",
       "15                      0.0         -0.317438              1.0   \n",
       "16                      0.0          3.002591              2.0   \n",
       "17                      0.0          0.478546              1.0   \n",
       "18                      1.0         -0.126568              2.0   \n",
       "19                      0.0          2.867711              1.0   \n",
       "20                      0.0         -0.408248              1.0   \n",
       "21                      1.0          0.894042              2.0   \n",
       "22                      1.0         -0.490040              2.0   \n",
       "23                      0.0         -1.066667              1.0   \n",
       "24                      0.0         -0.810855              1.0   \n",
       "25                      0.0         -0.753603              1.0   \n",
       "26                      1.0          0.062951              2.0   \n",
       "27                      0.0          0.804706              1.0   \n",
       "28                      1.0         -1.740355              1.0   \n",
       "29                      0.0          0.015268              1.0   \n",
       "\n",
       "    (ypredict, mean)  (ypredict, kurtosis)  (ypredict, median)  \\\n",
       "0           1.724868              2.762736                 2.0   \n",
       "1           0.211921             -0.012342                 0.0   \n",
       "2           0.500000             -1.654959                 0.0   \n",
       "3           1.000000             70.500000                 1.0   \n",
       "4           0.827815              0.240391                 1.0   \n",
       "5           0.500000             -0.802721                 0.0   \n",
       "6           1.489247             -0.777080                 2.0   \n",
       "7           0.531429             -0.799954                 0.0   \n",
       "8           0.558011             -1.945421                 1.0   \n",
       "9           1.175000             -1.811922                 2.0   \n",
       "10          0.581897             -1.889729                 1.0   \n",
       "11          0.348387             -0.946778                 0.0   \n",
       "12          0.760976             -0.502224                 1.0   \n",
       "13          0.373418             -1.726074                 0.0   \n",
       "14          0.619883             -1.756023                 1.0   \n",
       "15          0.578378             -1.899233                 1.0   \n",
       "16          0.120419              8.831957                 0.0   \n",
       "17          0.383648             -1.770994                 0.0   \n",
       "18          1.360000             -0.785578                 1.0   \n",
       "19          0.089888              6.223765                 0.0   \n",
       "20          0.600000             -1.833333                 1.0   \n",
       "21          1.089744              3.062950                 1.0   \n",
       "22          1.269608             -1.101673                 1.0   \n",
       "23          0.735294             -0.862222                 1.0   \n",
       "24          0.687861             -1.342515                 1.0   \n",
       "25          0.676301             -1.432082                 1.0   \n",
       "26          0.932642             -0.604287                 1.0   \n",
       "27          0.313364             -1.352448                 0.0   \n",
       "28          0.828221              1.028836                 1.0   \n",
       "29          0.496183             -1.999767                 0.0   \n",
       "\n",
       "    (ypredict, min)  stress_global  \n",
       "0               0.0            1.0  \n",
       "1               0.0            0.0  \n",
       "2               0.0            1.0  \n",
       "3               0.0            1.0  \n",
       "4               0.0            0.0  \n",
       "5               0.0            1.0  \n",
       "6               0.0            1.0  \n",
       "7               0.0            2.0  \n",
       "8               0.0            2.0  \n",
       "9               0.0            1.0  \n",
       "10              0.0            0.0  \n",
       "11              0.0            1.0  \n",
       "12              0.0            2.0  \n",
       "13              0.0            0.0  \n",
       "14              0.0            1.0  \n",
       "15              0.0            2.0  \n",
       "16              0.0            2.0  \n",
       "17              0.0            0.0  \n",
       "18              0.0            2.0  \n",
       "19              0.0            0.0  \n",
       "20              0.0            0.0  \n",
       "21              0.0            2.0  \n",
       "22              0.0            0.0  \n",
       "23              0.0            0.0  \n",
       "24              0.0            0.0  \n",
       "25              0.0            1.0  \n",
       "26              0.0            2.0  \n",
       "27              0.0            0.0  \n",
       "28              0.0            1.0  \n",
       "29              0.0            0.0  "
      ],
      "text/html": "<div>\n<style scoped>\n    .dataframe tbody tr th:only-of-type {\n        vertical-align: middle;\n    }\n\n    .dataframe tbody tr th {\n        vertical-align: top;\n    }\n\n    .dataframe thead th {\n        text-align: right;\n    }\n</style>\n<table border=\"1\" class=\"dataframe\">\n  <thead>\n    <tr style=\"text-align: right;\">\n      <th></th>\n      <th>video_name</th>\n      <th>(ypredict, percentil75)</th>\n      <th>(ypredict, std)</th>\n      <th>(ypredict, percentil25)</th>\n      <th>(ypredict, skew)</th>\n      <th>(ypredict, max)</th>\n      <th>(ypredict, mean)</th>\n      <th>(ypredict, kurtosis)</th>\n      <th>(ypredict, median)</th>\n      <th>(ypredict, min)</th>\n      <th>stress_global</th>\n    </tr>\n  </thead>\n  <tbody>\n    <tr>\n      <th>0</th>\n      <td>Test_pour_AFPA</td>\n      <td>2.0</td>\n      <td>0.600058</td>\n      <td>2.0</td>\n      <td>-2.028772</td>\n      <td>2.0</td>\n      <td>1.724868</td>\n      <td>2.762736</td>\n      <td>2.0</td>\n      <td>0.0</td>\n      <td>1.0</td>\n    </tr>\n    <tr>\n      <th>1</th>\n      <td>Video_1</td>\n      <td>0.0</td>\n      <td>0.410029</td>\n      <td>0.0</td>\n      <td>1.409843</td>\n      <td>1.0</td>\n      <td>0.211921</td>\n      <td>-0.012342</td>\n      <td>0.0</td>\n      <td>0.0</td>\n      <td>0.0</td>\n    </tr>\n    <tr>\n      <th>2</th>\n      <td>WIN_20210323_19_17_40_Pro</td>\n      <td>1.0</td>\n      <td>0.513296</td>\n      <td>0.0</td>\n      <td>0.133228</td>\n      <td>2.0</td>\n      <td>0.500000</td>\n      <td>-1.654959</td>\n      <td>0.0</td>\n      <td>0.0</td>\n      <td>1.0</td>\n    </tr>\n    <tr>\n      <th>3</th>\n      <td>WIN_20210329_10_16_02_Pro</td>\n      <td>1.0</td>\n      <td>0.117041</td>\n      <td>1.0</td>\n      <td>0.000000</td>\n      <td>2.0</td>\n      <td>1.000000</td>\n      <td>70.500000</td>\n      <td>1.0</td>\n      <td>0.0</td>\n      <td>1.0</td>\n    </tr>\n    <tr>\n      <th>4</th>\n      <td>WIN_20210330_13_10_29_Pro</td>\n      <td>1.0</td>\n      <td>0.513311</td>\n      <td>1.0</td>\n      <td>-0.238038</td>\n      <td>2.0</td>\n      <td>0.827815</td>\n      <td>0.240391</td>\n      <td>1.0</td>\n      <td>0.0</td>\n      <td>0.0</td>\n    </tr>\n    <tr>\n      <th>5</th>\n      <td>WIN_20210331_21_22_52_Pro</td>\n      <td>1.0</td>\n      <td>0.557361</td>\n      <td>0.0</td>\n      <td>0.514135</td>\n      <td>2.0</td>\n      <td>0.500000</td>\n      <td>-0.802721</td>\n      <td>0.0</td>\n      <td>0.0</td>\n      <td>1.0</td>\n    </tr>\n    <tr>\n      <th>6</th>\n      <td>WIN_20210402_14_27_50_Pro</td>\n      <td>2.0</td>\n      <td>0.562228</td>\n      <td>1.0</td>\n      <td>-0.506664</td>\n      <td>2.0</td>\n      <td>1.489247</td>\n      <td>-0.777080</td>\n      <td>2.0</td>\n      <td>0.0</td>\n      <td>1.0</td>\n    </tr>\n    <tr>\n      <th>7</th>\n      <td>WIN_20210402_19_04_53_Pro</td>\n      <td>1.0</td>\n      <td>0.565163</td>\n      <td>0.0</td>\n      <td>0.451128</td>\n      <td>2.0</td>\n      <td>0.531429</td>\n      <td>-0.799954</td>\n      <td>0.0</td>\n      <td>0.0</td>\n      <td>2.0</td>\n    </tr>\n    <tr>\n      <th>8</th>\n      <td>WIN_20210403_18_49_15_Pro</td>\n      <td>1.0</td>\n      <td>0.498001</td>\n      <td>0.0</td>\n      <td>-0.233622</td>\n      <td>1.0</td>\n      <td>0.558011</td>\n      <td>-1.945421</td>\n      <td>1.0</td>\n      <td>0.0</td>\n      <td>2.0</td>\n    </tr>\n    <tr>\n      <th>9</th>\n      <td>WIN_20210404_10_58_27_Pro</td>\n      <td>2.0</td>\n      <td>0.958629</td>\n      <td>0.0</td>\n      <td>-0.355013</td>\n      <td>2.0</td>\n      <td>1.175000</td>\n      <td>-1.811922</td>\n      <td>2.0</td>\n      <td>0.0</td>\n      <td>1.0</td>\n    </tr>\n    <tr>\n      <th>10</th>\n      <td>WIN_20210404_21_41_12_Pro</td>\n      <td>1.0</td>\n      <td>0.494314</td>\n      <td>0.0</td>\n      <td>-0.332071</td>\n      <td>1.0</td>\n      <td>0.581897</td>\n      <td>-1.889729</td>\n      <td>1.0</td>\n      <td>0.0</td>\n      <td>0.0</td>\n    </tr>\n    <tr>\n      <th>11</th>\n      <td>WIN_20210405_15_09_16_Pro</td>\n      <td>1.0</td>\n      <td>0.491401</td>\n      <td>0.0</td>\n      <td>0.800414</td>\n      <td>2.0</td>\n      <td>0.348387</td>\n      <td>-0.946778</td>\n      <td>0.0</td>\n      <td>0.0</td>\n      <td>1.0</td>\n    </tr>\n    <tr>\n      <th>12</th>\n      <td>WIN_20210406_15_06_15_Pro</td>\n      <td>1.0</td>\n      <td>0.427532</td>\n      <td>1.0</td>\n      <td>-1.223837</td>\n      <td>1.0</td>\n      <td>0.760976</td>\n      <td>-0.502224</td>\n      <td>1.0</td>\n      <td>0.0</td>\n      <td>2.0</td>\n    </tr>\n    <tr>\n      <th>13</th>\n      <td>WIN_20210406_18_35_52_Pro</td>\n      <td>1.0</td>\n      <td>0.485250</td>\n      <td>0.0</td>\n      <td>0.523379</td>\n      <td>1.0</td>\n      <td>0.373418</td>\n      <td>-1.726074</td>\n      <td>0.0</td>\n      <td>0.0</td>\n      <td>0.0</td>\n    </tr>\n    <tr>\n      <th>14</th>\n      <td>WIN_20210406_18_49_10_Pro</td>\n      <td>1.0</td>\n      <td>0.486841</td>\n      <td>0.0</td>\n      <td>-0.493940</td>\n      <td>1.0</td>\n      <td>0.619883</td>\n      <td>-1.756023</td>\n      <td>1.0</td>\n      <td>0.0</td>\n      <td>1.0</td>\n    </tr>\n    <tr>\n      <th>15</th>\n      <td>WIN_20210406_21_05_52_Pro</td>\n      <td>1.0</td>\n      <td>0.495159</td>\n      <td>0.0</td>\n      <td>-0.317438</td>\n      <td>1.0</td>\n      <td>0.578378</td>\n      <td>-1.899233</td>\n      <td>1.0</td>\n      <td>0.0</td>\n      <td>2.0</td>\n    </tr>\n    <tr>\n      <th>16</th>\n      <td>WIN_20210407_09_04_05_Pro</td>\n      <td>0.0</td>\n      <td>0.357111</td>\n      <td>0.0</td>\n      <td>3.002591</td>\n      <td>2.0</td>\n      <td>0.120419</td>\n      <td>8.831957</td>\n      <td>0.0</td>\n      <td>0.0</td>\n      <td>2.0</td>\n    </tr>\n    <tr>\n      <th>17</th>\n      <td>WIN_20210407_14_54_56_Pro_edit2</td>\n      <td>1.0</td>\n      <td>0.487810</td>\n      <td>0.0</td>\n      <td>0.478546</td>\n      <td>1.0</td>\n      <td>0.383648</td>\n      <td>-1.770994</td>\n      <td>0.0</td>\n      <td>0.0</td>\n      <td>0.0</td>\n    </tr>\n    <tr>\n      <th>18</th>\n      <td>WIN_20210408_11_48_58_Pro</td>\n      <td>2.0</td>\n      <td>0.558378</td>\n      <td>1.0</td>\n      <td>-0.126568</td>\n      <td>2.0</td>\n      <td>1.360000</td>\n      <td>-0.785578</td>\n      <td>1.0</td>\n      <td>0.0</td>\n      <td>2.0</td>\n    </tr>\n    <tr>\n      <th>19</th>\n      <td>WIN_20210408_14_00_44_Pro</td>\n      <td>0.0</td>\n      <td>0.286828</td>\n      <td>0.0</td>\n      <td>2.867711</td>\n      <td>1.0</td>\n      <td>0.089888</td>\n      <td>6.223765</td>\n      <td>0.0</td>\n      <td>0.0</td>\n      <td>0.0</td>\n    </tr>\n    <tr>\n      <th>20</th>\n      <td>WIN_20210408_14_02_19_Pro</td>\n      <td>1.0</td>\n      <td>0.491345</td>\n      <td>0.0</td>\n      <td>-0.408248</td>\n      <td>1.0</td>\n      <td>0.600000</td>\n      <td>-1.833333</td>\n      <td>1.0</td>\n      <td>0.0</td>\n      <td>0.0</td>\n    </tr>\n    <tr>\n      <th>21</th>\n      <td>WIN_20210408_14_11_32_Pro</td>\n      <td>1.0</td>\n      <td>0.383057</td>\n      <td>1.0</td>\n      <td>0.894042</td>\n      <td>2.0</td>\n      <td>1.089744</td>\n      <td>3.062950</td>\n      <td>1.0</td>\n      <td>0.0</td>\n      <td>2.0</td>\n    </tr>\n    <tr>\n      <th>22</th>\n      <td>WIN_20210408_15_20_51_Pro</td>\n      <td>2.0</td>\n      <td>0.756488</td>\n      <td>1.0</td>\n      <td>-0.490040</td>\n      <td>2.0</td>\n      <td>1.269608</td>\n      <td>-1.101673</td>\n      <td>1.0</td>\n      <td>0.0</td>\n      <td>0.0</td>\n    </tr>\n    <tr>\n      <th>23</th>\n      <td>WIN_20210408_16_04_32_Pro</td>\n      <td>1.0</td>\n      <td>0.442480</td>\n      <td>0.0</td>\n      <td>-1.066667</td>\n      <td>1.0</td>\n      <td>0.735294</td>\n      <td>-0.862222</td>\n      <td>1.0</td>\n      <td>0.0</td>\n      <td>0.0</td>\n    </tr>\n    <tr>\n      <th>24</th>\n      <td>WIN_20210409_10_26_11_Pro</td>\n      <td>1.0</td>\n      <td>0.464711</td>\n      <td>0.0</td>\n      <td>-0.810855</td>\n      <td>1.0</td>\n      <td>0.687861</td>\n      <td>-1.342515</td>\n      <td>1.0</td>\n      <td>0.0</td>\n      <td>0.0</td>\n    </tr>\n    <tr>\n      <th>25</th>\n      <td>WIN_20210413_15_38_01_Pro</td>\n      <td>1.0</td>\n      <td>0.469245</td>\n      <td>0.0</td>\n      <td>-0.753603</td>\n      <td>1.0</td>\n      <td>0.676301</td>\n      <td>-1.432082</td>\n      <td>1.0</td>\n      <td>0.0</td>\n      <td>1.0</td>\n    </tr>\n    <tr>\n      <th>26</th>\n      <td>WIN_20210414_06_24_52_Pro</td>\n      <td>1.0</td>\n      <td>0.645999</td>\n      <td>1.0</td>\n      <td>0.062951</td>\n      <td>2.0</td>\n      <td>0.932642</td>\n      <td>-0.604287</td>\n      <td>1.0</td>\n      <td>0.0</td>\n      <td>2.0</td>\n    </tr>\n    <tr>\n      <th>27</th>\n      <td>WIN_20210415_15_41_24_Pro</td>\n      <td>1.0</td>\n      <td>0.464934</td>\n      <td>0.0</td>\n      <td>0.804706</td>\n      <td>1.0</td>\n      <td>0.313364</td>\n      <td>-1.352448</td>\n      <td>0.0</td>\n      <td>0.0</td>\n      <td>0.0</td>\n    </tr>\n    <tr>\n      <th>28</th>\n      <td>WIN_20210416_08_06_54_Pro</td>\n      <td>1.0</td>\n      <td>0.378351</td>\n      <td>1.0</td>\n      <td>-1.740355</td>\n      <td>1.0</td>\n      <td>0.828221</td>\n      <td>1.028836</td>\n      <td>1.0</td>\n      <td>0.0</td>\n      <td>1.0</td>\n    </tr>\n    <tr>\n      <th>29</th>\n      <td>WIN_20210417_14_53_12_Pro</td>\n      <td>1.0</td>\n      <td>0.501905</td>\n      <td>0.0</td>\n      <td>0.015268</td>\n      <td>1.0</td>\n      <td>0.496183</td>\n      <td>-1.999767</td>\n      <td>0.0</td>\n      <td>0.0</td>\n      <td>0.0</td>\n    </tr>\n  </tbody>\n</table>\n</div>"
     },
     "metadata": {},
     "execution_count": 87
    }
   ],
   "source": [
    "Xy = df_ypredict.merge(df_annotations_stress, on='video_name')\n",
    "X = Xy.iloc[:,:-1].set_index('video_name')\n",
    "y = Xy.iloc[:,-1]\n",
    "Xy"
   ]
  },
  {
   "cell_type": "code",
   "execution_count": 92,
   "metadata": {},
   "outputs": [
    {
     "output_type": "stream",
     "name": "stdout",
     "text": [
      "Fitting 5 folds for each of 44 candidates, totalling 220 fits\n",
      "[Parallel(n_jobs=1)]: Using backend SequentialBackend with 1 concurrent workers.\n",
      "Best results 0.4127777777777778\n",
      "Best params {'n_neighbors': 7, 'p': 1, 'weights': 'uniform'}\n",
      "accuracy (mean, std) 0.4666666666666667 0.06666666666666668\n",
      "f1 (mean, std) 0.4127777777777778 0.05245329300040219\n",
      "[Parallel(n_jobs=1)]: Done 220 out of 220 | elapsed:    2.4s finished\n"
     ]
    }
   ],
   "source": [
    "parameters = {'C': [0.01, 0.05, 0.1, 0.5, 1, 2, 10, 20], 'class_weight' : [None, 'balanced']}\n",
    "from sklearn.model_selection import LeaveOneGroupOut\n",
    "from sklearn.linear_model import LogisticRegression\n",
    "from sklearn.model_selection import cross_val_predict, GridSearchCV\n",
    "from sklearn.metrics import accuracy_score, f1_score\n",
    "import warnings\n",
    "warnings.filterwarnings(\"ignore\")\n",
    "\n",
    "groups = X.reset_index()['video_name']\n",
    "loo = LeaveOneGroupOut()\n",
    "cv_loo = loo.split(X, y, groups)\n",
    "X_no_name = X\n",
    "y_no_name = y\n",
    "\n",
    "model = LogisticRegression(multi_class='multinomial', fit_intercept=True, random_state=42)\n",
    "\n",
    "from sklearn.neighbors import KNeighborsClassifier\n",
    "model = KNeighborsClassifier(n_jobs=-1)\n",
    "parameters = {'n_neighbors': [4, 5, 6, 7, 8, 9, 10, 11, 12,  15, 20], 'weights' : ['uniform', 'distance'], 'p': [1, 2]}\n",
    "\n",
    "#from sklearn.ensemble import RandomForestClassifier, RandomForestRegressor\n",
    "#model = RandomForestClassifier(random_state = 42, n_jobs=-1)\n",
    "#parameters = {'n_estimators': [50, 100, 200], 'max_depth':[3,4, 5,6, 10, 15, 20], 'class_weight':[None,'balanced']}\n",
    "\n",
    "clf = GridSearchCV(estimator=model, \n",
    "                    param_grid=parameters, \n",
    "                    scoring={'accuracy_score' : 'accuracy', 'f1_score' : 'f1_weighted' }, \n",
    "                    refit='f1_score',\n",
    "                    cv=5, verbose=1)\n",
    "clf.fit(X_no_name, y_no_name)\n",
    "print('Best results', clf.best_score_)\n",
    "print('Best params', clf.best_params_)\n",
    "print('accuracy (mean, std)', clf.cv_results_['mean_test_accuracy_score'][clf.best_index_], clf.cv_results_['std_test_accuracy_score'][clf.best_index_])\n",
    "print('f1 (mean, std)', clf.cv_results_['mean_test_f1_score'][clf.best_index_], clf.cv_results_['std_test_f1_score'][clf.best_index_])"
   ]
  },
  {
   "cell_type": "code",
   "execution_count": 93,
   "metadata": {},
   "outputs": [],
   "source": [
    "from sklearn.model_selection import cross_val_predict\n",
    "ypredict_stress_global = cross_val_predict(clf.best_estimator_,X_no_name,y_no_name,cv=5)"
   ]
  },
  {
   "cell_type": "code",
   "execution_count": null,
   "metadata": {},
   "outputs": [],
   "source": []
  }
 ]
}