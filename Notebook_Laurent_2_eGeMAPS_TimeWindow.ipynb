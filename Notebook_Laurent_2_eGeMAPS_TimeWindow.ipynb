{
 "cells": [
  {
   "cell_type": "code",
   "execution_count": 1,
   "metadata": {},
   "outputs": [],
   "source": [
    "import numpy as np \n",
    "import pandas as pd \n",
    "import matplotlib.pyplot as plt \n",
    "import pathlib\n",
    "from util import runGridSearchClassifiers"
   ]
  },
  {
   "cell_type": "markdown",
   "metadata": {},
   "source": [
    "## Loading data"
   ]
  },
  {
   "cell_type": "code",
   "execution_count": 2,
   "metadata": {},
   "outputs": [],
   "source": [
    "directory_path = '../../04_-_Dev/videos'\n",
    "features = 'eGeMAPS'"
   ]
  },
  {
   "cell_type": "code",
   "execution_count": 3,
   "metadata": {},
   "outputs": [],
   "source": [
    "df_total = pd.read_pickle(directory_path + '/audio_' + features + '_data.p')"
   ]
  },
  {
   "cell_type": "code",
   "execution_count": 4,
   "metadata": {},
   "outputs": [
    {
     "output_type": "execute_result",
     "data": {
      "text/plain": [
       "(2573581, 77)"
      ]
     },
     "metadata": {},
     "execution_count": 4
    }
   ],
   "source": [
    "df_total.shape"
   ]
  },
  {
   "cell_type": "code",
   "execution_count": 5,
   "metadata": {},
   "outputs": [
    {
     "output_type": "execute_result",
     "data": {
      "text/plain": [
       "30"
      ]
     },
     "metadata": {},
     "execution_count": 5
    }
   ],
   "source": [
    "df_total.video_name.nunique()"
   ]
  },
  {
   "cell_type": "code",
   "execution_count": 6,
   "metadata": {},
   "outputs": [
    {
     "output_type": "execute_result",
     "data": {
      "text/plain": [
       "Empty DataFrame\n",
       "Columns: [frameIndex, frameTime, Loudness_sma3, alphaRatio_sma3, hammarbergIndex_sma3, slope0-500_sma3, slope500-1500_sma3, spectralFlux_sma3, mfcc1_sma3, mfcc2_sma3, mfcc3_sma3, mfcc4_sma3, F0semitoneFrom27.5Hz_sma3nz, jitterLocal_sma3nz, shimmerLocaldB_sma3nz, HNRdBACF_sma3nz, logRelF0-H1-H2_sma3nz, logRelF0-H1-A3_sma3nz, F1frequency_sma3nz, F1bandwidth_sma3nz, F1amplitudeLogRelF0_sma3nz, F2frequency_sma3nz, F2amplitudeLogRelF0_sma3nz, F3frequency_sma3nz, F3amplitudeLogRelF0_sma3nz, Loudness_sma3_de, Loudness_sma3_de_de, alphaRatio_sma3_de, alphaRatio_sma3_de_de, hammarbergIndex_sma3_de, hammarbergIndex_sma3_de_de, slope0-500_sma3_de, slope0-500_sma3_de_de, slope500-1500_sma3_de, slope500-1500_sma3_de_de, spectralFlux_sma3_de, spectralFlux_sma3_de_de, mfcc1_sma3_de, mfcc1_sma3_de_de, mfcc2_sma3_de, mfcc2_sma3_de_de, mfcc3_sma3_de, mfcc3_sma3_de_de, mfcc4_sma3_de, mfcc4_sma3_de_de, F0semitoneFrom27.5Hz_sma3nz_de, F0semitoneFrom27.5Hz_sma3nz_de_de, jitterLocal_sma3nz_de, jitterLocal_sma3nz_de_de, shimmerLocaldB_sma3nz_de, shimmerLocaldB_sma3nz_de_de, HNRdBACF_sma3nz_de, HNRdBACF_sma3nz_de_de, logRelF0-H1-H2_sma3nz_de, logRelF0-H1-H2_sma3nz_de_de, logRelF0-H1-A3_sma3nz_de, logRelF0-H1-A3_sma3nz_de_de, F1frequency_sma3nz_de, F1frequency_sma3nz_de_de, F1bandwidth_sma3nz_de, F1bandwidth_sma3nz_de_de, F1amplitudeLogRelF0_sma3nz_de, F1amplitudeLogRelF0_sma3nz_de_de, F2frequency_sma3nz_de, F2frequency_sma3nz_de_de, F2amplitudeLogRelF0_sma3nz_de, F2amplitudeLogRelF0_sma3nz_de_de, F3frequency_sma3nz_de, F3frequency_sma3nz_de_de, F3amplitudeLogRelF0_sma3nz_de, F3amplitudeLogRelF0_sma3nz_de_de, video_name, stress_global, type_candidat, sexe, stress, diapo]\n",
       "Index: []\n",
       "\n",
       "[0 rows x 77 columns]"
      ],
      "text/html": "<div>\n<style scoped>\n    .dataframe tbody tr th:only-of-type {\n        vertical-align: middle;\n    }\n\n    .dataframe tbody tr th {\n        vertical-align: top;\n    }\n\n    .dataframe thead th {\n        text-align: right;\n    }\n</style>\n<table border=\"1\" class=\"dataframe\">\n  <thead>\n    <tr style=\"text-align: right;\">\n      <th></th>\n      <th>frameIndex</th>\n      <th>frameTime</th>\n      <th>Loudness_sma3</th>\n      <th>alphaRatio_sma3</th>\n      <th>hammarbergIndex_sma3</th>\n      <th>slope0-500_sma3</th>\n      <th>slope500-1500_sma3</th>\n      <th>spectralFlux_sma3</th>\n      <th>mfcc1_sma3</th>\n      <th>mfcc2_sma3</th>\n      <th>...</th>\n      <th>F3frequency_sma3nz_de</th>\n      <th>F3frequency_sma3nz_de_de</th>\n      <th>F3amplitudeLogRelF0_sma3nz_de</th>\n      <th>F3amplitudeLogRelF0_sma3nz_de_de</th>\n      <th>video_name</th>\n      <th>stress_global</th>\n      <th>type_candidat</th>\n      <th>sexe</th>\n      <th>stress</th>\n      <th>diapo</th>\n    </tr>\n  </thead>\n  <tbody>\n  </tbody>\n</table>\n<p>0 rows × 77 columns</p>\n</div>"
     },
     "metadata": {},
     "execution_count": 6
    }
   ],
   "source": [
    "df_total[df_total.isna().any(axis=1)]"
   ]
  },
  {
   "cell_type": "markdown",
   "metadata": {},
   "source": [
    "## Data processing"
   ]
  },
  {
   "cell_type": "code",
   "execution_count": 7,
   "metadata": {},
   "outputs": [],
   "source": [
    "time_window = 5\n",
    "df_total['frameTimeWindow'] = df_total.frameTime.apply(lambda x : np.floor(x / time_window) * time_window).astype(int)"
   ]
  },
  {
   "cell_type": "code",
   "execution_count": 22,
   "metadata": {},
   "outputs": [],
   "source": [
    "from scipy.stats import kurtosis, skew\n",
    "\n",
    "def percentil25(x): \n",
    "    return np.percentile(x, q=25)\n",
    "\n",
    "def percentil75(x): \n",
    "    return np.percentile(x, q=75)"
   ]
  },
  {
   "cell_type": "code",
   "execution_count": 9,
   "metadata": {},
   "outputs": [],
   "source": [
    "# 5 seconds windows\n",
    "X = df_total.iloc[:,2:].groupby(['video_name','diapo','frameTimeWindow']).agg({'mean','min','max', 'median', 'std', percentil25, percentil75, kurtosis, skew}).iloc[:,:-18]"
   ]
  },
  {
   "cell_type": "code",
   "execution_count": 10,
   "metadata": {},
   "outputs": [],
   "source": [
    "y = df_total.iloc[:,3:].groupby(['video_name','diapo','frameTimeWindow']).agg({'stress':'min'}).iloc[:,-1]"
   ]
  },
  {
   "cell_type": "code",
   "execution_count": 11,
   "metadata": {},
   "outputs": [],
   "source": [
    "X.to_pickle(directory_path + '/audio_' + features + '_tw5_data_X.p')\n",
    "y.to_pickle(directory_path + '/audio_' + features + '_tw5_data_y.p')"
   ]
  },
  {
   "cell_type": "code",
   "execution_count": 12,
   "metadata": {},
   "outputs": [],
   "source": [
    "from scipy.stats import kurtosis, skew\n",
    "X_audio = df_total.loc[df_total['diapo'].isin([8, 9, 10, 11, 17]),:].iloc[:,2:].groupby(['video_name','diapo','frameTimeWindow']).agg({'mean','min','max', 'median', 'std', percentil25, percentil75, kurtosis, skew}).iloc[:,:-18]\n",
    "y_audio = df_total.loc[df_total['diapo'].isin([8, 9, 10, 11, 17]),:].iloc[:,2:].groupby(['video_name','diapo','frameTimeWindow']).agg({'stress':'mean'}).iloc[:,-1]"
   ]
  },
  {
   "cell_type": "code",
   "execution_count": 13,
   "metadata": {},
   "outputs": [],
   "source": [
    "X_audio.to_pickle(directory_path + '/audio_' + features + '_tw5_data_X_audio_questions_only.p')\n",
    "y_audio.to_pickle(directory_path + '/audio_' + features + '_tw5_data_y_audio_questions_only.p')"
   ]
  },
  {
   "cell_type": "markdown",
   "metadata": {},
   "source": [
    "## Modèles"
   ]
  },
  {
   "cell_type": "code",
   "execution_count": 4,
   "metadata": {},
   "outputs": [],
   "source": [
    "X = pd.read_pickle(directory_path + '/audio_' + features + '_tw5_data_X.p')\n",
    "y = pd.read_pickle(directory_path + '/audio_' + features + '_tw5_data_y.p')\n",
    "\n",
    "X_audio = pd.read_pickle(directory_path + '/audio_' + features + '_tw5_data_X_audio_questions_only.p')\n",
    "y_audio = pd.read_pickle(directory_path + '/audio_' + features + '_tw5_data_y_audio_questions_only.p')"
   ]
  },
  {
   "cell_type": "code",
   "execution_count": 5,
   "metadata": {},
   "outputs": [],
   "source": [
    "X = X.fillna(0)\n",
    "X_audio = X_audio.fillna(0)"
   ]
  },
  {
   "cell_type": "markdown",
   "metadata": {},
   "source": [
    "## Stress par diapos\n",
    "### All diapos"
   ]
  },
  {
   "cell_type": "code",
   "execution_count": 16,
   "metadata": {},
   "outputs": [],
   "source": [
    "diapo_selection = '_all'"
   ]
  },
  {
   "cell_type": "code",
   "execution_count": 17,
   "metadata": {},
   "outputs": [],
   "source": [
    "from sklearn.ensemble import RandomForestClassifier\n",
    "from sklearn.model_selection import LeaveOneGroupOut\n",
    "\n",
    "models_list = [RandomForestClassifier(random_state = 42, n_jobs=-1)]\n",
    "parameters_list = [\n",
    "                {'n_estimators': [100, 150, 200, 250, 300], 'max_depth':[10, 15, 20, 25,30], 'class_weight':[None,'balanced']}\n",
    "                ]\n",
    "groups = X.reset_index()['video_name']\n",
    "loo = LeaveOneGroupOut()\n",
    "cv_loo = loo.split(X, y, groups)"
   ]
  },
  {
   "cell_type": "code",
   "execution_count": 18,
   "metadata": {},
   "outputs": [
    {
     "output_type": "stream",
     "name": "stdout",
     "text": [
      "Fitting 30 folds for each of 50 candidates, totalling 1500 fits\n",
      "[Parallel(n_jobs=-1)]: Using backend LokyBackend with 8 concurrent workers.\n",
      "[Parallel(n_jobs=-1)]: Done  34 tasks      | elapsed:  1.1min\n",
      "[Parallel(n_jobs=-1)]: Done 184 tasks      | elapsed:  8.7min\n",
      "[Parallel(n_jobs=-1)]: Done 434 tasks      | elapsed: 24.5min\n",
      "[Parallel(n_jobs=-1)]: Done 784 tasks      | elapsed: 45.6min\n",
      "[Parallel(n_jobs=-1)]: Done 1234 tasks      | elapsed: 71.5min\n",
      "[Parallel(n_jobs=-1)]: Done 1500 out of 1500 | elapsed: 89.8min finished\n",
      "Best estimator RandomForestClassifier(class_weight='balanced', max_depth=25, n_estimators=200,\n",
      "                       n_jobs=-1, random_state=42)\n",
      "Best results 0.4554559730379107\n",
      "Best params {'class_weight': 'balanced', 'max_depth': 25, 'n_estimators': 200}\n",
      "accuracy (mean, std) 0.4675823371167479 0.18079681975508957\n",
      "f1 (mean, std) 0.4554559730379107 0.19441588225359313\n",
      "balanced accuracy (mean, std) 0.4378091650738796 0.1378966434725613\n",
      "precision (mean, std) 0.5619061329889765 0.21354911447347374\n",
      "recall (mean, std) 0.4675823371167479 0.18079681975508957\n",
      "\n"
     ]
    }
   ],
   "source": [
    "best_result, y_predict, result_list = runGridSearchClassifiers(X, y, cv_loo, models_list, parameters_list, \n",
    "                                                                output_predict=True, n_jobs=-1, verbose=True)"
   ]
  },
  {
   "cell_type": "code",
   "execution_count": 19,
   "metadata": {},
   "outputs": [],
   "source": [
    "# Saving predictions\n",
    "df_ypredict = pd.concat([X.reset_index()[['video_name','diapo','frameTimeWindow']],\n",
    "                        pd.DataFrame(y_predict, columns=['ypredict'])],axis=1)\n",
    "df_ypredict.to_csv('ypredict_' + features + '_tw5' + diapo_selection + '.csv')"
   ]
  },
  {
   "cell_type": "code",
   "execution_count": 20,
   "metadata": {},
   "outputs": [
    {
     "output_type": "execute_result",
     "data": {
      "text/plain": [
       "array([[ 706, 1261,   97,    0],\n",
       "       [ 757, 1763,   70,    0],\n",
       "       [ 175,  469,    9,    0],\n",
       "       [  13,    7,    0,    0]])"
      ]
     },
     "metadata": {},
     "execution_count": 20
    }
   ],
   "source": [
    "from sklearn.metrics import confusion_matrix\n",
    "confusion_matrix(y, y_predict)"
   ]
  },
  {
   "cell_type": "code",
   "execution_count": 21,
   "metadata": {},
   "outputs": [],
   "source": [
    "df_ypredict = pd.read_csv('ypredict_' + features + '_tw5' + diapo_selection + '.csv')\n",
    "df_ypredict = df_ypredict.iloc[:,1:]\n",
    "df_ypredict.columns = ['video_name','diapo','frameTimeWindow','ypredict']\n",
    "df_ypredict['ypredict'] = df_ypredict['ypredict'].astype(int)\n"
   ]
  },
  {
   "cell_type": "code",
   "execution_count": 22,
   "metadata": {},
   "outputs": [
    {
     "output_type": "execute_result",
     "data": {
      "text/plain": [
       "                                                Loudness_sma3            \\\n",
       "                                                          std       min   \n",
       "video_name                diapo frameTimeWindow                           \n",
       "Test_pour_AFPA            1     0                    0.002580  0.108240   \n",
       "                                5                    0.002815  0.109675   \n",
       "                                10                   0.003511  0.105259   \n",
       "                                15                   0.002994  0.110818   \n",
       "                                20                   0.003337  0.108863   \n",
       "...                                                       ...       ...   \n",
       "WIN_20210417_14_53_12_Pro 18    600                  0.036212  0.001034   \n",
       "                                605                  0.018413  0.001034   \n",
       "                                610                  0.020800  0.001034   \n",
       "                                615                  0.012051  0.001102   \n",
       "                                620                  0.006276  0.033513   \n",
       "\n",
       "                                                                       \\\n",
       "                                                     skew percentil75   \n",
       "video_name                diapo frameTimeWindow                         \n",
       "Test_pour_AFPA            1     0                0.012275    0.116547   \n",
       "                                5                0.713457    0.117393   \n",
       "                                10               0.917789    0.115056   \n",
       "                                15               0.307721    0.119927   \n",
       "                                20              -0.395910    0.121091   \n",
       "...                                                   ...         ...   \n",
       "WIN_20210417_14_53_12_Pro 18    600              1.222678    0.051879   \n",
       "                                605              0.391991    0.037869   \n",
       "                                610              0.554724    0.040993   \n",
       "                                615             -0.616833    0.052893   \n",
       "                                620             -0.340928    0.054039   \n",
       "\n",
       "                                                                               \\\n",
       "                                                     mean    median  kurtosis   \n",
       "video_name                diapo frameTimeWindow                                 \n",
       "Test_pour_AFPA            1     0                0.114774  0.114900  0.022023   \n",
       "                                5                0.115736  0.115328  1.101698   \n",
       "                                10               0.113579  0.113245  1.637765   \n",
       "                                15               0.118081  0.117924  0.320136   \n",
       "                                20               0.118637  0.119101 -0.354434   \n",
       "...                                                   ...       ...       ...   \n",
       "WIN_20210417_14_53_12_Pro 18    600              0.032633  0.017399  0.763651   \n",
       "                                605              0.024742  0.024232 -0.688585   \n",
       "                                610              0.025769  0.025452 -0.403783   \n",
       "                                615              0.045493  0.047412  0.655261   \n",
       "                                620              0.051241  0.051371  1.970743   \n",
       "\n",
       "                                                                       \\\n",
       "                                                      max percentil25   \n",
       "video_name                diapo frameTimeWindow                         \n",
       "Test_pour_AFPA            1     0                0.123974    0.112972   \n",
       "                                5                0.127661    0.113882   \n",
       "                                10               0.125830    0.111469   \n",
       "                                15               0.128375    0.116204   \n",
       "                                20               0.126731    0.116397   \n",
       "...                                                   ...         ...   \n",
       "WIN_20210417_14_53_12_Pro 18    600              0.183413    0.001687   \n",
       "                                605              0.078965    0.008823   \n",
       "                                610              0.094043    0.006183   \n",
       "                                615              0.078696    0.038895   \n",
       "                                620              0.068639    0.048707   \n",
       "\n",
       "                                                alphaRatio_sma3  ...  \\\n",
       "                                                            std  ...   \n",
       "video_name                diapo frameTimeWindow                  ...   \n",
       "Test_pour_AFPA            1     0                      0.644744  ...   \n",
       "                                5                      0.576271  ...   \n",
       "                                10                     0.664997  ...   \n",
       "                                15                     0.604470  ...   \n",
       "                                20                     0.621389  ...   \n",
       "...                                                         ...  ...   \n",
       "WIN_20210417_14_53_12_Pro 18    600                    6.452303  ...   \n",
       "                                605                    6.727966  ...   \n",
       "                                610                    6.678959  ...   \n",
       "                                615                    3.681385  ...   \n",
       "                                620                    4.066775  ...   \n",
       "\n",
       "                                                F3amplitudeLogRelF0_sma3nz_de  \\\n",
       "                                                                  percentil25   \n",
       "video_name                diapo frameTimeWindow                                 \n",
       "Test_pour_AFPA            1     0                                         0.0   \n",
       "                                5                                         0.0   \n",
       "                                10                                        0.0   \n",
       "                                15                                        0.0   \n",
       "                                20                                        0.0   \n",
       "...                                                                       ...   \n",
       "WIN_20210417_14_53_12_Pro 18    600                                       0.0   \n",
       "                                605                                       0.0   \n",
       "                                610                                       0.0   \n",
       "                                615                                       0.0   \n",
       "                                620                                       0.0   \n",
       "\n",
       "                                                F3amplitudeLogRelF0_sma3nz_de_de  \\\n",
       "                                                                             std   \n",
       "video_name                diapo frameTimeWindow                                    \n",
       "Test_pour_AFPA            1     0                                            0.0   \n",
       "                                5                                            0.0   \n",
       "                                10                                           0.0   \n",
       "                                15                                           0.0   \n",
       "                                20                                           0.0   \n",
       "...                                                                          ...   \n",
       "WIN_20210417_14_53_12_Pro 18    600                                          0.0   \n",
       "                                605                                          0.0   \n",
       "                                610                                          0.0   \n",
       "                                615                                          0.0   \n",
       "                                620                                          0.0   \n",
       "\n",
       "                                                                            \\\n",
       "                                                 min skew percentil75 mean   \n",
       "video_name                diapo frameTimeWindow                              \n",
       "Test_pour_AFPA            1     0                0.0  0.0         0.0  0.0   \n",
       "                                5                0.0  0.0         0.0  0.0   \n",
       "                                10               0.0  0.0         0.0  0.0   \n",
       "                                15               0.0  0.0         0.0  0.0   \n",
       "                                20               0.0  0.0         0.0  0.0   \n",
       "...                                              ...  ...         ...  ...   \n",
       "WIN_20210417_14_53_12_Pro 18    600              0.0  0.0         0.0  0.0   \n",
       "                                605              0.0  0.0         0.0  0.0   \n",
       "                                610              0.0  0.0         0.0  0.0   \n",
       "                                615              0.0  0.0         0.0  0.0   \n",
       "                                620              0.0  0.0         0.0  0.0   \n",
       "\n",
       "                                                                      \\\n",
       "                                                median kurtosis  max   \n",
       "video_name                diapo frameTimeWindow                        \n",
       "Test_pour_AFPA            1     0                  0.0     -3.0  0.0   \n",
       "                                5                  0.0     -3.0  0.0   \n",
       "                                10                 0.0     -3.0  0.0   \n",
       "                                15                 0.0     -3.0  0.0   \n",
       "                                20                 0.0     -3.0  0.0   \n",
       "...                                                ...      ...  ...   \n",
       "WIN_20210417_14_53_12_Pro 18    600                0.0     -3.0  0.0   \n",
       "                                605                0.0     -3.0  0.0   \n",
       "                                610                0.0     -3.0  0.0   \n",
       "                                615                0.0     -3.0  0.0   \n",
       "                                620                0.0     -3.0  0.0   \n",
       "\n",
       "                                                             \n",
       "                                                percentil25  \n",
       "video_name                diapo frameTimeWindow              \n",
       "Test_pour_AFPA            1     0                       0.0  \n",
       "                                5                       0.0  \n",
       "                                10                      0.0  \n",
       "                                15                      0.0  \n",
       "                                20                      0.0  \n",
       "...                                                     ...  \n",
       "WIN_20210417_14_53_12_Pro 18    600                     0.0  \n",
       "                                605                     0.0  \n",
       "                                610                     0.0  \n",
       "                                615                     0.0  \n",
       "                                620                     0.0  \n",
       "\n",
       "[5327 rows x 621 columns]"
      ],
      "text/html": "<div>\n<style scoped>\n    .dataframe tbody tr th:only-of-type {\n        vertical-align: middle;\n    }\n\n    .dataframe tbody tr th {\n        vertical-align: top;\n    }\n\n    .dataframe thead tr th {\n        text-align: left;\n    }\n\n    .dataframe thead tr:last-of-type th {\n        text-align: right;\n    }\n</style>\n<table border=\"1\" class=\"dataframe\">\n  <thead>\n    <tr>\n      <th></th>\n      <th></th>\n      <th></th>\n      <th colspan=\"9\" halign=\"left\">Loudness_sma3</th>\n      <th>alphaRatio_sma3</th>\n      <th>...</th>\n      <th>F3amplitudeLogRelF0_sma3nz_de</th>\n      <th colspan=\"9\" halign=\"left\">F3amplitudeLogRelF0_sma3nz_de_de</th>\n    </tr>\n    <tr>\n      <th></th>\n      <th></th>\n      <th></th>\n      <th>std</th>\n      <th>min</th>\n      <th>skew</th>\n      <th>percentil75</th>\n      <th>mean</th>\n      <th>median</th>\n      <th>kurtosis</th>\n      <th>max</th>\n      <th>percentil25</th>\n      <th>std</th>\n      <th>...</th>\n      <th>percentil25</th>\n      <th>std</th>\n      <th>min</th>\n      <th>skew</th>\n      <th>percentil75</th>\n      <th>mean</th>\n      <th>median</th>\n      <th>kurtosis</th>\n      <th>max</th>\n      <th>percentil25</th>\n    </tr>\n    <tr>\n      <th>video_name</th>\n      <th>diapo</th>\n      <th>frameTimeWindow</th>\n      <th></th>\n      <th></th>\n      <th></th>\n      <th></th>\n      <th></th>\n      <th></th>\n      <th></th>\n      <th></th>\n      <th></th>\n      <th></th>\n      <th></th>\n      <th></th>\n      <th></th>\n      <th></th>\n      <th></th>\n      <th></th>\n      <th></th>\n      <th></th>\n      <th></th>\n      <th></th>\n      <th></th>\n    </tr>\n  </thead>\n  <tbody>\n    <tr>\n      <th rowspan=\"5\" valign=\"top\">Test_pour_AFPA</th>\n      <th rowspan=\"5\" valign=\"top\">1</th>\n      <th>0</th>\n      <td>0.002580</td>\n      <td>0.108240</td>\n      <td>0.012275</td>\n      <td>0.116547</td>\n      <td>0.114774</td>\n      <td>0.114900</td>\n      <td>0.022023</td>\n      <td>0.123974</td>\n      <td>0.112972</td>\n      <td>0.644744</td>\n      <td>...</td>\n      <td>0.0</td>\n      <td>0.0</td>\n      <td>0.0</td>\n      <td>0.0</td>\n      <td>0.0</td>\n      <td>0.0</td>\n      <td>0.0</td>\n      <td>-3.0</td>\n      <td>0.0</td>\n      <td>0.0</td>\n    </tr>\n    <tr>\n      <th>5</th>\n      <td>0.002815</td>\n      <td>0.109675</td>\n      <td>0.713457</td>\n      <td>0.117393</td>\n      <td>0.115736</td>\n      <td>0.115328</td>\n      <td>1.101698</td>\n      <td>0.127661</td>\n      <td>0.113882</td>\n      <td>0.576271</td>\n      <td>...</td>\n      <td>0.0</td>\n      <td>0.0</td>\n      <td>0.0</td>\n      <td>0.0</td>\n      <td>0.0</td>\n      <td>0.0</td>\n      <td>0.0</td>\n      <td>-3.0</td>\n      <td>0.0</td>\n      <td>0.0</td>\n    </tr>\n    <tr>\n      <th>10</th>\n      <td>0.003511</td>\n      <td>0.105259</td>\n      <td>0.917789</td>\n      <td>0.115056</td>\n      <td>0.113579</td>\n      <td>0.113245</td>\n      <td>1.637765</td>\n      <td>0.125830</td>\n      <td>0.111469</td>\n      <td>0.664997</td>\n      <td>...</td>\n      <td>0.0</td>\n      <td>0.0</td>\n      <td>0.0</td>\n      <td>0.0</td>\n      <td>0.0</td>\n      <td>0.0</td>\n      <td>0.0</td>\n      <td>-3.0</td>\n      <td>0.0</td>\n      <td>0.0</td>\n    </tr>\n    <tr>\n      <th>15</th>\n      <td>0.002994</td>\n      <td>0.110818</td>\n      <td>0.307721</td>\n      <td>0.119927</td>\n      <td>0.118081</td>\n      <td>0.117924</td>\n      <td>0.320136</td>\n      <td>0.128375</td>\n      <td>0.116204</td>\n      <td>0.604470</td>\n      <td>...</td>\n      <td>0.0</td>\n      <td>0.0</td>\n      <td>0.0</td>\n      <td>0.0</td>\n      <td>0.0</td>\n      <td>0.0</td>\n      <td>0.0</td>\n      <td>-3.0</td>\n      <td>0.0</td>\n      <td>0.0</td>\n    </tr>\n    <tr>\n      <th>20</th>\n      <td>0.003337</td>\n      <td>0.108863</td>\n      <td>-0.395910</td>\n      <td>0.121091</td>\n      <td>0.118637</td>\n      <td>0.119101</td>\n      <td>-0.354434</td>\n      <td>0.126731</td>\n      <td>0.116397</td>\n      <td>0.621389</td>\n      <td>...</td>\n      <td>0.0</td>\n      <td>0.0</td>\n      <td>0.0</td>\n      <td>0.0</td>\n      <td>0.0</td>\n      <td>0.0</td>\n      <td>0.0</td>\n      <td>-3.0</td>\n      <td>0.0</td>\n      <td>0.0</td>\n    </tr>\n    <tr>\n      <th>...</th>\n      <th>...</th>\n      <th>...</th>\n      <td>...</td>\n      <td>...</td>\n      <td>...</td>\n      <td>...</td>\n      <td>...</td>\n      <td>...</td>\n      <td>...</td>\n      <td>...</td>\n      <td>...</td>\n      <td>...</td>\n      <td>...</td>\n      <td>...</td>\n      <td>...</td>\n      <td>...</td>\n      <td>...</td>\n      <td>...</td>\n      <td>...</td>\n      <td>...</td>\n      <td>...</td>\n      <td>...</td>\n      <td>...</td>\n    </tr>\n    <tr>\n      <th rowspan=\"5\" valign=\"top\">WIN_20210417_14_53_12_Pro</th>\n      <th rowspan=\"5\" valign=\"top\">18</th>\n      <th>600</th>\n      <td>0.036212</td>\n      <td>0.001034</td>\n      <td>1.222678</td>\n      <td>0.051879</td>\n      <td>0.032633</td>\n      <td>0.017399</td>\n      <td>0.763651</td>\n      <td>0.183413</td>\n      <td>0.001687</td>\n      <td>6.452303</td>\n      <td>...</td>\n      <td>0.0</td>\n      <td>0.0</td>\n      <td>0.0</td>\n      <td>0.0</td>\n      <td>0.0</td>\n      <td>0.0</td>\n      <td>0.0</td>\n      <td>-3.0</td>\n      <td>0.0</td>\n      <td>0.0</td>\n    </tr>\n    <tr>\n      <th>605</th>\n      <td>0.018413</td>\n      <td>0.001034</td>\n      <td>0.391991</td>\n      <td>0.037869</td>\n      <td>0.024742</td>\n      <td>0.024232</td>\n      <td>-0.688585</td>\n      <td>0.078965</td>\n      <td>0.008823</td>\n      <td>6.727966</td>\n      <td>...</td>\n      <td>0.0</td>\n      <td>0.0</td>\n      <td>0.0</td>\n      <td>0.0</td>\n      <td>0.0</td>\n      <td>0.0</td>\n      <td>0.0</td>\n      <td>-3.0</td>\n      <td>0.0</td>\n      <td>0.0</td>\n    </tr>\n    <tr>\n      <th>610</th>\n      <td>0.020800</td>\n      <td>0.001034</td>\n      <td>0.554724</td>\n      <td>0.040993</td>\n      <td>0.025769</td>\n      <td>0.025452</td>\n      <td>-0.403783</td>\n      <td>0.094043</td>\n      <td>0.006183</td>\n      <td>6.678959</td>\n      <td>...</td>\n      <td>0.0</td>\n      <td>0.0</td>\n      <td>0.0</td>\n      <td>0.0</td>\n      <td>0.0</td>\n      <td>0.0</td>\n      <td>0.0</td>\n      <td>-3.0</td>\n      <td>0.0</td>\n      <td>0.0</td>\n    </tr>\n    <tr>\n      <th>615</th>\n      <td>0.012051</td>\n      <td>0.001102</td>\n      <td>-0.616833</td>\n      <td>0.052893</td>\n      <td>0.045493</td>\n      <td>0.047412</td>\n      <td>0.655261</td>\n      <td>0.078696</td>\n      <td>0.038895</td>\n      <td>3.681385</td>\n      <td>...</td>\n      <td>0.0</td>\n      <td>0.0</td>\n      <td>0.0</td>\n      <td>0.0</td>\n      <td>0.0</td>\n      <td>0.0</td>\n      <td>0.0</td>\n      <td>-3.0</td>\n      <td>0.0</td>\n      <td>0.0</td>\n    </tr>\n    <tr>\n      <th>620</th>\n      <td>0.006276</td>\n      <td>0.033513</td>\n      <td>-0.340928</td>\n      <td>0.054039</td>\n      <td>0.051241</td>\n      <td>0.051371</td>\n      <td>1.970743</td>\n      <td>0.068639</td>\n      <td>0.048707</td>\n      <td>4.066775</td>\n      <td>...</td>\n      <td>0.0</td>\n      <td>0.0</td>\n      <td>0.0</td>\n      <td>0.0</td>\n      <td>0.0</td>\n      <td>0.0</td>\n      <td>0.0</td>\n      <td>-3.0</td>\n      <td>0.0</td>\n      <td>0.0</td>\n    </tr>\n  </tbody>\n</table>\n<p>5327 rows × 621 columns</p>\n</div>"
     },
     "metadata": {},
     "execution_count": 22
    }
   ],
   "source": [
    "X"
   ]
  },
  {
   "cell_type": "markdown",
   "metadata": {},
   "source": [
    "#### En utilisant la proportion des prédictions 0, 1 et 2"
   ]
  },
  {
   "cell_type": "code",
   "execution_count": 23,
   "metadata": {},
   "outputs": [
    {
     "output_type": "execute_result",
     "data": {
      "text/plain": [
       "ypredict                                0         1         2\n",
       "video_name                diapo                              \n",
       "Test_pour_AFPA            1      0.382353  0.588235  0.029412\n",
       "                          8      0.000000  1.000000  0.000000\n",
       "                          9      0.050000  0.850000  0.100000\n",
       "                          10     0.000000  0.866667  0.133333\n",
       "                          11     0.050000  0.750000  0.200000\n",
       "...                                   ...       ...       ...\n",
       "WIN_20210417_14_53_12_Pro 10     0.500000  0.500000  0.000000\n",
       "                          11     0.500000  0.500000  0.000000\n",
       "                          12     0.121212  0.878788  0.000000\n",
       "                          17     0.571429  0.428571  0.000000\n",
       "                          18     0.304348  0.695652  0.000000\n",
       "\n",
       "[240 rows x 3 columns]"
      ],
      "text/html": "<div>\n<style scoped>\n    .dataframe tbody tr th:only-of-type {\n        vertical-align: middle;\n    }\n\n    .dataframe tbody tr th {\n        vertical-align: top;\n    }\n\n    .dataframe thead th {\n        text-align: right;\n    }\n</style>\n<table border=\"1\" class=\"dataframe\">\n  <thead>\n    <tr style=\"text-align: right;\">\n      <th></th>\n      <th>ypredict</th>\n      <th>0</th>\n      <th>1</th>\n      <th>2</th>\n    </tr>\n    <tr>\n      <th>video_name</th>\n      <th>diapo</th>\n      <th></th>\n      <th></th>\n      <th></th>\n    </tr>\n  </thead>\n  <tbody>\n    <tr>\n      <th rowspan=\"5\" valign=\"top\">Test_pour_AFPA</th>\n      <th>1</th>\n      <td>0.382353</td>\n      <td>0.588235</td>\n      <td>0.029412</td>\n    </tr>\n    <tr>\n      <th>8</th>\n      <td>0.000000</td>\n      <td>1.000000</td>\n      <td>0.000000</td>\n    </tr>\n    <tr>\n      <th>9</th>\n      <td>0.050000</td>\n      <td>0.850000</td>\n      <td>0.100000</td>\n    </tr>\n    <tr>\n      <th>10</th>\n      <td>0.000000</td>\n      <td>0.866667</td>\n      <td>0.133333</td>\n    </tr>\n    <tr>\n      <th>11</th>\n      <td>0.050000</td>\n      <td>0.750000</td>\n      <td>0.200000</td>\n    </tr>\n    <tr>\n      <th>...</th>\n      <th>...</th>\n      <td>...</td>\n      <td>...</td>\n      <td>...</td>\n    </tr>\n    <tr>\n      <th rowspan=\"5\" valign=\"top\">WIN_20210417_14_53_12_Pro</th>\n      <th>10</th>\n      <td>0.500000</td>\n      <td>0.500000</td>\n      <td>0.000000</td>\n    </tr>\n    <tr>\n      <th>11</th>\n      <td>0.500000</td>\n      <td>0.500000</td>\n      <td>0.000000</td>\n    </tr>\n    <tr>\n      <th>12</th>\n      <td>0.121212</td>\n      <td>0.878788</td>\n      <td>0.000000</td>\n    </tr>\n    <tr>\n      <th>17</th>\n      <td>0.571429</td>\n      <td>0.428571</td>\n      <td>0.000000</td>\n    </tr>\n    <tr>\n      <th>18</th>\n      <td>0.304348</td>\n      <td>0.695652</td>\n      <td>0.000000</td>\n    </tr>\n  </tbody>\n</table>\n<p>240 rows × 3 columns</p>\n</div>"
     },
     "metadata": {},
     "execution_count": 23
    }
   ],
   "source": [
    "X = df_ypredict.pivot_table(values='frameTimeWindow', columns='ypredict', index=['video_name','diapo'], aggfunc='count', fill_value=0)\n",
    "X_sum = X.sum(axis=1).values.copy()\n",
    "for col_number in range(len(X.columns)):\n",
    "    X.iloc[:,col_number] = X.iloc[:,col_number] / X_sum\n",
    "X\n",
    " "
   ]
  },
  {
   "cell_type": "code",
   "execution_count": 24,
   "metadata": {},
   "outputs": [
    {
     "output_type": "execute_result",
     "data": {
      "text/plain": [
       "                    video_name  diapo  stress\n",
       "0               Test_pour_AFPA      1     1.0\n",
       "1               Test_pour_AFPA      8     1.0\n",
       "2               Test_pour_AFPA      9     0.0\n",
       "3               Test_pour_AFPA     10     0.0\n",
       "4               Test_pour_AFPA     11     0.0\n",
       "..                         ...    ...     ...\n",
       "235  WIN_20210417_14_53_12_Pro     10     0.0\n",
       "236  WIN_20210417_14_53_12_Pro     11     0.0\n",
       "237  WIN_20210417_14_53_12_Pro     12     0.0\n",
       "238  WIN_20210417_14_53_12_Pro     17     1.0\n",
       "239  WIN_20210417_14_53_12_Pro     18     1.0\n",
       "\n",
       "[240 rows x 3 columns]"
      ],
      "text/html": "<div>\n<style scoped>\n    .dataframe tbody tr th:only-of-type {\n        vertical-align: middle;\n    }\n\n    .dataframe tbody tr th {\n        vertical-align: top;\n    }\n\n    .dataframe thead th {\n        text-align: right;\n    }\n</style>\n<table border=\"1\" class=\"dataframe\">\n  <thead>\n    <tr style=\"text-align: right;\">\n      <th></th>\n      <th>video_name</th>\n      <th>diapo</th>\n      <th>stress</th>\n    </tr>\n  </thead>\n  <tbody>\n    <tr>\n      <th>0</th>\n      <td>Test_pour_AFPA</td>\n      <td>1</td>\n      <td>1.0</td>\n    </tr>\n    <tr>\n      <th>1</th>\n      <td>Test_pour_AFPA</td>\n      <td>8</td>\n      <td>1.0</td>\n    </tr>\n    <tr>\n      <th>2</th>\n      <td>Test_pour_AFPA</td>\n      <td>9</td>\n      <td>0.0</td>\n    </tr>\n    <tr>\n      <th>3</th>\n      <td>Test_pour_AFPA</td>\n      <td>10</td>\n      <td>0.0</td>\n    </tr>\n    <tr>\n      <th>4</th>\n      <td>Test_pour_AFPA</td>\n      <td>11</td>\n      <td>0.0</td>\n    </tr>\n    <tr>\n      <th>...</th>\n      <td>...</td>\n      <td>...</td>\n      <td>...</td>\n    </tr>\n    <tr>\n      <th>235</th>\n      <td>WIN_20210417_14_53_12_Pro</td>\n      <td>10</td>\n      <td>0.0</td>\n    </tr>\n    <tr>\n      <th>236</th>\n      <td>WIN_20210417_14_53_12_Pro</td>\n      <td>11</td>\n      <td>0.0</td>\n    </tr>\n    <tr>\n      <th>237</th>\n      <td>WIN_20210417_14_53_12_Pro</td>\n      <td>12</td>\n      <td>0.0</td>\n    </tr>\n    <tr>\n      <th>238</th>\n      <td>WIN_20210417_14_53_12_Pro</td>\n      <td>17</td>\n      <td>1.0</td>\n    </tr>\n    <tr>\n      <th>239</th>\n      <td>WIN_20210417_14_53_12_Pro</td>\n      <td>18</td>\n      <td>1.0</td>\n    </tr>\n  </tbody>\n</table>\n<p>240 rows × 3 columns</p>\n</div>"
     },
     "metadata": {},
     "execution_count": 24
    }
   ],
   "source": [
    "df_annotations_stress = pd.read_csv('annotations.csv')\n",
    "df_annotations_stress = df_annotations_stress.drop(df_annotations_stress.columns[-1],axis=1).set_index('video_name').stack()\n",
    "df_annotations_stress = pd.DataFrame(df_annotations_stress).reset_index()\n",
    "df_annotations_stress.columns = ['video_name','diapo','stress']\n",
    "#df_annotations_stress = df_annotations_stress.set_index(['video_name','diapo'])\n",
    "df_annotations_stress['diapo'] = df_annotations_stress['diapo'].astype(int)\n",
    "df_annotations_stress"
   ]
  },
  {
   "cell_type": "code",
   "execution_count": 25,
   "metadata": {},
   "outputs": [],
   "source": [
    "Xy = X.merge(df_annotations_stress, how='inner', on=['video_name','diapo'])\n",
    "X = Xy.iloc[:,:-1].set_index(['video_name','diapo'])\n",
    "y = Xy.iloc[:,-1]"
   ]
  },
  {
   "cell_type": "code",
   "execution_count": 26,
   "metadata": {},
   "outputs": [
    {
     "output_type": "execute_result",
     "data": {
      "text/plain": [
       "                                        0         1         2\n",
       "video_name                diapo                              \n",
       "Test_pour_AFPA            1      0.382353  0.588235  0.029412\n",
       "                          8      0.000000  1.000000  0.000000\n",
       "                          9      0.050000  0.850000  0.100000\n",
       "                          10     0.000000  0.866667  0.133333\n",
       "                          11     0.050000  0.750000  0.200000\n",
       "...                                   ...       ...       ...\n",
       "WIN_20210417_14_53_12_Pro 10     0.500000  0.500000  0.000000\n",
       "                          11     0.500000  0.500000  0.000000\n",
       "                          12     0.121212  0.878788  0.000000\n",
       "                          17     0.571429  0.428571  0.000000\n",
       "                          18     0.304348  0.695652  0.000000\n",
       "\n",
       "[240 rows x 3 columns]"
      ],
      "text/html": "<div>\n<style scoped>\n    .dataframe tbody tr th:only-of-type {\n        vertical-align: middle;\n    }\n\n    .dataframe tbody tr th {\n        vertical-align: top;\n    }\n\n    .dataframe thead th {\n        text-align: right;\n    }\n</style>\n<table border=\"1\" class=\"dataframe\">\n  <thead>\n    <tr style=\"text-align: right;\">\n      <th></th>\n      <th></th>\n      <th>0</th>\n      <th>1</th>\n      <th>2</th>\n    </tr>\n    <tr>\n      <th>video_name</th>\n      <th>diapo</th>\n      <th></th>\n      <th></th>\n      <th></th>\n    </tr>\n  </thead>\n  <tbody>\n    <tr>\n      <th rowspan=\"5\" valign=\"top\">Test_pour_AFPA</th>\n      <th>1</th>\n      <td>0.382353</td>\n      <td>0.588235</td>\n      <td>0.029412</td>\n    </tr>\n    <tr>\n      <th>8</th>\n      <td>0.000000</td>\n      <td>1.000000</td>\n      <td>0.000000</td>\n    </tr>\n    <tr>\n      <th>9</th>\n      <td>0.050000</td>\n      <td>0.850000</td>\n      <td>0.100000</td>\n    </tr>\n    <tr>\n      <th>10</th>\n      <td>0.000000</td>\n      <td>0.866667</td>\n      <td>0.133333</td>\n    </tr>\n    <tr>\n      <th>11</th>\n      <td>0.050000</td>\n      <td>0.750000</td>\n      <td>0.200000</td>\n    </tr>\n    <tr>\n      <th>...</th>\n      <th>...</th>\n      <td>...</td>\n      <td>...</td>\n      <td>...</td>\n    </tr>\n    <tr>\n      <th rowspan=\"5\" valign=\"top\">WIN_20210417_14_53_12_Pro</th>\n      <th>10</th>\n      <td>0.500000</td>\n      <td>0.500000</td>\n      <td>0.000000</td>\n    </tr>\n    <tr>\n      <th>11</th>\n      <td>0.500000</td>\n      <td>0.500000</td>\n      <td>0.000000</td>\n    </tr>\n    <tr>\n      <th>12</th>\n      <td>0.121212</td>\n      <td>0.878788</td>\n      <td>0.000000</td>\n    </tr>\n    <tr>\n      <th>17</th>\n      <td>0.571429</td>\n      <td>0.428571</td>\n      <td>0.000000</td>\n    </tr>\n    <tr>\n      <th>18</th>\n      <td>0.304348</td>\n      <td>0.695652</td>\n      <td>0.000000</td>\n    </tr>\n  </tbody>\n</table>\n<p>240 rows × 3 columns</p>\n</div>"
     },
     "metadata": {},
     "execution_count": 26
    }
   ],
   "source": [
    "X"
   ]
  },
  {
   "cell_type": "code",
   "execution_count": 27,
   "metadata": {},
   "outputs": [],
   "source": [
    "from sklearn.linear_model import LogisticRegression\n",
    "from sklearn.neighbors import KNeighborsClassifier\n",
    "from sklearn.ensemble import RandomForestClassifier\n",
    "from sklearn.model_selection import LeaveOneGroupOut\n",
    "from sklearn.decomposition import PCA\n",
    "from sklearn.pipeline import Pipeline\n",
    "\n",
    "pca = PCA()\n",
    "pipe = Pipeline(steps=[('pca', pca), ('logistic', LogisticRegression(multi_class='multinomial', fit_intercept=True, random_state=42))])\n",
    "\n",
    "models_list = [\n",
    "                LogisticRegression(multi_class='multinomial', fit_intercept=True, random_state=42),\n",
    "                Pipeline(steps=[('pca', pca), ('logistic', LogisticRegression(multi_class='multinomial', fit_intercept=True))]),\n",
    "                KNeighborsClassifier(),\n",
    "                Pipeline(steps=[('pca', pca), ('knn', KNeighborsClassifier())]),\n",
    "                RandomForestClassifier(random_state = 42, n_jobs=-1)\n",
    "                ]\n",
    "\n",
    "parameters_list = [\n",
    "                    {'C': [0.01, 0.05, 0.1, 0.5, 1, 2, 3, 4 , 5, 10], 'class_weight' : [None, 'balanced']},\n",
    "                    {'pca__n_components': [1, 2, 3, 4],\n",
    "                        'logistic__C': [0.01, 0.05, 0.1, 0.5, 1, 2, 3, 4 , 5, 10], 'logistic__class_weight' : [None, 'balanced']},\n",
    "                    {'n_neighbors': [4, 5, 6, 7, 8, 9, 10, 11, 12,  15, 20], 'weights' : ['uniform', 'distance'], 'p': [1, 2]},\n",
    "                    {'pca__n_components': [1, 2, 3, 4],\n",
    "                        'knn__n_neighbors': [4, 5, 6, 7, 8, 9, 10, 11, 12,  15, 20], 'knn__weights' : ['uniform', 'distance'],                              'knn__p': [1, 2]},\n",
    "                    {'n_estimators': [50, 100, 150, 200], 'max_depth':[3, 4, 5, 6, 10, 15, 20], 'class_weight':[None,'balanced']}\n",
    "                    ]\n",
    "\n",
    "groups = X.reset_index()['video_name']\n",
    "loo = LeaveOneGroupOut()\n",
    "cv_loo = loo.split(X, y, groups)"
   ]
  },
  {
   "cell_type": "code",
   "execution_count": 28,
   "metadata": {},
   "outputs": [
    {
     "output_type": "stream",
     "name": "stdout",
     "text": [
      "Fitting 30 folds for each of 20 candidates, totalling 600 fits\n",
      "[Parallel(n_jobs=-1)]: Using backend LokyBackend with 8 concurrent workers.\n",
      "[Parallel(n_jobs=-1)]: Done  56 tasks      | elapsed:    0.4s\n",
      "[Parallel(n_jobs=-1)]: Done 600 out of 600 | elapsed:    3.5s finished\n",
      "[Parallel(n_jobs=-1)]: Using backend LokyBackend with 8 concurrent workers.\n",
      "Best estimator LogisticRegression(C=3, multi_class='multinomial', random_state=42)\n",
      "Best results 0.427848309098309\n",
      "Best params {'C': 3, 'class_weight': None}\n",
      "accuracy (mean, std) 0.4708333333333333 0.20837499583416644\n",
      "f1 (mean, std) 0.427848309098309 0.22548839374589055\n",
      "balanced accuracy (mean, std) 0.47157407407407415 0.18919696885075035\n",
      "precision (mean, std) 0.5127480158730159 0.2806579004408552\n",
      "recall (mean, std) 0.4708333333333333 0.20837499583416644\n",
      "\n",
      "Fitting 30 folds for each of 80 candidates, totalling 2400 fits\n",
      "[Parallel(n_jobs=-1)]: Done  56 tasks      | elapsed:    0.4s\n",
      "[Parallel(n_jobs=-1)]: Done 2160 tasks      | elapsed:    7.6s\n",
      "[Parallel(n_jobs=-1)]: Done 2400 out of 2400 | elapsed:    8.4s finished\n",
      "[Parallel(n_jobs=-1)]: Using backend LokyBackend with 8 concurrent workers.\n",
      "Best estimator Pipeline(steps=[('pca', PCA(n_components=1)),\n",
      "                ('logistic',\n",
      "                 LogisticRegression(C=3, multi_class='multinomial'))])\n",
      "Best results 0.42910492285492274\n",
      "Best params {'logistic__C': 3, 'logistic__class_weight': None, 'pca__n_components': 1}\n",
      "accuracy (mean, std) 0.4791666666666667 0.21670672706576408\n",
      "f1 (mean, std) 0.42910492285492274 0.23228448648557884\n",
      "balanced accuracy (mean, std) 0.472936507936508 0.18984292880307158\n",
      "precision (mean, std) 0.49341269841269847 0.2809057688429169\n",
      "recall (mean, std) 0.4791666666666667 0.21670672706576408\n",
      "\n",
      "Fitting 30 folds for each of 44 candidates, totalling 1320 fits\n",
      "[Parallel(n_jobs=-1)]: Done  56 tasks      | elapsed:    0.2s\n",
      "[Parallel(n_jobs=-1)]: Done 1200 tasks      | elapsed:    3.0s\n",
      "[Parallel(n_jobs=-1)]: Done 1320 out of 1320 | elapsed:    3.2s finished\n",
      "[Parallel(n_jobs=-1)]: Using backend LokyBackend with 8 concurrent workers.\n",
      "Best estimator KNeighborsClassifier(n_neighbors=10, p=1)\n",
      "Best results 0.4718124468124468\n",
      "Best params {'n_neighbors': 10, 'p': 1, 'weights': 'uniform'}\n",
      "accuracy (mean, std) 0.48333333333333334 0.22530843057659627\n",
      "f1 (mean, std) 0.4718124468124468 0.24715423480439516\n",
      "balanced accuracy (mean, std) 0.4911640211640212 0.2145744413207612\n",
      "precision (mean, std) 0.5790128968253968 0.3078548168203973\n",
      "recall (mean, std) 0.48333333333333334 0.22530843057659627\n",
      "\n",
      "Fitting 30 folds for each of 176 candidates, totalling 5280 fits\n",
      "[Parallel(n_jobs=-1)]: Done  56 tasks      | elapsed:    0.3s\n",
      "[Parallel(n_jobs=-1)]: Done 2160 tasks      | elapsed:    4.8s\n",
      "[Parallel(n_jobs=-1)]: Done 5280 out of 5280 | elapsed:   11.5s finished\n",
      "[Parallel(n_jobs=-1)]: Using backend LokyBackend with 8 concurrent workers.\n",
      "Best estimator Pipeline(steps=[('pca', PCA(n_components=3)),\n",
      "                ('knn', KNeighborsClassifier(n_neighbors=10, p=1))])\n",
      "Best results 0.4438070494320494\n",
      "Best params {'knn__n_neighbors': 10, 'knn__p': 1, 'knn__weights': 'uniform', 'pca__n_components': 3}\n",
      "accuracy (mean, std) 0.44166666666666665 0.2206367049145621\n",
      "f1 (mean, std) 0.4438070494320494 0.23349374851648583\n",
      "balanced accuracy (mean, std) 0.4220502645502646 0.21607606685624947\n",
      "precision (mean, std) 0.5488442460317461 0.29593780263566355\n",
      "recall (mean, std) 0.44166666666666665 0.2206367049145621\n",
      "\n",
      "Fitting 30 folds for each of 56 candidates, totalling 1680 fits\n",
      "[Parallel(n_jobs=-1)]: Done  52 tasks      | elapsed:    2.3s\n",
      "[Parallel(n_jobs=-1)]: Done 232 tasks      | elapsed:   13.8s\n",
      "[Parallel(n_jobs=-1)]: Done 482 tasks      | elapsed:   29.1s\n",
      "[Parallel(n_jobs=-1)]: Done 832 tasks      | elapsed:   51.0s\n",
      "[Parallel(n_jobs=-1)]: Done 1282 tasks      | elapsed:  1.3min\n",
      "Best estimator RandomForestClassifier(max_depth=3, n_estimators=50, n_jobs=-1, random_state=42)\n",
      "Best results 0.4362486124986124\n",
      "Best params {'class_weight': None, 'max_depth': 3, 'n_estimators': 50}\n",
      "accuracy (mean, std) 0.4791666666666667 0.21184539698143603\n",
      "f1 (mean, std) 0.4362486124986124 0.23736747181916537\n",
      "balanced accuracy (mean, std) 0.4915608465608466 0.16617873693691781\n",
      "precision (mean, std) 0.5413541666666667 0.31100342784357915\n",
      "recall (mean, std) 0.4791666666666667 0.21184539698143603\n",
      "\n",
      "[Parallel(n_jobs=-1)]: Done 1680 out of 1680 | elapsed:  1.7min finished\n"
     ]
    }
   ],
   "source": [
    "best_result, y_predict, result_list = runGridSearchClassifiers(X, y, cv_loo, models_list, parameters_list, \n",
    "                                                                output_predict=True, n_jobs=-1, verbose=True)"
   ]
  },
  {
   "cell_type": "code",
   "execution_count": 29,
   "metadata": {},
   "outputs": [
    {
     "output_type": "execute_result",
     "data": {
      "text/plain": [
       "{'best_estimator': KNeighborsClassifier(n_neighbors=10, p=1),\n",
       " 'best_score': 0.4718124468124468,\n",
       " 'best_params': {'n_neighbors': 10, 'p': 1, 'weights': 'uniform'},\n",
       " 'mean_test_f1_score': 0.4718124468124468,\n",
       " 'std_test_f1_score': 0.24715423480439516,\n",
       " 'mean_test_accuracy_score': 0.48333333333333334,\n",
       " 'std_test_accuracy_score': 0.22530843057659627,\n",
       " 'mean_test_balanced_accuracy_score': 0.4911640211640212,\n",
       " 'std_test_balanced_accuracy_score': 0.2145744413207612,\n",
       " 'mean_test_precision': 0.5790128968253968,\n",
       " 'std_test_precision': 0.3078548168203973,\n",
       " 'mean_test_recall': 0.48333333333333334,\n",
       " 'std_test_recall': 0.22530843057659627}"
      ]
     },
     "metadata": {},
     "execution_count": 29
    }
   ],
   "source": [
    "best_result"
   ]
  },
  {
   "cell_type": "markdown",
   "metadata": {},
   "source": [
    "#### En aggrégeant les prédicitions des diapos"
   ]
  },
  {
   "cell_type": "code",
   "execution_count": 30,
   "metadata": {},
   "outputs": [],
   "source": [
    "# Autre méthode\n",
    "X = df_ypredict.groupby(['video_name','diapo']).agg({'ypredict':['mean','min','max', 'median', 'std', percentil25, percentil75, kurtosis, skew]})"
   ]
  },
  {
   "cell_type": "code",
   "execution_count": 31,
   "metadata": {},
   "outputs": [
    {
     "output_type": "execute_result",
     "data": {
      "text/plain": [
       "                                 ypredict                           \\\n",
       "                                     mean min max median       std   \n",
       "video_name                diapo                                      \n",
       "Test_pour_AFPA            1      0.647059   0   2    1.0  0.543967   \n",
       "                          8      1.000000   1   1    1.0  0.000000   \n",
       "                          9      1.050000   0   2    1.0  0.394034   \n",
       "                          10     1.133333   1   2    1.0  0.351866   \n",
       "                          11     1.150000   0   2    1.0  0.489360   \n",
       "...                                   ...  ..  ..    ...       ...   \n",
       "WIN_20210417_14_53_12_Pro 10     0.500000   0   1    0.5  0.518875   \n",
       "                          11     0.500000   0   1    0.5  0.512989   \n",
       "                          12     0.878788   0   1    1.0  0.331434   \n",
       "                          17     0.428571   0   1    0.0  0.534522   \n",
       "                          18     0.695652   0   1    1.0  0.470472   \n",
       "\n",
       "                                                                             \n",
       "                                percentil25 percentil75  kurtosis      skew  \n",
       "video_name                diapo                                              \n",
       "Test_pour_AFPA            1             0.0         1.0 -0.881986 -0.031739  \n",
       "                          8             1.0         1.0 -3.000000  0.000000  \n",
       "                          9             1.0         1.0  3.537489  0.489863  \n",
       "                          10            1.0         1.0  2.653846  2.157277  \n",
       "                          11            1.0         1.0  0.714165  0.407794  \n",
       "...                                     ...         ...       ...       ...  \n",
       "WIN_20210417_14_53_12_Pro 10            0.0         1.0 -2.000000  0.000000  \n",
       "                          11            0.0         1.0 -2.000000  0.000000  \n",
       "                          12            1.0         1.0  3.387931 -2.321192  \n",
       "                          17            0.0         1.0 -1.916667  0.288675  \n",
       "                          18            0.0         1.0 -1.276786 -0.850420  \n",
       "\n",
       "[240 rows x 9 columns]"
      ],
      "text/html": "<div>\n<style scoped>\n    .dataframe tbody tr th:only-of-type {\n        vertical-align: middle;\n    }\n\n    .dataframe tbody tr th {\n        vertical-align: top;\n    }\n\n    .dataframe thead tr th {\n        text-align: left;\n    }\n\n    .dataframe thead tr:last-of-type th {\n        text-align: right;\n    }\n</style>\n<table border=\"1\" class=\"dataframe\">\n  <thead>\n    <tr>\n      <th></th>\n      <th></th>\n      <th colspan=\"9\" halign=\"left\">ypredict</th>\n    </tr>\n    <tr>\n      <th></th>\n      <th></th>\n      <th>mean</th>\n      <th>min</th>\n      <th>max</th>\n      <th>median</th>\n      <th>std</th>\n      <th>percentil25</th>\n      <th>percentil75</th>\n      <th>kurtosis</th>\n      <th>skew</th>\n    </tr>\n    <tr>\n      <th>video_name</th>\n      <th>diapo</th>\n      <th></th>\n      <th></th>\n      <th></th>\n      <th></th>\n      <th></th>\n      <th></th>\n      <th></th>\n      <th></th>\n      <th></th>\n    </tr>\n  </thead>\n  <tbody>\n    <tr>\n      <th rowspan=\"5\" valign=\"top\">Test_pour_AFPA</th>\n      <th>1</th>\n      <td>0.647059</td>\n      <td>0</td>\n      <td>2</td>\n      <td>1.0</td>\n      <td>0.543967</td>\n      <td>0.0</td>\n      <td>1.0</td>\n      <td>-0.881986</td>\n      <td>-0.031739</td>\n    </tr>\n    <tr>\n      <th>8</th>\n      <td>1.000000</td>\n      <td>1</td>\n      <td>1</td>\n      <td>1.0</td>\n      <td>0.000000</td>\n      <td>1.0</td>\n      <td>1.0</td>\n      <td>-3.000000</td>\n      <td>0.000000</td>\n    </tr>\n    <tr>\n      <th>9</th>\n      <td>1.050000</td>\n      <td>0</td>\n      <td>2</td>\n      <td>1.0</td>\n      <td>0.394034</td>\n      <td>1.0</td>\n      <td>1.0</td>\n      <td>3.537489</td>\n      <td>0.489863</td>\n    </tr>\n    <tr>\n      <th>10</th>\n      <td>1.133333</td>\n      <td>1</td>\n      <td>2</td>\n      <td>1.0</td>\n      <td>0.351866</td>\n      <td>1.0</td>\n      <td>1.0</td>\n      <td>2.653846</td>\n      <td>2.157277</td>\n    </tr>\n    <tr>\n      <th>11</th>\n      <td>1.150000</td>\n      <td>0</td>\n      <td>2</td>\n      <td>1.0</td>\n      <td>0.489360</td>\n      <td>1.0</td>\n      <td>1.0</td>\n      <td>0.714165</td>\n      <td>0.407794</td>\n    </tr>\n    <tr>\n      <th>...</th>\n      <th>...</th>\n      <td>...</td>\n      <td>...</td>\n      <td>...</td>\n      <td>...</td>\n      <td>...</td>\n      <td>...</td>\n      <td>...</td>\n      <td>...</td>\n      <td>...</td>\n    </tr>\n    <tr>\n      <th rowspan=\"5\" valign=\"top\">WIN_20210417_14_53_12_Pro</th>\n      <th>10</th>\n      <td>0.500000</td>\n      <td>0</td>\n      <td>1</td>\n      <td>0.5</td>\n      <td>0.518875</td>\n      <td>0.0</td>\n      <td>1.0</td>\n      <td>-2.000000</td>\n      <td>0.000000</td>\n    </tr>\n    <tr>\n      <th>11</th>\n      <td>0.500000</td>\n      <td>0</td>\n      <td>1</td>\n      <td>0.5</td>\n      <td>0.512989</td>\n      <td>0.0</td>\n      <td>1.0</td>\n      <td>-2.000000</td>\n      <td>0.000000</td>\n    </tr>\n    <tr>\n      <th>12</th>\n      <td>0.878788</td>\n      <td>0</td>\n      <td>1</td>\n      <td>1.0</td>\n      <td>0.331434</td>\n      <td>1.0</td>\n      <td>1.0</td>\n      <td>3.387931</td>\n      <td>-2.321192</td>\n    </tr>\n    <tr>\n      <th>17</th>\n      <td>0.428571</td>\n      <td>0</td>\n      <td>1</td>\n      <td>0.0</td>\n      <td>0.534522</td>\n      <td>0.0</td>\n      <td>1.0</td>\n      <td>-1.916667</td>\n      <td>0.288675</td>\n    </tr>\n    <tr>\n      <th>18</th>\n      <td>0.695652</td>\n      <td>0</td>\n      <td>1</td>\n      <td>1.0</td>\n      <td>0.470472</td>\n      <td>0.0</td>\n      <td>1.0</td>\n      <td>-1.276786</td>\n      <td>-0.850420</td>\n    </tr>\n  </tbody>\n</table>\n<p>240 rows × 9 columns</p>\n</div>"
     },
     "metadata": {},
     "execution_count": 31
    }
   ],
   "source": [
    "X"
   ]
  },
  {
   "cell_type": "code",
   "execution_count": 32,
   "metadata": {},
   "outputs": [],
   "source": [
    "groups = X.reset_index()['video_name']\n",
    "loo = LeaveOneGroupOut()\n",
    "cv_loo = loo.split(X, y, groups)"
   ]
  },
  {
   "cell_type": "code",
   "execution_count": 33,
   "metadata": {},
   "outputs": [
    {
     "output_type": "stream",
     "name": "stdout",
     "text": [
      "Fitting 30 folds for each of 20 candidates, totalling 600 fits\n",
      "[Parallel(n_jobs=-1)]: Using backend LokyBackend with 8 concurrent workers.\n",
      "[Parallel(n_jobs=-1)]: Done  56 tasks      | elapsed:    0.6s\n",
      "[Parallel(n_jobs=-1)]: Done 585 out of 600 | elapsed:    6.1s remaining:    0.2s\n",
      "[Parallel(n_jobs=-1)]: Done 600 out of 600 | elapsed:    6.2s finished\n",
      "[Parallel(n_jobs=-1)]: Using backend LokyBackend with 8 concurrent workers.\n",
      "Best estimator LogisticRegression(C=0.05, multi_class='multinomial', random_state=42)\n",
      "Best results 0.4454970029970031\n",
      "Best params {'C': 0.05, 'class_weight': None}\n",
      "accuracy (mean, std) 0.4791666666666667 0.17702204821873335\n",
      "f1 (mean, std) 0.4454970029970031 0.21477469725452009\n",
      "balanced accuracy (mean, std) 0.501468253968254 0.15950713112686374\n",
      "precision (mean, std) 0.5755902777777778 0.303154225948788\n",
      "recall (mean, std) 0.4791666666666667 0.17702204821873335\n",
      "\n",
      "Fitting 30 folds for each of 80 candidates, totalling 2400 fits\n",
      "[Parallel(n_jobs=-1)]: Done  56 tasks      | elapsed:    0.5s\n",
      "[Parallel(n_jobs=-1)]: Done 656 tasks      | elapsed:    3.8s\n",
      "[Parallel(n_jobs=-1)]: Done 1656 tasks      | elapsed:   11.7s\n",
      "[Parallel(n_jobs=-1)]: Done 2385 out of 2400 | elapsed:   17.7s remaining:    0.1s\n",
      "[Parallel(n_jobs=-1)]: Done 2400 out of 2400 | elapsed:   17.8s finished\n",
      "[Parallel(n_jobs=-1)]: Using backend LokyBackend with 8 concurrent workers.\n",
      "Best estimator Pipeline(steps=[('pca', PCA(n_components=2)),\n",
      "                ('logistic',\n",
      "                 LogisticRegression(C=0.5, multi_class='multinomial'))])\n",
      "Best results 0.47633468383468386\n",
      "Best params {'logistic__C': 0.5, 'logistic__class_weight': None, 'pca__n_components': 2}\n",
      "accuracy (mean, std) 0.5083333333333333 0.1880085695446413\n",
      "f1 (mean, std) 0.47633468383468386 0.22897622547261173\n",
      "balanced accuracy (mean, std) 0.5117857142857143 0.1599958515854876\n",
      "precision (mean, std) 0.5733978174603176 0.30443782149676923\n",
      "recall (mean, std) 0.5083333333333333 0.1880085695446413\n",
      "\n",
      "Fitting 30 folds for each of 44 candidates, totalling 1320 fits\n",
      "[Parallel(n_jobs=-1)]: Done  56 tasks      | elapsed:    0.3s\n",
      "[Parallel(n_jobs=-1)]: Done 1200 tasks      | elapsed:    3.2s\n",
      "[Parallel(n_jobs=-1)]: Done 1320 out of 1320 | elapsed:    3.5s finished\n",
      "[Parallel(n_jobs=-1)]: Using backend LokyBackend with 8 concurrent workers.\n",
      "Best estimator KNeighborsClassifier(n_neighbors=15)\n",
      "Best results 0.4562088837088837\n",
      "Best params {'n_neighbors': 15, 'p': 2, 'weights': 'uniform'}\n",
      "accuracy (mean, std) 0.4666666666666667 0.23033791601808754\n",
      "f1 (mean, std) 0.4562088837088837 0.24694216260182825\n",
      "balanced accuracy (mean, std) 0.4677777777777778 0.2357665753556379\n",
      "precision (mean, std) 0.5516319444444445 0.2972420938297622\n",
      "recall (mean, std) 0.4666666666666667 0.23033791601808754\n",
      "\n",
      "Fitting 30 folds for each of 176 candidates, totalling 5280 fits\n",
      "[Parallel(n_jobs=-1)]: Done  56 tasks      | elapsed:    0.4s\n",
      "[Parallel(n_jobs=-1)]: Done 2160 tasks      | elapsed:    6.2s\n",
      "[Parallel(n_jobs=-1)]: Done 5280 out of 5280 | elapsed:   14.8s finished\n",
      "[Parallel(n_jobs=-1)]: Using backend LokyBackend with 8 concurrent workers.\n",
      "Best estimator Pipeline(steps=[('pca', PCA(n_components=3)),\n",
      "                ('knn', KNeighborsClassifier(n_neighbors=10))])\n",
      "Best results 0.45605061605061603\n",
      "Best params {'knn__n_neighbors': 10, 'knn__p': 2, 'knn__weights': 'uniform', 'pca__n_components': 3}\n",
      "accuracy (mean, std) 0.45416666666666666 0.20535369217252675\n",
      "f1 (mean, std) 0.45605061605061603 0.23413938282195668\n",
      "balanced accuracy (mean, std) 0.4425925925925926 0.21304715874832048\n",
      "precision (mean, std) 0.5477529761904761 0.3060410418628401\n",
      "recall (mean, std) 0.45416666666666666 0.20535369217252675\n",
      "\n",
      "Fitting 30 folds for each of 56 candidates, totalling 1680 fits\n",
      "[Parallel(n_jobs=-1)]: Done  52 tasks      | elapsed:    2.5s\n",
      "[Parallel(n_jobs=-1)]: Done 232 tasks      | elapsed:   14.2s\n",
      "[Parallel(n_jobs=-1)]: Done 482 tasks      | elapsed:   29.9s\n",
      "[Parallel(n_jobs=-1)]: Done 832 tasks      | elapsed:   52.7s\n",
      "[Parallel(n_jobs=-1)]: Done 1282 tasks      | elapsed:  1.3min\n",
      "[Parallel(n_jobs=-1)]: Done 1680 out of 1680 | elapsed:  1.8min finished\n",
      "Best estimator RandomForestClassifier(max_depth=3, n_estimators=200, n_jobs=-1,\n",
      "                       random_state=42)\n",
      "Best results 0.45117780367780375\n",
      "Best params {'class_weight': None, 'max_depth': 3, 'n_estimators': 200}\n",
      "accuracy (mean, std) 0.48333333333333334 0.1956115765717584\n",
      "f1 (mean, std) 0.45117780367780375 0.22843985091008323\n",
      "balanced accuracy (mean, std) 0.48354497354497356 0.17508962219774576\n",
      "precision (mean, std) 0.5347916666666668 0.3023357481092015\n",
      "recall (mean, std) 0.48333333333333334 0.1956115765717584\n",
      "\n"
     ]
    },
    {
     "output_type": "execute_result",
     "data": {
      "text/plain": [
       "{'best_estimator': Pipeline(steps=[('pca', PCA(n_components=2)),\n",
       "                 ('logistic',\n",
       "                  LogisticRegression(C=0.5, multi_class='multinomial'))]),\n",
       " 'best_score': 0.47633468383468386,\n",
       " 'best_params': {'logistic__C': 0.5,\n",
       "  'logistic__class_weight': None,\n",
       "  'pca__n_components': 2},\n",
       " 'mean_test_f1_score': 0.47633468383468386,\n",
       " 'std_test_f1_score': 0.22897622547261173,\n",
       " 'mean_test_accuracy_score': 0.5083333333333333,\n",
       " 'std_test_accuracy_score': 0.1880085695446413,\n",
       " 'mean_test_balanced_accuracy_score': 0.5117857142857143,\n",
       " 'std_test_balanced_accuracy_score': 0.1599958515854876,\n",
       " 'mean_test_precision': 0.5733978174603176,\n",
       " 'std_test_precision': 0.30443782149676923,\n",
       " 'mean_test_recall': 0.5083333333333333,\n",
       " 'std_test_recall': 0.1880085695446413}"
      ]
     },
     "metadata": {},
     "execution_count": 33
    }
   ],
   "source": [
    "best_result, y_predict, result_list = runGridSearchClassifiers(X, y, cv_loo, models_list, parameters_list, \n",
    "                                                                output_predict=True, n_jobs=-1, verbose=True)\n",
    "best_result"
   ]
  },
  {
   "cell_type": "code",
   "execution_count": 34,
   "metadata": {},
   "outputs": [
    {
     "output_type": "execute_result",
     "data": {
      "text/plain": [
       "{'best_estimator': Pipeline(steps=[('pca', PCA(n_components=2)),\n",
       "                 ('logistic',\n",
       "                  LogisticRegression(C=0.5, multi_class='multinomial'))]),\n",
       " 'best_score': 0.47633468383468386,\n",
       " 'best_params': {'logistic__C': 0.5,\n",
       "  'logistic__class_weight': None,\n",
       "  'pca__n_components': 2},\n",
       " 'mean_test_f1_score': 0.47633468383468386,\n",
       " 'std_test_f1_score': 0.22897622547261173,\n",
       " 'mean_test_accuracy_score': 0.5083333333333333,\n",
       " 'std_test_accuracy_score': 0.1880085695446413,\n",
       " 'mean_test_balanced_accuracy_score': 0.5117857142857143,\n",
       " 'std_test_balanced_accuracy_score': 0.1599958515854876,\n",
       " 'mean_test_precision': 0.5733978174603176,\n",
       " 'std_test_precision': 0.30443782149676923,\n",
       " 'mean_test_recall': 0.5083333333333333,\n",
       " 'std_test_recall': 0.1880085695446413}"
      ]
     },
     "metadata": {},
     "execution_count": 34
    }
   ],
   "source": [
    "best_result"
   ]
  },
  {
   "cell_type": "code",
   "execution_count": 35,
   "metadata": {},
   "outputs": [
    {
     "output_type": "execute_result",
     "data": {
      "text/plain": [
       "array([[33, 67,  1,  0],\n",
       "       [24, 89,  0,  0],\n",
       "       [ 5, 20,  0,  0],\n",
       "       [ 1,  0,  0,  0]])"
      ]
     },
     "metadata": {},
     "execution_count": 35
    }
   ],
   "source": [
    "from sklearn.metrics import confusion_matrix\n",
    "confusion_matrix(y, y_predict)"
   ]
  },
  {
   "cell_type": "code",
   "execution_count": 36,
   "metadata": {},
   "outputs": [],
   "source": [
    "# Saving predictions\n",
    "df_ypredict = pd.concat([X.reset_index()[['video_name','diapo']],\n",
    "                        pd.DataFrame(y_predict, columns=['ypredict'])],axis=1)\n",
    "df_ypredict.to_csv('ypredict_' + features + '_tw5_diapo' + diapo_selection + '.csv')"
   ]
  },
  {
   "cell_type": "code",
   "execution_count": 37,
   "metadata": {},
   "outputs": [
    {
     "output_type": "execute_result",
     "data": {
      "text/plain": [
       "                (video_name, )  (diapo, )  ypredict\n",
       "0               Test_pour_AFPA          1       1.0\n",
       "1               Test_pour_AFPA          8       1.0\n",
       "2               Test_pour_AFPA          9       0.0\n",
       "3               Test_pour_AFPA         10       0.0\n",
       "4               Test_pour_AFPA         11       0.0\n",
       "..                         ...        ...       ...\n",
       "235  WIN_20210417_14_53_12_Pro         10       1.0\n",
       "236  WIN_20210417_14_53_12_Pro         11       1.0\n",
       "237  WIN_20210417_14_53_12_Pro         12       1.0\n",
       "238  WIN_20210417_14_53_12_Pro         17       1.0\n",
       "239  WIN_20210417_14_53_12_Pro         18       1.0\n",
       "\n",
       "[240 rows x 3 columns]"
      ],
      "text/html": "<div>\n<style scoped>\n    .dataframe tbody tr th:only-of-type {\n        vertical-align: middle;\n    }\n\n    .dataframe tbody tr th {\n        vertical-align: top;\n    }\n\n    .dataframe thead th {\n        text-align: right;\n    }\n</style>\n<table border=\"1\" class=\"dataframe\">\n  <thead>\n    <tr style=\"text-align: right;\">\n      <th></th>\n      <th>(video_name, )</th>\n      <th>(diapo, )</th>\n      <th>ypredict</th>\n    </tr>\n  </thead>\n  <tbody>\n    <tr>\n      <th>0</th>\n      <td>Test_pour_AFPA</td>\n      <td>1</td>\n      <td>1.0</td>\n    </tr>\n    <tr>\n      <th>1</th>\n      <td>Test_pour_AFPA</td>\n      <td>8</td>\n      <td>1.0</td>\n    </tr>\n    <tr>\n      <th>2</th>\n      <td>Test_pour_AFPA</td>\n      <td>9</td>\n      <td>0.0</td>\n    </tr>\n    <tr>\n      <th>3</th>\n      <td>Test_pour_AFPA</td>\n      <td>10</td>\n      <td>0.0</td>\n    </tr>\n    <tr>\n      <th>4</th>\n      <td>Test_pour_AFPA</td>\n      <td>11</td>\n      <td>0.0</td>\n    </tr>\n    <tr>\n      <th>...</th>\n      <td>...</td>\n      <td>...</td>\n      <td>...</td>\n    </tr>\n    <tr>\n      <th>235</th>\n      <td>WIN_20210417_14_53_12_Pro</td>\n      <td>10</td>\n      <td>1.0</td>\n    </tr>\n    <tr>\n      <th>236</th>\n      <td>WIN_20210417_14_53_12_Pro</td>\n      <td>11</td>\n      <td>1.0</td>\n    </tr>\n    <tr>\n      <th>237</th>\n      <td>WIN_20210417_14_53_12_Pro</td>\n      <td>12</td>\n      <td>1.0</td>\n    </tr>\n    <tr>\n      <th>238</th>\n      <td>WIN_20210417_14_53_12_Pro</td>\n      <td>17</td>\n      <td>1.0</td>\n    </tr>\n    <tr>\n      <th>239</th>\n      <td>WIN_20210417_14_53_12_Pro</td>\n      <td>18</td>\n      <td>1.0</td>\n    </tr>\n  </tbody>\n</table>\n<p>240 rows × 3 columns</p>\n</div>"
     },
     "metadata": {},
     "execution_count": 37
    }
   ],
   "source": [
    "df_ypredict"
   ]
  },
  {
   "cell_type": "markdown",
   "metadata": {},
   "source": [
    "## Stress global"
   ]
  },
  {
   "cell_type": "markdown",
   "metadata": {},
   "source": [
    "### En utilisant le stress prédit des diapos"
   ]
  },
  {
   "cell_type": "code",
   "execution_count": 38,
   "metadata": {},
   "outputs": [],
   "source": [
    "df_ypredict = pd.read_csv('ypredict_' + features + '_tw5_diapo' + diapo_selection + '.csv')\n",
    "df_ypredict = df_ypredict.iloc[:,1:]\n",
    "df_ypredict.columns = ['video_name','diapo','ypredict']\n",
    "ypredict_stress_diapo = df_ypredict.pivot_table(values='ypredict', columns='diapo',index='video_name',aggfunc='mean')\n"
   ]
  },
  {
   "cell_type": "code",
   "execution_count": 39,
   "metadata": {},
   "outputs": [
    {
     "output_type": "execute_result",
     "data": {
      "text/plain": [
       "diapo                             1    8    9    10   11   12   17   18\n",
       "video_name                                                             \n",
       "Test_pour_AFPA                   1.0  1.0  0.0  0.0  0.0  1.0  1.0  1.0\n",
       "Video_1                          0.0  0.0  0.0  0.0  0.0  0.0  1.0  1.0\n",
       "WIN_20210323_19_17_40_Pro        0.0  1.0  1.0  0.0  1.0  1.0  1.0  1.0\n",
       "WIN_20210329_10_16_02_Pro        1.0  1.0  1.0  1.0  1.0  1.0  1.0  1.0\n",
       "WIN_20210330_13_10_29_Pro        1.0  1.0  1.0  0.0  1.0  2.0  1.0  0.0\n",
       "WIN_20210331_21_22_52_Pro        1.0  0.0  1.0  1.0  0.0  1.0  0.0  1.0\n",
       "WIN_20210402_14_27_50_Pro        1.0  0.0  1.0  0.0  1.0  0.0  1.0  1.0\n",
       "WIN_20210402_19_04_53_Pro        1.0  1.0  0.0  1.0  1.0  1.0  0.0  1.0\n",
       "WIN_20210403_18_49_15_Pro        1.0  1.0  1.0  1.0  1.0  1.0  1.0  1.0\n",
       "WIN_20210404_10_58_27_Pro        1.0  0.0  0.0  1.0  0.0  1.0  1.0  1.0\n",
       "WIN_20210404_21_41_12_Pro        1.0  1.0  1.0  1.0  1.0  1.0  1.0  1.0\n",
       "WIN_20210405_15_09_16_Pro        1.0  1.0  0.0  0.0  0.0  1.0  0.0  1.0\n",
       "WIN_20210406_15_06_15_Pro        1.0  1.0  0.0  1.0  1.0  1.0  1.0  1.0\n",
       "WIN_20210406_18_35_52_Pro        1.0  1.0  0.0  0.0  0.0  1.0  1.0  1.0\n",
       "WIN_20210406_18_49_10_Pro        1.0  1.0  1.0  0.0  0.0  1.0  1.0  1.0\n",
       "WIN_20210406_21_05_52_Pro        1.0  0.0  1.0  1.0  1.0  1.0  1.0  1.0\n",
       "WIN_20210407_09_04_05_Pro        0.0  0.0  0.0  1.0  0.0  0.0  1.0  0.0\n",
       "WIN_20210407_14_54_56_Pro_edit2  1.0  1.0  1.0  1.0  0.0  1.0  1.0  1.0\n",
       "WIN_20210408_11_48_58_Pro        0.0  1.0  0.0  0.0  0.0  1.0  1.0  0.0\n",
       "WIN_20210408_14_00_44_Pro        0.0  0.0  1.0  0.0  0.0  1.0  0.0  0.0\n",
       "WIN_20210408_14_02_19_Pro        1.0  1.0  1.0  1.0  1.0  1.0  1.0  1.0\n",
       "WIN_20210408_14_11_32_Pro        1.0  1.0  1.0  1.0  1.0  1.0  1.0  1.0\n",
       "WIN_20210408_15_20_51_Pro        1.0  0.0  1.0  1.0  0.0  1.0  0.0  1.0\n",
       "WIN_20210408_16_04_32_Pro        1.0  1.0  1.0  1.0  1.0  1.0  1.0  1.0\n",
       "WIN_20210409_10_26_11_Pro        1.0  1.0  1.0  1.0  1.0  0.0  1.0  1.0\n",
       "WIN_20210413_15_38_01_Pro        1.0  1.0  0.0  1.0  1.0  1.0  1.0  1.0\n",
       "WIN_20210414_06_24_52_Pro        1.0  1.0  1.0  1.0  1.0  1.0  1.0  1.0\n",
       "WIN_20210415_15_41_24_Pro        1.0  0.0  1.0  1.0  0.0  1.0  1.0  1.0\n",
       "WIN_20210416_08_06_54_Pro        1.0  1.0  1.0  1.0  1.0  0.0  1.0  0.0\n",
       "WIN_20210417_14_53_12_Pro        1.0  0.0  1.0  1.0  1.0  1.0  1.0  1.0"
      ],
      "text/html": "<div>\n<style scoped>\n    .dataframe tbody tr th:only-of-type {\n        vertical-align: middle;\n    }\n\n    .dataframe tbody tr th {\n        vertical-align: top;\n    }\n\n    .dataframe thead th {\n        text-align: right;\n    }\n</style>\n<table border=\"1\" class=\"dataframe\">\n  <thead>\n    <tr style=\"text-align: right;\">\n      <th>diapo</th>\n      <th>1</th>\n      <th>8</th>\n      <th>9</th>\n      <th>10</th>\n      <th>11</th>\n      <th>12</th>\n      <th>17</th>\n      <th>18</th>\n    </tr>\n    <tr>\n      <th>video_name</th>\n      <th></th>\n      <th></th>\n      <th></th>\n      <th></th>\n      <th></th>\n      <th></th>\n      <th></th>\n      <th></th>\n    </tr>\n  </thead>\n  <tbody>\n    <tr>\n      <th>Test_pour_AFPA</th>\n      <td>1.0</td>\n      <td>1.0</td>\n      <td>0.0</td>\n      <td>0.0</td>\n      <td>0.0</td>\n      <td>1.0</td>\n      <td>1.0</td>\n      <td>1.0</td>\n    </tr>\n    <tr>\n      <th>Video_1</th>\n      <td>0.0</td>\n      <td>0.0</td>\n      <td>0.0</td>\n      <td>0.0</td>\n      <td>0.0</td>\n      <td>0.0</td>\n      <td>1.0</td>\n      <td>1.0</td>\n    </tr>\n    <tr>\n      <th>WIN_20210323_19_17_40_Pro</th>\n      <td>0.0</td>\n      <td>1.0</td>\n      <td>1.0</td>\n      <td>0.0</td>\n      <td>1.0</td>\n      <td>1.0</td>\n      <td>1.0</td>\n      <td>1.0</td>\n    </tr>\n    <tr>\n      <th>WIN_20210329_10_16_02_Pro</th>\n      <td>1.0</td>\n      <td>1.0</td>\n      <td>1.0</td>\n      <td>1.0</td>\n      <td>1.0</td>\n      <td>1.0</td>\n      <td>1.0</td>\n      <td>1.0</td>\n    </tr>\n    <tr>\n      <th>WIN_20210330_13_10_29_Pro</th>\n      <td>1.0</td>\n      <td>1.0</td>\n      <td>1.0</td>\n      <td>0.0</td>\n      <td>1.0</td>\n      <td>2.0</td>\n      <td>1.0</td>\n      <td>0.0</td>\n    </tr>\n    <tr>\n      <th>WIN_20210331_21_22_52_Pro</th>\n      <td>1.0</td>\n      <td>0.0</td>\n      <td>1.0</td>\n      <td>1.0</td>\n      <td>0.0</td>\n      <td>1.0</td>\n      <td>0.0</td>\n      <td>1.0</td>\n    </tr>\n    <tr>\n      <th>WIN_20210402_14_27_50_Pro</th>\n      <td>1.0</td>\n      <td>0.0</td>\n      <td>1.0</td>\n      <td>0.0</td>\n      <td>1.0</td>\n      <td>0.0</td>\n      <td>1.0</td>\n      <td>1.0</td>\n    </tr>\n    <tr>\n      <th>WIN_20210402_19_04_53_Pro</th>\n      <td>1.0</td>\n      <td>1.0</td>\n      <td>0.0</td>\n      <td>1.0</td>\n      <td>1.0</td>\n      <td>1.0</td>\n      <td>0.0</td>\n      <td>1.0</td>\n    </tr>\n    <tr>\n      <th>WIN_20210403_18_49_15_Pro</th>\n      <td>1.0</td>\n      <td>1.0</td>\n      <td>1.0</td>\n      <td>1.0</td>\n      <td>1.0</td>\n      <td>1.0</td>\n      <td>1.0</td>\n      <td>1.0</td>\n    </tr>\n    <tr>\n      <th>WIN_20210404_10_58_27_Pro</th>\n      <td>1.0</td>\n      <td>0.0</td>\n      <td>0.0</td>\n      <td>1.0</td>\n      <td>0.0</td>\n      <td>1.0</td>\n      <td>1.0</td>\n      <td>1.0</td>\n    </tr>\n    <tr>\n      <th>WIN_20210404_21_41_12_Pro</th>\n      <td>1.0</td>\n      <td>1.0</td>\n      <td>1.0</td>\n      <td>1.0</td>\n      <td>1.0</td>\n      <td>1.0</td>\n      <td>1.0</td>\n      <td>1.0</td>\n    </tr>\n    <tr>\n      <th>WIN_20210405_15_09_16_Pro</th>\n      <td>1.0</td>\n      <td>1.0</td>\n      <td>0.0</td>\n      <td>0.0</td>\n      <td>0.0</td>\n      <td>1.0</td>\n      <td>0.0</td>\n      <td>1.0</td>\n    </tr>\n    <tr>\n      <th>WIN_20210406_15_06_15_Pro</th>\n      <td>1.0</td>\n      <td>1.0</td>\n      <td>0.0</td>\n      <td>1.0</td>\n      <td>1.0</td>\n      <td>1.0</td>\n      <td>1.0</td>\n      <td>1.0</td>\n    </tr>\n    <tr>\n      <th>WIN_20210406_18_35_52_Pro</th>\n      <td>1.0</td>\n      <td>1.0</td>\n      <td>0.0</td>\n      <td>0.0</td>\n      <td>0.0</td>\n      <td>1.0</td>\n      <td>1.0</td>\n      <td>1.0</td>\n    </tr>\n    <tr>\n      <th>WIN_20210406_18_49_10_Pro</th>\n      <td>1.0</td>\n      <td>1.0</td>\n      <td>1.0</td>\n      <td>0.0</td>\n      <td>0.0</td>\n      <td>1.0</td>\n      <td>1.0</td>\n      <td>1.0</td>\n    </tr>\n    <tr>\n      <th>WIN_20210406_21_05_52_Pro</th>\n      <td>1.0</td>\n      <td>0.0</td>\n      <td>1.0</td>\n      <td>1.0</td>\n      <td>1.0</td>\n      <td>1.0</td>\n      <td>1.0</td>\n      <td>1.0</td>\n    </tr>\n    <tr>\n      <th>WIN_20210407_09_04_05_Pro</th>\n      <td>0.0</td>\n      <td>0.0</td>\n      <td>0.0</td>\n      <td>1.0</td>\n      <td>0.0</td>\n      <td>0.0</td>\n      <td>1.0</td>\n      <td>0.0</td>\n    </tr>\n    <tr>\n      <th>WIN_20210407_14_54_56_Pro_edit2</th>\n      <td>1.0</td>\n      <td>1.0</td>\n      <td>1.0</td>\n      <td>1.0</td>\n      <td>0.0</td>\n      <td>1.0</td>\n      <td>1.0</td>\n      <td>1.0</td>\n    </tr>\n    <tr>\n      <th>WIN_20210408_11_48_58_Pro</th>\n      <td>0.0</td>\n      <td>1.0</td>\n      <td>0.0</td>\n      <td>0.0</td>\n      <td>0.0</td>\n      <td>1.0</td>\n      <td>1.0</td>\n      <td>0.0</td>\n    </tr>\n    <tr>\n      <th>WIN_20210408_14_00_44_Pro</th>\n      <td>0.0</td>\n      <td>0.0</td>\n      <td>1.0</td>\n      <td>0.0</td>\n      <td>0.0</td>\n      <td>1.0</td>\n      <td>0.0</td>\n      <td>0.0</td>\n    </tr>\n    <tr>\n      <th>WIN_20210408_14_02_19_Pro</th>\n      <td>1.0</td>\n      <td>1.0</td>\n      <td>1.0</td>\n      <td>1.0</td>\n      <td>1.0</td>\n      <td>1.0</td>\n      <td>1.0</td>\n      <td>1.0</td>\n    </tr>\n    <tr>\n      <th>WIN_20210408_14_11_32_Pro</th>\n      <td>1.0</td>\n      <td>1.0</td>\n      <td>1.0</td>\n      <td>1.0</td>\n      <td>1.0</td>\n      <td>1.0</td>\n      <td>1.0</td>\n      <td>1.0</td>\n    </tr>\n    <tr>\n      <th>WIN_20210408_15_20_51_Pro</th>\n      <td>1.0</td>\n      <td>0.0</td>\n      <td>1.0</td>\n      <td>1.0</td>\n      <td>0.0</td>\n      <td>1.0</td>\n      <td>0.0</td>\n      <td>1.0</td>\n    </tr>\n    <tr>\n      <th>WIN_20210408_16_04_32_Pro</th>\n      <td>1.0</td>\n      <td>1.0</td>\n      <td>1.0</td>\n      <td>1.0</td>\n      <td>1.0</td>\n      <td>1.0</td>\n      <td>1.0</td>\n      <td>1.0</td>\n    </tr>\n    <tr>\n      <th>WIN_20210409_10_26_11_Pro</th>\n      <td>1.0</td>\n      <td>1.0</td>\n      <td>1.0</td>\n      <td>1.0</td>\n      <td>1.0</td>\n      <td>0.0</td>\n      <td>1.0</td>\n      <td>1.0</td>\n    </tr>\n    <tr>\n      <th>WIN_20210413_15_38_01_Pro</th>\n      <td>1.0</td>\n      <td>1.0</td>\n      <td>0.0</td>\n      <td>1.0</td>\n      <td>1.0</td>\n      <td>1.0</td>\n      <td>1.0</td>\n      <td>1.0</td>\n    </tr>\n    <tr>\n      <th>WIN_20210414_06_24_52_Pro</th>\n      <td>1.0</td>\n      <td>1.0</td>\n      <td>1.0</td>\n      <td>1.0</td>\n      <td>1.0</td>\n      <td>1.0</td>\n      <td>1.0</td>\n      <td>1.0</td>\n    </tr>\n    <tr>\n      <th>WIN_20210415_15_41_24_Pro</th>\n      <td>1.0</td>\n      <td>0.0</td>\n      <td>1.0</td>\n      <td>1.0</td>\n      <td>0.0</td>\n      <td>1.0</td>\n      <td>1.0</td>\n      <td>1.0</td>\n    </tr>\n    <tr>\n      <th>WIN_20210416_08_06_54_Pro</th>\n      <td>1.0</td>\n      <td>1.0</td>\n      <td>1.0</td>\n      <td>1.0</td>\n      <td>1.0</td>\n      <td>0.0</td>\n      <td>1.0</td>\n      <td>0.0</td>\n    </tr>\n    <tr>\n      <th>WIN_20210417_14_53_12_Pro</th>\n      <td>1.0</td>\n      <td>0.0</td>\n      <td>1.0</td>\n      <td>1.0</td>\n      <td>1.0</td>\n      <td>1.0</td>\n      <td>1.0</td>\n      <td>1.0</td>\n    </tr>\n  </tbody>\n</table>\n</div>"
     },
     "metadata": {},
     "execution_count": 39
    }
   ],
   "source": [
    "ypredict_stress_diapo"
   ]
  },
  {
   "cell_type": "code",
   "execution_count": 40,
   "metadata": {},
   "outputs": [
    {
     "output_type": "execute_result",
     "data": {
      "text/plain": [
       "                                   1    8    9   10   11   12   17   18  \\\n",
       "video_name                                                                \n",
       "Test_pour_AFPA                   1.0  1.0  0.0  0.0  0.0  1.0  0.0  1.0   \n",
       "Video_1                          0.0  0.0  0.0  0.0  1.0  1.0  1.0  1.0   \n",
       "WIN_20210323_19_17_40_Pro        1.0  0.0  1.0  1.0  1.0  1.0  1.0  1.0   \n",
       "WIN_20210329_10_16_02_Pro        0.0  0.0  1.0  1.0  0.0  1.0  0.0  0.0   \n",
       "WIN_20210330_13_10_29_Pro        0.0  0.0  0.0  0.0  1.0  0.0  0.0  0.0   \n",
       "WIN_20210331_21_22_52_Pro        0.0  0.0  1.0  1.0  1.0  1.0  0.0  0.0   \n",
       "WIN_20210402_14_27_50_Pro        1.0  1.0  1.0  2.0  1.0  1.0  1.0  1.0   \n",
       "WIN_20210402_19_04_53_Pro        2.0  1.0  1.0  1.0  1.0  2.0  1.0  2.0   \n",
       "WIN_20210403_18_49_15_Pro        1.0  1.0  1.0  1.0  1.0  2.0  2.0  1.0   \n",
       "WIN_20210404_10_58_27_Pro        0.0  1.0  1.0  1.0  1.0  1.0  1.0  1.0   \n",
       "WIN_20210404_21_41_12_Pro        0.0  0.0  1.0  0.0  0.0  1.0  0.0  1.0   \n",
       "WIN_20210405_15_09_16_Pro        0.0  1.0  1.0  1.0  1.0  0.0  0.0  1.0   \n",
       "WIN_20210406_15_06_15_Pro        1.0  1.0  1.0  1.0  1.0  2.0  1.0  2.0   \n",
       "WIN_20210406_18_35_52_Pro        0.0  0.0  1.0  0.0  0.0  1.0  0.0  1.0   \n",
       "WIN_20210406_18_49_10_Pro        1.0  0.0  1.0  1.0  1.0  1.0  1.0  1.0   \n",
       "WIN_20210406_21_05_52_Pro        1.0  2.0  2.0  1.0  2.0  1.0  1.0  1.0   \n",
       "WIN_20210407_09_04_05_Pro        0.0  0.0  2.0  1.0  3.0  1.0  0.0  2.0   \n",
       "WIN_20210407_14_54_56_Pro_edit2  0.0  0.0  0.0  0.0  0.0  1.0  0.0  1.0   \n",
       "WIN_20210408_11_48_58_Pro        0.0  1.0  1.0  1.0  1.0  1.0  1.0  2.0   \n",
       "WIN_20210408_14_00_44_Pro        0.0  0.0  0.0  0.0  0.0  1.0  0.0  0.0   \n",
       "WIN_20210408_14_02_19_Pro        0.0  1.0  0.0  0.0  0.0  0.0  0.0  1.0   \n",
       "WIN_20210408_14_11_32_Pro        0.0  2.0  2.0  2.0  2.0  1.0  0.0  1.0   \n",
       "WIN_20210408_15_20_51_Pro        0.0  0.0  0.0  0.0  0.0  0.0  0.0  0.0   \n",
       "WIN_20210408_16_04_32_Pro        0.0  0.0  1.0  0.0  0.0  0.0  0.0  0.0   \n",
       "WIN_20210409_10_26_11_Pro        1.0  1.0  0.0  1.0  0.0  0.0  1.0  1.0   \n",
       "WIN_20210413_15_38_01_Pro        1.0  0.0  0.0  0.0  0.0  1.0  1.0  1.0   \n",
       "WIN_20210414_06_24_52_Pro        2.0  2.0  2.0  2.0  2.0  1.0  1.0  2.0   \n",
       "WIN_20210415_15_41_24_Pro        1.0  0.0  0.0  1.0  0.0  0.0  0.0  0.0   \n",
       "WIN_20210416_08_06_54_Pro        1.0  2.0  1.0  1.0  1.0  0.0  0.0  1.0   \n",
       "WIN_20210417_14_53_12_Pro        0.0  0.0  0.0  0.0  0.0  0.0  1.0  1.0   \n",
       "\n",
       "                                 stress_global  \n",
       "video_name                                      \n",
       "Test_pour_AFPA                             1.0  \n",
       "Video_1                                    0.0  \n",
       "WIN_20210323_19_17_40_Pro                  1.0  \n",
       "WIN_20210329_10_16_02_Pro                  1.0  \n",
       "WIN_20210330_13_10_29_Pro                  0.0  \n",
       "WIN_20210331_21_22_52_Pro                  1.0  \n",
       "WIN_20210402_14_27_50_Pro                  1.0  \n",
       "WIN_20210402_19_04_53_Pro                  2.0  \n",
       "WIN_20210403_18_49_15_Pro                  2.0  \n",
       "WIN_20210404_10_58_27_Pro                  1.0  \n",
       "WIN_20210404_21_41_12_Pro                  0.0  \n",
       "WIN_20210405_15_09_16_Pro                  1.0  \n",
       "WIN_20210406_15_06_15_Pro                  2.0  \n",
       "WIN_20210406_18_35_52_Pro                  0.0  \n",
       "WIN_20210406_18_49_10_Pro                  1.0  \n",
       "WIN_20210406_21_05_52_Pro                  2.0  \n",
       "WIN_20210407_09_04_05_Pro                  2.0  \n",
       "WIN_20210407_14_54_56_Pro_edit2            0.0  \n",
       "WIN_20210408_11_48_58_Pro                  2.0  \n",
       "WIN_20210408_14_00_44_Pro                  0.0  \n",
       "WIN_20210408_14_02_19_Pro                  0.0  \n",
       "WIN_20210408_14_11_32_Pro                  2.0  \n",
       "WIN_20210408_15_20_51_Pro                  0.0  \n",
       "WIN_20210408_16_04_32_Pro                  0.0  \n",
       "WIN_20210409_10_26_11_Pro                  0.0  \n",
       "WIN_20210413_15_38_01_Pro                  1.0  \n",
       "WIN_20210414_06_24_52_Pro                  2.0  \n",
       "WIN_20210415_15_41_24_Pro                  0.0  \n",
       "WIN_20210416_08_06_54_Pro                  1.0  \n",
       "WIN_20210417_14_53_12_Pro                  0.0  "
      ],
      "text/html": "<div>\n<style scoped>\n    .dataframe tbody tr th:only-of-type {\n        vertical-align: middle;\n    }\n\n    .dataframe tbody tr th {\n        vertical-align: top;\n    }\n\n    .dataframe thead th {\n        text-align: right;\n    }\n</style>\n<table border=\"1\" class=\"dataframe\">\n  <thead>\n    <tr style=\"text-align: right;\">\n      <th></th>\n      <th>1</th>\n      <th>8</th>\n      <th>9</th>\n      <th>10</th>\n      <th>11</th>\n      <th>12</th>\n      <th>17</th>\n      <th>18</th>\n      <th>stress_global</th>\n    </tr>\n    <tr>\n      <th>video_name</th>\n      <th></th>\n      <th></th>\n      <th></th>\n      <th></th>\n      <th></th>\n      <th></th>\n      <th></th>\n      <th></th>\n      <th></th>\n    </tr>\n  </thead>\n  <tbody>\n    <tr>\n      <th>Test_pour_AFPA</th>\n      <td>1.0</td>\n      <td>1.0</td>\n      <td>0.0</td>\n      <td>0.0</td>\n      <td>0.0</td>\n      <td>1.0</td>\n      <td>0.0</td>\n      <td>1.0</td>\n      <td>1.0</td>\n    </tr>\n    <tr>\n      <th>Video_1</th>\n      <td>0.0</td>\n      <td>0.0</td>\n      <td>0.0</td>\n      <td>0.0</td>\n      <td>1.0</td>\n      <td>1.0</td>\n      <td>1.0</td>\n      <td>1.0</td>\n      <td>0.0</td>\n    </tr>\n    <tr>\n      <th>WIN_20210323_19_17_40_Pro</th>\n      <td>1.0</td>\n      <td>0.0</td>\n      <td>1.0</td>\n      <td>1.0</td>\n      <td>1.0</td>\n      <td>1.0</td>\n      <td>1.0</td>\n      <td>1.0</td>\n      <td>1.0</td>\n    </tr>\n    <tr>\n      <th>WIN_20210329_10_16_02_Pro</th>\n      <td>0.0</td>\n      <td>0.0</td>\n      <td>1.0</td>\n      <td>1.0</td>\n      <td>0.0</td>\n      <td>1.0</td>\n      <td>0.0</td>\n      <td>0.0</td>\n      <td>1.0</td>\n    </tr>\n    <tr>\n      <th>WIN_20210330_13_10_29_Pro</th>\n      <td>0.0</td>\n      <td>0.0</td>\n      <td>0.0</td>\n      <td>0.0</td>\n      <td>1.0</td>\n      <td>0.0</td>\n      <td>0.0</td>\n      <td>0.0</td>\n      <td>0.0</td>\n    </tr>\n    <tr>\n      <th>WIN_20210331_21_22_52_Pro</th>\n      <td>0.0</td>\n      <td>0.0</td>\n      <td>1.0</td>\n      <td>1.0</td>\n      <td>1.0</td>\n      <td>1.0</td>\n      <td>0.0</td>\n      <td>0.0</td>\n      <td>1.0</td>\n    </tr>\n    <tr>\n      <th>WIN_20210402_14_27_50_Pro</th>\n      <td>1.0</td>\n      <td>1.0</td>\n      <td>1.0</td>\n      <td>2.0</td>\n      <td>1.0</td>\n      <td>1.0</td>\n      <td>1.0</td>\n      <td>1.0</td>\n      <td>1.0</td>\n    </tr>\n    <tr>\n      <th>WIN_20210402_19_04_53_Pro</th>\n      <td>2.0</td>\n      <td>1.0</td>\n      <td>1.0</td>\n      <td>1.0</td>\n      <td>1.0</td>\n      <td>2.0</td>\n      <td>1.0</td>\n      <td>2.0</td>\n      <td>2.0</td>\n    </tr>\n    <tr>\n      <th>WIN_20210403_18_49_15_Pro</th>\n      <td>1.0</td>\n      <td>1.0</td>\n      <td>1.0</td>\n      <td>1.0</td>\n      <td>1.0</td>\n      <td>2.0</td>\n      <td>2.0</td>\n      <td>1.0</td>\n      <td>2.0</td>\n    </tr>\n    <tr>\n      <th>WIN_20210404_10_58_27_Pro</th>\n      <td>0.0</td>\n      <td>1.0</td>\n      <td>1.0</td>\n      <td>1.0</td>\n      <td>1.0</td>\n      <td>1.0</td>\n      <td>1.0</td>\n      <td>1.0</td>\n      <td>1.0</td>\n    </tr>\n    <tr>\n      <th>WIN_20210404_21_41_12_Pro</th>\n      <td>0.0</td>\n      <td>0.0</td>\n      <td>1.0</td>\n      <td>0.0</td>\n      <td>0.0</td>\n      <td>1.0</td>\n      <td>0.0</td>\n      <td>1.0</td>\n      <td>0.0</td>\n    </tr>\n    <tr>\n      <th>WIN_20210405_15_09_16_Pro</th>\n      <td>0.0</td>\n      <td>1.0</td>\n      <td>1.0</td>\n      <td>1.0</td>\n      <td>1.0</td>\n      <td>0.0</td>\n      <td>0.0</td>\n      <td>1.0</td>\n      <td>1.0</td>\n    </tr>\n    <tr>\n      <th>WIN_20210406_15_06_15_Pro</th>\n      <td>1.0</td>\n      <td>1.0</td>\n      <td>1.0</td>\n      <td>1.0</td>\n      <td>1.0</td>\n      <td>2.0</td>\n      <td>1.0</td>\n      <td>2.0</td>\n      <td>2.0</td>\n    </tr>\n    <tr>\n      <th>WIN_20210406_18_35_52_Pro</th>\n      <td>0.0</td>\n      <td>0.0</td>\n      <td>1.0</td>\n      <td>0.0</td>\n      <td>0.0</td>\n      <td>1.0</td>\n      <td>0.0</td>\n      <td>1.0</td>\n      <td>0.0</td>\n    </tr>\n    <tr>\n      <th>WIN_20210406_18_49_10_Pro</th>\n      <td>1.0</td>\n      <td>0.0</td>\n      <td>1.0</td>\n      <td>1.0</td>\n      <td>1.0</td>\n      <td>1.0</td>\n      <td>1.0</td>\n      <td>1.0</td>\n      <td>1.0</td>\n    </tr>\n    <tr>\n      <th>WIN_20210406_21_05_52_Pro</th>\n      <td>1.0</td>\n      <td>2.0</td>\n      <td>2.0</td>\n      <td>1.0</td>\n      <td>2.0</td>\n      <td>1.0</td>\n      <td>1.0</td>\n      <td>1.0</td>\n      <td>2.0</td>\n    </tr>\n    <tr>\n      <th>WIN_20210407_09_04_05_Pro</th>\n      <td>0.0</td>\n      <td>0.0</td>\n      <td>2.0</td>\n      <td>1.0</td>\n      <td>3.0</td>\n      <td>1.0</td>\n      <td>0.0</td>\n      <td>2.0</td>\n      <td>2.0</td>\n    </tr>\n    <tr>\n      <th>WIN_20210407_14_54_56_Pro_edit2</th>\n      <td>0.0</td>\n      <td>0.0</td>\n      <td>0.0</td>\n      <td>0.0</td>\n      <td>0.0</td>\n      <td>1.0</td>\n      <td>0.0</td>\n      <td>1.0</td>\n      <td>0.0</td>\n    </tr>\n    <tr>\n      <th>WIN_20210408_11_48_58_Pro</th>\n      <td>0.0</td>\n      <td>1.0</td>\n      <td>1.0</td>\n      <td>1.0</td>\n      <td>1.0</td>\n      <td>1.0</td>\n      <td>1.0</td>\n      <td>2.0</td>\n      <td>2.0</td>\n    </tr>\n    <tr>\n      <th>WIN_20210408_14_00_44_Pro</th>\n      <td>0.0</td>\n      <td>0.0</td>\n      <td>0.0</td>\n      <td>0.0</td>\n      <td>0.0</td>\n      <td>1.0</td>\n      <td>0.0</td>\n      <td>0.0</td>\n      <td>0.0</td>\n    </tr>\n    <tr>\n      <th>WIN_20210408_14_02_19_Pro</th>\n      <td>0.0</td>\n      <td>1.0</td>\n      <td>0.0</td>\n      <td>0.0</td>\n      <td>0.0</td>\n      <td>0.0</td>\n      <td>0.0</td>\n      <td>1.0</td>\n      <td>0.0</td>\n    </tr>\n    <tr>\n      <th>WIN_20210408_14_11_32_Pro</th>\n      <td>0.0</td>\n      <td>2.0</td>\n      <td>2.0</td>\n      <td>2.0</td>\n      <td>2.0</td>\n      <td>1.0</td>\n      <td>0.0</td>\n      <td>1.0</td>\n      <td>2.0</td>\n    </tr>\n    <tr>\n      <th>WIN_20210408_15_20_51_Pro</th>\n      <td>0.0</td>\n      <td>0.0</td>\n      <td>0.0</td>\n      <td>0.0</td>\n      <td>0.0</td>\n      <td>0.0</td>\n      <td>0.0</td>\n      <td>0.0</td>\n      <td>0.0</td>\n    </tr>\n    <tr>\n      <th>WIN_20210408_16_04_32_Pro</th>\n      <td>0.0</td>\n      <td>0.0</td>\n      <td>1.0</td>\n      <td>0.0</td>\n      <td>0.0</td>\n      <td>0.0</td>\n      <td>0.0</td>\n      <td>0.0</td>\n      <td>0.0</td>\n    </tr>\n    <tr>\n      <th>WIN_20210409_10_26_11_Pro</th>\n      <td>1.0</td>\n      <td>1.0</td>\n      <td>0.0</td>\n      <td>1.0</td>\n      <td>0.0</td>\n      <td>0.0</td>\n      <td>1.0</td>\n      <td>1.0</td>\n      <td>0.0</td>\n    </tr>\n    <tr>\n      <th>WIN_20210413_15_38_01_Pro</th>\n      <td>1.0</td>\n      <td>0.0</td>\n      <td>0.0</td>\n      <td>0.0</td>\n      <td>0.0</td>\n      <td>1.0</td>\n      <td>1.0</td>\n      <td>1.0</td>\n      <td>1.0</td>\n    </tr>\n    <tr>\n      <th>WIN_20210414_06_24_52_Pro</th>\n      <td>2.0</td>\n      <td>2.0</td>\n      <td>2.0</td>\n      <td>2.0</td>\n      <td>2.0</td>\n      <td>1.0</td>\n      <td>1.0</td>\n      <td>2.0</td>\n      <td>2.0</td>\n    </tr>\n    <tr>\n      <th>WIN_20210415_15_41_24_Pro</th>\n      <td>1.0</td>\n      <td>0.0</td>\n      <td>0.0</td>\n      <td>1.0</td>\n      <td>0.0</td>\n      <td>0.0</td>\n      <td>0.0</td>\n      <td>0.0</td>\n      <td>0.0</td>\n    </tr>\n    <tr>\n      <th>WIN_20210416_08_06_54_Pro</th>\n      <td>1.0</td>\n      <td>2.0</td>\n      <td>1.0</td>\n      <td>1.0</td>\n      <td>1.0</td>\n      <td>0.0</td>\n      <td>0.0</td>\n      <td>1.0</td>\n      <td>1.0</td>\n    </tr>\n    <tr>\n      <th>WIN_20210417_14_53_12_Pro</th>\n      <td>0.0</td>\n      <td>0.0</td>\n      <td>0.0</td>\n      <td>0.0</td>\n      <td>0.0</td>\n      <td>0.0</td>\n      <td>1.0</td>\n      <td>1.0</td>\n      <td>0.0</td>\n    </tr>\n  </tbody>\n</table>\n</div>"
     },
     "metadata": {},
     "execution_count": 40
    }
   ],
   "source": [
    "df_annotations_stress = pd.read_csv('annotations.csv')\n",
    "df_annotations_stress = df_annotations_stress.set_index(['video_name'])\n",
    "df_annotations_stress"
   ]
  },
  {
   "cell_type": "code",
   "execution_count": 41,
   "metadata": {},
   "outputs": [],
   "source": [
    "Xy = ypredict_stress_diapo.merge(df_annotations_stress.iloc[:,-1],how='inner',on='video_name')\n",
    "X = Xy.iloc[:,:-1]\n",
    "y = Xy.iloc[:,-1]"
   ]
  },
  {
   "cell_type": "code",
   "execution_count": 42,
   "metadata": {},
   "outputs": [],
   "source": [
    "from sklearn.linear_model import LogisticRegression\n",
    "from sklearn.neighbors import KNeighborsClassifier\n",
    "from sklearn.ensemble import RandomForestClassifier\n",
    "from sklearn.model_selection import LeaveOneGroupOut\n",
    "from sklearn.decomposition import PCA\n",
    "from sklearn.pipeline import Pipeline\n",
    "\n",
    "pca = PCA()\n",
    "\n",
    "models_list = [\n",
    "                LogisticRegression(multi_class='multinomial', fit_intercept=True, random_state=42),\n",
    "                Pipeline(steps=[('pca', pca), ('logistic', LogisticRegression(multi_class='multinomial', fit_intercept=True))]),\n",
    "                KNeighborsClassifier(),\n",
    "                Pipeline(steps=[('pca', pca), ('knn', KNeighborsClassifier())]),\n",
    "                RandomForestClassifier(random_state = 42, n_jobs=-1)\n",
    "                ]\n",
    "\n",
    "parameters_list = [\n",
    "                    {'C': [0.01, 0.05, 0.1, 0.5, 1, 2, 3, 4 , 5, 10], 'class_weight' : [None, 'balanced']},\n",
    "                    {'pca__n_components': [1, 2, 3, 4],\n",
    "                        'logistic__C': [0.01, 0.05, 0.1, 0.5, 1, 2, 3, 4 , 5, 10], 'logistic__class_weight' : [None, 'balanced']},\n",
    "                    {'n_neighbors': [4, 5, 6, 7, 8, 9, 10, 11, 12,  15, 20], 'weights' : ['uniform', 'distance'], 'p': [1, 2]},\n",
    "                    {'pca__n_components': [1, 2, 3, 4],\n",
    "                        'knn__n_neighbors': [4, 5, 6, 7, 8, 9, 10, 11, 12,  15, 20], 'knn__weights' : ['uniform', 'distance'],                              'knn__p': [1, 2]},\n",
    "                    {'n_estimators': [50, 100, 150, 200], 'max_depth':[3, 4, 5, 6, 10, 15, 20], 'class_weight':[None,'balanced']}\n",
    "                    ]\n",
    "\n",
    "groups = X.reset_index()['video_name']\n",
    "loo = LeaveOneGroupOut()\n",
    "cv_loo = loo.split(X, y, groups)"
   ]
  },
  {
   "cell_type": "code",
   "execution_count": 43,
   "metadata": {},
   "outputs": [
    {
     "output_type": "stream",
     "name": "stdout",
     "text": [
      "Fitting 30 folds for each of 20 candidates, totalling 600 fits\n",
      "[Parallel(n_jobs=-1)]: Using backend LokyBackend with 8 concurrent workers.\n",
      "[Parallel(n_jobs=-1)]: Done  56 tasks      | elapsed:    0.4s\n",
      "[Parallel(n_jobs=-1)]: Done 600 out of 600 | elapsed:    2.8s finished\n",
      "[Parallel(n_jobs=-1)]: Using backend LokyBackend with 8 concurrent workers.\n",
      "Best estimator LogisticRegression(C=0.01, multi_class='multinomial', random_state=42)\n",
      "Best results 0.4\n",
      "Best params {'C': 0.01, 'class_weight': None}\n",
      "accuracy (mean, std) 0.4 0.4898979485566357\n",
      "f1 (mean, std) 0.4 0.4898979485566357\n",
      "balanced accuracy (mean, std) 0.4 0.4898979485566357\n",
      "precision (mean, std) 0.4 0.4898979485566357\n",
      "recall (mean, std) 0.4 0.4898979485566357\n",
      "\n",
      "Fitting 30 folds for each of 80 candidates, totalling 2400 fits\n",
      "[Parallel(n_jobs=-1)]: Done  56 tasks      | elapsed:    0.4s\n",
      "[Parallel(n_jobs=-1)]: Done 1200 tasks      | elapsed:    4.0s\n",
      "[Parallel(n_jobs=-1)]: Done 2400 out of 2400 | elapsed:    7.9s finished\n",
      "[Parallel(n_jobs=-1)]: Using backend LokyBackend with 8 concurrent workers.\n",
      "Best estimator Pipeline(steps=[('pca', PCA(n_components=1)),\n",
      "                ('logistic',\n",
      "                 LogisticRegression(C=0.01, class_weight='balanced',\n",
      "                                    multi_class='multinomial'))])\n",
      "Best results 0.43333333333333335\n",
      "Best params {'logistic__C': 0.01, 'logistic__class_weight': 'balanced', 'pca__n_components': 1}\n",
      "accuracy (mean, std) 0.43333333333333335 0.49553562491061687\n",
      "f1 (mean, std) 0.43333333333333335 0.49553562491061687\n",
      "balanced accuracy (mean, std) 0.43333333333333335 0.49553562491061687\n",
      "precision (mean, std) 0.43333333333333335 0.49553562491061687\n",
      "recall (mean, std) 0.43333333333333335 0.49553562491061687\n",
      "\n",
      "Fitting 30 folds for each of 44 candidates, totalling 1320 fits\n",
      "[Parallel(n_jobs=-1)]: Done  56 tasks      | elapsed:    0.2s\n",
      "[Parallel(n_jobs=-1)]: Done 1320 out of 1320 | elapsed:    3.1s finished\n",
      "[Parallel(n_jobs=-1)]: Using backend LokyBackend with 8 concurrent workers.\n",
      "Best estimator KNeighborsClassifier(p=1)\n",
      "Best results 0.4\n",
      "Best params {'n_neighbors': 5, 'p': 1, 'weights': 'uniform'}\n",
      "accuracy (mean, std) 0.4 0.4898979485566357\n",
      "f1 (mean, std) 0.4 0.4898979485566357\n",
      "balanced accuracy (mean, std) 0.4 0.4898979485566357\n",
      "precision (mean, std) 0.4 0.4898979485566357\n",
      "recall (mean, std) 0.4 0.4898979485566357\n",
      "\n",
      "Fitting 30 folds for each of 176 candidates, totalling 5280 fits\n",
      "[Parallel(n_jobs=-1)]: Done  56 tasks      | elapsed:    0.3s\n",
      "[Parallel(n_jobs=-1)]: Done 2160 tasks      | elapsed:    5.8s\n",
      "[Parallel(n_jobs=-1)]: Done 5280 out of 5280 | elapsed:   13.5s finished\n",
      "[Parallel(n_jobs=-1)]: Using backend LokyBackend with 8 concurrent workers.\n",
      "Best estimator Pipeline(steps=[('pca', PCA(n_components=4)),\n",
      "                ('knn', KNeighborsClassifier(n_neighbors=9, p=1))])\n",
      "Best results 0.43333333333333335\n",
      "Best params {'knn__n_neighbors': 9, 'knn__p': 1, 'knn__weights': 'uniform', 'pca__n_components': 4}\n",
      "accuracy (mean, std) 0.43333333333333335 0.4955356249106168\n",
      "f1 (mean, std) 0.43333333333333335 0.4955356249106168\n",
      "balanced accuracy (mean, std) 0.43333333333333335 0.4955356249106168\n",
      "precision (mean, std) 0.43333333333333335 0.4955356249106168\n",
      "recall (mean, std) 0.43333333333333335 0.4955356249106168\n",
      "\n",
      "Fitting 30 folds for each of 56 candidates, totalling 1680 fits\n",
      "[Parallel(n_jobs=-1)]: Done  52 tasks      | elapsed:    2.3s\n",
      "[Parallel(n_jobs=-1)]: Done 240 tasks      | elapsed:   13.9s\n",
      "[Parallel(n_jobs=-1)]: Done 490 tasks      | elapsed:   28.2s\n",
      "[Parallel(n_jobs=-1)]: Done 840 tasks      | elapsed:   48.7s\n",
      "[Parallel(n_jobs=-1)]: Done 1290 tasks      | elapsed:  1.2min\n",
      "[Parallel(n_jobs=-1)]: Done 1680 out of 1680 | elapsed:  1.6min finished\n",
      "Best estimator RandomForestClassifier(max_depth=3, n_estimators=50, n_jobs=-1, random_state=42)\n",
      "Best results 0.23333333333333334\n",
      "Best params {'class_weight': None, 'max_depth': 3, 'n_estimators': 50}\n",
      "accuracy (mean, std) 0.23333333333333334 0.4229525846816506\n",
      "f1 (mean, std) 0.23333333333333334 0.4229525846816506\n",
      "balanced accuracy (mean, std) 0.23333333333333334 0.4229525846816506\n",
      "precision (mean, std) 0.23333333333333334 0.4229525846816506\n",
      "recall (mean, std) 0.23333333333333334 0.4229525846816506\n",
      "\n"
     ]
    }
   ],
   "source": [
    "best_result, y_predict, result_list = runGridSearchClassifiers(X, y, cv_loo, models_list, parameters_list, \n",
    "                                                                output_predict=True, n_jobs=-1, verbose=True)"
   ]
  },
  {
   "cell_type": "code",
   "execution_count": 44,
   "metadata": {},
   "outputs": [
    {
     "output_type": "execute_result",
     "data": {
      "text/plain": [
       "{'best_estimator': Pipeline(steps=[('pca', PCA(n_components=1)),\n",
       "                 ('logistic',\n",
       "                  LogisticRegression(C=0.01, class_weight='balanced',\n",
       "                                     multi_class='multinomial'))]),\n",
       " 'best_score': 0.43333333333333335,\n",
       " 'best_params': {'logistic__C': 0.01,\n",
       "  'logistic__class_weight': 'balanced',\n",
       "  'pca__n_components': 1},\n",
       " 'mean_test_f1_score': 0.43333333333333335,\n",
       " 'std_test_f1_score': 0.49553562491061687,\n",
       " 'mean_test_accuracy_score': 0.43333333333333335,\n",
       " 'std_test_accuracy_score': 0.49553562491061687,\n",
       " 'mean_test_balanced_accuracy_score': 0.43333333333333335,\n",
       " 'std_test_balanced_accuracy_score': 0.49553562491061687,\n",
       " 'mean_test_precision': 0.43333333333333335,\n",
       " 'std_test_precision': 0.49553562491061687,\n",
       " 'mean_test_recall': 0.43333333333333335,\n",
       " 'std_test_recall': 0.49553562491061687}"
      ]
     },
     "metadata": {},
     "execution_count": 44
    }
   ],
   "source": [
    "best_result"
   ]
  },
  {
   "cell_type": "code",
   "execution_count": 45,
   "metadata": {},
   "outputs": [],
   "source": [
    "# Saving predictions\n",
    "df_ypredict = pd.concat([X.reset_index()[['video_name']],\n",
    "                        pd.DataFrame(y_predict, columns=['ypredict'])],axis=1)\n",
    "df_ypredict.to_csv('ypredict_' + features + '_tw5_global' + diapo_selection + '.csv')"
   ]
  },
  {
   "cell_type": "markdown",
   "metadata": {},
   "source": [
    "#### Autre méthode"
   ]
  },
  {
   "cell_type": "markdown",
   "metadata": {},
   "source": [
    "### En utilisant le stress prédit des time windows 5s"
   ]
  },
  {
   "cell_type": "code",
   "execution_count": 46,
   "metadata": {},
   "outputs": [
    {
     "output_type": "execute_result",
     "data": {
      "text/plain": [
       "ypredict                                0         1         2\n",
       "video_name                                                   \n",
       "Test_pour_AFPA                   0.206349  0.703704  0.089947\n",
       "Video_1                          0.668874  0.331126  0.000000\n",
       "WIN_20210323_19_17_40_Pro        0.369048  0.630952  0.000000\n",
       "WIN_20210329_10_16_02_Pro        0.020408  0.979592  0.000000\n",
       "WIN_20210330_13_10_29_Pro        0.231788  0.761589  0.006623\n",
       "WIN_20210331_21_22_52_Pro        0.405882  0.594118  0.000000\n",
       "WIN_20210402_14_27_50_Pro        0.048387  0.940860  0.010753\n",
       "WIN_20210402_19_04_53_Pro        0.468571  0.531429  0.000000\n",
       "WIN_20210403_18_49_15_Pro        0.370166  0.629834  0.000000\n",
       "WIN_20210404_10_58_27_Pro        0.415000  0.200000  0.385000\n",
       "WIN_20210404_21_41_12_Pro        0.288793  0.711207  0.000000\n",
       "WIN_20210405_15_09_16_Pro        0.522581  0.477419  0.000000\n",
       "WIN_20210406_15_06_15_Pro        0.160976  0.839024  0.000000\n",
       "WIN_20210406_18_35_52_Pro        0.512658  0.487342  0.000000\n",
       "WIN_20210406_18_49_10_Pro        0.315789  0.684211  0.000000\n",
       "WIN_20210406_21_05_52_Pro        0.281081  0.718919  0.000000\n",
       "WIN_20210407_09_04_05_Pro        0.837696  0.157068  0.005236\n",
       "WIN_20210407_14_54_56_Pro_edit2  0.415094  0.584906  0.000000\n",
       "WIN_20210408_11_48_58_Pro        0.031111  0.853333  0.115556\n",
       "WIN_20210408_14_00_44_Pro        0.702247  0.297753  0.000000\n",
       "WIN_20210408_14_02_19_Pro        0.305882  0.694118  0.000000\n",
       "WIN_20210408_14_11_32_Pro        0.019231  0.980769  0.000000\n",
       "WIN_20210408_15_20_51_Pro        0.137255  0.617647  0.245098\n",
       "WIN_20210408_16_04_32_Pro        0.158824  0.841176  0.000000\n",
       "WIN_20210409_10_26_11_Pro        0.104046  0.895954  0.000000\n",
       "WIN_20210413_15_38_01_Pro        0.236994  0.763006  0.000000\n",
       "WIN_20210414_06_24_52_Pro        0.155440  0.834197  0.010363\n",
       "WIN_20210415_15_41_24_Pro        0.493088  0.506912  0.000000\n",
       "WIN_20210416_08_06_54_Pro        0.116564  0.883436  0.000000\n",
       "WIN_20210417_14_53_12_Pro        0.381679  0.618321  0.000000"
      ],
      "text/html": "<div>\n<style scoped>\n    .dataframe tbody tr th:only-of-type {\n        vertical-align: middle;\n    }\n\n    .dataframe tbody tr th {\n        vertical-align: top;\n    }\n\n    .dataframe thead th {\n        text-align: right;\n    }\n</style>\n<table border=\"1\" class=\"dataframe\">\n  <thead>\n    <tr style=\"text-align: right;\">\n      <th>ypredict</th>\n      <th>0</th>\n      <th>1</th>\n      <th>2</th>\n    </tr>\n    <tr>\n      <th>video_name</th>\n      <th></th>\n      <th></th>\n      <th></th>\n    </tr>\n  </thead>\n  <tbody>\n    <tr>\n      <th>Test_pour_AFPA</th>\n      <td>0.206349</td>\n      <td>0.703704</td>\n      <td>0.089947</td>\n    </tr>\n    <tr>\n      <th>Video_1</th>\n      <td>0.668874</td>\n      <td>0.331126</td>\n      <td>0.000000</td>\n    </tr>\n    <tr>\n      <th>WIN_20210323_19_17_40_Pro</th>\n      <td>0.369048</td>\n      <td>0.630952</td>\n      <td>0.000000</td>\n    </tr>\n    <tr>\n      <th>WIN_20210329_10_16_02_Pro</th>\n      <td>0.020408</td>\n      <td>0.979592</td>\n      <td>0.000000</td>\n    </tr>\n    <tr>\n      <th>WIN_20210330_13_10_29_Pro</th>\n      <td>0.231788</td>\n      <td>0.761589</td>\n      <td>0.006623</td>\n    </tr>\n    <tr>\n      <th>WIN_20210331_21_22_52_Pro</th>\n      <td>0.405882</td>\n      <td>0.594118</td>\n      <td>0.000000</td>\n    </tr>\n    <tr>\n      <th>WIN_20210402_14_27_50_Pro</th>\n      <td>0.048387</td>\n      <td>0.940860</td>\n      <td>0.010753</td>\n    </tr>\n    <tr>\n      <th>WIN_20210402_19_04_53_Pro</th>\n      <td>0.468571</td>\n      <td>0.531429</td>\n      <td>0.000000</td>\n    </tr>\n    <tr>\n      <th>WIN_20210403_18_49_15_Pro</th>\n      <td>0.370166</td>\n      <td>0.629834</td>\n      <td>0.000000</td>\n    </tr>\n    <tr>\n      <th>WIN_20210404_10_58_27_Pro</th>\n      <td>0.415000</td>\n      <td>0.200000</td>\n      <td>0.385000</td>\n    </tr>\n    <tr>\n      <th>WIN_20210404_21_41_12_Pro</th>\n      <td>0.288793</td>\n      <td>0.711207</td>\n      <td>0.000000</td>\n    </tr>\n    <tr>\n      <th>WIN_20210405_15_09_16_Pro</th>\n      <td>0.522581</td>\n      <td>0.477419</td>\n      <td>0.000000</td>\n    </tr>\n    <tr>\n      <th>WIN_20210406_15_06_15_Pro</th>\n      <td>0.160976</td>\n      <td>0.839024</td>\n      <td>0.000000</td>\n    </tr>\n    <tr>\n      <th>WIN_20210406_18_35_52_Pro</th>\n      <td>0.512658</td>\n      <td>0.487342</td>\n      <td>0.000000</td>\n    </tr>\n    <tr>\n      <th>WIN_20210406_18_49_10_Pro</th>\n      <td>0.315789</td>\n      <td>0.684211</td>\n      <td>0.000000</td>\n    </tr>\n    <tr>\n      <th>WIN_20210406_21_05_52_Pro</th>\n      <td>0.281081</td>\n      <td>0.718919</td>\n      <td>0.000000</td>\n    </tr>\n    <tr>\n      <th>WIN_20210407_09_04_05_Pro</th>\n      <td>0.837696</td>\n      <td>0.157068</td>\n      <td>0.005236</td>\n    </tr>\n    <tr>\n      <th>WIN_20210407_14_54_56_Pro_edit2</th>\n      <td>0.415094</td>\n      <td>0.584906</td>\n      <td>0.000000</td>\n    </tr>\n    <tr>\n      <th>WIN_20210408_11_48_58_Pro</th>\n      <td>0.031111</td>\n      <td>0.853333</td>\n      <td>0.115556</td>\n    </tr>\n    <tr>\n      <th>WIN_20210408_14_00_44_Pro</th>\n      <td>0.702247</td>\n      <td>0.297753</td>\n      <td>0.000000</td>\n    </tr>\n    <tr>\n      <th>WIN_20210408_14_02_19_Pro</th>\n      <td>0.305882</td>\n      <td>0.694118</td>\n      <td>0.000000</td>\n    </tr>\n    <tr>\n      <th>WIN_20210408_14_11_32_Pro</th>\n      <td>0.019231</td>\n      <td>0.980769</td>\n      <td>0.000000</td>\n    </tr>\n    <tr>\n      <th>WIN_20210408_15_20_51_Pro</th>\n      <td>0.137255</td>\n      <td>0.617647</td>\n      <td>0.245098</td>\n    </tr>\n    <tr>\n      <th>WIN_20210408_16_04_32_Pro</th>\n      <td>0.158824</td>\n      <td>0.841176</td>\n      <td>0.000000</td>\n    </tr>\n    <tr>\n      <th>WIN_20210409_10_26_11_Pro</th>\n      <td>0.104046</td>\n      <td>0.895954</td>\n      <td>0.000000</td>\n    </tr>\n    <tr>\n      <th>WIN_20210413_15_38_01_Pro</th>\n      <td>0.236994</td>\n      <td>0.763006</td>\n      <td>0.000000</td>\n    </tr>\n    <tr>\n      <th>WIN_20210414_06_24_52_Pro</th>\n      <td>0.155440</td>\n      <td>0.834197</td>\n      <td>0.010363</td>\n    </tr>\n    <tr>\n      <th>WIN_20210415_15_41_24_Pro</th>\n      <td>0.493088</td>\n      <td>0.506912</td>\n      <td>0.000000</td>\n    </tr>\n    <tr>\n      <th>WIN_20210416_08_06_54_Pro</th>\n      <td>0.116564</td>\n      <td>0.883436</td>\n      <td>0.000000</td>\n    </tr>\n    <tr>\n      <th>WIN_20210417_14_53_12_Pro</th>\n      <td>0.381679</td>\n      <td>0.618321</td>\n      <td>0.000000</td>\n    </tr>\n  </tbody>\n</table>\n</div>"
     },
     "metadata": {},
     "execution_count": 46
    }
   ],
   "source": [
    "df_ypredict = pd.read_csv('ypredict_' + features + '_tw5' + diapo_selection + '.csv')\n",
    "df_ypredict = df_ypredict.iloc[:,1:]\n",
    "df_ypredict.columns = ['video_name','diapo','frameTimeWindow','ypredict']\n",
    "df_ypredict['ypredict'] = df_ypredict['ypredict'].astype(int)\n",
    "df_ypredict = df_ypredict.pivot_table(values='frameTimeWindow', columns='ypredict', index='video_name', aggfunc='count', fill_value=0)\n",
    "df_ypredict_sum = df_ypredict.sum(axis=1).values.copy()\n",
    "for col_number in range(len(df_ypredict.columns)):\n",
    "    df_ypredict.iloc[:,col_number] = df_ypredict.iloc[:,col_number] / df_ypredict_sum\n",
    "#df_ypredict = df_ypredict.reset_index()\n",
    "df_ypredict\n"
   ]
  },
  {
   "cell_type": "code",
   "execution_count": 47,
   "metadata": {},
   "outputs": [],
   "source": [
    "df_annotations_stress = pd.read_csv('annotations.csv')\n",
    "df_annotations_stress = df_annotations_stress[['video_name','stress_global']]"
   ]
  },
  {
   "cell_type": "code",
   "execution_count": 48,
   "metadata": {},
   "outputs": [],
   "source": [
    "Xy = df_ypredict.merge(df_annotations_stress, on='video_name')\n",
    "X = Xy.iloc[:,:-1].set_index('video_name')\n",
    "y = Xy.iloc[:,-1]"
   ]
  },
  {
   "cell_type": "code",
   "execution_count": 49,
   "metadata": {},
   "outputs": [],
   "source": [
    "from sklearn.linear_model import LogisticRegression\n",
    "from sklearn.neighbors import KNeighborsClassifier\n",
    "from sklearn.ensemble import RandomForestClassifier\n",
    "from sklearn.model_selection import LeaveOneGroupOut\n",
    "from sklearn.decomposition import PCA\n",
    "from sklearn.pipeline import Pipeline\n",
    "\n",
    "pca = PCA()\n",
    "\n",
    "models_list = [\n",
    "                LogisticRegression(multi_class='multinomial', fit_intercept=True, random_state=42),\n",
    "                Pipeline(steps=[('pca', pca), ('logistic', LogisticRegression(multi_class='multinomial', fit_intercept=True))]),\n",
    "                KNeighborsClassifier(),\n",
    "                Pipeline(steps=[('pca', pca), ('knn', KNeighborsClassifier())]),\n",
    "                RandomForestClassifier(random_state = 42, n_jobs=-1)\n",
    "                ]\n",
    "\n",
    "parameters_list = [\n",
    "                    {'C': [0.01, 0.05, 0.1, 0.5, 1, 2, 3, 4 , 5, 10], 'class_weight' : [None, 'balanced']},\n",
    "                    {'pca__n_components': [1, 2, 3, 4],\n",
    "                        'logistic__C': [0.01, 0.05, 0.1, 0.5, 1, 2, 3, 4 , 5, 10], 'logistic__class_weight' : [None, 'balanced']},\n",
    "                    {'n_neighbors': [4, 5, 6, 7, 8, 9, 10, 11, 12,  15, 20], 'weights' : ['uniform', 'distance'], 'p': [1, 2]},\n",
    "                    {'pca__n_components': [1, 2, 3, 4],\n",
    "                        'knn__n_neighbors': [4, 5, 6, 7, 8, 9, 10, 11, 12,  15, 20], 'knn__weights' : ['uniform', 'distance'],                              'knn__p': [1, 2]},\n",
    "                    {'n_estimators': [50, 100, 150, 200], 'max_depth':[3, 4, 5, 6, 10, 15, 20], 'class_weight':[None,'balanced']}\n",
    "                    ]\n",
    "\n",
    "groups = X.reset_index()['video_name']\n",
    "loo = LeaveOneGroupOut()\n",
    "cv_loo = loo.split(X, y, groups)"
   ]
  },
  {
   "cell_type": "code",
   "execution_count": 50,
   "metadata": {},
   "outputs": [
    {
     "output_type": "stream",
     "name": "stdout",
     "text": [
      "Fitting 30 folds for each of 20 candidates, totalling 600 fits\n",
      "[Parallel(n_jobs=-1)]: Using backend LokyBackend with 8 concurrent workers.\n",
      "[Parallel(n_jobs=-1)]: Done  56 tasks      | elapsed:    0.3s\n",
      "[Parallel(n_jobs=-1)]: Done 600 out of 600 | elapsed:    2.4s finished\n",
      "[Parallel(n_jobs=-1)]: Using backend LokyBackend with 8 concurrent workers.\n",
      "Best estimator LogisticRegression(C=0.01, multi_class='multinomial', random_state=42)\n",
      "Best results 0.4\n",
      "Best params {'C': 0.01, 'class_weight': None}\n",
      "accuracy (mean, std) 0.4 0.4898979485566357\n",
      "f1 (mean, std) 0.4 0.4898979485566357\n",
      "balanced accuracy (mean, std) 0.4 0.4898979485566357\n",
      "precision (mean, std) 0.4 0.4898979485566357\n",
      "recall (mean, std) 0.4 0.4898979485566357\n",
      "\n",
      "Fitting 30 folds for each of 80 candidates, totalling 2400 fits\n",
      "[Parallel(n_jobs=-1)]: Done  56 tasks      | elapsed:    0.3s\n",
      "[Parallel(n_jobs=-1)]: Done 2160 tasks      | elapsed:    6.0s\n",
      "[Parallel(n_jobs=-1)]: Done 2400 out of 2400 | elapsed:    6.5s finished\n",
      "[Parallel(n_jobs=-1)]: Using backend LokyBackend with 8 concurrent workers.\n",
      "Best estimator Pipeline(steps=[('pca', PCA(n_components=1)),\n",
      "                ('logistic',\n",
      "                 LogisticRegression(C=0.01, multi_class='multinomial'))])\n",
      "Best results 0.4\n",
      "Best params {'logistic__C': 0.01, 'logistic__class_weight': None, 'pca__n_components': 1}\n",
      "accuracy (mean, std) 0.4 0.4898979485566357\n",
      "f1 (mean, std) 0.4 0.4898979485566357\n",
      "balanced accuracy (mean, std) 0.4 0.4898979485566357\n",
      "precision (mean, std) 0.4 0.4898979485566357\n",
      "recall (mean, std) 0.4 0.4898979485566357\n",
      "\n",
      "Fitting 30 folds for each of 44 candidates, totalling 1320 fits\n",
      "[Parallel(n_jobs=-1)]: Done  56 tasks      | elapsed:    0.2s\n",
      "[Parallel(n_jobs=-1)]: Done 1320 out of 1320 | elapsed:    3.0s finished\n",
      "[Parallel(n_jobs=-1)]: Using backend LokyBackend with 8 concurrent workers.\n",
      "Best estimator KNeighborsClassifier(n_neighbors=11)\n",
      "Best results 0.36666666666666664\n",
      "Best params {'n_neighbors': 11, 'p': 2, 'weights': 'uniform'}\n",
      "accuracy (mean, std) 0.36666666666666664 0.48189440982669857\n",
      "f1 (mean, std) 0.36666666666666664 0.48189440982669857\n",
      "balanced accuracy (mean, std) 0.36666666666666664 0.48189440982669857\n",
      "precision (mean, std) 0.36666666666666664 0.48189440982669857\n",
      "recall (mean, std) 0.36666666666666664 0.48189440982669857\n",
      "\n",
      "Fitting 30 folds for each of 176 candidates, totalling 5280 fits\n",
      "[Parallel(n_jobs=-1)]: Done  56 tasks      | elapsed:    0.3s\n",
      "[Parallel(n_jobs=-1)]: Done 3824 tasks      | elapsed:    8.4s\n",
      "[Parallel(n_jobs=-1)]: Done 5280 out of 5280 | elapsed:   11.2s finished\n",
      "[Parallel(n_jobs=-1)]: Using backend LokyBackend with 8 concurrent workers.\n",
      "Best estimator Pipeline(steps=[('pca', PCA(n_components=1)),\n",
      "                ('knn', KNeighborsClassifier(n_neighbors=15, p=1))])\n",
      "Best results 0.4\n",
      "Best params {'knn__n_neighbors': 15, 'knn__p': 1, 'knn__weights': 'uniform', 'pca__n_components': 1}\n",
      "accuracy (mean, std) 0.4 0.4898979485566357\n",
      "f1 (mean, std) 0.4 0.4898979485566357\n",
      "balanced accuracy (mean, std) 0.4 0.4898979485566357\n",
      "precision (mean, std) 0.4 0.4898979485566357\n",
      "recall (mean, std) 0.4 0.4898979485566357\n",
      "\n",
      "Fitting 30 folds for each of 56 candidates, totalling 1680 fits\n",
      "[Parallel(n_jobs=-1)]: Done  52 tasks      | elapsed:    2.2s\n",
      "[Parallel(n_jobs=-1)]: Done 240 tasks      | elapsed:   13.8s\n",
      "[Parallel(n_jobs=-1)]: Done 490 tasks      | elapsed:   28.0s\n",
      "[Parallel(n_jobs=-1)]: Done 840 tasks      | elapsed:   48.6s\n",
      "[Parallel(n_jobs=-1)]: Done 1290 tasks      | elapsed:  1.2min\n",
      "[Parallel(n_jobs=-1)]: Done 1680 out of 1680 | elapsed:  1.6min finished\n",
      "Best estimator RandomForestClassifier(max_depth=3, n_estimators=50, n_jobs=-1, random_state=42)\n",
      "Best results 0.16666666666666666\n",
      "Best params {'class_weight': None, 'max_depth': 3, 'n_estimators': 50}\n",
      "accuracy (mean, std) 0.16666666666666666 0.37267799624996495\n",
      "f1 (mean, std) 0.16666666666666666 0.37267799624996495\n",
      "balanced accuracy (mean, std) 0.16666666666666666 0.37267799624996495\n",
      "precision (mean, std) 0.16666666666666666 0.37267799624996495\n",
      "recall (mean, std) 0.16666666666666666 0.37267799624996495\n",
      "\n"
     ]
    }
   ],
   "source": [
    "best_result, y_predict, result_list = runGridSearchClassifiers(X, y, cv_loo, models_list, parameters_list, \n",
    "                                                                output_predict=True, n_jobs=-1, verbose=True)"
   ]
  },
  {
   "cell_type": "code",
   "execution_count": 51,
   "metadata": {},
   "outputs": [
    {
     "output_type": "execute_result",
     "data": {
      "text/plain": [
       "{'best_estimator': LogisticRegression(C=0.01, multi_class='multinomial', random_state=42),\n",
       " 'best_score': 0.4,\n",
       " 'best_params': {'C': 0.01, 'class_weight': None},\n",
       " 'mean_test_f1_score': 0.4,\n",
       " 'std_test_f1_score': 0.4898979485566357,\n",
       " 'mean_test_accuracy_score': 0.4,\n",
       " 'std_test_accuracy_score': 0.4898979485566357,\n",
       " 'mean_test_balanced_accuracy_score': 0.4,\n",
       " 'std_test_balanced_accuracy_score': 0.4898979485566357,\n",
       " 'mean_test_precision': 0.4,\n",
       " 'std_test_precision': 0.4898979485566357,\n",
       " 'mean_test_recall': 0.4,\n",
       " 'std_test_recall': 0.4898979485566357}"
      ]
     },
     "metadata": {},
     "execution_count": 51
    }
   ],
   "source": [
    "best_result"
   ]
  },
  {
   "cell_type": "markdown",
   "metadata": {},
   "source": [
    "#### Autre méthode"
   ]
  },
  {
   "cell_type": "code",
   "execution_count": 52,
   "metadata": {},
   "outputs": [
    {
     "output_type": "execute_result",
     "data": {
      "text/plain": [
       "                                 ypredict                             \\\n",
       "                                     mean  min  max median       std   \n",
       "video_name                                                             \n",
       "Test_pour_AFPA                   0.883598  0.0  2.0    1.0  0.533152   \n",
       "Video_1                          0.331126  0.0  1.0    0.0  0.472184   \n",
       "WIN_20210323_19_17_40_Pro        0.630952  0.0  1.0    1.0  0.483989   \n",
       "WIN_20210329_10_16_02_Pro        0.979592  0.0  1.0    1.0  0.141875   \n",
       "WIN_20210330_13_10_29_Pro        0.774834  0.0  2.0    1.0  0.434698   \n",
       "WIN_20210331_21_22_52_Pro        0.594118  0.0  1.0    1.0  0.492513   \n",
       "WIN_20210402_14_27_50_Pro        0.962366  0.0  2.0    1.0  0.240905   \n",
       "WIN_20210402_19_04_53_Pro        0.531429  0.0  1.0    1.0  0.500443   \n",
       "WIN_20210403_18_49_15_Pro        0.629834  0.0  1.0    1.0  0.484188   \n",
       "WIN_20210404_10_58_27_Pro        0.970000  0.0  2.0    1.0  0.896167   \n",
       "WIN_20210404_21_41_12_Pro        0.711207  0.0  1.0    1.0  0.454181   \n",
       "WIN_20210405_15_09_16_Pro        0.477419  0.0  1.0    0.0  0.501109   \n",
       "WIN_20210406_15_06_15_Pro        0.839024  0.0  1.0    1.0  0.368408   \n",
       "WIN_20210406_18_35_52_Pro        0.487342  0.0  1.0    0.0  0.501429   \n",
       "WIN_20210406_18_49_10_Pro        0.684211  0.0  1.0    1.0  0.466195   \n",
       "WIN_20210406_21_05_52_Pro        0.718919  0.0  1.0    1.0  0.450747   \n",
       "WIN_20210407_09_04_05_Pro        0.167539  0.0  2.0    0.0  0.388240   \n",
       "WIN_20210407_14_54_56_Pro_edit2  0.584906  0.0  1.0    1.0  0.494295   \n",
       "WIN_20210408_11_48_58_Pro        1.084444  0.0  2.0    1.0  0.374378   \n",
       "WIN_20210408_14_00_44_Pro        0.297753  0.0  1.0    0.0  0.458560   \n",
       "WIN_20210408_14_02_19_Pro        0.694118  0.0  1.0    1.0  0.462141   \n",
       "WIN_20210408_14_11_32_Pro        0.980769  0.0  1.0    1.0  0.137777   \n",
       "WIN_20210408_15_20_51_Pro        1.107843  0.0  2.0    1.0  0.610368   \n",
       "WIN_20210408_16_04_32_Pro        0.841176  0.0  1.0    1.0  0.366591   \n",
       "WIN_20210409_10_26_11_Pro        0.895954  0.0  1.0    1.0  0.306207   \n",
       "WIN_20210413_15_38_01_Pro        0.763006  0.0  1.0    1.0  0.426473   \n",
       "WIN_20210414_06_24_52_Pro        0.854922  0.0  2.0    1.0  0.381457   \n",
       "WIN_20210415_15_41_24_Pro        0.506912  0.0  1.0    1.0  0.501108   \n",
       "WIN_20210416_08_06_54_Pro        0.883436  0.0  1.0    1.0  0.321889   \n",
       "WIN_20210417_14_53_12_Pro        0.618321  0.0  1.0    1.0  0.487663   \n",
       "\n",
       "                                                                              \n",
       "                                percentil25 percentil75   kurtosis      skew  \n",
       "video_name                                                                    \n",
       "Test_pour_AFPA                          1.0         1.0   0.322698 -0.107005  \n",
       "Video_1                                 0.0         1.0  -1.484950  0.717669  \n",
       "WIN_20210323_19_17_40_Pro               0.0         1.0  -1.705417 -0.542755  \n",
       "WIN_20210329_10_16_02_Pro               1.0         1.0  44.020833 -6.783866  \n",
       "WIN_20210330_13_10_29_Pro               1.0         1.0  -0.149888 -1.069160  \n",
       "WIN_20210331_21_22_52_Pro               0.0         1.0  -1.853064 -0.383323  \n",
       "WIN_20210402_14_27_50_Pro               1.0         1.0  13.197787 -2.239898  \n",
       "WIN_20210402_19_04_53_Pro               0.0         1.0  -1.984133 -0.125963  \n",
       "WIN_20210403_18_49_15_Pro               0.0         1.0  -1.710788 -0.537784  \n",
       "WIN_20210404_10_58_27_Pro               0.0         2.0  -1.746059  0.058720  \n",
       "WIN_20210404_21_41_12_Pro               0.0         1.0  -1.131253 -0.932066  \n",
       "WIN_20210405_15_09_16_Pro               0.0         1.0  -1.991825  0.090415  \n",
       "WIN_20210406_15_06_15_Pro               1.0         1.0   1.403982 -1.844988  \n",
       "WIN_20210406_18_35_52_Pro               0.0         1.0  -1.997435  0.050649  \n",
       "WIN_20210406_18_49_10_Pro               0.0         1.0  -1.371795 -0.792594  \n",
       "WIN_20210406_21_05_52_Pro               0.0         1.0  -1.051330 -0.973997  \n",
       "WIN_20210407_09_04_05_Pro               0.0         0.0   3.010243  2.047641  \n",
       "WIN_20210407_14_54_56_Pro_edit2         0.0         1.0  -1.881232 -0.344628  \n",
       "WIN_20210408_11_48_58_Pro               1.0         1.0   3.382347  0.930363  \n",
       "WIN_20210408_14_00_44_Pro               0.0         1.0  -1.217509  0.884585  \n",
       "WIN_20210408_14_02_19_Pro               0.0         1.0  -1.290091 -0.842561  \n",
       "WIN_20210408_14_11_32_Pro               1.0         1.0  47.019608 -7.001400  \n",
       "WIN_20210408_15_20_51_Pro               1.0         1.0  -0.365253 -0.059147  \n",
       "WIN_20210408_16_04_32_Pro               1.0         1.0   1.485107 -1.866844  \n",
       "WIN_20210409_10_26_11_Pro               1.0         1.0   4.727240 -2.593692  \n",
       "WIN_20210413_15_38_01_Pro               1.0         1.0  -0.469882 -1.236979  \n",
       "WIN_20210414_06_24_52_Pro               1.0         1.0   1.830657 -1.434808  \n",
       "WIN_20210415_15_41_24_Pro               0.0         1.0  -1.999235 -0.027652  \n",
       "WIN_20210416_08_06_54_Pro               1.0         1.0   3.710892 -2.389747  \n",
       "WIN_20210417_14_53_12_Pro               0.0         1.0  -1.762716 -0.487118  "
      ],
      "text/html": "<div>\n<style scoped>\n    .dataframe tbody tr th:only-of-type {\n        vertical-align: middle;\n    }\n\n    .dataframe tbody tr th {\n        vertical-align: top;\n    }\n\n    .dataframe thead tr th {\n        text-align: left;\n    }\n\n    .dataframe thead tr:last-of-type th {\n        text-align: right;\n    }\n</style>\n<table border=\"1\" class=\"dataframe\">\n  <thead>\n    <tr>\n      <th></th>\n      <th colspan=\"9\" halign=\"left\">ypredict</th>\n    </tr>\n    <tr>\n      <th></th>\n      <th>mean</th>\n      <th>min</th>\n      <th>max</th>\n      <th>median</th>\n      <th>std</th>\n      <th>percentil25</th>\n      <th>percentil75</th>\n      <th>kurtosis</th>\n      <th>skew</th>\n    </tr>\n    <tr>\n      <th>video_name</th>\n      <th></th>\n      <th></th>\n      <th></th>\n      <th></th>\n      <th></th>\n      <th></th>\n      <th></th>\n      <th></th>\n      <th></th>\n    </tr>\n  </thead>\n  <tbody>\n    <tr>\n      <th>Test_pour_AFPA</th>\n      <td>0.883598</td>\n      <td>0.0</td>\n      <td>2.0</td>\n      <td>1.0</td>\n      <td>0.533152</td>\n      <td>1.0</td>\n      <td>1.0</td>\n      <td>0.322698</td>\n      <td>-0.107005</td>\n    </tr>\n    <tr>\n      <th>Video_1</th>\n      <td>0.331126</td>\n      <td>0.0</td>\n      <td>1.0</td>\n      <td>0.0</td>\n      <td>0.472184</td>\n      <td>0.0</td>\n      <td>1.0</td>\n      <td>-1.484950</td>\n      <td>0.717669</td>\n    </tr>\n    <tr>\n      <th>WIN_20210323_19_17_40_Pro</th>\n      <td>0.630952</td>\n      <td>0.0</td>\n      <td>1.0</td>\n      <td>1.0</td>\n      <td>0.483989</td>\n      <td>0.0</td>\n      <td>1.0</td>\n      <td>-1.705417</td>\n      <td>-0.542755</td>\n    </tr>\n    <tr>\n      <th>WIN_20210329_10_16_02_Pro</th>\n      <td>0.979592</td>\n      <td>0.0</td>\n      <td>1.0</td>\n      <td>1.0</td>\n      <td>0.141875</td>\n      <td>1.0</td>\n      <td>1.0</td>\n      <td>44.020833</td>\n      <td>-6.783866</td>\n    </tr>\n    <tr>\n      <th>WIN_20210330_13_10_29_Pro</th>\n      <td>0.774834</td>\n      <td>0.0</td>\n      <td>2.0</td>\n      <td>1.0</td>\n      <td>0.434698</td>\n      <td>1.0</td>\n      <td>1.0</td>\n      <td>-0.149888</td>\n      <td>-1.069160</td>\n    </tr>\n    <tr>\n      <th>WIN_20210331_21_22_52_Pro</th>\n      <td>0.594118</td>\n      <td>0.0</td>\n      <td>1.0</td>\n      <td>1.0</td>\n      <td>0.492513</td>\n      <td>0.0</td>\n      <td>1.0</td>\n      <td>-1.853064</td>\n      <td>-0.383323</td>\n    </tr>\n    <tr>\n      <th>WIN_20210402_14_27_50_Pro</th>\n      <td>0.962366</td>\n      <td>0.0</td>\n      <td>2.0</td>\n      <td>1.0</td>\n      <td>0.240905</td>\n      <td>1.0</td>\n      <td>1.0</td>\n      <td>13.197787</td>\n      <td>-2.239898</td>\n    </tr>\n    <tr>\n      <th>WIN_20210402_19_04_53_Pro</th>\n      <td>0.531429</td>\n      <td>0.0</td>\n      <td>1.0</td>\n      <td>1.0</td>\n      <td>0.500443</td>\n      <td>0.0</td>\n      <td>1.0</td>\n      <td>-1.984133</td>\n      <td>-0.125963</td>\n    </tr>\n    <tr>\n      <th>WIN_20210403_18_49_15_Pro</th>\n      <td>0.629834</td>\n      <td>0.0</td>\n      <td>1.0</td>\n      <td>1.0</td>\n      <td>0.484188</td>\n      <td>0.0</td>\n      <td>1.0</td>\n      <td>-1.710788</td>\n      <td>-0.537784</td>\n    </tr>\n    <tr>\n      <th>WIN_20210404_10_58_27_Pro</th>\n      <td>0.970000</td>\n      <td>0.0</td>\n      <td>2.0</td>\n      <td>1.0</td>\n      <td>0.896167</td>\n      <td>0.0</td>\n      <td>2.0</td>\n      <td>-1.746059</td>\n      <td>0.058720</td>\n    </tr>\n    <tr>\n      <th>WIN_20210404_21_41_12_Pro</th>\n      <td>0.711207</td>\n      <td>0.0</td>\n      <td>1.0</td>\n      <td>1.0</td>\n      <td>0.454181</td>\n      <td>0.0</td>\n      <td>1.0</td>\n      <td>-1.131253</td>\n      <td>-0.932066</td>\n    </tr>\n    <tr>\n      <th>WIN_20210405_15_09_16_Pro</th>\n      <td>0.477419</td>\n      <td>0.0</td>\n      <td>1.0</td>\n      <td>0.0</td>\n      <td>0.501109</td>\n      <td>0.0</td>\n      <td>1.0</td>\n      <td>-1.991825</td>\n      <td>0.090415</td>\n    </tr>\n    <tr>\n      <th>WIN_20210406_15_06_15_Pro</th>\n      <td>0.839024</td>\n      <td>0.0</td>\n      <td>1.0</td>\n      <td>1.0</td>\n      <td>0.368408</td>\n      <td>1.0</td>\n      <td>1.0</td>\n      <td>1.403982</td>\n      <td>-1.844988</td>\n    </tr>\n    <tr>\n      <th>WIN_20210406_18_35_52_Pro</th>\n      <td>0.487342</td>\n      <td>0.0</td>\n      <td>1.0</td>\n      <td>0.0</td>\n      <td>0.501429</td>\n      <td>0.0</td>\n      <td>1.0</td>\n      <td>-1.997435</td>\n      <td>0.050649</td>\n    </tr>\n    <tr>\n      <th>WIN_20210406_18_49_10_Pro</th>\n      <td>0.684211</td>\n      <td>0.0</td>\n      <td>1.0</td>\n      <td>1.0</td>\n      <td>0.466195</td>\n      <td>0.0</td>\n      <td>1.0</td>\n      <td>-1.371795</td>\n      <td>-0.792594</td>\n    </tr>\n    <tr>\n      <th>WIN_20210406_21_05_52_Pro</th>\n      <td>0.718919</td>\n      <td>0.0</td>\n      <td>1.0</td>\n      <td>1.0</td>\n      <td>0.450747</td>\n      <td>0.0</td>\n      <td>1.0</td>\n      <td>-1.051330</td>\n      <td>-0.973997</td>\n    </tr>\n    <tr>\n      <th>WIN_20210407_09_04_05_Pro</th>\n      <td>0.167539</td>\n      <td>0.0</td>\n      <td>2.0</td>\n      <td>0.0</td>\n      <td>0.388240</td>\n      <td>0.0</td>\n      <td>0.0</td>\n      <td>3.010243</td>\n      <td>2.047641</td>\n    </tr>\n    <tr>\n      <th>WIN_20210407_14_54_56_Pro_edit2</th>\n      <td>0.584906</td>\n      <td>0.0</td>\n      <td>1.0</td>\n      <td>1.0</td>\n      <td>0.494295</td>\n      <td>0.0</td>\n      <td>1.0</td>\n      <td>-1.881232</td>\n      <td>-0.344628</td>\n    </tr>\n    <tr>\n      <th>WIN_20210408_11_48_58_Pro</th>\n      <td>1.084444</td>\n      <td>0.0</td>\n      <td>2.0</td>\n      <td>1.0</td>\n      <td>0.374378</td>\n      <td>1.0</td>\n      <td>1.0</td>\n      <td>3.382347</td>\n      <td>0.930363</td>\n    </tr>\n    <tr>\n      <th>WIN_20210408_14_00_44_Pro</th>\n      <td>0.297753</td>\n      <td>0.0</td>\n      <td>1.0</td>\n      <td>0.0</td>\n      <td>0.458560</td>\n      <td>0.0</td>\n      <td>1.0</td>\n      <td>-1.217509</td>\n      <td>0.884585</td>\n    </tr>\n    <tr>\n      <th>WIN_20210408_14_02_19_Pro</th>\n      <td>0.694118</td>\n      <td>0.0</td>\n      <td>1.0</td>\n      <td>1.0</td>\n      <td>0.462141</td>\n      <td>0.0</td>\n      <td>1.0</td>\n      <td>-1.290091</td>\n      <td>-0.842561</td>\n    </tr>\n    <tr>\n      <th>WIN_20210408_14_11_32_Pro</th>\n      <td>0.980769</td>\n      <td>0.0</td>\n      <td>1.0</td>\n      <td>1.0</td>\n      <td>0.137777</td>\n      <td>1.0</td>\n      <td>1.0</td>\n      <td>47.019608</td>\n      <td>-7.001400</td>\n    </tr>\n    <tr>\n      <th>WIN_20210408_15_20_51_Pro</th>\n      <td>1.107843</td>\n      <td>0.0</td>\n      <td>2.0</td>\n      <td>1.0</td>\n      <td>0.610368</td>\n      <td>1.0</td>\n      <td>1.0</td>\n      <td>-0.365253</td>\n      <td>-0.059147</td>\n    </tr>\n    <tr>\n      <th>WIN_20210408_16_04_32_Pro</th>\n      <td>0.841176</td>\n      <td>0.0</td>\n      <td>1.0</td>\n      <td>1.0</td>\n      <td>0.366591</td>\n      <td>1.0</td>\n      <td>1.0</td>\n      <td>1.485107</td>\n      <td>-1.866844</td>\n    </tr>\n    <tr>\n      <th>WIN_20210409_10_26_11_Pro</th>\n      <td>0.895954</td>\n      <td>0.0</td>\n      <td>1.0</td>\n      <td>1.0</td>\n      <td>0.306207</td>\n      <td>1.0</td>\n      <td>1.0</td>\n      <td>4.727240</td>\n      <td>-2.593692</td>\n    </tr>\n    <tr>\n      <th>WIN_20210413_15_38_01_Pro</th>\n      <td>0.763006</td>\n      <td>0.0</td>\n      <td>1.0</td>\n      <td>1.0</td>\n      <td>0.426473</td>\n      <td>1.0</td>\n      <td>1.0</td>\n      <td>-0.469882</td>\n      <td>-1.236979</td>\n    </tr>\n    <tr>\n      <th>WIN_20210414_06_24_52_Pro</th>\n      <td>0.854922</td>\n      <td>0.0</td>\n      <td>2.0</td>\n      <td>1.0</td>\n      <td>0.381457</td>\n      <td>1.0</td>\n      <td>1.0</td>\n      <td>1.830657</td>\n      <td>-1.434808</td>\n    </tr>\n    <tr>\n      <th>WIN_20210415_15_41_24_Pro</th>\n      <td>0.506912</td>\n      <td>0.0</td>\n      <td>1.0</td>\n      <td>1.0</td>\n      <td>0.501108</td>\n      <td>0.0</td>\n      <td>1.0</td>\n      <td>-1.999235</td>\n      <td>-0.027652</td>\n    </tr>\n    <tr>\n      <th>WIN_20210416_08_06_54_Pro</th>\n      <td>0.883436</td>\n      <td>0.0</td>\n      <td>1.0</td>\n      <td>1.0</td>\n      <td>0.321889</td>\n      <td>1.0</td>\n      <td>1.0</td>\n      <td>3.710892</td>\n      <td>-2.389747</td>\n    </tr>\n    <tr>\n      <th>WIN_20210417_14_53_12_Pro</th>\n      <td>0.618321</td>\n      <td>0.0</td>\n      <td>1.0</td>\n      <td>1.0</td>\n      <td>0.487663</td>\n      <td>0.0</td>\n      <td>1.0</td>\n      <td>-1.762716</td>\n      <td>-0.487118</td>\n    </tr>\n  </tbody>\n</table>\n</div>"
     },
     "metadata": {},
     "execution_count": 52
    }
   ],
   "source": [
    "df_ypredict = pd.read_csv('ypredict_' + features + '_tw5' + diapo_selection + '.csv')\n",
    "df_ypredict = df_ypredict.iloc[:,1:]\n",
    "df_ypredict.columns = ['video_name','diapo','frameTimeWindow','ypredict']\n",
    "df_ypredict = df_ypredict.groupby(['video_name']).agg({'ypredict': ['mean','min','max', 'median', 'std', percentil25, percentil75, kurtosis, skew]})\n",
    "df_ypredict\n"
   ]
  },
  {
   "cell_type": "code",
   "execution_count": 53,
   "metadata": {},
   "outputs": [],
   "source": [
    "Xy = df_ypredict.merge(df_annotations_stress, on='video_name')\n",
    "X = Xy.iloc[:,:-1].set_index('video_name')\n",
    "y = Xy.iloc[:,-1]"
   ]
  },
  {
   "cell_type": "code",
   "execution_count": 54,
   "metadata": {},
   "outputs": [],
   "source": [
    "from sklearn.linear_model import LogisticRegression\n",
    "from sklearn.neighbors import KNeighborsClassifier\n",
    "from sklearn.ensemble import RandomForestClassifier\n",
    "from sklearn.model_selection import LeaveOneGroupOut\n",
    "from sklearn.decomposition import PCA\n",
    "from sklearn.pipeline import Pipeline\n",
    "\n",
    "pca = PCA()\n",
    "\n",
    "models_list = [\n",
    "                LogisticRegression(multi_class='multinomial', fit_intercept=True, random_state=42),\n",
    "                Pipeline(steps=[('pca', pca), ('logistic', LogisticRegression(multi_class='multinomial', fit_intercept=True))]),\n",
    "                KNeighborsClassifier(),\n",
    "                Pipeline(steps=[('pca', pca), ('knn', KNeighborsClassifier())]),\n",
    "                RandomForestClassifier(random_state = 42, n_jobs=-1)\n",
    "                ]\n",
    "\n",
    "parameters_list = [\n",
    "                    {'C': [0.01, 0.05, 0.1, 0.5, 1, 2, 3, 4 , 5, 10], 'class_weight' : [None, 'balanced']},\n",
    "                    {'pca__n_components': [1, 2, 3, 4],\n",
    "                        'logistic__C': [0.01, 0.05, 0.1, 0.5, 1, 2, 3, 4 , 5, 10], 'logistic__class_weight' : [None, 'balanced']},\n",
    "                    {'n_neighbors': [4, 5, 6, 7, 8, 9, 10, 11, 12,  15, 20], 'weights' : ['uniform', 'distance'], 'p': [1, 2]},\n",
    "                    {'pca__n_components': [1, 2, 3, 4],\n",
    "                        'knn__n_neighbors': [4, 5, 6, 7, 8, 9, 10, 11, 12,  15, 20], 'knn__weights' : ['uniform', 'distance'],                              'knn__p': [1, 2]},\n",
    "                    {'n_estimators': [50, 100, 150, 200], 'max_depth':[3, 4, 5, 6, 10, 15, 20], 'class_weight':[None,'balanced']}\n",
    "                    ]\n",
    "\n",
    "groups = X.reset_index()['video_name']\n",
    "loo = LeaveOneGroupOut()\n",
    "cv_loo = loo.split(X, y, groups)"
   ]
  },
  {
   "cell_type": "code",
   "execution_count": 55,
   "metadata": {},
   "outputs": [
    {
     "output_type": "stream",
     "name": "stdout",
     "text": [
      "Fitting 5 folds for each of 16 candidates, totalling 80 fits\n",
      "[Parallel(n_jobs=1)]: Using backend SequentialBackend with 1 concurrent workers.\n",
      "Best results 0.4\n",
      "Best params {'C': 0.01, 'class_weight': None}\n",
      "accuracy (mean, std) 0.4 0.13333333333333333\n",
      "f1 (mean, std) 0.28134920634920635 0.11968348700732404\n",
      "[Parallel(n_jobs=1)]: Done  80 out of  80 | elapsed:    1.5s finished\n"
     ]
    }
   ],
   "source": [
    "parameters = {'C': [0.01, 0.05, 0.1, 0.5, 1, 2, 10, 20], 'class_weight' : [None, 'balanced']}\n",
    "from sklearn.model_selection import LeaveOneGroupOut\n",
    "from sklearn.linear_model import LogisticRegression\n",
    "from sklearn.model_selection import cross_val_predict, GridSearchCV\n",
    "from sklearn.metrics import accuracy_score, f1_score\n",
    "import warnings\n",
    "warnings.filterwarnings(\"ignore\")\n",
    "\n",
    "groups = X.reset_index()['video_name']\n",
    "loo = LeaveOneGroupOut()\n",
    "cv_loo = loo.split(X, y, groups)\n",
    "X_no_name = X\n",
    "y_no_name = y\n",
    "\n",
    "model = LogisticRegression(multi_class='multinomial', fit_intercept=True, random_state=42)\n",
    "\n",
    "clf = GridSearchCV(estimator=model, \n",
    "                    param_grid=parameters, \n",
    "                    scoring={'accuracy_score' : 'accuracy', 'f1_score' : 'f1_weighted' }, \n",
    "                    refit='accuracy_score',\n",
    "                    cv=5, verbose=1)\n",
    "clf.fit(X_no_name, y_no_name)\n",
    "print('Best results', clf.best_score_)\n",
    "print('Best params', clf.best_params_)\n",
    "print('accuracy (mean, std)', clf.cv_results_['mean_test_accuracy_score'][clf.best_index_], clf.cv_results_['std_test_accuracy_score'][clf.best_index_])\n",
    "print('f1 (mean, std)', clf.cv_results_['mean_test_f1_score'][clf.best_index_], clf.cv_results_['std_test_f1_score'][clf.best_index_])"
   ]
  },
  {
   "cell_type": "code",
   "execution_count": 56,
   "metadata": {},
   "outputs": [
    {
     "output_type": "stream",
     "name": "stderr",
     "text": [
      "[Parallel(n_jobs=-1)]: Using backend LokyBackend with 8 concurrent workers.\n",
      "Fitting 30 folds for each of 20 candidates, totalling 600 fits\n",
      "[Parallel(n_jobs=-1)]: Done  56 tasks      | elapsed:    0.4s\n",
      "[Parallel(n_jobs=-1)]: Done 600 out of 600 | elapsed:    4.3s finished\n",
      "[Parallel(n_jobs=-1)]: Using backend LokyBackend with 8 concurrent workers.\n",
      "Best estimator LogisticRegression(C=0.01, class_weight='balanced', multi_class='multinomial',\n",
      "                   random_state=42)\n",
      "Best results 0.43333333333333335\n",
      "Best params {'C': 0.01, 'class_weight': 'balanced'}\n",
      "accuracy (mean, std) 0.43333333333333335 0.49553562491061676\n",
      "f1 (mean, std) 0.43333333333333335 0.49553562491061676\n",
      "balanced accuracy (mean, std) 0.43333333333333335 0.49553562491061676\n",
      "precision (mean, std) 0.43333333333333335 0.49553562491061676\n",
      "recall (mean, std) 0.43333333333333335 0.49553562491061676\n",
      "\n",
      "Fitting 30 folds for each of 80 candidates, totalling 2400 fits\n",
      "[Parallel(n_jobs=-1)]: Done  56 tasks      | elapsed:    0.4s\n",
      "[Parallel(n_jobs=-1)]: Done 1200 tasks      | elapsed:    5.3s\n",
      "[Parallel(n_jobs=-1)]: Done 2400 out of 2400 | elapsed:   11.1s finished\n",
      "[Parallel(n_jobs=-1)]: Using backend LokyBackend with 8 concurrent workers.\n",
      "Best estimator Pipeline(steps=[('pca', PCA(n_components=2)),\n",
      "                ('logistic',\n",
      "                 LogisticRegression(C=0.05, class_weight='balanced',\n",
      "                                    multi_class='multinomial'))])\n",
      "Best results 0.43333333333333335\n",
      "Best params {'logistic__C': 0.05, 'logistic__class_weight': 'balanced', 'pca__n_components': 2}\n",
      "accuracy (mean, std) 0.43333333333333335 0.49553562491061676\n",
      "f1 (mean, std) 0.43333333333333335 0.49553562491061676\n",
      "balanced accuracy (mean, std) 0.43333333333333335 0.49553562491061676\n",
      "precision (mean, std) 0.43333333333333335 0.49553562491061676\n",
      "recall (mean, std) 0.43333333333333335 0.49553562491061676\n",
      "\n",
      "Fitting 30 folds for each of 44 candidates, totalling 1320 fits\n",
      "[Parallel(n_jobs=-1)]: Done  56 tasks      | elapsed:    0.2s\n",
      "[Parallel(n_jobs=-1)]: Done 1320 out of 1320 | elapsed:    3.1s finished\n",
      "[Parallel(n_jobs=-1)]: Using backend LokyBackend with 8 concurrent workers.\n",
      "Best estimator KNeighborsClassifier(n_neighbors=11, p=1)\n",
      "Best results 0.43333333333333335\n",
      "Best params {'n_neighbors': 11, 'p': 1, 'weights': 'uniform'}\n",
      "accuracy (mean, std) 0.43333333333333335 0.4955356249106168\n",
      "f1 (mean, std) 0.43333333333333335 0.4955356249106168\n",
      "balanced accuracy (mean, std) 0.43333333333333335 0.4955356249106168\n",
      "precision (mean, std) 0.43333333333333335 0.4955356249106168\n",
      "recall (mean, std) 0.43333333333333335 0.4955356249106168\n",
      "\n",
      "Fitting 30 folds for each of 176 candidates, totalling 5280 fits\n",
      "[Parallel(n_jobs=-1)]: Done  56 tasks      | elapsed:    0.3s\n",
      "[Parallel(n_jobs=-1)]: Done 2160 tasks      | elapsed:    5.7s\n",
      "[Parallel(n_jobs=-1)]: Done 5280 out of 5280 | elapsed:   13.5s finished\n",
      "[Parallel(n_jobs=-1)]: Using backend LokyBackend with 8 concurrent workers.\n",
      "Best estimator Pipeline(steps=[('pca', PCA(n_components=1)),\n",
      "                ('knn', KNeighborsClassifier(p=1))])\n",
      "Best results 0.43333333333333335\n",
      "Best params {'knn__n_neighbors': 5, 'knn__p': 1, 'knn__weights': 'uniform', 'pca__n_components': 1}\n",
      "accuracy (mean, std) 0.43333333333333335 0.4955356249106168\n",
      "f1 (mean, std) 0.43333333333333335 0.4955356249106168\n",
      "balanced accuracy (mean, std) 0.43333333333333335 0.4955356249106168\n",
      "precision (mean, std) 0.43333333333333335 0.4955356249106168\n",
      "recall (mean, std) 0.43333333333333335 0.4955356249106168\n",
      "\n",
      "Fitting 30 folds for each of 56 candidates, totalling 1680 fits\n",
      "[Parallel(n_jobs=-1)]: Done  52 tasks      | elapsed:    2.3s\n",
      "[Parallel(n_jobs=-1)]: Done 240 tasks      | elapsed:   13.9s\n",
      "[Parallel(n_jobs=-1)]: Done 490 tasks      | elapsed:   28.0s\n",
      "[Parallel(n_jobs=-1)]: Done 840 tasks      | elapsed:   48.7s\n",
      "[Parallel(n_jobs=-1)]: Done 1290 tasks      | elapsed:  1.2min\n",
      "[Parallel(n_jobs=-1)]: Done 1680 out of 1680 | elapsed:  1.6min finished\n",
      "Best estimator RandomForestClassifier(max_depth=3, n_estimators=50, n_jobs=-1, random_state=42)\n",
      "Best results 0.26666666666666666\n",
      "Best params {'class_weight': None, 'max_depth': 3, 'n_estimators': 50}\n",
      "accuracy (mean, std) 0.26666666666666666 0.44221663871405326\n",
      "f1 (mean, std) 0.26666666666666666 0.44221663871405326\n",
      "balanced accuracy (mean, std) 0.26666666666666666 0.44221663871405326\n",
      "precision (mean, std) 0.26666666666666666 0.44221663871405326\n",
      "recall (mean, std) 0.26666666666666666 0.44221663871405326\n",
      "\n"
     ]
    }
   ],
   "source": [
    "best_result, y_predict, result_list = runGridSearchClassifiers(X, y, cv_loo, models_list, parameters_list, \n",
    "                                                                output_predict=True, n_jobs=-1, verbose=True)"
   ]
  },
  {
   "cell_type": "code",
   "execution_count": 57,
   "metadata": {},
   "outputs": [
    {
     "output_type": "execute_result",
     "data": {
      "text/plain": [
       "{'best_estimator': LogisticRegression(C=0.01, class_weight='balanced', multi_class='multinomial',\n",
       "                    random_state=42),\n",
       " 'best_score': 0.43333333333333335,\n",
       " 'best_params': {'C': 0.01, 'class_weight': 'balanced'},\n",
       " 'mean_test_f1_score': 0.43333333333333335,\n",
       " 'std_test_f1_score': 0.49553562491061676,\n",
       " 'mean_test_accuracy_score': 0.43333333333333335,\n",
       " 'std_test_accuracy_score': 0.49553562491061676,\n",
       " 'mean_test_balanced_accuracy_score': 0.43333333333333335,\n",
       " 'std_test_balanced_accuracy_score': 0.49553562491061676,\n",
       " 'mean_test_precision': 0.43333333333333335,\n",
       " 'std_test_precision': 0.49553562491061676,\n",
       " 'mean_test_recall': 0.43333333333333335,\n",
       " 'std_test_recall': 0.49553562491061676}"
      ]
     },
     "metadata": {},
     "execution_count": 57
    }
   ],
   "source": [
    "best_result"
   ]
  },
  {
   "cell_type": "code",
   "execution_count": 59,
   "metadata": {},
   "outputs": [],
   "source": [
    "df_ypredict_stress_global = pd.concat([ypredict_stress_diapo.reset_index(), pd.DataFrame(y_predict,columns=['predicted_stress_global'])], axis=1) \n",
    "df_ypredict_stress_global = df_ypredict_stress_global.set_index('video_name').sort_index()\n",
    "df_ypredict_stress_global = df_ypredict_stress_global.iloc[:,-1]"
   ]
  },
  {
   "cell_type": "code",
   "execution_count": 60,
   "metadata": {
    "scrolled": true
   },
   "outputs": [
    {
     "output_type": "execute_result",
     "data": {
      "text/plain": [
       "video_name\n",
       "Test_pour_AFPA                     0.0\n",
       "Video_1                            0.0\n",
       "WIN_20210323_19_17_40_Pro          0.0\n",
       "WIN_20210329_10_16_02_Pro          2.0\n",
       "WIN_20210330_13_10_29_Pro          0.0\n",
       "WIN_20210331_21_22_52_Pro          0.0\n",
       "WIN_20210402_14_27_50_Pro          2.0\n",
       "WIN_20210402_19_04_53_Pro          0.0\n",
       "WIN_20210403_18_49_15_Pro          0.0\n",
       "WIN_20210404_10_58_27_Pro          0.0\n",
       "WIN_20210404_21_41_12_Pro          0.0\n",
       "WIN_20210405_15_09_16_Pro          0.0\n",
       "WIN_20210406_15_06_15_Pro          1.0\n",
       "WIN_20210406_18_35_52_Pro          0.0\n",
       "WIN_20210406_18_49_10_Pro          0.0\n",
       "WIN_20210406_21_05_52_Pro          0.0\n",
       "WIN_20210407_09_04_05_Pro          2.0\n",
       "WIN_20210407_14_54_56_Pro_edit2    0.0\n",
       "WIN_20210408_11_48_58_Pro          2.0\n",
       "WIN_20210408_14_00_44_Pro          0.0\n",
       "WIN_20210408_14_02_19_Pro          0.0\n",
       "WIN_20210408_14_11_32_Pro          1.0\n",
       "WIN_20210408_15_20_51_Pro          0.0\n",
       "WIN_20210408_16_04_32_Pro          1.0\n",
       "WIN_20210409_10_26_11_Pro          1.0\n",
       "WIN_20210413_15_38_01_Pro          0.0\n",
       "WIN_20210414_06_24_52_Pro          1.0\n",
       "WIN_20210415_15_41_24_Pro          0.0\n",
       "WIN_20210416_08_06_54_Pro          1.0\n",
       "WIN_20210417_14_53_12_Pro          0.0\n",
       "Name: predicted_stress_global, dtype: float64"
      ]
     },
     "metadata": {},
     "execution_count": 60
    }
   ],
   "source": [
    "df_ypredict_stress_global"
   ]
  },
  {
   "cell_type": "code",
   "execution_count": null,
   "metadata": {},
   "outputs": [],
   "source": []
  },
  {
   "cell_type": "markdown",
   "metadata": {},
   "source": [
    "### Audios diapos only"
   ]
  },
  {
   "cell_type": "code",
   "execution_count": null,
   "metadata": {},
   "outputs": [],
   "source": []
  },
  {
   "cell_type": "code",
   "execution_count": 6,
   "metadata": {},
   "outputs": [],
   "source": [
    "diapo_selection = '_audio_only'\n",
    "diapo_audio_list = [8,9,10,11,17]\n",
    "X = X_audio\n",
    "y = y_audio"
   ]
  },
  {
   "cell_type": "code",
   "execution_count": 7,
   "metadata": {},
   "outputs": [],
   "source": [
    "from sklearn.ensemble import RandomForestClassifier\n",
    "from sklearn.model_selection import LeaveOneGroupOut\n",
    "\n",
    "models_list = [RandomForestClassifier(random_state = 42, n_jobs=-1)]\n",
    "parameters_list = [\n",
    "                {'n_estimators': [100, 150, 200], 'max_depth':[10, 15, 20, 25], 'class_weight':[None,'balanced']}\n",
    "                ]\n",
    "groups = X.reset_index()['video_name']\n",
    "loo = LeaveOneGroupOut()\n",
    "cv_loo = loo.split(X, y, groups)"
   ]
  },
  {
   "cell_type": "code",
   "execution_count": 8,
   "metadata": {},
   "outputs": [
    {
     "output_type": "stream",
     "name": "stdout",
     "text": [
      "Fitting 30 folds for each of 24 candidates, totalling 720 fits\n",
      "[Parallel(n_jobs=-1)]: Using backend LokyBackend with 8 concurrent workers.\n",
      "[Parallel(n_jobs=-1)]: Done  34 tasks      | elapsed:   27.0s\n",
      "[Parallel(n_jobs=-1)]: Done 184 tasks      | elapsed:  3.2min\n",
      "[Parallel(n_jobs=-1)]: Done 434 tasks      | elapsed:  7.6min\n",
      "[Parallel(n_jobs=-1)]: Done 720 out of 720 | elapsed: 12.8min finished\n",
      "Best estimator RandomForestClassifier(class_weight='balanced', max_depth=15, n_estimators=200,\n",
      "                       n_jobs=-1, random_state=42)\n",
      "Best results 0.473820896113761\n",
      "Best params {'class_weight': 'balanced', 'max_depth': 15, 'n_estimators': 200}\n",
      "accuracy (mean, std) 0.4532739690298054 0.2125814366324185\n",
      "f1 (mean, std) 0.473820896113761 0.2570275449510871\n",
      "balanced accuracy (mean, std) 0.4890630325639611 0.1544732352276775\n",
      "precision (mean, std) 0.6719007906886402 0.307504318895477\n",
      "recall (mean, std) 0.4532739690298054 0.2125814366324185\n",
      "\n"
     ]
    }
   ],
   "source": [
    "best_result, y_predict, result_list = runGridSearchClassifiers(X, y, cv_loo, models_list, parameters_list, \n",
    "                                                                output_predict=True, n_jobs=-1, verbose=True)"
   ]
  },
  {
   "cell_type": "code",
   "execution_count": 9,
   "metadata": {},
   "outputs": [],
   "source": [
    "# Saving predictions\n",
    "df_ypredict = pd.concat([X.reset_index()[['video_name','diapo','frameTimeWindow']],\n",
    "                        pd.DataFrame(y_predict, columns=['ypredict'])],axis=1)\n",
    "df_ypredict.to_csv('ypredict_' + features + '_tw5' + diapo_selection + '.csv')"
   ]
  },
  {
   "cell_type": "code",
   "execution_count": 10,
   "metadata": {},
   "outputs": [
    {
     "output_type": "execute_result",
     "data": {
      "text/plain": [
       "array([[462, 476,   0,   0],\n",
       "       [427, 507,  41,   0],\n",
       "       [ 53, 168,  13,   0],\n",
       "       [ 12,   8,   0,   0]])"
      ]
     },
     "metadata": {},
     "execution_count": 10
    }
   ],
   "source": [
    "from sklearn.metrics import confusion_matrix\n",
    "confusion_matrix(y, y_predict)"
   ]
  },
  {
   "cell_type": "code",
   "execution_count": 11,
   "metadata": {},
   "outputs": [],
   "source": [
    "df_ypredict = pd.read_csv('ypredict_' + features + '_tw5' + diapo_selection + '.csv')\n",
    "df_ypredict = df_ypredict.iloc[:,1:]\n",
    "df_ypredict.columns = ['video_name','diapo','frameTimeWindow','ypredict']\n",
    "df_ypredict['ypredict'] = df_ypredict['ypredict'].astype(int)\n"
   ]
  },
  {
   "cell_type": "markdown",
   "metadata": {},
   "source": [
    "#### En utilisant la proportion des prédictions 0, 1 et 2"
   ]
  },
  {
   "cell_type": "code",
   "execution_count": 13,
   "metadata": {},
   "outputs": [
    {
     "output_type": "execute_result",
     "data": {
      "text/plain": [
       "ypredict                                0         1    2\n",
       "video_name                diapo                         \n",
       "Test_pour_AFPA            8      0.100000  0.900000  0.0\n",
       "                          9      0.150000  0.850000  0.0\n",
       "                          10     0.066667  0.933333  0.0\n",
       "                          11     0.000000  1.000000  0.0\n",
       "                          17     0.000000  1.000000  0.0\n",
       "...                                   ...       ...  ...\n",
       "WIN_20210417_14_53_12_Pro 8      1.000000  0.000000  0.0\n",
       "                          9      0.952381  0.047619  0.0\n",
       "                          10     0.857143  0.142857  0.0\n",
       "                          11     0.850000  0.150000  0.0\n",
       "                          17     0.857143  0.142857  0.0\n",
       "\n",
       "[150 rows x 3 columns]"
      ],
      "text/html": "<div>\n<style scoped>\n    .dataframe tbody tr th:only-of-type {\n        vertical-align: middle;\n    }\n\n    .dataframe tbody tr th {\n        vertical-align: top;\n    }\n\n    .dataframe thead th {\n        text-align: right;\n    }\n</style>\n<table border=\"1\" class=\"dataframe\">\n  <thead>\n    <tr style=\"text-align: right;\">\n      <th></th>\n      <th>ypredict</th>\n      <th>0</th>\n      <th>1</th>\n      <th>2</th>\n    </tr>\n    <tr>\n      <th>video_name</th>\n      <th>diapo</th>\n      <th></th>\n      <th></th>\n      <th></th>\n    </tr>\n  </thead>\n  <tbody>\n    <tr>\n      <th rowspan=\"5\" valign=\"top\">Test_pour_AFPA</th>\n      <th>8</th>\n      <td>0.100000</td>\n      <td>0.900000</td>\n      <td>0.0</td>\n    </tr>\n    <tr>\n      <th>9</th>\n      <td>0.150000</td>\n      <td>0.850000</td>\n      <td>0.0</td>\n    </tr>\n    <tr>\n      <th>10</th>\n      <td>0.066667</td>\n      <td>0.933333</td>\n      <td>0.0</td>\n    </tr>\n    <tr>\n      <th>11</th>\n      <td>0.000000</td>\n      <td>1.000000</td>\n      <td>0.0</td>\n    </tr>\n    <tr>\n      <th>17</th>\n      <td>0.000000</td>\n      <td>1.000000</td>\n      <td>0.0</td>\n    </tr>\n    <tr>\n      <th>...</th>\n      <th>...</th>\n      <td>...</td>\n      <td>...</td>\n      <td>...</td>\n    </tr>\n    <tr>\n      <th rowspan=\"5\" valign=\"top\">WIN_20210417_14_53_12_Pro</th>\n      <th>8</th>\n      <td>1.000000</td>\n      <td>0.000000</td>\n      <td>0.0</td>\n    </tr>\n    <tr>\n      <th>9</th>\n      <td>0.952381</td>\n      <td>0.047619</td>\n      <td>0.0</td>\n    </tr>\n    <tr>\n      <th>10</th>\n      <td>0.857143</td>\n      <td>0.142857</td>\n      <td>0.0</td>\n    </tr>\n    <tr>\n      <th>11</th>\n      <td>0.850000</td>\n      <td>0.150000</td>\n      <td>0.0</td>\n    </tr>\n    <tr>\n      <th>17</th>\n      <td>0.857143</td>\n      <td>0.142857</td>\n      <td>0.0</td>\n    </tr>\n  </tbody>\n</table>\n<p>150 rows × 3 columns</p>\n</div>"
     },
     "metadata": {},
     "execution_count": 13
    }
   ],
   "source": [
    "X = df_ypredict.pivot_table(values='frameTimeWindow', columns='ypredict', index=['video_name','diapo'], aggfunc='count', fill_value=0)\n",
    "X_sum = X.sum(axis=1).values.copy()\n",
    "for col_number in range(len(X.columns)):\n",
    "    X.iloc[:,col_number] = X.iloc[:,col_number] / X_sum\n",
    "X\n",
    " "
   ]
  },
  {
   "cell_type": "code",
   "execution_count": 14,
   "metadata": {},
   "outputs": [
    {
     "output_type": "execute_result",
     "data": {
      "text/plain": [
       "                    video_name  diapo  stress\n",
       "1               Test_pour_AFPA      8     1.0\n",
       "2               Test_pour_AFPA      9     0.0\n",
       "3               Test_pour_AFPA     10     0.0\n",
       "4               Test_pour_AFPA     11     0.0\n",
       "6               Test_pour_AFPA     17     0.0\n",
       "..                         ...    ...     ...\n",
       "233  WIN_20210417_14_53_12_Pro      8     0.0\n",
       "234  WIN_20210417_14_53_12_Pro      9     0.0\n",
       "235  WIN_20210417_14_53_12_Pro     10     0.0\n",
       "236  WIN_20210417_14_53_12_Pro     11     0.0\n",
       "238  WIN_20210417_14_53_12_Pro     17     1.0\n",
       "\n",
       "[150 rows x 3 columns]"
      ],
      "text/html": "<div>\n<style scoped>\n    .dataframe tbody tr th:only-of-type {\n        vertical-align: middle;\n    }\n\n    .dataframe tbody tr th {\n        vertical-align: top;\n    }\n\n    .dataframe thead th {\n        text-align: right;\n    }\n</style>\n<table border=\"1\" class=\"dataframe\">\n  <thead>\n    <tr style=\"text-align: right;\">\n      <th></th>\n      <th>video_name</th>\n      <th>diapo</th>\n      <th>stress</th>\n    </tr>\n  </thead>\n  <tbody>\n    <tr>\n      <th>1</th>\n      <td>Test_pour_AFPA</td>\n      <td>8</td>\n      <td>1.0</td>\n    </tr>\n    <tr>\n      <th>2</th>\n      <td>Test_pour_AFPA</td>\n      <td>9</td>\n      <td>0.0</td>\n    </tr>\n    <tr>\n      <th>3</th>\n      <td>Test_pour_AFPA</td>\n      <td>10</td>\n      <td>0.0</td>\n    </tr>\n    <tr>\n      <th>4</th>\n      <td>Test_pour_AFPA</td>\n      <td>11</td>\n      <td>0.0</td>\n    </tr>\n    <tr>\n      <th>6</th>\n      <td>Test_pour_AFPA</td>\n      <td>17</td>\n      <td>0.0</td>\n    </tr>\n    <tr>\n      <th>...</th>\n      <td>...</td>\n      <td>...</td>\n      <td>...</td>\n    </tr>\n    <tr>\n      <th>233</th>\n      <td>WIN_20210417_14_53_12_Pro</td>\n      <td>8</td>\n      <td>0.0</td>\n    </tr>\n    <tr>\n      <th>234</th>\n      <td>WIN_20210417_14_53_12_Pro</td>\n      <td>9</td>\n      <td>0.0</td>\n    </tr>\n    <tr>\n      <th>235</th>\n      <td>WIN_20210417_14_53_12_Pro</td>\n      <td>10</td>\n      <td>0.0</td>\n    </tr>\n    <tr>\n      <th>236</th>\n      <td>WIN_20210417_14_53_12_Pro</td>\n      <td>11</td>\n      <td>0.0</td>\n    </tr>\n    <tr>\n      <th>238</th>\n      <td>WIN_20210417_14_53_12_Pro</td>\n      <td>17</td>\n      <td>1.0</td>\n    </tr>\n  </tbody>\n</table>\n<p>150 rows × 3 columns</p>\n</div>"
     },
     "metadata": {},
     "execution_count": 14
    }
   ],
   "source": [
    "df_annotations_stress = pd.read_csv('annotations.csv')\n",
    "df_annotations_stress = df_annotations_stress.drop(df_annotations_stress.columns[-1],axis=1).set_index('video_name').stack()\n",
    "df_annotations_stress = pd.DataFrame(df_annotations_stress).reset_index()\n",
    "df_annotations_stress.columns = ['video_name','diapo','stress']\n",
    "#df_annotations_stress = df_annotations_stress.set_index(['video_name','diapo'])\n",
    "df_annotations_stress['diapo'] = df_annotations_stress['diapo'].astype(int)\n",
    "df_annotations_stress = df_annotations_stress[df_annotations_stress.diapo.isin(diapo_audio_list)]\n",
    "df_annotations_stress"
   ]
  },
  {
   "cell_type": "code",
   "execution_count": 15,
   "metadata": {},
   "outputs": [],
   "source": [
    "Xy = X.merge(df_annotations_stress, how='inner', on=['video_name','diapo'])\n",
    "X = Xy.iloc[:,:-1].set_index(['video_name','diapo'])\n",
    "y = Xy.iloc[:,-1]"
   ]
  },
  {
   "cell_type": "code",
   "execution_count": 17,
   "metadata": {},
   "outputs": [
    {
     "output_type": "execute_result",
     "data": {
      "text/plain": [
       "0      1.0\n",
       "1      0.0\n",
       "2      0.0\n",
       "3      0.0\n",
       "4      0.0\n",
       "      ... \n",
       "145    0.0\n",
       "146    0.0\n",
       "147    0.0\n",
       "148    0.0\n",
       "149    1.0\n",
       "Name: stress, Length: 150, dtype: float64"
      ]
     },
     "metadata": {},
     "execution_count": 17
    }
   ],
   "source": [
    "y"
   ]
  },
  {
   "cell_type": "code",
   "execution_count": 18,
   "metadata": {},
   "outputs": [],
   "source": [
    "from sklearn.linear_model import LogisticRegression\n",
    "from sklearn.neighbors import KNeighborsClassifier\n",
    "from sklearn.ensemble import RandomForestClassifier\n",
    "from sklearn.model_selection import LeaveOneGroupOut\n",
    "from sklearn.decomposition import PCA\n",
    "from sklearn.pipeline import Pipeline\n",
    "\n",
    "pca = PCA()\n",
    "pipe = Pipeline(steps=[('pca', pca), ('logistic', LogisticRegression(multi_class='multinomial', fit_intercept=True, random_state=42))])\n",
    "\n",
    "models_list = [\n",
    "                LogisticRegression(multi_class='multinomial', fit_intercept=True, random_state=42),\n",
    "                Pipeline(steps=[('pca', pca), ('logistic', LogisticRegression(multi_class='multinomial', fit_intercept=True))]),\n",
    "                KNeighborsClassifier(),\n",
    "                Pipeline(steps=[('pca', pca), ('knn', KNeighborsClassifier())]),\n",
    "                RandomForestClassifier(random_state = 42, n_jobs=-1)\n",
    "                ]\n",
    "\n",
    "parameters_list = [\n",
    "                    {'C': [0.01, 0.05, 0.1, 0.5, 1, 2, 3, 4 , 5, 10], 'class_weight' : [None, 'balanced']},\n",
    "                    {'pca__n_components': [1, 2, 3, 4],\n",
    "                        'logistic__C': [0.01, 0.05, 0.1, 0.5, 1, 2, 3, 4 , 5, 10], 'logistic__class_weight' : [None, 'balanced']},\n",
    "                    {'n_neighbors': [4, 5, 6, 7, 8, 9, 10, 11, 12,  15, 20], 'weights' : ['uniform', 'distance'], 'p': [1, 2]},\n",
    "                    {'pca__n_components': [1, 2, 3, 4],\n",
    "                        'knn__n_neighbors': [4, 5, 6, 7, 8, 9, 10, 11, 12,  15, 20], 'knn__weights' : ['uniform', 'distance'],                              'knn__p': [1, 2]},\n",
    "                    {'n_estimators': [50, 100, 150, 200], 'max_depth':[3, 4, 5, 6, 10, 15, 20], 'class_weight':[None,'balanced']}\n",
    "                    ]\n",
    "\n",
    "groups = X.reset_index()['video_name']\n",
    "loo = LeaveOneGroupOut()\n",
    "cv_loo = loo.split(X, y, groups)"
   ]
  },
  {
   "cell_type": "code",
   "execution_count": 19,
   "metadata": {},
   "outputs": [
    {
     "output_type": "stream",
     "name": "stdout",
     "text": [
      "Fitting 30 folds for each of 20 candidates, totalling 600 fits\n",
      "[Parallel(n_jobs=-1)]: Using backend LokyBackend with 8 concurrent workers.\n",
      "[Parallel(n_jobs=-1)]: Done  56 tasks      | elapsed:    0.4s\n",
      "[Parallel(n_jobs=-1)]: Done 600 out of 600 | elapsed:    3.2s finished\n",
      "[Parallel(n_jobs=-1)]: Using backend LokyBackend with 8 concurrent workers.\n",
      "Best estimator LogisticRegression(C=4, multi_class='multinomial', random_state=42)\n",
      "Best results 0.3952592592592593\n",
      "Best params {'C': 4, 'class_weight': None}\n",
      "accuracy (mean, std) 0.4400000000000001 0.3282275633357645\n",
      "f1 (mean, std) 0.3952592592592593 0.33794627151028545\n",
      "balanced accuracy (mean, std) 0.4506481481481482 0.29032733347450124\n",
      "precision (mean, std) 0.4493333333333335 0.3834312918314774\n",
      "recall (mean, std) 0.4400000000000001 0.3282275633357645\n",
      "\n",
      "Fitting 30 folds for each of 80 candidates, totalling 2400 fits\n",
      "[Parallel(n_jobs=-1)]: Done  56 tasks      | elapsed:    0.5s\n",
      "[Parallel(n_jobs=-1)]: Done 2160 tasks      | elapsed:    8.1s\n",
      "[Parallel(n_jobs=-1)]: Done 2400 out of 2400 | elapsed:    8.9s finished\n",
      "[Parallel(n_jobs=-1)]: Using backend LokyBackend with 8 concurrent workers.\n",
      "Best estimator Pipeline(steps=[('pca', PCA(n_components=1)),\n",
      "                ('logistic',\n",
      "                 LogisticRegression(C=2, multi_class='multinomial'))])\n",
      "Best results 0.42634391534391536\n",
      "Best params {'logistic__C': 2, 'logistic__class_weight': None, 'pca__n_components': 1}\n",
      "accuracy (mean, std) 0.44666666666666666 0.27656624683588715\n",
      "f1 (mean, std) 0.42634391534391536 0.30118022229398694\n",
      "balanced accuracy (mean, std) 0.48407407407407405 0.24351246295808396\n",
      "precision (mean, std) 0.5206666666666666 0.3822239018050953\n",
      "recall (mean, std) 0.44666666666666666 0.27656624683588715\n",
      "\n",
      "Fitting 30 folds for each of 44 candidates, totalling 1320 fits\n",
      "[Parallel(n_jobs=-1)]: Done  56 tasks      | elapsed:    0.3s\n",
      "[Parallel(n_jobs=-1)]: Done 1200 tasks      | elapsed:    3.5s\n",
      "[Parallel(n_jobs=-1)]: Done 1320 out of 1320 | elapsed:    3.8s finished\n",
      "[Parallel(n_jobs=-1)]: Using backend LokyBackend with 8 concurrent workers.\n",
      "Best estimator KNeighborsClassifier(n_neighbors=20, p=1)\n",
      "Best results 0.5062486772486773\n",
      "Best params {'n_neighbors': 20, 'p': 1, 'weights': 'uniform'}\n",
      "accuracy (mean, std) 0.52 0.26127890589687236\n",
      "f1 (mean, std) 0.5062486772486773 0.2828039145023229\n",
      "balanced accuracy (mean, std) 0.5025000000000001 0.25776954608504254\n",
      "precision (mean, std) 0.5860000000000001 0.33998627423274996\n",
      "recall (mean, std) 0.52 0.26127890589687236\n",
      "\n",
      "Fitting 30 folds for each of 176 candidates, totalling 5280 fits\n",
      "[Parallel(n_jobs=-1)]: Done  56 tasks      | elapsed:    0.4s\n",
      "[Parallel(n_jobs=-1)]: Done 2160 tasks      | elapsed:    5.6s\n",
      "[Parallel(n_jobs=-1)]: Done 5280 out of 5280 | elapsed:   12.8s finished\n",
      "[Parallel(n_jobs=-1)]: Using backend LokyBackend with 8 concurrent workers.\n",
      "Best estimator Pipeline(steps=[('pca', PCA(n_components=2)),\n",
      "                ('knn', KNeighborsClassifier(n_neighbors=12, p=1))])\n",
      "Best results 0.5128412698412699\n",
      "Best params {'knn__n_neighbors': 12, 'knn__p': 1, 'knn__weights': 'uniform', 'pca__n_components': 2}\n",
      "accuracy (mean, std) 0.5266666666666667 0.29431653406192154\n",
      "f1 (mean, std) 0.5128412698412699 0.31221906791175147\n",
      "balanced accuracy (mean, std) 0.5062037037037037 0.27457101157588576\n",
      "precision (mean, std) 0.5700000000000001 0.3534947220518554\n",
      "recall (mean, std) 0.5266666666666667 0.29431653406192154\n",
      "\n",
      "Fitting 30 folds for each of 56 candidates, totalling 1680 fits\n",
      "[Parallel(n_jobs=-1)]: Done  34 tasks      | elapsed:    1.3s\n",
      "[Parallel(n_jobs=-1)]: Done 184 tasks      | elapsed:   11.0s\n",
      "[Parallel(n_jobs=-1)]: Done 434 tasks      | elapsed:   26.9s\n",
      "[Parallel(n_jobs=-1)]: Done 784 tasks      | elapsed:   49.3s\n",
      "[Parallel(n_jobs=-1)]: Done 1234 tasks      | elapsed:  1.3min\n",
      "[Parallel(n_jobs=-1)]: Done 1680 out of 1680 | elapsed:  1.8min finished\n",
      "Best estimator RandomForestClassifier(max_depth=4, n_estimators=200, n_jobs=-1,\n",
      "                       random_state=42)\n",
      "Best results 0.5154285714285715\n",
      "Best params {'class_weight': None, 'max_depth': 4, 'n_estimators': 200}\n",
      "accuracy (mean, std) 0.5266666666666667 0.26574841903993\n",
      "f1 (mean, std) 0.5154285714285715 0.28360383216536345\n",
      "balanced accuracy (mean, std) 0.5175 0.26970791814685585\n",
      "precision (mean, std) 0.607111111111111 0.33736861182823985\n",
      "recall (mean, std) 0.5266666666666667 0.26574841903993\n",
      "\n"
     ]
    }
   ],
   "source": [
    "best_result, y_predict, result_list = runGridSearchClassifiers(X, y, cv_loo, models_list, parameters_list, \n",
    "                                                                output_predict=True, n_jobs=-1, verbose=True)"
   ]
  },
  {
   "cell_type": "code",
   "execution_count": 20,
   "metadata": {},
   "outputs": [
    {
     "output_type": "execute_result",
     "data": {
      "text/plain": [
       "{'best_estimator': RandomForestClassifier(max_depth=4, n_estimators=200, n_jobs=-1,\n",
       "                        random_state=42),\n",
       " 'best_score': 0.5154285714285715,\n",
       " 'best_params': {'class_weight': None, 'max_depth': 4, 'n_estimators': 200},\n",
       " 'mean_test_f1_score': 0.5154285714285715,\n",
       " 'std_test_f1_score': 0.28360383216536345,\n",
       " 'mean_test_accuracy_score': 0.5266666666666667,\n",
       " 'std_test_accuracy_score': 0.26574841903993,\n",
       " 'mean_test_balanced_accuracy_score': 0.5175,\n",
       " 'std_test_balanced_accuracy_score': 0.26970791814685585,\n",
       " 'mean_test_precision': 0.607111111111111,\n",
       " 'std_test_precision': 0.33736861182823985,\n",
       " 'mean_test_recall': 0.5266666666666667,\n",
       " 'std_test_recall': 0.26574841903993}"
      ]
     },
     "metadata": {},
     "execution_count": 20
    }
   ],
   "source": [
    "best_result"
   ]
  },
  {
   "cell_type": "markdown",
   "metadata": {},
   "source": [
    "#### En aggrégeant les prédictions des diapos"
   ]
  },
  {
   "cell_type": "code",
   "execution_count": 23,
   "metadata": {},
   "outputs": [],
   "source": [
    "# Autre méthode\n",
    "X = df_ypredict.groupby(['video_name','diapo']).agg({'ypredict':['mean','min','max', 'median', 'std', percentil25, percentil75, kurtosis, skew]})"
   ]
  },
  {
   "cell_type": "code",
   "execution_count": 24,
   "metadata": {},
   "outputs": [],
   "source": [
    "Xy = X.merge(df_annotations_stress, how='inner', on=['video_name','diapo'])\n",
    "X = Xy.iloc[:,:-1].set_index(['video_name','diapo'])\n",
    "y = Xy.iloc[:,-1]"
   ]
  },
  {
   "cell_type": "code",
   "execution_count": 27,
   "metadata": {},
   "outputs": [],
   "source": [
    "groups = X.reset_index()['video_name']\n",
    "loo = LeaveOneGroupOut()\n",
    "cv_loo = loo.split(X, y, groups)"
   ]
  },
  {
   "cell_type": "code",
   "execution_count": 28,
   "metadata": {},
   "outputs": [
    {
     "output_type": "stream",
     "name": "stdout",
     "text": [
      "Fitting 30 folds for each of 20 candidates, totalling 600 fits\n",
      "[Parallel(n_jobs=-1)]: Using backend LokyBackend with 8 concurrent workers.\n",
      "[Parallel(n_jobs=-1)]: Done  56 tasks      | elapsed:    0.5s\n",
      "[Parallel(n_jobs=-1)]: Done 585 out of 600 | elapsed:    6.0s remaining:    0.2s\n",
      "[Parallel(n_jobs=-1)]: Done 600 out of 600 | elapsed:    6.1s finished\n",
      "[Parallel(n_jobs=-1)]: Using backend LokyBackend with 8 concurrent workers.\n",
      "Best estimator LogisticRegression(C=0.05, multi_class='multinomial', random_state=42)\n",
      "Best results 0.4976402116402116\n",
      "Best params {'C': 0.05, 'class_weight': None}\n",
      "accuracy (mean, std) 0.5266666666666667 0.29431653406192154\n",
      "f1 (mean, std) 0.4976402116402116 0.3176051064880893\n",
      "balanced accuracy (mean, std) 0.5512962962962963 0.25825440185371007\n",
      "precision (mean, std) 0.5644444444444445 0.3640739987189553\n",
      "recall (mean, std) 0.5266666666666667 0.29431653406192154\n",
      "\n",
      "Fitting 30 folds for each of 80 candidates, totalling 2400 fits\n",
      "[Parallel(n_jobs=-1)]: Done  56 tasks      | elapsed:    0.5s\n",
      "[Parallel(n_jobs=-1)]: Done 656 tasks      | elapsed:    3.5s\n",
      "[Parallel(n_jobs=-1)]: Done 1656 tasks      | elapsed:   10.2s\n",
      "[Parallel(n_jobs=-1)]: Done 2385 out of 2400 | elapsed:   15.7s remaining:    0.1s\n",
      "[Parallel(n_jobs=-1)]: Done 2400 out of 2400 | elapsed:   15.8s finished\n",
      "[Parallel(n_jobs=-1)]: Using backend LokyBackend with 8 concurrent workers.\n",
      "Best estimator Pipeline(steps=[('pca', PCA(n_components=4)),\n",
      "                ('logistic',\n",
      "                 LogisticRegression(C=2, multi_class='multinomial'))])\n",
      "Best results 0.4747619047619048\n",
      "Best params {'logistic__C': 2, 'logistic__class_weight': None, 'pca__n_components': 4}\n",
      "accuracy (mean, std) 0.48000000000000004 0.2663331247391757\n",
      "f1 (mean, std) 0.4747619047619048 0.28079976723682537\n",
      "balanced accuracy (mean, std) 0.46879629629629627 0.2590558229612894\n",
      "precision (mean, std) 0.5637777777777778 0.34018048949359037\n",
      "recall (mean, std) 0.48000000000000004 0.2663331247391757\n",
      "\n",
      "Fitting 30 folds for each of 44 candidates, totalling 1320 fits\n",
      "[Parallel(n_jobs=-1)]: Done  56 tasks      | elapsed:    0.3s\n",
      "[Parallel(n_jobs=-1)]: Done 1200 tasks      | elapsed:    3.4s\n",
      "[Parallel(n_jobs=-1)]: Done 1320 out of 1320 | elapsed:    3.7s finished\n",
      "[Parallel(n_jobs=-1)]: Using backend LokyBackend with 8 concurrent workers.\n",
      "Best estimator KNeighborsClassifier(n_neighbors=8, weights='distance')\n",
      "Best results 0.534989417989418\n",
      "Best params {'n_neighbors': 8, 'p': 2, 'weights': 'distance'}\n",
      "accuracy (mean, std) 0.5266666666666667 0.285112063737908\n",
      "f1 (mean, std) 0.534989417989418 0.28700184511060167\n",
      "balanced accuracy (mean, std) 0.4992592592592592 0.2892900822957428\n",
      "precision (mean, std) 0.6432222222222224 0.3360913492813054\n",
      "recall (mean, std) 0.5266666666666667 0.285112063737908\n",
      "\n",
      "Fitting 30 folds for each of 176 candidates, totalling 5280 fits\n",
      "[Parallel(n_jobs=-1)]: Done  56 tasks      | elapsed:    0.4s\n",
      "[Parallel(n_jobs=-1)]: Done 2160 tasks      | elapsed:    6.6s\n",
      "[Parallel(n_jobs=-1)]: Done 5280 out of 5280 | elapsed:   15.6s finished\n",
      "[Parallel(n_jobs=-1)]: Using backend LokyBackend with 8 concurrent workers.\n",
      "Best estimator Pipeline(steps=[('pca', PCA(n_components=2)),\n",
      "                ('knn', KNeighborsClassifier(n_neighbors=20))])\n",
      "Best results 0.5094179894179894\n",
      "Best params {'knn__n_neighbors': 20, 'knn__p': 2, 'knn__weights': 'uniform', 'pca__n_components': 2}\n",
      "accuracy (mean, std) 0.5266666666666667 0.26574841903993\n",
      "f1 (mean, std) 0.5094179894179894 0.30470352817593765\n",
      "balanced accuracy (mean, std) 0.5612962962962963 0.2551142862322307\n",
      "precision (mean, std) 0.5934444444444443 0.3712875329158864\n",
      "recall (mean, std) 0.5266666666666667 0.26574841903993\n",
      "\n",
      "Fitting 30 folds for each of 56 candidates, totalling 1680 fits\n",
      "[Parallel(n_jobs=-1)]: Done  34 tasks      | elapsed:    1.3s\n",
      "[Parallel(n_jobs=-1)]: Done 184 tasks      | elapsed:   10.6s\n",
      "[Parallel(n_jobs=-1)]: Done 434 tasks      | elapsed:   26.5s\n",
      "[Parallel(n_jobs=-1)]: Done 784 tasks      | elapsed:   49.1s\n",
      "[Parallel(n_jobs=-1)]: Done 1234 tasks      | elapsed:  1.3min\n",
      "[Parallel(n_jobs=-1)]: Done 1680 out of 1680 | elapsed:  1.8min finished\n",
      "Best estimator RandomForestClassifier(max_depth=6, n_estimators=150, n_jobs=-1,\n",
      "                       random_state=42)\n",
      "Best results 0.5377830687830688\n",
      "Best params {'class_weight': None, 'max_depth': 6, 'n_estimators': 150}\n",
      "accuracy (mean, std) 0.5399999999999999 0.2739829678404602\n",
      "f1 (mean, std) 0.5377830687830688 0.29325873293616445\n",
      "balanced accuracy (mean, std) 0.5210185185185184 0.2818723072588922\n",
      "precision (mean, std) 0.6157777777777778 0.3401186430615421\n",
      "recall (mean, std) 0.5399999999999999 0.2739829678404602\n",
      "\n"
     ]
    },
    {
     "output_type": "execute_result",
     "data": {
      "text/plain": [
       "{'best_estimator': RandomForestClassifier(max_depth=6, n_estimators=150, n_jobs=-1,\n",
       "                        random_state=42),\n",
       " 'best_score': 0.5377830687830688,\n",
       " 'best_params': {'class_weight': None, 'max_depth': 6, 'n_estimators': 150},\n",
       " 'mean_test_f1_score': 0.5377830687830688,\n",
       " 'std_test_f1_score': 0.29325873293616445,\n",
       " 'mean_test_accuracy_score': 0.5399999999999999,\n",
       " 'std_test_accuracy_score': 0.2739829678404602,\n",
       " 'mean_test_balanced_accuracy_score': 0.5210185185185184,\n",
       " 'std_test_balanced_accuracy_score': 0.2818723072588922,\n",
       " 'mean_test_precision': 0.6157777777777778,\n",
       " 'std_test_precision': 0.3401186430615421,\n",
       " 'mean_test_recall': 0.5399999999999999,\n",
       " 'std_test_recall': 0.2739829678404602}"
      ]
     },
     "metadata": {},
     "execution_count": 28
    }
   ],
   "source": [
    "best_result, y_predict, result_list = runGridSearchClassifiers(X, y, cv_loo, models_list, parameters_list, \n",
    "                                                                output_predict=True, n_jobs=-1, verbose=True)\n",
    "best_result"
   ]
  },
  {
   "cell_type": "code",
   "execution_count": 29,
   "metadata": {},
   "outputs": [
    {
     "output_type": "execute_result",
     "data": {
      "text/plain": [
       "{'best_estimator': RandomForestClassifier(max_depth=6, n_estimators=150, n_jobs=-1,\n",
       "                        random_state=42),\n",
       " 'best_score': 0.5377830687830688,\n",
       " 'best_params': {'class_weight': None, 'max_depth': 6, 'n_estimators': 150},\n",
       " 'mean_test_f1_score': 0.5377830687830688,\n",
       " 'std_test_f1_score': 0.29325873293616445,\n",
       " 'mean_test_accuracy_score': 0.5399999999999999,\n",
       " 'std_test_accuracy_score': 0.2739829678404602,\n",
       " 'mean_test_balanced_accuracy_score': 0.5210185185185184,\n",
       " 'std_test_balanced_accuracy_score': 0.2818723072588922,\n",
       " 'mean_test_precision': 0.6157777777777778,\n",
       " 'std_test_precision': 0.3401186430615421,\n",
       " 'mean_test_recall': 0.5399999999999999,\n",
       " 'std_test_recall': 0.2739829678404602}"
      ]
     },
     "metadata": {},
     "execution_count": 29
    }
   ],
   "source": [
    "best_result"
   ]
  },
  {
   "cell_type": "code",
   "execution_count": 30,
   "metadata": {},
   "outputs": [
    {
     "output_type": "execute_result",
     "data": {
      "text/plain": [
       "array([[43, 23,  2,  0],\n",
       "       [27, 38,  1,  0],\n",
       "       [10,  5,  0,  0],\n",
       "       [ 1,  0,  0,  0]])"
      ]
     },
     "metadata": {},
     "execution_count": 30
    }
   ],
   "source": [
    "from sklearn.metrics import confusion_matrix\n",
    "confusion_matrix(y, y_predict)"
   ]
  },
  {
   "cell_type": "code",
   "execution_count": 31,
   "metadata": {},
   "outputs": [],
   "source": [
    "# Saving predictions\n",
    "df_ypredict = pd.concat([X.reset_index()[['video_name','diapo']],\n",
    "                        pd.DataFrame(y_predict, columns=['ypredict'])],axis=1)\n",
    "df_ypredict.to_csv('ypredict_' + features + '_tw5_diapo' + diapo_selection + '.csv')"
   ]
  },
  {
   "cell_type": "code",
   "execution_count": 32,
   "metadata": {},
   "outputs": [
    {
     "output_type": "execute_result",
     "data": {
      "text/plain": [
       "                    video_name  diapo  ypredict\n",
       "0               Test_pour_AFPA      8       0.0\n",
       "1               Test_pour_AFPA      9       1.0\n",
       "2               Test_pour_AFPA     10       2.0\n",
       "3               Test_pour_AFPA     11       0.0\n",
       "4               Test_pour_AFPA     17       0.0\n",
       "..                         ...    ...       ...\n",
       "145  WIN_20210417_14_53_12_Pro      8       1.0\n",
       "146  WIN_20210417_14_53_12_Pro      9       0.0\n",
       "147  WIN_20210417_14_53_12_Pro     10       0.0\n",
       "148  WIN_20210417_14_53_12_Pro     11       0.0\n",
       "149  WIN_20210417_14_53_12_Pro     17       0.0\n",
       "\n",
       "[150 rows x 3 columns]"
      ],
      "text/html": "<div>\n<style scoped>\n    .dataframe tbody tr th:only-of-type {\n        vertical-align: middle;\n    }\n\n    .dataframe tbody tr th {\n        vertical-align: top;\n    }\n\n    .dataframe thead th {\n        text-align: right;\n    }\n</style>\n<table border=\"1\" class=\"dataframe\">\n  <thead>\n    <tr style=\"text-align: right;\">\n      <th></th>\n      <th>video_name</th>\n      <th>diapo</th>\n      <th>ypredict</th>\n    </tr>\n  </thead>\n  <tbody>\n    <tr>\n      <th>0</th>\n      <td>Test_pour_AFPA</td>\n      <td>8</td>\n      <td>0.0</td>\n    </tr>\n    <tr>\n      <th>1</th>\n      <td>Test_pour_AFPA</td>\n      <td>9</td>\n      <td>1.0</td>\n    </tr>\n    <tr>\n      <th>2</th>\n      <td>Test_pour_AFPA</td>\n      <td>10</td>\n      <td>2.0</td>\n    </tr>\n    <tr>\n      <th>3</th>\n      <td>Test_pour_AFPA</td>\n      <td>11</td>\n      <td>0.0</td>\n    </tr>\n    <tr>\n      <th>4</th>\n      <td>Test_pour_AFPA</td>\n      <td>17</td>\n      <td>0.0</td>\n    </tr>\n    <tr>\n      <th>...</th>\n      <td>...</td>\n      <td>...</td>\n      <td>...</td>\n    </tr>\n    <tr>\n      <th>145</th>\n      <td>WIN_20210417_14_53_12_Pro</td>\n      <td>8</td>\n      <td>1.0</td>\n    </tr>\n    <tr>\n      <th>146</th>\n      <td>WIN_20210417_14_53_12_Pro</td>\n      <td>9</td>\n      <td>0.0</td>\n    </tr>\n    <tr>\n      <th>147</th>\n      <td>WIN_20210417_14_53_12_Pro</td>\n      <td>10</td>\n      <td>0.0</td>\n    </tr>\n    <tr>\n      <th>148</th>\n      <td>WIN_20210417_14_53_12_Pro</td>\n      <td>11</td>\n      <td>0.0</td>\n    </tr>\n    <tr>\n      <th>149</th>\n      <td>WIN_20210417_14_53_12_Pro</td>\n      <td>17</td>\n      <td>0.0</td>\n    </tr>\n  </tbody>\n</table>\n<p>150 rows × 3 columns</p>\n</div>"
     },
     "metadata": {},
     "execution_count": 32
    }
   ],
   "source": [
    "df_ypredict"
   ]
  },
  {
   "cell_type": "markdown",
   "metadata": {},
   "source": [
    "## Stress global"
   ]
  },
  {
   "cell_type": "markdown",
   "metadata": {},
   "source": [
    "### En utilisant le stress prédit des diapos"
   ]
  },
  {
   "cell_type": "code",
   "execution_count": 33,
   "metadata": {},
   "outputs": [],
   "source": [
    "df_ypredict = pd.read_csv('ypredict_' + features + '_tw5_diapo' + diapo_selection + '.csv')\n",
    "df_ypredict = df_ypredict.iloc[:,1:]\n",
    "df_ypredict.columns = ['video_name','diapo','ypredict']\n",
    "ypredict_stress_diapo = df_ypredict.pivot_table(values='ypredict', columns='diapo',index='video_name',aggfunc='mean')\n"
   ]
  },
  {
   "cell_type": "code",
   "execution_count": 34,
   "metadata": {},
   "outputs": [
    {
     "output_type": "execute_result",
     "data": {
      "text/plain": [
       "diapo                             8    9    10   11   17\n",
       "video_name                                              \n",
       "Test_pour_AFPA                   0.0  1.0  2.0  0.0  0.0\n",
       "Video_1                          0.0  0.0  0.0  1.0  1.0\n",
       "WIN_20210323_19_17_40_Pro        0.0  1.0  0.0  1.0  1.0\n",
       "WIN_20210329_10_16_02_Pro        0.0  0.0  0.0  0.0  0.0\n",
       "WIN_20210330_13_10_29_Pro        0.0  2.0  0.0  0.0  0.0\n",
       "WIN_20210331_21_22_52_Pro        1.0  1.0  1.0  1.0  1.0\n",
       "WIN_20210402_14_27_50_Pro        1.0  1.0  1.0  1.0  1.0\n",
       "WIN_20210402_19_04_53_Pro        0.0  1.0  1.0  1.0  1.0\n",
       "WIN_20210403_18_49_15_Pro        0.0  1.0  0.0  1.0  1.0\n",
       "WIN_20210404_10_58_27_Pro        1.0  1.0  1.0  0.0  1.0\n",
       "WIN_20210404_21_41_12_Pro        0.0  1.0  0.0  0.0  0.0\n",
       "WIN_20210405_15_09_16_Pro        0.0  0.0  1.0  0.0  0.0\n",
       "WIN_20210406_15_06_15_Pro        0.0  0.0  0.0  1.0  0.0\n",
       "WIN_20210406_18_35_52_Pro        1.0  1.0  1.0  0.0  0.0\n",
       "WIN_20210406_18_49_10_Pro        0.0  0.0  0.0  0.0  0.0\n",
       "WIN_20210406_21_05_52_Pro        0.0  1.0  1.0  0.0  0.0\n",
       "WIN_20210407_09_04_05_Pro        0.0  1.0  1.0  0.0  0.0\n",
       "WIN_20210407_14_54_56_Pro_edit2  0.0  0.0  0.0  0.0  0.0\n",
       "WIN_20210408_11_48_58_Pro        1.0  1.0  1.0  1.0  0.0\n",
       "WIN_20210408_14_00_44_Pro        0.0  1.0  0.0  1.0  0.0\n",
       "WIN_20210408_14_02_19_Pro        0.0  0.0  0.0  0.0  1.0\n",
       "WIN_20210408_14_11_32_Pro        0.0  0.0  0.0  0.0  0.0\n",
       "WIN_20210408_15_20_51_Pro        1.0  1.0  1.0  1.0  1.0\n",
       "WIN_20210408_16_04_32_Pro        1.0  1.0  1.0  1.0  0.0\n",
       "WIN_20210409_10_26_11_Pro        1.0  1.0  0.0  1.0  1.0\n",
       "WIN_20210413_15_38_01_Pro        0.0  0.0  1.0  1.0  0.0\n",
       "WIN_20210414_06_24_52_Pro        1.0  0.0  0.0  0.0  0.0\n",
       "WIN_20210415_15_41_24_Pro        1.0  0.0  1.0  0.0  0.0\n",
       "WIN_20210416_08_06_54_Pro        0.0  2.0  1.0  1.0  1.0\n",
       "WIN_20210417_14_53_12_Pro        1.0  0.0  0.0  0.0  0.0"
      ],
      "text/html": "<div>\n<style scoped>\n    .dataframe tbody tr th:only-of-type {\n        vertical-align: middle;\n    }\n\n    .dataframe tbody tr th {\n        vertical-align: top;\n    }\n\n    .dataframe thead th {\n        text-align: right;\n    }\n</style>\n<table border=\"1\" class=\"dataframe\">\n  <thead>\n    <tr style=\"text-align: right;\">\n      <th>diapo</th>\n      <th>8</th>\n      <th>9</th>\n      <th>10</th>\n      <th>11</th>\n      <th>17</th>\n    </tr>\n    <tr>\n      <th>video_name</th>\n      <th></th>\n      <th></th>\n      <th></th>\n      <th></th>\n      <th></th>\n    </tr>\n  </thead>\n  <tbody>\n    <tr>\n      <th>Test_pour_AFPA</th>\n      <td>0.0</td>\n      <td>1.0</td>\n      <td>2.0</td>\n      <td>0.0</td>\n      <td>0.0</td>\n    </tr>\n    <tr>\n      <th>Video_1</th>\n      <td>0.0</td>\n      <td>0.0</td>\n      <td>0.0</td>\n      <td>1.0</td>\n      <td>1.0</td>\n    </tr>\n    <tr>\n      <th>WIN_20210323_19_17_40_Pro</th>\n      <td>0.0</td>\n      <td>1.0</td>\n      <td>0.0</td>\n      <td>1.0</td>\n      <td>1.0</td>\n    </tr>\n    <tr>\n      <th>WIN_20210329_10_16_02_Pro</th>\n      <td>0.0</td>\n      <td>0.0</td>\n      <td>0.0</td>\n      <td>0.0</td>\n      <td>0.0</td>\n    </tr>\n    <tr>\n      <th>WIN_20210330_13_10_29_Pro</th>\n      <td>0.0</td>\n      <td>2.0</td>\n      <td>0.0</td>\n      <td>0.0</td>\n      <td>0.0</td>\n    </tr>\n    <tr>\n      <th>WIN_20210331_21_22_52_Pro</th>\n      <td>1.0</td>\n      <td>1.0</td>\n      <td>1.0</td>\n      <td>1.0</td>\n      <td>1.0</td>\n    </tr>\n    <tr>\n      <th>WIN_20210402_14_27_50_Pro</th>\n      <td>1.0</td>\n      <td>1.0</td>\n      <td>1.0</td>\n      <td>1.0</td>\n      <td>1.0</td>\n    </tr>\n    <tr>\n      <th>WIN_20210402_19_04_53_Pro</th>\n      <td>0.0</td>\n      <td>1.0</td>\n      <td>1.0</td>\n      <td>1.0</td>\n      <td>1.0</td>\n    </tr>\n    <tr>\n      <th>WIN_20210403_18_49_15_Pro</th>\n      <td>0.0</td>\n      <td>1.0</td>\n      <td>0.0</td>\n      <td>1.0</td>\n      <td>1.0</td>\n    </tr>\n    <tr>\n      <th>WIN_20210404_10_58_27_Pro</th>\n      <td>1.0</td>\n      <td>1.0</td>\n      <td>1.0</td>\n      <td>0.0</td>\n      <td>1.0</td>\n    </tr>\n    <tr>\n      <th>WIN_20210404_21_41_12_Pro</th>\n      <td>0.0</td>\n      <td>1.0</td>\n      <td>0.0</td>\n      <td>0.0</td>\n      <td>0.0</td>\n    </tr>\n    <tr>\n      <th>WIN_20210405_15_09_16_Pro</th>\n      <td>0.0</td>\n      <td>0.0</td>\n      <td>1.0</td>\n      <td>0.0</td>\n      <td>0.0</td>\n    </tr>\n    <tr>\n      <th>WIN_20210406_15_06_15_Pro</th>\n      <td>0.0</td>\n      <td>0.0</td>\n      <td>0.0</td>\n      <td>1.0</td>\n      <td>0.0</td>\n    </tr>\n    <tr>\n      <th>WIN_20210406_18_35_52_Pro</th>\n      <td>1.0</td>\n      <td>1.0</td>\n      <td>1.0</td>\n      <td>0.0</td>\n      <td>0.0</td>\n    </tr>\n    <tr>\n      <th>WIN_20210406_18_49_10_Pro</th>\n      <td>0.0</td>\n      <td>0.0</td>\n      <td>0.0</td>\n      <td>0.0</td>\n      <td>0.0</td>\n    </tr>\n    <tr>\n      <th>WIN_20210406_21_05_52_Pro</th>\n      <td>0.0</td>\n      <td>1.0</td>\n      <td>1.0</td>\n      <td>0.0</td>\n      <td>0.0</td>\n    </tr>\n    <tr>\n      <th>WIN_20210407_09_04_05_Pro</th>\n      <td>0.0</td>\n      <td>1.0</td>\n      <td>1.0</td>\n      <td>0.0</td>\n      <td>0.0</td>\n    </tr>\n    <tr>\n      <th>WIN_20210407_14_54_56_Pro_edit2</th>\n      <td>0.0</td>\n      <td>0.0</td>\n      <td>0.0</td>\n      <td>0.0</td>\n      <td>0.0</td>\n    </tr>\n    <tr>\n      <th>WIN_20210408_11_48_58_Pro</th>\n      <td>1.0</td>\n      <td>1.0</td>\n      <td>1.0</td>\n      <td>1.0</td>\n      <td>0.0</td>\n    </tr>\n    <tr>\n      <th>WIN_20210408_14_00_44_Pro</th>\n      <td>0.0</td>\n      <td>1.0</td>\n      <td>0.0</td>\n      <td>1.0</td>\n      <td>0.0</td>\n    </tr>\n    <tr>\n      <th>WIN_20210408_14_02_19_Pro</th>\n      <td>0.0</td>\n      <td>0.0</td>\n      <td>0.0</td>\n      <td>0.0</td>\n      <td>1.0</td>\n    </tr>\n    <tr>\n      <th>WIN_20210408_14_11_32_Pro</th>\n      <td>0.0</td>\n      <td>0.0</td>\n      <td>0.0</td>\n      <td>0.0</td>\n      <td>0.0</td>\n    </tr>\n    <tr>\n      <th>WIN_20210408_15_20_51_Pro</th>\n      <td>1.0</td>\n      <td>1.0</td>\n      <td>1.0</td>\n      <td>1.0</td>\n      <td>1.0</td>\n    </tr>\n    <tr>\n      <th>WIN_20210408_16_04_32_Pro</th>\n      <td>1.0</td>\n      <td>1.0</td>\n      <td>1.0</td>\n      <td>1.0</td>\n      <td>0.0</td>\n    </tr>\n    <tr>\n      <th>WIN_20210409_10_26_11_Pro</th>\n      <td>1.0</td>\n      <td>1.0</td>\n      <td>0.0</td>\n      <td>1.0</td>\n      <td>1.0</td>\n    </tr>\n    <tr>\n      <th>WIN_20210413_15_38_01_Pro</th>\n      <td>0.0</td>\n      <td>0.0</td>\n      <td>1.0</td>\n      <td>1.0</td>\n      <td>0.0</td>\n    </tr>\n    <tr>\n      <th>WIN_20210414_06_24_52_Pro</th>\n      <td>1.0</td>\n      <td>0.0</td>\n      <td>0.0</td>\n      <td>0.0</td>\n      <td>0.0</td>\n    </tr>\n    <tr>\n      <th>WIN_20210415_15_41_24_Pro</th>\n      <td>1.0</td>\n      <td>0.0</td>\n      <td>1.0</td>\n      <td>0.0</td>\n      <td>0.0</td>\n    </tr>\n    <tr>\n      <th>WIN_20210416_08_06_54_Pro</th>\n      <td>0.0</td>\n      <td>2.0</td>\n      <td>1.0</td>\n      <td>1.0</td>\n      <td>1.0</td>\n    </tr>\n    <tr>\n      <th>WIN_20210417_14_53_12_Pro</th>\n      <td>1.0</td>\n      <td>0.0</td>\n      <td>0.0</td>\n      <td>0.0</td>\n      <td>0.0</td>\n    </tr>\n  </tbody>\n</table>\n</div>"
     },
     "metadata": {},
     "execution_count": 34
    }
   ],
   "source": [
    "ypredict_stress_diapo"
   ]
  },
  {
   "cell_type": "code",
   "execution_count": 35,
   "metadata": {},
   "outputs": [
    {
     "output_type": "execute_result",
     "data": {
      "text/plain": [
       "                         video_name    1    8    9   10   11   12   17   18  \\\n",
       "0                    Test_pour_AFPA  1.0  1.0  0.0  0.0  0.0  1.0  0.0  1.0   \n",
       "1                           Video_1  0.0  0.0  0.0  0.0  1.0  1.0  1.0  1.0   \n",
       "2         WIN_20210323_19_17_40_Pro  1.0  0.0  1.0  1.0  1.0  1.0  1.0  1.0   \n",
       "3         WIN_20210329_10_16_02_Pro  0.0  0.0  1.0  1.0  0.0  1.0  0.0  0.0   \n",
       "4         WIN_20210330_13_10_29_Pro  0.0  0.0  0.0  0.0  1.0  0.0  0.0  0.0   \n",
       "5         WIN_20210331_21_22_52_Pro  0.0  0.0  1.0  1.0  1.0  1.0  0.0  0.0   \n",
       "6         WIN_20210402_14_27_50_Pro  1.0  1.0  1.0  2.0  1.0  1.0  1.0  1.0   \n",
       "7         WIN_20210402_19_04_53_Pro  2.0  1.0  1.0  1.0  1.0  2.0  1.0  2.0   \n",
       "8         WIN_20210403_18_49_15_Pro  1.0  1.0  1.0  1.0  1.0  2.0  2.0  1.0   \n",
       "9         WIN_20210404_10_58_27_Pro  0.0  1.0  1.0  1.0  1.0  1.0  1.0  1.0   \n",
       "10        WIN_20210404_21_41_12_Pro  0.0  0.0  1.0  0.0  0.0  1.0  0.0  1.0   \n",
       "11        WIN_20210405_15_09_16_Pro  0.0  1.0  1.0  1.0  1.0  0.0  0.0  1.0   \n",
       "12        WIN_20210406_15_06_15_Pro  1.0  1.0  1.0  1.0  1.0  2.0  1.0  2.0   \n",
       "13        WIN_20210406_18_35_52_Pro  0.0  0.0  1.0  0.0  0.0  1.0  0.0  1.0   \n",
       "14        WIN_20210406_18_49_10_Pro  1.0  0.0  1.0  1.0  1.0  1.0  1.0  1.0   \n",
       "15        WIN_20210406_21_05_52_Pro  1.0  2.0  2.0  1.0  2.0  1.0  1.0  1.0   \n",
       "16        WIN_20210407_09_04_05_Pro  0.0  0.0  2.0  1.0  3.0  1.0  0.0  2.0   \n",
       "17  WIN_20210407_14_54_56_Pro_edit2  0.0  0.0  0.0  0.0  0.0  1.0  0.0  1.0   \n",
       "18        WIN_20210408_11_48_58_Pro  0.0  1.0  1.0  1.0  1.0  1.0  1.0  2.0   \n",
       "19        WIN_20210408_14_00_44_Pro  0.0  0.0  0.0  0.0  0.0  1.0  0.0  0.0   \n",
       "20        WIN_20210408_14_02_19_Pro  0.0  1.0  0.0  0.0  0.0  0.0  0.0  1.0   \n",
       "21        WIN_20210408_14_11_32_Pro  0.0  2.0  2.0  2.0  2.0  1.0  0.0  1.0   \n",
       "22        WIN_20210408_15_20_51_Pro  0.0  0.0  0.0  0.0  0.0  0.0  0.0  0.0   \n",
       "23        WIN_20210408_16_04_32_Pro  0.0  0.0  1.0  0.0  0.0  0.0  0.0  0.0   \n",
       "24        WIN_20210409_10_26_11_Pro  1.0  1.0  0.0  1.0  0.0  0.0  1.0  1.0   \n",
       "25        WIN_20210413_15_38_01_Pro  1.0  0.0  0.0  0.0  0.0  1.0  1.0  1.0   \n",
       "26        WIN_20210414_06_24_52_Pro  2.0  2.0  2.0  2.0  2.0  1.0  1.0  2.0   \n",
       "27        WIN_20210415_15_41_24_Pro  1.0  0.0  0.0  1.0  0.0  0.0  0.0  0.0   \n",
       "28        WIN_20210416_08_06_54_Pro  1.0  2.0  1.0  1.0  1.0  0.0  0.0  1.0   \n",
       "29        WIN_20210417_14_53_12_Pro  0.0  0.0  0.0  0.0  0.0  0.0  1.0  1.0   \n",
       "\n",
       "    stress_global  \n",
       "0             1.0  \n",
       "1             0.0  \n",
       "2             1.0  \n",
       "3             1.0  \n",
       "4             0.0  \n",
       "5             1.0  \n",
       "6             1.0  \n",
       "7             2.0  \n",
       "8             2.0  \n",
       "9             1.0  \n",
       "10            0.0  \n",
       "11            1.0  \n",
       "12            2.0  \n",
       "13            0.0  \n",
       "14            1.0  \n",
       "15            2.0  \n",
       "16            2.0  \n",
       "17            0.0  \n",
       "18            2.0  \n",
       "19            0.0  \n",
       "20            0.0  \n",
       "21            2.0  \n",
       "22            0.0  \n",
       "23            0.0  \n",
       "24            0.0  \n",
       "25            1.0  \n",
       "26            2.0  \n",
       "27            0.0  \n",
       "28            1.0  \n",
       "29            0.0  "
      ],
      "text/html": "<div>\n<style scoped>\n    .dataframe tbody tr th:only-of-type {\n        vertical-align: middle;\n    }\n\n    .dataframe tbody tr th {\n        vertical-align: top;\n    }\n\n    .dataframe thead th {\n        text-align: right;\n    }\n</style>\n<table border=\"1\" class=\"dataframe\">\n  <thead>\n    <tr style=\"text-align: right;\">\n      <th></th>\n      <th>video_name</th>\n      <th>1</th>\n      <th>8</th>\n      <th>9</th>\n      <th>10</th>\n      <th>11</th>\n      <th>12</th>\n      <th>17</th>\n      <th>18</th>\n      <th>stress_global</th>\n    </tr>\n  </thead>\n  <tbody>\n    <tr>\n      <th>0</th>\n      <td>Test_pour_AFPA</td>\n      <td>1.0</td>\n      <td>1.0</td>\n      <td>0.0</td>\n      <td>0.0</td>\n      <td>0.0</td>\n      <td>1.0</td>\n      <td>0.0</td>\n      <td>1.0</td>\n      <td>1.0</td>\n    </tr>\n    <tr>\n      <th>1</th>\n      <td>Video_1</td>\n      <td>0.0</td>\n      <td>0.0</td>\n      <td>0.0</td>\n      <td>0.0</td>\n      <td>1.0</td>\n      <td>1.0</td>\n      <td>1.0</td>\n      <td>1.0</td>\n      <td>0.0</td>\n    </tr>\n    <tr>\n      <th>2</th>\n      <td>WIN_20210323_19_17_40_Pro</td>\n      <td>1.0</td>\n      <td>0.0</td>\n      <td>1.0</td>\n      <td>1.0</td>\n      <td>1.0</td>\n      <td>1.0</td>\n      <td>1.0</td>\n      <td>1.0</td>\n      <td>1.0</td>\n    </tr>\n    <tr>\n      <th>3</th>\n      <td>WIN_20210329_10_16_02_Pro</td>\n      <td>0.0</td>\n      <td>0.0</td>\n      <td>1.0</td>\n      <td>1.0</td>\n      <td>0.0</td>\n      <td>1.0</td>\n      <td>0.0</td>\n      <td>0.0</td>\n      <td>1.0</td>\n    </tr>\n    <tr>\n      <th>4</th>\n      <td>WIN_20210330_13_10_29_Pro</td>\n      <td>0.0</td>\n      <td>0.0</td>\n      <td>0.0</td>\n      <td>0.0</td>\n      <td>1.0</td>\n      <td>0.0</td>\n      <td>0.0</td>\n      <td>0.0</td>\n      <td>0.0</td>\n    </tr>\n    <tr>\n      <th>5</th>\n      <td>WIN_20210331_21_22_52_Pro</td>\n      <td>0.0</td>\n      <td>0.0</td>\n      <td>1.0</td>\n      <td>1.0</td>\n      <td>1.0</td>\n      <td>1.0</td>\n      <td>0.0</td>\n      <td>0.0</td>\n      <td>1.0</td>\n    </tr>\n    <tr>\n      <th>6</th>\n      <td>WIN_20210402_14_27_50_Pro</td>\n      <td>1.0</td>\n      <td>1.0</td>\n      <td>1.0</td>\n      <td>2.0</td>\n      <td>1.0</td>\n      <td>1.0</td>\n      <td>1.0</td>\n      <td>1.0</td>\n      <td>1.0</td>\n    </tr>\n    <tr>\n      <th>7</th>\n      <td>WIN_20210402_19_04_53_Pro</td>\n      <td>2.0</td>\n      <td>1.0</td>\n      <td>1.0</td>\n      <td>1.0</td>\n      <td>1.0</td>\n      <td>2.0</td>\n      <td>1.0</td>\n      <td>2.0</td>\n      <td>2.0</td>\n    </tr>\n    <tr>\n      <th>8</th>\n      <td>WIN_20210403_18_49_15_Pro</td>\n      <td>1.0</td>\n      <td>1.0</td>\n      <td>1.0</td>\n      <td>1.0</td>\n      <td>1.0</td>\n      <td>2.0</td>\n      <td>2.0</td>\n      <td>1.0</td>\n      <td>2.0</td>\n    </tr>\n    <tr>\n      <th>9</th>\n      <td>WIN_20210404_10_58_27_Pro</td>\n      <td>0.0</td>\n      <td>1.0</td>\n      <td>1.0</td>\n      <td>1.0</td>\n      <td>1.0</td>\n      <td>1.0</td>\n      <td>1.0</td>\n      <td>1.0</td>\n      <td>1.0</td>\n    </tr>\n    <tr>\n      <th>10</th>\n      <td>WIN_20210404_21_41_12_Pro</td>\n      <td>0.0</td>\n      <td>0.0</td>\n      <td>1.0</td>\n      <td>0.0</td>\n      <td>0.0</td>\n      <td>1.0</td>\n      <td>0.0</td>\n      <td>1.0</td>\n      <td>0.0</td>\n    </tr>\n    <tr>\n      <th>11</th>\n      <td>WIN_20210405_15_09_16_Pro</td>\n      <td>0.0</td>\n      <td>1.0</td>\n      <td>1.0</td>\n      <td>1.0</td>\n      <td>1.0</td>\n      <td>0.0</td>\n      <td>0.0</td>\n      <td>1.0</td>\n      <td>1.0</td>\n    </tr>\n    <tr>\n      <th>12</th>\n      <td>WIN_20210406_15_06_15_Pro</td>\n      <td>1.0</td>\n      <td>1.0</td>\n      <td>1.0</td>\n      <td>1.0</td>\n      <td>1.0</td>\n      <td>2.0</td>\n      <td>1.0</td>\n      <td>2.0</td>\n      <td>2.0</td>\n    </tr>\n    <tr>\n      <th>13</th>\n      <td>WIN_20210406_18_35_52_Pro</td>\n      <td>0.0</td>\n      <td>0.0</td>\n      <td>1.0</td>\n      <td>0.0</td>\n      <td>0.0</td>\n      <td>1.0</td>\n      <td>0.0</td>\n      <td>1.0</td>\n      <td>0.0</td>\n    </tr>\n    <tr>\n      <th>14</th>\n      <td>WIN_20210406_18_49_10_Pro</td>\n      <td>1.0</td>\n      <td>0.0</td>\n      <td>1.0</td>\n      <td>1.0</td>\n      <td>1.0</td>\n      <td>1.0</td>\n      <td>1.0</td>\n      <td>1.0</td>\n      <td>1.0</td>\n    </tr>\n    <tr>\n      <th>15</th>\n      <td>WIN_20210406_21_05_52_Pro</td>\n      <td>1.0</td>\n      <td>2.0</td>\n      <td>2.0</td>\n      <td>1.0</td>\n      <td>2.0</td>\n      <td>1.0</td>\n      <td>1.0</td>\n      <td>1.0</td>\n      <td>2.0</td>\n    </tr>\n    <tr>\n      <th>16</th>\n      <td>WIN_20210407_09_04_05_Pro</td>\n      <td>0.0</td>\n      <td>0.0</td>\n      <td>2.0</td>\n      <td>1.0</td>\n      <td>3.0</td>\n      <td>1.0</td>\n      <td>0.0</td>\n      <td>2.0</td>\n      <td>2.0</td>\n    </tr>\n    <tr>\n      <th>17</th>\n      <td>WIN_20210407_14_54_56_Pro_edit2</td>\n      <td>0.0</td>\n      <td>0.0</td>\n      <td>0.0</td>\n      <td>0.0</td>\n      <td>0.0</td>\n      <td>1.0</td>\n      <td>0.0</td>\n      <td>1.0</td>\n      <td>0.0</td>\n    </tr>\n    <tr>\n      <th>18</th>\n      <td>WIN_20210408_11_48_58_Pro</td>\n      <td>0.0</td>\n      <td>1.0</td>\n      <td>1.0</td>\n      <td>1.0</td>\n      <td>1.0</td>\n      <td>1.0</td>\n      <td>1.0</td>\n      <td>2.0</td>\n      <td>2.0</td>\n    </tr>\n    <tr>\n      <th>19</th>\n      <td>WIN_20210408_14_00_44_Pro</td>\n      <td>0.0</td>\n      <td>0.0</td>\n      <td>0.0</td>\n      <td>0.0</td>\n      <td>0.0</td>\n      <td>1.0</td>\n      <td>0.0</td>\n      <td>0.0</td>\n      <td>0.0</td>\n    </tr>\n    <tr>\n      <th>20</th>\n      <td>WIN_20210408_14_02_19_Pro</td>\n      <td>0.0</td>\n      <td>1.0</td>\n      <td>0.0</td>\n      <td>0.0</td>\n      <td>0.0</td>\n      <td>0.0</td>\n      <td>0.0</td>\n      <td>1.0</td>\n      <td>0.0</td>\n    </tr>\n    <tr>\n      <th>21</th>\n      <td>WIN_20210408_14_11_32_Pro</td>\n      <td>0.0</td>\n      <td>2.0</td>\n      <td>2.0</td>\n      <td>2.0</td>\n      <td>2.0</td>\n      <td>1.0</td>\n      <td>0.0</td>\n      <td>1.0</td>\n      <td>2.0</td>\n    </tr>\n    <tr>\n      <th>22</th>\n      <td>WIN_20210408_15_20_51_Pro</td>\n      <td>0.0</td>\n      <td>0.0</td>\n      <td>0.0</td>\n      <td>0.0</td>\n      <td>0.0</td>\n      <td>0.0</td>\n      <td>0.0</td>\n      <td>0.0</td>\n      <td>0.0</td>\n    </tr>\n    <tr>\n      <th>23</th>\n      <td>WIN_20210408_16_04_32_Pro</td>\n      <td>0.0</td>\n      <td>0.0</td>\n      <td>1.0</td>\n      <td>0.0</td>\n      <td>0.0</td>\n      <td>0.0</td>\n      <td>0.0</td>\n      <td>0.0</td>\n      <td>0.0</td>\n    </tr>\n    <tr>\n      <th>24</th>\n      <td>WIN_20210409_10_26_11_Pro</td>\n      <td>1.0</td>\n      <td>1.0</td>\n      <td>0.0</td>\n      <td>1.0</td>\n      <td>0.0</td>\n      <td>0.0</td>\n      <td>1.0</td>\n      <td>1.0</td>\n      <td>0.0</td>\n    </tr>\n    <tr>\n      <th>25</th>\n      <td>WIN_20210413_15_38_01_Pro</td>\n      <td>1.0</td>\n      <td>0.0</td>\n      <td>0.0</td>\n      <td>0.0</td>\n      <td>0.0</td>\n      <td>1.0</td>\n      <td>1.0</td>\n      <td>1.0</td>\n      <td>1.0</td>\n    </tr>\n    <tr>\n      <th>26</th>\n      <td>WIN_20210414_06_24_52_Pro</td>\n      <td>2.0</td>\n      <td>2.0</td>\n      <td>2.0</td>\n      <td>2.0</td>\n      <td>2.0</td>\n      <td>1.0</td>\n      <td>1.0</td>\n      <td>2.0</td>\n      <td>2.0</td>\n    </tr>\n    <tr>\n      <th>27</th>\n      <td>WIN_20210415_15_41_24_Pro</td>\n      <td>1.0</td>\n      <td>0.0</td>\n      <td>0.0</td>\n      <td>1.0</td>\n      <td>0.0</td>\n      <td>0.0</td>\n      <td>0.0</td>\n      <td>0.0</td>\n      <td>0.0</td>\n    </tr>\n    <tr>\n      <th>28</th>\n      <td>WIN_20210416_08_06_54_Pro</td>\n      <td>1.0</td>\n      <td>2.0</td>\n      <td>1.0</td>\n      <td>1.0</td>\n      <td>1.0</td>\n      <td>0.0</td>\n      <td>0.0</td>\n      <td>1.0</td>\n      <td>1.0</td>\n    </tr>\n    <tr>\n      <th>29</th>\n      <td>WIN_20210417_14_53_12_Pro</td>\n      <td>0.0</td>\n      <td>0.0</td>\n      <td>0.0</td>\n      <td>0.0</td>\n      <td>0.0</td>\n      <td>0.0</td>\n      <td>1.0</td>\n      <td>1.0</td>\n      <td>0.0</td>\n    </tr>\n  </tbody>\n</table>\n</div>"
     },
     "metadata": {},
     "execution_count": 35
    }
   ],
   "source": [
    "df_annotations_stress = pd.read_csv('annotations.csv')\n",
    "df_annotations_stress"
   ]
  },
  {
   "cell_type": "code",
   "execution_count": 36,
   "metadata": {},
   "outputs": [
    {
     "output_type": "execute_result",
     "data": {
      "text/plain": [
       "                                   8    9   10   11   17  stress_global\n",
       "video_name                                                             \n",
       "Test_pour_AFPA                   1.0  0.0  0.0  0.0  0.0            1.0\n",
       "Video_1                          0.0  0.0  0.0  1.0  1.0            0.0\n",
       "WIN_20210323_19_17_40_Pro        0.0  1.0  1.0  1.0  1.0            1.0\n",
       "WIN_20210329_10_16_02_Pro        0.0  1.0  1.0  0.0  0.0            1.0\n",
       "WIN_20210330_13_10_29_Pro        0.0  0.0  0.0  1.0  0.0            0.0\n",
       "WIN_20210331_21_22_52_Pro        0.0  1.0  1.0  1.0  0.0            1.0\n",
       "WIN_20210402_14_27_50_Pro        1.0  1.0  2.0  1.0  1.0            1.0\n",
       "WIN_20210402_19_04_53_Pro        1.0  1.0  1.0  1.0  1.0            2.0\n",
       "WIN_20210403_18_49_15_Pro        1.0  1.0  1.0  1.0  2.0            2.0\n",
       "WIN_20210404_10_58_27_Pro        1.0  1.0  1.0  1.0  1.0            1.0\n",
       "WIN_20210404_21_41_12_Pro        0.0  1.0  0.0  0.0  0.0            0.0\n",
       "WIN_20210405_15_09_16_Pro        1.0  1.0  1.0  1.0  0.0            1.0\n",
       "WIN_20210406_15_06_15_Pro        1.0  1.0  1.0  1.0  1.0            2.0\n",
       "WIN_20210406_18_35_52_Pro        0.0  1.0  0.0  0.0  0.0            0.0\n",
       "WIN_20210406_18_49_10_Pro        0.0  1.0  1.0  1.0  1.0            1.0\n",
       "WIN_20210406_21_05_52_Pro        2.0  2.0  1.0  2.0  1.0            2.0\n",
       "WIN_20210407_09_04_05_Pro        0.0  2.0  1.0  3.0  0.0            2.0\n",
       "WIN_20210407_14_54_56_Pro_edit2  0.0  0.0  0.0  0.0  0.0            0.0\n",
       "WIN_20210408_11_48_58_Pro        1.0  1.0  1.0  1.0  1.0            2.0\n",
       "WIN_20210408_14_00_44_Pro        0.0  0.0  0.0  0.0  0.0            0.0\n",
       "WIN_20210408_14_02_19_Pro        1.0  0.0  0.0  0.0  0.0            0.0\n",
       "WIN_20210408_14_11_32_Pro        2.0  2.0  2.0  2.0  0.0            2.0\n",
       "WIN_20210408_15_20_51_Pro        0.0  0.0  0.0  0.0  0.0            0.0\n",
       "WIN_20210408_16_04_32_Pro        0.0  1.0  0.0  0.0  0.0            0.0\n",
       "WIN_20210409_10_26_11_Pro        1.0  0.0  1.0  0.0  1.0            0.0\n",
       "WIN_20210413_15_38_01_Pro        0.0  0.0  0.0  0.0  1.0            1.0\n",
       "WIN_20210414_06_24_52_Pro        2.0  2.0  2.0  2.0  1.0            2.0\n",
       "WIN_20210415_15_41_24_Pro        0.0  0.0  1.0  0.0  0.0            0.0\n",
       "WIN_20210416_08_06_54_Pro        2.0  1.0  1.0  1.0  0.0            1.0\n",
       "WIN_20210417_14_53_12_Pro        0.0  0.0  0.0  0.0  1.0            0.0"
      ],
      "text/html": "<div>\n<style scoped>\n    .dataframe tbody tr th:only-of-type {\n        vertical-align: middle;\n    }\n\n    .dataframe tbody tr th {\n        vertical-align: top;\n    }\n\n    .dataframe thead th {\n        text-align: right;\n    }\n</style>\n<table border=\"1\" class=\"dataframe\">\n  <thead>\n    <tr style=\"text-align: right;\">\n      <th></th>\n      <th>8</th>\n      <th>9</th>\n      <th>10</th>\n      <th>11</th>\n      <th>17</th>\n      <th>stress_global</th>\n    </tr>\n    <tr>\n      <th>video_name</th>\n      <th></th>\n      <th></th>\n      <th></th>\n      <th></th>\n      <th></th>\n      <th></th>\n    </tr>\n  </thead>\n  <tbody>\n    <tr>\n      <th>Test_pour_AFPA</th>\n      <td>1.0</td>\n      <td>0.0</td>\n      <td>0.0</td>\n      <td>0.0</td>\n      <td>0.0</td>\n      <td>1.0</td>\n    </tr>\n    <tr>\n      <th>Video_1</th>\n      <td>0.0</td>\n      <td>0.0</td>\n      <td>0.0</td>\n      <td>1.0</td>\n      <td>1.0</td>\n      <td>0.0</td>\n    </tr>\n    <tr>\n      <th>WIN_20210323_19_17_40_Pro</th>\n      <td>0.0</td>\n      <td>1.0</td>\n      <td>1.0</td>\n      <td>1.0</td>\n      <td>1.0</td>\n      <td>1.0</td>\n    </tr>\n    <tr>\n      <th>WIN_20210329_10_16_02_Pro</th>\n      <td>0.0</td>\n      <td>1.0</td>\n      <td>1.0</td>\n      <td>0.0</td>\n      <td>0.0</td>\n      <td>1.0</td>\n    </tr>\n    <tr>\n      <th>WIN_20210330_13_10_29_Pro</th>\n      <td>0.0</td>\n      <td>0.0</td>\n      <td>0.0</td>\n      <td>1.0</td>\n      <td>0.0</td>\n      <td>0.0</td>\n    </tr>\n    <tr>\n      <th>WIN_20210331_21_22_52_Pro</th>\n      <td>0.0</td>\n      <td>1.0</td>\n      <td>1.0</td>\n      <td>1.0</td>\n      <td>0.0</td>\n      <td>1.0</td>\n    </tr>\n    <tr>\n      <th>WIN_20210402_14_27_50_Pro</th>\n      <td>1.0</td>\n      <td>1.0</td>\n      <td>2.0</td>\n      <td>1.0</td>\n      <td>1.0</td>\n      <td>1.0</td>\n    </tr>\n    <tr>\n      <th>WIN_20210402_19_04_53_Pro</th>\n      <td>1.0</td>\n      <td>1.0</td>\n      <td>1.0</td>\n      <td>1.0</td>\n      <td>1.0</td>\n      <td>2.0</td>\n    </tr>\n    <tr>\n      <th>WIN_20210403_18_49_15_Pro</th>\n      <td>1.0</td>\n      <td>1.0</td>\n      <td>1.0</td>\n      <td>1.0</td>\n      <td>2.0</td>\n      <td>2.0</td>\n    </tr>\n    <tr>\n      <th>WIN_20210404_10_58_27_Pro</th>\n      <td>1.0</td>\n      <td>1.0</td>\n      <td>1.0</td>\n      <td>1.0</td>\n      <td>1.0</td>\n      <td>1.0</td>\n    </tr>\n    <tr>\n      <th>WIN_20210404_21_41_12_Pro</th>\n      <td>0.0</td>\n      <td>1.0</td>\n      <td>0.0</td>\n      <td>0.0</td>\n      <td>0.0</td>\n      <td>0.0</td>\n    </tr>\n    <tr>\n      <th>WIN_20210405_15_09_16_Pro</th>\n      <td>1.0</td>\n      <td>1.0</td>\n      <td>1.0</td>\n      <td>1.0</td>\n      <td>0.0</td>\n      <td>1.0</td>\n    </tr>\n    <tr>\n      <th>WIN_20210406_15_06_15_Pro</th>\n      <td>1.0</td>\n      <td>1.0</td>\n      <td>1.0</td>\n      <td>1.0</td>\n      <td>1.0</td>\n      <td>2.0</td>\n    </tr>\n    <tr>\n      <th>WIN_20210406_18_35_52_Pro</th>\n      <td>0.0</td>\n      <td>1.0</td>\n      <td>0.0</td>\n      <td>0.0</td>\n      <td>0.0</td>\n      <td>0.0</td>\n    </tr>\n    <tr>\n      <th>WIN_20210406_18_49_10_Pro</th>\n      <td>0.0</td>\n      <td>1.0</td>\n      <td>1.0</td>\n      <td>1.0</td>\n      <td>1.0</td>\n      <td>1.0</td>\n    </tr>\n    <tr>\n      <th>WIN_20210406_21_05_52_Pro</th>\n      <td>2.0</td>\n      <td>2.0</td>\n      <td>1.0</td>\n      <td>2.0</td>\n      <td>1.0</td>\n      <td>2.0</td>\n    </tr>\n    <tr>\n      <th>WIN_20210407_09_04_05_Pro</th>\n      <td>0.0</td>\n      <td>2.0</td>\n      <td>1.0</td>\n      <td>3.0</td>\n      <td>0.0</td>\n      <td>2.0</td>\n    </tr>\n    <tr>\n      <th>WIN_20210407_14_54_56_Pro_edit2</th>\n      <td>0.0</td>\n      <td>0.0</td>\n      <td>0.0</td>\n      <td>0.0</td>\n      <td>0.0</td>\n      <td>0.0</td>\n    </tr>\n    <tr>\n      <th>WIN_20210408_11_48_58_Pro</th>\n      <td>1.0</td>\n      <td>1.0</td>\n      <td>1.0</td>\n      <td>1.0</td>\n      <td>1.0</td>\n      <td>2.0</td>\n    </tr>\n    <tr>\n      <th>WIN_20210408_14_00_44_Pro</th>\n      <td>0.0</td>\n      <td>0.0</td>\n      <td>0.0</td>\n      <td>0.0</td>\n      <td>0.0</td>\n      <td>0.0</td>\n    </tr>\n    <tr>\n      <th>WIN_20210408_14_02_19_Pro</th>\n      <td>1.0</td>\n      <td>0.0</td>\n      <td>0.0</td>\n      <td>0.0</td>\n      <td>0.0</td>\n      <td>0.0</td>\n    </tr>\n    <tr>\n      <th>WIN_20210408_14_11_32_Pro</th>\n      <td>2.0</td>\n      <td>2.0</td>\n      <td>2.0</td>\n      <td>2.0</td>\n      <td>0.0</td>\n      <td>2.0</td>\n    </tr>\n    <tr>\n      <th>WIN_20210408_15_20_51_Pro</th>\n      <td>0.0</td>\n      <td>0.0</td>\n      <td>0.0</td>\n      <td>0.0</td>\n      <td>0.0</td>\n      <td>0.0</td>\n    </tr>\n    <tr>\n      <th>WIN_20210408_16_04_32_Pro</th>\n      <td>0.0</td>\n      <td>1.0</td>\n      <td>0.0</td>\n      <td>0.0</td>\n      <td>0.0</td>\n      <td>0.0</td>\n    </tr>\n    <tr>\n      <th>WIN_20210409_10_26_11_Pro</th>\n      <td>1.0</td>\n      <td>0.0</td>\n      <td>1.0</td>\n      <td>0.0</td>\n      <td>1.0</td>\n      <td>0.0</td>\n    </tr>\n    <tr>\n      <th>WIN_20210413_15_38_01_Pro</th>\n      <td>0.0</td>\n      <td>0.0</td>\n      <td>0.0</td>\n      <td>0.0</td>\n      <td>1.0</td>\n      <td>1.0</td>\n    </tr>\n    <tr>\n      <th>WIN_20210414_06_24_52_Pro</th>\n      <td>2.0</td>\n      <td>2.0</td>\n      <td>2.0</td>\n      <td>2.0</td>\n      <td>1.0</td>\n      <td>2.0</td>\n    </tr>\n    <tr>\n      <th>WIN_20210415_15_41_24_Pro</th>\n      <td>0.0</td>\n      <td>0.0</td>\n      <td>1.0</td>\n      <td>0.0</td>\n      <td>0.0</td>\n      <td>0.0</td>\n    </tr>\n    <tr>\n      <th>WIN_20210416_08_06_54_Pro</th>\n      <td>2.0</td>\n      <td>1.0</td>\n      <td>1.0</td>\n      <td>1.0</td>\n      <td>0.0</td>\n      <td>1.0</td>\n    </tr>\n    <tr>\n      <th>WIN_20210417_14_53_12_Pro</th>\n      <td>0.0</td>\n      <td>0.0</td>\n      <td>0.0</td>\n      <td>0.0</td>\n      <td>1.0</td>\n      <td>0.0</td>\n    </tr>\n  </tbody>\n</table>\n</div>"
     },
     "metadata": {},
     "execution_count": 36
    }
   ],
   "source": [
    "df_annotations_stress = pd.read_csv('annotations.csv')\n",
    "df_annotations_stress = df_annotations_stress.set_index(['video_name'])\n",
    "diapo_audio_list.append('stress_global')\n",
    "df_annotations_stress = df_annotations_stress[[str(diapo) for diapo in diapo_audio_list]]\n",
    "diapo_audio_list.pop()\n",
    "df_annotations_stress\n"
   ]
  },
  {
   "cell_type": "code",
   "execution_count": 37,
   "metadata": {},
   "outputs": [],
   "source": [
    "Xy = ypredict_stress_diapo.merge(df_annotations_stress.iloc[:,-1],how='inner',on='video_name')\n",
    "X = Xy.iloc[:,:-1]\n",
    "y = Xy.iloc[:,-1]"
   ]
  },
  {
   "cell_type": "code",
   "execution_count": 38,
   "metadata": {},
   "outputs": [
    {
     "output_type": "execute_result",
     "data": {
      "text/plain": [
       "                                   8    9   10   11   17  stress_global\n",
       "video_name                                                             \n",
       "Test_pour_AFPA                   0.0  1.0  2.0  0.0  0.0            1.0\n",
       "Video_1                          0.0  0.0  0.0  1.0  1.0            0.0\n",
       "WIN_20210323_19_17_40_Pro        0.0  1.0  0.0  1.0  1.0            1.0\n",
       "WIN_20210329_10_16_02_Pro        0.0  0.0  0.0  0.0  0.0            1.0\n",
       "WIN_20210330_13_10_29_Pro        0.0  2.0  0.0  0.0  0.0            0.0\n",
       "WIN_20210331_21_22_52_Pro        1.0  1.0  1.0  1.0  1.0            1.0\n",
       "WIN_20210402_14_27_50_Pro        1.0  1.0  1.0  1.0  1.0            1.0\n",
       "WIN_20210402_19_04_53_Pro        0.0  1.0  1.0  1.0  1.0            2.0\n",
       "WIN_20210403_18_49_15_Pro        0.0  1.0  0.0  1.0  1.0            2.0\n",
       "WIN_20210404_10_58_27_Pro        1.0  1.0  1.0  0.0  1.0            1.0\n",
       "WIN_20210404_21_41_12_Pro        0.0  1.0  0.0  0.0  0.0            0.0\n",
       "WIN_20210405_15_09_16_Pro        0.0  0.0  1.0  0.0  0.0            1.0\n",
       "WIN_20210406_15_06_15_Pro        0.0  0.0  0.0  1.0  0.0            2.0\n",
       "WIN_20210406_18_35_52_Pro        1.0  1.0  1.0  0.0  0.0            0.0\n",
       "WIN_20210406_18_49_10_Pro        0.0  0.0  0.0  0.0  0.0            1.0\n",
       "WIN_20210406_21_05_52_Pro        0.0  1.0  1.0  0.0  0.0            2.0\n",
       "WIN_20210407_09_04_05_Pro        0.0  1.0  1.0  0.0  0.0            2.0\n",
       "WIN_20210407_14_54_56_Pro_edit2  0.0  0.0  0.0  0.0  0.0            0.0\n",
       "WIN_20210408_11_48_58_Pro        1.0  1.0  1.0  1.0  0.0            2.0\n",
       "WIN_20210408_14_00_44_Pro        0.0  1.0  0.0  1.0  0.0            0.0\n",
       "WIN_20210408_14_02_19_Pro        0.0  0.0  0.0  0.0  1.0            0.0\n",
       "WIN_20210408_14_11_32_Pro        0.0  0.0  0.0  0.0  0.0            2.0\n",
       "WIN_20210408_15_20_51_Pro        1.0  1.0  1.0  1.0  1.0            0.0\n",
       "WIN_20210408_16_04_32_Pro        1.0  1.0  1.0  1.0  0.0            0.0\n",
       "WIN_20210409_10_26_11_Pro        1.0  1.0  0.0  1.0  1.0            0.0\n",
       "WIN_20210413_15_38_01_Pro        0.0  0.0  1.0  1.0  0.0            1.0\n",
       "WIN_20210414_06_24_52_Pro        1.0  0.0  0.0  0.0  0.0            2.0\n",
       "WIN_20210415_15_41_24_Pro        1.0  0.0  1.0  0.0  0.0            0.0\n",
       "WIN_20210416_08_06_54_Pro        0.0  2.0  1.0  1.0  1.0            1.0\n",
       "WIN_20210417_14_53_12_Pro        1.0  0.0  0.0  0.0  0.0            0.0"
      ],
      "text/html": "<div>\n<style scoped>\n    .dataframe tbody tr th:only-of-type {\n        vertical-align: middle;\n    }\n\n    .dataframe tbody tr th {\n        vertical-align: top;\n    }\n\n    .dataframe thead th {\n        text-align: right;\n    }\n</style>\n<table border=\"1\" class=\"dataframe\">\n  <thead>\n    <tr style=\"text-align: right;\">\n      <th></th>\n      <th>8</th>\n      <th>9</th>\n      <th>10</th>\n      <th>11</th>\n      <th>17</th>\n      <th>stress_global</th>\n    </tr>\n    <tr>\n      <th>video_name</th>\n      <th></th>\n      <th></th>\n      <th></th>\n      <th></th>\n      <th></th>\n      <th></th>\n    </tr>\n  </thead>\n  <tbody>\n    <tr>\n      <th>Test_pour_AFPA</th>\n      <td>0.0</td>\n      <td>1.0</td>\n      <td>2.0</td>\n      <td>0.0</td>\n      <td>0.0</td>\n      <td>1.0</td>\n    </tr>\n    <tr>\n      <th>Video_1</th>\n      <td>0.0</td>\n      <td>0.0</td>\n      <td>0.0</td>\n      <td>1.0</td>\n      <td>1.0</td>\n      <td>0.0</td>\n    </tr>\n    <tr>\n      <th>WIN_20210323_19_17_40_Pro</th>\n      <td>0.0</td>\n      <td>1.0</td>\n      <td>0.0</td>\n      <td>1.0</td>\n      <td>1.0</td>\n      <td>1.0</td>\n    </tr>\n    <tr>\n      <th>WIN_20210329_10_16_02_Pro</th>\n      <td>0.0</td>\n      <td>0.0</td>\n      <td>0.0</td>\n      <td>0.0</td>\n      <td>0.0</td>\n      <td>1.0</td>\n    </tr>\n    <tr>\n      <th>WIN_20210330_13_10_29_Pro</th>\n      <td>0.0</td>\n      <td>2.0</td>\n      <td>0.0</td>\n      <td>0.0</td>\n      <td>0.0</td>\n      <td>0.0</td>\n    </tr>\n    <tr>\n      <th>WIN_20210331_21_22_52_Pro</th>\n      <td>1.0</td>\n      <td>1.0</td>\n      <td>1.0</td>\n      <td>1.0</td>\n      <td>1.0</td>\n      <td>1.0</td>\n    </tr>\n    <tr>\n      <th>WIN_20210402_14_27_50_Pro</th>\n      <td>1.0</td>\n      <td>1.0</td>\n      <td>1.0</td>\n      <td>1.0</td>\n      <td>1.0</td>\n      <td>1.0</td>\n    </tr>\n    <tr>\n      <th>WIN_20210402_19_04_53_Pro</th>\n      <td>0.0</td>\n      <td>1.0</td>\n      <td>1.0</td>\n      <td>1.0</td>\n      <td>1.0</td>\n      <td>2.0</td>\n    </tr>\n    <tr>\n      <th>WIN_20210403_18_49_15_Pro</th>\n      <td>0.0</td>\n      <td>1.0</td>\n      <td>0.0</td>\n      <td>1.0</td>\n      <td>1.0</td>\n      <td>2.0</td>\n    </tr>\n    <tr>\n      <th>WIN_20210404_10_58_27_Pro</th>\n      <td>1.0</td>\n      <td>1.0</td>\n      <td>1.0</td>\n      <td>0.0</td>\n      <td>1.0</td>\n      <td>1.0</td>\n    </tr>\n    <tr>\n      <th>WIN_20210404_21_41_12_Pro</th>\n      <td>0.0</td>\n      <td>1.0</td>\n      <td>0.0</td>\n      <td>0.0</td>\n      <td>0.0</td>\n      <td>0.0</td>\n    </tr>\n    <tr>\n      <th>WIN_20210405_15_09_16_Pro</th>\n      <td>0.0</td>\n      <td>0.0</td>\n      <td>1.0</td>\n      <td>0.0</td>\n      <td>0.0</td>\n      <td>1.0</td>\n    </tr>\n    <tr>\n      <th>WIN_20210406_15_06_15_Pro</th>\n      <td>0.0</td>\n      <td>0.0</td>\n      <td>0.0</td>\n      <td>1.0</td>\n      <td>0.0</td>\n      <td>2.0</td>\n    </tr>\n    <tr>\n      <th>WIN_20210406_18_35_52_Pro</th>\n      <td>1.0</td>\n      <td>1.0</td>\n      <td>1.0</td>\n      <td>0.0</td>\n      <td>0.0</td>\n      <td>0.0</td>\n    </tr>\n    <tr>\n      <th>WIN_20210406_18_49_10_Pro</th>\n      <td>0.0</td>\n      <td>0.0</td>\n      <td>0.0</td>\n      <td>0.0</td>\n      <td>0.0</td>\n      <td>1.0</td>\n    </tr>\n    <tr>\n      <th>WIN_20210406_21_05_52_Pro</th>\n      <td>0.0</td>\n      <td>1.0</td>\n      <td>1.0</td>\n      <td>0.0</td>\n      <td>0.0</td>\n      <td>2.0</td>\n    </tr>\n    <tr>\n      <th>WIN_20210407_09_04_05_Pro</th>\n      <td>0.0</td>\n      <td>1.0</td>\n      <td>1.0</td>\n      <td>0.0</td>\n      <td>0.0</td>\n      <td>2.0</td>\n    </tr>\n    <tr>\n      <th>WIN_20210407_14_54_56_Pro_edit2</th>\n      <td>0.0</td>\n      <td>0.0</td>\n      <td>0.0</td>\n      <td>0.0</td>\n      <td>0.0</td>\n      <td>0.0</td>\n    </tr>\n    <tr>\n      <th>WIN_20210408_11_48_58_Pro</th>\n      <td>1.0</td>\n      <td>1.0</td>\n      <td>1.0</td>\n      <td>1.0</td>\n      <td>0.0</td>\n      <td>2.0</td>\n    </tr>\n    <tr>\n      <th>WIN_20210408_14_00_44_Pro</th>\n      <td>0.0</td>\n      <td>1.0</td>\n      <td>0.0</td>\n      <td>1.0</td>\n      <td>0.0</td>\n      <td>0.0</td>\n    </tr>\n    <tr>\n      <th>WIN_20210408_14_02_19_Pro</th>\n      <td>0.0</td>\n      <td>0.0</td>\n      <td>0.0</td>\n      <td>0.0</td>\n      <td>1.0</td>\n      <td>0.0</td>\n    </tr>\n    <tr>\n      <th>WIN_20210408_14_11_32_Pro</th>\n      <td>0.0</td>\n      <td>0.0</td>\n      <td>0.0</td>\n      <td>0.0</td>\n      <td>0.0</td>\n      <td>2.0</td>\n    </tr>\n    <tr>\n      <th>WIN_20210408_15_20_51_Pro</th>\n      <td>1.0</td>\n      <td>1.0</td>\n      <td>1.0</td>\n      <td>1.0</td>\n      <td>1.0</td>\n      <td>0.0</td>\n    </tr>\n    <tr>\n      <th>WIN_20210408_16_04_32_Pro</th>\n      <td>1.0</td>\n      <td>1.0</td>\n      <td>1.0</td>\n      <td>1.0</td>\n      <td>0.0</td>\n      <td>0.0</td>\n    </tr>\n    <tr>\n      <th>WIN_20210409_10_26_11_Pro</th>\n      <td>1.0</td>\n      <td>1.0</td>\n      <td>0.0</td>\n      <td>1.0</td>\n      <td>1.0</td>\n      <td>0.0</td>\n    </tr>\n    <tr>\n      <th>WIN_20210413_15_38_01_Pro</th>\n      <td>0.0</td>\n      <td>0.0</td>\n      <td>1.0</td>\n      <td>1.0</td>\n      <td>0.0</td>\n      <td>1.0</td>\n    </tr>\n    <tr>\n      <th>WIN_20210414_06_24_52_Pro</th>\n      <td>1.0</td>\n      <td>0.0</td>\n      <td>0.0</td>\n      <td>0.0</td>\n      <td>0.0</td>\n      <td>2.0</td>\n    </tr>\n    <tr>\n      <th>WIN_20210415_15_41_24_Pro</th>\n      <td>1.0</td>\n      <td>0.0</td>\n      <td>1.0</td>\n      <td>0.0</td>\n      <td>0.0</td>\n      <td>0.0</td>\n    </tr>\n    <tr>\n      <th>WIN_20210416_08_06_54_Pro</th>\n      <td>0.0</td>\n      <td>2.0</td>\n      <td>1.0</td>\n      <td>1.0</td>\n      <td>1.0</td>\n      <td>1.0</td>\n    </tr>\n    <tr>\n      <th>WIN_20210417_14_53_12_Pro</th>\n      <td>1.0</td>\n      <td>0.0</td>\n      <td>0.0</td>\n      <td>0.0</td>\n      <td>0.0</td>\n      <td>0.0</td>\n    </tr>\n  </tbody>\n</table>\n</div>"
     },
     "metadata": {},
     "execution_count": 38
    }
   ],
   "source": [
    "Xy"
   ]
  },
  {
   "cell_type": "code",
   "execution_count": 39,
   "metadata": {},
   "outputs": [],
   "source": [
    "from sklearn.linear_model import LogisticRegression\n",
    "from sklearn.neighbors import KNeighborsClassifier\n",
    "from sklearn.ensemble import RandomForestClassifier\n",
    "from sklearn.model_selection import LeaveOneGroupOut\n",
    "from sklearn.decomposition import PCA\n",
    "from sklearn.pipeline import Pipeline\n",
    "\n",
    "pca = PCA()\n",
    "\n",
    "models_list = [\n",
    "                LogisticRegression(multi_class='multinomial', fit_intercept=True, random_state=42),\n",
    "                Pipeline(steps=[('pca', pca), ('logistic', LogisticRegression(multi_class='multinomial', fit_intercept=True))]),\n",
    "                KNeighborsClassifier(),\n",
    "                Pipeline(steps=[('pca', pca), ('knn', KNeighborsClassifier())]),\n",
    "                RandomForestClassifier(random_state = 42, n_jobs=-1)\n",
    "                ]\n",
    "\n",
    "parameters_list = [\n",
    "                    {'C': [0.01, 0.05, 0.1, 0.5, 1, 2, 3, 4 , 5, 10], 'class_weight' : [None, 'balanced']},\n",
    "                    {'pca__n_components': [1, 2, 3, 4],\n",
    "                        'logistic__C': [0.01, 0.05, 0.1, 0.5, 1, 2, 3, 4 , 5, 10], 'logistic__class_weight' : [None, 'balanced']},\n",
    "                    {'n_neighbors': [4, 5, 6, 7, 8, 9, 10, 11, 12,  15, 20], 'weights' : ['uniform', 'distance'], 'p': [1, 2]},\n",
    "                    {'pca__n_components': [1, 2, 3, 4],\n",
    "                        'knn__n_neighbors': [4, 5, 6, 7, 8, 9, 10, 11, 12,  15, 20], 'knn__weights' : ['uniform', 'distance'],                              'knn__p': [1, 2]},\n",
    "                    {'n_estimators': [50, 100, 150, 200], 'max_depth':[3, 4, 5, 6, 10, 15, 20], 'class_weight':[None,'balanced']}\n",
    "                    ]\n",
    "\n",
    "groups = X.reset_index()['video_name']\n",
    "loo = LeaveOneGroupOut()\n",
    "cv_loo = loo.split(X, y, groups)"
   ]
  },
  {
   "cell_type": "code",
   "execution_count": 40,
   "metadata": {},
   "outputs": [
    {
     "output_type": "stream",
     "name": "stdout",
     "text": [
      "Fitting 30 folds for each of 20 candidates, totalling 600 fits\n",
      "[Parallel(n_jobs=-1)]: Using backend LokyBackend with 8 concurrent workers.\n",
      "[Parallel(n_jobs=-1)]: Done  56 tasks      | elapsed:    0.4s\n",
      "[Parallel(n_jobs=-1)]: Done 585 out of 600 | elapsed:    2.5s remaining:    0.1s\n",
      "[Parallel(n_jobs=-1)]: Done 600 out of 600 | elapsed:    2.5s finished\n",
      "[Parallel(n_jobs=-1)]: Using backend LokyBackend with 8 concurrent workers.\n",
      "Best estimator LogisticRegression(C=0.01, multi_class='multinomial', random_state=42)\n",
      "Best results 0.4\n",
      "Best params {'C': 0.01, 'class_weight': None}\n",
      "accuracy (mean, std) 0.4 0.4898979485566357\n",
      "f1 (mean, std) 0.4 0.4898979485566357\n",
      "balanced accuracy (mean, std) 0.4 0.4898979485566357\n",
      "precision (mean, std) 0.4 0.4898979485566357\n",
      "recall (mean, std) 0.4 0.4898979485566357\n",
      "\n",
      "Fitting 30 folds for each of 80 candidates, totalling 2400 fits\n",
      "[Parallel(n_jobs=-1)]: Done  56 tasks      | elapsed:    0.4s\n",
      "[Parallel(n_jobs=-1)]: Done 1200 tasks      | elapsed:    4.1s\n",
      "[Parallel(n_jobs=-1)]: Done 2400 out of 2400 | elapsed:    8.2s finished\n",
      "[Parallel(n_jobs=-1)]: Using backend LokyBackend with 8 concurrent workers.\n",
      "Best estimator Pipeline(steps=[('pca', PCA(n_components=1)),\n",
      "                ('logistic',\n",
      "                 LogisticRegression(C=0.01, multi_class='multinomial'))])\n",
      "Best results 0.4\n",
      "Best params {'logistic__C': 0.01, 'logistic__class_weight': None, 'pca__n_components': 1}\n",
      "accuracy (mean, std) 0.4 0.4898979485566357\n",
      "f1 (mean, std) 0.4 0.4898979485566357\n",
      "balanced accuracy (mean, std) 0.4 0.4898979485566357\n",
      "precision (mean, std) 0.4 0.4898979485566357\n",
      "recall (mean, std) 0.4 0.4898979485566357\n",
      "\n",
      "Fitting 30 folds for each of 44 candidates, totalling 1320 fits\n",
      "[Parallel(n_jobs=-1)]: Done  56 tasks      | elapsed:    0.2s\n",
      "[Parallel(n_jobs=-1)]: Done 1200 tasks      | elapsed:    3.0s\n",
      "[Parallel(n_jobs=-1)]: Done 1320 out of 1320 | elapsed:    3.3s finished\n",
      "[Parallel(n_jobs=-1)]: Using backend LokyBackend with 8 concurrent workers.\n",
      "Best estimator KNeighborsClassifier(n_neighbors=15)\n",
      "Best results 0.36666666666666664\n",
      "Best params {'n_neighbors': 15, 'p': 2, 'weights': 'uniform'}\n",
      "accuracy (mean, std) 0.36666666666666664 0.48189440982669857\n",
      "f1 (mean, std) 0.36666666666666664 0.48189440982669857\n",
      "balanced accuracy (mean, std) 0.36666666666666664 0.48189440982669857\n",
      "precision (mean, std) 0.36666666666666664 0.48189440982669857\n",
      "recall (mean, std) 0.36666666666666664 0.48189440982669857\n",
      "\n",
      "Fitting 30 folds for each of 176 candidates, totalling 5280 fits\n",
      "[Parallel(n_jobs=-1)]: Done  64 tasks      | elapsed:    0.3s\n",
      "[Parallel(n_jobs=-1)]: Done 2192 tasks      | elapsed:    6.1s\n",
      "[Parallel(n_jobs=-1)]: Done 5280 out of 5280 | elapsed:   14.3s finished\n",
      "[Parallel(n_jobs=-1)]: Using backend LokyBackend with 8 concurrent workers.\n",
      "Best estimator Pipeline(steps=[('pca', PCA(n_components=1)),\n",
      "                ('knn', KNeighborsClassifier(n_neighbors=9, p=1))])\n",
      "Best results 0.4666666666666667\n",
      "Best params {'knn__n_neighbors': 9, 'knn__p': 1, 'knn__weights': 'uniform', 'pca__n_components': 1}\n",
      "accuracy (mean, std) 0.4666666666666667 0.49888765156985887\n",
      "f1 (mean, std) 0.4666666666666667 0.49888765156985887\n",
      "balanced accuracy (mean, std) 0.4666666666666667 0.49888765156985887\n",
      "precision (mean, std) 0.4666666666666667 0.49888765156985887\n",
      "recall (mean, std) 0.4666666666666667 0.49888765156985887\n",
      "\n",
      "Fitting 30 folds for each of 56 candidates, totalling 1680 fits\n",
      "[Parallel(n_jobs=-1)]: Done  52 tasks      | elapsed:    2.4s\n",
      "[Parallel(n_jobs=-1)]: Done 232 tasks      | elapsed:   14.0s\n",
      "[Parallel(n_jobs=-1)]: Done 482 tasks      | elapsed:   29.0s\n",
      "[Parallel(n_jobs=-1)]: Done 832 tasks      | elapsed:   50.1s\n",
      "[Parallel(n_jobs=-1)]: Done 1282 tasks      | elapsed:  1.3min\n",
      "[Parallel(n_jobs=-1)]: Done 1680 out of 1680 | elapsed:  1.7min finished\n",
      "Best estimator RandomForestClassifier(max_depth=5, n_estimators=50, n_jobs=-1, random_state=42)\n",
      "Best results 0.36666666666666664\n",
      "Best params {'class_weight': None, 'max_depth': 5, 'n_estimators': 50}\n",
      "accuracy (mean, std) 0.36666666666666664 0.48189440982669857\n",
      "f1 (mean, std) 0.36666666666666664 0.48189440982669857\n",
      "balanced accuracy (mean, std) 0.36666666666666664 0.48189440982669857\n",
      "precision (mean, std) 0.36666666666666664 0.48189440982669857\n",
      "recall (mean, std) 0.36666666666666664 0.48189440982669857\n",
      "\n"
     ]
    }
   ],
   "source": [
    "best_result, y_predict, result_list = runGridSearchClassifiers(X, y, cv_loo, models_list, parameters_list, \n",
    "                                                                output_predict=True, n_jobs=-1, verbose=True)"
   ]
  },
  {
   "cell_type": "code",
   "execution_count": 41,
   "metadata": {},
   "outputs": [
    {
     "output_type": "execute_result",
     "data": {
      "text/plain": [
       "{'best_estimator': Pipeline(steps=[('pca', PCA(n_components=1)),\n",
       "                 ('knn', KNeighborsClassifier(n_neighbors=9, p=1))]),\n",
       " 'best_score': 0.4666666666666667,\n",
       " 'best_params': {'knn__n_neighbors': 9,\n",
       "  'knn__p': 1,\n",
       "  'knn__weights': 'uniform',\n",
       "  'pca__n_components': 1},\n",
       " 'mean_test_f1_score': 0.4666666666666667,\n",
       " 'std_test_f1_score': 0.49888765156985887,\n",
       " 'mean_test_accuracy_score': 0.4666666666666667,\n",
       " 'std_test_accuracy_score': 0.49888765156985887,\n",
       " 'mean_test_balanced_accuracy_score': 0.4666666666666667,\n",
       " 'std_test_balanced_accuracy_score': 0.49888765156985887,\n",
       " 'mean_test_precision': 0.4666666666666667,\n",
       " 'std_test_precision': 0.49888765156985887,\n",
       " 'mean_test_recall': 0.4666666666666667,\n",
       " 'std_test_recall': 0.49888765156985887}"
      ]
     },
     "metadata": {},
     "execution_count": 41
    }
   ],
   "source": [
    "best_result"
   ]
  },
  {
   "cell_type": "code",
   "execution_count": 42,
   "metadata": {},
   "outputs": [],
   "source": [
    "# Saving predictions\n",
    "df_ypredict = pd.concat([X.reset_index()[['video_name']],\n",
    "                        pd.DataFrame(y_predict, columns=['ypredict'])],axis=1)\n",
    "df_ypredict.to_csv('ypredict_' + features + '_tw5_global' + diapo_selection + '.csv')"
   ]
  },
  {
   "cell_type": "markdown",
   "metadata": {},
   "source": [
    "#### Autre méthode"
   ]
  },
  {
   "cell_type": "markdown",
   "metadata": {},
   "source": [
    "### En utilisant le stress prédit des time windows 5s"
   ]
  },
  {
   "cell_type": "code",
   "execution_count": 43,
   "metadata": {},
   "outputs": [
    {
     "output_type": "execute_result",
     "data": {
      "text/plain": [
       "ypredict                                0         1         2\n",
       "video_name                                                   \n",
       "Test_pour_AFPA                   0.070423  0.929577  0.000000\n",
       "Video_1                          0.625000  0.375000  0.000000\n",
       "WIN_20210323_19_17_40_Pro        0.513889  0.486111  0.000000\n",
       "WIN_20210329_10_16_02_Pro        0.000000  1.000000  0.000000\n",
       "WIN_20210330_13_10_29_Pro        0.095890  0.904110  0.000000\n",
       "WIN_20210331_21_22_52_Pro        0.380282  0.619718  0.000000\n",
       "WIN_20210402_14_27_50_Pro        0.000000  0.388889  0.611111\n",
       "WIN_20210402_19_04_53_Pro        0.375000  0.611111  0.013889\n",
       "WIN_20210403_18_49_15_Pro        0.263889  0.736111  0.000000\n",
       "WIN_20210404_10_58_27_Pro        0.493151  0.506849  0.000000\n",
       "WIN_20210404_21_41_12_Pro        0.493151  0.506849  0.000000\n",
       "WIN_20210405_15_09_16_Pro        0.863014  0.136986  0.000000\n",
       "WIN_20210406_15_06_15_Pro        0.750000  0.250000  0.000000\n",
       "WIN_20210406_18_35_52_Pro        0.777778  0.222222  0.000000\n",
       "WIN_20210406_18_49_10_Pro        0.986111  0.013889  0.000000\n",
       "WIN_20210406_21_05_52_Pro        0.464789  0.535211  0.000000\n",
       "WIN_20210407_09_04_05_Pro        0.575342  0.424658  0.000000\n",
       "WIN_20210407_14_54_56_Pro_edit2  0.750000  0.250000  0.000000\n",
       "WIN_20210408_11_48_58_Pro        0.125000  0.750000  0.125000\n",
       "WIN_20210408_14_00_44_Pro        0.661972  0.338028  0.000000\n",
       "WIN_20210408_14_02_19_Pro        0.178082  0.821918  0.000000\n",
       "WIN_20210408_14_11_32_Pro        0.000000  1.000000  0.000000\n",
       "WIN_20210408_15_20_51_Pro        0.287671  0.712329  0.000000\n",
       "WIN_20210408_16_04_32_Pro        0.444444  0.555556  0.000000\n",
       "WIN_20210409_10_26_11_Pro        0.166667  0.833333  0.000000\n",
       "WIN_20210413_15_38_01_Pro        0.527778  0.472222  0.000000\n",
       "WIN_20210414_06_24_52_Pro        0.083333  0.916667  0.000000\n",
       "WIN_20210415_15_41_24_Pro        0.904110  0.095890  0.000000\n",
       "WIN_20210416_08_06_54_Pro        0.438356  0.561644  0.000000\n",
       "WIN_20210417_14_53_12_Pro        0.904110  0.095890  0.000000"
      ],
      "text/html": "<div>\n<style scoped>\n    .dataframe tbody tr th:only-of-type {\n        vertical-align: middle;\n    }\n\n    .dataframe tbody tr th {\n        vertical-align: top;\n    }\n\n    .dataframe thead th {\n        text-align: right;\n    }\n</style>\n<table border=\"1\" class=\"dataframe\">\n  <thead>\n    <tr style=\"text-align: right;\">\n      <th>ypredict</th>\n      <th>0</th>\n      <th>1</th>\n      <th>2</th>\n    </tr>\n    <tr>\n      <th>video_name</th>\n      <th></th>\n      <th></th>\n      <th></th>\n    </tr>\n  </thead>\n  <tbody>\n    <tr>\n      <th>Test_pour_AFPA</th>\n      <td>0.070423</td>\n      <td>0.929577</td>\n      <td>0.000000</td>\n    </tr>\n    <tr>\n      <th>Video_1</th>\n      <td>0.625000</td>\n      <td>0.375000</td>\n      <td>0.000000</td>\n    </tr>\n    <tr>\n      <th>WIN_20210323_19_17_40_Pro</th>\n      <td>0.513889</td>\n      <td>0.486111</td>\n      <td>0.000000</td>\n    </tr>\n    <tr>\n      <th>WIN_20210329_10_16_02_Pro</th>\n      <td>0.000000</td>\n      <td>1.000000</td>\n      <td>0.000000</td>\n    </tr>\n    <tr>\n      <th>WIN_20210330_13_10_29_Pro</th>\n      <td>0.095890</td>\n      <td>0.904110</td>\n      <td>0.000000</td>\n    </tr>\n    <tr>\n      <th>WIN_20210331_21_22_52_Pro</th>\n      <td>0.380282</td>\n      <td>0.619718</td>\n      <td>0.000000</td>\n    </tr>\n    <tr>\n      <th>WIN_20210402_14_27_50_Pro</th>\n      <td>0.000000</td>\n      <td>0.388889</td>\n      <td>0.611111</td>\n    </tr>\n    <tr>\n      <th>WIN_20210402_19_04_53_Pro</th>\n      <td>0.375000</td>\n      <td>0.611111</td>\n      <td>0.013889</td>\n    </tr>\n    <tr>\n      <th>WIN_20210403_18_49_15_Pro</th>\n      <td>0.263889</td>\n      <td>0.736111</td>\n      <td>0.000000</td>\n    </tr>\n    <tr>\n      <th>WIN_20210404_10_58_27_Pro</th>\n      <td>0.493151</td>\n      <td>0.506849</td>\n      <td>0.000000</td>\n    </tr>\n    <tr>\n      <th>WIN_20210404_21_41_12_Pro</th>\n      <td>0.493151</td>\n      <td>0.506849</td>\n      <td>0.000000</td>\n    </tr>\n    <tr>\n      <th>WIN_20210405_15_09_16_Pro</th>\n      <td>0.863014</td>\n      <td>0.136986</td>\n      <td>0.000000</td>\n    </tr>\n    <tr>\n      <th>WIN_20210406_15_06_15_Pro</th>\n      <td>0.750000</td>\n      <td>0.250000</td>\n      <td>0.000000</td>\n    </tr>\n    <tr>\n      <th>WIN_20210406_18_35_52_Pro</th>\n      <td>0.777778</td>\n      <td>0.222222</td>\n      <td>0.000000</td>\n    </tr>\n    <tr>\n      <th>WIN_20210406_18_49_10_Pro</th>\n      <td>0.986111</td>\n      <td>0.013889</td>\n      <td>0.000000</td>\n    </tr>\n    <tr>\n      <th>WIN_20210406_21_05_52_Pro</th>\n      <td>0.464789</td>\n      <td>0.535211</td>\n      <td>0.000000</td>\n    </tr>\n    <tr>\n      <th>WIN_20210407_09_04_05_Pro</th>\n      <td>0.575342</td>\n      <td>0.424658</td>\n      <td>0.000000</td>\n    </tr>\n    <tr>\n      <th>WIN_20210407_14_54_56_Pro_edit2</th>\n      <td>0.750000</td>\n      <td>0.250000</td>\n      <td>0.000000</td>\n    </tr>\n    <tr>\n      <th>WIN_20210408_11_48_58_Pro</th>\n      <td>0.125000</td>\n      <td>0.750000</td>\n      <td>0.125000</td>\n    </tr>\n    <tr>\n      <th>WIN_20210408_14_00_44_Pro</th>\n      <td>0.661972</td>\n      <td>0.338028</td>\n      <td>0.000000</td>\n    </tr>\n    <tr>\n      <th>WIN_20210408_14_02_19_Pro</th>\n      <td>0.178082</td>\n      <td>0.821918</td>\n      <td>0.000000</td>\n    </tr>\n    <tr>\n      <th>WIN_20210408_14_11_32_Pro</th>\n      <td>0.000000</td>\n      <td>1.000000</td>\n      <td>0.000000</td>\n    </tr>\n    <tr>\n      <th>WIN_20210408_15_20_51_Pro</th>\n      <td>0.287671</td>\n      <td>0.712329</td>\n      <td>0.000000</td>\n    </tr>\n    <tr>\n      <th>WIN_20210408_16_04_32_Pro</th>\n      <td>0.444444</td>\n      <td>0.555556</td>\n      <td>0.000000</td>\n    </tr>\n    <tr>\n      <th>WIN_20210409_10_26_11_Pro</th>\n      <td>0.166667</td>\n      <td>0.833333</td>\n      <td>0.000000</td>\n    </tr>\n    <tr>\n      <th>WIN_20210413_15_38_01_Pro</th>\n      <td>0.527778</td>\n      <td>0.472222</td>\n      <td>0.000000</td>\n    </tr>\n    <tr>\n      <th>WIN_20210414_06_24_52_Pro</th>\n      <td>0.083333</td>\n      <td>0.916667</td>\n      <td>0.000000</td>\n    </tr>\n    <tr>\n      <th>WIN_20210415_15_41_24_Pro</th>\n      <td>0.904110</td>\n      <td>0.095890</td>\n      <td>0.000000</td>\n    </tr>\n    <tr>\n      <th>WIN_20210416_08_06_54_Pro</th>\n      <td>0.438356</td>\n      <td>0.561644</td>\n      <td>0.000000</td>\n    </tr>\n    <tr>\n      <th>WIN_20210417_14_53_12_Pro</th>\n      <td>0.904110</td>\n      <td>0.095890</td>\n      <td>0.000000</td>\n    </tr>\n  </tbody>\n</table>\n</div>"
     },
     "metadata": {},
     "execution_count": 43
    }
   ],
   "source": [
    "df_ypredict = pd.read_csv('ypredict_' + features + '_tw5' + diapo_selection + '.csv')\n",
    "df_ypredict = df_ypredict.iloc[:,1:]\n",
    "df_ypredict.columns = ['video_name','diapo','frameTimeWindow','ypredict']\n",
    "df_ypredict['ypredict'] = df_ypredict['ypredict'].astype(int)\n",
    "df_ypredict = df_ypredict.pivot_table(values='frameTimeWindow', columns='ypredict', index='video_name', aggfunc='count', fill_value=0)\n",
    "df_ypredict_sum = df_ypredict.sum(axis=1).values.copy()\n",
    "for col_number in range(len(df_ypredict.columns)):\n",
    "    df_ypredict.iloc[:,col_number] = df_ypredict.iloc[:,col_number] / df_ypredict_sum\n",
    "#df_ypredict = df_ypredict.reset_index()\n",
    "df_ypredict\n"
   ]
  },
  {
   "cell_type": "code",
   "execution_count": 44,
   "metadata": {},
   "outputs": [],
   "source": [
    "df_annotations_stress = pd.read_csv('annotations.csv')\n",
    "df_annotations_stress = df_annotations_stress[['video_name','stress_global']]"
   ]
  },
  {
   "cell_type": "code",
   "execution_count": 45,
   "metadata": {},
   "outputs": [],
   "source": [
    "Xy = df_ypredict.merge(df_annotations_stress, on='video_name')\n",
    "X = Xy.iloc[:,:-1].set_index('video_name')\n",
    "y = Xy.iloc[:,-1]"
   ]
  },
  {
   "cell_type": "code",
   "execution_count": 46,
   "metadata": {},
   "outputs": [],
   "source": [
    "from sklearn.linear_model import LogisticRegression\n",
    "from sklearn.neighbors import KNeighborsClassifier\n",
    "from sklearn.ensemble import RandomForestClassifier\n",
    "from sklearn.model_selection import LeaveOneGroupOut\n",
    "from sklearn.decomposition import PCA\n",
    "from sklearn.pipeline import Pipeline\n",
    "\n",
    "pca = PCA()\n",
    "\n",
    "models_list = [\n",
    "                LogisticRegression(multi_class='multinomial', fit_intercept=True, random_state=42),\n",
    "                Pipeline(steps=[('pca', pca), ('logistic', LogisticRegression(multi_class='multinomial', fit_intercept=True))]),\n",
    "                KNeighborsClassifier(),\n",
    "                Pipeline(steps=[('pca', pca), ('knn', KNeighborsClassifier())]),\n",
    "                RandomForestClassifier(random_state = 42, n_jobs=-1)\n",
    "                ]\n",
    "\n",
    "parameters_list = [\n",
    "                    {'C': [0.01, 0.05, 0.1, 0.5, 1, 2, 3, 4 , 5, 10], 'class_weight' : [None, 'balanced']},\n",
    "                    {'pca__n_components': [1, 2, 3, 4],\n",
    "                        'logistic__C': [0.01, 0.05, 0.1, 0.5, 1, 2, 3, 4 , 5, 10], 'logistic__class_weight' : [None, 'balanced']},\n",
    "                    {'n_neighbors': [4, 5, 6, 7, 8, 9, 10, 11, 12,  15, 20], 'weights' : ['uniform', 'distance'], 'p': [1, 2]},\n",
    "                    {'pca__n_components': [1, 2, 3, 4],\n",
    "                        'knn__n_neighbors': [4, 5, 6, 7, 8, 9, 10, 11, 12,  15, 20], 'knn__weights' : ['uniform', 'distance'],                              'knn__p': [1, 2]},\n",
    "                    {'n_estimators': [50, 100, 150, 200], 'max_depth':[3, 4, 5, 6, 10, 15, 20], 'class_weight':[None,'balanced']}\n",
    "                    ]\n",
    "\n",
    "groups = X.reset_index()['video_name']\n",
    "loo = LeaveOneGroupOut()\n",
    "cv_loo = loo.split(X, y, groups)"
   ]
  },
  {
   "cell_type": "code",
   "execution_count": 47,
   "metadata": {},
   "outputs": [
    {
     "output_type": "stream",
     "name": "stdout",
     "text": [
      "Fitting 30 folds for each of 20 candidates, totalling 600 fits\n",
      "[Parallel(n_jobs=-1)]: Using backend LokyBackend with 8 concurrent workers.\n",
      "[Parallel(n_jobs=-1)]: Done  56 tasks      | elapsed:    0.4s\n",
      "[Parallel(n_jobs=-1)]: Done 600 out of 600 | elapsed:    2.5s finished\n",
      "[Parallel(n_jobs=-1)]: Using backend LokyBackend with 8 concurrent workers.\n",
      "Best estimator LogisticRegression(C=0.01, class_weight='balanced', multi_class='multinomial',\n",
      "                   random_state=42)\n",
      "Best results 0.43333333333333335\n",
      "Best params {'C': 0.01, 'class_weight': 'balanced'}\n",
      "accuracy (mean, std) 0.43333333333333335 0.49553562491061676\n",
      "f1 (mean, std) 0.43333333333333335 0.49553562491061676\n",
      "balanced accuracy (mean, std) 0.43333333333333335 0.49553562491061676\n",
      "precision (mean, std) 0.43333333333333335 0.49553562491061676\n",
      "recall (mean, std) 0.43333333333333335 0.49553562491061676\n",
      "\n",
      "Fitting 30 folds for each of 80 candidates, totalling 2400 fits\n",
      "[Parallel(n_jobs=-1)]: Done  56 tasks      | elapsed:    0.4s\n",
      "[Parallel(n_jobs=-1)]: Done 2160 tasks      | elapsed:    6.5s\n",
      "[Parallel(n_jobs=-1)]: Done 2400 out of 2400 | elapsed:    7.0s finished\n",
      "[Parallel(n_jobs=-1)]: Using backend LokyBackend with 8 concurrent workers.\n",
      "Best estimator Pipeline(steps=[('pca', PCA(n_components=1)),\n",
      "                ('logistic',\n",
      "                 LogisticRegression(C=0.05, class_weight='balanced',\n",
      "                                    multi_class='multinomial'))])\n",
      "Best results 0.43333333333333335\n",
      "Best params {'logistic__C': 0.05, 'logistic__class_weight': 'balanced', 'pca__n_components': 1}\n",
      "accuracy (mean, std) 0.43333333333333335 0.49553562491061676\n",
      "f1 (mean, std) 0.43333333333333335 0.49553562491061676\n",
      "balanced accuracy (mean, std) 0.43333333333333335 0.49553562491061676\n",
      "precision (mean, std) 0.43333333333333335 0.49553562491061676\n",
      "recall (mean, std) 0.43333333333333335 0.49553562491061676\n",
      "\n",
      "Fitting 30 folds for each of 44 candidates, totalling 1320 fits\n",
      "[Parallel(n_jobs=-1)]: Done  56 tasks      | elapsed:    0.2s\n",
      "[Parallel(n_jobs=-1)]: Done 1320 out of 1320 | elapsed:    3.2s finished\n",
      "[Parallel(n_jobs=-1)]: Using backend LokyBackend with 8 concurrent workers.\n",
      "Best estimator KNeighborsClassifier(n_neighbors=7, p=1)\n",
      "Best results 0.4666666666666667\n",
      "Best params {'n_neighbors': 7, 'p': 1, 'weights': 'uniform'}\n",
      "accuracy (mean, std) 0.4666666666666667 0.49888765156985887\n",
      "f1 (mean, std) 0.4666666666666667 0.49888765156985887\n",
      "balanced accuracy (mean, std) 0.4666666666666667 0.49888765156985887\n",
      "precision (mean, std) 0.4666666666666667 0.49888765156985887\n",
      "recall (mean, std) 0.4666666666666667 0.49888765156985887\n",
      "\n",
      "Fitting 30 folds for each of 176 candidates, totalling 5280 fits\n",
      "[Parallel(n_jobs=-1)]: Done  56 tasks      | elapsed:    0.3s\n",
      "[Parallel(n_jobs=-1)]: Done 2160 tasks      | elapsed:    5.0s\n",
      "[Parallel(n_jobs=-1)]: Done 5280 out of 5280 | elapsed:   11.7s finished\n",
      "[Parallel(n_jobs=-1)]: Using backend LokyBackend with 8 concurrent workers.\n",
      "Best estimator Pipeline(steps=[('pca', PCA(n_components=2)),\n",
      "                ('knn', KNeighborsClassifier(n_neighbors=7, p=1))])\n",
      "Best results 0.43333333333333335\n",
      "Best params {'knn__n_neighbors': 7, 'knn__p': 1, 'knn__weights': 'uniform', 'pca__n_components': 2}\n",
      "accuracy (mean, std) 0.43333333333333335 0.49553562491061676\n",
      "f1 (mean, std) 0.43333333333333335 0.49553562491061676\n",
      "balanced accuracy (mean, std) 0.43333333333333335 0.49553562491061676\n",
      "precision (mean, std) 0.43333333333333335 0.49553562491061676\n",
      "recall (mean, std) 0.43333333333333335 0.49553562491061676\n",
      "\n",
      "Fitting 30 folds for each of 56 candidates, totalling 1680 fits\n",
      "[Parallel(n_jobs=-1)]: Done  52 tasks      | elapsed:    2.4s\n",
      "[Parallel(n_jobs=-1)]: Done 232 tasks      | elapsed:   14.0s\n",
      "[Parallel(n_jobs=-1)]: Done 482 tasks      | elapsed:   29.0s\n",
      "[Parallel(n_jobs=-1)]: Done 832 tasks      | elapsed:   50.2s\n",
      "[Parallel(n_jobs=-1)]: Done 1282 tasks      | elapsed:  1.3min\n",
      "[Parallel(n_jobs=-1)]: Done 1680 out of 1680 | elapsed:  1.7min finished\n",
      "Best estimator RandomForestClassifier(max_depth=4, n_estimators=50, n_jobs=-1, random_state=42)\n",
      "Best results 0.4\n",
      "Best params {'class_weight': None, 'max_depth': 4, 'n_estimators': 50}\n",
      "accuracy (mean, std) 0.4 0.4898979485566357\n",
      "f1 (mean, std) 0.4 0.4898979485566357\n",
      "balanced accuracy (mean, std) 0.4 0.4898979485566357\n",
      "precision (mean, std) 0.4 0.4898979485566357\n",
      "recall (mean, std) 0.4 0.4898979485566357\n",
      "\n"
     ]
    }
   ],
   "source": [
    "best_result, y_predict, result_list = runGridSearchClassifiers(X, y, cv_loo, models_list, parameters_list, \n",
    "                                                                output_predict=True, n_jobs=-1, verbose=True)"
   ]
  },
  {
   "cell_type": "code",
   "execution_count": 48,
   "metadata": {},
   "outputs": [
    {
     "output_type": "execute_result",
     "data": {
      "text/plain": [
       "{'best_estimator': KNeighborsClassifier(n_neighbors=7, p=1),\n",
       " 'best_score': 0.4666666666666667,\n",
       " 'best_params': {'n_neighbors': 7, 'p': 1, 'weights': 'uniform'},\n",
       " 'mean_test_f1_score': 0.4666666666666667,\n",
       " 'std_test_f1_score': 0.49888765156985887,\n",
       " 'mean_test_accuracy_score': 0.4666666666666667,\n",
       " 'std_test_accuracy_score': 0.49888765156985887,\n",
       " 'mean_test_balanced_accuracy_score': 0.4666666666666667,\n",
       " 'std_test_balanced_accuracy_score': 0.49888765156985887,\n",
       " 'mean_test_precision': 0.4666666666666667,\n",
       " 'std_test_precision': 0.49888765156985887,\n",
       " 'mean_test_recall': 0.4666666666666667,\n",
       " 'std_test_recall': 0.49888765156985887}"
      ]
     },
     "metadata": {},
     "execution_count": 48
    }
   ],
   "source": [
    "best_result"
   ]
  },
  {
   "cell_type": "markdown",
   "metadata": {},
   "source": [
    "#### Autre méthode"
   ]
  },
  {
   "cell_type": "code",
   "execution_count": 49,
   "metadata": {},
   "outputs": [
    {
     "output_type": "execute_result",
     "data": {
      "text/plain": [
       "                                 ypredict                             \\\n",
       "                                     mean  min  max median       std   \n",
       "video_name                                                             \n",
       "Test_pour_AFPA                   0.929577  0.0  1.0    1.0  0.257679   \n",
       "Video_1                          0.375000  0.0  1.0    0.0  0.487520   \n",
       "WIN_20210323_19_17_40_Pro        0.486111  0.0  1.0    0.0  0.503315   \n",
       "WIN_20210329_10_16_02_Pro        1.000000  1.0  1.0    1.0  0.000000   \n",
       "WIN_20210330_13_10_29_Pro        0.904110  0.0  1.0    1.0  0.296479   \n",
       "WIN_20210331_21_22_52_Pro        0.619718  0.0  1.0    1.0  0.488911   \n",
       "WIN_20210402_14_27_50_Pro        1.611111  1.0  2.0    2.0  0.490919   \n",
       "WIN_20210402_19_04_53_Pro        0.638889  0.0  2.0    1.0  0.511985   \n",
       "WIN_20210403_18_49_15_Pro        0.736111  0.0  1.0    1.0  0.443833   \n",
       "WIN_20210404_10_58_27_Pro        0.506849  0.0  1.0    1.0  0.503413   \n",
       "WIN_20210404_21_41_12_Pro        0.506849  0.0  1.0    1.0  0.503413   \n",
       "WIN_20210405_15_09_16_Pro        0.136986  0.0  1.0    0.0  0.346212   \n",
       "WIN_20210406_15_06_15_Pro        0.250000  0.0  1.0    0.0  0.436051   \n",
       "WIN_20210406_18_35_52_Pro        0.222222  0.0  1.0    0.0  0.418657   \n",
       "WIN_20210406_18_49_10_Pro        0.013889  0.0  1.0    0.0  0.117851   \n",
       "WIN_20210406_21_05_52_Pro        0.535211  0.0  1.0    1.0  0.502309   \n",
       "WIN_20210407_09_04_05_Pro        0.424658  0.0  1.0    0.0  0.497712   \n",
       "WIN_20210407_14_54_56_Pro_edit2  0.250000  0.0  1.0    0.0  0.436051   \n",
       "WIN_20210408_11_48_58_Pro        1.000000  0.0  2.0    1.0  0.503509   \n",
       "WIN_20210408_14_00_44_Pro        0.338028  0.0  1.0    0.0  0.476405   \n",
       "WIN_20210408_14_02_19_Pro        0.821918  0.0  1.0    1.0  0.385230   \n",
       "WIN_20210408_14_11_32_Pro        1.000000  1.0  1.0    1.0  0.000000   \n",
       "WIN_20210408_15_20_51_Pro        0.712329  0.0  1.0    1.0  0.455810   \n",
       "WIN_20210408_16_04_32_Pro        0.555556  0.0  1.0    1.0  0.500391   \n",
       "WIN_20210409_10_26_11_Pro        0.833333  0.0  1.0    1.0  0.375293   \n",
       "WIN_20210413_15_38_01_Pro        0.472222  0.0  1.0    0.0  0.502731   \n",
       "WIN_20210414_06_24_52_Pro        0.916667  0.0  1.0    1.0  0.278325   \n",
       "WIN_20210415_15_41_24_Pro        0.095890  0.0  1.0    0.0  0.296479   \n",
       "WIN_20210416_08_06_54_Pro        0.561644  0.0  1.0    1.0  0.499619   \n",
       "WIN_20210417_14_53_12_Pro        0.095890  0.0  1.0    0.0  0.296479   \n",
       "\n",
       "                                                                              \n",
       "                                percentil25 percentil75   kurtosis      skew  \n",
       "video_name                                                                    \n",
       "Test_pour_AFPA                          1.0        1.00   9.275758 -3.357939  \n",
       "Video_1                                 0.0        1.00  -1.733333  0.516398  \n",
       "WIN_20210323_19_17_40_Pro               0.0        1.00  -1.996911  0.055577  \n",
       "WIN_20210329_10_16_02_Pro               1.0        1.00  -3.000000  0.000000  \n",
       "WIN_20210330_13_10_29_Pro               1.0        1.00   5.534632 -2.744928  \n",
       "WIN_20210331_21_22_52_Pro               0.0        1.00  -1.756734 -0.493220  \n",
       "WIN_20210402_14_27_50_Pro               1.0        2.00  -1.792208 -0.455842  \n",
       "WIN_20210402_19_04_53_Pro               0.0        1.00  -1.195937 -0.258664  \n",
       "WIN_20210403_18_49_15_Pro               0.0        1.00  -0.852036 -1.071431  \n",
       "WIN_20210404_10_58_27_Pro               0.0        1.00  -1.999249 -0.027400  \n",
       "WIN_20210404_21_41_12_Pro               0.0        1.00  -1.999249 -0.027400  \n",
       "WIN_20210405_15_09_16_Pro               0.0        0.00   2.458730  2.111571  \n",
       "WIN_20210406_15_06_15_Pro               0.0        0.25  -0.666667  1.154701  \n",
       "WIN_20210406_18_35_52_Pro               0.0        0.00  -0.214286  1.336306  \n",
       "WIN_20210406_18_49_10_Pro               0.0        0.00  67.014085  8.307472  \n",
       "WIN_20210406_21_05_52_Pro               0.0        1.00  -1.980064 -0.141196  \n",
       "WIN_20210407_09_04_05_Pro               0.0        1.00  -1.907066  0.304851  \n",
       "WIN_20210407_14_54_56_Pro_edit2         0.0        0.25  -0.666667  1.154701  \n",
       "WIN_20210408_11_48_58_Pro               1.0        1.00   1.000000  0.000000  \n",
       "WIN_20210408_14_00_44_Pro               0.0        1.00  -1.531028  0.684815  \n",
       "WIN_20210408_14_02_19_Pro               1.0        1.00   0.832051 -1.682870  \n",
       "WIN_20210408_14_11_32_Pro               1.0        1.00  -3.000000  0.000000  \n",
       "WIN_20210408_15_20_51_Pro               0.0        1.00  -1.119963 -0.938103  \n",
       "WIN_20210408_16_04_32_Pro               0.0        1.00  -1.950000 -0.223607  \n",
       "WIN_20210409_10_26_11_Pro               1.0        1.00   1.200000 -1.788854  \n",
       "WIN_20210413_15_38_01_Pro               0.0        1.00  -1.987616  0.111283  \n",
       "WIN_20210414_06_24_52_Pro               1.0        1.00   7.090909 -3.015113  \n",
       "WIN_20210415_15_41_24_Pro               0.0        0.00   5.534632  2.744928  \n",
       "WIN_20210416_08_06_54_Pro               0.0        1.00  -1.938262 -0.248471  \n",
       "WIN_20210417_14_53_12_Pro               0.0        0.00   5.534632  2.744928  "
      ],
      "text/html": "<div>\n<style scoped>\n    .dataframe tbody tr th:only-of-type {\n        vertical-align: middle;\n    }\n\n    .dataframe tbody tr th {\n        vertical-align: top;\n    }\n\n    .dataframe thead tr th {\n        text-align: left;\n    }\n\n    .dataframe thead tr:last-of-type th {\n        text-align: right;\n    }\n</style>\n<table border=\"1\" class=\"dataframe\">\n  <thead>\n    <tr>\n      <th></th>\n      <th colspan=\"9\" halign=\"left\">ypredict</th>\n    </tr>\n    <tr>\n      <th></th>\n      <th>mean</th>\n      <th>min</th>\n      <th>max</th>\n      <th>median</th>\n      <th>std</th>\n      <th>percentil25</th>\n      <th>percentil75</th>\n      <th>kurtosis</th>\n      <th>skew</th>\n    </tr>\n    <tr>\n      <th>video_name</th>\n      <th></th>\n      <th></th>\n      <th></th>\n      <th></th>\n      <th></th>\n      <th></th>\n      <th></th>\n      <th></th>\n      <th></th>\n    </tr>\n  </thead>\n  <tbody>\n    <tr>\n      <th>Test_pour_AFPA</th>\n      <td>0.929577</td>\n      <td>0.0</td>\n      <td>1.0</td>\n      <td>1.0</td>\n      <td>0.257679</td>\n      <td>1.0</td>\n      <td>1.00</td>\n      <td>9.275758</td>\n      <td>-3.357939</td>\n    </tr>\n    <tr>\n      <th>Video_1</th>\n      <td>0.375000</td>\n      <td>0.0</td>\n      <td>1.0</td>\n      <td>0.0</td>\n      <td>0.487520</td>\n      <td>0.0</td>\n      <td>1.00</td>\n      <td>-1.733333</td>\n      <td>0.516398</td>\n    </tr>\n    <tr>\n      <th>WIN_20210323_19_17_40_Pro</th>\n      <td>0.486111</td>\n      <td>0.0</td>\n      <td>1.0</td>\n      <td>0.0</td>\n      <td>0.503315</td>\n      <td>0.0</td>\n      <td>1.00</td>\n      <td>-1.996911</td>\n      <td>0.055577</td>\n    </tr>\n    <tr>\n      <th>WIN_20210329_10_16_02_Pro</th>\n      <td>1.000000</td>\n      <td>1.0</td>\n      <td>1.0</td>\n      <td>1.0</td>\n      <td>0.000000</td>\n      <td>1.0</td>\n      <td>1.00</td>\n      <td>-3.000000</td>\n      <td>0.000000</td>\n    </tr>\n    <tr>\n      <th>WIN_20210330_13_10_29_Pro</th>\n      <td>0.904110</td>\n      <td>0.0</td>\n      <td>1.0</td>\n      <td>1.0</td>\n      <td>0.296479</td>\n      <td>1.0</td>\n      <td>1.00</td>\n      <td>5.534632</td>\n      <td>-2.744928</td>\n    </tr>\n    <tr>\n      <th>WIN_20210331_21_22_52_Pro</th>\n      <td>0.619718</td>\n      <td>0.0</td>\n      <td>1.0</td>\n      <td>1.0</td>\n      <td>0.488911</td>\n      <td>0.0</td>\n      <td>1.00</td>\n      <td>-1.756734</td>\n      <td>-0.493220</td>\n    </tr>\n    <tr>\n      <th>WIN_20210402_14_27_50_Pro</th>\n      <td>1.611111</td>\n      <td>1.0</td>\n      <td>2.0</td>\n      <td>2.0</td>\n      <td>0.490919</td>\n      <td>1.0</td>\n      <td>2.00</td>\n      <td>-1.792208</td>\n      <td>-0.455842</td>\n    </tr>\n    <tr>\n      <th>WIN_20210402_19_04_53_Pro</th>\n      <td>0.638889</td>\n      <td>0.0</td>\n      <td>2.0</td>\n      <td>1.0</td>\n      <td>0.511985</td>\n      <td>0.0</td>\n      <td>1.00</td>\n      <td>-1.195937</td>\n      <td>-0.258664</td>\n    </tr>\n    <tr>\n      <th>WIN_20210403_18_49_15_Pro</th>\n      <td>0.736111</td>\n      <td>0.0</td>\n      <td>1.0</td>\n      <td>1.0</td>\n      <td>0.443833</td>\n      <td>0.0</td>\n      <td>1.00</td>\n      <td>-0.852036</td>\n      <td>-1.071431</td>\n    </tr>\n    <tr>\n      <th>WIN_20210404_10_58_27_Pro</th>\n      <td>0.506849</td>\n      <td>0.0</td>\n      <td>1.0</td>\n      <td>1.0</td>\n      <td>0.503413</td>\n      <td>0.0</td>\n      <td>1.00</td>\n      <td>-1.999249</td>\n      <td>-0.027400</td>\n    </tr>\n    <tr>\n      <th>WIN_20210404_21_41_12_Pro</th>\n      <td>0.506849</td>\n      <td>0.0</td>\n      <td>1.0</td>\n      <td>1.0</td>\n      <td>0.503413</td>\n      <td>0.0</td>\n      <td>1.00</td>\n      <td>-1.999249</td>\n      <td>-0.027400</td>\n    </tr>\n    <tr>\n      <th>WIN_20210405_15_09_16_Pro</th>\n      <td>0.136986</td>\n      <td>0.0</td>\n      <td>1.0</td>\n      <td>0.0</td>\n      <td>0.346212</td>\n      <td>0.0</td>\n      <td>0.00</td>\n      <td>2.458730</td>\n      <td>2.111571</td>\n    </tr>\n    <tr>\n      <th>WIN_20210406_15_06_15_Pro</th>\n      <td>0.250000</td>\n      <td>0.0</td>\n      <td>1.0</td>\n      <td>0.0</td>\n      <td>0.436051</td>\n      <td>0.0</td>\n      <td>0.25</td>\n      <td>-0.666667</td>\n      <td>1.154701</td>\n    </tr>\n    <tr>\n      <th>WIN_20210406_18_35_52_Pro</th>\n      <td>0.222222</td>\n      <td>0.0</td>\n      <td>1.0</td>\n      <td>0.0</td>\n      <td>0.418657</td>\n      <td>0.0</td>\n      <td>0.00</td>\n      <td>-0.214286</td>\n      <td>1.336306</td>\n    </tr>\n    <tr>\n      <th>WIN_20210406_18_49_10_Pro</th>\n      <td>0.013889</td>\n      <td>0.0</td>\n      <td>1.0</td>\n      <td>0.0</td>\n      <td>0.117851</td>\n      <td>0.0</td>\n      <td>0.00</td>\n      <td>67.014085</td>\n      <td>8.307472</td>\n    </tr>\n    <tr>\n      <th>WIN_20210406_21_05_52_Pro</th>\n      <td>0.535211</td>\n      <td>0.0</td>\n      <td>1.0</td>\n      <td>1.0</td>\n      <td>0.502309</td>\n      <td>0.0</td>\n      <td>1.00</td>\n      <td>-1.980064</td>\n      <td>-0.141196</td>\n    </tr>\n    <tr>\n      <th>WIN_20210407_09_04_05_Pro</th>\n      <td>0.424658</td>\n      <td>0.0</td>\n      <td>1.0</td>\n      <td>0.0</td>\n      <td>0.497712</td>\n      <td>0.0</td>\n      <td>1.00</td>\n      <td>-1.907066</td>\n      <td>0.304851</td>\n    </tr>\n    <tr>\n      <th>WIN_20210407_14_54_56_Pro_edit2</th>\n      <td>0.250000</td>\n      <td>0.0</td>\n      <td>1.0</td>\n      <td>0.0</td>\n      <td>0.436051</td>\n      <td>0.0</td>\n      <td>0.25</td>\n      <td>-0.666667</td>\n      <td>1.154701</td>\n    </tr>\n    <tr>\n      <th>WIN_20210408_11_48_58_Pro</th>\n      <td>1.000000</td>\n      <td>0.0</td>\n      <td>2.0</td>\n      <td>1.0</td>\n      <td>0.503509</td>\n      <td>1.0</td>\n      <td>1.00</td>\n      <td>1.000000</td>\n      <td>0.000000</td>\n    </tr>\n    <tr>\n      <th>WIN_20210408_14_00_44_Pro</th>\n      <td>0.338028</td>\n      <td>0.0</td>\n      <td>1.0</td>\n      <td>0.0</td>\n      <td>0.476405</td>\n      <td>0.0</td>\n      <td>1.00</td>\n      <td>-1.531028</td>\n      <td>0.684815</td>\n    </tr>\n    <tr>\n      <th>WIN_20210408_14_02_19_Pro</th>\n      <td>0.821918</td>\n      <td>0.0</td>\n      <td>1.0</td>\n      <td>1.0</td>\n      <td>0.385230</td>\n      <td>1.0</td>\n      <td>1.00</td>\n      <td>0.832051</td>\n      <td>-1.682870</td>\n    </tr>\n    <tr>\n      <th>WIN_20210408_14_11_32_Pro</th>\n      <td>1.000000</td>\n      <td>1.0</td>\n      <td>1.0</td>\n      <td>1.0</td>\n      <td>0.000000</td>\n      <td>1.0</td>\n      <td>1.00</td>\n      <td>-3.000000</td>\n      <td>0.000000</td>\n    </tr>\n    <tr>\n      <th>WIN_20210408_15_20_51_Pro</th>\n      <td>0.712329</td>\n      <td>0.0</td>\n      <td>1.0</td>\n      <td>1.0</td>\n      <td>0.455810</td>\n      <td>0.0</td>\n      <td>1.00</td>\n      <td>-1.119963</td>\n      <td>-0.938103</td>\n    </tr>\n    <tr>\n      <th>WIN_20210408_16_04_32_Pro</th>\n      <td>0.555556</td>\n      <td>0.0</td>\n      <td>1.0</td>\n      <td>1.0</td>\n      <td>0.500391</td>\n      <td>0.0</td>\n      <td>1.00</td>\n      <td>-1.950000</td>\n      <td>-0.223607</td>\n    </tr>\n    <tr>\n      <th>WIN_20210409_10_26_11_Pro</th>\n      <td>0.833333</td>\n      <td>0.0</td>\n      <td>1.0</td>\n      <td>1.0</td>\n      <td>0.375293</td>\n      <td>1.0</td>\n      <td>1.00</td>\n      <td>1.200000</td>\n      <td>-1.788854</td>\n    </tr>\n    <tr>\n      <th>WIN_20210413_15_38_01_Pro</th>\n      <td>0.472222</td>\n      <td>0.0</td>\n      <td>1.0</td>\n      <td>0.0</td>\n      <td>0.502731</td>\n      <td>0.0</td>\n      <td>1.00</td>\n      <td>-1.987616</td>\n      <td>0.111283</td>\n    </tr>\n    <tr>\n      <th>WIN_20210414_06_24_52_Pro</th>\n      <td>0.916667</td>\n      <td>0.0</td>\n      <td>1.0</td>\n      <td>1.0</td>\n      <td>0.278325</td>\n      <td>1.0</td>\n      <td>1.00</td>\n      <td>7.090909</td>\n      <td>-3.015113</td>\n    </tr>\n    <tr>\n      <th>WIN_20210415_15_41_24_Pro</th>\n      <td>0.095890</td>\n      <td>0.0</td>\n      <td>1.0</td>\n      <td>0.0</td>\n      <td>0.296479</td>\n      <td>0.0</td>\n      <td>0.00</td>\n      <td>5.534632</td>\n      <td>2.744928</td>\n    </tr>\n    <tr>\n      <th>WIN_20210416_08_06_54_Pro</th>\n      <td>0.561644</td>\n      <td>0.0</td>\n      <td>1.0</td>\n      <td>1.0</td>\n      <td>0.499619</td>\n      <td>0.0</td>\n      <td>1.00</td>\n      <td>-1.938262</td>\n      <td>-0.248471</td>\n    </tr>\n    <tr>\n      <th>WIN_20210417_14_53_12_Pro</th>\n      <td>0.095890</td>\n      <td>0.0</td>\n      <td>1.0</td>\n      <td>0.0</td>\n      <td>0.296479</td>\n      <td>0.0</td>\n      <td>0.00</td>\n      <td>5.534632</td>\n      <td>2.744928</td>\n    </tr>\n  </tbody>\n</table>\n</div>"
     },
     "metadata": {},
     "execution_count": 49
    }
   ],
   "source": [
    "df_ypredict = pd.read_csv('ypredict_' + features + '_tw5' + diapo_selection + '.csv')\n",
    "df_ypredict = df_ypredict.iloc[:,1:]\n",
    "df_ypredict.columns = ['video_name','diapo','frameTimeWindow','ypredict']\n",
    "df_ypredict = df_ypredict.groupby(['video_name']).agg({'ypredict': ['mean','min','max', 'median', 'std', percentil25, percentil75, kurtosis, skew]})\n",
    "df_ypredict\n"
   ]
  },
  {
   "cell_type": "code",
   "execution_count": 50,
   "metadata": {},
   "outputs": [],
   "source": [
    "Xy = df_ypredict.merge(df_annotations_stress, on='video_name')\n",
    "X = Xy.iloc[:,:-1].set_index('video_name')\n",
    "y = Xy.iloc[:,-1]"
   ]
  },
  {
   "cell_type": "code",
   "execution_count": 51,
   "metadata": {},
   "outputs": [],
   "source": [
    "from sklearn.linear_model import LogisticRegression\n",
    "from sklearn.neighbors import KNeighborsClassifier\n",
    "from sklearn.ensemble import RandomForestClassifier\n",
    "from sklearn.model_selection import LeaveOneGroupOut\n",
    "from sklearn.decomposition import PCA\n",
    "from sklearn.pipeline import Pipeline\n",
    "\n",
    "pca = PCA()\n",
    "\n",
    "models_list = [\n",
    "                LogisticRegression(multi_class='multinomial', fit_intercept=True, random_state=42),\n",
    "                Pipeline(steps=[('pca', pca), ('logistic', LogisticRegression(multi_class='multinomial', fit_intercept=True))]),\n",
    "                KNeighborsClassifier(),\n",
    "                Pipeline(steps=[('pca', pca), ('knn', KNeighborsClassifier())]),\n",
    "                RandomForestClassifier(random_state = 42, n_jobs=-1)\n",
    "                ]\n",
    "\n",
    "parameters_list = [\n",
    "                    {'C': [0.01, 0.05, 0.1, 0.5, 1, 2, 3, 4 , 5, 10], 'class_weight' : [None, 'balanced']},\n",
    "                    {'pca__n_components': [1, 2, 3, 4],\n",
    "                        'logistic__C': [0.01, 0.05, 0.1, 0.5, 1, 2, 3, 4 , 5, 10], 'logistic__class_weight' : [None, 'balanced']},\n",
    "                    {'n_neighbors': [4, 5, 6, 7, 8, 9, 10, 11, 12,  15, 20], 'weights' : ['uniform', 'distance'], 'p': [1, 2]},\n",
    "                    {'pca__n_components': [1, 2, 3, 4],\n",
    "                        'knn__n_neighbors': [4, 5, 6, 7, 8, 9, 10, 11, 12,  15, 20], 'knn__weights' : ['uniform', 'distance'],                              'knn__p': [1, 2]},\n",
    "                    {'n_estimators': [50, 100, 150, 200], 'max_depth':[3, 4, 5, 6, 10, 15, 20], 'class_weight':[None,'balanced']}\n",
    "                    ]\n",
    "\n",
    "groups = X.reset_index()['video_name']\n",
    "loo = LeaveOneGroupOut()\n",
    "cv_loo = loo.split(X, y, groups)"
   ]
  },
  {
   "cell_type": "code",
   "execution_count": 52,
   "metadata": {},
   "outputs": [
    {
     "output_type": "stream",
     "name": "stdout",
     "text": [
      "Fitting 30 folds for each of 20 candidates, totalling 600 fits\n",
      "[Parallel(n_jobs=-1)]: Using backend LokyBackend with 8 concurrent workers.\n",
      "[Parallel(n_jobs=-1)]: Done  56 tasks      | elapsed:    0.4s\n",
      "[Parallel(n_jobs=-1)]: Done 600 out of 600 | elapsed:    4.3s finished\n",
      "[Parallel(n_jobs=-1)]: Using backend LokyBackend with 8 concurrent workers.\n",
      "Best estimator LogisticRegression(C=0.01, multi_class='multinomial', random_state=42)\n",
      "Best results 0.36666666666666664\n",
      "Best params {'C': 0.01, 'class_weight': None}\n",
      "accuracy (mean, std) 0.36666666666666664 0.48189440982669857\n",
      "f1 (mean, std) 0.36666666666666664 0.48189440982669857\n",
      "balanced accuracy (mean, std) 0.36666666666666664 0.48189440982669857\n",
      "precision (mean, std) 0.36666666666666664 0.48189440982669857\n",
      "recall (mean, std) 0.36666666666666664 0.48189440982669857\n",
      "\n",
      "Fitting 30 folds for each of 80 candidates, totalling 2400 fits\n",
      "[Parallel(n_jobs=-1)]: Done  56 tasks      | elapsed:    0.4s\n",
      "[Parallel(n_jobs=-1)]: Done 1200 tasks      | elapsed:    5.6s\n",
      "[Parallel(n_jobs=-1)]: Done 2400 out of 2400 | elapsed:   11.4s finished\n",
      "[Parallel(n_jobs=-1)]: Using backend LokyBackend with 8 concurrent workers.\n",
      "Best estimator Pipeline(steps=[('pca', PCA(n_components=4)),\n",
      "                ('logistic',\n",
      "                 LogisticRegression(C=0.01, multi_class='multinomial'))])\n",
      "Best results 0.36666666666666664\n",
      "Best params {'logistic__C': 0.01, 'logistic__class_weight': None, 'pca__n_components': 4}\n",
      "accuracy (mean, std) 0.36666666666666664 0.48189440982669857\n",
      "f1 (mean, std) 0.36666666666666664 0.48189440982669857\n",
      "balanced accuracy (mean, std) 0.36666666666666664 0.48189440982669857\n",
      "precision (mean, std) 0.36666666666666664 0.48189440982669857\n",
      "recall (mean, std) 0.36666666666666664 0.48189440982669857\n",
      "\n",
      "Fitting 30 folds for each of 44 candidates, totalling 1320 fits\n",
      "[Parallel(n_jobs=-1)]: Done  56 tasks      | elapsed:    0.2s\n",
      "[Parallel(n_jobs=-1)]: Done 1200 tasks      | elapsed:    3.0s\n",
      "[Parallel(n_jobs=-1)]: Done 1320 out of 1320 | elapsed:    3.2s finished\n",
      "[Parallel(n_jobs=-1)]: Using backend LokyBackend with 8 concurrent workers.\n",
      "Best estimator KNeighborsClassifier(n_neighbors=8, p=1)\n",
      "Best results 0.43333333333333335\n",
      "Best params {'n_neighbors': 8, 'p': 1, 'weights': 'uniform'}\n",
      "accuracy (mean, std) 0.43333333333333335 0.49553562491061676\n",
      "f1 (mean, std) 0.43333333333333335 0.49553562491061676\n",
      "balanced accuracy (mean, std) 0.43333333333333335 0.49553562491061676\n",
      "precision (mean, std) 0.43333333333333335 0.49553562491061676\n",
      "recall (mean, std) 0.43333333333333335 0.49553562491061676\n",
      "\n",
      "Fitting 30 folds for each of 176 candidates, totalling 5280 fits\n",
      "[Parallel(n_jobs=-1)]: Done  56 tasks      | elapsed:    0.3s\n",
      "[Parallel(n_jobs=-1)]: Done 2160 tasks      | elapsed:    5.9s\n",
      "[Parallel(n_jobs=-1)]: Done 5280 out of 5280 | elapsed:   14.1s finished\n",
      "[Parallel(n_jobs=-1)]: Using backend LokyBackend with 8 concurrent workers.\n",
      "Best estimator Pipeline(steps=[('pca', PCA(n_components=1)),\n",
      "                ('knn', KNeighborsClassifier(n_neighbors=12, p=1))])\n",
      "Best results 0.5\n",
      "Best params {'knn__n_neighbors': 12, 'knn__p': 1, 'knn__weights': 'uniform', 'pca__n_components': 1}\n",
      "accuracy (mean, std) 0.5 0.5\n",
      "f1 (mean, std) 0.5 0.5\n",
      "balanced accuracy (mean, std) 0.5 0.5\n",
      "precision (mean, std) 0.5 0.5\n",
      "recall (mean, std) 0.5 0.5\n",
      "\n",
      "Fitting 30 folds for each of 56 candidates, totalling 1680 fits\n",
      "[Parallel(n_jobs=-1)]: Done  34 tasks      | elapsed:    1.2s\n",
      "[Parallel(n_jobs=-1)]: Done 184 tasks      | elapsed:   10.2s\n",
      "[Parallel(n_jobs=-1)]: Done 434 tasks      | elapsed:   25.2s\n",
      "[Parallel(n_jobs=-1)]: Done 784 tasks      | elapsed:   46.1s\n",
      "[Parallel(n_jobs=-1)]: Done 1234 tasks      | elapsed:  1.2min\n",
      "[Parallel(n_jobs=-1)]: Done 1680 out of 1680 | elapsed:  1.7min finished\n",
      "Best estimator RandomForestClassifier(max_depth=3, n_estimators=50, n_jobs=-1, random_state=42)\n",
      "Best results 0.4\n",
      "Best params {'class_weight': None, 'max_depth': 3, 'n_estimators': 50}\n",
      "accuracy (mean, std) 0.4 0.4898979485566357\n",
      "f1 (mean, std) 0.4 0.4898979485566357\n",
      "balanced accuracy (mean, std) 0.4 0.4898979485566357\n",
      "precision (mean, std) 0.4 0.4898979485566357\n",
      "recall (mean, std) 0.4 0.4898979485566357\n",
      "\n"
     ]
    }
   ],
   "source": [
    "best_result, y_predict, result_list = runGridSearchClassifiers(X, y, cv_loo, models_list, parameters_list, \n",
    "                                                                output_predict=True, n_jobs=-1, verbose=True)"
   ]
  },
  {
   "cell_type": "code",
   "execution_count": 53,
   "metadata": {},
   "outputs": [
    {
     "output_type": "execute_result",
     "data": {
      "text/plain": [
       "{'best_estimator': Pipeline(steps=[('pca', PCA(n_components=1)),\n",
       "                 ('knn', KNeighborsClassifier(n_neighbors=12, p=1))]),\n",
       " 'best_score': 0.5,\n",
       " 'best_params': {'knn__n_neighbors': 12,\n",
       "  'knn__p': 1,\n",
       "  'knn__weights': 'uniform',\n",
       "  'pca__n_components': 1},\n",
       " 'mean_test_f1_score': 0.5,\n",
       " 'std_test_f1_score': 0.5,\n",
       " 'mean_test_accuracy_score': 0.5,\n",
       " 'std_test_accuracy_score': 0.5,\n",
       " 'mean_test_balanced_accuracy_score': 0.5,\n",
       " 'std_test_balanced_accuracy_score': 0.5,\n",
       " 'mean_test_precision': 0.5,\n",
       " 'std_test_precision': 0.5,\n",
       " 'mean_test_recall': 0.5,\n",
       " 'std_test_recall': 0.5}"
      ]
     },
     "metadata": {},
     "execution_count": 53
    }
   ],
   "source": [
    "best_result"
   ]
  }
 ],
 "metadata": {
  "interpreter": {
   "hash": "148f6ed9de8dadedbbd96ef8a7e818f87aaafab3c59f5306aa9910b4f09c5b3f"
  },
  "kernelspec": {
   "name": "python3",
   "display_name": "Python 3.8.5 64-bit ('base': conda)"
  },
  "language_info": {
   "codemirror_mode": {
    "name": "ipython",
    "version": 3
   },
   "file_extension": ".py",
   "mimetype": "text/x-python",
   "name": "python",
   "nbconvert_exporter": "python",
   "pygments_lexer": "ipython3",
   "version": "3.8.5"
  },
  "metadata": {
   "interpreter": {
    "hash": "148f6ed9de8dadedbbd96ef8a7e818f87aaafab3c59f5306aa9910b4f09c5b3f"
   }
  }
 },
 "nbformat": 4,
 "nbformat_minor": 2
}