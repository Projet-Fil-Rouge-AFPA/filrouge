{
 "metadata": {
  "language_info": {
   "codemirror_mode": {
    "name": "ipython",
    "version": 3
   },
   "file_extension": ".py",
   "mimetype": "text/x-python",
   "name": "python",
   "nbconvert_exporter": "python",
   "pygments_lexer": "ipython3",
   "version": "3.8.5"
  },
  "orig_nbformat": 2,
  "kernelspec": {
   "name": "python3",
   "display_name": "Python 3.8.5 64-bit ('base': conda)"
  },
  "metadata": {
   "interpreter": {
    "hash": "148f6ed9de8dadedbbd96ef8a7e818f87aaafab3c59f5306aa9910b4f09c5b3f"
   }
  },
  "interpreter": {
   "hash": "148f6ed9de8dadedbbd96ef8a7e818f87aaafab3c59f5306aa9910b4f09c5b3f"
  }
 },
 "nbformat": 4,
 "nbformat_minor": 2,
 "cells": [
  {
   "cell_type": "code",
   "execution_count": null,
   "metadata": {},
   "outputs": [],
   "source": []
  },
  {
   "cell_type": "code",
   "execution_count": 1,
   "metadata": {},
   "outputs": [],
   "source": [
    "import numpy as np \n",
    "import pandas as pd \n",
    "import pathlib"
   ]
  },
  {
   "cell_type": "code",
   "execution_count": 2,
   "metadata": {},
   "outputs": [],
   "source": [
    "directory_path = '../../04_-_Dev/videos'\n",
    "#features = 'eGeMAPS'#'emobase'\n",
    "features1 = 'emobase'#''\n",
    "features2 = 'eGeMAPS'\n",
    "features = 'emobase_eGeMAPS'"
   ]
  },
  {
   "cell_type": "code",
   "execution_count": 3,
   "metadata": {},
   "outputs": [],
   "source": [
    "df_total_emobase = pd.read_pickle(directory_path + '/audio_' + features1 + '_data.p')\n",
    "df_total_eGeMaps = pd.read_pickle(directory_path + '/audio_' + features2 + '_data.p')"
   ]
  },
  {
   "cell_type": "code",
   "execution_count": 4,
   "metadata": {},
   "outputs": [
    {
     "output_type": "execute_result",
     "data": {
      "text/plain": [
       "((2573701, 60), (2573581, 77))"
      ]
     },
     "metadata": {},
     "execution_count": 4
    }
   ],
   "source": [
    "df_total_emobase.shape, df_total_eGeMaps.shape"
   ]
  },
  {
   "cell_type": "code",
   "execution_count": 5,
   "metadata": {},
   "outputs": [
    {
     "output_type": "execute_result",
     "data": {
      "text/plain": [
       "       frameIndex  frameTime  pcm_intensity_sma  pcm_loudness_sma  \\\n",
       "0               0       0.00       0.000000e+00          0.000000   \n",
       "1               1       0.01       0.000000e+00          0.000000   \n",
       "2               2       0.02       0.000000e+00          0.000000   \n",
       "3               3       0.03       0.000000e+00          0.000000   \n",
       "4               4       0.04       0.000000e+00          0.000000   \n",
       "...           ...        ...                ...               ...   \n",
       "78139       78139     781.39       8.054489e-12          0.029190   \n",
       "78140       78140     781.40       4.319410e-12          0.023441   \n",
       "78141       78141     781.41       3.975198e-12          0.022989   \n",
       "78142       78142     781.42       3.662190e-12          0.022472   \n",
       "78143       78143     781.43       4.642958e-12          0.025045   \n",
       "\n",
       "       mfcc_sma[1]  mfcc_sma[2]  mfcc_sma[3]  mfcc_sma[4]  mfcc_sma[5]  \\\n",
       "0        -1.839101     2.378769    -2.217382     1.524796    -0.692341   \n",
       "1        -1.839101     2.378769    -2.217382     1.524796    -0.692341   \n",
       "2        -5.952965     6.019684    -3.599674     1.358609    -0.693720   \n",
       "3        -4.113864     3.640915    -1.382292    -0.166187    -0.001379   \n",
       "4        -5.911817     5.975944    -3.576790     1.367325    -0.725028   \n",
       "...            ...          ...          ...          ...          ...   \n",
       "78139   -19.760860     6.082466    -2.668031     5.229023     3.715201   \n",
       "78140   -21.733470     5.059051    -2.391827     4.356356     5.255848   \n",
       "78141   -21.913380     3.731894    -4.589119     0.219700     1.376662   \n",
       "78142   -22.256340     2.845562    -4.491580     2.111024     3.834707   \n",
       "78143   -20.920040     3.314881    -4.962385     3.169590     5.868731   \n",
       "\n",
       "       mfcc_sma[6]  ...  pcm_zcr_sma_de  voiceProb_sma_de  F0_sma_de  \\\n",
       "0         0.101261  ...       -0.000242          0.016226        0.0   \n",
       "1         0.101261  ...       -0.000393          0.007565        0.0   \n",
       "2         0.796165  ...       -0.000272          0.011002        0.0   \n",
       "3         0.694905  ...        0.000000          0.009354        0.0   \n",
       "4         0.827764  ...        0.000272          0.007488        0.0   \n",
       "...            ...  ...             ...               ...        ...   \n",
       "78139    -1.398331  ...       -0.002025          0.012437        0.0   \n",
       "78140    -0.879569  ...       -0.003778          0.021489        0.0   \n",
       "78141    -5.050643  ...       -0.005409          0.040231        0.0   \n",
       "78142    -3.251046  ...       -0.007011          0.052342        0.0   \n",
       "78143    -0.845365  ...       -0.007827          0.036732        0.0   \n",
       "\n",
       "       F0env_sma_de                 video_name  stress_global  type_candidat  \\\n",
       "0               0.0  WIN_20210409_10_26_11_Pro            0.0      Stagiaire   \n",
       "1               0.0  WIN_20210409_10_26_11_Pro            0.0      Stagiaire   \n",
       "2               0.0  WIN_20210409_10_26_11_Pro            0.0      Stagiaire   \n",
       "3               0.0  WIN_20210409_10_26_11_Pro            0.0      Stagiaire   \n",
       "4               0.0  WIN_20210409_10_26_11_Pro            0.0      Stagiaire   \n",
       "...             ...                        ...            ...            ...   \n",
       "78139           0.0  WIN_20210416_08_06_54_Pro            1.0      Stagiaire   \n",
       "78140           0.0  WIN_20210416_08_06_54_Pro            1.0      Stagiaire   \n",
       "78141           0.0  WIN_20210416_08_06_54_Pro            1.0      Stagiaire   \n",
       "78142           0.0  WIN_20210416_08_06_54_Pro            1.0      Stagiaire   \n",
       "78143           0.0  WIN_20210416_08_06_54_Pro            1.0      Stagiaire   \n",
       "\n",
       "       sexe  stress  diapo  \n",
       "0         F     1.0      1  \n",
       "1         F     1.0      1  \n",
       "2         F     1.0      1  \n",
       "3         F     1.0      1  \n",
       "4         F     1.0      1  \n",
       "...     ...     ...    ...  \n",
       "78139     F     1.0     18  \n",
       "78140     F     1.0     18  \n",
       "78141     F     1.0     18  \n",
       "78142     F     1.0     18  \n",
       "78143     F     1.0     18  \n",
       "\n",
       "[2573701 rows x 60 columns]"
      ],
      "text/html": "<div>\n<style scoped>\n    .dataframe tbody tr th:only-of-type {\n        vertical-align: middle;\n    }\n\n    .dataframe tbody tr th {\n        vertical-align: top;\n    }\n\n    .dataframe thead th {\n        text-align: right;\n    }\n</style>\n<table border=\"1\" class=\"dataframe\">\n  <thead>\n    <tr style=\"text-align: right;\">\n      <th></th>\n      <th>frameIndex</th>\n      <th>frameTime</th>\n      <th>pcm_intensity_sma</th>\n      <th>pcm_loudness_sma</th>\n      <th>mfcc_sma[1]</th>\n      <th>mfcc_sma[2]</th>\n      <th>mfcc_sma[3]</th>\n      <th>mfcc_sma[4]</th>\n      <th>mfcc_sma[5]</th>\n      <th>mfcc_sma[6]</th>\n      <th>...</th>\n      <th>pcm_zcr_sma_de</th>\n      <th>voiceProb_sma_de</th>\n      <th>F0_sma_de</th>\n      <th>F0env_sma_de</th>\n      <th>video_name</th>\n      <th>stress_global</th>\n      <th>type_candidat</th>\n      <th>sexe</th>\n      <th>stress</th>\n      <th>diapo</th>\n    </tr>\n  </thead>\n  <tbody>\n    <tr>\n      <th>0</th>\n      <td>0</td>\n      <td>0.00</td>\n      <td>0.000000e+00</td>\n      <td>0.000000</td>\n      <td>-1.839101</td>\n      <td>2.378769</td>\n      <td>-2.217382</td>\n      <td>1.524796</td>\n      <td>-0.692341</td>\n      <td>0.101261</td>\n      <td>...</td>\n      <td>-0.000242</td>\n      <td>0.016226</td>\n      <td>0.0</td>\n      <td>0.0</td>\n      <td>WIN_20210409_10_26_11_Pro</td>\n      <td>0.0</td>\n      <td>Stagiaire</td>\n      <td>F</td>\n      <td>1.0</td>\n      <td>1</td>\n    </tr>\n    <tr>\n      <th>1</th>\n      <td>1</td>\n      <td>0.01</td>\n      <td>0.000000e+00</td>\n      <td>0.000000</td>\n      <td>-1.839101</td>\n      <td>2.378769</td>\n      <td>-2.217382</td>\n      <td>1.524796</td>\n      <td>-0.692341</td>\n      <td>0.101261</td>\n      <td>...</td>\n      <td>-0.000393</td>\n      <td>0.007565</td>\n      <td>0.0</td>\n      <td>0.0</td>\n      <td>WIN_20210409_10_26_11_Pro</td>\n      <td>0.0</td>\n      <td>Stagiaire</td>\n      <td>F</td>\n      <td>1.0</td>\n      <td>1</td>\n    </tr>\n    <tr>\n      <th>2</th>\n      <td>2</td>\n      <td>0.02</td>\n      <td>0.000000e+00</td>\n      <td>0.000000</td>\n      <td>-5.952965</td>\n      <td>6.019684</td>\n      <td>-3.599674</td>\n      <td>1.358609</td>\n      <td>-0.693720</td>\n      <td>0.796165</td>\n      <td>...</td>\n      <td>-0.000272</td>\n      <td>0.011002</td>\n      <td>0.0</td>\n      <td>0.0</td>\n      <td>WIN_20210409_10_26_11_Pro</td>\n      <td>0.0</td>\n      <td>Stagiaire</td>\n      <td>F</td>\n      <td>1.0</td>\n      <td>1</td>\n    </tr>\n    <tr>\n      <th>3</th>\n      <td>3</td>\n      <td>0.03</td>\n      <td>0.000000e+00</td>\n      <td>0.000000</td>\n      <td>-4.113864</td>\n      <td>3.640915</td>\n      <td>-1.382292</td>\n      <td>-0.166187</td>\n      <td>-0.001379</td>\n      <td>0.694905</td>\n      <td>...</td>\n      <td>0.000000</td>\n      <td>0.009354</td>\n      <td>0.0</td>\n      <td>0.0</td>\n      <td>WIN_20210409_10_26_11_Pro</td>\n      <td>0.0</td>\n      <td>Stagiaire</td>\n      <td>F</td>\n      <td>1.0</td>\n      <td>1</td>\n    </tr>\n    <tr>\n      <th>4</th>\n      <td>4</td>\n      <td>0.04</td>\n      <td>0.000000e+00</td>\n      <td>0.000000</td>\n      <td>-5.911817</td>\n      <td>5.975944</td>\n      <td>-3.576790</td>\n      <td>1.367325</td>\n      <td>-0.725028</td>\n      <td>0.827764</td>\n      <td>...</td>\n      <td>0.000272</td>\n      <td>0.007488</td>\n      <td>0.0</td>\n      <td>0.0</td>\n      <td>WIN_20210409_10_26_11_Pro</td>\n      <td>0.0</td>\n      <td>Stagiaire</td>\n      <td>F</td>\n      <td>1.0</td>\n      <td>1</td>\n    </tr>\n    <tr>\n      <th>...</th>\n      <td>...</td>\n      <td>...</td>\n      <td>...</td>\n      <td>...</td>\n      <td>...</td>\n      <td>...</td>\n      <td>...</td>\n      <td>...</td>\n      <td>...</td>\n      <td>...</td>\n      <td>...</td>\n      <td>...</td>\n      <td>...</td>\n      <td>...</td>\n      <td>...</td>\n      <td>...</td>\n      <td>...</td>\n      <td>...</td>\n      <td>...</td>\n      <td>...</td>\n      <td>...</td>\n    </tr>\n    <tr>\n      <th>78139</th>\n      <td>78139</td>\n      <td>781.39</td>\n      <td>8.054489e-12</td>\n      <td>0.029190</td>\n      <td>-19.760860</td>\n      <td>6.082466</td>\n      <td>-2.668031</td>\n      <td>5.229023</td>\n      <td>3.715201</td>\n      <td>-1.398331</td>\n      <td>...</td>\n      <td>-0.002025</td>\n      <td>0.012437</td>\n      <td>0.0</td>\n      <td>0.0</td>\n      <td>WIN_20210416_08_06_54_Pro</td>\n      <td>1.0</td>\n      <td>Stagiaire</td>\n      <td>F</td>\n      <td>1.0</td>\n      <td>18</td>\n    </tr>\n    <tr>\n      <th>78140</th>\n      <td>78140</td>\n      <td>781.40</td>\n      <td>4.319410e-12</td>\n      <td>0.023441</td>\n      <td>-21.733470</td>\n      <td>5.059051</td>\n      <td>-2.391827</td>\n      <td>4.356356</td>\n      <td>5.255848</td>\n      <td>-0.879569</td>\n      <td>...</td>\n      <td>-0.003778</td>\n      <td>0.021489</td>\n      <td>0.0</td>\n      <td>0.0</td>\n      <td>WIN_20210416_08_06_54_Pro</td>\n      <td>1.0</td>\n      <td>Stagiaire</td>\n      <td>F</td>\n      <td>1.0</td>\n      <td>18</td>\n    </tr>\n    <tr>\n      <th>78141</th>\n      <td>78141</td>\n      <td>781.41</td>\n      <td>3.975198e-12</td>\n      <td>0.022989</td>\n      <td>-21.913380</td>\n      <td>3.731894</td>\n      <td>-4.589119</td>\n      <td>0.219700</td>\n      <td>1.376662</td>\n      <td>-5.050643</td>\n      <td>...</td>\n      <td>-0.005409</td>\n      <td>0.040231</td>\n      <td>0.0</td>\n      <td>0.0</td>\n      <td>WIN_20210416_08_06_54_Pro</td>\n      <td>1.0</td>\n      <td>Stagiaire</td>\n      <td>F</td>\n      <td>1.0</td>\n      <td>18</td>\n    </tr>\n    <tr>\n      <th>78142</th>\n      <td>78142</td>\n      <td>781.42</td>\n      <td>3.662190e-12</td>\n      <td>0.022472</td>\n      <td>-22.256340</td>\n      <td>2.845562</td>\n      <td>-4.491580</td>\n      <td>2.111024</td>\n      <td>3.834707</td>\n      <td>-3.251046</td>\n      <td>...</td>\n      <td>-0.007011</td>\n      <td>0.052342</td>\n      <td>0.0</td>\n      <td>0.0</td>\n      <td>WIN_20210416_08_06_54_Pro</td>\n      <td>1.0</td>\n      <td>Stagiaire</td>\n      <td>F</td>\n      <td>1.0</td>\n      <td>18</td>\n    </tr>\n    <tr>\n      <th>78143</th>\n      <td>78143</td>\n      <td>781.43</td>\n      <td>4.642958e-12</td>\n      <td>0.025045</td>\n      <td>-20.920040</td>\n      <td>3.314881</td>\n      <td>-4.962385</td>\n      <td>3.169590</td>\n      <td>5.868731</td>\n      <td>-0.845365</td>\n      <td>...</td>\n      <td>-0.007827</td>\n      <td>0.036732</td>\n      <td>0.0</td>\n      <td>0.0</td>\n      <td>WIN_20210416_08_06_54_Pro</td>\n      <td>1.0</td>\n      <td>Stagiaire</td>\n      <td>F</td>\n      <td>1.0</td>\n      <td>18</td>\n    </tr>\n  </tbody>\n</table>\n<p>2573701 rows × 60 columns</p>\n</div>"
     },
     "metadata": {},
     "execution_count": 5
    }
   ],
   "source": [
    "df_total_emobase"
   ]
  },
  {
   "cell_type": "code",
   "execution_count": 6,
   "metadata": {},
   "outputs": [
    {
     "output_type": "execute_result",
     "data": {
      "text/plain": [
       "       frameIndex  frameTime  Loudness_sma3  alphaRatio_sma3  \\\n",
       "2               2       0.02       0.001314         5.808540   \n",
       "3               3       0.03       0.001252         5.734367   \n",
       "4               4       0.04       0.001265         5.734366   \n",
       "5               5       0.05       0.001046         5.808541   \n",
       "6               6       0.06       0.001047         5.882714   \n",
       "...           ...        ...            ...              ...   \n",
       "96094       96094     960.94       0.105500        -5.119594   \n",
       "96095       96095     960.95       0.108012        -5.206966   \n",
       "96096       96096     960.96       0.098722        -7.233780   \n",
       "96097       96097     960.97       0.090047        -6.519174   \n",
       "96098       96098     960.98       0.079807        -8.347763   \n",
       "\n",
       "       hammarbergIndex_sma3  slope0-500_sma3  slope500-1500_sma3  \\\n",
       "2              3.020466e-02         0.095785            0.015996   \n",
       "3              6.040815e-02         0.097770            0.016309   \n",
       "4              6.040832e-02         0.093008            0.015513   \n",
       "5              3.020322e-02         0.096991            0.016198   \n",
       "6             -8.628659e-08         0.096849            0.016192   \n",
       "...                     ...              ...                 ...   \n",
       "96094          8.098579e+00         0.019826            0.004764   \n",
       "96095          8.647281e+00         0.010715            0.005073   \n",
       "96096          1.328252e+01        -0.013627           -0.002577   \n",
       "96097          1.538452e+01        -0.017051           -0.005233   \n",
       "96098          1.808638e+01        -0.023331           -0.001025   \n",
       "\n",
       "       spectralFlux_sma3  mfcc1_sma3  mfcc2_sma3  ...  F3frequency_sma3nz_de  \\\n",
       "2               0.000017   -4.630290    0.875408  ...                 -0.308   \n",
       "3               0.000018   -2.723330   -0.233096  ...                 -0.400   \n",
       "4               0.000015   -3.350655    0.558203  ...                  0.091   \n",
       "5               0.000009   -0.627324    0.791299  ...                  0.362   \n",
       "6               0.000003   -0.632469    0.799474  ...                  0.288   \n",
       "...                  ...         ...         ...  ...                    ...   \n",
       "96094           0.014696    9.669376    5.150523  ...                334.895   \n",
       "96095           0.018251   10.462580    3.797460  ...                316.039   \n",
       "96096           0.018669   10.722380    6.492672  ...               -252.912   \n",
       "96097           0.016667    9.068809    7.427186  ...               -340.488   \n",
       "96098           0.013220    9.273377   12.136460  ...               -372.674   \n",
       "\n",
       "       F3frequency_sma3nz_de_de  F3amplitudeLogRelF0_sma3nz_de  \\\n",
       "2                     -2395.436                            0.0   \n",
       "3                        -0.092                            0.0   \n",
       "4                         0.491                            0.0   \n",
       "5                         0.271                            0.0   \n",
       "6                        -0.074                            0.0   \n",
       "...                         ...                            ...   \n",
       "96094                    71.573                            0.0   \n",
       "96095                   -18.856                            0.0   \n",
       "96096                  -568.951                            0.0   \n",
       "96097                   -87.576                            0.0   \n",
       "96098                   -32.186                            0.0   \n",
       "\n",
       "       F3amplitudeLogRelF0_sma3nz_de_de                 video_name  \\\n",
       "2                                   0.0  WIN_20210417_14_53_12_Pro   \n",
       "3                                   0.0  WIN_20210417_14_53_12_Pro   \n",
       "4                                   0.0  WIN_20210417_14_53_12_Pro   \n",
       "5                                   0.0  WIN_20210417_14_53_12_Pro   \n",
       "6                                   0.0  WIN_20210417_14_53_12_Pro   \n",
       "...                                 ...                        ...   \n",
       "96094                               0.0  WIN_20210404_10_58_27_Pro   \n",
       "96095                               0.0  WIN_20210404_10_58_27_Pro   \n",
       "96096                               0.0  WIN_20210404_10_58_27_Pro   \n",
       "96097                               0.0  WIN_20210404_10_58_27_Pro   \n",
       "96098                               0.0  WIN_20210404_10_58_27_Pro   \n",
       "\n",
       "       stress_global  type_candidat  sexe  stress  diapo  \n",
       "2                0.0      Stagiaire     F     0.0      1  \n",
       "3                0.0      Stagiaire     F     0.0      1  \n",
       "4                0.0      Stagiaire     F     0.0      1  \n",
       "5                0.0      Stagiaire     F     0.0      1  \n",
       "6                0.0      Stagiaire     F     0.0      1  \n",
       "...              ...            ...   ...     ...    ...  \n",
       "96094            1.0      Stagiaire     F     1.0     18  \n",
       "96095            1.0      Stagiaire     F     1.0     18  \n",
       "96096            1.0      Stagiaire     F     1.0     18  \n",
       "96097            1.0      Stagiaire     F     1.0     18  \n",
       "96098            1.0      Stagiaire     F     1.0     18  \n",
       "\n",
       "[2573581 rows x 77 columns]"
      ],
      "text/html": "<div>\n<style scoped>\n    .dataframe tbody tr th:only-of-type {\n        vertical-align: middle;\n    }\n\n    .dataframe tbody tr th {\n        vertical-align: top;\n    }\n\n    .dataframe thead th {\n        text-align: right;\n    }\n</style>\n<table border=\"1\" class=\"dataframe\">\n  <thead>\n    <tr style=\"text-align: right;\">\n      <th></th>\n      <th>frameIndex</th>\n      <th>frameTime</th>\n      <th>Loudness_sma3</th>\n      <th>alphaRatio_sma3</th>\n      <th>hammarbergIndex_sma3</th>\n      <th>slope0-500_sma3</th>\n      <th>slope500-1500_sma3</th>\n      <th>spectralFlux_sma3</th>\n      <th>mfcc1_sma3</th>\n      <th>mfcc2_sma3</th>\n      <th>...</th>\n      <th>F3frequency_sma3nz_de</th>\n      <th>F3frequency_sma3nz_de_de</th>\n      <th>F3amplitudeLogRelF0_sma3nz_de</th>\n      <th>F3amplitudeLogRelF0_sma3nz_de_de</th>\n      <th>video_name</th>\n      <th>stress_global</th>\n      <th>type_candidat</th>\n      <th>sexe</th>\n      <th>stress</th>\n      <th>diapo</th>\n    </tr>\n  </thead>\n  <tbody>\n    <tr>\n      <th>2</th>\n      <td>2</td>\n      <td>0.02</td>\n      <td>0.001314</td>\n      <td>5.808540</td>\n      <td>3.020466e-02</td>\n      <td>0.095785</td>\n      <td>0.015996</td>\n      <td>0.000017</td>\n      <td>-4.630290</td>\n      <td>0.875408</td>\n      <td>...</td>\n      <td>-0.308</td>\n      <td>-2395.436</td>\n      <td>0.0</td>\n      <td>0.0</td>\n      <td>WIN_20210417_14_53_12_Pro</td>\n      <td>0.0</td>\n      <td>Stagiaire</td>\n      <td>F</td>\n      <td>0.0</td>\n      <td>1</td>\n    </tr>\n    <tr>\n      <th>3</th>\n      <td>3</td>\n      <td>0.03</td>\n      <td>0.001252</td>\n      <td>5.734367</td>\n      <td>6.040815e-02</td>\n      <td>0.097770</td>\n      <td>0.016309</td>\n      <td>0.000018</td>\n      <td>-2.723330</td>\n      <td>-0.233096</td>\n      <td>...</td>\n      <td>-0.400</td>\n      <td>-0.092</td>\n      <td>0.0</td>\n      <td>0.0</td>\n      <td>WIN_20210417_14_53_12_Pro</td>\n      <td>0.0</td>\n      <td>Stagiaire</td>\n      <td>F</td>\n      <td>0.0</td>\n      <td>1</td>\n    </tr>\n    <tr>\n      <th>4</th>\n      <td>4</td>\n      <td>0.04</td>\n      <td>0.001265</td>\n      <td>5.734366</td>\n      <td>6.040832e-02</td>\n      <td>0.093008</td>\n      <td>0.015513</td>\n      <td>0.000015</td>\n      <td>-3.350655</td>\n      <td>0.558203</td>\n      <td>...</td>\n      <td>0.091</td>\n      <td>0.491</td>\n      <td>0.0</td>\n      <td>0.0</td>\n      <td>WIN_20210417_14_53_12_Pro</td>\n      <td>0.0</td>\n      <td>Stagiaire</td>\n      <td>F</td>\n      <td>0.0</td>\n      <td>1</td>\n    </tr>\n    <tr>\n      <th>5</th>\n      <td>5</td>\n      <td>0.05</td>\n      <td>0.001046</td>\n      <td>5.808541</td>\n      <td>3.020322e-02</td>\n      <td>0.096991</td>\n      <td>0.016198</td>\n      <td>0.000009</td>\n      <td>-0.627324</td>\n      <td>0.791299</td>\n      <td>...</td>\n      <td>0.362</td>\n      <td>0.271</td>\n      <td>0.0</td>\n      <td>0.0</td>\n      <td>WIN_20210417_14_53_12_Pro</td>\n      <td>0.0</td>\n      <td>Stagiaire</td>\n      <td>F</td>\n      <td>0.0</td>\n      <td>1</td>\n    </tr>\n    <tr>\n      <th>6</th>\n      <td>6</td>\n      <td>0.06</td>\n      <td>0.001047</td>\n      <td>5.882714</td>\n      <td>-8.628659e-08</td>\n      <td>0.096849</td>\n      <td>0.016192</td>\n      <td>0.000003</td>\n      <td>-0.632469</td>\n      <td>0.799474</td>\n      <td>...</td>\n      <td>0.288</td>\n      <td>-0.074</td>\n      <td>0.0</td>\n      <td>0.0</td>\n      <td>WIN_20210417_14_53_12_Pro</td>\n      <td>0.0</td>\n      <td>Stagiaire</td>\n      <td>F</td>\n      <td>0.0</td>\n      <td>1</td>\n    </tr>\n    <tr>\n      <th>...</th>\n      <td>...</td>\n      <td>...</td>\n      <td>...</td>\n      <td>...</td>\n      <td>...</td>\n      <td>...</td>\n      <td>...</td>\n      <td>...</td>\n      <td>...</td>\n      <td>...</td>\n      <td>...</td>\n      <td>...</td>\n      <td>...</td>\n      <td>...</td>\n      <td>...</td>\n      <td>...</td>\n      <td>...</td>\n      <td>...</td>\n      <td>...</td>\n      <td>...</td>\n      <td>...</td>\n    </tr>\n    <tr>\n      <th>96094</th>\n      <td>96094</td>\n      <td>960.94</td>\n      <td>0.105500</td>\n      <td>-5.119594</td>\n      <td>8.098579e+00</td>\n      <td>0.019826</td>\n      <td>0.004764</td>\n      <td>0.014696</td>\n      <td>9.669376</td>\n      <td>5.150523</td>\n      <td>...</td>\n      <td>334.895</td>\n      <td>71.573</td>\n      <td>0.0</td>\n      <td>0.0</td>\n      <td>WIN_20210404_10_58_27_Pro</td>\n      <td>1.0</td>\n      <td>Stagiaire</td>\n      <td>F</td>\n      <td>1.0</td>\n      <td>18</td>\n    </tr>\n    <tr>\n      <th>96095</th>\n      <td>96095</td>\n      <td>960.95</td>\n      <td>0.108012</td>\n      <td>-5.206966</td>\n      <td>8.647281e+00</td>\n      <td>0.010715</td>\n      <td>0.005073</td>\n      <td>0.018251</td>\n      <td>10.462580</td>\n      <td>3.797460</td>\n      <td>...</td>\n      <td>316.039</td>\n      <td>-18.856</td>\n      <td>0.0</td>\n      <td>0.0</td>\n      <td>WIN_20210404_10_58_27_Pro</td>\n      <td>1.0</td>\n      <td>Stagiaire</td>\n      <td>F</td>\n      <td>1.0</td>\n      <td>18</td>\n    </tr>\n    <tr>\n      <th>96096</th>\n      <td>96096</td>\n      <td>960.96</td>\n      <td>0.098722</td>\n      <td>-7.233780</td>\n      <td>1.328252e+01</td>\n      <td>-0.013627</td>\n      <td>-0.002577</td>\n      <td>0.018669</td>\n      <td>10.722380</td>\n      <td>6.492672</td>\n      <td>...</td>\n      <td>-252.912</td>\n      <td>-568.951</td>\n      <td>0.0</td>\n      <td>0.0</td>\n      <td>WIN_20210404_10_58_27_Pro</td>\n      <td>1.0</td>\n      <td>Stagiaire</td>\n      <td>F</td>\n      <td>1.0</td>\n      <td>18</td>\n    </tr>\n    <tr>\n      <th>96097</th>\n      <td>96097</td>\n      <td>960.97</td>\n      <td>0.090047</td>\n      <td>-6.519174</td>\n      <td>1.538452e+01</td>\n      <td>-0.017051</td>\n      <td>-0.005233</td>\n      <td>0.016667</td>\n      <td>9.068809</td>\n      <td>7.427186</td>\n      <td>...</td>\n      <td>-340.488</td>\n      <td>-87.576</td>\n      <td>0.0</td>\n      <td>0.0</td>\n      <td>WIN_20210404_10_58_27_Pro</td>\n      <td>1.0</td>\n      <td>Stagiaire</td>\n      <td>F</td>\n      <td>1.0</td>\n      <td>18</td>\n    </tr>\n    <tr>\n      <th>96098</th>\n      <td>96098</td>\n      <td>960.98</td>\n      <td>0.079807</td>\n      <td>-8.347763</td>\n      <td>1.808638e+01</td>\n      <td>-0.023331</td>\n      <td>-0.001025</td>\n      <td>0.013220</td>\n      <td>9.273377</td>\n      <td>12.136460</td>\n      <td>...</td>\n      <td>-372.674</td>\n      <td>-32.186</td>\n      <td>0.0</td>\n      <td>0.0</td>\n      <td>WIN_20210404_10_58_27_Pro</td>\n      <td>1.0</td>\n      <td>Stagiaire</td>\n      <td>F</td>\n      <td>1.0</td>\n      <td>18</td>\n    </tr>\n  </tbody>\n</table>\n<p>2573581 rows × 77 columns</p>\n</div>"
     },
     "metadata": {},
     "execution_count": 6
    }
   ],
   "source": [
    "df_total_eGeMaps"
   ]
  },
  {
   "cell_type": "code",
   "execution_count": 7,
   "metadata": {},
   "outputs": [
    {
     "output_type": "execute_result",
     "data": {
      "text/plain": [
       "Index(['frameIndex', 'frameTime', 'pcm_intensity_sma', 'pcm_loudness_sma',\n",
       "       'mfcc_sma[1]', 'mfcc_sma[2]', 'mfcc_sma[3]', 'mfcc_sma[4]',\n",
       "       'mfcc_sma[5]', 'mfcc_sma[6]', 'mfcc_sma[7]', 'mfcc_sma[8]',\n",
       "       'mfcc_sma[9]', 'mfcc_sma[10]', 'mfcc_sma[11]', 'mfcc_sma[12]',\n",
       "       'lspFreq_sma[0]', 'lspFreq_sma[1]', 'lspFreq_sma[2]', 'lspFreq_sma[3]',\n",
       "       'lspFreq_sma[4]', 'lspFreq_sma[5]', 'lspFreq_sma[6]', 'lspFreq_sma[7]',\n",
       "       'pcm_zcr_sma', 'voiceProb_sma', 'F0_sma', 'F0env_sma',\n",
       "       'pcm_intensity_sma_de', 'pcm_loudness_sma_de', 'mfcc_sma_de[1]',\n",
       "       'mfcc_sma_de[2]', 'mfcc_sma_de[3]', 'mfcc_sma_de[4]', 'mfcc_sma_de[5]',\n",
       "       'mfcc_sma_de[6]', 'mfcc_sma_de[7]', 'mfcc_sma_de[8]', 'mfcc_sma_de[9]',\n",
       "       'mfcc_sma_de[10]', 'mfcc_sma_de[11]', 'mfcc_sma_de[12]',\n",
       "       'lspFreq_sma_de[0]', 'lspFreq_sma_de[1]', 'lspFreq_sma_de[2]',\n",
       "       'lspFreq_sma_de[3]', 'lspFreq_sma_de[4]', 'lspFreq_sma_de[5]',\n",
       "       'lspFreq_sma_de[6]', 'lspFreq_sma_de[7]', 'pcm_zcr_sma_de',\n",
       "       'voiceProb_sma_de', 'F0_sma_de', 'F0env_sma_de', 'video_name',\n",
       "       'stress_global', 'type_candidat', 'sexe', 'stress', 'diapo'],\n",
       "      dtype='object')"
      ]
     },
     "metadata": {},
     "execution_count": 7
    }
   ],
   "source": [
    "df_total_emobase.columns"
   ]
  },
  {
   "cell_type": "code",
   "execution_count": 8,
   "metadata": {},
   "outputs": [
    {
     "output_type": "execute_result",
     "data": {
      "text/plain": [
       "Index(['pcm_intensity_sma', 'pcm_loudness_sma', 'mfcc_sma[1]', 'mfcc_sma[2]',\n",
       "       'mfcc_sma[3]', 'mfcc_sma[4]', 'mfcc_sma[5]', 'mfcc_sma[6]',\n",
       "       'mfcc_sma[7]', 'mfcc_sma[8]', 'mfcc_sma[9]', 'mfcc_sma[10]',\n",
       "       'mfcc_sma[11]', 'mfcc_sma[12]', 'lspFreq_sma[0]', 'lspFreq_sma[1]',\n",
       "       'lspFreq_sma[2]', 'lspFreq_sma[3]', 'lspFreq_sma[4]', 'lspFreq_sma[5]',\n",
       "       'lspFreq_sma[6]', 'lspFreq_sma[7]', 'pcm_zcr_sma', 'voiceProb_sma',\n",
       "       'F0_sma', 'F0env_sma', 'pcm_intensity_sma_de', 'pcm_loudness_sma_de',\n",
       "       'mfcc_sma_de[1]', 'mfcc_sma_de[2]', 'mfcc_sma_de[3]', 'mfcc_sma_de[4]',\n",
       "       'mfcc_sma_de[5]', 'mfcc_sma_de[6]', 'mfcc_sma_de[7]', 'mfcc_sma_de[8]',\n",
       "       'mfcc_sma_de[9]', 'mfcc_sma_de[10]', 'mfcc_sma_de[11]',\n",
       "       'mfcc_sma_de[12]', 'lspFreq_sma_de[0]', 'lspFreq_sma_de[1]',\n",
       "       'lspFreq_sma_de[2]', 'lspFreq_sma_de[3]', 'lspFreq_sma_de[4]',\n",
       "       'lspFreq_sma_de[5]', 'lspFreq_sma_de[6]', 'lspFreq_sma_de[7]',\n",
       "       'pcm_zcr_sma_de', 'voiceProb_sma_de', 'F0_sma_de', 'F0env_sma_de'],\n",
       "      dtype='object')"
      ]
     },
     "metadata": {},
     "execution_count": 8
    }
   ],
   "source": [
    "df_total_emobase.columns[2:-6]"
   ]
  },
  {
   "cell_type": "code",
   "execution_count": 9,
   "metadata": {},
   "outputs": [
    {
     "output_type": "execute_result",
     "data": {
      "text/plain": [
       "Index(['alphaRatio_sma3', 'hammarbergIndex_sma3', 'slope0-500_sma3',\n",
       "       'slope500-1500_sma3', 'spectralFlux_sma3',\n",
       "       'F0semitoneFrom27.5Hz_sma3nz', 'jitterLocal_sma3nz',\n",
       "       'shimmerLocaldB_sma3nz', 'HNRdBACF_sma3nz', 'logRelF0-H1-H2_sma3nz',\n",
       "       'logRelF0-H1-A3_sma3nz', 'F1frequency_sma3nz', 'F1bandwidth_sma3nz',\n",
       "       'F1amplitudeLogRelF0_sma3nz', 'F2frequency_sma3nz',\n",
       "       'F2amplitudeLogRelF0_sma3nz', 'F3frequency_sma3nz',\n",
       "       'F3amplitudeLogRelF0_sma3nz', 'alphaRatio_sma3_de',\n",
       "       'hammarbergIndex_sma3_de', 'slope0-500_sma3_de',\n",
       "       'slope500-1500_sma3_de', 'spectralFlux_sma3_de',\n",
       "       'F0semitoneFrom27.5Hz_sma3nz_de', 'jitterLocal_sma3nz_de',\n",
       "       'shimmerLocaldB_sma3nz_de', 'HNRdBACF_sma3nz_de',\n",
       "       'logRelF0-H1-H2_sma3nz_de', 'logRelF0-H1-A3_sma3nz_de',\n",
       "       'F1frequency_sma3nz_de', 'F1bandwidth_sma3nz_de',\n",
       "       'F1amplitudeLogRelF0_sma3nz_de', 'F2frequency_sma3nz_de',\n",
       "       'F2amplitudeLogRelF0_sma3nz_de', 'F3frequency_sma3nz_de',\n",
       "       'F3amplitudeLogRelF0_sma3nz_de'],\n",
       "      dtype='object')"
      ]
     },
     "metadata": {},
     "execution_count": 9
    }
   ],
   "source": [
    "df_total_eGeMaps.columns[[3,4,5,6,7,12,13,14,15,16,17,18,19,20,21,22,23,24,\n",
    "                          27,29,31,33,35, 45,47,49,51,53,55,57,59,61,63,65,67,69]]"
   ]
  },
  {
   "cell_type": "code",
   "execution_count": 10,
   "metadata": {},
   "outputs": [],
   "source": [
    "video_name_list = df_total_emobase.video_name.unique()\n",
    "#video_name_list"
   ]
  },
  {
   "cell_type": "code",
   "execution_count": 11,
   "metadata": {},
   "outputs": [
    {
     "output_type": "stream",
     "name": "stdout",
     "text": [
      "WIN_20210409_10_26_11_Pro\n",
      "WIN_20210417_14_53_12_Pro\n",
      "WIN_20210330_13_10_29_Pro\n",
      "WIN_20210414_06_24_52_Pro\n",
      "Video_1\n",
      "Test_pour_AFPA\n",
      "WIN_20210408_14_02_19_Pro\n",
      "WIN_20210404_21_41_12_Pro\n",
      "WIN_20210415_15_41_24_Pro\n",
      "WIN_20210331_21_22_52_Pro\n",
      "WIN_20210407_14_54_56_Pro_edit2\n",
      "WIN_20210407_09_04_05_Pro\n",
      "WIN_20210329_10_16_02_Pro\n",
      "WIN_20210413_15_38_01_Pro\n",
      "WIN_20210323_19_17_40_Pro\n",
      "WIN_20210406_18_49_10_Pro\n",
      "WIN_20210402_19_04_53_Pro\n",
      "WIN_20210406_21_05_52_Pro\n",
      "WIN_20210408_16_04_32_Pro\n",
      "WIN_20210408_15_20_51_Pro\n",
      "WIN_20210402_14_27_50_Pro\n",
      "WIN_20210403_18_49_15_Pro\n",
      "WIN_20210408_14_00_44_Pro\n",
      "WIN_20210406_18_35_52_Pro\n",
      "WIN_20210408_11_48_58_Pro\n",
      "WIN_20210408_14_11_32_Pro\n",
      "WIN_20210404_10_58_27_Pro\n",
      "WIN_20210405_15_09_16_Pro\n",
      "WIN_20210406_15_06_15_Pro\n",
      "WIN_20210416_08_06_54_Pro\n"
     ]
    },
    {
     "output_type": "execute_result",
     "data": {
      "text/plain": [
       "(2573581, 96)"
      ]
     },
     "metadata": {},
     "execution_count": 11
    }
   ],
   "source": [
    "df_total = pd.DataFrame() \n",
    "\n",
    "for video_name in video_name_list:\n",
    "    print(video_name)\n",
    "    df_total_emobase_temp = df_total_emobase.loc[df_total_emobase.video_name == video_name].iloc[:,:]\n",
    "    df_total_eGeMAPS_temp = df_total_eGeMaps.loc[df_total_eGeMaps.video_name == video_name].iloc[:,[1,3,4,5,6,7,12,13,14,15,16,17,18,19,20,21,22,23,24,27,29,31,33,35, 45,47,49,51,53,55,57,59,61,63,65,67,69,-6]]\n",
    "\n",
    "    df_total_temp = df_total_emobase_temp.merge(df_total_eGeMAPS_temp,how='inner', on=['video_name','frameTime'])\n",
    "    df_total = pd.concat([df_total,df_total_temp], axis=0)\n",
    "df_total.shape\n",
    "print('Finished')"
   ]
  },
  {
   "cell_type": "code",
   "execution_count": 13,
   "metadata": {},
   "outputs": [
    {
     "output_type": "execute_result",
     "data": {
      "text/plain": [
       "                      video_name  stress_global type_candidat sexe  stress  \\\n",
       "0      WIN_20210409_10_26_11_Pro            0.0     Stagiaire    F     1.0   \n",
       "1      WIN_20210409_10_26_11_Pro            0.0     Stagiaire    F     1.0   \n",
       "2      WIN_20210409_10_26_11_Pro            0.0     Stagiaire    F     1.0   \n",
       "3      WIN_20210409_10_26_11_Pro            0.0     Stagiaire    F     1.0   \n",
       "4      WIN_20210409_10_26_11_Pro            0.0     Stagiaire    F     1.0   \n",
       "...                          ...            ...           ...  ...     ...   \n",
       "78135  WIN_20210416_08_06_54_Pro            1.0     Stagiaire    F     1.0   \n",
       "78136  WIN_20210416_08_06_54_Pro            1.0     Stagiaire    F     1.0   \n",
       "78137  WIN_20210416_08_06_54_Pro            1.0     Stagiaire    F     1.0   \n",
       "78138  WIN_20210416_08_06_54_Pro            1.0     Stagiaire    F     1.0   \n",
       "78139  WIN_20210416_08_06_54_Pro            1.0     Stagiaire    F     1.0   \n",
       "\n",
       "       diapo  \n",
       "0          1  \n",
       "1          1  \n",
       "2          1  \n",
       "3          1  \n",
       "4          1  \n",
       "...      ...  \n",
       "78135     18  \n",
       "78136     18  \n",
       "78137     18  \n",
       "78138     18  \n",
       "78139     18  \n",
       "\n",
       "[2573581 rows x 6 columns]"
      ],
      "text/html": "<div>\n<style scoped>\n    .dataframe tbody tr th:only-of-type {\n        vertical-align: middle;\n    }\n\n    .dataframe tbody tr th {\n        vertical-align: top;\n    }\n\n    .dataframe thead th {\n        text-align: right;\n    }\n</style>\n<table border=\"1\" class=\"dataframe\">\n  <thead>\n    <tr style=\"text-align: right;\">\n      <th></th>\n      <th>video_name</th>\n      <th>stress_global</th>\n      <th>type_candidat</th>\n      <th>sexe</th>\n      <th>stress</th>\n      <th>diapo</th>\n    </tr>\n  </thead>\n  <tbody>\n    <tr>\n      <th>0</th>\n      <td>WIN_20210409_10_26_11_Pro</td>\n      <td>0.0</td>\n      <td>Stagiaire</td>\n      <td>F</td>\n      <td>1.0</td>\n      <td>1</td>\n    </tr>\n    <tr>\n      <th>1</th>\n      <td>WIN_20210409_10_26_11_Pro</td>\n      <td>0.0</td>\n      <td>Stagiaire</td>\n      <td>F</td>\n      <td>1.0</td>\n      <td>1</td>\n    </tr>\n    <tr>\n      <th>2</th>\n      <td>WIN_20210409_10_26_11_Pro</td>\n      <td>0.0</td>\n      <td>Stagiaire</td>\n      <td>F</td>\n      <td>1.0</td>\n      <td>1</td>\n    </tr>\n    <tr>\n      <th>3</th>\n      <td>WIN_20210409_10_26_11_Pro</td>\n      <td>0.0</td>\n      <td>Stagiaire</td>\n      <td>F</td>\n      <td>1.0</td>\n      <td>1</td>\n    </tr>\n    <tr>\n      <th>4</th>\n      <td>WIN_20210409_10_26_11_Pro</td>\n      <td>0.0</td>\n      <td>Stagiaire</td>\n      <td>F</td>\n      <td>1.0</td>\n      <td>1</td>\n    </tr>\n    <tr>\n      <th>...</th>\n      <td>...</td>\n      <td>...</td>\n      <td>...</td>\n      <td>...</td>\n      <td>...</td>\n      <td>...</td>\n    </tr>\n    <tr>\n      <th>78135</th>\n      <td>WIN_20210416_08_06_54_Pro</td>\n      <td>1.0</td>\n      <td>Stagiaire</td>\n      <td>F</td>\n      <td>1.0</td>\n      <td>18</td>\n    </tr>\n    <tr>\n      <th>78136</th>\n      <td>WIN_20210416_08_06_54_Pro</td>\n      <td>1.0</td>\n      <td>Stagiaire</td>\n      <td>F</td>\n      <td>1.0</td>\n      <td>18</td>\n    </tr>\n    <tr>\n      <th>78137</th>\n      <td>WIN_20210416_08_06_54_Pro</td>\n      <td>1.0</td>\n      <td>Stagiaire</td>\n      <td>F</td>\n      <td>1.0</td>\n      <td>18</td>\n    </tr>\n    <tr>\n      <th>78138</th>\n      <td>WIN_20210416_08_06_54_Pro</td>\n      <td>1.0</td>\n      <td>Stagiaire</td>\n      <td>F</td>\n      <td>1.0</td>\n      <td>18</td>\n    </tr>\n    <tr>\n      <th>78139</th>\n      <td>WIN_20210416_08_06_54_Pro</td>\n      <td>1.0</td>\n      <td>Stagiaire</td>\n      <td>F</td>\n      <td>1.0</td>\n      <td>18</td>\n    </tr>\n  </tbody>\n</table>\n<p>2573581 rows × 6 columns</p>\n</div>"
     },
     "metadata": {},
     "execution_count": 13
    }
   ],
   "source": [
    "df_total_annotations = df_total.iloc[:,54:60].copy()\n",
    "df_total_annotations"
   ]
  },
  {
   "cell_type": "code",
   "execution_count": 14,
   "metadata": {},
   "outputs": [
    {
     "output_type": "execute_result",
     "data": {
      "text/plain": [
       "(2573581, 96)"
      ]
     },
     "metadata": {},
     "execution_count": 14
    }
   ],
   "source": [
    "df_total = pd.concat([df_total.drop(df_total.columns[54:60], axis=1), df_total_annotations], axis=1)\n",
    "df_total.shape"
   ]
  },
  {
   "cell_type": "code",
   "execution_count": 15,
   "metadata": {},
   "outputs": [],
   "source": [
    "df_total = df_total.dropna(axis=0)\n",
    "df_total.to_pickle(directory_path + '/audio_' + features + '_data.p')"
   ]
  },
  {
   "cell_type": "code",
   "execution_count": 16,
   "metadata": {},
   "outputs": [
    {
     "output_type": "execute_result",
     "data": {
      "text/plain": [
       "(2573581, 96)"
      ]
     },
     "metadata": {},
     "execution_count": 16
    }
   ],
   "source": [
    "df_total = pd.read_pickle(directory_path + '/audio_' + features + '_data.p')\n",
    "df_total.shape"
   ]
  },
  {
   "source": [
    "## Data processing"
   ],
   "cell_type": "markdown",
   "metadata": {}
  },
  {
   "cell_type": "code",
   "execution_count": 20,
   "metadata": {},
   "outputs": [],
   "source": [
    "from scipy.stats import kurtosis, skew\n",
    "\n",
    "def percentil25(x): \n",
    "    return np.percentile(x, q=25)\n",
    "\n",
    "def percentil75(x): \n",
    "    return np.percentile(x, q=75)"
   ]
  },
  {
   "cell_type": "code",
   "execution_count": 21,
   "metadata": {},
   "outputs": [],
   "source": [
    "# Sequence as a whole with 9 agregators\n",
    "X = df_total.iloc[:,2:].groupby(['video_name','diapo']).agg({'mean','min','max', 'median', 'std', percentil25, percentil75, kurtosis, skew}).iloc[:,:-18]\n",
    "print('X.shape',X.shape)\n",
    "\n",
    "X_temp = df_total[['video_name','diapo','type_candidat','sexe']].groupby(['video_name','diapo']).agg({'type_candidat':'first','sexe':'first'})\n",
    "X_temp.loc[X_temp['type_candidat'] == 'Stagiaire','Stagiaire'] = 1\n",
    "X_temp.loc[X_temp['type_candidat'] != 'Stagiaire','Stagiaire'] = 0\n",
    "X_temp.loc[X_temp['sexe'] == 'F','Femme'] = 1\n",
    "X_temp.loc[X_temp['sexe'] != 'F','Femme'] = 0\n",
    "X_temp = X_temp.drop(['type_candidat','sexe'], axis=1)\n",
    "print(X_temp.shape)\n",
    "\n",
    "X = pd.concat([X,X_temp],axis=1)\n",
    "\n",
    "y = df_total.iloc[:,2:].groupby(['video_name','diapo']).agg({'stress':'mean'}).iloc[:,-1]\n",
    "print(y.shape)\n",
    "\n",
    "X.to_pickle(directory_path + '/audio_' + features + '_data_X.p')\n",
    "y.to_pickle(directory_path + '/audio_' + features + '_data_y.p')\n",
    "\n",
    "from scipy.stats import kurtosis, skew\n",
    "X_audio = df_total.loc[df_total['diapo'].isin([8, 9, 10, 11, 17]),:].iloc[:,2:].groupby(['video_name','diapo']).agg({'mean','min','max', 'median', 'std', percentil25, percentil75, kurtosis, skew}).iloc[:,:-18]\n",
    "y_audio = df_total.loc[df_total['diapo'].isin([8, 9, 10, 11, 17]),:].iloc[:,2:].groupby(['video_name','diapo']).agg({'stress':'mean'}).iloc[:,-1]\n",
    "\n",
    "X_audio.to_pickle(directory_path + '/audio_' + features + '_data_X_audio.p')\n",
    "y_audio.to_pickle(directory_path + '/audio_' + features + '_data_y_audio.p')\n",
    "\n"
   ]
  },
  {
   "cell_type": "code",
   "execution_count": 1,
   "metadata": {},
   "outputs": [
    {
     "output_type": "error",
     "ename": "NameError",
     "evalue": "name 'X' is not defined",
     "traceback": [
      "\u001b[0;31m---------------------------------------------------------------------------\u001b[0m",
      "\u001b[0;31mNameError\u001b[0m                                 Traceback (most recent call last)",
      "\u001b[0;32m<ipython-input-1-44be2303316b>\u001b[0m in \u001b[0;36m<module>\u001b[0;34m\u001b[0m\n\u001b[0;32m----> 1\u001b[0;31m \u001b[0mX\u001b[0m\u001b[0;34m.\u001b[0m\u001b[0mshape\u001b[0m\u001b[0;34m,\u001b[0m \u001b[0mX_audio\u001b[0m\u001b[0;34m.\u001b[0m\u001b[0mshape\u001b[0m\u001b[0;34m\u001b[0m\u001b[0;34m\u001b[0m\u001b[0m\n\u001b[0m",
      "\u001b[0;31mNameError\u001b[0m: name 'X' is not defined"
     ]
    }
   ],
   "source": [
    "X.shape, X_audio.shape"
   ]
  },
  {
   "source": [
    "## Modèles"
   ],
   "cell_type": "markdown",
   "metadata": {}
  },
  {
   "cell_type": "code",
   "execution_count": 3,
   "metadata": {},
   "outputs": [],
   "source": [
    "X = pd.read_pickle(directory_path + '/audio_' + features + '_data_X.p')\n",
    "y = pd.read_pickle(directory_path + '/audio_' + features + '_data_y.p')\n",
    "\n",
    "X_audio = pd.read_pickle(directory_path + '/audio_' + features + '_data_X_audio.p')\n",
    "y_audio = pd.read_pickle(directory_path + '/audio_' + features + '_data_y_audio.p')\n",
    "\n",
    "X = X.fillna(0)\n",
    "X_audio = X_audio.fillna(0)"
   ]
  },
  {
   "source": [
    "### Leave ont interview out\n",
    "#### All diapos"
   ],
   "cell_type": "markdown",
   "metadata": {}
  },
  {
   "cell_type": "code",
   "execution_count": 4,
   "metadata": {},
   "outputs": [
    {
     "output_type": "stream",
     "name": "stdout",
     "text": [
      "Best results 0.4956896551724138\nBest params {'max_depth': 10, 'n_estimators': 100}\n"
     ]
    }
   ],
   "source": [
    "parameters = {'n_estimators': [100, 150, 200], 'max_depth':[5, 6, 7, 8, 9,10, 11, 12, 13, 14, 15, 20, 25]}\n",
    "parameters = {'n_estimators': [50, 100, 150, 200], 'max_depth':[3, 4, 5, 6, 10, 15, 20, 25]}\n",
    "\n",
    "from sklearn.model_selection import LeaveOneGroupOut\n",
    "from sklearn.ensemble import RandomForestClassifier, RandomForestRegressor\n",
    "from sklearn.model_selection import cross_val_predict, GridSearchCV\n",
    "from sklearn.metrics import accuracy_score, f1_score\n",
    "import warnings\n",
    "warnings.filterwarnings(\"ignore\")\n",
    "\n",
    "groups = X.reset_index()['video_name']\n",
    "loo = LeaveOneGroupOut()\n",
    "cv_loo = loo.split(X, y, groups)\n",
    "X_no_name = X\n",
    "y_no_name = y\n",
    "\n",
    "model = RandomForestClassifier(random_state = 42, n_jobs=-1)\n",
    "\n",
    "clf = GridSearchCV(estimator=model, \n",
    "                    param_grid=parameters, \n",
    "                    scoring={'accuracy_score' : 'accuracy', 'f1_score' : 'f1_weighted' }, \n",
    "                    refit='accuracy_score',\n",
    "                    cv=cv_loo)\n",
    "clf.fit(X_no_name, y_no_name)\n",
    "print('Best results', clf.best_score_)\n",
    "print('Best params', clf.best_params_)"
   ]
  },
  {
   "cell_type": "code",
   "execution_count": 5,
   "metadata": {},
   "outputs": [
    {
     "output_type": "stream",
     "name": "stdout",
     "text": [
      "accuracy (mean, std) 0.4956896551724138 0.26765818441827627\nf1 (mean, std) 0.4770988589954107 0.2772522366086912\n"
     ]
    }
   ],
   "source": [
    "print('accuracy (mean, std)', clf.cv_results_['mean_test_accuracy_score'][clf.best_index_], clf.cv_results_['std_test_accuracy_score'][clf.best_index_])\n",
    "print('f1 (mean, std)', clf.cv_results_['mean_test_f1_score'][clf.best_index_], clf.cv_results_['std_test_f1_score'][clf.best_index_])"
   ]
  },
  {
   "cell_type": "code",
   "execution_count": 6,
   "metadata": {},
   "outputs": [],
   "source": [
    "# Getting predictions with a leave one interview out\n",
    "from sklearn.model_selection import LeaveOneGroupOut\n",
    "from sklearn.ensemble import RandomForestClassifier, RandomForestRegressor\n",
    "groups = X.reset_index()['video_name']\n",
    "loo = LeaveOneGroupOut()\n",
    "cv_loo = loo.split(X, y, groups)\n",
    "\n",
    "#model = RandomForestClassifier(random_state = 42, n_jobs=-1, max_depth= 10, n_estimators= 50)\n",
    "model = clf.best_estimator_\n",
    "\n",
    "ytest_predict = np.zeros(len(y))\n",
    "for train_index, test_index in loo.split(X, y, groups):\n",
    "    #print(train_index, test_index)\n",
    "    Xtrain, Xtest = X.iloc[train_index], X.iloc[test_index]\n",
    "    ytrain, ytest = y.iloc[train_index], y.iloc[test_index]\n",
    "\n",
    "    model.fit(Xtrain, ytrain)\n",
    "    ytest_predict_temp = model.predict(Xtest)\n",
    "    #print(ytest_predict_temp.shape)\n",
    "    #print(test_index.shape)\n",
    "    ytest_predict[test_index] = ytest_predict_temp\n",
    "y_predict = ytest_predict\n",
    "\n",
    "df_ypredict = pd.concat([X.reset_index()[['video_name','diapo']],pd.DataFrame(y_predict, columns=['ypredict'])],axis=1)\n",
    "df_ypredict.to_csv('ypredict_' + features + '_diapo.csv')"
   ]
  },
  {
   "source": [
    "### Audio diapos only"
   ],
   "cell_type": "markdown",
   "metadata": {}
  },
  {
   "cell_type": "code",
   "execution_count": 7,
   "metadata": {},
   "outputs": [
    {
     "output_type": "stream",
     "name": "stdout",
     "text": [
      "Fitting 29 folds for each of 32 candidates, totalling 928 fits\n",
      "[Parallel(n_jobs=1)]: Using backend SequentialBackend with 1 concurrent workers.\n",
      "[Parallel(n_jobs=1)]: Done 928 out of 928 | elapsed:  3.2min finished\n",
      "Best results 0.4758620689655173\n",
      "Best params {'max_depth': 10, 'n_estimators': 150}\n"
     ]
    }
   ],
   "source": [
    "parameters = {'n_estimators': [100, 150, 200], 'max_depth':[5, 6, 7, 8, 9,10, 11, 12, 13, 14, 15, 20, 25]}\n",
    "parameters = {'n_estimators': [50, 100, 150, 200], 'max_depth':[3, 4, 5, 6, 10, 15, 20, 25]}\n",
    "\n",
    "from sklearn.model_selection import LeaveOneGroupOut\n",
    "from sklearn.ensemble import RandomForestClassifier, RandomForestRegressor\n",
    "from sklearn.model_selection import cross_val_predict, GridSearchCV\n",
    "from sklearn.metrics import accuracy_score, f1_score\n",
    "import warnings\n",
    "warnings.filterwarnings(\"ignore\")\n",
    "\n",
    "groups = X_audio.reset_index()['video_name']\n",
    "loo = LeaveOneGroupOut()\n",
    "cv_loo = loo.split(X_audio, y_audio, groups)\n",
    "X_no_name = X_audio\n",
    "y_no_name = y_audio\n",
    "\n",
    "model = RandomForestClassifier(random_state = 42, n_jobs=-1)\n",
    "\n",
    "clf_audio = GridSearchCV(estimator=model, \n",
    "                    param_grid=parameters, \n",
    "                    scoring={'accuracy_score' : 'accuracy', 'f1_score' : 'f1_weighted' }, \n",
    "                    refit='accuracy_score',\n",
    "                    cv=cv_loo, verbose=1)\n",
    "clf_audio.fit(X_no_name, y_no_name)\n",
    "print('Best results', clf_audio.best_score_)\n",
    "print('Best params', clf_audio.best_params_)"
   ]
  },
  {
   "cell_type": "code",
   "execution_count": 10,
   "metadata": {},
   "outputs": [
    {
     "output_type": "stream",
     "name": "stdout",
     "text": [
      "accuracy (mean, std) 0.4758620689655173 0.27499864879140534\nf1 (mean, std) 0.45813902572523263 0.29394133357099916\n"
     ]
    }
   ],
   "source": [
    "print('accuracy (mean, std)', clf_audio.cv_results_['mean_test_accuracy_score'][clf_audio.best_index_], clf_audio.cv_results_['std_test_accuracy_score'][clf_audio.best_index_])\n",
    "print('f1 (mean, std)', clf_audio.cv_results_['mean_test_f1_score'][clf_audio.best_index_], clf_audio.cv_results_['std_test_f1_score'][clf.best_index_])"
   ]
  },
  {
   "cell_type": "code",
   "execution_count": 11,
   "metadata": {},
   "outputs": [],
   "source": [
    "# Getting predictions with a leave one interview out\n",
    "from sklearn.model_selection import LeaveOneGroupOut\n",
    "from sklearn.ensemble import RandomForestClassifier, RandomForestRegressor\n",
    "groups = X_audio.reset_index()['video_name']\n",
    "loo = LeaveOneGroupOut()\n",
    "cv_loo = loo.split(X_audio, y_audio, groups)\n",
    "\n",
    "#model = RandomForestClassifier(random_state = 42, n_jobs=-1, max_depth= 7, n_estimators= 100)\n",
    "model = clf_audio.best_estimator_\n",
    "\n",
    "ytest_predict = np.zeros(len(y_audio))\n",
    "for train_index, test_index in loo.split(X_audio, y_audio, groups):\n",
    "    #print(train_index, test_index)\n",
    "    Xtrain, Xtest = X_audio.iloc[train_index], X_audio.iloc[test_index]\n",
    "    ytrain, ytest = y_audio.iloc[train_index], y_audio.iloc[test_index]\n",
    "\n",
    "    model.fit(Xtrain, ytrain)\n",
    "    ytest_predict_temp = model.predict(Xtest)\n",
    "    #print(ytest_predict_temp.shape)\n",
    "    #print(test_index.shape)\n",
    "    ytest_predict[test_index] = ytest_predict_temp\n",
    "y_predict = ytest_predict\n",
    "\n",
    "df_ypredict = pd.concat([X_audio.reset_index()[['video_name','diapo']],pd.DataFrame(y_predict, columns=['ypredict'])],axis=1)\n",
    "df_ypredict.to_csv('ypredict_' + features + '_diapo_audio_only.csv')"
   ]
  },
  {
   "cell_type": "code",
   "execution_count": 25,
   "metadata": {},
   "outputs": [],
   "source": []
  },
  {
   "source": [
    "## Stress global"
   ],
   "cell_type": "markdown",
   "metadata": {}
  },
  {
   "cell_type": "code",
   "execution_count": null,
   "metadata": {},
   "outputs": [],
   "source": [
    "df_ypredict = pd.read_csv('ypredict_' + features + '_diapo.csv')\n",
    "df_ypredict = df_ypredict.drop(df_ypredict.columns[0],axis=1)\n",
    "ypredict_stress_diapo = df_ypredict.pivot_table(values='ypredict', columns='diapo',index='video_name',aggfunc='mean')\n",
    "#ypredict_stress_diapo"
   ]
  },
  {
   "cell_type": "code",
   "execution_count": null,
   "metadata": {},
   "outputs": [],
   "source": [
    "df_annotations_stress = pd.read_csv('annotations.csv')\n"
   ]
  }
 ]
}