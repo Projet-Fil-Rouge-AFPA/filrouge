{
 "cells": [
  {
   "cell_type": "code",
   "execution_count": 1,
   "metadata": {},
   "outputs": [],
   "source": [
    "import os\n",
    "import subprocess\n",
    "import pandas as pd\n",
    "import platform\n",
    "import pathlib\n",
    "import numpy as np\n",
    "from annotations import *\n",
    "from extract_video_features import *\n",
    "from extract_audio_features import *\n",
    "import cv2\n",
    "import seaborn as sns\n",
    "from scipy.stats import kurtosis, skew\n",
    "from sklearn.metrics import f1_score\n",
    "import importlib\n",
    "from tqdm import tqdm\n",
    "import ordinal_classification as o_c\n",
    "from sklearn.metrics import confusion_matrix\n",
    "from sklearn.model_selection import GridSearchCV\n",
    "from util import runGridSearchClassifiers\n"
   ]
  },
  {
   "cell_type": "code",
   "execution_count": 2,
   "metadata": {},
   "outputs": [],
   "source": [
    "#get current directory\n",
    "cwd = os.getcwd()"
   ]
  },
  {
   "cell_type": "code",
   "execution_count": 3,
   "metadata": {},
   "outputs": [
    {
     "output_type": "execute_result",
     "data": {
      "text/plain": [
       "'/Users/valentinadiproietto/filrouge'"
      ]
     },
     "metadata": {},
     "execution_count": 3
    }
   ],
   "source": [
    "cwd"
   ]
  },
  {
   "cell_type": "code",
   "execution_count": 4,
   "metadata": {},
   "outputs": [],
   "source": [
    "OpenFace_folder = '/Users/valentinadiproietto/OpenFace'\n",
    "filename_annotations = 'https://docs.google.com/spreadsheets/d/1Rqu1sJiD-ogc4a6R491JTiaYacptOTqh6DKqhwTa8NA/gviz/tq?tqx=out:csv&sheet=Template'"
   ]
  },
  {
   "cell_type": "code",
   "execution_count": 5,
   "metadata": {},
   "outputs": [],
   "source": [
    "Video_folder = '/Users/valentinadiproietto/Desktop/video_stress'"
   ]
  },
  {
   "cell_type": "code",
   "execution_count": 6,
   "metadata": {},
   "outputs": [],
   "source": [
    "video_paths, video_names = get_videos(Video_folder)"
   ]
  },
  {
   "cell_type": "code",
   "execution_count": 7,
   "metadata": {},
   "outputs": [
    {
     "output_type": "execute_result",
     "data": {
      "text/plain": [
       "['WIN_20210331_21_22_52_Pro',\n",
       " 'WIN_20210329_14_13_45_Pro',\n",
       " 'WIN_20210406_18_49_10_Pro',\n",
       " 'WIN_20210408_14_11_32_Pro',\n",
       " 'WIN_20210408_15_20_51_Pro',\n",
       " 'WIN_20210404_10_58_27_Pro',\n",
       " 'WIN_20210414_06_24_52_Pro',\n",
       " 'WIN_20210406_15_06_15_Pro',\n",
       " 'WIN_20210417_14_53_12_Pro',\n",
       " 'WIN_20210413_15_38_01_Pro',\n",
       " 'WIN_20210408_11_48_58_Pro',\n",
       " 'WIN_20210408_16_04_32_Pro',\n",
       " 'WIN_20210329_10_16_02_Pro',\n",
       " 'WIN_20210323_19_17_40_Pro',\n",
       " 'WIN_20210409_10_26_11_Pro',\n",
       " 'Test_pour_AFPA',\n",
       " 'WIN_20210405_15_09_16_Pro',\n",
       " 'WIN_20210407_14_54_56_Pro_edit2',\n",
       " 'WIN_20210406_21_05_52_Pro',\n",
       " 'WIN_20210403_18_49_15_Pro',\n",
       " 'WIN_20210408_14_02_19_Pro',\n",
       " 'WIN_20210415_15_41_24_Pro',\n",
       " 'WIN_20210406_18_35_52_Pro',\n",
       " 'WIN_20210402_14_27_50_Pro',\n",
       " 'WIN_20210407_09_04_05_Pro',\n",
       " 'WIN_20210402_19_04_53_Pro',\n",
       " 'WIN_20210416_08_06_54_Pro',\n",
       " 'Video_1',\n",
       " 'WIN_20210408_14_00_44_Pro',\n",
       " 'WIN_20210404_21_41_12_Pro',\n",
       " 'WIN_20210330_13_10_29_Pro']"
      ]
     },
     "metadata": {},
     "execution_count": 7
    }
   ],
   "source": [
    "video_names"
   ]
  },
  {
   "cell_type": "code",
   "execution_count": 8,
   "metadata": {},
   "outputs": [],
   "source": [
    "list_dataframes = []\n",
    "for i in video_names: \n",
    "    list_dataframes.append(create_dataframe_video('/Users/valentinadiproietto/OpenFace/processed/', i))\n"
   ]
  },
  {
   "cell_type": "code",
   "execution_count": 9,
   "metadata": {},
   "outputs": [],
   "source": [
    "video_names.remove('WIN_20210329_14_13_45_Pro')\n",
    "video_names.remove('WIN_20210402_14_27_50_Pro')\n"
   ]
  },
  {
   "cell_type": "code",
   "execution_count": 10,
   "metadata": {},
   "outputs": [
    {
     "output_type": "execute_result",
     "data": {
      "text/plain": [
       "29"
      ]
     },
     "metadata": {},
     "execution_count": 10
    }
   ],
   "source": [
    "len(video_names)"
   ]
  },
  {
   "cell_type": "code",
   "execution_count": 11,
   "metadata": {},
   "outputs": [
    {
     "output_type": "stream",
     "name": "stderr",
     "text": [
      "100%|██████████| 29/29 [03:01<00:00,  6.27s/it]\n"
     ]
    }
   ],
   "source": [
    "list_df_max = []\n",
    "for v_name in tqdm(video_names):\n",
    "    df_annoted = get_df_video_with_annotations('/Users/valentinadiproietto/OpenFace/processed/', v_name, filename_annotations, \"max\")\n",
    "    list_df_max.append(eliminate_features(df_annoted))\n",
    "\n",
    "\n",
    "    "
   ]
  },
  {
   "cell_type": "code",
   "execution_count": 12,
   "metadata": {},
   "outputs": [
    {
     "output_type": "execute_result",
     "data": {
      "text/plain": [
       "Index(['frame', 'face_id', 'timestamp', 'confidence', 'success', 'AU01_r',\n",
       "       'AU02_r', 'AU04_r', 'AU05_r', 'AU06_r', 'AU07_r', 'AU09_r', 'AU10_r',\n",
       "       'AU12_r', 'AU14_r', 'AU15_r', 'AU17_r', 'AU20_r', 'AU23_r', 'AU25_r',\n",
       "       'AU26_r', 'AU45_r', 'AU01_c', 'AU02_c', 'AU04_c', 'AU05_c', 'AU06_c',\n",
       "       'AU07_c', 'AU09_c', 'AU10_c', 'AU12_c', 'AU14_c', 'AU15_c', 'AU17_c',\n",
       "       'AU20_c', 'AU23_c', 'AU25_c', 'AU26_c', 'AU28_c', 'AU45_c', 'gaze_0_x',\n",
       "       'gaze_0_y', 'gaze_0_z', 'gaze_1_x', 'gaze_1_y', 'gaze_1_z',\n",
       "       'gaze_angle_x', 'gaze_angle_y', 'pose_Tx', 'pose_Ty', 'pose_Tz',\n",
       "       'pose_Rx', 'pose_Ry', 'pose_Rz', 'type_candidat', 'sexe', 'video_name',\n",
       "       'stress_global', 'stress', 'diapo'],\n",
       "      dtype='object')"
      ]
     },
     "metadata": {},
     "execution_count": 12
    }
   ],
   "source": [
    "list_df_max[0].columns"
   ]
  },
  {
   "source": [
    "## AGGREGATION FOR VIDEO, PREDICTION ON VIDEO"
   ],
   "cell_type": "markdown",
   "metadata": {}
  },
  {
   "cell_type": "code",
   "execution_count": 22,
   "metadata": {},
   "outputs": [],
   "source": [
    "df_with_deriv = []\n",
    "for i in list_df_max:\n",
    "    to_drop = ['frame','face_id','timestamp','confidence','success', 'type_candidat']\n",
    "    \n",
    "    i = i.drop(to_drop, axis = 1)\n",
    "    i = add_derivatives_drop_spatial(i)\n",
    "    df_with_deriv.append(i)"
   ]
  },
  {
   "cell_type": "code",
   "execution_count": 23,
   "metadata": {},
   "outputs": [
    {
     "output_type": "execute_result",
     "data": {
      "text/plain": [
       "Index(['AU01_r', 'AU02_r', 'AU04_r', 'AU05_r', 'AU06_r', 'AU07_r', 'AU09_r',\n",
       "       'AU10_r', 'AU12_r', 'AU14_r', 'AU15_r', 'AU17_r', 'AU20_r', 'AU23_r',\n",
       "       'AU25_r', 'AU26_r', 'AU45_r', 'AU01_c', 'AU02_c', 'AU04_c', 'AU05_c',\n",
       "       'AU06_c', 'AU07_c', 'AU09_c', 'AU10_c', 'AU12_c', 'AU14_c', 'AU15_c',\n",
       "       'AU17_c', 'AU20_c', 'AU23_c', 'AU25_c', 'AU26_c', 'AU28_c', 'AU45_c',\n",
       "       'sexe', 'video_name', 'stress_global', 'AU01_r_de', 'AU01_r_de_de',\n",
       "       'AU02_r_de', 'AU02_r_de_de', 'AU04_r_de', 'AU04_r_de_de', 'AU05_r_de',\n",
       "       'AU05_r_de_de', 'AU06_r_de', 'AU06_r_de_de', 'AU07_r_de',\n",
       "       'AU07_r_de_de', 'AU09_r_de', 'AU09_r_de_de', 'AU10_r_de',\n",
       "       'AU10_r_de_de', 'AU12_r_de', 'AU12_r_de_de', 'AU14_r_de',\n",
       "       'AU14_r_de_de', 'AU15_r_de', 'AU15_r_de_de', 'AU17_r_de',\n",
       "       'AU17_r_de_de', 'AU20_r_de', 'AU20_r_de_de', 'AU23_r_de',\n",
       "       'AU23_r_de_de', 'AU25_r_de', 'AU25_r_de_de', 'AU26_r_de',\n",
       "       'AU26_r_de_de', 'AU45_r_de', 'AU45_r_de_de', 'gaze_0_x_de',\n",
       "       'gaze_0_x_de_de', 'gaze_0_y_de', 'gaze_0_y_de_de', 'gaze_0_z_de',\n",
       "       'gaze_0_z_de_de', 'gaze_1_x_de', 'gaze_1_x_de_de', 'gaze_1_y_de',\n",
       "       'gaze_1_y_de_de', 'gaze_1_z_de', 'gaze_1_z_de_de', 'gaze_angle_x_de',\n",
       "       'gaze_angle_x_de_de', 'gaze_angle_y_de', 'gaze_angle_y_de_de',\n",
       "       'pose_Tx_de', 'pose_Tx_de_de', 'pose_Ty_de', 'pose_Ty_de_de',\n",
       "       'pose_Tz_de', 'pose_Tz_de_de', 'pose_Rx_de', 'pose_Rx_de_de',\n",
       "       'pose_Ry_de', 'pose_Ry_de_de', 'pose_Rz_de', 'pose_Rz_de_de'],\n",
       "      dtype='object')"
      ]
     },
     "metadata": {},
     "execution_count": 23
    }
   ],
   "source": [
    "groupby_features= ['video_name','stress_global','sexe']\n",
    "df_total = pd.concat(df_with_deriv)\n",
    "df_total = df_total.drop(['diapo','stress' ], axis = 1)\n",
    "pd.options.display.max_seq_items = 2000\n",
    "df_total.columns"
   ]
  },
  {
   "cell_type": "code",
   "execution_count": 24,
   "metadata": {},
   "outputs": [
    {
     "output_type": "execute_result",
     "data": {
      "text/plain": [
       "stress_global\n",
       "0.0              12\n",
       "1.0               9\n",
       "2.0               8\n",
       "dtype: int64"
      ]
     },
     "metadata": {},
     "execution_count": 24
    }
   ],
   "source": [
    "df_total = df_total.groupby(groupby_features).agg(['mean', 'std']).reset_index()\n",
    "df_total.columns= df_total.columns.map('_'.join).str.strip('_')\n",
    "df_total[['stress_global']].value_counts()"
   ]
  },
  {
   "cell_type": "code",
   "execution_count": 25,
   "metadata": {},
   "outputs": [
    {
     "output_type": "execute_result",
     "data": {
      "text/plain": [
       "Index(['video_name', 'stress_global', 'sexe', 'AU01_r_mean', 'AU01_r_std',\n",
       "       'AU02_r_mean', 'AU02_r_std', 'AU04_r_mean', 'AU04_r_std', 'AU05_r_mean',\n",
       "       'AU05_r_std', 'AU06_r_mean', 'AU06_r_std', 'AU07_r_mean', 'AU07_r_std',\n",
       "       'AU09_r_mean', 'AU09_r_std', 'AU10_r_mean', 'AU10_r_std', 'AU12_r_mean',\n",
       "       'AU12_r_std', 'AU14_r_mean', 'AU14_r_std', 'AU15_r_mean', 'AU15_r_std',\n",
       "       'AU17_r_mean', 'AU17_r_std', 'AU20_r_mean', 'AU20_r_std', 'AU23_r_mean',\n",
       "       'AU23_r_std', 'AU25_r_mean', 'AU25_r_std', 'AU26_r_mean', 'AU26_r_std',\n",
       "       'AU45_r_mean', 'AU45_r_std', 'AU01_c_mean', 'AU01_c_std', 'AU02_c_mean',\n",
       "       'AU02_c_std', 'AU04_c_mean', 'AU04_c_std', 'AU05_c_mean', 'AU05_c_std',\n",
       "       'AU06_c_mean', 'AU06_c_std', 'AU07_c_mean', 'AU07_c_std', 'AU09_c_mean',\n",
       "       'AU09_c_std', 'AU10_c_mean', 'AU10_c_std', 'AU12_c_mean', 'AU12_c_std',\n",
       "       'AU14_c_mean', 'AU14_c_std', 'AU15_c_mean', 'AU15_c_std', 'AU17_c_mean',\n",
       "       'AU17_c_std', 'AU20_c_mean', 'AU20_c_std', 'AU23_c_mean', 'AU23_c_std',\n",
       "       'AU25_c_mean', 'AU25_c_std', 'AU26_c_mean', 'AU26_c_std', 'AU28_c_mean',\n",
       "       'AU28_c_std', 'AU45_c_mean', 'AU45_c_std', 'AU01_r_de_mean',\n",
       "       'AU01_r_de_std', 'AU01_r_de_de_mean', 'AU01_r_de_de_std',\n",
       "       'AU02_r_de_mean', 'AU02_r_de_std', 'AU02_r_de_de_mean',\n",
       "       'AU02_r_de_de_std', 'AU04_r_de_mean', 'AU04_r_de_std',\n",
       "       'AU04_r_de_de_mean', 'AU04_r_de_de_std', 'AU05_r_de_mean',\n",
       "       'AU05_r_de_std', 'AU05_r_de_de_mean', 'AU05_r_de_de_std',\n",
       "       'AU06_r_de_mean', 'AU06_r_de_std', 'AU06_r_de_de_mean',\n",
       "       'AU06_r_de_de_std', 'AU07_r_de_mean', 'AU07_r_de_std',\n",
       "       'AU07_r_de_de_mean', 'AU07_r_de_de_std', 'AU09_r_de_mean',\n",
       "       'AU09_r_de_std', 'AU09_r_de_de_mean', 'AU09_r_de_de_std',\n",
       "       'AU10_r_de_mean', 'AU10_r_de_std', 'AU10_r_de_de_mean',\n",
       "       'AU10_r_de_de_std', 'AU12_r_de_mean', 'AU12_r_de_std',\n",
       "       'AU12_r_de_de_mean', 'AU12_r_de_de_std', 'AU14_r_de_mean',\n",
       "       'AU14_r_de_std', 'AU14_r_de_de_mean', 'AU14_r_de_de_std',\n",
       "       'AU15_r_de_mean', 'AU15_r_de_std', 'AU15_r_de_de_mean',\n",
       "       'AU15_r_de_de_std', 'AU17_r_de_mean', 'AU17_r_de_std',\n",
       "       'AU17_r_de_de_mean', 'AU17_r_de_de_std', 'AU20_r_de_mean',\n",
       "       'AU20_r_de_std', 'AU20_r_de_de_mean', 'AU20_r_de_de_std',\n",
       "       'AU23_r_de_mean', 'AU23_r_de_std', 'AU23_r_de_de_mean',\n",
       "       'AU23_r_de_de_std', 'AU25_r_de_mean', 'AU25_r_de_std',\n",
       "       'AU25_r_de_de_mean', 'AU25_r_de_de_std', 'AU26_r_de_mean',\n",
       "       'AU26_r_de_std', 'AU26_r_de_de_mean', 'AU26_r_de_de_std',\n",
       "       'AU45_r_de_mean', 'AU45_r_de_std', 'AU45_r_de_de_mean',\n",
       "       'AU45_r_de_de_std', 'gaze_0_x_de_mean', 'gaze_0_x_de_std',\n",
       "       'gaze_0_x_de_de_mean', 'gaze_0_x_de_de_std', 'gaze_0_y_de_mean',\n",
       "       'gaze_0_y_de_std', 'gaze_0_y_de_de_mean', 'gaze_0_y_de_de_std',\n",
       "       'gaze_0_z_de_mean', 'gaze_0_z_de_std', 'gaze_0_z_de_de_mean',\n",
       "       'gaze_0_z_de_de_std', 'gaze_1_x_de_mean', 'gaze_1_x_de_std',\n",
       "       'gaze_1_x_de_de_mean', 'gaze_1_x_de_de_std', 'gaze_1_y_de_mean',\n",
       "       'gaze_1_y_de_std', 'gaze_1_y_de_de_mean', 'gaze_1_y_de_de_std',\n",
       "       'gaze_1_z_de_mean', 'gaze_1_z_de_std', 'gaze_1_z_de_de_mean',\n",
       "       'gaze_1_z_de_de_std', 'gaze_angle_x_de_mean', 'gaze_angle_x_de_std',\n",
       "       'gaze_angle_x_de_de_mean', 'gaze_angle_x_de_de_std',\n",
       "       'gaze_angle_y_de_mean', 'gaze_angle_y_de_std',\n",
       "       'gaze_angle_y_de_de_mean', 'gaze_angle_y_de_de_std', 'pose_Tx_de_mean',\n",
       "       'pose_Tx_de_std', 'pose_Tx_de_de_mean', 'pose_Tx_de_de_std',\n",
       "       'pose_Ty_de_mean', 'pose_Ty_de_std', 'pose_Ty_de_de_mean',\n",
       "       'pose_Ty_de_de_std', 'pose_Tz_de_mean', 'pose_Tz_de_std',\n",
       "       'pose_Tz_de_de_mean', 'pose_Tz_de_de_std', 'pose_Rx_de_mean',\n",
       "       'pose_Rx_de_std', 'pose_Rx_de_de_mean', 'pose_Rx_de_de_std',\n",
       "       'pose_Ry_de_mean', 'pose_Ry_de_std', 'pose_Ry_de_de_mean',\n",
       "       'pose_Ry_de_de_std', 'pose_Rz_de_mean', 'pose_Rz_de_std',\n",
       "       'pose_Rz_de_de_mean', 'pose_Rz_de_de_std'],\n",
       "      dtype='object')"
      ]
     },
     "metadata": {},
     "execution_count": 25
    }
   ],
   "source": [
    "pd.options.display.max_seq_items = 2000\n",
    "df_total.columns"
   ]
  },
  {
   "cell_type": "code",
   "execution_count": 26,
   "metadata": {},
   "outputs": [],
   "source": [
    "x = df_total.drop(['video_name','stress_global'], axis = 1)\n",
    "x.sexe = x.sexe.replace('H',0)\n",
    "x.sexe = x.sexe.replace('F',1)\n",
    "\n",
    "y = df_total[['stress_global']]"
   ]
  },
  {
   "cell_type": "code",
   "execution_count": 27,
   "metadata": {},
   "outputs": [
    {
     "output_type": "execute_result",
     "data": {
      "text/plain": [
       "(29, 195)"
      ]
     },
     "metadata": {},
     "execution_count": 27
    }
   ],
   "source": [
    "pd.options.display.max_seq_items = 2000\n",
    "x.shape"
   ]
  },
  {
   "cell_type": "code",
   "execution_count": 28,
   "metadata": {},
   "outputs": [],
   "source": [
    "from sklearn.linear_model import LogisticRegression\n",
    "from sklearn.neighbors import KNeighborsClassifier\n",
    "from sklearn.ensemble import RandomForestClassifier\n",
    "from sklearn.model_selection import LeaveOneGroupOut\n",
    "from sklearn.decomposition import PCA\n",
    "from sklearn.pipeline import Pipeline\n",
    "\n",
    "pca = PCA()\n",
    "pipe = Pipeline(steps=[('pca', pca), ('logistic', LogisticRegression(multi_class='multinomial', fit_intercept=True, random_state=42))])\n",
    "\n",
    "models_list = [\n",
    "                LogisticRegression(multi_class='multinomial', fit_intercept=True, random_state=42),\n",
    "                Pipeline(steps=[('pca', pca), ('logistic', LogisticRegression(multi_class='multinomial', fit_intercept=True))]),\n",
    "                KNeighborsClassifier(),\n",
    "                Pipeline(steps=[('pca', pca), ('knn', KNeighborsClassifier())]),\n",
    "                RandomForestClassifier(random_state = 42, n_jobs=-1)\n",
    "                ]\n",
    "\n",
    "parameters_list = [\n",
    "                    {'C': [0.01, 0.05, 0.1, 0.5, 1, 2, 3, 4 , 5, 10], 'class_weight' : [None, 'balanced']},\n",
    "                    {'pca__n_components': [1, 2, 3, 4],\n",
    "                        'logistic__C': [0.01, 0.05, 0.1, 0.5, 1, 2, 3, 4 , 5, 10], 'logistic__class_weight' : [None, 'balanced']},\n",
    "                    {'n_neighbors': [4, 5, 6, 7, 8, 9, 10, 11, 12,  15, 20], 'weights' : ['uniform', 'distance'], 'p': [1, 2]},\n",
    "                    {'pca__n_components': [1, 2, 3, 4],\n",
    "                        'knn__n_neighbors': [4, 5, 6, 7, 8, 9, 10, 11, 12,  15, 20], 'knn__weights' : ['uniform', 'distance'],                              'knn__p': [1, 2]},\n",
    "                    {'n_estimators': [50, 100, 150, 200], 'max_depth':[3, 4, 5, 6, 10, 15, 20], 'class_weight':[None,'balanced']}\n",
    "                    ]\n",
    "\n"
   ]
  },
  {
   "cell_type": "code",
   "execution_count": 30,
   "metadata": {},
   "outputs": [],
   "source": [
    "def runGridSearchClassifiers(X, y, cv, models_list, parameters_list, output_predict = True, n_jobs=1, verbose=1):\n",
    "\n",
    "    \n",
    "\n",
    "    from sklearn.model_selection import cross_val_predict, GridSearchCV\n",
    "    from sklearn.metrics import f1_score, accuracy_score\n",
    "    import types\n",
    "    import warnings\n",
    "    warnings.filterwarnings(\"ignore\")\n",
    "    result_list = []\n",
    "    best_result = {}\n",
    "    best_score = 0\n",
    "    X_no_name = X\n",
    "    y_no_name = y\n",
    "    \n",
    "    if len(models_list) != len(parameters_list):\n",
    "        print('Error: models and parameters lists do not have the same length', len(models_list), len(parameters_list))\n",
    "        return -1\n",
    "    \n",
    "    if isinstance(cv, types.GeneratorType):\n",
    "        cv = list(cv)\n",
    "\n",
    "    for model, parameters in zip(models_list,parameters_list):\n",
    "        result = {}\n",
    "        #cv_temp = cv\n",
    "        clf = GridSearchCV(estimator=model, \n",
    "                            param_grid=parameters, \n",
    "                            scoring={'accuracy_score' : 'accuracy', 'f1_score' : 'f1_weighted',\n",
    "                                    'balanced_accuracy_score' : 'balanced_accuracy', \n",
    "                                    'precision' : 'precision_weighted', 'recall' : 'recall_weighted'}, \n",
    "                            refit='f1_score',\n",
    "                            cv=cv, n_jobs=n_jobs, verbose=verbose)\n",
    "        clf.fit(X_no_name, y_no_name)\n",
    "        result['best_estimator'] = clf.best_estimator_\n",
    "        result['best_score'] = clf.best_score_\n",
    "        result['best_params'] = clf.best_params_\n",
    "        result['mean_test_f1_score'] = clf.cv_results_['mean_test_f1_score'][clf.best_index_]\n",
    "        result['std_test_f1_score'] = clf.cv_results_['std_test_f1_score'][clf.best_index_]\n",
    "        result['mean_test_accuracy_score'] = clf.cv_results_['mean_test_accuracy_score'][clf.best_index_]\n",
    "        result['std_test_accuracy_score'] = clf.cv_results_['std_test_accuracy_score'][clf.best_index_]\n",
    "        result['mean_test_balanced_accuracy_score'] = clf.cv_results_['mean_test_balanced_accuracy_score'][clf.best_index_]\n",
    "        result['std_test_balanced_accuracy_score'] = clf.cv_results_['std_test_balanced_accuracy_score'][clf.best_index_]\n",
    "        result['mean_test_precision'] = clf.cv_results_['mean_test_precision'][clf.best_index_]\n",
    "        result['std_test_precision'] = clf.cv_results_['std_test_precision'][clf.best_index_]\n",
    "        result['mean_test_recall'] = clf.cv_results_['mean_test_recall'][clf.best_index_]\n",
    "        result['std_test_recall'] = clf.cv_results_['std_test_recall'][clf.best_index_]\n",
    "        result_list.append(result)\n",
    "        if result['best_score'] > best_score:\n",
    "            best_score = result['best_score']\n",
    "            best_result = result\n",
    "\n",
    "        if verbose:\n",
    "            print('Best estimator', clf.best_estimator_)\n",
    "            print('Best results', clf.best_score_)\n",
    "            print('Best params', clf.best_params_)\n",
    "            print('accuracy (mean, std)', clf.cv_results_['mean_test_accuracy_score'][clf.best_index_], \n",
    "                    clf.cv_results_['std_test_accuracy_score'][clf.best_index_])\n",
    "            print('f1 (mean, std)', clf.cv_results_['mean_test_f1_score'][clf.best_index_], \n",
    "                    clf.cv_results_['std_test_f1_score'][clf.best_index_])\n",
    "            print('balanced accuracy (mean, std)', clf.cv_results_['mean_test_balanced_accuracy_score'][clf.best_index_],                               clf.cv_results_['std_test_balanced_accuracy_score'][clf.best_index_])\n",
    "            print('precision (mean, std)', clf.cv_results_['mean_test_precision'][clf.best_index_], \n",
    "                    clf.cv_results_['std_test_precision'][clf.best_index_])\n",
    "            print('recall (mean, std)', clf.cv_results_['mean_test_recall'][clf.best_index_], \n",
    "                    clf.cv_results_['std_test_recall'][clf.best_index_])\n",
    "            print()\n",
    "    \n",
    "    if output_predict:\n",
    "        y_predict = cross_val_predict(best_result['best_estimator'],X_no_name,y_no_name,cv=cv)\n",
    "        y_predict_proba = ''\n",
    "        print('f1_score (weighted)',f1_score(y,y_predict, average='weighted'))\n",
    "        print('accuracy',accuracy_score(y,y_predict))\n",
    "    else:\n",
    "        y_predict = None\n",
    "\n",
    "    return best_result,  y_predict, y_predict_proba, result_list\n"
   ]
  },
  {
   "cell_type": "code",
   "execution_count": 31,
   "metadata": {},
   "outputs": [
    {
     "output_type": "stream",
     "name": "stdout",
     "text": [
      "Fitting 5 folds for each of 20 candidates, totalling 100 fits\n",
      "Best estimator LogisticRegression(C=1, class_weight='balanced', multi_class='multinomial',\n",
      "                   random_state=42)\n",
      "Best results 0.5444444444444444\n",
      "Best params {'C': 1, 'class_weight': 'balanced'}\n",
      "accuracy (mean, std) 0.5599999999999999 0.15972198067614587\n",
      "f1 (mean, std) 0.5444444444444444 0.15022616694360505\n",
      "balanced accuracy (mean, std) 0.5555555555555556 0.12668615834434865\n",
      "precision (mean, std) 0.5900000000000001 0.18607047649270486\n",
      "recall (mean, std) 0.5599999999999999 0.15972198067614587\n",
      "\n",
      "Fitting 5 folds for each of 80 candidates, totalling 400 fits\n",
      "Best estimator Pipeline(steps=[('pca', PCA(n_components=4)),\n",
      "                ('logistic',\n",
      "                 LogisticRegression(C=1, multi_class='multinomial'))])\n",
      "Best results 0.48965079365079367\n",
      "Best params {'logistic__C': 1, 'logistic__class_weight': None, 'pca__n_components': 4}\n",
      "accuracy (mean, std) 0.5199999999999999 0.11274356350191841\n",
      "f1 (mean, std) 0.48965079365079367 0.12464635385704786\n",
      "balanced accuracy (mean, std) 0.5333333333333333 0.11439589045541111\n",
      "precision (mean, std) 0.5322222222222222 0.15699335521048946\n",
      "recall (mean, std) 0.5199999999999999 0.11274356350191841\n",
      "\n",
      "Fitting 5 folds for each of 44 candidates, totalling 220 fits\n",
      "Best estimator KNeighborsClassifier(n_neighbors=6, p=1)\n",
      "Best results 0.4514285714285714\n",
      "Best params {'n_neighbors': 6, 'p': 1, 'weights': 'uniform'}\n",
      "accuracy (mean, std) 0.48666666666666664 0.13597385369580758\n",
      "f1 (mean, std) 0.4514285714285714 0.15683503601248683\n",
      "balanced accuracy (mean, std) 0.4888888888888888 0.14656562175858798\n",
      "precision (mean, std) 0.4522222222222222 0.16694791085327063\n",
      "recall (mean, std) 0.48666666666666664 0.13597385369580758\n",
      "\n",
      "Fitting 5 folds for each of 176 candidates, totalling 880 fits\n",
      "Best estimator Pipeline(steps=[('pca', PCA(n_components=1)),\n",
      "                ('knn', KNeighborsClassifier(p=1))])\n",
      "Best results 0.5511111111111111\n",
      "Best params {'knn__n_neighbors': 5, 'knn__p': 1, 'knn__weights': 'uniform', 'pca__n_components': 1}\n",
      "accuracy (mean, std) 0.6 0.24944382578492943\n",
      "f1 (mean, std) 0.5511111111111111 0.2935184601004732\n",
      "balanced accuracy (mean, std) 0.5777777777777777 0.24745619390355653\n",
      "precision (mean, std) 0.5777777777777777 0.3344425987398314\n",
      "recall (mean, std) 0.6 0.24944382578492943\n",
      "\n",
      "Fitting 5 folds for each of 56 candidates, totalling 280 fits\n",
      "Best estimator RandomForestClassifier(max_depth=4, n_estimators=50, n_jobs=-1, random_state=42)\n",
      "Best results 0.49822222222222223\n",
      "Best params {'class_weight': None, 'max_depth': 4, 'n_estimators': 50}\n",
      "accuracy (mean, std) 0.48666666666666664 0.17204650534085253\n",
      "f1 (mean, std) 0.49822222222222223 0.17475994116798346\n",
      "balanced accuracy (mean, std) 0.4888888888888888 0.18053418676968802\n",
      "precision (mean, std) 0.5511111111111111 0.19520170005331333\n",
      "recall (mean, std) 0.48666666666666664 0.17204650534085253\n",
      "\n",
      "f1_score (weighted) 0.5587313295224046\n",
      "accuracy 0.5862068965517241\n"
     ]
    }
   ],
   "source": [
    "best_result_glob, y_predict_glob, y_proba, result_list_glob = runGridSearchClassifiers(x, y, 5, models_list, parameters_list,output_predict=True, n_jobs=-1, verbose=True)"
   ]
  },
  {
   "cell_type": "code",
   "execution_count": 32,
   "metadata": {},
   "outputs": [
    {
     "output_type": "execute_result",
     "data": {
      "text/plain": [
       "{'best_estimator': Pipeline(steps=[('pca', PCA(n_components=1)),\n",
       "                 ('knn', KNeighborsClassifier(p=1))]),\n",
       " 'best_score': 0.5511111111111111,\n",
       " 'best_params': {'knn__n_neighbors': 5,\n",
       "  'knn__p': 1,\n",
       "  'knn__weights': 'uniform',\n",
       "  'pca__n_components': 1},\n",
       " 'mean_test_f1_score': 0.5511111111111111,\n",
       " 'std_test_f1_score': 0.2935184601004732,\n",
       " 'mean_test_accuracy_score': 0.6,\n",
       " 'std_test_accuracy_score': 0.24944382578492943,\n",
       " 'mean_test_balanced_accuracy_score': 0.5777777777777777,\n",
       " 'std_test_balanced_accuracy_score': 0.24745619390355653,\n",
       " 'mean_test_precision': 0.5777777777777777,\n",
       " 'std_test_precision': 0.3344425987398314,\n",
       " 'mean_test_recall': 0.6,\n",
       " 'std_test_recall': 0.24944382578492943}"
      ]
     },
     "metadata": {},
     "execution_count": 32
    }
   ],
   "source": [
    "best_result_glob"
   ]
  },
  {
   "cell_type": "code",
   "execution_count": 25,
   "metadata": {},
   "outputs": [
    {
     "output_type": "execute_result",
     "data": {
      "text/plain": [
       "array([1., 1., 1., 1., 0., 2., 0., 2., 1., 0., 0., 0., 0., 0., 1., 0., 0.,\n",
       "       2., 0., 1., 0., 0., 0., 0., 2., 1., 0., 1., 0.])"
      ]
     },
     "metadata": {},
     "execution_count": 25
    }
   ],
   "source": [
    "y_predict_glob"
   ]
  },
  {
   "cell_type": "code",
   "execution_count": 33,
   "metadata": {},
   "outputs": [],
   "source": [
    "## SANS SPATIAL"
   ]
  },
  {
   "cell_type": "code",
   "execution_count": 33,
   "metadata": {},
   "outputs": [],
   "source": [
    "spatial_features = ['gaze_0_x_de_mean',\n",
    "       'gaze_0_x_de_std', 'gaze_0_x_de_de_mean', 'gaze_0_x_de_de_std',\n",
    "       'gaze_0_y_de_mean', 'gaze_0_y_de_std', 'gaze_0_y_de_de_mean',\n",
    "       'gaze_0_y_de_de_std', 'gaze_0_z_de_mean', 'gaze_0_z_de_std',\n",
    "       'gaze_0_z_de_de_mean', 'gaze_0_z_de_de_std', 'gaze_1_x_de_mean',\n",
    "       'gaze_1_x_de_std', 'gaze_1_x_de_de_mean', 'gaze_1_x_de_de_std',\n",
    "       'gaze_1_y_de_mean', 'gaze_1_y_de_std', 'gaze_1_y_de_de_mean',\n",
    "       'gaze_1_y_de_de_std', 'gaze_1_z_de_mean', 'gaze_1_z_de_std',\n",
    "       'gaze_1_z_de_de_mean', 'gaze_1_z_de_de_std', 'gaze_angle_x_de_mean',\n",
    "       'gaze_angle_x_de_std', 'gaze_angle_x_de_de_mean',\n",
    "       'gaze_angle_x_de_de_std', 'gaze_angle_y_de_mean', 'gaze_angle_y_de_std',\n",
    "       'gaze_angle_y_de_de_mean', 'gaze_angle_y_de_de_std', 'pose_Tx_de_mean',\n",
    "       'pose_Tx_de_std', 'pose_Tx_de_de_mean', 'pose_Tx_de_de_std',\n",
    "       'pose_Ty_de_mean', 'pose_Ty_de_std', 'pose_Ty_de_de_mean',\n",
    "       'pose_Ty_de_de_std', 'pose_Tz_de_mean', 'pose_Tz_de_std',\n",
    "       'pose_Tz_de_de_mean', 'pose_Tz_de_de_std', 'pose_Rx_de_mean',\n",
    "       'pose_Rx_de_std', 'pose_Rx_de_de_mean', 'pose_Rx_de_de_std',\n",
    "       'pose_Ry_de_mean', 'pose_Ry_de_std', 'pose_Ry_de_de_mean',\n",
    "       'pose_Ry_de_de_std', 'pose_Rz_de_mean', 'pose_Rz_de_std',\n",
    "       'pose_Rz_de_de_mean', 'pose_Rz_de_de_std']"
   ]
  },
  {
   "cell_type": "code",
   "execution_count": 36,
   "metadata": {},
   "outputs": [
    {
     "output_type": "execute_result",
     "data": {
      "text/plain": [
       "Index(['sexe', 'AU01_r_mean', 'AU01_r_std', 'AU02_r_mean', 'AU02_r_std',\n",
       "       'AU04_r_mean', 'AU04_r_std', 'AU05_r_mean', 'AU05_r_std', 'AU06_r_mean',\n",
       "       'AU06_r_std', 'AU07_r_mean', 'AU07_r_std', 'AU09_r_mean', 'AU09_r_std',\n",
       "       'AU10_r_mean', 'AU10_r_std', 'AU12_r_mean', 'AU12_r_std', 'AU14_r_mean',\n",
       "       'AU14_r_std', 'AU15_r_mean', 'AU15_r_std', 'AU17_r_mean', 'AU17_r_std',\n",
       "       'AU20_r_mean', 'AU20_r_std', 'AU23_r_mean', 'AU23_r_std', 'AU25_r_mean',\n",
       "       'AU25_r_std', 'AU26_r_mean', 'AU26_r_std', 'AU45_r_mean', 'AU45_r_std',\n",
       "       'AU01_c_mean', 'AU01_c_std', 'AU02_c_mean', 'AU02_c_std', 'AU04_c_mean',\n",
       "       'AU04_c_std', 'AU05_c_mean', 'AU05_c_std', 'AU06_c_mean', 'AU06_c_std',\n",
       "       'AU07_c_mean', 'AU07_c_std', 'AU09_c_mean', 'AU09_c_std', 'AU10_c_mean',\n",
       "       'AU10_c_std', 'AU12_c_mean', 'AU12_c_std', 'AU14_c_mean', 'AU14_c_std',\n",
       "       'AU15_c_mean', 'AU15_c_std', 'AU17_c_mean', 'AU17_c_std', 'AU20_c_mean',\n",
       "       'AU20_c_std', 'AU23_c_mean', 'AU23_c_std', 'AU25_c_mean', 'AU25_c_std',\n",
       "       'AU26_c_mean', 'AU26_c_std', 'AU28_c_mean', 'AU28_c_std', 'AU45_c_mean',\n",
       "       'AU45_c_std', 'AU01_r_de_mean', 'AU01_r_de_std', 'AU01_r_de_de_mean',\n",
       "       'AU01_r_de_de_std', 'AU02_r_de_mean', 'AU02_r_de_std',\n",
       "       'AU02_r_de_de_mean', 'AU02_r_de_de_std', 'AU04_r_de_mean',\n",
       "       'AU04_r_de_std', 'AU04_r_de_de_mean', 'AU04_r_de_de_std',\n",
       "       'AU05_r_de_mean', 'AU05_r_de_std', 'AU05_r_de_de_mean',\n",
       "       'AU05_r_de_de_std', 'AU06_r_de_mean', 'AU06_r_de_std',\n",
       "       'AU06_r_de_de_mean', 'AU06_r_de_de_std', 'AU07_r_de_mean',\n",
       "       'AU07_r_de_std', 'AU07_r_de_de_mean', 'AU07_r_de_de_std',\n",
       "       'AU09_r_de_mean', 'AU09_r_de_std', 'AU09_r_de_de_mean',\n",
       "       'AU09_r_de_de_std', 'AU10_r_de_mean', 'AU10_r_de_std',\n",
       "       'AU10_r_de_de_mean', 'AU10_r_de_de_std', 'AU12_r_de_mean',\n",
       "       'AU12_r_de_std', 'AU12_r_de_de_mean', 'AU12_r_de_de_std',\n",
       "       'AU14_r_de_mean', 'AU14_r_de_std', 'AU14_r_de_de_mean',\n",
       "       'AU14_r_de_de_std', 'AU15_r_de_mean', 'AU15_r_de_std',\n",
       "       'AU15_r_de_de_mean', 'AU15_r_de_de_std', 'AU17_r_de_mean',\n",
       "       'AU17_r_de_std', 'AU17_r_de_de_mean', 'AU17_r_de_de_std',\n",
       "       'AU20_r_de_mean', 'AU20_r_de_std', 'AU20_r_de_de_mean',\n",
       "       'AU20_r_de_de_std', 'AU23_r_de_mean', 'AU23_r_de_std',\n",
       "       'AU23_r_de_de_mean', 'AU23_r_de_de_std', 'AU25_r_de_mean',\n",
       "       'AU25_r_de_std', 'AU25_r_de_de_mean', 'AU25_r_de_de_std',\n",
       "       'AU26_r_de_mean', 'AU26_r_de_std', 'AU26_r_de_de_mean',\n",
       "       'AU26_r_de_de_std', 'AU45_r_de_mean', 'AU45_r_de_std',\n",
       "       'AU45_r_de_de_mean', 'AU45_r_de_de_std'],\n",
       "      dtype='object')"
      ]
     },
     "metadata": {},
     "execution_count": 36
    }
   ],
   "source": [
    "x_only_AUC = x.drop(spatial_features, axis =1)\n",
    "x_only_AUC.columns"
   ]
  },
  {
   "cell_type": "code",
   "execution_count": 37,
   "metadata": {},
   "outputs": [],
   "source": [
    "from sklearn.linear_model import LogisticRegression\n",
    "from sklearn.neighbors import KNeighborsClassifier\n",
    "from sklearn.ensemble import RandomForestClassifier\n",
    "from sklearn.model_selection import LeaveOneGroupOut\n",
    "from sklearn.decomposition import PCA\n",
    "from sklearn.pipeline import Pipeline\n",
    "\n",
    "pca = PCA()\n",
    "pipe = Pipeline(steps=[('pca', pca), ('logistic', LogisticRegression(multi_class='multinomial', fit_intercept=True, random_state=42))])\n",
    "\n",
    "models_list = [\n",
    "                LogisticRegression(multi_class='multinomial', fit_intercept=True, random_state=42),\n",
    "                Pipeline(steps=[('pca', pca), ('logistic', LogisticRegression(multi_class='multinomial', fit_intercept=True))]),\n",
    "                KNeighborsClassifier(),\n",
    "                Pipeline(steps=[('pca', pca), ('knn', KNeighborsClassifier())]),\n",
    "                RandomForestClassifier(random_state = 42, n_jobs=-1)\n",
    "                ]\n",
    "\n",
    "parameters_list = [\n",
    "                    {'C': [0.01, 0.05, 0.1, 0.5, 1, 2, 3, 4 , 5, 10], 'class_weight' : [None, 'balanced']},\n",
    "                    {'pca__n_components': [1, 2, 3, 4],\n",
    "                        'logistic__C': [0.01, 0.05, 0.1, 0.5, 1, 2, 3, 4 , 5, 10], 'logistic__class_weight' : [None, 'balanced']},\n",
    "                    {'n_neighbors': [4, 5, 6, 7, 8, 9, 10, 11, 12,  15, 20], 'weights' : ['uniform', 'distance'], 'p': [1, 2]},\n",
    "                    {'pca__n_components': [1, 2, 3, 4],\n",
    "                        'knn__n_neighbors': [4, 5, 6, 7, 8, 9, 10, 11, 12,  15, 20], 'knn__weights' : ['uniform', 'distance'],                              'knn__p': [1, 2]},\n",
    "                    {'n_estimators': [50, 100, 150, 200], 'max_depth':[3, 4, 5, 6, 10, 15, 20], 'class_weight':[None,'balanced']}\n",
    "                    ]\n"
   ]
  },
  {
   "cell_type": "code",
   "execution_count": 38,
   "metadata": {},
   "outputs": [
    {
     "output_type": "stream",
     "name": "stdout",
     "text": [
      "Fitting 5 folds for each of 20 candidates, totalling 100 fits\n",
      "Best estimator LogisticRegression(C=0.5, multi_class='multinomial', random_state=42)\n",
      "Best results 0.5222222222222223\n",
      "Best params {'C': 0.5, 'class_weight': None}\n",
      "accuracy (mean, std) 0.52 0.1869046102516825\n",
      "f1 (mean, std) 0.5222222222222223 0.18973665961010278\n",
      "balanced accuracy (mean, std) 0.4666666666666667 0.19436506316151003\n",
      "precision (mean, std) 0.5700000000000001 0.21162510528097836\n",
      "recall (mean, std) 0.52 0.1869046102516825\n",
      "\n",
      "Fitting 5 folds for each of 80 candidates, totalling 400 fits\n",
      "Best estimator Pipeline(steps=[('pca', PCA(n_components=3)),\n",
      "                ('logistic',\n",
      "                 LogisticRegression(C=1, multi_class='multinomial'))])\n",
      "Best results 0.4337777777777777\n",
      "Best params {'logistic__C': 1, 'logistic__class_weight': None, 'pca__n_components': 3}\n",
      "accuracy (mean, std) 0.44666666666666666 0.1641137816678823\n",
      "f1 (mean, std) 0.4337777777777777 0.174951986358727\n",
      "balanced accuracy (mean, std) 0.4222222222222222 0.20367003088692623\n",
      "precision (mean, std) 0.4422222222222222 0.20004937662092265\n",
      "recall (mean, std) 0.44666666666666666 0.1641137816678823\n",
      "\n",
      "Fitting 5 folds for each of 44 candidates, totalling 220 fits\n",
      "Best estimator KNeighborsClassifier(n_neighbors=10, weights='distance')\n",
      "Best results 0.4917460317460317\n",
      "Best params {'n_neighbors': 10, 'p': 2, 'weights': 'distance'}\n",
      "accuracy (mean, std) 0.5199999999999999 0.1869046102516825\n",
      "f1 (mean, std) 0.4917460317460317 0.20329956474609365\n",
      "balanced accuracy (mean, std) 0.4333333333333333 0.19999999999999998\n",
      "precision (mean, std) 0.5400000000000001 0.27940412786261176\n",
      "recall (mean, std) 0.5199999999999999 0.1869046102516825\n",
      "\n",
      "Fitting 5 folds for each of 176 candidates, totalling 880 fits\n",
      "Best estimator Pipeline(steps=[('pca', PCA(n_components=3)), ('knn', KNeighborsClassifier())])\n",
      "Best results 0.3705555555555556\n",
      "Best params {'knn__n_neighbors': 5, 'knn__p': 2, 'knn__weights': 'uniform', 'pca__n_components': 3}\n",
      "accuracy (mean, std) 0.48 0.1127435635019184\n",
      "f1 (mean, std) 0.3705555555555556 0.12518678410514447\n",
      "balanced accuracy (mean, std) 0.4111111111111111 0.15555555555555553\n",
      "precision (mean, std) 0.33555555555555555 0.13938134916059308\n",
      "recall (mean, std) 0.48 0.1127435635019184\n",
      "\n",
      "Fitting 5 folds for each of 56 candidates, totalling 280 fits\n",
      "Best estimator RandomForestClassifier(max_depth=4, n_jobs=-1, random_state=42)\n",
      "Best results 0.434984126984127\n",
      "Best params {'class_weight': None, 'max_depth': 4, 'n_estimators': 100}\n",
      "accuracy (mean, std) 0.43999999999999995 0.15972198067614585\n",
      "f1 (mean, std) 0.434984126984127 0.1484153840687315\n",
      "balanced accuracy (mean, std) 0.4333333333333334 0.20306296536107848\n",
      "precision (mean, std) 0.47555555555555545 0.14561915489249666\n",
      "recall (mean, std) 0.43999999999999995 0.15972198067614585\n",
      "\n",
      "f1_score (weighted) 0.5137256935442054\n",
      "accuracy 0.5172413793103449\n"
     ]
    }
   ],
   "source": [
    "best_result_glob_au, y_predict_glob_au, y_proba, result_list_glob_au = runGridSearchClassifiers(x_only_AUC, y, 5, models_list, parameters_list,output_predict=True, n_jobs=-1, verbose=True)"
   ]
  },
  {
   "cell_type": "code",
   "execution_count": 39,
   "metadata": {},
   "outputs": [
    {
     "output_type": "execute_result",
     "data": {
      "text/plain": [
       "{'best_estimator': LogisticRegression(C=0.5, multi_class='multinomial', random_state=42),\n",
       " 'best_score': 0.5222222222222223,\n",
       " 'best_params': {'C': 0.5, 'class_weight': None},\n",
       " 'mean_test_f1_score': 0.5222222222222223,\n",
       " 'std_test_f1_score': 0.18973665961010278,\n",
       " 'mean_test_accuracy_score': 0.52,\n",
       " 'std_test_accuracy_score': 0.1869046102516825,\n",
       " 'mean_test_balanced_accuracy_score': 0.4666666666666667,\n",
       " 'std_test_balanced_accuracy_score': 0.19436506316151003,\n",
       " 'mean_test_precision': 0.5700000000000001,\n",
       " 'std_test_precision': 0.21162510528097836,\n",
       " 'mean_test_recall': 0.52,\n",
       " 'std_test_recall': 0.1869046102516825}"
      ]
     },
     "metadata": {},
     "execution_count": 39
    }
   ],
   "source": [
    "best_result_glob_au"
   ]
  },
  {
   "cell_type": "code",
   "execution_count": 40,
   "metadata": {},
   "outputs": [
    {
     "output_type": "execute_result",
     "data": {
      "text/plain": [
       "array([2., 0., 1., 0., 0., 1., 2., 2., 0., 0., 1., 1., 1., 1., 2., 0., 0.,\n",
       "       1., 1., 1., 0., 2., 0., 0., 0., 1., 0., 2., 0.])"
      ]
     },
     "metadata": {},
     "execution_count": 40
    }
   ],
   "source": [
    "y_predict_glob_au"
   ]
  },
  {
   "cell_type": "code",
   "execution_count": null,
   "metadata": {},
   "outputs": [],
   "source": []
  },
  {
   "cell_type": "code",
   "execution_count": null,
   "metadata": {},
   "outputs": [],
   "source": []
  },
  {
   "cell_type": "code",
   "execution_count": null,
   "metadata": {},
   "outputs": [],
   "source": []
  }
 ],
 "metadata": {
  "kernelspec": {
   "name": "python3",
   "display_name": "Python 3.7.6 64-bit ('base': conda)"
  },
  "language_info": {
   "codemirror_mode": {
    "name": "ipython",
    "version": 3
   },
   "file_extension": ".py",
   "mimetype": "text/x-python",
   "name": "python",
   "nbconvert_exporter": "python",
   "pygments_lexer": "ipython3",
   "version": "3.7.6"
  },
  "interpreter": {
   "hash": "dd1cf4766d5d9df855e04619ca954236457012a0dce4d3d89890d807f4ecf8a5"
  }
 },
 "nbformat": 4,
 "nbformat_minor": 4
}