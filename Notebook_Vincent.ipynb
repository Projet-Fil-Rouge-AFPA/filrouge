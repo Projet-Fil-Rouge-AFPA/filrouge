{
 "metadata": {
  "language_info": {
   "codemirror_mode": {
    "name": "ipython",
    "version": 3
   },
   "file_extension": ".py",
   "mimetype": "text/x-python",
   "name": "python",
   "nbconvert_exporter": "python",
   "pygments_lexer": "ipython3",
   "version": "3.8.3-final"
  },
  "orig_nbformat": 2,
  "kernelspec": {
   "name": "python383jvsc74a57bd0407318ab8a71c1edb50740ee323cc7307e05568546678b79c25c054004b7234a",
   "display_name": "Python 3.8.3 64-bit (conda)"
  }
 },
 "nbformat": 4,
 "nbformat_minor": 2,
 "cells": [
  {
   "cell_type": "code",
   "execution_count": 1,
   "metadata": {},
   "outputs": [],
   "source": [
    "import os\n",
    "import subprocess\n",
    "import pandas as pd\n",
    "import platform\n",
    "import pathlib\n",
    "import requests\n",
    "from io import StringIO\n",
    "import numpy as np\n",
    "from annotations import *\n",
    "from extract_video_features import *"
   ]
  },
  {
   "cell_type": "code",
   "execution_count": 2,
   "metadata": {},
   "outputs": [],
   "source": [
    "filename_annotations ='https://docs.google.com/spreadsheets/d/1Rqu1sJiD-ogc4a6R491JTiaYacptOTqh6DKqhwTa8NA/gviz/tq?tqx=out:csv&sheet=Template'\n",
    "features_folder = 'C:/Users/vince/Documents/TELECOM/Fil_Rouge/OpenFace/OpenFace_2.2.0/processed/'\n",
    "video_folder = 'C:/Users/vince/Documents/TELECOM/Fil_Rouge/VideoAFPA'"
   ]
  },
  {
   "cell_type": "code",
   "execution_count": 3,
   "metadata": {},
   "outputs": [],
   "source": [
    "video_names = [x.replace('.mp4','') for x in os.listdir(video_folder)]\n",
    "video_names.remove('WIN_20210329_14_13_45_Pro')\n",
    "video_names.remove('WIN_20210407_14_54_56_Pro_edit')\n",
    "video_names.remove('WIN_20210403_18_49_15_Pro')\n",
    "video_names.remove('WIN_20210407_15_02_22_Pro')"
   ]
  },
  {
   "cell_type": "code",
   "execution_count": 4,
   "metadata": {},
   "outputs": [],
   "source": [
    "features_to_keep = [\n",
    "#'frame','face_id','timestamp','confidence','success',\n",
    "'AU01_r', 'AU02_r', 'AU04_r', 'AU05_r', 'AU06_r', 'AU07_r', 'AU09_r', 'AU10_r', 'AU12_r', 'AU14_r', 'AU15_r', 'AU17_r', 'AU20_r', 'AU23_r', 'AU25_r', 'AU26_r', 'AU45_r',\n",
    "'AU01_c', 'AU02_c', 'AU04_c', 'AU05_c', 'AU06_c', 'AU07_c', 'AU09_c', 'AU10_c', 'AU12_c', 'AU14_c', 'AU15_c', 'AU17_c', 'AU20_c', 'AU23_c', 'AU25_c', 'AU26_c', 'AU28_c', 'AU45_c',\n",
    "#'pose_Rx', 'pose_Ry', 'pose_Rz',\n",
    "#'gaze_angle_x', 'gaze_angle_y',\n",
    "'type_candidat','sexe',\n",
    "'video_name','stress_global','stress','diapo'\n",
    "]"
   ]
  },
  {
   "cell_type": "code",
   "execution_count": 15,
   "metadata": {},
   "outputs": [],
   "source": [
    "list_df = []\n",
    "for v_name in video_names:\n",
    "    df_annoted = get_df_video_with_annotations(features_folder, v_name, filename_annotations)[features_to_keep]\n",
    "    list_df.append(df_annoted)"
   ]
  },
  {
   "cell_type": "code",
   "execution_count": 16,
   "metadata": {},
   "outputs": [
    {
     "output_type": "execute_result",
     "data": {
      "text/plain": [
       "                    video_name  stress_global  stress  diapo    AU01_r  \\\n",
       "0    WIN_20210323_19_17_40_Pro              1       0      8  0.243693   \n",
       "1    WIN_20210323_19_17_40_Pro              1       1      1  0.017888   \n",
       "2    WIN_20210323_19_17_40_Pro              1       1      9  0.858888   \n",
       "3    WIN_20210323_19_17_40_Pro              1       1     10  1.886323   \n",
       "4    WIN_20210323_19_17_40_Pro              1       1     11  1.946727   \n",
       "..                         ...            ...     ...    ...       ...   \n",
       "179  WIN_20210417_14_53_12_Pro              0       0     10  0.305747   \n",
       "180  WIN_20210417_14_53_12_Pro              0       0     11  0.203982   \n",
       "181  WIN_20210417_14_53_12_Pro              0       1     12  0.356883   \n",
       "182  WIN_20210417_14_53_12_Pro              0       1     17  0.104461   \n",
       "183  WIN_20210417_14_53_12_Pro              0       2     18  0.047231   \n",
       "\n",
       "       AU02_r    AU04_r    AU05_r    AU06_r    AU07_r  ...    AU12_c  \\\n",
       "0    0.003493  0.689740  0.006313  0.011067  0.119907  ...  0.000000   \n",
       "1    0.005329  0.481358  0.056550  0.006495  0.026187  ...  0.000000   \n",
       "2    0.275893  0.553935  0.096836  0.098443  0.164491  ...  0.097035   \n",
       "3    1.042617  0.431980  0.121930  0.130602  0.129493  ...  0.105473   \n",
       "4    1.109892  0.317241  0.274298  0.053301  0.079083  ...  0.018763   \n",
       "..        ...       ...       ...       ...       ...  ...       ...   \n",
       "179  0.195752  0.218913  0.037692  0.222918  0.720764  ...  0.002978   \n",
       "180  0.097375  0.292386  0.051499  0.321697  0.989041  ...  0.001731   \n",
       "181  0.061600  0.395706  0.011831  0.277116  0.988301  ...  0.002064   \n",
       "182  0.011571  0.638750  0.054232  0.365562  1.489920  ...  0.000000   \n",
       "183  0.033862  1.030409  0.018835  0.194482  1.071493  ...  0.000000   \n",
       "\n",
       "       AU14_c    AU15_c    AU17_c    AU20_c    AU23_c    AU25_c    AU26_c  \\\n",
       "0    0.478000  0.019333  0.526667  0.148000  0.184667  0.514000  0.708667   \n",
       "1    0.721516  0.083962  0.051409  0.010917  0.124256  0.000000  0.007741   \n",
       "2    0.314690  0.007075  0.436995  0.034704  0.287736  0.789757  0.878706   \n",
       "3    0.322886  0.036816  0.385075  0.033333  0.311443  0.847264  0.872637   \n",
       "4    0.313412  0.097637  0.301251  0.059416  0.285962  0.668867  0.765810   \n",
       "..        ...       ...       ...       ...       ...       ...       ...   \n",
       "179  0.019355  0.173201  0.174690  0.129032  0.933499  0.145409  0.132506   \n",
       "180  0.003809  0.052632  0.049169  0.092452  0.930055  0.131579  0.074792   \n",
       "181  0.018167  0.000000  0.028902  0.218002  0.741949  0.183732  0.107969   \n",
       "182  0.067661  0.108945  0.329128  0.014908  0.994266  0.266055  0.331422   \n",
       "183  0.033414  0.045455  0.082781  0.106863  0.974413  0.040036  0.000000   \n",
       "\n",
       "       AU28_c    AU45_c  \n",
       "0    0.000000  0.342667  \n",
       "1    0.000000  0.304287  \n",
       "2    0.000000  0.378032  \n",
       "3    0.000000  0.379602  \n",
       "4    0.005559  0.259903  \n",
       "..        ...       ...  \n",
       "179  0.000000  0.159305  \n",
       "180  0.003809  0.168629  \n",
       "181  0.001032  0.124690  \n",
       "182  0.049312  0.232798  \n",
       "183  0.022878  0.024082  \n",
       "\n",
       "[184 rows x 39 columns]"
      ],
      "text/html": "<div>\n<style scoped>\n    .dataframe tbody tr th:only-of-type {\n        vertical-align: middle;\n    }\n\n    .dataframe tbody tr th {\n        vertical-align: top;\n    }\n\n    .dataframe thead th {\n        text-align: right;\n    }\n</style>\n<table border=\"1\" class=\"dataframe\">\n  <thead>\n    <tr style=\"text-align: right;\">\n      <th></th>\n      <th>video_name</th>\n      <th>stress_global</th>\n      <th>stress</th>\n      <th>diapo</th>\n      <th>AU01_r</th>\n      <th>AU02_r</th>\n      <th>AU04_r</th>\n      <th>AU05_r</th>\n      <th>AU06_r</th>\n      <th>AU07_r</th>\n      <th>...</th>\n      <th>AU12_c</th>\n      <th>AU14_c</th>\n      <th>AU15_c</th>\n      <th>AU17_c</th>\n      <th>AU20_c</th>\n      <th>AU23_c</th>\n      <th>AU25_c</th>\n      <th>AU26_c</th>\n      <th>AU28_c</th>\n      <th>AU45_c</th>\n    </tr>\n  </thead>\n  <tbody>\n    <tr>\n      <th>0</th>\n      <td>WIN_20210323_19_17_40_Pro</td>\n      <td>1</td>\n      <td>0</td>\n      <td>8</td>\n      <td>0.243693</td>\n      <td>0.003493</td>\n      <td>0.689740</td>\n      <td>0.006313</td>\n      <td>0.011067</td>\n      <td>0.119907</td>\n      <td>...</td>\n      <td>0.000000</td>\n      <td>0.478000</td>\n      <td>0.019333</td>\n      <td>0.526667</td>\n      <td>0.148000</td>\n      <td>0.184667</td>\n      <td>0.514000</td>\n      <td>0.708667</td>\n      <td>0.000000</td>\n      <td>0.342667</td>\n    </tr>\n    <tr>\n      <th>1</th>\n      <td>WIN_20210323_19_17_40_Pro</td>\n      <td>1</td>\n      <td>1</td>\n      <td>1</td>\n      <td>0.017888</td>\n      <td>0.005329</td>\n      <td>0.481358</td>\n      <td>0.056550</td>\n      <td>0.006495</td>\n      <td>0.026187</td>\n      <td>...</td>\n      <td>0.000000</td>\n      <td>0.721516</td>\n      <td>0.083962</td>\n      <td>0.051409</td>\n      <td>0.010917</td>\n      <td>0.124256</td>\n      <td>0.000000</td>\n      <td>0.007741</td>\n      <td>0.000000</td>\n      <td>0.304287</td>\n    </tr>\n    <tr>\n      <th>2</th>\n      <td>WIN_20210323_19_17_40_Pro</td>\n      <td>1</td>\n      <td>1</td>\n      <td>9</td>\n      <td>0.858888</td>\n      <td>0.275893</td>\n      <td>0.553935</td>\n      <td>0.096836</td>\n      <td>0.098443</td>\n      <td>0.164491</td>\n      <td>...</td>\n      <td>0.097035</td>\n      <td>0.314690</td>\n      <td>0.007075</td>\n      <td>0.436995</td>\n      <td>0.034704</td>\n      <td>0.287736</td>\n      <td>0.789757</td>\n      <td>0.878706</td>\n      <td>0.000000</td>\n      <td>0.378032</td>\n    </tr>\n    <tr>\n      <th>3</th>\n      <td>WIN_20210323_19_17_40_Pro</td>\n      <td>1</td>\n      <td>1</td>\n      <td>10</td>\n      <td>1.886323</td>\n      <td>1.042617</td>\n      <td>0.431980</td>\n      <td>0.121930</td>\n      <td>0.130602</td>\n      <td>0.129493</td>\n      <td>...</td>\n      <td>0.105473</td>\n      <td>0.322886</td>\n      <td>0.036816</td>\n      <td>0.385075</td>\n      <td>0.033333</td>\n      <td>0.311443</td>\n      <td>0.847264</td>\n      <td>0.872637</td>\n      <td>0.000000</td>\n      <td>0.379602</td>\n    </tr>\n    <tr>\n      <th>4</th>\n      <td>WIN_20210323_19_17_40_Pro</td>\n      <td>1</td>\n      <td>1</td>\n      <td>11</td>\n      <td>1.946727</td>\n      <td>1.109892</td>\n      <td>0.317241</td>\n      <td>0.274298</td>\n      <td>0.053301</td>\n      <td>0.079083</td>\n      <td>...</td>\n      <td>0.018763</td>\n      <td>0.313412</td>\n      <td>0.097637</td>\n      <td>0.301251</td>\n      <td>0.059416</td>\n      <td>0.285962</td>\n      <td>0.668867</td>\n      <td>0.765810</td>\n      <td>0.005559</td>\n      <td>0.259903</td>\n    </tr>\n    <tr>\n      <th>...</th>\n      <td>...</td>\n      <td>...</td>\n      <td>...</td>\n      <td>...</td>\n      <td>...</td>\n      <td>...</td>\n      <td>...</td>\n      <td>...</td>\n      <td>...</td>\n      <td>...</td>\n      <td>...</td>\n      <td>...</td>\n      <td>...</td>\n      <td>...</td>\n      <td>...</td>\n      <td>...</td>\n      <td>...</td>\n      <td>...</td>\n      <td>...</td>\n      <td>...</td>\n      <td>...</td>\n    </tr>\n    <tr>\n      <th>179</th>\n      <td>WIN_20210417_14_53_12_Pro</td>\n      <td>0</td>\n      <td>0</td>\n      <td>10</td>\n      <td>0.305747</td>\n      <td>0.195752</td>\n      <td>0.218913</td>\n      <td>0.037692</td>\n      <td>0.222918</td>\n      <td>0.720764</td>\n      <td>...</td>\n      <td>0.002978</td>\n      <td>0.019355</td>\n      <td>0.173201</td>\n      <td>0.174690</td>\n      <td>0.129032</td>\n      <td>0.933499</td>\n      <td>0.145409</td>\n      <td>0.132506</td>\n      <td>0.000000</td>\n      <td>0.159305</td>\n    </tr>\n    <tr>\n      <th>180</th>\n      <td>WIN_20210417_14_53_12_Pro</td>\n      <td>0</td>\n      <td>0</td>\n      <td>11</td>\n      <td>0.203982</td>\n      <td>0.097375</td>\n      <td>0.292386</td>\n      <td>0.051499</td>\n      <td>0.321697</td>\n      <td>0.989041</td>\n      <td>...</td>\n      <td>0.001731</td>\n      <td>0.003809</td>\n      <td>0.052632</td>\n      <td>0.049169</td>\n      <td>0.092452</td>\n      <td>0.930055</td>\n      <td>0.131579</td>\n      <td>0.074792</td>\n      <td>0.003809</td>\n      <td>0.168629</td>\n    </tr>\n    <tr>\n      <th>181</th>\n      <td>WIN_20210417_14_53_12_Pro</td>\n      <td>0</td>\n      <td>1</td>\n      <td>12</td>\n      <td>0.356883</td>\n      <td>0.061600</td>\n      <td>0.395706</td>\n      <td>0.011831</td>\n      <td>0.277116</td>\n      <td>0.988301</td>\n      <td>...</td>\n      <td>0.002064</td>\n      <td>0.018167</td>\n      <td>0.000000</td>\n      <td>0.028902</td>\n      <td>0.218002</td>\n      <td>0.741949</td>\n      <td>0.183732</td>\n      <td>0.107969</td>\n      <td>0.001032</td>\n      <td>0.124690</td>\n    </tr>\n    <tr>\n      <th>182</th>\n      <td>WIN_20210417_14_53_12_Pro</td>\n      <td>0</td>\n      <td>1</td>\n      <td>17</td>\n      <td>0.104461</td>\n      <td>0.011571</td>\n      <td>0.638750</td>\n      <td>0.054232</td>\n      <td>0.365562</td>\n      <td>1.489920</td>\n      <td>...</td>\n      <td>0.000000</td>\n      <td>0.067661</td>\n      <td>0.108945</td>\n      <td>0.329128</td>\n      <td>0.014908</td>\n      <td>0.994266</td>\n      <td>0.266055</td>\n      <td>0.331422</td>\n      <td>0.049312</td>\n      <td>0.232798</td>\n    </tr>\n    <tr>\n      <th>183</th>\n      <td>WIN_20210417_14_53_12_Pro</td>\n      <td>0</td>\n      <td>2</td>\n      <td>18</td>\n      <td>0.047231</td>\n      <td>0.033862</td>\n      <td>1.030409</td>\n      <td>0.018835</td>\n      <td>0.194482</td>\n      <td>1.071493</td>\n      <td>...</td>\n      <td>0.000000</td>\n      <td>0.033414</td>\n      <td>0.045455</td>\n      <td>0.082781</td>\n      <td>0.106863</td>\n      <td>0.974413</td>\n      <td>0.040036</td>\n      <td>0.000000</td>\n      <td>0.022878</td>\n      <td>0.024082</td>\n    </tr>\n  </tbody>\n</table>\n<p>184 rows × 39 columns</p>\n</div>"
     },
     "metadata": {},
     "execution_count": 16
    }
   ],
   "source": [
    "df = pd.concat(list_df)\n",
    "df = df.groupby(['video_name','stress_global','stress','diapo']).mean().reset_index()\n",
    "df"
   ]
  },
  {
   "cell_type": "code",
   "execution_count": 18,
   "metadata": {},
   "outputs": [
    {
     "output_type": "stream",
     "name": "stdout",
     "text": [
      "0.625\n"
     ]
    }
   ],
   "source": [
    "x = df.drop(['video_name','stress_global','stress','diapo'],axis=1)\n",
    "y = df[['stress']]\n",
    "\n",
    "from sklearn.model_selection import train_test_split\n",
    "x_train, x_test, y_train, y_test = train_test_split(x, y, test_size=0.3)\n",
    "\n",
    "y_train = y_train.values.ravel()\n",
    "y_test = y_test.values.ravel()\n",
    "\n",
    "from sklearn.ensemble import RandomForestClassifier\n",
    "model = RandomForestClassifier()\n",
    "model.fit(x_train,y_train)\n",
    "y_pred = model.predict(x_test)\n",
    "error = np.mean(np.abs(y_pred - y_test))\n",
    "print(error)"
   ]
  },
  {
   "cell_type": "code",
   "execution_count": null,
   "metadata": {},
   "outputs": [],
   "source": [
    "#extract_video_features('C:/Users/vince/Documents/TELECOM/Fil_Rouge/OpenFace/OpenFace_2.2.0/',\n",
    "#'C:/Users/vince/Documents/TELECOM/Fil_Rouge/VideoAFPA/WIN_20210407_15_02_22_Pro.mp4')"
   ]
  }
 ]
}