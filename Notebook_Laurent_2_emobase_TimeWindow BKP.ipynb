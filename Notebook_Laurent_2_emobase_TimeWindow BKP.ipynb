{
 "metadata": {
  "language_info": {
   "codemirror_mode": {
    "name": "ipython",
    "version": 3
   },
   "file_extension": ".py",
   "mimetype": "text/x-python",
   "name": "python",
   "nbconvert_exporter": "python",
   "pygments_lexer": "ipython3",
   "version": "3.8.5"
  },
  "orig_nbformat": 2,
  "kernelspec": {
   "name": "python3",
   "display_name": "Python 3.8.5 64-bit ('base': conda)"
  },
  "metadata": {
   "interpreter": {
    "hash": "148f6ed9de8dadedbbd96ef8a7e818f87aaafab3c59f5306aa9910b4f09c5b3f"
   }
  },
  "interpreter": {
   "hash": "148f6ed9de8dadedbbd96ef8a7e818f87aaafab3c59f5306aa9910b4f09c5b3f"
  }
 },
 "nbformat": 4,
 "nbformat_minor": 2,
 "cells": [
  {
   "cell_type": "code",
   "execution_count": 1,
   "metadata": {},
   "outputs": [],
   "source": [
    "import numpy as np \n",
    "import pandas as pd \n",
    "import matplotlib.pyplot as plt \n",
    "import pathlib"
   ]
  },
  {
   "source": [
    "## Loading data"
   ],
   "cell_type": "markdown",
   "metadata": {}
  },
  {
   "cell_type": "code",
   "execution_count": 2,
   "metadata": {},
   "outputs": [],
   "source": [
    "directory_path = '../../04_-_Dev/videos'\n",
    "features = 'emobase'"
   ]
  },
  {
   "cell_type": "code",
   "execution_count": null,
   "metadata": {},
   "outputs": [],
   "source": [
    "df_total = pd.read_pickle(directory_path + '/audio_' + features + '_data.p')"
   ]
  },
  {
   "cell_type": "code",
   "execution_count": 4,
   "metadata": {},
   "outputs": [
    {
     "output_type": "execute_result",
     "data": {
      "text/plain": [
       "(2573701, 60)"
      ]
     },
     "metadata": {},
     "execution_count": 4
    }
   ],
   "source": [
    "df_total.shape"
   ]
  },
  {
   "cell_type": "code",
   "execution_count": 5,
   "metadata": {},
   "outputs": [
    {
     "output_type": "execute_result",
     "data": {
      "text/plain": [
       "30"
      ]
     },
     "metadata": {},
     "execution_count": 5
    }
   ],
   "source": [
    "df_total.video_name.nunique()"
   ]
  },
  {
   "cell_type": "code",
   "execution_count": 7,
   "metadata": {},
   "outputs": [
    {
     "output_type": "execute_result",
     "data": {
      "text/plain": [
       "Empty DataFrame\n",
       "Columns: [frameIndex, frameTime, pcm_intensity_sma, pcm_loudness_sma, mfcc_sma[1], mfcc_sma[2], mfcc_sma[3], mfcc_sma[4], mfcc_sma[5], mfcc_sma[6], mfcc_sma[7], mfcc_sma[8], mfcc_sma[9], mfcc_sma[10], mfcc_sma[11], mfcc_sma[12], lspFreq_sma[0], lspFreq_sma[1], lspFreq_sma[2], lspFreq_sma[3], lspFreq_sma[4], lspFreq_sma[5], lspFreq_sma[6], lspFreq_sma[7], pcm_zcr_sma, voiceProb_sma, F0_sma, F0env_sma, pcm_intensity_sma_de, pcm_loudness_sma_de, mfcc_sma_de[1], mfcc_sma_de[2], mfcc_sma_de[3], mfcc_sma_de[4], mfcc_sma_de[5], mfcc_sma_de[6], mfcc_sma_de[7], mfcc_sma_de[8], mfcc_sma_de[9], mfcc_sma_de[10], mfcc_sma_de[11], mfcc_sma_de[12], lspFreq_sma_de[0], lspFreq_sma_de[1], lspFreq_sma_de[2], lspFreq_sma_de[3], lspFreq_sma_de[4], lspFreq_sma_de[5], lspFreq_sma_de[6], lspFreq_sma_de[7], pcm_zcr_sma_de, voiceProb_sma_de, F0_sma_de, F0env_sma_de, video_name, stress_global, type_candidat, sexe, stress, diapo]\n",
       "Index: []\n",
       "\n",
       "[0 rows x 60 columns]"
      ],
      "text/html": "<div>\n<style scoped>\n    .dataframe tbody tr th:only-of-type {\n        vertical-align: middle;\n    }\n\n    .dataframe tbody tr th {\n        vertical-align: top;\n    }\n\n    .dataframe thead th {\n        text-align: right;\n    }\n</style>\n<table border=\"1\" class=\"dataframe\">\n  <thead>\n    <tr style=\"text-align: right;\">\n      <th></th>\n      <th>frameIndex</th>\n      <th>frameTime</th>\n      <th>pcm_intensity_sma</th>\n      <th>pcm_loudness_sma</th>\n      <th>mfcc_sma[1]</th>\n      <th>mfcc_sma[2]</th>\n      <th>mfcc_sma[3]</th>\n      <th>mfcc_sma[4]</th>\n      <th>mfcc_sma[5]</th>\n      <th>mfcc_sma[6]</th>\n      <th>...</th>\n      <th>pcm_zcr_sma_de</th>\n      <th>voiceProb_sma_de</th>\n      <th>F0_sma_de</th>\n      <th>F0env_sma_de</th>\n      <th>video_name</th>\n      <th>stress_global</th>\n      <th>type_candidat</th>\n      <th>sexe</th>\n      <th>stress</th>\n      <th>diapo</th>\n    </tr>\n  </thead>\n  <tbody>\n  </tbody>\n</table>\n<p>0 rows × 60 columns</p>\n</div>"
     },
     "metadata": {},
     "execution_count": 7
    }
   ],
   "source": [
    "df_total[df_total.isna().any(axis=1)]"
   ]
  },
  {
   "source": [
    "## Data processing"
   ],
   "cell_type": "markdown",
   "metadata": {}
  },
  {
   "cell_type": "code",
   "execution_count": 3,
   "metadata": {},
   "outputs": [
    {
     "output_type": "error",
     "ename": "NameError",
     "evalue": "name 'df_total' is not defined",
     "traceback": [
      "\u001b[0;31m---------------------------------------------------------------------------\u001b[0m",
      "\u001b[0;31mNameError\u001b[0m                                 Traceback (most recent call last)",
      "\u001b[0;32m<ipython-input-3-3ecacca63f31>\u001b[0m in \u001b[0;36m<module>\u001b[0;34m\u001b[0m\n\u001b[1;32m      1\u001b[0m \u001b[0mtime_window\u001b[0m \u001b[0;34m=\u001b[0m \u001b[0;36m5\u001b[0m\u001b[0;34m\u001b[0m\u001b[0;34m\u001b[0m\u001b[0m\n\u001b[0;32m----> 2\u001b[0;31m \u001b[0mdf_total\u001b[0m\u001b[0;34m[\u001b[0m\u001b[0;34m'frameTimeWindow'\u001b[0m\u001b[0;34m]\u001b[0m \u001b[0;34m=\u001b[0m \u001b[0mdf_total\u001b[0m\u001b[0;34m.\u001b[0m\u001b[0mframeTime\u001b[0m\u001b[0;34m.\u001b[0m\u001b[0mapply\u001b[0m\u001b[0;34m(\u001b[0m\u001b[0;32mlambda\u001b[0m \u001b[0mx\u001b[0m \u001b[0;34m:\u001b[0m \u001b[0mnp\u001b[0m\u001b[0;34m.\u001b[0m\u001b[0mfloor\u001b[0m\u001b[0;34m(\u001b[0m\u001b[0mx\u001b[0m \u001b[0;34m/\u001b[0m \u001b[0mtime_window\u001b[0m\u001b[0;34m)\u001b[0m \u001b[0;34m*\u001b[0m \u001b[0mtime_window\u001b[0m\u001b[0;34m)\u001b[0m\u001b[0;34m.\u001b[0m\u001b[0mastype\u001b[0m\u001b[0;34m(\u001b[0m\u001b[0mint\u001b[0m\u001b[0;34m)\u001b[0m\u001b[0;34m\u001b[0m\u001b[0;34m\u001b[0m\u001b[0m\n\u001b[0m",
      "\u001b[0;31mNameError\u001b[0m: name 'df_total' is not defined"
     ]
    }
   ],
   "source": [
    "time_window = 5\n",
    "df_total['frameTimeWindow'] = df_total.frameTime.apply(lambda x : np.floor(x / time_window) * time_window).astype(int)"
   ]
  },
  {
   "cell_type": "code",
   "execution_count": 3,
   "metadata": {},
   "outputs": [],
   "source": [
    "from scipy.stats import kurtosis, skew\n",
    "\n",
    "def percentil25(x): \n",
    "    return np.percentile(x, q=25)\n",
    "\n",
    "def percentil75(x): \n",
    "    return np.percentile(x, q=75)"
   ]
  },
  {
   "cell_type": "code",
   "execution_count": 11,
   "metadata": {},
   "outputs": [],
   "source": [
    "# 5 seconds windows\n",
    "X = df_total.iloc[:,2:].groupby(['video_name','diapo','frameTimeWindow']).agg({'mean','min','max', 'median', 'std', percentil25, percentil75, kurtosis, skew}).iloc[:,:-18]"
   ]
  },
  {
   "cell_type": "code",
   "execution_count": 16,
   "metadata": {},
   "outputs": [],
   "source": [
    "y = df_total.iloc[:,3:].groupby(['video_name','diapo','frameTimeWindow']).agg({'stress':'min'}).iloc[:,-1]"
   ]
  },
  {
   "cell_type": "code",
   "execution_count": 18,
   "metadata": {},
   "outputs": [],
   "source": [
    "X.to_pickle(directory_path + '/audio_' + features + '_tw5_data_X.p')\n",
    "y.to_pickle(directory_path + '/audio_' + features + '_tw5_data_y.p')"
   ]
  },
  {
   "cell_type": "code",
   "execution_count": 21,
   "metadata": {},
   "outputs": [],
   "source": [
    "from scipy.stats import kurtosis, skew\n",
    "X_audio = df_total.loc[df_total['diapo'].isin([8, 9, 10, 11, 17]),:].iloc[:,2:].groupby(['video_name','diapo','frameTimeWindow']).agg({'mean','min','max', 'median', 'std', percentil25, percentil75, kurtosis, skew}).iloc[:,:-18]\n",
    "y_audio = df_total.loc[df_total['diapo'].isin([8, 9, 10, 11, 17]),:].iloc[:,2:].groupby(['video_name','diapo','frameTimeWindow']).agg({'stress':'mean'}).iloc[:,-1]"
   ]
  },
  {
   "cell_type": "code",
   "execution_count": 22,
   "metadata": {},
   "outputs": [],
   "source": [
    "X_audio.to_pickle(directory_path + '/audio_' + features + '_tw5_data_X_audio_questions_only.p')\n",
    "y_audio.to_pickle(directory_path + '/audio_' + features + '_tw5_data_y_audio_questions_only.p')"
   ]
  },
  {
   "source": [
    "## Modèles"
   ],
   "cell_type": "markdown",
   "metadata": {}
  },
  {
   "cell_type": "code",
   "execution_count": 4,
   "metadata": {},
   "outputs": [],
   "source": [
    "X = pd.read_pickle(directory_path + '/audio_' + features + '_tw5_data_X.p')\n",
    "y = pd.read_pickle(directory_path + '/audio_' + features + '_tw5_data_y.p')\n",
    "\n",
    "X_audio = pd.read_pickle(directory_path + '/audio_' + features + '_tw5_data_X_audio_questions_only.p')\n",
    "y_audio = pd.read_pickle(directory_path + '/audio_' + features + '_tw5_data_y_audio_questions_only.p')"
   ]
  },
  {
   "cell_type": "code",
   "execution_count": 5,
   "metadata": {},
   "outputs": [],
   "source": [
    "X = X.fillna(0)\n",
    "X_audio = X_audio.fillna(0)"
   ]
  },
  {
   "source": [
    "## Stress par diapos\n",
    "### All diapos"
   ],
   "cell_type": "markdown",
   "metadata": {}
  },
  {
   "cell_type": "code",
   "execution_count": 5,
   "metadata": {},
   "outputs": [
    {
     "output_type": "stream",
     "name": "stdout",
     "text": [
      "Fitting 30 folds for each of 75 candidates, totalling 2250 fits\n",
      "[Parallel(n_jobs=1)]: Using backend SequentialBackend with 1 concurrent workers.\n",
      "[Parallel(n_jobs=1)]: Done 2250 out of 2250 | elapsed: 157.5min finished\n",
      "Best results 0.4529982783484758\n",
      "Best params {'class_weight': 'balanced', 'max_depth': 15, 'n_estimators': 200}\n",
      "accuracy (mean, std) 0.4603521332304298 0.2114706580772435\n",
      "f1 (mean, std) 0.4529982783484758 0.20974192525992463\n"
     ]
    }
   ],
   "source": [
    "parameters = {'n_estimators': [100, 150, 200, 250, 300], 'max_depth':[10, 15, 20, 25, 30], 'class_weight':[None,'balanced', 'balanced_subsample']}\n",
    "\n",
    "from sklearn.model_selection import LeaveOneGroupOut\n",
    "from sklearn.ensemble import RandomForestClassifier, RandomForestRegressor\n",
    "from sklearn.model_selection import cross_val_predict, GridSearchCV\n",
    "from sklearn.metrics import accuracy_score, f1_score\n",
    "import warnings\n",
    "warnings.filterwarnings(\"ignore\")\n",
    "\n",
    "groups = X.reset_index()['video_name']\n",
    "loo = LeaveOneGroupOut()\n",
    "cv_loo = loo.split(X, y, groups)\n",
    "X_no_name = X\n",
    "y_no_name = y\n",
    "\n",
    "model = RandomForestClassifier(random_state = 42, n_jobs=-1)\n",
    "\n",
    "clf = GridSearchCV(estimator=model, \n",
    "                    param_grid=parameters, \n",
    "                    scoring={'accuracy_score' : 'accuracy', 'f1_score' : 'f1_weighted' }, \n",
    "                    refit= 'f1_score' ,#'accuracy_score',\n",
    "                    cv=cv_loo, verbose=1)\n",
    "clf.fit(X_no_name, y_no_name)\n",
    "print('Best results', clf.best_score_)\n",
    "print('Best params', clf.best_params_)\n",
    "print('accuracy (mean, std)', clf.cv_results_['mean_test_accuracy_score'][clf.best_index_], clf.cv_results_['std_test_accuracy_score'][clf.best_index_])\n",
    "print('f1 (mean, std)', clf.cv_results_['mean_test_f1_score'][clf.best_index_], clf.cv_results_['std_test_f1_score'][clf.best_index_])"
   ]
  },
  {
   "cell_type": "code",
   "execution_count": 6,
   "metadata": {},
   "outputs": [],
   "source": [
    "# Getting predictions with a leave one interview out\n",
    "from sklearn.model_selection import LeaveOneGroupOut\n",
    "from sklearn.ensemble import RandomForestClassifier, RandomForestRegressor\n",
    "groups = X.reset_index()['video_name']\n",
    "loo = LeaveOneGroupOut()\n",
    "cv_loo = loo.split(X, y, groups)\n",
    "\n",
    "#model = RandomForestClassifier(random_state = 42, n_jobs=-1, max_depth= 10, n_estimators= 50)\n",
    "model = clf.best_estimator_\n",
    "\n",
    "ytest_predict = np.zeros(len(y))\n",
    "for train_index, test_index in loo.split(X, y, groups):\n",
    "    #print(train_index, test_index)\n",
    "    Xtrain, Xtest = X.iloc[train_index], X.iloc[test_index]\n",
    "    ytrain, ytest = y.iloc[train_index], y.iloc[test_index]\n",
    "\n",
    "    model.fit(Xtrain, ytrain)\n",
    "    ytest_predict_temp = model.predict(Xtest)\n",
    "    #print(ytest_predict_temp.shape)\n",
    "    #print(test_index.shape)\n",
    "    ytest_predict[test_index] = ytest_predict_temp\n",
    "y_predict = ytest_predict\n",
    "\n",
    "df_ypredict = pd.concat([X.reset_index()[['video_name','diapo','frameTimeWindow']],pd.DataFrame(y_predict, columns=['ypredict'])],axis=1)\n",
    "df_ypredict.columns = ['video_name','diapo','frameTimeWindow','ypredict']\n",
    "df_ypredict.to_csv('ypredict_' + features + '_tw5_2.csv')"
   ]
  },
  {
   "cell_type": "code",
   "execution_count": 7,
   "metadata": {},
   "outputs": [
    {
     "output_type": "execute_result",
     "data": {
      "text/plain": [
       "array([[ 654, 1239,  171,    0],\n",
       "       [ 814, 1749,   27,    0],\n",
       "       [ 316,  307,   30,    0],\n",
       "       [   7,   13,    0,    0]])"
      ]
     },
     "metadata": {},
     "execution_count": 7
    }
   ],
   "source": [
    "from sklearn.metrics import confusion_matrix\n",
    "confusion_matrix(y, y_predict)"
   ]
  },
  {
   "cell_type": "code",
   "execution_count": 8,
   "metadata": {},
   "outputs": [],
   "source": [
    "df_ypredict = pd.read_csv('ypredict_' + features + '_tw5_2.csv')\n",
    "df_ypredict = df_ypredict.iloc[:,1:]\n",
    "df_ypredict.columns = ['video_name','diapo','frameTimeWindow','ypredict']\n",
    "df_ypredict['ypredict'] = df_ypredict['ypredict'].astype(int)\n"
   ]
  },
  {
   "cell_type": "code",
   "execution_count": 8,
   "metadata": {},
   "outputs": [
    {
     "output_type": "execute_result",
     "data": {
      "text/plain": [
       "ypredict                                0         1         2\n",
       "video_name                diapo                              \n",
       "Test_pour_AFPA            1      0.088235  0.147059  0.764706\n",
       "                          8      0.100000  0.600000  0.300000\n",
       "                          9      0.050000  0.800000  0.150000\n",
       "                          10     0.000000  0.733333  0.266667\n",
       "                          11     0.050000  0.750000  0.200000\n",
       "...                                   ...       ...       ...\n",
       "WIN_20210417_14_53_12_Pro 10     0.285714  0.714286  0.000000\n",
       "                          11     0.500000  0.500000  0.000000\n",
       "                          12     0.151515  0.848485  0.000000\n",
       "                          17     0.571429  0.428571  0.000000\n",
       "                          18     0.391304  0.608696  0.000000\n",
       "\n",
       "[240 rows x 3 columns]"
      ],
      "text/html": "<div>\n<style scoped>\n    .dataframe tbody tr th:only-of-type {\n        vertical-align: middle;\n    }\n\n    .dataframe tbody tr th {\n        vertical-align: top;\n    }\n\n    .dataframe thead th {\n        text-align: right;\n    }\n</style>\n<table border=\"1\" class=\"dataframe\">\n  <thead>\n    <tr style=\"text-align: right;\">\n      <th></th>\n      <th>ypredict</th>\n      <th>0</th>\n      <th>1</th>\n      <th>2</th>\n    </tr>\n    <tr>\n      <th>video_name</th>\n      <th>diapo</th>\n      <th></th>\n      <th></th>\n      <th></th>\n    </tr>\n  </thead>\n  <tbody>\n    <tr>\n      <th rowspan=\"5\" valign=\"top\">Test_pour_AFPA</th>\n      <th>1</th>\n      <td>0.088235</td>\n      <td>0.147059</td>\n      <td>0.764706</td>\n    </tr>\n    <tr>\n      <th>8</th>\n      <td>0.100000</td>\n      <td>0.600000</td>\n      <td>0.300000</td>\n    </tr>\n    <tr>\n      <th>9</th>\n      <td>0.050000</td>\n      <td>0.800000</td>\n      <td>0.150000</td>\n    </tr>\n    <tr>\n      <th>10</th>\n      <td>0.000000</td>\n      <td>0.733333</td>\n      <td>0.266667</td>\n    </tr>\n    <tr>\n      <th>11</th>\n      <td>0.050000</td>\n      <td>0.750000</td>\n      <td>0.200000</td>\n    </tr>\n    <tr>\n      <th>...</th>\n      <th>...</th>\n      <td>...</td>\n      <td>...</td>\n      <td>...</td>\n    </tr>\n    <tr>\n      <th rowspan=\"5\" valign=\"top\">WIN_20210417_14_53_12_Pro</th>\n      <th>10</th>\n      <td>0.285714</td>\n      <td>0.714286</td>\n      <td>0.000000</td>\n    </tr>\n    <tr>\n      <th>11</th>\n      <td>0.500000</td>\n      <td>0.500000</td>\n      <td>0.000000</td>\n    </tr>\n    <tr>\n      <th>12</th>\n      <td>0.151515</td>\n      <td>0.848485</td>\n      <td>0.000000</td>\n    </tr>\n    <tr>\n      <th>17</th>\n      <td>0.571429</td>\n      <td>0.428571</td>\n      <td>0.000000</td>\n    </tr>\n    <tr>\n      <th>18</th>\n      <td>0.391304</td>\n      <td>0.608696</td>\n      <td>0.000000</td>\n    </tr>\n  </tbody>\n</table>\n<p>240 rows × 3 columns</p>\n</div>"
     },
     "metadata": {},
     "execution_count": 8
    }
   ],
   "source": [
    "X = df_ypredict.pivot_table(values='frameTimeWindow', columns='ypredict', index=['video_name','diapo'], aggfunc='count', fill_value=0)\n",
    "X_sum = X.sum(axis=1).values.copy()\n",
    "for col_number in range(len(X.columns)):\n",
    "    X.iloc[:,col_number] = X.iloc[:,col_number] / X_sum\n",
    "X\n",
    " "
   ]
  },
  {
   "cell_type": "code",
   "execution_count": 11,
   "metadata": {},
   "outputs": [],
   "source": [
    "# Autre méthode\n",
    "X = df_ypredict.groupby(['video_name','diapo']).agg({'ypredict':['mean','min','max', 'median', 'std', percentil25, percentil75, kurtosis, skew]})"
   ]
  },
  {
   "cell_type": "code",
   "execution_count": 12,
   "metadata": {},
   "outputs": [
    {
     "output_type": "execute_result",
     "data": {
      "text/plain": [
       "                                 ypredict                           \\\n",
       "                                     mean min max median       std   \n",
       "video_name                diapo                                      \n",
       "Test_pour_AFPA            1      0.823529   0   1    1.0  0.386953   \n",
       "                          8      0.800000   0   1    1.0  0.421637   \n",
       "                          9      1.050000   1   2    1.0  0.223607   \n",
       "                          10     1.000000   1   1    1.0  0.000000   \n",
       "                          11     0.950000   0   1    1.0  0.223607   \n",
       "...                                   ...  ..  ..    ...       ...   \n",
       "WIN_20210417_14_53_12_Pro 10     0.571429   0   1    1.0  0.513553   \n",
       "                          11     0.400000   0   1    0.0  0.502625   \n",
       "                          12     0.848485   0   1    1.0  0.364110   \n",
       "                          17     0.428571   0   1    0.0  0.534522   \n",
       "                          18     0.695652   0   1    1.0  0.470472   \n",
       "\n",
       "                                                                              \n",
       "                                percentil25 percentil75   kurtosis      skew  \n",
       "video_name                diapo                                               \n",
       "Test_pour_AFPA            1             1.0         1.0   0.880952 -1.697337  \n",
       "                          8             1.0         1.0   0.250000 -1.500000  \n",
       "                          9             1.0         1.0  15.052632  4.129483  \n",
       "                          10            1.0         1.0  -3.000000  0.000000  \n",
       "                          11            1.0         1.0  15.052632 -4.129483  \n",
       "...                                     ...         ...        ...       ...  \n",
       "WIN_20210417_14_53_12_Pro 10            0.0         1.0  -1.916667 -0.288675  \n",
       "                          11            0.0         1.0  -1.833333  0.408248  \n",
       "                          12            1.0         1.0   1.778571 -1.943855  \n",
       "                          17            0.0         1.0  -1.916667  0.288675  \n",
       "                          18            0.0         1.0  -1.276786 -0.850420  \n",
       "\n",
       "[240 rows x 9 columns]"
      ],
      "text/html": "<div>\n<style scoped>\n    .dataframe tbody tr th:only-of-type {\n        vertical-align: middle;\n    }\n\n    .dataframe tbody tr th {\n        vertical-align: top;\n    }\n\n    .dataframe thead tr th {\n        text-align: left;\n    }\n\n    .dataframe thead tr:last-of-type th {\n        text-align: right;\n    }\n</style>\n<table border=\"1\" class=\"dataframe\">\n  <thead>\n    <tr>\n      <th></th>\n      <th></th>\n      <th colspan=\"9\" halign=\"left\">ypredict</th>\n    </tr>\n    <tr>\n      <th></th>\n      <th></th>\n      <th>mean</th>\n      <th>min</th>\n      <th>max</th>\n      <th>median</th>\n      <th>std</th>\n      <th>percentil25</th>\n      <th>percentil75</th>\n      <th>kurtosis</th>\n      <th>skew</th>\n    </tr>\n    <tr>\n      <th>video_name</th>\n      <th>diapo</th>\n      <th></th>\n      <th></th>\n      <th></th>\n      <th></th>\n      <th></th>\n      <th></th>\n      <th></th>\n      <th></th>\n      <th></th>\n    </tr>\n  </thead>\n  <tbody>\n    <tr>\n      <th rowspan=\"5\" valign=\"top\">Test_pour_AFPA</th>\n      <th>1</th>\n      <td>0.823529</td>\n      <td>0</td>\n      <td>1</td>\n      <td>1.0</td>\n      <td>0.386953</td>\n      <td>1.0</td>\n      <td>1.0</td>\n      <td>0.880952</td>\n      <td>-1.697337</td>\n    </tr>\n    <tr>\n      <th>8</th>\n      <td>0.800000</td>\n      <td>0</td>\n      <td>1</td>\n      <td>1.0</td>\n      <td>0.421637</td>\n      <td>1.0</td>\n      <td>1.0</td>\n      <td>0.250000</td>\n      <td>-1.500000</td>\n    </tr>\n    <tr>\n      <th>9</th>\n      <td>1.050000</td>\n      <td>1</td>\n      <td>2</td>\n      <td>1.0</td>\n      <td>0.223607</td>\n      <td>1.0</td>\n      <td>1.0</td>\n      <td>15.052632</td>\n      <td>4.129483</td>\n    </tr>\n    <tr>\n      <th>10</th>\n      <td>1.000000</td>\n      <td>1</td>\n      <td>1</td>\n      <td>1.0</td>\n      <td>0.000000</td>\n      <td>1.0</td>\n      <td>1.0</td>\n      <td>-3.000000</td>\n      <td>0.000000</td>\n    </tr>\n    <tr>\n      <th>11</th>\n      <td>0.950000</td>\n      <td>0</td>\n      <td>1</td>\n      <td>1.0</td>\n      <td>0.223607</td>\n      <td>1.0</td>\n      <td>1.0</td>\n      <td>15.052632</td>\n      <td>-4.129483</td>\n    </tr>\n    <tr>\n      <th>...</th>\n      <th>...</th>\n      <td>...</td>\n      <td>...</td>\n      <td>...</td>\n      <td>...</td>\n      <td>...</td>\n      <td>...</td>\n      <td>...</td>\n      <td>...</td>\n      <td>...</td>\n    </tr>\n    <tr>\n      <th rowspan=\"5\" valign=\"top\">WIN_20210417_14_53_12_Pro</th>\n      <th>10</th>\n      <td>0.571429</td>\n      <td>0</td>\n      <td>1</td>\n      <td>1.0</td>\n      <td>0.513553</td>\n      <td>0.0</td>\n      <td>1.0</td>\n      <td>-1.916667</td>\n      <td>-0.288675</td>\n    </tr>\n    <tr>\n      <th>11</th>\n      <td>0.400000</td>\n      <td>0</td>\n      <td>1</td>\n      <td>0.0</td>\n      <td>0.502625</td>\n      <td>0.0</td>\n      <td>1.0</td>\n      <td>-1.833333</td>\n      <td>0.408248</td>\n    </tr>\n    <tr>\n      <th>12</th>\n      <td>0.848485</td>\n      <td>0</td>\n      <td>1</td>\n      <td>1.0</td>\n      <td>0.364110</td>\n      <td>1.0</td>\n      <td>1.0</td>\n      <td>1.778571</td>\n      <td>-1.943855</td>\n    </tr>\n    <tr>\n      <th>17</th>\n      <td>0.428571</td>\n      <td>0</td>\n      <td>1</td>\n      <td>0.0</td>\n      <td>0.534522</td>\n      <td>0.0</td>\n      <td>1.0</td>\n      <td>-1.916667</td>\n      <td>0.288675</td>\n    </tr>\n    <tr>\n      <th>18</th>\n      <td>0.695652</td>\n      <td>0</td>\n      <td>1</td>\n      <td>1.0</td>\n      <td>0.470472</td>\n      <td>0.0</td>\n      <td>1.0</td>\n      <td>-1.276786</td>\n      <td>-0.850420</td>\n    </tr>\n  </tbody>\n</table>\n<p>240 rows × 9 columns</p>\n</div>"
     },
     "metadata": {},
     "execution_count": 12
    }
   ],
   "source": [
    "X"
   ]
  },
  {
   "cell_type": "code",
   "execution_count": 13,
   "metadata": {},
   "outputs": [
    {
     "output_type": "execute_result",
     "data": {
      "text/plain": [
       "                    video_name  diapo  stress\n",
       "0               Test_pour_AFPA      1     1.0\n",
       "1               Test_pour_AFPA      8     1.0\n",
       "2               Test_pour_AFPA      9     0.0\n",
       "3               Test_pour_AFPA     10     0.0\n",
       "4               Test_pour_AFPA     11     0.0\n",
       "..                         ...    ...     ...\n",
       "235  WIN_20210417_14_53_12_Pro     10     0.0\n",
       "236  WIN_20210417_14_53_12_Pro     11     0.0\n",
       "237  WIN_20210417_14_53_12_Pro     12     0.0\n",
       "238  WIN_20210417_14_53_12_Pro     17     1.0\n",
       "239  WIN_20210417_14_53_12_Pro     18     1.0\n",
       "\n",
       "[240 rows x 3 columns]"
      ],
      "text/html": "<div>\n<style scoped>\n    .dataframe tbody tr th:only-of-type {\n        vertical-align: middle;\n    }\n\n    .dataframe tbody tr th {\n        vertical-align: top;\n    }\n\n    .dataframe thead th {\n        text-align: right;\n    }\n</style>\n<table border=\"1\" class=\"dataframe\">\n  <thead>\n    <tr style=\"text-align: right;\">\n      <th></th>\n      <th>video_name</th>\n      <th>diapo</th>\n      <th>stress</th>\n    </tr>\n  </thead>\n  <tbody>\n    <tr>\n      <th>0</th>\n      <td>Test_pour_AFPA</td>\n      <td>1</td>\n      <td>1.0</td>\n    </tr>\n    <tr>\n      <th>1</th>\n      <td>Test_pour_AFPA</td>\n      <td>8</td>\n      <td>1.0</td>\n    </tr>\n    <tr>\n      <th>2</th>\n      <td>Test_pour_AFPA</td>\n      <td>9</td>\n      <td>0.0</td>\n    </tr>\n    <tr>\n      <th>3</th>\n      <td>Test_pour_AFPA</td>\n      <td>10</td>\n      <td>0.0</td>\n    </tr>\n    <tr>\n      <th>4</th>\n      <td>Test_pour_AFPA</td>\n      <td>11</td>\n      <td>0.0</td>\n    </tr>\n    <tr>\n      <th>...</th>\n      <td>...</td>\n      <td>...</td>\n      <td>...</td>\n    </tr>\n    <tr>\n      <th>235</th>\n      <td>WIN_20210417_14_53_12_Pro</td>\n      <td>10</td>\n      <td>0.0</td>\n    </tr>\n    <tr>\n      <th>236</th>\n      <td>WIN_20210417_14_53_12_Pro</td>\n      <td>11</td>\n      <td>0.0</td>\n    </tr>\n    <tr>\n      <th>237</th>\n      <td>WIN_20210417_14_53_12_Pro</td>\n      <td>12</td>\n      <td>0.0</td>\n    </tr>\n    <tr>\n      <th>238</th>\n      <td>WIN_20210417_14_53_12_Pro</td>\n      <td>17</td>\n      <td>1.0</td>\n    </tr>\n    <tr>\n      <th>239</th>\n      <td>WIN_20210417_14_53_12_Pro</td>\n      <td>18</td>\n      <td>1.0</td>\n    </tr>\n  </tbody>\n</table>\n<p>240 rows × 3 columns</p>\n</div>"
     },
     "metadata": {},
     "execution_count": 13
    }
   ],
   "source": [
    "df_annotations_stress = pd.read_csv('annotations.csv')\n",
    "df_annotations_stress = df_annotations_stress.drop(df_annotations_stress.columns[-1],axis=1).set_index('video_name').stack()\n",
    "df_annotations_stress = pd.DataFrame(df_annotations_stress).reset_index()\n",
    "df_annotations_stress.columns = ['video_name','diapo','stress']\n",
    "#df_annotations_stress = df_annotations_stress.set_index(['video_name','diapo'])\n",
    "df_annotations_stress['diapo'] = df_annotations_stress['diapo'].astype(int)\n",
    "df_annotations_stress"
   ]
  },
  {
   "cell_type": "code",
   "execution_count": 14,
   "metadata": {},
   "outputs": [],
   "source": [
    "Xy = X.merge(df_annotations_stress, how='inner', on=['video_name','diapo'])\n",
    "X = Xy.iloc[:,:-1].set_index(['video_name','diapo'])\n",
    "y = Xy.iloc[:,-1]"
   ]
  },
  {
   "cell_type": "code",
   "execution_count": 15,
   "metadata": {},
   "outputs": [
    {
     "output_type": "execute_result",
     "data": {
      "text/plain": [
       "                                 (ypredict, mean)  (ypredict, min)  \\\n",
       "video_name                diapo                                      \n",
       "Test_pour_AFPA            1              0.823529                0   \n",
       "                          8              0.800000                0   \n",
       "                          9              1.050000                1   \n",
       "                          10             1.000000                1   \n",
       "                          11             0.950000                0   \n",
       "...                                           ...              ...   \n",
       "WIN_20210417_14_53_12_Pro 10             0.571429                0   \n",
       "                          11             0.400000                0   \n",
       "                          12             0.848485                0   \n",
       "                          17             0.428571                0   \n",
       "                          18             0.695652                0   \n",
       "\n",
       "                                 (ypredict, max)  (ypredict, median)  \\\n",
       "video_name                diapo                                        \n",
       "Test_pour_AFPA            1                    1                 1.0   \n",
       "                          8                    1                 1.0   \n",
       "                          9                    2                 1.0   \n",
       "                          10                   1                 1.0   \n",
       "                          11                   1                 1.0   \n",
       "...                                          ...                 ...   \n",
       "WIN_20210417_14_53_12_Pro 10                   1                 1.0   \n",
       "                          11                   1                 0.0   \n",
       "                          12                   1                 1.0   \n",
       "                          17                   1                 0.0   \n",
       "                          18                   1                 1.0   \n",
       "\n",
       "                                 (ypredict, std)  (ypredict, percentil25)  \\\n",
       "video_name                diapo                                             \n",
       "Test_pour_AFPA            1             0.386953                      1.0   \n",
       "                          8             0.421637                      1.0   \n",
       "                          9             0.223607                      1.0   \n",
       "                          10            0.000000                      1.0   \n",
       "                          11            0.223607                      1.0   \n",
       "...                                          ...                      ...   \n",
       "WIN_20210417_14_53_12_Pro 10            0.513553                      0.0   \n",
       "                          11            0.502625                      0.0   \n",
       "                          12            0.364110                      1.0   \n",
       "                          17            0.534522                      0.0   \n",
       "                          18            0.470472                      0.0   \n",
       "\n",
       "                                 (ypredict, percentil75)  \\\n",
       "video_name                diapo                            \n",
       "Test_pour_AFPA            1                          1.0   \n",
       "                          8                          1.0   \n",
       "                          9                          1.0   \n",
       "                          10                         1.0   \n",
       "                          11                         1.0   \n",
       "...                                                  ...   \n",
       "WIN_20210417_14_53_12_Pro 10                         1.0   \n",
       "                          11                         1.0   \n",
       "                          12                         1.0   \n",
       "                          17                         1.0   \n",
       "                          18                         1.0   \n",
       "\n",
       "                                 (ypredict, kurtosis)  (ypredict, skew)  \n",
       "video_name                diapo                                          \n",
       "Test_pour_AFPA            1                  0.880952         -1.697337  \n",
       "                          8                  0.250000         -1.500000  \n",
       "                          9                 15.052632          4.129483  \n",
       "                          10                -3.000000          0.000000  \n",
       "                          11                15.052632         -4.129483  \n",
       "...                                               ...               ...  \n",
       "WIN_20210417_14_53_12_Pro 10                -1.916667         -0.288675  \n",
       "                          11                -1.833333          0.408248  \n",
       "                          12                 1.778571         -1.943855  \n",
       "                          17                -1.916667          0.288675  \n",
       "                          18                -1.276786         -0.850420  \n",
       "\n",
       "[240 rows x 9 columns]"
      ],
      "text/html": "<div>\n<style scoped>\n    .dataframe tbody tr th:only-of-type {\n        vertical-align: middle;\n    }\n\n    .dataframe tbody tr th {\n        vertical-align: top;\n    }\n\n    .dataframe thead th {\n        text-align: right;\n    }\n</style>\n<table border=\"1\" class=\"dataframe\">\n  <thead>\n    <tr style=\"text-align: right;\">\n      <th></th>\n      <th></th>\n      <th>(ypredict, mean)</th>\n      <th>(ypredict, min)</th>\n      <th>(ypredict, max)</th>\n      <th>(ypredict, median)</th>\n      <th>(ypredict, std)</th>\n      <th>(ypredict, percentil25)</th>\n      <th>(ypredict, percentil75)</th>\n      <th>(ypredict, kurtosis)</th>\n      <th>(ypredict, skew)</th>\n    </tr>\n    <tr>\n      <th>video_name</th>\n      <th>diapo</th>\n      <th></th>\n      <th></th>\n      <th></th>\n      <th></th>\n      <th></th>\n      <th></th>\n      <th></th>\n      <th></th>\n      <th></th>\n    </tr>\n  </thead>\n  <tbody>\n    <tr>\n      <th rowspan=\"5\" valign=\"top\">Test_pour_AFPA</th>\n      <th>1</th>\n      <td>0.823529</td>\n      <td>0</td>\n      <td>1</td>\n      <td>1.0</td>\n      <td>0.386953</td>\n      <td>1.0</td>\n      <td>1.0</td>\n      <td>0.880952</td>\n      <td>-1.697337</td>\n    </tr>\n    <tr>\n      <th>8</th>\n      <td>0.800000</td>\n      <td>0</td>\n      <td>1</td>\n      <td>1.0</td>\n      <td>0.421637</td>\n      <td>1.0</td>\n      <td>1.0</td>\n      <td>0.250000</td>\n      <td>-1.500000</td>\n    </tr>\n    <tr>\n      <th>9</th>\n      <td>1.050000</td>\n      <td>1</td>\n      <td>2</td>\n      <td>1.0</td>\n      <td>0.223607</td>\n      <td>1.0</td>\n      <td>1.0</td>\n      <td>15.052632</td>\n      <td>4.129483</td>\n    </tr>\n    <tr>\n      <th>10</th>\n      <td>1.000000</td>\n      <td>1</td>\n      <td>1</td>\n      <td>1.0</td>\n      <td>0.000000</td>\n      <td>1.0</td>\n      <td>1.0</td>\n      <td>-3.000000</td>\n      <td>0.000000</td>\n    </tr>\n    <tr>\n      <th>11</th>\n      <td>0.950000</td>\n      <td>0</td>\n      <td>1</td>\n      <td>1.0</td>\n      <td>0.223607</td>\n      <td>1.0</td>\n      <td>1.0</td>\n      <td>15.052632</td>\n      <td>-4.129483</td>\n    </tr>\n    <tr>\n      <th>...</th>\n      <th>...</th>\n      <td>...</td>\n      <td>...</td>\n      <td>...</td>\n      <td>...</td>\n      <td>...</td>\n      <td>...</td>\n      <td>...</td>\n      <td>...</td>\n      <td>...</td>\n    </tr>\n    <tr>\n      <th rowspan=\"5\" valign=\"top\">WIN_20210417_14_53_12_Pro</th>\n      <th>10</th>\n      <td>0.571429</td>\n      <td>0</td>\n      <td>1</td>\n      <td>1.0</td>\n      <td>0.513553</td>\n      <td>0.0</td>\n      <td>1.0</td>\n      <td>-1.916667</td>\n      <td>-0.288675</td>\n    </tr>\n    <tr>\n      <th>11</th>\n      <td>0.400000</td>\n      <td>0</td>\n      <td>1</td>\n      <td>0.0</td>\n      <td>0.502625</td>\n      <td>0.0</td>\n      <td>1.0</td>\n      <td>-1.833333</td>\n      <td>0.408248</td>\n    </tr>\n    <tr>\n      <th>12</th>\n      <td>0.848485</td>\n      <td>0</td>\n      <td>1</td>\n      <td>1.0</td>\n      <td>0.364110</td>\n      <td>1.0</td>\n      <td>1.0</td>\n      <td>1.778571</td>\n      <td>-1.943855</td>\n    </tr>\n    <tr>\n      <th>17</th>\n      <td>0.428571</td>\n      <td>0</td>\n      <td>1</td>\n      <td>0.0</td>\n      <td>0.534522</td>\n      <td>0.0</td>\n      <td>1.0</td>\n      <td>-1.916667</td>\n      <td>0.288675</td>\n    </tr>\n    <tr>\n      <th>18</th>\n      <td>0.695652</td>\n      <td>0</td>\n      <td>1</td>\n      <td>1.0</td>\n      <td>0.470472</td>\n      <td>0.0</td>\n      <td>1.0</td>\n      <td>-1.276786</td>\n      <td>-0.850420</td>\n    </tr>\n  </tbody>\n</table>\n<p>240 rows × 9 columns</p>\n</div>"
     },
     "metadata": {},
     "execution_count": 15
    }
   ],
   "source": [
    "X"
   ]
  },
  {
   "cell_type": "code",
   "execution_count": 26,
   "metadata": {},
   "outputs": [
    {
     "output_type": "stream",
     "name": "stdout",
     "text": [
      "Fitting 30 folds for each of 16 candidates, totalling 480 fits\n",
      "[Parallel(n_jobs=1)]: Using backend SequentialBackend with 1 concurrent workers.\n",
      "Best results 0.45559810559810554\n",
      "Best params {'C': 2, 'class_weight': None}\n",
      "accuracy (mean, std) 0.4666666666666667 0.20649186155606444\n",
      "f1 (mean, std) 0.45559810559810554 0.22814809352070492\n",
      "[Parallel(n_jobs=1)]: Done 480 out of 480 | elapsed:   12.7s finished\n"
     ]
    }
   ],
   "source": [
    "parameters = {'C': [0.01, 0.05, 0.1, 0.5, 1, 2, 10, 20], 'class_weight' : [None, 'balanced']}\n",
    "from sklearn.model_selection import LeaveOneGroupOut\n",
    "from sklearn.linear_model import LogisticRegression\n",
    "from sklearn.model_selection import cross_val_predict, GridSearchCV\n",
    "from sklearn.metrics import accuracy_score, f1_score\n",
    "import warnings\n",
    "warnings.filterwarnings(\"ignore\")\n",
    "\n",
    "groups = X.reset_index()['video_name']\n",
    "loo = LeaveOneGroupOut()\n",
    "cv_loo = loo.split(X, y, groups)\n",
    "X_no_name = X\n",
    "y_no_name = y\n",
    "\n",
    "\n",
    "model = LogisticRegression(multi_class='multinomial', fit_intercept=True, random_state=42)\n",
    "\n",
    "#from sklearn.neighbors import KNeighborsClassifier\n",
    "#model = KNeighborsClassifier(n_jobs=-1)\n",
    "#parameters = {'n_neighbors': [4, 5, 6, 7, 8, 9, 10, 11, 12,  15, 20], 'weights' : ['uniform', 'distance'], 'p': [1, 2]}\n",
    "\n",
    "#from sklearn.ensemble import RandomForestClassifier, RandomForestRegressor\n",
    "#model = RandomForestClassifier(random_state = 42, n_jobs=-1)\n",
    "#parameters = {'n_estimators': [100, 150, 200], 'max_depth':[10, 15, 20], 'class_weight':[None,'balanced']}\n",
    "\n",
    "clf = GridSearchCV(estimator=model, \n",
    "                    param_grid=parameters, \n",
    "                    scoring={'accuracy_score' : 'accuracy', 'f1_score' : 'f1_weighted' }, \n",
    "                    refit='f1_score',#'accuracy_score',\n",
    "                    cv=cv_loo, verbose=1)\n",
    "clf.fit(X_no_name, y_no_name)\n",
    "print('Best results', clf.best_score_)\n",
    "print('Best params', clf.best_params_)\n",
    "print('accuracy (mean, std)', clf.cv_results_['mean_test_accuracy_score'][clf.best_index_], clf.cv_results_['std_test_accuracy_score'][clf.best_index_])\n",
    "print('f1 (mean, std)', clf.cv_results_['mean_test_f1_score'][clf.best_index_], clf.cv_results_['std_test_f1_score'][clf.best_index_])"
   ]
  },
  {
   "cell_type": "code",
   "execution_count": 27,
   "metadata": {},
   "outputs": [],
   "source": [
    "# Getting predictions with a leave one interview out\n",
    "from sklearn.model_selection import LeaveOneGroupOut\n",
    "from sklearn.linear_model import LogisticRegression\n",
    "groups = X.reset_index()['video_name']\n",
    "loo = LeaveOneGroupOut()\n",
    "cv_loo = loo.split(X, y, groups)\n",
    "\n",
    "model = clf.best_estimator_\n",
    "\n",
    "ytest_predict = np.zeros(len(y))\n",
    "for train_index, test_index in loo.split(X, y, groups):\n",
    "    #print(train_index, test_index)\n",
    "    Xtrain, Xtest = X.iloc[train_index], X.iloc[test_index]\n",
    "    ytrain, ytest = y.iloc[train_index], y.iloc[test_index]\n",
    "\n",
    "    model.fit(Xtrain, ytrain)\n",
    "    ytest_predict_temp = model.predict(Xtest)\n",
    "    #print(ytest_predict_temp.shape)\n",
    "    #print(test_index.shape)\n",
    "    ytest_predict[test_index] = ytest_predict_temp\n",
    "y_predict = ytest_predict\n",
    "\n",
    "df_ypredict = pd.concat([X.reset_index()[['video_name','diapo']],pd.DataFrame(y_predict, columns=['ypredict'])],axis=1)\n",
    "df_ypredict.columns = ['video_name','diapo','ypredict']\n",
    "df_ypredict.to_csv('ypredict_' + features + '_tw5_diapo_2.csv')"
   ]
  },
  {
   "cell_type": "code",
   "execution_count": 28,
   "metadata": {},
   "outputs": [
    {
     "output_type": "execute_result",
     "data": {
      "text/plain": [
       "array([[36, 65,  0,  0],\n",
       "       [33, 76,  4,  0],\n",
       "       [ 5, 20,  0,  0],\n",
       "       [ 0,  1,  0,  0]])"
      ]
     },
     "metadata": {},
     "execution_count": 28
    }
   ],
   "source": [
    "from sklearn.metrics import confusion_matrix\n",
    "confusion_matrix(y, y_predict)"
   ]
  },
  {
   "cell_type": "code",
   "execution_count": 29,
   "metadata": {},
   "outputs": [
    {
     "output_type": "error",
     "ename": "AttributeError",
     "evalue": "'LogisticRegression' object has no attribute 'feature_importances_'",
     "traceback": [
      "\u001b[0;31m---------------------------------------------------------------------------\u001b[0m",
      "\u001b[0;31mAttributeError\u001b[0m                            Traceback (most recent call last)",
      "\u001b[0;32m<ipython-input-29-68523dddc58f>\u001b[0m in \u001b[0;36m<module>\u001b[0;34m\u001b[0m\n\u001b[0;32m----> 1\u001b[0;31m \u001b[0mprint\u001b[0m\u001b[0;34m(\u001b[0m\u001b[0mX_no_name\u001b[0m\u001b[0;34m.\u001b[0m\u001b[0mcolumns\u001b[0m\u001b[0;34m[\u001b[0m\u001b[0mnp\u001b[0m\u001b[0;34m.\u001b[0m\u001b[0margsort\u001b[0m\u001b[0;34m(\u001b[0m\u001b[0mclf\u001b[0m\u001b[0;34m.\u001b[0m\u001b[0mbest_estimator_\u001b[0m\u001b[0;34m.\u001b[0m\u001b[0mfeature_importances_\u001b[0m\u001b[0;34m)\u001b[0m\u001b[0;34m[\u001b[0m\u001b[0;34m:\u001b[0m\u001b[0;34m-\u001b[0m\u001b[0;36m20\u001b[0m\u001b[0;34m:\u001b[0m\u001b[0;34m-\u001b[0m\u001b[0;36m1\u001b[0m\u001b[0;34m]\u001b[0m\u001b[0;34m]\u001b[0m\u001b[0;34m)\u001b[0m\u001b[0;34m\u001b[0m\u001b[0;34m\u001b[0m\u001b[0m\n\u001b[0m",
      "\u001b[0;31mAttributeError\u001b[0m: 'LogisticRegression' object has no attribute 'feature_importances_'"
     ]
    }
   ],
   "source": [
    "print(X_no_name.columns[np.argsort(clf.best_estimator_.feature_importances_)[:-20:-1]])"
   ]
  },
  {
   "cell_type": "code",
   "execution_count": null,
   "metadata": {},
   "outputs": [],
   "source": []
  },
  {
   "source": [
    "## Stress global"
   ],
   "cell_type": "markdown",
   "metadata": {}
  },
  {
   "source": [
    "### En utilisant le stress prédit des diapos"
   ],
   "cell_type": "markdown",
   "metadata": {}
  },
  {
   "cell_type": "code",
   "execution_count": 6,
   "metadata": {},
   "outputs": [],
   "source": [
    "df_ypredict = pd.read_csv('ypredict_' + features + '_tw5_diapo_2.csv')\n",
    "df_ypredict = df_ypredict.iloc[:,1:]\n",
    "df_ypredict.columns = ['video_name','diapo','ypredict']\n",
    "ypredict_stress_diapo = df_ypredict.pivot_table(values='ypredict', columns='diapo',index='video_name',aggfunc='mean')\n"
   ]
  },
  {
   "cell_type": "code",
   "execution_count": 7,
   "metadata": {},
   "outputs": [
    {
     "output_type": "execute_result",
     "data": {
      "text/plain": [
       "diapo                             1    8    9    10   11   12   17   18\n",
       "video_name                                                             \n",
       "Test_pour_AFPA                   0.0  0.0  1.0  1.0  1.0  1.0  1.0  1.0\n",
       "Video_1                          1.0  0.0  1.0  1.0  1.0  1.0  1.0  1.0\n",
       "WIN_20210323_19_17_40_Pro        1.0  0.0  1.0  1.0  0.0  0.0  0.0  0.0\n",
       "WIN_20210329_10_16_02_Pro        1.0  0.0  1.0  1.0  0.0  0.0  1.0  1.0\n",
       "WIN_20210330_13_10_29_Pro        1.0  0.0  0.0  1.0  1.0  1.0  1.0  1.0\n",
       "WIN_20210331_21_22_52_Pro        1.0  0.0  1.0  1.0  1.0  1.0  0.0  1.0\n",
       "WIN_20210402_14_27_50_Pro        1.0  1.0  1.0  1.0  1.0  1.0  1.0  1.0\n",
       "WIN_20210402_19_04_53_Pro        1.0  1.0  1.0  0.0  1.0  1.0  2.0  1.0\n",
       "WIN_20210403_18_49_15_Pro        1.0  1.0  1.0  1.0  1.0  0.0  1.0  1.0\n",
       "WIN_20210404_10_58_27_Pro        0.0  0.0  1.0  2.0  1.0  1.0  0.0  2.0\n",
       "WIN_20210404_21_41_12_Pro        0.0  1.0  1.0  1.0  1.0  1.0  1.0  1.0\n",
       "WIN_20210405_15_09_16_Pro        1.0  1.0  0.0  1.0  2.0  1.0  0.0  1.0\n",
       "WIN_20210406_15_06_15_Pro        1.0  0.0  1.0  0.0  1.0  1.0  0.0  1.0\n",
       "WIN_20210406_18_35_52_Pro        1.0  1.0  0.0  1.0  0.0  1.0  0.0  1.0\n",
       "WIN_20210406_18_49_10_Pro        1.0  1.0  1.0  0.0  0.0  1.0  1.0  1.0\n",
       "WIN_20210406_21_05_52_Pro        0.0  0.0  1.0  0.0  0.0  1.0  0.0  1.0\n",
       "WIN_20210407_09_04_05_Pro        0.0  1.0  0.0  0.0  1.0  1.0  1.0  1.0\n",
       "WIN_20210407_14_54_56_Pro_edit2  1.0  1.0  0.0  1.0  0.0  1.0  0.0  1.0\n",
       "WIN_20210408_11_48_58_Pro        0.0  0.0  0.0  0.0  0.0  0.0  0.0  0.0\n",
       "WIN_20210408_14_00_44_Pro        0.0  0.0  1.0  1.0  0.0  1.0  1.0  1.0\n",
       "WIN_20210408_14_02_19_Pro        1.0  1.0  1.0  0.0  1.0  0.0  0.0  0.0\n",
       "WIN_20210408_14_11_32_Pro        1.0  1.0  1.0  1.0  1.0  1.0  1.0  1.0\n",
       "WIN_20210408_15_20_51_Pro        1.0  0.0  1.0  1.0  1.0  1.0  0.0  0.0\n",
       "WIN_20210408_16_04_32_Pro        1.0  1.0  1.0  1.0  1.0  1.0  1.0  1.0\n",
       "WIN_20210409_10_26_11_Pro        0.0  1.0  1.0  0.0  1.0  0.0  1.0  0.0\n",
       "WIN_20210413_15_38_01_Pro        1.0  0.0  0.0  0.0  0.0  1.0  1.0  1.0\n",
       "WIN_20210414_06_24_52_Pro        1.0  1.0  1.0  1.0  1.0  1.0  1.0  1.0\n",
       "WIN_20210415_15_41_24_Pro        1.0  0.0  0.0  0.0  0.0  1.0  1.0  1.0\n",
       "WIN_20210416_08_06_54_Pro        1.0  1.0  1.0  1.0  1.0  1.0  1.0  1.0\n",
       "WIN_20210417_14_53_12_Pro        1.0  1.0  1.0  1.0  0.0  1.0  0.0  1.0"
      ],
      "text/html": "<div>\n<style scoped>\n    .dataframe tbody tr th:only-of-type {\n        vertical-align: middle;\n    }\n\n    .dataframe tbody tr th {\n        vertical-align: top;\n    }\n\n    .dataframe thead th {\n        text-align: right;\n    }\n</style>\n<table border=\"1\" class=\"dataframe\">\n  <thead>\n    <tr style=\"text-align: right;\">\n      <th>diapo</th>\n      <th>1</th>\n      <th>8</th>\n      <th>9</th>\n      <th>10</th>\n      <th>11</th>\n      <th>12</th>\n      <th>17</th>\n      <th>18</th>\n    </tr>\n    <tr>\n      <th>video_name</th>\n      <th></th>\n      <th></th>\n      <th></th>\n      <th></th>\n      <th></th>\n      <th></th>\n      <th></th>\n      <th></th>\n    </tr>\n  </thead>\n  <tbody>\n    <tr>\n      <th>Test_pour_AFPA</th>\n      <td>0.0</td>\n      <td>0.0</td>\n      <td>1.0</td>\n      <td>1.0</td>\n      <td>1.0</td>\n      <td>1.0</td>\n      <td>1.0</td>\n      <td>1.0</td>\n    </tr>\n    <tr>\n      <th>Video_1</th>\n      <td>1.0</td>\n      <td>0.0</td>\n      <td>1.0</td>\n      <td>1.0</td>\n      <td>1.0</td>\n      <td>1.0</td>\n      <td>1.0</td>\n      <td>1.0</td>\n    </tr>\n    <tr>\n      <th>WIN_20210323_19_17_40_Pro</th>\n      <td>1.0</td>\n      <td>0.0</td>\n      <td>1.0</td>\n      <td>1.0</td>\n      <td>0.0</td>\n      <td>0.0</td>\n      <td>0.0</td>\n      <td>0.0</td>\n    </tr>\n    <tr>\n      <th>WIN_20210329_10_16_02_Pro</th>\n      <td>1.0</td>\n      <td>0.0</td>\n      <td>1.0</td>\n      <td>1.0</td>\n      <td>0.0</td>\n      <td>0.0</td>\n      <td>1.0</td>\n      <td>1.0</td>\n    </tr>\n    <tr>\n      <th>WIN_20210330_13_10_29_Pro</th>\n      <td>1.0</td>\n      <td>0.0</td>\n      <td>0.0</td>\n      <td>1.0</td>\n      <td>1.0</td>\n      <td>1.0</td>\n      <td>1.0</td>\n      <td>1.0</td>\n    </tr>\n    <tr>\n      <th>WIN_20210331_21_22_52_Pro</th>\n      <td>1.0</td>\n      <td>0.0</td>\n      <td>1.0</td>\n      <td>1.0</td>\n      <td>1.0</td>\n      <td>1.0</td>\n      <td>0.0</td>\n      <td>1.0</td>\n    </tr>\n    <tr>\n      <th>WIN_20210402_14_27_50_Pro</th>\n      <td>1.0</td>\n      <td>1.0</td>\n      <td>1.0</td>\n      <td>1.0</td>\n      <td>1.0</td>\n      <td>1.0</td>\n      <td>1.0</td>\n      <td>1.0</td>\n    </tr>\n    <tr>\n      <th>WIN_20210402_19_04_53_Pro</th>\n      <td>1.0</td>\n      <td>1.0</td>\n      <td>1.0</td>\n      <td>0.0</td>\n      <td>1.0</td>\n      <td>1.0</td>\n      <td>2.0</td>\n      <td>1.0</td>\n    </tr>\n    <tr>\n      <th>WIN_20210403_18_49_15_Pro</th>\n      <td>1.0</td>\n      <td>1.0</td>\n      <td>1.0</td>\n      <td>1.0</td>\n      <td>1.0</td>\n      <td>0.0</td>\n      <td>1.0</td>\n      <td>1.0</td>\n    </tr>\n    <tr>\n      <th>WIN_20210404_10_58_27_Pro</th>\n      <td>0.0</td>\n      <td>0.0</td>\n      <td>1.0</td>\n      <td>2.0</td>\n      <td>1.0</td>\n      <td>1.0</td>\n      <td>0.0</td>\n      <td>2.0</td>\n    </tr>\n    <tr>\n      <th>WIN_20210404_21_41_12_Pro</th>\n      <td>0.0</td>\n      <td>1.0</td>\n      <td>1.0</td>\n      <td>1.0</td>\n      <td>1.0</td>\n      <td>1.0</td>\n      <td>1.0</td>\n      <td>1.0</td>\n    </tr>\n    <tr>\n      <th>WIN_20210405_15_09_16_Pro</th>\n      <td>1.0</td>\n      <td>1.0</td>\n      <td>0.0</td>\n      <td>1.0</td>\n      <td>2.0</td>\n      <td>1.0</td>\n      <td>0.0</td>\n      <td>1.0</td>\n    </tr>\n    <tr>\n      <th>WIN_20210406_15_06_15_Pro</th>\n      <td>1.0</td>\n      <td>0.0</td>\n      <td>1.0</td>\n      <td>0.0</td>\n      <td>1.0</td>\n      <td>1.0</td>\n      <td>0.0</td>\n      <td>1.0</td>\n    </tr>\n    <tr>\n      <th>WIN_20210406_18_35_52_Pro</th>\n      <td>1.0</td>\n      <td>1.0</td>\n      <td>0.0</td>\n      <td>1.0</td>\n      <td>0.0</td>\n      <td>1.0</td>\n      <td>0.0</td>\n      <td>1.0</td>\n    </tr>\n    <tr>\n      <th>WIN_20210406_18_49_10_Pro</th>\n      <td>1.0</td>\n      <td>1.0</td>\n      <td>1.0</td>\n      <td>0.0</td>\n      <td>0.0</td>\n      <td>1.0</td>\n      <td>1.0</td>\n      <td>1.0</td>\n    </tr>\n    <tr>\n      <th>WIN_20210406_21_05_52_Pro</th>\n      <td>0.0</td>\n      <td>0.0</td>\n      <td>1.0</td>\n      <td>0.0</td>\n      <td>0.0</td>\n      <td>1.0</td>\n      <td>0.0</td>\n      <td>1.0</td>\n    </tr>\n    <tr>\n      <th>WIN_20210407_09_04_05_Pro</th>\n      <td>0.0</td>\n      <td>1.0</td>\n      <td>0.0</td>\n      <td>0.0</td>\n      <td>1.0</td>\n      <td>1.0</td>\n      <td>1.0</td>\n      <td>1.0</td>\n    </tr>\n    <tr>\n      <th>WIN_20210407_14_54_56_Pro_edit2</th>\n      <td>1.0</td>\n      <td>1.0</td>\n      <td>0.0</td>\n      <td>1.0</td>\n      <td>0.0</td>\n      <td>1.0</td>\n      <td>0.0</td>\n      <td>1.0</td>\n    </tr>\n    <tr>\n      <th>WIN_20210408_11_48_58_Pro</th>\n      <td>0.0</td>\n      <td>0.0</td>\n      <td>0.0</td>\n      <td>0.0</td>\n      <td>0.0</td>\n      <td>0.0</td>\n      <td>0.0</td>\n      <td>0.0</td>\n    </tr>\n    <tr>\n      <th>WIN_20210408_14_00_44_Pro</th>\n      <td>0.0</td>\n      <td>0.0</td>\n      <td>1.0</td>\n      <td>1.0</td>\n      <td>0.0</td>\n      <td>1.0</td>\n      <td>1.0</td>\n      <td>1.0</td>\n    </tr>\n    <tr>\n      <th>WIN_20210408_14_02_19_Pro</th>\n      <td>1.0</td>\n      <td>1.0</td>\n      <td>1.0</td>\n      <td>0.0</td>\n      <td>1.0</td>\n      <td>0.0</td>\n      <td>0.0</td>\n      <td>0.0</td>\n    </tr>\n    <tr>\n      <th>WIN_20210408_14_11_32_Pro</th>\n      <td>1.0</td>\n      <td>1.0</td>\n      <td>1.0</td>\n      <td>1.0</td>\n      <td>1.0</td>\n      <td>1.0</td>\n      <td>1.0</td>\n      <td>1.0</td>\n    </tr>\n    <tr>\n      <th>WIN_20210408_15_20_51_Pro</th>\n      <td>1.0</td>\n      <td>0.0</td>\n      <td>1.0</td>\n      <td>1.0</td>\n      <td>1.0</td>\n      <td>1.0</td>\n      <td>0.0</td>\n      <td>0.0</td>\n    </tr>\n    <tr>\n      <th>WIN_20210408_16_04_32_Pro</th>\n      <td>1.0</td>\n      <td>1.0</td>\n      <td>1.0</td>\n      <td>1.0</td>\n      <td>1.0</td>\n      <td>1.0</td>\n      <td>1.0</td>\n      <td>1.0</td>\n    </tr>\n    <tr>\n      <th>WIN_20210409_10_26_11_Pro</th>\n      <td>0.0</td>\n      <td>1.0</td>\n      <td>1.0</td>\n      <td>0.0</td>\n      <td>1.0</td>\n      <td>0.0</td>\n      <td>1.0</td>\n      <td>0.0</td>\n    </tr>\n    <tr>\n      <th>WIN_20210413_15_38_01_Pro</th>\n      <td>1.0</td>\n      <td>0.0</td>\n      <td>0.0</td>\n      <td>0.0</td>\n      <td>0.0</td>\n      <td>1.0</td>\n      <td>1.0</td>\n      <td>1.0</td>\n    </tr>\n    <tr>\n      <th>WIN_20210414_06_24_52_Pro</th>\n      <td>1.0</td>\n      <td>1.0</td>\n      <td>1.0</td>\n      <td>1.0</td>\n      <td>1.0</td>\n      <td>1.0</td>\n      <td>1.0</td>\n      <td>1.0</td>\n    </tr>\n    <tr>\n      <th>WIN_20210415_15_41_24_Pro</th>\n      <td>1.0</td>\n      <td>0.0</td>\n      <td>0.0</td>\n      <td>0.0</td>\n      <td>0.0</td>\n      <td>1.0</td>\n      <td>1.0</td>\n      <td>1.0</td>\n    </tr>\n    <tr>\n      <th>WIN_20210416_08_06_54_Pro</th>\n      <td>1.0</td>\n      <td>1.0</td>\n      <td>1.0</td>\n      <td>1.0</td>\n      <td>1.0</td>\n      <td>1.0</td>\n      <td>1.0</td>\n      <td>1.0</td>\n    </tr>\n    <tr>\n      <th>WIN_20210417_14_53_12_Pro</th>\n      <td>1.0</td>\n      <td>1.0</td>\n      <td>1.0</td>\n      <td>1.0</td>\n      <td>0.0</td>\n      <td>1.0</td>\n      <td>0.0</td>\n      <td>1.0</td>\n    </tr>\n  </tbody>\n</table>\n</div>"
     },
     "metadata": {},
     "execution_count": 7
    }
   ],
   "source": [
    "ypredict_stress_diapo # un peu nul - le modèle prédit 1 partout"
   ]
  },
  {
   "cell_type": "code",
   "execution_count": 8,
   "metadata": {},
   "outputs": [
    {
     "output_type": "execute_result",
     "data": {
      "text/plain": [
       "                                   1    8    9   10   11   12   17   18  \\\n",
       "video_name                                                                \n",
       "Test_pour_AFPA                   1.0  1.0  0.0  0.0  0.0  1.0  0.0  1.0   \n",
       "Video_1                          0.0  0.0  0.0  0.0  1.0  1.0  1.0  1.0   \n",
       "WIN_20210323_19_17_40_Pro        1.0  0.0  1.0  1.0  1.0  1.0  1.0  1.0   \n",
       "WIN_20210329_10_16_02_Pro        0.0  0.0  1.0  1.0  0.0  1.0  0.0  0.0   \n",
       "WIN_20210330_13_10_29_Pro        0.0  0.0  0.0  0.0  1.0  0.0  0.0  0.0   \n",
       "WIN_20210331_21_22_52_Pro        0.0  0.0  1.0  1.0  1.0  1.0  0.0  0.0   \n",
       "WIN_20210402_14_27_50_Pro        1.0  1.0  1.0  2.0  1.0  1.0  1.0  1.0   \n",
       "WIN_20210402_19_04_53_Pro        2.0  1.0  1.0  1.0  1.0  2.0  1.0  2.0   \n",
       "WIN_20210403_18_49_15_Pro        1.0  1.0  1.0  1.0  1.0  2.0  2.0  1.0   \n",
       "WIN_20210404_10_58_27_Pro        0.0  1.0  1.0  1.0  1.0  1.0  1.0  1.0   \n",
       "WIN_20210404_21_41_12_Pro        0.0  0.0  1.0  0.0  0.0  1.0  0.0  1.0   \n",
       "WIN_20210405_15_09_16_Pro        0.0  1.0  1.0  1.0  1.0  0.0  0.0  1.0   \n",
       "WIN_20210406_15_06_15_Pro        1.0  1.0  1.0  1.0  1.0  2.0  1.0  2.0   \n",
       "WIN_20210406_18_35_52_Pro        0.0  0.0  1.0  0.0  0.0  1.0  0.0  1.0   \n",
       "WIN_20210406_18_49_10_Pro        1.0  0.0  1.0  1.0  1.0  1.0  1.0  1.0   \n",
       "WIN_20210406_21_05_52_Pro        1.0  2.0  2.0  1.0  2.0  1.0  1.0  1.0   \n",
       "WIN_20210407_09_04_05_Pro        0.0  0.0  2.0  1.0  3.0  1.0  0.0  2.0   \n",
       "WIN_20210407_14_54_56_Pro_edit2  0.0  0.0  0.0  0.0  0.0  1.0  0.0  1.0   \n",
       "WIN_20210408_11_48_58_Pro        0.0  1.0  1.0  1.0  1.0  1.0  1.0  2.0   \n",
       "WIN_20210408_14_00_44_Pro        0.0  0.0  0.0  0.0  0.0  1.0  0.0  0.0   \n",
       "WIN_20210408_14_02_19_Pro        0.0  1.0  0.0  0.0  0.0  0.0  0.0  1.0   \n",
       "WIN_20210408_14_11_32_Pro        0.0  2.0  2.0  2.0  2.0  1.0  0.0  1.0   \n",
       "WIN_20210408_15_20_51_Pro        0.0  0.0  0.0  0.0  0.0  0.0  0.0  0.0   \n",
       "WIN_20210408_16_04_32_Pro        0.0  0.0  1.0  0.0  0.0  0.0  0.0  0.0   \n",
       "WIN_20210409_10_26_11_Pro        1.0  1.0  0.0  1.0  0.0  0.0  1.0  1.0   \n",
       "WIN_20210413_15_38_01_Pro        1.0  0.0  0.0  0.0  0.0  1.0  1.0  1.0   \n",
       "WIN_20210414_06_24_52_Pro        2.0  2.0  2.0  2.0  2.0  1.0  1.0  2.0   \n",
       "WIN_20210415_15_41_24_Pro        1.0  0.0  0.0  1.0  0.0  0.0  0.0  0.0   \n",
       "WIN_20210416_08_06_54_Pro        1.0  2.0  1.0  1.0  1.0  0.0  0.0  1.0   \n",
       "WIN_20210417_14_53_12_Pro        0.0  0.0  0.0  0.0  0.0  0.0  1.0  1.0   \n",
       "\n",
       "                                 stress_global  \n",
       "video_name                                      \n",
       "Test_pour_AFPA                             1.0  \n",
       "Video_1                                    0.0  \n",
       "WIN_20210323_19_17_40_Pro                  1.0  \n",
       "WIN_20210329_10_16_02_Pro                  1.0  \n",
       "WIN_20210330_13_10_29_Pro                  0.0  \n",
       "WIN_20210331_21_22_52_Pro                  1.0  \n",
       "WIN_20210402_14_27_50_Pro                  1.0  \n",
       "WIN_20210402_19_04_53_Pro                  2.0  \n",
       "WIN_20210403_18_49_15_Pro                  2.0  \n",
       "WIN_20210404_10_58_27_Pro                  1.0  \n",
       "WIN_20210404_21_41_12_Pro                  0.0  \n",
       "WIN_20210405_15_09_16_Pro                  1.0  \n",
       "WIN_20210406_15_06_15_Pro                  2.0  \n",
       "WIN_20210406_18_35_52_Pro                  0.0  \n",
       "WIN_20210406_18_49_10_Pro                  1.0  \n",
       "WIN_20210406_21_05_52_Pro                  2.0  \n",
       "WIN_20210407_09_04_05_Pro                  2.0  \n",
       "WIN_20210407_14_54_56_Pro_edit2            0.0  \n",
       "WIN_20210408_11_48_58_Pro                  2.0  \n",
       "WIN_20210408_14_00_44_Pro                  0.0  \n",
       "WIN_20210408_14_02_19_Pro                  0.0  \n",
       "WIN_20210408_14_11_32_Pro                  2.0  \n",
       "WIN_20210408_15_20_51_Pro                  0.0  \n",
       "WIN_20210408_16_04_32_Pro                  0.0  \n",
       "WIN_20210409_10_26_11_Pro                  0.0  \n",
       "WIN_20210413_15_38_01_Pro                  1.0  \n",
       "WIN_20210414_06_24_52_Pro                  2.0  \n",
       "WIN_20210415_15_41_24_Pro                  0.0  \n",
       "WIN_20210416_08_06_54_Pro                  1.0  \n",
       "WIN_20210417_14_53_12_Pro                  0.0  "
      ],
      "text/html": "<div>\n<style scoped>\n    .dataframe tbody tr th:only-of-type {\n        vertical-align: middle;\n    }\n\n    .dataframe tbody tr th {\n        vertical-align: top;\n    }\n\n    .dataframe thead th {\n        text-align: right;\n    }\n</style>\n<table border=\"1\" class=\"dataframe\">\n  <thead>\n    <tr style=\"text-align: right;\">\n      <th></th>\n      <th>1</th>\n      <th>8</th>\n      <th>9</th>\n      <th>10</th>\n      <th>11</th>\n      <th>12</th>\n      <th>17</th>\n      <th>18</th>\n      <th>stress_global</th>\n    </tr>\n    <tr>\n      <th>video_name</th>\n      <th></th>\n      <th></th>\n      <th></th>\n      <th></th>\n      <th></th>\n      <th></th>\n      <th></th>\n      <th></th>\n      <th></th>\n    </tr>\n  </thead>\n  <tbody>\n    <tr>\n      <th>Test_pour_AFPA</th>\n      <td>1.0</td>\n      <td>1.0</td>\n      <td>0.0</td>\n      <td>0.0</td>\n      <td>0.0</td>\n      <td>1.0</td>\n      <td>0.0</td>\n      <td>1.0</td>\n      <td>1.0</td>\n    </tr>\n    <tr>\n      <th>Video_1</th>\n      <td>0.0</td>\n      <td>0.0</td>\n      <td>0.0</td>\n      <td>0.0</td>\n      <td>1.0</td>\n      <td>1.0</td>\n      <td>1.0</td>\n      <td>1.0</td>\n      <td>0.0</td>\n    </tr>\n    <tr>\n      <th>WIN_20210323_19_17_40_Pro</th>\n      <td>1.0</td>\n      <td>0.0</td>\n      <td>1.0</td>\n      <td>1.0</td>\n      <td>1.0</td>\n      <td>1.0</td>\n      <td>1.0</td>\n      <td>1.0</td>\n      <td>1.0</td>\n    </tr>\n    <tr>\n      <th>WIN_20210329_10_16_02_Pro</th>\n      <td>0.0</td>\n      <td>0.0</td>\n      <td>1.0</td>\n      <td>1.0</td>\n      <td>0.0</td>\n      <td>1.0</td>\n      <td>0.0</td>\n      <td>0.0</td>\n      <td>1.0</td>\n    </tr>\n    <tr>\n      <th>WIN_20210330_13_10_29_Pro</th>\n      <td>0.0</td>\n      <td>0.0</td>\n      <td>0.0</td>\n      <td>0.0</td>\n      <td>1.0</td>\n      <td>0.0</td>\n      <td>0.0</td>\n      <td>0.0</td>\n      <td>0.0</td>\n    </tr>\n    <tr>\n      <th>WIN_20210331_21_22_52_Pro</th>\n      <td>0.0</td>\n      <td>0.0</td>\n      <td>1.0</td>\n      <td>1.0</td>\n      <td>1.0</td>\n      <td>1.0</td>\n      <td>0.0</td>\n      <td>0.0</td>\n      <td>1.0</td>\n    </tr>\n    <tr>\n      <th>WIN_20210402_14_27_50_Pro</th>\n      <td>1.0</td>\n      <td>1.0</td>\n      <td>1.0</td>\n      <td>2.0</td>\n      <td>1.0</td>\n      <td>1.0</td>\n      <td>1.0</td>\n      <td>1.0</td>\n      <td>1.0</td>\n    </tr>\n    <tr>\n      <th>WIN_20210402_19_04_53_Pro</th>\n      <td>2.0</td>\n      <td>1.0</td>\n      <td>1.0</td>\n      <td>1.0</td>\n      <td>1.0</td>\n      <td>2.0</td>\n      <td>1.0</td>\n      <td>2.0</td>\n      <td>2.0</td>\n    </tr>\n    <tr>\n      <th>WIN_20210403_18_49_15_Pro</th>\n      <td>1.0</td>\n      <td>1.0</td>\n      <td>1.0</td>\n      <td>1.0</td>\n      <td>1.0</td>\n      <td>2.0</td>\n      <td>2.0</td>\n      <td>1.0</td>\n      <td>2.0</td>\n    </tr>\n    <tr>\n      <th>WIN_20210404_10_58_27_Pro</th>\n      <td>0.0</td>\n      <td>1.0</td>\n      <td>1.0</td>\n      <td>1.0</td>\n      <td>1.0</td>\n      <td>1.0</td>\n      <td>1.0</td>\n      <td>1.0</td>\n      <td>1.0</td>\n    </tr>\n    <tr>\n      <th>WIN_20210404_21_41_12_Pro</th>\n      <td>0.0</td>\n      <td>0.0</td>\n      <td>1.0</td>\n      <td>0.0</td>\n      <td>0.0</td>\n      <td>1.0</td>\n      <td>0.0</td>\n      <td>1.0</td>\n      <td>0.0</td>\n    </tr>\n    <tr>\n      <th>WIN_20210405_15_09_16_Pro</th>\n      <td>0.0</td>\n      <td>1.0</td>\n      <td>1.0</td>\n      <td>1.0</td>\n      <td>1.0</td>\n      <td>0.0</td>\n      <td>0.0</td>\n      <td>1.0</td>\n      <td>1.0</td>\n    </tr>\n    <tr>\n      <th>WIN_20210406_15_06_15_Pro</th>\n      <td>1.0</td>\n      <td>1.0</td>\n      <td>1.0</td>\n      <td>1.0</td>\n      <td>1.0</td>\n      <td>2.0</td>\n      <td>1.0</td>\n      <td>2.0</td>\n      <td>2.0</td>\n    </tr>\n    <tr>\n      <th>WIN_20210406_18_35_52_Pro</th>\n      <td>0.0</td>\n      <td>0.0</td>\n      <td>1.0</td>\n      <td>0.0</td>\n      <td>0.0</td>\n      <td>1.0</td>\n      <td>0.0</td>\n      <td>1.0</td>\n      <td>0.0</td>\n    </tr>\n    <tr>\n      <th>WIN_20210406_18_49_10_Pro</th>\n      <td>1.0</td>\n      <td>0.0</td>\n      <td>1.0</td>\n      <td>1.0</td>\n      <td>1.0</td>\n      <td>1.0</td>\n      <td>1.0</td>\n      <td>1.0</td>\n      <td>1.0</td>\n    </tr>\n    <tr>\n      <th>WIN_20210406_21_05_52_Pro</th>\n      <td>1.0</td>\n      <td>2.0</td>\n      <td>2.0</td>\n      <td>1.0</td>\n      <td>2.0</td>\n      <td>1.0</td>\n      <td>1.0</td>\n      <td>1.0</td>\n      <td>2.0</td>\n    </tr>\n    <tr>\n      <th>WIN_20210407_09_04_05_Pro</th>\n      <td>0.0</td>\n      <td>0.0</td>\n      <td>2.0</td>\n      <td>1.0</td>\n      <td>3.0</td>\n      <td>1.0</td>\n      <td>0.0</td>\n      <td>2.0</td>\n      <td>2.0</td>\n    </tr>\n    <tr>\n      <th>WIN_20210407_14_54_56_Pro_edit2</th>\n      <td>0.0</td>\n      <td>0.0</td>\n      <td>0.0</td>\n      <td>0.0</td>\n      <td>0.0</td>\n      <td>1.0</td>\n      <td>0.0</td>\n      <td>1.0</td>\n      <td>0.0</td>\n    </tr>\n    <tr>\n      <th>WIN_20210408_11_48_58_Pro</th>\n      <td>0.0</td>\n      <td>1.0</td>\n      <td>1.0</td>\n      <td>1.0</td>\n      <td>1.0</td>\n      <td>1.0</td>\n      <td>1.0</td>\n      <td>2.0</td>\n      <td>2.0</td>\n    </tr>\n    <tr>\n      <th>WIN_20210408_14_00_44_Pro</th>\n      <td>0.0</td>\n      <td>0.0</td>\n      <td>0.0</td>\n      <td>0.0</td>\n      <td>0.0</td>\n      <td>1.0</td>\n      <td>0.0</td>\n      <td>0.0</td>\n      <td>0.0</td>\n    </tr>\n    <tr>\n      <th>WIN_20210408_14_02_19_Pro</th>\n      <td>0.0</td>\n      <td>1.0</td>\n      <td>0.0</td>\n      <td>0.0</td>\n      <td>0.0</td>\n      <td>0.0</td>\n      <td>0.0</td>\n      <td>1.0</td>\n      <td>0.0</td>\n    </tr>\n    <tr>\n      <th>WIN_20210408_14_11_32_Pro</th>\n      <td>0.0</td>\n      <td>2.0</td>\n      <td>2.0</td>\n      <td>2.0</td>\n      <td>2.0</td>\n      <td>1.0</td>\n      <td>0.0</td>\n      <td>1.0</td>\n      <td>2.0</td>\n    </tr>\n    <tr>\n      <th>WIN_20210408_15_20_51_Pro</th>\n      <td>0.0</td>\n      <td>0.0</td>\n      <td>0.0</td>\n      <td>0.0</td>\n      <td>0.0</td>\n      <td>0.0</td>\n      <td>0.0</td>\n      <td>0.0</td>\n      <td>0.0</td>\n    </tr>\n    <tr>\n      <th>WIN_20210408_16_04_32_Pro</th>\n      <td>0.0</td>\n      <td>0.0</td>\n      <td>1.0</td>\n      <td>0.0</td>\n      <td>0.0</td>\n      <td>0.0</td>\n      <td>0.0</td>\n      <td>0.0</td>\n      <td>0.0</td>\n    </tr>\n    <tr>\n      <th>WIN_20210409_10_26_11_Pro</th>\n      <td>1.0</td>\n      <td>1.0</td>\n      <td>0.0</td>\n      <td>1.0</td>\n      <td>0.0</td>\n      <td>0.0</td>\n      <td>1.0</td>\n      <td>1.0</td>\n      <td>0.0</td>\n    </tr>\n    <tr>\n      <th>WIN_20210413_15_38_01_Pro</th>\n      <td>1.0</td>\n      <td>0.0</td>\n      <td>0.0</td>\n      <td>0.0</td>\n      <td>0.0</td>\n      <td>1.0</td>\n      <td>1.0</td>\n      <td>1.0</td>\n      <td>1.0</td>\n    </tr>\n    <tr>\n      <th>WIN_20210414_06_24_52_Pro</th>\n      <td>2.0</td>\n      <td>2.0</td>\n      <td>2.0</td>\n      <td>2.0</td>\n      <td>2.0</td>\n      <td>1.0</td>\n      <td>1.0</td>\n      <td>2.0</td>\n      <td>2.0</td>\n    </tr>\n    <tr>\n      <th>WIN_20210415_15_41_24_Pro</th>\n      <td>1.0</td>\n      <td>0.0</td>\n      <td>0.0</td>\n      <td>1.0</td>\n      <td>0.0</td>\n      <td>0.0</td>\n      <td>0.0</td>\n      <td>0.0</td>\n      <td>0.0</td>\n    </tr>\n    <tr>\n      <th>WIN_20210416_08_06_54_Pro</th>\n      <td>1.0</td>\n      <td>2.0</td>\n      <td>1.0</td>\n      <td>1.0</td>\n      <td>1.0</td>\n      <td>0.0</td>\n      <td>0.0</td>\n      <td>1.0</td>\n      <td>1.0</td>\n    </tr>\n    <tr>\n      <th>WIN_20210417_14_53_12_Pro</th>\n      <td>0.0</td>\n      <td>0.0</td>\n      <td>0.0</td>\n      <td>0.0</td>\n      <td>0.0</td>\n      <td>0.0</td>\n      <td>1.0</td>\n      <td>1.0</td>\n      <td>0.0</td>\n    </tr>\n  </tbody>\n</table>\n</div>"
     },
     "metadata": {},
     "execution_count": 8
    }
   ],
   "source": [
    "df_annotations_stress = pd.read_csv('annotations.csv')\n",
    "#df_annotations_stress = df_annotations_stress.drop(df_annotations_stress.columns[-1],axis=1).set_index('video_name').stack()\n",
    "#df_annotations_stress = pd.DataFrame(df_annotations_stress).reset_index()\n",
    "#df_annotations_stress.columns = ['video_name','diapo','stress']\n",
    "df_annotations_stress = df_annotations_stress.set_index(['video_name'])\n",
    "#df_annotations_stress['diapo'] = df_annotations_stress['diapo'].astype(int)\n",
    "df_annotations_stress"
   ]
  },
  {
   "cell_type": "code",
   "execution_count": 9,
   "metadata": {},
   "outputs": [
    {
     "output_type": "stream",
     "name": "stdout",
     "text": [
      "Fitting 5 folds for each of 12 candidates, totalling 60 fits\n",
      "[Parallel(n_jobs=1)]: Using backend SequentialBackend with 1 concurrent workers.\n",
      "Best results 0.7651587301587301\n",
      "Best params {'C': 0.1, 'class_weight': None}\n",
      "[Parallel(n_jobs=1)]: Done  60 out of  60 | elapsed:    0.9s finished\n"
     ]
    }
   ],
   "source": [
    "# En utilisant les annotations dees stress des diapos comme X\n",
    "from sklearn.linear_model import LogisticRegression\n",
    "from sklearn.model_selection import cross_val_score, GridSearchCV\n",
    "from sklearn.metrics import accuracy_score, f1_score\n",
    "import warnings\n",
    "warnings.filterwarnings(\"ignore\")\n",
    "\n",
    "parameters = {'C': [0.01, 0.05, 0.1, 0.5, 1, 2], 'class_weight' : [None, 'balanced']}\n",
    "\n",
    "X = df_annotations_stress.iloc[:,:-1]\n",
    "#X = ypredict_stress_diapo\n",
    "y = df_annotations_stress.iloc[:,-1]\n",
    "\n",
    "model = LogisticRegression(multi_class='multinomial', fit_intercept=True, random_state=42)\n",
    "clf = GridSearchCV(estimator=model, \n",
    "                    param_grid=parameters, \n",
    "                    scoring={'accuracy_score' : 'accuracy', 'f1_score' : 'f1_weighted' }, \n",
    "                    refit='f1_score',\n",
    "                    cv=5, verbose=1)\n",
    "clf.fit(X, y)\n",
    "print('Best results', clf.best_score_)\n",
    "print('Best params', clf.best_params_)\n",
    "\n",
    "# Prediction\n",
    "clf.best_estimator_.fit(X,y)\n",
    "ypredict_stress_global = clf.best_estimator_.predict(ypredict_stress_diapo)"
   ]
  },
  {
   "cell_type": "code",
   "execution_count": 10,
   "metadata": {},
   "outputs": [],
   "source": [
    "df_ypredict_stress_global = pd.concat([ypredict_stress_diapo.reset_index(), pd.DataFrame(ypredict_stress_global,columns=['predicted_stress_global'])], axis=1) \n",
    "df_ypredict_stress_global = df_ypredict_stress_global.set_index('video_name').sort_index()\n",
    "df_ypredict_stress_global = df_ypredict_stress_global.iloc[:,-1]"
   ]
  },
  {
   "cell_type": "code",
   "execution_count": 11,
   "metadata": {},
   "outputs": [
    {
     "output_type": "stream",
     "name": "stdout",
     "text": [
      "Accuracy 0.43333333333333335\nF1 0.40387464387464383\n"
     ]
    }
   ],
   "source": [
    "from sklearn.metrics import accuracy_score, f1_score\n",
    "print('Accuracy',accuracy_score(y.sort_index().values,df_ypredict_stress_global))\n",
    "print('F1',f1_score(y.sort_index().values,df_ypredict_stress_global, average='weighted'))"
   ]
  },
  {
   "cell_type": "code",
   "execution_count": 12,
   "metadata": {},
   "outputs": [
    {
     "output_type": "execute_result",
     "data": {
      "text/plain": [
       "                                 stress_global  predicted_stress_global\n",
       "video_name                                                             \n",
       "Test_pour_AFPA                             1.0                      1.0\n",
       "Video_1                                    0.0                      1.0\n",
       "WIN_20210323_19_17_40_Pro                  1.0                      0.0\n",
       "WIN_20210329_10_16_02_Pro                  1.0                      0.0\n",
       "WIN_20210330_13_10_29_Pro                  0.0                      1.0\n",
       "WIN_20210331_21_22_52_Pro                  1.0                      1.0\n",
       "WIN_20210402_14_27_50_Pro                  1.0                      1.0\n",
       "WIN_20210402_19_04_53_Pro                  2.0                      2.0\n",
       "WIN_20210403_18_49_15_Pro                  2.0                      1.0\n",
       "WIN_20210404_10_58_27_Pro                  1.0                      1.0\n",
       "WIN_20210404_21_41_12_Pro                  0.0                      1.0\n",
       "WIN_20210405_15_09_16_Pro                  1.0                      1.0\n",
       "WIN_20210406_15_06_15_Pro                  2.0                      0.0\n",
       "WIN_20210406_18_35_52_Pro                  0.0                      0.0\n",
       "WIN_20210406_18_49_10_Pro                  1.0                      0.0\n",
       "WIN_20210406_21_05_52_Pro                  2.0                      0.0\n",
       "WIN_20210407_09_04_05_Pro                  2.0                      0.0\n",
       "WIN_20210407_14_54_56_Pro_edit2            0.0                      0.0\n",
       "WIN_20210408_11_48_58_Pro                  2.0                      0.0\n",
       "WIN_20210408_14_00_44_Pro                  0.0                      0.0\n",
       "WIN_20210408_14_02_19_Pro                  0.0                      0.0\n",
       "WIN_20210408_14_11_32_Pro                  2.0                      1.0\n",
       "WIN_20210408_15_20_51_Pro                  0.0                      1.0\n",
       "WIN_20210408_16_04_32_Pro                  0.0                      1.0\n",
       "WIN_20210409_10_26_11_Pro                  0.0                      0.0\n",
       "WIN_20210413_15_38_01_Pro                  1.0                      0.0\n",
       "WIN_20210414_06_24_52_Pro                  2.0                      1.0\n",
       "WIN_20210415_15_41_24_Pro                  0.0                      0.0\n",
       "WIN_20210416_08_06_54_Pro                  1.0                      1.0\n",
       "WIN_20210417_14_53_12_Pro                  0.0                      1.0"
      ],
      "text/html": "<div>\n<style scoped>\n    .dataframe tbody tr th:only-of-type {\n        vertical-align: middle;\n    }\n\n    .dataframe tbody tr th {\n        vertical-align: top;\n    }\n\n    .dataframe thead th {\n        text-align: right;\n    }\n</style>\n<table border=\"1\" class=\"dataframe\">\n  <thead>\n    <tr style=\"text-align: right;\">\n      <th></th>\n      <th>stress_global</th>\n      <th>predicted_stress_global</th>\n    </tr>\n    <tr>\n      <th>video_name</th>\n      <th></th>\n      <th></th>\n    </tr>\n  </thead>\n  <tbody>\n    <tr>\n      <th>Test_pour_AFPA</th>\n      <td>1.0</td>\n      <td>1.0</td>\n    </tr>\n    <tr>\n      <th>Video_1</th>\n      <td>0.0</td>\n      <td>1.0</td>\n    </tr>\n    <tr>\n      <th>WIN_20210323_19_17_40_Pro</th>\n      <td>1.0</td>\n      <td>0.0</td>\n    </tr>\n    <tr>\n      <th>WIN_20210329_10_16_02_Pro</th>\n      <td>1.0</td>\n      <td>0.0</td>\n    </tr>\n    <tr>\n      <th>WIN_20210330_13_10_29_Pro</th>\n      <td>0.0</td>\n      <td>1.0</td>\n    </tr>\n    <tr>\n      <th>WIN_20210331_21_22_52_Pro</th>\n      <td>1.0</td>\n      <td>1.0</td>\n    </tr>\n    <tr>\n      <th>WIN_20210402_14_27_50_Pro</th>\n      <td>1.0</td>\n      <td>1.0</td>\n    </tr>\n    <tr>\n      <th>WIN_20210402_19_04_53_Pro</th>\n      <td>2.0</td>\n      <td>2.0</td>\n    </tr>\n    <tr>\n      <th>WIN_20210403_18_49_15_Pro</th>\n      <td>2.0</td>\n      <td>1.0</td>\n    </tr>\n    <tr>\n      <th>WIN_20210404_10_58_27_Pro</th>\n      <td>1.0</td>\n      <td>1.0</td>\n    </tr>\n    <tr>\n      <th>WIN_20210404_21_41_12_Pro</th>\n      <td>0.0</td>\n      <td>1.0</td>\n    </tr>\n    <tr>\n      <th>WIN_20210405_15_09_16_Pro</th>\n      <td>1.0</td>\n      <td>1.0</td>\n    </tr>\n    <tr>\n      <th>WIN_20210406_15_06_15_Pro</th>\n      <td>2.0</td>\n      <td>0.0</td>\n    </tr>\n    <tr>\n      <th>WIN_20210406_18_35_52_Pro</th>\n      <td>0.0</td>\n      <td>0.0</td>\n    </tr>\n    <tr>\n      <th>WIN_20210406_18_49_10_Pro</th>\n      <td>1.0</td>\n      <td>0.0</td>\n    </tr>\n    <tr>\n      <th>WIN_20210406_21_05_52_Pro</th>\n      <td>2.0</td>\n      <td>0.0</td>\n    </tr>\n    <tr>\n      <th>WIN_20210407_09_04_05_Pro</th>\n      <td>2.0</td>\n      <td>0.0</td>\n    </tr>\n    <tr>\n      <th>WIN_20210407_14_54_56_Pro_edit2</th>\n      <td>0.0</td>\n      <td>0.0</td>\n    </tr>\n    <tr>\n      <th>WIN_20210408_11_48_58_Pro</th>\n      <td>2.0</td>\n      <td>0.0</td>\n    </tr>\n    <tr>\n      <th>WIN_20210408_14_00_44_Pro</th>\n      <td>0.0</td>\n      <td>0.0</td>\n    </tr>\n    <tr>\n      <th>WIN_20210408_14_02_19_Pro</th>\n      <td>0.0</td>\n      <td>0.0</td>\n    </tr>\n    <tr>\n      <th>WIN_20210408_14_11_32_Pro</th>\n      <td>2.0</td>\n      <td>1.0</td>\n    </tr>\n    <tr>\n      <th>WIN_20210408_15_20_51_Pro</th>\n      <td>0.0</td>\n      <td>1.0</td>\n    </tr>\n    <tr>\n      <th>WIN_20210408_16_04_32_Pro</th>\n      <td>0.0</td>\n      <td>1.0</td>\n    </tr>\n    <tr>\n      <th>WIN_20210409_10_26_11_Pro</th>\n      <td>0.0</td>\n      <td>0.0</td>\n    </tr>\n    <tr>\n      <th>WIN_20210413_15_38_01_Pro</th>\n      <td>1.0</td>\n      <td>0.0</td>\n    </tr>\n    <tr>\n      <th>WIN_20210414_06_24_52_Pro</th>\n      <td>2.0</td>\n      <td>1.0</td>\n    </tr>\n    <tr>\n      <th>WIN_20210415_15_41_24_Pro</th>\n      <td>0.0</td>\n      <td>0.0</td>\n    </tr>\n    <tr>\n      <th>WIN_20210416_08_06_54_Pro</th>\n      <td>1.0</td>\n      <td>1.0</td>\n    </tr>\n    <tr>\n      <th>WIN_20210417_14_53_12_Pro</th>\n      <td>0.0</td>\n      <td>1.0</td>\n    </tr>\n  </tbody>\n</table>\n</div>"
     },
     "metadata": {},
     "execution_count": 12
    }
   ],
   "source": [
    "pd.concat([y, df_ypredict_stress_global],axis=1)"
   ]
  },
  {
   "source": [
    "#### Autre méthode"
   ],
   "cell_type": "markdown",
   "metadata": {}
  },
  {
   "cell_type": "code",
   "execution_count": 15,
   "metadata": {},
   "outputs": [
    {
     "output_type": "stream",
     "name": "stdout",
     "text": [
      "Fitting 30 folds for each of 12 candidates, totalling 360 fits\n",
      "[Parallel(n_jobs=1)]: Using backend SequentialBackend with 1 concurrent workers.\n",
      "Best results 0.4\n",
      "Best params {'C': 0.01, 'class_weight': None}\n",
      "accuracy (mean, std) 0.4 0.4898979485566357\n",
      "f1 (mean, std) 0.4 0.4898979485566357\n",
      "[Parallel(n_jobs=1)]: Done 360 out of 360 | elapsed:    5.0s finished\n"
     ]
    }
   ],
   "source": [
    "# En utilisant les prédictions des stress des diapos comme X (et non les annotations)\n",
    "from sklearn.model_selection import LeaveOneGroupOut\n",
    "from sklearn.linear_model import LogisticRegression\n",
    "from sklearn.model_selection import cross_val_score, GridSearchCV\n",
    "from sklearn.metrics import accuracy_score, f1_score\n",
    "import warnings\n",
    "warnings.filterwarnings(\"ignore\")\n",
    "\n",
    "#X = df_annotations_stress.iloc[:,:-1]\n",
    "X = ypredict_stress_diapo\n",
    "y = df_annotations_stress.iloc[:,-1]\n",
    "\n",
    "groups = X.reset_index()['video_name']\n",
    "loo = LeaveOneGroupOut()\n",
    "cv_loo = loo.split(X, y, groups)\n",
    "\n",
    "parameters = {'C': [0.01, 0.05, 0.1, 0.5, 1, 2], 'class_weight' : [None, 'balanced']}\n",
    "\n",
    "model = LogisticRegression(multi_class='multinomial', fit_intercept=True, random_state=42)\n",
    "clf = GridSearchCV(estimator=model, \n",
    "                    param_grid=parameters, \n",
    "                    scoring={'accuracy_score' : 'accuracy', 'f1_score' : 'f1_weighted' }, \n",
    "                    refit='f1_score',\n",
    "                    cv=cv_loo, verbose=1)\n",
    "clf.fit(X, y)\n",
    "print('Best results', clf.best_score_)\n",
    "print('Best params', clf.best_params_)\n",
    "print('accuracy (mean, std)', clf.cv_results_['mean_test_accuracy_score'][clf.best_index_], clf.cv_results_['std_test_accuracy_score'][clf.best_index_])\n",
    "print('f1 (mean, std)', clf.cv_results_['mean_test_f1_score'][clf.best_index_], clf.cv_results_['std_test_f1_score'][clf.best_index_])\n",
    "\n"
   ]
  },
  {
   "cell_type": "code",
   "execution_count": 17,
   "metadata": {},
   "outputs": [],
   "source": [
    "# Getting predictions with a leave one interview out\n",
    "from sklearn.model_selection import LeaveOneGroupOut\n",
    "from sklearn.linear_model import LogisticRegression\n",
    "groups = X.reset_index()['video_name']\n",
    "loo = LeaveOneGroupOut()\n",
    "cv_loo = loo.split(X, y, groups)\n",
    "\n",
    "model = clf.best_estimator_\n",
    "\n",
    "ytest_predict = np.zeros(len(y))\n",
    "for train_index, test_index in loo.split(X, y, groups):\n",
    "    #print(train_index, test_index)\n",
    "    Xtrain, Xtest = X.iloc[train_index], X.iloc[test_index]\n",
    "    ytrain, ytest = y.iloc[train_index], y.iloc[test_index]\n",
    "\n",
    "    model.fit(Xtrain, ytrain)\n",
    "    ytest_predict_temp = model.predict(Xtest)\n",
    "    #print(ytest_predict_temp.shape)\n",
    "    #print(test_index.shape)\n",
    "    ytest_predict[test_index] = ytest_predict_temp\n",
    "y_predict = ytest_predict\n",
    "\n",
    "df_ypredict = pd.concat([X.reset_index()[['video_name']],pd.DataFrame(y_predict, columns=['ypredict'])],axis=1)\n",
    "df_ypredict.columns = ['video_name','ypredict']\n",
    "df_ypredict.to_csv('ypredict_' + features + '_tw5_diapo_2bis.csv')"
   ]
  },
  {
   "source": [
    "### En utilisant le stress prédit des time windows 5s"
   ],
   "cell_type": "markdown",
   "metadata": {}
  },
  {
   "cell_type": "code",
   "execution_count": 18,
   "metadata": {},
   "outputs": [
    {
     "output_type": "execute_result",
     "data": {
      "text/plain": [
       "ypredict                                0         1         2\n",
       "video_name                                                   \n",
       "Test_pour_AFPA                   0.185185  0.798942  0.015873\n",
       "Video_1                          0.357616  0.642384  0.000000\n",
       "WIN_20210323_19_17_40_Pro        0.303571  0.690476  0.005952\n",
       "WIN_20210329_10_16_02_Pro        0.190476  0.809524  0.000000\n",
       "WIN_20210330_13_10_29_Pro        0.271523  0.728477  0.000000\n",
       "WIN_20210331_21_22_52_Pro        0.329412  0.670588  0.000000\n",
       "WIN_20210402_14_27_50_Pro        0.005376  0.994624  0.000000\n",
       "WIN_20210402_19_04_53_Pro        0.897143  0.080000  0.022857\n",
       "WIN_20210403_18_49_15_Pro        0.287293  0.712707  0.000000\n",
       "WIN_20210404_10_58_27_Pro        0.810000  0.115000  0.075000\n",
       "WIN_20210404_21_41_12_Pro        0.349138  0.650862  0.000000\n",
       "WIN_20210405_15_09_16_Pro        0.400000  0.593548  0.006452\n",
       "WIN_20210406_15_06_15_Pro        0.136585  0.863415  0.000000\n",
       "WIN_20210406_18_35_52_Pro        0.481013  0.518987  0.000000\n",
       "WIN_20210406_18_49_10_Pro        0.216374  0.783626  0.000000\n",
       "WIN_20210406_21_05_52_Pro        0.410811  0.589189  0.000000\n",
       "WIN_20210407_09_04_05_Pro        0.439791  0.554974  0.005236\n",
       "WIN_20210407_14_54_56_Pro_edit2  0.383648  0.616352  0.000000\n",
       "WIN_20210408_11_48_58_Pro        0.040000  0.626667  0.333333\n",
       "WIN_20210408_14_00_44_Pro        0.185393  0.814607  0.000000\n",
       "WIN_20210408_14_02_19_Pro        0.423529  0.570588  0.005882\n",
       "WIN_20210408_14_11_32_Pro        0.000000  1.000000  0.000000\n",
       "WIN_20210408_15_20_51_Pro        0.122549  0.254902  0.622549\n",
       "WIN_20210408_16_04_32_Pro        0.135294  0.864706  0.000000\n",
       "WIN_20210409_10_26_11_Pro        0.502890  0.497110  0.000000\n",
       "WIN_20210413_15_38_01_Pro        0.254335  0.745665  0.000000\n",
       "WIN_20210414_06_24_52_Pro        0.994819  0.005181  0.000000\n",
       "WIN_20210415_15_41_24_Pro        0.511521  0.488479  0.000000\n",
       "WIN_20210416_08_06_54_Pro        0.000000  1.000000  0.000000\n",
       "WIN_20210417_14_53_12_Pro        0.404580  0.595420  0.000000"
      ],
      "text/html": "<div>\n<style scoped>\n    .dataframe tbody tr th:only-of-type {\n        vertical-align: middle;\n    }\n\n    .dataframe tbody tr th {\n        vertical-align: top;\n    }\n\n    .dataframe thead th {\n        text-align: right;\n    }\n</style>\n<table border=\"1\" class=\"dataframe\">\n  <thead>\n    <tr style=\"text-align: right;\">\n      <th>ypredict</th>\n      <th>0</th>\n      <th>1</th>\n      <th>2</th>\n    </tr>\n    <tr>\n      <th>video_name</th>\n      <th></th>\n      <th></th>\n      <th></th>\n    </tr>\n  </thead>\n  <tbody>\n    <tr>\n      <th>Test_pour_AFPA</th>\n      <td>0.185185</td>\n      <td>0.798942</td>\n      <td>0.015873</td>\n    </tr>\n    <tr>\n      <th>Video_1</th>\n      <td>0.357616</td>\n      <td>0.642384</td>\n      <td>0.000000</td>\n    </tr>\n    <tr>\n      <th>WIN_20210323_19_17_40_Pro</th>\n      <td>0.303571</td>\n      <td>0.690476</td>\n      <td>0.005952</td>\n    </tr>\n    <tr>\n      <th>WIN_20210329_10_16_02_Pro</th>\n      <td>0.190476</td>\n      <td>0.809524</td>\n      <td>0.000000</td>\n    </tr>\n    <tr>\n      <th>WIN_20210330_13_10_29_Pro</th>\n      <td>0.271523</td>\n      <td>0.728477</td>\n      <td>0.000000</td>\n    </tr>\n    <tr>\n      <th>WIN_20210331_21_22_52_Pro</th>\n      <td>0.329412</td>\n      <td>0.670588</td>\n      <td>0.000000</td>\n    </tr>\n    <tr>\n      <th>WIN_20210402_14_27_50_Pro</th>\n      <td>0.005376</td>\n      <td>0.994624</td>\n      <td>0.000000</td>\n    </tr>\n    <tr>\n      <th>WIN_20210402_19_04_53_Pro</th>\n      <td>0.897143</td>\n      <td>0.080000</td>\n      <td>0.022857</td>\n    </tr>\n    <tr>\n      <th>WIN_20210403_18_49_15_Pro</th>\n      <td>0.287293</td>\n      <td>0.712707</td>\n      <td>0.000000</td>\n    </tr>\n    <tr>\n      <th>WIN_20210404_10_58_27_Pro</th>\n      <td>0.810000</td>\n      <td>0.115000</td>\n      <td>0.075000</td>\n    </tr>\n    <tr>\n      <th>WIN_20210404_21_41_12_Pro</th>\n      <td>0.349138</td>\n      <td>0.650862</td>\n      <td>0.000000</td>\n    </tr>\n    <tr>\n      <th>WIN_20210405_15_09_16_Pro</th>\n      <td>0.400000</td>\n      <td>0.593548</td>\n      <td>0.006452</td>\n    </tr>\n    <tr>\n      <th>WIN_20210406_15_06_15_Pro</th>\n      <td>0.136585</td>\n      <td>0.863415</td>\n      <td>0.000000</td>\n    </tr>\n    <tr>\n      <th>WIN_20210406_18_35_52_Pro</th>\n      <td>0.481013</td>\n      <td>0.518987</td>\n      <td>0.000000</td>\n    </tr>\n    <tr>\n      <th>WIN_20210406_18_49_10_Pro</th>\n      <td>0.216374</td>\n      <td>0.783626</td>\n      <td>0.000000</td>\n    </tr>\n    <tr>\n      <th>WIN_20210406_21_05_52_Pro</th>\n      <td>0.410811</td>\n      <td>0.589189</td>\n      <td>0.000000</td>\n    </tr>\n    <tr>\n      <th>WIN_20210407_09_04_05_Pro</th>\n      <td>0.439791</td>\n      <td>0.554974</td>\n      <td>0.005236</td>\n    </tr>\n    <tr>\n      <th>WIN_20210407_14_54_56_Pro_edit2</th>\n      <td>0.383648</td>\n      <td>0.616352</td>\n      <td>0.000000</td>\n    </tr>\n    <tr>\n      <th>WIN_20210408_11_48_58_Pro</th>\n      <td>0.040000</td>\n      <td>0.626667</td>\n      <td>0.333333</td>\n    </tr>\n    <tr>\n      <th>WIN_20210408_14_00_44_Pro</th>\n      <td>0.185393</td>\n      <td>0.814607</td>\n      <td>0.000000</td>\n    </tr>\n    <tr>\n      <th>WIN_20210408_14_02_19_Pro</th>\n      <td>0.423529</td>\n      <td>0.570588</td>\n      <td>0.005882</td>\n    </tr>\n    <tr>\n      <th>WIN_20210408_14_11_32_Pro</th>\n      <td>0.000000</td>\n      <td>1.000000</td>\n      <td>0.000000</td>\n    </tr>\n    <tr>\n      <th>WIN_20210408_15_20_51_Pro</th>\n      <td>0.122549</td>\n      <td>0.254902</td>\n      <td>0.622549</td>\n    </tr>\n    <tr>\n      <th>WIN_20210408_16_04_32_Pro</th>\n      <td>0.135294</td>\n      <td>0.864706</td>\n      <td>0.000000</td>\n    </tr>\n    <tr>\n      <th>WIN_20210409_10_26_11_Pro</th>\n      <td>0.502890</td>\n      <td>0.497110</td>\n      <td>0.000000</td>\n    </tr>\n    <tr>\n      <th>WIN_20210413_15_38_01_Pro</th>\n      <td>0.254335</td>\n      <td>0.745665</td>\n      <td>0.000000</td>\n    </tr>\n    <tr>\n      <th>WIN_20210414_06_24_52_Pro</th>\n      <td>0.994819</td>\n      <td>0.005181</td>\n      <td>0.000000</td>\n    </tr>\n    <tr>\n      <th>WIN_20210415_15_41_24_Pro</th>\n      <td>0.511521</td>\n      <td>0.488479</td>\n      <td>0.000000</td>\n    </tr>\n    <tr>\n      <th>WIN_20210416_08_06_54_Pro</th>\n      <td>0.000000</td>\n      <td>1.000000</td>\n      <td>0.000000</td>\n    </tr>\n    <tr>\n      <th>WIN_20210417_14_53_12_Pro</th>\n      <td>0.404580</td>\n      <td>0.595420</td>\n      <td>0.000000</td>\n    </tr>\n  </tbody>\n</table>\n</div>"
     },
     "metadata": {},
     "execution_count": 18
    }
   ],
   "source": [
    "df_ypredict = pd.read_csv('ypredict_' + features + '_tw5_2.csv')\n",
    "df_ypredict = df_ypredict.iloc[:,1:]\n",
    "df_ypredict.columns = ['video_name','diapo','frameTimeWindow','ypredict']\n",
    "df_ypredict['ypredict'] = df_ypredict['ypredict'].astype(int)\n",
    "df_ypredict = df_ypredict.pivot_table(values='frameTimeWindow', columns='ypredict', index='video_name', aggfunc='count', fill_value=0)\n",
    "df_ypredict_sum = df_ypredict.sum(axis=1).values.copy()\n",
    "for col_number in range(len(df_ypredict.columns)):\n",
    "    df_ypredict.iloc[:,col_number] = df_ypredict.iloc[:,col_number] / df_ypredict_sum\n",
    "#df_ypredict = df_ypredict.reset_index()\n",
    "df_ypredict\n"
   ]
  },
  {
   "cell_type": "code",
   "execution_count": 71,
   "metadata": {},
   "outputs": [
    {
     "output_type": "execute_result",
     "data": {
      "text/plain": [
       "                                ypredict                                  \\\n",
       "                                     max       std      mean percentil75   \n",
       "video_name                diapo                                            \n",
       "Test_pour_AFPA            1            1  0.386953  0.823529         1.0   \n",
       "                          8            1  0.421637  0.800000         1.0   \n",
       "                          9            2  0.223607  1.050000         1.0   \n",
       "                          10           1  0.000000  1.000000         1.0   \n",
       "                          11           1  0.223607  0.950000         1.0   \n",
       "...                                  ...       ...       ...         ...   \n",
       "WIN_20210417_14_53_12_Pro 10           1  0.513553  0.571429         1.0   \n",
       "                          11           1  0.502625  0.400000         1.0   \n",
       "                          12           1  0.364110  0.848485         1.0   \n",
       "                          17           1  0.534522  0.428571         1.0   \n",
       "                          18           1  0.470472  0.695652         1.0   \n",
       "\n",
       "                                                                             \n",
       "                                percentil25      skew min median   kurtosis  \n",
       "video_name                diapo                                              \n",
       "Test_pour_AFPA            1             1.0 -1.697337   0    1.0   0.880952  \n",
       "                          8             1.0 -1.500000   0    1.0   0.250000  \n",
       "                          9             1.0  4.129483   1    1.0  15.052632  \n",
       "                          10            1.0  0.000000   1    1.0  -3.000000  \n",
       "                          11            1.0 -4.129483   0    1.0  15.052632  \n",
       "...                                     ...       ...  ..    ...        ...  \n",
       "WIN_20210417_14_53_12_Pro 10            0.0 -0.288675   0    1.0  -1.916667  \n",
       "                          11            0.0  0.408248   0    0.0  -1.833333  \n",
       "                          12            1.0 -1.943855   0    1.0   1.778571  \n",
       "                          17            0.0  0.288675   0    0.0  -1.916667  \n",
       "                          18            0.0 -0.850420   0    1.0  -1.276786  \n",
       "\n",
       "[240 rows x 9 columns]"
      ],
      "text/html": "<div>\n<style scoped>\n    .dataframe tbody tr th:only-of-type {\n        vertical-align: middle;\n    }\n\n    .dataframe tbody tr th {\n        vertical-align: top;\n    }\n\n    .dataframe thead tr th {\n        text-align: left;\n    }\n\n    .dataframe thead tr:last-of-type th {\n        text-align: right;\n    }\n</style>\n<table border=\"1\" class=\"dataframe\">\n  <thead>\n    <tr>\n      <th></th>\n      <th></th>\n      <th colspan=\"9\" halign=\"left\">ypredict</th>\n    </tr>\n    <tr>\n      <th></th>\n      <th></th>\n      <th>max</th>\n      <th>std</th>\n      <th>mean</th>\n      <th>percentil75</th>\n      <th>percentil25</th>\n      <th>skew</th>\n      <th>min</th>\n      <th>median</th>\n      <th>kurtosis</th>\n    </tr>\n    <tr>\n      <th>video_name</th>\n      <th>diapo</th>\n      <th></th>\n      <th></th>\n      <th></th>\n      <th></th>\n      <th></th>\n      <th></th>\n      <th></th>\n      <th></th>\n      <th></th>\n    </tr>\n  </thead>\n  <tbody>\n    <tr>\n      <th rowspan=\"5\" valign=\"top\">Test_pour_AFPA</th>\n      <th>1</th>\n      <td>1</td>\n      <td>0.386953</td>\n      <td>0.823529</td>\n      <td>1.0</td>\n      <td>1.0</td>\n      <td>-1.697337</td>\n      <td>0</td>\n      <td>1.0</td>\n      <td>0.880952</td>\n    </tr>\n    <tr>\n      <th>8</th>\n      <td>1</td>\n      <td>0.421637</td>\n      <td>0.800000</td>\n      <td>1.0</td>\n      <td>1.0</td>\n      <td>-1.500000</td>\n      <td>0</td>\n      <td>1.0</td>\n      <td>0.250000</td>\n    </tr>\n    <tr>\n      <th>9</th>\n      <td>2</td>\n      <td>0.223607</td>\n      <td>1.050000</td>\n      <td>1.0</td>\n      <td>1.0</td>\n      <td>4.129483</td>\n      <td>1</td>\n      <td>1.0</td>\n      <td>15.052632</td>\n    </tr>\n    <tr>\n      <th>10</th>\n      <td>1</td>\n      <td>0.000000</td>\n      <td>1.000000</td>\n      <td>1.0</td>\n      <td>1.0</td>\n      <td>0.000000</td>\n      <td>1</td>\n      <td>1.0</td>\n      <td>-3.000000</td>\n    </tr>\n    <tr>\n      <th>11</th>\n      <td>1</td>\n      <td>0.223607</td>\n      <td>0.950000</td>\n      <td>1.0</td>\n      <td>1.0</td>\n      <td>-4.129483</td>\n      <td>0</td>\n      <td>1.0</td>\n      <td>15.052632</td>\n    </tr>\n    <tr>\n      <th>...</th>\n      <th>...</th>\n      <td>...</td>\n      <td>...</td>\n      <td>...</td>\n      <td>...</td>\n      <td>...</td>\n      <td>...</td>\n      <td>...</td>\n      <td>...</td>\n      <td>...</td>\n    </tr>\n    <tr>\n      <th rowspan=\"5\" valign=\"top\">WIN_20210417_14_53_12_Pro</th>\n      <th>10</th>\n      <td>1</td>\n      <td>0.513553</td>\n      <td>0.571429</td>\n      <td>1.0</td>\n      <td>0.0</td>\n      <td>-0.288675</td>\n      <td>0</td>\n      <td>1.0</td>\n      <td>-1.916667</td>\n    </tr>\n    <tr>\n      <th>11</th>\n      <td>1</td>\n      <td>0.502625</td>\n      <td>0.400000</td>\n      <td>1.0</td>\n      <td>0.0</td>\n      <td>0.408248</td>\n      <td>0</td>\n      <td>0.0</td>\n      <td>-1.833333</td>\n    </tr>\n    <tr>\n      <th>12</th>\n      <td>1</td>\n      <td>0.364110</td>\n      <td>0.848485</td>\n      <td>1.0</td>\n      <td>1.0</td>\n      <td>-1.943855</td>\n      <td>0</td>\n      <td>1.0</td>\n      <td>1.778571</td>\n    </tr>\n    <tr>\n      <th>17</th>\n      <td>1</td>\n      <td>0.534522</td>\n      <td>0.428571</td>\n      <td>1.0</td>\n      <td>0.0</td>\n      <td>0.288675</td>\n      <td>0</td>\n      <td>0.0</td>\n      <td>-1.916667</td>\n    </tr>\n    <tr>\n      <th>18</th>\n      <td>1</td>\n      <td>0.470472</td>\n      <td>0.695652</td>\n      <td>1.0</td>\n      <td>0.0</td>\n      <td>-0.850420</td>\n      <td>0</td>\n      <td>1.0</td>\n      <td>-1.276786</td>\n    </tr>\n  </tbody>\n</table>\n<p>240 rows × 9 columns</p>\n</div>"
     },
     "metadata": {},
     "execution_count": 71
    }
   ],
   "source": [
    "#df_ypredict[['video_name','diapo','ypredict']].groupby(['video_name','diapo']).agg({'mean','min','max', 'median', 'std', #percentil25, percentil75, kurtosis, skew})"
   ]
  },
  {
   "cell_type": "code",
   "execution_count": 19,
   "metadata": {},
   "outputs": [],
   "source": [
    "df_annotations_stress = pd.read_csv('annotations.csv')\n",
    "df_annotations_stress = df_annotations_stress[['video_name','stress_global']]"
   ]
  },
  {
   "cell_type": "code",
   "execution_count": 20,
   "metadata": {},
   "outputs": [],
   "source": [
    "Xy = df_ypredict.merge(df_annotations_stress, on='video_name')\n",
    "X = Xy.iloc[:,:-1].set_index('video_name')\n",
    "y = Xy.iloc[:,-1]"
   ]
  },
  {
   "cell_type": "code",
   "execution_count": 21,
   "metadata": {},
   "outputs": [
    {
     "output_type": "execute_result",
     "data": {
      "text/plain": [
       "                         video_name         0         1         2  \\\n",
       "0                    Test_pour_AFPA  0.185185  0.798942  0.015873   \n",
       "1                           Video_1  0.357616  0.642384  0.000000   \n",
       "2         WIN_20210323_19_17_40_Pro  0.303571  0.690476  0.005952   \n",
       "3         WIN_20210329_10_16_02_Pro  0.190476  0.809524  0.000000   \n",
       "4         WIN_20210330_13_10_29_Pro  0.271523  0.728477  0.000000   \n",
       "5         WIN_20210331_21_22_52_Pro  0.329412  0.670588  0.000000   \n",
       "6         WIN_20210402_14_27_50_Pro  0.005376  0.994624  0.000000   \n",
       "7         WIN_20210402_19_04_53_Pro  0.897143  0.080000  0.022857   \n",
       "8         WIN_20210403_18_49_15_Pro  0.287293  0.712707  0.000000   \n",
       "9         WIN_20210404_10_58_27_Pro  0.810000  0.115000  0.075000   \n",
       "10        WIN_20210404_21_41_12_Pro  0.349138  0.650862  0.000000   \n",
       "11        WIN_20210405_15_09_16_Pro  0.400000  0.593548  0.006452   \n",
       "12        WIN_20210406_15_06_15_Pro  0.136585  0.863415  0.000000   \n",
       "13        WIN_20210406_18_35_52_Pro  0.481013  0.518987  0.000000   \n",
       "14        WIN_20210406_18_49_10_Pro  0.216374  0.783626  0.000000   \n",
       "15        WIN_20210406_21_05_52_Pro  0.410811  0.589189  0.000000   \n",
       "16        WIN_20210407_09_04_05_Pro  0.439791  0.554974  0.005236   \n",
       "17  WIN_20210407_14_54_56_Pro_edit2  0.383648  0.616352  0.000000   \n",
       "18        WIN_20210408_11_48_58_Pro  0.040000  0.626667  0.333333   \n",
       "19        WIN_20210408_14_00_44_Pro  0.185393  0.814607  0.000000   \n",
       "20        WIN_20210408_14_02_19_Pro  0.423529  0.570588  0.005882   \n",
       "21        WIN_20210408_14_11_32_Pro  0.000000  1.000000  0.000000   \n",
       "22        WIN_20210408_15_20_51_Pro  0.122549  0.254902  0.622549   \n",
       "23        WIN_20210408_16_04_32_Pro  0.135294  0.864706  0.000000   \n",
       "24        WIN_20210409_10_26_11_Pro  0.502890  0.497110  0.000000   \n",
       "25        WIN_20210413_15_38_01_Pro  0.254335  0.745665  0.000000   \n",
       "26        WIN_20210414_06_24_52_Pro  0.994819  0.005181  0.000000   \n",
       "27        WIN_20210415_15_41_24_Pro  0.511521  0.488479  0.000000   \n",
       "28        WIN_20210416_08_06_54_Pro  0.000000  1.000000  0.000000   \n",
       "29        WIN_20210417_14_53_12_Pro  0.404580  0.595420  0.000000   \n",
       "\n",
       "    stress_global  \n",
       "0             1.0  \n",
       "1             0.0  \n",
       "2             1.0  \n",
       "3             1.0  \n",
       "4             0.0  \n",
       "5             1.0  \n",
       "6             1.0  \n",
       "7             2.0  \n",
       "8             2.0  \n",
       "9             1.0  \n",
       "10            0.0  \n",
       "11            1.0  \n",
       "12            2.0  \n",
       "13            0.0  \n",
       "14            1.0  \n",
       "15            2.0  \n",
       "16            2.0  \n",
       "17            0.0  \n",
       "18            2.0  \n",
       "19            0.0  \n",
       "20            0.0  \n",
       "21            2.0  \n",
       "22            0.0  \n",
       "23            0.0  \n",
       "24            0.0  \n",
       "25            1.0  \n",
       "26            2.0  \n",
       "27            0.0  \n",
       "28            1.0  \n",
       "29            0.0  "
      ],
      "text/html": "<div>\n<style scoped>\n    .dataframe tbody tr th:only-of-type {\n        vertical-align: middle;\n    }\n\n    .dataframe tbody tr th {\n        vertical-align: top;\n    }\n\n    .dataframe thead th {\n        text-align: right;\n    }\n</style>\n<table border=\"1\" class=\"dataframe\">\n  <thead>\n    <tr style=\"text-align: right;\">\n      <th></th>\n      <th>video_name</th>\n      <th>0</th>\n      <th>1</th>\n      <th>2</th>\n      <th>stress_global</th>\n    </tr>\n  </thead>\n  <tbody>\n    <tr>\n      <th>0</th>\n      <td>Test_pour_AFPA</td>\n      <td>0.185185</td>\n      <td>0.798942</td>\n      <td>0.015873</td>\n      <td>1.0</td>\n    </tr>\n    <tr>\n      <th>1</th>\n      <td>Video_1</td>\n      <td>0.357616</td>\n      <td>0.642384</td>\n      <td>0.000000</td>\n      <td>0.0</td>\n    </tr>\n    <tr>\n      <th>2</th>\n      <td>WIN_20210323_19_17_40_Pro</td>\n      <td>0.303571</td>\n      <td>0.690476</td>\n      <td>0.005952</td>\n      <td>1.0</td>\n    </tr>\n    <tr>\n      <th>3</th>\n      <td>WIN_20210329_10_16_02_Pro</td>\n      <td>0.190476</td>\n      <td>0.809524</td>\n      <td>0.000000</td>\n      <td>1.0</td>\n    </tr>\n    <tr>\n      <th>4</th>\n      <td>WIN_20210330_13_10_29_Pro</td>\n      <td>0.271523</td>\n      <td>0.728477</td>\n      <td>0.000000</td>\n      <td>0.0</td>\n    </tr>\n    <tr>\n      <th>5</th>\n      <td>WIN_20210331_21_22_52_Pro</td>\n      <td>0.329412</td>\n      <td>0.670588</td>\n      <td>0.000000</td>\n      <td>1.0</td>\n    </tr>\n    <tr>\n      <th>6</th>\n      <td>WIN_20210402_14_27_50_Pro</td>\n      <td>0.005376</td>\n      <td>0.994624</td>\n      <td>0.000000</td>\n      <td>1.0</td>\n    </tr>\n    <tr>\n      <th>7</th>\n      <td>WIN_20210402_19_04_53_Pro</td>\n      <td>0.897143</td>\n      <td>0.080000</td>\n      <td>0.022857</td>\n      <td>2.0</td>\n    </tr>\n    <tr>\n      <th>8</th>\n      <td>WIN_20210403_18_49_15_Pro</td>\n      <td>0.287293</td>\n      <td>0.712707</td>\n      <td>0.000000</td>\n      <td>2.0</td>\n    </tr>\n    <tr>\n      <th>9</th>\n      <td>WIN_20210404_10_58_27_Pro</td>\n      <td>0.810000</td>\n      <td>0.115000</td>\n      <td>0.075000</td>\n      <td>1.0</td>\n    </tr>\n    <tr>\n      <th>10</th>\n      <td>WIN_20210404_21_41_12_Pro</td>\n      <td>0.349138</td>\n      <td>0.650862</td>\n      <td>0.000000</td>\n      <td>0.0</td>\n    </tr>\n    <tr>\n      <th>11</th>\n      <td>WIN_20210405_15_09_16_Pro</td>\n      <td>0.400000</td>\n      <td>0.593548</td>\n      <td>0.006452</td>\n      <td>1.0</td>\n    </tr>\n    <tr>\n      <th>12</th>\n      <td>WIN_20210406_15_06_15_Pro</td>\n      <td>0.136585</td>\n      <td>0.863415</td>\n      <td>0.000000</td>\n      <td>2.0</td>\n    </tr>\n    <tr>\n      <th>13</th>\n      <td>WIN_20210406_18_35_52_Pro</td>\n      <td>0.481013</td>\n      <td>0.518987</td>\n      <td>0.000000</td>\n      <td>0.0</td>\n    </tr>\n    <tr>\n      <th>14</th>\n      <td>WIN_20210406_18_49_10_Pro</td>\n      <td>0.216374</td>\n      <td>0.783626</td>\n      <td>0.000000</td>\n      <td>1.0</td>\n    </tr>\n    <tr>\n      <th>15</th>\n      <td>WIN_20210406_21_05_52_Pro</td>\n      <td>0.410811</td>\n      <td>0.589189</td>\n      <td>0.000000</td>\n      <td>2.0</td>\n    </tr>\n    <tr>\n      <th>16</th>\n      <td>WIN_20210407_09_04_05_Pro</td>\n      <td>0.439791</td>\n      <td>0.554974</td>\n      <td>0.005236</td>\n      <td>2.0</td>\n    </tr>\n    <tr>\n      <th>17</th>\n      <td>WIN_20210407_14_54_56_Pro_edit2</td>\n      <td>0.383648</td>\n      <td>0.616352</td>\n      <td>0.000000</td>\n      <td>0.0</td>\n    </tr>\n    <tr>\n      <th>18</th>\n      <td>WIN_20210408_11_48_58_Pro</td>\n      <td>0.040000</td>\n      <td>0.626667</td>\n      <td>0.333333</td>\n      <td>2.0</td>\n    </tr>\n    <tr>\n      <th>19</th>\n      <td>WIN_20210408_14_00_44_Pro</td>\n      <td>0.185393</td>\n      <td>0.814607</td>\n      <td>0.000000</td>\n      <td>0.0</td>\n    </tr>\n    <tr>\n      <th>20</th>\n      <td>WIN_20210408_14_02_19_Pro</td>\n      <td>0.423529</td>\n      <td>0.570588</td>\n      <td>0.005882</td>\n      <td>0.0</td>\n    </tr>\n    <tr>\n      <th>21</th>\n      <td>WIN_20210408_14_11_32_Pro</td>\n      <td>0.000000</td>\n      <td>1.000000</td>\n      <td>0.000000</td>\n      <td>2.0</td>\n    </tr>\n    <tr>\n      <th>22</th>\n      <td>WIN_20210408_15_20_51_Pro</td>\n      <td>0.122549</td>\n      <td>0.254902</td>\n      <td>0.622549</td>\n      <td>0.0</td>\n    </tr>\n    <tr>\n      <th>23</th>\n      <td>WIN_20210408_16_04_32_Pro</td>\n      <td>0.135294</td>\n      <td>0.864706</td>\n      <td>0.000000</td>\n      <td>0.0</td>\n    </tr>\n    <tr>\n      <th>24</th>\n      <td>WIN_20210409_10_26_11_Pro</td>\n      <td>0.502890</td>\n      <td>0.497110</td>\n      <td>0.000000</td>\n      <td>0.0</td>\n    </tr>\n    <tr>\n      <th>25</th>\n      <td>WIN_20210413_15_38_01_Pro</td>\n      <td>0.254335</td>\n      <td>0.745665</td>\n      <td>0.000000</td>\n      <td>1.0</td>\n    </tr>\n    <tr>\n      <th>26</th>\n      <td>WIN_20210414_06_24_52_Pro</td>\n      <td>0.994819</td>\n      <td>0.005181</td>\n      <td>0.000000</td>\n      <td>2.0</td>\n    </tr>\n    <tr>\n      <th>27</th>\n      <td>WIN_20210415_15_41_24_Pro</td>\n      <td>0.511521</td>\n      <td>0.488479</td>\n      <td>0.000000</td>\n      <td>0.0</td>\n    </tr>\n    <tr>\n      <th>28</th>\n      <td>WIN_20210416_08_06_54_Pro</td>\n      <td>0.000000</td>\n      <td>1.000000</td>\n      <td>0.000000</td>\n      <td>1.0</td>\n    </tr>\n    <tr>\n      <th>29</th>\n      <td>WIN_20210417_14_53_12_Pro</td>\n      <td>0.404580</td>\n      <td>0.595420</td>\n      <td>0.000000</td>\n      <td>0.0</td>\n    </tr>\n  </tbody>\n</table>\n</div>"
     },
     "metadata": {},
     "execution_count": 21
    }
   ],
   "source": [
    "Xy"
   ]
  },
  {
   "cell_type": "code",
   "execution_count": 22,
   "metadata": {},
   "outputs": [
    {
     "output_type": "stream",
     "name": "stdout",
     "text": [
      "Fitting 5 folds for each of 16 candidates, totalling 80 fits\n",
      "[Parallel(n_jobs=1)]: Using backend SequentialBackend with 1 concurrent workers.\n",
      "Best results 0.4999999999999999\n",
      "Best params {'C': 10, 'class_weight': None}\n",
      "accuracy (mean, std) 0.4999999999999999 0.14907119849998596\n",
      "f1 (mean, std) 0.4666666666666666 0.14622830112321866\n",
      "[Parallel(n_jobs=1)]: Done  80 out of  80 | elapsed:    0.8s finished\n"
     ]
    }
   ],
   "source": [
    "parameters = {'C': [0.01, 0.05, 0.1, 0.5, 1, 2, 10, 20], 'class_weight' : [None, 'balanced']}\n",
    "from sklearn.model_selection import LeaveOneGroupOut\n",
    "from sklearn.linear_model import LogisticRegression\n",
    "from sklearn.model_selection import cross_val_predict, GridSearchCV\n",
    "from sklearn.metrics import accuracy_score, f1_score\n",
    "import warnings\n",
    "warnings.filterwarnings(\"ignore\")\n",
    "\n",
    "groups = X.reset_index()['video_name']\n",
    "loo = LeaveOneGroupOut()\n",
    "cv_loo = loo.split(X, y, groups)\n",
    "X_no_name = X\n",
    "y_no_name = y\n",
    "\n",
    "model = LogisticRegression(multi_class='multinomial', fit_intercept=True, random_state=42)\n",
    "\n",
    "clf = GridSearchCV(estimator=model, \n",
    "                    param_grid=parameters, \n",
    "                    scoring={'accuracy_score' : 'accuracy', 'f1_score' : 'f1_weighted' }, \n",
    "                    refit='accuracy_score',\n",
    "                    cv=5, verbose=1)\n",
    "clf.fit(X_no_name, y_no_name)\n",
    "print('Best results', clf.best_score_)\n",
    "print('Best params', clf.best_params_)\n",
    "print('accuracy (mean, std)', clf.cv_results_['mean_test_accuracy_score'][clf.best_index_], clf.cv_results_['std_test_accuracy_score'][clf.best_index_])\n",
    "print('f1 (mean, std)', clf.cv_results_['mean_test_f1_score'][clf.best_index_], clf.cv_results_['std_test_f1_score'][clf.best_index_])"
   ]
  },
  {
   "cell_type": "code",
   "execution_count": 23,
   "metadata": {},
   "outputs": [
    {
     "output_type": "execute_result",
     "data": {
      "text/plain": [
       "array([[-0.09728546, -0.44356063,  0.54014903],\n",
       "       [-0.32105667,  1.15486685, -0.83380717],\n",
       "       [ 0.41834213, -0.71130622,  0.29365814]])"
      ]
     },
     "metadata": {},
     "execution_count": 23
    }
   ],
   "source": [
    "clf.best_estimator_.coef_"
   ]
  },
  {
   "cell_type": "code",
   "execution_count": 24,
   "metadata": {},
   "outputs": [
    {
     "output_type": "execute_result",
     "data": {
      "text/plain": [
       "array([ 0.51909082, -0.61004525,  0.09095443])"
      ]
     },
     "metadata": {},
     "execution_count": 24
    }
   ],
   "source": [
    "clf.best_estimator_.intercept_"
   ]
  },
  {
   "cell_type": "code",
   "execution_count": 25,
   "metadata": {},
   "outputs": [],
   "source": [
    "ypredict_stress_global = clf.best_estimator_.predict(df_ypredict)"
   ]
  },
  {
   "cell_type": "code",
   "execution_count": 26,
   "metadata": {},
   "outputs": [],
   "source": [
    "df_ypredict_stress_global = pd.concat([ypredict_stress_diapo.reset_index(), pd.DataFrame(ypredict_stress_global,columns=['predicted_stress_global'])], axis=1) \n",
    "df_ypredict_stress_global = df_ypredict_stress_global.set_index('video_name').sort_index()\n",
    "df_ypredict_stress_global = df_ypredict_stress_global.iloc[:,-1]"
   ]
  },
  {
   "cell_type": "code",
   "execution_count": 27,
   "metadata": {},
   "outputs": [
    {
     "output_type": "execute_result",
     "data": {
      "text/plain": [
       "video_name\n",
       "Test_pour_AFPA                     1.0\n",
       "Video_1                            0.0\n",
       "WIN_20210323_19_17_40_Pro          0.0\n",
       "WIN_20210329_10_16_02_Pro          1.0\n",
       "WIN_20210330_13_10_29_Pro          0.0\n",
       "WIN_20210331_21_22_52_Pro          0.0\n",
       "WIN_20210402_14_27_50_Pro          1.0\n",
       "WIN_20210402_19_04_53_Pro          2.0\n",
       "WIN_20210403_18_49_15_Pro          0.0\n",
       "WIN_20210404_10_58_27_Pro          0.0\n",
       "WIN_20210404_21_41_12_Pro          0.0\n",
       "WIN_20210405_15_09_16_Pro          0.0\n",
       "WIN_20210406_15_06_15_Pro          1.0\n",
       "WIN_20210406_18_35_52_Pro          0.0\n",
       "WIN_20210406_18_49_10_Pro          1.0\n",
       "WIN_20210406_21_05_52_Pro          0.0\n",
       "WIN_20210407_09_04_05_Pro          0.0\n",
       "WIN_20210407_14_54_56_Pro_edit2    0.0\n",
       "WIN_20210408_11_48_58_Pro          0.0\n",
       "WIN_20210408_14_00_44_Pro          1.0\n",
       "WIN_20210408_14_02_19_Pro          0.0\n",
       "WIN_20210408_14_11_32_Pro          1.0\n",
       "WIN_20210408_15_20_51_Pro          0.0\n",
       "WIN_20210408_16_04_32_Pro          1.0\n",
       "WIN_20210409_10_26_11_Pro          0.0\n",
       "WIN_20210413_15_38_01_Pro          1.0\n",
       "WIN_20210414_06_24_52_Pro          2.0\n",
       "WIN_20210415_15_41_24_Pro          0.0\n",
       "WIN_20210416_08_06_54_Pro          1.0\n",
       "WIN_20210417_14_53_12_Pro          0.0\n",
       "Name: predicted_stress_global, dtype: float64"
      ]
     },
     "metadata": {},
     "execution_count": 27
    }
   ],
   "source": [
    "df_ypredict_stress_global"
   ]
  },
  {
   "cell_type": "code",
   "execution_count": 28,
   "metadata": {},
   "outputs": [
    {
     "output_type": "stream",
     "name": "stdout",
     "text": [
      "Accuracy 0.6\nF1 0.5733333333333334\n"
     ]
    }
   ],
   "source": [
    "from sklearn.metrics import accuracy_score, f1_score\n",
    "print('Accuracy',accuracy_score(y.sort_index().values,df_ypredict_stress_global))\n",
    "print('F1',f1_score(y.sort_index().values,df_ypredict_stress_global, average='weighted'))"
   ]
  },
  {
   "cell_type": "code",
   "execution_count": 29,
   "metadata": {},
   "outputs": [
    {
     "output_type": "execute_result",
     "data": {
      "text/plain": [
       "    stress_global                       video_name  predicted_stress_global\n",
       "0             1.0                   Test_pour_AFPA                      1.0\n",
       "1             0.0                          Video_1                      0.0\n",
       "2             1.0        WIN_20210323_19_17_40_Pro                      0.0\n",
       "3             1.0        WIN_20210329_10_16_02_Pro                      1.0\n",
       "4             0.0        WIN_20210330_13_10_29_Pro                      0.0\n",
       "5             1.0        WIN_20210331_21_22_52_Pro                      0.0\n",
       "6             1.0        WIN_20210402_14_27_50_Pro                      1.0\n",
       "7             2.0        WIN_20210402_19_04_53_Pro                      2.0\n",
       "8             2.0        WIN_20210403_18_49_15_Pro                      0.0\n",
       "9             1.0        WIN_20210404_10_58_27_Pro                      0.0\n",
       "10            0.0        WIN_20210404_21_41_12_Pro                      0.0\n",
       "11            1.0        WIN_20210405_15_09_16_Pro                      0.0\n",
       "12            2.0        WIN_20210406_15_06_15_Pro                      1.0\n",
       "13            0.0        WIN_20210406_18_35_52_Pro                      0.0\n",
       "14            1.0        WIN_20210406_18_49_10_Pro                      1.0\n",
       "15            2.0        WIN_20210406_21_05_52_Pro                      0.0\n",
       "16            2.0        WIN_20210407_09_04_05_Pro                      0.0\n",
       "17            0.0  WIN_20210407_14_54_56_Pro_edit2                      0.0\n",
       "18            2.0        WIN_20210408_11_48_58_Pro                      0.0\n",
       "19            0.0        WIN_20210408_14_00_44_Pro                      1.0\n",
       "20            0.0        WIN_20210408_14_02_19_Pro                      0.0\n",
       "21            2.0        WIN_20210408_14_11_32_Pro                      1.0\n",
       "22            0.0        WIN_20210408_15_20_51_Pro                      0.0\n",
       "23            0.0        WIN_20210408_16_04_32_Pro                      1.0\n",
       "24            0.0        WIN_20210409_10_26_11_Pro                      0.0\n",
       "25            1.0        WIN_20210413_15_38_01_Pro                      1.0\n",
       "26            2.0        WIN_20210414_06_24_52_Pro                      2.0\n",
       "27            0.0        WIN_20210415_15_41_24_Pro                      0.0\n",
       "28            1.0        WIN_20210416_08_06_54_Pro                      1.0\n",
       "29            0.0        WIN_20210417_14_53_12_Pro                      0.0"
      ],
      "text/html": "<div>\n<style scoped>\n    .dataframe tbody tr th:only-of-type {\n        vertical-align: middle;\n    }\n\n    .dataframe tbody tr th {\n        vertical-align: top;\n    }\n\n    .dataframe thead th {\n        text-align: right;\n    }\n</style>\n<table border=\"1\" class=\"dataframe\">\n  <thead>\n    <tr style=\"text-align: right;\">\n      <th></th>\n      <th>stress_global</th>\n      <th>video_name</th>\n      <th>predicted_stress_global</th>\n    </tr>\n  </thead>\n  <tbody>\n    <tr>\n      <th>0</th>\n      <td>1.0</td>\n      <td>Test_pour_AFPA</td>\n      <td>1.0</td>\n    </tr>\n    <tr>\n      <th>1</th>\n      <td>0.0</td>\n      <td>Video_1</td>\n      <td>0.0</td>\n    </tr>\n    <tr>\n      <th>2</th>\n      <td>1.0</td>\n      <td>WIN_20210323_19_17_40_Pro</td>\n      <td>0.0</td>\n    </tr>\n    <tr>\n      <th>3</th>\n      <td>1.0</td>\n      <td>WIN_20210329_10_16_02_Pro</td>\n      <td>1.0</td>\n    </tr>\n    <tr>\n      <th>4</th>\n      <td>0.0</td>\n      <td>WIN_20210330_13_10_29_Pro</td>\n      <td>0.0</td>\n    </tr>\n    <tr>\n      <th>5</th>\n      <td>1.0</td>\n      <td>WIN_20210331_21_22_52_Pro</td>\n      <td>0.0</td>\n    </tr>\n    <tr>\n      <th>6</th>\n      <td>1.0</td>\n      <td>WIN_20210402_14_27_50_Pro</td>\n      <td>1.0</td>\n    </tr>\n    <tr>\n      <th>7</th>\n      <td>2.0</td>\n      <td>WIN_20210402_19_04_53_Pro</td>\n      <td>2.0</td>\n    </tr>\n    <tr>\n      <th>8</th>\n      <td>2.0</td>\n      <td>WIN_20210403_18_49_15_Pro</td>\n      <td>0.0</td>\n    </tr>\n    <tr>\n      <th>9</th>\n      <td>1.0</td>\n      <td>WIN_20210404_10_58_27_Pro</td>\n      <td>0.0</td>\n    </tr>\n    <tr>\n      <th>10</th>\n      <td>0.0</td>\n      <td>WIN_20210404_21_41_12_Pro</td>\n      <td>0.0</td>\n    </tr>\n    <tr>\n      <th>11</th>\n      <td>1.0</td>\n      <td>WIN_20210405_15_09_16_Pro</td>\n      <td>0.0</td>\n    </tr>\n    <tr>\n      <th>12</th>\n      <td>2.0</td>\n      <td>WIN_20210406_15_06_15_Pro</td>\n      <td>1.0</td>\n    </tr>\n    <tr>\n      <th>13</th>\n      <td>0.0</td>\n      <td>WIN_20210406_18_35_52_Pro</td>\n      <td>0.0</td>\n    </tr>\n    <tr>\n      <th>14</th>\n      <td>1.0</td>\n      <td>WIN_20210406_18_49_10_Pro</td>\n      <td>1.0</td>\n    </tr>\n    <tr>\n      <th>15</th>\n      <td>2.0</td>\n      <td>WIN_20210406_21_05_52_Pro</td>\n      <td>0.0</td>\n    </tr>\n    <tr>\n      <th>16</th>\n      <td>2.0</td>\n      <td>WIN_20210407_09_04_05_Pro</td>\n      <td>0.0</td>\n    </tr>\n    <tr>\n      <th>17</th>\n      <td>0.0</td>\n      <td>WIN_20210407_14_54_56_Pro_edit2</td>\n      <td>0.0</td>\n    </tr>\n    <tr>\n      <th>18</th>\n      <td>2.0</td>\n      <td>WIN_20210408_11_48_58_Pro</td>\n      <td>0.0</td>\n    </tr>\n    <tr>\n      <th>19</th>\n      <td>0.0</td>\n      <td>WIN_20210408_14_00_44_Pro</td>\n      <td>1.0</td>\n    </tr>\n    <tr>\n      <th>20</th>\n      <td>0.0</td>\n      <td>WIN_20210408_14_02_19_Pro</td>\n      <td>0.0</td>\n    </tr>\n    <tr>\n      <th>21</th>\n      <td>2.0</td>\n      <td>WIN_20210408_14_11_32_Pro</td>\n      <td>1.0</td>\n    </tr>\n    <tr>\n      <th>22</th>\n      <td>0.0</td>\n      <td>WIN_20210408_15_20_51_Pro</td>\n      <td>0.0</td>\n    </tr>\n    <tr>\n      <th>23</th>\n      <td>0.0</td>\n      <td>WIN_20210408_16_04_32_Pro</td>\n      <td>1.0</td>\n    </tr>\n    <tr>\n      <th>24</th>\n      <td>0.0</td>\n      <td>WIN_20210409_10_26_11_Pro</td>\n      <td>0.0</td>\n    </tr>\n    <tr>\n      <th>25</th>\n      <td>1.0</td>\n      <td>WIN_20210413_15_38_01_Pro</td>\n      <td>1.0</td>\n    </tr>\n    <tr>\n      <th>26</th>\n      <td>2.0</td>\n      <td>WIN_20210414_06_24_52_Pro</td>\n      <td>2.0</td>\n    </tr>\n    <tr>\n      <th>27</th>\n      <td>0.0</td>\n      <td>WIN_20210415_15_41_24_Pro</td>\n      <td>0.0</td>\n    </tr>\n    <tr>\n      <th>28</th>\n      <td>1.0</td>\n      <td>WIN_20210416_08_06_54_Pro</td>\n      <td>1.0</td>\n    </tr>\n    <tr>\n      <th>29</th>\n      <td>0.0</td>\n      <td>WIN_20210417_14_53_12_Pro</td>\n      <td>0.0</td>\n    </tr>\n  </tbody>\n</table>\n</div>"
     },
     "metadata": {},
     "execution_count": 29
    }
   ],
   "source": [
    "pd.concat([y, df_ypredict_stress_global.reset_index()],axis=1)"
   ]
  },
  {
   "cell_type": "code",
   "execution_count": null,
   "metadata": {},
   "outputs": [],
   "source": []
  },
  {
   "source": [
    "### Autre approche "
   ],
   "cell_type": "markdown",
   "metadata": {}
  },
  {
   "cell_type": "code",
   "execution_count": 30,
   "metadata": {},
   "outputs": [
    {
     "output_type": "execute_result",
     "data": {
      "text/plain": [
       "                                 ypredict                                   \\\n",
       "                                      std       skew  max      mean median   \n",
       "video_name                                                                   \n",
       "Test_pour_AFPA                   0.416303  -1.074290  2.0  0.830688    1.0   \n",
       "Video_1                          0.480893  -0.594136  1.0  0.642384    1.0   \n",
       "WIN_20210323_19_17_40_Pro        0.471455  -0.712361  2.0  0.702381    1.0   \n",
       "WIN_20210329_10_16_02_Pro        0.394019  -1.576482  1.0  0.809524    1.0   \n",
       "WIN_20210330_13_10_29_Pro        0.446225  -1.027450  1.0  0.728477    1.0   \n",
       "WIN_20210331_21_22_52_Pro        0.471388  -0.725908  1.0  0.670588    1.0   \n",
       "WIN_20210402_14_27_50_Pro        0.073324 -13.527949  1.0  0.994624    1.0   \n",
       "WIN_20210402_19_04_53_Pro        0.395625   3.293186  2.0  0.125714    0.0   \n",
       "WIN_20210403_18_49_15_Pro        0.453755  -0.940144  1.0  0.712707    1.0   \n",
       "WIN_20210404_10_58_27_Pro        0.588649   2.085987  2.0  0.265000    0.0   \n",
       "WIN_20210404_21_41_12_Pro        0.477728  -0.632947  1.0  0.650862    1.0   \n",
       "WIN_20210405_15_09_16_Pro        0.503195  -0.281970  2.0  0.606452    1.0   \n",
       "WIN_20210406_15_06_15_Pro        0.344250  -2.116511  1.0  0.863415    1.0   \n",
       "WIN_20210406_18_35_52_Pro        0.501228  -0.076004  1.0  0.518987    1.0   \n",
       "WIN_20210406_18_49_10_Pro        0.412982  -1.377585  1.0  0.783626    1.0   \n",
       "WIN_20210406_21_05_52_Pro        0.493316  -0.362572  1.0  0.589189    1.0   \n",
       "WIN_20210407_09_04_05_Pro        0.507481  -0.142755  2.0  0.565445    1.0   \n",
       "WIN_20210407_14_54_56_Pro_edit2  0.487810  -0.478546  1.0  0.616352    1.0   \n",
       "WIN_20210408_11_48_58_Pro        0.537188   0.099227  2.0  1.293333    1.0   \n",
       "WIN_20210408_14_00_44_Pro        0.389713  -1.619113  1.0  0.814607    1.0   \n",
       "WIN_20210408_14_02_19_Pro        0.506450  -0.196644  2.0  0.582353    1.0   \n",
       "WIN_20210408_14_11_32_Pro        0.000000   0.000000  1.0  1.000000    1.0   \n",
       "WIN_20210408_15_20_51_Pro        0.705363  -1.055345  2.0  1.500000    2.0   \n",
       "WIN_20210408_16_04_32_Pro        0.343048  -2.132549  1.0  0.864706    1.0   \n",
       "WIN_20210409_10_26_11_Pro        0.501443   0.011561  1.0  0.497110    0.0   \n",
       "WIN_20210413_15_38_01_Pro        0.436751  -1.128230  1.0  0.745665    1.0   \n",
       "WIN_20210414_06_24_52_Pro        0.071982  13.784238  1.0  0.005181    0.0   \n",
       "WIN_20210415_15_41_24_Pro        0.501023   0.046095  1.0  0.488479    0.0   \n",
       "WIN_20210416_08_06_54_Pro        0.000000   0.000000  1.0  1.000000    1.0   \n",
       "WIN_20210417_14_53_12_Pro        0.492695  -0.388826  1.0  0.595420    1.0   \n",
       "\n",
       "                                                                          \n",
       "                                percentil75 percentil25    kurtosis  min  \n",
       "video_name                                                                \n",
       "Test_pour_AFPA                          1.0         1.0    0.987649  0.0  \n",
       "Video_1                                 1.0         0.0   -1.647003  0.0  \n",
       "WIN_20210323_19_17_40_Pro               1.0         0.0   -1.029843  0.0  \n",
       "WIN_20210329_10_16_02_Pro               1.0         1.0    0.485294  0.0  \n",
       "WIN_20210330_13_10_29_Pro               1.0         0.0   -0.944346  0.0  \n",
       "WIN_20210331_21_22_52_Pro               1.0         0.0   -1.473058  0.0  \n",
       "WIN_20210402_14_27_50_Pro               1.0         1.0  181.005405  0.0  \n",
       "WIN_20210402_19_04_53_Pro               0.0         0.0   10.586080  0.0  \n",
       "WIN_20210403_18_49_15_Pro               1.0         0.0   -1.116130  0.0  \n",
       "WIN_20210404_10_58_27_Pro               0.0         0.0    3.033203  0.0  \n",
       "WIN_20210404_21_41_12_Pro               1.0         0.0   -1.599379  0.0  \n",
       "WIN_20210405_15_09_16_Pro               1.0         0.0   -1.535670  0.0  \n",
       "WIN_20210406_15_06_15_Pro               1.0         1.0    2.479621  0.0  \n",
       "WIN_20210406_18_35_52_Pro               1.0         0.0   -1.994223  0.0  \n",
       "WIN_20210406_18_49_10_Pro               1.0         1.0   -0.102259  0.0  \n",
       "WIN_20210406_21_05_52_Pro               1.0         0.0   -1.868542  0.0  \n",
       "WIN_20210407_09_04_05_Pro               1.0         0.0   -1.675625  0.0  \n",
       "WIN_20210407_14_54_56_Pro_edit2         1.0         0.0   -1.770994  0.0  \n",
       "WIN_20210408_11_48_58_Pro               2.0         1.0   -0.580609  0.0  \n",
       "WIN_20210408_14_00_44_Pro               1.0         1.0    0.621526  0.0  \n",
       "WIN_20210408_14_02_19_Pro               1.0         0.0   -1.618338  0.0  \n",
       "WIN_20210408_14_11_32_Pro               1.0         1.0   -3.000000  1.0  \n",
       "WIN_20210408_15_20_51_Pro               2.0         1.0   -0.245270  0.0  \n",
       "WIN_20210408_16_04_32_Pro               1.0         1.0    2.547767  0.0  \n",
       "WIN_20210409_10_26_11_Pro               1.0         0.0   -1.999866  0.0  \n",
       "WIN_20210413_15_38_01_Pro               1.0         0.0   -0.727097  0.0  \n",
       "WIN_20210414_06_24_52_Pro               0.0         0.0  188.005208  0.0  \n",
       "WIN_20210415_15_41_24_Pro               1.0         0.0   -1.997875  0.0  \n",
       "WIN_20210416_08_06_54_Pro               1.0         1.0   -3.000000  1.0  \n",
       "WIN_20210417_14_53_12_Pro               1.0         0.0   -1.848815  0.0  "
      ],
      "text/html": "<div>\n<style scoped>\n    .dataframe tbody tr th:only-of-type {\n        vertical-align: middle;\n    }\n\n    .dataframe tbody tr th {\n        vertical-align: top;\n    }\n\n    .dataframe thead tr th {\n        text-align: left;\n    }\n\n    .dataframe thead tr:last-of-type th {\n        text-align: right;\n    }\n</style>\n<table border=\"1\" class=\"dataframe\">\n  <thead>\n    <tr>\n      <th></th>\n      <th colspan=\"9\" halign=\"left\">ypredict</th>\n    </tr>\n    <tr>\n      <th></th>\n      <th>std</th>\n      <th>skew</th>\n      <th>max</th>\n      <th>mean</th>\n      <th>median</th>\n      <th>percentil75</th>\n      <th>percentil25</th>\n      <th>kurtosis</th>\n      <th>min</th>\n    </tr>\n    <tr>\n      <th>video_name</th>\n      <th></th>\n      <th></th>\n      <th></th>\n      <th></th>\n      <th></th>\n      <th></th>\n      <th></th>\n      <th></th>\n      <th></th>\n    </tr>\n  </thead>\n  <tbody>\n    <tr>\n      <th>Test_pour_AFPA</th>\n      <td>0.416303</td>\n      <td>-1.074290</td>\n      <td>2.0</td>\n      <td>0.830688</td>\n      <td>1.0</td>\n      <td>1.0</td>\n      <td>1.0</td>\n      <td>0.987649</td>\n      <td>0.0</td>\n    </tr>\n    <tr>\n      <th>Video_1</th>\n      <td>0.480893</td>\n      <td>-0.594136</td>\n      <td>1.0</td>\n      <td>0.642384</td>\n      <td>1.0</td>\n      <td>1.0</td>\n      <td>0.0</td>\n      <td>-1.647003</td>\n      <td>0.0</td>\n    </tr>\n    <tr>\n      <th>WIN_20210323_19_17_40_Pro</th>\n      <td>0.471455</td>\n      <td>-0.712361</td>\n      <td>2.0</td>\n      <td>0.702381</td>\n      <td>1.0</td>\n      <td>1.0</td>\n      <td>0.0</td>\n      <td>-1.029843</td>\n      <td>0.0</td>\n    </tr>\n    <tr>\n      <th>WIN_20210329_10_16_02_Pro</th>\n      <td>0.394019</td>\n      <td>-1.576482</td>\n      <td>1.0</td>\n      <td>0.809524</td>\n      <td>1.0</td>\n      <td>1.0</td>\n      <td>1.0</td>\n      <td>0.485294</td>\n      <td>0.0</td>\n    </tr>\n    <tr>\n      <th>WIN_20210330_13_10_29_Pro</th>\n      <td>0.446225</td>\n      <td>-1.027450</td>\n      <td>1.0</td>\n      <td>0.728477</td>\n      <td>1.0</td>\n      <td>1.0</td>\n      <td>0.0</td>\n      <td>-0.944346</td>\n      <td>0.0</td>\n    </tr>\n    <tr>\n      <th>WIN_20210331_21_22_52_Pro</th>\n      <td>0.471388</td>\n      <td>-0.725908</td>\n      <td>1.0</td>\n      <td>0.670588</td>\n      <td>1.0</td>\n      <td>1.0</td>\n      <td>0.0</td>\n      <td>-1.473058</td>\n      <td>0.0</td>\n    </tr>\n    <tr>\n      <th>WIN_20210402_14_27_50_Pro</th>\n      <td>0.073324</td>\n      <td>-13.527949</td>\n      <td>1.0</td>\n      <td>0.994624</td>\n      <td>1.0</td>\n      <td>1.0</td>\n      <td>1.0</td>\n      <td>181.005405</td>\n      <td>0.0</td>\n    </tr>\n    <tr>\n      <th>WIN_20210402_19_04_53_Pro</th>\n      <td>0.395625</td>\n      <td>3.293186</td>\n      <td>2.0</td>\n      <td>0.125714</td>\n      <td>0.0</td>\n      <td>0.0</td>\n      <td>0.0</td>\n      <td>10.586080</td>\n      <td>0.0</td>\n    </tr>\n    <tr>\n      <th>WIN_20210403_18_49_15_Pro</th>\n      <td>0.453755</td>\n      <td>-0.940144</td>\n      <td>1.0</td>\n      <td>0.712707</td>\n      <td>1.0</td>\n      <td>1.0</td>\n      <td>0.0</td>\n      <td>-1.116130</td>\n      <td>0.0</td>\n    </tr>\n    <tr>\n      <th>WIN_20210404_10_58_27_Pro</th>\n      <td>0.588649</td>\n      <td>2.085987</td>\n      <td>2.0</td>\n      <td>0.265000</td>\n      <td>0.0</td>\n      <td>0.0</td>\n      <td>0.0</td>\n      <td>3.033203</td>\n      <td>0.0</td>\n    </tr>\n    <tr>\n      <th>WIN_20210404_21_41_12_Pro</th>\n      <td>0.477728</td>\n      <td>-0.632947</td>\n      <td>1.0</td>\n      <td>0.650862</td>\n      <td>1.0</td>\n      <td>1.0</td>\n      <td>0.0</td>\n      <td>-1.599379</td>\n      <td>0.0</td>\n    </tr>\n    <tr>\n      <th>WIN_20210405_15_09_16_Pro</th>\n      <td>0.503195</td>\n      <td>-0.281970</td>\n      <td>2.0</td>\n      <td>0.606452</td>\n      <td>1.0</td>\n      <td>1.0</td>\n      <td>0.0</td>\n      <td>-1.535670</td>\n      <td>0.0</td>\n    </tr>\n    <tr>\n      <th>WIN_20210406_15_06_15_Pro</th>\n      <td>0.344250</td>\n      <td>-2.116511</td>\n      <td>1.0</td>\n      <td>0.863415</td>\n      <td>1.0</td>\n      <td>1.0</td>\n      <td>1.0</td>\n      <td>2.479621</td>\n      <td>0.0</td>\n    </tr>\n    <tr>\n      <th>WIN_20210406_18_35_52_Pro</th>\n      <td>0.501228</td>\n      <td>-0.076004</td>\n      <td>1.0</td>\n      <td>0.518987</td>\n      <td>1.0</td>\n      <td>1.0</td>\n      <td>0.0</td>\n      <td>-1.994223</td>\n      <td>0.0</td>\n    </tr>\n    <tr>\n      <th>WIN_20210406_18_49_10_Pro</th>\n      <td>0.412982</td>\n      <td>-1.377585</td>\n      <td>1.0</td>\n      <td>0.783626</td>\n      <td>1.0</td>\n      <td>1.0</td>\n      <td>1.0</td>\n      <td>-0.102259</td>\n      <td>0.0</td>\n    </tr>\n    <tr>\n      <th>WIN_20210406_21_05_52_Pro</th>\n      <td>0.493316</td>\n      <td>-0.362572</td>\n      <td>1.0</td>\n      <td>0.589189</td>\n      <td>1.0</td>\n      <td>1.0</td>\n      <td>0.0</td>\n      <td>-1.868542</td>\n      <td>0.0</td>\n    </tr>\n    <tr>\n      <th>WIN_20210407_09_04_05_Pro</th>\n      <td>0.507481</td>\n      <td>-0.142755</td>\n      <td>2.0</td>\n      <td>0.565445</td>\n      <td>1.0</td>\n      <td>1.0</td>\n      <td>0.0</td>\n      <td>-1.675625</td>\n      <td>0.0</td>\n    </tr>\n    <tr>\n      <th>WIN_20210407_14_54_56_Pro_edit2</th>\n      <td>0.487810</td>\n      <td>-0.478546</td>\n      <td>1.0</td>\n      <td>0.616352</td>\n      <td>1.0</td>\n      <td>1.0</td>\n      <td>0.0</td>\n      <td>-1.770994</td>\n      <td>0.0</td>\n    </tr>\n    <tr>\n      <th>WIN_20210408_11_48_58_Pro</th>\n      <td>0.537188</td>\n      <td>0.099227</td>\n      <td>2.0</td>\n      <td>1.293333</td>\n      <td>1.0</td>\n      <td>2.0</td>\n      <td>1.0</td>\n      <td>-0.580609</td>\n      <td>0.0</td>\n    </tr>\n    <tr>\n      <th>WIN_20210408_14_00_44_Pro</th>\n      <td>0.389713</td>\n      <td>-1.619113</td>\n      <td>1.0</td>\n      <td>0.814607</td>\n      <td>1.0</td>\n      <td>1.0</td>\n      <td>1.0</td>\n      <td>0.621526</td>\n      <td>0.0</td>\n    </tr>\n    <tr>\n      <th>WIN_20210408_14_02_19_Pro</th>\n      <td>0.506450</td>\n      <td>-0.196644</td>\n      <td>2.0</td>\n      <td>0.582353</td>\n      <td>1.0</td>\n      <td>1.0</td>\n      <td>0.0</td>\n      <td>-1.618338</td>\n      <td>0.0</td>\n    </tr>\n    <tr>\n      <th>WIN_20210408_14_11_32_Pro</th>\n      <td>0.000000</td>\n      <td>0.000000</td>\n      <td>1.0</td>\n      <td>1.000000</td>\n      <td>1.0</td>\n      <td>1.0</td>\n      <td>1.0</td>\n      <td>-3.000000</td>\n      <td>1.0</td>\n    </tr>\n    <tr>\n      <th>WIN_20210408_15_20_51_Pro</th>\n      <td>0.705363</td>\n      <td>-1.055345</td>\n      <td>2.0</td>\n      <td>1.500000</td>\n      <td>2.0</td>\n      <td>2.0</td>\n      <td>1.0</td>\n      <td>-0.245270</td>\n      <td>0.0</td>\n    </tr>\n    <tr>\n      <th>WIN_20210408_16_04_32_Pro</th>\n      <td>0.343048</td>\n      <td>-2.132549</td>\n      <td>1.0</td>\n      <td>0.864706</td>\n      <td>1.0</td>\n      <td>1.0</td>\n      <td>1.0</td>\n      <td>2.547767</td>\n      <td>0.0</td>\n    </tr>\n    <tr>\n      <th>WIN_20210409_10_26_11_Pro</th>\n      <td>0.501443</td>\n      <td>0.011561</td>\n      <td>1.0</td>\n      <td>0.497110</td>\n      <td>0.0</td>\n      <td>1.0</td>\n      <td>0.0</td>\n      <td>-1.999866</td>\n      <td>0.0</td>\n    </tr>\n    <tr>\n      <th>WIN_20210413_15_38_01_Pro</th>\n      <td>0.436751</td>\n      <td>-1.128230</td>\n      <td>1.0</td>\n      <td>0.745665</td>\n      <td>1.0</td>\n      <td>1.0</td>\n      <td>0.0</td>\n      <td>-0.727097</td>\n      <td>0.0</td>\n    </tr>\n    <tr>\n      <th>WIN_20210414_06_24_52_Pro</th>\n      <td>0.071982</td>\n      <td>13.784238</td>\n      <td>1.0</td>\n      <td>0.005181</td>\n      <td>0.0</td>\n      <td>0.0</td>\n      <td>0.0</td>\n      <td>188.005208</td>\n      <td>0.0</td>\n    </tr>\n    <tr>\n      <th>WIN_20210415_15_41_24_Pro</th>\n      <td>0.501023</td>\n      <td>0.046095</td>\n      <td>1.0</td>\n      <td>0.488479</td>\n      <td>0.0</td>\n      <td>1.0</td>\n      <td>0.0</td>\n      <td>-1.997875</td>\n      <td>0.0</td>\n    </tr>\n    <tr>\n      <th>WIN_20210416_08_06_54_Pro</th>\n      <td>0.000000</td>\n      <td>0.000000</td>\n      <td>1.0</td>\n      <td>1.000000</td>\n      <td>1.0</td>\n      <td>1.0</td>\n      <td>1.0</td>\n      <td>-3.000000</td>\n      <td>1.0</td>\n    </tr>\n    <tr>\n      <th>WIN_20210417_14_53_12_Pro</th>\n      <td>0.492695</td>\n      <td>-0.388826</td>\n      <td>1.0</td>\n      <td>0.595420</td>\n      <td>1.0</td>\n      <td>1.0</td>\n      <td>0.0</td>\n      <td>-1.848815</td>\n      <td>0.0</td>\n    </tr>\n  </tbody>\n</table>\n</div>"
     },
     "metadata": {},
     "execution_count": 30
    }
   ],
   "source": [
    "df_ypredict = pd.read_csv('ypredict_' + features + '_tw5_2.csv')\n",
    "df_ypredict = df_ypredict.iloc[:,1:]\n",
    "df_ypredict.columns = ['video_name','diapo','frameTimeWindow','ypredict']\n",
    "#df_ypredict = df_ypredict[['video_name','diapo','ypredict']].groupby(['video_name','diapo']).agg({'mean','min','max', 'median', 'std', percentil25, percentil75, kurtosis, skew})\n",
    "df_ypredict = df_ypredict[['video_name','ypredict']].groupby(['video_name']).agg({'mean','min','max', 'median', 'std', percentil25, percentil75, kurtosis, skew})\n",
    "df_ypredict\n"
   ]
  },
  {
   "cell_type": "code",
   "execution_count": 31,
   "metadata": {},
   "outputs": [],
   "source": [
    "df_annotations_stress = pd.read_csv('annotations.csv')\n",
    "df_annotations_stress = df_annotations_stress[['video_name','stress_global']]"
   ]
  },
  {
   "cell_type": "code",
   "execution_count": 32,
   "metadata": {},
   "outputs": [
    {
     "output_type": "execute_result",
     "data": {
      "text/plain": [
       "                         video_name  (ypredict, std)  (ypredict, skew)  \\\n",
       "0                    Test_pour_AFPA         0.416303         -1.074290   \n",
       "1                           Video_1         0.480893         -0.594136   \n",
       "2         WIN_20210323_19_17_40_Pro         0.471455         -0.712361   \n",
       "3         WIN_20210329_10_16_02_Pro         0.394019         -1.576482   \n",
       "4         WIN_20210330_13_10_29_Pro         0.446225         -1.027450   \n",
       "5         WIN_20210331_21_22_52_Pro         0.471388         -0.725908   \n",
       "6         WIN_20210402_14_27_50_Pro         0.073324        -13.527949   \n",
       "7         WIN_20210402_19_04_53_Pro         0.395625          3.293186   \n",
       "8         WIN_20210403_18_49_15_Pro         0.453755         -0.940144   \n",
       "9         WIN_20210404_10_58_27_Pro         0.588649          2.085987   \n",
       "10        WIN_20210404_21_41_12_Pro         0.477728         -0.632947   \n",
       "11        WIN_20210405_15_09_16_Pro         0.503195         -0.281970   \n",
       "12        WIN_20210406_15_06_15_Pro         0.344250         -2.116511   \n",
       "13        WIN_20210406_18_35_52_Pro         0.501228         -0.076004   \n",
       "14        WIN_20210406_18_49_10_Pro         0.412982         -1.377585   \n",
       "15        WIN_20210406_21_05_52_Pro         0.493316         -0.362572   \n",
       "16        WIN_20210407_09_04_05_Pro         0.507481         -0.142755   \n",
       "17  WIN_20210407_14_54_56_Pro_edit2         0.487810         -0.478546   \n",
       "18        WIN_20210408_11_48_58_Pro         0.537188          0.099227   \n",
       "19        WIN_20210408_14_00_44_Pro         0.389713         -1.619113   \n",
       "20        WIN_20210408_14_02_19_Pro         0.506450         -0.196644   \n",
       "21        WIN_20210408_14_11_32_Pro         0.000000          0.000000   \n",
       "22        WIN_20210408_15_20_51_Pro         0.705363         -1.055345   \n",
       "23        WIN_20210408_16_04_32_Pro         0.343048         -2.132549   \n",
       "24        WIN_20210409_10_26_11_Pro         0.501443          0.011561   \n",
       "25        WIN_20210413_15_38_01_Pro         0.436751         -1.128230   \n",
       "26        WIN_20210414_06_24_52_Pro         0.071982         13.784238   \n",
       "27        WIN_20210415_15_41_24_Pro         0.501023          0.046095   \n",
       "28        WIN_20210416_08_06_54_Pro         0.000000          0.000000   \n",
       "29        WIN_20210417_14_53_12_Pro         0.492695         -0.388826   \n",
       "\n",
       "    (ypredict, max)  (ypredict, mean)  (ypredict, median)  \\\n",
       "0               2.0          0.830688                 1.0   \n",
       "1               1.0          0.642384                 1.0   \n",
       "2               2.0          0.702381                 1.0   \n",
       "3               1.0          0.809524                 1.0   \n",
       "4               1.0          0.728477                 1.0   \n",
       "5               1.0          0.670588                 1.0   \n",
       "6               1.0          0.994624                 1.0   \n",
       "7               2.0          0.125714                 0.0   \n",
       "8               1.0          0.712707                 1.0   \n",
       "9               2.0          0.265000                 0.0   \n",
       "10              1.0          0.650862                 1.0   \n",
       "11              2.0          0.606452                 1.0   \n",
       "12              1.0          0.863415                 1.0   \n",
       "13              1.0          0.518987                 1.0   \n",
       "14              1.0          0.783626                 1.0   \n",
       "15              1.0          0.589189                 1.0   \n",
       "16              2.0          0.565445                 1.0   \n",
       "17              1.0          0.616352                 1.0   \n",
       "18              2.0          1.293333                 1.0   \n",
       "19              1.0          0.814607                 1.0   \n",
       "20              2.0          0.582353                 1.0   \n",
       "21              1.0          1.000000                 1.0   \n",
       "22              2.0          1.500000                 2.0   \n",
       "23              1.0          0.864706                 1.0   \n",
       "24              1.0          0.497110                 0.0   \n",
       "25              1.0          0.745665                 1.0   \n",
       "26              1.0          0.005181                 0.0   \n",
       "27              1.0          0.488479                 0.0   \n",
       "28              1.0          1.000000                 1.0   \n",
       "29              1.0          0.595420                 1.0   \n",
       "\n",
       "    (ypredict, percentil75)  (ypredict, percentil25)  (ypredict, kurtosis)  \\\n",
       "0                       1.0                      1.0              0.987649   \n",
       "1                       1.0                      0.0             -1.647003   \n",
       "2                       1.0                      0.0             -1.029843   \n",
       "3                       1.0                      1.0              0.485294   \n",
       "4                       1.0                      0.0             -0.944346   \n",
       "5                       1.0                      0.0             -1.473058   \n",
       "6                       1.0                      1.0            181.005405   \n",
       "7                       0.0                      0.0             10.586080   \n",
       "8                       1.0                      0.0             -1.116130   \n",
       "9                       0.0                      0.0              3.033203   \n",
       "10                      1.0                      0.0             -1.599379   \n",
       "11                      1.0                      0.0             -1.535670   \n",
       "12                      1.0                      1.0              2.479621   \n",
       "13                      1.0                      0.0             -1.994223   \n",
       "14                      1.0                      1.0             -0.102259   \n",
       "15                      1.0                      0.0             -1.868542   \n",
       "16                      1.0                      0.0             -1.675625   \n",
       "17                      1.0                      0.0             -1.770994   \n",
       "18                      2.0                      1.0             -0.580609   \n",
       "19                      1.0                      1.0              0.621526   \n",
       "20                      1.0                      0.0             -1.618338   \n",
       "21                      1.0                      1.0             -3.000000   \n",
       "22                      2.0                      1.0             -0.245270   \n",
       "23                      1.0                      1.0              2.547767   \n",
       "24                      1.0                      0.0             -1.999866   \n",
       "25                      1.0                      0.0             -0.727097   \n",
       "26                      0.0                      0.0            188.005208   \n",
       "27                      1.0                      0.0             -1.997875   \n",
       "28                      1.0                      1.0             -3.000000   \n",
       "29                      1.0                      0.0             -1.848815   \n",
       "\n",
       "    (ypredict, min)  stress_global  \n",
       "0               0.0            1.0  \n",
       "1               0.0            0.0  \n",
       "2               0.0            1.0  \n",
       "3               0.0            1.0  \n",
       "4               0.0            0.0  \n",
       "5               0.0            1.0  \n",
       "6               0.0            1.0  \n",
       "7               0.0            2.0  \n",
       "8               0.0            2.0  \n",
       "9               0.0            1.0  \n",
       "10              0.0            0.0  \n",
       "11              0.0            1.0  \n",
       "12              0.0            2.0  \n",
       "13              0.0            0.0  \n",
       "14              0.0            1.0  \n",
       "15              0.0            2.0  \n",
       "16              0.0            2.0  \n",
       "17              0.0            0.0  \n",
       "18              0.0            2.0  \n",
       "19              0.0            0.0  \n",
       "20              0.0            0.0  \n",
       "21              1.0            2.0  \n",
       "22              0.0            0.0  \n",
       "23              0.0            0.0  \n",
       "24              0.0            0.0  \n",
       "25              0.0            1.0  \n",
       "26              0.0            2.0  \n",
       "27              0.0            0.0  \n",
       "28              1.0            1.0  \n",
       "29              0.0            0.0  "
      ],
      "text/html": "<div>\n<style scoped>\n    .dataframe tbody tr th:only-of-type {\n        vertical-align: middle;\n    }\n\n    .dataframe tbody tr th {\n        vertical-align: top;\n    }\n\n    .dataframe thead th {\n        text-align: right;\n    }\n</style>\n<table border=\"1\" class=\"dataframe\">\n  <thead>\n    <tr style=\"text-align: right;\">\n      <th></th>\n      <th>video_name</th>\n      <th>(ypredict, std)</th>\n      <th>(ypredict, skew)</th>\n      <th>(ypredict, max)</th>\n      <th>(ypredict, mean)</th>\n      <th>(ypredict, median)</th>\n      <th>(ypredict, percentil75)</th>\n      <th>(ypredict, percentil25)</th>\n      <th>(ypredict, kurtosis)</th>\n      <th>(ypredict, min)</th>\n      <th>stress_global</th>\n    </tr>\n  </thead>\n  <tbody>\n    <tr>\n      <th>0</th>\n      <td>Test_pour_AFPA</td>\n      <td>0.416303</td>\n      <td>-1.074290</td>\n      <td>2.0</td>\n      <td>0.830688</td>\n      <td>1.0</td>\n      <td>1.0</td>\n      <td>1.0</td>\n      <td>0.987649</td>\n      <td>0.0</td>\n      <td>1.0</td>\n    </tr>\n    <tr>\n      <th>1</th>\n      <td>Video_1</td>\n      <td>0.480893</td>\n      <td>-0.594136</td>\n      <td>1.0</td>\n      <td>0.642384</td>\n      <td>1.0</td>\n      <td>1.0</td>\n      <td>0.0</td>\n      <td>-1.647003</td>\n      <td>0.0</td>\n      <td>0.0</td>\n    </tr>\n    <tr>\n      <th>2</th>\n      <td>WIN_20210323_19_17_40_Pro</td>\n      <td>0.471455</td>\n      <td>-0.712361</td>\n      <td>2.0</td>\n      <td>0.702381</td>\n      <td>1.0</td>\n      <td>1.0</td>\n      <td>0.0</td>\n      <td>-1.029843</td>\n      <td>0.0</td>\n      <td>1.0</td>\n    </tr>\n    <tr>\n      <th>3</th>\n      <td>WIN_20210329_10_16_02_Pro</td>\n      <td>0.394019</td>\n      <td>-1.576482</td>\n      <td>1.0</td>\n      <td>0.809524</td>\n      <td>1.0</td>\n      <td>1.0</td>\n      <td>1.0</td>\n      <td>0.485294</td>\n      <td>0.0</td>\n      <td>1.0</td>\n    </tr>\n    <tr>\n      <th>4</th>\n      <td>WIN_20210330_13_10_29_Pro</td>\n      <td>0.446225</td>\n      <td>-1.027450</td>\n      <td>1.0</td>\n      <td>0.728477</td>\n      <td>1.0</td>\n      <td>1.0</td>\n      <td>0.0</td>\n      <td>-0.944346</td>\n      <td>0.0</td>\n      <td>0.0</td>\n    </tr>\n    <tr>\n      <th>5</th>\n      <td>WIN_20210331_21_22_52_Pro</td>\n      <td>0.471388</td>\n      <td>-0.725908</td>\n      <td>1.0</td>\n      <td>0.670588</td>\n      <td>1.0</td>\n      <td>1.0</td>\n      <td>0.0</td>\n      <td>-1.473058</td>\n      <td>0.0</td>\n      <td>1.0</td>\n    </tr>\n    <tr>\n      <th>6</th>\n      <td>WIN_20210402_14_27_50_Pro</td>\n      <td>0.073324</td>\n      <td>-13.527949</td>\n      <td>1.0</td>\n      <td>0.994624</td>\n      <td>1.0</td>\n      <td>1.0</td>\n      <td>1.0</td>\n      <td>181.005405</td>\n      <td>0.0</td>\n      <td>1.0</td>\n    </tr>\n    <tr>\n      <th>7</th>\n      <td>WIN_20210402_19_04_53_Pro</td>\n      <td>0.395625</td>\n      <td>3.293186</td>\n      <td>2.0</td>\n      <td>0.125714</td>\n      <td>0.0</td>\n      <td>0.0</td>\n      <td>0.0</td>\n      <td>10.586080</td>\n      <td>0.0</td>\n      <td>2.0</td>\n    </tr>\n    <tr>\n      <th>8</th>\n      <td>WIN_20210403_18_49_15_Pro</td>\n      <td>0.453755</td>\n      <td>-0.940144</td>\n      <td>1.0</td>\n      <td>0.712707</td>\n      <td>1.0</td>\n      <td>1.0</td>\n      <td>0.0</td>\n      <td>-1.116130</td>\n      <td>0.0</td>\n      <td>2.0</td>\n    </tr>\n    <tr>\n      <th>9</th>\n      <td>WIN_20210404_10_58_27_Pro</td>\n      <td>0.588649</td>\n      <td>2.085987</td>\n      <td>2.0</td>\n      <td>0.265000</td>\n      <td>0.0</td>\n      <td>0.0</td>\n      <td>0.0</td>\n      <td>3.033203</td>\n      <td>0.0</td>\n      <td>1.0</td>\n    </tr>\n    <tr>\n      <th>10</th>\n      <td>WIN_20210404_21_41_12_Pro</td>\n      <td>0.477728</td>\n      <td>-0.632947</td>\n      <td>1.0</td>\n      <td>0.650862</td>\n      <td>1.0</td>\n      <td>1.0</td>\n      <td>0.0</td>\n      <td>-1.599379</td>\n      <td>0.0</td>\n      <td>0.0</td>\n    </tr>\n    <tr>\n      <th>11</th>\n      <td>WIN_20210405_15_09_16_Pro</td>\n      <td>0.503195</td>\n      <td>-0.281970</td>\n      <td>2.0</td>\n      <td>0.606452</td>\n      <td>1.0</td>\n      <td>1.0</td>\n      <td>0.0</td>\n      <td>-1.535670</td>\n      <td>0.0</td>\n      <td>1.0</td>\n    </tr>\n    <tr>\n      <th>12</th>\n      <td>WIN_20210406_15_06_15_Pro</td>\n      <td>0.344250</td>\n      <td>-2.116511</td>\n      <td>1.0</td>\n      <td>0.863415</td>\n      <td>1.0</td>\n      <td>1.0</td>\n      <td>1.0</td>\n      <td>2.479621</td>\n      <td>0.0</td>\n      <td>2.0</td>\n    </tr>\n    <tr>\n      <th>13</th>\n      <td>WIN_20210406_18_35_52_Pro</td>\n      <td>0.501228</td>\n      <td>-0.076004</td>\n      <td>1.0</td>\n      <td>0.518987</td>\n      <td>1.0</td>\n      <td>1.0</td>\n      <td>0.0</td>\n      <td>-1.994223</td>\n      <td>0.0</td>\n      <td>0.0</td>\n    </tr>\n    <tr>\n      <th>14</th>\n      <td>WIN_20210406_18_49_10_Pro</td>\n      <td>0.412982</td>\n      <td>-1.377585</td>\n      <td>1.0</td>\n      <td>0.783626</td>\n      <td>1.0</td>\n      <td>1.0</td>\n      <td>1.0</td>\n      <td>-0.102259</td>\n      <td>0.0</td>\n      <td>1.0</td>\n    </tr>\n    <tr>\n      <th>15</th>\n      <td>WIN_20210406_21_05_52_Pro</td>\n      <td>0.493316</td>\n      <td>-0.362572</td>\n      <td>1.0</td>\n      <td>0.589189</td>\n      <td>1.0</td>\n      <td>1.0</td>\n      <td>0.0</td>\n      <td>-1.868542</td>\n      <td>0.0</td>\n      <td>2.0</td>\n    </tr>\n    <tr>\n      <th>16</th>\n      <td>WIN_20210407_09_04_05_Pro</td>\n      <td>0.507481</td>\n      <td>-0.142755</td>\n      <td>2.0</td>\n      <td>0.565445</td>\n      <td>1.0</td>\n      <td>1.0</td>\n      <td>0.0</td>\n      <td>-1.675625</td>\n      <td>0.0</td>\n      <td>2.0</td>\n    </tr>\n    <tr>\n      <th>17</th>\n      <td>WIN_20210407_14_54_56_Pro_edit2</td>\n      <td>0.487810</td>\n      <td>-0.478546</td>\n      <td>1.0</td>\n      <td>0.616352</td>\n      <td>1.0</td>\n      <td>1.0</td>\n      <td>0.0</td>\n      <td>-1.770994</td>\n      <td>0.0</td>\n      <td>0.0</td>\n    </tr>\n    <tr>\n      <th>18</th>\n      <td>WIN_20210408_11_48_58_Pro</td>\n      <td>0.537188</td>\n      <td>0.099227</td>\n      <td>2.0</td>\n      <td>1.293333</td>\n      <td>1.0</td>\n      <td>2.0</td>\n      <td>1.0</td>\n      <td>-0.580609</td>\n      <td>0.0</td>\n      <td>2.0</td>\n    </tr>\n    <tr>\n      <th>19</th>\n      <td>WIN_20210408_14_00_44_Pro</td>\n      <td>0.389713</td>\n      <td>-1.619113</td>\n      <td>1.0</td>\n      <td>0.814607</td>\n      <td>1.0</td>\n      <td>1.0</td>\n      <td>1.0</td>\n      <td>0.621526</td>\n      <td>0.0</td>\n      <td>0.0</td>\n    </tr>\n    <tr>\n      <th>20</th>\n      <td>WIN_20210408_14_02_19_Pro</td>\n      <td>0.506450</td>\n      <td>-0.196644</td>\n      <td>2.0</td>\n      <td>0.582353</td>\n      <td>1.0</td>\n      <td>1.0</td>\n      <td>0.0</td>\n      <td>-1.618338</td>\n      <td>0.0</td>\n      <td>0.0</td>\n    </tr>\n    <tr>\n      <th>21</th>\n      <td>WIN_20210408_14_11_32_Pro</td>\n      <td>0.000000</td>\n      <td>0.000000</td>\n      <td>1.0</td>\n      <td>1.000000</td>\n      <td>1.0</td>\n      <td>1.0</td>\n      <td>1.0</td>\n      <td>-3.000000</td>\n      <td>1.0</td>\n      <td>2.0</td>\n    </tr>\n    <tr>\n      <th>22</th>\n      <td>WIN_20210408_15_20_51_Pro</td>\n      <td>0.705363</td>\n      <td>-1.055345</td>\n      <td>2.0</td>\n      <td>1.500000</td>\n      <td>2.0</td>\n      <td>2.0</td>\n      <td>1.0</td>\n      <td>-0.245270</td>\n      <td>0.0</td>\n      <td>0.0</td>\n    </tr>\n    <tr>\n      <th>23</th>\n      <td>WIN_20210408_16_04_32_Pro</td>\n      <td>0.343048</td>\n      <td>-2.132549</td>\n      <td>1.0</td>\n      <td>0.864706</td>\n      <td>1.0</td>\n      <td>1.0</td>\n      <td>1.0</td>\n      <td>2.547767</td>\n      <td>0.0</td>\n      <td>0.0</td>\n    </tr>\n    <tr>\n      <th>24</th>\n      <td>WIN_20210409_10_26_11_Pro</td>\n      <td>0.501443</td>\n      <td>0.011561</td>\n      <td>1.0</td>\n      <td>0.497110</td>\n      <td>0.0</td>\n      <td>1.0</td>\n      <td>0.0</td>\n      <td>-1.999866</td>\n      <td>0.0</td>\n      <td>0.0</td>\n    </tr>\n    <tr>\n      <th>25</th>\n      <td>WIN_20210413_15_38_01_Pro</td>\n      <td>0.436751</td>\n      <td>-1.128230</td>\n      <td>1.0</td>\n      <td>0.745665</td>\n      <td>1.0</td>\n      <td>1.0</td>\n      <td>0.0</td>\n      <td>-0.727097</td>\n      <td>0.0</td>\n      <td>1.0</td>\n    </tr>\n    <tr>\n      <th>26</th>\n      <td>WIN_20210414_06_24_52_Pro</td>\n      <td>0.071982</td>\n      <td>13.784238</td>\n      <td>1.0</td>\n      <td>0.005181</td>\n      <td>0.0</td>\n      <td>0.0</td>\n      <td>0.0</td>\n      <td>188.005208</td>\n      <td>0.0</td>\n      <td>2.0</td>\n    </tr>\n    <tr>\n      <th>27</th>\n      <td>WIN_20210415_15_41_24_Pro</td>\n      <td>0.501023</td>\n      <td>0.046095</td>\n      <td>1.0</td>\n      <td>0.488479</td>\n      <td>0.0</td>\n      <td>1.0</td>\n      <td>0.0</td>\n      <td>-1.997875</td>\n      <td>0.0</td>\n      <td>0.0</td>\n    </tr>\n    <tr>\n      <th>28</th>\n      <td>WIN_20210416_08_06_54_Pro</td>\n      <td>0.000000</td>\n      <td>0.000000</td>\n      <td>1.0</td>\n      <td>1.000000</td>\n      <td>1.0</td>\n      <td>1.0</td>\n      <td>1.0</td>\n      <td>-3.000000</td>\n      <td>1.0</td>\n      <td>1.0</td>\n    </tr>\n    <tr>\n      <th>29</th>\n      <td>WIN_20210417_14_53_12_Pro</td>\n      <td>0.492695</td>\n      <td>-0.388826</td>\n      <td>1.0</td>\n      <td>0.595420</td>\n      <td>1.0</td>\n      <td>1.0</td>\n      <td>0.0</td>\n      <td>-1.848815</td>\n      <td>0.0</td>\n      <td>0.0</td>\n    </tr>\n  </tbody>\n</table>\n</div>"
     },
     "metadata": {},
     "execution_count": 32
    }
   ],
   "source": [
    "Xy = df_ypredict.merge(df_annotations_stress, on='video_name')\n",
    "X = Xy.iloc[:,:-1].set_index('video_name')\n",
    "y = Xy.iloc[:,-1]\n",
    "Xy"
   ]
  },
  {
   "cell_type": "code",
   "execution_count": 35,
   "metadata": {},
   "outputs": [
    {
     "output_type": "stream",
     "name": "stdout",
     "text": [
      "Fitting 5 folds for each of 44 candidates, totalling 220 fits\n",
      "[Parallel(n_jobs=1)]: Using backend SequentialBackend with 1 concurrent workers.\n",
      "Best results 0.385079365079365\n",
      "Best params {'n_neighbors': 6, 'p': 1, 'weights': 'uniform'}\n",
      "accuracy (mean, std) 0.4666666666666667 0.19436506316151003\n",
      "f1 (mean, std) 0.385079365079365 0.20965027448427734\n",
      "[Parallel(n_jobs=1)]: Done 220 out of 220 | elapsed:    2.3s finished\n"
     ]
    }
   ],
   "source": [
    "parameters = {'C': [0.01, 0.05, 0.1, 0.5, 1, 2, 10, 20], 'class_weight' : [None, 'balanced']}\n",
    "from sklearn.model_selection import LeaveOneGroupOut\n",
    "from sklearn.linear_model import LogisticRegression\n",
    "from sklearn.model_selection import cross_val_predict, GridSearchCV\n",
    "from sklearn.metrics import accuracy_score, f1_score\n",
    "import warnings\n",
    "warnings.filterwarnings(\"ignore\")\n",
    "\n",
    "groups = X.reset_index()['video_name']\n",
    "loo = LeaveOneGroupOut()\n",
    "cv_loo = loo.split(X, y, groups)\n",
    "X_no_name = X\n",
    "y_no_name = y\n",
    "\n",
    "model = LogisticRegression(multi_class='multinomial', fit_intercept=True, random_state=42)\n",
    "\n",
    "from sklearn.neighbors import KNeighborsClassifier\n",
    "model = KNeighborsClassifier(n_jobs=-1)\n",
    "parameters = {'n_neighbors': [4, 5, 6, 7, 8, 9, 10, 11, 12,  15, 20], 'weights' : ['uniform', 'distance'], 'p': [1, 2]}\n",
    "\n",
    "#from sklearn.ensemble import RandomForestClassifier, RandomForestRegressor\n",
    "#model = RandomForestClassifier(random_state = 42, n_jobs=-1)\n",
    "#parameters = {'n_estimators': [50, 100, 200], 'max_depth':[3,4, 5,6, 10, 15, 20], 'class_weight':[None,'balanced']}\n",
    "\n",
    "clf = GridSearchCV(estimator=model, \n",
    "                    param_grid=parameters, \n",
    "                    scoring={'accuracy_score' : 'accuracy', 'f1_score' : 'f1_weighted' }, \n",
    "                    refit='f1_score',\n",
    "                    cv=5, verbose=1)\n",
    "clf.fit(X_no_name, y_no_name)\n",
    "print('Best results', clf.best_score_)\n",
    "print('Best params', clf.best_params_)\n",
    "print('accuracy (mean, std)', clf.cv_results_['mean_test_accuracy_score'][clf.best_index_], clf.cv_results_['std_test_accuracy_score'][clf.best_index_])\n",
    "print('f1 (mean, std)', clf.cv_results_['mean_test_f1_score'][clf.best_index_], clf.cv_results_['std_test_f1_score'][clf.best_index_])"
   ]
  },
  {
   "cell_type": "code",
   "execution_count": null,
   "metadata": {},
   "outputs": [],
   "source": []
  }
 ]
}