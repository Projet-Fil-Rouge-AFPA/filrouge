{
 "cells": [
  {
   "cell_type": "code",
   "execution_count": 1,
   "metadata": {},
   "outputs": [],
   "source": [
    "import os\n",
    "import subprocess\n",
    "import pandas as pd\n",
    "import platform\n",
    "import pathlib\n",
    "import numpy as np\n",
    "from annotations import *\n",
    "from extract_video_features import *\n",
    "from extract_audio_features import *\n",
    "import cv2\n",
    "import seaborn as sns\n",
    "from scipy.stats import kurtosis, skew\n",
    "from sklearn.metrics import f1_score\n",
    "import importlib\n",
    "from tqdm import tqdm\n",
    "import ordinal_classification as o_c\n",
    "from sklearn.metrics import confusion_matrix\n",
    "from sklearn.model_selection import GridSearchCV\n",
    "from util import runGridSearchClassifiers\n"
   ]
  },
  {
   "cell_type": "code",
   "execution_count": 2,
   "metadata": {},
   "outputs": [],
   "source": [
    "#get current directory\n",
    "cwd = os.getcwd()"
   ]
  },
  {
   "cell_type": "code",
   "execution_count": 3,
   "metadata": {},
   "outputs": [
    {
     "output_type": "execute_result",
     "data": {
      "text/plain": [
       "'/Users/valentinadiproietto/filrouge'"
      ]
     },
     "metadata": {},
     "execution_count": 3
    }
   ],
   "source": [
    "cwd"
   ]
  },
  {
   "cell_type": "code",
   "execution_count": 4,
   "metadata": {},
   "outputs": [],
   "source": [
    "OpenFace_folder = '/Users/valentinadiproietto/OpenFace'\n",
    "filename_annotations = 'https://docs.google.com/spreadsheets/d/1Rqu1sJiD-ogc4a6R491JTiaYacptOTqh6DKqhwTa8NA/gviz/tq?tqx=out:csv&sheet=Template'"
   ]
  },
  {
   "cell_type": "code",
   "execution_count": 5,
   "metadata": {},
   "outputs": [],
   "source": [
    "Video_folder = '/Users/valentinadiproietto/Desktop/video_stress'"
   ]
  },
  {
   "cell_type": "code",
   "execution_count": 6,
   "metadata": {},
   "outputs": [],
   "source": [
    "video_paths, video_names = get_videos(Video_folder)"
   ]
  },
  {
   "cell_type": "code",
   "execution_count": 7,
   "metadata": {},
   "outputs": [
    {
     "output_type": "execute_result",
     "data": {
      "text/plain": [
       "['WIN_20210331_21_22_52_Pro',\n",
       " 'WIN_20210329_14_13_45_Pro',\n",
       " 'WIN_20210406_18_49_10_Pro',\n",
       " 'WIN_20210408_14_11_32_Pro',\n",
       " 'WIN_20210408_15_20_51_Pro',\n",
       " 'WIN_20210404_10_58_27_Pro',\n",
       " 'WIN_20210414_06_24_52_Pro',\n",
       " 'WIN_20210406_15_06_15_Pro',\n",
       " 'WIN_20210417_14_53_12_Pro',\n",
       " 'WIN_20210413_15_38_01_Pro',\n",
       " 'WIN_20210408_11_48_58_Pro',\n",
       " 'WIN_20210408_16_04_32_Pro',\n",
       " 'WIN_20210329_10_16_02_Pro',\n",
       " 'WIN_20210323_19_17_40_Pro',\n",
       " 'WIN_20210409_10_26_11_Pro',\n",
       " 'Test_pour_AFPA',\n",
       " 'WIN_20210405_15_09_16_Pro',\n",
       " 'WIN_20210407_14_54_56_Pro_edit2',\n",
       " 'WIN_20210406_21_05_52_Pro',\n",
       " 'WIN_20210403_18_49_15_Pro',\n",
       " 'WIN_20210408_14_02_19_Pro',\n",
       " 'WIN_20210415_15_41_24_Pro',\n",
       " 'WIN_20210406_18_35_52_Pro',\n",
       " 'WIN_20210402_14_27_50_Pro',\n",
       " 'WIN_20210407_09_04_05_Pro',\n",
       " 'WIN_20210402_19_04_53_Pro',\n",
       " 'WIN_20210416_08_06_54_Pro',\n",
       " 'Video_1',\n",
       " 'WIN_20210408_14_00_44_Pro',\n",
       " 'WIN_20210404_21_41_12_Pro',\n",
       " 'WIN_20210330_13_10_29_Pro']"
      ]
     },
     "metadata": {},
     "execution_count": 7
    }
   ],
   "source": [
    "video_names"
   ]
  },
  {
   "cell_type": "code",
   "execution_count": 8,
   "metadata": {},
   "outputs": [],
   "source": [
    "list_dataframes = []\n",
    "for i in video_names: \n",
    "    list_dataframes.append(create_dataframe_video('/Users/valentinadiproietto/OpenFace/processed/', i))\n"
   ]
  },
  {
   "cell_type": "code",
   "execution_count": 9,
   "metadata": {},
   "outputs": [],
   "source": [
    "video_names.remove('WIN_20210329_14_13_45_Pro')\n",
    "video_names.remove('WIN_20210402_14_27_50_Pro')\n"
   ]
  },
  {
   "cell_type": "code",
   "execution_count": 10,
   "metadata": {},
   "outputs": [
    {
     "output_type": "execute_result",
     "data": {
      "text/plain": [
       "29"
      ]
     },
     "metadata": {},
     "execution_count": 10
    }
   ],
   "source": [
    "len(video_names)"
   ]
  },
  {
   "cell_type": "code",
   "execution_count": 11,
   "metadata": {},
   "outputs": [
    {
     "output_type": "stream",
     "name": "stderr",
     "text": [
      "100%|██████████| 29/29 [02:50<00:00,  5.87s/it]\n"
     ]
    }
   ],
   "source": [
    "list_df_max = []\n",
    "for v_name in tqdm(video_names):\n",
    "    df_annoted = get_df_video_with_annotations('/Users/valentinadiproietto/OpenFace/processed/', v_name, filename_annotations, \"max\")\n",
    "    list_df_max.append(eliminate_features(df_annoted))\n",
    "\n",
    "\n",
    "    "
   ]
  },
  {
   "cell_type": "code",
   "execution_count": 12,
   "metadata": {},
   "outputs": [
    {
     "output_type": "execute_result",
     "data": {
      "text/plain": [
       "Index(['frame', 'face_id', 'timestamp', 'confidence', 'success', 'AU01_r',\n",
       "       'AU02_r', 'AU04_r', 'AU05_r', 'AU06_r', 'AU07_r', 'AU09_r', 'AU10_r',\n",
       "       'AU12_r', 'AU14_r', 'AU15_r', 'AU17_r', 'AU20_r', 'AU23_r', 'AU25_r',\n",
       "       'AU26_r', 'AU45_r', 'AU01_c', 'AU02_c', 'AU04_c', 'AU05_c', 'AU06_c',\n",
       "       'AU07_c', 'AU09_c', 'AU10_c', 'AU12_c', 'AU14_c', 'AU15_c', 'AU17_c',\n",
       "       'AU20_c', 'AU23_c', 'AU25_c', 'AU26_c', 'AU28_c', 'AU45_c', 'gaze_0_x',\n",
       "       'gaze_0_y', 'gaze_0_z', 'gaze_1_x', 'gaze_1_y', 'gaze_1_z',\n",
       "       'gaze_angle_x', 'gaze_angle_y', 'pose_Tx', 'pose_Ty', 'pose_Tz',\n",
       "       'pose_Rx', 'pose_Ry', 'pose_Rz', 'type_candidat', 'sexe', 'video_name',\n",
       "       'stress_global', 'stress', 'diapo'],\n",
       "      dtype='object')"
      ]
     },
     "metadata": {},
     "execution_count": 12
    }
   ],
   "source": [
    "list_df_max[0].columns"
   ]
  },
  {
   "cell_type": "code",
   "execution_count": null,
   "metadata": {},
   "outputs": [],
   "source": []
  },
  {
   "source": [
    "##"
   ],
   "cell_type": "markdown",
   "metadata": {}
  },
  {
   "source": [
    "## AGGREGATION TIME WINDOW AND FIRST RF ON TIME WINDOW %"
   ],
   "cell_type": "markdown",
   "metadata": {}
  },
  {
   "cell_type": "code",
   "execution_count": 12,
   "metadata": {},
   "outputs": [],
   "source": [
    "df_with_deriv = []\n",
    "for i in list_df_max:\n",
    "    to_drop = ['frame','face_id','timestamp','confidence','success', 'type_candidat']\n",
    "    i = add_frameTimeWindow(i)\n",
    "    i = i.drop(to_drop, axis = 1)\n",
    "    i = add_derivatives_drop_spatial(i)\n",
    "    df_with_deriv.append(i)"
   ]
  },
  {
   "cell_type": "code",
   "execution_count": 22,
   "metadata": {},
   "outputs": [],
   "source": [
    "spatial_features = ['gaze_0_x_de_mean',\n",
    "        'gaze_0_x_de_de_mean', \n",
    "       'gaze_0_y_de_mean', 'gaze_0_y_de_de_mean',\n",
    "        'gaze_0_z_de_mean', \n",
    "       'gaze_0_z_de_de_mean', 'gaze_1_x_de_mean',\n",
    "       'gaze_1_x_de_de_mean', \n",
    "       'gaze_1_y_de_mean',  'gaze_1_y_de_de_mean',\n",
    "        'gaze_1_z_de_mean',\n",
    "       'gaze_1_z_de_de_mean',  'gaze_angle_x_de_mean',\n",
    "        'gaze_angle_x_de_de_mean',\n",
    "        'gaze_angle_y_de_mean', \n",
    "       'gaze_angle_y_de_de_mean', 'pose_Tx_de_mean',\n",
    "       'pose_Tx_de_de_mean', \n",
    "       'pose_Ty_de_mean',  'pose_Ty_de_de_mean',\n",
    "        'pose_Tz_de_mean', \n",
    "       'pose_Tz_de_de_mean',  'pose_Rx_de_mean',\n",
    "       'pose_Rx_de_de_mean', \n",
    "       'pose_Ry_de_mean', 'pose_Ry_de_de_mean',\n",
    "       'pose_Rz_de_mean', \n",
    "       'pose_Rz_de_de_mean']"
   ]
  },
  {
   "cell_type": "code",
   "execution_count": 27,
   "metadata": {},
   "outputs": [],
   "source": [
    "groupby_features= ['video_name','stress_global','stress','frameTimeWindow','sexe', 'diapo']\n",
    "\n",
    "df_total = pd.concat(df_with_deriv)\n"
   ]
  },
  {
   "cell_type": "code",
   "execution_count": 28,
   "metadata": {},
   "outputs": [
    {
     "output_type": "execute_result",
     "data": {
      "text/plain": [
       "stress\n",
       "1.0       2419\n",
       "0.0       2064\n",
       "2.0        638\n",
       "3.0         20\n",
       "dtype: int64"
      ]
     },
     "metadata": {},
     "execution_count": 28
    }
   ],
   "source": [
    "df_total = df_total.groupby(groupby_features).agg(['mean']).reset_index()\n",
    "df_total.columns= df_total.columns.map('_'.join).str.strip('_')\n",
    "df_total[['stress']].value_counts()"
   ]
  },
  {
   "cell_type": "code",
   "execution_count": 29,
   "metadata": {},
   "outputs": [
    {
     "output_type": "execute_result",
     "data": {
      "text/plain": [
       "Index(['video_name', 'stress_global', 'stress', 'frameTimeWindow', 'sexe',\n",
       "       'diapo', 'AU01_r_mean', 'AU02_r_mean', 'AU04_r_mean', 'AU05_r_mean',\n",
       "       'AU06_r_mean', 'AU07_r_mean', 'AU09_r_mean', 'AU10_r_mean',\n",
       "       'AU12_r_mean', 'AU14_r_mean', 'AU15_r_mean', 'AU17_r_mean',\n",
       "       'AU20_r_mean', 'AU23_r_mean', 'AU25_r_mean', 'AU26_r_mean',\n",
       "       'AU45_r_mean', 'AU01_c_mean', 'AU02_c_mean', 'AU04_c_mean',\n",
       "       'AU05_c_mean', 'AU06_c_mean', 'AU07_c_mean', 'AU09_c_mean',\n",
       "       'AU10_c_mean', 'AU12_c_mean', 'AU14_c_mean', 'AU15_c_mean',\n",
       "       'AU17_c_mean', 'AU20_c_mean', 'AU23_c_mean', 'AU25_c_mean',\n",
       "       'AU26_c_mean', 'AU28_c_mean', 'AU45_c_mean', 'AU01_r_de_mean',\n",
       "       'AU01_r_de_de_mean', 'AU02_r_de_mean', 'AU02_r_de_de_mean',\n",
       "       'AU04_r_de_mean', 'AU04_r_de_de_mean', 'AU05_r_de_mean',\n",
       "       'AU05_r_de_de_mean', 'AU06_r_de_mean', 'AU06_r_de_de_mean',\n",
       "       'AU07_r_de_mean', 'AU07_r_de_de_mean', 'AU09_r_de_mean',\n",
       "       'AU09_r_de_de_mean', 'AU10_r_de_mean', 'AU10_r_de_de_mean',\n",
       "       'AU12_r_de_mean', 'AU12_r_de_de_mean', 'AU14_r_de_mean',\n",
       "       'AU14_r_de_de_mean', 'AU15_r_de_mean', 'AU15_r_de_de_mean',\n",
       "       'AU17_r_de_mean', 'AU17_r_de_de_mean', 'AU20_r_de_mean',\n",
       "       'AU20_r_de_de_mean', 'AU23_r_de_mean', 'AU23_r_de_de_mean',\n",
       "       'AU25_r_de_mean', 'AU25_r_de_de_mean', 'AU26_r_de_mean',\n",
       "       'AU26_r_de_de_mean', 'AU45_r_de_mean', 'AU45_r_de_de_mean'],\n",
       "      dtype='object')"
      ]
     },
     "metadata": {},
     "execution_count": 29
    }
   ],
   "source": [
    "pd.options.display.max_seq_items = 2000\n",
    "df_total = df_total.drop(spatial_features, axis =1)\n",
    "df_total.columns"
   ]
  },
  {
   "cell_type": "code",
   "execution_count": 30,
   "metadata": {},
   "outputs": [
    {
     "output_type": "execute_result",
     "data": {
      "text/plain": [
       "(5141, 71)"
      ]
     },
     "metadata": {},
     "execution_count": 30
    }
   ],
   "source": [
    "x = df_total.drop(['video_name','stress_global', 'stress','frameTimeWindow'], axis = 1)\n",
    "x.shape"
   ]
  },
  {
   "cell_type": "code",
   "execution_count": 31,
   "metadata": {},
   "outputs": [
    {
     "output_type": "execute_result",
     "data": {
      "text/plain": [
       "(5141, 1)"
      ]
     },
     "metadata": {},
     "execution_count": 31
    }
   ],
   "source": [
    "#Replace string values\n",
    "x.sexe = x.sexe.replace('H',0)\n",
    "x.sexe = x.sexe.replace('F',1)\n",
    "\n",
    "y = df_total[['stress']]\n",
    "y.shape"
   ]
  },
  {
   "cell_type": "code",
   "execution_count": 32,
   "metadata": {},
   "outputs": [],
   "source": [
    "from sklearn.ensemble import RandomForestClassifier\n",
    "from sklearn.model_selection import LeaveOneGroupOut\n",
    "\n",
    "models_list = [RandomForestClassifier(random_state = 42, n_jobs=-1)]\n",
    "parameters_list = [\n",
    "                {'n_estimators': [100, 150, 200, 250, 300], 'max_depth':[10, 15, 20, 25,30], 'class_weight':[None,'balanced']}\n",
    "                ]\n",
    "groups = df_total['video_name']\n",
    "loo = LeaveOneGroupOut()\n",
    "cv_loo = loo.split(x, y, groups)"
   ]
  },
  {
   "cell_type": "code",
   "execution_count": 33,
   "metadata": {},
   "outputs": [
    {
     "output_type": "stream",
     "name": "stdout",
     "text": [
      "Fitting 29 folds for each of 50 candidates, totalling 1450 fits\n",
      "Best estimator RandomForestClassifier(class_weight='balanced', max_depth=10, n_estimators=200,\n",
      "                       n_jobs=-1, random_state=42)\n",
      "Best results 0.48680457189978915\n",
      "Best params {'class_weight': 'balanced', 'max_depth': 10, 'n_estimators': 200}\n",
      "accuracy (mean, std) 0.508148691748685 0.19044369172224368\n",
      "f1 (mean, std) 0.48680457189978915 0.20394140360004606\n",
      "balanced accuracy (mean, std) 0.4782190877946046 0.16339511752779573\n",
      "precision (mean, std) 0.5884394323901357 0.22265876772921822\n",
      "recall (mean, std) 0.508148691748685 0.19044369172224368\n",
      "\n"
     ]
    }
   ],
   "source": [
    "best_result, y_predict, result_list = runGridSearchClassifiers(x, y, cv_loo, models_list, parameters_list, output_predict=True, n_jobs=-1, verbose=True)"
   ]
  },
  {
   "cell_type": "code",
   "execution_count": 34,
   "metadata": {},
   "outputs": [],
   "source": [
    "# Saving predictions\n",
    "predict5s = pd.concat([df_total[['video_name','diapo','frameTimeWindow']],\n",
    "                        pd.DataFrame(y_predict, columns=['ypredict'])],axis=1)\n"
   ]
  },
  {
   "cell_type": "code",
   "execution_count": 35,
   "metadata": {},
   "outputs": [
    {
     "output_type": "execute_result",
     "data": {
      "text/plain": [
       "{'best_estimator': RandomForestClassifier(class_weight='balanced', max_depth=10, n_estimators=200,\n",
       "                        n_jobs=-1, random_state=42),\n",
       " 'best_score': 0.48680457189978915,\n",
       " 'best_params': {'class_weight': 'balanced',\n",
       "  'max_depth': 10,\n",
       "  'n_estimators': 200},\n",
       " 'mean_test_f1_score': 0.48680457189978915,\n",
       " 'std_test_f1_score': 0.20394140360004606,\n",
       " 'mean_test_accuracy_score': 0.508148691748685,\n",
       " 'std_test_accuracy_score': 0.19044369172224368,\n",
       " 'mean_test_balanced_accuracy_score': 0.4782190877946046,\n",
       " 'std_test_balanced_accuracy_score': 0.16339511752779573,\n",
       " 'mean_test_precision': 0.5884394323901357,\n",
       " 'std_test_precision': 0.22265876772921822,\n",
       " 'mean_test_recall': 0.508148691748685,\n",
       " 'std_test_recall': 0.19044369172224368}"
      ]
     },
     "metadata": {},
     "execution_count": 35
    }
   ],
   "source": [
    "best_result"
   ]
  },
  {
   "cell_type": "code",
   "execution_count": 36,
   "metadata": {},
   "outputs": [],
   "source": [
    "predict5s.to_csv('au_tw5.csv')"
   ]
  },
  {
   "cell_type": "code",
   "execution_count": 37,
   "metadata": {},
   "outputs": [
    {
     "output_type": "execute_result",
     "data": {
      "text/plain": [
       "                     video_name  diapo  frameTimeWindow  ypredict\n",
       "0                Test_pour_AFPA      9               44       1.0\n",
       "1                Test_pour_AFPA      9               45       0.0\n",
       "2                Test_pour_AFPA      9               46       1.0\n",
       "3                Test_pour_AFPA      9               47       1.0\n",
       "4                Test_pour_AFPA      9               48       1.0\n",
       "...                         ...    ...              ...       ...\n",
       "5136  WIN_20210417_14_53_12_Pro     18              120       1.0\n",
       "5137  WIN_20210417_14_53_12_Pro     18              121       1.0\n",
       "5138  WIN_20210417_14_53_12_Pro     18              122       1.0\n",
       "5139  WIN_20210417_14_53_12_Pro     18              123       1.0\n",
       "5140  WIN_20210417_14_53_12_Pro     18              124       2.0\n",
       "\n",
       "[5141 rows x 4 columns]"
      ],
      "text/html": "<div>\n<style scoped>\n    .dataframe tbody tr th:only-of-type {\n        vertical-align: middle;\n    }\n\n    .dataframe tbody tr th {\n        vertical-align: top;\n    }\n\n    .dataframe thead th {\n        text-align: right;\n    }\n</style>\n<table border=\"1\" class=\"dataframe\">\n  <thead>\n    <tr style=\"text-align: right;\">\n      <th></th>\n      <th>video_name</th>\n      <th>diapo</th>\n      <th>frameTimeWindow</th>\n      <th>ypredict</th>\n    </tr>\n  </thead>\n  <tbody>\n    <tr>\n      <th>0</th>\n      <td>Test_pour_AFPA</td>\n      <td>9</td>\n      <td>44</td>\n      <td>1.0</td>\n    </tr>\n    <tr>\n      <th>1</th>\n      <td>Test_pour_AFPA</td>\n      <td>9</td>\n      <td>45</td>\n      <td>0.0</td>\n    </tr>\n    <tr>\n      <th>2</th>\n      <td>Test_pour_AFPA</td>\n      <td>9</td>\n      <td>46</td>\n      <td>1.0</td>\n    </tr>\n    <tr>\n      <th>3</th>\n      <td>Test_pour_AFPA</td>\n      <td>9</td>\n      <td>47</td>\n      <td>1.0</td>\n    </tr>\n    <tr>\n      <th>4</th>\n      <td>Test_pour_AFPA</td>\n      <td>9</td>\n      <td>48</td>\n      <td>1.0</td>\n    </tr>\n    <tr>\n      <th>...</th>\n      <td>...</td>\n      <td>...</td>\n      <td>...</td>\n      <td>...</td>\n    </tr>\n    <tr>\n      <th>5136</th>\n      <td>WIN_20210417_14_53_12_Pro</td>\n      <td>18</td>\n      <td>120</td>\n      <td>1.0</td>\n    </tr>\n    <tr>\n      <th>5137</th>\n      <td>WIN_20210417_14_53_12_Pro</td>\n      <td>18</td>\n      <td>121</td>\n      <td>1.0</td>\n    </tr>\n    <tr>\n      <th>5138</th>\n      <td>WIN_20210417_14_53_12_Pro</td>\n      <td>18</td>\n      <td>122</td>\n      <td>1.0</td>\n    </tr>\n    <tr>\n      <th>5139</th>\n      <td>WIN_20210417_14_53_12_Pro</td>\n      <td>18</td>\n      <td>123</td>\n      <td>1.0</td>\n    </tr>\n    <tr>\n      <th>5140</th>\n      <td>WIN_20210417_14_53_12_Pro</td>\n      <td>18</td>\n      <td>124</td>\n      <td>2.0</td>\n    </tr>\n  </tbody>\n</table>\n<p>5141 rows × 4 columns</p>\n</div>"
     },
     "metadata": {},
     "execution_count": 37
    }
   ],
   "source": [
    "predict5s"
   ]
  },
  {
   "source": [
    "## PIVOT TABLE WITH COUNT OF PREDICTION 5SEC, TO PREDICT STRESS BY DIAPO"
   ],
   "cell_type": "markdown",
   "metadata": {}
  },
  {
   "cell_type": "code",
   "execution_count": 38,
   "metadata": {},
   "outputs": [
    {
     "output_type": "execute_result",
     "data": {
      "text/plain": [
       "ypredict                              0.0       1.0       2.0\n",
       "video_name                diapo                              \n",
       "Test_pour_AFPA            1      0.647059  0.352941  0.000000\n",
       "                          8      0.300000  0.700000  0.000000\n",
       "                          9      0.100000  0.900000  0.000000\n",
       "                          10     0.200000  0.800000  0.000000\n",
       "                          11     0.200000  0.800000  0.000000\n",
       "...                                   ...       ...       ...\n",
       "WIN_20210417_14_53_12_Pro 10     0.928571  0.071429  0.000000\n",
       "                          11     0.950000  0.050000  0.000000\n",
       "                          12     0.666667  0.333333  0.000000\n",
       "                          17     0.428571  0.571429  0.000000\n",
       "                          18     0.043478  0.913043  0.043478\n",
       "\n",
       "[232 rows x 3 columns]"
      ],
      "text/html": "<div>\n<style scoped>\n    .dataframe tbody tr th:only-of-type {\n        vertical-align: middle;\n    }\n\n    .dataframe tbody tr th {\n        vertical-align: top;\n    }\n\n    .dataframe thead th {\n        text-align: right;\n    }\n</style>\n<table border=\"1\" class=\"dataframe\">\n  <thead>\n    <tr style=\"text-align: right;\">\n      <th></th>\n      <th>ypredict</th>\n      <th>0.0</th>\n      <th>1.0</th>\n      <th>2.0</th>\n    </tr>\n    <tr>\n      <th>video_name</th>\n      <th>diapo</th>\n      <th></th>\n      <th></th>\n      <th></th>\n    </tr>\n  </thead>\n  <tbody>\n    <tr>\n      <th rowspan=\"5\" valign=\"top\">Test_pour_AFPA</th>\n      <th>1</th>\n      <td>0.647059</td>\n      <td>0.352941</td>\n      <td>0.000000</td>\n    </tr>\n    <tr>\n      <th>8</th>\n      <td>0.300000</td>\n      <td>0.700000</td>\n      <td>0.000000</td>\n    </tr>\n    <tr>\n      <th>9</th>\n      <td>0.100000</td>\n      <td>0.900000</td>\n      <td>0.000000</td>\n    </tr>\n    <tr>\n      <th>10</th>\n      <td>0.200000</td>\n      <td>0.800000</td>\n      <td>0.000000</td>\n    </tr>\n    <tr>\n      <th>11</th>\n      <td>0.200000</td>\n      <td>0.800000</td>\n      <td>0.000000</td>\n    </tr>\n    <tr>\n      <th>...</th>\n      <th>...</th>\n      <td>...</td>\n      <td>...</td>\n      <td>...</td>\n    </tr>\n    <tr>\n      <th rowspan=\"5\" valign=\"top\">WIN_20210417_14_53_12_Pro</th>\n      <th>10</th>\n      <td>0.928571</td>\n      <td>0.071429</td>\n      <td>0.000000</td>\n    </tr>\n    <tr>\n      <th>11</th>\n      <td>0.950000</td>\n      <td>0.050000</td>\n      <td>0.000000</td>\n    </tr>\n    <tr>\n      <th>12</th>\n      <td>0.666667</td>\n      <td>0.333333</td>\n      <td>0.000000</td>\n    </tr>\n    <tr>\n      <th>17</th>\n      <td>0.428571</td>\n      <td>0.571429</td>\n      <td>0.000000</td>\n    </tr>\n    <tr>\n      <th>18</th>\n      <td>0.043478</td>\n      <td>0.913043</td>\n      <td>0.043478</td>\n    </tr>\n  </tbody>\n</table>\n<p>232 rows × 3 columns</p>\n</div>"
     },
     "metadata": {},
     "execution_count": 38
    }
   ],
   "source": [
    "X = predict5s.pivot_table(values='frameTimeWindow', columns='ypredict', index=['video_name','diapo'], aggfunc='count', fill_value=0)\n",
    "X_sum = X.sum(axis=1).values.copy()\n",
    "for col_number in range(len(X.columns)):\n",
    "    X.iloc[:,col_number] = X.iloc[:,col_number] / X_sum\n",
    "X\n",
    " "
   ]
  },
  {
   "cell_type": "code",
   "execution_count": 39,
   "metadata": {},
   "outputs": [
    {
     "output_type": "execute_result",
     "data": {
      "text/plain": [
       "                    video_name  diapo  stress\n",
       "0               Test_pour_AFPA      1     1.0\n",
       "1               Test_pour_AFPA      8     1.0\n",
       "2               Test_pour_AFPA      9     0.0\n",
       "3               Test_pour_AFPA     10     0.0\n",
       "4               Test_pour_AFPA     11     0.0\n",
       "..                         ...    ...     ...\n",
       "235  WIN_20210417_14_53_12_Pro     10     0.0\n",
       "236  WIN_20210417_14_53_12_Pro     11     0.0\n",
       "237  WIN_20210417_14_53_12_Pro     12     0.0\n",
       "238  WIN_20210417_14_53_12_Pro     17     1.0\n",
       "239  WIN_20210417_14_53_12_Pro     18     1.0\n",
       "\n",
       "[240 rows x 3 columns]"
      ],
      "text/html": "<div>\n<style scoped>\n    .dataframe tbody tr th:only-of-type {\n        vertical-align: middle;\n    }\n\n    .dataframe tbody tr th {\n        vertical-align: top;\n    }\n\n    .dataframe thead th {\n        text-align: right;\n    }\n</style>\n<table border=\"1\" class=\"dataframe\">\n  <thead>\n    <tr style=\"text-align: right;\">\n      <th></th>\n      <th>video_name</th>\n      <th>diapo</th>\n      <th>stress</th>\n    </tr>\n  </thead>\n  <tbody>\n    <tr>\n      <th>0</th>\n      <td>Test_pour_AFPA</td>\n      <td>1</td>\n      <td>1.0</td>\n    </tr>\n    <tr>\n      <th>1</th>\n      <td>Test_pour_AFPA</td>\n      <td>8</td>\n      <td>1.0</td>\n    </tr>\n    <tr>\n      <th>2</th>\n      <td>Test_pour_AFPA</td>\n      <td>9</td>\n      <td>0.0</td>\n    </tr>\n    <tr>\n      <th>3</th>\n      <td>Test_pour_AFPA</td>\n      <td>10</td>\n      <td>0.0</td>\n    </tr>\n    <tr>\n      <th>4</th>\n      <td>Test_pour_AFPA</td>\n      <td>11</td>\n      <td>0.0</td>\n    </tr>\n    <tr>\n      <th>...</th>\n      <td>...</td>\n      <td>...</td>\n      <td>...</td>\n    </tr>\n    <tr>\n      <th>235</th>\n      <td>WIN_20210417_14_53_12_Pro</td>\n      <td>10</td>\n      <td>0.0</td>\n    </tr>\n    <tr>\n      <th>236</th>\n      <td>WIN_20210417_14_53_12_Pro</td>\n      <td>11</td>\n      <td>0.0</td>\n    </tr>\n    <tr>\n      <th>237</th>\n      <td>WIN_20210417_14_53_12_Pro</td>\n      <td>12</td>\n      <td>0.0</td>\n    </tr>\n    <tr>\n      <th>238</th>\n      <td>WIN_20210417_14_53_12_Pro</td>\n      <td>17</td>\n      <td>1.0</td>\n    </tr>\n    <tr>\n      <th>239</th>\n      <td>WIN_20210417_14_53_12_Pro</td>\n      <td>18</td>\n      <td>1.0</td>\n    </tr>\n  </tbody>\n</table>\n<p>240 rows × 3 columns</p>\n</div>"
     },
     "metadata": {},
     "execution_count": 39
    }
   ],
   "source": [
    "#STRESS BY DIAPO\n",
    "\n",
    "df_annotations_stress = pd.read_csv('annotations.csv')\n",
    "df_annotations_stress = df_annotations_stress.drop(df_annotations_stress.columns[-1],axis=1).set_index('video_name').stack()\n",
    "df_annotations_stress = pd.DataFrame(df_annotations_stress).reset_index()\n",
    "df_annotations_stress.columns = ['video_name','diapo','stress']\n",
    "#df_annotations_stress = df_annotations_stress.set_index(['video_name','diapo'])\n",
    "df_annotations_stress['diapo'] = df_annotations_stress['diapo'].astype(int)\n",
    "df_annotations_stress"
   ]
  },
  {
   "cell_type": "code",
   "execution_count": 40,
   "metadata": {},
   "outputs": [
    {
     "output_type": "execute_result",
     "data": {
      "text/plain": [
       "                    video_name  diapo       0.0       1.0       2.0  stress\n",
       "0               Test_pour_AFPA      1  0.647059  0.352941  0.000000     1.0\n",
       "1               Test_pour_AFPA      8  0.300000  0.700000  0.000000     1.0\n",
       "2               Test_pour_AFPA      9  0.100000  0.900000  0.000000     0.0\n",
       "3               Test_pour_AFPA     10  0.200000  0.800000  0.000000     0.0\n",
       "4               Test_pour_AFPA     11  0.200000  0.800000  0.000000     0.0\n",
       "..                         ...    ...       ...       ...       ...     ...\n",
       "227  WIN_20210417_14_53_12_Pro     10  0.928571  0.071429  0.000000     0.0\n",
       "228  WIN_20210417_14_53_12_Pro     11  0.950000  0.050000  0.000000     0.0\n",
       "229  WIN_20210417_14_53_12_Pro     12  0.666667  0.333333  0.000000     0.0\n",
       "230  WIN_20210417_14_53_12_Pro     17  0.428571  0.571429  0.000000     1.0\n",
       "231  WIN_20210417_14_53_12_Pro     18  0.043478  0.913043  0.043478     1.0\n",
       "\n",
       "[232 rows x 6 columns]"
      ],
      "text/html": "<div>\n<style scoped>\n    .dataframe tbody tr th:only-of-type {\n        vertical-align: middle;\n    }\n\n    .dataframe tbody tr th {\n        vertical-align: top;\n    }\n\n    .dataframe thead th {\n        text-align: right;\n    }\n</style>\n<table border=\"1\" class=\"dataframe\">\n  <thead>\n    <tr style=\"text-align: right;\">\n      <th></th>\n      <th>video_name</th>\n      <th>diapo</th>\n      <th>0.0</th>\n      <th>1.0</th>\n      <th>2.0</th>\n      <th>stress</th>\n    </tr>\n  </thead>\n  <tbody>\n    <tr>\n      <th>0</th>\n      <td>Test_pour_AFPA</td>\n      <td>1</td>\n      <td>0.647059</td>\n      <td>0.352941</td>\n      <td>0.000000</td>\n      <td>1.0</td>\n    </tr>\n    <tr>\n      <th>1</th>\n      <td>Test_pour_AFPA</td>\n      <td>8</td>\n      <td>0.300000</td>\n      <td>0.700000</td>\n      <td>0.000000</td>\n      <td>1.0</td>\n    </tr>\n    <tr>\n      <th>2</th>\n      <td>Test_pour_AFPA</td>\n      <td>9</td>\n      <td>0.100000</td>\n      <td>0.900000</td>\n      <td>0.000000</td>\n      <td>0.0</td>\n    </tr>\n    <tr>\n      <th>3</th>\n      <td>Test_pour_AFPA</td>\n      <td>10</td>\n      <td>0.200000</td>\n      <td>0.800000</td>\n      <td>0.000000</td>\n      <td>0.0</td>\n    </tr>\n    <tr>\n      <th>4</th>\n      <td>Test_pour_AFPA</td>\n      <td>11</td>\n      <td>0.200000</td>\n      <td>0.800000</td>\n      <td>0.000000</td>\n      <td>0.0</td>\n    </tr>\n    <tr>\n      <th>...</th>\n      <td>...</td>\n      <td>...</td>\n      <td>...</td>\n      <td>...</td>\n      <td>...</td>\n      <td>...</td>\n    </tr>\n    <tr>\n      <th>227</th>\n      <td>WIN_20210417_14_53_12_Pro</td>\n      <td>10</td>\n      <td>0.928571</td>\n      <td>0.071429</td>\n      <td>0.000000</td>\n      <td>0.0</td>\n    </tr>\n    <tr>\n      <th>228</th>\n      <td>WIN_20210417_14_53_12_Pro</td>\n      <td>11</td>\n      <td>0.950000</td>\n      <td>0.050000</td>\n      <td>0.000000</td>\n      <td>0.0</td>\n    </tr>\n    <tr>\n      <th>229</th>\n      <td>WIN_20210417_14_53_12_Pro</td>\n      <td>12</td>\n      <td>0.666667</td>\n      <td>0.333333</td>\n      <td>0.000000</td>\n      <td>0.0</td>\n    </tr>\n    <tr>\n      <th>230</th>\n      <td>WIN_20210417_14_53_12_Pro</td>\n      <td>17</td>\n      <td>0.428571</td>\n      <td>0.571429</td>\n      <td>0.000000</td>\n      <td>1.0</td>\n    </tr>\n    <tr>\n      <th>231</th>\n      <td>WIN_20210417_14_53_12_Pro</td>\n      <td>18</td>\n      <td>0.043478</td>\n      <td>0.913043</td>\n      <td>0.043478</td>\n      <td>1.0</td>\n    </tr>\n  </tbody>\n</table>\n<p>232 rows × 6 columns</p>\n</div>"
     },
     "metadata": {},
     "execution_count": 40
    }
   ],
   "source": [
    "Xy = X.merge(df_annotations_stress, how='inner', on=['video_name','diapo'])\n",
    "X = Xy.iloc[:,:-1].set_index(['video_name','diapo'])\n",
    "y = Xy.iloc[:,-1]\n",
    "Xy"
   ]
  },
  {
   "cell_type": "code",
   "execution_count": 41,
   "metadata": {},
   "outputs": [
    {
     "output_type": "execute_result",
     "data": {
      "text/plain": [
       "                                      0.0       1.0       2.0\n",
       "video_name                diapo                              \n",
       "Test_pour_AFPA            1      0.647059  0.352941  0.000000\n",
       "                          8      0.300000  0.700000  0.000000\n",
       "                          9      0.100000  0.900000  0.000000\n",
       "                          10     0.200000  0.800000  0.000000\n",
       "                          11     0.200000  0.800000  0.000000\n",
       "...                                   ...       ...       ...\n",
       "WIN_20210417_14_53_12_Pro 10     0.928571  0.071429  0.000000\n",
       "                          11     0.950000  0.050000  0.000000\n",
       "                          12     0.666667  0.333333  0.000000\n",
       "                          17     0.428571  0.571429  0.000000\n",
       "                          18     0.043478  0.913043  0.043478\n",
       "\n",
       "[232 rows x 3 columns]"
      ],
      "text/html": "<div>\n<style scoped>\n    .dataframe tbody tr th:only-of-type {\n        vertical-align: middle;\n    }\n\n    .dataframe tbody tr th {\n        vertical-align: top;\n    }\n\n    .dataframe thead th {\n        text-align: right;\n    }\n</style>\n<table border=\"1\" class=\"dataframe\">\n  <thead>\n    <tr style=\"text-align: right;\">\n      <th></th>\n      <th></th>\n      <th>0.0</th>\n      <th>1.0</th>\n      <th>2.0</th>\n    </tr>\n    <tr>\n      <th>video_name</th>\n      <th>diapo</th>\n      <th></th>\n      <th></th>\n      <th></th>\n    </tr>\n  </thead>\n  <tbody>\n    <tr>\n      <th rowspan=\"5\" valign=\"top\">Test_pour_AFPA</th>\n      <th>1</th>\n      <td>0.647059</td>\n      <td>0.352941</td>\n      <td>0.000000</td>\n    </tr>\n    <tr>\n      <th>8</th>\n      <td>0.300000</td>\n      <td>0.700000</td>\n      <td>0.000000</td>\n    </tr>\n    <tr>\n      <th>9</th>\n      <td>0.100000</td>\n      <td>0.900000</td>\n      <td>0.000000</td>\n    </tr>\n    <tr>\n      <th>10</th>\n      <td>0.200000</td>\n      <td>0.800000</td>\n      <td>0.000000</td>\n    </tr>\n    <tr>\n      <th>11</th>\n      <td>0.200000</td>\n      <td>0.800000</td>\n      <td>0.000000</td>\n    </tr>\n    <tr>\n      <th>...</th>\n      <th>...</th>\n      <td>...</td>\n      <td>...</td>\n      <td>...</td>\n    </tr>\n    <tr>\n      <th rowspan=\"5\" valign=\"top\">WIN_20210417_14_53_12_Pro</th>\n      <th>10</th>\n      <td>0.928571</td>\n      <td>0.071429</td>\n      <td>0.000000</td>\n    </tr>\n    <tr>\n      <th>11</th>\n      <td>0.950000</td>\n      <td>0.050000</td>\n      <td>0.000000</td>\n    </tr>\n    <tr>\n      <th>12</th>\n      <td>0.666667</td>\n      <td>0.333333</td>\n      <td>0.000000</td>\n    </tr>\n    <tr>\n      <th>17</th>\n      <td>0.428571</td>\n      <td>0.571429</td>\n      <td>0.000000</td>\n    </tr>\n    <tr>\n      <th>18</th>\n      <td>0.043478</td>\n      <td>0.913043</td>\n      <td>0.043478</td>\n    </tr>\n  </tbody>\n</table>\n<p>232 rows × 3 columns</p>\n</div>"
     },
     "metadata": {},
     "execution_count": 41
    }
   ],
   "source": [
    "X"
   ]
  },
  {
   "cell_type": "code",
   "execution_count": 42,
   "metadata": {},
   "outputs": [],
   "source": [
    "from sklearn.linear_model import LogisticRegression\n",
    "from sklearn.neighbors import KNeighborsClassifier\n",
    "from sklearn.ensemble import RandomForestClassifier\n",
    "from sklearn.model_selection import LeaveOneGroupOut\n",
    "from sklearn.decomposition import PCA\n",
    "from sklearn.pipeline import Pipeline\n",
    "\n",
    "pca = PCA()\n",
    "pipe = Pipeline(steps=[('pca', pca), ('logistic', LogisticRegression(multi_class='multinomial', fit_intercept=True, random_state=42))])\n",
    "\n",
    "models_list = [\n",
    "                LogisticRegression(multi_class='multinomial', fit_intercept=True, random_state=42),\n",
    "                Pipeline(steps=[('pca', pca), ('logistic', LogisticRegression(multi_class='multinomial', fit_intercept=True))]),\n",
    "                KNeighborsClassifier(),\n",
    "                Pipeline(steps=[('pca', pca), ('knn', KNeighborsClassifier())]),\n",
    "                RandomForestClassifier(random_state = 42, n_jobs=-1)\n",
    "                ]\n",
    "\n",
    "parameters_list = [\n",
    "                    {'C': [0.01, 0.05, 0.1, 0.5, 1, 2, 3, 4 , 5, 10], 'class_weight' : [None, 'balanced']},\n",
    "                    {'pca__n_components': [1, 2, 3, 4],\n",
    "                        'logistic__C': [0.01, 0.05, 0.1, 0.5, 1, 2, 3, 4 , 5, 10], 'logistic__class_weight' : [None, 'balanced']},\n",
    "                    {'n_neighbors': [4, 5, 6, 7, 8, 9, 10, 11, 12,  15, 20], 'weights' : ['uniform', 'distance'], 'p': [1, 2]},\n",
    "                    {'pca__n_components': [1, 2, 3, 4],\n",
    "                        'knn__n_neighbors': [4, 5, 6, 7, 8, 9, 10, 11, 12,  15, 20], 'knn__weights' : ['uniform', 'distance'],                              'knn__p': [1, 2]},\n",
    "                    {'n_estimators': [50, 100, 150, 200], 'max_depth':[3, 4, 5, 6, 10, 15, 20], 'class_weight':[None,'balanced']}\n",
    "                    ]\n",
    "\n",
    "groups = X.reset_index()['video_name']\n",
    "loo = LeaveOneGroupOut()\n",
    "cv_loo = loo.split(X, y, groups)"
   ]
  },
  {
   "cell_type": "code",
   "execution_count": 43,
   "metadata": {},
   "outputs": [
    {
     "output_type": "stream",
     "name": "stdout",
     "text": [
      "Fitting 29 folds for each of 20 candidates, totalling 580 fits\n",
      "Best estimator LogisticRegression(C=10, multi_class='multinomial', random_state=42)\n",
      "Best results 0.47966477966477966\n",
      "Best params {'C': 10, 'class_weight': None}\n",
      "accuracy (mean, std) 0.521551724137931 0.2345873245549617\n",
      "f1 (mean, std) 0.47966477966477966 0.2599031158998486\n",
      "balanced accuracy (mean, std) 0.513232074438971 0.2373934026488492\n",
      "precision (mean, std) 0.5306855500821018 0.3123271557030385\n",
      "recall (mean, std) 0.521551724137931 0.2345873245549617\n",
      "\n",
      "Fitting 29 folds for each of 80 candidates, totalling 2320 fits\n",
      "Best estimator Pipeline(steps=[('pca', PCA(n_components=2)),\n",
      "                ('logistic',\n",
      "                 LogisticRegression(C=10, multi_class='multinomial'))])\n",
      "Best results 0.47966477966477966\n",
      "Best params {'logistic__C': 10, 'logistic__class_weight': None, 'pca__n_components': 2}\n",
      "accuracy (mean, std) 0.521551724137931 0.2345873245549617\n",
      "f1 (mean, std) 0.47966477966477966 0.2599031158998486\n",
      "balanced accuracy (mean, std) 0.513232074438971 0.2373934026488492\n",
      "precision (mean, std) 0.5306855500821018 0.3123271557030385\n",
      "recall (mean, std) 0.521551724137931 0.2345873245549617\n",
      "\n",
      "Fitting 29 folds for each of 44 candidates, totalling 1276 fits\n",
      "Best estimator KNeighborsClassifier()\n",
      "Best results 0.531647447380206\n",
      "Best params {'n_neighbors': 5, 'p': 2, 'weights': 'uniform'}\n",
      "accuracy (mean, std) 0.5387931034482759 0.19449162366687028\n",
      "f1 (mean, std) 0.531647447380206 0.20977895773192093\n",
      "balanced accuracy (mean, std) 0.5402025177887247 0.21980925925337572\n",
      "precision (mean, std) 0.6001385467980296 0.26280485960610406\n",
      "recall (mean, std) 0.5387931034482759 0.19449162366687028\n",
      "\n",
      "Fitting 29 folds for each of 176 candidates, totalling 5104 fits\n",
      "Best estimator Pipeline(steps=[('pca', PCA(n_components=1)),\n",
      "                ('knn', KNeighborsClassifier(n_neighbors=7, p=1))])\n",
      "Best results 0.5376745381055725\n",
      "Best params {'knn__n_neighbors': 7, 'knn__p': 1, 'knn__weights': 'uniform', 'pca__n_components': 1}\n",
      "accuracy (mean, std) 0.5560344827586207 0.19305341100481632\n",
      "f1 (mean, std) 0.5376745381055725 0.22699517173771702\n",
      "balanced accuracy (mean, std) 0.5548850574712643 0.1864526144951227\n",
      "precision (mean, std) 0.5847393267651888 0.28408637772660134\n",
      "recall (mean, std) 0.5560344827586207 0.19305341100481632\n",
      "\n",
      "Fitting 29 folds for each of 56 candidates, totalling 1624 fits\n",
      "Best estimator RandomForestClassifier(max_depth=3, n_estimators=150, n_jobs=-1,\n",
      "                       random_state=42)\n",
      "Best results 0.5139852963128826\n",
      "Best params {'class_weight': None, 'max_depth': 3, 'n_estimators': 150}\n",
      "accuracy (mean, std) 0.5775862068965517 0.21629171190162721\n",
      "f1 (mean, std) 0.5139852963128826 0.25240974472834943\n",
      "balanced accuracy (mean, std) 0.5546387520525451 0.18064649434167257\n",
      "precision (mean, std) 0.5316502463054187 0.29878872701988746\n",
      "recall (mean, std) 0.5775862068965517 0.21629171190162721\n",
      "\n"
     ]
    }
   ],
   "source": [
    "best_result_diapo, y_predict_diapo, result_list_diapo = runGridSearchClassifiers(X, y, cv_loo, models_list, parameters_list,output_predict=True, n_jobs=-1, verbose=True)"
   ]
  },
  {
   "cell_type": "code",
   "execution_count": 44,
   "metadata": {},
   "outputs": [
    {
     "output_type": "execute_result",
     "data": {
      "text/plain": [
       "{'best_estimator': Pipeline(steps=[('pca', PCA(n_components=1)),\n",
       "                 ('knn', KNeighborsClassifier(n_neighbors=7, p=1))]),\n",
       " 'best_score': 0.5376745381055725,\n",
       " 'best_params': {'knn__n_neighbors': 7,\n",
       "  'knn__p': 1,\n",
       "  'knn__weights': 'uniform',\n",
       "  'pca__n_components': 1},\n",
       " 'mean_test_f1_score': 0.5376745381055725,\n",
       " 'std_test_f1_score': 0.22699517173771702,\n",
       " 'mean_test_accuracy_score': 0.5560344827586207,\n",
       " 'std_test_accuracy_score': 0.19305341100481632,\n",
       " 'mean_test_balanced_accuracy_score': 0.5548850574712643,\n",
       " 'std_test_balanced_accuracy_score': 0.1864526144951227,\n",
       " 'mean_test_precision': 0.5847393267651888,\n",
       " 'std_test_precision': 0.28408637772660134,\n",
       " 'mean_test_recall': 0.5560344827586207,\n",
       " 'std_test_recall': 0.19305341100481632}"
      ]
     },
     "metadata": {},
     "execution_count": 44
    }
   ],
   "source": [
    "best_result_diapo"
   ]
  },
  {
   "cell_type": "code",
   "execution_count": 45,
   "metadata": {},
   "outputs": [
    {
     "output_type": "execute_result",
     "data": {
      "text/plain": [
       "array([1., 0., 0., 1., 1., 0., 0., 0., 0., 0., 0., 0., 0., 1., 1., 1., 1.,\n",
       "       1., 1., 1., 1., 1., 1., 1., 1., 1., 1., 1., 1., 1., 1., 1., 0., 1.,\n",
       "       0., 0., 1., 1., 1., 1., 0., 0., 0., 1., 1., 1., 0., 1., 0., 0., 0.,\n",
       "       1., 1., 0., 0., 1., 0., 1., 1., 1., 1., 1., 1., 1., 0., 1., 0., 1.,\n",
       "       1., 1., 1., 0., 1., 0., 0., 1., 0., 1., 0., 0., 1., 0., 0., 1., 0.,\n",
       "       1., 1., 1., 1., 1., 1., 1., 0., 0., 1., 0., 1., 1., 0., 0., 0., 1.,\n",
       "       1., 1., 0., 0., 1., 1., 1., 0., 1., 1., 1., 1., 1., 1., 1., 1., 1.,\n",
       "       1., 0., 0., 0., 0., 0., 0., 0., 0., 0., 1., 1., 0., 1., 0., 0., 1.,\n",
       "       0., 1., 0., 1., 0., 0., 1., 1., 0., 0., 0., 0., 0., 1., 1., 1., 1.,\n",
       "       1., 1., 1., 1., 1., 1., 1., 0., 0., 0., 0., 0., 1., 1., 1., 0., 0.,\n",
       "       1., 0., 0., 1., 0., 1., 1., 1., 1., 0., 0., 0., 1., 1., 1., 0., 1.,\n",
       "       1., 1., 1., 1., 1., 1., 1., 0., 1., 0., 1., 1., 1., 1., 0., 0., 0.,\n",
       "       1., 1., 1., 1., 0., 0., 0., 1., 0., 1., 1., 1., 1., 1., 1., 1., 1.,\n",
       "       0., 0., 1., 0., 0., 0., 0., 0., 1., 0., 1.])"
      ]
     },
     "metadata": {},
     "execution_count": 45
    }
   ],
   "source": [
    "y_predict_diapo\n",
    "##ATTENZIONE NON PREDICE MAI I 2"
   ]
  },
  {
   "source": [
    "## ORA SEMPRE PARTENDO DALLE PEDIZIONI DI  5 SECONDI FACCIO NEL AGGIUNGENDO MINMAX sulle predizioni e predico su diapo"
   ],
   "cell_type": "markdown",
   "metadata": {}
  },
  {
   "cell_type": "code",
   "execution_count": 46,
   "metadata": {},
   "outputs": [
    {
     "output_type": "execute_result",
     "data": {
      "text/plain": [
       "1.0    3302\n",
       "0.0    1670\n",
       "2.0     169\n",
       "Name: ypredict, dtype: int64"
      ]
     },
     "metadata": {},
     "execution_count": 46
    }
   ],
   "source": [
    "predict5s['ypredict'].value_counts()"
   ]
  },
  {
   "cell_type": "code",
   "execution_count": 47,
   "metadata": {},
   "outputs": [
    {
     "output_type": "execute_result",
     "data": {
      "text/plain": [
       "                     video_name  diapo  frameTimeWindow  ypredict\n",
       "0                Test_pour_AFPA      9               44       1.0\n",
       "1                Test_pour_AFPA      9               45       0.0\n",
       "2                Test_pour_AFPA      9               46       1.0\n",
       "3                Test_pour_AFPA      9               47       1.0\n",
       "4                Test_pour_AFPA      9               48       1.0\n",
       "...                         ...    ...              ...       ...\n",
       "5136  WIN_20210417_14_53_12_Pro     18              120       1.0\n",
       "5137  WIN_20210417_14_53_12_Pro     18              121       1.0\n",
       "5138  WIN_20210417_14_53_12_Pro     18              122       1.0\n",
       "5139  WIN_20210417_14_53_12_Pro     18              123       1.0\n",
       "5140  WIN_20210417_14_53_12_Pro     18              124       2.0\n",
       "\n",
       "[5141 rows x 4 columns]"
      ],
      "text/html": "<div>\n<style scoped>\n    .dataframe tbody tr th:only-of-type {\n        vertical-align: middle;\n    }\n\n    .dataframe tbody tr th {\n        vertical-align: top;\n    }\n\n    .dataframe thead th {\n        text-align: right;\n    }\n</style>\n<table border=\"1\" class=\"dataframe\">\n  <thead>\n    <tr style=\"text-align: right;\">\n      <th></th>\n      <th>video_name</th>\n      <th>diapo</th>\n      <th>frameTimeWindow</th>\n      <th>ypredict</th>\n    </tr>\n  </thead>\n  <tbody>\n    <tr>\n      <th>0</th>\n      <td>Test_pour_AFPA</td>\n      <td>9</td>\n      <td>44</td>\n      <td>1.0</td>\n    </tr>\n    <tr>\n      <th>1</th>\n      <td>Test_pour_AFPA</td>\n      <td>9</td>\n      <td>45</td>\n      <td>0.0</td>\n    </tr>\n    <tr>\n      <th>2</th>\n      <td>Test_pour_AFPA</td>\n      <td>9</td>\n      <td>46</td>\n      <td>1.0</td>\n    </tr>\n    <tr>\n      <th>3</th>\n      <td>Test_pour_AFPA</td>\n      <td>9</td>\n      <td>47</td>\n      <td>1.0</td>\n    </tr>\n    <tr>\n      <th>4</th>\n      <td>Test_pour_AFPA</td>\n      <td>9</td>\n      <td>48</td>\n      <td>1.0</td>\n    </tr>\n    <tr>\n      <th>...</th>\n      <td>...</td>\n      <td>...</td>\n      <td>...</td>\n      <td>...</td>\n    </tr>\n    <tr>\n      <th>5136</th>\n      <td>WIN_20210417_14_53_12_Pro</td>\n      <td>18</td>\n      <td>120</td>\n      <td>1.0</td>\n    </tr>\n    <tr>\n      <th>5137</th>\n      <td>WIN_20210417_14_53_12_Pro</td>\n      <td>18</td>\n      <td>121</td>\n      <td>1.0</td>\n    </tr>\n    <tr>\n      <th>5138</th>\n      <td>WIN_20210417_14_53_12_Pro</td>\n      <td>18</td>\n      <td>122</td>\n      <td>1.0</td>\n    </tr>\n    <tr>\n      <th>5139</th>\n      <td>WIN_20210417_14_53_12_Pro</td>\n      <td>18</td>\n      <td>123</td>\n      <td>1.0</td>\n    </tr>\n    <tr>\n      <th>5140</th>\n      <td>WIN_20210417_14_53_12_Pro</td>\n      <td>18</td>\n      <td>124</td>\n      <td>2.0</td>\n    </tr>\n  </tbody>\n</table>\n<p>5141 rows × 4 columns</p>\n</div>"
     },
     "metadata": {},
     "execution_count": 47
    }
   ],
   "source": [
    "predict5s"
   ]
  },
  {
   "cell_type": "code",
   "execution_count": 48,
   "metadata": {},
   "outputs": [],
   "source": [
    "from scipy.stats import kurtosis, skew\n",
    "\n",
    "def percentil25(x): \n",
    "    return np.percentile(x, q=25)\n",
    "\n",
    "def percentil75(x): \n",
    "    return np.percentile(x, q=75)"
   ]
  },
  {
   "cell_type": "code",
   "execution_count": 49,
   "metadata": {},
   "outputs": [],
   "source": [
    "# Autre méthode\n",
    "X_diapo_minmax = predict5s.groupby(['video_name','diapo']).agg({'ypredict':['mean','min','max', 'median', 'std', percentil25, percentil75, kurtosis, skew]})"
   ]
  },
  {
   "cell_type": "code",
   "execution_count": 50,
   "metadata": {},
   "outputs": [
    {
     "output_type": "execute_result",
     "data": {
      "text/plain": [
       "                                 ypredict                             \\\n",
       "                                     mean  min  max median       std   \n",
       "video_name                diapo                                        \n",
       "Test_pour_AFPA            1      0.352941  0.0  1.0    0.0  0.485071   \n",
       "                          8      0.700000  0.0  1.0    1.0  0.483046   \n",
       "                          9      0.900000  0.0  1.0    1.0  0.307794   \n",
       "                          10     0.800000  0.0  1.0    1.0  0.414039   \n",
       "                          11     0.800000  0.0  1.0    1.0  0.410391   \n",
       "...                                   ...  ...  ...    ...       ...   \n",
       "WIN_20210417_14_53_12_Pro 10     0.071429  0.0  1.0    0.0  0.267261   \n",
       "                          11     0.050000  0.0  1.0    0.0  0.223607   \n",
       "                          12     0.333333  0.0  1.0    0.0  0.478714   \n",
       "                          17     0.571429  0.0  1.0    1.0  0.534522   \n",
       "                          18     1.000000  0.0  2.0    1.0  0.301511   \n",
       "\n",
       "                                                                              \n",
       "                                percentil25 percentil75   kurtosis      skew  \n",
       "video_name                diapo                                               \n",
       "Test_pour_AFPA            1            0.00         1.0  -1.621212  0.615457  \n",
       "                          8            0.25         1.0  -1.238095 -0.872872  \n",
       "                          9            1.00         1.0   5.111111 -2.666667  \n",
       "                          10           1.00         1.0   0.250000 -1.500000  \n",
       "                          11           1.00         1.0   0.250000 -1.500000  \n",
       "...                                     ...         ...        ...       ...  \n",
       "WIN_20210417_14_53_12_Pro 10           0.00         0.0   9.076923  3.328201  \n",
       "                          11           0.00         0.0  15.052632  4.129483  \n",
       "                          12           0.00         1.0  -1.500000  0.707107  \n",
       "                          17           0.00         1.0  -1.916667 -0.288675  \n",
       "                          18           1.00         1.0   8.500000  0.000000  \n",
       "\n",
       "[232 rows x 9 columns]"
      ],
      "text/html": "<div>\n<style scoped>\n    .dataframe tbody tr th:only-of-type {\n        vertical-align: middle;\n    }\n\n    .dataframe tbody tr th {\n        vertical-align: top;\n    }\n\n    .dataframe thead tr th {\n        text-align: left;\n    }\n\n    .dataframe thead tr:last-of-type th {\n        text-align: right;\n    }\n</style>\n<table border=\"1\" class=\"dataframe\">\n  <thead>\n    <tr>\n      <th></th>\n      <th></th>\n      <th colspan=\"9\" halign=\"left\">ypredict</th>\n    </tr>\n    <tr>\n      <th></th>\n      <th></th>\n      <th>mean</th>\n      <th>min</th>\n      <th>max</th>\n      <th>median</th>\n      <th>std</th>\n      <th>percentil25</th>\n      <th>percentil75</th>\n      <th>kurtosis</th>\n      <th>skew</th>\n    </tr>\n    <tr>\n      <th>video_name</th>\n      <th>diapo</th>\n      <th></th>\n      <th></th>\n      <th></th>\n      <th></th>\n      <th></th>\n      <th></th>\n      <th></th>\n      <th></th>\n      <th></th>\n    </tr>\n  </thead>\n  <tbody>\n    <tr>\n      <th rowspan=\"5\" valign=\"top\">Test_pour_AFPA</th>\n      <th>1</th>\n      <td>0.352941</td>\n      <td>0.0</td>\n      <td>1.0</td>\n      <td>0.0</td>\n      <td>0.485071</td>\n      <td>0.00</td>\n      <td>1.0</td>\n      <td>-1.621212</td>\n      <td>0.615457</td>\n    </tr>\n    <tr>\n      <th>8</th>\n      <td>0.700000</td>\n      <td>0.0</td>\n      <td>1.0</td>\n      <td>1.0</td>\n      <td>0.483046</td>\n      <td>0.25</td>\n      <td>1.0</td>\n      <td>-1.238095</td>\n      <td>-0.872872</td>\n    </tr>\n    <tr>\n      <th>9</th>\n      <td>0.900000</td>\n      <td>0.0</td>\n      <td>1.0</td>\n      <td>1.0</td>\n      <td>0.307794</td>\n      <td>1.00</td>\n      <td>1.0</td>\n      <td>5.111111</td>\n      <td>-2.666667</td>\n    </tr>\n    <tr>\n      <th>10</th>\n      <td>0.800000</td>\n      <td>0.0</td>\n      <td>1.0</td>\n      <td>1.0</td>\n      <td>0.414039</td>\n      <td>1.00</td>\n      <td>1.0</td>\n      <td>0.250000</td>\n      <td>-1.500000</td>\n    </tr>\n    <tr>\n      <th>11</th>\n      <td>0.800000</td>\n      <td>0.0</td>\n      <td>1.0</td>\n      <td>1.0</td>\n      <td>0.410391</td>\n      <td>1.00</td>\n      <td>1.0</td>\n      <td>0.250000</td>\n      <td>-1.500000</td>\n    </tr>\n    <tr>\n      <th>...</th>\n      <th>...</th>\n      <td>...</td>\n      <td>...</td>\n      <td>...</td>\n      <td>...</td>\n      <td>...</td>\n      <td>...</td>\n      <td>...</td>\n      <td>...</td>\n      <td>...</td>\n    </tr>\n    <tr>\n      <th rowspan=\"5\" valign=\"top\">WIN_20210417_14_53_12_Pro</th>\n      <th>10</th>\n      <td>0.071429</td>\n      <td>0.0</td>\n      <td>1.0</td>\n      <td>0.0</td>\n      <td>0.267261</td>\n      <td>0.00</td>\n      <td>0.0</td>\n      <td>9.076923</td>\n      <td>3.328201</td>\n    </tr>\n    <tr>\n      <th>11</th>\n      <td>0.050000</td>\n      <td>0.0</td>\n      <td>1.0</td>\n      <td>0.0</td>\n      <td>0.223607</td>\n      <td>0.00</td>\n      <td>0.0</td>\n      <td>15.052632</td>\n      <td>4.129483</td>\n    </tr>\n    <tr>\n      <th>12</th>\n      <td>0.333333</td>\n      <td>0.0</td>\n      <td>1.0</td>\n      <td>0.0</td>\n      <td>0.478714</td>\n      <td>0.00</td>\n      <td>1.0</td>\n      <td>-1.500000</td>\n      <td>0.707107</td>\n    </tr>\n    <tr>\n      <th>17</th>\n      <td>0.571429</td>\n      <td>0.0</td>\n      <td>1.0</td>\n      <td>1.0</td>\n      <td>0.534522</td>\n      <td>0.00</td>\n      <td>1.0</td>\n      <td>-1.916667</td>\n      <td>-0.288675</td>\n    </tr>\n    <tr>\n      <th>18</th>\n      <td>1.000000</td>\n      <td>0.0</td>\n      <td>2.0</td>\n      <td>1.0</td>\n      <td>0.301511</td>\n      <td>1.00</td>\n      <td>1.0</td>\n      <td>8.500000</td>\n      <td>0.000000</td>\n    </tr>\n  </tbody>\n</table>\n<p>232 rows × 9 columns</p>\n</div>"
     },
     "metadata": {},
     "execution_count": 50
    }
   ],
   "source": [
    "X_diapo_minmax"
   ]
  },
  {
   "cell_type": "code",
   "execution_count": 51,
   "metadata": {},
   "outputs": [
    {
     "output_type": "execute_result",
     "data": {
      "text/plain": [
       "0      1.0\n",
       "1      1.0\n",
       "2      0.0\n",
       "3      0.0\n",
       "4      0.0\n",
       "      ... \n",
       "227    0.0\n",
       "228    0.0\n",
       "229    0.0\n",
       "230    1.0\n",
       "231    1.0\n",
       "Name: stress, Length: 232, dtype: float64"
      ]
     },
     "metadata": {},
     "execution_count": 51
    }
   ],
   "source": [
    "#questo e' lo stress vero per diapositiva\n",
    "y"
   ]
  },
  {
   "cell_type": "code",
   "execution_count": 52,
   "metadata": {},
   "outputs": [],
   "source": [
    "from sklearn.linear_model import LogisticRegression\n",
    "from sklearn.neighbors import KNeighborsClassifier\n",
    "from sklearn.ensemble import RandomForestClassifier\n",
    "from sklearn.model_selection import LeaveOneGroupOut\n",
    "from sklearn.decomposition import PCA\n",
    "from sklearn.pipeline import Pipeline\n",
    "\n",
    "pca = PCA()\n",
    "pipe = Pipeline(steps=[('pca', pca), ('logistic', LogisticRegression(multi_class='multinomial', fit_intercept=True, random_state=42))])\n",
    "\n",
    "models_list = [\n",
    "                LogisticRegression(multi_class='multinomial', fit_intercept=True, random_state=42),\n",
    "                Pipeline(steps=[('pca', pca), ('logistic', LogisticRegression(multi_class='multinomial', fit_intercept=True))]),\n",
    "                KNeighborsClassifier(),\n",
    "                Pipeline(steps=[('pca', pca), ('knn', KNeighborsClassifier())]),\n",
    "                RandomForestClassifier(random_state = 42, n_jobs=-1)\n",
    "                ]\n",
    "\n",
    "parameters_list = [\n",
    "                    {'C': [0.01, 0.05, 0.1, 0.5, 1, 2, 3, 4 , 5, 10], 'class_weight' : [None, 'balanced']},\n",
    "                    {'pca__n_components': [1, 2, 3, 4],\n",
    "                        'logistic__C': [0.01, 0.05, 0.1, 0.5, 1, 2, 3, 4 , 5, 10], 'logistic__class_weight' : [None, 'balanced']},\n",
    "                    {'n_neighbors': [4, 5, 6, 7, 8, 9, 10, 11, 12,  15, 20], 'weights' : ['uniform', 'distance'], 'p': [1, 2]},\n",
    "                    {'pca__n_components': [1, 2, 3, 4],\n",
    "                        'knn__n_neighbors': [4, 5, 6, 7, 8, 9, 10, 11, 12,  15, 20], 'knn__weights' : ['uniform', 'distance'],                              'knn__p': [1, 2]},\n",
    "                    {'n_estimators': [50, 100, 150, 200], 'max_depth':[3, 4, 5, 6, 10, 15, 20], 'class_weight':[None,'balanced']}\n",
    "                    ]\n",
    "\n",
    "groups = X_diapo_minmax.reset_index()['video_name']\n",
    "loo = LeaveOneGroupOut()\n",
    "cv_loo = loo.split(X_diapo_minmax, y, groups)"
   ]
  },
  {
   "cell_type": "code",
   "execution_count": 53,
   "metadata": {},
   "outputs": [
    {
     "output_type": "stream",
     "name": "stdout",
     "text": [
      "Fitting 29 folds for each of 20 candidates, totalling 580 fits\n",
      "Best estimator LogisticRegression(C=0.05, multi_class='multinomial', random_state=42)\n",
      "Best results 0.4238218677873851\n",
      "Best params {'C': 0.05, 'class_weight': None}\n",
      "accuracy (mean, std) 0.45689655172413796 0.24184069205354372\n",
      "f1 (mean, std) 0.4238218677873851 0.25766734564927196\n",
      "balanced accuracy (mean, std) 0.4841269841269841 0.2570479622113761\n",
      "precision (mean, std) 0.495920566502463 0.3250784142054801\n",
      "recall (mean, std) 0.45689655172413796 0.24184069205354372\n",
      "\n",
      "Fitting 29 folds for each of 80 candidates, totalling 2320 fits\n",
      "Best estimator Pipeline(steps=[('pca', PCA(n_components=3)),\n",
      "                ('logistic',\n",
      "                 LogisticRegression(C=4, multi_class='multinomial'))])\n",
      "Best results 0.4181390448631828\n",
      "Best params {'logistic__C': 4, 'logistic__class_weight': None, 'pca__n_components': 3}\n",
      "accuracy (mean, std) 0.4525862068965517 0.2376560129670728\n",
      "f1 (mean, std) 0.4181390448631828 0.2526499448773479\n",
      "balanced accuracy (mean, std) 0.45153256704980843 0.2473399267018181\n",
      "precision (mean, std) 0.4777042282430213 0.3104555186124494\n",
      "recall (mean, std) 0.4525862068965517 0.2376560129670728\n",
      "\n",
      "Fitting 29 folds for each of 44 candidates, totalling 1276 fits\n",
      "Best estimator KNeighborsClassifier(n_neighbors=7, p=1)\n",
      "Best results 0.5111775197982095\n",
      "Best params {'n_neighbors': 7, 'p': 1, 'weights': 'uniform'}\n",
      "accuracy (mean, std) 0.5344827586206896 0.16046991783608866\n",
      "f1 (mean, std) 0.5111775197982095 0.20085689613610772\n",
      "balanced accuracy (mean, std) 0.518199233716475 0.1612871739791537\n",
      "precision (mean, std) 0.5593750000000001 0.26194731377346614\n",
      "recall (mean, std) 0.5344827586206896 0.16046991783608866\n",
      "\n",
      "Fitting 29 folds for each of 176 candidates, totalling 5104 fits\n",
      "Best estimator Pipeline(steps=[('pca', PCA(n_components=3)),\n",
      "                ('knn', KNeighborsClassifier(n_neighbors=6, p=1))])\n",
      "Best results 0.5311058194678884\n",
      "Best params {'knn__n_neighbors': 6, 'knn__p': 1, 'knn__weights': 'uniform', 'pca__n_components': 3}\n",
      "accuracy (mean, std) 0.5301724137931034 0.22422080695930954\n",
      "f1 (mean, std) 0.5311058194678884 0.23046659357279956\n",
      "balanced accuracy (mean, std) 0.46923918992884517 0.2239854160573625\n",
      "precision (mean, std) 0.589054802955665 0.25619859058454536\n",
      "recall (mean, std) 0.5301724137931034 0.22422080695930954\n",
      "\n",
      "Fitting 29 folds for each of 56 candidates, totalling 1624 fits\n",
      "Best estimator RandomForestClassifier(max_depth=3, n_estimators=50, n_jobs=-1, random_state=42)\n",
      "Best results 0.480531968031968\n",
      "Best params {'class_weight': None, 'max_depth': 3, 'n_estimators': 50}\n",
      "accuracy (mean, std) 0.5387931034482759 0.19724243428702673\n",
      "f1 (mean, std) 0.480531968031968 0.22889140093870303\n",
      "balanced accuracy (mean, std) 0.511056376573618 0.16937008863415043\n",
      "precision (mean, std) 0.5147372742200328 0.29476169286192505\n",
      "recall (mean, std) 0.5387931034482759 0.19724243428702673\n",
      "\n"
     ]
    }
   ],
   "source": [
    "best_result_diapo_minmax, y_predict_diapo_minmax, result_list_diapo = runGridSearchClassifiers(X_diapo_minmax, y, cv_loo, models_list, parameters_list,output_predict=True, n_jobs=-1, verbose=True)"
   ]
  },
  {
   "cell_type": "code",
   "execution_count": 54,
   "metadata": {},
   "outputs": [
    {
     "output_type": "execute_result",
     "data": {
      "text/plain": [
       "{'best_estimator': Pipeline(steps=[('pca', PCA(n_components=3)),\n",
       "                 ('knn', KNeighborsClassifier(n_neighbors=6, p=1))]),\n",
       " 'best_score': 0.5311058194678884,\n",
       " 'best_params': {'knn__n_neighbors': 6,\n",
       "  'knn__p': 1,\n",
       "  'knn__weights': 'uniform',\n",
       "  'pca__n_components': 3},\n",
       " 'mean_test_f1_score': 0.5311058194678884,\n",
       " 'std_test_f1_score': 0.23046659357279956,\n",
       " 'mean_test_accuracy_score': 0.5301724137931034,\n",
       " 'std_test_accuracy_score': 0.22422080695930954,\n",
       " 'mean_test_balanced_accuracy_score': 0.46923918992884517,\n",
       " 'std_test_balanced_accuracy_score': 0.2239854160573625,\n",
       " 'mean_test_precision': 0.589054802955665,\n",
       " 'std_test_precision': 0.25619859058454536,\n",
       " 'mean_test_recall': 0.5301724137931034,\n",
       " 'std_test_recall': 0.22422080695930954}"
      ]
     },
     "metadata": {},
     "execution_count": 54
    }
   ],
   "source": [
    "best_result_diapo_minmax"
   ]
  },
  {
   "cell_type": "code",
   "execution_count": 55,
   "metadata": {},
   "outputs": [
    {
     "output_type": "execute_result",
     "data": {
      "text/plain": [
       "array([1., 0., 1., 1., 1., 1., 0., 0., 0., 2., 0., 0., 0., 1., 1., 0., 0.,\n",
       "       1., 1., 1., 1., 1., 1., 1., 0., 0., 0., 1., 1., 1., 1., 1., 0., 0.,\n",
       "       0., 0., 0., 1., 1., 1., 0., 0., 0., 1., 1., 1., 0., 0., 0., 0., 1.,\n",
       "       1., 1., 1., 1., 1., 0., 1., 1., 1., 1., 1., 1., 1., 1., 1., 0., 1.,\n",
       "       1., 1., 1., 1., 1., 0., 2., 0., 0., 1., 0., 0., 0., 0., 0., 0., 0.,\n",
       "       1., 1., 0., 0., 1., 0., 0., 0., 0., 2., 0., 1., 1., 0., 0., 0., 1.,\n",
       "       0., 0., 0., 0., 1., 1., 0., 1., 0., 1., 1., 0., 0., 0., 0., 1., 0.,\n",
       "       0., 0., 0., 0., 0., 0., 0., 0., 0., 0., 0., 0., 0., 0., 0., 0., 0.,\n",
       "       0., 1., 0., 1., 1., 0., 1., 1., 0., 0., 0., 0., 0., 1., 0., 1., 0.,\n",
       "       0., 0., 0., 0., 0., 0., 0., 0., 0., 0., 0., 0., 1., 1., 0., 1., 1.,\n",
       "       1., 0., 0., 0., 0., 0., 0., 1., 1., 0., 0., 0., 0., 0., 1., 0., 1.,\n",
       "       1., 0., 1., 0., 1., 1., 1., 1., 0., 1., 0., 1., 1., 1., 0., 1., 0.,\n",
       "       0., 0., 0., 1., 0., 0., 0., 1., 0., 1., 1., 1., 0., 0., 0., 1., 1.,\n",
       "       0., 1., 0., 0., 0., 2., 0., 0., 1., 0., 1.])"
      ]
     },
     "metadata": {},
     "execution_count": 55
    }
   ],
   "source": [
    "#è meglio arriva a predire i 2\n",
    "y_predict_diapo_minmax"
   ]
  },
  {
   "cell_type": "code",
   "execution_count": 56,
   "metadata": {},
   "outputs": [],
   "source": [
    "# Saving predictions\n",
    "df_diapo_minmax = pd.concat([X_diapo_minmax.reset_index()[['video_name','diapo']],\n",
    "                        pd.DataFrame(y_predict_diapo_minmax, columns=['ypredict'])],axis=1)\n",
    "\n",
    "df_diapo_minmax.columns = ['video_name', 'diapo', 'ypredict']\n",
    "df_diapo_minmax\n",
    "df_diapo_minmax.to_csv('au_tw5_diapo_minmax.csv')"
   ]
  },
  {
   "source": [
    "## GLOBAL STRESS, UTILIZZANDO LE PREDIZIONI DI DIAPO MINMAX"
   ],
   "cell_type": "markdown",
   "metadata": {}
  },
  {
   "cell_type": "code",
   "execution_count": 57,
   "metadata": {},
   "outputs": [
    {
     "output_type": "execute_result",
     "data": {
      "text/plain": [
       "diapo                             1    8    9    10   11   12   17   18\n",
       "video_name                                                             \n",
       "Test_pour_AFPA                   1.0  0.0  1.0  1.0  1.0  1.0  0.0  0.0\n",
       "Video_1                          0.0  2.0  0.0  0.0  0.0  1.0  1.0  0.0\n",
       "WIN_20210323_19_17_40_Pro        0.0  1.0  1.0  1.0  1.0  1.0  1.0  1.0\n",
       "WIN_20210329_10_16_02_Pro        0.0  0.0  0.0  1.0  1.0  1.0  1.0  1.0\n",
       "WIN_20210330_13_10_29_Pro        0.0  0.0  0.0  0.0  0.0  1.0  1.0  1.0\n",
       "WIN_20210331_21_22_52_Pro        0.0  0.0  0.0  1.0  1.0  1.0  0.0  0.0\n",
       "WIN_20210402_19_04_53_Pro        0.0  0.0  1.0  1.0  1.0  1.0  1.0  1.0\n",
       "WIN_20210403_18_49_15_Pro        0.0  1.0  1.0  1.0  1.0  1.0  1.0  1.0\n",
       "WIN_20210404_10_58_27_Pro        1.0  1.0  0.0  1.0  1.0  1.0  1.0  1.0\n",
       "WIN_20210404_21_41_12_Pro        1.0  0.0  2.0  0.0  0.0  1.0  0.0  0.0\n",
       "WIN_20210405_15_09_16_Pro        0.0  0.0  0.0  0.0  0.0  1.0  1.0  0.0\n",
       "WIN_20210406_15_06_15_Pro        0.0  1.0  0.0  0.0  0.0  0.0  2.0  0.0\n",
       "WIN_20210406_18_35_52_Pro        1.0  1.0  0.0  0.0  0.0  1.0  0.0  0.0\n",
       "WIN_20210406_18_49_10_Pro        0.0  0.0  1.0  1.0  0.0  1.0  0.0  1.0\n",
       "WIN_20210406_21_05_52_Pro        1.0  0.0  0.0  0.0  0.0  1.0  0.0  0.0\n",
       "WIN_20210407_09_04_05_Pro        0.0  0.0  0.0  0.0  0.0  0.0  0.0  0.0\n",
       "WIN_20210407_14_54_56_Pro_edit2  0.0  0.0  0.0  0.0  0.0  0.0  0.0  0.0\n",
       "WIN_20210408_11_48_58_Pro        0.0  1.0  0.0  1.0  1.0  0.0  1.0  1.0\n",
       "WIN_20210408_14_00_44_Pro        0.0  0.0  0.0  0.0  0.0  1.0  0.0  1.0\n",
       "WIN_20210408_14_02_19_Pro        0.0  0.0  0.0  0.0  0.0  0.0  0.0  0.0\n",
       "WIN_20210408_14_11_32_Pro        0.0  0.0  0.0  0.0  0.0  1.0  1.0  0.0\n",
       "WIN_20210408_15_20_51_Pro        1.0  1.0  1.0  0.0  0.0  0.0  0.0  0.0\n",
       "WIN_20210408_16_04_32_Pro        0.0  1.0  1.0  0.0  0.0  0.0  0.0  0.0\n",
       "WIN_20210409_10_26_11_Pro        1.0  0.0  1.0  1.0  0.0  1.0  0.0  1.0\n",
       "WIN_20210413_15_38_01_Pro        1.0  1.0  1.0  0.0  1.0  0.0  1.0  1.0\n",
       "WIN_20210414_06_24_52_Pro        1.0  0.0  1.0  0.0  0.0  0.0  0.0  1.0\n",
       "WIN_20210415_15_41_24_Pro        0.0  0.0  0.0  1.0  0.0  1.0  1.0  1.0\n",
       "WIN_20210416_08_06_54_Pro        0.0  0.0  0.0  1.0  1.0  0.0  1.0  0.0\n",
       "WIN_20210417_14_53_12_Pro        0.0  0.0  2.0  0.0  0.0  1.0  0.0  1.0"
      ],
      "text/html": "<div>\n<style scoped>\n    .dataframe tbody tr th:only-of-type {\n        vertical-align: middle;\n    }\n\n    .dataframe tbody tr th {\n        vertical-align: top;\n    }\n\n    .dataframe thead th {\n        text-align: right;\n    }\n</style>\n<table border=\"1\" class=\"dataframe\">\n  <thead>\n    <tr style=\"text-align: right;\">\n      <th>diapo</th>\n      <th>1</th>\n      <th>8</th>\n      <th>9</th>\n      <th>10</th>\n      <th>11</th>\n      <th>12</th>\n      <th>17</th>\n      <th>18</th>\n    </tr>\n    <tr>\n      <th>video_name</th>\n      <th></th>\n      <th></th>\n      <th></th>\n      <th></th>\n      <th></th>\n      <th></th>\n      <th></th>\n      <th></th>\n    </tr>\n  </thead>\n  <tbody>\n    <tr>\n      <th>Test_pour_AFPA</th>\n      <td>1.0</td>\n      <td>0.0</td>\n      <td>1.0</td>\n      <td>1.0</td>\n      <td>1.0</td>\n      <td>1.0</td>\n      <td>0.0</td>\n      <td>0.0</td>\n    </tr>\n    <tr>\n      <th>Video_1</th>\n      <td>0.0</td>\n      <td>2.0</td>\n      <td>0.0</td>\n      <td>0.0</td>\n      <td>0.0</td>\n      <td>1.0</td>\n      <td>1.0</td>\n      <td>0.0</td>\n    </tr>\n    <tr>\n      <th>WIN_20210323_19_17_40_Pro</th>\n      <td>0.0</td>\n      <td>1.0</td>\n      <td>1.0</td>\n      <td>1.0</td>\n      <td>1.0</td>\n      <td>1.0</td>\n      <td>1.0</td>\n      <td>1.0</td>\n    </tr>\n    <tr>\n      <th>WIN_20210329_10_16_02_Pro</th>\n      <td>0.0</td>\n      <td>0.0</td>\n      <td>0.0</td>\n      <td>1.0</td>\n      <td>1.0</td>\n      <td>1.0</td>\n      <td>1.0</td>\n      <td>1.0</td>\n    </tr>\n    <tr>\n      <th>WIN_20210330_13_10_29_Pro</th>\n      <td>0.0</td>\n      <td>0.0</td>\n      <td>0.0</td>\n      <td>0.0</td>\n      <td>0.0</td>\n      <td>1.0</td>\n      <td>1.0</td>\n      <td>1.0</td>\n    </tr>\n    <tr>\n      <th>WIN_20210331_21_22_52_Pro</th>\n      <td>0.0</td>\n      <td>0.0</td>\n      <td>0.0</td>\n      <td>1.0</td>\n      <td>1.0</td>\n      <td>1.0</td>\n      <td>0.0</td>\n      <td>0.0</td>\n    </tr>\n    <tr>\n      <th>WIN_20210402_19_04_53_Pro</th>\n      <td>0.0</td>\n      <td>0.0</td>\n      <td>1.0</td>\n      <td>1.0</td>\n      <td>1.0</td>\n      <td>1.0</td>\n      <td>1.0</td>\n      <td>1.0</td>\n    </tr>\n    <tr>\n      <th>WIN_20210403_18_49_15_Pro</th>\n      <td>0.0</td>\n      <td>1.0</td>\n      <td>1.0</td>\n      <td>1.0</td>\n      <td>1.0</td>\n      <td>1.0</td>\n      <td>1.0</td>\n      <td>1.0</td>\n    </tr>\n    <tr>\n      <th>WIN_20210404_10_58_27_Pro</th>\n      <td>1.0</td>\n      <td>1.0</td>\n      <td>0.0</td>\n      <td>1.0</td>\n      <td>1.0</td>\n      <td>1.0</td>\n      <td>1.0</td>\n      <td>1.0</td>\n    </tr>\n    <tr>\n      <th>WIN_20210404_21_41_12_Pro</th>\n      <td>1.0</td>\n      <td>0.0</td>\n      <td>2.0</td>\n      <td>0.0</td>\n      <td>0.0</td>\n      <td>1.0</td>\n      <td>0.0</td>\n      <td>0.0</td>\n    </tr>\n    <tr>\n      <th>WIN_20210405_15_09_16_Pro</th>\n      <td>0.0</td>\n      <td>0.0</td>\n      <td>0.0</td>\n      <td>0.0</td>\n      <td>0.0</td>\n      <td>1.0</td>\n      <td>1.0</td>\n      <td>0.0</td>\n    </tr>\n    <tr>\n      <th>WIN_20210406_15_06_15_Pro</th>\n      <td>0.0</td>\n      <td>1.0</td>\n      <td>0.0</td>\n      <td>0.0</td>\n      <td>0.0</td>\n      <td>0.0</td>\n      <td>2.0</td>\n      <td>0.0</td>\n    </tr>\n    <tr>\n      <th>WIN_20210406_18_35_52_Pro</th>\n      <td>1.0</td>\n      <td>1.0</td>\n      <td>0.0</td>\n      <td>0.0</td>\n      <td>0.0</td>\n      <td>1.0</td>\n      <td>0.0</td>\n      <td>0.0</td>\n    </tr>\n    <tr>\n      <th>WIN_20210406_18_49_10_Pro</th>\n      <td>0.0</td>\n      <td>0.0</td>\n      <td>1.0</td>\n      <td>1.0</td>\n      <td>0.0</td>\n      <td>1.0</td>\n      <td>0.0</td>\n      <td>1.0</td>\n    </tr>\n    <tr>\n      <th>WIN_20210406_21_05_52_Pro</th>\n      <td>1.0</td>\n      <td>0.0</td>\n      <td>0.0</td>\n      <td>0.0</td>\n      <td>0.0</td>\n      <td>1.0</td>\n      <td>0.0</td>\n      <td>0.0</td>\n    </tr>\n    <tr>\n      <th>WIN_20210407_09_04_05_Pro</th>\n      <td>0.0</td>\n      <td>0.0</td>\n      <td>0.0</td>\n      <td>0.0</td>\n      <td>0.0</td>\n      <td>0.0</td>\n      <td>0.0</td>\n      <td>0.0</td>\n    </tr>\n    <tr>\n      <th>WIN_20210407_14_54_56_Pro_edit2</th>\n      <td>0.0</td>\n      <td>0.0</td>\n      <td>0.0</td>\n      <td>0.0</td>\n      <td>0.0</td>\n      <td>0.0</td>\n      <td>0.0</td>\n      <td>0.0</td>\n    </tr>\n    <tr>\n      <th>WIN_20210408_11_48_58_Pro</th>\n      <td>0.0</td>\n      <td>1.0</td>\n      <td>0.0</td>\n      <td>1.0</td>\n      <td>1.0</td>\n      <td>0.0</td>\n      <td>1.0</td>\n      <td>1.0</td>\n    </tr>\n    <tr>\n      <th>WIN_20210408_14_00_44_Pro</th>\n      <td>0.0</td>\n      <td>0.0</td>\n      <td>0.0</td>\n      <td>0.0</td>\n      <td>0.0</td>\n      <td>1.0</td>\n      <td>0.0</td>\n      <td>1.0</td>\n    </tr>\n    <tr>\n      <th>WIN_20210408_14_02_19_Pro</th>\n      <td>0.0</td>\n      <td>0.0</td>\n      <td>0.0</td>\n      <td>0.0</td>\n      <td>0.0</td>\n      <td>0.0</td>\n      <td>0.0</td>\n      <td>0.0</td>\n    </tr>\n    <tr>\n      <th>WIN_20210408_14_11_32_Pro</th>\n      <td>0.0</td>\n      <td>0.0</td>\n      <td>0.0</td>\n      <td>0.0</td>\n      <td>0.0</td>\n      <td>1.0</td>\n      <td>1.0</td>\n      <td>0.0</td>\n    </tr>\n    <tr>\n      <th>WIN_20210408_15_20_51_Pro</th>\n      <td>1.0</td>\n      <td>1.0</td>\n      <td>1.0</td>\n      <td>0.0</td>\n      <td>0.0</td>\n      <td>0.0</td>\n      <td>0.0</td>\n      <td>0.0</td>\n    </tr>\n    <tr>\n      <th>WIN_20210408_16_04_32_Pro</th>\n      <td>0.0</td>\n      <td>1.0</td>\n      <td>1.0</td>\n      <td>0.0</td>\n      <td>0.0</td>\n      <td>0.0</td>\n      <td>0.0</td>\n      <td>0.0</td>\n    </tr>\n    <tr>\n      <th>WIN_20210409_10_26_11_Pro</th>\n      <td>1.0</td>\n      <td>0.0</td>\n      <td>1.0</td>\n      <td>1.0</td>\n      <td>0.0</td>\n      <td>1.0</td>\n      <td>0.0</td>\n      <td>1.0</td>\n    </tr>\n    <tr>\n      <th>WIN_20210413_15_38_01_Pro</th>\n      <td>1.0</td>\n      <td>1.0</td>\n      <td>1.0</td>\n      <td>0.0</td>\n      <td>1.0</td>\n      <td>0.0</td>\n      <td>1.0</td>\n      <td>1.0</td>\n    </tr>\n    <tr>\n      <th>WIN_20210414_06_24_52_Pro</th>\n      <td>1.0</td>\n      <td>0.0</td>\n      <td>1.0</td>\n      <td>0.0</td>\n      <td>0.0</td>\n      <td>0.0</td>\n      <td>0.0</td>\n      <td>1.0</td>\n    </tr>\n    <tr>\n      <th>WIN_20210415_15_41_24_Pro</th>\n      <td>0.0</td>\n      <td>0.0</td>\n      <td>0.0</td>\n      <td>1.0</td>\n      <td>0.0</td>\n      <td>1.0</td>\n      <td>1.0</td>\n      <td>1.0</td>\n    </tr>\n    <tr>\n      <th>WIN_20210416_08_06_54_Pro</th>\n      <td>0.0</td>\n      <td>0.0</td>\n      <td>0.0</td>\n      <td>1.0</td>\n      <td>1.0</td>\n      <td>0.0</td>\n      <td>1.0</td>\n      <td>0.0</td>\n    </tr>\n    <tr>\n      <th>WIN_20210417_14_53_12_Pro</th>\n      <td>0.0</td>\n      <td>0.0</td>\n      <td>2.0</td>\n      <td>0.0</td>\n      <td>0.0</td>\n      <td>1.0</td>\n      <td>0.0</td>\n      <td>1.0</td>\n    </tr>\n  </tbody>\n</table>\n</div>"
     },
     "metadata": {},
     "execution_count": 57
    }
   ],
   "source": [
    "stress_diapo_by_video = df_diapo_minmax.pivot_table(values='ypredict', columns='diapo',index='video_name',aggfunc='mean')\n",
    "stress_diapo_by_video"
   ]
  },
  {
   "cell_type": "code",
   "execution_count": 58,
   "metadata": {},
   "outputs": [
    {
     "output_type": "execute_result",
     "data": {
      "text/plain": [
       "                                   1    8    9   10   11   12   17   18  \\\n",
       "video_name                                                                \n",
       "Test_pour_AFPA                   1.0  1.0  0.0  0.0  0.0  1.0  0.0  1.0   \n",
       "Video_1                          0.0  0.0  0.0  0.0  1.0  1.0  1.0  1.0   \n",
       "WIN_20210323_19_17_40_Pro        1.0  0.0  1.0  1.0  1.0  1.0  1.0  1.0   \n",
       "WIN_20210329_10_16_02_Pro        0.0  0.0  1.0  1.0  0.0  1.0  0.0  0.0   \n",
       "WIN_20210330_13_10_29_Pro        0.0  0.0  0.0  0.0  1.0  0.0  0.0  0.0   \n",
       "WIN_20210331_21_22_52_Pro        0.0  0.0  1.0  1.0  1.0  1.0  0.0  0.0   \n",
       "WIN_20210402_14_27_50_Pro        1.0  1.0  1.0  2.0  1.0  1.0  1.0  1.0   \n",
       "WIN_20210402_19_04_53_Pro        2.0  1.0  1.0  1.0  1.0  2.0  1.0  2.0   \n",
       "WIN_20210403_18_49_15_Pro        1.0  1.0  1.0  1.0  1.0  2.0  2.0  1.0   \n",
       "WIN_20210404_10_58_27_Pro        0.0  1.0  1.0  1.0  1.0  1.0  1.0  1.0   \n",
       "WIN_20210404_21_41_12_Pro        0.0  0.0  1.0  0.0  0.0  1.0  0.0  1.0   \n",
       "WIN_20210405_15_09_16_Pro        0.0  1.0  1.0  1.0  1.0  0.0  0.0  1.0   \n",
       "WIN_20210406_15_06_15_Pro        1.0  1.0  1.0  1.0  1.0  2.0  1.0  2.0   \n",
       "WIN_20210406_18_35_52_Pro        0.0  0.0  1.0  0.0  0.0  1.0  0.0  1.0   \n",
       "WIN_20210406_18_49_10_Pro        1.0  0.0  1.0  1.0  1.0  1.0  1.0  1.0   \n",
       "WIN_20210406_21_05_52_Pro        1.0  2.0  2.0  1.0  2.0  1.0  1.0  1.0   \n",
       "WIN_20210407_09_04_05_Pro        0.0  0.0  2.0  1.0  3.0  1.0  0.0  2.0   \n",
       "WIN_20210407_14_54_56_Pro_edit2  0.0  0.0  0.0  0.0  0.0  1.0  0.0  1.0   \n",
       "WIN_20210408_11_48_58_Pro        0.0  1.0  1.0  1.0  1.0  1.0  1.0  2.0   \n",
       "WIN_20210408_14_00_44_Pro        0.0  0.0  0.0  0.0  0.0  1.0  0.0  0.0   \n",
       "WIN_20210408_14_02_19_Pro        0.0  1.0  0.0  0.0  0.0  0.0  0.0  1.0   \n",
       "WIN_20210408_14_11_32_Pro        0.0  2.0  2.0  2.0  2.0  1.0  0.0  1.0   \n",
       "WIN_20210408_15_20_51_Pro        0.0  0.0  0.0  0.0  0.0  0.0  0.0  0.0   \n",
       "WIN_20210408_16_04_32_Pro        0.0  0.0  1.0  0.0  0.0  0.0  0.0  0.0   \n",
       "WIN_20210409_10_26_11_Pro        1.0  1.0  0.0  1.0  0.0  0.0  1.0  1.0   \n",
       "WIN_20210413_15_38_01_Pro        1.0  0.0  0.0  0.0  0.0  1.0  1.0  1.0   \n",
       "WIN_20210414_06_24_52_Pro        2.0  2.0  2.0  2.0  2.0  1.0  1.0  2.0   \n",
       "WIN_20210415_15_41_24_Pro        1.0  0.0  0.0  1.0  0.0  0.0  0.0  0.0   \n",
       "WIN_20210416_08_06_54_Pro        1.0  2.0  1.0  1.0  1.0  0.0  0.0  1.0   \n",
       "WIN_20210417_14_53_12_Pro        0.0  0.0  0.0  0.0  0.0  0.0  1.0  1.0   \n",
       "\n",
       "                                 stress_global  \n",
       "video_name                                      \n",
       "Test_pour_AFPA                             1.0  \n",
       "Video_1                                    0.0  \n",
       "WIN_20210323_19_17_40_Pro                  1.0  \n",
       "WIN_20210329_10_16_02_Pro                  1.0  \n",
       "WIN_20210330_13_10_29_Pro                  0.0  \n",
       "WIN_20210331_21_22_52_Pro                  1.0  \n",
       "WIN_20210402_14_27_50_Pro                  1.0  \n",
       "WIN_20210402_19_04_53_Pro                  2.0  \n",
       "WIN_20210403_18_49_15_Pro                  2.0  \n",
       "WIN_20210404_10_58_27_Pro                  1.0  \n",
       "WIN_20210404_21_41_12_Pro                  0.0  \n",
       "WIN_20210405_15_09_16_Pro                  1.0  \n",
       "WIN_20210406_15_06_15_Pro                  2.0  \n",
       "WIN_20210406_18_35_52_Pro                  0.0  \n",
       "WIN_20210406_18_49_10_Pro                  1.0  \n",
       "WIN_20210406_21_05_52_Pro                  2.0  \n",
       "WIN_20210407_09_04_05_Pro                  2.0  \n",
       "WIN_20210407_14_54_56_Pro_edit2            0.0  \n",
       "WIN_20210408_11_48_58_Pro                  2.0  \n",
       "WIN_20210408_14_00_44_Pro                  0.0  \n",
       "WIN_20210408_14_02_19_Pro                  0.0  \n",
       "WIN_20210408_14_11_32_Pro                  2.0  \n",
       "WIN_20210408_15_20_51_Pro                  0.0  \n",
       "WIN_20210408_16_04_32_Pro                  0.0  \n",
       "WIN_20210409_10_26_11_Pro                  0.0  \n",
       "WIN_20210413_15_38_01_Pro                  1.0  \n",
       "WIN_20210414_06_24_52_Pro                  2.0  \n",
       "WIN_20210415_15_41_24_Pro                  0.0  \n",
       "WIN_20210416_08_06_54_Pro                  1.0  \n",
       "WIN_20210417_14_53_12_Pro                  0.0  "
      ],
      "text/html": "<div>\n<style scoped>\n    .dataframe tbody tr th:only-of-type {\n        vertical-align: middle;\n    }\n\n    .dataframe tbody tr th {\n        vertical-align: top;\n    }\n\n    .dataframe thead th {\n        text-align: right;\n    }\n</style>\n<table border=\"1\" class=\"dataframe\">\n  <thead>\n    <tr style=\"text-align: right;\">\n      <th></th>\n      <th>1</th>\n      <th>8</th>\n      <th>9</th>\n      <th>10</th>\n      <th>11</th>\n      <th>12</th>\n      <th>17</th>\n      <th>18</th>\n      <th>stress_global</th>\n    </tr>\n    <tr>\n      <th>video_name</th>\n      <th></th>\n      <th></th>\n      <th></th>\n      <th></th>\n      <th></th>\n      <th></th>\n      <th></th>\n      <th></th>\n      <th></th>\n    </tr>\n  </thead>\n  <tbody>\n    <tr>\n      <th>Test_pour_AFPA</th>\n      <td>1.0</td>\n      <td>1.0</td>\n      <td>0.0</td>\n      <td>0.0</td>\n      <td>0.0</td>\n      <td>1.0</td>\n      <td>0.0</td>\n      <td>1.0</td>\n      <td>1.0</td>\n    </tr>\n    <tr>\n      <th>Video_1</th>\n      <td>0.0</td>\n      <td>0.0</td>\n      <td>0.0</td>\n      <td>0.0</td>\n      <td>1.0</td>\n      <td>1.0</td>\n      <td>1.0</td>\n      <td>1.0</td>\n      <td>0.0</td>\n    </tr>\n    <tr>\n      <th>WIN_20210323_19_17_40_Pro</th>\n      <td>1.0</td>\n      <td>0.0</td>\n      <td>1.0</td>\n      <td>1.0</td>\n      <td>1.0</td>\n      <td>1.0</td>\n      <td>1.0</td>\n      <td>1.0</td>\n      <td>1.0</td>\n    </tr>\n    <tr>\n      <th>WIN_20210329_10_16_02_Pro</th>\n      <td>0.0</td>\n      <td>0.0</td>\n      <td>1.0</td>\n      <td>1.0</td>\n      <td>0.0</td>\n      <td>1.0</td>\n      <td>0.0</td>\n      <td>0.0</td>\n      <td>1.0</td>\n    </tr>\n    <tr>\n      <th>WIN_20210330_13_10_29_Pro</th>\n      <td>0.0</td>\n      <td>0.0</td>\n      <td>0.0</td>\n      <td>0.0</td>\n      <td>1.0</td>\n      <td>0.0</td>\n      <td>0.0</td>\n      <td>0.0</td>\n      <td>0.0</td>\n    </tr>\n    <tr>\n      <th>WIN_20210331_21_22_52_Pro</th>\n      <td>0.0</td>\n      <td>0.0</td>\n      <td>1.0</td>\n      <td>1.0</td>\n      <td>1.0</td>\n      <td>1.0</td>\n      <td>0.0</td>\n      <td>0.0</td>\n      <td>1.0</td>\n    </tr>\n    <tr>\n      <th>WIN_20210402_14_27_50_Pro</th>\n      <td>1.0</td>\n      <td>1.0</td>\n      <td>1.0</td>\n      <td>2.0</td>\n      <td>1.0</td>\n      <td>1.0</td>\n      <td>1.0</td>\n      <td>1.0</td>\n      <td>1.0</td>\n    </tr>\n    <tr>\n      <th>WIN_20210402_19_04_53_Pro</th>\n      <td>2.0</td>\n      <td>1.0</td>\n      <td>1.0</td>\n      <td>1.0</td>\n      <td>1.0</td>\n      <td>2.0</td>\n      <td>1.0</td>\n      <td>2.0</td>\n      <td>2.0</td>\n    </tr>\n    <tr>\n      <th>WIN_20210403_18_49_15_Pro</th>\n      <td>1.0</td>\n      <td>1.0</td>\n      <td>1.0</td>\n      <td>1.0</td>\n      <td>1.0</td>\n      <td>2.0</td>\n      <td>2.0</td>\n      <td>1.0</td>\n      <td>2.0</td>\n    </tr>\n    <tr>\n      <th>WIN_20210404_10_58_27_Pro</th>\n      <td>0.0</td>\n      <td>1.0</td>\n      <td>1.0</td>\n      <td>1.0</td>\n      <td>1.0</td>\n      <td>1.0</td>\n      <td>1.0</td>\n      <td>1.0</td>\n      <td>1.0</td>\n    </tr>\n    <tr>\n      <th>WIN_20210404_21_41_12_Pro</th>\n      <td>0.0</td>\n      <td>0.0</td>\n      <td>1.0</td>\n      <td>0.0</td>\n      <td>0.0</td>\n      <td>1.0</td>\n      <td>0.0</td>\n      <td>1.0</td>\n      <td>0.0</td>\n    </tr>\n    <tr>\n      <th>WIN_20210405_15_09_16_Pro</th>\n      <td>0.0</td>\n      <td>1.0</td>\n      <td>1.0</td>\n      <td>1.0</td>\n      <td>1.0</td>\n      <td>0.0</td>\n      <td>0.0</td>\n      <td>1.0</td>\n      <td>1.0</td>\n    </tr>\n    <tr>\n      <th>WIN_20210406_15_06_15_Pro</th>\n      <td>1.0</td>\n      <td>1.0</td>\n      <td>1.0</td>\n      <td>1.0</td>\n      <td>1.0</td>\n      <td>2.0</td>\n      <td>1.0</td>\n      <td>2.0</td>\n      <td>2.0</td>\n    </tr>\n    <tr>\n      <th>WIN_20210406_18_35_52_Pro</th>\n      <td>0.0</td>\n      <td>0.0</td>\n      <td>1.0</td>\n      <td>0.0</td>\n      <td>0.0</td>\n      <td>1.0</td>\n      <td>0.0</td>\n      <td>1.0</td>\n      <td>0.0</td>\n    </tr>\n    <tr>\n      <th>WIN_20210406_18_49_10_Pro</th>\n      <td>1.0</td>\n      <td>0.0</td>\n      <td>1.0</td>\n      <td>1.0</td>\n      <td>1.0</td>\n      <td>1.0</td>\n      <td>1.0</td>\n      <td>1.0</td>\n      <td>1.0</td>\n    </tr>\n    <tr>\n      <th>WIN_20210406_21_05_52_Pro</th>\n      <td>1.0</td>\n      <td>2.0</td>\n      <td>2.0</td>\n      <td>1.0</td>\n      <td>2.0</td>\n      <td>1.0</td>\n      <td>1.0</td>\n      <td>1.0</td>\n      <td>2.0</td>\n    </tr>\n    <tr>\n      <th>WIN_20210407_09_04_05_Pro</th>\n      <td>0.0</td>\n      <td>0.0</td>\n      <td>2.0</td>\n      <td>1.0</td>\n      <td>3.0</td>\n      <td>1.0</td>\n      <td>0.0</td>\n      <td>2.0</td>\n      <td>2.0</td>\n    </tr>\n    <tr>\n      <th>WIN_20210407_14_54_56_Pro_edit2</th>\n      <td>0.0</td>\n      <td>0.0</td>\n      <td>0.0</td>\n      <td>0.0</td>\n      <td>0.0</td>\n      <td>1.0</td>\n      <td>0.0</td>\n      <td>1.0</td>\n      <td>0.0</td>\n    </tr>\n    <tr>\n      <th>WIN_20210408_11_48_58_Pro</th>\n      <td>0.0</td>\n      <td>1.0</td>\n      <td>1.0</td>\n      <td>1.0</td>\n      <td>1.0</td>\n      <td>1.0</td>\n      <td>1.0</td>\n      <td>2.0</td>\n      <td>2.0</td>\n    </tr>\n    <tr>\n      <th>WIN_20210408_14_00_44_Pro</th>\n      <td>0.0</td>\n      <td>0.0</td>\n      <td>0.0</td>\n      <td>0.0</td>\n      <td>0.0</td>\n      <td>1.0</td>\n      <td>0.0</td>\n      <td>0.0</td>\n      <td>0.0</td>\n    </tr>\n    <tr>\n      <th>WIN_20210408_14_02_19_Pro</th>\n      <td>0.0</td>\n      <td>1.0</td>\n      <td>0.0</td>\n      <td>0.0</td>\n      <td>0.0</td>\n      <td>0.0</td>\n      <td>0.0</td>\n      <td>1.0</td>\n      <td>0.0</td>\n    </tr>\n    <tr>\n      <th>WIN_20210408_14_11_32_Pro</th>\n      <td>0.0</td>\n      <td>2.0</td>\n      <td>2.0</td>\n      <td>2.0</td>\n      <td>2.0</td>\n      <td>1.0</td>\n      <td>0.0</td>\n      <td>1.0</td>\n      <td>2.0</td>\n    </tr>\n    <tr>\n      <th>WIN_20210408_15_20_51_Pro</th>\n      <td>0.0</td>\n      <td>0.0</td>\n      <td>0.0</td>\n      <td>0.0</td>\n      <td>0.0</td>\n      <td>0.0</td>\n      <td>0.0</td>\n      <td>0.0</td>\n      <td>0.0</td>\n    </tr>\n    <tr>\n      <th>WIN_20210408_16_04_32_Pro</th>\n      <td>0.0</td>\n      <td>0.0</td>\n      <td>1.0</td>\n      <td>0.0</td>\n      <td>0.0</td>\n      <td>0.0</td>\n      <td>0.0</td>\n      <td>0.0</td>\n      <td>0.0</td>\n    </tr>\n    <tr>\n      <th>WIN_20210409_10_26_11_Pro</th>\n      <td>1.0</td>\n      <td>1.0</td>\n      <td>0.0</td>\n      <td>1.0</td>\n      <td>0.0</td>\n      <td>0.0</td>\n      <td>1.0</td>\n      <td>1.0</td>\n      <td>0.0</td>\n    </tr>\n    <tr>\n      <th>WIN_20210413_15_38_01_Pro</th>\n      <td>1.0</td>\n      <td>0.0</td>\n      <td>0.0</td>\n      <td>0.0</td>\n      <td>0.0</td>\n      <td>1.0</td>\n      <td>1.0</td>\n      <td>1.0</td>\n      <td>1.0</td>\n    </tr>\n    <tr>\n      <th>WIN_20210414_06_24_52_Pro</th>\n      <td>2.0</td>\n      <td>2.0</td>\n      <td>2.0</td>\n      <td>2.0</td>\n      <td>2.0</td>\n      <td>1.0</td>\n      <td>1.0</td>\n      <td>2.0</td>\n      <td>2.0</td>\n    </tr>\n    <tr>\n      <th>WIN_20210415_15_41_24_Pro</th>\n      <td>1.0</td>\n      <td>0.0</td>\n      <td>0.0</td>\n      <td>1.0</td>\n      <td>0.0</td>\n      <td>0.0</td>\n      <td>0.0</td>\n      <td>0.0</td>\n      <td>0.0</td>\n    </tr>\n    <tr>\n      <th>WIN_20210416_08_06_54_Pro</th>\n      <td>1.0</td>\n      <td>2.0</td>\n      <td>1.0</td>\n      <td>1.0</td>\n      <td>1.0</td>\n      <td>0.0</td>\n      <td>0.0</td>\n      <td>1.0</td>\n      <td>1.0</td>\n    </tr>\n    <tr>\n      <th>WIN_20210417_14_53_12_Pro</th>\n      <td>0.0</td>\n      <td>0.0</td>\n      <td>0.0</td>\n      <td>0.0</td>\n      <td>0.0</td>\n      <td>0.0</td>\n      <td>1.0</td>\n      <td>1.0</td>\n      <td>0.0</td>\n    </tr>\n  </tbody>\n</table>\n</div>"
     },
     "metadata": {},
     "execution_count": 58
    }
   ],
   "source": [
    "df_annotations_stress = pd.read_csv('annotations.csv')\n",
    "df_annotations_stress = df_annotations_stress.set_index(['video_name'])\n",
    "df_annotations_stress"
   ]
  },
  {
   "cell_type": "code",
   "execution_count": 59,
   "metadata": {},
   "outputs": [],
   "source": [
    "Xy = stress_diapo_by_video.merge(df_annotations_stress.iloc[:,-1],how='inner',on='video_name')\n",
    "X_global= Xy.iloc[:,:-1]\n",
    "y_global = Xy.iloc[:,-1]"
   ]
  },
  {
   "cell_type": "code",
   "execution_count": 60,
   "metadata": {},
   "outputs": [],
   "source": [
    "from sklearn.linear_model import LogisticRegression\n",
    "from sklearn.neighbors import KNeighborsClassifier\n",
    "from sklearn.ensemble import RandomForestClassifier\n",
    "from sklearn.model_selection import LeaveOneGroupOut\n",
    "from sklearn.decomposition import PCA\n",
    "from sklearn.pipeline import Pipeline\n",
    "\n",
    "pca = PCA()\n",
    "\n",
    "models_list = [\n",
    "                LogisticRegression(multi_class='multinomial', fit_intercept=True, random_state=42),\n",
    "                Pipeline(steps=[('pca', pca), ('logistic', LogisticRegression(multi_class='multinomial', fit_intercept=True))]),\n",
    "                KNeighborsClassifier(),\n",
    "                Pipeline(steps=[('pca', pca), ('knn', KNeighborsClassifier())]),\n",
    "                RandomForestClassifier(random_state = 42, n_jobs=-1)\n",
    "                ]\n",
    "\n",
    "parameters_list = [\n",
    "                    {'C': [0.01, 0.05, 0.1, 0.5, 1, 2, 3, 4 , 5, 10], 'class_weight' : [None, 'balanced']},\n",
    "                    {'pca__n_components': [1, 2, 3, 4],\n",
    "                        'logistic__C': [0.01, 0.05, 0.1, 0.5, 1, 2, 3, 4 , 5, 10], 'logistic__class_weight' : [None, 'balanced']},\n",
    "                    {'n_neighbors': [4, 5, 6, 7, 8, 9, 10, 11, 12,  15, 20], 'weights' : ['uniform', 'distance'], 'p': [1, 2]},\n",
    "                    {'pca__n_components': [1, 2, 3, 4],\n",
    "                        'knn__n_neighbors': [4, 5, 6, 7, 8, 9, 10, 11, 12,  15, 20], 'knn__weights' : ['uniform', 'distance'],                              'knn__p': [1, 2]},\n",
    "                    {'n_estimators': [50, 100, 150, 200], 'max_depth':[3, 4, 5, 6, 10, 15, 20], 'class_weight':[None,'balanced']}\n",
    "                    ]\n",
    "\n",
    "groups = X_global.reset_index()['video_name']\n",
    "loo = LeaveOneGroupOut()\n",
    "cv_loo = loo.split(X_global, y_global, groups)"
   ]
  },
  {
   "cell_type": "code",
   "execution_count": 61,
   "metadata": {},
   "outputs": [
    {
     "output_type": "stream",
     "name": "stdout",
     "text": [
      "Fitting 29 folds for each of 20 candidates, totalling 580 fits\n",
      "Best estimator LogisticRegression(C=1, multi_class='multinomial', random_state=42)\n",
      "Best results 0.5172413793103449\n",
      "Best params {'C': 1, 'class_weight': None}\n",
      "accuracy (mean, std) 0.5172413793103449 0.4997026464203254\n",
      "f1 (mean, std) 0.5172413793103449 0.4997026464203254\n",
      "balanced accuracy (mean, std) 0.5172413793103449 0.4997026464203254\n",
      "precision (mean, std) 0.5172413793103449 0.4997026464203254\n",
      "recall (mean, std) 0.5172413793103449 0.4997026464203254\n",
      "\n",
      "Fitting 29 folds for each of 80 candidates, totalling 2320 fits\n",
      "Best estimator Pipeline(steps=[('pca', PCA(n_components=1)),\n",
      "                ('logistic',\n",
      "                 LogisticRegression(C=0.01, class_weight='balanced',\n",
      "                                    multi_class='multinomial'))])\n",
      "Best results 0.5172413793103449\n",
      "Best params {'logistic__C': 0.01, 'logistic__class_weight': 'balanced', 'pca__n_components': 1}\n",
      "accuracy (mean, std) 0.5172413793103449 0.49970264642032547\n",
      "f1 (mean, std) 0.5172413793103449 0.49970264642032547\n",
      "balanced accuracy (mean, std) 0.5172413793103449 0.49970264642032547\n",
      "precision (mean, std) 0.5172413793103449 0.49970264642032547\n",
      "recall (mean, std) 0.5172413793103449 0.49970264642032547\n",
      "\n",
      "Fitting 29 folds for each of 44 candidates, totalling 1276 fits\n",
      "Best estimator KNeighborsClassifier(n_neighbors=11, p=1)\n",
      "Best results 0.5862068965517241\n",
      "Best params {'n_neighbors': 11, 'p': 1, 'weights': 'uniform'}\n",
      "accuracy (mean, std) 0.5862068965517241 0.49251230541674823\n",
      "f1 (mean, std) 0.5862068965517241 0.49251230541674823\n",
      "balanced accuracy (mean, std) 0.5862068965517241 0.49251230541674823\n",
      "precision (mean, std) 0.5862068965517241 0.49251230541674823\n",
      "recall (mean, std) 0.5862068965517241 0.49251230541674823\n",
      "\n",
      "Fitting 29 folds for each of 176 candidates, totalling 5104 fits\n",
      "Best estimator Pipeline(steps=[('pca', PCA(n_components=2)),\n",
      "                ('knn', KNeighborsClassifier(n_neighbors=10, p=1))])\n",
      "Best results 0.6206896551724138\n",
      "Best params {'knn__n_neighbors': 10, 'knn__p': 1, 'knn__weights': 'uniform', 'pca__n_components': 2}\n",
      "accuracy (mean, std) 0.6206896551724138 0.48521542343000995\n",
      "f1 (mean, std) 0.6206896551724138 0.48521542343000995\n",
      "balanced accuracy (mean, std) 0.6206896551724138 0.48521542343000995\n",
      "precision (mean, std) 0.6206896551724138 0.48521542343000995\n",
      "recall (mean, std) 0.6206896551724138 0.48521542343000995\n",
      "\n",
      "Fitting 29 folds for each of 56 candidates, totalling 1624 fits\n",
      "Best estimator RandomForestClassifier(max_depth=3, n_estimators=200, n_jobs=-1,\n",
      "                       random_state=42)\n",
      "Best results 0.4827586206896552\n",
      "Best params {'class_weight': None, 'max_depth': 3, 'n_estimators': 200}\n",
      "accuracy (mean, std) 0.4827586206896552 0.4997026464203254\n",
      "f1 (mean, std) 0.4827586206896552 0.4997026464203254\n",
      "balanced accuracy (mean, std) 0.4827586206896552 0.4997026464203254\n",
      "precision (mean, std) 0.4827586206896552 0.4997026464203254\n",
      "recall (mean, std) 0.4827586206896552 0.4997026464203254\n",
      "\n"
     ]
    }
   ],
   "source": [
    "best_result_tw5_diapo_minmax_global, y_predict_tw5_diapo_minmax_global, result_list = runGridSearchClassifiers(X_global, y_global, cv_loo, models_list, parameters_list, output_predict=True, n_jobs=-1, verbose=True)"
   ]
  },
  {
   "cell_type": "code",
   "execution_count": 62,
   "metadata": {},
   "outputs": [
    {
     "output_type": "execute_result",
     "data": {
      "text/plain": [
       "{'best_estimator': Pipeline(steps=[('pca', PCA(n_components=2)),\n",
       "                 ('knn', KNeighborsClassifier(n_neighbors=10, p=1))]),\n",
       " 'best_score': 0.6206896551724138,\n",
       " 'best_params': {'knn__n_neighbors': 10,\n",
       "  'knn__p': 1,\n",
       "  'knn__weights': 'uniform',\n",
       "  'pca__n_components': 2},\n",
       " 'mean_test_f1_score': 0.6206896551724138,\n",
       " 'std_test_f1_score': 0.48521542343000995,\n",
       " 'mean_test_accuracy_score': 0.6206896551724138,\n",
       " 'std_test_accuracy_score': 0.48521542343000995,\n",
       " 'mean_test_balanced_accuracy_score': 0.6206896551724138,\n",
       " 'std_test_balanced_accuracy_score': 0.48521542343000995,\n",
       " 'mean_test_precision': 0.6206896551724138,\n",
       " 'std_test_precision': 0.48521542343000995,\n",
       " 'mean_test_recall': 0.6206896551724138,\n",
       " 'std_test_recall': 0.48521542343000995}"
      ]
     },
     "metadata": {},
     "execution_count": 62
    }
   ],
   "source": [
    "best_result_tw5_diapo_minmax_global"
   ]
  },
  {
   "cell_type": "code",
   "execution_count": 63,
   "metadata": {},
   "outputs": [
    {
     "output_type": "execute_result",
     "data": {
      "text/plain": [
       "array([0., 0., 1., 1., 0., 1., 1., 1., 1., 0., 0., 0., 0., 1., 0., 0., 0.,\n",
       "       1., 0., 0., 0., 0., 0., 0., 1., 0., 1., 1., 0.])"
      ]
     },
     "metadata": {},
     "execution_count": 63
    }
   ],
   "source": [
    "y_predict_tw5_diapo_minmax_global"
   ]
  },
  {
   "cell_type": "code",
   "execution_count": 64,
   "metadata": {},
   "outputs": [
    {
     "output_type": "execute_result",
     "data": {
      "text/plain": [
       "                         video_name  y_predict_tw5_diapo_minmax_global\n",
       "0                    Test_pour_AFPA                                0.0\n",
       "1                           Video_1                                0.0\n",
       "2         WIN_20210323_19_17_40_Pro                                1.0\n",
       "3         WIN_20210329_10_16_02_Pro                                1.0\n",
       "4         WIN_20210330_13_10_29_Pro                                0.0\n",
       "5         WIN_20210331_21_22_52_Pro                                1.0\n",
       "6         WIN_20210402_19_04_53_Pro                                1.0\n",
       "7         WIN_20210403_18_49_15_Pro                                1.0\n",
       "8         WIN_20210404_10_58_27_Pro                                1.0\n",
       "9         WIN_20210404_21_41_12_Pro                                0.0\n",
       "10        WIN_20210405_15_09_16_Pro                                0.0\n",
       "11        WIN_20210406_15_06_15_Pro                                0.0\n",
       "12        WIN_20210406_18_35_52_Pro                                0.0\n",
       "13        WIN_20210406_18_49_10_Pro                                1.0\n",
       "14        WIN_20210406_21_05_52_Pro                                0.0\n",
       "15        WIN_20210407_09_04_05_Pro                                0.0\n",
       "16  WIN_20210407_14_54_56_Pro_edit2                                0.0\n",
       "17        WIN_20210408_11_48_58_Pro                                1.0\n",
       "18        WIN_20210408_14_00_44_Pro                                0.0\n",
       "19        WIN_20210408_14_02_19_Pro                                0.0\n",
       "20        WIN_20210408_14_11_32_Pro                                0.0\n",
       "21        WIN_20210408_15_20_51_Pro                                0.0\n",
       "22        WIN_20210408_16_04_32_Pro                                0.0\n",
       "23        WIN_20210409_10_26_11_Pro                                0.0\n",
       "24        WIN_20210413_15_38_01_Pro                                1.0\n",
       "25        WIN_20210414_06_24_52_Pro                                0.0\n",
       "26        WIN_20210415_15_41_24_Pro                                1.0\n",
       "27        WIN_20210416_08_06_54_Pro                                1.0\n",
       "28        WIN_20210417_14_53_12_Pro                                0.0"
      ],
      "text/html": "<div>\n<style scoped>\n    .dataframe tbody tr th:only-of-type {\n        vertical-align: middle;\n    }\n\n    .dataframe tbody tr th {\n        vertical-align: top;\n    }\n\n    .dataframe thead th {\n        text-align: right;\n    }\n</style>\n<table border=\"1\" class=\"dataframe\">\n  <thead>\n    <tr style=\"text-align: right;\">\n      <th></th>\n      <th>video_name</th>\n      <th>y_predict_tw5_diapo_minmax_global</th>\n    </tr>\n  </thead>\n  <tbody>\n    <tr>\n      <th>0</th>\n      <td>Test_pour_AFPA</td>\n      <td>0.0</td>\n    </tr>\n    <tr>\n      <th>1</th>\n      <td>Video_1</td>\n      <td>0.0</td>\n    </tr>\n    <tr>\n      <th>2</th>\n      <td>WIN_20210323_19_17_40_Pro</td>\n      <td>1.0</td>\n    </tr>\n    <tr>\n      <th>3</th>\n      <td>WIN_20210329_10_16_02_Pro</td>\n      <td>1.0</td>\n    </tr>\n    <tr>\n      <th>4</th>\n      <td>WIN_20210330_13_10_29_Pro</td>\n      <td>0.0</td>\n    </tr>\n    <tr>\n      <th>5</th>\n      <td>WIN_20210331_21_22_52_Pro</td>\n      <td>1.0</td>\n    </tr>\n    <tr>\n      <th>6</th>\n      <td>WIN_20210402_19_04_53_Pro</td>\n      <td>1.0</td>\n    </tr>\n    <tr>\n      <th>7</th>\n      <td>WIN_20210403_18_49_15_Pro</td>\n      <td>1.0</td>\n    </tr>\n    <tr>\n      <th>8</th>\n      <td>WIN_20210404_10_58_27_Pro</td>\n      <td>1.0</td>\n    </tr>\n    <tr>\n      <th>9</th>\n      <td>WIN_20210404_21_41_12_Pro</td>\n      <td>0.0</td>\n    </tr>\n    <tr>\n      <th>10</th>\n      <td>WIN_20210405_15_09_16_Pro</td>\n      <td>0.0</td>\n    </tr>\n    <tr>\n      <th>11</th>\n      <td>WIN_20210406_15_06_15_Pro</td>\n      <td>0.0</td>\n    </tr>\n    <tr>\n      <th>12</th>\n      <td>WIN_20210406_18_35_52_Pro</td>\n      <td>0.0</td>\n    </tr>\n    <tr>\n      <th>13</th>\n      <td>WIN_20210406_18_49_10_Pro</td>\n      <td>1.0</td>\n    </tr>\n    <tr>\n      <th>14</th>\n      <td>WIN_20210406_21_05_52_Pro</td>\n      <td>0.0</td>\n    </tr>\n    <tr>\n      <th>15</th>\n      <td>WIN_20210407_09_04_05_Pro</td>\n      <td>0.0</td>\n    </tr>\n    <tr>\n      <th>16</th>\n      <td>WIN_20210407_14_54_56_Pro_edit2</td>\n      <td>0.0</td>\n    </tr>\n    <tr>\n      <th>17</th>\n      <td>WIN_20210408_11_48_58_Pro</td>\n      <td>1.0</td>\n    </tr>\n    <tr>\n      <th>18</th>\n      <td>WIN_20210408_14_00_44_Pro</td>\n      <td>0.0</td>\n    </tr>\n    <tr>\n      <th>19</th>\n      <td>WIN_20210408_14_02_19_Pro</td>\n      <td>0.0</td>\n    </tr>\n    <tr>\n      <th>20</th>\n      <td>WIN_20210408_14_11_32_Pro</td>\n      <td>0.0</td>\n    </tr>\n    <tr>\n      <th>21</th>\n      <td>WIN_20210408_15_20_51_Pro</td>\n      <td>0.0</td>\n    </tr>\n    <tr>\n      <th>22</th>\n      <td>WIN_20210408_16_04_32_Pro</td>\n      <td>0.0</td>\n    </tr>\n    <tr>\n      <th>23</th>\n      <td>WIN_20210409_10_26_11_Pro</td>\n      <td>0.0</td>\n    </tr>\n    <tr>\n      <th>24</th>\n      <td>WIN_20210413_15_38_01_Pro</td>\n      <td>1.0</td>\n    </tr>\n    <tr>\n      <th>25</th>\n      <td>WIN_20210414_06_24_52_Pro</td>\n      <td>0.0</td>\n    </tr>\n    <tr>\n      <th>26</th>\n      <td>WIN_20210415_15_41_24_Pro</td>\n      <td>1.0</td>\n    </tr>\n    <tr>\n      <th>27</th>\n      <td>WIN_20210416_08_06_54_Pro</td>\n      <td>1.0</td>\n    </tr>\n    <tr>\n      <th>28</th>\n      <td>WIN_20210417_14_53_12_Pro</td>\n      <td>0.0</td>\n    </tr>\n  </tbody>\n</table>\n</div>"
     },
     "metadata": {},
     "execution_count": 64
    }
   ],
   "source": [
    "#seeing prediction\n",
    "df_global_5tw_minmax = pd.concat([X_global.reset_index()[['video_name']],\n",
    "                        pd.DataFrame(y_predict_tw5_diapo_minmax_global, columns=['y_predict_tw5_diapo_minmax_global'])],axis=1)\n",
    "\n",
    "df_global_5tw_minmax.columns = ['video_name', 'y_predict_tw5_diapo_minmax_global']\n",
    "df_global_5tw_minmax\n"
   ]
  },
  {
   "cell_type": "code",
   "execution_count": 65,
   "metadata": {},
   "outputs": [],
   "source": [
    "#SAving predictions\n",
    "df_global_5tw_minmax.to_csv('au_tw5_diapo_minmax_global.csv')"
   ]
  },
  {
   "cell_type": "code",
   "execution_count": null,
   "metadata": {},
   "outputs": [],
   "source": []
  }
 ],
 "metadata": {
  "kernelspec": {
   "name": "python3",
   "display_name": "Python 3.7.6 64-bit ('base': conda)"
  },
  "language_info": {
   "codemirror_mode": {
    "name": "ipython",
    "version": 3
   },
   "file_extension": ".py",
   "mimetype": "text/x-python",
   "name": "python",
   "nbconvert_exporter": "python",
   "pygments_lexer": "ipython3",
   "version": "3.7.6"
  },
  "interpreter": {
   "hash": "dd1cf4766d5d9df855e04619ca954236457012a0dce4d3d89890d807f4ecf8a5"
  }
 },
 "nbformat": 4,
 "nbformat_minor": 4
}