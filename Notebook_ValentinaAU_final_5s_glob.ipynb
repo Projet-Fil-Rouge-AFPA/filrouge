{
 "cells": [
  {
   "cell_type": "code",
   "execution_count": 1,
   "metadata": {},
   "outputs": [],
   "source": [
    "import os\n",
    "import subprocess\n",
    "import pandas as pd\n",
    "import platform\n",
    "import pathlib\n",
    "import numpy as np\n",
    "from annotations import *\n",
    "from extract_video_features import *\n",
    "from extract_audio_features import *\n",
    "import cv2\n",
    "import seaborn as sns\n",
    "from scipy.stats import kurtosis, skew\n",
    "from sklearn.metrics import f1_score\n",
    "import importlib\n",
    "from tqdm import tqdm\n",
    "import ordinal_classification as o_c\n",
    "from sklearn.metrics import confusion_matrix\n",
    "from sklearn.model_selection import GridSearchCV\n",
    "from util import runGridSearchClassifiers\n",
    "from sklearn.model_selection import cross_val_predict"
   ]
  },
  {
   "cell_type": "code",
   "execution_count": 2,
   "metadata": {},
   "outputs": [],
   "source": [
    "#get current directory\n",
    "cwd = os.getcwd()"
   ]
  },
  {
   "cell_type": "code",
   "execution_count": 3,
   "metadata": {},
   "outputs": [
    {
     "output_type": "execute_result",
     "data": {
      "text/plain": [
       "'/Users/valentinadiproietto/filrouge'"
      ]
     },
     "metadata": {},
     "execution_count": 3
    }
   ],
   "source": [
    "cwd"
   ]
  },
  {
   "cell_type": "code",
   "execution_count": 4,
   "metadata": {},
   "outputs": [],
   "source": [
    "OpenFace_folder = '/Users/valentinadiproietto/OpenFace'\n",
    "filename_annotations = 'https://docs.google.com/spreadsheets/d/1Rqu1sJiD-ogc4a6R491JTiaYacptOTqh6DKqhwTa8NA/gviz/tq?tqx=out:csv&sheet=Template'"
   ]
  },
  {
   "cell_type": "code",
   "execution_count": 5,
   "metadata": {},
   "outputs": [],
   "source": [
    "Video_folder = '/Users/valentinadiproietto/Desktop/video_stress'"
   ]
  },
  {
   "cell_type": "code",
   "execution_count": 6,
   "metadata": {},
   "outputs": [],
   "source": [
    "video_paths, video_names = get_videos(Video_folder)"
   ]
  },
  {
   "cell_type": "code",
   "execution_count": 7,
   "metadata": {},
   "outputs": [
    {
     "output_type": "execute_result",
     "data": {
      "text/plain": [
       "['WIN_20210331_21_22_52_Pro',\n",
       " 'WIN_20210329_14_13_45_Pro',\n",
       " 'WIN_20210406_18_49_10_Pro',\n",
       " 'WIN_20210408_14_11_32_Pro',\n",
       " 'WIN_20210408_15_20_51_Pro',\n",
       " 'WIN_20210404_10_58_27_Pro',\n",
       " 'WIN_20210414_06_24_52_Pro',\n",
       " 'WIN_20210406_15_06_15_Pro',\n",
       " 'WIN_20210417_14_53_12_Pro',\n",
       " 'WIN_20210413_15_38_01_Pro',\n",
       " 'WIN_20210408_11_48_58_Pro',\n",
       " 'WIN_20210408_16_04_32_Pro',\n",
       " 'WIN_20210329_10_16_02_Pro',\n",
       " 'WIN_20210323_19_17_40_Pro',\n",
       " 'WIN_20210409_10_26_11_Pro',\n",
       " 'Test_pour_AFPA',\n",
       " 'WIN_20210405_15_09_16_Pro',\n",
       " 'WIN_20210407_14_54_56_Pro_edit2',\n",
       " 'WIN_20210406_21_05_52_Pro',\n",
       " 'WIN_20210403_18_49_15_Pro',\n",
       " 'WIN_20210408_14_02_19_Pro',\n",
       " 'WIN_20210415_15_41_24_Pro',\n",
       " 'WIN_20210406_18_35_52_Pro',\n",
       " 'WIN_20210402_14_27_50_Pro',\n",
       " 'WIN_20210407_09_04_05_Pro',\n",
       " 'WIN_20210402_19_04_53_Pro',\n",
       " 'WIN_20210416_08_06_54_Pro',\n",
       " 'Video_1',\n",
       " 'WIN_20210408_14_00_44_Pro',\n",
       " 'WIN_20210404_21_41_12_Pro',\n",
       " 'WIN_20210330_13_10_29_Pro']"
      ]
     },
     "metadata": {},
     "execution_count": 7
    }
   ],
   "source": [
    "video_names"
   ]
  },
  {
   "cell_type": "code",
   "execution_count": 8,
   "metadata": {},
   "outputs": [],
   "source": [
    "list_dataframes = []\n",
    "for i in video_names: \n",
    "    list_dataframes.append(create_dataframe_video('/Users/valentinadiproietto/OpenFace/processed/', i))\n"
   ]
  },
  {
   "cell_type": "code",
   "execution_count": 9,
   "metadata": {},
   "outputs": [],
   "source": [
    "video_names.remove('WIN_20210329_14_13_45_Pro')\n",
    "video_names.remove('WIN_20210402_14_27_50_Pro')\n"
   ]
  },
  {
   "cell_type": "code",
   "execution_count": 10,
   "metadata": {},
   "outputs": [
    {
     "output_type": "execute_result",
     "data": {
      "text/plain": [
       "29"
      ]
     },
     "metadata": {},
     "execution_count": 10
    }
   ],
   "source": [
    "len(video_names)"
   ]
  },
  {
   "cell_type": "code",
   "execution_count": 11,
   "metadata": {},
   "outputs": [
    {
     "output_type": "stream",
     "name": "stderr",
     "text": [
      "100%|██████████| 29/29 [02:12<00:00,  4.58s/it]\n"
     ]
    }
   ],
   "source": [
    "list_df_max = []\n",
    "for v_name in tqdm(video_names):\n",
    "    df_annoted = get_df_video_with_annotations('/Users/valentinadiproietto/OpenFace/processed/', v_name, filename_annotations, \"max\")\n",
    "    list_df_max.append(eliminate_features(df_annoted))\n",
    "\n",
    "\n",
    "    "
   ]
  },
  {
   "source": [
    "## RECUPERO LE PREDIZIONI SULLE TIME WINDOW"
   ],
   "cell_type": "markdown",
   "metadata": {}
  },
  {
   "cell_type": "code",
   "execution_count": 2,
   "metadata": {},
   "outputs": [],
   "source": [
    "predict5s = pd.read_csv ('au_tw5.csv')"
   ]
  },
  {
   "cell_type": "code",
   "execution_count": 3,
   "metadata": {},
   "outputs": [
    {
     "output_type": "execute_result",
     "data": {
      "text/plain": [
       "                     video_name  diapo  frameTimeWindow  ypredict\n",
       "0                Test_pour_AFPA      9               44       1.0\n",
       "1                Test_pour_AFPA      9               45       0.0\n",
       "2                Test_pour_AFPA      9               46       1.0\n",
       "3                Test_pour_AFPA      9               47       1.0\n",
       "4                Test_pour_AFPA      9               48       1.0\n",
       "...                         ...    ...              ...       ...\n",
       "5136  WIN_20210417_14_53_12_Pro     18              120       1.0\n",
       "5137  WIN_20210417_14_53_12_Pro     18              121       1.0\n",
       "5138  WIN_20210417_14_53_12_Pro     18              122       1.0\n",
       "5139  WIN_20210417_14_53_12_Pro     18              123       1.0\n",
       "5140  WIN_20210417_14_53_12_Pro     18              124       2.0\n",
       "\n",
       "[5141 rows x 4 columns]"
      ],
      "text/html": "<div>\n<style scoped>\n    .dataframe tbody tr th:only-of-type {\n        vertical-align: middle;\n    }\n\n    .dataframe tbody tr th {\n        vertical-align: top;\n    }\n\n    .dataframe thead th {\n        text-align: right;\n    }\n</style>\n<table border=\"1\" class=\"dataframe\">\n  <thead>\n    <tr style=\"text-align: right;\">\n      <th></th>\n      <th>video_name</th>\n      <th>diapo</th>\n      <th>frameTimeWindow</th>\n      <th>ypredict</th>\n    </tr>\n  </thead>\n  <tbody>\n    <tr>\n      <th>0</th>\n      <td>Test_pour_AFPA</td>\n      <td>9</td>\n      <td>44</td>\n      <td>1.0</td>\n    </tr>\n    <tr>\n      <th>1</th>\n      <td>Test_pour_AFPA</td>\n      <td>9</td>\n      <td>45</td>\n      <td>0.0</td>\n    </tr>\n    <tr>\n      <th>2</th>\n      <td>Test_pour_AFPA</td>\n      <td>9</td>\n      <td>46</td>\n      <td>1.0</td>\n    </tr>\n    <tr>\n      <th>3</th>\n      <td>Test_pour_AFPA</td>\n      <td>9</td>\n      <td>47</td>\n      <td>1.0</td>\n    </tr>\n    <tr>\n      <th>4</th>\n      <td>Test_pour_AFPA</td>\n      <td>9</td>\n      <td>48</td>\n      <td>1.0</td>\n    </tr>\n    <tr>\n      <th>...</th>\n      <td>...</td>\n      <td>...</td>\n      <td>...</td>\n      <td>...</td>\n    </tr>\n    <tr>\n      <th>5136</th>\n      <td>WIN_20210417_14_53_12_Pro</td>\n      <td>18</td>\n      <td>120</td>\n      <td>1.0</td>\n    </tr>\n    <tr>\n      <th>5137</th>\n      <td>WIN_20210417_14_53_12_Pro</td>\n      <td>18</td>\n      <td>121</td>\n      <td>1.0</td>\n    </tr>\n    <tr>\n      <th>5138</th>\n      <td>WIN_20210417_14_53_12_Pro</td>\n      <td>18</td>\n      <td>122</td>\n      <td>1.0</td>\n    </tr>\n    <tr>\n      <th>5139</th>\n      <td>WIN_20210417_14_53_12_Pro</td>\n      <td>18</td>\n      <td>123</td>\n      <td>1.0</td>\n    </tr>\n    <tr>\n      <th>5140</th>\n      <td>WIN_20210417_14_53_12_Pro</td>\n      <td>18</td>\n      <td>124</td>\n      <td>2.0</td>\n    </tr>\n  </tbody>\n</table>\n<p>5141 rows × 4 columns</p>\n</div>"
     },
     "metadata": {},
     "execution_count": 3
    }
   ],
   "source": [
    "predict5s = pd.read_csv('au_tw5.csv').drop(\"Unnamed: 0\", axis =1)\n",
    "predict5s"
   ]
  },
  {
   "source": [
    "## PIVOT TABLE WITH COUNT OF PREDICTION 5SEC, TO PREDICT STRESS Global"
   ],
   "cell_type": "markdown",
   "metadata": {}
  },
  {
   "cell_type": "code",
   "execution_count": 4,
   "metadata": {},
   "outputs": [
    {
     "output_type": "execute_result",
     "data": {
      "text/plain": [
       "ypredict                              0.0       1.0       2.0\n",
       "video_name                                                   \n",
       "Test_pour_AFPA                   0.253968  0.730159  0.015873\n",
       "Video_1                          0.509934  0.483444  0.006623\n",
       "WIN_20210323_19_17_40_Pro        0.017857  0.964286  0.017857\n",
       "WIN_20210329_10_16_02_Pro        0.061224  0.938776  0.000000\n",
       "WIN_20210330_13_10_29_Pro        0.317881  0.682119  0.000000\n",
       "WIN_20210331_21_22_52_Pro        0.217647  0.770588  0.011765\n",
       "WIN_20210402_19_04_53_Pro        0.617143  0.371429  0.011429\n",
       "WIN_20210403_18_49_15_Pro        0.171271  0.828729  0.000000\n",
       "WIN_20210404_10_58_27_Pro        0.430000  0.565000  0.005000\n",
       "WIN_20210404_21_41_12_Pro        0.560345  0.439655  0.000000\n",
       "WIN_20210405_15_09_16_Pro        0.245161  0.754839  0.000000\n",
       "WIN_20210406_15_06_15_Pro        0.321951  0.678049  0.000000\n",
       "WIN_20210406_18_35_52_Pro        0.170886  0.829114  0.000000\n",
       "WIN_20210406_18_49_10_Pro        0.245614  0.736842  0.017544\n",
       "WIN_20210406_21_05_52_Pro        0.027027  0.951351  0.021622\n",
       "WIN_20210407_09_04_05_Pro        0.963351  0.020942  0.015707\n",
       "WIN_20210407_14_54_56_Pro_edit2  0.415094  0.584906  0.000000\n",
       "WIN_20210408_11_48_58_Pro        0.288889  0.702222  0.008889\n",
       "WIN_20210408_14_00_44_Pro        0.511236  0.488764  0.000000\n",
       "WIN_20210408_14_02_19_Pro        0.000000  1.000000  0.000000\n",
       "WIN_20210408_14_11_32_Pro        0.519231  0.480769  0.000000\n",
       "WIN_20210408_15_20_51_Pro        0.176471  0.264706  0.558824\n",
       "WIN_20210408_16_04_32_Pro        0.305882  0.658824  0.035294\n",
       "WIN_20210409_10_26_11_Pro        0.086705  0.913295  0.000000\n",
       "WIN_20210413_15_38_01_Pro        0.184971  0.815029  0.000000\n",
       "WIN_20210414_06_24_52_Pro        0.212435  0.787565  0.000000\n",
       "WIN_20210415_15_41_24_Pro        0.562212  0.433180  0.004608\n",
       "WIN_20210416_08_06_54_Pro        0.245399  0.613497  0.141104\n",
       "WIN_20210417_14_53_12_Pro        0.687023  0.305344  0.007634"
      ],
      "text/html": "<div>\n<style scoped>\n    .dataframe tbody tr th:only-of-type {\n        vertical-align: middle;\n    }\n\n    .dataframe tbody tr th {\n        vertical-align: top;\n    }\n\n    .dataframe thead th {\n        text-align: right;\n    }\n</style>\n<table border=\"1\" class=\"dataframe\">\n  <thead>\n    <tr style=\"text-align: right;\">\n      <th>ypredict</th>\n      <th>0.0</th>\n      <th>1.0</th>\n      <th>2.0</th>\n    </tr>\n    <tr>\n      <th>video_name</th>\n      <th></th>\n      <th></th>\n      <th></th>\n    </tr>\n  </thead>\n  <tbody>\n    <tr>\n      <th>Test_pour_AFPA</th>\n      <td>0.253968</td>\n      <td>0.730159</td>\n      <td>0.015873</td>\n    </tr>\n    <tr>\n      <th>Video_1</th>\n      <td>0.509934</td>\n      <td>0.483444</td>\n      <td>0.006623</td>\n    </tr>\n    <tr>\n      <th>WIN_20210323_19_17_40_Pro</th>\n      <td>0.017857</td>\n      <td>0.964286</td>\n      <td>0.017857</td>\n    </tr>\n    <tr>\n      <th>WIN_20210329_10_16_02_Pro</th>\n      <td>0.061224</td>\n      <td>0.938776</td>\n      <td>0.000000</td>\n    </tr>\n    <tr>\n      <th>WIN_20210330_13_10_29_Pro</th>\n      <td>0.317881</td>\n      <td>0.682119</td>\n      <td>0.000000</td>\n    </tr>\n    <tr>\n      <th>WIN_20210331_21_22_52_Pro</th>\n      <td>0.217647</td>\n      <td>0.770588</td>\n      <td>0.011765</td>\n    </tr>\n    <tr>\n      <th>WIN_20210402_19_04_53_Pro</th>\n      <td>0.617143</td>\n      <td>0.371429</td>\n      <td>0.011429</td>\n    </tr>\n    <tr>\n      <th>WIN_20210403_18_49_15_Pro</th>\n      <td>0.171271</td>\n      <td>0.828729</td>\n      <td>0.000000</td>\n    </tr>\n    <tr>\n      <th>WIN_20210404_10_58_27_Pro</th>\n      <td>0.430000</td>\n      <td>0.565000</td>\n      <td>0.005000</td>\n    </tr>\n    <tr>\n      <th>WIN_20210404_21_41_12_Pro</th>\n      <td>0.560345</td>\n      <td>0.439655</td>\n      <td>0.000000</td>\n    </tr>\n    <tr>\n      <th>WIN_20210405_15_09_16_Pro</th>\n      <td>0.245161</td>\n      <td>0.754839</td>\n      <td>0.000000</td>\n    </tr>\n    <tr>\n      <th>WIN_20210406_15_06_15_Pro</th>\n      <td>0.321951</td>\n      <td>0.678049</td>\n      <td>0.000000</td>\n    </tr>\n    <tr>\n      <th>WIN_20210406_18_35_52_Pro</th>\n      <td>0.170886</td>\n      <td>0.829114</td>\n      <td>0.000000</td>\n    </tr>\n    <tr>\n      <th>WIN_20210406_18_49_10_Pro</th>\n      <td>0.245614</td>\n      <td>0.736842</td>\n      <td>0.017544</td>\n    </tr>\n    <tr>\n      <th>WIN_20210406_21_05_52_Pro</th>\n      <td>0.027027</td>\n      <td>0.951351</td>\n      <td>0.021622</td>\n    </tr>\n    <tr>\n      <th>WIN_20210407_09_04_05_Pro</th>\n      <td>0.963351</td>\n      <td>0.020942</td>\n      <td>0.015707</td>\n    </tr>\n    <tr>\n      <th>WIN_20210407_14_54_56_Pro_edit2</th>\n      <td>0.415094</td>\n      <td>0.584906</td>\n      <td>0.000000</td>\n    </tr>\n    <tr>\n      <th>WIN_20210408_11_48_58_Pro</th>\n      <td>0.288889</td>\n      <td>0.702222</td>\n      <td>0.008889</td>\n    </tr>\n    <tr>\n      <th>WIN_20210408_14_00_44_Pro</th>\n      <td>0.511236</td>\n      <td>0.488764</td>\n      <td>0.000000</td>\n    </tr>\n    <tr>\n      <th>WIN_20210408_14_02_19_Pro</th>\n      <td>0.000000</td>\n      <td>1.000000</td>\n      <td>0.000000</td>\n    </tr>\n    <tr>\n      <th>WIN_20210408_14_11_32_Pro</th>\n      <td>0.519231</td>\n      <td>0.480769</td>\n      <td>0.000000</td>\n    </tr>\n    <tr>\n      <th>WIN_20210408_15_20_51_Pro</th>\n      <td>0.176471</td>\n      <td>0.264706</td>\n      <td>0.558824</td>\n    </tr>\n    <tr>\n      <th>WIN_20210408_16_04_32_Pro</th>\n      <td>0.305882</td>\n      <td>0.658824</td>\n      <td>0.035294</td>\n    </tr>\n    <tr>\n      <th>WIN_20210409_10_26_11_Pro</th>\n      <td>0.086705</td>\n      <td>0.913295</td>\n      <td>0.000000</td>\n    </tr>\n    <tr>\n      <th>WIN_20210413_15_38_01_Pro</th>\n      <td>0.184971</td>\n      <td>0.815029</td>\n      <td>0.000000</td>\n    </tr>\n    <tr>\n      <th>WIN_20210414_06_24_52_Pro</th>\n      <td>0.212435</td>\n      <td>0.787565</td>\n      <td>0.000000</td>\n    </tr>\n    <tr>\n      <th>WIN_20210415_15_41_24_Pro</th>\n      <td>0.562212</td>\n      <td>0.433180</td>\n      <td>0.004608</td>\n    </tr>\n    <tr>\n      <th>WIN_20210416_08_06_54_Pro</th>\n      <td>0.245399</td>\n      <td>0.613497</td>\n      <td>0.141104</td>\n    </tr>\n    <tr>\n      <th>WIN_20210417_14_53_12_Pro</th>\n      <td>0.687023</td>\n      <td>0.305344</td>\n      <td>0.007634</td>\n    </tr>\n  </tbody>\n</table>\n</div>"
     },
     "metadata": {},
     "execution_count": 4
    }
   ],
   "source": [
    "X = predict5s.pivot_table(values='frameTimeWindow', columns='ypredict', index=['video_name'], aggfunc='count', fill_value=0)\n",
    "X_sum = X.sum(axis=1).values.copy()\n",
    "for col_number in range(len(X.columns)):\n",
    "    X.iloc[:,col_number] = X.iloc[:,col_number] / X_sum\n",
    "X"
   ]
  },
  {
   "cell_type": "code",
   "execution_count": 5,
   "metadata": {},
   "outputs": [
    {
     "output_type": "execute_result",
     "data": {
      "text/plain": [
       "                         video_name  stress_global\n",
       "0                    Test_pour_AFPA            1.0\n",
       "1                           Video_1            0.0\n",
       "2         WIN_20210323_19_17_40_Pro            1.0\n",
       "3         WIN_20210329_10_16_02_Pro            1.0\n",
       "4         WIN_20210330_13_10_29_Pro            0.0\n",
       "5         WIN_20210331_21_22_52_Pro            1.0\n",
       "6         WIN_20210402_14_27_50_Pro            1.0\n",
       "7         WIN_20210402_19_04_53_Pro            2.0\n",
       "8         WIN_20210403_18_49_15_Pro            2.0\n",
       "9         WIN_20210404_10_58_27_Pro            1.0\n",
       "10        WIN_20210404_21_41_12_Pro            0.0\n",
       "11        WIN_20210405_15_09_16_Pro            1.0\n",
       "12        WIN_20210406_15_06_15_Pro            2.0\n",
       "13        WIN_20210406_18_35_52_Pro            0.0\n",
       "14        WIN_20210406_18_49_10_Pro            1.0\n",
       "15        WIN_20210406_21_05_52_Pro            2.0\n",
       "16        WIN_20210407_09_04_05_Pro            2.0\n",
       "17  WIN_20210407_14_54_56_Pro_edit2            0.0\n",
       "18        WIN_20210408_11_48_58_Pro            2.0\n",
       "19        WIN_20210408_14_00_44_Pro            0.0\n",
       "20        WIN_20210408_14_02_19_Pro            0.0\n",
       "21        WIN_20210408_14_11_32_Pro            2.0\n",
       "22        WIN_20210408_15_20_51_Pro            0.0\n",
       "23        WIN_20210408_16_04_32_Pro            0.0\n",
       "24        WIN_20210409_10_26_11_Pro            0.0\n",
       "25        WIN_20210413_15_38_01_Pro            1.0\n",
       "26        WIN_20210414_06_24_52_Pro            2.0\n",
       "27        WIN_20210415_15_41_24_Pro            0.0\n",
       "28        WIN_20210416_08_06_54_Pro            1.0\n",
       "29        WIN_20210417_14_53_12_Pro            0.0"
      ],
      "text/html": "<div>\n<style scoped>\n    .dataframe tbody tr th:only-of-type {\n        vertical-align: middle;\n    }\n\n    .dataframe tbody tr th {\n        vertical-align: top;\n    }\n\n    .dataframe thead th {\n        text-align: right;\n    }\n</style>\n<table border=\"1\" class=\"dataframe\">\n  <thead>\n    <tr style=\"text-align: right;\">\n      <th></th>\n      <th>video_name</th>\n      <th>stress_global</th>\n    </tr>\n  </thead>\n  <tbody>\n    <tr>\n      <th>0</th>\n      <td>Test_pour_AFPA</td>\n      <td>1.0</td>\n    </tr>\n    <tr>\n      <th>1</th>\n      <td>Video_1</td>\n      <td>0.0</td>\n    </tr>\n    <tr>\n      <th>2</th>\n      <td>WIN_20210323_19_17_40_Pro</td>\n      <td>1.0</td>\n    </tr>\n    <tr>\n      <th>3</th>\n      <td>WIN_20210329_10_16_02_Pro</td>\n      <td>1.0</td>\n    </tr>\n    <tr>\n      <th>4</th>\n      <td>WIN_20210330_13_10_29_Pro</td>\n      <td>0.0</td>\n    </tr>\n    <tr>\n      <th>5</th>\n      <td>WIN_20210331_21_22_52_Pro</td>\n      <td>1.0</td>\n    </tr>\n    <tr>\n      <th>6</th>\n      <td>WIN_20210402_14_27_50_Pro</td>\n      <td>1.0</td>\n    </tr>\n    <tr>\n      <th>7</th>\n      <td>WIN_20210402_19_04_53_Pro</td>\n      <td>2.0</td>\n    </tr>\n    <tr>\n      <th>8</th>\n      <td>WIN_20210403_18_49_15_Pro</td>\n      <td>2.0</td>\n    </tr>\n    <tr>\n      <th>9</th>\n      <td>WIN_20210404_10_58_27_Pro</td>\n      <td>1.0</td>\n    </tr>\n    <tr>\n      <th>10</th>\n      <td>WIN_20210404_21_41_12_Pro</td>\n      <td>0.0</td>\n    </tr>\n    <tr>\n      <th>11</th>\n      <td>WIN_20210405_15_09_16_Pro</td>\n      <td>1.0</td>\n    </tr>\n    <tr>\n      <th>12</th>\n      <td>WIN_20210406_15_06_15_Pro</td>\n      <td>2.0</td>\n    </tr>\n    <tr>\n      <th>13</th>\n      <td>WIN_20210406_18_35_52_Pro</td>\n      <td>0.0</td>\n    </tr>\n    <tr>\n      <th>14</th>\n      <td>WIN_20210406_18_49_10_Pro</td>\n      <td>1.0</td>\n    </tr>\n    <tr>\n      <th>15</th>\n      <td>WIN_20210406_21_05_52_Pro</td>\n      <td>2.0</td>\n    </tr>\n    <tr>\n      <th>16</th>\n      <td>WIN_20210407_09_04_05_Pro</td>\n      <td>2.0</td>\n    </tr>\n    <tr>\n      <th>17</th>\n      <td>WIN_20210407_14_54_56_Pro_edit2</td>\n      <td>0.0</td>\n    </tr>\n    <tr>\n      <th>18</th>\n      <td>WIN_20210408_11_48_58_Pro</td>\n      <td>2.0</td>\n    </tr>\n    <tr>\n      <th>19</th>\n      <td>WIN_20210408_14_00_44_Pro</td>\n      <td>0.0</td>\n    </tr>\n    <tr>\n      <th>20</th>\n      <td>WIN_20210408_14_02_19_Pro</td>\n      <td>0.0</td>\n    </tr>\n    <tr>\n      <th>21</th>\n      <td>WIN_20210408_14_11_32_Pro</td>\n      <td>2.0</td>\n    </tr>\n    <tr>\n      <th>22</th>\n      <td>WIN_20210408_15_20_51_Pro</td>\n      <td>0.0</td>\n    </tr>\n    <tr>\n      <th>23</th>\n      <td>WIN_20210408_16_04_32_Pro</td>\n      <td>0.0</td>\n    </tr>\n    <tr>\n      <th>24</th>\n      <td>WIN_20210409_10_26_11_Pro</td>\n      <td>0.0</td>\n    </tr>\n    <tr>\n      <th>25</th>\n      <td>WIN_20210413_15_38_01_Pro</td>\n      <td>1.0</td>\n    </tr>\n    <tr>\n      <th>26</th>\n      <td>WIN_20210414_06_24_52_Pro</td>\n      <td>2.0</td>\n    </tr>\n    <tr>\n      <th>27</th>\n      <td>WIN_20210415_15_41_24_Pro</td>\n      <td>0.0</td>\n    </tr>\n    <tr>\n      <th>28</th>\n      <td>WIN_20210416_08_06_54_Pro</td>\n      <td>1.0</td>\n    </tr>\n    <tr>\n      <th>29</th>\n      <td>WIN_20210417_14_53_12_Pro</td>\n      <td>0.0</td>\n    </tr>\n  </tbody>\n</table>\n</div>"
     },
     "metadata": {},
     "execution_count": 5
    }
   ],
   "source": [
    "#recuperalo stress globale vero \n",
    "df_annotations_stress = pd.read_csv('annotations.csv')\n",
    "df_annotations_stress = df_annotations_stress.drop(['1', '8', '9', '10', '11', '12', '17', '18'], axis =1)\n",
    "df_annotations_stress"
   ]
  },
  {
   "cell_type": "code",
   "execution_count": 6,
   "metadata": {},
   "outputs": [
    {
     "output_type": "execute_result",
     "data": {
      "text/plain": [
       "                         video_name       0.0       1.0       2.0  \\\n",
       "0                    Test_pour_AFPA  0.253968  0.730159  0.015873   \n",
       "1                           Video_1  0.509934  0.483444  0.006623   \n",
       "2         WIN_20210323_19_17_40_Pro  0.017857  0.964286  0.017857   \n",
       "3         WIN_20210329_10_16_02_Pro  0.061224  0.938776  0.000000   \n",
       "4         WIN_20210330_13_10_29_Pro  0.317881  0.682119  0.000000   \n",
       "5         WIN_20210331_21_22_52_Pro  0.217647  0.770588  0.011765   \n",
       "6         WIN_20210402_19_04_53_Pro  0.617143  0.371429  0.011429   \n",
       "7         WIN_20210403_18_49_15_Pro  0.171271  0.828729  0.000000   \n",
       "8         WIN_20210404_10_58_27_Pro  0.430000  0.565000  0.005000   \n",
       "9         WIN_20210404_21_41_12_Pro  0.560345  0.439655  0.000000   \n",
       "10        WIN_20210405_15_09_16_Pro  0.245161  0.754839  0.000000   \n",
       "11        WIN_20210406_15_06_15_Pro  0.321951  0.678049  0.000000   \n",
       "12        WIN_20210406_18_35_52_Pro  0.170886  0.829114  0.000000   \n",
       "13        WIN_20210406_18_49_10_Pro  0.245614  0.736842  0.017544   \n",
       "14        WIN_20210406_21_05_52_Pro  0.027027  0.951351  0.021622   \n",
       "15        WIN_20210407_09_04_05_Pro  0.963351  0.020942  0.015707   \n",
       "16  WIN_20210407_14_54_56_Pro_edit2  0.415094  0.584906  0.000000   \n",
       "17        WIN_20210408_11_48_58_Pro  0.288889  0.702222  0.008889   \n",
       "18        WIN_20210408_14_00_44_Pro  0.511236  0.488764  0.000000   \n",
       "19        WIN_20210408_14_02_19_Pro  0.000000  1.000000  0.000000   \n",
       "20        WIN_20210408_14_11_32_Pro  0.519231  0.480769  0.000000   \n",
       "21        WIN_20210408_15_20_51_Pro  0.176471  0.264706  0.558824   \n",
       "22        WIN_20210408_16_04_32_Pro  0.305882  0.658824  0.035294   \n",
       "23        WIN_20210409_10_26_11_Pro  0.086705  0.913295  0.000000   \n",
       "24        WIN_20210413_15_38_01_Pro  0.184971  0.815029  0.000000   \n",
       "25        WIN_20210414_06_24_52_Pro  0.212435  0.787565  0.000000   \n",
       "26        WIN_20210415_15_41_24_Pro  0.562212  0.433180  0.004608   \n",
       "27        WIN_20210416_08_06_54_Pro  0.245399  0.613497  0.141104   \n",
       "28        WIN_20210417_14_53_12_Pro  0.687023  0.305344  0.007634   \n",
       "\n",
       "    stress_global  \n",
       "0             1.0  \n",
       "1             0.0  \n",
       "2             1.0  \n",
       "3             1.0  \n",
       "4             0.0  \n",
       "5             1.0  \n",
       "6             2.0  \n",
       "7             2.0  \n",
       "8             1.0  \n",
       "9             0.0  \n",
       "10            1.0  \n",
       "11            2.0  \n",
       "12            0.0  \n",
       "13            1.0  \n",
       "14            2.0  \n",
       "15            2.0  \n",
       "16            0.0  \n",
       "17            2.0  \n",
       "18            0.0  \n",
       "19            0.0  \n",
       "20            2.0  \n",
       "21            0.0  \n",
       "22            0.0  \n",
       "23            0.0  \n",
       "24            1.0  \n",
       "25            2.0  \n",
       "26            0.0  \n",
       "27            1.0  \n",
       "28            0.0  "
      ],
      "text/html": "<div>\n<style scoped>\n    .dataframe tbody tr th:only-of-type {\n        vertical-align: middle;\n    }\n\n    .dataframe tbody tr th {\n        vertical-align: top;\n    }\n\n    .dataframe thead th {\n        text-align: right;\n    }\n</style>\n<table border=\"1\" class=\"dataframe\">\n  <thead>\n    <tr style=\"text-align: right;\">\n      <th></th>\n      <th>video_name</th>\n      <th>0.0</th>\n      <th>1.0</th>\n      <th>2.0</th>\n      <th>stress_global</th>\n    </tr>\n  </thead>\n  <tbody>\n    <tr>\n      <th>0</th>\n      <td>Test_pour_AFPA</td>\n      <td>0.253968</td>\n      <td>0.730159</td>\n      <td>0.015873</td>\n      <td>1.0</td>\n    </tr>\n    <tr>\n      <th>1</th>\n      <td>Video_1</td>\n      <td>0.509934</td>\n      <td>0.483444</td>\n      <td>0.006623</td>\n      <td>0.0</td>\n    </tr>\n    <tr>\n      <th>2</th>\n      <td>WIN_20210323_19_17_40_Pro</td>\n      <td>0.017857</td>\n      <td>0.964286</td>\n      <td>0.017857</td>\n      <td>1.0</td>\n    </tr>\n    <tr>\n      <th>3</th>\n      <td>WIN_20210329_10_16_02_Pro</td>\n      <td>0.061224</td>\n      <td>0.938776</td>\n      <td>0.000000</td>\n      <td>1.0</td>\n    </tr>\n    <tr>\n      <th>4</th>\n      <td>WIN_20210330_13_10_29_Pro</td>\n      <td>0.317881</td>\n      <td>0.682119</td>\n      <td>0.000000</td>\n      <td>0.0</td>\n    </tr>\n    <tr>\n      <th>5</th>\n      <td>WIN_20210331_21_22_52_Pro</td>\n      <td>0.217647</td>\n      <td>0.770588</td>\n      <td>0.011765</td>\n      <td>1.0</td>\n    </tr>\n    <tr>\n      <th>6</th>\n      <td>WIN_20210402_19_04_53_Pro</td>\n      <td>0.617143</td>\n      <td>0.371429</td>\n      <td>0.011429</td>\n      <td>2.0</td>\n    </tr>\n    <tr>\n      <th>7</th>\n      <td>WIN_20210403_18_49_15_Pro</td>\n      <td>0.171271</td>\n      <td>0.828729</td>\n      <td>0.000000</td>\n      <td>2.0</td>\n    </tr>\n    <tr>\n      <th>8</th>\n      <td>WIN_20210404_10_58_27_Pro</td>\n      <td>0.430000</td>\n      <td>0.565000</td>\n      <td>0.005000</td>\n      <td>1.0</td>\n    </tr>\n    <tr>\n      <th>9</th>\n      <td>WIN_20210404_21_41_12_Pro</td>\n      <td>0.560345</td>\n      <td>0.439655</td>\n      <td>0.000000</td>\n      <td>0.0</td>\n    </tr>\n    <tr>\n      <th>10</th>\n      <td>WIN_20210405_15_09_16_Pro</td>\n      <td>0.245161</td>\n      <td>0.754839</td>\n      <td>0.000000</td>\n      <td>1.0</td>\n    </tr>\n    <tr>\n      <th>11</th>\n      <td>WIN_20210406_15_06_15_Pro</td>\n      <td>0.321951</td>\n      <td>0.678049</td>\n      <td>0.000000</td>\n      <td>2.0</td>\n    </tr>\n    <tr>\n      <th>12</th>\n      <td>WIN_20210406_18_35_52_Pro</td>\n      <td>0.170886</td>\n      <td>0.829114</td>\n      <td>0.000000</td>\n      <td>0.0</td>\n    </tr>\n    <tr>\n      <th>13</th>\n      <td>WIN_20210406_18_49_10_Pro</td>\n      <td>0.245614</td>\n      <td>0.736842</td>\n      <td>0.017544</td>\n      <td>1.0</td>\n    </tr>\n    <tr>\n      <th>14</th>\n      <td>WIN_20210406_21_05_52_Pro</td>\n      <td>0.027027</td>\n      <td>0.951351</td>\n      <td>0.021622</td>\n      <td>2.0</td>\n    </tr>\n    <tr>\n      <th>15</th>\n      <td>WIN_20210407_09_04_05_Pro</td>\n      <td>0.963351</td>\n      <td>0.020942</td>\n      <td>0.015707</td>\n      <td>2.0</td>\n    </tr>\n    <tr>\n      <th>16</th>\n      <td>WIN_20210407_14_54_56_Pro_edit2</td>\n      <td>0.415094</td>\n      <td>0.584906</td>\n      <td>0.000000</td>\n      <td>0.0</td>\n    </tr>\n    <tr>\n      <th>17</th>\n      <td>WIN_20210408_11_48_58_Pro</td>\n      <td>0.288889</td>\n      <td>0.702222</td>\n      <td>0.008889</td>\n      <td>2.0</td>\n    </tr>\n    <tr>\n      <th>18</th>\n      <td>WIN_20210408_14_00_44_Pro</td>\n      <td>0.511236</td>\n      <td>0.488764</td>\n      <td>0.000000</td>\n      <td>0.0</td>\n    </tr>\n    <tr>\n      <th>19</th>\n      <td>WIN_20210408_14_02_19_Pro</td>\n      <td>0.000000</td>\n      <td>1.000000</td>\n      <td>0.000000</td>\n      <td>0.0</td>\n    </tr>\n    <tr>\n      <th>20</th>\n      <td>WIN_20210408_14_11_32_Pro</td>\n      <td>0.519231</td>\n      <td>0.480769</td>\n      <td>0.000000</td>\n      <td>2.0</td>\n    </tr>\n    <tr>\n      <th>21</th>\n      <td>WIN_20210408_15_20_51_Pro</td>\n      <td>0.176471</td>\n      <td>0.264706</td>\n      <td>0.558824</td>\n      <td>0.0</td>\n    </tr>\n    <tr>\n      <th>22</th>\n      <td>WIN_20210408_16_04_32_Pro</td>\n      <td>0.305882</td>\n      <td>0.658824</td>\n      <td>0.035294</td>\n      <td>0.0</td>\n    </tr>\n    <tr>\n      <th>23</th>\n      <td>WIN_20210409_10_26_11_Pro</td>\n      <td>0.086705</td>\n      <td>0.913295</td>\n      <td>0.000000</td>\n      <td>0.0</td>\n    </tr>\n    <tr>\n      <th>24</th>\n      <td>WIN_20210413_15_38_01_Pro</td>\n      <td>0.184971</td>\n      <td>0.815029</td>\n      <td>0.000000</td>\n      <td>1.0</td>\n    </tr>\n    <tr>\n      <th>25</th>\n      <td>WIN_20210414_06_24_52_Pro</td>\n      <td>0.212435</td>\n      <td>0.787565</td>\n      <td>0.000000</td>\n      <td>2.0</td>\n    </tr>\n    <tr>\n      <th>26</th>\n      <td>WIN_20210415_15_41_24_Pro</td>\n      <td>0.562212</td>\n      <td>0.433180</td>\n      <td>0.004608</td>\n      <td>0.0</td>\n    </tr>\n    <tr>\n      <th>27</th>\n      <td>WIN_20210416_08_06_54_Pro</td>\n      <td>0.245399</td>\n      <td>0.613497</td>\n      <td>0.141104</td>\n      <td>1.0</td>\n    </tr>\n    <tr>\n      <th>28</th>\n      <td>WIN_20210417_14_53_12_Pro</td>\n      <td>0.687023</td>\n      <td>0.305344</td>\n      <td>0.007634</td>\n      <td>0.0</td>\n    </tr>\n  </tbody>\n</table>\n</div>"
     },
     "metadata": {},
     "execution_count": 6
    }
   ],
   "source": [
    "Xy = X.merge(df_annotations_stress, how='inner', on=['video_name'])\n",
    "X = Xy.iloc[:,:-1].set_index(['video_name'])\n",
    "y = Xy.iloc[:,-1]\n",
    "Xy"
   ]
  },
  {
   "cell_type": "code",
   "execution_count": 7,
   "metadata": {},
   "outputs": [
    {
     "output_type": "execute_result",
     "data": {
      "text/plain": [
       "                                      0.0       1.0       2.0\n",
       "video_name                                                   \n",
       "Test_pour_AFPA                   0.253968  0.730159  0.015873\n",
       "Video_1                          0.509934  0.483444  0.006623\n",
       "WIN_20210323_19_17_40_Pro        0.017857  0.964286  0.017857\n",
       "WIN_20210329_10_16_02_Pro        0.061224  0.938776  0.000000\n",
       "WIN_20210330_13_10_29_Pro        0.317881  0.682119  0.000000\n",
       "WIN_20210331_21_22_52_Pro        0.217647  0.770588  0.011765\n",
       "WIN_20210402_19_04_53_Pro        0.617143  0.371429  0.011429\n",
       "WIN_20210403_18_49_15_Pro        0.171271  0.828729  0.000000\n",
       "WIN_20210404_10_58_27_Pro        0.430000  0.565000  0.005000\n",
       "WIN_20210404_21_41_12_Pro        0.560345  0.439655  0.000000\n",
       "WIN_20210405_15_09_16_Pro        0.245161  0.754839  0.000000\n",
       "WIN_20210406_15_06_15_Pro        0.321951  0.678049  0.000000\n",
       "WIN_20210406_18_35_52_Pro        0.170886  0.829114  0.000000\n",
       "WIN_20210406_18_49_10_Pro        0.245614  0.736842  0.017544\n",
       "WIN_20210406_21_05_52_Pro        0.027027  0.951351  0.021622\n",
       "WIN_20210407_09_04_05_Pro        0.963351  0.020942  0.015707\n",
       "WIN_20210407_14_54_56_Pro_edit2  0.415094  0.584906  0.000000\n",
       "WIN_20210408_11_48_58_Pro        0.288889  0.702222  0.008889\n",
       "WIN_20210408_14_00_44_Pro        0.511236  0.488764  0.000000\n",
       "WIN_20210408_14_02_19_Pro        0.000000  1.000000  0.000000\n",
       "WIN_20210408_14_11_32_Pro        0.519231  0.480769  0.000000\n",
       "WIN_20210408_15_20_51_Pro        0.176471  0.264706  0.558824\n",
       "WIN_20210408_16_04_32_Pro        0.305882  0.658824  0.035294\n",
       "WIN_20210409_10_26_11_Pro        0.086705  0.913295  0.000000\n",
       "WIN_20210413_15_38_01_Pro        0.184971  0.815029  0.000000\n",
       "WIN_20210414_06_24_52_Pro        0.212435  0.787565  0.000000\n",
       "WIN_20210415_15_41_24_Pro        0.562212  0.433180  0.004608\n",
       "WIN_20210416_08_06_54_Pro        0.245399  0.613497  0.141104\n",
       "WIN_20210417_14_53_12_Pro        0.687023  0.305344  0.007634"
      ],
      "text/html": "<div>\n<style scoped>\n    .dataframe tbody tr th:only-of-type {\n        vertical-align: middle;\n    }\n\n    .dataframe tbody tr th {\n        vertical-align: top;\n    }\n\n    .dataframe thead th {\n        text-align: right;\n    }\n</style>\n<table border=\"1\" class=\"dataframe\">\n  <thead>\n    <tr style=\"text-align: right;\">\n      <th></th>\n      <th>0.0</th>\n      <th>1.0</th>\n      <th>2.0</th>\n    </tr>\n    <tr>\n      <th>video_name</th>\n      <th></th>\n      <th></th>\n      <th></th>\n    </tr>\n  </thead>\n  <tbody>\n    <tr>\n      <th>Test_pour_AFPA</th>\n      <td>0.253968</td>\n      <td>0.730159</td>\n      <td>0.015873</td>\n    </tr>\n    <tr>\n      <th>Video_1</th>\n      <td>0.509934</td>\n      <td>0.483444</td>\n      <td>0.006623</td>\n    </tr>\n    <tr>\n      <th>WIN_20210323_19_17_40_Pro</th>\n      <td>0.017857</td>\n      <td>0.964286</td>\n      <td>0.017857</td>\n    </tr>\n    <tr>\n      <th>WIN_20210329_10_16_02_Pro</th>\n      <td>0.061224</td>\n      <td>0.938776</td>\n      <td>0.000000</td>\n    </tr>\n    <tr>\n      <th>WIN_20210330_13_10_29_Pro</th>\n      <td>0.317881</td>\n      <td>0.682119</td>\n      <td>0.000000</td>\n    </tr>\n    <tr>\n      <th>WIN_20210331_21_22_52_Pro</th>\n      <td>0.217647</td>\n      <td>0.770588</td>\n      <td>0.011765</td>\n    </tr>\n    <tr>\n      <th>WIN_20210402_19_04_53_Pro</th>\n      <td>0.617143</td>\n      <td>0.371429</td>\n      <td>0.011429</td>\n    </tr>\n    <tr>\n      <th>WIN_20210403_18_49_15_Pro</th>\n      <td>0.171271</td>\n      <td>0.828729</td>\n      <td>0.000000</td>\n    </tr>\n    <tr>\n      <th>WIN_20210404_10_58_27_Pro</th>\n      <td>0.430000</td>\n      <td>0.565000</td>\n      <td>0.005000</td>\n    </tr>\n    <tr>\n      <th>WIN_20210404_21_41_12_Pro</th>\n      <td>0.560345</td>\n      <td>0.439655</td>\n      <td>0.000000</td>\n    </tr>\n    <tr>\n      <th>WIN_20210405_15_09_16_Pro</th>\n      <td>0.245161</td>\n      <td>0.754839</td>\n      <td>0.000000</td>\n    </tr>\n    <tr>\n      <th>WIN_20210406_15_06_15_Pro</th>\n      <td>0.321951</td>\n      <td>0.678049</td>\n      <td>0.000000</td>\n    </tr>\n    <tr>\n      <th>WIN_20210406_18_35_52_Pro</th>\n      <td>0.170886</td>\n      <td>0.829114</td>\n      <td>0.000000</td>\n    </tr>\n    <tr>\n      <th>WIN_20210406_18_49_10_Pro</th>\n      <td>0.245614</td>\n      <td>0.736842</td>\n      <td>0.017544</td>\n    </tr>\n    <tr>\n      <th>WIN_20210406_21_05_52_Pro</th>\n      <td>0.027027</td>\n      <td>0.951351</td>\n      <td>0.021622</td>\n    </tr>\n    <tr>\n      <th>WIN_20210407_09_04_05_Pro</th>\n      <td>0.963351</td>\n      <td>0.020942</td>\n      <td>0.015707</td>\n    </tr>\n    <tr>\n      <th>WIN_20210407_14_54_56_Pro_edit2</th>\n      <td>0.415094</td>\n      <td>0.584906</td>\n      <td>0.000000</td>\n    </tr>\n    <tr>\n      <th>WIN_20210408_11_48_58_Pro</th>\n      <td>0.288889</td>\n      <td>0.702222</td>\n      <td>0.008889</td>\n    </tr>\n    <tr>\n      <th>WIN_20210408_14_00_44_Pro</th>\n      <td>0.511236</td>\n      <td>0.488764</td>\n      <td>0.000000</td>\n    </tr>\n    <tr>\n      <th>WIN_20210408_14_02_19_Pro</th>\n      <td>0.000000</td>\n      <td>1.000000</td>\n      <td>0.000000</td>\n    </tr>\n    <tr>\n      <th>WIN_20210408_14_11_32_Pro</th>\n      <td>0.519231</td>\n      <td>0.480769</td>\n      <td>0.000000</td>\n    </tr>\n    <tr>\n      <th>WIN_20210408_15_20_51_Pro</th>\n      <td>0.176471</td>\n      <td>0.264706</td>\n      <td>0.558824</td>\n    </tr>\n    <tr>\n      <th>WIN_20210408_16_04_32_Pro</th>\n      <td>0.305882</td>\n      <td>0.658824</td>\n      <td>0.035294</td>\n    </tr>\n    <tr>\n      <th>WIN_20210409_10_26_11_Pro</th>\n      <td>0.086705</td>\n      <td>0.913295</td>\n      <td>0.000000</td>\n    </tr>\n    <tr>\n      <th>WIN_20210413_15_38_01_Pro</th>\n      <td>0.184971</td>\n      <td>0.815029</td>\n      <td>0.000000</td>\n    </tr>\n    <tr>\n      <th>WIN_20210414_06_24_52_Pro</th>\n      <td>0.212435</td>\n      <td>0.787565</td>\n      <td>0.000000</td>\n    </tr>\n    <tr>\n      <th>WIN_20210415_15_41_24_Pro</th>\n      <td>0.562212</td>\n      <td>0.433180</td>\n      <td>0.004608</td>\n    </tr>\n    <tr>\n      <th>WIN_20210416_08_06_54_Pro</th>\n      <td>0.245399</td>\n      <td>0.613497</td>\n      <td>0.141104</td>\n    </tr>\n    <tr>\n      <th>WIN_20210417_14_53_12_Pro</th>\n      <td>0.687023</td>\n      <td>0.305344</td>\n      <td>0.007634</td>\n    </tr>\n  </tbody>\n</table>\n</div>"
     },
     "metadata": {},
     "execution_count": 7
    }
   ],
   "source": [
    "X"
   ]
  },
  {
   "cell_type": "code",
   "execution_count": 9,
   "metadata": {},
   "outputs": [],
   "source": [
    "from sklearn.linear_model import LogisticRegression\n",
    "from sklearn.neighbors import KNeighborsClassifier\n",
    "from sklearn.ensemble import RandomForestClassifier\n",
    "from sklearn.model_selection import LeaveOneGroupOut\n",
    "from sklearn.decomposition import PCA\n",
    "from sklearn.pipeline import Pipeline\n",
    "\n",
    "pca = PCA()\n",
    "pipe = Pipeline(steps=[('pca', pca), ('logistic', LogisticRegression(multi_class='multinomial', fit_intercept=True, random_state=42))])\n",
    "\n",
    "models_list = [\n",
    "                LogisticRegression(multi_class='multinomial', fit_intercept=True, random_state=42),\n",
    "                Pipeline(steps=[('pca', pca), ('logistic', LogisticRegression(multi_class='multinomial', fit_intercept=True))]),\n",
    "                KNeighborsClassifier(),\n",
    "                Pipeline(steps=[('pca', pca), ('knn', KNeighborsClassifier())]),\n",
    "                RandomForestClassifier(random_state = 42, n_jobs=-1)\n",
    "                ]\n",
    "\n",
    "parameters_list = [\n",
    "                    {'C': [0.01, 0.05, 0.1, 0.5, 1, 2, 3, 4 , 5, 10], 'class_weight' : [None, 'balanced']},\n",
    "                    {'pca__n_components': [1, 2, 3, 4],\n",
    "                        'logistic__C': [0.01, 0.05, 0.1, 0.5, 1, 2, 3, 4 , 5, 10], 'logistic__class_weight' : [None, 'balanced']},\n",
    "                    {'n_neighbors': [4, 5, 6, 7, 8, 9, 10, 11, 12,  15, 20], 'weights' : ['uniform', 'distance'], 'p': [1, 2]},\n",
    "                    {'pca__n_components': [1, 2, 3, 4],\n",
    "                        'knn__n_neighbors': [4, 5, 6, 7, 8, 9, 10, 11, 12,  15, 20], 'knn__weights' : ['uniform', 'distance'],                              'knn__p': [1, 2]},\n",
    "                    {'n_estimators': [50, 100, 150, 200], 'max_depth':[3, 4, 5, 6, 10, 15, 20], 'class_weight':[None,'balanced']}\n",
    "                    ]\n",
    "\n"
   ]
  },
  {
   "cell_type": "code",
   "execution_count": 10,
   "metadata": {},
   "outputs": [
    {
     "output_type": "stream",
     "name": "stdout",
     "text": [
      "Fitting 5 folds for each of 20 candidates, totalling 100 fits\n",
      "Best estimator LogisticRegression(C=1, multi_class='multinomial', random_state=42)\n",
      "Best results 0.3375396825396826\n",
      "Best params {'C': 1, 'class_weight': None}\n",
      "accuracy (mean, std) 0.4133333333333333 0.16679994670929071\n",
      "f1 (mean, std) 0.3375396825396826 0.17745570315152676\n",
      "balanced accuracy (mean, std) 0.34444444444444444 0.13788526273323173\n",
      "precision (mean, std) 0.33888888888888885 0.21163677245882892\n",
      "recall (mean, std) 0.4133333333333333 0.16679994670929071\n",
      "\n",
      "Fitting 5 folds for each of 80 candidates, totalling 400 fits\n",
      "Best estimator Pipeline(steps=[('pca', PCA(n_components=1)),\n",
      "                ('logistic',\n",
      "                 LogisticRegression(C=10, class_weight='balanced',\n",
      "                                    multi_class='multinomial'))])\n",
      "Best results 0.4003174603174603\n",
      "Best params {'logistic__C': 10, 'logistic__class_weight': 'balanced', 'pca__n_components': 1}\n",
      "accuracy (mean, std) 0.4333333333333333 0.2494438257849294\n",
      "f1 (mean, std) 0.4003174603174603 0.2507422089094658\n",
      "balanced accuracy (mean, std) 0.4111111111111111 0.23200681130912332\n",
      "precision (mean, std) 0.41555555555555557 0.27194770739161517\n",
      "recall (mean, std) 0.4333333333333333 0.2494438257849294\n",
      "\n",
      "Fitting 5 folds for each of 44 candidates, totalling 220 fits\n",
      "Best estimator KNeighborsClassifier(n_neighbors=10, p=1)\n",
      "Best results 0.44965079365079363\n",
      "Best params {'n_neighbors': 10, 'p': 1, 'weights': 'uniform'}\n",
      "accuracy (mean, std) 0.5199999999999999 0.11274356350191841\n",
      "f1 (mean, std) 0.44965079365079363 0.12500918182453\n",
      "balanced accuracy (mean, std) 0.4888888888888888 0.08164965809277258\n",
      "precision (mean, std) 0.4488888888888889 0.15738605519667356\n",
      "recall (mean, std) 0.5199999999999999 0.11274356350191841\n",
      "\n",
      "Fitting 5 folds for each of 176 candidates, totalling 880 fits\n",
      "Best estimator Pipeline(steps=[('pca', PCA(n_components=1)),\n",
      "                ('knn', KNeighborsClassifier(n_neighbors=10, p=1))])\n",
      "Best results 0.44965079365079363\n",
      "Best params {'knn__n_neighbors': 10, 'knn__p': 1, 'knn__weights': 'uniform', 'pca__n_components': 1}\n",
      "accuracy (mean, std) 0.5199999999999999 0.11274356350191841\n",
      "f1 (mean, std) 0.44965079365079363 0.12500918182453\n",
      "balanced accuracy (mean, std) 0.4888888888888888 0.08164965809277258\n",
      "precision (mean, std) 0.4488888888888889 0.15738605519667356\n",
      "recall (mean, std) 0.5199999999999999 0.11274356350191841\n",
      "\n",
      "Fitting 5 folds for each of 56 candidates, totalling 280 fits\n",
      "Best estimator RandomForestClassifier(max_depth=3, n_estimators=50, n_jobs=-1, random_state=42)\n",
      "Best results 0.2924444444444444\n",
      "Best params {'class_weight': None, 'max_depth': 3, 'n_estimators': 50}\n",
      "accuracy (mean, std) 0.30666666666666664 0.118133634311129\n",
      "f1 (mean, std) 0.2924444444444444 0.14044444444444443\n",
      "balanced accuracy (mean, std) 0.26666666666666666 0.1077262190536962\n",
      "precision (mean, std) 0.30444444444444446 0.190852538254079\n",
      "recall (mean, std) 0.30666666666666664 0.118133634311129\n",
      "\n",
      "f1_score (weighted) 0.4357821089455272\n",
      "accuracy 0.5172413793103449\n"
     ]
    }
   ],
   "source": [
    "best_result_tw5_glob, y_predict_tw5_glob, y_proba, result_list_tw5_glob = runGridSearchClassifiers(X, y, 5, models_list, parameters_list,output_predict=True, n_jobs=-1, verbose=True)"
   ]
  },
  {
   "cell_type": "code",
   "execution_count": 11,
   "metadata": {},
   "outputs": [
    {
     "output_type": "execute_result",
     "data": {
      "text/plain": [
       "{'best_estimator': KNeighborsClassifier(n_neighbors=10, p=1),\n",
       " 'best_score': 0.44965079365079363,\n",
       " 'best_params': {'n_neighbors': 10, 'p': 1, 'weights': 'uniform'},\n",
       " 'mean_test_f1_score': 0.44965079365079363,\n",
       " 'std_test_f1_score': 0.12500918182453,\n",
       " 'mean_test_accuracy_score': 0.5199999999999999,\n",
       " 'std_test_accuracy_score': 0.11274356350191841,\n",
       " 'mean_test_balanced_accuracy_score': 0.4888888888888888,\n",
       " 'std_test_balanced_accuracy_score': 0.08164965809277258,\n",
       " 'mean_test_precision': 0.4488888888888889,\n",
       " 'std_test_precision': 0.15738605519667356,\n",
       " 'mean_test_recall': 0.5199999999999999,\n",
       " 'std_test_recall': 0.11274356350191841}"
      ]
     },
     "metadata": {},
     "execution_count": 11
    }
   ],
   "source": [
    "best_result_tw5_glob"
   ]
  },
  {
   "cell_type": "code",
   "execution_count": 12,
   "metadata": {},
   "outputs": [
    {
     "output_type": "execute_result",
     "data": {
      "text/plain": [
       "array([1., 0., 1., 1., 1., 1., 0., 1., 0., 0., 1., 1., 1., 1., 1., 0., 0.,\n",
       "       1., 0., 1., 0., 0., 1., 1., 1., 1., 0., 1., 0.])"
      ]
     },
     "metadata": {},
     "execution_count": 12
    }
   ],
   "source": [
    "y_predict_tw5_glob\n",
    "##ATTENZIONE NON PREDICE MAI I 2"
   ]
  },
  {
   "source": [
    "## ORA SEMPRE PARTENDO DALLE PEDIZIONI DI  5 SECONDI FACCIO NEL AGGIUNGENDO MINMAX sulle predizioni e predico su global"
   ],
   "cell_type": "markdown",
   "metadata": {}
  },
  {
   "cell_type": "code",
   "execution_count": 13,
   "metadata": {},
   "outputs": [
    {
     "output_type": "execute_result",
     "data": {
      "text/plain": [
       "1.0    3302\n",
       "0.0    1670\n",
       "2.0     169\n",
       "Name: ypredict, dtype: int64"
      ]
     },
     "metadata": {},
     "execution_count": 13
    }
   ],
   "source": [
    "predict5s['ypredict'].value_counts()"
   ]
  },
  {
   "cell_type": "code",
   "execution_count": 14,
   "metadata": {},
   "outputs": [
    {
     "output_type": "execute_result",
     "data": {
      "text/plain": [
       "                     video_name  frameTimeWindow  ypredict\n",
       "0                Test_pour_AFPA               44       1.0\n",
       "1                Test_pour_AFPA               45       0.0\n",
       "2                Test_pour_AFPA               46       1.0\n",
       "3                Test_pour_AFPA               47       1.0\n",
       "4                Test_pour_AFPA               48       1.0\n",
       "...                         ...              ...       ...\n",
       "5136  WIN_20210417_14_53_12_Pro              120       1.0\n",
       "5137  WIN_20210417_14_53_12_Pro              121       1.0\n",
       "5138  WIN_20210417_14_53_12_Pro              122       1.0\n",
       "5139  WIN_20210417_14_53_12_Pro              123       1.0\n",
       "5140  WIN_20210417_14_53_12_Pro              124       2.0\n",
       "\n",
       "[5141 rows x 3 columns]"
      ],
      "text/html": "<div>\n<style scoped>\n    .dataframe tbody tr th:only-of-type {\n        vertical-align: middle;\n    }\n\n    .dataframe tbody tr th {\n        vertical-align: top;\n    }\n\n    .dataframe thead th {\n        text-align: right;\n    }\n</style>\n<table border=\"1\" class=\"dataframe\">\n  <thead>\n    <tr style=\"text-align: right;\">\n      <th></th>\n      <th>video_name</th>\n      <th>frameTimeWindow</th>\n      <th>ypredict</th>\n    </tr>\n  </thead>\n  <tbody>\n    <tr>\n      <th>0</th>\n      <td>Test_pour_AFPA</td>\n      <td>44</td>\n      <td>1.0</td>\n    </tr>\n    <tr>\n      <th>1</th>\n      <td>Test_pour_AFPA</td>\n      <td>45</td>\n      <td>0.0</td>\n    </tr>\n    <tr>\n      <th>2</th>\n      <td>Test_pour_AFPA</td>\n      <td>46</td>\n      <td>1.0</td>\n    </tr>\n    <tr>\n      <th>3</th>\n      <td>Test_pour_AFPA</td>\n      <td>47</td>\n      <td>1.0</td>\n    </tr>\n    <tr>\n      <th>4</th>\n      <td>Test_pour_AFPA</td>\n      <td>48</td>\n      <td>1.0</td>\n    </tr>\n    <tr>\n      <th>...</th>\n      <td>...</td>\n      <td>...</td>\n      <td>...</td>\n    </tr>\n    <tr>\n      <th>5136</th>\n      <td>WIN_20210417_14_53_12_Pro</td>\n      <td>120</td>\n      <td>1.0</td>\n    </tr>\n    <tr>\n      <th>5137</th>\n      <td>WIN_20210417_14_53_12_Pro</td>\n      <td>121</td>\n      <td>1.0</td>\n    </tr>\n    <tr>\n      <th>5138</th>\n      <td>WIN_20210417_14_53_12_Pro</td>\n      <td>122</td>\n      <td>1.0</td>\n    </tr>\n    <tr>\n      <th>5139</th>\n      <td>WIN_20210417_14_53_12_Pro</td>\n      <td>123</td>\n      <td>1.0</td>\n    </tr>\n    <tr>\n      <th>5140</th>\n      <td>WIN_20210417_14_53_12_Pro</td>\n      <td>124</td>\n      <td>2.0</td>\n    </tr>\n  </tbody>\n</table>\n<p>5141 rows × 3 columns</p>\n</div>"
     },
     "metadata": {},
     "execution_count": 14
    }
   ],
   "source": [
    "predict5s_global = predict5s.drop(\"diapo\", axis = 1)\n",
    "predict5s_global"
   ]
  },
  {
   "cell_type": "code",
   "execution_count": 15,
   "metadata": {},
   "outputs": [],
   "source": [
    "from scipy.stats import kurtosis, skew\n",
    "\n",
    "def percentil25(x): \n",
    "    return np.percentile(x, q=25)\n",
    "\n",
    "def percentil75(x): \n",
    "    return np.percentile(x, q=75)"
   ]
  },
  {
   "cell_type": "code",
   "execution_count": 16,
   "metadata": {},
   "outputs": [],
   "source": [
    "\n",
    "X_glob_minmax = predict5s_global.groupby(['video_name']).agg({'ypredict':['mean','min','max', 'median', 'std', percentil25, percentil75, kurtosis, skew]})"
   ]
  },
  {
   "cell_type": "code",
   "execution_count": 17,
   "metadata": {},
   "outputs": [
    {
     "output_type": "execute_result",
     "data": {
      "text/plain": [
       "                                 ypredict                             \\\n",
       "                                     mean  min  max median       std   \n",
       "video_name                                                             \n",
       "Test_pour_AFPA                   0.761905  0.0  2.0    1.0  0.462910   \n",
       "Video_1                          0.496689  0.0  2.0    0.0  0.514771   \n",
       "WIN_20210323_19_17_40_Pro        1.000000  0.0  2.0    1.0  0.189547   \n",
       "WIN_20210329_10_16_02_Pro        0.938776  0.0  1.0    1.0  0.240561   \n",
       "WIN_20210330_13_10_29_Pro        0.682119  0.0  1.0    1.0  0.467202   \n",
       "WIN_20210331_21_22_52_Pro        0.794118  0.0  2.0    1.0  0.433741   \n",
       "WIN_20210402_19_04_53_Pro        0.394286  0.0  2.0    0.0  0.513016   \n",
       "WIN_20210403_18_49_15_Pro        0.828729  0.0  1.0    1.0  0.377790   \n",
       "WIN_20210404_10_58_27_Pro        0.575000  0.0  2.0    1.0  0.505622   \n",
       "WIN_20210404_21_41_12_Pro        0.439655  0.0  1.0    0.0  0.497418   \n",
       "WIN_20210405_15_09_16_Pro        0.754839  0.0  1.0    1.0  0.431577   \n",
       "WIN_20210406_15_06_15_Pro        0.678049  0.0  1.0    1.0  0.468368   \n",
       "WIN_20210406_18_35_52_Pro        0.829114  0.0  1.0    1.0  0.377606   \n",
       "WIN_20210406_18_49_10_Pro        0.771930  0.0  2.0    1.0  0.460851   \n",
       "WIN_20210406_21_05_52_Pro        0.994595  0.0  2.0    1.0  0.221097   \n",
       "WIN_20210407_09_04_05_Pro        0.052356  0.0  2.0    0.0  0.285403   \n",
       "WIN_20210407_14_54_56_Pro_edit2  0.584906  0.0  1.0    1.0  0.494295   \n",
       "WIN_20210408_11_48_58_Pro        0.720000  0.0  2.0    1.0  0.469422   \n",
       "WIN_20210408_14_00_44_Pro        0.488764  0.0  1.0    0.0  0.501284   \n",
       "WIN_20210408_14_02_19_Pro        1.000000  1.0  1.0    1.0  0.000000   \n",
       "WIN_20210408_14_11_32_Pro        0.480769  0.0  1.0    0.0  0.501239   \n",
       "WIN_20210408_15_20_51_Pro        1.382353  0.0  2.0    2.0  0.769417   \n",
       "WIN_20210408_16_04_32_Pro        0.729412  0.0  2.0    1.0  0.519176   \n",
       "WIN_20210409_10_26_11_Pro        0.913295  0.0  1.0    1.0  0.282219   \n",
       "WIN_20210413_15_38_01_Pro        0.815029  0.0  1.0    1.0  0.389401   \n",
       "WIN_20210414_06_24_52_Pro        0.787565  0.0  1.0    1.0  0.410095   \n",
       "WIN_20210415_15_41_24_Pro        0.442396  0.0  2.0    0.0  0.507034   \n",
       "WIN_20210416_08_06_54_Pro        0.895706  0.0  2.0    1.0  0.614772   \n",
       "WIN_20210417_14_53_12_Pro        0.320611  0.0  2.0    0.0  0.484644   \n",
       "\n",
       "                                                                              \n",
       "                                percentil25 percentil75   kurtosis      skew  \n",
       "video_name                                                                    \n",
       "Test_pour_AFPA                          0.0         1.0  -0.243775 -0.735162  \n",
       "Video_1                                 0.0         1.0  -1.616264  0.160339  \n",
       "WIN_20210323_19_17_40_Pro               1.0         1.0  25.000000  0.000000  \n",
       "WIN_20210329_10_16_02_Pro               1.0         1.0  11.398551 -3.660403  \n",
       "WIN_20210330_13_10_29_Pro               0.0         1.0  -1.388147 -0.782210  \n",
       "WIN_20210331_21_22_52_Pro               1.0         1.0   0.225356 -1.009390  \n",
       "WIN_20210402_19_04_53_Pro               0.0         1.0  -0.942580  0.687488  \n",
       "WIN_20210403_18_49_15_Pro               1.0         1.0   1.045376 -1.745101  \n",
       "WIN_20210404_10_58_27_Pro               0.0         1.0  -1.670073 -0.186337  \n",
       "WIN_20210404_21_41_12_Pro               0.0         1.0  -1.940875  0.243157  \n",
       "WIN_20210405_15_09_16_Pro               1.0         1.0  -0.596266 -1.184793  \n",
       "WIN_20210406_15_06_15_Pro               0.0         1.0  -1.419119 -0.762155  \n",
       "WIN_20210406_18_35_52_Pro               1.0         1.0   1.057959 -1.748702  \n",
       "WIN_20210406_18_49_10_Pro               1.0         1.0  -0.103975 -0.739449  \n",
       "WIN_20210406_21_05_52_Pro               1.0         1.0  17.534434 -0.430654  \n",
       "WIN_20210407_09_04_05_Pro               0.0         0.0  33.996628  5.797763  \n",
       "WIN_20210407_14_54_56_Pro_edit2         0.0         1.0  -1.881232 -0.344628  \n",
       "WIN_20210408_11_48_58_Pro               0.0         1.0  -0.801367 -0.717951  \n",
       "WIN_20210408_14_00_44_Pro               0.0         1.0  -1.997979  0.044955  \n",
       "WIN_20210408_14_02_19_Pro               1.0         1.0  -3.000000  0.000000  \n",
       "WIN_20210408_14_11_32_Pro               0.0         1.0  -1.994074  0.076980  \n",
       "WIN_20210408_15_20_51_Pro               1.0         2.0  -0.892533 -0.772479  \n",
       "WIN_20210408_16_04_32_Pro               0.0         1.0  -0.463802 -0.239763  \n",
       "WIN_20210409_10_26_11_Pro               1.0         1.0   6.628270 -2.937392  \n",
       "WIN_20210413_15_38_01_Pro               1.0         1.0   0.633200 -1.622714  \n",
       "WIN_20210414_06_24_52_Pro               1.0         1.0  -0.022946 -1.406077  \n",
       "WIN_20210415_15_41_24_Pro               0.0         1.0  -1.617426  0.338642  \n",
       "WIN_20210416_08_06_54_Pro               1.0         1.0  -0.392790  0.062407  \n",
       "WIN_20210417_14_53_12_Pro               0.0         1.0  -0.551382  0.970977  "
      ],
      "text/html": "<div>\n<style scoped>\n    .dataframe tbody tr th:only-of-type {\n        vertical-align: middle;\n    }\n\n    .dataframe tbody tr th {\n        vertical-align: top;\n    }\n\n    .dataframe thead tr th {\n        text-align: left;\n    }\n\n    .dataframe thead tr:last-of-type th {\n        text-align: right;\n    }\n</style>\n<table border=\"1\" class=\"dataframe\">\n  <thead>\n    <tr>\n      <th></th>\n      <th colspan=\"9\" halign=\"left\">ypredict</th>\n    </tr>\n    <tr>\n      <th></th>\n      <th>mean</th>\n      <th>min</th>\n      <th>max</th>\n      <th>median</th>\n      <th>std</th>\n      <th>percentil25</th>\n      <th>percentil75</th>\n      <th>kurtosis</th>\n      <th>skew</th>\n    </tr>\n    <tr>\n      <th>video_name</th>\n      <th></th>\n      <th></th>\n      <th></th>\n      <th></th>\n      <th></th>\n      <th></th>\n      <th></th>\n      <th></th>\n      <th></th>\n    </tr>\n  </thead>\n  <tbody>\n    <tr>\n      <th>Test_pour_AFPA</th>\n      <td>0.761905</td>\n      <td>0.0</td>\n      <td>2.0</td>\n      <td>1.0</td>\n      <td>0.462910</td>\n      <td>0.0</td>\n      <td>1.0</td>\n      <td>-0.243775</td>\n      <td>-0.735162</td>\n    </tr>\n    <tr>\n      <th>Video_1</th>\n      <td>0.496689</td>\n      <td>0.0</td>\n      <td>2.0</td>\n      <td>0.0</td>\n      <td>0.514771</td>\n      <td>0.0</td>\n      <td>1.0</td>\n      <td>-1.616264</td>\n      <td>0.160339</td>\n    </tr>\n    <tr>\n      <th>WIN_20210323_19_17_40_Pro</th>\n      <td>1.000000</td>\n      <td>0.0</td>\n      <td>2.0</td>\n      <td>1.0</td>\n      <td>0.189547</td>\n      <td>1.0</td>\n      <td>1.0</td>\n      <td>25.000000</td>\n      <td>0.000000</td>\n    </tr>\n    <tr>\n      <th>WIN_20210329_10_16_02_Pro</th>\n      <td>0.938776</td>\n      <td>0.0</td>\n      <td>1.0</td>\n      <td>1.0</td>\n      <td>0.240561</td>\n      <td>1.0</td>\n      <td>1.0</td>\n      <td>11.398551</td>\n      <td>-3.660403</td>\n    </tr>\n    <tr>\n      <th>WIN_20210330_13_10_29_Pro</th>\n      <td>0.682119</td>\n      <td>0.0</td>\n      <td>1.0</td>\n      <td>1.0</td>\n      <td>0.467202</td>\n      <td>0.0</td>\n      <td>1.0</td>\n      <td>-1.388147</td>\n      <td>-0.782210</td>\n    </tr>\n    <tr>\n      <th>WIN_20210331_21_22_52_Pro</th>\n      <td>0.794118</td>\n      <td>0.0</td>\n      <td>2.0</td>\n      <td>1.0</td>\n      <td>0.433741</td>\n      <td>1.0</td>\n      <td>1.0</td>\n      <td>0.225356</td>\n      <td>-1.009390</td>\n    </tr>\n    <tr>\n      <th>WIN_20210402_19_04_53_Pro</th>\n      <td>0.394286</td>\n      <td>0.0</td>\n      <td>2.0</td>\n      <td>0.0</td>\n      <td>0.513016</td>\n      <td>0.0</td>\n      <td>1.0</td>\n      <td>-0.942580</td>\n      <td>0.687488</td>\n    </tr>\n    <tr>\n      <th>WIN_20210403_18_49_15_Pro</th>\n      <td>0.828729</td>\n      <td>0.0</td>\n      <td>1.0</td>\n      <td>1.0</td>\n      <td>0.377790</td>\n      <td>1.0</td>\n      <td>1.0</td>\n      <td>1.045376</td>\n      <td>-1.745101</td>\n    </tr>\n    <tr>\n      <th>WIN_20210404_10_58_27_Pro</th>\n      <td>0.575000</td>\n      <td>0.0</td>\n      <td>2.0</td>\n      <td>1.0</td>\n      <td>0.505622</td>\n      <td>0.0</td>\n      <td>1.0</td>\n      <td>-1.670073</td>\n      <td>-0.186337</td>\n    </tr>\n    <tr>\n      <th>WIN_20210404_21_41_12_Pro</th>\n      <td>0.439655</td>\n      <td>0.0</td>\n      <td>1.0</td>\n      <td>0.0</td>\n      <td>0.497418</td>\n      <td>0.0</td>\n      <td>1.0</td>\n      <td>-1.940875</td>\n      <td>0.243157</td>\n    </tr>\n    <tr>\n      <th>WIN_20210405_15_09_16_Pro</th>\n      <td>0.754839</td>\n      <td>0.0</td>\n      <td>1.0</td>\n      <td>1.0</td>\n      <td>0.431577</td>\n      <td>1.0</td>\n      <td>1.0</td>\n      <td>-0.596266</td>\n      <td>-1.184793</td>\n    </tr>\n    <tr>\n      <th>WIN_20210406_15_06_15_Pro</th>\n      <td>0.678049</td>\n      <td>0.0</td>\n      <td>1.0</td>\n      <td>1.0</td>\n      <td>0.468368</td>\n      <td>0.0</td>\n      <td>1.0</td>\n      <td>-1.419119</td>\n      <td>-0.762155</td>\n    </tr>\n    <tr>\n      <th>WIN_20210406_18_35_52_Pro</th>\n      <td>0.829114</td>\n      <td>0.0</td>\n      <td>1.0</td>\n      <td>1.0</td>\n      <td>0.377606</td>\n      <td>1.0</td>\n      <td>1.0</td>\n      <td>1.057959</td>\n      <td>-1.748702</td>\n    </tr>\n    <tr>\n      <th>WIN_20210406_18_49_10_Pro</th>\n      <td>0.771930</td>\n      <td>0.0</td>\n      <td>2.0</td>\n      <td>1.0</td>\n      <td>0.460851</td>\n      <td>1.0</td>\n      <td>1.0</td>\n      <td>-0.103975</td>\n      <td>-0.739449</td>\n    </tr>\n    <tr>\n      <th>WIN_20210406_21_05_52_Pro</th>\n      <td>0.994595</td>\n      <td>0.0</td>\n      <td>2.0</td>\n      <td>1.0</td>\n      <td>0.221097</td>\n      <td>1.0</td>\n      <td>1.0</td>\n      <td>17.534434</td>\n      <td>-0.430654</td>\n    </tr>\n    <tr>\n      <th>WIN_20210407_09_04_05_Pro</th>\n      <td>0.052356</td>\n      <td>0.0</td>\n      <td>2.0</td>\n      <td>0.0</td>\n      <td>0.285403</td>\n      <td>0.0</td>\n      <td>0.0</td>\n      <td>33.996628</td>\n      <td>5.797763</td>\n    </tr>\n    <tr>\n      <th>WIN_20210407_14_54_56_Pro_edit2</th>\n      <td>0.584906</td>\n      <td>0.0</td>\n      <td>1.0</td>\n      <td>1.0</td>\n      <td>0.494295</td>\n      <td>0.0</td>\n      <td>1.0</td>\n      <td>-1.881232</td>\n      <td>-0.344628</td>\n    </tr>\n    <tr>\n      <th>WIN_20210408_11_48_58_Pro</th>\n      <td>0.720000</td>\n      <td>0.0</td>\n      <td>2.0</td>\n      <td>1.0</td>\n      <td>0.469422</td>\n      <td>0.0</td>\n      <td>1.0</td>\n      <td>-0.801367</td>\n      <td>-0.717951</td>\n    </tr>\n    <tr>\n      <th>WIN_20210408_14_00_44_Pro</th>\n      <td>0.488764</td>\n      <td>0.0</td>\n      <td>1.0</td>\n      <td>0.0</td>\n      <td>0.501284</td>\n      <td>0.0</td>\n      <td>1.0</td>\n      <td>-1.997979</td>\n      <td>0.044955</td>\n    </tr>\n    <tr>\n      <th>WIN_20210408_14_02_19_Pro</th>\n      <td>1.000000</td>\n      <td>1.0</td>\n      <td>1.0</td>\n      <td>1.0</td>\n      <td>0.000000</td>\n      <td>1.0</td>\n      <td>1.0</td>\n      <td>-3.000000</td>\n      <td>0.000000</td>\n    </tr>\n    <tr>\n      <th>WIN_20210408_14_11_32_Pro</th>\n      <td>0.480769</td>\n      <td>0.0</td>\n      <td>1.0</td>\n      <td>0.0</td>\n      <td>0.501239</td>\n      <td>0.0</td>\n      <td>1.0</td>\n      <td>-1.994074</td>\n      <td>0.076980</td>\n    </tr>\n    <tr>\n      <th>WIN_20210408_15_20_51_Pro</th>\n      <td>1.382353</td>\n      <td>0.0</td>\n      <td>2.0</td>\n      <td>2.0</td>\n      <td>0.769417</td>\n      <td>1.0</td>\n      <td>2.0</td>\n      <td>-0.892533</td>\n      <td>-0.772479</td>\n    </tr>\n    <tr>\n      <th>WIN_20210408_16_04_32_Pro</th>\n      <td>0.729412</td>\n      <td>0.0</td>\n      <td>2.0</td>\n      <td>1.0</td>\n      <td>0.519176</td>\n      <td>0.0</td>\n      <td>1.0</td>\n      <td>-0.463802</td>\n      <td>-0.239763</td>\n    </tr>\n    <tr>\n      <th>WIN_20210409_10_26_11_Pro</th>\n      <td>0.913295</td>\n      <td>0.0</td>\n      <td>1.0</td>\n      <td>1.0</td>\n      <td>0.282219</td>\n      <td>1.0</td>\n      <td>1.0</td>\n      <td>6.628270</td>\n      <td>-2.937392</td>\n    </tr>\n    <tr>\n      <th>WIN_20210413_15_38_01_Pro</th>\n      <td>0.815029</td>\n      <td>0.0</td>\n      <td>1.0</td>\n      <td>1.0</td>\n      <td>0.389401</td>\n      <td>1.0</td>\n      <td>1.0</td>\n      <td>0.633200</td>\n      <td>-1.622714</td>\n    </tr>\n    <tr>\n      <th>WIN_20210414_06_24_52_Pro</th>\n      <td>0.787565</td>\n      <td>0.0</td>\n      <td>1.0</td>\n      <td>1.0</td>\n      <td>0.410095</td>\n      <td>1.0</td>\n      <td>1.0</td>\n      <td>-0.022946</td>\n      <td>-1.406077</td>\n    </tr>\n    <tr>\n      <th>WIN_20210415_15_41_24_Pro</th>\n      <td>0.442396</td>\n      <td>0.0</td>\n      <td>2.0</td>\n      <td>0.0</td>\n      <td>0.507034</td>\n      <td>0.0</td>\n      <td>1.0</td>\n      <td>-1.617426</td>\n      <td>0.338642</td>\n    </tr>\n    <tr>\n      <th>WIN_20210416_08_06_54_Pro</th>\n      <td>0.895706</td>\n      <td>0.0</td>\n      <td>2.0</td>\n      <td>1.0</td>\n      <td>0.614772</td>\n      <td>1.0</td>\n      <td>1.0</td>\n      <td>-0.392790</td>\n      <td>0.062407</td>\n    </tr>\n    <tr>\n      <th>WIN_20210417_14_53_12_Pro</th>\n      <td>0.320611</td>\n      <td>0.0</td>\n      <td>2.0</td>\n      <td>0.0</td>\n      <td>0.484644</td>\n      <td>0.0</td>\n      <td>1.0</td>\n      <td>-0.551382</td>\n      <td>0.970977</td>\n    </tr>\n  </tbody>\n</table>\n</div>"
     },
     "metadata": {},
     "execution_count": 17
    }
   ],
   "source": [
    "X_glob_minmax"
   ]
  },
  {
   "cell_type": "code",
   "execution_count": 18,
   "metadata": {},
   "outputs": [
    {
     "output_type": "execute_result",
     "data": {
      "text/plain": [
       "                         video_name  stress_global\n",
       "0                    Test_pour_AFPA            1.0\n",
       "1                           Video_1            0.0\n",
       "2         WIN_20210323_19_17_40_Pro            1.0\n",
       "3         WIN_20210329_10_16_02_Pro            1.0\n",
       "4         WIN_20210330_13_10_29_Pro            0.0\n",
       "5         WIN_20210331_21_22_52_Pro            1.0\n",
       "6         WIN_20210402_14_27_50_Pro            1.0\n",
       "7         WIN_20210402_19_04_53_Pro            2.0\n",
       "8         WIN_20210403_18_49_15_Pro            2.0\n",
       "9         WIN_20210404_10_58_27_Pro            1.0\n",
       "10        WIN_20210404_21_41_12_Pro            0.0\n",
       "11        WIN_20210405_15_09_16_Pro            1.0\n",
       "12        WIN_20210406_15_06_15_Pro            2.0\n",
       "13        WIN_20210406_18_35_52_Pro            0.0\n",
       "14        WIN_20210406_18_49_10_Pro            1.0\n",
       "15        WIN_20210406_21_05_52_Pro            2.0\n",
       "16        WIN_20210407_09_04_05_Pro            2.0\n",
       "17  WIN_20210407_14_54_56_Pro_edit2            0.0\n",
       "18        WIN_20210408_11_48_58_Pro            2.0\n",
       "19        WIN_20210408_14_00_44_Pro            0.0\n",
       "20        WIN_20210408_14_02_19_Pro            0.0\n",
       "21        WIN_20210408_14_11_32_Pro            2.0\n",
       "22        WIN_20210408_15_20_51_Pro            0.0\n",
       "23        WIN_20210408_16_04_32_Pro            0.0\n",
       "24        WIN_20210409_10_26_11_Pro            0.0\n",
       "25        WIN_20210413_15_38_01_Pro            1.0\n",
       "26        WIN_20210414_06_24_52_Pro            2.0\n",
       "27        WIN_20210415_15_41_24_Pro            0.0\n",
       "28        WIN_20210416_08_06_54_Pro            1.0\n",
       "29        WIN_20210417_14_53_12_Pro            0.0"
      ],
      "text/html": "<div>\n<style scoped>\n    .dataframe tbody tr th:only-of-type {\n        vertical-align: middle;\n    }\n\n    .dataframe tbody tr th {\n        vertical-align: top;\n    }\n\n    .dataframe thead th {\n        text-align: right;\n    }\n</style>\n<table border=\"1\" class=\"dataframe\">\n  <thead>\n    <tr style=\"text-align: right;\">\n      <th></th>\n      <th>video_name</th>\n      <th>stress_global</th>\n    </tr>\n  </thead>\n  <tbody>\n    <tr>\n      <th>0</th>\n      <td>Test_pour_AFPA</td>\n      <td>1.0</td>\n    </tr>\n    <tr>\n      <th>1</th>\n      <td>Video_1</td>\n      <td>0.0</td>\n    </tr>\n    <tr>\n      <th>2</th>\n      <td>WIN_20210323_19_17_40_Pro</td>\n      <td>1.0</td>\n    </tr>\n    <tr>\n      <th>3</th>\n      <td>WIN_20210329_10_16_02_Pro</td>\n      <td>1.0</td>\n    </tr>\n    <tr>\n      <th>4</th>\n      <td>WIN_20210330_13_10_29_Pro</td>\n      <td>0.0</td>\n    </tr>\n    <tr>\n      <th>5</th>\n      <td>WIN_20210331_21_22_52_Pro</td>\n      <td>1.0</td>\n    </tr>\n    <tr>\n      <th>6</th>\n      <td>WIN_20210402_14_27_50_Pro</td>\n      <td>1.0</td>\n    </tr>\n    <tr>\n      <th>7</th>\n      <td>WIN_20210402_19_04_53_Pro</td>\n      <td>2.0</td>\n    </tr>\n    <tr>\n      <th>8</th>\n      <td>WIN_20210403_18_49_15_Pro</td>\n      <td>2.0</td>\n    </tr>\n    <tr>\n      <th>9</th>\n      <td>WIN_20210404_10_58_27_Pro</td>\n      <td>1.0</td>\n    </tr>\n    <tr>\n      <th>10</th>\n      <td>WIN_20210404_21_41_12_Pro</td>\n      <td>0.0</td>\n    </tr>\n    <tr>\n      <th>11</th>\n      <td>WIN_20210405_15_09_16_Pro</td>\n      <td>1.0</td>\n    </tr>\n    <tr>\n      <th>12</th>\n      <td>WIN_20210406_15_06_15_Pro</td>\n      <td>2.0</td>\n    </tr>\n    <tr>\n      <th>13</th>\n      <td>WIN_20210406_18_35_52_Pro</td>\n      <td>0.0</td>\n    </tr>\n    <tr>\n      <th>14</th>\n      <td>WIN_20210406_18_49_10_Pro</td>\n      <td>1.0</td>\n    </tr>\n    <tr>\n      <th>15</th>\n      <td>WIN_20210406_21_05_52_Pro</td>\n      <td>2.0</td>\n    </tr>\n    <tr>\n      <th>16</th>\n      <td>WIN_20210407_09_04_05_Pro</td>\n      <td>2.0</td>\n    </tr>\n    <tr>\n      <th>17</th>\n      <td>WIN_20210407_14_54_56_Pro_edit2</td>\n      <td>0.0</td>\n    </tr>\n    <tr>\n      <th>18</th>\n      <td>WIN_20210408_11_48_58_Pro</td>\n      <td>2.0</td>\n    </tr>\n    <tr>\n      <th>19</th>\n      <td>WIN_20210408_14_00_44_Pro</td>\n      <td>0.0</td>\n    </tr>\n    <tr>\n      <th>20</th>\n      <td>WIN_20210408_14_02_19_Pro</td>\n      <td>0.0</td>\n    </tr>\n    <tr>\n      <th>21</th>\n      <td>WIN_20210408_14_11_32_Pro</td>\n      <td>2.0</td>\n    </tr>\n    <tr>\n      <th>22</th>\n      <td>WIN_20210408_15_20_51_Pro</td>\n      <td>0.0</td>\n    </tr>\n    <tr>\n      <th>23</th>\n      <td>WIN_20210408_16_04_32_Pro</td>\n      <td>0.0</td>\n    </tr>\n    <tr>\n      <th>24</th>\n      <td>WIN_20210409_10_26_11_Pro</td>\n      <td>0.0</td>\n    </tr>\n    <tr>\n      <th>25</th>\n      <td>WIN_20210413_15_38_01_Pro</td>\n      <td>1.0</td>\n    </tr>\n    <tr>\n      <th>26</th>\n      <td>WIN_20210414_06_24_52_Pro</td>\n      <td>2.0</td>\n    </tr>\n    <tr>\n      <th>27</th>\n      <td>WIN_20210415_15_41_24_Pro</td>\n      <td>0.0</td>\n    </tr>\n    <tr>\n      <th>28</th>\n      <td>WIN_20210416_08_06_54_Pro</td>\n      <td>1.0</td>\n    </tr>\n    <tr>\n      <th>29</th>\n      <td>WIN_20210417_14_53_12_Pro</td>\n      <td>0.0</td>\n    </tr>\n  </tbody>\n</table>\n</div>"
     },
     "metadata": {},
     "execution_count": 18
    }
   ],
   "source": [
    "#questo e' lo stress vero per diapositiva\n",
    "#recuperalo stress globale vero \n",
    "df_annotations_stress = pd.read_csv('annotations.csv')\n",
    "df_annotations_stress = df_annotations_stress.drop(['1', '8', '9', '10', '11', '12', '17', '18'], axis =1)\n",
    "df_annotations_stress"
   ]
  },
  {
   "cell_type": "code",
   "execution_count": 19,
   "metadata": {},
   "outputs": [
    {
     "output_type": "execute_result",
     "data": {
      "text/plain": [
       "                         video_name  (ypredict, mean)  (ypredict, min)  \\\n",
       "0                    Test_pour_AFPA          0.761905              0.0   \n",
       "1                           Video_1          0.496689              0.0   \n",
       "2         WIN_20210323_19_17_40_Pro          1.000000              0.0   \n",
       "3         WIN_20210329_10_16_02_Pro          0.938776              0.0   \n",
       "4         WIN_20210330_13_10_29_Pro          0.682119              0.0   \n",
       "5         WIN_20210331_21_22_52_Pro          0.794118              0.0   \n",
       "6         WIN_20210402_19_04_53_Pro          0.394286              0.0   \n",
       "7         WIN_20210403_18_49_15_Pro          0.828729              0.0   \n",
       "8         WIN_20210404_10_58_27_Pro          0.575000              0.0   \n",
       "9         WIN_20210404_21_41_12_Pro          0.439655              0.0   \n",
       "10        WIN_20210405_15_09_16_Pro          0.754839              0.0   \n",
       "11        WIN_20210406_15_06_15_Pro          0.678049              0.0   \n",
       "12        WIN_20210406_18_35_52_Pro          0.829114              0.0   \n",
       "13        WIN_20210406_18_49_10_Pro          0.771930              0.0   \n",
       "14        WIN_20210406_21_05_52_Pro          0.994595              0.0   \n",
       "15        WIN_20210407_09_04_05_Pro          0.052356              0.0   \n",
       "16  WIN_20210407_14_54_56_Pro_edit2          0.584906              0.0   \n",
       "17        WIN_20210408_11_48_58_Pro          0.720000              0.0   \n",
       "18        WIN_20210408_14_00_44_Pro          0.488764              0.0   \n",
       "19        WIN_20210408_14_02_19_Pro          1.000000              1.0   \n",
       "20        WIN_20210408_14_11_32_Pro          0.480769              0.0   \n",
       "21        WIN_20210408_15_20_51_Pro          1.382353              0.0   \n",
       "22        WIN_20210408_16_04_32_Pro          0.729412              0.0   \n",
       "23        WIN_20210409_10_26_11_Pro          0.913295              0.0   \n",
       "24        WIN_20210413_15_38_01_Pro          0.815029              0.0   \n",
       "25        WIN_20210414_06_24_52_Pro          0.787565              0.0   \n",
       "26        WIN_20210415_15_41_24_Pro          0.442396              0.0   \n",
       "27        WIN_20210416_08_06_54_Pro          0.895706              0.0   \n",
       "28        WIN_20210417_14_53_12_Pro          0.320611              0.0   \n",
       "\n",
       "    (ypredict, max)  (ypredict, median)  (ypredict, std)  \\\n",
       "0               2.0                 1.0         0.462910   \n",
       "1               2.0                 0.0         0.514771   \n",
       "2               2.0                 1.0         0.189547   \n",
       "3               1.0                 1.0         0.240561   \n",
       "4               1.0                 1.0         0.467202   \n",
       "5               2.0                 1.0         0.433741   \n",
       "6               2.0                 0.0         0.513016   \n",
       "7               1.0                 1.0         0.377790   \n",
       "8               2.0                 1.0         0.505622   \n",
       "9               1.0                 0.0         0.497418   \n",
       "10              1.0                 1.0         0.431577   \n",
       "11              1.0                 1.0         0.468368   \n",
       "12              1.0                 1.0         0.377606   \n",
       "13              2.0                 1.0         0.460851   \n",
       "14              2.0                 1.0         0.221097   \n",
       "15              2.0                 0.0         0.285403   \n",
       "16              1.0                 1.0         0.494295   \n",
       "17              2.0                 1.0         0.469422   \n",
       "18              1.0                 0.0         0.501284   \n",
       "19              1.0                 1.0         0.000000   \n",
       "20              1.0                 0.0         0.501239   \n",
       "21              2.0                 2.0         0.769417   \n",
       "22              2.0                 1.0         0.519176   \n",
       "23              1.0                 1.0         0.282219   \n",
       "24              1.0                 1.0         0.389401   \n",
       "25              1.0                 1.0         0.410095   \n",
       "26              2.0                 0.0         0.507034   \n",
       "27              2.0                 1.0         0.614772   \n",
       "28              2.0                 0.0         0.484644   \n",
       "\n",
       "    (ypredict, percentil25)  (ypredict, percentil75)  (ypredict, kurtosis)  \\\n",
       "0                       0.0                      1.0             -0.243775   \n",
       "1                       0.0                      1.0             -1.616264   \n",
       "2                       1.0                      1.0             25.000000   \n",
       "3                       1.0                      1.0             11.398551   \n",
       "4                       0.0                      1.0             -1.388147   \n",
       "5                       1.0                      1.0              0.225356   \n",
       "6                       0.0                      1.0             -0.942580   \n",
       "7                       1.0                      1.0              1.045376   \n",
       "8                       0.0                      1.0             -1.670073   \n",
       "9                       0.0                      1.0             -1.940875   \n",
       "10                      1.0                      1.0             -0.596266   \n",
       "11                      0.0                      1.0             -1.419119   \n",
       "12                      1.0                      1.0              1.057959   \n",
       "13                      1.0                      1.0             -0.103975   \n",
       "14                      1.0                      1.0             17.534434   \n",
       "15                      0.0                      0.0             33.996628   \n",
       "16                      0.0                      1.0             -1.881232   \n",
       "17                      0.0                      1.0             -0.801367   \n",
       "18                      0.0                      1.0             -1.997979   \n",
       "19                      1.0                      1.0             -3.000000   \n",
       "20                      0.0                      1.0             -1.994074   \n",
       "21                      1.0                      2.0             -0.892533   \n",
       "22                      0.0                      1.0             -0.463802   \n",
       "23                      1.0                      1.0              6.628270   \n",
       "24                      1.0                      1.0              0.633200   \n",
       "25                      1.0                      1.0             -0.022946   \n",
       "26                      0.0                      1.0             -1.617426   \n",
       "27                      1.0                      1.0             -0.392790   \n",
       "28                      0.0                      1.0             -0.551382   \n",
       "\n",
       "    (ypredict, skew)  stress_global  \n",
       "0          -0.735162            1.0  \n",
       "1           0.160339            0.0  \n",
       "2           0.000000            1.0  \n",
       "3          -3.660403            1.0  \n",
       "4          -0.782210            0.0  \n",
       "5          -1.009390            1.0  \n",
       "6           0.687488            2.0  \n",
       "7          -1.745101            2.0  \n",
       "8          -0.186337            1.0  \n",
       "9           0.243157            0.0  \n",
       "10         -1.184793            1.0  \n",
       "11         -0.762155            2.0  \n",
       "12         -1.748702            0.0  \n",
       "13         -0.739449            1.0  \n",
       "14         -0.430654            2.0  \n",
       "15          5.797763            2.0  \n",
       "16         -0.344628            0.0  \n",
       "17         -0.717951            2.0  \n",
       "18          0.044955            0.0  \n",
       "19          0.000000            0.0  \n",
       "20          0.076980            2.0  \n",
       "21         -0.772479            0.0  \n",
       "22         -0.239763            0.0  \n",
       "23         -2.937392            0.0  \n",
       "24         -1.622714            1.0  \n",
       "25         -1.406077            2.0  \n",
       "26          0.338642            0.0  \n",
       "27          0.062407            1.0  \n",
       "28          0.970977            0.0  "
      ],
      "text/html": "<div>\n<style scoped>\n    .dataframe tbody tr th:only-of-type {\n        vertical-align: middle;\n    }\n\n    .dataframe tbody tr th {\n        vertical-align: top;\n    }\n\n    .dataframe thead th {\n        text-align: right;\n    }\n</style>\n<table border=\"1\" class=\"dataframe\">\n  <thead>\n    <tr style=\"text-align: right;\">\n      <th></th>\n      <th>video_name</th>\n      <th>(ypredict, mean)</th>\n      <th>(ypredict, min)</th>\n      <th>(ypredict, max)</th>\n      <th>(ypredict, median)</th>\n      <th>(ypredict, std)</th>\n      <th>(ypredict, percentil25)</th>\n      <th>(ypredict, percentil75)</th>\n      <th>(ypredict, kurtosis)</th>\n      <th>(ypredict, skew)</th>\n      <th>stress_global</th>\n    </tr>\n  </thead>\n  <tbody>\n    <tr>\n      <th>0</th>\n      <td>Test_pour_AFPA</td>\n      <td>0.761905</td>\n      <td>0.0</td>\n      <td>2.0</td>\n      <td>1.0</td>\n      <td>0.462910</td>\n      <td>0.0</td>\n      <td>1.0</td>\n      <td>-0.243775</td>\n      <td>-0.735162</td>\n      <td>1.0</td>\n    </tr>\n    <tr>\n      <th>1</th>\n      <td>Video_1</td>\n      <td>0.496689</td>\n      <td>0.0</td>\n      <td>2.0</td>\n      <td>0.0</td>\n      <td>0.514771</td>\n      <td>0.0</td>\n      <td>1.0</td>\n      <td>-1.616264</td>\n      <td>0.160339</td>\n      <td>0.0</td>\n    </tr>\n    <tr>\n      <th>2</th>\n      <td>WIN_20210323_19_17_40_Pro</td>\n      <td>1.000000</td>\n      <td>0.0</td>\n      <td>2.0</td>\n      <td>1.0</td>\n      <td>0.189547</td>\n      <td>1.0</td>\n      <td>1.0</td>\n      <td>25.000000</td>\n      <td>0.000000</td>\n      <td>1.0</td>\n    </tr>\n    <tr>\n      <th>3</th>\n      <td>WIN_20210329_10_16_02_Pro</td>\n      <td>0.938776</td>\n      <td>0.0</td>\n      <td>1.0</td>\n      <td>1.0</td>\n      <td>0.240561</td>\n      <td>1.0</td>\n      <td>1.0</td>\n      <td>11.398551</td>\n      <td>-3.660403</td>\n      <td>1.0</td>\n    </tr>\n    <tr>\n      <th>4</th>\n      <td>WIN_20210330_13_10_29_Pro</td>\n      <td>0.682119</td>\n      <td>0.0</td>\n      <td>1.0</td>\n      <td>1.0</td>\n      <td>0.467202</td>\n      <td>0.0</td>\n      <td>1.0</td>\n      <td>-1.388147</td>\n      <td>-0.782210</td>\n      <td>0.0</td>\n    </tr>\n    <tr>\n      <th>5</th>\n      <td>WIN_20210331_21_22_52_Pro</td>\n      <td>0.794118</td>\n      <td>0.0</td>\n      <td>2.0</td>\n      <td>1.0</td>\n      <td>0.433741</td>\n      <td>1.0</td>\n      <td>1.0</td>\n      <td>0.225356</td>\n      <td>-1.009390</td>\n      <td>1.0</td>\n    </tr>\n    <tr>\n      <th>6</th>\n      <td>WIN_20210402_19_04_53_Pro</td>\n      <td>0.394286</td>\n      <td>0.0</td>\n      <td>2.0</td>\n      <td>0.0</td>\n      <td>0.513016</td>\n      <td>0.0</td>\n      <td>1.0</td>\n      <td>-0.942580</td>\n      <td>0.687488</td>\n      <td>2.0</td>\n    </tr>\n    <tr>\n      <th>7</th>\n      <td>WIN_20210403_18_49_15_Pro</td>\n      <td>0.828729</td>\n      <td>0.0</td>\n      <td>1.0</td>\n      <td>1.0</td>\n      <td>0.377790</td>\n      <td>1.0</td>\n      <td>1.0</td>\n      <td>1.045376</td>\n      <td>-1.745101</td>\n      <td>2.0</td>\n    </tr>\n    <tr>\n      <th>8</th>\n      <td>WIN_20210404_10_58_27_Pro</td>\n      <td>0.575000</td>\n      <td>0.0</td>\n      <td>2.0</td>\n      <td>1.0</td>\n      <td>0.505622</td>\n      <td>0.0</td>\n      <td>1.0</td>\n      <td>-1.670073</td>\n      <td>-0.186337</td>\n      <td>1.0</td>\n    </tr>\n    <tr>\n      <th>9</th>\n      <td>WIN_20210404_21_41_12_Pro</td>\n      <td>0.439655</td>\n      <td>0.0</td>\n      <td>1.0</td>\n      <td>0.0</td>\n      <td>0.497418</td>\n      <td>0.0</td>\n      <td>1.0</td>\n      <td>-1.940875</td>\n      <td>0.243157</td>\n      <td>0.0</td>\n    </tr>\n    <tr>\n      <th>10</th>\n      <td>WIN_20210405_15_09_16_Pro</td>\n      <td>0.754839</td>\n      <td>0.0</td>\n      <td>1.0</td>\n      <td>1.0</td>\n      <td>0.431577</td>\n      <td>1.0</td>\n      <td>1.0</td>\n      <td>-0.596266</td>\n      <td>-1.184793</td>\n      <td>1.0</td>\n    </tr>\n    <tr>\n      <th>11</th>\n      <td>WIN_20210406_15_06_15_Pro</td>\n      <td>0.678049</td>\n      <td>0.0</td>\n      <td>1.0</td>\n      <td>1.0</td>\n      <td>0.468368</td>\n      <td>0.0</td>\n      <td>1.0</td>\n      <td>-1.419119</td>\n      <td>-0.762155</td>\n      <td>2.0</td>\n    </tr>\n    <tr>\n      <th>12</th>\n      <td>WIN_20210406_18_35_52_Pro</td>\n      <td>0.829114</td>\n      <td>0.0</td>\n      <td>1.0</td>\n      <td>1.0</td>\n      <td>0.377606</td>\n      <td>1.0</td>\n      <td>1.0</td>\n      <td>1.057959</td>\n      <td>-1.748702</td>\n      <td>0.0</td>\n    </tr>\n    <tr>\n      <th>13</th>\n      <td>WIN_20210406_18_49_10_Pro</td>\n      <td>0.771930</td>\n      <td>0.0</td>\n      <td>2.0</td>\n      <td>1.0</td>\n      <td>0.460851</td>\n      <td>1.0</td>\n      <td>1.0</td>\n      <td>-0.103975</td>\n      <td>-0.739449</td>\n      <td>1.0</td>\n    </tr>\n    <tr>\n      <th>14</th>\n      <td>WIN_20210406_21_05_52_Pro</td>\n      <td>0.994595</td>\n      <td>0.0</td>\n      <td>2.0</td>\n      <td>1.0</td>\n      <td>0.221097</td>\n      <td>1.0</td>\n      <td>1.0</td>\n      <td>17.534434</td>\n      <td>-0.430654</td>\n      <td>2.0</td>\n    </tr>\n    <tr>\n      <th>15</th>\n      <td>WIN_20210407_09_04_05_Pro</td>\n      <td>0.052356</td>\n      <td>0.0</td>\n      <td>2.0</td>\n      <td>0.0</td>\n      <td>0.285403</td>\n      <td>0.0</td>\n      <td>0.0</td>\n      <td>33.996628</td>\n      <td>5.797763</td>\n      <td>2.0</td>\n    </tr>\n    <tr>\n      <th>16</th>\n      <td>WIN_20210407_14_54_56_Pro_edit2</td>\n      <td>0.584906</td>\n      <td>0.0</td>\n      <td>1.0</td>\n      <td>1.0</td>\n      <td>0.494295</td>\n      <td>0.0</td>\n      <td>1.0</td>\n      <td>-1.881232</td>\n      <td>-0.344628</td>\n      <td>0.0</td>\n    </tr>\n    <tr>\n      <th>17</th>\n      <td>WIN_20210408_11_48_58_Pro</td>\n      <td>0.720000</td>\n      <td>0.0</td>\n      <td>2.0</td>\n      <td>1.0</td>\n      <td>0.469422</td>\n      <td>0.0</td>\n      <td>1.0</td>\n      <td>-0.801367</td>\n      <td>-0.717951</td>\n      <td>2.0</td>\n    </tr>\n    <tr>\n      <th>18</th>\n      <td>WIN_20210408_14_00_44_Pro</td>\n      <td>0.488764</td>\n      <td>0.0</td>\n      <td>1.0</td>\n      <td>0.0</td>\n      <td>0.501284</td>\n      <td>0.0</td>\n      <td>1.0</td>\n      <td>-1.997979</td>\n      <td>0.044955</td>\n      <td>0.0</td>\n    </tr>\n    <tr>\n      <th>19</th>\n      <td>WIN_20210408_14_02_19_Pro</td>\n      <td>1.000000</td>\n      <td>1.0</td>\n      <td>1.0</td>\n      <td>1.0</td>\n      <td>0.000000</td>\n      <td>1.0</td>\n      <td>1.0</td>\n      <td>-3.000000</td>\n      <td>0.000000</td>\n      <td>0.0</td>\n    </tr>\n    <tr>\n      <th>20</th>\n      <td>WIN_20210408_14_11_32_Pro</td>\n      <td>0.480769</td>\n      <td>0.0</td>\n      <td>1.0</td>\n      <td>0.0</td>\n      <td>0.501239</td>\n      <td>0.0</td>\n      <td>1.0</td>\n      <td>-1.994074</td>\n      <td>0.076980</td>\n      <td>2.0</td>\n    </tr>\n    <tr>\n      <th>21</th>\n      <td>WIN_20210408_15_20_51_Pro</td>\n      <td>1.382353</td>\n      <td>0.0</td>\n      <td>2.0</td>\n      <td>2.0</td>\n      <td>0.769417</td>\n      <td>1.0</td>\n      <td>2.0</td>\n      <td>-0.892533</td>\n      <td>-0.772479</td>\n      <td>0.0</td>\n    </tr>\n    <tr>\n      <th>22</th>\n      <td>WIN_20210408_16_04_32_Pro</td>\n      <td>0.729412</td>\n      <td>0.0</td>\n      <td>2.0</td>\n      <td>1.0</td>\n      <td>0.519176</td>\n      <td>0.0</td>\n      <td>1.0</td>\n      <td>-0.463802</td>\n      <td>-0.239763</td>\n      <td>0.0</td>\n    </tr>\n    <tr>\n      <th>23</th>\n      <td>WIN_20210409_10_26_11_Pro</td>\n      <td>0.913295</td>\n      <td>0.0</td>\n      <td>1.0</td>\n      <td>1.0</td>\n      <td>0.282219</td>\n      <td>1.0</td>\n      <td>1.0</td>\n      <td>6.628270</td>\n      <td>-2.937392</td>\n      <td>0.0</td>\n    </tr>\n    <tr>\n      <th>24</th>\n      <td>WIN_20210413_15_38_01_Pro</td>\n      <td>0.815029</td>\n      <td>0.0</td>\n      <td>1.0</td>\n      <td>1.0</td>\n      <td>0.389401</td>\n      <td>1.0</td>\n      <td>1.0</td>\n      <td>0.633200</td>\n      <td>-1.622714</td>\n      <td>1.0</td>\n    </tr>\n    <tr>\n      <th>25</th>\n      <td>WIN_20210414_06_24_52_Pro</td>\n      <td>0.787565</td>\n      <td>0.0</td>\n      <td>1.0</td>\n      <td>1.0</td>\n      <td>0.410095</td>\n      <td>1.0</td>\n      <td>1.0</td>\n      <td>-0.022946</td>\n      <td>-1.406077</td>\n      <td>2.0</td>\n    </tr>\n    <tr>\n      <th>26</th>\n      <td>WIN_20210415_15_41_24_Pro</td>\n      <td>0.442396</td>\n      <td>0.0</td>\n      <td>2.0</td>\n      <td>0.0</td>\n      <td>0.507034</td>\n      <td>0.0</td>\n      <td>1.0</td>\n      <td>-1.617426</td>\n      <td>0.338642</td>\n      <td>0.0</td>\n    </tr>\n    <tr>\n      <th>27</th>\n      <td>WIN_20210416_08_06_54_Pro</td>\n      <td>0.895706</td>\n      <td>0.0</td>\n      <td>2.0</td>\n      <td>1.0</td>\n      <td>0.614772</td>\n      <td>1.0</td>\n      <td>1.0</td>\n      <td>-0.392790</td>\n      <td>0.062407</td>\n      <td>1.0</td>\n    </tr>\n    <tr>\n      <th>28</th>\n      <td>WIN_20210417_14_53_12_Pro</td>\n      <td>0.320611</td>\n      <td>0.0</td>\n      <td>2.0</td>\n      <td>0.0</td>\n      <td>0.484644</td>\n      <td>0.0</td>\n      <td>1.0</td>\n      <td>-0.551382</td>\n      <td>0.970977</td>\n      <td>0.0</td>\n    </tr>\n  </tbody>\n</table>\n</div>"
     },
     "metadata": {},
     "execution_count": 19
    }
   ],
   "source": [
    "X_glob_minmaxy = X_glob_minmax.merge(df_annotations_stress, how='inner', on=['video_name'])\n",
    "X_glob_minmax = X_glob_minmaxy.iloc[:,:-1].set_index(['video_name'])\n",
    "y_glob_minmax = X_glob_minmaxy.iloc[:,-1]\n",
    "X_glob_minmaxy"
   ]
  },
  {
   "cell_type": "code",
   "execution_count": 31,
   "metadata": {},
   "outputs": [],
   "source": [
    "from sklearn.linear_model import LogisticRegression\n",
    "from sklearn.neighbors import KNeighborsClassifier\n",
    "from sklearn.ensemble import RandomForestClassifier\n",
    "from sklearn.model_selection import LeaveOneGroupOut\n",
    "from sklearn.decomposition import PCA\n",
    "from sklearn.pipeline import Pipeline\n",
    "\n",
    "pca = PCA()\n",
    "pipe = Pipeline(steps=[('pca', pca), ('logistic', LogisticRegression(multi_class='multinomial', fit_intercept=True, random_state=42))])\n",
    "\n",
    "models_list = [\n",
    "                LogisticRegression(multi_class='multinomial', fit_intercept=True, random_state=42),\n",
    "                Pipeline(steps=[('pca', pca), ('logistic', LogisticRegression(multi_class='multinomial', fit_intercept=True))]),\n",
    "                KNeighborsClassifier(),\n",
    "                Pipeline(steps=[('pca', pca), ('knn', KNeighborsClassifier())]),\n",
    "                RandomForestClassifier(random_state = 42, n_jobs=-1)\n",
    "                ]\n",
    "\n",
    "parameters_list = [\n",
    "                    {'C': [0.01, 0.05, 0.1, 0.5, 1, 2, 3, 4 , 5, 10], 'class_weight' : [None, 'balanced']},\n",
    "                    {'pca__n_components': [1, 2, 3, 4],\n",
    "                        'logistic__C': [0.01, 0.05, 0.1, 0.5, 1, 2, 3, 4 , 5, 10], 'logistic__class_weight' : [None, 'balanced']},\n",
    "                    {'n_neighbors': [4, 5, 6, 7, 8, 9, 10, 11, 12,  15, 20], 'weights' : ['uniform', 'distance'], 'p': [1, 2]},\n",
    "                    {'pca__n_components': [1, 2, 3, 4],\n",
    "                        'knn__n_neighbors': [4, 5, 6, 7, 8, 9, 10, 11, 12,  15, 20], 'knn__weights' : ['uniform', 'distance'],                              'knn__p': [1, 2]},\n",
    "                    {'n_estimators': [50, 100, 150, 200], 'max_depth':[3, 4, 5, 6, 10, 15, 20], 'class_weight':[None,'balanced']}\n",
    "                    ]\n",
    "\n"
   ]
  },
  {
   "cell_type": "code",
   "execution_count": 20,
   "metadata": {},
   "outputs": [
    {
     "output_type": "stream",
     "name": "stdout",
     "text": [
      "Fitting 5 folds for each of 20 candidates, totalling 100 fits\n",
      "Best estimator LogisticRegression(C=0.01, multi_class='multinomial', random_state=42)\n",
      "Best results 0.3038888888888889\n",
      "Best params {'C': 0.01, 'class_weight': None}\n",
      "accuracy (mean, std) 0.4133333333333333 0.07483314773547883\n",
      "f1 (mean, std) 0.3038888888888889 0.09371681826491533\n",
      "balanced accuracy (mean, std) 0.3444444444444444 0.0888888888888889\n",
      "precision (mean, std) 0.26888888888888884 0.12360830209043003\n",
      "recall (mean, std) 0.4133333333333333 0.07483314773547883\n",
      "\n",
      "Fitting 5 folds for each of 80 candidates, totalling 400 fits\n",
      "Best estimator Pipeline(steps=[('pca', PCA(n_components=3)),\n",
      "                ('logistic',\n",
      "                 LogisticRegression(C=1, class_weight='balanced',\n",
      "                                    multi_class='multinomial'))])\n",
      "Best results 0.3394444444444444\n",
      "Best params {'logistic__C': 1, 'logistic__class_weight': 'balanced', 'pca__n_components': 3}\n",
      "accuracy (mean, std) 0.4133333333333333 0.22370615647416692\n",
      "f1 (mean, std) 0.3394444444444444 0.17899237862249406\n",
      "balanced accuracy (mean, std) 0.3888888888888889 0.2222222222222222\n",
      "precision (mean, std) 0.3488888888888889 0.21654982604586373\n",
      "recall (mean, std) 0.4133333333333333 0.22370615647416692\n",
      "\n",
      "Fitting 5 folds for each of 44 candidates, totalling 220 fits\n",
      "Best estimator KNeighborsClassifier(n_neighbors=10)\n",
      "Best results 0.503936507936508\n",
      "Best params {'n_neighbors': 10, 'p': 2, 'weights': 'uniform'}\n",
      "accuracy (mean, std) 0.5866666666666667 0.12927146286443544\n",
      "f1 (mean, std) 0.503936507936508 0.14805943526801013\n",
      "balanced accuracy (mean, std) 0.5444444444444444 0.06478835438717\n",
      "precision (mean, std) 0.475 0.17400510848184256\n",
      "recall (mean, std) 0.5866666666666667 0.12927146286443544\n",
      "\n",
      "Fitting 5 folds for each of 176 candidates, totalling 880 fits\n",
      "Best estimator Pipeline(steps=[('pca', PCA(n_components=2)),\n",
      "                ('knn', KNeighborsClassifier(n_neighbors=12))])\n",
      "Best results 0.5372698412698413\n",
      "Best params {'knn__n_neighbors': 12, 'knn__p': 2, 'knn__weights': 'uniform', 'pca__n_components': 2}\n",
      "accuracy (mean, std) 0.62 0.1240071682515885\n",
      "f1 (mean, std) 0.5372698412698413 0.13673404677140677\n",
      "balanced accuracy (mean, std) 0.5777777777777777 0.07535922203472518\n",
      "precision (mean, std) 0.5083333333333334 0.1589898669028243\n",
      "recall (mean, std) 0.62 0.1240071682515885\n",
      "\n",
      "Fitting 5 folds for each of 56 candidates, totalling 280 fits\n",
      "Best estimator RandomForestClassifier(max_depth=3, n_jobs=-1, random_state=42)\n",
      "Best results 0.3124444444444444\n",
      "Best params {'class_weight': None, 'max_depth': 3, 'n_estimators': 100}\n",
      "accuracy (mean, std) 0.33999999999999997 0.14204850501775013\n",
      "f1 (mean, std) 0.3124444444444444 0.15021696243257326\n",
      "balanced accuracy (mean, std) 0.3 0.14315665251916806\n",
      "precision (mean, std) 0.32111111111111107 0.19303936782652445\n",
      "recall (mean, std) 0.33999999999999997 0.14204850501775013\n",
      "\n",
      "f1_score (weighted) 0.5224054639346993\n",
      "accuracy 0.6206896551724138\n"
     ]
    }
   ],
   "source": [
    "best_result_tw5_glob_minmax, y_predict_tw5_glob_minmax, y_proba, result_list_tw5_glob_minmax = runGridSearchClassifiers(X_glob_minmax, y_glob_minmax, 5, models_list, parameters_list,output_predict=True, n_jobs=-1, verbose=True)"
   ]
  },
  {
   "cell_type": "code",
   "execution_count": 21,
   "metadata": {},
   "outputs": [
    {
     "output_type": "execute_result",
     "data": {
      "text/plain": [
       "{'best_estimator': Pipeline(steps=[('pca', PCA(n_components=2)),\n",
       "                 ('knn', KNeighborsClassifier(n_neighbors=12))]),\n",
       " 'best_score': 0.5372698412698413,\n",
       " 'best_params': {'knn__n_neighbors': 12,\n",
       "  'knn__p': 2,\n",
       "  'knn__weights': 'uniform',\n",
       "  'pca__n_components': 2},\n",
       " 'mean_test_f1_score': 0.5372698412698413,\n",
       " 'std_test_f1_score': 0.13673404677140677,\n",
       " 'mean_test_accuracy_score': 0.62,\n",
       " 'std_test_accuracy_score': 0.1240071682515885,\n",
       " 'mean_test_balanced_accuracy_score': 0.5777777777777777,\n",
       " 'std_test_balanced_accuracy_score': 0.07535922203472518,\n",
       " 'mean_test_precision': 0.5083333333333334,\n",
       " 'std_test_precision': 0.1589898669028243,\n",
       " 'mean_test_recall': 0.62,\n",
       " 'std_test_recall': 0.1240071682515885}"
      ]
     },
     "metadata": {},
     "execution_count": 21
    }
   ],
   "source": [
    "best_result_tw5_glob_minmax"
   ]
  },
  {
   "cell_type": "code",
   "execution_count": 22,
   "metadata": {},
   "outputs": [
    {
     "output_type": "execute_result",
     "data": {
      "text/plain": [
       "array([1., 0., 1., 1., 0., 1., 0., 1., 0., 0., 1., 0., 1., 1., 1., 1., 0.,\n",
       "       0., 0., 0., 0., 0., 0., 1., 1., 1., 0., 1., 0.])"
      ]
     },
     "metadata": {},
     "execution_count": 22
    }
   ],
   "source": [
    "y_predict_tw5_glob_minmax"
   ]
  },
  {
   "cell_type": "code",
   "execution_count": null,
   "metadata": {},
   "outputs": [],
   "source": []
  },
  {
   "cell_type": "code",
   "execution_count": null,
   "metadata": {},
   "outputs": [],
   "source": []
  }
 ],
 "metadata": {
  "kernelspec": {
   "name": "python3",
   "display_name": "Python 3.7.6 64-bit ('base': conda)"
  },
  "language_info": {
   "codemirror_mode": {
    "name": "ipython",
    "version": 3
   },
   "file_extension": ".py",
   "mimetype": "text/x-python",
   "name": "python",
   "nbconvert_exporter": "python",
   "pygments_lexer": "ipython3",
   "version": "3.7.6"
  },
  "interpreter": {
   "hash": "dd1cf4766d5d9df855e04619ca954236457012a0dce4d3d89890d807f4ecf8a5"
  }
 },
 "nbformat": 4,
 "nbformat_minor": 4
}