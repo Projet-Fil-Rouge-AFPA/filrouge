{
 "cells": [
  {
   "cell_type": "code",
   "execution_count": 1,
   "metadata": {},
   "outputs": [],
   "source": [
    "import os\n",
    "import subprocess\n",
    "import pandas as pd\n",
    "import platform\n",
    "import pathlib\n",
    "import numpy as np\n",
    "from annotations import *\n",
    "from extract_video_features import *\n",
    "from extract_audio_features import *\n",
    "import cv2\n",
    "import seaborn as sns\n",
    "from scipy.stats import kurtosis, skew\n",
    "from sklearn.metrics import f1_score\n",
    "import importlib\n",
    "from tqdm import tqdm\n",
    "import ordinal_classification as o_c\n",
    "from sklearn.metrics import confusion_matrix\n",
    "from sklearn.model_selection import GridSearchCV\n"
   ]
  },
  {
   "cell_type": "code",
   "execution_count": 2,
   "metadata": {},
   "outputs": [],
   "source": [
    "#get current directory\n",
    "cwd = os.getcwd()"
   ]
  },
  {
   "cell_type": "code",
   "execution_count": 3,
   "metadata": {},
   "outputs": [
    {
     "output_type": "execute_result",
     "data": {
      "text/plain": [
       "'/Users/valentinadiproietto/filrouge'"
      ]
     },
     "metadata": {},
     "execution_count": 3
    }
   ],
   "source": [
    "cwd"
   ]
  },
  {
   "cell_type": "code",
   "execution_count": 4,
   "metadata": {},
   "outputs": [],
   "source": [
    "OpenFace_folder = '/Users/valentinadiproietto/OpenFace'\n",
    "filename_annotations = 'https://docs.google.com/spreadsheets/d/1Rqu1sJiD-ogc4a6R491JTiaYacptOTqh6DKqhwTa8NA/gviz/tq?tqx=out:csv&sheet=Template'"
   ]
  },
  {
   "cell_type": "code",
   "execution_count": 5,
   "metadata": {},
   "outputs": [],
   "source": [
    "Video_folder = '/Users/valentinadiproietto/Desktop/video_stress'"
   ]
  },
  {
   "cell_type": "code",
   "execution_count": 6,
   "metadata": {},
   "outputs": [],
   "source": [
    "video_paths, video_names = get_videos(Video_folder)"
   ]
  },
  {
   "cell_type": "code",
   "execution_count": 7,
   "metadata": {},
   "outputs": [
    {
     "output_type": "execute_result",
     "data": {
      "text/plain": [
       "['WIN_20210331_21_22_52_Pro',\n",
       " 'WIN_20210329_14_13_45_Pro',\n",
       " 'WIN_20210406_18_49_10_Pro',\n",
       " 'WIN_20210408_14_11_32_Pro',\n",
       " 'WIN_20210408_15_20_51_Pro',\n",
       " 'WIN_20210404_10_58_27_Pro',\n",
       " 'WIN_20210414_06_24_52_Pro',\n",
       " 'WIN_20210406_15_06_15_Pro',\n",
       " 'WIN_20210417_14_53_12_Pro',\n",
       " 'WIN_20210413_15_38_01_Pro',\n",
       " 'WIN_20210408_11_48_58_Pro',\n",
       " 'WIN_20210408_16_04_32_Pro',\n",
       " 'WIN_20210329_10_16_02_Pro',\n",
       " 'WIN_20210323_19_17_40_Pro',\n",
       " 'WIN_20210409_10_26_11_Pro',\n",
       " 'Test_pour_AFPA',\n",
       " 'WIN_20210405_15_09_16_Pro',\n",
       " 'WIN_20210407_14_54_56_Pro_edit2',\n",
       " 'WIN_20210406_21_05_52_Pro',\n",
       " 'WIN_20210403_18_49_15_Pro',\n",
       " 'WIN_20210408_14_02_19_Pro',\n",
       " 'WIN_20210415_15_41_24_Pro',\n",
       " 'WIN_20210406_18_35_52_Pro',\n",
       " 'WIN_20210402_14_27_50_Pro',\n",
       " 'WIN_20210407_09_04_05_Pro',\n",
       " 'WIN_20210402_19_04_53_Pro',\n",
       " 'WIN_20210416_08_06_54_Pro',\n",
       " 'Video_1',\n",
       " 'WIN_20210408_14_00_44_Pro',\n",
       " 'WIN_20210404_21_41_12_Pro',\n",
       " 'WIN_20210330_13_10_29_Pro']"
      ]
     },
     "metadata": {},
     "execution_count": 7
    }
   ],
   "source": [
    "video_names"
   ]
  },
  {
   "cell_type": "code",
   "execution_count": 8,
   "metadata": {},
   "outputs": [],
   "source": [
    "list_dataframes = []\n",
    "for i in video_names: \n",
    "    list_dataframes.append(create_dataframe_video('/Users/valentinadiproietto/OpenFace/processed/', i))\n"
   ]
  },
  {
   "cell_type": "code",
   "execution_count": 8,
   "metadata": {},
   "outputs": [],
   "source": [
    "video_names.remove('WIN_20210329_14_13_45_Pro')\n",
    "video_names.remove('WIN_20210402_14_27_50_Pro')\n"
   ]
  },
  {
   "cell_type": "code",
   "execution_count": 9,
   "metadata": {},
   "outputs": [
    {
     "output_type": "execute_result",
     "data": {
      "text/plain": [
       "29"
      ]
     },
     "metadata": {},
     "execution_count": 9
    }
   ],
   "source": [
    "len(video_names)"
   ]
  },
  {
   "cell_type": "code",
   "execution_count": 10,
   "metadata": {},
   "outputs": [
    {
     "output_type": "stream",
     "name": "stderr",
     "text": [
      "100%|██████████| 29/29 [03:39<00:00,  7.55s/it]\n"
     ]
    }
   ],
   "source": [
    "list_df_max = []\n",
    "for v_name in tqdm(video_names):\n",
    "    df_annoted = get_df_video_with_annotations('/Users/valentinadiproietto/OpenFace/processed/', v_name, filename_annotations, \"max\")\n",
    "    list_df_max.append(eliminate_features(df_annoted))\n",
    "\n",
    "\n",
    "    "
   ]
  },
  {
   "cell_type": "code",
   "execution_count": 13,
   "metadata": {},
   "outputs": [
    {
     "output_type": "execute_result",
     "data": {
      "text/plain": [
       "Index(['frame', 'face_id', 'timestamp', 'confidence', 'success', 'AU01_r',\n",
       "       'AU02_r', 'AU04_r', 'AU05_r', 'AU06_r', 'AU07_r', 'AU09_r', 'AU10_r',\n",
       "       'AU12_r', 'AU14_r', 'AU15_r', 'AU17_r', 'AU20_r', 'AU23_r', 'AU25_r',\n",
       "       'AU26_r', 'AU45_r', 'AU01_c', 'AU02_c', 'AU04_c', 'AU05_c', 'AU06_c',\n",
       "       'AU07_c', 'AU09_c', 'AU10_c', 'AU12_c', 'AU14_c', 'AU15_c', 'AU17_c',\n",
       "       'AU20_c', 'AU23_c', 'AU25_c', 'AU26_c', 'AU28_c', 'AU45_c', 'gaze_0_x',\n",
       "       'gaze_0_y', 'gaze_0_z', 'gaze_1_x', 'gaze_1_y', 'gaze_1_z',\n",
       "       'gaze_angle_x', 'gaze_angle_y', 'pose_Tx', 'pose_Ty', 'pose_Tz',\n",
       "       'pose_Rx', 'pose_Ry', 'pose_Rz', 'type_candidat', 'sexe', 'video_name',\n",
       "       'stress_global', 'stress', 'diapo'],\n",
       "      dtype='object')"
      ]
     },
     "metadata": {},
     "execution_count": 13
    }
   ],
   "source": [
    "list_df_max[0].columns"
   ]
  },
  {
   "source": [
    "## AGGREGATION FOR DIAPO, PREDICTION ON DIAPO"
   ],
   "cell_type": "markdown",
   "metadata": {}
  },
  {
   "cell_type": "code",
   "execution_count": 14,
   "metadata": {},
   "outputs": [],
   "source": [
    "df_with_deriv = []\n",
    "for i in list_df_max:\n",
    "    to_drop = ['frame','face_id','timestamp','confidence','success', 'type_candidat']\n",
    "    \n",
    "    i = i.drop(to_drop, axis = 1)\n",
    "    i = add_derivatives_drop_spatial(i)\n",
    "    df_with_deriv.append(i)"
   ]
  },
  {
   "cell_type": "code",
   "execution_count": 29,
   "metadata": {},
   "outputs": [],
   "source": [
    "groupby_features= ['video_name','stress_global','stress','diapo','sexe']\n",
    "df_total = pd.concat(df_with_deriv)\n"
   ]
  },
  {
   "cell_type": "code",
   "execution_count": 30,
   "metadata": {},
   "outputs": [
    {
     "output_type": "execute_result",
     "data": {
      "text/plain": [
       "stress\n",
       "1.0       106\n",
       "0.0       101\n",
       "2.0        24\n",
       "3.0         1\n",
       "dtype: int64"
      ]
     },
     "metadata": {},
     "execution_count": 30
    }
   ],
   "source": [
    "df_total = df_total.groupby(groupby_features).agg(['mean', 'std']).reset_index()\n",
    "df_total.columns= df_total.columns.map('_'.join).str.strip('_')\n",
    "df_total[['stress']].value_counts()"
   ]
  },
  {
   "cell_type": "code",
   "execution_count": 32,
   "metadata": {},
   "outputs": [],
   "source": [
    "x = df_total.drop(['video_name','stress_global', 'diapo','stress'], axis = 1)\n",
    "x.sexe = x.sexe.replace('H',0)\n",
    "x.sexe = x.sexe.replace('F',1)\n",
    "\n",
    "y = df_total[['stress']]"
   ]
  },
  {
   "cell_type": "code",
   "execution_count": 59,
   "metadata": {},
   "outputs": [
    {
     "output_type": "execute_result",
     "data": {
      "text/plain": [
       "(232, 195)"
      ]
     },
     "metadata": {},
     "execution_count": 59
    }
   ],
   "source": [
    "pd.options.display.max_seq_items = 2000\n",
    "x.shape"
   ]
  },
  {
   "cell_type": "code",
   "execution_count": 34,
   "metadata": {},
   "outputs": [],
   "source": [
    "from sklearn.model_selection import LeaveOneGroupOut\n",
    "\n",
    "groups = df_total['video_name']\n",
    "loo = LeaveOneGroupOut()\n",
    "\n",
    "cv_loo = loo.split(x, y, groups)"
   ]
  },
  {
   "cell_type": "code",
   "execution_count": 37,
   "metadata": {},
   "outputs": [
    {
     "output_type": "stream",
     "name": "stdout",
     "text": [
      "Best results 0.4698275862068966\nBest params {'max_depth': 4, 'max_features': 'log2', 'n_estimators': 200}\n"
     ]
    }
   ],
   "source": [
    "from sklearn.model_selection import LeaveOneGroupOut\n",
    "\n",
    "groups = df_total['video_name']\n",
    "loo = LeaveOneGroupOut()\n",
    "\n",
    "cv_loo = loo.split(x, y, groups)\n",
    "\n",
    "##Looking for the best parameters for Random forest, evaluated with accuracy and leave one group out\n",
    "from sklearn.ensemble import RandomForestClassifier\n",
    "params = { 'n_estimators': [50, 100, 200],'max_depth': [4, 6], 'max_features':['sqrt', \"log2\", 0.2]}\n",
    "\n",
    "\n",
    "rf = RandomForestClassifier(random_state = 42) \n",
    "\n",
    "grid = GridSearchCV(estimator = rf, param_grid=params, scoring = 'f1' , cv=cv_loo)\n",
    "grid.fit(x, y)\n",
    "print('Best results', grid.best_score_)\n",
    "print('Best params', grid.best_params_)"
   ]
  },
  {
   "cell_type": "code",
   "execution_count": 39,
   "metadata": {},
   "outputs": [
    {
     "output_type": "stream",
     "name": "stdout",
     "text": [
      "Best results 0.439511542097749\nBest params {'max_depth': 6, 'max_features': 0.2, 'n_estimators': 200}\n"
     ]
    }
   ],
   "source": [
    "##Looking for the best parameters for Random forest, evaluated with accuracy and leave one group out\n",
    "groups = df_total['video_name']\n",
    "loo = LeaveOneGroupOut()\n",
    "\n",
    "cv_loo = loo.split(x, y, groups)\n",
    "params = { 'n_estimators': [50, 100, 200],'max_depth': [4, 6], 'max_features':['sqrt', \"log2\", 0.2]}\n",
    "\n",
    "\n",
    "rf = RandomForestClassifier(random_state = 42) \n",
    "\n",
    "grid = GridSearchCV(estimator = rf, param_grid=params, scoring={'accuracy_score' : 'accuracy', 'f1_score' : 'f1_weighted' }, refit='f1_score', cv=cv_loo)\n",
    "grid.fit(x, y)\n",
    "print('Best results', grid.best_score_)\n",
    "print('Best params', grid.best_params_)"
   ]
  },
  {
   "cell_type": "code",
   "execution_count": 54,
   "metadata": {},
   "outputs": [],
   "source": [
    "def plot_feature_importance(importance,names,model_type):\n",
    "\n",
    "    #Create arrays from feature importance and feature names\n",
    "    feature_importance = np.array(importance)\n",
    "    feature_names = np.array(names)\n",
    "    #Create a DataFrame using a Dictionary\n",
    "    data={'feature_names':feature_names,'feature_importance':feature_importance}\n",
    "    fi_df = pd.DataFrame(data)\n",
    "    #Sort the DataFrame in order decreasing feature importance\n",
    "    fi_df.sort_values(by=['feature_importance'], ascending=False,inplace=True)\n",
    "    fi_df = fi_df[:-20]\n",
    "    #Define size of bar plot\n",
    "    plt.figure(figsize=(10,8))\n",
    "    #Plot Searborn bar chart\n",
    "    sns.barplot(x=fi_df['feature_importance'], y=fi_df['feature_names'][:20])\n",
    "    #Add chart labels\n",
    "    plt.title(model_type + ' Feature Importance')\n",
    "    plt.xlabel('FEATURE IMPORTANCE')\n",
    "    plt.ylabel('FEATURE NAMES')\n"
   ]
  },
  {
   "cell_type": "code",
   "execution_count": 55,
   "metadata": {},
   "outputs": [
    {
     "output_type": "execute_result",
     "data": {
      "text/plain": [
       "RandomForestClassifier(max_depth=6, max_features=0.2, n_estimators=200,\n",
       "                       random_state=42)"
      ]
     },
     "metadata": {},
     "execution_count": 55
    }
   ],
   "source": [
    "grid.best_estimator_"
   ]
  },
  {
   "cell_type": "code",
   "execution_count": 56,
   "metadata": {},
   "outputs": [
    {
     "output_type": "display_data",
     "data": {
      "text/plain": "<Figure size 720x576 with 1 Axes>",
      "image/svg+xml": "<?xml version=\"1.0\" encoding=\"utf-8\" standalone=\"no\"?>\n<!DOCTYPE svg PUBLIC \"-//W3C//DTD SVG 1.1//EN\"\n  \"http://www.w3.org/Graphics/SVG/1.1/DTD/svg11.dtd\">\n<svg height=\"494.754375pt\" version=\"1.1\" viewBox=\"0 0 707.6 494.754375\" width=\"707.6pt\" xmlns=\"http://www.w3.org/2000/svg\" xmlns:xlink=\"http://www.w3.org/1999/xlink\">\n <metadata>\n  <rdf:RDF xmlns:cc=\"http://creativecommons.org/ns#\" xmlns:dc=\"http://purl.org/dc/elements/1.1/\" xmlns:rdf=\"http://www.w3.org/1999/02/22-rdf-syntax-ns#\">\n   <cc:Work>\n    <dc:type rdf:resource=\"http://purl.org/dc/dcmitype/StillImage\"/>\n    <dc:date>2021-06-16T17:24:51.160699</dc:date>\n    <dc:format>image/svg+xml</dc:format>\n    <dc:creator>\n     <cc:Agent>\n      <dc:title>Matplotlib v3.4.2, https://matplotlib.org/</dc:title>\n     </cc:Agent>\n    </dc:creator>\n   </cc:Work>\n  </rdf:RDF>\n </metadata>\n <defs>\n  <style type=\"text/css\">*{stroke-linecap:butt;stroke-linejoin:round;}</style>\n </defs>\n <g id=\"figure_1\">\n  <g id=\"patch_1\">\n   <path d=\"M 0 494.754375 \nL 707.6 494.754375 \nL 707.6 0 \nL 0 0 \nz\n\" style=\"fill:none;\"/>\n  </g>\n  <g id=\"axes_1\">\n   <g id=\"patch_2\">\n    <path d=\"M 142.4 457.198125 \nL 700.4 457.198125 \nL 700.4 22.318125 \nL 142.4 22.318125 \nz\n\" style=\"fill:#ffffff;\"/>\n   </g>\n   <g id=\"patch_3\">\n    <path clip-path=\"url(#pe3c93d4623)\" d=\"M 142.4 24.492525 \nL 673.828571 24.492525 \nL 673.828571 41.887725 \nL 142.4 41.887725 \nz\n\" style=\"fill:#ea96a3;\"/>\n   </g>\n   <g id=\"patch_4\">\n    <path clip-path=\"url(#pe3c93d4623)\" d=\"M 142.4 46.236525 \nL 507.59309 46.236525 \nL 507.59309 63.631725 \nL 142.4 63.631725 \nz\n\" style=\"fill:#e79683;\"/>\n   </g>\n   <g id=\"patch_5\">\n    <path clip-path=\"url(#pe3c93d4623)\" d=\"M 142.4 67.980525 \nL 395.938437 67.980525 \nL 395.938437 85.375725 \nL 142.4 85.375725 \nz\n\" style=\"fill:#d7944e;\"/>\n   </g>\n   <g id=\"patch_6\">\n    <path clip-path=\"url(#pe3c93d4623)\" d=\"M 142.4 89.724525 \nL 373.01647 89.724525 \nL 373.01647 107.119725 \nL 142.4 107.119725 \nz\n\" style=\"fill:#bf9a4a;\"/>\n   </g>\n   <g id=\"patch_7\">\n    <path clip-path=\"url(#pe3c93d4623)\" d=\"M 142.4 111.468525 \nL 351.394676 111.468525 \nL 351.394676 128.863725 \nL 142.4 128.863725 \nz\n\" style=\"fill:#ab9e47;\"/>\n   </g>\n   <g id=\"patch_8\">\n    <path clip-path=\"url(#pe3c93d4623)\" d=\"M 142.4 133.212525 \nL 351.33726 133.212525 \nL 351.33726 150.607725 \nL 142.4 150.607725 \nz\n\" style=\"fill:#98a246;\"/>\n   </g>\n   <g id=\"patch_9\">\n    <path clip-path=\"url(#pe3c93d4623)\" d=\"M 142.4 154.956525 \nL 350.855102 154.956525 \nL 350.855102 172.351725 \nL 142.4 172.351725 \nz\n\" style=\"fill:#7fa946;\"/>\n   </g>\n   <g id=\"patch_10\">\n    <path clip-path=\"url(#pe3c93d4623)\" d=\"M 142.4 176.700525 \nL 348.594478 176.700525 \nL 348.594478 194.095725 \nL 142.4 194.095725 \nz\n\" style=\"fill:#48b052;\"/>\n   </g>\n   <g id=\"patch_11\">\n    <path clip-path=\"url(#pe3c93d4623)\" d=\"M 142.4 198.444525 \nL 332.230276 198.444525 \nL 332.230276 215.839725 \nL 142.4 215.839725 \nz\n\" style=\"fill:#49ae83;\"/>\n   </g>\n   <g id=\"patch_12\">\n    <path clip-path=\"url(#pe3c93d4623)\" d=\"M 142.4 220.188525 \nL 331.949873 220.188525 \nL 331.949873 237.583725 \nL 142.4 237.583725 \nz\n\" style=\"fill:#4aad96;\"/>\n   </g>\n   <g id=\"patch_13\">\n    <path clip-path=\"url(#pe3c93d4623)\" d=\"M 142.4 241.932525 \nL 320.835522 241.932525 \nL 320.835522 259.327725 \nL 142.4 259.327725 \nz\n\" style=\"fill:#4baba4;\"/>\n   </g>\n   <g id=\"patch_14\">\n    <path clip-path=\"url(#pe3c93d4623)\" d=\"M 142.4 263.676525 \nL 310.945483 263.676525 \nL 310.945483 281.071725 \nL 142.4 281.071725 \nz\n\" style=\"fill:#4dabb2;\"/>\n   </g>\n   <g id=\"patch_15\">\n    <path clip-path=\"url(#pe3c93d4623)\" d=\"M 142.4 285.420525 \nL 309.961335 285.420525 \nL 309.961335 302.815725 \nL 142.4 302.815725 \nz\n\" style=\"fill:#50acc3;\"/>\n   </g>\n   <g id=\"patch_16\">\n    <path clip-path=\"url(#pe3c93d4623)\" d=\"M 142.4 307.164525 \nL 305.123802 307.164525 \nL 305.123802 324.559725 \nL 142.4 324.559725 \nz\n\" style=\"fill:#56addb;\"/>\n   </g>\n   <g id=\"patch_17\">\n    <path clip-path=\"url(#pe3c93d4623)\" d=\"M 142.4 328.908525 \nL 289.10153 328.908525 \nL 289.10153 346.303725 \nL 142.4 346.303725 \nz\n\" style=\"fill:#94aee8;\"/>\n   </g>\n   <g id=\"patch_18\">\n    <path clip-path=\"url(#pe3c93d4623)\" d=\"M 142.4 350.652525 \nL 286.382407 350.652525 \nL 286.382407 368.047725 \nL 142.4 368.047725 \nz\n\" style=\"fill:#b6a8eb;\"/>\n   </g>\n   <g id=\"patch_19\">\n    <path clip-path=\"url(#pe3c93d4623)\" d=\"M 142.4 372.396525 \nL 285.45408 372.396525 \nL 285.45408 389.791725 \nL 142.4 389.791725 \nz\n\" style=\"fill:#ce9be9;\"/>\n   </g>\n   <g id=\"patch_20\">\n    <path clip-path=\"url(#pe3c93d4623)\" d=\"M 142.4 394.140525 \nL 284.590952 394.140525 \nL 284.590952 411.535725 \nL 142.4 411.535725 \nz\n\" style=\"fill:#e689e4;\"/>\n   </g>\n   <g id=\"patch_21\">\n    <path clip-path=\"url(#pe3c93d4623)\" d=\"M 142.4 415.884525 \nL 278.365253 415.884525 \nL 278.365253 433.279725 \nL 142.4 433.279725 \nz\n\" style=\"fill:#e88fcc;\"/>\n   </g>\n   <g id=\"patch_22\">\n    <path clip-path=\"url(#pe3c93d4623)\" d=\"M 142.4 437.628525 \nL 275.688871 437.628525 \nL 275.688871 455.023725 \nL 142.4 455.023725 \nz\n\" style=\"fill:#e993b9;\"/>\n   </g>\n   <g id=\"matplotlib.axis_1\">\n    <g id=\"xtick_1\">\n     <g id=\"line2d_1\">\n      <defs>\n       <path d=\"M 0 0 \nL 0 3.5 \n\" id=\"m473a546300\" style=\"stroke:#000000;stroke-width:0.8;\"/>\n      </defs>\n      <g>\n       <use style=\"stroke:#000000;stroke-width:0.8;\" x=\"142.4\" xlink:href=\"#m473a546300\" y=\"457.198125\"/>\n      </g>\n     </g>\n     <g id=\"text_1\">\n      <!-- 0.000 -->\n      <g transform=\"translate(128.085938 471.796562)scale(0.1 -0.1)\">\n       <defs>\n        <path d=\"M 2034 4250 \nQ 1547 4250 1301 3770 \nQ 1056 3291 1056 2328 \nQ 1056 1369 1301 889 \nQ 1547 409 2034 409 \nQ 2525 409 2770 889 \nQ 3016 1369 3016 2328 \nQ 3016 3291 2770 3770 \nQ 2525 4250 2034 4250 \nz\nM 2034 4750 \nQ 2819 4750 3233 4129 \nQ 3647 3509 3647 2328 \nQ 3647 1150 3233 529 \nQ 2819 -91 2034 -91 \nQ 1250 -91 836 529 \nQ 422 1150 422 2328 \nQ 422 3509 836 4129 \nQ 1250 4750 2034 4750 \nz\n\" id=\"DejaVuSans-30\" transform=\"scale(0.015625)\"/>\n        <path d=\"M 684 794 \nL 1344 794 \nL 1344 0 \nL 684 0 \nL 684 794 \nz\n\" id=\"DejaVuSans-2e\" transform=\"scale(0.015625)\"/>\n       </defs>\n       <use xlink:href=\"#DejaVuSans-30\"/>\n       <use x=\"63.623047\" xlink:href=\"#DejaVuSans-2e\"/>\n       <use x=\"95.410156\" xlink:href=\"#DejaVuSans-30\"/>\n       <use x=\"159.033203\" xlink:href=\"#DejaVuSans-30\"/>\n       <use x=\"222.65625\" xlink:href=\"#DejaVuSans-30\"/>\n      </g>\n     </g>\n    </g>\n    <g id=\"xtick_2\">\n     <g id=\"line2d_2\">\n      <g>\n       <use style=\"stroke:#000000;stroke-width:0.8;\" x=\"227.613723\" xlink:href=\"#m473a546300\" y=\"457.198125\"/>\n      </g>\n     </g>\n     <g id=\"text_2\">\n      <!-- 0.005 -->\n      <g transform=\"translate(213.29966 471.796562)scale(0.1 -0.1)\">\n       <defs>\n        <path d=\"M 691 4666 \nL 3169 4666 \nL 3169 4134 \nL 1269 4134 \nL 1269 2991 \nQ 1406 3038 1543 3061 \nQ 1681 3084 1819 3084 \nQ 2600 3084 3056 2656 \nQ 3513 2228 3513 1497 \nQ 3513 744 3044 326 \nQ 2575 -91 1722 -91 \nQ 1428 -91 1123 -41 \nQ 819 9 494 109 \nL 494 744 \nQ 775 591 1075 516 \nQ 1375 441 1709 441 \nQ 2250 441 2565 725 \nQ 2881 1009 2881 1497 \nQ 2881 1984 2565 2268 \nQ 2250 2553 1709 2553 \nQ 1456 2553 1204 2497 \nQ 953 2441 691 2322 \nL 691 4666 \nz\n\" id=\"DejaVuSans-35\" transform=\"scale(0.015625)\"/>\n       </defs>\n       <use xlink:href=\"#DejaVuSans-30\"/>\n       <use x=\"63.623047\" xlink:href=\"#DejaVuSans-2e\"/>\n       <use x=\"95.410156\" xlink:href=\"#DejaVuSans-30\"/>\n       <use x=\"159.033203\" xlink:href=\"#DejaVuSans-30\"/>\n       <use x=\"222.65625\" xlink:href=\"#DejaVuSans-35\"/>\n      </g>\n     </g>\n    </g>\n    <g id=\"xtick_3\">\n     <g id=\"line2d_3\">\n      <g>\n       <use style=\"stroke:#000000;stroke-width:0.8;\" x=\"312.827445\" xlink:href=\"#m473a546300\" y=\"457.198125\"/>\n      </g>\n     </g>\n     <g id=\"text_3\">\n      <!-- 0.010 -->\n      <g transform=\"translate(298.513383 471.796562)scale(0.1 -0.1)\">\n       <defs>\n        <path d=\"M 794 531 \nL 1825 531 \nL 1825 4091 \nL 703 3866 \nL 703 4441 \nL 1819 4666 \nL 2450 4666 \nL 2450 531 \nL 3481 531 \nL 3481 0 \nL 794 0 \nL 794 531 \nz\n\" id=\"DejaVuSans-31\" transform=\"scale(0.015625)\"/>\n       </defs>\n       <use xlink:href=\"#DejaVuSans-30\"/>\n       <use x=\"63.623047\" xlink:href=\"#DejaVuSans-2e\"/>\n       <use x=\"95.410156\" xlink:href=\"#DejaVuSans-30\"/>\n       <use x=\"159.033203\" xlink:href=\"#DejaVuSans-31\"/>\n       <use x=\"222.65625\" xlink:href=\"#DejaVuSans-30\"/>\n      </g>\n     </g>\n    </g>\n    <g id=\"xtick_4\">\n     <g id=\"line2d_4\">\n      <g>\n       <use style=\"stroke:#000000;stroke-width:0.8;\" x=\"398.041168\" xlink:href=\"#m473a546300\" y=\"457.198125\"/>\n      </g>\n     </g>\n     <g id=\"text_4\">\n      <!-- 0.015 -->\n      <g transform=\"translate(383.727106 471.796562)scale(0.1 -0.1)\">\n       <use xlink:href=\"#DejaVuSans-30\"/>\n       <use x=\"63.623047\" xlink:href=\"#DejaVuSans-2e\"/>\n       <use x=\"95.410156\" xlink:href=\"#DejaVuSans-30\"/>\n       <use x=\"159.033203\" xlink:href=\"#DejaVuSans-31\"/>\n       <use x=\"222.65625\" xlink:href=\"#DejaVuSans-35\"/>\n      </g>\n     </g>\n    </g>\n    <g id=\"xtick_5\">\n     <g id=\"line2d_5\">\n      <g>\n       <use style=\"stroke:#000000;stroke-width:0.8;\" x=\"483.254891\" xlink:href=\"#m473a546300\" y=\"457.198125\"/>\n      </g>\n     </g>\n     <g id=\"text_5\">\n      <!-- 0.020 -->\n      <g transform=\"translate(468.940828 471.796562)scale(0.1 -0.1)\">\n       <defs>\n        <path d=\"M 1228 531 \nL 3431 531 \nL 3431 0 \nL 469 0 \nL 469 531 \nQ 828 903 1448 1529 \nQ 2069 2156 2228 2338 \nQ 2531 2678 2651 2914 \nQ 2772 3150 2772 3378 \nQ 2772 3750 2511 3984 \nQ 2250 4219 1831 4219 \nQ 1534 4219 1204 4116 \nQ 875 4013 500 3803 \nL 500 4441 \nQ 881 4594 1212 4672 \nQ 1544 4750 1819 4750 \nQ 2544 4750 2975 4387 \nQ 3406 4025 3406 3419 \nQ 3406 3131 3298 2873 \nQ 3191 2616 2906 2266 \nQ 2828 2175 2409 1742 \nQ 1991 1309 1228 531 \nz\n\" id=\"DejaVuSans-32\" transform=\"scale(0.015625)\"/>\n       </defs>\n       <use xlink:href=\"#DejaVuSans-30\"/>\n       <use x=\"63.623047\" xlink:href=\"#DejaVuSans-2e\"/>\n       <use x=\"95.410156\" xlink:href=\"#DejaVuSans-30\"/>\n       <use x=\"159.033203\" xlink:href=\"#DejaVuSans-32\"/>\n       <use x=\"222.65625\" xlink:href=\"#DejaVuSans-30\"/>\n      </g>\n     </g>\n    </g>\n    <g id=\"xtick_6\">\n     <g id=\"line2d_6\">\n      <g>\n       <use style=\"stroke:#000000;stroke-width:0.8;\" x=\"568.468613\" xlink:href=\"#m473a546300\" y=\"457.198125\"/>\n      </g>\n     </g>\n     <g id=\"text_6\">\n      <!-- 0.025 -->\n      <g transform=\"translate(554.154551 471.796562)scale(0.1 -0.1)\">\n       <use xlink:href=\"#DejaVuSans-30\"/>\n       <use x=\"63.623047\" xlink:href=\"#DejaVuSans-2e\"/>\n       <use x=\"95.410156\" xlink:href=\"#DejaVuSans-30\"/>\n       <use x=\"159.033203\" xlink:href=\"#DejaVuSans-32\"/>\n       <use x=\"222.65625\" xlink:href=\"#DejaVuSans-35\"/>\n      </g>\n     </g>\n    </g>\n    <g id=\"xtick_7\">\n     <g id=\"line2d_7\">\n      <g>\n       <use style=\"stroke:#000000;stroke-width:0.8;\" x=\"653.682336\" xlink:href=\"#m473a546300\" y=\"457.198125\"/>\n      </g>\n     </g>\n     <g id=\"text_7\">\n      <!-- 0.030 -->\n      <g transform=\"translate(639.368274 471.796562)scale(0.1 -0.1)\">\n       <defs>\n        <path d=\"M 2597 2516 \nQ 3050 2419 3304 2112 \nQ 3559 1806 3559 1356 \nQ 3559 666 3084 287 \nQ 2609 -91 1734 -91 \nQ 1441 -91 1130 -33 \nQ 819 25 488 141 \nL 488 750 \nQ 750 597 1062 519 \nQ 1375 441 1716 441 \nQ 2309 441 2620 675 \nQ 2931 909 2931 1356 \nQ 2931 1769 2642 2001 \nQ 2353 2234 1838 2234 \nL 1294 2234 \nL 1294 2753 \nL 1863 2753 \nQ 2328 2753 2575 2939 \nQ 2822 3125 2822 3475 \nQ 2822 3834 2567 4026 \nQ 2313 4219 1838 4219 \nQ 1578 4219 1281 4162 \nQ 984 4106 628 3988 \nL 628 4550 \nQ 988 4650 1302 4700 \nQ 1616 4750 1894 4750 \nQ 2613 4750 3031 4423 \nQ 3450 4097 3450 3541 \nQ 3450 3153 3228 2886 \nQ 3006 2619 2597 2516 \nz\n\" id=\"DejaVuSans-33\" transform=\"scale(0.015625)\"/>\n       </defs>\n       <use xlink:href=\"#DejaVuSans-30\"/>\n       <use x=\"63.623047\" xlink:href=\"#DejaVuSans-2e\"/>\n       <use x=\"95.410156\" xlink:href=\"#DejaVuSans-30\"/>\n       <use x=\"159.033203\" xlink:href=\"#DejaVuSans-33\"/>\n       <use x=\"222.65625\" xlink:href=\"#DejaVuSans-30\"/>\n      </g>\n     </g>\n    </g>\n    <g id=\"text_8\">\n     <!-- FEATURE IMPORTANCE -->\n     <g transform=\"translate(365.066406 485.474687)scale(0.1 -0.1)\">\n      <defs>\n       <path d=\"M 628 4666 \nL 3309 4666 \nL 3309 4134 \nL 1259 4134 \nL 1259 2759 \nL 3109 2759 \nL 3109 2228 \nL 1259 2228 \nL 1259 0 \nL 628 0 \nL 628 4666 \nz\n\" id=\"DejaVuSans-46\" transform=\"scale(0.015625)\"/>\n       <path d=\"M 628 4666 \nL 3578 4666 \nL 3578 4134 \nL 1259 4134 \nL 1259 2753 \nL 3481 2753 \nL 3481 2222 \nL 1259 2222 \nL 1259 531 \nL 3634 531 \nL 3634 0 \nL 628 0 \nL 628 4666 \nz\n\" id=\"DejaVuSans-45\" transform=\"scale(0.015625)\"/>\n       <path d=\"M 2188 4044 \nL 1331 1722 \nL 3047 1722 \nL 2188 4044 \nz\nM 1831 4666 \nL 2547 4666 \nL 4325 0 \nL 3669 0 \nL 3244 1197 \nL 1141 1197 \nL 716 0 \nL 50 0 \nL 1831 4666 \nz\n\" id=\"DejaVuSans-41\" transform=\"scale(0.015625)\"/>\n       <path d=\"M -19 4666 \nL 3928 4666 \nL 3928 4134 \nL 2272 4134 \nL 2272 0 \nL 1638 0 \nL 1638 4134 \nL -19 4134 \nL -19 4666 \nz\n\" id=\"DejaVuSans-54\" transform=\"scale(0.015625)\"/>\n       <path d=\"M 556 4666 \nL 1191 4666 \nL 1191 1831 \nQ 1191 1081 1462 751 \nQ 1734 422 2344 422 \nQ 2950 422 3222 751 \nQ 3494 1081 3494 1831 \nL 3494 4666 \nL 4128 4666 \nL 4128 1753 \nQ 4128 841 3676 375 \nQ 3225 -91 2344 -91 \nQ 1459 -91 1007 375 \nQ 556 841 556 1753 \nL 556 4666 \nz\n\" id=\"DejaVuSans-55\" transform=\"scale(0.015625)\"/>\n       <path d=\"M 2841 2188 \nQ 3044 2119 3236 1894 \nQ 3428 1669 3622 1275 \nL 4263 0 \nL 3584 0 \nL 2988 1197 \nQ 2756 1666 2539 1819 \nQ 2322 1972 1947 1972 \nL 1259 1972 \nL 1259 0 \nL 628 0 \nL 628 4666 \nL 2053 4666 \nQ 2853 4666 3247 4331 \nQ 3641 3997 3641 3322 \nQ 3641 2881 3436 2590 \nQ 3231 2300 2841 2188 \nz\nM 1259 4147 \nL 1259 2491 \nL 2053 2491 \nQ 2509 2491 2742 2702 \nQ 2975 2913 2975 3322 \nQ 2975 3731 2742 3939 \nQ 2509 4147 2053 4147 \nL 1259 4147 \nz\n\" id=\"DejaVuSans-52\" transform=\"scale(0.015625)\"/>\n       <path id=\"DejaVuSans-20\" transform=\"scale(0.015625)\"/>\n       <path d=\"M 628 4666 \nL 1259 4666 \nL 1259 0 \nL 628 0 \nL 628 4666 \nz\n\" id=\"DejaVuSans-49\" transform=\"scale(0.015625)\"/>\n       <path d=\"M 628 4666 \nL 1569 4666 \nL 2759 1491 \nL 3956 4666 \nL 4897 4666 \nL 4897 0 \nL 4281 0 \nL 4281 4097 \nL 3078 897 \nL 2444 897 \nL 1241 4097 \nL 1241 0 \nL 628 0 \nL 628 4666 \nz\n\" id=\"DejaVuSans-4d\" transform=\"scale(0.015625)\"/>\n       <path d=\"M 1259 4147 \nL 1259 2394 \nL 2053 2394 \nQ 2494 2394 2734 2622 \nQ 2975 2850 2975 3272 \nQ 2975 3691 2734 3919 \nQ 2494 4147 2053 4147 \nL 1259 4147 \nz\nM 628 4666 \nL 2053 4666 \nQ 2838 4666 3239 4311 \nQ 3641 3956 3641 3272 \nQ 3641 2581 3239 2228 \nQ 2838 1875 2053 1875 \nL 1259 1875 \nL 1259 0 \nL 628 0 \nL 628 4666 \nz\n\" id=\"DejaVuSans-50\" transform=\"scale(0.015625)\"/>\n       <path d=\"M 2522 4238 \nQ 1834 4238 1429 3725 \nQ 1025 3213 1025 2328 \nQ 1025 1447 1429 934 \nQ 1834 422 2522 422 \nQ 3209 422 3611 934 \nQ 4013 1447 4013 2328 \nQ 4013 3213 3611 3725 \nQ 3209 4238 2522 4238 \nz\nM 2522 4750 \nQ 3503 4750 4090 4092 \nQ 4678 3434 4678 2328 \nQ 4678 1225 4090 567 \nQ 3503 -91 2522 -91 \nQ 1538 -91 948 565 \nQ 359 1222 359 2328 \nQ 359 3434 948 4092 \nQ 1538 4750 2522 4750 \nz\n\" id=\"DejaVuSans-4f\" transform=\"scale(0.015625)\"/>\n       <path d=\"M 628 4666 \nL 1478 4666 \nL 3547 763 \nL 3547 4666 \nL 4159 4666 \nL 4159 0 \nL 3309 0 \nL 1241 3903 \nL 1241 0 \nL 628 0 \nL 628 4666 \nz\n\" id=\"DejaVuSans-4e\" transform=\"scale(0.015625)\"/>\n       <path d=\"M 4122 4306 \nL 4122 3641 \nQ 3803 3938 3442 4084 \nQ 3081 4231 2675 4231 \nQ 1875 4231 1450 3742 \nQ 1025 3253 1025 2328 \nQ 1025 1406 1450 917 \nQ 1875 428 2675 428 \nQ 3081 428 3442 575 \nQ 3803 722 4122 1019 \nL 4122 359 \nQ 3791 134 3420 21 \nQ 3050 -91 2638 -91 \nQ 1578 -91 968 557 \nQ 359 1206 359 2328 \nQ 359 3453 968 4101 \nQ 1578 4750 2638 4750 \nQ 3056 4750 3426 4639 \nQ 3797 4528 4122 4306 \nz\n\" id=\"DejaVuSans-43\" transform=\"scale(0.015625)\"/>\n      </defs>\n      <use xlink:href=\"#DejaVuSans-46\"/>\n      <use x=\"57.519531\" xlink:href=\"#DejaVuSans-45\"/>\n      <use x=\"120.703125\" xlink:href=\"#DejaVuSans-41\"/>\n      <use x=\"181.361328\" xlink:href=\"#DejaVuSans-54\"/>\n      <use x=\"242.445312\" xlink:href=\"#DejaVuSans-55\"/>\n      <use x=\"315.638672\" xlink:href=\"#DejaVuSans-52\"/>\n      <use x=\"385.121094\" xlink:href=\"#DejaVuSans-45\"/>\n      <use x=\"448.304688\" xlink:href=\"#DejaVuSans-20\"/>\n      <use x=\"480.091797\" xlink:href=\"#DejaVuSans-49\"/>\n      <use x=\"509.583984\" xlink:href=\"#DejaVuSans-4d\"/>\n      <use x=\"595.863281\" xlink:href=\"#DejaVuSans-50\"/>\n      <use x=\"656.166016\" xlink:href=\"#DejaVuSans-4f\"/>\n      <use x=\"734.876953\" xlink:href=\"#DejaVuSans-52\"/>\n      <use x=\"797.109375\" xlink:href=\"#DejaVuSans-54\"/>\n      <use x=\"850.443359\" xlink:href=\"#DejaVuSans-41\"/>\n      <use x=\"918.851562\" xlink:href=\"#DejaVuSans-4e\"/>\n      <use x=\"993.65625\" xlink:href=\"#DejaVuSans-43\"/>\n      <use x=\"1063.480469\" xlink:href=\"#DejaVuSans-45\"/>\n     </g>\n    </g>\n   </g>\n   <g id=\"matplotlib.axis_2\">\n    <g id=\"ytick_1\">\n     <g id=\"line2d_8\">\n      <defs>\n       <path d=\"M 0 0 \nL -3.5 0 \n\" id=\"mc534b49af5\" style=\"stroke:#000000;stroke-width:0.8;\"/>\n      </defs>\n      <g>\n       <use style=\"stroke:#000000;stroke-width:0.8;\" x=\"142.4\" xlink:href=\"#mc534b49af5\" y=\"33.190125\"/>\n      </g>\n     </g>\n     <g id=\"text_9\">\n      <!-- AU07_r_mean -->\n      <g transform=\"translate(66.045313 36.901062)scale(0.1 -0.1)\">\n       <defs>\n        <path d=\"M 525 4666 \nL 3525 4666 \nL 3525 4397 \nL 1831 0 \nL 1172 0 \nL 2766 4134 \nL 525 4134 \nL 525 4666 \nz\n\" id=\"DejaVuSans-37\" transform=\"scale(0.015625)\"/>\n        <path d=\"M 3263 -1063 \nL 3263 -1509 \nL -63 -1509 \nL -63 -1063 \nL 3263 -1063 \nz\n\" id=\"DejaVuSans-5f\" transform=\"scale(0.015625)\"/>\n        <path d=\"M 2631 2963 \nQ 2534 3019 2420 3045 \nQ 2306 3072 2169 3072 \nQ 1681 3072 1420 2755 \nQ 1159 2438 1159 1844 \nL 1159 0 \nL 581 0 \nL 581 3500 \nL 1159 3500 \nL 1159 2956 \nQ 1341 3275 1631 3429 \nQ 1922 3584 2338 3584 \nQ 2397 3584 2469 3576 \nQ 2541 3569 2628 3553 \nL 2631 2963 \nz\n\" id=\"DejaVuSans-72\" transform=\"scale(0.015625)\"/>\n        <path d=\"M 3328 2828 \nQ 3544 3216 3844 3400 \nQ 4144 3584 4550 3584 \nQ 5097 3584 5394 3201 \nQ 5691 2819 5691 2113 \nL 5691 0 \nL 5113 0 \nL 5113 2094 \nQ 5113 2597 4934 2840 \nQ 4756 3084 4391 3084 \nQ 3944 3084 3684 2787 \nQ 3425 2491 3425 1978 \nL 3425 0 \nL 2847 0 \nL 2847 2094 \nQ 2847 2600 2669 2842 \nQ 2491 3084 2119 3084 \nQ 1678 3084 1418 2786 \nQ 1159 2488 1159 1978 \nL 1159 0 \nL 581 0 \nL 581 3500 \nL 1159 3500 \nL 1159 2956 \nQ 1356 3278 1631 3431 \nQ 1906 3584 2284 3584 \nQ 2666 3584 2933 3390 \nQ 3200 3197 3328 2828 \nz\n\" id=\"DejaVuSans-6d\" transform=\"scale(0.015625)\"/>\n        <path d=\"M 3597 1894 \nL 3597 1613 \nL 953 1613 \nQ 991 1019 1311 708 \nQ 1631 397 2203 397 \nQ 2534 397 2845 478 \nQ 3156 559 3463 722 \nL 3463 178 \nQ 3153 47 2828 -22 \nQ 2503 -91 2169 -91 \nQ 1331 -91 842 396 \nQ 353 884 353 1716 \nQ 353 2575 817 3079 \nQ 1281 3584 2069 3584 \nQ 2775 3584 3186 3129 \nQ 3597 2675 3597 1894 \nz\nM 3022 2063 \nQ 3016 2534 2758 2815 \nQ 2500 3097 2075 3097 \nQ 1594 3097 1305 2825 \nQ 1016 2553 972 2059 \nL 3022 2063 \nz\n\" id=\"DejaVuSans-65\" transform=\"scale(0.015625)\"/>\n        <path d=\"M 2194 1759 \nQ 1497 1759 1228 1600 \nQ 959 1441 959 1056 \nQ 959 750 1161 570 \nQ 1363 391 1709 391 \nQ 2188 391 2477 730 \nQ 2766 1069 2766 1631 \nL 2766 1759 \nL 2194 1759 \nz\nM 3341 1997 \nL 3341 0 \nL 2766 0 \nL 2766 531 \nQ 2569 213 2275 61 \nQ 1981 -91 1556 -91 \nQ 1019 -91 701 211 \nQ 384 513 384 1019 \nQ 384 1609 779 1909 \nQ 1175 2209 1959 2209 \nL 2766 2209 \nL 2766 2266 \nQ 2766 2663 2505 2880 \nQ 2244 3097 1772 3097 \nQ 1472 3097 1187 3025 \nQ 903 2953 641 2809 \nL 641 3341 \nQ 956 3463 1253 3523 \nQ 1550 3584 1831 3584 \nQ 2591 3584 2966 3190 \nQ 3341 2797 3341 1997 \nz\n\" id=\"DejaVuSans-61\" transform=\"scale(0.015625)\"/>\n        <path d=\"M 3513 2113 \nL 3513 0 \nL 2938 0 \nL 2938 2094 \nQ 2938 2591 2744 2837 \nQ 2550 3084 2163 3084 \nQ 1697 3084 1428 2787 \nQ 1159 2491 1159 1978 \nL 1159 0 \nL 581 0 \nL 581 3500 \nL 1159 3500 \nL 1159 2956 \nQ 1366 3272 1645 3428 \nQ 1925 3584 2291 3584 \nQ 2894 3584 3203 3211 \nQ 3513 2838 3513 2113 \nz\n\" id=\"DejaVuSans-6e\" transform=\"scale(0.015625)\"/>\n       </defs>\n       <use xlink:href=\"#DejaVuSans-41\"/>\n       <use x=\"68.408203\" xlink:href=\"#DejaVuSans-55\"/>\n       <use x=\"141.601562\" xlink:href=\"#DejaVuSans-30\"/>\n       <use x=\"205.224609\" xlink:href=\"#DejaVuSans-37\"/>\n       <use x=\"268.847656\" xlink:href=\"#DejaVuSans-5f\"/>\n       <use x=\"318.847656\" xlink:href=\"#DejaVuSans-72\"/>\n       <use x=\"359.960938\" xlink:href=\"#DejaVuSans-5f\"/>\n       <use x=\"409.960938\" xlink:href=\"#DejaVuSans-6d\"/>\n       <use x=\"507.373047\" xlink:href=\"#DejaVuSans-65\"/>\n       <use x=\"568.896484\" xlink:href=\"#DejaVuSans-61\"/>\n       <use x=\"630.175781\" xlink:href=\"#DejaVuSans-6e\"/>\n      </g>\n     </g>\n    </g>\n    <g id=\"ytick_2\">\n     <g id=\"line2d_9\">\n      <g>\n       <use style=\"stroke:#000000;stroke-width:0.8;\" x=\"142.4\" xlink:href=\"#mc534b49af5\" y=\"54.934125\"/>\n      </g>\n     </g>\n     <g id=\"text_10\">\n      <!-- AU07_r_de_mean -->\n      <g transform=\"translate(48.54375 58.733344)scale(0.1 -0.1)\">\n       <defs>\n        <path d=\"M 2906 2969 \nL 2906 4863 \nL 3481 4863 \nL 3481 0 \nL 2906 0 \nL 2906 525 \nQ 2725 213 2448 61 \nQ 2172 -91 1784 -91 \nQ 1150 -91 751 415 \nQ 353 922 353 1747 \nQ 353 2572 751 3078 \nQ 1150 3584 1784 3584 \nQ 2172 3584 2448 3432 \nQ 2725 3281 2906 2969 \nz\nM 947 1747 \nQ 947 1113 1208 752 \nQ 1469 391 1925 391 \nQ 2381 391 2643 752 \nQ 2906 1113 2906 1747 \nQ 2906 2381 2643 2742 \nQ 2381 3103 1925 3103 \nQ 1469 3103 1208 2742 \nQ 947 2381 947 1747 \nz\n\" id=\"DejaVuSans-64\" transform=\"scale(0.015625)\"/>\n       </defs>\n       <use xlink:href=\"#DejaVuSans-41\"/>\n       <use x=\"68.408203\" xlink:href=\"#DejaVuSans-55\"/>\n       <use x=\"141.601562\" xlink:href=\"#DejaVuSans-30\"/>\n       <use x=\"205.224609\" xlink:href=\"#DejaVuSans-37\"/>\n       <use x=\"268.847656\" xlink:href=\"#DejaVuSans-5f\"/>\n       <use x=\"318.847656\" xlink:href=\"#DejaVuSans-72\"/>\n       <use x=\"359.960938\" xlink:href=\"#DejaVuSans-5f\"/>\n       <use x=\"409.960938\" xlink:href=\"#DejaVuSans-64\"/>\n       <use x=\"473.4375\" xlink:href=\"#DejaVuSans-65\"/>\n       <use x=\"534.960938\" xlink:href=\"#DejaVuSans-5f\"/>\n       <use x=\"584.960938\" xlink:href=\"#DejaVuSans-6d\"/>\n       <use x=\"682.373047\" xlink:href=\"#DejaVuSans-65\"/>\n       <use x=\"743.896484\" xlink:href=\"#DejaVuSans-61\"/>\n       <use x=\"805.175781\" xlink:href=\"#DejaVuSans-6e\"/>\n      </g>\n     </g>\n    </g>\n    <g id=\"ytick_3\">\n     <g id=\"line2d_10\">\n      <g>\n       <use style=\"stroke:#000000;stroke-width:0.8;\" x=\"142.4\" xlink:href=\"#mc534b49af5\" y=\"76.678125\"/>\n      </g>\n     </g>\n     <g id=\"text_11\">\n      <!-- AU07_r_de_de_mean -->\n      <g transform=\"translate(31.042187 80.477344)scale(0.1 -0.1)\">\n       <use xlink:href=\"#DejaVuSans-41\"/>\n       <use x=\"68.408203\" xlink:href=\"#DejaVuSans-55\"/>\n       <use x=\"141.601562\" xlink:href=\"#DejaVuSans-30\"/>\n       <use x=\"205.224609\" xlink:href=\"#DejaVuSans-37\"/>\n       <use x=\"268.847656\" xlink:href=\"#DejaVuSans-5f\"/>\n       <use x=\"318.847656\" xlink:href=\"#DejaVuSans-72\"/>\n       <use x=\"359.960938\" xlink:href=\"#DejaVuSans-5f\"/>\n       <use x=\"409.960938\" xlink:href=\"#DejaVuSans-64\"/>\n       <use x=\"473.4375\" xlink:href=\"#DejaVuSans-65\"/>\n       <use x=\"534.960938\" xlink:href=\"#DejaVuSans-5f\"/>\n       <use x=\"584.960938\" xlink:href=\"#DejaVuSans-64\"/>\n       <use x=\"648.4375\" xlink:href=\"#DejaVuSans-65\"/>\n       <use x=\"709.960938\" xlink:href=\"#DejaVuSans-5f\"/>\n       <use x=\"759.960938\" xlink:href=\"#DejaVuSans-6d\"/>\n       <use x=\"857.373047\" xlink:href=\"#DejaVuSans-65\"/>\n       <use x=\"918.896484\" xlink:href=\"#DejaVuSans-61\"/>\n       <use x=\"980.175781\" xlink:href=\"#DejaVuSans-6e\"/>\n      </g>\n     </g>\n    </g>\n    <g id=\"ytick_4\">\n     <g id=\"line2d_11\">\n      <g>\n       <use style=\"stroke:#000000;stroke-width:0.8;\" x=\"142.4\" xlink:href=\"#mc534b49af5\" y=\"98.422125\"/>\n      </g>\n     </g>\n     <g id=\"text_12\">\n      <!-- AU05_c_std -->\n      <g transform=\"translate(77.539062 102.221344)scale(0.1 -0.1)\">\n       <defs>\n        <path d=\"M 3122 3366 \nL 3122 2828 \nQ 2878 2963 2633 3030 \nQ 2388 3097 2138 3097 \nQ 1578 3097 1268 2742 \nQ 959 2388 959 1747 \nQ 959 1106 1268 751 \nQ 1578 397 2138 397 \nQ 2388 397 2633 464 \nQ 2878 531 3122 666 \nL 3122 134 \nQ 2881 22 2623 -34 \nQ 2366 -91 2075 -91 \nQ 1284 -91 818 406 \nQ 353 903 353 1747 \nQ 353 2603 823 3093 \nQ 1294 3584 2113 3584 \nQ 2378 3584 2631 3529 \nQ 2884 3475 3122 3366 \nz\n\" id=\"DejaVuSans-63\" transform=\"scale(0.015625)\"/>\n        <path d=\"M 2834 3397 \nL 2834 2853 \nQ 2591 2978 2328 3040 \nQ 2066 3103 1784 3103 \nQ 1356 3103 1142 2972 \nQ 928 2841 928 2578 \nQ 928 2378 1081 2264 \nQ 1234 2150 1697 2047 \nL 1894 2003 \nQ 2506 1872 2764 1633 \nQ 3022 1394 3022 966 \nQ 3022 478 2636 193 \nQ 2250 -91 1575 -91 \nQ 1294 -91 989 -36 \nQ 684 19 347 128 \nL 347 722 \nQ 666 556 975 473 \nQ 1284 391 1588 391 \nQ 1994 391 2212 530 \nQ 2431 669 2431 922 \nQ 2431 1156 2273 1281 \nQ 2116 1406 1581 1522 \nL 1381 1569 \nQ 847 1681 609 1914 \nQ 372 2147 372 2553 \nQ 372 3047 722 3315 \nQ 1072 3584 1716 3584 \nQ 2034 3584 2315 3537 \nQ 2597 3491 2834 3397 \nz\n\" id=\"DejaVuSans-73\" transform=\"scale(0.015625)\"/>\n        <path d=\"M 1172 4494 \nL 1172 3500 \nL 2356 3500 \nL 2356 3053 \nL 1172 3053 \nL 1172 1153 \nQ 1172 725 1289 603 \nQ 1406 481 1766 481 \nL 2356 481 \nL 2356 0 \nL 1766 0 \nQ 1100 0 847 248 \nQ 594 497 594 1153 \nL 594 3053 \nL 172 3053 \nL 172 3500 \nL 594 3500 \nL 594 4494 \nL 1172 4494 \nz\n\" id=\"DejaVuSans-74\" transform=\"scale(0.015625)\"/>\n       </defs>\n       <use xlink:href=\"#DejaVuSans-41\"/>\n       <use x=\"68.408203\" xlink:href=\"#DejaVuSans-55\"/>\n       <use x=\"141.601562\" xlink:href=\"#DejaVuSans-30\"/>\n       <use x=\"205.224609\" xlink:href=\"#DejaVuSans-35\"/>\n       <use x=\"268.847656\" xlink:href=\"#DejaVuSans-5f\"/>\n       <use x=\"318.847656\" xlink:href=\"#DejaVuSans-63\"/>\n       <use x=\"373.828125\" xlink:href=\"#DejaVuSans-5f\"/>\n       <use x=\"423.828125\" xlink:href=\"#DejaVuSans-73\"/>\n       <use x=\"475.927734\" xlink:href=\"#DejaVuSans-74\"/>\n       <use x=\"515.136719\" xlink:href=\"#DejaVuSans-64\"/>\n      </g>\n     </g>\n    </g>\n    <g id=\"ytick_5\">\n     <g id=\"line2d_12\">\n      <g>\n       <use style=\"stroke:#000000;stroke-width:0.8;\" x=\"142.4\" xlink:href=\"#mc534b49af5\" y=\"120.166125\"/>\n      </g>\n     </g>\n     <g id=\"text_13\">\n      <!-- AU06_c_std -->\n      <g transform=\"translate(77.539062 123.965344)scale(0.1 -0.1)\">\n       <defs>\n        <path d=\"M 2113 2584 \nQ 1688 2584 1439 2293 \nQ 1191 2003 1191 1497 \nQ 1191 994 1439 701 \nQ 1688 409 2113 409 \nQ 2538 409 2786 701 \nQ 3034 994 3034 1497 \nQ 3034 2003 2786 2293 \nQ 2538 2584 2113 2584 \nz\nM 3366 4563 \nL 3366 3988 \nQ 3128 4100 2886 4159 \nQ 2644 4219 2406 4219 \nQ 1781 4219 1451 3797 \nQ 1122 3375 1075 2522 \nQ 1259 2794 1537 2939 \nQ 1816 3084 2150 3084 \nQ 2853 3084 3261 2657 \nQ 3669 2231 3669 1497 \nQ 3669 778 3244 343 \nQ 2819 -91 2113 -91 \nQ 1303 -91 875 529 \nQ 447 1150 447 2328 \nQ 447 3434 972 4092 \nQ 1497 4750 2381 4750 \nQ 2619 4750 2861 4703 \nQ 3103 4656 3366 4563 \nz\n\" id=\"DejaVuSans-36\" transform=\"scale(0.015625)\"/>\n       </defs>\n       <use xlink:href=\"#DejaVuSans-41\"/>\n       <use x=\"68.408203\" xlink:href=\"#DejaVuSans-55\"/>\n       <use x=\"141.601562\" xlink:href=\"#DejaVuSans-30\"/>\n       <use x=\"205.224609\" xlink:href=\"#DejaVuSans-36\"/>\n       <use x=\"268.847656\" xlink:href=\"#DejaVuSans-5f\"/>\n       <use x=\"318.847656\" xlink:href=\"#DejaVuSans-63\"/>\n       <use x=\"373.828125\" xlink:href=\"#DejaVuSans-5f\"/>\n       <use x=\"423.828125\" xlink:href=\"#DejaVuSans-73\"/>\n       <use x=\"475.927734\" xlink:href=\"#DejaVuSans-74\"/>\n       <use x=\"515.136719\" xlink:href=\"#DejaVuSans-64\"/>\n      </g>\n     </g>\n    </g>\n    <g id=\"ytick_6\">\n     <g id=\"line2d_13\">\n      <g>\n       <use style=\"stroke:#000000;stroke-width:0.8;\" x=\"142.4\" xlink:href=\"#mc534b49af5\" y=\"141.910125\"/>\n      </g>\n     </g>\n     <g id=\"text_14\">\n      <!-- pose_Rz_de_de_std -->\n      <g transform=\"translate(38.892188 145.709344)scale(0.1 -0.1)\">\n       <defs>\n        <path d=\"M 1159 525 \nL 1159 -1331 \nL 581 -1331 \nL 581 3500 \nL 1159 3500 \nL 1159 2969 \nQ 1341 3281 1617 3432 \nQ 1894 3584 2278 3584 \nQ 2916 3584 3314 3078 \nQ 3713 2572 3713 1747 \nQ 3713 922 3314 415 \nQ 2916 -91 2278 -91 \nQ 1894 -91 1617 61 \nQ 1341 213 1159 525 \nz\nM 3116 1747 \nQ 3116 2381 2855 2742 \nQ 2594 3103 2138 3103 \nQ 1681 3103 1420 2742 \nQ 1159 2381 1159 1747 \nQ 1159 1113 1420 752 \nQ 1681 391 2138 391 \nQ 2594 391 2855 752 \nQ 3116 1113 3116 1747 \nz\n\" id=\"DejaVuSans-70\" transform=\"scale(0.015625)\"/>\n        <path d=\"M 1959 3097 \nQ 1497 3097 1228 2736 \nQ 959 2375 959 1747 \nQ 959 1119 1226 758 \nQ 1494 397 1959 397 \nQ 2419 397 2687 759 \nQ 2956 1122 2956 1747 \nQ 2956 2369 2687 2733 \nQ 2419 3097 1959 3097 \nz\nM 1959 3584 \nQ 2709 3584 3137 3096 \nQ 3566 2609 3566 1747 \nQ 3566 888 3137 398 \nQ 2709 -91 1959 -91 \nQ 1206 -91 779 398 \nQ 353 888 353 1747 \nQ 353 2609 779 3096 \nQ 1206 3584 1959 3584 \nz\n\" id=\"DejaVuSans-6f\" transform=\"scale(0.015625)\"/>\n        <path d=\"M 353 3500 \nL 3084 3500 \nL 3084 2975 \nL 922 459 \nL 3084 459 \nL 3084 0 \nL 275 0 \nL 275 525 \nL 2438 3041 \nL 353 3041 \nL 353 3500 \nz\n\" id=\"DejaVuSans-7a\" transform=\"scale(0.015625)\"/>\n       </defs>\n       <use xlink:href=\"#DejaVuSans-70\"/>\n       <use x=\"63.476562\" xlink:href=\"#DejaVuSans-6f\"/>\n       <use x=\"124.658203\" xlink:href=\"#DejaVuSans-73\"/>\n       <use x=\"176.757812\" xlink:href=\"#DejaVuSans-65\"/>\n       <use x=\"238.28125\" xlink:href=\"#DejaVuSans-5f\"/>\n       <use x=\"288.28125\" xlink:href=\"#DejaVuSans-52\"/>\n       <use x=\"357.763672\" xlink:href=\"#DejaVuSans-7a\"/>\n       <use x=\"410.253906\" xlink:href=\"#DejaVuSans-5f\"/>\n       <use x=\"460.253906\" xlink:href=\"#DejaVuSans-64\"/>\n       <use x=\"523.730469\" xlink:href=\"#DejaVuSans-65\"/>\n       <use x=\"585.253906\" xlink:href=\"#DejaVuSans-5f\"/>\n       <use x=\"635.253906\" xlink:href=\"#DejaVuSans-64\"/>\n       <use x=\"698.730469\" xlink:href=\"#DejaVuSans-65\"/>\n       <use x=\"760.253906\" xlink:href=\"#DejaVuSans-5f\"/>\n       <use x=\"810.253906\" xlink:href=\"#DejaVuSans-73\"/>\n       <use x=\"862.353516\" xlink:href=\"#DejaVuSans-74\"/>\n       <use x=\"901.5625\" xlink:href=\"#DejaVuSans-64\"/>\n      </g>\n     </g>\n    </g>\n    <g id=\"ytick_7\">\n     <g id=\"line2d_14\">\n      <g>\n       <use style=\"stroke:#000000;stroke-width:0.8;\" x=\"142.4\" xlink:href=\"#mc534b49af5\" y=\"163.654125\"/>\n      </g>\n     </g>\n     <g id=\"text_15\">\n      <!-- AU02_c_mean -->\n      <g transform=\"translate(64.657813 167.365062)scale(0.1 -0.1)\">\n       <use xlink:href=\"#DejaVuSans-41\"/>\n       <use x=\"68.408203\" xlink:href=\"#DejaVuSans-55\"/>\n       <use x=\"141.601562\" xlink:href=\"#DejaVuSans-30\"/>\n       <use x=\"205.224609\" xlink:href=\"#DejaVuSans-32\"/>\n       <use x=\"268.847656\" xlink:href=\"#DejaVuSans-5f\"/>\n       <use x=\"318.847656\" xlink:href=\"#DejaVuSans-63\"/>\n       <use x=\"373.828125\" xlink:href=\"#DejaVuSans-5f\"/>\n       <use x=\"423.828125\" xlink:href=\"#DejaVuSans-6d\"/>\n       <use x=\"521.240234\" xlink:href=\"#DejaVuSans-65\"/>\n       <use x=\"582.763672\" xlink:href=\"#DejaVuSans-61\"/>\n       <use x=\"644.042969\" xlink:href=\"#DejaVuSans-6e\"/>\n      </g>\n     </g>\n    </g>\n    <g id=\"ytick_8\">\n     <g id=\"line2d_15\">\n      <g>\n       <use style=\"stroke:#000000;stroke-width:0.8;\" x=\"142.4\" xlink:href=\"#mc534b49af5\" y=\"185.398125\"/>\n      </g>\n     </g>\n     <g id=\"text_16\">\n      <!-- gaze_0_y_de_de_mean -->\n      <g transform=\"translate(20.878125 189.197344)scale(0.1 -0.1)\">\n       <defs>\n        <path d=\"M 2906 1791 \nQ 2906 2416 2648 2759 \nQ 2391 3103 1925 3103 \nQ 1463 3103 1205 2759 \nQ 947 2416 947 1791 \nQ 947 1169 1205 825 \nQ 1463 481 1925 481 \nQ 2391 481 2648 825 \nQ 2906 1169 2906 1791 \nz\nM 3481 434 \nQ 3481 -459 3084 -895 \nQ 2688 -1331 1869 -1331 \nQ 1566 -1331 1297 -1286 \nQ 1028 -1241 775 -1147 \nL 775 -588 \nQ 1028 -725 1275 -790 \nQ 1522 -856 1778 -856 \nQ 2344 -856 2625 -561 \nQ 2906 -266 2906 331 \nL 2906 616 \nQ 2728 306 2450 153 \nQ 2172 0 1784 0 \nQ 1141 0 747 490 \nQ 353 981 353 1791 \nQ 353 2603 747 3093 \nQ 1141 3584 1784 3584 \nQ 2172 3584 2450 3431 \nQ 2728 3278 2906 2969 \nL 2906 3500 \nL 3481 3500 \nL 3481 434 \nz\n\" id=\"DejaVuSans-67\" transform=\"scale(0.015625)\"/>\n        <path d=\"M 2059 -325 \nQ 1816 -950 1584 -1140 \nQ 1353 -1331 966 -1331 \nL 506 -1331 \nL 506 -850 \nL 844 -850 \nQ 1081 -850 1212 -737 \nQ 1344 -625 1503 -206 \nL 1606 56 \nL 191 3500 \nL 800 3500 \nL 1894 763 \nL 2988 3500 \nL 3597 3500 \nL 2059 -325 \nz\n\" id=\"DejaVuSans-79\" transform=\"scale(0.015625)\"/>\n       </defs>\n       <use xlink:href=\"#DejaVuSans-67\"/>\n       <use x=\"63.476562\" xlink:href=\"#DejaVuSans-61\"/>\n       <use x=\"124.755859\" xlink:href=\"#DejaVuSans-7a\"/>\n       <use x=\"177.246094\" xlink:href=\"#DejaVuSans-65\"/>\n       <use x=\"238.769531\" xlink:href=\"#DejaVuSans-5f\"/>\n       <use x=\"288.769531\" xlink:href=\"#DejaVuSans-30\"/>\n       <use x=\"352.392578\" xlink:href=\"#DejaVuSans-5f\"/>\n       <use x=\"402.392578\" xlink:href=\"#DejaVuSans-79\"/>\n       <use x=\"461.572266\" xlink:href=\"#DejaVuSans-5f\"/>\n       <use x=\"511.572266\" xlink:href=\"#DejaVuSans-64\"/>\n       <use x=\"575.048828\" xlink:href=\"#DejaVuSans-65\"/>\n       <use x=\"636.572266\" xlink:href=\"#DejaVuSans-5f\"/>\n       <use x=\"686.572266\" xlink:href=\"#DejaVuSans-64\"/>\n       <use x=\"750.048828\" xlink:href=\"#DejaVuSans-65\"/>\n       <use x=\"811.572266\" xlink:href=\"#DejaVuSans-5f\"/>\n       <use x=\"861.572266\" xlink:href=\"#DejaVuSans-6d\"/>\n       <use x=\"958.984375\" xlink:href=\"#DejaVuSans-65\"/>\n       <use x=\"1020.507812\" xlink:href=\"#DejaVuSans-61\"/>\n       <use x=\"1081.787109\" xlink:href=\"#DejaVuSans-6e\"/>\n      </g>\n     </g>\n    </g>\n    <g id=\"ytick_9\">\n     <g id=\"line2d_16\">\n      <g>\n       <use style=\"stroke:#000000;stroke-width:0.8;\" x=\"142.4\" xlink:href=\"#mc534b49af5\" y=\"207.142125\"/>\n      </g>\n     </g>\n     <g id=\"text_17\">\n      <!-- AU23_c_mean -->\n      <g transform=\"translate(64.657813 210.853062)scale(0.1 -0.1)\">\n       <use xlink:href=\"#DejaVuSans-41\"/>\n       <use x=\"68.408203\" xlink:href=\"#DejaVuSans-55\"/>\n       <use x=\"141.601562\" xlink:href=\"#DejaVuSans-32\"/>\n       <use x=\"205.224609\" xlink:href=\"#DejaVuSans-33\"/>\n       <use x=\"268.847656\" xlink:href=\"#DejaVuSans-5f\"/>\n       <use x=\"318.847656\" xlink:href=\"#DejaVuSans-63\"/>\n       <use x=\"373.828125\" xlink:href=\"#DejaVuSans-5f\"/>\n       <use x=\"423.828125\" xlink:href=\"#DejaVuSans-6d\"/>\n       <use x=\"521.240234\" xlink:href=\"#DejaVuSans-65\"/>\n       <use x=\"582.763672\" xlink:href=\"#DejaVuSans-61\"/>\n       <use x=\"644.042969\" xlink:href=\"#DejaVuSans-6e\"/>\n      </g>\n     </g>\n    </g>\n    <g id=\"ytick_10\">\n     <g id=\"line2d_17\">\n      <g>\n       <use style=\"stroke:#000000;stroke-width:0.8;\" x=\"142.4\" xlink:href=\"#mc534b49af5\" y=\"228.886125\"/>\n      </g>\n     </g>\n     <g id=\"text_18\">\n      <!-- AU04_r_de_std -->\n      <g transform=\"translate(61.425 232.685344)scale(0.1 -0.1)\">\n       <defs>\n        <path d=\"M 2419 4116 \nL 825 1625 \nL 2419 1625 \nL 2419 4116 \nz\nM 2253 4666 \nL 3047 4666 \nL 3047 1625 \nL 3713 1625 \nL 3713 1100 \nL 3047 1100 \nL 3047 0 \nL 2419 0 \nL 2419 1100 \nL 313 1100 \nL 313 1709 \nL 2253 4666 \nz\n\" id=\"DejaVuSans-34\" transform=\"scale(0.015625)\"/>\n       </defs>\n       <use xlink:href=\"#DejaVuSans-41\"/>\n       <use x=\"68.408203\" xlink:href=\"#DejaVuSans-55\"/>\n       <use x=\"141.601562\" xlink:href=\"#DejaVuSans-30\"/>\n       <use x=\"205.224609\" xlink:href=\"#DejaVuSans-34\"/>\n       <use x=\"268.847656\" xlink:href=\"#DejaVuSans-5f\"/>\n       <use x=\"318.847656\" xlink:href=\"#DejaVuSans-72\"/>\n       <use x=\"359.960938\" xlink:href=\"#DejaVuSans-5f\"/>\n       <use x=\"409.960938\" xlink:href=\"#DejaVuSans-64\"/>\n       <use x=\"473.4375\" xlink:href=\"#DejaVuSans-65\"/>\n       <use x=\"534.960938\" xlink:href=\"#DejaVuSans-5f\"/>\n       <use x=\"584.960938\" xlink:href=\"#DejaVuSans-73\"/>\n       <use x=\"637.060547\" xlink:href=\"#DejaVuSans-74\"/>\n       <use x=\"676.269531\" xlink:href=\"#DejaVuSans-64\"/>\n      </g>\n     </g>\n    </g>\n    <g id=\"ytick_11\">\n     <g id=\"line2d_18\">\n      <g>\n       <use style=\"stroke:#000000;stroke-width:0.8;\" x=\"142.4\" xlink:href=\"#mc534b49af5\" y=\"250.630125\"/>\n      </g>\n     </g>\n     <g id=\"text_19\">\n      <!-- AU06_r_de_mean -->\n      <g transform=\"translate(48.54375 254.429344)scale(0.1 -0.1)\">\n       <use xlink:href=\"#DejaVuSans-41\"/>\n       <use x=\"68.408203\" xlink:href=\"#DejaVuSans-55\"/>\n       <use x=\"141.601562\" xlink:href=\"#DejaVuSans-30\"/>\n       <use x=\"205.224609\" xlink:href=\"#DejaVuSans-36\"/>\n       <use x=\"268.847656\" xlink:href=\"#DejaVuSans-5f\"/>\n       <use x=\"318.847656\" xlink:href=\"#DejaVuSans-72\"/>\n       <use x=\"359.960938\" xlink:href=\"#DejaVuSans-5f\"/>\n       <use x=\"409.960938\" xlink:href=\"#DejaVuSans-64\"/>\n       <use x=\"473.4375\" xlink:href=\"#DejaVuSans-65\"/>\n       <use x=\"534.960938\" xlink:href=\"#DejaVuSans-5f\"/>\n       <use x=\"584.960938\" xlink:href=\"#DejaVuSans-6d\"/>\n       <use x=\"682.373047\" xlink:href=\"#DejaVuSans-65\"/>\n       <use x=\"743.896484\" xlink:href=\"#DejaVuSans-61\"/>\n       <use x=\"805.175781\" xlink:href=\"#DejaVuSans-6e\"/>\n      </g>\n     </g>\n    </g>\n    <g id=\"ytick_12\">\n     <g id=\"line2d_19\">\n      <g>\n       <use style=\"stroke:#000000;stroke-width:0.8;\" x=\"142.4\" xlink:href=\"#mc534b49af5\" y=\"272.374125\"/>\n      </g>\n     </g>\n     <g id=\"text_20\">\n      <!-- AU12_r_de_de_std -->\n      <g transform=\"translate(43.923438 276.173344)scale(0.1 -0.1)\">\n       <use xlink:href=\"#DejaVuSans-41\"/>\n       <use x=\"68.408203\" xlink:href=\"#DejaVuSans-55\"/>\n       <use x=\"141.601562\" xlink:href=\"#DejaVuSans-31\"/>\n       <use x=\"205.224609\" xlink:href=\"#DejaVuSans-32\"/>\n       <use x=\"268.847656\" xlink:href=\"#DejaVuSans-5f\"/>\n       <use x=\"318.847656\" xlink:href=\"#DejaVuSans-72\"/>\n       <use x=\"359.960938\" xlink:href=\"#DejaVuSans-5f\"/>\n       <use x=\"409.960938\" xlink:href=\"#DejaVuSans-64\"/>\n       <use x=\"473.4375\" xlink:href=\"#DejaVuSans-65\"/>\n       <use x=\"534.960938\" xlink:href=\"#DejaVuSans-5f\"/>\n       <use x=\"584.960938\" xlink:href=\"#DejaVuSans-64\"/>\n       <use x=\"648.4375\" xlink:href=\"#DejaVuSans-65\"/>\n       <use x=\"709.960938\" xlink:href=\"#DejaVuSans-5f\"/>\n       <use x=\"759.960938\" xlink:href=\"#DejaVuSans-73\"/>\n       <use x=\"812.060547\" xlink:href=\"#DejaVuSans-74\"/>\n       <use x=\"851.269531\" xlink:href=\"#DejaVuSans-64\"/>\n      </g>\n     </g>\n    </g>\n    <g id=\"ytick_13\">\n     <g id=\"line2d_20\">\n      <g>\n       <use style=\"stroke:#000000;stroke-width:0.8;\" x=\"142.4\" xlink:href=\"#mc534b49af5\" y=\"294.118125\"/>\n      </g>\n     </g>\n     <g id=\"text_21\">\n      <!-- AU07_r_std -->\n      <g transform=\"translate(78.926563 297.917344)scale(0.1 -0.1)\">\n       <use xlink:href=\"#DejaVuSans-41\"/>\n       <use x=\"68.408203\" xlink:href=\"#DejaVuSans-55\"/>\n       <use x=\"141.601562\" xlink:href=\"#DejaVuSans-30\"/>\n       <use x=\"205.224609\" xlink:href=\"#DejaVuSans-37\"/>\n       <use x=\"268.847656\" xlink:href=\"#DejaVuSans-5f\"/>\n       <use x=\"318.847656\" xlink:href=\"#DejaVuSans-72\"/>\n       <use x=\"359.960938\" xlink:href=\"#DejaVuSans-5f\"/>\n       <use x=\"409.960938\" xlink:href=\"#DejaVuSans-73\"/>\n       <use x=\"462.060547\" xlink:href=\"#DejaVuSans-74\"/>\n       <use x=\"501.269531\" xlink:href=\"#DejaVuSans-64\"/>\n      </g>\n     </g>\n    </g>\n    <g id=\"ytick_14\">\n     <g id=\"line2d_21\">\n      <g>\n       <use style=\"stroke:#000000;stroke-width:0.8;\" x=\"142.4\" xlink:href=\"#mc534b49af5\" y=\"315.862125\"/>\n      </g>\n     </g>\n     <g id=\"text_22\">\n      <!-- gaze_angle_x_de_std -->\n      <g transform=\"translate(29.878125 319.661344)scale(0.1 -0.1)\">\n       <defs>\n        <path d=\"M 603 4863 \nL 1178 4863 \nL 1178 0 \nL 603 0 \nL 603 4863 \nz\n\" id=\"DejaVuSans-6c\" transform=\"scale(0.015625)\"/>\n        <path d=\"M 3513 3500 \nL 2247 1797 \nL 3578 0 \nL 2900 0 \nL 1881 1375 \nL 863 0 \nL 184 0 \nL 1544 1831 \nL 300 3500 \nL 978 3500 \nL 1906 2253 \nL 2834 3500 \nL 3513 3500 \nz\n\" id=\"DejaVuSans-78\" transform=\"scale(0.015625)\"/>\n       </defs>\n       <use xlink:href=\"#DejaVuSans-67\"/>\n       <use x=\"63.476562\" xlink:href=\"#DejaVuSans-61\"/>\n       <use x=\"124.755859\" xlink:href=\"#DejaVuSans-7a\"/>\n       <use x=\"177.246094\" xlink:href=\"#DejaVuSans-65\"/>\n       <use x=\"238.769531\" xlink:href=\"#DejaVuSans-5f\"/>\n       <use x=\"288.769531\" xlink:href=\"#DejaVuSans-61\"/>\n       <use x=\"350.048828\" xlink:href=\"#DejaVuSans-6e\"/>\n       <use x=\"413.427734\" xlink:href=\"#DejaVuSans-67\"/>\n       <use x=\"476.904297\" xlink:href=\"#DejaVuSans-6c\"/>\n       <use x=\"504.6875\" xlink:href=\"#DejaVuSans-65\"/>\n       <use x=\"566.210938\" xlink:href=\"#DejaVuSans-5f\"/>\n       <use x=\"616.210938\" xlink:href=\"#DejaVuSans-78\"/>\n       <use x=\"675.390625\" xlink:href=\"#DejaVuSans-5f\"/>\n       <use x=\"725.390625\" xlink:href=\"#DejaVuSans-64\"/>\n       <use x=\"788.867188\" xlink:href=\"#DejaVuSans-65\"/>\n       <use x=\"850.390625\" xlink:href=\"#DejaVuSans-5f\"/>\n       <use x=\"900.390625\" xlink:href=\"#DejaVuSans-73\"/>\n       <use x=\"952.490234\" xlink:href=\"#DejaVuSans-74\"/>\n       <use x=\"991.699219\" xlink:href=\"#DejaVuSans-64\"/>\n      </g>\n     </g>\n    </g>\n    <g id=\"ytick_15\">\n     <g id=\"line2d_22\">\n      <g>\n       <use style=\"stroke:#000000;stroke-width:0.8;\" x=\"142.4\" xlink:href=\"#mc534b49af5\" y=\"337.606125\"/>\n      </g>\n     </g>\n     <g id=\"text_23\">\n      <!-- AU06_c_mean -->\n      <g transform=\"translate(64.657813 341.317062)scale(0.1 -0.1)\">\n       <use xlink:href=\"#DejaVuSans-41\"/>\n       <use x=\"68.408203\" xlink:href=\"#DejaVuSans-55\"/>\n       <use x=\"141.601562\" xlink:href=\"#DejaVuSans-30\"/>\n       <use x=\"205.224609\" xlink:href=\"#DejaVuSans-36\"/>\n       <use x=\"268.847656\" xlink:href=\"#DejaVuSans-5f\"/>\n       <use x=\"318.847656\" xlink:href=\"#DejaVuSans-63\"/>\n       <use x=\"373.828125\" xlink:href=\"#DejaVuSans-5f\"/>\n       <use x=\"423.828125\" xlink:href=\"#DejaVuSans-6d\"/>\n       <use x=\"521.240234\" xlink:href=\"#DejaVuSans-65\"/>\n       <use x=\"582.763672\" xlink:href=\"#DejaVuSans-61\"/>\n       <use x=\"644.042969\" xlink:href=\"#DejaVuSans-6e\"/>\n      </g>\n     </g>\n    </g>\n    <g id=\"ytick_16\">\n     <g id=\"line2d_23\">\n      <g>\n       <use style=\"stroke:#000000;stroke-width:0.8;\" x=\"142.4\" xlink:href=\"#mc534b49af5\" y=\"359.350125\"/>\n      </g>\n     </g>\n     <g id=\"text_24\">\n      <!-- AU04_r_std -->\n      <g transform=\"translate(78.926563 363.149344)scale(0.1 -0.1)\">\n       <use xlink:href=\"#DejaVuSans-41\"/>\n       <use x=\"68.408203\" xlink:href=\"#DejaVuSans-55\"/>\n       <use x=\"141.601562\" xlink:href=\"#DejaVuSans-30\"/>\n       <use x=\"205.224609\" xlink:href=\"#DejaVuSans-34\"/>\n       <use x=\"268.847656\" xlink:href=\"#DejaVuSans-5f\"/>\n       <use x=\"318.847656\" xlink:href=\"#DejaVuSans-72\"/>\n       <use x=\"359.960938\" xlink:href=\"#DejaVuSans-5f\"/>\n       <use x=\"409.960938\" xlink:href=\"#DejaVuSans-73\"/>\n       <use x=\"462.060547\" xlink:href=\"#DejaVuSans-74\"/>\n       <use x=\"501.269531\" xlink:href=\"#DejaVuSans-64\"/>\n      </g>\n     </g>\n    </g>\n    <g id=\"ytick_17\">\n     <g id=\"line2d_24\">\n      <g>\n       <use style=\"stroke:#000000;stroke-width:0.8;\" x=\"142.4\" xlink:href=\"#mc534b49af5\" y=\"381.094125\"/>\n      </g>\n     </g>\n     <g id=\"text_25\">\n      <!-- pose_Rx_de_std -->\n      <g transform=\"translate(55.723438 384.893344)scale(0.1 -0.1)\">\n       <use xlink:href=\"#DejaVuSans-70\"/>\n       <use x=\"63.476562\" xlink:href=\"#DejaVuSans-6f\"/>\n       <use x=\"124.658203\" xlink:href=\"#DejaVuSans-73\"/>\n       <use x=\"176.757812\" xlink:href=\"#DejaVuSans-65\"/>\n       <use x=\"238.28125\" xlink:href=\"#DejaVuSans-5f\"/>\n       <use x=\"288.28125\" xlink:href=\"#DejaVuSans-52\"/>\n       <use x=\"357.763672\" xlink:href=\"#DejaVuSans-78\"/>\n       <use x=\"416.943359\" xlink:href=\"#DejaVuSans-5f\"/>\n       <use x=\"466.943359\" xlink:href=\"#DejaVuSans-64\"/>\n       <use x=\"530.419922\" xlink:href=\"#DejaVuSans-65\"/>\n       <use x=\"591.943359\" xlink:href=\"#DejaVuSans-5f\"/>\n       <use x=\"641.943359\" xlink:href=\"#DejaVuSans-73\"/>\n       <use x=\"694.042969\" xlink:href=\"#DejaVuSans-74\"/>\n       <use x=\"733.251953\" xlink:href=\"#DejaVuSans-64\"/>\n      </g>\n     </g>\n    </g>\n    <g id=\"ytick_18\">\n     <g id=\"line2d_25\">\n      <g>\n       <use style=\"stroke:#000000;stroke-width:0.8;\" x=\"142.4\" xlink:href=\"#mc534b49af5\" y=\"402.838125\"/>\n      </g>\n     </g>\n     <g id=\"text_26\">\n      <!-- AU02_c_std -->\n      <g transform=\"translate(77.539062 406.637344)scale(0.1 -0.1)\">\n       <use xlink:href=\"#DejaVuSans-41\"/>\n       <use x=\"68.408203\" xlink:href=\"#DejaVuSans-55\"/>\n       <use x=\"141.601562\" xlink:href=\"#DejaVuSans-30\"/>\n       <use x=\"205.224609\" xlink:href=\"#DejaVuSans-32\"/>\n       <use x=\"268.847656\" xlink:href=\"#DejaVuSans-5f\"/>\n       <use x=\"318.847656\" xlink:href=\"#DejaVuSans-63\"/>\n       <use x=\"373.828125\" xlink:href=\"#DejaVuSans-5f\"/>\n       <use x=\"423.828125\" xlink:href=\"#DejaVuSans-73\"/>\n       <use x=\"475.927734\" xlink:href=\"#DejaVuSans-74\"/>\n       <use x=\"515.136719\" xlink:href=\"#DejaVuSans-64\"/>\n      </g>\n     </g>\n    </g>\n    <g id=\"ytick_19\">\n     <g id=\"line2d_26\">\n      <g>\n       <use style=\"stroke:#000000;stroke-width:0.8;\" x=\"142.4\" xlink:href=\"#mc534b49af5\" y=\"424.582125\"/>\n      </g>\n     </g>\n     <g id=\"text_27\">\n      <!-- AU10_r_de_de_std -->\n      <g transform=\"translate(43.923438 428.381344)scale(0.1 -0.1)\">\n       <use xlink:href=\"#DejaVuSans-41\"/>\n       <use x=\"68.408203\" xlink:href=\"#DejaVuSans-55\"/>\n       <use x=\"141.601562\" xlink:href=\"#DejaVuSans-31\"/>\n       <use x=\"205.224609\" xlink:href=\"#DejaVuSans-30\"/>\n       <use x=\"268.847656\" xlink:href=\"#DejaVuSans-5f\"/>\n       <use x=\"318.847656\" xlink:href=\"#DejaVuSans-72\"/>\n       <use x=\"359.960938\" xlink:href=\"#DejaVuSans-5f\"/>\n       <use x=\"409.960938\" xlink:href=\"#DejaVuSans-64\"/>\n       <use x=\"473.4375\" xlink:href=\"#DejaVuSans-65\"/>\n       <use x=\"534.960938\" xlink:href=\"#DejaVuSans-5f\"/>\n       <use x=\"584.960938\" xlink:href=\"#DejaVuSans-64\"/>\n       <use x=\"648.4375\" xlink:href=\"#DejaVuSans-65\"/>\n       <use x=\"709.960938\" xlink:href=\"#DejaVuSans-5f\"/>\n       <use x=\"759.960938\" xlink:href=\"#DejaVuSans-73\"/>\n       <use x=\"812.060547\" xlink:href=\"#DejaVuSans-74\"/>\n       <use x=\"851.269531\" xlink:href=\"#DejaVuSans-64\"/>\n      </g>\n     </g>\n    </g>\n    <g id=\"ytick_20\">\n     <g id=\"line2d_27\">\n      <g>\n       <use style=\"stroke:#000000;stroke-width:0.8;\" x=\"142.4\" xlink:href=\"#mc534b49af5\" y=\"446.326125\"/>\n      </g>\n     </g>\n     <g id=\"text_28\">\n      <!-- gaze_0_z_de_std -->\n      <g transform=\"translate(51.93125 450.125344)scale(0.1 -0.1)\">\n       <use xlink:href=\"#DejaVuSans-67\"/>\n       <use x=\"63.476562\" xlink:href=\"#DejaVuSans-61\"/>\n       <use x=\"124.755859\" xlink:href=\"#DejaVuSans-7a\"/>\n       <use x=\"177.246094\" xlink:href=\"#DejaVuSans-65\"/>\n       <use x=\"238.769531\" xlink:href=\"#DejaVuSans-5f\"/>\n       <use x=\"288.769531\" xlink:href=\"#DejaVuSans-30\"/>\n       <use x=\"352.392578\" xlink:href=\"#DejaVuSans-5f\"/>\n       <use x=\"402.392578\" xlink:href=\"#DejaVuSans-7a\"/>\n       <use x=\"454.882812\" xlink:href=\"#DejaVuSans-5f\"/>\n       <use x=\"504.882812\" xlink:href=\"#DejaVuSans-64\"/>\n       <use x=\"568.359375\" xlink:href=\"#DejaVuSans-65\"/>\n       <use x=\"629.882812\" xlink:href=\"#DejaVuSans-5f\"/>\n       <use x=\"679.882812\" xlink:href=\"#DejaVuSans-73\"/>\n       <use x=\"731.982422\" xlink:href=\"#DejaVuSans-74\"/>\n       <use x=\"771.191406\" xlink:href=\"#DejaVuSans-64\"/>\n      </g>\n     </g>\n    </g>\n    <g id=\"text_29\">\n     <!-- FEATURE NAMES -->\n     <g transform=\"translate(14.798437 281.570625)rotate(-90)scale(0.1 -0.1)\">\n      <defs>\n       <path d=\"M 3425 4513 \nL 3425 3897 \nQ 3066 4069 2747 4153 \nQ 2428 4238 2131 4238 \nQ 1616 4238 1336 4038 \nQ 1056 3838 1056 3469 \nQ 1056 3159 1242 3001 \nQ 1428 2844 1947 2747 \nL 2328 2669 \nQ 3034 2534 3370 2195 \nQ 3706 1856 3706 1288 \nQ 3706 609 3251 259 \nQ 2797 -91 1919 -91 \nQ 1588 -91 1214 -16 \nQ 841 59 441 206 \nL 441 856 \nQ 825 641 1194 531 \nQ 1563 422 1919 422 \nQ 2459 422 2753 634 \nQ 3047 847 3047 1241 \nQ 3047 1584 2836 1778 \nQ 2625 1972 2144 2069 \nL 1759 2144 \nQ 1053 2284 737 2584 \nQ 422 2884 422 3419 \nQ 422 4038 858 4394 \nQ 1294 4750 2059 4750 \nQ 2388 4750 2728 4690 \nQ 3069 4631 3425 4513 \nz\n\" id=\"DejaVuSans-53\" transform=\"scale(0.015625)\"/>\n      </defs>\n      <use xlink:href=\"#DejaVuSans-46\"/>\n      <use x=\"57.519531\" xlink:href=\"#DejaVuSans-45\"/>\n      <use x=\"120.703125\" xlink:href=\"#DejaVuSans-41\"/>\n      <use x=\"181.361328\" xlink:href=\"#DejaVuSans-54\"/>\n      <use x=\"242.445312\" xlink:href=\"#DejaVuSans-55\"/>\n      <use x=\"315.638672\" xlink:href=\"#DejaVuSans-52\"/>\n      <use x=\"385.121094\" xlink:href=\"#DejaVuSans-45\"/>\n      <use x=\"448.304688\" xlink:href=\"#DejaVuSans-20\"/>\n      <use x=\"480.091797\" xlink:href=\"#DejaVuSans-4e\"/>\n      <use x=\"554.896484\" xlink:href=\"#DejaVuSans-41\"/>\n      <use x=\"623.304688\" xlink:href=\"#DejaVuSans-4d\"/>\n      <use x=\"709.583984\" xlink:href=\"#DejaVuSans-45\"/>\n      <use x=\"772.767578\" xlink:href=\"#DejaVuSans-53\"/>\n     </g>\n    </g>\n   </g>\n   <g id=\"line2d_28\">\n    <path clip-path=\"url(#pe3c93d4623)\" style=\"fill:none;stroke:#424242;stroke-linecap:square;stroke-width:2.7;\"/>\n   </g>\n   <g id=\"line2d_29\">\n    <path clip-path=\"url(#pe3c93d4623)\" style=\"fill:none;stroke:#424242;stroke-linecap:square;stroke-width:2.7;\"/>\n   </g>\n   <g id=\"line2d_30\">\n    <path clip-path=\"url(#pe3c93d4623)\" style=\"fill:none;stroke:#424242;stroke-linecap:square;stroke-width:2.7;\"/>\n   </g>\n   <g id=\"line2d_31\">\n    <path clip-path=\"url(#pe3c93d4623)\" style=\"fill:none;stroke:#424242;stroke-linecap:square;stroke-width:2.7;\"/>\n   </g>\n   <g id=\"line2d_32\">\n    <path clip-path=\"url(#pe3c93d4623)\" style=\"fill:none;stroke:#424242;stroke-linecap:square;stroke-width:2.7;\"/>\n   </g>\n   <g id=\"line2d_33\">\n    <path clip-path=\"url(#pe3c93d4623)\" style=\"fill:none;stroke:#424242;stroke-linecap:square;stroke-width:2.7;\"/>\n   </g>\n   <g id=\"line2d_34\">\n    <path clip-path=\"url(#pe3c93d4623)\" style=\"fill:none;stroke:#424242;stroke-linecap:square;stroke-width:2.7;\"/>\n   </g>\n   <g id=\"line2d_35\">\n    <path clip-path=\"url(#pe3c93d4623)\" style=\"fill:none;stroke:#424242;stroke-linecap:square;stroke-width:2.7;\"/>\n   </g>\n   <g id=\"line2d_36\">\n    <path clip-path=\"url(#pe3c93d4623)\" style=\"fill:none;stroke:#424242;stroke-linecap:square;stroke-width:2.7;\"/>\n   </g>\n   <g id=\"line2d_37\">\n    <path clip-path=\"url(#pe3c93d4623)\" style=\"fill:none;stroke:#424242;stroke-linecap:square;stroke-width:2.7;\"/>\n   </g>\n   <g id=\"line2d_38\">\n    <path clip-path=\"url(#pe3c93d4623)\" style=\"fill:none;stroke:#424242;stroke-linecap:square;stroke-width:2.7;\"/>\n   </g>\n   <g id=\"line2d_39\">\n    <path clip-path=\"url(#pe3c93d4623)\" style=\"fill:none;stroke:#424242;stroke-linecap:square;stroke-width:2.7;\"/>\n   </g>\n   <g id=\"line2d_40\">\n    <path clip-path=\"url(#pe3c93d4623)\" style=\"fill:none;stroke:#424242;stroke-linecap:square;stroke-width:2.7;\"/>\n   </g>\n   <g id=\"line2d_41\">\n    <path clip-path=\"url(#pe3c93d4623)\" style=\"fill:none;stroke:#424242;stroke-linecap:square;stroke-width:2.7;\"/>\n   </g>\n   <g id=\"line2d_42\">\n    <path clip-path=\"url(#pe3c93d4623)\" style=\"fill:none;stroke:#424242;stroke-linecap:square;stroke-width:2.7;\"/>\n   </g>\n   <g id=\"line2d_43\">\n    <path clip-path=\"url(#pe3c93d4623)\" style=\"fill:none;stroke:#424242;stroke-linecap:square;stroke-width:2.7;\"/>\n   </g>\n   <g id=\"line2d_44\">\n    <path clip-path=\"url(#pe3c93d4623)\" style=\"fill:none;stroke:#424242;stroke-linecap:square;stroke-width:2.7;\"/>\n   </g>\n   <g id=\"line2d_45\">\n    <path clip-path=\"url(#pe3c93d4623)\" style=\"fill:none;stroke:#424242;stroke-linecap:square;stroke-width:2.7;\"/>\n   </g>\n   <g id=\"line2d_46\">\n    <path clip-path=\"url(#pe3c93d4623)\" style=\"fill:none;stroke:#424242;stroke-linecap:square;stroke-width:2.7;\"/>\n   </g>\n   <g id=\"line2d_47\">\n    <path clip-path=\"url(#pe3c93d4623)\" style=\"fill:none;stroke:#424242;stroke-linecap:square;stroke-width:2.7;\"/>\n   </g>\n   <g id=\"patch_23\">\n    <path d=\"M 142.4 457.198125 \nL 142.4 22.318125 \n\" style=\"fill:none;stroke:#000000;stroke-linecap:square;stroke-linejoin:miter;stroke-width:0.8;\"/>\n   </g>\n   <g id=\"patch_24\">\n    <path d=\"M 700.4 457.198125 \nL 700.4 22.318125 \n\" style=\"fill:none;stroke:#000000;stroke-linecap:square;stroke-linejoin:miter;stroke-width:0.8;\"/>\n   </g>\n   <g id=\"patch_25\">\n    <path d=\"M 142.4 457.198125 \nL 700.4 457.198125 \n\" style=\"fill:none;stroke:#000000;stroke-linecap:square;stroke-linejoin:miter;stroke-width:0.8;\"/>\n   </g>\n   <g id=\"patch_26\">\n    <path d=\"M 142.4 22.318125 \nL 700.4 22.318125 \n\" style=\"fill:none;stroke:#000000;stroke-linecap:square;stroke-linejoin:miter;stroke-width:0.8;\"/>\n   </g>\n   <g id=\"text_30\">\n    <!-- Random Forest Feature Importance -->\n    <g transform=\"translate(315.38375 16.318125)scale(0.12 -0.12)\">\n     <defs>\n      <path d=\"M 544 1381 \nL 544 3500 \nL 1119 3500 \nL 1119 1403 \nQ 1119 906 1312 657 \nQ 1506 409 1894 409 \nQ 2359 409 2629 706 \nQ 2900 1003 2900 1516 \nL 2900 3500 \nL 3475 3500 \nL 3475 0 \nL 2900 0 \nL 2900 538 \nQ 2691 219 2414 64 \nQ 2138 -91 1772 -91 \nQ 1169 -91 856 284 \nQ 544 659 544 1381 \nz\nM 1991 3584 \nL 1991 3584 \nz\n\" id=\"DejaVuSans-75\" transform=\"scale(0.015625)\"/>\n     </defs>\n     <use xlink:href=\"#DejaVuSans-52\"/>\n     <use x=\"67.232422\" xlink:href=\"#DejaVuSans-61\"/>\n     <use x=\"128.511719\" xlink:href=\"#DejaVuSans-6e\"/>\n     <use x=\"191.890625\" xlink:href=\"#DejaVuSans-64\"/>\n     <use x=\"255.367188\" xlink:href=\"#DejaVuSans-6f\"/>\n     <use x=\"316.548828\" xlink:href=\"#DejaVuSans-6d\"/>\n     <use x=\"413.960938\" xlink:href=\"#DejaVuSans-20\"/>\n     <use x=\"445.748047\" xlink:href=\"#DejaVuSans-46\"/>\n     <use x=\"499.642578\" xlink:href=\"#DejaVuSans-6f\"/>\n     <use x=\"560.824219\" xlink:href=\"#DejaVuSans-72\"/>\n     <use x=\"599.6875\" xlink:href=\"#DejaVuSans-65\"/>\n     <use x=\"661.210938\" xlink:href=\"#DejaVuSans-73\"/>\n     <use x=\"713.310547\" xlink:href=\"#DejaVuSans-74\"/>\n     <use x=\"752.519531\" xlink:href=\"#DejaVuSans-20\"/>\n     <use x=\"784.306641\" xlink:href=\"#DejaVuSans-46\"/>\n     <use x=\"836.326172\" xlink:href=\"#DejaVuSans-65\"/>\n     <use x=\"897.849609\" xlink:href=\"#DejaVuSans-61\"/>\n     <use x=\"959.128906\" xlink:href=\"#DejaVuSans-74\"/>\n     <use x=\"998.337891\" xlink:href=\"#DejaVuSans-75\"/>\n     <use x=\"1061.716797\" xlink:href=\"#DejaVuSans-72\"/>\n     <use x=\"1100.580078\" xlink:href=\"#DejaVuSans-65\"/>\n     <use x=\"1162.103516\" xlink:href=\"#DejaVuSans-20\"/>\n     <use x=\"1193.890625\" xlink:href=\"#DejaVuSans-49\"/>\n     <use x=\"1223.382812\" xlink:href=\"#DejaVuSans-6d\"/>\n     <use x=\"1320.794922\" xlink:href=\"#DejaVuSans-70\"/>\n     <use x=\"1384.271484\" xlink:href=\"#DejaVuSans-6f\"/>\n     <use x=\"1445.453125\" xlink:href=\"#DejaVuSans-72\"/>\n     <use x=\"1486.566406\" xlink:href=\"#DejaVuSans-74\"/>\n     <use x=\"1525.775391\" xlink:href=\"#DejaVuSans-61\"/>\n     <use x=\"1587.054688\" xlink:href=\"#DejaVuSans-6e\"/>\n     <use x=\"1650.433594\" xlink:href=\"#DejaVuSans-63\"/>\n     <use x=\"1705.414062\" xlink:href=\"#DejaVuSans-65\"/>\n    </g>\n   </g>\n  </g>\n </g>\n <defs>\n  <clipPath id=\"pe3c93d4623\">\n   <rect height=\"434.88\" width=\"558\" x=\"142.4\" y=\"22.318125\"/>\n  </clipPath>\n </defs>\n</svg>\n",
      "image/png": "[encoded data removed]"
     },
     "metadata": {
      "needs_background": "light"
     }
    }
   ],
   "source": [
    "plot_feature_importance(grid.best_estimator_.feature_importances_,x.columns,'Random Forest') "
   ]
  },
  {
   "cell_type": "code",
   "execution_count": 61,
   "metadata": {},
   "outputs": [],
   "source": [
    "#SANS SPATIAL"
   ]
  },
  {
   "cell_type": "code",
   "execution_count": 63,
   "metadata": {},
   "outputs": [],
   "source": [
    "spatial_features = ['gaze_0_x_de_mean',\n",
    "       'gaze_0_x_de_std', 'gaze_0_x_de_de_mean', 'gaze_0_x_de_de_std',\n",
    "       'gaze_0_y_de_mean', 'gaze_0_y_de_std', 'gaze_0_y_de_de_mean',\n",
    "       'gaze_0_y_de_de_std', 'gaze_0_z_de_mean', 'gaze_0_z_de_std',\n",
    "       'gaze_0_z_de_de_mean', 'gaze_0_z_de_de_std', 'gaze_1_x_de_mean',\n",
    "       'gaze_1_x_de_std', 'gaze_1_x_de_de_mean', 'gaze_1_x_de_de_std',\n",
    "       'gaze_1_y_de_mean', 'gaze_1_y_de_std', 'gaze_1_y_de_de_mean',\n",
    "       'gaze_1_y_de_de_std', 'gaze_1_z_de_mean', 'gaze_1_z_de_std',\n",
    "       'gaze_1_z_de_de_mean', 'gaze_1_z_de_de_std', 'gaze_angle_x_de_mean',\n",
    "       'gaze_angle_x_de_std', 'gaze_angle_x_de_de_mean',\n",
    "       'gaze_angle_x_de_de_std', 'gaze_angle_y_de_mean', 'gaze_angle_y_de_std',\n",
    "       'gaze_angle_y_de_de_mean', 'gaze_angle_y_de_de_std', 'pose_Tx_de_mean',\n",
    "       'pose_Tx_de_std', 'pose_Tx_de_de_mean', 'pose_Tx_de_de_std',\n",
    "       'pose_Ty_de_mean', 'pose_Ty_de_std', 'pose_Ty_de_de_mean',\n",
    "       'pose_Ty_de_de_std', 'pose_Tz_de_mean', 'pose_Tz_de_std',\n",
    "       'pose_Tz_de_de_mean', 'pose_Tz_de_de_std', 'pose_Rx_de_mean',\n",
    "       'pose_Rx_de_std', 'pose_Rx_de_de_mean', 'pose_Rx_de_de_std',\n",
    "       'pose_Ry_de_mean', 'pose_Ry_de_std', 'pose_Ry_de_de_mean',\n",
    "       'pose_Ry_de_de_std', 'pose_Rz_de_mean', 'pose_Rz_de_std',\n",
    "       'pose_Rz_de_de_mean', 'pose_Rz_de_de_std']"
   ]
  },
  {
   "cell_type": "code",
   "execution_count": 67,
   "metadata": {},
   "outputs": [
    {
     "output_type": "execute_result",
     "data": {
      "text/plain": [
       "Index(['sexe', 'AU01_r_mean', 'AU01_r_std', 'AU02_r_mean', 'AU02_r_std',\n",
       "       'AU04_r_mean', 'AU04_r_std', 'AU05_r_mean', 'AU05_r_std', 'AU06_r_mean',\n",
       "       'AU06_r_std', 'AU07_r_mean', 'AU07_r_std', 'AU09_r_mean', 'AU09_r_std',\n",
       "       'AU10_r_mean', 'AU10_r_std', 'AU12_r_mean', 'AU12_r_std', 'AU14_r_mean',\n",
       "       'AU14_r_std', 'AU15_r_mean', 'AU15_r_std', 'AU17_r_mean', 'AU17_r_std',\n",
       "       'AU20_r_mean', 'AU20_r_std', 'AU23_r_mean', 'AU23_r_std', 'AU25_r_mean',\n",
       "       'AU25_r_std', 'AU26_r_mean', 'AU26_r_std', 'AU45_r_mean', 'AU45_r_std',\n",
       "       'AU01_c_mean', 'AU01_c_std', 'AU02_c_mean', 'AU02_c_std', 'AU04_c_mean',\n",
       "       'AU04_c_std', 'AU05_c_mean', 'AU05_c_std', 'AU06_c_mean', 'AU06_c_std',\n",
       "       'AU07_c_mean', 'AU07_c_std', 'AU09_c_mean', 'AU09_c_std', 'AU10_c_mean',\n",
       "       'AU10_c_std', 'AU12_c_mean', 'AU12_c_std', 'AU14_c_mean', 'AU14_c_std',\n",
       "       'AU15_c_mean', 'AU15_c_std', 'AU17_c_mean', 'AU17_c_std', 'AU20_c_mean',\n",
       "       'AU20_c_std', 'AU23_c_mean', 'AU23_c_std', 'AU25_c_mean', 'AU25_c_std',\n",
       "       'AU26_c_mean', 'AU26_c_std', 'AU28_c_mean', 'AU28_c_std', 'AU45_c_mean',\n",
       "       'AU45_c_std', 'AU01_r_de_mean', 'AU01_r_de_std', 'AU01_r_de_de_mean',\n",
       "       'AU01_r_de_de_std', 'AU02_r_de_mean', 'AU02_r_de_std',\n",
       "       'AU02_r_de_de_mean', 'AU02_r_de_de_std', 'AU04_r_de_mean',\n",
       "       'AU04_r_de_std', 'AU04_r_de_de_mean', 'AU04_r_de_de_std',\n",
       "       'AU05_r_de_mean', 'AU05_r_de_std', 'AU05_r_de_de_mean',\n",
       "       'AU05_r_de_de_std', 'AU06_r_de_mean', 'AU06_r_de_std',\n",
       "       'AU06_r_de_de_mean', 'AU06_r_de_de_std', 'AU07_r_de_mean',\n",
       "       'AU07_r_de_std', 'AU07_r_de_de_mean', 'AU07_r_de_de_std',\n",
       "       'AU09_r_de_mean', 'AU09_r_de_std', 'AU09_r_de_de_mean',\n",
       "       'AU09_r_de_de_std', 'AU10_r_de_mean', 'AU10_r_de_std',\n",
       "       'AU10_r_de_de_mean', 'AU10_r_de_de_std', 'AU12_r_de_mean',\n",
       "       'AU12_r_de_std', 'AU12_r_de_de_mean', 'AU12_r_de_de_std',\n",
       "       'AU14_r_de_mean', 'AU14_r_de_std', 'AU14_r_de_de_mean',\n",
       "       'AU14_r_de_de_std', 'AU15_r_de_mean', 'AU15_r_de_std',\n",
       "       'AU15_r_de_de_mean', 'AU15_r_de_de_std', 'AU17_r_de_mean',\n",
       "       'AU17_r_de_std', 'AU17_r_de_de_mean', 'AU17_r_de_de_std',\n",
       "       'AU20_r_de_mean', 'AU20_r_de_std', 'AU20_r_de_de_mean',\n",
       "       'AU20_r_de_de_std', 'AU23_r_de_mean', 'AU23_r_de_std',\n",
       "       'AU23_r_de_de_mean', 'AU23_r_de_de_std', 'AU25_r_de_mean',\n",
       "       'AU25_r_de_std', 'AU25_r_de_de_mean', 'AU25_r_de_de_std',\n",
       "       'AU26_r_de_mean', 'AU26_r_de_std', 'AU26_r_de_de_mean',\n",
       "       'AU26_r_de_de_std', 'AU45_r_de_mean', 'AU45_r_de_std',\n",
       "       'AU45_r_de_de_mean', 'AU45_r_de_de_std'],\n",
       "      dtype='object')"
      ]
     },
     "metadata": {},
     "execution_count": 67
    }
   ],
   "source": [
    "x_only_AUC = x.drop(spatial_features, axis =1)\n",
    "x_only_AUC.columns"
   ]
  },
  {
   "cell_type": "code",
   "execution_count": 68,
   "metadata": {},
   "outputs": [
    {
     "output_type": "stream",
     "name": "stdout",
     "text": [
      "Best results 0.4870689655172414\nBest params {'max_depth': 4, 'max_features': 0.2, 'n_estimators': 50}\n"
     ]
    }
   ],
   "source": [
    "from sklearn.model_selection import LeaveOneGroupOut\n",
    "\n",
    "groups = df_total['video_name']\n",
    "loo = LeaveOneGroupOut()\n",
    "\n",
    "cv_loo = loo.split(x_only_AUC, y, groups)\n",
    "\n",
    "##Looking for the best parameters for Random forest, evaluated with accuracy and leave one group out\n",
    "from sklearn.ensemble import RandomForestClassifier\n",
    "params = { 'n_estimators': [50, 100, 200],'max_depth': [4, 6], 'max_features':['sqrt', \"log2\", 0.2]}\n",
    "\n",
    "\n",
    "rf = RandomForestClassifier(random_state = 42) \n",
    "\n",
    "grid = GridSearchCV(estimator = rf, param_grid=params, scoring={'accuracy_score' : 'accuracy', 'f1_score' : 'f1_weighted' }, refit='accuracy_score', cv=cv_loo)\n",
    "grid.fit(x_only_AUC, y)\n",
    "print('Best results', grid.best_score_)\n",
    "print('Best params', grid.best_params_)"
   ]
  },
  {
   "cell_type": "code",
   "execution_count": 69,
   "metadata": {},
   "outputs": [
    {
     "output_type": "stream",
     "name": "stdout",
     "text": [
      "Best results 0.4414016060567784\nBest params {'max_depth': 6, 'max_features': 'sqrt', 'n_estimators': 100}\n"
     ]
    }
   ],
   "source": [
    "##Looking for the best parameters for Random forest, evaluated with accuracy and leave one group out\n",
    "groups = df_total['video_name']\n",
    "loo = LeaveOneGroupOut()\n",
    "\n",
    "cv_loo = loo.split(x_only_AUC, y, groups)\n",
    "params = { 'n_estimators': [50, 100, 200],'max_depth': [4, 6], 'max_features':['sqrt', \"log2\", 0.2]}\n",
    "\n",
    "\n",
    "rf = RandomForestClassifier(random_state = 42) \n",
    "\n",
    "grid = GridSearchCV(estimator = rf, param_grid=params, scoring={'accuracy_score' : 'accuracy', 'f1_score' : 'f1_weighted' }, refit='f1_score', cv=cv_loo)\n",
    "grid.fit(x_only_AUC, y)\n",
    "print('Best results', grid.best_score_)\n",
    "print('Best params', grid.best_params_)"
   ]
  },
  {
   "cell_type": "code",
   "execution_count": null,
   "metadata": {},
   "outputs": [],
   "source": []
  },
  {
   "cell_type": "code",
   "execution_count": null,
   "metadata": {},
   "outputs": [],
   "source": []
  },
  {
   "cell_type": "code",
   "execution_count": null,
   "metadata": {},
   "outputs": [],
   "source": []
  },
  {
   "cell_type": "code",
   "execution_count": null,
   "metadata": {},
   "outputs": [],
   "source": []
  },
  {
   "cell_type": "code",
   "execution_count": null,
   "metadata": {},
   "outputs": [],
   "source": []
  },
  {
   "cell_type": "code",
   "execution_count": null,
   "metadata": {},
   "outputs": [],
   "source": []
  },
  {
   "cell_type": "code",
   "execution_count": null,
   "metadata": {},
   "outputs": [],
   "source": []
  },
  {
   "source": [
    "## 3 JUNE 2021, ADDING FIRST AND SECOND DERIVATIVES TIME WINDOW\n"
   ],
   "cell_type": "markdown",
   "metadata": {}
  },
  {
   "cell_type": "code",
   "execution_count": 13,
   "metadata": {},
   "outputs": [],
   "source": [
    "df_with_deriv = []\n",
    "for i in list_df_max:\n",
    "    to_drop = ['frame','face_id','timestamp','confidence','success', 'type_candidat']\n",
    "    i = add_frameTimeWindow(i)\n",
    "    i = i.drop(to_drop, axis = 1)\n",
    "    i = add_derivatives_drop_spatial(i)\n",
    "    df_with_deriv.append(i)\n"
   ]
  },
  {
   "cell_type": "code",
   "execution_count": 14,
   "metadata": {},
   "outputs": [],
   "source": [
    "groupby_features= ['video_name','stress_global','stress','frameTimeWindow','sexe']\n",
    "\n",
    "df_total = pd.concat(df_with_deriv)\n",
    "df_total = df_total.drop('diapo', axis = 1)\n"
   ]
  },
  {
   "cell_type": "code",
   "execution_count": 15,
   "metadata": {},
   "outputs": [
    {
     "output_type": "execute_result",
     "data": {
      "text/plain": [
       "stress\n",
       "1.0       2377\n",
       "0.0       2015\n",
       "2.0        633\n",
       "3.0         20\n",
       "dtype: int64"
      ]
     },
     "metadata": {},
     "execution_count": 15
    }
   ],
   "source": [
    "\n",
    "df_total = df_total.groupby(groupby_features).agg(['mean']).reset_index()\n",
    "df_total.columns= df_total.columns.map('_'.join).str.strip('_')\n",
    "df_total[['stress']].value_counts()"
   ]
  },
  {
   "cell_type": "code",
   "execution_count": 16,
   "metadata": {},
   "outputs": [],
   "source": [
    "x = df_total.drop(['video_name','stress_global',\t'stress','frameTimeWindow'], axis = 1)\n"
   ]
  },
  {
   "cell_type": "code",
   "execution_count": 17,
   "metadata": {},
   "outputs": [],
   "source": [
    "#Replace string values\n",
    "x.sexe = x.sexe.replace('H',0)\n",
    "x.sexe = x.sexe.replace('F',1)\n",
    "\n",
    "y = df_total[['stress']]\n",
    "\n",
    "\n",
    "\n",
    "from sklearn.model_selection import train_test_split\n",
    "x_train, x_test, y_train, y_test = train_test_split(x, y, test_size=0.3, random_state = 42)\n",
    "\n",
    "y_train = y_train.values.squeeze()\n",
    "y_test = y_test.values.squeeze()\n"
   ]
  },
  {
   "cell_type": "code",
   "execution_count": 18,
   "metadata": {},
   "outputs": [
    {
     "output_type": "stream",
     "name": "stdout",
     "text": [
      "F1 score =  0.7766900508619785\n"
     ]
    }
   ],
   "source": [
    "from sklearn.ensemble import RandomForestClassifier\n",
    "model = RandomForestClassifier(random_state = 42)\n",
    "model.fit(x_train,y_train)\n",
    "y_pred = model.predict(x_test)\n",
    "\n",
    "\n",
    "print(\"F1 score = \", f1_score(y_test, y_pred, average='weighted'))"
   ]
  },
  {
   "cell_type": "code",
   "execution_count": 62,
   "metadata": {},
   "outputs": [],
   "source": [
    "## SPLIT TRAIN AND TEST W RT VIDEOS"
   ]
  },
  {
   "cell_type": "code",
   "execution_count": 63,
   "metadata": {},
   "outputs": [],
   "source": [
    "video_names_train = video_names[0:21]"
   ]
  },
  {
   "cell_type": "code",
   "execution_count": 65,
   "metadata": {},
   "outputs": [],
   "source": [
    "video_names_test =  video_names[21:]"
   ]
  },
  {
   "cell_type": "code",
   "execution_count": 66,
   "metadata": {},
   "outputs": [],
   "source": [
    "df_total_drop = df_total.drop(['stress_global','frameTimeWindow'], axis = 1)\n",
    "df_total_drop.sexe = df_total_drop.sexe.replace('H',0)\n",
    "df_total_drop.sexe = df_total_drop.sexe.replace('F',1)"
   ]
  },
  {
   "cell_type": "code",
   "execution_count": 69,
   "metadata": {},
   "outputs": [],
   "source": [
    " df_train = df_total_drop[df_total_drop[\"video_name\"].isin(video_names_train)]"
   ]
  },
  {
   "cell_type": "code",
   "execution_count": 70,
   "metadata": {},
   "outputs": [],
   "source": [
    "df_test =df_total_drop[df_total_drop[\"video_name\"].isin(video_names_test)]"
   ]
  },
  {
   "cell_type": "code",
   "execution_count": 71,
   "metadata": {},
   "outputs": [],
   "source": [
    "x_train = df_train.drop(['stress', 'video_name'], axis =1)\n",
    "y_train = df_train[['stress']]\n",
    "x_test = df_test.drop(['stress', 'video_name'], axis =1)\n",
    "y_test = df_test[['stress']]\n",
    "\n",
    "\n",
    "\n",
    "\n",
    "y_train = y_train.values.squeeze()\n",
    "y_test = y_test.values.squeeze()"
   ]
  },
  {
   "cell_type": "code",
   "execution_count": 72,
   "metadata": {},
   "outputs": [
    {
     "output_type": "stream",
     "name": "stdout",
     "text": [
      "F1 score =  0.37453722297806136\n"
     ]
    }
   ],
   "source": [
    "from sklearn.ensemble import RandomForestClassifier\n",
    "model = RandomForestClassifier(random_state = 42)\n",
    "model.fit(x_train,y_train)\n",
    "y_pred = model.predict(x_test)\n",
    "\n",
    "\n",
    "print(\"F1 score = \", f1_score(y_test, y_pred, average='weighted'))"
   ]
  },
  {
   "source": [
    "## 8 JUIN 2021, CV WITH LEAVE ONE VIDEO OUT "
   ],
   "cell_type": "markdown",
   "metadata": {}
  },
  {
   "cell_type": "code",
   "execution_count": 19,
   "metadata": {},
   "outputs": [
    {
     "output_type": "stream",
     "name": "stderr",
     "text": [
      "100%|██████████| 29/29 [02:39<00:00,  5.49s/it]\n"
     ]
    }
   ],
   "source": [
    "list_df_max = []\n",
    "for v_name in tqdm(video_names):\n",
    "    df_annoted = get_df_video_with_annotations('/Users/valentinadiproietto/OpenFace/processed/', v_name, filename_annotations, \"max\")\n",
    "    list_df_max.append(eliminate_features(df_annoted))"
   ]
  },
  {
   "cell_type": "code",
   "execution_count": 35,
   "metadata": {},
   "outputs": [],
   "source": [
    "df_with_deriv = []\n",
    "for i in list_df_max:\n",
    "    to_drop = ['frame','face_id','timestamp','confidence','success', 'type_candidat']\n",
    "    i = add_frameTimeWindow(i)\n",
    "    i = i.drop(to_drop, axis = 1)\n",
    "    i = add_derivatives_drop_spatial(i)\n",
    "    df_with_deriv.append(i)"
   ]
  },
  {
   "cell_type": "code",
   "execution_count": 36,
   "metadata": {},
   "outputs": [],
   "source": [
    "groupby_features= ['video_name','stress_global','stress','frameTimeWindow','sexe']\n",
    "\n",
    "df_total = pd.concat(df_with_deriv)\n",
    "df_total = df_total.drop('diapo', axis = 1)\n",
    "\n",
    "df_total = df_total.groupby(groupby_features).agg(['mean']).reset_index()\n",
    "df_total.columns= df_total.columns.map('_'.join).str.strip('_')\n"
   ]
  },
  {
   "cell_type": "code",
   "execution_count": 37,
   "metadata": {},
   "outputs": [],
   "source": [
    "y = pd.concat([df_total[['stress']], df_total[['video_name']]], axis = 1 )\n",
    "x = df_total.drop(['stress_global',\t'stress','frameTimeWindow'], axis = 1)\n",
    "x.sexe = x.sexe.replace('H',0)\n",
    "x.sexe = x.sexe.replace('F',1)"
   ]
  },
  {
   "cell_type": "code",
   "execution_count": 38,
   "metadata": {},
   "outputs": [],
   "source": [
    "from sklearn.model_selection import LeaveOneGroupOut\n",
    "\n",
    "groups = df_total['video_name']\n",
    "loo = LeaveOneGroupOut()\n",
    "\n",
    "cv_loo = loo.split(x, y, groups)\n"
   ]
  },
  {
   "cell_type": "code",
   "execution_count": 39,
   "metadata": {},
   "outputs": [],
   "source": [
    "x_no_name = x.drop(['video_name'], axis = 1)\n",
    "y_no_name = y.drop(['video_name'], axis = 1)\n"
   ]
  },
  {
   "cell_type": "code",
   "execution_count": 40,
   "metadata": {},
   "outputs": [],
   "source": [
    "from sklearn.ensemble import RandomForestClassifier\n",
    "from sklearn.model_selection import cross_val_predict\n",
    "\n",
    "model = RandomForestClassifier(random_state = 42)\n",
    "y_pred= cross_val_predict(model, x_no_name, y_no_name, cv=cv_loo)"
   ]
  },
  {
   "cell_type": "code",
   "execution_count": 41,
   "metadata": {},
   "outputs": [
    {
     "output_type": "stream",
     "name": "stdout",
     "text": [
      "F1 score =  0.4247932417279817\naccuracy = \n"
     ]
    }
   ],
   "source": [
    "print(\"F1 score = \", f1_score(y_no_name, y_pred, average='weighted'))\n",
    "print('accuracy = ', )"
   ]
  },
  {
   "source": [
    "# TUNING HYPERPARAMETERS"
   ],
   "cell_type": "markdown",
   "metadata": {}
  },
  {
   "cell_type": "code",
   "execution_count": 28,
   "metadata": {},
   "outputs": [
    {
     "output_type": "execute_result",
     "data": {
      "text/plain": [
       "GridSearchCV(cv=<generator object BaseCrossValidator.split at 0x7ff0582b3a50>,\n",
       "             estimator=RandomForestClassifier(random_state=42),\n",
       "             param_grid={'max_depth': [4, 6],\n",
       "                         'max_features': ['sqrt', 'log2', 0.2],\n",
       "                         'n_estimators': [50, 100, 200]},\n",
       "             refit='accuracy_score',\n",
       "             scoring={'accuracy_score': 'accuracy', 'f1_score': 'f1_weighted'})"
      ]
     },
     "metadata": {},
     "execution_count": 28
    }
   ],
   "source": [
    "##Looking for the best parameters for Random forest, evaluated with accuracy and leave one group out\n",
    "\n",
    "params = { 'n_estimators': [50, 100, 200],'max_depth': [4, 6], 'max_features':['sqrt', \"log2\", 0.2]}\n",
    "\n",
    "\n",
    "rf = RandomForestClassifier(random_state = 42) \n",
    "\n",
    "grid = GridSearchCV(estimator = rf, param_grid=params, scoring={'accuracy_score' : 'accuracy', 'f1_score' : 'f1_weighted' }, refit='accuracy_score', cv=cv_loo)\n",
    "grid.fit(x_no_name, y_no_name)"
   ]
  },
  {
   "cell_type": "code",
   "execution_count": 29,
   "metadata": {},
   "outputs": [
    {
     "output_type": "stream",
     "name": "stdout",
     "text": [
      "Best results 0.46360566791955415\nBest params {'max_depth': 4, 'max_features': 'log2', 'n_estimators': 50}\n"
     ]
    }
   ],
   "source": [
    "print('Best results', grid.best_score_)\n",
    "print('Best params', grid.best_params_)"
   ]
  },
  {
   "cell_type": "code",
   "execution_count": 30,
   "metadata": {},
   "outputs": [
    {
     "output_type": "execute_result",
     "data": {
      "text/plain": [
       "RandomForestClassifier(max_depth=4, max_features='log2', n_estimators=50,\n",
       "                       random_state=42)"
      ]
     },
     "metadata": {},
     "execution_count": 30
    }
   ],
   "source": [
    "#take the model with the best parameters\n",
    "grid.best_estimator_"
   ]
  },
  {
   "cell_type": "code",
   "execution_count": 43,
   "metadata": {},
   "outputs": [],
   "source": [
    "#predict with the best model of above, and with Leave one Group out.\n",
    "\n",
    "from sklearn.model_selection import cross_val_predict\n",
    "\n",
    "groups = df_total['video_name']\n",
    "loo = LeaveOneGroupOut()\n",
    "\n",
    "cv_loo = loo.split(x, y, groups)\n",
    "\n",
    "y_pred= cross_val_predict(grid.best_estimator_, x_no_name, y_no_name, cv=cv_loo)"
   ]
  },
  {
   "source": [
    "## PREDICT GLOBAL STRESS, adding to the dataframe of 5timewindow the column with the predictions made on each time window, then group by video_name aggregate everything by mean and make the prediction with leave one video out"
   ],
   "cell_type": "markdown",
   "metadata": {}
  },
  {
   "cell_type": "code",
   "execution_count": 76,
   "metadata": {},
   "outputs": [],
   "source": [
    "y_pred\n",
    "y_pred_pd = pd.Series(y_pred)\n",
    "y_pred_pd.name = \"pred\"\n"
   ]
  },
  {
   "cell_type": "code",
   "execution_count": 77,
   "metadata": {},
   "outputs": [],
   "source": [
    "#This is x at which I have added a last column with the prediction for each 5 seconds\n",
    "x_with_predict_5 = pd.concat([x, y_pred_pd], axis = 1)\n",
    "y_stress_global =pd.concat([df_total['stress_global'], df_total['video_name']], axis = 1)"
   ]
  },
  {
   "cell_type": "code",
   "execution_count": 111,
   "metadata": {},
   "outputs": [
    {
     "output_type": "stream",
     "name": "stdout",
     "text": [
      "(29, 2)\n(29, 100)\n"
     ]
    }
   ],
   "source": [
    "#aggregate by video_name to predict stress global\n",
    "x_aggregated = x_with_predict_5.groupby('video_name').agg(['mean']).reset_index()\n",
    "x_aggregated.columns = x_aggregated.columns.map('_'.join).str.strip('_')\n",
    "y_aggregated = y_stress_global.groupby('video_name').agg(['mean']).reset_index()\n",
    "y_aggregated.columns = y_aggregated.columns.map('_'.join).str.strip('_')\n",
    "print(y_aggregated.shape)\n",
    "print(x_aggregated.shape)"
   ]
  },
  {
   "cell_type": "code",
   "execution_count": 118,
   "metadata": {
    "tags": []
   },
   "outputs": [
    {
     "output_type": "stream",
     "name": "stdout",
     "text": [
      "29\n"
     ]
    },
    {
     "output_type": "execute_result",
     "data": {
      "text/plain": [
       "GridSearchCV(cv=<generator object BaseCrossValidator.split at 0x7fede8a46050>,\n",
       "             estimator=RandomForestClassifier(random_state=42),\n",
       "             param_grid={'max_depth': [4, 6],\n",
       "                         'max_features': ['sqrt', 'log2', 0.2],\n",
       "                         'n_estimators': [50, 100, 200]},\n",
       "             refit='accuracy_score',\n",
       "             scoring={'accuracy_score': 'accuracy', 'f1_score': 'f1_weighted'})"
      ]
     },
     "metadata": {},
     "execution_count": 118
    }
   ],
   "source": [
    "\n",
    "from sklearn.model_selection import LeaveOneOut\n",
    "loo = LeaveOneOut()\n",
    "print(loo.get_n_splits(y_aggregated))\n",
    "cv_loo = loo.split(y_aggregated)\n",
    "\n",
    "\n",
    "x_aggregated_no_name = x_aggregated.drop('video_name', axis = 1)\n",
    "y_aggregated_no_name = y_aggregated.drop('video_name', axis = 1).values\n",
    "\n",
    "##Looking for the best parameters for Random forest, evaluated with accuracy and leave one group out\n",
    "\n",
    "params = { 'n_estimators': [50, 100, 200],'max_depth': [4, 6], 'max_features':['sqrt', \"log2\", 0.2]}\n",
    "\n",
    "\n",
    "rf = RandomForestClassifier(random_state = 42) \n",
    "\n",
    "grid = GridSearchCV(estimator = rf, param_grid=params, scoring={'accuracy_score' : 'accuracy', 'f1_score' : 'f1_weighted' }, refit='accuracy_score', cv=cv_loo)\n",
    "grid.fit(x_aggregated_no_name, y_aggregated_no_name)"
   ]
  },
  {
   "cell_type": "code",
   "execution_count": 119,
   "metadata": {},
   "outputs": [
    {
     "output_type": "stream",
     "name": "stdout",
     "text": [
      "Best results 0.41379310344827586\nBest params {'max_depth': 4, 'max_features': 'sqrt', 'n_estimators': 100}\n"
     ]
    }
   ],
   "source": [
    "print('Best results', grid.best_score_)\n",
    "print('Best params', grid.best_params_)"
   ]
  },
  {
   "cell_type": "code",
   "execution_count": null,
   "metadata": {},
   "outputs": [],
   "source": [
    "# here is the SAME IDE BUT DONE TWIE"
   ]
  }
 ],
 "metadata": {
  "kernelspec": {
   "name": "python3",
   "display_name": "Python 3.7.6 64-bit ('base': conda)"
  },
  "language_info": {
   "codemirror_mode": {
    "name": "ipython",
    "version": 3
   },
   "file_extension": ".py",
   "mimetype": "text/x-python",
   "name": "python",
   "nbconvert_exporter": "python",
   "pygments_lexer": "ipython3",
   "version": "3.7.6"
  },
  "interpreter": {
   "hash": "dd1cf4766d5d9df855e04619ca954236457012a0dce4d3d89890d807f4ecf8a5"
  }
 },
 "nbformat": 4,
 "nbformat_minor": 4
}