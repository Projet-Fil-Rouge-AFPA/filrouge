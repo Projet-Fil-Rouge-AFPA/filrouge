{
 "cells": [
  {
   "cell_type": "code",
   "execution_count": 74,
   "metadata": {},
   "outputs": [],
   "source": [
    "import os\n",
    "import subprocess\n",
    "import pandas as pd\n",
    "import platform\n",
    "import pathlib\n",
    "import numpy as np\n",
    "from annotations import *\n",
    "from extract_video_features import *\n"
   ]
  },
  {
   "cell_type": "code",
   "execution_count": null,
   "metadata": {},
   "outputs": [],
   "source": []
  },
  {
   "cell_type": "code",
   "execution_count": 49,
   "metadata": {},
   "outputs": [],
   "source": [
    "#get current directory\n",
    "cwd = os.getcwd()"
   ]
  },
  {
   "cell_type": "code",
   "execution_count": 50,
   "metadata": {},
   "outputs": [
    {
     "output_type": "execute_result",
     "data": {
      "text/plain": [
       "'/Users/valentinadiproietto/OpenFace'"
      ]
     },
     "metadata": {},
     "execution_count": 50
    }
   ],
   "source": [
    "cwd"
   ]
  },
  {
   "cell_type": "code",
   "execution_count": 51,
   "metadata": {},
   "outputs": [],
   "source": [
    "OpenFace_folder = '/Users/valentinadiproietto/OpenFace'"
   ]
  },
  {
   "cell_type": "code",
   "execution_count": 52,
   "metadata": {},
   "outputs": [],
   "source": [
    "Video_folder = '/Users/valentinadiproietto/Desktop/video_stress'"
   ]
  },
  {
   "cell_type": "code",
   "execution_count": 53,
   "metadata": {},
   "outputs": [],
   "source": [
    "def get_videos(directory_path):\n",
    "    \"\"\" Get videos paths\n",
    "\n",
    "    Args:\n",
    "        directory_path (string): directory where to search for the videos\n",
    "\n",
    "    Returns:\n",
    "        [string]: list of the video paths\n",
    "        [string]: list of the video names\n",
    "    \"\"\"\n",
    "    # define the path\n",
    "    currentDirectory = pathlib.Path(directory_path)\n",
    "\n",
    "    # videos extension\n",
    "    currentPattern = \"*.mp4\"\n",
    "\n",
    "    videos_paths_list = [str(currentFile) for currentFile in currentDirectory.glob(currentPattern)]\n",
    "    if videos_paths_list:\n",
    "        video_filenames_list = [video_path.replace(directory_path,'').replace('/','')[:-4] for video_path in videos_paths_list]\n",
    "    else:\n",
    "        video_filenames_list = []\n",
    "        \n",
    "    return videos_paths_list, video_filenames_list"
   ]
  },
  {
   "cell_type": "code",
   "execution_count": 54,
   "metadata": {},
   "outputs": [],
   "source": [
    "new_videos = ['/Users/valentinadiproietto/Desktop/video_stress/WIN_20210403_18_49_15_Pro.mp4']"
   ]
  },
  {
   "cell_type": "code",
   "execution_count": 12,
   "metadata": {},
   "outputs": [],
   "source": [
    "for i in new_videos:\n",
    "    extract_video_features(OpenFace_folder, i)"
   ]
  },
  {
   "cell_type": "code",
   "execution_count": 55,
   "metadata": {},
   "outputs": [],
   "source": [
    "video_paths, video_names = get_videos(Video_folder)"
   ]
  },
  {
   "cell_type": "code",
   "execution_count": 56,
   "metadata": {},
   "outputs": [
    {
     "output_type": "execute_result",
     "data": {
      "text/plain": [
       "['/Users/valentinadiproietto/Desktop/video_stress/WIN_20210331_21_22_52_Pro.mp4',\n",
       " '/Users/valentinadiproietto/Desktop/video_stress/WIN_20210329_14_13_45_Pro.mp4',\n",
       " '/Users/valentinadiproietto/Desktop/video_stress/WIN_20210406_18_49_10_Pro.mp4',\n",
       " '/Users/valentinadiproietto/Desktop/video_stress/WIN_20210408_14_11_32_Pro.mp4',\n",
       " '/Users/valentinadiproietto/Desktop/video_stress/WIN_20210408_15_20_51_Pro.mp4',\n",
       " '/Users/valentinadiproietto/Desktop/video_stress/WIN_20210404_10_58_27_Pro.mp4',\n",
       " '/Users/valentinadiproietto/Desktop/video_stress/WIN_20210414_06_24_52_Pro.mp4',\n",
       " '/Users/valentinadiproietto/Desktop/video_stress/WIN_20210406_15_06_15_Pro.mp4',\n",
       " '/Users/valentinadiproietto/Desktop/video_stress/WIN_20210417_14_53_12_Pro.mp4',\n",
       " '/Users/valentinadiproietto/Desktop/video_stress/WIN_20210413_15_38_01_Pro.mp4',\n",
       " '/Users/valentinadiproietto/Desktop/video_stress/WIN_20210408_11_48_58_Pro.mp4',\n",
       " '/Users/valentinadiproietto/Desktop/video_stress/WIN_20210408_16_04_32_Pro.mp4',\n",
       " '/Users/valentinadiproietto/Desktop/video_stress/WIN_20210329_10_16_02_Pro.mp4',\n",
       " '/Users/valentinadiproietto/Desktop/video_stress/WIN_20210323_19_17_40_Pro.mp4',\n",
       " '/Users/valentinadiproietto/Desktop/video_stress/WIN_20210409_10_26_11_Pro.mp4',\n",
       " '/Users/valentinadiproietto/Desktop/video_stress/Test_pour_AFPA.mp4',\n",
       " '/Users/valentinadiproietto/Desktop/video_stress/WIN_20210405_15_09_16_Pro.mp4',\n",
       " '/Users/valentinadiproietto/Desktop/video_stress/WIN_20210407_14_54_56_Pro_edit2.mp4',\n",
       " '/Users/valentinadiproietto/Desktop/video_stress/WIN_20210406_21_05_52_Pro.mp4',\n",
       " '/Users/valentinadiproietto/Desktop/video_stress/WIN_20210403_18_49_15_Pro.mp4',\n",
       " '/Users/valentinadiproietto/Desktop/video_stress/WIN_20210408_14_02_19_Pro.mp4',\n",
       " '/Users/valentinadiproietto/Desktop/video_stress/WIN_20210415_15_41_24_Pro.mp4',\n",
       " '/Users/valentinadiproietto/Desktop/video_stress/WIN_20210406_18_35_52_Pro.mp4',\n",
       " '/Users/valentinadiproietto/Desktop/video_stress/WIN_20210402_14_27_50_Pro.mp4',\n",
       " '/Users/valentinadiproietto/Desktop/video_stress/WIN_20210407_09_04_05_Pro.mp4',\n",
       " '/Users/valentinadiproietto/Desktop/video_stress/WIN_20210402_19_04_53_Pro.mp4',\n",
       " '/Users/valentinadiproietto/Desktop/video_stress/WIN_20210416_08_06_54_Pro.mp4',\n",
       " '/Users/valentinadiproietto/Desktop/video_stress/Video_1.mp4',\n",
       " '/Users/valentinadiproietto/Desktop/video_stress/WIN_20210408_14_00_44_Pro.mp4',\n",
       " '/Users/valentinadiproietto/Desktop/video_stress/WIN_20210404_21_41_12_Pro.mp4',\n",
       " '/Users/valentinadiproietto/Desktop/video_stress/WIN_20210330_13_10_29_Pro.mp4']"
      ]
     },
     "metadata": {},
     "execution_count": 56
    }
   ],
   "source": [
    "video_paths"
   ]
  },
  {
   "cell_type": "code",
   "execution_count": 57,
   "metadata": {},
   "outputs": [
    {
     "output_type": "execute_result",
     "data": {
      "text/plain": [
       "['WIN_20210331_21_22_52_Pro',\n",
       " 'WIN_20210329_14_13_45_Pro',\n",
       " 'WIN_20210406_18_49_10_Pro',\n",
       " 'WIN_20210408_14_11_32_Pro',\n",
       " 'WIN_20210408_15_20_51_Pro',\n",
       " 'WIN_20210404_10_58_27_Pro',\n",
       " 'WIN_20210414_06_24_52_Pro',\n",
       " 'WIN_20210406_15_06_15_Pro',\n",
       " 'WIN_20210417_14_53_12_Pro',\n",
       " 'WIN_20210413_15_38_01_Pro',\n",
       " 'WIN_20210408_11_48_58_Pro',\n",
       " 'WIN_20210408_16_04_32_Pro',\n",
       " 'WIN_20210329_10_16_02_Pro',\n",
       " 'WIN_20210323_19_17_40_Pro',\n",
       " 'WIN_20210409_10_26_11_Pro',\n",
       " 'Test_pour_AFPA',\n",
       " 'WIN_20210405_15_09_16_Pro',\n",
       " 'WIN_20210407_14_54_56_Pro_edit2',\n",
       " 'WIN_20210406_21_05_52_Pro',\n",
       " 'WIN_20210403_18_49_15_Pro',\n",
       " 'WIN_20210408_14_02_19_Pro',\n",
       " 'WIN_20210415_15_41_24_Pro',\n",
       " 'WIN_20210406_18_35_52_Pro',\n",
       " 'WIN_20210402_14_27_50_Pro',\n",
       " 'WIN_20210407_09_04_05_Pro',\n",
       " 'WIN_20210402_19_04_53_Pro',\n",
       " 'WIN_20210416_08_06_54_Pro',\n",
       " 'Video_1',\n",
       " 'WIN_20210408_14_00_44_Pro',\n",
       " 'WIN_20210404_21_41_12_Pro',\n",
       " 'WIN_20210330_13_10_29_Pro']"
      ]
     },
     "metadata": {},
     "execution_count": 57
    }
   ],
   "source": [
    "video_names"
   ]
  },
  {
   "cell_type": "code",
   "execution_count": 16,
   "metadata": {},
   "outputs": [],
   "source": [
    "list_dataframes =[]\n",
    "for i in video_names:\n",
    "    list_dataframes.append( create_dataframe_video('/Users/valentinadiproietto/OpenFace/processed/', i))\n",
    "    "
   ]
  },
  {
   "cell_type": "code",
   "execution_count": 58,
   "metadata": {},
   "outputs": [
    {
     "output_type": "execute_result",
     "data": {
      "text/plain": [
       "31"
      ]
     },
     "metadata": {},
     "execution_count": 58
    }
   ],
   "source": [
    "len(list_dataframes)"
   ]
  },
  {
   "cell_type": "code",
   "execution_count": 59,
   "metadata": {},
   "outputs": [
    {
     "output_type": "stream",
     "name": "stdout",
     "text": [
      "98.34157695664824\n93.96474986647677\n100.0\n99.9474444882407\n99.22779922779922\n99.96171516079633\n95.07823613086771\n99.87678987678987\n100.0\n99.51358405504804\n98.44551626678135\n99.9315399484536\n100.0\n99.96298428888706\n98.88920191572423\n100.0\n99.88188260948573\n100.0\n98.7196683331301\n99.5310891693035\n99.97950399672064\n100.0\n99.69153483453047\n47.2531935317138\n100.0\n99.9057048561999\n100.0\n100.0\n100.0\n99.08576533650982\n99.39536601126188\n"
     ]
    }
   ],
   "source": [
    "for i in list_dataframes:\n",
    "    print(check_success(i))\n",
    "    "
   ]
  },
  {
   "cell_type": "markdown",
   "metadata": {},
   "source": [
    "The video \"'WIN_20210402_14_27_50_Pro'\" is problematic for OpenFace, in less than 50% of the frames OpenFace succeded in detecting a face, but in all the other cases OpenFace was succesful, what do we do with this video, maybe we erase the video?"
   ]
  },
  {
   "cell_type": "code",
   "execution_count": 16,
   "metadata": {},
   "outputs": [],
   "source": [
    "annotations_file ='/Users/valentinadiproietto/Desktop/video_stress/Videos_Annotations - Template.csv'"
   ]
  },
  {
   "cell_type": "code",
   "execution_count": 60,
   "metadata": {},
   "outputs": [],
   "source": [
    "df=list_dataframes[0]"
   ]
  },
  {
   "cell_type": "code",
   "execution_count": 17,
   "metadata": {},
   "outputs": [
    {
     "output_type": "execute_result",
     "data": {
      "text/plain": [
       "       frame  face_id  timestamp  confidence  success  gaze_0_x  gaze_0_y  \\\n",
       "0          1        0      0.000        0.98        1  0.058144 -0.086946   \n",
       "1          2        0      0.060        0.98        1  0.076459 -0.143412   \n",
       "2          3        0      0.120        0.98        1  0.079903 -0.110330   \n",
       "3          4        0      0.180        0.98        1  0.117146 -0.106546   \n",
       "4          5        0      0.240        0.98        1  0.080384 -0.101181   \n",
       "...      ...      ...        ...         ...      ...       ...       ...   \n",
       "13743  13744        0    823.526        0.98        1 -0.273697 -0.041309   \n",
       "13744  13745        0    823.586        0.98        1 -0.268158 -0.050530   \n",
       "13745  13746        0    823.646        0.98        1 -0.237320 -0.039591   \n",
       "13746  13747        0    823.705        0.98        1 -0.253612 -0.047883   \n",
       "13747  13748        0    823.765        0.98        1 -0.201447 -0.059082   \n",
       "\n",
       "       gaze_0_z  gaze_1_x  gaze_1_y  ...  AU20_c  AU23_c  AU25_c  AU26_c  \\\n",
       "0     -0.994515 -0.265938 -0.064276  ...     1.0     0.0     0.0     0.0   \n",
       "1     -0.986705 -0.259332 -0.081572  ...     1.0     1.0     0.0     0.0   \n",
       "2     -0.990678 -0.255499 -0.076939  ...     1.0     1.0     0.0     0.0   \n",
       "3     -0.987383 -0.247323 -0.062280  ...     1.0     1.0     0.0     0.0   \n",
       "4     -0.991615 -0.289122 -0.066332  ...     1.0     1.0     0.0     0.0   \n",
       "...         ...       ...       ...  ...     ...     ...     ...     ...   \n",
       "13743 -0.960928 -0.439917  0.018487  ...     0.0     1.0     0.0     0.0   \n",
       "13744 -0.962049 -0.418280  0.013013  ...     0.0     1.0     0.0     0.0   \n",
       "13745 -0.970624 -0.385063  0.008704  ...     0.0     1.0     0.0     0.0   \n",
       "13746 -0.966120 -0.353438  0.000489  ...     0.0     1.0     1.0     0.0   \n",
       "13747 -0.977716 -0.356738 -0.019058  ...     0.0     0.0     0.0     0.0   \n",
       "\n",
       "       AU28_c  AU45_c                 video_name  stress_global  stress  diapo  \n",
       "0         0.0     1.0  WIN_20210331_21_22_52_Pro              1       0      1  \n",
       "1         0.0     1.0  WIN_20210331_21_22_52_Pro              1       0      1  \n",
       "2         0.0     1.0  WIN_20210331_21_22_52_Pro              1       0      1  \n",
       "3         0.0     1.0  WIN_20210331_21_22_52_Pro              1       0      1  \n",
       "4         0.0     1.0  WIN_20210331_21_22_52_Pro              1       0      1  \n",
       "...       ...     ...                        ...            ...     ...    ...  \n",
       "13743     0.0     1.0  WIN_20210331_21_22_52_Pro              1       1     18  \n",
       "13744     0.0     1.0  WIN_20210331_21_22_52_Pro              1       1     18  \n",
       "13745     0.0     1.0  WIN_20210331_21_22_52_Pro              1       1     18  \n",
       "13746     0.0     1.0  WIN_20210331_21_22_52_Pro              1       1     18  \n",
       "13747     0.0     1.0  WIN_20210331_21_22_52_Pro              1       1     18  \n",
       "\n",
       "[13748 rows x 718 columns]"
      ],
      "text/html": "<div>\n<style scoped>\n    .dataframe tbody tr th:only-of-type {\n        vertical-align: middle;\n    }\n\n    .dataframe tbody tr th {\n        vertical-align: top;\n    }\n\n    .dataframe thead th {\n        text-align: right;\n    }\n</style>\n<table border=\"1\" class=\"dataframe\">\n  <thead>\n    <tr style=\"text-align: right;\">\n      <th></th>\n      <th>frame</th>\n      <th>face_id</th>\n      <th>timestamp</th>\n      <th>confidence</th>\n      <th>success</th>\n      <th>gaze_0_x</th>\n      <th>gaze_0_y</th>\n      <th>gaze_0_z</th>\n      <th>gaze_1_x</th>\n      <th>gaze_1_y</th>\n      <th>...</th>\n      <th>AU20_c</th>\n      <th>AU23_c</th>\n      <th>AU25_c</th>\n      <th>AU26_c</th>\n      <th>AU28_c</th>\n      <th>AU45_c</th>\n      <th>video_name</th>\n      <th>stress_global</th>\n      <th>stress</th>\n      <th>diapo</th>\n    </tr>\n  </thead>\n  <tbody>\n    <tr>\n      <th>0</th>\n      <td>1</td>\n      <td>0</td>\n      <td>0.000</td>\n      <td>0.98</td>\n      <td>1</td>\n      <td>0.058144</td>\n      <td>-0.086946</td>\n      <td>-0.994515</td>\n      <td>-0.265938</td>\n      <td>-0.064276</td>\n      <td>...</td>\n      <td>1.0</td>\n      <td>0.0</td>\n      <td>0.0</td>\n      <td>0.0</td>\n      <td>0.0</td>\n      <td>1.0</td>\n      <td>WIN_20210331_21_22_52_Pro</td>\n      <td>1</td>\n      <td>0</td>\n      <td>1</td>\n    </tr>\n    <tr>\n      <th>1</th>\n      <td>2</td>\n      <td>0</td>\n      <td>0.060</td>\n      <td>0.98</td>\n      <td>1</td>\n      <td>0.076459</td>\n      <td>-0.143412</td>\n      <td>-0.986705</td>\n      <td>-0.259332</td>\n      <td>-0.081572</td>\n      <td>...</td>\n      <td>1.0</td>\n      <td>1.0</td>\n      <td>0.0</td>\n      <td>0.0</td>\n      <td>0.0</td>\n      <td>1.0</td>\n      <td>WIN_20210331_21_22_52_Pro</td>\n      <td>1</td>\n      <td>0</td>\n      <td>1</td>\n    </tr>\n    <tr>\n      <th>2</th>\n      <td>3</td>\n      <td>0</td>\n      <td>0.120</td>\n      <td>0.98</td>\n      <td>1</td>\n      <td>0.079903</td>\n      <td>-0.110330</td>\n      <td>-0.990678</td>\n      <td>-0.255499</td>\n      <td>-0.076939</td>\n      <td>...</td>\n      <td>1.0</td>\n      <td>1.0</td>\n      <td>0.0</td>\n      <td>0.0</td>\n      <td>0.0</td>\n      <td>1.0</td>\n      <td>WIN_20210331_21_22_52_Pro</td>\n      <td>1</td>\n      <td>0</td>\n      <td>1</td>\n    </tr>\n    <tr>\n      <th>3</th>\n      <td>4</td>\n      <td>0</td>\n      <td>0.180</td>\n      <td>0.98</td>\n      <td>1</td>\n      <td>0.117146</td>\n      <td>-0.106546</td>\n      <td>-0.987383</td>\n      <td>-0.247323</td>\n      <td>-0.062280</td>\n      <td>...</td>\n      <td>1.0</td>\n      <td>1.0</td>\n      <td>0.0</td>\n      <td>0.0</td>\n      <td>0.0</td>\n      <td>1.0</td>\n      <td>WIN_20210331_21_22_52_Pro</td>\n      <td>1</td>\n      <td>0</td>\n      <td>1</td>\n    </tr>\n    <tr>\n      <th>4</th>\n      <td>5</td>\n      <td>0</td>\n      <td>0.240</td>\n      <td>0.98</td>\n      <td>1</td>\n      <td>0.080384</td>\n      <td>-0.101181</td>\n      <td>-0.991615</td>\n      <td>-0.289122</td>\n      <td>-0.066332</td>\n      <td>...</td>\n      <td>1.0</td>\n      <td>1.0</td>\n      <td>0.0</td>\n      <td>0.0</td>\n      <td>0.0</td>\n      <td>1.0</td>\n      <td>WIN_20210331_21_22_52_Pro</td>\n      <td>1</td>\n      <td>0</td>\n      <td>1</td>\n    </tr>\n    <tr>\n      <th>...</th>\n      <td>...</td>\n      <td>...</td>\n      <td>...</td>\n      <td>...</td>\n      <td>...</td>\n      <td>...</td>\n      <td>...</td>\n      <td>...</td>\n      <td>...</td>\n      <td>...</td>\n      <td>...</td>\n      <td>...</td>\n      <td>...</td>\n      <td>...</td>\n      <td>...</td>\n      <td>...</td>\n      <td>...</td>\n      <td>...</td>\n      <td>...</td>\n      <td>...</td>\n      <td>...</td>\n    </tr>\n    <tr>\n      <th>13743</th>\n      <td>13744</td>\n      <td>0</td>\n      <td>823.526</td>\n      <td>0.98</td>\n      <td>1</td>\n      <td>-0.273697</td>\n      <td>-0.041309</td>\n      <td>-0.960928</td>\n      <td>-0.439917</td>\n      <td>0.018487</td>\n      <td>...</td>\n      <td>0.0</td>\n      <td>1.0</td>\n      <td>0.0</td>\n      <td>0.0</td>\n      <td>0.0</td>\n      <td>1.0</td>\n      <td>WIN_20210331_21_22_52_Pro</td>\n      <td>1</td>\n      <td>1</td>\n      <td>18</td>\n    </tr>\n    <tr>\n      <th>13744</th>\n      <td>13745</td>\n      <td>0</td>\n      <td>823.586</td>\n      <td>0.98</td>\n      <td>1</td>\n      <td>-0.268158</td>\n      <td>-0.050530</td>\n      <td>-0.962049</td>\n      <td>-0.418280</td>\n      <td>0.013013</td>\n      <td>...</td>\n      <td>0.0</td>\n      <td>1.0</td>\n      <td>0.0</td>\n      <td>0.0</td>\n      <td>0.0</td>\n      <td>1.0</td>\n      <td>WIN_20210331_21_22_52_Pro</td>\n      <td>1</td>\n      <td>1</td>\n      <td>18</td>\n    </tr>\n    <tr>\n      <th>13745</th>\n      <td>13746</td>\n      <td>0</td>\n      <td>823.646</td>\n      <td>0.98</td>\n      <td>1</td>\n      <td>-0.237320</td>\n      <td>-0.039591</td>\n      <td>-0.970624</td>\n      <td>-0.385063</td>\n      <td>0.008704</td>\n      <td>...</td>\n      <td>0.0</td>\n      <td>1.0</td>\n      <td>0.0</td>\n      <td>0.0</td>\n      <td>0.0</td>\n      <td>1.0</td>\n      <td>WIN_20210331_21_22_52_Pro</td>\n      <td>1</td>\n      <td>1</td>\n      <td>18</td>\n    </tr>\n    <tr>\n      <th>13746</th>\n      <td>13747</td>\n      <td>0</td>\n      <td>823.705</td>\n      <td>0.98</td>\n      <td>1</td>\n      <td>-0.253612</td>\n      <td>-0.047883</td>\n      <td>-0.966120</td>\n      <td>-0.353438</td>\n      <td>0.000489</td>\n      <td>...</td>\n      <td>0.0</td>\n      <td>1.0</td>\n      <td>1.0</td>\n      <td>0.0</td>\n      <td>0.0</td>\n      <td>1.0</td>\n      <td>WIN_20210331_21_22_52_Pro</td>\n      <td>1</td>\n      <td>1</td>\n      <td>18</td>\n    </tr>\n    <tr>\n      <th>13747</th>\n      <td>13748</td>\n      <td>0</td>\n      <td>823.765</td>\n      <td>0.98</td>\n      <td>1</td>\n      <td>-0.201447</td>\n      <td>-0.059082</td>\n      <td>-0.977716</td>\n      <td>-0.356738</td>\n      <td>-0.019058</td>\n      <td>...</td>\n      <td>0.0</td>\n      <td>0.0</td>\n      <td>0.0</td>\n      <td>0.0</td>\n      <td>0.0</td>\n      <td>1.0</td>\n      <td>WIN_20210331_21_22_52_Pro</td>\n      <td>1</td>\n      <td>1</td>\n      <td>18</td>\n    </tr>\n  </tbody>\n</table>\n<p>13748 rows × 718 columns</p>\n</div>"
     },
     "metadata": {},
     "execution_count": 17
    }
   ],
   "source": [
    "add_video_annotations(df, annotations_file, 2, 'WIN_20210331_21_22_52_Pro')"
   ]
  },
  {
   "cell_type": "code",
   "execution_count": 77,
   "metadata": {},
   "outputs": [],
   "source": [
    "a,b, c =get_annotations_video(annotations_file, 'WIN_20210331_21_22_52_Pro','max')"
   ]
  },
  {
   "cell_type": "code",
   "execution_count": 79,
   "metadata": {},
   "outputs": [
    {
     "output_type": "stream",
     "name": "stdout",
     "text": [
      "141 591 [0.0, 0.0, 1.0, 1.0, 1.0, 1.0, 0.0, 1.0, 1.0]\n"
     ]
    }
   ],
   "source": [
    "print(a,b,c)"
   ]
  },
  {
   "cell_type": "code",
   "execution_count": 18,
   "metadata": {},
   "outputs": [
    {
     "output_type": "execute_result",
     "data": {
      "text/plain": [
       "       frame  face_id  timestamp  confidence  success  gaze_0_x  gaze_0_y  \\\n",
       "0          1        0      0.000        0.98        1  0.058144 -0.086946   \n",
       "1          2        0      0.060        0.98        1  0.076459 -0.143412   \n",
       "2          3        0      0.120        0.98        1  0.079903 -0.110330   \n",
       "3          4        0      0.180        0.98        1  0.117146 -0.106546   \n",
       "4          5        0      0.240        0.98        1  0.080384 -0.101181   \n",
       "...      ...      ...        ...         ...      ...       ...       ...   \n",
       "13743  13744        0    823.526        0.98        1 -0.273697 -0.041309   \n",
       "13744  13745        0    823.586        0.98        1 -0.268158 -0.050530   \n",
       "13745  13746        0    823.646        0.98        1 -0.237320 -0.039591   \n",
       "13746  13747        0    823.705        0.98        1 -0.253612 -0.047883   \n",
       "13747  13748        0    823.765        0.98        1 -0.201447 -0.059082   \n",
       "\n",
       "       gaze_0_z  gaze_1_x  gaze_1_y  ...  AU20_c  AU23_c  AU25_c  AU26_c  \\\n",
       "0     -0.994515 -0.265938 -0.064276  ...     1.0     0.0     0.0     0.0   \n",
       "1     -0.986705 -0.259332 -0.081572  ...     1.0     1.0     0.0     0.0   \n",
       "2     -0.990678 -0.255499 -0.076939  ...     1.0     1.0     0.0     0.0   \n",
       "3     -0.987383 -0.247323 -0.062280  ...     1.0     1.0     0.0     0.0   \n",
       "4     -0.991615 -0.289122 -0.066332  ...     1.0     1.0     0.0     0.0   \n",
       "...         ...       ...       ...  ...     ...     ...     ...     ...   \n",
       "13743 -0.960928 -0.439917  0.018487  ...     0.0     1.0     0.0     0.0   \n",
       "13744 -0.962049 -0.418280  0.013013  ...     0.0     1.0     0.0     0.0   \n",
       "13745 -0.970624 -0.385063  0.008704  ...     0.0     1.0     0.0     0.0   \n",
       "13746 -0.966120 -0.353438  0.000489  ...     0.0     1.0     1.0     0.0   \n",
       "13747 -0.977716 -0.356738 -0.019058  ...     0.0     0.0     0.0     0.0   \n",
       "\n",
       "       AU28_c  AU45_c                 video_name  stress_global  stress  diapo  \n",
       "0         0.0     1.0  WIN_20210331_21_22_52_Pro              1       0      1  \n",
       "1         0.0     1.0  WIN_20210331_21_22_52_Pro              1       0      1  \n",
       "2         0.0     1.0  WIN_20210331_21_22_52_Pro              1       0      1  \n",
       "3         0.0     1.0  WIN_20210331_21_22_52_Pro              1       0      1  \n",
       "4         0.0     1.0  WIN_20210331_21_22_52_Pro              1       0      1  \n",
       "...       ...     ...                        ...            ...     ...    ...  \n",
       "13743     0.0     1.0  WIN_20210331_21_22_52_Pro              1       1     18  \n",
       "13744     0.0     1.0  WIN_20210331_21_22_52_Pro              1       1     18  \n",
       "13745     0.0     1.0  WIN_20210331_21_22_52_Pro              1       1     18  \n",
       "13746     0.0     1.0  WIN_20210331_21_22_52_Pro              1       1     18  \n",
       "13747     0.0     1.0  WIN_20210331_21_22_52_Pro              1       1     18  \n",
       "\n",
       "[13748 rows x 718 columns]"
      ],
      "text/html": "<div>\n<style scoped>\n    .dataframe tbody tr th:only-of-type {\n        vertical-align: middle;\n    }\n\n    .dataframe tbody tr th {\n        vertical-align: top;\n    }\n\n    .dataframe thead th {\n        text-align: right;\n    }\n</style>\n<table border=\"1\" class=\"dataframe\">\n  <thead>\n    <tr style=\"text-align: right;\">\n      <th></th>\n      <th>frame</th>\n      <th>face_id</th>\n      <th>timestamp</th>\n      <th>confidence</th>\n      <th>success</th>\n      <th>gaze_0_x</th>\n      <th>gaze_0_y</th>\n      <th>gaze_0_z</th>\n      <th>gaze_1_x</th>\n      <th>gaze_1_y</th>\n      <th>...</th>\n      <th>AU20_c</th>\n      <th>AU23_c</th>\n      <th>AU25_c</th>\n      <th>AU26_c</th>\n      <th>AU28_c</th>\n      <th>AU45_c</th>\n      <th>video_name</th>\n      <th>stress_global</th>\n      <th>stress</th>\n      <th>diapo</th>\n    </tr>\n  </thead>\n  <tbody>\n    <tr>\n      <th>0</th>\n      <td>1</td>\n      <td>0</td>\n      <td>0.000</td>\n      <td>0.98</td>\n      <td>1</td>\n      <td>0.058144</td>\n      <td>-0.086946</td>\n      <td>-0.994515</td>\n      <td>-0.265938</td>\n      <td>-0.064276</td>\n      <td>...</td>\n      <td>1.0</td>\n      <td>0.0</td>\n      <td>0.0</td>\n      <td>0.0</td>\n      <td>0.0</td>\n      <td>1.0</td>\n      <td>WIN_20210331_21_22_52_Pro</td>\n      <td>1</td>\n      <td>0</td>\n      <td>1</td>\n    </tr>\n    <tr>\n      <th>1</th>\n      <td>2</td>\n      <td>0</td>\n      <td>0.060</td>\n      <td>0.98</td>\n      <td>1</td>\n      <td>0.076459</td>\n      <td>-0.143412</td>\n      <td>-0.986705</td>\n      <td>-0.259332</td>\n      <td>-0.081572</td>\n      <td>...</td>\n      <td>1.0</td>\n      <td>1.0</td>\n      <td>0.0</td>\n      <td>0.0</td>\n      <td>0.0</td>\n      <td>1.0</td>\n      <td>WIN_20210331_21_22_52_Pro</td>\n      <td>1</td>\n      <td>0</td>\n      <td>1</td>\n    </tr>\n    <tr>\n      <th>2</th>\n      <td>3</td>\n      <td>0</td>\n      <td>0.120</td>\n      <td>0.98</td>\n      <td>1</td>\n      <td>0.079903</td>\n      <td>-0.110330</td>\n      <td>-0.990678</td>\n      <td>-0.255499</td>\n      <td>-0.076939</td>\n      <td>...</td>\n      <td>1.0</td>\n      <td>1.0</td>\n      <td>0.0</td>\n      <td>0.0</td>\n      <td>0.0</td>\n      <td>1.0</td>\n      <td>WIN_20210331_21_22_52_Pro</td>\n      <td>1</td>\n      <td>0</td>\n      <td>1</td>\n    </tr>\n    <tr>\n      <th>3</th>\n      <td>4</td>\n      <td>0</td>\n      <td>0.180</td>\n      <td>0.98</td>\n      <td>1</td>\n      <td>0.117146</td>\n      <td>-0.106546</td>\n      <td>-0.987383</td>\n      <td>-0.247323</td>\n      <td>-0.062280</td>\n      <td>...</td>\n      <td>1.0</td>\n      <td>1.0</td>\n      <td>0.0</td>\n      <td>0.0</td>\n      <td>0.0</td>\n      <td>1.0</td>\n      <td>WIN_20210331_21_22_52_Pro</td>\n      <td>1</td>\n      <td>0</td>\n      <td>1</td>\n    </tr>\n    <tr>\n      <th>4</th>\n      <td>5</td>\n      <td>0</td>\n      <td>0.240</td>\n      <td>0.98</td>\n      <td>1</td>\n      <td>0.080384</td>\n      <td>-0.101181</td>\n      <td>-0.991615</td>\n      <td>-0.289122</td>\n      <td>-0.066332</td>\n      <td>...</td>\n      <td>1.0</td>\n      <td>1.0</td>\n      <td>0.0</td>\n      <td>0.0</td>\n      <td>0.0</td>\n      <td>1.0</td>\n      <td>WIN_20210331_21_22_52_Pro</td>\n      <td>1</td>\n      <td>0</td>\n      <td>1</td>\n    </tr>\n    <tr>\n      <th>...</th>\n      <td>...</td>\n      <td>...</td>\n      <td>...</td>\n      <td>...</td>\n      <td>...</td>\n      <td>...</td>\n      <td>...</td>\n      <td>...</td>\n      <td>...</td>\n      <td>...</td>\n      <td>...</td>\n      <td>...</td>\n      <td>...</td>\n      <td>...</td>\n      <td>...</td>\n      <td>...</td>\n      <td>...</td>\n      <td>...</td>\n      <td>...</td>\n      <td>...</td>\n      <td>...</td>\n    </tr>\n    <tr>\n      <th>13743</th>\n      <td>13744</td>\n      <td>0</td>\n      <td>823.526</td>\n      <td>0.98</td>\n      <td>1</td>\n      <td>-0.273697</td>\n      <td>-0.041309</td>\n      <td>-0.960928</td>\n      <td>-0.439917</td>\n      <td>0.018487</td>\n      <td>...</td>\n      <td>0.0</td>\n      <td>1.0</td>\n      <td>0.0</td>\n      <td>0.0</td>\n      <td>0.0</td>\n      <td>1.0</td>\n      <td>WIN_20210331_21_22_52_Pro</td>\n      <td>1</td>\n      <td>1</td>\n      <td>18</td>\n    </tr>\n    <tr>\n      <th>13744</th>\n      <td>13745</td>\n      <td>0</td>\n      <td>823.586</td>\n      <td>0.98</td>\n      <td>1</td>\n      <td>-0.268158</td>\n      <td>-0.050530</td>\n      <td>-0.962049</td>\n      <td>-0.418280</td>\n      <td>0.013013</td>\n      <td>...</td>\n      <td>0.0</td>\n      <td>1.0</td>\n      <td>0.0</td>\n      <td>0.0</td>\n      <td>0.0</td>\n      <td>1.0</td>\n      <td>WIN_20210331_21_22_52_Pro</td>\n      <td>1</td>\n      <td>1</td>\n      <td>18</td>\n    </tr>\n    <tr>\n      <th>13745</th>\n      <td>13746</td>\n      <td>0</td>\n      <td>823.646</td>\n      <td>0.98</td>\n      <td>1</td>\n      <td>-0.237320</td>\n      <td>-0.039591</td>\n      <td>-0.970624</td>\n      <td>-0.385063</td>\n      <td>0.008704</td>\n      <td>...</td>\n      <td>0.0</td>\n      <td>1.0</td>\n      <td>0.0</td>\n      <td>0.0</td>\n      <td>0.0</td>\n      <td>1.0</td>\n      <td>WIN_20210331_21_22_52_Pro</td>\n      <td>1</td>\n      <td>1</td>\n      <td>18</td>\n    </tr>\n    <tr>\n      <th>13746</th>\n      <td>13747</td>\n      <td>0</td>\n      <td>823.705</td>\n      <td>0.98</td>\n      <td>1</td>\n      <td>-0.253612</td>\n      <td>-0.047883</td>\n      <td>-0.966120</td>\n      <td>-0.353438</td>\n      <td>0.000489</td>\n      <td>...</td>\n      <td>0.0</td>\n      <td>1.0</td>\n      <td>1.0</td>\n      <td>0.0</td>\n      <td>0.0</td>\n      <td>1.0</td>\n      <td>WIN_20210331_21_22_52_Pro</td>\n      <td>1</td>\n      <td>1</td>\n      <td>18</td>\n    </tr>\n    <tr>\n      <th>13747</th>\n      <td>13748</td>\n      <td>0</td>\n      <td>823.765</td>\n      <td>0.98</td>\n      <td>1</td>\n      <td>-0.201447</td>\n      <td>-0.059082</td>\n      <td>-0.977716</td>\n      <td>-0.356738</td>\n      <td>-0.019058</td>\n      <td>...</td>\n      <td>0.0</td>\n      <td>0.0</td>\n      <td>0.0</td>\n      <td>0.0</td>\n      <td>0.0</td>\n      <td>1.0</td>\n      <td>WIN_20210331_21_22_52_Pro</td>\n      <td>1</td>\n      <td>1</td>\n      <td>18</td>\n    </tr>\n  </tbody>\n</table>\n<p>13748 rows × 718 columns</p>\n</div>"
     },
     "metadata": {},
     "execution_count": 18
    }
   ],
   "source": [
    " get_df_video_with_annotations('/Users/valentinadiproietto/OpenFace/processed/', 'WIN_20210331_21_22_52_Pro', annotations_file)"
   ]
  },
  {
   "source": [
    "FROM THE THESIS\n",
    "\n",
    "Nous avons choisi d’extraire la position et la rotation de la tête,l’intensité et la présence d’unités d’action faciales et la direction du regard résultant en un vecteur de taille 52. Comme différentes vidéos ont différentes fréquences d’images, nous avons décidé de lisser les valeurs avec une fenêtre temporelle de 0,5s et un chevauchement de 0,25s. "
   ],
   "cell_type": "markdown",
   "metadata": {}
  },
  {
   "source": [
    "df['AU01_r'].describe()"
   ],
   "cell_type": "code",
   "metadata": {},
   "execution_count": 24,
   "outputs": [
    {
     "output_type": "execute_result",
     "data": {
      "text/plain": [
       "count    13748.000000\n",
       "mean         0.326500\n",
       "std          0.516159\n",
       "min          0.000000\n",
       "25%          0.000000\n",
       "50%          0.020000\n",
       "75%          0.510000\n",
       "max          4.090000\n",
       "Name: AU01_r, dtype: float64"
      ]
     },
     "metadata": {},
     "execution_count": 24
    }
   ]
  },
  {
   "cell_type": "code",
   "execution_count": 27,
   "metadata": {},
   "outputs": [
    {
     "output_type": "execute_result",
     "data": {
      "text/plain": [
       "0.0    9978\n",
       "1.0    3770\n",
       "Name: AU01_c, dtype: int64"
      ]
     },
     "metadata": {},
     "execution_count": 27
    }
   ],
   "source": [
    "df['AU01_c'].value_counts()"
   ]
  },
  {
   "cell_type": "code",
   "execution_count": null,
   "metadata": {},
   "outputs": [],
   "source": [
    "For a description of the action units see here https://www.cs.cmu.edu/~face/facs.htm. To extract the action units OpenFace uses SVM. \n"
   ]
  },
  {
   "source": [
    "The columns 'AUXX_c' for XX in  ['01','02', '04', '05', '06', '07', '09', '10','12', '14', '15', '17', '20', '23', '25','26', '28', '45'] contain only 0's and 1's where 1 correspond to the presence of the corresponding AUXX, while 0 represents the absence. The columns 'AUXX_r' for XX in  for XX in  ['01','02', '04', '05', '06', '07', '09', '10','12', '14', '15', '17', '20', '23', '25','26', '45'] represent the intensity from 1 to 5 of the respective AU (with continuous value in between). REMARK: OpenFace does not compute the intesity for AU2 which is the lip suck. "
   ],
   "cell_type": "markdown",
   "metadata": {}
  },
  {
   "source": [
    "print(df.loc[df['AU01_c']==0].shape)\n",
    "\n",
    "df.loc[df['AU01_c']==0].loc[df['AU01_r']!=0]['AU01_r']"
   ],
   "cell_type": "code",
   "metadata": {},
   "execution_count": 57,
   "outputs": [
    {
     "output_type": "stream",
     "name": "stdout",
     "text": [
      "(9978, 714)\n"
     ]
    },
    {
     "output_type": "execute_result",
     "data": {
      "text/plain": [
       "1        0.01\n",
       "2        0.04\n",
       "3        0.04\n",
       "4        0.03\n",
       "8        0.01\n",
       "         ... \n",
       "13709    0.04\n",
       "13710    0.04\n",
       "13721    0.05\n",
       "13722    0.05\n",
       "13723    0.05\n",
       "Name: AU01_r, Length: 3422, dtype: float64"
      ]
     },
     "metadata": {},
     "execution_count": 57
    }
   ]
  },
  {
   "source": [
    "It is strange, from the above we can see that, even if 'AU01_c'=0, then there are almost one third of 'AU01_r' which are different from 0, why? So even if it is not detected OpenFace measures the intensity? The reason is that we have extracted the features AU in a dynamic way."
   ],
   "cell_type": "markdown",
   "metadata": {}
  },
  {
   "cell_type": "code",
   "execution_count": 64,
   "metadata": {},
   "outputs": [
    {
     "output_type": "stream",
     "name": "stdout",
     "text": [
      "There are 35 columns corresponding to AU, 18 which mesure the intensity and 17 that measure if the AU is detected\n"
     ]
    }
   ],
   "source": [
    "count =0\n",
    "for i in df.columns:\n",
    "    if i.startswith(\"AU\"):\n",
    "        count+=1\n",
    "print(f\"There are {count} columns corresponding to AU, {count-count//2} which mesure the intensity and {count//2} that measure if the AU is detected\")               \n",
    "\n"
   ]
  },
  {
   "cell_type": "code",
   "execution_count": 65,
   "metadata": {},
   "outputs": [
    {
     "output_type": "execute_result",
     "data": {
      "text/plain": [
       "CompletedProcess(args='build/bin/FeatureExtraction -f /Users/valentinadiproietto/Desktop/video_stress/T2.mov -2Dfp -3Dfp -pdmparams -pose -aus -gaze', returncode=0, stdout='Could not find the HAAR face detector location\\nReading the landmark detector/tracker from: build/bin/model/main_ceclm_general.txt\\nReading the landmark detector module from: build/bin/model/cen_general.txt\\nReading the PDM module from: build/bin/model/pdms/In-the-wild_aligned_PDM_68.txt....Done\\nReading the Triangulations module from: build/bin/model/tris_68.txt....Done\\nReading the intensity CEN patch experts from: build/bin/model/patch_experts/cen_patches_0.25_of.dat....Done\\nReading the intensity CEN patch experts from: build/bin/model/patch_experts/cen_patches_0.35_of.dat....Done\\nReading the intensity CEN patch experts from: build/bin/model/patch_experts/cen_patches_0.50_of.dat....Done\\nReading the intensity CEN patch experts from: build/bin/model/patch_experts/cen_patches_1.00_of.dat....Done\\nReading part based module....left_eye_28\\nReading the landmark detector/tracker from: build/bin/model/model_eye/main_clnf_synth_left.txt\\nReading the landmark detector module from: build/bin/model/model_eye/clnf_left_synth.txt\\nReading the PDM module from: build/bin/model/model_eye/pdms/pdm_28_l_eye_3D_closed.txt....Done\\nReading the intensity CCNF patch experts from: build/bin/model/model_eye/patch_experts/left_ccnf_patches_1.00_synth_lid_.txt....Done\\nReading the intensity CCNF patch experts from: build/bin/model/model_eye/patch_experts/left_ccnf_patches_1.50_synth_lid_.txt....Done\\nCould not find the HAAR face detector location\\nDone\\nReading part based module....right_eye_28\\nReading the landmark detector/tracker from: build/bin/model/model_eye/main_clnf_synth_right.txt\\nReading the landmark detector module from: build/bin/model/model_eye/clnf_right_synth.txt\\nReading the PDM module from: build/bin/model/model_eye/pdms/pdm_28_eye_3D_closed.txt....Done\\nReading the intensity CCNF patch experts from: build/bin/model/model_eye/patch_experts/ccnf_patches_1.00_synth_lid_.txt....Done\\nReading the intensity CCNF patch experts from: build/bin/model/model_eye/patch_experts/ccnf_patches_1.50_synth_lid_.txt....Done\\nCould not find the HAAR face detector location\\nDone\\nReading the landmark validation module....Done\\nReading the AU analysis module from: build/bin/AU_predictors/main_dynamic_svms.txt\\nReading the AU predictors from: build/bin/AU_predictors/AU_all_best.txt... Done\\nReading the PDM from: build/bin/AU_predictors/In-the-wild_aligned_PDM_68.txt... Done\\nReading the triangulation from:build/bin/AU_predictors/tris_68_full.txt... Done\\nAttempting to read from file: /Users/valentinadiproietto/Desktop/video_stress/T2.mov\\nDevice or file opened\\nStarting tracking\\nReading the MTCNN face detector from: build/bin/model/mtcnn_detector/MTCNN_detector.txt\\nReading the PNet module from: build/bin/model/mtcnn_detector/PNet.dat\\nReading the RNet module from: build/bin/model/mtcnn_detector/RNet.dat\\nReading the ONet module from: build/bin/model/mtcnn_detector/ONet.dat\\n0% 10% 20% 30% 40% 50% 60% 70% 80% 90% 100% \\nClosing output recorder\\nClosing input reader\\nClosed successfully\\nPostprocessing the Action Unit predictions\\n', stderr='[ WARN:1] global /tmp/opencv-20210108-85966-cog51a/opencv-4.5.1/modules/core/src/matrix_expressions.cpp (1334) assign OpenCV/MatExpr: processing of multi-channel arrays might be changed in the future: https://github.com/opencv/opencv/issues/16739\\n')"
      ]
     },
     "metadata": {},
     "execution_count": 65
    }
   ],
   "source": [
    "extract_video_features(OpenFace_folder, '/Users/valentinadiproietto/Desktop/video_stress/T2.mov')"
   ]
  },
  {
   "cell_type": "code",
   "execution_count": 66,
   "metadata": {},
   "outputs": [],
   "source": [
    "T2= create_dataframe_video('/Users/valentinadiproietto/OpenFace/processed/', 'T2')"
   ]
  },
  {
   "cell_type": "code",
   "execution_count": 67,
   "metadata": {},
   "outputs": [
    {
     "output_type": "execute_result",
     "data": {
      "text/plain": [
       "    frame  face_id  timestamp  confidence  success  gaze_0_x  gaze_0_y  \\\n",
       "0       1        0      0.000        0.98        1  0.324171  0.244781   \n",
       "1       2        0      0.075        0.98        1  0.347186  0.158946   \n",
       "2       3        0      0.150        0.98        1  0.303126  0.176676   \n",
       "3       4        0      0.225        0.98        1  0.220805  0.161280   \n",
       "4       5        0      0.300        0.98        1  0.194246  0.143095   \n",
       "..    ...      ...        ...         ...      ...       ...       ...   \n",
       "70     71        0      5.247        0.98        1  0.426262  0.049787   \n",
       "71     72        0      5.322        0.98        1  0.410672  0.047468   \n",
       "72     73        0      5.397        0.98        1  0.388188  0.089885   \n",
       "73     74        0      5.472        0.98        1  0.338664  0.112290   \n",
       "74     75        0      5.547        0.98        1  0.342489  0.097608   \n",
       "\n",
       "    gaze_0_z  gaze_1_x  gaze_1_y  ...  AU12_c  AU14_c  AU15_c  AU17_c  AU20_c  \\\n",
       "0  -0.913781  0.256735  0.201875  ...     0.0     1.0     1.0     0.0     0.0   \n",
       "1  -0.924228  0.261119  0.108721  ...     0.0     1.0     1.0     0.0     0.0   \n",
       "2  -0.936430  0.267737  0.173383  ...     0.0     0.0     1.0     0.0     0.0   \n",
       "3  -0.961891  0.124654  0.192952  ...     0.0     1.0     1.0     0.0     1.0   \n",
       "4  -0.970460  0.068868  0.157785  ...     0.0     1.0     1.0     0.0     1.0   \n",
       "..       ...       ...       ...  ...     ...     ...     ...     ...     ...   \n",
       "70 -0.903229  0.064937  0.029549  ...     0.0     0.0     0.0     0.0     0.0   \n",
       "71 -0.910547  0.218436  0.038879  ...     0.0     0.0     0.0     0.0     0.0   \n",
       "72 -0.917186  0.247111  0.060966  ...     0.0     0.0     0.0     0.0     0.0   \n",
       "73 -0.934183  0.251199  0.090329  ...     0.0     1.0     0.0     0.0     0.0   \n",
       "74 -0.934438  0.273484  0.139097  ...     0.0     1.0     0.0     0.0     0.0   \n",
       "\n",
       "    AU23_c  AU25_c  AU26_c  AU28_c  AU45_c  \n",
       "0      0.0     0.0     0.0     0.0     1.0  \n",
       "1      0.0     0.0     0.0     0.0     1.0  \n",
       "2      1.0     0.0     0.0     0.0     1.0  \n",
       "3      0.0     1.0     1.0     0.0     1.0  \n",
       "4      0.0     1.0     1.0     0.0     0.0  \n",
       "..     ...     ...     ...     ...     ...  \n",
       "70     0.0     0.0     0.0     0.0     0.0  \n",
       "71     0.0     0.0     0.0     0.0     0.0  \n",
       "72     0.0     0.0     0.0     0.0     0.0  \n",
       "73     0.0     0.0     0.0     0.0     0.0  \n",
       "74     0.0     0.0     0.0     0.0     0.0  \n",
       "\n",
       "[75 rows x 714 columns]"
      ],
      "text/html": "<div>\n<style scoped>\n    .dataframe tbody tr th:only-of-type {\n        vertical-align: middle;\n    }\n\n    .dataframe tbody tr th {\n        vertical-align: top;\n    }\n\n    .dataframe thead th {\n        text-align: right;\n    }\n</style>\n<table border=\"1\" class=\"dataframe\">\n  <thead>\n    <tr style=\"text-align: right;\">\n      <th></th>\n      <th>frame</th>\n      <th>face_id</th>\n      <th>timestamp</th>\n      <th>confidence</th>\n      <th>success</th>\n      <th>gaze_0_x</th>\n      <th>gaze_0_y</th>\n      <th>gaze_0_z</th>\n      <th>gaze_1_x</th>\n      <th>gaze_1_y</th>\n      <th>...</th>\n      <th>AU12_c</th>\n      <th>AU14_c</th>\n      <th>AU15_c</th>\n      <th>AU17_c</th>\n      <th>AU20_c</th>\n      <th>AU23_c</th>\n      <th>AU25_c</th>\n      <th>AU26_c</th>\n      <th>AU28_c</th>\n      <th>AU45_c</th>\n    </tr>\n  </thead>\n  <tbody>\n    <tr>\n      <th>0</th>\n      <td>1</td>\n      <td>0</td>\n      <td>0.000</td>\n      <td>0.98</td>\n      <td>1</td>\n      <td>0.324171</td>\n      <td>0.244781</td>\n      <td>-0.913781</td>\n      <td>0.256735</td>\n      <td>0.201875</td>\n      <td>...</td>\n      <td>0.0</td>\n      <td>1.0</td>\n      <td>1.0</td>\n      <td>0.0</td>\n      <td>0.0</td>\n      <td>0.0</td>\n      <td>0.0</td>\n      <td>0.0</td>\n      <td>0.0</td>\n      <td>1.0</td>\n    </tr>\n    <tr>\n      <th>1</th>\n      <td>2</td>\n      <td>0</td>\n      <td>0.075</td>\n      <td>0.98</td>\n      <td>1</td>\n      <td>0.347186</td>\n      <td>0.158946</td>\n      <td>-0.924228</td>\n      <td>0.261119</td>\n      <td>0.108721</td>\n      <td>...</td>\n      <td>0.0</td>\n      <td>1.0</td>\n      <td>1.0</td>\n      <td>0.0</td>\n      <td>0.0</td>\n      <td>0.0</td>\n      <td>0.0</td>\n      <td>0.0</td>\n      <td>0.0</td>\n      <td>1.0</td>\n    </tr>\n    <tr>\n      <th>2</th>\n      <td>3</td>\n      <td>0</td>\n      <td>0.150</td>\n      <td>0.98</td>\n      <td>1</td>\n      <td>0.303126</td>\n      <td>0.176676</td>\n      <td>-0.936430</td>\n      <td>0.267737</td>\n      <td>0.173383</td>\n      <td>...</td>\n      <td>0.0</td>\n      <td>0.0</td>\n      <td>1.0</td>\n      <td>0.0</td>\n      <td>0.0</td>\n      <td>1.0</td>\n      <td>0.0</td>\n      <td>0.0</td>\n      <td>0.0</td>\n      <td>1.0</td>\n    </tr>\n    <tr>\n      <th>3</th>\n      <td>4</td>\n      <td>0</td>\n      <td>0.225</td>\n      <td>0.98</td>\n      <td>1</td>\n      <td>0.220805</td>\n      <td>0.161280</td>\n      <td>-0.961891</td>\n      <td>0.124654</td>\n      <td>0.192952</td>\n      <td>...</td>\n      <td>0.0</td>\n      <td>1.0</td>\n      <td>1.0</td>\n      <td>0.0</td>\n      <td>1.0</td>\n      <td>0.0</td>\n      <td>1.0</td>\n      <td>1.0</td>\n      <td>0.0</td>\n      <td>1.0</td>\n    </tr>\n    <tr>\n      <th>4</th>\n      <td>5</td>\n      <td>0</td>\n      <td>0.300</td>\n      <td>0.98</td>\n      <td>1</td>\n      <td>0.194246</td>\n      <td>0.143095</td>\n      <td>-0.970460</td>\n      <td>0.068868</td>\n      <td>0.157785</td>\n      <td>...</td>\n      <td>0.0</td>\n      <td>1.0</td>\n      <td>1.0</td>\n      <td>0.0</td>\n      <td>1.0</td>\n      <td>0.0</td>\n      <td>1.0</td>\n      <td>1.0</td>\n      <td>0.0</td>\n      <td>0.0</td>\n    </tr>\n    <tr>\n      <th>...</th>\n      <td>...</td>\n      <td>...</td>\n      <td>...</td>\n      <td>...</td>\n      <td>...</td>\n      <td>...</td>\n      <td>...</td>\n      <td>...</td>\n      <td>...</td>\n      <td>...</td>\n      <td>...</td>\n      <td>...</td>\n      <td>...</td>\n      <td>...</td>\n      <td>...</td>\n      <td>...</td>\n      <td>...</td>\n      <td>...</td>\n      <td>...</td>\n      <td>...</td>\n      <td>...</td>\n    </tr>\n    <tr>\n      <th>70</th>\n      <td>71</td>\n      <td>0</td>\n      <td>5.247</td>\n      <td>0.98</td>\n      <td>1</td>\n      <td>0.426262</td>\n      <td>0.049787</td>\n      <td>-0.903229</td>\n      <td>0.064937</td>\n      <td>0.029549</td>\n      <td>...</td>\n      <td>0.0</td>\n      <td>0.0</td>\n      <td>0.0</td>\n      <td>0.0</td>\n      <td>0.0</td>\n      <td>0.0</td>\n      <td>0.0</td>\n      <td>0.0</td>\n      <td>0.0</td>\n      <td>0.0</td>\n    </tr>\n    <tr>\n      <th>71</th>\n      <td>72</td>\n      <td>0</td>\n      <td>5.322</td>\n      <td>0.98</td>\n      <td>1</td>\n      <td>0.410672</td>\n      <td>0.047468</td>\n      <td>-0.910547</td>\n      <td>0.218436</td>\n      <td>0.038879</td>\n      <td>...</td>\n      <td>0.0</td>\n      <td>0.0</td>\n      <td>0.0</td>\n      <td>0.0</td>\n      <td>0.0</td>\n      <td>0.0</td>\n      <td>0.0</td>\n      <td>0.0</td>\n      <td>0.0</td>\n      <td>0.0</td>\n    </tr>\n    <tr>\n      <th>72</th>\n      <td>73</td>\n      <td>0</td>\n      <td>5.397</td>\n      <td>0.98</td>\n      <td>1</td>\n      <td>0.388188</td>\n      <td>0.089885</td>\n      <td>-0.917186</td>\n      <td>0.247111</td>\n      <td>0.060966</td>\n      <td>...</td>\n      <td>0.0</td>\n      <td>0.0</td>\n      <td>0.0</td>\n      <td>0.0</td>\n      <td>0.0</td>\n      <td>0.0</td>\n      <td>0.0</td>\n      <td>0.0</td>\n      <td>0.0</td>\n      <td>0.0</td>\n    </tr>\n    <tr>\n      <th>73</th>\n      <td>74</td>\n      <td>0</td>\n      <td>5.472</td>\n      <td>0.98</td>\n      <td>1</td>\n      <td>0.338664</td>\n      <td>0.112290</td>\n      <td>-0.934183</td>\n      <td>0.251199</td>\n      <td>0.090329</td>\n      <td>...</td>\n      <td>0.0</td>\n      <td>1.0</td>\n      <td>0.0</td>\n      <td>0.0</td>\n      <td>0.0</td>\n      <td>0.0</td>\n      <td>0.0</td>\n      <td>0.0</td>\n      <td>0.0</td>\n      <td>0.0</td>\n    </tr>\n    <tr>\n      <th>74</th>\n      <td>75</td>\n      <td>0</td>\n      <td>5.547</td>\n      <td>0.98</td>\n      <td>1</td>\n      <td>0.342489</td>\n      <td>0.097608</td>\n      <td>-0.934438</td>\n      <td>0.273484</td>\n      <td>0.139097</td>\n      <td>...</td>\n      <td>0.0</td>\n      <td>1.0</td>\n      <td>0.0</td>\n      <td>0.0</td>\n      <td>0.0</td>\n      <td>0.0</td>\n      <td>0.0</td>\n      <td>0.0</td>\n      <td>0.0</td>\n      <td>0.0</td>\n    </tr>\n  </tbody>\n</table>\n<p>75 rows × 714 columns</p>\n</div>"
     },
     "metadata": {},
     "execution_count": 67
    }
   ],
   "source": [
    "T2"
   ]
  },
  {
   "cell_type": "code",
   "execution_count": 70,
   "metadata": {},
   "outputs": [
    {
     "output_type": "execute_result",
     "data": {
      "text/plain": [
       "    AU01_c  AU01_r\n",
       "1      0.0    0.07\n",
       "2      0.0    0.07\n",
       "3      0.0    0.36\n",
       "4      0.0    0.29\n",
       "5      0.0    0.29\n",
       "16     0.0    0.07\n",
       "17     0.0    0.18\n",
       "18     0.0    0.21\n",
       "19     0.0    0.19\n",
       "20     0.0    0.08\n",
       "21     0.0    0.04\n",
       "23     0.0    0.14\n",
       "24     0.0    0.26\n",
       "25     0.0    0.29\n",
       "26     0.0    0.15\n",
       "27     0.0    0.03\n",
       "49     0.0    0.22\n",
       "50     0.0    0.39\n",
       "51     0.0    0.47\n",
       "52     0.0    0.32\n",
       "53     0.0    0.36\n",
       "54     0.0    0.38\n",
       "55     0.0    0.31\n",
       "56     0.0    0.16\n",
       "57     0.0    0.12\n",
       "58     0.0    0.12\n",
       "59     0.0    0.08\n",
       "60     0.0    0.11\n",
       "61     0.0    0.31\n",
       "62     0.0    0.59\n",
       "63     0.0    0.78\n",
       "64     0.0    0.90\n",
       "65     0.0    0.98\n",
       "66     0.0    1.05\n",
       "67     0.0    1.20\n",
       "68     0.0    1.19\n",
       "69     0.0    1.35\n",
       "70     0.0    1.37"
      ],
      "text/html": "<div>\n<style scoped>\n    .dataframe tbody tr th:only-of-type {\n        vertical-align: middle;\n    }\n\n    .dataframe tbody tr th {\n        vertical-align: top;\n    }\n\n    .dataframe thead th {\n        text-align: right;\n    }\n</style>\n<table border=\"1\" class=\"dataframe\">\n  <thead>\n    <tr style=\"text-align: right;\">\n      <th></th>\n      <th>AU01_c</th>\n      <th>AU01_r</th>\n    </tr>\n  </thead>\n  <tbody>\n    <tr>\n      <th>1</th>\n      <td>0.0</td>\n      <td>0.07</td>\n    </tr>\n    <tr>\n      <th>2</th>\n      <td>0.0</td>\n      <td>0.07</td>\n    </tr>\n    <tr>\n      <th>3</th>\n      <td>0.0</td>\n      <td>0.36</td>\n    </tr>\n    <tr>\n      <th>4</th>\n      <td>0.0</td>\n      <td>0.29</td>\n    </tr>\n    <tr>\n      <th>5</th>\n      <td>0.0</td>\n      <td>0.29</td>\n    </tr>\n    <tr>\n      <th>16</th>\n      <td>0.0</td>\n      <td>0.07</td>\n    </tr>\n    <tr>\n      <th>17</th>\n      <td>0.0</td>\n      <td>0.18</td>\n    </tr>\n    <tr>\n      <th>18</th>\n      <td>0.0</td>\n      <td>0.21</td>\n    </tr>\n    <tr>\n      <th>19</th>\n      <td>0.0</td>\n      <td>0.19</td>\n    </tr>\n    <tr>\n      <th>20</th>\n      <td>0.0</td>\n      <td>0.08</td>\n    </tr>\n    <tr>\n      <th>21</th>\n      <td>0.0</td>\n      <td>0.04</td>\n    </tr>\n    <tr>\n      <th>23</th>\n      <td>0.0</td>\n      <td>0.14</td>\n    </tr>\n    <tr>\n      <th>24</th>\n      <td>0.0</td>\n      <td>0.26</td>\n    </tr>\n    <tr>\n      <th>25</th>\n      <td>0.0</td>\n      <td>0.29</td>\n    </tr>\n    <tr>\n      <th>26</th>\n      <td>0.0</td>\n      <td>0.15</td>\n    </tr>\n    <tr>\n      <th>27</th>\n      <td>0.0</td>\n      <td>0.03</td>\n    </tr>\n    <tr>\n      <th>49</th>\n      <td>0.0</td>\n      <td>0.22</td>\n    </tr>\n    <tr>\n      <th>50</th>\n      <td>0.0</td>\n      <td>0.39</td>\n    </tr>\n    <tr>\n      <th>51</th>\n      <td>0.0</td>\n      <td>0.47</td>\n    </tr>\n    <tr>\n      <th>52</th>\n      <td>0.0</td>\n      <td>0.32</td>\n    </tr>\n    <tr>\n      <th>53</th>\n      <td>0.0</td>\n      <td>0.36</td>\n    </tr>\n    <tr>\n      <th>54</th>\n      <td>0.0</td>\n      <td>0.38</td>\n    </tr>\n    <tr>\n      <th>55</th>\n      <td>0.0</td>\n      <td>0.31</td>\n    </tr>\n    <tr>\n      <th>56</th>\n      <td>0.0</td>\n      <td>0.16</td>\n    </tr>\n    <tr>\n      <th>57</th>\n      <td>0.0</td>\n      <td>0.12</td>\n    </tr>\n    <tr>\n      <th>58</th>\n      <td>0.0</td>\n      <td>0.12</td>\n    </tr>\n    <tr>\n      <th>59</th>\n      <td>0.0</td>\n      <td>0.08</td>\n    </tr>\n    <tr>\n      <th>60</th>\n      <td>0.0</td>\n      <td>0.11</td>\n    </tr>\n    <tr>\n      <th>61</th>\n      <td>0.0</td>\n      <td>0.31</td>\n    </tr>\n    <tr>\n      <th>62</th>\n      <td>0.0</td>\n      <td>0.59</td>\n    </tr>\n    <tr>\n      <th>63</th>\n      <td>0.0</td>\n      <td>0.78</td>\n    </tr>\n    <tr>\n      <th>64</th>\n      <td>0.0</td>\n      <td>0.90</td>\n    </tr>\n    <tr>\n      <th>65</th>\n      <td>0.0</td>\n      <td>0.98</td>\n    </tr>\n    <tr>\n      <th>66</th>\n      <td>0.0</td>\n      <td>1.05</td>\n    </tr>\n    <tr>\n      <th>67</th>\n      <td>0.0</td>\n      <td>1.20</td>\n    </tr>\n    <tr>\n      <th>68</th>\n      <td>0.0</td>\n      <td>1.19</td>\n    </tr>\n    <tr>\n      <th>69</th>\n      <td>0.0</td>\n      <td>1.35</td>\n    </tr>\n    <tr>\n      <th>70</th>\n      <td>0.0</td>\n      <td>1.37</td>\n    </tr>\n  </tbody>\n</table>\n</div>"
     },
     "metadata": {},
     "execution_count": 70
    }
   ],
   "source": [
    "T2.loc[T2['AU01_c']==0].loc[T2['AU01_r']!=0][['AU01_c', 'AU01_r']]"
   ]
  },
  {
   "cell_type": "code",
   "execution_count": 71,
   "metadata": {},
   "outputs": [],
   "source": [
    "\n",
    "def extract_video_features_static(OpenFace_directory, Video_path):\n",
    "    '''\n",
    "    Extract video features (csv) will be located in the 'processed' folder of OpenFace\n",
    "    \n",
    "    Parameters\n",
    "    ----------\n",
    "    OpenFace_directory : String\n",
    "    Directory where the file FeatureExtraction can be found\n",
    "    \n",
    "    Video_path : String\n",
    "    Directory where the Video(e.g. mp4) file can be found\n",
    "    '''\n",
    "    \n",
    "    OS = platform.system() #Returns OS name\n",
    "    os.chdir(f'{OpenFace_directory}') #Move to the OpenFace directory\n",
    "    \n",
    "    if OS == 'Windows':\n",
    "        cmd = f\"FeatureExtraction.exe -f {Video_path} -2Dfp -3Dfp -pdmparams -pose -aus -gaze\"\n",
    "        \n",
    "    elif OS == 'Darwin':\n",
    "        cmd = f\"build/bin/FeatureExtraction -f {Video_path} -2Dfp -3Dfp -pdmparams -pose -aus -gaze -au_static\"\n",
    "        \n",
    "    elif OS == 'Linux':\n",
    "        cmd = f\"FeatureExtraction -f {Video_path} -2Dfp -3Dfp -pdmparams -pose -aus -gaze\"\n",
    "        \n",
    "    return subprocess.run(cmd, shell=True, text=True, capture_output=True)"
   ]
  },
  {
   "cell_type": "code",
   "execution_count": 73,
   "metadata": {},
   "outputs": [
    {
     "output_type": "execute_result",
     "data": {
      "text/plain": [
       "CompletedProcess(args='build/bin/FeatureExtraction -f /Users/valentinadiproietto/Desktop/video_stress/T2.mov -2Dfp -3Dfp -pdmparams -pose -aus -gaze -au_static', returncode=0, stdout='Could not find the HAAR face detector location\\nReading the landmark detector/tracker from: build/bin/model/main_ceclm_general.txt\\nReading the landmark detector module from: build/bin/model/cen_general.txt\\nReading the PDM module from: build/bin/model/pdms/In-the-wild_aligned_PDM_68.txt....Done\\nReading the Triangulations module from: build/bin/model/tris_68.txt....Done\\nReading the intensity CEN patch experts from: build/bin/model/patch_experts/cen_patches_0.25_of.dat....Done\\nReading the intensity CEN patch experts from: build/bin/model/patch_experts/cen_patches_0.35_of.dat....Done\\nReading the intensity CEN patch experts from: build/bin/model/patch_experts/cen_patches_0.50_of.dat....Done\\nReading the intensity CEN patch experts from: build/bin/model/patch_experts/cen_patches_1.00_of.dat....Done\\nReading part based module....left_eye_28\\nReading the landmark detector/tracker from: build/bin/model/model_eye/main_clnf_synth_left.txt\\nReading the landmark detector module from: build/bin/model/model_eye/clnf_left_synth.txt\\nReading the PDM module from: build/bin/model/model_eye/pdms/pdm_28_l_eye_3D_closed.txt....Done\\nReading the intensity CCNF patch experts from: build/bin/model/model_eye/patch_experts/left_ccnf_patches_1.00_synth_lid_.txt....Done\\nReading the intensity CCNF patch experts from: build/bin/model/model_eye/patch_experts/left_ccnf_patches_1.50_synth_lid_.txt....Done\\nCould not find the HAAR face detector location\\nDone\\nReading part based module....right_eye_28\\nReading the landmark detector/tracker from: build/bin/model/model_eye/main_clnf_synth_right.txt\\nReading the landmark detector module from: build/bin/model/model_eye/clnf_right_synth.txt\\nReading the PDM module from: build/bin/model/model_eye/pdms/pdm_28_eye_3D_closed.txt....Done\\nReading the intensity CCNF patch experts from: build/bin/model/model_eye/patch_experts/ccnf_patches_1.00_synth_lid_.txt....Done\\nReading the intensity CCNF patch experts from: build/bin/model/model_eye/patch_experts/ccnf_patches_1.50_synth_lid_.txt....Done\\nCould not find the HAAR face detector location\\nDone\\nReading the landmark validation module....Done\\nReading the AU analysis module from: build/bin/AU_predictors/main_static_svms.txt\\nReading the AU predictors from: build/bin/AU_predictors/AU_all_static.txt... Done\\nReading the PDM from: build/bin/AU_predictors/In-the-wild_aligned_PDM_68.txt... Done\\nReading the triangulation from:build/bin/AU_predictors/tris_68_full.txt... Done\\nAttempting to read from file: /Users/valentinadiproietto/Desktop/video_stress/T2.mov\\nDevice or file opened\\nStarting tracking\\nReading the MTCNN face detector from: build/bin/model/mtcnn_detector/MTCNN_detector.txt\\nReading the PNet module from: build/bin/model/mtcnn_detector/PNet.dat\\nReading the RNet module from: build/bin/model/mtcnn_detector/RNet.dat\\nReading the ONet module from: build/bin/model/mtcnn_detector/ONet.dat\\n0% 10% 20% 30% 40% 50% 60% 70% 80% 90% 100% \\nClosing output recorder\\nClosing input reader\\nClosed successfully\\nPostprocessing the Action Unit predictions\\n', stderr='[ WARN:1] global /tmp/opencv-20210108-85966-cog51a/opencv-4.5.1/modules/core/src/matrix_expressions.cpp (1334) assign OpenCV/MatExpr: processing of multi-channel arrays might be changed in the future: https://github.com/opencv/opencv/issues/16739\\n')"
      ]
     },
     "metadata": {},
     "execution_count": 73
    }
   ],
   "source": [
    "extract_video_features_static(OpenFace_folder, '/Users/valentinadiproietto/Desktop/video_stress/T2.mov')"
   ]
  },
  {
   "cell_type": "code",
   "execution_count": 74,
   "metadata": {},
   "outputs": [],
   "source": [
    "T2_static= create_dataframe_video('/Users/valentinadiproietto/OpenFace/processed/', 'T2')"
   ]
  },
  {
   "cell_type": "code",
   "execution_count": 75,
   "metadata": {},
   "outputs": [
    {
     "output_type": "execute_result",
     "data": {
      "text/plain": [
       "    AU01_c  AU01_r\n",
       "0      0.0    0.23\n",
       "8      0.0    0.61\n",
       "9      0.0    0.38\n",
       "10     0.0    0.25\n",
       "11     0.0    0.32\n",
       "12     0.0    0.27\n",
       "13     0.0    0.21\n",
       "14     0.0    0.08\n",
       "15     0.0    0.12\n",
       "16     0.0    0.24\n",
       "21     0.0    0.69\n",
       "22     0.0    0.56\n",
       "23     0.0    0.66\n",
       "24     0.0    0.77\n",
       "25     0.0    0.88\n",
       "26     0.0    0.71\n",
       "27     0.0    0.43\n",
       "28     0.0    0.16\n",
       "29     0.0    0.31\n",
       "30     0.0    0.32\n",
       "31     0.0    0.35\n",
       "32     0.0    0.15\n",
       "33     0.0    0.29\n",
       "34     0.0    0.45\n",
       "35     0.0    0.56\n",
       "36     0.0    0.51\n",
       "37     0.0    0.48\n",
       "38     0.0    0.48\n",
       "39     0.0    0.53\n",
       "40     0.0    0.42\n",
       "41     0.0    0.40\n",
       "42     0.0    0.41\n",
       "43     0.0    0.61\n",
       "44     0.0    0.56\n",
       "45     0.0    0.39\n",
       "46     0.0    0.29\n",
       "47     0.0    0.36\n",
       "49     0.0    0.74\n",
       "50     0.0    0.91\n",
       "55     0.0    1.05\n",
       "56     0.0    0.92"
      ],
      "text/html": "<div>\n<style scoped>\n    .dataframe tbody tr th:only-of-type {\n        vertical-align: middle;\n    }\n\n    .dataframe tbody tr th {\n        vertical-align: top;\n    }\n\n    .dataframe thead th {\n        text-align: right;\n    }\n</style>\n<table border=\"1\" class=\"dataframe\">\n  <thead>\n    <tr style=\"text-align: right;\">\n      <th></th>\n      <th>AU01_c</th>\n      <th>AU01_r</th>\n    </tr>\n  </thead>\n  <tbody>\n    <tr>\n      <th>0</th>\n      <td>0.0</td>\n      <td>0.23</td>\n    </tr>\n    <tr>\n      <th>8</th>\n      <td>0.0</td>\n      <td>0.61</td>\n    </tr>\n    <tr>\n      <th>9</th>\n      <td>0.0</td>\n      <td>0.38</td>\n    </tr>\n    <tr>\n      <th>10</th>\n      <td>0.0</td>\n      <td>0.25</td>\n    </tr>\n    <tr>\n      <th>11</th>\n      <td>0.0</td>\n      <td>0.32</td>\n    </tr>\n    <tr>\n      <th>12</th>\n      <td>0.0</td>\n      <td>0.27</td>\n    </tr>\n    <tr>\n      <th>13</th>\n      <td>0.0</td>\n      <td>0.21</td>\n    </tr>\n    <tr>\n      <th>14</th>\n      <td>0.0</td>\n      <td>0.08</td>\n    </tr>\n    <tr>\n      <th>15</th>\n      <td>0.0</td>\n      <td>0.12</td>\n    </tr>\n    <tr>\n      <th>16</th>\n      <td>0.0</td>\n      <td>0.24</td>\n    </tr>\n    <tr>\n      <th>21</th>\n      <td>0.0</td>\n      <td>0.69</td>\n    </tr>\n    <tr>\n      <th>22</th>\n      <td>0.0</td>\n      <td>0.56</td>\n    </tr>\n    <tr>\n      <th>23</th>\n      <td>0.0</td>\n      <td>0.66</td>\n    </tr>\n    <tr>\n      <th>24</th>\n      <td>0.0</td>\n      <td>0.77</td>\n    </tr>\n    <tr>\n      <th>25</th>\n      <td>0.0</td>\n      <td>0.88</td>\n    </tr>\n    <tr>\n      <th>26</th>\n      <td>0.0</td>\n      <td>0.71</td>\n    </tr>\n    <tr>\n      <th>27</th>\n      <td>0.0</td>\n      <td>0.43</td>\n    </tr>\n    <tr>\n      <th>28</th>\n      <td>0.0</td>\n      <td>0.16</td>\n    </tr>\n    <tr>\n      <th>29</th>\n      <td>0.0</td>\n      <td>0.31</td>\n    </tr>\n    <tr>\n      <th>30</th>\n      <td>0.0</td>\n      <td>0.32</td>\n    </tr>\n    <tr>\n      <th>31</th>\n      <td>0.0</td>\n      <td>0.35</td>\n    </tr>\n    <tr>\n      <th>32</th>\n      <td>0.0</td>\n      <td>0.15</td>\n    </tr>\n    <tr>\n      <th>33</th>\n      <td>0.0</td>\n      <td>0.29</td>\n    </tr>\n    <tr>\n      <th>34</th>\n      <td>0.0</td>\n      <td>0.45</td>\n    </tr>\n    <tr>\n      <th>35</th>\n      <td>0.0</td>\n      <td>0.56</td>\n    </tr>\n    <tr>\n      <th>36</th>\n      <td>0.0</td>\n      <td>0.51</td>\n    </tr>\n    <tr>\n      <th>37</th>\n      <td>0.0</td>\n      <td>0.48</td>\n    </tr>\n    <tr>\n      <th>38</th>\n      <td>0.0</td>\n      <td>0.48</td>\n    </tr>\n    <tr>\n      <th>39</th>\n      <td>0.0</td>\n      <td>0.53</td>\n    </tr>\n    <tr>\n      <th>40</th>\n      <td>0.0</td>\n      <td>0.42</td>\n    </tr>\n    <tr>\n      <th>41</th>\n      <td>0.0</td>\n      <td>0.40</td>\n    </tr>\n    <tr>\n      <th>42</th>\n      <td>0.0</td>\n      <td>0.41</td>\n    </tr>\n    <tr>\n      <th>43</th>\n      <td>0.0</td>\n      <td>0.61</td>\n    </tr>\n    <tr>\n      <th>44</th>\n      <td>0.0</td>\n      <td>0.56</td>\n    </tr>\n    <tr>\n      <th>45</th>\n      <td>0.0</td>\n      <td>0.39</td>\n    </tr>\n    <tr>\n      <th>46</th>\n      <td>0.0</td>\n      <td>0.29</td>\n    </tr>\n    <tr>\n      <th>47</th>\n      <td>0.0</td>\n      <td>0.36</td>\n    </tr>\n    <tr>\n      <th>49</th>\n      <td>0.0</td>\n      <td>0.74</td>\n    </tr>\n    <tr>\n      <th>50</th>\n      <td>0.0</td>\n      <td>0.91</td>\n    </tr>\n    <tr>\n      <th>55</th>\n      <td>0.0</td>\n      <td>1.05</td>\n    </tr>\n    <tr>\n      <th>56</th>\n      <td>0.0</td>\n      <td>0.92</td>\n    </tr>\n  </tbody>\n</table>\n</div>"
     },
     "metadata": {},
     "execution_count": 75
    }
   ],
   "source": [
    "T2_static.loc[T2_static['AU01_c']==0].loc[T2_static['AU01_r']!=0][['AU01_c', 'AU01_r']]"
   ]
  },
  {
   "source": [
    "They are a little less, but it does not change a lot. So what is the reason? The reason is explained in the github \"NOTE that the intensity and presence predictors have been trained separately and on slightly different datasets, this means that the predictions of both might not always be consistent (e.g. the presence model could be predicting AU as not being present, but the intensity model could be predicting its value above 1).\""
   ],
   "cell_type": "markdown",
   "metadata": {}
  },
  {
   "source": [
    "ABOUT gaze: to extract it uses a Constrained Local Neural Field (CLNF) landmark detector with which it determined the eyes landmarks, and then comput the gaze direction for each eye and the angle. \n",
    "\n",
    "gaze_0_x, gaze_0_y, gaze_0_z Eye gaze direction vector in world coordinates for eye 0 (normalized), eye 0 is the leftmost eye in the image (think of it as a ray going from the left eye in the image in the direction of the eye gaze)\n",
    "\n",
    "gaze_1_x, gaze_1_y, gaze_1_z Eye gaze direction vector in world coordinates for eye 1 (normalized), eye 1 is the rightmost eye in the image (think of it as a ray going from the right eye in the image in the direction of the eye gaze)\n",
    "\n",
    "gaze_angle_x, gaze_angle_y Eye gaze direction in radians in world coordinates averaged for both eyes and converted into more easy to use format than gaze vectors. If a person is looking left-right this will results in the change of gaze_angle_x (from positive to negative) and, if a person is looking up-down this will result in change of gaze_angle_y (from negative to positive), if a person is looking straight ahead both of the angles will be close to 0 (within measurement error).\n",
    "\n",
    "eye_lmk_x_0, eye_lmk_x_1,... eye_lmk_x55, eye_lmk_y_1,... eye_lmk_y_55 location of 2D eye region landmarks in pixels. The landmark index can be found below\n",
    "\n",
    "eye_lmk_X_0, eye_lmk_X_1,... eye_lmk_X55, eye_lmk_Y_0,... eye_lmk_Z_55 location of 3D eye region landmarks in millimeters. The landmark index can be found below\n",
    "\n",
    "\n",
    "THEREFORE WE CAN TAKE gaze_0_x, gaze_0_y, gaze_0_z, gaze_1_x, gaze_1_y, gaze_1_z, gaze_angle_x, gaze_angle_y\n",
    "\n",
    "OR EVEN SIMPLER gaze_angle_x, gaze_angle_y, angle averaged over the two eyes"
   ],
   "cell_type": "markdown",
   "metadata": {}
  },
  {
   "source": [
    "HEAD POSE, this is calculated from the facial landmarks extracted with a  Convolutional Experts Constrained Local Model (CE-CLM) \n",
    "\n",
    "pose_Tx, pose_Ty, pose_Tz the location of the head with respect to camera in millimeters (positive Z is away from the camera)\n",
    "\n",
    "pose_Rx, pose_Ry, pose_Rz Rotation is in radians around X,Y,Z axes with the convention R = Rx \\* Ry \\* Rz, left-handed positive sign. This can be seen as pitch (Rx), yaw (Ry), and roll (Rz). The rotation is in world coordinates with camera being the origin. x-axis=left-right, z-axis =in-out, y-axis = up-down, the Rx, Rz, Ry represent the angle of rotation with respect to a given axis.\n",
    "\n",
    "So to see how much the head moves, I think we need both."
   ],
   "cell_type": "markdown",
   "metadata": {}
  },
  {
   "source": [
    "The feature that starts with p are parameters used in the  point distribution model (PDM) which is used to detect facial landmark and the position of the face. They are parameters used by the model, so I think we can avoid to use them. The author says \"Local parameters (34 non-rigid) are parameters controlling non-rigid face shape, in other words things like facial expression and face shape (long, vs round, vs wide faces etc.). In my thesis they are q in equation 4.6 and are explained in detail in section 4.2.2 (https://www.cl.cam.ac.uk/~tb346/pub/thesis/phd_thesis.pdf)\n",
    "\n",
    "If you are familiar with Principal Component Analysis (PCA), they are the dimensionality reduced components of the 68 facial landmarks. So individually each can represent a particular basis which roughly corresponds to an expression or face shape, but are not always easily mapped to one. If you want to visualize them and see their effect, have a look at matlab_version/pdm_generation/visualise_PDMs.m, this will visualize the first 5 ps and what effect on the face they have.\n",
    "\n",
    "The global parameters, on the other hand, control the placement of the face in the image and are responsible for translation (x and y), scale/size, and the rotation of the face.\""
   ],
   "cell_type": "markdown",
   "metadata": {}
  },
  {
   "cell_type": "code",
   "execution_count": 25,
   "metadata": {},
   "outputs": [
    {
     "output_type": "execute_result",
     "data": {
      "text/plain": [
       "Index(['frame', 'face_id', 'timestamp', 'confidence', 'success', 'gaze_0_x',\n",
       "       'gaze_0_y', 'gaze_0_z', 'gaze_1_x', 'gaze_1_y', 'gaze_1_z',\n",
       "       'gaze_angle_x', 'gaze_angle_y', 'eye_lmk_x_0', 'eye_lmk_x_1',\n",
       "       'eye_lmk_x_2', 'eye_lmk_x_3', 'eye_lmk_x_4', 'eye_lmk_x_5',\n",
       "       'eye_lmk_x_6', 'eye_lmk_x_7', 'eye_lmk_x_8', 'eye_lmk_x_9',\n",
       "       'eye_lmk_x_10', 'eye_lmk_x_11', 'eye_lmk_x_12', 'eye_lmk_x_13',\n",
       "       'eye_lmk_x_14', 'eye_lmk_x_15', 'eye_lmk_x_16', 'eye_lmk_x_17',\n",
       "       'eye_lmk_x_18', 'eye_lmk_x_19', 'eye_lmk_x_20', 'eye_lmk_x_21',\n",
       "       'eye_lmk_x_22', 'eye_lmk_x_23', 'eye_lmk_x_24', 'eye_lmk_x_25',\n",
       "       'eye_lmk_x_26', 'eye_lmk_x_27', 'eye_lmk_x_28', 'eye_lmk_x_29',\n",
       "       'eye_lmk_x_30', 'eye_lmk_x_31', 'eye_lmk_x_32', 'eye_lmk_x_33',\n",
       "       'eye_lmk_x_34', 'eye_lmk_x_35', 'eye_lmk_x_36', 'eye_lmk_x_37',\n",
       "       'eye_lmk_x_38', 'eye_lmk_x_39', 'eye_lmk_x_40', 'eye_lmk_x_41',\n",
       "       'eye_lmk_x_42', 'eye_lmk_x_43', 'eye_lmk_x_44', 'eye_lmk_x_45',\n",
       "       'eye_lmk_x_46', 'eye_lmk_x_47', 'eye_lmk_x_48', 'eye_lmk_x_49',\n",
       "       'eye_lmk_x_50', 'eye_lmk_x_51', 'eye_lmk_x_52', 'eye_lmk_x_53',\n",
       "       'eye_lmk_x_54', 'eye_lmk_x_55', 'eye_lmk_y_0', 'eye_lmk_y_1',\n",
       "       'eye_lmk_y_2', 'eye_lmk_y_3', 'eye_lmk_y_4', 'eye_lmk_y_5',\n",
       "       'eye_lmk_y_6', 'eye_lmk_y_7', 'eye_lmk_y_8', 'eye_lmk_y_9',\n",
       "       'eye_lmk_y_10', 'eye_lmk_y_11', 'eye_lmk_y_12', 'eye_lmk_y_13',\n",
       "       'eye_lmk_y_14', 'eye_lmk_y_15', 'eye_lmk_y_16', 'eye_lmk_y_17',\n",
       "       'eye_lmk_y_18', 'eye_lmk_y_19', 'eye_lmk_y_20', 'eye_lmk_y_21',\n",
       "       'eye_lmk_y_22', 'eye_lmk_y_23', 'eye_lmk_y_24', 'eye_lmk_y_25',\n",
       "       'eye_lmk_y_26', 'eye_lmk_y_27', 'eye_lmk_y_28', 'eye_lmk_y_29',\n",
       "       'eye_lmk_y_30', 'eye_lmk_y_31', 'eye_lmk_y_32', 'eye_lmk_y_33',\n",
       "       'eye_lmk_y_34', 'eye_lmk_y_35', 'eye_lmk_y_36', 'eye_lmk_y_37',\n",
       "       'eye_lmk_y_38', 'eye_lmk_y_39', 'eye_lmk_y_40', 'eye_lmk_y_41',\n",
       "       'eye_lmk_y_42', 'eye_lmk_y_43', 'eye_lmk_y_44', 'eye_lmk_y_45',\n",
       "       'eye_lmk_y_46', 'eye_lmk_y_47', 'eye_lmk_y_48', 'eye_lmk_y_49',\n",
       "       'eye_lmk_y_50', 'eye_lmk_y_51', 'eye_lmk_y_52', 'eye_lmk_y_53',\n",
       "       'eye_lmk_y_54', 'eye_lmk_y_55', 'eye_lmk_X_0', 'eye_lmk_X_1',\n",
       "       'eye_lmk_X_2', 'eye_lmk_X_3', 'eye_lmk_X_4', 'eye_lmk_X_5',\n",
       "       'eye_lmk_X_6', 'eye_lmk_X_7', 'eye_lmk_X_8', 'eye_lmk_X_9',\n",
       "       'eye_lmk_X_10', 'eye_lmk_X_11', 'eye_lmk_X_12', 'eye_lmk_X_13',\n",
       "       'eye_lmk_X_14', 'eye_lmk_X_15', 'eye_lmk_X_16', 'eye_lmk_X_17',\n",
       "       'eye_lmk_X_18', 'eye_lmk_X_19', 'eye_lmk_X_20', 'eye_lmk_X_21',\n",
       "       'eye_lmk_X_22', 'eye_lmk_X_23', 'eye_lmk_X_24', 'eye_lmk_X_25',\n",
       "       'eye_lmk_X_26', 'eye_lmk_X_27', 'eye_lmk_X_28', 'eye_lmk_X_29',\n",
       "       'eye_lmk_X_30', 'eye_lmk_X_31', 'eye_lmk_X_32', 'eye_lmk_X_33',\n",
       "       'eye_lmk_X_34', 'eye_lmk_X_35', 'eye_lmk_X_36', 'eye_lmk_X_37',\n",
       "       'eye_lmk_X_38', 'eye_lmk_X_39', 'eye_lmk_X_40', 'eye_lmk_X_41',\n",
       "       'eye_lmk_X_42', 'eye_lmk_X_43', 'eye_lmk_X_44', 'eye_lmk_X_45',\n",
       "       'eye_lmk_X_46', 'eye_lmk_X_47', 'eye_lmk_X_48', 'eye_lmk_X_49',\n",
       "       'eye_lmk_X_50', 'eye_lmk_X_51', 'eye_lmk_X_52', 'eye_lmk_X_53',\n",
       "       'eye_lmk_X_54', 'eye_lmk_X_55', 'eye_lmk_Y_0', 'eye_lmk_Y_1',\n",
       "       'eye_lmk_Y_2', 'eye_lmk_Y_3', 'eye_lmk_Y_4', 'eye_lmk_Y_5',\n",
       "       'eye_lmk_Y_6', 'eye_lmk_Y_7', 'eye_lmk_Y_8', 'eye_lmk_Y_9',\n",
       "       'eye_lmk_Y_10', 'eye_lmk_Y_11', 'eye_lmk_Y_12', 'eye_lmk_Y_13',\n",
       "       'eye_lmk_Y_14', 'eye_lmk_Y_15', 'eye_lmk_Y_16', 'eye_lmk_Y_17',\n",
       "       'eye_lmk_Y_18', 'eye_lmk_Y_19', 'eye_lmk_Y_20', 'eye_lmk_Y_21',\n",
       "       'eye_lmk_Y_22', 'eye_lmk_Y_23', 'eye_lmk_Y_24', 'eye_lmk_Y_25',\n",
       "       'eye_lmk_Y_26', 'eye_lmk_Y_27', 'eye_lmk_Y_28', 'eye_lmk_Y_29',\n",
       "       'eye_lmk_Y_30', 'eye_lmk_Y_31', 'eye_lmk_Y_32', 'eye_lmk_Y_33',\n",
       "       'eye_lmk_Y_34', 'eye_lmk_Y_35', 'eye_lmk_Y_36', 'eye_lmk_Y_37',\n",
       "       'eye_lmk_Y_38', 'eye_lmk_Y_39', 'eye_lmk_Y_40', 'eye_lmk_Y_41',\n",
       "       'eye_lmk_Y_42', 'eye_lmk_Y_43', 'eye_lmk_Y_44', 'eye_lmk_Y_45',\n",
       "       'eye_lmk_Y_46', 'eye_lmk_Y_47', 'eye_lmk_Y_48', 'eye_lmk_Y_49',\n",
       "       'eye_lmk_Y_50', 'eye_lmk_Y_51', 'eye_lmk_Y_52', 'eye_lmk_Y_53',\n",
       "       'eye_lmk_Y_54', 'eye_lmk_Y_55', 'eye_lmk_Z_0', 'eye_lmk_Z_1',\n",
       "       'eye_lmk_Z_2', 'eye_lmk_Z_3', 'eye_lmk_Z_4', 'eye_lmk_Z_5',\n",
       "       'eye_lmk_Z_6', 'eye_lmk_Z_7', 'eye_lmk_Z_8', 'eye_lmk_Z_9',\n",
       "       'eye_lmk_Z_10', 'eye_lmk_Z_11', 'eye_lmk_Z_12', 'eye_lmk_Z_13',\n",
       "       'eye_lmk_Z_14', 'eye_lmk_Z_15', 'eye_lmk_Z_16', 'eye_lmk_Z_17',\n",
       "       'eye_lmk_Z_18', 'eye_lmk_Z_19', 'eye_lmk_Z_20', 'eye_lmk_Z_21',\n",
       "       'eye_lmk_Z_22', 'eye_lmk_Z_23', 'eye_lmk_Z_24', 'eye_lmk_Z_25',\n",
       "       'eye_lmk_Z_26', 'eye_lmk_Z_27', 'eye_lmk_Z_28', 'eye_lmk_Z_29',\n",
       "       'eye_lmk_Z_30', 'eye_lmk_Z_31', 'eye_lmk_Z_32', 'eye_lmk_Z_33',\n",
       "       'eye_lmk_Z_34', 'eye_lmk_Z_35', 'eye_lmk_Z_36', 'eye_lmk_Z_37',\n",
       "       'eye_lmk_Z_38', 'eye_lmk_Z_39', 'eye_lmk_Z_40', 'eye_lmk_Z_41',\n",
       "       'eye_lmk_Z_42', 'eye_lmk_Z_43', 'eye_lmk_Z_44', 'eye_lmk_Z_45',\n",
       "       'eye_lmk_Z_46', 'eye_lmk_Z_47', 'eye_lmk_Z_48', 'eye_lmk_Z_49',\n",
       "       'eye_lmk_Z_50', 'eye_lmk_Z_51', 'eye_lmk_Z_52', 'eye_lmk_Z_53',\n",
       "       'eye_lmk_Z_54', 'eye_lmk_Z_55', 'pose_Tx', 'pose_Ty', 'pose_Tz',\n",
       "       'pose_Rx', 'pose_Ry', 'pose_Rz', 'x_0', 'x_1', 'x_2', 'x_3', 'x_4',\n",
       "       'x_5', 'x_6', 'x_7', 'x_8', 'x_9', 'x_10', 'x_11', 'x_12', 'x_13',\n",
       "       'x_14', 'x_15', 'x_16', 'x_17', 'x_18', 'x_19', 'x_20', 'x_21', 'x_22',\n",
       "       'x_23', 'x_24', 'x_25', 'x_26', 'x_27', 'x_28', 'x_29', 'x_30', 'x_31',\n",
       "       'x_32', 'x_33', 'x_34', 'x_35', 'x_36', 'x_37', 'x_38', 'x_39', 'x_40',\n",
       "       'x_41', 'x_42', 'x_43', 'x_44', 'x_45', 'x_46', 'x_47', 'x_48', 'x_49',\n",
       "       'x_50', 'x_51', 'x_52', 'x_53', 'x_54', 'x_55', 'x_56', 'x_57', 'x_58',\n",
       "       'x_59', 'x_60', 'x_61', 'x_62', 'x_63', 'x_64', 'x_65', 'x_66', 'x_67',\n",
       "       'y_0', 'y_1', 'y_2', 'y_3', 'y_4', 'y_5', 'y_6', 'y_7', 'y_8', 'y_9',\n",
       "       'y_10', 'y_11', 'y_12', 'y_13', 'y_14', 'y_15', 'y_16', 'y_17', 'y_18',\n",
       "       'y_19', 'y_20', 'y_21', 'y_22', 'y_23', 'y_24', 'y_25', 'y_26', 'y_27',\n",
       "       'y_28', 'y_29', 'y_30', 'y_31', 'y_32', 'y_33', 'y_34', 'y_35', 'y_36',\n",
       "       'y_37', 'y_38', 'y_39', 'y_40', 'y_41', 'y_42', 'y_43', 'y_44', 'y_45',\n",
       "       'y_46', 'y_47', 'y_48', 'y_49', 'y_50', 'y_51', 'y_52', 'y_53', 'y_54',\n",
       "       'y_55', 'y_56', 'y_57', 'y_58', 'y_59', 'y_60', 'y_61', 'y_62', 'y_63',\n",
       "       'y_64', 'y_65', 'y_66', 'y_67', 'X_0', 'X_1', 'X_2', 'X_3', 'X_4',\n",
       "       'X_5', 'X_6', 'X_7', 'X_8', 'X_9', 'X_10', 'X_11', 'X_12', 'X_13',\n",
       "       'X_14', 'X_15', 'X_16', 'X_17', 'X_18', 'X_19', 'X_20', 'X_21', 'X_22',\n",
       "       'X_23', 'X_24', 'X_25', 'X_26', 'X_27', 'X_28', 'X_29', 'X_30', 'X_31',\n",
       "       'X_32', 'X_33', 'X_34', 'X_35', 'X_36', 'X_37', 'X_38', 'X_39', 'X_40',\n",
       "       'X_41', 'X_42', 'X_43', 'X_44', 'X_45', 'X_46', 'X_47', 'X_48', 'X_49',\n",
       "       'X_50', 'X_51', 'X_52', 'X_53', 'X_54', 'X_55', 'X_56', 'X_57', 'X_58',\n",
       "       'X_59', 'X_60', 'X_61', 'X_62', 'X_63', 'X_64', 'X_65', 'X_66', 'X_67',\n",
       "       'Y_0', 'Y_1', 'Y_2', 'Y_3', 'Y_4', 'Y_5', 'Y_6', 'Y_7', 'Y_8', 'Y_9',\n",
       "       'Y_10', 'Y_11', 'Y_12', 'Y_13', 'Y_14', 'Y_15', 'Y_16', 'Y_17', 'Y_18',\n",
       "       'Y_19', 'Y_20', 'Y_21', 'Y_22', 'Y_23', 'Y_24', 'Y_25', 'Y_26', 'Y_27',\n",
       "       'Y_28', 'Y_29', 'Y_30', 'Y_31', 'Y_32', 'Y_33', 'Y_34', 'Y_35', 'Y_36',\n",
       "       'Y_37', 'Y_38', 'Y_39', 'Y_40', 'Y_41', 'Y_42', 'Y_43', 'Y_44', 'Y_45',\n",
       "       'Y_46', 'Y_47', 'Y_48', 'Y_49', 'Y_50', 'Y_51', 'Y_52', 'Y_53', 'Y_54',\n",
       "       'Y_55', 'Y_56', 'Y_57', 'Y_58', 'Y_59', 'Y_60', 'Y_61', 'Y_62', 'Y_63',\n",
       "       'Y_64', 'Y_65', 'Y_66', 'Y_67', 'Z_0', 'Z_1', 'Z_2', 'Z_3', 'Z_4',\n",
       "       'Z_5', 'Z_6', 'Z_7', 'Z_8', 'Z_9', 'Z_10', 'Z_11', 'Z_12', 'Z_13',\n",
       "       'Z_14', 'Z_15', 'Z_16', 'Z_17', 'Z_18', 'Z_19', 'Z_20', 'Z_21', 'Z_22',\n",
       "       'Z_23', 'Z_24', 'Z_25', 'Z_26', 'Z_27', 'Z_28', 'Z_29', 'Z_30', 'Z_31',\n",
       "       'Z_32', 'Z_33', 'Z_34', 'Z_35', 'Z_36', 'Z_37', 'Z_38', 'Z_39', 'Z_40',\n",
       "       'Z_41', 'Z_42', 'Z_43', 'Z_44', 'Z_45', 'Z_46', 'Z_47', 'Z_48', 'Z_49',\n",
       "       'Z_50', 'Z_51', 'Z_52', 'Z_53', 'Z_54', 'Z_55', 'Z_56', 'Z_57', 'Z_58',\n",
       "       'Z_59', 'Z_60', 'Z_61', 'Z_62', 'Z_63', 'Z_64', 'Z_65', 'Z_66', 'Z_67',\n",
       "       'p_scale', 'p_rx', 'p_ry', 'p_rz', 'p_tx', 'p_ty', 'p_0', 'p_1', 'p_2',\n",
       "       'p_3', 'p_4', 'p_5', 'p_6', 'p_7', 'p_8', 'p_9', 'p_10', 'p_11', 'p_12',\n",
       "       'p_13', 'p_14', 'p_15', 'p_16', 'p_17', 'p_18', 'p_19', 'p_20', 'p_21',\n",
       "       'p_22', 'p_23', 'p_24', 'p_25', 'p_26', 'p_27', 'p_28', 'p_29', 'p_30',\n",
       "       'p_31', 'p_32', 'p_33', 'AU01_r', 'AU02_r', 'AU04_r', 'AU05_r',\n",
       "       'AU06_r', 'AU07_r', 'AU09_r', 'AU10_r', 'AU12_r', 'AU14_r', 'AU15_r',\n",
       "       'AU17_r', 'AU20_r', 'AU23_r', 'AU25_r', 'AU26_r', 'AU45_r', 'AU01_c',\n",
       "       'AU02_c', 'AU04_c', 'AU05_c', 'AU06_c', 'AU07_c', 'AU09_c', 'AU10_c',\n",
       "       'AU12_c', 'AU14_c', 'AU15_c', 'AU17_c', 'AU20_c', 'AU23_c', 'AU25_c',\n",
       "       'AU26_c', 'AU28_c', 'AU45_c'],\n",
       "      dtype='object')"
      ]
     },
     "metadata": {},
     "execution_count": 25
    }
   ],
   "source": [
    "pd.options.display.max_seq_items = 2000\n",
    "df.columns"
   ]
  },
  {
   "cell_type": "code",
   "execution_count": 40,
   "metadata": {},
   "outputs": [],
   "source": [
    "for i in df.columns:\n",
    "    if \"eye\" in i or \"x_\" in i or 'y_' in i or 'z_' in i or 'X_' in i or 'Y_' in i or 'Z_' in i or 'p_' in i  :\n",
    "        del df[i]"
   ]
  },
  {
   "cell_type": "code",
   "execution_count": 41,
   "metadata": {},
   "outputs": [
    {
     "output_type": "execute_result",
     "data": {
      "text/plain": [
       "Index(['frame', 'face_id', 'timestamp', 'confidence', 'success', 'gaze_0_x',\n",
       "       'gaze_0_y', 'gaze_0_z', 'gaze_1_x', 'gaze_1_y', 'gaze_1_z',\n",
       "       'gaze_angle_x', 'gaze_angle_y', 'pose_Tx', 'pose_Ty', 'pose_Tz',\n",
       "       'pose_Rx', 'pose_Ry', 'pose_Rz', 'AU01_r', 'AU02_r', 'AU04_r', 'AU05_r',\n",
       "       'AU06_r', 'AU07_r', 'AU09_r', 'AU10_r', 'AU12_r', 'AU14_r', 'AU15_r',\n",
       "       'AU17_r', 'AU20_r', 'AU23_r', 'AU25_r', 'AU26_r', 'AU45_r', 'AU01_c',\n",
       "       'AU02_c', 'AU04_c', 'AU05_c', 'AU06_c', 'AU07_c', 'AU09_c', 'AU10_c',\n",
       "       'AU12_c', 'AU14_c', 'AU15_c', 'AU17_c', 'AU20_c', 'AU23_c', 'AU25_c',\n",
       "       'AU26_c', 'AU28_c', 'AU45_c'],\n",
       "      dtype='object')"
      ]
     },
     "metadata": {},
     "execution_count": 41
    }
   ],
   "source": [
    "df.columns"
   ]
  },
  {
   "cell_type": "code",
   "execution_count": 42,
   "metadata": {},
   "outputs": [
    {
     "output_type": "execute_result",
     "data": {
      "text/plain": [
       "54"
      ]
     },
     "metadata": {},
     "execution_count": 42
    }
   ],
   "source": [
    "len(df.columns)"
   ]
  },
  {
   "cell_type": "code",
   "execution_count": 62,
   "metadata": {},
   "outputs": [
    {
     "output_type": "execute_result",
     "data": {
      "text/plain": [
       "   frame  face_id  timestamp  confidence  success  gaze_0_x  gaze_0_y  \\\n",
       "0      1        0       0.00        0.98        1  0.058144 -0.086946   \n",
       "1      2        0       0.06        0.98        1  0.076459 -0.143412   \n",
       "2      3        0       0.12        0.98        1  0.079903 -0.110330   \n",
       "3      4        0       0.18        0.98        1  0.117146 -0.106546   \n",
       "4      5        0       0.24        0.98        1  0.080384 -0.101181   \n",
       "\n",
       "   gaze_0_z  gaze_1_x  gaze_1_y  ...  AU12_c  AU14_c  AU15_c  AU17_c  AU20_c  \\\n",
       "0 -0.994515 -0.265938 -0.064276  ...     0.0     0.0     1.0     0.0     1.0   \n",
       "1 -0.986705 -0.259332 -0.081572  ...     0.0     1.0     1.0     0.0     1.0   \n",
       "2 -0.990678 -0.255499 -0.076939  ...     0.0     1.0     1.0     0.0     1.0   \n",
       "3 -0.987383 -0.247323 -0.062280  ...     0.0     1.0     1.0     0.0     1.0   \n",
       "4 -0.991615 -0.289122 -0.066332  ...     0.0     1.0     1.0     0.0     1.0   \n",
       "\n",
       "   AU23_c  AU25_c  AU26_c  AU28_c  AU45_c  \n",
       "0     0.0     0.0     0.0     0.0     1.0  \n",
       "1     1.0     0.0     0.0     0.0     1.0  \n",
       "2     1.0     0.0     0.0     0.0     1.0  \n",
       "3     1.0     0.0     0.0     0.0     1.0  \n",
       "4     1.0     0.0     0.0     0.0     1.0  \n",
       "\n",
       "[5 rows x 54 columns]"
      ],
      "text/html": "<div>\n<style scoped>\n    .dataframe tbody tr th:only-of-type {\n        vertical-align: middle;\n    }\n\n    .dataframe tbody tr th {\n        vertical-align: top;\n    }\n\n    .dataframe thead th {\n        text-align: right;\n    }\n</style>\n<table border=\"1\" class=\"dataframe\">\n  <thead>\n    <tr style=\"text-align: right;\">\n      <th></th>\n      <th>frame</th>\n      <th>face_id</th>\n      <th>timestamp</th>\n      <th>confidence</th>\n      <th>success</th>\n      <th>gaze_0_x</th>\n      <th>gaze_0_y</th>\n      <th>gaze_0_z</th>\n      <th>gaze_1_x</th>\n      <th>gaze_1_y</th>\n      <th>...</th>\n      <th>AU12_c</th>\n      <th>AU14_c</th>\n      <th>AU15_c</th>\n      <th>AU17_c</th>\n      <th>AU20_c</th>\n      <th>AU23_c</th>\n      <th>AU25_c</th>\n      <th>AU26_c</th>\n      <th>AU28_c</th>\n      <th>AU45_c</th>\n    </tr>\n  </thead>\n  <tbody>\n    <tr>\n      <th>0</th>\n      <td>1</td>\n      <td>0</td>\n      <td>0.00</td>\n      <td>0.98</td>\n      <td>1</td>\n      <td>0.058144</td>\n      <td>-0.086946</td>\n      <td>-0.994515</td>\n      <td>-0.265938</td>\n      <td>-0.064276</td>\n      <td>...</td>\n      <td>0.0</td>\n      <td>0.0</td>\n      <td>1.0</td>\n      <td>0.0</td>\n      <td>1.0</td>\n      <td>0.0</td>\n      <td>0.0</td>\n      <td>0.0</td>\n      <td>0.0</td>\n      <td>1.0</td>\n    </tr>\n    <tr>\n      <th>1</th>\n      <td>2</td>\n      <td>0</td>\n      <td>0.06</td>\n      <td>0.98</td>\n      <td>1</td>\n      <td>0.076459</td>\n      <td>-0.143412</td>\n      <td>-0.986705</td>\n      <td>-0.259332</td>\n      <td>-0.081572</td>\n      <td>...</td>\n      <td>0.0</td>\n      <td>1.0</td>\n      <td>1.0</td>\n      <td>0.0</td>\n      <td>1.0</td>\n      <td>1.0</td>\n      <td>0.0</td>\n      <td>0.0</td>\n      <td>0.0</td>\n      <td>1.0</td>\n    </tr>\n    <tr>\n      <th>2</th>\n      <td>3</td>\n      <td>0</td>\n      <td>0.12</td>\n      <td>0.98</td>\n      <td>1</td>\n      <td>0.079903</td>\n      <td>-0.110330</td>\n      <td>-0.990678</td>\n      <td>-0.255499</td>\n      <td>-0.076939</td>\n      <td>...</td>\n      <td>0.0</td>\n      <td>1.0</td>\n      <td>1.0</td>\n      <td>0.0</td>\n      <td>1.0</td>\n      <td>1.0</td>\n      <td>0.0</td>\n      <td>0.0</td>\n      <td>0.0</td>\n      <td>1.0</td>\n    </tr>\n    <tr>\n      <th>3</th>\n      <td>4</td>\n      <td>0</td>\n      <td>0.18</td>\n      <td>0.98</td>\n      <td>1</td>\n      <td>0.117146</td>\n      <td>-0.106546</td>\n      <td>-0.987383</td>\n      <td>-0.247323</td>\n      <td>-0.062280</td>\n      <td>...</td>\n      <td>0.0</td>\n      <td>1.0</td>\n      <td>1.0</td>\n      <td>0.0</td>\n      <td>1.0</td>\n      <td>1.0</td>\n      <td>0.0</td>\n      <td>0.0</td>\n      <td>0.0</td>\n      <td>1.0</td>\n    </tr>\n    <tr>\n      <th>4</th>\n      <td>5</td>\n      <td>0</td>\n      <td>0.24</td>\n      <td>0.98</td>\n      <td>1</td>\n      <td>0.080384</td>\n      <td>-0.101181</td>\n      <td>-0.991615</td>\n      <td>-0.289122</td>\n      <td>-0.066332</td>\n      <td>...</td>\n      <td>0.0</td>\n      <td>1.0</td>\n      <td>1.0</td>\n      <td>0.0</td>\n      <td>1.0</td>\n      <td>1.0</td>\n      <td>0.0</td>\n      <td>0.0</td>\n      <td>0.0</td>\n      <td>1.0</td>\n    </tr>\n  </tbody>\n</table>\n<p>5 rows × 54 columns</p>\n</div>"
     },
     "metadata": {},
     "execution_count": 62
    }
   ],
   "source": [
    "df.head()"
   ]
  },
  {
   "cell_type": "code",
   "execution_count": 70,
   "metadata": {},
   "outputs": [
    {
     "output_type": "error",
     "ename": "NameError",
     "evalue": "name 'eliminate_featuresx' is not defined",
     "traceback": [
      "\u001b[0;31m---------------------------------------------------------------------------\u001b[0m",
      "\u001b[0;31mNameError\u001b[0m                                 Traceback (most recent call last)",
      "\u001b[0;32m<ipython-input-70-92c801cedf3a>\u001b[0m in \u001b[0;36m<module>\u001b[0;34m\u001b[0m\n\u001b[0;32m----> 1\u001b[0;31m \u001b[0meliminate_featuresx\u001b[0m\u001b[0;34m(\u001b[0m\u001b[0mdf\u001b[0m\u001b[0;34m)\u001b[0m\u001b[0;34m\u001b[0m\u001b[0;34m\u001b[0m\u001b[0m\n\u001b[0m",
      "\u001b[0;31mNameError\u001b[0m: name 'eliminate_featuresx' is not defined"
     ]
    }
   ],
   "source": [
    "eliminate_featuresx(df)"
   ]
  },
  {
   "cell_type": "code",
   "execution_count": null,
   "metadata": {},
   "outputs": [],
   "source": []
  }
 ],
 "metadata": {
  "kernelspec": {
   "name": "python376jvsc74a57bd0dd1cf4766d5d9df855e04619ca954236457012a0dce4d3d89890d807f4ecf8a5",
   "display_name": "Python 3.7.6 64-bit ('base': conda)"
  },
  "language_info": {
   "codemirror_mode": {
    "name": "ipython",
    "version": 3
   },
   "file_extension": ".py",
   "mimetype": "text/x-python",
   "name": "python",
   "nbconvert_exporter": "python",
   "pygments_lexer": "ipython3",
   "version": "3.7.6-final"
  }
 },
 "nbformat": 4,
 "nbformat_minor": 4
}