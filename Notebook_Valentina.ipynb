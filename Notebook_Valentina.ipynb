{
 "cells": [
  {
   "cell_type": "code",
   "execution_count": 1,
   "metadata": {},
   "outputs": [],
   "source": [
    "import os\n",
    "import subprocess\n",
    "import pandas as pd\n",
    "import platform\n",
    "import pathlib\n",
    "import numpy as np"
   ]
  },
  {
   "cell_type": "code",
   "execution_count": 2,
   "metadata": {},
   "outputs": [],
   "source": [
    "#get current directory\n",
    "cwd = os.getcwd()"
   ]
  },
  {
   "cell_type": "code",
   "execution_count": 3,
   "metadata": {},
   "outputs": [
    {
     "output_type": "execute_result",
     "data": {
      "text/plain": [
       "'/Users/valentinadiproietto/filrouge'"
      ]
     },
     "metadata": {},
     "execution_count": 3
    }
   ],
   "source": [
    "cwd"
   ]
  },
  {
   "cell_type": "code",
   "execution_count": 4,
   "metadata": {},
   "outputs": [],
   "source": [
    "OpenFace_folder = '/Users/valentinadiproietto/OpenFace'"
   ]
  },
  {
   "cell_type": "code",
   "execution_count": 5,
   "metadata": {},
   "outputs": [],
   "source": [
    "Video_folder = '/Users/valentinadiproietto/Desktop/video_stress'"
   ]
  },
  {
   "cell_type": "code",
   "execution_count": 6,
   "metadata": {},
   "outputs": [],
   "source": [
    "def extract_video_features(OpenFace_directory, Video_path):\n",
    "    '''\n",
    "    Extract video features (csv) will be located in the 'processed' folder of OpenFace\n",
    "    \n",
    "    Parameters\n",
    "    ----------\n",
    "    OpenFace_directory : String\n",
    "    Directory where the file FeatureExtraction can be found\n",
    "    \n",
    "    Video_path : String\n",
    "    Directory where the Video(e.g. mp4) file can be found\n",
    "    '''\n",
    "    \n",
    "    OS = platform.system() #Returns OS name\n",
    "    os.chdir(f'{OpenFace_directory}') #Move to the OpenFace directory\n",
    "    \n",
    "    if OS == 'Windows':\n",
    "        cmd = f\"FeatureExtraction.exe -f {Video_path} -2Dfp -3Dfp -pdmparams -pose -aus -gaze\"\n",
    "        \n",
    "    elif OS == 'Darwin':\n",
    "        cmd = f\"build/bin/FeatureExtraction -f {Video_path} -2Dfp -3Dfp -pdmparams -pose -aus -gaze\"\n",
    "        \n",
    "    elif OS == 'Linux':\n",
    "        cmd = f\"FeatureExtraction -f {Video_path} -2Dfp -3Dfp -pdmparams -pose -aus -gaze\"\n",
    "    \n",
    "    my_process = subprocess.run(cmd, shell=True, text=True, capture_output=True)\n",
    "    if  my_process.returncode:\n",
    "        print(\"there is a problem\")\n",
    "    else:\n",
    "        print(\"process executed\")\n",
    "    "
   ]
  },
  {
   "cell_type": "code",
   "execution_count": 7,
   "metadata": {},
   "outputs": [],
   "source": [
    "def create_dataframe_video(OpenFace_processed_path, Name_video):\n",
    "    '''\n",
    "    Create a dataframe from csv extracted with OpenFace\n",
    "    \n",
    "    Parameters\n",
    "    ----------\n",
    "    OpenFace_processed_path: String\n",
    "    Path for the directory processed of OpenFace (e.g '/Users/OpenFace/processed/')\n",
    "    \n",
    "    Name_video : String\n",
    "    Name of the video (e.g. 'Video1')\n",
    "    '''\n",
    "    df = pd.read_csv(OpenFace_processed_path+Name_video+'.csv') \n",
    "    #rename the column erasing the sapces\n",
    "    l=[]\n",
    "    for i in df.columns:\n",
    "        l.append(i.replace(\" \", \"\"))  \n",
    "    df.columns =l   \n",
    "    return df"
   ]
  },
  {
   "cell_type": "code",
   "execution_count": 8,
   "metadata": {},
   "outputs": [],
   "source": [
    "def get_videos(directory_path):\n",
    "    \"\"\" Get videos paths\n",
    "\n",
    "    Args:\n",
    "        directory_path (string): directory where to search for the videos\n",
    "\n",
    "    Returns:\n",
    "        [string]: list of the video paths\n",
    "        [string]: list of the video names\n",
    "    \"\"\"\n",
    "    # define the path\n",
    "    currentDirectory = pathlib.Path(directory_path)\n",
    "\n",
    "    # videos extension\n",
    "    currentPattern = \"*.mp4\"\n",
    "\n",
    "    videos_paths_list = [str(currentFile) for currentFile in currentDirectory.glob(currentPattern)]\n",
    "    if videos_paths_list:\n",
    "        video_filenames_list = [video_path.replace(directory_path,'').replace('/','')[:-4] for video_path in videos_paths_list]\n",
    "    else:\n",
    "        video_filenames_list = []\n",
    "        \n",
    "    return videos_paths_list, video_filenames_list"
   ]
  },
  {
   "cell_type": "code",
   "execution_count": 11,
   "metadata": {},
   "outputs": [],
   "source": [
    "new_videos = ['/Users/valentinadiproietto/Desktop/video_stress/WIN_20210416_08_06_54_Pro.mp4','/Users/valentinadiproietto/Desktop/video_stress/WIN_20210404_10_58_27_Pro.mp4', '/Users/valentinadiproietto/Desktop/video_stress/WIN_20210415_15_41_24_Pro.mp4']"
   ]
  },
  {
   "cell_type": "code",
   "execution_count": 13,
   "metadata": {},
   "outputs": [
    {
     "output_type": "stream",
     "name": "stdout",
     "text": [
      "process executed\n"
     ]
    }
   ],
   "source": [
    "extract_video_features(OpenFace_folder, '/Users/valentinadiproietto/Desktop/video_stress/WIN_20210404_10_58_27_Pro.mp4')"
   ]
  },
  {
   "cell_type": "code",
   "execution_count": 12,
   "metadata": {},
   "outputs": [
    {
     "output_type": "stream",
     "name": "stdout",
     "text": [
      "process executed\n",
      "process executed\n",
      "process executed\n"
     ]
    }
   ],
   "source": [
    "for i in new_videos:\n",
    "    extract_video_features(OpenFace_folder, i)"
   ]
  },
  {
   "cell_type": "code",
   "execution_count": 14,
   "metadata": {},
   "outputs": [],
   "source": [
    "video_paths, video_names = get_videos(Video_folder)"
   ]
  },
  {
   "cell_type": "code",
   "execution_count": 15,
   "metadata": {},
   "outputs": [
    {
     "output_type": "execute_result",
     "data": {
      "text/plain": [
       "['/Users/valentinadiproietto/Desktop/video_stress/WIN_20210331_21_22_52_Pro.mp4',\n",
       " '/Users/valentinadiproietto/Desktop/video_stress/WIN_20210329_14_13_45_Pro.mp4',\n",
       " '/Users/valentinadiproietto/Desktop/video_stress/WIN_20210408_14_11_32_Pro.mp4',\n",
       " '/Users/valentinadiproietto/Desktop/video_stress/WIN_20210408_15_20_51_Pro.mp4',\n",
       " '/Users/valentinadiproietto/Desktop/video_stress/WIN_20210404_10_58_27_Pro.mp4',\n",
       " '/Users/valentinadiproietto/Desktop/video_stress/WIN_20210414_06_24_52_Pro.mp4',\n",
       " '/Users/valentinadiproietto/Desktop/video_stress/WIN_20210406_15_06_15_Pro.mp4',\n",
       " '/Users/valentinadiproietto/Desktop/video_stress/WIN_20210413_15_38_01_Pro.mp4',\n",
       " '/Users/valentinadiproietto/Desktop/video_stress/WIN_20210408_11_48_58_Pro.mp4',\n",
       " '/Users/valentinadiproietto/Desktop/video_stress/WIN_20210407_14_54_56_Pro_edit.mp4',\n",
       " '/Users/valentinadiproietto/Desktop/video_stress/WIN_20210408_16_04_32_Pro.mp4',\n",
       " '/Users/valentinadiproietto/Desktop/video_stress/WIN_20210329_10_16_02_Pro.mp4',\n",
       " '/Users/valentinadiproietto/Desktop/video_stress/WIN_20210323_19_17_40_Pro.mp4',\n",
       " '/Users/valentinadiproietto/Desktop/video_stress/WIN_20210409_10_26_11_Pro.mp4',\n",
       " '/Users/valentinadiproietto/Desktop/video_stress/Test_pour_AFPA.mp4',\n",
       " '/Users/valentinadiproietto/Desktop/video_stress/WIN_20210405_15_09_16_Pro.mp4',\n",
       " '/Users/valentinadiproietto/Desktop/video_stress/WIN_20210406_21_05_52_Pro.mp4',\n",
       " '/Users/valentinadiproietto/Desktop/video_stress/WIN_20210408_14_02_19_Pro.mp4',\n",
       " '/Users/valentinadiproietto/Desktop/video_stress/WIN_20210415_15_41_24_Pro.mp4',\n",
       " '/Users/valentinadiproietto/Desktop/video_stress/WIN_20210406_18_35_52_Pro.mp4',\n",
       " '/Users/valentinadiproietto/Desktop/video_stress/WIN_20210402_14_27_50_Pro.mp4',\n",
       " '/Users/valentinadiproietto/Desktop/video_stress/WIN_20210407_09_04_05_Pro.mp4',\n",
       " '/Users/valentinadiproietto/Desktop/video_stress/WIN_20210402_19_04_53_Pro.mp4',\n",
       " '/Users/valentinadiproietto/Desktop/video_stress/WIN_20210416_08_06_54_Pro.mp4',\n",
       " '/Users/valentinadiproietto/Desktop/video_stress/Video_1.mp4',\n",
       " '/Users/valentinadiproietto/Desktop/video_stress/WIN_20210408_14_00_44_Pro.mp4',\n",
       " '/Users/valentinadiproietto/Desktop/video_stress/WIN_20210404_21_41_12_Pro.mp4',\n",
       " '/Users/valentinadiproietto/Desktop/video_stress/WIN_20210330_13_10_29_Pro.mp4']"
      ]
     },
     "metadata": {},
     "execution_count": 15
    }
   ],
   "source": [
    "video_paths"
   ]
  },
  {
   "cell_type": "code",
   "execution_count": 16,
   "metadata": {},
   "outputs": [
    {
     "output_type": "execute_result",
     "data": {
      "text/plain": [
       "['WIN_20210331_21_22_52_Pro',\n",
       " 'WIN_20210329_14_13_45_Pro',\n",
       " 'WIN_20210408_14_11_32_Pro',\n",
       " 'WIN_20210408_15_20_51_Pro',\n",
       " 'WIN_20210404_10_58_27_Pro',\n",
       " 'WIN_20210414_06_24_52_Pro',\n",
       " 'WIN_20210406_15_06_15_Pro',\n",
       " 'WIN_20210413_15_38_01_Pro',\n",
       " 'WIN_20210408_11_48_58_Pro',\n",
       " 'WIN_20210407_14_54_56_Pro_edit',\n",
       " 'WIN_20210408_16_04_32_Pro',\n",
       " 'WIN_20210329_10_16_02_Pro',\n",
       " 'WIN_20210323_19_17_40_Pro',\n",
       " 'WIN_20210409_10_26_11_Pro',\n",
       " 'Test_pour_AFPA',\n",
       " 'WIN_20210405_15_09_16_Pro',\n",
       " 'WIN_20210406_21_05_52_Pro',\n",
       " 'WIN_20210408_14_02_19_Pro',\n",
       " 'WIN_20210415_15_41_24_Pro',\n",
       " 'WIN_20210406_18_35_52_Pro',\n",
       " 'WIN_20210402_14_27_50_Pro',\n",
       " 'WIN_20210407_09_04_05_Pro',\n",
       " 'WIN_20210402_19_04_53_Pro',\n",
       " 'WIN_20210416_08_06_54_Pro',\n",
       " 'Video_1',\n",
       " 'WIN_20210408_14_00_44_Pro',\n",
       " 'WIN_20210404_21_41_12_Pro',\n",
       " 'WIN_20210330_13_10_29_Pro']"
      ]
     },
     "metadata": {},
     "execution_count": 16
    }
   ],
   "source": [
    "video_names"
   ]
  },
  {
   "cell_type": "code",
   "execution_count": 17,
   "metadata": {},
   "outputs": [],
   "source": [
    "list_dataframes =[]\n",
    "for i in video_names:\n",
    "    list_dataframes.append(create_dataframe_video('/Users/valentinadiproietto/OpenFace/processed/', i))\n",
    "    "
   ]
  },
  {
   "cell_type": "code",
   "execution_count": 18,
   "metadata": {},
   "outputs": [],
   "source": [
    "def check_success(df):\n",
    "   \n",
    "    '''\n",
    "    Gives the percentage of the frames in which OpenFace succeeded in detection a face \n",
    "    \n",
    "    Parameters\n",
    "    ----------\n",
    "    df: Dataframe\n",
    "    Name of the dataframe \n",
    "    '''\n",
    "    return df[\"success\"].value_counts()[1]*100/df.shape[0]\n",
    "   "
   ]
  },
  {
   "cell_type": "code",
   "execution_count": 19,
   "metadata": {},
   "outputs": [
    {
     "output_type": "stream",
     "name": "stdout",
     "text": [
      "98.34157695664824\n93.96474986647677\n99.9474444882407\n99.22779922779922\n99.96171516079633\n95.07823613086771\n99.87678987678987\n99.51358405504804\n98.44551626678135\n100.0\n99.9315399484536\n100.0\n99.96298428888706\n98.88920191572423\n100.0\n99.88188260948573\n98.7196683331301\n99.97950399672064\n100.0\n99.69153483453047\n47.2531935317138\n100.0\n99.9057048561999\n100.0\n100.0\n100.0\n99.08576533650982\n99.39536601126188\n"
     ]
    }
   ],
   "source": [
    "for i in list_dataframes:\n",
    "    print(check_success(i))\n",
    "    "
   ]
  },
  {
   "cell_type": "markdown",
   "metadata": {},
   "source": [
    "The video \"'WIN_20210402_14_27_50_Pro'\" is problematic for OpenFace, in less than 50% of the frames OpenFace succeded in detecting a face, but in all the other cases OpenFace was succesful, what do we do with this video, maybe we erase the video?"
   ]
  },
  {
   "cell_type": "code",
   "execution_count": null,
   "metadata": {},
   "outputs": [],
   "source": []
  }
 ],
 "metadata": {
  "kernelspec": {
   "name": "python376jvsc74a57bd0dd1cf4766d5d9df855e04619ca954236457012a0dce4d3d89890d807f4ecf8a5",
   "display_name": "Python 3.7.6 64-bit ('base': conda)"
  },
  "language_info": {
   "codemirror_mode": {
    "name": "ipython",
    "version": 3
   },
   "file_extension": ".py",
   "mimetype": "text/x-python",
   "name": "python",
   "nbconvert_exporter": "python",
   "pygments_lexer": "ipython3",
   "version": "3.7.6-final"
  }
 },
 "nbformat": 4,
 "nbformat_minor": 4
}