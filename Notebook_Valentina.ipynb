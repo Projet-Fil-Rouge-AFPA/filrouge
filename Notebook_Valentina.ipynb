{
 "cells": [
  {
   "cell_type": "code",
   "execution_count": 34,
   "metadata": {},
   "outputs": [],
   "source": [
    "import os\n",
    "import subprocess\n",
    "import pandas as pd\n",
    "import platform\n",
    "import pathlib\n",
    "import numpy as np\n",
    "from annotations import *\n",
    "from extract_video_features import *\n",
    "from extract_video_features import *"
   ]
  },
  {
   "cell_type": "code",
   "execution_count": 35,
   "metadata": {},
   "outputs": [],
   "source": [
    "#get current directory\n",
    "cwd = os.getcwd()"
   ]
  },
  {
   "cell_type": "code",
   "execution_count": 36,
   "metadata": {},
   "outputs": [
    {
     "output_type": "execute_result",
     "data": {
      "text/plain": [
       "'/Users/valentinadiproietto/filrouge'"
      ]
     },
     "metadata": {},
     "execution_count": 36
    }
   ],
   "source": [
    "cwd"
   ]
  },
  {
   "cell_type": "code",
   "execution_count": 37,
   "metadata": {},
   "outputs": [],
   "source": [
    "OpenFace_folder = '/Users/valentinadiproietto/OpenFace'"
   ]
  },
  {
   "cell_type": "code",
   "execution_count": 38,
   "metadata": {},
   "outputs": [],
   "source": [
    "Video_folder = '/Users/valentinadiproietto/Desktop/video_stress'"
   ]
  },
  {
   "cell_type": "code",
   "execution_count": 39,
   "metadata": {},
   "outputs": [],
   "source": [
    "def extract_video_features(OpenFace_directory, Video_path):\n",
    "    '''\n",
    "    Extract video features (csv) will be located in the 'processed' folder of OpenFace\n",
    "    \n",
    "    Parameters\n",
    "    ----------\n",
    "    OpenFace_directory : String\n",
    "    Directory where the file FeatureExtraction can be found\n",
    "    \n",
    "    Video_path : String\n",
    "    Directory where the Video(e.g. mp4) file can be found\n",
    "    '''\n",
    "    \n",
    "    OS = platform.system() #Returns OS name\n",
    "    os.chdir(f'{OpenFace_directory}') #Move to the OpenFace directory\n",
    "    \n",
    "    if OS == 'Windows':\n",
    "        cmd = f\"FeatureExtraction.exe -f {Video_path} -2Dfp -3Dfp -pdmparams -pose -aus -gaze\"\n",
    "        \n",
    "    elif OS == 'Darwin':\n",
    "        cmd = f\"build/bin/FeatureExtraction -f {Video_path} -2Dfp -3Dfp -pdmparams -pose -aus -gaze\"\n",
    "        \n",
    "    elif OS == 'Linux':\n",
    "        cmd = f\"FeatureExtraction -f {Video_path} -2Dfp -3Dfp -pdmparams -pose -aus -gaze\"\n",
    "    \n",
    "    my_process = subprocess.run(cmd, shell=True, text=True, capture_output=True)\n",
    "    if  my_process.returncode:\n",
    "        print(\"there is a problem\")\n",
    "    else:\n",
    "        print(\"process executed\")\n",
    "    "
   ]
  },
  {
   "cell_type": "code",
   "execution_count": 64,
   "metadata": {},
   "outputs": [],
   "source": [
    "def get_videos(directory_path):\n",
    "    \"\"\" Get videos paths\n",
    "\n",
    "    Args:\n",
    "        directory_path (string): directory where to search for the videos\n",
    "\n",
    "    Returns:\n",
    "        [string]: list of the video paths\n",
    "        [string]: list of the video names\n",
    "    \"\"\"\n",
    "    # define the path\n",
    "    currentDirectory = pathlib.Path(directory_path)\n",
    "\n",
    "    # videos extension\n",
    "    currentPattern = \"*.mp4\"\n",
    "\n",
    "    videos_paths_list = [str(currentFile) for currentFile in currentDirectory.glob(currentPattern)]\n",
    "    if videos_paths_list:\n",
    "        video_filenames_list = [video_path.replace(directory_path,'').replace('/','')[:-4] for video_path in videos_paths_list]\n",
    "    else:\n",
    "        video_filenames_list = []\n",
    "        \n",
    "    return videos_paths_list, video_filenames_list"
   ]
  },
  {
   "cell_type": "code",
   "execution_count": 32,
   "metadata": {},
   "outputs": [],
   "source": [
    "new_videos = ['/Users/valentinadiproietto/Desktop/video_stress/WIN_20210416_08_06_54_Pro.mp4','/Users/valentinadiproietto/Desktop/video_stress/WIN_20210404_10_58_27_Pro.mp4', '/Users/valentinadiproietto/Desktop/video_stress/WIN_20210415_15_41_24_Pro.mp4']"
   ]
  },
  {
   "cell_type": "code",
   "execution_count": 13,
   "metadata": {},
   "outputs": [
    {
     "output_type": "stream",
     "name": "stdout",
     "text": [
      "process executed\n"
     ]
    }
   ],
   "source": [
    "extract_video_features(OpenFace_folder, '/Users/valentinadiproietto/Desktop/video_stress/WIN_20210404_10_58_27_Pro.mp4')"
   ]
  },
  {
   "cell_type": "code",
   "execution_count": 12,
   "metadata": {},
   "outputs": [
    {
     "output_type": "stream",
     "name": "stdout",
     "text": [
      "process executed\n",
      "process executed\n",
      "process executed\n"
     ]
    }
   ],
   "source": [
    "for i in new_videos:\n",
    "    extract_video_features(OpenFace_folder, i)"
   ]
  },
  {
   "cell_type": "code",
   "execution_count": 41,
   "metadata": {},
   "outputs": [],
   "source": [
    "video_paths, video_names = get_videos(Video_folder)"
   ]
  },
  {
   "cell_type": "code",
   "execution_count": 65,
   "metadata": {},
   "outputs": [
    {
     "output_type": "execute_result",
     "data": {
      "text/plain": [
       "['/Users/valentinadiproietto/Desktop/video_stress/WIN_20210331_21_22_52_Pro.mp4',\n",
       " '/Users/valentinadiproietto/Desktop/video_stress/WIN_20210329_14_13_45_Pro.mp4',\n",
       " '/Users/valentinadiproietto/Desktop/video_stress/WIN_20210408_14_11_32_Pro.mp4',\n",
       " '/Users/valentinadiproietto/Desktop/video_stress/WIN_20210408_15_20_51_Pro.mp4',\n",
       " '/Users/valentinadiproietto/Desktop/video_stress/WIN_20210404_10_58_27_Pro.mp4',\n",
       " '/Users/valentinadiproietto/Desktop/video_stress/WIN_20210414_06_24_52_Pro.mp4',\n",
       " '/Users/valentinadiproietto/Desktop/video_stress/WIN_20210406_15_06_15_Pro.mp4',\n",
       " '/Users/valentinadiproietto/Desktop/video_stress/WIN_20210413_15_38_01_Pro.mp4',\n",
       " '/Users/valentinadiproietto/Desktop/video_stress/WIN_20210408_11_48_58_Pro.mp4',\n",
       " '/Users/valentinadiproietto/Desktop/video_stress/WIN_20210407_14_54_56_Pro_edit.mp4',\n",
       " '/Users/valentinadiproietto/Desktop/video_stress/WIN_20210408_16_04_32_Pro.mp4',\n",
       " '/Users/valentinadiproietto/Desktop/video_stress/WIN_20210329_10_16_02_Pro.mp4',\n",
       " '/Users/valentinadiproietto/Desktop/video_stress/WIN_20210323_19_17_40_Pro.mp4',\n",
       " '/Users/valentinadiproietto/Desktop/video_stress/WIN_20210409_10_26_11_Pro.mp4',\n",
       " '/Users/valentinadiproietto/Desktop/video_stress/Test_pour_AFPA.mp4',\n",
       " '/Users/valentinadiproietto/Desktop/video_stress/WIN_20210405_15_09_16_Pro.mp4',\n",
       " '/Users/valentinadiproietto/Desktop/video_stress/WIN_20210406_21_05_52_Pro.mp4',\n",
       " '/Users/valentinadiproietto/Desktop/video_stress/WIN_20210408_14_02_19_Pro.mp4',\n",
       " '/Users/valentinadiproietto/Desktop/video_stress/WIN_20210415_15_41_24_Pro.mp4',\n",
       " '/Users/valentinadiproietto/Desktop/video_stress/WIN_20210406_18_35_52_Pro.mp4',\n",
       " '/Users/valentinadiproietto/Desktop/video_stress/WIN_20210402_14_27_50_Pro.mp4',\n",
       " '/Users/valentinadiproietto/Desktop/video_stress/WIN_20210407_09_04_05_Pro.mp4',\n",
       " '/Users/valentinadiproietto/Desktop/video_stress/WIN_20210402_19_04_53_Pro.mp4',\n",
       " '/Users/valentinadiproietto/Desktop/video_stress/WIN_20210416_08_06_54_Pro.mp4',\n",
       " '/Users/valentinadiproietto/Desktop/video_stress/Video_1.mp4',\n",
       " '/Users/valentinadiproietto/Desktop/video_stress/WIN_20210408_14_00_44_Pro.mp4',\n",
       " '/Users/valentinadiproietto/Desktop/video_stress/WIN_20210404_21_41_12_Pro.mp4',\n",
       " '/Users/valentinadiproietto/Desktop/video_stress/WIN_20210330_13_10_29_Pro.mp4']"
      ]
     },
     "metadata": {},
     "execution_count": 65
    }
   ],
   "source": [
    "video_paths"
   ]
  },
  {
   "cell_type": "code",
   "execution_count": 66,
   "metadata": {},
   "outputs": [
    {
     "output_type": "execute_result",
     "data": {
      "text/plain": [
       "['WIN_20210331_21_22_52_Pro',\n",
       " 'WIN_20210329_14_13_45_Pro',\n",
       " 'WIN_20210408_14_11_32_Pro',\n",
       " 'WIN_20210408_15_20_51_Pro',\n",
       " 'WIN_20210404_10_58_27_Pro',\n",
       " 'WIN_20210414_06_24_52_Pro',\n",
       " 'WIN_20210406_15_06_15_Pro',\n",
       " 'WIN_20210413_15_38_01_Pro',\n",
       " 'WIN_20210408_11_48_58_Pro',\n",
       " 'WIN_20210407_14_54_56_Pro_edit',\n",
       " 'WIN_20210408_16_04_32_Pro',\n",
       " 'WIN_20210329_10_16_02_Pro',\n",
       " 'WIN_20210323_19_17_40_Pro',\n",
       " 'WIN_20210409_10_26_11_Pro',\n",
       " 'Test_pour_AFPA',\n",
       " 'WIN_20210405_15_09_16_Pro',\n",
       " 'WIN_20210406_21_05_52_Pro',\n",
       " 'WIN_20210408_14_02_19_Pro',\n",
       " 'WIN_20210415_15_41_24_Pro',\n",
       " 'WIN_20210406_18_35_52_Pro',\n",
       " 'WIN_20210402_14_27_50_Pro',\n",
       " 'WIN_20210407_09_04_05_Pro',\n",
       " 'WIN_20210402_19_04_53_Pro',\n",
       " 'WIN_20210416_08_06_54_Pro',\n",
       " 'Video_1',\n",
       " 'WIN_20210408_14_00_44_Pro',\n",
       " 'WIN_20210404_21_41_12_Pro',\n",
       " 'WIN_20210330_13_10_29_Pro']"
      ]
     },
     "metadata": {},
     "execution_count": 66
    }
   ],
   "source": [
    "video_names"
   ]
  },
  {
   "cell_type": "code",
   "execution_count": 72,
   "metadata": {},
   "outputs": [],
   "source": [
    "list_dataframes =[]\n",
    "for i in video_names:\n",
    "    list_dataframes.append( create_dataframe_video('/Users/valentinadiproietto/OpenFace/processed/', i))\n",
    "    "
   ]
  },
  {
   "cell_type": "code",
   "execution_count": 73,
   "metadata": {},
   "outputs": [
    {
     "output_type": "stream",
     "name": "stdout",
     "text": [
      "98.34157695664824\n93.96474986647677\n99.9474444882407\n99.22779922779922\n99.96171516079633\n95.07823613086771\n99.87678987678987\n99.51358405504804\n98.44551626678135\n100.0\n99.9315399484536\n100.0\n99.96298428888706\n98.88920191572423\n100.0\n99.88188260948573\n98.7196683331301\n99.97950399672064\n100.0\n99.69153483453047\n47.2531935317138\n100.0\n99.9057048561999\n100.0\n100.0\n100.0\n99.08576533650982\n99.39536601126188\n"
     ]
    }
   ],
   "source": [
    "for i in list_dataframes:\n",
    "    print(check_success(i))\n",
    "    "
   ]
  },
  {
   "cell_type": "markdown",
   "metadata": {},
   "source": [
    "The video \"'WIN_20210402_14_27_50_Pro'\" is problematic for OpenFace, in less than 50% of the frames OpenFace succeded in detecting a face, but in all the other cases OpenFace was succesful, what do we do with this video, maybe we erase the video?"
   ]
  },
  {
   "cell_type": "code",
   "execution_count": 74,
   "metadata": {},
   "outputs": [],
   "source": [
    "annotations_file ='/Users/valentinadiproietto/Desktop/video_stress/Videos_Annotations - Template.csv'"
   ]
  },
  {
   "cell_type": "code",
   "execution_count": 75,
   "metadata": {},
   "outputs": [],
   "source": [
    "df=list_dataframes[0]"
   ]
  },
  {
   "cell_type": "code",
   "execution_count": 76,
   "metadata": {},
   "outputs": [
    {
     "output_type": "execute_result",
     "data": {
      "text/plain": [
       "       frame  face_id  timestamp  confidence  success  gaze_0_x  gaze_0_y  \\\n",
       "0          1        0      0.000        0.98        1  0.058144 -0.086946   \n",
       "1          2        0      0.060        0.98        1  0.076459 -0.143412   \n",
       "2          3        0      0.120        0.98        1  0.079903 -0.110330   \n",
       "3          4        0      0.180        0.98        1  0.117146 -0.106546   \n",
       "4          5        0      0.240        0.98        1  0.080384 -0.101181   \n",
       "...      ...      ...        ...         ...      ...       ...       ...   \n",
       "13743  13744        0    823.526        0.98        1 -0.273697 -0.041309   \n",
       "13744  13745        0    823.586        0.98        1 -0.268158 -0.050530   \n",
       "13745  13746        0    823.646        0.98        1 -0.237320 -0.039591   \n",
       "13746  13747        0    823.705        0.98        1 -0.253612 -0.047883   \n",
       "13747  13748        0    823.765        0.98        1 -0.201447 -0.059082   \n",
       "\n",
       "       gaze_0_z  gaze_1_x  gaze_1_y  ...  AU20_c  AU23_c  AU25_c  AU26_c  \\\n",
       "0     -0.994515 -0.265938 -0.064276  ...     1.0     0.0     0.0     0.0   \n",
       "1     -0.986705 -0.259332 -0.081572  ...     1.0     1.0     0.0     0.0   \n",
       "2     -0.990678 -0.255499 -0.076939  ...     1.0     1.0     0.0     0.0   \n",
       "3     -0.987383 -0.247323 -0.062280  ...     1.0     1.0     0.0     0.0   \n",
       "4     -0.991615 -0.289122 -0.066332  ...     1.0     1.0     0.0     0.0   \n",
       "...         ...       ...       ...  ...     ...     ...     ...     ...   \n",
       "13743 -0.960928 -0.439917  0.018487  ...     0.0     1.0     0.0     0.0   \n",
       "13744 -0.962049 -0.418280  0.013013  ...     0.0     1.0     0.0     0.0   \n",
       "13745 -0.970624 -0.385063  0.008704  ...     0.0     1.0     0.0     0.0   \n",
       "13746 -0.966120 -0.353438  0.000489  ...     0.0     1.0     1.0     0.0   \n",
       "13747 -0.977716 -0.356738 -0.019058  ...     0.0     0.0     0.0     0.0   \n",
       "\n",
       "       AU28_c  AU45_c                 video_name  stress_global  stress  diapo  \n",
       "0         0.0     1.0  WIN_20210331_21_22_52_Pro              1       0      1  \n",
       "1         0.0     1.0  WIN_20210331_21_22_52_Pro              1       0      1  \n",
       "2         0.0     1.0  WIN_20210331_21_22_52_Pro              1       0      1  \n",
       "3         0.0     1.0  WIN_20210331_21_22_52_Pro              1       0      1  \n",
       "4         0.0     1.0  WIN_20210331_21_22_52_Pro              1       0      1  \n",
       "...       ...     ...                        ...            ...     ...    ...  \n",
       "13743     0.0     1.0  WIN_20210331_21_22_52_Pro              1       1     18  \n",
       "13744     0.0     1.0  WIN_20210331_21_22_52_Pro              1       1     18  \n",
       "13745     0.0     1.0  WIN_20210331_21_22_52_Pro              1       1     18  \n",
       "13746     0.0     1.0  WIN_20210331_21_22_52_Pro              1       1     18  \n",
       "13747     0.0     1.0  WIN_20210331_21_22_52_Pro              1       1     18  \n",
       "\n",
       "[13748 rows x 718 columns]"
      ],
      "text/html": "<div>\n<style scoped>\n    .dataframe tbody tr th:only-of-type {\n        vertical-align: middle;\n    }\n\n    .dataframe tbody tr th {\n        vertical-align: top;\n    }\n\n    .dataframe thead th {\n        text-align: right;\n    }\n</style>\n<table border=\"1\" class=\"dataframe\">\n  <thead>\n    <tr style=\"text-align: right;\">\n      <th></th>\n      <th>frame</th>\n      <th>face_id</th>\n      <th>timestamp</th>\n      <th>confidence</th>\n      <th>success</th>\n      <th>gaze_0_x</th>\n      <th>gaze_0_y</th>\n      <th>gaze_0_z</th>\n      <th>gaze_1_x</th>\n      <th>gaze_1_y</th>\n      <th>...</th>\n      <th>AU20_c</th>\n      <th>AU23_c</th>\n      <th>AU25_c</th>\n      <th>AU26_c</th>\n      <th>AU28_c</th>\n      <th>AU45_c</th>\n      <th>video_name</th>\n      <th>stress_global</th>\n      <th>stress</th>\n      <th>diapo</th>\n    </tr>\n  </thead>\n  <tbody>\n    <tr>\n      <th>0</th>\n      <td>1</td>\n      <td>0</td>\n      <td>0.000</td>\n      <td>0.98</td>\n      <td>1</td>\n      <td>0.058144</td>\n      <td>-0.086946</td>\n      <td>-0.994515</td>\n      <td>-0.265938</td>\n      <td>-0.064276</td>\n      <td>...</td>\n      <td>1.0</td>\n      <td>0.0</td>\n      <td>0.0</td>\n      <td>0.0</td>\n      <td>0.0</td>\n      <td>1.0</td>\n      <td>WIN_20210331_21_22_52_Pro</td>\n      <td>1</td>\n      <td>0</td>\n      <td>1</td>\n    </tr>\n    <tr>\n      <th>1</th>\n      <td>2</td>\n      <td>0</td>\n      <td>0.060</td>\n      <td>0.98</td>\n      <td>1</td>\n      <td>0.076459</td>\n      <td>-0.143412</td>\n      <td>-0.986705</td>\n      <td>-0.259332</td>\n      <td>-0.081572</td>\n      <td>...</td>\n      <td>1.0</td>\n      <td>1.0</td>\n      <td>0.0</td>\n      <td>0.0</td>\n      <td>0.0</td>\n      <td>1.0</td>\n      <td>WIN_20210331_21_22_52_Pro</td>\n      <td>1</td>\n      <td>0</td>\n      <td>1</td>\n    </tr>\n    <tr>\n      <th>2</th>\n      <td>3</td>\n      <td>0</td>\n      <td>0.120</td>\n      <td>0.98</td>\n      <td>1</td>\n      <td>0.079903</td>\n      <td>-0.110330</td>\n      <td>-0.990678</td>\n      <td>-0.255499</td>\n      <td>-0.076939</td>\n      <td>...</td>\n      <td>1.0</td>\n      <td>1.0</td>\n      <td>0.0</td>\n      <td>0.0</td>\n      <td>0.0</td>\n      <td>1.0</td>\n      <td>WIN_20210331_21_22_52_Pro</td>\n      <td>1</td>\n      <td>0</td>\n      <td>1</td>\n    </tr>\n    <tr>\n      <th>3</th>\n      <td>4</td>\n      <td>0</td>\n      <td>0.180</td>\n      <td>0.98</td>\n      <td>1</td>\n      <td>0.117146</td>\n      <td>-0.106546</td>\n      <td>-0.987383</td>\n      <td>-0.247323</td>\n      <td>-0.062280</td>\n      <td>...</td>\n      <td>1.0</td>\n      <td>1.0</td>\n      <td>0.0</td>\n      <td>0.0</td>\n      <td>0.0</td>\n      <td>1.0</td>\n      <td>WIN_20210331_21_22_52_Pro</td>\n      <td>1</td>\n      <td>0</td>\n      <td>1</td>\n    </tr>\n    <tr>\n      <th>4</th>\n      <td>5</td>\n      <td>0</td>\n      <td>0.240</td>\n      <td>0.98</td>\n      <td>1</td>\n      <td>0.080384</td>\n      <td>-0.101181</td>\n      <td>-0.991615</td>\n      <td>-0.289122</td>\n      <td>-0.066332</td>\n      <td>...</td>\n      <td>1.0</td>\n      <td>1.0</td>\n      <td>0.0</td>\n      <td>0.0</td>\n      <td>0.0</td>\n      <td>1.0</td>\n      <td>WIN_20210331_21_22_52_Pro</td>\n      <td>1</td>\n      <td>0</td>\n      <td>1</td>\n    </tr>\n    <tr>\n      <th>...</th>\n      <td>...</td>\n      <td>...</td>\n      <td>...</td>\n      <td>...</td>\n      <td>...</td>\n      <td>...</td>\n      <td>...</td>\n      <td>...</td>\n      <td>...</td>\n      <td>...</td>\n      <td>...</td>\n      <td>...</td>\n      <td>...</td>\n      <td>...</td>\n      <td>...</td>\n      <td>...</td>\n      <td>...</td>\n      <td>...</td>\n      <td>...</td>\n      <td>...</td>\n      <td>...</td>\n    </tr>\n    <tr>\n      <th>13743</th>\n      <td>13744</td>\n      <td>0</td>\n      <td>823.526</td>\n      <td>0.98</td>\n      <td>1</td>\n      <td>-0.273697</td>\n      <td>-0.041309</td>\n      <td>-0.960928</td>\n      <td>-0.439917</td>\n      <td>0.018487</td>\n      <td>...</td>\n      <td>0.0</td>\n      <td>1.0</td>\n      <td>0.0</td>\n      <td>0.0</td>\n      <td>0.0</td>\n      <td>1.0</td>\n      <td>WIN_20210331_21_22_52_Pro</td>\n      <td>1</td>\n      <td>1</td>\n      <td>18</td>\n    </tr>\n    <tr>\n      <th>13744</th>\n      <td>13745</td>\n      <td>0</td>\n      <td>823.586</td>\n      <td>0.98</td>\n      <td>1</td>\n      <td>-0.268158</td>\n      <td>-0.050530</td>\n      <td>-0.962049</td>\n      <td>-0.418280</td>\n      <td>0.013013</td>\n      <td>...</td>\n      <td>0.0</td>\n      <td>1.0</td>\n      <td>0.0</td>\n      <td>0.0</td>\n      <td>0.0</td>\n      <td>1.0</td>\n      <td>WIN_20210331_21_22_52_Pro</td>\n      <td>1</td>\n      <td>1</td>\n      <td>18</td>\n    </tr>\n    <tr>\n      <th>13745</th>\n      <td>13746</td>\n      <td>0</td>\n      <td>823.646</td>\n      <td>0.98</td>\n      <td>1</td>\n      <td>-0.237320</td>\n      <td>-0.039591</td>\n      <td>-0.970624</td>\n      <td>-0.385063</td>\n      <td>0.008704</td>\n      <td>...</td>\n      <td>0.0</td>\n      <td>1.0</td>\n      <td>0.0</td>\n      <td>0.0</td>\n      <td>0.0</td>\n      <td>1.0</td>\n      <td>WIN_20210331_21_22_52_Pro</td>\n      <td>1</td>\n      <td>1</td>\n      <td>18</td>\n    </tr>\n    <tr>\n      <th>13746</th>\n      <td>13747</td>\n      <td>0</td>\n      <td>823.705</td>\n      <td>0.98</td>\n      <td>1</td>\n      <td>-0.253612</td>\n      <td>-0.047883</td>\n      <td>-0.966120</td>\n      <td>-0.353438</td>\n      <td>0.000489</td>\n      <td>...</td>\n      <td>0.0</td>\n      <td>1.0</td>\n      <td>1.0</td>\n      <td>0.0</td>\n      <td>0.0</td>\n      <td>1.0</td>\n      <td>WIN_20210331_21_22_52_Pro</td>\n      <td>1</td>\n      <td>1</td>\n      <td>18</td>\n    </tr>\n    <tr>\n      <th>13747</th>\n      <td>13748</td>\n      <td>0</td>\n      <td>823.765</td>\n      <td>0.98</td>\n      <td>1</td>\n      <td>-0.201447</td>\n      <td>-0.059082</td>\n      <td>-0.977716</td>\n      <td>-0.356738</td>\n      <td>-0.019058</td>\n      <td>...</td>\n      <td>0.0</td>\n      <td>0.0</td>\n      <td>0.0</td>\n      <td>0.0</td>\n      <td>0.0</td>\n      <td>1.0</td>\n      <td>WIN_20210331_21_22_52_Pro</td>\n      <td>1</td>\n      <td>1</td>\n      <td>18</td>\n    </tr>\n  </tbody>\n</table>\n<p>13748 rows × 718 columns</p>\n</div>"
     },
     "metadata": {},
     "execution_count": 76
    }
   ],
   "source": [
    "add_video_annotations(df, annotations_files, 2, 'WIN_20210331_21_22_52_Pro')"
   ]
  },
  {
   "cell_type": "code",
   "execution_count": 77,
   "metadata": {},
   "outputs": [],
   "source": [
    "a,b, c =get_annotations_video(annotations_file, 'WIN_20210331_21_22_52_Pro','max')"
   ]
  },
  {
   "cell_type": "code",
   "execution_count": 79,
   "metadata": {},
   "outputs": [
    {
     "output_type": "stream",
     "name": "stdout",
     "text": [
      "141 591 [0.0, 0.0, 1.0, 1.0, 1.0, 1.0, 0.0, 1.0, 1.0]\n"
     ]
    }
   ],
   "source": [
    "print(a,b,c)"
   ]
  },
  {
   "cell_type": "code",
   "execution_count": 78,
   "metadata": {},
   "outputs": [
    {
     "output_type": "execute_result",
     "data": {
      "text/plain": [
       "       frame  face_id  timestamp  confidence  success  gaze_0_x  gaze_0_y  \\\n",
       "0          1        0      0.000        0.98        1  0.058144 -0.086946   \n",
       "1          2        0      0.060        0.98        1  0.076459 -0.143412   \n",
       "2          3        0      0.120        0.98        1  0.079903 -0.110330   \n",
       "3          4        0      0.180        0.98        1  0.117146 -0.106546   \n",
       "4          5        0      0.240        0.98        1  0.080384 -0.101181   \n",
       "...      ...      ...        ...         ...      ...       ...       ...   \n",
       "13743  13744        0    823.526        0.98        1 -0.273697 -0.041309   \n",
       "13744  13745        0    823.586        0.98        1 -0.268158 -0.050530   \n",
       "13745  13746        0    823.646        0.98        1 -0.237320 -0.039591   \n",
       "13746  13747        0    823.705        0.98        1 -0.253612 -0.047883   \n",
       "13747  13748        0    823.765        0.98        1 -0.201447 -0.059082   \n",
       "\n",
       "       gaze_0_z  gaze_1_x  gaze_1_y  ...  AU20_c  AU23_c  AU25_c  AU26_c  \\\n",
       "0     -0.994515 -0.265938 -0.064276  ...     1.0     0.0     0.0     0.0   \n",
       "1     -0.986705 -0.259332 -0.081572  ...     1.0     1.0     0.0     0.0   \n",
       "2     -0.990678 -0.255499 -0.076939  ...     1.0     1.0     0.0     0.0   \n",
       "3     -0.987383 -0.247323 -0.062280  ...     1.0     1.0     0.0     0.0   \n",
       "4     -0.991615 -0.289122 -0.066332  ...     1.0     1.0     0.0     0.0   \n",
       "...         ...       ...       ...  ...     ...     ...     ...     ...   \n",
       "13743 -0.960928 -0.439917  0.018487  ...     0.0     1.0     0.0     0.0   \n",
       "13744 -0.962049 -0.418280  0.013013  ...     0.0     1.0     0.0     0.0   \n",
       "13745 -0.970624 -0.385063  0.008704  ...     0.0     1.0     0.0     0.0   \n",
       "13746 -0.966120 -0.353438  0.000489  ...     0.0     1.0     1.0     0.0   \n",
       "13747 -0.977716 -0.356738 -0.019058  ...     0.0     0.0     0.0     0.0   \n",
       "\n",
       "       AU28_c  AU45_c                 video_name  stress_global  stress  diapo  \n",
       "0         0.0     1.0  WIN_20210331_21_22_52_Pro              1       0      1  \n",
       "1         0.0     1.0  WIN_20210331_21_22_52_Pro              1       0      1  \n",
       "2         0.0     1.0  WIN_20210331_21_22_52_Pro              1       0      1  \n",
       "3         0.0     1.0  WIN_20210331_21_22_52_Pro              1       0      1  \n",
       "4         0.0     1.0  WIN_20210331_21_22_52_Pro              1       0      1  \n",
       "...       ...     ...                        ...            ...     ...    ...  \n",
       "13743     0.0     1.0  WIN_20210331_21_22_52_Pro              1       1     18  \n",
       "13744     0.0     1.0  WIN_20210331_21_22_52_Pro              1       1     18  \n",
       "13745     0.0     1.0  WIN_20210331_21_22_52_Pro              1       1     18  \n",
       "13746     0.0     1.0  WIN_20210331_21_22_52_Pro              1       1     18  \n",
       "13747     0.0     1.0  WIN_20210331_21_22_52_Pro              1       1     18  \n",
       "\n",
       "[13748 rows x 718 columns]"
      ],
      "text/html": "<div>\n<style scoped>\n    .dataframe tbody tr th:only-of-type {\n        vertical-align: middle;\n    }\n\n    .dataframe tbody tr th {\n        vertical-align: top;\n    }\n\n    .dataframe thead th {\n        text-align: right;\n    }\n</style>\n<table border=\"1\" class=\"dataframe\">\n  <thead>\n    <tr style=\"text-align: right;\">\n      <th></th>\n      <th>frame</th>\n      <th>face_id</th>\n      <th>timestamp</th>\n      <th>confidence</th>\n      <th>success</th>\n      <th>gaze_0_x</th>\n      <th>gaze_0_y</th>\n      <th>gaze_0_z</th>\n      <th>gaze_1_x</th>\n      <th>gaze_1_y</th>\n      <th>...</th>\n      <th>AU20_c</th>\n      <th>AU23_c</th>\n      <th>AU25_c</th>\n      <th>AU26_c</th>\n      <th>AU28_c</th>\n      <th>AU45_c</th>\n      <th>video_name</th>\n      <th>stress_global</th>\n      <th>stress</th>\n      <th>diapo</th>\n    </tr>\n  </thead>\n  <tbody>\n    <tr>\n      <th>0</th>\n      <td>1</td>\n      <td>0</td>\n      <td>0.000</td>\n      <td>0.98</td>\n      <td>1</td>\n      <td>0.058144</td>\n      <td>-0.086946</td>\n      <td>-0.994515</td>\n      <td>-0.265938</td>\n      <td>-0.064276</td>\n      <td>...</td>\n      <td>1.0</td>\n      <td>0.0</td>\n      <td>0.0</td>\n      <td>0.0</td>\n      <td>0.0</td>\n      <td>1.0</td>\n      <td>WIN_20210331_21_22_52_Pro</td>\n      <td>1</td>\n      <td>0</td>\n      <td>1</td>\n    </tr>\n    <tr>\n      <th>1</th>\n      <td>2</td>\n      <td>0</td>\n      <td>0.060</td>\n      <td>0.98</td>\n      <td>1</td>\n      <td>0.076459</td>\n      <td>-0.143412</td>\n      <td>-0.986705</td>\n      <td>-0.259332</td>\n      <td>-0.081572</td>\n      <td>...</td>\n      <td>1.0</td>\n      <td>1.0</td>\n      <td>0.0</td>\n      <td>0.0</td>\n      <td>0.0</td>\n      <td>1.0</td>\n      <td>WIN_20210331_21_22_52_Pro</td>\n      <td>1</td>\n      <td>0</td>\n      <td>1</td>\n    </tr>\n    <tr>\n      <th>2</th>\n      <td>3</td>\n      <td>0</td>\n      <td>0.120</td>\n      <td>0.98</td>\n      <td>1</td>\n      <td>0.079903</td>\n      <td>-0.110330</td>\n      <td>-0.990678</td>\n      <td>-0.255499</td>\n      <td>-0.076939</td>\n      <td>...</td>\n      <td>1.0</td>\n      <td>1.0</td>\n      <td>0.0</td>\n      <td>0.0</td>\n      <td>0.0</td>\n      <td>1.0</td>\n      <td>WIN_20210331_21_22_52_Pro</td>\n      <td>1</td>\n      <td>0</td>\n      <td>1</td>\n    </tr>\n    <tr>\n      <th>3</th>\n      <td>4</td>\n      <td>0</td>\n      <td>0.180</td>\n      <td>0.98</td>\n      <td>1</td>\n      <td>0.117146</td>\n      <td>-0.106546</td>\n      <td>-0.987383</td>\n      <td>-0.247323</td>\n      <td>-0.062280</td>\n      <td>...</td>\n      <td>1.0</td>\n      <td>1.0</td>\n      <td>0.0</td>\n      <td>0.0</td>\n      <td>0.0</td>\n      <td>1.0</td>\n      <td>WIN_20210331_21_22_52_Pro</td>\n      <td>1</td>\n      <td>0</td>\n      <td>1</td>\n    </tr>\n    <tr>\n      <th>4</th>\n      <td>5</td>\n      <td>0</td>\n      <td>0.240</td>\n      <td>0.98</td>\n      <td>1</td>\n      <td>0.080384</td>\n      <td>-0.101181</td>\n      <td>-0.991615</td>\n      <td>-0.289122</td>\n      <td>-0.066332</td>\n      <td>...</td>\n      <td>1.0</td>\n      <td>1.0</td>\n      <td>0.0</td>\n      <td>0.0</td>\n      <td>0.0</td>\n      <td>1.0</td>\n      <td>WIN_20210331_21_22_52_Pro</td>\n      <td>1</td>\n      <td>0</td>\n      <td>1</td>\n    </tr>\n    <tr>\n      <th>...</th>\n      <td>...</td>\n      <td>...</td>\n      <td>...</td>\n      <td>...</td>\n      <td>...</td>\n      <td>...</td>\n      <td>...</td>\n      <td>...</td>\n      <td>...</td>\n      <td>...</td>\n      <td>...</td>\n      <td>...</td>\n      <td>...</td>\n      <td>...</td>\n      <td>...</td>\n      <td>...</td>\n      <td>...</td>\n      <td>...</td>\n      <td>...</td>\n      <td>...</td>\n      <td>...</td>\n    </tr>\n    <tr>\n      <th>13743</th>\n      <td>13744</td>\n      <td>0</td>\n      <td>823.526</td>\n      <td>0.98</td>\n      <td>1</td>\n      <td>-0.273697</td>\n      <td>-0.041309</td>\n      <td>-0.960928</td>\n      <td>-0.439917</td>\n      <td>0.018487</td>\n      <td>...</td>\n      <td>0.0</td>\n      <td>1.0</td>\n      <td>0.0</td>\n      <td>0.0</td>\n      <td>0.0</td>\n      <td>1.0</td>\n      <td>WIN_20210331_21_22_52_Pro</td>\n      <td>1</td>\n      <td>1</td>\n      <td>18</td>\n    </tr>\n    <tr>\n      <th>13744</th>\n      <td>13745</td>\n      <td>0</td>\n      <td>823.586</td>\n      <td>0.98</td>\n      <td>1</td>\n      <td>-0.268158</td>\n      <td>-0.050530</td>\n      <td>-0.962049</td>\n      <td>-0.418280</td>\n      <td>0.013013</td>\n      <td>...</td>\n      <td>0.0</td>\n      <td>1.0</td>\n      <td>0.0</td>\n      <td>0.0</td>\n      <td>0.0</td>\n      <td>1.0</td>\n      <td>WIN_20210331_21_22_52_Pro</td>\n      <td>1</td>\n      <td>1</td>\n      <td>18</td>\n    </tr>\n    <tr>\n      <th>13745</th>\n      <td>13746</td>\n      <td>0</td>\n      <td>823.646</td>\n      <td>0.98</td>\n      <td>1</td>\n      <td>-0.237320</td>\n      <td>-0.039591</td>\n      <td>-0.970624</td>\n      <td>-0.385063</td>\n      <td>0.008704</td>\n      <td>...</td>\n      <td>0.0</td>\n      <td>1.0</td>\n      <td>0.0</td>\n      <td>0.0</td>\n      <td>0.0</td>\n      <td>1.0</td>\n      <td>WIN_20210331_21_22_52_Pro</td>\n      <td>1</td>\n      <td>1</td>\n      <td>18</td>\n    </tr>\n    <tr>\n      <th>13746</th>\n      <td>13747</td>\n      <td>0</td>\n      <td>823.705</td>\n      <td>0.98</td>\n      <td>1</td>\n      <td>-0.253612</td>\n      <td>-0.047883</td>\n      <td>-0.966120</td>\n      <td>-0.353438</td>\n      <td>0.000489</td>\n      <td>...</td>\n      <td>0.0</td>\n      <td>1.0</td>\n      <td>1.0</td>\n      <td>0.0</td>\n      <td>0.0</td>\n      <td>1.0</td>\n      <td>WIN_20210331_21_22_52_Pro</td>\n      <td>1</td>\n      <td>1</td>\n      <td>18</td>\n    </tr>\n    <tr>\n      <th>13747</th>\n      <td>13748</td>\n      <td>0</td>\n      <td>823.765</td>\n      <td>0.98</td>\n      <td>1</td>\n      <td>-0.201447</td>\n      <td>-0.059082</td>\n      <td>-0.977716</td>\n      <td>-0.356738</td>\n      <td>-0.019058</td>\n      <td>...</td>\n      <td>0.0</td>\n      <td>0.0</td>\n      <td>0.0</td>\n      <td>0.0</td>\n      <td>0.0</td>\n      <td>1.0</td>\n      <td>WIN_20210331_21_22_52_Pro</td>\n      <td>1</td>\n      <td>1</td>\n      <td>18</td>\n    </tr>\n  </tbody>\n</table>\n<p>13748 rows × 718 columns</p>\n</div>"
     },
     "metadata": {},
     "execution_count": 78
    }
   ],
   "source": [
    " get_df_video_with_annotations('/Users/valentinadiproietto/OpenFace/processed/', 'WIN_20210331_21_22_52_Pro', annotations_file)"
   ]
  },
  {
   "cell_type": "code",
   "execution_count": null,
   "metadata": {},
   "outputs": [],
   "source": []
  }
 ],
 "metadata": {
  "kernelspec": {
   "name": "python376jvsc74a57bd0dd1cf4766d5d9df855e04619ca954236457012a0dce4d3d89890d807f4ecf8a5",
   "display_name": "Python 3.7.6 64-bit ('base': conda)"
  },
  "language_info": {
   "codemirror_mode": {
    "name": "ipython",
    "version": 3
   },
   "file_extension": ".py",
   "mimetype": "text/x-python",
   "name": "python",
   "nbconvert_exporter": "python",
   "pygments_lexer": "ipython3",
   "version": "3.7.6-final"
  }
 },
 "nbformat": 4,
 "nbformat_minor": 4
}