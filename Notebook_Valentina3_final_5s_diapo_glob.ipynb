{
 "cells": [
  {
   "cell_type": "code",
   "execution_count": 1,
   "metadata": {},
   "outputs": [],
   "source": [
    "import os\n",
    "import subprocess\n",
    "import pandas as pd\n",
    "import platform\n",
    "import pathlib\n",
    "import numpy as np\n",
    "from annotations import *\n",
    "from extract_video_features import *\n",
    "from extract_audio_features import *\n",
    "import cv2\n",
    "import seaborn as sns\n",
    "from scipy.stats import kurtosis, skew\n",
    "from sklearn.metrics import f1_score\n",
    "import importlib\n",
    "from tqdm import tqdm\n",
    "import ordinal_classification as o_c\n",
    "from sklearn.metrics import confusion_matrix\n",
    "from sklearn.model_selection import GridSearchCV\n",
    "from util_Valentina import runGridSearchClassifiers\n"
   ]
  },
  {
   "cell_type": "code",
   "execution_count": 2,
   "metadata": {},
   "outputs": [],
   "source": [
    "#get current directory\n",
    "cwd = os.getcwd()"
   ]
  },
  {
   "cell_type": "code",
   "execution_count": 3,
   "metadata": {},
   "outputs": [
    {
     "output_type": "execute_result",
     "data": {
      "text/plain": [
       "'/Users/valentinadiproietto/filrouge'"
      ]
     },
     "metadata": {},
     "execution_count": 3
    }
   ],
   "source": [
    "cwd"
   ]
  },
  {
   "cell_type": "code",
   "execution_count": 4,
   "metadata": {},
   "outputs": [],
   "source": [
    "OpenFace_folder = '/Users/valentinadiproietto/OpenFace'\n",
    "filename_annotations = 'https://docs.google.com/spreadsheets/d/1Rqu1sJiD-ogc4a6R491JTiaYacptOTqh6DKqhwTa8NA/gviz/tq?tqx=out:csv&sheet=Template'"
   ]
  },
  {
   "cell_type": "code",
   "execution_count": 5,
   "metadata": {},
   "outputs": [],
   "source": [
    "Video_folder = '/Users/valentinadiproietto/Desktop/video_stress'"
   ]
  },
  {
   "cell_type": "code",
   "execution_count": 6,
   "metadata": {},
   "outputs": [],
   "source": [
    "video_paths, video_names = get_videos(Video_folder)"
   ]
  },
  {
   "cell_type": "code",
   "execution_count": 7,
   "metadata": {},
   "outputs": [
    {
     "output_type": "execute_result",
     "data": {
      "text/plain": [
       "['WIN_20210331_21_22_52_Pro',\n",
       " 'WIN_20210329_14_13_45_Pro',\n",
       " 'WIN_20210406_18_49_10_Pro',\n",
       " 'WIN_20210408_14_11_32_Pro',\n",
       " 'WIN_20210408_15_20_51_Pro',\n",
       " 'WIN_20210404_10_58_27_Pro',\n",
       " 'WIN_20210414_06_24_52_Pro',\n",
       " 'WIN_20210406_15_06_15_Pro',\n",
       " 'WIN_20210417_14_53_12_Pro',\n",
       " 'WIN_20210413_15_38_01_Pro',\n",
       " 'WIN_20210408_11_48_58_Pro',\n",
       " 'WIN_20210408_16_04_32_Pro',\n",
       " 'WIN_20210329_10_16_02_Pro',\n",
       " 'WIN_20210323_19_17_40_Pro',\n",
       " 'WIN_20210409_10_26_11_Pro',\n",
       " 'Test_pour_AFPA',\n",
       " 'WIN_20210405_15_09_16_Pro',\n",
       " 'WIN_20210407_14_54_56_Pro_edit2',\n",
       " 'WIN_20210406_21_05_52_Pro',\n",
       " 'WIN_20210403_18_49_15_Pro',\n",
       " 'WIN_20210408_14_02_19_Pro',\n",
       " 'WIN_20210415_15_41_24_Pro',\n",
       " 'WIN_20210406_18_35_52_Pro',\n",
       " 'WIN_20210402_14_27_50_Pro',\n",
       " 'WIN_20210407_09_04_05_Pro',\n",
       " 'WIN_20210402_19_04_53_Pro',\n",
       " 'WIN_20210416_08_06_54_Pro',\n",
       " 'Video_1',\n",
       " 'WIN_20210408_14_00_44_Pro',\n",
       " 'WIN_20210404_21_41_12_Pro',\n",
       " 'WIN_20210330_13_10_29_Pro']"
      ]
     },
     "metadata": {},
     "execution_count": 7
    }
   ],
   "source": [
    "video_names"
   ]
  },
  {
   "cell_type": "code",
   "execution_count": 8,
   "metadata": {},
   "outputs": [],
   "source": [
    "list_dataframes = []\n",
    "for i in video_names: \n",
    "    list_dataframes.append(create_dataframe_video('/Users/valentinadiproietto/OpenFace/processed/', i))\n"
   ]
  },
  {
   "cell_type": "code",
   "execution_count": 9,
   "metadata": {},
   "outputs": [],
   "source": [
    "video_names.remove('WIN_20210329_14_13_45_Pro')\n",
    "video_names.remove('WIN_20210402_14_27_50_Pro')\n"
   ]
  },
  {
   "cell_type": "code",
   "execution_count": 10,
   "metadata": {},
   "outputs": [
    {
     "output_type": "execute_result",
     "data": {
      "text/plain": [
       "29"
      ]
     },
     "metadata": {},
     "execution_count": 10
    }
   ],
   "source": [
    "len(video_names)"
   ]
  },
  {
   "cell_type": "code",
   "execution_count": 11,
   "metadata": {},
   "outputs": [
    {
     "output_type": "stream",
     "name": "stderr",
     "text": [
      "100%|██████████| 29/29 [02:22<00:00,  4.91s/it]\n"
     ]
    }
   ],
   "source": [
    "list_df_max = []\n",
    "for v_name in tqdm(video_names):\n",
    "    df_annoted = get_df_video_with_annotations('/Users/valentinadiproietto/OpenFace/processed/', v_name, filename_annotations, \"max\")\n",
    "    list_df_max.append(eliminate_features(df_annoted))\n",
    "\n",
    "\n",
    "    "
   ]
  },
  {
   "cell_type": "code",
   "execution_count": 12,
   "metadata": {},
   "outputs": [
    {
     "output_type": "execute_result",
     "data": {
      "text/plain": [
       "Index(['frame', 'face_id', 'timestamp', 'confidence', 'success', 'AU01_r',\n",
       "       'AU02_r', 'AU04_r', 'AU05_r', 'AU06_r', 'AU07_r', 'AU09_r', 'AU10_r',\n",
       "       'AU12_r', 'AU14_r', 'AU15_r', 'AU17_r', 'AU20_r', 'AU23_r', 'AU25_r',\n",
       "       'AU26_r', 'AU45_r', 'AU01_c', 'AU02_c', 'AU04_c', 'AU05_c', 'AU06_c',\n",
       "       'AU07_c', 'AU09_c', 'AU10_c', 'AU12_c', 'AU14_c', 'AU15_c', 'AU17_c',\n",
       "       'AU20_c', 'AU23_c', 'AU25_c', 'AU26_c', 'AU28_c', 'AU45_c', 'gaze_0_x',\n",
       "       'gaze_0_y', 'gaze_0_z', 'gaze_1_x', 'gaze_1_y', 'gaze_1_z',\n",
       "       'gaze_angle_x', 'gaze_angle_y', 'pose_Tx', 'pose_Ty', 'pose_Tz',\n",
       "       'pose_Rx', 'pose_Ry', 'pose_Rz', 'type_candidat', 'sexe', 'video_name',\n",
       "       'stress_global', 'stress', 'diapo'],\n",
       "      dtype='object')"
      ]
     },
     "metadata": {},
     "execution_count": 12
    }
   ],
   "source": [
    "list_df_max[0].columns"
   ]
  },
  {
   "source": [
    "##"
   ],
   "cell_type": "markdown",
   "metadata": {}
  },
  {
   "source": [
    "## AGGREGATION TIME WINDOW AND FIRST RF ON TIME WINDOW %"
   ],
   "cell_type": "markdown",
   "metadata": {}
  },
  {
   "cell_type": "code",
   "execution_count": 12,
   "metadata": {},
   "outputs": [],
   "source": [
    "df_with_deriv = []\n",
    "for i in list_df_max:\n",
    "    to_drop = ['frame','face_id','timestamp','confidence','success', 'type_candidat']\n",
    "    i = add_frameTimeWindow(i)\n",
    "    i = i.drop(to_drop, axis = 1)\n",
    "    i = add_derivatives_drop_spatial(i)\n",
    "    df_with_deriv.append(i)"
   ]
  },
  {
   "cell_type": "code",
   "execution_count": 13,
   "metadata": {},
   "outputs": [],
   "source": [
    "groupby_features= ['video_name','stress_global','stress','frameTimeWindow','sexe', 'diapo']\n",
    "\n",
    "df_total = pd.concat(df_with_deriv)\n"
   ]
  },
  {
   "cell_type": "code",
   "execution_count": 14,
   "metadata": {},
   "outputs": [
    {
     "output_type": "execute_result",
     "data": {
      "text/plain": [
       "stress\n",
       "1.0       2419\n",
       "0.0       2064\n",
       "2.0        638\n",
       "3.0         20\n",
       "dtype: int64"
      ]
     },
     "metadata": {},
     "execution_count": 14
    }
   ],
   "source": [
    "df_total = df_total.groupby(groupby_features).agg(['mean']).reset_index()\n",
    "df_total.columns= df_total.columns.map('_'.join).str.strip('_')\n",
    "df_total[['stress']].value_counts()"
   ]
  },
  {
   "cell_type": "code",
   "execution_count": 15,
   "metadata": {},
   "outputs": [
    {
     "output_type": "execute_result",
     "data": {
      "text/plain": [
       "(5141, 99)"
      ]
     },
     "metadata": {},
     "execution_count": 15
    }
   ],
   "source": [
    "x = df_total.drop(['video_name','stress_global', 'stress','frameTimeWindow'], axis = 1)\n",
    "x.shape"
   ]
  },
  {
   "cell_type": "code",
   "execution_count": 16,
   "metadata": {},
   "outputs": [
    {
     "output_type": "execute_result",
     "data": {
      "text/plain": [
       "(5141, 1)"
      ]
     },
     "metadata": {},
     "execution_count": 16
    }
   ],
   "source": [
    "#Replace string values\n",
    "x.sexe = x.sexe.replace('H',0)\n",
    "x.sexe = x.sexe.replace('F',1)\n",
    "\n",
    "y = df_total[['stress']]\n",
    "y.shape"
   ]
  },
  {
   "cell_type": "code",
   "execution_count": 17,
   "metadata": {},
   "outputs": [],
   "source": [
    "from sklearn.ensemble import RandomForestClassifier\n",
    "from sklearn.model_selection import LeaveOneGroupOut\n",
    "\n",
    "models_list = [RandomForestClassifier(random_state = 42, n_jobs=-1)]\n",
    "parameters_list = [\n",
    "                {'n_estimators': [100, 150, 200, 250, 300], 'max_depth':[10, 15, 20, 25,30], 'class_weight':[None,'balanced']}\n",
    "                ]\n",
    "groups = df_total['video_name']\n",
    "loo = LeaveOneGroupOut()\n",
    "cv_loo = loo.split(x, y, groups)"
   ]
  },
  {
   "cell_type": "code",
   "execution_count": 18,
   "metadata": {},
   "outputs": [
    {
     "output_type": "stream",
     "name": "stdout",
     "text": [
      "Fitting 29 folds for each of 50 candidates, totalling 1450 fits\n",
      "Best estimator RandomForestClassifier(class_weight='balanced', max_depth=10, n_estimators=200,\n",
      "                       n_jobs=-1, random_state=42)\n",
      "Best results 0.47420589324789425\n",
      "Best params {'class_weight': 'balanced', 'max_depth': 10, 'n_estimators': 200}\n",
      "accuracy (mean, std) 0.49188136107141134 0.18732930193915623\n",
      "f1 (mean, std) 0.47420589324789425 0.19976346176406967\n",
      "balanced accuracy (mean, std) 0.476389246580685 0.15440475243427615\n",
      "precision (mean, std) 0.6255117618166157 0.18639492327844862\n",
      "recall (mean, std) 0.49188136107141134 0.18732930193915623\n",
      "\n",
      "f1_score (weighted) 0.4487367458086715\n",
      "accuracy 0.4835635090449329\n"
     ]
    }
   ],
   "source": [
    "best_result, y_predict, y_proba, result_list = runGridSearchClassifiers(x, y, cv_loo, models_list, parameters_list, output_predict=True, n_jobs=-1, verbose=True)"
   ]
  },
  {
   "cell_type": "code",
   "execution_count": 19,
   "metadata": {},
   "outputs": [],
   "source": [
    "# Saving predictions\n",
    "predict5s = pd.concat([df_total[['video_name','diapo','frameTimeWindow']],\n",
    "                        pd.DataFrame(y_predict, columns=['ypredict'])],axis=1)\n"
   ]
  },
  {
   "cell_type": "code",
   "execution_count": 20,
   "metadata": {},
   "outputs": [
    {
     "output_type": "execute_result",
     "data": {
      "text/plain": [
       "{'best_estimator': RandomForestClassifier(class_weight='balanced', max_depth=10, n_estimators=200,\n",
       "                        n_jobs=-1, random_state=42),\n",
       " 'best_score': 0.47420589324789425,\n",
       " 'best_params': {'class_weight': 'balanced',\n",
       "  'max_depth': 10,\n",
       "  'n_estimators': 200},\n",
       " 'mean_test_f1_score': 0.47420589324789425,\n",
       " 'std_test_f1_score': 0.19976346176406967,\n",
       " 'mean_test_accuracy_score': 0.49188136107141134,\n",
       " 'std_test_accuracy_score': 0.18732930193915623,\n",
       " 'mean_test_balanced_accuracy_score': 0.476389246580685,\n",
       " 'std_test_balanced_accuracy_score': 0.15440475243427615,\n",
       " 'mean_test_precision': 0.6255117618166157,\n",
       " 'std_test_precision': 0.18639492327844862,\n",
       " 'mean_test_recall': 0.49188136107141134,\n",
       " 'std_test_recall': 0.18732930193915623}"
      ]
     },
     "metadata": {},
     "execution_count": 20
    }
   ],
   "source": [
    "best_result"
   ]
  },
  {
   "cell_type": "code",
   "execution_count": 21,
   "metadata": {},
   "outputs": [],
   "source": [
    "predict5s.to_csv('all_features_tw5.csv')"
   ]
  },
  {
   "cell_type": "code",
   "execution_count": 22,
   "metadata": {},
   "outputs": [],
   "source": [
    "predict5s= pd.read_csv('all_features_tw5.csv')"
   ]
  },
  {
   "source": [
    "## PIVOT TABLE WITH COUNT OF PREDICTION 5SEC, TO PREDICT STRESS BY DIAPO"
   ],
   "cell_type": "markdown",
   "metadata": {}
  },
  {
   "cell_type": "code",
   "execution_count": 23,
   "metadata": {},
   "outputs": [
    {
     "output_type": "execute_result",
     "data": {
      "text/plain": [
       "ypredict                              0.0       1.0  2.0\n",
       "video_name                diapo                         \n",
       "Test_pour_AFPA            1      0.323529  0.676471  0.0\n",
       "                          8      0.600000  0.400000  0.0\n",
       "                          9      0.550000  0.450000  0.0\n",
       "                          10     0.400000  0.600000  0.0\n",
       "                          11     0.500000  0.500000  0.0\n",
       "...                                   ...       ...  ...\n",
       "WIN_20210417_14_53_12_Pro 10     1.000000  0.000000  0.0\n",
       "                          11     1.000000  0.000000  0.0\n",
       "                          12     0.636364  0.363636  0.0\n",
       "                          17     0.571429  0.428571  0.0\n",
       "                          18     0.130435  0.869565  0.0\n",
       "\n",
       "[232 rows x 3 columns]"
      ],
      "text/html": "<div>\n<style scoped>\n    .dataframe tbody tr th:only-of-type {\n        vertical-align: middle;\n    }\n\n    .dataframe tbody tr th {\n        vertical-align: top;\n    }\n\n    .dataframe thead th {\n        text-align: right;\n    }\n</style>\n<table border=\"1\" class=\"dataframe\">\n  <thead>\n    <tr style=\"text-align: right;\">\n      <th></th>\n      <th>ypredict</th>\n      <th>0.0</th>\n      <th>1.0</th>\n      <th>2.0</th>\n    </tr>\n    <tr>\n      <th>video_name</th>\n      <th>diapo</th>\n      <th></th>\n      <th></th>\n      <th></th>\n    </tr>\n  </thead>\n  <tbody>\n    <tr>\n      <th rowspan=\"5\" valign=\"top\">Test_pour_AFPA</th>\n      <th>1</th>\n      <td>0.323529</td>\n      <td>0.676471</td>\n      <td>0.0</td>\n    </tr>\n    <tr>\n      <th>8</th>\n      <td>0.600000</td>\n      <td>0.400000</td>\n      <td>0.0</td>\n    </tr>\n    <tr>\n      <th>9</th>\n      <td>0.550000</td>\n      <td>0.450000</td>\n      <td>0.0</td>\n    </tr>\n    <tr>\n      <th>10</th>\n      <td>0.400000</td>\n      <td>0.600000</td>\n      <td>0.0</td>\n    </tr>\n    <tr>\n      <th>11</th>\n      <td>0.500000</td>\n      <td>0.500000</td>\n      <td>0.0</td>\n    </tr>\n    <tr>\n      <th>...</th>\n      <th>...</th>\n      <td>...</td>\n      <td>...</td>\n      <td>...</td>\n    </tr>\n    <tr>\n      <th rowspan=\"5\" valign=\"top\">WIN_20210417_14_53_12_Pro</th>\n      <th>10</th>\n      <td>1.000000</td>\n      <td>0.000000</td>\n      <td>0.0</td>\n    </tr>\n    <tr>\n      <th>11</th>\n      <td>1.000000</td>\n      <td>0.000000</td>\n      <td>0.0</td>\n    </tr>\n    <tr>\n      <th>12</th>\n      <td>0.636364</td>\n      <td>0.363636</td>\n      <td>0.0</td>\n    </tr>\n    <tr>\n      <th>17</th>\n      <td>0.571429</td>\n      <td>0.428571</td>\n      <td>0.0</td>\n    </tr>\n    <tr>\n      <th>18</th>\n      <td>0.130435</td>\n      <td>0.869565</td>\n      <td>0.0</td>\n    </tr>\n  </tbody>\n</table>\n<p>232 rows × 3 columns</p>\n</div>"
     },
     "metadata": {},
     "execution_count": 23
    }
   ],
   "source": [
    "X = predict5s.pivot_table(values='frameTimeWindow', columns='ypredict', index=['video_name','diapo'], aggfunc='count', fill_value=0)\n",
    "X_sum = X.sum(axis=1).values.copy()\n",
    "for col_number in range(len(X.columns)):\n",
    "    X.iloc[:,col_number] = X.iloc[:,col_number] / X_sum\n",
    "X\n",
    " "
   ]
  },
  {
   "cell_type": "code",
   "execution_count": 24,
   "metadata": {},
   "outputs": [
    {
     "output_type": "execute_result",
     "data": {
      "text/plain": [
       "                    video_name  diapo  stress\n",
       "0               Test_pour_AFPA      1     1.0\n",
       "1               Test_pour_AFPA      8     1.0\n",
       "2               Test_pour_AFPA      9     0.0\n",
       "3               Test_pour_AFPA     10     0.0\n",
       "4               Test_pour_AFPA     11     0.0\n",
       "..                         ...    ...     ...\n",
       "235  WIN_20210417_14_53_12_Pro     10     0.0\n",
       "236  WIN_20210417_14_53_12_Pro     11     0.0\n",
       "237  WIN_20210417_14_53_12_Pro     12     0.0\n",
       "238  WIN_20210417_14_53_12_Pro     17     1.0\n",
       "239  WIN_20210417_14_53_12_Pro     18     1.0\n",
       "\n",
       "[240 rows x 3 columns]"
      ],
      "text/html": "<div>\n<style scoped>\n    .dataframe tbody tr th:only-of-type {\n        vertical-align: middle;\n    }\n\n    .dataframe tbody tr th {\n        vertical-align: top;\n    }\n\n    .dataframe thead th {\n        text-align: right;\n    }\n</style>\n<table border=\"1\" class=\"dataframe\">\n  <thead>\n    <tr style=\"text-align: right;\">\n      <th></th>\n      <th>video_name</th>\n      <th>diapo</th>\n      <th>stress</th>\n    </tr>\n  </thead>\n  <tbody>\n    <tr>\n      <th>0</th>\n      <td>Test_pour_AFPA</td>\n      <td>1</td>\n      <td>1.0</td>\n    </tr>\n    <tr>\n      <th>1</th>\n      <td>Test_pour_AFPA</td>\n      <td>8</td>\n      <td>1.0</td>\n    </tr>\n    <tr>\n      <th>2</th>\n      <td>Test_pour_AFPA</td>\n      <td>9</td>\n      <td>0.0</td>\n    </tr>\n    <tr>\n      <th>3</th>\n      <td>Test_pour_AFPA</td>\n      <td>10</td>\n      <td>0.0</td>\n    </tr>\n    <tr>\n      <th>4</th>\n      <td>Test_pour_AFPA</td>\n      <td>11</td>\n      <td>0.0</td>\n    </tr>\n    <tr>\n      <th>...</th>\n      <td>...</td>\n      <td>...</td>\n      <td>...</td>\n    </tr>\n    <tr>\n      <th>235</th>\n      <td>WIN_20210417_14_53_12_Pro</td>\n      <td>10</td>\n      <td>0.0</td>\n    </tr>\n    <tr>\n      <th>236</th>\n      <td>WIN_20210417_14_53_12_Pro</td>\n      <td>11</td>\n      <td>0.0</td>\n    </tr>\n    <tr>\n      <th>237</th>\n      <td>WIN_20210417_14_53_12_Pro</td>\n      <td>12</td>\n      <td>0.0</td>\n    </tr>\n    <tr>\n      <th>238</th>\n      <td>WIN_20210417_14_53_12_Pro</td>\n      <td>17</td>\n      <td>1.0</td>\n    </tr>\n    <tr>\n      <th>239</th>\n      <td>WIN_20210417_14_53_12_Pro</td>\n      <td>18</td>\n      <td>1.0</td>\n    </tr>\n  </tbody>\n</table>\n<p>240 rows × 3 columns</p>\n</div>"
     },
     "metadata": {},
     "execution_count": 24
    }
   ],
   "source": [
    "#STRESS BY DIAPO\n",
    "\n",
    "df_annotations_stress = pd.read_csv('annotations.csv')\n",
    "df_annotations_stress = df_annotations_stress.drop(df_annotations_stress.columns[-1],axis=1).set_index('video_name').stack()\n",
    "df_annotations_stress = pd.DataFrame(df_annotations_stress).reset_index()\n",
    "df_annotations_stress.columns = ['video_name','diapo','stress']\n",
    "#df_annotations_stress = df_annotations_stress.set_index(['video_name','diapo'])\n",
    "df_annotations_stress['diapo'] = df_annotations_stress['diapo'].astype(int)\n",
    "df_annotations_stress"
   ]
  },
  {
   "cell_type": "code",
   "execution_count": 25,
   "metadata": {},
   "outputs": [
    {
     "output_type": "execute_result",
     "data": {
      "text/plain": [
       "                    video_name  diapo       0.0       1.0  2.0  stress\n",
       "0               Test_pour_AFPA      1  0.323529  0.676471  0.0     1.0\n",
       "1               Test_pour_AFPA      8  0.600000  0.400000  0.0     1.0\n",
       "2               Test_pour_AFPA      9  0.550000  0.450000  0.0     0.0\n",
       "3               Test_pour_AFPA     10  0.400000  0.600000  0.0     0.0\n",
       "4               Test_pour_AFPA     11  0.500000  0.500000  0.0     0.0\n",
       "..                         ...    ...       ...       ...  ...     ...\n",
       "227  WIN_20210417_14_53_12_Pro     10  1.000000  0.000000  0.0     0.0\n",
       "228  WIN_20210417_14_53_12_Pro     11  1.000000  0.000000  0.0     0.0\n",
       "229  WIN_20210417_14_53_12_Pro     12  0.636364  0.363636  0.0     0.0\n",
       "230  WIN_20210417_14_53_12_Pro     17  0.571429  0.428571  0.0     1.0\n",
       "231  WIN_20210417_14_53_12_Pro     18  0.130435  0.869565  0.0     1.0\n",
       "\n",
       "[232 rows x 6 columns]"
      ],
      "text/html": "<div>\n<style scoped>\n    .dataframe tbody tr th:only-of-type {\n        vertical-align: middle;\n    }\n\n    .dataframe tbody tr th {\n        vertical-align: top;\n    }\n\n    .dataframe thead th {\n        text-align: right;\n    }\n</style>\n<table border=\"1\" class=\"dataframe\">\n  <thead>\n    <tr style=\"text-align: right;\">\n      <th></th>\n      <th>video_name</th>\n      <th>diapo</th>\n      <th>0.0</th>\n      <th>1.0</th>\n      <th>2.0</th>\n      <th>stress</th>\n    </tr>\n  </thead>\n  <tbody>\n    <tr>\n      <th>0</th>\n      <td>Test_pour_AFPA</td>\n      <td>1</td>\n      <td>0.323529</td>\n      <td>0.676471</td>\n      <td>0.0</td>\n      <td>1.0</td>\n    </tr>\n    <tr>\n      <th>1</th>\n      <td>Test_pour_AFPA</td>\n      <td>8</td>\n      <td>0.600000</td>\n      <td>0.400000</td>\n      <td>0.0</td>\n      <td>1.0</td>\n    </tr>\n    <tr>\n      <th>2</th>\n      <td>Test_pour_AFPA</td>\n      <td>9</td>\n      <td>0.550000</td>\n      <td>0.450000</td>\n      <td>0.0</td>\n      <td>0.0</td>\n    </tr>\n    <tr>\n      <th>3</th>\n      <td>Test_pour_AFPA</td>\n      <td>10</td>\n      <td>0.400000</td>\n      <td>0.600000</td>\n      <td>0.0</td>\n      <td>0.0</td>\n    </tr>\n    <tr>\n      <th>4</th>\n      <td>Test_pour_AFPA</td>\n      <td>11</td>\n      <td>0.500000</td>\n      <td>0.500000</td>\n      <td>0.0</td>\n      <td>0.0</td>\n    </tr>\n    <tr>\n      <th>...</th>\n      <td>...</td>\n      <td>...</td>\n      <td>...</td>\n      <td>...</td>\n      <td>...</td>\n      <td>...</td>\n    </tr>\n    <tr>\n      <th>227</th>\n      <td>WIN_20210417_14_53_12_Pro</td>\n      <td>10</td>\n      <td>1.000000</td>\n      <td>0.000000</td>\n      <td>0.0</td>\n      <td>0.0</td>\n    </tr>\n    <tr>\n      <th>228</th>\n      <td>WIN_20210417_14_53_12_Pro</td>\n      <td>11</td>\n      <td>1.000000</td>\n      <td>0.000000</td>\n      <td>0.0</td>\n      <td>0.0</td>\n    </tr>\n    <tr>\n      <th>229</th>\n      <td>WIN_20210417_14_53_12_Pro</td>\n      <td>12</td>\n      <td>0.636364</td>\n      <td>0.363636</td>\n      <td>0.0</td>\n      <td>0.0</td>\n    </tr>\n    <tr>\n      <th>230</th>\n      <td>WIN_20210417_14_53_12_Pro</td>\n      <td>17</td>\n      <td>0.571429</td>\n      <td>0.428571</td>\n      <td>0.0</td>\n      <td>1.0</td>\n    </tr>\n    <tr>\n      <th>231</th>\n      <td>WIN_20210417_14_53_12_Pro</td>\n      <td>18</td>\n      <td>0.130435</td>\n      <td>0.869565</td>\n      <td>0.0</td>\n      <td>1.0</td>\n    </tr>\n  </tbody>\n</table>\n<p>232 rows × 6 columns</p>\n</div>"
     },
     "metadata": {},
     "execution_count": 25
    }
   ],
   "source": [
    "Xy = X.merge(df_annotations_stress, how='inner', on=['video_name','diapo'])\n",
    "X = Xy.iloc[:,:-1].set_index(['video_name','diapo'])\n",
    "y = Xy.iloc[:,-1]\n",
    "Xy"
   ]
  },
  {
   "cell_type": "code",
   "execution_count": 26,
   "metadata": {},
   "outputs": [
    {
     "output_type": "execute_result",
     "data": {
      "text/plain": [
       "                                      0.0       1.0  2.0\n",
       "video_name                diapo                         \n",
       "Test_pour_AFPA            1      0.323529  0.676471  0.0\n",
       "                          8      0.600000  0.400000  0.0\n",
       "                          9      0.550000  0.450000  0.0\n",
       "                          10     0.400000  0.600000  0.0\n",
       "                          11     0.500000  0.500000  0.0\n",
       "...                                   ...       ...  ...\n",
       "WIN_20210417_14_53_12_Pro 10     1.000000  0.000000  0.0\n",
       "                          11     1.000000  0.000000  0.0\n",
       "                          12     0.636364  0.363636  0.0\n",
       "                          17     0.571429  0.428571  0.0\n",
       "                          18     0.130435  0.869565  0.0\n",
       "\n",
       "[232 rows x 3 columns]"
      ],
      "text/html": "<div>\n<style scoped>\n    .dataframe tbody tr th:only-of-type {\n        vertical-align: middle;\n    }\n\n    .dataframe tbody tr th {\n        vertical-align: top;\n    }\n\n    .dataframe thead th {\n        text-align: right;\n    }\n</style>\n<table border=\"1\" class=\"dataframe\">\n  <thead>\n    <tr style=\"text-align: right;\">\n      <th></th>\n      <th></th>\n      <th>0.0</th>\n      <th>1.0</th>\n      <th>2.0</th>\n    </tr>\n    <tr>\n      <th>video_name</th>\n      <th>diapo</th>\n      <th></th>\n      <th></th>\n      <th></th>\n    </tr>\n  </thead>\n  <tbody>\n    <tr>\n      <th rowspan=\"5\" valign=\"top\">Test_pour_AFPA</th>\n      <th>1</th>\n      <td>0.323529</td>\n      <td>0.676471</td>\n      <td>0.0</td>\n    </tr>\n    <tr>\n      <th>8</th>\n      <td>0.600000</td>\n      <td>0.400000</td>\n      <td>0.0</td>\n    </tr>\n    <tr>\n      <th>9</th>\n      <td>0.550000</td>\n      <td>0.450000</td>\n      <td>0.0</td>\n    </tr>\n    <tr>\n      <th>10</th>\n      <td>0.400000</td>\n      <td>0.600000</td>\n      <td>0.0</td>\n    </tr>\n    <tr>\n      <th>11</th>\n      <td>0.500000</td>\n      <td>0.500000</td>\n      <td>0.0</td>\n    </tr>\n    <tr>\n      <th>...</th>\n      <th>...</th>\n      <td>...</td>\n      <td>...</td>\n      <td>...</td>\n    </tr>\n    <tr>\n      <th rowspan=\"5\" valign=\"top\">WIN_20210417_14_53_12_Pro</th>\n      <th>10</th>\n      <td>1.000000</td>\n      <td>0.000000</td>\n      <td>0.0</td>\n    </tr>\n    <tr>\n      <th>11</th>\n      <td>1.000000</td>\n      <td>0.000000</td>\n      <td>0.0</td>\n    </tr>\n    <tr>\n      <th>12</th>\n      <td>0.636364</td>\n      <td>0.363636</td>\n      <td>0.0</td>\n    </tr>\n    <tr>\n      <th>17</th>\n      <td>0.571429</td>\n      <td>0.428571</td>\n      <td>0.0</td>\n    </tr>\n    <tr>\n      <th>18</th>\n      <td>0.130435</td>\n      <td>0.869565</td>\n      <td>0.0</td>\n    </tr>\n  </tbody>\n</table>\n<p>232 rows × 3 columns</p>\n</div>"
     },
     "metadata": {},
     "execution_count": 26
    }
   ],
   "source": [
    "X"
   ]
  },
  {
   "cell_type": "code",
   "execution_count": 27,
   "metadata": {},
   "outputs": [],
   "source": [
    "from sklearn.linear_model import LogisticRegression\n",
    "from sklearn.neighbors import KNeighborsClassifier\n",
    "from sklearn.ensemble import RandomForestClassifier\n",
    "from sklearn.model_selection import LeaveOneGroupOut\n",
    "from sklearn.decomposition import PCA\n",
    "from sklearn.pipeline import Pipeline\n",
    "\n",
    "pca = PCA()\n",
    "pipe = Pipeline(steps=[('pca', pca), ('logistic', LogisticRegression(multi_class='multinomial', fit_intercept=True, random_state=42))])\n",
    "\n",
    "models_list = [\n",
    "                LogisticRegression(multi_class='multinomial', fit_intercept=True, random_state=42),\n",
    "                Pipeline(steps=[('pca', pca), ('logistic', LogisticRegression(multi_class='multinomial', fit_intercept=True))]),\n",
    "                KNeighborsClassifier(),\n",
    "                Pipeline(steps=[('pca', pca), ('knn', KNeighborsClassifier())]),\n",
    "                RandomForestClassifier(random_state = 42, n_jobs=-1)\n",
    "                ]\n",
    "\n",
    "parameters_list = [\n",
    "                    {'C': [0.01, 0.05, 0.1, 0.5, 1, 2, 3, 4 , 5, 10], 'class_weight' : [None, 'balanced']},\n",
    "                    {'pca__n_components': [1, 2, 3, 4],\n",
    "                        'logistic__C': [0.01, 0.05, 0.1, 0.5, 1, 2, 3, 4 , 5, 10], 'logistic__class_weight' : [None, 'balanced']},\n",
    "                    {'n_neighbors': [4, 5, 6, 7, 8, 9, 10, 11, 12,  15, 20], 'weights' : ['uniform', 'distance'], 'p': [1, 2]},\n",
    "                    {'pca__n_components': [1, 2, 3, 4],\n",
    "                        'knn__n_neighbors': [4, 5, 6, 7, 8, 9, 10, 11, 12,  15, 20], 'knn__weights' : ['uniform', 'distance'],                              'knn__p': [1, 2]},\n",
    "                    {'n_estimators': [50, 100, 150, 200], 'max_depth':[3, 4, 5, 6, 10, 15, 20], 'class_weight':[None,'balanced']}\n",
    "                    ]\n",
    "\n",
    "groups = X.reset_index()['video_name']\n",
    "loo = LeaveOneGroupOut()\n",
    "cv_loo = loo.split(X, y, groups)"
   ]
  },
  {
   "cell_type": "code",
   "execution_count": 28,
   "metadata": {},
   "outputs": [
    {
     "output_type": "stream",
     "name": "stdout",
     "text": [
      "Fitting 29 folds for each of 20 candidates, totalling 580 fits\n",
      "Best estimator LogisticRegression(C=0.5, multi_class='multinomial', random_state=42)\n",
      "Best results 0.4502631946597464\n",
      "Best params {'C': 0.5, 'class_weight': None}\n",
      "accuracy (mean, std) 0.4870689655172414 0.22587193976851558\n",
      "f1 (mean, std) 0.4502631946597464 0.24507700932117496\n",
      "balanced accuracy (mean, std) 0.49332238642583465 0.2023952812941953\n",
      "precision (mean, std) 0.5145371510673235 0.2997916521061077\n",
      "recall (mean, std) 0.4870689655172414 0.22587193976851558\n",
      "\n",
      "Fitting 29 folds for each of 80 candidates, totalling 2320 fits\n",
      "Best estimator Pipeline(steps=[('pca', PCA(n_components=1)),\n",
      "                ('logistic',\n",
      "                 LogisticRegression(C=0.5, multi_class='multinomial'))])\n",
      "Best results 0.45697080697080694\n",
      "Best params {'logistic__C': 0.5, 'logistic__class_weight': None, 'pca__n_components': 1}\n",
      "accuracy (mean, std) 0.5 0.24122532033850383\n",
      "f1 (mean, std) 0.45697080697080694 0.2584963959521343\n",
      "balanced accuracy (mean, std) 0.5034072249589492 0.20976571256856222\n",
      "precision (mean, std) 0.5155839490968801 0.30635925983051704\n",
      "recall (mean, std) 0.5 0.24122532033850383\n",
      "\n",
      "Fitting 29 folds for each of 44 candidates, totalling 1276 fits\n",
      "Best estimator KNeighborsClassifier(n_neighbors=8)\n",
      "Best results 0.4831291792498689\n",
      "Best params {'n_neighbors': 8, 'p': 2, 'weights': 'uniform'}\n",
      "accuracy (mean, std) 0.47844827586206895 0.21791766654766445\n",
      "f1 (mean, std) 0.4831291792498689 0.2248743491875704\n",
      "balanced accuracy (mean, std) 0.4724548440065681 0.24421941651057838\n",
      "precision (mean, std) 0.6080716338259442 0.25852849867401273\n",
      "recall (mean, std) 0.47844827586206895 0.21791766654766445\n",
      "\n",
      "Fitting 29 folds for each of 176 candidates, totalling 5104 fits\n",
      "Best estimator Pipeline(steps=[('pca', PCA(n_components=2)),\n",
      "                ('knn', KNeighborsClassifier(n_neighbors=20, p=1))])\n",
      "Best results 0.47056236388132944\n",
      "Best params {'knn__n_neighbors': 20, 'knn__p': 1, 'knn__weights': 'uniform', 'pca__n_components': 2}\n",
      "accuracy (mean, std) 0.49137931034482757 0.19949028388631265\n",
      "f1 (mean, std) 0.47056236388132944 0.21356793921744407\n",
      "balanced accuracy (mean, std) 0.4920498084291188 0.21282105731876805\n",
      "precision (mean, std) 0.5767703201970443 0.26960925579359424\n",
      "recall (mean, std) 0.49137931034482757 0.19949028388631265\n",
      "\n",
      "Fitting 29 folds for each of 56 candidates, totalling 1624 fits\n",
      "Best estimator RandomForestClassifier(max_depth=20, n_estimators=200, n_jobs=-1,\n",
      "                       random_state=42)\n",
      "Best results 0.4591297112848837\n",
      "Best params {'class_weight': None, 'max_depth': 20, 'n_estimators': 200}\n",
      "accuracy (mean, std) 0.4482758620689655 0.16904027199247912\n",
      "f1 (mean, std) 0.4591297112848837 0.17767817199239566\n",
      "balanced accuracy (mean, std) 0.4480842911877395 0.20660022911484405\n",
      "precision (mean, std) 0.5862889983579639 0.2532410436346311\n",
      "recall (mean, std) 0.4482758620689655 0.16904027199247912\n",
      "\n",
      "f1_score (weighted) 0.45165340847264457\n",
      "accuracy 0.47844827586206895\n"
     ]
    }
   ],
   "source": [
    "best_result_diapo, y_predict_diapo, y_proba, result_list_diapo = runGridSearchClassifiers(X, y, cv_loo, models_list, parameters_list,output_predict=True, n_jobs=-1, verbose=True)"
   ]
  },
  {
   "cell_type": "code",
   "execution_count": 29,
   "metadata": {},
   "outputs": [
    {
     "output_type": "execute_result",
     "data": {
      "text/plain": [
       "{'best_estimator': KNeighborsClassifier(n_neighbors=8),\n",
       " 'best_score': 0.4831291792498689,\n",
       " 'best_params': {'n_neighbors': 8, 'p': 2, 'weights': 'uniform'},\n",
       " 'mean_test_f1_score': 0.4831291792498689,\n",
       " 'std_test_f1_score': 0.2248743491875704,\n",
       " 'mean_test_accuracy_score': 0.47844827586206895,\n",
       " 'std_test_accuracy_score': 0.21791766654766445,\n",
       " 'mean_test_balanced_accuracy_score': 0.4724548440065681,\n",
       " 'std_test_balanced_accuracy_score': 0.24421941651057838,\n",
       " 'mean_test_precision': 0.6080716338259442,\n",
       " 'std_test_precision': 0.25852849867401273,\n",
       " 'mean_test_recall': 0.47844827586206895,\n",
       " 'std_test_recall': 0.21791766654766445}"
      ]
     },
     "metadata": {},
     "execution_count": 29
    }
   ],
   "source": [
    "best_result_diapo"
   ]
  },
  {
   "cell_type": "code",
   "execution_count": 30,
   "metadata": {},
   "outputs": [
    {
     "output_type": "execute_result",
     "data": {
      "text/plain": [
       "array([1., 1., 0., 1., 1., 1., 1., 1., 0., 0., 0., 0., 0., 1., 0., 1., 1.,\n",
       "       1., 0., 1., 0., 1., 1., 1., 0., 1., 0., 0., 0., 1., 0., 1., 1., 0.,\n",
       "       0., 0., 1., 0., 1., 0., 0., 0., 1., 1., 0., 1., 0., 0., 0., 0., 0.,\n",
       "       0., 1., 0., 0., 1., 1., 1., 1., 0., 0., 1., 0., 0., 0., 0., 0., 1.,\n",
       "       1., 0., 0., 0., 0., 0., 0., 0., 0., 1., 1., 1., 0., 0., 1., 0., 0.,\n",
       "       0., 1., 1., 0., 0., 0., 0., 1., 0., 0., 1., 1., 1., 1., 1., 0., 1.,\n",
       "       1., 1., 0., 1., 1., 1., 1., 1., 1., 0., 0., 0., 0., 0., 0., 1., 0.,\n",
       "       0., 0., 0., 0., 0., 0., 0., 0., 0., 0., 0., 1., 1., 1., 0., 0., 1.,\n",
       "       1., 0., 0., 0., 1., 1., 1., 1., 1., 0., 1., 0., 0., 1., 1., 1., 1.,\n",
       "       1., 0., 1., 1., 1., 1., 1., 0., 0., 0., 0., 0., 0., 0., 1., 0., 0.,\n",
       "       0., 0., 0., 1., 0., 0., 1., 0., 1., 1., 1., 0., 0., 1., 1., 0., 1.,\n",
       "       0., 1., 1., 1., 1., 0., 1., 1., 1., 1., 1., 0., 1., 1., 1., 1., 0.,\n",
       "       0., 1., 0., 0., 0., 0., 0., 0., 1., 1., 1., 1., 1., 1., 0., 1., 1.,\n",
       "       0., 1., 1., 0., 0., 0., 0., 0., 1., 0., 1.])"
      ]
     },
     "metadata": {},
     "execution_count": 30
    }
   ],
   "source": [
    "y_predict_diapo\n",
    "##ATTENZIONE NON PREDICE MAI I 2"
   ]
  },
  {
   "source": [
    "## ORA SEMPRE PARTENDO DALLE PEDIZIONI DI  5 SECONDI FACCIO NEL AGGIUNGENDO MINMAX sulle predizioni e predico su diapo"
   ],
   "cell_type": "markdown",
   "metadata": {}
  },
  {
   "cell_type": "code",
   "execution_count": 31,
   "metadata": {},
   "outputs": [
    {
     "output_type": "execute_result",
     "data": {
      "text/plain": [
       "1.0    3342\n",
       "0.0    1624\n",
       "2.0     175\n",
       "Name: ypredict, dtype: int64"
      ]
     },
     "metadata": {},
     "execution_count": 31
    }
   ],
   "source": [
    "predict5s['ypredict'].value_counts()"
   ]
  },
  {
   "cell_type": "code",
   "execution_count": 32,
   "metadata": {},
   "outputs": [],
   "source": [
    "from scipy.stats import kurtosis, skew\n",
    "\n",
    "def percentil25(x): \n",
    "    return np.percentile(x, q=25)\n",
    "\n",
    "def percentil75(x): \n",
    "    return np.percentile(x, q=75)"
   ]
  },
  {
   "cell_type": "code",
   "execution_count": 33,
   "metadata": {},
   "outputs": [],
   "source": [
    "# Autre méthode\n",
    "X_diapo_minmax = predict5s.groupby(['video_name','diapo']).agg({'ypredict':['mean','min','max', 'median', 'std', percentil25, percentil75, kurtosis, skew]})"
   ]
  },
  {
   "cell_type": "code",
   "execution_count": 34,
   "metadata": {},
   "outputs": [
    {
     "output_type": "execute_result",
     "data": {
      "text/plain": [
       "                                 ypredict                             \\\n",
       "                                     mean  min  max median       std   \n",
       "video_name                diapo                                        \n",
       "Test_pour_AFPA            1      0.676471  0.0  1.0    1.0  0.474858   \n",
       "                          8      0.400000  0.0  1.0    0.0  0.516398   \n",
       "                          9      0.450000  0.0  1.0    0.0  0.510418   \n",
       "                          10     0.600000  0.0  1.0    1.0  0.507093   \n",
       "                          11     0.500000  0.0  1.0    0.5  0.512989   \n",
       "...                                   ...  ...  ...    ...       ...   \n",
       "WIN_20210417_14_53_12_Pro 10     0.000000  0.0  0.0    0.0  0.000000   \n",
       "                          11     0.000000  0.0  0.0    0.0  0.000000   \n",
       "                          12     0.363636  0.0  1.0    0.0  0.488504   \n",
       "                          17     0.428571  0.0  1.0    0.0  0.534522   \n",
       "                          18     0.869565  0.0  1.0    1.0  0.344350   \n",
       "\n",
       "                                                                             \n",
       "                                percentil25 percentil75  kurtosis      skew  \n",
       "video_name                diapo                                              \n",
       "Test_pour_AFPA            1             0.0         1.0 -1.430830 -0.754434  \n",
       "                          8             0.0         1.0 -1.833333  0.408248  \n",
       "                          9             0.0         1.0 -1.959596  0.201008  \n",
       "                          10            0.0         1.0 -1.833333 -0.408248  \n",
       "                          11            0.0         1.0 -2.000000  0.000000  \n",
       "...                                     ...         ...       ...       ...  \n",
       "WIN_20210417_14_53_12_Pro 10            0.0         0.0 -3.000000  0.000000  \n",
       "                          11            0.0         0.0 -3.000000  0.000000  \n",
       "                          12            0.0         1.0 -1.678571  0.566947  \n",
       "                          17            0.0         1.0 -1.916667  0.288675  \n",
       "                          18            1.0         1.0  2.816667 -2.194691  \n",
       "\n",
       "[232 rows x 9 columns]"
      ],
      "text/html": "<div>\n<style scoped>\n    .dataframe tbody tr th:only-of-type {\n        vertical-align: middle;\n    }\n\n    .dataframe tbody tr th {\n        vertical-align: top;\n    }\n\n    .dataframe thead tr th {\n        text-align: left;\n    }\n\n    .dataframe thead tr:last-of-type th {\n        text-align: right;\n    }\n</style>\n<table border=\"1\" class=\"dataframe\">\n  <thead>\n    <tr>\n      <th></th>\n      <th></th>\n      <th colspan=\"9\" halign=\"left\">ypredict</th>\n    </tr>\n    <tr>\n      <th></th>\n      <th></th>\n      <th>mean</th>\n      <th>min</th>\n      <th>max</th>\n      <th>median</th>\n      <th>std</th>\n      <th>percentil25</th>\n      <th>percentil75</th>\n      <th>kurtosis</th>\n      <th>skew</th>\n    </tr>\n    <tr>\n      <th>video_name</th>\n      <th>diapo</th>\n      <th></th>\n      <th></th>\n      <th></th>\n      <th></th>\n      <th></th>\n      <th></th>\n      <th></th>\n      <th></th>\n      <th></th>\n    </tr>\n  </thead>\n  <tbody>\n    <tr>\n      <th rowspan=\"5\" valign=\"top\">Test_pour_AFPA</th>\n      <th>1</th>\n      <td>0.676471</td>\n      <td>0.0</td>\n      <td>1.0</td>\n      <td>1.0</td>\n      <td>0.474858</td>\n      <td>0.0</td>\n      <td>1.0</td>\n      <td>-1.430830</td>\n      <td>-0.754434</td>\n    </tr>\n    <tr>\n      <th>8</th>\n      <td>0.400000</td>\n      <td>0.0</td>\n      <td>1.0</td>\n      <td>0.0</td>\n      <td>0.516398</td>\n      <td>0.0</td>\n      <td>1.0</td>\n      <td>-1.833333</td>\n      <td>0.408248</td>\n    </tr>\n    <tr>\n      <th>9</th>\n      <td>0.450000</td>\n      <td>0.0</td>\n      <td>1.0</td>\n      <td>0.0</td>\n      <td>0.510418</td>\n      <td>0.0</td>\n      <td>1.0</td>\n      <td>-1.959596</td>\n      <td>0.201008</td>\n    </tr>\n    <tr>\n      <th>10</th>\n      <td>0.600000</td>\n      <td>0.0</td>\n      <td>1.0</td>\n      <td>1.0</td>\n      <td>0.507093</td>\n      <td>0.0</td>\n      <td>1.0</td>\n      <td>-1.833333</td>\n      <td>-0.408248</td>\n    </tr>\n    <tr>\n      <th>11</th>\n      <td>0.500000</td>\n      <td>0.0</td>\n      <td>1.0</td>\n      <td>0.5</td>\n      <td>0.512989</td>\n      <td>0.0</td>\n      <td>1.0</td>\n      <td>-2.000000</td>\n      <td>0.000000</td>\n    </tr>\n    <tr>\n      <th>...</th>\n      <th>...</th>\n      <td>...</td>\n      <td>...</td>\n      <td>...</td>\n      <td>...</td>\n      <td>...</td>\n      <td>...</td>\n      <td>...</td>\n      <td>...</td>\n      <td>...</td>\n    </tr>\n    <tr>\n      <th rowspan=\"5\" valign=\"top\">WIN_20210417_14_53_12_Pro</th>\n      <th>10</th>\n      <td>0.000000</td>\n      <td>0.0</td>\n      <td>0.0</td>\n      <td>0.0</td>\n      <td>0.000000</td>\n      <td>0.0</td>\n      <td>0.0</td>\n      <td>-3.000000</td>\n      <td>0.000000</td>\n    </tr>\n    <tr>\n      <th>11</th>\n      <td>0.000000</td>\n      <td>0.0</td>\n      <td>0.0</td>\n      <td>0.0</td>\n      <td>0.000000</td>\n      <td>0.0</td>\n      <td>0.0</td>\n      <td>-3.000000</td>\n      <td>0.000000</td>\n    </tr>\n    <tr>\n      <th>12</th>\n      <td>0.363636</td>\n      <td>0.0</td>\n      <td>1.0</td>\n      <td>0.0</td>\n      <td>0.488504</td>\n      <td>0.0</td>\n      <td>1.0</td>\n      <td>-1.678571</td>\n      <td>0.566947</td>\n    </tr>\n    <tr>\n      <th>17</th>\n      <td>0.428571</td>\n      <td>0.0</td>\n      <td>1.0</td>\n      <td>0.0</td>\n      <td>0.534522</td>\n      <td>0.0</td>\n      <td>1.0</td>\n      <td>-1.916667</td>\n      <td>0.288675</td>\n    </tr>\n    <tr>\n      <th>18</th>\n      <td>0.869565</td>\n      <td>0.0</td>\n      <td>1.0</td>\n      <td>1.0</td>\n      <td>0.344350</td>\n      <td>1.0</td>\n      <td>1.0</td>\n      <td>2.816667</td>\n      <td>-2.194691</td>\n    </tr>\n  </tbody>\n</table>\n<p>232 rows × 9 columns</p>\n</div>"
     },
     "metadata": {},
     "execution_count": 34
    }
   ],
   "source": [
    "X_diapo_minmax"
   ]
  },
  {
   "cell_type": "code",
   "execution_count": 35,
   "metadata": {},
   "outputs": [
    {
     "output_type": "execute_result",
     "data": {
      "text/plain": [
       "0      1.0\n",
       "1      1.0\n",
       "2      0.0\n",
       "3      0.0\n",
       "4      0.0\n",
       "      ... \n",
       "227    0.0\n",
       "228    0.0\n",
       "229    0.0\n",
       "230    1.0\n",
       "231    1.0\n",
       "Name: stress, Length: 232, dtype: float64"
      ]
     },
     "metadata": {},
     "execution_count": 35
    }
   ],
   "source": [
    "#questo e' lo stress vero per diapositiva\n",
    "y"
   ]
  },
  {
   "cell_type": "code",
   "execution_count": 36,
   "metadata": {},
   "outputs": [],
   "source": [
    "from sklearn.linear_model import LogisticRegression\n",
    "from sklearn.neighbors import KNeighborsClassifier\n",
    "from sklearn.ensemble import RandomForestClassifier\n",
    "from sklearn.model_selection import LeaveOneGroupOut\n",
    "from sklearn.decomposition import PCA\n",
    "from sklearn.pipeline import Pipeline\n",
    "\n",
    "pca = PCA()\n",
    "pipe = Pipeline(steps=[('pca', pca), ('logistic', LogisticRegression(multi_class='multinomial', fit_intercept=True, random_state=42))])\n",
    "\n",
    "models_list = [\n",
    "                LogisticRegression(multi_class='multinomial', fit_intercept=True, random_state=42),\n",
    "                Pipeline(steps=[('pca', pca), ('logistic', LogisticRegression(multi_class='multinomial', fit_intercept=True))]),\n",
    "                KNeighborsClassifier(),\n",
    "                Pipeline(steps=[('pca', pca), ('knn', KNeighborsClassifier())]),\n",
    "                RandomForestClassifier(random_state = 42, n_jobs=-1)\n",
    "                ]\n",
    "\n",
    "parameters_list = [\n",
    "                    {'C': [0.01, 0.05, 0.1, 0.5, 1, 2, 3, 4 , 5, 10], 'class_weight' : [None, 'balanced']},\n",
    "                    {'pca__n_components': [1, 2, 3, 4],\n",
    "                        'logistic__C': [0.01, 0.05, 0.1, 0.5, 1, 2, 3, 4 , 5, 10], 'logistic__class_weight' : [None, 'balanced']},\n",
    "                    {'n_neighbors': [4, 5, 6, 7, 8, 9, 10, 11, 12,  15, 20], 'weights' : ['uniform', 'distance'], 'p': [1, 2]},\n",
    "                    {'pca__n_components': [1, 2, 3, 4],\n",
    "                        'knn__n_neighbors': [4, 5, 6, 7, 8, 9, 10, 11, 12,  15, 20], 'knn__weights' : ['uniform', 'distance'],                              'knn__p': [1, 2]},\n",
    "                    {'n_estimators': [50, 100, 150, 200], 'max_depth':[3, 4, 5, 6, 10, 15, 20], 'class_weight':[None,'balanced']}\n",
    "                    ]\n",
    "\n",
    "groups = X_diapo_minmax.reset_index()['video_name']\n",
    "loo = LeaveOneGroupOut()\n",
    "cv_loo = loo.split(X_diapo_minmax, y, groups)"
   ]
  },
  {
   "cell_type": "code",
   "execution_count": 37,
   "metadata": {},
   "outputs": [
    {
     "output_type": "stream",
     "name": "stdout",
     "text": [
      "Fitting 29 folds for each of 20 candidates, totalling 580 fits\n",
      "Best estimator LogisticRegression(C=0.1, multi_class='multinomial', random_state=42)\n",
      "Best results 0.460538336184888\n",
      "Best params {'C': 0.1, 'class_weight': None}\n",
      "accuracy (mean, std) 0.4698275862068966 0.2492557292207062\n",
      "f1 (mean, std) 0.460538336184888 0.26098815856442026\n",
      "balanced accuracy (mean, std) 0.47452107279693484 0.2488807880828225\n",
      "precision (mean, std) 0.5378694581280787 0.28830002124914145\n",
      "recall (mean, std) 0.4698275862068966 0.2492557292207062\n",
      "\n",
      "Fitting 29 folds for each of 80 candidates, totalling 2320 fits\n",
      "Best estimator Pipeline(steps=[('pca', PCA(n_components=4)),\n",
      "                ('logistic',\n",
      "                 LogisticRegression(C=0.05, multi_class='multinomial'))])\n",
      "Best results 0.4735252774045878\n",
      "Best params {'logistic__C': 0.05, 'logistic__class_weight': None, 'pca__n_components': 4}\n",
      "accuracy (mean, std) 0.4827586206896552 0.2701455106205586\n",
      "f1 (mean, std) 0.4735252774045878 0.2847086205298866\n",
      "balanced accuracy (mean, std) 0.4920498084291188 0.2586399712768332\n",
      "precision (mean, std) 0.5498306650246305 0.313324014088335\n",
      "recall (mean, std) 0.4827586206896552 0.2701455106205586\n",
      "\n",
      "Fitting 29 folds for each of 44 candidates, totalling 1276 fits\n",
      "Best estimator KNeighborsClassifier(n_neighbors=4)\n",
      "Best results 0.47925718917098226\n",
      "Best params {'n_neighbors': 4, 'p': 2, 'weights': 'uniform'}\n",
      "accuracy (mean, std) 0.47844827586206895 0.19439607385827037\n",
      "f1 (mean, std) 0.47925718917098226 0.22282164658396914\n",
      "balanced accuracy (mean, std) 0.48184181718664476 0.2190125061884933\n",
      "precision (mean, std) 0.5586463464696223 0.28182735184218166\n",
      "recall (mean, std) 0.47844827586206895 0.19439607385827037\n",
      "\n",
      "Fitting 29 folds for each of 176 candidates, totalling 5104 fits\n",
      "Best estimator Pipeline(steps=[('pca', PCA(n_components=3)),\n",
      "                ('knn', KNeighborsClassifier(n_neighbors=4))])\n",
      "Best results 0.5317966516242378\n",
      "Best params {'knn__n_neighbors': 4, 'knn__p': 2, 'knn__weights': 'uniform', 'pca__n_components': 3}\n",
      "accuracy (mean, std) 0.5258620689655172 0.23299796123688932\n",
      "f1 (mean, std) 0.5317966516242378 0.24849485505039412\n",
      "balanced accuracy (mean, std) 0.5079091406677614 0.25100033424274154\n",
      "precision (mean, std) 0.6084000410509032 0.2725007809854947\n",
      "recall (mean, std) 0.5258620689655172 0.23299796123688932\n",
      "\n",
      "Fitting 29 folds for each of 56 candidates, totalling 1624 fits\n",
      "Best estimator RandomForestClassifier(max_depth=20, n_estimators=200, n_jobs=-1,\n",
      "                       random_state=42)\n",
      "Best results 0.4555868939489629\n",
      "Best params {'class_weight': None, 'max_depth': 20, 'n_estimators': 200}\n",
      "accuracy (mean, std) 0.4396551724137931 0.19033967384327258\n",
      "f1 (mean, std) 0.4555868939489629 0.20937734005558198\n",
      "balanced accuracy (mean, std) 0.40982484948002196 0.21332157707668412\n",
      "precision (mean, std) 0.5471110426929392 0.27485930556996496\n",
      "recall (mean, std) 0.4396551724137931 0.19033967384327258\n",
      "\n",
      "f1_score (weighted) 0.4952236517963126\n",
      "accuracy 0.5258620689655172\n"
     ]
    }
   ],
   "source": [
    "best_result_diapo_minmax, y_predict_diapo_minmax, y_proba, result_list_diapo = runGridSearchClassifiers(X_diapo_minmax, y, cv_loo, models_list, parameters_list,output_predict=True, n_jobs=-1, verbose=True)"
   ]
  },
  {
   "cell_type": "code",
   "execution_count": 38,
   "metadata": {},
   "outputs": [
    {
     "output_type": "execute_result",
     "data": {
      "text/plain": [
       "{'best_estimator': Pipeline(steps=[('pca', PCA(n_components=3)),\n",
       "                 ('knn', KNeighborsClassifier(n_neighbors=4))]),\n",
       " 'best_score': 0.5317966516242378,\n",
       " 'best_params': {'knn__n_neighbors': 4,\n",
       "  'knn__p': 2,\n",
       "  'knn__weights': 'uniform',\n",
       "  'pca__n_components': 3},\n",
       " 'mean_test_f1_score': 0.5317966516242378,\n",
       " 'std_test_f1_score': 0.24849485505039412,\n",
       " 'mean_test_accuracy_score': 0.5258620689655172,\n",
       " 'std_test_accuracy_score': 0.23299796123688932,\n",
       " 'mean_test_balanced_accuracy_score': 0.5079091406677614,\n",
       " 'std_test_balanced_accuracy_score': 0.25100033424274154,\n",
       " 'mean_test_precision': 0.6084000410509032,\n",
       " 'std_test_precision': 0.2725007809854947,\n",
       " 'mean_test_recall': 0.5258620689655172,\n",
       " 'std_test_recall': 0.23299796123688932}"
      ]
     },
     "metadata": {},
     "execution_count": 38
    }
   ],
   "source": [
    "best_result_diapo_minmax"
   ]
  },
  {
   "cell_type": "code",
   "execution_count": 39,
   "metadata": {},
   "outputs": [
    {
     "output_type": "execute_result",
     "data": {
      "text/plain": [
       "array([0., 1., 1., 0., 1., 1., 0., 1., 0., 0., 0., 0., 0., 1., 0., 0., 1.,\n",
       "       0., 1., 1., 0., 1., 0., 1., 0., 0., 0., 0., 0., 1., 0., 1., 1., 0.,\n",
       "       0., 1., 0., 0., 0., 0., 0., 0., 1., 1., 0., 1., 0., 1., 1., 0., 0.,\n",
       "       0., 2., 0., 0., 1., 1., 1., 1., 1., 0., 1., 0., 0., 0., 1., 1., 1.,\n",
       "       1., 1., 0., 0., 0., 0., 2., 0., 0., 0., 1., 1., 0., 0., 1., 0., 0.,\n",
       "       1., 0., 1., 0., 0., 0., 0., 1., 0., 0., 1., 1., 0., 1., 1., 0., 1.,\n",
       "       0., 1., 0., 0., 1., 1., 0., 2., 0., 0., 0., 0., 0., 1., 0., 0., 1.,\n",
       "       0., 0., 0., 0., 0., 0., 0., 0., 0., 1., 0., 0., 1., 0., 0., 0., 1.,\n",
       "       0., 0., 0., 1., 0., 0., 0., 1., 0., 0., 0., 0., 2., 1., 0., 0., 1.,\n",
       "       1., 0., 1., 0., 0., 0., 0., 0., 0., 0., 0., 1., 0., 0., 0., 0., 0.,\n",
       "       0., 1., 0., 0., 0., 0., 1., 1., 0., 1., 0., 0., 0., 2., 1., 0., 1.,\n",
       "       0., 0., 0., 1., 1., 0., 0., 0., 0., 1., 1., 0., 1., 1., 0., 0., 0.,\n",
       "       0., 1., 0., 1., 0., 1., 0., 0., 1., 0., 0., 1., 1., 1., 1., 1., 0.,\n",
       "       1., 1., 1., 0., 0., 0., 0., 0., 0., 0., 1.])"
      ]
     },
     "metadata": {},
     "execution_count": 39
    }
   ],
   "source": [
    "#è meglio arriva a predire i 2\n",
    "y_predict_diapo_minmax"
   ]
  },
  {
   "cell_type": "code",
   "execution_count": 40,
   "metadata": {},
   "outputs": [],
   "source": [
    "# Saving predictions\n",
    "df_diapo_minmax = pd.concat([X_diapo_minmax.reset_index()[['video_name','diapo']],\n",
    "                        pd.DataFrame(y_predict_diapo_minmax, columns=['ypredict'])],axis=1)\n",
    "\n",
    "df_diapo_minmax.columns = ['video_name', 'diapo', 'ypredict']\n",
    "df_diapo_minmax\n",
    "df_diapo_minmax.to_csv('all_features_tw5_diapo_minmax.csv')"
   ]
  },
  {
   "cell_type": "code",
   "execution_count": 41,
   "metadata": {},
   "outputs": [],
   "source": [
    "df_diapo_minmax = pd.read_csv('all_features_tw5_diapo_minmax.csv')"
   ]
  },
  {
   "source": [
    "## GLOBAL STRESS, UTILIZZANDO LE PREDIZIONI DI DIAPO MINMAX"
   ],
   "cell_type": "markdown",
   "metadata": {}
  },
  {
   "cell_type": "code",
   "execution_count": 42,
   "metadata": {},
   "outputs": [
    {
     "output_type": "execute_result",
     "data": {
      "text/plain": [
       "diapo                             1    8    9    10   11   12   17   18\n",
       "video_name                                                             \n",
       "Test_pour_AFPA                   0.0  1.0  1.0  0.0  1.0  1.0  0.0  1.0\n",
       "Video_1                          0.0  0.0  0.0  0.0  0.0  1.0  0.0  0.0\n",
       "WIN_20210323_19_17_40_Pro        1.0  0.0  1.0  1.0  0.0  1.0  0.0  1.0\n",
       "WIN_20210329_10_16_02_Pro        0.0  0.0  0.0  0.0  0.0  1.0  0.0  1.0\n",
       "WIN_20210330_13_10_29_Pro        1.0  0.0  0.0  1.0  0.0  0.0  0.0  0.0\n",
       "WIN_20210331_21_22_52_Pro        0.0  0.0  1.0  1.0  0.0  1.0  0.0  1.0\n",
       "WIN_20210402_19_04_53_Pro        1.0  0.0  0.0  0.0  2.0  0.0  0.0  1.0\n",
       "WIN_20210403_18_49_15_Pro        1.0  1.0  1.0  1.0  0.0  1.0  0.0  0.0\n",
       "WIN_20210404_10_58_27_Pro        0.0  1.0  1.0  1.0  1.0  1.0  0.0  0.0\n",
       "WIN_20210404_21_41_12_Pro        0.0  0.0  2.0  0.0  0.0  0.0  1.0  1.0\n",
       "WIN_20210405_15_09_16_Pro        0.0  0.0  1.0  0.0  0.0  1.0  0.0  1.0\n",
       "WIN_20210406_15_06_15_Pro        0.0  0.0  0.0  0.0  1.0  0.0  0.0  1.0\n",
       "WIN_20210406_18_35_52_Pro        1.0  0.0  1.0  1.0  0.0  1.0  0.0  1.0\n",
       "WIN_20210406_18_49_10_Pro        0.0  0.0  1.0  1.0  0.0  2.0  0.0  0.0\n",
       "WIN_20210406_21_05_52_Pro        0.0  0.0  0.0  1.0  0.0  0.0  1.0  0.0\n",
       "WIN_20210407_09_04_05_Pro        0.0  0.0  0.0  0.0  0.0  0.0  0.0  0.0\n",
       "WIN_20210407_14_54_56_Pro_edit2  1.0  0.0  0.0  1.0  0.0  0.0  0.0  1.0\n",
       "WIN_20210408_11_48_58_Pro        0.0  0.0  0.0  1.0  0.0  0.0  0.0  1.0\n",
       "WIN_20210408_14_00_44_Pro        0.0  0.0  0.0  0.0  2.0  1.0  0.0  0.0\n",
       "WIN_20210408_14_02_19_Pro        1.0  1.0  0.0  1.0  0.0  0.0  0.0  0.0\n",
       "WIN_20210408_14_11_32_Pro        0.0  0.0  0.0  0.0  1.0  0.0  0.0  0.0\n",
       "WIN_20210408_15_20_51_Pro        0.0  0.0  0.0  1.0  0.0  0.0  0.0  0.0\n",
       "WIN_20210408_16_04_32_Pro        1.0  1.0  0.0  1.0  0.0  0.0  0.0  2.0\n",
       "WIN_20210409_10_26_11_Pro        1.0  0.0  1.0  0.0  0.0  0.0  1.0  1.0\n",
       "WIN_20210413_15_38_01_Pro        0.0  0.0  0.0  0.0  1.0  1.0  0.0  1.0\n",
       "WIN_20210414_06_24_52_Pro        1.0  0.0  0.0  0.0  0.0  1.0  0.0  1.0\n",
       "WIN_20210415_15_41_24_Pro        0.0  1.0  0.0  0.0  1.0  0.0  0.0  1.0\n",
       "WIN_20210416_08_06_54_Pro        1.0  1.0  1.0  1.0  0.0  1.0  1.0  1.0\n",
       "WIN_20210417_14_53_12_Pro        0.0  0.0  0.0  0.0  0.0  0.0  0.0  1.0"
      ],
      "text/html": "<div>\n<style scoped>\n    .dataframe tbody tr th:only-of-type {\n        vertical-align: middle;\n    }\n\n    .dataframe tbody tr th {\n        vertical-align: top;\n    }\n\n    .dataframe thead th {\n        text-align: right;\n    }\n</style>\n<table border=\"1\" class=\"dataframe\">\n  <thead>\n    <tr style=\"text-align: right;\">\n      <th>diapo</th>\n      <th>1</th>\n      <th>8</th>\n      <th>9</th>\n      <th>10</th>\n      <th>11</th>\n      <th>12</th>\n      <th>17</th>\n      <th>18</th>\n    </tr>\n    <tr>\n      <th>video_name</th>\n      <th></th>\n      <th></th>\n      <th></th>\n      <th></th>\n      <th></th>\n      <th></th>\n      <th></th>\n      <th></th>\n    </tr>\n  </thead>\n  <tbody>\n    <tr>\n      <th>Test_pour_AFPA</th>\n      <td>0.0</td>\n      <td>1.0</td>\n      <td>1.0</td>\n      <td>0.0</td>\n      <td>1.0</td>\n      <td>1.0</td>\n      <td>0.0</td>\n      <td>1.0</td>\n    </tr>\n    <tr>\n      <th>Video_1</th>\n      <td>0.0</td>\n      <td>0.0</td>\n      <td>0.0</td>\n      <td>0.0</td>\n      <td>0.0</td>\n      <td>1.0</td>\n      <td>0.0</td>\n      <td>0.0</td>\n    </tr>\n    <tr>\n      <th>WIN_20210323_19_17_40_Pro</th>\n      <td>1.0</td>\n      <td>0.0</td>\n      <td>1.0</td>\n      <td>1.0</td>\n      <td>0.0</td>\n      <td>1.0</td>\n      <td>0.0</td>\n      <td>1.0</td>\n    </tr>\n    <tr>\n      <th>WIN_20210329_10_16_02_Pro</th>\n      <td>0.0</td>\n      <td>0.0</td>\n      <td>0.0</td>\n      <td>0.0</td>\n      <td>0.0</td>\n      <td>1.0</td>\n      <td>0.0</td>\n      <td>1.0</td>\n    </tr>\n    <tr>\n      <th>WIN_20210330_13_10_29_Pro</th>\n      <td>1.0</td>\n      <td>0.0</td>\n      <td>0.0</td>\n      <td>1.0</td>\n      <td>0.0</td>\n      <td>0.0</td>\n      <td>0.0</td>\n      <td>0.0</td>\n    </tr>\n    <tr>\n      <th>WIN_20210331_21_22_52_Pro</th>\n      <td>0.0</td>\n      <td>0.0</td>\n      <td>1.0</td>\n      <td>1.0</td>\n      <td>0.0</td>\n      <td>1.0</td>\n      <td>0.0</td>\n      <td>1.0</td>\n    </tr>\n    <tr>\n      <th>WIN_20210402_19_04_53_Pro</th>\n      <td>1.0</td>\n      <td>0.0</td>\n      <td>0.0</td>\n      <td>0.0</td>\n      <td>2.0</td>\n      <td>0.0</td>\n      <td>0.0</td>\n      <td>1.0</td>\n    </tr>\n    <tr>\n      <th>WIN_20210403_18_49_15_Pro</th>\n      <td>1.0</td>\n      <td>1.0</td>\n      <td>1.0</td>\n      <td>1.0</td>\n      <td>0.0</td>\n      <td>1.0</td>\n      <td>0.0</td>\n      <td>0.0</td>\n    </tr>\n    <tr>\n      <th>WIN_20210404_10_58_27_Pro</th>\n      <td>0.0</td>\n      <td>1.0</td>\n      <td>1.0</td>\n      <td>1.0</td>\n      <td>1.0</td>\n      <td>1.0</td>\n      <td>0.0</td>\n      <td>0.0</td>\n    </tr>\n    <tr>\n      <th>WIN_20210404_21_41_12_Pro</th>\n      <td>0.0</td>\n      <td>0.0</td>\n      <td>2.0</td>\n      <td>0.0</td>\n      <td>0.0</td>\n      <td>0.0</td>\n      <td>1.0</td>\n      <td>1.0</td>\n    </tr>\n    <tr>\n      <th>WIN_20210405_15_09_16_Pro</th>\n      <td>0.0</td>\n      <td>0.0</td>\n      <td>1.0</td>\n      <td>0.0</td>\n      <td>0.0</td>\n      <td>1.0</td>\n      <td>0.0</td>\n      <td>1.0</td>\n    </tr>\n    <tr>\n      <th>WIN_20210406_15_06_15_Pro</th>\n      <td>0.0</td>\n      <td>0.0</td>\n      <td>0.0</td>\n      <td>0.0</td>\n      <td>1.0</td>\n      <td>0.0</td>\n      <td>0.0</td>\n      <td>1.0</td>\n    </tr>\n    <tr>\n      <th>WIN_20210406_18_35_52_Pro</th>\n      <td>1.0</td>\n      <td>0.0</td>\n      <td>1.0</td>\n      <td>1.0</td>\n      <td>0.0</td>\n      <td>1.0</td>\n      <td>0.0</td>\n      <td>1.0</td>\n    </tr>\n    <tr>\n      <th>WIN_20210406_18_49_10_Pro</th>\n      <td>0.0</td>\n      <td>0.0</td>\n      <td>1.0</td>\n      <td>1.0</td>\n      <td>0.0</td>\n      <td>2.0</td>\n      <td>0.0</td>\n      <td>0.0</td>\n    </tr>\n    <tr>\n      <th>WIN_20210406_21_05_52_Pro</th>\n      <td>0.0</td>\n      <td>0.0</td>\n      <td>0.0</td>\n      <td>1.0</td>\n      <td>0.0</td>\n      <td>0.0</td>\n      <td>1.0</td>\n      <td>0.0</td>\n    </tr>\n    <tr>\n      <th>WIN_20210407_09_04_05_Pro</th>\n      <td>0.0</td>\n      <td>0.0</td>\n      <td>0.0</td>\n      <td>0.0</td>\n      <td>0.0</td>\n      <td>0.0</td>\n      <td>0.0</td>\n      <td>0.0</td>\n    </tr>\n    <tr>\n      <th>WIN_20210407_14_54_56_Pro_edit2</th>\n      <td>1.0</td>\n      <td>0.0</td>\n      <td>0.0</td>\n      <td>1.0</td>\n      <td>0.0</td>\n      <td>0.0</td>\n      <td>0.0</td>\n      <td>1.0</td>\n    </tr>\n    <tr>\n      <th>WIN_20210408_11_48_58_Pro</th>\n      <td>0.0</td>\n      <td>0.0</td>\n      <td>0.0</td>\n      <td>1.0</td>\n      <td>0.0</td>\n      <td>0.0</td>\n      <td>0.0</td>\n      <td>1.0</td>\n    </tr>\n    <tr>\n      <th>WIN_20210408_14_00_44_Pro</th>\n      <td>0.0</td>\n      <td>0.0</td>\n      <td>0.0</td>\n      <td>0.0</td>\n      <td>2.0</td>\n      <td>1.0</td>\n      <td>0.0</td>\n      <td>0.0</td>\n    </tr>\n    <tr>\n      <th>WIN_20210408_14_02_19_Pro</th>\n      <td>1.0</td>\n      <td>1.0</td>\n      <td>0.0</td>\n      <td>1.0</td>\n      <td>0.0</td>\n      <td>0.0</td>\n      <td>0.0</td>\n      <td>0.0</td>\n    </tr>\n    <tr>\n      <th>WIN_20210408_14_11_32_Pro</th>\n      <td>0.0</td>\n      <td>0.0</td>\n      <td>0.0</td>\n      <td>0.0</td>\n      <td>1.0</td>\n      <td>0.0</td>\n      <td>0.0</td>\n      <td>0.0</td>\n    </tr>\n    <tr>\n      <th>WIN_20210408_15_20_51_Pro</th>\n      <td>0.0</td>\n      <td>0.0</td>\n      <td>0.0</td>\n      <td>1.0</td>\n      <td>0.0</td>\n      <td>0.0</td>\n      <td>0.0</td>\n      <td>0.0</td>\n    </tr>\n    <tr>\n      <th>WIN_20210408_16_04_32_Pro</th>\n      <td>1.0</td>\n      <td>1.0</td>\n      <td>0.0</td>\n      <td>1.0</td>\n      <td>0.0</td>\n      <td>0.0</td>\n      <td>0.0</td>\n      <td>2.0</td>\n    </tr>\n    <tr>\n      <th>WIN_20210409_10_26_11_Pro</th>\n      <td>1.0</td>\n      <td>0.0</td>\n      <td>1.0</td>\n      <td>0.0</td>\n      <td>0.0</td>\n      <td>0.0</td>\n      <td>1.0</td>\n      <td>1.0</td>\n    </tr>\n    <tr>\n      <th>WIN_20210413_15_38_01_Pro</th>\n      <td>0.0</td>\n      <td>0.0</td>\n      <td>0.0</td>\n      <td>0.0</td>\n      <td>1.0</td>\n      <td>1.0</td>\n      <td>0.0</td>\n      <td>1.0</td>\n    </tr>\n    <tr>\n      <th>WIN_20210414_06_24_52_Pro</th>\n      <td>1.0</td>\n      <td>0.0</td>\n      <td>0.0</td>\n      <td>0.0</td>\n      <td>0.0</td>\n      <td>1.0</td>\n      <td>0.0</td>\n      <td>1.0</td>\n    </tr>\n    <tr>\n      <th>WIN_20210415_15_41_24_Pro</th>\n      <td>0.0</td>\n      <td>1.0</td>\n      <td>0.0</td>\n      <td>0.0</td>\n      <td>1.0</td>\n      <td>0.0</td>\n      <td>0.0</td>\n      <td>1.0</td>\n    </tr>\n    <tr>\n      <th>WIN_20210416_08_06_54_Pro</th>\n      <td>1.0</td>\n      <td>1.0</td>\n      <td>1.0</td>\n      <td>1.0</td>\n      <td>0.0</td>\n      <td>1.0</td>\n      <td>1.0</td>\n      <td>1.0</td>\n    </tr>\n    <tr>\n      <th>WIN_20210417_14_53_12_Pro</th>\n      <td>0.0</td>\n      <td>0.0</td>\n      <td>0.0</td>\n      <td>0.0</td>\n      <td>0.0</td>\n      <td>0.0</td>\n      <td>0.0</td>\n      <td>1.0</td>\n    </tr>\n  </tbody>\n</table>\n</div>"
     },
     "metadata": {},
     "execution_count": 42
    }
   ],
   "source": [
    "stress_diapo_by_video = df_diapo_minmax.pivot_table(values='ypredict', columns='diapo',index='video_name',aggfunc='mean')\n",
    "stress_diapo_by_video"
   ]
  },
  {
   "cell_type": "code",
   "execution_count": 43,
   "metadata": {},
   "outputs": [
    {
     "output_type": "execute_result",
     "data": {
      "text/plain": [
       "                                   1    8    9   10   11   12   17   18  \\\n",
       "video_name                                                                \n",
       "Test_pour_AFPA                   1.0  1.0  0.0  0.0  0.0  1.0  0.0  1.0   \n",
       "Video_1                          0.0  0.0  0.0  0.0  1.0  1.0  1.0  1.0   \n",
       "WIN_20210323_19_17_40_Pro        1.0  0.0  1.0  1.0  1.0  1.0  1.0  1.0   \n",
       "WIN_20210329_10_16_02_Pro        0.0  0.0  1.0  1.0  0.0  1.0  0.0  0.0   \n",
       "WIN_20210330_13_10_29_Pro        0.0  0.0  0.0  0.0  1.0  0.0  0.0  0.0   \n",
       "WIN_20210331_21_22_52_Pro        0.0  0.0  1.0  1.0  1.0  1.0  0.0  0.0   \n",
       "WIN_20210402_14_27_50_Pro        1.0  1.0  1.0  2.0  1.0  1.0  1.0  1.0   \n",
       "WIN_20210402_19_04_53_Pro        2.0  1.0  1.0  1.0  1.0  2.0  1.0  2.0   \n",
       "WIN_20210403_18_49_15_Pro        1.0  1.0  1.0  1.0  1.0  2.0  2.0  1.0   \n",
       "WIN_20210404_10_58_27_Pro        0.0  1.0  1.0  1.0  1.0  1.0  1.0  1.0   \n",
       "WIN_20210404_21_41_12_Pro        0.0  0.0  1.0  0.0  0.0  1.0  0.0  1.0   \n",
       "WIN_20210405_15_09_16_Pro        0.0  1.0  1.0  1.0  1.0  0.0  0.0  1.0   \n",
       "WIN_20210406_15_06_15_Pro        1.0  1.0  1.0  1.0  1.0  2.0  1.0  2.0   \n",
       "WIN_20210406_18_35_52_Pro        0.0  0.0  1.0  0.0  0.0  1.0  0.0  1.0   \n",
       "WIN_20210406_18_49_10_Pro        1.0  0.0  1.0  1.0  1.0  1.0  1.0  1.0   \n",
       "WIN_20210406_21_05_52_Pro        1.0  2.0  2.0  1.0  2.0  1.0  1.0  1.0   \n",
       "WIN_20210407_09_04_05_Pro        0.0  0.0  2.0  1.0  3.0  1.0  0.0  2.0   \n",
       "WIN_20210407_14_54_56_Pro_edit2  0.0  0.0  0.0  0.0  0.0  1.0  0.0  1.0   \n",
       "WIN_20210408_11_48_58_Pro        0.0  1.0  1.0  1.0  1.0  1.0  1.0  2.0   \n",
       "WIN_20210408_14_00_44_Pro        0.0  0.0  0.0  0.0  0.0  1.0  0.0  0.0   \n",
       "WIN_20210408_14_02_19_Pro        0.0  1.0  0.0  0.0  0.0  0.0  0.0  1.0   \n",
       "WIN_20210408_14_11_32_Pro        0.0  2.0  2.0  2.0  2.0  1.0  0.0  1.0   \n",
       "WIN_20210408_15_20_51_Pro        0.0  0.0  0.0  0.0  0.0  0.0  0.0  0.0   \n",
       "WIN_20210408_16_04_32_Pro        0.0  0.0  1.0  0.0  0.0  0.0  0.0  0.0   \n",
       "WIN_20210409_10_26_11_Pro        1.0  1.0  0.0  1.0  0.0  0.0  1.0  1.0   \n",
       "WIN_20210413_15_38_01_Pro        1.0  0.0  0.0  0.0  0.0  1.0  1.0  1.0   \n",
       "WIN_20210414_06_24_52_Pro        2.0  2.0  2.0  2.0  2.0  1.0  1.0  2.0   \n",
       "WIN_20210415_15_41_24_Pro        1.0  0.0  0.0  1.0  0.0  0.0  0.0  0.0   \n",
       "WIN_20210416_08_06_54_Pro        1.0  2.0  1.0  1.0  1.0  0.0  0.0  1.0   \n",
       "WIN_20210417_14_53_12_Pro        0.0  0.0  0.0  0.0  0.0  0.0  1.0  1.0   \n",
       "\n",
       "                                 stress_global  \n",
       "video_name                                      \n",
       "Test_pour_AFPA                             1.0  \n",
       "Video_1                                    0.0  \n",
       "WIN_20210323_19_17_40_Pro                  1.0  \n",
       "WIN_20210329_10_16_02_Pro                  1.0  \n",
       "WIN_20210330_13_10_29_Pro                  0.0  \n",
       "WIN_20210331_21_22_52_Pro                  1.0  \n",
       "WIN_20210402_14_27_50_Pro                  1.0  \n",
       "WIN_20210402_19_04_53_Pro                  2.0  \n",
       "WIN_20210403_18_49_15_Pro                  2.0  \n",
       "WIN_20210404_10_58_27_Pro                  1.0  \n",
       "WIN_20210404_21_41_12_Pro                  0.0  \n",
       "WIN_20210405_15_09_16_Pro                  1.0  \n",
       "WIN_20210406_15_06_15_Pro                  2.0  \n",
       "WIN_20210406_18_35_52_Pro                  0.0  \n",
       "WIN_20210406_18_49_10_Pro                  1.0  \n",
       "WIN_20210406_21_05_52_Pro                  2.0  \n",
       "WIN_20210407_09_04_05_Pro                  2.0  \n",
       "WIN_20210407_14_54_56_Pro_edit2            0.0  \n",
       "WIN_20210408_11_48_58_Pro                  2.0  \n",
       "WIN_20210408_14_00_44_Pro                  0.0  \n",
       "WIN_20210408_14_02_19_Pro                  0.0  \n",
       "WIN_20210408_14_11_32_Pro                  2.0  \n",
       "WIN_20210408_15_20_51_Pro                  0.0  \n",
       "WIN_20210408_16_04_32_Pro                  0.0  \n",
       "WIN_20210409_10_26_11_Pro                  0.0  \n",
       "WIN_20210413_15_38_01_Pro                  1.0  \n",
       "WIN_20210414_06_24_52_Pro                  2.0  \n",
       "WIN_20210415_15_41_24_Pro                  0.0  \n",
       "WIN_20210416_08_06_54_Pro                  1.0  \n",
       "WIN_20210417_14_53_12_Pro                  0.0  "
      ],
      "text/html": "<div>\n<style scoped>\n    .dataframe tbody tr th:only-of-type {\n        vertical-align: middle;\n    }\n\n    .dataframe tbody tr th {\n        vertical-align: top;\n    }\n\n    .dataframe thead th {\n        text-align: right;\n    }\n</style>\n<table border=\"1\" class=\"dataframe\">\n  <thead>\n    <tr style=\"text-align: right;\">\n      <th></th>\n      <th>1</th>\n      <th>8</th>\n      <th>9</th>\n      <th>10</th>\n      <th>11</th>\n      <th>12</th>\n      <th>17</th>\n      <th>18</th>\n      <th>stress_global</th>\n    </tr>\n    <tr>\n      <th>video_name</th>\n      <th></th>\n      <th></th>\n      <th></th>\n      <th></th>\n      <th></th>\n      <th></th>\n      <th></th>\n      <th></th>\n      <th></th>\n    </tr>\n  </thead>\n  <tbody>\n    <tr>\n      <th>Test_pour_AFPA</th>\n      <td>1.0</td>\n      <td>1.0</td>\n      <td>0.0</td>\n      <td>0.0</td>\n      <td>0.0</td>\n      <td>1.0</td>\n      <td>0.0</td>\n      <td>1.0</td>\n      <td>1.0</td>\n    </tr>\n    <tr>\n      <th>Video_1</th>\n      <td>0.0</td>\n      <td>0.0</td>\n      <td>0.0</td>\n      <td>0.0</td>\n      <td>1.0</td>\n      <td>1.0</td>\n      <td>1.0</td>\n      <td>1.0</td>\n      <td>0.0</td>\n    </tr>\n    <tr>\n      <th>WIN_20210323_19_17_40_Pro</th>\n      <td>1.0</td>\n      <td>0.0</td>\n      <td>1.0</td>\n      <td>1.0</td>\n      <td>1.0</td>\n      <td>1.0</td>\n      <td>1.0</td>\n      <td>1.0</td>\n      <td>1.0</td>\n    </tr>\n    <tr>\n      <th>WIN_20210329_10_16_02_Pro</th>\n      <td>0.0</td>\n      <td>0.0</td>\n      <td>1.0</td>\n      <td>1.0</td>\n      <td>0.0</td>\n      <td>1.0</td>\n      <td>0.0</td>\n      <td>0.0</td>\n      <td>1.0</td>\n    </tr>\n    <tr>\n      <th>WIN_20210330_13_10_29_Pro</th>\n      <td>0.0</td>\n      <td>0.0</td>\n      <td>0.0</td>\n      <td>0.0</td>\n      <td>1.0</td>\n      <td>0.0</td>\n      <td>0.0</td>\n      <td>0.0</td>\n      <td>0.0</td>\n    </tr>\n    <tr>\n      <th>WIN_20210331_21_22_52_Pro</th>\n      <td>0.0</td>\n      <td>0.0</td>\n      <td>1.0</td>\n      <td>1.0</td>\n      <td>1.0</td>\n      <td>1.0</td>\n      <td>0.0</td>\n      <td>0.0</td>\n      <td>1.0</td>\n    </tr>\n    <tr>\n      <th>WIN_20210402_14_27_50_Pro</th>\n      <td>1.0</td>\n      <td>1.0</td>\n      <td>1.0</td>\n      <td>2.0</td>\n      <td>1.0</td>\n      <td>1.0</td>\n      <td>1.0</td>\n      <td>1.0</td>\n      <td>1.0</td>\n    </tr>\n    <tr>\n      <th>WIN_20210402_19_04_53_Pro</th>\n      <td>2.0</td>\n      <td>1.0</td>\n      <td>1.0</td>\n      <td>1.0</td>\n      <td>1.0</td>\n      <td>2.0</td>\n      <td>1.0</td>\n      <td>2.0</td>\n      <td>2.0</td>\n    </tr>\n    <tr>\n      <th>WIN_20210403_18_49_15_Pro</th>\n      <td>1.0</td>\n      <td>1.0</td>\n      <td>1.0</td>\n      <td>1.0</td>\n      <td>1.0</td>\n      <td>2.0</td>\n      <td>2.0</td>\n      <td>1.0</td>\n      <td>2.0</td>\n    </tr>\n    <tr>\n      <th>WIN_20210404_10_58_27_Pro</th>\n      <td>0.0</td>\n      <td>1.0</td>\n      <td>1.0</td>\n      <td>1.0</td>\n      <td>1.0</td>\n      <td>1.0</td>\n      <td>1.0</td>\n      <td>1.0</td>\n      <td>1.0</td>\n    </tr>\n    <tr>\n      <th>WIN_20210404_21_41_12_Pro</th>\n      <td>0.0</td>\n      <td>0.0</td>\n      <td>1.0</td>\n      <td>0.0</td>\n      <td>0.0</td>\n      <td>1.0</td>\n      <td>0.0</td>\n      <td>1.0</td>\n      <td>0.0</td>\n    </tr>\n    <tr>\n      <th>WIN_20210405_15_09_16_Pro</th>\n      <td>0.0</td>\n      <td>1.0</td>\n      <td>1.0</td>\n      <td>1.0</td>\n      <td>1.0</td>\n      <td>0.0</td>\n      <td>0.0</td>\n      <td>1.0</td>\n      <td>1.0</td>\n    </tr>\n    <tr>\n      <th>WIN_20210406_15_06_15_Pro</th>\n      <td>1.0</td>\n      <td>1.0</td>\n      <td>1.0</td>\n      <td>1.0</td>\n      <td>1.0</td>\n      <td>2.0</td>\n      <td>1.0</td>\n      <td>2.0</td>\n      <td>2.0</td>\n    </tr>\n    <tr>\n      <th>WIN_20210406_18_35_52_Pro</th>\n      <td>0.0</td>\n      <td>0.0</td>\n      <td>1.0</td>\n      <td>0.0</td>\n      <td>0.0</td>\n      <td>1.0</td>\n      <td>0.0</td>\n      <td>1.0</td>\n      <td>0.0</td>\n    </tr>\n    <tr>\n      <th>WIN_20210406_18_49_10_Pro</th>\n      <td>1.0</td>\n      <td>0.0</td>\n      <td>1.0</td>\n      <td>1.0</td>\n      <td>1.0</td>\n      <td>1.0</td>\n      <td>1.0</td>\n      <td>1.0</td>\n      <td>1.0</td>\n    </tr>\n    <tr>\n      <th>WIN_20210406_21_05_52_Pro</th>\n      <td>1.0</td>\n      <td>2.0</td>\n      <td>2.0</td>\n      <td>1.0</td>\n      <td>2.0</td>\n      <td>1.0</td>\n      <td>1.0</td>\n      <td>1.0</td>\n      <td>2.0</td>\n    </tr>\n    <tr>\n      <th>WIN_20210407_09_04_05_Pro</th>\n      <td>0.0</td>\n      <td>0.0</td>\n      <td>2.0</td>\n      <td>1.0</td>\n      <td>3.0</td>\n      <td>1.0</td>\n      <td>0.0</td>\n      <td>2.0</td>\n      <td>2.0</td>\n    </tr>\n    <tr>\n      <th>WIN_20210407_14_54_56_Pro_edit2</th>\n      <td>0.0</td>\n      <td>0.0</td>\n      <td>0.0</td>\n      <td>0.0</td>\n      <td>0.0</td>\n      <td>1.0</td>\n      <td>0.0</td>\n      <td>1.0</td>\n      <td>0.0</td>\n    </tr>\n    <tr>\n      <th>WIN_20210408_11_48_58_Pro</th>\n      <td>0.0</td>\n      <td>1.0</td>\n      <td>1.0</td>\n      <td>1.0</td>\n      <td>1.0</td>\n      <td>1.0</td>\n      <td>1.0</td>\n      <td>2.0</td>\n      <td>2.0</td>\n    </tr>\n    <tr>\n      <th>WIN_20210408_14_00_44_Pro</th>\n      <td>0.0</td>\n      <td>0.0</td>\n      <td>0.0</td>\n      <td>0.0</td>\n      <td>0.0</td>\n      <td>1.0</td>\n      <td>0.0</td>\n      <td>0.0</td>\n      <td>0.0</td>\n    </tr>\n    <tr>\n      <th>WIN_20210408_14_02_19_Pro</th>\n      <td>0.0</td>\n      <td>1.0</td>\n      <td>0.0</td>\n      <td>0.0</td>\n      <td>0.0</td>\n      <td>0.0</td>\n      <td>0.0</td>\n      <td>1.0</td>\n      <td>0.0</td>\n    </tr>\n    <tr>\n      <th>WIN_20210408_14_11_32_Pro</th>\n      <td>0.0</td>\n      <td>2.0</td>\n      <td>2.0</td>\n      <td>2.0</td>\n      <td>2.0</td>\n      <td>1.0</td>\n      <td>0.0</td>\n      <td>1.0</td>\n      <td>2.0</td>\n    </tr>\n    <tr>\n      <th>WIN_20210408_15_20_51_Pro</th>\n      <td>0.0</td>\n      <td>0.0</td>\n      <td>0.0</td>\n      <td>0.0</td>\n      <td>0.0</td>\n      <td>0.0</td>\n      <td>0.0</td>\n      <td>0.0</td>\n      <td>0.0</td>\n    </tr>\n    <tr>\n      <th>WIN_20210408_16_04_32_Pro</th>\n      <td>0.0</td>\n      <td>0.0</td>\n      <td>1.0</td>\n      <td>0.0</td>\n      <td>0.0</td>\n      <td>0.0</td>\n      <td>0.0</td>\n      <td>0.0</td>\n      <td>0.0</td>\n    </tr>\n    <tr>\n      <th>WIN_20210409_10_26_11_Pro</th>\n      <td>1.0</td>\n      <td>1.0</td>\n      <td>0.0</td>\n      <td>1.0</td>\n      <td>0.0</td>\n      <td>0.0</td>\n      <td>1.0</td>\n      <td>1.0</td>\n      <td>0.0</td>\n    </tr>\n    <tr>\n      <th>WIN_20210413_15_38_01_Pro</th>\n      <td>1.0</td>\n      <td>0.0</td>\n      <td>0.0</td>\n      <td>0.0</td>\n      <td>0.0</td>\n      <td>1.0</td>\n      <td>1.0</td>\n      <td>1.0</td>\n      <td>1.0</td>\n    </tr>\n    <tr>\n      <th>WIN_20210414_06_24_52_Pro</th>\n      <td>2.0</td>\n      <td>2.0</td>\n      <td>2.0</td>\n      <td>2.0</td>\n      <td>2.0</td>\n      <td>1.0</td>\n      <td>1.0</td>\n      <td>2.0</td>\n      <td>2.0</td>\n    </tr>\n    <tr>\n      <th>WIN_20210415_15_41_24_Pro</th>\n      <td>1.0</td>\n      <td>0.0</td>\n      <td>0.0</td>\n      <td>1.0</td>\n      <td>0.0</td>\n      <td>0.0</td>\n      <td>0.0</td>\n      <td>0.0</td>\n      <td>0.0</td>\n    </tr>\n    <tr>\n      <th>WIN_20210416_08_06_54_Pro</th>\n      <td>1.0</td>\n      <td>2.0</td>\n      <td>1.0</td>\n      <td>1.0</td>\n      <td>1.0</td>\n      <td>0.0</td>\n      <td>0.0</td>\n      <td>1.0</td>\n      <td>1.0</td>\n    </tr>\n    <tr>\n      <th>WIN_20210417_14_53_12_Pro</th>\n      <td>0.0</td>\n      <td>0.0</td>\n      <td>0.0</td>\n      <td>0.0</td>\n      <td>0.0</td>\n      <td>0.0</td>\n      <td>1.0</td>\n      <td>1.0</td>\n      <td>0.0</td>\n    </tr>\n  </tbody>\n</table>\n</div>"
     },
     "metadata": {},
     "execution_count": 43
    }
   ],
   "source": [
    "df_annotations_stress = pd.read_csv('annotations.csv')\n",
    "df_annotations_stress = df_annotations_stress.set_index(['video_name'])\n",
    "df_annotations_stress"
   ]
  },
  {
   "cell_type": "code",
   "execution_count": 44,
   "metadata": {},
   "outputs": [],
   "source": [
    "Xy = stress_diapo_by_video.merge(df_annotations_stress.iloc[:,-1],how='inner',on='video_name')\n",
    "X_global= Xy.iloc[:,:-1]\n",
    "y_global = Xy.iloc[:,-1]"
   ]
  },
  {
   "cell_type": "code",
   "execution_count": 45,
   "metadata": {},
   "outputs": [],
   "source": [
    "from sklearn.linear_model import LogisticRegression\n",
    "from sklearn.neighbors import KNeighborsClassifier\n",
    "from sklearn.ensemble import RandomForestClassifier\n",
    "from sklearn.model_selection import LeaveOneGroupOut\n",
    "from sklearn.decomposition import PCA\n",
    "from sklearn.pipeline import Pipeline\n",
    "\n",
    "pca = PCA()\n",
    "\n",
    "models_list = [\n",
    "                LogisticRegression(multi_class='multinomial', fit_intercept=True, random_state=42),\n",
    "                Pipeline(steps=[('pca', pca), ('logistic', LogisticRegression(multi_class='multinomial', fit_intercept=True))]),\n",
    "                KNeighborsClassifier(),\n",
    "                Pipeline(steps=[('pca', pca), ('knn', KNeighborsClassifier())]),\n",
    "                RandomForestClassifier(random_state = 42, n_jobs=-1)\n",
    "                ]\n",
    "\n",
    "parameters_list = [\n",
    "                    {'C': [0.01, 0.05, 0.1, 0.5, 1, 2, 3, 4 , 5, 10], 'class_weight' : [None, 'balanced']},\n",
    "                    {'pca__n_components': [1, 2, 3, 4],\n",
    "                        'logistic__C': [0.01, 0.05, 0.1, 0.5, 1, 2, 3, 4 , 5, 10], 'logistic__class_weight' : [None, 'balanced']},\n",
    "                    {'n_neighbors': [4, 5, 6, 7, 8, 9, 10, 11, 12,  15, 20], 'weights' : ['uniform', 'distance'], 'p': [1, 2]},\n",
    "                    {'pca__n_components': [1, 2, 3, 4],\n",
    "                        'knn__n_neighbors': [4, 5, 6, 7, 8, 9, 10, 11, 12,  15, 20], 'knn__weights' : ['uniform', 'distance'],                              'knn__p': [1, 2]},\n",
    "                    {'n_estimators': [50, 100, 150, 200], 'max_depth':[3, 4, 5, 6, 10, 15, 20], 'class_weight':[None,'balanced']}\n",
    "                    ]\n",
    "\n"
   ]
  },
  {
   "cell_type": "code",
   "execution_count": 46,
   "metadata": {},
   "outputs": [
    {
     "output_type": "stream",
     "name": "stdout",
     "text": [
      "Fitting 5 folds for each of 20 candidates, totalling 100 fits\n",
      "Best estimator LogisticRegression(C=2, class_weight='balanced', multi_class='multinomial',\n",
      "                   random_state=42)\n",
      "Best results 0.4688888888888889\n",
      "Best params {'C': 2, 'class_weight': 'balanced'}\n",
      "accuracy (mean, std) 0.5066666666666667 0.20044395171163878\n",
      "f1 (mean, std) 0.4688888888888889 0.20176994600562076\n",
      "balanced accuracy (mean, std) 0.47777777777777775 0.22933074933944772\n",
      "precision (mean, std) 0.4677777777777778 0.23137805096667186\n",
      "recall (mean, std) 0.5066666666666667 0.20044395171163878\n",
      "\n",
      "Fitting 5 folds for each of 80 candidates, totalling 400 fits\n",
      "Best estimator Pipeline(steps=[('pca', PCA(n_components=2)),\n",
      "                ('logistic',\n",
      "                 LogisticRegression(C=1, class_weight='balanced',\n",
      "                                    multi_class='multinomial'))])\n",
      "Best results 0.6235555555555555\n",
      "Best params {'logistic__C': 1, 'logistic__class_weight': 'balanced', 'pca__n_components': 2}\n",
      "accuracy (mean, std) 0.6133333333333333 0.14996295838935988\n",
      "f1 (mean, std) 0.6235555555555555 0.1347964171410875\n",
      "balanced accuracy (mean, std) 0.6333333333333332 0.15555555555555556\n",
      "precision (mean, std) 0.7111111111111111 0.14229164972072997\n",
      "recall (mean, std) 0.6133333333333333 0.14996295838935988\n",
      "\n",
      "Fitting 5 folds for each of 44 candidates, totalling 220 fits\n",
      "Best estimator KNeighborsClassifier(n_neighbors=12, p=1, weights='distance')\n",
      "Best results 0.5788888888888888\n",
      "Best params {'n_neighbors': 12, 'p': 1, 'weights': 'distance'}\n",
      "accuracy (mean, std) 0.58 0.1528979325490629\n",
      "f1 (mean, std) 0.5788888888888888 0.1456530631837684\n",
      "balanced accuracy (mean, std) 0.611111111111111 0.13608276348795437\n",
      "precision (mean, std) 0.7011111111111111 0.15652081469280296\n",
      "recall (mean, std) 0.58 0.1528979325490629\n",
      "\n",
      "Fitting 5 folds for each of 176 candidates, totalling 880 fits\n",
      "Best estimator Pipeline(steps=[('pca', PCA(n_components=3)),\n",
      "                ('knn', KNeighborsClassifier(n_neighbors=10))])\n",
      "Best results 0.6804444444444444\n",
      "Best params {'knn__n_neighbors': 10, 'knn__p': 2, 'knn__weights': 'uniform', 'pca__n_components': 3}\n",
      "accuracy (mean, std) 0.6866666666666668 0.1309792180292567\n",
      "f1 (mean, std) 0.6804444444444444 0.13701869747151346\n",
      "balanced accuracy (mean, std) 0.6888888888888889 0.15153535218873174\n",
      "precision (mean, std) 0.7511111111111111 0.16815630588793434\n",
      "recall (mean, std) 0.6866666666666668 0.1309792180292567\n",
      "\n",
      "Fitting 5 folds for each of 56 candidates, totalling 280 fits\n",
      "Best estimator RandomForestClassifier(class_weight='balanced', max_depth=3, n_estimators=150,\n",
      "                       n_jobs=-1, random_state=42)\n",
      "Best results 0.5977777777777777\n",
      "Best params {'class_weight': 'balanced', 'max_depth': 3, 'n_estimators': 150}\n",
      "accuracy (mean, std) 0.6133333333333333 0.1499629583893599\n",
      "f1 (mean, std) 0.5977777777777777 0.1409666802413663\n",
      "balanced accuracy (mean, std) 0.6 0.13788526273323176\n",
      "precision (mean, std) 0.6844444444444445 0.1663849470874212\n",
      "recall (mean, std) 0.6133333333333333 0.1499629583893599\n",
      "\n",
      "f1_score (weighted) 0.6735278514588858\n",
      "accuracy 0.6896551724137931\n"
     ]
    }
   ],
   "source": [
    "best_result_tw5_diapo_minmax_global, y_predict_tw5_diapo_minmax_global, y_proba, result_list = runGridSearchClassifiers(X_global, y_global, 5 , models_list, parameters_list, output_predict=True, n_jobs=-1, verbose=True)"
   ]
  },
  {
   "cell_type": "code",
   "execution_count": 47,
   "metadata": {},
   "outputs": [
    {
     "output_type": "execute_result",
     "data": {
      "text/plain": [
       "{'best_estimator': Pipeline(steps=[('pca', PCA(n_components=3)),\n",
       "                 ('knn', KNeighborsClassifier(n_neighbors=10))]),\n",
       " 'best_score': 0.6804444444444444,\n",
       " 'best_params': {'knn__n_neighbors': 10,\n",
       "  'knn__p': 2,\n",
       "  'knn__weights': 'uniform',\n",
       "  'pca__n_components': 3},\n",
       " 'mean_test_f1_score': 0.6804444444444444,\n",
       " 'std_test_f1_score': 0.13701869747151346,\n",
       " 'mean_test_accuracy_score': 0.6866666666666668,\n",
       " 'std_test_accuracy_score': 0.1309792180292567,\n",
       " 'mean_test_balanced_accuracy_score': 0.6888888888888889,\n",
       " 'std_test_balanced_accuracy_score': 0.15153535218873174,\n",
       " 'mean_test_precision': 0.7511111111111111,\n",
       " 'std_test_precision': 0.16815630588793434,\n",
       " 'mean_test_recall': 0.6866666666666668,\n",
       " 'std_test_recall': 0.1309792180292567}"
      ]
     },
     "metadata": {},
     "execution_count": 47
    }
   ],
   "source": [
    "best_result_tw5_diapo_minmax_global"
   ]
  },
  {
   "cell_type": "code",
   "execution_count": 48,
   "metadata": {},
   "outputs": [
    {
     "output_type": "stream",
     "name": "stdout",
     "text": [
      "F1 0.6735278514588858\nAccuracy 0.6896551724137931\n"
     ]
    }
   ],
   "source": [
    "from sklearn.metrics import f1_score\n",
    "print(\"F1 \" + str(f1_score(y_global, y_predict_tw5_diapo_minmax_global, average='weighted')))\n",
    "from sklearn.metrics import accuracy_score\n",
    "print(\"Accuracy \" + str(accuracy_score(y_global, y_predict_tw5_diapo_minmax_global)))"
   ]
  },
  {
   "cell_type": "code",
   "execution_count": 49,
   "metadata": {},
   "outputs": [
    {
     "output_type": "execute_result",
     "data": {
      "text/plain": [
       "array([1., 1., 1., 1., 0., 1., 2., 1., 1., 0., 1., 2., 0., 1., 0., 0., 0.,\n",
       "       0., 2., 0., 2., 0., 0., 0., 0., 1., 2., 1., 0.])"
      ]
     },
     "metadata": {},
     "execution_count": 49
    }
   ],
   "source": [
    "y_predict_tw5_diapo_minmax_global"
   ]
  },
  {
   "cell_type": "code",
   "execution_count": 50,
   "metadata": {},
   "outputs": [
    {
     "output_type": "execute_result",
     "data": {
      "text/plain": [
       "                         video_name  y_predict_tw5_diapo_minmax_global\n",
       "0                    Test_pour_AFPA                                1.0\n",
       "1                           Video_1                                1.0\n",
       "2         WIN_20210323_19_17_40_Pro                                1.0\n",
       "3         WIN_20210329_10_16_02_Pro                                1.0\n",
       "4         WIN_20210330_13_10_29_Pro                                0.0\n",
       "5         WIN_20210331_21_22_52_Pro                                1.0\n",
       "6         WIN_20210402_19_04_53_Pro                                2.0\n",
       "7         WIN_20210403_18_49_15_Pro                                1.0\n",
       "8         WIN_20210404_10_58_27_Pro                                1.0\n",
       "9         WIN_20210404_21_41_12_Pro                                0.0\n",
       "10        WIN_20210405_15_09_16_Pro                                1.0\n",
       "11        WIN_20210406_15_06_15_Pro                                2.0\n",
       "12        WIN_20210406_18_35_52_Pro                                0.0\n",
       "13        WIN_20210406_18_49_10_Pro                                1.0\n",
       "14        WIN_20210406_21_05_52_Pro                                0.0\n",
       "15        WIN_20210407_09_04_05_Pro                                0.0\n",
       "16  WIN_20210407_14_54_56_Pro_edit2                                0.0\n",
       "17        WIN_20210408_11_48_58_Pro                                0.0\n",
       "18        WIN_20210408_14_00_44_Pro                                2.0\n",
       "19        WIN_20210408_14_02_19_Pro                                0.0\n",
       "20        WIN_20210408_14_11_32_Pro                                2.0\n",
       "21        WIN_20210408_15_20_51_Pro                                0.0\n",
       "22        WIN_20210408_16_04_32_Pro                                0.0\n",
       "23        WIN_20210409_10_26_11_Pro                                0.0\n",
       "24        WIN_20210413_15_38_01_Pro                                0.0\n",
       "25        WIN_20210414_06_24_52_Pro                                1.0\n",
       "26        WIN_20210415_15_41_24_Pro                                2.0\n",
       "27        WIN_20210416_08_06_54_Pro                                1.0\n",
       "28        WIN_20210417_14_53_12_Pro                                0.0"
      ],
      "text/html": "<div>\n<style scoped>\n    .dataframe tbody tr th:only-of-type {\n        vertical-align: middle;\n    }\n\n    .dataframe tbody tr th {\n        vertical-align: top;\n    }\n\n    .dataframe thead th {\n        text-align: right;\n    }\n</style>\n<table border=\"1\" class=\"dataframe\">\n  <thead>\n    <tr style=\"text-align: right;\">\n      <th></th>\n      <th>video_name</th>\n      <th>y_predict_tw5_diapo_minmax_global</th>\n    </tr>\n  </thead>\n  <tbody>\n    <tr>\n      <th>0</th>\n      <td>Test_pour_AFPA</td>\n      <td>1.0</td>\n    </tr>\n    <tr>\n      <th>1</th>\n      <td>Video_1</td>\n      <td>1.0</td>\n    </tr>\n    <tr>\n      <th>2</th>\n      <td>WIN_20210323_19_17_40_Pro</td>\n      <td>1.0</td>\n    </tr>\n    <tr>\n      <th>3</th>\n      <td>WIN_20210329_10_16_02_Pro</td>\n      <td>1.0</td>\n    </tr>\n    <tr>\n      <th>4</th>\n      <td>WIN_20210330_13_10_29_Pro</td>\n      <td>0.0</td>\n    </tr>\n    <tr>\n      <th>5</th>\n      <td>WIN_20210331_21_22_52_Pro</td>\n      <td>1.0</td>\n    </tr>\n    <tr>\n      <th>6</th>\n      <td>WIN_20210402_19_04_53_Pro</td>\n      <td>2.0</td>\n    </tr>\n    <tr>\n      <th>7</th>\n      <td>WIN_20210403_18_49_15_Pro</td>\n      <td>1.0</td>\n    </tr>\n    <tr>\n      <th>8</th>\n      <td>WIN_20210404_10_58_27_Pro</td>\n      <td>1.0</td>\n    </tr>\n    <tr>\n      <th>9</th>\n      <td>WIN_20210404_21_41_12_Pro</td>\n      <td>0.0</td>\n    </tr>\n    <tr>\n      <th>10</th>\n      <td>WIN_20210405_15_09_16_Pro</td>\n      <td>1.0</td>\n    </tr>\n    <tr>\n      <th>11</th>\n      <td>WIN_20210406_15_06_15_Pro</td>\n      <td>2.0</td>\n    </tr>\n    <tr>\n      <th>12</th>\n      <td>WIN_20210406_18_35_52_Pro</td>\n      <td>0.0</td>\n    </tr>\n    <tr>\n      <th>13</th>\n      <td>WIN_20210406_18_49_10_Pro</td>\n      <td>1.0</td>\n    </tr>\n    <tr>\n      <th>14</th>\n      <td>WIN_20210406_21_05_52_Pro</td>\n      <td>0.0</td>\n    </tr>\n    <tr>\n      <th>15</th>\n      <td>WIN_20210407_09_04_05_Pro</td>\n      <td>0.0</td>\n    </tr>\n    <tr>\n      <th>16</th>\n      <td>WIN_20210407_14_54_56_Pro_edit2</td>\n      <td>0.0</td>\n    </tr>\n    <tr>\n      <th>17</th>\n      <td>WIN_20210408_11_48_58_Pro</td>\n      <td>0.0</td>\n    </tr>\n    <tr>\n      <th>18</th>\n      <td>WIN_20210408_14_00_44_Pro</td>\n      <td>2.0</td>\n    </tr>\n    <tr>\n      <th>19</th>\n      <td>WIN_20210408_14_02_19_Pro</td>\n      <td>0.0</td>\n    </tr>\n    <tr>\n      <th>20</th>\n      <td>WIN_20210408_14_11_32_Pro</td>\n      <td>2.0</td>\n    </tr>\n    <tr>\n      <th>21</th>\n      <td>WIN_20210408_15_20_51_Pro</td>\n      <td>0.0</td>\n    </tr>\n    <tr>\n      <th>22</th>\n      <td>WIN_20210408_16_04_32_Pro</td>\n      <td>0.0</td>\n    </tr>\n    <tr>\n      <th>23</th>\n      <td>WIN_20210409_10_26_11_Pro</td>\n      <td>0.0</td>\n    </tr>\n    <tr>\n      <th>24</th>\n      <td>WIN_20210413_15_38_01_Pro</td>\n      <td>0.0</td>\n    </tr>\n    <tr>\n      <th>25</th>\n      <td>WIN_20210414_06_24_52_Pro</td>\n      <td>1.0</td>\n    </tr>\n    <tr>\n      <th>26</th>\n      <td>WIN_20210415_15_41_24_Pro</td>\n      <td>2.0</td>\n    </tr>\n    <tr>\n      <th>27</th>\n      <td>WIN_20210416_08_06_54_Pro</td>\n      <td>1.0</td>\n    </tr>\n    <tr>\n      <th>28</th>\n      <td>WIN_20210417_14_53_12_Pro</td>\n      <td>0.0</td>\n    </tr>\n  </tbody>\n</table>\n</div>"
     },
     "metadata": {},
     "execution_count": 50
    }
   ],
   "source": [
    "#seeing prediction\n",
    "df_global_5tw_minmax = pd.concat([X_global.reset_index()[['video_name']],\n",
    "                        pd.DataFrame(y_predict_tw5_diapo_minmax_global, columns=['y_predict_tw5_diapo_minmax_global'])],axis=1)\n",
    "\n",
    "df_global_5tw_minmax.columns = ['video_name', 'y_predict_tw5_diapo_minmax_global']\n",
    "df_global_5tw_minmax\n"
   ]
  },
  {
   "cell_type": "code",
   "execution_count": null,
   "metadata": {},
   "outputs": [],
   "source": []
  },
  {
   "cell_type": "code",
   "execution_count": 51,
   "metadata": {},
   "outputs": [],
   "source": [
    "#SAving predictions\n",
    "df_global_5tw_minmax.to_csv('all_features_tw5_diapo_minmax_global.csv')"
   ]
  },
  {
   "cell_type": "code",
   "execution_count": null,
   "metadata": {},
   "outputs": [],
   "source": []
  }
 ],
 "metadata": {
  "kernelspec": {
   "name": "python3",
   "display_name": "Python 3.7.6 64-bit ('base': conda)"
  },
  "language_info": {
   "codemirror_mode": {
    "name": "ipython",
    "version": 3
   },
   "file_extension": ".py",
   "mimetype": "text/x-python",
   "name": "python",
   "nbconvert_exporter": "python",
   "pygments_lexer": "ipython3",
   "version": "3.7.6"
  },
  "interpreter": {
   "hash": "dd1cf4766d5d9df855e04619ca954236457012a0dce4d3d89890d807f4ecf8a5"
  }
 },
 "nbformat": 4,
 "nbformat_minor": 4
}