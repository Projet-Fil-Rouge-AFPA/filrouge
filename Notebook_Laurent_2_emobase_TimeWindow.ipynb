{
 "cells": [
  {
   "cell_type": "code",
   "execution_count": 1,
   "metadata": {},
   "outputs": [],
   "source": [
    "import numpy as np \n",
    "import pandas as pd \n",
    "import matplotlib.pyplot as plt \n",
    "import pathlib\n",
    "from util import runGridSearchClassifiers"
   ]
  },
  {
   "cell_type": "markdown",
   "metadata": {},
   "source": [
    "## Loading data"
   ]
  },
  {
   "cell_type": "code",
   "execution_count": 2,
   "metadata": {},
   "outputs": [],
   "source": [
    "directory_path = '../../04_-_Dev/videos'\n",
    "features = 'emobase'"
   ]
  },
  {
   "cell_type": "code",
   "execution_count": 3,
   "metadata": {},
   "outputs": [],
   "source": [
    "df_total = pd.read_pickle(directory_path + '/audio_' + features + '_data.p')"
   ]
  },
  {
   "cell_type": "code",
   "execution_count": 4,
   "metadata": {},
   "outputs": [
    {
     "output_type": "execute_result",
     "data": {
      "text/plain": [
       "(2573701, 60)"
      ]
     },
     "metadata": {},
     "execution_count": 4
    }
   ],
   "source": [
    "df_total.shape"
   ]
  },
  {
   "cell_type": "code",
   "execution_count": 5,
   "metadata": {},
   "outputs": [
    {
     "data": {
      "text/plain": [
       "30"
      ]
     },
     "execution_count": 5,
     "metadata": {},
     "output_type": "execute_result"
    }
   ],
   "source": [
    "df_total.video_name.nunique()"
   ]
  },
  {
   "cell_type": "code",
   "execution_count": 6,
   "metadata": {},
   "outputs": [
    {
     "data": {
      "text/html": [
       "<div>\n",
       "<style scoped>\n",
       "    .dataframe tbody tr th:only-of-type {\n",
       "        vertical-align: middle;\n",
       "    }\n",
       "\n",
       "    .dataframe tbody tr th {\n",
       "        vertical-align: top;\n",
       "    }\n",
       "\n",
       "    .dataframe thead th {\n",
       "        text-align: right;\n",
       "    }\n",
       "</style>\n",
       "<table border=\"1\" class=\"dataframe\">\n",
       "  <thead>\n",
       "    <tr style=\"text-align: right;\">\n",
       "      <th></th>\n",
       "      <th>frameIndex</th>\n",
       "      <th>frameTime</th>\n",
       "      <th>pcm_intensity_sma</th>\n",
       "      <th>pcm_loudness_sma</th>\n",
       "      <th>mfcc_sma[1]</th>\n",
       "      <th>mfcc_sma[2]</th>\n",
       "      <th>mfcc_sma[3]</th>\n",
       "      <th>mfcc_sma[4]</th>\n",
       "      <th>mfcc_sma[5]</th>\n",
       "      <th>mfcc_sma[6]</th>\n",
       "      <th>...</th>\n",
       "      <th>pcm_zcr_sma_de</th>\n",
       "      <th>voiceProb_sma_de</th>\n",
       "      <th>F0_sma_de</th>\n",
       "      <th>F0env_sma_de</th>\n",
       "      <th>video_name</th>\n",
       "      <th>stress_global</th>\n",
       "      <th>type_candidat</th>\n",
       "      <th>sexe</th>\n",
       "      <th>stress</th>\n",
       "      <th>diapo</th>\n",
       "    </tr>\n",
       "  </thead>\n",
       "  <tbody>\n",
       "  </tbody>\n",
       "</table>\n",
       "<p>0 rows × 60 columns</p>\n",
       "</div>"
      ],
      "text/plain": [
       "Empty DataFrame\n",
       "Columns: [frameIndex, frameTime, pcm_intensity_sma, pcm_loudness_sma, mfcc_sma[1], mfcc_sma[2], mfcc_sma[3], mfcc_sma[4], mfcc_sma[5], mfcc_sma[6], mfcc_sma[7], mfcc_sma[8], mfcc_sma[9], mfcc_sma[10], mfcc_sma[11], mfcc_sma[12], lspFreq_sma[0], lspFreq_sma[1], lspFreq_sma[2], lspFreq_sma[3], lspFreq_sma[4], lspFreq_sma[5], lspFreq_sma[6], lspFreq_sma[7], pcm_zcr_sma, voiceProb_sma, F0_sma, F0env_sma, pcm_intensity_sma_de, pcm_loudness_sma_de, mfcc_sma_de[1], mfcc_sma_de[2], mfcc_sma_de[3], mfcc_sma_de[4], mfcc_sma_de[5], mfcc_sma_de[6], mfcc_sma_de[7], mfcc_sma_de[8], mfcc_sma_de[9], mfcc_sma_de[10], mfcc_sma_de[11], mfcc_sma_de[12], lspFreq_sma_de[0], lspFreq_sma_de[1], lspFreq_sma_de[2], lspFreq_sma_de[3], lspFreq_sma_de[4], lspFreq_sma_de[5], lspFreq_sma_de[6], lspFreq_sma_de[7], pcm_zcr_sma_de, voiceProb_sma_de, F0_sma_de, F0env_sma_de, video_name, stress_global, type_candidat, sexe, stress, diapo]\n",
       "Index: []\n",
       "\n",
       "[0 rows x 60 columns]"
      ]
     },
     "execution_count": 6,
     "metadata": {},
     "output_type": "execute_result"
    }
   ],
   "source": [
    "df_total[df_total.isna().any(axis=1)]"
   ]
  },
  {
   "cell_type": "markdown",
   "metadata": {},
   "source": [
    "## Data processing"
   ]
  },
  {
   "cell_type": "code",
   "execution_count": 7,
   "metadata": {},
   "outputs": [],
   "source": [
    "time_window = 5\n",
    "df_total['frameTimeWindow'] = df_total.frameTime.apply(lambda x : np.floor(x / time_window) * time_window).astype(int)"
   ]
  },
  {
   "cell_type": "code",
   "execution_count": 5,
   "metadata": {},
   "outputs": [],
   "source": [
    "from scipy.stats import kurtosis, skew\n",
    "\n",
    "def percentil25(x): \n",
    "    return np.percentile(x, q=25)\n",
    "\n",
    "def percentil75(x): \n",
    "    return np.percentile(x, q=75)"
   ]
  },
  {
   "cell_type": "code",
   "execution_count": 11,
   "metadata": {},
   "outputs": [],
   "source": [
    "# 5 seconds windows\n",
    "X = df_total.iloc[:,2:].groupby(['video_name','diapo','frameTimeWindow']).agg({'mean','min','max', 'median', 'std', percentil25, percentil75, kurtosis, skew}).iloc[:,:-18]"
   ]
  },
  {
   "cell_type": "code",
   "execution_count": 16,
   "metadata": {},
   "outputs": [],
   "source": [
    "y = df_total.iloc[:,3:].groupby(['video_name','diapo','frameTimeWindow']).agg({'stress':'min'}).iloc[:,-1]"
   ]
  },
  {
   "cell_type": "code",
   "execution_count": 18,
   "metadata": {},
   "outputs": [],
   "source": [
    "X.to_pickle(directory_path + '/audio_' + features + '_tw5_data_X.p')\n",
    "y.to_pickle(directory_path + '/audio_' + features + '_tw5_data_y.p')"
   ]
  },
  {
   "cell_type": "code",
   "execution_count": 21,
   "metadata": {},
   "outputs": [],
   "source": [
    "from scipy.stats import kurtosis, skew\n",
    "X_audio = df_total.loc[df_total['diapo'].isin([8, 9, 10, 11, 17]),:].iloc[:,2:].groupby(['video_name','diapo','frameTimeWindow']).agg({'mean','min','max', 'median', 'std', percentil25, percentil75, kurtosis, skew}).iloc[:,:-18]\n",
    "y_audio = df_total.loc[df_total['diapo'].isin([8, 9, 10, 11, 17]),:].iloc[:,2:].groupby(['video_name','diapo','frameTimeWindow']).agg({'stress':'mean'}).iloc[:,-1]"
   ]
  },
  {
   "cell_type": "code",
   "execution_count": 22,
   "metadata": {},
   "outputs": [],
   "source": [
    "X_audio.to_pickle(directory_path + '/audio_' + features + '_tw5_data_X_audio_questions_only.p')\n",
    "y_audio.to_pickle(directory_path + '/audio_' + features + '_tw5_data_y_audio_questions_only.p')"
   ]
  },
  {
   "cell_type": "markdown",
   "metadata": {},
   "source": [
    "## Modèles"
   ]
  },
  {
   "cell_type": "code",
   "execution_count": 6,
   "metadata": {},
   "outputs": [],
   "source": [
    "X = pd.read_pickle(directory_path + '/audio_' + features + '_tw5_data_X.p')\n",
    "y = pd.read_pickle(directory_path + '/audio_' + features + '_tw5_data_y.p')\n",
    "\n",
    "X_audio = pd.read_pickle(directory_path + '/audio_' + features + '_tw5_data_X_audio_questions_only.p')\n",
    "y_audio = pd.read_pickle(directory_path + '/audio_' + features + '_tw5_data_y_audio_questions_only.p')"
   ]
  },
  {
   "cell_type": "code",
   "execution_count": 7,
   "metadata": {},
   "outputs": [],
   "source": [
    "X = X.fillna(0)\n",
    "X_audio = X_audio.fillna(0)"
   ]
  },
  {
   "cell_type": "markdown",
   "metadata": {},
   "source": [
    "## Stress par diapos\n",
    "### All diapos"
   ]
  },
  {
   "cell_type": "code",
   "execution_count": 8,
   "metadata": {},
   "outputs": [],
   "source": [
    "diapo_selection = '_all'"
   ]
  },
  {
   "cell_type": "code",
   "execution_count": 14,
   "metadata": {},
   "outputs": [],
   "source": [
    "from sklearn.ensemble import RandomForestClassifier\n",
    "from sklearn.model_selection import LeaveOneGroupOut\n",
    "\n",
    "models_list = [RandomForestClassifier(random_state = 42, n_jobs=-1)]\n",
    "parameters_list = [\n",
    "                {'n_estimators': [150, 200, 250], 'max_depth':[10, 15, 20, 25], 'class_weight':[None,'balanced']}\n",
    "                ]\n",
    "parameters_list = [\n",
    "{'n_estimators': [150, 200, 250], 'max_depth':[10, 15, 20, 25], 'class_weight':['balanced']}\n",
    "]\n",
    "groups = X.reset_index()['video_name']\n",
    "loo = LeaveOneGroupOut()\n",
    "cv_loo = loo.split(X, y, groups)"
   ]
  },
  {
   "cell_type": "code",
   "execution_count": 15,
   "metadata": {},
   "outputs": [
    {
     "output_type": "stream",
     "name": "stdout",
     "text": [
      "Fitting 30 folds for each of 12 candidates, totalling 360 fits\n",
      "[Parallel(n_jobs=-1)]: Using backend LokyBackend with 8 concurrent workers.\n",
      "[Parallel(n_jobs=-1)]: Done  34 tasks      | elapsed:  1.4min\n",
      "[Parallel(n_jobs=-1)]: Done 184 tasks      | elapsed: 10.1min\n",
      "[Parallel(n_jobs=-1)]: Done 360 out of 360 | elapsed: 21.4min finished\n",
      "Best estimator RandomForestClassifier(class_weight='balanced', max_depth=15, n_estimators=200,\n",
      "                       n_jobs=-1, random_state=42)\n",
      "Best results 0.4529982783484758\n",
      "Best params {'class_weight': 'balanced', 'max_depth': 15, 'n_estimators': 200}\n",
      "accuracy (mean, std) 0.4603521332304298 0.2114706580772435\n",
      "f1 (mean, std) 0.4529982783484758 0.20974192525992463\n",
      "balanced accuracy (mean, std) 0.43354841847414627 0.17316512582141624\n",
      "precision (mean, std) 0.5723149667598205 0.23354294213480234\n",
      "recall (mean, std) 0.4603521332304298 0.2114706580772435\n",
      "\n",
      "f1_score (weighted) 0.4281715798174184\n",
      "accuracy 0.4567298667167261\n"
     ]
    }
   ],
   "source": [
    "best_result, y_predict, y_predict_proba, result_list = runGridSearchClassifiers(X, y, cv_loo, models_list, parameters_list, \n",
    "                                                                output_predict=True, n_jobs=-1, verbose=True)"
   ]
  },
  {
   "cell_type": "code",
   "execution_count": 16,
   "metadata": {},
   "outputs": [],
   "source": [
    "# Saving predictions\n",
    "df_ypredict = pd.concat([X.reset_index()[['video_name','diapo','frameTimeWindow']],\n",
    "                        pd.DataFrame(y_predict, columns=['ypredict'])],axis=1)\n",
    "df_ypredict.to_csv('ypredict_' + features + '_tw5' + diapo_selection + '.csv')"
   ]
  },
  {
   "cell_type": "code",
   "execution_count": 17,
   "metadata": {},
   "outputs": [
    {
     "output_type": "execute_result",
     "data": {
      "text/plain": [
       "array([[ 654, 1239,  171,    0],\n",
       "       [ 814, 1749,   27,    0],\n",
       "       [ 316,  307,   30,    0],\n",
       "       [   7,   13,    0,    0]])"
      ]
     },
     "metadata": {},
     "execution_count": 17
    }
   ],
   "source": [
    "from sklearn.metrics import confusion_matrix\n",
    "confusion_matrix(y, y_predict)"
   ]
  },
  {
   "cell_type": "code",
   "execution_count": 18,
   "metadata": {},
   "outputs": [],
   "source": [
    "df_ypredict = pd.read_csv('ypredict_' + features + '_tw5' + diapo_selection + '.csv')\n",
    "df_ypredict = df_ypredict.iloc[:,1:]\n",
    "df_ypredict.columns = ['video_name','diapo','frameTimeWindow','ypredict']\n",
    "df_ypredict['ypredict'] = df_ypredict['ypredict'].astype(int)\n"
   ]
  },
  {
   "cell_type": "code",
   "execution_count": 19,
   "metadata": {},
   "outputs": [
    {
     "output_type": "execute_result",
     "data": {
      "text/plain": [
       "                                                pcm_intensity_sma  \\\n",
       "                                                      percentil75   \n",
       "video_name                diapo frameTimeWindow                     \n",
       "Test_pour_AFPA            1     0                    8.774428e-11   \n",
       "                                5                    1.021841e-10   \n",
       "                                10                   1.003699e-10   \n",
       "                                15                   1.096644e-10   \n",
       "                                20                   1.056265e-10   \n",
       "...                                                           ...   \n",
       "WIN_20210417_14_53_12_Pro 18    600                  1.176876e-11   \n",
       "                                605                  6.166123e-12   \n",
       "                                610                  4.465477e-12   \n",
       "                                615                  1.247821e-11   \n",
       "                                620                  3.609919e-11   \n",
       "\n",
       "                                                                         \\\n",
       "                                                       median      skew   \n",
       "video_name                diapo frameTimeWindow                           \n",
       "Test_pour_AFPA            1     0                5.652821e-11  2.724692   \n",
       "                                5                6.024235e-11  1.669479   \n",
       "                                10               6.097148e-11  1.231535   \n",
       "                                15               6.800392e-11  1.635156   \n",
       "                                20               6.197396e-11  1.170682   \n",
       "...                                                       ...       ...   \n",
       "WIN_20210417_14_53_12_Pro 18    600              6.051347e-13  6.714008   \n",
       "                                605              1.043340e-12  4.475901   \n",
       "                                610              8.346684e-13  4.223178   \n",
       "                                615              5.592215e-12  2.798153   \n",
       "                                620              1.671420e-11  1.269456   \n",
       "\n",
       "                                                                             \\\n",
       "                                                          std   percentil25   \n",
       "video_name                diapo frameTimeWindow                               \n",
       "Test_pour_AFPA            1     0                5.158104e-11  3.385610e-11   \n",
       "                                5                6.252104e-11  3.375239e-11   \n",
       "                                10               5.513744e-11  2.914076e-11   \n",
       "                                15               6.265870e-11  3.708061e-11   \n",
       "                                20               5.422649e-11  3.360517e-11   \n",
       "...                                                       ...           ...   \n",
       "WIN_20210417_14_53_12_Pro 18    600              4.009258e-11  0.000000e+00   \n",
       "                                605              1.810855e-11  4.173127e-14   \n",
       "                                610              8.823801e-12  0.000000e+00   \n",
       "                                615              1.261866e-11  2.170155e-12   \n",
       "                                620              2.040373e-11  6.103491e-12   \n",
       "\n",
       "                                                                          \\\n",
       "                                                         mean   kurtosis   \n",
       "video_name                diapo frameTimeWindow                            \n",
       "Test_pour_AFPA            1     0                6.831969e-11  13.638802   \n",
       "                                5                7.729215e-11   3.261232   \n",
       "                                10               7.262539e-11   1.487425   \n",
       "                                15               8.263100e-11   3.776347   \n",
       "                                20               7.523362e-11   1.322073   \n",
       "...                                                       ...        ...   \n",
       "WIN_20210417_14_53_12_Pro 18    600              1.408690e-11  58.442977   \n",
       "                                605              7.418843e-12  23.430566   \n",
       "                                610              4.190518e-12  21.232590   \n",
       "                                615              9.820167e-12   9.882993   \n",
       "                                620              2.259576e-11   1.441623   \n",
       "\n",
       "                                                                             \\\n",
       "                                                          min           max   \n",
       "video_name                diapo frameTimeWindow                               \n",
       "Test_pour_AFPA            1     0                4.089930e-12  4.401225e-10   \n",
       "                                5                4.340127e-12  3.715988e-10   \n",
       "                                10               1.711006e-12  2.891272e-10   \n",
       "                                15               1.168483e-12  3.714314e-10   \n",
       "                                20               3.922888e-12  3.111625e-10   \n",
       "...                                                       ...           ...   \n",
       "WIN_20210417_14_53_12_Pro 18    600              0.000000e+00  4.133286e-10   \n",
       "                                605              0.000000e+00  1.428942e-10   \n",
       "                                610              0.000000e+00  6.840137e-11   \n",
       "                                615              0.000000e+00  8.663809e-11   \n",
       "                                620              5.842690e-13  9.552716e-11   \n",
       "\n",
       "                                                pcm_loudness_sma  ...  \\\n",
       "                                                     percentil75  ...   \n",
       "video_name                diapo frameTimeWindow                   ...   \n",
       "Test_pour_AFPA            1     0                       0.055112  ...   \n",
       "                                5                       0.057011  ...   \n",
       "                                10                      0.057567  ...   \n",
       "                                15                      0.057631  ...   \n",
       "                                20                      0.058139  ...   \n",
       "...                                                          ...  ...   \n",
       "WIN_20210417_14_53_12_Pro 18    600                     0.026832  ...   \n",
       "                                605                     0.024051  ...   \n",
       "                                610                     0.021834  ...   \n",
       "                                615                     0.029513  ...   \n",
       "                                620                     0.040464  ...   \n",
       "\n",
       "                                                F0_sma_de F0env_sma_de         \\\n",
       "                                                      max  percentil75 median   \n",
       "video_name                diapo frameTimeWindow                                 \n",
       "Test_pour_AFPA            1     0                  0.0000      0.00000    0.0   \n",
       "                                5                  0.0000      0.00000    0.0   \n",
       "                                10                 0.0000      0.00000    0.0   \n",
       "                                15                 0.0000      0.00000    0.0   \n",
       "                                20                 0.0000      0.00000    0.0   \n",
       "...                                                   ...          ...    ...   \n",
       "WIN_20210417_14_53_12_Pro 18    600              116.1643      0.00000    0.0   \n",
       "                                605              117.4899      0.00000    0.0   \n",
       "                                610              114.2939      0.00000    0.0   \n",
       "                                615              125.1482      0.00000    0.0   \n",
       "                                620              126.4516      2.61295    0.0   \n",
       "\n",
       "                                                                     \\\n",
       "                                                     skew       std   \n",
       "video_name                diapo frameTimeWindow                       \n",
       "Test_pour_AFPA            1     0                0.000000  0.000000   \n",
       "                                5                0.000000  0.000000   \n",
       "                                10               0.000000  0.000000   \n",
       "                                15               0.000000  0.000000   \n",
       "                                20               0.000000  0.000000   \n",
       "...                                                   ...       ...   \n",
       "WIN_20210417_14_53_12_Pro 18    600              0.429715  2.522699   \n",
       "                                605             -1.647909  3.576282   \n",
       "                                610              1.881708  2.252460   \n",
       "                                615             -0.042469  3.112394   \n",
       "                                620             -0.539376  5.882063   \n",
       "\n",
       "                                                                       \\\n",
       "                                                percentil25      mean   \n",
       "video_name                diapo frameTimeWindow                         \n",
       "Test_pour_AFPA            1     0                  0.000000  0.000000   \n",
       "                                5                  0.000000  0.000000   \n",
       "                                10                 0.000000  0.000000   \n",
       "                                15                 0.000000  0.000000   \n",
       "                                20                 0.000000  0.000000   \n",
       "...                                                     ...       ...   \n",
       "WIN_20210417_14_53_12_Pro 18    600                0.000000 -0.060956   \n",
       "                                605                0.000000 -0.029058   \n",
       "                                610                0.000000  0.090406   \n",
       "                                615                0.000000  0.029907   \n",
       "                                620               -3.047994 -0.379740   \n",
       "\n",
       "                                                                                \n",
       "                                                  kurtosis       min       max  \n",
       "video_name                diapo frameTimeWindow                                 \n",
       "Test_pour_AFPA            1     0                -3.000000   0.00000   0.00000  \n",
       "                                5                -3.000000   0.00000   0.00000  \n",
       "                                10               -3.000000   0.00000   0.00000  \n",
       "                                15               -3.000000   0.00000   0.00000  \n",
       "                                20               -3.000000   0.00000   0.00000  \n",
       "...                                                    ...       ...       ...  \n",
       "WIN_20210417_14_53_12_Pro 18    600              11.035127 -11.59529  14.82329  \n",
       "                                605               8.227114 -19.88145  11.37295  \n",
       "                                610              18.710329 -11.04165  16.36507  \n",
       "                                615               9.872000 -16.25249  16.44305  \n",
       "                                620               1.128872 -18.76476  13.70608  \n",
       "\n",
       "[5327 rows x 468 columns]"
      ],
      "text/html": "<div>\n<style scoped>\n    .dataframe tbody tr th:only-of-type {\n        vertical-align: middle;\n    }\n\n    .dataframe tbody tr th {\n        vertical-align: top;\n    }\n\n    .dataframe thead tr th {\n        text-align: left;\n    }\n\n    .dataframe thead tr:last-of-type th {\n        text-align: right;\n    }\n</style>\n<table border=\"1\" class=\"dataframe\">\n  <thead>\n    <tr>\n      <th></th>\n      <th></th>\n      <th></th>\n      <th colspan=\"9\" halign=\"left\">pcm_intensity_sma</th>\n      <th>pcm_loudness_sma</th>\n      <th>...</th>\n      <th>F0_sma_de</th>\n      <th colspan=\"9\" halign=\"left\">F0env_sma_de</th>\n    </tr>\n    <tr>\n      <th></th>\n      <th></th>\n      <th></th>\n      <th>percentil75</th>\n      <th>median</th>\n      <th>skew</th>\n      <th>std</th>\n      <th>percentil25</th>\n      <th>mean</th>\n      <th>kurtosis</th>\n      <th>min</th>\n      <th>max</th>\n      <th>percentil75</th>\n      <th>...</th>\n      <th>max</th>\n      <th>percentil75</th>\n      <th>median</th>\n      <th>skew</th>\n      <th>std</th>\n      <th>percentil25</th>\n      <th>mean</th>\n      <th>kurtosis</th>\n      <th>min</th>\n      <th>max</th>\n    </tr>\n    <tr>\n      <th>video_name</th>\n      <th>diapo</th>\n      <th>frameTimeWindow</th>\n      <th></th>\n      <th></th>\n      <th></th>\n      <th></th>\n      <th></th>\n      <th></th>\n      <th></th>\n      <th></th>\n      <th></th>\n      <th></th>\n      <th></th>\n      <th></th>\n      <th></th>\n      <th></th>\n      <th></th>\n      <th></th>\n      <th></th>\n      <th></th>\n      <th></th>\n      <th></th>\n      <th></th>\n    </tr>\n  </thead>\n  <tbody>\n    <tr>\n      <th rowspan=\"5\" valign=\"top\">Test_pour_AFPA</th>\n      <th rowspan=\"5\" valign=\"top\">1</th>\n      <th>0</th>\n      <td>8.774428e-11</td>\n      <td>5.652821e-11</td>\n      <td>2.724692</td>\n      <td>5.158104e-11</td>\n      <td>3.385610e-11</td>\n      <td>6.831969e-11</td>\n      <td>13.638802</td>\n      <td>4.089930e-12</td>\n      <td>4.401225e-10</td>\n      <td>0.055112</td>\n      <td>...</td>\n      <td>0.0000</td>\n      <td>0.00000</td>\n      <td>0.0</td>\n      <td>0.000000</td>\n      <td>0.000000</td>\n      <td>0.000000</td>\n      <td>0.000000</td>\n      <td>-3.000000</td>\n      <td>0.00000</td>\n      <td>0.00000</td>\n    </tr>\n    <tr>\n      <th>5</th>\n      <td>1.021841e-10</td>\n      <td>6.024235e-11</td>\n      <td>1.669479</td>\n      <td>6.252104e-11</td>\n      <td>3.375239e-11</td>\n      <td>7.729215e-11</td>\n      <td>3.261232</td>\n      <td>4.340127e-12</td>\n      <td>3.715988e-10</td>\n      <td>0.057011</td>\n      <td>...</td>\n      <td>0.0000</td>\n      <td>0.00000</td>\n      <td>0.0</td>\n      <td>0.000000</td>\n      <td>0.000000</td>\n      <td>0.000000</td>\n      <td>0.000000</td>\n      <td>-3.000000</td>\n      <td>0.00000</td>\n      <td>0.00000</td>\n    </tr>\n    <tr>\n      <th>10</th>\n      <td>1.003699e-10</td>\n      <td>6.097148e-11</td>\n      <td>1.231535</td>\n      <td>5.513744e-11</td>\n      <td>2.914076e-11</td>\n      <td>7.262539e-11</td>\n      <td>1.487425</td>\n      <td>1.711006e-12</td>\n      <td>2.891272e-10</td>\n      <td>0.057567</td>\n      <td>...</td>\n      <td>0.0000</td>\n      <td>0.00000</td>\n      <td>0.0</td>\n      <td>0.000000</td>\n      <td>0.000000</td>\n      <td>0.000000</td>\n      <td>0.000000</td>\n      <td>-3.000000</td>\n      <td>0.00000</td>\n      <td>0.00000</td>\n    </tr>\n    <tr>\n      <th>15</th>\n      <td>1.096644e-10</td>\n      <td>6.800392e-11</td>\n      <td>1.635156</td>\n      <td>6.265870e-11</td>\n      <td>3.708061e-11</td>\n      <td>8.263100e-11</td>\n      <td>3.776347</td>\n      <td>1.168483e-12</td>\n      <td>3.714314e-10</td>\n      <td>0.057631</td>\n      <td>...</td>\n      <td>0.0000</td>\n      <td>0.00000</td>\n      <td>0.0</td>\n      <td>0.000000</td>\n      <td>0.000000</td>\n      <td>0.000000</td>\n      <td>0.000000</td>\n      <td>-3.000000</td>\n      <td>0.00000</td>\n      <td>0.00000</td>\n    </tr>\n    <tr>\n      <th>20</th>\n      <td>1.056265e-10</td>\n      <td>6.197396e-11</td>\n      <td>1.170682</td>\n      <td>5.422649e-11</td>\n      <td>3.360517e-11</td>\n      <td>7.523362e-11</td>\n      <td>1.322073</td>\n      <td>3.922888e-12</td>\n      <td>3.111625e-10</td>\n      <td>0.058139</td>\n      <td>...</td>\n      <td>0.0000</td>\n      <td>0.00000</td>\n      <td>0.0</td>\n      <td>0.000000</td>\n      <td>0.000000</td>\n      <td>0.000000</td>\n      <td>0.000000</td>\n      <td>-3.000000</td>\n      <td>0.00000</td>\n      <td>0.00000</td>\n    </tr>\n    <tr>\n      <th>...</th>\n      <th>...</th>\n      <th>...</th>\n      <td>...</td>\n      <td>...</td>\n      <td>...</td>\n      <td>...</td>\n      <td>...</td>\n      <td>...</td>\n      <td>...</td>\n      <td>...</td>\n      <td>...</td>\n      <td>...</td>\n      <td>...</td>\n      <td>...</td>\n      <td>...</td>\n      <td>...</td>\n      <td>...</td>\n      <td>...</td>\n      <td>...</td>\n      <td>...</td>\n      <td>...</td>\n      <td>...</td>\n      <td>...</td>\n    </tr>\n    <tr>\n      <th rowspan=\"5\" valign=\"top\">WIN_20210417_14_53_12_Pro</th>\n      <th rowspan=\"5\" valign=\"top\">18</th>\n      <th>600</th>\n      <td>1.176876e-11</td>\n      <td>6.051347e-13</td>\n      <td>6.714008</td>\n      <td>4.009258e-11</td>\n      <td>0.000000e+00</td>\n      <td>1.408690e-11</td>\n      <td>58.442977</td>\n      <td>0.000000e+00</td>\n      <td>4.133286e-10</td>\n      <td>0.026832</td>\n      <td>...</td>\n      <td>116.1643</td>\n      <td>0.00000</td>\n      <td>0.0</td>\n      <td>0.429715</td>\n      <td>2.522699</td>\n      <td>0.000000</td>\n      <td>-0.060956</td>\n      <td>11.035127</td>\n      <td>-11.59529</td>\n      <td>14.82329</td>\n    </tr>\n    <tr>\n      <th>605</th>\n      <td>6.166123e-12</td>\n      <td>1.043340e-12</td>\n      <td>4.475901</td>\n      <td>1.810855e-11</td>\n      <td>4.173127e-14</td>\n      <td>7.418843e-12</td>\n      <td>23.430566</td>\n      <td>0.000000e+00</td>\n      <td>1.428942e-10</td>\n      <td>0.024051</td>\n      <td>...</td>\n      <td>117.4899</td>\n      <td>0.00000</td>\n      <td>0.0</td>\n      <td>-1.647909</td>\n      <td>3.576282</td>\n      <td>0.000000</td>\n      <td>-0.029058</td>\n      <td>8.227114</td>\n      <td>-19.88145</td>\n      <td>11.37295</td>\n    </tr>\n    <tr>\n      <th>610</th>\n      <td>4.465477e-12</td>\n      <td>8.346684e-13</td>\n      <td>4.223178</td>\n      <td>8.823801e-12</td>\n      <td>0.000000e+00</td>\n      <td>4.190518e-12</td>\n      <td>21.232590</td>\n      <td>0.000000e+00</td>\n      <td>6.840137e-11</td>\n      <td>0.021834</td>\n      <td>...</td>\n      <td>114.2939</td>\n      <td>0.00000</td>\n      <td>0.0</td>\n      <td>1.881708</td>\n      <td>2.252460</td>\n      <td>0.000000</td>\n      <td>0.090406</td>\n      <td>18.710329</td>\n      <td>-11.04165</td>\n      <td>16.36507</td>\n    </tr>\n    <tr>\n      <th>615</th>\n      <td>1.247821e-11</td>\n      <td>5.592215e-12</td>\n      <td>2.798153</td>\n      <td>1.261866e-11</td>\n      <td>2.170155e-12</td>\n      <td>9.820167e-12</td>\n      <td>9.882993</td>\n      <td>0.000000e+00</td>\n      <td>8.663809e-11</td>\n      <td>0.029513</td>\n      <td>...</td>\n      <td>125.1482</td>\n      <td>0.00000</td>\n      <td>0.0</td>\n      <td>-0.042469</td>\n      <td>3.112394</td>\n      <td>0.000000</td>\n      <td>0.029907</td>\n      <td>9.872000</td>\n      <td>-16.25249</td>\n      <td>16.44305</td>\n    </tr>\n    <tr>\n      <th>620</th>\n      <td>3.609919e-11</td>\n      <td>1.671420e-11</td>\n      <td>1.269456</td>\n      <td>2.040373e-11</td>\n      <td>6.103491e-12</td>\n      <td>2.259576e-11</td>\n      <td>1.441623</td>\n      <td>5.842690e-13</td>\n      <td>9.552716e-11</td>\n      <td>0.040464</td>\n      <td>...</td>\n      <td>126.4516</td>\n      <td>2.61295</td>\n      <td>0.0</td>\n      <td>-0.539376</td>\n      <td>5.882063</td>\n      <td>-3.047994</td>\n      <td>-0.379740</td>\n      <td>1.128872</td>\n      <td>-18.76476</td>\n      <td>13.70608</td>\n    </tr>\n  </tbody>\n</table>\n<p>5327 rows × 468 columns</p>\n</div>"
     },
     "metadata": {},
     "execution_count": 19
    }
   ],
   "source": [
    "X"
   ]
  },
  {
   "cell_type": "markdown",
   "metadata": {},
   "source": [
    "#### En utilisant la proportion des prédictions 0, 1 et 2"
   ]
  },
  {
   "cell_type": "code",
   "execution_count": 20,
   "metadata": {},
   "outputs": [
    {
     "output_type": "execute_result",
     "data": {
      "text/plain": [
       "ypredict                                0         1     2\n",
       "video_name                diapo                          \n",
       "Test_pour_AFPA            1      0.176471  0.823529  0.00\n",
       "                          8      0.200000  0.800000  0.00\n",
       "                          9      0.000000  0.950000  0.05\n",
       "                          10     0.000000  1.000000  0.00\n",
       "                          11     0.050000  0.950000  0.00\n",
       "...                                   ...       ...   ...\n",
       "WIN_20210417_14_53_12_Pro 10     0.428571  0.571429  0.00\n",
       "                          11     0.600000  0.400000  0.00\n",
       "                          12     0.151515  0.848485  0.00\n",
       "                          17     0.571429  0.428571  0.00\n",
       "                          18     0.304348  0.695652  0.00\n",
       "\n",
       "[240 rows x 3 columns]"
      ],
      "text/html": "<div>\n<style scoped>\n    .dataframe tbody tr th:only-of-type {\n        vertical-align: middle;\n    }\n\n    .dataframe tbody tr th {\n        vertical-align: top;\n    }\n\n    .dataframe thead th {\n        text-align: right;\n    }\n</style>\n<table border=\"1\" class=\"dataframe\">\n  <thead>\n    <tr style=\"text-align: right;\">\n      <th></th>\n      <th>ypredict</th>\n      <th>0</th>\n      <th>1</th>\n      <th>2</th>\n    </tr>\n    <tr>\n      <th>video_name</th>\n      <th>diapo</th>\n      <th></th>\n      <th></th>\n      <th></th>\n    </tr>\n  </thead>\n  <tbody>\n    <tr>\n      <th rowspan=\"5\" valign=\"top\">Test_pour_AFPA</th>\n      <th>1</th>\n      <td>0.176471</td>\n      <td>0.823529</td>\n      <td>0.00</td>\n    </tr>\n    <tr>\n      <th>8</th>\n      <td>0.200000</td>\n      <td>0.800000</td>\n      <td>0.00</td>\n    </tr>\n    <tr>\n      <th>9</th>\n      <td>0.000000</td>\n      <td>0.950000</td>\n      <td>0.05</td>\n    </tr>\n    <tr>\n      <th>10</th>\n      <td>0.000000</td>\n      <td>1.000000</td>\n      <td>0.00</td>\n    </tr>\n    <tr>\n      <th>11</th>\n      <td>0.050000</td>\n      <td>0.950000</td>\n      <td>0.00</td>\n    </tr>\n    <tr>\n      <th>...</th>\n      <th>...</th>\n      <td>...</td>\n      <td>...</td>\n      <td>...</td>\n    </tr>\n    <tr>\n      <th rowspan=\"5\" valign=\"top\">WIN_20210417_14_53_12_Pro</th>\n      <th>10</th>\n      <td>0.428571</td>\n      <td>0.571429</td>\n      <td>0.00</td>\n    </tr>\n    <tr>\n      <th>11</th>\n      <td>0.600000</td>\n      <td>0.400000</td>\n      <td>0.00</td>\n    </tr>\n    <tr>\n      <th>12</th>\n      <td>0.151515</td>\n      <td>0.848485</td>\n      <td>0.00</td>\n    </tr>\n    <tr>\n      <th>17</th>\n      <td>0.571429</td>\n      <td>0.428571</td>\n      <td>0.00</td>\n    </tr>\n    <tr>\n      <th>18</th>\n      <td>0.304348</td>\n      <td>0.695652</td>\n      <td>0.00</td>\n    </tr>\n  </tbody>\n</table>\n<p>240 rows × 3 columns</p>\n</div>"
     },
     "metadata": {},
     "execution_count": 20
    }
   ],
   "source": [
    "X = df_ypredict.pivot_table(values='frameTimeWindow', columns='ypredict', index=['video_name','diapo'], aggfunc='count', fill_value=0)\n",
    "X_sum = X.sum(axis=1).values.copy()\n",
    "for col_number in range(len(X.columns)):\n",
    "    X.iloc[:,col_number] = X.iloc[:,col_number] / X_sum\n",
    "X\n",
    " "
   ]
  },
  {
   "cell_type": "code",
   "execution_count": 21,
   "metadata": {},
   "outputs": [
    {
     "output_type": "execute_result",
     "data": {
      "text/plain": [
       "                    video_name  diapo  stress\n",
       "0               Test_pour_AFPA      1     1.0\n",
       "1               Test_pour_AFPA      8     1.0\n",
       "2               Test_pour_AFPA      9     0.0\n",
       "3               Test_pour_AFPA     10     0.0\n",
       "4               Test_pour_AFPA     11     0.0\n",
       "..                         ...    ...     ...\n",
       "235  WIN_20210417_14_53_12_Pro     10     0.0\n",
       "236  WIN_20210417_14_53_12_Pro     11     0.0\n",
       "237  WIN_20210417_14_53_12_Pro     12     0.0\n",
       "238  WIN_20210417_14_53_12_Pro     17     1.0\n",
       "239  WIN_20210417_14_53_12_Pro     18     1.0\n",
       "\n",
       "[240 rows x 3 columns]"
      ],
      "text/html": "<div>\n<style scoped>\n    .dataframe tbody tr th:only-of-type {\n        vertical-align: middle;\n    }\n\n    .dataframe tbody tr th {\n        vertical-align: top;\n    }\n\n    .dataframe thead th {\n        text-align: right;\n    }\n</style>\n<table border=\"1\" class=\"dataframe\">\n  <thead>\n    <tr style=\"text-align: right;\">\n      <th></th>\n      <th>video_name</th>\n      <th>diapo</th>\n      <th>stress</th>\n    </tr>\n  </thead>\n  <tbody>\n    <tr>\n      <th>0</th>\n      <td>Test_pour_AFPA</td>\n      <td>1</td>\n      <td>1.0</td>\n    </tr>\n    <tr>\n      <th>1</th>\n      <td>Test_pour_AFPA</td>\n      <td>8</td>\n      <td>1.0</td>\n    </tr>\n    <tr>\n      <th>2</th>\n      <td>Test_pour_AFPA</td>\n      <td>9</td>\n      <td>0.0</td>\n    </tr>\n    <tr>\n      <th>3</th>\n      <td>Test_pour_AFPA</td>\n      <td>10</td>\n      <td>0.0</td>\n    </tr>\n    <tr>\n      <th>4</th>\n      <td>Test_pour_AFPA</td>\n      <td>11</td>\n      <td>0.0</td>\n    </tr>\n    <tr>\n      <th>...</th>\n      <td>...</td>\n      <td>...</td>\n      <td>...</td>\n    </tr>\n    <tr>\n      <th>235</th>\n      <td>WIN_20210417_14_53_12_Pro</td>\n      <td>10</td>\n      <td>0.0</td>\n    </tr>\n    <tr>\n      <th>236</th>\n      <td>WIN_20210417_14_53_12_Pro</td>\n      <td>11</td>\n      <td>0.0</td>\n    </tr>\n    <tr>\n      <th>237</th>\n      <td>WIN_20210417_14_53_12_Pro</td>\n      <td>12</td>\n      <td>0.0</td>\n    </tr>\n    <tr>\n      <th>238</th>\n      <td>WIN_20210417_14_53_12_Pro</td>\n      <td>17</td>\n      <td>1.0</td>\n    </tr>\n    <tr>\n      <th>239</th>\n      <td>WIN_20210417_14_53_12_Pro</td>\n      <td>18</td>\n      <td>1.0</td>\n    </tr>\n  </tbody>\n</table>\n<p>240 rows × 3 columns</p>\n</div>"
     },
     "metadata": {},
     "execution_count": 21
    }
   ],
   "source": [
    "df_annotations_stress = pd.read_csv('annotations.csv')\n",
    "df_annotations_stress = df_annotations_stress.drop(df_annotations_stress.columns[-1],axis=1).set_index('video_name').stack()\n",
    "df_annotations_stress = pd.DataFrame(df_annotations_stress).reset_index()\n",
    "df_annotations_stress.columns = ['video_name','diapo','stress']\n",
    "#df_annotations_stress = df_annotations_stress.set_index(['video_name','diapo'])\n",
    "df_annotations_stress['diapo'] = df_annotations_stress['diapo'].astype(int)\n",
    "df_annotations_stress"
   ]
  },
  {
   "cell_type": "code",
   "execution_count": 22,
   "metadata": {},
   "outputs": [],
   "source": [
    "Xy = X.merge(df_annotations_stress, how='inner', on=['video_name','diapo'])\n",
    "X = Xy.iloc[:,:-1].set_index(['video_name','diapo'])\n",
    "y = Xy.iloc[:,-1]"
   ]
  },
  {
   "cell_type": "code",
   "execution_count": 23,
   "metadata": {},
   "outputs": [
    {
     "output_type": "execute_result",
     "data": {
      "text/plain": [
       "                                        0         1     2\n",
       "video_name                diapo                          \n",
       "Test_pour_AFPA            1      0.176471  0.823529  0.00\n",
       "                          8      0.200000  0.800000  0.00\n",
       "                          9      0.000000  0.950000  0.05\n",
       "                          10     0.000000  1.000000  0.00\n",
       "                          11     0.050000  0.950000  0.00\n",
       "...                                   ...       ...   ...\n",
       "WIN_20210417_14_53_12_Pro 10     0.428571  0.571429  0.00\n",
       "                          11     0.600000  0.400000  0.00\n",
       "                          12     0.151515  0.848485  0.00\n",
       "                          17     0.571429  0.428571  0.00\n",
       "                          18     0.304348  0.695652  0.00\n",
       "\n",
       "[240 rows x 3 columns]"
      ],
      "text/html": "<div>\n<style scoped>\n    .dataframe tbody tr th:only-of-type {\n        vertical-align: middle;\n    }\n\n    .dataframe tbody tr th {\n        vertical-align: top;\n    }\n\n    .dataframe thead th {\n        text-align: right;\n    }\n</style>\n<table border=\"1\" class=\"dataframe\">\n  <thead>\n    <tr style=\"text-align: right;\">\n      <th></th>\n      <th></th>\n      <th>0</th>\n      <th>1</th>\n      <th>2</th>\n    </tr>\n    <tr>\n      <th>video_name</th>\n      <th>diapo</th>\n      <th></th>\n      <th></th>\n      <th></th>\n    </tr>\n  </thead>\n  <tbody>\n    <tr>\n      <th rowspan=\"5\" valign=\"top\">Test_pour_AFPA</th>\n      <th>1</th>\n      <td>0.176471</td>\n      <td>0.823529</td>\n      <td>0.00</td>\n    </tr>\n    <tr>\n      <th>8</th>\n      <td>0.200000</td>\n      <td>0.800000</td>\n      <td>0.00</td>\n    </tr>\n    <tr>\n      <th>9</th>\n      <td>0.000000</td>\n      <td>0.950000</td>\n      <td>0.05</td>\n    </tr>\n    <tr>\n      <th>10</th>\n      <td>0.000000</td>\n      <td>1.000000</td>\n      <td>0.00</td>\n    </tr>\n    <tr>\n      <th>11</th>\n      <td>0.050000</td>\n      <td>0.950000</td>\n      <td>0.00</td>\n    </tr>\n    <tr>\n      <th>...</th>\n      <th>...</th>\n      <td>...</td>\n      <td>...</td>\n      <td>...</td>\n    </tr>\n    <tr>\n      <th rowspan=\"5\" valign=\"top\">WIN_20210417_14_53_12_Pro</th>\n      <th>10</th>\n      <td>0.428571</td>\n      <td>0.571429</td>\n      <td>0.00</td>\n    </tr>\n    <tr>\n      <th>11</th>\n      <td>0.600000</td>\n      <td>0.400000</td>\n      <td>0.00</td>\n    </tr>\n    <tr>\n      <th>12</th>\n      <td>0.151515</td>\n      <td>0.848485</td>\n      <td>0.00</td>\n    </tr>\n    <tr>\n      <th>17</th>\n      <td>0.571429</td>\n      <td>0.428571</td>\n      <td>0.00</td>\n    </tr>\n    <tr>\n      <th>18</th>\n      <td>0.304348</td>\n      <td>0.695652</td>\n      <td>0.00</td>\n    </tr>\n  </tbody>\n</table>\n<p>240 rows × 3 columns</p>\n</div>"
     },
     "metadata": {},
     "execution_count": 23
    }
   ],
   "source": [
    "X"
   ]
  },
  {
   "cell_type": "code",
   "execution_count": 24,
   "metadata": {},
   "outputs": [],
   "source": [
    "from sklearn.linear_model import LogisticRegression\n",
    "from sklearn.neighbors import KNeighborsClassifier\n",
    "from sklearn.ensemble import RandomForestClassifier\n",
    "from sklearn.model_selection import LeaveOneGroupOut\n",
    "from sklearn.decomposition import PCA\n",
    "from sklearn.pipeline import Pipeline\n",
    "\n",
    "pca = PCA()\n",
    "pipe = Pipeline(steps=[('pca', pca), ('logistic', LogisticRegression(multi_class='multinomial', fit_intercept=True, random_state=42))])\n",
    "\n",
    "models_list = [\n",
    "                LogisticRegression(multi_class='multinomial', fit_intercept=True, random_state=42),\n",
    "                Pipeline(steps=[('pca', pca), ('logistic', LogisticRegression(multi_class='multinomial', fit_intercept=True))]),\n",
    "                KNeighborsClassifier(),\n",
    "                Pipeline(steps=[('pca', pca), ('knn', KNeighborsClassifier())]),\n",
    "                RandomForestClassifier(random_state = 42, n_jobs=-1)\n",
    "                ]\n",
    "\n",
    "parameters_list = [\n",
    "                    {'C': [0.01, 0.05, 0.1, 0.5, 1, 2, 3, 4 , 5, 10], 'class_weight' : [None, 'balanced']},\n",
    "                    {'pca__n_components': [1, 2, 3, 4],\n",
    "                        'logistic__C': [0.01, 0.05, 0.1, 0.5, 1, 2, 3, 4 , 5, 10], 'logistic__class_weight' : [None, 'balanced']},\n",
    "                    {'n_neighbors': [4, 5, 6, 7, 8, 9, 10, 11, 12,  15, 20], 'weights' : ['uniform', 'distance'], 'p': [1, 2]},\n",
    "                    {'pca__n_components': [1, 2, 3, 4],\n",
    "                        'knn__n_neighbors': [4, 5, 6, 7, 8, 9, 10, 11, 12,  15, 20], 'knn__weights' : ['uniform', 'distance'],                              'knn__p': [1, 2]},\n",
    "                    {'n_estimators': [50, 100, 150, 200], 'max_depth':[3, 4, 5, 6, 10, 15, 20], 'class_weight':[None,'balanced']}\n",
    "                    ]\n",
    "\n",
    "groups = X.reset_index()['video_name']\n",
    "loo = LeaveOneGroupOut()\n",
    "cv_loo = loo.split(X, y, groups)"
   ]
  },
  {
   "cell_type": "code",
   "execution_count": 25,
   "metadata": {},
   "outputs": [
    {
     "output_type": "stream",
     "name": "stdout",
     "text": [
      "Fitting 30 folds for each of 20 candidates, totalling 600 fits\n",
      "[Parallel(n_jobs=-1)]: Using backend LokyBackend with 8 concurrent workers.\n",
      "[Parallel(n_jobs=-1)]: Done  56 tasks      | elapsed:    0.4s\n",
      "[Parallel(n_jobs=-1)]: Done 585 out of 600 | elapsed:    3.4s remaining:    0.1s\n",
      "[Parallel(n_jobs=-1)]: Done 600 out of 600 | elapsed:    3.5s finished\n",
      "[Parallel(n_jobs=-1)]: Using backend LokyBackend with 8 concurrent workers.\n",
      "Best estimator LogisticRegression(C=0.01, multi_class='multinomial', random_state=42)\n",
      "Best results 0.342090687090687\n",
      "Best params {'C': 0.01, 'class_weight': None}\n",
      "accuracy (mean, std) 0.4666666666666667 0.24986107250941583\n",
      "f1 (mean, std) 0.342090687090687 0.26396459108072284\n",
      "balanced accuracy (mean, std) 0.45595238095238094 0.10688460940608407\n",
      "precision (mean, std) 0.2864583333333333 0.25224684779442186\n",
      "recall (mean, std) 0.4666666666666667 0.24986107250941583\n",
      "\n",
      "Fitting 30 folds for each of 80 candidates, totalling 2400 fits\n",
      "[Parallel(n_jobs=-1)]: Done  56 tasks      | elapsed:    0.4s\n",
      "[Parallel(n_jobs=-1)]: Done 2160 tasks      | elapsed:    7.6s\n",
      "[Parallel(n_jobs=-1)]: Done 2400 out of 2400 | elapsed:    8.4s finished\n",
      "[Parallel(n_jobs=-1)]: Using backend LokyBackend with 8 concurrent workers.\n",
      "Best estimator Pipeline(steps=[('pca', PCA(n_components=1)),\n",
      "                ('logistic',\n",
      "                 LogisticRegression(C=0.01, multi_class='multinomial'))])\n",
      "Best results 0.342090687090687\n",
      "Best params {'logistic__C': 0.01, 'logistic__class_weight': None, 'pca__n_components': 1}\n",
      "accuracy (mean, std) 0.4666666666666667 0.24986107250941583\n",
      "f1 (mean, std) 0.342090687090687 0.26396459108072284\n",
      "balanced accuracy (mean, std) 0.45595238095238094 0.10688460940608407\n",
      "precision (mean, std) 0.2864583333333333 0.25224684779442186\n",
      "recall (mean, std) 0.4666666666666667 0.24986107250941583\n",
      "\n",
      "Fitting 30 folds for each of 44 candidates, totalling 1320 fits\n",
      "[Parallel(n_jobs=-1)]: Done  56 tasks      | elapsed:    0.3s\n",
      "[Parallel(n_jobs=-1)]: Done 1200 tasks      | elapsed:    3.0s\n",
      "[Parallel(n_jobs=-1)]: Done 1320 out of 1320 | elapsed:    3.3s finished\n",
      "[Parallel(n_jobs=-1)]: Using backend LokyBackend with 8 concurrent workers.\n",
      "Best estimator KNeighborsClassifier()\n",
      "Best results 0.5049107142857142\n",
      "Best params {'n_neighbors': 5, 'p': 2, 'weights': 'uniform'}\n",
      "accuracy (mean, std) 0.5041666666666667 0.20021689627889938\n",
      "f1 (mean, std) 0.5049107142857142 0.22926693101143997\n",
      "balanced accuracy (mean, std) 0.5370899470899472 0.20378238534037207\n",
      "precision (mean, std) 0.6314136904761904 0.28049332460208276\n",
      "recall (mean, std) 0.5041666666666667 0.20021689627889938\n",
      "\n",
      "Fitting 30 folds for each of 176 candidates, totalling 5280 fits\n",
      "[Parallel(n_jobs=-1)]: Done  56 tasks      | elapsed:    0.3s\n",
      "[Parallel(n_jobs=-1)]: Done 2160 tasks      | elapsed:    5.0s\n",
      "[Parallel(n_jobs=-1)]: Done 5280 out of 5280 | elapsed:   11.7s finished\n",
      "[Parallel(n_jobs=-1)]: Using backend LokyBackend with 8 concurrent workers.\n",
      "Best estimator Pipeline(steps=[('pca', PCA(n_components=1)),\n",
      "                ('knn',\n",
      "                 KNeighborsClassifier(n_neighbors=7, p=1, weights='distance'))])\n",
      "Best results 0.4998270710770711\n",
      "Best params {'knn__n_neighbors': 7, 'knn__p': 1, 'knn__weights': 'distance', 'pca__n_components': 1}\n",
      "accuracy (mean, std) 0.49166666666666664 0.19878100736460938\n",
      "f1 (mean, std) 0.4998270710770711 0.2231548655854837\n",
      "balanced accuracy (mean, std) 0.5001587301587301 0.2346455918867583\n",
      "precision (mean, std) 0.6084325396825396 0.29081711726574727\n",
      "recall (mean, std) 0.49166666666666664 0.19878100736460938\n",
      "\n",
      "Fitting 30 folds for each of 56 candidates, totalling 1680 fits\n",
      "[Parallel(n_jobs=-1)]: Done  52 tasks      | elapsed:    2.5s\n",
      "[Parallel(n_jobs=-1)]: Done 232 tasks      | elapsed:   14.2s\n",
      "[Parallel(n_jobs=-1)]: Done 482 tasks      | elapsed:   29.3s\n",
      "[Parallel(n_jobs=-1)]: Done 832 tasks      | elapsed:   51.3s\n",
      "[Parallel(n_jobs=-1)]: Done 1282 tasks      | elapsed:  1.3min\n",
      "[Parallel(n_jobs=-1)]: Done 1680 out of 1680 | elapsed:  1.7min finished\n",
      "Best estimator RandomForestClassifier(max_depth=6, n_estimators=50, n_jobs=-1, random_state=42)\n",
      "Best results 0.504056707181707\n",
      "Best params {'class_weight': None, 'max_depth': 6, 'n_estimators': 50}\n",
      "accuracy (mean, std) 0.525 0.23139072294858035\n",
      "f1 (mean, std) 0.504056707181707 0.2586017139901537\n",
      "balanced accuracy (mean, std) 0.5467460317460318 0.2094439632611445\n",
      "precision (mean, std) 0.5948710317460317 0.3177773421701798\n",
      "recall (mean, std) 0.525 0.23139072294858035\n",
      "\n",
      "f1_score (weighted) 0.4868598140034656\n",
      "accuracy 0.5041666666666667\n"
     ]
    }
   ],
   "source": [
    "best_result, y_predict, y_predict_proba, result_list = runGridSearchClassifiers(X, y, cv_loo, models_list, parameters_list, \n",
    "                                                                output_predict=True, n_jobs=-1, verbose=True)"
   ]
  },
  {
   "cell_type": "code",
   "execution_count": 26,
   "metadata": {},
   "outputs": [
    {
     "output_type": "execute_result",
     "data": {
      "text/plain": [
       "{'best_estimator': KNeighborsClassifier(),\n",
       " 'best_score': 0.5049107142857142,\n",
       " 'best_params': {'n_neighbors': 5, 'p': 2, 'weights': 'uniform'},\n",
       " 'mean_test_f1_score': 0.5049107142857142,\n",
       " 'std_test_f1_score': 0.22926693101143997,\n",
       " 'mean_test_accuracy_score': 0.5041666666666667,\n",
       " 'std_test_accuracy_score': 0.20021689627889938,\n",
       " 'mean_test_balanced_accuracy_score': 0.5370899470899472,\n",
       " 'std_test_balanced_accuracy_score': 0.20378238534037207,\n",
       " 'mean_test_precision': 0.6314136904761904,\n",
       " 'std_test_precision': 0.28049332460208276,\n",
       " 'mean_test_recall': 0.5041666666666667,\n",
       " 'std_test_recall': 0.20021689627889938}"
      ]
     },
     "metadata": {},
     "execution_count": 26
    }
   ],
   "source": [
    "best_result"
   ]
  },
  {
   "cell_type": "markdown",
   "metadata": {},
   "source": [
    "#### En aggrégeant les prédicitions des diapos"
   ]
  },
  {
   "cell_type": "code",
   "execution_count": 27,
   "metadata": {},
   "outputs": [],
   "source": [
    "df_ypredict = pd.read_csv('ypredict_' + features + '_tw5' + diapo_selection + '.csv')\n",
    "df_ypredict = df_ypredict.iloc[:,1:]\n",
    "df_ypredict.columns = ['video_name','diapo','frameTimeWindow','ypredict']\n",
    "df_ypredict['ypredict'] = df_ypredict['ypredict'].astype(int)\n"
   ]
  },
  {
   "cell_type": "code",
   "execution_count": 28,
   "metadata": {},
   "outputs": [],
   "source": [
    "# Autre méthode\n",
    "X = df_ypredict.groupby(['video_name','diapo']).agg({'ypredict':['mean','min','max', 'median', 'std', percentil25, percentil75, kurtosis, skew]})"
   ]
  },
  {
   "cell_type": "code",
   "execution_count": 29,
   "metadata": {},
   "outputs": [
    {
     "output_type": "execute_result",
     "data": {
      "text/plain": [
       "                                 ypredict                           \\\n",
       "                                     mean min max median       std   \n",
       "video_name                diapo                                      \n",
       "Test_pour_AFPA            1      0.823529   0   1    1.0  0.386953   \n",
       "                          8      0.800000   0   1    1.0  0.421637   \n",
       "                          9      1.050000   1   2    1.0  0.223607   \n",
       "                          10     1.000000   1   1    1.0  0.000000   \n",
       "                          11     0.950000   0   1    1.0  0.223607   \n",
       "...                                   ...  ..  ..    ...       ...   \n",
       "WIN_20210417_14_53_12_Pro 10     0.571429   0   1    1.0  0.513553   \n",
       "                          11     0.400000   0   1    0.0  0.502625   \n",
       "                          12     0.848485   0   1    1.0  0.364110   \n",
       "                          17     0.428571   0   1    0.0  0.534522   \n",
       "                          18     0.695652   0   1    1.0  0.470472   \n",
       "\n",
       "                                                                              \n",
       "                                percentil25 percentil75   kurtosis      skew  \n",
       "video_name                diapo                                               \n",
       "Test_pour_AFPA            1             1.0         1.0   0.880952 -1.697337  \n",
       "                          8             1.0         1.0   0.250000 -1.500000  \n",
       "                          9             1.0         1.0  15.052632  4.129483  \n",
       "                          10            1.0         1.0  -3.000000  0.000000  \n",
       "                          11            1.0         1.0  15.052632 -4.129483  \n",
       "...                                     ...         ...        ...       ...  \n",
       "WIN_20210417_14_53_12_Pro 10            0.0         1.0  -1.916667 -0.288675  \n",
       "                          11            0.0         1.0  -1.833333  0.408248  \n",
       "                          12            1.0         1.0   1.778571 -1.943855  \n",
       "                          17            0.0         1.0  -1.916667  0.288675  \n",
       "                          18            0.0         1.0  -1.276786 -0.850420  \n",
       "\n",
       "[240 rows x 9 columns]"
      ],
      "text/html": "<div>\n<style scoped>\n    .dataframe tbody tr th:only-of-type {\n        vertical-align: middle;\n    }\n\n    .dataframe tbody tr th {\n        vertical-align: top;\n    }\n\n    .dataframe thead tr th {\n        text-align: left;\n    }\n\n    .dataframe thead tr:last-of-type th {\n        text-align: right;\n    }\n</style>\n<table border=\"1\" class=\"dataframe\">\n  <thead>\n    <tr>\n      <th></th>\n      <th></th>\n      <th colspan=\"9\" halign=\"left\">ypredict</th>\n    </tr>\n    <tr>\n      <th></th>\n      <th></th>\n      <th>mean</th>\n      <th>min</th>\n      <th>max</th>\n      <th>median</th>\n      <th>std</th>\n      <th>percentil25</th>\n      <th>percentil75</th>\n      <th>kurtosis</th>\n      <th>skew</th>\n    </tr>\n    <tr>\n      <th>video_name</th>\n      <th>diapo</th>\n      <th></th>\n      <th></th>\n      <th></th>\n      <th></th>\n      <th></th>\n      <th></th>\n      <th></th>\n      <th></th>\n      <th></th>\n    </tr>\n  </thead>\n  <tbody>\n    <tr>\n      <th rowspan=\"5\" valign=\"top\">Test_pour_AFPA</th>\n      <th>1</th>\n      <td>0.823529</td>\n      <td>0</td>\n      <td>1</td>\n      <td>1.0</td>\n      <td>0.386953</td>\n      <td>1.0</td>\n      <td>1.0</td>\n      <td>0.880952</td>\n      <td>-1.697337</td>\n    </tr>\n    <tr>\n      <th>8</th>\n      <td>0.800000</td>\n      <td>0</td>\n      <td>1</td>\n      <td>1.0</td>\n      <td>0.421637</td>\n      <td>1.0</td>\n      <td>1.0</td>\n      <td>0.250000</td>\n      <td>-1.500000</td>\n    </tr>\n    <tr>\n      <th>9</th>\n      <td>1.050000</td>\n      <td>1</td>\n      <td>2</td>\n      <td>1.0</td>\n      <td>0.223607</td>\n      <td>1.0</td>\n      <td>1.0</td>\n      <td>15.052632</td>\n      <td>4.129483</td>\n    </tr>\n    <tr>\n      <th>10</th>\n      <td>1.000000</td>\n      <td>1</td>\n      <td>1</td>\n      <td>1.0</td>\n      <td>0.000000</td>\n      <td>1.0</td>\n      <td>1.0</td>\n      <td>-3.000000</td>\n      <td>0.000000</td>\n    </tr>\n    <tr>\n      <th>11</th>\n      <td>0.950000</td>\n      <td>0</td>\n      <td>1</td>\n      <td>1.0</td>\n      <td>0.223607</td>\n      <td>1.0</td>\n      <td>1.0</td>\n      <td>15.052632</td>\n      <td>-4.129483</td>\n    </tr>\n    <tr>\n      <th>...</th>\n      <th>...</th>\n      <td>...</td>\n      <td>...</td>\n      <td>...</td>\n      <td>...</td>\n      <td>...</td>\n      <td>...</td>\n      <td>...</td>\n      <td>...</td>\n      <td>...</td>\n    </tr>\n    <tr>\n      <th rowspan=\"5\" valign=\"top\">WIN_20210417_14_53_12_Pro</th>\n      <th>10</th>\n      <td>0.571429</td>\n      <td>0</td>\n      <td>1</td>\n      <td>1.0</td>\n      <td>0.513553</td>\n      <td>0.0</td>\n      <td>1.0</td>\n      <td>-1.916667</td>\n      <td>-0.288675</td>\n    </tr>\n    <tr>\n      <th>11</th>\n      <td>0.400000</td>\n      <td>0</td>\n      <td>1</td>\n      <td>0.0</td>\n      <td>0.502625</td>\n      <td>0.0</td>\n      <td>1.0</td>\n      <td>-1.833333</td>\n      <td>0.408248</td>\n    </tr>\n    <tr>\n      <th>12</th>\n      <td>0.848485</td>\n      <td>0</td>\n      <td>1</td>\n      <td>1.0</td>\n      <td>0.364110</td>\n      <td>1.0</td>\n      <td>1.0</td>\n      <td>1.778571</td>\n      <td>-1.943855</td>\n    </tr>\n    <tr>\n      <th>17</th>\n      <td>0.428571</td>\n      <td>0</td>\n      <td>1</td>\n      <td>0.0</td>\n      <td>0.534522</td>\n      <td>0.0</td>\n      <td>1.0</td>\n      <td>-1.916667</td>\n      <td>0.288675</td>\n    </tr>\n    <tr>\n      <th>18</th>\n      <td>0.695652</td>\n      <td>0</td>\n      <td>1</td>\n      <td>1.0</td>\n      <td>0.470472</td>\n      <td>0.0</td>\n      <td>1.0</td>\n      <td>-1.276786</td>\n      <td>-0.850420</td>\n    </tr>\n  </tbody>\n</table>\n<p>240 rows × 9 columns</p>\n</div>"
     },
     "metadata": {},
     "execution_count": 29
    }
   ],
   "source": [
    "X"
   ]
  },
  {
   "cell_type": "code",
   "execution_count": 30,
   "metadata": {},
   "outputs": [],
   "source": [
    "groups = X.reset_index()['video_name']\n",
    "loo = LeaveOneGroupOut()\n",
    "cv_loo = loo.split(X, y, groups)"
   ]
  },
  {
   "cell_type": "code",
   "execution_count": 31,
   "metadata": {},
   "outputs": [
    {
     "output_type": "stream",
     "name": "stdout",
     "text": [
      "Fitting 30 folds for each of 20 candidates, totalling 600 fits\n",
      "[Parallel(n_jobs=-1)]: Using backend LokyBackend with 8 concurrent workers.\n",
      "[Parallel(n_jobs=-1)]: Done  56 tasks      | elapsed:    0.6s\n",
      "[Parallel(n_jobs=-1)]: Done 585 out of 600 | elapsed:    6.3s remaining:    0.2s\n",
      "[Parallel(n_jobs=-1)]: Done 600 out of 600 | elapsed:    6.4s finished\n",
      "[Parallel(n_jobs=-1)]: Using backend LokyBackend with 8 concurrent workers.\n",
      "Best estimator LogisticRegression(C=4, multi_class='multinomial', random_state=42)\n",
      "Best results 0.4583969271469271\n",
      "Best params {'C': 4, 'class_weight': None}\n",
      "accuracy (mean, std) 0.4708333333333333 0.2033145483125975\n",
      "f1 (mean, std) 0.4583969271469271 0.22590056284071497\n",
      "balanced accuracy (mean, std) 0.49503968253968256 0.18076355105014674\n",
      "precision (mean, std) 0.568531746031746 0.3019076277002293\n",
      "recall (mean, std) 0.4708333333333333 0.2033145483125975\n",
      "\n",
      "Fitting 30 folds for each of 80 candidates, totalling 2400 fits\n",
      "[Parallel(n_jobs=-1)]: Done  56 tasks      | elapsed:    0.5s\n",
      "[Parallel(n_jobs=-1)]: Done 656 tasks      | elapsed:    4.0s\n",
      "[Parallel(n_jobs=-1)]: Done 1656 tasks      | elapsed:   12.0s\n",
      "[Parallel(n_jobs=-1)]: Done 2400 out of 2400 | elapsed:   18.0s finished\n",
      "[Parallel(n_jobs=-1)]: Using backend LokyBackend with 8 concurrent workers.\n",
      "Best estimator Pipeline(steps=[('pca', PCA(n_components=4)),\n",
      "                ('logistic',\n",
      "                 LogisticRegression(C=2, multi_class='multinomial'))])\n",
      "Best results 0.3588473100973101\n",
      "Best params {'logistic__C': 2, 'logistic__class_weight': None, 'pca__n_components': 4}\n",
      "accuracy (mean, std) 0.37916666666666665 0.1752478403734424\n",
      "f1 (mean, std) 0.3588473100973101 0.19432611354523902\n",
      "balanced accuracy (mean, std) 0.3946825396825397 0.17284706706098538\n",
      "precision (mean, std) 0.4442757936507936 0.29103962788569276\n",
      "recall (mean, std) 0.37916666666666665 0.1752478403734424\n",
      "\n",
      "Fitting 30 folds for each of 44 candidates, totalling 1320 fits\n",
      "[Parallel(n_jobs=-1)]: Done  56 tasks      | elapsed:    0.3s\n",
      "[Parallel(n_jobs=-1)]: Done 1200 tasks      | elapsed:    3.3s\n",
      "[Parallel(n_jobs=-1)]: Done 1320 out of 1320 | elapsed:    3.6s finished\n",
      "[Parallel(n_jobs=-1)]: Using backend LokyBackend with 8 concurrent workers.\n",
      "Best estimator KNeighborsClassifier(n_neighbors=7)\n",
      "Best results 0.45506021756021753\n",
      "Best params {'n_neighbors': 7, 'p': 2, 'weights': 'uniform'}\n",
      "accuracy (mean, std) 0.4583333333333333 0.19184774055368894\n",
      "f1 (mean, std) 0.45506021756021753 0.22482069830818868\n",
      "balanced accuracy (mean, std) 0.4628439153439154 0.19730302080905948\n",
      "precision (mean, std) 0.5729067460317461 0.2835957593563402\n",
      "recall (mean, std) 0.4583333333333333 0.19184774055368894\n",
      "\n",
      "Fitting 30 folds for each of 176 candidates, totalling 5280 fits\n",
      "[Parallel(n_jobs=-1)]: Done  56 tasks      | elapsed:    0.4s\n",
      "[Parallel(n_jobs=-1)]: Done 2160 tasks      | elapsed:    6.4s\n",
      "[Parallel(n_jobs=-1)]: Done 5280 out of 5280 | elapsed:   15.1s finished\n",
      "[Parallel(n_jobs=-1)]: Using backend LokyBackend with 8 concurrent workers.\n",
      "Best estimator Pipeline(steps=[('pca', PCA(n_components=4)),\n",
      "                ('knn',\n",
      "                 KNeighborsClassifier(n_neighbors=9, weights='distance'))])\n",
      "Best results 0.5105066923816923\n",
      "Best params {'knn__n_neighbors': 9, 'knn__p': 2, 'knn__weights': 'distance', 'pca__n_components': 4}\n",
      "accuracy (mean, std) 0.5 0.18257418583505536\n",
      "f1 (mean, std) 0.5105066923816923 0.20498075270089106\n",
      "balanced accuracy (mean, std) 0.49427248677248675 0.20013975032987208\n",
      "precision (mean, std) 0.6111855158730158 0.2507258574113345\n",
      "recall (mean, std) 0.5 0.18257418583505536\n",
      "\n",
      "Fitting 30 folds for each of 56 candidates, totalling 1680 fits\n",
      "[Parallel(n_jobs=-1)]: Done  52 tasks      | elapsed:    2.4s\n",
      "[Parallel(n_jobs=-1)]: Done 232 tasks      | elapsed:   14.3s\n",
      "[Parallel(n_jobs=-1)]: Done 482 tasks      | elapsed:   30.1s\n",
      "[Parallel(n_jobs=-1)]: Done 832 tasks      | elapsed:   52.9s\n",
      "[Parallel(n_jobs=-1)]: Done 1282 tasks      | elapsed:  1.3min\n",
      "[Parallel(n_jobs=-1)]: Done 1680 out of 1680 | elapsed:  1.8min finished\n",
      "Best estimator RandomForestClassifier(max_depth=10, n_jobs=-1, random_state=42)\n",
      "Best results 0.46713945776445776\n",
      "Best params {'class_weight': None, 'max_depth': 10, 'n_estimators': 100}\n",
      "accuracy (mean, std) 0.4666666666666667 0.19614337159899697\n",
      "f1 (mean, std) 0.46713945776445776 0.22249825455895955\n",
      "balanced accuracy (mean, std) 0.5093253968253969 0.20347953075959663\n",
      "precision (mean, std) 0.587013888888889 0.3087236799647667\n",
      "recall (mean, std) 0.4666666666666667 0.19614337159899697\n",
      "\n",
      "f1_score (weighted) 0.4429867678778829\n",
      "accuracy 0.4583333333333333\n"
     ]
    },
    {
     "output_type": "execute_result",
     "data": {
      "text/plain": [
       "{'best_estimator': Pipeline(steps=[('pca', PCA(n_components=4)),\n",
       "                 ('knn',\n",
       "                  KNeighborsClassifier(n_neighbors=9, weights='distance'))]),\n",
       " 'best_score': 0.5105066923816923,\n",
       " 'best_params': {'knn__n_neighbors': 9,\n",
       "  'knn__p': 2,\n",
       "  'knn__weights': 'distance',\n",
       "  'pca__n_components': 4},\n",
       " 'mean_test_f1_score': 0.5105066923816923,\n",
       " 'std_test_f1_score': 0.20498075270089106,\n",
       " 'mean_test_accuracy_score': 0.5,\n",
       " 'std_test_accuracy_score': 0.18257418583505536,\n",
       " 'mean_test_balanced_accuracy_score': 0.49427248677248675,\n",
       " 'std_test_balanced_accuracy_score': 0.20013975032987208,\n",
       " 'mean_test_precision': 0.6111855158730158,\n",
       " 'std_test_precision': 0.2507258574113345,\n",
       " 'mean_test_recall': 0.5,\n",
       " 'std_test_recall': 0.18257418583505536}"
      ]
     },
     "metadata": {},
     "execution_count": 31
    }
   ],
   "source": [
    "best_result, y_predict,y_predict_proba, result_list = runGridSearchClassifiers(X, y, cv_loo, models_list, parameters_list, \n",
    "                                                                output_predict=True, n_jobs=-1, verbose=True)\n",
    "best_result"
   ]
  },
  {
   "cell_type": "code",
   "execution_count": 32,
   "metadata": {},
   "outputs": [
    {
     "output_type": "execute_result",
     "data": {
      "text/plain": [
       "{'best_estimator': Pipeline(steps=[('pca', PCA(n_components=4)),\n",
       "                 ('knn',\n",
       "                  KNeighborsClassifier(n_neighbors=9, weights='distance'))]),\n",
       " 'best_score': 0.5105066923816923,\n",
       " 'best_params': {'knn__n_neighbors': 9,\n",
       "  'knn__p': 2,\n",
       "  'knn__weights': 'distance',\n",
       "  'pca__n_components': 4},\n",
       " 'mean_test_f1_score': 0.5105066923816923,\n",
       " 'std_test_f1_score': 0.20498075270089106,\n",
       " 'mean_test_accuracy_score': 0.5,\n",
       " 'std_test_accuracy_score': 0.18257418583505536,\n",
       " 'mean_test_balanced_accuracy_score': 0.49427248677248675,\n",
       " 'std_test_balanced_accuracy_score': 0.20013975032987208,\n",
       " 'mean_test_precision': 0.6111855158730158,\n",
       " 'std_test_precision': 0.2507258574113345,\n",
       " 'mean_test_recall': 0.5,\n",
       " 'std_test_recall': 0.18257418583505536}"
      ]
     },
     "metadata": {},
     "execution_count": 32
    }
   ],
   "source": [
    "best_result"
   ]
  },
  {
   "cell_type": "code",
   "execution_count": 33,
   "metadata": {},
   "outputs": [
    {
     "output_type": "execute_result",
     "data": {
      "text/plain": [
       "array([[47, 50,  4,  0],\n",
       "       [42, 63,  7,  1],\n",
       "       [ 6, 19,  0,  0],\n",
       "       [ 0,  1,  0,  0]])"
      ]
     },
     "metadata": {},
     "execution_count": 33
    }
   ],
   "source": [
    "from sklearn.metrics import confusion_matrix\n",
    "confusion_matrix(y, y_predict)"
   ]
  },
  {
   "cell_type": "code",
   "execution_count": 34,
   "metadata": {},
   "outputs": [],
   "source": [
    "# Saving predictions\n",
    "df_ypredict = pd.concat([X.reset_index()[['video_name','diapo']],\n",
    "                        pd.DataFrame(y_predict, columns=['ypredict'])],axis=1)\n",
    "df_ypredict.to_csv('ypredict_' + features + '_tw5_diapo' + diapo_selection + '.csv')"
   ]
  },
  {
   "cell_type": "code",
   "execution_count": 35,
   "metadata": {},
   "outputs": [
    {
     "output_type": "execute_result",
     "data": {
      "text/plain": [
       "                (video_name, )  (diapo, )  ypredict\n",
       "0               Test_pour_AFPA          1       1.0\n",
       "1               Test_pour_AFPA          8       1.0\n",
       "2               Test_pour_AFPA          9       1.0\n",
       "3               Test_pour_AFPA         10       0.0\n",
       "4               Test_pour_AFPA         11       1.0\n",
       "..                         ...        ...       ...\n",
       "235  WIN_20210417_14_53_12_Pro         10       1.0\n",
       "236  WIN_20210417_14_53_12_Pro         11       0.0\n",
       "237  WIN_20210417_14_53_12_Pro         12       1.0\n",
       "238  WIN_20210417_14_53_12_Pro         17       0.0\n",
       "239  WIN_20210417_14_53_12_Pro         18       1.0\n",
       "\n",
       "[240 rows x 3 columns]"
      ],
      "text/html": "<div>\n<style scoped>\n    .dataframe tbody tr th:only-of-type {\n        vertical-align: middle;\n    }\n\n    .dataframe tbody tr th {\n        vertical-align: top;\n    }\n\n    .dataframe thead th {\n        text-align: right;\n    }\n</style>\n<table border=\"1\" class=\"dataframe\">\n  <thead>\n    <tr style=\"text-align: right;\">\n      <th></th>\n      <th>(video_name, )</th>\n      <th>(diapo, )</th>\n      <th>ypredict</th>\n    </tr>\n  </thead>\n  <tbody>\n    <tr>\n      <th>0</th>\n      <td>Test_pour_AFPA</td>\n      <td>1</td>\n      <td>1.0</td>\n    </tr>\n    <tr>\n      <th>1</th>\n      <td>Test_pour_AFPA</td>\n      <td>8</td>\n      <td>1.0</td>\n    </tr>\n    <tr>\n      <th>2</th>\n      <td>Test_pour_AFPA</td>\n      <td>9</td>\n      <td>1.0</td>\n    </tr>\n    <tr>\n      <th>3</th>\n      <td>Test_pour_AFPA</td>\n      <td>10</td>\n      <td>0.0</td>\n    </tr>\n    <tr>\n      <th>4</th>\n      <td>Test_pour_AFPA</td>\n      <td>11</td>\n      <td>1.0</td>\n    </tr>\n    <tr>\n      <th>...</th>\n      <td>...</td>\n      <td>...</td>\n      <td>...</td>\n    </tr>\n    <tr>\n      <th>235</th>\n      <td>WIN_20210417_14_53_12_Pro</td>\n      <td>10</td>\n      <td>1.0</td>\n    </tr>\n    <tr>\n      <th>236</th>\n      <td>WIN_20210417_14_53_12_Pro</td>\n      <td>11</td>\n      <td>0.0</td>\n    </tr>\n    <tr>\n      <th>237</th>\n      <td>WIN_20210417_14_53_12_Pro</td>\n      <td>12</td>\n      <td>1.0</td>\n    </tr>\n    <tr>\n      <th>238</th>\n      <td>WIN_20210417_14_53_12_Pro</td>\n      <td>17</td>\n      <td>0.0</td>\n    </tr>\n    <tr>\n      <th>239</th>\n      <td>WIN_20210417_14_53_12_Pro</td>\n      <td>18</td>\n      <td>1.0</td>\n    </tr>\n  </tbody>\n</table>\n<p>240 rows × 3 columns</p>\n</div>"
     },
     "metadata": {},
     "execution_count": 35
    }
   ],
   "source": [
    "df_ypredict"
   ]
  },
  {
   "cell_type": "markdown",
   "metadata": {},
   "source": [
    "## Stress global"
   ]
  },
  {
   "cell_type": "markdown",
   "metadata": {},
   "source": [
    "### En utilisant le stress prédit des diapos"
   ]
  },
  {
   "cell_type": "code",
   "execution_count": 36,
   "metadata": {},
   "outputs": [],
   "source": [
    "df_ypredict = pd.read_csv('ypredict_' + features + '_tw5_diapo' + diapo_selection + '.csv')\n",
    "df_ypredict = df_ypredict.iloc[:,1:]\n",
    "df_ypredict.columns = ['video_name','diapo','ypredict']\n",
    "ypredict_stress_diapo = df_ypredict.pivot_table(values='ypredict', columns='diapo',index='video_name',aggfunc='mean')\n"
   ]
  },
  {
   "cell_type": "code",
   "execution_count": 37,
   "metadata": {},
   "outputs": [
    {
     "output_type": "execute_result",
     "data": {
      "text/plain": [
       "diapo                             1    8    9    10   11   12   17   18\n",
       "video_name                                                             \n",
       "Test_pour_AFPA                   1.0  1.0  1.0  0.0  1.0  0.0  0.0  1.0\n",
       "Video_1                          1.0  0.0  0.0  0.0  1.0  1.0  0.0  1.0\n",
       "WIN_20210323_19_17_40_Pro        1.0  0.0  1.0  0.0  0.0  1.0  0.0  1.0\n",
       "WIN_20210329_10_16_02_Pro        1.0  0.0  1.0  0.0  1.0  2.0  1.0  0.0\n",
       "WIN_20210330_13_10_29_Pro        0.0  0.0  1.0  0.0  1.0  1.0  1.0  0.0\n",
       "WIN_20210331_21_22_52_Pro        0.0  0.0  0.0  0.0  1.0  1.0  0.0  1.0\n",
       "WIN_20210402_14_27_50_Pro        2.0  1.0  1.0  1.0  1.0  1.0  0.0  0.0\n",
       "WIN_20210402_19_04_53_Pro        1.0  0.0  1.0  1.0  1.0  1.0  2.0  1.0\n",
       "WIN_20210403_18_49_15_Pro        0.0  0.0  0.0  0.0  3.0  1.0  1.0  1.0\n",
       "WIN_20210404_10_58_27_Pro        0.0  0.0  1.0  1.0  2.0  1.0  1.0  1.0\n",
       "WIN_20210404_21_41_12_Pro        0.0  0.0  0.0  0.0  0.0  1.0  1.0  0.0\n",
       "WIN_20210405_15_09_16_Pro        1.0  0.0  0.0  1.0  2.0  1.0  0.0  1.0\n",
       "WIN_20210406_15_06_15_Pro        0.0  1.0  1.0  0.0  0.0  0.0  0.0  0.0\n",
       "WIN_20210406_18_35_52_Pro        0.0  0.0  1.0  0.0  1.0  0.0  0.0  1.0\n",
       "WIN_20210406_18_49_10_Pro        1.0  1.0  1.0  1.0  1.0  1.0  2.0  0.0\n",
       "WIN_20210406_21_05_52_Pro        0.0  0.0  1.0  1.0  0.0  1.0  1.0  0.0\n",
       "WIN_20210407_09_04_05_Pro        1.0  0.0  0.0  0.0  1.0  1.0  1.0  1.0\n",
       "WIN_20210407_14_54_56_Pro_edit2  1.0  0.0  0.0  1.0  1.0  0.0  0.0  1.0\n",
       "WIN_20210408_11_48_58_Pro        0.0  1.0  0.0  0.0  0.0  0.0  0.0  0.0\n",
       "WIN_20210408_14_00_44_Pro        1.0  0.0  1.0  1.0  0.0  2.0  2.0  2.0\n",
       "WIN_20210408_14_02_19_Pro        1.0  0.0  1.0  1.0  1.0  0.0  1.0  0.0\n",
       "WIN_20210408_14_11_32_Pro        1.0  1.0  1.0  1.0  1.0  1.0  1.0  1.0\n",
       "WIN_20210408_15_20_51_Pro        0.0  2.0  0.0  1.0  0.0  0.0  1.0  1.0\n",
       "WIN_20210408_16_04_32_Pro        0.0  1.0  1.0  1.0  0.0  1.0  1.0  2.0\n",
       "WIN_20210409_10_26_11_Pro        0.0  1.0  1.0  1.0  0.0  0.0  0.0  0.0\n",
       "WIN_20210413_15_38_01_Pro        1.0  0.0  0.0  1.0  0.0  1.0  0.0  1.0\n",
       "WIN_20210414_06_24_52_Pro        1.0  1.0  1.0  1.0  1.0  1.0  1.0  1.0\n",
       "WIN_20210415_15_41_24_Pro        1.0  0.0  1.0  1.0  0.0  1.0  1.0  1.0\n",
       "WIN_20210416_08_06_54_Pro        1.0  1.0  1.0  1.0  1.0  1.0  1.0  1.0\n",
       "WIN_20210417_14_53_12_Pro        1.0  1.0  1.0  1.0  0.0  1.0  0.0  1.0"
      ],
      "text/html": "<div>\n<style scoped>\n    .dataframe tbody tr th:only-of-type {\n        vertical-align: middle;\n    }\n\n    .dataframe tbody tr th {\n        vertical-align: top;\n    }\n\n    .dataframe thead th {\n        text-align: right;\n    }\n</style>\n<table border=\"1\" class=\"dataframe\">\n  <thead>\n    <tr style=\"text-align: right;\">\n      <th>diapo</th>\n      <th>1</th>\n      <th>8</th>\n      <th>9</th>\n      <th>10</th>\n      <th>11</th>\n      <th>12</th>\n      <th>17</th>\n      <th>18</th>\n    </tr>\n    <tr>\n      <th>video_name</th>\n      <th></th>\n      <th></th>\n      <th></th>\n      <th></th>\n      <th></th>\n      <th></th>\n      <th></th>\n      <th></th>\n    </tr>\n  </thead>\n  <tbody>\n    <tr>\n      <th>Test_pour_AFPA</th>\n      <td>1.0</td>\n      <td>1.0</td>\n      <td>1.0</td>\n      <td>0.0</td>\n      <td>1.0</td>\n      <td>0.0</td>\n      <td>0.0</td>\n      <td>1.0</td>\n    </tr>\n    <tr>\n      <th>Video_1</th>\n      <td>1.0</td>\n      <td>0.0</td>\n      <td>0.0</td>\n      <td>0.0</td>\n      <td>1.0</td>\n      <td>1.0</td>\n      <td>0.0</td>\n      <td>1.0</td>\n    </tr>\n    <tr>\n      <th>WIN_20210323_19_17_40_Pro</th>\n      <td>1.0</td>\n      <td>0.0</td>\n      <td>1.0</td>\n      <td>0.0</td>\n      <td>0.0</td>\n      <td>1.0</td>\n      <td>0.0</td>\n      <td>1.0</td>\n    </tr>\n    <tr>\n      <th>WIN_20210329_10_16_02_Pro</th>\n      <td>1.0</td>\n      <td>0.0</td>\n      <td>1.0</td>\n      <td>0.0</td>\n      <td>1.0</td>\n      <td>2.0</td>\n      <td>1.0</td>\n      <td>0.0</td>\n    </tr>\n    <tr>\n      <th>WIN_20210330_13_10_29_Pro</th>\n      <td>0.0</td>\n      <td>0.0</td>\n      <td>1.0</td>\n      <td>0.0</td>\n      <td>1.0</td>\n      <td>1.0</td>\n      <td>1.0</td>\n      <td>0.0</td>\n    </tr>\n    <tr>\n      <th>WIN_20210331_21_22_52_Pro</th>\n      <td>0.0</td>\n      <td>0.0</td>\n      <td>0.0</td>\n      <td>0.0</td>\n      <td>1.0</td>\n      <td>1.0</td>\n      <td>0.0</td>\n      <td>1.0</td>\n    </tr>\n    <tr>\n      <th>WIN_20210402_14_27_50_Pro</th>\n      <td>2.0</td>\n      <td>1.0</td>\n      <td>1.0</td>\n      <td>1.0</td>\n      <td>1.0</td>\n      <td>1.0</td>\n      <td>0.0</td>\n      <td>0.0</td>\n    </tr>\n    <tr>\n      <th>WIN_20210402_19_04_53_Pro</th>\n      <td>1.0</td>\n      <td>0.0</td>\n      <td>1.0</td>\n      <td>1.0</td>\n      <td>1.0</td>\n      <td>1.0</td>\n      <td>2.0</td>\n      <td>1.0</td>\n    </tr>\n    <tr>\n      <th>WIN_20210403_18_49_15_Pro</th>\n      <td>0.0</td>\n      <td>0.0</td>\n      <td>0.0</td>\n      <td>0.0</td>\n      <td>3.0</td>\n      <td>1.0</td>\n      <td>1.0</td>\n      <td>1.0</td>\n    </tr>\n    <tr>\n      <th>WIN_20210404_10_58_27_Pro</th>\n      <td>0.0</td>\n      <td>0.0</td>\n      <td>1.0</td>\n      <td>1.0</td>\n      <td>2.0</td>\n      <td>1.0</td>\n      <td>1.0</td>\n      <td>1.0</td>\n    </tr>\n    <tr>\n      <th>WIN_20210404_21_41_12_Pro</th>\n      <td>0.0</td>\n      <td>0.0</td>\n      <td>0.0</td>\n      <td>0.0</td>\n      <td>0.0</td>\n      <td>1.0</td>\n      <td>1.0</td>\n      <td>0.0</td>\n    </tr>\n    <tr>\n      <th>WIN_20210405_15_09_16_Pro</th>\n      <td>1.0</td>\n      <td>0.0</td>\n      <td>0.0</td>\n      <td>1.0</td>\n      <td>2.0</td>\n      <td>1.0</td>\n      <td>0.0</td>\n      <td>1.0</td>\n    </tr>\n    <tr>\n      <th>WIN_20210406_15_06_15_Pro</th>\n      <td>0.0</td>\n      <td>1.0</td>\n      <td>1.0</td>\n      <td>0.0</td>\n      <td>0.0</td>\n      <td>0.0</td>\n      <td>0.0</td>\n      <td>0.0</td>\n    </tr>\n    <tr>\n      <th>WIN_20210406_18_35_52_Pro</th>\n      <td>0.0</td>\n      <td>0.0</td>\n      <td>1.0</td>\n      <td>0.0</td>\n      <td>1.0</td>\n      <td>0.0</td>\n      <td>0.0</td>\n      <td>1.0</td>\n    </tr>\n    <tr>\n      <th>WIN_20210406_18_49_10_Pro</th>\n      <td>1.0</td>\n      <td>1.0</td>\n      <td>1.0</td>\n      <td>1.0</td>\n      <td>1.0</td>\n      <td>1.0</td>\n      <td>2.0</td>\n      <td>0.0</td>\n    </tr>\n    <tr>\n      <th>WIN_20210406_21_05_52_Pro</th>\n      <td>0.0</td>\n      <td>0.0</td>\n      <td>1.0</td>\n      <td>1.0</td>\n      <td>0.0</td>\n      <td>1.0</td>\n      <td>1.0</td>\n      <td>0.0</td>\n    </tr>\n    <tr>\n      <th>WIN_20210407_09_04_05_Pro</th>\n      <td>1.0</td>\n      <td>0.0</td>\n      <td>0.0</td>\n      <td>0.0</td>\n      <td>1.0</td>\n      <td>1.0</td>\n      <td>1.0</td>\n      <td>1.0</td>\n    </tr>\n    <tr>\n      <th>WIN_20210407_14_54_56_Pro_edit2</th>\n      <td>1.0</td>\n      <td>0.0</td>\n      <td>0.0</td>\n      <td>1.0</td>\n      <td>1.0</td>\n      <td>0.0</td>\n      <td>0.0</td>\n      <td>1.0</td>\n    </tr>\n    <tr>\n      <th>WIN_20210408_11_48_58_Pro</th>\n      <td>0.0</td>\n      <td>1.0</td>\n      <td>0.0</td>\n      <td>0.0</td>\n      <td>0.0</td>\n      <td>0.0</td>\n      <td>0.0</td>\n      <td>0.0</td>\n    </tr>\n    <tr>\n      <th>WIN_20210408_14_00_44_Pro</th>\n      <td>1.0</td>\n      <td>0.0</td>\n      <td>1.0</td>\n      <td>1.0</td>\n      <td>0.0</td>\n      <td>2.0</td>\n      <td>2.0</td>\n      <td>2.0</td>\n    </tr>\n    <tr>\n      <th>WIN_20210408_14_02_19_Pro</th>\n      <td>1.0</td>\n      <td>0.0</td>\n      <td>1.0</td>\n      <td>1.0</td>\n      <td>1.0</td>\n      <td>0.0</td>\n      <td>1.0</td>\n      <td>0.0</td>\n    </tr>\n    <tr>\n      <th>WIN_20210408_14_11_32_Pro</th>\n      <td>1.0</td>\n      <td>1.0</td>\n      <td>1.0</td>\n      <td>1.0</td>\n      <td>1.0</td>\n      <td>1.0</td>\n      <td>1.0</td>\n      <td>1.0</td>\n    </tr>\n    <tr>\n      <th>WIN_20210408_15_20_51_Pro</th>\n      <td>0.0</td>\n      <td>2.0</td>\n      <td>0.0</td>\n      <td>1.0</td>\n      <td>0.0</td>\n      <td>0.0</td>\n      <td>1.0</td>\n      <td>1.0</td>\n    </tr>\n    <tr>\n      <th>WIN_20210408_16_04_32_Pro</th>\n      <td>0.0</td>\n      <td>1.0</td>\n      <td>1.0</td>\n      <td>1.0</td>\n      <td>0.0</td>\n      <td>1.0</td>\n      <td>1.0</td>\n      <td>2.0</td>\n    </tr>\n    <tr>\n      <th>WIN_20210409_10_26_11_Pro</th>\n      <td>0.0</td>\n      <td>1.0</td>\n      <td>1.0</td>\n      <td>1.0</td>\n      <td>0.0</td>\n      <td>0.0</td>\n      <td>0.0</td>\n      <td>0.0</td>\n    </tr>\n    <tr>\n      <th>WIN_20210413_15_38_01_Pro</th>\n      <td>1.0</td>\n      <td>0.0</td>\n      <td>0.0</td>\n      <td>1.0</td>\n      <td>0.0</td>\n      <td>1.0</td>\n      <td>0.0</td>\n      <td>1.0</td>\n    </tr>\n    <tr>\n      <th>WIN_20210414_06_24_52_Pro</th>\n      <td>1.0</td>\n      <td>1.0</td>\n      <td>1.0</td>\n      <td>1.0</td>\n      <td>1.0</td>\n      <td>1.0</td>\n      <td>1.0</td>\n      <td>1.0</td>\n    </tr>\n    <tr>\n      <th>WIN_20210415_15_41_24_Pro</th>\n      <td>1.0</td>\n      <td>0.0</td>\n      <td>1.0</td>\n      <td>1.0</td>\n      <td>0.0</td>\n      <td>1.0</td>\n      <td>1.0</td>\n      <td>1.0</td>\n    </tr>\n    <tr>\n      <th>WIN_20210416_08_06_54_Pro</th>\n      <td>1.0</td>\n      <td>1.0</td>\n      <td>1.0</td>\n      <td>1.0</td>\n      <td>1.0</td>\n      <td>1.0</td>\n      <td>1.0</td>\n      <td>1.0</td>\n    </tr>\n    <tr>\n      <th>WIN_20210417_14_53_12_Pro</th>\n      <td>1.0</td>\n      <td>1.0</td>\n      <td>1.0</td>\n      <td>1.0</td>\n      <td>0.0</td>\n      <td>1.0</td>\n      <td>0.0</td>\n      <td>1.0</td>\n    </tr>\n  </tbody>\n</table>\n</div>"
     },
     "metadata": {},
     "execution_count": 37
    }
   ],
   "source": [
    "ypredict_stress_diapo"
   ]
  },
  {
   "cell_type": "code",
   "execution_count": 38,
   "metadata": {},
   "outputs": [
    {
     "output_type": "execute_result",
     "data": {
      "text/plain": [
       "                                   1    8    9   10   11   12   17   18  \\\n",
       "video_name                                                                \n",
       "Test_pour_AFPA                   1.0  1.0  0.0  0.0  0.0  1.0  0.0  1.0   \n",
       "Video_1                          0.0  0.0  0.0  0.0  1.0  1.0  1.0  1.0   \n",
       "WIN_20210323_19_17_40_Pro        1.0  0.0  1.0  1.0  1.0  1.0  1.0  1.0   \n",
       "WIN_20210329_10_16_02_Pro        0.0  0.0  1.0  1.0  0.0  1.0  0.0  0.0   \n",
       "WIN_20210330_13_10_29_Pro        0.0  0.0  0.0  0.0  1.0  0.0  0.0  0.0   \n",
       "WIN_20210331_21_22_52_Pro        0.0  0.0  1.0  1.0  1.0  1.0  0.0  0.0   \n",
       "WIN_20210402_14_27_50_Pro        1.0  1.0  1.0  2.0  1.0  1.0  1.0  1.0   \n",
       "WIN_20210402_19_04_53_Pro        2.0  1.0  1.0  1.0  1.0  2.0  1.0  2.0   \n",
       "WIN_20210403_18_49_15_Pro        1.0  1.0  1.0  1.0  1.0  2.0  2.0  1.0   \n",
       "WIN_20210404_10_58_27_Pro        0.0  1.0  1.0  1.0  1.0  1.0  1.0  1.0   \n",
       "WIN_20210404_21_41_12_Pro        0.0  0.0  1.0  0.0  0.0  1.0  0.0  1.0   \n",
       "WIN_20210405_15_09_16_Pro        0.0  1.0  1.0  1.0  1.0  0.0  0.0  1.0   \n",
       "WIN_20210406_15_06_15_Pro        1.0  1.0  1.0  1.0  1.0  2.0  1.0  2.0   \n",
       "WIN_20210406_18_35_52_Pro        0.0  0.0  1.0  0.0  0.0  1.0  0.0  1.0   \n",
       "WIN_20210406_18_49_10_Pro        1.0  0.0  1.0  1.0  1.0  1.0  1.0  1.0   \n",
       "WIN_20210406_21_05_52_Pro        1.0  2.0  2.0  1.0  2.0  1.0  1.0  1.0   \n",
       "WIN_20210407_09_04_05_Pro        0.0  0.0  2.0  1.0  3.0  1.0  0.0  2.0   \n",
       "WIN_20210407_14_54_56_Pro_edit2  0.0  0.0  0.0  0.0  0.0  1.0  0.0  1.0   \n",
       "WIN_20210408_11_48_58_Pro        0.0  1.0  1.0  1.0  1.0  1.0  1.0  2.0   \n",
       "WIN_20210408_14_00_44_Pro        0.0  0.0  0.0  0.0  0.0  1.0  0.0  0.0   \n",
       "WIN_20210408_14_02_19_Pro        0.0  1.0  0.0  0.0  0.0  0.0  0.0  1.0   \n",
       "WIN_20210408_14_11_32_Pro        0.0  2.0  2.0  2.0  2.0  1.0  0.0  1.0   \n",
       "WIN_20210408_15_20_51_Pro        0.0  0.0  0.0  0.0  0.0  0.0  0.0  0.0   \n",
       "WIN_20210408_16_04_32_Pro        0.0  0.0  1.0  0.0  0.0  0.0  0.0  0.0   \n",
       "WIN_20210409_10_26_11_Pro        1.0  1.0  0.0  1.0  0.0  0.0  1.0  1.0   \n",
       "WIN_20210413_15_38_01_Pro        1.0  0.0  0.0  0.0  0.0  1.0  1.0  1.0   \n",
       "WIN_20210414_06_24_52_Pro        2.0  2.0  2.0  2.0  2.0  1.0  1.0  2.0   \n",
       "WIN_20210415_15_41_24_Pro        1.0  0.0  0.0  1.0  0.0  0.0  0.0  0.0   \n",
       "WIN_20210416_08_06_54_Pro        1.0  2.0  1.0  1.0  1.0  0.0  0.0  1.0   \n",
       "WIN_20210417_14_53_12_Pro        0.0  0.0  0.0  0.0  0.0  0.0  1.0  1.0   \n",
       "\n",
       "                                 stress_global  \n",
       "video_name                                      \n",
       "Test_pour_AFPA                             1.0  \n",
       "Video_1                                    0.0  \n",
       "WIN_20210323_19_17_40_Pro                  1.0  \n",
       "WIN_20210329_10_16_02_Pro                  1.0  \n",
       "WIN_20210330_13_10_29_Pro                  0.0  \n",
       "WIN_20210331_21_22_52_Pro                  1.0  \n",
       "WIN_20210402_14_27_50_Pro                  1.0  \n",
       "WIN_20210402_19_04_53_Pro                  2.0  \n",
       "WIN_20210403_18_49_15_Pro                  2.0  \n",
       "WIN_20210404_10_58_27_Pro                  1.0  \n",
       "WIN_20210404_21_41_12_Pro                  0.0  \n",
       "WIN_20210405_15_09_16_Pro                  1.0  \n",
       "WIN_20210406_15_06_15_Pro                  2.0  \n",
       "WIN_20210406_18_35_52_Pro                  0.0  \n",
       "WIN_20210406_18_49_10_Pro                  1.0  \n",
       "WIN_20210406_21_05_52_Pro                  2.0  \n",
       "WIN_20210407_09_04_05_Pro                  2.0  \n",
       "WIN_20210407_14_54_56_Pro_edit2            0.0  \n",
       "WIN_20210408_11_48_58_Pro                  2.0  \n",
       "WIN_20210408_14_00_44_Pro                  0.0  \n",
       "WIN_20210408_14_02_19_Pro                  0.0  \n",
       "WIN_20210408_14_11_32_Pro                  2.0  \n",
       "WIN_20210408_15_20_51_Pro                  0.0  \n",
       "WIN_20210408_16_04_32_Pro                  0.0  \n",
       "WIN_20210409_10_26_11_Pro                  0.0  \n",
       "WIN_20210413_15_38_01_Pro                  1.0  \n",
       "WIN_20210414_06_24_52_Pro                  2.0  \n",
       "WIN_20210415_15_41_24_Pro                  0.0  \n",
       "WIN_20210416_08_06_54_Pro                  1.0  \n",
       "WIN_20210417_14_53_12_Pro                  0.0  "
      ],
      "text/html": "<div>\n<style scoped>\n    .dataframe tbody tr th:only-of-type {\n        vertical-align: middle;\n    }\n\n    .dataframe tbody tr th {\n        vertical-align: top;\n    }\n\n    .dataframe thead th {\n        text-align: right;\n    }\n</style>\n<table border=\"1\" class=\"dataframe\">\n  <thead>\n    <tr style=\"text-align: right;\">\n      <th></th>\n      <th>1</th>\n      <th>8</th>\n      <th>9</th>\n      <th>10</th>\n      <th>11</th>\n      <th>12</th>\n      <th>17</th>\n      <th>18</th>\n      <th>stress_global</th>\n    </tr>\n    <tr>\n      <th>video_name</th>\n      <th></th>\n      <th></th>\n      <th></th>\n      <th></th>\n      <th></th>\n      <th></th>\n      <th></th>\n      <th></th>\n      <th></th>\n    </tr>\n  </thead>\n  <tbody>\n    <tr>\n      <th>Test_pour_AFPA</th>\n      <td>1.0</td>\n      <td>1.0</td>\n      <td>0.0</td>\n      <td>0.0</td>\n      <td>0.0</td>\n      <td>1.0</td>\n      <td>0.0</td>\n      <td>1.0</td>\n      <td>1.0</td>\n    </tr>\n    <tr>\n      <th>Video_1</th>\n      <td>0.0</td>\n      <td>0.0</td>\n      <td>0.0</td>\n      <td>0.0</td>\n      <td>1.0</td>\n      <td>1.0</td>\n      <td>1.0</td>\n      <td>1.0</td>\n      <td>0.0</td>\n    </tr>\n    <tr>\n      <th>WIN_20210323_19_17_40_Pro</th>\n      <td>1.0</td>\n      <td>0.0</td>\n      <td>1.0</td>\n      <td>1.0</td>\n      <td>1.0</td>\n      <td>1.0</td>\n      <td>1.0</td>\n      <td>1.0</td>\n      <td>1.0</td>\n    </tr>\n    <tr>\n      <th>WIN_20210329_10_16_02_Pro</th>\n      <td>0.0</td>\n      <td>0.0</td>\n      <td>1.0</td>\n      <td>1.0</td>\n      <td>0.0</td>\n      <td>1.0</td>\n      <td>0.0</td>\n      <td>0.0</td>\n      <td>1.0</td>\n    </tr>\n    <tr>\n      <th>WIN_20210330_13_10_29_Pro</th>\n      <td>0.0</td>\n      <td>0.0</td>\n      <td>0.0</td>\n      <td>0.0</td>\n      <td>1.0</td>\n      <td>0.0</td>\n      <td>0.0</td>\n      <td>0.0</td>\n      <td>0.0</td>\n    </tr>\n    <tr>\n      <th>WIN_20210331_21_22_52_Pro</th>\n      <td>0.0</td>\n      <td>0.0</td>\n      <td>1.0</td>\n      <td>1.0</td>\n      <td>1.0</td>\n      <td>1.0</td>\n      <td>0.0</td>\n      <td>0.0</td>\n      <td>1.0</td>\n    </tr>\n    <tr>\n      <th>WIN_20210402_14_27_50_Pro</th>\n      <td>1.0</td>\n      <td>1.0</td>\n      <td>1.0</td>\n      <td>2.0</td>\n      <td>1.0</td>\n      <td>1.0</td>\n      <td>1.0</td>\n      <td>1.0</td>\n      <td>1.0</td>\n    </tr>\n    <tr>\n      <th>WIN_20210402_19_04_53_Pro</th>\n      <td>2.0</td>\n      <td>1.0</td>\n      <td>1.0</td>\n      <td>1.0</td>\n      <td>1.0</td>\n      <td>2.0</td>\n      <td>1.0</td>\n      <td>2.0</td>\n      <td>2.0</td>\n    </tr>\n    <tr>\n      <th>WIN_20210403_18_49_15_Pro</th>\n      <td>1.0</td>\n      <td>1.0</td>\n      <td>1.0</td>\n      <td>1.0</td>\n      <td>1.0</td>\n      <td>2.0</td>\n      <td>2.0</td>\n      <td>1.0</td>\n      <td>2.0</td>\n    </tr>\n    <tr>\n      <th>WIN_20210404_10_58_27_Pro</th>\n      <td>0.0</td>\n      <td>1.0</td>\n      <td>1.0</td>\n      <td>1.0</td>\n      <td>1.0</td>\n      <td>1.0</td>\n      <td>1.0</td>\n      <td>1.0</td>\n      <td>1.0</td>\n    </tr>\n    <tr>\n      <th>WIN_20210404_21_41_12_Pro</th>\n      <td>0.0</td>\n      <td>0.0</td>\n      <td>1.0</td>\n      <td>0.0</td>\n      <td>0.0</td>\n      <td>1.0</td>\n      <td>0.0</td>\n      <td>1.0</td>\n      <td>0.0</td>\n    </tr>\n    <tr>\n      <th>WIN_20210405_15_09_16_Pro</th>\n      <td>0.0</td>\n      <td>1.0</td>\n      <td>1.0</td>\n      <td>1.0</td>\n      <td>1.0</td>\n      <td>0.0</td>\n      <td>0.0</td>\n      <td>1.0</td>\n      <td>1.0</td>\n    </tr>\n    <tr>\n      <th>WIN_20210406_15_06_15_Pro</th>\n      <td>1.0</td>\n      <td>1.0</td>\n      <td>1.0</td>\n      <td>1.0</td>\n      <td>1.0</td>\n      <td>2.0</td>\n      <td>1.0</td>\n      <td>2.0</td>\n      <td>2.0</td>\n    </tr>\n    <tr>\n      <th>WIN_20210406_18_35_52_Pro</th>\n      <td>0.0</td>\n      <td>0.0</td>\n      <td>1.0</td>\n      <td>0.0</td>\n      <td>0.0</td>\n      <td>1.0</td>\n      <td>0.0</td>\n      <td>1.0</td>\n      <td>0.0</td>\n    </tr>\n    <tr>\n      <th>WIN_20210406_18_49_10_Pro</th>\n      <td>1.0</td>\n      <td>0.0</td>\n      <td>1.0</td>\n      <td>1.0</td>\n      <td>1.0</td>\n      <td>1.0</td>\n      <td>1.0</td>\n      <td>1.0</td>\n      <td>1.0</td>\n    </tr>\n    <tr>\n      <th>WIN_20210406_21_05_52_Pro</th>\n      <td>1.0</td>\n      <td>2.0</td>\n      <td>2.0</td>\n      <td>1.0</td>\n      <td>2.0</td>\n      <td>1.0</td>\n      <td>1.0</td>\n      <td>1.0</td>\n      <td>2.0</td>\n    </tr>\n    <tr>\n      <th>WIN_20210407_09_04_05_Pro</th>\n      <td>0.0</td>\n      <td>0.0</td>\n      <td>2.0</td>\n      <td>1.0</td>\n      <td>3.0</td>\n      <td>1.0</td>\n      <td>0.0</td>\n      <td>2.0</td>\n      <td>2.0</td>\n    </tr>\n    <tr>\n      <th>WIN_20210407_14_54_56_Pro_edit2</th>\n      <td>0.0</td>\n      <td>0.0</td>\n      <td>0.0</td>\n      <td>0.0</td>\n      <td>0.0</td>\n      <td>1.0</td>\n      <td>0.0</td>\n      <td>1.0</td>\n      <td>0.0</td>\n    </tr>\n    <tr>\n      <th>WIN_20210408_11_48_58_Pro</th>\n      <td>0.0</td>\n      <td>1.0</td>\n      <td>1.0</td>\n      <td>1.0</td>\n      <td>1.0</td>\n      <td>1.0</td>\n      <td>1.0</td>\n      <td>2.0</td>\n      <td>2.0</td>\n    </tr>\n    <tr>\n      <th>WIN_20210408_14_00_44_Pro</th>\n      <td>0.0</td>\n      <td>0.0</td>\n      <td>0.0</td>\n      <td>0.0</td>\n      <td>0.0</td>\n      <td>1.0</td>\n      <td>0.0</td>\n      <td>0.0</td>\n      <td>0.0</td>\n    </tr>\n    <tr>\n      <th>WIN_20210408_14_02_19_Pro</th>\n      <td>0.0</td>\n      <td>1.0</td>\n      <td>0.0</td>\n      <td>0.0</td>\n      <td>0.0</td>\n      <td>0.0</td>\n      <td>0.0</td>\n      <td>1.0</td>\n      <td>0.0</td>\n    </tr>\n    <tr>\n      <th>WIN_20210408_14_11_32_Pro</th>\n      <td>0.0</td>\n      <td>2.0</td>\n      <td>2.0</td>\n      <td>2.0</td>\n      <td>2.0</td>\n      <td>1.0</td>\n      <td>0.0</td>\n      <td>1.0</td>\n      <td>2.0</td>\n    </tr>\n    <tr>\n      <th>WIN_20210408_15_20_51_Pro</th>\n      <td>0.0</td>\n      <td>0.0</td>\n      <td>0.0</td>\n      <td>0.0</td>\n      <td>0.0</td>\n      <td>0.0</td>\n      <td>0.0</td>\n      <td>0.0</td>\n      <td>0.0</td>\n    </tr>\n    <tr>\n      <th>WIN_20210408_16_04_32_Pro</th>\n      <td>0.0</td>\n      <td>0.0</td>\n      <td>1.0</td>\n      <td>0.0</td>\n      <td>0.0</td>\n      <td>0.0</td>\n      <td>0.0</td>\n      <td>0.0</td>\n      <td>0.0</td>\n    </tr>\n    <tr>\n      <th>WIN_20210409_10_26_11_Pro</th>\n      <td>1.0</td>\n      <td>1.0</td>\n      <td>0.0</td>\n      <td>1.0</td>\n      <td>0.0</td>\n      <td>0.0</td>\n      <td>1.0</td>\n      <td>1.0</td>\n      <td>0.0</td>\n    </tr>\n    <tr>\n      <th>WIN_20210413_15_38_01_Pro</th>\n      <td>1.0</td>\n      <td>0.0</td>\n      <td>0.0</td>\n      <td>0.0</td>\n      <td>0.0</td>\n      <td>1.0</td>\n      <td>1.0</td>\n      <td>1.0</td>\n      <td>1.0</td>\n    </tr>\n    <tr>\n      <th>WIN_20210414_06_24_52_Pro</th>\n      <td>2.0</td>\n      <td>2.0</td>\n      <td>2.0</td>\n      <td>2.0</td>\n      <td>2.0</td>\n      <td>1.0</td>\n      <td>1.0</td>\n      <td>2.0</td>\n      <td>2.0</td>\n    </tr>\n    <tr>\n      <th>WIN_20210415_15_41_24_Pro</th>\n      <td>1.0</td>\n      <td>0.0</td>\n      <td>0.0</td>\n      <td>1.0</td>\n      <td>0.0</td>\n      <td>0.0</td>\n      <td>0.0</td>\n      <td>0.0</td>\n      <td>0.0</td>\n    </tr>\n    <tr>\n      <th>WIN_20210416_08_06_54_Pro</th>\n      <td>1.0</td>\n      <td>2.0</td>\n      <td>1.0</td>\n      <td>1.0</td>\n      <td>1.0</td>\n      <td>0.0</td>\n      <td>0.0</td>\n      <td>1.0</td>\n      <td>1.0</td>\n    </tr>\n    <tr>\n      <th>WIN_20210417_14_53_12_Pro</th>\n      <td>0.0</td>\n      <td>0.0</td>\n      <td>0.0</td>\n      <td>0.0</td>\n      <td>0.0</td>\n      <td>0.0</td>\n      <td>1.0</td>\n      <td>1.0</td>\n      <td>0.0</td>\n    </tr>\n  </tbody>\n</table>\n</div>"
     },
     "metadata": {},
     "execution_count": 38
    }
   ],
   "source": [
    "df_annotations_stress = pd.read_csv('annotations.csv')\n",
    "df_annotations_stress = df_annotations_stress.set_index(['video_name'])\n",
    "df_annotations_stress"
   ]
  },
  {
   "cell_type": "code",
   "execution_count": 39,
   "metadata": {},
   "outputs": [],
   "source": [
    "Xy = ypredict_stress_diapo.merge(df_annotations_stress.iloc[:,-1],how='inner',on='video_name')\n",
    "X = Xy.iloc[:,:-1]\n",
    "y = Xy.iloc[:,-1]"
   ]
  },
  {
   "cell_type": "code",
   "execution_count": 40,
   "metadata": {},
   "outputs": [],
   "source": [
    "from sklearn.linear_model import LogisticRegression\n",
    "from sklearn.neighbors import KNeighborsClassifier\n",
    "from sklearn.ensemble import RandomForestClassifier\n",
    "from sklearn.model_selection import LeaveOneGroupOut\n",
    "from sklearn.decomposition import PCA\n",
    "from sklearn.pipeline import Pipeline\n",
    "\n",
    "pca = PCA()\n",
    "\n",
    "models_list = [\n",
    "                LogisticRegression(multi_class='multinomial', fit_intercept=True, random_state=42),\n",
    "                Pipeline(steps=[('pca', pca), ('logistic', LogisticRegression(multi_class='multinomial', fit_intercept=True))]),\n",
    "                KNeighborsClassifier(),\n",
    "                Pipeline(steps=[('pca', pca), ('knn', KNeighborsClassifier())]),\n",
    "                RandomForestClassifier(random_state = 42, n_jobs=-1)\n",
    "                ]\n",
    "\n",
    "parameters_list = [\n",
    "                    {'C': [0.01, 0.05, 0.1, 0.5, 1, 2, 3, 4 , 5, 10], 'class_weight' : [None, 'balanced']},\n",
    "                    {'pca__n_components': [1, 2, 3, 4],\n",
    "                        'logistic__C': [0.01, 0.05, 0.1, 0.5, 1, 2, 3, 4 , 5, 10], 'logistic__class_weight' : [None, 'balanced']},\n",
    "                    {'n_neighbors': [4, 5, 6, 7, 8, 9, 10, 11, 12,  15, 20], 'weights' : ['uniform', 'distance'], 'p': [1, 2]},\n",
    "                    {'pca__n_components': [1, 2, 3, 4],\n",
    "                        'knn__n_neighbors': [4, 5, 6, 7, 8, 9, 10, 11, 12,  15, 20], 'knn__weights' : ['uniform', 'distance'],                              'knn__p': [1, 2]},\n",
    "                    {'n_estimators': [50, 100, 150, 200], 'max_depth':[3, 4, 5, 6, 10, 15, 20], 'class_weight':[None,'balanced']}\n",
    "                    ]\n",
    "\n",
    "groups = X.reset_index()['video_name']\n",
    "loo = LeaveOneGroupOut()\n",
    "cv_loo = loo.split(X, y, groups)"
   ]
  },
  {
   "cell_type": "code",
   "execution_count": 41,
   "metadata": {},
   "outputs": [
    {
     "output_type": "stream",
     "name": "stdout",
     "text": [
      "Fitting 5 folds for each of 20 candidates, totalling 100 fits\n",
      "[Parallel(n_jobs=-1)]: Using backend LokyBackend with 8 concurrent workers.\n",
      "[Parallel(n_jobs=-1)]: Done  56 tasks      | elapsed:    0.3s\n",
      "[Parallel(n_jobs=-1)]: Done 100 out of 100 | elapsed:    0.5s finished\n",
      "[Parallel(n_jobs=-1)]: Using backend LokyBackend with 8 concurrent workers.\n",
      "Best estimator LogisticRegression(C=0.1, class_weight='balanced', multi_class='multinomial',\n",
      "                   random_state=42)\n",
      "Best results 0.33333333333333337\n",
      "Best params {'C': 0.1, 'class_weight': 'balanced'}\n",
      "accuracy (mean, std) 0.36666666666666664 0.19436506316151\n",
      "f1 (mean, std) 0.33333333333333337 0.1709811916593008\n",
      "balanced accuracy (mean, std) 0.34444444444444444 0.18392161508052055\n",
      "precision (mean, std) 0.34444444444444444 0.18053418676968802\n",
      "recall (mean, std) 0.36666666666666664 0.19436506316151\n",
      "\n",
      "Fitting 5 folds for each of 80 candidates, totalling 400 fits\n",
      "[Parallel(n_jobs=-1)]: Done  56 tasks      | elapsed:    0.4s\n",
      "[Parallel(n_jobs=-1)]: Done 385 out of 400 | elapsed:    1.5s remaining:    0.1s\n",
      "[Parallel(n_jobs=-1)]: Done 400 out of 400 | elapsed:    1.6s finished\n",
      "[Parallel(n_jobs=-1)]: Using backend LokyBackend with 8 concurrent workers.\n",
      "Best estimator Pipeline(steps=[('pca', PCA(n_components=4)),\n",
      "                ('logistic',\n",
      "                 LogisticRegression(C=2, multi_class='multinomial'))])\n",
      "Best results 0.3711111111111111\n",
      "Best params {'logistic__C': 2, 'logistic__class_weight': None, 'pca__n_components': 4}\n",
      "accuracy (mean, std) 0.4 0.13333333333333333\n",
      "f1 (mean, std) 0.3711111111111111 0.09312145262114205\n",
      "balanced accuracy (mean, std) 0.36666666666666664 0.14315665251916806\n",
      "precision (mean, std) 0.3722222222222222 0.07370277311900887\n",
      "recall (mean, std) 0.4 0.13333333333333333\n",
      "\n",
      "Fitting 5 folds for each of 44 candidates, totalling 220 fits\n",
      "[Parallel(n_jobs=-1)]: Done  56 tasks      | elapsed:    0.2s\n",
      "[Parallel(n_jobs=-1)]: Done 220 out of 220 | elapsed:    0.6s finished\n",
      "[Parallel(n_jobs=-1)]: Using backend LokyBackend with 8 concurrent workers.\n",
      "Best estimator KNeighborsClassifier(n_neighbors=11)\n",
      "Best results 0.42111111111111105\n",
      "Best params {'n_neighbors': 11, 'p': 2, 'weights': 'uniform'}\n",
      "accuracy (mean, std) 0.4666666666666666 0.19436506316151\n",
      "f1 (mean, std) 0.42111111111111105 0.14343235167204374\n",
      "balanced accuracy (mean, std) 0.44444444444444436 0.21942686286812776\n",
      "precision (mean, std) 0.45555555555555555 0.1507184440694504\n",
      "recall (mean, std) 0.4666666666666666 0.19436506316151\n",
      "\n",
      "Fitting 5 folds for each of 176 candidates, totalling 880 fits\n",
      "[Parallel(n_jobs=-1)]: Done  56 tasks      | elapsed:    0.3s\n",
      "[Parallel(n_jobs=-1)]: Done 880 out of 880 | elapsed:    2.3s finished\n",
      "[Parallel(n_jobs=-1)]: Using backend LokyBackend with 8 concurrent workers.\n",
      "Best estimator Pipeline(steps=[('pca', PCA(n_components=4)),\n",
      "                ('knn',\n",
      "                 KNeighborsClassifier(n_neighbors=20, weights='distance'))])\n",
      "Best results 0.4461904761904762\n",
      "Best params {'knn__n_neighbors': 20, 'knn__p': 2, 'knn__weights': 'distance', 'pca__n_components': 4}\n",
      "accuracy (mean, std) 0.5 0.10540925533894598\n",
      "f1 (mean, std) 0.4461904761904762 0.11844333405136959\n",
      "balanced accuracy (mean, std) 0.47777777777777775 0.12472191289246473\n",
      "precision (mean, std) 0.52 0.19160143817599887\n",
      "recall (mean, std) 0.5 0.10540925533894598\n",
      "\n",
      "Fitting 5 folds for each of 56 candidates, totalling 280 fits\n",
      "[Parallel(n_jobs=-1)]: Done  52 tasks      | elapsed:    3.3s\n",
      "[Parallel(n_jobs=-1)]: Done 280 out of 280 | elapsed:   16.4s finished\n",
      "Best estimator RandomForestClassifier(class_weight='balanced', max_depth=4, n_estimators=150,\n",
      "                       n_jobs=-1, random_state=42)\n",
      "Best results 0.2584126984126984\n",
      "Best params {'class_weight': 'balanced', 'max_depth': 4, 'n_estimators': 150}\n",
      "accuracy (mean, std) 0.29999999999999993 0.19436506316151003\n",
      "f1 (mean, std) 0.2584126984126984 0.18612327776930215\n",
      "balanced accuracy (mean, std) 0.28888888888888886 0.2030629653610785\n",
      "precision (mean, std) 0.27555555555555555 0.22677557296549192\n",
      "recall (mean, std) 0.29999999999999993 0.19436506316151003\n",
      "\n",
      "f1_score (weighted) 0.46296296296296297\n",
      "accuracy 0.5\n"
     ]
    }
   ],
   "source": [
    "best_result, y_predict, y_predict_proba, result_list = runGridSearchClassifiers(X, y, 5, models_list, parameters_list, \n",
    "                                                                output_predict=True, n_jobs=-1, verbose=True)"
   ]
  },
  {
   "cell_type": "code",
   "execution_count": 42,
   "metadata": {},
   "outputs": [
    {
     "output_type": "execute_result",
     "data": {
      "text/plain": [
       "{'best_estimator': Pipeline(steps=[('pca', PCA(n_components=4)),\n",
       "                 ('knn',\n",
       "                  KNeighborsClassifier(n_neighbors=20, weights='distance'))]),\n",
       " 'best_score': 0.4461904761904762,\n",
       " 'best_params': {'knn__n_neighbors': 20,\n",
       "  'knn__p': 2,\n",
       "  'knn__weights': 'distance',\n",
       "  'pca__n_components': 4},\n",
       " 'mean_test_f1_score': 0.4461904761904762,\n",
       " 'std_test_f1_score': 0.11844333405136959,\n",
       " 'mean_test_accuracy_score': 0.5,\n",
       " 'std_test_accuracy_score': 0.10540925533894598,\n",
       " 'mean_test_balanced_accuracy_score': 0.47777777777777775,\n",
       " 'std_test_balanced_accuracy_score': 0.12472191289246473,\n",
       " 'mean_test_precision': 0.52,\n",
       " 'std_test_precision': 0.19160143817599887,\n",
       " 'mean_test_recall': 0.5,\n",
       " 'std_test_recall': 0.10540925533894598}"
      ]
     },
     "metadata": {},
     "execution_count": 42
    }
   ],
   "source": [
    "best_result"
   ]
  },
  {
   "cell_type": "code",
   "execution_count": 43,
   "metadata": {},
   "outputs": [],
   "source": [
    "# Saving predictions\n",
    "df_ypredict = pd.concat([X.reset_index()[['video_name']],\n",
    "                        pd.DataFrame(y_predict, columns=['ypredict'])],axis=1)\n",
    "df_ypredict.to_csv('ypredict_' + features + '_tw5_global' + diapo_selection + '.csv')"
   ]
  },
  {
   "cell_type": "markdown",
   "metadata": {},
   "source": [
    "#### Autre méthode"
   ]
  },
  {
   "cell_type": "markdown",
   "metadata": {},
   "source": [
    "### En utilisant le stress prédit des time windows 5s"
   ]
  },
  {
   "cell_type": "code",
   "execution_count": 44,
   "metadata": {},
   "outputs": [
    {
     "output_type": "execute_result",
     "data": {
      "text/plain": [
       "ypredict                                0         1         2\n",
       "video_name                                                   \n",
       "Test_pour_AFPA                   0.185185  0.798942  0.015873\n",
       "Video_1                          0.357616  0.642384  0.000000\n",
       "WIN_20210323_19_17_40_Pro        0.303571  0.690476  0.005952\n",
       "WIN_20210329_10_16_02_Pro        0.190476  0.809524  0.000000\n",
       "WIN_20210330_13_10_29_Pro        0.271523  0.728477  0.000000\n",
       "WIN_20210331_21_22_52_Pro        0.329412  0.670588  0.000000\n",
       "WIN_20210402_14_27_50_Pro        0.005376  0.994624  0.000000\n",
       "WIN_20210402_19_04_53_Pro        0.897143  0.080000  0.022857\n",
       "WIN_20210403_18_49_15_Pro        0.287293  0.712707  0.000000\n",
       "WIN_20210404_10_58_27_Pro        0.810000  0.115000  0.075000\n",
       "WIN_20210404_21_41_12_Pro        0.349138  0.650862  0.000000\n",
       "WIN_20210405_15_09_16_Pro        0.400000  0.593548  0.006452\n",
       "WIN_20210406_15_06_15_Pro        0.136585  0.863415  0.000000\n",
       "WIN_20210406_18_35_52_Pro        0.481013  0.518987  0.000000\n",
       "WIN_20210406_18_49_10_Pro        0.216374  0.783626  0.000000\n",
       "WIN_20210406_21_05_52_Pro        0.410811  0.589189  0.000000\n",
       "WIN_20210407_09_04_05_Pro        0.439791  0.554974  0.005236\n",
       "WIN_20210407_14_54_56_Pro_edit2  0.383648  0.616352  0.000000\n",
       "WIN_20210408_11_48_58_Pro        0.040000  0.626667  0.333333\n",
       "WIN_20210408_14_00_44_Pro        0.185393  0.814607  0.000000\n",
       "WIN_20210408_14_02_19_Pro        0.423529  0.570588  0.005882\n",
       "WIN_20210408_14_11_32_Pro        0.000000  1.000000  0.000000\n",
       "WIN_20210408_15_20_51_Pro        0.122549  0.254902  0.622549\n",
       "WIN_20210408_16_04_32_Pro        0.135294  0.864706  0.000000\n",
       "WIN_20210409_10_26_11_Pro        0.502890  0.497110  0.000000\n",
       "WIN_20210413_15_38_01_Pro        0.254335  0.745665  0.000000\n",
       "WIN_20210414_06_24_52_Pro        0.994819  0.005181  0.000000\n",
       "WIN_20210415_15_41_24_Pro        0.511521  0.488479  0.000000\n",
       "WIN_20210416_08_06_54_Pro        0.000000  1.000000  0.000000\n",
       "WIN_20210417_14_53_12_Pro        0.404580  0.595420  0.000000"
      ],
      "text/html": "<div>\n<style scoped>\n    .dataframe tbody tr th:only-of-type {\n        vertical-align: middle;\n    }\n\n    .dataframe tbody tr th {\n        vertical-align: top;\n    }\n\n    .dataframe thead th {\n        text-align: right;\n    }\n</style>\n<table border=\"1\" class=\"dataframe\">\n  <thead>\n    <tr style=\"text-align: right;\">\n      <th>ypredict</th>\n      <th>0</th>\n      <th>1</th>\n      <th>2</th>\n    </tr>\n    <tr>\n      <th>video_name</th>\n      <th></th>\n      <th></th>\n      <th></th>\n    </tr>\n  </thead>\n  <tbody>\n    <tr>\n      <th>Test_pour_AFPA</th>\n      <td>0.185185</td>\n      <td>0.798942</td>\n      <td>0.015873</td>\n    </tr>\n    <tr>\n      <th>Video_1</th>\n      <td>0.357616</td>\n      <td>0.642384</td>\n      <td>0.000000</td>\n    </tr>\n    <tr>\n      <th>WIN_20210323_19_17_40_Pro</th>\n      <td>0.303571</td>\n      <td>0.690476</td>\n      <td>0.005952</td>\n    </tr>\n    <tr>\n      <th>WIN_20210329_10_16_02_Pro</th>\n      <td>0.190476</td>\n      <td>0.809524</td>\n      <td>0.000000</td>\n    </tr>\n    <tr>\n      <th>WIN_20210330_13_10_29_Pro</th>\n      <td>0.271523</td>\n      <td>0.728477</td>\n      <td>0.000000</td>\n    </tr>\n    <tr>\n      <th>WIN_20210331_21_22_52_Pro</th>\n      <td>0.329412</td>\n      <td>0.670588</td>\n      <td>0.000000</td>\n    </tr>\n    <tr>\n      <th>WIN_20210402_14_27_50_Pro</th>\n      <td>0.005376</td>\n      <td>0.994624</td>\n      <td>0.000000</td>\n    </tr>\n    <tr>\n      <th>WIN_20210402_19_04_53_Pro</th>\n      <td>0.897143</td>\n      <td>0.080000</td>\n      <td>0.022857</td>\n    </tr>\n    <tr>\n      <th>WIN_20210403_18_49_15_Pro</th>\n      <td>0.287293</td>\n      <td>0.712707</td>\n      <td>0.000000</td>\n    </tr>\n    <tr>\n      <th>WIN_20210404_10_58_27_Pro</th>\n      <td>0.810000</td>\n      <td>0.115000</td>\n      <td>0.075000</td>\n    </tr>\n    <tr>\n      <th>WIN_20210404_21_41_12_Pro</th>\n      <td>0.349138</td>\n      <td>0.650862</td>\n      <td>0.000000</td>\n    </tr>\n    <tr>\n      <th>WIN_20210405_15_09_16_Pro</th>\n      <td>0.400000</td>\n      <td>0.593548</td>\n      <td>0.006452</td>\n    </tr>\n    <tr>\n      <th>WIN_20210406_15_06_15_Pro</th>\n      <td>0.136585</td>\n      <td>0.863415</td>\n      <td>0.000000</td>\n    </tr>\n    <tr>\n      <th>WIN_20210406_18_35_52_Pro</th>\n      <td>0.481013</td>\n      <td>0.518987</td>\n      <td>0.000000</td>\n    </tr>\n    <tr>\n      <th>WIN_20210406_18_49_10_Pro</th>\n      <td>0.216374</td>\n      <td>0.783626</td>\n      <td>0.000000</td>\n    </tr>\n    <tr>\n      <th>WIN_20210406_21_05_52_Pro</th>\n      <td>0.410811</td>\n      <td>0.589189</td>\n      <td>0.000000</td>\n    </tr>\n    <tr>\n      <th>WIN_20210407_09_04_05_Pro</th>\n      <td>0.439791</td>\n      <td>0.554974</td>\n      <td>0.005236</td>\n    </tr>\n    <tr>\n      <th>WIN_20210407_14_54_56_Pro_edit2</th>\n      <td>0.383648</td>\n      <td>0.616352</td>\n      <td>0.000000</td>\n    </tr>\n    <tr>\n      <th>WIN_20210408_11_48_58_Pro</th>\n      <td>0.040000</td>\n      <td>0.626667</td>\n      <td>0.333333</td>\n    </tr>\n    <tr>\n      <th>WIN_20210408_14_00_44_Pro</th>\n      <td>0.185393</td>\n      <td>0.814607</td>\n      <td>0.000000</td>\n    </tr>\n    <tr>\n      <th>WIN_20210408_14_02_19_Pro</th>\n      <td>0.423529</td>\n      <td>0.570588</td>\n      <td>0.005882</td>\n    </tr>\n    <tr>\n      <th>WIN_20210408_14_11_32_Pro</th>\n      <td>0.000000</td>\n      <td>1.000000</td>\n      <td>0.000000</td>\n    </tr>\n    <tr>\n      <th>WIN_20210408_15_20_51_Pro</th>\n      <td>0.122549</td>\n      <td>0.254902</td>\n      <td>0.622549</td>\n    </tr>\n    <tr>\n      <th>WIN_20210408_16_04_32_Pro</th>\n      <td>0.135294</td>\n      <td>0.864706</td>\n      <td>0.000000</td>\n    </tr>\n    <tr>\n      <th>WIN_20210409_10_26_11_Pro</th>\n      <td>0.502890</td>\n      <td>0.497110</td>\n      <td>0.000000</td>\n    </tr>\n    <tr>\n      <th>WIN_20210413_15_38_01_Pro</th>\n      <td>0.254335</td>\n      <td>0.745665</td>\n      <td>0.000000</td>\n    </tr>\n    <tr>\n      <th>WIN_20210414_06_24_52_Pro</th>\n      <td>0.994819</td>\n      <td>0.005181</td>\n      <td>0.000000</td>\n    </tr>\n    <tr>\n      <th>WIN_20210415_15_41_24_Pro</th>\n      <td>0.511521</td>\n      <td>0.488479</td>\n      <td>0.000000</td>\n    </tr>\n    <tr>\n      <th>WIN_20210416_08_06_54_Pro</th>\n      <td>0.000000</td>\n      <td>1.000000</td>\n      <td>0.000000</td>\n    </tr>\n    <tr>\n      <th>WIN_20210417_14_53_12_Pro</th>\n      <td>0.404580</td>\n      <td>0.595420</td>\n      <td>0.000000</td>\n    </tr>\n  </tbody>\n</table>\n</div>"
     },
     "metadata": {},
     "execution_count": 44
    }
   ],
   "source": [
    "df_ypredict = pd.read_csv('ypredict_' + features + '_tw5' + diapo_selection + '.csv')\n",
    "df_ypredict = df_ypredict.iloc[:,1:]\n",
    "df_ypredict.columns = ['video_name','diapo','frameTimeWindow','ypredict']\n",
    "df_ypredict['ypredict'] = df_ypredict['ypredict'].astype(int)\n",
    "df_ypredict = df_ypredict.pivot_table(values='frameTimeWindow', columns='ypredict', index='video_name', aggfunc='count', fill_value=0)\n",
    "df_ypredict_sum = df_ypredict.sum(axis=1).values.copy()\n",
    "for col_number in range(len(df_ypredict.columns)):\n",
    "    df_ypredict.iloc[:,col_number] = df_ypredict.iloc[:,col_number] / df_ypredict_sum\n",
    "#df_ypredict = df_ypredict.reset_index()\n",
    "df_ypredict\n"
   ]
  },
  {
   "cell_type": "code",
   "execution_count": 45,
   "metadata": {},
   "outputs": [],
   "source": [
    "df_annotations_stress = pd.read_csv('annotations.csv')\n",
    "df_annotations_stress = df_annotations_stress[['video_name','stress_global']]"
   ]
  },
  {
   "cell_type": "code",
   "execution_count": 46,
   "metadata": {},
   "outputs": [],
   "source": [
    "Xy = df_ypredict.merge(df_annotations_stress, on='video_name')\n",
    "X = Xy.iloc[:,:-1].set_index('video_name')\n",
    "y = Xy.iloc[:,-1]"
   ]
  },
  {
   "cell_type": "code",
   "execution_count": 47,
   "metadata": {},
   "outputs": [],
   "source": [
    "from sklearn.linear_model import LogisticRegression\n",
    "from sklearn.neighbors import KNeighborsClassifier\n",
    "from sklearn.ensemble import RandomForestClassifier\n",
    "from sklearn.model_selection import LeaveOneGroupOut\n",
    "from sklearn.decomposition import PCA\n",
    "from sklearn.pipeline import Pipeline\n",
    "\n",
    "pca = PCA()\n",
    "\n",
    "models_list = [\n",
    "                LogisticRegression(multi_class='multinomial', fit_intercept=True, random_state=42),\n",
    "                Pipeline(steps=[('pca', pca), ('logistic', LogisticRegression(multi_class='multinomial', fit_intercept=True))]),\n",
    "                KNeighborsClassifier(),\n",
    "                Pipeline(steps=[('pca', pca), ('knn', KNeighborsClassifier())]),\n",
    "                RandomForestClassifier(random_state = 42, n_jobs=-1)\n",
    "                ]\n",
    "\n",
    "parameters_list = [\n",
    "                    {'C': [0.01, 0.05, 0.1, 0.5, 1, 2, 3, 4 , 5, 10], 'class_weight' : [None, 'balanced']},\n",
    "                    {'pca__n_components': [1, 2, 3, 4],\n",
    "                        'logistic__C': [0.01, 0.05, 0.1, 0.5, 1, 2, 3, 4 , 5, 10], 'logistic__class_weight' : [None, 'balanced']},\n",
    "                    {'n_neighbors': [4, 5, 6, 7, 8, 9, 10, 11, 12,  15, 20], 'weights' : ['uniform', 'distance'], 'p': [1, 2]},\n",
    "                    {'pca__n_components': [1, 2, 3, 4],\n",
    "                        'knn__n_neighbors': [4, 5, 6, 7, 8, 9, 10, 11, 12,  15, 20], 'knn__weights' : ['uniform', 'distance'],                              'knn__p': [1, 2]},\n",
    "                    {'n_estimators': [50, 100, 150, 200], 'max_depth':[3, 4, 5, 6, 10, 15, 20], 'class_weight':[None,'balanced']}\n",
    "                    ]\n",
    "\n",
    "groups = X.reset_index()['video_name']\n",
    "loo = LeaveOneGroupOut()\n",
    "cv_loo = loo.split(X, y, groups)"
   ]
  },
  {
   "cell_type": "code",
   "execution_count": 48,
   "metadata": {},
   "outputs": [
    {
     "output_type": "stream",
     "name": "stdout",
     "text": [
      "Fitting 5 folds for each of 20 candidates, totalling 100 fits\n",
      "[Parallel(n_jobs=-1)]: Using backend LokyBackend with 8 concurrent workers.\n",
      "[Parallel(n_jobs=-1)]: Done  56 tasks      | elapsed:    0.3s\n",
      "[Parallel(n_jobs=-1)]: Done  85 out of 100 | elapsed:    0.4s remaining:    0.1s\n",
      "[Parallel(n_jobs=-1)]: Done 100 out of 100 | elapsed:    0.5s finished\n",
      "[Parallel(n_jobs=-1)]: Using backend LokyBackend with 8 concurrent workers.\n",
      "Best estimator LogisticRegression(C=10, multi_class='multinomial', random_state=42)\n",
      "Best results 0.4666666666666666\n",
      "Best params {'C': 10, 'class_weight': None}\n",
      "accuracy (mean, std) 0.4999999999999999 0.14907119849998596\n",
      "f1 (mean, std) 0.4666666666666666 0.14622830112321866\n",
      "balanced accuracy (mean, std) 0.45555555555555555 0.13333333333333333\n",
      "precision (mean, std) 0.4611111111111111 0.16629588385661961\n",
      "recall (mean, std) 0.4999999999999999 0.14907119849998596\n",
      "\n",
      "Fitting 5 folds for each of 80 candidates, totalling 400 fits\n",
      "[Parallel(n_jobs=-1)]: Done  56 tasks      | elapsed:    0.3s\n",
      "[Parallel(n_jobs=-1)]: Done 400 out of 400 | elapsed:    1.2s finished\n",
      "[Parallel(n_jobs=-1)]: Using backend LokyBackend with 8 concurrent workers.\n",
      "Best estimator Pipeline(steps=[('pca', PCA(n_components=2)),\n",
      "                ('logistic',\n",
      "                 LogisticRegression(C=10, multi_class='multinomial'))])\n",
      "Best results 0.4666666666666666\n",
      "Best params {'logistic__C': 10, 'logistic__class_weight': None, 'pca__n_components': 2}\n",
      "accuracy (mean, std) 0.4999999999999999 0.14907119849998596\n",
      "f1 (mean, std) 0.4666666666666666 0.14622830112321866\n",
      "balanced accuracy (mean, std) 0.45555555555555555 0.13333333333333333\n",
      "precision (mean, std) 0.4611111111111111 0.16629588385661961\n",
      "recall (mean, std) 0.4999999999999999 0.14907119849998596\n",
      "\n",
      "Fitting 5 folds for each of 44 candidates, totalling 220 fits\n",
      "[Parallel(n_jobs=-1)]: Done  56 tasks      | elapsed:    0.2s\n",
      "[Parallel(n_jobs=-1)]: Done 220 out of 220 | elapsed:    0.6s finished\n",
      "[Parallel(n_jobs=-1)]: Using backend LokyBackend with 8 concurrent workers.\n",
      "Best estimator KNeighborsClassifier(n_neighbors=8, weights='distance')\n",
      "Best results 0.5033333333333333\n",
      "Best params {'n_neighbors': 8, 'p': 2, 'weights': 'distance'}\n",
      "accuracy (mean, std) 0.5333333333333333 0.1247219128924647\n",
      "f1 (mean, std) 0.5033333333333333 0.13506285688020217\n",
      "balanced accuracy (mean, std) 0.5333333333333333 0.16703662642636563\n",
      "precision (mean, std) 0.5777777777777777 0.2211083193570267\n",
      "recall (mean, std) 0.5333333333333333 0.1247219128924647\n",
      "\n",
      "Fitting 5 folds for each of 176 candidates, totalling 880 fits\n",
      "[Parallel(n_jobs=-1)]: Done  56 tasks      | elapsed:    0.3s\n",
      "[Parallel(n_jobs=-1)]: Done 880 out of 880 | elapsed:    1.9s finished\n",
      "[Parallel(n_jobs=-1)]: Using backend LokyBackend with 8 concurrent workers.\n",
      "Best estimator Pipeline(steps=[('pca', PCA(n_components=2)),\n",
      "                ('knn',\n",
      "                 KNeighborsClassifier(n_neighbors=8, weights='distance'))])\n",
      "Best results 0.5033333333333333\n",
      "Best params {'knn__n_neighbors': 8, 'knn__p': 2, 'knn__weights': 'distance', 'pca__n_components': 2}\n",
      "accuracy (mean, std) 0.5333333333333333 0.1247219128924647\n",
      "f1 (mean, std) 0.5033333333333333 0.13506285688020217\n",
      "balanced accuracy (mean, std) 0.5333333333333333 0.16703662642636563\n",
      "precision (mean, std) 0.5777777777777777 0.2211083193570267\n",
      "recall (mean, std) 0.5333333333333333 0.1247219128924647\n",
      "\n",
      "Fitting 5 folds for each of 56 candidates, totalling 280 fits\n",
      "[Parallel(n_jobs=-1)]: Done  52 tasks      | elapsed:    3.4s\n",
      "[Parallel(n_jobs=-1)]: Done 264 tasks      | elapsed:   15.4s\n",
      "[Parallel(n_jobs=-1)]: Done 280 out of 280 | elapsed:   16.4s finished\n",
      "Best estimator RandomForestClassifier(class_weight='balanced', max_depth=3, n_estimators=150,\n",
      "                       n_jobs=-1, random_state=42)\n",
      "Best results 0.4363492063492064\n",
      "Best params {'class_weight': 'balanced', 'max_depth': 3, 'n_estimators': 150}\n",
      "accuracy (mean, std) 0.4666666666666667 0.22110831935702668\n",
      "f1 (mean, std) 0.4363492063492064 0.2193133883461886\n",
      "balanced accuracy (mean, std) 0.4333333333333333 0.22054925823643567\n",
      "precision (mean, std) 0.4766666666666667 0.25835185118815324\n",
      "recall (mean, std) 0.4666666666666667 0.22110831935702668\n",
      "\n",
      "f1_score (weighted) 0.5166666666666667\n",
      "accuracy 0.5333333333333333\n"
     ]
    }
   ],
   "source": [
    "best_result, y_predict,y_predict_proba, result_list = runGridSearchClassifiers(X, y, 5, models_list, parameters_list, \n",
    "                                                                output_predict=True, n_jobs=-1, verbose=True)"
   ]
  },
  {
   "cell_type": "code",
   "execution_count": 49,
   "metadata": {},
   "outputs": [
    {
     "output_type": "execute_result",
     "data": {
      "text/plain": [
       "{'best_estimator': KNeighborsClassifier(n_neighbors=8, weights='distance'),\n",
       " 'best_score': 0.5033333333333333,\n",
       " 'best_params': {'n_neighbors': 8, 'p': 2, 'weights': 'distance'},\n",
       " 'mean_test_f1_score': 0.5033333333333333,\n",
       " 'std_test_f1_score': 0.13506285688020217,\n",
       " 'mean_test_accuracy_score': 0.5333333333333333,\n",
       " 'std_test_accuracy_score': 0.1247219128924647,\n",
       " 'mean_test_balanced_accuracy_score': 0.5333333333333333,\n",
       " 'std_test_balanced_accuracy_score': 0.16703662642636563,\n",
       " 'mean_test_precision': 0.5777777777777777,\n",
       " 'std_test_precision': 0.2211083193570267,\n",
       " 'mean_test_recall': 0.5333333333333333,\n",
       " 'std_test_recall': 0.1247219128924647}"
      ]
     },
     "metadata": {},
     "execution_count": 49
    }
   ],
   "source": [
    "best_result"
   ]
  },
  {
   "cell_type": "markdown",
   "metadata": {},
   "source": [
    "#### Autre méthode"
   ]
  },
  {
   "cell_type": "code",
   "execution_count": 50,
   "metadata": {},
   "outputs": [
    {
     "output_type": "execute_result",
     "data": {
      "text/plain": [
       "                                 ypredict                             \\\n",
       "                                     mean  min  max median       std   \n",
       "video_name                                                             \n",
       "Test_pour_AFPA                   0.830688  0.0  2.0    1.0  0.416303   \n",
       "Video_1                          0.642384  0.0  1.0    1.0  0.480893   \n",
       "WIN_20210323_19_17_40_Pro        0.702381  0.0  2.0    1.0  0.471455   \n",
       "WIN_20210329_10_16_02_Pro        0.809524  0.0  1.0    1.0  0.394019   \n",
       "WIN_20210330_13_10_29_Pro        0.728477  0.0  1.0    1.0  0.446225   \n",
       "WIN_20210331_21_22_52_Pro        0.670588  0.0  1.0    1.0  0.471388   \n",
       "WIN_20210402_14_27_50_Pro        0.994624  0.0  1.0    1.0  0.073324   \n",
       "WIN_20210402_19_04_53_Pro        0.125714  0.0  2.0    0.0  0.395625   \n",
       "WIN_20210403_18_49_15_Pro        0.712707  0.0  1.0    1.0  0.453755   \n",
       "WIN_20210404_10_58_27_Pro        0.265000  0.0  2.0    0.0  0.588649   \n",
       "WIN_20210404_21_41_12_Pro        0.650862  0.0  1.0    1.0  0.477728   \n",
       "WIN_20210405_15_09_16_Pro        0.606452  0.0  2.0    1.0  0.503195   \n",
       "WIN_20210406_15_06_15_Pro        0.863415  0.0  1.0    1.0  0.344250   \n",
       "WIN_20210406_18_35_52_Pro        0.518987  0.0  1.0    1.0  0.501228   \n",
       "WIN_20210406_18_49_10_Pro        0.783626  0.0  1.0    1.0  0.412982   \n",
       "WIN_20210406_21_05_52_Pro        0.589189  0.0  1.0    1.0  0.493316   \n",
       "WIN_20210407_09_04_05_Pro        0.565445  0.0  2.0    1.0  0.507481   \n",
       "WIN_20210407_14_54_56_Pro_edit2  0.616352  0.0  1.0    1.0  0.487810   \n",
       "WIN_20210408_11_48_58_Pro        1.293333  0.0  2.0    1.0  0.537188   \n",
       "WIN_20210408_14_00_44_Pro        0.814607  0.0  1.0    1.0  0.389713   \n",
       "WIN_20210408_14_02_19_Pro        0.582353  0.0  2.0    1.0  0.506450   \n",
       "WIN_20210408_14_11_32_Pro        1.000000  1.0  1.0    1.0  0.000000   \n",
       "WIN_20210408_15_20_51_Pro        1.500000  0.0  2.0    2.0  0.705363   \n",
       "WIN_20210408_16_04_32_Pro        0.864706  0.0  1.0    1.0  0.343048   \n",
       "WIN_20210409_10_26_11_Pro        0.497110  0.0  1.0    0.0  0.501443   \n",
       "WIN_20210413_15_38_01_Pro        0.745665  0.0  1.0    1.0  0.436751   \n",
       "WIN_20210414_06_24_52_Pro        0.005181  0.0  1.0    0.0  0.071982   \n",
       "WIN_20210415_15_41_24_Pro        0.488479  0.0  1.0    0.0  0.501023   \n",
       "WIN_20210416_08_06_54_Pro        1.000000  1.0  1.0    1.0  0.000000   \n",
       "WIN_20210417_14_53_12_Pro        0.595420  0.0  1.0    1.0  0.492695   \n",
       "\n",
       "                                                                                \n",
       "                                percentil25 percentil75    kurtosis       skew  \n",
       "video_name                                                                      \n",
       "Test_pour_AFPA                          1.0         1.0    0.987649  -1.074290  \n",
       "Video_1                                 0.0         1.0   -1.647003  -0.594136  \n",
       "WIN_20210323_19_17_40_Pro               0.0         1.0   -1.029843  -0.712361  \n",
       "WIN_20210329_10_16_02_Pro               1.0         1.0    0.485294  -1.576482  \n",
       "WIN_20210330_13_10_29_Pro               0.0         1.0   -0.944346  -1.027450  \n",
       "WIN_20210331_21_22_52_Pro               0.0         1.0   -1.473058  -0.725908  \n",
       "WIN_20210402_14_27_50_Pro               1.0         1.0  181.005405 -13.527949  \n",
       "WIN_20210402_19_04_53_Pro               0.0         0.0   10.586080   3.293186  \n",
       "WIN_20210403_18_49_15_Pro               0.0         1.0   -1.116130  -0.940144  \n",
       "WIN_20210404_10_58_27_Pro               0.0         0.0    3.033203   2.085987  \n",
       "WIN_20210404_21_41_12_Pro               0.0         1.0   -1.599379  -0.632947  \n",
       "WIN_20210405_15_09_16_Pro               0.0         1.0   -1.535670  -0.281970  \n",
       "WIN_20210406_15_06_15_Pro               1.0         1.0    2.479621  -2.116511  \n",
       "WIN_20210406_18_35_52_Pro               0.0         1.0   -1.994223  -0.076004  \n",
       "WIN_20210406_18_49_10_Pro               1.0         1.0   -0.102259  -1.377585  \n",
       "WIN_20210406_21_05_52_Pro               0.0         1.0   -1.868542  -0.362572  \n",
       "WIN_20210407_09_04_05_Pro               0.0         1.0   -1.675625  -0.142755  \n",
       "WIN_20210407_14_54_56_Pro_edit2         0.0         1.0   -1.770994  -0.478546  \n",
       "WIN_20210408_11_48_58_Pro               1.0         2.0   -0.580609   0.099227  \n",
       "WIN_20210408_14_00_44_Pro               1.0         1.0    0.621526  -1.619113  \n",
       "WIN_20210408_14_02_19_Pro               0.0         1.0   -1.618338  -0.196644  \n",
       "WIN_20210408_14_11_32_Pro               1.0         1.0   -3.000000   0.000000  \n",
       "WIN_20210408_15_20_51_Pro               1.0         2.0   -0.245270  -1.055345  \n",
       "WIN_20210408_16_04_32_Pro               1.0         1.0    2.547767  -2.132549  \n",
       "WIN_20210409_10_26_11_Pro               0.0         1.0   -1.999866   0.011561  \n",
       "WIN_20210413_15_38_01_Pro               0.0         1.0   -0.727097  -1.128230  \n",
       "WIN_20210414_06_24_52_Pro               0.0         0.0  188.005208  13.784238  \n",
       "WIN_20210415_15_41_24_Pro               0.0         1.0   -1.997875   0.046095  \n",
       "WIN_20210416_08_06_54_Pro               1.0         1.0   -3.000000   0.000000  \n",
       "WIN_20210417_14_53_12_Pro               0.0         1.0   -1.848815  -0.388826  "
      ],
      "text/html": "<div>\n<style scoped>\n    .dataframe tbody tr th:only-of-type {\n        vertical-align: middle;\n    }\n\n    .dataframe tbody tr th {\n        vertical-align: top;\n    }\n\n    .dataframe thead tr th {\n        text-align: left;\n    }\n\n    .dataframe thead tr:last-of-type th {\n        text-align: right;\n    }\n</style>\n<table border=\"1\" class=\"dataframe\">\n  <thead>\n    <tr>\n      <th></th>\n      <th colspan=\"9\" halign=\"left\">ypredict</th>\n    </tr>\n    <tr>\n      <th></th>\n      <th>mean</th>\n      <th>min</th>\n      <th>max</th>\n      <th>median</th>\n      <th>std</th>\n      <th>percentil25</th>\n      <th>percentil75</th>\n      <th>kurtosis</th>\n      <th>skew</th>\n    </tr>\n    <tr>\n      <th>video_name</th>\n      <th></th>\n      <th></th>\n      <th></th>\n      <th></th>\n      <th></th>\n      <th></th>\n      <th></th>\n      <th></th>\n      <th></th>\n    </tr>\n  </thead>\n  <tbody>\n    <tr>\n      <th>Test_pour_AFPA</th>\n      <td>0.830688</td>\n      <td>0.0</td>\n      <td>2.0</td>\n      <td>1.0</td>\n      <td>0.416303</td>\n      <td>1.0</td>\n      <td>1.0</td>\n      <td>0.987649</td>\n      <td>-1.074290</td>\n    </tr>\n    <tr>\n      <th>Video_1</th>\n      <td>0.642384</td>\n      <td>0.0</td>\n      <td>1.0</td>\n      <td>1.0</td>\n      <td>0.480893</td>\n      <td>0.0</td>\n      <td>1.0</td>\n      <td>-1.647003</td>\n      <td>-0.594136</td>\n    </tr>\n    <tr>\n      <th>WIN_20210323_19_17_40_Pro</th>\n      <td>0.702381</td>\n      <td>0.0</td>\n      <td>2.0</td>\n      <td>1.0</td>\n      <td>0.471455</td>\n      <td>0.0</td>\n      <td>1.0</td>\n      <td>-1.029843</td>\n      <td>-0.712361</td>\n    </tr>\n    <tr>\n      <th>WIN_20210329_10_16_02_Pro</th>\n      <td>0.809524</td>\n      <td>0.0</td>\n      <td>1.0</td>\n      <td>1.0</td>\n      <td>0.394019</td>\n      <td>1.0</td>\n      <td>1.0</td>\n      <td>0.485294</td>\n      <td>-1.576482</td>\n    </tr>\n    <tr>\n      <th>WIN_20210330_13_10_29_Pro</th>\n      <td>0.728477</td>\n      <td>0.0</td>\n      <td>1.0</td>\n      <td>1.0</td>\n      <td>0.446225</td>\n      <td>0.0</td>\n      <td>1.0</td>\n      <td>-0.944346</td>\n      <td>-1.027450</td>\n    </tr>\n    <tr>\n      <th>WIN_20210331_21_22_52_Pro</th>\n      <td>0.670588</td>\n      <td>0.0</td>\n      <td>1.0</td>\n      <td>1.0</td>\n      <td>0.471388</td>\n      <td>0.0</td>\n      <td>1.0</td>\n      <td>-1.473058</td>\n      <td>-0.725908</td>\n    </tr>\n    <tr>\n      <th>WIN_20210402_14_27_50_Pro</th>\n      <td>0.994624</td>\n      <td>0.0</td>\n      <td>1.0</td>\n      <td>1.0</td>\n      <td>0.073324</td>\n      <td>1.0</td>\n      <td>1.0</td>\n      <td>181.005405</td>\n      <td>-13.527949</td>\n    </tr>\n    <tr>\n      <th>WIN_20210402_19_04_53_Pro</th>\n      <td>0.125714</td>\n      <td>0.0</td>\n      <td>2.0</td>\n      <td>0.0</td>\n      <td>0.395625</td>\n      <td>0.0</td>\n      <td>0.0</td>\n      <td>10.586080</td>\n      <td>3.293186</td>\n    </tr>\n    <tr>\n      <th>WIN_20210403_18_49_15_Pro</th>\n      <td>0.712707</td>\n      <td>0.0</td>\n      <td>1.0</td>\n      <td>1.0</td>\n      <td>0.453755</td>\n      <td>0.0</td>\n      <td>1.0</td>\n      <td>-1.116130</td>\n      <td>-0.940144</td>\n    </tr>\n    <tr>\n      <th>WIN_20210404_10_58_27_Pro</th>\n      <td>0.265000</td>\n      <td>0.0</td>\n      <td>2.0</td>\n      <td>0.0</td>\n      <td>0.588649</td>\n      <td>0.0</td>\n      <td>0.0</td>\n      <td>3.033203</td>\n      <td>2.085987</td>\n    </tr>\n    <tr>\n      <th>WIN_20210404_21_41_12_Pro</th>\n      <td>0.650862</td>\n      <td>0.0</td>\n      <td>1.0</td>\n      <td>1.0</td>\n      <td>0.477728</td>\n      <td>0.0</td>\n      <td>1.0</td>\n      <td>-1.599379</td>\n      <td>-0.632947</td>\n    </tr>\n    <tr>\n      <th>WIN_20210405_15_09_16_Pro</th>\n      <td>0.606452</td>\n      <td>0.0</td>\n      <td>2.0</td>\n      <td>1.0</td>\n      <td>0.503195</td>\n      <td>0.0</td>\n      <td>1.0</td>\n      <td>-1.535670</td>\n      <td>-0.281970</td>\n    </tr>\n    <tr>\n      <th>WIN_20210406_15_06_15_Pro</th>\n      <td>0.863415</td>\n      <td>0.0</td>\n      <td>1.0</td>\n      <td>1.0</td>\n      <td>0.344250</td>\n      <td>1.0</td>\n      <td>1.0</td>\n      <td>2.479621</td>\n      <td>-2.116511</td>\n    </tr>\n    <tr>\n      <th>WIN_20210406_18_35_52_Pro</th>\n      <td>0.518987</td>\n      <td>0.0</td>\n      <td>1.0</td>\n      <td>1.0</td>\n      <td>0.501228</td>\n      <td>0.0</td>\n      <td>1.0</td>\n      <td>-1.994223</td>\n      <td>-0.076004</td>\n    </tr>\n    <tr>\n      <th>WIN_20210406_18_49_10_Pro</th>\n      <td>0.783626</td>\n      <td>0.0</td>\n      <td>1.0</td>\n      <td>1.0</td>\n      <td>0.412982</td>\n      <td>1.0</td>\n      <td>1.0</td>\n      <td>-0.102259</td>\n      <td>-1.377585</td>\n    </tr>\n    <tr>\n      <th>WIN_20210406_21_05_52_Pro</th>\n      <td>0.589189</td>\n      <td>0.0</td>\n      <td>1.0</td>\n      <td>1.0</td>\n      <td>0.493316</td>\n      <td>0.0</td>\n      <td>1.0</td>\n      <td>-1.868542</td>\n      <td>-0.362572</td>\n    </tr>\n    <tr>\n      <th>WIN_20210407_09_04_05_Pro</th>\n      <td>0.565445</td>\n      <td>0.0</td>\n      <td>2.0</td>\n      <td>1.0</td>\n      <td>0.507481</td>\n      <td>0.0</td>\n      <td>1.0</td>\n      <td>-1.675625</td>\n      <td>-0.142755</td>\n    </tr>\n    <tr>\n      <th>WIN_20210407_14_54_56_Pro_edit2</th>\n      <td>0.616352</td>\n      <td>0.0</td>\n      <td>1.0</td>\n      <td>1.0</td>\n      <td>0.487810</td>\n      <td>0.0</td>\n      <td>1.0</td>\n      <td>-1.770994</td>\n      <td>-0.478546</td>\n    </tr>\n    <tr>\n      <th>WIN_20210408_11_48_58_Pro</th>\n      <td>1.293333</td>\n      <td>0.0</td>\n      <td>2.0</td>\n      <td>1.0</td>\n      <td>0.537188</td>\n      <td>1.0</td>\n      <td>2.0</td>\n      <td>-0.580609</td>\n      <td>0.099227</td>\n    </tr>\n    <tr>\n      <th>WIN_20210408_14_00_44_Pro</th>\n      <td>0.814607</td>\n      <td>0.0</td>\n      <td>1.0</td>\n      <td>1.0</td>\n      <td>0.389713</td>\n      <td>1.0</td>\n      <td>1.0</td>\n      <td>0.621526</td>\n      <td>-1.619113</td>\n    </tr>\n    <tr>\n      <th>WIN_20210408_14_02_19_Pro</th>\n      <td>0.582353</td>\n      <td>0.0</td>\n      <td>2.0</td>\n      <td>1.0</td>\n      <td>0.506450</td>\n      <td>0.0</td>\n      <td>1.0</td>\n      <td>-1.618338</td>\n      <td>-0.196644</td>\n    </tr>\n    <tr>\n      <th>WIN_20210408_14_11_32_Pro</th>\n      <td>1.000000</td>\n      <td>1.0</td>\n      <td>1.0</td>\n      <td>1.0</td>\n      <td>0.000000</td>\n      <td>1.0</td>\n      <td>1.0</td>\n      <td>-3.000000</td>\n      <td>0.000000</td>\n    </tr>\n    <tr>\n      <th>WIN_20210408_15_20_51_Pro</th>\n      <td>1.500000</td>\n      <td>0.0</td>\n      <td>2.0</td>\n      <td>2.0</td>\n      <td>0.705363</td>\n      <td>1.0</td>\n      <td>2.0</td>\n      <td>-0.245270</td>\n      <td>-1.055345</td>\n    </tr>\n    <tr>\n      <th>WIN_20210408_16_04_32_Pro</th>\n      <td>0.864706</td>\n      <td>0.0</td>\n      <td>1.0</td>\n      <td>1.0</td>\n      <td>0.343048</td>\n      <td>1.0</td>\n      <td>1.0</td>\n      <td>2.547767</td>\n      <td>-2.132549</td>\n    </tr>\n    <tr>\n      <th>WIN_20210409_10_26_11_Pro</th>\n      <td>0.497110</td>\n      <td>0.0</td>\n      <td>1.0</td>\n      <td>0.0</td>\n      <td>0.501443</td>\n      <td>0.0</td>\n      <td>1.0</td>\n      <td>-1.999866</td>\n      <td>0.011561</td>\n    </tr>\n    <tr>\n      <th>WIN_20210413_15_38_01_Pro</th>\n      <td>0.745665</td>\n      <td>0.0</td>\n      <td>1.0</td>\n      <td>1.0</td>\n      <td>0.436751</td>\n      <td>0.0</td>\n      <td>1.0</td>\n      <td>-0.727097</td>\n      <td>-1.128230</td>\n    </tr>\n    <tr>\n      <th>WIN_20210414_06_24_52_Pro</th>\n      <td>0.005181</td>\n      <td>0.0</td>\n      <td>1.0</td>\n      <td>0.0</td>\n      <td>0.071982</td>\n      <td>0.0</td>\n      <td>0.0</td>\n      <td>188.005208</td>\n      <td>13.784238</td>\n    </tr>\n    <tr>\n      <th>WIN_20210415_15_41_24_Pro</th>\n      <td>0.488479</td>\n      <td>0.0</td>\n      <td>1.0</td>\n      <td>0.0</td>\n      <td>0.501023</td>\n      <td>0.0</td>\n      <td>1.0</td>\n      <td>-1.997875</td>\n      <td>0.046095</td>\n    </tr>\n    <tr>\n      <th>WIN_20210416_08_06_54_Pro</th>\n      <td>1.000000</td>\n      <td>1.0</td>\n      <td>1.0</td>\n      <td>1.0</td>\n      <td>0.000000</td>\n      <td>1.0</td>\n      <td>1.0</td>\n      <td>-3.000000</td>\n      <td>0.000000</td>\n    </tr>\n    <tr>\n      <th>WIN_20210417_14_53_12_Pro</th>\n      <td>0.595420</td>\n      <td>0.0</td>\n      <td>1.0</td>\n      <td>1.0</td>\n      <td>0.492695</td>\n      <td>0.0</td>\n      <td>1.0</td>\n      <td>-1.848815</td>\n      <td>-0.388826</td>\n    </tr>\n  </tbody>\n</table>\n</div>"
     },
     "metadata": {},
     "execution_count": 50
    }
   ],
   "source": [
    "df_ypredict = pd.read_csv('ypredict_' + features + '_tw5' + diapo_selection + '.csv')\n",
    "df_ypredict = df_ypredict.iloc[:,1:]\n",
    "df_ypredict.columns = ['video_name','diapo','frameTimeWindow','ypredict']\n",
    "df_ypredict = df_ypredict.groupby(['video_name']).agg({'ypredict': ['mean','min','max', 'median', 'std', percentil25, percentil75, kurtosis, skew]})\n",
    "df_ypredict\n"
   ]
  },
  {
   "cell_type": "code",
   "execution_count": 51,
   "metadata": {},
   "outputs": [],
   "source": [
    "Xy = df_ypredict.merge(df_annotations_stress, on='video_name')\n",
    "X = Xy.iloc[:,:-1].set_index('video_name')\n",
    "y = Xy.iloc[:,-1]"
   ]
  },
  {
   "cell_type": "code",
   "execution_count": 52,
   "metadata": {},
   "outputs": [],
   "source": [
    "from sklearn.linear_model import LogisticRegression\n",
    "from sklearn.neighbors import KNeighborsClassifier\n",
    "from sklearn.ensemble import RandomForestClassifier\n",
    "from sklearn.model_selection import LeaveOneGroupOut\n",
    "from sklearn.decomposition import PCA\n",
    "from sklearn.pipeline import Pipeline\n",
    "\n",
    "pca = PCA()\n",
    "\n",
    "models_list = [\n",
    "                LogisticRegression(multi_class='multinomial', fit_intercept=True, random_state=42),\n",
    "                Pipeline(steps=[('pca', pca), ('logistic', LogisticRegression(multi_class='multinomial', fit_intercept=True))]),\n",
    "                KNeighborsClassifier(),\n",
    "                Pipeline(steps=[('pca', pca), ('knn', KNeighborsClassifier())]),\n",
    "                RandomForestClassifier(random_state = 42, n_jobs=-1)\n",
    "                ]\n",
    "\n",
    "parameters_list = [\n",
    "                    {'C': [0.01, 0.05, 0.1, 0.5, 1, 2, 3, 4 , 5, 10], 'class_weight' : [None, 'balanced']},\n",
    "                    {'pca__n_components': [1, 2, 3, 4],\n",
    "                        'logistic__C': [0.01, 0.05, 0.1, 0.5, 1, 2, 3, 4 , 5, 10], 'logistic__class_weight' : [None, 'balanced']},\n",
    "                    {'n_neighbors': [4, 5, 6, 7, 8, 9, 10, 11, 12,  15, 20], 'weights' : ['uniform', 'distance'], 'p': [1, 2]},\n",
    "                    {'pca__n_components': [1, 2, 3, 4],\n",
    "                        'knn__n_neighbors': [4, 5, 6, 7, 8, 9, 10, 11, 12,  15, 20], 'knn__weights' : ['uniform', 'distance'],                              'knn__p': [1, 2]},\n",
    "                    {'n_estimators': [50, 100, 150, 200], 'max_depth':[3, 4, 5, 6, 10, 15, 20], 'class_weight':[None,'balanced']}\n",
    "                    ]\n",
    "\n",
    "groups = X.reset_index()['video_name']\n",
    "loo = LeaveOneGroupOut()\n",
    "cv_loo = loo.split(X, y, groups)"
   ]
  },
  {
   "cell_type": "code",
   "execution_count": 53,
   "metadata": {},
   "outputs": [
    {
     "output_type": "stream",
     "name": "stdout",
     "text": [
      "Fitting 5 folds for each of 16 candidates, totalling 80 fits\n",
      "[Parallel(n_jobs=1)]: Using backend SequentialBackend with 1 concurrent workers.\n",
      "Best results 0.4333333333333334\n",
      "Best params {'C': 0.1, 'class_weight': 'balanced'}\n",
      "accuracy (mean, std) 0.4333333333333334 0.27080128015453203\n",
      "f1 (mean, std) 0.3682539682539682 0.2641128659230408\n",
      "[Parallel(n_jobs=1)]: Done  80 out of  80 | elapsed:    1.7s finished\n"
     ]
    }
   ],
   "source": [
    "parameters = {'C': [0.01, 0.05, 0.1, 0.5, 1, 2, 10, 20], 'class_weight' : [None, 'balanced']}\n",
    "from sklearn.model_selection import LeaveOneGroupOut\n",
    "from sklearn.linear_model import LogisticRegression\n",
    "from sklearn.model_selection import cross_val_predict, GridSearchCV\n",
    "from sklearn.metrics import accuracy_score, f1_score\n",
    "import warnings\n",
    "warnings.filterwarnings(\"ignore\")\n",
    "\n",
    "groups = X.reset_index()['video_name']\n",
    "loo = LeaveOneGroupOut()\n",
    "cv_loo = loo.split(X, y, groups)\n",
    "X_no_name = X\n",
    "y_no_name = y\n",
    "\n",
    "model = LogisticRegression(multi_class='multinomial', fit_intercept=True, random_state=42)\n",
    "\n",
    "clf = GridSearchCV(estimator=model, \n",
    "                    param_grid=parameters, \n",
    "                    scoring={'accuracy_score' : 'accuracy', 'f1_score' : 'f1_weighted' }, \n",
    "                    refit='accuracy_score',\n",
    "                    cv=5, verbose=1)\n",
    "clf.fit(X_no_name, y_no_name)\n",
    "print('Best results', clf.best_score_)\n",
    "print('Best params', clf.best_params_)\n",
    "print('accuracy (mean, std)', clf.cv_results_['mean_test_accuracy_score'][clf.best_index_], clf.cv_results_['std_test_accuracy_score'][clf.best_index_])\n",
    "print('f1 (mean, std)', clf.cv_results_['mean_test_f1_score'][clf.best_index_], clf.cv_results_['std_test_f1_score'][clf.best_index_])"
   ]
  },
  {
   "cell_type": "code",
   "execution_count": 54,
   "metadata": {},
   "outputs": [
    {
     "output_type": "stream",
     "name": "stderr",
     "text": [
      "[Parallel(n_jobs=-1)]: Using backend LokyBackend with 8 concurrent workers.\n",
      "Fitting 5 folds for each of 20 candidates, totalling 100 fits\n",
      "[Parallel(n_jobs=-1)]: Done  56 tasks      | elapsed:    0.6s\n",
      "[Parallel(n_jobs=-1)]: Done 100 out of 100 | elapsed:    0.9s finished\n",
      "[Parallel(n_jobs=-1)]: Using backend LokyBackend with 8 concurrent workers.\n",
      "Best estimator LogisticRegression(C=4, class_weight='balanced', multi_class='multinomial',\n",
      "                   random_state=42)\n",
      "Best results 0.3726984126984127\n",
      "Best params {'C': 4, 'class_weight': 'balanced'}\n",
      "accuracy (mean, std) 0.4333333333333334 0.30912061651652345\n",
      "f1 (mean, std) 0.3726984126984127 0.28096116926439624\n",
      "balanced accuracy (mean, std) 0.37777777777777777 0.26620330112690976\n",
      "precision (mean, std) 0.3333333333333333 0.2623493100692799\n",
      "recall (mean, std) 0.4333333333333334 0.30912061651652345\n",
      "\n",
      "Fitting 5 folds for each of 80 candidates, totalling 400 fits\n",
      "[Parallel(n_jobs=-1)]: Done  56 tasks      | elapsed:    0.6s\n",
      "[Parallel(n_jobs=-1)]: Done 385 out of 400 | elapsed:    2.6s remaining:    0.1s\n",
      "[Parallel(n_jobs=-1)]: Done 400 out of 400 | elapsed:    2.7s finished\n",
      "[Parallel(n_jobs=-1)]: Using backend LokyBackend with 8 concurrent workers.\n",
      "Best estimator Pipeline(steps=[('pca', PCA(n_components=2)),\n",
      "                ('logistic',\n",
      "                 LogisticRegression(C=0.5, class_weight='balanced',\n",
      "                                    multi_class='multinomial'))])\n",
      "Best results 0.4282539682539682\n",
      "Best params {'logistic__C': 0.5, 'logistic__class_weight': 'balanced', 'pca__n_components': 2}\n",
      "accuracy (mean, std) 0.5 0.18257418583505539\n",
      "f1 (mean, std) 0.4282539682539682 0.1999128053817612\n",
      "balanced accuracy (mean, std) 0.4666666666666666 0.19436506316151006\n",
      "precision (mean, std) 0.42388888888888887 0.23964737469359196\n",
      "recall (mean, std) 0.5 0.18257418583505539\n",
      "\n",
      "Fitting 5 folds for each of 44 candidates, totalling 220 fits\n",
      "[Parallel(n_jobs=-1)]: Done  56 tasks      | elapsed:    0.2s\n",
      "[Parallel(n_jobs=-1)]: Done 220 out of 220 | elapsed:    0.6s finished\n",
      "[Parallel(n_jobs=-1)]: Using backend LokyBackend with 8 concurrent workers.\n",
      "Best estimator KNeighborsClassifier(n_neighbors=6, p=1)\n",
      "Best results 0.385079365079365\n",
      "Best params {'n_neighbors': 6, 'p': 1, 'weights': 'uniform'}\n",
      "accuracy (mean, std) 0.4666666666666667 0.19436506316151003\n",
      "f1 (mean, std) 0.385079365079365 0.20965027448427734\n",
      "balanced accuracy (mean, std) 0.4111111111111111 0.12957670877434\n",
      "precision (mean, std) 0.3416666666666667 0.20779560232516717\n",
      "recall (mean, std) 0.4666666666666667 0.19436506316151003\n",
      "\n",
      "Fitting 5 folds for each of 176 candidates, totalling 880 fits\n",
      "[Parallel(n_jobs=-1)]: Done  56 tasks      | elapsed:    0.3s\n",
      "[Parallel(n_jobs=-1)]: Done 880 out of 880 | elapsed:    2.3s finished\n",
      "[Parallel(n_jobs=-1)]: Using backend LokyBackend with 8 concurrent workers.\n",
      "Best estimator Pipeline(steps=[('pca', PCA(n_components=1)),\n",
      "                ('knn', KNeighborsClassifier(n_neighbors=9, p=1))])\n",
      "Best results 0.4206349206349206\n",
      "Best params {'knn__n_neighbors': 9, 'knn__p': 1, 'knn__weights': 'uniform', 'pca__n_components': 1}\n",
      "accuracy (mean, std) 0.5 0.10540925533894598\n",
      "f1 (mean, std) 0.4206349206349206 0.10384398243680083\n",
      "balanced accuracy (mean, std) 0.4444444444444445 0.07027283689263067\n",
      "precision (mean, std) 0.37499999999999994 0.09860132971832691\n",
      "recall (mean, std) 0.5 0.10540925533894598\n",
      "\n",
      "Fitting 5 folds for each of 56 candidates, totalling 280 fits\n",
      "[Parallel(n_jobs=-1)]: Done  52 tasks      | elapsed:    3.3s\n",
      "[Parallel(n_jobs=-1)]: Done 240 tasks      | elapsed:   14.0s\n",
      "Best estimator RandomForestClassifier(max_depth=3, n_estimators=50, n_jobs=-1, random_state=42)\n",
      "Best results 0.4177777777777777\n",
      "Best params {'class_weight': None, 'max_depth': 3, 'n_estimators': 50}\n",
      "accuracy (mean, std) 0.4333333333333333 0.24944382578492943\n",
      "f1 (mean, std) 0.4177777777777777 0.23991768135583605\n",
      "balanced accuracy (mean, std) 0.38888888888888884 0.22771001702132437\n",
      "precision (mean, std) 0.4722222222222222 0.2810913475705226\n",
      "recall (mean, std) 0.4333333333333333 0.24944382578492943\n",
      "\n",
      "f1_score (weighted) 0.46439393939393947\n",
      "accuracy 0.5\n",
      "[Parallel(n_jobs=-1)]: Done 280 out of 280 | elapsed:   16.4s finished\n"
     ]
    }
   ],
   "source": [
    "best_result, y_predict, y_predict_proba, result_list = runGridSearchClassifiers(X, y, 5, models_list, parameters_list, \n",
    "                                                                output_predict=True, n_jobs=-1, verbose=True)"
   ]
  },
  {
   "cell_type": "code",
   "execution_count": 55,
   "metadata": {},
   "outputs": [
    {
     "output_type": "execute_result",
     "data": {
      "text/plain": [
       "{'best_estimator': Pipeline(steps=[('pca', PCA(n_components=2)),\n",
       "                 ('logistic',\n",
       "                  LogisticRegression(C=0.5, class_weight='balanced',\n",
       "                                     multi_class='multinomial'))]),\n",
       " 'best_score': 0.4282539682539682,\n",
       " 'best_params': {'logistic__C': 0.5,\n",
       "  'logistic__class_weight': 'balanced',\n",
       "  'pca__n_components': 2},\n",
       " 'mean_test_f1_score': 0.4282539682539682,\n",
       " 'std_test_f1_score': 0.1999128053817612,\n",
       " 'mean_test_accuracy_score': 0.5,\n",
       " 'std_test_accuracy_score': 0.18257418583505539,\n",
       " 'mean_test_balanced_accuracy_score': 0.4666666666666666,\n",
       " 'std_test_balanced_accuracy_score': 0.19436506316151006,\n",
       " 'mean_test_precision': 0.42388888888888887,\n",
       " 'std_test_precision': 0.23964737469359196,\n",
       " 'mean_test_recall': 0.5,\n",
       " 'std_test_recall': 0.18257418583505539}"
      ]
     },
     "metadata": {},
     "execution_count": 55
    }
   ],
   "source": [
    "best_result"
   ]
  },
  {
   "cell_type": "code",
   "execution_count": 60,
   "metadata": {},
   "outputs": [],
   "source": [
    "df_ypredict_stress_global = pd.concat([ypredict_stress_diapo.reset_index(), pd.DataFrame(y_predict,columns=['predicted_stress_global'])], axis=1) \n",
    "df_ypredict_stress_global = df_ypredict_stress_global.set_index('video_name').sort_index()\n",
    "df_ypredict_stress_global = df_ypredict_stress_global.iloc[:,-1]"
   ]
  },
  {
   "cell_type": "code",
   "execution_count": 61,
   "metadata": {
    "scrolled": true
   },
   "outputs": [
    {
     "output_type": "execute_result",
     "data": {
      "text/plain": [
       "video_name\n",
       "Test_pour_AFPA                     1.0\n",
       "Video_1                            0.0\n",
       "WIN_20210323_19_17_40_Pro          0.0\n",
       "WIN_20210329_10_16_02_Pro          0.0\n",
       "WIN_20210330_13_10_29_Pro          0.0\n",
       "WIN_20210331_21_22_52_Pro          0.0\n",
       "WIN_20210402_14_27_50_Pro          1.0\n",
       "WIN_20210402_19_04_53_Pro          2.0\n",
       "WIN_20210403_18_49_15_Pro          0.0\n",
       "WIN_20210404_10_58_27_Pro          2.0\n",
       "WIN_20210404_21_41_12_Pro          0.0\n",
       "WIN_20210405_15_09_16_Pro          0.0\n",
       "WIN_20210406_15_06_15_Pro          1.0\n",
       "WIN_20210406_18_35_52_Pro          0.0\n",
       "WIN_20210406_18_49_10_Pro          1.0\n",
       "WIN_20210406_21_05_52_Pro          0.0\n",
       "WIN_20210407_09_04_05_Pro          0.0\n",
       "WIN_20210407_14_54_56_Pro_edit2    0.0\n",
       "WIN_20210408_11_48_58_Pro          0.0\n",
       "WIN_20210408_14_00_44_Pro          0.0\n",
       "WIN_20210408_14_02_19_Pro          0.0\n",
       "WIN_20210408_14_11_32_Pro          0.0\n",
       "WIN_20210408_15_20_51_Pro          1.0\n",
       "WIN_20210408_16_04_32_Pro          1.0\n",
       "WIN_20210409_10_26_11_Pro          0.0\n",
       "WIN_20210413_15_38_01_Pro          0.0\n",
       "WIN_20210414_06_24_52_Pro          2.0\n",
       "WIN_20210415_15_41_24_Pro          0.0\n",
       "WIN_20210416_08_06_54_Pro          0.0\n",
       "WIN_20210417_14_53_12_Pro          0.0\n",
       "Name: predicted_stress_global, dtype: float64"
      ]
     },
     "metadata": {},
     "execution_count": 61
    }
   ],
   "source": [
    "df_ypredict_stress_global"
   ]
  },
  {
   "cell_type": "code",
   "execution_count": null,
   "metadata": {},
   "outputs": [],
   "source": []
  },
  {
   "cell_type": "markdown",
   "metadata": {},
   "source": [
    "### Audios diapos only"
   ]
  },
  {
   "cell_type": "code",
   "execution_count": null,
   "metadata": {},
   "outputs": [],
   "source": []
  },
  {
   "cell_type": "code",
   "execution_count": 62,
   "metadata": {},
   "outputs": [],
   "source": [
    "diapo_selection = '_audio_only'\n",
    "diapo_audio_list = [8,9,10,11,17]\n",
    "X = X_audio\n",
    "y = y_audio"
   ]
  },
  {
   "cell_type": "code",
   "execution_count": 63,
   "metadata": {},
   "outputs": [],
   "source": [
    "from sklearn.ensemble import RandomForestClassifier\n",
    "from sklearn.model_selection import LeaveOneGroupOut\n",
    "\n",
    "models_list = [RandomForestClassifier(random_state = 42, n_jobs=-1)]\n",
    "parameters_list = [\n",
    "                {'n_estimators': [100, 150, 200], 'max_depth':[10, 15, 20, 25], 'class_weight':[None,'balanced']}\n",
    "                ]\n",
    "groups = X.reset_index()['video_name']\n",
    "loo = LeaveOneGroupOut()\n",
    "cv_loo = loo.split(X, y, groups)"
   ]
  },
  {
   "cell_type": "code",
   "execution_count": 64,
   "metadata": {},
   "outputs": [
    {
     "output_type": "stream",
     "name": "stdout",
     "text": [
      "Fitting 30 folds for each of 24 candidates, totalling 720 fits\n",
      "[Parallel(n_jobs=-1)]: Using backend LokyBackend with 8 concurrent workers.\n",
      "[Parallel(n_jobs=-1)]: Done  34 tasks      | elapsed:   26.1s\n",
      "[Parallel(n_jobs=-1)]: Done 184 tasks      | elapsed:  3.0min\n",
      "[Parallel(n_jobs=-1)]: Done 434 tasks      | elapsed:  7.2min\n",
      "[Parallel(n_jobs=-1)]: Done 720 out of 720 | elapsed: 12.2min finished\n",
      "Best estimator RandomForestClassifier(max_depth=25, n_jobs=-1, random_state=42)\n",
      "Best results 0.4895567766570025\n",
      "Best params {'class_weight': None, 'max_depth': 25, 'n_estimators': 100}\n",
      "accuracy (mean, std) 0.4627812792533997 0.2374004254394037\n",
      "f1 (mean, std) 0.4895567766570025 0.2643965616504656\n",
      "balanced accuracy (mean, std) 0.47060091995098524 0.1975398259321073\n",
      "precision (mean, std) 0.6905439806468997 0.29522573381181333\n",
      "recall (mean, std) 0.4627812792533997 0.2374004254394037\n",
      "\n",
      "f1_score (weighted) 0.4456935088383956\n",
      "accuracy 0.4628518689432395\n"
     ]
    }
   ],
   "source": [
    "best_result, y_predict, y_predict_proba,result_list = runGridSearchClassifiers(X, y, cv_loo, models_list, parameters_list, \n",
    "                                                                output_predict=True, n_jobs=-1, verbose=True)"
   ]
  },
  {
   "cell_type": "code",
   "execution_count": 65,
   "metadata": {},
   "outputs": [],
   "source": [
    "# Saving predictions\n",
    "df_ypredict = pd.concat([X.reset_index()[['video_name','diapo','frameTimeWindow']],\n",
    "                        pd.DataFrame(y_predict, columns=['ypredict'])],axis=1)\n",
    "df_ypredict.to_csv('ypredict_' + features + '_tw5' + diapo_selection + '.csv')"
   ]
  },
  {
   "cell_type": "code",
   "execution_count": 66,
   "metadata": {},
   "outputs": [
    {
     "output_type": "execute_result",
     "data": {
      "text/plain": [
       "array([[463, 455,  20,   0],\n",
       "       [396, 528,  51,   0],\n",
       "       [117, 105,  12,   0],\n",
       "       [  5,  15,   0,   0]])"
      ]
     },
     "metadata": {},
     "execution_count": 66
    }
   ],
   "source": [
    "from sklearn.metrics import confusion_matrix\n",
    "confusion_matrix(y, y_predict)"
   ]
  },
  {
   "cell_type": "code",
   "execution_count": 67,
   "metadata": {},
   "outputs": [],
   "source": [
    "df_ypredict = pd.read_csv('ypredict_' + features + '_tw5' + diapo_selection + '.csv')\n",
    "df_ypredict = df_ypredict.iloc[:,1:]\n",
    "df_ypredict.columns = ['video_name','diapo','frameTimeWindow','ypredict']\n",
    "df_ypredict['ypredict'] = df_ypredict['ypredict'].astype(int)\n"
   ]
  },
  {
   "cell_type": "markdown",
   "metadata": {},
   "source": [
    "#### En utilisant la proportion des prédictions 0, 1 et 2"
   ]
  },
  {
   "cell_type": "code",
   "execution_count": 68,
   "metadata": {},
   "outputs": [
    {
     "output_type": "execute_result",
     "data": {
      "text/plain": [
       "ypredict                                0         1    2\n",
       "video_name                diapo                         \n",
       "Test_pour_AFPA            8      0.000000  1.000000  0.0\n",
       "                          9      0.150000  0.850000  0.0\n",
       "                          10     0.066667  0.933333  0.0\n",
       "                          11     0.000000  1.000000  0.0\n",
       "                          17     0.000000  1.000000  0.0\n",
       "...                                   ...       ...  ...\n",
       "WIN_20210417_14_53_12_Pro 8      0.909091  0.090909  0.0\n",
       "                          9      0.952381  0.047619  0.0\n",
       "                          10     0.714286  0.285714  0.0\n",
       "                          11     0.700000  0.300000  0.0\n",
       "                          17     0.714286  0.285714  0.0\n",
       "\n",
       "[150 rows x 3 columns]"
      ],
      "text/html": "<div>\n<style scoped>\n    .dataframe tbody tr th:only-of-type {\n        vertical-align: middle;\n    }\n\n    .dataframe tbody tr th {\n        vertical-align: top;\n    }\n\n    .dataframe thead th {\n        text-align: right;\n    }\n</style>\n<table border=\"1\" class=\"dataframe\">\n  <thead>\n    <tr style=\"text-align: right;\">\n      <th></th>\n      <th>ypredict</th>\n      <th>0</th>\n      <th>1</th>\n      <th>2</th>\n    </tr>\n    <tr>\n      <th>video_name</th>\n      <th>diapo</th>\n      <th></th>\n      <th></th>\n      <th></th>\n    </tr>\n  </thead>\n  <tbody>\n    <tr>\n      <th rowspan=\"5\" valign=\"top\">Test_pour_AFPA</th>\n      <th>8</th>\n      <td>0.000000</td>\n      <td>1.000000</td>\n      <td>0.0</td>\n    </tr>\n    <tr>\n      <th>9</th>\n      <td>0.150000</td>\n      <td>0.850000</td>\n      <td>0.0</td>\n    </tr>\n    <tr>\n      <th>10</th>\n      <td>0.066667</td>\n      <td>0.933333</td>\n      <td>0.0</td>\n    </tr>\n    <tr>\n      <th>11</th>\n      <td>0.000000</td>\n      <td>1.000000</td>\n      <td>0.0</td>\n    </tr>\n    <tr>\n      <th>17</th>\n      <td>0.000000</td>\n      <td>1.000000</td>\n      <td>0.0</td>\n    </tr>\n    <tr>\n      <th>...</th>\n      <th>...</th>\n      <td>...</td>\n      <td>...</td>\n      <td>...</td>\n    </tr>\n    <tr>\n      <th rowspan=\"5\" valign=\"top\">WIN_20210417_14_53_12_Pro</th>\n      <th>8</th>\n      <td>0.909091</td>\n      <td>0.090909</td>\n      <td>0.0</td>\n    </tr>\n    <tr>\n      <th>9</th>\n      <td>0.952381</td>\n      <td>0.047619</td>\n      <td>0.0</td>\n    </tr>\n    <tr>\n      <th>10</th>\n      <td>0.714286</td>\n      <td>0.285714</td>\n      <td>0.0</td>\n    </tr>\n    <tr>\n      <th>11</th>\n      <td>0.700000</td>\n      <td>0.300000</td>\n      <td>0.0</td>\n    </tr>\n    <tr>\n      <th>17</th>\n      <td>0.714286</td>\n      <td>0.285714</td>\n      <td>0.0</td>\n    </tr>\n  </tbody>\n</table>\n<p>150 rows × 3 columns</p>\n</div>"
     },
     "metadata": {},
     "execution_count": 68
    }
   ],
   "source": [
    "X = df_ypredict.pivot_table(values='frameTimeWindow', columns='ypredict', index=['video_name','diapo'], aggfunc='count', fill_value=0)\n",
    "X_sum = X.sum(axis=1).values.copy()\n",
    "for col_number in range(len(X.columns)):\n",
    "    X.iloc[:,col_number] = X.iloc[:,col_number] / X_sum\n",
    "X\n",
    " "
   ]
  },
  {
   "cell_type": "code",
   "execution_count": 69,
   "metadata": {},
   "outputs": [
    {
     "output_type": "execute_result",
     "data": {
      "text/plain": [
       "                    video_name  diapo  stress\n",
       "1               Test_pour_AFPA      8     1.0\n",
       "2               Test_pour_AFPA      9     0.0\n",
       "3               Test_pour_AFPA     10     0.0\n",
       "4               Test_pour_AFPA     11     0.0\n",
       "6               Test_pour_AFPA     17     0.0\n",
       "..                         ...    ...     ...\n",
       "233  WIN_20210417_14_53_12_Pro      8     0.0\n",
       "234  WIN_20210417_14_53_12_Pro      9     0.0\n",
       "235  WIN_20210417_14_53_12_Pro     10     0.0\n",
       "236  WIN_20210417_14_53_12_Pro     11     0.0\n",
       "238  WIN_20210417_14_53_12_Pro     17     1.0\n",
       "\n",
       "[150 rows x 3 columns]"
      ],
      "text/html": "<div>\n<style scoped>\n    .dataframe tbody tr th:only-of-type {\n        vertical-align: middle;\n    }\n\n    .dataframe tbody tr th {\n        vertical-align: top;\n    }\n\n    .dataframe thead th {\n        text-align: right;\n    }\n</style>\n<table border=\"1\" class=\"dataframe\">\n  <thead>\n    <tr style=\"text-align: right;\">\n      <th></th>\n      <th>video_name</th>\n      <th>diapo</th>\n      <th>stress</th>\n    </tr>\n  </thead>\n  <tbody>\n    <tr>\n      <th>1</th>\n      <td>Test_pour_AFPA</td>\n      <td>8</td>\n      <td>1.0</td>\n    </tr>\n    <tr>\n      <th>2</th>\n      <td>Test_pour_AFPA</td>\n      <td>9</td>\n      <td>0.0</td>\n    </tr>\n    <tr>\n      <th>3</th>\n      <td>Test_pour_AFPA</td>\n      <td>10</td>\n      <td>0.0</td>\n    </tr>\n    <tr>\n      <th>4</th>\n      <td>Test_pour_AFPA</td>\n      <td>11</td>\n      <td>0.0</td>\n    </tr>\n    <tr>\n      <th>6</th>\n      <td>Test_pour_AFPA</td>\n      <td>17</td>\n      <td>0.0</td>\n    </tr>\n    <tr>\n      <th>...</th>\n      <td>...</td>\n      <td>...</td>\n      <td>...</td>\n    </tr>\n    <tr>\n      <th>233</th>\n      <td>WIN_20210417_14_53_12_Pro</td>\n      <td>8</td>\n      <td>0.0</td>\n    </tr>\n    <tr>\n      <th>234</th>\n      <td>WIN_20210417_14_53_12_Pro</td>\n      <td>9</td>\n      <td>0.0</td>\n    </tr>\n    <tr>\n      <th>235</th>\n      <td>WIN_20210417_14_53_12_Pro</td>\n      <td>10</td>\n      <td>0.0</td>\n    </tr>\n    <tr>\n      <th>236</th>\n      <td>WIN_20210417_14_53_12_Pro</td>\n      <td>11</td>\n      <td>0.0</td>\n    </tr>\n    <tr>\n      <th>238</th>\n      <td>WIN_20210417_14_53_12_Pro</td>\n      <td>17</td>\n      <td>1.0</td>\n    </tr>\n  </tbody>\n</table>\n<p>150 rows × 3 columns</p>\n</div>"
     },
     "metadata": {},
     "execution_count": 69
    }
   ],
   "source": [
    "df_annotations_stress = pd.read_csv('annotations.csv')\n",
    "df_annotations_stress = df_annotations_stress.drop(df_annotations_stress.columns[-1],axis=1).set_index('video_name').stack()\n",
    "df_annotations_stress = pd.DataFrame(df_annotations_stress).reset_index()\n",
    "df_annotations_stress.columns = ['video_name','diapo','stress']\n",
    "#df_annotations_stress = df_annotations_stress.set_index(['video_name','diapo'])\n",
    "df_annotations_stress['diapo'] = df_annotations_stress['diapo'].astype(int)\n",
    "df_annotations_stress = df_annotations_stress[df_annotations_stress.diapo.isin(diapo_audio_list)]\n",
    "df_annotations_stress"
   ]
  },
  {
   "cell_type": "code",
   "execution_count": 70,
   "metadata": {},
   "outputs": [],
   "source": [
    "Xy = X.merge(df_annotations_stress, how='inner', on=['video_name','diapo'])\n",
    "X = Xy.iloc[:,:-1].set_index(['video_name','diapo'])\n",
    "y = Xy.iloc[:,-1]"
   ]
  },
  {
   "cell_type": "code",
   "execution_count": 71,
   "metadata": {},
   "outputs": [
    {
     "output_type": "execute_result",
     "data": {
      "text/plain": [
       "                                        0         1    2\n",
       "video_name                diapo                         \n",
       "Test_pour_AFPA            8      0.000000  1.000000  0.0\n",
       "                          9      0.150000  0.850000  0.0\n",
       "                          10     0.066667  0.933333  0.0\n",
       "                          11     0.000000  1.000000  0.0\n",
       "                          17     0.000000  1.000000  0.0\n",
       "...                                   ...       ...  ...\n",
       "WIN_20210417_14_53_12_Pro 8      0.909091  0.090909  0.0\n",
       "                          9      0.952381  0.047619  0.0\n",
       "                          10     0.714286  0.285714  0.0\n",
       "                          11     0.700000  0.300000  0.0\n",
       "                          17     0.714286  0.285714  0.0\n",
       "\n",
       "[150 rows x 3 columns]"
      ],
      "text/html": "<div>\n<style scoped>\n    .dataframe tbody tr th:only-of-type {\n        vertical-align: middle;\n    }\n\n    .dataframe tbody tr th {\n        vertical-align: top;\n    }\n\n    .dataframe thead th {\n        text-align: right;\n    }\n</style>\n<table border=\"1\" class=\"dataframe\">\n  <thead>\n    <tr style=\"text-align: right;\">\n      <th></th>\n      <th></th>\n      <th>0</th>\n      <th>1</th>\n      <th>2</th>\n    </tr>\n    <tr>\n      <th>video_name</th>\n      <th>diapo</th>\n      <th></th>\n      <th></th>\n      <th></th>\n    </tr>\n  </thead>\n  <tbody>\n    <tr>\n      <th rowspan=\"5\" valign=\"top\">Test_pour_AFPA</th>\n      <th>8</th>\n      <td>0.000000</td>\n      <td>1.000000</td>\n      <td>0.0</td>\n    </tr>\n    <tr>\n      <th>9</th>\n      <td>0.150000</td>\n      <td>0.850000</td>\n      <td>0.0</td>\n    </tr>\n    <tr>\n      <th>10</th>\n      <td>0.066667</td>\n      <td>0.933333</td>\n      <td>0.0</td>\n    </tr>\n    <tr>\n      <th>11</th>\n      <td>0.000000</td>\n      <td>1.000000</td>\n      <td>0.0</td>\n    </tr>\n    <tr>\n      <th>17</th>\n      <td>0.000000</td>\n      <td>1.000000</td>\n      <td>0.0</td>\n    </tr>\n    <tr>\n      <th>...</th>\n      <th>...</th>\n      <td>...</td>\n      <td>...</td>\n      <td>...</td>\n    </tr>\n    <tr>\n      <th rowspan=\"5\" valign=\"top\">WIN_20210417_14_53_12_Pro</th>\n      <th>8</th>\n      <td>0.909091</td>\n      <td>0.090909</td>\n      <td>0.0</td>\n    </tr>\n    <tr>\n      <th>9</th>\n      <td>0.952381</td>\n      <td>0.047619</td>\n      <td>0.0</td>\n    </tr>\n    <tr>\n      <th>10</th>\n      <td>0.714286</td>\n      <td>0.285714</td>\n      <td>0.0</td>\n    </tr>\n    <tr>\n      <th>11</th>\n      <td>0.700000</td>\n      <td>0.300000</td>\n      <td>0.0</td>\n    </tr>\n    <tr>\n      <th>17</th>\n      <td>0.714286</td>\n      <td>0.285714</td>\n      <td>0.0</td>\n    </tr>\n  </tbody>\n</table>\n<p>150 rows × 3 columns</p>\n</div>"
     },
     "metadata": {},
     "execution_count": 71
    }
   ],
   "source": [
    "X"
   ]
  },
  {
   "cell_type": "code",
   "execution_count": 72,
   "metadata": {},
   "outputs": [],
   "source": [
    "from sklearn.linear_model import LogisticRegression\n",
    "from sklearn.neighbors import KNeighborsClassifier\n",
    "from sklearn.ensemble import RandomForestClassifier\n",
    "from sklearn.model_selection import LeaveOneGroupOut\n",
    "from sklearn.decomposition import PCA\n",
    "from sklearn.pipeline import Pipeline\n",
    "\n",
    "pca = PCA()\n",
    "pipe = Pipeline(steps=[('pca', pca), ('logistic', LogisticRegression(multi_class='multinomial', fit_intercept=True, random_state=42))])\n",
    "\n",
    "models_list = [\n",
    "                LogisticRegression(multi_class='multinomial', fit_intercept=True, random_state=42),\n",
    "                Pipeline(steps=[('pca', pca), ('logistic', LogisticRegression(multi_class='multinomial', fit_intercept=True))]),\n",
    "                KNeighborsClassifier(),\n",
    "                Pipeline(steps=[('pca', pca), ('knn', KNeighborsClassifier())]),\n",
    "                RandomForestClassifier(random_state = 42, n_jobs=-1)\n",
    "                ]\n",
    "\n",
    "parameters_list = [\n",
    "                    {'C': [0.01, 0.05, 0.1, 0.5, 1, 2, 3, 4 , 5, 10], 'class_weight' : [None, 'balanced']},\n",
    "                    {'pca__n_components': [1, 2, 3, 4],\n",
    "                        'logistic__C': [0.01, 0.05, 0.1, 0.5, 1, 2, 3, 4 , 5, 10], 'logistic__class_weight' : [None, 'balanced']},\n",
    "                    {'n_neighbors': [4, 5, 6, 7, 8, 9, 10, 11, 12,  15, 20], 'weights' : ['uniform', 'distance'], 'p': [1, 2]},\n",
    "                    {'pca__n_components': [1, 2, 3, 4],\n",
    "                        'knn__n_neighbors': [4, 5, 6, 7, 8, 9, 10, 11, 12,  15, 20], 'knn__weights' : ['uniform', 'distance'],                              'knn__p': [1, 2]},\n",
    "                    {'n_estimators': [50, 100, 150, 200], 'max_depth':[3, 4, 5, 6, 10, 15, 20], 'class_weight':[None,'balanced']}\n",
    "                    ]\n",
    "\n",
    "groups = X.reset_index()['video_name']\n",
    "loo = LeaveOneGroupOut()\n",
    "cv_loo = loo.split(X, y, groups)"
   ]
  },
  {
   "cell_type": "code",
   "execution_count": 73,
   "metadata": {},
   "outputs": [
    {
     "output_type": "stream",
     "name": "stdout",
     "text": [
      "Fitting 30 folds for each of 20 candidates, totalling 600 fits\n",
      "[Parallel(n_jobs=-1)]: Using backend LokyBackend with 8 concurrent workers.\n",
      "[Parallel(n_jobs=-1)]: Done  56 tasks      | elapsed:    0.4s\n",
      "[Parallel(n_jobs=-1)]: Done 585 out of 600 | elapsed:    3.3s remaining:    0.1s\n",
      "[Parallel(n_jobs=-1)]: Done 600 out of 600 | elapsed:    3.4s finished\n",
      "[Parallel(n_jobs=-1)]: Using backend LokyBackend with 8 concurrent workers.\n",
      "Best estimator LogisticRegression(C=10, multi_class='multinomial', random_state=42)\n",
      "Best results 0.31909523809523804\n",
      "Best params {'C': 10, 'class_weight': None}\n",
      "accuracy (mean, std) 0.3533333333333334 0.29522119767312704\n",
      "f1 (mean, std) 0.31909523809523804 0.31268205621551665\n",
      "balanced accuracy (mean, std) 0.3951851851851852 0.26297985078792435\n",
      "precision (mean, std) 0.3837777777777778 0.39844673730517083\n",
      "recall (mean, std) 0.3533333333333334 0.29522119767312704\n",
      "\n",
      "Fitting 30 folds for each of 80 candidates, totalling 2400 fits\n",
      "[Parallel(n_jobs=-1)]: Done  56 tasks      | elapsed:    0.5s\n",
      "[Parallel(n_jobs=-1)]: Done 2160 tasks      | elapsed:    7.9s\n",
      "[Parallel(n_jobs=-1)]: Done 2400 out of 2400 | elapsed:    8.6s finished\n",
      "[Parallel(n_jobs=-1)]: Using backend LokyBackend with 8 concurrent workers.\n",
      "Best estimator Pipeline(steps=[('pca', PCA(n_components=1)),\n",
      "                ('logistic',\n",
      "                 LogisticRegression(C=4, multi_class='multinomial'))])\n",
      "Best results 0.3823809523809523\n",
      "Best params {'logistic__C': 4, 'logistic__class_weight': None, 'pca__n_components': 1}\n",
      "accuracy (mean, std) 0.40000000000000013 0.28284271247461906\n",
      "f1 (mean, std) 0.3823809523809523 0.31382760423542433\n",
      "balanced accuracy (mean, std) 0.4324074074074074 0.2500065156901259\n",
      "precision (mean, std) 0.4696666666666668 0.4106538147339625\n",
      "recall (mean, std) 0.40000000000000013 0.28284271247461906\n",
      "\n",
      "Fitting 30 folds for each of 44 candidates, totalling 1320 fits\n",
      "[Parallel(n_jobs=-1)]: Done  56 tasks      | elapsed:    0.3s\n",
      "[Parallel(n_jobs=-1)]: Done 1320 out of 1320 | elapsed:    3.4s finished\n",
      "[Parallel(n_jobs=-1)]: Using backend LokyBackend with 8 concurrent workers.\n",
      "Best estimator KNeighborsClassifier(n_neighbors=9, p=1, weights='distance')\n",
      "Best results 0.45939153439153435\n",
      "Best params {'n_neighbors': 9, 'p': 1, 'weights': 'distance'}\n",
      "accuracy (mean, std) 0.4266666666666667 0.28627880738111855\n",
      "f1 (mean, std) 0.45939153439153435 0.3078150556415424\n",
      "balanced accuracy (mean, std) 0.41620370370370363 0.30231878506836557\n",
      "precision (mean, std) 0.5798888888888889 0.38330964500077125\n",
      "recall (mean, std) 0.4266666666666667 0.28627880738111855\n",
      "\n",
      "Fitting 30 folds for each of 176 candidates, totalling 5280 fits\n",
      "[Parallel(n_jobs=-1)]: Done  56 tasks      | elapsed:    0.3s\n",
      "[Parallel(n_jobs=-1)]: Done 2160 tasks      | elapsed:    5.4s\n",
      "[Parallel(n_jobs=-1)]: Done 5280 out of 5280 | elapsed:   12.9s finished\n",
      "[Parallel(n_jobs=-1)]: Using backend LokyBackend with 8 concurrent workers.\n",
      "Best estimator Pipeline(steps=[('pca', PCA(n_components=1)),\n",
      "                ('knn',\n",
      "                 KNeighborsClassifier(n_neighbors=15, p=1,\n",
      "                                      weights='distance'))])\n",
      "Best results 0.471074074074074\n",
      "Best params {'knn__n_neighbors': 15, 'knn__p': 1, 'knn__weights': 'distance', 'pca__n_components': 1}\n",
      "accuracy (mean, std) 0.4333333333333334 0.2637338725980331\n",
      "f1 (mean, std) 0.471074074074074 0.28791490758404\n",
      "balanced accuracy (mean, std) 0.4078703703703704 0.2744945629500942\n",
      "precision (mean, std) 0.5954444444444444 0.36430398716144785\n",
      "recall (mean, std) 0.4333333333333334 0.2637338725980331\n",
      "\n",
      "Fitting 30 folds for each of 56 candidates, totalling 1680 fits\n",
      "[Parallel(n_jobs=-1)]: Done  34 tasks      | elapsed:    1.3s\n",
      "[Parallel(n_jobs=-1)]: Done 184 tasks      | elapsed:   10.5s\n",
      "[Parallel(n_jobs=-1)]: Done 434 tasks      | elapsed:   26.6s\n",
      "[Parallel(n_jobs=-1)]: Done 784 tasks      | elapsed:   48.5s\n",
      "[Parallel(n_jobs=-1)]: Done 1234 tasks      | elapsed:  1.3min\n",
      "[Parallel(n_jobs=-1)]: Done 1680 out of 1680 | elapsed:  1.8min finished\n",
      "Best estimator RandomForestClassifier(max_depth=15, n_estimators=150, n_jobs=-1,\n",
      "                       random_state=42)\n",
      "Best results 0.4658095238095238\n",
      "Best params {'class_weight': None, 'max_depth': 15, 'n_estimators': 150}\n",
      "accuracy (mean, std) 0.4266666666666667 0.256818137123443\n",
      "f1 (mean, std) 0.4658095238095238 0.2895891698478879\n",
      "balanced accuracy (mean, std) 0.4037037037037036 0.2680167726053823\n",
      "precision (mean, std) 0.581 0.37933582307325875\n",
      "recall (mean, std) 0.4266666666666667 0.256818137123443\n",
      "\n",
      "f1_score (weighted) 0.38690446391322486\n",
      "accuracy 0.4\n"
     ]
    }
   ],
   "source": [
    "best_result, y_predict, y_predict_proba,result_list = runGridSearchClassifiers(X, y, cv_loo, models_list, parameters_list, \n",
    "                                                                output_predict=True, n_jobs=-1, verbose=True)"
   ]
  },
  {
   "cell_type": "code",
   "execution_count": 74,
   "metadata": {},
   "outputs": [
    {
     "output_type": "execute_result",
     "data": {
      "text/plain": [
       "{'best_estimator': Pipeline(steps=[('pca', PCA(n_components=1)),\n",
       "                 ('knn',\n",
       "                  KNeighborsClassifier(n_neighbors=15, p=1,\n",
       "                                       weights='distance'))]),\n",
       " 'best_score': 0.471074074074074,\n",
       " 'best_params': {'knn__n_neighbors': 15,\n",
       "  'knn__p': 1,\n",
       "  'knn__weights': 'distance',\n",
       "  'pca__n_components': 1},\n",
       " 'mean_test_f1_score': 0.471074074074074,\n",
       " 'std_test_f1_score': 0.28791490758404,\n",
       " 'mean_test_accuracy_score': 0.4333333333333334,\n",
       " 'std_test_accuracy_score': 0.2637338725980331,\n",
       " 'mean_test_balanced_accuracy_score': 0.4078703703703704,\n",
       " 'std_test_balanced_accuracy_score': 0.2744945629500942,\n",
       " 'mean_test_precision': 0.5954444444444444,\n",
       " 'std_test_precision': 0.36430398716144785,\n",
       " 'mean_test_recall': 0.4333333333333334,\n",
       " 'std_test_recall': 0.2637338725980331}"
      ]
     },
     "metadata": {},
     "execution_count": 74
    }
   ],
   "source": [
    "best_result"
   ]
  },
  {
   "cell_type": "markdown",
   "metadata": {},
   "source": [
    "#### En aggrégeant les prédictions des diapos"
   ]
  },
  {
   "cell_type": "code",
   "execution_count": 75,
   "metadata": {},
   "outputs": [],
   "source": [
    "df_ypredict = pd.read_csv('ypredict_' + features + '_tw5' + diapo_selection + '.csv')\n",
    "df_ypredict = df_ypredict.iloc[:,1:]\n",
    "df_ypredict.columns = ['video_name','diapo','frameTimeWindow','ypredict']\n",
    "df_ypredict['ypredict'] = df_ypredict['ypredict'].astype(int)"
   ]
  },
  {
   "cell_type": "code",
   "execution_count": 76,
   "metadata": {},
   "outputs": [],
   "source": [
    "# Autre méthode\n",
    "X = df_ypredict.groupby(['video_name','diapo']).agg({'ypredict':['mean','min','max', 'median', 'std', percentil25, percentil75, kurtosis, skew]})"
   ]
  },
  {
   "cell_type": "code",
   "execution_count": 77,
   "metadata": {},
   "outputs": [],
   "source": [
    "Xy = X.merge(df_annotations_stress, how='inner', on=['video_name','diapo'])\n",
    "X = Xy.iloc[:,:-1].set_index(['video_name','diapo'])\n",
    "y = Xy.iloc[:,-1]"
   ]
  },
  {
   "cell_type": "code",
   "execution_count": 78,
   "metadata": {},
   "outputs": [
    {
     "output_type": "execute_result",
     "data": {
      "text/plain": [
       "0      1.0\n",
       "1      0.0\n",
       "2      0.0\n",
       "3      0.0\n",
       "4      0.0\n",
       "      ... \n",
       "145    0.0\n",
       "146    0.0\n",
       "147    0.0\n",
       "148    0.0\n",
       "149    1.0\n",
       "Name: stress, Length: 150, dtype: float64"
      ]
     },
     "metadata": {},
     "execution_count": 78
    }
   ],
   "source": [
    "y"
   ]
  },
  {
   "cell_type": "code",
   "execution_count": 82,
   "metadata": {},
   "outputs": [],
   "source": [
    "groups = X.reset_index()['video_name']\n",
    "loo = LeaveOneGroupOut()\n",
    "cv_loo = loo.split(X, y, groups)"
   ]
  },
  {
   "cell_type": "code",
   "execution_count": 83,
   "metadata": {},
   "outputs": [
    {
     "output_type": "stream",
     "name": "stdout",
     "text": [
      "Fitting 30 folds for each of 20 candidates, totalling 600 fits\n",
      "[Parallel(n_jobs=-1)]: Using backend LokyBackend with 8 concurrent workers.\n",
      "[Parallel(n_jobs=-1)]: Done  56 tasks      | elapsed:    0.4s\n",
      "[Parallel(n_jobs=-1)]: Done 585 out of 600 | elapsed:    5.5s remaining:    0.1s\n",
      "[Parallel(n_jobs=-1)]: Done 600 out of 600 | elapsed:    5.6s finished\n",
      "[Parallel(n_jobs=-1)]: Using backend LokyBackend with 8 concurrent workers.\n",
      "Best estimator LogisticRegression(C=0.05, multi_class='multinomial', random_state=42)\n",
      "Best results 0.455021164021164\n",
      "Best params {'C': 0.05, 'class_weight': None}\n",
      "accuracy (mean, std) 0.4666666666666667 0.3112698007981\n",
      "f1 (mean, std) 0.455021164021164 0.3250524089852367\n",
      "balanced accuracy (mean, std) 0.4896296296296296 0.2990338810281261\n",
      "precision (mean, std) 0.5756666666666668 0.3857816980087554\n",
      "recall (mean, std) 0.4666666666666667 0.3112698007981\n",
      "\n",
      "Fitting 30 folds for each of 80 candidates, totalling 2400 fits\n",
      "[Parallel(n_jobs=-1)]: Done  56 tasks      | elapsed:    0.5s\n",
      "[Parallel(n_jobs=-1)]: Done 1200 tasks      | elapsed:    6.9s\n",
      "[Parallel(n_jobs=-1)]: Done 2400 out of 2400 | elapsed:   15.0s finished\n",
      "[Parallel(n_jobs=-1)]: Using backend LokyBackend with 8 concurrent workers.\n",
      "Best estimator Pipeline(steps=[('pca', PCA(n_components=4)),\n",
      "                ('logistic',\n",
      "                 LogisticRegression(C=10, multi_class='multinomial'))])\n",
      "Best results 0.48788359788359786\n",
      "Best params {'logistic__C': 10, 'logistic__class_weight': None, 'pca__n_components': 4}\n",
      "accuracy (mean, std) 0.5066666666666667 0.32550814975289877\n",
      "f1 (mean, std) 0.48788359788359786 0.3391027151727478\n",
      "balanced accuracy (mean, std) 0.5096296296296297 0.30953364408018447\n",
      "precision (mean, std) 0.5631111111111111 0.3863542160335688\n",
      "recall (mean, std) 0.5066666666666667 0.32550814975289877\n",
      "\n",
      "Fitting 30 folds for each of 44 candidates, totalling 1320 fits\n",
      "[Parallel(n_jobs=-1)]: Done  56 tasks      | elapsed:    0.3s\n",
      "[Parallel(n_jobs=-1)]: Done 1200 tasks      | elapsed:    3.6s\n",
      "[Parallel(n_jobs=-1)]: Done 1320 out of 1320 | elapsed:    3.9s finished\n",
      "[Parallel(n_jobs=-1)]: Using backend LokyBackend with 8 concurrent workers.\n",
      "Best estimator KNeighborsClassifier(n_neighbors=7, p=1, weights='distance')\n",
      "Best results 0.4781428571428571\n",
      "Best params {'n_neighbors': 7, 'p': 1, 'weights': 'distance'}\n",
      "accuracy (mean, std) 0.44666666666666666 0.28134597128012256\n",
      "f1 (mean, std) 0.4781428571428571 0.3018117186476687\n",
      "balanced accuracy (mean, std) 0.41370370370370374 0.28393992196711987\n",
      "precision (mean, std) 0.5684444444444444 0.3633300033826338\n",
      "recall (mean, std) 0.44666666666666666 0.28134597128012256\n",
      "\n",
      "Fitting 30 folds for each of 176 candidates, totalling 5280 fits\n",
      "[Parallel(n_jobs=-1)]: Done  56 tasks      | elapsed:    0.4s\n",
      "[Parallel(n_jobs=-1)]: Done 1200 tasks      | elapsed:    4.0s\n",
      "[Parallel(n_jobs=-1)]: Done 3200 tasks      | elapsed:   10.4s\n",
      "[Parallel(n_jobs=-1)]: Done 5280 out of 5280 | elapsed:   16.6s finished\n",
      "[Parallel(n_jobs=-1)]: Using backend LokyBackend with 8 concurrent workers.\n",
      "Best estimator Pipeline(steps=[('pca', PCA(n_components=1)),\n",
      "                ('knn', KNeighborsClassifier(n_neighbors=4, p=1))])\n",
      "Best results 0.5307142857142857\n",
      "Best params {'knn__n_neighbors': 4, 'knn__p': 1, 'knn__weights': 'uniform', 'pca__n_components': 1}\n",
      "accuracy (mean, std) 0.5066666666666666 0.2619584360585134\n",
      "f1 (mean, std) 0.5307142857142857 0.27125440357186104\n",
      "balanced accuracy (mean, std) 0.46898148148148144 0.27220434874556015\n",
      "precision (mean, std) 0.6684444444444445 0.327399103296735\n",
      "recall (mean, std) 0.5066666666666666 0.2619584360585134\n",
      "\n",
      "Fitting 30 folds for each of 56 candidates, totalling 1680 fits\n",
      "[Parallel(n_jobs=-1)]: Done  52 tasks      | elapsed:    2.4s\n",
      "[Parallel(n_jobs=-1)]: Done 232 tasks      | elapsed:   15.0s\n",
      "[Parallel(n_jobs=-1)]: Done 482 tasks      | elapsed:   30.6s\n",
      "[Parallel(n_jobs=-1)]: Done 832 tasks      | elapsed:   53.1s\n",
      "[Parallel(n_jobs=-1)]: Done 1282 tasks      | elapsed:  1.3min\n",
      "[Parallel(n_jobs=-1)]: Done 1680 out of 1680 | elapsed:  1.8min finished\n",
      "Best estimator RandomForestClassifier(max_depth=20, n_estimators=150, n_jobs=-1,\n",
      "                       random_state=42)\n",
      "Best results 0.44832275132275134\n",
      "Best params {'class_weight': None, 'max_depth': 20, 'n_estimators': 150}\n",
      "accuracy (mean, std) 0.4066666666666667 0.22201101073795618\n",
      "f1 (mean, std) 0.44832275132275134 0.25476109275887454\n",
      "balanced accuracy (mean, std) 0.4003703703703703 0.24111232007434288\n",
      "precision (mean, std) 0.5943333333333333 0.36898574698961134\n",
      "recall (mean, std) 0.4066666666666667 0.22201101073795618\n",
      "\n",
      "f1_score (weighted) 0.48163704009921454\n",
      "accuracy 0.5133333333333333\n"
     ]
    },
    {
     "output_type": "execute_result",
     "data": {
      "text/plain": [
       "{'best_estimator': Pipeline(steps=[('pca', PCA(n_components=1)),\n",
       "                 ('knn', KNeighborsClassifier(n_neighbors=4, p=1))]),\n",
       " 'best_score': 0.5307142857142857,\n",
       " 'best_params': {'knn__n_neighbors': 4,\n",
       "  'knn__p': 1,\n",
       "  'knn__weights': 'uniform',\n",
       "  'pca__n_components': 1},\n",
       " 'mean_test_f1_score': 0.5307142857142857,\n",
       " 'std_test_f1_score': 0.27125440357186104,\n",
       " 'mean_test_accuracy_score': 0.5066666666666666,\n",
       " 'std_test_accuracy_score': 0.2619584360585134,\n",
       " 'mean_test_balanced_accuracy_score': 0.46898148148148144,\n",
       " 'std_test_balanced_accuracy_score': 0.27220434874556015,\n",
       " 'mean_test_precision': 0.6684444444444445,\n",
       " 'std_test_precision': 0.327399103296735,\n",
       " 'mean_test_recall': 0.5066666666666666,\n",
       " 'std_test_recall': 0.2619584360585134}"
      ]
     },
     "metadata": {},
     "execution_count": 83
    }
   ],
   "source": [
    "best_result, y_predict, y_predict_proba, result_list = runGridSearchClassifiers(X, y, cv_loo, models_list, parameters_list, \n",
    "                                                                output_predict=True, n_jobs=-1, verbose=True)\n",
    "best_result"
   ]
  },
  {
   "cell_type": "code",
   "execution_count": 85,
   "metadata": {},
   "outputs": [
    {
     "output_type": "execute_result",
     "data": {
      "text/plain": [
       "{'best_estimator': Pipeline(steps=[('pca', PCA(n_components=1)),\n",
       "                 ('knn', KNeighborsClassifier(n_neighbors=4, p=1))]),\n",
       " 'best_score': 0.5307142857142857,\n",
       " 'best_params': {'knn__n_neighbors': 4,\n",
       "  'knn__p': 1,\n",
       "  'knn__weights': 'uniform',\n",
       "  'pca__n_components': 1},\n",
       " 'mean_test_f1_score': 0.5307142857142857,\n",
       " 'std_test_f1_score': 0.27125440357186104,\n",
       " 'mean_test_accuracy_score': 0.5066666666666666,\n",
       " 'std_test_accuracy_score': 0.2619584360585134,\n",
       " 'mean_test_balanced_accuracy_score': 0.46898148148148144,\n",
       " 'std_test_balanced_accuracy_score': 0.27220434874556015,\n",
       " 'mean_test_precision': 0.6684444444444445,\n",
       " 'std_test_precision': 0.327399103296735,\n",
       " 'mean_test_recall': 0.5066666666666666,\n",
       " 'std_test_recall': 0.2619584360585134}"
      ]
     },
     "metadata": {},
     "execution_count": 85
    }
   ],
   "source": [
    "best_result"
   ]
  },
  {
   "cell_type": "code",
   "execution_count": 86,
   "metadata": {},
   "outputs": [
    {
     "output_type": "execute_result",
     "data": {
      "text/plain": [
       "array([[48, 18,  2,  0],\n",
       "       [37, 29,  0,  0],\n",
       "       [10,  5,  0,  0],\n",
       "       [ 1,  0,  0,  0]])"
      ]
     },
     "metadata": {},
     "execution_count": 86
    }
   ],
   "source": [
    "from sklearn.metrics import confusion_matrix\n",
    "confusion_matrix(y, y_predict)"
   ]
  },
  {
   "cell_type": "code",
   "execution_count": 87,
   "metadata": {},
   "outputs": [],
   "source": [
    "# Saving predictions\n",
    "df_ypredict = pd.concat([X.reset_index()[['video_name','diapo']],\n",
    "                        pd.DataFrame(y_predict, columns=['ypredict'])],axis=1)\n",
    "df_ypredict.to_csv('ypredict_' + features + '_tw5_diapo' + diapo_selection + '.csv')"
   ]
  },
  {
   "cell_type": "code",
   "execution_count": 88,
   "metadata": {},
   "outputs": [
    {
     "output_type": "execute_result",
     "data": {
      "text/plain": [
       "                    video_name  diapo  ypredict\n",
       "0               Test_pour_AFPA      8       0.0\n",
       "1               Test_pour_AFPA      9       0.0\n",
       "2               Test_pour_AFPA     10       1.0\n",
       "3               Test_pour_AFPA     11       0.0\n",
       "4               Test_pour_AFPA     17       0.0\n",
       "..                         ...    ...       ...\n",
       "145  WIN_20210417_14_53_12_Pro      8       0.0\n",
       "146  WIN_20210417_14_53_12_Pro      9       1.0\n",
       "147  WIN_20210417_14_53_12_Pro     10       0.0\n",
       "148  WIN_20210417_14_53_12_Pro     11       0.0\n",
       "149  WIN_20210417_14_53_12_Pro     17       0.0\n",
       "\n",
       "[150 rows x 3 columns]"
      ],
      "text/html": "<div>\n<style scoped>\n    .dataframe tbody tr th:only-of-type {\n        vertical-align: middle;\n    }\n\n    .dataframe tbody tr th {\n        vertical-align: top;\n    }\n\n    .dataframe thead th {\n        text-align: right;\n    }\n</style>\n<table border=\"1\" class=\"dataframe\">\n  <thead>\n    <tr style=\"text-align: right;\">\n      <th></th>\n      <th>video_name</th>\n      <th>diapo</th>\n      <th>ypredict</th>\n    </tr>\n  </thead>\n  <tbody>\n    <tr>\n      <th>0</th>\n      <td>Test_pour_AFPA</td>\n      <td>8</td>\n      <td>0.0</td>\n    </tr>\n    <tr>\n      <th>1</th>\n      <td>Test_pour_AFPA</td>\n      <td>9</td>\n      <td>0.0</td>\n    </tr>\n    <tr>\n      <th>2</th>\n      <td>Test_pour_AFPA</td>\n      <td>10</td>\n      <td>1.0</td>\n    </tr>\n    <tr>\n      <th>3</th>\n      <td>Test_pour_AFPA</td>\n      <td>11</td>\n      <td>0.0</td>\n    </tr>\n    <tr>\n      <th>4</th>\n      <td>Test_pour_AFPA</td>\n      <td>17</td>\n      <td>0.0</td>\n    </tr>\n    <tr>\n      <th>...</th>\n      <td>...</td>\n      <td>...</td>\n      <td>...</td>\n    </tr>\n    <tr>\n      <th>145</th>\n      <td>WIN_20210417_14_53_12_Pro</td>\n      <td>8</td>\n      <td>0.0</td>\n    </tr>\n    <tr>\n      <th>146</th>\n      <td>WIN_20210417_14_53_12_Pro</td>\n      <td>9</td>\n      <td>1.0</td>\n    </tr>\n    <tr>\n      <th>147</th>\n      <td>WIN_20210417_14_53_12_Pro</td>\n      <td>10</td>\n      <td>0.0</td>\n    </tr>\n    <tr>\n      <th>148</th>\n      <td>WIN_20210417_14_53_12_Pro</td>\n      <td>11</td>\n      <td>0.0</td>\n    </tr>\n    <tr>\n      <th>149</th>\n      <td>WIN_20210417_14_53_12_Pro</td>\n      <td>17</td>\n      <td>0.0</td>\n    </tr>\n  </tbody>\n</table>\n<p>150 rows × 3 columns</p>\n</div>"
     },
     "metadata": {},
     "execution_count": 88
    }
   ],
   "source": [
    "df_ypredict"
   ]
  },
  {
   "cell_type": "markdown",
   "metadata": {},
   "source": [
    "## Stress global"
   ]
  },
  {
   "cell_type": "markdown",
   "metadata": {},
   "source": [
    "### En utilisant le stress prédit des diapos"
   ]
  },
  {
   "cell_type": "code",
   "execution_count": 89,
   "metadata": {},
   "outputs": [],
   "source": [
    "df_ypredict = pd.read_csv('ypredict_' + features + '_tw5_diapo' + diapo_selection + '.csv')\n",
    "df_ypredict = df_ypredict.iloc[:,1:]\n",
    "df_ypredict.columns = ['video_name','diapo','ypredict']\n",
    "ypredict_stress_diapo = df_ypredict.pivot_table(values='ypredict', columns='diapo',index='video_name',aggfunc='mean')\n"
   ]
  },
  {
   "cell_type": "code",
   "execution_count": 90,
   "metadata": {},
   "outputs": [
    {
     "output_type": "execute_result",
     "data": {
      "text/plain": [
       "diapo                             8    9    10   11   17\n",
       "video_name                                              \n",
       "Test_pour_AFPA                   0.0  0.0  1.0  0.0  0.0\n",
       "Video_1                          0.0  0.0  1.0  0.0  1.0\n",
       "WIN_20210323_19_17_40_Pro        0.0  0.0  1.0  0.0  0.0\n",
       "WIN_20210329_10_16_02_Pro        1.0  1.0  1.0  1.0  0.0\n",
       "WIN_20210330_13_10_29_Pro        1.0  1.0  1.0  1.0  0.0\n",
       "WIN_20210331_21_22_52_Pro        1.0  1.0  0.0  0.0  1.0\n",
       "WIN_20210402_14_27_50_Pro        1.0  1.0  1.0  1.0  0.0\n",
       "WIN_20210402_19_04_53_Pro        0.0  0.0  1.0  1.0  0.0\n",
       "WIN_20210403_18_49_15_Pro        0.0  0.0  1.0  1.0  0.0\n",
       "WIN_20210404_10_58_27_Pro        0.0  1.0  0.0  0.0  0.0\n",
       "WIN_20210404_21_41_12_Pro        0.0  0.0  1.0  0.0  0.0\n",
       "WIN_20210405_15_09_16_Pro        1.0  0.0  1.0  1.0  2.0\n",
       "WIN_20210406_15_06_15_Pro        0.0  1.0  1.0  0.0  1.0\n",
       "WIN_20210406_18_35_52_Pro        0.0  1.0  0.0  0.0  1.0\n",
       "WIN_20210406_18_49_10_Pro        0.0  1.0  1.0  0.0  1.0\n",
       "WIN_20210406_21_05_52_Pro        1.0  0.0  0.0  0.0  0.0\n",
       "WIN_20210407_09_04_05_Pro        1.0  0.0  0.0  0.0  0.0\n",
       "WIN_20210407_14_54_56_Pro_edit2  0.0  0.0  0.0  0.0  1.0\n",
       "WIN_20210408_11_48_58_Pro        0.0  0.0  0.0  1.0  0.0\n",
       "WIN_20210408_14_00_44_Pro        0.0  0.0  0.0  0.0  0.0\n",
       "WIN_20210408_14_02_19_Pro        0.0  0.0  0.0  0.0  0.0\n",
       "WIN_20210408_14_11_32_Pro        0.0  0.0  0.0  0.0  0.0\n",
       "WIN_20210408_15_20_51_Pro        0.0  0.0  1.0  0.0  0.0\n",
       "WIN_20210408_16_04_32_Pro        1.0  0.0  1.0  0.0  0.0\n",
       "WIN_20210409_10_26_11_Pro        0.0  0.0  1.0  0.0  1.0\n",
       "WIN_20210413_15_38_01_Pro        0.0  0.0  0.0  0.0  0.0\n",
       "WIN_20210414_06_24_52_Pro        0.0  1.0  1.0  0.0  0.0\n",
       "WIN_20210415_15_41_24_Pro        0.0  0.0  1.0  2.0  0.0\n",
       "WIN_20210416_08_06_54_Pro        1.0  1.0  0.0  0.0  1.0\n",
       "WIN_20210417_14_53_12_Pro        0.0  1.0  0.0  0.0  0.0"
      ],
      "text/html": "<div>\n<style scoped>\n    .dataframe tbody tr th:only-of-type {\n        vertical-align: middle;\n    }\n\n    .dataframe tbody tr th {\n        vertical-align: top;\n    }\n\n    .dataframe thead th {\n        text-align: right;\n    }\n</style>\n<table border=\"1\" class=\"dataframe\">\n  <thead>\n    <tr style=\"text-align: right;\">\n      <th>diapo</th>\n      <th>8</th>\n      <th>9</th>\n      <th>10</th>\n      <th>11</th>\n      <th>17</th>\n    </tr>\n    <tr>\n      <th>video_name</th>\n      <th></th>\n      <th></th>\n      <th></th>\n      <th></th>\n      <th></th>\n    </tr>\n  </thead>\n  <tbody>\n    <tr>\n      <th>Test_pour_AFPA</th>\n      <td>0.0</td>\n      <td>0.0</td>\n      <td>1.0</td>\n      <td>0.0</td>\n      <td>0.0</td>\n    </tr>\n    <tr>\n      <th>Video_1</th>\n      <td>0.0</td>\n      <td>0.0</td>\n      <td>1.0</td>\n      <td>0.0</td>\n      <td>1.0</td>\n    </tr>\n    <tr>\n      <th>WIN_20210323_19_17_40_Pro</th>\n      <td>0.0</td>\n      <td>0.0</td>\n      <td>1.0</td>\n      <td>0.0</td>\n      <td>0.0</td>\n    </tr>\n    <tr>\n      <th>WIN_20210329_10_16_02_Pro</th>\n      <td>1.0</td>\n      <td>1.0</td>\n      <td>1.0</td>\n      <td>1.0</td>\n      <td>0.0</td>\n    </tr>\n    <tr>\n      <th>WIN_20210330_13_10_29_Pro</th>\n      <td>1.0</td>\n      <td>1.0</td>\n      <td>1.0</td>\n      <td>1.0</td>\n      <td>0.0</td>\n    </tr>\n    <tr>\n      <th>WIN_20210331_21_22_52_Pro</th>\n      <td>1.0</td>\n      <td>1.0</td>\n      <td>0.0</td>\n      <td>0.0</td>\n      <td>1.0</td>\n    </tr>\n    <tr>\n      <th>WIN_20210402_14_27_50_Pro</th>\n      <td>1.0</td>\n      <td>1.0</td>\n      <td>1.0</td>\n      <td>1.0</td>\n      <td>0.0</td>\n    </tr>\n    <tr>\n      <th>WIN_20210402_19_04_53_Pro</th>\n      <td>0.0</td>\n      <td>0.0</td>\n      <td>1.0</td>\n      <td>1.0</td>\n      <td>0.0</td>\n    </tr>\n    <tr>\n      <th>WIN_20210403_18_49_15_Pro</th>\n      <td>0.0</td>\n      <td>0.0</td>\n      <td>1.0</td>\n      <td>1.0</td>\n      <td>0.0</td>\n    </tr>\n    <tr>\n      <th>WIN_20210404_10_58_27_Pro</th>\n      <td>0.0</td>\n      <td>1.0</td>\n      <td>0.0</td>\n      <td>0.0</td>\n      <td>0.0</td>\n    </tr>\n    <tr>\n      <th>WIN_20210404_21_41_12_Pro</th>\n      <td>0.0</td>\n      <td>0.0</td>\n      <td>1.0</td>\n      <td>0.0</td>\n      <td>0.0</td>\n    </tr>\n    <tr>\n      <th>WIN_20210405_15_09_16_Pro</th>\n      <td>1.0</td>\n      <td>0.0</td>\n      <td>1.0</td>\n      <td>1.0</td>\n      <td>2.0</td>\n    </tr>\n    <tr>\n      <th>WIN_20210406_15_06_15_Pro</th>\n      <td>0.0</td>\n      <td>1.0</td>\n      <td>1.0</td>\n      <td>0.0</td>\n      <td>1.0</td>\n    </tr>\n    <tr>\n      <th>WIN_20210406_18_35_52_Pro</th>\n      <td>0.0</td>\n      <td>1.0</td>\n      <td>0.0</td>\n      <td>0.0</td>\n      <td>1.0</td>\n    </tr>\n    <tr>\n      <th>WIN_20210406_18_49_10_Pro</th>\n      <td>0.0</td>\n      <td>1.0</td>\n      <td>1.0</td>\n      <td>0.0</td>\n      <td>1.0</td>\n    </tr>\n    <tr>\n      <th>WIN_20210406_21_05_52_Pro</th>\n      <td>1.0</td>\n      <td>0.0</td>\n      <td>0.0</td>\n      <td>0.0</td>\n      <td>0.0</td>\n    </tr>\n    <tr>\n      <th>WIN_20210407_09_04_05_Pro</th>\n      <td>1.0</td>\n      <td>0.0</td>\n      <td>0.0</td>\n      <td>0.0</td>\n      <td>0.0</td>\n    </tr>\n    <tr>\n      <th>WIN_20210407_14_54_56_Pro_edit2</th>\n      <td>0.0</td>\n      <td>0.0</td>\n      <td>0.0</td>\n      <td>0.0</td>\n      <td>1.0</td>\n    </tr>\n    <tr>\n      <th>WIN_20210408_11_48_58_Pro</th>\n      <td>0.0</td>\n      <td>0.0</td>\n      <td>0.0</td>\n      <td>1.0</td>\n      <td>0.0</td>\n    </tr>\n    <tr>\n      <th>WIN_20210408_14_00_44_Pro</th>\n      <td>0.0</td>\n      <td>0.0</td>\n      <td>0.0</td>\n      <td>0.0</td>\n      <td>0.0</td>\n    </tr>\n    <tr>\n      <th>WIN_20210408_14_02_19_Pro</th>\n      <td>0.0</td>\n      <td>0.0</td>\n      <td>0.0</td>\n      <td>0.0</td>\n      <td>0.0</td>\n    </tr>\n    <tr>\n      <th>WIN_20210408_14_11_32_Pro</th>\n      <td>0.0</td>\n      <td>0.0</td>\n      <td>0.0</td>\n      <td>0.0</td>\n      <td>0.0</td>\n    </tr>\n    <tr>\n      <th>WIN_20210408_15_20_51_Pro</th>\n      <td>0.0</td>\n      <td>0.0</td>\n      <td>1.0</td>\n      <td>0.0</td>\n      <td>0.0</td>\n    </tr>\n    <tr>\n      <th>WIN_20210408_16_04_32_Pro</th>\n      <td>1.0</td>\n      <td>0.0</td>\n      <td>1.0</td>\n      <td>0.0</td>\n      <td>0.0</td>\n    </tr>\n    <tr>\n      <th>WIN_20210409_10_26_11_Pro</th>\n      <td>0.0</td>\n      <td>0.0</td>\n      <td>1.0</td>\n      <td>0.0</td>\n      <td>1.0</td>\n    </tr>\n    <tr>\n      <th>WIN_20210413_15_38_01_Pro</th>\n      <td>0.0</td>\n      <td>0.0</td>\n      <td>0.0</td>\n      <td>0.0</td>\n      <td>0.0</td>\n    </tr>\n    <tr>\n      <th>WIN_20210414_06_24_52_Pro</th>\n      <td>0.0</td>\n      <td>1.0</td>\n      <td>1.0</td>\n      <td>0.0</td>\n      <td>0.0</td>\n    </tr>\n    <tr>\n      <th>WIN_20210415_15_41_24_Pro</th>\n      <td>0.0</td>\n      <td>0.0</td>\n      <td>1.0</td>\n      <td>2.0</td>\n      <td>0.0</td>\n    </tr>\n    <tr>\n      <th>WIN_20210416_08_06_54_Pro</th>\n      <td>1.0</td>\n      <td>1.0</td>\n      <td>0.0</td>\n      <td>0.0</td>\n      <td>1.0</td>\n    </tr>\n    <tr>\n      <th>WIN_20210417_14_53_12_Pro</th>\n      <td>0.0</td>\n      <td>1.0</td>\n      <td>0.0</td>\n      <td>0.0</td>\n      <td>0.0</td>\n    </tr>\n  </tbody>\n</table>\n</div>"
     },
     "metadata": {},
     "execution_count": 90
    }
   ],
   "source": [
    "ypredict_stress_diapo"
   ]
  },
  {
   "cell_type": "code",
   "execution_count": 91,
   "metadata": {},
   "outputs": [
    {
     "output_type": "execute_result",
     "data": {
      "text/plain": [
       "                         video_name    1    8    9   10   11   12   17   18  \\\n",
       "0                    Test_pour_AFPA  1.0  1.0  0.0  0.0  0.0  1.0  0.0  1.0   \n",
       "1                           Video_1  0.0  0.0  0.0  0.0  1.0  1.0  1.0  1.0   \n",
       "2         WIN_20210323_19_17_40_Pro  1.0  0.0  1.0  1.0  1.0  1.0  1.0  1.0   \n",
       "3         WIN_20210329_10_16_02_Pro  0.0  0.0  1.0  1.0  0.0  1.0  0.0  0.0   \n",
       "4         WIN_20210330_13_10_29_Pro  0.0  0.0  0.0  0.0  1.0  0.0  0.0  0.0   \n",
       "5         WIN_20210331_21_22_52_Pro  0.0  0.0  1.0  1.0  1.0  1.0  0.0  0.0   \n",
       "6         WIN_20210402_14_27_50_Pro  1.0  1.0  1.0  2.0  1.0  1.0  1.0  1.0   \n",
       "7         WIN_20210402_19_04_53_Pro  2.0  1.0  1.0  1.0  1.0  2.0  1.0  2.0   \n",
       "8         WIN_20210403_18_49_15_Pro  1.0  1.0  1.0  1.0  1.0  2.0  2.0  1.0   \n",
       "9         WIN_20210404_10_58_27_Pro  0.0  1.0  1.0  1.0  1.0  1.0  1.0  1.0   \n",
       "10        WIN_20210404_21_41_12_Pro  0.0  0.0  1.0  0.0  0.0  1.0  0.0  1.0   \n",
       "11        WIN_20210405_15_09_16_Pro  0.0  1.0  1.0  1.0  1.0  0.0  0.0  1.0   \n",
       "12        WIN_20210406_15_06_15_Pro  1.0  1.0  1.0  1.0  1.0  2.0  1.0  2.0   \n",
       "13        WIN_20210406_18_35_52_Pro  0.0  0.0  1.0  0.0  0.0  1.0  0.0  1.0   \n",
       "14        WIN_20210406_18_49_10_Pro  1.0  0.0  1.0  1.0  1.0  1.0  1.0  1.0   \n",
       "15        WIN_20210406_21_05_52_Pro  1.0  2.0  2.0  1.0  2.0  1.0  1.0  1.0   \n",
       "16        WIN_20210407_09_04_05_Pro  0.0  0.0  2.0  1.0  3.0  1.0  0.0  2.0   \n",
       "17  WIN_20210407_14_54_56_Pro_edit2  0.0  0.0  0.0  0.0  0.0  1.0  0.0  1.0   \n",
       "18        WIN_20210408_11_48_58_Pro  0.0  1.0  1.0  1.0  1.0  1.0  1.0  2.0   \n",
       "19        WIN_20210408_14_00_44_Pro  0.0  0.0  0.0  0.0  0.0  1.0  0.0  0.0   \n",
       "20        WIN_20210408_14_02_19_Pro  0.0  1.0  0.0  0.0  0.0  0.0  0.0  1.0   \n",
       "21        WIN_20210408_14_11_32_Pro  0.0  2.0  2.0  2.0  2.0  1.0  0.0  1.0   \n",
       "22        WIN_20210408_15_20_51_Pro  0.0  0.0  0.0  0.0  0.0  0.0  0.0  0.0   \n",
       "23        WIN_20210408_16_04_32_Pro  0.0  0.0  1.0  0.0  0.0  0.0  0.0  0.0   \n",
       "24        WIN_20210409_10_26_11_Pro  1.0  1.0  0.0  1.0  0.0  0.0  1.0  1.0   \n",
       "25        WIN_20210413_15_38_01_Pro  1.0  0.0  0.0  0.0  0.0  1.0  1.0  1.0   \n",
       "26        WIN_20210414_06_24_52_Pro  2.0  2.0  2.0  2.0  2.0  1.0  1.0  2.0   \n",
       "27        WIN_20210415_15_41_24_Pro  1.0  0.0  0.0  1.0  0.0  0.0  0.0  0.0   \n",
       "28        WIN_20210416_08_06_54_Pro  1.0  2.0  1.0  1.0  1.0  0.0  0.0  1.0   \n",
       "29        WIN_20210417_14_53_12_Pro  0.0  0.0  0.0  0.0  0.0  0.0  1.0  1.0   \n",
       "\n",
       "    stress_global  \n",
       "0             1.0  \n",
       "1             0.0  \n",
       "2             1.0  \n",
       "3             1.0  \n",
       "4             0.0  \n",
       "5             1.0  \n",
       "6             1.0  \n",
       "7             2.0  \n",
       "8             2.0  \n",
       "9             1.0  \n",
       "10            0.0  \n",
       "11            1.0  \n",
       "12            2.0  \n",
       "13            0.0  \n",
       "14            1.0  \n",
       "15            2.0  \n",
       "16            2.0  \n",
       "17            0.0  \n",
       "18            2.0  \n",
       "19            0.0  \n",
       "20            0.0  \n",
       "21            2.0  \n",
       "22            0.0  \n",
       "23            0.0  \n",
       "24            0.0  \n",
       "25            1.0  \n",
       "26            2.0  \n",
       "27            0.0  \n",
       "28            1.0  \n",
       "29            0.0  "
      ],
      "text/html": "<div>\n<style scoped>\n    .dataframe tbody tr th:only-of-type {\n        vertical-align: middle;\n    }\n\n    .dataframe tbody tr th {\n        vertical-align: top;\n    }\n\n    .dataframe thead th {\n        text-align: right;\n    }\n</style>\n<table border=\"1\" class=\"dataframe\">\n  <thead>\n    <tr style=\"text-align: right;\">\n      <th></th>\n      <th>video_name</th>\n      <th>1</th>\n      <th>8</th>\n      <th>9</th>\n      <th>10</th>\n      <th>11</th>\n      <th>12</th>\n      <th>17</th>\n      <th>18</th>\n      <th>stress_global</th>\n    </tr>\n  </thead>\n  <tbody>\n    <tr>\n      <th>0</th>\n      <td>Test_pour_AFPA</td>\n      <td>1.0</td>\n      <td>1.0</td>\n      <td>0.0</td>\n      <td>0.0</td>\n      <td>0.0</td>\n      <td>1.0</td>\n      <td>0.0</td>\n      <td>1.0</td>\n      <td>1.0</td>\n    </tr>\n    <tr>\n      <th>1</th>\n      <td>Video_1</td>\n      <td>0.0</td>\n      <td>0.0</td>\n      <td>0.0</td>\n      <td>0.0</td>\n      <td>1.0</td>\n      <td>1.0</td>\n      <td>1.0</td>\n      <td>1.0</td>\n      <td>0.0</td>\n    </tr>\n    <tr>\n      <th>2</th>\n      <td>WIN_20210323_19_17_40_Pro</td>\n      <td>1.0</td>\n      <td>0.0</td>\n      <td>1.0</td>\n      <td>1.0</td>\n      <td>1.0</td>\n      <td>1.0</td>\n      <td>1.0</td>\n      <td>1.0</td>\n      <td>1.0</td>\n    </tr>\n    <tr>\n      <th>3</th>\n      <td>WIN_20210329_10_16_02_Pro</td>\n      <td>0.0</td>\n      <td>0.0</td>\n      <td>1.0</td>\n      <td>1.0</td>\n      <td>0.0</td>\n      <td>1.0</td>\n      <td>0.0</td>\n      <td>0.0</td>\n      <td>1.0</td>\n    </tr>\n    <tr>\n      <th>4</th>\n      <td>WIN_20210330_13_10_29_Pro</td>\n      <td>0.0</td>\n      <td>0.0</td>\n      <td>0.0</td>\n      <td>0.0</td>\n      <td>1.0</td>\n      <td>0.0</td>\n      <td>0.0</td>\n      <td>0.0</td>\n      <td>0.0</td>\n    </tr>\n    <tr>\n      <th>5</th>\n      <td>WIN_20210331_21_22_52_Pro</td>\n      <td>0.0</td>\n      <td>0.0</td>\n      <td>1.0</td>\n      <td>1.0</td>\n      <td>1.0</td>\n      <td>1.0</td>\n      <td>0.0</td>\n      <td>0.0</td>\n      <td>1.0</td>\n    </tr>\n    <tr>\n      <th>6</th>\n      <td>WIN_20210402_14_27_50_Pro</td>\n      <td>1.0</td>\n      <td>1.0</td>\n      <td>1.0</td>\n      <td>2.0</td>\n      <td>1.0</td>\n      <td>1.0</td>\n      <td>1.0</td>\n      <td>1.0</td>\n      <td>1.0</td>\n    </tr>\n    <tr>\n      <th>7</th>\n      <td>WIN_20210402_19_04_53_Pro</td>\n      <td>2.0</td>\n      <td>1.0</td>\n      <td>1.0</td>\n      <td>1.0</td>\n      <td>1.0</td>\n      <td>2.0</td>\n      <td>1.0</td>\n      <td>2.0</td>\n      <td>2.0</td>\n    </tr>\n    <tr>\n      <th>8</th>\n      <td>WIN_20210403_18_49_15_Pro</td>\n      <td>1.0</td>\n      <td>1.0</td>\n      <td>1.0</td>\n      <td>1.0</td>\n      <td>1.0</td>\n      <td>2.0</td>\n      <td>2.0</td>\n      <td>1.0</td>\n      <td>2.0</td>\n    </tr>\n    <tr>\n      <th>9</th>\n      <td>WIN_20210404_10_58_27_Pro</td>\n      <td>0.0</td>\n      <td>1.0</td>\n      <td>1.0</td>\n      <td>1.0</td>\n      <td>1.0</td>\n      <td>1.0</td>\n      <td>1.0</td>\n      <td>1.0</td>\n      <td>1.0</td>\n    </tr>\n    <tr>\n      <th>10</th>\n      <td>WIN_20210404_21_41_12_Pro</td>\n      <td>0.0</td>\n      <td>0.0</td>\n      <td>1.0</td>\n      <td>0.0</td>\n      <td>0.0</td>\n      <td>1.0</td>\n      <td>0.0</td>\n      <td>1.0</td>\n      <td>0.0</td>\n    </tr>\n    <tr>\n      <th>11</th>\n      <td>WIN_20210405_15_09_16_Pro</td>\n      <td>0.0</td>\n      <td>1.0</td>\n      <td>1.0</td>\n      <td>1.0</td>\n      <td>1.0</td>\n      <td>0.0</td>\n      <td>0.0</td>\n      <td>1.0</td>\n      <td>1.0</td>\n    </tr>\n    <tr>\n      <th>12</th>\n      <td>WIN_20210406_15_06_15_Pro</td>\n      <td>1.0</td>\n      <td>1.0</td>\n      <td>1.0</td>\n      <td>1.0</td>\n      <td>1.0</td>\n      <td>2.0</td>\n      <td>1.0</td>\n      <td>2.0</td>\n      <td>2.0</td>\n    </tr>\n    <tr>\n      <th>13</th>\n      <td>WIN_20210406_18_35_52_Pro</td>\n      <td>0.0</td>\n      <td>0.0</td>\n      <td>1.0</td>\n      <td>0.0</td>\n      <td>0.0</td>\n      <td>1.0</td>\n      <td>0.0</td>\n      <td>1.0</td>\n      <td>0.0</td>\n    </tr>\n    <tr>\n      <th>14</th>\n      <td>WIN_20210406_18_49_10_Pro</td>\n      <td>1.0</td>\n      <td>0.0</td>\n      <td>1.0</td>\n      <td>1.0</td>\n      <td>1.0</td>\n      <td>1.0</td>\n      <td>1.0</td>\n      <td>1.0</td>\n      <td>1.0</td>\n    </tr>\n    <tr>\n      <th>15</th>\n      <td>WIN_20210406_21_05_52_Pro</td>\n      <td>1.0</td>\n      <td>2.0</td>\n      <td>2.0</td>\n      <td>1.0</td>\n      <td>2.0</td>\n      <td>1.0</td>\n      <td>1.0</td>\n      <td>1.0</td>\n      <td>2.0</td>\n    </tr>\n    <tr>\n      <th>16</th>\n      <td>WIN_20210407_09_04_05_Pro</td>\n      <td>0.0</td>\n      <td>0.0</td>\n      <td>2.0</td>\n      <td>1.0</td>\n      <td>3.0</td>\n      <td>1.0</td>\n      <td>0.0</td>\n      <td>2.0</td>\n      <td>2.0</td>\n    </tr>\n    <tr>\n      <th>17</th>\n      <td>WIN_20210407_14_54_56_Pro_edit2</td>\n      <td>0.0</td>\n      <td>0.0</td>\n      <td>0.0</td>\n      <td>0.0</td>\n      <td>0.0</td>\n      <td>1.0</td>\n      <td>0.0</td>\n      <td>1.0</td>\n      <td>0.0</td>\n    </tr>\n    <tr>\n      <th>18</th>\n      <td>WIN_20210408_11_48_58_Pro</td>\n      <td>0.0</td>\n      <td>1.0</td>\n      <td>1.0</td>\n      <td>1.0</td>\n      <td>1.0</td>\n      <td>1.0</td>\n      <td>1.0</td>\n      <td>2.0</td>\n      <td>2.0</td>\n    </tr>\n    <tr>\n      <th>19</th>\n      <td>WIN_20210408_14_00_44_Pro</td>\n      <td>0.0</td>\n      <td>0.0</td>\n      <td>0.0</td>\n      <td>0.0</td>\n      <td>0.0</td>\n      <td>1.0</td>\n      <td>0.0</td>\n      <td>0.0</td>\n      <td>0.0</td>\n    </tr>\n    <tr>\n      <th>20</th>\n      <td>WIN_20210408_14_02_19_Pro</td>\n      <td>0.0</td>\n      <td>1.0</td>\n      <td>0.0</td>\n      <td>0.0</td>\n      <td>0.0</td>\n      <td>0.0</td>\n      <td>0.0</td>\n      <td>1.0</td>\n      <td>0.0</td>\n    </tr>\n    <tr>\n      <th>21</th>\n      <td>WIN_20210408_14_11_32_Pro</td>\n      <td>0.0</td>\n      <td>2.0</td>\n      <td>2.0</td>\n      <td>2.0</td>\n      <td>2.0</td>\n      <td>1.0</td>\n      <td>0.0</td>\n      <td>1.0</td>\n      <td>2.0</td>\n    </tr>\n    <tr>\n      <th>22</th>\n      <td>WIN_20210408_15_20_51_Pro</td>\n      <td>0.0</td>\n      <td>0.0</td>\n      <td>0.0</td>\n      <td>0.0</td>\n      <td>0.0</td>\n      <td>0.0</td>\n      <td>0.0</td>\n      <td>0.0</td>\n      <td>0.0</td>\n    </tr>\n    <tr>\n      <th>23</th>\n      <td>WIN_20210408_16_04_32_Pro</td>\n      <td>0.0</td>\n      <td>0.0</td>\n      <td>1.0</td>\n      <td>0.0</td>\n      <td>0.0</td>\n      <td>0.0</td>\n      <td>0.0</td>\n      <td>0.0</td>\n      <td>0.0</td>\n    </tr>\n    <tr>\n      <th>24</th>\n      <td>WIN_20210409_10_26_11_Pro</td>\n      <td>1.0</td>\n      <td>1.0</td>\n      <td>0.0</td>\n      <td>1.0</td>\n      <td>0.0</td>\n      <td>0.0</td>\n      <td>1.0</td>\n      <td>1.0</td>\n      <td>0.0</td>\n    </tr>\n    <tr>\n      <th>25</th>\n      <td>WIN_20210413_15_38_01_Pro</td>\n      <td>1.0</td>\n      <td>0.0</td>\n      <td>0.0</td>\n      <td>0.0</td>\n      <td>0.0</td>\n      <td>1.0</td>\n      <td>1.0</td>\n      <td>1.0</td>\n      <td>1.0</td>\n    </tr>\n    <tr>\n      <th>26</th>\n      <td>WIN_20210414_06_24_52_Pro</td>\n      <td>2.0</td>\n      <td>2.0</td>\n      <td>2.0</td>\n      <td>2.0</td>\n      <td>2.0</td>\n      <td>1.0</td>\n      <td>1.0</td>\n      <td>2.0</td>\n      <td>2.0</td>\n    </tr>\n    <tr>\n      <th>27</th>\n      <td>WIN_20210415_15_41_24_Pro</td>\n      <td>1.0</td>\n      <td>0.0</td>\n      <td>0.0</td>\n      <td>1.0</td>\n      <td>0.0</td>\n      <td>0.0</td>\n      <td>0.0</td>\n      <td>0.0</td>\n      <td>0.0</td>\n    </tr>\n    <tr>\n      <th>28</th>\n      <td>WIN_20210416_08_06_54_Pro</td>\n      <td>1.0</td>\n      <td>2.0</td>\n      <td>1.0</td>\n      <td>1.0</td>\n      <td>1.0</td>\n      <td>0.0</td>\n      <td>0.0</td>\n      <td>1.0</td>\n      <td>1.0</td>\n    </tr>\n    <tr>\n      <th>29</th>\n      <td>WIN_20210417_14_53_12_Pro</td>\n      <td>0.0</td>\n      <td>0.0</td>\n      <td>0.0</td>\n      <td>0.0</td>\n      <td>0.0</td>\n      <td>0.0</td>\n      <td>1.0</td>\n      <td>1.0</td>\n      <td>0.0</td>\n    </tr>\n  </tbody>\n</table>\n</div>"
     },
     "metadata": {},
     "execution_count": 91
    }
   ],
   "source": [
    "df_annotations_stress = pd.read_csv('annotations.csv')\n",
    "df_annotations_stress"
   ]
  },
  {
   "cell_type": "code",
   "execution_count": 92,
   "metadata": {},
   "outputs": [
    {
     "output_type": "execute_result",
     "data": {
      "text/plain": [
       "                                   8    9   10   11   17  stress_global\n",
       "video_name                                                             \n",
       "Test_pour_AFPA                   1.0  0.0  0.0  0.0  0.0            1.0\n",
       "Video_1                          0.0  0.0  0.0  1.0  1.0            0.0\n",
       "WIN_20210323_19_17_40_Pro        0.0  1.0  1.0  1.0  1.0            1.0\n",
       "WIN_20210329_10_16_02_Pro        0.0  1.0  1.0  0.0  0.0            1.0\n",
       "WIN_20210330_13_10_29_Pro        0.0  0.0  0.0  1.0  0.0            0.0\n",
       "WIN_20210331_21_22_52_Pro        0.0  1.0  1.0  1.0  0.0            1.0\n",
       "WIN_20210402_14_27_50_Pro        1.0  1.0  2.0  1.0  1.0            1.0\n",
       "WIN_20210402_19_04_53_Pro        1.0  1.0  1.0  1.0  1.0            2.0\n",
       "WIN_20210403_18_49_15_Pro        1.0  1.0  1.0  1.0  2.0            2.0\n",
       "WIN_20210404_10_58_27_Pro        1.0  1.0  1.0  1.0  1.0            1.0\n",
       "WIN_20210404_21_41_12_Pro        0.0  1.0  0.0  0.0  0.0            0.0\n",
       "WIN_20210405_15_09_16_Pro        1.0  1.0  1.0  1.0  0.0            1.0\n",
       "WIN_20210406_15_06_15_Pro        1.0  1.0  1.0  1.0  1.0            2.0\n",
       "WIN_20210406_18_35_52_Pro        0.0  1.0  0.0  0.0  0.0            0.0\n",
       "WIN_20210406_18_49_10_Pro        0.0  1.0  1.0  1.0  1.0            1.0\n",
       "WIN_20210406_21_05_52_Pro        2.0  2.0  1.0  2.0  1.0            2.0\n",
       "WIN_20210407_09_04_05_Pro        0.0  2.0  1.0  3.0  0.0            2.0\n",
       "WIN_20210407_14_54_56_Pro_edit2  0.0  0.0  0.0  0.0  0.0            0.0\n",
       "WIN_20210408_11_48_58_Pro        1.0  1.0  1.0  1.0  1.0            2.0\n",
       "WIN_20210408_14_00_44_Pro        0.0  0.0  0.0  0.0  0.0            0.0\n",
       "WIN_20210408_14_02_19_Pro        1.0  0.0  0.0  0.0  0.0            0.0\n",
       "WIN_20210408_14_11_32_Pro        2.0  2.0  2.0  2.0  0.0            2.0\n",
       "WIN_20210408_15_20_51_Pro        0.0  0.0  0.0  0.0  0.0            0.0\n",
       "WIN_20210408_16_04_32_Pro        0.0  1.0  0.0  0.0  0.0            0.0\n",
       "WIN_20210409_10_26_11_Pro        1.0  0.0  1.0  0.0  1.0            0.0\n",
       "WIN_20210413_15_38_01_Pro        0.0  0.0  0.0  0.0  1.0            1.0\n",
       "WIN_20210414_06_24_52_Pro        2.0  2.0  2.0  2.0  1.0            2.0\n",
       "WIN_20210415_15_41_24_Pro        0.0  0.0  1.0  0.0  0.0            0.0\n",
       "WIN_20210416_08_06_54_Pro        2.0  1.0  1.0  1.0  0.0            1.0\n",
       "WIN_20210417_14_53_12_Pro        0.0  0.0  0.0  0.0  1.0            0.0"
      ],
      "text/html": "<div>\n<style scoped>\n    .dataframe tbody tr th:only-of-type {\n        vertical-align: middle;\n    }\n\n    .dataframe tbody tr th {\n        vertical-align: top;\n    }\n\n    .dataframe thead th {\n        text-align: right;\n    }\n</style>\n<table border=\"1\" class=\"dataframe\">\n  <thead>\n    <tr style=\"text-align: right;\">\n      <th></th>\n      <th>8</th>\n      <th>9</th>\n      <th>10</th>\n      <th>11</th>\n      <th>17</th>\n      <th>stress_global</th>\n    </tr>\n    <tr>\n      <th>video_name</th>\n      <th></th>\n      <th></th>\n      <th></th>\n      <th></th>\n      <th></th>\n      <th></th>\n    </tr>\n  </thead>\n  <tbody>\n    <tr>\n      <th>Test_pour_AFPA</th>\n      <td>1.0</td>\n      <td>0.0</td>\n      <td>0.0</td>\n      <td>0.0</td>\n      <td>0.0</td>\n      <td>1.0</td>\n    </tr>\n    <tr>\n      <th>Video_1</th>\n      <td>0.0</td>\n      <td>0.0</td>\n      <td>0.0</td>\n      <td>1.0</td>\n      <td>1.0</td>\n      <td>0.0</td>\n    </tr>\n    <tr>\n      <th>WIN_20210323_19_17_40_Pro</th>\n      <td>0.0</td>\n      <td>1.0</td>\n      <td>1.0</td>\n      <td>1.0</td>\n      <td>1.0</td>\n      <td>1.0</td>\n    </tr>\n    <tr>\n      <th>WIN_20210329_10_16_02_Pro</th>\n      <td>0.0</td>\n      <td>1.0</td>\n      <td>1.0</td>\n      <td>0.0</td>\n      <td>0.0</td>\n      <td>1.0</td>\n    </tr>\n    <tr>\n      <th>WIN_20210330_13_10_29_Pro</th>\n      <td>0.0</td>\n      <td>0.0</td>\n      <td>0.0</td>\n      <td>1.0</td>\n      <td>0.0</td>\n      <td>0.0</td>\n    </tr>\n    <tr>\n      <th>WIN_20210331_21_22_52_Pro</th>\n      <td>0.0</td>\n      <td>1.0</td>\n      <td>1.0</td>\n      <td>1.0</td>\n      <td>0.0</td>\n      <td>1.0</td>\n    </tr>\n    <tr>\n      <th>WIN_20210402_14_27_50_Pro</th>\n      <td>1.0</td>\n      <td>1.0</td>\n      <td>2.0</td>\n      <td>1.0</td>\n      <td>1.0</td>\n      <td>1.0</td>\n    </tr>\n    <tr>\n      <th>WIN_20210402_19_04_53_Pro</th>\n      <td>1.0</td>\n      <td>1.0</td>\n      <td>1.0</td>\n      <td>1.0</td>\n      <td>1.0</td>\n      <td>2.0</td>\n    </tr>\n    <tr>\n      <th>WIN_20210403_18_49_15_Pro</th>\n      <td>1.0</td>\n      <td>1.0</td>\n      <td>1.0</td>\n      <td>1.0</td>\n      <td>2.0</td>\n      <td>2.0</td>\n    </tr>\n    <tr>\n      <th>WIN_20210404_10_58_27_Pro</th>\n      <td>1.0</td>\n      <td>1.0</td>\n      <td>1.0</td>\n      <td>1.0</td>\n      <td>1.0</td>\n      <td>1.0</td>\n    </tr>\n    <tr>\n      <th>WIN_20210404_21_41_12_Pro</th>\n      <td>0.0</td>\n      <td>1.0</td>\n      <td>0.0</td>\n      <td>0.0</td>\n      <td>0.0</td>\n      <td>0.0</td>\n    </tr>\n    <tr>\n      <th>WIN_20210405_15_09_16_Pro</th>\n      <td>1.0</td>\n      <td>1.0</td>\n      <td>1.0</td>\n      <td>1.0</td>\n      <td>0.0</td>\n      <td>1.0</td>\n    </tr>\n    <tr>\n      <th>WIN_20210406_15_06_15_Pro</th>\n      <td>1.0</td>\n      <td>1.0</td>\n      <td>1.0</td>\n      <td>1.0</td>\n      <td>1.0</td>\n      <td>2.0</td>\n    </tr>\n    <tr>\n      <th>WIN_20210406_18_35_52_Pro</th>\n      <td>0.0</td>\n      <td>1.0</td>\n      <td>0.0</td>\n      <td>0.0</td>\n      <td>0.0</td>\n      <td>0.0</td>\n    </tr>\n    <tr>\n      <th>WIN_20210406_18_49_10_Pro</th>\n      <td>0.0</td>\n      <td>1.0</td>\n      <td>1.0</td>\n      <td>1.0</td>\n      <td>1.0</td>\n      <td>1.0</td>\n    </tr>\n    <tr>\n      <th>WIN_20210406_21_05_52_Pro</th>\n      <td>2.0</td>\n      <td>2.0</td>\n      <td>1.0</td>\n      <td>2.0</td>\n      <td>1.0</td>\n      <td>2.0</td>\n    </tr>\n    <tr>\n      <th>WIN_20210407_09_04_05_Pro</th>\n      <td>0.0</td>\n      <td>2.0</td>\n      <td>1.0</td>\n      <td>3.0</td>\n      <td>0.0</td>\n      <td>2.0</td>\n    </tr>\n    <tr>\n      <th>WIN_20210407_14_54_56_Pro_edit2</th>\n      <td>0.0</td>\n      <td>0.0</td>\n      <td>0.0</td>\n      <td>0.0</td>\n      <td>0.0</td>\n      <td>0.0</td>\n    </tr>\n    <tr>\n      <th>WIN_20210408_11_48_58_Pro</th>\n      <td>1.0</td>\n      <td>1.0</td>\n      <td>1.0</td>\n      <td>1.0</td>\n      <td>1.0</td>\n      <td>2.0</td>\n    </tr>\n    <tr>\n      <th>WIN_20210408_14_00_44_Pro</th>\n      <td>0.0</td>\n      <td>0.0</td>\n      <td>0.0</td>\n      <td>0.0</td>\n      <td>0.0</td>\n      <td>0.0</td>\n    </tr>\n    <tr>\n      <th>WIN_20210408_14_02_19_Pro</th>\n      <td>1.0</td>\n      <td>0.0</td>\n      <td>0.0</td>\n      <td>0.0</td>\n      <td>0.0</td>\n      <td>0.0</td>\n    </tr>\n    <tr>\n      <th>WIN_20210408_14_11_32_Pro</th>\n      <td>2.0</td>\n      <td>2.0</td>\n      <td>2.0</td>\n      <td>2.0</td>\n      <td>0.0</td>\n      <td>2.0</td>\n    </tr>\n    <tr>\n      <th>WIN_20210408_15_20_51_Pro</th>\n      <td>0.0</td>\n      <td>0.0</td>\n      <td>0.0</td>\n      <td>0.0</td>\n      <td>0.0</td>\n      <td>0.0</td>\n    </tr>\n    <tr>\n      <th>WIN_20210408_16_04_32_Pro</th>\n      <td>0.0</td>\n      <td>1.0</td>\n      <td>0.0</td>\n      <td>0.0</td>\n      <td>0.0</td>\n      <td>0.0</td>\n    </tr>\n    <tr>\n      <th>WIN_20210409_10_26_11_Pro</th>\n      <td>1.0</td>\n      <td>0.0</td>\n      <td>1.0</td>\n      <td>0.0</td>\n      <td>1.0</td>\n      <td>0.0</td>\n    </tr>\n    <tr>\n      <th>WIN_20210413_15_38_01_Pro</th>\n      <td>0.0</td>\n      <td>0.0</td>\n      <td>0.0</td>\n      <td>0.0</td>\n      <td>1.0</td>\n      <td>1.0</td>\n    </tr>\n    <tr>\n      <th>WIN_20210414_06_24_52_Pro</th>\n      <td>2.0</td>\n      <td>2.0</td>\n      <td>2.0</td>\n      <td>2.0</td>\n      <td>1.0</td>\n      <td>2.0</td>\n    </tr>\n    <tr>\n      <th>WIN_20210415_15_41_24_Pro</th>\n      <td>0.0</td>\n      <td>0.0</td>\n      <td>1.0</td>\n      <td>0.0</td>\n      <td>0.0</td>\n      <td>0.0</td>\n    </tr>\n    <tr>\n      <th>WIN_20210416_08_06_54_Pro</th>\n      <td>2.0</td>\n      <td>1.0</td>\n      <td>1.0</td>\n      <td>1.0</td>\n      <td>0.0</td>\n      <td>1.0</td>\n    </tr>\n    <tr>\n      <th>WIN_20210417_14_53_12_Pro</th>\n      <td>0.0</td>\n      <td>0.0</td>\n      <td>0.0</td>\n      <td>0.0</td>\n      <td>1.0</td>\n      <td>0.0</td>\n    </tr>\n  </tbody>\n</table>\n</div>"
     },
     "metadata": {},
     "execution_count": 92
    }
   ],
   "source": [
    "df_annotations_stress = pd.read_csv('annotations.csv')\n",
    "df_annotations_stress = df_annotations_stress.set_index(['video_name'])\n",
    "diapo_audio_list.append('stress_global')\n",
    "df_annotations_stress = df_annotations_stress[[str(diapo) for diapo in diapo_audio_list]]\n",
    "diapo_audio_list.pop()\n",
    "df_annotations_stress\n"
   ]
  },
  {
   "cell_type": "code",
   "execution_count": 93,
   "metadata": {},
   "outputs": [],
   "source": [
    "Xy = ypredict_stress_diapo.merge(df_annotations_stress.iloc[:,-1],how='inner',on='video_name')\n",
    "X = Xy.iloc[:,:-1]\n",
    "y = Xy.iloc[:,-1]"
   ]
  },
  {
   "cell_type": "code",
   "execution_count": 94,
   "metadata": {},
   "outputs": [
    {
     "output_type": "execute_result",
     "data": {
      "text/plain": [
       "                                   8    9   10   11   17  stress_global\n",
       "video_name                                                             \n",
       "Test_pour_AFPA                   0.0  0.0  1.0  0.0  0.0            1.0\n",
       "Video_1                          0.0  0.0  1.0  0.0  1.0            0.0\n",
       "WIN_20210323_19_17_40_Pro        0.0  0.0  1.0  0.0  0.0            1.0\n",
       "WIN_20210329_10_16_02_Pro        1.0  1.0  1.0  1.0  0.0            1.0\n",
       "WIN_20210330_13_10_29_Pro        1.0  1.0  1.0  1.0  0.0            0.0\n",
       "WIN_20210331_21_22_52_Pro        1.0  1.0  0.0  0.0  1.0            1.0\n",
       "WIN_20210402_14_27_50_Pro        1.0  1.0  1.0  1.0  0.0            1.0\n",
       "WIN_20210402_19_04_53_Pro        0.0  0.0  1.0  1.0  0.0            2.0\n",
       "WIN_20210403_18_49_15_Pro        0.0  0.0  1.0  1.0  0.0            2.0\n",
       "WIN_20210404_10_58_27_Pro        0.0  1.0  0.0  0.0  0.0            1.0\n",
       "WIN_20210404_21_41_12_Pro        0.0  0.0  1.0  0.0  0.0            0.0\n",
       "WIN_20210405_15_09_16_Pro        1.0  0.0  1.0  1.0  2.0            1.0\n",
       "WIN_20210406_15_06_15_Pro        0.0  1.0  1.0  0.0  1.0            2.0\n",
       "WIN_20210406_18_35_52_Pro        0.0  1.0  0.0  0.0  1.0            0.0\n",
       "WIN_20210406_18_49_10_Pro        0.0  1.0  1.0  0.0  1.0            1.0\n",
       "WIN_20210406_21_05_52_Pro        1.0  0.0  0.0  0.0  0.0            2.0\n",
       "WIN_20210407_09_04_05_Pro        1.0  0.0  0.0  0.0  0.0            2.0\n",
       "WIN_20210407_14_54_56_Pro_edit2  0.0  0.0  0.0  0.0  1.0            0.0\n",
       "WIN_20210408_11_48_58_Pro        0.0  0.0  0.0  1.0  0.0            2.0\n",
       "WIN_20210408_14_00_44_Pro        0.0  0.0  0.0  0.0  0.0            0.0\n",
       "WIN_20210408_14_02_19_Pro        0.0  0.0  0.0  0.0  0.0            0.0\n",
       "WIN_20210408_14_11_32_Pro        0.0  0.0  0.0  0.0  0.0            2.0\n",
       "WIN_20210408_15_20_51_Pro        0.0  0.0  1.0  0.0  0.0            0.0\n",
       "WIN_20210408_16_04_32_Pro        1.0  0.0  1.0  0.0  0.0            0.0\n",
       "WIN_20210409_10_26_11_Pro        0.0  0.0  1.0  0.0  1.0            0.0\n",
       "WIN_20210413_15_38_01_Pro        0.0  0.0  0.0  0.0  0.0            1.0\n",
       "WIN_20210414_06_24_52_Pro        0.0  1.0  1.0  0.0  0.0            2.0\n",
       "WIN_20210415_15_41_24_Pro        0.0  0.0  1.0  2.0  0.0            0.0\n",
       "WIN_20210416_08_06_54_Pro        1.0  1.0  0.0  0.0  1.0            1.0\n",
       "WIN_20210417_14_53_12_Pro        0.0  1.0  0.0  0.0  0.0            0.0"
      ],
      "text/html": "<div>\n<style scoped>\n    .dataframe tbody tr th:only-of-type {\n        vertical-align: middle;\n    }\n\n    .dataframe tbody tr th {\n        vertical-align: top;\n    }\n\n    .dataframe thead th {\n        text-align: right;\n    }\n</style>\n<table border=\"1\" class=\"dataframe\">\n  <thead>\n    <tr style=\"text-align: right;\">\n      <th></th>\n      <th>8</th>\n      <th>9</th>\n      <th>10</th>\n      <th>11</th>\n      <th>17</th>\n      <th>stress_global</th>\n    </tr>\n    <tr>\n      <th>video_name</th>\n      <th></th>\n      <th></th>\n      <th></th>\n      <th></th>\n      <th></th>\n      <th></th>\n    </tr>\n  </thead>\n  <tbody>\n    <tr>\n      <th>Test_pour_AFPA</th>\n      <td>0.0</td>\n      <td>0.0</td>\n      <td>1.0</td>\n      <td>0.0</td>\n      <td>0.0</td>\n      <td>1.0</td>\n    </tr>\n    <tr>\n      <th>Video_1</th>\n      <td>0.0</td>\n      <td>0.0</td>\n      <td>1.0</td>\n      <td>0.0</td>\n      <td>1.0</td>\n      <td>0.0</td>\n    </tr>\n    <tr>\n      <th>WIN_20210323_19_17_40_Pro</th>\n      <td>0.0</td>\n      <td>0.0</td>\n      <td>1.0</td>\n      <td>0.0</td>\n      <td>0.0</td>\n      <td>1.0</td>\n    </tr>\n    <tr>\n      <th>WIN_20210329_10_16_02_Pro</th>\n      <td>1.0</td>\n      <td>1.0</td>\n      <td>1.0</td>\n      <td>1.0</td>\n      <td>0.0</td>\n      <td>1.0</td>\n    </tr>\n    <tr>\n      <th>WIN_20210330_13_10_29_Pro</th>\n      <td>1.0</td>\n      <td>1.0</td>\n      <td>1.0</td>\n      <td>1.0</td>\n      <td>0.0</td>\n      <td>0.0</td>\n    </tr>\n    <tr>\n      <th>WIN_20210331_21_22_52_Pro</th>\n      <td>1.0</td>\n      <td>1.0</td>\n      <td>0.0</td>\n      <td>0.0</td>\n      <td>1.0</td>\n      <td>1.0</td>\n    </tr>\n    <tr>\n      <th>WIN_20210402_14_27_50_Pro</th>\n      <td>1.0</td>\n      <td>1.0</td>\n      <td>1.0</td>\n      <td>1.0</td>\n      <td>0.0</td>\n      <td>1.0</td>\n    </tr>\n    <tr>\n      <th>WIN_20210402_19_04_53_Pro</th>\n      <td>0.0</td>\n      <td>0.0</td>\n      <td>1.0</td>\n      <td>1.0</td>\n      <td>0.0</td>\n      <td>2.0</td>\n    </tr>\n    <tr>\n      <th>WIN_20210403_18_49_15_Pro</th>\n      <td>0.0</td>\n      <td>0.0</td>\n      <td>1.0</td>\n      <td>1.0</td>\n      <td>0.0</td>\n      <td>2.0</td>\n    </tr>\n    <tr>\n      <th>WIN_20210404_10_58_27_Pro</th>\n      <td>0.0</td>\n      <td>1.0</td>\n      <td>0.0</td>\n      <td>0.0</td>\n      <td>0.0</td>\n      <td>1.0</td>\n    </tr>\n    <tr>\n      <th>WIN_20210404_21_41_12_Pro</th>\n      <td>0.0</td>\n      <td>0.0</td>\n      <td>1.0</td>\n      <td>0.0</td>\n      <td>0.0</td>\n      <td>0.0</td>\n    </tr>\n    <tr>\n      <th>WIN_20210405_15_09_16_Pro</th>\n      <td>1.0</td>\n      <td>0.0</td>\n      <td>1.0</td>\n      <td>1.0</td>\n      <td>2.0</td>\n      <td>1.0</td>\n    </tr>\n    <tr>\n      <th>WIN_20210406_15_06_15_Pro</th>\n      <td>0.0</td>\n      <td>1.0</td>\n      <td>1.0</td>\n      <td>0.0</td>\n      <td>1.0</td>\n      <td>2.0</td>\n    </tr>\n    <tr>\n      <th>WIN_20210406_18_35_52_Pro</th>\n      <td>0.0</td>\n      <td>1.0</td>\n      <td>0.0</td>\n      <td>0.0</td>\n      <td>1.0</td>\n      <td>0.0</td>\n    </tr>\n    <tr>\n      <th>WIN_20210406_18_49_10_Pro</th>\n      <td>0.0</td>\n      <td>1.0</td>\n      <td>1.0</td>\n      <td>0.0</td>\n      <td>1.0</td>\n      <td>1.0</td>\n    </tr>\n    <tr>\n      <th>WIN_20210406_21_05_52_Pro</th>\n      <td>1.0</td>\n      <td>0.0</td>\n      <td>0.0</td>\n      <td>0.0</td>\n      <td>0.0</td>\n      <td>2.0</td>\n    </tr>\n    <tr>\n      <th>WIN_20210407_09_04_05_Pro</th>\n      <td>1.0</td>\n      <td>0.0</td>\n      <td>0.0</td>\n      <td>0.0</td>\n      <td>0.0</td>\n      <td>2.0</td>\n    </tr>\n    <tr>\n      <th>WIN_20210407_14_54_56_Pro_edit2</th>\n      <td>0.0</td>\n      <td>0.0</td>\n      <td>0.0</td>\n      <td>0.0</td>\n      <td>1.0</td>\n      <td>0.0</td>\n    </tr>\n    <tr>\n      <th>WIN_20210408_11_48_58_Pro</th>\n      <td>0.0</td>\n      <td>0.0</td>\n      <td>0.0</td>\n      <td>1.0</td>\n      <td>0.0</td>\n      <td>2.0</td>\n    </tr>\n    <tr>\n      <th>WIN_20210408_14_00_44_Pro</th>\n      <td>0.0</td>\n      <td>0.0</td>\n      <td>0.0</td>\n      <td>0.0</td>\n      <td>0.0</td>\n      <td>0.0</td>\n    </tr>\n    <tr>\n      <th>WIN_20210408_14_02_19_Pro</th>\n      <td>0.0</td>\n      <td>0.0</td>\n      <td>0.0</td>\n      <td>0.0</td>\n      <td>0.0</td>\n      <td>0.0</td>\n    </tr>\n    <tr>\n      <th>WIN_20210408_14_11_32_Pro</th>\n      <td>0.0</td>\n      <td>0.0</td>\n      <td>0.0</td>\n      <td>0.0</td>\n      <td>0.0</td>\n      <td>2.0</td>\n    </tr>\n    <tr>\n      <th>WIN_20210408_15_20_51_Pro</th>\n      <td>0.0</td>\n      <td>0.0</td>\n      <td>1.0</td>\n      <td>0.0</td>\n      <td>0.0</td>\n      <td>0.0</td>\n    </tr>\n    <tr>\n      <th>WIN_20210408_16_04_32_Pro</th>\n      <td>1.0</td>\n      <td>0.0</td>\n      <td>1.0</td>\n      <td>0.0</td>\n      <td>0.0</td>\n      <td>0.0</td>\n    </tr>\n    <tr>\n      <th>WIN_20210409_10_26_11_Pro</th>\n      <td>0.0</td>\n      <td>0.0</td>\n      <td>1.0</td>\n      <td>0.0</td>\n      <td>1.0</td>\n      <td>0.0</td>\n    </tr>\n    <tr>\n      <th>WIN_20210413_15_38_01_Pro</th>\n      <td>0.0</td>\n      <td>0.0</td>\n      <td>0.0</td>\n      <td>0.0</td>\n      <td>0.0</td>\n      <td>1.0</td>\n    </tr>\n    <tr>\n      <th>WIN_20210414_06_24_52_Pro</th>\n      <td>0.0</td>\n      <td>1.0</td>\n      <td>1.0</td>\n      <td>0.0</td>\n      <td>0.0</td>\n      <td>2.0</td>\n    </tr>\n    <tr>\n      <th>WIN_20210415_15_41_24_Pro</th>\n      <td>0.0</td>\n      <td>0.0</td>\n      <td>1.0</td>\n      <td>2.0</td>\n      <td>0.0</td>\n      <td>0.0</td>\n    </tr>\n    <tr>\n      <th>WIN_20210416_08_06_54_Pro</th>\n      <td>1.0</td>\n      <td>1.0</td>\n      <td>0.0</td>\n      <td>0.0</td>\n      <td>1.0</td>\n      <td>1.0</td>\n    </tr>\n    <tr>\n      <th>WIN_20210417_14_53_12_Pro</th>\n      <td>0.0</td>\n      <td>1.0</td>\n      <td>0.0</td>\n      <td>0.0</td>\n      <td>0.0</td>\n      <td>0.0</td>\n    </tr>\n  </tbody>\n</table>\n</div>"
     },
     "metadata": {},
     "execution_count": 94
    }
   ],
   "source": [
    "Xy"
   ]
  },
  {
   "cell_type": "code",
   "execution_count": 95,
   "metadata": {},
   "outputs": [],
   "source": [
    "from sklearn.linear_model import LogisticRegression\n",
    "from sklearn.neighbors import KNeighborsClassifier\n",
    "from sklearn.ensemble import RandomForestClassifier\n",
    "from sklearn.model_selection import LeaveOneGroupOut\n",
    "from sklearn.decomposition import PCA\n",
    "from sklearn.pipeline import Pipeline\n",
    "\n",
    "pca = PCA()\n",
    "\n",
    "models_list = [\n",
    "                LogisticRegression(multi_class='multinomial', fit_intercept=True, random_state=42),\n",
    "                Pipeline(steps=[('pca', pca), ('logistic', LogisticRegression(multi_class='multinomial', fit_intercept=True))]),\n",
    "                KNeighborsClassifier(),\n",
    "                Pipeline(steps=[('pca', pca), ('knn', KNeighborsClassifier())]),\n",
    "                RandomForestClassifier(random_state = 42, n_jobs=-1)\n",
    "                ]\n",
    "\n",
    "parameters_list = [\n",
    "                    {'C': [0.01, 0.05, 0.1, 0.5, 1, 2, 3, 4 , 5, 10], 'class_weight' : [None, 'balanced']},\n",
    "                    {'pca__n_components': [1, 2, 3, 4],\n",
    "                        'logistic__C': [0.01, 0.05, 0.1, 0.5, 1, 2, 3, 4 , 5, 10], 'logistic__class_weight' : [None, 'balanced']},\n",
    "                    {'n_neighbors': [4, 5, 6, 7, 8, 9, 10, 11, 12,  15, 20], 'weights' : ['uniform', 'distance'], 'p': [1, 2]},\n",
    "                    {'pca__n_components': [1, 2, 3, 4],\n",
    "                        'knn__n_neighbors': [4, 5, 6, 7, 8, 9, 10, 11, 12,  15, 20], 'knn__weights' : ['uniform', 'distance'],                              'knn__p': [1, 2]},\n",
    "                    {'n_estimators': [50, 100, 150, 200], 'max_depth':[3, 4, 5, 6, 10, 15, 20], 'class_weight':[None,'balanced']}\n",
    "                    ]\n",
    "\n",
    "groups = X.reset_index()['video_name']\n",
    "loo = LeaveOneGroupOut()\n",
    "cv_loo = loo.split(X, y, groups)"
   ]
  },
  {
   "cell_type": "code",
   "execution_count": 96,
   "metadata": {},
   "outputs": [
    {
     "output_type": "stream",
     "name": "stdout",
     "text": [
      "Fitting 5 folds for each of 20 candidates, totalling 100 fits\n",
      "[Parallel(n_jobs=-1)]: Using backend LokyBackend with 8 concurrent workers.\n",
      "[Parallel(n_jobs=-1)]: Done  56 tasks      | elapsed:    0.3s\n",
      "[Parallel(n_jobs=-1)]: Done  85 out of 100 | elapsed:    0.4s remaining:    0.1s\n",
      "[Parallel(n_jobs=-1)]: Done 100 out of 100 | elapsed:    0.4s finished\n",
      "[Parallel(n_jobs=-1)]: Using backend LokyBackend with 8 concurrent workers.\n",
      "Best estimator LogisticRegression(C=0.01, class_weight='balanced', multi_class='multinomial',\n",
      "                   random_state=42)\n",
      "Best results 0.32825396825396824\n",
      "Best params {'C': 0.01, 'class_weight': 'balanced'}\n",
      "accuracy (mean, std) 0.39999999999999997 0.08164965809277262\n",
      "f1 (mean, std) 0.32825396825396824 0.08206456663199935\n",
      "balanced accuracy (mean, std) 0.4111111111111111 0.09686442096757052\n",
      "precision (mean, std) 0.28888888888888886 0.08351831321318283\n",
      "recall (mean, std) 0.39999999999999997 0.08164965809277262\n",
      "\n",
      "Fitting 5 folds for each of 80 candidates, totalling 400 fits\n",
      "[Parallel(n_jobs=-1)]: Done  56 tasks      | elapsed:    0.4s\n",
      "[Parallel(n_jobs=-1)]: Done 400 out of 400 | elapsed:    1.6s finished\n",
      "[Parallel(n_jobs=-1)]: Using backend LokyBackend with 8 concurrent workers.\n",
      "Best estimator Pipeline(steps=[('pca', PCA(n_components=3)),\n",
      "                ('logistic',\n",
      "                 LogisticRegression(C=0.01, class_weight='balanced',\n",
      "                                    multi_class='multinomial'))])\n",
      "Best results 0.42603174603174604\n",
      "Best params {'logistic__C': 0.01, 'logistic__class_weight': 'balanced', 'pca__n_components': 3}\n",
      "accuracy (mean, std) 0.4666666666666666 0.12472191289246472\n",
      "f1 (mean, std) 0.42603174603174604 0.15883678958088968\n",
      "balanced accuracy (mean, std) 0.47777777777777775 0.12957670877434\n",
      "precision (mean, std) 0.4333333333333333 0.20979119542776895\n",
      "recall (mean, std) 0.4666666666666666 0.12472191289246472\n",
      "\n",
      "Fitting 5 folds for each of 44 candidates, totalling 220 fits\n",
      "[Parallel(n_jobs=-1)]: Done  58 tasks      | elapsed:    0.2s\n",
      "[Parallel(n_jobs=-1)]: Done 220 out of 220 | elapsed:    0.6s finished\n",
      "[Parallel(n_jobs=-1)]: Using backend LokyBackend with 8 concurrent workers.\n",
      "Best estimator KNeighborsClassifier(n_neighbors=7, p=1, weights='distance')\n",
      "Best results 0.4860317460317461\n",
      "Best params {'n_neighbors': 7, 'p': 1, 'weights': 'distance'}\n",
      "accuracy (mean, std) 0.4999999999999999 0.23570226039551587\n",
      "f1 (mean, std) 0.4860317460317461 0.24008564861251097\n",
      "balanced accuracy (mean, std) 0.5222222222222221 0.24494897427831783\n",
      "precision (mean, std) 0.5055555555555555 0.26081543542901114\n",
      "recall (mean, std) 0.4999999999999999 0.23570226039551587\n",
      "\n",
      "Fitting 5 folds for each of 176 candidates, totalling 880 fits\n",
      "[Parallel(n_jobs=-1)]: Done  56 tasks      | elapsed:    0.3s\n",
      "[Parallel(n_jobs=-1)]: Done 880 out of 880 | elapsed:    2.5s finished\n",
      "[Parallel(n_jobs=-1)]: Using backend LokyBackend with 8 concurrent workers.\n",
      "Best estimator Pipeline(steps=[('pca', PCA(n_components=4)),\n",
      "                ('knn',\n",
      "                 KNeighborsClassifier(n_neighbors=11, p=1,\n",
      "                                      weights='distance'))])\n",
      "Best results 0.5793650793650794\n",
      "Best params {'knn__n_neighbors': 11, 'knn__p': 1, 'knn__weights': 'distance', 'pca__n_components': 4}\n",
      "accuracy (mean, std) 0.6000000000000001 0.20000000000000004\n",
      "f1 (mean, std) 0.5793650793650794 0.21938552267316777\n",
      "balanced accuracy (mean, std) 0.6222222222222222 0.20905430802474198\n",
      "precision (mean, std) 0.6055555555555555 0.2619961360567021\n",
      "recall (mean, std) 0.6000000000000001 0.20000000000000004\n",
      "\n",
      "Fitting 5 folds for each of 56 candidates, totalling 280 fits\n",
      "[Parallel(n_jobs=-1)]: Done  34 tasks      | elapsed:    2.1s\n",
      "[Parallel(n_jobs=-1)]: Done 184 tasks      | elapsed:   11.2s\n",
      "[Parallel(n_jobs=-1)]: Done 280 out of 280 | elapsed:   17.2s finished\n",
      "Best estimator RandomForestClassifier(max_depth=4, n_estimators=200, n_jobs=-1,\n",
      "                       random_state=42)\n",
      "Best results 0.4882539682539683\n",
      "Best params {'class_weight': None, 'max_depth': 4, 'n_estimators': 200}\n",
      "accuracy (mean, std) 0.5 0.23570226039551584\n",
      "f1 (mean, std) 0.4882539682539683 0.2432181153826535\n",
      "balanced accuracy (mean, std) 0.5222222222222221 0.2523959264800122\n",
      "precision (mean, std) 0.538888888888889 0.2884612219054926\n",
      "recall (mean, std) 0.5 0.23570226039551584\n",
      "\n",
      "f1_score (weighted) 0.6052063492063493\n",
      "accuracy 0.6\n"
     ]
    }
   ],
   "source": [
    "best_result, y_predict,y_predict_proba, result_list = runGridSearchClassifiers(X, y, 5, models_list, parameters_list, \n",
    "                                                                output_predict=True, n_jobs=-1, verbose=True)"
   ]
  },
  {
   "cell_type": "code",
   "execution_count": 97,
   "metadata": {},
   "outputs": [
    {
     "output_type": "execute_result",
     "data": {
      "text/plain": [
       "{'best_estimator': Pipeline(steps=[('pca', PCA(n_components=4)),\n",
       "                 ('knn',\n",
       "                  KNeighborsClassifier(n_neighbors=11, p=1,\n",
       "                                       weights='distance'))]),\n",
       " 'best_score': 0.5793650793650794,\n",
       " 'best_params': {'knn__n_neighbors': 11,\n",
       "  'knn__p': 1,\n",
       "  'knn__weights': 'distance',\n",
       "  'pca__n_components': 4},\n",
       " 'mean_test_f1_score': 0.5793650793650794,\n",
       " 'std_test_f1_score': 0.21938552267316777,\n",
       " 'mean_test_accuracy_score': 0.6000000000000001,\n",
       " 'std_test_accuracy_score': 0.20000000000000004,\n",
       " 'mean_test_balanced_accuracy_score': 0.6222222222222222,\n",
       " 'std_test_balanced_accuracy_score': 0.20905430802474198,\n",
       " 'mean_test_precision': 0.6055555555555555,\n",
       " 'std_test_precision': 0.2619961360567021,\n",
       " 'mean_test_recall': 0.6000000000000001,\n",
       " 'std_test_recall': 0.20000000000000004}"
      ]
     },
     "metadata": {},
     "execution_count": 97
    }
   ],
   "source": [
    "best_result"
   ]
  },
  {
   "cell_type": "code",
   "execution_count": 111,
   "metadata": {},
   "outputs": [],
   "source": [
    "# Saving predictions\n",
    "df_ypredict = pd.concat([X.reset_index()[['video_name']],\n",
    "                        pd.DataFrame(y_predict, columns=['ypredict'])],axis=1)\n",
    "df_ypredict.to_csv('ypredict_' + features + '_tw5_global' + diapo_selection + '.csv')"
   ]
  },
  {
   "cell_type": "code",
   "execution_count": 112,
   "metadata": {},
   "outputs": [],
   "source": [
    "df_ypredict = pd.concat([X.reset_index()[['video_name']],\n",
    "                        pd.DataFrame(y_predict_proba, columns=['stress_global_predict_0','stress_global_predict_1','stress_global_predict_2'])],axis=1)\n",
    "df_ypredict.to_csv('ypredict_' + features + '_tw5_global_proba' + diapo_selection + '.csv')"
   ]
  },
  {
   "cell_type": "markdown",
   "metadata": {},
   "source": [
    "#### Autre méthode"
   ]
  },
  {
   "cell_type": "markdown",
   "metadata": {},
   "source": [
    "### En utilisant le stress prédit des time windows 5s"
   ]
  },
  {
   "cell_type": "code",
   "execution_count": 113,
   "metadata": {},
   "outputs": [
    {
     "output_type": "execute_result",
     "data": {
      "text/plain": [
       "ypredict                                0         1         2\n",
       "video_name                                                   \n",
       "Test_pour_AFPA                   0.056338  0.943662  0.000000\n",
       "Video_1                          0.763889  0.236111  0.000000\n",
       "WIN_20210323_19_17_40_Pro        0.527778  0.472222  0.000000\n",
       "WIN_20210329_10_16_02_Pro        0.069444  0.930556  0.000000\n",
       "WIN_20210330_13_10_29_Pro        0.041096  0.958904  0.000000\n",
       "WIN_20210331_21_22_52_Pro        0.098592  0.901408  0.000000\n",
       "WIN_20210402_14_27_50_Pro        0.000000  0.152778  0.847222\n",
       "WIN_20210402_19_04_53_Pro        0.319444  0.680556  0.000000\n",
       "WIN_20210403_18_49_15_Pro        0.277778  0.722222  0.000000\n",
       "WIN_20210404_10_58_27_Pro        0.301370  0.698630  0.000000\n",
       "WIN_20210404_21_41_12_Pro        0.287671  0.712329  0.000000\n",
       "WIN_20210405_15_09_16_Pro        0.780822  0.219178  0.000000\n",
       "WIN_20210406_15_06_15_Pro        0.847222  0.152778  0.000000\n",
       "WIN_20210406_18_35_52_Pro        0.805556  0.194444  0.000000\n",
       "WIN_20210406_18_49_10_Pro        0.833333  0.166667  0.000000\n",
       "WIN_20210406_21_05_52_Pro        0.774648  0.225352  0.000000\n",
       "WIN_20210407_09_04_05_Pro        0.219178  0.780822  0.000000\n",
       "WIN_20210407_14_54_56_Pro_edit2  0.527778  0.472222  0.000000\n",
       "WIN_20210408_11_48_58_Pro        0.041667  0.958333  0.000000\n",
       "WIN_20210408_14_00_44_Pro        0.549296  0.450704  0.000000\n",
       "WIN_20210408_14_02_19_Pro        0.452055  0.287671  0.260274\n",
       "WIN_20210408_14_11_32_Pro        0.000000  1.000000  0.000000\n",
       "WIN_20210408_15_20_51_Pro        0.465753  0.493151  0.041096\n",
       "WIN_20210408_16_04_32_Pro        0.277778  0.722222  0.000000\n",
       "WIN_20210409_10_26_11_Pro        0.777778  0.222222  0.000000\n",
       "WIN_20210413_15_38_01_Pro        0.541667  0.458333  0.000000\n",
       "WIN_20210414_06_24_52_Pro        0.972222  0.027778  0.000000\n",
       "WIN_20210415_15_41_24_Pro        0.849315  0.150685  0.000000\n",
       "WIN_20210416_08_06_54_Pro        0.315068  0.684932  0.000000\n",
       "WIN_20210417_14_53_12_Pro        0.808219  0.191781  0.000000"
      ],
      "text/html": "<div>\n<style scoped>\n    .dataframe tbody tr th:only-of-type {\n        vertical-align: middle;\n    }\n\n    .dataframe tbody tr th {\n        vertical-align: top;\n    }\n\n    .dataframe thead th {\n        text-align: right;\n    }\n</style>\n<table border=\"1\" class=\"dataframe\">\n  <thead>\n    <tr style=\"text-align: right;\">\n      <th>ypredict</th>\n      <th>0</th>\n      <th>1</th>\n      <th>2</th>\n    </tr>\n    <tr>\n      <th>video_name</th>\n      <th></th>\n      <th></th>\n      <th></th>\n    </tr>\n  </thead>\n  <tbody>\n    <tr>\n      <th>Test_pour_AFPA</th>\n      <td>0.056338</td>\n      <td>0.943662</td>\n      <td>0.000000</td>\n    </tr>\n    <tr>\n      <th>Video_1</th>\n      <td>0.763889</td>\n      <td>0.236111</td>\n      <td>0.000000</td>\n    </tr>\n    <tr>\n      <th>WIN_20210323_19_17_40_Pro</th>\n      <td>0.527778</td>\n      <td>0.472222</td>\n      <td>0.000000</td>\n    </tr>\n    <tr>\n      <th>WIN_20210329_10_16_02_Pro</th>\n      <td>0.069444</td>\n      <td>0.930556</td>\n      <td>0.000000</td>\n    </tr>\n    <tr>\n      <th>WIN_20210330_13_10_29_Pro</th>\n      <td>0.041096</td>\n      <td>0.958904</td>\n      <td>0.000000</td>\n    </tr>\n    <tr>\n      <th>WIN_20210331_21_22_52_Pro</th>\n      <td>0.098592</td>\n      <td>0.901408</td>\n      <td>0.000000</td>\n    </tr>\n    <tr>\n      <th>WIN_20210402_14_27_50_Pro</th>\n      <td>0.000000</td>\n      <td>0.152778</td>\n      <td>0.847222</td>\n    </tr>\n    <tr>\n      <th>WIN_20210402_19_04_53_Pro</th>\n      <td>0.319444</td>\n      <td>0.680556</td>\n      <td>0.000000</td>\n    </tr>\n    <tr>\n      <th>WIN_20210403_18_49_15_Pro</th>\n      <td>0.277778</td>\n      <td>0.722222</td>\n      <td>0.000000</td>\n    </tr>\n    <tr>\n      <th>WIN_20210404_10_58_27_Pro</th>\n      <td>0.301370</td>\n      <td>0.698630</td>\n      <td>0.000000</td>\n    </tr>\n    <tr>\n      <th>WIN_20210404_21_41_12_Pro</th>\n      <td>0.287671</td>\n      <td>0.712329</td>\n      <td>0.000000</td>\n    </tr>\n    <tr>\n      <th>WIN_20210405_15_09_16_Pro</th>\n      <td>0.780822</td>\n      <td>0.219178</td>\n      <td>0.000000</td>\n    </tr>\n    <tr>\n      <th>WIN_20210406_15_06_15_Pro</th>\n      <td>0.847222</td>\n      <td>0.152778</td>\n      <td>0.000000</td>\n    </tr>\n    <tr>\n      <th>WIN_20210406_18_35_52_Pro</th>\n      <td>0.805556</td>\n      <td>0.194444</td>\n      <td>0.000000</td>\n    </tr>\n    <tr>\n      <th>WIN_20210406_18_49_10_Pro</th>\n      <td>0.833333</td>\n      <td>0.166667</td>\n      <td>0.000000</td>\n    </tr>\n    <tr>\n      <th>WIN_20210406_21_05_52_Pro</th>\n      <td>0.774648</td>\n      <td>0.225352</td>\n      <td>0.000000</td>\n    </tr>\n    <tr>\n      <th>WIN_20210407_09_04_05_Pro</th>\n      <td>0.219178</td>\n      <td>0.780822</td>\n      <td>0.000000</td>\n    </tr>\n    <tr>\n      <th>WIN_20210407_14_54_56_Pro_edit2</th>\n      <td>0.527778</td>\n      <td>0.472222</td>\n      <td>0.000000</td>\n    </tr>\n    <tr>\n      <th>WIN_20210408_11_48_58_Pro</th>\n      <td>0.041667</td>\n      <td>0.958333</td>\n      <td>0.000000</td>\n    </tr>\n    <tr>\n      <th>WIN_20210408_14_00_44_Pro</th>\n      <td>0.549296</td>\n      <td>0.450704</td>\n      <td>0.000000</td>\n    </tr>\n    <tr>\n      <th>WIN_20210408_14_02_19_Pro</th>\n      <td>0.452055</td>\n      <td>0.287671</td>\n      <td>0.260274</td>\n    </tr>\n    <tr>\n      <th>WIN_20210408_14_11_32_Pro</th>\n      <td>0.000000</td>\n      <td>1.000000</td>\n      <td>0.000000</td>\n    </tr>\n    <tr>\n      <th>WIN_20210408_15_20_51_Pro</th>\n      <td>0.465753</td>\n      <td>0.493151</td>\n      <td>0.041096</td>\n    </tr>\n    <tr>\n      <th>WIN_20210408_16_04_32_Pro</th>\n      <td>0.277778</td>\n      <td>0.722222</td>\n      <td>0.000000</td>\n    </tr>\n    <tr>\n      <th>WIN_20210409_10_26_11_Pro</th>\n      <td>0.777778</td>\n      <td>0.222222</td>\n      <td>0.000000</td>\n    </tr>\n    <tr>\n      <th>WIN_20210413_15_38_01_Pro</th>\n      <td>0.541667</td>\n      <td>0.458333</td>\n      <td>0.000000</td>\n    </tr>\n    <tr>\n      <th>WIN_20210414_06_24_52_Pro</th>\n      <td>0.972222</td>\n      <td>0.027778</td>\n      <td>0.000000</td>\n    </tr>\n    <tr>\n      <th>WIN_20210415_15_41_24_Pro</th>\n      <td>0.849315</td>\n      <td>0.150685</td>\n      <td>0.000000</td>\n    </tr>\n    <tr>\n      <th>WIN_20210416_08_06_54_Pro</th>\n      <td>0.315068</td>\n      <td>0.684932</td>\n      <td>0.000000</td>\n    </tr>\n    <tr>\n      <th>WIN_20210417_14_53_12_Pro</th>\n      <td>0.808219</td>\n      <td>0.191781</td>\n      <td>0.000000</td>\n    </tr>\n  </tbody>\n</table>\n</div>"
     },
     "metadata": {},
     "execution_count": 113
    }
   ],
   "source": [
    "df_ypredict = pd.read_csv('ypredict_' + features + '_tw5' + diapo_selection + '.csv')\n",
    "df_ypredict = df_ypredict.iloc[:,1:]\n",
    "df_ypredict.columns = ['video_name','diapo','frameTimeWindow','ypredict']\n",
    "df_ypredict['ypredict'] = df_ypredict['ypredict'].astype(int)\n",
    "df_ypredict = df_ypredict.pivot_table(values='frameTimeWindow', columns='ypredict', index='video_name', aggfunc='count', fill_value=0)\n",
    "df_ypredict_sum = df_ypredict.sum(axis=1).values.copy()\n",
    "for col_number in range(len(df_ypredict.columns)):\n",
    "    df_ypredict.iloc[:,col_number] = df_ypredict.iloc[:,col_number] / df_ypredict_sum\n",
    "#df_ypredict = df_ypredict.reset_index()\n",
    "df_ypredict\n"
   ]
  },
  {
   "cell_type": "code",
   "execution_count": 114,
   "metadata": {},
   "outputs": [],
   "source": [
    "df_annotations_stress = pd.read_csv('annotations.csv')\n",
    "df_annotations_stress = df_annotations_stress[['video_name','stress_global']]"
   ]
  },
  {
   "cell_type": "code",
   "execution_count": 115,
   "metadata": {},
   "outputs": [],
   "source": [
    "Xy = df_ypredict.merge(df_annotations_stress, on='video_name')\n",
    "X = Xy.iloc[:,:-1].set_index('video_name')\n",
    "y = Xy.iloc[:,-1]"
   ]
  },
  {
   "cell_type": "code",
   "execution_count": 116,
   "metadata": {},
   "outputs": [],
   "source": [
    "from sklearn.linear_model import LogisticRegression\n",
    "from sklearn.neighbors import KNeighborsClassifier\n",
    "from sklearn.ensemble import RandomForestClassifier\n",
    "from sklearn.model_selection import LeaveOneGroupOut\n",
    "from sklearn.decomposition import PCA\n",
    "from sklearn.pipeline import Pipeline\n",
    "\n",
    "pca = PCA()\n",
    "\n",
    "models_list = [\n",
    "                LogisticRegression(multi_class='multinomial', fit_intercept=True, random_state=42),\n",
    "                Pipeline(steps=[('pca', pca), ('logistic', LogisticRegression(multi_class='multinomial', fit_intercept=True))]),\n",
    "                KNeighborsClassifier(),\n",
    "                Pipeline(steps=[('pca', pca), ('knn', KNeighborsClassifier())]),\n",
    "                RandomForestClassifier(random_state = 42, n_jobs=-1)\n",
    "                ]\n",
    "\n",
    "parameters_list = [\n",
    "                    {'C': [0.01, 0.05, 0.1, 0.5, 1, 2, 3, 4 , 5, 10], 'class_weight' : [None, 'balanced']},\n",
    "                    {'pca__n_components': [1, 2, 3, 4],\n",
    "                        'logistic__C': [0.01, 0.05, 0.1, 0.5, 1, 2, 3, 4 , 5, 10], 'logistic__class_weight' : [None, 'balanced']},\n",
    "                    {'n_neighbors': [4, 5, 6, 7, 8, 9, 10, 11, 12,  15, 20], 'weights' : ['uniform', 'distance'], 'p': [1, 2]},\n",
    "                    {'pca__n_components': [1, 2, 3, 4],\n",
    "                        'knn__n_neighbors': [4, 5, 6, 7, 8, 9, 10, 11, 12,  15, 20], 'knn__weights' : ['uniform', 'distance'],                              'knn__p': [1, 2]},\n",
    "                    {'n_estimators': [50, 100, 150, 200], 'max_depth':[3, 4, 5, 6, 10, 15, 20], 'class_weight':[None,'balanced']}\n",
    "                    ]\n",
    "\n",
    "groups = X.reset_index()['video_name']\n",
    "loo = LeaveOneGroupOut()\n",
    "cv_loo = loo.split(X, y, groups)"
   ]
  },
  {
   "cell_type": "code",
   "execution_count": 117,
   "metadata": {},
   "outputs": [
    {
     "output_type": "stream",
     "name": "stdout",
     "text": [
      "Fitting 5 folds for each of 20 candidates, totalling 100 fits\n",
      "[Parallel(n_jobs=-1)]: Using backend LokyBackend with 8 concurrent workers.\n",
      "[Parallel(n_jobs=-1)]: Done  56 tasks      | elapsed:    0.3s\n",
      "[Parallel(n_jobs=-1)]: Done 100 out of 100 | elapsed:    0.5s finished\n",
      "[Parallel(n_jobs=-1)]: Using backend LokyBackend with 8 concurrent workers.\n",
      "Best estimator LogisticRegression(C=1, class_weight='balanced', multi_class='multinomial',\n",
      "                   random_state=42)\n",
      "Best results 0.37666666666666665\n",
      "Best params {'C': 1, 'class_weight': 'balanced'}\n",
      "accuracy (mean, std) 0.4333333333333333 0.1699673171197595\n",
      "f1 (mean, std) 0.37666666666666665 0.1706342561817997\n",
      "balanced accuracy (mean, std) 0.45555555555555555 0.18392161508052052\n",
      "precision (mean, std) 0.4111111111111111 0.23465235646603197\n",
      "recall (mean, std) 0.4333333333333333 0.1699673171197595\n",
      "\n",
      "Fitting 5 folds for each of 80 candidates, totalling 400 fits\n",
      "[Parallel(n_jobs=-1)]: Done  56 tasks      | elapsed:    0.4s\n",
      "[Parallel(n_jobs=-1)]: Done 400 out of 400 | elapsed:    1.3s finished\n",
      "[Parallel(n_jobs=-1)]: Using backend LokyBackend with 8 concurrent workers.\n",
      "Best estimator Pipeline(steps=[('pca', PCA(n_components=1)),\n",
      "                ('logistic',\n",
      "                 LogisticRegression(C=2, class_weight='balanced',\n",
      "                                    multi_class='multinomial'))])\n",
      "Best results 0.3822222222222222\n",
      "Best params {'logistic__C': 2, 'logistic__class_weight': 'balanced', 'pca__n_components': 1}\n",
      "accuracy (mean, std) 0.4333333333333334 0.1699673171197595\n",
      "f1 (mean, std) 0.3822222222222222 0.1461185042489507\n",
      "balanced accuracy (mean, std) 0.4222222222222222 0.17777777777777776\n",
      "precision (mean, std) 0.4166666666666667 0.17568209223157663\n",
      "recall (mean, std) 0.4333333333333334 0.1699673171197595\n",
      "\n",
      "Fitting 5 folds for each of 44 candidates, totalling 220 fits\n",
      "[Parallel(n_jobs=-1)]: Done  56 tasks      | elapsed:    0.2s\n",
      "[Parallel(n_jobs=-1)]: Done 205 out of 220 | elapsed:    0.6s remaining:    0.0s\n",
      "[Parallel(n_jobs=-1)]: Done 220 out of 220 | elapsed:    0.6s finished\n",
      "[Parallel(n_jobs=-1)]: Using backend LokyBackend with 8 concurrent workers.\n",
      "Best estimator KNeighborsClassifier(n_neighbors=10, p=1)\n",
      "Best results 0.3025396825396825\n",
      "Best params {'n_neighbors': 10, 'p': 1, 'weights': 'uniform'}\n",
      "accuracy (mean, std) 0.36666666666666664 0.1632993161855452\n",
      "f1 (mean, std) 0.3025396825396825 0.14571255661733024\n",
      "balanced accuracy (mean, std) 0.3333333333333333 0.17568209223157663\n",
      "precision (mean, std) 0.27111111111111114 0.1420485050177501\n",
      "recall (mean, std) 0.36666666666666664 0.1632993161855452\n",
      "\n",
      "Fitting 5 folds for each of 176 candidates, totalling 880 fits\n",
      "[Parallel(n_jobs=-1)]: Done  56 tasks      | elapsed:    0.3s\n",
      "[Parallel(n_jobs=-1)]: Done 880 out of 880 | elapsed:    2.0s finished\n",
      "[Parallel(n_jobs=-1)]: Using backend LokyBackend with 8 concurrent workers.\n",
      "Best estimator Pipeline(steps=[('pca', PCA(n_components=1)),\n",
      "                ('knn', KNeighborsClassifier(n_neighbors=15, p=1))])\n",
      "Best results 0.3628571428571429\n",
      "Best params {'knn__n_neighbors': 15, 'knn__p': 1, 'knn__weights': 'uniform', 'pca__n_components': 1}\n",
      "accuracy (mean, std) 0.4333333333333334 0.22607766610417562\n",
      "f1 (mean, std) 0.3628571428571429 0.22388403577844138\n",
      "balanced accuracy (mean, std) 0.3888888888888889 0.17568209223157663\n",
      "precision (mean, std) 0.35333333333333333 0.22644869693967995\n",
      "recall (mean, std) 0.4333333333333334 0.22607766610417562\n",
      "\n",
      "Fitting 5 folds for each of 56 candidates, totalling 280 fits\n",
      "[Parallel(n_jobs=-1)]: Done  52 tasks      | elapsed:    3.5s\n",
      "[Parallel(n_jobs=-1)]: Done 224 tasks      | elapsed:   13.8s\n",
      "Best estimator RandomForestClassifier(max_depth=4, n_jobs=-1, random_state=42)\n",
      "Best results 0.3466666666666666\n",
      "Best params {'class_weight': None, 'max_depth': 4, 'n_estimators': 100}\n",
      "accuracy (mean, std) 0.39999999999999997 0.08164965809277261\n",
      "f1 (mean, std) 0.3466666666666666 0.09671135620883976\n",
      "balanced accuracy (mean, std) 0.3666666666666666 0.04444444444444444\n",
      "precision (mean, std) 0.32222222222222224 0.11466537466972386\n",
      "recall (mean, std) 0.39999999999999997 0.08164965809277261\n",
      "\n",
      "f1_score (weighted) 0.4076923076923077\n",
      "accuracy 0.43333333333333335\n",
      "[Parallel(n_jobs=-1)]: Done 280 out of 280 | elapsed:   17.4s finished\n"
     ]
    }
   ],
   "source": [
    "best_result, y_predict, y_predict_proba, result_list = runGridSearchClassifiers(X, y, 5, models_list, parameters_list, \n",
    "                                                                output_predict=True, n_jobs=-1, verbose=True)"
   ]
  },
  {
   "cell_type": "code",
   "execution_count": 118,
   "metadata": {},
   "outputs": [
    {
     "output_type": "execute_result",
     "data": {
      "text/plain": [
       "{'best_estimator': Pipeline(steps=[('pca', PCA(n_components=1)),\n",
       "                 ('logistic',\n",
       "                  LogisticRegression(C=2, class_weight='balanced',\n",
       "                                     multi_class='multinomial'))]),\n",
       " 'best_score': 0.3822222222222222,\n",
       " 'best_params': {'logistic__C': 2,\n",
       "  'logistic__class_weight': 'balanced',\n",
       "  'pca__n_components': 1},\n",
       " 'mean_test_f1_score': 0.3822222222222222,\n",
       " 'std_test_f1_score': 0.1461185042489507,\n",
       " 'mean_test_accuracy_score': 0.4333333333333334,\n",
       " 'std_test_accuracy_score': 0.1699673171197595,\n",
       " 'mean_test_balanced_accuracy_score': 0.4222222222222222,\n",
       " 'std_test_balanced_accuracy_score': 0.17777777777777776,\n",
       " 'mean_test_precision': 0.4166666666666667,\n",
       " 'std_test_precision': 0.17568209223157663,\n",
       " 'mean_test_recall': 0.4333333333333334,\n",
       " 'std_test_recall': 0.1699673171197595}"
      ]
     },
     "metadata": {},
     "execution_count": 118
    }
   ],
   "source": [
    "best_result"
   ]
  },
  {
   "cell_type": "markdown",
   "metadata": {},
   "source": [
    "#### Autre méthode"
   ]
  },
  {
   "cell_type": "code",
   "execution_count": 119,
   "metadata": {},
   "outputs": [
    {
     "output_type": "execute_result",
     "data": {
      "text/plain": [
       "                                 ypredict                             \\\n",
       "                                     mean  min  max median       std   \n",
       "video_name                                                             \n",
       "Test_pour_AFPA                   0.943662  0.0  1.0    1.0  0.232214   \n",
       "Video_1                          0.236111  0.0  1.0    0.0  0.427672   \n",
       "WIN_20210323_19_17_40_Pro        0.472222  0.0  1.0    0.0  0.502731   \n",
       "WIN_20210329_10_16_02_Pro        0.930556  0.0  1.0    1.0  0.255992   \n",
       "WIN_20210330_13_10_29_Pro        0.958904  0.0  1.0    1.0  0.199886   \n",
       "WIN_20210331_21_22_52_Pro        0.901408  0.0  1.0    1.0  0.300235   \n",
       "WIN_20210402_14_27_50_Pro        1.847222  1.0  2.0    2.0  0.362298   \n",
       "WIN_20210402_19_04_53_Pro        0.680556  0.0  1.0    1.0  0.469533   \n",
       "WIN_20210403_18_49_15_Pro        0.722222  0.0  1.0    1.0  0.451046   \n",
       "WIN_20210404_10_58_27_Pro        0.698630  0.0  1.0    1.0  0.462028   \n",
       "WIN_20210404_21_41_12_Pro        0.712329  0.0  1.0    1.0  0.455810   \n",
       "WIN_20210405_15_09_16_Pro        0.219178  0.0  1.0    0.0  0.416552   \n",
       "WIN_20210406_15_06_15_Pro        0.152778  0.0  1.0    0.0  0.362298   \n",
       "WIN_20210406_18_35_52_Pro        0.194444  0.0  1.0    0.0  0.398550   \n",
       "WIN_20210406_18_49_10_Pro        0.166667  0.0  1.0    0.0  0.375293   \n",
       "WIN_20210406_21_05_52_Pro        0.225352  0.0  1.0    0.0  0.420788   \n",
       "WIN_20210407_09_04_05_Pro        0.780822  0.0  1.0    1.0  0.416552   \n",
       "WIN_20210407_14_54_56_Pro_edit2  0.472222  0.0  1.0    0.0  0.502731   \n",
       "WIN_20210408_11_48_58_Pro        0.958333  0.0  1.0    1.0  0.201229   \n",
       "WIN_20210408_14_00_44_Pro        0.450704  0.0  1.0    0.0  0.501105   \n",
       "WIN_20210408_14_02_19_Pro        0.808219  0.0  2.0    1.0  0.827606   \n",
       "WIN_20210408_14_11_32_Pro        1.000000  1.0  1.0    1.0  0.000000   \n",
       "WIN_20210408_15_20_51_Pro        0.575342  0.0  2.0    1.0  0.575370   \n",
       "WIN_20210408_16_04_32_Pro        0.722222  0.0  1.0    1.0  0.451046   \n",
       "WIN_20210409_10_26_11_Pro        0.222222  0.0  1.0    0.0  0.418657   \n",
       "WIN_20210413_15_38_01_Pro        0.458333  0.0  1.0    0.0  0.501757   \n",
       "WIN_20210414_06_24_52_Pro        0.027778  0.0  1.0    0.0  0.165489   \n",
       "WIN_20210415_15_41_24_Pro        0.150685  0.0  1.0    0.0  0.360217   \n",
       "WIN_20210416_08_06_54_Pro        0.684932  0.0  1.0    1.0  0.467758   \n",
       "WIN_20210417_14_53_12_Pro        0.191781  0.0  1.0    0.0  0.396426   \n",
       "\n",
       "                                                                              \n",
       "                                percentil25 percentil75   kurtosis      skew  \n",
       "video_name                                                                    \n",
       "Test_pour_AFPA                          1.0         1.0  12.809701 -3.848337  \n",
       "Video_1                                 0.0         0.0  -0.455615  1.242733  \n",
       "WIN_20210323_19_17_40_Pro               0.0         1.0  -1.987616  0.111283  \n",
       "WIN_20210329_10_16_02_Pro               1.0         1.0   9.474627 -3.387422  \n",
       "WIN_20210330_13_10_29_Pro               1.0         1.0  19.376190 -4.623439  \n",
       "WIN_20210331_21_22_52_Pro               1.0         1.0   5.252232 -2.692997  \n",
       "WIN_20210402_14_27_50_Pro               2.0         2.0   1.725782 -1.930229  \n",
       "WIN_20210402_19_04_53_Pro               0.0         1.0  -1.400177 -0.774482  \n",
       "WIN_20210403_18_49_15_Pro               0.0         1.0  -1.015385 -0.992278  \n",
       "WIN_20210404_10_58_27_Pro               0.0         1.0  -1.250446 -0.865768  \n",
       "WIN_20210404_21_41_12_Pro               0.0         1.0  -1.119963 -0.938103  \n",
       "WIN_20210405_15_09_16_Pro               0.0         0.0  -0.156798  1.357646  \n",
       "WIN_20210406_15_06_15_Pro               0.0         0.0   1.725782  1.930229  \n",
       "WIN_20210406_18_35_52_Pro               0.0         0.0   0.384236  1.544097  \n",
       "WIN_20210406_18_49_10_Pro               0.0         0.0   1.200000  1.788854  \n",
       "WIN_20210406_21_05_52_Pro               0.0         0.0  -0.271591  1.314690  \n",
       "WIN_20210407_09_04_05_Pro               1.0         1.0  -0.156798 -1.357646  \n",
       "WIN_20210407_14_54_56_Pro_edit2         0.0         1.0  -1.987616  0.111283  \n",
       "WIN_20210408_11_48_58_Pro               1.0         1.0  19.043478 -4.587317  \n",
       "WIN_20210408_14_00_44_Pro               0.0         1.0  -1.960737  0.198148  \n",
       "WIN_20210408_14_02_19_Pro               0.0         2.0  -1.425942  0.367306  \n",
       "WIN_20210408_14_11_32_Pro               1.0         1.0  -3.000000  0.000000  \n",
       "WIN_20210408_15_20_51_Pro               0.0         1.0  -0.782945  0.363896  \n",
       "WIN_20210408_16_04_32_Pro               0.0         1.0  -1.015385 -0.992278  \n",
       "WIN_20210409_10_26_11_Pro               0.0         0.0  -0.214286  1.336306  \n",
       "WIN_20210413_15_38_01_Pro               0.0         1.0  -1.972028  0.167248  \n",
       "WIN_20210414_06_24_52_Pro               0.0         0.0  31.028571  5.747049  \n",
       "WIN_20210415_15_41_24_Pro               0.0         0.0   1.813783  1.952891  \n",
       "WIN_20210416_08_06_54_Pro               0.0         1.0  -1.366087 -0.796187  \n",
       "WIN_20210417_14_53_12_Pro               0.0         0.0   0.451574  1.565750  "
      ],
      "text/html": "<div>\n<style scoped>\n    .dataframe tbody tr th:only-of-type {\n        vertical-align: middle;\n    }\n\n    .dataframe tbody tr th {\n        vertical-align: top;\n    }\n\n    .dataframe thead tr th {\n        text-align: left;\n    }\n\n    .dataframe thead tr:last-of-type th {\n        text-align: right;\n    }\n</style>\n<table border=\"1\" class=\"dataframe\">\n  <thead>\n    <tr>\n      <th></th>\n      <th colspan=\"9\" halign=\"left\">ypredict</th>\n    </tr>\n    <tr>\n      <th></th>\n      <th>mean</th>\n      <th>min</th>\n      <th>max</th>\n      <th>median</th>\n      <th>std</th>\n      <th>percentil25</th>\n      <th>percentil75</th>\n      <th>kurtosis</th>\n      <th>skew</th>\n    </tr>\n    <tr>\n      <th>video_name</th>\n      <th></th>\n      <th></th>\n      <th></th>\n      <th></th>\n      <th></th>\n      <th></th>\n      <th></th>\n      <th></th>\n      <th></th>\n    </tr>\n  </thead>\n  <tbody>\n    <tr>\n      <th>Test_pour_AFPA</th>\n      <td>0.943662</td>\n      <td>0.0</td>\n      <td>1.0</td>\n      <td>1.0</td>\n      <td>0.232214</td>\n      <td>1.0</td>\n      <td>1.0</td>\n      <td>12.809701</td>\n      <td>-3.848337</td>\n    </tr>\n    <tr>\n      <th>Video_1</th>\n      <td>0.236111</td>\n      <td>0.0</td>\n      <td>1.0</td>\n      <td>0.0</td>\n      <td>0.427672</td>\n      <td>0.0</td>\n      <td>0.0</td>\n      <td>-0.455615</td>\n      <td>1.242733</td>\n    </tr>\n    <tr>\n      <th>WIN_20210323_19_17_40_Pro</th>\n      <td>0.472222</td>\n      <td>0.0</td>\n      <td>1.0</td>\n      <td>0.0</td>\n      <td>0.502731</td>\n      <td>0.0</td>\n      <td>1.0</td>\n      <td>-1.987616</td>\n      <td>0.111283</td>\n    </tr>\n    <tr>\n      <th>WIN_20210329_10_16_02_Pro</th>\n      <td>0.930556</td>\n      <td>0.0</td>\n      <td>1.0</td>\n      <td>1.0</td>\n      <td>0.255992</td>\n      <td>1.0</td>\n      <td>1.0</td>\n      <td>9.474627</td>\n      <td>-3.387422</td>\n    </tr>\n    <tr>\n      <th>WIN_20210330_13_10_29_Pro</th>\n      <td>0.958904</td>\n      <td>0.0</td>\n      <td>1.0</td>\n      <td>1.0</td>\n      <td>0.199886</td>\n      <td>1.0</td>\n      <td>1.0</td>\n      <td>19.376190</td>\n      <td>-4.623439</td>\n    </tr>\n    <tr>\n      <th>WIN_20210331_21_22_52_Pro</th>\n      <td>0.901408</td>\n      <td>0.0</td>\n      <td>1.0</td>\n      <td>1.0</td>\n      <td>0.300235</td>\n      <td>1.0</td>\n      <td>1.0</td>\n      <td>5.252232</td>\n      <td>-2.692997</td>\n    </tr>\n    <tr>\n      <th>WIN_20210402_14_27_50_Pro</th>\n      <td>1.847222</td>\n      <td>1.0</td>\n      <td>2.0</td>\n      <td>2.0</td>\n      <td>0.362298</td>\n      <td>2.0</td>\n      <td>2.0</td>\n      <td>1.725782</td>\n      <td>-1.930229</td>\n    </tr>\n    <tr>\n      <th>WIN_20210402_19_04_53_Pro</th>\n      <td>0.680556</td>\n      <td>0.0</td>\n      <td>1.0</td>\n      <td>1.0</td>\n      <td>0.469533</td>\n      <td>0.0</td>\n      <td>1.0</td>\n      <td>-1.400177</td>\n      <td>-0.774482</td>\n    </tr>\n    <tr>\n      <th>WIN_20210403_18_49_15_Pro</th>\n      <td>0.722222</td>\n      <td>0.0</td>\n      <td>1.0</td>\n      <td>1.0</td>\n      <td>0.451046</td>\n      <td>0.0</td>\n      <td>1.0</td>\n      <td>-1.015385</td>\n      <td>-0.992278</td>\n    </tr>\n    <tr>\n      <th>WIN_20210404_10_58_27_Pro</th>\n      <td>0.698630</td>\n      <td>0.0</td>\n      <td>1.0</td>\n      <td>1.0</td>\n      <td>0.462028</td>\n      <td>0.0</td>\n      <td>1.0</td>\n      <td>-1.250446</td>\n      <td>-0.865768</td>\n    </tr>\n    <tr>\n      <th>WIN_20210404_21_41_12_Pro</th>\n      <td>0.712329</td>\n      <td>0.0</td>\n      <td>1.0</td>\n      <td>1.0</td>\n      <td>0.455810</td>\n      <td>0.0</td>\n      <td>1.0</td>\n      <td>-1.119963</td>\n      <td>-0.938103</td>\n    </tr>\n    <tr>\n      <th>WIN_20210405_15_09_16_Pro</th>\n      <td>0.219178</td>\n      <td>0.0</td>\n      <td>1.0</td>\n      <td>0.0</td>\n      <td>0.416552</td>\n      <td>0.0</td>\n      <td>0.0</td>\n      <td>-0.156798</td>\n      <td>1.357646</td>\n    </tr>\n    <tr>\n      <th>WIN_20210406_15_06_15_Pro</th>\n      <td>0.152778</td>\n      <td>0.0</td>\n      <td>1.0</td>\n      <td>0.0</td>\n      <td>0.362298</td>\n      <td>0.0</td>\n      <td>0.0</td>\n      <td>1.725782</td>\n      <td>1.930229</td>\n    </tr>\n    <tr>\n      <th>WIN_20210406_18_35_52_Pro</th>\n      <td>0.194444</td>\n      <td>0.0</td>\n      <td>1.0</td>\n      <td>0.0</td>\n      <td>0.398550</td>\n      <td>0.0</td>\n      <td>0.0</td>\n      <td>0.384236</td>\n      <td>1.544097</td>\n    </tr>\n    <tr>\n      <th>WIN_20210406_18_49_10_Pro</th>\n      <td>0.166667</td>\n      <td>0.0</td>\n      <td>1.0</td>\n      <td>0.0</td>\n      <td>0.375293</td>\n      <td>0.0</td>\n      <td>0.0</td>\n      <td>1.200000</td>\n      <td>1.788854</td>\n    </tr>\n    <tr>\n      <th>WIN_20210406_21_05_52_Pro</th>\n      <td>0.225352</td>\n      <td>0.0</td>\n      <td>1.0</td>\n      <td>0.0</td>\n      <td>0.420788</td>\n      <td>0.0</td>\n      <td>0.0</td>\n      <td>-0.271591</td>\n      <td>1.314690</td>\n    </tr>\n    <tr>\n      <th>WIN_20210407_09_04_05_Pro</th>\n      <td>0.780822</td>\n      <td>0.0</td>\n      <td>1.0</td>\n      <td>1.0</td>\n      <td>0.416552</td>\n      <td>1.0</td>\n      <td>1.0</td>\n      <td>-0.156798</td>\n      <td>-1.357646</td>\n    </tr>\n    <tr>\n      <th>WIN_20210407_14_54_56_Pro_edit2</th>\n      <td>0.472222</td>\n      <td>0.0</td>\n      <td>1.0</td>\n      <td>0.0</td>\n      <td>0.502731</td>\n      <td>0.0</td>\n      <td>1.0</td>\n      <td>-1.987616</td>\n      <td>0.111283</td>\n    </tr>\n    <tr>\n      <th>WIN_20210408_11_48_58_Pro</th>\n      <td>0.958333</td>\n      <td>0.0</td>\n      <td>1.0</td>\n      <td>1.0</td>\n      <td>0.201229</td>\n      <td>1.0</td>\n      <td>1.0</td>\n      <td>19.043478</td>\n      <td>-4.587317</td>\n    </tr>\n    <tr>\n      <th>WIN_20210408_14_00_44_Pro</th>\n      <td>0.450704</td>\n      <td>0.0</td>\n      <td>1.0</td>\n      <td>0.0</td>\n      <td>0.501105</td>\n      <td>0.0</td>\n      <td>1.0</td>\n      <td>-1.960737</td>\n      <td>0.198148</td>\n    </tr>\n    <tr>\n      <th>WIN_20210408_14_02_19_Pro</th>\n      <td>0.808219</td>\n      <td>0.0</td>\n      <td>2.0</td>\n      <td>1.0</td>\n      <td>0.827606</td>\n      <td>0.0</td>\n      <td>2.0</td>\n      <td>-1.425942</td>\n      <td>0.367306</td>\n    </tr>\n    <tr>\n      <th>WIN_20210408_14_11_32_Pro</th>\n      <td>1.000000</td>\n      <td>1.0</td>\n      <td>1.0</td>\n      <td>1.0</td>\n      <td>0.000000</td>\n      <td>1.0</td>\n      <td>1.0</td>\n      <td>-3.000000</td>\n      <td>0.000000</td>\n    </tr>\n    <tr>\n      <th>WIN_20210408_15_20_51_Pro</th>\n      <td>0.575342</td>\n      <td>0.0</td>\n      <td>2.0</td>\n      <td>1.0</td>\n      <td>0.575370</td>\n      <td>0.0</td>\n      <td>1.0</td>\n      <td>-0.782945</td>\n      <td>0.363896</td>\n    </tr>\n    <tr>\n      <th>WIN_20210408_16_04_32_Pro</th>\n      <td>0.722222</td>\n      <td>0.0</td>\n      <td>1.0</td>\n      <td>1.0</td>\n      <td>0.451046</td>\n      <td>0.0</td>\n      <td>1.0</td>\n      <td>-1.015385</td>\n      <td>-0.992278</td>\n    </tr>\n    <tr>\n      <th>WIN_20210409_10_26_11_Pro</th>\n      <td>0.222222</td>\n      <td>0.0</td>\n      <td>1.0</td>\n      <td>0.0</td>\n      <td>0.418657</td>\n      <td>0.0</td>\n      <td>0.0</td>\n      <td>-0.214286</td>\n      <td>1.336306</td>\n    </tr>\n    <tr>\n      <th>WIN_20210413_15_38_01_Pro</th>\n      <td>0.458333</td>\n      <td>0.0</td>\n      <td>1.0</td>\n      <td>0.0</td>\n      <td>0.501757</td>\n      <td>0.0</td>\n      <td>1.0</td>\n      <td>-1.972028</td>\n      <td>0.167248</td>\n    </tr>\n    <tr>\n      <th>WIN_20210414_06_24_52_Pro</th>\n      <td>0.027778</td>\n      <td>0.0</td>\n      <td>1.0</td>\n      <td>0.0</td>\n      <td>0.165489</td>\n      <td>0.0</td>\n      <td>0.0</td>\n      <td>31.028571</td>\n      <td>5.747049</td>\n    </tr>\n    <tr>\n      <th>WIN_20210415_15_41_24_Pro</th>\n      <td>0.150685</td>\n      <td>0.0</td>\n      <td>1.0</td>\n      <td>0.0</td>\n      <td>0.360217</td>\n      <td>0.0</td>\n      <td>0.0</td>\n      <td>1.813783</td>\n      <td>1.952891</td>\n    </tr>\n    <tr>\n      <th>WIN_20210416_08_06_54_Pro</th>\n      <td>0.684932</td>\n      <td>0.0</td>\n      <td>1.0</td>\n      <td>1.0</td>\n      <td>0.467758</td>\n      <td>0.0</td>\n      <td>1.0</td>\n      <td>-1.366087</td>\n      <td>-0.796187</td>\n    </tr>\n    <tr>\n      <th>WIN_20210417_14_53_12_Pro</th>\n      <td>0.191781</td>\n      <td>0.0</td>\n      <td>1.0</td>\n      <td>0.0</td>\n      <td>0.396426</td>\n      <td>0.0</td>\n      <td>0.0</td>\n      <td>0.451574</td>\n      <td>1.565750</td>\n    </tr>\n  </tbody>\n</table>\n</div>"
     },
     "metadata": {},
     "execution_count": 119
    }
   ],
   "source": [
    "df_ypredict = pd.read_csv('ypredict_' + features + '_tw5' + diapo_selection + '.csv')\n",
    "df_ypredict = df_ypredict.iloc[:,1:]\n",
    "df_ypredict.columns = ['video_name','diapo','frameTimeWindow','ypredict']\n",
    "df_ypredict = df_ypredict.groupby(['video_name']).agg({'ypredict': ['mean','min','max', 'median', 'std', percentil25, percentil75, kurtosis, skew]})\n",
    "df_ypredict\n"
   ]
  },
  {
   "cell_type": "code",
   "execution_count": 120,
   "metadata": {},
   "outputs": [],
   "source": [
    "Xy = df_ypredict.merge(df_annotations_stress, on='video_name')\n",
    "X = Xy.iloc[:,:-1].set_index('video_name')\n",
    "y = Xy.iloc[:,-1]"
   ]
  },
  {
   "cell_type": "code",
   "execution_count": 121,
   "metadata": {},
   "outputs": [],
   "source": [
    "from sklearn.linear_model import LogisticRegression\n",
    "from sklearn.neighbors import KNeighborsClassifier\n",
    "from sklearn.ensemble import RandomForestClassifier\n",
    "from sklearn.model_selection import LeaveOneGroupOut\n",
    "from sklearn.decomposition import PCA\n",
    "from sklearn.pipeline import Pipeline\n",
    "\n",
    "pca = PCA()\n",
    "\n",
    "models_list = [\n",
    "                LogisticRegression(multi_class='multinomial', fit_intercept=True, random_state=42),\n",
    "                Pipeline(steps=[('pca', pca), ('logistic', LogisticRegression(multi_class='multinomial', fit_intercept=True))]),\n",
    "                KNeighborsClassifier(),\n",
    "                Pipeline(steps=[('pca', pca), ('knn', KNeighborsClassifier())]),\n",
    "                RandomForestClassifier(random_state = 42, n_jobs=-1)\n",
    "                ]\n",
    "\n",
    "parameters_list = [\n",
    "                    {'C': [0.01, 0.05, 0.1, 0.5, 1, 2, 3, 4 , 5, 10], 'class_weight' : [None, 'balanced']},\n",
    "                    {'pca__n_components': [1, 2, 3, 4],\n",
    "                        'logistic__C': [0.01, 0.05, 0.1, 0.5, 1, 2, 3, 4 , 5, 10], 'logistic__class_weight' : [None, 'balanced']},\n",
    "                    {'n_neighbors': [4, 5, 6, 7, 8, 9, 10, 11, 12,  15, 20], 'weights' : ['uniform', 'distance'], 'p': [1, 2]},\n",
    "                    {'pca__n_components': [1, 2, 3, 4],\n",
    "                        'knn__n_neighbors': [4, 5, 6, 7, 8, 9, 10, 11, 12,  15, 20], 'knn__weights' : ['uniform', 'distance'],                              'knn__p': [1, 2]},\n",
    "                    {'n_estimators': [50, 100, 150, 200], 'max_depth':[3, 4, 5, 6, 10, 15, 20], 'class_weight':[None,'balanced']}\n",
    "                    ]\n",
    "\n",
    "groups = X.reset_index()['video_name']\n",
    "loo = LeaveOneGroupOut()\n",
    "cv_loo = loo.split(X, y, groups)"
   ]
  },
  {
   "cell_type": "code",
   "execution_count": 122,
   "metadata": {},
   "outputs": [
    {
     "output_type": "stream",
     "name": "stdout",
     "text": [
      "Fitting 5 folds for each of 20 candidates, totalling 100 fits\n",
      "[Parallel(n_jobs=-1)]: Using backend LokyBackend with 8 concurrent workers.\n",
      "[Parallel(n_jobs=-1)]: Done  56 tasks      | elapsed:    0.5s\n",
      "[Parallel(n_jobs=-1)]: Done 100 out of 100 | elapsed:    0.8s finished\n",
      "[Parallel(n_jobs=-1)]: Using backend LokyBackend with 8 concurrent workers.\n",
      "Best estimator LogisticRegression(C=0.05, multi_class='multinomial', random_state=42)\n",
      "Best results 0.39619047619047615\n",
      "Best params {'C': 0.05, 'class_weight': None}\n",
      "accuracy (mean, std) 0.4666666666666666 0.22110831935702666\n",
      "f1 (mean, std) 0.39619047619047615 0.21011604611373003\n",
      "balanced accuracy (mean, std) 0.42222222222222217 0.187905939169864\n",
      "precision (mean, std) 0.39777777777777773 0.21051377480515626\n",
      "recall (mean, std) 0.4666666666666666 0.22110831935702666\n",
      "\n",
      "Fitting 5 folds for each of 80 candidates, totalling 400 fits\n",
      "[Parallel(n_jobs=-1)]: Done  56 tasks      | elapsed:    0.5s\n",
      "[Parallel(n_jobs=-1)]: Done 385 out of 400 | elapsed:    1.9s remaining:    0.1s\n",
      "[Parallel(n_jobs=-1)]: Done 400 out of 400 | elapsed:    1.9s finished\n",
      "[Parallel(n_jobs=-1)]: Using backend LokyBackend with 8 concurrent workers.\n",
      "Best estimator Pipeline(steps=[('pca', PCA(n_components=2)),\n",
      "                ('logistic',\n",
      "                 LogisticRegression(C=0.05, multi_class='multinomial'))])\n",
      "Best results 0.39619047619047615\n",
      "Best params {'logistic__C': 0.05, 'logistic__class_weight': None, 'pca__n_components': 2}\n",
      "accuracy (mean, std) 0.4666666666666666 0.22110831935702666\n",
      "f1 (mean, std) 0.39619047619047615 0.21011604611373003\n",
      "balanced accuracy (mean, std) 0.42222222222222217 0.187905939169864\n",
      "precision (mean, std) 0.39777777777777773 0.21051377480515626\n",
      "recall (mean, std) 0.4666666666666666 0.22110831935702666\n",
      "\n",
      "Fitting 5 folds for each of 44 candidates, totalling 220 fits\n",
      "[Parallel(n_jobs=-1)]: Done  56 tasks      | elapsed:    0.2s\n",
      "[Parallel(n_jobs=-1)]: Done 220 out of 220 | elapsed:    0.6s finished\n",
      "[Parallel(n_jobs=-1)]: Using backend LokyBackend with 8 concurrent workers.\n",
      "Best estimator KNeighborsClassifier(n_neighbors=20, p=1)\n",
      "Best results 0.37658730158730164\n",
      "Best params {'n_neighbors': 20, 'p': 1, 'weights': 'uniform'}\n",
      "accuracy (mean, std) 0.5 0.21081851067789198\n",
      "f1 (mean, std) 0.37658730158730164 0.25295059005230747\n",
      "balanced accuracy (mean, std) 0.4333333333333333 0.13333333333333333\n",
      "precision (mean, std) 0.3394444444444445 0.2717365281678942\n",
      "recall (mean, std) 0.5 0.21081851067789198\n",
      "\n",
      "Fitting 5 folds for each of 176 candidates, totalling 880 fits\n",
      "[Parallel(n_jobs=-1)]: Done  56 tasks      | elapsed:    0.3s\n",
      "[Parallel(n_jobs=-1)]: Done 880 out of 880 | elapsed:    2.4s finished\n",
      "[Parallel(n_jobs=-1)]: Using backend LokyBackend with 8 concurrent workers.\n",
      "Best estimator Pipeline(steps=[('pca', PCA(n_components=4)),\n",
      "                ('knn', KNeighborsClassifier(n_neighbors=12, p=1))])\n",
      "Best results 0.35238095238095235\n",
      "Best params {'knn__n_neighbors': 12, 'knn__p': 1, 'knn__weights': 'uniform', 'pca__n_components': 4}\n",
      "accuracy (mean, std) 0.4666666666666667 0.19436506316151003\n",
      "f1 (mean, std) 0.35238095238095235 0.23005471103202213\n",
      "balanced accuracy (mean, std) 0.4111111111111111 0.12957670877434\n",
      "precision (mean, std) 0.3005555555555556 0.23305803865714664\n",
      "recall (mean, std) 0.4666666666666667 0.19436506316151003\n",
      "\n",
      "Fitting 5 folds for each of 56 candidates, totalling 280 fits\n",
      "[Parallel(n_jobs=-1)]: Done  34 tasks      | elapsed:    2.1s\n",
      "[Parallel(n_jobs=-1)]: Done 184 tasks      | elapsed:   11.1s\n",
      "[Parallel(n_jobs=-1)]: Done 280 out of 280 | elapsed:   16.9s finished\n",
      "Best estimator RandomForestClassifier(max_depth=3, n_jobs=-1, random_state=42)\n",
      "Best results 0.3555555555555555\n",
      "Best params {'class_weight': None, 'max_depth': 3, 'n_estimators': 100}\n",
      "accuracy (mean, std) 0.4 0.13333333333333333\n",
      "f1 (mean, std) 0.3555555555555555 0.13314801936840218\n",
      "balanced accuracy (mean, std) 0.36666666666666664 0.11439589045541111\n",
      "precision (mean, std) 0.35555555555555557 0.15255033575273313\n",
      "recall (mean, std) 0.4 0.13333333333333333\n",
      "\n",
      "f1_score (weighted) 0.4161319073083779\n",
      "accuracy 0.4666666666666667\n"
     ]
    }
   ],
   "source": [
    "best_result, y_predict, y_predict_proba, result_list = runGridSearchClassifiers(X, y, 5, models_list, parameters_list, \n",
    "                                                                output_predict=True, n_jobs=-1, verbose=True)"
   ]
  },
  {
   "cell_type": "code",
   "execution_count": 123,
   "metadata": {},
   "outputs": [
    {
     "output_type": "execute_result",
     "data": {
      "text/plain": [
       "{'best_estimator': LogisticRegression(C=0.05, multi_class='multinomial', random_state=42),\n",
       " 'best_score': 0.39619047619047615,\n",
       " 'best_params': {'C': 0.05, 'class_weight': None},\n",
       " 'mean_test_f1_score': 0.39619047619047615,\n",
       " 'std_test_f1_score': 0.21011604611373003,\n",
       " 'mean_test_accuracy_score': 0.4666666666666666,\n",
       " 'std_test_accuracy_score': 0.22110831935702666,\n",
       " 'mean_test_balanced_accuracy_score': 0.42222222222222217,\n",
       " 'std_test_balanced_accuracy_score': 0.187905939169864,\n",
       " 'mean_test_precision': 0.39777777777777773,\n",
       " 'std_test_precision': 0.21051377480515626,\n",
       " 'mean_test_recall': 0.4666666666666666,\n",
       " 'std_test_recall': 0.22110831935702666}"
      ]
     },
     "metadata": {},
     "execution_count": 123
    }
   ],
   "source": [
    "best_result"
   ]
  },
  {
   "cell_type": "code",
   "execution_count": null,
   "metadata": {},
   "outputs": [],
   "source": []
  }
 ],
 "metadata": {
  "interpreter": {
   "hash": "148f6ed9de8dadedbbd96ef8a7e818f87aaafab3c59f5306aa9910b4f09c5b3f"
  },
  "kernelspec": {
   "name": "python3",
   "display_name": "Python 3.8.5 64-bit ('base': conda)"
  },
  "language_info": {
   "codemirror_mode": {
    "name": "ipython",
    "version": 3
   },
   "file_extension": ".py",
   "mimetype": "text/x-python",
   "name": "python",
   "nbconvert_exporter": "python",
   "pygments_lexer": "ipython3",
   "version": "3.8.5"
  },
  "metadata": {
   "interpreter": {
    "hash": "148f6ed9de8dadedbbd96ef8a7e818f87aaafab3c59f5306aa9910b4f09c5b3f"
   }
  }
 },
 "nbformat": 4,
 "nbformat_minor": 2
}