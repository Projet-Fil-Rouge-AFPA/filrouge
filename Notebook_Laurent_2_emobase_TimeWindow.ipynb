{
 "metadata": {
  "language_info": {
   "codemirror_mode": {
    "name": "ipython",
    "version": 3
   },
   "file_extension": ".py",
   "mimetype": "text/x-python",
   "name": "python",
   "nbconvert_exporter": "python",
   "pygments_lexer": "ipython3",
   "version": "3.8.5"
  },
  "orig_nbformat": 2,
  "kernelspec": {
   "name": "python385jvsc74a57bd0148f6ed9de8dadedbbd96ef8a7e818f87aaafab3c59f5306aa9910b4f09c5b3f",
   "display_name": "Python 3.8.5 64-bit ('base': conda)"
  },
  "metadata": {
   "interpreter": {
    "hash": "148f6ed9de8dadedbbd96ef8a7e818f87aaafab3c59f5306aa9910b4f09c5b3f"
   }
  }
 },
 "nbformat": 4,
 "nbformat_minor": 2,
 "cells": [
  {
   "cell_type": "code",
   "execution_count": 1,
   "metadata": {},
   "outputs": [],
   "source": [
    "import numpy as np \n",
    "import pandas as pd \n",
    "import matplotlib.pyplot as plt \n",
    "import pathlib"
   ]
  },
  {
   "source": [
    "## Loading data"
   ],
   "cell_type": "markdown",
   "metadata": {}
  },
  {
   "cell_type": "code",
   "execution_count": 2,
   "metadata": {},
   "outputs": [],
   "source": [
    "directory_path = '../../04_-_Dev/videos'\n",
    "features = 'emobase'"
   ]
  },
  {
   "cell_type": "code",
   "execution_count": 3,
   "metadata": {},
   "outputs": [],
   "source": [
    "df_total = pd.read_pickle(directory_path + '/audio_' + features + '_data.p')"
   ]
  },
  {
   "cell_type": "code",
   "execution_count": 4,
   "metadata": {},
   "outputs": [
    {
     "output_type": "execute_result",
     "data": {
      "text/plain": [
       "(2492621, 60)"
      ]
     },
     "metadata": {},
     "execution_count": 4
    }
   ],
   "source": [
    "df_total.shape"
   ]
  },
  {
   "source": [
    "## Data processing"
   ],
   "cell_type": "markdown",
   "metadata": {}
  },
  {
   "cell_type": "code",
   "execution_count": 7,
   "metadata": {},
   "outputs": [],
   "source": [
    "time_window = 5\n",
    "df_total['frameTimeWindow'] = df_total.frameTime.apply(lambda x : np.floor(x / time_window) * time_window).astype(int)"
   ]
  },
  {
   "cell_type": "code",
   "execution_count": 8,
   "metadata": {},
   "outputs": [
    {
     "output_type": "execute_result",
     "data": {
      "text/plain": [
       "0       14500\n",
       "5       14500\n",
       "10      14500\n",
       "15      14500\n",
       "20      14500\n",
       "        ...  \n",
       "1100      500\n",
       "1105      500\n",
       "1110      500\n",
       "1115      500\n",
       "1120      361\n",
       "Name: frameTimeWindow, Length: 225, dtype: int64"
      ]
     },
     "metadata": {},
     "execution_count": 8
    }
   ],
   "source": [
    "df_total.frameTimeWindow.value_counts().sort_index()"
   ]
  },
  {
   "cell_type": "code",
   "execution_count": 5,
   "metadata": {},
   "outputs": [],
   "source": [
    "from scipy.stats import kurtosis, skew\n",
    "\n",
    "def percentil25(x): \n",
    "    return np.percentile(x, q=25)\n",
    "\n",
    "def percentil75(x): \n",
    "    return np.percentile(x, q=75)"
   ]
  },
  {
   "cell_type": "code",
   "execution_count": 9,
   "metadata": {},
   "outputs": [],
   "source": [
    "# 5 seconds windows\n",
    "X = df_total.iloc[:,2:].groupby(['video_name','diapo','frameTimeWindow']).agg({'mean','min','max', 'median', 'std', percentil25, percentil75, kurtosis, skew}).iloc[:,:-18]"
   ]
  },
  {
   "cell_type": "code",
   "execution_count": 10,
   "metadata": {},
   "outputs": [
    {
     "output_type": "execute_result",
     "data": {
      "text/plain": [
       "MultiIndex([('pcm_intensity_sma',         'std'),\n",
       "            ('pcm_intensity_sma',        'mean'),\n",
       "            ('pcm_intensity_sma', 'percentil25'),\n",
       "            ('pcm_intensity_sma',        'skew'),\n",
       "            ('pcm_intensity_sma',         'min'),\n",
       "            ('pcm_intensity_sma', 'percentil75'),\n",
       "            ('pcm_intensity_sma',    'kurtosis'),\n",
       "            ('pcm_intensity_sma',      'median'),\n",
       "            ('pcm_intensity_sma',         'max'),\n",
       "            ( 'pcm_loudness_sma',         'std'),\n",
       "            ...\n",
       "            (        'F0_sma_de',         'max'),\n",
       "            (     'F0env_sma_de',         'std'),\n",
       "            (     'F0env_sma_de',        'mean'),\n",
       "            (     'F0env_sma_de', 'percentil25'),\n",
       "            (     'F0env_sma_de',        'skew'),\n",
       "            (     'F0env_sma_de',         'min'),\n",
       "            (     'F0env_sma_de', 'percentil75'),\n",
       "            (     'F0env_sma_de',    'kurtosis'),\n",
       "            (     'F0env_sma_de',      'median'),\n",
       "            (     'F0env_sma_de',         'max')],\n",
       "           length=468)"
      ]
     },
     "metadata": {},
     "execution_count": 10
    }
   ],
   "source": [
    "X.columns"
   ]
  },
  {
   "cell_type": "code",
   "execution_count": 11,
   "metadata": {},
   "outputs": [
    {
     "output_type": "execute_result",
     "data": {
      "text/plain": [
       "                                                pcm_intensity_sma  \\\n",
       "                                                              std   \n",
       "video_name                diapo frameTimeWindow                     \n",
       "Test_pour_AFPA            1     0                    5.158104e-11   \n",
       "                                5                    6.252104e-11   \n",
       "                                10                   5.513744e-11   \n",
       "                                15                   6.265870e-11   \n",
       "                                20                   5.422649e-11   \n",
       "...                                                           ...   \n",
       "WIN_20210417_14_53_12_Pro 18    600                  4.009258e-11   \n",
       "                                605                  1.810855e-11   \n",
       "                                610                  8.823801e-12   \n",
       "                                615                  1.261866e-11   \n",
       "                                620                  2.040373e-11   \n",
       "\n",
       "                                                                             \\\n",
       "                                                         mean   percentil25   \n",
       "video_name                diapo frameTimeWindow                               \n",
       "Test_pour_AFPA            1     0                6.831969e-11  3.385610e-11   \n",
       "                                5                7.729215e-11  3.375239e-11   \n",
       "                                10               7.262539e-11  2.914076e-11   \n",
       "                                15               8.263100e-11  3.708061e-11   \n",
       "                                20               7.523362e-11  3.360517e-11   \n",
       "...                                                       ...           ...   \n",
       "WIN_20210417_14_53_12_Pro 18    600              1.408690e-11  0.000000e+00   \n",
       "                                605              7.418843e-12  4.173127e-14   \n",
       "                                610              4.190518e-12  0.000000e+00   \n",
       "                                615              9.820167e-12  2.170155e-12   \n",
       "                                620              2.259576e-11  6.103491e-12   \n",
       "\n",
       "                                                                         \\\n",
       "                                                     skew           min   \n",
       "video_name                diapo frameTimeWindow                           \n",
       "Test_pour_AFPA            1     0                2.724692  4.089930e-12   \n",
       "                                5                1.669479  4.340127e-12   \n",
       "                                10               1.231535  1.711006e-12   \n",
       "                                15               1.635156  1.168483e-12   \n",
       "                                20               1.170682  3.922888e-12   \n",
       "...                                                   ...           ...   \n",
       "WIN_20210417_14_53_12_Pro 18    600              6.714008  0.000000e+00   \n",
       "                                605              4.475901  0.000000e+00   \n",
       "                                610              4.223178  0.000000e+00   \n",
       "                                615              2.798153  0.000000e+00   \n",
       "                                620              1.269456  5.842690e-13   \n",
       "\n",
       "                                                                          \\\n",
       "                                                  percentil75   kurtosis   \n",
       "video_name                diapo frameTimeWindow                            \n",
       "Test_pour_AFPA            1     0                8.774428e-11  13.638802   \n",
       "                                5                1.021841e-10   3.261232   \n",
       "                                10               1.003699e-10   1.487425   \n",
       "                                15               1.096644e-10   3.776347   \n",
       "                                20               1.056265e-10   1.322073   \n",
       "...                                                       ...        ...   \n",
       "WIN_20210417_14_53_12_Pro 18    600              1.176876e-11  58.442977   \n",
       "                                605              6.166123e-12  23.430566   \n",
       "                                610              4.465477e-12  21.232590   \n",
       "                                615              1.247821e-11   9.882993   \n",
       "                                620              3.609919e-11   1.441623   \n",
       "\n",
       "                                                                             \\\n",
       "                                                       median           max   \n",
       "video_name                diapo frameTimeWindow                               \n",
       "Test_pour_AFPA            1     0                5.652821e-11  4.401225e-10   \n",
       "                                5                6.024235e-11  3.715988e-10   \n",
       "                                10               6.097148e-11  2.891272e-10   \n",
       "                                15               6.800391e-11  3.714314e-10   \n",
       "                                20               6.197396e-11  3.111625e-10   \n",
       "...                                                       ...           ...   \n",
       "WIN_20210417_14_53_12_Pro 18    600              6.051347e-13  4.133286e-10   \n",
       "                                605              1.043340e-12  1.428942e-10   \n",
       "                                610              8.346684e-13  6.840137e-11   \n",
       "                                615              5.592215e-12  8.663809e-11   \n",
       "                                620              1.671420e-11  9.552716e-11   \n",
       "\n",
       "                                                pcm_loudness_sma  ...  \\\n",
       "                                                             std  ...   \n",
       "video_name                diapo frameTimeWindow                   ...   \n",
       "Test_pour_AFPA            1     0                       0.010282  ...   \n",
       "                                5                       0.011772  ...   \n",
       "                                10                      0.012205  ...   \n",
       "                                15                      0.011922  ...   \n",
       "                                20                      0.011980  ...   \n",
       "...                                                          ...  ...   \n",
       "WIN_20210417_14_53_12_Pro 18    600                     0.016821  ...   \n",
       "                                605                     0.014176  ...   \n",
       "                                610                     0.011686  ...   \n",
       "                                615                     0.009385  ...   \n",
       "                                620                     0.010945  ...   \n",
       "\n",
       "                                                F0_sma_de F0env_sma_de  \\\n",
       "                                                      max          std   \n",
       "video_name                diapo frameTimeWindow                          \n",
       "Test_pour_AFPA            1     0                  0.0000     0.000000   \n",
       "                                5                  0.0000     0.000000   \n",
       "                                10                 0.0000     0.000000   \n",
       "                                15                 0.0000     0.000000   \n",
       "                                20                 0.0000     0.000000   \n",
       "...                                                   ...          ...   \n",
       "WIN_20210417_14_53_12_Pro 18    600              116.1643     2.522699   \n",
       "                                605              117.4899     3.576282   \n",
       "                                610              114.2939     2.252460   \n",
       "                                615              125.1482     3.112394   \n",
       "                                620              126.4516     5.882063   \n",
       "\n",
       "                                                                       \\\n",
       "                                                     mean percentil25   \n",
       "video_name                diapo frameTimeWindow                         \n",
       "Test_pour_AFPA            1     0                0.000000    0.000000   \n",
       "                                5                0.000000    0.000000   \n",
       "                                10               0.000000    0.000000   \n",
       "                                15               0.000000    0.000000   \n",
       "                                20               0.000000    0.000000   \n",
       "...                                                   ...         ...   \n",
       "WIN_20210417_14_53_12_Pro 18    600             -0.060956    0.000000   \n",
       "                                605             -0.029058    0.000000   \n",
       "                                610              0.090406    0.000000   \n",
       "                                615              0.029907    0.000000   \n",
       "                                620             -0.379740   -3.047994   \n",
       "\n",
       "                                                                     \\\n",
       "                                                     skew       min   \n",
       "video_name                diapo frameTimeWindow                       \n",
       "Test_pour_AFPA            1     0                0.000000   0.00000   \n",
       "                                5                0.000000   0.00000   \n",
       "                                10               0.000000   0.00000   \n",
       "                                15               0.000000   0.00000   \n",
       "                                20               0.000000   0.00000   \n",
       "...                                                   ...       ...   \n",
       "WIN_20210417_14_53_12_Pro 18    600              0.429715 -11.59529   \n",
       "                                605             -1.647909 -19.88145   \n",
       "                                610              1.881708 -11.04165   \n",
       "                                615             -0.042469 -16.25249   \n",
       "                                620             -0.539376 -18.76476   \n",
       "\n",
       "                                                                               \\\n",
       "                                                percentil75   kurtosis median   \n",
       "video_name                diapo frameTimeWindow                                 \n",
       "Test_pour_AFPA            1     0                   0.00000  -3.000000    0.0   \n",
       "                                5                   0.00000  -3.000000    0.0   \n",
       "                                10                  0.00000  -3.000000    0.0   \n",
       "                                15                  0.00000  -3.000000    0.0   \n",
       "                                20                  0.00000  -3.000000    0.0   \n",
       "...                                                     ...        ...    ...   \n",
       "WIN_20210417_14_53_12_Pro 18    600                 0.00000  11.035127    0.0   \n",
       "                                605                 0.00000   8.227114    0.0   \n",
       "                                610                 0.00000  18.710329    0.0   \n",
       "                                615                 0.00000   9.872000    0.0   \n",
       "                                620                 2.61295   1.128872    0.0   \n",
       "\n",
       "                                                           \n",
       "                                                      max  \n",
       "video_name                diapo frameTimeWindow            \n",
       "Test_pour_AFPA            1     0                 0.00000  \n",
       "                                5                 0.00000  \n",
       "                                10                0.00000  \n",
       "                                15                0.00000  \n",
       "                                20                0.00000  \n",
       "...                                                   ...  \n",
       "WIN_20210417_14_53_12_Pro 18    600              14.82329  \n",
       "                                605              11.37295  \n",
       "                                610              16.36507  \n",
       "                                615              16.44305  \n",
       "                                620              13.70608  \n",
       "\n",
       "[5159 rows x 468 columns]"
      ],
      "text/html": "<div>\n<style scoped>\n    .dataframe tbody tr th:only-of-type {\n        vertical-align: middle;\n    }\n\n    .dataframe tbody tr th {\n        vertical-align: top;\n    }\n\n    .dataframe thead tr th {\n        text-align: left;\n    }\n\n    .dataframe thead tr:last-of-type th {\n        text-align: right;\n    }\n</style>\n<table border=\"1\" class=\"dataframe\">\n  <thead>\n    <tr>\n      <th></th>\n      <th></th>\n      <th></th>\n      <th colspan=\"9\" halign=\"left\">pcm_intensity_sma</th>\n      <th>pcm_loudness_sma</th>\n      <th>...</th>\n      <th>F0_sma_de</th>\n      <th colspan=\"9\" halign=\"left\">F0env_sma_de</th>\n    </tr>\n    <tr>\n      <th></th>\n      <th></th>\n      <th></th>\n      <th>std</th>\n      <th>mean</th>\n      <th>percentil25</th>\n      <th>skew</th>\n      <th>min</th>\n      <th>percentil75</th>\n      <th>kurtosis</th>\n      <th>median</th>\n      <th>max</th>\n      <th>std</th>\n      <th>...</th>\n      <th>max</th>\n      <th>std</th>\n      <th>mean</th>\n      <th>percentil25</th>\n      <th>skew</th>\n      <th>min</th>\n      <th>percentil75</th>\n      <th>kurtosis</th>\n      <th>median</th>\n      <th>max</th>\n    </tr>\n    <tr>\n      <th>video_name</th>\n      <th>diapo</th>\n      <th>frameTimeWindow</th>\n      <th></th>\n      <th></th>\n      <th></th>\n      <th></th>\n      <th></th>\n      <th></th>\n      <th></th>\n      <th></th>\n      <th></th>\n      <th></th>\n      <th></th>\n      <th></th>\n      <th></th>\n      <th></th>\n      <th></th>\n      <th></th>\n      <th></th>\n      <th></th>\n      <th></th>\n      <th></th>\n      <th></th>\n    </tr>\n  </thead>\n  <tbody>\n    <tr>\n      <th rowspan=\"5\" valign=\"top\">Test_pour_AFPA</th>\n      <th rowspan=\"5\" valign=\"top\">1</th>\n      <th>0</th>\n      <td>5.158104e-11</td>\n      <td>6.831969e-11</td>\n      <td>3.385610e-11</td>\n      <td>2.724692</td>\n      <td>4.089930e-12</td>\n      <td>8.774428e-11</td>\n      <td>13.638802</td>\n      <td>5.652821e-11</td>\n      <td>4.401225e-10</td>\n      <td>0.010282</td>\n      <td>...</td>\n      <td>0.0000</td>\n      <td>0.000000</td>\n      <td>0.000000</td>\n      <td>0.000000</td>\n      <td>0.000000</td>\n      <td>0.00000</td>\n      <td>0.00000</td>\n      <td>-3.000000</td>\n      <td>0.0</td>\n      <td>0.00000</td>\n    </tr>\n    <tr>\n      <th>5</th>\n      <td>6.252104e-11</td>\n      <td>7.729215e-11</td>\n      <td>3.375239e-11</td>\n      <td>1.669479</td>\n      <td>4.340127e-12</td>\n      <td>1.021841e-10</td>\n      <td>3.261232</td>\n      <td>6.024235e-11</td>\n      <td>3.715988e-10</td>\n      <td>0.011772</td>\n      <td>...</td>\n      <td>0.0000</td>\n      <td>0.000000</td>\n      <td>0.000000</td>\n      <td>0.000000</td>\n      <td>0.000000</td>\n      <td>0.00000</td>\n      <td>0.00000</td>\n      <td>-3.000000</td>\n      <td>0.0</td>\n      <td>0.00000</td>\n    </tr>\n    <tr>\n      <th>10</th>\n      <td>5.513744e-11</td>\n      <td>7.262539e-11</td>\n      <td>2.914076e-11</td>\n      <td>1.231535</td>\n      <td>1.711006e-12</td>\n      <td>1.003699e-10</td>\n      <td>1.487425</td>\n      <td>6.097148e-11</td>\n      <td>2.891272e-10</td>\n      <td>0.012205</td>\n      <td>...</td>\n      <td>0.0000</td>\n      <td>0.000000</td>\n      <td>0.000000</td>\n      <td>0.000000</td>\n      <td>0.000000</td>\n      <td>0.00000</td>\n      <td>0.00000</td>\n      <td>-3.000000</td>\n      <td>0.0</td>\n      <td>0.00000</td>\n    </tr>\n    <tr>\n      <th>15</th>\n      <td>6.265870e-11</td>\n      <td>8.263100e-11</td>\n      <td>3.708061e-11</td>\n      <td>1.635156</td>\n      <td>1.168483e-12</td>\n      <td>1.096644e-10</td>\n      <td>3.776347</td>\n      <td>6.800391e-11</td>\n      <td>3.714314e-10</td>\n      <td>0.011922</td>\n      <td>...</td>\n      <td>0.0000</td>\n      <td>0.000000</td>\n      <td>0.000000</td>\n      <td>0.000000</td>\n      <td>0.000000</td>\n      <td>0.00000</td>\n      <td>0.00000</td>\n      <td>-3.000000</td>\n      <td>0.0</td>\n      <td>0.00000</td>\n    </tr>\n    <tr>\n      <th>20</th>\n      <td>5.422649e-11</td>\n      <td>7.523362e-11</td>\n      <td>3.360517e-11</td>\n      <td>1.170682</td>\n      <td>3.922888e-12</td>\n      <td>1.056265e-10</td>\n      <td>1.322073</td>\n      <td>6.197396e-11</td>\n      <td>3.111625e-10</td>\n      <td>0.011980</td>\n      <td>...</td>\n      <td>0.0000</td>\n      <td>0.000000</td>\n      <td>0.000000</td>\n      <td>0.000000</td>\n      <td>0.000000</td>\n      <td>0.00000</td>\n      <td>0.00000</td>\n      <td>-3.000000</td>\n      <td>0.0</td>\n      <td>0.00000</td>\n    </tr>\n    <tr>\n      <th>...</th>\n      <th>...</th>\n      <th>...</th>\n      <td>...</td>\n      <td>...</td>\n      <td>...</td>\n      <td>...</td>\n      <td>...</td>\n      <td>...</td>\n      <td>...</td>\n      <td>...</td>\n      <td>...</td>\n      <td>...</td>\n      <td>...</td>\n      <td>...</td>\n      <td>...</td>\n      <td>...</td>\n      <td>...</td>\n      <td>...</td>\n      <td>...</td>\n      <td>...</td>\n      <td>...</td>\n      <td>...</td>\n      <td>...</td>\n    </tr>\n    <tr>\n      <th rowspan=\"5\" valign=\"top\">WIN_20210417_14_53_12_Pro</th>\n      <th rowspan=\"5\" valign=\"top\">18</th>\n      <th>600</th>\n      <td>4.009258e-11</td>\n      <td>1.408690e-11</td>\n      <td>0.000000e+00</td>\n      <td>6.714008</td>\n      <td>0.000000e+00</td>\n      <td>1.176876e-11</td>\n      <td>58.442977</td>\n      <td>6.051347e-13</td>\n      <td>4.133286e-10</td>\n      <td>0.016821</td>\n      <td>...</td>\n      <td>116.1643</td>\n      <td>2.522699</td>\n      <td>-0.060956</td>\n      <td>0.000000</td>\n      <td>0.429715</td>\n      <td>-11.59529</td>\n      <td>0.00000</td>\n      <td>11.035127</td>\n      <td>0.0</td>\n      <td>14.82329</td>\n    </tr>\n    <tr>\n      <th>605</th>\n      <td>1.810855e-11</td>\n      <td>7.418843e-12</td>\n      <td>4.173127e-14</td>\n      <td>4.475901</td>\n      <td>0.000000e+00</td>\n      <td>6.166123e-12</td>\n      <td>23.430566</td>\n      <td>1.043340e-12</td>\n      <td>1.428942e-10</td>\n      <td>0.014176</td>\n      <td>...</td>\n      <td>117.4899</td>\n      <td>3.576282</td>\n      <td>-0.029058</td>\n      <td>0.000000</td>\n      <td>-1.647909</td>\n      <td>-19.88145</td>\n      <td>0.00000</td>\n      <td>8.227114</td>\n      <td>0.0</td>\n      <td>11.37295</td>\n    </tr>\n    <tr>\n      <th>610</th>\n      <td>8.823801e-12</td>\n      <td>4.190518e-12</td>\n      <td>0.000000e+00</td>\n      <td>4.223178</td>\n      <td>0.000000e+00</td>\n      <td>4.465477e-12</td>\n      <td>21.232590</td>\n      <td>8.346684e-13</td>\n      <td>6.840137e-11</td>\n      <td>0.011686</td>\n      <td>...</td>\n      <td>114.2939</td>\n      <td>2.252460</td>\n      <td>0.090406</td>\n      <td>0.000000</td>\n      <td>1.881708</td>\n      <td>-11.04165</td>\n      <td>0.00000</td>\n      <td>18.710329</td>\n      <td>0.0</td>\n      <td>16.36507</td>\n    </tr>\n    <tr>\n      <th>615</th>\n      <td>1.261866e-11</td>\n      <td>9.820167e-12</td>\n      <td>2.170155e-12</td>\n      <td>2.798153</td>\n      <td>0.000000e+00</td>\n      <td>1.247821e-11</td>\n      <td>9.882993</td>\n      <td>5.592215e-12</td>\n      <td>8.663809e-11</td>\n      <td>0.009385</td>\n      <td>...</td>\n      <td>125.1482</td>\n      <td>3.112394</td>\n      <td>0.029907</td>\n      <td>0.000000</td>\n      <td>-0.042469</td>\n      <td>-16.25249</td>\n      <td>0.00000</td>\n      <td>9.872000</td>\n      <td>0.0</td>\n      <td>16.44305</td>\n    </tr>\n    <tr>\n      <th>620</th>\n      <td>2.040373e-11</td>\n      <td>2.259576e-11</td>\n      <td>6.103491e-12</td>\n      <td>1.269456</td>\n      <td>5.842690e-13</td>\n      <td>3.609919e-11</td>\n      <td>1.441623</td>\n      <td>1.671420e-11</td>\n      <td>9.552716e-11</td>\n      <td>0.010945</td>\n      <td>...</td>\n      <td>126.4516</td>\n      <td>5.882063</td>\n      <td>-0.379740</td>\n      <td>-3.047994</td>\n      <td>-0.539376</td>\n      <td>-18.76476</td>\n      <td>2.61295</td>\n      <td>1.128872</td>\n      <td>0.0</td>\n      <td>13.70608</td>\n    </tr>\n  </tbody>\n</table>\n<p>5159 rows × 468 columns</p>\n</div>"
     },
     "metadata": {},
     "execution_count": 11
    }
   ],
   "source": [
    "X"
   ]
  },
  {
   "cell_type": "code",
   "execution_count": 12,
   "metadata": {},
   "outputs": [
    {
     "output_type": "execute_result",
     "data": {
      "text/plain": [
       "                                                pcm_intensity_sma  \\\n",
       "                                                              std   \n",
       "video_name                diapo frameTimeWindow                     \n",
       "Test_pour_AFPA            1     0                    5.158104e-11   \n",
       "                                5                    6.252104e-11   \n",
       "                                10                   5.513744e-11   \n",
       "                                15                   6.265870e-11   \n",
       "                                20                   5.422649e-11   \n",
       "...                                                           ...   \n",
       "WIN_20210417_14_53_12_Pro 18    600                  4.009258e-11   \n",
       "                                605                  1.810855e-11   \n",
       "                                610                  8.823801e-12   \n",
       "                                615                  1.261866e-11   \n",
       "                                620                  2.040373e-11   \n",
       "\n",
       "                                                                             \\\n",
       "                                                         mean   percentil25   \n",
       "video_name                diapo frameTimeWindow                               \n",
       "Test_pour_AFPA            1     0                6.831969e-11  3.385610e-11   \n",
       "                                5                7.729215e-11  3.375239e-11   \n",
       "                                10               7.262539e-11  2.914076e-11   \n",
       "                                15               8.263100e-11  3.708061e-11   \n",
       "                                20               7.523362e-11  3.360517e-11   \n",
       "...                                                       ...           ...   \n",
       "WIN_20210417_14_53_12_Pro 18    600              1.408690e-11  0.000000e+00   \n",
       "                                605              7.418843e-12  4.173127e-14   \n",
       "                                610              4.190518e-12  0.000000e+00   \n",
       "                                615              9.820167e-12  2.170155e-12   \n",
       "                                620              2.259576e-11  6.103491e-12   \n",
       "\n",
       "                                                                         \\\n",
       "                                                     skew           min   \n",
       "video_name                diapo frameTimeWindow                           \n",
       "Test_pour_AFPA            1     0                2.724692  4.089930e-12   \n",
       "                                5                1.669479  4.340127e-12   \n",
       "                                10               1.231535  1.711006e-12   \n",
       "                                15               1.635156  1.168483e-12   \n",
       "                                20               1.170682  3.922888e-12   \n",
       "...                                                   ...           ...   \n",
       "WIN_20210417_14_53_12_Pro 18    600              6.714008  0.000000e+00   \n",
       "                                605              4.475901  0.000000e+00   \n",
       "                                610              4.223178  0.000000e+00   \n",
       "                                615              2.798153  0.000000e+00   \n",
       "                                620              1.269456  5.842690e-13   \n",
       "\n",
       "                                                                          \\\n",
       "                                                  percentil75   kurtosis   \n",
       "video_name                diapo frameTimeWindow                            \n",
       "Test_pour_AFPA            1     0                8.774428e-11  13.638802   \n",
       "                                5                1.021841e-10   3.261232   \n",
       "                                10               1.003699e-10   1.487425   \n",
       "                                15               1.096644e-10   3.776347   \n",
       "                                20               1.056265e-10   1.322073   \n",
       "...                                                       ...        ...   \n",
       "WIN_20210417_14_53_12_Pro 18    600              1.176876e-11  58.442977   \n",
       "                                605              6.166123e-12  23.430566   \n",
       "                                610              4.465477e-12  21.232590   \n",
       "                                615              1.247821e-11   9.882993   \n",
       "                                620              3.609919e-11   1.441623   \n",
       "\n",
       "                                                                             \\\n",
       "                                                       median           max   \n",
       "video_name                diapo frameTimeWindow                               \n",
       "Test_pour_AFPA            1     0                5.652821e-11  4.401225e-10   \n",
       "                                5                6.024235e-11  3.715988e-10   \n",
       "                                10               6.097148e-11  2.891272e-10   \n",
       "                                15               6.800391e-11  3.714314e-10   \n",
       "                                20               6.197396e-11  3.111625e-10   \n",
       "...                                                       ...           ...   \n",
       "WIN_20210417_14_53_12_Pro 18    600              6.051347e-13  4.133286e-10   \n",
       "                                605              1.043340e-12  1.428942e-10   \n",
       "                                610              8.346684e-13  6.840137e-11   \n",
       "                                615              5.592215e-12  8.663809e-11   \n",
       "                                620              1.671420e-11  9.552716e-11   \n",
       "\n",
       "                                                pcm_loudness_sma  ...  \\\n",
       "                                                             std  ...   \n",
       "video_name                diapo frameTimeWindow                   ...   \n",
       "Test_pour_AFPA            1     0                       0.010282  ...   \n",
       "                                5                       0.011772  ...   \n",
       "                                10                      0.012205  ...   \n",
       "                                15                      0.011922  ...   \n",
       "                                20                      0.011980  ...   \n",
       "...                                                          ...  ...   \n",
       "WIN_20210417_14_53_12_Pro 18    600                     0.016821  ...   \n",
       "                                605                     0.014176  ...   \n",
       "                                610                     0.011686  ...   \n",
       "                                615                     0.009385  ...   \n",
       "                                620                     0.010945  ...   \n",
       "\n",
       "                                                F0_sma_de F0env_sma_de  \\\n",
       "                                                      max          std   \n",
       "video_name                diapo frameTimeWindow                          \n",
       "Test_pour_AFPA            1     0                  0.0000     0.000000   \n",
       "                                5                  0.0000     0.000000   \n",
       "                                10                 0.0000     0.000000   \n",
       "                                15                 0.0000     0.000000   \n",
       "                                20                 0.0000     0.000000   \n",
       "...                                                   ...          ...   \n",
       "WIN_20210417_14_53_12_Pro 18    600              116.1643     2.522699   \n",
       "                                605              117.4899     3.576282   \n",
       "                                610              114.2939     2.252460   \n",
       "                                615              125.1482     3.112394   \n",
       "                                620              126.4516     5.882063   \n",
       "\n",
       "                                                                       \\\n",
       "                                                     mean percentil25   \n",
       "video_name                diapo frameTimeWindow                         \n",
       "Test_pour_AFPA            1     0                0.000000    0.000000   \n",
       "                                5                0.000000    0.000000   \n",
       "                                10               0.000000    0.000000   \n",
       "                                15               0.000000    0.000000   \n",
       "                                20               0.000000    0.000000   \n",
       "...                                                   ...         ...   \n",
       "WIN_20210417_14_53_12_Pro 18    600             -0.060956    0.000000   \n",
       "                                605             -0.029058    0.000000   \n",
       "                                610              0.090406    0.000000   \n",
       "                                615              0.029907    0.000000   \n",
       "                                620             -0.379740   -3.047994   \n",
       "\n",
       "                                                                     \\\n",
       "                                                     skew       min   \n",
       "video_name                diapo frameTimeWindow                       \n",
       "Test_pour_AFPA            1     0                0.000000   0.00000   \n",
       "                                5                0.000000   0.00000   \n",
       "                                10               0.000000   0.00000   \n",
       "                                15               0.000000   0.00000   \n",
       "                                20               0.000000   0.00000   \n",
       "...                                                   ...       ...   \n",
       "WIN_20210417_14_53_12_Pro 18    600              0.429715 -11.59529   \n",
       "                                605             -1.647909 -19.88145   \n",
       "                                610              1.881708 -11.04165   \n",
       "                                615             -0.042469 -16.25249   \n",
       "                                620             -0.539376 -18.76476   \n",
       "\n",
       "                                                                               \\\n",
       "                                                percentil75   kurtosis median   \n",
       "video_name                diapo frameTimeWindow                                 \n",
       "Test_pour_AFPA            1     0                   0.00000  -3.000000    0.0   \n",
       "                                5                   0.00000  -3.000000    0.0   \n",
       "                                10                  0.00000  -3.000000    0.0   \n",
       "                                15                  0.00000  -3.000000    0.0   \n",
       "                                20                  0.00000  -3.000000    0.0   \n",
       "...                                                     ...        ...    ...   \n",
       "WIN_20210417_14_53_12_Pro 18    600                 0.00000  11.035127    0.0   \n",
       "                                605                 0.00000   8.227114    0.0   \n",
       "                                610                 0.00000  18.710329    0.0   \n",
       "                                615                 0.00000   9.872000    0.0   \n",
       "                                620                 2.61295   1.128872    0.0   \n",
       "\n",
       "                                                           \n",
       "                                                      max  \n",
       "video_name                diapo frameTimeWindow            \n",
       "Test_pour_AFPA            1     0                 0.00000  \n",
       "                                5                 0.00000  \n",
       "                                10                0.00000  \n",
       "                                15                0.00000  \n",
       "                                20                0.00000  \n",
       "...                                                   ...  \n",
       "WIN_20210417_14_53_12_Pro 18    600              14.82329  \n",
       "                                605              11.37295  \n",
       "                                610              16.36507  \n",
       "                                615              16.44305  \n",
       "                                620              13.70608  \n",
       "\n",
       "[5159 rows x 468 columns]"
      ],
      "text/html": "<div>\n<style scoped>\n    .dataframe tbody tr th:only-of-type {\n        vertical-align: middle;\n    }\n\n    .dataframe tbody tr th {\n        vertical-align: top;\n    }\n\n    .dataframe thead tr th {\n        text-align: left;\n    }\n\n    .dataframe thead tr:last-of-type th {\n        text-align: right;\n    }\n</style>\n<table border=\"1\" class=\"dataframe\">\n  <thead>\n    <tr>\n      <th></th>\n      <th></th>\n      <th></th>\n      <th colspan=\"9\" halign=\"left\">pcm_intensity_sma</th>\n      <th>pcm_loudness_sma</th>\n      <th>...</th>\n      <th>F0_sma_de</th>\n      <th colspan=\"9\" halign=\"left\">F0env_sma_de</th>\n    </tr>\n    <tr>\n      <th></th>\n      <th></th>\n      <th></th>\n      <th>std</th>\n      <th>mean</th>\n      <th>percentil25</th>\n      <th>skew</th>\n      <th>min</th>\n      <th>percentil75</th>\n      <th>kurtosis</th>\n      <th>median</th>\n      <th>max</th>\n      <th>std</th>\n      <th>...</th>\n      <th>max</th>\n      <th>std</th>\n      <th>mean</th>\n      <th>percentil25</th>\n      <th>skew</th>\n      <th>min</th>\n      <th>percentil75</th>\n      <th>kurtosis</th>\n      <th>median</th>\n      <th>max</th>\n    </tr>\n    <tr>\n      <th>video_name</th>\n      <th>diapo</th>\n      <th>frameTimeWindow</th>\n      <th></th>\n      <th></th>\n      <th></th>\n      <th></th>\n      <th></th>\n      <th></th>\n      <th></th>\n      <th></th>\n      <th></th>\n      <th></th>\n      <th></th>\n      <th></th>\n      <th></th>\n      <th></th>\n      <th></th>\n      <th></th>\n      <th></th>\n      <th></th>\n      <th></th>\n      <th></th>\n      <th></th>\n    </tr>\n  </thead>\n  <tbody>\n    <tr>\n      <th rowspan=\"5\" valign=\"top\">Test_pour_AFPA</th>\n      <th rowspan=\"5\" valign=\"top\">1</th>\n      <th>0</th>\n      <td>5.158104e-11</td>\n      <td>6.831969e-11</td>\n      <td>3.385610e-11</td>\n      <td>2.724692</td>\n      <td>4.089930e-12</td>\n      <td>8.774428e-11</td>\n      <td>13.638802</td>\n      <td>5.652821e-11</td>\n      <td>4.401225e-10</td>\n      <td>0.010282</td>\n      <td>...</td>\n      <td>0.0000</td>\n      <td>0.000000</td>\n      <td>0.000000</td>\n      <td>0.000000</td>\n      <td>0.000000</td>\n      <td>0.00000</td>\n      <td>0.00000</td>\n      <td>-3.000000</td>\n      <td>0.0</td>\n      <td>0.00000</td>\n    </tr>\n    <tr>\n      <th>5</th>\n      <td>6.252104e-11</td>\n      <td>7.729215e-11</td>\n      <td>3.375239e-11</td>\n      <td>1.669479</td>\n      <td>4.340127e-12</td>\n      <td>1.021841e-10</td>\n      <td>3.261232</td>\n      <td>6.024235e-11</td>\n      <td>3.715988e-10</td>\n      <td>0.011772</td>\n      <td>...</td>\n      <td>0.0000</td>\n      <td>0.000000</td>\n      <td>0.000000</td>\n      <td>0.000000</td>\n      <td>0.000000</td>\n      <td>0.00000</td>\n      <td>0.00000</td>\n      <td>-3.000000</td>\n      <td>0.0</td>\n      <td>0.00000</td>\n    </tr>\n    <tr>\n      <th>10</th>\n      <td>5.513744e-11</td>\n      <td>7.262539e-11</td>\n      <td>2.914076e-11</td>\n      <td>1.231535</td>\n      <td>1.711006e-12</td>\n      <td>1.003699e-10</td>\n      <td>1.487425</td>\n      <td>6.097148e-11</td>\n      <td>2.891272e-10</td>\n      <td>0.012205</td>\n      <td>...</td>\n      <td>0.0000</td>\n      <td>0.000000</td>\n      <td>0.000000</td>\n      <td>0.000000</td>\n      <td>0.000000</td>\n      <td>0.00000</td>\n      <td>0.00000</td>\n      <td>-3.000000</td>\n      <td>0.0</td>\n      <td>0.00000</td>\n    </tr>\n    <tr>\n      <th>15</th>\n      <td>6.265870e-11</td>\n      <td>8.263100e-11</td>\n      <td>3.708061e-11</td>\n      <td>1.635156</td>\n      <td>1.168483e-12</td>\n      <td>1.096644e-10</td>\n      <td>3.776347</td>\n      <td>6.800391e-11</td>\n      <td>3.714314e-10</td>\n      <td>0.011922</td>\n      <td>...</td>\n      <td>0.0000</td>\n      <td>0.000000</td>\n      <td>0.000000</td>\n      <td>0.000000</td>\n      <td>0.000000</td>\n      <td>0.00000</td>\n      <td>0.00000</td>\n      <td>-3.000000</td>\n      <td>0.0</td>\n      <td>0.00000</td>\n    </tr>\n    <tr>\n      <th>20</th>\n      <td>5.422649e-11</td>\n      <td>7.523362e-11</td>\n      <td>3.360517e-11</td>\n      <td>1.170682</td>\n      <td>3.922888e-12</td>\n      <td>1.056265e-10</td>\n      <td>1.322073</td>\n      <td>6.197396e-11</td>\n      <td>3.111625e-10</td>\n      <td>0.011980</td>\n      <td>...</td>\n      <td>0.0000</td>\n      <td>0.000000</td>\n      <td>0.000000</td>\n      <td>0.000000</td>\n      <td>0.000000</td>\n      <td>0.00000</td>\n      <td>0.00000</td>\n      <td>-3.000000</td>\n      <td>0.0</td>\n      <td>0.00000</td>\n    </tr>\n    <tr>\n      <th>...</th>\n      <th>...</th>\n      <th>...</th>\n      <td>...</td>\n      <td>...</td>\n      <td>...</td>\n      <td>...</td>\n      <td>...</td>\n      <td>...</td>\n      <td>...</td>\n      <td>...</td>\n      <td>...</td>\n      <td>...</td>\n      <td>...</td>\n      <td>...</td>\n      <td>...</td>\n      <td>...</td>\n      <td>...</td>\n      <td>...</td>\n      <td>...</td>\n      <td>...</td>\n      <td>...</td>\n      <td>...</td>\n      <td>...</td>\n    </tr>\n    <tr>\n      <th rowspan=\"5\" valign=\"top\">WIN_20210417_14_53_12_Pro</th>\n      <th rowspan=\"5\" valign=\"top\">18</th>\n      <th>600</th>\n      <td>4.009258e-11</td>\n      <td>1.408690e-11</td>\n      <td>0.000000e+00</td>\n      <td>6.714008</td>\n      <td>0.000000e+00</td>\n      <td>1.176876e-11</td>\n      <td>58.442977</td>\n      <td>6.051347e-13</td>\n      <td>4.133286e-10</td>\n      <td>0.016821</td>\n      <td>...</td>\n      <td>116.1643</td>\n      <td>2.522699</td>\n      <td>-0.060956</td>\n      <td>0.000000</td>\n      <td>0.429715</td>\n      <td>-11.59529</td>\n      <td>0.00000</td>\n      <td>11.035127</td>\n      <td>0.0</td>\n      <td>14.82329</td>\n    </tr>\n    <tr>\n      <th>605</th>\n      <td>1.810855e-11</td>\n      <td>7.418843e-12</td>\n      <td>4.173127e-14</td>\n      <td>4.475901</td>\n      <td>0.000000e+00</td>\n      <td>6.166123e-12</td>\n      <td>23.430566</td>\n      <td>1.043340e-12</td>\n      <td>1.428942e-10</td>\n      <td>0.014176</td>\n      <td>...</td>\n      <td>117.4899</td>\n      <td>3.576282</td>\n      <td>-0.029058</td>\n      <td>0.000000</td>\n      <td>-1.647909</td>\n      <td>-19.88145</td>\n      <td>0.00000</td>\n      <td>8.227114</td>\n      <td>0.0</td>\n      <td>11.37295</td>\n    </tr>\n    <tr>\n      <th>610</th>\n      <td>8.823801e-12</td>\n      <td>4.190518e-12</td>\n      <td>0.000000e+00</td>\n      <td>4.223178</td>\n      <td>0.000000e+00</td>\n      <td>4.465477e-12</td>\n      <td>21.232590</td>\n      <td>8.346684e-13</td>\n      <td>6.840137e-11</td>\n      <td>0.011686</td>\n      <td>...</td>\n      <td>114.2939</td>\n      <td>2.252460</td>\n      <td>0.090406</td>\n      <td>0.000000</td>\n      <td>1.881708</td>\n      <td>-11.04165</td>\n      <td>0.00000</td>\n      <td>18.710329</td>\n      <td>0.0</td>\n      <td>16.36507</td>\n    </tr>\n    <tr>\n      <th>615</th>\n      <td>1.261866e-11</td>\n      <td>9.820167e-12</td>\n      <td>2.170155e-12</td>\n      <td>2.798153</td>\n      <td>0.000000e+00</td>\n      <td>1.247821e-11</td>\n      <td>9.882993</td>\n      <td>5.592215e-12</td>\n      <td>8.663809e-11</td>\n      <td>0.009385</td>\n      <td>...</td>\n      <td>125.1482</td>\n      <td>3.112394</td>\n      <td>0.029907</td>\n      <td>0.000000</td>\n      <td>-0.042469</td>\n      <td>-16.25249</td>\n      <td>0.00000</td>\n      <td>9.872000</td>\n      <td>0.0</td>\n      <td>16.44305</td>\n    </tr>\n    <tr>\n      <th>620</th>\n      <td>2.040373e-11</td>\n      <td>2.259576e-11</td>\n      <td>6.103491e-12</td>\n      <td>1.269456</td>\n      <td>5.842690e-13</td>\n      <td>3.609919e-11</td>\n      <td>1.441623</td>\n      <td>1.671420e-11</td>\n      <td>9.552716e-11</td>\n      <td>0.010945</td>\n      <td>...</td>\n      <td>126.4516</td>\n      <td>5.882063</td>\n      <td>-0.379740</td>\n      <td>-3.047994</td>\n      <td>-0.539376</td>\n      <td>-18.76476</td>\n      <td>2.61295</td>\n      <td>1.128872</td>\n      <td>0.0</td>\n      <td>13.70608</td>\n    </tr>\n  </tbody>\n</table>\n<p>5159 rows × 468 columns</p>\n</div>"
     },
     "metadata": {},
     "execution_count": 12
    }
   ],
   "source": [
    "X.sort_index()"
   ]
  },
  {
   "cell_type": "code",
   "execution_count": 13,
   "metadata": {},
   "outputs": [],
   "source": [
    "y = df_total.iloc[:,3:].groupby(['video_name','diapo','frameTimeWindow']).agg({'stress':'min'}).iloc[:,-1]"
   ]
  },
  {
   "cell_type": "code",
   "execution_count": 14,
   "metadata": {},
   "outputs": [
    {
     "output_type": "execute_result",
     "data": {
      "text/plain": [
       "1.0    2433\n",
       "0.0    2053\n",
       "2.0     653\n",
       "3.0      20\n",
       "Name: stress, dtype: int64"
      ]
     },
     "metadata": {},
     "execution_count": 14
    }
   ],
   "source": [
    "y.value_counts()"
   ]
  },
  {
   "cell_type": "code",
   "execution_count": 15,
   "metadata": {},
   "outputs": [],
   "source": [
    "X.to_pickle(directory_path + '/audio_' + features + '_tw5_data_X.p')\n",
    "y.to_pickle(directory_path + '/audio_' + features + '_tw5_data_y.p')"
   ]
  },
  {
   "cell_type": "code",
   "execution_count": 28,
   "metadata": {},
   "outputs": [],
   "source": [
    "from scipy.stats import kurtosis, skew\n",
    "X_audio = df_total.loc[df_total['diapo'].isin([8, 9, 10, 11, 17]),:].iloc[:,2:].groupby(['video_name','diapo','frameTimeWindow']).agg({'mean','min','max', 'median', 'std', percentil25, percentil75, kurtosis, skew}).iloc[:,:-18]\n",
    "y_audio = df_total.loc[df_total['diapo'].isin([8, 9, 10, 11, 17]),:].iloc[:,2:].groupby(['video_name','diapo','frameTimeWindow']).agg({'stress':'mean'}).iloc[:,-1]"
   ]
  },
  {
   "cell_type": "code",
   "execution_count": 31,
   "metadata": {},
   "outputs": [],
   "source": [
    "X_audio.to_pickle(directory_path + '/audio_' + features + '_tw5_data_X_audio_questions_only.p')\n",
    "y_audio.to_pickle(directory_path + '/audio_' + features + '_tw5_data_y_audio_questions_only.p')"
   ]
  },
  {
   "source": [
    "## Modèles"
   ],
   "cell_type": "markdown",
   "metadata": {}
  },
  {
   "cell_type": "code",
   "execution_count": null,
   "metadata": {},
   "outputs": [],
   "source": [
    "X = pd.read_pickle(directory_path + '/audio_' + features + '_tw5_data_X.p')\n",
    "y = pd.read_pickle(directory_path + '/audio_' + features + '_tw5_data_y.p')\n",
    "\n",
    "X_audio = pd.read_pickle(directory_path + '/audio_' + features + '_data_X_audio.p')\n",
    "y_audio = pd.read_pickle(directory_path + '/audio_' + features + '_data_y_audio.p')"
   ]
  },
  {
   "cell_type": "code",
   "execution_count": 18,
   "metadata": {},
   "outputs": [],
   "source": [
    "X = X.fillna(0)\n",
    "X_audio = X_audio.fillna(0)"
   ]
  },
  {
   "source": [
    "### All diapos"
   ],
   "cell_type": "markdown",
   "metadata": {}
  },
  {
   "cell_type": "code",
   "execution_count": 19,
   "metadata": {},
   "outputs": [
    {
     "output_type": "stream",
     "name": "stdout",
     "text": [
      "Fitting 29 folds for each of 28 candidates, totalling 812 fits\n",
      "[Parallel(n_jobs=1)]: Using backend SequentialBackend with 1 concurrent workers.\n",
      "[Parallel(n_jobs=1)]: Done 812 out of 812 | elapsed: 24.4min finished\n",
      "Best results 0.45063871277310025\n",
      "Best params {'max_depth': 3, 'n_estimators': 150}\n"
     ]
    }
   ],
   "source": [
    "parameters = {'n_estimators': [50, 100, 150, 200], 'max_depth':[3, 4, 5,10, 15, 20, 25]}\n",
    "#parameters = {'n_estimators': [50, 100], 'max_depth':[3, 4, 5, 6]}\n",
    "from sklearn.model_selection import LeaveOneGroupOut\n",
    "from sklearn.ensemble import RandomForestClassifier, RandomForestRegressor\n",
    "from sklearn.model_selection import cross_val_predict, GridSearchCV\n",
    "from sklearn.metrics import accuracy_score, f1_score\n",
    "import warnings\n",
    "warnings.filterwarnings(\"ignore\")\n",
    "\n",
    "groups = X.reset_index()['video_name']\n",
    "loo = LeaveOneGroupOut()\n",
    "cv_loo = loo.split(X, y, groups)\n",
    "X_no_name = X\n",
    "y_no_name = y\n",
    "\n",
    "model = RandomForestClassifier(random_state = 42, n_jobs=-1)\n",
    "\n",
    "clf = GridSearchCV(estimator=model, \n",
    "                    param_grid=parameters, \n",
    "                    scoring={'accuracy_score' : 'accuracy', 'f1_score' : 'f1_weighted' }, \n",
    "                    refit='accuracy_score',\n",
    "                    cv=cv_loo, verbose=1)\n",
    "clf.fit(X_no_name, y_no_name)\n",
    "print('Best results', clf.best_score_)\n",
    "print('Best params', clf.best_params_)"
   ]
  },
  {
   "cell_type": "code",
   "execution_count": 20,
   "metadata": {},
   "outputs": [],
   "source": [
    "y_predict = clf.best_estimator_.predict(X_no_name)\n",
    "df_ypredict = pd.concat([X.reset_index()[['video_name','diapo','frameTimeWindow']],pd.DataFrame(y_predict, columns=['ypredict'])],axis=1)\n",
    "df_ypredict.to_csv('ypredict_' + features + '_tw5.csv')"
   ]
  },
  {
   "source": [
    "### Audio diapos only"
   ],
   "cell_type": "markdown",
   "metadata": {}
  },
  {
   "cell_type": "code",
   "execution_count": 32,
   "metadata": {},
   "outputs": [
    {
     "output_type": "stream",
     "name": "stdout",
     "text": [
      "Fitting 29 folds for each of 28 candidates, totalling 812 fits\n",
      "[Parallel(n_jobs=1)]: Using backend SequentialBackend with 1 concurrent workers.\n",
      "[Parallel(n_jobs=1)]: Done 812 out of 812 | elapsed: 11.4min finished\n",
      "Best results 0.45735099200672996\n",
      "Best params {'max_depth': 20, 'n_estimators': 50}\n"
     ]
    }
   ],
   "source": [
    "parameters = {'n_estimators': [50, 100, 150, 200], 'max_depth':[3, 4, 5,10, 15, 20, 25]}\n",
    "#parameters = {'n_estimators': [50, 100], 'max_depth':[3, 4, 5, 6]}\n",
    "from sklearn.model_selection import LeaveOneGroupOut\n",
    "from sklearn.ensemble import RandomForestClassifier, RandomForestRegressor\n",
    "from sklearn.model_selection import cross_val_predict, GridSearchCV\n",
    "from sklearn.metrics import accuracy_score, f1_score\n",
    "import warnings\n",
    "warnings.filterwarnings(\"ignore\")\n",
    "\n",
    "groups = X_audio.reset_index()['video_name']\n",
    "loo = LeaveOneGroupOut()\n",
    "cv_loo = loo.split(X_audio, y_audio, groups)\n",
    "X_no_name = X_audio\n",
    "y_no_name = y_audio\n",
    "\n",
    "model = RandomForestClassifier(random_state = 42, n_jobs=-1)\n",
    "\n",
    "clf = GridSearchCV(estimator=model, \n",
    "                    param_grid=parameters, \n",
    "                    scoring={'accuracy_score' : 'accuracy', 'f1_score' : 'f1_weighted' }, \n",
    "                    refit='accuracy_score',\n",
    "                    cv=cv_loo, verbose=1)\n",
    "clf.fit(X_no_name, y_no_name)\n",
    "print('Best results', clf.best_score_)\n",
    "print('Best params', clf.best_params_)"
   ]
  },
  {
   "cell_type": "code",
   "execution_count": 33,
   "metadata": {},
   "outputs": [],
   "source": [
    "y_predict = clf.best_estimator_.predict(X_no_name)\n",
    "df_ypredict = pd.concat([X.reset_index()[['video_name','diapo','frameTimeWindow']],pd.DataFrame(y_predict, columns=['ypredict'])],axis=1)\n",
    "df_ypredict.to_csv('ypredict_' + features + '_tw5_diapo_audio_only.csv')"
   ]
  },
  {
   "cell_type": "code",
   "execution_count": 34,
   "metadata": {},
   "outputs": [
    {
     "output_type": "stream",
     "name": "stdout",
     "text": [
      "MultiIndex([(      'mfcc_sma[8]', 'percentil75'),\n            (   'lspFreq_sma[7]',      'median'),\n            (      'mfcc_sma[3]',        'mean'),\n            (      'mfcc_sma[7]', 'percentil75'),\n            (      'mfcc_sma[3]',      'median'),\n            (      'mfcc_sma[3]', 'percentil75'),\n            (      'mfcc_sma[8]',      'median'),\n            (      'mfcc_sma[7]',      'median'),\n            ('lspFreq_sma_de[3]', 'percentil25'),\n            (     'mfcc_sma[11]',        'mean'),\n            ('lspFreq_sma_de[7]',         'min'),\n            (   'lspFreq_sma[3]', 'percentil75'),\n            (   'lspFreq_sma[5]',         'max'),\n            ('lspFreq_sma_de[7]',         'std'),\n            (     'mfcc_sma[10]', 'percentil75'),\n            (     'mfcc_sma[11]', 'percentil75'),\n            (      'mfcc_sma[7]',        'mean'),\n            (   'lspFreq_sma[0]', 'percentil75'),\n            (   'lspFreq_sma[3]',      'median')],\n           )\n"
     ]
    }
   ],
   "source": [
    "print(X_no_name.columns[np.argsort(clf.best_estimator_.feature_importances_)[:-20:-1]])"
   ]
  },
  {
   "cell_type": "code",
   "execution_count": null,
   "metadata": {},
   "outputs": [],
   "source": []
  }
 ]
}