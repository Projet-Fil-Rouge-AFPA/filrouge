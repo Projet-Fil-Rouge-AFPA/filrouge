{
 "metadata": {
  "language_info": {
   "codemirror_mode": {
    "name": "ipython",
    "version": 3
   },
   "file_extension": ".py",
   "mimetype": "text/x-python",
   "name": "python",
   "nbconvert_exporter": "python",
   "pygments_lexer": "ipython3",
   "version": "3.8.5"
  },
  "orig_nbformat": 2,
  "kernelspec": {
   "name": "python3",
   "display_name": "Python 3.8.5 64-bit ('base': conda)"
  },
  "metadata": {
   "interpreter": {
    "hash": "148f6ed9de8dadedbbd96ef8a7e818f87aaafab3c59f5306aa9910b4f09c5b3f"
   }
  },
  "interpreter": {
   "hash": "148f6ed9de8dadedbbd96ef8a7e818f87aaafab3c59f5306aa9910b4f09c5b3f"
  }
 },
 "nbformat": 4,
 "nbformat_minor": 2,
 "cells": [
  {
   "cell_type": "code",
   "execution_count": 1,
   "metadata": {},
   "outputs": [],
   "source": [
    "import numpy as np \n",
    "import pandas as pd \n",
    "import matplotlib.pyplot as plt \n",
    "import pathlib\n",
    "from util import runGridSearchClassifiers"
   ]
  },
  {
   "source": [
    "## Loading data"
   ],
   "cell_type": "markdown",
   "metadata": {}
  },
  {
   "cell_type": "code",
   "execution_count": 2,
   "metadata": {},
   "outputs": [],
   "source": [
    "directory_path = '../../04_-_Dev/videos'\n",
    "features = 'eGeMAPS'#''"
   ]
  },
  {
   "cell_type": "code",
   "execution_count": null,
   "metadata": {},
   "outputs": [],
   "source": [
    "currentDirectory = pathlib.Path(directory_path)\n",
    "currentPattern = \"*.\" + features + \".annotated.csv\"\n",
    "file_list = [str(currentFile) for currentFile in currentDirectory.glob(currentPattern)]\n",
    "\n",
    "df_total = pd.DataFrame()\n",
    "for filename in file_list:\n",
    "    df = pd.read_csv(filename, delimiter=';')\n",
    "    df_total = pd.concat([df_total, df], axis=0)\n",
    "\n",
    "print('Number of videos', df_total['video_name'].nunique())\n",
    "print('Number of annotations', df_total[['video_name','diapo']].drop_duplicates().shape[0])\n"
   ]
  },
  {
   "cell_type": "code",
   "execution_count": 2,
   "metadata": {},
   "outputs": [
    {
     "output_type": "error",
     "ename": "NameError",
     "evalue": "name 'df_total' is not defined",
     "traceback": [
      "\u001b[0;31m---------------------------------------------------------------------------\u001b[0m",
      "\u001b[0;31mNameError\u001b[0m                                 Traceback (most recent call last)",
      "\u001b[0;32m<ipython-input-2-a6783671e8ef>\u001b[0m in \u001b[0;36m<module>\u001b[0;34m\u001b[0m\n\u001b[0;32m----> 1\u001b[0;31m \u001b[0mdf_total\u001b[0m \u001b[0;34m=\u001b[0m \u001b[0mdf_total\u001b[0m\u001b[0;34m.\u001b[0m\u001b[0mdropna\u001b[0m\u001b[0;34m(\u001b[0m\u001b[0maxis\u001b[0m\u001b[0;34m=\u001b[0m\u001b[0;36m0\u001b[0m\u001b[0;34m)\u001b[0m\u001b[0;34m\u001b[0m\u001b[0;34m\u001b[0m\u001b[0m\n\u001b[0m",
      "\u001b[0;31mNameError\u001b[0m: name 'df_total' is not defined"
     ]
    }
   ],
   "source": [
    "df_total = df_total.dropna(axis=0)"
   ]
  },
  {
   "cell_type": "code",
   "execution_count": 9,
   "metadata": {},
   "outputs": [],
   "source": [
    "df_total.to_pickle(directory_path + '/audio_' + features + '_data.p')"
   ]
  },
  {
   "cell_type": "code",
   "execution_count": 3,
   "metadata": {},
   "outputs": [],
   "source": [
    "df_total = pd.read_pickle(directory_path + '/audio_' + features + '_data.p')"
   ]
  },
  {
   "source": [
    "## Data pre-processing 1 - Sans utilisation de la temporalité"
   ],
   "cell_type": "markdown",
   "metadata": {}
  },
  {
   "cell_type": "code",
   "execution_count": 11,
   "metadata": {},
   "outputs": [
    {
     "output_type": "execute_result",
     "data": {
      "text/plain": [
       "       frameIndex  frameTime  pcm_intensity_sma  pcm_loudness_sma  \\\n",
       "0               0       0.00       0.000000e+00          0.000000   \n",
       "1               1       0.01       0.000000e+00          0.000000   \n",
       "2               2       0.02       0.000000e+00          0.000000   \n",
       "3               3       0.03       0.000000e+00          0.000000   \n",
       "4               4       0.04       0.000000e+00          0.000000   \n",
       "...           ...        ...                ...               ...   \n",
       "78139       78139     781.39       8.054489e-12          0.029190   \n",
       "78140       78140     781.40       4.319410e-12          0.023441   \n",
       "78141       78141     781.41       3.975198e-12          0.022989   \n",
       "78142       78142     781.42       3.662190e-12          0.022472   \n",
       "78143       78143     781.43       4.642958e-12          0.025045   \n",
       "\n",
       "       mfcc_sma[1]  mfcc_sma[2]  mfcc_sma[3]  mfcc_sma[4]  mfcc_sma[5]  \\\n",
       "0        -1.839101     2.378769    -2.217382     1.524796    -0.692341   \n",
       "1        -1.839101     2.378769    -2.217382     1.524796    -0.692341   \n",
       "2        -5.952965     6.019684    -3.599674     1.358609    -0.693720   \n",
       "3        -4.113864     3.640915    -1.382292    -0.166187    -0.001379   \n",
       "4        -5.911817     5.975944    -3.576790     1.367325    -0.725028   \n",
       "...            ...          ...          ...          ...          ...   \n",
       "78139   -19.760860     6.082466    -2.668031     5.229023     3.715201   \n",
       "78140   -21.733470     5.059051    -2.391827     4.356356     5.255848   \n",
       "78141   -21.913380     3.731894    -4.589119     0.219700     1.376662   \n",
       "78142   -22.256340     2.845562    -4.491580     2.111024     3.834707   \n",
       "78143   -20.920040     3.314881    -4.962385     3.169590     5.868731   \n",
       "\n",
       "       mfcc_sma[6]  ...  pcm_zcr_sma_de  voiceProb_sma_de  F0_sma_de  \\\n",
       "0         0.101261  ...       -0.000242          0.016226        0.0   \n",
       "1         0.101261  ...       -0.000393          0.007565        0.0   \n",
       "2         0.796165  ...       -0.000272          0.011002        0.0   \n",
       "3         0.694905  ...        0.000000          0.009354        0.0   \n",
       "4         0.827764  ...        0.000272          0.007488        0.0   \n",
       "...            ...  ...             ...               ...        ...   \n",
       "78139    -1.398331  ...       -0.002025          0.012437        0.0   \n",
       "78140    -0.879569  ...       -0.003778          0.021489        0.0   \n",
       "78141    -5.050643  ...       -0.005409          0.040231        0.0   \n",
       "78142    -3.251046  ...       -0.007011          0.052342        0.0   \n",
       "78143    -0.845365  ...       -0.007827          0.036732        0.0   \n",
       "\n",
       "       F0env_sma_de                 video_name  stress_global  type_candidat  \\\n",
       "0               0.0  WIN_20210409_10_26_11_Pro            0.0      Stagiaire   \n",
       "1               0.0  WIN_20210409_10_26_11_Pro            0.0      Stagiaire   \n",
       "2               0.0  WIN_20210409_10_26_11_Pro            0.0      Stagiaire   \n",
       "3               0.0  WIN_20210409_10_26_11_Pro            0.0      Stagiaire   \n",
       "4               0.0  WIN_20210409_10_26_11_Pro            0.0      Stagiaire   \n",
       "...             ...                        ...            ...            ...   \n",
       "78139           0.0  WIN_20210416_08_06_54_Pro            1.0      Stagiaire   \n",
       "78140           0.0  WIN_20210416_08_06_54_Pro            1.0      Stagiaire   \n",
       "78141           0.0  WIN_20210416_08_06_54_Pro            1.0      Stagiaire   \n",
       "78142           0.0  WIN_20210416_08_06_54_Pro            1.0      Stagiaire   \n",
       "78143           0.0  WIN_20210416_08_06_54_Pro            1.0      Stagiaire   \n",
       "\n",
       "       sexe  stress  diapo  \n",
       "0         F     1.0      1  \n",
       "1         F     1.0      1  \n",
       "2         F     1.0      1  \n",
       "3         F     1.0      1  \n",
       "4         F     1.0      1  \n",
       "...     ...     ...    ...  \n",
       "78139     F     1.0     18  \n",
       "78140     F     1.0     18  \n",
       "78141     F     1.0     18  \n",
       "78142     F     1.0     18  \n",
       "78143     F     1.0     18  \n",
       "\n",
       "[2573701 rows x 60 columns]"
      ],
      "text/html": "<div>\n<style scoped>\n    .dataframe tbody tr th:only-of-type {\n        vertical-align: middle;\n    }\n\n    .dataframe tbody tr th {\n        vertical-align: top;\n    }\n\n    .dataframe thead th {\n        text-align: right;\n    }\n</style>\n<table border=\"1\" class=\"dataframe\">\n  <thead>\n    <tr style=\"text-align: right;\">\n      <th></th>\n      <th>frameIndex</th>\n      <th>frameTime</th>\n      <th>pcm_intensity_sma</th>\n      <th>pcm_loudness_sma</th>\n      <th>mfcc_sma[1]</th>\n      <th>mfcc_sma[2]</th>\n      <th>mfcc_sma[3]</th>\n      <th>mfcc_sma[4]</th>\n      <th>mfcc_sma[5]</th>\n      <th>mfcc_sma[6]</th>\n      <th>...</th>\n      <th>pcm_zcr_sma_de</th>\n      <th>voiceProb_sma_de</th>\n      <th>F0_sma_de</th>\n      <th>F0env_sma_de</th>\n      <th>video_name</th>\n      <th>stress_global</th>\n      <th>type_candidat</th>\n      <th>sexe</th>\n      <th>stress</th>\n      <th>diapo</th>\n    </tr>\n  </thead>\n  <tbody>\n    <tr>\n      <th>0</th>\n      <td>0</td>\n      <td>0.00</td>\n      <td>0.000000e+00</td>\n      <td>0.000000</td>\n      <td>-1.839101</td>\n      <td>2.378769</td>\n      <td>-2.217382</td>\n      <td>1.524796</td>\n      <td>-0.692341</td>\n      <td>0.101261</td>\n      <td>...</td>\n      <td>-0.000242</td>\n      <td>0.016226</td>\n      <td>0.0</td>\n      <td>0.0</td>\n      <td>WIN_20210409_10_26_11_Pro</td>\n      <td>0.0</td>\n      <td>Stagiaire</td>\n      <td>F</td>\n      <td>1.0</td>\n      <td>1</td>\n    </tr>\n    <tr>\n      <th>1</th>\n      <td>1</td>\n      <td>0.01</td>\n      <td>0.000000e+00</td>\n      <td>0.000000</td>\n      <td>-1.839101</td>\n      <td>2.378769</td>\n      <td>-2.217382</td>\n      <td>1.524796</td>\n      <td>-0.692341</td>\n      <td>0.101261</td>\n      <td>...</td>\n      <td>-0.000393</td>\n      <td>0.007565</td>\n      <td>0.0</td>\n      <td>0.0</td>\n      <td>WIN_20210409_10_26_11_Pro</td>\n      <td>0.0</td>\n      <td>Stagiaire</td>\n      <td>F</td>\n      <td>1.0</td>\n      <td>1</td>\n    </tr>\n    <tr>\n      <th>2</th>\n      <td>2</td>\n      <td>0.02</td>\n      <td>0.000000e+00</td>\n      <td>0.000000</td>\n      <td>-5.952965</td>\n      <td>6.019684</td>\n      <td>-3.599674</td>\n      <td>1.358609</td>\n      <td>-0.693720</td>\n      <td>0.796165</td>\n      <td>...</td>\n      <td>-0.000272</td>\n      <td>0.011002</td>\n      <td>0.0</td>\n      <td>0.0</td>\n      <td>WIN_20210409_10_26_11_Pro</td>\n      <td>0.0</td>\n      <td>Stagiaire</td>\n      <td>F</td>\n      <td>1.0</td>\n      <td>1</td>\n    </tr>\n    <tr>\n      <th>3</th>\n      <td>3</td>\n      <td>0.03</td>\n      <td>0.000000e+00</td>\n      <td>0.000000</td>\n      <td>-4.113864</td>\n      <td>3.640915</td>\n      <td>-1.382292</td>\n      <td>-0.166187</td>\n      <td>-0.001379</td>\n      <td>0.694905</td>\n      <td>...</td>\n      <td>0.000000</td>\n      <td>0.009354</td>\n      <td>0.0</td>\n      <td>0.0</td>\n      <td>WIN_20210409_10_26_11_Pro</td>\n      <td>0.0</td>\n      <td>Stagiaire</td>\n      <td>F</td>\n      <td>1.0</td>\n      <td>1</td>\n    </tr>\n    <tr>\n      <th>4</th>\n      <td>4</td>\n      <td>0.04</td>\n      <td>0.000000e+00</td>\n      <td>0.000000</td>\n      <td>-5.911817</td>\n      <td>5.975944</td>\n      <td>-3.576790</td>\n      <td>1.367325</td>\n      <td>-0.725028</td>\n      <td>0.827764</td>\n      <td>...</td>\n      <td>0.000272</td>\n      <td>0.007488</td>\n      <td>0.0</td>\n      <td>0.0</td>\n      <td>WIN_20210409_10_26_11_Pro</td>\n      <td>0.0</td>\n      <td>Stagiaire</td>\n      <td>F</td>\n      <td>1.0</td>\n      <td>1</td>\n    </tr>\n    <tr>\n      <th>...</th>\n      <td>...</td>\n      <td>...</td>\n      <td>...</td>\n      <td>...</td>\n      <td>...</td>\n      <td>...</td>\n      <td>...</td>\n      <td>...</td>\n      <td>...</td>\n      <td>...</td>\n      <td>...</td>\n      <td>...</td>\n      <td>...</td>\n      <td>...</td>\n      <td>...</td>\n      <td>...</td>\n      <td>...</td>\n      <td>...</td>\n      <td>...</td>\n      <td>...</td>\n      <td>...</td>\n    </tr>\n    <tr>\n      <th>78139</th>\n      <td>78139</td>\n      <td>781.39</td>\n      <td>8.054489e-12</td>\n      <td>0.029190</td>\n      <td>-19.760860</td>\n      <td>6.082466</td>\n      <td>-2.668031</td>\n      <td>5.229023</td>\n      <td>3.715201</td>\n      <td>-1.398331</td>\n      <td>...</td>\n      <td>-0.002025</td>\n      <td>0.012437</td>\n      <td>0.0</td>\n      <td>0.0</td>\n      <td>WIN_20210416_08_06_54_Pro</td>\n      <td>1.0</td>\n      <td>Stagiaire</td>\n      <td>F</td>\n      <td>1.0</td>\n      <td>18</td>\n    </tr>\n    <tr>\n      <th>78140</th>\n      <td>78140</td>\n      <td>781.40</td>\n      <td>4.319410e-12</td>\n      <td>0.023441</td>\n      <td>-21.733470</td>\n      <td>5.059051</td>\n      <td>-2.391827</td>\n      <td>4.356356</td>\n      <td>5.255848</td>\n      <td>-0.879569</td>\n      <td>...</td>\n      <td>-0.003778</td>\n      <td>0.021489</td>\n      <td>0.0</td>\n      <td>0.0</td>\n      <td>WIN_20210416_08_06_54_Pro</td>\n      <td>1.0</td>\n      <td>Stagiaire</td>\n      <td>F</td>\n      <td>1.0</td>\n      <td>18</td>\n    </tr>\n    <tr>\n      <th>78141</th>\n      <td>78141</td>\n      <td>781.41</td>\n      <td>3.975198e-12</td>\n      <td>0.022989</td>\n      <td>-21.913380</td>\n      <td>3.731894</td>\n      <td>-4.589119</td>\n      <td>0.219700</td>\n      <td>1.376662</td>\n      <td>-5.050643</td>\n      <td>...</td>\n      <td>-0.005409</td>\n      <td>0.040231</td>\n      <td>0.0</td>\n      <td>0.0</td>\n      <td>WIN_20210416_08_06_54_Pro</td>\n      <td>1.0</td>\n      <td>Stagiaire</td>\n      <td>F</td>\n      <td>1.0</td>\n      <td>18</td>\n    </tr>\n    <tr>\n      <th>78142</th>\n      <td>78142</td>\n      <td>781.42</td>\n      <td>3.662190e-12</td>\n      <td>0.022472</td>\n      <td>-22.256340</td>\n      <td>2.845562</td>\n      <td>-4.491580</td>\n      <td>2.111024</td>\n      <td>3.834707</td>\n      <td>-3.251046</td>\n      <td>...</td>\n      <td>-0.007011</td>\n      <td>0.052342</td>\n      <td>0.0</td>\n      <td>0.0</td>\n      <td>WIN_20210416_08_06_54_Pro</td>\n      <td>1.0</td>\n      <td>Stagiaire</td>\n      <td>F</td>\n      <td>1.0</td>\n      <td>18</td>\n    </tr>\n    <tr>\n      <th>78143</th>\n      <td>78143</td>\n      <td>781.43</td>\n      <td>4.642958e-12</td>\n      <td>0.025045</td>\n      <td>-20.920040</td>\n      <td>3.314881</td>\n      <td>-4.962385</td>\n      <td>3.169590</td>\n      <td>5.868731</td>\n      <td>-0.845365</td>\n      <td>...</td>\n      <td>-0.007827</td>\n      <td>0.036732</td>\n      <td>0.0</td>\n      <td>0.0</td>\n      <td>WIN_20210416_08_06_54_Pro</td>\n      <td>1.0</td>\n      <td>Stagiaire</td>\n      <td>F</td>\n      <td>1.0</td>\n      <td>18</td>\n    </tr>\n  </tbody>\n</table>\n<p>2573701 rows × 60 columns</p>\n</div>"
     },
     "metadata": {},
     "execution_count": 11
    }
   ],
   "source": [
    "df_total"
   ]
  },
  {
   "cell_type": "code",
   "execution_count": 12,
   "metadata": {},
   "outputs": [],
   "source": [
    "from scipy.stats import kurtosis, skew\n",
    "\n",
    "def percentil25(x): \n",
    "    return np.percentile(x, q=25)\n",
    "\n",
    "def percentil75(x): \n",
    "    return np.percentile(x, q=75)"
   ]
  },
  {
   "cell_type": "code",
   "execution_count": 13,
   "metadata": {},
   "outputs": [],
   "source": [
    "# Sequence as a whole with 9 agregators\n",
    "X = df_total.iloc[:,2:].groupby(['video_name','diapo']).agg({'mean','min','max', 'median', 'std', percentil25, percentil75, kurtosis, skew}).iloc[:,:-18]"
   ]
  },
  {
   "cell_type": "code",
   "execution_count": 14,
   "metadata": {},
   "outputs": [],
   "source": [
    "# Sequence as a whole with 4 agregators\n",
    "#X = df_total.iloc[:,2:].groupby(['video_name','diapo']).agg({'mean','std', kurtosis, skew}).iloc[:,:-8]"
   ]
  },
  {
   "cell_type": "code",
   "execution_count": 15,
   "metadata": {},
   "outputs": [
    {
     "output_type": "execute_result",
     "data": {
      "text/plain": [
       "(240, 468)"
      ]
     },
     "metadata": {},
     "execution_count": 15
    }
   ],
   "source": [
    "X.shape"
   ]
  },
  {
   "cell_type": "code",
   "execution_count": 16,
   "metadata": {},
   "outputs": [
    {
     "output_type": "execute_result",
     "data": {
      "text/plain": [
       "                                pcm_intensity_sma                             \\\n",
       "                                           median   percentil25     kurtosis   \n",
       "video_name                diapo                                                \n",
       "Test_pour_AFPA            1          6.973596e-11  3.821638e-11  3147.223384   \n",
       "                          8          1.126761e-08  7.489974e-11   123.403605   \n",
       "                          9          2.440317e-09  6.744114e-11   806.978682   \n",
       "                          10         7.152661e-10  5.894842e-11   796.376223   \n",
       "                          11         5.700818e-09  7.155228e-11   827.561300   \n",
       "...                                           ...           ...          ...   \n",
       "WIN_20210417_14_53_12_Pro 10         2.086603e-13  0.000000e+00    57.749166   \n",
       "                          11         6.047051e-11  0.000000e+00    38.423855   \n",
       "                          12         2.128377e-12  1.669329e-13   151.489483   \n",
       "                          17         2.809062e-08  4.173518e-14    28.893323   \n",
       "                          18         3.088259e-12  0.000000e+00  1139.092180   \n",
       "\n",
       "                                                                           \\\n",
       "                                          max           std           min   \n",
       "video_name                diapo                                             \n",
       "Test_pour_AFPA            1      1.795643e-05  2.748470e-07  3.338736e-13   \n",
       "                          8      2.552147e-05  1.159030e-06  2.629277e-12   \n",
       "                          9      4.923681e-05  1.142409e-06  1.293720e-12   \n",
       "                          10     5.260212e-05  1.367874e-06  1.544100e-12   \n",
       "                          11     6.543399e-05  1.446588e-06  8.346372e-13   \n",
       "...                                       ...           ...           ...   \n",
       "WIN_20210417_14_53_12_Pro 10     6.300619e-06  4.197754e-07  0.000000e+00   \n",
       "                          11     5.826240e-06  3.674674e-07  0.000000e+00   \n",
       "                          12     9.125553e-09  3.760241e-10  0.000000e+00   \n",
       "                          17     8.491340e-06  7.997970e-07  0.000000e+00   \n",
       "                          18     1.093041e-08  2.102153e-10  0.000000e+00   \n",
       "\n",
       "                                                                        \\\n",
       "                                         mean   percentil75       skew   \n",
       "video_name                diapo                                          \n",
       "Test_pour_AFPA            1      1.137963e-08  1.225284e-10  52.105435   \n",
       "                          8      3.445894e-07  1.725128e-07   8.773747   \n",
       "                          9      2.626492e-07  1.095324e-07  21.745491   \n",
       "                          10     2.443886e-07  9.802079e-08  23.775476   \n",
       "                          11     2.895271e-07  1.422769e-07  23.492521   \n",
       "...                                       ...           ...        ...   \n",
       "WIN_20210417_14_53_12_Pro 10     1.405645e-07  6.072907e-08   6.260282   \n",
       "                          11     1.452637e-07  1.018110e-07   4.954644   \n",
       "                          12     9.356331e-11  2.517556e-11  10.185306   \n",
       "                          17     3.458074e-07  3.321533e-07   4.658821   \n",
       "                          18     4.188290e-11  3.496205e-11  28.084717   \n",
       "\n",
       "                                pcm_loudness_sma  ... F0_sma_de F0env_sma_de  \\\n",
       "                                          median  ...      skew       median   \n",
       "video_name                diapo                   ...                          \n",
       "Test_pour_AFPA            1             0.050654  ...  0.299397          0.0   \n",
       "                          8             0.224705  ...  0.226955          0.0   \n",
       "                          9             0.141097  ...  0.105952          0.0   \n",
       "                          10            0.097588  ...  0.263135          0.0   \n",
       "                          11            0.182440  ...  0.101022          0.0   \n",
       "...                                          ...  ...       ...          ...   \n",
       "WIN_20210417_14_53_12_Pro 10            0.006974  ... -0.001834          0.0   \n",
       "                          11            0.046243  ...  0.204127          0.0   \n",
       "                          12            0.017041  ...  0.026411          0.0   \n",
       "                          17            0.290632  ... -0.009108          0.0   \n",
       "                          18            0.018920  ... -0.001887          0.0   \n",
       "\n",
       "                                                                             \\\n",
       "                                percentil25    kurtosis       max       std   \n",
       "video_name                diapo                                               \n",
       "Test_pour_AFPA            1        0.000000  107.037353  26.18164  1.365195   \n",
       "                          8       -0.013728   17.222096  22.83900  2.927649   \n",
       "                          9        0.000000   16.855897  18.95494  2.680991   \n",
       "                          10       0.000000   17.108387  24.69657  2.818565   \n",
       "                          11       0.000000   17.984408  25.46633  2.664616   \n",
       "...                                     ...         ...       ...       ...   \n",
       "WIN_20210417_14_53_12_Pro 10       0.000000   26.957948  26.75476  2.546922   \n",
       "                          11       0.000000   20.527725  27.31046  3.272803   \n",
       "                          12       0.000000    7.285871  20.30140  3.473876   \n",
       "                          17      -0.752408   14.204657  31.05795  4.059055   \n",
       "                          18       0.000000    7.272951  23.43566  3.639786   \n",
       "\n",
       "                                                                           \n",
       "                                      min      mean percentil75      skew  \n",
       "video_name                diapo                                            \n",
       "Test_pour_AFPA            1     -26.01620  0.022537    0.000000  0.658453  \n",
       "                          8     -24.63502 -0.033624    0.000000 -0.685625  \n",
       "                          9     -23.46243 -0.003646    0.000000 -0.435992  \n",
       "                          10    -23.93991 -0.000682    0.000000  0.340858  \n",
       "                          11    -23.62611 -0.001815    0.000000 -0.216397  \n",
       "...                                   ...       ...         ...       ...  \n",
       "WIN_20210417_14_53_12_Pro 10    -23.47108  0.002702    0.000000  0.239648  \n",
       "                          11    -28.25006  0.004515    0.000000 -0.526309  \n",
       "                          12    -23.18911 -0.006139    0.000000 -0.104068  \n",
       "                          17    -22.60160  0.042079    0.336533  0.709759  \n",
       "                          18    -25.61071 -0.006036    0.000000 -0.444417  \n",
       "\n",
       "[240 rows x 468 columns]"
      ],
      "text/html": "<div>\n<style scoped>\n    .dataframe tbody tr th:only-of-type {\n        vertical-align: middle;\n    }\n\n    .dataframe tbody tr th {\n        vertical-align: top;\n    }\n\n    .dataframe thead tr th {\n        text-align: left;\n    }\n\n    .dataframe thead tr:last-of-type th {\n        text-align: right;\n    }\n</style>\n<table border=\"1\" class=\"dataframe\">\n  <thead>\n    <tr>\n      <th></th>\n      <th></th>\n      <th colspan=\"9\" halign=\"left\">pcm_intensity_sma</th>\n      <th>pcm_loudness_sma</th>\n      <th>...</th>\n      <th>F0_sma_de</th>\n      <th colspan=\"9\" halign=\"left\">F0env_sma_de</th>\n    </tr>\n    <tr>\n      <th></th>\n      <th></th>\n      <th>median</th>\n      <th>percentil25</th>\n      <th>kurtosis</th>\n      <th>max</th>\n      <th>std</th>\n      <th>min</th>\n      <th>mean</th>\n      <th>percentil75</th>\n      <th>skew</th>\n      <th>median</th>\n      <th>...</th>\n      <th>skew</th>\n      <th>median</th>\n      <th>percentil25</th>\n      <th>kurtosis</th>\n      <th>max</th>\n      <th>std</th>\n      <th>min</th>\n      <th>mean</th>\n      <th>percentil75</th>\n      <th>skew</th>\n    </tr>\n    <tr>\n      <th>video_name</th>\n      <th>diapo</th>\n      <th></th>\n      <th></th>\n      <th></th>\n      <th></th>\n      <th></th>\n      <th></th>\n      <th></th>\n      <th></th>\n      <th></th>\n      <th></th>\n      <th></th>\n      <th></th>\n      <th></th>\n      <th></th>\n      <th></th>\n      <th></th>\n      <th></th>\n      <th></th>\n      <th></th>\n      <th></th>\n      <th></th>\n    </tr>\n  </thead>\n  <tbody>\n    <tr>\n      <th rowspan=\"5\" valign=\"top\">Test_pour_AFPA</th>\n      <th>1</th>\n      <td>6.973596e-11</td>\n      <td>3.821638e-11</td>\n      <td>3147.223384</td>\n      <td>1.795643e-05</td>\n      <td>2.748470e-07</td>\n      <td>3.338736e-13</td>\n      <td>1.137963e-08</td>\n      <td>1.225284e-10</td>\n      <td>52.105435</td>\n      <td>0.050654</td>\n      <td>...</td>\n      <td>0.299397</td>\n      <td>0.0</td>\n      <td>0.000000</td>\n      <td>107.037353</td>\n      <td>26.18164</td>\n      <td>1.365195</td>\n      <td>-26.01620</td>\n      <td>0.022537</td>\n      <td>0.000000</td>\n      <td>0.658453</td>\n    </tr>\n    <tr>\n      <th>8</th>\n      <td>1.126761e-08</td>\n      <td>7.489974e-11</td>\n      <td>123.403605</td>\n      <td>2.552147e-05</td>\n      <td>1.159030e-06</td>\n      <td>2.629277e-12</td>\n      <td>3.445894e-07</td>\n      <td>1.725128e-07</td>\n      <td>8.773747</td>\n      <td>0.224705</td>\n      <td>...</td>\n      <td>0.226955</td>\n      <td>0.0</td>\n      <td>-0.013728</td>\n      <td>17.222096</td>\n      <td>22.83900</td>\n      <td>2.927649</td>\n      <td>-24.63502</td>\n      <td>-0.033624</td>\n      <td>0.000000</td>\n      <td>-0.685625</td>\n    </tr>\n    <tr>\n      <th>9</th>\n      <td>2.440317e-09</td>\n      <td>6.744114e-11</td>\n      <td>806.978682</td>\n      <td>4.923681e-05</td>\n      <td>1.142409e-06</td>\n      <td>1.293720e-12</td>\n      <td>2.626492e-07</td>\n      <td>1.095324e-07</td>\n      <td>21.745491</td>\n      <td>0.141097</td>\n      <td>...</td>\n      <td>0.105952</td>\n      <td>0.0</td>\n      <td>0.000000</td>\n      <td>16.855897</td>\n      <td>18.95494</td>\n      <td>2.680991</td>\n      <td>-23.46243</td>\n      <td>-0.003646</td>\n      <td>0.000000</td>\n      <td>-0.435992</td>\n    </tr>\n    <tr>\n      <th>10</th>\n      <td>7.152661e-10</td>\n      <td>5.894842e-11</td>\n      <td>796.376223</td>\n      <td>5.260212e-05</td>\n      <td>1.367874e-06</td>\n      <td>1.544100e-12</td>\n      <td>2.443886e-07</td>\n      <td>9.802079e-08</td>\n      <td>23.775476</td>\n      <td>0.097588</td>\n      <td>...</td>\n      <td>0.263135</td>\n      <td>0.0</td>\n      <td>0.000000</td>\n      <td>17.108387</td>\n      <td>24.69657</td>\n      <td>2.818565</td>\n      <td>-23.93991</td>\n      <td>-0.000682</td>\n      <td>0.000000</td>\n      <td>0.340858</td>\n    </tr>\n    <tr>\n      <th>11</th>\n      <td>5.700818e-09</td>\n      <td>7.155228e-11</td>\n      <td>827.561300</td>\n      <td>6.543399e-05</td>\n      <td>1.446588e-06</td>\n      <td>8.346372e-13</td>\n      <td>2.895271e-07</td>\n      <td>1.422769e-07</td>\n      <td>23.492521</td>\n      <td>0.182440</td>\n      <td>...</td>\n      <td>0.101022</td>\n      <td>0.0</td>\n      <td>0.000000</td>\n      <td>17.984408</td>\n      <td>25.46633</td>\n      <td>2.664616</td>\n      <td>-23.62611</td>\n      <td>-0.001815</td>\n      <td>0.000000</td>\n      <td>-0.216397</td>\n    </tr>\n    <tr>\n      <th>...</th>\n      <th>...</th>\n      <td>...</td>\n      <td>...</td>\n      <td>...</td>\n      <td>...</td>\n      <td>...</td>\n      <td>...</td>\n      <td>...</td>\n      <td>...</td>\n      <td>...</td>\n      <td>...</td>\n      <td>...</td>\n      <td>...</td>\n      <td>...</td>\n      <td>...</td>\n      <td>...</td>\n      <td>...</td>\n      <td>...</td>\n      <td>...</td>\n      <td>...</td>\n      <td>...</td>\n      <td>...</td>\n    </tr>\n    <tr>\n      <th rowspan=\"5\" valign=\"top\">WIN_20210417_14_53_12_Pro</th>\n      <th>10</th>\n      <td>2.086603e-13</td>\n      <td>0.000000e+00</td>\n      <td>57.749166</td>\n      <td>6.300619e-06</td>\n      <td>4.197754e-07</td>\n      <td>0.000000e+00</td>\n      <td>1.405645e-07</td>\n      <td>6.072907e-08</td>\n      <td>6.260282</td>\n      <td>0.006974</td>\n      <td>...</td>\n      <td>-0.001834</td>\n      <td>0.0</td>\n      <td>0.000000</td>\n      <td>26.957948</td>\n      <td>26.75476</td>\n      <td>2.546922</td>\n      <td>-23.47108</td>\n      <td>0.002702</td>\n      <td>0.000000</td>\n      <td>0.239648</td>\n    </tr>\n    <tr>\n      <th>11</th>\n      <td>6.047051e-11</td>\n      <td>0.000000e+00</td>\n      <td>38.423855</td>\n      <td>5.826240e-06</td>\n      <td>3.674674e-07</td>\n      <td>0.000000e+00</td>\n      <td>1.452637e-07</td>\n      <td>1.018110e-07</td>\n      <td>4.954644</td>\n      <td>0.046243</td>\n      <td>...</td>\n      <td>0.204127</td>\n      <td>0.0</td>\n      <td>0.000000</td>\n      <td>20.527725</td>\n      <td>27.31046</td>\n      <td>3.272803</td>\n      <td>-28.25006</td>\n      <td>0.004515</td>\n      <td>0.000000</td>\n      <td>-0.526309</td>\n    </tr>\n    <tr>\n      <th>12</th>\n      <td>2.128377e-12</td>\n      <td>1.669329e-13</td>\n      <td>151.489483</td>\n      <td>9.125553e-09</td>\n      <td>3.760241e-10</td>\n      <td>0.000000e+00</td>\n      <td>9.356331e-11</td>\n      <td>2.517556e-11</td>\n      <td>10.185306</td>\n      <td>0.017041</td>\n      <td>...</td>\n      <td>0.026411</td>\n      <td>0.0</td>\n      <td>0.000000</td>\n      <td>7.285871</td>\n      <td>20.30140</td>\n      <td>3.473876</td>\n      <td>-23.18911</td>\n      <td>-0.006139</td>\n      <td>0.000000</td>\n      <td>-0.104068</td>\n    </tr>\n    <tr>\n      <th>17</th>\n      <td>2.809062e-08</td>\n      <td>4.173518e-14</td>\n      <td>28.893323</td>\n      <td>8.491340e-06</td>\n      <td>7.997970e-07</td>\n      <td>0.000000e+00</td>\n      <td>3.458074e-07</td>\n      <td>3.321533e-07</td>\n      <td>4.658821</td>\n      <td>0.290632</td>\n      <td>...</td>\n      <td>-0.009108</td>\n      <td>0.0</td>\n      <td>-0.752408</td>\n      <td>14.204657</td>\n      <td>31.05795</td>\n      <td>4.059055</td>\n      <td>-22.60160</td>\n      <td>0.042079</td>\n      <td>0.336533</td>\n      <td>0.709759</td>\n    </tr>\n    <tr>\n      <th>18</th>\n      <td>3.088259e-12</td>\n      <td>0.000000e+00</td>\n      <td>1139.092180</td>\n      <td>1.093041e-08</td>\n      <td>2.102153e-10</td>\n      <td>0.000000e+00</td>\n      <td>4.188290e-11</td>\n      <td>3.496205e-11</td>\n      <td>28.084717</td>\n      <td>0.018920</td>\n      <td>...</td>\n      <td>-0.001887</td>\n      <td>0.0</td>\n      <td>0.000000</td>\n      <td>7.272951</td>\n      <td>23.43566</td>\n      <td>3.639786</td>\n      <td>-25.61071</td>\n      <td>-0.006036</td>\n      <td>0.000000</td>\n      <td>-0.444417</td>\n    </tr>\n  </tbody>\n</table>\n<p>240 rows × 468 columns</p>\n</div>"
     },
     "metadata": {},
     "execution_count": 16
    }
   ],
   "source": [
    "X"
   ]
  },
  {
   "cell_type": "code",
   "execution_count": 17,
   "metadata": {},
   "outputs": [],
   "source": [
    "X_temp = df_total[['video_name','diapo','type_candidat','sexe']].groupby(['video_name','diapo']).agg({'type_candidat':'first','sexe':'first'})\n",
    "X_temp.loc[X_temp['type_candidat'] == 'Stagiaire','Stagiaire'] = 1\n",
    "X_temp.loc[X_temp['type_candidat'] != 'Stagiaire','Stagiaire'] = 0\n",
    "X_temp.loc[X_temp['sexe'] == 'F','Femme'] = 1\n",
    "X_temp.loc[X_temp['sexe'] != 'F','Femme'] = 0\n",
    "X_temp = X_temp.drop(['type_candidat','sexe'], axis=1)"
   ]
  },
  {
   "cell_type": "code",
   "execution_count": 19,
   "metadata": {},
   "outputs": [],
   "source": [
    "X = pd.concat([X,X_temp],axis=1)"
   ]
  },
  {
   "cell_type": "code",
   "execution_count": 20,
   "metadata": {},
   "outputs": [],
   "source": [
    "y = df_total.iloc[:,2:].groupby(['video_name','diapo']).agg({'stress':'mean'}).iloc[:,-1]"
   ]
  },
  {
   "cell_type": "code",
   "execution_count": 21,
   "metadata": {},
   "outputs": [
    {
     "output_type": "execute_result",
     "data": {
      "text/plain": [
       "((240, 470), (240,))"
      ]
     },
     "metadata": {},
     "execution_count": 21
    }
   ],
   "source": [
    "X.shape, y.shape"
   ]
  },
  {
   "cell_type": "code",
   "execution_count": 22,
   "metadata": {},
   "outputs": [],
   "source": [
    "X.to_pickle(directory_path + '/audio_' + features + '_data_X.p')\n",
    "y.to_pickle(directory_path + '/audio_' + features + '_data_y.p')"
   ]
  },
  {
   "cell_type": "code",
   "execution_count": 23,
   "metadata": {},
   "outputs": [],
   "source": [
    "from scipy.stats import kurtosis, skew\n",
    "X_audio = df_total.loc[df_total['diapo'].isin([8, 9, 10, 11, 17]),:].iloc[:,2:].groupby(['video_name','diapo']).agg({'mean','min','max', 'median', 'std', percentil25, percentil75, kurtosis, skew}).iloc[:,:-18]\n",
    "y_audio = df_total.loc[df_total['diapo'].isin([8, 9, 10, 11, 17]),:].iloc[:,2:].groupby(['video_name','diapo']).agg({'stress':'mean'}).iloc[:,-1]\n",
    "\n",
    "X_audio.to_pickle(directory_path + '/audio_' + features + '_data_X_audio.p')\n",
    "y_audio.to_pickle(directory_path + '/audio_' + features + '_data_y_audio.p')"
   ]
  },
  {
   "cell_type": "code",
   "execution_count": 24,
   "metadata": {},
   "outputs": [
    {
     "output_type": "execute_result",
     "data": {
      "text/plain": [
       "(150, 468)"
      ]
     },
     "metadata": {},
     "execution_count": 24
    }
   ],
   "source": [
    "X_audio.shape"
   ]
  },
  {
   "source": [
    "## Modèles"
   ],
   "cell_type": "markdown",
   "metadata": {}
  },
  {
   "cell_type": "code",
   "execution_count": 4,
   "metadata": {},
   "outputs": [],
   "source": [
    "X = pd.read_pickle(directory_path + '/audio_' + features + '_data_X.p')\n",
    "y = pd.read_pickle(directory_path + '/audio_' + features + '_data_y.p')\n",
    "\n",
    "X_audio = pd.read_pickle(directory_path + '/audio_' + features + '_data_X_audio.p')\n",
    "y_audio = pd.read_pickle(directory_path + '/audio_' + features + '_data_y_audio.p')"
   ]
  },
  {
   "cell_type": "code",
   "execution_count": 5,
   "metadata": {},
   "outputs": [
    {
     "output_type": "execute_result",
     "data": {
      "text/plain": [
       "((240, 623), (150, 621))"
      ]
     },
     "metadata": {},
     "execution_count": 5
    }
   ],
   "source": [
    "X.shape, X_audio.shape"
   ]
  },
  {
   "cell_type": "code",
   "execution_count": 6,
   "metadata": {},
   "outputs": [
    {
     "output_type": "execute_result",
     "data": {
      "text/plain": [
       "                                 (Loudness_sma3, kurtosis)  \\\n",
       "video_name                diapo                              \n",
       "Test_pour_AFPA            1                     195.631236   \n",
       "                          8                       1.922854   \n",
       "                          9                       2.268561   \n",
       "                          10                     10.863511   \n",
       "                          11                      9.862057   \n",
       "...                                                    ...   \n",
       "WIN_20210417_14_53_12_Pro 10                      2.940143   \n",
       "                          11                      1.568983   \n",
       "                          12                      4.232695   \n",
       "                          17                      0.669043   \n",
       "                          18                     -0.914318   \n",
       "\n",
       "                                 (Loudness_sma3, max)  \\\n",
       "video_name                diapo                         \n",
       "Test_pour_AFPA            1                  3.545050   \n",
       "                          8                  2.867280   \n",
       "                          9                  3.393920   \n",
       "                          10                 5.028640   \n",
       "                          11                 5.151010   \n",
       "...                                               ...   \n",
       "WIN_20210417_14_53_12_Pro 10                 3.264950   \n",
       "                          11                 2.660928   \n",
       "                          12                 0.384004   \n",
       "                          17                 3.344785   \n",
       "                          18                 0.203776   \n",
       "\n",
       "                                 (Loudness_sma3, percentil25)  \\\n",
       "video_name                diapo                                 \n",
       "Test_pour_AFPA            1                          0.114812   \n",
       "                          8                          0.117015   \n",
       "                          9                          0.112834   \n",
       "                          10                         0.111221   \n",
       "                          11                         0.113637   \n",
       "...                                                       ...   \n",
       "WIN_20210417_14_53_12_Pro 10                         0.001104   \n",
       "                          11                         0.001126   \n",
       "                          12                         0.014089   \n",
       "                          17                         0.006968   \n",
       "                          18                         0.001236   \n",
       "\n",
       "                                 (Loudness_sma3, median)  \\\n",
       "video_name                diapo                            \n",
       "Test_pour_AFPA            1                     0.119039   \n",
       "                          8                     0.282706   \n",
       "                          9                     0.209026   \n",
       "                          10                    0.148684   \n",
       "                          11                    0.252318   \n",
       "...                                                  ...   \n",
       "WIN_20210417_14_53_12_Pro 10                    0.013893   \n",
       "                          11                    0.081050   \n",
       "                          12                    0.029460   \n",
       "                          17                    0.488653   \n",
       "                          18                    0.034392   \n",
       "\n",
       "                                 (Loudness_sma3, std)  (Loudness_sma3, mean)  \\\n",
       "video_name                diapo                                                \n",
       "Test_pour_AFPA            1                  0.130805               0.136717   \n",
       "                          8                  0.424739               0.460516   \n",
       "                          9                  0.383514               0.411576   \n",
       "                          10                 0.391520               0.382675   \n",
       "                          11                 0.381967               0.408419   \n",
       "...                                               ...                    ...   \n",
       "WIN_20210417_14_53_12_Pro 10                 0.464786               0.301682   \n",
       "                          11                 0.431815               0.330021   \n",
       "                          12                 0.038861               0.041404   \n",
       "                          17                 0.708703               0.651603   \n",
       "                          18                 0.037630               0.041692   \n",
       "\n",
       "                                 (Loudness_sma3, percentil75)  \\\n",
       "video_name                diapo                                 \n",
       "Test_pour_AFPA            1                          0.124505   \n",
       "                          8                          0.711492   \n",
       "                          9                          0.639661   \n",
       "                          10                         0.590052   \n",
       "                          11                         0.605844   \n",
       "...                                                       ...   \n",
       "WIN_20210417_14_53_12_Pro 10                         0.547356   \n",
       "                          11                         0.586716   \n",
       "                          12                         0.058949   \n",
       "                          17                         1.049473   \n",
       "                          18                         0.075999   \n",
       "\n",
       "                                 (Loudness_sma3, skew)  (Loudness_sma3, min)  \\\n",
       "video_name                diapo                                                \n",
       "Test_pour_AFPA            1                  12.240252              0.083114   \n",
       "                          8                   1.370343              0.100229   \n",
       "                          9                   1.420768              0.099458   \n",
       "                          10                  2.289813              0.099492   \n",
       "                          11                  2.060058              0.098327   \n",
       "...                                                ...                   ...   \n",
       "WIN_20210417_14_53_12_Pro 10                  1.707042              0.001034   \n",
       "                          11                  1.397632              0.001034   \n",
       "                          12                  1.654525              0.001034   \n",
       "                          17                  1.121390              0.001034   \n",
       "                          18                  0.487773              0.001034   \n",
       "\n",
       "                                 (alphaRatio_sma3, kurtosis)  ...  \\\n",
       "video_name                diapo                               ...   \n",
       "Test_pour_AFPA            1                        35.764880  ...   \n",
       "                          8                         0.110346  ...   \n",
       "                          9                         0.410082  ...   \n",
       "                          10                        0.166996  ...   \n",
       "                          11                       -0.160992  ...   \n",
       "...                                                      ...  ...   \n",
       "WIN_20210417_14_53_12_Pro 10                        0.025470  ...   \n",
       "                          11                       -0.130052  ...   \n",
       "                          12                        0.938287  ...   \n",
       "                          17                        0.245458  ...   \n",
       "                          18                        0.822559  ...   \n",
       "\n",
       "                                 (F3amplitudeLogRelF0_sma3nz_de_de, max)  \\\n",
       "video_name                diapo                                            \n",
       "Test_pour_AFPA            1                                     131.8622   \n",
       "                          8                                     143.5802   \n",
       "                          9                                     151.9159   \n",
       "                          10                                    141.5019   \n",
       "                          11                                    154.1847   \n",
       "...                                                                  ...   \n",
       "WIN_20210417_14_53_12_Pro 10                                    201.0000   \n",
       "                          11                                    143.9756   \n",
       "                          12                                    116.6289   \n",
       "                          17                                    135.7129   \n",
       "                          18                                     68.0983   \n",
       "\n",
       "                                 (F3amplitudeLogRelF0_sma3nz_de_de, percentil25)  \\\n",
       "video_name                diapo                                                    \n",
       "Test_pour_AFPA            1                                             0.000000   \n",
       "                          8                                            -0.575755   \n",
       "                          9                                            -0.272000   \n",
       "                          10                                           -0.215863   \n",
       "                          11                                           -0.406947   \n",
       "...                                                                          ...   \n",
       "WIN_20210417_14_53_12_Pro 10                                            0.000000   \n",
       "                          11                                            0.000000   \n",
       "                          12                                            0.000000   \n",
       "                          17                                           -0.731520   \n",
       "                          18                                            0.000000   \n",
       "\n",
       "                                 (F3amplitudeLogRelF0_sma3nz_de_de, median)  \\\n",
       "video_name                diapo                                               \n",
       "Test_pour_AFPA            1                                             0.0   \n",
       "                          8                                             0.0   \n",
       "                          9                                             0.0   \n",
       "                          10                                            0.0   \n",
       "                          11                                            0.0   \n",
       "...                                                                     ...   \n",
       "WIN_20210417_14_53_12_Pro 10                                            0.0   \n",
       "                          11                                            0.0   \n",
       "                          12                                            0.0   \n",
       "                          17                                            0.0   \n",
       "                          18                                            0.0   \n",
       "\n",
       "                                 (F3amplitudeLogRelF0_sma3nz_de_de, std)  \\\n",
       "video_name                diapo                                            \n",
       "Test_pour_AFPA            1                                     8.210914   \n",
       "                          8                                    21.556528   \n",
       "                          9                                    19.785368   \n",
       "                          10                                   18.762260   \n",
       "                          11                                   19.736843   \n",
       "...                                                                  ...   \n",
       "WIN_20210417_14_53_12_Pro 10                                   16.854526   \n",
       "                          11                                   19.730021   \n",
       "                          12                                    8.419112   \n",
       "                          17                                   18.815206   \n",
       "                          18                                    4.080975   \n",
       "\n",
       "                                 (F3amplitudeLogRelF0_sma3nz_de_de, mean)  \\\n",
       "video_name                diapo                                             \n",
       "Test_pour_AFPA            1                                 -6.270232e-18   \n",
       "                          8                                  2.415845e-17   \n",
       "                          9                                 -3.301512e-17   \n",
       "                          10                                 8.702810e-03   \n",
       "                          11                                -6.073836e-03   \n",
       "...                                                                   ...   \n",
       "WIN_20210417_14_53_12_Pro 10                                -4.242046e-18   \n",
       "                          11                                 9.621933e-18   \n",
       "                          12                                 2.647985e-18   \n",
       "                          17                                -6.615398e-17   \n",
       "                          18                                 0.000000e+00   \n",
       "\n",
       "                                 (F3amplitudeLogRelF0_sma3nz_de_de, percentil75)  \\\n",
       "video_name                diapo                                                    \n",
       "Test_pour_AFPA            1                                             0.000000   \n",
       "                          8                                             0.485107   \n",
       "                          9                                             0.193978   \n",
       "                          10                                            0.000000   \n",
       "                          11                                            0.449439   \n",
       "...                                                                          ...   \n",
       "WIN_20210417_14_53_12_Pro 10                                            0.000000   \n",
       "                          11                                            0.000000   \n",
       "                          12                                            0.000000   \n",
       "                          17                                            0.753908   \n",
       "                          18                                            0.000000   \n",
       "\n",
       "                                 (F3amplitudeLogRelF0_sma3nz_de_de, skew)  \\\n",
       "video_name                diapo                                             \n",
       "Test_pour_AFPA            1                                     -0.448768   \n",
       "                          8                                      0.023731   \n",
       "                          9                                      0.180785   \n",
       "                          10                                     0.191598   \n",
       "                          11                                     0.074909   \n",
       "...                                                                   ...   \n",
       "WIN_20210417_14_53_12_Pro 10                                    -0.110385   \n",
       "                          11                                    -0.007796   \n",
       "                          12                                    -1.313023   \n",
       "                          17                                     0.199953   \n",
       "                          18                                    -6.435661   \n",
       "\n",
       "                                 (F3amplitudeLogRelF0_sma3nz_de_de, min)  \\\n",
       "video_name                diapo                                            \n",
       "Test_pour_AFPA            1                                  -133.887694   \n",
       "                          8                                  -158.937280   \n",
       "                          9                                  -161.495940   \n",
       "                          10                                 -160.932650   \n",
       "                          11                                 -158.581520   \n",
       "...                                                                  ...   \n",
       "WIN_20210417_14_53_12_Pro 10                                 -295.940550   \n",
       "                          11                                 -160.083260   \n",
       "                          12                                 -144.071920   \n",
       "                          17                                 -146.911680   \n",
       "                          18                                 -129.773418   \n",
       "\n",
       "                                 Stagiaire  Femme  \n",
       "video_name                diapo                    \n",
       "Test_pour_AFPA            1            1.0    0.0  \n",
       "                          8            1.0    0.0  \n",
       "                          9            1.0    0.0  \n",
       "                          10           1.0    0.0  \n",
       "                          11           1.0    0.0  \n",
       "...                                    ...    ...  \n",
       "WIN_20210417_14_53_12_Pro 10           1.0    1.0  \n",
       "                          11           1.0    1.0  \n",
       "                          12           1.0    1.0  \n",
       "                          17           1.0    1.0  \n",
       "                          18           1.0    1.0  \n",
       "\n",
       "[240 rows x 623 columns]"
      ],
      "text/html": "<div>\n<style scoped>\n    .dataframe tbody tr th:only-of-type {\n        vertical-align: middle;\n    }\n\n    .dataframe tbody tr th {\n        vertical-align: top;\n    }\n\n    .dataframe thead th {\n        text-align: right;\n    }\n</style>\n<table border=\"1\" class=\"dataframe\">\n  <thead>\n    <tr style=\"text-align: right;\">\n      <th></th>\n      <th></th>\n      <th>(Loudness_sma3, kurtosis)</th>\n      <th>(Loudness_sma3, max)</th>\n      <th>(Loudness_sma3, percentil25)</th>\n      <th>(Loudness_sma3, median)</th>\n      <th>(Loudness_sma3, std)</th>\n      <th>(Loudness_sma3, mean)</th>\n      <th>(Loudness_sma3, percentil75)</th>\n      <th>(Loudness_sma3, skew)</th>\n      <th>(Loudness_sma3, min)</th>\n      <th>(alphaRatio_sma3, kurtosis)</th>\n      <th>...</th>\n      <th>(F3amplitudeLogRelF0_sma3nz_de_de, max)</th>\n      <th>(F3amplitudeLogRelF0_sma3nz_de_de, percentil25)</th>\n      <th>(F3amplitudeLogRelF0_sma3nz_de_de, median)</th>\n      <th>(F3amplitudeLogRelF0_sma3nz_de_de, std)</th>\n      <th>(F3amplitudeLogRelF0_sma3nz_de_de, mean)</th>\n      <th>(F3amplitudeLogRelF0_sma3nz_de_de, percentil75)</th>\n      <th>(F3amplitudeLogRelF0_sma3nz_de_de, skew)</th>\n      <th>(F3amplitudeLogRelF0_sma3nz_de_de, min)</th>\n      <th>Stagiaire</th>\n      <th>Femme</th>\n    </tr>\n    <tr>\n      <th>video_name</th>\n      <th>diapo</th>\n      <th></th>\n      <th></th>\n      <th></th>\n      <th></th>\n      <th></th>\n      <th></th>\n      <th></th>\n      <th></th>\n      <th></th>\n      <th></th>\n      <th></th>\n      <th></th>\n      <th></th>\n      <th></th>\n      <th></th>\n      <th></th>\n      <th></th>\n      <th></th>\n      <th></th>\n      <th></th>\n      <th></th>\n    </tr>\n  </thead>\n  <tbody>\n    <tr>\n      <th rowspan=\"5\" valign=\"top\">Test_pour_AFPA</th>\n      <th>1</th>\n      <td>195.631236</td>\n      <td>3.545050</td>\n      <td>0.114812</td>\n      <td>0.119039</td>\n      <td>0.130805</td>\n      <td>0.136717</td>\n      <td>0.124505</td>\n      <td>12.240252</td>\n      <td>0.083114</td>\n      <td>35.764880</td>\n      <td>...</td>\n      <td>131.8622</td>\n      <td>0.000000</td>\n      <td>0.0</td>\n      <td>8.210914</td>\n      <td>-6.270232e-18</td>\n      <td>0.000000</td>\n      <td>-0.448768</td>\n      <td>-133.887694</td>\n      <td>1.0</td>\n      <td>0.0</td>\n    </tr>\n    <tr>\n      <th>8</th>\n      <td>1.922854</td>\n      <td>2.867280</td>\n      <td>0.117015</td>\n      <td>0.282706</td>\n      <td>0.424739</td>\n      <td>0.460516</td>\n      <td>0.711492</td>\n      <td>1.370343</td>\n      <td>0.100229</td>\n      <td>0.110346</td>\n      <td>...</td>\n      <td>143.5802</td>\n      <td>-0.575755</td>\n      <td>0.0</td>\n      <td>21.556528</td>\n      <td>2.415845e-17</td>\n      <td>0.485107</td>\n      <td>0.023731</td>\n      <td>-158.937280</td>\n      <td>1.0</td>\n      <td>0.0</td>\n    </tr>\n    <tr>\n      <th>9</th>\n      <td>2.268561</td>\n      <td>3.393920</td>\n      <td>0.112834</td>\n      <td>0.209026</td>\n      <td>0.383514</td>\n      <td>0.411576</td>\n      <td>0.639661</td>\n      <td>1.420768</td>\n      <td>0.099458</td>\n      <td>0.410082</td>\n      <td>...</td>\n      <td>151.9159</td>\n      <td>-0.272000</td>\n      <td>0.0</td>\n      <td>19.785368</td>\n      <td>-3.301512e-17</td>\n      <td>0.193978</td>\n      <td>0.180785</td>\n      <td>-161.495940</td>\n      <td>1.0</td>\n      <td>0.0</td>\n    </tr>\n    <tr>\n      <th>10</th>\n      <td>10.863511</td>\n      <td>5.028640</td>\n      <td>0.111221</td>\n      <td>0.148684</td>\n      <td>0.391520</td>\n      <td>0.382675</td>\n      <td>0.590052</td>\n      <td>2.289813</td>\n      <td>0.099492</td>\n      <td>0.166996</td>\n      <td>...</td>\n      <td>141.5019</td>\n      <td>-0.215863</td>\n      <td>0.0</td>\n      <td>18.762260</td>\n      <td>8.702810e-03</td>\n      <td>0.000000</td>\n      <td>0.191598</td>\n      <td>-160.932650</td>\n      <td>1.0</td>\n      <td>0.0</td>\n    </tr>\n    <tr>\n      <th>11</th>\n      <td>9.862057</td>\n      <td>5.151010</td>\n      <td>0.113637</td>\n      <td>0.252318</td>\n      <td>0.381967</td>\n      <td>0.408419</td>\n      <td>0.605844</td>\n      <td>2.060058</td>\n      <td>0.098327</td>\n      <td>-0.160992</td>\n      <td>...</td>\n      <td>154.1847</td>\n      <td>-0.406947</td>\n      <td>0.0</td>\n      <td>19.736843</td>\n      <td>-6.073836e-03</td>\n      <td>0.449439</td>\n      <td>0.074909</td>\n      <td>-158.581520</td>\n      <td>1.0</td>\n      <td>0.0</td>\n    </tr>\n    <tr>\n      <th>...</th>\n      <th>...</th>\n      <td>...</td>\n      <td>...</td>\n      <td>...</td>\n      <td>...</td>\n      <td>...</td>\n      <td>...</td>\n      <td>...</td>\n      <td>...</td>\n      <td>...</td>\n      <td>...</td>\n      <td>...</td>\n      <td>...</td>\n      <td>...</td>\n      <td>...</td>\n      <td>...</td>\n      <td>...</td>\n      <td>...</td>\n      <td>...</td>\n      <td>...</td>\n      <td>...</td>\n      <td>...</td>\n    </tr>\n    <tr>\n      <th rowspan=\"5\" valign=\"top\">WIN_20210417_14_53_12_Pro</th>\n      <th>10</th>\n      <td>2.940143</td>\n      <td>3.264950</td>\n      <td>0.001104</td>\n      <td>0.013893</td>\n      <td>0.464786</td>\n      <td>0.301682</td>\n      <td>0.547356</td>\n      <td>1.707042</td>\n      <td>0.001034</td>\n      <td>0.025470</td>\n      <td>...</td>\n      <td>201.0000</td>\n      <td>0.000000</td>\n      <td>0.0</td>\n      <td>16.854526</td>\n      <td>-4.242046e-18</td>\n      <td>0.000000</td>\n      <td>-0.110385</td>\n      <td>-295.940550</td>\n      <td>1.0</td>\n      <td>1.0</td>\n    </tr>\n    <tr>\n      <th>11</th>\n      <td>1.568983</td>\n      <td>2.660928</td>\n      <td>0.001126</td>\n      <td>0.081050</td>\n      <td>0.431815</td>\n      <td>0.330021</td>\n      <td>0.586716</td>\n      <td>1.397632</td>\n      <td>0.001034</td>\n      <td>-0.130052</td>\n      <td>...</td>\n      <td>143.9756</td>\n      <td>0.000000</td>\n      <td>0.0</td>\n      <td>19.730021</td>\n      <td>9.621933e-18</td>\n      <td>0.000000</td>\n      <td>-0.007796</td>\n      <td>-160.083260</td>\n      <td>1.0</td>\n      <td>1.0</td>\n    </tr>\n    <tr>\n      <th>12</th>\n      <td>4.232695</td>\n      <td>0.384004</td>\n      <td>0.014089</td>\n      <td>0.029460</td>\n      <td>0.038861</td>\n      <td>0.041404</td>\n      <td>0.058949</td>\n      <td>1.654525</td>\n      <td>0.001034</td>\n      <td>0.938287</td>\n      <td>...</td>\n      <td>116.6289</td>\n      <td>0.000000</td>\n      <td>0.0</td>\n      <td>8.419112</td>\n      <td>2.647985e-18</td>\n      <td>0.000000</td>\n      <td>-1.313023</td>\n      <td>-144.071920</td>\n      <td>1.0</td>\n      <td>1.0</td>\n    </tr>\n    <tr>\n      <th>17</th>\n      <td>0.669043</td>\n      <td>3.344785</td>\n      <td>0.006968</td>\n      <td>0.488653</td>\n      <td>0.708703</td>\n      <td>0.651603</td>\n      <td>1.049473</td>\n      <td>1.121390</td>\n      <td>0.001034</td>\n      <td>0.245458</td>\n      <td>...</td>\n      <td>135.7129</td>\n      <td>-0.731520</td>\n      <td>0.0</td>\n      <td>18.815206</td>\n      <td>-6.615398e-17</td>\n      <td>0.753908</td>\n      <td>0.199953</td>\n      <td>-146.911680</td>\n      <td>1.0</td>\n      <td>1.0</td>\n    </tr>\n    <tr>\n      <th>18</th>\n      <td>-0.914318</td>\n      <td>0.203776</td>\n      <td>0.001236</td>\n      <td>0.034392</td>\n      <td>0.037630</td>\n      <td>0.041692</td>\n      <td>0.075999</td>\n      <td>0.487773</td>\n      <td>0.001034</td>\n      <td>0.822559</td>\n      <td>...</td>\n      <td>68.0983</td>\n      <td>0.000000</td>\n      <td>0.0</td>\n      <td>4.080975</td>\n      <td>0.000000e+00</td>\n      <td>0.000000</td>\n      <td>-6.435661</td>\n      <td>-129.773418</td>\n      <td>1.0</td>\n      <td>1.0</td>\n    </tr>\n  </tbody>\n</table>\n<p>240 rows × 623 columns</p>\n</div>"
     },
     "metadata": {},
     "execution_count": 6
    }
   ],
   "source": [
    "X"
   ]
  },
  {
   "cell_type": "code",
   "execution_count": 28,
   "metadata": {},
   "outputs": [],
   "source": [
    "X = X.fillna(0)"
   ]
  },
  {
   "source": [
    "### Leave one interview out\n",
    "#### All diapos"
   ],
   "cell_type": "markdown",
   "metadata": {}
  },
  {
   "cell_type": "code",
   "execution_count": 7,
   "metadata": {},
   "outputs": [],
   "source": [
    "diapo_selection = '_all'"
   ]
  },
  {
   "cell_type": "code",
   "execution_count": 8,
   "metadata": {},
   "outputs": [],
   "source": [
    "from sklearn.ensemble import RandomForestClassifier\n",
    "from sklearn.model_selection import LeaveOneGroupOut\n",
    "\n",
    "models_list = [RandomForestClassifier(random_state = 42, n_jobs=-1)]\n",
    "parameters_list = [\n",
    "                {'n_estimators': [50, 100, 150, 200], 'max_depth':[3, 4, 5, 6, 10, 15, 20, 25], 'class_weight':[None,'balanced']}\n",
    "                ]\n",
    "groups = X.reset_index()['video_name']\n",
    "loo = LeaveOneGroupOut()\n",
    "cv_loo = loo.split(X, y, groups)"
   ]
  },
  {
   "cell_type": "code",
   "execution_count": 9,
   "metadata": {},
   "outputs": [
    {
     "output_type": "stream",
     "name": "stdout",
     "text": [
      "Fitting 30 folds for each of 64 candidates, totalling 1920 fits\n",
      "[Parallel(n_jobs=-1)]: Using backend LokyBackend with 8 concurrent workers.\n",
      "[Parallel(n_jobs=-1)]: Done  34 tasks      | elapsed:    3.8s\n",
      "[Parallel(n_jobs=-1)]: Done 184 tasks      | elapsed:   16.8s\n",
      "[Parallel(n_jobs=-1)]: Done 434 tasks      | elapsed:   41.5s\n",
      "[Parallel(n_jobs=-1)]: Done 784 tasks      | elapsed:  1.3min\n",
      "[Parallel(n_jobs=-1)]: Done 1234 tasks      | elapsed:  2.1min\n",
      "[Parallel(n_jobs=-1)]: Done 1784 tasks      | elapsed:  3.1min\n",
      "[Parallel(n_jobs=-1)]: Done 1920 out of 1920 | elapsed:  3.4min finished\n",
      "Best estimator RandomForestClassifier(class_weight='balanced', max_depth=10, n_jobs=-1,\n",
      "                       random_state=42)\n",
      "Best results 0.49493446368446375\n",
      "Best params {'class_weight': 'balanced', 'max_depth': 10, 'n_estimators': 100}\n",
      "accuracy (mean, std) 0.49583333333333335 0.2404061956125276\n",
      "f1 (mean, std) 0.49493446368446375 0.2415164017231874\n",
      "balanced accuracy (mean, std) 0.48284391534391535 0.26504868425188527\n",
      "precision (mean, std) 0.6219890873015873 0.26601836808950924\n",
      "recall (mean, std) 0.49583333333333335 0.2404061956125276\n",
      "\n"
     ]
    }
   ],
   "source": [
    "best_result, y_predict, result_list = runGridSearchClassifiers(X, y, cv_loo, models_list, parameters_list, \n",
    "                                                                output_predict=True, n_jobs=-1, verbose=True)"
   ]
  },
  {
   "cell_type": "code",
   "execution_count": 10,
   "metadata": {},
   "outputs": [],
   "source": [
    "# Saving predictions\n",
    "df_ypredict = pd.concat([X.reset_index()[['video_name','diapo']],pd.DataFrame(y_predict, columns=['ypredict'])],axis=1)\n",
    "df_ypredict.to_csv('ypredict_' + features + '_diapo' + diapo_selection + '.csv')"
   ]
  },
  {
   "source": [
    "### Audio diapos only"
   ],
   "cell_type": "markdown",
   "metadata": {}
  },
  {
   "cell_type": "code",
   "execution_count": 11,
   "metadata": {},
   "outputs": [],
   "source": [
    "diapo_selection = '_audio_only'"
   ]
  },
  {
   "cell_type": "code",
   "execution_count": 12,
   "metadata": {},
   "outputs": [],
   "source": [
    "from sklearn.ensemble import RandomForestClassifier\n",
    "from sklearn.model_selection import LeaveOneGroupOut\n",
    "\n",
    "models_list = [RandomForestClassifier(random_state = 42, n_jobs=-1)]\n",
    "parameters_list = [\n",
    "                {'n_estimators': [50, 100, 150, 200], 'max_depth':[3, 4, 5, 6,7 ,8,9, 10, 15, 20, 25], 'class_weight':[None,'balanced']}\n",
    "                ]\n",
    "groups = X_audio.reset_index()['video_name']\n",
    "loo = LeaveOneGroupOut()\n",
    "cv_loo = loo.split(X_audio, y_audio, groups)"
   ]
  },
  {
   "cell_type": "code",
   "execution_count": 13,
   "metadata": {},
   "outputs": [
    {
     "output_type": "stream",
     "name": "stdout",
     "text": [
      "Fitting 30 folds for each of 88 candidates, totalling 2640 fits\n",
      "[Parallel(n_jobs=-1)]: Using backend LokyBackend with 8 concurrent workers.\n",
      "[Parallel(n_jobs=-1)]: Done  34 tasks      | elapsed:    2.1s\n",
      "[Parallel(n_jobs=-1)]: Done 184 tasks      | elapsed:   15.1s\n",
      "[Parallel(n_jobs=-1)]: Done 434 tasks      | elapsed:   38.7s\n",
      "[Parallel(n_jobs=-1)]: Done 784 tasks      | elapsed:  1.2min\n",
      "[Parallel(n_jobs=-1)]: Done 1234 tasks      | elapsed:  2.0min\n",
      "[Parallel(n_jobs=-1)]: Done 1784 tasks      | elapsed:  2.9min\n",
      "[Parallel(n_jobs=-1)]: Done 2434 tasks      | elapsed:  4.0min\n",
      "[Parallel(n_jobs=-1)]: Done 2640 out of 2640 | elapsed:  4.3min finished\n",
      "Best estimator RandomForestClassifier(max_depth=9, n_estimators=200, n_jobs=-1,\n",
      "                       random_state=42)\n",
      "Best results 0.47846560846560837\n",
      "Best params {'class_weight': None, 'max_depth': 9, 'n_estimators': 200}\n",
      "accuracy (mean, std) 0.48000000000000004 0.26127890589687236\n",
      "f1 (mean, std) 0.47846560846560837 0.28628211749819393\n",
      "balanced accuracy (mean, std) 0.5044444444444445 0.24276315745451152\n",
      "precision (mean, std) 0.6238888888888888 0.36771172619355896\n",
      "recall (mean, std) 0.48000000000000004 0.26127890589687236\n",
      "\n"
     ]
    }
   ],
   "source": [
    "best_result, y_predict, result_list = runGridSearchClassifiers(X_audio, y_audio, cv_loo, models_list, parameters_list, \n",
    "                                                                output_predict=True, n_jobs=-1, verbose=True)"
   ]
  },
  {
   "cell_type": "code",
   "execution_count": 14,
   "metadata": {},
   "outputs": [],
   "source": [
    "df_ypredict = pd.concat([X_audio.reset_index()[['video_name','diapo']],pd.DataFrame(y_predict, columns=['ypredict'])],axis=1)\n",
    "df_ypredict.to_csv('ypredict_' + features + '_diapo' + diapo_selection + '.csv')"
   ]
  },
  {
   "source": [
    "## Stress global\n",
    "### All diapos"
   ],
   "cell_type": "markdown",
   "metadata": {}
  },
  {
   "cell_type": "code",
   "execution_count": 15,
   "metadata": {},
   "outputs": [],
   "source": [
    "diapo_selection = '_all'"
   ]
  },
  {
   "cell_type": "code",
   "execution_count": 16,
   "metadata": {},
   "outputs": [],
   "source": [
    "df_ypredict = pd.read_csv('ypredict_' + features + '_diapo' + diapo_selection + '.csv')\n",
    "df_ypredict = df_ypredict.drop(df_ypredict.columns[0],axis=1)\n",
    "df_ypredict.columns = ['video_name','diapo','ypredict']\n",
    "ypredict_stress_diapo = df_ypredict.pivot_table(values='ypredict', columns='diapo',index='video_name',aggfunc='mean')"
   ]
  },
  {
   "cell_type": "code",
   "execution_count": 17,
   "metadata": {},
   "outputs": [],
   "source": [
    "#df_annotations_stress_diapo = df_total.pivot_table(values='stress', index='video_name',columns='diapo', aggfunc='mean')\n",
    "#df_annotations_stress_global = df_total.pivot_table(values='stress_global', index='video_name', aggfunc='mean')\n",
    "#df_annotations_stress = df_annotations_stress_diapo.merge(df_annotations_stress_global, on='video_name')\n",
    "#df_annotations_stress"
   ]
  },
  {
   "cell_type": "code",
   "execution_count": 18,
   "metadata": {},
   "outputs": [],
   "source": [
    "df_annotations_stress = pd.read_csv('annotations.csv')"
   ]
  },
  {
   "source": [
    "#### En utilisant les annotations comme X"
   ],
   "cell_type": "markdown",
   "metadata": {}
  },
  {
   "cell_type": "code",
   "execution_count": 19,
   "metadata": {},
   "outputs": [],
   "source": [
    "from sklearn.linear_model import LogisticRegression\n",
    "from sklearn.neighbors import KNeighborsClassifier\n",
    "from sklearn.ensemble import RandomForestClassifier\n",
    "\n",
    "models_list = [\n",
    "                LogisticRegression(multi_class='multinomial', fit_intercept=True, random_state=42),\n",
    "                KNeighborsClassifier(),\n",
    "                RandomForestClassifier(random_state = 42, n_jobs=-1)\n",
    "                ]\n",
    "\n",
    "parameters_list = [\n",
    "                    {'C': [0.01, 0.05, 0.1, 0.5, 1, 2], 'class_weight' : [None, 'balanced']},\n",
    "                    {'n_neighbors': [4, 5, 6, 7, 8, 9, 10, 11, 12,  15, 20], 'weights' : ['uniform', 'distance'], 'p': [1, 2]},\n",
    "                    {'n_estimators': [50, 100, 150, 200], 'max_depth':[3, 4, 5, 6, 10, 15, 20], 'class_weight':[None,'balanced']}\n",
    "                    ]\n",
    "X = df_annotations_stress.iloc[:,:-1].set_index('video_name')\n",
    "y = df_annotations_stress.iloc[:,-1]\n",
    "cv = 5"
   ]
  },
  {
   "cell_type": "code",
   "execution_count": 20,
   "metadata": {},
   "outputs": [
    {
     "output_type": "stream",
     "name": "stdout",
     "text": [
      "Fitting 5 folds for each of 12 candidates, totalling 60 fits\n",
      "[Parallel(n_jobs=-1)]: Using backend LokyBackend with 8 concurrent workers.\n",
      "[Parallel(n_jobs=-1)]: Done  45 out of  60 | elapsed:    0.3s remaining:    0.1s\n",
      "[Parallel(n_jobs=-1)]: Done  60 out of  60 | elapsed:    0.4s finished\n",
      "[Parallel(n_jobs=-1)]: Using backend LokyBackend with 8 concurrent workers.\n",
      "Best estimator LogisticRegression(C=0.1, multi_class='multinomial', random_state=42)\n",
      "Best results 0.7651587301587301\n",
      "Best params {'C': 0.1, 'class_weight': None}\n",
      "accuracy (mean, std) 0.8 0.0666666666666667\n",
      "f1 (mean, std) 0.7651587301587301 0.11176124986563704\n",
      "balanced accuracy (mean, std) 0.8 0.0666666666666667\n",
      "precision (mean, std) 0.8016666666666665 0.16758635142870432\n",
      "recall (mean, std) 0.8 0.0666666666666667\n",
      "\n",
      "Fitting 5 folds for each of 44 candidates, totalling 220 fits\n",
      "[Parallel(n_jobs=-1)]: Done  56 tasks      | elapsed:    0.2s\n",
      "[Parallel(n_jobs=-1)]: Done 220 out of 220 | elapsed:    0.6s finished\n",
      "[Parallel(n_jobs=-1)]: Using backend LokyBackend with 8 concurrent workers.\n",
      "Best estimator KNeighborsClassifier(n_neighbors=6, weights='distance')\n",
      "Best results 0.8114285714285714\n",
      "Best params {'n_neighbors': 6, 'p': 2, 'weights': 'distance'}\n",
      "accuracy (mean, std) 0.8333333333333334 0.10540925533894599\n",
      "f1 (mean, std) 0.8114285714285714 0.1285043916946314\n",
      "balanced accuracy (mean, std) 0.8 0.16329931618554522\n",
      "precision (mean, std) 0.8388888888888889 0.15530734164993737\n",
      "recall (mean, std) 0.8333333333333334 0.10540925533894599\n",
      "\n",
      "Fitting 5 folds for each of 56 candidates, totalling 280 fits\n",
      "[Parallel(n_jobs=-1)]: Done  34 tasks      | elapsed:    2.1s\n",
      "[Parallel(n_jobs=-1)]: Done 184 tasks      | elapsed:   10.8s\n",
      "[Parallel(n_jobs=-1)]: Done 280 out of 280 | elapsed:   16.9s finished\n",
      "Best estimator RandomForestClassifier(class_weight='balanced', max_depth=4, n_jobs=-1,\n",
      "                       random_state=42)\n",
      "Best results 0.7501587301587301\n",
      "Best params {'class_weight': 'balanced', 'max_depth': 4, 'n_estimators': 100}\n",
      "accuracy (mean, std) 0.7666666666666666 0.13333333333333336\n",
      "f1 (mean, std) 0.7501587301587301 0.14529697826233098\n",
      "balanced accuracy (mean, std) 0.7444444444444445 0.16703662642636563\n",
      "precision (mean, std) 0.7861111111111111 0.16282612099725385\n",
      "recall (mean, std) 0.7666666666666666 0.13333333333333336\n",
      "\n"
     ]
    }
   ],
   "source": [
    "best_result, y_predict, result_list = runGridSearchClassifiers(X, y, cv, models_list, parameters_list, \n",
    "                                                                output_predict=True, n_jobs=-1, verbose=True)"
   ]
  },
  {
   "cell_type": "code",
   "execution_count": 21,
   "metadata": {},
   "outputs": [
    {
     "output_type": "stream",
     "name": "stdout",
     "text": [
      "Accuracy 0.36666666666666664\nF1 0.3095238095238095\nBalanced accuracy 0.33888888888888885\nPrecision 0.27777777777777773\nRecall 0.36666666666666664\n"
     ]
    }
   ],
   "source": [
    "ypredict_stress_global = best_result['best_estimator'].predict(ypredict_stress_diapo)\n",
    "from sklearn.metrics import accuracy_score, f1_score, balanced_accuracy_score, precision_score, recall_score\n",
    "print('Accuracy',accuracy_score(y.values,ypredict_stress_global))\n",
    "print('F1',f1_score(y.values,ypredict_stress_global, average='weighted'))\n",
    "print('Balanced accuracy',balanced_accuracy_score(y.values,ypredict_stress_global))\n",
    "print('Precision',precision_score(y.values,ypredict_stress_global, average='weighted'))\n",
    "print('Recall',recall_score(y.values,ypredict_stress_global, average='weighted'))"
   ]
  },
  {
   "cell_type": "code",
   "execution_count": 22,
   "metadata": {},
   "outputs": [
    {
     "output_type": "execute_result",
     "data": {
      "text/plain": [
       "                         video_name  stress_global  predicted_stress_global\n",
       "0                    Test_pour_AFPA            1.0                      1.0\n",
       "1                           Video_1            0.0                      1.0\n",
       "2         WIN_20210323_19_17_40_Pro            1.0                      0.0\n",
       "3         WIN_20210329_10_16_02_Pro            1.0                      1.0\n",
       "4         WIN_20210330_13_10_29_Pro            0.0                      0.0\n",
       "5         WIN_20210331_21_22_52_Pro            1.0                      1.0\n",
       "6         WIN_20210402_14_27_50_Pro            1.0                      1.0\n",
       "7         WIN_20210402_19_04_53_Pro            2.0                      1.0\n",
       "8         WIN_20210403_18_49_15_Pro            2.0                      1.0\n",
       "9         WIN_20210404_10_58_27_Pro            1.0                      1.0\n",
       "10        WIN_20210404_21_41_12_Pro            0.0                      1.0\n",
       "11        WIN_20210405_15_09_16_Pro            1.0                      0.0\n",
       "12        WIN_20210406_15_06_15_Pro            2.0                      0.0\n",
       "13        WIN_20210406_18_35_52_Pro            0.0                      0.0\n",
       "14        WIN_20210406_18_49_10_Pro            1.0                      1.0\n",
       "15        WIN_20210406_21_05_52_Pro            2.0                      0.0\n",
       "16        WIN_20210407_09_04_05_Pro            2.0                      0.0\n",
       "17  WIN_20210407_14_54_56_Pro_edit2            0.0                      1.0\n",
       "18        WIN_20210408_11_48_58_Pro            2.0                      1.0\n",
       "19        WIN_20210408_14_00_44_Pro            0.0                      0.0\n",
       "20        WIN_20210408_14_02_19_Pro            0.0                      1.0\n",
       "21        WIN_20210408_14_11_32_Pro            2.0                      1.0\n",
       "22        WIN_20210408_15_20_51_Pro            0.0                      1.0\n",
       "23        WIN_20210408_16_04_32_Pro            0.0                      0.0\n",
       "24        WIN_20210409_10_26_11_Pro            0.0                      0.0\n",
       "25        WIN_20210413_15_38_01_Pro            1.0                      0.0\n",
       "26        WIN_20210414_06_24_52_Pro            2.0                      1.0\n",
       "27        WIN_20210415_15_41_24_Pro            0.0                      1.0\n",
       "28        WIN_20210416_08_06_54_Pro            1.0                      0.0\n",
       "29        WIN_20210417_14_53_12_Pro            0.0                      1.0"
      ],
      "text/html": "<div>\n<style scoped>\n    .dataframe tbody tr th:only-of-type {\n        vertical-align: middle;\n    }\n\n    .dataframe tbody tr th {\n        vertical-align: top;\n    }\n\n    .dataframe thead th {\n        text-align: right;\n    }\n</style>\n<table border=\"1\" class=\"dataframe\">\n  <thead>\n    <tr style=\"text-align: right;\">\n      <th></th>\n      <th>video_name</th>\n      <th>stress_global</th>\n      <th>predicted_stress_global</th>\n    </tr>\n  </thead>\n  <tbody>\n    <tr>\n      <th>0</th>\n      <td>Test_pour_AFPA</td>\n      <td>1.0</td>\n      <td>1.0</td>\n    </tr>\n    <tr>\n      <th>1</th>\n      <td>Video_1</td>\n      <td>0.0</td>\n      <td>1.0</td>\n    </tr>\n    <tr>\n      <th>2</th>\n      <td>WIN_20210323_19_17_40_Pro</td>\n      <td>1.0</td>\n      <td>0.0</td>\n    </tr>\n    <tr>\n      <th>3</th>\n      <td>WIN_20210329_10_16_02_Pro</td>\n      <td>1.0</td>\n      <td>1.0</td>\n    </tr>\n    <tr>\n      <th>4</th>\n      <td>WIN_20210330_13_10_29_Pro</td>\n      <td>0.0</td>\n      <td>0.0</td>\n    </tr>\n    <tr>\n      <th>5</th>\n      <td>WIN_20210331_21_22_52_Pro</td>\n      <td>1.0</td>\n      <td>1.0</td>\n    </tr>\n    <tr>\n      <th>6</th>\n      <td>WIN_20210402_14_27_50_Pro</td>\n      <td>1.0</td>\n      <td>1.0</td>\n    </tr>\n    <tr>\n      <th>7</th>\n      <td>WIN_20210402_19_04_53_Pro</td>\n      <td>2.0</td>\n      <td>1.0</td>\n    </tr>\n    <tr>\n      <th>8</th>\n      <td>WIN_20210403_18_49_15_Pro</td>\n      <td>2.0</td>\n      <td>1.0</td>\n    </tr>\n    <tr>\n      <th>9</th>\n      <td>WIN_20210404_10_58_27_Pro</td>\n      <td>1.0</td>\n      <td>1.0</td>\n    </tr>\n    <tr>\n      <th>10</th>\n      <td>WIN_20210404_21_41_12_Pro</td>\n      <td>0.0</td>\n      <td>1.0</td>\n    </tr>\n    <tr>\n      <th>11</th>\n      <td>WIN_20210405_15_09_16_Pro</td>\n      <td>1.0</td>\n      <td>0.0</td>\n    </tr>\n    <tr>\n      <th>12</th>\n      <td>WIN_20210406_15_06_15_Pro</td>\n      <td>2.0</td>\n      <td>0.0</td>\n    </tr>\n    <tr>\n      <th>13</th>\n      <td>WIN_20210406_18_35_52_Pro</td>\n      <td>0.0</td>\n      <td>0.0</td>\n    </tr>\n    <tr>\n      <th>14</th>\n      <td>WIN_20210406_18_49_10_Pro</td>\n      <td>1.0</td>\n      <td>1.0</td>\n    </tr>\n    <tr>\n      <th>15</th>\n      <td>WIN_20210406_21_05_52_Pro</td>\n      <td>2.0</td>\n      <td>0.0</td>\n    </tr>\n    <tr>\n      <th>16</th>\n      <td>WIN_20210407_09_04_05_Pro</td>\n      <td>2.0</td>\n      <td>0.0</td>\n    </tr>\n    <tr>\n      <th>17</th>\n      <td>WIN_20210407_14_54_56_Pro_edit2</td>\n      <td>0.0</td>\n      <td>1.0</td>\n    </tr>\n    <tr>\n      <th>18</th>\n      <td>WIN_20210408_11_48_58_Pro</td>\n      <td>2.0</td>\n      <td>1.0</td>\n    </tr>\n    <tr>\n      <th>19</th>\n      <td>WIN_20210408_14_00_44_Pro</td>\n      <td>0.0</td>\n      <td>0.0</td>\n    </tr>\n    <tr>\n      <th>20</th>\n      <td>WIN_20210408_14_02_19_Pro</td>\n      <td>0.0</td>\n      <td>1.0</td>\n    </tr>\n    <tr>\n      <th>21</th>\n      <td>WIN_20210408_14_11_32_Pro</td>\n      <td>2.0</td>\n      <td>1.0</td>\n    </tr>\n    <tr>\n      <th>22</th>\n      <td>WIN_20210408_15_20_51_Pro</td>\n      <td>0.0</td>\n      <td>1.0</td>\n    </tr>\n    <tr>\n      <th>23</th>\n      <td>WIN_20210408_16_04_32_Pro</td>\n      <td>0.0</td>\n      <td>0.0</td>\n    </tr>\n    <tr>\n      <th>24</th>\n      <td>WIN_20210409_10_26_11_Pro</td>\n      <td>0.0</td>\n      <td>0.0</td>\n    </tr>\n    <tr>\n      <th>25</th>\n      <td>WIN_20210413_15_38_01_Pro</td>\n      <td>1.0</td>\n      <td>0.0</td>\n    </tr>\n    <tr>\n      <th>26</th>\n      <td>WIN_20210414_06_24_52_Pro</td>\n      <td>2.0</td>\n      <td>1.0</td>\n    </tr>\n    <tr>\n      <th>27</th>\n      <td>WIN_20210415_15_41_24_Pro</td>\n      <td>0.0</td>\n      <td>1.0</td>\n    </tr>\n    <tr>\n      <th>28</th>\n      <td>WIN_20210416_08_06_54_Pro</td>\n      <td>1.0</td>\n      <td>0.0</td>\n    </tr>\n    <tr>\n      <th>29</th>\n      <td>WIN_20210417_14_53_12_Pro</td>\n      <td>0.0</td>\n      <td>1.0</td>\n    </tr>\n  </tbody>\n</table>\n</div>"
     },
     "metadata": {},
     "execution_count": 22
    }
   ],
   "source": [
    "pd.concat([X.reset_index().iloc[:,0],y, pd.DataFrame(ypredict_stress_global,columns=['predicted_stress_global'])],axis=1)"
   ]
  },
  {
   "source": [
    "#### En utilisant les prédictions comme annotations"
   ],
   "cell_type": "markdown",
   "metadata": {}
  },
  {
   "cell_type": "code",
   "execution_count": 23,
   "metadata": {},
   "outputs": [],
   "source": [
    "from sklearn.linear_model import LogisticRegression\n",
    "from sklearn.neighbors import KNeighborsClassifier\n",
    "from sklearn.ensemble import RandomForestClassifier\n",
    "from sklearn.model_selection import LeaveOneGroupOut\n",
    "\n",
    "models_list = [\n",
    "                LogisticRegression(multi_class='multinomial', fit_intercept=True, random_state=42),\n",
    "                KNeighborsClassifier(),\n",
    "                RandomForestClassifier(random_state = 42, n_jobs=-1)\n",
    "                ]\n",
    "\n",
    "parameters_list = [\n",
    "                    {'C': [0.01, 0.05, 0.1, 0.5, 1, 2, 3, 4 , 5, 10], 'class_weight' : [None, 'balanced']},\n",
    "                    {'n_neighbors': [4, 5, 6, 7, 8, 9, 10, 11, 12,  15, 20], 'weights' : ['uniform', 'distance'], 'p': [1, 2]},\n",
    "                    {'n_estimators': [50, 100, 150, 200], 'max_depth':[3, 4, 5, 6, 10, 15, 20], 'class_weight':[None,'balanced']}\n",
    "                    ]\n",
    "X = ypredict_stress_diapo\n",
    "y = df_annotations_stress.iloc[:,-1]\n",
    "groups = X.reset_index()['video_name']\n",
    "loo = LeaveOneGroupOut()\n",
    "cv_loo = loo.split(X, y, groups)"
   ]
  },
  {
   "cell_type": "code",
   "execution_count": 24,
   "metadata": {},
   "outputs": [
    {
     "output_type": "stream",
     "name": "stdout",
     "text": [
      "Fitting 5 folds for each of 20 candidates, totalling 100 fits\n",
      "[Parallel(n_jobs=-1)]: Using backend LokyBackend with 8 concurrent workers.\n",
      "[Parallel(n_jobs=-1)]: Done  56 tasks      | elapsed:    0.4s\n",
      "[Parallel(n_jobs=-1)]: Done 100 out of 100 | elapsed:    0.5s finished\n",
      "[Parallel(n_jobs=-1)]: Using backend LokyBackend with 8 concurrent workers.\n",
      "Best estimator LogisticRegression(C=10, multi_class='multinomial', random_state=42)\n",
      "Best results 0.5098412698412699\n",
      "Best params {'C': 10, 'class_weight': None}\n",
      "accuracy (mean, std) 0.5666666666666667 0.16996731711975951\n",
      "f1 (mean, std) 0.5098412698412699 0.20862095036746608\n",
      "balanced accuracy (mean, std) 0.5888888888888889 0.16329931618554522\n",
      "precision (mean, std) 0.5055555555555555 0.2631715396072669\n",
      "recall (mean, std) 0.5666666666666667 0.16996731711975951\n",
      "\n",
      "Fitting 5 folds for each of 44 candidates, totalling 220 fits\n",
      "[Parallel(n_jobs=-1)]: Done  56 tasks      | elapsed:    0.2s\n",
      "[Parallel(n_jobs=-1)]: Done 220 out of 220 | elapsed:    0.6s finished\n",
      "[Parallel(n_jobs=-1)]: Using backend LokyBackend with 8 concurrent workers.\n",
      "Best estimator KNeighborsClassifier(n_neighbors=8)\n",
      "Best results 0.36\n",
      "Best params {'n_neighbors': 8, 'p': 2, 'weights': 'uniform'}\n",
      "accuracy (mean, std) 0.4 0.08164965809277261\n",
      "f1 (mean, std) 0.36 0.024944382578492925\n",
      "balanced accuracy (mean, std) 0.4444444444444445 0.060858061945018464\n",
      "precision (mean, std) 0.3555555555555555 0.04444444444444444\n",
      "recall (mean, std) 0.4 0.08164965809277261\n",
      "\n",
      "Fitting 5 folds for each of 56 candidates, totalling 280 fits\n",
      "[Parallel(n_jobs=-1)]: Done  34 tasks      | elapsed:    2.3s\n",
      "[Parallel(n_jobs=-1)]: Done 184 tasks      | elapsed:   11.6s\n",
      "[Parallel(n_jobs=-1)]: Done 280 out of 280 | elapsed:   17.7s finished\n",
      "Best estimator RandomForestClassifier(class_weight='balanced', max_depth=6, n_estimators=150,\n",
      "                       n_jobs=-1, random_state=42)\n",
      "Best results 0.5019047619047619\n",
      "Best params {'class_weight': 'balanced', 'max_depth': 6, 'n_estimators': 150}\n",
      "accuracy (mean, std) 0.5333333333333333 0.19436506316151003\n",
      "f1 (mean, std) 0.5019047619047619 0.20787082447381236\n",
      "balanced accuracy (mean, std) 0.5333333333333333 0.22388268532899872\n",
      "precision (mean, std) 0.5138888888888888 0.2424794760310577\n",
      "recall (mean, std) 0.5333333333333333 0.19436506316151003\n",
      "\n"
     ]
    }
   ],
   "source": [
    "best_result, y_predict, result_list = runGridSearchClassifiers(X, y, cv, models_list, parameters_list, \n",
    "                                                                output_predict=True, n_jobs=-1, verbose=True)"
   ]
  },
  {
   "cell_type": "code",
   "execution_count": 25,
   "metadata": {},
   "outputs": [
    {
     "output_type": "execute_result",
     "data": {
      "text/plain": [
       "{'best_estimator': LogisticRegression(C=10, multi_class='multinomial', random_state=42),\n",
       " 'best_score': 0.5098412698412699,\n",
       " 'best_params': {'C': 10, 'class_weight': None},\n",
       " 'mean_test_f1_score': 0.5098412698412699,\n",
       " 'std_test_f1_score': 0.20862095036746608,\n",
       " 'mean_test_accuracy_score': 0.5666666666666667,\n",
       " 'std_test_accuracy_score': 0.16996731711975951,\n",
       " 'mean_test_balanced_accuracy_score': 0.5888888888888889,\n",
       " 'std_test_balanced_accuracy_score': 0.16329931618554522,\n",
       " 'mean_test_precision': 0.5055555555555555,\n",
       " 'std_test_precision': 0.2631715396072669,\n",
       " 'mean_test_recall': 0.5666666666666667,\n",
       " 'std_test_recall': 0.16996731711975951}"
      ]
     },
     "metadata": {},
     "execution_count": 25
    }
   ],
   "source": [
    "best_result"
   ]
  },
  {
   "source": [
    "### Audio diapos only"
   ],
   "cell_type": "markdown",
   "metadata": {}
  },
  {
   "cell_type": "code",
   "execution_count": 26,
   "metadata": {},
   "outputs": [],
   "source": [
    "diapo_selection = '_audio_only'"
   ]
  },
  {
   "cell_type": "code",
   "execution_count": 27,
   "metadata": {},
   "outputs": [],
   "source": [
    "df_ypredict = pd.read_csv('ypredict_' + features + '_diapo' + diapo_selection + '.csv')\n",
    "df_ypredict = df_ypredict.drop(df_ypredict.columns[0],axis=1)\n",
    "df_ypredict.columns = ['video_name','diapo','ypredict']\n",
    "ypredict_stress_diapo = df_ypredict.pivot_table(values='ypredict', columns='diapo',index='video_name',aggfunc='mean')"
   ]
  },
  {
   "source": [
    "#### En utilisant les annotations comme X"
   ],
   "cell_type": "markdown",
   "metadata": {}
  },
  {
   "cell_type": "code",
   "execution_count": 28,
   "metadata": {},
   "outputs": [],
   "source": [
    "from sklearn.linear_model import LogisticRegression\n",
    "from sklearn.neighbors import KNeighborsClassifier\n",
    "from sklearn.ensemble import RandomForestClassifier\n",
    "\n",
    "models_list = [\n",
    "                LogisticRegression(multi_class='multinomial', fit_intercept=True, random_state=42),\n",
    "                KNeighborsClassifier(),\n",
    "                RandomForestClassifier(random_state = 42, n_jobs=-1)\n",
    "                ]\n",
    "\n",
    "parameters_list = [\n",
    "                    {'C': [0.01, 0.05, 0.1, 0.5, 1, 2], 'class_weight' : [None, 'balanced']},\n",
    "                    {'n_neighbors': [4, 5, 6, 7, 8, 9, 10, 11, 12,  15, 20], 'weights' : ['uniform', 'distance'], 'p': [1, 2]},\n",
    "                    {'n_estimators': [50, 100, 150, 200], 'max_depth':[3, 4, 5, 6, 10, 15, 20], 'class_weight':[None,'balanced']}\n",
    "                    ]\n",
    "X = df_annotations_stress[['video_name','8','9','10','11','17','stress_global']].iloc[:,:-1].set_index('video_name')\n",
    "y = df_annotations_stress.iloc[:,-1]\n",
    "cv = 5"
   ]
  },
  {
   "cell_type": "code",
   "execution_count": 29,
   "metadata": {},
   "outputs": [
    {
     "output_type": "stream",
     "name": "stdout",
     "text": [
      "Fitting 5 folds for each of 12 candidates, totalling 60 fits\n",
      "[Parallel(n_jobs=-1)]: Using backend LokyBackend with 8 concurrent workers.\n",
      "[Parallel(n_jobs=-1)]: Done  45 out of  60 | elapsed:    0.2s remaining:    0.1s\n",
      "[Parallel(n_jobs=-1)]: Done  60 out of  60 | elapsed:    0.3s finished\n",
      "[Parallel(n_jobs=-1)]: Using backend LokyBackend with 8 concurrent workers.\n",
      "Best estimator LogisticRegression(C=0.1, class_weight='balanced', multi_class='multinomial',\n",
      "                   random_state=42)\n",
      "Best results 0.7092063492063492\n",
      "Best params {'C': 0.1, 'class_weight': 'balanced'}\n",
      "accuracy (mean, std) 0.7666666666666667 0.08164965809277264\n",
      "f1 (mean, std) 0.7092063492063492 0.134722169623853\n",
      "balanced accuracy (mean, std) 0.7666666666666667 0.08164965809277264\n",
      "precision (mean, std) 0.7166666666666666 0.20042393341719386\n",
      "recall (mean, std) 0.7666666666666667 0.08164965809277264\n",
      "\n",
      "Fitting 5 folds for each of 44 candidates, totalling 220 fits\n",
      "[Parallel(n_jobs=-1)]: Done  58 tasks      | elapsed:    0.3s\n",
      "[Parallel(n_jobs=-1)]: Done 205 out of 220 | elapsed:    0.7s remaining:    0.0s\n",
      "[Parallel(n_jobs=-1)]: Done 220 out of 220 | elapsed:    0.7s finished\n",
      "[Parallel(n_jobs=-1)]: Using backend LokyBackend with 8 concurrent workers.\n",
      "Best estimator KNeighborsClassifier(n_neighbors=8, weights='distance')\n",
      "Best results 0.7358730158730158\n",
      "Best params {'n_neighbors': 8, 'p': 2, 'weights': 'distance'}\n",
      "accuracy (mean, std) 0.7666666666666667 0.16996731711975951\n",
      "f1 (mean, std) 0.7358730158730158 0.19420840873059006\n",
      "balanced accuracy (mean, std) 0.7333333333333334 0.2\n",
      "precision (mean, std) 0.7611111111111111 0.20134578082689025\n",
      "recall (mean, std) 0.7666666666666667 0.16996731711975951\n",
      "\n",
      "Fitting 5 folds for each of 56 candidates, totalling 280 fits\n",
      "[Parallel(n_jobs=-1)]: Done  34 tasks      | elapsed:    2.2s\n",
      "[Parallel(n_jobs=-1)]: Done 184 tasks      | elapsed:   11.2s\n",
      "[Parallel(n_jobs=-1)]: Done 280 out of 280 | elapsed:   17.1s finished\n",
      "Best estimator RandomForestClassifier(max_depth=4, n_estimators=150, n_jobs=-1,\n",
      "                       random_state=42)\n",
      "Best results 0.6834920634920635\n",
      "Best params {'class_weight': None, 'max_depth': 4, 'n_estimators': 150}\n",
      "accuracy (mean, std) 0.7 0.12472191289246475\n",
      "f1 (mean, std) 0.6834920634920635 0.13777046282973532\n",
      "balanced accuracy (mean, std) 0.711111111111111 0.12372809695177828\n",
      "precision (mean, std) 0.7527777777777778 0.14917468424552835\n",
      "recall (mean, std) 0.7 0.12472191289246475\n",
      "\n"
     ]
    }
   ],
   "source": [
    "best_result, y_predict, result_list = runGridSearchClassifiers(X, y, cv, models_list, parameters_list, \n",
    "                                                                output_predict=True, n_jobs=-1, verbose=True)"
   ]
  },
  {
   "cell_type": "code",
   "execution_count": 30,
   "metadata": {},
   "outputs": [
    {
     "output_type": "stream",
     "name": "stdout",
     "text": [
      "Accuracy 0.36666666666666664\nF1 0.34680134680134683\nBalanced accuracy 0.3361111111111111\nPrecision 0.35888888888888887\nRecall 0.36666666666666664\n"
     ]
    }
   ],
   "source": [
    "ypredict_stress_global = best_result['best_estimator'].predict(ypredict_stress_diapo)\n",
    "from sklearn.metrics import accuracy_score, f1_score, balanced_accuracy_score, precision_score, recall_score\n",
    "print('Accuracy',accuracy_score(y.values,ypredict_stress_global))\n",
    "print('F1',f1_score(y.values,ypredict_stress_global, average='weighted'))\n",
    "print('Balanced accuracy',balanced_accuracy_score(y.values,ypredict_stress_global))\n",
    "print('Precision',precision_score(y.values,ypredict_stress_global, average='weighted'))\n",
    "print('Recall',recall_score(y.values,ypredict_stress_global, average='weighted'))"
   ]
  },
  {
   "source": [
    "#### En utilisant les prédictions des diapos"
   ],
   "cell_type": "markdown",
   "metadata": {}
  },
  {
   "cell_type": "code",
   "execution_count": 31,
   "metadata": {},
   "outputs": [],
   "source": [
    "from sklearn.linear_model import LogisticRegression\n",
    "from sklearn.neighbors import KNeighborsClassifier\n",
    "from sklearn.ensemble import RandomForestClassifier\n",
    "from sklearn.model_selection import LeaveOneGroupOut\n",
    "\n",
    "models_list = [\n",
    "                LogisticRegression(multi_class='multinomial', fit_intercept=True, random_state=42),\n",
    "                KNeighborsClassifier(),\n",
    "                RandomForestClassifier(random_state = 42, n_jobs=-1)\n",
    "                ]\n",
    "\n",
    "parameters_list = [\n",
    "                    {'C': [0.01, 0.05, 0.1, 0.5, 1, 2], 'class_weight' : [None, 'balanced']},\n",
    "                    {'n_neighbors': [4, 5, 6, 7, 8, 9, 10, 11, 12,  15, 20], 'weights' : ['uniform', 'distance'], 'p': [1, 2]},\n",
    "                    {'n_estimators': [50, 100, 150, 200], 'max_depth':[3, 4, 5, 6, 10, 15, 20], 'class_weight':[None,'balanced']}\n",
    "                    ]\n",
    "X = ypredict_stress_diapo\n",
    "y = df_annotations_stress.iloc[:,-1]\n",
    "groups = X.reset_index()['video_name']\n",
    "loo = LeaveOneGroupOut()\n",
    "cv_loo = loo.split(X, y, groups)"
   ]
  },
  {
   "cell_type": "code",
   "execution_count": 32,
   "metadata": {},
   "outputs": [
    {
     "output_type": "stream",
     "name": "stdout",
     "text": [
      "Fitting 30 folds for each of 12 candidates, totalling 360 fits\n",
      "[Parallel(n_jobs=-1)]: Using backend LokyBackend with 8 concurrent workers.\n",
      "[Parallel(n_jobs=-1)]: Done  56 tasks      | elapsed:    0.4s\n",
      "[Parallel(n_jobs=-1)]: Done 360 out of 360 | elapsed:    1.5s finished\n",
      "[Parallel(n_jobs=-1)]: Using backend LokyBackend with 8 concurrent workers.\n",
      "Best estimator LogisticRegression(C=0.05, class_weight='balanced', multi_class='multinomial',\n",
      "                   random_state=42)\n",
      "Best results 0.4666666666666667\n",
      "Best params {'C': 0.05, 'class_weight': 'balanced'}\n",
      "accuracy (mean, std) 0.4666666666666667 0.49888765156985887\n",
      "f1 (mean, std) 0.4666666666666667 0.49888765156985887\n",
      "balanced accuracy (mean, std) 0.4666666666666667 0.49888765156985887\n",
      "precision (mean, std) 0.4666666666666667 0.49888765156985887\n",
      "recall (mean, std) 0.4666666666666667 0.49888765156985887\n",
      "\n",
      "Fitting 30 folds for each of 44 candidates, totalling 1320 fits\n",
      "[Parallel(n_jobs=-1)]: Done  56 tasks      | elapsed:    0.2s\n",
      "[Parallel(n_jobs=-1)]: Done 1320 out of 1320 | elapsed:    3.3s finished\n",
      "[Parallel(n_jobs=-1)]: Using backend LokyBackend with 8 concurrent workers.\n",
      "Best estimator KNeighborsClassifier(n_neighbors=12, p=1)\n",
      "Best results 0.36666666666666664\n",
      "Best params {'n_neighbors': 12, 'p': 1, 'weights': 'uniform'}\n",
      "accuracy (mean, std) 0.36666666666666664 0.48189440982669857\n",
      "f1 (mean, std) 0.36666666666666664 0.48189440982669857\n",
      "balanced accuracy (mean, std) 0.36666666666666664 0.48189440982669857\n",
      "precision (mean, std) 0.36666666666666664 0.48189440982669857\n",
      "recall (mean, std) 0.36666666666666664 0.48189440982669857\n",
      "\n",
      "Fitting 30 folds for each of 56 candidates, totalling 1680 fits\n",
      "[Parallel(n_jobs=-1)]: Done  52 tasks      | elapsed:    2.4s\n",
      "[Parallel(n_jobs=-1)]: Done 232 tasks      | elapsed:   14.3s\n",
      "[Parallel(n_jobs=-1)]: Done 482 tasks      | elapsed:   29.8s\n",
      "[Parallel(n_jobs=-1)]: Done 832 tasks      | elapsed:   50.4s\n",
      "[Parallel(n_jobs=-1)]: Done 1282 tasks      | elapsed:  1.3min\n",
      "[Parallel(n_jobs=-1)]: Done 1680 out of 1680 | elapsed:  1.7min finished\n",
      "Best estimator RandomForestClassifier(max_depth=3, n_jobs=-1, random_state=42)\n",
      "Best results 0.3333333333333333\n",
      "Best params {'class_weight': None, 'max_depth': 3, 'n_estimators': 100}\n",
      "accuracy (mean, std) 0.3333333333333333 0.4714045207910317\n",
      "f1 (mean, std) 0.3333333333333333 0.4714045207910317\n",
      "balanced accuracy (mean, std) 0.3333333333333333 0.4714045207910317\n",
      "precision (mean, std) 0.3333333333333333 0.4714045207910317\n",
      "recall (mean, std) 0.3333333333333333 0.4714045207910317\n",
      "\n"
     ]
    }
   ],
   "source": [
    "best_result, y_predict, result_list = runGridSearchClassifiers(X, y, cv_loo, models_list, parameters_list, \n",
    "                                                                output_predict=True, n_jobs=-1, verbose=True)"
   ]
  },
  {
   "cell_type": "code",
   "execution_count": 33,
   "metadata": {},
   "outputs": [
    {
     "output_type": "execute_result",
     "data": {
      "text/plain": [
       "{'best_estimator': LogisticRegression(C=0.05, class_weight='balanced', multi_class='multinomial',\n",
       "                    random_state=42),\n",
       " 'best_score': 0.4666666666666667,\n",
       " 'best_params': {'C': 0.05, 'class_weight': 'balanced'},\n",
       " 'mean_test_f1_score': 0.4666666666666667,\n",
       " 'std_test_f1_score': 0.49888765156985887,\n",
       " 'mean_test_accuracy_score': 0.4666666666666667,\n",
       " 'std_test_accuracy_score': 0.49888765156985887,\n",
       " 'mean_test_balanced_accuracy_score': 0.4666666666666667,\n",
       " 'std_test_balanced_accuracy_score': 0.49888765156985887,\n",
       " 'mean_test_precision': 0.4666666666666667,\n",
       " 'std_test_precision': 0.49888765156985887,\n",
       " 'mean_test_recall': 0.4666666666666667,\n",
       " 'std_test_recall': 0.49888765156985887}"
      ]
     },
     "metadata": {},
     "execution_count": 33
    }
   ],
   "source": [
    "best_result"
   ]
  },
  {
   "source": [
    "## Aggregation all frames within the video to predict the global stress"
   ],
   "cell_type": "markdown",
   "metadata": {}
  },
  {
   "source": [
    "#### All diapo"
   ],
   "cell_type": "markdown",
   "metadata": {}
  },
  {
   "cell_type": "code",
   "execution_count": 34,
   "metadata": {},
   "outputs": [],
   "source": [
    "from scipy.stats import kurtosis, skew\n",
    "\n",
    "def percentil25(x): \n",
    "    return np.percentile(x, q=25)\n",
    "\n",
    "def percentil75(x): \n",
    "    return np.percentile(x, q=75)\n",
    "\n",
    "X = df_total.iloc[:,2:].groupby(['video_name']).agg({'mean','min','max', 'median', 'std', percentil25, percentil75, kurtosis, skew}).iloc[:,:-27]"
   ]
  },
  {
   "cell_type": "code",
   "execution_count": 35,
   "metadata": {},
   "outputs": [],
   "source": [
    "y = df_total.iloc[:,2:].groupby(['video_name']).agg({'stress_global':'mean'}).iloc[:,-1]"
   ]
  },
  {
   "cell_type": "code",
   "execution_count": 36,
   "metadata": {},
   "outputs": [],
   "source": [
    "from sklearn.linear_model import LogisticRegression\n",
    "from sklearn.neighbors import KNeighborsClassifier\n",
    "from sklearn.ensemble import RandomForestClassifier\n",
    "from sklearn.model_selection import LeaveOneGroupOut\n",
    "from sklearn.decomposition import PCA\n",
    "from sklearn.pipeline import Pipeline\n",
    "\n",
    "pca = PCA()\n",
    "pipe = Pipeline(steps=[('pca', pca), ('logistic', LogisticRegression(multi_class='multinomial', fit_intercept=True, random_state=42))])\n",
    "\n",
    "models_list = [\n",
    "                LogisticRegression(multi_class='multinomial', fit_intercept=True, random_state=42),\n",
    "                pipe,\n",
    "                KNeighborsClassifier(),\n",
    "                Pipeline(steps=[('pca', pca), ('knn', KNeighborsClassifier())]),\n",
    "                RandomForestClassifier(random_state = 42, n_jobs=-1)\n",
    "                ]\n",
    "\n",
    "parameters_list = [\n",
    "                    {'C': [0.01, 0.05, 0.1, 0.5, 1, 2, 3, 4 , 5, 10], 'class_weight' : [None, 'balanced']},\n",
    "                    {'pca__n_components': [1, 2, 3, 4],\n",
    "                        'logistic__C': [0.01, 0.05, 0.1, 0.5, 1, 2, 3, 4 , 5, 10], 'logistic__class_weight' : [None, 'balanced']},\n",
    "                    {'n_neighbors': [4, 5, 6, 7, 8, 9, 10, 11, 12,  15, 20], 'weights' : ['uniform', 'distance'], 'p': [1, 2]},\n",
    "                    {'pca__n_components': [1, 2, 3, 4],\n",
    "                        'knn__n_neighbors': [4, 5, 6, 7, 8, 9, 10, 11, 12,  15, 20], 'knn__weights' : ['uniform', 'distance'],                              'knn__p': [1, 2]},\n",
    "                    {'n_estimators': [50, 100, 150, 200], 'max_depth':[3, 4, 5, 6, 10, 15, 20], 'class_weight':[None,'balanced']}\n",
    "                    ]\n",
    "\n",
    "groups = X.reset_index()['video_name']\n",
    "loo = LeaveOneGroupOut()\n",
    "cv_loo = loo.split(X, y, groups)"
   ]
  },
  {
   "cell_type": "code",
   "execution_count": 37,
   "metadata": {},
   "outputs": [
    {
     "output_type": "stream",
     "name": "stdout",
     "text": [
      "Fitting 30 folds for each of 20 candidates, totalling 600 fits\n",
      "[Parallel(n_jobs=-1)]: Using backend LokyBackend with 8 concurrent workers.\n",
      "[Parallel(n_jobs=-1)]: Done  52 tasks      | elapsed:    1.6s\n",
      "[Parallel(n_jobs=-1)]: Done 352 tasks      | elapsed:    8.5s\n",
      "[Parallel(n_jobs=-1)]: Done 585 out of 600 | elapsed:   14.1s remaining:    0.4s\n",
      "[Parallel(n_jobs=-1)]: Done 600 out of 600 | elapsed:   14.4s finished\n",
      "[Parallel(n_jobs=-1)]: Using backend LokyBackend with 8 concurrent workers.\n",
      "Best estimator LogisticRegression(C=0.01, multi_class='multinomial', random_state=42)\n",
      "Best results 0.23333333333333334\n",
      "Best params {'C': 0.01, 'class_weight': None}\n",
      "accuracy (mean, std) 0.23333333333333334 0.4229525846816506\n",
      "f1 (mean, std) 0.23333333333333334 0.4229525846816506\n",
      "balanced accuracy (mean, std) 0.23333333333333334 0.4229525846816506\n",
      "precision (mean, std) 0.23333333333333334 0.4229525846816506\n",
      "recall (mean, std) 0.23333333333333334 0.4229525846816506\n",
      "\n",
      "Fitting 30 folds for each of 80 candidates, totalling 2400 fits\n",
      "[Parallel(n_jobs=-1)]: Done  56 tasks      | elapsed:    0.7s\n",
      "[Parallel(n_jobs=-1)]: Done 656 tasks      | elapsed:    5.3s\n",
      "[Parallel(n_jobs=-1)]: Done 1656 tasks      | elapsed:   13.3s\n",
      "[Parallel(n_jobs=-1)]: Done 2385 out of 2400 | elapsed:   19.0s remaining:    0.1s\n",
      "[Parallel(n_jobs=-1)]: Done 2400 out of 2400 | elapsed:   19.0s finished\n",
      "[Parallel(n_jobs=-1)]: Using backend LokyBackend with 8 concurrent workers.\n",
      "Best estimator Pipeline(steps=[('pca', PCA(n_components=1)),\n",
      "                ('logistic',\n",
      "                 LogisticRegression(C=0.01, multi_class='multinomial',\n",
      "                                    random_state=42))])\n",
      "Best results 0.4666666666666667\n",
      "Best params {'logistic__C': 0.01, 'logistic__class_weight': None, 'pca__n_components': 1}\n",
      "accuracy (mean, std) 0.4666666666666667 0.49888765156985887\n",
      "f1 (mean, std) 0.4666666666666667 0.49888765156985887\n",
      "balanced accuracy (mean, std) 0.4666666666666667 0.49888765156985887\n",
      "precision (mean, std) 0.4666666666666667 0.49888765156985887\n",
      "recall (mean, std) 0.4666666666666667 0.49888765156985887\n",
      "\n",
      "Fitting 30 folds for each of 44 candidates, totalling 1320 fits\n",
      "[Parallel(n_jobs=-1)]: Done  56 tasks      | elapsed:    0.4s\n",
      "[Parallel(n_jobs=-1)]: Done 656 tasks      | elapsed:    2.9s\n",
      "[Parallel(n_jobs=-1)]: Done 1305 out of 1320 | elapsed:    5.7s remaining:    0.1s\n",
      "[Parallel(n_jobs=-1)]: Done 1320 out of 1320 | elapsed:    5.7s finished\n",
      "[Parallel(n_jobs=-1)]: Using backend LokyBackend with 8 concurrent workers.\n",
      "Best estimator KNeighborsClassifier(n_neighbors=10)\n",
      "Best results 0.4666666666666667\n",
      "Best params {'n_neighbors': 10, 'p': 2, 'weights': 'uniform'}\n",
      "accuracy (mean, std) 0.4666666666666667 0.49888765156985887\n",
      "f1 (mean, std) 0.4666666666666667 0.49888765156985887\n",
      "balanced accuracy (mean, std) 0.4666666666666667 0.49888765156985887\n",
      "precision (mean, std) 0.4666666666666667 0.49888765156985887\n",
      "recall (mean, std) 0.4666666666666667 0.49888765156985887\n",
      "\n",
      "Fitting 30 folds for each of 176 candidates, totalling 5280 fits\n",
      "[Parallel(n_jobs=-1)]: Done  56 tasks      | elapsed:    0.4s\n",
      "[Parallel(n_jobs=-1)]: Done 656 tasks      | elapsed:    3.3s\n",
      "[Parallel(n_jobs=-1)]: Done 1656 tasks      | elapsed:    8.4s\n",
      "[Parallel(n_jobs=-1)]: Done 3056 tasks      | elapsed:   15.4s\n",
      "[Parallel(n_jobs=-1)]: Done 4856 tasks      | elapsed:   24.4s\n",
      "[Parallel(n_jobs=-1)]: Done 5265 out of 5280 | elapsed:   26.3s remaining:    0.1s\n",
      "[Parallel(n_jobs=-1)]: Done 5280 out of 5280 | elapsed:   26.4s finished\n",
      "[Parallel(n_jobs=-1)]: Using backend LokyBackend with 8 concurrent workers.\n",
      "Best estimator Pipeline(steps=[('pca', PCA(n_components=1)),\n",
      "                ('knn', KNeighborsClassifier(n_neighbors=10, p=1))])\n",
      "Best results 0.4666666666666667\n",
      "Best params {'knn__n_neighbors': 10, 'knn__p': 1, 'knn__weights': 'uniform', 'pca__n_components': 1}\n",
      "accuracy (mean, std) 0.4666666666666667 0.49888765156985887\n",
      "f1 (mean, std) 0.4666666666666667 0.49888765156985887\n",
      "balanced accuracy (mean, std) 0.4666666666666667 0.49888765156985887\n",
      "precision (mean, std) 0.4666666666666667 0.49888765156985887\n",
      "recall (mean, std) 0.4666666666666667 0.49888765156985887\n",
      "\n",
      "Fitting 30 folds for each of 56 candidates, totalling 1680 fits\n",
      "[Parallel(n_jobs=-1)]: Done  34 tasks      | elapsed:    1.4s\n",
      "[Parallel(n_jobs=-1)]: Done 184 tasks      | elapsed:   10.5s\n",
      "[Parallel(n_jobs=-1)]: Done 434 tasks      | elapsed:   26.5s\n",
      "[Parallel(n_jobs=-1)]: Done 784 tasks      | elapsed:   48.8s\n",
      "[Parallel(n_jobs=-1)]: Done 1234 tasks      | elapsed:  1.3min\n",
      "[Parallel(n_jobs=-1)]: Done 1680 out of 1680 | elapsed:  1.8min finished\n",
      "Best estimator RandomForestClassifier(class_weight='balanced', max_depth=3, n_estimators=50,\n",
      "                       n_jobs=-1, random_state=42)\n",
      "Best results 0.3333333333333333\n",
      "Best params {'class_weight': 'balanced', 'max_depth': 3, 'n_estimators': 50}\n",
      "accuracy (mean, std) 0.3333333333333333 0.4714045207910317\n",
      "f1 (mean, std) 0.3333333333333333 0.4714045207910317\n",
      "balanced accuracy (mean, std) 0.3333333333333333 0.4714045207910317\n",
      "precision (mean, std) 0.3333333333333333 0.4714045207910317\n",
      "recall (mean, std) 0.3333333333333333 0.4714045207910317\n",
      "\n"
     ]
    }
   ],
   "source": [
    "best_result, y_predict, result_list = runGridSearchClassifiers(X, y, cv_loo, models_list, parameters_list, \n",
    "                                                                output_predict=True, n_jobs=-1, verbose=True)"
   ]
  },
  {
   "cell_type": "code",
   "execution_count": 38,
   "metadata": {},
   "outputs": [
    {
     "output_type": "execute_result",
     "data": {
      "text/plain": [
       "{'best_estimator': Pipeline(steps=[('pca', PCA(n_components=1)),\n",
       "                 ('logistic',\n",
       "                  LogisticRegression(C=0.01, multi_class='multinomial',\n",
       "                                     random_state=42))]),\n",
       " 'best_score': 0.4666666666666667,\n",
       " 'best_params': {'logistic__C': 0.01,\n",
       "  'logistic__class_weight': None,\n",
       "  'pca__n_components': 1},\n",
       " 'mean_test_f1_score': 0.4666666666666667,\n",
       " 'std_test_f1_score': 0.49888765156985887,\n",
       " 'mean_test_accuracy_score': 0.4666666666666667,\n",
       " 'std_test_accuracy_score': 0.49888765156985887,\n",
       " 'mean_test_balanced_accuracy_score': 0.4666666666666667,\n",
       " 'std_test_balanced_accuracy_score': 0.49888765156985887,\n",
       " 'mean_test_precision': 0.4666666666666667,\n",
       " 'std_test_precision': 0.49888765156985887,\n",
       " 'mean_test_recall': 0.4666666666666667,\n",
       " 'std_test_recall': 0.49888765156985887}"
      ]
     },
     "metadata": {},
     "execution_count": 38
    }
   ],
   "source": [
    "best_result"
   ]
  },
  {
   "source": [
    "#### Audio diapo only"
   ],
   "cell_type": "markdown",
   "metadata": {}
  },
  {
   "cell_type": "code",
   "execution_count": 39,
   "metadata": {},
   "outputs": [],
   "source": [
    "from scipy.stats import kurtosis, skew\n",
    "\n",
    "def percentil25(x): \n",
    "    return np.percentile(x, q=25)\n",
    "\n",
    "def percentil75(x): \n",
    "    return np.percentile(x, q=75)\n",
    "\n",
    "X_audio = df_total[df_total.diapo.isin([8,9,10,11,17])].iloc[:,2:].groupby(['video_name']).agg({'mean','min','max', 'median', 'std', percentil25, percentil75, kurtosis, skew}).iloc[:,:-27]"
   ]
  },
  {
   "cell_type": "code",
   "execution_count": 40,
   "metadata": {},
   "outputs": [],
   "source": [
    "y = df_total.iloc[:,2:].groupby(['video_name']).agg({'stress_global':'mean'}).iloc[:,-1]"
   ]
  },
  {
   "cell_type": "code",
   "execution_count": 41,
   "metadata": {},
   "outputs": [],
   "source": [
    "from sklearn.linear_model import LogisticRegression\n",
    "from sklearn.neighbors import KNeighborsClassifier\n",
    "from sklearn.ensemble import RandomForestClassifier\n",
    "from sklearn.model_selection import LeaveOneGroupOut\n",
    "from sklearn.decomposition import PCA\n",
    "from sklearn.pipeline import Pipeline\n",
    "\n",
    "pca = PCA()\n",
    "pipe = Pipeline(steps=[('pca', pca), ('logistic', LogisticRegression(multi_class='multinomial', fit_intercept=True, random_state=42))])\n",
    "\n",
    "models_list = [\n",
    "                LogisticRegression(multi_class='multinomial', fit_intercept=True, random_state=42),\n",
    "                pipe,\n",
    "                KNeighborsClassifier(),\n",
    "                Pipeline(steps=[('pca', pca), ('knn', KNeighborsClassifier())]),\n",
    "                RandomForestClassifier(random_state = 42, n_jobs=-1)\n",
    "                ]\n",
    "\n",
    "parameters_list = [\n",
    "                    {'C': [0.01, 0.05, 0.1, 0.5, 1, 2, 3, 4 , 5, 10], 'class_weight' : [None, 'balanced']},\n",
    "                    {'pca__n_components': [1, 2, 3, 4],\n",
    "                        'logistic__C': [0.01, 0.05, 0.1, 0.5, 1, 2, 3, 4 , 5, 10], 'logistic__class_weight' : [None, 'balanced']},\n",
    "                    {'n_neighbors': [4, 5, 6, 7, 8, 9, 10, 11, 12,  15, 20], 'weights' : ['uniform', 'distance'], 'p': [1, 2]},\n",
    "                    {'pca__n_components': [1, 2, 3, 4],\n",
    "                        'knn__n_neighbors': [4, 5, 6, 7, 8, 9, 10, 11, 12,  15, 20], 'knn__weights' : ['uniform', 'distance'],                              'knn__p': [1, 2]},\n",
    "                    {'n_estimators': [50, 100, 150, 200], 'max_depth':[3, 4, 5, 6, 10, 15, 20], 'class_weight':[None,'balanced']}\n",
    "                    ]\n",
    "X = X_audio\n",
    "groups = X.reset_index()['video_name']\n",
    "loo = LeaveOneGroupOut()\n",
    "cv_loo = loo.split(X, y, groups)"
   ]
  },
  {
   "cell_type": "code",
   "execution_count": 42,
   "metadata": {},
   "outputs": [
    {
     "output_type": "stream",
     "name": "stdout",
     "text": [
      "Fitting 30 folds for each of 20 candidates, totalling 600 fits\n",
      "[Parallel(n_jobs=-1)]: Using backend LokyBackend with 8 concurrent workers.\n",
      "[Parallel(n_jobs=-1)]: Done  52 tasks      | elapsed:    1.5s\n",
      "[Parallel(n_jobs=-1)]: Done 352 tasks      | elapsed:    8.4s\n",
      "[Parallel(n_jobs=-1)]: Done 600 out of 600 | elapsed:   14.0s finished\n",
      "[Parallel(n_jobs=-1)]: Using backend LokyBackend with 8 concurrent workers.\n",
      "Best estimator LogisticRegression(C=0.01, multi_class='multinomial', random_state=42)\n",
      "Best results 0.3\n",
      "Best params {'C': 0.01, 'class_weight': None}\n",
      "accuracy (mean, std) 0.3 0.45825756949558394\n",
      "f1 (mean, std) 0.3 0.45825756949558394\n",
      "balanced accuracy (mean, std) 0.3 0.45825756949558394\n",
      "precision (mean, std) 0.3 0.45825756949558394\n",
      "recall (mean, std) 0.3 0.45825756949558394\n",
      "\n",
      "Fitting 30 folds for each of 80 candidates, totalling 2400 fits\n",
      "[Parallel(n_jobs=-1)]: Done  52 tasks      | elapsed:    0.5s\n",
      "[Parallel(n_jobs=-1)]: Done 512 tasks      | elapsed:    4.3s\n",
      "[Parallel(n_jobs=-1)]: Done 1512 tasks      | elapsed:   12.1s\n",
      "[Parallel(n_jobs=-1)]: Done 2400 out of 2400 | elapsed:   18.7s finished\n",
      "[Parallel(n_jobs=-1)]: Using backend LokyBackend with 8 concurrent workers.\n",
      "Best estimator Pipeline(steps=[('pca', PCA(n_components=4)),\n",
      "                ('logistic',\n",
      "                 LogisticRegression(C=0.05, class_weight='balanced',\n",
      "                                    multi_class='multinomial',\n",
      "                                    random_state=42))])\n",
      "Best results 0.3333333333333333\n",
      "Best params {'logistic__C': 0.05, 'logistic__class_weight': 'balanced', 'pca__n_components': 4}\n",
      "accuracy (mean, std) 0.3333333333333333 0.4714045207910317\n",
      "f1 (mean, std) 0.3333333333333333 0.4714045207910317\n",
      "balanced accuracy (mean, std) 0.3333333333333333 0.4714045207910317\n",
      "precision (mean, std) 0.3333333333333333 0.4714045207910317\n",
      "recall (mean, std) 0.3333333333333333 0.4714045207910317\n",
      "\n",
      "Fitting 30 folds for each of 44 candidates, totalling 1320 fits\n",
      "[Parallel(n_jobs=-1)]: Done  56 tasks      | elapsed:    0.4s\n",
      "[Parallel(n_jobs=-1)]: Done 656 tasks      | elapsed:    3.0s\n",
      "[Parallel(n_jobs=-1)]: Done 1320 out of 1320 | elapsed:    6.0s finished\n",
      "[Parallel(n_jobs=-1)]: Using backend LokyBackend with 8 concurrent workers.\n",
      "Best estimator KNeighborsClassifier(n_neighbors=8, p=1)\n",
      "Best results 0.4\n",
      "Best params {'n_neighbors': 8, 'p': 1, 'weights': 'uniform'}\n",
      "accuracy (mean, std) 0.4 0.4898979485566357\n",
      "f1 (mean, std) 0.4 0.4898979485566357\n",
      "balanced accuracy (mean, std) 0.4 0.4898979485566357\n",
      "precision (mean, std) 0.4 0.4898979485566357\n",
      "recall (mean, std) 0.4 0.4898979485566357\n",
      "\n",
      "Fitting 30 folds for each of 176 candidates, totalling 5280 fits\n",
      "[Parallel(n_jobs=-1)]: Done  56 tasks      | elapsed:    0.5s\n",
      "[Parallel(n_jobs=-1)]: Done 656 tasks      | elapsed:    3.5s\n",
      "[Parallel(n_jobs=-1)]: Done 1656 tasks      | elapsed:    8.6s\n",
      "[Parallel(n_jobs=-1)]: Done 3056 tasks      | elapsed:   15.7s\n",
      "[Parallel(n_jobs=-1)]: Done 4856 tasks      | elapsed:   25.0s\n",
      "[Parallel(n_jobs=-1)]: Done 5265 out of 5280 | elapsed:   26.9s remaining:    0.1s\n",
      "[Parallel(n_jobs=-1)]: Done 5280 out of 5280 | elapsed:   27.0s finished\n",
      "[Parallel(n_jobs=-1)]: Using backend LokyBackend with 8 concurrent workers.\n",
      "Best estimator Pipeline(steps=[('pca', PCA(n_components=1)),\n",
      "                ('knn', KNeighborsClassifier(n_neighbors=20, p=1))])\n",
      "Best results 0.4\n",
      "Best params {'knn__n_neighbors': 20, 'knn__p': 1, 'knn__weights': 'uniform', 'pca__n_components': 1}\n",
      "accuracy (mean, std) 0.4 0.4898979485566357\n",
      "f1 (mean, std) 0.4 0.4898979485566357\n",
      "balanced accuracy (mean, std) 0.4 0.4898979485566357\n",
      "precision (mean, std) 0.4 0.4898979485566357\n",
      "recall (mean, std) 0.4 0.4898979485566357\n",
      "\n",
      "Fitting 30 folds for each of 56 candidates, totalling 1680 fits\n",
      "[Parallel(n_jobs=-1)]: Done  52 tasks      | elapsed:    2.6s\n",
      "[Parallel(n_jobs=-1)]: Done 232 tasks      | elapsed:   14.8s\n",
      "[Parallel(n_jobs=-1)]: Done 482 tasks      | elapsed:   30.7s\n",
      "[Parallel(n_jobs=-1)]: Done 832 tasks      | elapsed:   52.9s\n",
      "[Parallel(n_jobs=-1)]: Done 1282 tasks      | elapsed:  1.3min\n",
      "[Parallel(n_jobs=-1)]: Done 1680 out of 1680 | elapsed:  1.8min finished\n",
      "Best estimator RandomForestClassifier(max_depth=3, n_estimators=200, n_jobs=-1,\n",
      "                       random_state=42)\n",
      "Best results 0.36666666666666664\n",
      "Best params {'class_weight': None, 'max_depth': 3, 'n_estimators': 200}\n",
      "accuracy (mean, std) 0.36666666666666664 0.48189440982669857\n",
      "f1 (mean, std) 0.36666666666666664 0.48189440982669857\n",
      "balanced accuracy (mean, std) 0.36666666666666664 0.48189440982669857\n",
      "precision (mean, std) 0.36666666666666664 0.48189440982669857\n",
      "recall (mean, std) 0.36666666666666664 0.48189440982669857\n",
      "\n"
     ]
    }
   ],
   "source": [
    "best_result, y_predict, result_list = runGridSearchClassifiers(X, y, cv_loo, models_list, parameters_list, \n",
    "                                                                output_predict=True, n_jobs=-1, verbose=True)"
   ]
  },
  {
   "cell_type": "code",
   "execution_count": 43,
   "metadata": {},
   "outputs": [
    {
     "output_type": "execute_result",
     "data": {
      "text/plain": [
       "{'best_estimator': KNeighborsClassifier(n_neighbors=8, p=1),\n",
       " 'best_score': 0.4,\n",
       " 'best_params': {'n_neighbors': 8, 'p': 1, 'weights': 'uniform'},\n",
       " 'mean_test_f1_score': 0.4,\n",
       " 'std_test_f1_score': 0.4898979485566357,\n",
       " 'mean_test_accuracy_score': 0.4,\n",
       " 'std_test_accuracy_score': 0.4898979485566357,\n",
       " 'mean_test_balanced_accuracy_score': 0.4,\n",
       " 'std_test_balanced_accuracy_score': 0.4898979485566357,\n",
       " 'mean_test_precision': 0.4,\n",
       " 'std_test_precision': 0.4898979485566357,\n",
       " 'mean_test_recall': 0.4,\n",
       " 'std_test_recall': 0.4898979485566357}"
      ]
     },
     "metadata": {},
     "execution_count": 43
    }
   ],
   "source": [
    "best_result"
   ]
  },
  {
   "cell_type": "code",
   "execution_count": null,
   "metadata": {},
   "outputs": [],
   "source": []
  }
 ]
}