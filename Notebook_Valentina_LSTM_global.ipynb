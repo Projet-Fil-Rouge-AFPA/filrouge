{
 "cells": [
  {
   "cell_type": "code",
   "execution_count": 2,
   "metadata": {},
   "outputs": [],
   "source": [
    "import os\n",
    "import subprocess\n",
    "import pandas as pd\n",
    "import platform\n",
    "import pathlib\n",
    "import numpy as np\n",
    "from annotations import *\n",
    "from extract_video_features import *\n",
    "from extract_audio_features import *\n",
    "import cv2\n",
    "import seaborn as sns\n",
    "from scipy.stats import kurtosis, skew\n",
    "from sklearn.metrics import f1_score\n",
    "import importlib\n",
    "from tqdm import tqdm\n",
    "import ordinal_classification as o_c\n",
    "from sklearn.metrics import confusion_matrix\n",
    "from sklearn.model_selection import GridSearchCV\n",
    "from util_Valentina import runGridSearchClassifiers\n",
    "from sklearn.model_selection import cross_val_predict"
   ]
  },
  {
   "cell_type": "code",
   "execution_count": 3,
   "metadata": {},
   "outputs": [],
   "source": [
    "#get current directory\n",
    "cwd = os.getcwd()"
   ]
  },
  {
   "cell_type": "code",
   "execution_count": 4,
   "metadata": {},
   "outputs": [
    {
     "output_type": "execute_result",
     "data": {
      "text/plain": [
       "'/Users/valentinadiproietto/filrouge'"
      ]
     },
     "metadata": {},
     "execution_count": 4
    }
   ],
   "source": [
    "cwd"
   ]
  },
  {
   "cell_type": "code",
   "execution_count": 5,
   "metadata": {},
   "outputs": [],
   "source": [
    "OpenFace_folder = '/Users/valentinadiproietto/OpenFace'\n",
    "filename_annotations = 'https://docs.google.com/spreadsheets/d/1Rqu1sJiD-ogc4a6R491JTiaYacptOTqh6DKqhwTa8NA/gviz/tq?tqx=out:csv&sheet=Template'"
   ]
  },
  {
   "cell_type": "code",
   "execution_count": 6,
   "metadata": {},
   "outputs": [],
   "source": [
    "Video_folder = '/Users/valentinadiproietto/Desktop/video_stress'"
   ]
  },
  {
   "cell_type": "code",
   "execution_count": 7,
   "metadata": {},
   "outputs": [],
   "source": [
    "video_paths, video_names = get_videos(Video_folder)"
   ]
  },
  {
   "cell_type": "code",
   "execution_count": 7,
   "metadata": {},
   "outputs": [
    {
     "output_type": "execute_result",
     "data": {
      "text/plain": [
       "['WIN_20210331_21_22_52_Pro',\n",
       " 'WIN_20210329_14_13_45_Pro',\n",
       " 'WIN_20210406_18_49_10_Pro',\n",
       " 'WIN_20210408_14_11_32_Pro',\n",
       " 'WIN_20210408_15_20_51_Pro',\n",
       " 'WIN_20210404_10_58_27_Pro',\n",
       " 'WIN_20210414_06_24_52_Pro',\n",
       " 'WIN_20210406_15_06_15_Pro',\n",
       " 'WIN_20210417_14_53_12_Pro',\n",
       " 'WIN_20210413_15_38_01_Pro',\n",
       " 'WIN_20210408_11_48_58_Pro',\n",
       " 'WIN_20210408_16_04_32_Pro',\n",
       " 'WIN_20210329_10_16_02_Pro',\n",
       " 'WIN_20210323_19_17_40_Pro',\n",
       " 'WIN_20210409_10_26_11_Pro',\n",
       " 'Test_pour_AFPA',\n",
       " 'WIN_20210405_15_09_16_Pro',\n",
       " 'WIN_20210407_14_54_56_Pro_edit2',\n",
       " 'WIN_20210406_21_05_52_Pro',\n",
       " 'WIN_20210403_18_49_15_Pro',\n",
       " 'WIN_20210408_14_02_19_Pro',\n",
       " 'WIN_20210415_15_41_24_Pro',\n",
       " 'WIN_20210406_18_35_52_Pro',\n",
       " 'WIN_20210402_14_27_50_Pro',\n",
       " 'WIN_20210407_09_04_05_Pro',\n",
       " 'WIN_20210402_19_04_53_Pro',\n",
       " 'WIN_20210416_08_06_54_Pro',\n",
       " 'Video_1',\n",
       " 'WIN_20210408_14_00_44_Pro',\n",
       " 'WIN_20210404_21_41_12_Pro',\n",
       " 'WIN_20210330_13_10_29_Pro']"
      ]
     },
     "metadata": {},
     "execution_count": 7
    }
   ],
   "source": [
    "video_names"
   ]
  },
  {
   "cell_type": "code",
   "execution_count": 8,
   "metadata": {},
   "outputs": [],
   "source": [
    "list_dataframes = []\n",
    "for i in video_names: \n",
    "    list_dataframes.append(create_dataframe_video('/Users/valentinadiproietto/OpenFace/processed/', i))\n"
   ]
  },
  {
   "cell_type": "code",
   "execution_count": 9,
   "metadata": {},
   "outputs": [],
   "source": [
    "video_names.remove('WIN_20210329_14_13_45_Pro')\n",
    "video_names.remove('WIN_20210402_14_27_50_Pro')\n"
   ]
  },
  {
   "cell_type": "code",
   "execution_count": 10,
   "metadata": {},
   "outputs": [
    {
     "output_type": "execute_result",
     "data": {
      "text/plain": [
       "29"
      ]
     },
     "metadata": {},
     "execution_count": 10
    }
   ],
   "source": [
    "len(video_names)"
   ]
  },
  {
   "cell_type": "code",
   "execution_count": 11,
   "metadata": {},
   "outputs": [
    {
     "output_type": "stream",
     "name": "stderr",
     "text": [
      "100%|██████████| 29/29 [02:12<00:00,  4.58s/it]\n"
     ]
    }
   ],
   "source": [
    "list_df_max = []\n",
    "for v_name in tqdm(video_names):\n",
    "    df_annoted = get_df_video_with_annotations('/Users/valentinadiproietto/OpenFace/processed/', v_name, filename_annotations, \"max\")\n",
    "    list_df_max.append(eliminate_features(df_annoted))\n",
    "\n",
    "\n",
    "    "
   ]
  },
  {
   "source": [
    "## RECUPERO LE PREDIZIONI SULLE TIME WINDOW"
   ],
   "cell_type": "markdown",
   "metadata": {}
  },
  {
   "cell_type": "code",
   "execution_count": 19,
   "metadata": {},
   "outputs": [],
   "source": [
    "predict5s = pd.read_csv ('lstm_pred.csv')"
   ]
  },
  {
   "cell_type": "code",
   "execution_count": 20,
   "metadata": {},
   "outputs": [],
   "source": [
    "predict5s = predict5s.drop('Unnamed: 0', axis = 1)\n",
    "predict5s.columns = ['video_name', 'mean', 'std', 'min', '25%', '50%', '75%', 'max']"
   ]
  },
  {
   "cell_type": "code",
   "execution_count": 21,
   "metadata": {},
   "outputs": [
    {
     "output_type": "execute_result",
     "data": {
      "text/plain": [
       "                         video_name  stress_global\n",
       "0                    Test_pour_AFPA            1.0\n",
       "1                           Video_1            0.0\n",
       "2         WIN_20210323_19_17_40_Pro            1.0\n",
       "3         WIN_20210329_10_16_02_Pro            1.0\n",
       "4         WIN_20210330_13_10_29_Pro            0.0\n",
       "5         WIN_20210331_21_22_52_Pro            1.0\n",
       "6         WIN_20210402_14_27_50_Pro            1.0\n",
       "7         WIN_20210402_19_04_53_Pro            2.0\n",
       "8         WIN_20210403_18_49_15_Pro            2.0\n",
       "9         WIN_20210404_10_58_27_Pro            1.0\n",
       "10        WIN_20210404_21_41_12_Pro            0.0\n",
       "11        WIN_20210405_15_09_16_Pro            1.0\n",
       "12        WIN_20210406_15_06_15_Pro            2.0\n",
       "13        WIN_20210406_18_35_52_Pro            0.0\n",
       "14        WIN_20210406_18_49_10_Pro            1.0\n",
       "15        WIN_20210406_21_05_52_Pro            2.0\n",
       "16        WIN_20210407_09_04_05_Pro            2.0\n",
       "17  WIN_20210407_14_54_56_Pro_edit2            0.0\n",
       "18        WIN_20210408_11_48_58_Pro            2.0\n",
       "19        WIN_20210408_14_00_44_Pro            0.0\n",
       "20        WIN_20210408_14_02_19_Pro            0.0\n",
       "21        WIN_20210408_14_11_32_Pro            2.0\n",
       "22        WIN_20210408_15_20_51_Pro            0.0\n",
       "23        WIN_20210408_16_04_32_Pro            0.0\n",
       "24        WIN_20210409_10_26_11_Pro            0.0\n",
       "25        WIN_20210413_15_38_01_Pro            1.0\n",
       "26        WIN_20210414_06_24_52_Pro            2.0\n",
       "27        WIN_20210415_15_41_24_Pro            0.0\n",
       "28        WIN_20210416_08_06_54_Pro            1.0\n",
       "29        WIN_20210417_14_53_12_Pro            0.0"
      ],
      "text/html": "<div>\n<style scoped>\n    .dataframe tbody tr th:only-of-type {\n        vertical-align: middle;\n    }\n\n    .dataframe tbody tr th {\n        vertical-align: top;\n    }\n\n    .dataframe thead th {\n        text-align: right;\n    }\n</style>\n<table border=\"1\" class=\"dataframe\">\n  <thead>\n    <tr style=\"text-align: right;\">\n      <th></th>\n      <th>video_name</th>\n      <th>stress_global</th>\n    </tr>\n  </thead>\n  <tbody>\n    <tr>\n      <th>0</th>\n      <td>Test_pour_AFPA</td>\n      <td>1.0</td>\n    </tr>\n    <tr>\n      <th>1</th>\n      <td>Video_1</td>\n      <td>0.0</td>\n    </tr>\n    <tr>\n      <th>2</th>\n      <td>WIN_20210323_19_17_40_Pro</td>\n      <td>1.0</td>\n    </tr>\n    <tr>\n      <th>3</th>\n      <td>WIN_20210329_10_16_02_Pro</td>\n      <td>1.0</td>\n    </tr>\n    <tr>\n      <th>4</th>\n      <td>WIN_20210330_13_10_29_Pro</td>\n      <td>0.0</td>\n    </tr>\n    <tr>\n      <th>5</th>\n      <td>WIN_20210331_21_22_52_Pro</td>\n      <td>1.0</td>\n    </tr>\n    <tr>\n      <th>6</th>\n      <td>WIN_20210402_14_27_50_Pro</td>\n      <td>1.0</td>\n    </tr>\n    <tr>\n      <th>7</th>\n      <td>WIN_20210402_19_04_53_Pro</td>\n      <td>2.0</td>\n    </tr>\n    <tr>\n      <th>8</th>\n      <td>WIN_20210403_18_49_15_Pro</td>\n      <td>2.0</td>\n    </tr>\n    <tr>\n      <th>9</th>\n      <td>WIN_20210404_10_58_27_Pro</td>\n      <td>1.0</td>\n    </tr>\n    <tr>\n      <th>10</th>\n      <td>WIN_20210404_21_41_12_Pro</td>\n      <td>0.0</td>\n    </tr>\n    <tr>\n      <th>11</th>\n      <td>WIN_20210405_15_09_16_Pro</td>\n      <td>1.0</td>\n    </tr>\n    <tr>\n      <th>12</th>\n      <td>WIN_20210406_15_06_15_Pro</td>\n      <td>2.0</td>\n    </tr>\n    <tr>\n      <th>13</th>\n      <td>WIN_20210406_18_35_52_Pro</td>\n      <td>0.0</td>\n    </tr>\n    <tr>\n      <th>14</th>\n      <td>WIN_20210406_18_49_10_Pro</td>\n      <td>1.0</td>\n    </tr>\n    <tr>\n      <th>15</th>\n      <td>WIN_20210406_21_05_52_Pro</td>\n      <td>2.0</td>\n    </tr>\n    <tr>\n      <th>16</th>\n      <td>WIN_20210407_09_04_05_Pro</td>\n      <td>2.0</td>\n    </tr>\n    <tr>\n      <th>17</th>\n      <td>WIN_20210407_14_54_56_Pro_edit2</td>\n      <td>0.0</td>\n    </tr>\n    <tr>\n      <th>18</th>\n      <td>WIN_20210408_11_48_58_Pro</td>\n      <td>2.0</td>\n    </tr>\n    <tr>\n      <th>19</th>\n      <td>WIN_20210408_14_00_44_Pro</td>\n      <td>0.0</td>\n    </tr>\n    <tr>\n      <th>20</th>\n      <td>WIN_20210408_14_02_19_Pro</td>\n      <td>0.0</td>\n    </tr>\n    <tr>\n      <th>21</th>\n      <td>WIN_20210408_14_11_32_Pro</td>\n      <td>2.0</td>\n    </tr>\n    <tr>\n      <th>22</th>\n      <td>WIN_20210408_15_20_51_Pro</td>\n      <td>0.0</td>\n    </tr>\n    <tr>\n      <th>23</th>\n      <td>WIN_20210408_16_04_32_Pro</td>\n      <td>0.0</td>\n    </tr>\n    <tr>\n      <th>24</th>\n      <td>WIN_20210409_10_26_11_Pro</td>\n      <td>0.0</td>\n    </tr>\n    <tr>\n      <th>25</th>\n      <td>WIN_20210413_15_38_01_Pro</td>\n      <td>1.0</td>\n    </tr>\n    <tr>\n      <th>26</th>\n      <td>WIN_20210414_06_24_52_Pro</td>\n      <td>2.0</td>\n    </tr>\n    <tr>\n      <th>27</th>\n      <td>WIN_20210415_15_41_24_Pro</td>\n      <td>0.0</td>\n    </tr>\n    <tr>\n      <th>28</th>\n      <td>WIN_20210416_08_06_54_Pro</td>\n      <td>1.0</td>\n    </tr>\n    <tr>\n      <th>29</th>\n      <td>WIN_20210417_14_53_12_Pro</td>\n      <td>0.0</td>\n    </tr>\n  </tbody>\n</table>\n</div>"
     },
     "metadata": {},
     "execution_count": 21
    }
   ],
   "source": [
    "#recuperalo stress globale vero \n",
    "df_annotations_stress = pd.read_csv('annotations.csv')\n",
    "df_annotations_stress = df_annotations_stress.drop(['1', '8', '9', '10', '11', '12', '17', '18'], axis =1)\n",
    "df_annotations_stress"
   ]
  },
  {
   "cell_type": "code",
   "execution_count": 22,
   "metadata": {},
   "outputs": [
    {
     "output_type": "execute_result",
     "data": {
      "text/plain": [
       "                         video_name      mean       std  min  25%  50%  75%  \\\n",
       "0                    Test_pour_AFPA  0.696535  0.460029  0.0  0.0  1.0  1.0   \n",
       "1                           Video_1  0.259202  0.438533  0.0  0.0  0.0  1.0   \n",
       "2         WIN_20210323_19_17_40_Pro  0.759891  0.427441  0.0  1.0  1.0  1.0   \n",
       "3         WIN_20210329_10_16_02_Pro  0.248447  0.432448  0.0  0.0  0.0  0.0   \n",
       "4         WIN_20210330_13_10_29_Pro  0.652842  0.476433  0.0  0.0  1.0  1.0   \n",
       "5         WIN_20210331_21_22_52_Pro  0.422222  0.494524  0.0  0.0  0.0  1.0   \n",
       "6         WIN_20210402_19_04_53_Pro  0.543011  0.498818  0.0  0.0  1.0  1.0   \n",
       "7         WIN_20210403_18_49_15_Pro  0.295082  0.456367  0.0  0.0  0.0  1.0   \n",
       "8         WIN_20210404_10_58_27_Pro  1.090596  0.865092  0.0  0.0  1.0  2.0   \n",
       "9         WIN_20210404_21_41_12_Pro  0.681641  0.466067  0.0  0.0  1.0  1.0   \n",
       "10        WIN_20210405_15_09_16_Pro  0.639939  0.480381  0.0  0.0  1.0  1.0   \n",
       "11        WIN_20210406_15_06_15_Pro  1.412924  1.328388  0.0  0.0  1.0  3.0   \n",
       "12        WIN_20210406_18_35_52_Pro  1.000000  0.000000  1.0  1.0  1.0  1.0   \n",
       "13        WIN_20210406_18_49_10_Pro  0.837484  0.369166  0.0  1.0  1.0  1.0   \n",
       "14        WIN_20210406_21_05_52_Pro  0.432377  0.495914  0.0  0.0  0.0  1.0   \n",
       "15        WIN_20210407_09_04_05_Pro  0.685921  0.464428  0.0  0.0  1.0  1.0   \n",
       "16  WIN_20210407_14_54_56_Pro_edit2  0.241679  0.428411  0.0  0.0  0.0  0.0   \n",
       "17        WIN_20210408_11_48_58_Pro  0.746720  0.435109  0.0  0.0  1.0  1.0   \n",
       "18        WIN_20210408_14_00_44_Pro  0.656131  0.739883  0.0  0.0  0.0  1.0   \n",
       "19        WIN_20210408_14_02_19_Pro  0.437500  0.496416  0.0  0.0  0.0  1.0   \n",
       "20        WIN_20210408_14_11_32_Pro  0.284884  0.451687  0.0  0.0  0.0  1.0   \n",
       "21        WIN_20210408_15_20_51_Pro  0.427015  0.495184  0.0  0.0  0.0  1.0   \n",
       "22        WIN_20210408_16_04_32_Pro  0.560000  0.496718  0.0  0.0  1.0  1.0   \n",
       "23        WIN_20210409_10_26_11_Pro  0.623169  0.484915  0.0  0.0  1.0  1.0   \n",
       "24        WIN_20210413_15_38_01_Pro  1.000000  0.000000  1.0  1.0  1.0  1.0   \n",
       "25        WIN_20210414_06_24_52_Pro  1.000000  0.000000  1.0  1.0  1.0  1.0   \n",
       "26        WIN_20210415_15_41_24_Pro  0.481100  0.499929  0.0  0.0  0.0  1.0   \n",
       "27        WIN_20210416_08_06_54_Pro  1.000000  0.000000  1.0  1.0  1.0  1.0   \n",
       "28        WIN_20210417_14_53_12_Pro  1.000000  0.000000  1.0  1.0  1.0  1.0   \n",
       "\n",
       "    max  stress_global  \n",
       "0   1.0            1.0  \n",
       "1   1.0            0.0  \n",
       "2   1.0            1.0  \n",
       "3   1.0            1.0  \n",
       "4   1.0            0.0  \n",
       "5   1.0            1.0  \n",
       "6   1.0            2.0  \n",
       "7   1.0            2.0  \n",
       "8   2.0            1.0  \n",
       "9   1.0            0.0  \n",
       "10  1.0            1.0  \n",
       "11  3.0            2.0  \n",
       "12  1.0            0.0  \n",
       "13  1.0            1.0  \n",
       "14  1.0            2.0  \n",
       "15  1.0            2.0  \n",
       "16  1.0            0.0  \n",
       "17  1.0            2.0  \n",
       "18  2.0            0.0  \n",
       "19  1.0            0.0  \n",
       "20  1.0            2.0  \n",
       "21  1.0            0.0  \n",
       "22  1.0            0.0  \n",
       "23  1.0            0.0  \n",
       "24  1.0            1.0  \n",
       "25  1.0            2.0  \n",
       "26  1.0            0.0  \n",
       "27  1.0            1.0  \n",
       "28  1.0            0.0  "
      ],
      "text/html": "<div>\n<style scoped>\n    .dataframe tbody tr th:only-of-type {\n        vertical-align: middle;\n    }\n\n    .dataframe tbody tr th {\n        vertical-align: top;\n    }\n\n    .dataframe thead th {\n        text-align: right;\n    }\n</style>\n<table border=\"1\" class=\"dataframe\">\n  <thead>\n    <tr style=\"text-align: right;\">\n      <th></th>\n      <th>video_name</th>\n      <th>mean</th>\n      <th>std</th>\n      <th>min</th>\n      <th>25%</th>\n      <th>50%</th>\n      <th>75%</th>\n      <th>max</th>\n      <th>stress_global</th>\n    </tr>\n  </thead>\n  <tbody>\n    <tr>\n      <th>0</th>\n      <td>Test_pour_AFPA</td>\n      <td>0.696535</td>\n      <td>0.460029</td>\n      <td>0.0</td>\n      <td>0.0</td>\n      <td>1.0</td>\n      <td>1.0</td>\n      <td>1.0</td>\n      <td>1.0</td>\n    </tr>\n    <tr>\n      <th>1</th>\n      <td>Video_1</td>\n      <td>0.259202</td>\n      <td>0.438533</td>\n      <td>0.0</td>\n      <td>0.0</td>\n      <td>0.0</td>\n      <td>1.0</td>\n      <td>1.0</td>\n      <td>0.0</td>\n    </tr>\n    <tr>\n      <th>2</th>\n      <td>WIN_20210323_19_17_40_Pro</td>\n      <td>0.759891</td>\n      <td>0.427441</td>\n      <td>0.0</td>\n      <td>1.0</td>\n      <td>1.0</td>\n      <td>1.0</td>\n      <td>1.0</td>\n      <td>1.0</td>\n    </tr>\n    <tr>\n      <th>3</th>\n      <td>WIN_20210329_10_16_02_Pro</td>\n      <td>0.248447</td>\n      <td>0.432448</td>\n      <td>0.0</td>\n      <td>0.0</td>\n      <td>0.0</td>\n      <td>0.0</td>\n      <td>1.0</td>\n      <td>1.0</td>\n    </tr>\n    <tr>\n      <th>4</th>\n      <td>WIN_20210330_13_10_29_Pro</td>\n      <td>0.652842</td>\n      <td>0.476433</td>\n      <td>0.0</td>\n      <td>0.0</td>\n      <td>1.0</td>\n      <td>1.0</td>\n      <td>1.0</td>\n      <td>0.0</td>\n    </tr>\n    <tr>\n      <th>5</th>\n      <td>WIN_20210331_21_22_52_Pro</td>\n      <td>0.422222</td>\n      <td>0.494524</td>\n      <td>0.0</td>\n      <td>0.0</td>\n      <td>0.0</td>\n      <td>1.0</td>\n      <td>1.0</td>\n      <td>1.0</td>\n    </tr>\n    <tr>\n      <th>6</th>\n      <td>WIN_20210402_19_04_53_Pro</td>\n      <td>0.543011</td>\n      <td>0.498818</td>\n      <td>0.0</td>\n      <td>0.0</td>\n      <td>1.0</td>\n      <td>1.0</td>\n      <td>1.0</td>\n      <td>2.0</td>\n    </tr>\n    <tr>\n      <th>7</th>\n      <td>WIN_20210403_18_49_15_Pro</td>\n      <td>0.295082</td>\n      <td>0.456367</td>\n      <td>0.0</td>\n      <td>0.0</td>\n      <td>0.0</td>\n      <td>1.0</td>\n      <td>1.0</td>\n      <td>2.0</td>\n    </tr>\n    <tr>\n      <th>8</th>\n      <td>WIN_20210404_10_58_27_Pro</td>\n      <td>1.090596</td>\n      <td>0.865092</td>\n      <td>0.0</td>\n      <td>0.0</td>\n      <td>1.0</td>\n      <td>2.0</td>\n      <td>2.0</td>\n      <td>1.0</td>\n    </tr>\n    <tr>\n      <th>9</th>\n      <td>WIN_20210404_21_41_12_Pro</td>\n      <td>0.681641</td>\n      <td>0.466067</td>\n      <td>0.0</td>\n      <td>0.0</td>\n      <td>1.0</td>\n      <td>1.0</td>\n      <td>1.0</td>\n      <td>0.0</td>\n    </tr>\n    <tr>\n      <th>10</th>\n      <td>WIN_20210405_15_09_16_Pro</td>\n      <td>0.639939</td>\n      <td>0.480381</td>\n      <td>0.0</td>\n      <td>0.0</td>\n      <td>1.0</td>\n      <td>1.0</td>\n      <td>1.0</td>\n      <td>1.0</td>\n    </tr>\n    <tr>\n      <th>11</th>\n      <td>WIN_20210406_15_06_15_Pro</td>\n      <td>1.412924</td>\n      <td>1.328388</td>\n      <td>0.0</td>\n      <td>0.0</td>\n      <td>1.0</td>\n      <td>3.0</td>\n      <td>3.0</td>\n      <td>2.0</td>\n    </tr>\n    <tr>\n      <th>12</th>\n      <td>WIN_20210406_18_35_52_Pro</td>\n      <td>1.000000</td>\n      <td>0.000000</td>\n      <td>1.0</td>\n      <td>1.0</td>\n      <td>1.0</td>\n      <td>1.0</td>\n      <td>1.0</td>\n      <td>0.0</td>\n    </tr>\n    <tr>\n      <th>13</th>\n      <td>WIN_20210406_18_49_10_Pro</td>\n      <td>0.837484</td>\n      <td>0.369166</td>\n      <td>0.0</td>\n      <td>1.0</td>\n      <td>1.0</td>\n      <td>1.0</td>\n      <td>1.0</td>\n      <td>1.0</td>\n    </tr>\n    <tr>\n      <th>14</th>\n      <td>WIN_20210406_21_05_52_Pro</td>\n      <td>0.432377</td>\n      <td>0.495914</td>\n      <td>0.0</td>\n      <td>0.0</td>\n      <td>0.0</td>\n      <td>1.0</td>\n      <td>1.0</td>\n      <td>2.0</td>\n    </tr>\n    <tr>\n      <th>15</th>\n      <td>WIN_20210407_09_04_05_Pro</td>\n      <td>0.685921</td>\n      <td>0.464428</td>\n      <td>0.0</td>\n      <td>0.0</td>\n      <td>1.0</td>\n      <td>1.0</td>\n      <td>1.0</td>\n      <td>2.0</td>\n    </tr>\n    <tr>\n      <th>16</th>\n      <td>WIN_20210407_14_54_56_Pro_edit2</td>\n      <td>0.241679</td>\n      <td>0.428411</td>\n      <td>0.0</td>\n      <td>0.0</td>\n      <td>0.0</td>\n      <td>0.0</td>\n      <td>1.0</td>\n      <td>0.0</td>\n    </tr>\n    <tr>\n      <th>17</th>\n      <td>WIN_20210408_11_48_58_Pro</td>\n      <td>0.746720</td>\n      <td>0.435109</td>\n      <td>0.0</td>\n      <td>0.0</td>\n      <td>1.0</td>\n      <td>1.0</td>\n      <td>1.0</td>\n      <td>2.0</td>\n    </tr>\n    <tr>\n      <th>18</th>\n      <td>WIN_20210408_14_00_44_Pro</td>\n      <td>0.656131</td>\n      <td>0.739883</td>\n      <td>0.0</td>\n      <td>0.0</td>\n      <td>0.0</td>\n      <td>1.0</td>\n      <td>2.0</td>\n      <td>0.0</td>\n    </tr>\n    <tr>\n      <th>19</th>\n      <td>WIN_20210408_14_02_19_Pro</td>\n      <td>0.437500</td>\n      <td>0.496416</td>\n      <td>0.0</td>\n      <td>0.0</td>\n      <td>0.0</td>\n      <td>1.0</td>\n      <td>1.0</td>\n      <td>0.0</td>\n    </tr>\n    <tr>\n      <th>20</th>\n      <td>WIN_20210408_14_11_32_Pro</td>\n      <td>0.284884</td>\n      <td>0.451687</td>\n      <td>0.0</td>\n      <td>0.0</td>\n      <td>0.0</td>\n      <td>1.0</td>\n      <td>1.0</td>\n      <td>2.0</td>\n    </tr>\n    <tr>\n      <th>21</th>\n      <td>WIN_20210408_15_20_51_Pro</td>\n      <td>0.427015</td>\n      <td>0.495184</td>\n      <td>0.0</td>\n      <td>0.0</td>\n      <td>0.0</td>\n      <td>1.0</td>\n      <td>1.0</td>\n      <td>0.0</td>\n    </tr>\n    <tr>\n      <th>22</th>\n      <td>WIN_20210408_16_04_32_Pro</td>\n      <td>0.560000</td>\n      <td>0.496718</td>\n      <td>0.0</td>\n      <td>0.0</td>\n      <td>1.0</td>\n      <td>1.0</td>\n      <td>1.0</td>\n      <td>0.0</td>\n    </tr>\n    <tr>\n      <th>23</th>\n      <td>WIN_20210409_10_26_11_Pro</td>\n      <td>0.623169</td>\n      <td>0.484915</td>\n      <td>0.0</td>\n      <td>0.0</td>\n      <td>1.0</td>\n      <td>1.0</td>\n      <td>1.0</td>\n      <td>0.0</td>\n    </tr>\n    <tr>\n      <th>24</th>\n      <td>WIN_20210413_15_38_01_Pro</td>\n      <td>1.000000</td>\n      <td>0.000000</td>\n      <td>1.0</td>\n      <td>1.0</td>\n      <td>1.0</td>\n      <td>1.0</td>\n      <td>1.0</td>\n      <td>1.0</td>\n    </tr>\n    <tr>\n      <th>25</th>\n      <td>WIN_20210414_06_24_52_Pro</td>\n      <td>1.000000</td>\n      <td>0.000000</td>\n      <td>1.0</td>\n      <td>1.0</td>\n      <td>1.0</td>\n      <td>1.0</td>\n      <td>1.0</td>\n      <td>2.0</td>\n    </tr>\n    <tr>\n      <th>26</th>\n      <td>WIN_20210415_15_41_24_Pro</td>\n      <td>0.481100</td>\n      <td>0.499929</td>\n      <td>0.0</td>\n      <td>0.0</td>\n      <td>0.0</td>\n      <td>1.0</td>\n      <td>1.0</td>\n      <td>0.0</td>\n    </tr>\n    <tr>\n      <th>27</th>\n      <td>WIN_20210416_08_06_54_Pro</td>\n      <td>1.000000</td>\n      <td>0.000000</td>\n      <td>1.0</td>\n      <td>1.0</td>\n      <td>1.0</td>\n      <td>1.0</td>\n      <td>1.0</td>\n      <td>1.0</td>\n    </tr>\n    <tr>\n      <th>28</th>\n      <td>WIN_20210417_14_53_12_Pro</td>\n      <td>1.000000</td>\n      <td>0.000000</td>\n      <td>1.0</td>\n      <td>1.0</td>\n      <td>1.0</td>\n      <td>1.0</td>\n      <td>1.0</td>\n      <td>0.0</td>\n    </tr>\n  </tbody>\n</table>\n</div>"
     },
     "metadata": {},
     "execution_count": 22
    }
   ],
   "source": [
    "Xy = predict5s.merge(df_annotations_stress, how='inner', on=['video_name'])\n",
    "X = Xy.iloc[:,:-1].set_index(['video_name'])\n",
    "y = Xy.iloc[:,-1]\n",
    "Xy"
   ]
  },
  {
   "cell_type": "code",
   "execution_count": 23,
   "metadata": {},
   "outputs": [
    {
     "output_type": "execute_result",
     "data": {
      "text/plain": [
       "                                     mean       std  min  25%  50%  75%  max\n",
       "video_name                                                                  \n",
       "Test_pour_AFPA                   0.696535  0.460029  0.0  0.0  1.0  1.0  1.0\n",
       "Video_1                          0.259202  0.438533  0.0  0.0  0.0  1.0  1.0\n",
       "WIN_20210323_19_17_40_Pro        0.759891  0.427441  0.0  1.0  1.0  1.0  1.0\n",
       "WIN_20210329_10_16_02_Pro        0.248447  0.432448  0.0  0.0  0.0  0.0  1.0\n",
       "WIN_20210330_13_10_29_Pro        0.652842  0.476433  0.0  0.0  1.0  1.0  1.0\n",
       "WIN_20210331_21_22_52_Pro        0.422222  0.494524  0.0  0.0  0.0  1.0  1.0\n",
       "WIN_20210402_19_04_53_Pro        0.543011  0.498818  0.0  0.0  1.0  1.0  1.0\n",
       "WIN_20210403_18_49_15_Pro        0.295082  0.456367  0.0  0.0  0.0  1.0  1.0\n",
       "WIN_20210404_10_58_27_Pro        1.090596  0.865092  0.0  0.0  1.0  2.0  2.0\n",
       "WIN_20210404_21_41_12_Pro        0.681641  0.466067  0.0  0.0  1.0  1.0  1.0\n",
       "WIN_20210405_15_09_16_Pro        0.639939  0.480381  0.0  0.0  1.0  1.0  1.0\n",
       "WIN_20210406_15_06_15_Pro        1.412924  1.328388  0.0  0.0  1.0  3.0  3.0\n",
       "WIN_20210406_18_35_52_Pro        1.000000  0.000000  1.0  1.0  1.0  1.0  1.0\n",
       "WIN_20210406_18_49_10_Pro        0.837484  0.369166  0.0  1.0  1.0  1.0  1.0\n",
       "WIN_20210406_21_05_52_Pro        0.432377  0.495914  0.0  0.0  0.0  1.0  1.0\n",
       "WIN_20210407_09_04_05_Pro        0.685921  0.464428  0.0  0.0  1.0  1.0  1.0\n",
       "WIN_20210407_14_54_56_Pro_edit2  0.241679  0.428411  0.0  0.0  0.0  0.0  1.0\n",
       "WIN_20210408_11_48_58_Pro        0.746720  0.435109  0.0  0.0  1.0  1.0  1.0\n",
       "WIN_20210408_14_00_44_Pro        0.656131  0.739883  0.0  0.0  0.0  1.0  2.0\n",
       "WIN_20210408_14_02_19_Pro        0.437500  0.496416  0.0  0.0  0.0  1.0  1.0\n",
       "WIN_20210408_14_11_32_Pro        0.284884  0.451687  0.0  0.0  0.0  1.0  1.0\n",
       "WIN_20210408_15_20_51_Pro        0.427015  0.495184  0.0  0.0  0.0  1.0  1.0\n",
       "WIN_20210408_16_04_32_Pro        0.560000  0.496718  0.0  0.0  1.0  1.0  1.0\n",
       "WIN_20210409_10_26_11_Pro        0.623169  0.484915  0.0  0.0  1.0  1.0  1.0\n",
       "WIN_20210413_15_38_01_Pro        1.000000  0.000000  1.0  1.0  1.0  1.0  1.0\n",
       "WIN_20210414_06_24_52_Pro        1.000000  0.000000  1.0  1.0  1.0  1.0  1.0\n",
       "WIN_20210415_15_41_24_Pro        0.481100  0.499929  0.0  0.0  0.0  1.0  1.0\n",
       "WIN_20210416_08_06_54_Pro        1.000000  0.000000  1.0  1.0  1.0  1.0  1.0\n",
       "WIN_20210417_14_53_12_Pro        1.000000  0.000000  1.0  1.0  1.0  1.0  1.0"
      ],
      "text/html": "<div>\n<style scoped>\n    .dataframe tbody tr th:only-of-type {\n        vertical-align: middle;\n    }\n\n    .dataframe tbody tr th {\n        vertical-align: top;\n    }\n\n    .dataframe thead th {\n        text-align: right;\n    }\n</style>\n<table border=\"1\" class=\"dataframe\">\n  <thead>\n    <tr style=\"text-align: right;\">\n      <th></th>\n      <th>mean</th>\n      <th>std</th>\n      <th>min</th>\n      <th>25%</th>\n      <th>50%</th>\n      <th>75%</th>\n      <th>max</th>\n    </tr>\n    <tr>\n      <th>video_name</th>\n      <th></th>\n      <th></th>\n      <th></th>\n      <th></th>\n      <th></th>\n      <th></th>\n      <th></th>\n    </tr>\n  </thead>\n  <tbody>\n    <tr>\n      <th>Test_pour_AFPA</th>\n      <td>0.696535</td>\n      <td>0.460029</td>\n      <td>0.0</td>\n      <td>0.0</td>\n      <td>1.0</td>\n      <td>1.0</td>\n      <td>1.0</td>\n    </tr>\n    <tr>\n      <th>Video_1</th>\n      <td>0.259202</td>\n      <td>0.438533</td>\n      <td>0.0</td>\n      <td>0.0</td>\n      <td>0.0</td>\n      <td>1.0</td>\n      <td>1.0</td>\n    </tr>\n    <tr>\n      <th>WIN_20210323_19_17_40_Pro</th>\n      <td>0.759891</td>\n      <td>0.427441</td>\n      <td>0.0</td>\n      <td>1.0</td>\n      <td>1.0</td>\n      <td>1.0</td>\n      <td>1.0</td>\n    </tr>\n    <tr>\n      <th>WIN_20210329_10_16_02_Pro</th>\n      <td>0.248447</td>\n      <td>0.432448</td>\n      <td>0.0</td>\n      <td>0.0</td>\n      <td>0.0</td>\n      <td>0.0</td>\n      <td>1.0</td>\n    </tr>\n    <tr>\n      <th>WIN_20210330_13_10_29_Pro</th>\n      <td>0.652842</td>\n      <td>0.476433</td>\n      <td>0.0</td>\n      <td>0.0</td>\n      <td>1.0</td>\n      <td>1.0</td>\n      <td>1.0</td>\n    </tr>\n    <tr>\n      <th>WIN_20210331_21_22_52_Pro</th>\n      <td>0.422222</td>\n      <td>0.494524</td>\n      <td>0.0</td>\n      <td>0.0</td>\n      <td>0.0</td>\n      <td>1.0</td>\n      <td>1.0</td>\n    </tr>\n    <tr>\n      <th>WIN_20210402_19_04_53_Pro</th>\n      <td>0.543011</td>\n      <td>0.498818</td>\n      <td>0.0</td>\n      <td>0.0</td>\n      <td>1.0</td>\n      <td>1.0</td>\n      <td>1.0</td>\n    </tr>\n    <tr>\n      <th>WIN_20210403_18_49_15_Pro</th>\n      <td>0.295082</td>\n      <td>0.456367</td>\n      <td>0.0</td>\n      <td>0.0</td>\n      <td>0.0</td>\n      <td>1.0</td>\n      <td>1.0</td>\n    </tr>\n    <tr>\n      <th>WIN_20210404_10_58_27_Pro</th>\n      <td>1.090596</td>\n      <td>0.865092</td>\n      <td>0.0</td>\n      <td>0.0</td>\n      <td>1.0</td>\n      <td>2.0</td>\n      <td>2.0</td>\n    </tr>\n    <tr>\n      <th>WIN_20210404_21_41_12_Pro</th>\n      <td>0.681641</td>\n      <td>0.466067</td>\n      <td>0.0</td>\n      <td>0.0</td>\n      <td>1.0</td>\n      <td>1.0</td>\n      <td>1.0</td>\n    </tr>\n    <tr>\n      <th>WIN_20210405_15_09_16_Pro</th>\n      <td>0.639939</td>\n      <td>0.480381</td>\n      <td>0.0</td>\n      <td>0.0</td>\n      <td>1.0</td>\n      <td>1.0</td>\n      <td>1.0</td>\n    </tr>\n    <tr>\n      <th>WIN_20210406_15_06_15_Pro</th>\n      <td>1.412924</td>\n      <td>1.328388</td>\n      <td>0.0</td>\n      <td>0.0</td>\n      <td>1.0</td>\n      <td>3.0</td>\n      <td>3.0</td>\n    </tr>\n    <tr>\n      <th>WIN_20210406_18_35_52_Pro</th>\n      <td>1.000000</td>\n      <td>0.000000</td>\n      <td>1.0</td>\n      <td>1.0</td>\n      <td>1.0</td>\n      <td>1.0</td>\n      <td>1.0</td>\n    </tr>\n    <tr>\n      <th>WIN_20210406_18_49_10_Pro</th>\n      <td>0.837484</td>\n      <td>0.369166</td>\n      <td>0.0</td>\n      <td>1.0</td>\n      <td>1.0</td>\n      <td>1.0</td>\n      <td>1.0</td>\n    </tr>\n    <tr>\n      <th>WIN_20210406_21_05_52_Pro</th>\n      <td>0.432377</td>\n      <td>0.495914</td>\n      <td>0.0</td>\n      <td>0.0</td>\n      <td>0.0</td>\n      <td>1.0</td>\n      <td>1.0</td>\n    </tr>\n    <tr>\n      <th>WIN_20210407_09_04_05_Pro</th>\n      <td>0.685921</td>\n      <td>0.464428</td>\n      <td>0.0</td>\n      <td>0.0</td>\n      <td>1.0</td>\n      <td>1.0</td>\n      <td>1.0</td>\n    </tr>\n    <tr>\n      <th>WIN_20210407_14_54_56_Pro_edit2</th>\n      <td>0.241679</td>\n      <td>0.428411</td>\n      <td>0.0</td>\n      <td>0.0</td>\n      <td>0.0</td>\n      <td>0.0</td>\n      <td>1.0</td>\n    </tr>\n    <tr>\n      <th>WIN_20210408_11_48_58_Pro</th>\n      <td>0.746720</td>\n      <td>0.435109</td>\n      <td>0.0</td>\n      <td>0.0</td>\n      <td>1.0</td>\n      <td>1.0</td>\n      <td>1.0</td>\n    </tr>\n    <tr>\n      <th>WIN_20210408_14_00_44_Pro</th>\n      <td>0.656131</td>\n      <td>0.739883</td>\n      <td>0.0</td>\n      <td>0.0</td>\n      <td>0.0</td>\n      <td>1.0</td>\n      <td>2.0</td>\n    </tr>\n    <tr>\n      <th>WIN_20210408_14_02_19_Pro</th>\n      <td>0.437500</td>\n      <td>0.496416</td>\n      <td>0.0</td>\n      <td>0.0</td>\n      <td>0.0</td>\n      <td>1.0</td>\n      <td>1.0</td>\n    </tr>\n    <tr>\n      <th>WIN_20210408_14_11_32_Pro</th>\n      <td>0.284884</td>\n      <td>0.451687</td>\n      <td>0.0</td>\n      <td>0.0</td>\n      <td>0.0</td>\n      <td>1.0</td>\n      <td>1.0</td>\n    </tr>\n    <tr>\n      <th>WIN_20210408_15_20_51_Pro</th>\n      <td>0.427015</td>\n      <td>0.495184</td>\n      <td>0.0</td>\n      <td>0.0</td>\n      <td>0.0</td>\n      <td>1.0</td>\n      <td>1.0</td>\n    </tr>\n    <tr>\n      <th>WIN_20210408_16_04_32_Pro</th>\n      <td>0.560000</td>\n      <td>0.496718</td>\n      <td>0.0</td>\n      <td>0.0</td>\n      <td>1.0</td>\n      <td>1.0</td>\n      <td>1.0</td>\n    </tr>\n    <tr>\n      <th>WIN_20210409_10_26_11_Pro</th>\n      <td>0.623169</td>\n      <td>0.484915</td>\n      <td>0.0</td>\n      <td>0.0</td>\n      <td>1.0</td>\n      <td>1.0</td>\n      <td>1.0</td>\n    </tr>\n    <tr>\n      <th>WIN_20210413_15_38_01_Pro</th>\n      <td>1.000000</td>\n      <td>0.000000</td>\n      <td>1.0</td>\n      <td>1.0</td>\n      <td>1.0</td>\n      <td>1.0</td>\n      <td>1.0</td>\n    </tr>\n    <tr>\n      <th>WIN_20210414_06_24_52_Pro</th>\n      <td>1.000000</td>\n      <td>0.000000</td>\n      <td>1.0</td>\n      <td>1.0</td>\n      <td>1.0</td>\n      <td>1.0</td>\n      <td>1.0</td>\n    </tr>\n    <tr>\n      <th>WIN_20210415_15_41_24_Pro</th>\n      <td>0.481100</td>\n      <td>0.499929</td>\n      <td>0.0</td>\n      <td>0.0</td>\n      <td>0.0</td>\n      <td>1.0</td>\n      <td>1.0</td>\n    </tr>\n    <tr>\n      <th>WIN_20210416_08_06_54_Pro</th>\n      <td>1.000000</td>\n      <td>0.000000</td>\n      <td>1.0</td>\n      <td>1.0</td>\n      <td>1.0</td>\n      <td>1.0</td>\n      <td>1.0</td>\n    </tr>\n    <tr>\n      <th>WIN_20210417_14_53_12_Pro</th>\n      <td>1.000000</td>\n      <td>0.000000</td>\n      <td>1.0</td>\n      <td>1.0</td>\n      <td>1.0</td>\n      <td>1.0</td>\n      <td>1.0</td>\n    </tr>\n  </tbody>\n</table>\n</div>"
     },
     "metadata": {},
     "execution_count": 23
    }
   ],
   "source": [
    "X"
   ]
  },
  {
   "cell_type": "code",
   "execution_count": 24,
   "metadata": {},
   "outputs": [],
   "source": [
    "from sklearn.linear_model import LogisticRegression\n",
    "from sklearn.neighbors import KNeighborsClassifier\n",
    "from sklearn.ensemble import RandomForestClassifier\n",
    "from sklearn.model_selection import LeaveOneGroupOut\n",
    "from sklearn.decomposition import PCA\n",
    "from sklearn.pipeline import Pipeline\n",
    "\n",
    "pca = PCA()\n",
    "pipe = Pipeline(steps=[('pca', pca), ('logistic', LogisticRegression(multi_class='multinomial', fit_intercept=True, random_state=42))])\n",
    "\n",
    "models_list = [\n",
    "                LogisticRegression(multi_class='multinomial', fit_intercept=True, random_state=42),\n",
    "                Pipeline(steps=[('pca', pca), ('logistic', LogisticRegression(multi_class='multinomial', fit_intercept=True))]),\n",
    "                KNeighborsClassifier(),\n",
    "                Pipeline(steps=[('pca', pca), ('knn', KNeighborsClassifier())]),\n",
    "                RandomForestClassifier(random_state = 42, n_jobs=-1)\n",
    "                ]\n",
    "\n",
    "parameters_list = [\n",
    "                    {'C': [0.01, 0.05, 0.1, 0.5, 1, 2, 3, 4 , 5, 10], 'class_weight' : [None, 'balanced']},\n",
    "                    {'pca__n_components': [1, 2, 3, 4],\n",
    "                        'logistic__C': [0.01, 0.05, 0.1, 0.5, 1, 2, 3, 4 , 5, 10], 'logistic__class_weight' : [None, 'balanced']},\n",
    "                    {'n_neighbors': [4, 5, 6, 7, 8, 9, 10, 11, 12,  15, 20], 'weights' : ['uniform', 'distance'], 'p': [1, 2]},\n",
    "                    {'pca__n_components': [1, 2, 3, 4],\n",
    "                        'knn__n_neighbors': [4, 5, 6, 7, 8, 9, 10, 11, 12,  15, 20], 'knn__weights' : ['uniform', 'distance'],                              'knn__p': [1, 2]},\n",
    "                    {'n_estimators': [50, 100, 150, 200], 'max_depth':[3, 4, 5, 6, 10, 15, 20], 'class_weight':[None,'balanced']}\n",
    "                    ]\n",
    "\n"
   ]
  },
  {
   "cell_type": "code",
   "execution_count": 25,
   "metadata": {},
   "outputs": [
    {
     "output_type": "stream",
     "name": "stdout",
     "text": [
      "Fitting 5 folds for each of 20 candidates, totalling 100 fits\n",
      "Best estimator LogisticRegression(C=5, multi_class='multinomial', random_state=42)\n",
      "Best results 0.40647619047619055\n",
      "Best params {'C': 5, 'class_weight': None}\n",
      "accuracy (mean, std) 0.4533333333333333 0.25785439474418287\n",
      "f1 (mean, std) 0.40647619047619055 0.27332699880202915\n",
      "balanced accuracy (mean, std) 0.4444444444444445 0.25337231668869736\n",
      "precision (mean, std) 0.43499999999999994 0.31483681840315664\n",
      "recall (mean, std) 0.4533333333333333 0.25785439474418287\n",
      "\n",
      "Fitting 5 folds for each of 80 candidates, totalling 400 fits\n",
      "Best estimator Pipeline(steps=[('pca', PCA(n_components=2)),\n",
      "                ('logistic',\n",
      "                 LogisticRegression(C=0.01, class_weight='balanced',\n",
      "                                    multi_class='multinomial'))])\n",
      "Best results 0.3448888888888889\n",
      "Best params {'logistic__C': 0.01, 'logistic__class_weight': 'balanced', 'pca__n_components': 2}\n",
      "accuracy (mean, std) 0.38 0.16275407487644938\n",
      "f1 (mean, std) 0.3448888888888889 0.14274487299175442\n",
      "balanced accuracy (mean, std) 0.3777777777777777 0.1699673171197595\n",
      "precision (mean, std) 0.4022222222222222 0.21016160742287804\n",
      "recall (mean, std) 0.38 0.16275407487644938\n",
      "\n",
      "Fitting 5 folds for each of 44 candidates, totalling 220 fits\n",
      "Best estimator KNeighborsClassifier(n_neighbors=4, p=1)\n",
      "Best results 0.3940952380952381\n",
      "Best params {'n_neighbors': 4, 'p': 1, 'weights': 'uniform'}\n",
      "accuracy (mean, std) 0.42000000000000004 0.18571184369578825\n",
      "f1 (mean, std) 0.3940952380952381 0.21502912550939313\n",
      "balanced accuracy (mean, std) 0.3999999999999999 0.18392161508052052\n",
      "precision (mean, std) 0.45999999999999996 0.29862648539233383\n",
      "recall (mean, std) 0.42000000000000004 0.18571184369578825\n",
      "\n",
      "Fitting 5 folds for each of 176 candidates, totalling 880 fits\n",
      "Best estimator Pipeline(steps=[('pca', PCA(n_components=2)),\n",
      "                ('knn', KNeighborsClassifier(n_neighbors=4, p=1))])\n",
      "Best results 0.4353650793650794\n",
      "Best params {'knn__n_neighbors': 4, 'knn__p': 1, 'knn__weights': 'uniform', 'pca__n_components': 2}\n",
      "accuracy (mean, std) 0.4533333333333333 0.18208667044996882\n",
      "f1 (mean, std) 0.4353650793650794 0.19534203969359829\n",
      "balanced accuracy (mean, std) 0.4333333333333333 0.18392161508052052\n",
      "precision (mean, std) 0.5233333333333334 0.25768197453450253\n",
      "recall (mean, std) 0.4533333333333333 0.18208667044996882\n",
      "\n",
      "Fitting 5 folds for each of 56 candidates, totalling 280 fits\n",
      "Best estimator RandomForestClassifier(max_depth=3, n_estimators=150, n_jobs=-1,\n",
      "                       random_state=42)\n",
      "Best results 0.38488888888888895\n",
      "Best params {'class_weight': None, 'max_depth': 3, 'n_estimators': 150}\n",
      "accuracy (mean, std) 0.42000000000000004 0.18571184369578825\n",
      "f1 (mean, std) 0.38488888888888895 0.203681668841902\n",
      "balanced accuracy (mean, std) 0.4111111111111111 0.17777777777777776\n",
      "precision (mean, std) 0.42222222222222217 0.2499382639822665\n",
      "recall (mean, std) 0.42000000000000004 0.18571184369578825\n",
      "\n",
      "f1_score (weighted) 0.42183908045977014\n",
      "accuracy 0.4482758620689655\n"
     ]
    }
   ],
   "source": [
    "best_result_tw5_glob, y_predict_tw5_glob, y_proba, result_list_tw5_glob = runGridSearchClassifiers(X, y, 5, models_list, parameters_list,output_predict=True, n_jobs=-1, verbose=True)"
   ]
  },
  {
   "cell_type": "code",
   "execution_count": 26,
   "metadata": {},
   "outputs": [
    {
     "output_type": "execute_result",
     "data": {
      "text/plain": [
       "{'best_estimator': Pipeline(steps=[('pca', PCA(n_components=2)),\n",
       "                 ('knn', KNeighborsClassifier(n_neighbors=4, p=1))]),\n",
       " 'best_score': 0.4353650793650794,\n",
       " 'best_params': {'knn__n_neighbors': 4,\n",
       "  'knn__p': 1,\n",
       "  'knn__weights': 'uniform',\n",
       "  'pca__n_components': 2},\n",
       " 'mean_test_f1_score': 0.4353650793650794,\n",
       " 'std_test_f1_score': 0.19534203969359829,\n",
       " 'mean_test_accuracy_score': 0.4533333333333333,\n",
       " 'std_test_accuracy_score': 0.18208667044996882,\n",
       " 'mean_test_balanced_accuracy_score': 0.4333333333333333,\n",
       " 'std_test_balanced_accuracy_score': 0.18392161508052052,\n",
       " 'mean_test_precision': 0.5233333333333334,\n",
       " 'std_test_precision': 0.25768197453450253,\n",
       " 'mean_test_recall': 0.4533333333333333,\n",
       " 'std_test_recall': 0.18208667044996882}"
      ]
     },
     "metadata": {},
     "execution_count": 26
    }
   ],
   "source": [
    "best_result_tw5_glob"
   ]
  },
  {
   "cell_type": "code",
   "execution_count": 12,
   "metadata": {},
   "outputs": [
    {
     "output_type": "execute_result",
     "data": {
      "text/plain": [
       "array([1., 0., 1., 1., 1., 1., 0., 1., 0., 0., 1., 1., 1., 1., 1., 0., 0.,\n",
       "       1., 0., 1., 0., 0., 1., 1., 1., 1., 0., 1., 0.])"
      ]
     },
     "metadata": {},
     "execution_count": 12
    }
   ],
   "source": [
    "y_predict_tw5_glob\n",
    "##ATTENZIONE NON PREDICE MAI I 2"
   ]
  }
 ],
 "metadata": {
  "kernelspec": {
   "name": "python3",
   "display_name": "Python 3.8.1 64-bit"
  },
  "language_info": {
   "codemirror_mode": {
    "name": "ipython",
    "version": 3
   },
   "file_extension": ".py",
   "mimetype": "text/x-python",
   "name": "python",
   "nbconvert_exporter": "python",
   "pygments_lexer": "ipython3",
   "version": "3.8.10"
  },
  "interpreter": {
   "hash": "aee8b7b246df8f9039afb4144a1f6fd8d2ca17a180786b69acc140d282b71a49"
  }
 },
 "nbformat": 4,
 "nbformat_minor": 4
}