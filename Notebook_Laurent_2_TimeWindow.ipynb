{
 "metadata": {
  "language_info": {
   "codemirror_mode": {
    "name": "ipython",
    "version": 3
   },
   "file_extension": ".py",
   "mimetype": "text/x-python",
   "name": "python",
   "nbconvert_exporter": "python",
   "pygments_lexer": "ipython3",
   "version": "3.8.5"
  },
  "orig_nbformat": 2,
  "kernelspec": {
   "name": "python385jvsc74a57bd0148f6ed9de8dadedbbd96ef8a7e818f87aaafab3c59f5306aa9910b4f09c5b3f",
   "display_name": "Python 3.8.5 64-bit ('base': conda)"
  },
  "metadata": {
   "interpreter": {
    "hash": "148f6ed9de8dadedbbd96ef8a7e818f87aaafab3c59f5306aa9910b4f09c5b3f"
   }
  }
 },
 "nbformat": 4,
 "nbformat_minor": 2,
 "cells": [
  {
   "cell_type": "code",
   "execution_count": 1,
   "metadata": {},
   "outputs": [],
   "source": [
    "import numpy as np \n",
    "import pandas as pd \n",
    "import matplotlib.pyplot as plt \n",
    "import pathlib"
   ]
  },
  {
   "source": [
    "## Loading data"
   ],
   "cell_type": "markdown",
   "metadata": {}
  },
  {
   "cell_type": "code",
   "execution_count": 2,
   "metadata": {},
   "outputs": [],
   "source": [
    "directory_path = '../../04_-_Dev/videos'\n",
    "features = 'eGeMAPS'"
   ]
  },
  {
   "cell_type": "code",
   "execution_count": 3,
   "metadata": {},
   "outputs": [],
   "source": [
    "#currentDirectory = pathlib.Path(directory_path)\n",
    "#currentPattern = \"*.\" + features + \".annotated.csv\"\n",
    "#file_list = [str(currentFile) for currentFile in currentDirectory.glob(currentPattern)]\n",
    "#file_list"
   ]
  },
  {
   "cell_type": "code",
   "execution_count": 4,
   "metadata": {},
   "outputs": [],
   "source": [
    "#df_total = pd.DataFrame()\n",
    "#for filename in file_list:\n",
    "#    df = pd.read_csv(filename, delimiter=';')\n",
    "#    df_total = pd.concat([df_total, df], axis=0)\n"
   ]
  },
  {
   "cell_type": "code",
   "execution_count": 5,
   "metadata": {},
   "outputs": [],
   "source": [
    "#print('Number of videos', df_total['video_name'].nunique())\n",
    "#print('Number of annotations', df_total[['video_name','diapo']].drop_duplicates().shape[0])"
   ]
  },
  {
   "cell_type": "code",
   "execution_count": 6,
   "metadata": {},
   "outputs": [],
   "source": [
    "#df_total.to_pickle(directory_path + '/audio_' + features + '_data.p')"
   ]
  },
  {
   "cell_type": "code",
   "execution_count": 7,
   "metadata": {},
   "outputs": [],
   "source": [
    "#df_total.loc[df_total.isna().any(axis=1),'frameTime'].value_counts()"
   ]
  },
  {
   "cell_type": "code",
   "execution_count": 8,
   "metadata": {},
   "outputs": [],
   "source": [
    "#df_total = df_total.dropna(axis=0)"
   ]
  },
  {
   "cell_type": "code",
   "execution_count": 3,
   "metadata": {},
   "outputs": [],
   "source": [
    "df_total = pd.read_pickle(directory_path + '/audio_' + features + '_data.p')"
   ]
  },
  {
   "cell_type": "code",
   "execution_count": 4,
   "metadata": {},
   "outputs": [
    {
     "output_type": "execute_result",
     "data": {
      "text/plain": [
       "(2573581, 77)"
      ]
     },
     "metadata": {},
     "execution_count": 4
    }
   ],
   "source": [
    "df_total.shape"
   ]
  },
  {
   "cell_type": "code",
   "execution_count": 5,
   "metadata": {},
   "outputs": [],
   "source": [
    "time_window = 5\n",
    "df_total['frameTimeWindow'] = df_total.frameTime.apply(lambda x : np.floor(x / time_window) * time_window).astype(int)"
   ]
  },
  {
   "cell_type": "code",
   "execution_count": 6,
   "metadata": {},
   "outputs": [
    {
     "output_type": "execute_result",
     "data": {
      "text/plain": [
       "0       14940\n",
       "5       15000\n",
       "10      15000\n",
       "15      15000\n",
       "20      15000\n",
       "        ...  \n",
       "1100      500\n",
       "1105      500\n",
       "1110      500\n",
       "1115      500\n",
       "1120      359\n",
       "Name: frameTimeWindow, Length: 225, dtype: int64"
      ]
     },
     "metadata": {},
     "execution_count": 6
    }
   ],
   "source": [
    "df_total.frameTimeWindow.value_counts().sort_index()"
   ]
  },
  {
   "source": [
    "## Data exploration"
   ],
   "cell_type": "markdown",
   "metadata": {}
  },
  {
   "cell_type": "code",
   "execution_count": 13,
   "metadata": {},
   "outputs": [
    {
     "output_type": "execute_result",
     "data": {
      "text/plain": [
       "        frameTime\n",
       "diapo            \n",
       "1       99.359963\n",
       "8      195.661667\n",
       "9      270.161667\n",
       "10     353.161667\n",
       "11     434.661667\n",
       "12     568.660055\n",
       "17     659.128333\n",
       "18     784.525699"
      ],
      "text/html": "<div>\n<style scoped>\n    .dataframe tbody tr th:only-of-type {\n        vertical-align: middle;\n    }\n\n    .dataframe tbody tr th {\n        vertical-align: top;\n    }\n\n    .dataframe thead th {\n        text-align: right;\n    }\n</style>\n<table border=\"1\" class=\"dataframe\">\n  <thead>\n    <tr style=\"text-align: right;\">\n      <th></th>\n      <th>frameTime</th>\n    </tr>\n    <tr>\n      <th>diapo</th>\n      <th></th>\n    </tr>\n  </thead>\n  <tbody>\n    <tr>\n      <th>1</th>\n      <td>99.359963</td>\n    </tr>\n    <tr>\n      <th>8</th>\n      <td>195.661667</td>\n    </tr>\n    <tr>\n      <th>9</th>\n      <td>270.161667</td>\n    </tr>\n    <tr>\n      <th>10</th>\n      <td>353.161667</td>\n    </tr>\n    <tr>\n      <th>11</th>\n      <td>434.661667</td>\n    </tr>\n    <tr>\n      <th>12</th>\n      <td>568.660055</td>\n    </tr>\n    <tr>\n      <th>17</th>\n      <td>659.128333</td>\n    </tr>\n    <tr>\n      <th>18</th>\n      <td>784.525699</td>\n    </tr>\n  </tbody>\n</table>\n</div>"
     },
     "metadata": {},
     "execution_count": 13
    }
   ],
   "source": [
    "df_total.groupby('diapo').agg({'frameTime':'mean'})\n"
   ]
  },
  {
   "cell_type": "code",
   "execution_count": 14,
   "metadata": {},
   "outputs": [
    {
     "output_type": "execute_result",
     "data": {
      "text/plain": [
       "0.0    12\n",
       "1.0    10\n",
       "2.0     8\n",
       "Name: stress_global, dtype: int64"
      ]
     },
     "metadata": {},
     "execution_count": 14
    }
   ],
   "source": [
    "df_stats_stress_global = df_total[['video_name','stress_global']].drop_duplicates()['stress_global'].value_counts().sort_index()\n",
    "df_stats_stress_global\n"
   ]
  },
  {
   "cell_type": "code",
   "execution_count": 15,
   "metadata": {},
   "outputs": [
    {
     "output_type": "display_data",
     "data": {
      "text/plain": "<Figure size 432x288 with 1 Axes>",
      "image/svg+xml": "<?xml version=\"1.0\" encoding=\"utf-8\" standalone=\"no\"?>\n<!DOCTYPE svg PUBLIC \"-//W3C//DTD SVG 1.1//EN\"\n  \"http://www.w3.org/Graphics/SVG/1.1/DTD/svg11.dtd\">\n<!-- Created with matplotlib (https://matplotlib.org/) -->\n<svg height=\"264.11625pt\" version=\"1.1\" viewBox=\"0 0 375.603125 264.11625\" width=\"375.603125pt\" xmlns=\"http://www.w3.org/2000/svg\" xmlns:xlink=\"http://www.w3.org/1999/xlink\">\n <defs>\n  <style type=\"text/css\">\n*{stroke-linecap:butt;stroke-linejoin:round;}\n  </style>\n </defs>\n <g id=\"figure_1\">\n  <g id=\"patch_1\">\n   <path d=\"M 0 264.11625 \nL 375.603125 264.11625 \nL 375.603125 0 \nL 0 0 \nz\n\" style=\"fill:none;\"/>\n  </g>\n  <g id=\"axes_1\">\n   <g id=\"patch_2\">\n    <path d=\"M 30.103125 240.238125 \nL 364.903125 240.238125 \nL 364.903125 22.798125 \nL 30.103125 22.798125 \nz\n\" style=\"fill:#ffffff;\"/>\n   </g>\n   <g id=\"patch_3\">\n    <path clip-path=\"url(#p82a4579ff5)\" d=\"M 30.103125 222.118125 \nL 348.960268 222.118125 \nL 348.960268 185.878125 \nL 30.103125 185.878125 \nz\n\" style=\"fill:#1f77b4;\"/>\n   </g>\n   <g id=\"patch_4\">\n    <path clip-path=\"url(#p82a4579ff5)\" d=\"M 30.103125 149.638125 \nL 295.817411 149.638125 \nL 295.817411 113.398125 \nL 30.103125 113.398125 \nz\n\" style=\"fill:#1f77b4;\"/>\n   </g>\n   <g id=\"patch_5\">\n    <path clip-path=\"url(#p82a4579ff5)\" d=\"M 30.103125 77.158125 \nL 242.674554 77.158125 \nL 242.674554 40.918125 \nL 30.103125 40.918125 \nz\n\" style=\"fill:#1f77b4;\"/>\n   </g>\n   <g id=\"matplotlib.axis_1\">\n    <g id=\"xtick_1\">\n     <g id=\"line2d_1\">\n      <defs>\n       <path d=\"M 0 0 \nL 0 3.5 \n\" id=\"mfc2e2280ca\" style=\"stroke:#000000;stroke-width:0.8;\"/>\n      </defs>\n      <g>\n       <use style=\"stroke:#000000;stroke-width:0.8;\" x=\"30.103125\" xlink:href=\"#mfc2e2280ca\" y=\"240.238125\"/>\n      </g>\n     </g>\n     <g id=\"text_1\">\n      <!-- 0 -->\n      <defs>\n       <path d=\"M 31.78125 66.40625 \nQ 24.171875 66.40625 20.328125 58.90625 \nQ 16.5 51.421875 16.5 36.375 \nQ 16.5 21.390625 20.328125 13.890625 \nQ 24.171875 6.390625 31.78125 6.390625 \nQ 39.453125 6.390625 43.28125 13.890625 \nQ 47.125 21.390625 47.125 36.375 \nQ 47.125 51.421875 43.28125 58.90625 \nQ 39.453125 66.40625 31.78125 66.40625 \nz\nM 31.78125 74.21875 \nQ 44.046875 74.21875 50.515625 64.515625 \nQ 56.984375 54.828125 56.984375 36.375 \nQ 56.984375 17.96875 50.515625 8.265625 \nQ 44.046875 -1.421875 31.78125 -1.421875 \nQ 19.53125 -1.421875 13.0625 8.265625 \nQ 6.59375 17.96875 6.59375 36.375 \nQ 6.59375 54.828125 13.0625 64.515625 \nQ 19.53125 74.21875 31.78125 74.21875 \nz\n\" id=\"DejaVuSans-48\"/>\n      </defs>\n      <g transform=\"translate(26.921875 254.836562)scale(0.1 -0.1)\">\n       <use xlink:href=\"#DejaVuSans-48\"/>\n      </g>\n     </g>\n    </g>\n    <g id=\"xtick_2\">\n     <g id=\"line2d_2\">\n      <g>\n       <use style=\"stroke:#000000;stroke-width:0.8;\" x=\"83.245982\" xlink:href=\"#mfc2e2280ca\" y=\"240.238125\"/>\n      </g>\n     </g>\n     <g id=\"text_2\">\n      <!-- 2 -->\n      <defs>\n       <path d=\"M 19.1875 8.296875 \nL 53.609375 8.296875 \nL 53.609375 0 \nL 7.328125 0 \nL 7.328125 8.296875 \nQ 12.9375 14.109375 22.625 23.890625 \nQ 32.328125 33.6875 34.8125 36.53125 \nQ 39.546875 41.84375 41.421875 45.53125 \nQ 43.3125 49.21875 43.3125 52.78125 \nQ 43.3125 58.59375 39.234375 62.25 \nQ 35.15625 65.921875 28.609375 65.921875 \nQ 23.96875 65.921875 18.8125 64.3125 \nQ 13.671875 62.703125 7.8125 59.421875 \nL 7.8125 69.390625 \nQ 13.765625 71.78125 18.9375 73 \nQ 24.125 74.21875 28.421875 74.21875 \nQ 39.75 74.21875 46.484375 68.546875 \nQ 53.21875 62.890625 53.21875 53.421875 \nQ 53.21875 48.921875 51.53125 44.890625 \nQ 49.859375 40.875 45.40625 35.40625 \nQ 44.1875 33.984375 37.640625 27.21875 \nQ 31.109375 20.453125 19.1875 8.296875 \nz\n\" id=\"DejaVuSans-50\"/>\n      </defs>\n      <g transform=\"translate(80.064732 254.836562)scale(0.1 -0.1)\">\n       <use xlink:href=\"#DejaVuSans-50\"/>\n      </g>\n     </g>\n    </g>\n    <g id=\"xtick_3\">\n     <g id=\"line2d_3\">\n      <g>\n       <use style=\"stroke:#000000;stroke-width:0.8;\" x=\"136.388839\" xlink:href=\"#mfc2e2280ca\" y=\"240.238125\"/>\n      </g>\n     </g>\n     <g id=\"text_3\">\n      <!-- 4 -->\n      <defs>\n       <path d=\"M 37.796875 64.3125 \nL 12.890625 25.390625 \nL 37.796875 25.390625 \nz\nM 35.203125 72.90625 \nL 47.609375 72.90625 \nL 47.609375 25.390625 \nL 58.015625 25.390625 \nL 58.015625 17.1875 \nL 47.609375 17.1875 \nL 47.609375 0 \nL 37.796875 0 \nL 37.796875 17.1875 \nL 4.890625 17.1875 \nL 4.890625 26.703125 \nz\n\" id=\"DejaVuSans-52\"/>\n      </defs>\n      <g transform=\"translate(133.207589 254.836562)scale(0.1 -0.1)\">\n       <use xlink:href=\"#DejaVuSans-52\"/>\n      </g>\n     </g>\n    </g>\n    <g id=\"xtick_4\">\n     <g id=\"line2d_4\">\n      <g>\n       <use style=\"stroke:#000000;stroke-width:0.8;\" x=\"189.531696\" xlink:href=\"#mfc2e2280ca\" y=\"240.238125\"/>\n      </g>\n     </g>\n     <g id=\"text_4\">\n      <!-- 6 -->\n      <defs>\n       <path d=\"M 33.015625 40.375 \nQ 26.375 40.375 22.484375 35.828125 \nQ 18.609375 31.296875 18.609375 23.390625 \nQ 18.609375 15.53125 22.484375 10.953125 \nQ 26.375 6.390625 33.015625 6.390625 \nQ 39.65625 6.390625 43.53125 10.953125 \nQ 47.40625 15.53125 47.40625 23.390625 \nQ 47.40625 31.296875 43.53125 35.828125 \nQ 39.65625 40.375 33.015625 40.375 \nz\nM 52.59375 71.296875 \nL 52.59375 62.3125 \nQ 48.875 64.0625 45.09375 64.984375 \nQ 41.3125 65.921875 37.59375 65.921875 \nQ 27.828125 65.921875 22.671875 59.328125 \nQ 17.53125 52.734375 16.796875 39.40625 \nQ 19.671875 43.65625 24.015625 45.921875 \nQ 28.375 48.1875 33.59375 48.1875 \nQ 44.578125 48.1875 50.953125 41.515625 \nQ 57.328125 34.859375 57.328125 23.390625 \nQ 57.328125 12.15625 50.6875 5.359375 \nQ 44.046875 -1.421875 33.015625 -1.421875 \nQ 20.359375 -1.421875 13.671875 8.265625 \nQ 6.984375 17.96875 6.984375 36.375 \nQ 6.984375 53.65625 15.1875 63.9375 \nQ 23.390625 74.21875 37.203125 74.21875 \nQ 40.921875 74.21875 44.703125 73.484375 \nQ 48.484375 72.75 52.59375 71.296875 \nz\n\" id=\"DejaVuSans-54\"/>\n      </defs>\n      <g transform=\"translate(186.350446 254.836562)scale(0.1 -0.1)\">\n       <use xlink:href=\"#DejaVuSans-54\"/>\n      </g>\n     </g>\n    </g>\n    <g id=\"xtick_5\">\n     <g id=\"line2d_5\">\n      <g>\n       <use style=\"stroke:#000000;stroke-width:0.8;\" x=\"242.674554\" xlink:href=\"#mfc2e2280ca\" y=\"240.238125\"/>\n      </g>\n     </g>\n     <g id=\"text_5\">\n      <!-- 8 -->\n      <defs>\n       <path d=\"M 31.78125 34.625 \nQ 24.75 34.625 20.71875 30.859375 \nQ 16.703125 27.09375 16.703125 20.515625 \nQ 16.703125 13.921875 20.71875 10.15625 \nQ 24.75 6.390625 31.78125 6.390625 \nQ 38.8125 6.390625 42.859375 10.171875 \nQ 46.921875 13.96875 46.921875 20.515625 \nQ 46.921875 27.09375 42.890625 30.859375 \nQ 38.875 34.625 31.78125 34.625 \nz\nM 21.921875 38.8125 \nQ 15.578125 40.375 12.03125 44.71875 \nQ 8.5 49.078125 8.5 55.328125 \nQ 8.5 64.0625 14.71875 69.140625 \nQ 20.953125 74.21875 31.78125 74.21875 \nQ 42.671875 74.21875 48.875 69.140625 \nQ 55.078125 64.0625 55.078125 55.328125 \nQ 55.078125 49.078125 51.53125 44.71875 \nQ 48 40.375 41.703125 38.8125 \nQ 48.828125 37.15625 52.796875 32.3125 \nQ 56.78125 27.484375 56.78125 20.515625 \nQ 56.78125 9.90625 50.3125 4.234375 \nQ 43.84375 -1.421875 31.78125 -1.421875 \nQ 19.734375 -1.421875 13.25 4.234375 \nQ 6.78125 9.90625 6.78125 20.515625 \nQ 6.78125 27.484375 10.78125 32.3125 \nQ 14.796875 37.15625 21.921875 38.8125 \nz\nM 18.3125 54.390625 \nQ 18.3125 48.734375 21.84375 45.5625 \nQ 25.390625 42.390625 31.78125 42.390625 \nQ 38.140625 42.390625 41.71875 45.5625 \nQ 45.3125 48.734375 45.3125 54.390625 \nQ 45.3125 60.0625 41.71875 63.234375 \nQ 38.140625 66.40625 31.78125 66.40625 \nQ 25.390625 66.40625 21.84375 63.234375 \nQ 18.3125 60.0625 18.3125 54.390625 \nz\n\" id=\"DejaVuSans-56\"/>\n      </defs>\n      <g transform=\"translate(239.493304 254.836562)scale(0.1 -0.1)\">\n       <use xlink:href=\"#DejaVuSans-56\"/>\n      </g>\n     </g>\n    </g>\n    <g id=\"xtick_6\">\n     <g id=\"line2d_6\">\n      <g>\n       <use style=\"stroke:#000000;stroke-width:0.8;\" x=\"295.817411\" xlink:href=\"#mfc2e2280ca\" y=\"240.238125\"/>\n      </g>\n     </g>\n     <g id=\"text_6\">\n      <!-- 10 -->\n      <defs>\n       <path d=\"M 12.40625 8.296875 \nL 28.515625 8.296875 \nL 28.515625 63.921875 \nL 10.984375 60.40625 \nL 10.984375 69.390625 \nL 28.421875 72.90625 \nL 38.28125 72.90625 \nL 38.28125 8.296875 \nL 54.390625 8.296875 \nL 54.390625 0 \nL 12.40625 0 \nz\n\" id=\"DejaVuSans-49\"/>\n      </defs>\n      <g transform=\"translate(289.454911 254.836562)scale(0.1 -0.1)\">\n       <use xlink:href=\"#DejaVuSans-49\"/>\n       <use x=\"63.623047\" xlink:href=\"#DejaVuSans-48\"/>\n      </g>\n     </g>\n    </g>\n    <g id=\"xtick_7\">\n     <g id=\"line2d_7\">\n      <g>\n       <use style=\"stroke:#000000;stroke-width:0.8;\" x=\"348.960268\" xlink:href=\"#mfc2e2280ca\" y=\"240.238125\"/>\n      </g>\n     </g>\n     <g id=\"text_7\">\n      <!-- 12 -->\n      <g transform=\"translate(342.597768 254.836562)scale(0.1 -0.1)\">\n       <use xlink:href=\"#DejaVuSans-49\"/>\n       <use x=\"63.623047\" xlink:href=\"#DejaVuSans-50\"/>\n      </g>\n     </g>\n    </g>\n   </g>\n   <g id=\"matplotlib.axis_2\">\n    <g id=\"ytick_1\">\n     <g id=\"line2d_8\">\n      <defs>\n       <path d=\"M 0 0 \nL -3.5 0 \n\" id=\"mdcd1f3ecc4\" style=\"stroke:#000000;stroke-width:0.8;\"/>\n      </defs>\n      <g>\n       <use style=\"stroke:#000000;stroke-width:0.8;\" x=\"30.103125\" xlink:href=\"#mdcd1f3ecc4\" y=\"203.998125\"/>\n      </g>\n     </g>\n     <g id=\"text_8\">\n      <!-- 0.0 -->\n      <defs>\n       <path d=\"M 10.6875 12.40625 \nL 21 12.40625 \nL 21 0 \nL 10.6875 0 \nz\n\" id=\"DejaVuSans-46\"/>\n      </defs>\n      <g transform=\"translate(7.2 207.797344)scale(0.1 -0.1)\">\n       <use xlink:href=\"#DejaVuSans-48\"/>\n       <use x=\"63.623047\" xlink:href=\"#DejaVuSans-46\"/>\n       <use x=\"95.410156\" xlink:href=\"#DejaVuSans-48\"/>\n      </g>\n     </g>\n    </g>\n    <g id=\"ytick_2\">\n     <g id=\"line2d_9\">\n      <g>\n       <use style=\"stroke:#000000;stroke-width:0.8;\" x=\"30.103125\" xlink:href=\"#mdcd1f3ecc4\" y=\"131.518125\"/>\n      </g>\n     </g>\n     <g id=\"text_9\">\n      <!-- 1.0 -->\n      <g transform=\"translate(7.2 135.317344)scale(0.1 -0.1)\">\n       <use xlink:href=\"#DejaVuSans-49\"/>\n       <use x=\"63.623047\" xlink:href=\"#DejaVuSans-46\"/>\n       <use x=\"95.410156\" xlink:href=\"#DejaVuSans-48\"/>\n      </g>\n     </g>\n    </g>\n    <g id=\"ytick_3\">\n     <g id=\"line2d_10\">\n      <g>\n       <use style=\"stroke:#000000;stroke-width:0.8;\" x=\"30.103125\" xlink:href=\"#mdcd1f3ecc4\" y=\"59.038125\"/>\n      </g>\n     </g>\n     <g id=\"text_10\">\n      <!-- 2.0 -->\n      <g transform=\"translate(7.2 62.837344)scale(0.1 -0.1)\">\n       <use xlink:href=\"#DejaVuSans-50\"/>\n       <use x=\"63.623047\" xlink:href=\"#DejaVuSans-46\"/>\n       <use x=\"95.410156\" xlink:href=\"#DejaVuSans-48\"/>\n      </g>\n     </g>\n    </g>\n   </g>\n   <g id=\"patch_6\">\n    <path d=\"M 30.103125 240.238125 \nL 30.103125 22.798125 \n\" style=\"fill:none;stroke:#000000;stroke-linecap:square;stroke-linejoin:miter;stroke-width:0.8;\"/>\n   </g>\n   <g id=\"patch_7\">\n    <path d=\"M 364.903125 240.238125 \nL 364.903125 22.798125 \n\" style=\"fill:none;stroke:#000000;stroke-linecap:square;stroke-linejoin:miter;stroke-width:0.8;\"/>\n   </g>\n   <g id=\"patch_8\">\n    <path d=\"M 30.103125 240.238125 \nL 364.903125 240.238125 \n\" style=\"fill:none;stroke:#000000;stroke-linecap:square;stroke-linejoin:miter;stroke-width:0.8;\"/>\n   </g>\n   <g id=\"patch_9\">\n    <path d=\"M 30.103125 22.798125 \nL 364.903125 22.798125 \n\" style=\"fill:none;stroke:#000000;stroke-linecap:square;stroke-linejoin:miter;stroke-width:0.8;\"/>\n   </g>\n   <g id=\"text_11\">\n    <!-- Stress global par vidéo -->\n    <defs>\n     <path d=\"M 53.515625 70.515625 \nL 53.515625 60.890625 \nQ 47.90625 63.578125 42.921875 64.890625 \nQ 37.9375 66.21875 33.296875 66.21875 \nQ 25.25 66.21875 20.875 63.09375 \nQ 16.5 59.96875 16.5 54.203125 \nQ 16.5 49.359375 19.40625 46.890625 \nQ 22.3125 44.4375 30.421875 42.921875 \nL 36.375 41.703125 \nQ 47.40625 39.59375 52.65625 34.296875 \nQ 57.90625 29 57.90625 20.125 \nQ 57.90625 9.515625 50.796875 4.046875 \nQ 43.703125 -1.421875 29.984375 -1.421875 \nQ 24.8125 -1.421875 18.96875 -0.25 \nQ 13.140625 0.921875 6.890625 3.21875 \nL 6.890625 13.375 \nQ 12.890625 10.015625 18.65625 8.296875 \nQ 24.421875 6.59375 29.984375 6.59375 \nQ 38.421875 6.59375 43.015625 9.90625 \nQ 47.609375 13.234375 47.609375 19.390625 \nQ 47.609375 24.75 44.3125 27.78125 \nQ 41.015625 30.8125 33.5 32.328125 \nL 27.484375 33.5 \nQ 16.453125 35.6875 11.515625 40.375 \nQ 6.59375 45.0625 6.59375 53.421875 \nQ 6.59375 63.09375 13.40625 68.65625 \nQ 20.21875 74.21875 32.171875 74.21875 \nQ 37.3125 74.21875 42.625 73.28125 \nQ 47.953125 72.359375 53.515625 70.515625 \nz\n\" id=\"DejaVuSans-83\"/>\n     <path d=\"M 18.3125 70.21875 \nL 18.3125 54.6875 \nL 36.8125 54.6875 \nL 36.8125 47.703125 \nL 18.3125 47.703125 \nL 18.3125 18.015625 \nQ 18.3125 11.328125 20.140625 9.421875 \nQ 21.96875 7.515625 27.59375 7.515625 \nL 36.8125 7.515625 \nL 36.8125 0 \nL 27.59375 0 \nQ 17.1875 0 13.234375 3.875 \nQ 9.28125 7.765625 9.28125 18.015625 \nL 9.28125 47.703125 \nL 2.6875 47.703125 \nL 2.6875 54.6875 \nL 9.28125 54.6875 \nL 9.28125 70.21875 \nz\n\" id=\"DejaVuSans-116\"/>\n     <path d=\"M 41.109375 46.296875 \nQ 39.59375 47.171875 37.8125 47.578125 \nQ 36.03125 48 33.890625 48 \nQ 26.265625 48 22.1875 43.046875 \nQ 18.109375 38.09375 18.109375 28.8125 \nL 18.109375 0 \nL 9.078125 0 \nL 9.078125 54.6875 \nL 18.109375 54.6875 \nL 18.109375 46.1875 \nQ 20.953125 51.171875 25.484375 53.578125 \nQ 30.03125 56 36.53125 56 \nQ 37.453125 56 38.578125 55.875 \nQ 39.703125 55.765625 41.0625 55.515625 \nz\n\" id=\"DejaVuSans-114\"/>\n     <path d=\"M 56.203125 29.59375 \nL 56.203125 25.203125 \nL 14.890625 25.203125 \nQ 15.484375 15.921875 20.484375 11.0625 \nQ 25.484375 6.203125 34.421875 6.203125 \nQ 39.59375 6.203125 44.453125 7.46875 \nQ 49.3125 8.734375 54.109375 11.28125 \nL 54.109375 2.78125 \nQ 49.265625 0.734375 44.1875 -0.34375 \nQ 39.109375 -1.421875 33.890625 -1.421875 \nQ 20.796875 -1.421875 13.15625 6.1875 \nQ 5.515625 13.8125 5.515625 26.8125 \nQ 5.515625 40.234375 12.765625 48.109375 \nQ 20.015625 56 32.328125 56 \nQ 43.359375 56 49.78125 48.890625 \nQ 56.203125 41.796875 56.203125 29.59375 \nz\nM 47.21875 32.234375 \nQ 47.125 39.59375 43.09375 43.984375 \nQ 39.0625 48.390625 32.421875 48.390625 \nQ 24.90625 48.390625 20.390625 44.140625 \nQ 15.875 39.890625 15.1875 32.171875 \nz\n\" id=\"DejaVuSans-101\"/>\n     <path d=\"M 44.28125 53.078125 \nL 44.28125 44.578125 \nQ 40.484375 46.53125 36.375 47.5 \nQ 32.28125 48.484375 27.875 48.484375 \nQ 21.1875 48.484375 17.84375 46.4375 \nQ 14.5 44.390625 14.5 40.28125 \nQ 14.5 37.15625 16.890625 35.375 \nQ 19.28125 33.59375 26.515625 31.984375 \nL 29.59375 31.296875 \nQ 39.15625 29.25 43.1875 25.515625 \nQ 47.21875 21.78125 47.21875 15.09375 \nQ 47.21875 7.46875 41.1875 3.015625 \nQ 35.15625 -1.421875 24.609375 -1.421875 \nQ 20.21875 -1.421875 15.453125 -0.5625 \nQ 10.6875 0.296875 5.421875 2 \nL 5.421875 11.28125 \nQ 10.40625 8.6875 15.234375 7.390625 \nQ 20.0625 6.109375 24.8125 6.109375 \nQ 31.15625 6.109375 34.5625 8.28125 \nQ 37.984375 10.453125 37.984375 14.40625 \nQ 37.984375 18.0625 35.515625 20.015625 \nQ 33.0625 21.96875 24.703125 23.78125 \nL 21.578125 24.515625 \nQ 13.234375 26.265625 9.515625 29.90625 \nQ 5.8125 33.546875 5.8125 39.890625 \nQ 5.8125 47.609375 11.28125 51.796875 \nQ 16.75 56 26.8125 56 \nQ 31.78125 56 36.171875 55.265625 \nQ 40.578125 54.546875 44.28125 53.078125 \nz\n\" id=\"DejaVuSans-115\"/>\n     <path id=\"DejaVuSans-32\"/>\n     <path d=\"M 45.40625 27.984375 \nQ 45.40625 37.75 41.375 43.109375 \nQ 37.359375 48.484375 30.078125 48.484375 \nQ 22.859375 48.484375 18.828125 43.109375 \nQ 14.796875 37.75 14.796875 27.984375 \nQ 14.796875 18.265625 18.828125 12.890625 \nQ 22.859375 7.515625 30.078125 7.515625 \nQ 37.359375 7.515625 41.375 12.890625 \nQ 45.40625 18.265625 45.40625 27.984375 \nz\nM 54.390625 6.78125 \nQ 54.390625 -7.171875 48.1875 -13.984375 \nQ 42 -20.796875 29.203125 -20.796875 \nQ 24.46875 -20.796875 20.265625 -20.09375 \nQ 16.0625 -19.390625 12.109375 -17.921875 \nL 12.109375 -9.1875 \nQ 16.0625 -11.328125 19.921875 -12.34375 \nQ 23.78125 -13.375 27.78125 -13.375 \nQ 36.625 -13.375 41.015625 -8.765625 \nQ 45.40625 -4.15625 45.40625 5.171875 \nL 45.40625 9.625 \nQ 42.625 4.78125 38.28125 2.390625 \nQ 33.9375 0 27.875 0 \nQ 17.828125 0 11.671875 7.65625 \nQ 5.515625 15.328125 5.515625 27.984375 \nQ 5.515625 40.671875 11.671875 48.328125 \nQ 17.828125 56 27.875 56 \nQ 33.9375 56 38.28125 53.609375 \nQ 42.625 51.21875 45.40625 46.390625 \nL 45.40625 54.6875 \nL 54.390625 54.6875 \nz\n\" id=\"DejaVuSans-103\"/>\n     <path d=\"M 9.421875 75.984375 \nL 18.40625 75.984375 \nL 18.40625 0 \nL 9.421875 0 \nz\n\" id=\"DejaVuSans-108\"/>\n     <path d=\"M 30.609375 48.390625 \nQ 23.390625 48.390625 19.1875 42.75 \nQ 14.984375 37.109375 14.984375 27.296875 \nQ 14.984375 17.484375 19.15625 11.84375 \nQ 23.34375 6.203125 30.609375 6.203125 \nQ 37.796875 6.203125 41.984375 11.859375 \nQ 46.1875 17.53125 46.1875 27.296875 \nQ 46.1875 37.015625 41.984375 42.703125 \nQ 37.796875 48.390625 30.609375 48.390625 \nz\nM 30.609375 56 \nQ 42.328125 56 49.015625 48.375 \nQ 55.71875 40.765625 55.71875 27.296875 \nQ 55.71875 13.875 49.015625 6.21875 \nQ 42.328125 -1.421875 30.609375 -1.421875 \nQ 18.84375 -1.421875 12.171875 6.21875 \nQ 5.515625 13.875 5.515625 27.296875 \nQ 5.515625 40.765625 12.171875 48.375 \nQ 18.84375 56 30.609375 56 \nz\n\" id=\"DejaVuSans-111\"/>\n     <path d=\"M 48.6875 27.296875 \nQ 48.6875 37.203125 44.609375 42.84375 \nQ 40.53125 48.484375 33.40625 48.484375 \nQ 26.265625 48.484375 22.1875 42.84375 \nQ 18.109375 37.203125 18.109375 27.296875 \nQ 18.109375 17.390625 22.1875 11.75 \nQ 26.265625 6.109375 33.40625 6.109375 \nQ 40.53125 6.109375 44.609375 11.75 \nQ 48.6875 17.390625 48.6875 27.296875 \nz\nM 18.109375 46.390625 \nQ 20.953125 51.265625 25.265625 53.625 \nQ 29.59375 56 35.59375 56 \nQ 45.5625 56 51.78125 48.09375 \nQ 58.015625 40.1875 58.015625 27.296875 \nQ 58.015625 14.40625 51.78125 6.484375 \nQ 45.5625 -1.421875 35.59375 -1.421875 \nQ 29.59375 -1.421875 25.265625 0.953125 \nQ 20.953125 3.328125 18.109375 8.203125 \nL 18.109375 0 \nL 9.078125 0 \nL 9.078125 75.984375 \nL 18.109375 75.984375 \nz\n\" id=\"DejaVuSans-98\"/>\n     <path d=\"M 34.28125 27.484375 \nQ 23.390625 27.484375 19.1875 25 \nQ 14.984375 22.515625 14.984375 16.5 \nQ 14.984375 11.71875 18.140625 8.90625 \nQ 21.296875 6.109375 26.703125 6.109375 \nQ 34.1875 6.109375 38.703125 11.40625 \nQ 43.21875 16.703125 43.21875 25.484375 \nL 43.21875 27.484375 \nz\nM 52.203125 31.203125 \nL 52.203125 0 \nL 43.21875 0 \nL 43.21875 8.296875 \nQ 40.140625 3.328125 35.546875 0.953125 \nQ 30.953125 -1.421875 24.3125 -1.421875 \nQ 15.921875 -1.421875 10.953125 3.296875 \nQ 6 8.015625 6 15.921875 \nQ 6 25.140625 12.171875 29.828125 \nQ 18.359375 34.515625 30.609375 34.515625 \nL 43.21875 34.515625 \nL 43.21875 35.40625 \nQ 43.21875 41.609375 39.140625 45 \nQ 35.0625 48.390625 27.6875 48.390625 \nQ 23 48.390625 18.546875 47.265625 \nQ 14.109375 46.140625 10.015625 43.890625 \nL 10.015625 52.203125 \nQ 14.9375 54.109375 19.578125 55.046875 \nQ 24.21875 56 28.609375 56 \nQ 40.484375 56 46.34375 49.84375 \nQ 52.203125 43.703125 52.203125 31.203125 \nz\n\" id=\"DejaVuSans-97\"/>\n     <path d=\"M 18.109375 8.203125 \nL 18.109375 -20.796875 \nL 9.078125 -20.796875 \nL 9.078125 54.6875 \nL 18.109375 54.6875 \nL 18.109375 46.390625 \nQ 20.953125 51.265625 25.265625 53.625 \nQ 29.59375 56 35.59375 56 \nQ 45.5625 56 51.78125 48.09375 \nQ 58.015625 40.1875 58.015625 27.296875 \nQ 58.015625 14.40625 51.78125 6.484375 \nQ 45.5625 -1.421875 35.59375 -1.421875 \nQ 29.59375 -1.421875 25.265625 0.953125 \nQ 20.953125 3.328125 18.109375 8.203125 \nz\nM 48.6875 27.296875 \nQ 48.6875 37.203125 44.609375 42.84375 \nQ 40.53125 48.484375 33.40625 48.484375 \nQ 26.265625 48.484375 22.1875 42.84375 \nQ 18.109375 37.203125 18.109375 27.296875 \nQ 18.109375 17.390625 22.1875 11.75 \nQ 26.265625 6.109375 33.40625 6.109375 \nQ 40.53125 6.109375 44.609375 11.75 \nQ 48.6875 17.390625 48.6875 27.296875 \nz\n\" id=\"DejaVuSans-112\"/>\n     <path d=\"M 2.984375 54.6875 \nL 12.5 54.6875 \nL 29.59375 8.796875 \nL 46.6875 54.6875 \nL 56.203125 54.6875 \nL 35.6875 0 \nL 23.484375 0 \nz\n\" id=\"DejaVuSans-118\"/>\n     <path d=\"M 9.421875 54.6875 \nL 18.40625 54.6875 \nL 18.40625 0 \nL 9.421875 0 \nz\nM 9.421875 75.984375 \nL 18.40625 75.984375 \nL 18.40625 64.59375 \nL 9.421875 64.59375 \nz\n\" id=\"DejaVuSans-105\"/>\n     <path d=\"M 45.40625 46.390625 \nL 45.40625 75.984375 \nL 54.390625 75.984375 \nL 54.390625 0 \nL 45.40625 0 \nL 45.40625 8.203125 \nQ 42.578125 3.328125 38.25 0.953125 \nQ 33.9375 -1.421875 27.875 -1.421875 \nQ 17.96875 -1.421875 11.734375 6.484375 \nQ 5.515625 14.40625 5.515625 27.296875 \nQ 5.515625 40.1875 11.734375 48.09375 \nQ 17.96875 56 27.875 56 \nQ 33.9375 56 38.25 53.625 \nQ 42.578125 51.265625 45.40625 46.390625 \nz\nM 14.796875 27.296875 \nQ 14.796875 17.390625 18.875 11.75 \nQ 22.953125 6.109375 30.078125 6.109375 \nQ 37.203125 6.109375 41.296875 11.75 \nQ 45.40625 17.390625 45.40625 27.296875 \nQ 45.40625 37.203125 41.296875 42.84375 \nQ 37.203125 48.484375 30.078125 48.484375 \nQ 22.953125 48.484375 18.875 42.84375 \nQ 14.796875 37.203125 14.796875 27.296875 \nz\n\" id=\"DejaVuSans-100\"/>\n     <path d=\"M 56.203125 29.59375 \nL 56.203125 25.203125 \nL 14.890625 25.203125 \nQ 15.484375 15.921875 20.484375 11.0625 \nQ 25.484375 6.203125 34.421875 6.203125 \nQ 39.59375 6.203125 44.453125 7.46875 \nQ 49.3125 8.734375 54.109375 11.28125 \nL 54.109375 2.78125 \nQ 49.265625 0.734375 44.1875 -0.34375 \nQ 39.109375 -1.421875 33.890625 -1.421875 \nQ 20.796875 -1.421875 13.15625 6.1875 \nQ 5.515625 13.8125 5.515625 26.8125 \nQ 5.515625 40.234375 12.765625 48.109375 \nQ 20.015625 56 32.328125 56 \nQ 43.359375 56 49.78125 48.890625 \nQ 56.203125 41.796875 56.203125 29.59375 \nz\nM 47.21875 32.234375 \nQ 47.125 39.59375 43.09375 43.984375 \nQ 39.0625 48.390625 32.421875 48.390625 \nQ 24.90625 48.390625 20.390625 44.140625 \nQ 15.875 39.890625 15.1875 32.171875 \nz\nM 38.578125 79.984375 \nL 48.296875 79.984375 \nL 32.375 61.625 \nL 24.90625 61.625 \nz\n\" id=\"DejaVuSans-233\"/>\n    </defs>\n    <g transform=\"translate(128.570625 16.798125)scale(0.12 -0.12)\">\n     <use xlink:href=\"#DejaVuSans-83\"/>\n     <use x=\"63.476562\" xlink:href=\"#DejaVuSans-116\"/>\n     <use x=\"102.685547\" xlink:href=\"#DejaVuSans-114\"/>\n     <use x=\"143.767578\" xlink:href=\"#DejaVuSans-101\"/>\n     <use x=\"205.291016\" xlink:href=\"#DejaVuSans-115\"/>\n     <use x=\"257.390625\" xlink:href=\"#DejaVuSans-115\"/>\n     <use x=\"309.490234\" xlink:href=\"#DejaVuSans-32\"/>\n     <use x=\"341.277344\" xlink:href=\"#DejaVuSans-103\"/>\n     <use x=\"404.753906\" xlink:href=\"#DejaVuSans-108\"/>\n     <use x=\"432.537109\" xlink:href=\"#DejaVuSans-111\"/>\n     <use x=\"493.71875\" xlink:href=\"#DejaVuSans-98\"/>\n     <use x=\"557.195312\" xlink:href=\"#DejaVuSans-97\"/>\n     <use x=\"618.474609\" xlink:href=\"#DejaVuSans-108\"/>\n     <use x=\"646.257812\" xlink:href=\"#DejaVuSans-32\"/>\n     <use x=\"678.044922\" xlink:href=\"#DejaVuSans-112\"/>\n     <use x=\"741.521484\" xlink:href=\"#DejaVuSans-97\"/>\n     <use x=\"802.800781\" xlink:href=\"#DejaVuSans-114\"/>\n     <use x=\"843.914062\" xlink:href=\"#DejaVuSans-32\"/>\n     <use x=\"875.701172\" xlink:href=\"#DejaVuSans-118\"/>\n     <use x=\"934.880859\" xlink:href=\"#DejaVuSans-105\"/>\n     <use x=\"962.664062\" xlink:href=\"#DejaVuSans-100\"/>\n     <use x=\"1026.140625\" xlink:href=\"#DejaVuSans-233\"/>\n     <use x=\"1087.664062\" xlink:href=\"#DejaVuSans-111\"/>\n    </g>\n   </g>\n  </g>\n </g>\n <defs>\n  <clipPath id=\"p82a4579ff5\">\n   <rect height=\"217.44\" width=\"334.8\" x=\"30.103125\" y=\"22.798125\"/>\n  </clipPath>\n </defs>\n</svg>\n",
      "image/png": "[encoded data removed]"
     },
     "metadata": {
      "needs_background": "light"
     }
    }
   ],
   "source": [
    "df_stats_stress_global.plot(kind='barh', title='Stress global par vidéo');\n"
   ]
  },
  {
   "cell_type": "code",
   "execution_count": 16,
   "metadata": {},
   "outputs": [
    {
     "output_type": "execute_result",
     "data": {
      "text/plain": [
       "0.0    101\n",
       "1.0    113\n",
       "2.0     25\n",
       "3.0      1\n",
       "Name: stress, dtype: int64"
      ]
     },
     "metadata": {},
     "execution_count": 16
    }
   ],
   "source": [
    "df_stats_stress = df_total[['video_name','diapo','stress']].drop_duplicates()['stress'].value_counts().sort_index()\n",
    "df_stats_stress"
   ]
  },
  {
   "cell_type": "code",
   "execution_count": 17,
   "metadata": {},
   "outputs": [
    {
     "output_type": "display_data",
     "data": {
      "text/plain": "<Figure size 432x288 with 1 Axes>",
      "image/svg+xml": "<?xml version=\"1.0\" encoding=\"utf-8\" standalone=\"no\"?>\n<!DOCTYPE svg PUBLIC \"-//W3C//DTD SVG 1.1//EN\"\n  \"http://www.w3.org/Graphics/SVG/1.1/DTD/svg11.dtd\">\n<!-- Created with matplotlib (https://matplotlib.org/) -->\n<svg height=\"264.11625pt\" version=\"1.1\" viewBox=\"0 0 375.603125 264.11625\" width=\"375.603125pt\" xmlns=\"http://www.w3.org/2000/svg\" xmlns:xlink=\"http://www.w3.org/1999/xlink\">\n <defs>\n  <style type=\"text/css\">\n*{stroke-linecap:butt;stroke-linejoin:round;}\n  </style>\n </defs>\n <g id=\"figure_1\">\n  <g id=\"patch_1\">\n   <path d=\"M 0 264.11625 \nL 375.603125 264.11625 \nL 375.603125 0 \nL 0 0 \nz\n\" style=\"fill:none;\"/>\n  </g>\n  <g id=\"axes_1\">\n   <g id=\"patch_2\">\n    <path d=\"M 30.103125 240.238125 \nL 364.903125 240.238125 \nL 364.903125 22.798125 \nL 30.103125 22.798125 \nz\n\" style=\"fill:#ffffff;\"/>\n   </g>\n   <g id=\"patch_3\">\n    <path clip-path=\"url(#p16842f812e)\" d=\"M 30.103125 226.648125 \nL 315.099332 226.648125 \nL 315.099332 199.468125 \nL 30.103125 199.468125 \nz\n\" style=\"fill:#1f77b4;\"/>\n   </g>\n   <g id=\"patch_4\">\n    <path clip-path=\"url(#p16842f812e)\" d=\"M 30.103125 172.288125 \nL 348.960268 172.288125 \nL 348.960268 145.108125 \nL 30.103125 145.108125 \nz\n\" style=\"fill:#1f77b4;\"/>\n   </g>\n   <g id=\"patch_5\">\n    <path clip-path=\"url(#p16842f812e)\" d=\"M 30.103125 117.928125 \nL 100.646741 117.928125 \nL 100.646741 90.748125 \nL 30.103125 90.748125 \nz\n\" style=\"fill:#1f77b4;\"/>\n   </g>\n   <g id=\"patch_6\">\n    <path clip-path=\"url(#p16842f812e)\" d=\"M 30.103125 63.568125 \nL 32.92487 63.568125 \nL 32.92487 36.388125 \nL 30.103125 36.388125 \nz\n\" style=\"fill:#1f77b4;\"/>\n   </g>\n   <g id=\"matplotlib.axis_1\">\n    <g id=\"xtick_1\">\n     <g id=\"line2d_1\">\n      <defs>\n       <path d=\"M 0 0 \nL 0 3.5 \n\" id=\"me4d883c4bb\" style=\"stroke:#000000;stroke-width:0.8;\"/>\n      </defs>\n      <g>\n       <use style=\"stroke:#000000;stroke-width:0.8;\" x=\"30.103125\" xlink:href=\"#me4d883c4bb\" y=\"240.238125\"/>\n      </g>\n     </g>\n     <g id=\"text_1\">\n      <!-- 0 -->\n      <defs>\n       <path d=\"M 31.78125 66.40625 \nQ 24.171875 66.40625 20.328125 58.90625 \nQ 16.5 51.421875 16.5 36.375 \nQ 16.5 21.390625 20.328125 13.890625 \nQ 24.171875 6.390625 31.78125 6.390625 \nQ 39.453125 6.390625 43.28125 13.890625 \nQ 47.125 21.390625 47.125 36.375 \nQ 47.125 51.421875 43.28125 58.90625 \nQ 39.453125 66.40625 31.78125 66.40625 \nz\nM 31.78125 74.21875 \nQ 44.046875 74.21875 50.515625 64.515625 \nQ 56.984375 54.828125 56.984375 36.375 \nQ 56.984375 17.96875 50.515625 8.265625 \nQ 44.046875 -1.421875 31.78125 -1.421875 \nQ 19.53125 -1.421875 13.0625 8.265625 \nQ 6.59375 17.96875 6.59375 36.375 \nQ 6.59375 54.828125 13.0625 64.515625 \nQ 19.53125 74.21875 31.78125 74.21875 \nz\n\" id=\"DejaVuSans-48\"/>\n      </defs>\n      <g transform=\"translate(26.921875 254.836562)scale(0.1 -0.1)\">\n       <use xlink:href=\"#DejaVuSans-48\"/>\n      </g>\n     </g>\n    </g>\n    <g id=\"xtick_2\">\n     <g id=\"line2d_2\">\n      <g>\n       <use style=\"stroke:#000000;stroke-width:0.8;\" x=\"86.538018\" xlink:href=\"#me4d883c4bb\" y=\"240.238125\"/>\n      </g>\n     </g>\n     <g id=\"text_2\">\n      <!-- 20 -->\n      <defs>\n       <path d=\"M 19.1875 8.296875 \nL 53.609375 8.296875 \nL 53.609375 0 \nL 7.328125 0 \nL 7.328125 8.296875 \nQ 12.9375 14.109375 22.625 23.890625 \nQ 32.328125 33.6875 34.8125 36.53125 \nQ 39.546875 41.84375 41.421875 45.53125 \nQ 43.3125 49.21875 43.3125 52.78125 \nQ 43.3125 58.59375 39.234375 62.25 \nQ 35.15625 65.921875 28.609375 65.921875 \nQ 23.96875 65.921875 18.8125 64.3125 \nQ 13.671875 62.703125 7.8125 59.421875 \nL 7.8125 69.390625 \nQ 13.765625 71.78125 18.9375 73 \nQ 24.125 74.21875 28.421875 74.21875 \nQ 39.75 74.21875 46.484375 68.546875 \nQ 53.21875 62.890625 53.21875 53.421875 \nQ 53.21875 48.921875 51.53125 44.890625 \nQ 49.859375 40.875 45.40625 35.40625 \nQ 44.1875 33.984375 37.640625 27.21875 \nQ 31.109375 20.453125 19.1875 8.296875 \nz\n\" id=\"DejaVuSans-50\"/>\n      </defs>\n      <g transform=\"translate(80.175518 254.836562)scale(0.1 -0.1)\">\n       <use xlink:href=\"#DejaVuSans-50\"/>\n       <use x=\"63.623047\" xlink:href=\"#DejaVuSans-48\"/>\n      </g>\n     </g>\n    </g>\n    <g id=\"xtick_3\">\n     <g id=\"line2d_3\">\n      <g>\n       <use style=\"stroke:#000000;stroke-width:0.8;\" x=\"142.97291\" xlink:href=\"#me4d883c4bb\" y=\"240.238125\"/>\n      </g>\n     </g>\n     <g id=\"text_3\">\n      <!-- 40 -->\n      <defs>\n       <path d=\"M 37.796875 64.3125 \nL 12.890625 25.390625 \nL 37.796875 25.390625 \nz\nM 35.203125 72.90625 \nL 47.609375 72.90625 \nL 47.609375 25.390625 \nL 58.015625 25.390625 \nL 58.015625 17.1875 \nL 47.609375 17.1875 \nL 47.609375 0 \nL 37.796875 0 \nL 37.796875 17.1875 \nL 4.890625 17.1875 \nL 4.890625 26.703125 \nz\n\" id=\"DejaVuSans-52\"/>\n      </defs>\n      <g transform=\"translate(136.61041 254.836562)scale(0.1 -0.1)\">\n       <use xlink:href=\"#DejaVuSans-52\"/>\n       <use x=\"63.623047\" xlink:href=\"#DejaVuSans-48\"/>\n      </g>\n     </g>\n    </g>\n    <g id=\"xtick_4\">\n     <g id=\"line2d_4\">\n      <g>\n       <use style=\"stroke:#000000;stroke-width:0.8;\" x=\"199.407803\" xlink:href=\"#me4d883c4bb\" y=\"240.238125\"/>\n      </g>\n     </g>\n     <g id=\"text_4\">\n      <!-- 60 -->\n      <defs>\n       <path d=\"M 33.015625 40.375 \nQ 26.375 40.375 22.484375 35.828125 \nQ 18.609375 31.296875 18.609375 23.390625 \nQ 18.609375 15.53125 22.484375 10.953125 \nQ 26.375 6.390625 33.015625 6.390625 \nQ 39.65625 6.390625 43.53125 10.953125 \nQ 47.40625 15.53125 47.40625 23.390625 \nQ 47.40625 31.296875 43.53125 35.828125 \nQ 39.65625 40.375 33.015625 40.375 \nz\nM 52.59375 71.296875 \nL 52.59375 62.3125 \nQ 48.875 64.0625 45.09375 64.984375 \nQ 41.3125 65.921875 37.59375 65.921875 \nQ 27.828125 65.921875 22.671875 59.328125 \nQ 17.53125 52.734375 16.796875 39.40625 \nQ 19.671875 43.65625 24.015625 45.921875 \nQ 28.375 48.1875 33.59375 48.1875 \nQ 44.578125 48.1875 50.953125 41.515625 \nQ 57.328125 34.859375 57.328125 23.390625 \nQ 57.328125 12.15625 50.6875 5.359375 \nQ 44.046875 -1.421875 33.015625 -1.421875 \nQ 20.359375 -1.421875 13.671875 8.265625 \nQ 6.984375 17.96875 6.984375 36.375 \nQ 6.984375 53.65625 15.1875 63.9375 \nQ 23.390625 74.21875 37.203125 74.21875 \nQ 40.921875 74.21875 44.703125 73.484375 \nQ 48.484375 72.75 52.59375 71.296875 \nz\n\" id=\"DejaVuSans-54\"/>\n      </defs>\n      <g transform=\"translate(193.045303 254.836562)scale(0.1 -0.1)\">\n       <use xlink:href=\"#DejaVuSans-54\"/>\n       <use x=\"63.623047\" xlink:href=\"#DejaVuSans-48\"/>\n      </g>\n     </g>\n    </g>\n    <g id=\"xtick_5\">\n     <g id=\"line2d_5\">\n      <g>\n       <use style=\"stroke:#000000;stroke-width:0.8;\" x=\"255.842695\" xlink:href=\"#me4d883c4bb\" y=\"240.238125\"/>\n      </g>\n     </g>\n     <g id=\"text_5\">\n      <!-- 80 -->\n      <defs>\n       <path d=\"M 31.78125 34.625 \nQ 24.75 34.625 20.71875 30.859375 \nQ 16.703125 27.09375 16.703125 20.515625 \nQ 16.703125 13.921875 20.71875 10.15625 \nQ 24.75 6.390625 31.78125 6.390625 \nQ 38.8125 6.390625 42.859375 10.171875 \nQ 46.921875 13.96875 46.921875 20.515625 \nQ 46.921875 27.09375 42.890625 30.859375 \nQ 38.875 34.625 31.78125 34.625 \nz\nM 21.921875 38.8125 \nQ 15.578125 40.375 12.03125 44.71875 \nQ 8.5 49.078125 8.5 55.328125 \nQ 8.5 64.0625 14.71875 69.140625 \nQ 20.953125 74.21875 31.78125 74.21875 \nQ 42.671875 74.21875 48.875 69.140625 \nQ 55.078125 64.0625 55.078125 55.328125 \nQ 55.078125 49.078125 51.53125 44.71875 \nQ 48 40.375 41.703125 38.8125 \nQ 48.828125 37.15625 52.796875 32.3125 \nQ 56.78125 27.484375 56.78125 20.515625 \nQ 56.78125 9.90625 50.3125 4.234375 \nQ 43.84375 -1.421875 31.78125 -1.421875 \nQ 19.734375 -1.421875 13.25 4.234375 \nQ 6.78125 9.90625 6.78125 20.515625 \nQ 6.78125 27.484375 10.78125 32.3125 \nQ 14.796875 37.15625 21.921875 38.8125 \nz\nM 18.3125 54.390625 \nQ 18.3125 48.734375 21.84375 45.5625 \nQ 25.390625 42.390625 31.78125 42.390625 \nQ 38.140625 42.390625 41.71875 45.5625 \nQ 45.3125 48.734375 45.3125 54.390625 \nQ 45.3125 60.0625 41.71875 63.234375 \nQ 38.140625 66.40625 31.78125 66.40625 \nQ 25.390625 66.40625 21.84375 63.234375 \nQ 18.3125 60.0625 18.3125 54.390625 \nz\n\" id=\"DejaVuSans-56\"/>\n      </defs>\n      <g transform=\"translate(249.480195 254.836562)scale(0.1 -0.1)\">\n       <use xlink:href=\"#DejaVuSans-56\"/>\n       <use x=\"63.623047\" xlink:href=\"#DejaVuSans-48\"/>\n      </g>\n     </g>\n    </g>\n    <g id=\"xtick_6\">\n     <g id=\"line2d_6\">\n      <g>\n       <use style=\"stroke:#000000;stroke-width:0.8;\" x=\"312.277588\" xlink:href=\"#me4d883c4bb\" y=\"240.238125\"/>\n      </g>\n     </g>\n     <g id=\"text_6\">\n      <!-- 100 -->\n      <defs>\n       <path d=\"M 12.40625 8.296875 \nL 28.515625 8.296875 \nL 28.515625 63.921875 \nL 10.984375 60.40625 \nL 10.984375 69.390625 \nL 28.421875 72.90625 \nL 38.28125 72.90625 \nL 38.28125 8.296875 \nL 54.390625 8.296875 \nL 54.390625 0 \nL 12.40625 0 \nz\n\" id=\"DejaVuSans-49\"/>\n      </defs>\n      <g transform=\"translate(302.733838 254.836562)scale(0.1 -0.1)\">\n       <use xlink:href=\"#DejaVuSans-49\"/>\n       <use x=\"63.623047\" xlink:href=\"#DejaVuSans-48\"/>\n       <use x=\"127.246094\" xlink:href=\"#DejaVuSans-48\"/>\n      </g>\n     </g>\n    </g>\n   </g>\n   <g id=\"matplotlib.axis_2\">\n    <g id=\"ytick_1\">\n     <g id=\"line2d_7\">\n      <defs>\n       <path d=\"M 0 0 \nL -3.5 0 \n\" id=\"mb9e77dac6f\" style=\"stroke:#000000;stroke-width:0.8;\"/>\n      </defs>\n      <g>\n       <use style=\"stroke:#000000;stroke-width:0.8;\" x=\"30.103125\" xlink:href=\"#mb9e77dac6f\" y=\"213.058125\"/>\n      </g>\n     </g>\n     <g id=\"text_7\">\n      <!-- 0.0 -->\n      <defs>\n       <path d=\"M 10.6875 12.40625 \nL 21 12.40625 \nL 21 0 \nL 10.6875 0 \nz\n\" id=\"DejaVuSans-46\"/>\n      </defs>\n      <g transform=\"translate(7.2 216.857344)scale(0.1 -0.1)\">\n       <use xlink:href=\"#DejaVuSans-48\"/>\n       <use x=\"63.623047\" xlink:href=\"#DejaVuSans-46\"/>\n       <use x=\"95.410156\" xlink:href=\"#DejaVuSans-48\"/>\n      </g>\n     </g>\n    </g>\n    <g id=\"ytick_2\">\n     <g id=\"line2d_8\">\n      <g>\n       <use style=\"stroke:#000000;stroke-width:0.8;\" x=\"30.103125\" xlink:href=\"#mb9e77dac6f\" y=\"158.698125\"/>\n      </g>\n     </g>\n     <g id=\"text_8\">\n      <!-- 1.0 -->\n      <g transform=\"translate(7.2 162.497344)scale(0.1 -0.1)\">\n       <use xlink:href=\"#DejaVuSans-49\"/>\n       <use x=\"63.623047\" xlink:href=\"#DejaVuSans-46\"/>\n       <use x=\"95.410156\" xlink:href=\"#DejaVuSans-48\"/>\n      </g>\n     </g>\n    </g>\n    <g id=\"ytick_3\">\n     <g id=\"line2d_9\">\n      <g>\n       <use style=\"stroke:#000000;stroke-width:0.8;\" x=\"30.103125\" xlink:href=\"#mb9e77dac6f\" y=\"104.338125\"/>\n      </g>\n     </g>\n     <g id=\"text_9\">\n      <!-- 2.0 -->\n      <g transform=\"translate(7.2 108.137344)scale(0.1 -0.1)\">\n       <use xlink:href=\"#DejaVuSans-50\"/>\n       <use x=\"63.623047\" xlink:href=\"#DejaVuSans-46\"/>\n       <use x=\"95.410156\" xlink:href=\"#DejaVuSans-48\"/>\n      </g>\n     </g>\n    </g>\n    <g id=\"ytick_4\">\n     <g id=\"line2d_10\">\n      <g>\n       <use style=\"stroke:#000000;stroke-width:0.8;\" x=\"30.103125\" xlink:href=\"#mb9e77dac6f\" y=\"49.978125\"/>\n      </g>\n     </g>\n     <g id=\"text_10\">\n      <!-- 3.0 -->\n      <defs>\n       <path d=\"M 40.578125 39.3125 \nQ 47.65625 37.796875 51.625 33 \nQ 55.609375 28.21875 55.609375 21.1875 \nQ 55.609375 10.40625 48.1875 4.484375 \nQ 40.765625 -1.421875 27.09375 -1.421875 \nQ 22.515625 -1.421875 17.65625 -0.515625 \nQ 12.796875 0.390625 7.625 2.203125 \nL 7.625 11.71875 \nQ 11.71875 9.328125 16.59375 8.109375 \nQ 21.484375 6.890625 26.8125 6.890625 \nQ 36.078125 6.890625 40.9375 10.546875 \nQ 45.796875 14.203125 45.796875 21.1875 \nQ 45.796875 27.640625 41.28125 31.265625 \nQ 36.765625 34.90625 28.71875 34.90625 \nL 20.21875 34.90625 \nL 20.21875 43.015625 \nL 29.109375 43.015625 \nQ 36.375 43.015625 40.234375 45.921875 \nQ 44.09375 48.828125 44.09375 54.296875 \nQ 44.09375 59.90625 40.109375 62.90625 \nQ 36.140625 65.921875 28.71875 65.921875 \nQ 24.65625 65.921875 20.015625 65.03125 \nQ 15.375 64.15625 9.8125 62.3125 \nL 9.8125 71.09375 \nQ 15.4375 72.65625 20.34375 73.4375 \nQ 25.25 74.21875 29.59375 74.21875 \nQ 40.828125 74.21875 47.359375 69.109375 \nQ 53.90625 64.015625 53.90625 55.328125 \nQ 53.90625 49.265625 50.4375 45.09375 \nQ 46.96875 40.921875 40.578125 39.3125 \nz\n\" id=\"DejaVuSans-51\"/>\n      </defs>\n      <g transform=\"translate(7.2 53.777344)scale(0.1 -0.1)\">\n       <use xlink:href=\"#DejaVuSans-51\"/>\n       <use x=\"63.623047\" xlink:href=\"#DejaVuSans-46\"/>\n       <use x=\"95.410156\" xlink:href=\"#DejaVuSans-48\"/>\n      </g>\n     </g>\n    </g>\n   </g>\n   <g id=\"patch_7\">\n    <path d=\"M 30.103125 240.238125 \nL 30.103125 22.798125 \n\" style=\"fill:none;stroke:#000000;stroke-linecap:square;stroke-linejoin:miter;stroke-width:0.8;\"/>\n   </g>\n   <g id=\"patch_8\">\n    <path d=\"M 364.903125 240.238125 \nL 364.903125 22.798125 \n\" style=\"fill:none;stroke:#000000;stroke-linecap:square;stroke-linejoin:miter;stroke-width:0.8;\"/>\n   </g>\n   <g id=\"patch_9\">\n    <path d=\"M 30.103125 240.238125 \nL 364.903125 240.238125 \n\" style=\"fill:none;stroke:#000000;stroke-linecap:square;stroke-linejoin:miter;stroke-width:0.8;\"/>\n   </g>\n   <g id=\"patch_10\">\n    <path d=\"M 30.103125 22.798125 \nL 364.903125 22.798125 \n\" style=\"fill:none;stroke:#000000;stroke-linecap:square;stroke-linejoin:miter;stroke-width:0.8;\"/>\n   </g>\n   <g id=\"text_11\">\n    <!-- Stress par séquences -->\n    <defs>\n     <path d=\"M 53.515625 70.515625 \nL 53.515625 60.890625 \nQ 47.90625 63.578125 42.921875 64.890625 \nQ 37.9375 66.21875 33.296875 66.21875 \nQ 25.25 66.21875 20.875 63.09375 \nQ 16.5 59.96875 16.5 54.203125 \nQ 16.5 49.359375 19.40625 46.890625 \nQ 22.3125 44.4375 30.421875 42.921875 \nL 36.375 41.703125 \nQ 47.40625 39.59375 52.65625 34.296875 \nQ 57.90625 29 57.90625 20.125 \nQ 57.90625 9.515625 50.796875 4.046875 \nQ 43.703125 -1.421875 29.984375 -1.421875 \nQ 24.8125 -1.421875 18.96875 -0.25 \nQ 13.140625 0.921875 6.890625 3.21875 \nL 6.890625 13.375 \nQ 12.890625 10.015625 18.65625 8.296875 \nQ 24.421875 6.59375 29.984375 6.59375 \nQ 38.421875 6.59375 43.015625 9.90625 \nQ 47.609375 13.234375 47.609375 19.390625 \nQ 47.609375 24.75 44.3125 27.78125 \nQ 41.015625 30.8125 33.5 32.328125 \nL 27.484375 33.5 \nQ 16.453125 35.6875 11.515625 40.375 \nQ 6.59375 45.0625 6.59375 53.421875 \nQ 6.59375 63.09375 13.40625 68.65625 \nQ 20.21875 74.21875 32.171875 74.21875 \nQ 37.3125 74.21875 42.625 73.28125 \nQ 47.953125 72.359375 53.515625 70.515625 \nz\n\" id=\"DejaVuSans-83\"/>\n     <path d=\"M 18.3125 70.21875 \nL 18.3125 54.6875 \nL 36.8125 54.6875 \nL 36.8125 47.703125 \nL 18.3125 47.703125 \nL 18.3125 18.015625 \nQ 18.3125 11.328125 20.140625 9.421875 \nQ 21.96875 7.515625 27.59375 7.515625 \nL 36.8125 7.515625 \nL 36.8125 0 \nL 27.59375 0 \nQ 17.1875 0 13.234375 3.875 \nQ 9.28125 7.765625 9.28125 18.015625 \nL 9.28125 47.703125 \nL 2.6875 47.703125 \nL 2.6875 54.6875 \nL 9.28125 54.6875 \nL 9.28125 70.21875 \nz\n\" id=\"DejaVuSans-116\"/>\n     <path d=\"M 41.109375 46.296875 \nQ 39.59375 47.171875 37.8125 47.578125 \nQ 36.03125 48 33.890625 48 \nQ 26.265625 48 22.1875 43.046875 \nQ 18.109375 38.09375 18.109375 28.8125 \nL 18.109375 0 \nL 9.078125 0 \nL 9.078125 54.6875 \nL 18.109375 54.6875 \nL 18.109375 46.1875 \nQ 20.953125 51.171875 25.484375 53.578125 \nQ 30.03125 56 36.53125 56 \nQ 37.453125 56 38.578125 55.875 \nQ 39.703125 55.765625 41.0625 55.515625 \nz\n\" id=\"DejaVuSans-114\"/>\n     <path d=\"M 56.203125 29.59375 \nL 56.203125 25.203125 \nL 14.890625 25.203125 \nQ 15.484375 15.921875 20.484375 11.0625 \nQ 25.484375 6.203125 34.421875 6.203125 \nQ 39.59375 6.203125 44.453125 7.46875 \nQ 49.3125 8.734375 54.109375 11.28125 \nL 54.109375 2.78125 \nQ 49.265625 0.734375 44.1875 -0.34375 \nQ 39.109375 -1.421875 33.890625 -1.421875 \nQ 20.796875 -1.421875 13.15625 6.1875 \nQ 5.515625 13.8125 5.515625 26.8125 \nQ 5.515625 40.234375 12.765625 48.109375 \nQ 20.015625 56 32.328125 56 \nQ 43.359375 56 49.78125 48.890625 \nQ 56.203125 41.796875 56.203125 29.59375 \nz\nM 47.21875 32.234375 \nQ 47.125 39.59375 43.09375 43.984375 \nQ 39.0625 48.390625 32.421875 48.390625 \nQ 24.90625 48.390625 20.390625 44.140625 \nQ 15.875 39.890625 15.1875 32.171875 \nz\n\" id=\"DejaVuSans-101\"/>\n     <path d=\"M 44.28125 53.078125 \nL 44.28125 44.578125 \nQ 40.484375 46.53125 36.375 47.5 \nQ 32.28125 48.484375 27.875 48.484375 \nQ 21.1875 48.484375 17.84375 46.4375 \nQ 14.5 44.390625 14.5 40.28125 \nQ 14.5 37.15625 16.890625 35.375 \nQ 19.28125 33.59375 26.515625 31.984375 \nL 29.59375 31.296875 \nQ 39.15625 29.25 43.1875 25.515625 \nQ 47.21875 21.78125 47.21875 15.09375 \nQ 47.21875 7.46875 41.1875 3.015625 \nQ 35.15625 -1.421875 24.609375 -1.421875 \nQ 20.21875 -1.421875 15.453125 -0.5625 \nQ 10.6875 0.296875 5.421875 2 \nL 5.421875 11.28125 \nQ 10.40625 8.6875 15.234375 7.390625 \nQ 20.0625 6.109375 24.8125 6.109375 \nQ 31.15625 6.109375 34.5625 8.28125 \nQ 37.984375 10.453125 37.984375 14.40625 \nQ 37.984375 18.0625 35.515625 20.015625 \nQ 33.0625 21.96875 24.703125 23.78125 \nL 21.578125 24.515625 \nQ 13.234375 26.265625 9.515625 29.90625 \nQ 5.8125 33.546875 5.8125 39.890625 \nQ 5.8125 47.609375 11.28125 51.796875 \nQ 16.75 56 26.8125 56 \nQ 31.78125 56 36.171875 55.265625 \nQ 40.578125 54.546875 44.28125 53.078125 \nz\n\" id=\"DejaVuSans-115\"/>\n     <path id=\"DejaVuSans-32\"/>\n     <path d=\"M 18.109375 8.203125 \nL 18.109375 -20.796875 \nL 9.078125 -20.796875 \nL 9.078125 54.6875 \nL 18.109375 54.6875 \nL 18.109375 46.390625 \nQ 20.953125 51.265625 25.265625 53.625 \nQ 29.59375 56 35.59375 56 \nQ 45.5625 56 51.78125 48.09375 \nQ 58.015625 40.1875 58.015625 27.296875 \nQ 58.015625 14.40625 51.78125 6.484375 \nQ 45.5625 -1.421875 35.59375 -1.421875 \nQ 29.59375 -1.421875 25.265625 0.953125 \nQ 20.953125 3.328125 18.109375 8.203125 \nz\nM 48.6875 27.296875 \nQ 48.6875 37.203125 44.609375 42.84375 \nQ 40.53125 48.484375 33.40625 48.484375 \nQ 26.265625 48.484375 22.1875 42.84375 \nQ 18.109375 37.203125 18.109375 27.296875 \nQ 18.109375 17.390625 22.1875 11.75 \nQ 26.265625 6.109375 33.40625 6.109375 \nQ 40.53125 6.109375 44.609375 11.75 \nQ 48.6875 17.390625 48.6875 27.296875 \nz\n\" id=\"DejaVuSans-112\"/>\n     <path d=\"M 34.28125 27.484375 \nQ 23.390625 27.484375 19.1875 25 \nQ 14.984375 22.515625 14.984375 16.5 \nQ 14.984375 11.71875 18.140625 8.90625 \nQ 21.296875 6.109375 26.703125 6.109375 \nQ 34.1875 6.109375 38.703125 11.40625 \nQ 43.21875 16.703125 43.21875 25.484375 \nL 43.21875 27.484375 \nz\nM 52.203125 31.203125 \nL 52.203125 0 \nL 43.21875 0 \nL 43.21875 8.296875 \nQ 40.140625 3.328125 35.546875 0.953125 \nQ 30.953125 -1.421875 24.3125 -1.421875 \nQ 15.921875 -1.421875 10.953125 3.296875 \nQ 6 8.015625 6 15.921875 \nQ 6 25.140625 12.171875 29.828125 \nQ 18.359375 34.515625 30.609375 34.515625 \nL 43.21875 34.515625 \nL 43.21875 35.40625 \nQ 43.21875 41.609375 39.140625 45 \nQ 35.0625 48.390625 27.6875 48.390625 \nQ 23 48.390625 18.546875 47.265625 \nQ 14.109375 46.140625 10.015625 43.890625 \nL 10.015625 52.203125 \nQ 14.9375 54.109375 19.578125 55.046875 \nQ 24.21875 56 28.609375 56 \nQ 40.484375 56 46.34375 49.84375 \nQ 52.203125 43.703125 52.203125 31.203125 \nz\n\" id=\"DejaVuSans-97\"/>\n     <path d=\"M 56.203125 29.59375 \nL 56.203125 25.203125 \nL 14.890625 25.203125 \nQ 15.484375 15.921875 20.484375 11.0625 \nQ 25.484375 6.203125 34.421875 6.203125 \nQ 39.59375 6.203125 44.453125 7.46875 \nQ 49.3125 8.734375 54.109375 11.28125 \nL 54.109375 2.78125 \nQ 49.265625 0.734375 44.1875 -0.34375 \nQ 39.109375 -1.421875 33.890625 -1.421875 \nQ 20.796875 -1.421875 13.15625 6.1875 \nQ 5.515625 13.8125 5.515625 26.8125 \nQ 5.515625 40.234375 12.765625 48.109375 \nQ 20.015625 56 32.328125 56 \nQ 43.359375 56 49.78125 48.890625 \nQ 56.203125 41.796875 56.203125 29.59375 \nz\nM 47.21875 32.234375 \nQ 47.125 39.59375 43.09375 43.984375 \nQ 39.0625 48.390625 32.421875 48.390625 \nQ 24.90625 48.390625 20.390625 44.140625 \nQ 15.875 39.890625 15.1875 32.171875 \nz\nM 38.578125 79.984375 \nL 48.296875 79.984375 \nL 32.375 61.625 \nL 24.90625 61.625 \nz\n\" id=\"DejaVuSans-233\"/>\n     <path d=\"M 14.796875 27.296875 \nQ 14.796875 17.390625 18.875 11.75 \nQ 22.953125 6.109375 30.078125 6.109375 \nQ 37.203125 6.109375 41.296875 11.75 \nQ 45.40625 17.390625 45.40625 27.296875 \nQ 45.40625 37.203125 41.296875 42.84375 \nQ 37.203125 48.484375 30.078125 48.484375 \nQ 22.953125 48.484375 18.875 42.84375 \nQ 14.796875 37.203125 14.796875 27.296875 \nz\nM 45.40625 8.203125 \nQ 42.578125 3.328125 38.25 0.953125 \nQ 33.9375 -1.421875 27.875 -1.421875 \nQ 17.96875 -1.421875 11.734375 6.484375 \nQ 5.515625 14.40625 5.515625 27.296875 \nQ 5.515625 40.1875 11.734375 48.09375 \nQ 17.96875 56 27.875 56 \nQ 33.9375 56 38.25 53.625 \nQ 42.578125 51.265625 45.40625 46.390625 \nL 45.40625 54.6875 \nL 54.390625 54.6875 \nL 54.390625 -20.796875 \nL 45.40625 -20.796875 \nz\n\" id=\"DejaVuSans-113\"/>\n     <path d=\"M 8.5 21.578125 \nL 8.5 54.6875 \nL 17.484375 54.6875 \nL 17.484375 21.921875 \nQ 17.484375 14.15625 20.5 10.265625 \nQ 23.53125 6.390625 29.59375 6.390625 \nQ 36.859375 6.390625 41.078125 11.03125 \nQ 45.3125 15.671875 45.3125 23.6875 \nL 45.3125 54.6875 \nL 54.296875 54.6875 \nL 54.296875 0 \nL 45.3125 0 \nL 45.3125 8.40625 \nQ 42.046875 3.421875 37.71875 1 \nQ 33.40625 -1.421875 27.6875 -1.421875 \nQ 18.265625 -1.421875 13.375 4.4375 \nQ 8.5 10.296875 8.5 21.578125 \nz\nM 31.109375 56 \nz\n\" id=\"DejaVuSans-117\"/>\n     <path d=\"M 54.890625 33.015625 \nL 54.890625 0 \nL 45.90625 0 \nL 45.90625 32.71875 \nQ 45.90625 40.484375 42.875 44.328125 \nQ 39.84375 48.1875 33.796875 48.1875 \nQ 26.515625 48.1875 22.3125 43.546875 \nQ 18.109375 38.921875 18.109375 30.90625 \nL 18.109375 0 \nL 9.078125 0 \nL 9.078125 54.6875 \nL 18.109375 54.6875 \nL 18.109375 46.1875 \nQ 21.34375 51.125 25.703125 53.5625 \nQ 30.078125 56 35.796875 56 \nQ 45.21875 56 50.046875 50.171875 \nQ 54.890625 44.34375 54.890625 33.015625 \nz\n\" id=\"DejaVuSans-110\"/>\n     <path d=\"M 48.78125 52.59375 \nL 48.78125 44.1875 \nQ 44.96875 46.296875 41.140625 47.34375 \nQ 37.3125 48.390625 33.40625 48.390625 \nQ 24.65625 48.390625 19.8125 42.84375 \nQ 14.984375 37.3125 14.984375 27.296875 \nQ 14.984375 17.28125 19.8125 11.734375 \nQ 24.65625 6.203125 33.40625 6.203125 \nQ 37.3125 6.203125 41.140625 7.25 \nQ 44.96875 8.296875 48.78125 10.40625 \nL 48.78125 2.09375 \nQ 45.015625 0.34375 40.984375 -0.53125 \nQ 36.96875 -1.421875 32.421875 -1.421875 \nQ 20.0625 -1.421875 12.78125 6.34375 \nQ 5.515625 14.109375 5.515625 27.296875 \nQ 5.515625 40.671875 12.859375 48.328125 \nQ 20.21875 56 33.015625 56 \nQ 37.15625 56 41.109375 55.140625 \nQ 45.0625 54.296875 48.78125 52.59375 \nz\n\" id=\"DejaVuSans-99\"/>\n    </defs>\n    <g transform=\"translate(133.127813 16.798125)scale(0.12 -0.12)\">\n     <use xlink:href=\"#DejaVuSans-83\"/>\n     <use x=\"63.476562\" xlink:href=\"#DejaVuSans-116\"/>\n     <use x=\"102.685547\" xlink:href=\"#DejaVuSans-114\"/>\n     <use x=\"143.767578\" xlink:href=\"#DejaVuSans-101\"/>\n     <use x=\"205.291016\" xlink:href=\"#DejaVuSans-115\"/>\n     <use x=\"257.390625\" xlink:href=\"#DejaVuSans-115\"/>\n     <use x=\"309.490234\" xlink:href=\"#DejaVuSans-32\"/>\n     <use x=\"341.277344\" xlink:href=\"#DejaVuSans-112\"/>\n     <use x=\"404.753906\" xlink:href=\"#DejaVuSans-97\"/>\n     <use x=\"466.033203\" xlink:href=\"#DejaVuSans-114\"/>\n     <use x=\"507.146484\" xlink:href=\"#DejaVuSans-32\"/>\n     <use x=\"538.933594\" xlink:href=\"#DejaVuSans-115\"/>\n     <use x=\"591.033203\" xlink:href=\"#DejaVuSans-233\"/>\n     <use x=\"652.556641\" xlink:href=\"#DejaVuSans-113\"/>\n     <use x=\"716.033203\" xlink:href=\"#DejaVuSans-117\"/>\n     <use x=\"779.412109\" xlink:href=\"#DejaVuSans-101\"/>\n     <use x=\"840.935547\" xlink:href=\"#DejaVuSans-110\"/>\n     <use x=\"904.314453\" xlink:href=\"#DejaVuSans-99\"/>\n     <use x=\"959.294922\" xlink:href=\"#DejaVuSans-101\"/>\n     <use x=\"1020.818359\" xlink:href=\"#DejaVuSans-115\"/>\n    </g>\n   </g>\n  </g>\n </g>\n <defs>\n  <clipPath id=\"p16842f812e\">\n   <rect height=\"217.44\" width=\"334.8\" x=\"30.103125\" y=\"22.798125\"/>\n  </clipPath>\n </defs>\n</svg>\n",
      "image/png": "[encoded data removed]"
     },
     "metadata": {
      "needs_background": "light"
     }
    }
   ],
   "source": [
    "df_stats_stress.plot(kind='barh', title='Stress par séquences');"
   ]
  },
  {
   "cell_type": "code",
   "execution_count": 18,
   "metadata": {},
   "outputs": [
    {
     "output_type": "execute_result",
     "data": {
      "text/plain": [
       "       stress            \n",
       "stress    0.0 1.0 2.0 3.0\n",
       "diapo                    \n",
       "1          17  11   2   0\n",
       "8          16  10   4   0\n",
       "9          11  15   4   0\n",
       "10         12  15   3   0\n",
       "11         13  13   3   1\n",
       "12          9  18   3   0\n",
       "17         16  13   1   0\n",
       "18          7  18   5   0"
      ],
      "text/html": "<div>\n<style scoped>\n    .dataframe tbody tr th:only-of-type {\n        vertical-align: middle;\n    }\n\n    .dataframe tbody tr th {\n        vertical-align: top;\n    }\n\n    .dataframe thead tr th {\n        text-align: left;\n    }\n\n    .dataframe thead tr:last-of-type th {\n        text-align: right;\n    }\n</style>\n<table border=\"1\" class=\"dataframe\">\n  <thead>\n    <tr>\n      <th></th>\n      <th colspan=\"4\" halign=\"left\">stress</th>\n    </tr>\n    <tr>\n      <th>stress</th>\n      <th>0.0</th>\n      <th>1.0</th>\n      <th>2.0</th>\n      <th>3.0</th>\n    </tr>\n    <tr>\n      <th>diapo</th>\n      <th></th>\n      <th></th>\n      <th></th>\n      <th></th>\n    </tr>\n  </thead>\n  <tbody>\n    <tr>\n      <th>1</th>\n      <td>17</td>\n      <td>11</td>\n      <td>2</td>\n      <td>0</td>\n    </tr>\n    <tr>\n      <th>8</th>\n      <td>16</td>\n      <td>10</td>\n      <td>4</td>\n      <td>0</td>\n    </tr>\n    <tr>\n      <th>9</th>\n      <td>11</td>\n      <td>15</td>\n      <td>4</td>\n      <td>0</td>\n    </tr>\n    <tr>\n      <th>10</th>\n      <td>12</td>\n      <td>15</td>\n      <td>3</td>\n      <td>0</td>\n    </tr>\n    <tr>\n      <th>11</th>\n      <td>13</td>\n      <td>13</td>\n      <td>3</td>\n      <td>1</td>\n    </tr>\n    <tr>\n      <th>12</th>\n      <td>9</td>\n      <td>18</td>\n      <td>3</td>\n      <td>0</td>\n    </tr>\n    <tr>\n      <th>17</th>\n      <td>16</td>\n      <td>13</td>\n      <td>1</td>\n      <td>0</td>\n    </tr>\n    <tr>\n      <th>18</th>\n      <td>7</td>\n      <td>18</td>\n      <td>5</td>\n      <td>0</td>\n    </tr>\n  </tbody>\n</table>\n</div>"
     },
     "metadata": {},
     "execution_count": 18
    }
   ],
   "source": [
    "df_stats_stress_diapo = df_total[['video_name','diapo','stress']].drop_duplicates()[['diapo','stress']].groupby(['diapo','stress']).agg({'stress':'count'}).sort_index().unstack(fill_value=0)\n",
    "df_stats_stress_diapo"
   ]
  },
  {
   "cell_type": "code",
   "execution_count": 19,
   "metadata": {},
   "outputs": [
    {
     "output_type": "display_data",
     "data": {
      "text/plain": "<Figure size 432x288 with 1 Axes>",
      "image/svg+xml": "<?xml version=\"1.0\" encoding=\"utf-8\" standalone=\"no\"?>\n<!DOCTYPE svg PUBLIC \"-//W3C//DTD SVG 1.1//EN\"\n  \"http://www.w3.org/Graphics/SVG/1.1/DTD/svg11.dtd\">\n<!-- Created with matplotlib (https://matplotlib.org/) -->\n<svg height=\"280.84125pt\" version=\"1.1\" viewBox=\"0 0 381.965625 280.84125\" width=\"381.965625pt\" xmlns=\"http://www.w3.org/2000/svg\" xmlns:xlink=\"http://www.w3.org/1999/xlink\">\n <defs>\n  <style type=\"text/css\">\n*{stroke-linecap:butt;stroke-linejoin:round;}\n  </style>\n </defs>\n <g id=\"figure_1\">\n  <g id=\"patch_1\">\n   <path d=\"M 0 280.84125 \nL 381.965625 280.84125 \nL 381.965625 0 \nL 0 0 \nz\n\" style=\"fill:none;\"/>\n  </g>\n  <g id=\"axes_1\">\n   <g id=\"patch_2\">\n    <path d=\"M 36.465625 240.238125 \nL 371.265625 240.238125 \nL 371.265625 22.798125 \nL 36.465625 22.798125 \nz\n\" style=\"fill:#ffffff;\"/>\n   </g>\n   <g id=\"patch_3\">\n    <path clip-path=\"url(#p8cb67c55be)\" d=\"M 46.928125 240.238125 \nL 52.159375 240.238125 \nL 52.159375 44.657173 \nL 46.928125 44.657173 \nz\n\" style=\"fill:#1f77b4;\"/>\n   </g>\n   <g id=\"patch_4\">\n    <path clip-path=\"url(#p8cb67c55be)\" d=\"M 88.778125 240.238125 \nL 94.009375 240.238125 \nL 94.009375 56.161935 \nL 88.778125 56.161935 \nz\n\" style=\"fill:#1f77b4;\"/>\n   </g>\n   <g id=\"patch_5\">\n    <path clip-path=\"url(#p8cb67c55be)\" d=\"M 130.628125 240.238125 \nL 135.859375 240.238125 \nL 135.859375 113.685744 \nL 130.628125 113.685744 \nz\n\" style=\"fill:#1f77b4;\"/>\n   </g>\n   <g id=\"patch_6\">\n    <path clip-path=\"url(#p8cb67c55be)\" d=\"M 172.478125 240.238125 \nL 177.709375 240.238125 \nL 177.709375 102.180982 \nL 172.478125 102.180982 \nz\n\" style=\"fill:#1f77b4;\"/>\n   </g>\n   <g id=\"patch_7\">\n    <path clip-path=\"url(#p8cb67c55be)\" d=\"M 214.328125 240.238125 \nL 219.559375 240.238125 \nL 219.559375 90.67622 \nL 214.328125 90.67622 \nz\n\" style=\"fill:#1f77b4;\"/>\n   </g>\n   <g id=\"patch_8\">\n    <path clip-path=\"url(#p8cb67c55be)\" d=\"M 256.178125 240.238125 \nL 261.409375 240.238125 \nL 261.409375 136.695268 \nL 256.178125 136.695268 \nz\n\" style=\"fill:#1f77b4;\"/>\n   </g>\n   <g id=\"patch_9\">\n    <path clip-path=\"url(#p8cb67c55be)\" d=\"M 298.028125 240.238125 \nL 303.259375 240.238125 \nL 303.259375 56.161935 \nL 298.028125 56.161935 \nz\n\" style=\"fill:#1f77b4;\"/>\n   </g>\n   <g id=\"patch_10\">\n    <path clip-path=\"url(#p8cb67c55be)\" d=\"M 339.878125 240.238125 \nL 345.109375 240.238125 \nL 345.109375 159.704792 \nL 339.878125 159.704792 \nz\n\" style=\"fill:#1f77b4;\"/>\n   </g>\n   <g id=\"patch_11\">\n    <path clip-path=\"url(#p8cb67c55be)\" d=\"M 52.159375 240.238125 \nL 57.390625 240.238125 \nL 57.390625 113.685744 \nL 52.159375 113.685744 \nz\n\" style=\"fill:#ff7f0e;\"/>\n   </g>\n   <g id=\"patch_12\">\n    <path clip-path=\"url(#p8cb67c55be)\" d=\"M 94.009375 240.238125 \nL 99.240625 240.238125 \nL 99.240625 125.190506 \nL 94.009375 125.190506 \nz\n\" style=\"fill:#ff7f0e;\"/>\n   </g>\n   <g id=\"patch_13\">\n    <path clip-path=\"url(#p8cb67c55be)\" d=\"M 135.859375 240.238125 \nL 141.090625 240.238125 \nL 141.090625 67.666696 \nL 135.859375 67.666696 \nz\n\" style=\"fill:#ff7f0e;\"/>\n   </g>\n   <g id=\"patch_14\">\n    <path clip-path=\"url(#p8cb67c55be)\" d=\"M 177.709375 240.238125 \nL 182.940625 240.238125 \nL 182.940625 67.666696 \nL 177.709375 67.666696 \nz\n\" style=\"fill:#ff7f0e;\"/>\n   </g>\n   <g id=\"patch_15\">\n    <path clip-path=\"url(#p8cb67c55be)\" d=\"M 219.559375 240.238125 \nL 224.790625 240.238125 \nL 224.790625 90.67622 \nL 219.559375 90.67622 \nz\n\" style=\"fill:#ff7f0e;\"/>\n   </g>\n   <g id=\"patch_16\">\n    <path clip-path=\"url(#p8cb67c55be)\" d=\"M 261.409375 240.238125 \nL 266.640625 240.238125 \nL 266.640625 33.152411 \nL 261.409375 33.152411 \nz\n\" style=\"fill:#ff7f0e;\"/>\n   </g>\n   <g id=\"patch_17\">\n    <path clip-path=\"url(#p8cb67c55be)\" d=\"M 303.259375 240.238125 \nL 308.490625 240.238125 \nL 308.490625 90.67622 \nL 303.259375 90.67622 \nz\n\" style=\"fill:#ff7f0e;\"/>\n   </g>\n   <g id=\"patch_18\">\n    <path clip-path=\"url(#p8cb67c55be)\" d=\"M 345.109375 240.238125 \nL 350.340625 240.238125 \nL 350.340625 33.152411 \nL 345.109375 33.152411 \nz\n\" style=\"fill:#ff7f0e;\"/>\n   </g>\n   <g id=\"patch_19\">\n    <path clip-path=\"url(#p8cb67c55be)\" d=\"M 57.390625 240.238125 \nL 62.621875 240.238125 \nL 62.621875 217.228601 \nL 57.390625 217.228601 \nz\n\" style=\"fill:#2ca02c;\"/>\n   </g>\n   <g id=\"patch_20\">\n    <path clip-path=\"url(#p8cb67c55be)\" d=\"M 99.240625 240.238125 \nL 104.471875 240.238125 \nL 104.471875 194.219077 \nL 99.240625 194.219077 \nz\n\" style=\"fill:#2ca02c;\"/>\n   </g>\n   <g id=\"patch_21\">\n    <path clip-path=\"url(#p8cb67c55be)\" d=\"M 141.090625 240.238125 \nL 146.321875 240.238125 \nL 146.321875 194.219077 \nL 141.090625 194.219077 \nz\n\" style=\"fill:#2ca02c;\"/>\n   </g>\n   <g id=\"patch_22\">\n    <path clip-path=\"url(#p8cb67c55be)\" d=\"M 182.940625 240.238125 \nL 188.171875 240.238125 \nL 188.171875 205.723839 \nL 182.940625 205.723839 \nz\n\" style=\"fill:#2ca02c;\"/>\n   </g>\n   <g id=\"patch_23\">\n    <path clip-path=\"url(#p8cb67c55be)\" d=\"M 224.790625 240.238125 \nL 230.021875 240.238125 \nL 230.021875 205.723839 \nL 224.790625 205.723839 \nz\n\" style=\"fill:#2ca02c;\"/>\n   </g>\n   <g id=\"patch_24\">\n    <path clip-path=\"url(#p8cb67c55be)\" d=\"M 266.640625 240.238125 \nL 271.871875 240.238125 \nL 271.871875 205.723839 \nL 266.640625 205.723839 \nz\n\" style=\"fill:#2ca02c;\"/>\n   </g>\n   <g id=\"patch_25\">\n    <path clip-path=\"url(#p8cb67c55be)\" d=\"M 308.490625 240.238125 \nL 313.721875 240.238125 \nL 313.721875 228.733363 \nL 308.490625 228.733363 \nz\n\" style=\"fill:#2ca02c;\"/>\n   </g>\n   <g id=\"patch_26\">\n    <path clip-path=\"url(#p8cb67c55be)\" d=\"M 350.340625 240.238125 \nL 355.571875 240.238125 \nL 355.571875 182.714315 \nL 350.340625 182.714315 \nz\n\" style=\"fill:#2ca02c;\"/>\n   </g>\n   <g id=\"patch_27\">\n    <path clip-path=\"url(#p8cb67c55be)\" d=\"M 62.621875 240.238125 \nL 67.853125 240.238125 \nL 67.853125 240.238125 \nL 62.621875 240.238125 \nz\n\" style=\"fill:#d62728;\"/>\n   </g>\n   <g id=\"patch_28\">\n    <path clip-path=\"url(#p8cb67c55be)\" d=\"M 104.471875 240.238125 \nL 109.703125 240.238125 \nL 109.703125 240.238125 \nL 104.471875 240.238125 \nz\n\" style=\"fill:#d62728;\"/>\n   </g>\n   <g id=\"patch_29\">\n    <path clip-path=\"url(#p8cb67c55be)\" d=\"M 146.321875 240.238125 \nL 151.553125 240.238125 \nL 151.553125 240.238125 \nL 146.321875 240.238125 \nz\n\" style=\"fill:#d62728;\"/>\n   </g>\n   <g id=\"patch_30\">\n    <path clip-path=\"url(#p8cb67c55be)\" d=\"M 188.171875 240.238125 \nL 193.403125 240.238125 \nL 193.403125 240.238125 \nL 188.171875 240.238125 \nz\n\" style=\"fill:#d62728;\"/>\n   </g>\n   <g id=\"patch_31\">\n    <path clip-path=\"url(#p8cb67c55be)\" d=\"M 230.021875 240.238125 \nL 235.253125 240.238125 \nL 235.253125 228.733363 \nL 230.021875 228.733363 \nz\n\" style=\"fill:#d62728;\"/>\n   </g>\n   <g id=\"patch_32\">\n    <path clip-path=\"url(#p8cb67c55be)\" d=\"M 271.871875 240.238125 \nL 277.103125 240.238125 \nL 277.103125 240.238125 \nL 271.871875 240.238125 \nz\n\" style=\"fill:#d62728;\"/>\n   </g>\n   <g id=\"patch_33\">\n    <path clip-path=\"url(#p8cb67c55be)\" d=\"M 313.721875 240.238125 \nL 318.953125 240.238125 \nL 318.953125 240.238125 \nL 313.721875 240.238125 \nz\n\" style=\"fill:#d62728;\"/>\n   </g>\n   <g id=\"patch_34\">\n    <path clip-path=\"url(#p8cb67c55be)\" d=\"M 355.571875 240.238125 \nL 360.803125 240.238125 \nL 360.803125 240.238125 \nL 355.571875 240.238125 \nz\n\" style=\"fill:#d62728;\"/>\n   </g>\n   <g id=\"matplotlib.axis_1\">\n    <g id=\"xtick_1\">\n     <g id=\"line2d_1\">\n      <defs>\n       <path d=\"M 0 0 \nL 0 3.5 \n\" id=\"m217fd8d0e0\" style=\"stroke:#000000;stroke-width:0.8;\"/>\n      </defs>\n      <g>\n       <use style=\"stroke:#000000;stroke-width:0.8;\" x=\"57.390625\" xlink:href=\"#m217fd8d0e0\" y=\"240.238125\"/>\n      </g>\n     </g>\n     <g id=\"text_1\">\n      <!-- 1 -->\n      <defs>\n       <path d=\"M 12.40625 8.296875 \nL 28.515625 8.296875 \nL 28.515625 63.921875 \nL 10.984375 60.40625 \nL 10.984375 69.390625 \nL 28.421875 72.90625 \nL 38.28125 72.90625 \nL 38.28125 8.296875 \nL 54.390625 8.296875 \nL 54.390625 0 \nL 12.40625 0 \nz\n\" id=\"DejaVuSans-49\"/>\n      </defs>\n      <g transform=\"translate(60.15 253.600625)rotate(-90)scale(0.1 -0.1)\">\n       <use xlink:href=\"#DejaVuSans-49\"/>\n      </g>\n     </g>\n    </g>\n    <g id=\"xtick_2\">\n     <g id=\"line2d_2\">\n      <g>\n       <use style=\"stroke:#000000;stroke-width:0.8;\" x=\"99.240625\" xlink:href=\"#m217fd8d0e0\" y=\"240.238125\"/>\n      </g>\n     </g>\n     <g id=\"text_2\">\n      <!-- 8 -->\n      <defs>\n       <path d=\"M 31.78125 34.625 \nQ 24.75 34.625 20.71875 30.859375 \nQ 16.703125 27.09375 16.703125 20.515625 \nQ 16.703125 13.921875 20.71875 10.15625 \nQ 24.75 6.390625 31.78125 6.390625 \nQ 38.8125 6.390625 42.859375 10.171875 \nQ 46.921875 13.96875 46.921875 20.515625 \nQ 46.921875 27.09375 42.890625 30.859375 \nQ 38.875 34.625 31.78125 34.625 \nz\nM 21.921875 38.8125 \nQ 15.578125 40.375 12.03125 44.71875 \nQ 8.5 49.078125 8.5 55.328125 \nQ 8.5 64.0625 14.71875 69.140625 \nQ 20.953125 74.21875 31.78125 74.21875 \nQ 42.671875 74.21875 48.875 69.140625 \nQ 55.078125 64.0625 55.078125 55.328125 \nQ 55.078125 49.078125 51.53125 44.71875 \nQ 48 40.375 41.703125 38.8125 \nQ 48.828125 37.15625 52.796875 32.3125 \nQ 56.78125 27.484375 56.78125 20.515625 \nQ 56.78125 9.90625 50.3125 4.234375 \nQ 43.84375 -1.421875 31.78125 -1.421875 \nQ 19.734375 -1.421875 13.25 4.234375 \nQ 6.78125 9.90625 6.78125 20.515625 \nQ 6.78125 27.484375 10.78125 32.3125 \nQ 14.796875 37.15625 21.921875 38.8125 \nz\nM 18.3125 54.390625 \nQ 18.3125 48.734375 21.84375 45.5625 \nQ 25.390625 42.390625 31.78125 42.390625 \nQ 38.140625 42.390625 41.71875 45.5625 \nQ 45.3125 48.734375 45.3125 54.390625 \nQ 45.3125 60.0625 41.71875 63.234375 \nQ 38.140625 66.40625 31.78125 66.40625 \nQ 25.390625 66.40625 21.84375 63.234375 \nQ 18.3125 60.0625 18.3125 54.390625 \nz\n\" id=\"DejaVuSans-56\"/>\n      </defs>\n      <g transform=\"translate(102 253.600625)rotate(-90)scale(0.1 -0.1)\">\n       <use xlink:href=\"#DejaVuSans-56\"/>\n      </g>\n     </g>\n    </g>\n    <g id=\"xtick_3\">\n     <g id=\"line2d_3\">\n      <g>\n       <use style=\"stroke:#000000;stroke-width:0.8;\" x=\"141.090625\" xlink:href=\"#m217fd8d0e0\" y=\"240.238125\"/>\n      </g>\n     </g>\n     <g id=\"text_3\">\n      <!-- 9 -->\n      <defs>\n       <path d=\"M 10.984375 1.515625 \nL 10.984375 10.5 \nQ 14.703125 8.734375 18.5 7.8125 \nQ 22.3125 6.890625 25.984375 6.890625 \nQ 35.75 6.890625 40.890625 13.453125 \nQ 46.046875 20.015625 46.78125 33.40625 \nQ 43.953125 29.203125 39.59375 26.953125 \nQ 35.25 24.703125 29.984375 24.703125 \nQ 19.046875 24.703125 12.671875 31.3125 \nQ 6.296875 37.9375 6.296875 49.421875 \nQ 6.296875 60.640625 12.9375 67.421875 \nQ 19.578125 74.21875 30.609375 74.21875 \nQ 43.265625 74.21875 49.921875 64.515625 \nQ 56.59375 54.828125 56.59375 36.375 \nQ 56.59375 19.140625 48.40625 8.859375 \nQ 40.234375 -1.421875 26.421875 -1.421875 \nQ 22.703125 -1.421875 18.890625 -0.6875 \nQ 15.09375 0.046875 10.984375 1.515625 \nz\nM 30.609375 32.421875 \nQ 37.25 32.421875 41.125 36.953125 \nQ 45.015625 41.5 45.015625 49.421875 \nQ 45.015625 57.28125 41.125 61.84375 \nQ 37.25 66.40625 30.609375 66.40625 \nQ 23.96875 66.40625 20.09375 61.84375 \nQ 16.21875 57.28125 16.21875 49.421875 \nQ 16.21875 41.5 20.09375 36.953125 \nQ 23.96875 32.421875 30.609375 32.421875 \nz\n\" id=\"DejaVuSans-57\"/>\n      </defs>\n      <g transform=\"translate(143.85 253.600625)rotate(-90)scale(0.1 -0.1)\">\n       <use xlink:href=\"#DejaVuSans-57\"/>\n      </g>\n     </g>\n    </g>\n    <g id=\"xtick_4\">\n     <g id=\"line2d_4\">\n      <g>\n       <use style=\"stroke:#000000;stroke-width:0.8;\" x=\"182.940625\" xlink:href=\"#m217fd8d0e0\" y=\"240.238125\"/>\n      </g>\n     </g>\n     <g id=\"text_4\">\n      <!-- 10 -->\n      <defs>\n       <path d=\"M 31.78125 66.40625 \nQ 24.171875 66.40625 20.328125 58.90625 \nQ 16.5 51.421875 16.5 36.375 \nQ 16.5 21.390625 20.328125 13.890625 \nQ 24.171875 6.390625 31.78125 6.390625 \nQ 39.453125 6.390625 43.28125 13.890625 \nQ 47.125 21.390625 47.125 36.375 \nQ 47.125 51.421875 43.28125 58.90625 \nQ 39.453125 66.40625 31.78125 66.40625 \nz\nM 31.78125 74.21875 \nQ 44.046875 74.21875 50.515625 64.515625 \nQ 56.984375 54.828125 56.984375 36.375 \nQ 56.984375 17.96875 50.515625 8.265625 \nQ 44.046875 -1.421875 31.78125 -1.421875 \nQ 19.53125 -1.421875 13.0625 8.265625 \nQ 6.59375 17.96875 6.59375 36.375 \nQ 6.59375 54.828125 13.0625 64.515625 \nQ 19.53125 74.21875 31.78125 74.21875 \nz\n\" id=\"DejaVuSans-48\"/>\n      </defs>\n      <g transform=\"translate(185.7 259.963125)rotate(-90)scale(0.1 -0.1)\">\n       <use xlink:href=\"#DejaVuSans-49\"/>\n       <use x=\"63.623047\" xlink:href=\"#DejaVuSans-48\"/>\n      </g>\n     </g>\n    </g>\n    <g id=\"xtick_5\">\n     <g id=\"line2d_5\">\n      <g>\n       <use style=\"stroke:#000000;stroke-width:0.8;\" x=\"224.790625\" xlink:href=\"#m217fd8d0e0\" y=\"240.238125\"/>\n      </g>\n     </g>\n     <g id=\"text_5\">\n      <!-- 11 -->\n      <g transform=\"translate(227.55 259.963125)rotate(-90)scale(0.1 -0.1)\">\n       <use xlink:href=\"#DejaVuSans-49\"/>\n       <use x=\"63.623047\" xlink:href=\"#DejaVuSans-49\"/>\n      </g>\n     </g>\n    </g>\n    <g id=\"xtick_6\">\n     <g id=\"line2d_6\">\n      <g>\n       <use style=\"stroke:#000000;stroke-width:0.8;\" x=\"266.640625\" xlink:href=\"#m217fd8d0e0\" y=\"240.238125\"/>\n      </g>\n     </g>\n     <g id=\"text_6\">\n      <!-- 12 -->\n      <defs>\n       <path d=\"M 19.1875 8.296875 \nL 53.609375 8.296875 \nL 53.609375 0 \nL 7.328125 0 \nL 7.328125 8.296875 \nQ 12.9375 14.109375 22.625 23.890625 \nQ 32.328125 33.6875 34.8125 36.53125 \nQ 39.546875 41.84375 41.421875 45.53125 \nQ 43.3125 49.21875 43.3125 52.78125 \nQ 43.3125 58.59375 39.234375 62.25 \nQ 35.15625 65.921875 28.609375 65.921875 \nQ 23.96875 65.921875 18.8125 64.3125 \nQ 13.671875 62.703125 7.8125 59.421875 \nL 7.8125 69.390625 \nQ 13.765625 71.78125 18.9375 73 \nQ 24.125 74.21875 28.421875 74.21875 \nQ 39.75 74.21875 46.484375 68.546875 \nQ 53.21875 62.890625 53.21875 53.421875 \nQ 53.21875 48.921875 51.53125 44.890625 \nQ 49.859375 40.875 45.40625 35.40625 \nQ 44.1875 33.984375 37.640625 27.21875 \nQ 31.109375 20.453125 19.1875 8.296875 \nz\n\" id=\"DejaVuSans-50\"/>\n      </defs>\n      <g transform=\"translate(269.4 259.963125)rotate(-90)scale(0.1 -0.1)\">\n       <use xlink:href=\"#DejaVuSans-49\"/>\n       <use x=\"63.623047\" xlink:href=\"#DejaVuSans-50\"/>\n      </g>\n     </g>\n    </g>\n    <g id=\"xtick_7\">\n     <g id=\"line2d_7\">\n      <g>\n       <use style=\"stroke:#000000;stroke-width:0.8;\" x=\"308.490625\" xlink:href=\"#m217fd8d0e0\" y=\"240.238125\"/>\n      </g>\n     </g>\n     <g id=\"text_7\">\n      <!-- 17 -->\n      <defs>\n       <path d=\"M 8.203125 72.90625 \nL 55.078125 72.90625 \nL 55.078125 68.703125 \nL 28.609375 0 \nL 18.3125 0 \nL 43.21875 64.59375 \nL 8.203125 64.59375 \nz\n\" id=\"DejaVuSans-55\"/>\n      </defs>\n      <g transform=\"translate(311.25 259.963125)rotate(-90)scale(0.1 -0.1)\">\n       <use xlink:href=\"#DejaVuSans-49\"/>\n       <use x=\"63.623047\" xlink:href=\"#DejaVuSans-55\"/>\n      </g>\n     </g>\n    </g>\n    <g id=\"xtick_8\">\n     <g id=\"line2d_8\">\n      <g>\n       <use style=\"stroke:#000000;stroke-width:0.8;\" x=\"350.340625\" xlink:href=\"#m217fd8d0e0\" y=\"240.238125\"/>\n      </g>\n     </g>\n     <g id=\"text_8\">\n      <!-- 18 -->\n      <g transform=\"translate(353.1 259.963125)rotate(-90)scale(0.1 -0.1)\">\n       <use xlink:href=\"#DejaVuSans-49\"/>\n       <use x=\"63.623047\" xlink:href=\"#DejaVuSans-56\"/>\n      </g>\n     </g>\n    </g>\n    <g id=\"text_9\">\n     <!-- diapo -->\n     <defs>\n      <path d=\"M 45.40625 46.390625 \nL 45.40625 75.984375 \nL 54.390625 75.984375 \nL 54.390625 0 \nL 45.40625 0 \nL 45.40625 8.203125 \nQ 42.578125 3.328125 38.25 0.953125 \nQ 33.9375 -1.421875 27.875 -1.421875 \nQ 17.96875 -1.421875 11.734375 6.484375 \nQ 5.515625 14.40625 5.515625 27.296875 \nQ 5.515625 40.1875 11.734375 48.09375 \nQ 17.96875 56 27.875 56 \nQ 33.9375 56 38.25 53.625 \nQ 42.578125 51.265625 45.40625 46.390625 \nz\nM 14.796875 27.296875 \nQ 14.796875 17.390625 18.875 11.75 \nQ 22.953125 6.109375 30.078125 6.109375 \nQ 37.203125 6.109375 41.296875 11.75 \nQ 45.40625 17.390625 45.40625 27.296875 \nQ 45.40625 37.203125 41.296875 42.84375 \nQ 37.203125 48.484375 30.078125 48.484375 \nQ 22.953125 48.484375 18.875 42.84375 \nQ 14.796875 37.203125 14.796875 27.296875 \nz\n\" id=\"DejaVuSans-100\"/>\n      <path d=\"M 9.421875 54.6875 \nL 18.40625 54.6875 \nL 18.40625 0 \nL 9.421875 0 \nz\nM 9.421875 75.984375 \nL 18.40625 75.984375 \nL 18.40625 64.59375 \nL 9.421875 64.59375 \nz\n\" id=\"DejaVuSans-105\"/>\n      <path d=\"M 34.28125 27.484375 \nQ 23.390625 27.484375 19.1875 25 \nQ 14.984375 22.515625 14.984375 16.5 \nQ 14.984375 11.71875 18.140625 8.90625 \nQ 21.296875 6.109375 26.703125 6.109375 \nQ 34.1875 6.109375 38.703125 11.40625 \nQ 43.21875 16.703125 43.21875 25.484375 \nL 43.21875 27.484375 \nz\nM 52.203125 31.203125 \nL 52.203125 0 \nL 43.21875 0 \nL 43.21875 8.296875 \nQ 40.140625 3.328125 35.546875 0.953125 \nQ 30.953125 -1.421875 24.3125 -1.421875 \nQ 15.921875 -1.421875 10.953125 3.296875 \nQ 6 8.015625 6 15.921875 \nQ 6 25.140625 12.171875 29.828125 \nQ 18.359375 34.515625 30.609375 34.515625 \nL 43.21875 34.515625 \nL 43.21875 35.40625 \nQ 43.21875 41.609375 39.140625 45 \nQ 35.0625 48.390625 27.6875 48.390625 \nQ 23 48.390625 18.546875 47.265625 \nQ 14.109375 46.140625 10.015625 43.890625 \nL 10.015625 52.203125 \nQ 14.9375 54.109375 19.578125 55.046875 \nQ 24.21875 56 28.609375 56 \nQ 40.484375 56 46.34375 49.84375 \nQ 52.203125 43.703125 52.203125 31.203125 \nz\n\" id=\"DejaVuSans-97\"/>\n      <path d=\"M 18.109375 8.203125 \nL 18.109375 -20.796875 \nL 9.078125 -20.796875 \nL 9.078125 54.6875 \nL 18.109375 54.6875 \nL 18.109375 46.390625 \nQ 20.953125 51.265625 25.265625 53.625 \nQ 29.59375 56 35.59375 56 \nQ 45.5625 56 51.78125 48.09375 \nQ 58.015625 40.1875 58.015625 27.296875 \nQ 58.015625 14.40625 51.78125 6.484375 \nQ 45.5625 -1.421875 35.59375 -1.421875 \nQ 29.59375 -1.421875 25.265625 0.953125 \nQ 20.953125 3.328125 18.109375 8.203125 \nz\nM 48.6875 27.296875 \nQ 48.6875 37.203125 44.609375 42.84375 \nQ 40.53125 48.484375 33.40625 48.484375 \nQ 26.265625 48.484375 22.1875 42.84375 \nQ 18.109375 37.203125 18.109375 27.296875 \nQ 18.109375 17.390625 22.1875 11.75 \nQ 26.265625 6.109375 33.40625 6.109375 \nQ 40.53125 6.109375 44.609375 11.75 \nQ 48.6875 17.390625 48.6875 27.296875 \nz\n\" id=\"DejaVuSans-112\"/>\n      <path d=\"M 30.609375 48.390625 \nQ 23.390625 48.390625 19.1875 42.75 \nQ 14.984375 37.109375 14.984375 27.296875 \nQ 14.984375 17.484375 19.15625 11.84375 \nQ 23.34375 6.203125 30.609375 6.203125 \nQ 37.796875 6.203125 41.984375 11.859375 \nQ 46.1875 17.53125 46.1875 27.296875 \nQ 46.1875 37.015625 41.984375 42.703125 \nQ 37.796875 48.390625 30.609375 48.390625 \nz\nM 30.609375 56 \nQ 42.328125 56 49.015625 48.375 \nQ 55.71875 40.765625 55.71875 27.296875 \nQ 55.71875 13.875 49.015625 6.21875 \nQ 42.328125 -1.421875 30.609375 -1.421875 \nQ 18.84375 -1.421875 12.171875 6.21875 \nQ 5.515625 13.875 5.515625 27.296875 \nQ 5.515625 40.765625 12.171875 48.375 \nQ 18.84375 56 30.609375 56 \nz\n\" id=\"DejaVuSans-111\"/>\n     </defs>\n     <g transform=\"translate(190.004688 271.561562)scale(0.1 -0.1)\">\n      <use xlink:href=\"#DejaVuSans-100\"/>\n      <use x=\"63.476562\" xlink:href=\"#DejaVuSans-105\"/>\n      <use x=\"91.259766\" xlink:href=\"#DejaVuSans-97\"/>\n      <use x=\"152.539062\" xlink:href=\"#DejaVuSans-112\"/>\n      <use x=\"216.015625\" xlink:href=\"#DejaVuSans-111\"/>\n     </g>\n    </g>\n   </g>\n   <g id=\"matplotlib.axis_2\">\n    <g id=\"ytick_1\">\n     <g id=\"line2d_9\">\n      <defs>\n       <path d=\"M 0 0 \nL -3.5 0 \n\" id=\"m1a0b4da4ac\" style=\"stroke:#000000;stroke-width:0.8;\"/>\n      </defs>\n      <g>\n       <use style=\"stroke:#000000;stroke-width:0.8;\" x=\"36.465625\" xlink:href=\"#m1a0b4da4ac\" y=\"240.238125\"/>\n      </g>\n     </g>\n     <g id=\"text_10\">\n      <!-- 0.0 -->\n      <defs>\n       <path d=\"M 10.6875 12.40625 \nL 21 12.40625 \nL 21 0 \nL 10.6875 0 \nz\n\" id=\"DejaVuSans-46\"/>\n      </defs>\n      <g transform=\"translate(13.5625 244.037344)scale(0.1 -0.1)\">\n       <use xlink:href=\"#DejaVuSans-48\"/>\n       <use x=\"63.623047\" xlink:href=\"#DejaVuSans-46\"/>\n       <use x=\"95.410156\" xlink:href=\"#DejaVuSans-48\"/>\n      </g>\n     </g>\n    </g>\n    <g id=\"ytick_2\">\n     <g id=\"line2d_10\">\n      <g>\n       <use style=\"stroke:#000000;stroke-width:0.8;\" x=\"36.465625\" xlink:href=\"#m1a0b4da4ac\" y=\"211.47622\"/>\n      </g>\n     </g>\n     <g id=\"text_11\">\n      <!-- 2.5 -->\n      <defs>\n       <path d=\"M 10.796875 72.90625 \nL 49.515625 72.90625 \nL 49.515625 64.59375 \nL 19.828125 64.59375 \nL 19.828125 46.734375 \nQ 21.96875 47.46875 24.109375 47.828125 \nQ 26.265625 48.1875 28.421875 48.1875 \nQ 40.625 48.1875 47.75 41.5 \nQ 54.890625 34.8125 54.890625 23.390625 \nQ 54.890625 11.625 47.5625 5.09375 \nQ 40.234375 -1.421875 26.90625 -1.421875 \nQ 22.3125 -1.421875 17.546875 -0.640625 \nQ 12.796875 0.140625 7.71875 1.703125 \nL 7.71875 11.625 \nQ 12.109375 9.234375 16.796875 8.0625 \nQ 21.484375 6.890625 26.703125 6.890625 \nQ 35.15625 6.890625 40.078125 11.328125 \nQ 45.015625 15.765625 45.015625 23.390625 \nQ 45.015625 31 40.078125 35.4375 \nQ 35.15625 39.890625 26.703125 39.890625 \nQ 22.75 39.890625 18.8125 39.015625 \nQ 14.890625 38.140625 10.796875 36.28125 \nz\n\" id=\"DejaVuSans-53\"/>\n      </defs>\n      <g transform=\"translate(13.5625 215.275439)scale(0.1 -0.1)\">\n       <use xlink:href=\"#DejaVuSans-50\"/>\n       <use x=\"63.623047\" xlink:href=\"#DejaVuSans-46\"/>\n       <use x=\"95.410156\" xlink:href=\"#DejaVuSans-53\"/>\n      </g>\n     </g>\n    </g>\n    <g id=\"ytick_3\">\n     <g id=\"line2d_11\">\n      <g>\n       <use style=\"stroke:#000000;stroke-width:0.8;\" x=\"36.465625\" xlink:href=\"#m1a0b4da4ac\" y=\"182.714315\"/>\n      </g>\n     </g>\n     <g id=\"text_12\">\n      <!-- 5.0 -->\n      <g transform=\"translate(13.5625 186.513534)scale(0.1 -0.1)\">\n       <use xlink:href=\"#DejaVuSans-53\"/>\n       <use x=\"63.623047\" xlink:href=\"#DejaVuSans-46\"/>\n       <use x=\"95.410156\" xlink:href=\"#DejaVuSans-48\"/>\n      </g>\n     </g>\n    </g>\n    <g id=\"ytick_4\">\n     <g id=\"line2d_12\">\n      <g>\n       <use style=\"stroke:#000000;stroke-width:0.8;\" x=\"36.465625\" xlink:href=\"#m1a0b4da4ac\" y=\"153.952411\"/>\n      </g>\n     </g>\n     <g id=\"text_13\">\n      <!-- 7.5 -->\n      <g transform=\"translate(13.5625 157.751629)scale(0.1 -0.1)\">\n       <use xlink:href=\"#DejaVuSans-55\"/>\n       <use x=\"63.623047\" xlink:href=\"#DejaVuSans-46\"/>\n       <use x=\"95.410156\" xlink:href=\"#DejaVuSans-53\"/>\n      </g>\n     </g>\n    </g>\n    <g id=\"ytick_5\">\n     <g id=\"line2d_13\">\n      <g>\n       <use style=\"stroke:#000000;stroke-width:0.8;\" x=\"36.465625\" xlink:href=\"#m1a0b4da4ac\" y=\"125.190506\"/>\n      </g>\n     </g>\n     <g id=\"text_14\">\n      <!-- 10.0 -->\n      <g transform=\"translate(7.2 128.989725)scale(0.1 -0.1)\">\n       <use xlink:href=\"#DejaVuSans-49\"/>\n       <use x=\"63.623047\" xlink:href=\"#DejaVuSans-48\"/>\n       <use x=\"127.246094\" xlink:href=\"#DejaVuSans-46\"/>\n       <use x=\"159.033203\" xlink:href=\"#DejaVuSans-48\"/>\n      </g>\n     </g>\n    </g>\n    <g id=\"ytick_6\">\n     <g id=\"line2d_14\">\n      <g>\n       <use style=\"stroke:#000000;stroke-width:0.8;\" x=\"36.465625\" xlink:href=\"#m1a0b4da4ac\" y=\"96.428601\"/>\n      </g>\n     </g>\n     <g id=\"text_15\">\n      <!-- 12.5 -->\n      <g transform=\"translate(7.2 100.22782)scale(0.1 -0.1)\">\n       <use xlink:href=\"#DejaVuSans-49\"/>\n       <use x=\"63.623047\" xlink:href=\"#DejaVuSans-50\"/>\n       <use x=\"127.246094\" xlink:href=\"#DejaVuSans-46\"/>\n       <use x=\"159.033203\" xlink:href=\"#DejaVuSans-53\"/>\n      </g>\n     </g>\n    </g>\n    <g id=\"ytick_7\">\n     <g id=\"line2d_15\">\n      <g>\n       <use style=\"stroke:#000000;stroke-width:0.8;\" x=\"36.465625\" xlink:href=\"#m1a0b4da4ac\" y=\"67.666696\"/>\n      </g>\n     </g>\n     <g id=\"text_16\">\n      <!-- 15.0 -->\n      <g transform=\"translate(7.2 71.465915)scale(0.1 -0.1)\">\n       <use xlink:href=\"#DejaVuSans-49\"/>\n       <use x=\"63.623047\" xlink:href=\"#DejaVuSans-53\"/>\n       <use x=\"127.246094\" xlink:href=\"#DejaVuSans-46\"/>\n       <use x=\"159.033203\" xlink:href=\"#DejaVuSans-48\"/>\n      </g>\n     </g>\n    </g>\n    <g id=\"ytick_8\">\n     <g id=\"line2d_16\">\n      <g>\n       <use style=\"stroke:#000000;stroke-width:0.8;\" x=\"36.465625\" xlink:href=\"#m1a0b4da4ac\" y=\"38.904792\"/>\n      </g>\n     </g>\n     <g id=\"text_17\">\n      <!-- 17.5 -->\n      <g transform=\"translate(7.2 42.70401)scale(0.1 -0.1)\">\n       <use xlink:href=\"#DejaVuSans-49\"/>\n       <use x=\"63.623047\" xlink:href=\"#DejaVuSans-55\"/>\n       <use x=\"127.246094\" xlink:href=\"#DejaVuSans-46\"/>\n       <use x=\"159.033203\" xlink:href=\"#DejaVuSans-53\"/>\n      </g>\n     </g>\n    </g>\n   </g>\n   <g id=\"patch_35\">\n    <path d=\"M 36.465625 240.238125 \nL 36.465625 22.798125 \n\" style=\"fill:none;stroke:#000000;stroke-linecap:square;stroke-linejoin:miter;stroke-width:0.8;\"/>\n   </g>\n   <g id=\"patch_36\">\n    <path d=\"M 371.265625 240.238125 \nL 371.265625 22.798125 \n\" style=\"fill:none;stroke:#000000;stroke-linecap:square;stroke-linejoin:miter;stroke-width:0.8;\"/>\n   </g>\n   <g id=\"patch_37\">\n    <path d=\"M 36.465625 240.238125 \nL 371.265625 240.238125 \n\" style=\"fill:none;stroke:#000000;stroke-linecap:square;stroke-linejoin:miter;stroke-width:0.8;\"/>\n   </g>\n   <g id=\"patch_38\">\n    <path d=\"M 36.465625 22.798125 \nL 371.265625 22.798125 \n\" style=\"fill:none;stroke:#000000;stroke-linecap:square;stroke-linejoin:miter;stroke-width:0.8;\"/>\n   </g>\n   <g id=\"text_18\">\n    <!-- Stress par numéro de séquence -->\n    <defs>\n     <path d=\"M 53.515625 70.515625 \nL 53.515625 60.890625 \nQ 47.90625 63.578125 42.921875 64.890625 \nQ 37.9375 66.21875 33.296875 66.21875 \nQ 25.25 66.21875 20.875 63.09375 \nQ 16.5 59.96875 16.5 54.203125 \nQ 16.5 49.359375 19.40625 46.890625 \nQ 22.3125 44.4375 30.421875 42.921875 \nL 36.375 41.703125 \nQ 47.40625 39.59375 52.65625 34.296875 \nQ 57.90625 29 57.90625 20.125 \nQ 57.90625 9.515625 50.796875 4.046875 \nQ 43.703125 -1.421875 29.984375 -1.421875 \nQ 24.8125 -1.421875 18.96875 -0.25 \nQ 13.140625 0.921875 6.890625 3.21875 \nL 6.890625 13.375 \nQ 12.890625 10.015625 18.65625 8.296875 \nQ 24.421875 6.59375 29.984375 6.59375 \nQ 38.421875 6.59375 43.015625 9.90625 \nQ 47.609375 13.234375 47.609375 19.390625 \nQ 47.609375 24.75 44.3125 27.78125 \nQ 41.015625 30.8125 33.5 32.328125 \nL 27.484375 33.5 \nQ 16.453125 35.6875 11.515625 40.375 \nQ 6.59375 45.0625 6.59375 53.421875 \nQ 6.59375 63.09375 13.40625 68.65625 \nQ 20.21875 74.21875 32.171875 74.21875 \nQ 37.3125 74.21875 42.625 73.28125 \nQ 47.953125 72.359375 53.515625 70.515625 \nz\n\" id=\"DejaVuSans-83\"/>\n     <path d=\"M 18.3125 70.21875 \nL 18.3125 54.6875 \nL 36.8125 54.6875 \nL 36.8125 47.703125 \nL 18.3125 47.703125 \nL 18.3125 18.015625 \nQ 18.3125 11.328125 20.140625 9.421875 \nQ 21.96875 7.515625 27.59375 7.515625 \nL 36.8125 7.515625 \nL 36.8125 0 \nL 27.59375 0 \nQ 17.1875 0 13.234375 3.875 \nQ 9.28125 7.765625 9.28125 18.015625 \nL 9.28125 47.703125 \nL 2.6875 47.703125 \nL 2.6875 54.6875 \nL 9.28125 54.6875 \nL 9.28125 70.21875 \nz\n\" id=\"DejaVuSans-116\"/>\n     <path d=\"M 41.109375 46.296875 \nQ 39.59375 47.171875 37.8125 47.578125 \nQ 36.03125 48 33.890625 48 \nQ 26.265625 48 22.1875 43.046875 \nQ 18.109375 38.09375 18.109375 28.8125 \nL 18.109375 0 \nL 9.078125 0 \nL 9.078125 54.6875 \nL 18.109375 54.6875 \nL 18.109375 46.1875 \nQ 20.953125 51.171875 25.484375 53.578125 \nQ 30.03125 56 36.53125 56 \nQ 37.453125 56 38.578125 55.875 \nQ 39.703125 55.765625 41.0625 55.515625 \nz\n\" id=\"DejaVuSans-114\"/>\n     <path d=\"M 56.203125 29.59375 \nL 56.203125 25.203125 \nL 14.890625 25.203125 \nQ 15.484375 15.921875 20.484375 11.0625 \nQ 25.484375 6.203125 34.421875 6.203125 \nQ 39.59375 6.203125 44.453125 7.46875 \nQ 49.3125 8.734375 54.109375 11.28125 \nL 54.109375 2.78125 \nQ 49.265625 0.734375 44.1875 -0.34375 \nQ 39.109375 -1.421875 33.890625 -1.421875 \nQ 20.796875 -1.421875 13.15625 6.1875 \nQ 5.515625 13.8125 5.515625 26.8125 \nQ 5.515625 40.234375 12.765625 48.109375 \nQ 20.015625 56 32.328125 56 \nQ 43.359375 56 49.78125 48.890625 \nQ 56.203125 41.796875 56.203125 29.59375 \nz\nM 47.21875 32.234375 \nQ 47.125 39.59375 43.09375 43.984375 \nQ 39.0625 48.390625 32.421875 48.390625 \nQ 24.90625 48.390625 20.390625 44.140625 \nQ 15.875 39.890625 15.1875 32.171875 \nz\n\" id=\"DejaVuSans-101\"/>\n     <path d=\"M 44.28125 53.078125 \nL 44.28125 44.578125 \nQ 40.484375 46.53125 36.375 47.5 \nQ 32.28125 48.484375 27.875 48.484375 \nQ 21.1875 48.484375 17.84375 46.4375 \nQ 14.5 44.390625 14.5 40.28125 \nQ 14.5 37.15625 16.890625 35.375 \nQ 19.28125 33.59375 26.515625 31.984375 \nL 29.59375 31.296875 \nQ 39.15625 29.25 43.1875 25.515625 \nQ 47.21875 21.78125 47.21875 15.09375 \nQ 47.21875 7.46875 41.1875 3.015625 \nQ 35.15625 -1.421875 24.609375 -1.421875 \nQ 20.21875 -1.421875 15.453125 -0.5625 \nQ 10.6875 0.296875 5.421875 2 \nL 5.421875 11.28125 \nQ 10.40625 8.6875 15.234375 7.390625 \nQ 20.0625 6.109375 24.8125 6.109375 \nQ 31.15625 6.109375 34.5625 8.28125 \nQ 37.984375 10.453125 37.984375 14.40625 \nQ 37.984375 18.0625 35.515625 20.015625 \nQ 33.0625 21.96875 24.703125 23.78125 \nL 21.578125 24.515625 \nQ 13.234375 26.265625 9.515625 29.90625 \nQ 5.8125 33.546875 5.8125 39.890625 \nQ 5.8125 47.609375 11.28125 51.796875 \nQ 16.75 56 26.8125 56 \nQ 31.78125 56 36.171875 55.265625 \nQ 40.578125 54.546875 44.28125 53.078125 \nz\n\" id=\"DejaVuSans-115\"/>\n     <path id=\"DejaVuSans-32\"/>\n     <path d=\"M 54.890625 33.015625 \nL 54.890625 0 \nL 45.90625 0 \nL 45.90625 32.71875 \nQ 45.90625 40.484375 42.875 44.328125 \nQ 39.84375 48.1875 33.796875 48.1875 \nQ 26.515625 48.1875 22.3125 43.546875 \nQ 18.109375 38.921875 18.109375 30.90625 \nL 18.109375 0 \nL 9.078125 0 \nL 9.078125 54.6875 \nL 18.109375 54.6875 \nL 18.109375 46.1875 \nQ 21.34375 51.125 25.703125 53.5625 \nQ 30.078125 56 35.796875 56 \nQ 45.21875 56 50.046875 50.171875 \nQ 54.890625 44.34375 54.890625 33.015625 \nz\n\" id=\"DejaVuSans-110\"/>\n     <path d=\"M 8.5 21.578125 \nL 8.5 54.6875 \nL 17.484375 54.6875 \nL 17.484375 21.921875 \nQ 17.484375 14.15625 20.5 10.265625 \nQ 23.53125 6.390625 29.59375 6.390625 \nQ 36.859375 6.390625 41.078125 11.03125 \nQ 45.3125 15.671875 45.3125 23.6875 \nL 45.3125 54.6875 \nL 54.296875 54.6875 \nL 54.296875 0 \nL 45.3125 0 \nL 45.3125 8.40625 \nQ 42.046875 3.421875 37.71875 1 \nQ 33.40625 -1.421875 27.6875 -1.421875 \nQ 18.265625 -1.421875 13.375 4.4375 \nQ 8.5 10.296875 8.5 21.578125 \nz\nM 31.109375 56 \nz\n\" id=\"DejaVuSans-117\"/>\n     <path d=\"M 52 44.1875 \nQ 55.375 50.25 60.0625 53.125 \nQ 64.75 56 71.09375 56 \nQ 79.640625 56 84.28125 50.015625 \nQ 88.921875 44.046875 88.921875 33.015625 \nL 88.921875 0 \nL 79.890625 0 \nL 79.890625 32.71875 \nQ 79.890625 40.578125 77.09375 44.375 \nQ 74.3125 48.1875 68.609375 48.1875 \nQ 61.625 48.1875 57.5625 43.546875 \nQ 53.515625 38.921875 53.515625 30.90625 \nL 53.515625 0 \nL 44.484375 0 \nL 44.484375 32.71875 \nQ 44.484375 40.625 41.703125 44.40625 \nQ 38.921875 48.1875 33.109375 48.1875 \nQ 26.21875 48.1875 22.15625 43.53125 \nQ 18.109375 38.875 18.109375 30.90625 \nL 18.109375 0 \nL 9.078125 0 \nL 9.078125 54.6875 \nL 18.109375 54.6875 \nL 18.109375 46.1875 \nQ 21.1875 51.21875 25.484375 53.609375 \nQ 29.78125 56 35.6875 56 \nQ 41.65625 56 45.828125 52.96875 \nQ 50 49.953125 52 44.1875 \nz\n\" id=\"DejaVuSans-109\"/>\n     <path d=\"M 56.203125 29.59375 \nL 56.203125 25.203125 \nL 14.890625 25.203125 \nQ 15.484375 15.921875 20.484375 11.0625 \nQ 25.484375 6.203125 34.421875 6.203125 \nQ 39.59375 6.203125 44.453125 7.46875 \nQ 49.3125 8.734375 54.109375 11.28125 \nL 54.109375 2.78125 \nQ 49.265625 0.734375 44.1875 -0.34375 \nQ 39.109375 -1.421875 33.890625 -1.421875 \nQ 20.796875 -1.421875 13.15625 6.1875 \nQ 5.515625 13.8125 5.515625 26.8125 \nQ 5.515625 40.234375 12.765625 48.109375 \nQ 20.015625 56 32.328125 56 \nQ 43.359375 56 49.78125 48.890625 \nQ 56.203125 41.796875 56.203125 29.59375 \nz\nM 47.21875 32.234375 \nQ 47.125 39.59375 43.09375 43.984375 \nQ 39.0625 48.390625 32.421875 48.390625 \nQ 24.90625 48.390625 20.390625 44.140625 \nQ 15.875 39.890625 15.1875 32.171875 \nz\nM 38.578125 79.984375 \nL 48.296875 79.984375 \nL 32.375 61.625 \nL 24.90625 61.625 \nz\n\" id=\"DejaVuSans-233\"/>\n     <path d=\"M 14.796875 27.296875 \nQ 14.796875 17.390625 18.875 11.75 \nQ 22.953125 6.109375 30.078125 6.109375 \nQ 37.203125 6.109375 41.296875 11.75 \nQ 45.40625 17.390625 45.40625 27.296875 \nQ 45.40625 37.203125 41.296875 42.84375 \nQ 37.203125 48.484375 30.078125 48.484375 \nQ 22.953125 48.484375 18.875 42.84375 \nQ 14.796875 37.203125 14.796875 27.296875 \nz\nM 45.40625 8.203125 \nQ 42.578125 3.328125 38.25 0.953125 \nQ 33.9375 -1.421875 27.875 -1.421875 \nQ 17.96875 -1.421875 11.734375 6.484375 \nQ 5.515625 14.40625 5.515625 27.296875 \nQ 5.515625 40.1875 11.734375 48.09375 \nQ 17.96875 56 27.875 56 \nQ 33.9375 56 38.25 53.625 \nQ 42.578125 51.265625 45.40625 46.390625 \nL 45.40625 54.6875 \nL 54.390625 54.6875 \nL 54.390625 -20.796875 \nL 45.40625 -20.796875 \nz\n\" id=\"DejaVuSans-113\"/>\n     <path d=\"M 48.78125 52.59375 \nL 48.78125 44.1875 \nQ 44.96875 46.296875 41.140625 47.34375 \nQ 37.3125 48.390625 33.40625 48.390625 \nQ 24.65625 48.390625 19.8125 42.84375 \nQ 14.984375 37.3125 14.984375 27.296875 \nQ 14.984375 17.28125 19.8125 11.734375 \nQ 24.65625 6.203125 33.40625 6.203125 \nQ 37.3125 6.203125 41.140625 7.25 \nQ 44.96875 8.296875 48.78125 10.40625 \nL 48.78125 2.09375 \nQ 45.015625 0.34375 40.984375 -0.53125 \nQ 36.96875 -1.421875 32.421875 -1.421875 \nQ 20.0625 -1.421875 12.78125 6.34375 \nQ 5.515625 14.109375 5.515625 27.296875 \nQ 5.515625 40.671875 12.859375 48.328125 \nQ 20.21875 56 33.015625 56 \nQ 37.15625 56 41.109375 55.140625 \nQ 45.0625 54.296875 48.78125 52.59375 \nz\n\" id=\"DejaVuSans-99\"/>\n    </defs>\n    <g transform=\"translate(108.024063 16.798125)scale(0.12 -0.12)\">\n     <use xlink:href=\"#DejaVuSans-83\"/>\n     <use x=\"63.476562\" xlink:href=\"#DejaVuSans-116\"/>\n     <use x=\"102.685547\" xlink:href=\"#DejaVuSans-114\"/>\n     <use x=\"143.767578\" xlink:href=\"#DejaVuSans-101\"/>\n     <use x=\"205.291016\" xlink:href=\"#DejaVuSans-115\"/>\n     <use x=\"257.390625\" xlink:href=\"#DejaVuSans-115\"/>\n     <use x=\"309.490234\" xlink:href=\"#DejaVuSans-32\"/>\n     <use x=\"341.277344\" xlink:href=\"#DejaVuSans-112\"/>\n     <use x=\"404.753906\" xlink:href=\"#DejaVuSans-97\"/>\n     <use x=\"466.033203\" xlink:href=\"#DejaVuSans-114\"/>\n     <use x=\"507.146484\" xlink:href=\"#DejaVuSans-32\"/>\n     <use x=\"538.933594\" xlink:href=\"#DejaVuSans-110\"/>\n     <use x=\"602.3125\" xlink:href=\"#DejaVuSans-117\"/>\n     <use x=\"665.691406\" xlink:href=\"#DejaVuSans-109\"/>\n     <use x=\"763.103516\" xlink:href=\"#DejaVuSans-233\"/>\n     <use x=\"824.626953\" xlink:href=\"#DejaVuSans-114\"/>\n     <use x=\"865.708984\" xlink:href=\"#DejaVuSans-111\"/>\n     <use x=\"926.890625\" xlink:href=\"#DejaVuSans-32\"/>\n     <use x=\"958.677734\" xlink:href=\"#DejaVuSans-100\"/>\n     <use x=\"1022.154297\" xlink:href=\"#DejaVuSans-101\"/>\n     <use x=\"1083.677734\" xlink:href=\"#DejaVuSans-32\"/>\n     <use x=\"1115.464844\" xlink:href=\"#DejaVuSans-115\"/>\n     <use x=\"1167.564453\" xlink:href=\"#DejaVuSans-233\"/>\n     <use x=\"1229.087891\" xlink:href=\"#DejaVuSans-113\"/>\n     <use x=\"1292.564453\" xlink:href=\"#DejaVuSans-117\"/>\n     <use x=\"1355.943359\" xlink:href=\"#DejaVuSans-101\"/>\n     <use x=\"1417.466797\" xlink:href=\"#DejaVuSans-110\"/>\n     <use x=\"1480.845703\" xlink:href=\"#DejaVuSans-99\"/>\n     <use x=\"1535.826172\" xlink:href=\"#DejaVuSans-101\"/>\n    </g>\n   </g>\n   <g id=\"legend_1\">\n    <g id=\"patch_39\">\n     <path d=\"M 272.39375 104.18875 \nL 364.265625 104.18875 \nQ 366.265625 104.18875 366.265625 102.18875 \nL 366.265625 29.798125 \nQ 366.265625 27.798125 364.265625 27.798125 \nL 272.39375 27.798125 \nQ 270.39375 27.798125 270.39375 29.798125 \nL 270.39375 102.18875 \nQ 270.39375 104.18875 272.39375 104.18875 \nz\n\" style=\"fill:#ffffff;opacity:0.8;stroke:#cccccc;stroke-linejoin:miter;\"/>\n    </g>\n    <g id=\"text_19\">\n     <!-- None,stress -->\n     <defs>\n      <path d=\"M 9.8125 72.90625 \nL 23.09375 72.90625 \nL 55.421875 11.921875 \nL 55.421875 72.90625 \nL 64.984375 72.90625 \nL 64.984375 0 \nL 51.703125 0 \nL 19.390625 60.984375 \nL 19.390625 0 \nL 9.8125 0 \nz\n\" id=\"DejaVuSans-78\"/>\n      <path d=\"M 11.71875 12.40625 \nL 22.015625 12.40625 \nL 22.015625 4 \nL 14.015625 -11.625 \nL 7.71875 -11.625 \nL 11.71875 4 \nz\n\" id=\"DejaVuSans-44\"/>\n     </defs>\n     <g transform=\"translate(288.790625 39.396563)scale(0.1 -0.1)\">\n      <use xlink:href=\"#DejaVuSans-78\"/>\n      <use x=\"74.804688\" xlink:href=\"#DejaVuSans-111\"/>\n      <use x=\"135.986328\" xlink:href=\"#DejaVuSans-110\"/>\n      <use x=\"199.365234\" xlink:href=\"#DejaVuSans-101\"/>\n      <use x=\"260.888672\" xlink:href=\"#DejaVuSans-44\"/>\n      <use x=\"292.675781\" xlink:href=\"#DejaVuSans-115\"/>\n      <use x=\"344.775391\" xlink:href=\"#DejaVuSans-116\"/>\n      <use x=\"383.984375\" xlink:href=\"#DejaVuSans-114\"/>\n      <use x=\"425.066406\" xlink:href=\"#DejaVuSans-101\"/>\n      <use x=\"486.589844\" xlink:href=\"#DejaVuSans-115\"/>\n      <use x=\"538.689453\" xlink:href=\"#DejaVuSans-115\"/>\n     </g>\n    </g>\n    <g id=\"patch_40\">\n     <path d=\"M 274.39375 54.074688 \nL 294.39375 54.074688 \nL 294.39375 47.074688 \nL 274.39375 47.074688 \nz\n\" style=\"fill:#1f77b4;\"/>\n    </g>\n    <g id=\"text_20\">\n     <!-- (stress, 0.0) -->\n     <defs>\n      <path d=\"M 31 75.875 \nQ 24.46875 64.65625 21.28125 53.65625 \nQ 18.109375 42.671875 18.109375 31.390625 \nQ 18.109375 20.125 21.3125 9.0625 \nQ 24.515625 -2 31 -13.1875 \nL 23.1875 -13.1875 \nQ 15.875 -1.703125 12.234375 9.375 \nQ 8.59375 20.453125 8.59375 31.390625 \nQ 8.59375 42.28125 12.203125 53.3125 \nQ 15.828125 64.359375 23.1875 75.875 \nz\n\" id=\"DejaVuSans-40\"/>\n      <path d=\"M 8.015625 75.875 \nL 15.828125 75.875 \nQ 23.140625 64.359375 26.78125 53.3125 \nQ 30.421875 42.28125 30.421875 31.390625 \nQ 30.421875 20.453125 26.78125 9.375 \nQ 23.140625 -1.703125 15.828125 -13.1875 \nL 8.015625 -13.1875 \nQ 14.5 -2 17.703125 9.0625 \nQ 20.90625 20.125 20.90625 31.390625 \nQ 20.90625 42.671875 17.703125 53.65625 \nQ 14.5 64.65625 8.015625 75.875 \nz\n\" id=\"DejaVuSans-41\"/>\n     </defs>\n     <g transform=\"translate(302.39375 54.074688)scale(0.1 -0.1)\">\n      <use xlink:href=\"#DejaVuSans-40\"/>\n      <use x=\"39.013672\" xlink:href=\"#DejaVuSans-115\"/>\n      <use x=\"91.113281\" xlink:href=\"#DejaVuSans-116\"/>\n      <use x=\"130.322266\" xlink:href=\"#DejaVuSans-114\"/>\n      <use x=\"171.404297\" xlink:href=\"#DejaVuSans-101\"/>\n      <use x=\"232.927734\" xlink:href=\"#DejaVuSans-115\"/>\n      <use x=\"285.027344\" xlink:href=\"#DejaVuSans-115\"/>\n      <use x=\"337.126953\" xlink:href=\"#DejaVuSans-44\"/>\n      <use x=\"368.914062\" xlink:href=\"#DejaVuSans-32\"/>\n      <use x=\"400.701172\" xlink:href=\"#DejaVuSans-48\"/>\n      <use x=\"464.324219\" xlink:href=\"#DejaVuSans-46\"/>\n      <use x=\"496.111328\" xlink:href=\"#DejaVuSans-48\"/>\n      <use x=\"559.734375\" xlink:href=\"#DejaVuSans-41\"/>\n     </g>\n    </g>\n    <g id=\"patch_41\">\n     <path d=\"M 274.39375 68.752813 \nL 294.39375 68.752813 \nL 294.39375 61.752813 \nL 274.39375 61.752813 \nz\n\" style=\"fill:#ff7f0e;\"/>\n    </g>\n    <g id=\"text_21\">\n     <!-- (stress, 1.0) -->\n     <g transform=\"translate(302.39375 68.752813)scale(0.1 -0.1)\">\n      <use xlink:href=\"#DejaVuSans-40\"/>\n      <use x=\"39.013672\" xlink:href=\"#DejaVuSans-115\"/>\n      <use x=\"91.113281\" xlink:href=\"#DejaVuSans-116\"/>\n      <use x=\"130.322266\" xlink:href=\"#DejaVuSans-114\"/>\n      <use x=\"171.404297\" xlink:href=\"#DejaVuSans-101\"/>\n      <use x=\"232.927734\" xlink:href=\"#DejaVuSans-115\"/>\n      <use x=\"285.027344\" xlink:href=\"#DejaVuSans-115\"/>\n      <use x=\"337.126953\" xlink:href=\"#DejaVuSans-44\"/>\n      <use x=\"368.914062\" xlink:href=\"#DejaVuSans-32\"/>\n      <use x=\"400.701172\" xlink:href=\"#DejaVuSans-49\"/>\n      <use x=\"464.324219\" xlink:href=\"#DejaVuSans-46\"/>\n      <use x=\"496.111328\" xlink:href=\"#DejaVuSans-48\"/>\n      <use x=\"559.734375\" xlink:href=\"#DejaVuSans-41\"/>\n     </g>\n    </g>\n    <g id=\"patch_42\">\n     <path d=\"M 274.39375 83.430938 \nL 294.39375 83.430938 \nL 294.39375 76.430938 \nL 274.39375 76.430938 \nz\n\" style=\"fill:#2ca02c;\"/>\n    </g>\n    <g id=\"text_22\">\n     <!-- (stress, 2.0) -->\n     <g transform=\"translate(302.39375 83.430938)scale(0.1 -0.1)\">\n      <use xlink:href=\"#DejaVuSans-40\"/>\n      <use x=\"39.013672\" xlink:href=\"#DejaVuSans-115\"/>\n      <use x=\"91.113281\" xlink:href=\"#DejaVuSans-116\"/>\n      <use x=\"130.322266\" xlink:href=\"#DejaVuSans-114\"/>\n      <use x=\"171.404297\" xlink:href=\"#DejaVuSans-101\"/>\n      <use x=\"232.927734\" xlink:href=\"#DejaVuSans-115\"/>\n      <use x=\"285.027344\" xlink:href=\"#DejaVuSans-115\"/>\n      <use x=\"337.126953\" xlink:href=\"#DejaVuSans-44\"/>\n      <use x=\"368.914062\" xlink:href=\"#DejaVuSans-32\"/>\n      <use x=\"400.701172\" xlink:href=\"#DejaVuSans-50\"/>\n      <use x=\"464.324219\" xlink:href=\"#DejaVuSans-46\"/>\n      <use x=\"496.111328\" xlink:href=\"#DejaVuSans-48\"/>\n      <use x=\"559.734375\" xlink:href=\"#DejaVuSans-41\"/>\n     </g>\n    </g>\n    <g id=\"patch_43\">\n     <path d=\"M 274.39375 98.109063 \nL 294.39375 98.109063 \nL 294.39375 91.109063 \nL 274.39375 91.109063 \nz\n\" style=\"fill:#d62728;\"/>\n    </g>\n    <g id=\"text_23\">\n     <!-- (stress, 3.0) -->\n     <defs>\n      <path d=\"M 40.578125 39.3125 \nQ 47.65625 37.796875 51.625 33 \nQ 55.609375 28.21875 55.609375 21.1875 \nQ 55.609375 10.40625 48.1875 4.484375 \nQ 40.765625 -1.421875 27.09375 -1.421875 \nQ 22.515625 -1.421875 17.65625 -0.515625 \nQ 12.796875 0.390625 7.625 2.203125 \nL 7.625 11.71875 \nQ 11.71875 9.328125 16.59375 8.109375 \nQ 21.484375 6.890625 26.8125 6.890625 \nQ 36.078125 6.890625 40.9375 10.546875 \nQ 45.796875 14.203125 45.796875 21.1875 \nQ 45.796875 27.640625 41.28125 31.265625 \nQ 36.765625 34.90625 28.71875 34.90625 \nL 20.21875 34.90625 \nL 20.21875 43.015625 \nL 29.109375 43.015625 \nQ 36.375 43.015625 40.234375 45.921875 \nQ 44.09375 48.828125 44.09375 54.296875 \nQ 44.09375 59.90625 40.109375 62.90625 \nQ 36.140625 65.921875 28.71875 65.921875 \nQ 24.65625 65.921875 20.015625 65.03125 \nQ 15.375 64.15625 9.8125 62.3125 \nL 9.8125 71.09375 \nQ 15.4375 72.65625 20.34375 73.4375 \nQ 25.25 74.21875 29.59375 74.21875 \nQ 40.828125 74.21875 47.359375 69.109375 \nQ 53.90625 64.015625 53.90625 55.328125 \nQ 53.90625 49.265625 50.4375 45.09375 \nQ 46.96875 40.921875 40.578125 39.3125 \nz\n\" id=\"DejaVuSans-51\"/>\n     </defs>\n     <g transform=\"translate(302.39375 98.109063)scale(0.1 -0.1)\">\n      <use xlink:href=\"#DejaVuSans-40\"/>\n      <use x=\"39.013672\" xlink:href=\"#DejaVuSans-115\"/>\n      <use x=\"91.113281\" xlink:href=\"#DejaVuSans-116\"/>\n      <use x=\"130.322266\" xlink:href=\"#DejaVuSans-114\"/>\n      <use x=\"171.404297\" xlink:href=\"#DejaVuSans-101\"/>\n      <use x=\"232.927734\" xlink:href=\"#DejaVuSans-115\"/>\n      <use x=\"285.027344\" xlink:href=\"#DejaVuSans-115\"/>\n      <use x=\"337.126953\" xlink:href=\"#DejaVuSans-44\"/>\n      <use x=\"368.914062\" xlink:href=\"#DejaVuSans-32\"/>\n      <use x=\"400.701172\" xlink:href=\"#DejaVuSans-51\"/>\n      <use x=\"464.324219\" xlink:href=\"#DejaVuSans-46\"/>\n      <use x=\"496.111328\" xlink:href=\"#DejaVuSans-48\"/>\n      <use x=\"559.734375\" xlink:href=\"#DejaVuSans-41\"/>\n     </g>\n    </g>\n   </g>\n  </g>\n </g>\n <defs>\n  <clipPath id=\"p8cb67c55be\">\n   <rect height=\"217.44\" width=\"334.8\" x=\"36.465625\" y=\"22.798125\"/>\n  </clipPath>\n </defs>\n</svg>\n",
      "image/png": "[encoded data removed]"
     },
     "metadata": {
      "needs_background": "light"
     }
    }
   ],
   "source": [
    "df_stats_stress_diapo.plot(kind='bar', title='Stress par numéro de séquence');"
   ]
  },
  {
   "source": [
    "## Data pre-processing 1 - Sans utilisation de la temporalité"
   ],
   "cell_type": "markdown",
   "metadata": {}
  },
  {
   "source": [
    "from scipy.stats import kurtosis, skew\n",
    "\n",
    "def percentil25(x): \n",
    "    return np.percentile(x, q=25)\n",
    "\n",
    "def percentil75(x): \n",
    "    return np.percentile(x, q=75)"
   ],
   "cell_type": "code",
   "metadata": {},
   "execution_count": 8,
   "outputs": []
  },
  {
   "cell_type": "code",
   "execution_count": 22,
   "metadata": {},
   "outputs": [],
   "source": [
    "# 5 seconds windows\n",
    "X = df_total.iloc[:,2:].groupby(['video_name','diapo','frameTimeWindow']).agg({'mean','min','max', 'median', 'std', percentil25, percentil75, kurtosis, skew}).iloc[:,:-18]"
   ]
  },
  {
   "cell_type": "code",
   "execution_count": 23,
   "metadata": {},
   "outputs": [
    {
     "output_type": "execute_result",
     "data": {
      "text/plain": [
       "MultiIndex([(                   'Loudness_sma3',         'min'),\n",
       "            (                   'Loudness_sma3',    'kurtosis'),\n",
       "            (                   'Loudness_sma3',        'mean'),\n",
       "            (                   'Loudness_sma3',         'std'),\n",
       "            (                   'Loudness_sma3',         'max'),\n",
       "            (                   'Loudness_sma3', 'percentil75'),\n",
       "            (                   'Loudness_sma3',        'skew'),\n",
       "            (                   'Loudness_sma3',      'median'),\n",
       "            (                   'Loudness_sma3', 'percentil25'),\n",
       "            (                 'alphaRatio_sma3',         'min'),\n",
       "            ...\n",
       "            (   'F3amplitudeLogRelF0_sma3nz_de', 'percentil25'),\n",
       "            ('F3amplitudeLogRelF0_sma3nz_de_de',         'min'),\n",
       "            ('F3amplitudeLogRelF0_sma3nz_de_de',    'kurtosis'),\n",
       "            ('F3amplitudeLogRelF0_sma3nz_de_de',        'mean'),\n",
       "            ('F3amplitudeLogRelF0_sma3nz_de_de',         'std'),\n",
       "            ('F3amplitudeLogRelF0_sma3nz_de_de',         'max'),\n",
       "            ('F3amplitudeLogRelF0_sma3nz_de_de', 'percentil75'),\n",
       "            ('F3amplitudeLogRelF0_sma3nz_de_de',        'skew'),\n",
       "            ('F3amplitudeLogRelF0_sma3nz_de_de',      'median'),\n",
       "            ('F3amplitudeLogRelF0_sma3nz_de_de', 'percentil25')],\n",
       "           length=621)"
      ]
     },
     "metadata": {},
     "execution_count": 23
    }
   ],
   "source": [
    "X.columns"
   ]
  },
  {
   "cell_type": "code",
   "execution_count": 24,
   "metadata": {},
   "outputs": [
    {
     "output_type": "execute_result",
     "data": {
      "text/plain": [
       "                                                Loudness_sma3            \\\n",
       "                                                          min  kurtosis   \n",
       "video_name                diapo frameTimeWindow                           \n",
       "Test_pour_AFPA            1     0                    0.108240  0.022023   \n",
       "                                5                    0.109675  1.101698   \n",
       "                                10                   0.105259  1.637765   \n",
       "                                15                   0.110818  0.320136   \n",
       "                                20                   0.108863 -0.354434   \n",
       "...                                                       ...       ...   \n",
       "WIN_20210417_14_53_12_Pro 18    600                  0.001034  0.763651   \n",
       "                                605                  0.001034 -0.688585   \n",
       "                                610                  0.001034 -0.403783   \n",
       "                                615                  0.001102  0.655261   \n",
       "                                620                  0.033513  1.970743   \n",
       "\n",
       "                                                                               \\\n",
       "                                                     mean       std       max   \n",
       "video_name                diapo frameTimeWindow                                 \n",
       "Test_pour_AFPA            1     0                0.114774  0.002580  0.123974   \n",
       "                                5                0.115736  0.002815  0.127661   \n",
       "                                10               0.113579  0.003511  0.125830   \n",
       "                                15               0.118081  0.002994  0.128375   \n",
       "                                20               0.118637  0.003337  0.126731   \n",
       "...                                                   ...       ...       ...   \n",
       "WIN_20210417_14_53_12_Pro 18    600              0.032633  0.036212  0.183413   \n",
       "                                605              0.024742  0.018413  0.078965   \n",
       "                                610              0.025769  0.020800  0.094043   \n",
       "                                615              0.045493  0.012051  0.078696   \n",
       "                                620              0.051241  0.006276  0.068639   \n",
       "\n",
       "                                                                       \\\n",
       "                                                percentil75      skew   \n",
       "video_name                diapo frameTimeWindow                         \n",
       "Test_pour_AFPA            1     0                  0.116547  0.012275   \n",
       "                                5                  0.117393  0.713457   \n",
       "                                10                 0.115056  0.917789   \n",
       "                                15                 0.119927  0.307721   \n",
       "                                20                 0.121091 -0.395910   \n",
       "...                                                     ...       ...   \n",
       "WIN_20210417_14_53_12_Pro 18    600                0.051879  1.222678   \n",
       "                                605                0.037869  0.391991   \n",
       "                                610                0.040993  0.554724   \n",
       "                                615                0.052893 -0.616833   \n",
       "                                620                0.054039 -0.340928   \n",
       "\n",
       "                                                                       \\\n",
       "                                                   median percentil25   \n",
       "video_name                diapo frameTimeWindow                         \n",
       "Test_pour_AFPA            1     0                0.114900    0.112972   \n",
       "                                5                0.115328    0.113882   \n",
       "                                10               0.113245    0.111469   \n",
       "                                15               0.117924    0.116204   \n",
       "                                20               0.119101    0.116397   \n",
       "...                                                   ...         ...   \n",
       "WIN_20210417_14_53_12_Pro 18    600              0.017399    0.001687   \n",
       "                                605              0.024232    0.008823   \n",
       "                                610              0.025452    0.006183   \n",
       "                                615              0.047412    0.038895   \n",
       "                                620              0.051371    0.048707   \n",
       "\n",
       "                                                alphaRatio_sma3  ...  \\\n",
       "                                                            min  ...   \n",
       "video_name                diapo frameTimeWindow                  ...   \n",
       "Test_pour_AFPA            1     0                     -1.093321  ...   \n",
       "                                5                     -1.074797  ...   \n",
       "                                10                    -1.077281  ...   \n",
       "                                15                    -0.863083  ...   \n",
       "                                20                    -1.108479  ...   \n",
       "...                                                         ...  ...   \n",
       "WIN_20210417_14_53_12_Pro 18    600                  -20.008540  ...   \n",
       "                                605                  -32.414720  ...   \n",
       "                                610                  -23.127390  ...   \n",
       "                                615                  -14.153810  ...   \n",
       "                                620                  -13.536360  ...   \n",
       "\n",
       "                                                F3amplitudeLogRelF0_sma3nz_de  \\\n",
       "                                                                  percentil25   \n",
       "video_name                diapo frameTimeWindow                                 \n",
       "Test_pour_AFPA            1     0                                         0.0   \n",
       "                                5                                         0.0   \n",
       "                                10                                        0.0   \n",
       "                                15                                        0.0   \n",
       "                                20                                        0.0   \n",
       "...                                                                       ...   \n",
       "WIN_20210417_14_53_12_Pro 18    600                                       0.0   \n",
       "                                605                                       0.0   \n",
       "                                610                                       0.0   \n",
       "                                615                                       0.0   \n",
       "                                620                                       0.0   \n",
       "\n",
       "                                                F3amplitudeLogRelF0_sma3nz_de_de  \\\n",
       "                                                                             min   \n",
       "video_name                diapo frameTimeWindow                                    \n",
       "Test_pour_AFPA            1     0                                            0.0   \n",
       "                                5                                            0.0   \n",
       "                                10                                           0.0   \n",
       "                                15                                           0.0   \n",
       "                                20                                           0.0   \n",
       "...                                                                          ...   \n",
       "WIN_20210417_14_53_12_Pro 18    600                                          0.0   \n",
       "                                605                                          0.0   \n",
       "                                610                                          0.0   \n",
       "                                615                                          0.0   \n",
       "                                620                                          0.0   \n",
       "\n",
       "                                                                         \\\n",
       "                                                kurtosis mean  std  max   \n",
       "video_name                diapo frameTimeWindow                           \n",
       "Test_pour_AFPA            1     0                   -3.0  0.0  0.0  0.0   \n",
       "                                5                   -3.0  0.0  0.0  0.0   \n",
       "                                10                  -3.0  0.0  0.0  0.0   \n",
       "                                15                  -3.0  0.0  0.0  0.0   \n",
       "                                20                  -3.0  0.0  0.0  0.0   \n",
       "...                                                  ...  ...  ...  ...   \n",
       "WIN_20210417_14_53_12_Pro 18    600                 -3.0  0.0  0.0  0.0   \n",
       "                                605                 -3.0  0.0  0.0  0.0   \n",
       "                                610                 -3.0  0.0  0.0  0.0   \n",
       "                                615                 -3.0  0.0  0.0  0.0   \n",
       "                                620                 -3.0  0.0  0.0  0.0   \n",
       "\n",
       "                                                                         \\\n",
       "                                                percentil75 skew median   \n",
       "video_name                diapo frameTimeWindow                           \n",
       "Test_pour_AFPA            1     0                       0.0  0.0    0.0   \n",
       "                                5                       0.0  0.0    0.0   \n",
       "                                10                      0.0  0.0    0.0   \n",
       "                                15                      0.0  0.0    0.0   \n",
       "                                20                      0.0  0.0    0.0   \n",
       "...                                                     ...  ...    ...   \n",
       "WIN_20210417_14_53_12_Pro 18    600                     0.0  0.0    0.0   \n",
       "                                605                     0.0  0.0    0.0   \n",
       "                                610                     0.0  0.0    0.0   \n",
       "                                615                     0.0  0.0    0.0   \n",
       "                                620                     0.0  0.0    0.0   \n",
       "\n",
       "                                                             \n",
       "                                                percentil25  \n",
       "video_name                diapo frameTimeWindow              \n",
       "Test_pour_AFPA            1     0                       0.0  \n",
       "                                5                       0.0  \n",
       "                                10                      0.0  \n",
       "                                15                      0.0  \n",
       "                                20                      0.0  \n",
       "...                                                     ...  \n",
       "WIN_20210417_14_53_12_Pro 18    600                     0.0  \n",
       "                                605                     0.0  \n",
       "                                610                     0.0  \n",
       "                                615                     0.0  \n",
       "                                620                     0.0  \n",
       "\n",
       "[5327 rows x 621 columns]"
      ],
      "text/html": "<div>\n<style scoped>\n    .dataframe tbody tr th:only-of-type {\n        vertical-align: middle;\n    }\n\n    .dataframe tbody tr th {\n        vertical-align: top;\n    }\n\n    .dataframe thead tr th {\n        text-align: left;\n    }\n\n    .dataframe thead tr:last-of-type th {\n        text-align: right;\n    }\n</style>\n<table border=\"1\" class=\"dataframe\">\n  <thead>\n    <tr>\n      <th></th>\n      <th></th>\n      <th></th>\n      <th colspan=\"9\" halign=\"left\">Loudness_sma3</th>\n      <th>alphaRatio_sma3</th>\n      <th>...</th>\n      <th>F3amplitudeLogRelF0_sma3nz_de</th>\n      <th colspan=\"9\" halign=\"left\">F3amplitudeLogRelF0_sma3nz_de_de</th>\n    </tr>\n    <tr>\n      <th></th>\n      <th></th>\n      <th></th>\n      <th>min</th>\n      <th>kurtosis</th>\n      <th>mean</th>\n      <th>std</th>\n      <th>max</th>\n      <th>percentil75</th>\n      <th>skew</th>\n      <th>median</th>\n      <th>percentil25</th>\n      <th>min</th>\n      <th>...</th>\n      <th>percentil25</th>\n      <th>min</th>\n      <th>kurtosis</th>\n      <th>mean</th>\n      <th>std</th>\n      <th>max</th>\n      <th>percentil75</th>\n      <th>skew</th>\n      <th>median</th>\n      <th>percentil25</th>\n    </tr>\n    <tr>\n      <th>video_name</th>\n      <th>diapo</th>\n      <th>frameTimeWindow</th>\n      <th></th>\n      <th></th>\n      <th></th>\n      <th></th>\n      <th></th>\n      <th></th>\n      <th></th>\n      <th></th>\n      <th></th>\n      <th></th>\n      <th></th>\n      <th></th>\n      <th></th>\n      <th></th>\n      <th></th>\n      <th></th>\n      <th></th>\n      <th></th>\n      <th></th>\n      <th></th>\n      <th></th>\n    </tr>\n  </thead>\n  <tbody>\n    <tr>\n      <th rowspan=\"5\" valign=\"top\">Test_pour_AFPA</th>\n      <th rowspan=\"5\" valign=\"top\">1</th>\n      <th>0</th>\n      <td>0.108240</td>\n      <td>0.022023</td>\n      <td>0.114774</td>\n      <td>0.002580</td>\n      <td>0.123974</td>\n      <td>0.116547</td>\n      <td>0.012275</td>\n      <td>0.114900</td>\n      <td>0.112972</td>\n      <td>-1.093321</td>\n      <td>...</td>\n      <td>0.0</td>\n      <td>0.0</td>\n      <td>-3.0</td>\n      <td>0.0</td>\n      <td>0.0</td>\n      <td>0.0</td>\n      <td>0.0</td>\n      <td>0.0</td>\n      <td>0.0</td>\n      <td>0.0</td>\n    </tr>\n    <tr>\n      <th>5</th>\n      <td>0.109675</td>\n      <td>1.101698</td>\n      <td>0.115736</td>\n      <td>0.002815</td>\n      <td>0.127661</td>\n      <td>0.117393</td>\n      <td>0.713457</td>\n      <td>0.115328</td>\n      <td>0.113882</td>\n      <td>-1.074797</td>\n      <td>...</td>\n      <td>0.0</td>\n      <td>0.0</td>\n      <td>-3.0</td>\n      <td>0.0</td>\n      <td>0.0</td>\n      <td>0.0</td>\n      <td>0.0</td>\n      <td>0.0</td>\n      <td>0.0</td>\n      <td>0.0</td>\n    </tr>\n    <tr>\n      <th>10</th>\n      <td>0.105259</td>\n      <td>1.637765</td>\n      <td>0.113579</td>\n      <td>0.003511</td>\n      <td>0.125830</td>\n      <td>0.115056</td>\n      <td>0.917789</td>\n      <td>0.113245</td>\n      <td>0.111469</td>\n      <td>-1.077281</td>\n      <td>...</td>\n      <td>0.0</td>\n      <td>0.0</td>\n      <td>-3.0</td>\n      <td>0.0</td>\n      <td>0.0</td>\n      <td>0.0</td>\n      <td>0.0</td>\n      <td>0.0</td>\n      <td>0.0</td>\n      <td>0.0</td>\n    </tr>\n    <tr>\n      <th>15</th>\n      <td>0.110818</td>\n      <td>0.320136</td>\n      <td>0.118081</td>\n      <td>0.002994</td>\n      <td>0.128375</td>\n      <td>0.119927</td>\n      <td>0.307721</td>\n      <td>0.117924</td>\n      <td>0.116204</td>\n      <td>-0.863083</td>\n      <td>...</td>\n      <td>0.0</td>\n      <td>0.0</td>\n      <td>-3.0</td>\n      <td>0.0</td>\n      <td>0.0</td>\n      <td>0.0</td>\n      <td>0.0</td>\n      <td>0.0</td>\n      <td>0.0</td>\n      <td>0.0</td>\n    </tr>\n    <tr>\n      <th>20</th>\n      <td>0.108863</td>\n      <td>-0.354434</td>\n      <td>0.118637</td>\n      <td>0.003337</td>\n      <td>0.126731</td>\n      <td>0.121091</td>\n      <td>-0.395910</td>\n      <td>0.119101</td>\n      <td>0.116397</td>\n      <td>-1.108479</td>\n      <td>...</td>\n      <td>0.0</td>\n      <td>0.0</td>\n      <td>-3.0</td>\n      <td>0.0</td>\n      <td>0.0</td>\n      <td>0.0</td>\n      <td>0.0</td>\n      <td>0.0</td>\n      <td>0.0</td>\n      <td>0.0</td>\n    </tr>\n    <tr>\n      <th>...</th>\n      <th>...</th>\n      <th>...</th>\n      <td>...</td>\n      <td>...</td>\n      <td>...</td>\n      <td>...</td>\n      <td>...</td>\n      <td>...</td>\n      <td>...</td>\n      <td>...</td>\n      <td>...</td>\n      <td>...</td>\n      <td>...</td>\n      <td>...</td>\n      <td>...</td>\n      <td>...</td>\n      <td>...</td>\n      <td>...</td>\n      <td>...</td>\n      <td>...</td>\n      <td>...</td>\n      <td>...</td>\n      <td>...</td>\n    </tr>\n    <tr>\n      <th rowspan=\"5\" valign=\"top\">WIN_20210417_14_53_12_Pro</th>\n      <th rowspan=\"5\" valign=\"top\">18</th>\n      <th>600</th>\n      <td>0.001034</td>\n      <td>0.763651</td>\n      <td>0.032633</td>\n      <td>0.036212</td>\n      <td>0.183413</td>\n      <td>0.051879</td>\n      <td>1.222678</td>\n      <td>0.017399</td>\n      <td>0.001687</td>\n      <td>-20.008540</td>\n      <td>...</td>\n      <td>0.0</td>\n      <td>0.0</td>\n      <td>-3.0</td>\n      <td>0.0</td>\n      <td>0.0</td>\n      <td>0.0</td>\n      <td>0.0</td>\n      <td>0.0</td>\n      <td>0.0</td>\n      <td>0.0</td>\n    </tr>\n    <tr>\n      <th>605</th>\n      <td>0.001034</td>\n      <td>-0.688585</td>\n      <td>0.024742</td>\n      <td>0.018413</td>\n      <td>0.078965</td>\n      <td>0.037869</td>\n      <td>0.391991</td>\n      <td>0.024232</td>\n      <td>0.008823</td>\n      <td>-32.414720</td>\n      <td>...</td>\n      <td>0.0</td>\n      <td>0.0</td>\n      <td>-3.0</td>\n      <td>0.0</td>\n      <td>0.0</td>\n      <td>0.0</td>\n      <td>0.0</td>\n      <td>0.0</td>\n      <td>0.0</td>\n      <td>0.0</td>\n    </tr>\n    <tr>\n      <th>610</th>\n      <td>0.001034</td>\n      <td>-0.403783</td>\n      <td>0.025769</td>\n      <td>0.020800</td>\n      <td>0.094043</td>\n      <td>0.040993</td>\n      <td>0.554724</td>\n      <td>0.025452</td>\n      <td>0.006183</td>\n      <td>-23.127390</td>\n      <td>...</td>\n      <td>0.0</td>\n      <td>0.0</td>\n      <td>-3.0</td>\n      <td>0.0</td>\n      <td>0.0</td>\n      <td>0.0</td>\n      <td>0.0</td>\n      <td>0.0</td>\n      <td>0.0</td>\n      <td>0.0</td>\n    </tr>\n    <tr>\n      <th>615</th>\n      <td>0.001102</td>\n      <td>0.655261</td>\n      <td>0.045493</td>\n      <td>0.012051</td>\n      <td>0.078696</td>\n      <td>0.052893</td>\n      <td>-0.616833</td>\n      <td>0.047412</td>\n      <td>0.038895</td>\n      <td>-14.153810</td>\n      <td>...</td>\n      <td>0.0</td>\n      <td>0.0</td>\n      <td>-3.0</td>\n      <td>0.0</td>\n      <td>0.0</td>\n      <td>0.0</td>\n      <td>0.0</td>\n      <td>0.0</td>\n      <td>0.0</td>\n      <td>0.0</td>\n    </tr>\n    <tr>\n      <th>620</th>\n      <td>0.033513</td>\n      <td>1.970743</td>\n      <td>0.051241</td>\n      <td>0.006276</td>\n      <td>0.068639</td>\n      <td>0.054039</td>\n      <td>-0.340928</td>\n      <td>0.051371</td>\n      <td>0.048707</td>\n      <td>-13.536360</td>\n      <td>...</td>\n      <td>0.0</td>\n      <td>0.0</td>\n      <td>-3.0</td>\n      <td>0.0</td>\n      <td>0.0</td>\n      <td>0.0</td>\n      <td>0.0</td>\n      <td>0.0</td>\n      <td>0.0</td>\n      <td>0.0</td>\n    </tr>\n  </tbody>\n</table>\n<p>5327 rows × 621 columns</p>\n</div>"
     },
     "metadata": {},
     "execution_count": 24
    }
   ],
   "source": [
    "X"
   ]
  },
  {
   "cell_type": "code",
   "execution_count": 25,
   "metadata": {},
   "outputs": [
    {
     "output_type": "execute_result",
     "data": {
      "text/plain": [
       "                                                Loudness_sma3            \\\n",
       "                                                          min  kurtosis   \n",
       "video_name                diapo frameTimeWindow                           \n",
       "Test_pour_AFPA            1     0                    0.108240  0.022023   \n",
       "                                5                    0.109675  1.101698   \n",
       "                                10                   0.105259  1.637765   \n",
       "                                15                   0.110818  0.320136   \n",
       "                                20                   0.108863 -0.354434   \n",
       "...                                                       ...       ...   \n",
       "WIN_20210417_14_53_12_Pro 18    600                  0.001034  0.763651   \n",
       "                                605                  0.001034 -0.688585   \n",
       "                                610                  0.001034 -0.403783   \n",
       "                                615                  0.001102  0.655261   \n",
       "                                620                  0.033513  1.970743   \n",
       "\n",
       "                                                                               \\\n",
       "                                                     mean       std       max   \n",
       "video_name                diapo frameTimeWindow                                 \n",
       "Test_pour_AFPA            1     0                0.114774  0.002580  0.123974   \n",
       "                                5                0.115736  0.002815  0.127661   \n",
       "                                10               0.113579  0.003511  0.125830   \n",
       "                                15               0.118081  0.002994  0.128375   \n",
       "                                20               0.118637  0.003337  0.126731   \n",
       "...                                                   ...       ...       ...   \n",
       "WIN_20210417_14_53_12_Pro 18    600              0.032633  0.036212  0.183413   \n",
       "                                605              0.024742  0.018413  0.078965   \n",
       "                                610              0.025769  0.020800  0.094043   \n",
       "                                615              0.045493  0.012051  0.078696   \n",
       "                                620              0.051241  0.006276  0.068639   \n",
       "\n",
       "                                                                       \\\n",
       "                                                percentil75      skew   \n",
       "video_name                diapo frameTimeWindow                         \n",
       "Test_pour_AFPA            1     0                  0.116547  0.012275   \n",
       "                                5                  0.117393  0.713457   \n",
       "                                10                 0.115056  0.917789   \n",
       "                                15                 0.119927  0.307721   \n",
       "                                20                 0.121091 -0.395910   \n",
       "...                                                     ...       ...   \n",
       "WIN_20210417_14_53_12_Pro 18    600                0.051879  1.222678   \n",
       "                                605                0.037869  0.391991   \n",
       "                                610                0.040993  0.554724   \n",
       "                                615                0.052893 -0.616833   \n",
       "                                620                0.054039 -0.340928   \n",
       "\n",
       "                                                                       \\\n",
       "                                                   median percentil25   \n",
       "video_name                diapo frameTimeWindow                         \n",
       "Test_pour_AFPA            1     0                0.114900    0.112972   \n",
       "                                5                0.115328    0.113882   \n",
       "                                10               0.113245    0.111469   \n",
       "                                15               0.117924    0.116204   \n",
       "                                20               0.119101    0.116397   \n",
       "...                                                   ...         ...   \n",
       "WIN_20210417_14_53_12_Pro 18    600              0.017399    0.001687   \n",
       "                                605              0.024232    0.008823   \n",
       "                                610              0.025452    0.006183   \n",
       "                                615              0.047412    0.038895   \n",
       "                                620              0.051371    0.048707   \n",
       "\n",
       "                                                alphaRatio_sma3  ...  \\\n",
       "                                                            min  ...   \n",
       "video_name                diapo frameTimeWindow                  ...   \n",
       "Test_pour_AFPA            1     0                     -1.093321  ...   \n",
       "                                5                     -1.074797  ...   \n",
       "                                10                    -1.077281  ...   \n",
       "                                15                    -0.863083  ...   \n",
       "                                20                    -1.108479  ...   \n",
       "...                                                         ...  ...   \n",
       "WIN_20210417_14_53_12_Pro 18    600                  -20.008540  ...   \n",
       "                                605                  -32.414720  ...   \n",
       "                                610                  -23.127390  ...   \n",
       "                                615                  -14.153810  ...   \n",
       "                                620                  -13.536360  ...   \n",
       "\n",
       "                                                F3amplitudeLogRelF0_sma3nz_de  \\\n",
       "                                                                  percentil25   \n",
       "video_name                diapo frameTimeWindow                                 \n",
       "Test_pour_AFPA            1     0                                         0.0   \n",
       "                                5                                         0.0   \n",
       "                                10                                        0.0   \n",
       "                                15                                        0.0   \n",
       "                                20                                        0.0   \n",
       "...                                                                       ...   \n",
       "WIN_20210417_14_53_12_Pro 18    600                                       0.0   \n",
       "                                605                                       0.0   \n",
       "                                610                                       0.0   \n",
       "                                615                                       0.0   \n",
       "                                620                                       0.0   \n",
       "\n",
       "                                                F3amplitudeLogRelF0_sma3nz_de_de  \\\n",
       "                                                                             min   \n",
       "video_name                diapo frameTimeWindow                                    \n",
       "Test_pour_AFPA            1     0                                            0.0   \n",
       "                                5                                            0.0   \n",
       "                                10                                           0.0   \n",
       "                                15                                           0.0   \n",
       "                                20                                           0.0   \n",
       "...                                                                          ...   \n",
       "WIN_20210417_14_53_12_Pro 18    600                                          0.0   \n",
       "                                605                                          0.0   \n",
       "                                610                                          0.0   \n",
       "                                615                                          0.0   \n",
       "                                620                                          0.0   \n",
       "\n",
       "                                                                         \\\n",
       "                                                kurtosis mean  std  max   \n",
       "video_name                diapo frameTimeWindow                           \n",
       "Test_pour_AFPA            1     0                   -3.0  0.0  0.0  0.0   \n",
       "                                5                   -3.0  0.0  0.0  0.0   \n",
       "                                10                  -3.0  0.0  0.0  0.0   \n",
       "                                15                  -3.0  0.0  0.0  0.0   \n",
       "                                20                  -3.0  0.0  0.0  0.0   \n",
       "...                                                  ...  ...  ...  ...   \n",
       "WIN_20210417_14_53_12_Pro 18    600                 -3.0  0.0  0.0  0.0   \n",
       "                                605                 -3.0  0.0  0.0  0.0   \n",
       "                                610                 -3.0  0.0  0.0  0.0   \n",
       "                                615                 -3.0  0.0  0.0  0.0   \n",
       "                                620                 -3.0  0.0  0.0  0.0   \n",
       "\n",
       "                                                                         \\\n",
       "                                                percentil75 skew median   \n",
       "video_name                diapo frameTimeWindow                           \n",
       "Test_pour_AFPA            1     0                       0.0  0.0    0.0   \n",
       "                                5                       0.0  0.0    0.0   \n",
       "                                10                      0.0  0.0    0.0   \n",
       "                                15                      0.0  0.0    0.0   \n",
       "                                20                      0.0  0.0    0.0   \n",
       "...                                                     ...  ...    ...   \n",
       "WIN_20210417_14_53_12_Pro 18    600                     0.0  0.0    0.0   \n",
       "                                605                     0.0  0.0    0.0   \n",
       "                                610                     0.0  0.0    0.0   \n",
       "                                615                     0.0  0.0    0.0   \n",
       "                                620                     0.0  0.0    0.0   \n",
       "\n",
       "                                                             \n",
       "                                                percentil25  \n",
       "video_name                diapo frameTimeWindow              \n",
       "Test_pour_AFPA            1     0                       0.0  \n",
       "                                5                       0.0  \n",
       "                                10                      0.0  \n",
       "                                15                      0.0  \n",
       "                                20                      0.0  \n",
       "...                                                     ...  \n",
       "WIN_20210417_14_53_12_Pro 18    600                     0.0  \n",
       "                                605                     0.0  \n",
       "                                610                     0.0  \n",
       "                                615                     0.0  \n",
       "                                620                     0.0  \n",
       "\n",
       "[5327 rows x 621 columns]"
      ],
      "text/html": "<div>\n<style scoped>\n    .dataframe tbody tr th:only-of-type {\n        vertical-align: middle;\n    }\n\n    .dataframe tbody tr th {\n        vertical-align: top;\n    }\n\n    .dataframe thead tr th {\n        text-align: left;\n    }\n\n    .dataframe thead tr:last-of-type th {\n        text-align: right;\n    }\n</style>\n<table border=\"1\" class=\"dataframe\">\n  <thead>\n    <tr>\n      <th></th>\n      <th></th>\n      <th></th>\n      <th colspan=\"9\" halign=\"left\">Loudness_sma3</th>\n      <th>alphaRatio_sma3</th>\n      <th>...</th>\n      <th>F3amplitudeLogRelF0_sma3nz_de</th>\n      <th colspan=\"9\" halign=\"left\">F3amplitudeLogRelF0_sma3nz_de_de</th>\n    </tr>\n    <tr>\n      <th></th>\n      <th></th>\n      <th></th>\n      <th>min</th>\n      <th>kurtosis</th>\n      <th>mean</th>\n      <th>std</th>\n      <th>max</th>\n      <th>percentil75</th>\n      <th>skew</th>\n      <th>median</th>\n      <th>percentil25</th>\n      <th>min</th>\n      <th>...</th>\n      <th>percentil25</th>\n      <th>min</th>\n      <th>kurtosis</th>\n      <th>mean</th>\n      <th>std</th>\n      <th>max</th>\n      <th>percentil75</th>\n      <th>skew</th>\n      <th>median</th>\n      <th>percentil25</th>\n    </tr>\n    <tr>\n      <th>video_name</th>\n      <th>diapo</th>\n      <th>frameTimeWindow</th>\n      <th></th>\n      <th></th>\n      <th></th>\n      <th></th>\n      <th></th>\n      <th></th>\n      <th></th>\n      <th></th>\n      <th></th>\n      <th></th>\n      <th></th>\n      <th></th>\n      <th></th>\n      <th></th>\n      <th></th>\n      <th></th>\n      <th></th>\n      <th></th>\n      <th></th>\n      <th></th>\n      <th></th>\n    </tr>\n  </thead>\n  <tbody>\n    <tr>\n      <th rowspan=\"5\" valign=\"top\">Test_pour_AFPA</th>\n      <th rowspan=\"5\" valign=\"top\">1</th>\n      <th>0</th>\n      <td>0.108240</td>\n      <td>0.022023</td>\n      <td>0.114774</td>\n      <td>0.002580</td>\n      <td>0.123974</td>\n      <td>0.116547</td>\n      <td>0.012275</td>\n      <td>0.114900</td>\n      <td>0.112972</td>\n      <td>-1.093321</td>\n      <td>...</td>\n      <td>0.0</td>\n      <td>0.0</td>\n      <td>-3.0</td>\n      <td>0.0</td>\n      <td>0.0</td>\n      <td>0.0</td>\n      <td>0.0</td>\n      <td>0.0</td>\n      <td>0.0</td>\n      <td>0.0</td>\n    </tr>\n    <tr>\n      <th>5</th>\n      <td>0.109675</td>\n      <td>1.101698</td>\n      <td>0.115736</td>\n      <td>0.002815</td>\n      <td>0.127661</td>\n      <td>0.117393</td>\n      <td>0.713457</td>\n      <td>0.115328</td>\n      <td>0.113882</td>\n      <td>-1.074797</td>\n      <td>...</td>\n      <td>0.0</td>\n      <td>0.0</td>\n      <td>-3.0</td>\n      <td>0.0</td>\n      <td>0.0</td>\n      <td>0.0</td>\n      <td>0.0</td>\n      <td>0.0</td>\n      <td>0.0</td>\n      <td>0.0</td>\n    </tr>\n    <tr>\n      <th>10</th>\n      <td>0.105259</td>\n      <td>1.637765</td>\n      <td>0.113579</td>\n      <td>0.003511</td>\n      <td>0.125830</td>\n      <td>0.115056</td>\n      <td>0.917789</td>\n      <td>0.113245</td>\n      <td>0.111469</td>\n      <td>-1.077281</td>\n      <td>...</td>\n      <td>0.0</td>\n      <td>0.0</td>\n      <td>-3.0</td>\n      <td>0.0</td>\n      <td>0.0</td>\n      <td>0.0</td>\n      <td>0.0</td>\n      <td>0.0</td>\n      <td>0.0</td>\n      <td>0.0</td>\n    </tr>\n    <tr>\n      <th>15</th>\n      <td>0.110818</td>\n      <td>0.320136</td>\n      <td>0.118081</td>\n      <td>0.002994</td>\n      <td>0.128375</td>\n      <td>0.119927</td>\n      <td>0.307721</td>\n      <td>0.117924</td>\n      <td>0.116204</td>\n      <td>-0.863083</td>\n      <td>...</td>\n      <td>0.0</td>\n      <td>0.0</td>\n      <td>-3.0</td>\n      <td>0.0</td>\n      <td>0.0</td>\n      <td>0.0</td>\n      <td>0.0</td>\n      <td>0.0</td>\n      <td>0.0</td>\n      <td>0.0</td>\n    </tr>\n    <tr>\n      <th>20</th>\n      <td>0.108863</td>\n      <td>-0.354434</td>\n      <td>0.118637</td>\n      <td>0.003337</td>\n      <td>0.126731</td>\n      <td>0.121091</td>\n      <td>-0.395910</td>\n      <td>0.119101</td>\n      <td>0.116397</td>\n      <td>-1.108479</td>\n      <td>...</td>\n      <td>0.0</td>\n      <td>0.0</td>\n      <td>-3.0</td>\n      <td>0.0</td>\n      <td>0.0</td>\n      <td>0.0</td>\n      <td>0.0</td>\n      <td>0.0</td>\n      <td>0.0</td>\n      <td>0.0</td>\n    </tr>\n    <tr>\n      <th>...</th>\n      <th>...</th>\n      <th>...</th>\n      <td>...</td>\n      <td>...</td>\n      <td>...</td>\n      <td>...</td>\n      <td>...</td>\n      <td>...</td>\n      <td>...</td>\n      <td>...</td>\n      <td>...</td>\n      <td>...</td>\n      <td>...</td>\n      <td>...</td>\n      <td>...</td>\n      <td>...</td>\n      <td>...</td>\n      <td>...</td>\n      <td>...</td>\n      <td>...</td>\n      <td>...</td>\n      <td>...</td>\n      <td>...</td>\n    </tr>\n    <tr>\n      <th rowspan=\"5\" valign=\"top\">WIN_20210417_14_53_12_Pro</th>\n      <th rowspan=\"5\" valign=\"top\">18</th>\n      <th>600</th>\n      <td>0.001034</td>\n      <td>0.763651</td>\n      <td>0.032633</td>\n      <td>0.036212</td>\n      <td>0.183413</td>\n      <td>0.051879</td>\n      <td>1.222678</td>\n      <td>0.017399</td>\n      <td>0.001687</td>\n      <td>-20.008540</td>\n      <td>...</td>\n      <td>0.0</td>\n      <td>0.0</td>\n      <td>-3.0</td>\n      <td>0.0</td>\n      <td>0.0</td>\n      <td>0.0</td>\n      <td>0.0</td>\n      <td>0.0</td>\n      <td>0.0</td>\n      <td>0.0</td>\n    </tr>\n    <tr>\n      <th>605</th>\n      <td>0.001034</td>\n      <td>-0.688585</td>\n      <td>0.024742</td>\n      <td>0.018413</td>\n      <td>0.078965</td>\n      <td>0.037869</td>\n      <td>0.391991</td>\n      <td>0.024232</td>\n      <td>0.008823</td>\n      <td>-32.414720</td>\n      <td>...</td>\n      <td>0.0</td>\n      <td>0.0</td>\n      <td>-3.0</td>\n      <td>0.0</td>\n      <td>0.0</td>\n      <td>0.0</td>\n      <td>0.0</td>\n      <td>0.0</td>\n      <td>0.0</td>\n      <td>0.0</td>\n    </tr>\n    <tr>\n      <th>610</th>\n      <td>0.001034</td>\n      <td>-0.403783</td>\n      <td>0.025769</td>\n      <td>0.020800</td>\n      <td>0.094043</td>\n      <td>0.040993</td>\n      <td>0.554724</td>\n      <td>0.025452</td>\n      <td>0.006183</td>\n      <td>-23.127390</td>\n      <td>...</td>\n      <td>0.0</td>\n      <td>0.0</td>\n      <td>-3.0</td>\n      <td>0.0</td>\n      <td>0.0</td>\n      <td>0.0</td>\n      <td>0.0</td>\n      <td>0.0</td>\n      <td>0.0</td>\n      <td>0.0</td>\n    </tr>\n    <tr>\n      <th>615</th>\n      <td>0.001102</td>\n      <td>0.655261</td>\n      <td>0.045493</td>\n      <td>0.012051</td>\n      <td>0.078696</td>\n      <td>0.052893</td>\n      <td>-0.616833</td>\n      <td>0.047412</td>\n      <td>0.038895</td>\n      <td>-14.153810</td>\n      <td>...</td>\n      <td>0.0</td>\n      <td>0.0</td>\n      <td>-3.0</td>\n      <td>0.0</td>\n      <td>0.0</td>\n      <td>0.0</td>\n      <td>0.0</td>\n      <td>0.0</td>\n      <td>0.0</td>\n      <td>0.0</td>\n    </tr>\n    <tr>\n      <th>620</th>\n      <td>0.033513</td>\n      <td>1.970743</td>\n      <td>0.051241</td>\n      <td>0.006276</td>\n      <td>0.068639</td>\n      <td>0.054039</td>\n      <td>-0.340928</td>\n      <td>0.051371</td>\n      <td>0.048707</td>\n      <td>-13.536360</td>\n      <td>...</td>\n      <td>0.0</td>\n      <td>0.0</td>\n      <td>-3.0</td>\n      <td>0.0</td>\n      <td>0.0</td>\n      <td>0.0</td>\n      <td>0.0</td>\n      <td>0.0</td>\n      <td>0.0</td>\n      <td>0.0</td>\n    </tr>\n  </tbody>\n</table>\n<p>5327 rows × 621 columns</p>\n</div>"
     },
     "metadata": {},
     "execution_count": 25
    }
   ],
   "source": [
    "X.sort_index()"
   ]
  },
  {
   "cell_type": "code",
   "execution_count": 26,
   "metadata": {},
   "outputs": [],
   "source": [
    "#X = X.drop( ['type_candidat','sexe'],axis=1)"
   ]
  },
  {
   "cell_type": "code",
   "execution_count": 27,
   "metadata": {},
   "outputs": [],
   "source": [
    "#X_temp = df_total[['video_name','diapo','frameTimeWindow','type_candidat','sexe']].groupby(['video_name','diapo','frameTimeWindow']).agg({'type_candidat':'first','sexe':'first'})\n",
    "#X_temp.loc[X_temp['type_candidat'] == 'Stagiaire','Stagiaire'] = 1\n",
    "#X_temp.loc[X_temp['type_candidat'] != 'Stagiaire','Stagiaire'] = 0\n",
    "#X_temp.loc[X_temp['sexe'] == 'F','Femme'] = 1\n",
    "#X_temp.loc[X_temp['sexe'] != 'F','Femme'] = 0\n",
    "#X_temp = X_temp.drop(['type_candidat','sexe'], axis=1)"
   ]
  },
  {
   "cell_type": "code",
   "execution_count": 28,
   "metadata": {},
   "outputs": [],
   "source": [
    "#X_temp"
   ]
  },
  {
   "cell_type": "code",
   "execution_count": 29,
   "metadata": {},
   "outputs": [],
   "source": [
    "#X = pd.concat([X,X_temp],axis=1)"
   ]
  },
  {
   "cell_type": "code",
   "execution_count": 30,
   "metadata": {},
   "outputs": [],
   "source": [
    "#X"
   ]
  },
  {
   "cell_type": "code",
   "execution_count": 31,
   "metadata": {},
   "outputs": [],
   "source": [
    "#y = df_total.iloc[:,2:].groupby(['video_name','diapo']).agg({'stress':'mean'}).iloc[:,-1]"
   ]
  },
  {
   "cell_type": "code",
   "execution_count": 32,
   "metadata": {},
   "outputs": [],
   "source": [
    "y = df_total.iloc[:,3:].groupby(['video_name','diapo','frameTimeWindow']).agg({'stress':'min'}).iloc[:,-1]"
   ]
  },
  {
   "cell_type": "code",
   "execution_count": 33,
   "metadata": {},
   "outputs": [
    {
     "output_type": "execute_result",
     "data": {
      "text/plain": [
       "1.0    2590\n",
       "0.0    2064\n",
       "2.0     653\n",
       "3.0      20\n",
       "Name: stress, dtype: int64"
      ]
     },
     "metadata": {},
     "execution_count": 33
    }
   ],
   "source": [
    "y.value_counts()"
   ]
  },
  {
   "cell_type": "code",
   "execution_count": 34,
   "metadata": {},
   "outputs": [
    {
     "output_type": "execute_result",
     "data": {
      "text/plain": [
       "       frameIndex  frameTime  Loudness_sma3  alphaRatio_sma3  \\\n",
       "2               2       0.02       0.115323         1.264397   \n",
       "3               3       0.03       0.114323         1.232696   \n",
       "4               4       0.04       0.112190         0.754823   \n",
       "5               5       0.05       0.114955         1.207438   \n",
       "6               6       0.06       0.116704         0.903964   \n",
       "...           ...        ...            ...              ...   \n",
       "92064       92064     920.64       0.114091         0.776914   \n",
       "92065       92065     920.65       0.113893        -0.463324   \n",
       "92066       92066     920.66       0.113770        -0.097732   \n",
       "92067       92067     920.67       0.113942         0.360043   \n",
       "92068       92068     920.68       0.114541         0.930253   \n",
       "\n",
       "       hammarbergIndex_sma3  slope0-500_sma3  slope500-1500_sma3  \\\n",
       "2                  4.724082         0.014298            0.002938   \n",
       "3                  4.114583         0.006958            0.000212   \n",
       "4                  4.991586         0.018716            0.004506   \n",
       "5                  4.493402         0.024434            0.006364   \n",
       "6                  4.713356         0.034081            0.005797   \n",
       "...                     ...              ...                 ...   \n",
       "92064              4.055437         0.008927            0.001661   \n",
       "92065              5.940565         0.006887            0.001033   \n",
       "92066              5.649435        -0.000585            0.003372   \n",
       "92067              5.977117         0.005276            0.004025   \n",
       "92068              4.869550         0.010519            0.006222   \n",
       "\n",
       "       spectralFlux_sma3  mfcc1_sma3  mfcc2_sma3  ...  \\\n",
       "2               0.011240   -1.139930    0.222861  ...   \n",
       "3               0.011262   -1.320929    0.178651  ...   \n",
       "4               0.011102    0.045162    1.402770  ...   \n",
       "5               0.009986   -0.012135    0.673018  ...   \n",
       "6               0.009539    0.428895   -0.219955  ...   \n",
       "...                  ...         ...         ...  ...   \n",
       "92064           0.010753    0.106011   -0.823886  ...   \n",
       "92065           0.010604    1.223584    1.795630  ...   \n",
       "92066           0.010626    0.492639    1.345595  ...   \n",
       "92067           0.009583    0.218933    0.740404  ...   \n",
       "92068           0.010347   -0.102754    0.498100  ...   \n",
       "\n",
       "       F3frequency_sma3nz_de_de  F3amplitudeLogRelF0_sma3nz_de  \\\n",
       "2                       -49.057                            0.0   \n",
       "3                        37.929                            0.0   \n",
       "4                       -25.959                            0.0   \n",
       "5                        19.461                            0.0   \n",
       "6                       -25.492                            0.0   \n",
       "...                         ...                            ...   \n",
       "92064                    36.231                            0.0   \n",
       "92065                   -10.890                            0.0   \n",
       "92066                    -6.130                            0.0   \n",
       "92067                    17.327                            0.0   \n",
       "92068                    25.712                            0.0   \n",
       "\n",
       "       F3amplitudeLogRelF0_sma3nz_de_de      video_name  stress_global  \\\n",
       "2                                   0.0  Test_pour_AFPA            1.0   \n",
       "3                                   0.0  Test_pour_AFPA            1.0   \n",
       "4                                   0.0  Test_pour_AFPA            1.0   \n",
       "5                                   0.0  Test_pour_AFPA            1.0   \n",
       "6                                   0.0  Test_pour_AFPA            1.0   \n",
       "...                                 ...             ...            ...   \n",
       "92064                               0.0  Test_pour_AFPA            1.0   \n",
       "92065                               0.0  Test_pour_AFPA            1.0   \n",
       "92066                               0.0  Test_pour_AFPA            1.0   \n",
       "92067                               0.0  Test_pour_AFPA            1.0   \n",
       "92068                               0.0  Test_pour_AFPA            1.0   \n",
       "\n",
       "       type_candidat  sexe  stress  diapo  frameTimeWindow  \n",
       "2          Stagiaire     H     1.0      1                0  \n",
       "3          Stagiaire     H     1.0      1                0  \n",
       "4          Stagiaire     H     1.0      1                0  \n",
       "5          Stagiaire     H     1.0      1                0  \n",
       "6          Stagiaire     H     1.0      1                0  \n",
       "...              ...   ...     ...    ...              ...  \n",
       "92064      Stagiaire     H     1.0     18              920  \n",
       "92065      Stagiaire     H     1.0     18              920  \n",
       "92066      Stagiaire     H     1.0     18              920  \n",
       "92067      Stagiaire     H     1.0     18              920  \n",
       "92068      Stagiaire     H     1.0     18              920  \n",
       "\n",
       "[92067 rows x 78 columns]"
      ],
      "text/html": "<div>\n<style scoped>\n    .dataframe tbody tr th:only-of-type {\n        vertical-align: middle;\n    }\n\n    .dataframe tbody tr th {\n        vertical-align: top;\n    }\n\n    .dataframe thead th {\n        text-align: right;\n    }\n</style>\n<table border=\"1\" class=\"dataframe\">\n  <thead>\n    <tr style=\"text-align: right;\">\n      <th></th>\n      <th>frameIndex</th>\n      <th>frameTime</th>\n      <th>Loudness_sma3</th>\n      <th>alphaRatio_sma3</th>\n      <th>hammarbergIndex_sma3</th>\n      <th>slope0-500_sma3</th>\n      <th>slope500-1500_sma3</th>\n      <th>spectralFlux_sma3</th>\n      <th>mfcc1_sma3</th>\n      <th>mfcc2_sma3</th>\n      <th>...</th>\n      <th>F3frequency_sma3nz_de_de</th>\n      <th>F3amplitudeLogRelF0_sma3nz_de</th>\n      <th>F3amplitudeLogRelF0_sma3nz_de_de</th>\n      <th>video_name</th>\n      <th>stress_global</th>\n      <th>type_candidat</th>\n      <th>sexe</th>\n      <th>stress</th>\n      <th>diapo</th>\n      <th>frameTimeWindow</th>\n    </tr>\n  </thead>\n  <tbody>\n    <tr>\n      <th>2</th>\n      <td>2</td>\n      <td>0.02</td>\n      <td>0.115323</td>\n      <td>1.264397</td>\n      <td>4.724082</td>\n      <td>0.014298</td>\n      <td>0.002938</td>\n      <td>0.011240</td>\n      <td>-1.139930</td>\n      <td>0.222861</td>\n      <td>...</td>\n      <td>-49.057</td>\n      <td>0.0</td>\n      <td>0.0</td>\n      <td>Test_pour_AFPA</td>\n      <td>1.0</td>\n      <td>Stagiaire</td>\n      <td>H</td>\n      <td>1.0</td>\n      <td>1</td>\n      <td>0</td>\n    </tr>\n    <tr>\n      <th>3</th>\n      <td>3</td>\n      <td>0.03</td>\n      <td>0.114323</td>\n      <td>1.232696</td>\n      <td>4.114583</td>\n      <td>0.006958</td>\n      <td>0.000212</td>\n      <td>0.011262</td>\n      <td>-1.320929</td>\n      <td>0.178651</td>\n      <td>...</td>\n      <td>37.929</td>\n      <td>0.0</td>\n      <td>0.0</td>\n      <td>Test_pour_AFPA</td>\n      <td>1.0</td>\n      <td>Stagiaire</td>\n      <td>H</td>\n      <td>1.0</td>\n      <td>1</td>\n      <td>0</td>\n    </tr>\n    <tr>\n      <th>4</th>\n      <td>4</td>\n      <td>0.04</td>\n      <td>0.112190</td>\n      <td>0.754823</td>\n      <td>4.991586</td>\n      <td>0.018716</td>\n      <td>0.004506</td>\n      <td>0.011102</td>\n      <td>0.045162</td>\n      <td>1.402770</td>\n      <td>...</td>\n      <td>-25.959</td>\n      <td>0.0</td>\n      <td>0.0</td>\n      <td>Test_pour_AFPA</td>\n      <td>1.0</td>\n      <td>Stagiaire</td>\n      <td>H</td>\n      <td>1.0</td>\n      <td>1</td>\n      <td>0</td>\n    </tr>\n    <tr>\n      <th>5</th>\n      <td>5</td>\n      <td>0.05</td>\n      <td>0.114955</td>\n      <td>1.207438</td>\n      <td>4.493402</td>\n      <td>0.024434</td>\n      <td>0.006364</td>\n      <td>0.009986</td>\n      <td>-0.012135</td>\n      <td>0.673018</td>\n      <td>...</td>\n      <td>19.461</td>\n      <td>0.0</td>\n      <td>0.0</td>\n      <td>Test_pour_AFPA</td>\n      <td>1.0</td>\n      <td>Stagiaire</td>\n      <td>H</td>\n      <td>1.0</td>\n      <td>1</td>\n      <td>0</td>\n    </tr>\n    <tr>\n      <th>6</th>\n      <td>6</td>\n      <td>0.06</td>\n      <td>0.116704</td>\n      <td>0.903964</td>\n      <td>4.713356</td>\n      <td>0.034081</td>\n      <td>0.005797</td>\n      <td>0.009539</td>\n      <td>0.428895</td>\n      <td>-0.219955</td>\n      <td>...</td>\n      <td>-25.492</td>\n      <td>0.0</td>\n      <td>0.0</td>\n      <td>Test_pour_AFPA</td>\n      <td>1.0</td>\n      <td>Stagiaire</td>\n      <td>H</td>\n      <td>1.0</td>\n      <td>1</td>\n      <td>0</td>\n    </tr>\n    <tr>\n      <th>...</th>\n      <td>...</td>\n      <td>...</td>\n      <td>...</td>\n      <td>...</td>\n      <td>...</td>\n      <td>...</td>\n      <td>...</td>\n      <td>...</td>\n      <td>...</td>\n      <td>...</td>\n      <td>...</td>\n      <td>...</td>\n      <td>...</td>\n      <td>...</td>\n      <td>...</td>\n      <td>...</td>\n      <td>...</td>\n      <td>...</td>\n      <td>...</td>\n      <td>...</td>\n      <td>...</td>\n    </tr>\n    <tr>\n      <th>92064</th>\n      <td>92064</td>\n      <td>920.64</td>\n      <td>0.114091</td>\n      <td>0.776914</td>\n      <td>4.055437</td>\n      <td>0.008927</td>\n      <td>0.001661</td>\n      <td>0.010753</td>\n      <td>0.106011</td>\n      <td>-0.823886</td>\n      <td>...</td>\n      <td>36.231</td>\n      <td>0.0</td>\n      <td>0.0</td>\n      <td>Test_pour_AFPA</td>\n      <td>1.0</td>\n      <td>Stagiaire</td>\n      <td>H</td>\n      <td>1.0</td>\n      <td>18</td>\n      <td>920</td>\n    </tr>\n    <tr>\n      <th>92065</th>\n      <td>92065</td>\n      <td>920.65</td>\n      <td>0.113893</td>\n      <td>-0.463324</td>\n      <td>5.940565</td>\n      <td>0.006887</td>\n      <td>0.001033</td>\n      <td>0.010604</td>\n      <td>1.223584</td>\n      <td>1.795630</td>\n      <td>...</td>\n      <td>-10.890</td>\n      <td>0.0</td>\n      <td>0.0</td>\n      <td>Test_pour_AFPA</td>\n      <td>1.0</td>\n      <td>Stagiaire</td>\n      <td>H</td>\n      <td>1.0</td>\n      <td>18</td>\n      <td>920</td>\n    </tr>\n    <tr>\n      <th>92066</th>\n      <td>92066</td>\n      <td>920.66</td>\n      <td>0.113770</td>\n      <td>-0.097732</td>\n      <td>5.649435</td>\n      <td>-0.000585</td>\n      <td>0.003372</td>\n      <td>0.010626</td>\n      <td>0.492639</td>\n      <td>1.345595</td>\n      <td>...</td>\n      <td>-6.130</td>\n      <td>0.0</td>\n      <td>0.0</td>\n      <td>Test_pour_AFPA</td>\n      <td>1.0</td>\n      <td>Stagiaire</td>\n      <td>H</td>\n      <td>1.0</td>\n      <td>18</td>\n      <td>920</td>\n    </tr>\n    <tr>\n      <th>92067</th>\n      <td>92067</td>\n      <td>920.67</td>\n      <td>0.113942</td>\n      <td>0.360043</td>\n      <td>5.977117</td>\n      <td>0.005276</td>\n      <td>0.004025</td>\n      <td>0.009583</td>\n      <td>0.218933</td>\n      <td>0.740404</td>\n      <td>...</td>\n      <td>17.327</td>\n      <td>0.0</td>\n      <td>0.0</td>\n      <td>Test_pour_AFPA</td>\n      <td>1.0</td>\n      <td>Stagiaire</td>\n      <td>H</td>\n      <td>1.0</td>\n      <td>18</td>\n      <td>920</td>\n    </tr>\n    <tr>\n      <th>92068</th>\n      <td>92068</td>\n      <td>920.68</td>\n      <td>0.114541</td>\n      <td>0.930253</td>\n      <td>4.869550</td>\n      <td>0.010519</td>\n      <td>0.006222</td>\n      <td>0.010347</td>\n      <td>-0.102754</td>\n      <td>0.498100</td>\n      <td>...</td>\n      <td>25.712</td>\n      <td>0.0</td>\n      <td>0.0</td>\n      <td>Test_pour_AFPA</td>\n      <td>1.0</td>\n      <td>Stagiaire</td>\n      <td>H</td>\n      <td>1.0</td>\n      <td>18</td>\n      <td>920</td>\n    </tr>\n  </tbody>\n</table>\n<p>92067 rows × 78 columns</p>\n</div>"
     },
     "metadata": {},
     "execution_count": 34
    }
   ],
   "source": [
    "df_total[df_total.video_name == 'Test_pour_AFPA']"
   ]
  },
  {
   "cell_type": "code",
   "execution_count": 35,
   "metadata": {},
   "outputs": [],
   "source": [
    "X.to_pickle(directory_path + '/audio_' + features + '_tw5_data_X.p')\n",
    "y.to_pickle(directory_path + '/audio_' + features + '_tw5_data_y.p')"
   ]
  },
  {
   "cell_type": "code",
   "execution_count": 9,
   "metadata": {},
   "outputs": [],
   "source": [
    "from scipy.stats import kurtosis, skew\n",
    "X_audio = df_total.loc[df_total['diapo'].isin([8, 9, 10, 11, 17]),:].iloc[:,2:].groupby(['video_name','diapo','frameTimeWindow']).agg({'mean','min','max', 'median', 'std', percentil25, percentil75, kurtosis, skew}).iloc[:,:-18]\n",
    "y_audio = df_total.loc[df_total['diapo'].isin([8, 9, 10, 11, 17]),:].iloc[:,2:].groupby(['video_name','diapo','frameTimeWindow']).agg({'stress':'mean'}).iloc[:,-1]\n"
   ]
  },
  {
   "cell_type": "code",
   "execution_count": 10,
   "metadata": {},
   "outputs": [],
   "source": [
    "X_audio.to_pickle(directory_path + '/audio_' + features + '_tw5_data_X_audio_questions_only.p')\n",
    "y_audio.to_pickle(directory_path + '/audio_' + features + '_tw5_data_y_audio_questions_only.p')"
   ]
  },
  {
   "cell_type": "code",
   "execution_count": 11,
   "metadata": {},
   "outputs": [
    {
     "output_type": "execute_result",
     "data": {
      "text/plain": [
       "                                                Loudness_sma3            \\\n",
       "                                                          std      skew   \n",
       "video_name                diapo frameTimeWindow                           \n",
       "Test_pour_AFPA            8     170                  0.004260  0.622063   \n",
       "                                175                  0.171903  7.899540   \n",
       "                                180                  0.151311  2.666126   \n",
       "                                185                  0.524094  0.729256   \n",
       "                                190                  0.460575  0.901794   \n",
       "...                                                       ...       ...   \n",
       "WIN_20210417_14_53_12_Pro 17    490                  0.710146  0.838450   \n",
       "                                495                  0.579125  0.771330   \n",
       "                                500                  0.649895  2.217419   \n",
       "                                505                  0.004583  3.637088   \n",
       "                                510                  0.000042  0.481472   \n",
       "\n",
       "                                                                     \\\n",
       "                                                   median       max   \n",
       "video_name                diapo frameTimeWindow                       \n",
       "Test_pour_AFPA            8     170              0.117952  0.132053   \n",
       "                                175              0.121089  2.000975   \n",
       "                                180              0.114357  0.889735   \n",
       "                                185              0.766889  2.655899   \n",
       "                                190              0.688319  2.867280   \n",
       "...                                                   ...       ...   \n",
       "WIN_20210417_14_53_12_Pro 17    490              0.955319  3.344785   \n",
       "                                495              0.784014  2.721339   \n",
       "                                500              0.011762  3.097884   \n",
       "                                505              0.001099  0.032650   \n",
       "                                510              0.001091  0.001169   \n",
       "\n",
       "                                                                       \\\n",
       "                                                percentil75       min   \n",
       "video_name                diapo frameTimeWindow                         \n",
       "Test_pour_AFPA            8     170                0.120691  0.108892   \n",
       "                                175                0.125652  0.106997   \n",
       "                                180                0.215082  0.103347   \n",
       "                                185                1.137554  0.116312   \n",
       "                                190                1.044864  0.107790   \n",
       "...                                                     ...       ...   \n",
       "WIN_20210417_14_53_12_Pro 17    490                1.521639  0.048988   \n",
       "                                495                1.223141  0.027308   \n",
       "                                500                0.556316  0.001036   \n",
       "                                505                0.001169  0.001034   \n",
       "                                510                0.001122  0.001036   \n",
       "\n",
       "                                                                        \\\n",
       "                                                  kurtosis percentil25   \n",
       "video_name                diapo frameTimeWindow                          \n",
       "Test_pour_AFPA            8     170               0.061981    0.115424   \n",
       "                                175              69.433110    0.115221   \n",
       "                                180               7.147944    0.110418   \n",
       "                                185               0.187311    0.441915   \n",
       "                                190               1.686311    0.428902   \n",
       "...                                                    ...         ...   \n",
       "WIN_20210417_14_53_12_Pro 17    490               0.207985    0.563528   \n",
       "                                495               0.247044    0.418666   \n",
       "                                500               4.612967    0.001589   \n",
       "                                505              14.988611    0.001065   \n",
       "                                510              -0.885828    0.001053   \n",
       "\n",
       "                                                          alphaRatio_sma3  \\\n",
       "                                                     mean             std   \n",
       "video_name                diapo frameTimeWindow                             \n",
       "Test_pour_AFPA            8     170              0.118373        0.877258   \n",
       "                                175              0.152012        3.442018   \n",
       "                                180              0.186117       13.720331   \n",
       "                                185              0.831337       15.531181   \n",
       "                                190              0.756366       19.009962   \n",
       "...                                                   ...             ...   \n",
       "WIN_20210417_14_53_12_Pro 17    490              1.105343       10.670593   \n",
       "                                495              0.876423       14.337375   \n",
       "                                500              0.365644       12.537451   \n",
       "                                505              0.002772        6.852940   \n",
       "                                510              0.001091        0.788314   \n",
       "\n",
       "                                                 ...  \\\n",
       "                                                 ...   \n",
       "video_name                diapo frameTimeWindow  ...   \n",
       "Test_pour_AFPA            8     170              ...   \n",
       "                                175              ...   \n",
       "                                180              ...   \n",
       "                                185              ...   \n",
       "                                190              ...   \n",
       "...                                              ...   \n",
       "WIN_20210417_14_53_12_Pro 17    490              ...   \n",
       "                                495              ...   \n",
       "                                500              ...   \n",
       "                                505              ...   \n",
       "                                510              ...   \n",
       "\n",
       "                                                F3amplitudeLogRelF0_sma3nz_de  \\\n",
       "                                                                         mean   \n",
       "video_name                diapo frameTimeWindow                                 \n",
       "Test_pour_AFPA            8     170                              0.000000e+00   \n",
       "                                175                             -7.105427e-17   \n",
       "                                180                              3.040206e-01   \n",
       "                                185                              1.871890e-01   \n",
       "                                190                             -1.522989e-01   \n",
       "...                                                                       ...   \n",
       "WIN_20210417_14_53_12_Pro 17    490                             -2.810674e-02   \n",
       "                                495                             -3.410627e-01   \n",
       "                                500                              2.700062e-16   \n",
       "                                505                              0.000000e+00   \n",
       "                                510                              0.000000e+00   \n",
       "\n",
       "                                                F3amplitudeLogRelF0_sma3nz_de_de  \\\n",
       "                                                                             std   \n",
       "video_name                diapo frameTimeWindow                                    \n",
       "Test_pour_AFPA            8     170                                     0.000000   \n",
       "                                175                                     9.613475   \n",
       "                                180                                    12.693301   \n",
       "                                185                                    23.292856   \n",
       "                                190                                    27.733492   \n",
       "...                                                                          ...   \n",
       "WIN_20210417_14_53_12_Pro 17    490                                    23.453617   \n",
       "                                495                                    23.579180   \n",
       "                                500                                    11.901781   \n",
       "                                505                                     0.000000   \n",
       "                                510                                     0.000000   \n",
       "\n",
       "                                                                            \\\n",
       "                                                     skew median       max   \n",
       "video_name                diapo frameTimeWindow                              \n",
       "Test_pour_AFPA            8     170              0.000000    0.0    0.0000   \n",
       "                                175              0.358179    0.0   73.9124   \n",
       "                                180             -0.005986    0.0   66.2549   \n",
       "                                185              0.363251    0.0  136.9037   \n",
       "                                190              0.156432    0.0  138.3435   \n",
       "...                                                   ...    ...       ...   \n",
       "WIN_20210417_14_53_12_Pro 17    490              0.923898    0.0  135.7129   \n",
       "                                495             -0.107077    0.0  120.4374   \n",
       "                                500             -0.037497    0.0   66.9320   \n",
       "                                505              0.000000    0.0    0.0000   \n",
       "                                510              0.000000    0.0    0.0000   \n",
       "\n",
       "                                                                         \\\n",
       "                                                percentil75         min   \n",
       "video_name                diapo frameTimeWindow                           \n",
       "Test_pour_AFPA            8     170                0.000000    0.000000   \n",
       "                                175                0.000000  -73.430240   \n",
       "                                180                0.000000  -67.288800   \n",
       "                                185                1.834765 -111.484860   \n",
       "                                190                2.356100  -86.525480   \n",
       "...                                                     ...         ...   \n",
       "WIN_20210417_14_53_12_Pro 17    490                1.742045  -95.300880   \n",
       "                                495                2.157915 -135.206247   \n",
       "                                500                0.000000  -68.091960   \n",
       "                                505                0.000000    0.000000   \n",
       "                                510                0.000000    0.000000   \n",
       "\n",
       "                                                                        \\\n",
       "                                                  kurtosis percentil25   \n",
       "video_name                diapo frameTimeWindow                          \n",
       "Test_pour_AFPA            8     170              -3.000000    0.000000   \n",
       "                                175              40.327165    0.000000   \n",
       "                                180              19.280932    0.000000   \n",
       "                                185               9.002744   -1.582145   \n",
       "                                190               4.333090   -2.325031   \n",
       "...                                                    ...         ...   \n",
       "WIN_20210417_14_53_12_Pro 17    490              10.487814   -1.872973   \n",
       "                                495               7.396459   -2.202508   \n",
       "                                500              24.315047    0.000000   \n",
       "                                505              -3.000000    0.000000   \n",
       "                                510              -3.000000    0.000000   \n",
       "\n",
       "                                                               \n",
       "                                                         mean  \n",
       "video_name                diapo frameTimeWindow                \n",
       "Test_pour_AFPA            8     170              0.000000e+00  \n",
       "                                175              1.421085e-17  \n",
       "                                180             -1.189688e-02  \n",
       "                                185              1.342036e-02  \n",
       "                                190              6.103200e-04  \n",
       "...                                                       ...  \n",
       "WIN_20210417_14_53_12_Pro 17    490             -3.740600e-03  \n",
       "                                495             -4.792800e-03  \n",
       "                                500              1.421085e-17  \n",
       "                                505              0.000000e+00  \n",
       "                                510              0.000000e+00  \n",
       "\n",
       "[2167 rows x 621 columns]"
      ],
      "text/html": "<div>\n<style scoped>\n    .dataframe tbody tr th:only-of-type {\n        vertical-align: middle;\n    }\n\n    .dataframe tbody tr th {\n        vertical-align: top;\n    }\n\n    .dataframe thead tr th {\n        text-align: left;\n    }\n\n    .dataframe thead tr:last-of-type th {\n        text-align: right;\n    }\n</style>\n<table border=\"1\" class=\"dataframe\">\n  <thead>\n    <tr>\n      <th></th>\n      <th></th>\n      <th></th>\n      <th colspan=\"9\" halign=\"left\">Loudness_sma3</th>\n      <th>alphaRatio_sma3</th>\n      <th>...</th>\n      <th>F3amplitudeLogRelF0_sma3nz_de</th>\n      <th colspan=\"9\" halign=\"left\">F3amplitudeLogRelF0_sma3nz_de_de</th>\n    </tr>\n    <tr>\n      <th></th>\n      <th></th>\n      <th></th>\n      <th>std</th>\n      <th>skew</th>\n      <th>median</th>\n      <th>max</th>\n      <th>percentil75</th>\n      <th>min</th>\n      <th>kurtosis</th>\n      <th>percentil25</th>\n      <th>mean</th>\n      <th>std</th>\n      <th>...</th>\n      <th>mean</th>\n      <th>std</th>\n      <th>skew</th>\n      <th>median</th>\n      <th>max</th>\n      <th>percentil75</th>\n      <th>min</th>\n      <th>kurtosis</th>\n      <th>percentil25</th>\n      <th>mean</th>\n    </tr>\n    <tr>\n      <th>video_name</th>\n      <th>diapo</th>\n      <th>frameTimeWindow</th>\n      <th></th>\n      <th></th>\n      <th></th>\n      <th></th>\n      <th></th>\n      <th></th>\n      <th></th>\n      <th></th>\n      <th></th>\n      <th></th>\n      <th></th>\n      <th></th>\n      <th></th>\n      <th></th>\n      <th></th>\n      <th></th>\n      <th></th>\n      <th></th>\n      <th></th>\n      <th></th>\n      <th></th>\n    </tr>\n  </thead>\n  <tbody>\n    <tr>\n      <th rowspan=\"5\" valign=\"top\">Test_pour_AFPA</th>\n      <th rowspan=\"5\" valign=\"top\">8</th>\n      <th>170</th>\n      <td>0.004260</td>\n      <td>0.622063</td>\n      <td>0.117952</td>\n      <td>0.132053</td>\n      <td>0.120691</td>\n      <td>0.108892</td>\n      <td>0.061981</td>\n      <td>0.115424</td>\n      <td>0.118373</td>\n      <td>0.877258</td>\n      <td>...</td>\n      <td>0.000000e+00</td>\n      <td>0.000000</td>\n      <td>0.000000</td>\n      <td>0.0</td>\n      <td>0.0000</td>\n      <td>0.000000</td>\n      <td>0.000000</td>\n      <td>-3.000000</td>\n      <td>0.000000</td>\n      <td>0.000000e+00</td>\n    </tr>\n    <tr>\n      <th>175</th>\n      <td>0.171903</td>\n      <td>7.899540</td>\n      <td>0.121089</td>\n      <td>2.000975</td>\n      <td>0.125652</td>\n      <td>0.106997</td>\n      <td>69.433110</td>\n      <td>0.115221</td>\n      <td>0.152012</td>\n      <td>3.442018</td>\n      <td>...</td>\n      <td>-7.105427e-17</td>\n      <td>9.613475</td>\n      <td>0.358179</td>\n      <td>0.0</td>\n      <td>73.9124</td>\n      <td>0.000000</td>\n      <td>-73.430240</td>\n      <td>40.327165</td>\n      <td>0.000000</td>\n      <td>1.421085e-17</td>\n    </tr>\n    <tr>\n      <th>180</th>\n      <td>0.151311</td>\n      <td>2.666126</td>\n      <td>0.114357</td>\n      <td>0.889735</td>\n      <td>0.215082</td>\n      <td>0.103347</td>\n      <td>7.147944</td>\n      <td>0.110418</td>\n      <td>0.186117</td>\n      <td>13.720331</td>\n      <td>...</td>\n      <td>3.040206e-01</td>\n      <td>12.693301</td>\n      <td>-0.005986</td>\n      <td>0.0</td>\n      <td>66.2549</td>\n      <td>0.000000</td>\n      <td>-67.288800</td>\n      <td>19.280932</td>\n      <td>0.000000</td>\n      <td>-1.189688e-02</td>\n    </tr>\n    <tr>\n      <th>185</th>\n      <td>0.524094</td>\n      <td>0.729256</td>\n      <td>0.766889</td>\n      <td>2.655899</td>\n      <td>1.137554</td>\n      <td>0.116312</td>\n      <td>0.187311</td>\n      <td>0.441915</td>\n      <td>0.831337</td>\n      <td>15.531181</td>\n      <td>...</td>\n      <td>1.871890e-01</td>\n      <td>23.292856</td>\n      <td>0.363251</td>\n      <td>0.0</td>\n      <td>136.9037</td>\n      <td>1.834765</td>\n      <td>-111.484860</td>\n      <td>9.002744</td>\n      <td>-1.582145</td>\n      <td>1.342036e-02</td>\n    </tr>\n    <tr>\n      <th>190</th>\n      <td>0.460575</td>\n      <td>0.901794</td>\n      <td>0.688319</td>\n      <td>2.867280</td>\n      <td>1.044864</td>\n      <td>0.107790</td>\n      <td>1.686311</td>\n      <td>0.428902</td>\n      <td>0.756366</td>\n      <td>19.009962</td>\n      <td>...</td>\n      <td>-1.522989e-01</td>\n      <td>27.733492</td>\n      <td>0.156432</td>\n      <td>0.0</td>\n      <td>138.3435</td>\n      <td>2.356100</td>\n      <td>-86.525480</td>\n      <td>4.333090</td>\n      <td>-2.325031</td>\n      <td>6.103200e-04</td>\n    </tr>\n    <tr>\n      <th>...</th>\n      <th>...</th>\n      <th>...</th>\n      <td>...</td>\n      <td>...</td>\n      <td>...</td>\n      <td>...</td>\n      <td>...</td>\n      <td>...</td>\n      <td>...</td>\n      <td>...</td>\n      <td>...</td>\n      <td>...</td>\n      <td>...</td>\n      <td>...</td>\n      <td>...</td>\n      <td>...</td>\n      <td>...</td>\n      <td>...</td>\n      <td>...</td>\n      <td>...</td>\n      <td>...</td>\n      <td>...</td>\n      <td>...</td>\n    </tr>\n    <tr>\n      <th rowspan=\"5\" valign=\"top\">WIN_20210417_14_53_12_Pro</th>\n      <th rowspan=\"5\" valign=\"top\">17</th>\n      <th>490</th>\n      <td>0.710146</td>\n      <td>0.838450</td>\n      <td>0.955319</td>\n      <td>3.344785</td>\n      <td>1.521639</td>\n      <td>0.048988</td>\n      <td>0.207985</td>\n      <td>0.563528</td>\n      <td>1.105343</td>\n      <td>10.670593</td>\n      <td>...</td>\n      <td>-2.810674e-02</td>\n      <td>23.453617</td>\n      <td>0.923898</td>\n      <td>0.0</td>\n      <td>135.7129</td>\n      <td>1.742045</td>\n      <td>-95.300880</td>\n      <td>10.487814</td>\n      <td>-1.872973</td>\n      <td>-3.740600e-03</td>\n    </tr>\n    <tr>\n      <th>495</th>\n      <td>0.579125</td>\n      <td>0.771330</td>\n      <td>0.784014</td>\n      <td>2.721339</td>\n      <td>1.223141</td>\n      <td>0.027308</td>\n      <td>0.247044</td>\n      <td>0.418666</td>\n      <td>0.876423</td>\n      <td>14.337375</td>\n      <td>...</td>\n      <td>-3.410627e-01</td>\n      <td>23.579180</td>\n      <td>-0.107077</td>\n      <td>0.0</td>\n      <td>120.4374</td>\n      <td>2.157915</td>\n      <td>-135.206247</td>\n      <td>7.396459</td>\n      <td>-2.202508</td>\n      <td>-4.792800e-03</td>\n    </tr>\n    <tr>\n      <th>500</th>\n      <td>0.649895</td>\n      <td>2.217419</td>\n      <td>0.011762</td>\n      <td>3.097884</td>\n      <td>0.556316</td>\n      <td>0.001036</td>\n      <td>4.612967</td>\n      <td>0.001589</td>\n      <td>0.365644</td>\n      <td>12.537451</td>\n      <td>...</td>\n      <td>2.700062e-16</td>\n      <td>11.901781</td>\n      <td>-0.037497</td>\n      <td>0.0</td>\n      <td>66.9320</td>\n      <td>0.000000</td>\n      <td>-68.091960</td>\n      <td>24.315047</td>\n      <td>0.000000</td>\n      <td>1.421085e-17</td>\n    </tr>\n    <tr>\n      <th>505</th>\n      <td>0.004583</td>\n      <td>3.637088</td>\n      <td>0.001099</td>\n      <td>0.032650</td>\n      <td>0.001169</td>\n      <td>0.001034</td>\n      <td>14.988611</td>\n      <td>0.001065</td>\n      <td>0.002772</td>\n      <td>6.852940</td>\n      <td>...</td>\n      <td>0.000000e+00</td>\n      <td>0.000000</td>\n      <td>0.000000</td>\n      <td>0.0</td>\n      <td>0.0000</td>\n      <td>0.000000</td>\n      <td>0.000000</td>\n      <td>-3.000000</td>\n      <td>0.000000</td>\n      <td>0.000000e+00</td>\n    </tr>\n    <tr>\n      <th>510</th>\n      <td>0.000042</td>\n      <td>0.481472</td>\n      <td>0.001091</td>\n      <td>0.001169</td>\n      <td>0.001122</td>\n      <td>0.001036</td>\n      <td>-0.885828</td>\n      <td>0.001053</td>\n      <td>0.001091</td>\n      <td>0.788314</td>\n      <td>...</td>\n      <td>0.000000e+00</td>\n      <td>0.000000</td>\n      <td>0.000000</td>\n      <td>0.0</td>\n      <td>0.0000</td>\n      <td>0.000000</td>\n      <td>0.000000</td>\n      <td>-3.000000</td>\n      <td>0.000000</td>\n      <td>0.000000e+00</td>\n    </tr>\n  </tbody>\n</table>\n<p>2167 rows × 621 columns</p>\n</div>"
     },
     "metadata": {},
     "execution_count": 11
    }
   ],
   "source": [
    "X_audio"
   ]
  },
  {
   "source": [
    "## Modèles"
   ],
   "cell_type": "markdown",
   "metadata": {}
  },
  {
   "cell_type": "code",
   "execution_count": 5,
   "metadata": {},
   "outputs": [],
   "source": [
    "X = pd.read_pickle(directory_path + '/audio_' + features + '_tw5_data_X.p')\n",
    "y = pd.read_pickle(directory_path + '/audio_' + features + '_tw5_data_y.p')\n",
    "\n",
    "X_audio = pd.read_pickle(directory_path + '/audio_' + features + '_data_X_audio.p')\n",
    "y_audio = pd.read_pickle(directory_path + '/audio_' + features + '_data_y_audio.p')"
   ]
  },
  {
   "cell_type": "code",
   "execution_count": 4,
   "metadata": {},
   "outputs": [
    {
     "output_type": "execute_result",
     "data": {
      "text/plain": [
       "(5327, 621)"
      ]
     },
     "metadata": {},
     "execution_count": 4
    }
   ],
   "source": [
    "X.shape"
   ]
  },
  {
   "cell_type": "code",
   "execution_count": 5,
   "metadata": {},
   "outputs": [],
   "source": [
    "X = X.fillna(0)"
   ]
  },
  {
   "source": [
    "#### All diapos"
   ],
   "cell_type": "markdown",
   "metadata": {}
  },
  {
   "cell_type": "code",
   "execution_count": 7,
   "metadata": {},
   "outputs": [],
   "source": [
    "#video_name_list = X.reset_index().video_name.unique()\n",
    "#X = X.reset_index()\n",
    "#y = y.reset_index()"
   ]
  },
  {
   "cell_type": "code",
   "execution_count": 8,
   "metadata": {},
   "outputs": [
    {
     "output_type": "execute_result",
     "data": {
      "text/plain": [
       "                     video_name diapo frameTimeWindow Loudness_sma3            \\\n",
       "                                                                min  kurtosis   \n",
       "0                Test_pour_AFPA     1               0      0.108240  0.022023   \n",
       "1                Test_pour_AFPA     1               5      0.109675  1.101698   \n",
       "2                Test_pour_AFPA     1              10      0.105259  1.637765   \n",
       "3                Test_pour_AFPA     1              15      0.110818  0.320136   \n",
       "4                Test_pour_AFPA     1              20      0.108863 -0.354434   \n",
       "...                         ...   ...             ...           ...       ...   \n",
       "5322  WIN_20210417_14_53_12_Pro    18             600      0.001034  0.763651   \n",
       "5323  WIN_20210417_14_53_12_Pro    18             605      0.001034 -0.688585   \n",
       "5324  WIN_20210417_14_53_12_Pro    18             610      0.001034 -0.403783   \n",
       "5325  WIN_20210417_14_53_12_Pro    18             615      0.001102  0.655261   \n",
       "5326  WIN_20210417_14_53_12_Pro    18             620      0.033513  1.970743   \n",
       "\n",
       "                                                          ...  \\\n",
       "          mean       std       max percentil75      skew  ...   \n",
       "0     0.114774  0.002580  0.123974    0.116547  0.012275  ...   \n",
       "1     0.115736  0.002815  0.127661    0.117393  0.713457  ...   \n",
       "2     0.113579  0.003511  0.125830    0.115056  0.917789  ...   \n",
       "3     0.118081  0.002994  0.128375    0.119927  0.307721  ...   \n",
       "4     0.118637  0.003337  0.126731    0.121091 -0.395910  ...   \n",
       "...        ...       ...       ...         ...       ...  ...   \n",
       "5322  0.032633  0.036212  0.183413    0.051879  1.222678  ...   \n",
       "5323  0.024742  0.018413  0.078965    0.037869  0.391991  ...   \n",
       "5324  0.025769  0.020800  0.094043    0.040993  0.554724  ...   \n",
       "5325  0.045493  0.012051  0.078696    0.052893 -0.616833  ...   \n",
       "5326  0.051241  0.006276  0.068639    0.054039 -0.340928  ...   \n",
       "\n",
       "     F3amplitudeLogRelF0_sma3nz_de F3amplitudeLogRelF0_sma3nz_de_de           \\\n",
       "                       percentil25                              min kurtosis   \n",
       "0                              0.0                              0.0     -3.0   \n",
       "1                              0.0                              0.0     -3.0   \n",
       "2                              0.0                              0.0     -3.0   \n",
       "3                              0.0                              0.0     -3.0   \n",
       "4                              0.0                              0.0     -3.0   \n",
       "...                            ...                              ...      ...   \n",
       "5322                           0.0                              0.0     -3.0   \n",
       "5323                           0.0                              0.0     -3.0   \n",
       "5324                           0.0                              0.0     -3.0   \n",
       "5325                           0.0                              0.0     -3.0   \n",
       "5326                           0.0                              0.0     -3.0   \n",
       "\n",
       "                                                         \n",
       "     mean  std  max percentil75 skew median percentil25  \n",
       "0     0.0  0.0  0.0         0.0  0.0    0.0         0.0  \n",
       "1     0.0  0.0  0.0         0.0  0.0    0.0         0.0  \n",
       "2     0.0  0.0  0.0         0.0  0.0    0.0         0.0  \n",
       "3     0.0  0.0  0.0         0.0  0.0    0.0         0.0  \n",
       "4     0.0  0.0  0.0         0.0  0.0    0.0         0.0  \n",
       "...   ...  ...  ...         ...  ...    ...         ...  \n",
       "5322  0.0  0.0  0.0         0.0  0.0    0.0         0.0  \n",
       "5323  0.0  0.0  0.0         0.0  0.0    0.0         0.0  \n",
       "5324  0.0  0.0  0.0         0.0  0.0    0.0         0.0  \n",
       "5325  0.0  0.0  0.0         0.0  0.0    0.0         0.0  \n",
       "5326  0.0  0.0  0.0         0.0  0.0    0.0         0.0  \n",
       "\n",
       "[5327 rows x 624 columns]"
      ],
      "text/html": "<div>\n<style scoped>\n    .dataframe tbody tr th:only-of-type {\n        vertical-align: middle;\n    }\n\n    .dataframe tbody tr th {\n        vertical-align: top;\n    }\n\n    .dataframe thead tr th {\n        text-align: left;\n    }\n</style>\n<table border=\"1\" class=\"dataframe\">\n  <thead>\n    <tr>\n      <th></th>\n      <th>video_name</th>\n      <th>diapo</th>\n      <th>frameTimeWindow</th>\n      <th colspan=\"7\" halign=\"left\">Loudness_sma3</th>\n      <th>...</th>\n      <th>F3amplitudeLogRelF0_sma3nz_de</th>\n      <th colspan=\"9\" halign=\"left\">F3amplitudeLogRelF0_sma3nz_de_de</th>\n    </tr>\n    <tr>\n      <th></th>\n      <th></th>\n      <th></th>\n      <th></th>\n      <th>min</th>\n      <th>kurtosis</th>\n      <th>mean</th>\n      <th>std</th>\n      <th>max</th>\n      <th>percentil75</th>\n      <th>skew</th>\n      <th>...</th>\n      <th>percentil25</th>\n      <th>min</th>\n      <th>kurtosis</th>\n      <th>mean</th>\n      <th>std</th>\n      <th>max</th>\n      <th>percentil75</th>\n      <th>skew</th>\n      <th>median</th>\n      <th>percentil25</th>\n    </tr>\n  </thead>\n  <tbody>\n    <tr>\n      <th>0</th>\n      <td>Test_pour_AFPA</td>\n      <td>1</td>\n      <td>0</td>\n      <td>0.108240</td>\n      <td>0.022023</td>\n      <td>0.114774</td>\n      <td>0.002580</td>\n      <td>0.123974</td>\n      <td>0.116547</td>\n      <td>0.012275</td>\n      <td>...</td>\n      <td>0.0</td>\n      <td>0.0</td>\n      <td>-3.0</td>\n      <td>0.0</td>\n      <td>0.0</td>\n      <td>0.0</td>\n      <td>0.0</td>\n      <td>0.0</td>\n      <td>0.0</td>\n      <td>0.0</td>\n    </tr>\n    <tr>\n      <th>1</th>\n      <td>Test_pour_AFPA</td>\n      <td>1</td>\n      <td>5</td>\n      <td>0.109675</td>\n      <td>1.101698</td>\n      <td>0.115736</td>\n      <td>0.002815</td>\n      <td>0.127661</td>\n      <td>0.117393</td>\n      <td>0.713457</td>\n      <td>...</td>\n      <td>0.0</td>\n      <td>0.0</td>\n      <td>-3.0</td>\n      <td>0.0</td>\n      <td>0.0</td>\n      <td>0.0</td>\n      <td>0.0</td>\n      <td>0.0</td>\n      <td>0.0</td>\n      <td>0.0</td>\n    </tr>\n    <tr>\n      <th>2</th>\n      <td>Test_pour_AFPA</td>\n      <td>1</td>\n      <td>10</td>\n      <td>0.105259</td>\n      <td>1.637765</td>\n      <td>0.113579</td>\n      <td>0.003511</td>\n      <td>0.125830</td>\n      <td>0.115056</td>\n      <td>0.917789</td>\n      <td>...</td>\n      <td>0.0</td>\n      <td>0.0</td>\n      <td>-3.0</td>\n      <td>0.0</td>\n      <td>0.0</td>\n      <td>0.0</td>\n      <td>0.0</td>\n      <td>0.0</td>\n      <td>0.0</td>\n      <td>0.0</td>\n    </tr>\n    <tr>\n      <th>3</th>\n      <td>Test_pour_AFPA</td>\n      <td>1</td>\n      <td>15</td>\n      <td>0.110818</td>\n      <td>0.320136</td>\n      <td>0.118081</td>\n      <td>0.002994</td>\n      <td>0.128375</td>\n      <td>0.119927</td>\n      <td>0.307721</td>\n      <td>...</td>\n      <td>0.0</td>\n      <td>0.0</td>\n      <td>-3.0</td>\n      <td>0.0</td>\n      <td>0.0</td>\n      <td>0.0</td>\n      <td>0.0</td>\n      <td>0.0</td>\n      <td>0.0</td>\n      <td>0.0</td>\n    </tr>\n    <tr>\n      <th>4</th>\n      <td>Test_pour_AFPA</td>\n      <td>1</td>\n      <td>20</td>\n      <td>0.108863</td>\n      <td>-0.354434</td>\n      <td>0.118637</td>\n      <td>0.003337</td>\n      <td>0.126731</td>\n      <td>0.121091</td>\n      <td>-0.395910</td>\n      <td>...</td>\n      <td>0.0</td>\n      <td>0.0</td>\n      <td>-3.0</td>\n      <td>0.0</td>\n      <td>0.0</td>\n      <td>0.0</td>\n      <td>0.0</td>\n      <td>0.0</td>\n      <td>0.0</td>\n      <td>0.0</td>\n    </tr>\n    <tr>\n      <th>...</th>\n      <td>...</td>\n      <td>...</td>\n      <td>...</td>\n      <td>...</td>\n      <td>...</td>\n      <td>...</td>\n      <td>...</td>\n      <td>...</td>\n      <td>...</td>\n      <td>...</td>\n      <td>...</td>\n      <td>...</td>\n      <td>...</td>\n      <td>...</td>\n      <td>...</td>\n      <td>...</td>\n      <td>...</td>\n      <td>...</td>\n      <td>...</td>\n      <td>...</td>\n      <td>...</td>\n    </tr>\n    <tr>\n      <th>5322</th>\n      <td>WIN_20210417_14_53_12_Pro</td>\n      <td>18</td>\n      <td>600</td>\n      <td>0.001034</td>\n      <td>0.763651</td>\n      <td>0.032633</td>\n      <td>0.036212</td>\n      <td>0.183413</td>\n      <td>0.051879</td>\n      <td>1.222678</td>\n      <td>...</td>\n      <td>0.0</td>\n      <td>0.0</td>\n      <td>-3.0</td>\n      <td>0.0</td>\n      <td>0.0</td>\n      <td>0.0</td>\n      <td>0.0</td>\n      <td>0.0</td>\n      <td>0.0</td>\n      <td>0.0</td>\n    </tr>\n    <tr>\n      <th>5323</th>\n      <td>WIN_20210417_14_53_12_Pro</td>\n      <td>18</td>\n      <td>605</td>\n      <td>0.001034</td>\n      <td>-0.688585</td>\n      <td>0.024742</td>\n      <td>0.018413</td>\n      <td>0.078965</td>\n      <td>0.037869</td>\n      <td>0.391991</td>\n      <td>...</td>\n      <td>0.0</td>\n      <td>0.0</td>\n      <td>-3.0</td>\n      <td>0.0</td>\n      <td>0.0</td>\n      <td>0.0</td>\n      <td>0.0</td>\n      <td>0.0</td>\n      <td>0.0</td>\n      <td>0.0</td>\n    </tr>\n    <tr>\n      <th>5324</th>\n      <td>WIN_20210417_14_53_12_Pro</td>\n      <td>18</td>\n      <td>610</td>\n      <td>0.001034</td>\n      <td>-0.403783</td>\n      <td>0.025769</td>\n      <td>0.020800</td>\n      <td>0.094043</td>\n      <td>0.040993</td>\n      <td>0.554724</td>\n      <td>...</td>\n      <td>0.0</td>\n      <td>0.0</td>\n      <td>-3.0</td>\n      <td>0.0</td>\n      <td>0.0</td>\n      <td>0.0</td>\n      <td>0.0</td>\n      <td>0.0</td>\n      <td>0.0</td>\n      <td>0.0</td>\n    </tr>\n    <tr>\n      <th>5325</th>\n      <td>WIN_20210417_14_53_12_Pro</td>\n      <td>18</td>\n      <td>615</td>\n      <td>0.001102</td>\n      <td>0.655261</td>\n      <td>0.045493</td>\n      <td>0.012051</td>\n      <td>0.078696</td>\n      <td>0.052893</td>\n      <td>-0.616833</td>\n      <td>...</td>\n      <td>0.0</td>\n      <td>0.0</td>\n      <td>-3.0</td>\n      <td>0.0</td>\n      <td>0.0</td>\n      <td>0.0</td>\n      <td>0.0</td>\n      <td>0.0</td>\n      <td>0.0</td>\n      <td>0.0</td>\n    </tr>\n    <tr>\n      <th>5326</th>\n      <td>WIN_20210417_14_53_12_Pro</td>\n      <td>18</td>\n      <td>620</td>\n      <td>0.033513</td>\n      <td>1.970743</td>\n      <td>0.051241</td>\n      <td>0.006276</td>\n      <td>0.068639</td>\n      <td>0.054039</td>\n      <td>-0.340928</td>\n      <td>...</td>\n      <td>0.0</td>\n      <td>0.0</td>\n      <td>-3.0</td>\n      <td>0.0</td>\n      <td>0.0</td>\n      <td>0.0</td>\n      <td>0.0</td>\n      <td>0.0</td>\n      <td>0.0</td>\n      <td>0.0</td>\n    </tr>\n  </tbody>\n</table>\n<p>5327 rows × 624 columns</p>\n</div>"
     },
     "metadata": {},
     "execution_count": 8
    }
   ],
   "source": [
    "X"
   ]
  },
  {
   "cell_type": "code",
   "execution_count": 9,
   "metadata": {
    "tags": []
   },
   "outputs": [
    {
     "output_type": "stream",
     "name": "stdout",
     "text": [
      "Fitting 30 folds for each of 8 candidates, totalling 240 fits\n",
      "[Parallel(n_jobs=1)]: Using backend SequentialBackend with 1 concurrent workers.\n",
      "[Parallel(n_jobs=1)]: Done 240 out of 240 | elapsed:  3.2min finished\n",
      "Best results 0.49040439724042056\n",
      "Best params {'max_depth': 3, 'n_estimators': 100}\n"
     ]
    }
   ],
   "source": [
    "parameters = {'n_estimators': [100, 150, 200], 'max_depth':[5, 6, 7, 8, 9,10, 11, 12, 13, 14, 15, 20, 25]}\n",
    "parameters = {'n_estimators': [50, 100], 'max_depth':[3, 4, 5, 6]}\n",
    "from sklearn.model_selection import LeaveOneGroupOut\n",
    "from sklearn.ensemble import RandomForestClassifier, RandomForestRegressor\n",
    "from sklearn.model_selection import cross_val_predict, GridSearchCV\n",
    "from sklearn.metrics import accuracy_score, f1_score\n",
    "import warnings\n",
    "warnings.filterwarnings(\"ignore\")\n",
    "\n",
    "groups = X.reset_index()['video_name']\n",
    "loo = LeaveOneGroupOut()\n",
    "cv_loo = loo.split(X, y, groups)\n",
    "X_no_name = X#.set_index(['video_name','diapo','frameTimeWindow'])\n",
    "y_no_name = y#.set_index(['video_name','diapo','frameTimeWindow'])\n",
    "\n",
    "model = RandomForestClassifier(random_state = 42, n_jobs=-1)\n",
    "\n",
    "clf = GridSearchCV(estimator=model, \n",
    "                    param_grid=parameters, \n",
    "                    scoring={'accuracy_score' : 'accuracy', 'f1_score' : 'f1_weighted' }, \n",
    "                    refit='accuracy_score',\n",
    "                    cv=cv_loo, verbose=1)\n",
    "clf.fit(X_no_name, y_no_name)\n",
    "print('Best results', clf.best_score_)\n",
    "print('Best params', clf.best_params_)"
   ]
  },
  {
   "cell_type": "code",
   "execution_count": 15,
   "metadata": {},
   "outputs": [],
   "source": [
    "y_predict = clf.best_estimator_.predict(X_no_name)\n",
    "df_ypredict = pd.concat([X.reset_index()[['video_name','diapo','frameTimeWindow']],pd.DataFrame(y_predict, columns=['ypredict'])],axis=1)\n",
    "df_ypredict.to_csv('ypredict_' + features + '_tw5.csv')"
   ]
  },
  {
   "cell_type": "code",
   "execution_count": 17,
   "metadata": {},
   "outputs": [
    {
     "output_type": "execute_result",
     "data": {
      "text/plain": [
       "0.5357503135695181"
      ]
     },
     "metadata": {},
     "execution_count": 17
    }
   ],
   "source": [
    "f1_score(y,y_predict,average='weighted')"
   ]
  },
  {
   "source": [
    "### Audio diapos only"
   ],
   "cell_type": "markdown",
   "metadata": {}
  },
  {
   "cell_type": "code",
   "execution_count": 12,
   "metadata": {},
   "outputs": [
    {
     "output_type": "stream",
     "name": "stdout",
     "text": [
      "Fitting 30 folds for each of 28 candidates, totalling 840 fits\n",
      "[Parallel(n_jobs=1)]: Using backend SequentialBackend with 1 concurrent workers.\n",
      "[Parallel(n_jobs=1)]: Done 840 out of 840 | elapsed: 13.0min finished\n",
      "Best results 0.4560287013812964\n",
      "Best params {'max_depth': 25, 'n_estimators': 50}\n"
     ]
    }
   ],
   "source": [
    "parameters = {'n_estimators': [100, 150, 200], 'max_depth':[5, 6, 7, 8, 9,10, 11, 12, 13, 14, 15, 20, 25]}\n",
    "parameters = {'n_estimators': [50, 100, 150, 200], 'max_depth':[3, 4, 5, 10, 15, 20, 25]}\n",
    "from sklearn.model_selection import LeaveOneGroupOut\n",
    "from sklearn.ensemble import RandomForestClassifier, RandomForestRegressor\n",
    "from sklearn.model_selection import cross_val_predict, GridSearchCV\n",
    "from sklearn.metrics import accuracy_score, f1_score\n",
    "import warnings\n",
    "warnings.filterwarnings(\"ignore\")\n",
    "\n",
    "groups = X_audio.reset_index()['video_name']\n",
    "loo = LeaveOneGroupOut()\n",
    "cv_loo = loo.split(X_audio, y_audio, groups)\n",
    "X_no_name = X_audio\n",
    "y_no_name = y_audio\n",
    "\n",
    "model = RandomForestClassifier(random_state = 42, n_jobs=-1)\n",
    "\n",
    "clf = GridSearchCV(estimator=model, \n",
    "                    param_grid=parameters, \n",
    "                    scoring={'accuracy_score' : 'accuracy', 'f1_score' : 'f1_weighted' }, \n",
    "                    refit='accuracy_score',\n",
    "                    cv=cv_loo, verbose=1)\n",
    "clf.fit(X_no_name, y_no_name)\n",
    "print('Best results', clf.best_score_)\n",
    "print('Best params', clf.best_params_)"
   ]
  },
  {
   "cell_type": "code",
   "execution_count": 18,
   "metadata": {},
   "outputs": [
    {
     "output_type": "stream",
     "name": "stdout",
     "text": [
      "MultiIndex([(             'Loudness_sma3',         'min'),\n            (         'spectralFlux_sma3',         'min'),\n            (      'hammarbergIndex_sma3', 'percentil25'),\n            (                'mfcc3_sma3',      'median'),\n            (           'slope0-500_sma3',      'median'),\n            (                'mfcc3_sma3',        'mean'),\n            (           'slope0-500_sma3', 'percentil25'),\n            (           'slope0-500_sma3',         'min'),\n            (                'mfcc4_sma3',      'median'),\n            (           'slope0-500_sma3', 'percentil75'),\n            (           'slope0-500_sma3',        'mean'),\n            (                'mfcc3_sma3', 'percentil25'),\n            (           'slope0-500_sma3',         'max'),\n            (                'mfcc2_sma3',      'median'),\n            ('F1amplitudeLogRelF0_sma3nz', 'percentil75'),\n            (                'mfcc4_sma3', 'percentil75'),\n            (                'mfcc3_sma3',         'max'),\n            (      'hammarbergIndex_sma3',      'median'),\n            (             'mfcc2_sma3_de', 'percentil75')],\n           )\n"
     ]
    }
   ],
   "source": [
    "print(X_audio.columns[np.argsort(clf.best_estimator_.feature_importances_)[:-20:-1]])"
   ]
  },
  {
   "cell_type": "code",
   "execution_count": 19,
   "metadata": {},
   "outputs": [],
   "source": [
    "y_predict = clf.best_estimator_.predict(X_no_name)\n",
    "df_ypredict = pd.concat([X_audio.reset_index()[['video_name','diapo','frameTimeWindow']],pd.DataFrame(y_predict, columns=['ypredict'])],axis=1)\n",
    "df_ypredict.to_csv('ypredict_' + features + '_tw5_audio_diapos_only.csv')"
   ]
  },
  {
   "cell_type": "code",
   "execution_count": 21,
   "metadata": {},
   "outputs": [
    {
     "output_type": "execute_result",
     "data": {
      "text/plain": [
       "1.0"
      ]
     },
     "metadata": {},
     "execution_count": 21
    }
   ],
   "source": [
    "f1_score(y_audio,y_predict,average='weighted')"
   ]
  },
  {
   "cell_type": "code",
   "execution_count": null,
   "metadata": {},
   "outputs": [],
   "source": []
  }
 ]
}