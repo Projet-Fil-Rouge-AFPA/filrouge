{
 "cells": [
  {
   "cell_type": "code",
   "execution_count": 1,
   "metadata": {},
   "outputs": [],
   "source": [
    "import numpy as np \n",
    "import pandas as pd \n",
    "import matplotlib.pyplot as plt \n",
    "import pathlib\n",
    "from util import runGridSearchClassifiers"
   ]
  },
  {
   "cell_type": "markdown",
   "metadata": {},
   "source": [
    "## Loading data"
   ]
  },
  {
   "cell_type": "code",
   "execution_count": 2,
   "metadata": {},
   "outputs": [],
   "source": [
    "directory_path = '../../04_-_Dev/videos'\n",
    "features = 'emobase_eGeMAPS'"
   ]
  },
  {
   "cell_type": "code",
   "execution_count": 3,
   "metadata": {},
   "outputs": [],
   "source": [
    "df_total = pd.read_pickle(directory_path + '/audio_' + features + '_data.p')"
   ]
  },
  {
   "cell_type": "code",
   "execution_count": 4,
   "metadata": {},
   "outputs": [
    {
     "output_type": "execute_result",
     "data": {
      "text/plain": [
       "(2573581, 96)"
      ]
     },
     "metadata": {},
     "execution_count": 4
    }
   ],
   "source": [
    "df_total.shape"
   ]
  },
  {
   "cell_type": "code",
   "execution_count": 5,
   "metadata": {},
   "outputs": [
    {
     "output_type": "execute_result",
     "data": {
      "text/plain": [
       "30"
      ]
     },
     "metadata": {},
     "execution_count": 5
    }
   ],
   "source": [
    "df_total.video_name.nunique()"
   ]
  },
  {
   "cell_type": "code",
   "execution_count": 6,
   "metadata": {},
   "outputs": [
    {
     "output_type": "execute_result",
     "data": {
      "text/plain": [
       "Empty DataFrame\n",
       "Columns: [frameIndex, frameTime, pcm_intensity_sma, pcm_loudness_sma, mfcc_sma[1], mfcc_sma[2], mfcc_sma[3], mfcc_sma[4], mfcc_sma[5], mfcc_sma[6], mfcc_sma[7], mfcc_sma[8], mfcc_sma[9], mfcc_sma[10], mfcc_sma[11], mfcc_sma[12], lspFreq_sma[0], lspFreq_sma[1], lspFreq_sma[2], lspFreq_sma[3], lspFreq_sma[4], lspFreq_sma[5], lspFreq_sma[6], lspFreq_sma[7], pcm_zcr_sma, voiceProb_sma, F0_sma, F0env_sma, pcm_intensity_sma_de, pcm_loudness_sma_de, mfcc_sma_de[1], mfcc_sma_de[2], mfcc_sma_de[3], mfcc_sma_de[4], mfcc_sma_de[5], mfcc_sma_de[6], mfcc_sma_de[7], mfcc_sma_de[8], mfcc_sma_de[9], mfcc_sma_de[10], mfcc_sma_de[11], mfcc_sma_de[12], lspFreq_sma_de[0], lspFreq_sma_de[1], lspFreq_sma_de[2], lspFreq_sma_de[3], lspFreq_sma_de[4], lspFreq_sma_de[5], lspFreq_sma_de[6], lspFreq_sma_de[7], pcm_zcr_sma_de, voiceProb_sma_de, F0_sma_de, F0env_sma_de, alphaRatio_sma3, hammarbergIndex_sma3, slope0-500_sma3, slope500-1500_sma3, spectralFlux_sma3, F0semitoneFrom27.5Hz_sma3nz, jitterLocal_sma3nz, shimmerLocaldB_sma3nz, HNRdBACF_sma3nz, logRelF0-H1-H2_sma3nz, logRelF0-H1-A3_sma3nz, F1frequency_sma3nz, F1bandwidth_sma3nz, F1amplitudeLogRelF0_sma3nz, F2frequency_sma3nz, F2amplitudeLogRelF0_sma3nz, F3frequency_sma3nz, F3amplitudeLogRelF0_sma3nz, alphaRatio_sma3_de, hammarbergIndex_sma3_de, slope0-500_sma3_de, slope500-1500_sma3_de, spectralFlux_sma3_de, F0semitoneFrom27.5Hz_sma3nz_de, jitterLocal_sma3nz_de, shimmerLocaldB_sma3nz_de, HNRdBACF_sma3nz_de, logRelF0-H1-H2_sma3nz_de, logRelF0-H1-A3_sma3nz_de, F1frequency_sma3nz_de, F1bandwidth_sma3nz_de, F1amplitudeLogRelF0_sma3nz_de, F2frequency_sma3nz_de, F2amplitudeLogRelF0_sma3nz_de, F3frequency_sma3nz_de, F3amplitudeLogRelF0_sma3nz_de, video_name, stress_global, type_candidat, sexe, stress, diapo]\n",
       "Index: []\n",
       "\n",
       "[0 rows x 96 columns]"
      ],
      "text/html": "<div>\n<style scoped>\n    .dataframe tbody tr th:only-of-type {\n        vertical-align: middle;\n    }\n\n    .dataframe tbody tr th {\n        vertical-align: top;\n    }\n\n    .dataframe thead th {\n        text-align: right;\n    }\n</style>\n<table border=\"1\" class=\"dataframe\">\n  <thead>\n    <tr style=\"text-align: right;\">\n      <th></th>\n      <th>frameIndex</th>\n      <th>frameTime</th>\n      <th>pcm_intensity_sma</th>\n      <th>pcm_loudness_sma</th>\n      <th>mfcc_sma[1]</th>\n      <th>mfcc_sma[2]</th>\n      <th>mfcc_sma[3]</th>\n      <th>mfcc_sma[4]</th>\n      <th>mfcc_sma[5]</th>\n      <th>mfcc_sma[6]</th>\n      <th>...</th>\n      <th>F2frequency_sma3nz_de</th>\n      <th>F2amplitudeLogRelF0_sma3nz_de</th>\n      <th>F3frequency_sma3nz_de</th>\n      <th>F3amplitudeLogRelF0_sma3nz_de</th>\n      <th>video_name</th>\n      <th>stress_global</th>\n      <th>type_candidat</th>\n      <th>sexe</th>\n      <th>stress</th>\n      <th>diapo</th>\n    </tr>\n  </thead>\n  <tbody>\n  </tbody>\n</table>\n<p>0 rows × 96 columns</p>\n</div>"
     },
     "metadata": {},
     "execution_count": 6
    }
   ],
   "source": [
    "df_total[df_total.isna().any(axis=1)]"
   ]
  },
  {
   "cell_type": "markdown",
   "metadata": {},
   "source": [
    "## Data processing"
   ]
  },
  {
   "cell_type": "code",
   "execution_count": 7,
   "metadata": {},
   "outputs": [],
   "source": [
    "time_window = 5\n",
    "df_total['frameTimeWindow'] = df_total.frameTime.apply(lambda x : np.floor(x / time_window) * time_window).astype(int)"
   ]
  },
  {
   "cell_type": "code",
   "execution_count": 4,
   "metadata": {},
   "outputs": [],
   "source": [
    "from scipy.stats import kurtosis, skew\n",
    "\n",
    "def percentil25(x): \n",
    "    return np.percentile(x, q=25)\n",
    "\n",
    "def percentil75(x): \n",
    "    return np.percentile(x, q=75)"
   ]
  },
  {
   "cell_type": "code",
   "execution_count": 9,
   "metadata": {},
   "outputs": [],
   "source": [
    "# 5 seconds windows\n",
    "X = df_total.iloc[:,2:].groupby(['video_name','diapo','frameTimeWindow']).agg({'mean','min','max', 'median', 'std', percentil25, percentil75, kurtosis, skew}).iloc[:,:-18]"
   ]
  },
  {
   "cell_type": "code",
   "execution_count": 10,
   "metadata": {},
   "outputs": [],
   "source": [
    "y = df_total.iloc[:,3:].groupby(['video_name','diapo','frameTimeWindow']).agg({'stress':'min'}).iloc[:,-1]"
   ]
  },
  {
   "cell_type": "code",
   "execution_count": 11,
   "metadata": {},
   "outputs": [],
   "source": [
    "X.to_pickle(directory_path + '/audio_' + features + '_tw5_data_X.p')\n",
    "y.to_pickle(directory_path + '/audio_' + features + '_tw5_data_y.p')"
   ]
  },
  {
   "cell_type": "code",
   "execution_count": 12,
   "metadata": {},
   "outputs": [],
   "source": [
    "from scipy.stats import kurtosis, skew\n",
    "X_audio = df_total.loc[df_total['diapo'].isin([8, 9, 10, 11, 17]),:].iloc[:,2:].groupby(['video_name','diapo','frameTimeWindow']).agg({'mean','min','max', 'median', 'std', percentil25, percentil75, kurtosis, skew}).iloc[:,:-18]\n",
    "y_audio = df_total.loc[df_total['diapo'].isin([8, 9, 10, 11, 17]),:].iloc[:,2:].groupby(['video_name','diapo','frameTimeWindow']).agg({'stress':'mean'}).iloc[:,-1]"
   ]
  },
  {
   "cell_type": "code",
   "execution_count": 13,
   "metadata": {},
   "outputs": [],
   "source": [
    "X_audio.to_pickle(directory_path + '/audio_' + features + '_tw5_data_X_audio_questions_only.p')\n",
    "y_audio.to_pickle(directory_path + '/audio_' + features + '_tw5_data_y_audio_questions_only.p')"
   ]
  },
  {
   "cell_type": "markdown",
   "metadata": {},
   "source": [
    "## Modèles"
   ]
  },
  {
   "cell_type": "code",
   "execution_count": 5,
   "metadata": {},
   "outputs": [],
   "source": [
    "X = pd.read_pickle(directory_path + '/audio_' + features + '_tw5_data_X.p')\n",
    "y = pd.read_pickle(directory_path + '/audio_' + features + '_tw5_data_y.p')\n",
    "\n",
    "X_audio = pd.read_pickle(directory_path + '/audio_' + features + '_tw5_data_X_audio_questions_only.p')\n",
    "y_audio = pd.read_pickle(directory_path + '/audio_' + features + '_tw5_data_y_audio_questions_only.p')"
   ]
  },
  {
   "cell_type": "code",
   "execution_count": 6,
   "metadata": {},
   "outputs": [],
   "source": [
    "X = X.fillna(0)\n",
    "X_audio = X_audio.fillna(0)"
   ]
  },
  {
   "cell_type": "markdown",
   "metadata": {},
   "source": [
    "## Stress par diapos\n",
    "### All diapos"
   ]
  },
  {
   "source": [
    "On prédit le stress par time window de 5s avec un Random Forest"
   ],
   "cell_type": "markdown",
   "metadata": {}
  },
  {
   "cell_type": "code",
   "execution_count": 7,
   "metadata": {},
   "outputs": [],
   "source": [
    "diapo_selection = '_all'"
   ]
  },
  {
   "cell_type": "code",
   "execution_count": 28,
   "metadata": {},
   "outputs": [],
   "source": [
    "from sklearn.ensemble import RandomForestClassifier\n",
    "from sklearn.model_selection import LeaveOneGroupOut\n",
    "\n",
    "models_list = [RandomForestClassifier(random_state = 42, n_jobs=-1)]\n",
    "parameters_list = [\n",
    "                {'n_estimators': [100, 150, 200, 250, 300], 'max_depth':[10, 15, 20, 25,30], 'class_weight':[None,'balanced']}\n",
    "                ]\n",
    "groups = X.reset_index()['video_name']\n",
    "loo = LeaveOneGroupOut()\n",
    "cv_loo = loo.split(X, y, groups)"
   ]
  },
  {
   "cell_type": "code",
   "execution_count": 29,
   "metadata": {},
   "outputs": [
    {
     "output_type": "stream",
     "name": "stdout",
     "text": [
      "Fitting 30 folds for each of 50 candidates, totalling 1500 fits\n",
      "[Parallel(n_jobs=-1)]: Using backend LokyBackend with 8 concurrent workers.\n",
      "[Parallel(n_jobs=-1)]: Done  34 tasks      | elapsed:    4.5s\n",
      "[Parallel(n_jobs=-1)]: Done 184 tasks      | elapsed:   18.4s\n",
      "[Parallel(n_jobs=-1)]: Done 434 tasks      | elapsed:   42.9s\n",
      "[Parallel(n_jobs=-1)]: Done 784 tasks      | elapsed:  1.3min\n"
     ]
    },
    {
     "output_type": "error",
     "ename": "KeyboardInterrupt",
     "evalue": "",
     "traceback": [
      "\u001b[0;31m---------------------------------------------------------------------------\u001b[0m",
      "\u001b[0;31mKeyboardInterrupt\u001b[0m                         Traceback (most recent call last)",
      "\u001b[0;32m<ipython-input-29-664b5243061b>\u001b[0m in \u001b[0;36m<module>\u001b[0;34m\u001b[0m\n\u001b[0;32m----> 1\u001b[0;31m best_result, y_predict, result_list = runGridSearchClassifiers(X, y, cv_loo, models_list, parameters_list, \n\u001b[0m\u001b[1;32m      2\u001b[0m                                                                 output_predict=True, n_jobs=-1, verbose=True)\n",
      "\u001b[0;32m~/Documents/Telecom Paris/INF780 - Projet fil rouge/05 - Git/filrouge/util.py\u001b[0m in \u001b[0;36mrunGridSearchClassifiers\u001b[0;34m(X, y, cv, models_list, parameters_list, output_predict, n_jobs, verbose)\u001b[0m\n\u001b[1;32m     63\u001b[0m                             \u001b[0mrefit\u001b[0m\u001b[0;34m=\u001b[0m\u001b[0;34m'f1_score'\u001b[0m\u001b[0;34m,\u001b[0m\u001b[0;34m\u001b[0m\u001b[0;34m\u001b[0m\u001b[0m\n\u001b[1;32m     64\u001b[0m                             cv=cv, n_jobs=n_jobs, verbose=verbose)\n\u001b[0;32m---> 65\u001b[0;31m         \u001b[0mclf\u001b[0m\u001b[0;34m.\u001b[0m\u001b[0mfit\u001b[0m\u001b[0;34m(\u001b[0m\u001b[0mX_no_name\u001b[0m\u001b[0;34m,\u001b[0m \u001b[0my_no_name\u001b[0m\u001b[0;34m)\u001b[0m\u001b[0;34m\u001b[0m\u001b[0;34m\u001b[0m\u001b[0m\n\u001b[0m\u001b[1;32m     66\u001b[0m         \u001b[0mresult\u001b[0m\u001b[0;34m[\u001b[0m\u001b[0;34m'best_estimator'\u001b[0m\u001b[0;34m]\u001b[0m \u001b[0;34m=\u001b[0m \u001b[0mclf\u001b[0m\u001b[0;34m.\u001b[0m\u001b[0mbest_estimator_\u001b[0m\u001b[0;34m\u001b[0m\u001b[0;34m\u001b[0m\u001b[0m\n\u001b[1;32m     67\u001b[0m         \u001b[0mresult\u001b[0m\u001b[0;34m[\u001b[0m\u001b[0;34m'best_score'\u001b[0m\u001b[0;34m]\u001b[0m \u001b[0;34m=\u001b[0m \u001b[0mclf\u001b[0m\u001b[0;34m.\u001b[0m\u001b[0mbest_score_\u001b[0m\u001b[0;34m\u001b[0m\u001b[0;34m\u001b[0m\u001b[0m\n",
      "\u001b[0;32m~/anaconda3/lib/python3.8/site-packages/sklearn/utils/validation.py\u001b[0m in \u001b[0;36minner_f\u001b[0;34m(*args, **kwargs)\u001b[0m\n\u001b[1;32m     70\u001b[0m                           FutureWarning)\n\u001b[1;32m     71\u001b[0m         \u001b[0mkwargs\u001b[0m\u001b[0;34m.\u001b[0m\u001b[0mupdate\u001b[0m\u001b[0;34m(\u001b[0m\u001b[0;34m{\u001b[0m\u001b[0mk\u001b[0m\u001b[0;34m:\u001b[0m \u001b[0marg\u001b[0m \u001b[0;32mfor\u001b[0m \u001b[0mk\u001b[0m\u001b[0;34m,\u001b[0m \u001b[0marg\u001b[0m \u001b[0;32min\u001b[0m \u001b[0mzip\u001b[0m\u001b[0;34m(\u001b[0m\u001b[0msig\u001b[0m\u001b[0;34m.\u001b[0m\u001b[0mparameters\u001b[0m\u001b[0;34m,\u001b[0m \u001b[0margs\u001b[0m\u001b[0;34m)\u001b[0m\u001b[0;34m}\u001b[0m\u001b[0;34m)\u001b[0m\u001b[0;34m\u001b[0m\u001b[0;34m\u001b[0m\u001b[0m\n\u001b[0;32m---> 72\u001b[0;31m         \u001b[0;32mreturn\u001b[0m \u001b[0mf\u001b[0m\u001b[0;34m(\u001b[0m\u001b[0;34m**\u001b[0m\u001b[0mkwargs\u001b[0m\u001b[0;34m)\u001b[0m\u001b[0;34m\u001b[0m\u001b[0;34m\u001b[0m\u001b[0m\n\u001b[0m\u001b[1;32m     73\u001b[0m     \u001b[0;32mreturn\u001b[0m \u001b[0minner_f\u001b[0m\u001b[0;34m\u001b[0m\u001b[0;34m\u001b[0m\u001b[0m\n\u001b[1;32m     74\u001b[0m \u001b[0;34m\u001b[0m\u001b[0m\n",
      "\u001b[0;32m~/anaconda3/lib/python3.8/site-packages/sklearn/model_selection/_search.py\u001b[0m in \u001b[0;36mfit\u001b[0;34m(self, X, y, groups, **fit_params)\u001b[0m\n\u001b[1;32m    734\u001b[0m                 \u001b[0;32mreturn\u001b[0m \u001b[0mresults\u001b[0m\u001b[0;34m\u001b[0m\u001b[0;34m\u001b[0m\u001b[0m\n\u001b[1;32m    735\u001b[0m \u001b[0;34m\u001b[0m\u001b[0m\n\u001b[0;32m--> 736\u001b[0;31m             \u001b[0mself\u001b[0m\u001b[0;34m.\u001b[0m\u001b[0m_run_search\u001b[0m\u001b[0;34m(\u001b[0m\u001b[0mevaluate_candidates\u001b[0m\u001b[0;34m)\u001b[0m\u001b[0;34m\u001b[0m\u001b[0;34m\u001b[0m\u001b[0m\n\u001b[0m\u001b[1;32m    737\u001b[0m \u001b[0;34m\u001b[0m\u001b[0m\n\u001b[1;32m    738\u001b[0m         \u001b[0;31m# For multi-metric evaluation, store the best_index_, best_params_ and\u001b[0m\u001b[0;34m\u001b[0m\u001b[0;34m\u001b[0m\u001b[0;34m\u001b[0m\u001b[0m\n",
      "\u001b[0;32m~/anaconda3/lib/python3.8/site-packages/sklearn/model_selection/_search.py\u001b[0m in \u001b[0;36m_run_search\u001b[0;34m(self, evaluate_candidates)\u001b[0m\n\u001b[1;32m   1186\u001b[0m     \u001b[0;32mdef\u001b[0m \u001b[0m_run_search\u001b[0m\u001b[0;34m(\u001b[0m\u001b[0mself\u001b[0m\u001b[0;34m,\u001b[0m \u001b[0mevaluate_candidates\u001b[0m\u001b[0;34m)\u001b[0m\u001b[0;34m:\u001b[0m\u001b[0;34m\u001b[0m\u001b[0;34m\u001b[0m\u001b[0m\n\u001b[1;32m   1187\u001b[0m         \u001b[0;34m\"\"\"Search all candidates in param_grid\"\"\"\u001b[0m\u001b[0;34m\u001b[0m\u001b[0;34m\u001b[0m\u001b[0m\n\u001b[0;32m-> 1188\u001b[0;31m         \u001b[0mevaluate_candidates\u001b[0m\u001b[0;34m(\u001b[0m\u001b[0mParameterGrid\u001b[0m\u001b[0;34m(\u001b[0m\u001b[0mself\u001b[0m\u001b[0;34m.\u001b[0m\u001b[0mparam_grid\u001b[0m\u001b[0;34m)\u001b[0m\u001b[0;34m)\u001b[0m\u001b[0;34m\u001b[0m\u001b[0;34m\u001b[0m\u001b[0m\n\u001b[0m\u001b[1;32m   1189\u001b[0m \u001b[0;34m\u001b[0m\u001b[0m\n\u001b[1;32m   1190\u001b[0m \u001b[0;34m\u001b[0m\u001b[0m\n",
      "\u001b[0;32m~/anaconda3/lib/python3.8/site-packages/sklearn/model_selection/_search.py\u001b[0m in \u001b[0;36mevaluate_candidates\u001b[0;34m(candidate_params)\u001b[0m\n\u001b[1;32m    706\u001b[0m                               n_splits, n_candidates, n_candidates * n_splits))\n\u001b[1;32m    707\u001b[0m \u001b[0;34m\u001b[0m\u001b[0m\n\u001b[0;32m--> 708\u001b[0;31m                 out = parallel(delayed(_fit_and_score)(clone(base_estimator),\n\u001b[0m\u001b[1;32m    709\u001b[0m                                                        \u001b[0mX\u001b[0m\u001b[0;34m,\u001b[0m \u001b[0my\u001b[0m\u001b[0;34m,\u001b[0m\u001b[0;34m\u001b[0m\u001b[0;34m\u001b[0m\u001b[0m\n\u001b[1;32m    710\u001b[0m                                                        \u001b[0mtrain\u001b[0m\u001b[0;34m=\u001b[0m\u001b[0mtrain\u001b[0m\u001b[0;34m,\u001b[0m \u001b[0mtest\u001b[0m\u001b[0;34m=\u001b[0m\u001b[0mtest\u001b[0m\u001b[0;34m,\u001b[0m\u001b[0;34m\u001b[0m\u001b[0;34m\u001b[0m\u001b[0m\n",
      "\u001b[0;32m~/anaconda3/lib/python3.8/site-packages/joblib/parallel.py\u001b[0m in \u001b[0;36m__call__\u001b[0;34m(self, iterable)\u001b[0m\n\u001b[1;32m   1059\u001b[0m \u001b[0;34m\u001b[0m\u001b[0m\n\u001b[1;32m   1060\u001b[0m             \u001b[0;32mwith\u001b[0m \u001b[0mself\u001b[0m\u001b[0;34m.\u001b[0m\u001b[0m_backend\u001b[0m\u001b[0;34m.\u001b[0m\u001b[0mretrieval_context\u001b[0m\u001b[0;34m(\u001b[0m\u001b[0;34m)\u001b[0m\u001b[0;34m:\u001b[0m\u001b[0;34m\u001b[0m\u001b[0;34m\u001b[0m\u001b[0m\n\u001b[0;32m-> 1061\u001b[0;31m                 \u001b[0mself\u001b[0m\u001b[0;34m.\u001b[0m\u001b[0mretrieve\u001b[0m\u001b[0;34m(\u001b[0m\u001b[0;34m)\u001b[0m\u001b[0;34m\u001b[0m\u001b[0;34m\u001b[0m\u001b[0m\n\u001b[0m\u001b[1;32m   1062\u001b[0m             \u001b[0;31m# Make sure that we get a last message telling us we are done\u001b[0m\u001b[0;34m\u001b[0m\u001b[0;34m\u001b[0m\u001b[0;34m\u001b[0m\u001b[0m\n\u001b[1;32m   1063\u001b[0m             \u001b[0melapsed_time\u001b[0m \u001b[0;34m=\u001b[0m \u001b[0mtime\u001b[0m\u001b[0;34m.\u001b[0m\u001b[0mtime\u001b[0m\u001b[0;34m(\u001b[0m\u001b[0;34m)\u001b[0m \u001b[0;34m-\u001b[0m \u001b[0mself\u001b[0m\u001b[0;34m.\u001b[0m\u001b[0m_start_time\u001b[0m\u001b[0;34m\u001b[0m\u001b[0;34m\u001b[0m\u001b[0m\n",
      "\u001b[0;32m~/anaconda3/lib/python3.8/site-packages/joblib/parallel.py\u001b[0m in \u001b[0;36mretrieve\u001b[0;34m(self)\u001b[0m\n\u001b[1;32m    938\u001b[0m             \u001b[0;32mtry\u001b[0m\u001b[0;34m:\u001b[0m\u001b[0;34m\u001b[0m\u001b[0;34m\u001b[0m\u001b[0m\n\u001b[1;32m    939\u001b[0m                 \u001b[0;32mif\u001b[0m \u001b[0mgetattr\u001b[0m\u001b[0;34m(\u001b[0m\u001b[0mself\u001b[0m\u001b[0;34m.\u001b[0m\u001b[0m_backend\u001b[0m\u001b[0;34m,\u001b[0m \u001b[0;34m'supports_timeout'\u001b[0m\u001b[0;34m,\u001b[0m \u001b[0;32mFalse\u001b[0m\u001b[0;34m)\u001b[0m\u001b[0;34m:\u001b[0m\u001b[0;34m\u001b[0m\u001b[0;34m\u001b[0m\u001b[0m\n\u001b[0;32m--> 940\u001b[0;31m                     \u001b[0mself\u001b[0m\u001b[0;34m.\u001b[0m\u001b[0m_output\u001b[0m\u001b[0;34m.\u001b[0m\u001b[0mextend\u001b[0m\u001b[0;34m(\u001b[0m\u001b[0mjob\u001b[0m\u001b[0;34m.\u001b[0m\u001b[0mget\u001b[0m\u001b[0;34m(\u001b[0m\u001b[0mtimeout\u001b[0m\u001b[0;34m=\u001b[0m\u001b[0mself\u001b[0m\u001b[0;34m.\u001b[0m\u001b[0mtimeout\u001b[0m\u001b[0;34m)\u001b[0m\u001b[0;34m)\u001b[0m\u001b[0;34m\u001b[0m\u001b[0;34m\u001b[0m\u001b[0m\n\u001b[0m\u001b[1;32m    941\u001b[0m                 \u001b[0;32melse\u001b[0m\u001b[0;34m:\u001b[0m\u001b[0;34m\u001b[0m\u001b[0;34m\u001b[0m\u001b[0m\n\u001b[1;32m    942\u001b[0m                     \u001b[0mself\u001b[0m\u001b[0;34m.\u001b[0m\u001b[0m_output\u001b[0m\u001b[0;34m.\u001b[0m\u001b[0mextend\u001b[0m\u001b[0;34m(\u001b[0m\u001b[0mjob\u001b[0m\u001b[0;34m.\u001b[0m\u001b[0mget\u001b[0m\u001b[0;34m(\u001b[0m\u001b[0;34m)\u001b[0m\u001b[0;34m)\u001b[0m\u001b[0;34m\u001b[0m\u001b[0;34m\u001b[0m\u001b[0m\n",
      "\u001b[0;32m~/anaconda3/lib/python3.8/site-packages/joblib/_parallel_backends.py\u001b[0m in \u001b[0;36mwrap_future_result\u001b[0;34m(future, timeout)\u001b[0m\n\u001b[1;32m    540\u001b[0m         AsyncResults.get from multiprocessing.\"\"\"\n\u001b[1;32m    541\u001b[0m         \u001b[0;32mtry\u001b[0m\u001b[0;34m:\u001b[0m\u001b[0;34m\u001b[0m\u001b[0;34m\u001b[0m\u001b[0m\n\u001b[0;32m--> 542\u001b[0;31m             \u001b[0;32mreturn\u001b[0m \u001b[0mfuture\u001b[0m\u001b[0;34m.\u001b[0m\u001b[0mresult\u001b[0m\u001b[0;34m(\u001b[0m\u001b[0mtimeout\u001b[0m\u001b[0;34m=\u001b[0m\u001b[0mtimeout\u001b[0m\u001b[0;34m)\u001b[0m\u001b[0;34m\u001b[0m\u001b[0;34m\u001b[0m\u001b[0m\n\u001b[0m\u001b[1;32m    543\u001b[0m         \u001b[0;32mexcept\u001b[0m \u001b[0mCfTimeoutError\u001b[0m \u001b[0;32mas\u001b[0m \u001b[0me\u001b[0m\u001b[0;34m:\u001b[0m\u001b[0;34m\u001b[0m\u001b[0;34m\u001b[0m\u001b[0m\n\u001b[1;32m    544\u001b[0m             \u001b[0;32mraise\u001b[0m \u001b[0mTimeoutError\u001b[0m \u001b[0;32mfrom\u001b[0m \u001b[0me\u001b[0m\u001b[0;34m\u001b[0m\u001b[0;34m\u001b[0m\u001b[0m\n",
      "\u001b[0;32m~/anaconda3/lib/python3.8/concurrent/futures/_base.py\u001b[0m in \u001b[0;36mresult\u001b[0;34m(self, timeout)\u001b[0m\n\u001b[1;32m    432\u001b[0m                 \u001b[0;32mreturn\u001b[0m \u001b[0mself\u001b[0m\u001b[0;34m.\u001b[0m\u001b[0m__get_result\u001b[0m\u001b[0;34m(\u001b[0m\u001b[0;34m)\u001b[0m\u001b[0;34m\u001b[0m\u001b[0;34m\u001b[0m\u001b[0m\n\u001b[1;32m    433\u001b[0m \u001b[0;34m\u001b[0m\u001b[0m\n\u001b[0;32m--> 434\u001b[0;31m             \u001b[0mself\u001b[0m\u001b[0;34m.\u001b[0m\u001b[0m_condition\u001b[0m\u001b[0;34m.\u001b[0m\u001b[0mwait\u001b[0m\u001b[0;34m(\u001b[0m\u001b[0mtimeout\u001b[0m\u001b[0;34m)\u001b[0m\u001b[0;34m\u001b[0m\u001b[0;34m\u001b[0m\u001b[0m\n\u001b[0m\u001b[1;32m    435\u001b[0m \u001b[0;34m\u001b[0m\u001b[0m\n\u001b[1;32m    436\u001b[0m             \u001b[0;32mif\u001b[0m \u001b[0mself\u001b[0m\u001b[0;34m.\u001b[0m\u001b[0m_state\u001b[0m \u001b[0;32min\u001b[0m \u001b[0;34m[\u001b[0m\u001b[0mCANCELLED\u001b[0m\u001b[0;34m,\u001b[0m \u001b[0mCANCELLED_AND_NOTIFIED\u001b[0m\u001b[0;34m]\u001b[0m\u001b[0;34m:\u001b[0m\u001b[0;34m\u001b[0m\u001b[0;34m\u001b[0m\u001b[0m\n",
      "\u001b[0;32m~/anaconda3/lib/python3.8/threading.py\u001b[0m in \u001b[0;36mwait\u001b[0;34m(self, timeout)\u001b[0m\n\u001b[1;32m    300\u001b[0m         \u001b[0;32mtry\u001b[0m\u001b[0;34m:\u001b[0m    \u001b[0;31m# restore state no matter what (e.g., KeyboardInterrupt)\u001b[0m\u001b[0;34m\u001b[0m\u001b[0;34m\u001b[0m\u001b[0m\n\u001b[1;32m    301\u001b[0m             \u001b[0;32mif\u001b[0m \u001b[0mtimeout\u001b[0m \u001b[0;32mis\u001b[0m \u001b[0;32mNone\u001b[0m\u001b[0;34m:\u001b[0m\u001b[0;34m\u001b[0m\u001b[0;34m\u001b[0m\u001b[0m\n\u001b[0;32m--> 302\u001b[0;31m                 \u001b[0mwaiter\u001b[0m\u001b[0;34m.\u001b[0m\u001b[0macquire\u001b[0m\u001b[0;34m(\u001b[0m\u001b[0;34m)\u001b[0m\u001b[0;34m\u001b[0m\u001b[0;34m\u001b[0m\u001b[0m\n\u001b[0m\u001b[1;32m    303\u001b[0m                 \u001b[0mgotit\u001b[0m \u001b[0;34m=\u001b[0m \u001b[0;32mTrue\u001b[0m\u001b[0;34m\u001b[0m\u001b[0;34m\u001b[0m\u001b[0m\n\u001b[1;32m    304\u001b[0m             \u001b[0;32melse\u001b[0m\u001b[0;34m:\u001b[0m\u001b[0;34m\u001b[0m\u001b[0;34m\u001b[0m\u001b[0m\n",
      "\u001b[0;31mKeyboardInterrupt\u001b[0m: "
     ]
    }
   ],
   "source": [
    "best_result, y_predict, result_list = runGridSearchClassifiers(X, y, cv_loo, models_list, parameters_list, \n",
    "                                                                output_predict=True, n_jobs=-1, verbose=True)"
   ]
  },
  {
   "cell_type": "code",
   "execution_count": null,
   "metadata": {},
   "outputs": [],
   "source": []
  },
  {
   "cell_type": "code",
   "execution_count": 19,
   "metadata": {},
   "outputs": [],
   "source": [
    "# Saving predictions\n",
    "df_ypredict = pd.concat([X.reset_index()[['video_name','diapo','frameTimeWindow']],\n",
    "                        pd.DataFrame(y_predict, columns=['ypredict'])],axis=1)\n",
    "df_ypredict.to_csv('ypredict_' + features + '_tw5' + diapo_selection + '.csv')"
   ]
  },
  {
   "cell_type": "code",
   "execution_count": 20,
   "metadata": {},
   "outputs": [
    {
     "output_type": "execute_result",
     "data": {
      "text/plain": [
       "array([[ 660, 1243,  161,    0],\n",
       "       [ 802, 1692,   96,    0],\n",
       "       [ 324,  316,   13,    0],\n",
       "       [   4,   16,    0,    0]])"
      ]
     },
     "metadata": {},
     "execution_count": 20
    }
   ],
   "source": [
    "from sklearn.metrics import confusion_matrix\n",
    "confusion_matrix(y, y_predict)"
   ]
  },
  {
   "cell_type": "code",
   "execution_count": 8,
   "metadata": {},
   "outputs": [
    {
     "output_type": "execute_result",
     "data": {
      "text/plain": [
       "                     video_name  diapo  frameTimeWindow  ypredict\n",
       "0                Test_pour_AFPA      1                0         2\n",
       "1                Test_pour_AFPA      1                5         2\n",
       "2                Test_pour_AFPA      1               10         0\n",
       "3                Test_pour_AFPA      1               15         2\n",
       "4                Test_pour_AFPA      1               20         2\n",
       "...                         ...    ...              ...       ...\n",
       "5322  WIN_20210417_14_53_12_Pro     18              600         1\n",
       "5323  WIN_20210417_14_53_12_Pro     18              605         1\n",
       "5324  WIN_20210417_14_53_12_Pro     18              610         1\n",
       "5325  WIN_20210417_14_53_12_Pro     18              615         0\n",
       "5326  WIN_20210417_14_53_12_Pro     18              620         0\n",
       "\n",
       "[5327 rows x 4 columns]"
      ],
      "text/html": "<div>\n<style scoped>\n    .dataframe tbody tr th:only-of-type {\n        vertical-align: middle;\n    }\n\n    .dataframe tbody tr th {\n        vertical-align: top;\n    }\n\n    .dataframe thead th {\n        text-align: right;\n    }\n</style>\n<table border=\"1\" class=\"dataframe\">\n  <thead>\n    <tr style=\"text-align: right;\">\n      <th></th>\n      <th>video_name</th>\n      <th>diapo</th>\n      <th>frameTimeWindow</th>\n      <th>ypredict</th>\n    </tr>\n  </thead>\n  <tbody>\n    <tr>\n      <th>0</th>\n      <td>Test_pour_AFPA</td>\n      <td>1</td>\n      <td>0</td>\n      <td>2</td>\n    </tr>\n    <tr>\n      <th>1</th>\n      <td>Test_pour_AFPA</td>\n      <td>1</td>\n      <td>5</td>\n      <td>2</td>\n    </tr>\n    <tr>\n      <th>2</th>\n      <td>Test_pour_AFPA</td>\n      <td>1</td>\n      <td>10</td>\n      <td>0</td>\n    </tr>\n    <tr>\n      <th>3</th>\n      <td>Test_pour_AFPA</td>\n      <td>1</td>\n      <td>15</td>\n      <td>2</td>\n    </tr>\n    <tr>\n      <th>4</th>\n      <td>Test_pour_AFPA</td>\n      <td>1</td>\n      <td>20</td>\n      <td>2</td>\n    </tr>\n    <tr>\n      <th>...</th>\n      <td>...</td>\n      <td>...</td>\n      <td>...</td>\n      <td>...</td>\n    </tr>\n    <tr>\n      <th>5322</th>\n      <td>WIN_20210417_14_53_12_Pro</td>\n      <td>18</td>\n      <td>600</td>\n      <td>1</td>\n    </tr>\n    <tr>\n      <th>5323</th>\n      <td>WIN_20210417_14_53_12_Pro</td>\n      <td>18</td>\n      <td>605</td>\n      <td>1</td>\n    </tr>\n    <tr>\n      <th>5324</th>\n      <td>WIN_20210417_14_53_12_Pro</td>\n      <td>18</td>\n      <td>610</td>\n      <td>1</td>\n    </tr>\n    <tr>\n      <th>5325</th>\n      <td>WIN_20210417_14_53_12_Pro</td>\n      <td>18</td>\n      <td>615</td>\n      <td>0</td>\n    </tr>\n    <tr>\n      <th>5326</th>\n      <td>WIN_20210417_14_53_12_Pro</td>\n      <td>18</td>\n      <td>620</td>\n      <td>0</td>\n    </tr>\n  </tbody>\n</table>\n<p>5327 rows × 4 columns</p>\n</div>"
     },
     "metadata": {},
     "execution_count": 8
    }
   ],
   "source": [
    "df_ypredict = pd.read_csv('ypredict_' + features + '_tw5' + diapo_selection + '.csv')\n",
    "df_ypredict = df_ypredict.iloc[:,1:]\n",
    "df_ypredict.columns = ['video_name','diapo','frameTimeWindow','ypredict']\n",
    "df_ypredict['ypredict'] = df_ypredict['ypredict'].astype(int)\n",
    "df_ypredict\n"
   ]
  },
  {
   "cell_type": "code",
   "execution_count": null,
   "metadata": {},
   "outputs": [],
   "source": []
  },
  {
   "cell_type": "markdown",
   "metadata": {},
   "source": [
    "#### En utilisant la proportion des prédictions 0, 1 et 2"
   ]
  },
  {
   "cell_type": "code",
   "execution_count": 9,
   "metadata": {},
   "outputs": [
    {
     "output_type": "execute_result",
     "data": {
      "text/plain": [
       "ypredict                                0         1         2\n",
       "video_name                diapo                              \n",
       "Test_pour_AFPA            1      0.147059  0.000000  0.852941\n",
       "                          8      0.100000  0.700000  0.200000\n",
       "                          9      0.000000  0.600000  0.400000\n",
       "                          10     0.133333  0.666667  0.200000\n",
       "                          11     0.000000  0.700000  0.300000\n",
       "...                                   ...       ...       ...\n",
       "WIN_20210417_14_53_12_Pro 10     0.428571  0.571429  0.000000\n",
       "                          11     0.600000  0.400000  0.000000\n",
       "                          12     0.181818  0.818182  0.000000\n",
       "                          17     0.571429  0.428571  0.000000\n",
       "                          18     0.391304  0.608696  0.000000\n",
       "\n",
       "[240 rows x 3 columns]"
      ],
      "text/html": "<div>\n<style scoped>\n    .dataframe tbody tr th:only-of-type {\n        vertical-align: middle;\n    }\n\n    .dataframe tbody tr th {\n        vertical-align: top;\n    }\n\n    .dataframe thead th {\n        text-align: right;\n    }\n</style>\n<table border=\"1\" class=\"dataframe\">\n  <thead>\n    <tr style=\"text-align: right;\">\n      <th></th>\n      <th>ypredict</th>\n      <th>0</th>\n      <th>1</th>\n      <th>2</th>\n    </tr>\n    <tr>\n      <th>video_name</th>\n      <th>diapo</th>\n      <th></th>\n      <th></th>\n      <th></th>\n    </tr>\n  </thead>\n  <tbody>\n    <tr>\n      <th rowspan=\"5\" valign=\"top\">Test_pour_AFPA</th>\n      <th>1</th>\n      <td>0.147059</td>\n      <td>0.000000</td>\n      <td>0.852941</td>\n    </tr>\n    <tr>\n      <th>8</th>\n      <td>0.100000</td>\n      <td>0.700000</td>\n      <td>0.200000</td>\n    </tr>\n    <tr>\n      <th>9</th>\n      <td>0.000000</td>\n      <td>0.600000</td>\n      <td>0.400000</td>\n    </tr>\n    <tr>\n      <th>10</th>\n      <td>0.133333</td>\n      <td>0.666667</td>\n      <td>0.200000</td>\n    </tr>\n    <tr>\n      <th>11</th>\n      <td>0.000000</td>\n      <td>0.700000</td>\n      <td>0.300000</td>\n    </tr>\n    <tr>\n      <th>...</th>\n      <th>...</th>\n      <td>...</td>\n      <td>...</td>\n      <td>...</td>\n    </tr>\n    <tr>\n      <th rowspan=\"5\" valign=\"top\">WIN_20210417_14_53_12_Pro</th>\n      <th>10</th>\n      <td>0.428571</td>\n      <td>0.571429</td>\n      <td>0.000000</td>\n    </tr>\n    <tr>\n      <th>11</th>\n      <td>0.600000</td>\n      <td>0.400000</td>\n      <td>0.000000</td>\n    </tr>\n    <tr>\n      <th>12</th>\n      <td>0.181818</td>\n      <td>0.818182</td>\n      <td>0.000000</td>\n    </tr>\n    <tr>\n      <th>17</th>\n      <td>0.571429</td>\n      <td>0.428571</td>\n      <td>0.000000</td>\n    </tr>\n    <tr>\n      <th>18</th>\n      <td>0.391304</td>\n      <td>0.608696</td>\n      <td>0.000000</td>\n    </tr>\n  </tbody>\n</table>\n<p>240 rows × 3 columns</p>\n</div>"
     },
     "metadata": {},
     "execution_count": 9
    }
   ],
   "source": [
    "X = df_ypredict.pivot_table(values='frameTimeWindow', columns='ypredict', index=['video_name','diapo'], aggfunc='count', fill_value=0)\n",
    "X_sum = X.sum(axis=1).values.copy()\n",
    "for col_number in range(len(X.columns)):\n",
    "    X.iloc[:,col_number] = X.iloc[:,col_number] / X_sum\n",
    "X\n",
    " "
   ]
  },
  {
   "cell_type": "code",
   "execution_count": 10,
   "metadata": {},
   "outputs": [
    {
     "output_type": "execute_result",
     "data": {
      "text/plain": [
       "                    video_name  diapo  stress\n",
       "0               Test_pour_AFPA      1     1.0\n",
       "1               Test_pour_AFPA      8     1.0\n",
       "2               Test_pour_AFPA      9     0.0\n",
       "3               Test_pour_AFPA     10     0.0\n",
       "4               Test_pour_AFPA     11     0.0\n",
       "..                         ...    ...     ...\n",
       "235  WIN_20210417_14_53_12_Pro     10     0.0\n",
       "236  WIN_20210417_14_53_12_Pro     11     0.0\n",
       "237  WIN_20210417_14_53_12_Pro     12     0.0\n",
       "238  WIN_20210417_14_53_12_Pro     17     1.0\n",
       "239  WIN_20210417_14_53_12_Pro     18     1.0\n",
       "\n",
       "[240 rows x 3 columns]"
      ],
      "text/html": "<div>\n<style scoped>\n    .dataframe tbody tr th:only-of-type {\n        vertical-align: middle;\n    }\n\n    .dataframe tbody tr th {\n        vertical-align: top;\n    }\n\n    .dataframe thead th {\n        text-align: right;\n    }\n</style>\n<table border=\"1\" class=\"dataframe\">\n  <thead>\n    <tr style=\"text-align: right;\">\n      <th></th>\n      <th>video_name</th>\n      <th>diapo</th>\n      <th>stress</th>\n    </tr>\n  </thead>\n  <tbody>\n    <tr>\n      <th>0</th>\n      <td>Test_pour_AFPA</td>\n      <td>1</td>\n      <td>1.0</td>\n    </tr>\n    <tr>\n      <th>1</th>\n      <td>Test_pour_AFPA</td>\n      <td>8</td>\n      <td>1.0</td>\n    </tr>\n    <tr>\n      <th>2</th>\n      <td>Test_pour_AFPA</td>\n      <td>9</td>\n      <td>0.0</td>\n    </tr>\n    <tr>\n      <th>3</th>\n      <td>Test_pour_AFPA</td>\n      <td>10</td>\n      <td>0.0</td>\n    </tr>\n    <tr>\n      <th>4</th>\n      <td>Test_pour_AFPA</td>\n      <td>11</td>\n      <td>0.0</td>\n    </tr>\n    <tr>\n      <th>...</th>\n      <td>...</td>\n      <td>...</td>\n      <td>...</td>\n    </tr>\n    <tr>\n      <th>235</th>\n      <td>WIN_20210417_14_53_12_Pro</td>\n      <td>10</td>\n      <td>0.0</td>\n    </tr>\n    <tr>\n      <th>236</th>\n      <td>WIN_20210417_14_53_12_Pro</td>\n      <td>11</td>\n      <td>0.0</td>\n    </tr>\n    <tr>\n      <th>237</th>\n      <td>WIN_20210417_14_53_12_Pro</td>\n      <td>12</td>\n      <td>0.0</td>\n    </tr>\n    <tr>\n      <th>238</th>\n      <td>WIN_20210417_14_53_12_Pro</td>\n      <td>17</td>\n      <td>1.0</td>\n    </tr>\n    <tr>\n      <th>239</th>\n      <td>WIN_20210417_14_53_12_Pro</td>\n      <td>18</td>\n      <td>1.0</td>\n    </tr>\n  </tbody>\n</table>\n<p>240 rows × 3 columns</p>\n</div>"
     },
     "metadata": {},
     "execution_count": 10
    }
   ],
   "source": [
    "df_annotations_stress = pd.read_csv('annotations.csv')\n",
    "df_annotations_stress = df_annotations_stress.drop(df_annotations_stress.columns[-1],axis=1).set_index('video_name').stack()\n",
    "df_annotations_stress = pd.DataFrame(df_annotations_stress).reset_index()\n",
    "df_annotations_stress.columns = ['video_name','diapo','stress']\n",
    "#df_annotations_stress = df_annotations_stress.set_index(['video_name','diapo'])\n",
    "df_annotations_stress['diapo'] = df_annotations_stress['diapo'].astype(int)\n",
    "df_annotations_stress"
   ]
  },
  {
   "cell_type": "code",
   "execution_count": 11,
   "metadata": {},
   "outputs": [],
   "source": [
    "Xy = X.merge(df_annotations_stress, how='inner', on=['video_name','diapo'])\n",
    "X = Xy.iloc[:,:-1].set_index(['video_name','diapo'])\n",
    "y = Xy.iloc[:,-1]"
   ]
  },
  {
   "cell_type": "code",
   "execution_count": 12,
   "metadata": {},
   "outputs": [
    {
     "output_type": "execute_result",
     "data": {
      "text/plain": [
       "                                        0         1         2\n",
       "video_name                diapo                              \n",
       "Test_pour_AFPA            1      0.147059  0.000000  0.852941\n",
       "                          8      0.100000  0.700000  0.200000\n",
       "                          9      0.000000  0.600000  0.400000\n",
       "                          10     0.133333  0.666667  0.200000\n",
       "                          11     0.000000  0.700000  0.300000\n",
       "...                                   ...       ...       ...\n",
       "WIN_20210417_14_53_12_Pro 10     0.428571  0.571429  0.000000\n",
       "                          11     0.600000  0.400000  0.000000\n",
       "                          12     0.181818  0.818182  0.000000\n",
       "                          17     0.571429  0.428571  0.000000\n",
       "                          18     0.391304  0.608696  0.000000\n",
       "\n",
       "[240 rows x 3 columns]"
      ],
      "text/html": "<div>\n<style scoped>\n    .dataframe tbody tr th:only-of-type {\n        vertical-align: middle;\n    }\n\n    .dataframe tbody tr th {\n        vertical-align: top;\n    }\n\n    .dataframe thead th {\n        text-align: right;\n    }\n</style>\n<table border=\"1\" class=\"dataframe\">\n  <thead>\n    <tr style=\"text-align: right;\">\n      <th></th>\n      <th></th>\n      <th>0</th>\n      <th>1</th>\n      <th>2</th>\n    </tr>\n    <tr>\n      <th>video_name</th>\n      <th>diapo</th>\n      <th></th>\n      <th></th>\n      <th></th>\n    </tr>\n  </thead>\n  <tbody>\n    <tr>\n      <th rowspan=\"5\" valign=\"top\">Test_pour_AFPA</th>\n      <th>1</th>\n      <td>0.147059</td>\n      <td>0.000000</td>\n      <td>0.852941</td>\n    </tr>\n    <tr>\n      <th>8</th>\n      <td>0.100000</td>\n      <td>0.700000</td>\n      <td>0.200000</td>\n    </tr>\n    <tr>\n      <th>9</th>\n      <td>0.000000</td>\n      <td>0.600000</td>\n      <td>0.400000</td>\n    </tr>\n    <tr>\n      <th>10</th>\n      <td>0.133333</td>\n      <td>0.666667</td>\n      <td>0.200000</td>\n    </tr>\n    <tr>\n      <th>11</th>\n      <td>0.000000</td>\n      <td>0.700000</td>\n      <td>0.300000</td>\n    </tr>\n    <tr>\n      <th>...</th>\n      <th>...</th>\n      <td>...</td>\n      <td>...</td>\n      <td>...</td>\n    </tr>\n    <tr>\n      <th rowspan=\"5\" valign=\"top\">WIN_20210417_14_53_12_Pro</th>\n      <th>10</th>\n      <td>0.428571</td>\n      <td>0.571429</td>\n      <td>0.000000</td>\n    </tr>\n    <tr>\n      <th>11</th>\n      <td>0.600000</td>\n      <td>0.400000</td>\n      <td>0.000000</td>\n    </tr>\n    <tr>\n      <th>12</th>\n      <td>0.181818</td>\n      <td>0.818182</td>\n      <td>0.000000</td>\n    </tr>\n    <tr>\n      <th>17</th>\n      <td>0.571429</td>\n      <td>0.428571</td>\n      <td>0.000000</td>\n    </tr>\n    <tr>\n      <th>18</th>\n      <td>0.391304</td>\n      <td>0.608696</td>\n      <td>0.000000</td>\n    </tr>\n  </tbody>\n</table>\n<p>240 rows × 3 columns</p>\n</div>"
     },
     "metadata": {},
     "execution_count": 12
    }
   ],
   "source": [
    "X"
   ]
  },
  {
   "cell_type": "code",
   "execution_count": 21,
   "metadata": {},
   "outputs": [],
   "source": [
    "from sklearn.linear_model import LogisticRegression\n",
    "from sklearn.neighbors import KNeighborsClassifier\n",
    "from sklearn.ensemble import RandomForestClassifier\n",
    "from sklearn.model_selection import LeaveOneGroupOut\n",
    "from sklearn.decomposition import PCA\n",
    "from sklearn.pipeline import Pipeline\n",
    "\n",
    "pca = PCA()\n",
    "pipe = Pipeline(steps=[('pca', pca), ('logistic', LogisticRegression(multi_class='multinomial', fit_intercept=True, random_state=42))])\n",
    "\n",
    "models_list = [\n",
    "                LogisticRegression(multi_class='multinomial', fit_intercept=True, random_state=42),\n",
    "                Pipeline(steps=[('pca', pca), ('logistic', LogisticRegression(multi_class='multinomial', fit_intercept=True))]),\n",
    "                KNeighborsClassifier(),\n",
    "                Pipeline(steps=[('pca', pca), ('knn', KNeighborsClassifier())]),\n",
    "                RandomForestClassifier(random_state = 42, n_jobs=-1)\n",
    "                ]\n",
    "\n",
    "parameters_list = [\n",
    "                    {'C': [0.01, 0.05, 0.1, 0.5, 1, 2, 3, 4 , 5, 10], 'class_weight' : [None, 'balanced']},\n",
    "                    {'pca__n_components': [1, 2, 3, 4],\n",
    "                        'logistic__C': [0.01, 0.05, 0.1, 0.5, 1, 2, 3, 4 , 5, 10], 'logistic__class_weight' : [None, 'balanced']},\n",
    "                    {'n_neighbors': [4, 5, 6, 7, 8, 9, 10, 11, 12,  15, 20], 'weights' : ['uniform', 'distance'], 'p': [1, 2]},\n",
    "                    {'pca__n_components': [1, 2, 3, 4],\n",
    "                        'knn__n_neighbors': [4, 5, 6, 7, 8, 9, 10, 11, 12,  15, 20], 'knn__weights' : ['uniform', 'distance'],                              'knn__p': [1, 2]},\n",
    "                    {'n_estimators': [50, 100, 150, 200], 'max_depth':[3, 4, 5, 6, 10, 15, 20], 'class_weight':[None,'balanced']}\n",
    "                    ]\n",
    "\n",
    "groups = X.reset_index()['video_name']\n",
    "loo = LeaveOneGroupOut()\n",
    "cv_loo = loo.split(X, y, groups)"
   ]
  },
  {
   "cell_type": "code",
   "execution_count": 22,
   "metadata": {},
   "outputs": [
    {
     "output_type": "stream",
     "name": "stdout",
     "text": [
      "Fitting 30 folds for each of 20 candidates, totalling 600 fits\n",
      "[Parallel(n_jobs=-1)]: Using backend LokyBackend with 8 concurrent workers.\n",
      "[Parallel(n_jobs=-1)]: Done  58 tasks      | elapsed:    0.3s\n",
      "[Parallel(n_jobs=-1)]: Done 600 out of 600 | elapsed:    3.5s finished\n",
      "[Parallel(n_jobs=-1)]: Using backend LokyBackend with 8 concurrent workers.\n",
      "Best estimator LogisticRegression(C=0.01, multi_class='multinomial', random_state=42)\n",
      "Best results 0.3443129093129092\n",
      "Best params {'C': 0.01, 'class_weight': None}\n",
      "accuracy (mean, std) 0.4708333333333333 0.25552913510769937\n",
      "f1 (mean, std) 0.3443129093129092 0.26764425176071577\n",
      "balanced accuracy (mean, std) 0.4583333333333333 0.1070436048222094\n",
      "precision (mean, std) 0.2869791666666667 0.25321768279184653\n",
      "recall (mean, std) 0.4708333333333333 0.25552913510769937\n",
      "\n",
      "Fitting 30 folds for each of 80 candidates, totalling 2400 fits\n",
      "[Parallel(n_jobs=-1)]: Done  56 tasks      | elapsed:    0.5s\n",
      "[Parallel(n_jobs=-1)]: Done 2160 tasks      | elapsed:    8.0s\n",
      "[Parallel(n_jobs=-1)]: Done 2400 out of 2400 | elapsed:    8.7s finished\n",
      "[Parallel(n_jobs=-1)]: Using backend LokyBackend with 8 concurrent workers.\n",
      "Best estimator Pipeline(steps=[('pca', PCA(n_components=1)),\n",
      "                ('logistic',\n",
      "                 LogisticRegression(C=0.01, multi_class='multinomial'))])\n",
      "Best results 0.3443129093129092\n",
      "Best params {'logistic__C': 0.01, 'logistic__class_weight': None, 'pca__n_components': 1}\n",
      "accuracy (mean, std) 0.4708333333333333 0.25552913510769937\n",
      "f1 (mean, std) 0.3443129093129092 0.26764425176071577\n",
      "balanced accuracy (mean, std) 0.4583333333333333 0.1070436048222094\n",
      "precision (mean, std) 0.2869791666666667 0.25321768279184653\n",
      "recall (mean, std) 0.4708333333333333 0.25552913510769937\n",
      "\n",
      "Fitting 30 folds for each of 44 candidates, totalling 1320 fits\n",
      "[Parallel(n_jobs=-1)]: Done  56 tasks      | elapsed:    0.3s\n",
      "[Parallel(n_jobs=-1)]: Done 1200 tasks      | elapsed:    3.1s\n",
      "[Parallel(n_jobs=-1)]: Done 1320 out of 1320 | elapsed:    3.4s finished\n",
      "[Parallel(n_jobs=-1)]: Using backend LokyBackend with 8 concurrent workers.\n",
      "Best estimator KNeighborsClassifier(n_neighbors=6, p=1)\n",
      "Best results 0.4617414761164762\n",
      "Best params {'n_neighbors': 6, 'p': 1, 'weights': 'uniform'}\n",
      "accuracy (mean, std) 0.4708333333333333 0.22749389491197827\n",
      "f1 (mean, std) 0.4617414761164762 0.2515914807553559\n",
      "balanced accuracy (mean, std) 0.4784259259259259 0.22706427534113416\n",
      "precision (mean, std) 0.6034722222222223 0.3084348531059375\n",
      "recall (mean, std) 0.4708333333333333 0.22749389491197827\n",
      "\n",
      "Fitting 30 folds for each of 176 candidates, totalling 5280 fits\n",
      "[Parallel(n_jobs=-1)]: Done  56 tasks      | elapsed:    0.3s\n",
      "[Parallel(n_jobs=-1)]: Done 2160 tasks      | elapsed:    5.0s\n",
      "[Parallel(n_jobs=-1)]: Done 5280 out of 5280 | elapsed:   11.9s finished\n",
      "[Parallel(n_jobs=-1)]: Using backend LokyBackend with 8 concurrent workers.\n",
      "Best estimator Pipeline(steps=[('pca', PCA(n_components=1)),\n",
      "                ('knn', KNeighborsClassifier(p=1, weights='distance'))])\n",
      "Best results 0.4910048978798978\n",
      "Best params {'knn__n_neighbors': 5, 'knn__p': 1, 'knn__weights': 'distance', 'pca__n_components': 1}\n",
      "accuracy (mean, std) 0.48333333333333334 0.20344259359556174\n",
      "f1 (mean, std) 0.4910048978798978 0.20082242331085773\n",
      "balanced accuracy (mean, std) 0.4521560846560846 0.21523624872720665\n",
      "precision (mean, std) 0.5950049603174603 0.23838836025168014\n",
      "recall (mean, std) 0.48333333333333334 0.20344259359556174\n",
      "\n",
      "Fitting 30 folds for each of 56 candidates, totalling 1680 fits\n",
      "[Parallel(n_jobs=-1)]: Done  52 tasks      | elapsed:    2.4s\n",
      "[Parallel(n_jobs=-1)]: Done 232 tasks      | elapsed:   14.1s\n",
      "[Parallel(n_jobs=-1)]: Done 482 tasks      | elapsed:   29.6s\n",
      "[Parallel(n_jobs=-1)]: Done 832 tasks      | elapsed:   51.8s\n",
      "[Parallel(n_jobs=-1)]: Done 1282 tasks      | elapsed:  1.3min\n",
      "[Parallel(n_jobs=-1)]: Done 1680 out of 1680 | elapsed:  1.7min finished\n",
      "Best estimator RandomForestClassifier(max_depth=15, n_estimators=50, n_jobs=-1,\n",
      "                       random_state=42)\n",
      "Best results 0.5178600566100565\n",
      "Best params {'class_weight': None, 'max_depth': 15, 'n_estimators': 50}\n",
      "accuracy (mean, std) 0.5125 0.18638557705287537\n",
      "f1 (mean, std) 0.5178600566100565 0.18568798313383672\n",
      "balanced accuracy (mean, std) 0.4998544973544974 0.2178320231885538\n",
      "precision (mean, std) 0.625203373015873 0.23529179309121134\n",
      "recall (mean, std) 0.5125 0.18638557705287537\n",
      "\n"
     ]
    }
   ],
   "source": [
    "best_result, y_predict, result_list = runGridSearchClassifiers(X, y, cv_loo, models_list, parameters_list, \n",
    "                                                                output_predict=True, n_jobs=-1, verbose=True)"
   ]
  },
  {
   "cell_type": "code",
   "execution_count": 23,
   "metadata": {},
   "outputs": [
    {
     "output_type": "execute_result",
     "data": {
      "text/plain": [
       "{'best_estimator': RandomForestClassifier(max_depth=15, n_estimators=50, n_jobs=-1,\n",
       "                        random_state=42),\n",
       " 'best_score': 0.5178600566100565,\n",
       " 'best_params': {'class_weight': None, 'max_depth': 15, 'n_estimators': 50},\n",
       " 'mean_test_f1_score': 0.5178600566100565,\n",
       " 'std_test_f1_score': 0.18568798313383672,\n",
       " 'mean_test_accuracy_score': 0.5125,\n",
       " 'std_test_accuracy_score': 0.18638557705287537,\n",
       " 'mean_test_balanced_accuracy_score': 0.4998544973544974,\n",
       " 'std_test_balanced_accuracy_score': 0.2178320231885538,\n",
       " 'mean_test_precision': 0.625203373015873,\n",
       " 'std_test_precision': 0.23529179309121134,\n",
       " 'mean_test_recall': 0.5125,\n",
       " 'std_test_recall': 0.18638557705287537}"
      ]
     },
     "metadata": {},
     "execution_count": 23
    }
   ],
   "source": [
    "best_result"
   ]
  },
  {
   "cell_type": "code",
   "execution_count": 24,
   "metadata": {},
   "outputs": [],
   "source": [
    "# Saving predictions\n",
    "df_ypredict = pd.concat([X.reset_index()[['video_name','diapo']],\n",
    "                        pd.DataFrame(y_predict, columns=['ypredict'])],axis=1)\n",
    "df_ypredict.to_csv('ypredict_' + features + '_tw5_diapo' + diapo_selection + '.csv')"
   ]
  },
  {
   "cell_type": "markdown",
   "metadata": {},
   "source": [
    "#### En aggrégeant les prédicitions des diapos"
   ]
  },
  {
   "cell_type": "code",
   "execution_count": 30,
   "metadata": {},
   "outputs": [],
   "source": [
    "# Autre méthode\n",
    "X = df_ypredict.groupby(['video_name','diapo']).agg({'ypredict':['mean','min','max', 'median', 'std', percentil25, percentil75, kurtosis, skew]})"
   ]
  },
  {
   "cell_type": "code",
   "execution_count": 31,
   "metadata": {},
   "outputs": [
    {
     "output_type": "execute_result",
     "data": {
      "text/plain": [
       "                                 ypredict                           \\\n",
       "                                     mean min max median       std   \n",
       "video_name                diapo                                      \n",
       "Test_pour_AFPA            1      1.705882   0   2    2.0  0.718981   \n",
       "                          8      1.100000   0   2    1.0  0.567646   \n",
       "                          9      1.400000   1   2    1.0  0.502625   \n",
       "                          10     1.066667   0   2    1.0  0.593617   \n",
       "                          11     1.300000   1   2    1.0  0.470162   \n",
       "...                                   ...  ..  ..    ...       ...   \n",
       "WIN_20210417_14_53_12_Pro 10     0.571429   0   1    1.0  0.513553   \n",
       "                          11     0.400000   0   1    0.0  0.502625   \n",
       "                          12     0.818182   0   1    1.0  0.391675   \n",
       "                          17     0.428571   0   1    0.0  0.534522   \n",
       "                          18     0.608696   0   1    1.0  0.499011   \n",
       "\n",
       "                                                                             \n",
       "                                percentil25 percentil75  kurtosis      skew  \n",
       "video_name                diapo                                              \n",
       "Test_pour_AFPA            1             2.0         2.0  1.972414 -1.993092  \n",
       "                          8             1.0         1.0  0.302021  0.076839  \n",
       "                          9             1.0         2.0 -1.833333  0.408248  \n",
       "                          10            1.0         1.0 -0.001096  0.003142  \n",
       "                          11            1.0         2.0 -1.238095  0.872872  \n",
       "...                                     ...         ...       ...       ...  \n",
       "WIN_20210417_14_53_12_Pro 10            0.0         1.0 -1.916667 -0.288675  \n",
       "                          11            0.0         1.0 -1.833333  0.408248  \n",
       "                          12            1.0         1.0  0.722222 -1.649916  \n",
       "                          17            0.0         1.0 -1.916667  0.288675  \n",
       "                          18            0.0         1.0 -1.801587 -0.445435  \n",
       "\n",
       "[240 rows x 9 columns]"
      ],
      "text/html": "<div>\n<style scoped>\n    .dataframe tbody tr th:only-of-type {\n        vertical-align: middle;\n    }\n\n    .dataframe tbody tr th {\n        vertical-align: top;\n    }\n\n    .dataframe thead tr th {\n        text-align: left;\n    }\n\n    .dataframe thead tr:last-of-type th {\n        text-align: right;\n    }\n</style>\n<table border=\"1\" class=\"dataframe\">\n  <thead>\n    <tr>\n      <th></th>\n      <th></th>\n      <th colspan=\"9\" halign=\"left\">ypredict</th>\n    </tr>\n    <tr>\n      <th></th>\n      <th></th>\n      <th>mean</th>\n      <th>min</th>\n      <th>max</th>\n      <th>median</th>\n      <th>std</th>\n      <th>percentil25</th>\n      <th>percentil75</th>\n      <th>kurtosis</th>\n      <th>skew</th>\n    </tr>\n    <tr>\n      <th>video_name</th>\n      <th>diapo</th>\n      <th></th>\n      <th></th>\n      <th></th>\n      <th></th>\n      <th></th>\n      <th></th>\n      <th></th>\n      <th></th>\n      <th></th>\n    </tr>\n  </thead>\n  <tbody>\n    <tr>\n      <th rowspan=\"5\" valign=\"top\">Test_pour_AFPA</th>\n      <th>1</th>\n      <td>1.705882</td>\n      <td>0</td>\n      <td>2</td>\n      <td>2.0</td>\n      <td>0.718981</td>\n      <td>2.0</td>\n      <td>2.0</td>\n      <td>1.972414</td>\n      <td>-1.993092</td>\n    </tr>\n    <tr>\n      <th>8</th>\n      <td>1.100000</td>\n      <td>0</td>\n      <td>2</td>\n      <td>1.0</td>\n      <td>0.567646</td>\n      <td>1.0</td>\n      <td>1.0</td>\n      <td>0.302021</td>\n      <td>0.076839</td>\n    </tr>\n    <tr>\n      <th>9</th>\n      <td>1.400000</td>\n      <td>1</td>\n      <td>2</td>\n      <td>1.0</td>\n      <td>0.502625</td>\n      <td>1.0</td>\n      <td>2.0</td>\n      <td>-1.833333</td>\n      <td>0.408248</td>\n    </tr>\n    <tr>\n      <th>10</th>\n      <td>1.066667</td>\n      <td>0</td>\n      <td>2</td>\n      <td>1.0</td>\n      <td>0.593617</td>\n      <td>1.0</td>\n      <td>1.0</td>\n      <td>-0.001096</td>\n      <td>0.003142</td>\n    </tr>\n    <tr>\n      <th>11</th>\n      <td>1.300000</td>\n      <td>1</td>\n      <td>2</td>\n      <td>1.0</td>\n      <td>0.470162</td>\n      <td>1.0</td>\n      <td>2.0</td>\n      <td>-1.238095</td>\n      <td>0.872872</td>\n    </tr>\n    <tr>\n      <th>...</th>\n      <th>...</th>\n      <td>...</td>\n      <td>...</td>\n      <td>...</td>\n      <td>...</td>\n      <td>...</td>\n      <td>...</td>\n      <td>...</td>\n      <td>...</td>\n      <td>...</td>\n    </tr>\n    <tr>\n      <th rowspan=\"5\" valign=\"top\">WIN_20210417_14_53_12_Pro</th>\n      <th>10</th>\n      <td>0.571429</td>\n      <td>0</td>\n      <td>1</td>\n      <td>1.0</td>\n      <td>0.513553</td>\n      <td>0.0</td>\n      <td>1.0</td>\n      <td>-1.916667</td>\n      <td>-0.288675</td>\n    </tr>\n    <tr>\n      <th>11</th>\n      <td>0.400000</td>\n      <td>0</td>\n      <td>1</td>\n      <td>0.0</td>\n      <td>0.502625</td>\n      <td>0.0</td>\n      <td>1.0</td>\n      <td>-1.833333</td>\n      <td>0.408248</td>\n    </tr>\n    <tr>\n      <th>12</th>\n      <td>0.818182</td>\n      <td>0</td>\n      <td>1</td>\n      <td>1.0</td>\n      <td>0.391675</td>\n      <td>1.0</td>\n      <td>1.0</td>\n      <td>0.722222</td>\n      <td>-1.649916</td>\n    </tr>\n    <tr>\n      <th>17</th>\n      <td>0.428571</td>\n      <td>0</td>\n      <td>1</td>\n      <td>0.0</td>\n      <td>0.534522</td>\n      <td>0.0</td>\n      <td>1.0</td>\n      <td>-1.916667</td>\n      <td>0.288675</td>\n    </tr>\n    <tr>\n      <th>18</th>\n      <td>0.608696</td>\n      <td>0</td>\n      <td>1</td>\n      <td>1.0</td>\n      <td>0.499011</td>\n      <td>0.0</td>\n      <td>1.0</td>\n      <td>-1.801587</td>\n      <td>-0.445435</td>\n    </tr>\n  </tbody>\n</table>\n<p>240 rows × 9 columns</p>\n</div>"
     },
     "metadata": {},
     "execution_count": 31
    }
   ],
   "source": [
    "X"
   ]
  },
  {
   "cell_type": "code",
   "execution_count": 32,
   "metadata": {},
   "outputs": [],
   "source": [
    "groups = X.reset_index()['video_name']\n",
    "loo = LeaveOneGroupOut()\n",
    "cv_loo = loo.split(X, y, groups)"
   ]
  },
  {
   "cell_type": "code",
   "execution_count": 33,
   "metadata": {},
   "outputs": [
    {
     "output_type": "stream",
     "name": "stdout",
     "text": [
      "Fitting 30 folds for each of 20 candidates, totalling 600 fits\n",
      "[Parallel(n_jobs=-1)]: Using backend LokyBackend with 8 concurrent workers.\n",
      "[Parallel(n_jobs=-1)]: Done  56 tasks      | elapsed:    0.5s\n",
      "[Parallel(n_jobs=-1)]: Done 585 out of 600 | elapsed:    6.0s remaining:    0.2s\n",
      "[Parallel(n_jobs=-1)]: Done 600 out of 600 | elapsed:    6.1s finished\n",
      "[Parallel(n_jobs=-1)]: Using backend LokyBackend with 8 concurrent workers.\n",
      "Best estimator LogisticRegression(C=10, multi_class='multinomial', random_state=42)\n",
      "Best results 0.44811167998667994\n",
      "Best params {'C': 10, 'class_weight': None}\n",
      "accuracy (mean, std) 0.475 0.21984843263788198\n",
      "f1 (mean, std) 0.44811167998667994 0.2421748133536334\n",
      "balanced accuracy (mean, std) 0.5155952380952381 0.16941256995469542\n",
      "precision (mean, std) 0.5531498015873015 0.3002456518663868\n",
      "recall (mean, std) 0.475 0.21984843263788198\n",
      "\n",
      "Fitting 30 folds for each of 80 candidates, totalling 2400 fits\n",
      "[Parallel(n_jobs=-1)]: Done  56 tasks      | elapsed:    0.5s\n",
      "[Parallel(n_jobs=-1)]: Done 656 tasks      | elapsed:    3.6s\n",
      "[Parallel(n_jobs=-1)]: Done 1656 tasks      | elapsed:   10.7s\n",
      "[Parallel(n_jobs=-1)]: Done 2385 out of 2400 | elapsed:   16.2s remaining:    0.1s\n",
      "[Parallel(n_jobs=-1)]: Done 2400 out of 2400 | elapsed:   16.2s finished\n",
      "[Parallel(n_jobs=-1)]: Using backend LokyBackend with 8 concurrent workers.\n",
      "Best estimator Pipeline(steps=[('pca', PCA(n_components=4)),\n",
      "                ('logistic',\n",
      "                 LogisticRegression(C=2, multi_class='multinomial'))])\n",
      "Best results 0.4550237262737262\n",
      "Best params {'logistic__C': 2, 'logistic__class_weight': None, 'pca__n_components': 4}\n",
      "accuracy (mean, std) 0.475 0.22684429314693663\n",
      "f1 (mean, std) 0.4550237262737262 0.24494230285041502\n",
      "balanced accuracy (mean, std) 0.5124206349206349 0.21381974984678143\n",
      "precision (mean, std) 0.5661210317460318 0.300056227245053\n",
      "recall (mean, std) 0.475 0.22684429314693663\n",
      "\n",
      "Fitting 30 folds for each of 44 candidates, totalling 1320 fits\n",
      "[Parallel(n_jobs=-1)]: Done  56 tasks      | elapsed:    0.3s\n",
      "[Parallel(n_jobs=-1)]: Done 1200 tasks      | elapsed:    3.2s\n",
      "[Parallel(n_jobs=-1)]: Done 1320 out of 1320 | elapsed:    3.5s finished\n",
      "[Parallel(n_jobs=-1)]: Using backend LokyBackend with 8 concurrent workers.\n",
      "Best estimator KNeighborsClassifier(n_neighbors=15)\n",
      "Best results 0.46512445887445886\n",
      "Best params {'n_neighbors': 15, 'p': 2, 'weights': 'uniform'}\n",
      "accuracy (mean, std) 0.4625 0.20953818267800262\n",
      "f1 (mean, std) 0.46512445887445886 0.23185829647242492\n",
      "balanced accuracy (mean, std) 0.49480158730158735 0.23557043938024344\n",
      "precision (mean, std) 0.602093253968254 0.29313347188558175\n",
      "recall (mean, std) 0.4625 0.20953818267800262\n",
      "\n",
      "Fitting 30 folds for each of 176 candidates, totalling 5280 fits\n",
      "[Parallel(n_jobs=-1)]: Done  56 tasks      | elapsed:    0.4s\n",
      "[Parallel(n_jobs=-1)]: Done 2160 tasks      | elapsed:    6.3s\n",
      "[Parallel(n_jobs=-1)]: Done 5280 out of 5280 | elapsed:   14.7s finished\n",
      "[Parallel(n_jobs=-1)]: Using backend LokyBackend with 8 concurrent workers.\n",
      "Best estimator Pipeline(steps=[('pca', PCA(n_components=2)),\n",
      "                ('knn', KNeighborsClassifier(p=1, weights='distance'))])\n",
      "Best results 0.49710278147778136\n",
      "Best params {'knn__n_neighbors': 5, 'knn__p': 1, 'knn__weights': 'distance', 'pca__n_components': 2}\n",
      "accuracy (mean, std) 0.49166666666666664 0.203953970842007\n",
      "f1 (mean, std) 0.49710278147778136 0.21746101285330363\n",
      "balanced accuracy (mean, std) 0.49414021164021166 0.22467487879240494\n",
      "precision (mean, std) 0.6087351190476191 0.2645644040791913\n",
      "recall (mean, std) 0.49166666666666664 0.203953970842007\n",
      "\n",
      "Fitting 30 folds for each of 56 candidates, totalling 1680 fits\n",
      "[Parallel(n_jobs=-1)]: Done  52 tasks      | elapsed:    2.4s\n",
      "[Parallel(n_jobs=-1)]: Done 232 tasks      | elapsed:   14.1s\n",
      "[Parallel(n_jobs=-1)]: Done 482 tasks      | elapsed:   29.6s\n",
      "[Parallel(n_jobs=-1)]: Done 832 tasks      | elapsed:   52.1s\n",
      "[Parallel(n_jobs=-1)]: Done 1282 tasks      | elapsed:  1.3min\n",
      "[Parallel(n_jobs=-1)]: Done 1680 out of 1680 | elapsed:  1.8min finished\n",
      "Best estimator RandomForestClassifier(max_depth=4, n_estimators=50, n_jobs=-1, random_state=42)\n",
      "Best results 0.5041521441521442\n",
      "Best params {'class_weight': None, 'max_depth': 4, 'n_estimators': 50}\n",
      "accuracy (mean, std) 0.525 0.19737865470545018\n",
      "f1 (mean, std) 0.5041521441521442 0.2329587737151845\n",
      "balanced accuracy (mean, std) 0.5563888888888889 0.18285070552629498\n",
      "precision (mean, std) 0.6120982142857143 0.2999199750510037\n",
      "recall (mean, std) 0.525 0.19737865470545018\n",
      "\n"
     ]
    },
    {
     "output_type": "execute_result",
     "data": {
      "text/plain": [
       "{'best_estimator': RandomForestClassifier(max_depth=4, n_estimators=50, n_jobs=-1, random_state=42),\n",
       " 'best_score': 0.5041521441521442,\n",
       " 'best_params': {'class_weight': None, 'max_depth': 4, 'n_estimators': 50},\n",
       " 'mean_test_f1_score': 0.5041521441521442,\n",
       " 'std_test_f1_score': 0.2329587737151845,\n",
       " 'mean_test_accuracy_score': 0.525,\n",
       " 'std_test_accuracy_score': 0.19737865470545018,\n",
       " 'mean_test_balanced_accuracy_score': 0.5563888888888889,\n",
       " 'std_test_balanced_accuracy_score': 0.18285070552629498,\n",
       " 'mean_test_precision': 0.6120982142857143,\n",
       " 'std_test_precision': 0.2999199750510037,\n",
       " 'mean_test_recall': 0.525,\n",
       " 'std_test_recall': 0.19737865470545018}"
      ]
     },
     "metadata": {},
     "execution_count": 33
    }
   ],
   "source": [
    "best_result, y_predict, result_list = runGridSearchClassifiers(X, y, cv_loo, models_list, parameters_list, \n",
    "                                                                output_predict=True, n_jobs=-1, verbose=True)\n",
    "best_result"
   ]
  },
  {
   "cell_type": "code",
   "execution_count": 34,
   "metadata": {},
   "outputs": [
    {
     "output_type": "execute_result",
     "data": {
      "text/plain": [
       "{'best_estimator': RandomForestClassifier(max_depth=4, n_estimators=50, n_jobs=-1, random_state=42),\n",
       " 'best_score': 0.5041521441521442,\n",
       " 'best_params': {'class_weight': None, 'max_depth': 4, 'n_estimators': 50},\n",
       " 'mean_test_f1_score': 0.5041521441521442,\n",
       " 'std_test_f1_score': 0.2329587737151845,\n",
       " 'mean_test_accuracy_score': 0.525,\n",
       " 'std_test_accuracy_score': 0.19737865470545018,\n",
       " 'mean_test_balanced_accuracy_score': 0.5563888888888889,\n",
       " 'std_test_balanced_accuracy_score': 0.18285070552629498,\n",
       " 'mean_test_precision': 0.6120982142857143,\n",
       " 'std_test_precision': 0.2999199750510037,\n",
       " 'mean_test_recall': 0.525,\n",
       " 'std_test_recall': 0.19737865470545018}"
      ]
     },
     "metadata": {},
     "execution_count": 34
    }
   ],
   "source": [
    "best_result"
   ]
  },
  {
   "cell_type": "code",
   "execution_count": 35,
   "metadata": {},
   "outputs": [
    {
     "output_type": "execute_result",
     "data": {
      "text/plain": [
       "array([[44, 57,  0,  0],\n",
       "       [31, 80,  2,  0],\n",
       "       [ 5, 18,  2,  0],\n",
       "       [ 0,  1,  0,  0]])"
      ]
     },
     "metadata": {},
     "execution_count": 35
    }
   ],
   "source": [
    "from sklearn.metrics import confusion_matrix\n",
    "confusion_matrix(y, y_predict)"
   ]
  },
  {
   "cell_type": "code",
   "execution_count": 37,
   "metadata": {},
   "outputs": [
    {
     "output_type": "execute_result",
     "data": {
      "text/plain": [
       "                (video_name, )  (diapo, )  ypredict\n",
       "0               Test_pour_AFPA          1       0.0\n",
       "1               Test_pour_AFPA          8       0.0\n",
       "2               Test_pour_AFPA          9       0.0\n",
       "3               Test_pour_AFPA         10       0.0\n",
       "4               Test_pour_AFPA         11       0.0\n",
       "..                         ...        ...       ...\n",
       "235  WIN_20210417_14_53_12_Pro         10       0.0\n",
       "236  WIN_20210417_14_53_12_Pro         11       0.0\n",
       "237  WIN_20210417_14_53_12_Pro         12       1.0\n",
       "238  WIN_20210417_14_53_12_Pro         17       0.0\n",
       "239  WIN_20210417_14_53_12_Pro         18       1.0\n",
       "\n",
       "[240 rows x 3 columns]"
      ],
      "text/html": "<div>\n<style scoped>\n    .dataframe tbody tr th:only-of-type {\n        vertical-align: middle;\n    }\n\n    .dataframe tbody tr th {\n        vertical-align: top;\n    }\n\n    .dataframe thead th {\n        text-align: right;\n    }\n</style>\n<table border=\"1\" class=\"dataframe\">\n  <thead>\n    <tr style=\"text-align: right;\">\n      <th></th>\n      <th>(video_name, )</th>\n      <th>(diapo, )</th>\n      <th>ypredict</th>\n    </tr>\n  </thead>\n  <tbody>\n    <tr>\n      <th>0</th>\n      <td>Test_pour_AFPA</td>\n      <td>1</td>\n      <td>0.0</td>\n    </tr>\n    <tr>\n      <th>1</th>\n      <td>Test_pour_AFPA</td>\n      <td>8</td>\n      <td>0.0</td>\n    </tr>\n    <tr>\n      <th>2</th>\n      <td>Test_pour_AFPA</td>\n      <td>9</td>\n      <td>0.0</td>\n    </tr>\n    <tr>\n      <th>3</th>\n      <td>Test_pour_AFPA</td>\n      <td>10</td>\n      <td>0.0</td>\n    </tr>\n    <tr>\n      <th>4</th>\n      <td>Test_pour_AFPA</td>\n      <td>11</td>\n      <td>0.0</td>\n    </tr>\n    <tr>\n      <th>...</th>\n      <td>...</td>\n      <td>...</td>\n      <td>...</td>\n    </tr>\n    <tr>\n      <th>235</th>\n      <td>WIN_20210417_14_53_12_Pro</td>\n      <td>10</td>\n      <td>0.0</td>\n    </tr>\n    <tr>\n      <th>236</th>\n      <td>WIN_20210417_14_53_12_Pro</td>\n      <td>11</td>\n      <td>0.0</td>\n    </tr>\n    <tr>\n      <th>237</th>\n      <td>WIN_20210417_14_53_12_Pro</td>\n      <td>12</td>\n      <td>1.0</td>\n    </tr>\n    <tr>\n      <th>238</th>\n      <td>WIN_20210417_14_53_12_Pro</td>\n      <td>17</td>\n      <td>0.0</td>\n    </tr>\n    <tr>\n      <th>239</th>\n      <td>WIN_20210417_14_53_12_Pro</td>\n      <td>18</td>\n      <td>1.0</td>\n    </tr>\n  </tbody>\n</table>\n<p>240 rows × 3 columns</p>\n</div>"
     },
     "metadata": {},
     "execution_count": 37
    }
   ],
   "source": [
    "df_ypredict"
   ]
  },
  {
   "cell_type": "markdown",
   "metadata": {},
   "source": [
    "## Stress global"
   ]
  },
  {
   "cell_type": "markdown",
   "metadata": {},
   "source": [
    "### En utilisant le stress prédit des diapos"
   ]
  },
  {
   "cell_type": "code",
   "execution_count": 8,
   "metadata": {},
   "outputs": [],
   "source": [
    "df_ypredict = pd.read_csv('ypredict_' + features + '_tw5_diapo' + diapo_selection + '.csv')\n",
    "df_ypredict = df_ypredict.iloc[:,1:]\n",
    "df_ypredict.columns = ['video_name','diapo','ypredict']\n",
    "ypredict_stress_diapo = df_ypredict.pivot_table(values='ypredict', columns='diapo',index='video_name',aggfunc='mean')\n"
   ]
  },
  {
   "cell_type": "code",
   "execution_count": 9,
   "metadata": {},
   "outputs": [
    {
     "output_type": "execute_result",
     "data": {
      "text/plain": [
       "diapo                             1    8    9    10   11   12   17   18\n",
       "video_name                                                             \n",
       "Test_pour_AFPA                   0.0  0.0  0.0  0.0  0.0  0.0  0.0  0.0\n",
       "Video_1                          1.0  0.0  0.0  0.0  0.0  1.0  0.0  1.0\n",
       "WIN_20210323_19_17_40_Pro        0.0  1.0  0.0  1.0  0.0  0.0  0.0  1.0\n",
       "WIN_20210329_10_16_02_Pro        1.0  1.0  1.0  0.0  1.0  1.0  1.0  1.0\n",
       "WIN_20210330_13_10_29_Pro        1.0  1.0  1.0  0.0  0.0  1.0  1.0  1.0\n",
       "WIN_20210331_21_22_52_Pro        1.0  0.0  1.0  1.0  0.0  1.0  0.0  0.0\n",
       "WIN_20210402_14_27_50_Pro        0.0  1.0  1.0  1.0  1.0  1.0  1.0  1.0\n",
       "WIN_20210402_19_04_53_Pro        2.0  1.0  1.0  1.0  1.0  2.0  2.0  1.0\n",
       "WIN_20210403_18_49_15_Pro        0.0  0.0  1.0  0.0  1.0  0.0  1.0  0.0\n",
       "WIN_20210404_10_58_27_Pro        0.0  0.0  1.0  1.0  2.0  1.0  1.0  0.0\n",
       "WIN_20210404_21_41_12_Pro        0.0  0.0  1.0  1.0  1.0  0.0  1.0  1.0\n",
       "WIN_20210405_15_09_16_Pro        1.0  0.0  1.0  1.0  1.0  2.0  0.0  0.0\n",
       "WIN_20210406_15_06_15_Pro        0.0  0.0  0.0  1.0  1.0  1.0  0.0  1.0\n",
       "WIN_20210406_18_35_52_Pro        1.0  0.0  0.0  0.0  1.0  1.0  0.0  1.0\n",
       "WIN_20210406_18_49_10_Pro        1.0  0.0  0.0  1.0  1.0  1.0  1.0  0.0\n",
       "WIN_20210406_21_05_52_Pro        1.0  0.0  0.0  3.0  1.0  1.0  0.0  1.0\n",
       "WIN_20210407_09_04_05_Pro        0.0  0.0  0.0  1.0  1.0  1.0  0.0  1.0\n",
       "WIN_20210407_14_54_56_Pro_edit2  0.0  1.0  1.0  1.0  0.0  1.0  0.0  1.0\n",
       "WIN_20210408_11_48_58_Pro        0.0  1.0  0.0  0.0  0.0  0.0  1.0  0.0\n",
       "WIN_20210408_14_00_44_Pro        1.0  0.0  1.0  1.0  0.0  2.0  1.0  1.0\n",
       "WIN_20210408_14_02_19_Pro        1.0  1.0  1.0  0.0  0.0  1.0  1.0  1.0\n",
       "WIN_20210408_14_11_32_Pro        1.0  1.0  1.0  1.0  1.0  1.0  1.0  1.0\n",
       "WIN_20210408_15_20_51_Pro        1.0  1.0  1.0  0.0  0.0  0.0  0.0  1.0\n",
       "WIN_20210408_16_04_32_Pro        0.0  0.0  1.0  0.0  1.0  1.0  1.0  1.0\n",
       "WIN_20210409_10_26_11_Pro        0.0  0.0  0.0  1.0  0.0  1.0  1.0  0.0\n",
       "WIN_20210413_15_38_01_Pro        1.0  0.0  1.0  0.0  0.0  1.0  0.0  1.0\n",
       "WIN_20210414_06_24_52_Pro        2.0  2.0  2.0  2.0  2.0  2.0  2.0  2.0\n",
       "WIN_20210415_15_41_24_Pro        1.0  0.0  0.0  1.0  0.0  1.0  1.0  1.0\n",
       "WIN_20210416_08_06_54_Pro        1.0  1.0  1.0  1.0  1.0  1.0  1.0  1.0\n",
       "WIN_20210417_14_53_12_Pro        1.0  0.0  1.0  0.0  0.0  0.0  0.0  1.0"
      ],
      "text/html": "<div>\n<style scoped>\n    .dataframe tbody tr th:only-of-type {\n        vertical-align: middle;\n    }\n\n    .dataframe tbody tr th {\n        vertical-align: top;\n    }\n\n    .dataframe thead th {\n        text-align: right;\n    }\n</style>\n<table border=\"1\" class=\"dataframe\">\n  <thead>\n    <tr style=\"text-align: right;\">\n      <th>diapo</th>\n      <th>1</th>\n      <th>8</th>\n      <th>9</th>\n      <th>10</th>\n      <th>11</th>\n      <th>12</th>\n      <th>17</th>\n      <th>18</th>\n    </tr>\n    <tr>\n      <th>video_name</th>\n      <th></th>\n      <th></th>\n      <th></th>\n      <th></th>\n      <th></th>\n      <th></th>\n      <th></th>\n      <th></th>\n    </tr>\n  </thead>\n  <tbody>\n    <tr>\n      <th>Test_pour_AFPA</th>\n      <td>0.0</td>\n      <td>0.0</td>\n      <td>0.0</td>\n      <td>0.0</td>\n      <td>0.0</td>\n      <td>0.0</td>\n      <td>0.0</td>\n      <td>0.0</td>\n    </tr>\n    <tr>\n      <th>Video_1</th>\n      <td>1.0</td>\n      <td>0.0</td>\n      <td>0.0</td>\n      <td>0.0</td>\n      <td>0.0</td>\n      <td>1.0</td>\n      <td>0.0</td>\n      <td>1.0</td>\n    </tr>\n    <tr>\n      <th>WIN_20210323_19_17_40_Pro</th>\n      <td>0.0</td>\n      <td>1.0</td>\n      <td>0.0</td>\n      <td>1.0</td>\n      <td>0.0</td>\n      <td>0.0</td>\n      <td>0.0</td>\n      <td>1.0</td>\n    </tr>\n    <tr>\n      <th>WIN_20210329_10_16_02_Pro</th>\n      <td>1.0</td>\n      <td>1.0</td>\n      <td>1.0</td>\n      <td>0.0</td>\n      <td>1.0</td>\n      <td>1.0</td>\n      <td>1.0</td>\n      <td>1.0</td>\n    </tr>\n    <tr>\n      <th>WIN_20210330_13_10_29_Pro</th>\n      <td>1.0</td>\n      <td>1.0</td>\n      <td>1.0</td>\n      <td>0.0</td>\n      <td>0.0</td>\n      <td>1.0</td>\n      <td>1.0</td>\n      <td>1.0</td>\n    </tr>\n    <tr>\n      <th>WIN_20210331_21_22_52_Pro</th>\n      <td>1.0</td>\n      <td>0.0</td>\n      <td>1.0</td>\n      <td>1.0</td>\n      <td>0.0</td>\n      <td>1.0</td>\n      <td>0.0</td>\n      <td>0.0</td>\n    </tr>\n    <tr>\n      <th>WIN_20210402_14_27_50_Pro</th>\n      <td>0.0</td>\n      <td>1.0</td>\n      <td>1.0</td>\n      <td>1.0</td>\n      <td>1.0</td>\n      <td>1.0</td>\n      <td>1.0</td>\n      <td>1.0</td>\n    </tr>\n    <tr>\n      <th>WIN_20210402_19_04_53_Pro</th>\n      <td>2.0</td>\n      <td>1.0</td>\n      <td>1.0</td>\n      <td>1.0</td>\n      <td>1.0</td>\n      <td>2.0</td>\n      <td>2.0</td>\n      <td>1.0</td>\n    </tr>\n    <tr>\n      <th>WIN_20210403_18_49_15_Pro</th>\n      <td>0.0</td>\n      <td>0.0</td>\n      <td>1.0</td>\n      <td>0.0</td>\n      <td>1.0</td>\n      <td>0.0</td>\n      <td>1.0</td>\n      <td>0.0</td>\n    </tr>\n    <tr>\n      <th>WIN_20210404_10_58_27_Pro</th>\n      <td>0.0</td>\n      <td>0.0</td>\n      <td>1.0</td>\n      <td>1.0</td>\n      <td>2.0</td>\n      <td>1.0</td>\n      <td>1.0</td>\n      <td>0.0</td>\n    </tr>\n    <tr>\n      <th>WIN_20210404_21_41_12_Pro</th>\n      <td>0.0</td>\n      <td>0.0</td>\n      <td>1.0</td>\n      <td>1.0</td>\n      <td>1.0</td>\n      <td>0.0</td>\n      <td>1.0</td>\n      <td>1.0</td>\n    </tr>\n    <tr>\n      <th>WIN_20210405_15_09_16_Pro</th>\n      <td>1.0</td>\n      <td>0.0</td>\n      <td>1.0</td>\n      <td>1.0</td>\n      <td>1.0</td>\n      <td>2.0</td>\n      <td>0.0</td>\n      <td>0.0</td>\n    </tr>\n    <tr>\n      <th>WIN_20210406_15_06_15_Pro</th>\n      <td>0.0</td>\n      <td>0.0</td>\n      <td>0.0</td>\n      <td>1.0</td>\n      <td>1.0</td>\n      <td>1.0</td>\n      <td>0.0</td>\n      <td>1.0</td>\n    </tr>\n    <tr>\n      <th>WIN_20210406_18_35_52_Pro</th>\n      <td>1.0</td>\n      <td>0.0</td>\n      <td>0.0</td>\n      <td>0.0</td>\n      <td>1.0</td>\n      <td>1.0</td>\n      <td>0.0</td>\n      <td>1.0</td>\n    </tr>\n    <tr>\n      <th>WIN_20210406_18_49_10_Pro</th>\n      <td>1.0</td>\n      <td>0.0</td>\n      <td>0.0</td>\n      <td>1.0</td>\n      <td>1.0</td>\n      <td>1.0</td>\n      <td>1.0</td>\n      <td>0.0</td>\n    </tr>\n    <tr>\n      <th>WIN_20210406_21_05_52_Pro</th>\n      <td>1.0</td>\n      <td>0.0</td>\n      <td>0.0</td>\n      <td>3.0</td>\n      <td>1.0</td>\n      <td>1.0</td>\n      <td>0.0</td>\n      <td>1.0</td>\n    </tr>\n    <tr>\n      <th>WIN_20210407_09_04_05_Pro</th>\n      <td>0.0</td>\n      <td>0.0</td>\n      <td>0.0</td>\n      <td>1.0</td>\n      <td>1.0</td>\n      <td>1.0</td>\n      <td>0.0</td>\n      <td>1.0</td>\n    </tr>\n    <tr>\n      <th>WIN_20210407_14_54_56_Pro_edit2</th>\n      <td>0.0</td>\n      <td>1.0</td>\n      <td>1.0</td>\n      <td>1.0</td>\n      <td>0.0</td>\n      <td>1.0</td>\n      <td>0.0</td>\n      <td>1.0</td>\n    </tr>\n    <tr>\n      <th>WIN_20210408_11_48_58_Pro</th>\n      <td>0.0</td>\n      <td>1.0</td>\n      <td>0.0</td>\n      <td>0.0</td>\n      <td>0.0</td>\n      <td>0.0</td>\n      <td>1.0</td>\n      <td>0.0</td>\n    </tr>\n    <tr>\n      <th>WIN_20210408_14_00_44_Pro</th>\n      <td>1.0</td>\n      <td>0.0</td>\n      <td>1.0</td>\n      <td>1.0</td>\n      <td>0.0</td>\n      <td>2.0</td>\n      <td>1.0</td>\n      <td>1.0</td>\n    </tr>\n    <tr>\n      <th>WIN_20210408_14_02_19_Pro</th>\n      <td>1.0</td>\n      <td>1.0</td>\n      <td>1.0</td>\n      <td>0.0</td>\n      <td>0.0</td>\n      <td>1.0</td>\n      <td>1.0</td>\n      <td>1.0</td>\n    </tr>\n    <tr>\n      <th>WIN_20210408_14_11_32_Pro</th>\n      <td>1.0</td>\n      <td>1.0</td>\n      <td>1.0</td>\n      <td>1.0</td>\n      <td>1.0</td>\n      <td>1.0</td>\n      <td>1.0</td>\n      <td>1.0</td>\n    </tr>\n    <tr>\n      <th>WIN_20210408_15_20_51_Pro</th>\n      <td>1.0</td>\n      <td>1.0</td>\n      <td>1.0</td>\n      <td>0.0</td>\n      <td>0.0</td>\n      <td>0.0</td>\n      <td>0.0</td>\n      <td>1.0</td>\n    </tr>\n    <tr>\n      <th>WIN_20210408_16_04_32_Pro</th>\n      <td>0.0</td>\n      <td>0.0</td>\n      <td>1.0</td>\n      <td>0.0</td>\n      <td>1.0</td>\n      <td>1.0</td>\n      <td>1.0</td>\n      <td>1.0</td>\n    </tr>\n    <tr>\n      <th>WIN_20210409_10_26_11_Pro</th>\n      <td>0.0</td>\n      <td>0.0</td>\n      <td>0.0</td>\n      <td>1.0</td>\n      <td>0.0</td>\n      <td>1.0</td>\n      <td>1.0</td>\n      <td>0.0</td>\n    </tr>\n    <tr>\n      <th>WIN_20210413_15_38_01_Pro</th>\n      <td>1.0</td>\n      <td>0.0</td>\n      <td>1.0</td>\n      <td>0.0</td>\n      <td>0.0</td>\n      <td>1.0</td>\n      <td>0.0</td>\n      <td>1.0</td>\n    </tr>\n    <tr>\n      <th>WIN_20210414_06_24_52_Pro</th>\n      <td>2.0</td>\n      <td>2.0</td>\n      <td>2.0</td>\n      <td>2.0</td>\n      <td>2.0</td>\n      <td>2.0</td>\n      <td>2.0</td>\n      <td>2.0</td>\n    </tr>\n    <tr>\n      <th>WIN_20210415_15_41_24_Pro</th>\n      <td>1.0</td>\n      <td>0.0</td>\n      <td>0.0</td>\n      <td>1.0</td>\n      <td>0.0</td>\n      <td>1.0</td>\n      <td>1.0</td>\n      <td>1.0</td>\n    </tr>\n    <tr>\n      <th>WIN_20210416_08_06_54_Pro</th>\n      <td>1.0</td>\n      <td>1.0</td>\n      <td>1.0</td>\n      <td>1.0</td>\n      <td>1.0</td>\n      <td>1.0</td>\n      <td>1.0</td>\n      <td>1.0</td>\n    </tr>\n    <tr>\n      <th>WIN_20210417_14_53_12_Pro</th>\n      <td>1.0</td>\n      <td>0.0</td>\n      <td>1.0</td>\n      <td>0.0</td>\n      <td>0.0</td>\n      <td>0.0</td>\n      <td>0.0</td>\n      <td>1.0</td>\n    </tr>\n  </tbody>\n</table>\n</div>"
     },
     "metadata": {},
     "execution_count": 9
    }
   ],
   "source": [
    "ypredict_stress_diapo"
   ]
  },
  {
   "cell_type": "code",
   "execution_count": 10,
   "metadata": {},
   "outputs": [
    {
     "output_type": "execute_result",
     "data": {
      "text/plain": [
       "                                   1    8    9   10   11   12   17   18  \\\n",
       "video_name                                                                \n",
       "Test_pour_AFPA                   1.0  1.0  0.0  0.0  0.0  1.0  0.0  1.0   \n",
       "Video_1                          0.0  0.0  0.0  0.0  1.0  1.0  1.0  1.0   \n",
       "WIN_20210323_19_17_40_Pro        1.0  0.0  1.0  1.0  1.0  1.0  1.0  1.0   \n",
       "WIN_20210329_10_16_02_Pro        0.0  0.0  1.0  1.0  0.0  1.0  0.0  0.0   \n",
       "WIN_20210330_13_10_29_Pro        0.0  0.0  0.0  0.0  1.0  0.0  0.0  0.0   \n",
       "WIN_20210331_21_22_52_Pro        0.0  0.0  1.0  1.0  1.0  1.0  0.0  0.0   \n",
       "WIN_20210402_14_27_50_Pro        1.0  1.0  1.0  2.0  1.0  1.0  1.0  1.0   \n",
       "WIN_20210402_19_04_53_Pro        2.0  1.0  1.0  1.0  1.0  2.0  1.0  2.0   \n",
       "WIN_20210403_18_49_15_Pro        1.0  1.0  1.0  1.0  1.0  2.0  2.0  1.0   \n",
       "WIN_20210404_10_58_27_Pro        0.0  1.0  1.0  1.0  1.0  1.0  1.0  1.0   \n",
       "WIN_20210404_21_41_12_Pro        0.0  0.0  1.0  0.0  0.0  1.0  0.0  1.0   \n",
       "WIN_20210405_15_09_16_Pro        0.0  1.0  1.0  1.0  1.0  0.0  0.0  1.0   \n",
       "WIN_20210406_15_06_15_Pro        1.0  1.0  1.0  1.0  1.0  2.0  1.0  2.0   \n",
       "WIN_20210406_18_35_52_Pro        0.0  0.0  1.0  0.0  0.0  1.0  0.0  1.0   \n",
       "WIN_20210406_18_49_10_Pro        1.0  0.0  1.0  1.0  1.0  1.0  1.0  1.0   \n",
       "WIN_20210406_21_05_52_Pro        1.0  2.0  2.0  1.0  2.0  1.0  1.0  1.0   \n",
       "WIN_20210407_09_04_05_Pro        0.0  0.0  2.0  1.0  3.0  1.0  0.0  2.0   \n",
       "WIN_20210407_14_54_56_Pro_edit2  0.0  0.0  0.0  0.0  0.0  1.0  0.0  1.0   \n",
       "WIN_20210408_11_48_58_Pro        0.0  1.0  1.0  1.0  1.0  1.0  1.0  2.0   \n",
       "WIN_20210408_14_00_44_Pro        0.0  0.0  0.0  0.0  0.0  1.0  0.0  0.0   \n",
       "WIN_20210408_14_02_19_Pro        0.0  1.0  0.0  0.0  0.0  0.0  0.0  1.0   \n",
       "WIN_20210408_14_11_32_Pro        0.0  2.0  2.0  2.0  2.0  1.0  0.0  1.0   \n",
       "WIN_20210408_15_20_51_Pro        0.0  0.0  0.0  0.0  0.0  0.0  0.0  0.0   \n",
       "WIN_20210408_16_04_32_Pro        0.0  0.0  1.0  0.0  0.0  0.0  0.0  0.0   \n",
       "WIN_20210409_10_26_11_Pro        1.0  1.0  0.0  1.0  0.0  0.0  1.0  1.0   \n",
       "WIN_20210413_15_38_01_Pro        1.0  0.0  0.0  0.0  0.0  1.0  1.0  1.0   \n",
       "WIN_20210414_06_24_52_Pro        2.0  2.0  2.0  2.0  2.0  1.0  1.0  2.0   \n",
       "WIN_20210415_15_41_24_Pro        1.0  0.0  0.0  1.0  0.0  0.0  0.0  0.0   \n",
       "WIN_20210416_08_06_54_Pro        1.0  2.0  1.0  1.0  1.0  0.0  0.0  1.0   \n",
       "WIN_20210417_14_53_12_Pro        0.0  0.0  0.0  0.0  0.0  0.0  1.0  1.0   \n",
       "\n",
       "                                 stress_global  \n",
       "video_name                                      \n",
       "Test_pour_AFPA                             1.0  \n",
       "Video_1                                    0.0  \n",
       "WIN_20210323_19_17_40_Pro                  1.0  \n",
       "WIN_20210329_10_16_02_Pro                  1.0  \n",
       "WIN_20210330_13_10_29_Pro                  0.0  \n",
       "WIN_20210331_21_22_52_Pro                  1.0  \n",
       "WIN_20210402_14_27_50_Pro                  1.0  \n",
       "WIN_20210402_19_04_53_Pro                  2.0  \n",
       "WIN_20210403_18_49_15_Pro                  2.0  \n",
       "WIN_20210404_10_58_27_Pro                  1.0  \n",
       "WIN_20210404_21_41_12_Pro                  0.0  \n",
       "WIN_20210405_15_09_16_Pro                  1.0  \n",
       "WIN_20210406_15_06_15_Pro                  2.0  \n",
       "WIN_20210406_18_35_52_Pro                  0.0  \n",
       "WIN_20210406_18_49_10_Pro                  1.0  \n",
       "WIN_20210406_21_05_52_Pro                  2.0  \n",
       "WIN_20210407_09_04_05_Pro                  2.0  \n",
       "WIN_20210407_14_54_56_Pro_edit2            0.0  \n",
       "WIN_20210408_11_48_58_Pro                  2.0  \n",
       "WIN_20210408_14_00_44_Pro                  0.0  \n",
       "WIN_20210408_14_02_19_Pro                  0.0  \n",
       "WIN_20210408_14_11_32_Pro                  2.0  \n",
       "WIN_20210408_15_20_51_Pro                  0.0  \n",
       "WIN_20210408_16_04_32_Pro                  0.0  \n",
       "WIN_20210409_10_26_11_Pro                  0.0  \n",
       "WIN_20210413_15_38_01_Pro                  1.0  \n",
       "WIN_20210414_06_24_52_Pro                  2.0  \n",
       "WIN_20210415_15_41_24_Pro                  0.0  \n",
       "WIN_20210416_08_06_54_Pro                  1.0  \n",
       "WIN_20210417_14_53_12_Pro                  0.0  "
      ],
      "text/html": "<div>\n<style scoped>\n    .dataframe tbody tr th:only-of-type {\n        vertical-align: middle;\n    }\n\n    .dataframe tbody tr th {\n        vertical-align: top;\n    }\n\n    .dataframe thead th {\n        text-align: right;\n    }\n</style>\n<table border=\"1\" class=\"dataframe\">\n  <thead>\n    <tr style=\"text-align: right;\">\n      <th></th>\n      <th>1</th>\n      <th>8</th>\n      <th>9</th>\n      <th>10</th>\n      <th>11</th>\n      <th>12</th>\n      <th>17</th>\n      <th>18</th>\n      <th>stress_global</th>\n    </tr>\n    <tr>\n      <th>video_name</th>\n      <th></th>\n      <th></th>\n      <th></th>\n      <th></th>\n      <th></th>\n      <th></th>\n      <th></th>\n      <th></th>\n      <th></th>\n    </tr>\n  </thead>\n  <tbody>\n    <tr>\n      <th>Test_pour_AFPA</th>\n      <td>1.0</td>\n      <td>1.0</td>\n      <td>0.0</td>\n      <td>0.0</td>\n      <td>0.0</td>\n      <td>1.0</td>\n      <td>0.0</td>\n      <td>1.0</td>\n      <td>1.0</td>\n    </tr>\n    <tr>\n      <th>Video_1</th>\n      <td>0.0</td>\n      <td>0.0</td>\n      <td>0.0</td>\n      <td>0.0</td>\n      <td>1.0</td>\n      <td>1.0</td>\n      <td>1.0</td>\n      <td>1.0</td>\n      <td>0.0</td>\n    </tr>\n    <tr>\n      <th>WIN_20210323_19_17_40_Pro</th>\n      <td>1.0</td>\n      <td>0.0</td>\n      <td>1.0</td>\n      <td>1.0</td>\n      <td>1.0</td>\n      <td>1.0</td>\n      <td>1.0</td>\n      <td>1.0</td>\n      <td>1.0</td>\n    </tr>\n    <tr>\n      <th>WIN_20210329_10_16_02_Pro</th>\n      <td>0.0</td>\n      <td>0.0</td>\n      <td>1.0</td>\n      <td>1.0</td>\n      <td>0.0</td>\n      <td>1.0</td>\n      <td>0.0</td>\n      <td>0.0</td>\n      <td>1.0</td>\n    </tr>\n    <tr>\n      <th>WIN_20210330_13_10_29_Pro</th>\n      <td>0.0</td>\n      <td>0.0</td>\n      <td>0.0</td>\n      <td>0.0</td>\n      <td>1.0</td>\n      <td>0.0</td>\n      <td>0.0</td>\n      <td>0.0</td>\n      <td>0.0</td>\n    </tr>\n    <tr>\n      <th>WIN_20210331_21_22_52_Pro</th>\n      <td>0.0</td>\n      <td>0.0</td>\n      <td>1.0</td>\n      <td>1.0</td>\n      <td>1.0</td>\n      <td>1.0</td>\n      <td>0.0</td>\n      <td>0.0</td>\n      <td>1.0</td>\n    </tr>\n    <tr>\n      <th>WIN_20210402_14_27_50_Pro</th>\n      <td>1.0</td>\n      <td>1.0</td>\n      <td>1.0</td>\n      <td>2.0</td>\n      <td>1.0</td>\n      <td>1.0</td>\n      <td>1.0</td>\n      <td>1.0</td>\n      <td>1.0</td>\n    </tr>\n    <tr>\n      <th>WIN_20210402_19_04_53_Pro</th>\n      <td>2.0</td>\n      <td>1.0</td>\n      <td>1.0</td>\n      <td>1.0</td>\n      <td>1.0</td>\n      <td>2.0</td>\n      <td>1.0</td>\n      <td>2.0</td>\n      <td>2.0</td>\n    </tr>\n    <tr>\n      <th>WIN_20210403_18_49_15_Pro</th>\n      <td>1.0</td>\n      <td>1.0</td>\n      <td>1.0</td>\n      <td>1.0</td>\n      <td>1.0</td>\n      <td>2.0</td>\n      <td>2.0</td>\n      <td>1.0</td>\n      <td>2.0</td>\n    </tr>\n    <tr>\n      <th>WIN_20210404_10_58_27_Pro</th>\n      <td>0.0</td>\n      <td>1.0</td>\n      <td>1.0</td>\n      <td>1.0</td>\n      <td>1.0</td>\n      <td>1.0</td>\n      <td>1.0</td>\n      <td>1.0</td>\n      <td>1.0</td>\n    </tr>\n    <tr>\n      <th>WIN_20210404_21_41_12_Pro</th>\n      <td>0.0</td>\n      <td>0.0</td>\n      <td>1.0</td>\n      <td>0.0</td>\n      <td>0.0</td>\n      <td>1.0</td>\n      <td>0.0</td>\n      <td>1.0</td>\n      <td>0.0</td>\n    </tr>\n    <tr>\n      <th>WIN_20210405_15_09_16_Pro</th>\n      <td>0.0</td>\n      <td>1.0</td>\n      <td>1.0</td>\n      <td>1.0</td>\n      <td>1.0</td>\n      <td>0.0</td>\n      <td>0.0</td>\n      <td>1.0</td>\n      <td>1.0</td>\n    </tr>\n    <tr>\n      <th>WIN_20210406_15_06_15_Pro</th>\n      <td>1.0</td>\n      <td>1.0</td>\n      <td>1.0</td>\n      <td>1.0</td>\n      <td>1.0</td>\n      <td>2.0</td>\n      <td>1.0</td>\n      <td>2.0</td>\n      <td>2.0</td>\n    </tr>\n    <tr>\n      <th>WIN_20210406_18_35_52_Pro</th>\n      <td>0.0</td>\n      <td>0.0</td>\n      <td>1.0</td>\n      <td>0.0</td>\n      <td>0.0</td>\n      <td>1.0</td>\n      <td>0.0</td>\n      <td>1.0</td>\n      <td>0.0</td>\n    </tr>\n    <tr>\n      <th>WIN_20210406_18_49_10_Pro</th>\n      <td>1.0</td>\n      <td>0.0</td>\n      <td>1.0</td>\n      <td>1.0</td>\n      <td>1.0</td>\n      <td>1.0</td>\n      <td>1.0</td>\n      <td>1.0</td>\n      <td>1.0</td>\n    </tr>\n    <tr>\n      <th>WIN_20210406_21_05_52_Pro</th>\n      <td>1.0</td>\n      <td>2.0</td>\n      <td>2.0</td>\n      <td>1.0</td>\n      <td>2.0</td>\n      <td>1.0</td>\n      <td>1.0</td>\n      <td>1.0</td>\n      <td>2.0</td>\n    </tr>\n    <tr>\n      <th>WIN_20210407_09_04_05_Pro</th>\n      <td>0.0</td>\n      <td>0.0</td>\n      <td>2.0</td>\n      <td>1.0</td>\n      <td>3.0</td>\n      <td>1.0</td>\n      <td>0.0</td>\n      <td>2.0</td>\n      <td>2.0</td>\n    </tr>\n    <tr>\n      <th>WIN_20210407_14_54_56_Pro_edit2</th>\n      <td>0.0</td>\n      <td>0.0</td>\n      <td>0.0</td>\n      <td>0.0</td>\n      <td>0.0</td>\n      <td>1.0</td>\n      <td>0.0</td>\n      <td>1.0</td>\n      <td>0.0</td>\n    </tr>\n    <tr>\n      <th>WIN_20210408_11_48_58_Pro</th>\n      <td>0.0</td>\n      <td>1.0</td>\n      <td>1.0</td>\n      <td>1.0</td>\n      <td>1.0</td>\n      <td>1.0</td>\n      <td>1.0</td>\n      <td>2.0</td>\n      <td>2.0</td>\n    </tr>\n    <tr>\n      <th>WIN_20210408_14_00_44_Pro</th>\n      <td>0.0</td>\n      <td>0.0</td>\n      <td>0.0</td>\n      <td>0.0</td>\n      <td>0.0</td>\n      <td>1.0</td>\n      <td>0.0</td>\n      <td>0.0</td>\n      <td>0.0</td>\n    </tr>\n    <tr>\n      <th>WIN_20210408_14_02_19_Pro</th>\n      <td>0.0</td>\n      <td>1.0</td>\n      <td>0.0</td>\n      <td>0.0</td>\n      <td>0.0</td>\n      <td>0.0</td>\n      <td>0.0</td>\n      <td>1.0</td>\n      <td>0.0</td>\n    </tr>\n    <tr>\n      <th>WIN_20210408_14_11_32_Pro</th>\n      <td>0.0</td>\n      <td>2.0</td>\n      <td>2.0</td>\n      <td>2.0</td>\n      <td>2.0</td>\n      <td>1.0</td>\n      <td>0.0</td>\n      <td>1.0</td>\n      <td>2.0</td>\n    </tr>\n    <tr>\n      <th>WIN_20210408_15_20_51_Pro</th>\n      <td>0.0</td>\n      <td>0.0</td>\n      <td>0.0</td>\n      <td>0.0</td>\n      <td>0.0</td>\n      <td>0.0</td>\n      <td>0.0</td>\n      <td>0.0</td>\n      <td>0.0</td>\n    </tr>\n    <tr>\n      <th>WIN_20210408_16_04_32_Pro</th>\n      <td>0.0</td>\n      <td>0.0</td>\n      <td>1.0</td>\n      <td>0.0</td>\n      <td>0.0</td>\n      <td>0.0</td>\n      <td>0.0</td>\n      <td>0.0</td>\n      <td>0.0</td>\n    </tr>\n    <tr>\n      <th>WIN_20210409_10_26_11_Pro</th>\n      <td>1.0</td>\n      <td>1.0</td>\n      <td>0.0</td>\n      <td>1.0</td>\n      <td>0.0</td>\n      <td>0.0</td>\n      <td>1.0</td>\n      <td>1.0</td>\n      <td>0.0</td>\n    </tr>\n    <tr>\n      <th>WIN_20210413_15_38_01_Pro</th>\n      <td>1.0</td>\n      <td>0.0</td>\n      <td>0.0</td>\n      <td>0.0</td>\n      <td>0.0</td>\n      <td>1.0</td>\n      <td>1.0</td>\n      <td>1.0</td>\n      <td>1.0</td>\n    </tr>\n    <tr>\n      <th>WIN_20210414_06_24_52_Pro</th>\n      <td>2.0</td>\n      <td>2.0</td>\n      <td>2.0</td>\n      <td>2.0</td>\n      <td>2.0</td>\n      <td>1.0</td>\n      <td>1.0</td>\n      <td>2.0</td>\n      <td>2.0</td>\n    </tr>\n    <tr>\n      <th>WIN_20210415_15_41_24_Pro</th>\n      <td>1.0</td>\n      <td>0.0</td>\n      <td>0.0</td>\n      <td>1.0</td>\n      <td>0.0</td>\n      <td>0.0</td>\n      <td>0.0</td>\n      <td>0.0</td>\n      <td>0.0</td>\n    </tr>\n    <tr>\n      <th>WIN_20210416_08_06_54_Pro</th>\n      <td>1.0</td>\n      <td>2.0</td>\n      <td>1.0</td>\n      <td>1.0</td>\n      <td>1.0</td>\n      <td>0.0</td>\n      <td>0.0</td>\n      <td>1.0</td>\n      <td>1.0</td>\n    </tr>\n    <tr>\n      <th>WIN_20210417_14_53_12_Pro</th>\n      <td>0.0</td>\n      <td>0.0</td>\n      <td>0.0</td>\n      <td>0.0</td>\n      <td>0.0</td>\n      <td>0.0</td>\n      <td>1.0</td>\n      <td>1.0</td>\n      <td>0.0</td>\n    </tr>\n  </tbody>\n</table>\n</div>"
     },
     "metadata": {},
     "execution_count": 10
    }
   ],
   "source": [
    "df_annotations_stress = pd.read_csv('annotations.csv')\n",
    "df_annotations_stress = df_annotations_stress.set_index(['video_name'])\n",
    "df_annotations_stress"
   ]
  },
  {
   "cell_type": "code",
   "execution_count": 11,
   "metadata": {},
   "outputs": [],
   "source": [
    "Xy = ypredict_stress_diapo.merge(df_annotations_stress.iloc[:,-1],how='inner',on='video_name')\n",
    "X = Xy.iloc[:,:-1]\n",
    "y = Xy.iloc[:,-1]"
   ]
  },
  {
   "cell_type": "code",
   "execution_count": 12,
   "metadata": {},
   "outputs": [],
   "source": [
    "from sklearn.linear_model import LogisticRegression\n",
    "from sklearn.neighbors import KNeighborsClassifier\n",
    "from sklearn.ensemble import RandomForestClassifier\n",
    "from sklearn.model_selection import LeaveOneGroupOut\n",
    "from sklearn.decomposition import PCA\n",
    "from sklearn.pipeline import Pipeline\n",
    "\n",
    "pca = PCA()\n",
    "\n",
    "models_list = [\n",
    "                LogisticRegression(multi_class='multinomial', fit_intercept=True, random_state=42),\n",
    "                Pipeline(steps=[('pca', pca), ('logistic', LogisticRegression(multi_class='multinomial', fit_intercept=True))]),\n",
    "                KNeighborsClassifier(),\n",
    "                Pipeline(steps=[('pca', pca), ('knn', KNeighborsClassifier())]),\n",
    "                RandomForestClassifier(random_state = 42, n_jobs=-1)\n",
    "                ]\n",
    "\n",
    "parameters_list = [\n",
    "                    {'C': [0.01, 0.05, 0.1, 0.5, 1, 2, 3, 4 , 5, 10], 'class_weight' : [None, 'balanced']},\n",
    "                    {'pca__n_components': [1, 2, 3, 4],\n",
    "                        'logistic__C': [0.01, 0.05, 0.1, 0.5, 1, 2, 3, 4 , 5, 10], 'logistic__class_weight' : [None, 'balanced']},\n",
    "                    {'n_neighbors': [4, 5, 6, 7, 8, 9, 10, 11, 12,  15, 20], 'weights' : ['uniform', 'distance'], 'p': [1, 2]},\n",
    "                    {'pca__n_components': [1, 2, 3, 4],\n",
    "                        'knn__n_neighbors': [4, 5, 6, 7, 8, 9, 10, 11, 12,  15, 20], 'knn__weights' : ['uniform', 'distance'],                              'knn__p': [1, 2]},\n",
    "                    {'n_estimators': [50, 100, 150, 200], 'max_depth':[3, 4, 5, 6, 10, 15, 20], 'class_weight':[None,'balanced']}\n",
    "                    ]\n",
    "\n",
    "#groups = X.reset_index()['video_name']\n",
    "#loo = LeaveOneGroupOut()\n",
    "#cv_loo = loo.split(X, y, groups)"
   ]
  },
  {
   "cell_type": "code",
   "execution_count": 13,
   "metadata": {},
   "outputs": [
    {
     "output_type": "stream",
     "name": "stdout",
     "text": [
      "Fitting 5 folds for each of 20 candidates, totalling 100 fits\n",
      "[Parallel(n_jobs=-1)]: Using backend LokyBackend with 8 concurrent workers.\n",
      "[Parallel(n_jobs=-1)]: Done  34 tasks      | elapsed:    2.3s\n",
      "[Parallel(n_jobs=-1)]: Done 100 out of 100 | elapsed:    2.6s finished\n",
      "[Parallel(n_jobs=-1)]: Using backend LokyBackend with 8 concurrent workers.\n",
      "Best estimator LogisticRegression(C=10, class_weight='balanced', multi_class='multinomial',\n",
      "                   random_state=42)\n",
      "Best results 0.45\n",
      "Best params {'C': 10, 'class_weight': 'balanced'}\n",
      "accuracy (mean, std) 0.4333333333333333 0.13333333333333333\n",
      "f1 (mean, std) 0.45 0.12202003478482085\n",
      "balanced accuracy (mean, std) 0.4 0.1625415426480866\n",
      "precision (mean, std) 0.5444444444444445 0.13788526273323173\n",
      "recall (mean, std) 0.4333333333333333 0.13333333333333333\n",
      "\n",
      "Fitting 5 folds for each of 80 candidates, totalling 400 fits\n",
      "[Parallel(n_jobs=-1)]: Done  56 tasks      | elapsed:    0.4s\n",
      "[Parallel(n_jobs=-1)]: Done 385 out of 400 | elapsed:    1.5s remaining:    0.1s\n",
      "[Parallel(n_jobs=-1)]: Done 400 out of 400 | elapsed:    1.6s finished\n",
      "[Parallel(n_jobs=-1)]: Using backend LokyBackend with 8 concurrent workers.\n",
      "Best estimator Pipeline(steps=[('pca', PCA(n_components=3)),\n",
      "                ('logistic',\n",
      "                 LogisticRegression(C=5, class_weight='balanced',\n",
      "                                    multi_class='multinomial'))])\n",
      "Best results 0.4038095238095238\n",
      "Best params {'logistic__C': 5, 'logistic__class_weight': 'balanced', 'pca__n_components': 3}\n",
      "accuracy (mean, std) 0.4333333333333333 0.2260776661041756\n",
      "f1 (mean, std) 0.4038095238095238 0.21894775731520644\n",
      "balanced accuracy (mean, std) 0.42222222222222217 0.22933074933944766\n",
      "precision (mean, std) 0.4 0.23674750836291683\n",
      "recall (mean, std) 0.4333333333333333 0.2260776661041756\n",
      "\n",
      "Fitting 5 folds for each of 44 candidates, totalling 220 fits\n",
      "[Parallel(n_jobs=-1)]: Done  56 tasks      | elapsed:    0.2s\n",
      "[Parallel(n_jobs=-1)]: Done 220 out of 220 | elapsed:    0.6s finished\n",
      "[Parallel(n_jobs=-1)]: Using backend LokyBackend with 8 concurrent workers.\n",
      "Best estimator KNeighborsClassifier(n_neighbors=4, p=1, weights='distance')\n",
      "Best results 0.4663492063492064\n",
      "Best params {'n_neighbors': 4, 'p': 1, 'weights': 'distance'}\n",
      "accuracy (mean, std) 0.5 0.10540925533894598\n",
      "f1 (mean, std) 0.4663492063492064 0.10198533134981527\n",
      "balanced accuracy (mean, std) 0.45555555555555555 0.146565621758588\n",
      "precision (mean, std) 0.51 0.1711399687065792\n",
      "recall (mean, std) 0.5 0.10540925533894598\n",
      "\n",
      "Fitting 5 folds for each of 176 candidates, totalling 880 fits\n",
      "[Parallel(n_jobs=-1)]: Done  56 tasks      | elapsed:    0.3s\n",
      "[Parallel(n_jobs=-1)]: Done 880 out of 880 | elapsed:    2.5s finished\n",
      "[Parallel(n_jobs=-1)]: Using backend LokyBackend with 8 concurrent workers.\n",
      "Best estimator Pipeline(steps=[('pca', PCA(n_components=3)),\n",
      "                ('knn',\n",
      "                 KNeighborsClassifier(n_neighbors=4, p=1, weights='distance'))])\n",
      "Best results 0.4852380952380953\n",
      "Best params {'knn__n_neighbors': 4, 'knn__p': 1, 'knn__weights': 'distance', 'pca__n_components': 3}\n",
      "accuracy (mean, std) 0.5333333333333333 0.12472191289246472\n",
      "f1 (mean, std) 0.4852380952380953 0.15472209500192216\n",
      "balanced accuracy (mean, std) 0.5222222222222221 0.1632993161855452\n",
      "precision (mean, std) 0.5055555555555555 0.1983263304085802\n",
      "recall (mean, std) 0.5333333333333333 0.12472191289246472\n",
      "\n",
      "Fitting 5 folds for each of 56 candidates, totalling 280 fits\n",
      "[Parallel(n_jobs=-1)]: Done  34 tasks      | elapsed:    2.3s\n",
      "[Parallel(n_jobs=-1)]: Done 184 tasks      | elapsed:   11.4s\n",
      "[Parallel(n_jobs=-1)]: Done 280 out of 280 | elapsed:   17.1s finished\n",
      "Best estimator RandomForestClassifier(max_depth=4, n_estimators=200, n_jobs=-1,\n",
      "                       random_state=42)\n",
      "Best results 0.5174603174603175\n",
      "Best params {'class_weight': None, 'max_depth': 4, 'n_estimators': 200}\n",
      "accuracy (mean, std) 0.5333333333333333 0.12472191289246472\n",
      "f1 (mean, std) 0.5174603174603175 0.11860871473413895\n",
      "balanced accuracy (mean, std) 0.4888888888888888 0.16996731711975951\n",
      "precision (mean, std) 0.5877777777777778 0.16126046716912656\n",
      "recall (mean, std) 0.5333333333333333 0.12472191289246472\n",
      "\n",
      "f1_score (weighted) 0.529015873015873\n",
      "accuracy 0.5333333333333333\n"
     ]
    }
   ],
   "source": [
    "best_result, y_predict, y_predict_proba, result_list = runGridSearchClassifiers(X, y, 5, models_list, parameters_list, \n",
    "                                                                output_predict=True, n_jobs=-1, verbose=True)"
   ]
  },
  {
   "cell_type": "code",
   "execution_count": 14,
   "metadata": {},
   "outputs": [
    {
     "output_type": "execute_result",
     "data": {
      "text/plain": [
       "{'best_estimator': RandomForestClassifier(max_depth=4, n_estimators=200, n_jobs=-1,\n",
       "                        random_state=42),\n",
       " 'best_score': 0.5174603174603175,\n",
       " 'best_params': {'class_weight': None, 'max_depth': 4, 'n_estimators': 200},\n",
       " 'mean_test_f1_score': 0.5174603174603175,\n",
       " 'std_test_f1_score': 0.11860871473413895,\n",
       " 'mean_test_accuracy_score': 0.5333333333333333,\n",
       " 'std_test_accuracy_score': 0.12472191289246472,\n",
       " 'mean_test_balanced_accuracy_score': 0.4888888888888888,\n",
       " 'std_test_balanced_accuracy_score': 0.16996731711975951,\n",
       " 'mean_test_precision': 0.5877777777777778,\n",
       " 'std_test_precision': 0.16126046716912656,\n",
       " 'mean_test_recall': 0.5333333333333333,\n",
       " 'std_test_recall': 0.12472191289246472}"
      ]
     },
     "metadata": {},
     "execution_count": 14
    }
   ],
   "source": [
    "best_result"
   ]
  },
  {
   "cell_type": "code",
   "execution_count": 32,
   "metadata": {},
   "outputs": [],
   "source": [
    "# Saving predictions\n",
    "df_ypredict = pd.concat([X.reset_index()[['video_name']],\n",
    "                        pd.DataFrame(y_predict, columns=['ypredict'])],axis=1)\n",
    "df_ypredict.to_csv('ypredict_' + features + '_tw5_global' + diapo_selection + '.csv')"
   ]
  },
  {
   "cell_type": "code",
   "execution_count": 26,
   "metadata": {},
   "outputs": [],
   "source": [
    "# Saving predict proba\n",
    "df_ypredict = pd.concat([X.reset_index()[['video_name']],\n",
    "                        pd.DataFrame(proba, columns=['stress_global_proba_0','stress_global_proba_1','stress_global_proba_2'])],axis=1)\n",
    "df_ypredict.to_csv('ypredict_' + features + '_tw5_global_proba' + diapo_selection + '.csv')"
   ]
  },
  {
   "cell_type": "markdown",
   "metadata": {},
   "source": [
    "#### Autre méthode"
   ]
  },
  {
   "cell_type": "markdown",
   "metadata": {},
   "source": [
    "### En utilisant le stress prédit des time windows 5s"
   ]
  },
  {
   "cell_type": "code",
   "execution_count": 46,
   "metadata": {},
   "outputs": [
    {
     "output_type": "execute_result",
     "data": {
      "text/plain": [
       "ypredict                                0         1         2\n",
       "video_name                                                   \n",
       "Test_pour_AFPA                   0.158730  0.296296  0.544974\n",
       "Video_1                          0.357616  0.642384  0.000000\n",
       "WIN_20210323_19_17_40_Pro        0.392857  0.607143  0.000000\n",
       "WIN_20210329_10_16_02_Pro        0.034014  0.965986  0.000000\n",
       "WIN_20210330_13_10_29_Pro        0.059603  0.933775  0.006623\n",
       "WIN_20210331_21_22_52_Pro        0.258824  0.741176  0.000000\n",
       "WIN_20210402_14_27_50_Pro        0.016129  0.983871  0.000000\n",
       "WIN_20210402_19_04_53_Pro        0.920000  0.080000  0.000000\n",
       "WIN_20210403_18_49_15_Pro        0.248619  0.751381  0.000000\n",
       "WIN_20210404_10_58_27_Pro        0.705000  0.190000  0.105000\n",
       "WIN_20210404_21_41_12_Pro        0.284483  0.715517  0.000000\n",
       "WIN_20210405_15_09_16_Pro        0.483871  0.509677  0.006452\n",
       "WIN_20210406_15_06_15_Pro        0.165854  0.834146  0.000000\n",
       "WIN_20210406_18_35_52_Pro        0.518987  0.481013  0.000000\n",
       "WIN_20210406_18_49_10_Pro        0.292398  0.707602  0.000000\n",
       "WIN_20210406_21_05_52_Pro        0.383784  0.616216  0.000000\n",
       "WIN_20210407_09_04_05_Pro        0.476440  0.523560  0.000000\n",
       "WIN_20210407_14_54_56_Pro_edit2  0.389937  0.610063  0.000000\n",
       "WIN_20210408_11_48_58_Pro        0.080000  0.773333  0.146667\n",
       "WIN_20210408_14_00_44_Pro        0.213483  0.786517  0.000000\n",
       "WIN_20210408_14_02_19_Pro        0.441176  0.558824  0.000000\n",
       "WIN_20210408_14_11_32_Pro        0.000000  1.000000  0.000000\n",
       "WIN_20210408_15_20_51_Pro        0.220588  0.235294  0.544118\n",
       "WIN_20210408_16_04_32_Pro        0.152941  0.847059  0.000000\n",
       "WIN_20210409_10_26_11_Pro        0.676301  0.323699  0.000000\n",
       "WIN_20210413_15_38_01_Pro        0.202312  0.797688  0.000000\n",
       "WIN_20210414_06_24_52_Pro        0.994819  0.005181  0.000000\n",
       "WIN_20210415_15_41_24_Pro        0.470046  0.529954  0.000000\n",
       "WIN_20210416_08_06_54_Pro        0.000000  1.000000  0.000000\n",
       "WIN_20210417_14_53_12_Pro        0.404580  0.595420  0.000000"
      ],
      "text/html": "<div>\n<style scoped>\n    .dataframe tbody tr th:only-of-type {\n        vertical-align: middle;\n    }\n\n    .dataframe tbody tr th {\n        vertical-align: top;\n    }\n\n    .dataframe thead th {\n        text-align: right;\n    }\n</style>\n<table border=\"1\" class=\"dataframe\">\n  <thead>\n    <tr style=\"text-align: right;\">\n      <th>ypredict</th>\n      <th>0</th>\n      <th>1</th>\n      <th>2</th>\n    </tr>\n    <tr>\n      <th>video_name</th>\n      <th></th>\n      <th></th>\n      <th></th>\n    </tr>\n  </thead>\n  <tbody>\n    <tr>\n      <th>Test_pour_AFPA</th>\n      <td>0.158730</td>\n      <td>0.296296</td>\n      <td>0.544974</td>\n    </tr>\n    <tr>\n      <th>Video_1</th>\n      <td>0.357616</td>\n      <td>0.642384</td>\n      <td>0.000000</td>\n    </tr>\n    <tr>\n      <th>WIN_20210323_19_17_40_Pro</th>\n      <td>0.392857</td>\n      <td>0.607143</td>\n      <td>0.000000</td>\n    </tr>\n    <tr>\n      <th>WIN_20210329_10_16_02_Pro</th>\n      <td>0.034014</td>\n      <td>0.965986</td>\n      <td>0.000000</td>\n    </tr>\n    <tr>\n      <th>WIN_20210330_13_10_29_Pro</th>\n      <td>0.059603</td>\n      <td>0.933775</td>\n      <td>0.006623</td>\n    </tr>\n    <tr>\n      <th>WIN_20210331_21_22_52_Pro</th>\n      <td>0.258824</td>\n      <td>0.741176</td>\n      <td>0.000000</td>\n    </tr>\n    <tr>\n      <th>WIN_20210402_14_27_50_Pro</th>\n      <td>0.016129</td>\n      <td>0.983871</td>\n      <td>0.000000</td>\n    </tr>\n    <tr>\n      <th>WIN_20210402_19_04_53_Pro</th>\n      <td>0.920000</td>\n      <td>0.080000</td>\n      <td>0.000000</td>\n    </tr>\n    <tr>\n      <th>WIN_20210403_18_49_15_Pro</th>\n      <td>0.248619</td>\n      <td>0.751381</td>\n      <td>0.000000</td>\n    </tr>\n    <tr>\n      <th>WIN_20210404_10_58_27_Pro</th>\n      <td>0.705000</td>\n      <td>0.190000</td>\n      <td>0.105000</td>\n    </tr>\n    <tr>\n      <th>WIN_20210404_21_41_12_Pro</th>\n      <td>0.284483</td>\n      <td>0.715517</td>\n      <td>0.000000</td>\n    </tr>\n    <tr>\n      <th>WIN_20210405_15_09_16_Pro</th>\n      <td>0.483871</td>\n      <td>0.509677</td>\n      <td>0.006452</td>\n    </tr>\n    <tr>\n      <th>WIN_20210406_15_06_15_Pro</th>\n      <td>0.165854</td>\n      <td>0.834146</td>\n      <td>0.000000</td>\n    </tr>\n    <tr>\n      <th>WIN_20210406_18_35_52_Pro</th>\n      <td>0.518987</td>\n      <td>0.481013</td>\n      <td>0.000000</td>\n    </tr>\n    <tr>\n      <th>WIN_20210406_18_49_10_Pro</th>\n      <td>0.292398</td>\n      <td>0.707602</td>\n      <td>0.000000</td>\n    </tr>\n    <tr>\n      <th>WIN_20210406_21_05_52_Pro</th>\n      <td>0.383784</td>\n      <td>0.616216</td>\n      <td>0.000000</td>\n    </tr>\n    <tr>\n      <th>WIN_20210407_09_04_05_Pro</th>\n      <td>0.476440</td>\n      <td>0.523560</td>\n      <td>0.000000</td>\n    </tr>\n    <tr>\n      <th>WIN_20210407_14_54_56_Pro_edit2</th>\n      <td>0.389937</td>\n      <td>0.610063</td>\n      <td>0.000000</td>\n    </tr>\n    <tr>\n      <th>WIN_20210408_11_48_58_Pro</th>\n      <td>0.080000</td>\n      <td>0.773333</td>\n      <td>0.146667</td>\n    </tr>\n    <tr>\n      <th>WIN_20210408_14_00_44_Pro</th>\n      <td>0.213483</td>\n      <td>0.786517</td>\n      <td>0.000000</td>\n    </tr>\n    <tr>\n      <th>WIN_20210408_14_02_19_Pro</th>\n      <td>0.441176</td>\n      <td>0.558824</td>\n      <td>0.000000</td>\n    </tr>\n    <tr>\n      <th>WIN_20210408_14_11_32_Pro</th>\n      <td>0.000000</td>\n      <td>1.000000</td>\n      <td>0.000000</td>\n    </tr>\n    <tr>\n      <th>WIN_20210408_15_20_51_Pro</th>\n      <td>0.220588</td>\n      <td>0.235294</td>\n      <td>0.544118</td>\n    </tr>\n    <tr>\n      <th>WIN_20210408_16_04_32_Pro</th>\n      <td>0.152941</td>\n      <td>0.847059</td>\n      <td>0.000000</td>\n    </tr>\n    <tr>\n      <th>WIN_20210409_10_26_11_Pro</th>\n      <td>0.676301</td>\n      <td>0.323699</td>\n      <td>0.000000</td>\n    </tr>\n    <tr>\n      <th>WIN_20210413_15_38_01_Pro</th>\n      <td>0.202312</td>\n      <td>0.797688</td>\n      <td>0.000000</td>\n    </tr>\n    <tr>\n      <th>WIN_20210414_06_24_52_Pro</th>\n      <td>0.994819</td>\n      <td>0.005181</td>\n      <td>0.000000</td>\n    </tr>\n    <tr>\n      <th>WIN_20210415_15_41_24_Pro</th>\n      <td>0.470046</td>\n      <td>0.529954</td>\n      <td>0.000000</td>\n    </tr>\n    <tr>\n      <th>WIN_20210416_08_06_54_Pro</th>\n      <td>0.000000</td>\n      <td>1.000000</td>\n      <td>0.000000</td>\n    </tr>\n    <tr>\n      <th>WIN_20210417_14_53_12_Pro</th>\n      <td>0.404580</td>\n      <td>0.595420</td>\n      <td>0.000000</td>\n    </tr>\n  </tbody>\n</table>\n</div>"
     },
     "metadata": {},
     "execution_count": 46
    }
   ],
   "source": [
    "df_ypredict = pd.read_csv('ypredict_' + features + '_tw5' + diapo_selection + '.csv')\n",
    "df_ypredict = df_ypredict.iloc[:,1:]\n",
    "df_ypredict.columns = ['video_name','diapo','frameTimeWindow','ypredict']\n",
    "df_ypredict['ypredict'] = df_ypredict['ypredict'].astype(int)\n",
    "df_ypredict = df_ypredict.pivot_table(values='frameTimeWindow', columns='ypredict', index='video_name', aggfunc='count', fill_value=0)\n",
    "df_ypredict_sum = df_ypredict.sum(axis=1).values.copy()\n",
    "for col_number in range(len(df_ypredict.columns)):\n",
    "    df_ypredict.iloc[:,col_number] = df_ypredict.iloc[:,col_number] / df_ypredict_sum\n",
    "#df_ypredict = df_ypredict.reset_index()\n",
    "df_ypredict\n"
   ]
  },
  {
   "cell_type": "code",
   "execution_count": 47,
   "metadata": {},
   "outputs": [],
   "source": [
    "df_annotations_stress = pd.read_csv('annotations.csv')\n",
    "df_annotations_stress = df_annotations_stress[['video_name','stress_global']]"
   ]
  },
  {
   "cell_type": "code",
   "execution_count": 48,
   "metadata": {},
   "outputs": [],
   "source": [
    "Xy = df_ypredict.merge(df_annotations_stress, on='video_name')\n",
    "X = Xy.iloc[:,:-1].set_index('video_name')\n",
    "y = Xy.iloc[:,-1]"
   ]
  },
  {
   "cell_type": "code",
   "execution_count": 49,
   "metadata": {},
   "outputs": [],
   "source": [
    "from sklearn.linear_model import LogisticRegression\n",
    "from sklearn.neighbors import KNeighborsClassifier\n",
    "from sklearn.ensemble import RandomForestClassifier\n",
    "from sklearn.model_selection import LeaveOneGroupOut\n",
    "from sklearn.decomposition import PCA\n",
    "from sklearn.pipeline import Pipeline\n",
    "\n",
    "pca = PCA()\n",
    "\n",
    "models_list = [\n",
    "                LogisticRegression(multi_class='multinomial', fit_intercept=True, random_state=42),\n",
    "                Pipeline(steps=[('pca', pca), ('logistic', LogisticRegression(multi_class='multinomial', fit_intercept=True))]),\n",
    "                KNeighborsClassifier(),\n",
    "                Pipeline(steps=[('pca', pca), ('knn', KNeighborsClassifier())]),\n",
    "                RandomForestClassifier(random_state = 42, n_jobs=-1)\n",
    "                ]\n",
    "\n",
    "parameters_list = [\n",
    "                    {'C': [0.01, 0.05, 0.1, 0.5, 1, 2, 3, 4 , 5, 10], 'class_weight' : [None, 'balanced']},\n",
    "                    {'pca__n_components': [1, 2, 3, 4],\n",
    "                        'logistic__C': [0.01, 0.05, 0.1, 0.5, 1, 2, 3, 4 , 5, 10], 'logistic__class_weight' : [None, 'balanced']},\n",
    "                    {'n_neighbors': [4, 5, 6, 7, 8, 9, 10, 11, 12,  15, 20], 'weights' : ['uniform', 'distance'], 'p': [1, 2]},\n",
    "                    {'pca__n_components': [1, 2, 3, 4],\n",
    "                        'knn__n_neighbors': [4, 5, 6, 7, 8, 9, 10, 11, 12,  15, 20], 'knn__weights' : ['uniform', 'distance'],                              'knn__p': [1, 2]},\n",
    "                    {'n_estimators': [50, 100, 150, 200], 'max_depth':[3, 4, 5, 6, 10, 15, 20], 'class_weight':[None,'balanced']}\n",
    "                    ]\n",
    "\n",
    "groups = X.reset_index()['video_name']\n",
    "loo = LeaveOneGroupOut()\n",
    "cv_loo = loo.split(X, y, groups)"
   ]
  },
  {
   "cell_type": "code",
   "execution_count": 50,
   "metadata": {},
   "outputs": [
    {
     "output_type": "stream",
     "name": "stdout",
     "text": [
      "Fitting 30 folds for each of 20 candidates, totalling 600 fits\n",
      "[Parallel(n_jobs=-1)]: Using backend LokyBackend with 8 concurrent workers.\n",
      "[Parallel(n_jobs=-1)]: Done  56 tasks      | elapsed:    0.3s\n",
      "[Parallel(n_jobs=-1)]: Done 600 out of 600 | elapsed:    2.2s finished\n",
      "[Parallel(n_jobs=-1)]: Using backend LokyBackend with 8 concurrent workers.\n",
      "Best estimator LogisticRegression(C=0.01, multi_class='multinomial', random_state=42)\n",
      "Best results 0.4\n",
      "Best params {'C': 0.01, 'class_weight': None}\n",
      "accuracy (mean, std) 0.4 0.4898979485566357\n",
      "f1 (mean, std) 0.4 0.4898979485566357\n",
      "balanced accuracy (mean, std) 0.4 0.4898979485566357\n",
      "precision (mean, std) 0.4 0.4898979485566357\n",
      "recall (mean, std) 0.4 0.4898979485566357\n",
      "\n",
      "Fitting 30 folds for each of 80 candidates, totalling 2400 fits\n",
      "[Parallel(n_jobs=-1)]: Done  56 tasks      | elapsed:    0.3s\n",
      "[Parallel(n_jobs=-1)]: Done 2160 tasks      | elapsed:    5.9s\n",
      "[Parallel(n_jobs=-1)]: Done 2400 out of 2400 | elapsed:    6.5s finished\n",
      "[Parallel(n_jobs=-1)]: Using backend LokyBackend with 8 concurrent workers.\n",
      "Best estimator Pipeline(steps=[('pca', PCA(n_components=1)),\n",
      "                ('logistic',\n",
      "                 LogisticRegression(C=0.01, multi_class='multinomial'))])\n",
      "Best results 0.4\n",
      "Best params {'logistic__C': 0.01, 'logistic__class_weight': None, 'pca__n_components': 1}\n",
      "accuracy (mean, std) 0.4 0.4898979485566357\n",
      "f1 (mean, std) 0.4 0.4898979485566357\n",
      "balanced accuracy (mean, std) 0.4 0.4898979485566357\n",
      "precision (mean, std) 0.4 0.4898979485566357\n",
      "recall (mean, std) 0.4 0.4898979485566357\n",
      "\n",
      "Fitting 30 folds for each of 44 candidates, totalling 1320 fits\n",
      "[Parallel(n_jobs=-1)]: Done  56 tasks      | elapsed:    0.2s\n",
      "[Parallel(n_jobs=-1)]: Done 1320 out of 1320 | elapsed:    3.0s finished\n",
      "[Parallel(n_jobs=-1)]: Using backend LokyBackend with 8 concurrent workers.\n",
      "Best estimator KNeighborsClassifier(n_neighbors=11)\n",
      "Best results 0.43333333333333335\n",
      "Best params {'n_neighbors': 11, 'p': 2, 'weights': 'uniform'}\n",
      "accuracy (mean, std) 0.43333333333333335 0.49553562491061676\n",
      "f1 (mean, std) 0.43333333333333335 0.49553562491061676\n",
      "balanced accuracy (mean, std) 0.43333333333333335 0.49553562491061676\n",
      "precision (mean, std) 0.43333333333333335 0.49553562491061676\n",
      "recall (mean, std) 0.43333333333333335 0.49553562491061676\n",
      "\n",
      "Fitting 30 folds for each of 176 candidates, totalling 5280 fits\n",
      "[Parallel(n_jobs=-1)]: Done  56 tasks      | elapsed:    0.3s\n",
      "[Parallel(n_jobs=-1)]: Done 2160 tasks      | elapsed:    4.7s\n",
      "[Parallel(n_jobs=-1)]: Done 5280 out of 5280 | elapsed:   11.0s finished\n",
      "[Parallel(n_jobs=-1)]: Using backend LokyBackend with 8 concurrent workers.\n",
      "Best estimator Pipeline(steps=[('pca', PCA(n_components=1)),\n",
      "                ('knn', KNeighborsClassifier(n_neighbors=11, p=1))])\n",
      "Best results 0.43333333333333335\n",
      "Best params {'knn__n_neighbors': 11, 'knn__p': 1, 'knn__weights': 'uniform', 'pca__n_components': 1}\n",
      "accuracy (mean, std) 0.43333333333333335 0.49553562491061676\n",
      "f1 (mean, std) 0.43333333333333335 0.49553562491061676\n",
      "balanced accuracy (mean, std) 0.43333333333333335 0.49553562491061676\n",
      "precision (mean, std) 0.43333333333333335 0.49553562491061676\n",
      "recall (mean, std) 0.43333333333333335 0.49553562491061676\n",
      "\n",
      "Fitting 30 folds for each of 56 candidates, totalling 1680 fits\n",
      "[Parallel(n_jobs=-1)]: Done  52 tasks      | elapsed:    2.2s\n",
      "[Parallel(n_jobs=-1)]: Done 240 tasks      | elapsed:   13.8s\n",
      "[Parallel(n_jobs=-1)]: Done 490 tasks      | elapsed:   27.9s\n",
      "[Parallel(n_jobs=-1)]: Done 840 tasks      | elapsed:   48.1s\n",
      "[Parallel(n_jobs=-1)]: Done 1290 tasks      | elapsed:  1.2min\n",
      "[Parallel(n_jobs=-1)]: Done 1680 out of 1680 | elapsed:  1.6min finished\n",
      "Best estimator RandomForestClassifier(max_depth=3, n_jobs=-1, random_state=42)\n",
      "Best results 0.4\n",
      "Best params {'class_weight': None, 'max_depth': 3, 'n_estimators': 100}\n",
      "accuracy (mean, std) 0.4 0.4898979485566357\n",
      "f1 (mean, std) 0.4 0.4898979485566357\n",
      "balanced accuracy (mean, std) 0.4 0.4898979485566357\n",
      "precision (mean, std) 0.4 0.4898979485566357\n",
      "recall (mean, std) 0.4 0.4898979485566357\n",
      "\n"
     ]
    }
   ],
   "source": [
    "best_result, y_predict, result_list = runGridSearchClassifiers(X, y, cv_loo, models_list, parameters_list, \n",
    "                                                                output_predict=True, n_jobs=-1, verbose=True)"
   ]
  },
  {
   "cell_type": "code",
   "execution_count": 51,
   "metadata": {},
   "outputs": [
    {
     "output_type": "execute_result",
     "data": {
      "text/plain": [
       "{'best_estimator': KNeighborsClassifier(n_neighbors=11),\n",
       " 'best_score': 0.43333333333333335,\n",
       " 'best_params': {'n_neighbors': 11, 'p': 2, 'weights': 'uniform'},\n",
       " 'mean_test_f1_score': 0.43333333333333335,\n",
       " 'std_test_f1_score': 0.49553562491061676,\n",
       " 'mean_test_accuracy_score': 0.43333333333333335,\n",
       " 'std_test_accuracy_score': 0.49553562491061676,\n",
       " 'mean_test_balanced_accuracy_score': 0.43333333333333335,\n",
       " 'std_test_balanced_accuracy_score': 0.49553562491061676,\n",
       " 'mean_test_precision': 0.43333333333333335,\n",
       " 'std_test_precision': 0.49553562491061676,\n",
       " 'mean_test_recall': 0.43333333333333335,\n",
       " 'std_test_recall': 0.49553562491061676}"
      ]
     },
     "metadata": {},
     "execution_count": 51
    }
   ],
   "source": [
    "best_result"
   ]
  },
  {
   "cell_type": "markdown",
   "metadata": {},
   "source": [
    "#### Autre méthode"
   ]
  },
  {
   "cell_type": "code",
   "execution_count": 52,
   "metadata": {},
   "outputs": [
    {
     "output_type": "execute_result",
     "data": {
      "text/plain": [
       "                                 ypredict                             \\\n",
       "                                     mean  min  max median       std   \n",
       "video_name                                                             \n",
       "Test_pour_AFPA                   1.386243  0.0  2.0    2.0  0.746639   \n",
       "Video_1                          0.642384  0.0  1.0    1.0  0.480893   \n",
       "WIN_20210323_19_17_40_Pro        0.607143  0.0  1.0    1.0  0.489846   \n",
       "WIN_20210329_10_16_02_Pro        0.965986  0.0  1.0    1.0  0.181884   \n",
       "WIN_20210330_13_10_29_Pro        0.947020  0.0  2.0    1.0  0.252668   \n",
       "WIN_20210331_21_22_52_Pro        0.741176  0.0  1.0    1.0  0.439282   \n",
       "WIN_20210402_14_27_50_Pro        0.983871  0.0  1.0    1.0  0.126312   \n",
       "WIN_20210402_19_04_53_Pro        0.080000  0.0  1.0    0.0  0.272072   \n",
       "WIN_20210403_18_49_15_Pro        0.751381  0.0  1.0    1.0  0.433411   \n",
       "WIN_20210404_10_58_27_Pro        0.400000  0.0  2.0    0.0  0.672504   \n",
       "WIN_20210404_21_41_12_Pro        0.715517  0.0  1.0    1.0  0.452143   \n",
       "WIN_20210405_15_09_16_Pro        0.522581  0.0  2.0    1.0  0.513904   \n",
       "WIN_20210406_15_06_15_Pro        0.834146  0.0  1.0    1.0  0.372860   \n",
       "WIN_20210406_18_35_52_Pro        0.481013  0.0  1.0    0.0  0.501228   \n",
       "WIN_20210406_18_49_10_Pro        0.707602  0.0  1.0    1.0  0.456200   \n",
       "WIN_20210406_21_05_52_Pro        0.616216  0.0  1.0    1.0  0.487626   \n",
       "WIN_20210407_09_04_05_Pro        0.523560  0.0  1.0    1.0  0.500757   \n",
       "WIN_20210407_14_54_56_Pro_edit2  0.610063  0.0  1.0    1.0  0.489277   \n",
       "WIN_20210408_11_48_58_Pro        1.066667  0.0  2.0    1.0  0.472456   \n",
       "WIN_20210408_14_00_44_Pro        0.786517  0.0  1.0    1.0  0.410922   \n",
       "WIN_20210408_14_02_19_Pro        0.558824  0.0  1.0    1.0  0.497995   \n",
       "WIN_20210408_14_11_32_Pro        1.000000  1.0  1.0    1.0  0.000000   \n",
       "WIN_20210408_15_20_51_Pro        1.323529  0.0  2.0    2.0  0.814424   \n",
       "WIN_20210408_16_04_32_Pro        0.847059  0.0  1.0    1.0  0.360994   \n",
       "WIN_20210409_10_26_11_Pro        0.323699  0.0  1.0    0.0  0.469245   \n",
       "WIN_20210413_15_38_01_Pro        0.797688  0.0  1.0    1.0  0.402890   \n",
       "WIN_20210414_06_24_52_Pro        0.005181  0.0  1.0    0.0  0.071982   \n",
       "WIN_20210415_15_41_24_Pro        0.529954  0.0  1.0    1.0  0.500256   \n",
       "WIN_20210416_08_06_54_Pro        1.000000  1.0  1.0    1.0  0.000000   \n",
       "WIN_20210417_14_53_12_Pro        0.595420  0.0  1.0    1.0  0.492695   \n",
       "\n",
       "                                                                                \n",
       "                                percentil25 percentil75    kurtosis       skew  \n",
       "video_name                                                                      \n",
       "Test_pour_AFPA                          1.0         2.0   -0.820796  -0.760219  \n",
       "Video_1                                 0.0         1.0   -1.647003  -0.594136  \n",
       "WIN_20210323_19_17_40_Pro               0.0         1.0   -1.807487  -0.438763  \n",
       "WIN_20210329_10_16_02_Pro               1.0         1.0   24.435211  -5.141518  \n",
       "WIN_20210330_13_10_29_Pro               1.0         1.0   10.946044  -2.676898  \n",
       "WIN_20210331_21_22_52_Pro               0.0         1.0   -0.787157  -1.101291  \n",
       "WIN_20210402_14_27_50_Pro               1.0         1.0   57.016393  -7.682213  \n",
       "WIN_20210402_19_04_53_Pro               0.0         0.0    7.586957   3.096281  \n",
       "WIN_20210403_18_49_15_Pro               1.0         1.0   -0.646895  -1.163230  \n",
       "WIN_20210404_10_58_27_Pro               0.0         1.0    0.608889   1.411207  \n",
       "WIN_20210404_21_41_12_Pro               0.0         1.0   -1.087258  -0.955375  \n",
       "WIN_20210405_15_09_16_Pro               0.0         1.0   -1.644834   0.053668  \n",
       "WIN_20210406_15_06_15_Pro               1.0         1.0    1.228242  -1.796731  \n",
       "WIN_20210406_18_35_52_Pro               0.0         1.0   -1.994223   0.076004  \n",
       "WIN_20210406_18_49_10_Pro               0.0         1.0   -1.166777  -0.912811  \n",
       "WIN_20210406_21_05_52_Pro               0.0         1.0   -1.771559  -0.477955  \n",
       "WIN_20210407_09_04_05_Pro               0.0         1.0   -1.991099  -0.094346  \n",
       "WIN_20210407_14_54_56_Pro_edit2         0.0         1.0   -1.796309  -0.451322  \n",
       "WIN_20210408_11_48_58_Pro               1.0         1.0    1.351200   0.209304  \n",
       "WIN_20210408_14_00_44_Pro               1.0         1.0   -0.044361  -1.398442  \n",
       "WIN_20210408_14_02_19_Pro               0.0         1.0   -1.943860  -0.236940  \n",
       "WIN_20210408_14_11_32_Pro               1.0         1.0   -3.000000   0.000000  \n",
       "WIN_20210408_15_20_51_Pro               1.0         2.0   -1.178775  -0.654491  \n",
       "WIN_20210408_16_04_32_Pro               1.0         1.0    1.719017  -1.928475  \n",
       "WIN_20210409_10_26_11_Pro               0.0         1.0   -1.432082   0.753603  \n",
       "WIN_20210413_15_38_01_Pro               1.0         1.0    0.196480  -1.482053  \n",
       "WIN_20210414_06_24_52_Pro               0.0         0.0  188.005208  13.784238  \n",
       "WIN_20210415_15_41_24_Pro               0.0         1.0   -1.985592  -0.120031  \n",
       "WIN_20210416_08_06_54_Pro               1.0         1.0   -3.000000   0.000000  \n",
       "WIN_20210417_14_53_12_Pro               0.0         1.0   -1.848815  -0.388826  "
      ],
      "text/html": "<div>\n<style scoped>\n    .dataframe tbody tr th:only-of-type {\n        vertical-align: middle;\n    }\n\n    .dataframe tbody tr th {\n        vertical-align: top;\n    }\n\n    .dataframe thead tr th {\n        text-align: left;\n    }\n\n    .dataframe thead tr:last-of-type th {\n        text-align: right;\n    }\n</style>\n<table border=\"1\" class=\"dataframe\">\n  <thead>\n    <tr>\n      <th></th>\n      <th colspan=\"9\" halign=\"left\">ypredict</th>\n    </tr>\n    <tr>\n      <th></th>\n      <th>mean</th>\n      <th>min</th>\n      <th>max</th>\n      <th>median</th>\n      <th>std</th>\n      <th>percentil25</th>\n      <th>percentil75</th>\n      <th>kurtosis</th>\n      <th>skew</th>\n    </tr>\n    <tr>\n      <th>video_name</th>\n      <th></th>\n      <th></th>\n      <th></th>\n      <th></th>\n      <th></th>\n      <th></th>\n      <th></th>\n      <th></th>\n      <th></th>\n    </tr>\n  </thead>\n  <tbody>\n    <tr>\n      <th>Test_pour_AFPA</th>\n      <td>1.386243</td>\n      <td>0.0</td>\n      <td>2.0</td>\n      <td>2.0</td>\n      <td>0.746639</td>\n      <td>1.0</td>\n      <td>2.0</td>\n      <td>-0.820796</td>\n      <td>-0.760219</td>\n    </tr>\n    <tr>\n      <th>Video_1</th>\n      <td>0.642384</td>\n      <td>0.0</td>\n      <td>1.0</td>\n      <td>1.0</td>\n      <td>0.480893</td>\n      <td>0.0</td>\n      <td>1.0</td>\n      <td>-1.647003</td>\n      <td>-0.594136</td>\n    </tr>\n    <tr>\n      <th>WIN_20210323_19_17_40_Pro</th>\n      <td>0.607143</td>\n      <td>0.0</td>\n      <td>1.0</td>\n      <td>1.0</td>\n      <td>0.489846</td>\n      <td>0.0</td>\n      <td>1.0</td>\n      <td>-1.807487</td>\n      <td>-0.438763</td>\n    </tr>\n    <tr>\n      <th>WIN_20210329_10_16_02_Pro</th>\n      <td>0.965986</td>\n      <td>0.0</td>\n      <td>1.0</td>\n      <td>1.0</td>\n      <td>0.181884</td>\n      <td>1.0</td>\n      <td>1.0</td>\n      <td>24.435211</td>\n      <td>-5.141518</td>\n    </tr>\n    <tr>\n      <th>WIN_20210330_13_10_29_Pro</th>\n      <td>0.947020</td>\n      <td>0.0</td>\n      <td>2.0</td>\n      <td>1.0</td>\n      <td>0.252668</td>\n      <td>1.0</td>\n      <td>1.0</td>\n      <td>10.946044</td>\n      <td>-2.676898</td>\n    </tr>\n    <tr>\n      <th>WIN_20210331_21_22_52_Pro</th>\n      <td>0.741176</td>\n      <td>0.0</td>\n      <td>1.0</td>\n      <td>1.0</td>\n      <td>0.439282</td>\n      <td>0.0</td>\n      <td>1.0</td>\n      <td>-0.787157</td>\n      <td>-1.101291</td>\n    </tr>\n    <tr>\n      <th>WIN_20210402_14_27_50_Pro</th>\n      <td>0.983871</td>\n      <td>0.0</td>\n      <td>1.0</td>\n      <td>1.0</td>\n      <td>0.126312</td>\n      <td>1.0</td>\n      <td>1.0</td>\n      <td>57.016393</td>\n      <td>-7.682213</td>\n    </tr>\n    <tr>\n      <th>WIN_20210402_19_04_53_Pro</th>\n      <td>0.080000</td>\n      <td>0.0</td>\n      <td>1.0</td>\n      <td>0.0</td>\n      <td>0.272072</td>\n      <td>0.0</td>\n      <td>0.0</td>\n      <td>7.586957</td>\n      <td>3.096281</td>\n    </tr>\n    <tr>\n      <th>WIN_20210403_18_49_15_Pro</th>\n      <td>0.751381</td>\n      <td>0.0</td>\n      <td>1.0</td>\n      <td>1.0</td>\n      <td>0.433411</td>\n      <td>1.0</td>\n      <td>1.0</td>\n      <td>-0.646895</td>\n      <td>-1.163230</td>\n    </tr>\n    <tr>\n      <th>WIN_20210404_10_58_27_Pro</th>\n      <td>0.400000</td>\n      <td>0.0</td>\n      <td>2.0</td>\n      <td>0.0</td>\n      <td>0.672504</td>\n      <td>0.0</td>\n      <td>1.0</td>\n      <td>0.608889</td>\n      <td>1.411207</td>\n    </tr>\n    <tr>\n      <th>WIN_20210404_21_41_12_Pro</th>\n      <td>0.715517</td>\n      <td>0.0</td>\n      <td>1.0</td>\n      <td>1.0</td>\n      <td>0.452143</td>\n      <td>0.0</td>\n      <td>1.0</td>\n      <td>-1.087258</td>\n      <td>-0.955375</td>\n    </tr>\n    <tr>\n      <th>WIN_20210405_15_09_16_Pro</th>\n      <td>0.522581</td>\n      <td>0.0</td>\n      <td>2.0</td>\n      <td>1.0</td>\n      <td>0.513904</td>\n      <td>0.0</td>\n      <td>1.0</td>\n      <td>-1.644834</td>\n      <td>0.053668</td>\n    </tr>\n    <tr>\n      <th>WIN_20210406_15_06_15_Pro</th>\n      <td>0.834146</td>\n      <td>0.0</td>\n      <td>1.0</td>\n      <td>1.0</td>\n      <td>0.372860</td>\n      <td>1.0</td>\n      <td>1.0</td>\n      <td>1.228242</td>\n      <td>-1.796731</td>\n    </tr>\n    <tr>\n      <th>WIN_20210406_18_35_52_Pro</th>\n      <td>0.481013</td>\n      <td>0.0</td>\n      <td>1.0</td>\n      <td>0.0</td>\n      <td>0.501228</td>\n      <td>0.0</td>\n      <td>1.0</td>\n      <td>-1.994223</td>\n      <td>0.076004</td>\n    </tr>\n    <tr>\n      <th>WIN_20210406_18_49_10_Pro</th>\n      <td>0.707602</td>\n      <td>0.0</td>\n      <td>1.0</td>\n      <td>1.0</td>\n      <td>0.456200</td>\n      <td>0.0</td>\n      <td>1.0</td>\n      <td>-1.166777</td>\n      <td>-0.912811</td>\n    </tr>\n    <tr>\n      <th>WIN_20210406_21_05_52_Pro</th>\n      <td>0.616216</td>\n      <td>0.0</td>\n      <td>1.0</td>\n      <td>1.0</td>\n      <td>0.487626</td>\n      <td>0.0</td>\n      <td>1.0</td>\n      <td>-1.771559</td>\n      <td>-0.477955</td>\n    </tr>\n    <tr>\n      <th>WIN_20210407_09_04_05_Pro</th>\n      <td>0.523560</td>\n      <td>0.0</td>\n      <td>1.0</td>\n      <td>1.0</td>\n      <td>0.500757</td>\n      <td>0.0</td>\n      <td>1.0</td>\n      <td>-1.991099</td>\n      <td>-0.094346</td>\n    </tr>\n    <tr>\n      <th>WIN_20210407_14_54_56_Pro_edit2</th>\n      <td>0.610063</td>\n      <td>0.0</td>\n      <td>1.0</td>\n      <td>1.0</td>\n      <td>0.489277</td>\n      <td>0.0</td>\n      <td>1.0</td>\n      <td>-1.796309</td>\n      <td>-0.451322</td>\n    </tr>\n    <tr>\n      <th>WIN_20210408_11_48_58_Pro</th>\n      <td>1.066667</td>\n      <td>0.0</td>\n      <td>2.0</td>\n      <td>1.0</td>\n      <td>0.472456</td>\n      <td>1.0</td>\n      <td>1.0</td>\n      <td>1.351200</td>\n      <td>0.209304</td>\n    </tr>\n    <tr>\n      <th>WIN_20210408_14_00_44_Pro</th>\n      <td>0.786517</td>\n      <td>0.0</td>\n      <td>1.0</td>\n      <td>1.0</td>\n      <td>0.410922</td>\n      <td>1.0</td>\n      <td>1.0</td>\n      <td>-0.044361</td>\n      <td>-1.398442</td>\n    </tr>\n    <tr>\n      <th>WIN_20210408_14_02_19_Pro</th>\n      <td>0.558824</td>\n      <td>0.0</td>\n      <td>1.0</td>\n      <td>1.0</td>\n      <td>0.497995</td>\n      <td>0.0</td>\n      <td>1.0</td>\n      <td>-1.943860</td>\n      <td>-0.236940</td>\n    </tr>\n    <tr>\n      <th>WIN_20210408_14_11_32_Pro</th>\n      <td>1.000000</td>\n      <td>1.0</td>\n      <td>1.0</td>\n      <td>1.0</td>\n      <td>0.000000</td>\n      <td>1.0</td>\n      <td>1.0</td>\n      <td>-3.000000</td>\n      <td>0.000000</td>\n    </tr>\n    <tr>\n      <th>WIN_20210408_15_20_51_Pro</th>\n      <td>1.323529</td>\n      <td>0.0</td>\n      <td>2.0</td>\n      <td>2.0</td>\n      <td>0.814424</td>\n      <td>1.0</td>\n      <td>2.0</td>\n      <td>-1.178775</td>\n      <td>-0.654491</td>\n    </tr>\n    <tr>\n      <th>WIN_20210408_16_04_32_Pro</th>\n      <td>0.847059</td>\n      <td>0.0</td>\n      <td>1.0</td>\n      <td>1.0</td>\n      <td>0.360994</td>\n      <td>1.0</td>\n      <td>1.0</td>\n      <td>1.719017</td>\n      <td>-1.928475</td>\n    </tr>\n    <tr>\n      <th>WIN_20210409_10_26_11_Pro</th>\n      <td>0.323699</td>\n      <td>0.0</td>\n      <td>1.0</td>\n      <td>0.0</td>\n      <td>0.469245</td>\n      <td>0.0</td>\n      <td>1.0</td>\n      <td>-1.432082</td>\n      <td>0.753603</td>\n    </tr>\n    <tr>\n      <th>WIN_20210413_15_38_01_Pro</th>\n      <td>0.797688</td>\n      <td>0.0</td>\n      <td>1.0</td>\n      <td>1.0</td>\n      <td>0.402890</td>\n      <td>1.0</td>\n      <td>1.0</td>\n      <td>0.196480</td>\n      <td>-1.482053</td>\n    </tr>\n    <tr>\n      <th>WIN_20210414_06_24_52_Pro</th>\n      <td>0.005181</td>\n      <td>0.0</td>\n      <td>1.0</td>\n      <td>0.0</td>\n      <td>0.071982</td>\n      <td>0.0</td>\n      <td>0.0</td>\n      <td>188.005208</td>\n      <td>13.784238</td>\n    </tr>\n    <tr>\n      <th>WIN_20210415_15_41_24_Pro</th>\n      <td>0.529954</td>\n      <td>0.0</td>\n      <td>1.0</td>\n      <td>1.0</td>\n      <td>0.500256</td>\n      <td>0.0</td>\n      <td>1.0</td>\n      <td>-1.985592</td>\n      <td>-0.120031</td>\n    </tr>\n    <tr>\n      <th>WIN_20210416_08_06_54_Pro</th>\n      <td>1.000000</td>\n      <td>1.0</td>\n      <td>1.0</td>\n      <td>1.0</td>\n      <td>0.000000</td>\n      <td>1.0</td>\n      <td>1.0</td>\n      <td>-3.000000</td>\n      <td>0.000000</td>\n    </tr>\n    <tr>\n      <th>WIN_20210417_14_53_12_Pro</th>\n      <td>0.595420</td>\n      <td>0.0</td>\n      <td>1.0</td>\n      <td>1.0</td>\n      <td>0.492695</td>\n      <td>0.0</td>\n      <td>1.0</td>\n      <td>-1.848815</td>\n      <td>-0.388826</td>\n    </tr>\n  </tbody>\n</table>\n</div>"
     },
     "metadata": {},
     "execution_count": 52
    }
   ],
   "source": [
    "df_ypredict = pd.read_csv('ypredict_' + features + '_tw5' + diapo_selection + '.csv')\n",
    "df_ypredict = df_ypredict.iloc[:,1:]\n",
    "df_ypredict.columns = ['video_name','diapo','frameTimeWindow','ypredict']\n",
    "df_ypredict = df_ypredict.groupby(['video_name']).agg({'ypredict': ['mean','min','max', 'median', 'std', percentil25, percentil75, kurtosis, skew]})\n",
    "df_ypredict\n"
   ]
  },
  {
   "cell_type": "code",
   "execution_count": 53,
   "metadata": {},
   "outputs": [],
   "source": [
    "Xy = df_ypredict.merge(df_annotations_stress, on='video_name')\n",
    "X = Xy.iloc[:,:-1].set_index('video_name')\n",
    "y = Xy.iloc[:,-1]"
   ]
  },
  {
   "cell_type": "code",
   "execution_count": 54,
   "metadata": {},
   "outputs": [],
   "source": [
    "from sklearn.linear_model import LogisticRegression\n",
    "from sklearn.neighbors import KNeighborsClassifier\n",
    "from sklearn.ensemble import RandomForestClassifier\n",
    "from sklearn.model_selection import LeaveOneGroupOut\n",
    "from sklearn.decomposition import PCA\n",
    "from sklearn.pipeline import Pipeline\n",
    "\n",
    "pca = PCA()\n",
    "\n",
    "models_list = [\n",
    "                LogisticRegression(multi_class='multinomial', fit_intercept=True, random_state=42),\n",
    "                Pipeline(steps=[('pca', pca), ('logistic', LogisticRegression(multi_class='multinomial', fit_intercept=True))]),\n",
    "                KNeighborsClassifier(),\n",
    "                Pipeline(steps=[('pca', pca), ('knn', KNeighborsClassifier())]),\n",
    "                RandomForestClassifier(random_state = 42, n_jobs=-1)\n",
    "                ]\n",
    "\n",
    "parameters_list = [\n",
    "                    {'C': [0.01, 0.05, 0.1, 0.5, 1, 2, 3, 4 , 5, 10], 'class_weight' : [None, 'balanced']},\n",
    "                    {'pca__n_components': [1, 2, 3, 4],\n",
    "                        'logistic__C': [0.01, 0.05, 0.1, 0.5, 1, 2, 3, 4 , 5, 10], 'logistic__class_weight' : [None, 'balanced']},\n",
    "                    {'n_neighbors': [4, 5, 6, 7, 8, 9, 10, 11, 12,  15, 20], 'weights' : ['uniform', 'distance'], 'p': [1, 2]},\n",
    "                    {'pca__n_components': [1, 2, 3, 4],\n",
    "                        'knn__n_neighbors': [4, 5, 6, 7, 8, 9, 10, 11, 12,  15, 20], 'knn__weights' : ['uniform', 'distance'],                              'knn__p': [1, 2]},\n",
    "                    {'n_estimators': [50, 100, 150, 200], 'max_depth':[3, 4, 5, 6, 10, 15, 20], 'class_weight':[None,'balanced']}\n",
    "                    ]\n",
    "\n",
    "groups = X.reset_index()['video_name']\n",
    "loo = LeaveOneGroupOut()\n",
    "cv_loo = loo.split(X, y, groups)"
   ]
  },
  {
   "cell_type": "code",
   "execution_count": 55,
   "metadata": {},
   "outputs": [
    {
     "output_type": "stream",
     "name": "stdout",
     "text": [
      "Fitting 5 folds for each of 16 candidates, totalling 80 fits\n",
      "[Parallel(n_jobs=1)]: Using backend SequentialBackend with 1 concurrent workers.\n",
      "Best results 0.4666666666666666\n",
      "Best params {'C': 0.01, 'class_weight': None}\n",
      "accuracy (mean, std) 0.4666666666666666 0.1247219128924647\n",
      "f1 (mean, std) 0.36388888888888893 0.1634785785777974\n",
      "[Parallel(n_jobs=1)]: Done  80 out of  80 | elapsed:    1.5s finished\n"
     ]
    }
   ],
   "source": [
    "parameters = {'C': [0.01, 0.05, 0.1, 0.5, 1, 2, 10, 20], 'class_weight' : [None, 'balanced']}\n",
    "from sklearn.model_selection import LeaveOneGroupOut\n",
    "from sklearn.linear_model import LogisticRegression\n",
    "from sklearn.model_selection import cross_val_predict, GridSearchCV\n",
    "from sklearn.metrics import accuracy_score, f1_score\n",
    "import warnings\n",
    "warnings.filterwarnings(\"ignore\")\n",
    "\n",
    "groups = X.reset_index()['video_name']\n",
    "loo = LeaveOneGroupOut()\n",
    "cv_loo = loo.split(X, y, groups)\n",
    "X_no_name = X\n",
    "y_no_name = y\n",
    "\n",
    "model = LogisticRegression(multi_class='multinomial', fit_intercept=True, random_state=42)\n",
    "\n",
    "clf = GridSearchCV(estimator=model, \n",
    "                    param_grid=parameters, \n",
    "                    scoring={'accuracy_score' : 'accuracy', 'f1_score' : 'f1_weighted' }, \n",
    "                    refit='accuracy_score',\n",
    "                    cv=5, verbose=1)\n",
    "clf.fit(X_no_name, y_no_name)\n",
    "print('Best results', clf.best_score_)\n",
    "print('Best params', clf.best_params_)\n",
    "print('accuracy (mean, std)', clf.cv_results_['mean_test_accuracy_score'][clf.best_index_], clf.cv_results_['std_test_accuracy_score'][clf.best_index_])\n",
    "print('f1 (mean, std)', clf.cv_results_['mean_test_f1_score'][clf.best_index_], clf.cv_results_['std_test_f1_score'][clf.best_index_])"
   ]
  },
  {
   "cell_type": "code",
   "execution_count": 56,
   "metadata": {},
   "outputs": [
    {
     "output_type": "stream",
     "name": "stderr",
     "text": [
      "[Parallel(n_jobs=-1)]: Using backend LokyBackend with 8 concurrent workers.\n",
      "Fitting 30 folds for each of 20 candidates, totalling 600 fits\n",
      "[Parallel(n_jobs=-1)]: Done  56 tasks      | elapsed:    0.4s\n",
      "[Parallel(n_jobs=-1)]: Done 585 out of 600 | elapsed:    4.5s remaining:    0.1s\n",
      "[Parallel(n_jobs=-1)]: Done 600 out of 600 | elapsed:    4.5s finished\n",
      "[Parallel(n_jobs=-1)]: Using backend LokyBackend with 8 concurrent workers.\n",
      "Best estimator LogisticRegression(C=0.05, multi_class='multinomial', random_state=42)\n",
      "Best results 0.4666666666666667\n",
      "Best params {'C': 0.05, 'class_weight': None}\n",
      "accuracy (mean, std) 0.4666666666666667 0.49888765156985887\n",
      "f1 (mean, std) 0.4666666666666667 0.49888765156985887\n",
      "balanced accuracy (mean, std) 0.4666666666666667 0.49888765156985887\n",
      "precision (mean, std) 0.4666666666666667 0.49888765156985887\n",
      "recall (mean, std) 0.4666666666666667 0.49888765156985887\n",
      "\n",
      "Fitting 30 folds for each of 80 candidates, totalling 2400 fits\n",
      "[Parallel(n_jobs=-1)]: Done  56 tasks      | elapsed:    0.5s\n",
      "[Parallel(n_jobs=-1)]: Done 1200 tasks      | elapsed:    6.5s\n",
      "[Parallel(n_jobs=-1)]: Done 2400 out of 2400 | elapsed:   13.3s finished\n",
      "[Parallel(n_jobs=-1)]: Using backend LokyBackend with 8 concurrent workers.\n",
      "Best estimator Pipeline(steps=[('pca', PCA(n_components=2)),\n",
      "                ('logistic',\n",
      "                 LogisticRegression(C=0.05, multi_class='multinomial'))])\n",
      "Best results 0.4666666666666667\n",
      "Best params {'logistic__C': 0.05, 'logistic__class_weight': None, 'pca__n_components': 2}\n",
      "accuracy (mean, std) 0.4666666666666667 0.49888765156985887\n",
      "f1 (mean, std) 0.4666666666666667 0.49888765156985887\n",
      "balanced accuracy (mean, std) 0.4666666666666667 0.49888765156985887\n",
      "precision (mean, std) 0.4666666666666667 0.49888765156985887\n",
      "recall (mean, std) 0.4666666666666667 0.49888765156985887\n",
      "\n",
      "Fitting 30 folds for each of 44 candidates, totalling 1320 fits\n",
      "[Parallel(n_jobs=-1)]: Done  56 tasks      | elapsed:    0.2s\n",
      "[Parallel(n_jobs=-1)]: Done 1320 out of 1320 | elapsed:    3.0s finished\n",
      "[Parallel(n_jobs=-1)]: Using backend LokyBackend with 8 concurrent workers.\n",
      "Best estimator KNeighborsClassifier(n_neighbors=11)\n",
      "Best results 0.4\n",
      "Best params {'n_neighbors': 11, 'p': 2, 'weights': 'uniform'}\n",
      "accuracy (mean, std) 0.4 0.4898979485566357\n",
      "f1 (mean, std) 0.4 0.4898979485566357\n",
      "balanced accuracy (mean, std) 0.4 0.4898979485566357\n",
      "precision (mean, std) 0.4 0.4898979485566357\n",
      "recall (mean, std) 0.4 0.4898979485566357\n",
      "\n",
      "Fitting 30 folds for each of 176 candidates, totalling 5280 fits\n",
      "[Parallel(n_jobs=-1)]: Done  56 tasks      | elapsed:    0.3s\n",
      "[Parallel(n_jobs=-1)]: Done 2160 tasks      | elapsed:    5.7s\n",
      "[Parallel(n_jobs=-1)]: Done 5280 out of 5280 | elapsed:   13.3s finished\n",
      "[Parallel(n_jobs=-1)]: Using backend LokyBackend with 8 concurrent workers.\n",
      "Best estimator Pipeline(steps=[('pca', PCA(n_components=2)),\n",
      "                ('knn', KNeighborsClassifier(n_neighbors=11))])\n",
      "Best results 0.43333333333333335\n",
      "Best params {'knn__n_neighbors': 11, 'knn__p': 2, 'knn__weights': 'uniform', 'pca__n_components': 2}\n",
      "accuracy (mean, std) 0.43333333333333335 0.4955356249106168\n",
      "f1 (mean, std) 0.43333333333333335 0.4955356249106168\n",
      "balanced accuracy (mean, std) 0.43333333333333335 0.4955356249106168\n",
      "precision (mean, std) 0.43333333333333335 0.4955356249106168\n",
      "recall (mean, std) 0.43333333333333335 0.4955356249106168\n",
      "\n",
      "Fitting 30 folds for each of 56 candidates, totalling 1680 fits\n",
      "[Parallel(n_jobs=-1)]: Done  52 tasks      | elapsed:    2.3s\n",
      "[Parallel(n_jobs=-1)]: Done 240 tasks      | elapsed:   13.8s\n",
      "[Parallel(n_jobs=-1)]: Done 490 tasks      | elapsed:   27.9s\n",
      "[Parallel(n_jobs=-1)]: Done 840 tasks      | elapsed:   48.4s\n",
      "[Parallel(n_jobs=-1)]: Done 1290 tasks      | elapsed:  1.2min\n",
      "[Parallel(n_jobs=-1)]: Done 1680 out of 1680 | elapsed:  1.6min finished\n",
      "Best estimator RandomForestClassifier(class_weight='balanced', max_depth=3, n_estimators=50,\n",
      "                       n_jobs=-1, random_state=42)\n",
      "Best results 0.36666666666666664\n",
      "Best params {'class_weight': 'balanced', 'max_depth': 3, 'n_estimators': 50}\n",
      "accuracy (mean, std) 0.36666666666666664 0.48189440982669857\n",
      "f1 (mean, std) 0.36666666666666664 0.48189440982669857\n",
      "balanced accuracy (mean, std) 0.36666666666666664 0.48189440982669857\n",
      "precision (mean, std) 0.36666666666666664 0.48189440982669857\n",
      "recall (mean, std) 0.36666666666666664 0.48189440982669857\n",
      "\n"
     ]
    }
   ],
   "source": [
    "best_result, y_predict, result_list = runGridSearchClassifiers(X, y, cv_loo, models_list, parameters_list, \n",
    "                                                                output_predict=True, n_jobs=-1, verbose=True)"
   ]
  },
  {
   "cell_type": "code",
   "execution_count": 57,
   "metadata": {},
   "outputs": [
    {
     "output_type": "execute_result",
     "data": {
      "text/plain": [
       "{'best_estimator': LogisticRegression(C=0.05, multi_class='multinomial', random_state=42),\n",
       " 'best_score': 0.4666666666666667,\n",
       " 'best_params': {'C': 0.05, 'class_weight': None},\n",
       " 'mean_test_f1_score': 0.4666666666666667,\n",
       " 'std_test_f1_score': 0.49888765156985887,\n",
       " 'mean_test_accuracy_score': 0.4666666666666667,\n",
       " 'std_test_accuracy_score': 0.49888765156985887,\n",
       " 'mean_test_balanced_accuracy_score': 0.4666666666666667,\n",
       " 'std_test_balanced_accuracy_score': 0.49888765156985887,\n",
       " 'mean_test_precision': 0.4666666666666667,\n",
       " 'std_test_precision': 0.49888765156985887,\n",
       " 'mean_test_recall': 0.4666666666666667,\n",
       " 'std_test_recall': 0.49888765156985887}"
      ]
     },
     "metadata": {},
     "execution_count": 57
    }
   ],
   "source": [
    "best_result"
   ]
  },
  {
   "cell_type": "code",
   "execution_count": 58,
   "metadata": {},
   "outputs": [],
   "source": [
    "df_ypredict_stress_global = pd.concat([ypredict_stress_diapo.reset_index(), pd.DataFrame(y_predict,columns=['predicted_stress_global'])], axis=1) \n",
    "df_ypredict_stress_global = df_ypredict_stress_global.set_index('video_name').sort_index()\n",
    "df_ypredict_stress_global = df_ypredict_stress_global.iloc[:,-1]"
   ]
  },
  {
   "cell_type": "code",
   "execution_count": 59,
   "metadata": {
    "scrolled": true
   },
   "outputs": [
    {
     "output_type": "execute_result",
     "data": {
      "text/plain": [
       "video_name\n",
       "Test_pour_AFPA                     0.0\n",
       "Video_1                            0.0\n",
       "WIN_20210323_19_17_40_Pro          0.0\n",
       "WIN_20210329_10_16_02_Pro          1.0\n",
       "WIN_20210330_13_10_29_Pro          1.0\n",
       "WIN_20210331_21_22_52_Pro          0.0\n",
       "WIN_20210402_14_27_50_Pro          1.0\n",
       "WIN_20210402_19_04_53_Pro          2.0\n",
       "WIN_20210403_18_49_15_Pro          0.0\n",
       "WIN_20210404_10_58_27_Pro          0.0\n",
       "WIN_20210404_21_41_12_Pro          0.0\n",
       "WIN_20210405_15_09_16_Pro          0.0\n",
       "WIN_20210406_15_06_15_Pro          0.0\n",
       "WIN_20210406_18_35_52_Pro          0.0\n",
       "WIN_20210406_18_49_10_Pro          0.0\n",
       "WIN_20210406_21_05_52_Pro          0.0\n",
       "WIN_20210407_09_04_05_Pro          0.0\n",
       "WIN_20210407_14_54_56_Pro_edit2    0.0\n",
       "WIN_20210408_11_48_58_Pro          0.0\n",
       "WIN_20210408_14_00_44_Pro          0.0\n",
       "WIN_20210408_14_02_19_Pro          0.0\n",
       "WIN_20210408_14_11_32_Pro          0.0\n",
       "WIN_20210408_15_20_51_Pro          0.0\n",
       "WIN_20210408_16_04_32_Pro          0.0\n",
       "WIN_20210409_10_26_11_Pro          0.0\n",
       "WIN_20210413_15_38_01_Pro          0.0\n",
       "WIN_20210414_06_24_52_Pro          1.0\n",
       "WIN_20210415_15_41_24_Pro          0.0\n",
       "WIN_20210416_08_06_54_Pro          0.0\n",
       "WIN_20210417_14_53_12_Pro          0.0\n",
       "Name: predicted_stress_global, dtype: float64"
      ]
     },
     "metadata": {},
     "execution_count": 59
    }
   ],
   "source": [
    "df_ypredict_stress_global"
   ]
  },
  {
   "cell_type": "code",
   "execution_count": null,
   "metadata": {},
   "outputs": [],
   "source": []
  },
  {
   "cell_type": "markdown",
   "metadata": {},
   "source": [
    "### Audios diapos only"
   ]
  },
  {
   "cell_type": "code",
   "execution_count": null,
   "metadata": {},
   "outputs": [],
   "source": []
  },
  {
   "cell_type": "code",
   "execution_count": 33,
   "metadata": {},
   "outputs": [],
   "source": [
    "diapo_selection = '_audio_only'\n",
    "diapo_audio_list = [8,9,10,11,17]\n",
    "X = X_audio\n",
    "y = y_audio"
   ]
  },
  {
   "cell_type": "code",
   "execution_count": 61,
   "metadata": {},
   "outputs": [],
   "source": [
    "from sklearn.ensemble import RandomForestClassifier\n",
    "from sklearn.model_selection import LeaveOneGroupOut\n",
    "\n",
    "models_list = [RandomForestClassifier(random_state = 42, n_jobs=-1)]\n",
    "parameters_list = [\n",
    "                {'n_estimators': [100, 150, 200], 'max_depth':[10, 15, 20, 25], 'class_weight':[None,'balanced']}\n",
    "                ]\n",
    "groups = X.reset_index()['video_name']\n",
    "loo = LeaveOneGroupOut()\n",
    "cv_loo = loo.split(X, y, groups)"
   ]
  },
  {
   "cell_type": "code",
   "execution_count": 62,
   "metadata": {},
   "outputs": [
    {
     "output_type": "stream",
     "name": "stdout",
     "text": [
      "Fitting 30 folds for each of 24 candidates, totalling 720 fits\n",
      "[Parallel(n_jobs=-1)]: Using backend LokyBackend with 8 concurrent workers.\n",
      "[Parallel(n_jobs=-1)]: Done  34 tasks      | elapsed:   30.3s\n",
      "[Parallel(n_jobs=-1)]: Done 184 tasks      | elapsed:  3.6min\n",
      "[Parallel(n_jobs=-1)]: Done 434 tasks      | elapsed:  8.7min\n",
      "[Parallel(n_jobs=-1)]: Done 720 out of 720 | elapsed: 14.7min finished\n",
      "Best estimator RandomForestClassifier(max_depth=20, n_estimators=150, n_jobs=-1,\n",
      "                       random_state=42)\n",
      "Best results 0.485113011090835\n",
      "Best params {'class_weight': None, 'max_depth': 20, 'n_estimators': 150}\n",
      "accuracy (mean, std) 0.47611243309680507 0.2485920047305685\n",
      "f1 (mean, std) 0.485113011090835 0.2896991582646307\n",
      "balanced accuracy (mean, std) 0.4988648209525646 0.18131233940080954\n",
      "precision (mean, std) 0.6586459986990544 0.32319878584073297\n",
      "recall (mean, std) 0.47611243309680507 0.2485920047305685\n",
      "\n"
     ]
    }
   ],
   "source": [
    "best_result, y_predict, result_list = runGridSearchClassifiers(X, y, cv_loo, models_list, parameters_list, \n",
    "                                                                output_predict=True, n_jobs=-1, verbose=True)"
   ]
  },
  {
   "cell_type": "code",
   "execution_count": 63,
   "metadata": {},
   "outputs": [],
   "source": [
    "# Saving predictions\n",
    "df_ypredict = pd.concat([X.reset_index()[['video_name','diapo','frameTimeWindow']],\n",
    "                        pd.DataFrame(y_predict, columns=['ypredict'])],axis=1)\n",
    "df_ypredict.to_csv('ypredict_' + features + '_tw5' + diapo_selection + '.csv')"
   ]
  },
  {
   "cell_type": "code",
   "execution_count": 64,
   "metadata": {},
   "outputs": [
    {
     "output_type": "execute_result",
     "data": {
      "text/plain": [
       "array([[490, 440,   8,   0],\n",
       "       [388, 529,  58,   0],\n",
       "       [ 98, 123,  13,   0],\n",
       "       [  6,  14,   0,   0]])"
      ]
     },
     "metadata": {},
     "execution_count": 64
    }
   ],
   "source": [
    "from sklearn.metrics import confusion_matrix\n",
    "confusion_matrix(y, y_predict)"
   ]
  },
  {
   "cell_type": "code",
   "execution_count": 35,
   "metadata": {},
   "outputs": [
    {
     "output_type": "execute_result",
     "data": {
      "text/plain": [
       "                     video_name  diapo  frameTimeWindow  ypredict\n",
       "0                Test_pour_AFPA      8              170         1\n",
       "1                Test_pour_AFPA      8              175         1\n",
       "2                Test_pour_AFPA      8              180         1\n",
       "3                Test_pour_AFPA      8              185         1\n",
       "4                Test_pour_AFPA      8              190         1\n",
       "...                         ...    ...              ...       ...\n",
       "2162  WIN_20210417_14_53_12_Pro     17              490         1\n",
       "2163  WIN_20210417_14_53_12_Pro     17              495         0\n",
       "2164  WIN_20210417_14_53_12_Pro     17              500         1\n",
       "2165  WIN_20210417_14_53_12_Pro     17              505         0\n",
       "2166  WIN_20210417_14_53_12_Pro     17              510         0\n",
       "\n",
       "[2167 rows x 4 columns]"
      ],
      "text/html": "<div>\n<style scoped>\n    .dataframe tbody tr th:only-of-type {\n        vertical-align: middle;\n    }\n\n    .dataframe tbody tr th {\n        vertical-align: top;\n    }\n\n    .dataframe thead th {\n        text-align: right;\n    }\n</style>\n<table border=\"1\" class=\"dataframe\">\n  <thead>\n    <tr style=\"text-align: right;\">\n      <th></th>\n      <th>video_name</th>\n      <th>diapo</th>\n      <th>frameTimeWindow</th>\n      <th>ypredict</th>\n    </tr>\n  </thead>\n  <tbody>\n    <tr>\n      <th>0</th>\n      <td>Test_pour_AFPA</td>\n      <td>8</td>\n      <td>170</td>\n      <td>1</td>\n    </tr>\n    <tr>\n      <th>1</th>\n      <td>Test_pour_AFPA</td>\n      <td>8</td>\n      <td>175</td>\n      <td>1</td>\n    </tr>\n    <tr>\n      <th>2</th>\n      <td>Test_pour_AFPA</td>\n      <td>8</td>\n      <td>180</td>\n      <td>1</td>\n    </tr>\n    <tr>\n      <th>3</th>\n      <td>Test_pour_AFPA</td>\n      <td>8</td>\n      <td>185</td>\n      <td>1</td>\n    </tr>\n    <tr>\n      <th>4</th>\n      <td>Test_pour_AFPA</td>\n      <td>8</td>\n      <td>190</td>\n      <td>1</td>\n    </tr>\n    <tr>\n      <th>...</th>\n      <td>...</td>\n      <td>...</td>\n      <td>...</td>\n      <td>...</td>\n    </tr>\n    <tr>\n      <th>2162</th>\n      <td>WIN_20210417_14_53_12_Pro</td>\n      <td>17</td>\n      <td>490</td>\n      <td>1</td>\n    </tr>\n    <tr>\n      <th>2163</th>\n      <td>WIN_20210417_14_53_12_Pro</td>\n      <td>17</td>\n      <td>495</td>\n      <td>0</td>\n    </tr>\n    <tr>\n      <th>2164</th>\n      <td>WIN_20210417_14_53_12_Pro</td>\n      <td>17</td>\n      <td>500</td>\n      <td>1</td>\n    </tr>\n    <tr>\n      <th>2165</th>\n      <td>WIN_20210417_14_53_12_Pro</td>\n      <td>17</td>\n      <td>505</td>\n      <td>0</td>\n    </tr>\n    <tr>\n      <th>2166</th>\n      <td>WIN_20210417_14_53_12_Pro</td>\n      <td>17</td>\n      <td>510</td>\n      <td>0</td>\n    </tr>\n  </tbody>\n</table>\n<p>2167 rows × 4 columns</p>\n</div>"
     },
     "metadata": {},
     "execution_count": 35
    }
   ],
   "source": [
    "df_ypredict = pd.read_csv('ypredict_' + features + '_tw5' + diapo_selection + '.csv')\n",
    "df_ypredict = df_ypredict.iloc[:,1:]\n",
    "df_ypredict.columns = ['video_name','diapo','frameTimeWindow','ypredict']\n",
    "df_ypredict['ypredict'] = df_ypredict['ypredict'].astype(int)\n",
    "df_ypredict\n"
   ]
  },
  {
   "cell_type": "markdown",
   "metadata": {},
   "source": [
    "#### En utilisant la proportion des prédictions 0, 1 et 2"
   ]
  },
  {
   "cell_type": "code",
   "execution_count": 36,
   "metadata": {},
   "outputs": [
    {
     "output_type": "execute_result",
     "data": {
      "text/plain": [
       "ypredict                                0         1    2\n",
       "video_name                diapo                         \n",
       "Test_pour_AFPA            8      0.000000  1.000000  0.0\n",
       "                          9      0.050000  0.950000  0.0\n",
       "                          10     0.000000  1.000000  0.0\n",
       "                          11     0.000000  1.000000  0.0\n",
       "                          17     0.000000  1.000000  0.0\n",
       "...                                   ...       ...  ...\n",
       "WIN_20210417_14_53_12_Pro 8      0.909091  0.090909  0.0\n",
       "                          9      0.857143  0.142857  0.0\n",
       "                          10     0.714286  0.285714  0.0\n",
       "                          11     0.800000  0.200000  0.0\n",
       "                          17     0.571429  0.428571  0.0\n",
       "\n",
       "[150 rows x 3 columns]"
      ],
      "text/html": "<div>\n<style scoped>\n    .dataframe tbody tr th:only-of-type {\n        vertical-align: middle;\n    }\n\n    .dataframe tbody tr th {\n        vertical-align: top;\n    }\n\n    .dataframe thead th {\n        text-align: right;\n    }\n</style>\n<table border=\"1\" class=\"dataframe\">\n  <thead>\n    <tr style=\"text-align: right;\">\n      <th></th>\n      <th>ypredict</th>\n      <th>0</th>\n      <th>1</th>\n      <th>2</th>\n    </tr>\n    <tr>\n      <th>video_name</th>\n      <th>diapo</th>\n      <th></th>\n      <th></th>\n      <th></th>\n    </tr>\n  </thead>\n  <tbody>\n    <tr>\n      <th rowspan=\"5\" valign=\"top\">Test_pour_AFPA</th>\n      <th>8</th>\n      <td>0.000000</td>\n      <td>1.000000</td>\n      <td>0.0</td>\n    </tr>\n    <tr>\n      <th>9</th>\n      <td>0.050000</td>\n      <td>0.950000</td>\n      <td>0.0</td>\n    </tr>\n    <tr>\n      <th>10</th>\n      <td>0.000000</td>\n      <td>1.000000</td>\n      <td>0.0</td>\n    </tr>\n    <tr>\n      <th>11</th>\n      <td>0.000000</td>\n      <td>1.000000</td>\n      <td>0.0</td>\n    </tr>\n    <tr>\n      <th>17</th>\n      <td>0.000000</td>\n      <td>1.000000</td>\n      <td>0.0</td>\n    </tr>\n    <tr>\n      <th>...</th>\n      <th>...</th>\n      <td>...</td>\n      <td>...</td>\n      <td>...</td>\n    </tr>\n    <tr>\n      <th rowspan=\"5\" valign=\"top\">WIN_20210417_14_53_12_Pro</th>\n      <th>8</th>\n      <td>0.909091</td>\n      <td>0.090909</td>\n      <td>0.0</td>\n    </tr>\n    <tr>\n      <th>9</th>\n      <td>0.857143</td>\n      <td>0.142857</td>\n      <td>0.0</td>\n    </tr>\n    <tr>\n      <th>10</th>\n      <td>0.714286</td>\n      <td>0.285714</td>\n      <td>0.0</td>\n    </tr>\n    <tr>\n      <th>11</th>\n      <td>0.800000</td>\n      <td>0.200000</td>\n      <td>0.0</td>\n    </tr>\n    <tr>\n      <th>17</th>\n      <td>0.571429</td>\n      <td>0.428571</td>\n      <td>0.0</td>\n    </tr>\n  </tbody>\n</table>\n<p>150 rows × 3 columns</p>\n</div>"
     },
     "metadata": {},
     "execution_count": 36
    }
   ],
   "source": [
    "X = df_ypredict.pivot_table(values='frameTimeWindow', columns='ypredict', index=['video_name','diapo'], aggfunc='count', fill_value=0)\n",
    "X_sum = X.sum(axis=1).values.copy()\n",
    "for col_number in range(len(X.columns)):\n",
    "    X.iloc[:,col_number] = X.iloc[:,col_number] / X_sum\n",
    "X\n",
    " "
   ]
  },
  {
   "cell_type": "code",
   "execution_count": 37,
   "metadata": {},
   "outputs": [
    {
     "output_type": "execute_result",
     "data": {
      "text/plain": [
       "                    video_name  diapo  stress\n",
       "1               Test_pour_AFPA      8     1.0\n",
       "2               Test_pour_AFPA      9     0.0\n",
       "3               Test_pour_AFPA     10     0.0\n",
       "4               Test_pour_AFPA     11     0.0\n",
       "6               Test_pour_AFPA     17     0.0\n",
       "..                         ...    ...     ...\n",
       "233  WIN_20210417_14_53_12_Pro      8     0.0\n",
       "234  WIN_20210417_14_53_12_Pro      9     0.0\n",
       "235  WIN_20210417_14_53_12_Pro     10     0.0\n",
       "236  WIN_20210417_14_53_12_Pro     11     0.0\n",
       "238  WIN_20210417_14_53_12_Pro     17     1.0\n",
       "\n",
       "[150 rows x 3 columns]"
      ],
      "text/html": "<div>\n<style scoped>\n    .dataframe tbody tr th:only-of-type {\n        vertical-align: middle;\n    }\n\n    .dataframe tbody tr th {\n        vertical-align: top;\n    }\n\n    .dataframe thead th {\n        text-align: right;\n    }\n</style>\n<table border=\"1\" class=\"dataframe\">\n  <thead>\n    <tr style=\"text-align: right;\">\n      <th></th>\n      <th>video_name</th>\n      <th>diapo</th>\n      <th>stress</th>\n    </tr>\n  </thead>\n  <tbody>\n    <tr>\n      <th>1</th>\n      <td>Test_pour_AFPA</td>\n      <td>8</td>\n      <td>1.0</td>\n    </tr>\n    <tr>\n      <th>2</th>\n      <td>Test_pour_AFPA</td>\n      <td>9</td>\n      <td>0.0</td>\n    </tr>\n    <tr>\n      <th>3</th>\n      <td>Test_pour_AFPA</td>\n      <td>10</td>\n      <td>0.0</td>\n    </tr>\n    <tr>\n      <th>4</th>\n      <td>Test_pour_AFPA</td>\n      <td>11</td>\n      <td>0.0</td>\n    </tr>\n    <tr>\n      <th>6</th>\n      <td>Test_pour_AFPA</td>\n      <td>17</td>\n      <td>0.0</td>\n    </tr>\n    <tr>\n      <th>...</th>\n      <td>...</td>\n      <td>...</td>\n      <td>...</td>\n    </tr>\n    <tr>\n      <th>233</th>\n      <td>WIN_20210417_14_53_12_Pro</td>\n      <td>8</td>\n      <td>0.0</td>\n    </tr>\n    <tr>\n      <th>234</th>\n      <td>WIN_20210417_14_53_12_Pro</td>\n      <td>9</td>\n      <td>0.0</td>\n    </tr>\n    <tr>\n      <th>235</th>\n      <td>WIN_20210417_14_53_12_Pro</td>\n      <td>10</td>\n      <td>0.0</td>\n    </tr>\n    <tr>\n      <th>236</th>\n      <td>WIN_20210417_14_53_12_Pro</td>\n      <td>11</td>\n      <td>0.0</td>\n    </tr>\n    <tr>\n      <th>238</th>\n      <td>WIN_20210417_14_53_12_Pro</td>\n      <td>17</td>\n      <td>1.0</td>\n    </tr>\n  </tbody>\n</table>\n<p>150 rows × 3 columns</p>\n</div>"
     },
     "metadata": {},
     "execution_count": 37
    }
   ],
   "source": [
    "df_annotations_stress = pd.read_csv('annotations.csv')\n",
    "df_annotations_stress = df_annotations_stress.drop(df_annotations_stress.columns[-1],axis=1).set_index('video_name').stack()\n",
    "df_annotations_stress = pd.DataFrame(df_annotations_stress).reset_index()\n",
    "df_annotations_stress.columns = ['video_name','diapo','stress']\n",
    "#df_annotations_stress = df_annotations_stress.set_index(['video_name','diapo'])\n",
    "df_annotations_stress['diapo'] = df_annotations_stress['diapo'].astype(int)\n",
    "df_annotations_stress = df_annotations_stress[df_annotations_stress.diapo.isin(diapo_audio_list)]\n",
    "df_annotations_stress"
   ]
  },
  {
   "cell_type": "code",
   "execution_count": 38,
   "metadata": {},
   "outputs": [],
   "source": [
    "Xy = X.merge(df_annotations_stress, how='inner', on=['video_name','diapo'])\n",
    "X = Xy.iloc[:,:-1].set_index(['video_name','diapo'])\n",
    "y = Xy.iloc[:,-1]"
   ]
  },
  {
   "cell_type": "code",
   "execution_count": 39,
   "metadata": {},
   "outputs": [
    {
     "output_type": "execute_result",
     "data": {
      "text/plain": [
       "0      1.0\n",
       "1      0.0\n",
       "2      0.0\n",
       "3      0.0\n",
       "4      0.0\n",
       "      ... \n",
       "145    0.0\n",
       "146    0.0\n",
       "147    0.0\n",
       "148    0.0\n",
       "149    1.0\n",
       "Name: stress, Length: 150, dtype: float64"
      ]
     },
     "metadata": {},
     "execution_count": 39
    }
   ],
   "source": [
    "y"
   ]
  },
  {
   "cell_type": "code",
   "execution_count": 40,
   "metadata": {},
   "outputs": [],
   "source": [
    "from sklearn.linear_model import LogisticRegression\n",
    "from sklearn.neighbors import KNeighborsClassifier\n",
    "from sklearn.ensemble import RandomForestClassifier\n",
    "from sklearn.model_selection import LeaveOneGroupOut\n",
    "from sklearn.decomposition import PCA\n",
    "from sklearn.pipeline import Pipeline\n",
    "\n",
    "pca = PCA()\n",
    "pipe = Pipeline(steps=[('pca', pca), ('logistic', LogisticRegression(multi_class='multinomial', fit_intercept=True, random_state=42))])\n",
    "\n",
    "models_list = [\n",
    "                LogisticRegression(multi_class='multinomial', fit_intercept=True, random_state=42),\n",
    "                Pipeline(steps=[('pca', pca), ('logistic', LogisticRegression(multi_class='multinomial', fit_intercept=True))]),\n",
    "                KNeighborsClassifier(),\n",
    "                Pipeline(steps=[('pca', pca), ('knn', KNeighborsClassifier())]),\n",
    "                RandomForestClassifier(random_state = 42, n_jobs=-1)\n",
    "                ]\n",
    "\n",
    "parameters_list = [\n",
    "                    {'C': [0.01, 0.05, 0.1, 0.5, 1, 2, 3, 4 , 5, 10], 'class_weight' : [None, 'balanced']},\n",
    "                    {'pca__n_components': [1, 2, 3, 4],\n",
    "                        'logistic__C': [0.01, 0.05, 0.1, 0.5, 1, 2, 3, 4 , 5, 10], 'logistic__class_weight' : [None, 'balanced']},\n",
    "                    {'n_neighbors': [4, 5, 6, 7, 8, 9, 10, 11, 12,  15, 20], 'weights' : ['uniform', 'distance'], 'p': [1, 2]},\n",
    "                    {'pca__n_components': [1, 2, 3, 4],\n",
    "                        'knn__n_neighbors': [4, 5, 6, 7, 8, 9, 10, 11, 12,  15, 20], 'knn__weights' : ['uniform', 'distance'],                              'knn__p': [1, 2]},\n",
    "                    {'n_estimators': [50, 100, 150, 200], 'max_depth':[3, 4, 5, 6, 10, 15, 20], 'class_weight':[None,'balanced']}\n",
    "                    ]\n",
    "\n",
    "groups = X.reset_index()['video_name']\n",
    "loo = LeaveOneGroupOut()\n",
    "cv_loo = loo.split(X, y, groups)"
   ]
  },
  {
   "cell_type": "code",
   "execution_count": 41,
   "metadata": {},
   "outputs": [
    {
     "output_type": "stream",
     "name": "stdout",
     "text": [
      "Fitting 30 folds for each of 20 candidates, totalling 600 fits\n",
      "[Parallel(n_jobs=-1)]: Using backend LokyBackend with 8 concurrent workers.\n",
      "[Parallel(n_jobs=-1)]: Done  34 tasks      | elapsed:    2.0s\n",
      "[Parallel(n_jobs=-1)]: Done 600 out of 600 | elapsed:    5.0s finished\n",
      "[Parallel(n_jobs=-1)]: Using backend LokyBackend with 8 concurrent workers.\n",
      "Best estimator LogisticRegression(C=4, multi_class='multinomial', random_state=42)\n",
      "Best results 0.4264285714285713\n",
      "Best params {'C': 4, 'class_weight': None}\n",
      "accuracy (mean, std) 0.46 0.31474857690967667\n",
      "f1 (mean, std) 0.4264285714285713 0.3418098440854673\n",
      "balanced accuracy (mean, std) 0.4869444444444444 0.2804484118842449\n",
      "precision (mean, std) 0.4814444444444445 0.4037295421564745\n",
      "recall (mean, std) 0.46 0.31474857690967667\n",
      "\n",
      "Fitting 30 folds for each of 80 candidates, totalling 2400 fits\n",
      "[Parallel(n_jobs=-1)]: Done  56 tasks      | elapsed:    0.5s\n",
      "[Parallel(n_jobs=-1)]: Done 2274 tasks      | elapsed:    8.3s\n",
      "[Parallel(n_jobs=-1)]: Done 2400 out of 2400 | elapsed:    8.6s finished\n",
      "[Parallel(n_jobs=-1)]: Using backend LokyBackend with 8 concurrent workers.\n",
      "Best estimator Pipeline(steps=[('pca', PCA(n_components=1)),\n",
      "                ('logistic',\n",
      "                 LogisticRegression(C=10, multi_class='multinomial'))])\n",
      "Best results 0.4508994708994708\n",
      "Best params {'logistic__C': 10, 'logistic__class_weight': None, 'pca__n_components': 1}\n",
      "accuracy (mean, std) 0.49333333333333335 0.32550814975289877\n",
      "f1 (mean, std) 0.4508994708994708 0.35314599095403265\n",
      "balanced accuracy (mean, std) 0.5127777777777778 0.2816102288405986\n",
      "precision (mean, std) 0.4894444444444445 0.4044136893068352\n",
      "recall (mean, std) 0.49333333333333335 0.32550814975289877\n",
      "\n",
      "Fitting 30 folds for each of 44 candidates, totalling 1320 fits\n",
      "[Parallel(n_jobs=-1)]: Done  56 tasks      | elapsed:    0.3s\n",
      "[Parallel(n_jobs=-1)]: Done 1200 tasks      | elapsed:    3.5s\n",
      "[Parallel(n_jobs=-1)]: Done 1320 out of 1320 | elapsed:    3.7s finished\n",
      "[Parallel(n_jobs=-1)]: Using backend LokyBackend with 8 concurrent workers.\n",
      "Best estimator KNeighborsClassifier(n_neighbors=12, p=1)\n",
      "Best results 0.5264550264550265\n",
      "Best params {'n_neighbors': 12, 'p': 1, 'weights': 'uniform'}\n",
      "accuracy (mean, std) 0.5266666666666667 0.255516905289824\n",
      "f1 (mean, std) 0.5264550264550265 0.27505966685389915\n",
      "balanced accuracy (mean, std) 0.5118518518518518 0.26008558789665776\n",
      "precision (mean, std) 0.6271111111111112 0.33481308586902003\n",
      "recall (mean, std) 0.5266666666666667 0.255516905289824\n",
      "\n",
      "Fitting 30 folds for each of 176 candidates, totalling 5280 fits\n",
      "[Parallel(n_jobs=-1)]: Done  56 tasks      | elapsed:    0.3s\n",
      "[Parallel(n_jobs=-1)]: Done 2160 tasks      | elapsed:    5.8s\n",
      "[Parallel(n_jobs=-1)]: Done 5280 out of 5280 | elapsed:   13.3s finished\n",
      "[Parallel(n_jobs=-1)]: Using backend LokyBackend with 8 concurrent workers.\n",
      "Best estimator Pipeline(steps=[('pca', PCA(n_components=3)),\n",
      "                ('knn', KNeighborsClassifier(n_neighbors=15, p=1))])\n",
      "Best results 0.5453703703703704\n",
      "Best params {'knn__n_neighbors': 15, 'knn__p': 1, 'knn__weights': 'uniform', 'pca__n_components': 3}\n",
      "accuracy (mean, std) 0.5333333333333333 0.30258148581093913\n",
      "f1 (mean, std) 0.5453703703703704 0.31679454548429153\n",
      "balanced accuracy (mean, std) 0.5214814814814814 0.31570185488795943\n",
      "precision (mean, std) 0.6301111111111111 0.3579618056734372\n",
      "recall (mean, std) 0.5333333333333333 0.30258148581093913\n",
      "\n",
      "Fitting 30 folds for each of 56 candidates, totalling 1680 fits\n",
      "[Parallel(n_jobs=-1)]: Done  34 tasks      | elapsed:    1.3s\n",
      "[Parallel(n_jobs=-1)]: Done 184 tasks      | elapsed:   10.3s\n",
      "[Parallel(n_jobs=-1)]: Done 434 tasks      | elapsed:   26.3s\n",
      "[Parallel(n_jobs=-1)]: Done 784 tasks      | elapsed:   48.4s\n",
      "[Parallel(n_jobs=-1)]: Done 1234 tasks      | elapsed:  1.3min\n",
      "[Parallel(n_jobs=-1)]: Done 1680 out of 1680 | elapsed:  1.8min finished\n",
      "Best estimator RandomForestClassifier(max_depth=4, n_estimators=50, n_jobs=-1, random_state=42)\n",
      "Best results 0.5214285714285715\n",
      "Best params {'class_weight': None, 'max_depth': 4, 'n_estimators': 50}\n",
      "accuracy (mean, std) 0.5133333333333333 0.2513076909996102\n",
      "f1 (mean, std) 0.5214285714285715 0.2765137529078023\n",
      "balanced accuracy (mean, std) 0.49296296296296294 0.25710153689612286\n",
      "precision (mean, std) 0.6168888888888889 0.3444694614570981\n",
      "recall (mean, std) 0.5133333333333333 0.2513076909996102\n",
      "\n"
     ]
    }
   ],
   "source": [
    "best_result, y_predict, result_list = runGridSearchClassifiers(X, y, cv_loo, models_list, parameters_list, \n",
    "                                                                output_predict=True, n_jobs=-1, verbose=True)"
   ]
  },
  {
   "cell_type": "code",
   "execution_count": 42,
   "metadata": {},
   "outputs": [
    {
     "output_type": "execute_result",
     "data": {
      "text/plain": [
       "{'best_estimator': Pipeline(steps=[('pca', PCA(n_components=3)),\n",
       "                 ('knn', KNeighborsClassifier(n_neighbors=15, p=1))]),\n",
       " 'best_score': 0.5453703703703704,\n",
       " 'best_params': {'knn__n_neighbors': 15,\n",
       "  'knn__p': 1,\n",
       "  'knn__weights': 'uniform',\n",
       "  'pca__n_components': 3},\n",
       " 'mean_test_f1_score': 0.5453703703703704,\n",
       " 'std_test_f1_score': 0.31679454548429153,\n",
       " 'mean_test_accuracy_score': 0.5333333333333333,\n",
       " 'std_test_accuracy_score': 0.30258148581093913,\n",
       " 'mean_test_balanced_accuracy_score': 0.5214814814814814,\n",
       " 'std_test_balanced_accuracy_score': 0.31570185488795943,\n",
       " 'mean_test_precision': 0.6301111111111111,\n",
       " 'std_test_precision': 0.3579618056734372,\n",
       " 'mean_test_recall': 0.5333333333333333,\n",
       " 'std_test_recall': 0.30258148581093913}"
      ]
     },
     "metadata": {},
     "execution_count": 42
    }
   ],
   "source": [
    "best_result"
   ]
  },
  {
   "cell_type": "code",
   "execution_count": 43,
   "metadata": {},
   "outputs": [],
   "source": [
    "# Saving predictions\n",
    "df_ypredict = pd.concat([X.reset_index()[['video_name','diapo']],\n",
    "                        pd.DataFrame(y_predict, columns=['ypredict'])],axis=1)\n",
    "df_ypredict.to_csv('ypredict_' + features + '_tw5_diapo' + diapo_selection + '.csv')"
   ]
  },
  {
   "cell_type": "markdown",
   "metadata": {},
   "source": [
    "#### En aggrégeant les prédictions des diapos"
   ]
  },
  {
   "cell_type": "code",
   "execution_count": 73,
   "metadata": {},
   "outputs": [],
   "source": [
    "# Autre méthode\n",
    "X = df_ypredict.groupby(['video_name','diapo']).agg({'ypredict':['mean','min','max', 'median', 'std', percentil25, percentil75, kurtosis, skew]})"
   ]
  },
  {
   "cell_type": "code",
   "execution_count": 74,
   "metadata": {},
   "outputs": [],
   "source": [
    "Xy = X.merge(df_annotations_stress, how='inner', on=['video_name','diapo'])\n",
    "X = Xy.iloc[:,:-1].set_index(['video_name','diapo'])\n",
    "y = Xy.iloc[:,-1]"
   ]
  },
  {
   "cell_type": "code",
   "execution_count": 75,
   "metadata": {},
   "outputs": [],
   "source": [
    "groups = X.reset_index()['video_name']\n",
    "loo = LeaveOneGroupOut()\n",
    "cv_loo = loo.split(X, y, groups)"
   ]
  },
  {
   "cell_type": "code",
   "execution_count": 76,
   "metadata": {},
   "outputs": [
    {
     "output_type": "stream",
     "name": "stdout",
     "text": [
      "Fitting 30 folds for each of 20 candidates, totalling 600 fits\n",
      "[Parallel(n_jobs=-1)]: Using backend LokyBackend with 8 concurrent workers.\n",
      "[Parallel(n_jobs=-1)]: Done  56 tasks      | elapsed:    0.5s\n",
      "[Parallel(n_jobs=-1)]: Done 585 out of 600 | elapsed:    5.2s remaining:    0.1s\n",
      "[Parallel(n_jobs=-1)]: Done 600 out of 600 | elapsed:    5.2s finished\n",
      "[Parallel(n_jobs=-1)]: Using backend LokyBackend with 8 concurrent workers.\n",
      "Best estimator LogisticRegression(C=0.01, multi_class='multinomial', random_state=42)\n",
      "Best results 0.5155820105820106\n",
      "Best params {'C': 0.01, 'class_weight': None}\n",
      "accuracy (mean, std) 0.5133333333333333 0.28604583937233247\n",
      "f1 (mean, std) 0.5155820105820106 0.29546255643146463\n",
      "balanced accuracy (mean, std) 0.502962962962963 0.2901919803501358\n",
      "precision (mean, std) 0.6372222222222224 0.3567228235472272\n",
      "recall (mean, std) 0.5133333333333333 0.28604583937233247\n",
      "\n",
      "Fitting 30 folds for each of 80 candidates, totalling 2400 fits\n",
      "[Parallel(n_jobs=-1)]: Done  56 tasks      | elapsed:    0.4s\n",
      "[Parallel(n_jobs=-1)]: Done 1200 tasks      | elapsed:    6.0s\n",
      "[Parallel(n_jobs=-1)]: Done 2400 out of 2400 | elapsed:   13.4s finished\n",
      "[Parallel(n_jobs=-1)]: Using backend LokyBackend with 8 concurrent workers.\n",
      "Best estimator Pipeline(steps=[('pca', PCA(n_components=2)),\n",
      "                ('logistic',\n",
      "                 LogisticRegression(C=0.5, multi_class='multinomial'))])\n",
      "Best results 0.5328306878306878\n",
      "Best params {'logistic__C': 0.5, 'logistic__class_weight': None, 'pca__n_components': 2}\n",
      "accuracy (mean, std) 0.5399999999999999 0.2973213749463701\n",
      "f1 (mean, std) 0.5328306878306878 0.31099281598143175\n",
      "balanced accuracy (mean, std) 0.5296296296296297 0.28950729158224436\n",
      "precision (mean, std) 0.6267777777777778 0.3520453288715061\n",
      "recall (mean, std) 0.5399999999999999 0.2973213749463701\n",
      "\n",
      "Fitting 30 folds for each of 44 candidates, totalling 1320 fits\n",
      "[Parallel(n_jobs=-1)]: Done  56 tasks      | elapsed:    0.3s\n",
      "[Parallel(n_jobs=-1)]: Done 1200 tasks      | elapsed:    3.0s\n",
      "[Parallel(n_jobs=-1)]: Done 1320 out of 1320 | elapsed:    3.3s finished\n",
      "[Parallel(n_jobs=-1)]: Using backend LokyBackend with 8 concurrent workers.\n",
      "Best estimator KNeighborsClassifier(n_neighbors=15, p=1)\n",
      "Best results 0.5264814814814814\n",
      "Best params {'n_neighbors': 15, 'p': 1, 'weights': 'uniform'}\n",
      "accuracy (mean, std) 0.52 0.25612496949731395\n",
      "f1 (mean, std) 0.5264814814814814 0.2721144127096586\n",
      "balanced accuracy (mean, std) 0.507962962962963 0.2469898339044063\n",
      "precision (mean, std) 0.6442222222222223 0.32433628334085296\n",
      "recall (mean, std) 0.52 0.25612496949731395\n",
      "\n",
      "Fitting 30 folds for each of 176 candidates, totalling 5280 fits\n",
      "[Parallel(n_jobs=-1)]: Done  56 tasks      | elapsed:    0.3s\n",
      "[Parallel(n_jobs=-1)]: Done 2160 tasks      | elapsed:    6.0s\n",
      "[Parallel(n_jobs=-1)]: Done 5280 out of 5280 | elapsed:   14.1s finished\n",
      "[Parallel(n_jobs=-1)]: Using backend LokyBackend with 8 concurrent workers.\n",
      "Best estimator Pipeline(steps=[('pca', PCA(n_components=3)),\n",
      "                ('knn', KNeighborsClassifier(n_neighbors=15, p=1))])\n",
      "Best results 0.5205026455026455\n",
      "Best params {'knn__n_neighbors': 15, 'knn__p': 1, 'knn__weights': 'uniform', 'pca__n_components': 3}\n",
      "accuracy (mean, std) 0.5266666666666667 0.27071920672329275\n",
      "f1 (mean, std) 0.5205026455026455 0.29050402354100646\n",
      "balanced accuracy (mean, std) 0.5062962962962962 0.263602118385946\n",
      "precision (mean, std) 0.6078888888888889 0.3468028400641252\n",
      "recall (mean, std) 0.5266666666666667 0.27071920672329275\n",
      "\n",
      "Fitting 30 folds for each of 56 candidates, totalling 1680 fits\n",
      "[Parallel(n_jobs=-1)]: Done  52 tasks      | elapsed:    2.4s\n",
      "[Parallel(n_jobs=-1)]: Done 232 tasks      | elapsed:   14.0s\n",
      "[Parallel(n_jobs=-1)]: Done 482 tasks      | elapsed:   28.9s\n",
      "[Parallel(n_jobs=-1)]: Done 832 tasks      | elapsed:   50.5s\n",
      "[Parallel(n_jobs=-1)]: Done 1282 tasks      | elapsed:  1.3min\n",
      "[Parallel(n_jobs=-1)]: Done 1680 out of 1680 | elapsed:  1.7min finished\n",
      "Best estimator RandomForestClassifier(max_depth=4, n_estimators=50, n_jobs=-1, random_state=42)\n",
      "Best results 0.5087037037037037\n",
      "Best params {'class_weight': None, 'max_depth': 4, 'n_estimators': 50}\n",
      "accuracy (mean, std) 0.5066666666666667 0.26195843605851327\n",
      "f1 (mean, std) 0.5087037037037037 0.2949477638388228\n",
      "balanced accuracy (mean, std) 0.48379629629629634 0.26392990259579335\n",
      "precision (mean, std) 0.5754444444444445 0.35214736323320495\n",
      "recall (mean, std) 0.5066666666666667 0.26195843605851327\n",
      "\n"
     ]
    },
    {
     "output_type": "execute_result",
     "data": {
      "text/plain": [
       "{'best_estimator': Pipeline(steps=[('pca', PCA(n_components=2)),\n",
       "                 ('logistic',\n",
       "                  LogisticRegression(C=0.5, multi_class='multinomial'))]),\n",
       " 'best_score': 0.5328306878306878,\n",
       " 'best_params': {'logistic__C': 0.5,\n",
       "  'logistic__class_weight': None,\n",
       "  'pca__n_components': 2},\n",
       " 'mean_test_f1_score': 0.5328306878306878,\n",
       " 'std_test_f1_score': 0.31099281598143175,\n",
       " 'mean_test_accuracy_score': 0.5399999999999999,\n",
       " 'std_test_accuracy_score': 0.2973213749463701,\n",
       " 'mean_test_balanced_accuracy_score': 0.5296296296296297,\n",
       " 'std_test_balanced_accuracy_score': 0.28950729158224436,\n",
       " 'mean_test_precision': 0.6267777777777778,\n",
       " 'std_test_precision': 0.3520453288715061,\n",
       " 'mean_test_recall': 0.5399999999999999,\n",
       " 'std_test_recall': 0.2973213749463701}"
      ]
     },
     "metadata": {},
     "execution_count": 76
    }
   ],
   "source": [
    "best_result, y_predict, result_list = runGridSearchClassifiers(X, y, cv_loo, models_list, parameters_list, \n",
    "                                                                output_predict=True, n_jobs=-1, verbose=True)\n",
    "best_result"
   ]
  },
  {
   "cell_type": "code",
   "execution_count": 77,
   "metadata": {},
   "outputs": [
    {
     "output_type": "execute_result",
     "data": {
      "text/plain": [
       "{'best_estimator': Pipeline(steps=[('pca', PCA(n_components=2)),\n",
       "                 ('logistic',\n",
       "                  LogisticRegression(C=0.5, multi_class='multinomial'))]),\n",
       " 'best_score': 0.5328306878306878,\n",
       " 'best_params': {'logistic__C': 0.5,\n",
       "  'logistic__class_weight': None,\n",
       "  'pca__n_components': 2},\n",
       " 'mean_test_f1_score': 0.5328306878306878,\n",
       " 'std_test_f1_score': 0.31099281598143175,\n",
       " 'mean_test_accuracy_score': 0.5399999999999999,\n",
       " 'std_test_accuracy_score': 0.2973213749463701,\n",
       " 'mean_test_balanced_accuracy_score': 0.5296296296296297,\n",
       " 'std_test_balanced_accuracy_score': 0.28950729158224436,\n",
       " 'mean_test_precision': 0.6267777777777778,\n",
       " 'std_test_precision': 0.3520453288715061,\n",
       " 'mean_test_recall': 0.5399999999999999,\n",
       " 'std_test_recall': 0.2973213749463701}"
      ]
     },
     "metadata": {},
     "execution_count": 77
    }
   ],
   "source": [
    "best_result"
   ]
  },
  {
   "cell_type": "code",
   "execution_count": 78,
   "metadata": {},
   "outputs": [
    {
     "output_type": "execute_result",
     "data": {
      "text/plain": [
       "array([[56, 12,  0,  0],\n",
       "       [41, 25,  0,  0],\n",
       "       [11,  4,  0,  0],\n",
       "       [ 0,  1,  0,  0]])"
      ]
     },
     "metadata": {},
     "execution_count": 78
    }
   ],
   "source": [
    "from sklearn.metrics import confusion_matrix\n",
    "confusion_matrix(y, y_predict)"
   ]
  },
  {
   "cell_type": "code",
   "execution_count": 80,
   "metadata": {},
   "outputs": [
    {
     "output_type": "execute_result",
     "data": {
      "text/plain": [
       "                    video_name  diapo  ypredict\n",
       "0               Test_pour_AFPA      8       0.0\n",
       "1               Test_pour_AFPA      9       1.0\n",
       "2               Test_pour_AFPA     10       0.0\n",
       "3               Test_pour_AFPA     11       0.0\n",
       "4               Test_pour_AFPA     17       0.0\n",
       "..                         ...    ...       ...\n",
       "145  WIN_20210417_14_53_12_Pro      8       0.0\n",
       "146  WIN_20210417_14_53_12_Pro      9       0.0\n",
       "147  WIN_20210417_14_53_12_Pro     10       0.0\n",
       "148  WIN_20210417_14_53_12_Pro     11       0.0\n",
       "149  WIN_20210417_14_53_12_Pro     17       0.0\n",
       "\n",
       "[150 rows x 3 columns]"
      ],
      "text/html": "<div>\n<style scoped>\n    .dataframe tbody tr th:only-of-type {\n        vertical-align: middle;\n    }\n\n    .dataframe tbody tr th {\n        vertical-align: top;\n    }\n\n    .dataframe thead th {\n        text-align: right;\n    }\n</style>\n<table border=\"1\" class=\"dataframe\">\n  <thead>\n    <tr style=\"text-align: right;\">\n      <th></th>\n      <th>video_name</th>\n      <th>diapo</th>\n      <th>ypredict</th>\n    </tr>\n  </thead>\n  <tbody>\n    <tr>\n      <th>0</th>\n      <td>Test_pour_AFPA</td>\n      <td>8</td>\n      <td>0.0</td>\n    </tr>\n    <tr>\n      <th>1</th>\n      <td>Test_pour_AFPA</td>\n      <td>9</td>\n      <td>1.0</td>\n    </tr>\n    <tr>\n      <th>2</th>\n      <td>Test_pour_AFPA</td>\n      <td>10</td>\n      <td>0.0</td>\n    </tr>\n    <tr>\n      <th>3</th>\n      <td>Test_pour_AFPA</td>\n      <td>11</td>\n      <td>0.0</td>\n    </tr>\n    <tr>\n      <th>4</th>\n      <td>Test_pour_AFPA</td>\n      <td>17</td>\n      <td>0.0</td>\n    </tr>\n    <tr>\n      <th>...</th>\n      <td>...</td>\n      <td>...</td>\n      <td>...</td>\n    </tr>\n    <tr>\n      <th>145</th>\n      <td>WIN_20210417_14_53_12_Pro</td>\n      <td>8</td>\n      <td>0.0</td>\n    </tr>\n    <tr>\n      <th>146</th>\n      <td>WIN_20210417_14_53_12_Pro</td>\n      <td>9</td>\n      <td>0.0</td>\n    </tr>\n    <tr>\n      <th>147</th>\n      <td>WIN_20210417_14_53_12_Pro</td>\n      <td>10</td>\n      <td>0.0</td>\n    </tr>\n    <tr>\n      <th>148</th>\n      <td>WIN_20210417_14_53_12_Pro</td>\n      <td>11</td>\n      <td>0.0</td>\n    </tr>\n    <tr>\n      <th>149</th>\n      <td>WIN_20210417_14_53_12_Pro</td>\n      <td>17</td>\n      <td>0.0</td>\n    </tr>\n  </tbody>\n</table>\n<p>150 rows × 3 columns</p>\n</div>"
     },
     "metadata": {},
     "execution_count": 80
    }
   ],
   "source": [
    "df_ypredict"
   ]
  },
  {
   "cell_type": "markdown",
   "metadata": {},
   "source": [
    "## Stress global"
   ]
  },
  {
   "cell_type": "markdown",
   "metadata": {},
   "source": [
    "### En utilisant le stress prédit des diapos"
   ]
  },
  {
   "cell_type": "code",
   "execution_count": 44,
   "metadata": {},
   "outputs": [],
   "source": [
    "df_ypredict = pd.read_csv('ypredict_' + features + '_tw5_diapo' + diapo_selection + '.csv')\n",
    "df_ypredict = df_ypredict.iloc[:,1:]\n",
    "df_ypredict.columns = ['video_name','diapo','ypredict']\n",
    "ypredict_stress_diapo = df_ypredict.pivot_table(values='ypredict', columns='diapo',index='video_name',aggfunc='mean')\n"
   ]
  },
  {
   "cell_type": "code",
   "execution_count": 45,
   "metadata": {},
   "outputs": [
    {
     "output_type": "execute_result",
     "data": {
      "text/plain": [
       "diapo                             8    9    10   11   17\n",
       "video_name                                              \n",
       "Test_pour_AFPA                   0.0  1.0  0.0  0.0  0.0\n",
       "Video_1                          0.0  0.0  0.0  0.0  1.0\n",
       "WIN_20210323_19_17_40_Pro        0.0  0.0  1.0  1.0  0.0\n",
       "WIN_20210329_10_16_02_Pro        0.0  1.0  1.0  0.0  0.0\n",
       "WIN_20210330_13_10_29_Pro        0.0  0.0  0.0  0.0  0.0\n",
       "WIN_20210331_21_22_52_Pro        1.0  1.0  0.0  0.0  1.0\n",
       "WIN_20210402_14_27_50_Pro        0.0  0.0  0.0  0.0  0.0\n",
       "WIN_20210402_19_04_53_Pro        1.0  1.0  1.0  0.0  0.0\n",
       "WIN_20210403_18_49_15_Pro        1.0  0.0  0.0  0.0  1.0\n",
       "WIN_20210404_10_58_27_Pro        1.0  1.0  1.0  1.0  1.0\n",
       "WIN_20210404_21_41_12_Pro        0.0  1.0  1.0  1.0  0.0\n",
       "WIN_20210405_15_09_16_Pro        0.0  1.0  1.0  0.0  1.0\n",
       "WIN_20210406_15_06_15_Pro        0.0  1.0  0.0  0.0  0.0\n",
       "WIN_20210406_18_35_52_Pro        1.0  0.0  0.0  0.0  0.0\n",
       "WIN_20210406_18_49_10_Pro        1.0  1.0  1.0  0.0  0.0\n",
       "WIN_20210406_21_05_52_Pro        0.0  0.0  0.0  0.0  0.0\n",
       "WIN_20210407_09_04_05_Pro        0.0  1.0  1.0  1.0  0.0\n",
       "WIN_20210407_14_54_56_Pro_edit2  0.0  0.0  0.0  0.0  0.0\n",
       "WIN_20210408_11_48_58_Pro        1.0  0.0  1.0  1.0  1.0\n",
       "WIN_20210408_14_00_44_Pro        0.0  0.0  0.0  0.0  1.0\n",
       "WIN_20210408_14_02_19_Pro        1.0  0.0  1.0  0.0  0.0\n",
       "WIN_20210408_14_11_32_Pro        0.0  0.0  0.0  0.0  0.0\n",
       "WIN_20210408_15_20_51_Pro        0.0  0.0  0.0  0.0  1.0\n",
       "WIN_20210408_16_04_32_Pro        1.0  1.0  1.0  1.0  1.0\n",
       "WIN_20210409_10_26_11_Pro        1.0  0.0  0.0  0.0  0.0\n",
       "WIN_20210413_15_38_01_Pro        0.0  0.0  1.0  1.0  1.0\n",
       "WIN_20210414_06_24_52_Pro        0.0  0.0  0.0  0.0  0.0\n",
       "WIN_20210415_15_41_24_Pro        0.0  1.0  1.0  0.0  0.0\n",
       "WIN_20210416_08_06_54_Pro        1.0  1.0  0.0  0.0  1.0\n",
       "WIN_20210417_14_53_12_Pro        1.0  0.0  0.0  0.0  0.0"
      ],
      "text/html": "<div>\n<style scoped>\n    .dataframe tbody tr th:only-of-type {\n        vertical-align: middle;\n    }\n\n    .dataframe tbody tr th {\n        vertical-align: top;\n    }\n\n    .dataframe thead th {\n        text-align: right;\n    }\n</style>\n<table border=\"1\" class=\"dataframe\">\n  <thead>\n    <tr style=\"text-align: right;\">\n      <th>diapo</th>\n      <th>8</th>\n      <th>9</th>\n      <th>10</th>\n      <th>11</th>\n      <th>17</th>\n    </tr>\n    <tr>\n      <th>video_name</th>\n      <th></th>\n      <th></th>\n      <th></th>\n      <th></th>\n      <th></th>\n    </tr>\n  </thead>\n  <tbody>\n    <tr>\n      <th>Test_pour_AFPA</th>\n      <td>0.0</td>\n      <td>1.0</td>\n      <td>0.0</td>\n      <td>0.0</td>\n      <td>0.0</td>\n    </tr>\n    <tr>\n      <th>Video_1</th>\n      <td>0.0</td>\n      <td>0.0</td>\n      <td>0.0</td>\n      <td>0.0</td>\n      <td>1.0</td>\n    </tr>\n    <tr>\n      <th>WIN_20210323_19_17_40_Pro</th>\n      <td>0.0</td>\n      <td>0.0</td>\n      <td>1.0</td>\n      <td>1.0</td>\n      <td>0.0</td>\n    </tr>\n    <tr>\n      <th>WIN_20210329_10_16_02_Pro</th>\n      <td>0.0</td>\n      <td>1.0</td>\n      <td>1.0</td>\n      <td>0.0</td>\n      <td>0.0</td>\n    </tr>\n    <tr>\n      <th>WIN_20210330_13_10_29_Pro</th>\n      <td>0.0</td>\n      <td>0.0</td>\n      <td>0.0</td>\n      <td>0.0</td>\n      <td>0.0</td>\n    </tr>\n    <tr>\n      <th>WIN_20210331_21_22_52_Pro</th>\n      <td>1.0</td>\n      <td>1.0</td>\n      <td>0.0</td>\n      <td>0.0</td>\n      <td>1.0</td>\n    </tr>\n    <tr>\n      <th>WIN_20210402_14_27_50_Pro</th>\n      <td>0.0</td>\n      <td>0.0</td>\n      <td>0.0</td>\n      <td>0.0</td>\n      <td>0.0</td>\n    </tr>\n    <tr>\n      <th>WIN_20210402_19_04_53_Pro</th>\n      <td>1.0</td>\n      <td>1.0</td>\n      <td>1.0</td>\n      <td>0.0</td>\n      <td>0.0</td>\n    </tr>\n    <tr>\n      <th>WIN_20210403_18_49_15_Pro</th>\n      <td>1.0</td>\n      <td>0.0</td>\n      <td>0.0</td>\n      <td>0.0</td>\n      <td>1.0</td>\n    </tr>\n    <tr>\n      <th>WIN_20210404_10_58_27_Pro</th>\n      <td>1.0</td>\n      <td>1.0</td>\n      <td>1.0</td>\n      <td>1.0</td>\n      <td>1.0</td>\n    </tr>\n    <tr>\n      <th>WIN_20210404_21_41_12_Pro</th>\n      <td>0.0</td>\n      <td>1.0</td>\n      <td>1.0</td>\n      <td>1.0</td>\n      <td>0.0</td>\n    </tr>\n    <tr>\n      <th>WIN_20210405_15_09_16_Pro</th>\n      <td>0.0</td>\n      <td>1.0</td>\n      <td>1.0</td>\n      <td>0.0</td>\n      <td>1.0</td>\n    </tr>\n    <tr>\n      <th>WIN_20210406_15_06_15_Pro</th>\n      <td>0.0</td>\n      <td>1.0</td>\n      <td>0.0</td>\n      <td>0.0</td>\n      <td>0.0</td>\n    </tr>\n    <tr>\n      <th>WIN_20210406_18_35_52_Pro</th>\n      <td>1.0</td>\n      <td>0.0</td>\n      <td>0.0</td>\n      <td>0.0</td>\n      <td>0.0</td>\n    </tr>\n    <tr>\n      <th>WIN_20210406_18_49_10_Pro</th>\n      <td>1.0</td>\n      <td>1.0</td>\n      <td>1.0</td>\n      <td>0.0</td>\n      <td>0.0</td>\n    </tr>\n    <tr>\n      <th>WIN_20210406_21_05_52_Pro</th>\n      <td>0.0</td>\n      <td>0.0</td>\n      <td>0.0</td>\n      <td>0.0</td>\n      <td>0.0</td>\n    </tr>\n    <tr>\n      <th>WIN_20210407_09_04_05_Pro</th>\n      <td>0.0</td>\n      <td>1.0</td>\n      <td>1.0</td>\n      <td>1.0</td>\n      <td>0.0</td>\n    </tr>\n    <tr>\n      <th>WIN_20210407_14_54_56_Pro_edit2</th>\n      <td>0.0</td>\n      <td>0.0</td>\n      <td>0.0</td>\n      <td>0.0</td>\n      <td>0.0</td>\n    </tr>\n    <tr>\n      <th>WIN_20210408_11_48_58_Pro</th>\n      <td>1.0</td>\n      <td>0.0</td>\n      <td>1.0</td>\n      <td>1.0</td>\n      <td>1.0</td>\n    </tr>\n    <tr>\n      <th>WIN_20210408_14_00_44_Pro</th>\n      <td>0.0</td>\n      <td>0.0</td>\n      <td>0.0</td>\n      <td>0.0</td>\n      <td>1.0</td>\n    </tr>\n    <tr>\n      <th>WIN_20210408_14_02_19_Pro</th>\n      <td>1.0</td>\n      <td>0.0</td>\n      <td>1.0</td>\n      <td>0.0</td>\n      <td>0.0</td>\n    </tr>\n    <tr>\n      <th>WIN_20210408_14_11_32_Pro</th>\n      <td>0.0</td>\n      <td>0.0</td>\n      <td>0.0</td>\n      <td>0.0</td>\n      <td>0.0</td>\n    </tr>\n    <tr>\n      <th>WIN_20210408_15_20_51_Pro</th>\n      <td>0.0</td>\n      <td>0.0</td>\n      <td>0.0</td>\n      <td>0.0</td>\n      <td>1.0</td>\n    </tr>\n    <tr>\n      <th>WIN_20210408_16_04_32_Pro</th>\n      <td>1.0</td>\n      <td>1.0</td>\n      <td>1.0</td>\n      <td>1.0</td>\n      <td>1.0</td>\n    </tr>\n    <tr>\n      <th>WIN_20210409_10_26_11_Pro</th>\n      <td>1.0</td>\n      <td>0.0</td>\n      <td>0.0</td>\n      <td>0.0</td>\n      <td>0.0</td>\n    </tr>\n    <tr>\n      <th>WIN_20210413_15_38_01_Pro</th>\n      <td>0.0</td>\n      <td>0.0</td>\n      <td>1.0</td>\n      <td>1.0</td>\n      <td>1.0</td>\n    </tr>\n    <tr>\n      <th>WIN_20210414_06_24_52_Pro</th>\n      <td>0.0</td>\n      <td>0.0</td>\n      <td>0.0</td>\n      <td>0.0</td>\n      <td>0.0</td>\n    </tr>\n    <tr>\n      <th>WIN_20210415_15_41_24_Pro</th>\n      <td>0.0</td>\n      <td>1.0</td>\n      <td>1.0</td>\n      <td>0.0</td>\n      <td>0.0</td>\n    </tr>\n    <tr>\n      <th>WIN_20210416_08_06_54_Pro</th>\n      <td>1.0</td>\n      <td>1.0</td>\n      <td>0.0</td>\n      <td>0.0</td>\n      <td>1.0</td>\n    </tr>\n    <tr>\n      <th>WIN_20210417_14_53_12_Pro</th>\n      <td>1.0</td>\n      <td>0.0</td>\n      <td>0.0</td>\n      <td>0.0</td>\n      <td>0.0</td>\n    </tr>\n  </tbody>\n</table>\n</div>"
     },
     "metadata": {},
     "execution_count": 45
    }
   ],
   "source": [
    "ypredict_stress_diapo"
   ]
  },
  {
   "cell_type": "code",
   "execution_count": 46,
   "metadata": {},
   "outputs": [
    {
     "output_type": "execute_result",
     "data": {
      "text/plain": [
       "                         video_name    1    8    9   10   11   12   17   18  \\\n",
       "0                    Test_pour_AFPA  1.0  1.0  0.0  0.0  0.0  1.0  0.0  1.0   \n",
       "1                           Video_1  0.0  0.0  0.0  0.0  1.0  1.0  1.0  1.0   \n",
       "2         WIN_20210323_19_17_40_Pro  1.0  0.0  1.0  1.0  1.0  1.0  1.0  1.0   \n",
       "3         WIN_20210329_10_16_02_Pro  0.0  0.0  1.0  1.0  0.0  1.0  0.0  0.0   \n",
       "4         WIN_20210330_13_10_29_Pro  0.0  0.0  0.0  0.0  1.0  0.0  0.0  0.0   \n",
       "5         WIN_20210331_21_22_52_Pro  0.0  0.0  1.0  1.0  1.0  1.0  0.0  0.0   \n",
       "6         WIN_20210402_14_27_50_Pro  1.0  1.0  1.0  2.0  1.0  1.0  1.0  1.0   \n",
       "7         WIN_20210402_19_04_53_Pro  2.0  1.0  1.0  1.0  1.0  2.0  1.0  2.0   \n",
       "8         WIN_20210403_18_49_15_Pro  1.0  1.0  1.0  1.0  1.0  2.0  2.0  1.0   \n",
       "9         WIN_20210404_10_58_27_Pro  0.0  1.0  1.0  1.0  1.0  1.0  1.0  1.0   \n",
       "10        WIN_20210404_21_41_12_Pro  0.0  0.0  1.0  0.0  0.0  1.0  0.0  1.0   \n",
       "11        WIN_20210405_15_09_16_Pro  0.0  1.0  1.0  1.0  1.0  0.0  0.0  1.0   \n",
       "12        WIN_20210406_15_06_15_Pro  1.0  1.0  1.0  1.0  1.0  2.0  1.0  2.0   \n",
       "13        WIN_20210406_18_35_52_Pro  0.0  0.0  1.0  0.0  0.0  1.0  0.0  1.0   \n",
       "14        WIN_20210406_18_49_10_Pro  1.0  0.0  1.0  1.0  1.0  1.0  1.0  1.0   \n",
       "15        WIN_20210406_21_05_52_Pro  1.0  2.0  2.0  1.0  2.0  1.0  1.0  1.0   \n",
       "16        WIN_20210407_09_04_05_Pro  0.0  0.0  2.0  1.0  3.0  1.0  0.0  2.0   \n",
       "17  WIN_20210407_14_54_56_Pro_edit2  0.0  0.0  0.0  0.0  0.0  1.0  0.0  1.0   \n",
       "18        WIN_20210408_11_48_58_Pro  0.0  1.0  1.0  1.0  1.0  1.0  1.0  2.0   \n",
       "19        WIN_20210408_14_00_44_Pro  0.0  0.0  0.0  0.0  0.0  1.0  0.0  0.0   \n",
       "20        WIN_20210408_14_02_19_Pro  0.0  1.0  0.0  0.0  0.0  0.0  0.0  1.0   \n",
       "21        WIN_20210408_14_11_32_Pro  0.0  2.0  2.0  2.0  2.0  1.0  0.0  1.0   \n",
       "22        WIN_20210408_15_20_51_Pro  0.0  0.0  0.0  0.0  0.0  0.0  0.0  0.0   \n",
       "23        WIN_20210408_16_04_32_Pro  0.0  0.0  1.0  0.0  0.0  0.0  0.0  0.0   \n",
       "24        WIN_20210409_10_26_11_Pro  1.0  1.0  0.0  1.0  0.0  0.0  1.0  1.0   \n",
       "25        WIN_20210413_15_38_01_Pro  1.0  0.0  0.0  0.0  0.0  1.0  1.0  1.0   \n",
       "26        WIN_20210414_06_24_52_Pro  2.0  2.0  2.0  2.0  2.0  1.0  1.0  2.0   \n",
       "27        WIN_20210415_15_41_24_Pro  1.0  0.0  0.0  1.0  0.0  0.0  0.0  0.0   \n",
       "28        WIN_20210416_08_06_54_Pro  1.0  2.0  1.0  1.0  1.0  0.0  0.0  1.0   \n",
       "29        WIN_20210417_14_53_12_Pro  0.0  0.0  0.0  0.0  0.0  0.0  1.0  1.0   \n",
       "\n",
       "    stress_global  \n",
       "0             1.0  \n",
       "1             0.0  \n",
       "2             1.0  \n",
       "3             1.0  \n",
       "4             0.0  \n",
       "5             1.0  \n",
       "6             1.0  \n",
       "7             2.0  \n",
       "8             2.0  \n",
       "9             1.0  \n",
       "10            0.0  \n",
       "11            1.0  \n",
       "12            2.0  \n",
       "13            0.0  \n",
       "14            1.0  \n",
       "15            2.0  \n",
       "16            2.0  \n",
       "17            0.0  \n",
       "18            2.0  \n",
       "19            0.0  \n",
       "20            0.0  \n",
       "21            2.0  \n",
       "22            0.0  \n",
       "23            0.0  \n",
       "24            0.0  \n",
       "25            1.0  \n",
       "26            2.0  \n",
       "27            0.0  \n",
       "28            1.0  \n",
       "29            0.0  "
      ],
      "text/html": "<div>\n<style scoped>\n    .dataframe tbody tr th:only-of-type {\n        vertical-align: middle;\n    }\n\n    .dataframe tbody tr th {\n        vertical-align: top;\n    }\n\n    .dataframe thead th {\n        text-align: right;\n    }\n</style>\n<table border=\"1\" class=\"dataframe\">\n  <thead>\n    <tr style=\"text-align: right;\">\n      <th></th>\n      <th>video_name</th>\n      <th>1</th>\n      <th>8</th>\n      <th>9</th>\n      <th>10</th>\n      <th>11</th>\n      <th>12</th>\n      <th>17</th>\n      <th>18</th>\n      <th>stress_global</th>\n    </tr>\n  </thead>\n  <tbody>\n    <tr>\n      <th>0</th>\n      <td>Test_pour_AFPA</td>\n      <td>1.0</td>\n      <td>1.0</td>\n      <td>0.0</td>\n      <td>0.0</td>\n      <td>0.0</td>\n      <td>1.0</td>\n      <td>0.0</td>\n      <td>1.0</td>\n      <td>1.0</td>\n    </tr>\n    <tr>\n      <th>1</th>\n      <td>Video_1</td>\n      <td>0.0</td>\n      <td>0.0</td>\n      <td>0.0</td>\n      <td>0.0</td>\n      <td>1.0</td>\n      <td>1.0</td>\n      <td>1.0</td>\n      <td>1.0</td>\n      <td>0.0</td>\n    </tr>\n    <tr>\n      <th>2</th>\n      <td>WIN_20210323_19_17_40_Pro</td>\n      <td>1.0</td>\n      <td>0.0</td>\n      <td>1.0</td>\n      <td>1.0</td>\n      <td>1.0</td>\n      <td>1.0</td>\n      <td>1.0</td>\n      <td>1.0</td>\n      <td>1.0</td>\n    </tr>\n    <tr>\n      <th>3</th>\n      <td>WIN_20210329_10_16_02_Pro</td>\n      <td>0.0</td>\n      <td>0.0</td>\n      <td>1.0</td>\n      <td>1.0</td>\n      <td>0.0</td>\n      <td>1.0</td>\n      <td>0.0</td>\n      <td>0.0</td>\n      <td>1.0</td>\n    </tr>\n    <tr>\n      <th>4</th>\n      <td>WIN_20210330_13_10_29_Pro</td>\n      <td>0.0</td>\n      <td>0.0</td>\n      <td>0.0</td>\n      <td>0.0</td>\n      <td>1.0</td>\n      <td>0.0</td>\n      <td>0.0</td>\n      <td>0.0</td>\n      <td>0.0</td>\n    </tr>\n    <tr>\n      <th>5</th>\n      <td>WIN_20210331_21_22_52_Pro</td>\n      <td>0.0</td>\n      <td>0.0</td>\n      <td>1.0</td>\n      <td>1.0</td>\n      <td>1.0</td>\n      <td>1.0</td>\n      <td>0.0</td>\n      <td>0.0</td>\n      <td>1.0</td>\n    </tr>\n    <tr>\n      <th>6</th>\n      <td>WIN_20210402_14_27_50_Pro</td>\n      <td>1.0</td>\n      <td>1.0</td>\n      <td>1.0</td>\n      <td>2.0</td>\n      <td>1.0</td>\n      <td>1.0</td>\n      <td>1.0</td>\n      <td>1.0</td>\n      <td>1.0</td>\n    </tr>\n    <tr>\n      <th>7</th>\n      <td>WIN_20210402_19_04_53_Pro</td>\n      <td>2.0</td>\n      <td>1.0</td>\n      <td>1.0</td>\n      <td>1.0</td>\n      <td>1.0</td>\n      <td>2.0</td>\n      <td>1.0</td>\n      <td>2.0</td>\n      <td>2.0</td>\n    </tr>\n    <tr>\n      <th>8</th>\n      <td>WIN_20210403_18_49_15_Pro</td>\n      <td>1.0</td>\n      <td>1.0</td>\n      <td>1.0</td>\n      <td>1.0</td>\n      <td>1.0</td>\n      <td>2.0</td>\n      <td>2.0</td>\n      <td>1.0</td>\n      <td>2.0</td>\n    </tr>\n    <tr>\n      <th>9</th>\n      <td>WIN_20210404_10_58_27_Pro</td>\n      <td>0.0</td>\n      <td>1.0</td>\n      <td>1.0</td>\n      <td>1.0</td>\n      <td>1.0</td>\n      <td>1.0</td>\n      <td>1.0</td>\n      <td>1.0</td>\n      <td>1.0</td>\n    </tr>\n    <tr>\n      <th>10</th>\n      <td>WIN_20210404_21_41_12_Pro</td>\n      <td>0.0</td>\n      <td>0.0</td>\n      <td>1.0</td>\n      <td>0.0</td>\n      <td>0.0</td>\n      <td>1.0</td>\n      <td>0.0</td>\n      <td>1.0</td>\n      <td>0.0</td>\n    </tr>\n    <tr>\n      <th>11</th>\n      <td>WIN_20210405_15_09_16_Pro</td>\n      <td>0.0</td>\n      <td>1.0</td>\n      <td>1.0</td>\n      <td>1.0</td>\n      <td>1.0</td>\n      <td>0.0</td>\n      <td>0.0</td>\n      <td>1.0</td>\n      <td>1.0</td>\n    </tr>\n    <tr>\n      <th>12</th>\n      <td>WIN_20210406_15_06_15_Pro</td>\n      <td>1.0</td>\n      <td>1.0</td>\n      <td>1.0</td>\n      <td>1.0</td>\n      <td>1.0</td>\n      <td>2.0</td>\n      <td>1.0</td>\n      <td>2.0</td>\n      <td>2.0</td>\n    </tr>\n    <tr>\n      <th>13</th>\n      <td>WIN_20210406_18_35_52_Pro</td>\n      <td>0.0</td>\n      <td>0.0</td>\n      <td>1.0</td>\n      <td>0.0</td>\n      <td>0.0</td>\n      <td>1.0</td>\n      <td>0.0</td>\n      <td>1.0</td>\n      <td>0.0</td>\n    </tr>\n    <tr>\n      <th>14</th>\n      <td>WIN_20210406_18_49_10_Pro</td>\n      <td>1.0</td>\n      <td>0.0</td>\n      <td>1.0</td>\n      <td>1.0</td>\n      <td>1.0</td>\n      <td>1.0</td>\n      <td>1.0</td>\n      <td>1.0</td>\n      <td>1.0</td>\n    </tr>\n    <tr>\n      <th>15</th>\n      <td>WIN_20210406_21_05_52_Pro</td>\n      <td>1.0</td>\n      <td>2.0</td>\n      <td>2.0</td>\n      <td>1.0</td>\n      <td>2.0</td>\n      <td>1.0</td>\n      <td>1.0</td>\n      <td>1.0</td>\n      <td>2.0</td>\n    </tr>\n    <tr>\n      <th>16</th>\n      <td>WIN_20210407_09_04_05_Pro</td>\n      <td>0.0</td>\n      <td>0.0</td>\n      <td>2.0</td>\n      <td>1.0</td>\n      <td>3.0</td>\n      <td>1.0</td>\n      <td>0.0</td>\n      <td>2.0</td>\n      <td>2.0</td>\n    </tr>\n    <tr>\n      <th>17</th>\n      <td>WIN_20210407_14_54_56_Pro_edit2</td>\n      <td>0.0</td>\n      <td>0.0</td>\n      <td>0.0</td>\n      <td>0.0</td>\n      <td>0.0</td>\n      <td>1.0</td>\n      <td>0.0</td>\n      <td>1.0</td>\n      <td>0.0</td>\n    </tr>\n    <tr>\n      <th>18</th>\n      <td>WIN_20210408_11_48_58_Pro</td>\n      <td>0.0</td>\n      <td>1.0</td>\n      <td>1.0</td>\n      <td>1.0</td>\n      <td>1.0</td>\n      <td>1.0</td>\n      <td>1.0</td>\n      <td>2.0</td>\n      <td>2.0</td>\n    </tr>\n    <tr>\n      <th>19</th>\n      <td>WIN_20210408_14_00_44_Pro</td>\n      <td>0.0</td>\n      <td>0.0</td>\n      <td>0.0</td>\n      <td>0.0</td>\n      <td>0.0</td>\n      <td>1.0</td>\n      <td>0.0</td>\n      <td>0.0</td>\n      <td>0.0</td>\n    </tr>\n    <tr>\n      <th>20</th>\n      <td>WIN_20210408_14_02_19_Pro</td>\n      <td>0.0</td>\n      <td>1.0</td>\n      <td>0.0</td>\n      <td>0.0</td>\n      <td>0.0</td>\n      <td>0.0</td>\n      <td>0.0</td>\n      <td>1.0</td>\n      <td>0.0</td>\n    </tr>\n    <tr>\n      <th>21</th>\n      <td>WIN_20210408_14_11_32_Pro</td>\n      <td>0.0</td>\n      <td>2.0</td>\n      <td>2.0</td>\n      <td>2.0</td>\n      <td>2.0</td>\n      <td>1.0</td>\n      <td>0.0</td>\n      <td>1.0</td>\n      <td>2.0</td>\n    </tr>\n    <tr>\n      <th>22</th>\n      <td>WIN_20210408_15_20_51_Pro</td>\n      <td>0.0</td>\n      <td>0.0</td>\n      <td>0.0</td>\n      <td>0.0</td>\n      <td>0.0</td>\n      <td>0.0</td>\n      <td>0.0</td>\n      <td>0.0</td>\n      <td>0.0</td>\n    </tr>\n    <tr>\n      <th>23</th>\n      <td>WIN_20210408_16_04_32_Pro</td>\n      <td>0.0</td>\n      <td>0.0</td>\n      <td>1.0</td>\n      <td>0.0</td>\n      <td>0.0</td>\n      <td>0.0</td>\n      <td>0.0</td>\n      <td>0.0</td>\n      <td>0.0</td>\n    </tr>\n    <tr>\n      <th>24</th>\n      <td>WIN_20210409_10_26_11_Pro</td>\n      <td>1.0</td>\n      <td>1.0</td>\n      <td>0.0</td>\n      <td>1.0</td>\n      <td>0.0</td>\n      <td>0.0</td>\n      <td>1.0</td>\n      <td>1.0</td>\n      <td>0.0</td>\n    </tr>\n    <tr>\n      <th>25</th>\n      <td>WIN_20210413_15_38_01_Pro</td>\n      <td>1.0</td>\n      <td>0.0</td>\n      <td>0.0</td>\n      <td>0.0</td>\n      <td>0.0</td>\n      <td>1.0</td>\n      <td>1.0</td>\n      <td>1.0</td>\n      <td>1.0</td>\n    </tr>\n    <tr>\n      <th>26</th>\n      <td>WIN_20210414_06_24_52_Pro</td>\n      <td>2.0</td>\n      <td>2.0</td>\n      <td>2.0</td>\n      <td>2.0</td>\n      <td>2.0</td>\n      <td>1.0</td>\n      <td>1.0</td>\n      <td>2.0</td>\n      <td>2.0</td>\n    </tr>\n    <tr>\n      <th>27</th>\n      <td>WIN_20210415_15_41_24_Pro</td>\n      <td>1.0</td>\n      <td>0.0</td>\n      <td>0.0</td>\n      <td>1.0</td>\n      <td>0.0</td>\n      <td>0.0</td>\n      <td>0.0</td>\n      <td>0.0</td>\n      <td>0.0</td>\n    </tr>\n    <tr>\n      <th>28</th>\n      <td>WIN_20210416_08_06_54_Pro</td>\n      <td>1.0</td>\n      <td>2.0</td>\n      <td>1.0</td>\n      <td>1.0</td>\n      <td>1.0</td>\n      <td>0.0</td>\n      <td>0.0</td>\n      <td>1.0</td>\n      <td>1.0</td>\n    </tr>\n    <tr>\n      <th>29</th>\n      <td>WIN_20210417_14_53_12_Pro</td>\n      <td>0.0</td>\n      <td>0.0</td>\n      <td>0.0</td>\n      <td>0.0</td>\n      <td>0.0</td>\n      <td>0.0</td>\n      <td>1.0</td>\n      <td>1.0</td>\n      <td>0.0</td>\n    </tr>\n  </tbody>\n</table>\n</div>"
     },
     "metadata": {},
     "execution_count": 46
    }
   ],
   "source": [
    "df_annotations_stress = pd.read_csv('annotations.csv')\n",
    "df_annotations_stress"
   ]
  },
  {
   "cell_type": "code",
   "execution_count": 47,
   "metadata": {},
   "outputs": [
    {
     "output_type": "execute_result",
     "data": {
      "text/plain": [
       "                                   8    9   10   11   17  stress_global\n",
       "video_name                                                             \n",
       "Test_pour_AFPA                   1.0  0.0  0.0  0.0  0.0            1.0\n",
       "Video_1                          0.0  0.0  0.0  1.0  1.0            0.0\n",
       "WIN_20210323_19_17_40_Pro        0.0  1.0  1.0  1.0  1.0            1.0\n",
       "WIN_20210329_10_16_02_Pro        0.0  1.0  1.0  0.0  0.0            1.0\n",
       "WIN_20210330_13_10_29_Pro        0.0  0.0  0.0  1.0  0.0            0.0\n",
       "WIN_20210331_21_22_52_Pro        0.0  1.0  1.0  1.0  0.0            1.0\n",
       "WIN_20210402_14_27_50_Pro        1.0  1.0  2.0  1.0  1.0            1.0\n",
       "WIN_20210402_19_04_53_Pro        1.0  1.0  1.0  1.0  1.0            2.0\n",
       "WIN_20210403_18_49_15_Pro        1.0  1.0  1.0  1.0  2.0            2.0\n",
       "WIN_20210404_10_58_27_Pro        1.0  1.0  1.0  1.0  1.0            1.0\n",
       "WIN_20210404_21_41_12_Pro        0.0  1.0  0.0  0.0  0.0            0.0\n",
       "WIN_20210405_15_09_16_Pro        1.0  1.0  1.0  1.0  0.0            1.0\n",
       "WIN_20210406_15_06_15_Pro        1.0  1.0  1.0  1.0  1.0            2.0\n",
       "WIN_20210406_18_35_52_Pro        0.0  1.0  0.0  0.0  0.0            0.0\n",
       "WIN_20210406_18_49_10_Pro        0.0  1.0  1.0  1.0  1.0            1.0\n",
       "WIN_20210406_21_05_52_Pro        2.0  2.0  1.0  2.0  1.0            2.0\n",
       "WIN_20210407_09_04_05_Pro        0.0  2.0  1.0  3.0  0.0            2.0\n",
       "WIN_20210407_14_54_56_Pro_edit2  0.0  0.0  0.0  0.0  0.0            0.0\n",
       "WIN_20210408_11_48_58_Pro        1.0  1.0  1.0  1.0  1.0            2.0\n",
       "WIN_20210408_14_00_44_Pro        0.0  0.0  0.0  0.0  0.0            0.0\n",
       "WIN_20210408_14_02_19_Pro        1.0  0.0  0.0  0.0  0.0            0.0\n",
       "WIN_20210408_14_11_32_Pro        2.0  2.0  2.0  2.0  0.0            2.0\n",
       "WIN_20210408_15_20_51_Pro        0.0  0.0  0.0  0.0  0.0            0.0\n",
       "WIN_20210408_16_04_32_Pro        0.0  1.0  0.0  0.0  0.0            0.0\n",
       "WIN_20210409_10_26_11_Pro        1.0  0.0  1.0  0.0  1.0            0.0\n",
       "WIN_20210413_15_38_01_Pro        0.0  0.0  0.0  0.0  1.0            1.0\n",
       "WIN_20210414_06_24_52_Pro        2.0  2.0  2.0  2.0  1.0            2.0\n",
       "WIN_20210415_15_41_24_Pro        0.0  0.0  1.0  0.0  0.0            0.0\n",
       "WIN_20210416_08_06_54_Pro        2.0  1.0  1.0  1.0  0.0            1.0\n",
       "WIN_20210417_14_53_12_Pro        0.0  0.0  0.0  0.0  1.0            0.0"
      ],
      "text/html": "<div>\n<style scoped>\n    .dataframe tbody tr th:only-of-type {\n        vertical-align: middle;\n    }\n\n    .dataframe tbody tr th {\n        vertical-align: top;\n    }\n\n    .dataframe thead th {\n        text-align: right;\n    }\n</style>\n<table border=\"1\" class=\"dataframe\">\n  <thead>\n    <tr style=\"text-align: right;\">\n      <th></th>\n      <th>8</th>\n      <th>9</th>\n      <th>10</th>\n      <th>11</th>\n      <th>17</th>\n      <th>stress_global</th>\n    </tr>\n    <tr>\n      <th>video_name</th>\n      <th></th>\n      <th></th>\n      <th></th>\n      <th></th>\n      <th></th>\n      <th></th>\n    </tr>\n  </thead>\n  <tbody>\n    <tr>\n      <th>Test_pour_AFPA</th>\n      <td>1.0</td>\n      <td>0.0</td>\n      <td>0.0</td>\n      <td>0.0</td>\n      <td>0.0</td>\n      <td>1.0</td>\n    </tr>\n    <tr>\n      <th>Video_1</th>\n      <td>0.0</td>\n      <td>0.0</td>\n      <td>0.0</td>\n      <td>1.0</td>\n      <td>1.0</td>\n      <td>0.0</td>\n    </tr>\n    <tr>\n      <th>WIN_20210323_19_17_40_Pro</th>\n      <td>0.0</td>\n      <td>1.0</td>\n      <td>1.0</td>\n      <td>1.0</td>\n      <td>1.0</td>\n      <td>1.0</td>\n    </tr>\n    <tr>\n      <th>WIN_20210329_10_16_02_Pro</th>\n      <td>0.0</td>\n      <td>1.0</td>\n      <td>1.0</td>\n      <td>0.0</td>\n      <td>0.0</td>\n      <td>1.0</td>\n    </tr>\n    <tr>\n      <th>WIN_20210330_13_10_29_Pro</th>\n      <td>0.0</td>\n      <td>0.0</td>\n      <td>0.0</td>\n      <td>1.0</td>\n      <td>0.0</td>\n      <td>0.0</td>\n    </tr>\n    <tr>\n      <th>WIN_20210331_21_22_52_Pro</th>\n      <td>0.0</td>\n      <td>1.0</td>\n      <td>1.0</td>\n      <td>1.0</td>\n      <td>0.0</td>\n      <td>1.0</td>\n    </tr>\n    <tr>\n      <th>WIN_20210402_14_27_50_Pro</th>\n      <td>1.0</td>\n      <td>1.0</td>\n      <td>2.0</td>\n      <td>1.0</td>\n      <td>1.0</td>\n      <td>1.0</td>\n    </tr>\n    <tr>\n      <th>WIN_20210402_19_04_53_Pro</th>\n      <td>1.0</td>\n      <td>1.0</td>\n      <td>1.0</td>\n      <td>1.0</td>\n      <td>1.0</td>\n      <td>2.0</td>\n    </tr>\n    <tr>\n      <th>WIN_20210403_18_49_15_Pro</th>\n      <td>1.0</td>\n      <td>1.0</td>\n      <td>1.0</td>\n      <td>1.0</td>\n      <td>2.0</td>\n      <td>2.0</td>\n    </tr>\n    <tr>\n      <th>WIN_20210404_10_58_27_Pro</th>\n      <td>1.0</td>\n      <td>1.0</td>\n      <td>1.0</td>\n      <td>1.0</td>\n      <td>1.0</td>\n      <td>1.0</td>\n    </tr>\n    <tr>\n      <th>WIN_20210404_21_41_12_Pro</th>\n      <td>0.0</td>\n      <td>1.0</td>\n      <td>0.0</td>\n      <td>0.0</td>\n      <td>0.0</td>\n      <td>0.0</td>\n    </tr>\n    <tr>\n      <th>WIN_20210405_15_09_16_Pro</th>\n      <td>1.0</td>\n      <td>1.0</td>\n      <td>1.0</td>\n      <td>1.0</td>\n      <td>0.0</td>\n      <td>1.0</td>\n    </tr>\n    <tr>\n      <th>WIN_20210406_15_06_15_Pro</th>\n      <td>1.0</td>\n      <td>1.0</td>\n      <td>1.0</td>\n      <td>1.0</td>\n      <td>1.0</td>\n      <td>2.0</td>\n    </tr>\n    <tr>\n      <th>WIN_20210406_18_35_52_Pro</th>\n      <td>0.0</td>\n      <td>1.0</td>\n      <td>0.0</td>\n      <td>0.0</td>\n      <td>0.0</td>\n      <td>0.0</td>\n    </tr>\n    <tr>\n      <th>WIN_20210406_18_49_10_Pro</th>\n      <td>0.0</td>\n      <td>1.0</td>\n      <td>1.0</td>\n      <td>1.0</td>\n      <td>1.0</td>\n      <td>1.0</td>\n    </tr>\n    <tr>\n      <th>WIN_20210406_21_05_52_Pro</th>\n      <td>2.0</td>\n      <td>2.0</td>\n      <td>1.0</td>\n      <td>2.0</td>\n      <td>1.0</td>\n      <td>2.0</td>\n    </tr>\n    <tr>\n      <th>WIN_20210407_09_04_05_Pro</th>\n      <td>0.0</td>\n      <td>2.0</td>\n      <td>1.0</td>\n      <td>3.0</td>\n      <td>0.0</td>\n      <td>2.0</td>\n    </tr>\n    <tr>\n      <th>WIN_20210407_14_54_56_Pro_edit2</th>\n      <td>0.0</td>\n      <td>0.0</td>\n      <td>0.0</td>\n      <td>0.0</td>\n      <td>0.0</td>\n      <td>0.0</td>\n    </tr>\n    <tr>\n      <th>WIN_20210408_11_48_58_Pro</th>\n      <td>1.0</td>\n      <td>1.0</td>\n      <td>1.0</td>\n      <td>1.0</td>\n      <td>1.0</td>\n      <td>2.0</td>\n    </tr>\n    <tr>\n      <th>WIN_20210408_14_00_44_Pro</th>\n      <td>0.0</td>\n      <td>0.0</td>\n      <td>0.0</td>\n      <td>0.0</td>\n      <td>0.0</td>\n      <td>0.0</td>\n    </tr>\n    <tr>\n      <th>WIN_20210408_14_02_19_Pro</th>\n      <td>1.0</td>\n      <td>0.0</td>\n      <td>0.0</td>\n      <td>0.0</td>\n      <td>0.0</td>\n      <td>0.0</td>\n    </tr>\n    <tr>\n      <th>WIN_20210408_14_11_32_Pro</th>\n      <td>2.0</td>\n      <td>2.0</td>\n      <td>2.0</td>\n      <td>2.0</td>\n      <td>0.0</td>\n      <td>2.0</td>\n    </tr>\n    <tr>\n      <th>WIN_20210408_15_20_51_Pro</th>\n      <td>0.0</td>\n      <td>0.0</td>\n      <td>0.0</td>\n      <td>0.0</td>\n      <td>0.0</td>\n      <td>0.0</td>\n    </tr>\n    <tr>\n      <th>WIN_20210408_16_04_32_Pro</th>\n      <td>0.0</td>\n      <td>1.0</td>\n      <td>0.0</td>\n      <td>0.0</td>\n      <td>0.0</td>\n      <td>0.0</td>\n    </tr>\n    <tr>\n      <th>WIN_20210409_10_26_11_Pro</th>\n      <td>1.0</td>\n      <td>0.0</td>\n      <td>1.0</td>\n      <td>0.0</td>\n      <td>1.0</td>\n      <td>0.0</td>\n    </tr>\n    <tr>\n      <th>WIN_20210413_15_38_01_Pro</th>\n      <td>0.0</td>\n      <td>0.0</td>\n      <td>0.0</td>\n      <td>0.0</td>\n      <td>1.0</td>\n      <td>1.0</td>\n    </tr>\n    <tr>\n      <th>WIN_20210414_06_24_52_Pro</th>\n      <td>2.0</td>\n      <td>2.0</td>\n      <td>2.0</td>\n      <td>2.0</td>\n      <td>1.0</td>\n      <td>2.0</td>\n    </tr>\n    <tr>\n      <th>WIN_20210415_15_41_24_Pro</th>\n      <td>0.0</td>\n      <td>0.0</td>\n      <td>1.0</td>\n      <td>0.0</td>\n      <td>0.0</td>\n      <td>0.0</td>\n    </tr>\n    <tr>\n      <th>WIN_20210416_08_06_54_Pro</th>\n      <td>2.0</td>\n      <td>1.0</td>\n      <td>1.0</td>\n      <td>1.0</td>\n      <td>0.0</td>\n      <td>1.0</td>\n    </tr>\n    <tr>\n      <th>WIN_20210417_14_53_12_Pro</th>\n      <td>0.0</td>\n      <td>0.0</td>\n      <td>0.0</td>\n      <td>0.0</td>\n      <td>1.0</td>\n      <td>0.0</td>\n    </tr>\n  </tbody>\n</table>\n</div>"
     },
     "metadata": {},
     "execution_count": 47
    }
   ],
   "source": [
    "df_annotations_stress = pd.read_csv('annotations.csv')\n",
    "df_annotations_stress = df_annotations_stress.set_index(['video_name'])\n",
    "diapo_audio_list.append('stress_global')\n",
    "df_annotations_stress = df_annotations_stress[[str(diapo) for diapo in diapo_audio_list]]\n",
    "diapo_audio_list.pop()\n",
    "df_annotations_stress\n"
   ]
  },
  {
   "cell_type": "code",
   "execution_count": 48,
   "metadata": {},
   "outputs": [],
   "source": [
    "Xy = ypredict_stress_diapo.merge(df_annotations_stress.iloc[:,-1],how='inner',on='video_name')\n",
    "X = Xy.iloc[:,:-1]\n",
    "y = Xy.iloc[:,-1]"
   ]
  },
  {
   "cell_type": "code",
   "execution_count": 49,
   "metadata": {},
   "outputs": [
    {
     "output_type": "execute_result",
     "data": {
      "text/plain": [
       "                                   8    9   10   11   17  stress_global\n",
       "video_name                                                             \n",
       "Test_pour_AFPA                   0.0  1.0  0.0  0.0  0.0            1.0\n",
       "Video_1                          0.0  0.0  0.0  0.0  1.0            0.0\n",
       "WIN_20210323_19_17_40_Pro        0.0  0.0  1.0  1.0  0.0            1.0\n",
       "WIN_20210329_10_16_02_Pro        0.0  1.0  1.0  0.0  0.0            1.0\n",
       "WIN_20210330_13_10_29_Pro        0.0  0.0  0.0  0.0  0.0            0.0\n",
       "WIN_20210331_21_22_52_Pro        1.0  1.0  0.0  0.0  1.0            1.0\n",
       "WIN_20210402_14_27_50_Pro        0.0  0.0  0.0  0.0  0.0            1.0\n",
       "WIN_20210402_19_04_53_Pro        1.0  1.0  1.0  0.0  0.0            2.0\n",
       "WIN_20210403_18_49_15_Pro        1.0  0.0  0.0  0.0  1.0            2.0\n",
       "WIN_20210404_10_58_27_Pro        1.0  1.0  1.0  1.0  1.0            1.0\n",
       "WIN_20210404_21_41_12_Pro        0.0  1.0  1.0  1.0  0.0            0.0\n",
       "WIN_20210405_15_09_16_Pro        0.0  1.0  1.0  0.0  1.0            1.0\n",
       "WIN_20210406_15_06_15_Pro        0.0  1.0  0.0  0.0  0.0            2.0\n",
       "WIN_20210406_18_35_52_Pro        1.0  0.0  0.0  0.0  0.0            0.0\n",
       "WIN_20210406_18_49_10_Pro        1.0  1.0  1.0  0.0  0.0            1.0\n",
       "WIN_20210406_21_05_52_Pro        0.0  0.0  0.0  0.0  0.0            2.0\n",
       "WIN_20210407_09_04_05_Pro        0.0  1.0  1.0  1.0  0.0            2.0\n",
       "WIN_20210407_14_54_56_Pro_edit2  0.0  0.0  0.0  0.0  0.0            0.0\n",
       "WIN_20210408_11_48_58_Pro        1.0  0.0  1.0  1.0  1.0            2.0\n",
       "WIN_20210408_14_00_44_Pro        0.0  0.0  0.0  0.0  1.0            0.0\n",
       "WIN_20210408_14_02_19_Pro        1.0  0.0  1.0  0.0  0.0            0.0\n",
       "WIN_20210408_14_11_32_Pro        0.0  0.0  0.0  0.0  0.0            2.0\n",
       "WIN_20210408_15_20_51_Pro        0.0  0.0  0.0  0.0  1.0            0.0\n",
       "WIN_20210408_16_04_32_Pro        1.0  1.0  1.0  1.0  1.0            0.0\n",
       "WIN_20210409_10_26_11_Pro        1.0  0.0  0.0  0.0  0.0            0.0\n",
       "WIN_20210413_15_38_01_Pro        0.0  0.0  1.0  1.0  1.0            1.0\n",
       "WIN_20210414_06_24_52_Pro        0.0  0.0  0.0  0.0  0.0            2.0\n",
       "WIN_20210415_15_41_24_Pro        0.0  1.0  1.0  0.0  0.0            0.0\n",
       "WIN_20210416_08_06_54_Pro        1.0  1.0  0.0  0.0  1.0            1.0\n",
       "WIN_20210417_14_53_12_Pro        1.0  0.0  0.0  0.0  0.0            0.0"
      ],
      "text/html": "<div>\n<style scoped>\n    .dataframe tbody tr th:only-of-type {\n        vertical-align: middle;\n    }\n\n    .dataframe tbody tr th {\n        vertical-align: top;\n    }\n\n    .dataframe thead th {\n        text-align: right;\n    }\n</style>\n<table border=\"1\" class=\"dataframe\">\n  <thead>\n    <tr style=\"text-align: right;\">\n      <th></th>\n      <th>8</th>\n      <th>9</th>\n      <th>10</th>\n      <th>11</th>\n      <th>17</th>\n      <th>stress_global</th>\n    </tr>\n    <tr>\n      <th>video_name</th>\n      <th></th>\n      <th></th>\n      <th></th>\n      <th></th>\n      <th></th>\n      <th></th>\n    </tr>\n  </thead>\n  <tbody>\n    <tr>\n      <th>Test_pour_AFPA</th>\n      <td>0.0</td>\n      <td>1.0</td>\n      <td>0.0</td>\n      <td>0.0</td>\n      <td>0.0</td>\n      <td>1.0</td>\n    </tr>\n    <tr>\n      <th>Video_1</th>\n      <td>0.0</td>\n      <td>0.0</td>\n      <td>0.0</td>\n      <td>0.0</td>\n      <td>1.0</td>\n      <td>0.0</td>\n    </tr>\n    <tr>\n      <th>WIN_20210323_19_17_40_Pro</th>\n      <td>0.0</td>\n      <td>0.0</td>\n      <td>1.0</td>\n      <td>1.0</td>\n      <td>0.0</td>\n      <td>1.0</td>\n    </tr>\n    <tr>\n      <th>WIN_20210329_10_16_02_Pro</th>\n      <td>0.0</td>\n      <td>1.0</td>\n      <td>1.0</td>\n      <td>0.0</td>\n      <td>0.0</td>\n      <td>1.0</td>\n    </tr>\n    <tr>\n      <th>WIN_20210330_13_10_29_Pro</th>\n      <td>0.0</td>\n      <td>0.0</td>\n      <td>0.0</td>\n      <td>0.0</td>\n      <td>0.0</td>\n      <td>0.0</td>\n    </tr>\n    <tr>\n      <th>WIN_20210331_21_22_52_Pro</th>\n      <td>1.0</td>\n      <td>1.0</td>\n      <td>0.0</td>\n      <td>0.0</td>\n      <td>1.0</td>\n      <td>1.0</td>\n    </tr>\n    <tr>\n      <th>WIN_20210402_14_27_50_Pro</th>\n      <td>0.0</td>\n      <td>0.0</td>\n      <td>0.0</td>\n      <td>0.0</td>\n      <td>0.0</td>\n      <td>1.0</td>\n    </tr>\n    <tr>\n      <th>WIN_20210402_19_04_53_Pro</th>\n      <td>1.0</td>\n      <td>1.0</td>\n      <td>1.0</td>\n      <td>0.0</td>\n      <td>0.0</td>\n      <td>2.0</td>\n    </tr>\n    <tr>\n      <th>WIN_20210403_18_49_15_Pro</th>\n      <td>1.0</td>\n      <td>0.0</td>\n      <td>0.0</td>\n      <td>0.0</td>\n      <td>1.0</td>\n      <td>2.0</td>\n    </tr>\n    <tr>\n      <th>WIN_20210404_10_58_27_Pro</th>\n      <td>1.0</td>\n      <td>1.0</td>\n      <td>1.0</td>\n      <td>1.0</td>\n      <td>1.0</td>\n      <td>1.0</td>\n    </tr>\n    <tr>\n      <th>WIN_20210404_21_41_12_Pro</th>\n      <td>0.0</td>\n      <td>1.0</td>\n      <td>1.0</td>\n      <td>1.0</td>\n      <td>0.0</td>\n      <td>0.0</td>\n    </tr>\n    <tr>\n      <th>WIN_20210405_15_09_16_Pro</th>\n      <td>0.0</td>\n      <td>1.0</td>\n      <td>1.0</td>\n      <td>0.0</td>\n      <td>1.0</td>\n      <td>1.0</td>\n    </tr>\n    <tr>\n      <th>WIN_20210406_15_06_15_Pro</th>\n      <td>0.0</td>\n      <td>1.0</td>\n      <td>0.0</td>\n      <td>0.0</td>\n      <td>0.0</td>\n      <td>2.0</td>\n    </tr>\n    <tr>\n      <th>WIN_20210406_18_35_52_Pro</th>\n      <td>1.0</td>\n      <td>0.0</td>\n      <td>0.0</td>\n      <td>0.0</td>\n      <td>0.0</td>\n      <td>0.0</td>\n    </tr>\n    <tr>\n      <th>WIN_20210406_18_49_10_Pro</th>\n      <td>1.0</td>\n      <td>1.0</td>\n      <td>1.0</td>\n      <td>0.0</td>\n      <td>0.0</td>\n      <td>1.0</td>\n    </tr>\n    <tr>\n      <th>WIN_20210406_21_05_52_Pro</th>\n      <td>0.0</td>\n      <td>0.0</td>\n      <td>0.0</td>\n      <td>0.0</td>\n      <td>0.0</td>\n      <td>2.0</td>\n    </tr>\n    <tr>\n      <th>WIN_20210407_09_04_05_Pro</th>\n      <td>0.0</td>\n      <td>1.0</td>\n      <td>1.0</td>\n      <td>1.0</td>\n      <td>0.0</td>\n      <td>2.0</td>\n    </tr>\n    <tr>\n      <th>WIN_20210407_14_54_56_Pro_edit2</th>\n      <td>0.0</td>\n      <td>0.0</td>\n      <td>0.0</td>\n      <td>0.0</td>\n      <td>0.0</td>\n      <td>0.0</td>\n    </tr>\n    <tr>\n      <th>WIN_20210408_11_48_58_Pro</th>\n      <td>1.0</td>\n      <td>0.0</td>\n      <td>1.0</td>\n      <td>1.0</td>\n      <td>1.0</td>\n      <td>2.0</td>\n    </tr>\n    <tr>\n      <th>WIN_20210408_14_00_44_Pro</th>\n      <td>0.0</td>\n      <td>0.0</td>\n      <td>0.0</td>\n      <td>0.0</td>\n      <td>1.0</td>\n      <td>0.0</td>\n    </tr>\n    <tr>\n      <th>WIN_20210408_14_02_19_Pro</th>\n      <td>1.0</td>\n      <td>0.0</td>\n      <td>1.0</td>\n      <td>0.0</td>\n      <td>0.0</td>\n      <td>0.0</td>\n    </tr>\n    <tr>\n      <th>WIN_20210408_14_11_32_Pro</th>\n      <td>0.0</td>\n      <td>0.0</td>\n      <td>0.0</td>\n      <td>0.0</td>\n      <td>0.0</td>\n      <td>2.0</td>\n    </tr>\n    <tr>\n      <th>WIN_20210408_15_20_51_Pro</th>\n      <td>0.0</td>\n      <td>0.0</td>\n      <td>0.0</td>\n      <td>0.0</td>\n      <td>1.0</td>\n      <td>0.0</td>\n    </tr>\n    <tr>\n      <th>WIN_20210408_16_04_32_Pro</th>\n      <td>1.0</td>\n      <td>1.0</td>\n      <td>1.0</td>\n      <td>1.0</td>\n      <td>1.0</td>\n      <td>0.0</td>\n    </tr>\n    <tr>\n      <th>WIN_20210409_10_26_11_Pro</th>\n      <td>1.0</td>\n      <td>0.0</td>\n      <td>0.0</td>\n      <td>0.0</td>\n      <td>0.0</td>\n      <td>0.0</td>\n    </tr>\n    <tr>\n      <th>WIN_20210413_15_38_01_Pro</th>\n      <td>0.0</td>\n      <td>0.0</td>\n      <td>1.0</td>\n      <td>1.0</td>\n      <td>1.0</td>\n      <td>1.0</td>\n    </tr>\n    <tr>\n      <th>WIN_20210414_06_24_52_Pro</th>\n      <td>0.0</td>\n      <td>0.0</td>\n      <td>0.0</td>\n      <td>0.0</td>\n      <td>0.0</td>\n      <td>2.0</td>\n    </tr>\n    <tr>\n      <th>WIN_20210415_15_41_24_Pro</th>\n      <td>0.0</td>\n      <td>1.0</td>\n      <td>1.0</td>\n      <td>0.0</td>\n      <td>0.0</td>\n      <td>0.0</td>\n    </tr>\n    <tr>\n      <th>WIN_20210416_08_06_54_Pro</th>\n      <td>1.0</td>\n      <td>1.0</td>\n      <td>0.0</td>\n      <td>0.0</td>\n      <td>1.0</td>\n      <td>1.0</td>\n    </tr>\n    <tr>\n      <th>WIN_20210417_14_53_12_Pro</th>\n      <td>1.0</td>\n      <td>0.0</td>\n      <td>0.0</td>\n      <td>0.0</td>\n      <td>0.0</td>\n      <td>0.0</td>\n    </tr>\n  </tbody>\n</table>\n</div>"
     },
     "metadata": {},
     "execution_count": 49
    }
   ],
   "source": [
    "Xy"
   ]
  },
  {
   "cell_type": "code",
   "execution_count": 50,
   "metadata": {},
   "outputs": [],
   "source": [
    "from sklearn.linear_model import LogisticRegression\n",
    "from sklearn.neighbors import KNeighborsClassifier\n",
    "from sklearn.ensemble import RandomForestClassifier\n",
    "from sklearn.model_selection import LeaveOneGroupOut\n",
    "from sklearn.decomposition import PCA\n",
    "from sklearn.pipeline import Pipeline\n",
    "\n",
    "pca = PCA()\n",
    "\n",
    "models_list = [\n",
    "                LogisticRegression(multi_class='multinomial', fit_intercept=True, random_state=42),\n",
    "                Pipeline(steps=[('pca', pca), ('logistic', LogisticRegression(multi_class='multinomial', fit_intercept=True))]),\n",
    "                KNeighborsClassifier(),\n",
    "                Pipeline(steps=[('pca', pca), ('knn', KNeighborsClassifier())]),\n",
    "                RandomForestClassifier(random_state = 42, n_jobs=-1)\n",
    "                ]\n",
    "\n",
    "parameters_list = [\n",
    "                    {'C': [0.01, 0.05, 0.1, 0.5, 1, 2, 3, 4 , 5, 10], 'class_weight' : [None, 'balanced']},\n",
    "                    {'pca__n_components': [1, 2, 3, 4],\n",
    "                        'logistic__C': [0.01, 0.05, 0.1, 0.5, 1, 2, 3, 4 , 5, 10], 'logistic__class_weight' : [None, 'balanced']},\n",
    "                    {'n_neighbors': [4, 5, 6, 7, 8, 9, 10, 11, 12,  15, 20], 'weights' : ['uniform', 'distance'], 'p': [1, 2]},\n",
    "                    {'pca__n_components': [1, 2, 3, 4],\n",
    "                        'knn__n_neighbors': [4, 5, 6, 7, 8, 9, 10, 11, 12,  15, 20], 'knn__weights' : ['uniform', 'distance'],                              'knn__p': [1, 2]},\n",
    "                    {'n_estimators': [50, 100, 150, 200], 'max_depth':[3, 4, 5, 6, 10, 15, 20], 'class_weight':[None,'balanced']}\n",
    "                    ]\n",
    "\n",
    "groups = X.reset_index()['video_name']\n",
    "loo = LeaveOneGroupOut()\n",
    "cv_loo = loo.split(X, y, groups)"
   ]
  },
  {
   "cell_type": "code",
   "execution_count": 51,
   "metadata": {},
   "outputs": [
    {
     "output_type": "stream",
     "name": "stdout",
     "text": [
      "Fitting 30 folds for each of 20 candidates, totalling 600 fits\n",
      "[Parallel(n_jobs=-1)]: Using backend LokyBackend with 8 concurrent workers.\n",
      "[Parallel(n_jobs=-1)]: Done  56 tasks      | elapsed:    0.4s\n",
      "[Parallel(n_jobs=-1)]: Done 600 out of 600 | elapsed:    2.2s finished\n",
      "[Parallel(n_jobs=-1)]: Using backend LokyBackend with 8 concurrent workers.\n",
      "Best estimator LogisticRegression(C=3, multi_class='multinomial', random_state=42)\n",
      "Best results 0.4666666666666667\n",
      "Best params {'C': 3, 'class_weight': None}\n",
      "accuracy (mean, std) 0.4666666666666667 0.49888765156985887\n",
      "f1 (mean, std) 0.4666666666666667 0.49888765156985887\n",
      "balanced accuracy (mean, std) 0.4666666666666667 0.49888765156985887\n",
      "precision (mean, std) 0.4666666666666667 0.49888765156985887\n",
      "recall (mean, std) 0.4666666666666667 0.49888765156985887\n",
      "\n",
      "Fitting 30 folds for each of 80 candidates, totalling 2400 fits\n",
      "[Parallel(n_jobs=-1)]: Done  56 tasks      | elapsed:    0.4s\n",
      "[Parallel(n_jobs=-1)]: Done 1200 tasks      | elapsed:    4.1s\n",
      "[Parallel(n_jobs=-1)]: Done 2400 out of 2400 | elapsed:    8.3s finished\n",
      "[Parallel(n_jobs=-1)]: Using backend LokyBackend with 8 concurrent workers.\n",
      "Best estimator Pipeline(steps=[('pca', PCA(n_components=1)),\n",
      "                ('logistic',\n",
      "                 LogisticRegression(C=0.01, class_weight='balanced',\n",
      "                                    multi_class='multinomial'))])\n",
      "Best results 0.5333333333333333\n",
      "Best params {'logistic__C': 0.01, 'logistic__class_weight': 'balanced', 'pca__n_components': 1}\n",
      "accuracy (mean, std) 0.5333333333333333 0.49888765156985887\n",
      "f1 (mean, std) 0.5333333333333333 0.49888765156985887\n",
      "balanced accuracy (mean, std) 0.5333333333333333 0.49888765156985887\n",
      "precision (mean, std) 0.5333333333333333 0.49888765156985887\n",
      "recall (mean, std) 0.5333333333333333 0.49888765156985887\n",
      "\n",
      "Fitting 30 folds for each of 44 candidates, totalling 1320 fits\n",
      "[Parallel(n_jobs=-1)]: Done  56 tasks      | elapsed:    0.2s\n",
      "[Parallel(n_jobs=-1)]: Done 1320 out of 1320 | elapsed:    3.1s finished\n",
      "[Parallel(n_jobs=-1)]: Using backend LokyBackend with 8 concurrent workers.\n",
      "Best estimator KNeighborsClassifier(n_neighbors=6, p=1)\n",
      "Best results 0.5333333333333333\n",
      "Best params {'n_neighbors': 6, 'p': 1, 'weights': 'uniform'}\n",
      "accuracy (mean, std) 0.5333333333333333 0.49888765156985887\n",
      "f1 (mean, std) 0.5333333333333333 0.49888765156985887\n",
      "balanced accuracy (mean, std) 0.5333333333333333 0.49888765156985887\n",
      "precision (mean, std) 0.5333333333333333 0.49888765156985887\n",
      "recall (mean, std) 0.5333333333333333 0.49888765156985887\n",
      "\n",
      "Fitting 30 folds for each of 176 candidates, totalling 5280 fits\n",
      "[Parallel(n_jobs=-1)]: Done  56 tasks      | elapsed:    0.3s\n",
      "[Parallel(n_jobs=-1)]: Done 2160 tasks      | elapsed:    6.2s\n",
      "[Parallel(n_jobs=-1)]: Done 5280 out of 5280 | elapsed:   14.1s finished\n",
      "[Parallel(n_jobs=-1)]: Using backend LokyBackend with 8 concurrent workers.\n",
      "Best estimator Pipeline(steps=[('pca', PCA(n_components=2)),\n",
      "                ('knn', KNeighborsClassifier(n_neighbors=7, p=1))])\n",
      "Best results 0.5333333333333333\n",
      "Best params {'knn__n_neighbors': 7, 'knn__p': 1, 'knn__weights': 'uniform', 'pca__n_components': 2}\n",
      "accuracy (mean, std) 0.5333333333333333 0.49888765156985887\n",
      "f1 (mean, std) 0.5333333333333333 0.49888765156985887\n",
      "balanced accuracy (mean, std) 0.5333333333333333 0.49888765156985887\n",
      "precision (mean, std) 0.5333333333333333 0.49888765156985887\n",
      "recall (mean, std) 0.5333333333333333 0.49888765156985887\n",
      "\n",
      "Fitting 30 folds for each of 56 candidates, totalling 1680 fits\n",
      "[Parallel(n_jobs=-1)]: Done  52 tasks      | elapsed:    2.3s\n",
      "[Parallel(n_jobs=-1)]: Done 240 tasks      | elapsed:   14.2s\n",
      "[Parallel(n_jobs=-1)]: Done 490 tasks      | elapsed:   28.7s\n",
      "[Parallel(n_jobs=-1)]: Done 840 tasks      | elapsed:   49.8s\n",
      "[Parallel(n_jobs=-1)]: Done 1290 tasks      | elapsed:  1.3min\n",
      "[Parallel(n_jobs=-1)]: Done 1680 out of 1680 | elapsed:  1.7min finished\n",
      "Best estimator RandomForestClassifier(class_weight='balanced', max_depth=4, n_estimators=50,\n",
      "                       n_jobs=-1, random_state=42)\n",
      "Best results 0.5\n",
      "Best params {'class_weight': 'balanced', 'max_depth': 4, 'n_estimators': 50}\n",
      "accuracy (mean, std) 0.5 0.5\n",
      "f1 (mean, std) 0.5 0.5\n",
      "balanced accuracy (mean, std) 0.5 0.5\n",
      "precision (mean, std) 0.5 0.5\n",
      "recall (mean, std) 0.5 0.5\n",
      "\n"
     ]
    }
   ],
   "source": [
    "best_result, y_predict, result_list = runGridSearchClassifiers(X, y, cv_loo, models_list, parameters_list, \n",
    "                                                                output_predict=True, n_jobs=-1, verbose=True)"
   ]
  },
  {
   "cell_type": "code",
   "execution_count": 52,
   "metadata": {},
   "outputs": [
    {
     "output_type": "execute_result",
     "data": {
      "text/plain": [
       "{'best_estimator': Pipeline(steps=[('pca', PCA(n_components=1)),\n",
       "                 ('logistic',\n",
       "                  LogisticRegression(C=0.01, class_weight='balanced',\n",
       "                                     multi_class='multinomial'))]),\n",
       " 'best_score': 0.5333333333333333,\n",
       " 'best_params': {'logistic__C': 0.01,\n",
       "  'logistic__class_weight': 'balanced',\n",
       "  'pca__n_components': 1},\n",
       " 'mean_test_f1_score': 0.5333333333333333,\n",
       " 'std_test_f1_score': 0.49888765156985887,\n",
       " 'mean_test_accuracy_score': 0.5333333333333333,\n",
       " 'std_test_accuracy_score': 0.49888765156985887,\n",
       " 'mean_test_balanced_accuracy_score': 0.5333333333333333,\n",
       " 'std_test_balanced_accuracy_score': 0.49888765156985887,\n",
       " 'mean_test_precision': 0.5333333333333333,\n",
       " 'std_test_precision': 0.49888765156985887,\n",
       " 'mean_test_recall': 0.5333333333333333,\n",
       " 'std_test_recall': 0.49888765156985887}"
      ]
     },
     "metadata": {},
     "execution_count": 52
    }
   ],
   "source": [
    "best_result"
   ]
  },
  {
   "cell_type": "code",
   "execution_count": 90,
   "metadata": {},
   "outputs": [],
   "source": [
    "# Saving predictions\n",
    "df_ypredict = pd.concat([X.reset_index()[['video_name']],\n",
    "                        pd.DataFrame(y_predict, columns=['ypredict'])],axis=1)\n",
    "df_ypredict.to_csv('ypredict_' + features + '_tw5_global' + diapo_selection + '.csv')"
   ]
  },
  {
   "cell_type": "markdown",
   "metadata": {},
   "source": [
    "#### Autre méthode"
   ]
  },
  {
   "cell_type": "markdown",
   "metadata": {},
   "source": [
    "### En utilisant le stress prédit des time windows 5s"
   ]
  },
  {
   "cell_type": "code",
   "execution_count": 91,
   "metadata": {},
   "outputs": [
    {
     "output_type": "execute_result",
     "data": {
      "text/plain": [
       "ypredict                                0         1         2\n",
       "video_name                                                   \n",
       "Test_pour_AFPA                   0.014085  0.985915  0.000000\n",
       "Video_1                          0.694444  0.305556  0.000000\n",
       "WIN_20210323_19_17_40_Pro        0.472222  0.527778  0.000000\n",
       "WIN_20210329_10_16_02_Pro        0.027778  0.972222  0.000000\n",
       "WIN_20210330_13_10_29_Pro        0.000000  1.000000  0.000000\n",
       "WIN_20210331_21_22_52_Pro        0.084507  0.915493  0.000000\n",
       "WIN_20210402_14_27_50_Pro        0.013889  0.027778  0.958333\n",
       "WIN_20210402_19_04_53_Pro        0.333333  0.666667  0.000000\n",
       "WIN_20210403_18_49_15_Pro        0.250000  0.750000  0.000000\n",
       "WIN_20210404_10_58_27_Pro        0.246575  0.753425  0.000000\n",
       "WIN_20210404_21_41_12_Pro        0.301370  0.698630  0.000000\n",
       "WIN_20210405_15_09_16_Pro        0.904110  0.095890  0.000000\n",
       "WIN_20210406_15_06_15_Pro        0.847222  0.152778  0.000000\n",
       "WIN_20210406_18_35_52_Pro        0.888889  0.111111  0.000000\n",
       "WIN_20210406_18_49_10_Pro        0.902778  0.097222  0.000000\n",
       "WIN_20210406_21_05_52_Pro        0.647887  0.352113  0.000000\n",
       "WIN_20210407_09_04_05_Pro        0.424658  0.575342  0.000000\n",
       "WIN_20210407_14_54_56_Pro_edit2  0.611111  0.388889  0.000000\n",
       "WIN_20210408_11_48_58_Pro        0.097222  0.888889  0.013889\n",
       "WIN_20210408_14_00_44_Pro        0.605634  0.394366  0.000000\n",
       "WIN_20210408_14_02_19_Pro        0.328767  0.547945  0.123288\n",
       "WIN_20210408_14_11_32_Pro        0.000000  1.000000  0.000000\n",
       "WIN_20210408_15_20_51_Pro        0.712329  0.287671  0.000000\n",
       "WIN_20210408_16_04_32_Pro        0.291667  0.708333  0.000000\n",
       "WIN_20210409_10_26_11_Pro        0.736111  0.263889  0.000000\n",
       "WIN_20210413_15_38_01_Pro        0.541667  0.458333  0.000000\n",
       "WIN_20210414_06_24_52_Pro        0.777778  0.222222  0.000000\n",
       "WIN_20210415_15_41_24_Pro        0.890411  0.109589  0.000000\n",
       "WIN_20210416_08_06_54_Pro        0.150685  0.849315  0.000000\n",
       "WIN_20210417_14_53_12_Pro        0.794521  0.205479  0.000000"
      ],
      "text/html": "<div>\n<style scoped>\n    .dataframe tbody tr th:only-of-type {\n        vertical-align: middle;\n    }\n\n    .dataframe tbody tr th {\n        vertical-align: top;\n    }\n\n    .dataframe thead th {\n        text-align: right;\n    }\n</style>\n<table border=\"1\" class=\"dataframe\">\n  <thead>\n    <tr style=\"text-align: right;\">\n      <th>ypredict</th>\n      <th>0</th>\n      <th>1</th>\n      <th>2</th>\n    </tr>\n    <tr>\n      <th>video_name</th>\n      <th></th>\n      <th></th>\n      <th></th>\n    </tr>\n  </thead>\n  <tbody>\n    <tr>\n      <th>Test_pour_AFPA</th>\n      <td>0.014085</td>\n      <td>0.985915</td>\n      <td>0.000000</td>\n    </tr>\n    <tr>\n      <th>Video_1</th>\n      <td>0.694444</td>\n      <td>0.305556</td>\n      <td>0.000000</td>\n    </tr>\n    <tr>\n      <th>WIN_20210323_19_17_40_Pro</th>\n      <td>0.472222</td>\n      <td>0.527778</td>\n      <td>0.000000</td>\n    </tr>\n    <tr>\n      <th>WIN_20210329_10_16_02_Pro</th>\n      <td>0.027778</td>\n      <td>0.972222</td>\n      <td>0.000000</td>\n    </tr>\n    <tr>\n      <th>WIN_20210330_13_10_29_Pro</th>\n      <td>0.000000</td>\n      <td>1.000000</td>\n      <td>0.000000</td>\n    </tr>\n    <tr>\n      <th>WIN_20210331_21_22_52_Pro</th>\n      <td>0.084507</td>\n      <td>0.915493</td>\n      <td>0.000000</td>\n    </tr>\n    <tr>\n      <th>WIN_20210402_14_27_50_Pro</th>\n      <td>0.013889</td>\n      <td>0.027778</td>\n      <td>0.958333</td>\n    </tr>\n    <tr>\n      <th>WIN_20210402_19_04_53_Pro</th>\n      <td>0.333333</td>\n      <td>0.666667</td>\n      <td>0.000000</td>\n    </tr>\n    <tr>\n      <th>WIN_20210403_18_49_15_Pro</th>\n      <td>0.250000</td>\n      <td>0.750000</td>\n      <td>0.000000</td>\n    </tr>\n    <tr>\n      <th>WIN_20210404_10_58_27_Pro</th>\n      <td>0.246575</td>\n      <td>0.753425</td>\n      <td>0.000000</td>\n    </tr>\n    <tr>\n      <th>WIN_20210404_21_41_12_Pro</th>\n      <td>0.301370</td>\n      <td>0.698630</td>\n      <td>0.000000</td>\n    </tr>\n    <tr>\n      <th>WIN_20210405_15_09_16_Pro</th>\n      <td>0.904110</td>\n      <td>0.095890</td>\n      <td>0.000000</td>\n    </tr>\n    <tr>\n      <th>WIN_20210406_15_06_15_Pro</th>\n      <td>0.847222</td>\n      <td>0.152778</td>\n      <td>0.000000</td>\n    </tr>\n    <tr>\n      <th>WIN_20210406_18_35_52_Pro</th>\n      <td>0.888889</td>\n      <td>0.111111</td>\n      <td>0.000000</td>\n    </tr>\n    <tr>\n      <th>WIN_20210406_18_49_10_Pro</th>\n      <td>0.902778</td>\n      <td>0.097222</td>\n      <td>0.000000</td>\n    </tr>\n    <tr>\n      <th>WIN_20210406_21_05_52_Pro</th>\n      <td>0.647887</td>\n      <td>0.352113</td>\n      <td>0.000000</td>\n    </tr>\n    <tr>\n      <th>WIN_20210407_09_04_05_Pro</th>\n      <td>0.424658</td>\n      <td>0.575342</td>\n      <td>0.000000</td>\n    </tr>\n    <tr>\n      <th>WIN_20210407_14_54_56_Pro_edit2</th>\n      <td>0.611111</td>\n      <td>0.388889</td>\n      <td>0.000000</td>\n    </tr>\n    <tr>\n      <th>WIN_20210408_11_48_58_Pro</th>\n      <td>0.097222</td>\n      <td>0.888889</td>\n      <td>0.013889</td>\n    </tr>\n    <tr>\n      <th>WIN_20210408_14_00_44_Pro</th>\n      <td>0.605634</td>\n      <td>0.394366</td>\n      <td>0.000000</td>\n    </tr>\n    <tr>\n      <th>WIN_20210408_14_02_19_Pro</th>\n      <td>0.328767</td>\n      <td>0.547945</td>\n      <td>0.123288</td>\n    </tr>\n    <tr>\n      <th>WIN_20210408_14_11_32_Pro</th>\n      <td>0.000000</td>\n      <td>1.000000</td>\n      <td>0.000000</td>\n    </tr>\n    <tr>\n      <th>WIN_20210408_15_20_51_Pro</th>\n      <td>0.712329</td>\n      <td>0.287671</td>\n      <td>0.000000</td>\n    </tr>\n    <tr>\n      <th>WIN_20210408_16_04_32_Pro</th>\n      <td>0.291667</td>\n      <td>0.708333</td>\n      <td>0.000000</td>\n    </tr>\n    <tr>\n      <th>WIN_20210409_10_26_11_Pro</th>\n      <td>0.736111</td>\n      <td>0.263889</td>\n      <td>0.000000</td>\n    </tr>\n    <tr>\n      <th>WIN_20210413_15_38_01_Pro</th>\n      <td>0.541667</td>\n      <td>0.458333</td>\n      <td>0.000000</td>\n    </tr>\n    <tr>\n      <th>WIN_20210414_06_24_52_Pro</th>\n      <td>0.777778</td>\n      <td>0.222222</td>\n      <td>0.000000</td>\n    </tr>\n    <tr>\n      <th>WIN_20210415_15_41_24_Pro</th>\n      <td>0.890411</td>\n      <td>0.109589</td>\n      <td>0.000000</td>\n    </tr>\n    <tr>\n      <th>WIN_20210416_08_06_54_Pro</th>\n      <td>0.150685</td>\n      <td>0.849315</td>\n      <td>0.000000</td>\n    </tr>\n    <tr>\n      <th>WIN_20210417_14_53_12_Pro</th>\n      <td>0.794521</td>\n      <td>0.205479</td>\n      <td>0.000000</td>\n    </tr>\n  </tbody>\n</table>\n</div>"
     },
     "metadata": {},
     "execution_count": 91
    }
   ],
   "source": [
    "df_ypredict = pd.read_csv('ypredict_' + features + '_tw5' + diapo_selection + '.csv')\n",
    "df_ypredict = df_ypredict.iloc[:,1:]\n",
    "df_ypredict.columns = ['video_name','diapo','frameTimeWindow','ypredict']\n",
    "df_ypredict['ypredict'] = df_ypredict['ypredict'].astype(int)\n",
    "df_ypredict = df_ypredict.pivot_table(values='frameTimeWindow', columns='ypredict', index='video_name', aggfunc='count', fill_value=0)\n",
    "df_ypredict_sum = df_ypredict.sum(axis=1).values.copy()\n",
    "for col_number in range(len(df_ypredict.columns)):\n",
    "    df_ypredict.iloc[:,col_number] = df_ypredict.iloc[:,col_number] / df_ypredict_sum\n",
    "#df_ypredict = df_ypredict.reset_index()\n",
    "df_ypredict\n"
   ]
  },
  {
   "cell_type": "code",
   "execution_count": 92,
   "metadata": {},
   "outputs": [],
   "source": [
    "df_annotations_stress = pd.read_csv('annotations.csv')\n",
    "df_annotations_stress = df_annotations_stress[['video_name','stress_global']]"
   ]
  },
  {
   "cell_type": "code",
   "execution_count": 93,
   "metadata": {},
   "outputs": [],
   "source": [
    "Xy = df_ypredict.merge(df_annotations_stress, on='video_name')\n",
    "X = Xy.iloc[:,:-1].set_index('video_name')\n",
    "y = Xy.iloc[:,-1]"
   ]
  },
  {
   "cell_type": "code",
   "execution_count": 94,
   "metadata": {},
   "outputs": [],
   "source": [
    "from sklearn.linear_model import LogisticRegression\n",
    "from sklearn.neighbors import KNeighborsClassifier\n",
    "from sklearn.ensemble import RandomForestClassifier\n",
    "from sklearn.model_selection import LeaveOneGroupOut\n",
    "from sklearn.decomposition import PCA\n",
    "from sklearn.pipeline import Pipeline\n",
    "\n",
    "pca = PCA()\n",
    "\n",
    "models_list = [\n",
    "                LogisticRegression(multi_class='multinomial', fit_intercept=True, random_state=42),\n",
    "                Pipeline(steps=[('pca', pca), ('logistic', LogisticRegression(multi_class='multinomial', fit_intercept=True))]),\n",
    "                KNeighborsClassifier(),\n",
    "                Pipeline(steps=[('pca', pca), ('knn', KNeighborsClassifier())]),\n",
    "                RandomForestClassifier(random_state = 42, n_jobs=-1)\n",
    "                ]\n",
    "\n",
    "parameters_list = [\n",
    "                    {'C': [0.01, 0.05, 0.1, 0.5, 1, 2, 3, 4 , 5, 10], 'class_weight' : [None, 'balanced']},\n",
    "                    {'pca__n_components': [1, 2, 3, 4],\n",
    "                        'logistic__C': [0.01, 0.05, 0.1, 0.5, 1, 2, 3, 4 , 5, 10], 'logistic__class_weight' : [None, 'balanced']},\n",
    "                    {'n_neighbors': [4, 5, 6, 7, 8, 9, 10, 11, 12,  15, 20], 'weights' : ['uniform', 'distance'], 'p': [1, 2]},\n",
    "                    {'pca__n_components': [1, 2, 3, 4],\n",
    "                        'knn__n_neighbors': [4, 5, 6, 7, 8, 9, 10, 11, 12,  15, 20], 'knn__weights' : ['uniform', 'distance'],                              'knn__p': [1, 2]},\n",
    "                    {'n_estimators': [50, 100, 150, 200], 'max_depth':[3, 4, 5, 6, 10, 15, 20], 'class_weight':[None,'balanced']}\n",
    "                    ]\n",
    "\n",
    "groups = X.reset_index()['video_name']\n",
    "loo = LeaveOneGroupOut()\n",
    "cv_loo = loo.split(X, y, groups)"
   ]
  },
  {
   "cell_type": "code",
   "execution_count": 95,
   "metadata": {},
   "outputs": [
    {
     "output_type": "stream",
     "name": "stdout",
     "text": [
      "Fitting 30 folds for each of 20 candidates, totalling 600 fits\n",
      "[Parallel(n_jobs=-1)]: Using backend LokyBackend with 8 concurrent workers.\n",
      "[Parallel(n_jobs=-1)]: Done  56 tasks      | elapsed:    0.3s\n",
      "[Parallel(n_jobs=-1)]: Done 600 out of 600 | elapsed:    2.2s finished\n",
      "[Parallel(n_jobs=-1)]: Using backend LokyBackend with 8 concurrent workers.\n",
      "Best estimator LogisticRegression(C=2, multi_class='multinomial', random_state=42)\n",
      "Best results 0.43333333333333335\n",
      "Best params {'C': 2, 'class_weight': None}\n",
      "accuracy (mean, std) 0.43333333333333335 0.49553562491061676\n",
      "f1 (mean, std) 0.43333333333333335 0.49553562491061676\n",
      "balanced accuracy (mean, std) 0.43333333333333335 0.49553562491061676\n",
      "precision (mean, std) 0.43333333333333335 0.49553562491061676\n",
      "recall (mean, std) 0.43333333333333335 0.49553562491061676\n",
      "\n",
      "Fitting 30 folds for each of 80 candidates, totalling 2400 fits\n",
      "[Parallel(n_jobs=-1)]: Done  56 tasks      | elapsed:    0.3s\n",
      "[Parallel(n_jobs=-1)]: Done 2160 tasks      | elapsed:    5.8s\n",
      "[Parallel(n_jobs=-1)]: Done 2400 out of 2400 | elapsed:    6.4s finished\n",
      "[Parallel(n_jobs=-1)]: Using backend LokyBackend with 8 concurrent workers.\n",
      "Best estimator Pipeline(steps=[('pca', PCA(n_components=1)),\n",
      "                ('logistic',\n",
      "                 LogisticRegression(C=1, multi_class='multinomial'))])\n",
      "Best results 0.43333333333333335\n",
      "Best params {'logistic__C': 1, 'logistic__class_weight': None, 'pca__n_components': 1}\n",
      "accuracy (mean, std) 0.43333333333333335 0.49553562491061676\n",
      "f1 (mean, std) 0.43333333333333335 0.49553562491061676\n",
      "balanced accuracy (mean, std) 0.43333333333333335 0.49553562491061676\n",
      "precision (mean, std) 0.43333333333333335 0.49553562491061676\n",
      "recall (mean, std) 0.43333333333333335 0.49553562491061676\n",
      "\n",
      "Fitting 30 folds for each of 44 candidates, totalling 1320 fits\n",
      "[Parallel(n_jobs=-1)]: Done  56 tasks      | elapsed:    0.2s\n",
      "[Parallel(n_jobs=-1)]: Done 1320 out of 1320 | elapsed:    2.9s finished\n",
      "[Parallel(n_jobs=-1)]: Using backend LokyBackend with 8 concurrent workers.\n",
      "Best estimator KNeighborsClassifier(p=1, weights='distance')\n",
      "Best results 0.5333333333333333\n",
      "Best params {'n_neighbors': 5, 'p': 1, 'weights': 'distance'}\n",
      "accuracy (mean, std) 0.5333333333333333 0.49888765156985887\n",
      "f1 (mean, std) 0.5333333333333333 0.49888765156985887\n",
      "balanced accuracy (mean, std) 0.5333333333333333 0.49888765156985887\n",
      "precision (mean, std) 0.5333333333333333 0.49888765156985887\n",
      "recall (mean, std) 0.5333333333333333 0.49888765156985887\n",
      "\n",
      "Fitting 30 folds for each of 176 candidates, totalling 5280 fits\n",
      "[Parallel(n_jobs=-1)]: Done  56 tasks      | elapsed:    0.3s\n",
      "[Parallel(n_jobs=-1)]: Done 3824 tasks      | elapsed:    8.1s\n",
      "[Parallel(n_jobs=-1)]: Done 5280 out of 5280 | elapsed:   10.8s finished\n",
      "[Parallel(n_jobs=-1)]: Using backend LokyBackend with 8 concurrent workers.\n",
      "Best estimator Pipeline(steps=[('pca', PCA(n_components=1)),\n",
      "                ('knn', KNeighborsClassifier(p=1, weights='distance'))])\n",
      "Best results 0.5666666666666667\n",
      "Best params {'knn__n_neighbors': 5, 'knn__p': 1, 'knn__weights': 'distance', 'pca__n_components': 1}\n",
      "accuracy (mean, std) 0.5666666666666667 0.4955356249106168\n",
      "f1 (mean, std) 0.5666666666666667 0.4955356249106168\n",
      "balanced accuracy (mean, std) 0.5666666666666667 0.4955356249106168\n",
      "precision (mean, std) 0.5666666666666667 0.4955356249106168\n",
      "recall (mean, std) 0.5666666666666667 0.4955356249106168\n",
      "\n",
      "Fitting 30 folds for each of 56 candidates, totalling 1680 fits\n",
      "[Parallel(n_jobs=-1)]: Done  52 tasks      | elapsed:    2.2s\n",
      "[Parallel(n_jobs=-1)]: Done 240 tasks      | elapsed:   13.6s\n",
      "[Parallel(n_jobs=-1)]: Done 490 tasks      | elapsed:   27.6s\n",
      "[Parallel(n_jobs=-1)]: Done 840 tasks      | elapsed:   47.8s\n",
      "[Parallel(n_jobs=-1)]: Done 1290 tasks      | elapsed:  1.2min\n",
      "Best estimator RandomForestClassifier(max_depth=10, n_estimators=50, n_jobs=-1,\n",
      "                       random_state=42)\n",
      "Best results 0.5333333333333333\n",
      "Best params {'class_weight': None, 'max_depth': 10, 'n_estimators': 50}\n",
      "accuracy (mean, std) 0.5333333333333333 0.49888765156985887\n",
      "f1 (mean, std) 0.5333333333333333 0.49888765156985887\n",
      "balanced accuracy (mean, std) 0.5333333333333333 0.49888765156985887\n",
      "precision (mean, std) 0.5333333333333333 0.49888765156985887\n",
      "recall (mean, std) 0.5333333333333333 0.49888765156985887\n",
      "\n",
      "[Parallel(n_jobs=-1)]: Done 1680 out of 1680 | elapsed:  1.6min finished\n"
     ]
    }
   ],
   "source": [
    "best_result, y_predict, result_list = runGridSearchClassifiers(X, y, cv_loo, models_list, parameters_list, \n",
    "                                                                output_predict=True, n_jobs=-1, verbose=True)"
   ]
  },
  {
   "cell_type": "code",
   "execution_count": 96,
   "metadata": {},
   "outputs": [
    {
     "output_type": "execute_result",
     "data": {
      "text/plain": [
       "{'best_estimator': Pipeline(steps=[('pca', PCA(n_components=1)),\n",
       "                 ('knn', KNeighborsClassifier(p=1, weights='distance'))]),\n",
       " 'best_score': 0.5666666666666667,\n",
       " 'best_params': {'knn__n_neighbors': 5,\n",
       "  'knn__p': 1,\n",
       "  'knn__weights': 'distance',\n",
       "  'pca__n_components': 1},\n",
       " 'mean_test_f1_score': 0.5666666666666667,\n",
       " 'std_test_f1_score': 0.4955356249106168,\n",
       " 'mean_test_accuracy_score': 0.5666666666666667,\n",
       " 'std_test_accuracy_score': 0.4955356249106168,\n",
       " 'mean_test_balanced_accuracy_score': 0.5666666666666667,\n",
       " 'std_test_balanced_accuracy_score': 0.4955356249106168,\n",
       " 'mean_test_precision': 0.5666666666666667,\n",
       " 'std_test_precision': 0.4955356249106168,\n",
       " 'mean_test_recall': 0.5666666666666667,\n",
       " 'std_test_recall': 0.4955356249106168}"
      ]
     },
     "metadata": {},
     "execution_count": 96
    }
   ],
   "source": [
    "best_result"
   ]
  },
  {
   "cell_type": "markdown",
   "metadata": {},
   "source": [
    "#### Autre méthode"
   ]
  },
  {
   "cell_type": "code",
   "execution_count": 97,
   "metadata": {},
   "outputs": [
    {
     "output_type": "execute_result",
     "data": {
      "text/plain": [
       "                                 ypredict                             \\\n",
       "                                     mean  min  max median       std   \n",
       "video_name                                                             \n",
       "Test_pour_AFPA                   0.985915  0.0  1.0    1.0  0.118678   \n",
       "Video_1                          0.305556  0.0  1.0    0.0  0.463875   \n",
       "WIN_20210323_19_17_40_Pro        0.527778  0.0  1.0    1.0  0.502731   \n",
       "WIN_20210329_10_16_02_Pro        0.972222  0.0  1.0    1.0  0.165489   \n",
       "WIN_20210330_13_10_29_Pro        1.000000  1.0  1.0    1.0  0.000000   \n",
       "WIN_20210331_21_22_52_Pro        0.915493  0.0  1.0    1.0  0.280126   \n",
       "WIN_20210402_14_27_50_Pro        1.944444  0.0  2.0    2.0  0.285267   \n",
       "WIN_20210402_19_04_53_Pro        0.666667  0.0  1.0    1.0  0.474713   \n",
       "WIN_20210403_18_49_15_Pro        0.750000  0.0  1.0    1.0  0.436051   \n",
       "WIN_20210404_10_58_27_Pro        0.753425  0.0  1.0    1.0  0.434000   \n",
       "WIN_20210404_21_41_12_Pro        0.698630  0.0  1.0    1.0  0.462028   \n",
       "WIN_20210405_15_09_16_Pro        0.095890  0.0  1.0    0.0  0.296479   \n",
       "WIN_20210406_15_06_15_Pro        0.152778  0.0  1.0    0.0  0.362298   \n",
       "WIN_20210406_18_35_52_Pro        0.111111  0.0  1.0    0.0  0.316475   \n",
       "WIN_20210406_18_49_10_Pro        0.097222  0.0  1.0    0.0  0.298339   \n",
       "WIN_20210406_21_05_52_Pro        0.352113  0.0  1.0    0.0  0.481028   \n",
       "WIN_20210407_09_04_05_Pro        0.575342  0.0  1.0    1.0  0.497712   \n",
       "WIN_20210407_14_54_56_Pro_edit2  0.388889  0.0  1.0    0.0  0.490919   \n",
       "WIN_20210408_11_48_58_Pro        0.916667  0.0  2.0    1.0  0.325014   \n",
       "WIN_20210408_14_00_44_Pro        0.394366  0.0  1.0    0.0  0.492193   \n",
       "WIN_20210408_14_02_19_Pro        0.794521  0.0  2.0    1.0  0.644612   \n",
       "WIN_20210408_14_11_32_Pro        1.000000  1.0  1.0    1.0  0.000000   \n",
       "WIN_20210408_15_20_51_Pro        0.287671  0.0  1.0    0.0  0.455810   \n",
       "WIN_20210408_16_04_32_Pro        0.708333  0.0  1.0    1.0  0.457719   \n",
       "WIN_20210409_10_26_11_Pro        0.263889  0.0  1.0    0.0  0.443833   \n",
       "WIN_20210413_15_38_01_Pro        0.458333  0.0  1.0    0.0  0.501757   \n",
       "WIN_20210414_06_24_52_Pro        0.222222  0.0  1.0    0.0  0.418657   \n",
       "WIN_20210415_15_41_24_Pro        0.109589  0.0  1.0    0.0  0.314539   \n",
       "WIN_20210416_08_06_54_Pro        0.849315  0.0  1.0    1.0  0.360217   \n",
       "WIN_20210417_14_53_12_Pro        0.205479  0.0  1.0    0.0  0.406848   \n",
       "\n",
       "                                                                              \n",
       "                                percentil25 percentil75   kurtosis      skew  \n",
       "video_name                                                                    \n",
       "Test_pour_AFPA                         1.00         1.0  66.014286 -8.247077  \n",
       "Video_1                                0.00         1.0  -1.287273  0.844232  \n",
       "WIN_20210323_19_17_40_Pro              0.00         1.0  -1.987616 -0.111283  \n",
       "WIN_20210329_10_16_02_Pro              1.00         1.0  31.028571 -5.747049  \n",
       "WIN_20210330_13_10_29_Pro              1.00         1.0  -3.000000  0.000000  \n",
       "WIN_20210331_21_22_52_Pro              1.00         1.0   6.925641 -2.987581  \n",
       "WIN_20210402_14_27_50_Pro              2.00         2.0  31.264793 -5.513881  \n",
       "WIN_20210402_19_04_53_Pro              0.00         1.0  -1.500000 -0.707107  \n",
       "WIN_20210403_18_49_15_Pro              0.75         1.0  -0.666667 -1.154701  \n",
       "WIN_20210404_10_58_27_Pro              1.00         1.0  -0.617172 -1.175937  \n",
       "WIN_20210404_21_41_12_Pro              0.00         1.0  -1.250446 -0.865768  \n",
       "WIN_20210405_15_09_16_Pro              0.00         0.0   5.534632  2.744928  \n",
       "WIN_20210406_15_06_15_Pro              0.00         0.0   1.725782  1.930229  \n",
       "WIN_20210406_18_35_52_Pro              0.00         0.0   4.125000  2.474874  \n",
       "WIN_20210406_18_49_10_Pro              0.00         0.0   5.393407  2.719082  \n",
       "WIN_20210406_21_05_52_Pro              0.00         1.0  -1.616522  0.619256  \n",
       "WIN_20210407_09_04_05_Pro              0.00         1.0  -1.907066 -0.304851  \n",
       "WIN_20210407_14_54_56_Pro_edit2        0.00         1.0  -1.792208  0.455842  \n",
       "WIN_20210408_11_48_58_Pro              1.00         1.0   5.093333 -1.686899  \n",
       "WIN_20210408_14_00_44_Pro              0.00         1.0  -1.813123  0.432293  \n",
       "WIN_20210408_14_02_19_Pro              0.00         1.0  -0.664136  0.212805  \n",
       "WIN_20210408_14_11_32_Pro              1.00         1.0  -3.000000  0.000000  \n",
       "WIN_20210408_15_20_51_Pro              0.00         1.0  -1.119963  0.938103  \n",
       "WIN_20210408_16_04_32_Pro              0.00         1.0  -1.159664 -0.916698  \n",
       "WIN_20210409_10_26_11_Pro              0.00         1.0  -0.852036  1.071431  \n",
       "WIN_20210413_15_38_01_Pro              0.00         1.0  -1.972028  0.167248  \n",
       "WIN_20210414_06_24_52_Pro              0.00         0.0  -0.214286  1.336306  \n",
       "WIN_20210415_15_41_24_Pro              0.00         0.0   4.248077  2.499615  \n",
       "WIN_20210416_08_06_54_Pro              1.00         1.0   1.813783 -1.952891  \n",
       "WIN_20210417_14_53_12_Pro              0.00         0.0   0.125287  1.457837  "
      ],
      "text/html": "<div>\n<style scoped>\n    .dataframe tbody tr th:only-of-type {\n        vertical-align: middle;\n    }\n\n    .dataframe tbody tr th {\n        vertical-align: top;\n    }\n\n    .dataframe thead tr th {\n        text-align: left;\n    }\n\n    .dataframe thead tr:last-of-type th {\n        text-align: right;\n    }\n</style>\n<table border=\"1\" class=\"dataframe\">\n  <thead>\n    <tr>\n      <th></th>\n      <th colspan=\"9\" halign=\"left\">ypredict</th>\n    </tr>\n    <tr>\n      <th></th>\n      <th>mean</th>\n      <th>min</th>\n      <th>max</th>\n      <th>median</th>\n      <th>std</th>\n      <th>percentil25</th>\n      <th>percentil75</th>\n      <th>kurtosis</th>\n      <th>skew</th>\n    </tr>\n    <tr>\n      <th>video_name</th>\n      <th></th>\n      <th></th>\n      <th></th>\n      <th></th>\n      <th></th>\n      <th></th>\n      <th></th>\n      <th></th>\n      <th></th>\n    </tr>\n  </thead>\n  <tbody>\n    <tr>\n      <th>Test_pour_AFPA</th>\n      <td>0.985915</td>\n      <td>0.0</td>\n      <td>1.0</td>\n      <td>1.0</td>\n      <td>0.118678</td>\n      <td>1.00</td>\n      <td>1.0</td>\n      <td>66.014286</td>\n      <td>-8.247077</td>\n    </tr>\n    <tr>\n      <th>Video_1</th>\n      <td>0.305556</td>\n      <td>0.0</td>\n      <td>1.0</td>\n      <td>0.0</td>\n      <td>0.463875</td>\n      <td>0.00</td>\n      <td>1.0</td>\n      <td>-1.287273</td>\n      <td>0.844232</td>\n    </tr>\n    <tr>\n      <th>WIN_20210323_19_17_40_Pro</th>\n      <td>0.527778</td>\n      <td>0.0</td>\n      <td>1.0</td>\n      <td>1.0</td>\n      <td>0.502731</td>\n      <td>0.00</td>\n      <td>1.0</td>\n      <td>-1.987616</td>\n      <td>-0.111283</td>\n    </tr>\n    <tr>\n      <th>WIN_20210329_10_16_02_Pro</th>\n      <td>0.972222</td>\n      <td>0.0</td>\n      <td>1.0</td>\n      <td>1.0</td>\n      <td>0.165489</td>\n      <td>1.00</td>\n      <td>1.0</td>\n      <td>31.028571</td>\n      <td>-5.747049</td>\n    </tr>\n    <tr>\n      <th>WIN_20210330_13_10_29_Pro</th>\n      <td>1.000000</td>\n      <td>1.0</td>\n      <td>1.0</td>\n      <td>1.0</td>\n      <td>0.000000</td>\n      <td>1.00</td>\n      <td>1.0</td>\n      <td>-3.000000</td>\n      <td>0.000000</td>\n    </tr>\n    <tr>\n      <th>WIN_20210331_21_22_52_Pro</th>\n      <td>0.915493</td>\n      <td>0.0</td>\n      <td>1.0</td>\n      <td>1.0</td>\n      <td>0.280126</td>\n      <td>1.00</td>\n      <td>1.0</td>\n      <td>6.925641</td>\n      <td>-2.987581</td>\n    </tr>\n    <tr>\n      <th>WIN_20210402_14_27_50_Pro</th>\n      <td>1.944444</td>\n      <td>0.0</td>\n      <td>2.0</td>\n      <td>2.0</td>\n      <td>0.285267</td>\n      <td>2.00</td>\n      <td>2.0</td>\n      <td>31.264793</td>\n      <td>-5.513881</td>\n    </tr>\n    <tr>\n      <th>WIN_20210402_19_04_53_Pro</th>\n      <td>0.666667</td>\n      <td>0.0</td>\n      <td>1.0</td>\n      <td>1.0</td>\n      <td>0.474713</td>\n      <td>0.00</td>\n      <td>1.0</td>\n      <td>-1.500000</td>\n      <td>-0.707107</td>\n    </tr>\n    <tr>\n      <th>WIN_20210403_18_49_15_Pro</th>\n      <td>0.750000</td>\n      <td>0.0</td>\n      <td>1.0</td>\n      <td>1.0</td>\n      <td>0.436051</td>\n      <td>0.75</td>\n      <td>1.0</td>\n      <td>-0.666667</td>\n      <td>-1.154701</td>\n    </tr>\n    <tr>\n      <th>WIN_20210404_10_58_27_Pro</th>\n      <td>0.753425</td>\n      <td>0.0</td>\n      <td>1.0</td>\n      <td>1.0</td>\n      <td>0.434000</td>\n      <td>1.00</td>\n      <td>1.0</td>\n      <td>-0.617172</td>\n      <td>-1.175937</td>\n    </tr>\n    <tr>\n      <th>WIN_20210404_21_41_12_Pro</th>\n      <td>0.698630</td>\n      <td>0.0</td>\n      <td>1.0</td>\n      <td>1.0</td>\n      <td>0.462028</td>\n      <td>0.00</td>\n      <td>1.0</td>\n      <td>-1.250446</td>\n      <td>-0.865768</td>\n    </tr>\n    <tr>\n      <th>WIN_20210405_15_09_16_Pro</th>\n      <td>0.095890</td>\n      <td>0.0</td>\n      <td>1.0</td>\n      <td>0.0</td>\n      <td>0.296479</td>\n      <td>0.00</td>\n      <td>0.0</td>\n      <td>5.534632</td>\n      <td>2.744928</td>\n    </tr>\n    <tr>\n      <th>WIN_20210406_15_06_15_Pro</th>\n      <td>0.152778</td>\n      <td>0.0</td>\n      <td>1.0</td>\n      <td>0.0</td>\n      <td>0.362298</td>\n      <td>0.00</td>\n      <td>0.0</td>\n      <td>1.725782</td>\n      <td>1.930229</td>\n    </tr>\n    <tr>\n      <th>WIN_20210406_18_35_52_Pro</th>\n      <td>0.111111</td>\n      <td>0.0</td>\n      <td>1.0</td>\n      <td>0.0</td>\n      <td>0.316475</td>\n      <td>0.00</td>\n      <td>0.0</td>\n      <td>4.125000</td>\n      <td>2.474874</td>\n    </tr>\n    <tr>\n      <th>WIN_20210406_18_49_10_Pro</th>\n      <td>0.097222</td>\n      <td>0.0</td>\n      <td>1.0</td>\n      <td>0.0</td>\n      <td>0.298339</td>\n      <td>0.00</td>\n      <td>0.0</td>\n      <td>5.393407</td>\n      <td>2.719082</td>\n    </tr>\n    <tr>\n      <th>WIN_20210406_21_05_52_Pro</th>\n      <td>0.352113</td>\n      <td>0.0</td>\n      <td>1.0</td>\n      <td>0.0</td>\n      <td>0.481028</td>\n      <td>0.00</td>\n      <td>1.0</td>\n      <td>-1.616522</td>\n      <td>0.619256</td>\n    </tr>\n    <tr>\n      <th>WIN_20210407_09_04_05_Pro</th>\n      <td>0.575342</td>\n      <td>0.0</td>\n      <td>1.0</td>\n      <td>1.0</td>\n      <td>0.497712</td>\n      <td>0.00</td>\n      <td>1.0</td>\n      <td>-1.907066</td>\n      <td>-0.304851</td>\n    </tr>\n    <tr>\n      <th>WIN_20210407_14_54_56_Pro_edit2</th>\n      <td>0.388889</td>\n      <td>0.0</td>\n      <td>1.0</td>\n      <td>0.0</td>\n      <td>0.490919</td>\n      <td>0.00</td>\n      <td>1.0</td>\n      <td>-1.792208</td>\n      <td>0.455842</td>\n    </tr>\n    <tr>\n      <th>WIN_20210408_11_48_58_Pro</th>\n      <td>0.916667</td>\n      <td>0.0</td>\n      <td>2.0</td>\n      <td>1.0</td>\n      <td>0.325014</td>\n      <td>1.00</td>\n      <td>1.0</td>\n      <td>5.093333</td>\n      <td>-1.686899</td>\n    </tr>\n    <tr>\n      <th>WIN_20210408_14_00_44_Pro</th>\n      <td>0.394366</td>\n      <td>0.0</td>\n      <td>1.0</td>\n      <td>0.0</td>\n      <td>0.492193</td>\n      <td>0.00</td>\n      <td>1.0</td>\n      <td>-1.813123</td>\n      <td>0.432293</td>\n    </tr>\n    <tr>\n      <th>WIN_20210408_14_02_19_Pro</th>\n      <td>0.794521</td>\n      <td>0.0</td>\n      <td>2.0</td>\n      <td>1.0</td>\n      <td>0.644612</td>\n      <td>0.00</td>\n      <td>1.0</td>\n      <td>-0.664136</td>\n      <td>0.212805</td>\n    </tr>\n    <tr>\n      <th>WIN_20210408_14_11_32_Pro</th>\n      <td>1.000000</td>\n      <td>1.0</td>\n      <td>1.0</td>\n      <td>1.0</td>\n      <td>0.000000</td>\n      <td>1.00</td>\n      <td>1.0</td>\n      <td>-3.000000</td>\n      <td>0.000000</td>\n    </tr>\n    <tr>\n      <th>WIN_20210408_15_20_51_Pro</th>\n      <td>0.287671</td>\n      <td>0.0</td>\n      <td>1.0</td>\n      <td>0.0</td>\n      <td>0.455810</td>\n      <td>0.00</td>\n      <td>1.0</td>\n      <td>-1.119963</td>\n      <td>0.938103</td>\n    </tr>\n    <tr>\n      <th>WIN_20210408_16_04_32_Pro</th>\n      <td>0.708333</td>\n      <td>0.0</td>\n      <td>1.0</td>\n      <td>1.0</td>\n      <td>0.457719</td>\n      <td>0.00</td>\n      <td>1.0</td>\n      <td>-1.159664</td>\n      <td>-0.916698</td>\n    </tr>\n    <tr>\n      <th>WIN_20210409_10_26_11_Pro</th>\n      <td>0.263889</td>\n      <td>0.0</td>\n      <td>1.0</td>\n      <td>0.0</td>\n      <td>0.443833</td>\n      <td>0.00</td>\n      <td>1.0</td>\n      <td>-0.852036</td>\n      <td>1.071431</td>\n    </tr>\n    <tr>\n      <th>WIN_20210413_15_38_01_Pro</th>\n      <td>0.458333</td>\n      <td>0.0</td>\n      <td>1.0</td>\n      <td>0.0</td>\n      <td>0.501757</td>\n      <td>0.00</td>\n      <td>1.0</td>\n      <td>-1.972028</td>\n      <td>0.167248</td>\n    </tr>\n    <tr>\n      <th>WIN_20210414_06_24_52_Pro</th>\n      <td>0.222222</td>\n      <td>0.0</td>\n      <td>1.0</td>\n      <td>0.0</td>\n      <td>0.418657</td>\n      <td>0.00</td>\n      <td>0.0</td>\n      <td>-0.214286</td>\n      <td>1.336306</td>\n    </tr>\n    <tr>\n      <th>WIN_20210415_15_41_24_Pro</th>\n      <td>0.109589</td>\n      <td>0.0</td>\n      <td>1.0</td>\n      <td>0.0</td>\n      <td>0.314539</td>\n      <td>0.00</td>\n      <td>0.0</td>\n      <td>4.248077</td>\n      <td>2.499615</td>\n    </tr>\n    <tr>\n      <th>WIN_20210416_08_06_54_Pro</th>\n      <td>0.849315</td>\n      <td>0.0</td>\n      <td>1.0</td>\n      <td>1.0</td>\n      <td>0.360217</td>\n      <td>1.00</td>\n      <td>1.0</td>\n      <td>1.813783</td>\n      <td>-1.952891</td>\n    </tr>\n    <tr>\n      <th>WIN_20210417_14_53_12_Pro</th>\n      <td>0.205479</td>\n      <td>0.0</td>\n      <td>1.0</td>\n      <td>0.0</td>\n      <td>0.406848</td>\n      <td>0.00</td>\n      <td>0.0</td>\n      <td>0.125287</td>\n      <td>1.457837</td>\n    </tr>\n  </tbody>\n</table>\n</div>"
     },
     "metadata": {},
     "execution_count": 97
    }
   ],
   "source": [
    "df_ypredict = pd.read_csv('ypredict_' + features + '_tw5' + diapo_selection + '.csv')\n",
    "df_ypredict = df_ypredict.iloc[:,1:]\n",
    "df_ypredict.columns = ['video_name','diapo','frameTimeWindow','ypredict']\n",
    "df_ypredict = df_ypredict.groupby(['video_name']).agg({'ypredict': ['mean','min','max', 'median', 'std', percentil25, percentil75, kurtosis, skew]})\n",
    "df_ypredict\n"
   ]
  },
  {
   "cell_type": "code",
   "execution_count": 98,
   "metadata": {},
   "outputs": [],
   "source": [
    "Xy = df_ypredict.merge(df_annotations_stress, on='video_name')\n",
    "X = Xy.iloc[:,:-1].set_index('video_name')\n",
    "y = Xy.iloc[:,-1]"
   ]
  },
  {
   "cell_type": "code",
   "execution_count": 99,
   "metadata": {},
   "outputs": [],
   "source": [
    "from sklearn.linear_model import LogisticRegression\n",
    "from sklearn.neighbors import KNeighborsClassifier\n",
    "from sklearn.ensemble import RandomForestClassifier\n",
    "from sklearn.model_selection import LeaveOneGroupOut\n",
    "from sklearn.decomposition import PCA\n",
    "from sklearn.pipeline import Pipeline\n",
    "\n",
    "pca = PCA()\n",
    "\n",
    "models_list = [\n",
    "                LogisticRegression(multi_class='multinomial', fit_intercept=True, random_state=42),\n",
    "                Pipeline(steps=[('pca', pca), ('logistic', LogisticRegression(multi_class='multinomial', fit_intercept=True))]),\n",
    "                KNeighborsClassifier(),\n",
    "                Pipeline(steps=[('pca', pca), ('knn', KNeighborsClassifier())]),\n",
    "                RandomForestClassifier(random_state = 42, n_jobs=-1)\n",
    "                ]\n",
    "\n",
    "parameters_list = [\n",
    "                    {'C': [0.01, 0.05, 0.1, 0.5, 1, 2, 3, 4 , 5, 10], 'class_weight' : [None, 'balanced']},\n",
    "                    {'pca__n_components': [1, 2, 3, 4],\n",
    "                        'logistic__C': [0.01, 0.05, 0.1, 0.5, 1, 2, 3, 4 , 5, 10], 'logistic__class_weight' : [None, 'balanced']},\n",
    "                    {'n_neighbors': [4, 5, 6, 7, 8, 9, 10, 11, 12,  15, 20], 'weights' : ['uniform', 'distance'], 'p': [1, 2]},\n",
    "                    {'pca__n_components': [1, 2, 3, 4],\n",
    "                        'knn__n_neighbors': [4, 5, 6, 7, 8, 9, 10, 11, 12,  15, 20], 'knn__weights' : ['uniform', 'distance'],                              'knn__p': [1, 2]},\n",
    "                    {'n_estimators': [50, 100, 150, 200], 'max_depth':[3, 4, 5, 6, 10, 15, 20], 'class_weight':[None,'balanced']}\n",
    "                    ]\n",
    "\n",
    "groups = X.reset_index()['video_name']\n",
    "loo = LeaveOneGroupOut()\n",
    "cv_loo = loo.split(X, y, groups)"
   ]
  },
  {
   "cell_type": "code",
   "execution_count": 100,
   "metadata": {},
   "outputs": [
    {
     "output_type": "stream",
     "name": "stdout",
     "text": [
      "Fitting 30 folds for each of 20 candidates, totalling 600 fits\n",
      "[Parallel(n_jobs=-1)]: Using backend LokyBackend with 8 concurrent workers.\n",
      "[Parallel(n_jobs=-1)]: Done  56 tasks      | elapsed:    0.4s\n",
      "[Parallel(n_jobs=-1)]: Done 585 out of 600 | elapsed:    3.5s remaining:    0.1s\n",
      "[Parallel(n_jobs=-1)]: Done 600 out of 600 | elapsed:    3.6s finished\n",
      "[Parallel(n_jobs=-1)]: Using backend LokyBackend with 8 concurrent workers.\n",
      "Best estimator LogisticRegression(C=0.01, multi_class='multinomial', random_state=42)\n",
      "Best results 0.4666666666666667\n",
      "Best params {'C': 0.01, 'class_weight': None}\n",
      "accuracy (mean, std) 0.4666666666666667 0.49888765156985887\n",
      "f1 (mean, std) 0.4666666666666667 0.49888765156985887\n",
      "balanced accuracy (mean, std) 0.4666666666666667 0.49888765156985887\n",
      "precision (mean, std) 0.4666666666666667 0.49888765156985887\n",
      "recall (mean, std) 0.4666666666666667 0.49888765156985887\n",
      "\n",
      "Fitting 30 folds for each of 80 candidates, totalling 2400 fits\n",
      "[Parallel(n_jobs=-1)]: Done  56 tasks      | elapsed:    0.4s\n",
      "[Parallel(n_jobs=-1)]: Done 1200 tasks      | elapsed:    5.3s\n",
      "[Parallel(n_jobs=-1)]: Done 2400 out of 2400 | elapsed:   10.8s finished\n",
      "[Parallel(n_jobs=-1)]: Using backend LokyBackend with 8 concurrent workers.\n",
      "Best estimator Pipeline(steps=[('pca', PCA(n_components=1)),\n",
      "                ('logistic',\n",
      "                 LogisticRegression(C=0.05, multi_class='multinomial'))])\n",
      "Best results 0.5333333333333333\n",
      "Best params {'logistic__C': 0.05, 'logistic__class_weight': None, 'pca__n_components': 1}\n",
      "accuracy (mean, std) 0.5333333333333333 0.49888765156985887\n",
      "f1 (mean, std) 0.5333333333333333 0.49888765156985887\n",
      "balanced accuracy (mean, std) 0.5333333333333333 0.49888765156985887\n",
      "precision (mean, std) 0.5333333333333333 0.49888765156985887\n",
      "recall (mean, std) 0.5333333333333333 0.49888765156985887\n",
      "\n",
      "Fitting 30 folds for each of 44 candidates, totalling 1320 fits\n",
      "[Parallel(n_jobs=-1)]: Done  56 tasks      | elapsed:    0.2s\n",
      "[Parallel(n_jobs=-1)]: Done 1200 tasks      | elapsed:    2.8s\n",
      "[Parallel(n_jobs=-1)]: Done 1320 out of 1320 | elapsed:    3.0s finished\n",
      "[Parallel(n_jobs=-1)]: Using backend LokyBackend with 8 concurrent workers.\n",
      "Best estimator KNeighborsClassifier(n_neighbors=4, weights='distance')\n",
      "Best results 0.5333333333333333\n",
      "Best params {'n_neighbors': 4, 'p': 2, 'weights': 'distance'}\n",
      "accuracy (mean, std) 0.5333333333333333 0.49888765156985887\n",
      "f1 (mean, std) 0.5333333333333333 0.49888765156985887\n",
      "balanced accuracy (mean, std) 0.5333333333333333 0.49888765156985887\n",
      "precision (mean, std) 0.5333333333333333 0.49888765156985887\n",
      "recall (mean, std) 0.5333333333333333 0.49888765156985887\n",
      "\n",
      "Fitting 30 folds for each of 176 candidates, totalling 5280 fits\n",
      "[Parallel(n_jobs=-1)]: Done  56 tasks      | elapsed:    0.3s\n",
      "[Parallel(n_jobs=-1)]: Done 2160 tasks      | elapsed:    5.5s\n",
      "[Parallel(n_jobs=-1)]: Done 5280 out of 5280 | elapsed:   13.1s finished\n",
      "[Parallel(n_jobs=-1)]: Using backend LokyBackend with 8 concurrent workers.\n",
      "Best estimator Pipeline(steps=[('pca', PCA(n_components=1)),\n",
      "                ('knn',\n",
      "                 KNeighborsClassifier(n_neighbors=7, p=1, weights='distance'))])\n",
      "Best results 0.5666666666666667\n",
      "Best params {'knn__n_neighbors': 7, 'knn__p': 1, 'knn__weights': 'distance', 'pca__n_components': 1}\n",
      "accuracy (mean, std) 0.5666666666666667 0.4955356249106168\n",
      "f1 (mean, std) 0.5666666666666667 0.4955356249106168\n",
      "balanced accuracy (mean, std) 0.5666666666666667 0.4955356249106168\n",
      "precision (mean, std) 0.5666666666666667 0.4955356249106168\n",
      "recall (mean, std) 0.5666666666666667 0.4955356249106168\n",
      "\n",
      "Fitting 30 folds for each of 56 candidates, totalling 1680 fits\n",
      "[Parallel(n_jobs=-1)]: Done  52 tasks      | elapsed:    2.2s\n",
      "[Parallel(n_jobs=-1)]: Done 240 tasks      | elapsed:   13.7s\n",
      "[Parallel(n_jobs=-1)]: Done 490 tasks      | elapsed:   27.7s\n",
      "[Parallel(n_jobs=-1)]: Done 840 tasks      | elapsed:   48.0s\n",
      "[Parallel(n_jobs=-1)]: Done 1290 tasks      | elapsed:  1.2min\n",
      "Best estimator RandomForestClassifier(max_depth=5, n_estimators=50, n_jobs=-1, random_state=42)\n",
      "Best results 0.5\n",
      "Best params {'class_weight': None, 'max_depth': 5, 'n_estimators': 50}\n",
      "accuracy (mean, std) 0.5 0.5\n",
      "f1 (mean, std) 0.5 0.5\n",
      "balanced accuracy (mean, std) 0.5 0.5\n",
      "precision (mean, std) 0.5 0.5\n",
      "recall (mean, std) 0.5 0.5\n",
      "\n",
      "[Parallel(n_jobs=-1)]: Done 1680 out of 1680 | elapsed:  1.6min finished\n"
     ]
    }
   ],
   "source": [
    "best_result, y_predict, result_list = runGridSearchClassifiers(X, y, cv_loo, models_list, parameters_list, \n",
    "                                                                output_predict=True, n_jobs=-1, verbose=True)"
   ]
  },
  {
   "cell_type": "code",
   "execution_count": 101,
   "metadata": {},
   "outputs": [
    {
     "output_type": "execute_result",
     "data": {
      "text/plain": [
       "{'best_estimator': Pipeline(steps=[('pca', PCA(n_components=1)),\n",
       "                 ('knn',\n",
       "                  KNeighborsClassifier(n_neighbors=7, p=1, weights='distance'))]),\n",
       " 'best_score': 0.5666666666666667,\n",
       " 'best_params': {'knn__n_neighbors': 7,\n",
       "  'knn__p': 1,\n",
       "  'knn__weights': 'distance',\n",
       "  'pca__n_components': 1},\n",
       " 'mean_test_f1_score': 0.5666666666666667,\n",
       " 'std_test_f1_score': 0.4955356249106168,\n",
       " 'mean_test_accuracy_score': 0.5666666666666667,\n",
       " 'std_test_accuracy_score': 0.4955356249106168,\n",
       " 'mean_test_balanced_accuracy_score': 0.5666666666666667,\n",
       " 'std_test_balanced_accuracy_score': 0.4955356249106168,\n",
       " 'mean_test_precision': 0.5666666666666667,\n",
       " 'std_test_precision': 0.4955356249106168,\n",
       " 'mean_test_recall': 0.5666666666666667,\n",
       " 'std_test_recall': 0.4955356249106168}"
      ]
     },
     "metadata": {},
     "execution_count": 101
    }
   ],
   "source": [
    "best_result"
   ]
  }
 ],
 "metadata": {
  "interpreter": {
   "hash": "148f6ed9de8dadedbbd96ef8a7e818f87aaafab3c59f5306aa9910b4f09c5b3f"
  },
  "kernelspec": {
   "name": "python3",
   "display_name": "Python 3.8.5 64-bit ('base': conda)"
  },
  "language_info": {
   "codemirror_mode": {
    "name": "ipython",
    "version": 3
   },
   "file_extension": ".py",
   "mimetype": "text/x-python",
   "name": "python",
   "nbconvert_exporter": "python",
   "pygments_lexer": "ipython3",
   "version": "3.8.5"
  },
  "metadata": {
   "interpreter": {
    "hash": "148f6ed9de8dadedbbd96ef8a7e818f87aaafab3c59f5306aa9910b4f09c5b3f"
   }
  }
 },
 "nbformat": 4,
 "nbformat_minor": 2
}