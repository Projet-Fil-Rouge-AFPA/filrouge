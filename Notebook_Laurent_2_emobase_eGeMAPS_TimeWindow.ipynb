{
 "cells": [
  {
   "cell_type": "code",
   "execution_count": 1,
   "metadata": {},
   "outputs": [],
   "source": [
    "import numpy as np \n",
    "import pandas as pd \n",
    "import matplotlib.pyplot as plt \n",
    "import pathlib\n",
    "from util import runGridSearchClassifiers"
   ]
  },
  {
   "cell_type": "markdown",
   "metadata": {},
   "source": [
    "## Loading data"
   ]
  },
  {
   "cell_type": "code",
   "execution_count": 2,
   "metadata": {},
   "outputs": [],
   "source": [
    "directory_path = '../../04_-_Dev/videos'\n",
    "features = 'emobase_eGeMAPS'"
   ]
  },
  {
   "cell_type": "code",
   "execution_count": 3,
   "metadata": {},
   "outputs": [],
   "source": [
    "df_total = pd.read_pickle(directory_path + '/audio_' + features + '_data.p')"
   ]
  },
  {
   "cell_type": "code",
   "execution_count": 4,
   "metadata": {},
   "outputs": [
    {
     "output_type": "execute_result",
     "data": {
      "text/plain": [
       "(2573581, 96)"
      ]
     },
     "metadata": {},
     "execution_count": 4
    }
   ],
   "source": [
    "df_total.shape"
   ]
  },
  {
   "cell_type": "code",
   "execution_count": 5,
   "metadata": {},
   "outputs": [
    {
     "output_type": "execute_result",
     "data": {
      "text/plain": [
       "30"
      ]
     },
     "metadata": {},
     "execution_count": 5
    }
   ],
   "source": [
    "df_total.video_name.nunique()"
   ]
  },
  {
   "cell_type": "code",
   "execution_count": 6,
   "metadata": {},
   "outputs": [
    {
     "output_type": "execute_result",
     "data": {
      "text/plain": [
       "Empty DataFrame\n",
       "Columns: [frameIndex, frameTime, pcm_intensity_sma, pcm_loudness_sma, mfcc_sma[1], mfcc_sma[2], mfcc_sma[3], mfcc_sma[4], mfcc_sma[5], mfcc_sma[6], mfcc_sma[7], mfcc_sma[8], mfcc_sma[9], mfcc_sma[10], mfcc_sma[11], mfcc_sma[12], lspFreq_sma[0], lspFreq_sma[1], lspFreq_sma[2], lspFreq_sma[3], lspFreq_sma[4], lspFreq_sma[5], lspFreq_sma[6], lspFreq_sma[7], pcm_zcr_sma, voiceProb_sma, F0_sma, F0env_sma, pcm_intensity_sma_de, pcm_loudness_sma_de, mfcc_sma_de[1], mfcc_sma_de[2], mfcc_sma_de[3], mfcc_sma_de[4], mfcc_sma_de[5], mfcc_sma_de[6], mfcc_sma_de[7], mfcc_sma_de[8], mfcc_sma_de[9], mfcc_sma_de[10], mfcc_sma_de[11], mfcc_sma_de[12], lspFreq_sma_de[0], lspFreq_sma_de[1], lspFreq_sma_de[2], lspFreq_sma_de[3], lspFreq_sma_de[4], lspFreq_sma_de[5], lspFreq_sma_de[6], lspFreq_sma_de[7], pcm_zcr_sma_de, voiceProb_sma_de, F0_sma_de, F0env_sma_de, alphaRatio_sma3, hammarbergIndex_sma3, slope0-500_sma3, slope500-1500_sma3, spectralFlux_sma3, F0semitoneFrom27.5Hz_sma3nz, jitterLocal_sma3nz, shimmerLocaldB_sma3nz, HNRdBACF_sma3nz, logRelF0-H1-H2_sma3nz, logRelF0-H1-A3_sma3nz, F1frequency_sma3nz, F1bandwidth_sma3nz, F1amplitudeLogRelF0_sma3nz, F2frequency_sma3nz, F2amplitudeLogRelF0_sma3nz, F3frequency_sma3nz, F3amplitudeLogRelF0_sma3nz, alphaRatio_sma3_de, hammarbergIndex_sma3_de, slope0-500_sma3_de, slope500-1500_sma3_de, spectralFlux_sma3_de, F0semitoneFrom27.5Hz_sma3nz_de, jitterLocal_sma3nz_de, shimmerLocaldB_sma3nz_de, HNRdBACF_sma3nz_de, logRelF0-H1-H2_sma3nz_de, logRelF0-H1-A3_sma3nz_de, F1frequency_sma3nz_de, F1bandwidth_sma3nz_de, F1amplitudeLogRelF0_sma3nz_de, F2frequency_sma3nz_de, F2amplitudeLogRelF0_sma3nz_de, F3frequency_sma3nz_de, F3amplitudeLogRelF0_sma3nz_de, video_name, stress_global, type_candidat, sexe, stress, diapo]\n",
       "Index: []\n",
       "\n",
       "[0 rows x 96 columns]"
      ],
      "text/html": "<div>\n<style scoped>\n    .dataframe tbody tr th:only-of-type {\n        vertical-align: middle;\n    }\n\n    .dataframe tbody tr th {\n        vertical-align: top;\n    }\n\n    .dataframe thead th {\n        text-align: right;\n    }\n</style>\n<table border=\"1\" class=\"dataframe\">\n  <thead>\n    <tr style=\"text-align: right;\">\n      <th></th>\n      <th>frameIndex</th>\n      <th>frameTime</th>\n      <th>pcm_intensity_sma</th>\n      <th>pcm_loudness_sma</th>\n      <th>mfcc_sma[1]</th>\n      <th>mfcc_sma[2]</th>\n      <th>mfcc_sma[3]</th>\n      <th>mfcc_sma[4]</th>\n      <th>mfcc_sma[5]</th>\n      <th>mfcc_sma[6]</th>\n      <th>...</th>\n      <th>F2frequency_sma3nz_de</th>\n      <th>F2amplitudeLogRelF0_sma3nz_de</th>\n      <th>F3frequency_sma3nz_de</th>\n      <th>F3amplitudeLogRelF0_sma3nz_de</th>\n      <th>video_name</th>\n      <th>stress_global</th>\n      <th>type_candidat</th>\n      <th>sexe</th>\n      <th>stress</th>\n      <th>diapo</th>\n    </tr>\n  </thead>\n  <tbody>\n  </tbody>\n</table>\n<p>0 rows × 96 columns</p>\n</div>"
     },
     "metadata": {},
     "execution_count": 6
    }
   ],
   "source": [
    "df_total[df_total.isna().any(axis=1)]"
   ]
  },
  {
   "cell_type": "markdown",
   "metadata": {},
   "source": [
    "## Data processing"
   ]
  },
  {
   "cell_type": "code",
   "execution_count": 7,
   "metadata": {},
   "outputs": [],
   "source": [
    "time_window = 5\n",
    "df_total['frameTimeWindow'] = df_total.frameTime.apply(lambda x : np.floor(x / time_window) * time_window).astype(int)"
   ]
  },
  {
   "cell_type": "code",
   "execution_count": 5,
   "metadata": {},
   "outputs": [],
   "source": [
    "from scipy.stats import kurtosis, skew\n",
    "\n",
    "def percentil25(x): \n",
    "    return np.percentile(x, q=25)\n",
    "\n",
    "def percentil75(x): \n",
    "    return np.percentile(x, q=75)"
   ]
  },
  {
   "cell_type": "code",
   "execution_count": 9,
   "metadata": {},
   "outputs": [],
   "source": [
    "# 5 seconds windows\n",
    "X = df_total.iloc[:,2:].groupby(['video_name','diapo','frameTimeWindow']).agg({'mean','min','max', 'median', 'std', percentil25, percentil75, kurtosis, skew}).iloc[:,:-18]"
   ]
  },
  {
   "cell_type": "code",
   "execution_count": 10,
   "metadata": {},
   "outputs": [],
   "source": [
    "y = df_total.iloc[:,3:].groupby(['video_name','diapo','frameTimeWindow']).agg({'stress':'min'}).iloc[:,-1]"
   ]
  },
  {
   "cell_type": "code",
   "execution_count": 11,
   "metadata": {},
   "outputs": [],
   "source": [
    "X.to_pickle(directory_path + '/audio_' + features + '_tw5_data_X.p')\n",
    "y.to_pickle(directory_path + '/audio_' + features + '_tw5_data_y.p')"
   ]
  },
  {
   "cell_type": "code",
   "execution_count": 12,
   "metadata": {},
   "outputs": [],
   "source": [
    "from scipy.stats import kurtosis, skew\n",
    "X_audio = df_total.loc[df_total['diapo'].isin([8, 9, 10, 11, 17]),:].iloc[:,2:].groupby(['video_name','diapo','frameTimeWindow']).agg({'mean','min','max', 'median', 'std', percentil25, percentil75, kurtosis, skew}).iloc[:,:-18]\n",
    "y_audio = df_total.loc[df_total['diapo'].isin([8, 9, 10, 11, 17]),:].iloc[:,2:].groupby(['video_name','diapo','frameTimeWindow']).agg({'stress':'mean'}).iloc[:,-1]"
   ]
  },
  {
   "cell_type": "code",
   "execution_count": 13,
   "metadata": {},
   "outputs": [],
   "source": [
    "X_audio.to_pickle(directory_path + '/audio_' + features + '_tw5_data_X_audio_questions_only.p')\n",
    "y_audio.to_pickle(directory_path + '/audio_' + features + '_tw5_data_y_audio_questions_only.p')"
   ]
  },
  {
   "cell_type": "markdown",
   "metadata": {},
   "source": [
    "## Modèles"
   ]
  },
  {
   "cell_type": "code",
   "execution_count": 6,
   "metadata": {},
   "outputs": [],
   "source": [
    "X = pd.read_pickle(directory_path + '/audio_' + features + '_tw5_data_X.p')\n",
    "y = pd.read_pickle(directory_path + '/audio_' + features + '_tw5_data_y.p')\n",
    "\n",
    "X_audio = pd.read_pickle(directory_path + '/audio_' + features + '_tw5_data_X_audio_questions_only.p')\n",
    "y_audio = pd.read_pickle(directory_path + '/audio_' + features + '_tw5_data_y_audio_questions_only.p')"
   ]
  },
  {
   "cell_type": "code",
   "execution_count": 7,
   "metadata": {},
   "outputs": [],
   "source": [
    "X = X.fillna(0)\n",
    "X_audio = X_audio.fillna(0)"
   ]
  },
  {
   "cell_type": "markdown",
   "metadata": {},
   "source": [
    "## Stress par diapos\n",
    "### All diapos"
   ]
  },
  {
   "source": [
    "On prédit le stress par time window de 5s avec un Random Forest"
   ],
   "cell_type": "markdown",
   "metadata": {}
  },
  {
   "cell_type": "code",
   "execution_count": 8,
   "metadata": {},
   "outputs": [],
   "source": [
    "diapo_selection = '_all'"
   ]
  },
  {
   "cell_type": "code",
   "execution_count": 13,
   "metadata": {},
   "outputs": [],
   "source": [
    "from sklearn.ensemble import RandomForestClassifier\n",
    "from sklearn.model_selection import LeaveOneGroupOut\n",
    "\n",
    "models_list = [RandomForestClassifier(random_state = 42, n_jobs=-1)]\n",
    "parameters_list = [\n",
    "                {'n_estimators': [100, 150, 200], 'max_depth':[10, 15, 20, 25, 30], 'class_weight':[None,'balanced']}\n",
    "                ]\n",
    "groups = X.reset_index()['video_name']\n",
    "loo = LeaveOneGroupOut()\n",
    "cv_loo = loo.split(X, y, groups)"
   ]
  },
  {
   "cell_type": "code",
   "execution_count": 14,
   "metadata": {},
   "outputs": [
    {
     "output_type": "stream",
     "name": "stdout",
     "text": [
      "Fitting 30 folds for each of 30 candidates, totalling 900 fits\n",
      "[Parallel(n_jobs=-1)]: Using backend LokyBackend with 8 concurrent workers.\n",
      "[Parallel(n_jobs=-1)]: Done  34 tasks      | elapsed:  1.3min\n",
      "[Parallel(n_jobs=-1)]: Done 184 tasks      | elapsed:  9.4min\n",
      "[Parallel(n_jobs=-1)]: Done 434 tasks      | elapsed: 23.7min\n",
      "[Parallel(n_jobs=-1)]: Done 784 tasks      | elapsed: 42.3min\n",
      "[Parallel(n_jobs=-1)]: Done 900 out of 900 | elapsed: 49.4min finished\n",
      "Best estimator RandomForestClassifier(max_depth=30, n_estimators=200, n_jobs=-1,\n",
      "                       random_state=42)\n",
      "Best results 0.4382887921646796\n",
      "Best params {'class_weight': None, 'max_depth': 30, 'n_estimators': 200}\n",
      "accuracy (mean, std) 0.4466189356356167 0.21189250831745096\n",
      "f1 (mean, std) 0.4382887921646796 0.21207369712943566\n",
      "balanced accuracy (mean, std) 0.4322245755030847 0.1761420931580816\n",
      "precision (mean, std) 0.56448780267131 0.22281610407514715\n",
      "recall (mean, std) 0.4466189356356167 0.21189250831745096\n",
      "\n",
      "f1_score (weighted) 0.4170718668637424\n",
      "accuracy 0.4439647080908579\n"
     ]
    }
   ],
   "source": [
    "best_result, y_predict, y_predict_proba, result_list = runGridSearchClassifiers(X, y, cv_loo, models_list, parameters_list, \n",
    "                                                                output_predict=True, n_jobs=-1, verbose=True)"
   ]
  },
  {
   "cell_type": "code",
   "execution_count": 15,
   "metadata": {},
   "outputs": [],
   "source": [
    "# Saving predictions\n",
    "df_ypredict = pd.concat([X.reset_index()[['video_name','diapo','frameTimeWindow']],\n",
    "                        pd.DataFrame(y_predict, columns=['ypredict'])],axis=1)\n",
    "df_ypredict.to_csv('ypredict_' + features + '_tw5' + diapo_selection + '.csv')"
   ]
  },
  {
   "cell_type": "code",
   "execution_count": 16,
   "metadata": {},
   "outputs": [
    {
     "output_type": "execute_result",
     "data": {
      "text/plain": [
       "array([[ 660, 1243,  161,    0],\n",
       "       [ 802, 1692,   96,    0],\n",
       "       [ 324,  316,   13,    0],\n",
       "       [   4,   16,    0,    0]])"
      ]
     },
     "metadata": {},
     "execution_count": 16
    }
   ],
   "source": [
    "from sklearn.metrics import confusion_matrix\n",
    "confusion_matrix(y, y_predict)"
   ]
  },
  {
   "cell_type": "code",
   "execution_count": 138,
   "metadata": {},
   "outputs": [
    {
     "output_type": "execute_result",
     "data": {
      "text/plain": [
       "                     video_name  diapo  frameTimeWindow  ypredict\n",
       "0                Test_pour_AFPA      8              170         1\n",
       "1                Test_pour_AFPA      8              175         1\n",
       "2                Test_pour_AFPA      8              180         1\n",
       "3                Test_pour_AFPA      8              185         1\n",
       "4                Test_pour_AFPA      8              190         1\n",
       "...                         ...    ...              ...       ...\n",
       "2162  WIN_20210417_14_53_12_Pro     17              490         1\n",
       "2163  WIN_20210417_14_53_12_Pro     17              495         0\n",
       "2164  WIN_20210417_14_53_12_Pro     17              500         1\n",
       "2165  WIN_20210417_14_53_12_Pro     17              505         0\n",
       "2166  WIN_20210417_14_53_12_Pro     17              510         0\n",
       "\n",
       "[2167 rows x 4 columns]"
      ],
      "text/html": "<div>\n<style scoped>\n    .dataframe tbody tr th:only-of-type {\n        vertical-align: middle;\n    }\n\n    .dataframe tbody tr th {\n        vertical-align: top;\n    }\n\n    .dataframe thead th {\n        text-align: right;\n    }\n</style>\n<table border=\"1\" class=\"dataframe\">\n  <thead>\n    <tr style=\"text-align: right;\">\n      <th></th>\n      <th>video_name</th>\n      <th>diapo</th>\n      <th>frameTimeWindow</th>\n      <th>ypredict</th>\n    </tr>\n  </thead>\n  <tbody>\n    <tr>\n      <th>0</th>\n      <td>Test_pour_AFPA</td>\n      <td>8</td>\n      <td>170</td>\n      <td>1</td>\n    </tr>\n    <tr>\n      <th>1</th>\n      <td>Test_pour_AFPA</td>\n      <td>8</td>\n      <td>175</td>\n      <td>1</td>\n    </tr>\n    <tr>\n      <th>2</th>\n      <td>Test_pour_AFPA</td>\n      <td>8</td>\n      <td>180</td>\n      <td>1</td>\n    </tr>\n    <tr>\n      <th>3</th>\n      <td>Test_pour_AFPA</td>\n      <td>8</td>\n      <td>185</td>\n      <td>1</td>\n    </tr>\n    <tr>\n      <th>4</th>\n      <td>Test_pour_AFPA</td>\n      <td>8</td>\n      <td>190</td>\n      <td>1</td>\n    </tr>\n    <tr>\n      <th>...</th>\n      <td>...</td>\n      <td>...</td>\n      <td>...</td>\n      <td>...</td>\n    </tr>\n    <tr>\n      <th>2162</th>\n      <td>WIN_20210417_14_53_12_Pro</td>\n      <td>17</td>\n      <td>490</td>\n      <td>1</td>\n    </tr>\n    <tr>\n      <th>2163</th>\n      <td>WIN_20210417_14_53_12_Pro</td>\n      <td>17</td>\n      <td>495</td>\n      <td>0</td>\n    </tr>\n    <tr>\n      <th>2164</th>\n      <td>WIN_20210417_14_53_12_Pro</td>\n      <td>17</td>\n      <td>500</td>\n      <td>1</td>\n    </tr>\n    <tr>\n      <th>2165</th>\n      <td>WIN_20210417_14_53_12_Pro</td>\n      <td>17</td>\n      <td>505</td>\n      <td>0</td>\n    </tr>\n    <tr>\n      <th>2166</th>\n      <td>WIN_20210417_14_53_12_Pro</td>\n      <td>17</td>\n      <td>510</td>\n      <td>0</td>\n    </tr>\n  </tbody>\n</table>\n<p>2167 rows × 4 columns</p>\n</div>"
     },
     "metadata": {},
     "execution_count": 138
    }
   ],
   "source": [
    "df_ypredict = pd.read_csv('ypredict_' + features + '_tw5' + diapo_selection + '.csv')\n",
    "df_ypredict = df_ypredict.iloc[:,1:]\n",
    "df_ypredict.columns = ['video_name','diapo','frameTimeWindow','ypredict']\n",
    "df_ypredict['ypredict'] = df_ypredict['ypredict'].astype(int)\n",
    "df_ypredict\n"
   ]
  },
  {
   "cell_type": "code",
   "execution_count": null,
   "metadata": {},
   "outputs": [],
   "source": []
  },
  {
   "cell_type": "markdown",
   "metadata": {},
   "source": [
    "#### En utilisant la proportion des prédictions 0, 1 et 2"
   ]
  },
  {
   "cell_type": "code",
   "execution_count": 139,
   "metadata": {},
   "outputs": [
    {
     "output_type": "execute_result",
     "data": {
      "text/plain": [
       "ypredict                                0         1    2\n",
       "video_name                diapo                         \n",
       "Test_pour_AFPA            8      0.000000  1.000000  0.0\n",
       "                          9      0.050000  0.950000  0.0\n",
       "                          10     0.000000  1.000000  0.0\n",
       "                          11     0.000000  1.000000  0.0\n",
       "                          17     0.000000  1.000000  0.0\n",
       "...                                   ...       ...  ...\n",
       "WIN_20210417_14_53_12_Pro 8      0.909091  0.090909  0.0\n",
       "                          9      0.857143  0.142857  0.0\n",
       "                          10     0.714286  0.285714  0.0\n",
       "                          11     0.800000  0.200000  0.0\n",
       "                          17     0.571429  0.428571  0.0\n",
       "\n",
       "[150 rows x 3 columns]"
      ],
      "text/html": "<div>\n<style scoped>\n    .dataframe tbody tr th:only-of-type {\n        vertical-align: middle;\n    }\n\n    .dataframe tbody tr th {\n        vertical-align: top;\n    }\n\n    .dataframe thead th {\n        text-align: right;\n    }\n</style>\n<table border=\"1\" class=\"dataframe\">\n  <thead>\n    <tr style=\"text-align: right;\">\n      <th></th>\n      <th>ypredict</th>\n      <th>0</th>\n      <th>1</th>\n      <th>2</th>\n    </tr>\n    <tr>\n      <th>video_name</th>\n      <th>diapo</th>\n      <th></th>\n      <th></th>\n      <th></th>\n    </tr>\n  </thead>\n  <tbody>\n    <tr>\n      <th rowspan=\"5\" valign=\"top\">Test_pour_AFPA</th>\n      <th>8</th>\n      <td>0.000000</td>\n      <td>1.000000</td>\n      <td>0.0</td>\n    </tr>\n    <tr>\n      <th>9</th>\n      <td>0.050000</td>\n      <td>0.950000</td>\n      <td>0.0</td>\n    </tr>\n    <tr>\n      <th>10</th>\n      <td>0.000000</td>\n      <td>1.000000</td>\n      <td>0.0</td>\n    </tr>\n    <tr>\n      <th>11</th>\n      <td>0.000000</td>\n      <td>1.000000</td>\n      <td>0.0</td>\n    </tr>\n    <tr>\n      <th>17</th>\n      <td>0.000000</td>\n      <td>1.000000</td>\n      <td>0.0</td>\n    </tr>\n    <tr>\n      <th>...</th>\n      <th>...</th>\n      <td>...</td>\n      <td>...</td>\n      <td>...</td>\n    </tr>\n    <tr>\n      <th rowspan=\"5\" valign=\"top\">WIN_20210417_14_53_12_Pro</th>\n      <th>8</th>\n      <td>0.909091</td>\n      <td>0.090909</td>\n      <td>0.0</td>\n    </tr>\n    <tr>\n      <th>9</th>\n      <td>0.857143</td>\n      <td>0.142857</td>\n      <td>0.0</td>\n    </tr>\n    <tr>\n      <th>10</th>\n      <td>0.714286</td>\n      <td>0.285714</td>\n      <td>0.0</td>\n    </tr>\n    <tr>\n      <th>11</th>\n      <td>0.800000</td>\n      <td>0.200000</td>\n      <td>0.0</td>\n    </tr>\n    <tr>\n      <th>17</th>\n      <td>0.571429</td>\n      <td>0.428571</td>\n      <td>0.0</td>\n    </tr>\n  </tbody>\n</table>\n<p>150 rows × 3 columns</p>\n</div>"
     },
     "metadata": {},
     "execution_count": 139
    }
   ],
   "source": [
    "X = df_ypredict.pivot_table(values='frameTimeWindow', columns='ypredict', index=['video_name','diapo'], aggfunc='count', fill_value=0)\n",
    "X_sum = X.sum(axis=1).values.copy()\n",
    "for col_number in range(len(X.columns)):\n",
    "    X.iloc[:,col_number] = X.iloc[:,col_number] / X_sum\n",
    "X\n",
    " "
   ]
  },
  {
   "cell_type": "code",
   "execution_count": 141,
   "metadata": {},
   "outputs": [
    {
     "output_type": "execute_result",
     "data": {
      "text/plain": [
       "                    video_name  diapo  stress\n",
       "0               Test_pour_AFPA      1       1\n",
       "1               Test_pour_AFPA      8       1\n",
       "2               Test_pour_AFPA      9       0\n",
       "3               Test_pour_AFPA     10       0\n",
       "4               Test_pour_AFPA     11       0\n",
       "..                         ...    ...     ...\n",
       "235  WIN_20210417_14_53_12_Pro     10       0\n",
       "236  WIN_20210417_14_53_12_Pro     11       0\n",
       "237  WIN_20210417_14_53_12_Pro     12       0\n",
       "238  WIN_20210417_14_53_12_Pro     17       1\n",
       "239  WIN_20210417_14_53_12_Pro     18       1\n",
       "\n",
       "[240 rows x 3 columns]"
      ],
      "text/html": "<div>\n<style scoped>\n    .dataframe tbody tr th:only-of-type {\n        vertical-align: middle;\n    }\n\n    .dataframe tbody tr th {\n        vertical-align: top;\n    }\n\n    .dataframe thead th {\n        text-align: right;\n    }\n</style>\n<table border=\"1\" class=\"dataframe\">\n  <thead>\n    <tr style=\"text-align: right;\">\n      <th></th>\n      <th>video_name</th>\n      <th>diapo</th>\n      <th>stress</th>\n    </tr>\n  </thead>\n  <tbody>\n    <tr>\n      <th>0</th>\n      <td>Test_pour_AFPA</td>\n      <td>1</td>\n      <td>1</td>\n    </tr>\n    <tr>\n      <th>1</th>\n      <td>Test_pour_AFPA</td>\n      <td>8</td>\n      <td>1</td>\n    </tr>\n    <tr>\n      <th>2</th>\n      <td>Test_pour_AFPA</td>\n      <td>9</td>\n      <td>0</td>\n    </tr>\n    <tr>\n      <th>3</th>\n      <td>Test_pour_AFPA</td>\n      <td>10</td>\n      <td>0</td>\n    </tr>\n    <tr>\n      <th>4</th>\n      <td>Test_pour_AFPA</td>\n      <td>11</td>\n      <td>0</td>\n    </tr>\n    <tr>\n      <th>...</th>\n      <td>...</td>\n      <td>...</td>\n      <td>...</td>\n    </tr>\n    <tr>\n      <th>235</th>\n      <td>WIN_20210417_14_53_12_Pro</td>\n      <td>10</td>\n      <td>0</td>\n    </tr>\n    <tr>\n      <th>236</th>\n      <td>WIN_20210417_14_53_12_Pro</td>\n      <td>11</td>\n      <td>0</td>\n    </tr>\n    <tr>\n      <th>237</th>\n      <td>WIN_20210417_14_53_12_Pro</td>\n      <td>12</td>\n      <td>0</td>\n    </tr>\n    <tr>\n      <th>238</th>\n      <td>WIN_20210417_14_53_12_Pro</td>\n      <td>17</td>\n      <td>1</td>\n    </tr>\n    <tr>\n      <th>239</th>\n      <td>WIN_20210417_14_53_12_Pro</td>\n      <td>18</td>\n      <td>1</td>\n    </tr>\n  </tbody>\n</table>\n<p>240 rows × 3 columns</p>\n</div>"
     },
     "metadata": {},
     "execution_count": 141
    }
   ],
   "source": [
    "df_annotations_stress = pd.read_csv('annotations.csv')\n",
    "df_annotations_stress = df_annotations_stress.drop(df_annotations_stress.columns[-1],axis=1).set_index('video_name').stack()\n",
    "df_annotations_stress = pd.DataFrame(df_annotations_stress).reset_index()\n",
    "df_annotations_stress.columns = ['video_name','diapo','stress']\n",
    "#df_annotations_stress = df_annotations_stress.set_index(['video_name','diapo'])\n",
    "df_annotations_stress['diapo'] = df_annotations_stress['diapo'].astype(int)\n",
    "df_annotations_stress['stress'] = df_annotations_stress['stress'].astype(int)\n",
    "df_annotations_stress"
   ]
  },
  {
   "cell_type": "code",
   "execution_count": 142,
   "metadata": {},
   "outputs": [],
   "source": [
    "Xy = X.merge(df_annotations_stress, how='inner', on=['video_name','diapo'])\n",
    "X = Xy.iloc[:,:-1].set_index(['video_name','diapo'])\n",
    "y = Xy.iloc[:,-1]"
   ]
  },
  {
   "cell_type": "code",
   "execution_count": 143,
   "metadata": {},
   "outputs": [
    {
     "output_type": "execute_result",
     "data": {
      "text/plain": [
       "                                        0         1    2\n",
       "video_name                diapo                         \n",
       "Test_pour_AFPA            8      0.000000  1.000000  0.0\n",
       "                          9      0.050000  0.950000  0.0\n",
       "                          10     0.000000  1.000000  0.0\n",
       "                          11     0.000000  1.000000  0.0\n",
       "                          17     0.000000  1.000000  0.0\n",
       "...                                   ...       ...  ...\n",
       "WIN_20210417_14_53_12_Pro 8      0.909091  0.090909  0.0\n",
       "                          9      0.857143  0.142857  0.0\n",
       "                          10     0.714286  0.285714  0.0\n",
       "                          11     0.800000  0.200000  0.0\n",
       "                          17     0.571429  0.428571  0.0\n",
       "\n",
       "[150 rows x 3 columns]"
      ],
      "text/html": "<div>\n<style scoped>\n    .dataframe tbody tr th:only-of-type {\n        vertical-align: middle;\n    }\n\n    .dataframe tbody tr th {\n        vertical-align: top;\n    }\n\n    .dataframe thead th {\n        text-align: right;\n    }\n</style>\n<table border=\"1\" class=\"dataframe\">\n  <thead>\n    <tr style=\"text-align: right;\">\n      <th></th>\n      <th></th>\n      <th>0</th>\n      <th>1</th>\n      <th>2</th>\n    </tr>\n    <tr>\n      <th>video_name</th>\n      <th>diapo</th>\n      <th></th>\n      <th></th>\n      <th></th>\n    </tr>\n  </thead>\n  <tbody>\n    <tr>\n      <th rowspan=\"5\" valign=\"top\">Test_pour_AFPA</th>\n      <th>8</th>\n      <td>0.000000</td>\n      <td>1.000000</td>\n      <td>0.0</td>\n    </tr>\n    <tr>\n      <th>9</th>\n      <td>0.050000</td>\n      <td>0.950000</td>\n      <td>0.0</td>\n    </tr>\n    <tr>\n      <th>10</th>\n      <td>0.000000</td>\n      <td>1.000000</td>\n      <td>0.0</td>\n    </tr>\n    <tr>\n      <th>11</th>\n      <td>0.000000</td>\n      <td>1.000000</td>\n      <td>0.0</td>\n    </tr>\n    <tr>\n      <th>17</th>\n      <td>0.000000</td>\n      <td>1.000000</td>\n      <td>0.0</td>\n    </tr>\n    <tr>\n      <th>...</th>\n      <th>...</th>\n      <td>...</td>\n      <td>...</td>\n      <td>...</td>\n    </tr>\n    <tr>\n      <th rowspan=\"5\" valign=\"top\">WIN_20210417_14_53_12_Pro</th>\n      <th>8</th>\n      <td>0.909091</td>\n      <td>0.090909</td>\n      <td>0.0</td>\n    </tr>\n    <tr>\n      <th>9</th>\n      <td>0.857143</td>\n      <td>0.142857</td>\n      <td>0.0</td>\n    </tr>\n    <tr>\n      <th>10</th>\n      <td>0.714286</td>\n      <td>0.285714</td>\n      <td>0.0</td>\n    </tr>\n    <tr>\n      <th>11</th>\n      <td>0.800000</td>\n      <td>0.200000</td>\n      <td>0.0</td>\n    </tr>\n    <tr>\n      <th>17</th>\n      <td>0.571429</td>\n      <td>0.428571</td>\n      <td>0.0</td>\n    </tr>\n  </tbody>\n</table>\n<p>150 rows × 3 columns</p>\n</div>"
     },
     "metadata": {},
     "execution_count": 143
    }
   ],
   "source": [
    "X"
   ]
  },
  {
   "cell_type": "code",
   "execution_count": 144,
   "metadata": {},
   "outputs": [],
   "source": [
    "from sklearn.linear_model import LogisticRegression\n",
    "from sklearn.neighbors import KNeighborsClassifier\n",
    "from sklearn.ensemble import RandomForestClassifier\n",
    "from sklearn.model_selection import LeaveOneGroupOut\n",
    "from sklearn.decomposition import PCA\n",
    "from sklearn.pipeline import Pipeline\n",
    "\n",
    "pca = PCA()\n",
    "pipe = Pipeline(steps=[('pca', pca), ('logistic', LogisticRegression(multi_class='multinomial', fit_intercept=True, random_state=42))])\n",
    "\n",
    "models_list = [\n",
    "                LogisticRegression(multi_class='multinomial', fit_intercept=True, random_state=42),\n",
    "                Pipeline(steps=[('pca', pca), ('logistic', LogisticRegression(multi_class='multinomial', fit_intercept=True))]),\n",
    "                KNeighborsClassifier(),\n",
    "                Pipeline(steps=[('pca', pca), ('knn', KNeighborsClassifier())]),\n",
    "                RandomForestClassifier(random_state = 42, n_jobs=-1)\n",
    "                ]\n",
    "\n",
    "parameters_list = [\n",
    "                    {'C': [0.01, 0.05, 0.1, 0.5, 1, 2, 3, 4 , 5, 10], 'class_weight' : [None, 'balanced']},\n",
    "                    {'pca__n_components': [1, 2, 3, 4],\n",
    "                        'logistic__C': [0.01, 0.05, 0.1, 0.5, 1, 2, 3, 4 , 5, 10], 'logistic__class_weight' : [None, 'balanced']},\n",
    "                    {'n_neighbors': [4, 5, 6, 7, 8, 9, 10, 11, 12,  15, 20], 'weights' : ['uniform', 'distance'], 'p': [1, 2]},\n",
    "                    {'pca__n_components': [1, 2, 3, 4],\n",
    "                        'knn__n_neighbors': [4, 5, 6, 7, 8, 9, 10, 11, 12,  15, 20], 'knn__weights' : ['uniform', 'distance'],                              'knn__p': [1, 2]},\n",
    "                    {'n_estimators': [50, 100, 150, 200], 'max_depth':[3, 4, 5, 6, 10, 15, 20], 'class_weight':[None,'balanced']}\n",
    "                    ]\n",
    "\n",
    "groups = X.reset_index()['video_name']\n",
    "loo = LeaveOneGroupOut()\n",
    "cv_loo = loo.split(X, y, groups)"
   ]
  },
  {
   "cell_type": "code",
   "execution_count": 145,
   "metadata": {},
   "outputs": [
    {
     "output_type": "stream",
     "name": "stdout",
     "text": [
      "Fitting 30 folds for each of 20 candidates, totalling 600 fits\n",
      "[Parallel(n_jobs=-1)]: Using backend LokyBackend with 8 concurrent workers.\n",
      "[Parallel(n_jobs=-1)]: Done  56 tasks      | elapsed:    0.4s\n",
      "[Parallel(n_jobs=-1)]: Done 600 out of 600 | elapsed:    3.0s finished\n",
      "[Parallel(n_jobs=-1)]: Using backend LokyBackend with 8 concurrent workers.\n",
      "Best estimator LogisticRegression(C=4, multi_class='multinomial', random_state=42)\n",
      "Best results 0.4264285714285713\n",
      "Best params {'C': 4, 'class_weight': None}\n",
      "accuracy (mean, std) 0.46 0.31474857690967667\n",
      "f1 (mean, std) 0.4264285714285713 0.3418098440854673\n",
      "balanced accuracy (mean, std) 0.4869444444444444 0.2804484118842449\n",
      "precision (mean, std) 0.4814444444444445 0.4037295421564745\n",
      "recall (mean, std) 0.46 0.31474857690967667\n",
      "\n",
      "Fitting 30 folds for each of 80 candidates, totalling 2400 fits\n",
      "[Parallel(n_jobs=-1)]: Done  56 tasks      | elapsed:    0.4s\n",
      "[Parallel(n_jobs=-1)]: Done 2160 tasks      | elapsed:    7.3s\n",
      "[Parallel(n_jobs=-1)]: Done 2400 out of 2400 | elapsed:    8.0s finished\n",
      "[Parallel(n_jobs=-1)]: Using backend LokyBackend with 8 concurrent workers.\n",
      "Best estimator Pipeline(steps=[('pca', PCA(n_components=1)),\n",
      "                ('logistic',\n",
      "                 LogisticRegression(C=10, multi_class='multinomial'))])\n",
      "Best results 0.4508994708994708\n",
      "Best params {'logistic__C': 10, 'logistic__class_weight': None, 'pca__n_components': 1}\n",
      "accuracy (mean, std) 0.49333333333333335 0.32550814975289877\n",
      "f1 (mean, std) 0.4508994708994708 0.35314599095403265\n",
      "balanced accuracy (mean, std) 0.5127777777777778 0.2816102288405986\n",
      "precision (mean, std) 0.4894444444444445 0.4044136893068352\n",
      "recall (mean, std) 0.49333333333333335 0.32550814975289877\n",
      "\n",
      "Fitting 30 folds for each of 44 candidates, totalling 1320 fits\n",
      "[Parallel(n_jobs=-1)]: Done  56 tasks      | elapsed:    0.2s\n",
      "[Parallel(n_jobs=-1)]: Done 1320 out of 1320 | elapsed:    3.2s finished\n",
      "[Parallel(n_jobs=-1)]: Using backend LokyBackend with 8 concurrent workers.\n",
      "Best estimator KNeighborsClassifier(n_neighbors=12, p=1)\n",
      "Best results 0.5264550264550265\n",
      "Best params {'n_neighbors': 12, 'p': 1, 'weights': 'uniform'}\n",
      "accuracy (mean, std) 0.5266666666666667 0.255516905289824\n",
      "f1 (mean, std) 0.5264550264550265 0.27505966685389915\n",
      "balanced accuracy (mean, std) 0.5118518518518518 0.26008558789665776\n",
      "precision (mean, std) 0.6271111111111112 0.33481308586902003\n",
      "recall (mean, std) 0.5266666666666667 0.255516905289824\n",
      "\n",
      "Fitting 30 folds for each of 176 candidates, totalling 5280 fits\n",
      "[Parallel(n_jobs=-1)]: Done  56 tasks      | elapsed:    0.3s\n",
      "[Parallel(n_jobs=-1)]: Done 2160 tasks      | elapsed:    5.3s\n",
      "[Parallel(n_jobs=-1)]: Done 5280 out of 5280 | elapsed:   12.4s finished\n",
      "[Parallel(n_jobs=-1)]: Using backend LokyBackend with 8 concurrent workers.\n",
      "Best estimator Pipeline(steps=[('pca', PCA(n_components=3)),\n",
      "                ('knn', KNeighborsClassifier(n_neighbors=15, p=1))])\n",
      "Best results 0.5453703703703704\n",
      "Best params {'knn__n_neighbors': 15, 'knn__p': 1, 'knn__weights': 'uniform', 'pca__n_components': 3}\n",
      "accuracy (mean, std) 0.5333333333333333 0.30258148581093913\n",
      "f1 (mean, std) 0.5453703703703704 0.31679454548429153\n",
      "balanced accuracy (mean, std) 0.5214814814814814 0.31570185488795943\n",
      "precision (mean, std) 0.6301111111111111 0.3579618056734372\n",
      "recall (mean, std) 0.5333333333333333 0.30258148581093913\n",
      "\n",
      "Fitting 30 folds for each of 56 candidates, totalling 1680 fits\n",
      "[Parallel(n_jobs=-1)]: Done  34 tasks      | elapsed:    1.4s\n",
      "[Parallel(n_jobs=-1)]: Done 184 tasks      | elapsed:   10.5s\n",
      "[Parallel(n_jobs=-1)]: Done 434 tasks      | elapsed:   25.7s\n",
      "[Parallel(n_jobs=-1)]: Done 784 tasks      | elapsed:   47.1s\n",
      "[Parallel(n_jobs=-1)]: Done 1234 tasks      | elapsed:  1.2min\n",
      "[Parallel(n_jobs=-1)]: Done 1680 out of 1680 | elapsed:  1.7min finished\n",
      "Best estimator RandomForestClassifier(max_depth=4, n_estimators=50, n_jobs=-1, random_state=42)\n",
      "Best results 0.5214285714285715\n",
      "Best params {'class_weight': None, 'max_depth': 4, 'n_estimators': 50}\n",
      "accuracy (mean, std) 0.5133333333333333 0.2513076909996102\n",
      "f1 (mean, std) 0.5214285714285715 0.2765137529078023\n",
      "balanced accuracy (mean, std) 0.49296296296296294 0.25710153689612286\n",
      "precision (mean, std) 0.6168888888888889 0.3444694614570981\n",
      "recall (mean, std) 0.5133333333333333 0.2513076909996102\n",
      "\n",
      "f1_score (weighted) 0.49946164743978955\n",
      "accuracy 0.5333333333333333\n"
     ]
    }
   ],
   "source": [
    "best_result, y_predict,y_predict_proba, result_list = runGridSearchClassifiers(X, y, cv_loo, models_list, parameters_list, \n",
    "                                                                output_predict=True, n_jobs=-1, verbose=True)"
   ]
  },
  {
   "cell_type": "code",
   "execution_count": 146,
   "metadata": {},
   "outputs": [
    {
     "output_type": "execute_result",
     "data": {
      "text/plain": [
       "{'best_estimator': Pipeline(steps=[('pca', PCA(n_components=3)),\n",
       "                 ('knn', KNeighborsClassifier(n_neighbors=15, p=1))]),\n",
       " 'best_score': 0.5453703703703704,\n",
       " 'best_params': {'knn__n_neighbors': 15,\n",
       "  'knn__p': 1,\n",
       "  'knn__weights': 'uniform',\n",
       "  'pca__n_components': 3},\n",
       " 'mean_test_f1_score': 0.5453703703703704,\n",
       " 'std_test_f1_score': 0.31679454548429153,\n",
       " 'mean_test_accuracy_score': 0.5333333333333333,\n",
       " 'std_test_accuracy_score': 0.30258148581093913,\n",
       " 'mean_test_balanced_accuracy_score': 0.5214814814814814,\n",
       " 'std_test_balanced_accuracy_score': 0.31570185488795943,\n",
       " 'mean_test_precision': 0.6301111111111111,\n",
       " 'std_test_precision': 0.3579618056734372,\n",
       " 'mean_test_recall': 0.5333333333333333,\n",
       " 'std_test_recall': 0.30258148581093913}"
      ]
     },
     "metadata": {},
     "execution_count": 146
    }
   ],
   "source": [
    "best_result"
   ]
  },
  {
   "cell_type": "code",
   "execution_count": 136,
   "metadata": {},
   "outputs": [],
   "source": [
    "# Saving predictions\n",
    "df_ypredict = pd.concat([X.reset_index()[['video_name','diapo']],\n",
    "                        pd.DataFrame(y_predict, columns=['ypredict'])],axis=1)\n",
    "df_ypredict.to_csv('ypredict_' + features + '_tw5_diapo' + diapo_selection + '.csv')"
   ]
  },
  {
   "cell_type": "code",
   "execution_count": 137,
   "metadata": {},
   "outputs": [],
   "source": [
    "# Saving proba\n",
    "df_ypredict = pd.concat([X.reset_index()[['video_name','diapo']],\n",
    "                        pd.DataFrame(y_predict_proba, columns=['stress_diapo_predict_0', 'stress_diapo_predict_1','stress_diapo_predict_2', 'stress_diapo_predict_3' ])],axis=1)\n",
    "df_ypredict.to_csv('ypredict_' + features + '_tw5_diapo_proba' + diapo_selection + '.csv') "
   ]
  },
  {
   "cell_type": "markdown",
   "metadata": {},
   "source": [
    "#### En aggrégeant les prédicitions des diapos"
   ]
  },
  {
   "cell_type": "code",
   "execution_count": 101,
   "metadata": {},
   "outputs": [],
   "source": [
    "# Autre méthode\n",
    "X = df_ypredict.groupby(['video_name','diapo']).agg({'ypredict':['mean','min','max', 'median', 'std', percentil25, percentil75, kurtosis, skew]})"
   ]
  },
  {
   "cell_type": "code",
   "execution_count": 102,
   "metadata": {},
   "outputs": [
    {
     "output_type": "execute_result",
     "data": {
      "text/plain": [
       "                                 ypredict                           \\\n",
       "                                     mean min max median       std   \n",
       "video_name                diapo                                      \n",
       "Test_pour_AFPA            8      1.000000   1   1    1.0  0.000000   \n",
       "                          9      0.950000   0   1    1.0  0.223607   \n",
       "                          10     1.000000   1   1    1.0  0.000000   \n",
       "                          11     1.000000   1   1    1.0  0.000000   \n",
       "                          17     1.000000   1   1    1.0  0.000000   \n",
       "...                                   ...  ..  ..    ...       ...   \n",
       "WIN_20210417_14_53_12_Pro 8      0.090909   0   1    0.0  0.301511   \n",
       "                          9      0.142857   0   1    0.0  0.358569   \n",
       "                          10     0.285714   0   1    0.0  0.468807   \n",
       "                          11     0.200000   0   1    0.0  0.410391   \n",
       "                          17     0.428571   0   1    0.0  0.534522   \n",
       "\n",
       "                                                                              \n",
       "                                percentil25 percentil75   kurtosis      skew  \n",
       "video_name                diapo                                               \n",
       "Test_pour_AFPA            8             1.0        1.00  -3.000000  0.000000  \n",
       "                          9             1.0        1.00  15.052632 -4.129483  \n",
       "                          10            1.0        1.00  -3.000000  0.000000  \n",
       "                          11            1.0        1.00  -3.000000  0.000000  \n",
       "                          17            1.0        1.00  -3.000000  0.000000  \n",
       "...                                     ...         ...        ...       ...  \n",
       "WIN_20210417_14_53_12_Pro 8             0.0        0.00   6.100000  2.846050  \n",
       "                          9             0.0        0.00   2.166667  2.041241  \n",
       "                          10            0.0        0.75  -1.100000  0.948683  \n",
       "                          11            0.0        0.00   0.250000  1.500000  \n",
       "                          17            0.0        1.00  -1.916667  0.288675  \n",
       "\n",
       "[150 rows x 9 columns]"
      ],
      "text/html": "<div>\n<style scoped>\n    .dataframe tbody tr th:only-of-type {\n        vertical-align: middle;\n    }\n\n    .dataframe tbody tr th {\n        vertical-align: top;\n    }\n\n    .dataframe thead tr th {\n        text-align: left;\n    }\n\n    .dataframe thead tr:last-of-type th {\n        text-align: right;\n    }\n</style>\n<table border=\"1\" class=\"dataframe\">\n  <thead>\n    <tr>\n      <th></th>\n      <th></th>\n      <th colspan=\"9\" halign=\"left\">ypredict</th>\n    </tr>\n    <tr>\n      <th></th>\n      <th></th>\n      <th>mean</th>\n      <th>min</th>\n      <th>max</th>\n      <th>median</th>\n      <th>std</th>\n      <th>percentil25</th>\n      <th>percentil75</th>\n      <th>kurtosis</th>\n      <th>skew</th>\n    </tr>\n    <tr>\n      <th>video_name</th>\n      <th>diapo</th>\n      <th></th>\n      <th></th>\n      <th></th>\n      <th></th>\n      <th></th>\n      <th></th>\n      <th></th>\n      <th></th>\n      <th></th>\n    </tr>\n  </thead>\n  <tbody>\n    <tr>\n      <th rowspan=\"5\" valign=\"top\">Test_pour_AFPA</th>\n      <th>8</th>\n      <td>1.000000</td>\n      <td>1</td>\n      <td>1</td>\n      <td>1.0</td>\n      <td>0.000000</td>\n      <td>1.0</td>\n      <td>1.00</td>\n      <td>-3.000000</td>\n      <td>0.000000</td>\n    </tr>\n    <tr>\n      <th>9</th>\n      <td>0.950000</td>\n      <td>0</td>\n      <td>1</td>\n      <td>1.0</td>\n      <td>0.223607</td>\n      <td>1.0</td>\n      <td>1.00</td>\n      <td>15.052632</td>\n      <td>-4.129483</td>\n    </tr>\n    <tr>\n      <th>10</th>\n      <td>1.000000</td>\n      <td>1</td>\n      <td>1</td>\n      <td>1.0</td>\n      <td>0.000000</td>\n      <td>1.0</td>\n      <td>1.00</td>\n      <td>-3.000000</td>\n      <td>0.000000</td>\n    </tr>\n    <tr>\n      <th>11</th>\n      <td>1.000000</td>\n      <td>1</td>\n      <td>1</td>\n      <td>1.0</td>\n      <td>0.000000</td>\n      <td>1.0</td>\n      <td>1.00</td>\n      <td>-3.000000</td>\n      <td>0.000000</td>\n    </tr>\n    <tr>\n      <th>17</th>\n      <td>1.000000</td>\n      <td>1</td>\n      <td>1</td>\n      <td>1.0</td>\n      <td>0.000000</td>\n      <td>1.0</td>\n      <td>1.00</td>\n      <td>-3.000000</td>\n      <td>0.000000</td>\n    </tr>\n    <tr>\n      <th>...</th>\n      <th>...</th>\n      <td>...</td>\n      <td>...</td>\n      <td>...</td>\n      <td>...</td>\n      <td>...</td>\n      <td>...</td>\n      <td>...</td>\n      <td>...</td>\n      <td>...</td>\n    </tr>\n    <tr>\n      <th rowspan=\"5\" valign=\"top\">WIN_20210417_14_53_12_Pro</th>\n      <th>8</th>\n      <td>0.090909</td>\n      <td>0</td>\n      <td>1</td>\n      <td>0.0</td>\n      <td>0.301511</td>\n      <td>0.0</td>\n      <td>0.00</td>\n      <td>6.100000</td>\n      <td>2.846050</td>\n    </tr>\n    <tr>\n      <th>9</th>\n      <td>0.142857</td>\n      <td>0</td>\n      <td>1</td>\n      <td>0.0</td>\n      <td>0.358569</td>\n      <td>0.0</td>\n      <td>0.00</td>\n      <td>2.166667</td>\n      <td>2.041241</td>\n    </tr>\n    <tr>\n      <th>10</th>\n      <td>0.285714</td>\n      <td>0</td>\n      <td>1</td>\n      <td>0.0</td>\n      <td>0.468807</td>\n      <td>0.0</td>\n      <td>0.75</td>\n      <td>-1.100000</td>\n      <td>0.948683</td>\n    </tr>\n    <tr>\n      <th>11</th>\n      <td>0.200000</td>\n      <td>0</td>\n      <td>1</td>\n      <td>0.0</td>\n      <td>0.410391</td>\n      <td>0.0</td>\n      <td>0.00</td>\n      <td>0.250000</td>\n      <td>1.500000</td>\n    </tr>\n    <tr>\n      <th>17</th>\n      <td>0.428571</td>\n      <td>0</td>\n      <td>1</td>\n      <td>0.0</td>\n      <td>0.534522</td>\n      <td>0.0</td>\n      <td>1.00</td>\n      <td>-1.916667</td>\n      <td>0.288675</td>\n    </tr>\n  </tbody>\n</table>\n<p>150 rows × 9 columns</p>\n</div>"
     },
     "metadata": {},
     "execution_count": 102
    }
   ],
   "source": [
    "X"
   ]
  },
  {
   "cell_type": "code",
   "execution_count": 107,
   "metadata": {},
   "outputs": [],
   "source": [
    "Xy = X.merge(df_annotations_stress, how='inner', on=['video_name','diapo'])\n",
    "X = Xy.iloc[:,:-1].set_index(['video_name','diapo'])\n",
    "y = Xy.iloc[:,-1]"
   ]
  },
  {
   "cell_type": "code",
   "execution_count": 111,
   "metadata": {},
   "outputs": [],
   "source": [
    "groups = X.reset_index()['video_name']\n",
    "loo = LeaveOneGroupOut()\n",
    "cv_loo = loo.split(X, y, groups)"
   ]
  },
  {
   "cell_type": "code",
   "execution_count": 112,
   "metadata": {},
   "outputs": [
    {
     "output_type": "stream",
     "name": "stdout",
     "text": [
      "Fitting 30 folds for each of 20 candidates, totalling 600 fits\n",
      "[Parallel(n_jobs=-1)]: Using backend LokyBackend with 8 concurrent workers.\n",
      "[Parallel(n_jobs=-1)]: Done  34 tasks      | elapsed:    2.2s\n",
      "[Parallel(n_jobs=-1)]: Done 560 tasks      | elapsed:    7.6s\n",
      "[Parallel(n_jobs=-1)]: Done 600 out of 600 | elapsed:    7.9s finished\n",
      "[Parallel(n_jobs=-1)]: Using backend LokyBackend with 8 concurrent workers.\n",
      "Best estimator LogisticRegression(C=0.01, multi_class='multinomial', random_state=42)\n",
      "Best results 0.5155820105820106\n",
      "Best params {'C': 0.01, 'class_weight': None}\n",
      "accuracy (mean, std) 0.5133333333333333 0.28604583937233247\n",
      "f1 (mean, std) 0.5155820105820106 0.29546255643146463\n",
      "balanced accuracy (mean, std) 0.502962962962963 0.2901919803501358\n",
      "precision (mean, std) 0.6372222222222224 0.3567228235472272\n",
      "recall (mean, std) 0.5133333333333333 0.28604583937233247\n",
      "\n",
      "Fitting 30 folds for each of 80 candidates, totalling 2400 fits\n",
      "[Parallel(n_jobs=-1)]: Done  56 tasks      | elapsed:    0.5s\n",
      "[Parallel(n_jobs=-1)]: Done 1200 tasks      | elapsed:    7.3s\n",
      "[Parallel(n_jobs=-1)]: Done 2400 out of 2400 | elapsed:   16.2s finished\n",
      "[Parallel(n_jobs=-1)]: Using backend LokyBackend with 8 concurrent workers.\n",
      "Best estimator Pipeline(steps=[('pca', PCA(n_components=2)),\n",
      "                ('logistic',\n",
      "                 LogisticRegression(C=0.5, multi_class='multinomial'))])\n",
      "Best results 0.5328306878306878\n",
      "Best params {'logistic__C': 0.5, 'logistic__class_weight': None, 'pca__n_components': 2}\n",
      "accuracy (mean, std) 0.5399999999999999 0.2973213749463701\n",
      "f1 (mean, std) 0.5328306878306878 0.31099281598143175\n",
      "balanced accuracy (mean, std) 0.5296296296296297 0.28950729158224436\n",
      "precision (mean, std) 0.6267777777777778 0.3520453288715061\n",
      "recall (mean, std) 0.5399999999999999 0.2973213749463701\n",
      "\n",
      "Fitting 30 folds for each of 44 candidates, totalling 1320 fits\n",
      "[Parallel(n_jobs=-1)]: Done  56 tasks      | elapsed:    0.3s\n",
      "[Parallel(n_jobs=-1)]: Done 1200 tasks      | elapsed:    3.4s\n",
      "[Parallel(n_jobs=-1)]: Done 1320 out of 1320 | elapsed:    3.7s finished\n",
      "[Parallel(n_jobs=-1)]: Using backend LokyBackend with 8 concurrent workers.\n",
      "Best estimator KNeighborsClassifier(n_neighbors=15, p=1)\n",
      "Best results 0.5264814814814814\n",
      "Best params {'n_neighbors': 15, 'p': 1, 'weights': 'uniform'}\n",
      "accuracy (mean, std) 0.52 0.25612496949731395\n",
      "f1 (mean, std) 0.5264814814814814 0.2721144127096586\n",
      "balanced accuracy (mean, std) 0.507962962962963 0.2469898339044063\n",
      "precision (mean, std) 0.6442222222222223 0.32433628334085296\n",
      "recall (mean, std) 0.52 0.25612496949731395\n",
      "\n",
      "Fitting 30 folds for each of 176 candidates, totalling 5280 fits\n",
      "[Parallel(n_jobs=-1)]: Done  56 tasks      | elapsed:    0.4s\n",
      "[Parallel(n_jobs=-1)]: Done 2160 tasks      | elapsed:    6.8s\n",
      "[Parallel(n_jobs=-1)]: Done 5280 out of 5280 | elapsed:   16.0s finished\n",
      "[Parallel(n_jobs=-1)]: Using backend LokyBackend with 8 concurrent workers.\n",
      "Best estimator Pipeline(steps=[('pca', PCA(n_components=3)),\n",
      "                ('knn', KNeighborsClassifier(n_neighbors=15, p=1))])\n",
      "Best results 0.5205026455026455\n",
      "Best params {'knn__n_neighbors': 15, 'knn__p': 1, 'knn__weights': 'uniform', 'pca__n_components': 3}\n",
      "accuracy (mean, std) 0.5266666666666667 0.27071920672329275\n",
      "f1 (mean, std) 0.5205026455026455 0.29050402354100646\n",
      "balanced accuracy (mean, std) 0.5062962962962962 0.263602118385946\n",
      "precision (mean, std) 0.6078888888888889 0.3468028400641252\n",
      "recall (mean, std) 0.5266666666666667 0.27071920672329275\n",
      "\n",
      "Fitting 30 folds for each of 56 candidates, totalling 1680 fits\n",
      "[Parallel(n_jobs=-1)]: Done  34 tasks      | elapsed:    1.4s\n",
      "[Parallel(n_jobs=-1)]: Done 184 tasks      | elapsed:   10.9s\n",
      "[Parallel(n_jobs=-1)]: Done 434 tasks      | elapsed:   26.3s\n",
      "[Parallel(n_jobs=-1)]: Done 784 tasks      | elapsed:   48.1s\n",
      "[Parallel(n_jobs=-1)]: Done 1234 tasks      | elapsed:  1.3min\n",
      "[Parallel(n_jobs=-1)]: Done 1680 out of 1680 | elapsed:  1.8min finished\n",
      "Best estimator RandomForestClassifier(max_depth=4, n_estimators=50, n_jobs=-1, random_state=42)\n",
      "Best results 0.5087037037037037\n",
      "Best params {'class_weight': None, 'max_depth': 4, 'n_estimators': 50}\n",
      "accuracy (mean, std) 0.5066666666666667 0.26195843605851327\n",
      "f1 (mean, std) 0.5087037037037037 0.2949477638388228\n",
      "balanced accuracy (mean, std) 0.48379629629629634 0.26392990259579335\n",
      "precision (mean, std) 0.5754444444444445 0.35214736323320495\n",
      "recall (mean, std) 0.5066666666666667 0.26195843605851327\n",
      "\n",
      "f1_score (weighted) 0.4921885521885522\n",
      "accuracy 0.54\n"
     ]
    },
    {
     "output_type": "execute_result",
     "data": {
      "text/plain": [
       "{'best_estimator': Pipeline(steps=[('pca', PCA(n_components=2)),\n",
       "                 ('logistic',\n",
       "                  LogisticRegression(C=0.5, multi_class='multinomial'))]),\n",
       " 'best_score': 0.5328306878306878,\n",
       " 'best_params': {'logistic__C': 0.5,\n",
       "  'logistic__class_weight': None,\n",
       "  'pca__n_components': 2},\n",
       " 'mean_test_f1_score': 0.5328306878306878,\n",
       " 'std_test_f1_score': 0.31099281598143175,\n",
       " 'mean_test_accuracy_score': 0.5399999999999999,\n",
       " 'std_test_accuracy_score': 0.2973213749463701,\n",
       " 'mean_test_balanced_accuracy_score': 0.5296296296296297,\n",
       " 'std_test_balanced_accuracy_score': 0.28950729158224436,\n",
       " 'mean_test_precision': 0.6267777777777778,\n",
       " 'std_test_precision': 0.3520453288715061,\n",
       " 'mean_test_recall': 0.5399999999999999,\n",
       " 'std_test_recall': 0.2973213749463701}"
      ]
     },
     "metadata": {},
     "execution_count": 112
    }
   ],
   "source": [
    "best_result, y_predict, y_predict_proba,result_list = runGridSearchClassifiers(X, y, cv_loo, models_list, parameters_list, \n",
    "                                                                output_predict=True, n_jobs=-1, verbose=True)\n",
    "best_result"
   ]
  },
  {
   "cell_type": "code",
   "execution_count": 113,
   "metadata": {},
   "outputs": [
    {
     "output_type": "execute_result",
     "data": {
      "text/plain": [
       "{'best_estimator': Pipeline(steps=[('pca', PCA(n_components=2)),\n",
       "                 ('logistic',\n",
       "                  LogisticRegression(C=0.5, multi_class='multinomial'))]),\n",
       " 'best_score': 0.5328306878306878,\n",
       " 'best_params': {'logistic__C': 0.5,\n",
       "  'logistic__class_weight': None,\n",
       "  'pca__n_components': 2},\n",
       " 'mean_test_f1_score': 0.5328306878306878,\n",
       " 'std_test_f1_score': 0.31099281598143175,\n",
       " 'mean_test_accuracy_score': 0.5399999999999999,\n",
       " 'std_test_accuracy_score': 0.2973213749463701,\n",
       " 'mean_test_balanced_accuracy_score': 0.5296296296296297,\n",
       " 'std_test_balanced_accuracy_score': 0.28950729158224436,\n",
       " 'mean_test_precision': 0.6267777777777778,\n",
       " 'std_test_precision': 0.3520453288715061,\n",
       " 'mean_test_recall': 0.5399999999999999,\n",
       " 'std_test_recall': 0.2973213749463701}"
      ]
     },
     "metadata": {},
     "execution_count": 113
    }
   ],
   "source": [
    "best_result"
   ]
  },
  {
   "cell_type": "code",
   "execution_count": 114,
   "metadata": {},
   "outputs": [
    {
     "output_type": "execute_result",
     "data": {
      "text/plain": [
       "array([[56, 12,  0,  0],\n",
       "       [41, 25,  0,  0],\n",
       "       [11,  4,  0,  0],\n",
       "       [ 0,  1,  0,  0]])"
      ]
     },
     "metadata": {},
     "execution_count": 114
    }
   ],
   "source": [
    "from sklearn.metrics import confusion_matrix\n",
    "confusion_matrix(y, y_predict)"
   ]
  },
  {
   "cell_type": "code",
   "execution_count": 115,
   "metadata": {},
   "outputs": [],
   "source": [
    "# Saving predictions\n",
    "df_ypredict = pd.concat([X.reset_index()[['video_name','diapo']],\n",
    "                        pd.DataFrame(y_predict, columns=['ypredict'])],axis=1)\n",
    "df_ypredict.to_csv('ypredict_' + features + '_tw5_diapo' + diapo_selection + '.csv') "
   ]
  },
  {
   "cell_type": "code",
   "execution_count": 118,
   "metadata": {},
   "outputs": [],
   "source": [
    "# Saving proba\n",
    "df_ypredict = pd.concat([X.reset_index()[['video_name','diapo']],\n",
    "                        pd.DataFrame(y_predict_proba, columns=['stress_diapo_predict_0', 'stress_diapo_predict_1','stress_diapo_predict_2', 'stress_diapo_predict_3' ])],axis=1)\n",
    "df_ypredict.to_csv('ypredict_' + features + '_tw5_diapo_proba' + diapo_selection + '.csv') "
   ]
  },
  {
   "cell_type": "markdown",
   "metadata": {},
   "source": [
    "## Stress global"
   ]
  },
  {
   "cell_type": "markdown",
   "metadata": {},
   "source": [
    "### En utilisant le stress prédit des diapos"
   ]
  },
  {
   "cell_type": "code",
   "execution_count": 147,
   "metadata": {},
   "outputs": [],
   "source": [
    "df_ypredict = pd.read_csv('ypredict_' + features + '_tw5_diapo' + diapo_selection + '.csv')\n",
    "df_ypredict = df_ypredict.iloc[:,1:]\n",
    "df_ypredict.columns = ['video_name','diapo','ypredict']\n",
    "ypredict_stress_diapo = df_ypredict.pivot_table(values='ypredict', columns='diapo',index='video_name',aggfunc='mean')\n"
   ]
  },
  {
   "cell_type": "code",
   "execution_count": 148,
   "metadata": {},
   "outputs": [
    {
     "output_type": "execute_result",
     "data": {
      "text/plain": [
       "diapo                             8    9    10   11   17\n",
       "video_name                                              \n",
       "Test_pour_AFPA                   0.0  1.0  0.0  0.0  0.0\n",
       "Video_1                          0.0  0.0  0.0  0.0  1.0\n",
       "WIN_20210323_19_17_40_Pro        0.0  0.0  1.0  1.0  0.0\n",
       "WIN_20210329_10_16_02_Pro        0.0  1.0  1.0  0.0  0.0\n",
       "WIN_20210330_13_10_29_Pro        0.0  0.0  0.0  0.0  0.0\n",
       "WIN_20210331_21_22_52_Pro        1.0  1.0  0.0  0.0  1.0\n",
       "WIN_20210402_14_27_50_Pro        0.0  0.0  0.0  0.0  0.0\n",
       "WIN_20210402_19_04_53_Pro        1.0  1.0  1.0  0.0  0.0\n",
       "WIN_20210403_18_49_15_Pro        1.0  0.0  0.0  0.0  1.0\n",
       "WIN_20210404_10_58_27_Pro        1.0  1.0  1.0  1.0  1.0\n",
       "WIN_20210404_21_41_12_Pro        0.0  1.0  1.0  1.0  0.0\n",
       "WIN_20210405_15_09_16_Pro        0.0  1.0  1.0  0.0  1.0\n",
       "WIN_20210406_15_06_15_Pro        0.0  1.0  0.0  0.0  0.0\n",
       "WIN_20210406_18_35_52_Pro        1.0  0.0  0.0  0.0  0.0\n",
       "WIN_20210406_18_49_10_Pro        1.0  1.0  1.0  0.0  0.0\n",
       "WIN_20210406_21_05_52_Pro        0.0  0.0  0.0  0.0  0.0\n",
       "WIN_20210407_09_04_05_Pro        0.0  1.0  1.0  1.0  0.0\n",
       "WIN_20210407_14_54_56_Pro_edit2  0.0  0.0  0.0  0.0  0.0\n",
       "WIN_20210408_11_48_58_Pro        1.0  0.0  1.0  1.0  1.0\n",
       "WIN_20210408_14_00_44_Pro        0.0  0.0  0.0  0.0  1.0\n",
       "WIN_20210408_14_02_19_Pro        1.0  0.0  1.0  0.0  0.0\n",
       "WIN_20210408_14_11_32_Pro        0.0  0.0  0.0  0.0  0.0\n",
       "WIN_20210408_15_20_51_Pro        0.0  0.0  0.0  0.0  1.0\n",
       "WIN_20210408_16_04_32_Pro        1.0  1.0  1.0  1.0  1.0\n",
       "WIN_20210409_10_26_11_Pro        1.0  0.0  0.0  0.0  0.0\n",
       "WIN_20210413_15_38_01_Pro        0.0  0.0  1.0  1.0  1.0\n",
       "WIN_20210414_06_24_52_Pro        0.0  0.0  0.0  0.0  0.0\n",
       "WIN_20210415_15_41_24_Pro        0.0  1.0  1.0  0.0  0.0\n",
       "WIN_20210416_08_06_54_Pro        1.0  1.0  0.0  0.0  1.0\n",
       "WIN_20210417_14_53_12_Pro        1.0  0.0  0.0  0.0  0.0"
      ],
      "text/html": "<div>\n<style scoped>\n    .dataframe tbody tr th:only-of-type {\n        vertical-align: middle;\n    }\n\n    .dataframe tbody tr th {\n        vertical-align: top;\n    }\n\n    .dataframe thead th {\n        text-align: right;\n    }\n</style>\n<table border=\"1\" class=\"dataframe\">\n  <thead>\n    <tr style=\"text-align: right;\">\n      <th>diapo</th>\n      <th>8</th>\n      <th>9</th>\n      <th>10</th>\n      <th>11</th>\n      <th>17</th>\n    </tr>\n    <tr>\n      <th>video_name</th>\n      <th></th>\n      <th></th>\n      <th></th>\n      <th></th>\n      <th></th>\n    </tr>\n  </thead>\n  <tbody>\n    <tr>\n      <th>Test_pour_AFPA</th>\n      <td>0.0</td>\n      <td>1.0</td>\n      <td>0.0</td>\n      <td>0.0</td>\n      <td>0.0</td>\n    </tr>\n    <tr>\n      <th>Video_1</th>\n      <td>0.0</td>\n      <td>0.0</td>\n      <td>0.0</td>\n      <td>0.0</td>\n      <td>1.0</td>\n    </tr>\n    <tr>\n      <th>WIN_20210323_19_17_40_Pro</th>\n      <td>0.0</td>\n      <td>0.0</td>\n      <td>1.0</td>\n      <td>1.0</td>\n      <td>0.0</td>\n    </tr>\n    <tr>\n      <th>WIN_20210329_10_16_02_Pro</th>\n      <td>0.0</td>\n      <td>1.0</td>\n      <td>1.0</td>\n      <td>0.0</td>\n      <td>0.0</td>\n    </tr>\n    <tr>\n      <th>WIN_20210330_13_10_29_Pro</th>\n      <td>0.0</td>\n      <td>0.0</td>\n      <td>0.0</td>\n      <td>0.0</td>\n      <td>0.0</td>\n    </tr>\n    <tr>\n      <th>WIN_20210331_21_22_52_Pro</th>\n      <td>1.0</td>\n      <td>1.0</td>\n      <td>0.0</td>\n      <td>0.0</td>\n      <td>1.0</td>\n    </tr>\n    <tr>\n      <th>WIN_20210402_14_27_50_Pro</th>\n      <td>0.0</td>\n      <td>0.0</td>\n      <td>0.0</td>\n      <td>0.0</td>\n      <td>0.0</td>\n    </tr>\n    <tr>\n      <th>WIN_20210402_19_04_53_Pro</th>\n      <td>1.0</td>\n      <td>1.0</td>\n      <td>1.0</td>\n      <td>0.0</td>\n      <td>0.0</td>\n    </tr>\n    <tr>\n      <th>WIN_20210403_18_49_15_Pro</th>\n      <td>1.0</td>\n      <td>0.0</td>\n      <td>0.0</td>\n      <td>0.0</td>\n      <td>1.0</td>\n    </tr>\n    <tr>\n      <th>WIN_20210404_10_58_27_Pro</th>\n      <td>1.0</td>\n      <td>1.0</td>\n      <td>1.0</td>\n      <td>1.0</td>\n      <td>1.0</td>\n    </tr>\n    <tr>\n      <th>WIN_20210404_21_41_12_Pro</th>\n      <td>0.0</td>\n      <td>1.0</td>\n      <td>1.0</td>\n      <td>1.0</td>\n      <td>0.0</td>\n    </tr>\n    <tr>\n      <th>WIN_20210405_15_09_16_Pro</th>\n      <td>0.0</td>\n      <td>1.0</td>\n      <td>1.0</td>\n      <td>0.0</td>\n      <td>1.0</td>\n    </tr>\n    <tr>\n      <th>WIN_20210406_15_06_15_Pro</th>\n      <td>0.0</td>\n      <td>1.0</td>\n      <td>0.0</td>\n      <td>0.0</td>\n      <td>0.0</td>\n    </tr>\n    <tr>\n      <th>WIN_20210406_18_35_52_Pro</th>\n      <td>1.0</td>\n      <td>0.0</td>\n      <td>0.0</td>\n      <td>0.0</td>\n      <td>0.0</td>\n    </tr>\n    <tr>\n      <th>WIN_20210406_18_49_10_Pro</th>\n      <td>1.0</td>\n      <td>1.0</td>\n      <td>1.0</td>\n      <td>0.0</td>\n      <td>0.0</td>\n    </tr>\n    <tr>\n      <th>WIN_20210406_21_05_52_Pro</th>\n      <td>0.0</td>\n      <td>0.0</td>\n      <td>0.0</td>\n      <td>0.0</td>\n      <td>0.0</td>\n    </tr>\n    <tr>\n      <th>WIN_20210407_09_04_05_Pro</th>\n      <td>0.0</td>\n      <td>1.0</td>\n      <td>1.0</td>\n      <td>1.0</td>\n      <td>0.0</td>\n    </tr>\n    <tr>\n      <th>WIN_20210407_14_54_56_Pro_edit2</th>\n      <td>0.0</td>\n      <td>0.0</td>\n      <td>0.0</td>\n      <td>0.0</td>\n      <td>0.0</td>\n    </tr>\n    <tr>\n      <th>WIN_20210408_11_48_58_Pro</th>\n      <td>1.0</td>\n      <td>0.0</td>\n      <td>1.0</td>\n      <td>1.0</td>\n      <td>1.0</td>\n    </tr>\n    <tr>\n      <th>WIN_20210408_14_00_44_Pro</th>\n      <td>0.0</td>\n      <td>0.0</td>\n      <td>0.0</td>\n      <td>0.0</td>\n      <td>1.0</td>\n    </tr>\n    <tr>\n      <th>WIN_20210408_14_02_19_Pro</th>\n      <td>1.0</td>\n      <td>0.0</td>\n      <td>1.0</td>\n      <td>0.0</td>\n      <td>0.0</td>\n    </tr>\n    <tr>\n      <th>WIN_20210408_14_11_32_Pro</th>\n      <td>0.0</td>\n      <td>0.0</td>\n      <td>0.0</td>\n      <td>0.0</td>\n      <td>0.0</td>\n    </tr>\n    <tr>\n      <th>WIN_20210408_15_20_51_Pro</th>\n      <td>0.0</td>\n      <td>0.0</td>\n      <td>0.0</td>\n      <td>0.0</td>\n      <td>1.0</td>\n    </tr>\n    <tr>\n      <th>WIN_20210408_16_04_32_Pro</th>\n      <td>1.0</td>\n      <td>1.0</td>\n      <td>1.0</td>\n      <td>1.0</td>\n      <td>1.0</td>\n    </tr>\n    <tr>\n      <th>WIN_20210409_10_26_11_Pro</th>\n      <td>1.0</td>\n      <td>0.0</td>\n      <td>0.0</td>\n      <td>0.0</td>\n      <td>0.0</td>\n    </tr>\n    <tr>\n      <th>WIN_20210413_15_38_01_Pro</th>\n      <td>0.0</td>\n      <td>0.0</td>\n      <td>1.0</td>\n      <td>1.0</td>\n      <td>1.0</td>\n    </tr>\n    <tr>\n      <th>WIN_20210414_06_24_52_Pro</th>\n      <td>0.0</td>\n      <td>0.0</td>\n      <td>0.0</td>\n      <td>0.0</td>\n      <td>0.0</td>\n    </tr>\n    <tr>\n      <th>WIN_20210415_15_41_24_Pro</th>\n      <td>0.0</td>\n      <td>1.0</td>\n      <td>1.0</td>\n      <td>0.0</td>\n      <td>0.0</td>\n    </tr>\n    <tr>\n      <th>WIN_20210416_08_06_54_Pro</th>\n      <td>1.0</td>\n      <td>1.0</td>\n      <td>0.0</td>\n      <td>0.0</td>\n      <td>1.0</td>\n    </tr>\n    <tr>\n      <th>WIN_20210417_14_53_12_Pro</th>\n      <td>1.0</td>\n      <td>0.0</td>\n      <td>0.0</td>\n      <td>0.0</td>\n      <td>0.0</td>\n    </tr>\n  </tbody>\n</table>\n</div>"
     },
     "metadata": {},
     "execution_count": 148
    }
   ],
   "source": [
    "ypredict_stress_diapo"
   ]
  },
  {
   "cell_type": "code",
   "execution_count": 149,
   "metadata": {},
   "outputs": [
    {
     "output_type": "execute_result",
     "data": {
      "text/plain": [
       "                                   1    8    9   10   11   12   17   18  \\\n",
       "video_name                                                                \n",
       "Test_pour_AFPA                   1.0  1.0  0.0  0.0  0.0  1.0  0.0  1.0   \n",
       "Video_1                          0.0  0.0  0.0  0.0  1.0  1.0  1.0  1.0   \n",
       "WIN_20210323_19_17_40_Pro        1.0  0.0  1.0  1.0  1.0  1.0  1.0  1.0   \n",
       "WIN_20210329_10_16_02_Pro        0.0  0.0  1.0  1.0  0.0  1.0  0.0  0.0   \n",
       "WIN_20210330_13_10_29_Pro        0.0  0.0  0.0  0.0  1.0  0.0  0.0  0.0   \n",
       "WIN_20210331_21_22_52_Pro        0.0  0.0  1.0  1.0  1.0  1.0  0.0  0.0   \n",
       "WIN_20210402_14_27_50_Pro        1.0  1.0  1.0  2.0  1.0  1.0  1.0  1.0   \n",
       "WIN_20210402_19_04_53_Pro        2.0  1.0  1.0  1.0  1.0  2.0  1.0  2.0   \n",
       "WIN_20210403_18_49_15_Pro        1.0  1.0  1.0  1.0  1.0  2.0  2.0  1.0   \n",
       "WIN_20210404_10_58_27_Pro        0.0  1.0  1.0  1.0  1.0  1.0  1.0  1.0   \n",
       "WIN_20210404_21_41_12_Pro        0.0  0.0  1.0  0.0  0.0  1.0  0.0  1.0   \n",
       "WIN_20210405_15_09_16_Pro        0.0  1.0  1.0  1.0  1.0  0.0  0.0  1.0   \n",
       "WIN_20210406_15_06_15_Pro        1.0  1.0  1.0  1.0  1.0  2.0  1.0  2.0   \n",
       "WIN_20210406_18_35_52_Pro        0.0  0.0  1.0  0.0  0.0  1.0  0.0  1.0   \n",
       "WIN_20210406_18_49_10_Pro        1.0  0.0  1.0  1.0  1.0  1.0  1.0  1.0   \n",
       "WIN_20210406_21_05_52_Pro        1.0  2.0  2.0  1.0  2.0  1.0  1.0  1.0   \n",
       "WIN_20210407_09_04_05_Pro        0.0  0.0  2.0  1.0  3.0  1.0  0.0  2.0   \n",
       "WIN_20210407_14_54_56_Pro_edit2  0.0  0.0  0.0  0.0  0.0  1.0  0.0  1.0   \n",
       "WIN_20210408_11_48_58_Pro        0.0  1.0  1.0  1.0  1.0  1.0  1.0  2.0   \n",
       "WIN_20210408_14_00_44_Pro        0.0  0.0  0.0  0.0  0.0  1.0  0.0  0.0   \n",
       "WIN_20210408_14_02_19_Pro        0.0  1.0  0.0  0.0  0.0  0.0  0.0  1.0   \n",
       "WIN_20210408_14_11_32_Pro        0.0  2.0  2.0  2.0  2.0  1.0  0.0  1.0   \n",
       "WIN_20210408_15_20_51_Pro        0.0  0.0  0.0  0.0  0.0  0.0  0.0  0.0   \n",
       "WIN_20210408_16_04_32_Pro        0.0  0.0  1.0  0.0  0.0  0.0  0.0  0.0   \n",
       "WIN_20210409_10_26_11_Pro        1.0  1.0  0.0  1.0  0.0  0.0  1.0  1.0   \n",
       "WIN_20210413_15_38_01_Pro        1.0  0.0  0.0  0.0  0.0  1.0  1.0  1.0   \n",
       "WIN_20210414_06_24_52_Pro        2.0  2.0  2.0  2.0  2.0  1.0  1.0  2.0   \n",
       "WIN_20210415_15_41_24_Pro        1.0  0.0  0.0  1.0  0.0  0.0  0.0  0.0   \n",
       "WIN_20210416_08_06_54_Pro        1.0  2.0  1.0  1.0  1.0  0.0  0.0  1.0   \n",
       "WIN_20210417_14_53_12_Pro        0.0  0.0  0.0  0.0  0.0  0.0  1.0  1.0   \n",
       "\n",
       "                                 stress_global  \n",
       "video_name                                      \n",
       "Test_pour_AFPA                             1.0  \n",
       "Video_1                                    0.0  \n",
       "WIN_20210323_19_17_40_Pro                  1.0  \n",
       "WIN_20210329_10_16_02_Pro                  1.0  \n",
       "WIN_20210330_13_10_29_Pro                  0.0  \n",
       "WIN_20210331_21_22_52_Pro                  1.0  \n",
       "WIN_20210402_14_27_50_Pro                  1.0  \n",
       "WIN_20210402_19_04_53_Pro                  2.0  \n",
       "WIN_20210403_18_49_15_Pro                  2.0  \n",
       "WIN_20210404_10_58_27_Pro                  1.0  \n",
       "WIN_20210404_21_41_12_Pro                  0.0  \n",
       "WIN_20210405_15_09_16_Pro                  1.0  \n",
       "WIN_20210406_15_06_15_Pro                  2.0  \n",
       "WIN_20210406_18_35_52_Pro                  0.0  \n",
       "WIN_20210406_18_49_10_Pro                  1.0  \n",
       "WIN_20210406_21_05_52_Pro                  2.0  \n",
       "WIN_20210407_09_04_05_Pro                  2.0  \n",
       "WIN_20210407_14_54_56_Pro_edit2            0.0  \n",
       "WIN_20210408_11_48_58_Pro                  2.0  \n",
       "WIN_20210408_14_00_44_Pro                  0.0  \n",
       "WIN_20210408_14_02_19_Pro                  0.0  \n",
       "WIN_20210408_14_11_32_Pro                  2.0  \n",
       "WIN_20210408_15_20_51_Pro                  0.0  \n",
       "WIN_20210408_16_04_32_Pro                  0.0  \n",
       "WIN_20210409_10_26_11_Pro                  0.0  \n",
       "WIN_20210413_15_38_01_Pro                  1.0  \n",
       "WIN_20210414_06_24_52_Pro                  2.0  \n",
       "WIN_20210415_15_41_24_Pro                  0.0  \n",
       "WIN_20210416_08_06_54_Pro                  1.0  \n",
       "WIN_20210417_14_53_12_Pro                  0.0  "
      ],
      "text/html": "<div>\n<style scoped>\n    .dataframe tbody tr th:only-of-type {\n        vertical-align: middle;\n    }\n\n    .dataframe tbody tr th {\n        vertical-align: top;\n    }\n\n    .dataframe thead th {\n        text-align: right;\n    }\n</style>\n<table border=\"1\" class=\"dataframe\">\n  <thead>\n    <tr style=\"text-align: right;\">\n      <th></th>\n      <th>1</th>\n      <th>8</th>\n      <th>9</th>\n      <th>10</th>\n      <th>11</th>\n      <th>12</th>\n      <th>17</th>\n      <th>18</th>\n      <th>stress_global</th>\n    </tr>\n    <tr>\n      <th>video_name</th>\n      <th></th>\n      <th></th>\n      <th></th>\n      <th></th>\n      <th></th>\n      <th></th>\n      <th></th>\n      <th></th>\n      <th></th>\n    </tr>\n  </thead>\n  <tbody>\n    <tr>\n      <th>Test_pour_AFPA</th>\n      <td>1.0</td>\n      <td>1.0</td>\n      <td>0.0</td>\n      <td>0.0</td>\n      <td>0.0</td>\n      <td>1.0</td>\n      <td>0.0</td>\n      <td>1.0</td>\n      <td>1.0</td>\n    </tr>\n    <tr>\n      <th>Video_1</th>\n      <td>0.0</td>\n      <td>0.0</td>\n      <td>0.0</td>\n      <td>0.0</td>\n      <td>1.0</td>\n      <td>1.0</td>\n      <td>1.0</td>\n      <td>1.0</td>\n      <td>0.0</td>\n    </tr>\n    <tr>\n      <th>WIN_20210323_19_17_40_Pro</th>\n      <td>1.0</td>\n      <td>0.0</td>\n      <td>1.0</td>\n      <td>1.0</td>\n      <td>1.0</td>\n      <td>1.0</td>\n      <td>1.0</td>\n      <td>1.0</td>\n      <td>1.0</td>\n    </tr>\n    <tr>\n      <th>WIN_20210329_10_16_02_Pro</th>\n      <td>0.0</td>\n      <td>0.0</td>\n      <td>1.0</td>\n      <td>1.0</td>\n      <td>0.0</td>\n      <td>1.0</td>\n      <td>0.0</td>\n      <td>0.0</td>\n      <td>1.0</td>\n    </tr>\n    <tr>\n      <th>WIN_20210330_13_10_29_Pro</th>\n      <td>0.0</td>\n      <td>0.0</td>\n      <td>0.0</td>\n      <td>0.0</td>\n      <td>1.0</td>\n      <td>0.0</td>\n      <td>0.0</td>\n      <td>0.0</td>\n      <td>0.0</td>\n    </tr>\n    <tr>\n      <th>WIN_20210331_21_22_52_Pro</th>\n      <td>0.0</td>\n      <td>0.0</td>\n      <td>1.0</td>\n      <td>1.0</td>\n      <td>1.0</td>\n      <td>1.0</td>\n      <td>0.0</td>\n      <td>0.0</td>\n      <td>1.0</td>\n    </tr>\n    <tr>\n      <th>WIN_20210402_14_27_50_Pro</th>\n      <td>1.0</td>\n      <td>1.0</td>\n      <td>1.0</td>\n      <td>2.0</td>\n      <td>1.0</td>\n      <td>1.0</td>\n      <td>1.0</td>\n      <td>1.0</td>\n      <td>1.0</td>\n    </tr>\n    <tr>\n      <th>WIN_20210402_19_04_53_Pro</th>\n      <td>2.0</td>\n      <td>1.0</td>\n      <td>1.0</td>\n      <td>1.0</td>\n      <td>1.0</td>\n      <td>2.0</td>\n      <td>1.0</td>\n      <td>2.0</td>\n      <td>2.0</td>\n    </tr>\n    <tr>\n      <th>WIN_20210403_18_49_15_Pro</th>\n      <td>1.0</td>\n      <td>1.0</td>\n      <td>1.0</td>\n      <td>1.0</td>\n      <td>1.0</td>\n      <td>2.0</td>\n      <td>2.0</td>\n      <td>1.0</td>\n      <td>2.0</td>\n    </tr>\n    <tr>\n      <th>WIN_20210404_10_58_27_Pro</th>\n      <td>0.0</td>\n      <td>1.0</td>\n      <td>1.0</td>\n      <td>1.0</td>\n      <td>1.0</td>\n      <td>1.0</td>\n      <td>1.0</td>\n      <td>1.0</td>\n      <td>1.0</td>\n    </tr>\n    <tr>\n      <th>WIN_20210404_21_41_12_Pro</th>\n      <td>0.0</td>\n      <td>0.0</td>\n      <td>1.0</td>\n      <td>0.0</td>\n      <td>0.0</td>\n      <td>1.0</td>\n      <td>0.0</td>\n      <td>1.0</td>\n      <td>0.0</td>\n    </tr>\n    <tr>\n      <th>WIN_20210405_15_09_16_Pro</th>\n      <td>0.0</td>\n      <td>1.0</td>\n      <td>1.0</td>\n      <td>1.0</td>\n      <td>1.0</td>\n      <td>0.0</td>\n      <td>0.0</td>\n      <td>1.0</td>\n      <td>1.0</td>\n    </tr>\n    <tr>\n      <th>WIN_20210406_15_06_15_Pro</th>\n      <td>1.0</td>\n      <td>1.0</td>\n      <td>1.0</td>\n      <td>1.0</td>\n      <td>1.0</td>\n      <td>2.0</td>\n      <td>1.0</td>\n      <td>2.0</td>\n      <td>2.0</td>\n    </tr>\n    <tr>\n      <th>WIN_20210406_18_35_52_Pro</th>\n      <td>0.0</td>\n      <td>0.0</td>\n      <td>1.0</td>\n      <td>0.0</td>\n      <td>0.0</td>\n      <td>1.0</td>\n      <td>0.0</td>\n      <td>1.0</td>\n      <td>0.0</td>\n    </tr>\n    <tr>\n      <th>WIN_20210406_18_49_10_Pro</th>\n      <td>1.0</td>\n      <td>0.0</td>\n      <td>1.0</td>\n      <td>1.0</td>\n      <td>1.0</td>\n      <td>1.0</td>\n      <td>1.0</td>\n      <td>1.0</td>\n      <td>1.0</td>\n    </tr>\n    <tr>\n      <th>WIN_20210406_21_05_52_Pro</th>\n      <td>1.0</td>\n      <td>2.0</td>\n      <td>2.0</td>\n      <td>1.0</td>\n      <td>2.0</td>\n      <td>1.0</td>\n      <td>1.0</td>\n      <td>1.0</td>\n      <td>2.0</td>\n    </tr>\n    <tr>\n      <th>WIN_20210407_09_04_05_Pro</th>\n      <td>0.0</td>\n      <td>0.0</td>\n      <td>2.0</td>\n      <td>1.0</td>\n      <td>3.0</td>\n      <td>1.0</td>\n      <td>0.0</td>\n      <td>2.0</td>\n      <td>2.0</td>\n    </tr>\n    <tr>\n      <th>WIN_20210407_14_54_56_Pro_edit2</th>\n      <td>0.0</td>\n      <td>0.0</td>\n      <td>0.0</td>\n      <td>0.0</td>\n      <td>0.0</td>\n      <td>1.0</td>\n      <td>0.0</td>\n      <td>1.0</td>\n      <td>0.0</td>\n    </tr>\n    <tr>\n      <th>WIN_20210408_11_48_58_Pro</th>\n      <td>0.0</td>\n      <td>1.0</td>\n      <td>1.0</td>\n      <td>1.0</td>\n      <td>1.0</td>\n      <td>1.0</td>\n      <td>1.0</td>\n      <td>2.0</td>\n      <td>2.0</td>\n    </tr>\n    <tr>\n      <th>WIN_20210408_14_00_44_Pro</th>\n      <td>0.0</td>\n      <td>0.0</td>\n      <td>0.0</td>\n      <td>0.0</td>\n      <td>0.0</td>\n      <td>1.0</td>\n      <td>0.0</td>\n      <td>0.0</td>\n      <td>0.0</td>\n    </tr>\n    <tr>\n      <th>WIN_20210408_14_02_19_Pro</th>\n      <td>0.0</td>\n      <td>1.0</td>\n      <td>0.0</td>\n      <td>0.0</td>\n      <td>0.0</td>\n      <td>0.0</td>\n      <td>0.0</td>\n      <td>1.0</td>\n      <td>0.0</td>\n    </tr>\n    <tr>\n      <th>WIN_20210408_14_11_32_Pro</th>\n      <td>0.0</td>\n      <td>2.0</td>\n      <td>2.0</td>\n      <td>2.0</td>\n      <td>2.0</td>\n      <td>1.0</td>\n      <td>0.0</td>\n      <td>1.0</td>\n      <td>2.0</td>\n    </tr>\n    <tr>\n      <th>WIN_20210408_15_20_51_Pro</th>\n      <td>0.0</td>\n      <td>0.0</td>\n      <td>0.0</td>\n      <td>0.0</td>\n      <td>0.0</td>\n      <td>0.0</td>\n      <td>0.0</td>\n      <td>0.0</td>\n      <td>0.0</td>\n    </tr>\n    <tr>\n      <th>WIN_20210408_16_04_32_Pro</th>\n      <td>0.0</td>\n      <td>0.0</td>\n      <td>1.0</td>\n      <td>0.0</td>\n      <td>0.0</td>\n      <td>0.0</td>\n      <td>0.0</td>\n      <td>0.0</td>\n      <td>0.0</td>\n    </tr>\n    <tr>\n      <th>WIN_20210409_10_26_11_Pro</th>\n      <td>1.0</td>\n      <td>1.0</td>\n      <td>0.0</td>\n      <td>1.0</td>\n      <td>0.0</td>\n      <td>0.0</td>\n      <td>1.0</td>\n      <td>1.0</td>\n      <td>0.0</td>\n    </tr>\n    <tr>\n      <th>WIN_20210413_15_38_01_Pro</th>\n      <td>1.0</td>\n      <td>0.0</td>\n      <td>0.0</td>\n      <td>0.0</td>\n      <td>0.0</td>\n      <td>1.0</td>\n      <td>1.0</td>\n      <td>1.0</td>\n      <td>1.0</td>\n    </tr>\n    <tr>\n      <th>WIN_20210414_06_24_52_Pro</th>\n      <td>2.0</td>\n      <td>2.0</td>\n      <td>2.0</td>\n      <td>2.0</td>\n      <td>2.0</td>\n      <td>1.0</td>\n      <td>1.0</td>\n      <td>2.0</td>\n      <td>2.0</td>\n    </tr>\n    <tr>\n      <th>WIN_20210415_15_41_24_Pro</th>\n      <td>1.0</td>\n      <td>0.0</td>\n      <td>0.0</td>\n      <td>1.0</td>\n      <td>0.0</td>\n      <td>0.0</td>\n      <td>0.0</td>\n      <td>0.0</td>\n      <td>0.0</td>\n    </tr>\n    <tr>\n      <th>WIN_20210416_08_06_54_Pro</th>\n      <td>1.0</td>\n      <td>2.0</td>\n      <td>1.0</td>\n      <td>1.0</td>\n      <td>1.0</td>\n      <td>0.0</td>\n      <td>0.0</td>\n      <td>1.0</td>\n      <td>1.0</td>\n    </tr>\n    <tr>\n      <th>WIN_20210417_14_53_12_Pro</th>\n      <td>0.0</td>\n      <td>0.0</td>\n      <td>0.0</td>\n      <td>0.0</td>\n      <td>0.0</td>\n      <td>0.0</td>\n      <td>1.0</td>\n      <td>1.0</td>\n      <td>0.0</td>\n    </tr>\n  </tbody>\n</table>\n</div>"
     },
     "metadata": {},
     "execution_count": 149
    }
   ],
   "source": [
    "df_annotations_stress = pd.read_csv('annotations.csv')\n",
    "df_annotations_stress = df_annotations_stress.set_index(['video_name'])\n",
    "df_annotations_stress"
   ]
  },
  {
   "cell_type": "code",
   "execution_count": 150,
   "metadata": {},
   "outputs": [],
   "source": [
    "Xy = ypredict_stress_diapo.merge(df_annotations_stress.iloc[:,-1],how='inner',on='video_name')\n",
    "X = Xy.iloc[:,:-1]\n",
    "y = Xy.iloc[:,-1]"
   ]
  },
  {
   "cell_type": "code",
   "execution_count": 151,
   "metadata": {},
   "outputs": [],
   "source": [
    "from sklearn.linear_model import LogisticRegression\n",
    "from sklearn.neighbors import KNeighborsClassifier\n",
    "from sklearn.ensemble import RandomForestClassifier\n",
    "from sklearn.model_selection import LeaveOneGroupOut\n",
    "from sklearn.decomposition import PCA\n",
    "from sklearn.pipeline import Pipeline\n",
    "\n",
    "pca = PCA()\n",
    "\n",
    "models_list = [\n",
    "                LogisticRegression(multi_class='multinomial', fit_intercept=True, random_state=42),\n",
    "                Pipeline(steps=[('pca', pca), ('logistic', LogisticRegression(multi_class='multinomial', fit_intercept=True))]),\n",
    "                KNeighborsClassifier(),\n",
    "                Pipeline(steps=[('pca', pca), ('knn', KNeighborsClassifier())]),\n",
    "                RandomForestClassifier(random_state = 42, n_jobs=-1)\n",
    "                ]\n",
    "\n",
    "parameters_list = [\n",
    "                    {'C': [0.01, 0.05, 0.1, 0.5, 1, 2, 3, 4 , 5, 10], 'class_weight' : [None, 'balanced']},\n",
    "                    {'pca__n_components': [1, 2, 3, 4],\n",
    "                        'logistic__C': [0.01, 0.05, 0.1, 0.5, 1, 2, 3, 4 , 5, 10], 'logistic__class_weight' : [None, 'balanced']},\n",
    "                    {'n_neighbors': [4, 5, 6, 7, 8, 9, 10, 11, 12,  15, 20], 'weights' : ['uniform', 'distance'], 'p': [1, 2]},\n",
    "                    {'pca__n_components': [1, 2, 3, 4],\n",
    "                        'knn__n_neighbors': [4, 5, 6, 7, 8, 9, 10, 11, 12,  15, 20], 'knn__weights' : ['uniform', 'distance'],                              'knn__p': [1, 2]},\n",
    "                    {'n_estimators': [50, 100, 150, 200], 'max_depth':[3, 4, 5, 6, 10, 15, 20], 'class_weight':[None,'balanced']}\n",
    "                    ]\n",
    "\n",
    "#groups = X.reset_index()['video_name']\n",
    "#loo = LeaveOneGroupOut()\n",
    "#cv_loo = loo.split(X, y, groups)"
   ]
  },
  {
   "cell_type": "code",
   "execution_count": 152,
   "metadata": {},
   "outputs": [
    {
     "output_type": "stream",
     "name": "stdout",
     "text": [
      "Fitting 5 folds for each of 20 candidates, totalling 100 fits\n",
      "[Parallel(n_jobs=-1)]: Using backend LokyBackend with 8 concurrent workers.\n",
      "[Parallel(n_jobs=-1)]: Done  56 tasks      | elapsed:    0.3s\n",
      "[Parallel(n_jobs=-1)]: Done  85 out of 100 | elapsed:    0.4s remaining:    0.1s\n",
      "[Parallel(n_jobs=-1)]: Done 100 out of 100 | elapsed:    0.4s finished\n",
      "[Parallel(n_jobs=-1)]: Using backend LokyBackend with 8 concurrent workers.\n",
      "Best estimator LogisticRegression(C=0.5, multi_class='multinomial', random_state=42)\n",
      "Best results 0.4530158730158731\n",
      "Best params {'C': 0.5, 'class_weight': None}\n",
      "accuracy (mean, std) 0.5000000000000001 0.18257418583505539\n",
      "f1 (mean, std) 0.4530158730158731 0.16259299720850415\n",
      "balanced accuracy (mean, std) 0.4444444444444445 0.1531560972454469\n",
      "precision (mean, std) 0.47833333333333333 0.14544949486180953\n",
      "recall (mean, std) 0.5000000000000001 0.18257418583505539\n",
      "\n",
      "Fitting 5 folds for each of 80 candidates, totalling 400 fits\n",
      "[Parallel(n_jobs=-1)]: Done  56 tasks      | elapsed:    0.4s\n",
      "[Parallel(n_jobs=-1)]: Done 385 out of 400 | elapsed:    1.4s remaining:    0.1s\n",
      "[Parallel(n_jobs=-1)]: Done 400 out of 400 | elapsed:    1.5s finished\n",
      "[Parallel(n_jobs=-1)]: Using backend LokyBackend with 8 concurrent workers.\n",
      "Best estimator Pipeline(steps=[('pca', PCA(n_components=4)),\n",
      "                ('logistic',\n",
      "                 LogisticRegression(C=0.5, multi_class='multinomial'))])\n",
      "Best results 0.47968253968253965\n",
      "Best params {'logistic__C': 0.5, 'logistic__class_weight': None, 'pca__n_components': 4}\n",
      "accuracy (mean, std) 0.5333333333333334 0.16329931618554522\n",
      "f1 (mean, std) 0.47968253968253965 0.16264505512980054\n",
      "balanced accuracy (mean, std) 0.47777777777777775 0.11439589045541111\n",
      "precision (mean, std) 0.5005555555555555 0.15522186431200288\n",
      "recall (mean, std) 0.5333333333333334 0.16329931618554522\n",
      "\n",
      "Fitting 5 folds for each of 44 candidates, totalling 220 fits\n",
      "[Parallel(n_jobs=-1)]: Done  56 tasks      | elapsed:    0.2s\n",
      "[Parallel(n_jobs=-1)]: Done 220 out of 220 | elapsed:    0.6s finished\n",
      "[Parallel(n_jobs=-1)]: Using backend LokyBackend with 8 concurrent workers.\n",
      "Best estimator KNeighborsClassifier(n_neighbors=11, p=1)\n",
      "Best results 0.41571428571428565\n",
      "Best params {'n_neighbors': 11, 'p': 1, 'weights': 'uniform'}\n",
      "accuracy (mean, std) 0.4666666666666667 0.19436506316151003\n",
      "f1 (mean, std) 0.41571428571428565 0.1804758414649499\n",
      "balanced accuracy (mean, std) 0.4222222222222222 0.14315665251916806\n",
      "precision (mean, std) 0.425 0.19751543149590198\n",
      "recall (mean, std) 0.4666666666666667 0.19436506316151003\n",
      "\n",
      "Fitting 5 folds for each of 176 candidates, totalling 880 fits\n",
      "[Parallel(n_jobs=-1)]: Done  56 tasks      | elapsed:    0.3s\n",
      "[Parallel(n_jobs=-1)]: Done 880 out of 880 | elapsed:    2.7s finished\n",
      "[Parallel(n_jobs=-1)]: Using backend LokyBackend with 8 concurrent workers.\n",
      "Best estimator Pipeline(steps=[('pca', PCA(n_components=1)),\n",
      "                ('knn', KNeighborsClassifier(n_neighbors=8, p=1))])\n",
      "Best results 0.4638095238095238\n",
      "Best params {'knn__n_neighbors': 8, 'knn__p': 1, 'knn__weights': 'uniform', 'pca__n_components': 1}\n",
      "accuracy (mean, std) 0.5333333333333334 0.16329931618554522\n",
      "f1 (mean, std) 0.4638095238095238 0.16134481446876028\n",
      "balanced accuracy (mean, std) 0.4777777777777777 0.11439589045541111\n",
      "precision (mean, std) 0.4405555555555555 0.15505474939079414\n",
      "recall (mean, std) 0.5333333333333334 0.16329931618554522\n",
      "\n",
      "Fitting 5 folds for each of 56 candidates, totalling 280 fits\n",
      "[Parallel(n_jobs=-1)]: Done  34 tasks      | elapsed:    2.1s\n",
      "[Parallel(n_jobs=-1)]: Done 184 tasks      | elapsed:   11.1s\n",
      "Best estimator RandomForestClassifier(class_weight='balanced', max_depth=4, n_estimators=50,\n",
      "                       n_jobs=-1, random_state=42)\n",
      "Best results 0.3782539682539683\n",
      "Best params {'class_weight': 'balanced', 'max_depth': 4, 'n_estimators': 50}\n",
      "accuracy (mean, std) 0.39999999999999997 0.13333333333333336\n",
      "f1 (mean, std) 0.3782539682539683 0.09262499810865514\n",
      "balanced accuracy (mean, std) 0.36666666666666664 0.14315665251916806\n",
      "precision (mean, std) 0.4166666666666667 0.11111111111111113\n",
      "recall (mean, std) 0.39999999999999997 0.13333333333333336\n",
      "\n",
      "f1_score (weighted) 0.4600414078674948\n",
      "accuracy 0.5333333333333333\n",
      "[Parallel(n_jobs=-1)]: Done 280 out of 280 | elapsed:   16.9s finished\n"
     ]
    }
   ],
   "source": [
    "best_result, y_predict, y_predict_proba, result_list = runGridSearchClassifiers(X, y, 5, models_list, parameters_list, \n",
    "                                                                output_predict=True, n_jobs=-1, verbose=True)"
   ]
  },
  {
   "cell_type": "code",
   "execution_count": 153,
   "metadata": {},
   "outputs": [
    {
     "output_type": "execute_result",
     "data": {
      "text/plain": [
       "{'best_estimator': Pipeline(steps=[('pca', PCA(n_components=4)),\n",
       "                 ('logistic',\n",
       "                  LogisticRegression(C=0.5, multi_class='multinomial'))]),\n",
       " 'best_score': 0.47968253968253965,\n",
       " 'best_params': {'logistic__C': 0.5,\n",
       "  'logistic__class_weight': None,\n",
       "  'pca__n_components': 4},\n",
       " 'mean_test_f1_score': 0.47968253968253965,\n",
       " 'std_test_f1_score': 0.16264505512980054,\n",
       " 'mean_test_accuracy_score': 0.5333333333333334,\n",
       " 'std_test_accuracy_score': 0.16329931618554522,\n",
       " 'mean_test_balanced_accuracy_score': 0.47777777777777775,\n",
       " 'std_test_balanced_accuracy_score': 0.11439589045541111,\n",
       " 'mean_test_precision': 0.5005555555555555,\n",
       " 'std_test_precision': 0.15522186431200288,\n",
       " 'mean_test_recall': 0.5333333333333334,\n",
       " 'std_test_recall': 0.16329931618554522}"
      ]
     },
     "metadata": {},
     "execution_count": 153
    }
   ],
   "source": [
    "best_result"
   ]
  },
  {
   "cell_type": "code",
   "execution_count": 154,
   "metadata": {},
   "outputs": [],
   "source": [
    "# Saving predictions\n",
    "df_ypredict = pd.concat([X.reset_index()[['video_name']],\n",
    "                        pd.DataFrame(y_predict, columns=['ypredict'])],axis=1)\n",
    "df_ypredict.to_csv('ypredict_' + features + '_tw5_global' + diapo_selection + '.csv')"
   ]
  },
  {
   "cell_type": "code",
   "execution_count": 155,
   "metadata": {},
   "outputs": [],
   "source": [
    "# Saving predict proba\n",
    "df_ypredict = pd.concat([X.reset_index()[['video_name']],\n",
    "                        pd.DataFrame(y_predict_proba, columns=['stress_global_proba_0','stress_global_proba_1','stress_global_proba_2'])],axis=1)\n",
    "df_ypredict.to_csv('ypredict_' + features + '_tw5_global_proba' + diapo_selection + '.csv')"
   ]
  },
  {
   "cell_type": "markdown",
   "metadata": {},
   "source": [
    "#### Autre méthode"
   ]
  },
  {
   "cell_type": "markdown",
   "metadata": {},
   "source": [
    "### En utilisant le stress prédit des time windows 5s"
   ]
  },
  {
   "cell_type": "code",
   "execution_count": 156,
   "metadata": {},
   "outputs": [
    {
     "output_type": "execute_result",
     "data": {
      "text/plain": [
       "ypredict                                0         1         2\n",
       "video_name                                                   \n",
       "Test_pour_AFPA                   0.014085  0.985915  0.000000\n",
       "Video_1                          0.694444  0.305556  0.000000\n",
       "WIN_20210323_19_17_40_Pro        0.472222  0.527778  0.000000\n",
       "WIN_20210329_10_16_02_Pro        0.027778  0.972222  0.000000\n",
       "WIN_20210330_13_10_29_Pro        0.000000  1.000000  0.000000\n",
       "WIN_20210331_21_22_52_Pro        0.084507  0.915493  0.000000\n",
       "WIN_20210402_14_27_50_Pro        0.013889  0.027778  0.958333\n",
       "WIN_20210402_19_04_53_Pro        0.333333  0.666667  0.000000\n",
       "WIN_20210403_18_49_15_Pro        0.250000  0.750000  0.000000\n",
       "WIN_20210404_10_58_27_Pro        0.246575  0.753425  0.000000\n",
       "WIN_20210404_21_41_12_Pro        0.301370  0.698630  0.000000\n",
       "WIN_20210405_15_09_16_Pro        0.904110  0.095890  0.000000\n",
       "WIN_20210406_15_06_15_Pro        0.847222  0.152778  0.000000\n",
       "WIN_20210406_18_35_52_Pro        0.888889  0.111111  0.000000\n",
       "WIN_20210406_18_49_10_Pro        0.902778  0.097222  0.000000\n",
       "WIN_20210406_21_05_52_Pro        0.647887  0.352113  0.000000\n",
       "WIN_20210407_09_04_05_Pro        0.424658  0.575342  0.000000\n",
       "WIN_20210407_14_54_56_Pro_edit2  0.611111  0.388889  0.000000\n",
       "WIN_20210408_11_48_58_Pro        0.097222  0.888889  0.013889\n",
       "WIN_20210408_14_00_44_Pro        0.605634  0.394366  0.000000\n",
       "WIN_20210408_14_02_19_Pro        0.328767  0.547945  0.123288\n",
       "WIN_20210408_14_11_32_Pro        0.000000  1.000000  0.000000\n",
       "WIN_20210408_15_20_51_Pro        0.712329  0.287671  0.000000\n",
       "WIN_20210408_16_04_32_Pro        0.291667  0.708333  0.000000\n",
       "WIN_20210409_10_26_11_Pro        0.736111  0.263889  0.000000\n",
       "WIN_20210413_15_38_01_Pro        0.541667  0.458333  0.000000\n",
       "WIN_20210414_06_24_52_Pro        0.777778  0.222222  0.000000\n",
       "WIN_20210415_15_41_24_Pro        0.890411  0.109589  0.000000\n",
       "WIN_20210416_08_06_54_Pro        0.150685  0.849315  0.000000\n",
       "WIN_20210417_14_53_12_Pro        0.794521  0.205479  0.000000"
      ],
      "text/html": "<div>\n<style scoped>\n    .dataframe tbody tr th:only-of-type {\n        vertical-align: middle;\n    }\n\n    .dataframe tbody tr th {\n        vertical-align: top;\n    }\n\n    .dataframe thead th {\n        text-align: right;\n    }\n</style>\n<table border=\"1\" class=\"dataframe\">\n  <thead>\n    <tr style=\"text-align: right;\">\n      <th>ypredict</th>\n      <th>0</th>\n      <th>1</th>\n      <th>2</th>\n    </tr>\n    <tr>\n      <th>video_name</th>\n      <th></th>\n      <th></th>\n      <th></th>\n    </tr>\n  </thead>\n  <tbody>\n    <tr>\n      <th>Test_pour_AFPA</th>\n      <td>0.014085</td>\n      <td>0.985915</td>\n      <td>0.000000</td>\n    </tr>\n    <tr>\n      <th>Video_1</th>\n      <td>0.694444</td>\n      <td>0.305556</td>\n      <td>0.000000</td>\n    </tr>\n    <tr>\n      <th>WIN_20210323_19_17_40_Pro</th>\n      <td>0.472222</td>\n      <td>0.527778</td>\n      <td>0.000000</td>\n    </tr>\n    <tr>\n      <th>WIN_20210329_10_16_02_Pro</th>\n      <td>0.027778</td>\n      <td>0.972222</td>\n      <td>0.000000</td>\n    </tr>\n    <tr>\n      <th>WIN_20210330_13_10_29_Pro</th>\n      <td>0.000000</td>\n      <td>1.000000</td>\n      <td>0.000000</td>\n    </tr>\n    <tr>\n      <th>WIN_20210331_21_22_52_Pro</th>\n      <td>0.084507</td>\n      <td>0.915493</td>\n      <td>0.000000</td>\n    </tr>\n    <tr>\n      <th>WIN_20210402_14_27_50_Pro</th>\n      <td>0.013889</td>\n      <td>0.027778</td>\n      <td>0.958333</td>\n    </tr>\n    <tr>\n      <th>WIN_20210402_19_04_53_Pro</th>\n      <td>0.333333</td>\n      <td>0.666667</td>\n      <td>0.000000</td>\n    </tr>\n    <tr>\n      <th>WIN_20210403_18_49_15_Pro</th>\n      <td>0.250000</td>\n      <td>0.750000</td>\n      <td>0.000000</td>\n    </tr>\n    <tr>\n      <th>WIN_20210404_10_58_27_Pro</th>\n      <td>0.246575</td>\n      <td>0.753425</td>\n      <td>0.000000</td>\n    </tr>\n    <tr>\n      <th>WIN_20210404_21_41_12_Pro</th>\n      <td>0.301370</td>\n      <td>0.698630</td>\n      <td>0.000000</td>\n    </tr>\n    <tr>\n      <th>WIN_20210405_15_09_16_Pro</th>\n      <td>0.904110</td>\n      <td>0.095890</td>\n      <td>0.000000</td>\n    </tr>\n    <tr>\n      <th>WIN_20210406_15_06_15_Pro</th>\n      <td>0.847222</td>\n      <td>0.152778</td>\n      <td>0.000000</td>\n    </tr>\n    <tr>\n      <th>WIN_20210406_18_35_52_Pro</th>\n      <td>0.888889</td>\n      <td>0.111111</td>\n      <td>0.000000</td>\n    </tr>\n    <tr>\n      <th>WIN_20210406_18_49_10_Pro</th>\n      <td>0.902778</td>\n      <td>0.097222</td>\n      <td>0.000000</td>\n    </tr>\n    <tr>\n      <th>WIN_20210406_21_05_52_Pro</th>\n      <td>0.647887</td>\n      <td>0.352113</td>\n      <td>0.000000</td>\n    </tr>\n    <tr>\n      <th>WIN_20210407_09_04_05_Pro</th>\n      <td>0.424658</td>\n      <td>0.575342</td>\n      <td>0.000000</td>\n    </tr>\n    <tr>\n      <th>WIN_20210407_14_54_56_Pro_edit2</th>\n      <td>0.611111</td>\n      <td>0.388889</td>\n      <td>0.000000</td>\n    </tr>\n    <tr>\n      <th>WIN_20210408_11_48_58_Pro</th>\n      <td>0.097222</td>\n      <td>0.888889</td>\n      <td>0.013889</td>\n    </tr>\n    <tr>\n      <th>WIN_20210408_14_00_44_Pro</th>\n      <td>0.605634</td>\n      <td>0.394366</td>\n      <td>0.000000</td>\n    </tr>\n    <tr>\n      <th>WIN_20210408_14_02_19_Pro</th>\n      <td>0.328767</td>\n      <td>0.547945</td>\n      <td>0.123288</td>\n    </tr>\n    <tr>\n      <th>WIN_20210408_14_11_32_Pro</th>\n      <td>0.000000</td>\n      <td>1.000000</td>\n      <td>0.000000</td>\n    </tr>\n    <tr>\n      <th>WIN_20210408_15_20_51_Pro</th>\n      <td>0.712329</td>\n      <td>0.287671</td>\n      <td>0.000000</td>\n    </tr>\n    <tr>\n      <th>WIN_20210408_16_04_32_Pro</th>\n      <td>0.291667</td>\n      <td>0.708333</td>\n      <td>0.000000</td>\n    </tr>\n    <tr>\n      <th>WIN_20210409_10_26_11_Pro</th>\n      <td>0.736111</td>\n      <td>0.263889</td>\n      <td>0.000000</td>\n    </tr>\n    <tr>\n      <th>WIN_20210413_15_38_01_Pro</th>\n      <td>0.541667</td>\n      <td>0.458333</td>\n      <td>0.000000</td>\n    </tr>\n    <tr>\n      <th>WIN_20210414_06_24_52_Pro</th>\n      <td>0.777778</td>\n      <td>0.222222</td>\n      <td>0.000000</td>\n    </tr>\n    <tr>\n      <th>WIN_20210415_15_41_24_Pro</th>\n      <td>0.890411</td>\n      <td>0.109589</td>\n      <td>0.000000</td>\n    </tr>\n    <tr>\n      <th>WIN_20210416_08_06_54_Pro</th>\n      <td>0.150685</td>\n      <td>0.849315</td>\n      <td>0.000000</td>\n    </tr>\n    <tr>\n      <th>WIN_20210417_14_53_12_Pro</th>\n      <td>0.794521</td>\n      <td>0.205479</td>\n      <td>0.000000</td>\n    </tr>\n  </tbody>\n</table>\n</div>"
     },
     "metadata": {},
     "execution_count": 156
    }
   ],
   "source": [
    "df_ypredict = pd.read_csv('ypredict_' + features + '_tw5' + diapo_selection + '.csv')\n",
    "df_ypredict = df_ypredict.iloc[:,1:]\n",
    "df_ypredict.columns = ['video_name','diapo','frameTimeWindow','ypredict']\n",
    "df_ypredict['ypredict'] = df_ypredict['ypredict'].astype(int)\n",
    "df_ypredict = df_ypredict.pivot_table(values='frameTimeWindow', columns='ypredict', index='video_name', aggfunc='count', fill_value=0)\n",
    "df_ypredict_sum = df_ypredict.sum(axis=1).values.copy()\n",
    "for col_number in range(len(df_ypredict.columns)):\n",
    "    df_ypredict.iloc[:,col_number] = df_ypredict.iloc[:,col_number] / df_ypredict_sum\n",
    "#df_ypredict = df_ypredict.reset_index()\n",
    "df_ypredict\n"
   ]
  },
  {
   "cell_type": "code",
   "execution_count": 157,
   "metadata": {},
   "outputs": [],
   "source": [
    "df_annotations_stress = pd.read_csv('annotations.csv')\n",
    "df_annotations_stress = df_annotations_stress[['video_name','stress_global']]"
   ]
  },
  {
   "cell_type": "code",
   "execution_count": 158,
   "metadata": {},
   "outputs": [],
   "source": [
    "Xy = df_ypredict.merge(df_annotations_stress, on='video_name')\n",
    "X = Xy.iloc[:,:-1].set_index('video_name')\n",
    "y = Xy.iloc[:,-1]"
   ]
  },
  {
   "cell_type": "code",
   "execution_count": 159,
   "metadata": {},
   "outputs": [],
   "source": [
    "from sklearn.linear_model import LogisticRegression\n",
    "from sklearn.neighbors import KNeighborsClassifier\n",
    "from sklearn.ensemble import RandomForestClassifier\n",
    "from sklearn.model_selection import LeaveOneGroupOut\n",
    "from sklearn.decomposition import PCA\n",
    "from sklearn.pipeline import Pipeline\n",
    "\n",
    "pca = PCA()\n",
    "\n",
    "models_list = [\n",
    "                LogisticRegression(multi_class='multinomial', fit_intercept=True, random_state=42),\n",
    "                Pipeline(steps=[('pca', pca), ('logistic', LogisticRegression(multi_class='multinomial', fit_intercept=True))]),\n",
    "                KNeighborsClassifier(),\n",
    "                Pipeline(steps=[('pca', pca), ('knn', KNeighborsClassifier())]),\n",
    "                RandomForestClassifier(random_state = 42, n_jobs=-1)\n",
    "                ]\n",
    "\n",
    "parameters_list = [\n",
    "                    {'C': [0.01, 0.05, 0.1, 0.5, 1, 2, 3, 4 , 5, 10], 'class_weight' : [None, 'balanced']},\n",
    "                    {'pca__n_components': [1, 2, 3, 4],\n",
    "                        'logistic__C': [0.01, 0.05, 0.1, 0.5, 1, 2, 3, 4 , 5, 10], 'logistic__class_weight' : [None, 'balanced']},\n",
    "                    {'n_neighbors': [4, 5, 6, 7, 8, 9, 10, 11, 12,  15, 20], 'weights' : ['uniform', 'distance'], 'p': [1, 2]},\n",
    "                    {'pca__n_components': [1, 2, 3, 4],\n",
    "                        'knn__n_neighbors': [4, 5, 6, 7, 8, 9, 10, 11, 12,  15, 20], 'knn__weights' : ['uniform', 'distance'],                              'knn__p': [1, 2]},\n",
    "                    {'n_estimators': [50, 100, 150, 200], 'max_depth':[3, 4, 5, 6, 10, 15, 20], 'class_weight':[None,'balanced']}\n",
    "                    ]\n",
    "\n",
    "groups = X.reset_index()['video_name']\n",
    "loo = LeaveOneGroupOut()\n",
    "cv_loo = loo.split(X, y, groups)"
   ]
  },
  {
   "cell_type": "code",
   "execution_count": 160,
   "metadata": {},
   "outputs": [
    {
     "output_type": "stream",
     "name": "stdout",
     "text": [
      "Fitting 5 folds for each of 20 candidates, totalling 100 fits\n",
      "[Parallel(n_jobs=-1)]: Using backend LokyBackend with 8 concurrent workers.\n",
      "[Parallel(n_jobs=-1)]: Done  56 tasks      | elapsed:    0.3s\n",
      "[Parallel(n_jobs=-1)]: Done  85 out of 100 | elapsed:    0.4s remaining:    0.1s\n",
      "[Parallel(n_jobs=-1)]: Done 100 out of 100 | elapsed:    0.4s finished\n",
      "[Parallel(n_jobs=-1)]: Using backend LokyBackend with 8 concurrent workers.\n",
      "Best estimator LogisticRegression(C=1, multi_class='multinomial', random_state=42)\n",
      "Best results 0.39714285714285713\n",
      "Best params {'C': 1, 'class_weight': None}\n",
      "accuracy (mean, std) 0.4666666666666667 0.22110831935702668\n",
      "f1 (mean, std) 0.39714285714285713 0.21098671594645593\n",
      "balanced accuracy (mean, std) 0.4222222222222222 0.17777777777777776\n",
      "precision (mean, std) 0.38499999999999995 0.20374275719914836\n",
      "recall (mean, std) 0.4666666666666667 0.22110831935702668\n",
      "\n",
      "Fitting 5 folds for each of 80 candidates, totalling 400 fits\n",
      "[Parallel(n_jobs=-1)]: Done  56 tasks      | elapsed:    0.4s\n",
      "[Parallel(n_jobs=-1)]: Done 400 out of 400 | elapsed:    1.2s finished\n",
      "[Parallel(n_jobs=-1)]: Using backend LokyBackend with 8 concurrent workers.\n",
      "Best estimator Pipeline(steps=[('pca', PCA(n_components=1)),\n",
      "                ('logistic',\n",
      "                 LogisticRegression(C=2, multi_class='multinomial'))])\n",
      "Best results 0.423968253968254\n",
      "Best params {'logistic__C': 2, 'logistic__class_weight': None, 'pca__n_components': 1}\n",
      "accuracy (mean, std) 0.5 0.21081851067789198\n",
      "f1 (mean, std) 0.423968253968254 0.20830356552258777\n",
      "balanced accuracy (mean, std) 0.45555555555555555 0.1625415426480866\n",
      "precision (mean, std) 0.4477777777777778 0.22628508185827217\n",
      "recall (mean, std) 0.5 0.21081851067789198\n",
      "\n",
      "Fitting 5 folds for each of 44 candidates, totalling 220 fits\n",
      "[Parallel(n_jobs=-1)]: Done  56 tasks      | elapsed:    0.2s\n",
      "[Parallel(n_jobs=-1)]: Done 220 out of 220 | elapsed:    0.6s finished\n",
      "[Parallel(n_jobs=-1)]: Using backend LokyBackend with 8 concurrent workers.\n",
      "Best estimator KNeighborsClassifier(n_neighbors=20, p=1, weights='distance')\n",
      "Best results 0.4507936507936507\n",
      "Best params {'n_neighbors': 20, 'p': 1, 'weights': 'distance'}\n",
      "accuracy (mean, std) 0.5 0.10540925533894598\n",
      "f1 (mean, std) 0.4507936507936507 0.14394646411116993\n",
      "balanced accuracy (mean, std) 0.4444444444444445 0.07027283689263067\n",
      "precision (mean, std) 0.4766666666666667 0.16983652270475996\n",
      "recall (mean, std) 0.5 0.10540925533894598\n",
      "\n",
      "Fitting 5 folds for each of 176 candidates, totalling 880 fits\n",
      "[Parallel(n_jobs=-1)]: Done  56 tasks      | elapsed:    0.3s\n",
      "[Parallel(n_jobs=-1)]: Done 880 out of 880 | elapsed:    2.1s finished\n",
      "[Parallel(n_jobs=-1)]: Using backend LokyBackend with 8 concurrent workers.\n",
      "Best estimator Pipeline(steps=[('pca', PCA(n_components=1)),\n",
      "                ('knn',\n",
      "                 KNeighborsClassifier(n_neighbors=6, p=1, weights='distance'))])\n",
      "Best results 0.4933333333333333\n",
      "Best params {'knn__n_neighbors': 6, 'knn__p': 1, 'knn__weights': 'distance', 'pca__n_components': 1}\n",
      "accuracy (mean, std) 0.5333333333333333 0.1632993161855452\n",
      "f1 (mean, std) 0.4933333333333333 0.1768866554856213\n",
      "balanced accuracy (mean, std) 0.4777777777777777 0.12957670877434\n",
      "precision (mean, std) 0.48888888888888893 0.18392161508052055\n",
      "recall (mean, std) 0.5333333333333333 0.1632993161855452\n",
      "\n",
      "Fitting 5 folds for each of 56 candidates, totalling 280 fits\n",
      "[Parallel(n_jobs=-1)]: Done  34 tasks      | elapsed:    2.3s\n",
      "[Parallel(n_jobs=-1)]: Done 184 tasks      | elapsed:   10.9s\n",
      "Best estimator RandomForestClassifier(max_depth=3, n_estimators=50, n_jobs=-1, random_state=42)\n",
      "Best results 0.40587301587301583\n",
      "Best params {'class_weight': None, 'max_depth': 3, 'n_estimators': 50}\n",
      "accuracy (mean, std) 0.4333333333333333 0.08164965809277261\n",
      "f1 (mean, std) 0.40587301587301583 0.11179337020399352\n",
      "balanced accuracy (mean, std) 0.4333333333333333 0.1077262190536962\n",
      "precision (mean, std) 0.4655555555555556 0.16793590782141404\n",
      "recall (mean, std) 0.4333333333333333 0.08164965809277261\n",
      "\n",
      "f1_score (weighted) 0.48638838475499097\n",
      "accuracy 0.5333333333333333\n",
      "[Parallel(n_jobs=-1)]: Done 280 out of 280 | elapsed:   16.6s finished\n"
     ]
    }
   ],
   "source": [
    "best_result, y_predict, y_predict_proba, result_list = runGridSearchClassifiers(X, y, 5, models_list, parameters_list, \n",
    "                                                                output_predict=True, n_jobs=-1, verbose=True)"
   ]
  },
  {
   "cell_type": "code",
   "execution_count": 161,
   "metadata": {},
   "outputs": [
    {
     "output_type": "execute_result",
     "data": {
      "text/plain": [
       "{'best_estimator': Pipeline(steps=[('pca', PCA(n_components=1)),\n",
       "                 ('knn',\n",
       "                  KNeighborsClassifier(n_neighbors=6, p=1, weights='distance'))]),\n",
       " 'best_score': 0.4933333333333333,\n",
       " 'best_params': {'knn__n_neighbors': 6,\n",
       "  'knn__p': 1,\n",
       "  'knn__weights': 'distance',\n",
       "  'pca__n_components': 1},\n",
       " 'mean_test_f1_score': 0.4933333333333333,\n",
       " 'std_test_f1_score': 0.1768866554856213,\n",
       " 'mean_test_accuracy_score': 0.5333333333333333,\n",
       " 'std_test_accuracy_score': 0.1632993161855452,\n",
       " 'mean_test_balanced_accuracy_score': 0.4777777777777777,\n",
       " 'std_test_balanced_accuracy_score': 0.12957670877434,\n",
       " 'mean_test_precision': 0.48888888888888893,\n",
       " 'std_test_precision': 0.18392161508052055,\n",
       " 'mean_test_recall': 0.5333333333333333,\n",
       " 'std_test_recall': 0.1632993161855452}"
      ]
     },
     "metadata": {},
     "execution_count": 161
    }
   ],
   "source": [
    "best_result"
   ]
  },
  {
   "cell_type": "markdown",
   "metadata": {},
   "source": [
    "#### Autre méthode"
   ]
  },
  {
   "cell_type": "code",
   "execution_count": 162,
   "metadata": {},
   "outputs": [
    {
     "output_type": "execute_result",
     "data": {
      "text/plain": [
       "                                 ypredict                             \\\n",
       "                                     mean  min  max median       std   \n",
       "video_name                                                             \n",
       "Test_pour_AFPA                   0.985915  0.0  1.0    1.0  0.118678   \n",
       "Video_1                          0.305556  0.0  1.0    0.0  0.463875   \n",
       "WIN_20210323_19_17_40_Pro        0.527778  0.0  1.0    1.0  0.502731   \n",
       "WIN_20210329_10_16_02_Pro        0.972222  0.0  1.0    1.0  0.165489   \n",
       "WIN_20210330_13_10_29_Pro        1.000000  1.0  1.0    1.0  0.000000   \n",
       "WIN_20210331_21_22_52_Pro        0.915493  0.0  1.0    1.0  0.280126   \n",
       "WIN_20210402_14_27_50_Pro        1.944444  0.0  2.0    2.0  0.285267   \n",
       "WIN_20210402_19_04_53_Pro        0.666667  0.0  1.0    1.0  0.474713   \n",
       "WIN_20210403_18_49_15_Pro        0.750000  0.0  1.0    1.0  0.436051   \n",
       "WIN_20210404_10_58_27_Pro        0.753425  0.0  1.0    1.0  0.434000   \n",
       "WIN_20210404_21_41_12_Pro        0.698630  0.0  1.0    1.0  0.462028   \n",
       "WIN_20210405_15_09_16_Pro        0.095890  0.0  1.0    0.0  0.296479   \n",
       "WIN_20210406_15_06_15_Pro        0.152778  0.0  1.0    0.0  0.362298   \n",
       "WIN_20210406_18_35_52_Pro        0.111111  0.0  1.0    0.0  0.316475   \n",
       "WIN_20210406_18_49_10_Pro        0.097222  0.0  1.0    0.0  0.298339   \n",
       "WIN_20210406_21_05_52_Pro        0.352113  0.0  1.0    0.0  0.481028   \n",
       "WIN_20210407_09_04_05_Pro        0.575342  0.0  1.0    1.0  0.497712   \n",
       "WIN_20210407_14_54_56_Pro_edit2  0.388889  0.0  1.0    0.0  0.490919   \n",
       "WIN_20210408_11_48_58_Pro        0.916667  0.0  2.0    1.0  0.325014   \n",
       "WIN_20210408_14_00_44_Pro        0.394366  0.0  1.0    0.0  0.492193   \n",
       "WIN_20210408_14_02_19_Pro        0.794521  0.0  2.0    1.0  0.644612   \n",
       "WIN_20210408_14_11_32_Pro        1.000000  1.0  1.0    1.0  0.000000   \n",
       "WIN_20210408_15_20_51_Pro        0.287671  0.0  1.0    0.0  0.455810   \n",
       "WIN_20210408_16_04_32_Pro        0.708333  0.0  1.0    1.0  0.457719   \n",
       "WIN_20210409_10_26_11_Pro        0.263889  0.0  1.0    0.0  0.443833   \n",
       "WIN_20210413_15_38_01_Pro        0.458333  0.0  1.0    0.0  0.501757   \n",
       "WIN_20210414_06_24_52_Pro        0.222222  0.0  1.0    0.0  0.418657   \n",
       "WIN_20210415_15_41_24_Pro        0.109589  0.0  1.0    0.0  0.314539   \n",
       "WIN_20210416_08_06_54_Pro        0.849315  0.0  1.0    1.0  0.360217   \n",
       "WIN_20210417_14_53_12_Pro        0.205479  0.0  1.0    0.0  0.406848   \n",
       "\n",
       "                                                                              \n",
       "                                percentil25 percentil75   kurtosis      skew  \n",
       "video_name                                                                    \n",
       "Test_pour_AFPA                         1.00         1.0  66.014286 -8.247077  \n",
       "Video_1                                0.00         1.0  -1.287273  0.844232  \n",
       "WIN_20210323_19_17_40_Pro              0.00         1.0  -1.987616 -0.111283  \n",
       "WIN_20210329_10_16_02_Pro              1.00         1.0  31.028571 -5.747049  \n",
       "WIN_20210330_13_10_29_Pro              1.00         1.0  -3.000000  0.000000  \n",
       "WIN_20210331_21_22_52_Pro              1.00         1.0   6.925641 -2.987581  \n",
       "WIN_20210402_14_27_50_Pro              2.00         2.0  31.264793 -5.513881  \n",
       "WIN_20210402_19_04_53_Pro              0.00         1.0  -1.500000 -0.707107  \n",
       "WIN_20210403_18_49_15_Pro              0.75         1.0  -0.666667 -1.154701  \n",
       "WIN_20210404_10_58_27_Pro              1.00         1.0  -0.617172 -1.175937  \n",
       "WIN_20210404_21_41_12_Pro              0.00         1.0  -1.250446 -0.865768  \n",
       "WIN_20210405_15_09_16_Pro              0.00         0.0   5.534632  2.744928  \n",
       "WIN_20210406_15_06_15_Pro              0.00         0.0   1.725782  1.930229  \n",
       "WIN_20210406_18_35_52_Pro              0.00         0.0   4.125000  2.474874  \n",
       "WIN_20210406_18_49_10_Pro              0.00         0.0   5.393407  2.719082  \n",
       "WIN_20210406_21_05_52_Pro              0.00         1.0  -1.616522  0.619256  \n",
       "WIN_20210407_09_04_05_Pro              0.00         1.0  -1.907066 -0.304851  \n",
       "WIN_20210407_14_54_56_Pro_edit2        0.00         1.0  -1.792208  0.455842  \n",
       "WIN_20210408_11_48_58_Pro              1.00         1.0   5.093333 -1.686899  \n",
       "WIN_20210408_14_00_44_Pro              0.00         1.0  -1.813123  0.432293  \n",
       "WIN_20210408_14_02_19_Pro              0.00         1.0  -0.664136  0.212805  \n",
       "WIN_20210408_14_11_32_Pro              1.00         1.0  -3.000000  0.000000  \n",
       "WIN_20210408_15_20_51_Pro              0.00         1.0  -1.119963  0.938103  \n",
       "WIN_20210408_16_04_32_Pro              0.00         1.0  -1.159664 -0.916698  \n",
       "WIN_20210409_10_26_11_Pro              0.00         1.0  -0.852036  1.071431  \n",
       "WIN_20210413_15_38_01_Pro              0.00         1.0  -1.972028  0.167248  \n",
       "WIN_20210414_06_24_52_Pro              0.00         0.0  -0.214286  1.336306  \n",
       "WIN_20210415_15_41_24_Pro              0.00         0.0   4.248077  2.499615  \n",
       "WIN_20210416_08_06_54_Pro              1.00         1.0   1.813783 -1.952891  \n",
       "WIN_20210417_14_53_12_Pro              0.00         0.0   0.125287  1.457837  "
      ],
      "text/html": "<div>\n<style scoped>\n    .dataframe tbody tr th:only-of-type {\n        vertical-align: middle;\n    }\n\n    .dataframe tbody tr th {\n        vertical-align: top;\n    }\n\n    .dataframe thead tr th {\n        text-align: left;\n    }\n\n    .dataframe thead tr:last-of-type th {\n        text-align: right;\n    }\n</style>\n<table border=\"1\" class=\"dataframe\">\n  <thead>\n    <tr>\n      <th></th>\n      <th colspan=\"9\" halign=\"left\">ypredict</th>\n    </tr>\n    <tr>\n      <th></th>\n      <th>mean</th>\n      <th>min</th>\n      <th>max</th>\n      <th>median</th>\n      <th>std</th>\n      <th>percentil25</th>\n      <th>percentil75</th>\n      <th>kurtosis</th>\n      <th>skew</th>\n    </tr>\n    <tr>\n      <th>video_name</th>\n      <th></th>\n      <th></th>\n      <th></th>\n      <th></th>\n      <th></th>\n      <th></th>\n      <th></th>\n      <th></th>\n      <th></th>\n    </tr>\n  </thead>\n  <tbody>\n    <tr>\n      <th>Test_pour_AFPA</th>\n      <td>0.985915</td>\n      <td>0.0</td>\n      <td>1.0</td>\n      <td>1.0</td>\n      <td>0.118678</td>\n      <td>1.00</td>\n      <td>1.0</td>\n      <td>66.014286</td>\n      <td>-8.247077</td>\n    </tr>\n    <tr>\n      <th>Video_1</th>\n      <td>0.305556</td>\n      <td>0.0</td>\n      <td>1.0</td>\n      <td>0.0</td>\n      <td>0.463875</td>\n      <td>0.00</td>\n      <td>1.0</td>\n      <td>-1.287273</td>\n      <td>0.844232</td>\n    </tr>\n    <tr>\n      <th>WIN_20210323_19_17_40_Pro</th>\n      <td>0.527778</td>\n      <td>0.0</td>\n      <td>1.0</td>\n      <td>1.0</td>\n      <td>0.502731</td>\n      <td>0.00</td>\n      <td>1.0</td>\n      <td>-1.987616</td>\n      <td>-0.111283</td>\n    </tr>\n    <tr>\n      <th>WIN_20210329_10_16_02_Pro</th>\n      <td>0.972222</td>\n      <td>0.0</td>\n      <td>1.0</td>\n      <td>1.0</td>\n      <td>0.165489</td>\n      <td>1.00</td>\n      <td>1.0</td>\n      <td>31.028571</td>\n      <td>-5.747049</td>\n    </tr>\n    <tr>\n      <th>WIN_20210330_13_10_29_Pro</th>\n      <td>1.000000</td>\n      <td>1.0</td>\n      <td>1.0</td>\n      <td>1.0</td>\n      <td>0.000000</td>\n      <td>1.00</td>\n      <td>1.0</td>\n      <td>-3.000000</td>\n      <td>0.000000</td>\n    </tr>\n    <tr>\n      <th>WIN_20210331_21_22_52_Pro</th>\n      <td>0.915493</td>\n      <td>0.0</td>\n      <td>1.0</td>\n      <td>1.0</td>\n      <td>0.280126</td>\n      <td>1.00</td>\n      <td>1.0</td>\n      <td>6.925641</td>\n      <td>-2.987581</td>\n    </tr>\n    <tr>\n      <th>WIN_20210402_14_27_50_Pro</th>\n      <td>1.944444</td>\n      <td>0.0</td>\n      <td>2.0</td>\n      <td>2.0</td>\n      <td>0.285267</td>\n      <td>2.00</td>\n      <td>2.0</td>\n      <td>31.264793</td>\n      <td>-5.513881</td>\n    </tr>\n    <tr>\n      <th>WIN_20210402_19_04_53_Pro</th>\n      <td>0.666667</td>\n      <td>0.0</td>\n      <td>1.0</td>\n      <td>1.0</td>\n      <td>0.474713</td>\n      <td>0.00</td>\n      <td>1.0</td>\n      <td>-1.500000</td>\n      <td>-0.707107</td>\n    </tr>\n    <tr>\n      <th>WIN_20210403_18_49_15_Pro</th>\n      <td>0.750000</td>\n      <td>0.0</td>\n      <td>1.0</td>\n      <td>1.0</td>\n      <td>0.436051</td>\n      <td>0.75</td>\n      <td>1.0</td>\n      <td>-0.666667</td>\n      <td>-1.154701</td>\n    </tr>\n    <tr>\n      <th>WIN_20210404_10_58_27_Pro</th>\n      <td>0.753425</td>\n      <td>0.0</td>\n      <td>1.0</td>\n      <td>1.0</td>\n      <td>0.434000</td>\n      <td>1.00</td>\n      <td>1.0</td>\n      <td>-0.617172</td>\n      <td>-1.175937</td>\n    </tr>\n    <tr>\n      <th>WIN_20210404_21_41_12_Pro</th>\n      <td>0.698630</td>\n      <td>0.0</td>\n      <td>1.0</td>\n      <td>1.0</td>\n      <td>0.462028</td>\n      <td>0.00</td>\n      <td>1.0</td>\n      <td>-1.250446</td>\n      <td>-0.865768</td>\n    </tr>\n    <tr>\n      <th>WIN_20210405_15_09_16_Pro</th>\n      <td>0.095890</td>\n      <td>0.0</td>\n      <td>1.0</td>\n      <td>0.0</td>\n      <td>0.296479</td>\n      <td>0.00</td>\n      <td>0.0</td>\n      <td>5.534632</td>\n      <td>2.744928</td>\n    </tr>\n    <tr>\n      <th>WIN_20210406_15_06_15_Pro</th>\n      <td>0.152778</td>\n      <td>0.0</td>\n      <td>1.0</td>\n      <td>0.0</td>\n      <td>0.362298</td>\n      <td>0.00</td>\n      <td>0.0</td>\n      <td>1.725782</td>\n      <td>1.930229</td>\n    </tr>\n    <tr>\n      <th>WIN_20210406_18_35_52_Pro</th>\n      <td>0.111111</td>\n      <td>0.0</td>\n      <td>1.0</td>\n      <td>0.0</td>\n      <td>0.316475</td>\n      <td>0.00</td>\n      <td>0.0</td>\n      <td>4.125000</td>\n      <td>2.474874</td>\n    </tr>\n    <tr>\n      <th>WIN_20210406_18_49_10_Pro</th>\n      <td>0.097222</td>\n      <td>0.0</td>\n      <td>1.0</td>\n      <td>0.0</td>\n      <td>0.298339</td>\n      <td>0.00</td>\n      <td>0.0</td>\n      <td>5.393407</td>\n      <td>2.719082</td>\n    </tr>\n    <tr>\n      <th>WIN_20210406_21_05_52_Pro</th>\n      <td>0.352113</td>\n      <td>0.0</td>\n      <td>1.0</td>\n      <td>0.0</td>\n      <td>0.481028</td>\n      <td>0.00</td>\n      <td>1.0</td>\n      <td>-1.616522</td>\n      <td>0.619256</td>\n    </tr>\n    <tr>\n      <th>WIN_20210407_09_04_05_Pro</th>\n      <td>0.575342</td>\n      <td>0.0</td>\n      <td>1.0</td>\n      <td>1.0</td>\n      <td>0.497712</td>\n      <td>0.00</td>\n      <td>1.0</td>\n      <td>-1.907066</td>\n      <td>-0.304851</td>\n    </tr>\n    <tr>\n      <th>WIN_20210407_14_54_56_Pro_edit2</th>\n      <td>0.388889</td>\n      <td>0.0</td>\n      <td>1.0</td>\n      <td>0.0</td>\n      <td>0.490919</td>\n      <td>0.00</td>\n      <td>1.0</td>\n      <td>-1.792208</td>\n      <td>0.455842</td>\n    </tr>\n    <tr>\n      <th>WIN_20210408_11_48_58_Pro</th>\n      <td>0.916667</td>\n      <td>0.0</td>\n      <td>2.0</td>\n      <td>1.0</td>\n      <td>0.325014</td>\n      <td>1.00</td>\n      <td>1.0</td>\n      <td>5.093333</td>\n      <td>-1.686899</td>\n    </tr>\n    <tr>\n      <th>WIN_20210408_14_00_44_Pro</th>\n      <td>0.394366</td>\n      <td>0.0</td>\n      <td>1.0</td>\n      <td>0.0</td>\n      <td>0.492193</td>\n      <td>0.00</td>\n      <td>1.0</td>\n      <td>-1.813123</td>\n      <td>0.432293</td>\n    </tr>\n    <tr>\n      <th>WIN_20210408_14_02_19_Pro</th>\n      <td>0.794521</td>\n      <td>0.0</td>\n      <td>2.0</td>\n      <td>1.0</td>\n      <td>0.644612</td>\n      <td>0.00</td>\n      <td>1.0</td>\n      <td>-0.664136</td>\n      <td>0.212805</td>\n    </tr>\n    <tr>\n      <th>WIN_20210408_14_11_32_Pro</th>\n      <td>1.000000</td>\n      <td>1.0</td>\n      <td>1.0</td>\n      <td>1.0</td>\n      <td>0.000000</td>\n      <td>1.00</td>\n      <td>1.0</td>\n      <td>-3.000000</td>\n      <td>0.000000</td>\n    </tr>\n    <tr>\n      <th>WIN_20210408_15_20_51_Pro</th>\n      <td>0.287671</td>\n      <td>0.0</td>\n      <td>1.0</td>\n      <td>0.0</td>\n      <td>0.455810</td>\n      <td>0.00</td>\n      <td>1.0</td>\n      <td>-1.119963</td>\n      <td>0.938103</td>\n    </tr>\n    <tr>\n      <th>WIN_20210408_16_04_32_Pro</th>\n      <td>0.708333</td>\n      <td>0.0</td>\n      <td>1.0</td>\n      <td>1.0</td>\n      <td>0.457719</td>\n      <td>0.00</td>\n      <td>1.0</td>\n      <td>-1.159664</td>\n      <td>-0.916698</td>\n    </tr>\n    <tr>\n      <th>WIN_20210409_10_26_11_Pro</th>\n      <td>0.263889</td>\n      <td>0.0</td>\n      <td>1.0</td>\n      <td>0.0</td>\n      <td>0.443833</td>\n      <td>0.00</td>\n      <td>1.0</td>\n      <td>-0.852036</td>\n      <td>1.071431</td>\n    </tr>\n    <tr>\n      <th>WIN_20210413_15_38_01_Pro</th>\n      <td>0.458333</td>\n      <td>0.0</td>\n      <td>1.0</td>\n      <td>0.0</td>\n      <td>0.501757</td>\n      <td>0.00</td>\n      <td>1.0</td>\n      <td>-1.972028</td>\n      <td>0.167248</td>\n    </tr>\n    <tr>\n      <th>WIN_20210414_06_24_52_Pro</th>\n      <td>0.222222</td>\n      <td>0.0</td>\n      <td>1.0</td>\n      <td>0.0</td>\n      <td>0.418657</td>\n      <td>0.00</td>\n      <td>0.0</td>\n      <td>-0.214286</td>\n      <td>1.336306</td>\n    </tr>\n    <tr>\n      <th>WIN_20210415_15_41_24_Pro</th>\n      <td>0.109589</td>\n      <td>0.0</td>\n      <td>1.0</td>\n      <td>0.0</td>\n      <td>0.314539</td>\n      <td>0.00</td>\n      <td>0.0</td>\n      <td>4.248077</td>\n      <td>2.499615</td>\n    </tr>\n    <tr>\n      <th>WIN_20210416_08_06_54_Pro</th>\n      <td>0.849315</td>\n      <td>0.0</td>\n      <td>1.0</td>\n      <td>1.0</td>\n      <td>0.360217</td>\n      <td>1.00</td>\n      <td>1.0</td>\n      <td>1.813783</td>\n      <td>-1.952891</td>\n    </tr>\n    <tr>\n      <th>WIN_20210417_14_53_12_Pro</th>\n      <td>0.205479</td>\n      <td>0.0</td>\n      <td>1.0</td>\n      <td>0.0</td>\n      <td>0.406848</td>\n      <td>0.00</td>\n      <td>0.0</td>\n      <td>0.125287</td>\n      <td>1.457837</td>\n    </tr>\n  </tbody>\n</table>\n</div>"
     },
     "metadata": {},
     "execution_count": 162
    }
   ],
   "source": [
    "df_ypredict = pd.read_csv('ypredict_' + features + '_tw5' + diapo_selection + '.csv')\n",
    "df_ypredict = df_ypredict.iloc[:,1:]\n",
    "df_ypredict.columns = ['video_name','diapo','frameTimeWindow','ypredict']\n",
    "df_ypredict = df_ypredict.groupby(['video_name']).agg({'ypredict': ['mean','min','max', 'median', 'std', percentil25, percentil75, kurtosis, skew]})\n",
    "df_ypredict\n"
   ]
  },
  {
   "cell_type": "code",
   "execution_count": 163,
   "metadata": {},
   "outputs": [],
   "source": [
    "Xy = df_ypredict.merge(df_annotations_stress, on='video_name')\n",
    "X = Xy.iloc[:,:-1].set_index('video_name')\n",
    "y = Xy.iloc[:,-1]"
   ]
  },
  {
   "cell_type": "code",
   "execution_count": 164,
   "metadata": {},
   "outputs": [],
   "source": [
    "from sklearn.linear_model import LogisticRegression\n",
    "from sklearn.neighbors import KNeighborsClassifier\n",
    "from sklearn.ensemble import RandomForestClassifier\n",
    "from sklearn.model_selection import LeaveOneGroupOut\n",
    "from sklearn.decomposition import PCA\n",
    "from sklearn.pipeline import Pipeline\n",
    "\n",
    "pca = PCA()\n",
    "\n",
    "models_list = [\n",
    "                LogisticRegression(multi_class='multinomial', fit_intercept=True, random_state=42),\n",
    "                Pipeline(steps=[('pca', pca), ('logistic', LogisticRegression(multi_class='multinomial', fit_intercept=True))]),\n",
    "                KNeighborsClassifier(),\n",
    "                Pipeline(steps=[('pca', pca), ('knn', KNeighborsClassifier())]),\n",
    "                RandomForestClassifier(random_state = 42, n_jobs=-1)\n",
    "                ]\n",
    "\n",
    "parameters_list = [\n",
    "                    {'C': [0.01, 0.05, 0.1, 0.5, 1, 2, 3, 4 , 5, 10], 'class_weight' : [None, 'balanced']},\n",
    "                    {'pca__n_components': [1, 2, 3, 4],\n",
    "                        'logistic__C': [0.01, 0.05, 0.1, 0.5, 1, 2, 3, 4 , 5, 10], 'logistic__class_weight' : [None, 'balanced']},\n",
    "                    {'n_neighbors': [4, 5, 6, 7, 8, 9, 10, 11, 12,  15, 20], 'weights' : ['uniform', 'distance'], 'p': [1, 2]},\n",
    "                    {'pca__n_components': [1, 2, 3, 4],\n",
    "                        'knn__n_neighbors': [4, 5, 6, 7, 8, 9, 10, 11, 12,  15, 20], 'knn__weights' : ['uniform', 'distance'],                              'knn__p': [1, 2]},\n",
    "                    {'n_estimators': [50, 100, 150, 200], 'max_depth':[3, 4, 5, 6, 10, 15, 20], 'class_weight':[None,'balanced']}\n",
    "                    ]\n",
    "\n",
    "groups = X.reset_index()['video_name']\n",
    "loo = LeaveOneGroupOut()\n",
    "cv_loo = loo.split(X, y, groups)"
   ]
  },
  {
   "cell_type": "code",
   "execution_count": 165,
   "metadata": {},
   "outputs": [
    {
     "output_type": "stream",
     "name": "stdout",
     "text": [
      "Fitting 5 folds for each of 20 candidates, totalling 100 fits\n",
      "[Parallel(n_jobs=-1)]: Using backend LokyBackend with 8 concurrent workers.\n",
      "[Parallel(n_jobs=-1)]: Done  56 tasks      | elapsed:    0.4s\n",
      "[Parallel(n_jobs=-1)]: Done  85 out of 100 | elapsed:    0.6s remaining:    0.1s\n",
      "[Parallel(n_jobs=-1)]: Done 100 out of 100 | elapsed:    0.7s finished\n",
      "[Parallel(n_jobs=-1)]: Using backend LokyBackend with 8 concurrent workers.\n",
      "Best estimator LogisticRegression(C=10, multi_class='multinomial', random_state=42)\n",
      "Best results 0.4344444444444445\n",
      "Best params {'C': 10, 'class_weight': None}\n",
      "accuracy (mean, std) 0.4333333333333333 0.13333333333333333\n",
      "f1 (mean, std) 0.4344444444444445 0.11223872265932792\n",
      "balanced accuracy (mean, std) 0.4333333333333333 0.12372809695177825\n",
      "precision (mean, std) 0.5055555555555556 0.12717247935843998\n",
      "recall (mean, std) 0.4333333333333333 0.13333333333333333\n",
      "\n",
      "Fitting 5 folds for each of 80 candidates, totalling 400 fits\n",
      "[Parallel(n_jobs=-1)]: Done  56 tasks      | elapsed:    0.5s\n",
      "[Parallel(n_jobs=-1)]: Done 385 out of 400 | elapsed:    2.1s remaining:    0.1s\n",
      "[Parallel(n_jobs=-1)]: Done 400 out of 400 | elapsed:    2.1s finished\n",
      "[Parallel(n_jobs=-1)]: Using backend LokyBackend with 8 concurrent workers.\n",
      "Best estimator Pipeline(steps=[('pca', PCA(n_components=1)),\n",
      "                ('logistic',\n",
      "                 LogisticRegression(C=0.5, multi_class='multinomial'))])\n",
      "Best results 0.45087301587301587\n",
      "Best params {'logistic__C': 0.5, 'logistic__class_weight': None, 'pca__n_components': 1}\n",
      "accuracy (mean, std) 0.5333333333333333 0.19436506316151\n",
      "f1 (mean, std) 0.45087301587301587 0.18294923000902993\n",
      "balanced accuracy (mean, std) 0.4777777777777777 0.1670366264263656\n",
      "precision (mean, std) 0.43666666666666665 0.1890064993330215\n",
      "recall (mean, std) 0.5333333333333333 0.19436506316151\n",
      "\n",
      "Fitting 5 folds for each of 44 candidates, totalling 220 fits\n",
      "[Parallel(n_jobs=-1)]: Done  56 tasks      | elapsed:    0.2s\n",
      "[Parallel(n_jobs=-1)]: Done 205 out of 220 | elapsed:    0.6s remaining:    0.0s\n",
      "[Parallel(n_jobs=-1)]: Done 220 out of 220 | elapsed:    0.6s finished\n",
      "[Parallel(n_jobs=-1)]: Using backend LokyBackend with 8 concurrent workers.\n",
      "Best estimator KNeighborsClassifier(n_neighbors=7, p=1)\n",
      "Best results 0.43968253968253973\n",
      "Best params {'n_neighbors': 7, 'p': 1, 'weights': 'uniform'}\n",
      "accuracy (mean, std) 0.5 0.21081851067789198\n",
      "f1 (mean, std) 0.43968253968253973 0.21435037237326723\n",
      "balanced accuracy (mean, std) 0.4444444444444445 0.16480441082434805\n",
      "precision (mean, std) 0.43833333333333335 0.22221111083331946\n",
      "recall (mean, std) 0.5 0.21081851067789198\n",
      "\n",
      "Fitting 5 folds for each of 176 candidates, totalling 880 fits\n",
      "[Parallel(n_jobs=-1)]: Done  56 tasks      | elapsed:    0.3s\n",
      "[Parallel(n_jobs=-1)]: Done 880 out of 880 | elapsed:    2.4s finished\n",
      "[Parallel(n_jobs=-1)]: Using backend LokyBackend with 8 concurrent workers.\n",
      "Best estimator Pipeline(steps=[('pca', PCA(n_components=2)),\n",
      "                ('knn', KNeighborsClassifier(n_neighbors=6, p=1))])\n",
      "Best results 0.44761904761904764\n",
      "Best params {'knn__n_neighbors': 6, 'knn__p': 1, 'knn__weights': 'uniform', 'pca__n_components': 2}\n",
      "accuracy (mean, std) 0.5333333333333334 0.19436506316151\n",
      "f1 (mean, std) 0.44761904761904764 0.2333711231681156\n",
      "balanced accuracy (mean, std) 0.4666666666666666 0.1247219128924647\n",
      "precision (mean, std) 0.4366666666666667 0.25909028885270435\n",
      "recall (mean, std) 0.5333333333333334 0.19436506316151\n",
      "\n",
      "Fitting 5 folds for each of 56 candidates, totalling 280 fits\n",
      "[Parallel(n_jobs=-1)]: Done  52 tasks      | elapsed:    3.2s\n",
      "[Parallel(n_jobs=-1)]: Done 240 tasks      | elapsed:   13.9s\n",
      "Best estimator RandomForestClassifier(max_depth=5, n_estimators=50, n_jobs=-1, random_state=42)\n",
      "Best results 0.4303174603174603\n",
      "Best params {'class_weight': None, 'max_depth': 5, 'n_estimators': 50}\n",
      "accuracy (mean, std) 0.4666666666666666 0.06666666666666668\n",
      "f1 (mean, std) 0.4303174603174603 0.11571896696172516\n",
      "balanced accuracy (mean, std) 0.4333333333333333 0.06478835438717001\n",
      "precision (mean, std) 0.5044444444444445 0.1945682145764225\n",
      "recall (mean, std) 0.4666666666666666 0.06666666666666668\n",
      "\n",
      "f1_score (weighted) 0.4605263157894737\n",
      "accuracy 0.5333333333333333\n",
      "[Parallel(n_jobs=-1)]: Done 280 out of 280 | elapsed:   16.3s finished\n"
     ]
    }
   ],
   "source": [
    "best_result, y_predict, y_predict_proba, result_list = runGridSearchClassifiers(X, y, 5, models_list, parameters_list, \n",
    "                                                                output_predict=True, n_jobs=-1, verbose=True)"
   ]
  },
  {
   "cell_type": "code",
   "execution_count": 166,
   "metadata": {},
   "outputs": [
    {
     "output_type": "execute_result",
     "data": {
      "text/plain": [
       "{'best_estimator': Pipeline(steps=[('pca', PCA(n_components=1)),\n",
       "                 ('logistic',\n",
       "                  LogisticRegression(C=0.5, multi_class='multinomial'))]),\n",
       " 'best_score': 0.45087301587301587,\n",
       " 'best_params': {'logistic__C': 0.5,\n",
       "  'logistic__class_weight': None,\n",
       "  'pca__n_components': 1},\n",
       " 'mean_test_f1_score': 0.45087301587301587,\n",
       " 'std_test_f1_score': 0.18294923000902993,\n",
       " 'mean_test_accuracy_score': 0.5333333333333333,\n",
       " 'std_test_accuracy_score': 0.19436506316151,\n",
       " 'mean_test_balanced_accuracy_score': 0.4777777777777777,\n",
       " 'std_test_balanced_accuracy_score': 0.1670366264263656,\n",
       " 'mean_test_precision': 0.43666666666666665,\n",
       " 'std_test_precision': 0.1890064993330215,\n",
       " 'mean_test_recall': 0.5333333333333333,\n",
       " 'std_test_recall': 0.19436506316151}"
      ]
     },
     "metadata": {},
     "execution_count": 166
    }
   ],
   "source": [
    "best_result"
   ]
  },
  {
   "cell_type": "code",
   "execution_count": null,
   "metadata": {},
   "outputs": [],
   "source": [
    "df_ypredict_stress_global = pd.concat([ypredict_stress_diapo.reset_index(), pd.DataFrame(y_predict,columns=['predicted_stress_global'])], axis=1) \n",
    "df_ypredict_stress_global = df_ypredict_stress_global.set_index('video_name').sort_index()\n",
    "df_ypredict_stress_global = df_ypredict_stress_global.iloc[:,-1]"
   ]
  },
  {
   "cell_type": "code",
   "execution_count": null,
   "metadata": {
    "scrolled": true
   },
   "outputs": [],
   "source": [
    "df_ypredict_stress_global"
   ]
  },
  {
   "cell_type": "code",
   "execution_count": null,
   "metadata": {},
   "outputs": [],
   "source": []
  },
  {
   "cell_type": "markdown",
   "metadata": {},
   "source": [
    "### Audios diapos only"
   ]
  },
  {
   "cell_type": "code",
   "execution_count": null,
   "metadata": {},
   "outputs": [],
   "source": []
  },
  {
   "cell_type": "code",
   "execution_count": 167,
   "metadata": {},
   "outputs": [],
   "source": [
    "diapo_selection = '_audio_only'\n",
    "diapo_audio_list = [8,9,10,11,17]\n",
    "X = X_audio\n",
    "y = y_audio"
   ]
  },
  {
   "cell_type": "code",
   "execution_count": 168,
   "metadata": {},
   "outputs": [],
   "source": [
    "from sklearn.ensemble import RandomForestClassifier\n",
    "from sklearn.model_selection import LeaveOneGroupOut\n",
    "\n",
    "models_list = [RandomForestClassifier(random_state = 42, n_jobs=-1)]\n",
    "parameters_list = [\n",
    "                {'n_estimators': [100, 150, 200], 'max_depth':[10, 15, 20, 25], 'class_weight':[None,'balanced']}\n",
    "                ]\n",
    "groups = X.reset_index()['video_name']\n",
    "loo = LeaveOneGroupOut()\n",
    "cv_loo = loo.split(X, y, groups)"
   ]
  },
  {
   "cell_type": "code",
   "execution_count": 169,
   "metadata": {},
   "outputs": [
    {
     "output_type": "stream",
     "name": "stdout",
     "text": [
      "Fitting 30 folds for each of 24 candidates, totalling 720 fits\n",
      "[Parallel(n_jobs=-1)]: Using backend LokyBackend with 8 concurrent workers.\n",
      "[Parallel(n_jobs=-1)]: Done  34 tasks      | elapsed:   30.6s\n",
      "[Parallel(n_jobs=-1)]: Done 184 tasks      | elapsed:  3.7min\n",
      "[Parallel(n_jobs=-1)]: Done 434 tasks      | elapsed:  9.0min\n",
      "[Parallel(n_jobs=-1)]: Done 720 out of 720 | elapsed: 15.2min finished\n",
      "Best estimator RandomForestClassifier(max_depth=20, n_estimators=150, n_jobs=-1,\n",
      "                       random_state=42)\n",
      "Best results 0.485113011090835\n",
      "Best params {'class_weight': None, 'max_depth': 20, 'n_estimators': 150}\n",
      "accuracy (mean, std) 0.47611243309680507 0.2485920047305685\n",
      "f1 (mean, std) 0.485113011090835 0.2896991582646307\n",
      "balanced accuracy (mean, std) 0.4988648209525646 0.18131233940080954\n",
      "precision (mean, std) 0.6586459986990544 0.32319878584073297\n",
      "recall (mean, std) 0.47611243309680507 0.2485920047305685\n",
      "\n",
      "f1_score (weighted) 0.45865607572630346\n",
      "accuracy 0.47623442547300415\n"
     ]
    }
   ],
   "source": [
    "best_result, y_predict, y_predict_proba,result_list = runGridSearchClassifiers(X, y, cv_loo, models_list, parameters_list, \n",
    "                                                                output_predict=True, n_jobs=-1, verbose=True)"
   ]
  },
  {
   "cell_type": "code",
   "execution_count": 170,
   "metadata": {},
   "outputs": [],
   "source": [
    "# Saving predictions\n",
    "df_ypredict = pd.concat([X.reset_index()[['video_name','diapo','frameTimeWindow']],\n",
    "                        pd.DataFrame(y_predict, columns=['ypredict'])],axis=1)\n",
    "df_ypredict.to_csv('ypredict_' + features + '_tw5' + diapo_selection + '.csv')"
   ]
  },
  {
   "cell_type": "code",
   "execution_count": 171,
   "metadata": {},
   "outputs": [
    {
     "output_type": "execute_result",
     "data": {
      "text/plain": [
       "array([[490, 440,   8,   0],\n",
       "       [388, 529,  58,   0],\n",
       "       [ 98, 123,  13,   0],\n",
       "       [  6,  14,   0,   0]])"
      ]
     },
     "metadata": {},
     "execution_count": 171
    }
   ],
   "source": [
    "from sklearn.metrics import confusion_matrix\n",
    "confusion_matrix(y, y_predict)"
   ]
  },
  {
   "cell_type": "code",
   "execution_count": 191,
   "metadata": {},
   "outputs": [
    {
     "output_type": "execute_result",
     "data": {
      "text/plain": [
       "                     video_name  diapo  frameTimeWindow  ypredict\n",
       "0                Test_pour_AFPA      8              170         1\n",
       "1                Test_pour_AFPA      8              175         1\n",
       "2                Test_pour_AFPA      8              180         1\n",
       "3                Test_pour_AFPA      8              185         1\n",
       "4                Test_pour_AFPA      8              190         1\n",
       "...                         ...    ...              ...       ...\n",
       "2162  WIN_20210417_14_53_12_Pro     17              490         1\n",
       "2163  WIN_20210417_14_53_12_Pro     17              495         0\n",
       "2164  WIN_20210417_14_53_12_Pro     17              500         1\n",
       "2165  WIN_20210417_14_53_12_Pro     17              505         0\n",
       "2166  WIN_20210417_14_53_12_Pro     17              510         0\n",
       "\n",
       "[2167 rows x 4 columns]"
      ],
      "text/html": "<div>\n<style scoped>\n    .dataframe tbody tr th:only-of-type {\n        vertical-align: middle;\n    }\n\n    .dataframe tbody tr th {\n        vertical-align: top;\n    }\n\n    .dataframe thead th {\n        text-align: right;\n    }\n</style>\n<table border=\"1\" class=\"dataframe\">\n  <thead>\n    <tr style=\"text-align: right;\">\n      <th></th>\n      <th>video_name</th>\n      <th>diapo</th>\n      <th>frameTimeWindow</th>\n      <th>ypredict</th>\n    </tr>\n  </thead>\n  <tbody>\n    <tr>\n      <th>0</th>\n      <td>Test_pour_AFPA</td>\n      <td>8</td>\n      <td>170</td>\n      <td>1</td>\n    </tr>\n    <tr>\n      <th>1</th>\n      <td>Test_pour_AFPA</td>\n      <td>8</td>\n      <td>175</td>\n      <td>1</td>\n    </tr>\n    <tr>\n      <th>2</th>\n      <td>Test_pour_AFPA</td>\n      <td>8</td>\n      <td>180</td>\n      <td>1</td>\n    </tr>\n    <tr>\n      <th>3</th>\n      <td>Test_pour_AFPA</td>\n      <td>8</td>\n      <td>185</td>\n      <td>1</td>\n    </tr>\n    <tr>\n      <th>4</th>\n      <td>Test_pour_AFPA</td>\n      <td>8</td>\n      <td>190</td>\n      <td>1</td>\n    </tr>\n    <tr>\n      <th>...</th>\n      <td>...</td>\n      <td>...</td>\n      <td>...</td>\n      <td>...</td>\n    </tr>\n    <tr>\n      <th>2162</th>\n      <td>WIN_20210417_14_53_12_Pro</td>\n      <td>17</td>\n      <td>490</td>\n      <td>1</td>\n    </tr>\n    <tr>\n      <th>2163</th>\n      <td>WIN_20210417_14_53_12_Pro</td>\n      <td>17</td>\n      <td>495</td>\n      <td>0</td>\n    </tr>\n    <tr>\n      <th>2164</th>\n      <td>WIN_20210417_14_53_12_Pro</td>\n      <td>17</td>\n      <td>500</td>\n      <td>1</td>\n    </tr>\n    <tr>\n      <th>2165</th>\n      <td>WIN_20210417_14_53_12_Pro</td>\n      <td>17</td>\n      <td>505</td>\n      <td>0</td>\n    </tr>\n    <tr>\n      <th>2166</th>\n      <td>WIN_20210417_14_53_12_Pro</td>\n      <td>17</td>\n      <td>510</td>\n      <td>0</td>\n    </tr>\n  </tbody>\n</table>\n<p>2167 rows × 4 columns</p>\n</div>"
     },
     "metadata": {},
     "execution_count": 191
    }
   ],
   "source": [
    "df_ypredict = pd.read_csv('ypredict_' + features + '_tw5' + diapo_selection + '.csv')\n",
    "df_ypredict = df_ypredict.iloc[:,1:]\n",
    "df_ypredict.columns = ['video_name','diapo','frameTimeWindow','ypredict']\n",
    "df_ypredict['ypredict'] = df_ypredict['ypredict'].astype(int)\n",
    "df_ypredict\n"
   ]
  },
  {
   "cell_type": "markdown",
   "metadata": {},
   "source": [
    "#### En utilisant la proportion des prédictions 0, 1 et 2"
   ]
  },
  {
   "cell_type": "code",
   "execution_count": 192,
   "metadata": {},
   "outputs": [
    {
     "output_type": "execute_result",
     "data": {
      "text/plain": [
       "ypredict                                0         1    2\n",
       "video_name                diapo                         \n",
       "Test_pour_AFPA            8      0.000000  1.000000  0.0\n",
       "                          9      0.050000  0.950000  0.0\n",
       "                          10     0.000000  1.000000  0.0\n",
       "                          11     0.000000  1.000000  0.0\n",
       "                          17     0.000000  1.000000  0.0\n",
       "...                                   ...       ...  ...\n",
       "WIN_20210417_14_53_12_Pro 8      0.909091  0.090909  0.0\n",
       "                          9      0.857143  0.142857  0.0\n",
       "                          10     0.714286  0.285714  0.0\n",
       "                          11     0.800000  0.200000  0.0\n",
       "                          17     0.571429  0.428571  0.0\n",
       "\n",
       "[150 rows x 3 columns]"
      ],
      "text/html": "<div>\n<style scoped>\n    .dataframe tbody tr th:only-of-type {\n        vertical-align: middle;\n    }\n\n    .dataframe tbody tr th {\n        vertical-align: top;\n    }\n\n    .dataframe thead th {\n        text-align: right;\n    }\n</style>\n<table border=\"1\" class=\"dataframe\">\n  <thead>\n    <tr style=\"text-align: right;\">\n      <th></th>\n      <th>ypredict</th>\n      <th>0</th>\n      <th>1</th>\n      <th>2</th>\n    </tr>\n    <tr>\n      <th>video_name</th>\n      <th>diapo</th>\n      <th></th>\n      <th></th>\n      <th></th>\n    </tr>\n  </thead>\n  <tbody>\n    <tr>\n      <th rowspan=\"5\" valign=\"top\">Test_pour_AFPA</th>\n      <th>8</th>\n      <td>0.000000</td>\n      <td>1.000000</td>\n      <td>0.0</td>\n    </tr>\n    <tr>\n      <th>9</th>\n      <td>0.050000</td>\n      <td>0.950000</td>\n      <td>0.0</td>\n    </tr>\n    <tr>\n      <th>10</th>\n      <td>0.000000</td>\n      <td>1.000000</td>\n      <td>0.0</td>\n    </tr>\n    <tr>\n      <th>11</th>\n      <td>0.000000</td>\n      <td>1.000000</td>\n      <td>0.0</td>\n    </tr>\n    <tr>\n      <th>17</th>\n      <td>0.000000</td>\n      <td>1.000000</td>\n      <td>0.0</td>\n    </tr>\n    <tr>\n      <th>...</th>\n      <th>...</th>\n      <td>...</td>\n      <td>...</td>\n      <td>...</td>\n    </tr>\n    <tr>\n      <th rowspan=\"5\" valign=\"top\">WIN_20210417_14_53_12_Pro</th>\n      <th>8</th>\n      <td>0.909091</td>\n      <td>0.090909</td>\n      <td>0.0</td>\n    </tr>\n    <tr>\n      <th>9</th>\n      <td>0.857143</td>\n      <td>0.142857</td>\n      <td>0.0</td>\n    </tr>\n    <tr>\n      <th>10</th>\n      <td>0.714286</td>\n      <td>0.285714</td>\n      <td>0.0</td>\n    </tr>\n    <tr>\n      <th>11</th>\n      <td>0.800000</td>\n      <td>0.200000</td>\n      <td>0.0</td>\n    </tr>\n    <tr>\n      <th>17</th>\n      <td>0.571429</td>\n      <td>0.428571</td>\n      <td>0.0</td>\n    </tr>\n  </tbody>\n</table>\n<p>150 rows × 3 columns</p>\n</div>"
     },
     "metadata": {},
     "execution_count": 192
    }
   ],
   "source": [
    "X = df_ypredict.pivot_table(values='frameTimeWindow', columns='ypredict', index=['video_name','diapo'], aggfunc='count', fill_value=0)\n",
    "X_sum = X.sum(axis=1).values.copy()\n",
    "for col_number in range(len(X.columns)):\n",
    "    X.iloc[:,col_number] = X.iloc[:,col_number] / X_sum\n",
    "X\n",
    " "
   ]
  },
  {
   "cell_type": "code",
   "execution_count": 174,
   "metadata": {},
   "outputs": [
    {
     "output_type": "execute_result",
     "data": {
      "text/plain": [
       "                    video_name  diapo  stress\n",
       "1               Test_pour_AFPA      8     1.0\n",
       "2               Test_pour_AFPA      9     0.0\n",
       "3               Test_pour_AFPA     10     0.0\n",
       "4               Test_pour_AFPA     11     0.0\n",
       "6               Test_pour_AFPA     17     0.0\n",
       "..                         ...    ...     ...\n",
       "233  WIN_20210417_14_53_12_Pro      8     0.0\n",
       "234  WIN_20210417_14_53_12_Pro      9     0.0\n",
       "235  WIN_20210417_14_53_12_Pro     10     0.0\n",
       "236  WIN_20210417_14_53_12_Pro     11     0.0\n",
       "238  WIN_20210417_14_53_12_Pro     17     1.0\n",
       "\n",
       "[150 rows x 3 columns]"
      ],
      "text/html": "<div>\n<style scoped>\n    .dataframe tbody tr th:only-of-type {\n        vertical-align: middle;\n    }\n\n    .dataframe tbody tr th {\n        vertical-align: top;\n    }\n\n    .dataframe thead th {\n        text-align: right;\n    }\n</style>\n<table border=\"1\" class=\"dataframe\">\n  <thead>\n    <tr style=\"text-align: right;\">\n      <th></th>\n      <th>video_name</th>\n      <th>diapo</th>\n      <th>stress</th>\n    </tr>\n  </thead>\n  <tbody>\n    <tr>\n      <th>1</th>\n      <td>Test_pour_AFPA</td>\n      <td>8</td>\n      <td>1.0</td>\n    </tr>\n    <tr>\n      <th>2</th>\n      <td>Test_pour_AFPA</td>\n      <td>9</td>\n      <td>0.0</td>\n    </tr>\n    <tr>\n      <th>3</th>\n      <td>Test_pour_AFPA</td>\n      <td>10</td>\n      <td>0.0</td>\n    </tr>\n    <tr>\n      <th>4</th>\n      <td>Test_pour_AFPA</td>\n      <td>11</td>\n      <td>0.0</td>\n    </tr>\n    <tr>\n      <th>6</th>\n      <td>Test_pour_AFPA</td>\n      <td>17</td>\n      <td>0.0</td>\n    </tr>\n    <tr>\n      <th>...</th>\n      <td>...</td>\n      <td>...</td>\n      <td>...</td>\n    </tr>\n    <tr>\n      <th>233</th>\n      <td>WIN_20210417_14_53_12_Pro</td>\n      <td>8</td>\n      <td>0.0</td>\n    </tr>\n    <tr>\n      <th>234</th>\n      <td>WIN_20210417_14_53_12_Pro</td>\n      <td>9</td>\n      <td>0.0</td>\n    </tr>\n    <tr>\n      <th>235</th>\n      <td>WIN_20210417_14_53_12_Pro</td>\n      <td>10</td>\n      <td>0.0</td>\n    </tr>\n    <tr>\n      <th>236</th>\n      <td>WIN_20210417_14_53_12_Pro</td>\n      <td>11</td>\n      <td>0.0</td>\n    </tr>\n    <tr>\n      <th>238</th>\n      <td>WIN_20210417_14_53_12_Pro</td>\n      <td>17</td>\n      <td>1.0</td>\n    </tr>\n  </tbody>\n</table>\n<p>150 rows × 3 columns</p>\n</div>"
     },
     "metadata": {},
     "execution_count": 174
    }
   ],
   "source": [
    "df_annotations_stress = pd.read_csv('annotations.csv')\n",
    "df_annotations_stress = df_annotations_stress.drop(df_annotations_stress.columns[-1],axis=1).set_index('video_name').stack()\n",
    "df_annotations_stress = pd.DataFrame(df_annotations_stress).reset_index()\n",
    "df_annotations_stress.columns = ['video_name','diapo','stress']\n",
    "#df_annotations_stress = df_annotations_stress.set_index(['video_name','diapo'])\n",
    "df_annotations_stress['diapo'] = df_annotations_stress['diapo'].astype(int)\n",
    "df_annotations_stress = df_annotations_stress[df_annotations_stress.diapo.isin(diapo_audio_list)]\n",
    "df_annotations_stress"
   ]
  },
  {
   "cell_type": "code",
   "execution_count": 175,
   "metadata": {},
   "outputs": [],
   "source": [
    "Xy = X.merge(df_annotations_stress, how='inner', on=['video_name','diapo'])\n",
    "X = Xy.iloc[:,:-1].set_index(['video_name','diapo'])\n",
    "y = Xy.iloc[:,-1]"
   ]
  },
  {
   "cell_type": "code",
   "execution_count": 176,
   "metadata": {},
   "outputs": [
    {
     "output_type": "execute_result",
     "data": {
      "text/plain": [
       "0      1.0\n",
       "1      0.0\n",
       "2      0.0\n",
       "3      0.0\n",
       "4      0.0\n",
       "      ... \n",
       "145    0.0\n",
       "146    0.0\n",
       "147    0.0\n",
       "148    0.0\n",
       "149    1.0\n",
       "Name: stress, Length: 150, dtype: float64"
      ]
     },
     "metadata": {},
     "execution_count": 176
    }
   ],
   "source": [
    "y"
   ]
  },
  {
   "cell_type": "code",
   "execution_count": 177,
   "metadata": {},
   "outputs": [],
   "source": [
    "from sklearn.linear_model import LogisticRegression\n",
    "from sklearn.neighbors import KNeighborsClassifier\n",
    "from sklearn.ensemble import RandomForestClassifier\n",
    "from sklearn.model_selection import LeaveOneGroupOut\n",
    "from sklearn.decomposition import PCA\n",
    "from sklearn.pipeline import Pipeline\n",
    "\n",
    "pca = PCA()\n",
    "pipe = Pipeline(steps=[('pca', pca), ('logistic', LogisticRegression(multi_class='multinomial', fit_intercept=True, random_state=42))])\n",
    "\n",
    "models_list = [\n",
    "                LogisticRegression(multi_class='multinomial', fit_intercept=True, random_state=42),\n",
    "                Pipeline(steps=[('pca', pca), ('logistic', LogisticRegression(multi_class='multinomial', fit_intercept=True))]),\n",
    "                KNeighborsClassifier(),\n",
    "                Pipeline(steps=[('pca', pca), ('knn', KNeighborsClassifier())]),\n",
    "                RandomForestClassifier(random_state = 42, n_jobs=-1)\n",
    "                ]\n",
    "\n",
    "parameters_list = [\n",
    "                    {'C': [0.01, 0.05, 0.1, 0.5, 1, 2, 3, 4 , 5, 10], 'class_weight' : [None, 'balanced']},\n",
    "                    {'pca__n_components': [1, 2, 3, 4],\n",
    "                        'logistic__C': [0.01, 0.05, 0.1, 0.5, 1, 2, 3, 4 , 5, 10], 'logistic__class_weight' : [None, 'balanced']},\n",
    "                    {'n_neighbors': [4, 5, 6, 7, 8, 9, 10, 11, 12,  15, 20], 'weights' : ['uniform', 'distance'], 'p': [1, 2]},\n",
    "                    {'pca__n_components': [1, 2, 3, 4],\n",
    "                        'knn__n_neighbors': [4, 5, 6, 7, 8, 9, 10, 11, 12,  15, 20], 'knn__weights' : ['uniform', 'distance'],                              'knn__p': [1, 2]},\n",
    "                    {'n_estimators': [50, 100, 150, 200], 'max_depth':[3, 4, 5, 6, 10, 15, 20], 'class_weight':[None,'balanced']}\n",
    "                    ]\n",
    "\n",
    "groups = X.reset_index()['video_name']\n",
    "loo = LeaveOneGroupOut()\n",
    "cv_loo = loo.split(X, y, groups)"
   ]
  },
  {
   "cell_type": "code",
   "execution_count": 178,
   "metadata": {},
   "outputs": [
    {
     "output_type": "stream",
     "name": "stdout",
     "text": [
      "Fitting 30 folds for each of 20 candidates, totalling 600 fits\n",
      "[Parallel(n_jobs=-1)]: Using backend LokyBackend with 8 concurrent workers.\n",
      "[Parallel(n_jobs=-1)]: Done  56 tasks      | elapsed:    0.4s\n",
      "[Parallel(n_jobs=-1)]: Done 585 out of 600 | elapsed:    3.0s remaining:    0.1s\n",
      "[Parallel(n_jobs=-1)]: Done 600 out of 600 | elapsed:    3.0s finished\n",
      "[Parallel(n_jobs=-1)]: Using backend LokyBackend with 8 concurrent workers.\n",
      "Best estimator LogisticRegression(C=4, multi_class='multinomial', random_state=42)\n",
      "Best results 0.4264285714285713\n",
      "Best params {'C': 4, 'class_weight': None}\n",
      "accuracy (mean, std) 0.46 0.31474857690967667\n",
      "f1 (mean, std) 0.4264285714285713 0.3418098440854673\n",
      "balanced accuracy (mean, std) 0.4869444444444444 0.2804484118842449\n",
      "precision (mean, std) 0.4814444444444445 0.4037295421564745\n",
      "recall (mean, std) 0.46 0.31474857690967667\n",
      "\n",
      "Fitting 30 folds for each of 80 candidates, totalling 2400 fits\n",
      "[Parallel(n_jobs=-1)]: Done  56 tasks      | elapsed:    0.4s\n",
      "[Parallel(n_jobs=-1)]: Done 2243 tasks      | elapsed:    7.7s\n",
      "[Parallel(n_jobs=-1)]: Done 2400 out of 2400 | elapsed:    8.0s finished\n",
      "[Parallel(n_jobs=-1)]: Using backend LokyBackend with 8 concurrent workers.\n",
      "Best estimator Pipeline(steps=[('pca', PCA(n_components=1)),\n",
      "                ('logistic',\n",
      "                 LogisticRegression(C=10, multi_class='multinomial'))])\n",
      "Best results 0.4508994708994708\n",
      "Best params {'logistic__C': 10, 'logistic__class_weight': None, 'pca__n_components': 1}\n",
      "accuracy (mean, std) 0.49333333333333335 0.32550814975289877\n",
      "f1 (mean, std) 0.4508994708994708 0.35314599095403265\n",
      "balanced accuracy (mean, std) 0.5127777777777778 0.2816102288405986\n",
      "precision (mean, std) 0.4894444444444445 0.4044136893068352\n",
      "recall (mean, std) 0.49333333333333335 0.32550814975289877\n",
      "\n",
      "Fitting 30 folds for each of 44 candidates, totalling 1320 fits\n",
      "[Parallel(n_jobs=-1)]: Done  56 tasks      | elapsed:    0.3s\n",
      "[Parallel(n_jobs=-1)]: Done 1320 out of 1320 | elapsed:    3.4s finished\n",
      "[Parallel(n_jobs=-1)]: Using backend LokyBackend with 8 concurrent workers.\n",
      "Best estimator KNeighborsClassifier(n_neighbors=12, p=1)\n",
      "Best results 0.5264550264550265\n",
      "Best params {'n_neighbors': 12, 'p': 1, 'weights': 'uniform'}\n",
      "accuracy (mean, std) 0.5266666666666667 0.255516905289824\n",
      "f1 (mean, std) 0.5264550264550265 0.27505966685389915\n",
      "balanced accuracy (mean, std) 0.5118518518518518 0.26008558789665776\n",
      "precision (mean, std) 0.6271111111111112 0.33481308586902003\n",
      "recall (mean, std) 0.5266666666666667 0.255516905289824\n",
      "\n",
      "Fitting 30 folds for each of 176 candidates, totalling 5280 fits\n",
      "[Parallel(n_jobs=-1)]: Done  56 tasks      | elapsed:    0.3s\n",
      "[Parallel(n_jobs=-1)]: Done 2160 tasks      | elapsed:    5.4s\n",
      "[Parallel(n_jobs=-1)]: Done 5280 out of 5280 | elapsed:   12.7s finished\n",
      "[Parallel(n_jobs=-1)]: Using backend LokyBackend with 8 concurrent workers.\n",
      "Best estimator Pipeline(steps=[('pca', PCA(n_components=3)),\n",
      "                ('knn', KNeighborsClassifier(n_neighbors=15, p=1))])\n",
      "Best results 0.5453703703703704\n",
      "Best params {'knn__n_neighbors': 15, 'knn__p': 1, 'knn__weights': 'uniform', 'pca__n_components': 3}\n",
      "accuracy (mean, std) 0.5333333333333333 0.30258148581093913\n",
      "f1 (mean, std) 0.5453703703703704 0.31679454548429153\n",
      "balanced accuracy (mean, std) 0.5214814814814814 0.31570185488795943\n",
      "precision (mean, std) 0.6301111111111111 0.3579618056734372\n",
      "recall (mean, std) 0.5333333333333333 0.30258148581093913\n",
      "\n",
      "Fitting 30 folds for each of 56 candidates, totalling 1680 fits\n",
      "[Parallel(n_jobs=-1)]: Done  34 tasks      | elapsed:    1.3s\n",
      "[Parallel(n_jobs=-1)]: Done 184 tasks      | elapsed:   10.5s\n",
      "[Parallel(n_jobs=-1)]: Done 434 tasks      | elapsed:   25.7s\n",
      "[Parallel(n_jobs=-1)]: Done 784 tasks      | elapsed:   47.3s\n",
      "[Parallel(n_jobs=-1)]: Done 1234 tasks      | elapsed:  1.2min\n",
      "[Parallel(n_jobs=-1)]: Done 1680 out of 1680 | elapsed:  1.7min finished\n",
      "Best estimator RandomForestClassifier(max_depth=4, n_estimators=50, n_jobs=-1, random_state=42)\n",
      "Best results 0.5214285714285715\n",
      "Best params {'class_weight': None, 'max_depth': 4, 'n_estimators': 50}\n",
      "accuracy (mean, std) 0.5133333333333333 0.2513076909996102\n",
      "f1 (mean, std) 0.5214285714285715 0.2765137529078023\n",
      "balanced accuracy (mean, std) 0.49296296296296294 0.25710153689612286\n",
      "precision (mean, std) 0.6168888888888889 0.3444694614570981\n",
      "recall (mean, std) 0.5133333333333333 0.2513076909996102\n",
      "\n",
      "f1_score (weighted) 0.49946164743978955\n",
      "accuracy 0.5333333333333333\n"
     ]
    }
   ],
   "source": [
    "best_result, y_predict, y_predict_proba,result_list = runGridSearchClassifiers(X, y, cv_loo, models_list, parameters_list, \n",
    "                                                                output_predict=True, n_jobs=-1, verbose=True)"
   ]
  },
  {
   "cell_type": "code",
   "execution_count": 179,
   "metadata": {},
   "outputs": [
    {
     "output_type": "execute_result",
     "data": {
      "text/plain": [
       "{'best_estimator': Pipeline(steps=[('pca', PCA(n_components=3)),\n",
       "                 ('knn', KNeighborsClassifier(n_neighbors=15, p=1))]),\n",
       " 'best_score': 0.5453703703703704,\n",
       " 'best_params': {'knn__n_neighbors': 15,\n",
       "  'knn__p': 1,\n",
       "  'knn__weights': 'uniform',\n",
       "  'pca__n_components': 3},\n",
       " 'mean_test_f1_score': 0.5453703703703704,\n",
       " 'std_test_f1_score': 0.31679454548429153,\n",
       " 'mean_test_accuracy_score': 0.5333333333333333,\n",
       " 'std_test_accuracy_score': 0.30258148581093913,\n",
       " 'mean_test_balanced_accuracy_score': 0.5214814814814814,\n",
       " 'std_test_balanced_accuracy_score': 0.31570185488795943,\n",
       " 'mean_test_precision': 0.6301111111111111,\n",
       " 'std_test_precision': 0.3579618056734372,\n",
       " 'mean_test_recall': 0.5333333333333333,\n",
       " 'std_test_recall': 0.30258148581093913}"
      ]
     },
     "metadata": {},
     "execution_count": 179
    }
   ],
   "source": [
    "best_result"
   ]
  },
  {
   "cell_type": "code",
   "execution_count": 180,
   "metadata": {},
   "outputs": [],
   "source": [
    "# Saving predictions\n",
    "df_ypredict = pd.concat([X.reset_index()[['video_name','diapo']],\n",
    "                        pd.DataFrame(y_predict, columns=['ypredict'])],axis=1)\n",
    "df_ypredict.to_csv('ypredict_' + features + '_tw5_diapo' + diapo_selection + '.csv')"
   ]
  },
  {
   "cell_type": "markdown",
   "metadata": {},
   "source": [
    "#### En aggrégeant les prédictions des diapos"
   ]
  },
  {
   "cell_type": "code",
   "execution_count": 193,
   "metadata": {},
   "outputs": [
    {
     "output_type": "execute_result",
     "data": {
      "text/plain": [
       "                     video_name  diapo  frameTimeWindow  ypredict\n",
       "0                Test_pour_AFPA      8              170         1\n",
       "1                Test_pour_AFPA      8              175         1\n",
       "2                Test_pour_AFPA      8              180         1\n",
       "3                Test_pour_AFPA      8              185         1\n",
       "4                Test_pour_AFPA      8              190         1\n",
       "...                         ...    ...              ...       ...\n",
       "2162  WIN_20210417_14_53_12_Pro     17              490         1\n",
       "2163  WIN_20210417_14_53_12_Pro     17              495         0\n",
       "2164  WIN_20210417_14_53_12_Pro     17              500         1\n",
       "2165  WIN_20210417_14_53_12_Pro     17              505         0\n",
       "2166  WIN_20210417_14_53_12_Pro     17              510         0\n",
       "\n",
       "[2167 rows x 4 columns]"
      ],
      "text/html": "<div>\n<style scoped>\n    .dataframe tbody tr th:only-of-type {\n        vertical-align: middle;\n    }\n\n    .dataframe tbody tr th {\n        vertical-align: top;\n    }\n\n    .dataframe thead th {\n        text-align: right;\n    }\n</style>\n<table border=\"1\" class=\"dataframe\">\n  <thead>\n    <tr style=\"text-align: right;\">\n      <th></th>\n      <th>video_name</th>\n      <th>diapo</th>\n      <th>frameTimeWindow</th>\n      <th>ypredict</th>\n    </tr>\n  </thead>\n  <tbody>\n    <tr>\n      <th>0</th>\n      <td>Test_pour_AFPA</td>\n      <td>8</td>\n      <td>170</td>\n      <td>1</td>\n    </tr>\n    <tr>\n      <th>1</th>\n      <td>Test_pour_AFPA</td>\n      <td>8</td>\n      <td>175</td>\n      <td>1</td>\n    </tr>\n    <tr>\n      <th>2</th>\n      <td>Test_pour_AFPA</td>\n      <td>8</td>\n      <td>180</td>\n      <td>1</td>\n    </tr>\n    <tr>\n      <th>3</th>\n      <td>Test_pour_AFPA</td>\n      <td>8</td>\n      <td>185</td>\n      <td>1</td>\n    </tr>\n    <tr>\n      <th>4</th>\n      <td>Test_pour_AFPA</td>\n      <td>8</td>\n      <td>190</td>\n      <td>1</td>\n    </tr>\n    <tr>\n      <th>...</th>\n      <td>...</td>\n      <td>...</td>\n      <td>...</td>\n      <td>...</td>\n    </tr>\n    <tr>\n      <th>2162</th>\n      <td>WIN_20210417_14_53_12_Pro</td>\n      <td>17</td>\n      <td>490</td>\n      <td>1</td>\n    </tr>\n    <tr>\n      <th>2163</th>\n      <td>WIN_20210417_14_53_12_Pro</td>\n      <td>17</td>\n      <td>495</td>\n      <td>0</td>\n    </tr>\n    <tr>\n      <th>2164</th>\n      <td>WIN_20210417_14_53_12_Pro</td>\n      <td>17</td>\n      <td>500</td>\n      <td>1</td>\n    </tr>\n    <tr>\n      <th>2165</th>\n      <td>WIN_20210417_14_53_12_Pro</td>\n      <td>17</td>\n      <td>505</td>\n      <td>0</td>\n    </tr>\n    <tr>\n      <th>2166</th>\n      <td>WIN_20210417_14_53_12_Pro</td>\n      <td>17</td>\n      <td>510</td>\n      <td>0</td>\n    </tr>\n  </tbody>\n</table>\n<p>2167 rows × 4 columns</p>\n</div>"
     },
     "metadata": {},
     "execution_count": 193
    }
   ],
   "source": [
    "df_ypredict = pd.read_csv('ypredict_' + features + '_tw5' + diapo_selection + '.csv')\n",
    "df_ypredict = df_ypredict.iloc[:,1:]\n",
    "df_ypredict.columns = ['video_name','diapo','frameTimeWindow','ypredict']\n",
    "df_ypredict['ypredict'] = df_ypredict['ypredict'].astype(int)\n",
    "df_ypredict"
   ]
  },
  {
   "cell_type": "code",
   "execution_count": 194,
   "metadata": {},
   "outputs": [],
   "source": [
    "# Autre méthode\n",
    "X = df_ypredict.groupby(['video_name','diapo']).agg({'ypredict':['mean','min','max', 'median', 'std', percentil25, percentil75, kurtosis, skew]})"
   ]
  },
  {
   "cell_type": "code",
   "execution_count": 195,
   "metadata": {},
   "outputs": [],
   "source": [
    "Xy = X.merge(df_annotations_stress, how='inner', on=['video_name','diapo'])\n",
    "X = Xy.iloc[:,:-1].set_index(['video_name','diapo'])\n",
    "y = Xy.iloc[:,-1]"
   ]
  },
  {
   "cell_type": "code",
   "execution_count": 196,
   "metadata": {},
   "outputs": [
    {
     "output_type": "execute_result",
     "data": {
      "text/plain": [
       "Empty DataFrame\n",
       "Columns: [video_name, diapo, (ypredict, mean), (ypredict, min), (ypredict, max), (ypredict, median), (ypredict, std), (ypredict, percentil25), (ypredict, percentil75), (ypredict, kurtosis), (ypredict, skew), stress]\n",
       "Index: []"
      ],
      "text/html": "<div>\n<style scoped>\n    .dataframe tbody tr th:only-of-type {\n        vertical-align: middle;\n    }\n\n    .dataframe tbody tr th {\n        vertical-align: top;\n    }\n\n    .dataframe thead th {\n        text-align: right;\n    }\n</style>\n<table border=\"1\" class=\"dataframe\">\n  <thead>\n    <tr style=\"text-align: right;\">\n      <th></th>\n      <th>video_name</th>\n      <th>diapo</th>\n      <th>(ypredict, mean)</th>\n      <th>(ypredict, min)</th>\n      <th>(ypredict, max)</th>\n      <th>(ypredict, median)</th>\n      <th>(ypredict, std)</th>\n      <th>(ypredict, percentil25)</th>\n      <th>(ypredict, percentil75)</th>\n      <th>(ypredict, kurtosis)</th>\n      <th>(ypredict, skew)</th>\n      <th>stress</th>\n    </tr>\n  </thead>\n  <tbody>\n  </tbody>\n</table>\n</div>"
     },
     "metadata": {},
     "execution_count": 196
    }
   ],
   "source": [
    "Xy[Xy.isna().any(axis=1)]"
   ]
  },
  {
   "cell_type": "code",
   "execution_count": 197,
   "metadata": {},
   "outputs": [],
   "source": [
    "groups = X.reset_index()['video_name']\n",
    "loo = LeaveOneGroupOut()\n",
    "cv_loo = loo.split(X, y, groups)"
   ]
  },
  {
   "cell_type": "code",
   "execution_count": 198,
   "metadata": {},
   "outputs": [
    {
     "output_type": "stream",
     "name": "stdout",
     "text": [
      "Fitting 30 folds for each of 20 candidates, totalling 600 fits\n",
      "[Parallel(n_jobs=-1)]: Using backend LokyBackend with 8 concurrent workers.\n",
      "[Parallel(n_jobs=-1)]: Done  56 tasks      | elapsed:    0.4s\n",
      "[Parallel(n_jobs=-1)]: Done 600 out of 600 | elapsed:    5.3s finished\n",
      "[Parallel(n_jobs=-1)]: Using backend LokyBackend with 8 concurrent workers.\n",
      "Best estimator LogisticRegression(C=0.01, multi_class='multinomial', random_state=42)\n",
      "Best results 0.5155820105820106\n",
      "Best params {'C': 0.01, 'class_weight': None}\n",
      "accuracy (mean, std) 0.5133333333333333 0.28604583937233247\n",
      "f1 (mean, std) 0.5155820105820106 0.29546255643146463\n",
      "balanced accuracy (mean, std) 0.502962962962963 0.2901919803501358\n",
      "precision (mean, std) 0.6372222222222224 0.3567228235472272\n",
      "recall (mean, std) 0.5133333333333333 0.28604583937233247\n",
      "\n",
      "Fitting 30 folds for each of 80 candidates, totalling 2400 fits\n",
      "[Parallel(n_jobs=-1)]: Done  56 tasks      | elapsed:    0.5s\n",
      "[Parallel(n_jobs=-1)]: Done 1200 tasks      | elapsed:    6.6s\n",
      "[Parallel(n_jobs=-1)]: Done 2400 out of 2400 | elapsed:   14.8s finished\n",
      "[Parallel(n_jobs=-1)]: Using backend LokyBackend with 8 concurrent workers.\n",
      "Best estimator Pipeline(steps=[('pca', PCA(n_components=2)),\n",
      "                ('logistic',\n",
      "                 LogisticRegression(C=0.5, multi_class='multinomial'))])\n",
      "Best results 0.5328306878306878\n",
      "Best params {'logistic__C': 0.5, 'logistic__class_weight': None, 'pca__n_components': 2}\n",
      "accuracy (mean, std) 0.5399999999999999 0.2973213749463701\n",
      "f1 (mean, std) 0.5328306878306878 0.31099281598143175\n",
      "balanced accuracy (mean, std) 0.5296296296296297 0.28950729158224436\n",
      "precision (mean, std) 0.6267777777777778 0.3520453288715061\n",
      "recall (mean, std) 0.5399999999999999 0.2973213749463701\n",
      "\n",
      "Fitting 30 folds for each of 44 candidates, totalling 1320 fits\n",
      "[Parallel(n_jobs=-1)]: Done  56 tasks      | elapsed:    0.3s\n",
      "[Parallel(n_jobs=-1)]: Done 1200 tasks      | elapsed:    3.2s\n",
      "[Parallel(n_jobs=-1)]: Done 1320 out of 1320 | elapsed:    3.5s finished\n",
      "[Parallel(n_jobs=-1)]: Using backend LokyBackend with 8 concurrent workers.\n",
      "Best estimator KNeighborsClassifier(n_neighbors=15, p=1)\n",
      "Best results 0.5264814814814814\n",
      "Best params {'n_neighbors': 15, 'p': 1, 'weights': 'uniform'}\n",
      "accuracy (mean, std) 0.52 0.25612496949731395\n",
      "f1 (mean, std) 0.5264814814814814 0.2721144127096586\n",
      "balanced accuracy (mean, std) 0.507962962962963 0.2469898339044063\n",
      "precision (mean, std) 0.6442222222222223 0.32433628334085296\n",
      "recall (mean, std) 0.52 0.25612496949731395\n",
      "\n",
      "Fitting 30 folds for each of 176 candidates, totalling 5280 fits\n",
      "[Parallel(n_jobs=-1)]: Done  56 tasks      | elapsed:    0.4s\n",
      "[Parallel(n_jobs=-1)]: Done 2160 tasks      | elapsed:    6.7s\n",
      "[Parallel(n_jobs=-1)]: Done 5280 out of 5280 | elapsed:   15.4s finished\n",
      "[Parallel(n_jobs=-1)]: Using backend LokyBackend with 8 concurrent workers.\n",
      "Best estimator Pipeline(steps=[('pca', PCA(n_components=3)),\n",
      "                ('knn', KNeighborsClassifier(n_neighbors=15, p=1))])\n",
      "Best results 0.5205026455026455\n",
      "Best params {'knn__n_neighbors': 15, 'knn__p': 1, 'knn__weights': 'uniform', 'pca__n_components': 3}\n",
      "accuracy (mean, std) 0.5266666666666667 0.27071920672329275\n",
      "f1 (mean, std) 0.5205026455026455 0.29050402354100646\n",
      "balanced accuracy (mean, std) 0.5062962962962962 0.263602118385946\n",
      "precision (mean, std) 0.6078888888888889 0.3468028400641252\n",
      "recall (mean, std) 0.5266666666666667 0.27071920672329275\n",
      "\n",
      "Fitting 30 folds for each of 56 candidates, totalling 1680 fits\n",
      "[Parallel(n_jobs=-1)]: Done  52 tasks      | elapsed:    2.4s\n",
      "[Parallel(n_jobs=-1)]: Done 232 tasks      | elapsed:   14.6s\n",
      "[Parallel(n_jobs=-1)]: Done 482 tasks      | elapsed:   30.9s\n",
      "[Parallel(n_jobs=-1)]: Done 832 tasks      | elapsed:   53.5s\n",
      "[Parallel(n_jobs=-1)]: Done 1282 tasks      | elapsed:  1.3min\n",
      "[Parallel(n_jobs=-1)]: Done 1680 out of 1680 | elapsed:  1.8min finished\n",
      "Best estimator RandomForestClassifier(max_depth=4, n_estimators=50, n_jobs=-1, random_state=42)\n",
      "Best results 0.5087037037037037\n",
      "Best params {'class_weight': None, 'max_depth': 4, 'n_estimators': 50}\n",
      "accuracy (mean, std) 0.5066666666666667 0.26195843605851327\n",
      "f1 (mean, std) 0.5087037037037037 0.2949477638388228\n",
      "balanced accuracy (mean, std) 0.48379629629629634 0.26392990259579335\n",
      "precision (mean, std) 0.5754444444444445 0.35214736323320495\n",
      "recall (mean, std) 0.5066666666666667 0.26195843605851327\n",
      "\n",
      "f1_score (weighted) 0.4921885521885522\n",
      "accuracy 0.54\n"
     ]
    },
    {
     "output_type": "execute_result",
     "data": {
      "text/plain": [
       "{'best_estimator': Pipeline(steps=[('pca', PCA(n_components=2)),\n",
       "                 ('logistic',\n",
       "                  LogisticRegression(C=0.5, multi_class='multinomial'))]),\n",
       " 'best_score': 0.5328306878306878,\n",
       " 'best_params': {'logistic__C': 0.5,\n",
       "  'logistic__class_weight': None,\n",
       "  'pca__n_components': 2},\n",
       " 'mean_test_f1_score': 0.5328306878306878,\n",
       " 'std_test_f1_score': 0.31099281598143175,\n",
       " 'mean_test_accuracy_score': 0.5399999999999999,\n",
       " 'std_test_accuracy_score': 0.2973213749463701,\n",
       " 'mean_test_balanced_accuracy_score': 0.5296296296296297,\n",
       " 'std_test_balanced_accuracy_score': 0.28950729158224436,\n",
       " 'mean_test_precision': 0.6267777777777778,\n",
       " 'std_test_precision': 0.3520453288715061,\n",
       " 'mean_test_recall': 0.5399999999999999,\n",
       " 'std_test_recall': 0.2973213749463701}"
      ]
     },
     "metadata": {},
     "execution_count": 198
    }
   ],
   "source": [
    "best_result, y_predict,y_predict_proba, result_list = runGridSearchClassifiers(X, y, cv_loo, models_list, parameters_list, \n",
    "                                                                output_predict=True, n_jobs=-1, verbose=True)\n",
    "best_result"
   ]
  },
  {
   "cell_type": "code",
   "execution_count": 199,
   "metadata": {},
   "outputs": [
    {
     "output_type": "execute_result",
     "data": {
      "text/plain": [
       "{'best_estimator': Pipeline(steps=[('pca', PCA(n_components=2)),\n",
       "                 ('logistic',\n",
       "                  LogisticRegression(C=0.5, multi_class='multinomial'))]),\n",
       " 'best_score': 0.5328306878306878,\n",
       " 'best_params': {'logistic__C': 0.5,\n",
       "  'logistic__class_weight': None,\n",
       "  'pca__n_components': 2},\n",
       " 'mean_test_f1_score': 0.5328306878306878,\n",
       " 'std_test_f1_score': 0.31099281598143175,\n",
       " 'mean_test_accuracy_score': 0.5399999999999999,\n",
       " 'std_test_accuracy_score': 0.2973213749463701,\n",
       " 'mean_test_balanced_accuracy_score': 0.5296296296296297,\n",
       " 'std_test_balanced_accuracy_score': 0.28950729158224436,\n",
       " 'mean_test_precision': 0.6267777777777778,\n",
       " 'std_test_precision': 0.3520453288715061,\n",
       " 'mean_test_recall': 0.5399999999999999,\n",
       " 'std_test_recall': 0.2973213749463701}"
      ]
     },
     "metadata": {},
     "execution_count": 199
    }
   ],
   "source": [
    "best_result"
   ]
  },
  {
   "cell_type": "code",
   "execution_count": 200,
   "metadata": {},
   "outputs": [
    {
     "output_type": "execute_result",
     "data": {
      "text/plain": [
       "array([[56, 12,  0,  0],\n",
       "       [41, 25,  0,  0],\n",
       "       [11,  4,  0,  0],\n",
       "       [ 0,  1,  0,  0]])"
      ]
     },
     "metadata": {},
     "execution_count": 200
    }
   ],
   "source": [
    "from sklearn.metrics import confusion_matrix\n",
    "confusion_matrix(y, y_predict)"
   ]
  },
  {
   "cell_type": "code",
   "execution_count": null,
   "metadata": {},
   "outputs": [],
   "source": [
    "df_ypredict"
   ]
  },
  {
   "cell_type": "markdown",
   "metadata": {},
   "source": [
    "## Stress global"
   ]
  },
  {
   "cell_type": "markdown",
   "metadata": {},
   "source": [
    "### En utilisant le stress prédit des diapos"
   ]
  },
  {
   "cell_type": "code",
   "execution_count": 201,
   "metadata": {},
   "outputs": [],
   "source": [
    "df_ypredict = pd.read_csv('ypredict_' + features + '_tw5_diapo' + diapo_selection + '.csv')\n",
    "df_ypredict = df_ypredict.iloc[:,1:]\n",
    "df_ypredict.columns = ['video_name','diapo','ypredict']\n",
    "ypredict_stress_diapo = df_ypredict.pivot_table(values='ypredict', columns='diapo',index='video_name',aggfunc='mean')\n"
   ]
  },
  {
   "cell_type": "code",
   "execution_count": 202,
   "metadata": {},
   "outputs": [
    {
     "output_type": "execute_result",
     "data": {
      "text/plain": [
       "diapo                             8    9    10   11   17\n",
       "video_name                                              \n",
       "Test_pour_AFPA                   0.0  1.0  0.0  0.0  0.0\n",
       "Video_1                          0.0  0.0  0.0  0.0  1.0\n",
       "WIN_20210323_19_17_40_Pro        0.0  0.0  1.0  1.0  0.0\n",
       "WIN_20210329_10_16_02_Pro        0.0  1.0  1.0  0.0  0.0\n",
       "WIN_20210330_13_10_29_Pro        0.0  0.0  0.0  0.0  0.0\n",
       "WIN_20210331_21_22_52_Pro        1.0  1.0  0.0  0.0  1.0\n",
       "WIN_20210402_14_27_50_Pro        0.0  0.0  0.0  0.0  0.0\n",
       "WIN_20210402_19_04_53_Pro        1.0  1.0  1.0  0.0  0.0\n",
       "WIN_20210403_18_49_15_Pro        1.0  0.0  0.0  0.0  1.0\n",
       "WIN_20210404_10_58_27_Pro        1.0  1.0  1.0  1.0  1.0\n",
       "WIN_20210404_21_41_12_Pro        0.0  1.0  1.0  1.0  0.0\n",
       "WIN_20210405_15_09_16_Pro        0.0  1.0  1.0  0.0  1.0\n",
       "WIN_20210406_15_06_15_Pro        0.0  1.0  0.0  0.0  0.0\n",
       "WIN_20210406_18_35_52_Pro        1.0  0.0  0.0  0.0  0.0\n",
       "WIN_20210406_18_49_10_Pro        1.0  1.0  1.0  0.0  0.0\n",
       "WIN_20210406_21_05_52_Pro        0.0  0.0  0.0  0.0  0.0\n",
       "WIN_20210407_09_04_05_Pro        0.0  1.0  1.0  1.0  0.0\n",
       "WIN_20210407_14_54_56_Pro_edit2  0.0  0.0  0.0  0.0  0.0\n",
       "WIN_20210408_11_48_58_Pro        1.0  0.0  1.0  1.0  1.0\n",
       "WIN_20210408_14_00_44_Pro        0.0  0.0  0.0  0.0  1.0\n",
       "WIN_20210408_14_02_19_Pro        1.0  0.0  1.0  0.0  0.0\n",
       "WIN_20210408_14_11_32_Pro        0.0  0.0  0.0  0.0  0.0\n",
       "WIN_20210408_15_20_51_Pro        0.0  0.0  0.0  0.0  1.0\n",
       "WIN_20210408_16_04_32_Pro        1.0  1.0  1.0  1.0  1.0\n",
       "WIN_20210409_10_26_11_Pro        1.0  0.0  0.0  0.0  0.0\n",
       "WIN_20210413_15_38_01_Pro        0.0  0.0  1.0  1.0  1.0\n",
       "WIN_20210414_06_24_52_Pro        0.0  0.0  0.0  0.0  0.0\n",
       "WIN_20210415_15_41_24_Pro        0.0  1.0  1.0  0.0  0.0\n",
       "WIN_20210416_08_06_54_Pro        1.0  1.0  0.0  0.0  1.0\n",
       "WIN_20210417_14_53_12_Pro        1.0  0.0  0.0  0.0  0.0"
      ],
      "text/html": "<div>\n<style scoped>\n    .dataframe tbody tr th:only-of-type {\n        vertical-align: middle;\n    }\n\n    .dataframe tbody tr th {\n        vertical-align: top;\n    }\n\n    .dataframe thead th {\n        text-align: right;\n    }\n</style>\n<table border=\"1\" class=\"dataframe\">\n  <thead>\n    <tr style=\"text-align: right;\">\n      <th>diapo</th>\n      <th>8</th>\n      <th>9</th>\n      <th>10</th>\n      <th>11</th>\n      <th>17</th>\n    </tr>\n    <tr>\n      <th>video_name</th>\n      <th></th>\n      <th></th>\n      <th></th>\n      <th></th>\n      <th></th>\n    </tr>\n  </thead>\n  <tbody>\n    <tr>\n      <th>Test_pour_AFPA</th>\n      <td>0.0</td>\n      <td>1.0</td>\n      <td>0.0</td>\n      <td>0.0</td>\n      <td>0.0</td>\n    </tr>\n    <tr>\n      <th>Video_1</th>\n      <td>0.0</td>\n      <td>0.0</td>\n      <td>0.0</td>\n      <td>0.0</td>\n      <td>1.0</td>\n    </tr>\n    <tr>\n      <th>WIN_20210323_19_17_40_Pro</th>\n      <td>0.0</td>\n      <td>0.0</td>\n      <td>1.0</td>\n      <td>1.0</td>\n      <td>0.0</td>\n    </tr>\n    <tr>\n      <th>WIN_20210329_10_16_02_Pro</th>\n      <td>0.0</td>\n      <td>1.0</td>\n      <td>1.0</td>\n      <td>0.0</td>\n      <td>0.0</td>\n    </tr>\n    <tr>\n      <th>WIN_20210330_13_10_29_Pro</th>\n      <td>0.0</td>\n      <td>0.0</td>\n      <td>0.0</td>\n      <td>0.0</td>\n      <td>0.0</td>\n    </tr>\n    <tr>\n      <th>WIN_20210331_21_22_52_Pro</th>\n      <td>1.0</td>\n      <td>1.0</td>\n      <td>0.0</td>\n      <td>0.0</td>\n      <td>1.0</td>\n    </tr>\n    <tr>\n      <th>WIN_20210402_14_27_50_Pro</th>\n      <td>0.0</td>\n      <td>0.0</td>\n      <td>0.0</td>\n      <td>0.0</td>\n      <td>0.0</td>\n    </tr>\n    <tr>\n      <th>WIN_20210402_19_04_53_Pro</th>\n      <td>1.0</td>\n      <td>1.0</td>\n      <td>1.0</td>\n      <td>0.0</td>\n      <td>0.0</td>\n    </tr>\n    <tr>\n      <th>WIN_20210403_18_49_15_Pro</th>\n      <td>1.0</td>\n      <td>0.0</td>\n      <td>0.0</td>\n      <td>0.0</td>\n      <td>1.0</td>\n    </tr>\n    <tr>\n      <th>WIN_20210404_10_58_27_Pro</th>\n      <td>1.0</td>\n      <td>1.0</td>\n      <td>1.0</td>\n      <td>1.0</td>\n      <td>1.0</td>\n    </tr>\n    <tr>\n      <th>WIN_20210404_21_41_12_Pro</th>\n      <td>0.0</td>\n      <td>1.0</td>\n      <td>1.0</td>\n      <td>1.0</td>\n      <td>0.0</td>\n    </tr>\n    <tr>\n      <th>WIN_20210405_15_09_16_Pro</th>\n      <td>0.0</td>\n      <td>1.0</td>\n      <td>1.0</td>\n      <td>0.0</td>\n      <td>1.0</td>\n    </tr>\n    <tr>\n      <th>WIN_20210406_15_06_15_Pro</th>\n      <td>0.0</td>\n      <td>1.0</td>\n      <td>0.0</td>\n      <td>0.0</td>\n      <td>0.0</td>\n    </tr>\n    <tr>\n      <th>WIN_20210406_18_35_52_Pro</th>\n      <td>1.0</td>\n      <td>0.0</td>\n      <td>0.0</td>\n      <td>0.0</td>\n      <td>0.0</td>\n    </tr>\n    <tr>\n      <th>WIN_20210406_18_49_10_Pro</th>\n      <td>1.0</td>\n      <td>1.0</td>\n      <td>1.0</td>\n      <td>0.0</td>\n      <td>0.0</td>\n    </tr>\n    <tr>\n      <th>WIN_20210406_21_05_52_Pro</th>\n      <td>0.0</td>\n      <td>0.0</td>\n      <td>0.0</td>\n      <td>0.0</td>\n      <td>0.0</td>\n    </tr>\n    <tr>\n      <th>WIN_20210407_09_04_05_Pro</th>\n      <td>0.0</td>\n      <td>1.0</td>\n      <td>1.0</td>\n      <td>1.0</td>\n      <td>0.0</td>\n    </tr>\n    <tr>\n      <th>WIN_20210407_14_54_56_Pro_edit2</th>\n      <td>0.0</td>\n      <td>0.0</td>\n      <td>0.0</td>\n      <td>0.0</td>\n      <td>0.0</td>\n    </tr>\n    <tr>\n      <th>WIN_20210408_11_48_58_Pro</th>\n      <td>1.0</td>\n      <td>0.0</td>\n      <td>1.0</td>\n      <td>1.0</td>\n      <td>1.0</td>\n    </tr>\n    <tr>\n      <th>WIN_20210408_14_00_44_Pro</th>\n      <td>0.0</td>\n      <td>0.0</td>\n      <td>0.0</td>\n      <td>0.0</td>\n      <td>1.0</td>\n    </tr>\n    <tr>\n      <th>WIN_20210408_14_02_19_Pro</th>\n      <td>1.0</td>\n      <td>0.0</td>\n      <td>1.0</td>\n      <td>0.0</td>\n      <td>0.0</td>\n    </tr>\n    <tr>\n      <th>WIN_20210408_14_11_32_Pro</th>\n      <td>0.0</td>\n      <td>0.0</td>\n      <td>0.0</td>\n      <td>0.0</td>\n      <td>0.0</td>\n    </tr>\n    <tr>\n      <th>WIN_20210408_15_20_51_Pro</th>\n      <td>0.0</td>\n      <td>0.0</td>\n      <td>0.0</td>\n      <td>0.0</td>\n      <td>1.0</td>\n    </tr>\n    <tr>\n      <th>WIN_20210408_16_04_32_Pro</th>\n      <td>1.0</td>\n      <td>1.0</td>\n      <td>1.0</td>\n      <td>1.0</td>\n      <td>1.0</td>\n    </tr>\n    <tr>\n      <th>WIN_20210409_10_26_11_Pro</th>\n      <td>1.0</td>\n      <td>0.0</td>\n      <td>0.0</td>\n      <td>0.0</td>\n      <td>0.0</td>\n    </tr>\n    <tr>\n      <th>WIN_20210413_15_38_01_Pro</th>\n      <td>0.0</td>\n      <td>0.0</td>\n      <td>1.0</td>\n      <td>1.0</td>\n      <td>1.0</td>\n    </tr>\n    <tr>\n      <th>WIN_20210414_06_24_52_Pro</th>\n      <td>0.0</td>\n      <td>0.0</td>\n      <td>0.0</td>\n      <td>0.0</td>\n      <td>0.0</td>\n    </tr>\n    <tr>\n      <th>WIN_20210415_15_41_24_Pro</th>\n      <td>0.0</td>\n      <td>1.0</td>\n      <td>1.0</td>\n      <td>0.0</td>\n      <td>0.0</td>\n    </tr>\n    <tr>\n      <th>WIN_20210416_08_06_54_Pro</th>\n      <td>1.0</td>\n      <td>1.0</td>\n      <td>0.0</td>\n      <td>0.0</td>\n      <td>1.0</td>\n    </tr>\n    <tr>\n      <th>WIN_20210417_14_53_12_Pro</th>\n      <td>1.0</td>\n      <td>0.0</td>\n      <td>0.0</td>\n      <td>0.0</td>\n      <td>0.0</td>\n    </tr>\n  </tbody>\n</table>\n</div>"
     },
     "metadata": {},
     "execution_count": 202
    }
   ],
   "source": [
    "ypredict_stress_diapo"
   ]
  },
  {
   "cell_type": "code",
   "execution_count": 203,
   "metadata": {},
   "outputs": [
    {
     "output_type": "execute_result",
     "data": {
      "text/plain": [
       "                         video_name    1    8    9   10   11   12   17   18  \\\n",
       "0                    Test_pour_AFPA  1.0  1.0  0.0  0.0  0.0  1.0  0.0  1.0   \n",
       "1                           Video_1  0.0  0.0  0.0  0.0  1.0  1.0  1.0  1.0   \n",
       "2         WIN_20210323_19_17_40_Pro  1.0  0.0  1.0  1.0  1.0  1.0  1.0  1.0   \n",
       "3         WIN_20210329_10_16_02_Pro  0.0  0.0  1.0  1.0  0.0  1.0  0.0  0.0   \n",
       "4         WIN_20210330_13_10_29_Pro  0.0  0.0  0.0  0.0  1.0  0.0  0.0  0.0   \n",
       "5         WIN_20210331_21_22_52_Pro  0.0  0.0  1.0  1.0  1.0  1.0  0.0  0.0   \n",
       "6         WIN_20210402_14_27_50_Pro  1.0  1.0  1.0  2.0  1.0  1.0  1.0  1.0   \n",
       "7         WIN_20210402_19_04_53_Pro  2.0  1.0  1.0  1.0  1.0  2.0  1.0  2.0   \n",
       "8         WIN_20210403_18_49_15_Pro  1.0  1.0  1.0  1.0  1.0  2.0  2.0  1.0   \n",
       "9         WIN_20210404_10_58_27_Pro  0.0  1.0  1.0  1.0  1.0  1.0  1.0  1.0   \n",
       "10        WIN_20210404_21_41_12_Pro  0.0  0.0  1.0  0.0  0.0  1.0  0.0  1.0   \n",
       "11        WIN_20210405_15_09_16_Pro  0.0  1.0  1.0  1.0  1.0  0.0  0.0  1.0   \n",
       "12        WIN_20210406_15_06_15_Pro  1.0  1.0  1.0  1.0  1.0  2.0  1.0  2.0   \n",
       "13        WIN_20210406_18_35_52_Pro  0.0  0.0  1.0  0.0  0.0  1.0  0.0  1.0   \n",
       "14        WIN_20210406_18_49_10_Pro  1.0  0.0  1.0  1.0  1.0  1.0  1.0  1.0   \n",
       "15        WIN_20210406_21_05_52_Pro  1.0  2.0  2.0  1.0  2.0  1.0  1.0  1.0   \n",
       "16        WIN_20210407_09_04_05_Pro  0.0  0.0  2.0  1.0  3.0  1.0  0.0  2.0   \n",
       "17  WIN_20210407_14_54_56_Pro_edit2  0.0  0.0  0.0  0.0  0.0  1.0  0.0  1.0   \n",
       "18        WIN_20210408_11_48_58_Pro  0.0  1.0  1.0  1.0  1.0  1.0  1.0  2.0   \n",
       "19        WIN_20210408_14_00_44_Pro  0.0  0.0  0.0  0.0  0.0  1.0  0.0  0.0   \n",
       "20        WIN_20210408_14_02_19_Pro  0.0  1.0  0.0  0.0  0.0  0.0  0.0  1.0   \n",
       "21        WIN_20210408_14_11_32_Pro  0.0  2.0  2.0  2.0  2.0  1.0  0.0  1.0   \n",
       "22        WIN_20210408_15_20_51_Pro  0.0  0.0  0.0  0.0  0.0  0.0  0.0  0.0   \n",
       "23        WIN_20210408_16_04_32_Pro  0.0  0.0  1.0  0.0  0.0  0.0  0.0  0.0   \n",
       "24        WIN_20210409_10_26_11_Pro  1.0  1.0  0.0  1.0  0.0  0.0  1.0  1.0   \n",
       "25        WIN_20210413_15_38_01_Pro  1.0  0.0  0.0  0.0  0.0  1.0  1.0  1.0   \n",
       "26        WIN_20210414_06_24_52_Pro  2.0  2.0  2.0  2.0  2.0  1.0  1.0  2.0   \n",
       "27        WIN_20210415_15_41_24_Pro  1.0  0.0  0.0  1.0  0.0  0.0  0.0  0.0   \n",
       "28        WIN_20210416_08_06_54_Pro  1.0  2.0  1.0  1.0  1.0  0.0  0.0  1.0   \n",
       "29        WIN_20210417_14_53_12_Pro  0.0  0.0  0.0  0.0  0.0  0.0  1.0  1.0   \n",
       "\n",
       "    stress_global  \n",
       "0             1.0  \n",
       "1             0.0  \n",
       "2             1.0  \n",
       "3             1.0  \n",
       "4             0.0  \n",
       "5             1.0  \n",
       "6             1.0  \n",
       "7             2.0  \n",
       "8             2.0  \n",
       "9             1.0  \n",
       "10            0.0  \n",
       "11            1.0  \n",
       "12            2.0  \n",
       "13            0.0  \n",
       "14            1.0  \n",
       "15            2.0  \n",
       "16            2.0  \n",
       "17            0.0  \n",
       "18            2.0  \n",
       "19            0.0  \n",
       "20            0.0  \n",
       "21            2.0  \n",
       "22            0.0  \n",
       "23            0.0  \n",
       "24            0.0  \n",
       "25            1.0  \n",
       "26            2.0  \n",
       "27            0.0  \n",
       "28            1.0  \n",
       "29            0.0  "
      ],
      "text/html": "<div>\n<style scoped>\n    .dataframe tbody tr th:only-of-type {\n        vertical-align: middle;\n    }\n\n    .dataframe tbody tr th {\n        vertical-align: top;\n    }\n\n    .dataframe thead th {\n        text-align: right;\n    }\n</style>\n<table border=\"1\" class=\"dataframe\">\n  <thead>\n    <tr style=\"text-align: right;\">\n      <th></th>\n      <th>video_name</th>\n      <th>1</th>\n      <th>8</th>\n      <th>9</th>\n      <th>10</th>\n      <th>11</th>\n      <th>12</th>\n      <th>17</th>\n      <th>18</th>\n      <th>stress_global</th>\n    </tr>\n  </thead>\n  <tbody>\n    <tr>\n      <th>0</th>\n      <td>Test_pour_AFPA</td>\n      <td>1.0</td>\n      <td>1.0</td>\n      <td>0.0</td>\n      <td>0.0</td>\n      <td>0.0</td>\n      <td>1.0</td>\n      <td>0.0</td>\n      <td>1.0</td>\n      <td>1.0</td>\n    </tr>\n    <tr>\n      <th>1</th>\n      <td>Video_1</td>\n      <td>0.0</td>\n      <td>0.0</td>\n      <td>0.0</td>\n      <td>0.0</td>\n      <td>1.0</td>\n      <td>1.0</td>\n      <td>1.0</td>\n      <td>1.0</td>\n      <td>0.0</td>\n    </tr>\n    <tr>\n      <th>2</th>\n      <td>WIN_20210323_19_17_40_Pro</td>\n      <td>1.0</td>\n      <td>0.0</td>\n      <td>1.0</td>\n      <td>1.0</td>\n      <td>1.0</td>\n      <td>1.0</td>\n      <td>1.0</td>\n      <td>1.0</td>\n      <td>1.0</td>\n    </tr>\n    <tr>\n      <th>3</th>\n      <td>WIN_20210329_10_16_02_Pro</td>\n      <td>0.0</td>\n      <td>0.0</td>\n      <td>1.0</td>\n      <td>1.0</td>\n      <td>0.0</td>\n      <td>1.0</td>\n      <td>0.0</td>\n      <td>0.0</td>\n      <td>1.0</td>\n    </tr>\n    <tr>\n      <th>4</th>\n      <td>WIN_20210330_13_10_29_Pro</td>\n      <td>0.0</td>\n      <td>0.0</td>\n      <td>0.0</td>\n      <td>0.0</td>\n      <td>1.0</td>\n      <td>0.0</td>\n      <td>0.0</td>\n      <td>0.0</td>\n      <td>0.0</td>\n    </tr>\n    <tr>\n      <th>5</th>\n      <td>WIN_20210331_21_22_52_Pro</td>\n      <td>0.0</td>\n      <td>0.0</td>\n      <td>1.0</td>\n      <td>1.0</td>\n      <td>1.0</td>\n      <td>1.0</td>\n      <td>0.0</td>\n      <td>0.0</td>\n      <td>1.0</td>\n    </tr>\n    <tr>\n      <th>6</th>\n      <td>WIN_20210402_14_27_50_Pro</td>\n      <td>1.0</td>\n      <td>1.0</td>\n      <td>1.0</td>\n      <td>2.0</td>\n      <td>1.0</td>\n      <td>1.0</td>\n      <td>1.0</td>\n      <td>1.0</td>\n      <td>1.0</td>\n    </tr>\n    <tr>\n      <th>7</th>\n      <td>WIN_20210402_19_04_53_Pro</td>\n      <td>2.0</td>\n      <td>1.0</td>\n      <td>1.0</td>\n      <td>1.0</td>\n      <td>1.0</td>\n      <td>2.0</td>\n      <td>1.0</td>\n      <td>2.0</td>\n      <td>2.0</td>\n    </tr>\n    <tr>\n      <th>8</th>\n      <td>WIN_20210403_18_49_15_Pro</td>\n      <td>1.0</td>\n      <td>1.0</td>\n      <td>1.0</td>\n      <td>1.0</td>\n      <td>1.0</td>\n      <td>2.0</td>\n      <td>2.0</td>\n      <td>1.0</td>\n      <td>2.0</td>\n    </tr>\n    <tr>\n      <th>9</th>\n      <td>WIN_20210404_10_58_27_Pro</td>\n      <td>0.0</td>\n      <td>1.0</td>\n      <td>1.0</td>\n      <td>1.0</td>\n      <td>1.0</td>\n      <td>1.0</td>\n      <td>1.0</td>\n      <td>1.0</td>\n      <td>1.0</td>\n    </tr>\n    <tr>\n      <th>10</th>\n      <td>WIN_20210404_21_41_12_Pro</td>\n      <td>0.0</td>\n      <td>0.0</td>\n      <td>1.0</td>\n      <td>0.0</td>\n      <td>0.0</td>\n      <td>1.0</td>\n      <td>0.0</td>\n      <td>1.0</td>\n      <td>0.0</td>\n    </tr>\n    <tr>\n      <th>11</th>\n      <td>WIN_20210405_15_09_16_Pro</td>\n      <td>0.0</td>\n      <td>1.0</td>\n      <td>1.0</td>\n      <td>1.0</td>\n      <td>1.0</td>\n      <td>0.0</td>\n      <td>0.0</td>\n      <td>1.0</td>\n      <td>1.0</td>\n    </tr>\n    <tr>\n      <th>12</th>\n      <td>WIN_20210406_15_06_15_Pro</td>\n      <td>1.0</td>\n      <td>1.0</td>\n      <td>1.0</td>\n      <td>1.0</td>\n      <td>1.0</td>\n      <td>2.0</td>\n      <td>1.0</td>\n      <td>2.0</td>\n      <td>2.0</td>\n    </tr>\n    <tr>\n      <th>13</th>\n      <td>WIN_20210406_18_35_52_Pro</td>\n      <td>0.0</td>\n      <td>0.0</td>\n      <td>1.0</td>\n      <td>0.0</td>\n      <td>0.0</td>\n      <td>1.0</td>\n      <td>0.0</td>\n      <td>1.0</td>\n      <td>0.0</td>\n    </tr>\n    <tr>\n      <th>14</th>\n      <td>WIN_20210406_18_49_10_Pro</td>\n      <td>1.0</td>\n      <td>0.0</td>\n      <td>1.0</td>\n      <td>1.0</td>\n      <td>1.0</td>\n      <td>1.0</td>\n      <td>1.0</td>\n      <td>1.0</td>\n      <td>1.0</td>\n    </tr>\n    <tr>\n      <th>15</th>\n      <td>WIN_20210406_21_05_52_Pro</td>\n      <td>1.0</td>\n      <td>2.0</td>\n      <td>2.0</td>\n      <td>1.0</td>\n      <td>2.0</td>\n      <td>1.0</td>\n      <td>1.0</td>\n      <td>1.0</td>\n      <td>2.0</td>\n    </tr>\n    <tr>\n      <th>16</th>\n      <td>WIN_20210407_09_04_05_Pro</td>\n      <td>0.0</td>\n      <td>0.0</td>\n      <td>2.0</td>\n      <td>1.0</td>\n      <td>3.0</td>\n      <td>1.0</td>\n      <td>0.0</td>\n      <td>2.0</td>\n      <td>2.0</td>\n    </tr>\n    <tr>\n      <th>17</th>\n      <td>WIN_20210407_14_54_56_Pro_edit2</td>\n      <td>0.0</td>\n      <td>0.0</td>\n      <td>0.0</td>\n      <td>0.0</td>\n      <td>0.0</td>\n      <td>1.0</td>\n      <td>0.0</td>\n      <td>1.0</td>\n      <td>0.0</td>\n    </tr>\n    <tr>\n      <th>18</th>\n      <td>WIN_20210408_11_48_58_Pro</td>\n      <td>0.0</td>\n      <td>1.0</td>\n      <td>1.0</td>\n      <td>1.0</td>\n      <td>1.0</td>\n      <td>1.0</td>\n      <td>1.0</td>\n      <td>2.0</td>\n      <td>2.0</td>\n    </tr>\n    <tr>\n      <th>19</th>\n      <td>WIN_20210408_14_00_44_Pro</td>\n      <td>0.0</td>\n      <td>0.0</td>\n      <td>0.0</td>\n      <td>0.0</td>\n      <td>0.0</td>\n      <td>1.0</td>\n      <td>0.0</td>\n      <td>0.0</td>\n      <td>0.0</td>\n    </tr>\n    <tr>\n      <th>20</th>\n      <td>WIN_20210408_14_02_19_Pro</td>\n      <td>0.0</td>\n      <td>1.0</td>\n      <td>0.0</td>\n      <td>0.0</td>\n      <td>0.0</td>\n      <td>0.0</td>\n      <td>0.0</td>\n      <td>1.0</td>\n      <td>0.0</td>\n    </tr>\n    <tr>\n      <th>21</th>\n      <td>WIN_20210408_14_11_32_Pro</td>\n      <td>0.0</td>\n      <td>2.0</td>\n      <td>2.0</td>\n      <td>2.0</td>\n      <td>2.0</td>\n      <td>1.0</td>\n      <td>0.0</td>\n      <td>1.0</td>\n      <td>2.0</td>\n    </tr>\n    <tr>\n      <th>22</th>\n      <td>WIN_20210408_15_20_51_Pro</td>\n      <td>0.0</td>\n      <td>0.0</td>\n      <td>0.0</td>\n      <td>0.0</td>\n      <td>0.0</td>\n      <td>0.0</td>\n      <td>0.0</td>\n      <td>0.0</td>\n      <td>0.0</td>\n    </tr>\n    <tr>\n      <th>23</th>\n      <td>WIN_20210408_16_04_32_Pro</td>\n      <td>0.0</td>\n      <td>0.0</td>\n      <td>1.0</td>\n      <td>0.0</td>\n      <td>0.0</td>\n      <td>0.0</td>\n      <td>0.0</td>\n      <td>0.0</td>\n      <td>0.0</td>\n    </tr>\n    <tr>\n      <th>24</th>\n      <td>WIN_20210409_10_26_11_Pro</td>\n      <td>1.0</td>\n      <td>1.0</td>\n      <td>0.0</td>\n      <td>1.0</td>\n      <td>0.0</td>\n      <td>0.0</td>\n      <td>1.0</td>\n      <td>1.0</td>\n      <td>0.0</td>\n    </tr>\n    <tr>\n      <th>25</th>\n      <td>WIN_20210413_15_38_01_Pro</td>\n      <td>1.0</td>\n      <td>0.0</td>\n      <td>0.0</td>\n      <td>0.0</td>\n      <td>0.0</td>\n      <td>1.0</td>\n      <td>1.0</td>\n      <td>1.0</td>\n      <td>1.0</td>\n    </tr>\n    <tr>\n      <th>26</th>\n      <td>WIN_20210414_06_24_52_Pro</td>\n      <td>2.0</td>\n      <td>2.0</td>\n      <td>2.0</td>\n      <td>2.0</td>\n      <td>2.0</td>\n      <td>1.0</td>\n      <td>1.0</td>\n      <td>2.0</td>\n      <td>2.0</td>\n    </tr>\n    <tr>\n      <th>27</th>\n      <td>WIN_20210415_15_41_24_Pro</td>\n      <td>1.0</td>\n      <td>0.0</td>\n      <td>0.0</td>\n      <td>1.0</td>\n      <td>0.0</td>\n      <td>0.0</td>\n      <td>0.0</td>\n      <td>0.0</td>\n      <td>0.0</td>\n    </tr>\n    <tr>\n      <th>28</th>\n      <td>WIN_20210416_08_06_54_Pro</td>\n      <td>1.0</td>\n      <td>2.0</td>\n      <td>1.0</td>\n      <td>1.0</td>\n      <td>1.0</td>\n      <td>0.0</td>\n      <td>0.0</td>\n      <td>1.0</td>\n      <td>1.0</td>\n    </tr>\n    <tr>\n      <th>29</th>\n      <td>WIN_20210417_14_53_12_Pro</td>\n      <td>0.0</td>\n      <td>0.0</td>\n      <td>0.0</td>\n      <td>0.0</td>\n      <td>0.0</td>\n      <td>0.0</td>\n      <td>1.0</td>\n      <td>1.0</td>\n      <td>0.0</td>\n    </tr>\n  </tbody>\n</table>\n</div>"
     },
     "metadata": {},
     "execution_count": 203
    }
   ],
   "source": [
    "df_annotations_stress = pd.read_csv('annotations.csv')\n",
    "df_annotations_stress"
   ]
  },
  {
   "cell_type": "code",
   "execution_count": 204,
   "metadata": {},
   "outputs": [
    {
     "output_type": "execute_result",
     "data": {
      "text/plain": [
       "                                   8    9   10   11   17  stress_global\n",
       "video_name                                                             \n",
       "Test_pour_AFPA                   1.0  0.0  0.0  0.0  0.0            1.0\n",
       "Video_1                          0.0  0.0  0.0  1.0  1.0            0.0\n",
       "WIN_20210323_19_17_40_Pro        0.0  1.0  1.0  1.0  1.0            1.0\n",
       "WIN_20210329_10_16_02_Pro        0.0  1.0  1.0  0.0  0.0            1.0\n",
       "WIN_20210330_13_10_29_Pro        0.0  0.0  0.0  1.0  0.0            0.0\n",
       "WIN_20210331_21_22_52_Pro        0.0  1.0  1.0  1.0  0.0            1.0\n",
       "WIN_20210402_14_27_50_Pro        1.0  1.0  2.0  1.0  1.0            1.0\n",
       "WIN_20210402_19_04_53_Pro        1.0  1.0  1.0  1.0  1.0            2.0\n",
       "WIN_20210403_18_49_15_Pro        1.0  1.0  1.0  1.0  2.0            2.0\n",
       "WIN_20210404_10_58_27_Pro        1.0  1.0  1.0  1.0  1.0            1.0\n",
       "WIN_20210404_21_41_12_Pro        0.0  1.0  0.0  0.0  0.0            0.0\n",
       "WIN_20210405_15_09_16_Pro        1.0  1.0  1.0  1.0  0.0            1.0\n",
       "WIN_20210406_15_06_15_Pro        1.0  1.0  1.0  1.0  1.0            2.0\n",
       "WIN_20210406_18_35_52_Pro        0.0  1.0  0.0  0.0  0.0            0.0\n",
       "WIN_20210406_18_49_10_Pro        0.0  1.0  1.0  1.0  1.0            1.0\n",
       "WIN_20210406_21_05_52_Pro        2.0  2.0  1.0  2.0  1.0            2.0\n",
       "WIN_20210407_09_04_05_Pro        0.0  2.0  1.0  3.0  0.0            2.0\n",
       "WIN_20210407_14_54_56_Pro_edit2  0.0  0.0  0.0  0.0  0.0            0.0\n",
       "WIN_20210408_11_48_58_Pro        1.0  1.0  1.0  1.0  1.0            2.0\n",
       "WIN_20210408_14_00_44_Pro        0.0  0.0  0.0  0.0  0.0            0.0\n",
       "WIN_20210408_14_02_19_Pro        1.0  0.0  0.0  0.0  0.0            0.0\n",
       "WIN_20210408_14_11_32_Pro        2.0  2.0  2.0  2.0  0.0            2.0\n",
       "WIN_20210408_15_20_51_Pro        0.0  0.0  0.0  0.0  0.0            0.0\n",
       "WIN_20210408_16_04_32_Pro        0.0  1.0  0.0  0.0  0.0            0.0\n",
       "WIN_20210409_10_26_11_Pro        1.0  0.0  1.0  0.0  1.0            0.0\n",
       "WIN_20210413_15_38_01_Pro        0.0  0.0  0.0  0.0  1.0            1.0\n",
       "WIN_20210414_06_24_52_Pro        2.0  2.0  2.0  2.0  1.0            2.0\n",
       "WIN_20210415_15_41_24_Pro        0.0  0.0  1.0  0.0  0.0            0.0\n",
       "WIN_20210416_08_06_54_Pro        2.0  1.0  1.0  1.0  0.0            1.0\n",
       "WIN_20210417_14_53_12_Pro        0.0  0.0  0.0  0.0  1.0            0.0"
      ],
      "text/html": "<div>\n<style scoped>\n    .dataframe tbody tr th:only-of-type {\n        vertical-align: middle;\n    }\n\n    .dataframe tbody tr th {\n        vertical-align: top;\n    }\n\n    .dataframe thead th {\n        text-align: right;\n    }\n</style>\n<table border=\"1\" class=\"dataframe\">\n  <thead>\n    <tr style=\"text-align: right;\">\n      <th></th>\n      <th>8</th>\n      <th>9</th>\n      <th>10</th>\n      <th>11</th>\n      <th>17</th>\n      <th>stress_global</th>\n    </tr>\n    <tr>\n      <th>video_name</th>\n      <th></th>\n      <th></th>\n      <th></th>\n      <th></th>\n      <th></th>\n      <th></th>\n    </tr>\n  </thead>\n  <tbody>\n    <tr>\n      <th>Test_pour_AFPA</th>\n      <td>1.0</td>\n      <td>0.0</td>\n      <td>0.0</td>\n      <td>0.0</td>\n      <td>0.0</td>\n      <td>1.0</td>\n    </tr>\n    <tr>\n      <th>Video_1</th>\n      <td>0.0</td>\n      <td>0.0</td>\n      <td>0.0</td>\n      <td>1.0</td>\n      <td>1.0</td>\n      <td>0.0</td>\n    </tr>\n    <tr>\n      <th>WIN_20210323_19_17_40_Pro</th>\n      <td>0.0</td>\n      <td>1.0</td>\n      <td>1.0</td>\n      <td>1.0</td>\n      <td>1.0</td>\n      <td>1.0</td>\n    </tr>\n    <tr>\n      <th>WIN_20210329_10_16_02_Pro</th>\n      <td>0.0</td>\n      <td>1.0</td>\n      <td>1.0</td>\n      <td>0.0</td>\n      <td>0.0</td>\n      <td>1.0</td>\n    </tr>\n    <tr>\n      <th>WIN_20210330_13_10_29_Pro</th>\n      <td>0.0</td>\n      <td>0.0</td>\n      <td>0.0</td>\n      <td>1.0</td>\n      <td>0.0</td>\n      <td>0.0</td>\n    </tr>\n    <tr>\n      <th>WIN_20210331_21_22_52_Pro</th>\n      <td>0.0</td>\n      <td>1.0</td>\n      <td>1.0</td>\n      <td>1.0</td>\n      <td>0.0</td>\n      <td>1.0</td>\n    </tr>\n    <tr>\n      <th>WIN_20210402_14_27_50_Pro</th>\n      <td>1.0</td>\n      <td>1.0</td>\n      <td>2.0</td>\n      <td>1.0</td>\n      <td>1.0</td>\n      <td>1.0</td>\n    </tr>\n    <tr>\n      <th>WIN_20210402_19_04_53_Pro</th>\n      <td>1.0</td>\n      <td>1.0</td>\n      <td>1.0</td>\n      <td>1.0</td>\n      <td>1.0</td>\n      <td>2.0</td>\n    </tr>\n    <tr>\n      <th>WIN_20210403_18_49_15_Pro</th>\n      <td>1.0</td>\n      <td>1.0</td>\n      <td>1.0</td>\n      <td>1.0</td>\n      <td>2.0</td>\n      <td>2.0</td>\n    </tr>\n    <tr>\n      <th>WIN_20210404_10_58_27_Pro</th>\n      <td>1.0</td>\n      <td>1.0</td>\n      <td>1.0</td>\n      <td>1.0</td>\n      <td>1.0</td>\n      <td>1.0</td>\n    </tr>\n    <tr>\n      <th>WIN_20210404_21_41_12_Pro</th>\n      <td>0.0</td>\n      <td>1.0</td>\n      <td>0.0</td>\n      <td>0.0</td>\n      <td>0.0</td>\n      <td>0.0</td>\n    </tr>\n    <tr>\n      <th>WIN_20210405_15_09_16_Pro</th>\n      <td>1.0</td>\n      <td>1.0</td>\n      <td>1.0</td>\n      <td>1.0</td>\n      <td>0.0</td>\n      <td>1.0</td>\n    </tr>\n    <tr>\n      <th>WIN_20210406_15_06_15_Pro</th>\n      <td>1.0</td>\n      <td>1.0</td>\n      <td>1.0</td>\n      <td>1.0</td>\n      <td>1.0</td>\n      <td>2.0</td>\n    </tr>\n    <tr>\n      <th>WIN_20210406_18_35_52_Pro</th>\n      <td>0.0</td>\n      <td>1.0</td>\n      <td>0.0</td>\n      <td>0.0</td>\n      <td>0.0</td>\n      <td>0.0</td>\n    </tr>\n    <tr>\n      <th>WIN_20210406_18_49_10_Pro</th>\n      <td>0.0</td>\n      <td>1.0</td>\n      <td>1.0</td>\n      <td>1.0</td>\n      <td>1.0</td>\n      <td>1.0</td>\n    </tr>\n    <tr>\n      <th>WIN_20210406_21_05_52_Pro</th>\n      <td>2.0</td>\n      <td>2.0</td>\n      <td>1.0</td>\n      <td>2.0</td>\n      <td>1.0</td>\n      <td>2.0</td>\n    </tr>\n    <tr>\n      <th>WIN_20210407_09_04_05_Pro</th>\n      <td>0.0</td>\n      <td>2.0</td>\n      <td>1.0</td>\n      <td>3.0</td>\n      <td>0.0</td>\n      <td>2.0</td>\n    </tr>\n    <tr>\n      <th>WIN_20210407_14_54_56_Pro_edit2</th>\n      <td>0.0</td>\n      <td>0.0</td>\n      <td>0.0</td>\n      <td>0.0</td>\n      <td>0.0</td>\n      <td>0.0</td>\n    </tr>\n    <tr>\n      <th>WIN_20210408_11_48_58_Pro</th>\n      <td>1.0</td>\n      <td>1.0</td>\n      <td>1.0</td>\n      <td>1.0</td>\n      <td>1.0</td>\n      <td>2.0</td>\n    </tr>\n    <tr>\n      <th>WIN_20210408_14_00_44_Pro</th>\n      <td>0.0</td>\n      <td>0.0</td>\n      <td>0.0</td>\n      <td>0.0</td>\n      <td>0.0</td>\n      <td>0.0</td>\n    </tr>\n    <tr>\n      <th>WIN_20210408_14_02_19_Pro</th>\n      <td>1.0</td>\n      <td>0.0</td>\n      <td>0.0</td>\n      <td>0.0</td>\n      <td>0.0</td>\n      <td>0.0</td>\n    </tr>\n    <tr>\n      <th>WIN_20210408_14_11_32_Pro</th>\n      <td>2.0</td>\n      <td>2.0</td>\n      <td>2.0</td>\n      <td>2.0</td>\n      <td>0.0</td>\n      <td>2.0</td>\n    </tr>\n    <tr>\n      <th>WIN_20210408_15_20_51_Pro</th>\n      <td>0.0</td>\n      <td>0.0</td>\n      <td>0.0</td>\n      <td>0.0</td>\n      <td>0.0</td>\n      <td>0.0</td>\n    </tr>\n    <tr>\n      <th>WIN_20210408_16_04_32_Pro</th>\n      <td>0.0</td>\n      <td>1.0</td>\n      <td>0.0</td>\n      <td>0.0</td>\n      <td>0.0</td>\n      <td>0.0</td>\n    </tr>\n    <tr>\n      <th>WIN_20210409_10_26_11_Pro</th>\n      <td>1.0</td>\n      <td>0.0</td>\n      <td>1.0</td>\n      <td>0.0</td>\n      <td>1.0</td>\n      <td>0.0</td>\n    </tr>\n    <tr>\n      <th>WIN_20210413_15_38_01_Pro</th>\n      <td>0.0</td>\n      <td>0.0</td>\n      <td>0.0</td>\n      <td>0.0</td>\n      <td>1.0</td>\n      <td>1.0</td>\n    </tr>\n    <tr>\n      <th>WIN_20210414_06_24_52_Pro</th>\n      <td>2.0</td>\n      <td>2.0</td>\n      <td>2.0</td>\n      <td>2.0</td>\n      <td>1.0</td>\n      <td>2.0</td>\n    </tr>\n    <tr>\n      <th>WIN_20210415_15_41_24_Pro</th>\n      <td>0.0</td>\n      <td>0.0</td>\n      <td>1.0</td>\n      <td>0.0</td>\n      <td>0.0</td>\n      <td>0.0</td>\n    </tr>\n    <tr>\n      <th>WIN_20210416_08_06_54_Pro</th>\n      <td>2.0</td>\n      <td>1.0</td>\n      <td>1.0</td>\n      <td>1.0</td>\n      <td>0.0</td>\n      <td>1.0</td>\n    </tr>\n    <tr>\n      <th>WIN_20210417_14_53_12_Pro</th>\n      <td>0.0</td>\n      <td>0.0</td>\n      <td>0.0</td>\n      <td>0.0</td>\n      <td>1.0</td>\n      <td>0.0</td>\n    </tr>\n  </tbody>\n</table>\n</div>"
     },
     "metadata": {},
     "execution_count": 204
    }
   ],
   "source": [
    "df_annotations_stress = pd.read_csv('annotations.csv')\n",
    "df_annotations_stress = df_annotations_stress.set_index(['video_name'])\n",
    "diapo_audio_list.append('stress_global')\n",
    "df_annotations_stress = df_annotations_stress[[str(diapo) for diapo in diapo_audio_list]]\n",
    "diapo_audio_list.pop()\n",
    "df_annotations_stress\n"
   ]
  },
  {
   "cell_type": "code",
   "execution_count": 205,
   "metadata": {},
   "outputs": [],
   "source": [
    "Xy = ypredict_stress_diapo.merge(df_annotations_stress.iloc[:,-1],how='inner',on='video_name')\n",
    "X = Xy.iloc[:,:-1]\n",
    "y = Xy.iloc[:,-1]"
   ]
  },
  {
   "cell_type": "code",
   "execution_count": 206,
   "metadata": {},
   "outputs": [
    {
     "output_type": "execute_result",
     "data": {
      "text/plain": [
       "                                   8    9   10   11   17  stress_global\n",
       "video_name                                                             \n",
       "Test_pour_AFPA                   0.0  1.0  0.0  0.0  0.0            1.0\n",
       "Video_1                          0.0  0.0  0.0  0.0  1.0            0.0\n",
       "WIN_20210323_19_17_40_Pro        0.0  0.0  1.0  1.0  0.0            1.0\n",
       "WIN_20210329_10_16_02_Pro        0.0  1.0  1.0  0.0  0.0            1.0\n",
       "WIN_20210330_13_10_29_Pro        0.0  0.0  0.0  0.0  0.0            0.0\n",
       "WIN_20210331_21_22_52_Pro        1.0  1.0  0.0  0.0  1.0            1.0\n",
       "WIN_20210402_14_27_50_Pro        0.0  0.0  0.0  0.0  0.0            1.0\n",
       "WIN_20210402_19_04_53_Pro        1.0  1.0  1.0  0.0  0.0            2.0\n",
       "WIN_20210403_18_49_15_Pro        1.0  0.0  0.0  0.0  1.0            2.0\n",
       "WIN_20210404_10_58_27_Pro        1.0  1.0  1.0  1.0  1.0            1.0\n",
       "WIN_20210404_21_41_12_Pro        0.0  1.0  1.0  1.0  0.0            0.0\n",
       "WIN_20210405_15_09_16_Pro        0.0  1.0  1.0  0.0  1.0            1.0\n",
       "WIN_20210406_15_06_15_Pro        0.0  1.0  0.0  0.0  0.0            2.0\n",
       "WIN_20210406_18_35_52_Pro        1.0  0.0  0.0  0.0  0.0            0.0\n",
       "WIN_20210406_18_49_10_Pro        1.0  1.0  1.0  0.0  0.0            1.0\n",
       "WIN_20210406_21_05_52_Pro        0.0  0.0  0.0  0.0  0.0            2.0\n",
       "WIN_20210407_09_04_05_Pro        0.0  1.0  1.0  1.0  0.0            2.0\n",
       "WIN_20210407_14_54_56_Pro_edit2  0.0  0.0  0.0  0.0  0.0            0.0\n",
       "WIN_20210408_11_48_58_Pro        1.0  0.0  1.0  1.0  1.0            2.0\n",
       "WIN_20210408_14_00_44_Pro        0.0  0.0  0.0  0.0  1.0            0.0\n",
       "WIN_20210408_14_02_19_Pro        1.0  0.0  1.0  0.0  0.0            0.0\n",
       "WIN_20210408_14_11_32_Pro        0.0  0.0  0.0  0.0  0.0            2.0\n",
       "WIN_20210408_15_20_51_Pro        0.0  0.0  0.0  0.0  1.0            0.0\n",
       "WIN_20210408_16_04_32_Pro        1.0  1.0  1.0  1.0  1.0            0.0\n",
       "WIN_20210409_10_26_11_Pro        1.0  0.0  0.0  0.0  0.0            0.0\n",
       "WIN_20210413_15_38_01_Pro        0.0  0.0  1.0  1.0  1.0            1.0\n",
       "WIN_20210414_06_24_52_Pro        0.0  0.0  0.0  0.0  0.0            2.0\n",
       "WIN_20210415_15_41_24_Pro        0.0  1.0  1.0  0.0  0.0            0.0\n",
       "WIN_20210416_08_06_54_Pro        1.0  1.0  0.0  0.0  1.0            1.0\n",
       "WIN_20210417_14_53_12_Pro        1.0  0.0  0.0  0.0  0.0            0.0"
      ],
      "text/html": "<div>\n<style scoped>\n    .dataframe tbody tr th:only-of-type {\n        vertical-align: middle;\n    }\n\n    .dataframe tbody tr th {\n        vertical-align: top;\n    }\n\n    .dataframe thead th {\n        text-align: right;\n    }\n</style>\n<table border=\"1\" class=\"dataframe\">\n  <thead>\n    <tr style=\"text-align: right;\">\n      <th></th>\n      <th>8</th>\n      <th>9</th>\n      <th>10</th>\n      <th>11</th>\n      <th>17</th>\n      <th>stress_global</th>\n    </tr>\n    <tr>\n      <th>video_name</th>\n      <th></th>\n      <th></th>\n      <th></th>\n      <th></th>\n      <th></th>\n      <th></th>\n    </tr>\n  </thead>\n  <tbody>\n    <tr>\n      <th>Test_pour_AFPA</th>\n      <td>0.0</td>\n      <td>1.0</td>\n      <td>0.0</td>\n      <td>0.0</td>\n      <td>0.0</td>\n      <td>1.0</td>\n    </tr>\n    <tr>\n      <th>Video_1</th>\n      <td>0.0</td>\n      <td>0.0</td>\n      <td>0.0</td>\n      <td>0.0</td>\n      <td>1.0</td>\n      <td>0.0</td>\n    </tr>\n    <tr>\n      <th>WIN_20210323_19_17_40_Pro</th>\n      <td>0.0</td>\n      <td>0.0</td>\n      <td>1.0</td>\n      <td>1.0</td>\n      <td>0.0</td>\n      <td>1.0</td>\n    </tr>\n    <tr>\n      <th>WIN_20210329_10_16_02_Pro</th>\n      <td>0.0</td>\n      <td>1.0</td>\n      <td>1.0</td>\n      <td>0.0</td>\n      <td>0.0</td>\n      <td>1.0</td>\n    </tr>\n    <tr>\n      <th>WIN_20210330_13_10_29_Pro</th>\n      <td>0.0</td>\n      <td>0.0</td>\n      <td>0.0</td>\n      <td>0.0</td>\n      <td>0.0</td>\n      <td>0.0</td>\n    </tr>\n    <tr>\n      <th>WIN_20210331_21_22_52_Pro</th>\n      <td>1.0</td>\n      <td>1.0</td>\n      <td>0.0</td>\n      <td>0.0</td>\n      <td>1.0</td>\n      <td>1.0</td>\n    </tr>\n    <tr>\n      <th>WIN_20210402_14_27_50_Pro</th>\n      <td>0.0</td>\n      <td>0.0</td>\n      <td>0.0</td>\n      <td>0.0</td>\n      <td>0.0</td>\n      <td>1.0</td>\n    </tr>\n    <tr>\n      <th>WIN_20210402_19_04_53_Pro</th>\n      <td>1.0</td>\n      <td>1.0</td>\n      <td>1.0</td>\n      <td>0.0</td>\n      <td>0.0</td>\n      <td>2.0</td>\n    </tr>\n    <tr>\n      <th>WIN_20210403_18_49_15_Pro</th>\n      <td>1.0</td>\n      <td>0.0</td>\n      <td>0.0</td>\n      <td>0.0</td>\n      <td>1.0</td>\n      <td>2.0</td>\n    </tr>\n    <tr>\n      <th>WIN_20210404_10_58_27_Pro</th>\n      <td>1.0</td>\n      <td>1.0</td>\n      <td>1.0</td>\n      <td>1.0</td>\n      <td>1.0</td>\n      <td>1.0</td>\n    </tr>\n    <tr>\n      <th>WIN_20210404_21_41_12_Pro</th>\n      <td>0.0</td>\n      <td>1.0</td>\n      <td>1.0</td>\n      <td>1.0</td>\n      <td>0.0</td>\n      <td>0.0</td>\n    </tr>\n    <tr>\n      <th>WIN_20210405_15_09_16_Pro</th>\n      <td>0.0</td>\n      <td>1.0</td>\n      <td>1.0</td>\n      <td>0.0</td>\n      <td>1.0</td>\n      <td>1.0</td>\n    </tr>\n    <tr>\n      <th>WIN_20210406_15_06_15_Pro</th>\n      <td>0.0</td>\n      <td>1.0</td>\n      <td>0.0</td>\n      <td>0.0</td>\n      <td>0.0</td>\n      <td>2.0</td>\n    </tr>\n    <tr>\n      <th>WIN_20210406_18_35_52_Pro</th>\n      <td>1.0</td>\n      <td>0.0</td>\n      <td>0.0</td>\n      <td>0.0</td>\n      <td>0.0</td>\n      <td>0.0</td>\n    </tr>\n    <tr>\n      <th>WIN_20210406_18_49_10_Pro</th>\n      <td>1.0</td>\n      <td>1.0</td>\n      <td>1.0</td>\n      <td>0.0</td>\n      <td>0.0</td>\n      <td>1.0</td>\n    </tr>\n    <tr>\n      <th>WIN_20210406_21_05_52_Pro</th>\n      <td>0.0</td>\n      <td>0.0</td>\n      <td>0.0</td>\n      <td>0.0</td>\n      <td>0.0</td>\n      <td>2.0</td>\n    </tr>\n    <tr>\n      <th>WIN_20210407_09_04_05_Pro</th>\n      <td>0.0</td>\n      <td>1.0</td>\n      <td>1.0</td>\n      <td>1.0</td>\n      <td>0.0</td>\n      <td>2.0</td>\n    </tr>\n    <tr>\n      <th>WIN_20210407_14_54_56_Pro_edit2</th>\n      <td>0.0</td>\n      <td>0.0</td>\n      <td>0.0</td>\n      <td>0.0</td>\n      <td>0.0</td>\n      <td>0.0</td>\n    </tr>\n    <tr>\n      <th>WIN_20210408_11_48_58_Pro</th>\n      <td>1.0</td>\n      <td>0.0</td>\n      <td>1.0</td>\n      <td>1.0</td>\n      <td>1.0</td>\n      <td>2.0</td>\n    </tr>\n    <tr>\n      <th>WIN_20210408_14_00_44_Pro</th>\n      <td>0.0</td>\n      <td>0.0</td>\n      <td>0.0</td>\n      <td>0.0</td>\n      <td>1.0</td>\n      <td>0.0</td>\n    </tr>\n    <tr>\n      <th>WIN_20210408_14_02_19_Pro</th>\n      <td>1.0</td>\n      <td>0.0</td>\n      <td>1.0</td>\n      <td>0.0</td>\n      <td>0.0</td>\n      <td>0.0</td>\n    </tr>\n    <tr>\n      <th>WIN_20210408_14_11_32_Pro</th>\n      <td>0.0</td>\n      <td>0.0</td>\n      <td>0.0</td>\n      <td>0.0</td>\n      <td>0.0</td>\n      <td>2.0</td>\n    </tr>\n    <tr>\n      <th>WIN_20210408_15_20_51_Pro</th>\n      <td>0.0</td>\n      <td>0.0</td>\n      <td>0.0</td>\n      <td>0.0</td>\n      <td>1.0</td>\n      <td>0.0</td>\n    </tr>\n    <tr>\n      <th>WIN_20210408_16_04_32_Pro</th>\n      <td>1.0</td>\n      <td>1.0</td>\n      <td>1.0</td>\n      <td>1.0</td>\n      <td>1.0</td>\n      <td>0.0</td>\n    </tr>\n    <tr>\n      <th>WIN_20210409_10_26_11_Pro</th>\n      <td>1.0</td>\n      <td>0.0</td>\n      <td>0.0</td>\n      <td>0.0</td>\n      <td>0.0</td>\n      <td>0.0</td>\n    </tr>\n    <tr>\n      <th>WIN_20210413_15_38_01_Pro</th>\n      <td>0.0</td>\n      <td>0.0</td>\n      <td>1.0</td>\n      <td>1.0</td>\n      <td>1.0</td>\n      <td>1.0</td>\n    </tr>\n    <tr>\n      <th>WIN_20210414_06_24_52_Pro</th>\n      <td>0.0</td>\n      <td>0.0</td>\n      <td>0.0</td>\n      <td>0.0</td>\n      <td>0.0</td>\n      <td>2.0</td>\n    </tr>\n    <tr>\n      <th>WIN_20210415_15_41_24_Pro</th>\n      <td>0.0</td>\n      <td>1.0</td>\n      <td>1.0</td>\n      <td>0.0</td>\n      <td>0.0</td>\n      <td>0.0</td>\n    </tr>\n    <tr>\n      <th>WIN_20210416_08_06_54_Pro</th>\n      <td>1.0</td>\n      <td>1.0</td>\n      <td>0.0</td>\n      <td>0.0</td>\n      <td>1.0</td>\n      <td>1.0</td>\n    </tr>\n    <tr>\n      <th>WIN_20210417_14_53_12_Pro</th>\n      <td>1.0</td>\n      <td>0.0</td>\n      <td>0.0</td>\n      <td>0.0</td>\n      <td>0.0</td>\n      <td>0.0</td>\n    </tr>\n  </tbody>\n</table>\n</div>"
     },
     "metadata": {},
     "execution_count": 206
    }
   ],
   "source": [
    "Xy"
   ]
  },
  {
   "cell_type": "code",
   "execution_count": 207,
   "metadata": {},
   "outputs": [],
   "source": [
    "from sklearn.linear_model import LogisticRegression\n",
    "from sklearn.neighbors import KNeighborsClassifier\n",
    "from sklearn.ensemble import RandomForestClassifier\n",
    "from sklearn.model_selection import LeaveOneGroupOut\n",
    "from sklearn.decomposition import PCA\n",
    "from sklearn.pipeline import Pipeline\n",
    "\n",
    "pca = PCA()\n",
    "\n",
    "models_list = [\n",
    "                LogisticRegression(multi_class='multinomial', fit_intercept=True, random_state=42),\n",
    "                Pipeline(steps=[('pca', pca), ('logistic', LogisticRegression(multi_class='multinomial', fit_intercept=True))]),\n",
    "                KNeighborsClassifier(),\n",
    "                Pipeline(steps=[('pca', pca), ('knn', KNeighborsClassifier())]),\n",
    "                RandomForestClassifier(random_state = 42, n_jobs=-1)\n",
    "                ]\n",
    "\n",
    "parameters_list = [\n",
    "                    {'C': [0.01, 0.05, 0.1, 0.5, 1, 2, 3, 4 , 5, 10], 'class_weight' : [None, 'balanced']},\n",
    "                    {'pca__n_components': [1, 2, 3, 4],\n",
    "                        'logistic__C': [0.01, 0.05, 0.1, 0.5, 1, 2, 3, 4 , 5, 10], 'logistic__class_weight' : [None, 'balanced']},\n",
    "                    {'n_neighbors': [4, 5, 6, 7, 8, 9, 10, 11, 12,  15, 20], 'weights' : ['uniform', 'distance'], 'p': [1, 2]},\n",
    "                    {'pca__n_components': [1, 2, 3, 4],\n",
    "                        'knn__n_neighbors': [4, 5, 6, 7, 8, 9, 10, 11, 12,  15, 20], 'knn__weights' : ['uniform', 'distance'],                              'knn__p': [1, 2]},\n",
    "                    {'n_estimators': [50, 100, 150, 200], 'max_depth':[3, 4, 5, 6, 10, 15, 20], 'class_weight':[None,'balanced']}\n",
    "                    ]\n",
    "\n",
    "#groups = X.reset_index()['video_name']\n",
    "#loo = LeaveOneGroupOut()\n",
    "#cv_loo = loo.split(X, y, groups)"
   ]
  },
  {
   "cell_type": "code",
   "execution_count": 208,
   "metadata": {},
   "outputs": [
    {
     "output_type": "stream",
     "name": "stdout",
     "text": [
      "Fitting 5 folds for each of 20 candidates, totalling 100 fits\n",
      "[Parallel(n_jobs=-1)]: Using backend LokyBackend with 8 concurrent workers.\n",
      "[Parallel(n_jobs=-1)]: Done  56 tasks      | elapsed:    0.3s\n",
      "[Parallel(n_jobs=-1)]: Done  85 out of 100 | elapsed:    0.4s remaining:    0.1s\n",
      "[Parallel(n_jobs=-1)]: Done 100 out of 100 | elapsed:    0.4s finished\n",
      "[Parallel(n_jobs=-1)]: Using backend LokyBackend with 8 concurrent workers.\n",
      "Best estimator LogisticRegression(C=0.5, multi_class='multinomial', random_state=42)\n",
      "Best results 0.4530158730158731\n",
      "Best params {'C': 0.5, 'class_weight': None}\n",
      "accuracy (mean, std) 0.5000000000000001 0.18257418583505539\n",
      "f1 (mean, std) 0.4530158730158731 0.16259299720850415\n",
      "balanced accuracy (mean, std) 0.4444444444444445 0.1531560972454469\n",
      "precision (mean, std) 0.47833333333333333 0.14544949486180953\n",
      "recall (mean, std) 0.5000000000000001 0.18257418583505539\n",
      "\n",
      "Fitting 5 folds for each of 80 candidates, totalling 400 fits\n",
      "[Parallel(n_jobs=-1)]: Done  56 tasks      | elapsed:    0.4s\n",
      "[Parallel(n_jobs=-1)]: Done 400 out of 400 | elapsed:    1.5s finished\n",
      "[Parallel(n_jobs=-1)]: Using backend LokyBackend with 8 concurrent workers.\n",
      "Best estimator Pipeline(steps=[('pca', PCA(n_components=4)),\n",
      "                ('logistic',\n",
      "                 LogisticRegression(C=0.5, multi_class='multinomial'))])\n",
      "Best results 0.47968253968253965\n",
      "Best params {'logistic__C': 0.5, 'logistic__class_weight': None, 'pca__n_components': 4}\n",
      "accuracy (mean, std) 0.5333333333333334 0.16329931618554522\n",
      "f1 (mean, std) 0.47968253968253965 0.16264505512980054\n",
      "balanced accuracy (mean, std) 0.47777777777777775 0.11439589045541111\n",
      "precision (mean, std) 0.5005555555555555 0.15522186431200288\n",
      "recall (mean, std) 0.5333333333333334 0.16329931618554522\n",
      "\n",
      "Fitting 5 folds for each of 44 candidates, totalling 220 fits\n",
      "[Parallel(n_jobs=-1)]: Done  56 tasks      | elapsed:    0.2s\n",
      "[Parallel(n_jobs=-1)]: Done 220 out of 220 | elapsed:    0.6s finished\n",
      "[Parallel(n_jobs=-1)]: Using backend LokyBackend with 8 concurrent workers.\n",
      "Best estimator KNeighborsClassifier(n_neighbors=11, p=1)\n",
      "Best results 0.41571428571428565\n",
      "Best params {'n_neighbors': 11, 'p': 1, 'weights': 'uniform'}\n",
      "accuracy (mean, std) 0.4666666666666667 0.19436506316151003\n",
      "f1 (mean, std) 0.41571428571428565 0.1804758414649499\n",
      "balanced accuracy (mean, std) 0.4222222222222222 0.14315665251916806\n",
      "precision (mean, std) 0.425 0.19751543149590198\n",
      "recall (mean, std) 0.4666666666666667 0.19436506316151003\n",
      "\n",
      "Fitting 5 folds for each of 176 candidates, totalling 880 fits\n",
      "[Parallel(n_jobs=-1)]: Done  56 tasks      | elapsed:    0.3s\n",
      "[Parallel(n_jobs=-1)]: Done 880 out of 880 | elapsed:    2.3s finished\n",
      "[Parallel(n_jobs=-1)]: Using backend LokyBackend with 8 concurrent workers.\n",
      "Best estimator Pipeline(steps=[('pca', PCA(n_components=1)),\n",
      "                ('knn', KNeighborsClassifier(n_neighbors=8, p=1))])\n",
      "Best results 0.4638095238095238\n",
      "Best params {'knn__n_neighbors': 8, 'knn__p': 1, 'knn__weights': 'uniform', 'pca__n_components': 1}\n",
      "accuracy (mean, std) 0.5333333333333334 0.16329931618554522\n",
      "f1 (mean, std) 0.4638095238095238 0.16134481446876028\n",
      "balanced accuracy (mean, std) 0.4777777777777777 0.11439589045541111\n",
      "precision (mean, std) 0.4405555555555555 0.15505474939079414\n",
      "recall (mean, std) 0.5333333333333334 0.16329931618554522\n",
      "\n",
      "Fitting 5 folds for each of 56 candidates, totalling 280 fits\n",
      "[Parallel(n_jobs=-1)]: Done  52 tasks      | elapsed:    3.4s\n",
      "[Parallel(n_jobs=-1)]: Done 232 tasks      | elapsed:   13.9s\n",
      "Best estimator RandomForestClassifier(class_weight='balanced', max_depth=4, n_estimators=50,\n",
      "                       n_jobs=-1, random_state=42)\n",
      "Best results 0.3782539682539683\n",
      "Best params {'class_weight': 'balanced', 'max_depth': 4, 'n_estimators': 50}\n",
      "accuracy (mean, std) 0.39999999999999997 0.13333333333333336\n",
      "f1 (mean, std) 0.3782539682539683 0.09262499810865514\n",
      "balanced accuracy (mean, std) 0.36666666666666664 0.14315665251916806\n",
      "precision (mean, std) 0.4166666666666667 0.11111111111111113\n",
      "recall (mean, std) 0.39999999999999997 0.13333333333333336\n",
      "\n",
      "f1_score (weighted) 0.4600414078674948\n",
      "accuracy 0.5333333333333333\n",
      "[Parallel(n_jobs=-1)]: Done 280 out of 280 | elapsed:   16.7s finished\n"
     ]
    }
   ],
   "source": [
    "best_result, y_predict, y_predict_proba, result_list = runGridSearchClassifiers(X, y, 5, models_list, parameters_list, \n",
    "                                                                output_predict=True, n_jobs=-1, verbose=True)"
   ]
  },
  {
   "cell_type": "code",
   "execution_count": 209,
   "metadata": {},
   "outputs": [
    {
     "output_type": "execute_result",
     "data": {
      "text/plain": [
       "{'best_estimator': Pipeline(steps=[('pca', PCA(n_components=4)),\n",
       "                 ('logistic',\n",
       "                  LogisticRegression(C=0.5, multi_class='multinomial'))]),\n",
       " 'best_score': 0.47968253968253965,\n",
       " 'best_params': {'logistic__C': 0.5,\n",
       "  'logistic__class_weight': None,\n",
       "  'pca__n_components': 4},\n",
       " 'mean_test_f1_score': 0.47968253968253965,\n",
       " 'std_test_f1_score': 0.16264505512980054,\n",
       " 'mean_test_accuracy_score': 0.5333333333333334,\n",
       " 'std_test_accuracy_score': 0.16329931618554522,\n",
       " 'mean_test_balanced_accuracy_score': 0.47777777777777775,\n",
       " 'std_test_balanced_accuracy_score': 0.11439589045541111,\n",
       " 'mean_test_precision': 0.5005555555555555,\n",
       " 'std_test_precision': 0.15522186431200288,\n",
       " 'mean_test_recall': 0.5333333333333334,\n",
       " 'std_test_recall': 0.16329931618554522}"
      ]
     },
     "metadata": {},
     "execution_count": 209
    }
   ],
   "source": [
    "best_result"
   ]
  },
  {
   "cell_type": "code",
   "execution_count": 210,
   "metadata": {},
   "outputs": [],
   "source": [
    "# Saving predictions\n",
    "df_ypredict = pd.concat([X.reset_index()[['video_name']],\n",
    "                        pd.DataFrame(y_predict, columns=['ypredict'])],axis=1)\n",
    "df_ypredict.to_csv('ypredict_' + features + '_tw5_global' + diapo_selection + '.csv')"
   ]
  },
  {
   "cell_type": "code",
   "execution_count": 211,
   "metadata": {},
   "outputs": [],
   "source": [
    "# Saving predictions\n",
    "df_ypredict = pd.concat([X.reset_index()[['video_name']],\n",
    "                        pd.DataFrame(y_predict_proba, columns=['stress_global_predict_0', 'stress_global_predict_1', 'stress_global_predict_2'])],axis=1)\n",
    "df_ypredict.to_csv('ypredict_' + features + '_tw5_global_proba' + diapo_selection + '.csv')"
   ]
  },
  {
   "cell_type": "markdown",
   "metadata": {},
   "source": [
    "#### Autre méthode"
   ]
  },
  {
   "cell_type": "markdown",
   "metadata": {},
   "source": [
    "### En utilisant le stress prédit des time windows 5s"
   ]
  },
  {
   "cell_type": "code",
   "execution_count": 212,
   "metadata": {},
   "outputs": [
    {
     "output_type": "execute_result",
     "data": {
      "text/plain": [
       "ypredict                                0         1         2\n",
       "video_name                                                   \n",
       "Test_pour_AFPA                   0.014085  0.985915  0.000000\n",
       "Video_1                          0.694444  0.305556  0.000000\n",
       "WIN_20210323_19_17_40_Pro        0.472222  0.527778  0.000000\n",
       "WIN_20210329_10_16_02_Pro        0.027778  0.972222  0.000000\n",
       "WIN_20210330_13_10_29_Pro        0.000000  1.000000  0.000000\n",
       "WIN_20210331_21_22_52_Pro        0.084507  0.915493  0.000000\n",
       "WIN_20210402_14_27_50_Pro        0.013889  0.027778  0.958333\n",
       "WIN_20210402_19_04_53_Pro        0.333333  0.666667  0.000000\n",
       "WIN_20210403_18_49_15_Pro        0.250000  0.750000  0.000000\n",
       "WIN_20210404_10_58_27_Pro        0.246575  0.753425  0.000000\n",
       "WIN_20210404_21_41_12_Pro        0.301370  0.698630  0.000000\n",
       "WIN_20210405_15_09_16_Pro        0.904110  0.095890  0.000000\n",
       "WIN_20210406_15_06_15_Pro        0.847222  0.152778  0.000000\n",
       "WIN_20210406_18_35_52_Pro        0.888889  0.111111  0.000000\n",
       "WIN_20210406_18_49_10_Pro        0.902778  0.097222  0.000000\n",
       "WIN_20210406_21_05_52_Pro        0.647887  0.352113  0.000000\n",
       "WIN_20210407_09_04_05_Pro        0.424658  0.575342  0.000000\n",
       "WIN_20210407_14_54_56_Pro_edit2  0.611111  0.388889  0.000000\n",
       "WIN_20210408_11_48_58_Pro        0.097222  0.888889  0.013889\n",
       "WIN_20210408_14_00_44_Pro        0.605634  0.394366  0.000000\n",
       "WIN_20210408_14_02_19_Pro        0.328767  0.547945  0.123288\n",
       "WIN_20210408_14_11_32_Pro        0.000000  1.000000  0.000000\n",
       "WIN_20210408_15_20_51_Pro        0.712329  0.287671  0.000000\n",
       "WIN_20210408_16_04_32_Pro        0.291667  0.708333  0.000000\n",
       "WIN_20210409_10_26_11_Pro        0.736111  0.263889  0.000000\n",
       "WIN_20210413_15_38_01_Pro        0.541667  0.458333  0.000000\n",
       "WIN_20210414_06_24_52_Pro        0.777778  0.222222  0.000000\n",
       "WIN_20210415_15_41_24_Pro        0.890411  0.109589  0.000000\n",
       "WIN_20210416_08_06_54_Pro        0.150685  0.849315  0.000000\n",
       "WIN_20210417_14_53_12_Pro        0.794521  0.205479  0.000000"
      ],
      "text/html": "<div>\n<style scoped>\n    .dataframe tbody tr th:only-of-type {\n        vertical-align: middle;\n    }\n\n    .dataframe tbody tr th {\n        vertical-align: top;\n    }\n\n    .dataframe thead th {\n        text-align: right;\n    }\n</style>\n<table border=\"1\" class=\"dataframe\">\n  <thead>\n    <tr style=\"text-align: right;\">\n      <th>ypredict</th>\n      <th>0</th>\n      <th>1</th>\n      <th>2</th>\n    </tr>\n    <tr>\n      <th>video_name</th>\n      <th></th>\n      <th></th>\n      <th></th>\n    </tr>\n  </thead>\n  <tbody>\n    <tr>\n      <th>Test_pour_AFPA</th>\n      <td>0.014085</td>\n      <td>0.985915</td>\n      <td>0.000000</td>\n    </tr>\n    <tr>\n      <th>Video_1</th>\n      <td>0.694444</td>\n      <td>0.305556</td>\n      <td>0.000000</td>\n    </tr>\n    <tr>\n      <th>WIN_20210323_19_17_40_Pro</th>\n      <td>0.472222</td>\n      <td>0.527778</td>\n      <td>0.000000</td>\n    </tr>\n    <tr>\n      <th>WIN_20210329_10_16_02_Pro</th>\n      <td>0.027778</td>\n      <td>0.972222</td>\n      <td>0.000000</td>\n    </tr>\n    <tr>\n      <th>WIN_20210330_13_10_29_Pro</th>\n      <td>0.000000</td>\n      <td>1.000000</td>\n      <td>0.000000</td>\n    </tr>\n    <tr>\n      <th>WIN_20210331_21_22_52_Pro</th>\n      <td>0.084507</td>\n      <td>0.915493</td>\n      <td>0.000000</td>\n    </tr>\n    <tr>\n      <th>WIN_20210402_14_27_50_Pro</th>\n      <td>0.013889</td>\n      <td>0.027778</td>\n      <td>0.958333</td>\n    </tr>\n    <tr>\n      <th>WIN_20210402_19_04_53_Pro</th>\n      <td>0.333333</td>\n      <td>0.666667</td>\n      <td>0.000000</td>\n    </tr>\n    <tr>\n      <th>WIN_20210403_18_49_15_Pro</th>\n      <td>0.250000</td>\n      <td>0.750000</td>\n      <td>0.000000</td>\n    </tr>\n    <tr>\n      <th>WIN_20210404_10_58_27_Pro</th>\n      <td>0.246575</td>\n      <td>0.753425</td>\n      <td>0.000000</td>\n    </tr>\n    <tr>\n      <th>WIN_20210404_21_41_12_Pro</th>\n      <td>0.301370</td>\n      <td>0.698630</td>\n      <td>0.000000</td>\n    </tr>\n    <tr>\n      <th>WIN_20210405_15_09_16_Pro</th>\n      <td>0.904110</td>\n      <td>0.095890</td>\n      <td>0.000000</td>\n    </tr>\n    <tr>\n      <th>WIN_20210406_15_06_15_Pro</th>\n      <td>0.847222</td>\n      <td>0.152778</td>\n      <td>0.000000</td>\n    </tr>\n    <tr>\n      <th>WIN_20210406_18_35_52_Pro</th>\n      <td>0.888889</td>\n      <td>0.111111</td>\n      <td>0.000000</td>\n    </tr>\n    <tr>\n      <th>WIN_20210406_18_49_10_Pro</th>\n      <td>0.902778</td>\n      <td>0.097222</td>\n      <td>0.000000</td>\n    </tr>\n    <tr>\n      <th>WIN_20210406_21_05_52_Pro</th>\n      <td>0.647887</td>\n      <td>0.352113</td>\n      <td>0.000000</td>\n    </tr>\n    <tr>\n      <th>WIN_20210407_09_04_05_Pro</th>\n      <td>0.424658</td>\n      <td>0.575342</td>\n      <td>0.000000</td>\n    </tr>\n    <tr>\n      <th>WIN_20210407_14_54_56_Pro_edit2</th>\n      <td>0.611111</td>\n      <td>0.388889</td>\n      <td>0.000000</td>\n    </tr>\n    <tr>\n      <th>WIN_20210408_11_48_58_Pro</th>\n      <td>0.097222</td>\n      <td>0.888889</td>\n      <td>0.013889</td>\n    </tr>\n    <tr>\n      <th>WIN_20210408_14_00_44_Pro</th>\n      <td>0.605634</td>\n      <td>0.394366</td>\n      <td>0.000000</td>\n    </tr>\n    <tr>\n      <th>WIN_20210408_14_02_19_Pro</th>\n      <td>0.328767</td>\n      <td>0.547945</td>\n      <td>0.123288</td>\n    </tr>\n    <tr>\n      <th>WIN_20210408_14_11_32_Pro</th>\n      <td>0.000000</td>\n      <td>1.000000</td>\n      <td>0.000000</td>\n    </tr>\n    <tr>\n      <th>WIN_20210408_15_20_51_Pro</th>\n      <td>0.712329</td>\n      <td>0.287671</td>\n      <td>0.000000</td>\n    </tr>\n    <tr>\n      <th>WIN_20210408_16_04_32_Pro</th>\n      <td>0.291667</td>\n      <td>0.708333</td>\n      <td>0.000000</td>\n    </tr>\n    <tr>\n      <th>WIN_20210409_10_26_11_Pro</th>\n      <td>0.736111</td>\n      <td>0.263889</td>\n      <td>0.000000</td>\n    </tr>\n    <tr>\n      <th>WIN_20210413_15_38_01_Pro</th>\n      <td>0.541667</td>\n      <td>0.458333</td>\n      <td>0.000000</td>\n    </tr>\n    <tr>\n      <th>WIN_20210414_06_24_52_Pro</th>\n      <td>0.777778</td>\n      <td>0.222222</td>\n      <td>0.000000</td>\n    </tr>\n    <tr>\n      <th>WIN_20210415_15_41_24_Pro</th>\n      <td>0.890411</td>\n      <td>0.109589</td>\n      <td>0.000000</td>\n    </tr>\n    <tr>\n      <th>WIN_20210416_08_06_54_Pro</th>\n      <td>0.150685</td>\n      <td>0.849315</td>\n      <td>0.000000</td>\n    </tr>\n    <tr>\n      <th>WIN_20210417_14_53_12_Pro</th>\n      <td>0.794521</td>\n      <td>0.205479</td>\n      <td>0.000000</td>\n    </tr>\n  </tbody>\n</table>\n</div>"
     },
     "metadata": {},
     "execution_count": 212
    }
   ],
   "source": [
    "df_ypredict = pd.read_csv('ypredict_' + features + '_tw5' + diapo_selection + '.csv')\n",
    "df_ypredict = df_ypredict.iloc[:,1:]\n",
    "df_ypredict.columns = ['video_name','diapo','frameTimeWindow','ypredict']\n",
    "df_ypredict['ypredict'] = df_ypredict['ypredict'].astype(int)\n",
    "df_ypredict = df_ypredict.pivot_table(values='frameTimeWindow', columns='ypredict', index='video_name', aggfunc='count', fill_value=0)\n",
    "df_ypredict_sum = df_ypredict.sum(axis=1).values.copy()\n",
    "for col_number in range(len(df_ypredict.columns)):\n",
    "    df_ypredict.iloc[:,col_number] = df_ypredict.iloc[:,col_number] / df_ypredict_sum\n",
    "#df_ypredict = df_ypredict.reset_index()\n",
    "df_ypredict\n"
   ]
  },
  {
   "cell_type": "code",
   "execution_count": 213,
   "metadata": {},
   "outputs": [],
   "source": [
    "df_annotations_stress = pd.read_csv('annotations.csv')\n",
    "df_annotations_stress = df_annotations_stress[['video_name','stress_global']]"
   ]
  },
  {
   "cell_type": "code",
   "execution_count": 214,
   "metadata": {},
   "outputs": [],
   "source": [
    "Xy = df_ypredict.merge(df_annotations_stress, on='video_name')\n",
    "X = Xy.iloc[:,:-1].set_index('video_name')\n",
    "y = Xy.iloc[:,-1]"
   ]
  },
  {
   "cell_type": "code",
   "execution_count": 215,
   "metadata": {},
   "outputs": [],
   "source": [
    "from sklearn.linear_model import LogisticRegression\n",
    "from sklearn.neighbors import KNeighborsClassifier\n",
    "from sklearn.ensemble import RandomForestClassifier\n",
    "from sklearn.model_selection import LeaveOneGroupOut\n",
    "from sklearn.decomposition import PCA\n",
    "from sklearn.pipeline import Pipeline\n",
    "\n",
    "pca = PCA()\n",
    "\n",
    "models_list = [\n",
    "                LogisticRegression(multi_class='multinomial', fit_intercept=True, random_state=42),\n",
    "                Pipeline(steps=[('pca', pca), ('logistic', LogisticRegression(multi_class='multinomial', fit_intercept=True))]),\n",
    "                KNeighborsClassifier(),\n",
    "                Pipeline(steps=[('pca', pca), ('knn', KNeighborsClassifier())]),\n",
    "                RandomForestClassifier(random_state = 42, n_jobs=-1)\n",
    "                ]\n",
    "\n",
    "parameters_list = [\n",
    "                    {'C': [0.01, 0.05, 0.1, 0.5, 1, 2, 3, 4 , 5, 10], 'class_weight' : [None, 'balanced']},\n",
    "                    {'pca__n_components': [1, 2, 3, 4],\n",
    "                        'logistic__C': [0.01, 0.05, 0.1, 0.5, 1, 2, 3, 4 , 5, 10], 'logistic__class_weight' : [None, 'balanced']},\n",
    "                    {'n_neighbors': [4, 5, 6, 7, 8, 9, 10, 11, 12,  15, 20], 'weights' : ['uniform', 'distance'], 'p': [1, 2]},\n",
    "                    {'pca__n_components': [1, 2, 3, 4],\n",
    "                        'knn__n_neighbors': [4, 5, 6, 7, 8, 9, 10, 11, 12,  15, 20], 'knn__weights' : ['uniform', 'distance'],                              'knn__p': [1, 2]},\n",
    "                    {'n_estimators': [50, 100, 150, 200], 'max_depth':[3, 4, 5, 6, 10, 15, 20], 'class_weight':[None,'balanced']}\n",
    "                    ]\n",
    "\n",
    "groups = X.reset_index()['video_name']\n",
    "loo = LeaveOneGroupOut()\n",
    "cv_loo = loo.split(X, y, groups)"
   ]
  },
  {
   "cell_type": "code",
   "execution_count": 216,
   "metadata": {},
   "outputs": [
    {
     "output_type": "stream",
     "name": "stdout",
     "text": [
      "Fitting 5 folds for each of 20 candidates, totalling 100 fits\n",
      "[Parallel(n_jobs=-1)]: Using backend LokyBackend with 8 concurrent workers.\n",
      "[Parallel(n_jobs=-1)]: Done  56 tasks      | elapsed:    0.3s\n",
      "[Parallel(n_jobs=-1)]: Done  85 out of 100 | elapsed:    0.4s remaining:    0.1s\n",
      "[Parallel(n_jobs=-1)]: Done 100 out of 100 | elapsed:    0.4s finished\n",
      "[Parallel(n_jobs=-1)]: Using backend LokyBackend with 8 concurrent workers.\n",
      "Best estimator LogisticRegression(C=1, multi_class='multinomial', random_state=42)\n",
      "Best results 0.39714285714285713\n",
      "Best params {'C': 1, 'class_weight': None}\n",
      "accuracy (mean, std) 0.4666666666666667 0.22110831935702668\n",
      "f1 (mean, std) 0.39714285714285713 0.21098671594645593\n",
      "balanced accuracy (mean, std) 0.4222222222222222 0.17777777777777776\n",
      "precision (mean, std) 0.38499999999999995 0.20374275719914836\n",
      "recall (mean, std) 0.4666666666666667 0.22110831935702668\n",
      "\n",
      "Fitting 5 folds for each of 80 candidates, totalling 400 fits\n",
      "[Parallel(n_jobs=-1)]: Done  56 tasks      | elapsed:    0.3s\n",
      "[Parallel(n_jobs=-1)]: Done 400 out of 400 | elapsed:    1.2s finished\n",
      "[Parallel(n_jobs=-1)]: Using backend LokyBackend with 8 concurrent workers.\n",
      "Best estimator Pipeline(steps=[('pca', PCA(n_components=1)),\n",
      "                ('logistic',\n",
      "                 LogisticRegression(C=2, multi_class='multinomial'))])\n",
      "Best results 0.423968253968254\n",
      "Best params {'logistic__C': 2, 'logistic__class_weight': None, 'pca__n_components': 1}\n",
      "accuracy (mean, std) 0.5 0.21081851067789198\n",
      "f1 (mean, std) 0.423968253968254 0.20830356552258777\n",
      "balanced accuracy (mean, std) 0.45555555555555555 0.1625415426480866\n",
      "precision (mean, std) 0.4477777777777778 0.22628508185827217\n",
      "recall (mean, std) 0.5 0.21081851067789198\n",
      "\n",
      "Fitting 5 folds for each of 44 candidates, totalling 220 fits\n",
      "[Parallel(n_jobs=-1)]: Done  56 tasks      | elapsed:    0.2s\n",
      "[Parallel(n_jobs=-1)]: Done 220 out of 220 | elapsed:    0.6s finished\n",
      "[Parallel(n_jobs=-1)]: Using backend LokyBackend with 8 concurrent workers.\n",
      "Best estimator KNeighborsClassifier(n_neighbors=20, p=1, weights='distance')\n",
      "Best results 0.4507936507936507\n",
      "Best params {'n_neighbors': 20, 'p': 1, 'weights': 'distance'}\n",
      "accuracy (mean, std) 0.5 0.10540925533894598\n",
      "f1 (mean, std) 0.4507936507936507 0.14394646411116993\n",
      "balanced accuracy (mean, std) 0.4444444444444445 0.07027283689263067\n",
      "precision (mean, std) 0.4766666666666667 0.16983652270475996\n",
      "recall (mean, std) 0.5 0.10540925533894598\n",
      "\n",
      "Fitting 5 folds for each of 176 candidates, totalling 880 fits\n",
      "[Parallel(n_jobs=-1)]: Done  56 tasks      | elapsed:    0.3s\n",
      "[Parallel(n_jobs=-1)]: Done 880 out of 880 | elapsed:    2.1s finished\n",
      "[Parallel(n_jobs=-1)]: Using backend LokyBackend with 8 concurrent workers.\n",
      "Best estimator Pipeline(steps=[('pca', PCA(n_components=1)),\n",
      "                ('knn',\n",
      "                 KNeighborsClassifier(n_neighbors=6, p=1, weights='distance'))])\n",
      "Best results 0.4933333333333333\n",
      "Best params {'knn__n_neighbors': 6, 'knn__p': 1, 'knn__weights': 'distance', 'pca__n_components': 1}\n",
      "accuracy (mean, std) 0.5333333333333333 0.1632993161855452\n",
      "f1 (mean, std) 0.4933333333333333 0.1768866554856213\n",
      "balanced accuracy (mean, std) 0.4777777777777777 0.12957670877434\n",
      "precision (mean, std) 0.48888888888888893 0.18392161508052055\n",
      "recall (mean, std) 0.5333333333333333 0.1632993161855452\n",
      "\n",
      "Fitting 5 folds for each of 56 candidates, totalling 280 fits\n",
      "[Parallel(n_jobs=-1)]: Done  52 tasks      | elapsed:    3.6s\n",
      "[Parallel(n_jobs=-1)]: Done 224 tasks      | elapsed:   13.3s\n",
      "Best estimator RandomForestClassifier(max_depth=3, n_estimators=50, n_jobs=-1, random_state=42)\n",
      "Best results 0.40587301587301583\n",
      "Best params {'class_weight': None, 'max_depth': 3, 'n_estimators': 50}\n",
      "accuracy (mean, std) 0.4333333333333333 0.08164965809277261\n",
      "f1 (mean, std) 0.40587301587301583 0.11179337020399352\n",
      "balanced accuracy (mean, std) 0.4333333333333333 0.1077262190536962\n",
      "precision (mean, std) 0.4655555555555556 0.16793590782141404\n",
      "recall (mean, std) 0.4333333333333333 0.08164965809277261\n",
      "\n",
      "f1_score (weighted) 0.48638838475499097\n",
      "accuracy 0.5333333333333333\n",
      "[Parallel(n_jobs=-1)]: Done 280 out of 280 | elapsed:   16.9s finished\n"
     ]
    }
   ],
   "source": [
    "best_result, y_predict, y_predict_proba, result_list = runGridSearchClassifiers(X, y, 5, models_list, parameters_list, \n",
    "                                                                output_predict=True, n_jobs=-1, verbose=True)"
   ]
  },
  {
   "cell_type": "code",
   "execution_count": 217,
   "metadata": {},
   "outputs": [
    {
     "output_type": "execute_result",
     "data": {
      "text/plain": [
       "{'best_estimator': Pipeline(steps=[('pca', PCA(n_components=1)),\n",
       "                 ('knn',\n",
       "                  KNeighborsClassifier(n_neighbors=6, p=1, weights='distance'))]),\n",
       " 'best_score': 0.4933333333333333,\n",
       " 'best_params': {'knn__n_neighbors': 6,\n",
       "  'knn__p': 1,\n",
       "  'knn__weights': 'distance',\n",
       "  'pca__n_components': 1},\n",
       " 'mean_test_f1_score': 0.4933333333333333,\n",
       " 'std_test_f1_score': 0.1768866554856213,\n",
       " 'mean_test_accuracy_score': 0.5333333333333333,\n",
       " 'std_test_accuracy_score': 0.1632993161855452,\n",
       " 'mean_test_balanced_accuracy_score': 0.4777777777777777,\n",
       " 'std_test_balanced_accuracy_score': 0.12957670877434,\n",
       " 'mean_test_precision': 0.48888888888888893,\n",
       " 'std_test_precision': 0.18392161508052055,\n",
       " 'mean_test_recall': 0.5333333333333333,\n",
       " 'std_test_recall': 0.1632993161855452}"
      ]
     },
     "metadata": {},
     "execution_count": 217
    }
   ],
   "source": [
    "best_result"
   ]
  },
  {
   "cell_type": "markdown",
   "metadata": {},
   "source": [
    "#### Autre méthode"
   ]
  },
  {
   "cell_type": "code",
   "execution_count": 218,
   "metadata": {},
   "outputs": [
    {
     "output_type": "execute_result",
     "data": {
      "text/plain": [
       "                                 ypredict                             \\\n",
       "                                     mean  min  max median       std   \n",
       "video_name                                                             \n",
       "Test_pour_AFPA                   0.985915  0.0  1.0    1.0  0.118678   \n",
       "Video_1                          0.305556  0.0  1.0    0.0  0.463875   \n",
       "WIN_20210323_19_17_40_Pro        0.527778  0.0  1.0    1.0  0.502731   \n",
       "WIN_20210329_10_16_02_Pro        0.972222  0.0  1.0    1.0  0.165489   \n",
       "WIN_20210330_13_10_29_Pro        1.000000  1.0  1.0    1.0  0.000000   \n",
       "WIN_20210331_21_22_52_Pro        0.915493  0.0  1.0    1.0  0.280126   \n",
       "WIN_20210402_14_27_50_Pro        1.944444  0.0  2.0    2.0  0.285267   \n",
       "WIN_20210402_19_04_53_Pro        0.666667  0.0  1.0    1.0  0.474713   \n",
       "WIN_20210403_18_49_15_Pro        0.750000  0.0  1.0    1.0  0.436051   \n",
       "WIN_20210404_10_58_27_Pro        0.753425  0.0  1.0    1.0  0.434000   \n",
       "WIN_20210404_21_41_12_Pro        0.698630  0.0  1.0    1.0  0.462028   \n",
       "WIN_20210405_15_09_16_Pro        0.095890  0.0  1.0    0.0  0.296479   \n",
       "WIN_20210406_15_06_15_Pro        0.152778  0.0  1.0    0.0  0.362298   \n",
       "WIN_20210406_18_35_52_Pro        0.111111  0.0  1.0    0.0  0.316475   \n",
       "WIN_20210406_18_49_10_Pro        0.097222  0.0  1.0    0.0  0.298339   \n",
       "WIN_20210406_21_05_52_Pro        0.352113  0.0  1.0    0.0  0.481028   \n",
       "WIN_20210407_09_04_05_Pro        0.575342  0.0  1.0    1.0  0.497712   \n",
       "WIN_20210407_14_54_56_Pro_edit2  0.388889  0.0  1.0    0.0  0.490919   \n",
       "WIN_20210408_11_48_58_Pro        0.916667  0.0  2.0    1.0  0.325014   \n",
       "WIN_20210408_14_00_44_Pro        0.394366  0.0  1.0    0.0  0.492193   \n",
       "WIN_20210408_14_02_19_Pro        0.794521  0.0  2.0    1.0  0.644612   \n",
       "WIN_20210408_14_11_32_Pro        1.000000  1.0  1.0    1.0  0.000000   \n",
       "WIN_20210408_15_20_51_Pro        0.287671  0.0  1.0    0.0  0.455810   \n",
       "WIN_20210408_16_04_32_Pro        0.708333  0.0  1.0    1.0  0.457719   \n",
       "WIN_20210409_10_26_11_Pro        0.263889  0.0  1.0    0.0  0.443833   \n",
       "WIN_20210413_15_38_01_Pro        0.458333  0.0  1.0    0.0  0.501757   \n",
       "WIN_20210414_06_24_52_Pro        0.222222  0.0  1.0    0.0  0.418657   \n",
       "WIN_20210415_15_41_24_Pro        0.109589  0.0  1.0    0.0  0.314539   \n",
       "WIN_20210416_08_06_54_Pro        0.849315  0.0  1.0    1.0  0.360217   \n",
       "WIN_20210417_14_53_12_Pro        0.205479  0.0  1.0    0.0  0.406848   \n",
       "\n",
       "                                                                              \n",
       "                                percentil25 percentil75   kurtosis      skew  \n",
       "video_name                                                                    \n",
       "Test_pour_AFPA                         1.00         1.0  66.014286 -8.247077  \n",
       "Video_1                                0.00         1.0  -1.287273  0.844232  \n",
       "WIN_20210323_19_17_40_Pro              0.00         1.0  -1.987616 -0.111283  \n",
       "WIN_20210329_10_16_02_Pro              1.00         1.0  31.028571 -5.747049  \n",
       "WIN_20210330_13_10_29_Pro              1.00         1.0  -3.000000  0.000000  \n",
       "WIN_20210331_21_22_52_Pro              1.00         1.0   6.925641 -2.987581  \n",
       "WIN_20210402_14_27_50_Pro              2.00         2.0  31.264793 -5.513881  \n",
       "WIN_20210402_19_04_53_Pro              0.00         1.0  -1.500000 -0.707107  \n",
       "WIN_20210403_18_49_15_Pro              0.75         1.0  -0.666667 -1.154701  \n",
       "WIN_20210404_10_58_27_Pro              1.00         1.0  -0.617172 -1.175937  \n",
       "WIN_20210404_21_41_12_Pro              0.00         1.0  -1.250446 -0.865768  \n",
       "WIN_20210405_15_09_16_Pro              0.00         0.0   5.534632  2.744928  \n",
       "WIN_20210406_15_06_15_Pro              0.00         0.0   1.725782  1.930229  \n",
       "WIN_20210406_18_35_52_Pro              0.00         0.0   4.125000  2.474874  \n",
       "WIN_20210406_18_49_10_Pro              0.00         0.0   5.393407  2.719082  \n",
       "WIN_20210406_21_05_52_Pro              0.00         1.0  -1.616522  0.619256  \n",
       "WIN_20210407_09_04_05_Pro              0.00         1.0  -1.907066 -0.304851  \n",
       "WIN_20210407_14_54_56_Pro_edit2        0.00         1.0  -1.792208  0.455842  \n",
       "WIN_20210408_11_48_58_Pro              1.00         1.0   5.093333 -1.686899  \n",
       "WIN_20210408_14_00_44_Pro              0.00         1.0  -1.813123  0.432293  \n",
       "WIN_20210408_14_02_19_Pro              0.00         1.0  -0.664136  0.212805  \n",
       "WIN_20210408_14_11_32_Pro              1.00         1.0  -3.000000  0.000000  \n",
       "WIN_20210408_15_20_51_Pro              0.00         1.0  -1.119963  0.938103  \n",
       "WIN_20210408_16_04_32_Pro              0.00         1.0  -1.159664 -0.916698  \n",
       "WIN_20210409_10_26_11_Pro              0.00         1.0  -0.852036  1.071431  \n",
       "WIN_20210413_15_38_01_Pro              0.00         1.0  -1.972028  0.167248  \n",
       "WIN_20210414_06_24_52_Pro              0.00         0.0  -0.214286  1.336306  \n",
       "WIN_20210415_15_41_24_Pro              0.00         0.0   4.248077  2.499615  \n",
       "WIN_20210416_08_06_54_Pro              1.00         1.0   1.813783 -1.952891  \n",
       "WIN_20210417_14_53_12_Pro              0.00         0.0   0.125287  1.457837  "
      ],
      "text/html": "<div>\n<style scoped>\n    .dataframe tbody tr th:only-of-type {\n        vertical-align: middle;\n    }\n\n    .dataframe tbody tr th {\n        vertical-align: top;\n    }\n\n    .dataframe thead tr th {\n        text-align: left;\n    }\n\n    .dataframe thead tr:last-of-type th {\n        text-align: right;\n    }\n</style>\n<table border=\"1\" class=\"dataframe\">\n  <thead>\n    <tr>\n      <th></th>\n      <th colspan=\"9\" halign=\"left\">ypredict</th>\n    </tr>\n    <tr>\n      <th></th>\n      <th>mean</th>\n      <th>min</th>\n      <th>max</th>\n      <th>median</th>\n      <th>std</th>\n      <th>percentil25</th>\n      <th>percentil75</th>\n      <th>kurtosis</th>\n      <th>skew</th>\n    </tr>\n    <tr>\n      <th>video_name</th>\n      <th></th>\n      <th></th>\n      <th></th>\n      <th></th>\n      <th></th>\n      <th></th>\n      <th></th>\n      <th></th>\n      <th></th>\n    </tr>\n  </thead>\n  <tbody>\n    <tr>\n      <th>Test_pour_AFPA</th>\n      <td>0.985915</td>\n      <td>0.0</td>\n      <td>1.0</td>\n      <td>1.0</td>\n      <td>0.118678</td>\n      <td>1.00</td>\n      <td>1.0</td>\n      <td>66.014286</td>\n      <td>-8.247077</td>\n    </tr>\n    <tr>\n      <th>Video_1</th>\n      <td>0.305556</td>\n      <td>0.0</td>\n      <td>1.0</td>\n      <td>0.0</td>\n      <td>0.463875</td>\n      <td>0.00</td>\n      <td>1.0</td>\n      <td>-1.287273</td>\n      <td>0.844232</td>\n    </tr>\n    <tr>\n      <th>WIN_20210323_19_17_40_Pro</th>\n      <td>0.527778</td>\n      <td>0.0</td>\n      <td>1.0</td>\n      <td>1.0</td>\n      <td>0.502731</td>\n      <td>0.00</td>\n      <td>1.0</td>\n      <td>-1.987616</td>\n      <td>-0.111283</td>\n    </tr>\n    <tr>\n      <th>WIN_20210329_10_16_02_Pro</th>\n      <td>0.972222</td>\n      <td>0.0</td>\n      <td>1.0</td>\n      <td>1.0</td>\n      <td>0.165489</td>\n      <td>1.00</td>\n      <td>1.0</td>\n      <td>31.028571</td>\n      <td>-5.747049</td>\n    </tr>\n    <tr>\n      <th>WIN_20210330_13_10_29_Pro</th>\n      <td>1.000000</td>\n      <td>1.0</td>\n      <td>1.0</td>\n      <td>1.0</td>\n      <td>0.000000</td>\n      <td>1.00</td>\n      <td>1.0</td>\n      <td>-3.000000</td>\n      <td>0.000000</td>\n    </tr>\n    <tr>\n      <th>WIN_20210331_21_22_52_Pro</th>\n      <td>0.915493</td>\n      <td>0.0</td>\n      <td>1.0</td>\n      <td>1.0</td>\n      <td>0.280126</td>\n      <td>1.00</td>\n      <td>1.0</td>\n      <td>6.925641</td>\n      <td>-2.987581</td>\n    </tr>\n    <tr>\n      <th>WIN_20210402_14_27_50_Pro</th>\n      <td>1.944444</td>\n      <td>0.0</td>\n      <td>2.0</td>\n      <td>2.0</td>\n      <td>0.285267</td>\n      <td>2.00</td>\n      <td>2.0</td>\n      <td>31.264793</td>\n      <td>-5.513881</td>\n    </tr>\n    <tr>\n      <th>WIN_20210402_19_04_53_Pro</th>\n      <td>0.666667</td>\n      <td>0.0</td>\n      <td>1.0</td>\n      <td>1.0</td>\n      <td>0.474713</td>\n      <td>0.00</td>\n      <td>1.0</td>\n      <td>-1.500000</td>\n      <td>-0.707107</td>\n    </tr>\n    <tr>\n      <th>WIN_20210403_18_49_15_Pro</th>\n      <td>0.750000</td>\n      <td>0.0</td>\n      <td>1.0</td>\n      <td>1.0</td>\n      <td>0.436051</td>\n      <td>0.75</td>\n      <td>1.0</td>\n      <td>-0.666667</td>\n      <td>-1.154701</td>\n    </tr>\n    <tr>\n      <th>WIN_20210404_10_58_27_Pro</th>\n      <td>0.753425</td>\n      <td>0.0</td>\n      <td>1.0</td>\n      <td>1.0</td>\n      <td>0.434000</td>\n      <td>1.00</td>\n      <td>1.0</td>\n      <td>-0.617172</td>\n      <td>-1.175937</td>\n    </tr>\n    <tr>\n      <th>WIN_20210404_21_41_12_Pro</th>\n      <td>0.698630</td>\n      <td>0.0</td>\n      <td>1.0</td>\n      <td>1.0</td>\n      <td>0.462028</td>\n      <td>0.00</td>\n      <td>1.0</td>\n      <td>-1.250446</td>\n      <td>-0.865768</td>\n    </tr>\n    <tr>\n      <th>WIN_20210405_15_09_16_Pro</th>\n      <td>0.095890</td>\n      <td>0.0</td>\n      <td>1.0</td>\n      <td>0.0</td>\n      <td>0.296479</td>\n      <td>0.00</td>\n      <td>0.0</td>\n      <td>5.534632</td>\n      <td>2.744928</td>\n    </tr>\n    <tr>\n      <th>WIN_20210406_15_06_15_Pro</th>\n      <td>0.152778</td>\n      <td>0.0</td>\n      <td>1.0</td>\n      <td>0.0</td>\n      <td>0.362298</td>\n      <td>0.00</td>\n      <td>0.0</td>\n      <td>1.725782</td>\n      <td>1.930229</td>\n    </tr>\n    <tr>\n      <th>WIN_20210406_18_35_52_Pro</th>\n      <td>0.111111</td>\n      <td>0.0</td>\n      <td>1.0</td>\n      <td>0.0</td>\n      <td>0.316475</td>\n      <td>0.00</td>\n      <td>0.0</td>\n      <td>4.125000</td>\n      <td>2.474874</td>\n    </tr>\n    <tr>\n      <th>WIN_20210406_18_49_10_Pro</th>\n      <td>0.097222</td>\n      <td>0.0</td>\n      <td>1.0</td>\n      <td>0.0</td>\n      <td>0.298339</td>\n      <td>0.00</td>\n      <td>0.0</td>\n      <td>5.393407</td>\n      <td>2.719082</td>\n    </tr>\n    <tr>\n      <th>WIN_20210406_21_05_52_Pro</th>\n      <td>0.352113</td>\n      <td>0.0</td>\n      <td>1.0</td>\n      <td>0.0</td>\n      <td>0.481028</td>\n      <td>0.00</td>\n      <td>1.0</td>\n      <td>-1.616522</td>\n      <td>0.619256</td>\n    </tr>\n    <tr>\n      <th>WIN_20210407_09_04_05_Pro</th>\n      <td>0.575342</td>\n      <td>0.0</td>\n      <td>1.0</td>\n      <td>1.0</td>\n      <td>0.497712</td>\n      <td>0.00</td>\n      <td>1.0</td>\n      <td>-1.907066</td>\n      <td>-0.304851</td>\n    </tr>\n    <tr>\n      <th>WIN_20210407_14_54_56_Pro_edit2</th>\n      <td>0.388889</td>\n      <td>0.0</td>\n      <td>1.0</td>\n      <td>0.0</td>\n      <td>0.490919</td>\n      <td>0.00</td>\n      <td>1.0</td>\n      <td>-1.792208</td>\n      <td>0.455842</td>\n    </tr>\n    <tr>\n      <th>WIN_20210408_11_48_58_Pro</th>\n      <td>0.916667</td>\n      <td>0.0</td>\n      <td>2.0</td>\n      <td>1.0</td>\n      <td>0.325014</td>\n      <td>1.00</td>\n      <td>1.0</td>\n      <td>5.093333</td>\n      <td>-1.686899</td>\n    </tr>\n    <tr>\n      <th>WIN_20210408_14_00_44_Pro</th>\n      <td>0.394366</td>\n      <td>0.0</td>\n      <td>1.0</td>\n      <td>0.0</td>\n      <td>0.492193</td>\n      <td>0.00</td>\n      <td>1.0</td>\n      <td>-1.813123</td>\n      <td>0.432293</td>\n    </tr>\n    <tr>\n      <th>WIN_20210408_14_02_19_Pro</th>\n      <td>0.794521</td>\n      <td>0.0</td>\n      <td>2.0</td>\n      <td>1.0</td>\n      <td>0.644612</td>\n      <td>0.00</td>\n      <td>1.0</td>\n      <td>-0.664136</td>\n      <td>0.212805</td>\n    </tr>\n    <tr>\n      <th>WIN_20210408_14_11_32_Pro</th>\n      <td>1.000000</td>\n      <td>1.0</td>\n      <td>1.0</td>\n      <td>1.0</td>\n      <td>0.000000</td>\n      <td>1.00</td>\n      <td>1.0</td>\n      <td>-3.000000</td>\n      <td>0.000000</td>\n    </tr>\n    <tr>\n      <th>WIN_20210408_15_20_51_Pro</th>\n      <td>0.287671</td>\n      <td>0.0</td>\n      <td>1.0</td>\n      <td>0.0</td>\n      <td>0.455810</td>\n      <td>0.00</td>\n      <td>1.0</td>\n      <td>-1.119963</td>\n      <td>0.938103</td>\n    </tr>\n    <tr>\n      <th>WIN_20210408_16_04_32_Pro</th>\n      <td>0.708333</td>\n      <td>0.0</td>\n      <td>1.0</td>\n      <td>1.0</td>\n      <td>0.457719</td>\n      <td>0.00</td>\n      <td>1.0</td>\n      <td>-1.159664</td>\n      <td>-0.916698</td>\n    </tr>\n    <tr>\n      <th>WIN_20210409_10_26_11_Pro</th>\n      <td>0.263889</td>\n      <td>0.0</td>\n      <td>1.0</td>\n      <td>0.0</td>\n      <td>0.443833</td>\n      <td>0.00</td>\n      <td>1.0</td>\n      <td>-0.852036</td>\n      <td>1.071431</td>\n    </tr>\n    <tr>\n      <th>WIN_20210413_15_38_01_Pro</th>\n      <td>0.458333</td>\n      <td>0.0</td>\n      <td>1.0</td>\n      <td>0.0</td>\n      <td>0.501757</td>\n      <td>0.00</td>\n      <td>1.0</td>\n      <td>-1.972028</td>\n      <td>0.167248</td>\n    </tr>\n    <tr>\n      <th>WIN_20210414_06_24_52_Pro</th>\n      <td>0.222222</td>\n      <td>0.0</td>\n      <td>1.0</td>\n      <td>0.0</td>\n      <td>0.418657</td>\n      <td>0.00</td>\n      <td>0.0</td>\n      <td>-0.214286</td>\n      <td>1.336306</td>\n    </tr>\n    <tr>\n      <th>WIN_20210415_15_41_24_Pro</th>\n      <td>0.109589</td>\n      <td>0.0</td>\n      <td>1.0</td>\n      <td>0.0</td>\n      <td>0.314539</td>\n      <td>0.00</td>\n      <td>0.0</td>\n      <td>4.248077</td>\n      <td>2.499615</td>\n    </tr>\n    <tr>\n      <th>WIN_20210416_08_06_54_Pro</th>\n      <td>0.849315</td>\n      <td>0.0</td>\n      <td>1.0</td>\n      <td>1.0</td>\n      <td>0.360217</td>\n      <td>1.00</td>\n      <td>1.0</td>\n      <td>1.813783</td>\n      <td>-1.952891</td>\n    </tr>\n    <tr>\n      <th>WIN_20210417_14_53_12_Pro</th>\n      <td>0.205479</td>\n      <td>0.0</td>\n      <td>1.0</td>\n      <td>0.0</td>\n      <td>0.406848</td>\n      <td>0.00</td>\n      <td>0.0</td>\n      <td>0.125287</td>\n      <td>1.457837</td>\n    </tr>\n  </tbody>\n</table>\n</div>"
     },
     "metadata": {},
     "execution_count": 218
    }
   ],
   "source": [
    "df_ypredict = pd.read_csv('ypredict_' + features + '_tw5' + diapo_selection + '.csv')\n",
    "df_ypredict = df_ypredict.iloc[:,1:]\n",
    "df_ypredict.columns = ['video_name','diapo','frameTimeWindow','ypredict']\n",
    "df_ypredict = df_ypredict.groupby(['video_name']).agg({'ypredict': ['mean','min','max', 'median', 'std', percentil25, percentil75, kurtosis, skew]})\n",
    "df_ypredict\n"
   ]
  },
  {
   "cell_type": "code",
   "execution_count": 219,
   "metadata": {},
   "outputs": [],
   "source": [
    "Xy = df_ypredict.merge(df_annotations_stress, on='video_name')\n",
    "X = Xy.iloc[:,:-1].set_index('video_name')\n",
    "y = Xy.iloc[:,-1]"
   ]
  },
  {
   "cell_type": "code",
   "execution_count": 220,
   "metadata": {},
   "outputs": [],
   "source": [
    "from sklearn.linear_model import LogisticRegression\n",
    "from sklearn.neighbors import KNeighborsClassifier\n",
    "from sklearn.ensemble import RandomForestClassifier\n",
    "from sklearn.model_selection import LeaveOneGroupOut\n",
    "from sklearn.decomposition import PCA\n",
    "from sklearn.pipeline import Pipeline\n",
    "\n",
    "pca = PCA()\n",
    "\n",
    "models_list = [\n",
    "                LogisticRegression(multi_class='multinomial', fit_intercept=True, random_state=42),\n",
    "                Pipeline(steps=[('pca', pca), ('logistic', LogisticRegression(multi_class='multinomial', fit_intercept=True))]),\n",
    "                KNeighborsClassifier(),\n",
    "                Pipeline(steps=[('pca', pca), ('knn', KNeighborsClassifier())]),\n",
    "                RandomForestClassifier(random_state = 42, n_jobs=-1)\n",
    "                ]\n",
    "\n",
    "parameters_list = [\n",
    "                    {'C': [0.01, 0.05, 0.1, 0.5, 1, 2, 3, 4 , 5, 10], 'class_weight' : [None, 'balanced']},\n",
    "                    {'pca__n_components': [1, 2, 3, 4],\n",
    "                        'logistic__C': [0.01, 0.05, 0.1, 0.5, 1, 2, 3, 4 , 5, 10], 'logistic__class_weight' : [None, 'balanced']},\n",
    "                    {'n_neighbors': [4, 5, 6, 7, 8, 9, 10, 11, 12,  15, 20], 'weights' : ['uniform', 'distance'], 'p': [1, 2]},\n",
    "                    {'pca__n_components': [1, 2, 3, 4],\n",
    "                        'knn__n_neighbors': [4, 5, 6, 7, 8, 9, 10, 11, 12,  15, 20], 'knn__weights' : ['uniform', 'distance'],                              'knn__p': [1, 2]},\n",
    "                    {'n_estimators': [50, 100, 150, 200], 'max_depth':[3, 4, 5, 6, 10, 15, 20], 'class_weight':[None,'balanced']}\n",
    "                    ]\n",
    "\n",
    "groups = X.reset_index()['video_name']\n",
    "loo = LeaveOneGroupOut()\n",
    "cv_loo = loo.split(X, y, groups)"
   ]
  },
  {
   "cell_type": "code",
   "execution_count": 221,
   "metadata": {},
   "outputs": [
    {
     "output_type": "stream",
     "name": "stdout",
     "text": [
      "Fitting 5 folds for each of 20 candidates, totalling 100 fits\n",
      "[Parallel(n_jobs=-1)]: Using backend LokyBackend with 8 concurrent workers.\n",
      "[Parallel(n_jobs=-1)]: Done  56 tasks      | elapsed:    0.4s\n",
      "[Parallel(n_jobs=-1)]: Done  85 out of 100 | elapsed:    0.6s remaining:    0.1s\n",
      "[Parallel(n_jobs=-1)]: Done 100 out of 100 | elapsed:    0.7s finished\n",
      "[Parallel(n_jobs=-1)]: Using backend LokyBackend with 8 concurrent workers.\n",
      "Best estimator LogisticRegression(C=10, multi_class='multinomial', random_state=42)\n",
      "Best results 0.4344444444444445\n",
      "Best params {'C': 10, 'class_weight': None}\n",
      "accuracy (mean, std) 0.4333333333333333 0.13333333333333333\n",
      "f1 (mean, std) 0.4344444444444445 0.11223872265932792\n",
      "balanced accuracy (mean, std) 0.4333333333333333 0.12372809695177825\n",
      "precision (mean, std) 0.5055555555555556 0.12717247935843998\n",
      "recall (mean, std) 0.4333333333333333 0.13333333333333333\n",
      "\n",
      "Fitting 5 folds for each of 80 candidates, totalling 400 fits\n",
      "[Parallel(n_jobs=-1)]: Done  56 tasks      | elapsed:    0.5s\n",
      "[Parallel(n_jobs=-1)]: Done 400 out of 400 | elapsed:    2.0s finished\n",
      "[Parallel(n_jobs=-1)]: Using backend LokyBackend with 8 concurrent workers.\n",
      "Best estimator Pipeline(steps=[('pca', PCA(n_components=1)),\n",
      "                ('logistic',\n",
      "                 LogisticRegression(C=0.5, multi_class='multinomial'))])\n",
      "Best results 0.45087301587301587\n",
      "Best params {'logistic__C': 0.5, 'logistic__class_weight': None, 'pca__n_components': 1}\n",
      "accuracy (mean, std) 0.5333333333333333 0.19436506316151\n",
      "f1 (mean, std) 0.45087301587301587 0.18294923000902993\n",
      "balanced accuracy (mean, std) 0.4777777777777777 0.1670366264263656\n",
      "precision (mean, std) 0.43666666666666665 0.1890064993330215\n",
      "recall (mean, std) 0.5333333333333333 0.19436506316151\n",
      "\n",
      "Fitting 5 folds for each of 44 candidates, totalling 220 fits\n",
      "[Parallel(n_jobs=-1)]: Done  56 tasks      | elapsed:    0.2s\n",
      "[Parallel(n_jobs=-1)]: Done 220 out of 220 | elapsed:    0.6s finished\n",
      "[Parallel(n_jobs=-1)]: Using backend LokyBackend with 8 concurrent workers.\n",
      "Best estimator KNeighborsClassifier(n_neighbors=7, p=1)\n",
      "Best results 0.43968253968253973\n",
      "Best params {'n_neighbors': 7, 'p': 1, 'weights': 'uniform'}\n",
      "accuracy (mean, std) 0.5 0.21081851067789198\n",
      "f1 (mean, std) 0.43968253968253973 0.21435037237326723\n",
      "balanced accuracy (mean, std) 0.4444444444444445 0.16480441082434805\n",
      "precision (mean, std) 0.43833333333333335 0.22221111083331946\n",
      "recall (mean, std) 0.5 0.21081851067789198\n",
      "\n",
      "Fitting 5 folds for each of 176 candidates, totalling 880 fits\n",
      "[Parallel(n_jobs=-1)]: Done  56 tasks      | elapsed:    0.3s\n",
      "[Parallel(n_jobs=-1)]: Done 880 out of 880 | elapsed:    2.5s finished\n",
      "[Parallel(n_jobs=-1)]: Using backend LokyBackend with 8 concurrent workers.\n",
      "Best estimator Pipeline(steps=[('pca', PCA(n_components=2)),\n",
      "                ('knn', KNeighborsClassifier(n_neighbors=6, p=1))])\n",
      "Best results 0.44761904761904764\n",
      "Best params {'knn__n_neighbors': 6, 'knn__p': 1, 'knn__weights': 'uniform', 'pca__n_components': 2}\n",
      "accuracy (mean, std) 0.5333333333333334 0.19436506316151\n",
      "f1 (mean, std) 0.44761904761904764 0.2333711231681156\n",
      "balanced accuracy (mean, std) 0.4666666666666666 0.1247219128924647\n",
      "precision (mean, std) 0.4366666666666667 0.25909028885270435\n",
      "recall (mean, std) 0.5333333333333334 0.19436506316151\n",
      "\n",
      "Fitting 5 folds for each of 56 candidates, totalling 280 fits\n",
      "[Parallel(n_jobs=-1)]: Done  34 tasks      | elapsed:    2.1s\n",
      "[Parallel(n_jobs=-1)]: Done 184 tasks      | elapsed:   11.6s\n",
      "Best estimator RandomForestClassifier(max_depth=5, n_estimators=50, n_jobs=-1, random_state=42)\n",
      "Best results 0.4303174603174603\n",
      "Best params {'class_weight': None, 'max_depth': 5, 'n_estimators': 50}\n",
      "accuracy (mean, std) 0.4666666666666666 0.06666666666666668\n",
      "f1 (mean, std) 0.4303174603174603 0.11571896696172516\n",
      "balanced accuracy (mean, std) 0.4333333333333333 0.06478835438717001\n",
      "precision (mean, std) 0.5044444444444445 0.1945682145764225\n",
      "recall (mean, std) 0.4666666666666666 0.06666666666666668\n",
      "\n",
      "f1_score (weighted) 0.4605263157894737\n",
      "accuracy 0.5333333333333333\n",
      "[Parallel(n_jobs=-1)]: Done 280 out of 280 | elapsed:   17.5s finished\n"
     ]
    }
   ],
   "source": [
    "best_result, y_predict, y_predict_proba, result_list = runGridSearchClassifiers(X, y, 5, models_list, parameters_list, \n",
    "                                                                output_predict=True, n_jobs=-1, verbose=True)"
   ]
  },
  {
   "cell_type": "code",
   "execution_count": 222,
   "metadata": {},
   "outputs": [
    {
     "output_type": "execute_result",
     "data": {
      "text/plain": [
       "{'best_estimator': Pipeline(steps=[('pca', PCA(n_components=1)),\n",
       "                 ('logistic',\n",
       "                  LogisticRegression(C=0.5, multi_class='multinomial'))]),\n",
       " 'best_score': 0.45087301587301587,\n",
       " 'best_params': {'logistic__C': 0.5,\n",
       "  'logistic__class_weight': None,\n",
       "  'pca__n_components': 1},\n",
       " 'mean_test_f1_score': 0.45087301587301587,\n",
       " 'std_test_f1_score': 0.18294923000902993,\n",
       " 'mean_test_accuracy_score': 0.5333333333333333,\n",
       " 'std_test_accuracy_score': 0.19436506316151,\n",
       " 'mean_test_balanced_accuracy_score': 0.4777777777777777,\n",
       " 'std_test_balanced_accuracy_score': 0.1670366264263656,\n",
       " 'mean_test_precision': 0.43666666666666665,\n",
       " 'std_test_precision': 0.1890064993330215,\n",
       " 'mean_test_recall': 0.5333333333333333,\n",
       " 'std_test_recall': 0.19436506316151}"
      ]
     },
     "metadata": {},
     "execution_count": 222
    }
   ],
   "source": [
    "best_result"
   ]
  },
  {
   "cell_type": "code",
   "execution_count": null,
   "metadata": {},
   "outputs": [],
   "source": []
  },
  {
   "cell_type": "code",
   "execution_count": null,
   "metadata": {},
   "outputs": [],
   "source": []
  }
 ],
 "metadata": {
  "interpreter": {
   "hash": "148f6ed9de8dadedbbd96ef8a7e818f87aaafab3c59f5306aa9910b4f09c5b3f"
  },
  "kernelspec": {
   "name": "python3",
   "display_name": "Python 3.8.5 64-bit ('base': conda)"
  },
  "language_info": {
   "codemirror_mode": {
    "name": "ipython",
    "version": 3
   },
   "file_extension": ".py",
   "mimetype": "text/x-python",
   "name": "python",
   "nbconvert_exporter": "python",
   "pygments_lexer": "ipython3",
   "version": "3.8.5"
  },
  "metadata": {
   "interpreter": {
    "hash": "148f6ed9de8dadedbbd96ef8a7e818f87aaafab3c59f5306aa9910b4f09c5b3f"
   }
  }
 },
 "nbformat": 4,
 "nbformat_minor": 2
}